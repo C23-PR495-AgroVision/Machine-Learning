{
 "cells": [
  {
   "attachments": {},
   "cell_type": "markdown",
   "metadata": {},
   "source": [
    "# Library"
   ]
  },
  {
   "cell_type": "code",
   "execution_count": 1,
   "metadata": {},
   "outputs": [],
   "source": [
    "# Library to dataset\n",
    "import opendatasets as od\n",
    "import os\n",
    "import zipfile\n",
    "import numpy as np\n",
    "\n",
    "# Surpress Warnings\n",
    "import warnings\n",
    "warnings.filterwarnings('ignore')\n",
    "os.environ['TF_CPP_MIN_LOG_LEVEL'] = '3' \n",
    "# library visualization\n",
    "import matplotlib.pyplot as plt\n",
    "\n",
    "# Library Tensorflow\n",
    "import tensorflow as tf\n",
    "from tensorflow import keras\n",
    "from tensorflow.keras.preprocessing.image import ImageDataGenerator\n",
    "from tensorflow.keras.callbacks import ModelCheckpoint, EarlyStopping, ReduceLROnPlateau\n",
    "from tensorflow.keras.applications.densenet import DenseNet121\n",
    "from tensorflow.keras.applications.xception import Xception\n",
    "from tensorflow.keras.applications.mobilenet_v2 import MobileNetV2\n",
    "\n",
    "# Others\n",
    "import shutil\n",
    "import random"
   ]
  },
  {
   "attachments": {},
   "cell_type": "markdown",
   "metadata": {},
   "source": [
    "# Dataset"
   ]
  },
  {
   "cell_type": "code",
   "execution_count": 2,
   "metadata": {},
   "outputs": [
    {
     "name": "stdout",
     "output_type": "stream",
     "text": [
      "==========================Training Data====================\n",
      "Found 1611 files belonging to 5 classes.\n",
      "==========================Validation Data====================\n",
      "Found 601 files belonging to 5 classes.\n"
     ]
    }
   ],
   "source": [
    "# Load dataset\n",
    "print(\"==========================Training Data====================\")\n",
    "train_data = tf.keras.preprocessing.image_dataset_from_directory(\n",
    "    \"Vegetable Ripeness/Dataset/Chile Pepper/train\",\n",
    "    label_mode=\"categorical\",\n",
    "    class_names= ['damaged','dried','old','ripe','unripe'],\n",
    "    color_mode=\"rgb\",\n",
    "    batch_size=10,\n",
    "    image_size=(256, 256),\n",
    "    shuffle=True,\n",
    "    seed=123\n",
    ")\n",
    "print(\"==========================Validation Data====================\")\n",
    "val_data = tf.keras.preprocessing.image_dataset_from_directory(\n",
    "    \"Vegetable Ripeness/Dataset/Chile Pepper/valid\",\n",
    "    label_mode=\"categorical\",\n",
    "    class_names= ['damaged','dried','old','ripe','unripe'],\n",
    "    color_mode=\"rgb\",\n",
    "    batch_size=10,\n",
    "    image_size=(256, 256),\n",
    "    shuffle=True,\n",
    "    seed=123\n",
    ")"
   ]
  },
  {
   "cell_type": "code",
   "execution_count": 3,
   "metadata": {},
   "outputs": [
    {
     "name": "stdout",
     "output_type": "stream",
     "text": [
      "Found 1611 images belonging to 5 classes.\n",
      "Found 601 images belonging to 5 classes.\n"
     ]
    }
   ],
   "source": [
    "# All images will be rescaled by 1./255.\n",
    "train_datagen = ImageDataGenerator(rescale = 1.0/256.)\n",
    "test_datagen  = ImageDataGenerator(rescale = 1.0/256.)\n",
    "\n",
    "# --------------------\n",
    "# Flow training images in batches of 10 using train_datagen generator\n",
    "# --------------------\n",
    "train_generator = train_datagen.flow_from_directory(\"Vegetable Ripeness/Dataset/Chile Pepper/train\",\n",
    "                                                    batch_size=10,\n",
    "                                                    class_mode='categorical',\n",
    "                                                    target_size=(224, 224))     \n",
    "# --------------------\n",
    "# Flow validation images in batches of 10 using test_datagen generator\n",
    "# --------------------\n",
    "validation_generator =  test_datagen.flow_from_directory(\"Vegetable Ripeness/Dataset/Chile Pepper/valid\",\n",
    "                                                         batch_size=10,\n",
    "                                                         class_mode  = 'categorical',\n",
    "                                                         target_size = (224, 224))"
   ]
  },
  {
   "attachments": {},
   "cell_type": "markdown",
   "metadata": {},
   "source": [
    "# DenseNet 1"
   ]
  },
  {
   "cell_type": "code",
   "execution_count": 4,
   "metadata": {},
   "outputs": [],
   "source": [
    "# Difine the callbacks\n",
    "# Save the best model\n",
    "checkpoint_callback = ModelCheckpoint(filepath=\"ChilePaper_DenseNet_model\", save_best_only=True, monitor=\"val_accuracy\", mode=\"max\", verbose=1)\n",
    "\n",
    "# Early stopping\n",
    "early_stopping_callback = EarlyStopping(monitor=\"val_accuracy\", mode=\"max\", patience=20, verbose=1, restore_best_weights=True)\n",
    "\n",
    "# Reduce learning rate\n",
    "reduce_lr_callback = ReduceLROnPlateau(monitor=\"val_loss\", factor=0.1, patience=5, verbose=1, mode=\"min\", min_delta=0.0001, cooldown=0, min_lr=0)\n",
    "\n",
    "# Callbacks list\n",
    "callbacks=[checkpoint_callback, early_stopping_callback, reduce_lr_callback]"
   ]
  },
  {
   "cell_type": "code",
   "execution_count": 5,
   "metadata": {},
   "outputs": [
    {
     "name": "stdout",
     "output_type": "stream",
     "text": [
      "Model: \"sequential\"\n",
      "_________________________________________________________________\n",
      " Layer (type)                Output Shape              Param #   \n",
      "=================================================================\n",
      " densenet121 (Functional)    (None, 7, 7, 1024)        7037504   \n",
      "                                                                 \n",
      " global_max_pooling2d (Globa  (None, 1024)             0         \n",
      " lMaxPooling2D)                                                  \n",
      "                                                                 \n",
      " dropout (Dropout)           (None, 1024)              0         \n",
      "                                                                 \n",
      " dense (Dense)               (None, 256)               262400    \n",
      "                                                                 \n",
      " dense_1 (Dense)             (None, 5)                 1285      \n",
      "                                                                 \n",
      "=================================================================\n",
      "Total params: 7,301,189\n",
      "Trainable params: 263,685\n",
      "Non-trainable params: 7,037,504\n",
      "_________________________________________________________________\n"
     ]
    }
   ],
   "source": [
    "# Define DIY Model\n",
    "DenseNet121_model = tf.keras.models.Sequential([\n",
    "    # DenseNet121 Layer\n",
    "    DenseNet121(include_top=False,weights='imagenet',input_shape=(224, 224, 3)),\n",
    "    # Global Max Pooling Layer\n",
    "    tf.keras.layers.GlobalMaxPooling2D(),\n",
    "    # Drop Out Layer\n",
    "    tf.keras.layers.Dropout(0.2),\n",
    "    # 256 neuron hidden layer\n",
    "    tf.keras.layers.Dense(256, activation='relu'),\n",
    "    # Output\n",
    "    tf.keras.layers.Dense(5, activation='softmax') \n",
    "  ])\n",
    "DenseNet121_model.layers[0].trainable = False\n",
    "\n",
    "# Compile Model\n",
    "DenseNet121_model.compile(loss='categorical_crossentropy',optimizer=tf.keras.optimizers.Adam(), metrics=['accuracy']) \n",
    "\n",
    "# Model Summary\n",
    "DenseNet121_model.summary()"
   ]
  },
  {
   "cell_type": "code",
   "execution_count": 6,
   "metadata": {},
   "outputs": [
    {
     "name": "stdout",
     "output_type": "stream",
     "text": [
      "Epoch 1/100\n",
      "162/162 [==============================] - ETA: 0s - loss: 1.2551 - accuracy: 0.7027\n",
      "Epoch 1: val_accuracy improved from -inf to 0.83527, saving model to ChilePaper_DenseNet_model\n"
     ]
    },
    {
     "name": "stderr",
     "output_type": "stream",
     "text": [
      "WARNING:absl:Found untraced functions such as _jit_compiled_convolution_op, _jit_compiled_convolution_op, _jit_compiled_convolution_op, _jit_compiled_convolution_op, _jit_compiled_convolution_op while saving (showing 5 of 120). These functions will not be directly callable after loading.\n"
     ]
    },
    {
     "name": "stdout",
     "output_type": "stream",
     "text": [
      "INFO:tensorflow:Assets written to: ChilePaper_DenseNet_model\\assets\n"
     ]
    },
    {
     "name": "stderr",
     "output_type": "stream",
     "text": [
      "INFO:tensorflow:Assets written to: ChilePaper_DenseNet_model\\assets\n"
     ]
    },
    {
     "name": "stdout",
     "output_type": "stream",
     "text": [
      "162/162 [==============================] - 50s 261ms/step - loss: 1.2551 - accuracy: 0.7027 - val_loss: 0.3938 - val_accuracy: 0.8353 - lr: 0.0010\n",
      "Epoch 2/100\n",
      "162/162 [==============================] - ETA: 0s - loss: 0.5068 - accuracy: 0.8330\n",
      "Epoch 2: val_accuracy improved from 0.83527 to 0.87354, saving model to ChilePaper_DenseNet_model\n"
     ]
    },
    {
     "name": "stderr",
     "output_type": "stream",
     "text": [
      "WARNING:absl:Found untraced functions such as _jit_compiled_convolution_op, _jit_compiled_convolution_op, _jit_compiled_convolution_op, _jit_compiled_convolution_op, _jit_compiled_convolution_op while saving (showing 5 of 120). These functions will not be directly callable after loading.\n"
     ]
    },
    {
     "name": "stdout",
     "output_type": "stream",
     "text": [
      "INFO:tensorflow:Assets written to: ChilePaper_DenseNet_model\\assets\n"
     ]
    },
    {
     "name": "stderr",
     "output_type": "stream",
     "text": [
      "INFO:tensorflow:Assets written to: ChilePaper_DenseNet_model\\assets\n"
     ]
    },
    {
     "name": "stdout",
     "output_type": "stream",
     "text": [
      "162/162 [==============================] - 40s 247ms/step - loss: 0.5068 - accuracy: 0.8330 - val_loss: 0.3307 - val_accuracy: 0.8735 - lr: 0.0010\n",
      "Epoch 3/100\n",
      "162/162 [==============================] - ETA: 0s - loss: 0.4828 - accuracy: 0.8330\n",
      "Epoch 3: val_accuracy did not improve from 0.87354\n",
      "162/162 [==============================] - 7s 40ms/step - loss: 0.4828 - accuracy: 0.8330 - val_loss: 0.3417 - val_accuracy: 0.8569 - lr: 0.0010\n",
      "Epoch 4/100\n",
      "162/162 [==============================] - ETA: 0s - loss: 0.3092 - accuracy: 0.8901\n",
      "Epoch 4: val_accuracy did not improve from 0.87354\n",
      "162/162 [==============================] - 7s 40ms/step - loss: 0.3092 - accuracy: 0.8901 - val_loss: 0.4379 - val_accuracy: 0.8186 - lr: 0.0010\n",
      "Epoch 5/100\n",
      "161/162 [============================>.] - ETA: 0s - loss: 0.3086 - accuracy: 0.8851\n",
      "Epoch 5: val_accuracy improved from 0.87354 to 0.89185, saving model to ChilePaper_DenseNet_model\n"
     ]
    },
    {
     "name": "stderr",
     "output_type": "stream",
     "text": [
      "WARNING:absl:Found untraced functions such as _jit_compiled_convolution_op, _jit_compiled_convolution_op, _jit_compiled_convolution_op, _jit_compiled_convolution_op, _jit_compiled_convolution_op while saving (showing 5 of 120). These functions will not be directly callable after loading.\n"
     ]
    },
    {
     "name": "stdout",
     "output_type": "stream",
     "text": [
      "INFO:tensorflow:Assets written to: ChilePaper_DenseNet_model\\assets\n"
     ]
    },
    {
     "name": "stderr",
     "output_type": "stream",
     "text": [
      "INFO:tensorflow:Assets written to: ChilePaper_DenseNet_model\\assets\n"
     ]
    },
    {
     "name": "stdout",
     "output_type": "stream",
     "text": [
      "162/162 [==============================] - 40s 248ms/step - loss: 0.3079 - accuracy: 0.8852 - val_loss: 0.2841 - val_accuracy: 0.8918 - lr: 0.0010\n",
      "Epoch 6/100\n",
      "161/162 [============================>.] - ETA: 0s - loss: 0.2691 - accuracy: 0.8969\n",
      "Epoch 6: val_accuracy improved from 0.89185 to 0.89517, saving model to ChilePaper_DenseNet_model\n"
     ]
    },
    {
     "name": "stderr",
     "output_type": "stream",
     "text": [
      "WARNING:absl:Found untraced functions such as _jit_compiled_convolution_op, _jit_compiled_convolution_op, _jit_compiled_convolution_op, _jit_compiled_convolution_op, _jit_compiled_convolution_op while saving (showing 5 of 120). These functions will not be directly callable after loading.\n"
     ]
    },
    {
     "name": "stdout",
     "output_type": "stream",
     "text": [
      "INFO:tensorflow:Assets written to: ChilePaper_DenseNet_model\\assets\n"
     ]
    },
    {
     "name": "stderr",
     "output_type": "stream",
     "text": [
      "INFO:tensorflow:Assets written to: ChilePaper_DenseNet_model\\assets\n"
     ]
    },
    {
     "name": "stdout",
     "output_type": "stream",
     "text": [
      "162/162 [==============================] - 41s 255ms/step - loss: 0.2712 - accuracy: 0.8957 - val_loss: 0.3561 - val_accuracy: 0.8952 - lr: 0.0010\n",
      "Epoch 7/100\n",
      "161/162 [============================>.] - ETA: 0s - loss: 0.2402 - accuracy: 0.9107\n",
      "Epoch 7: val_accuracy improved from 0.89517 to 0.91681, saving model to ChilePaper_DenseNet_model\n"
     ]
    },
    {
     "name": "stderr",
     "output_type": "stream",
     "text": [
      "WARNING:absl:Found untraced functions such as _jit_compiled_convolution_op, _jit_compiled_convolution_op, _jit_compiled_convolution_op, _jit_compiled_convolution_op, _jit_compiled_convolution_op while saving (showing 5 of 120). These functions will not be directly callable after loading.\n"
     ]
    },
    {
     "name": "stdout",
     "output_type": "stream",
     "text": [
      "INFO:tensorflow:Assets written to: ChilePaper_DenseNet_model\\assets\n"
     ]
    },
    {
     "name": "stderr",
     "output_type": "stream",
     "text": [
      "INFO:tensorflow:Assets written to: ChilePaper_DenseNet_model\\assets\n"
     ]
    },
    {
     "name": "stdout",
     "output_type": "stream",
     "text": [
      "162/162 [==============================] - 43s 264ms/step - loss: 0.2388 - accuracy: 0.9112 - val_loss: 0.2361 - val_accuracy: 0.9168 - lr: 0.0010\n",
      "Epoch 8/100\n",
      "162/162 [==============================] - ETA: 0s - loss: 0.1958 - accuracy: 0.9317\n",
      "Epoch 8: val_accuracy did not improve from 0.91681\n",
      "162/162 [==============================] - 7s 41ms/step - loss: 0.1958 - accuracy: 0.9317 - val_loss: 0.2918 - val_accuracy: 0.8935 - lr: 0.0010\n",
      "Epoch 9/100\n",
      "161/162 [============================>.] - ETA: 0s - loss: 0.2186 - accuracy: 0.9225\n",
      "Epoch 9: val_accuracy did not improve from 0.91681\n",
      "162/162 [==============================] - 7s 42ms/step - loss: 0.2231 - accuracy: 0.9218 - val_loss: 0.3433 - val_accuracy: 0.9101 - lr: 0.0010\n",
      "Epoch 10/100\n",
      "161/162 [============================>.] - ETA: 0s - loss: 0.2042 - accuracy: 0.9257\n",
      "Epoch 10: val_accuracy did not improve from 0.91681\n",
      "162/162 [==============================] - 7s 42ms/step - loss: 0.2070 - accuracy: 0.9249 - val_loss: 0.2890 - val_accuracy: 0.9002 - lr: 0.0010\n",
      "Epoch 11/100\n",
      "161/162 [============================>.] - ETA: 0s - loss: 0.1918 - accuracy: 0.9257\n",
      "Epoch 11: val_accuracy did not improve from 0.91681\n",
      "162/162 [==============================] - 7s 41ms/step - loss: 0.1920 - accuracy: 0.9255 - val_loss: 0.3170 - val_accuracy: 0.9035 - lr: 0.0010\n",
      "Epoch 12/100\n",
      "161/162 [============================>.] - ETA: 0s - loss: 0.1781 - accuracy: 0.9350\n",
      "Epoch 12: val_accuracy improved from 0.91681 to 0.92346, saving model to ChilePaper_DenseNet_model\n"
     ]
    },
    {
     "name": "stderr",
     "output_type": "stream",
     "text": [
      "WARNING:absl:Found untraced functions such as _jit_compiled_convolution_op, _jit_compiled_convolution_op, _jit_compiled_convolution_op, _jit_compiled_convolution_op, _jit_compiled_convolution_op while saving (showing 5 of 120). These functions will not be directly callable after loading.\n"
     ]
    },
    {
     "name": "stdout",
     "output_type": "stream",
     "text": [
      "INFO:tensorflow:Assets written to: ChilePaper_DenseNet_model\\assets\n"
     ]
    },
    {
     "name": "stderr",
     "output_type": "stream",
     "text": [
      "INFO:tensorflow:Assets written to: ChilePaper_DenseNet_model\\assets\n"
     ]
    },
    {
     "name": "stdout",
     "output_type": "stream",
     "text": [
      "162/162 [==============================] - 44s 275ms/step - loss: 0.1773 - accuracy: 0.9354 - val_loss: 0.2347 - val_accuracy: 0.9235 - lr: 0.0010\n",
      "Epoch 13/100\n",
      "161/162 [============================>.] - ETA: 0s - loss: 0.1679 - accuracy: 0.9319\n",
      "Epoch 13: val_accuracy did not improve from 0.92346\n",
      "162/162 [==============================] - 7s 42ms/step - loss: 0.1700 - accuracy: 0.9311 - val_loss: 0.2987 - val_accuracy: 0.8869 - lr: 0.0010\n",
      "Epoch 14/100\n",
      "162/162 [==============================] - ETA: 0s - loss: 0.1473 - accuracy: 0.9410\n",
      "Epoch 14: val_accuracy did not improve from 0.92346\n",
      "162/162 [==============================] - 7s 41ms/step - loss: 0.1473 - accuracy: 0.9410 - val_loss: 0.2242 - val_accuracy: 0.9235 - lr: 0.0010\n",
      "Epoch 15/100\n",
      "162/162 [==============================] - ETA: 0s - loss: 0.1589 - accuracy: 0.9398\n",
      "Epoch 15: val_accuracy did not improve from 0.92346\n",
      "162/162 [==============================] - 7s 41ms/step - loss: 0.1589 - accuracy: 0.9398 - val_loss: 0.2906 - val_accuracy: 0.9118 - lr: 0.0010\n",
      "Epoch 16/100\n",
      "162/162 [==============================] - ETA: 0s - loss: 0.1583 - accuracy: 0.9423\n",
      "Epoch 16: val_accuracy did not improve from 0.92346\n",
      "162/162 [==============================] - 7s 42ms/step - loss: 0.1583 - accuracy: 0.9423 - val_loss: 0.2362 - val_accuracy: 0.9218 - lr: 0.0010\n",
      "Epoch 17/100\n",
      "161/162 [============================>.] - ETA: 0s - loss: 0.1608 - accuracy: 0.9388\n",
      "Epoch 17: val_accuracy did not improve from 0.92346\n",
      "162/162 [==============================] - 7s 42ms/step - loss: 0.1609 - accuracy: 0.9385 - val_loss: 0.2331 - val_accuracy: 0.9151 - lr: 0.0010\n",
      "Epoch 18/100\n",
      "161/162 [============================>.] - ETA: 0s - loss: 0.1671 - accuracy: 0.9338\n",
      "Epoch 18: val_accuracy did not improve from 0.92346\n",
      "162/162 [==============================] - 7s 42ms/step - loss: 0.1681 - accuracy: 0.9336 - val_loss: 0.3193 - val_accuracy: 0.8952 - lr: 0.0010\n",
      "Epoch 19/100\n",
      "161/162 [============================>.] - ETA: 0s - loss: 0.1759 - accuracy: 0.9357\n",
      "Epoch 19: val_accuracy did not improve from 0.92346\n",
      "\n",
      "Epoch 19: ReduceLROnPlateau reducing learning rate to 0.00010000000474974513.\n",
      "162/162 [==============================] - 7s 42ms/step - loss: 0.1759 - accuracy: 0.9354 - val_loss: 0.2750 - val_accuracy: 0.9118 - lr: 0.0010\n",
      "Epoch 20/100\n",
      "162/162 [==============================] - ETA: 0s - loss: 0.1034 - accuracy: 0.9652\n",
      "Epoch 20: val_accuracy improved from 0.92346 to 0.93844, saving model to ChilePaper_DenseNet_model\n"
     ]
    },
    {
     "name": "stderr",
     "output_type": "stream",
     "text": [
      "WARNING:absl:Found untraced functions such as _jit_compiled_convolution_op, _jit_compiled_convolution_op, _jit_compiled_convolution_op, _jit_compiled_convolution_op, _jit_compiled_convolution_op while saving (showing 5 of 120). These functions will not be directly callable after loading.\n"
     ]
    },
    {
     "name": "stdout",
     "output_type": "stream",
     "text": [
      "INFO:tensorflow:Assets written to: ChilePaper_DenseNet_model\\assets\n"
     ]
    },
    {
     "name": "stderr",
     "output_type": "stream",
     "text": [
      "INFO:tensorflow:Assets written to: ChilePaper_DenseNet_model\\assets\n"
     ]
    },
    {
     "name": "stdout",
     "output_type": "stream",
     "text": [
      "162/162 [==============================] - 41s 256ms/step - loss: 0.1034 - accuracy: 0.9652 - val_loss: 0.2054 - val_accuracy: 0.9384 - lr: 1.0000e-04\n",
      "Epoch 21/100\n",
      "162/162 [==============================] - ETA: 0s - loss: 0.0765 - accuracy: 0.9727\n",
      "Epoch 21: val_accuracy did not improve from 0.93844\n",
      "162/162 [==============================] - 7s 41ms/step - loss: 0.0765 - accuracy: 0.9727 - val_loss: 0.1973 - val_accuracy: 0.9368 - lr: 1.0000e-04\n",
      "Epoch 22/100\n",
      "162/162 [==============================] - ETA: 0s - loss: 0.0776 - accuracy: 0.9721\n",
      "Epoch 22: val_accuracy did not improve from 0.93844\n",
      "162/162 [==============================] - 7s 41ms/step - loss: 0.0776 - accuracy: 0.9721 - val_loss: 0.1966 - val_accuracy: 0.9351 - lr: 1.0000e-04\n",
      "Epoch 23/100\n",
      "161/162 [============================>.] - ETA: 0s - loss: 0.0769 - accuracy: 0.9694\n",
      "Epoch 23: val_accuracy did not improve from 0.93844\n",
      "162/162 [==============================] - 7s 41ms/step - loss: 0.0770 - accuracy: 0.9696 - val_loss: 0.1909 - val_accuracy: 0.9384 - lr: 1.0000e-04\n",
      "Epoch 24/100\n",
      "162/162 [==============================] - ETA: 0s - loss: 0.0811 - accuracy: 0.9708\n",
      "Epoch 24: val_accuracy did not improve from 0.93844\n",
      "162/162 [==============================] - 7s 41ms/step - loss: 0.0811 - accuracy: 0.9708 - val_loss: 0.1873 - val_accuracy: 0.9368 - lr: 1.0000e-04\n",
      "Epoch 25/100\n",
      "161/162 [============================>.] - ETA: 0s - loss: 0.0512 - accuracy: 0.9838\n",
      "Epoch 25: val_accuracy improved from 0.93844 to 0.94842, saving model to ChilePaper_DenseNet_model\n"
     ]
    },
    {
     "name": "stderr",
     "output_type": "stream",
     "text": [
      "WARNING:absl:Found untraced functions such as _jit_compiled_convolution_op, _jit_compiled_convolution_op, _jit_compiled_convolution_op, _jit_compiled_convolution_op, _jit_compiled_convolution_op while saving (showing 5 of 120). These functions will not be directly callable after loading.\n"
     ]
    },
    {
     "name": "stdout",
     "output_type": "stream",
     "text": [
      "INFO:tensorflow:Assets written to: ChilePaper_DenseNet_model\\assets\n"
     ]
    },
    {
     "name": "stderr",
     "output_type": "stream",
     "text": [
      "INFO:tensorflow:Assets written to: ChilePaper_DenseNet_model\\assets\n"
     ]
    },
    {
     "name": "stdout",
     "output_type": "stream",
     "text": [
      "162/162 [==============================] - 41s 256ms/step - loss: 0.0510 - accuracy: 0.9839 - val_loss: 0.1851 - val_accuracy: 0.9484 - lr: 1.0000e-04\n",
      "Epoch 26/100\n",
      "162/162 [==============================] - ETA: 0s - loss: 0.0752 - accuracy: 0.9727\n",
      "Epoch 26: val_accuracy did not improve from 0.94842\n",
      "162/162 [==============================] - 7s 41ms/step - loss: 0.0752 - accuracy: 0.9727 - val_loss: 0.1915 - val_accuracy: 0.9384 - lr: 1.0000e-04\n",
      "Epoch 27/100\n",
      "162/162 [==============================] - ETA: 0s - loss: 0.0726 - accuracy: 0.9702\n",
      "Epoch 27: val_accuracy did not improve from 0.94842\n",
      "162/162 [==============================] - 7s 42ms/step - loss: 0.0726 - accuracy: 0.9702 - val_loss: 0.1854 - val_accuracy: 0.9451 - lr: 1.0000e-04\n",
      "Epoch 28/100\n",
      "161/162 [============================>.] - ETA: 0s - loss: 0.0714 - accuracy: 0.9725\n",
      "Epoch 28: val_accuracy did not improve from 0.94842\n",
      "162/162 [==============================] - 7s 42ms/step - loss: 0.0710 - accuracy: 0.9727 - val_loss: 0.2021 - val_accuracy: 0.9401 - lr: 1.0000e-04\n",
      "Epoch 29/100\n",
      "161/162 [============================>.] - ETA: 0s - loss: 0.0750 - accuracy: 0.9725\n",
      "Epoch 29: val_accuracy did not improve from 0.94842\n",
      "162/162 [==============================] - 7s 43ms/step - loss: 0.0746 - accuracy: 0.9727 - val_loss: 0.1818 - val_accuracy: 0.9451 - lr: 1.0000e-04\n",
      "Epoch 30/100\n",
      "162/162 [==============================] - ETA: 0s - loss: 0.0649 - accuracy: 0.9739\n",
      "Epoch 30: val_accuracy did not improve from 0.94842\n",
      "162/162 [==============================] - 7s 41ms/step - loss: 0.0649 - accuracy: 0.9739 - val_loss: 0.2064 - val_accuracy: 0.9318 - lr: 1.0000e-04\n",
      "Epoch 31/100\n",
      "161/162 [============================>.] - ETA: 0s - loss: 0.0566 - accuracy: 0.9813\n",
      "Epoch 31: val_accuracy did not improve from 0.94842\n",
      "162/162 [==============================] - 7s 41ms/step - loss: 0.0563 - accuracy: 0.9814 - val_loss: 0.1913 - val_accuracy: 0.9434 - lr: 1.0000e-04\n",
      "Epoch 32/100\n",
      "161/162 [============================>.] - ETA: 0s - loss: 0.0566 - accuracy: 0.9819\n",
      "Epoch 32: val_accuracy did not improve from 0.94842\n",
      "162/162 [==============================] - 7s 41ms/step - loss: 0.0563 - accuracy: 0.9820 - val_loss: 0.2042 - val_accuracy: 0.9401 - lr: 1.0000e-04\n",
      "Epoch 33/100\n",
      "161/162 [============================>.] - ETA: 0s - loss: 0.0693 - accuracy: 0.9763\n",
      "Epoch 33: val_accuracy did not improve from 0.94842\n",
      "162/162 [==============================] - 7s 41ms/step - loss: 0.0690 - accuracy: 0.9764 - val_loss: 0.1951 - val_accuracy: 0.9384 - lr: 1.0000e-04\n",
      "Epoch 34/100\n",
      "161/162 [============================>.] - ETA: 0s - loss: 0.0518 - accuracy: 0.9819\n",
      "Epoch 34: val_accuracy did not improve from 0.94842\n",
      "\n",
      "Epoch 34: ReduceLROnPlateau reducing learning rate to 1.0000000474974514e-05.\n",
      "162/162 [==============================] - 7s 41ms/step - loss: 0.0516 - accuracy: 0.9820 - val_loss: 0.1902 - val_accuracy: 0.9434 - lr: 1.0000e-04\n",
      "Epoch 35/100\n",
      "162/162 [==============================] - ETA: 0s - loss: 0.0560 - accuracy: 0.9770\n",
      "Epoch 35: val_accuracy did not improve from 0.94842\n",
      "162/162 [==============================] - 7s 41ms/step - loss: 0.0560 - accuracy: 0.9770 - val_loss: 0.1974 - val_accuracy: 0.9368 - lr: 1.0000e-05\n",
      "Epoch 36/100\n",
      "162/162 [==============================] - ETA: 0s - loss: 0.0577 - accuracy: 0.9777\n",
      "Epoch 36: val_accuracy did not improve from 0.94842\n",
      "162/162 [==============================] - 7s 42ms/step - loss: 0.0577 - accuracy: 0.9777 - val_loss: 0.1962 - val_accuracy: 0.9434 - lr: 1.0000e-05\n",
      "Epoch 37/100\n",
      "161/162 [============================>.] - ETA: 0s - loss: 0.0627 - accuracy: 0.9781\n",
      "Epoch 37: val_accuracy did not improve from 0.94842\n",
      "162/162 [==============================] - 7s 41ms/step - loss: 0.0638 - accuracy: 0.9770 - val_loss: 0.1984 - val_accuracy: 0.9401 - lr: 1.0000e-05\n",
      "Epoch 38/100\n",
      "161/162 [============================>.] - ETA: 0s - loss: 0.0528 - accuracy: 0.9788\n",
      "Epoch 38: val_accuracy did not improve from 0.94842\n",
      "162/162 [==============================] - 7s 41ms/step - loss: 0.0528 - accuracy: 0.9789 - val_loss: 0.2015 - val_accuracy: 0.9368 - lr: 1.0000e-05\n",
      "Epoch 39/100\n",
      "162/162 [==============================] - ETA: 0s - loss: 0.0565 - accuracy: 0.9795\n",
      "Epoch 39: val_accuracy did not improve from 0.94842\n",
      "\n",
      "Epoch 39: ReduceLROnPlateau reducing learning rate to 1.0000000656873453e-06.\n",
      "162/162 [==============================] - 7s 42ms/step - loss: 0.0565 - accuracy: 0.9795 - val_loss: 0.1960 - val_accuracy: 0.9451 - lr: 1.0000e-05\n",
      "Epoch 40/100\n",
      "161/162 [============================>.] - ETA: 0s - loss: 0.0582 - accuracy: 0.9769\n",
      "Epoch 40: val_accuracy did not improve from 0.94842\n",
      "162/162 [==============================] - 7s 42ms/step - loss: 0.0584 - accuracy: 0.9764 - val_loss: 0.1966 - val_accuracy: 0.9451 - lr: 1.0000e-06\n",
      "Epoch 41/100\n",
      "161/162 [============================>.] - ETA: 0s - loss: 0.0497 - accuracy: 0.9844\n",
      "Epoch 41: val_accuracy did not improve from 0.94842\n",
      "162/162 [==============================] - 7s 42ms/step - loss: 0.0494 - accuracy: 0.9845 - val_loss: 0.1968 - val_accuracy: 0.9434 - lr: 1.0000e-06\n",
      "Epoch 42/100\n",
      "161/162 [============================>.] - ETA: 0s - loss: 0.0500 - accuracy: 0.9831\n",
      "Epoch 42: val_accuracy did not improve from 0.94842\n",
      "162/162 [==============================] - 7s 42ms/step - loss: 0.0500 - accuracy: 0.9832 - val_loss: 0.1965 - val_accuracy: 0.9434 - lr: 1.0000e-06\n",
      "Epoch 43/100\n",
      "162/162 [==============================] - ETA: 0s - loss: 0.0573 - accuracy: 0.9777\n",
      "Epoch 43: val_accuracy did not improve from 0.94842\n",
      "162/162 [==============================] - 7s 42ms/step - loss: 0.0573 - accuracy: 0.9777 - val_loss: 0.1966 - val_accuracy: 0.9434 - lr: 1.0000e-06\n",
      "Epoch 44/100\n",
      "161/162 [============================>.] - ETA: 0s - loss: 0.0615 - accuracy: 0.9819\n",
      "Epoch 44: val_accuracy did not improve from 0.94842\n",
      "\n",
      "Epoch 44: ReduceLROnPlateau reducing learning rate to 1.0000001111620805e-07.\n",
      "162/162 [==============================] - 7s 42ms/step - loss: 0.0632 - accuracy: 0.9814 - val_loss: 0.1967 - val_accuracy: 0.9434 - lr: 1.0000e-06\n",
      "Epoch 45/100\n",
      "161/162 [============================>.] - ETA: 0s - loss: 0.0597 - accuracy: 0.9806\n",
      "Epoch 45: val_accuracy did not improve from 0.94842\n",
      "Restoring model weights from the end of the best epoch: 25.\n",
      "162/162 [==============================] - 7s 43ms/step - loss: 0.0597 - accuracy: 0.9808 - val_loss: 0.1967 - val_accuracy: 0.9434 - lr: 1.0000e-07\n",
      "Epoch 45: early stopping\n"
     ]
    }
   ],
   "source": [
    "# Define the number of epochs\n",
    "num_epochs = 100\n",
    "\n",
    "# Train the model\n",
    "history_DenseNet121_model_1 = DenseNet121_model.fit(train_generator, epochs=num_epochs, validation_data=validation_generator, callbacks=callbacks)"
   ]
  },
  {
   "cell_type": "code",
   "execution_count": 7,
   "metadata": {},
   "outputs": [
    {
     "data": {
      "text/plain": [
       "<matplotlib.legend.Legend at 0x22205285480>"
      ]
     },
     "execution_count": 7,
     "metadata": {},
     "output_type": "execute_result"
    },
    {
     "data": {
      "image/png": "[encoded data removed]",
      "text/plain": [
       "<Figure size 640x480 with 1 Axes>"
      ]
     },
     "metadata": {},
     "output_type": "display_data"
    },
    {
     "data": {
      "image/png": "[encoded data removed]",
      "text/plain": [
       "<Figure size 640x480 with 1 Axes>"
      ]
     },
     "metadata": {},
     "output_type": "display_data"
    }
   ],
   "source": [
    "#-----------------------------------------------------------\n",
    "# Retrieve a list of list results on training and test data\n",
    "# sets for each training epoch\n",
    "#-----------------------------------------------------------\n",
    "acc      = history_DenseNet121_model_1.history['accuracy' ]\n",
    "val_acc  = history_DenseNet121_model_1.history['val_accuracy' ]\n",
    "loss     = history_DenseNet121_model_1.history['loss' ]\n",
    "val_loss = history_DenseNet121_model_1.history['val_loss' ]\n",
    "\n",
    "epochs   = range(len(acc)) # Get number of epochs\n",
    "\n",
    "#------------------------------------------------\n",
    "# Plot training and validation accuracy per epoch\n",
    "#------------------------------------------------\n",
    "plt.plot  (epochs, acc )\n",
    "plt.plot  (epochs, val_acc )\n",
    "plt.title ('Training and validation accuracy DenseNet Model')\n",
    "plt.legend(['train', 'val'], loc='upper left')\n",
    "plt.figure()\n",
    "\n",
    "#------------------------------------------------\n",
    "# Plot training and validation loss per epoch\n",
    "#------------------------------------------------\n",
    "plt.plot  (epochs, loss)\n",
    "plt.plot  (epochs, val_loss)\n",
    "plt.title ('Training and validation loss DenseNet Model')\n",
    "plt.legend(['train', 'val'], loc='upper left')"
   ]
  },
  {
   "attachments": {},
   "cell_type": "markdown",
   "metadata": {},
   "source": [
    "# DenseNet 2"
   ]
  },
  {
   "cell_type": "code",
   "execution_count": 8,
   "metadata": {},
   "outputs": [],
   "source": [
    "# Difine the callbacks\n",
    "# Save the best model\n",
    "checkpoint_callback = ModelCheckpoint(filepath=\"ChilePaper_DenseNet2_model\", save_best_only=True, monitor=\"val_accuracy\", mode=\"max\", verbose=1)\n",
    "\n",
    "# Early stopping\n",
    "early_stopping_callback = EarlyStopping(monitor=\"val_accuracy\", mode=\"max\", patience=20, verbose=1, restore_best_weights=True)\n",
    "\n",
    "# Reduce learning rate\n",
    "reduce_lr_callback = ReduceLROnPlateau(monitor=\"val_loss\", factor=0.1, patience=5, verbose=1, mode=\"min\", min_delta=0.0001, cooldown=0, min_lr=0)\n",
    "\n",
    "# Callbacks list\n",
    "callbacks=[checkpoint_callback, early_stopping_callback, reduce_lr_callback]"
   ]
  },
  {
   "cell_type": "code",
   "execution_count": 9,
   "metadata": {},
   "outputs": [
    {
     "name": "stdout",
     "output_type": "stream",
     "text": [
      "Model: \"sequential_1\"\n",
      "_________________________________________________________________\n",
      " Layer (type)                Output Shape              Param #   \n",
      "=================================================================\n",
      " densenet121 (Functional)    (None, 7, 7, 1024)        7037504   \n",
      "                                                                 \n",
      " global_average_pooling2d (G  (None, 1024)             0         \n",
      " lobalAveragePooling2D)                                          \n",
      "                                                                 \n",
      " dropout_1 (Dropout)         (None, 1024)              0         \n",
      "                                                                 \n",
      " dense_2 (Dense)             (None, 256)               262400    \n",
      "                                                                 \n",
      " dense_3 (Dense)             (None, 5)                 1285      \n",
      "                                                                 \n",
      "=================================================================\n",
      "Total params: 7,301,189\n",
      "Trainable params: 263,685\n",
      "Non-trainable params: 7,037,504\n",
      "_________________________________________________________________\n"
     ]
    }
   ],
   "source": [
    "# Define DIY Model\n",
    "DenseNet121_model2 = tf.keras.models.Sequential([\n",
    "    # DenseNet121 Layer\n",
    "    DenseNet121(include_top=False,weights='imagenet',input_shape=(224, 224, 3)),\n",
    "    # Global Average Pooling Layer\n",
    "    tf.keras.layers.GlobalAveragePooling2D(),\n",
    "    # Drop Out Layer\n",
    "    tf.keras.layers.Dropout(0.2),\n",
    "    # 256 neuron hidden layer\n",
    "    tf.keras.layers.Dense(256, activation='relu'),\n",
    "    # Output\n",
    "    tf.keras.layers.Dense(5, activation='softmax') \n",
    "  ])\n",
    "DenseNet121_model2.layers[0].trainable = False\n",
    "\n",
    "# Compile Model\n",
    "DenseNet121_model2.compile(loss='categorical_crossentropy',optimizer=tf.keras.optimizers.Adam(), metrics=['accuracy']) \n",
    "\n",
    "# Model Summary\n",
    "DenseNet121_model2.summary()"
   ]
  },
  {
   "cell_type": "code",
   "execution_count": 10,
   "metadata": {},
   "outputs": [
    {
     "name": "stdout",
     "output_type": "stream",
     "text": [
      "Epoch 1/100\n",
      "161/162 [============================>.] - ETA: 0s - loss: 0.6797 - accuracy: 0.7402\n",
      "Epoch 1: val_accuracy improved from -inf to 0.87521, saving model to ChilePaper_DenseNet2_model\n"
     ]
    },
    {
     "name": "stderr",
     "output_type": "stream",
     "text": [
      "WARNING:absl:Found untraced functions such as _jit_compiled_convolution_op, _jit_compiled_convolution_op, _jit_compiled_convolution_op, _jit_compiled_convolution_op, _jit_compiled_convolution_op while saving (showing 5 of 120). These functions will not be directly callable after loading.\n"
     ]
    },
    {
     "name": "stdout",
     "output_type": "stream",
     "text": [
      "INFO:tensorflow:Assets written to: ChilePaper_DenseNet2_model\\assets\n"
     ]
    },
    {
     "name": "stderr",
     "output_type": "stream",
     "text": [
      "INFO:tensorflow:Assets written to: ChilePaper_DenseNet2_model\\assets\n"
     ]
    },
    {
     "name": "stdout",
     "output_type": "stream",
     "text": [
      "162/162 [==============================] - 50s 279ms/step - loss: 0.6766 - accuracy: 0.7418 - val_loss: 0.3271 - val_accuracy: 0.8752 - lr: 0.0010\n",
      "Epoch 2/100\n",
      "162/162 [==============================] - ETA: 0s - loss: 0.3639 - accuracy: 0.8641\n",
      "Epoch 2: val_accuracy improved from 0.87521 to 0.89684, saving model to ChilePaper_DenseNet2_model\n"
     ]
    },
    {
     "name": "stderr",
     "output_type": "stream",
     "text": [
      "WARNING:absl:Found untraced functions such as _jit_compiled_convolution_op, _jit_compiled_convolution_op, _jit_compiled_convolution_op, _jit_compiled_convolution_op, _jit_compiled_convolution_op while saving (showing 5 of 120). These functions will not be directly callable after loading.\n"
     ]
    },
    {
     "name": "stdout",
     "output_type": "stream",
     "text": [
      "INFO:tensorflow:Assets written to: ChilePaper_DenseNet2_model\\assets\n"
     ]
    },
    {
     "name": "stderr",
     "output_type": "stream",
     "text": [
      "INFO:tensorflow:Assets written to: ChilePaper_DenseNet2_model\\assets\n"
     ]
    },
    {
     "name": "stdout",
     "output_type": "stream",
     "text": [
      "162/162 [==============================] - 43s 262ms/step - loss: 0.3639 - accuracy: 0.8641 - val_loss: 0.2907 - val_accuracy: 0.8968 - lr: 0.0010\n",
      "Epoch 3/100\n",
      "161/162 [============================>.] - ETA: 0s - loss: 0.2397 - accuracy: 0.9069\n",
      "Epoch 3: val_accuracy did not improve from 0.89684\n",
      "162/162 [==============================] - 7s 42ms/step - loss: 0.2388 - accuracy: 0.9075 - val_loss: 0.2814 - val_accuracy: 0.8902 - lr: 0.0010\n",
      "Epoch 4/100\n",
      "161/162 [============================>.] - ETA: 0s - loss: 0.2361 - accuracy: 0.9068\n",
      "Epoch 4: val_accuracy improved from 0.89684 to 0.91681, saving model to ChilePaper_DenseNet2_model\n"
     ]
    },
    {
     "name": "stderr",
     "output_type": "stream",
     "text": [
      "WARNING:absl:Found untraced functions such as _jit_compiled_convolution_op, _jit_compiled_convolution_op, _jit_compiled_convolution_op, _jit_compiled_convolution_op, _jit_compiled_convolution_op while saving (showing 5 of 120). These functions will not be directly callable after loading.\n"
     ]
    },
    {
     "name": "stdout",
     "output_type": "stream",
     "text": [
      "INFO:tensorflow:Assets written to: ChilePaper_DenseNet2_model\\assets\n"
     ]
    },
    {
     "name": "stderr",
     "output_type": "stream",
     "text": [
      "INFO:tensorflow:Assets written to: ChilePaper_DenseNet2_model\\assets\n"
     ]
    },
    {
     "name": "stdout",
     "output_type": "stream",
     "text": [
      "162/162 [==============================] - 44s 270ms/step - loss: 0.2366 - accuracy: 0.9063 - val_loss: 0.2211 - val_accuracy: 0.9168 - lr: 0.0010\n",
      "Epoch 5/100\n",
      "161/162 [============================>.] - ETA: 0s - loss: 0.2363 - accuracy: 0.9032\n",
      "Epoch 5: val_accuracy did not improve from 0.91681\n",
      "162/162 [==============================] - 7s 41ms/step - loss: 0.2376 - accuracy: 0.9025 - val_loss: 0.2308 - val_accuracy: 0.9035 - lr: 0.0010\n",
      "Epoch 6/100\n",
      "161/162 [============================>.] - ETA: 0s - loss: 0.2093 - accuracy: 0.9188\n",
      "Epoch 6: val_accuracy improved from 0.91681 to 0.92512, saving model to ChilePaper_DenseNet2_model\n"
     ]
    },
    {
     "name": "stderr",
     "output_type": "stream",
     "text": [
      "WARNING:absl:Found untraced functions such as _jit_compiled_convolution_op, _jit_compiled_convolution_op, _jit_compiled_convolution_op, _jit_compiled_convolution_op, _jit_compiled_convolution_op while saving (showing 5 of 120). These functions will not be directly callable after loading.\n"
     ]
    },
    {
     "name": "stdout",
     "output_type": "stream",
     "text": [
      "INFO:tensorflow:Assets written to: ChilePaper_DenseNet2_model\\assets\n"
     ]
    },
    {
     "name": "stderr",
     "output_type": "stream",
     "text": [
      "INFO:tensorflow:Assets written to: ChilePaper_DenseNet2_model\\assets\n"
     ]
    },
    {
     "name": "stdout",
     "output_type": "stream",
     "text": [
      "162/162 [==============================] - 42s 260ms/step - loss: 0.2125 - accuracy: 0.9181 - val_loss: 0.2588 - val_accuracy: 0.9251 - lr: 0.0010\n",
      "Epoch 7/100\n",
      "161/162 [============================>.] - ETA: 0s - loss: 0.2038 - accuracy: 0.9213\n",
      "Epoch 7: val_accuracy did not improve from 0.92512\n",
      "162/162 [==============================] - 7s 42ms/step - loss: 0.2025 - accuracy: 0.9218 - val_loss: 0.2078 - val_accuracy: 0.9185 - lr: 0.0010\n",
      "Epoch 8/100\n",
      "161/162 [============================>.] - ETA: 0s - loss: 0.1671 - accuracy: 0.9388\n",
      "Epoch 8: val_accuracy improved from 0.92512 to 0.92679, saving model to ChilePaper_DenseNet2_model\n"
     ]
    },
    {
     "name": "stderr",
     "output_type": "stream",
     "text": [
      "WARNING:absl:Found untraced functions such as _jit_compiled_convolution_op, _jit_compiled_convolution_op, _jit_compiled_convolution_op, _jit_compiled_convolution_op, _jit_compiled_convolution_op while saving (showing 5 of 120). These functions will not be directly callable after loading.\n"
     ]
    },
    {
     "name": "stdout",
     "output_type": "stream",
     "text": [
      "INFO:tensorflow:Assets written to: ChilePaper_DenseNet2_model\\assets\n"
     ]
    },
    {
     "name": "stderr",
     "output_type": "stream",
     "text": [
      "INFO:tensorflow:Assets written to: ChilePaper_DenseNet2_model\\assets\n"
     ]
    },
    {
     "name": "stdout",
     "output_type": "stream",
     "text": [
      "162/162 [==============================] - 43s 264ms/step - loss: 0.1663 - accuracy: 0.9392 - val_loss: 0.2081 - val_accuracy: 0.9268 - lr: 0.0010\n",
      "Epoch 9/100\n",
      "161/162 [============================>.] - ETA: 0s - loss: 0.1656 - accuracy: 0.9400\n",
      "Epoch 9: val_accuracy improved from 0.92679 to 0.93012, saving model to ChilePaper_DenseNet2_model\n"
     ]
    },
    {
     "name": "stderr",
     "output_type": "stream",
     "text": [
      "WARNING:absl:Found untraced functions such as _jit_compiled_convolution_op, _jit_compiled_convolution_op, _jit_compiled_convolution_op, _jit_compiled_convolution_op, _jit_compiled_convolution_op while saving (showing 5 of 120). These functions will not be directly callable after loading.\n"
     ]
    },
    {
     "name": "stdout",
     "output_type": "stream",
     "text": [
      "INFO:tensorflow:Assets written to: ChilePaper_DenseNet2_model\\assets\n"
     ]
    },
    {
     "name": "stderr",
     "output_type": "stream",
     "text": [
      "INFO:tensorflow:Assets written to: ChilePaper_DenseNet2_model\\assets\n"
     ]
    },
    {
     "name": "stdout",
     "output_type": "stream",
     "text": [
      "162/162 [==============================] - 42s 262ms/step - loss: 0.1647 - accuracy: 0.9404 - val_loss: 0.1855 - val_accuracy: 0.9301 - lr: 0.0010\n",
      "Epoch 10/100\n",
      "162/162 [==============================] - ETA: 0s - loss: 0.1457 - accuracy: 0.9410\n",
      "Epoch 10: val_accuracy improved from 0.93012 to 0.93178, saving model to ChilePaper_DenseNet2_model\n"
     ]
    },
    {
     "name": "stderr",
     "output_type": "stream",
     "text": [
      "WARNING:absl:Found untraced functions such as _jit_compiled_convolution_op, _jit_compiled_convolution_op, _jit_compiled_convolution_op, _jit_compiled_convolution_op, _jit_compiled_convolution_op while saving (showing 5 of 120). These functions will not be directly callable after loading.\n"
     ]
    },
    {
     "name": "stdout",
     "output_type": "stream",
     "text": [
      "INFO:tensorflow:Assets written to: ChilePaper_DenseNet2_model\\assets\n"
     ]
    },
    {
     "name": "stderr",
     "output_type": "stream",
     "text": [
      "INFO:tensorflow:Assets written to: ChilePaper_DenseNet2_model\\assets\n"
     ]
    },
    {
     "name": "stdout",
     "output_type": "stream",
     "text": [
      "162/162 [==============================] - 43s 266ms/step - loss: 0.1457 - accuracy: 0.9410 - val_loss: 0.1880 - val_accuracy: 0.9318 - lr: 0.0010\n",
      "Epoch 11/100\n",
      "161/162 [============================>.] - ETA: 0s - loss: 0.1645 - accuracy: 0.9363\n",
      "Epoch 11: val_accuracy did not improve from 0.93178\n",
      "162/162 [==============================] - 7s 43ms/step - loss: 0.1637 - accuracy: 0.9367 - val_loss: 0.2393 - val_accuracy: 0.9135 - lr: 0.0010\n",
      "Epoch 12/100\n",
      "161/162 [============================>.] - ETA: 0s - loss: 0.1492 - accuracy: 0.9419\n",
      "Epoch 12: val_accuracy did not improve from 0.93178\n",
      "162/162 [==============================] - 7s 43ms/step - loss: 0.1500 - accuracy: 0.9417 - val_loss: 0.4971 - val_accuracy: 0.8220 - lr: 0.0010\n",
      "Epoch 13/100\n",
      "162/162 [==============================] - ETA: 0s - loss: 0.1192 - accuracy: 0.9528\n",
      "Epoch 13: val_accuracy did not improve from 0.93178\n",
      "162/162 [==============================] - 7s 42ms/step - loss: 0.1192 - accuracy: 0.9528 - val_loss: 0.3540 - val_accuracy: 0.8735 - lr: 0.0010\n",
      "Epoch 14/100\n",
      "161/162 [============================>.] - ETA: 0s - loss: 0.1213 - accuracy: 0.9544\n",
      "Epoch 14: val_accuracy did not improve from 0.93178\n",
      "\n",
      "Epoch 14: ReduceLROnPlateau reducing learning rate to 0.00010000000474974513.\n",
      "162/162 [==============================] - 7s 42ms/step - loss: 0.1225 - accuracy: 0.9541 - val_loss: 0.2041 - val_accuracy: 0.9251 - lr: 0.0010\n",
      "Epoch 15/100\n",
      "161/162 [============================>.] - ETA: 0s - loss: 0.0831 - accuracy: 0.9694\n",
      "Epoch 15: val_accuracy improved from 0.93178 to 0.93844, saving model to ChilePaper_DenseNet2_model\n"
     ]
    },
    {
     "name": "stderr",
     "output_type": "stream",
     "text": [
      "WARNING:absl:Found untraced functions such as _jit_compiled_convolution_op, _jit_compiled_convolution_op, _jit_compiled_convolution_op, _jit_compiled_convolution_op, _jit_compiled_convolution_op while saving (showing 5 of 120). These functions will not be directly callable after loading.\n"
     ]
    },
    {
     "name": "stdout",
     "output_type": "stream",
     "text": [
      "INFO:tensorflow:Assets written to: ChilePaper_DenseNet2_model\\assets\n"
     ]
    },
    {
     "name": "stderr",
     "output_type": "stream",
     "text": [
      "INFO:tensorflow:Assets written to: ChilePaper_DenseNet2_model\\assets\n"
     ]
    },
    {
     "name": "stdout",
     "output_type": "stream",
     "text": [
      "162/162 [==============================] - 43s 266ms/step - loss: 0.0839 - accuracy: 0.9690 - val_loss: 0.1721 - val_accuracy: 0.9384 - lr: 1.0000e-04\n",
      "Epoch 16/100\n",
      "161/162 [============================>.] - ETA: 0s - loss: 0.0875 - accuracy: 0.9681\n",
      "Epoch 16: val_accuracy did not improve from 0.93844\n",
      "162/162 [==============================] - 7s 43ms/step - loss: 0.0871 - accuracy: 0.9683 - val_loss: 0.1781 - val_accuracy: 0.9268 - lr: 1.0000e-04\n",
      "Epoch 17/100\n",
      "161/162 [============================>.] - ETA: 0s - loss: 0.0784 - accuracy: 0.9719\n",
      "Epoch 17: val_accuracy did not improve from 0.93844\n",
      "162/162 [==============================] - 7s 42ms/step - loss: 0.0779 - accuracy: 0.9721 - val_loss: 0.1762 - val_accuracy: 0.9368 - lr: 1.0000e-04\n",
      "Epoch 18/100\n",
      "161/162 [============================>.] - ETA: 0s - loss: 0.0752 - accuracy: 0.9738\n",
      "Epoch 18: val_accuracy did not improve from 0.93844\n",
      "162/162 [==============================] - 7s 43ms/step - loss: 0.0752 - accuracy: 0.9739 - val_loss: 0.1985 - val_accuracy: 0.9218 - lr: 1.0000e-04\n",
      "Epoch 19/100\n",
      "162/162 [==============================] - ETA: 0s - loss: 0.0707 - accuracy: 0.9714\n",
      "Epoch 19: val_accuracy improved from 0.93844 to 0.94509, saving model to ChilePaper_DenseNet2_model\n"
     ]
    },
    {
     "name": "stderr",
     "output_type": "stream",
     "text": [
      "WARNING:absl:Found untraced functions such as _jit_compiled_convolution_op, _jit_compiled_convolution_op, _jit_compiled_convolution_op, _jit_compiled_convolution_op, _jit_compiled_convolution_op while saving (showing 5 of 120). These functions will not be directly callable after loading.\n"
     ]
    },
    {
     "name": "stdout",
     "output_type": "stream",
     "text": [
      "INFO:tensorflow:Assets written to: ChilePaper_DenseNet2_model\\assets\n"
     ]
    },
    {
     "name": "stderr",
     "output_type": "stream",
     "text": [
      "INFO:tensorflow:Assets written to: ChilePaper_DenseNet2_model\\assets\n"
     ]
    },
    {
     "name": "stdout",
     "output_type": "stream",
     "text": [
      "162/162 [==============================] - 43s 266ms/step - loss: 0.0707 - accuracy: 0.9714 - val_loss: 0.1638 - val_accuracy: 0.9451 - lr: 1.0000e-04\n",
      "Epoch 20/100\n",
      "162/162 [==============================] - ETA: 0s - loss: 0.0595 - accuracy: 0.9795\n",
      "Epoch 20: val_accuracy did not improve from 0.94509\n",
      "162/162 [==============================] - 7s 43ms/step - loss: 0.0595 - accuracy: 0.9795 - val_loss: 0.1703 - val_accuracy: 0.9351 - lr: 1.0000e-04\n",
      "Epoch 21/100\n",
      "162/162 [==============================] - ETA: 0s - loss: 0.0691 - accuracy: 0.9721\n",
      "Epoch 21: val_accuracy did not improve from 0.94509\n",
      "162/162 [==============================] - 7s 43ms/step - loss: 0.0691 - accuracy: 0.9721 - val_loss: 0.1585 - val_accuracy: 0.9434 - lr: 1.0000e-04\n",
      "Epoch 22/100\n",
      "161/162 [============================>.] - ETA: 0s - loss: 0.0798 - accuracy: 0.9675\n",
      "Epoch 22: val_accuracy did not improve from 0.94509\n",
      "162/162 [==============================] - 7s 43ms/step - loss: 0.0802 - accuracy: 0.9671 - val_loss: 0.1668 - val_accuracy: 0.9401 - lr: 1.0000e-04\n",
      "Epoch 23/100\n",
      "161/162 [============================>.] - ETA: 0s - loss: 0.0665 - accuracy: 0.9775\n",
      "Epoch 23: val_accuracy did not improve from 0.94509\n",
      "162/162 [==============================] - 7s 44ms/step - loss: 0.0662 - accuracy: 0.9777 - val_loss: 0.1748 - val_accuracy: 0.9384 - lr: 1.0000e-04\n",
      "Epoch 24/100\n",
      "161/162 [============================>.] - ETA: 0s - loss: 0.0678 - accuracy: 0.9756\n",
      "Epoch 24: val_accuracy did not improve from 0.94509\n",
      "162/162 [==============================] - 7s 43ms/step - loss: 0.0683 - accuracy: 0.9752 - val_loss: 0.1761 - val_accuracy: 0.9434 - lr: 1.0000e-04\n",
      "Epoch 25/100\n",
      "161/162 [============================>.] - ETA: 0s - loss: 0.0600 - accuracy: 0.9794\n",
      "Epoch 25: val_accuracy did not improve from 0.94509\n",
      "162/162 [==============================] - 7s 45ms/step - loss: 0.0596 - accuracy: 0.9795 - val_loss: 0.1696 - val_accuracy: 0.9434 - lr: 1.0000e-04\n",
      "Epoch 26/100\n",
      "161/162 [============================>.] - ETA: 0s - loss: 0.0627 - accuracy: 0.9775\n",
      "Epoch 26: val_accuracy improved from 0.94509 to 0.94676, saving model to ChilePaper_DenseNet2_model\n"
     ]
    },
    {
     "name": "stderr",
     "output_type": "stream",
     "text": [
      "WARNING:absl:Found untraced functions such as _jit_compiled_convolution_op, _jit_compiled_convolution_op, _jit_compiled_convolution_op, _jit_compiled_convolution_op, _jit_compiled_convolution_op while saving (showing 5 of 120). These functions will not be directly callable after loading.\n"
     ]
    },
    {
     "name": "stdout",
     "output_type": "stream",
     "text": [
      "INFO:tensorflow:Assets written to: ChilePaper_DenseNet2_model\\assets\n"
     ]
    },
    {
     "name": "stderr",
     "output_type": "stream",
     "text": [
      "INFO:tensorflow:Assets written to: ChilePaper_DenseNet2_model\\assets\n"
     ]
    },
    {
     "name": "stdout",
     "output_type": "stream",
     "text": [
      "\n",
      "Epoch 26: ReduceLROnPlateau reducing learning rate to 1.0000000474974514e-05.\n",
      "162/162 [==============================] - 43s 264ms/step - loss: 0.0630 - accuracy: 0.9777 - val_loss: 0.1614 - val_accuracy: 0.9468 - lr: 1.0000e-04\n",
      "Epoch 27/100\n",
      "161/162 [============================>.] - ETA: 0s - loss: 0.0519 - accuracy: 0.9831\n",
      "Epoch 27: val_accuracy did not improve from 0.94676\n",
      "162/162 [==============================] - 7s 42ms/step - loss: 0.0516 - accuracy: 0.9832 - val_loss: 0.1611 - val_accuracy: 0.9468 - lr: 1.0000e-05\n",
      "Epoch 28/100\n",
      "161/162 [============================>.] - ETA: 0s - loss: 0.0529 - accuracy: 0.9794\n",
      "Epoch 28: val_accuracy did not improve from 0.94676\n",
      "162/162 [==============================] - 7s 42ms/step - loss: 0.0534 - accuracy: 0.9789 - val_loss: 0.1620 - val_accuracy: 0.9451 - lr: 1.0000e-05\n",
      "Epoch 29/100\n",
      "162/162 [==============================] - ETA: 0s - loss: 0.0507 - accuracy: 0.9845\n",
      "Epoch 29: val_accuracy did not improve from 0.94676\n",
      "162/162 [==============================] - 7s 42ms/step - loss: 0.0507 - accuracy: 0.9845 - val_loss: 0.1641 - val_accuracy: 0.9418 - lr: 1.0000e-05\n",
      "Epoch 30/100\n",
      "161/162 [============================>.] - ETA: 0s - loss: 0.0525 - accuracy: 0.9794\n",
      "Epoch 30: val_accuracy did not improve from 0.94676\n",
      "162/162 [==============================] - 7s 42ms/step - loss: 0.0544 - accuracy: 0.9783 - val_loss: 0.1650 - val_accuracy: 0.9434 - lr: 1.0000e-05\n",
      "Epoch 31/100\n",
      "161/162 [============================>.] - ETA: 0s - loss: 0.0522 - accuracy: 0.9850\n",
      "Epoch 31: val_accuracy improved from 0.94676 to 0.94842, saving model to ChilePaper_DenseNet2_model\n"
     ]
    },
    {
     "name": "stderr",
     "output_type": "stream",
     "text": [
      "WARNING:absl:Found untraced functions such as _jit_compiled_convolution_op, _jit_compiled_convolution_op, _jit_compiled_convolution_op, _jit_compiled_convolution_op, _jit_compiled_convolution_op while saving (showing 5 of 120). These functions will not be directly callable after loading.\n"
     ]
    },
    {
     "name": "stdout",
     "output_type": "stream",
     "text": [
      "INFO:tensorflow:Assets written to: ChilePaper_DenseNet2_model\\assets\n"
     ]
    },
    {
     "name": "stderr",
     "output_type": "stream",
     "text": [
      "INFO:tensorflow:Assets written to: ChilePaper_DenseNet2_model\\assets\n"
     ]
    },
    {
     "name": "stdout",
     "output_type": "stream",
     "text": [
      "\n",
      "Epoch 31: ReduceLROnPlateau reducing learning rate to 1.0000000656873453e-06.\n",
      "162/162 [==============================] - 43s 266ms/step - loss: 0.0523 - accuracy: 0.9851 - val_loss: 0.1618 - val_accuracy: 0.9484 - lr: 1.0000e-05\n",
      "Epoch 32/100\n",
      "161/162 [============================>.] - ETA: 0s - loss: 0.0590 - accuracy: 0.9794\n",
      "Epoch 32: val_accuracy did not improve from 0.94842\n",
      "162/162 [==============================] - 7s 42ms/step - loss: 0.0589 - accuracy: 0.9795 - val_loss: 0.1617 - val_accuracy: 0.9484 - lr: 1.0000e-06\n",
      "Epoch 33/100\n",
      "161/162 [============================>.] - ETA: 0s - loss: 0.0563 - accuracy: 0.9788\n",
      "Epoch 33: val_accuracy did not improve from 0.94842\n",
      "162/162 [==============================] - 7s 42ms/step - loss: 0.0564 - accuracy: 0.9789 - val_loss: 0.1623 - val_accuracy: 0.9484 - lr: 1.0000e-06\n",
      "Epoch 34/100\n",
      "161/162 [============================>.] - ETA: 0s - loss: 0.0577 - accuracy: 0.9825\n",
      "Epoch 34: val_accuracy did not improve from 0.94842\n",
      "162/162 [==============================] - 7s 42ms/step - loss: 0.0574 - accuracy: 0.9826 - val_loss: 0.1618 - val_accuracy: 0.9468 - lr: 1.0000e-06\n",
      "Epoch 35/100\n",
      "161/162 [============================>.] - ETA: 0s - loss: 0.0558 - accuracy: 0.9825\n",
      "Epoch 35: val_accuracy did not improve from 0.94842\n",
      "162/162 [==============================] - 7s 42ms/step - loss: 0.0557 - accuracy: 0.9826 - val_loss: 0.1614 - val_accuracy: 0.9484 - lr: 1.0000e-06\n",
      "Epoch 36/100\n",
      "162/162 [==============================] - ETA: 0s - loss: 0.0610 - accuracy: 0.9770\n",
      "Epoch 36: val_accuracy did not improve from 0.94842\n",
      "\n",
      "Epoch 36: ReduceLROnPlateau reducing learning rate to 1.0000001111620805e-07.\n",
      "162/162 [==============================] - 7s 42ms/step - loss: 0.0610 - accuracy: 0.9770 - val_loss: 0.1614 - val_accuracy: 0.9468 - lr: 1.0000e-06\n",
      "Epoch 37/100\n",
      "161/162 [============================>.] - ETA: 0s - loss: 0.0527 - accuracy: 0.9825\n",
      "Epoch 37: val_accuracy did not improve from 0.94842\n",
      "162/162 [==============================] - 7s 43ms/step - loss: 0.0525 - accuracy: 0.9826 - val_loss: 0.1614 - val_accuracy: 0.9468 - lr: 1.0000e-07\n",
      "Epoch 38/100\n",
      "161/162 [============================>.] - ETA: 0s - loss: 0.0541 - accuracy: 0.9769\n",
      "Epoch 38: val_accuracy did not improve from 0.94842\n",
      "162/162 [==============================] - 7s 43ms/step - loss: 0.0539 - accuracy: 0.9770 - val_loss: 0.1614 - val_accuracy: 0.9468 - lr: 1.0000e-07\n",
      "Epoch 39/100\n",
      "161/162 [============================>.] - ETA: 0s - loss: 0.0546 - accuracy: 0.9750\n",
      "Epoch 39: val_accuracy did not improve from 0.94842\n",
      "162/162 [==============================] - 7s 42ms/step - loss: 0.0548 - accuracy: 0.9745 - val_loss: 0.1614 - val_accuracy: 0.9468 - lr: 1.0000e-07\n",
      "Epoch 40/100\n",
      "162/162 [==============================] - ETA: 0s - loss: 0.0537 - accuracy: 0.9820\n",
      "Epoch 40: val_accuracy did not improve from 0.94842\n",
      "162/162 [==============================] - 7s 43ms/step - loss: 0.0537 - accuracy: 0.9820 - val_loss: 0.1614 - val_accuracy: 0.9468 - lr: 1.0000e-07\n",
      "Epoch 41/100\n",
      "161/162 [============================>.] - ETA: 0s - loss: 0.0442 - accuracy: 0.9856\n",
      "Epoch 41: val_accuracy did not improve from 0.94842\n",
      "\n",
      "Epoch 41: ReduceLROnPlateau reducing learning rate to 1.000000082740371e-08.\n",
      "162/162 [==============================] - 7s 42ms/step - loss: 0.0440 - accuracy: 0.9857 - val_loss: 0.1614 - val_accuracy: 0.9468 - lr: 1.0000e-07\n",
      "Epoch 42/100\n",
      "161/162 [============================>.] - ETA: 0s - loss: 0.0642 - accuracy: 0.9744\n",
      "Epoch 42: val_accuracy did not improve from 0.94842\n",
      "162/162 [==============================] - 7s 42ms/step - loss: 0.0640 - accuracy: 0.9745 - val_loss: 0.1614 - val_accuracy: 0.9468 - lr: 1.0000e-08\n",
      "Epoch 43/100\n",
      "161/162 [============================>.] - ETA: 0s - loss: 0.0612 - accuracy: 0.9756\n",
      "Epoch 43: val_accuracy did not improve from 0.94842\n",
      "162/162 [==============================] - 7s 42ms/step - loss: 0.0609 - accuracy: 0.9758 - val_loss: 0.1614 - val_accuracy: 0.9468 - lr: 1.0000e-08\n",
      "Epoch 44/100\n",
      "162/162 [==============================] - ETA: 0s - loss: 0.0618 - accuracy: 0.9752\n",
      "Epoch 44: val_accuracy did not improve from 0.94842\n",
      "162/162 [==============================] - 7s 42ms/step - loss: 0.0618 - accuracy: 0.9752 - val_loss: 0.1614 - val_accuracy: 0.9468 - lr: 1.0000e-08\n",
      "Epoch 45/100\n",
      "161/162 [============================>.] - ETA: 0s - loss: 0.0605 - accuracy: 0.9763\n",
      "Epoch 45: val_accuracy did not improve from 0.94842\n",
      "162/162 [==============================] - 7s 42ms/step - loss: 0.0602 - accuracy: 0.9764 - val_loss: 0.1614 - val_accuracy: 0.9468 - lr: 1.0000e-08\n",
      "Epoch 46/100\n",
      "161/162 [============================>.] - ETA: 0s - loss: 0.0581 - accuracy: 0.9806\n",
      "Epoch 46: val_accuracy did not improve from 0.94842\n",
      "\n",
      "Epoch 46: ReduceLROnPlateau reducing learning rate to 1.000000082740371e-09.\n",
      "162/162 [==============================] - 7s 42ms/step - loss: 0.0580 - accuracy: 0.9808 - val_loss: 0.1614 - val_accuracy: 0.9468 - lr: 1.0000e-08\n",
      "Epoch 47/100\n",
      "161/162 [============================>.] - ETA: 0s - loss: 0.0568 - accuracy: 0.9819\n",
      "Epoch 47: val_accuracy did not improve from 0.94842\n",
      "162/162 [==============================] - 7s 42ms/step - loss: 0.0569 - accuracy: 0.9820 - val_loss: 0.1614 - val_accuracy: 0.9468 - lr: 1.0000e-09\n",
      "Epoch 48/100\n",
      "161/162 [============================>.] - ETA: 0s - loss: 0.0589 - accuracy: 0.9794\n",
      "Epoch 48: val_accuracy did not improve from 0.94842\n",
      "162/162 [==============================] - 7s 42ms/step - loss: 0.0588 - accuracy: 0.9795 - val_loss: 0.1614 - val_accuracy: 0.9468 - lr: 1.0000e-09\n",
      "Epoch 49/100\n",
      "162/162 [==============================] - ETA: 0s - loss: 0.0613 - accuracy: 0.9770\n",
      "Epoch 49: val_accuracy did not improve from 0.94842\n",
      "162/162 [==============================] - 7s 43ms/step - loss: 0.0613 - accuracy: 0.9770 - val_loss: 0.1614 - val_accuracy: 0.9468 - lr: 1.0000e-09\n",
      "Epoch 50/100\n",
      "161/162 [============================>.] - ETA: 0s - loss: 0.0542 - accuracy: 0.9788\n",
      "Epoch 50: val_accuracy did not improve from 0.94842\n",
      "162/162 [==============================] - 7s 43ms/step - loss: 0.0541 - accuracy: 0.9789 - val_loss: 0.1614 - val_accuracy: 0.9468 - lr: 1.0000e-09\n",
      "Epoch 51/100\n",
      "161/162 [============================>.] - ETA: 0s - loss: 0.0548 - accuracy: 0.9814\n",
      "Epoch 51: val_accuracy did not improve from 0.94842\n",
      "Restoring model weights from the end of the best epoch: 31.\n",
      "\n",
      "Epoch 51: ReduceLROnPlateau reducing learning rate to 1.000000082740371e-10.\n",
      "162/162 [==============================] - 7s 43ms/step - loss: 0.0548 - accuracy: 0.9814 - val_loss: 0.1614 - val_accuracy: 0.9468 - lr: 1.0000e-09\n",
      "Epoch 51: early stopping\n"
     ]
    }
   ],
   "source": [
    "# Define the number of epochs\n",
    "num_epochs = 100\n",
    "\n",
    "# Train the model\n",
    "history_DenseNet121_model_2 = DenseNet121_model2.fit(train_generator, epochs=num_epochs, validation_data=validation_generator, callbacks=callbacks)"
   ]
  },
  {
   "cell_type": "code",
   "execution_count": 11,
   "metadata": {},
   "outputs": [
    {
     "data": {
      "text/plain": [
       "<matplotlib.legend.Legend at 0x221d7619540>"
      ]
     },
     "execution_count": 11,
     "metadata": {},
     "output_type": "execute_result"
    },
    {
     "data": {
      "image/png": "[encoded data removed]",
      "text/plain": [
       "<Figure size 640x480 with 1 Axes>"
      ]
     },
     "metadata": {},
     "output_type": "display_data"
    },
    {
     "data": {
      "image/png": "[encoded data removed]",
      "text/plain": [
       "<Figure size 640x480 with 1 Axes>"
      ]
     },
     "metadata": {},
     "output_type": "display_data"
    }
   ],
   "source": [
    "#-----------------------------------------------------------\n",
    "# Retrieve a list of list results on training and test data\n",
    "# sets for each training epoch\n",
    "#-----------------------------------------------------------\n",
    "acc      = history_DenseNet121_model_2.history['accuracy' ]\n",
    "val_acc  = history_DenseNet121_model_2.history['val_accuracy' ]\n",
    "loss     = history_DenseNet121_model_2.history['loss' ]\n",
    "val_loss = history_DenseNet121_model_2.history['val_loss' ]\n",
    "\n",
    "epochs   = range(len(acc)) # Get number of epochs\n",
    "\n",
    "#------------------------------------------------\n",
    "# Plot training and validation accuracy per epoch\n",
    "#------------------------------------------------\n",
    "plt.plot  (epochs, acc )\n",
    "plt.plot  (epochs, val_acc )\n",
    "plt.title ('Training and validation accuracy DenseNet Model 2')\n",
    "plt.legend(['train', 'val'], loc='upper left')\n",
    "plt.figure()\n",
    "\n",
    "#------------------------------------------------\n",
    "# Plot training and validation loss per epoch\n",
    "#------------------------------------------------\n",
    "plt.plot  (epochs, loss)\n",
    "plt.plot  (epochs, val_loss)\n",
    "plt.title ('Training and validation loss DenseNet Model 2')\n",
    "plt.legend(['train', 'val'], loc='upper left')"
   ]
  },
  {
   "attachments": {},
   "cell_type": "markdown",
   "metadata": {},
   "source": [
    "# MobileNet V2"
   ]
  },
  {
   "cell_type": "code",
   "execution_count": 12,
   "metadata": {},
   "outputs": [],
   "source": [
    "# Difine the callbacks\n",
    "# Save the best model\n",
    "checkpoint_callback = ModelCheckpoint(filepath=\"ChilePaper_MobileNetV2_model\", save_best_only=True, monitor=\"val_accuracy\", mode=\"max\", verbose=1)\n",
    "\n",
    "# Early stopping\n",
    "early_stopping_callback = EarlyStopping(monitor=\"val_accuracy\", mode=\"max\", patience=20, verbose=1, restore_best_weights=True)\n",
    "\n",
    "# Reduce learning rate\n",
    "reduce_lr_callback = ReduceLROnPlateau(monitor=\"val_loss\", factor=0.1, patience=5, verbose=1, mode=\"min\", min_delta=0.0001, cooldown=0, min_lr=0)\n",
    "\n",
    "# Callbacks list\n",
    "callbacks=[checkpoint_callback, early_stopping_callback, reduce_lr_callback]"
   ]
  },
  {
   "cell_type": "code",
   "execution_count": 13,
   "metadata": {},
   "outputs": [
    {
     "name": "stdout",
     "output_type": "stream",
     "text": [
      "Model: \"sequential_2\"\n",
      "_________________________________________________________________\n",
      " Layer (type)                Output Shape              Param #   \n",
      "=================================================================\n",
      " mobilenetv2_1.00_224 (Funct  (None, 7, 7, 1280)       2257984   \n",
      " ional)                                                          \n",
      "                                                                 \n",
      " global_max_pooling2d_1 (Glo  (None, 1280)             0         \n",
      " balMaxPooling2D)                                                \n",
      "                                                                 \n",
      " dropout_2 (Dropout)         (None, 1280)              0         \n",
      "                                                                 \n",
      " dense_4 (Dense)             (None, 256)               327936    \n",
      "                                                                 \n",
      " dense_5 (Dense)             (None, 5)                 1285      \n",
      "                                                                 \n",
      "=================================================================\n",
      "Total params: 2,587,205\n",
      "Trainable params: 329,221\n",
      "Non-trainable params: 2,257,984\n",
      "_________________________________________________________________\n"
     ]
    }
   ],
   "source": [
    "# Define DIY Model\n",
    "MobileNetV2_model = tf.keras.models.Sequential([\n",
    "    # MobileNetV2 Layer\n",
    "    MobileNetV2(include_top=False,weights='imagenet',input_shape=(224, 224, 3)),\n",
    "    # Global Max Pooling Layer\n",
    "    tf.keras.layers.GlobalMaxPooling2D(),\n",
    "    # Drop Out Layer\n",
    "    tf.keras.layers.Dropout(0.2),\n",
    "    # 256 neuron hidden layer\n",
    "    tf.keras.layers.Dense(256, activation='relu'),\n",
    "    # Output\n",
    "    tf.keras.layers.Dense(5, activation='softmax') \n",
    "  ])\n",
    "MobileNetV2_model.layers[0].trainable = False\n",
    "\n",
    "# Compile Model\n",
    "MobileNetV2_model.compile(loss='categorical_crossentropy',optimizer=tf.keras.optimizers.Adam(), metrics=['accuracy']) \n",
    "\n",
    "# Model Summary\n",
    "MobileNetV2_model.summary()"
   ]
  },
  {
   "cell_type": "code",
   "execution_count": 14,
   "metadata": {},
   "outputs": [
    {
     "name": "stdout",
     "output_type": "stream",
     "text": [
      "Epoch 1/100\n",
      "161/162 [============================>.] - ETA: 0s - loss: 1.9980 - accuracy: 0.6334\n",
      "Epoch 1: val_accuracy improved from -inf to 0.75374, saving model to ChilePaper_MobileNetV2_model\n"
     ]
    },
    {
     "name": "stderr",
     "output_type": "stream",
     "text": [
      "WARNING:absl:Function `_wrapped_model` contains input name(s) mobilenetv2_1.00_224_input with unsupported characters which will be renamed to mobilenetv2_1_00_224_input in the SavedModel.\n",
      "WARNING:absl:Found untraced functions such as _jit_compiled_convolution_op, _jit_compiled_convolution_op, _jit_compiled_convolution_op, _jit_compiled_convolution_op, _jit_compiled_convolution_op while saving (showing 5 of 52). These functions will not be directly callable after loading.\n"
     ]
    },
    {
     "name": "stdout",
     "output_type": "stream",
     "text": [
      "INFO:tensorflow:Assets written to: ChilePaper_MobileNetV2_model\\assets\n"
     ]
    },
    {
     "name": "stderr",
     "output_type": "stream",
     "text": [
      "INFO:tensorflow:Assets written to: ChilePaper_MobileNetV2_model\\assets\n"
     ]
    },
    {
     "name": "stdout",
     "output_type": "stream",
     "text": [
      "162/162 [==============================] - 22s 119ms/step - loss: 1.9896 - accuracy: 0.6344 - val_loss: 0.5858 - val_accuracy: 0.7537 - lr: 0.0010\n",
      "Epoch 2/100\n",
      "161/162 [============================>.] - ETA: 0s - loss: 0.5128 - accuracy: 0.8126\n",
      "Epoch 2: val_accuracy improved from 0.75374 to 0.76040, saving model to ChilePaper_MobileNetV2_model\n"
     ]
    },
    {
     "name": "stderr",
     "output_type": "stream",
     "text": [
      "WARNING:absl:Function `_wrapped_model` contains input name(s) mobilenetv2_1.00_224_input with unsupported characters which will be renamed to mobilenetv2_1_00_224_input in the SavedModel.\n",
      "WARNING:absl:Found untraced functions such as _jit_compiled_convolution_op, _jit_compiled_convolution_op, _jit_compiled_convolution_op, _jit_compiled_convolution_op, _jit_compiled_convolution_op while saving (showing 5 of 52). These functions will not be directly callable after loading.\n"
     ]
    },
    {
     "name": "stdout",
     "output_type": "stream",
     "text": [
      "INFO:tensorflow:Assets written to: ChilePaper_MobileNetV2_model\\assets\n"
     ]
    },
    {
     "name": "stderr",
     "output_type": "stream",
     "text": [
      "INFO:tensorflow:Assets written to: ChilePaper_MobileNetV2_model\\assets\n"
     ]
    },
    {
     "name": "stdout",
     "output_type": "stream",
     "text": [
      "162/162 [==============================] - 18s 108ms/step - loss: 0.5113 - accuracy: 0.8125 - val_loss: 0.5553 - val_accuracy: 0.7604 - lr: 0.0010\n",
      "Epoch 3/100\n",
      "160/162 [============================>.] - ETA: 0s - loss: 0.3826 - accuracy: 0.8523\n",
      "Epoch 3: val_accuracy improved from 0.76040 to 0.85358, saving model to ChilePaper_MobileNetV2_model\n"
     ]
    },
    {
     "name": "stderr",
     "output_type": "stream",
     "text": [
      "WARNING:absl:Function `_wrapped_model` contains input name(s) mobilenetv2_1.00_224_input with unsupported characters which will be renamed to mobilenetv2_1_00_224_input in the SavedModel.\n",
      "WARNING:absl:Found untraced functions such as _jit_compiled_convolution_op, _jit_compiled_convolution_op, _jit_compiled_convolution_op, _jit_compiled_convolution_op, _jit_compiled_convolution_op while saving (showing 5 of 52). These functions will not be directly callable after loading.\n"
     ]
    },
    {
     "name": "stdout",
     "output_type": "stream",
     "text": [
      "INFO:tensorflow:Assets written to: ChilePaper_MobileNetV2_model\\assets\n"
     ]
    },
    {
     "name": "stderr",
     "output_type": "stream",
     "text": [
      "INFO:tensorflow:Assets written to: ChilePaper_MobileNetV2_model\\assets\n"
     ]
    },
    {
     "name": "stdout",
     "output_type": "stream",
     "text": [
      "162/162 [==============================] - 18s 112ms/step - loss: 0.3893 - accuracy: 0.8504 - val_loss: 0.5101 - val_accuracy: 0.8536 - lr: 0.0010\n",
      "Epoch 4/100\n",
      "161/162 [============================>.] - ETA: 0s - loss: 0.3494 - accuracy: 0.8695\n",
      "Epoch 4: val_accuracy improved from 0.85358 to 0.88353, saving model to ChilePaper_MobileNetV2_model\n"
     ]
    },
    {
     "name": "stderr",
     "output_type": "stream",
     "text": [
      "WARNING:absl:Function `_wrapped_model` contains input name(s) mobilenetv2_1.00_224_input with unsupported characters which will be renamed to mobilenetv2_1_00_224_input in the SavedModel.\n",
      "WARNING:absl:Found untraced functions such as _jit_compiled_convolution_op, _jit_compiled_convolution_op, _jit_compiled_convolution_op, _jit_compiled_convolution_op, _jit_compiled_convolution_op while saving (showing 5 of 52). These functions will not be directly callable after loading.\n"
     ]
    },
    {
     "name": "stdout",
     "output_type": "stream",
     "text": [
      "INFO:tensorflow:Assets written to: ChilePaper_MobileNetV2_model\\assets\n"
     ]
    },
    {
     "name": "stderr",
     "output_type": "stream",
     "text": [
      "INFO:tensorflow:Assets written to: ChilePaper_MobileNetV2_model\\assets\n"
     ]
    },
    {
     "name": "stdout",
     "output_type": "stream",
     "text": [
      "162/162 [==============================] - 19s 116ms/step - loss: 0.3476 - accuracy: 0.8703 - val_loss: 0.2994 - val_accuracy: 0.8835 - lr: 0.0010\n",
      "Epoch 5/100\n",
      "161/162 [============================>.] - ETA: 0s - loss: 0.2629 - accuracy: 0.8926\n",
      "Epoch 5: val_accuracy did not improve from 0.88353\n",
      "162/162 [==============================] - 4s 26ms/step - loss: 0.2646 - accuracy: 0.8920 - val_loss: 0.5018 - val_accuracy: 0.8103 - lr: 0.0010\n",
      "Epoch 6/100\n",
      "161/162 [============================>.] - ETA: 0s - loss: 0.2274 - accuracy: 0.9138\n",
      "Epoch 6: val_accuracy improved from 0.88353 to 0.89517, saving model to ChilePaper_MobileNetV2_model\n"
     ]
    },
    {
     "name": "stderr",
     "output_type": "stream",
     "text": [
      "WARNING:absl:Function `_wrapped_model` contains input name(s) mobilenetv2_1.00_224_input with unsupported characters which will be renamed to mobilenetv2_1_00_224_input in the SavedModel.\n",
      "WARNING:absl:Found untraced functions such as _jit_compiled_convolution_op, _jit_compiled_convolution_op, _jit_compiled_convolution_op, _jit_compiled_convolution_op, _jit_compiled_convolution_op while saving (showing 5 of 52). These functions will not be directly callable after loading.\n"
     ]
    },
    {
     "name": "stdout",
     "output_type": "stream",
     "text": [
      "INFO:tensorflow:Assets written to: ChilePaper_MobileNetV2_model\\assets\n"
     ]
    },
    {
     "name": "stderr",
     "output_type": "stream",
     "text": [
      "INFO:tensorflow:Assets written to: ChilePaper_MobileNetV2_model\\assets\n"
     ]
    },
    {
     "name": "stdout",
     "output_type": "stream",
     "text": [
      "162/162 [==============================] - 18s 113ms/step - loss: 0.2264 - accuracy: 0.9143 - val_loss: 0.3412 - val_accuracy: 0.8952 - lr: 0.0010\n",
      "Epoch 7/100\n",
      "160/162 [============================>.] - ETA: 0s - loss: 0.2083 - accuracy: 0.9239\n",
      "Epoch 7: val_accuracy did not improve from 0.89517\n",
      "162/162 [==============================] - 4s 24ms/step - loss: 0.2139 - accuracy: 0.9218 - val_loss: 0.4595 - val_accuracy: 0.8369 - lr: 0.0010\n",
      "Epoch 8/100\n",
      "160/162 [============================>.] - ETA: 0s - loss: 0.1920 - accuracy: 0.9283\n",
      "Epoch 8: val_accuracy did not improve from 0.89517\n",
      "162/162 [==============================] - 4s 24ms/step - loss: 0.1954 - accuracy: 0.9268 - val_loss: 0.6300 - val_accuracy: 0.7720 - lr: 0.0010\n",
      "Epoch 9/100\n",
      "160/162 [============================>.] - ETA: 0s - loss: 0.2070 - accuracy: 0.9227\n",
      "Epoch 9: val_accuracy did not improve from 0.89517\n",
      "\n",
      "Epoch 9: ReduceLROnPlateau reducing learning rate to 0.00010000000474974513.\n",
      "162/162 [==============================] - 4s 23ms/step - loss: 0.2067 - accuracy: 0.9224 - val_loss: 0.3695 - val_accuracy: 0.8636 - lr: 0.0010\n",
      "Epoch 10/100\n",
      "160/162 [============================>.] - ETA: 0s - loss: 0.1013 - accuracy: 0.9661\n",
      "Epoch 10: val_accuracy improved from 0.89517 to 0.91847, saving model to ChilePaper_MobileNetV2_model\n"
     ]
    },
    {
     "name": "stderr",
     "output_type": "stream",
     "text": [
      "WARNING:absl:Function `_wrapped_model` contains input name(s) mobilenetv2_1.00_224_input with unsupported characters which will be renamed to mobilenetv2_1_00_224_input in the SavedModel.\n",
      "WARNING:absl:Found untraced functions such as _jit_compiled_convolution_op, _jit_compiled_convolution_op, _jit_compiled_convolution_op, _jit_compiled_convolution_op, _jit_compiled_convolution_op while saving (showing 5 of 52). These functions will not be directly callable after loading.\n"
     ]
    },
    {
     "name": "stdout",
     "output_type": "stream",
     "text": [
      "INFO:tensorflow:Assets written to: ChilePaper_MobileNetV2_model\\assets\n"
     ]
    },
    {
     "name": "stderr",
     "output_type": "stream",
     "text": [
      "INFO:tensorflow:Assets written to: ChilePaper_MobileNetV2_model\\assets\n"
     ]
    },
    {
     "name": "stdout",
     "output_type": "stream",
     "text": [
      "162/162 [==============================] - 18s 110ms/step - loss: 0.1006 - accuracy: 0.9665 - val_loss: 0.2719 - val_accuracy: 0.9185 - lr: 1.0000e-04\n",
      "Epoch 11/100\n",
      "161/162 [============================>.] - ETA: 0s - loss: 0.0847 - accuracy: 0.9713\n",
      "Epoch 11: val_accuracy did not improve from 0.91847\n",
      "162/162 [==============================] - 4s 24ms/step - loss: 0.0844 - accuracy: 0.9714 - val_loss: 0.2777 - val_accuracy: 0.9185 - lr: 1.0000e-04\n",
      "Epoch 12/100\n",
      "159/162 [============================>.] - ETA: 0s - loss: 0.0732 - accuracy: 0.9760\n",
      "Epoch 12: val_accuracy did not improve from 0.91847\n",
      "162/162 [==============================] - 4s 24ms/step - loss: 0.0731 - accuracy: 0.9758 - val_loss: 0.2996 - val_accuracy: 0.8952 - lr: 1.0000e-04\n",
      "Epoch 13/100\n",
      "161/162 [============================>.] - ETA: 0s - loss: 0.0775 - accuracy: 0.9775\n",
      "Epoch 13: val_accuracy improved from 0.91847 to 0.92180, saving model to ChilePaper_MobileNetV2_model\n"
     ]
    },
    {
     "name": "stderr",
     "output_type": "stream",
     "text": [
      "WARNING:absl:Function `_wrapped_model` contains input name(s) mobilenetv2_1.00_224_input with unsupported characters which will be renamed to mobilenetv2_1_00_224_input in the SavedModel.\n",
      "WARNING:absl:Found untraced functions such as _jit_compiled_convolution_op, _jit_compiled_convolution_op, _jit_compiled_convolution_op, _jit_compiled_convolution_op, _jit_compiled_convolution_op while saving (showing 5 of 52). These functions will not be directly callable after loading.\n"
     ]
    },
    {
     "name": "stdout",
     "output_type": "stream",
     "text": [
      "INFO:tensorflow:Assets written to: ChilePaper_MobileNetV2_model\\assets\n"
     ]
    },
    {
     "name": "stderr",
     "output_type": "stream",
     "text": [
      "INFO:tensorflow:Assets written to: ChilePaper_MobileNetV2_model\\assets\n"
     ]
    },
    {
     "name": "stdout",
     "output_type": "stream",
     "text": [
      "162/162 [==============================] - 18s 109ms/step - loss: 0.0782 - accuracy: 0.9770 - val_loss: 0.2685 - val_accuracy: 0.9218 - lr: 1.0000e-04\n",
      "Epoch 14/100\n",
      "162/162 [==============================] - ETA: 0s - loss: 0.0737 - accuracy: 0.9721\n",
      "Epoch 14: val_accuracy did not improve from 0.92180\n",
      "162/162 [==============================] - 4s 25ms/step - loss: 0.0737 - accuracy: 0.9721 - val_loss: 0.2799 - val_accuracy: 0.9168 - lr: 1.0000e-04\n",
      "Epoch 15/100\n",
      "162/162 [==============================] - ETA: 0s - loss: 0.0682 - accuracy: 0.9764\n",
      "Epoch 15: val_accuracy did not improve from 0.92180\n",
      "162/162 [==============================] - 4s 25ms/step - loss: 0.0682 - accuracy: 0.9764 - val_loss: 0.3045 - val_accuracy: 0.9002 - lr: 1.0000e-04\n",
      "Epoch 16/100\n",
      "160/162 [============================>.] - ETA: 0s - loss: 0.0654 - accuracy: 0.9786\n",
      "Epoch 16: val_accuracy did not improve from 0.92180\n",
      "162/162 [==============================] - 4s 24ms/step - loss: 0.0655 - accuracy: 0.9783 - val_loss: 0.3184 - val_accuracy: 0.8852 - lr: 1.0000e-04\n",
      "Epoch 17/100\n",
      "160/162 [============================>.] - ETA: 0s - loss: 0.0596 - accuracy: 0.9811\n",
      "Epoch 17: val_accuracy did not improve from 0.92180\n",
      "162/162 [==============================] - 4s 24ms/step - loss: 0.0592 - accuracy: 0.9814 - val_loss: 0.2776 - val_accuracy: 0.9118 - lr: 1.0000e-04\n",
      "Epoch 18/100\n",
      "160/162 [============================>.] - ETA: 0s - loss: 0.0666 - accuracy: 0.9736\n",
      "Epoch 18: val_accuracy did not improve from 0.92180\n",
      "162/162 [==============================] - 4s 23ms/step - loss: 0.0673 - accuracy: 0.9733 - val_loss: 0.2655 - val_accuracy: 0.9118 - lr: 1.0000e-04\n",
      "Epoch 19/100\n",
      "162/162 [==============================] - ETA: 0s - loss: 0.0619 - accuracy: 0.9808\n",
      "Epoch 19: val_accuracy did not improve from 0.92180\n",
      "162/162 [==============================] - 4s 24ms/step - loss: 0.0619 - accuracy: 0.9808 - val_loss: 0.2644 - val_accuracy: 0.9168 - lr: 1.0000e-04\n",
      "Epoch 20/100\n",
      "162/162 [==============================] - ETA: 0s - loss: 0.0607 - accuracy: 0.9814\n",
      "Epoch 20: val_accuracy improved from 0.92180 to 0.92346, saving model to ChilePaper_MobileNetV2_model\n"
     ]
    },
    {
     "name": "stderr",
     "output_type": "stream",
     "text": [
      "WARNING:absl:Function `_wrapped_model` contains input name(s) mobilenetv2_1.00_224_input with unsupported characters which will be renamed to mobilenetv2_1_00_224_input in the SavedModel.\n",
      "WARNING:absl:Found untraced functions such as _jit_compiled_convolution_op, _jit_compiled_convolution_op, _jit_compiled_convolution_op, _jit_compiled_convolution_op, _jit_compiled_convolution_op while saving (showing 5 of 52). These functions will not be directly callable after loading.\n"
     ]
    },
    {
     "name": "stdout",
     "output_type": "stream",
     "text": [
      "INFO:tensorflow:Assets written to: ChilePaper_MobileNetV2_model\\assets\n"
     ]
    },
    {
     "name": "stderr",
     "output_type": "stream",
     "text": [
      "INFO:tensorflow:Assets written to: ChilePaper_MobileNetV2_model\\assets\n"
     ]
    },
    {
     "name": "stdout",
     "output_type": "stream",
     "text": [
      "162/162 [==============================] - 17s 108ms/step - loss: 0.0607 - accuracy: 0.9814 - val_loss: 0.2578 - val_accuracy: 0.9235 - lr: 1.0000e-04\n",
      "Epoch 21/100\n",
      "161/162 [============================>.] - ETA: 0s - loss: 0.0574 - accuracy: 0.9819\n",
      "Epoch 21: val_accuracy did not improve from 0.92346\n",
      "162/162 [==============================] - 4s 25ms/step - loss: 0.0572 - accuracy: 0.9820 - val_loss: 0.2950 - val_accuracy: 0.9052 - lr: 1.0000e-04\n",
      "Epoch 22/100\n",
      "160/162 [============================>.] - ETA: 0s - loss: 0.0659 - accuracy: 0.9799\n",
      "Epoch 22: val_accuracy improved from 0.92346 to 0.92512, saving model to ChilePaper_MobileNetV2_model\n"
     ]
    },
    {
     "name": "stderr",
     "output_type": "stream",
     "text": [
      "WARNING:absl:Function `_wrapped_model` contains input name(s) mobilenetv2_1.00_224_input with unsupported characters which will be renamed to mobilenetv2_1_00_224_input in the SavedModel.\n",
      "WARNING:absl:Found untraced functions such as _jit_compiled_convolution_op, _jit_compiled_convolution_op, _jit_compiled_convolution_op, _jit_compiled_convolution_op, _jit_compiled_convolution_op while saving (showing 5 of 52). These functions will not be directly callable after loading.\n"
     ]
    },
    {
     "name": "stdout",
     "output_type": "stream",
     "text": [
      "INFO:tensorflow:Assets written to: ChilePaper_MobileNetV2_model\\assets\n"
     ]
    },
    {
     "name": "stderr",
     "output_type": "stream",
     "text": [
      "INFO:tensorflow:Assets written to: ChilePaper_MobileNetV2_model\\assets\n"
     ]
    },
    {
     "name": "stdout",
     "output_type": "stream",
     "text": [
      "162/162 [==============================] - 18s 110ms/step - loss: 0.0652 - accuracy: 0.9801 - val_loss: 0.2586 - val_accuracy: 0.9251 - lr: 1.0000e-04\n",
      "Epoch 23/100\n",
      "160/162 [============================>.] - ETA: 0s - loss: 0.0660 - accuracy: 0.9755\n",
      "Epoch 23: val_accuracy did not improve from 0.92512\n",
      "162/162 [==============================] - 4s 24ms/step - loss: 0.0653 - accuracy: 0.9758 - val_loss: 0.3154 - val_accuracy: 0.8885 - lr: 1.0000e-04\n",
      "Epoch 24/100\n",
      "160/162 [============================>.] - ETA: 0s - loss: 0.0539 - accuracy: 0.9830\n",
      "Epoch 24: val_accuracy did not improve from 0.92512\n",
      "162/162 [==============================] - 4s 24ms/step - loss: 0.0535 - accuracy: 0.9832 - val_loss: 0.2817 - val_accuracy: 0.9101 - lr: 1.0000e-04\n",
      "Epoch 25/100\n",
      "159/162 [============================>.] - ETA: 0s - loss: 0.0554 - accuracy: 0.9823\n",
      "Epoch 25: val_accuracy did not improve from 0.92512\n",
      "\n",
      "Epoch 25: ReduceLROnPlateau reducing learning rate to 1.0000000474974514e-05.\n",
      "162/162 [==============================] - 4s 24ms/step - loss: 0.0548 - accuracy: 0.9826 - val_loss: 0.2746 - val_accuracy: 0.9201 - lr: 1.0000e-04\n",
      "Epoch 26/100\n",
      "161/162 [============================>.] - ETA: 0s - loss: 0.0490 - accuracy: 0.9844\n",
      "Epoch 26: val_accuracy did not improve from 0.92512\n",
      "162/162 [==============================] - 4s 25ms/step - loss: 0.0491 - accuracy: 0.9845 - val_loss: 0.2675 - val_accuracy: 0.9185 - lr: 1.0000e-05\n",
      "Epoch 27/100\n",
      "161/162 [============================>.] - ETA: 0s - loss: 0.0540 - accuracy: 0.9844\n",
      "Epoch 27: val_accuracy did not improve from 0.92512\n",
      "162/162 [==============================] - 4s 26ms/step - loss: 0.0539 - accuracy: 0.9845 - val_loss: 0.2740 - val_accuracy: 0.9168 - lr: 1.0000e-05\n",
      "Epoch 28/100\n",
      "162/162 [==============================] - ETA: 0s - loss: 0.0480 - accuracy: 0.9839\n",
      "Epoch 28: val_accuracy did not improve from 0.92512\n",
      "162/162 [==============================] - 4s 24ms/step - loss: 0.0480 - accuracy: 0.9839 - val_loss: 0.2723 - val_accuracy: 0.9168 - lr: 1.0000e-05\n",
      "Epoch 29/100\n",
      "159/162 [============================>.] - ETA: 0s - loss: 0.0530 - accuracy: 0.9855\n",
      "Epoch 29: val_accuracy did not improve from 0.92512\n",
      "162/162 [==============================] - 4s 24ms/step - loss: 0.0531 - accuracy: 0.9857 - val_loss: 0.2706 - val_accuracy: 0.9218 - lr: 1.0000e-05\n",
      "Epoch 30/100\n",
      "159/162 [============================>.] - ETA: 0s - loss: 0.0393 - accuracy: 0.9924\n",
      "Epoch 30: val_accuracy did not improve from 0.92512\n",
      "\n",
      "Epoch 30: ReduceLROnPlateau reducing learning rate to 1.0000000656873453e-06.\n",
      "162/162 [==============================] - 4s 25ms/step - loss: 0.0396 - accuracy: 0.9919 - val_loss: 0.2686 - val_accuracy: 0.9185 - lr: 1.0000e-05\n",
      "Epoch 31/100\n",
      "162/162 [==============================] - ETA: 0s - loss: 0.0470 - accuracy: 0.9863\n",
      "Epoch 31: val_accuracy did not improve from 0.92512\n",
      "162/162 [==============================] - 4s 24ms/step - loss: 0.0470 - accuracy: 0.9863 - val_loss: 0.2684 - val_accuracy: 0.9185 - lr: 1.0000e-06\n",
      "Epoch 32/100\n",
      "161/162 [============================>.] - ETA: 0s - loss: 0.0460 - accuracy: 0.9863\n",
      "Epoch 32: val_accuracy did not improve from 0.92512\n",
      "162/162 [==============================] - 4s 25ms/step - loss: 0.0458 - accuracy: 0.9863 - val_loss: 0.2691 - val_accuracy: 0.9201 - lr: 1.0000e-06\n",
      "Epoch 33/100\n",
      "159/162 [============================>.] - ETA: 0s - loss: 0.0454 - accuracy: 0.9855\n",
      "Epoch 33: val_accuracy did not improve from 0.92512\n",
      "162/162 [==============================] - 4s 24ms/step - loss: 0.0447 - accuracy: 0.9857 - val_loss: 0.2689 - val_accuracy: 0.9218 - lr: 1.0000e-06\n",
      "Epoch 34/100\n",
      "160/162 [============================>.] - ETA: 0s - loss: 0.0491 - accuracy: 0.9824\n",
      "Epoch 34: val_accuracy did not improve from 0.92512\n",
      "162/162 [==============================] - 4s 24ms/step - loss: 0.0494 - accuracy: 0.9820 - val_loss: 0.2698 - val_accuracy: 0.9201 - lr: 1.0000e-06\n",
      "Epoch 35/100\n",
      "162/162 [==============================] - ETA: 0s - loss: 0.0424 - accuracy: 0.9876\n",
      "Epoch 35: val_accuracy did not improve from 0.92512\n",
      "\n",
      "Epoch 35: ReduceLROnPlateau reducing learning rate to 1.0000001111620805e-07.\n",
      "162/162 [==============================] - 4s 24ms/step - loss: 0.0424 - accuracy: 0.9876 - val_loss: 0.2696 - val_accuracy: 0.9218 - lr: 1.0000e-06\n",
      "Epoch 36/100\n",
      "161/162 [============================>.] - ETA: 0s - loss: 0.0477 - accuracy: 0.9838\n",
      "Epoch 36: val_accuracy did not improve from 0.92512\n",
      "162/162 [==============================] - 4s 25ms/step - loss: 0.0474 - accuracy: 0.9839 - val_loss: 0.2697 - val_accuracy: 0.9218 - lr: 1.0000e-07\n",
      "Epoch 37/100\n",
      "161/162 [============================>.] - ETA: 0s - loss: 0.0533 - accuracy: 0.9831\n",
      "Epoch 37: val_accuracy did not improve from 0.92512\n",
      "162/162 [==============================] - 4s 23ms/step - loss: 0.0535 - accuracy: 0.9832 - val_loss: 0.2697 - val_accuracy: 0.9218 - lr: 1.0000e-07\n",
      "Epoch 38/100\n",
      "159/162 [============================>.] - ETA: 0s - loss: 0.0456 - accuracy: 0.9873\n",
      "Epoch 38: val_accuracy did not improve from 0.92512\n",
      "162/162 [==============================] - 4s 25ms/step - loss: 0.0453 - accuracy: 0.9876 - val_loss: 0.2698 - val_accuracy: 0.9218 - lr: 1.0000e-07\n",
      "Epoch 39/100\n",
      "162/162 [==============================] - ETA: 0s - loss: 0.0522 - accuracy: 0.9857\n",
      "Epoch 39: val_accuracy did not improve from 0.92512\n",
      "162/162 [==============================] - 4s 25ms/step - loss: 0.0522 - accuracy: 0.9857 - val_loss: 0.2698 - val_accuracy: 0.9218 - lr: 1.0000e-07\n",
      "Epoch 40/100\n",
      "161/162 [============================>.] - ETA: 0s - loss: 0.0427 - accuracy: 0.9881\n",
      "Epoch 40: val_accuracy did not improve from 0.92512\n",
      "\n",
      "Epoch 40: ReduceLROnPlateau reducing learning rate to 1.000000082740371e-08.\n",
      "162/162 [==============================] - 4s 24ms/step - loss: 0.0425 - accuracy: 0.9882 - val_loss: 0.2698 - val_accuracy: 0.9218 - lr: 1.0000e-07\n",
      "Epoch 41/100\n",
      "160/162 [============================>.] - ETA: 0s - loss: 0.0500 - accuracy: 0.9849\n",
      "Epoch 41: val_accuracy did not improve from 0.92512\n",
      "162/162 [==============================] - 4s 24ms/step - loss: 0.0497 - accuracy: 0.9851 - val_loss: 0.2698 - val_accuracy: 0.9218 - lr: 1.0000e-08\n",
      "Epoch 42/100\n",
      "160/162 [============================>.] - ETA: 0s - loss: 0.0488 - accuracy: 0.9837\n",
      "Epoch 42: val_accuracy did not improve from 0.92512\n",
      "Restoring model weights from the end of the best epoch: 22.\n",
      "162/162 [==============================] - 4s 24ms/step - loss: 0.0485 - accuracy: 0.9839 - val_loss: 0.2698 - val_accuracy: 0.9218 - lr: 1.0000e-08\n",
      "Epoch 42: early stopping\n"
     ]
    }
   ],
   "source": [
    "# Define the number of epochs\n",
    "num_epochs = 100\n",
    "\n",
    "# Train the model\n",
    "history_MobileNetV2_model_1 = MobileNetV2_model.fit(train_generator, epochs=num_epochs, validation_data=validation_generator, callbacks=callbacks)"
   ]
  },
  {
   "cell_type": "code",
   "execution_count": 15,
   "metadata": {},
   "outputs": [
    {
     "data": {
      "text/plain": [
       "<matplotlib.legend.Legend at 0x221d7579600>"
      ]
     },
     "execution_count": 15,
     "metadata": {},
     "output_type": "execute_result"
    },
    {
     "data": {
      "image/png": "[encoded data removed]",
      "text/plain": [
       "<Figure size 640x480 with 1 Axes>"
      ]
     },
     "metadata": {},
     "output_type": "display_data"
    },
    {
     "data": {
      "image/png": "[encoded data removed]",
      "text/plain": [
       "<Figure size 640x480 with 1 Axes>"
      ]
     },
     "metadata": {},
     "output_type": "display_data"
    }
   ],
   "source": [
    "#-----------------------------------------------------------\n",
    "# Retrieve a list of list results on training and test data\n",
    "# sets for each training epoch\n",
    "#-----------------------------------------------------------\n",
    "acc      = history_MobileNetV2_model_1.history['accuracy' ]\n",
    "val_acc  = history_MobileNetV2_model_1.history['val_accuracy' ]\n",
    "loss     = history_MobileNetV2_model_1.history['loss' ]\n",
    "val_loss = history_MobileNetV2_model_1.history['val_loss' ]\n",
    "\n",
    "epochs   = range(len(acc)) # Get number of epochs\n",
    "\n",
    "#------------------------------------------------\n",
    "# Plot training and validation accuracy per epoch\n",
    "#------------------------------------------------\n",
    "plt.plot  (epochs, acc )\n",
    "plt.plot  (epochs, val_acc )\n",
    "plt.title ('Training and validation accuracy MobileNetV2 Model')\n",
    "plt.legend(['train', 'val'], loc='upper left')\n",
    "plt.figure()\n",
    "\n",
    "#------------------------------------------------\n",
    "# Plot training and validation loss per epoch\n",
    "#------------------------------------------------\n",
    "plt.plot  (epochs, loss)\n",
    "plt.plot  (epochs, val_loss)\n",
    "plt.title ('Training and validation loss MobileNetV2 Model')\n",
    "plt.legend(['train', 'val'], loc='upper left')"
   ]
  },
  {
   "attachments": {},
   "cell_type": "markdown",
   "metadata": {},
   "source": [
    "# MobileNetV2 2"
   ]
  },
  {
   "cell_type": "code",
   "execution_count": 16,
   "metadata": {},
   "outputs": [],
   "source": [
    "# Difine the callbacks\n",
    "# Save the best model\n",
    "checkpoint_callback = ModelCheckpoint(filepath=\"ChilePaper_MobileNetV2_model2\", save_best_only=True, monitor=\"val_accuracy\", mode=\"max\", verbose=1)\n",
    "\n",
    "# Early stopping\n",
    "early_stopping_callback = EarlyStopping(monitor=\"val_accuracy\", mode=\"max\", patience=20, verbose=1, restore_best_weights=True)\n",
    "\n",
    "# Reduce learning rate\n",
    "reduce_lr_callback = ReduceLROnPlateau(monitor=\"val_loss\", factor=0.1, patience=5, verbose=1, mode=\"min\", min_delta=0.0001, cooldown=0, min_lr=0)\n",
    "\n",
    "# Callbacks list\n",
    "callbacks=[checkpoint_callback, early_stopping_callback, reduce_lr_callback]"
   ]
  },
  {
   "cell_type": "code",
   "execution_count": 17,
   "metadata": {},
   "outputs": [
    {
     "name": "stdout",
     "output_type": "stream",
     "text": [
      "Model: \"sequential_3\"\n",
      "_________________________________________________________________\n",
      " Layer (type)                Output Shape              Param #   \n",
      "=================================================================\n",
      " mobilenetv2_1.00_224 (Funct  (None, 7, 7, 1280)       2257984   \n",
      " ional)                                                          \n",
      "                                                                 \n",
      " global_average_pooling2d_1   (None, 1280)             0         \n",
      " (GlobalAveragePooling2D)                                        \n",
      "                                                                 \n",
      " dropout_3 (Dropout)         (None, 1280)              0         \n",
      "                                                                 \n",
      " dense_6 (Dense)             (None, 256)               327936    \n",
      "                                                                 \n",
      " dense_7 (Dense)             (None, 5)                 1285      \n",
      "                                                                 \n",
      "=================================================================\n",
      "Total params: 2,587,205\n",
      "Trainable params: 329,221\n",
      "Non-trainable params: 2,257,984\n",
      "_________________________________________________________________\n"
     ]
    }
   ],
   "source": [
    "# Define DIY Model\n",
    "MobileNetV2_model2 = tf.keras.models.Sequential([\n",
    "    # MobileNetV2 Layer\n",
    "    MobileNetV2(include_top=False,weights='imagenet',input_shape=(224, 224, 3)),\n",
    "    # Global Average Pooling Layer\n",
    "    tf.keras.layers.GlobalAveragePooling2D(),\n",
    "    # Drop Out Layer\n",
    "    tf.keras.layers.Dropout(0.2),\n",
    "    # 256 neuron hidden layer\n",
    "    tf.keras.layers.Dense(256, activation='relu'),\n",
    "    # Output\n",
    "    tf.keras.layers.Dense(5, activation='softmax') \n",
    "  ])\n",
    "MobileNetV2_model2.layers[0].trainable = False\n",
    "\n",
    "# Compile Model\n",
    "MobileNetV2_model2.compile(loss='categorical_crossentropy',optimizer=tf.keras.optimizers.Adam(), metrics=['accuracy']) \n",
    "\n",
    "# Model Summary\n",
    "MobileNetV2_model2.summary()"
   ]
  },
  {
   "cell_type": "code",
   "execution_count": 18,
   "metadata": {},
   "outputs": [
    {
     "name": "stdout",
     "output_type": "stream",
     "text": [
      "Epoch 1/100\n",
      "161/162 [============================>.] - ETA: 0s - loss: 0.6367 - accuracy: 0.7502\n",
      "Epoch 1: val_accuracy improved from -inf to 0.84193, saving model to ChilePaper_MobileNetV2_model2\n"
     ]
    },
    {
     "name": "stderr",
     "output_type": "stream",
     "text": [
      "WARNING:absl:Function `_wrapped_model` contains input name(s) mobilenetv2_1.00_224_input with unsupported characters which will be renamed to mobilenetv2_1_00_224_input in the SavedModel.\n",
      "WARNING:absl:Found untraced functions such as _jit_compiled_convolution_op, _jit_compiled_convolution_op, _jit_compiled_convolution_op, _jit_compiled_convolution_op, _jit_compiled_convolution_op while saving (showing 5 of 52). These functions will not be directly callable after loading.\n"
     ]
    },
    {
     "name": "stdout",
     "output_type": "stream",
     "text": [
      "INFO:tensorflow:Assets written to: ChilePaper_MobileNetV2_model2\\assets\n"
     ]
    },
    {
     "name": "stderr",
     "output_type": "stream",
     "text": [
      "INFO:tensorflow:Assets written to: ChilePaper_MobileNetV2_model2\\assets\n"
     ]
    },
    {
     "name": "stdout",
     "output_type": "stream",
     "text": [
      "162/162 [==============================] - 20s 115ms/step - loss: 0.6333 - accuracy: 0.7517 - val_loss: 0.4561 - val_accuracy: 0.8419 - lr: 0.0010\n",
      "Epoch 2/100\n",
      "160/162 [============================>.] - ETA: 0s - loss: 0.3359 - accuracy: 0.8730\n",
      "Epoch 2: val_accuracy improved from 0.84193 to 0.88186, saving model to ChilePaper_MobileNetV2_model2\n"
     ]
    },
    {
     "name": "stderr",
     "output_type": "stream",
     "text": [
      "WARNING:absl:Function `_wrapped_model` contains input name(s) mobilenetv2_1.00_224_input with unsupported characters which will be renamed to mobilenetv2_1_00_224_input in the SavedModel.\n",
      "WARNING:absl:Found untraced functions such as _jit_compiled_convolution_op, _jit_compiled_convolution_op, _jit_compiled_convolution_op, _jit_compiled_convolution_op, _jit_compiled_convolution_op while saving (showing 5 of 52). These functions will not be directly callable after loading.\n"
     ]
    },
    {
     "name": "stdout",
     "output_type": "stream",
     "text": [
      "INFO:tensorflow:Assets written to: ChilePaper_MobileNetV2_model2\\assets\n"
     ]
    },
    {
     "name": "stderr",
     "output_type": "stream",
     "text": [
      "INFO:tensorflow:Assets written to: ChilePaper_MobileNetV2_model2\\assets\n"
     ]
    },
    {
     "name": "stdout",
     "output_type": "stream",
     "text": [
      "162/162 [==============================] - 18s 109ms/step - loss: 0.3328 - accuracy: 0.8740 - val_loss: 0.3357 - val_accuracy: 0.8819 - lr: 0.0010\n",
      "Epoch 3/100\n",
      "162/162 [==============================] - ETA: 0s - loss: 0.2335 - accuracy: 0.9112\n",
      "Epoch 3: val_accuracy did not improve from 0.88186\n",
      "162/162 [==============================] - 4s 24ms/step - loss: 0.2335 - accuracy: 0.9112 - val_loss: 0.3817 - val_accuracy: 0.8802 - lr: 0.0010\n",
      "Epoch 4/100\n",
      "160/162 [============================>.] - ETA: 0s - loss: 0.1921 - accuracy: 0.9296\n",
      "Epoch 4: val_accuracy did not improve from 0.88186\n",
      "162/162 [==============================] - 5s 28ms/step - loss: 0.1954 - accuracy: 0.9280 - val_loss: 0.4518 - val_accuracy: 0.8569 - lr: 0.0010\n",
      "Epoch 5/100\n",
      "162/162 [==============================] - ETA: 0s - loss: 0.1550 - accuracy: 0.9423\n",
      "Epoch 5: val_accuracy did not improve from 0.88186\n",
      "162/162 [==============================] - 4s 26ms/step - loss: 0.1550 - accuracy: 0.9423 - val_loss: 0.3829 - val_accuracy: 0.8819 - lr: 0.0010\n",
      "Epoch 6/100\n",
      "160/162 [============================>.] - ETA: 0s - loss: 0.1412 - accuracy: 0.9428\n",
      "Epoch 6: val_accuracy improved from 0.88186 to 0.92512, saving model to ChilePaper_MobileNetV2_model2\n"
     ]
    },
    {
     "name": "stderr",
     "output_type": "stream",
     "text": [
      "WARNING:absl:Function `_wrapped_model` contains input name(s) mobilenetv2_1.00_224_input with unsupported characters which will be renamed to mobilenetv2_1_00_224_input in the SavedModel.\n",
      "WARNING:absl:Found untraced functions such as _jit_compiled_convolution_op, _jit_compiled_convolution_op, _jit_compiled_convolution_op, _jit_compiled_convolution_op, _jit_compiled_convolution_op while saving (showing 5 of 52). These functions will not be directly callable after loading.\n"
     ]
    },
    {
     "name": "stdout",
     "output_type": "stream",
     "text": [
      "INFO:tensorflow:Assets written to: ChilePaper_MobileNetV2_model2\\assets\n"
     ]
    },
    {
     "name": "stderr",
     "output_type": "stream",
     "text": [
      "INFO:tensorflow:Assets written to: ChilePaper_MobileNetV2_model2\\assets\n"
     ]
    },
    {
     "name": "stdout",
     "output_type": "stream",
     "text": [
      "162/162 [==============================] - 19s 116ms/step - loss: 0.1397 - accuracy: 0.9435 - val_loss: 0.2841 - val_accuracy: 0.9251 - lr: 0.0010\n",
      "Epoch 7/100\n",
      "162/162 [==============================] - ETA: 0s - loss: 0.1520 - accuracy: 0.9472\n",
      "Epoch 7: val_accuracy did not improve from 0.92512\n",
      "162/162 [==============================] - 5s 27ms/step - loss: 0.1520 - accuracy: 0.9472 - val_loss: 0.3038 - val_accuracy: 0.9018 - lr: 0.0010\n",
      "Epoch 8/100\n",
      "160/162 [============================>.] - ETA: 0s - loss: 0.0971 - accuracy: 0.9617\n",
      "Epoch 8: val_accuracy did not improve from 0.92512\n",
      "162/162 [==============================] - 5s 29ms/step - loss: 0.0963 - accuracy: 0.9621 - val_loss: 0.3408 - val_accuracy: 0.9168 - lr: 0.0010\n",
      "Epoch 9/100\n",
      "160/162 [============================>.] - ETA: 0s - loss: 0.0819 - accuracy: 0.9686\n",
      "Epoch 9: val_accuracy did not improve from 0.92512\n",
      "162/162 [==============================] - 4s 26ms/step - loss: 0.0821 - accuracy: 0.9683 - val_loss: 0.2691 - val_accuracy: 0.9185 - lr: 0.0010\n",
      "Epoch 10/100\n",
      "161/162 [============================>.] - ETA: 0s - loss: 0.0803 - accuracy: 0.9700\n",
      "Epoch 10: val_accuracy did not improve from 0.92512\n",
      "162/162 [==============================] - 4s 27ms/step - loss: 0.0798 - accuracy: 0.9702 - val_loss: 0.4134 - val_accuracy: 0.8735 - lr: 0.0010\n",
      "Epoch 11/100\n",
      "161/162 [============================>.] - ETA: 0s - loss: 0.0801 - accuracy: 0.9675\n",
      "Epoch 11: val_accuracy did not improve from 0.92512\n",
      "162/162 [==============================] - 4s 25ms/step - loss: 0.0797 - accuracy: 0.9677 - val_loss: 0.3243 - val_accuracy: 0.9185 - lr: 0.0010\n",
      "Epoch 12/100\n",
      "161/162 [============================>.] - ETA: 0s - loss: 0.1121 - accuracy: 0.9575\n",
      "Epoch 12: val_accuracy did not improve from 0.92512\n",
      "162/162 [==============================] - 4s 27ms/step - loss: 0.1121 - accuracy: 0.9572 - val_loss: 0.3716 - val_accuracy: 0.8968 - lr: 0.0010\n",
      "Epoch 13/100\n",
      "161/162 [============================>.] - ETA: 0s - loss: 0.0545 - accuracy: 0.9813\n",
      "Epoch 13: val_accuracy did not improve from 0.92512\n",
      "162/162 [==============================] - 4s 27ms/step - loss: 0.0542 - accuracy: 0.9814 - val_loss: 0.2895 - val_accuracy: 0.9168 - lr: 0.0010\n",
      "Epoch 14/100\n",
      "160/162 [============================>.] - ETA: 0s - loss: 0.0791 - accuracy: 0.9654\n",
      "Epoch 14: val_accuracy did not improve from 0.92512\n",
      "\n",
      "Epoch 14: ReduceLROnPlateau reducing learning rate to 0.00010000000474974513.\n",
      "162/162 [==============================] - 4s 25ms/step - loss: 0.0824 - accuracy: 0.9646 - val_loss: 0.2740 - val_accuracy: 0.9135 - lr: 0.0010\n",
      "Epoch 15/100\n",
      "161/162 [============================>.] - ETA: 0s - loss: 0.0362 - accuracy: 0.9894\n",
      "Epoch 15: val_accuracy improved from 0.92512 to 0.93511, saving model to ChilePaper_MobileNetV2_model2\n"
     ]
    },
    {
     "name": "stderr",
     "output_type": "stream",
     "text": [
      "WARNING:absl:Function `_wrapped_model` contains input name(s) mobilenetv2_1.00_224_input with unsupported characters which will be renamed to mobilenetv2_1_00_224_input in the SavedModel.\n",
      "WARNING:absl:Found untraced functions such as _jit_compiled_convolution_op, _jit_compiled_convolution_op, _jit_compiled_convolution_op, _jit_compiled_convolution_op, _jit_compiled_convolution_op while saving (showing 5 of 52). These functions will not be directly callable after loading.\n"
     ]
    },
    {
     "name": "stdout",
     "output_type": "stream",
     "text": [
      "INFO:tensorflow:Assets written to: ChilePaper_MobileNetV2_model2\\assets\n"
     ]
    },
    {
     "name": "stderr",
     "output_type": "stream",
     "text": [
      "INFO:tensorflow:Assets written to: ChilePaper_MobileNetV2_model2\\assets\n"
     ]
    },
    {
     "name": "stdout",
     "output_type": "stream",
     "text": [
      "162/162 [==============================] - 19s 115ms/step - loss: 0.0361 - accuracy: 0.9894 - val_loss: 0.2706 - val_accuracy: 0.9351 - lr: 1.0000e-04\n",
      "Epoch 16/100\n",
      "160/162 [============================>.] - ETA: 0s - loss: 0.0230 - accuracy: 0.9937\n",
      "Epoch 16: val_accuracy did not improve from 0.93511\n",
      "162/162 [==============================] - 4s 24ms/step - loss: 0.0228 - accuracy: 0.9938 - val_loss: 0.2671 - val_accuracy: 0.9334 - lr: 1.0000e-04\n",
      "Epoch 17/100\n",
      "160/162 [============================>.] - ETA: 0s - loss: 0.0250 - accuracy: 0.9943\n",
      "Epoch 17: val_accuracy did not improve from 0.93511\n",
      "162/162 [==============================] - 4s 25ms/step - loss: 0.0251 - accuracy: 0.9944 - val_loss: 0.2953 - val_accuracy: 0.9318 - lr: 1.0000e-04\n",
      "Epoch 18/100\n",
      "161/162 [============================>.] - ETA: 0s - loss: 0.0182 - accuracy: 0.9969\n",
      "Epoch 18: val_accuracy did not improve from 0.93511\n",
      "162/162 [==============================] - 4s 24ms/step - loss: 0.0181 - accuracy: 0.9969 - val_loss: 0.2778 - val_accuracy: 0.9301 - lr: 1.0000e-04\n",
      "Epoch 19/100\n",
      "161/162 [============================>.] - ETA: 0s - loss: 0.0194 - accuracy: 0.9963\n",
      "Epoch 19: val_accuracy did not improve from 0.93511\n",
      "162/162 [==============================] - 4s 25ms/step - loss: 0.0192 - accuracy: 0.9963 - val_loss: 0.2726 - val_accuracy: 0.9318 - lr: 1.0000e-04\n",
      "Epoch 20/100\n",
      "160/162 [============================>.] - ETA: 0s - loss: 0.0119 - accuracy: 0.9987\n",
      "Epoch 20: val_accuracy did not improve from 0.93511\n",
      "162/162 [==============================] - 4s 25ms/step - loss: 0.0124 - accuracy: 0.9981 - val_loss: 0.2753 - val_accuracy: 0.9301 - lr: 1.0000e-04\n",
      "Epoch 21/100\n",
      "161/162 [============================>.] - ETA: 0s - loss: 0.0207 - accuracy: 0.9956\n",
      "Epoch 21: val_accuracy did not improve from 0.93511\n",
      "\n",
      "Epoch 21: ReduceLROnPlateau reducing learning rate to 1.0000000474974514e-05.\n",
      "162/162 [==============================] - 4s 25ms/step - loss: 0.0206 - accuracy: 0.9957 - val_loss: 0.2810 - val_accuracy: 0.9301 - lr: 1.0000e-04\n",
      "Epoch 22/100\n",
      "161/162 [============================>.] - ETA: 0s - loss: 0.0179 - accuracy: 0.9950\n",
      "Epoch 22: val_accuracy did not improve from 0.93511\n",
      "162/162 [==============================] - 4s 25ms/step - loss: 0.0178 - accuracy: 0.9950 - val_loss: 0.2777 - val_accuracy: 0.9285 - lr: 1.0000e-05\n",
      "Epoch 23/100\n",
      "162/162 [==============================] - ETA: 0s - loss: 0.0139 - accuracy: 0.9981\n",
      "Epoch 23: val_accuracy did not improve from 0.93511\n",
      "162/162 [==============================] - 4s 24ms/step - loss: 0.0139 - accuracy: 0.9981 - val_loss: 0.2776 - val_accuracy: 0.9268 - lr: 1.0000e-05\n",
      "Epoch 24/100\n",
      "161/162 [============================>.] - ETA: 0s - loss: 0.0175 - accuracy: 0.9944\n",
      "Epoch 24: val_accuracy did not improve from 0.93511\n",
      "162/162 [==============================] - 4s 26ms/step - loss: 0.0174 - accuracy: 0.9944 - val_loss: 0.2766 - val_accuracy: 0.9285 - lr: 1.0000e-05\n",
      "Epoch 25/100\n",
      "161/162 [============================>.] - ETA: 0s - loss: 0.0148 - accuracy: 0.9963\n",
      "Epoch 25: val_accuracy did not improve from 0.93511\n",
      "162/162 [==============================] - 4s 25ms/step - loss: 0.0147 - accuracy: 0.9963 - val_loss: 0.2749 - val_accuracy: 0.9285 - lr: 1.0000e-05\n",
      "Epoch 26/100\n",
      "160/162 [============================>.] - ETA: 0s - loss: 0.0154 - accuracy: 0.9956\n",
      "Epoch 26: val_accuracy did not improve from 0.93511\n",
      "\n",
      "Epoch 26: ReduceLROnPlateau reducing learning rate to 1.0000000656873453e-06.\n",
      "162/162 [==============================] - 4s 25ms/step - loss: 0.0152 - accuracy: 0.9957 - val_loss: 0.2744 - val_accuracy: 0.9268 - lr: 1.0000e-05\n",
      "Epoch 27/100\n",
      "161/162 [============================>.] - ETA: 0s - loss: 0.0159 - accuracy: 0.9956\n",
      "Epoch 27: val_accuracy did not improve from 0.93511\n",
      "162/162 [==============================] - 4s 25ms/step - loss: 0.0158 - accuracy: 0.9957 - val_loss: 0.2746 - val_accuracy: 0.9268 - lr: 1.0000e-06\n",
      "Epoch 28/100\n",
      "161/162 [============================>.] - ETA: 0s - loss: 0.0139 - accuracy: 0.9975\n",
      "Epoch 28: val_accuracy did not improve from 0.93511\n",
      "162/162 [==============================] - 4s 25ms/step - loss: 0.0139 - accuracy: 0.9975 - val_loss: 0.2748 - val_accuracy: 0.9268 - lr: 1.0000e-06\n",
      "Epoch 29/100\n",
      "160/162 [============================>.] - ETA: 0s - loss: 0.0145 - accuracy: 0.9956\n",
      "Epoch 29: val_accuracy did not improve from 0.93511\n",
      "162/162 [==============================] - 4s 25ms/step - loss: 0.0143 - accuracy: 0.9957 - val_loss: 0.2747 - val_accuracy: 0.9268 - lr: 1.0000e-06\n",
      "Epoch 30/100\n",
      "162/162 [==============================] - ETA: 0s - loss: 0.0168 - accuracy: 0.9944\n",
      "Epoch 30: val_accuracy did not improve from 0.93511\n",
      "162/162 [==============================] - 4s 24ms/step - loss: 0.0168 - accuracy: 0.9944 - val_loss: 0.2750 - val_accuracy: 0.9268 - lr: 1.0000e-06\n",
      "Epoch 31/100\n",
      "160/162 [============================>.] - ETA: 0s - loss: 0.0128 - accuracy: 0.9981\n",
      "Epoch 31: val_accuracy did not improve from 0.93511\n",
      "\n",
      "Epoch 31: ReduceLROnPlateau reducing learning rate to 1.0000001111620805e-07.\n",
      "162/162 [==============================] - 4s 25ms/step - loss: 0.0127 - accuracy: 0.9981 - val_loss: 0.2748 - val_accuracy: 0.9268 - lr: 1.0000e-06\n",
      "Epoch 32/100\n",
      "162/162 [==============================] - ETA: 0s - loss: 0.0171 - accuracy: 0.9969\n",
      "Epoch 32: val_accuracy did not improve from 0.93511\n",
      "162/162 [==============================] - 4s 24ms/step - loss: 0.0171 - accuracy: 0.9969 - val_loss: 0.2749 - val_accuracy: 0.9268 - lr: 1.0000e-07\n",
      "Epoch 33/100\n",
      "162/162 [==============================] - ETA: 0s - loss: 0.0158 - accuracy: 0.9944\n",
      "Epoch 33: val_accuracy did not improve from 0.93511\n",
      "162/162 [==============================] - 4s 25ms/step - loss: 0.0158 - accuracy: 0.9944 - val_loss: 0.2749 - val_accuracy: 0.9268 - lr: 1.0000e-07\n",
      "Epoch 34/100\n",
      "159/162 [============================>.] - ETA: 0s - loss: 0.0172 - accuracy: 0.9956\n",
      "Epoch 34: val_accuracy did not improve from 0.93511\n",
      "162/162 [==============================] - 4s 25ms/step - loss: 0.0172 - accuracy: 0.9957 - val_loss: 0.2750 - val_accuracy: 0.9268 - lr: 1.0000e-07\n",
      "Epoch 35/100\n",
      "160/162 [============================>.] - ETA: 0s - loss: 0.0169 - accuracy: 0.9975\n",
      "Epoch 35: val_accuracy did not improve from 0.93511\n",
      "Restoring model weights from the end of the best epoch: 15.\n",
      "162/162 [==============================] - 4s 25ms/step - loss: 0.0168 - accuracy: 0.9975 - val_loss: 0.2750 - val_accuracy: 0.9268 - lr: 1.0000e-07\n",
      "Epoch 35: early stopping\n"
     ]
    }
   ],
   "source": [
    "# Define the number of epochs\n",
    "num_epochs = 100\n",
    "\n",
    "# Train the model\n",
    "history_MobileNetV2_model_2 = MobileNetV2_model2.fit(train_generator, epochs=num_epochs, validation_data=validation_generator, callbacks=callbacks)"
   ]
  },
  {
   "cell_type": "code",
   "execution_count": 19,
   "metadata": {},
   "outputs": [
    {
     "data": {
      "text/plain": [
       "<matplotlib.legend.Legend at 0x221b964d600>"
      ]
     },
     "execution_count": 19,
     "metadata": {},
     "output_type": "execute_result"
    },
    {
     "data": {
      "image/png": "[encoded data removed]",
      "text/plain": [
       "<Figure size 640x480 with 1 Axes>"
      ]
     },
     "metadata": {},
     "output_type": "display_data"
    },
    {
     "data": {
      "image/png": "[encoded data removed]",
      "text/plain": [
       "<Figure size 640x480 with 1 Axes>"
      ]
     },
     "metadata": {},
     "output_type": "display_data"
    }
   ],
   "source": [
    "#-----------------------------------------------------------\n",
    "# Retrieve a list of list results on training and test data\n",
    "# sets for each training epoch\n",
    "#-----------------------------------------------------------\n",
    "acc      = history_MobileNetV2_model_2.history['accuracy' ]\n",
    "val_acc  = history_MobileNetV2_model_2.history['val_accuracy' ]\n",
    "loss     = history_MobileNetV2_model_2.history['loss' ]\n",
    "val_loss = history_MobileNetV2_model_2.history['val_loss' ]\n",
    "\n",
    "epochs   = range(len(acc)) # Get number of epochs\n",
    "\n",
    "#------------------------------------------------\n",
    "# Plot training and validation accuracy per epoch\n",
    "#------------------------------------------------\n",
    "plt.plot  (epochs, acc )\n",
    "plt.plot  (epochs, val_acc )\n",
    "plt.title ('Training and validation accuracy MobileNetV2 Model 2')\n",
    "plt.legend(['train', 'val'], loc='upper left')\n",
    "plt.figure()\n",
    "\n",
    "#------------------------------------------------\n",
    "# Plot training and validation loss per epoch\n",
    "#------------------------------------------------\n",
    "plt.plot  (epochs, loss)\n",
    "plt.plot  (epochs, val_loss)\n",
    "plt.title ('Training and validation loss MobileNetV2 Model 2')\n",
    "plt.legend(['train', 'val'], loc='upper left')"
   ]
  },
  {
   "attachments": {},
   "cell_type": "markdown",
   "metadata": {},
   "source": [
    "# Xception"
   ]
  },
  {
   "cell_type": "code",
   "execution_count": 20,
   "metadata": {},
   "outputs": [],
   "source": [
    "# Difine the callbacks\n",
    "# Save the best model\n",
    "checkpoint_callback = ModelCheckpoint(filepath=\"ChilePaper_Xception_model\", save_best_only=True, monitor=\"val_accuracy\", mode=\"max\", verbose=1)\n",
    "\n",
    "# Early stopping\n",
    "early_stopping_callback = EarlyStopping(monitor=\"val_accuracy\", mode=\"max\", patience=20, verbose=1, restore_best_weights=True)\n",
    "\n",
    "# Reduce learning rate\n",
    "reduce_lr_callback = ReduceLROnPlateau(monitor=\"val_loss\", factor=0.1, patience=5, verbose=1, mode=\"min\", min_delta=0.0001, cooldown=0, min_lr=0)\n",
    "\n",
    "# Callbacks list\n",
    "callbacks=[checkpoint_callback, early_stopping_callback, reduce_lr_callback]"
   ]
  },
  {
   "cell_type": "code",
   "execution_count": 21,
   "metadata": {},
   "outputs": [
    {
     "name": "stdout",
     "output_type": "stream",
     "text": [
      "Model: \"sequential_4\"\n",
      "_________________________________________________________________\n",
      " Layer (type)                Output Shape              Param #   \n",
      "=================================================================\n",
      " xception (Functional)       (None, 7, 7, 2048)        20861480  \n",
      "                                                                 \n",
      " global_max_pooling2d_2 (Glo  (None, 2048)             0         \n",
      " balMaxPooling2D)                                                \n",
      "                                                                 \n",
      " dropout_4 (Dropout)         (None, 2048)              0         \n",
      "                                                                 \n",
      " dense_8 (Dense)             (None, 256)               524544    \n",
      "                                                                 \n",
      " dense_9 (Dense)             (None, 5)                 1285      \n",
      "                                                                 \n",
      "=================================================================\n",
      "Total params: 21,387,309\n",
      "Trainable params: 525,829\n",
      "Non-trainable params: 20,861,480\n",
      "_________________________________________________________________\n"
     ]
    }
   ],
   "source": [
    "# Define Model\n",
    "Xception_model = tf.keras.models.Sequential([\n",
    "    # Xception Layer\n",
    "    Xception(include_top=False,weights='imagenet',input_shape=(224, 224, 3)),\n",
    "    # Global Max Pooling Layer\n",
    "    tf.keras.layers.GlobalMaxPooling2D(),\n",
    "    # Drop Out Layer\n",
    "    tf.keras.layers.Dropout(0.2),\n",
    "    # 256 neuron hidden layer\n",
    "    tf.keras.layers.Dense(256, activation='relu'),\n",
    "    # Output\n",
    "    tf.keras.layers.Dense(5, activation='softmax') \n",
    "  ])\n",
    "Xception_model.layers[0].trainable = False\n",
    "\n",
    "# Compile Model\n",
    "Xception_model.compile(loss='categorical_crossentropy',optimizer=tf.keras.optimizers.Adam(), metrics=['accuracy']) \n",
    "\n",
    "# Model Summary\n",
    "Xception_model.summary()"
   ]
  },
  {
   "cell_type": "code",
   "execution_count": 22,
   "metadata": {},
   "outputs": [
    {
     "name": "stdout",
     "output_type": "stream",
     "text": [
      "Epoch 1/100\n",
      "162/162 [==============================] - ETA: 0s - loss: 0.9298 - accuracy: 0.7138\n",
      "Epoch 1: val_accuracy improved from -inf to 0.75707, saving model to ChilePaper_Xception_model\n"
     ]
    },
    {
     "name": "stderr",
     "output_type": "stream",
     "text": [
      "WARNING:absl:Found untraced functions such as _jit_compiled_convolution_op, _jit_compiled_convolution_op, _jit_compiled_convolution_op, _jit_compiled_convolution_op, _jit_compiled_convolution_op while saving (showing 5 of 40). These functions will not be directly callable after loading.\n"
     ]
    },
    {
     "name": "stdout",
     "output_type": "stream",
     "text": [
      "INFO:tensorflow:Assets written to: ChilePaper_Xception_model\\assets\n"
     ]
    },
    {
     "name": "stderr",
     "output_type": "stream",
     "text": [
      "INFO:tensorflow:Assets written to: ChilePaper_Xception_model\\assets\n"
     ]
    },
    {
     "name": "stdout",
     "output_type": "stream",
     "text": [
      "162/162 [==============================] - 23s 126ms/step - loss: 0.9298 - accuracy: 0.7138 - val_loss: 0.6394 - val_accuracy: 0.7571 - lr: 0.0010\n",
      "Epoch 2/100\n",
      "162/162 [==============================] - ETA: 0s - loss: 0.4517 - accuracy: 0.8343\n",
      "Epoch 2: val_accuracy improved from 0.75707 to 0.87022, saving model to ChilePaper_Xception_model\n"
     ]
    },
    {
     "name": "stderr",
     "output_type": "stream",
     "text": [
      "WARNING:absl:Found untraced functions such as _jit_compiled_convolution_op, _jit_compiled_convolution_op, _jit_compiled_convolution_op, _jit_compiled_convolution_op, _jit_compiled_convolution_op while saving (showing 5 of 40). These functions will not be directly callable after loading.\n"
     ]
    },
    {
     "name": "stdout",
     "output_type": "stream",
     "text": [
      "INFO:tensorflow:Assets written to: ChilePaper_Xception_model\\assets\n"
     ]
    },
    {
     "name": "stderr",
     "output_type": "stream",
     "text": [
      "INFO:tensorflow:Assets written to: ChilePaper_Xception_model\\assets\n"
     ]
    },
    {
     "name": "stdout",
     "output_type": "stream",
     "text": [
      "162/162 [==============================] - 20s 120ms/step - loss: 0.4517 - accuracy: 0.8343 - val_loss: 0.3582 - val_accuracy: 0.8702 - lr: 0.0010\n",
      "Epoch 3/100\n",
      "162/162 [==============================] - ETA: 0s - loss: 0.3013 - accuracy: 0.8876\n",
      "Epoch 3: val_accuracy did not improve from 0.87022\n",
      "162/162 [==============================] - 7s 43ms/step - loss: 0.3013 - accuracy: 0.8876 - val_loss: 0.4025 - val_accuracy: 0.8636 - lr: 0.0010\n",
      "Epoch 4/100\n",
      "161/162 [============================>.] - ETA: 0s - loss: 0.2805 - accuracy: 0.8882\n",
      "Epoch 4: val_accuracy did not improve from 0.87022\n",
      "162/162 [==============================] - 7s 43ms/step - loss: 0.2795 - accuracy: 0.8883 - val_loss: 0.3649 - val_accuracy: 0.8669 - lr: 0.0010\n",
      "Epoch 5/100\n",
      "162/162 [==============================] - ETA: 0s - loss: 0.2081 - accuracy: 0.9187\n",
      "Epoch 5: val_accuracy did not improve from 0.87022\n",
      "162/162 [==============================] - 7s 43ms/step - loss: 0.2081 - accuracy: 0.9187 - val_loss: 0.3911 - val_accuracy: 0.8586 - lr: 0.0010\n",
      "Epoch 6/100\n",
      "162/162 [==============================] - ETA: 0s - loss: 0.2691 - accuracy: 0.8988\n",
      "Epoch 6: val_accuracy did not improve from 0.87022\n",
      "162/162 [==============================] - 7s 43ms/step - loss: 0.2691 - accuracy: 0.8988 - val_loss: 0.4291 - val_accuracy: 0.8453 - lr: 0.0010\n",
      "Epoch 7/100\n",
      "162/162 [==============================] - ETA: 0s - loss: 0.1824 - accuracy: 0.9268\n",
      "Epoch 7: val_accuracy improved from 0.87022 to 0.88686, saving model to ChilePaper_Xception_model\n"
     ]
    },
    {
     "name": "stderr",
     "output_type": "stream",
     "text": [
      "WARNING:absl:Found untraced functions such as _jit_compiled_convolution_op, _jit_compiled_convolution_op, _jit_compiled_convolution_op, _jit_compiled_convolution_op, _jit_compiled_convolution_op while saving (showing 5 of 40). These functions will not be directly callable after loading.\n"
     ]
    },
    {
     "name": "stdout",
     "output_type": "stream",
     "text": [
      "INFO:tensorflow:Assets written to: ChilePaper_Xception_model\\assets\n"
     ]
    },
    {
     "name": "stderr",
     "output_type": "stream",
     "text": [
      "INFO:tensorflow:Assets written to: ChilePaper_Xception_model\\assets\n"
     ]
    },
    {
     "name": "stdout",
     "output_type": "stream",
     "text": [
      "\n",
      "Epoch 7: ReduceLROnPlateau reducing learning rate to 0.00010000000474974513.\n",
      "162/162 [==============================] - 19s 121ms/step - loss: 0.1824 - accuracy: 0.9268 - val_loss: 0.4049 - val_accuracy: 0.8869 - lr: 0.0010\n",
      "Epoch 8/100\n",
      "162/162 [==============================] - ETA: 0s - loss: 0.0942 - accuracy: 0.9677\n",
      "Epoch 8: val_accuracy improved from 0.88686 to 0.89684, saving model to ChilePaper_Xception_model\n"
     ]
    },
    {
     "name": "stderr",
     "output_type": "stream",
     "text": [
      "WARNING:absl:Found untraced functions such as _jit_compiled_convolution_op, _jit_compiled_convolution_op, _jit_compiled_convolution_op, _jit_compiled_convolution_op, _jit_compiled_convolution_op while saving (showing 5 of 40). These functions will not be directly callable after loading.\n"
     ]
    },
    {
     "name": "stdout",
     "output_type": "stream",
     "text": [
      "INFO:tensorflow:Assets written to: ChilePaper_Xception_model\\assets\n"
     ]
    },
    {
     "name": "stderr",
     "output_type": "stream",
     "text": [
      "INFO:tensorflow:Assets written to: ChilePaper_Xception_model\\assets\n"
     ]
    },
    {
     "name": "stdout",
     "output_type": "stream",
     "text": [
      "162/162 [==============================] - 19s 118ms/step - loss: 0.0942 - accuracy: 0.9677 - val_loss: 0.3075 - val_accuracy: 0.8968 - lr: 1.0000e-04\n",
      "Epoch 9/100\n",
      "162/162 [==============================] - ETA: 0s - loss: 0.0849 - accuracy: 0.9702\n",
      "Epoch 9: val_accuracy improved from 0.89684 to 0.90349, saving model to ChilePaper_Xception_model\n"
     ]
    },
    {
     "name": "stderr",
     "output_type": "stream",
     "text": [
      "WARNING:absl:Found untraced functions such as _jit_compiled_convolution_op, _jit_compiled_convolution_op, _jit_compiled_convolution_op, _jit_compiled_convolution_op, _jit_compiled_convolution_op while saving (showing 5 of 40). These functions will not be directly callable after loading.\n"
     ]
    },
    {
     "name": "stdout",
     "output_type": "stream",
     "text": [
      "INFO:tensorflow:Assets written to: ChilePaper_Xception_model\\assets\n"
     ]
    },
    {
     "name": "stderr",
     "output_type": "stream",
     "text": [
      "INFO:tensorflow:Assets written to: ChilePaper_Xception_model\\assets\n"
     ]
    },
    {
     "name": "stdout",
     "output_type": "stream",
     "text": [
      "162/162 [==============================] - 20s 121ms/step - loss: 0.0849 - accuracy: 0.9702 - val_loss: 0.2882 - val_accuracy: 0.9035 - lr: 1.0000e-04\n",
      "Epoch 10/100\n",
      "162/162 [==============================] - ETA: 0s - loss: 0.0733 - accuracy: 0.9777\n",
      "Epoch 10: val_accuracy improved from 0.90349 to 0.90516, saving model to ChilePaper_Xception_model\n"
     ]
    },
    {
     "name": "stderr",
     "output_type": "stream",
     "text": [
      "WARNING:absl:Found untraced functions such as _jit_compiled_convolution_op, _jit_compiled_convolution_op, _jit_compiled_convolution_op, _jit_compiled_convolution_op, _jit_compiled_convolution_op while saving (showing 5 of 40). These functions will not be directly callable after loading.\n"
     ]
    },
    {
     "name": "stdout",
     "output_type": "stream",
     "text": [
      "INFO:tensorflow:Assets written to: ChilePaper_Xception_model\\assets\n"
     ]
    },
    {
     "name": "stderr",
     "output_type": "stream",
     "text": [
      "INFO:tensorflow:Assets written to: ChilePaper_Xception_model\\assets\n"
     ]
    },
    {
     "name": "stdout",
     "output_type": "stream",
     "text": [
      "162/162 [==============================] - 20s 120ms/step - loss: 0.0733 - accuracy: 0.9777 - val_loss: 0.2780 - val_accuracy: 0.9052 - lr: 1.0000e-04\n",
      "Epoch 11/100\n",
      "162/162 [==============================] - ETA: 0s - loss: 0.0649 - accuracy: 0.9820\n",
      "Epoch 11: val_accuracy improved from 0.90516 to 0.91015, saving model to ChilePaper_Xception_model\n"
     ]
    },
    {
     "name": "stderr",
     "output_type": "stream",
     "text": [
      "WARNING:absl:Found untraced functions such as _jit_compiled_convolution_op, _jit_compiled_convolution_op, _jit_compiled_convolution_op, _jit_compiled_convolution_op, _jit_compiled_convolution_op while saving (showing 5 of 40). These functions will not be directly callable after loading.\n"
     ]
    },
    {
     "name": "stdout",
     "output_type": "stream",
     "text": [
      "INFO:tensorflow:Assets written to: ChilePaper_Xception_model\\assets\n"
     ]
    },
    {
     "name": "stderr",
     "output_type": "stream",
     "text": [
      "INFO:tensorflow:Assets written to: ChilePaper_Xception_model\\assets\n"
     ]
    },
    {
     "name": "stdout",
     "output_type": "stream",
     "text": [
      "162/162 [==============================] - 20s 120ms/step - loss: 0.0649 - accuracy: 0.9820 - val_loss: 0.2606 - val_accuracy: 0.9101 - lr: 1.0000e-04\n",
      "Epoch 12/100\n",
      "162/162 [==============================] - ETA: 0s - loss: 0.0713 - accuracy: 0.9795\n",
      "Epoch 12: val_accuracy did not improve from 0.91015\n",
      "162/162 [==============================] - 7s 43ms/step - loss: 0.0713 - accuracy: 0.9795 - val_loss: 0.2740 - val_accuracy: 0.9052 - lr: 1.0000e-04\n",
      "Epoch 13/100\n",
      "162/162 [==============================] - ETA: 0s - loss: 0.0697 - accuracy: 0.9789\n",
      "Epoch 13: val_accuracy did not improve from 0.91015\n",
      "162/162 [==============================] - 7s 43ms/step - loss: 0.0697 - accuracy: 0.9789 - val_loss: 0.2663 - val_accuracy: 0.9101 - lr: 1.0000e-04\n",
      "Epoch 14/100\n",
      "162/162 [==============================] - ETA: 0s - loss: 0.0616 - accuracy: 0.9783\n",
      "Epoch 14: val_accuracy did not improve from 0.91015\n",
      "162/162 [==============================] - 7s 43ms/step - loss: 0.0616 - accuracy: 0.9783 - val_loss: 0.2633 - val_accuracy: 0.9068 - lr: 1.0000e-04\n",
      "Epoch 15/100\n",
      "162/162 [==============================] - ETA: 0s - loss: 0.0742 - accuracy: 0.9764\n",
      "Epoch 15: val_accuracy did not improve from 0.91015\n",
      "162/162 [==============================] - 7s 43ms/step - loss: 0.0742 - accuracy: 0.9764 - val_loss: 0.2621 - val_accuracy: 0.9101 - lr: 1.0000e-04\n",
      "Epoch 16/100\n",
      "162/162 [==============================] - ETA: 0s - loss: 0.0575 - accuracy: 0.9808\n",
      "Epoch 16: val_accuracy did not improve from 0.91015\n",
      "\n",
      "Epoch 16: ReduceLROnPlateau reducing learning rate to 1.0000000474974514e-05.\n",
      "162/162 [==============================] - 7s 43ms/step - loss: 0.0575 - accuracy: 0.9808 - val_loss: 0.2696 - val_accuracy: 0.9085 - lr: 1.0000e-04\n",
      "Epoch 17/100\n",
      "162/162 [==============================] - ETA: 0s - loss: 0.0495 - accuracy: 0.9888\n",
      "Epoch 17: val_accuracy did not improve from 0.91015\n",
      "162/162 [==============================] - 7s 43ms/step - loss: 0.0495 - accuracy: 0.9888 - val_loss: 0.2673 - val_accuracy: 0.9101 - lr: 1.0000e-05\n",
      "Epoch 18/100\n",
      "162/162 [==============================] - ETA: 0s - loss: 0.0493 - accuracy: 0.9876\n",
      "Epoch 18: val_accuracy improved from 0.91015 to 0.91348, saving model to ChilePaper_Xception_model\n"
     ]
    },
    {
     "name": "stderr",
     "output_type": "stream",
     "text": [
      "WARNING:absl:Found untraced functions such as _jit_compiled_convolution_op, _jit_compiled_convolution_op, _jit_compiled_convolution_op, _jit_compiled_convolution_op, _jit_compiled_convolution_op while saving (showing 5 of 40). These functions will not be directly callable after loading.\n"
     ]
    },
    {
     "name": "stdout",
     "output_type": "stream",
     "text": [
      "INFO:tensorflow:Assets written to: ChilePaper_Xception_model\\assets\n"
     ]
    },
    {
     "name": "stderr",
     "output_type": "stream",
     "text": [
      "INFO:tensorflow:Assets written to: ChilePaper_Xception_model\\assets\n"
     ]
    },
    {
     "name": "stdout",
     "output_type": "stream",
     "text": [
      "162/162 [==============================] - 19s 118ms/step - loss: 0.0493 - accuracy: 0.9876 - val_loss: 0.2661 - val_accuracy: 0.9135 - lr: 1.0000e-05\n",
      "Epoch 19/100\n",
      "162/162 [==============================] - ETA: 0s - loss: 0.0547 - accuracy: 0.9832\n",
      "Epoch 19: val_accuracy did not improve from 0.91348\n",
      "162/162 [==============================] - 7s 43ms/step - loss: 0.0547 - accuracy: 0.9832 - val_loss: 0.2652 - val_accuracy: 0.9101 - lr: 1.0000e-05\n",
      "Epoch 20/100\n",
      "162/162 [==============================] - ETA: 0s - loss: 0.0437 - accuracy: 0.9888\n",
      "Epoch 20: val_accuracy did not improve from 0.91348\n",
      "162/162 [==============================] - 7s 43ms/step - loss: 0.0437 - accuracy: 0.9888 - val_loss: 0.2619 - val_accuracy: 0.9135 - lr: 1.0000e-05\n",
      "Epoch 21/100\n",
      "162/162 [==============================] - ETA: 0s - loss: 0.0497 - accuracy: 0.9888\n",
      "Epoch 21: val_accuracy did not improve from 0.91348\n",
      "\n",
      "Epoch 21: ReduceLROnPlateau reducing learning rate to 1.0000000656873453e-06.\n",
      "162/162 [==============================] - 7s 43ms/step - loss: 0.0497 - accuracy: 0.9888 - val_loss: 0.2624 - val_accuracy: 0.9135 - lr: 1.0000e-05\n",
      "Epoch 22/100\n",
      "162/162 [==============================] - ETA: 0s - loss: 0.0450 - accuracy: 0.9882\n",
      "Epoch 22: val_accuracy did not improve from 0.91348\n",
      "162/162 [==============================] - 7s 43ms/step - loss: 0.0450 - accuracy: 0.9882 - val_loss: 0.2626 - val_accuracy: 0.9118 - lr: 1.0000e-06\n",
      "Epoch 23/100\n",
      "162/162 [==============================] - ETA: 0s - loss: 0.0542 - accuracy: 0.9839\n",
      "Epoch 23: val_accuracy did not improve from 0.91348\n",
      "162/162 [==============================] - 7s 43ms/step - loss: 0.0542 - accuracy: 0.9839 - val_loss: 0.2626 - val_accuracy: 0.9118 - lr: 1.0000e-06\n",
      "Epoch 24/100\n",
      "162/162 [==============================] - ETA: 0s - loss: 0.0470 - accuracy: 0.9857\n",
      "Epoch 24: val_accuracy did not improve from 0.91348\n",
      "162/162 [==============================] - 7s 43ms/step - loss: 0.0470 - accuracy: 0.9857 - val_loss: 0.2634 - val_accuracy: 0.9101 - lr: 1.0000e-06\n",
      "Epoch 25/100\n",
      "162/162 [==============================] - ETA: 0s - loss: 0.0525 - accuracy: 0.9832\n",
      "Epoch 25: val_accuracy did not improve from 0.91348\n",
      "162/162 [==============================] - 7s 43ms/step - loss: 0.0525 - accuracy: 0.9832 - val_loss: 0.2637 - val_accuracy: 0.9118 - lr: 1.0000e-06\n",
      "Epoch 26/100\n",
      "162/162 [==============================] - ETA: 0s - loss: 0.0505 - accuracy: 0.9863\n",
      "Epoch 26: val_accuracy did not improve from 0.91348\n",
      "\n",
      "Epoch 26: ReduceLROnPlateau reducing learning rate to 1.0000001111620805e-07.\n",
      "162/162 [==============================] - 7s 43ms/step - loss: 0.0505 - accuracy: 0.9863 - val_loss: 0.2639 - val_accuracy: 0.9118 - lr: 1.0000e-06\n",
      "Epoch 27/100\n",
      "162/162 [==============================] - ETA: 0s - loss: 0.0514 - accuracy: 0.9888\n",
      "Epoch 27: val_accuracy did not improve from 0.91348\n",
      "162/162 [==============================] - 7s 43ms/step - loss: 0.0514 - accuracy: 0.9888 - val_loss: 0.2639 - val_accuracy: 0.9118 - lr: 1.0000e-07\n",
      "Epoch 28/100\n",
      "162/162 [==============================] - ETA: 0s - loss: 0.0511 - accuracy: 0.9870\n",
      "Epoch 28: val_accuracy did not improve from 0.91348\n",
      "162/162 [==============================] - 7s 44ms/step - loss: 0.0511 - accuracy: 0.9870 - val_loss: 0.2640 - val_accuracy: 0.9118 - lr: 1.0000e-07\n",
      "Epoch 29/100\n",
      "161/162 [============================>.] - ETA: 0s - loss: 0.0591 - accuracy: 0.9825\n",
      "Epoch 29: val_accuracy did not improve from 0.91348\n",
      "162/162 [==============================] - 7s 44ms/step - loss: 0.0592 - accuracy: 0.9826 - val_loss: 0.2640 - val_accuracy: 0.9118 - lr: 1.0000e-07\n",
      "Epoch 30/100\n",
      "162/162 [==============================] - ETA: 0s - loss: 0.0453 - accuracy: 0.9863\n",
      "Epoch 30: val_accuracy did not improve from 0.91348\n",
      "162/162 [==============================] - 7s 44ms/step - loss: 0.0453 - accuracy: 0.9863 - val_loss: 0.2640 - val_accuracy: 0.9118 - lr: 1.0000e-07\n",
      "Epoch 31/100\n",
      "161/162 [============================>.] - ETA: 0s - loss: 0.0488 - accuracy: 0.9856\n",
      "Epoch 31: val_accuracy did not improve from 0.91348\n",
      "\n",
      "Epoch 31: ReduceLROnPlateau reducing learning rate to 1.000000082740371e-08.\n",
      "162/162 [==============================] - 7s 44ms/step - loss: 0.0487 - accuracy: 0.9857 - val_loss: 0.2640 - val_accuracy: 0.9118 - lr: 1.0000e-07\n",
      "Epoch 32/100\n",
      "162/162 [==============================] - ETA: 0s - loss: 0.0548 - accuracy: 0.9857\n",
      "Epoch 32: val_accuracy did not improve from 0.91348\n",
      "162/162 [==============================] - 7s 44ms/step - loss: 0.0548 - accuracy: 0.9857 - val_loss: 0.2640 - val_accuracy: 0.9118 - lr: 1.0000e-08\n",
      "Epoch 33/100\n",
      "162/162 [==============================] - ETA: 0s - loss: 0.0499 - accuracy: 0.9876\n",
      "Epoch 33: val_accuracy did not improve from 0.91348\n",
      "162/162 [==============================] - 7s 44ms/step - loss: 0.0499 - accuracy: 0.9876 - val_loss: 0.2640 - val_accuracy: 0.9118 - lr: 1.0000e-08\n",
      "Epoch 34/100\n",
      "162/162 [==============================] - ETA: 0s - loss: 0.0462 - accuracy: 0.9901\n",
      "Epoch 34: val_accuracy did not improve from 0.91348\n",
      "162/162 [==============================] - 7s 44ms/step - loss: 0.0462 - accuracy: 0.9901 - val_loss: 0.2640 - val_accuracy: 0.9118 - lr: 1.0000e-08\n",
      "Epoch 35/100\n",
      "162/162 [==============================] - ETA: 0s - loss: 0.0535 - accuracy: 0.9845\n",
      "Epoch 35: val_accuracy did not improve from 0.91348\n",
      "162/162 [==============================] - 7s 44ms/step - loss: 0.0535 - accuracy: 0.9845 - val_loss: 0.2640 - val_accuracy: 0.9118 - lr: 1.0000e-08\n",
      "Epoch 36/100\n",
      "162/162 [==============================] - ETA: 0s - loss: 0.0522 - accuracy: 0.9857\n",
      "Epoch 36: val_accuracy did not improve from 0.91348\n",
      "\n",
      "Epoch 36: ReduceLROnPlateau reducing learning rate to 1.000000082740371e-09.\n",
      "162/162 [==============================] - 7s 44ms/step - loss: 0.0522 - accuracy: 0.9857 - val_loss: 0.2640 - val_accuracy: 0.9118 - lr: 1.0000e-08\n",
      "Epoch 37/100\n",
      "162/162 [==============================] - ETA: 0s - loss: 0.0494 - accuracy: 0.9870\n",
      "Epoch 37: val_accuracy did not improve from 0.91348\n",
      "162/162 [==============================] - 7s 44ms/step - loss: 0.0494 - accuracy: 0.9870 - val_loss: 0.2640 - val_accuracy: 0.9118 - lr: 1.0000e-09\n",
      "Epoch 38/100\n",
      "162/162 [==============================] - ETA: 0s - loss: 0.0488 - accuracy: 0.9870\n",
      "Epoch 38: val_accuracy did not improve from 0.91348\n",
      "Restoring model weights from the end of the best epoch: 18.\n",
      "162/162 [==============================] - 7s 45ms/step - loss: 0.0488 - accuracy: 0.9870 - val_loss: 0.2640 - val_accuracy: 0.9118 - lr: 1.0000e-09\n",
      "Epoch 38: early stopping\n"
     ]
    }
   ],
   "source": [
    "# Define the number of epochs\n",
    "num_epochs = 100\n",
    "\n",
    "# Train the model\n",
    "history_Xception_model_1 = Xception_model.fit(train_generator, epochs=num_epochs, validation_data=validation_generator, callbacks=callbacks)"
   ]
  },
  {
   "cell_type": "code",
   "execution_count": 23,
   "metadata": {},
   "outputs": [
    {
     "data": {
      "text/plain": [
       "<matplotlib.legend.Legend at 0x221e6059900>"
      ]
     },
     "execution_count": 23,
     "metadata": {},
     "output_type": "execute_result"
    },
    {
     "data": {
      "image/png": "[encoded data removed]",
      "text/plain": [
       "<Figure size 640x480 with 1 Axes>"
      ]
     },
     "metadata": {},
     "output_type": "display_data"
    },
    {
     "data": {
      "image/png": "[encoded data removed]",
      "text/plain": [
       "<Figure size 640x480 with 1 Axes>"
      ]
     },
     "metadata": {},
     "output_type": "display_data"
    }
   ],
   "source": [
    "#-----------------------------------------------------------\n",
    "# Retrieve a list of list results on training and test data\n",
    "# sets for each training epoch\n",
    "#-----------------------------------------------------------\n",
    "acc      = history_Xception_model_1.history['accuracy' ]\n",
    "val_acc  = history_Xception_model_1.history['val_accuracy' ]\n",
    "loss     = history_Xception_model_1.history['loss' ]\n",
    "val_loss = history_Xception_model_1.history['val_loss' ]\n",
    "\n",
    "epochs   = range(len(acc)) # Get number of epochs\n",
    "\n",
    "#------------------------------------------------\n",
    "# Plot training and validation accuracy per epoch\n",
    "#------------------------------------------------\n",
    "plt.plot  (epochs, acc )\n",
    "plt.plot  (epochs, val_acc )\n",
    "plt.title ('Training and validation accuracy Xception Model')\n",
    "plt.legend(['train', 'val'], loc='upper left')\n",
    "plt.figure()\n",
    "\n",
    "#------------------------------------------------\n",
    "# Plot training and validation loss per epoch\n",
    "#------------------------------------------------\n",
    "plt.plot  (epochs, loss)\n",
    "plt.plot  (epochs, val_loss)\n",
    "plt.title ('Training and validation loss Xception Model')\n",
    "plt.legend(['train', 'val'], loc='upper left')"
   ]
  },
  {
   "attachments": {},
   "cell_type": "markdown",
   "metadata": {},
   "source": [
    "# Xception 2"
   ]
  },
  {
   "cell_type": "code",
   "execution_count": 24,
   "metadata": {},
   "outputs": [],
   "source": [
    "# Difine the callbacks\n",
    "# Save the best model\n",
    "checkpoint_callback = ModelCheckpoint(filepath=\"ChilePaper_Xception_model2\", save_best_only=True, monitor=\"val_accuracy\", mode=\"max\", verbose=1)\n",
    "\n",
    "# Early stopping\n",
    "early_stopping_callback = EarlyStopping(monitor=\"val_accuracy\", mode=\"max\", patience=20, verbose=1, restore_best_weights=True)\n",
    "\n",
    "# Reduce learning rate\n",
    "reduce_lr_callback = ReduceLROnPlateau(monitor=\"val_loss\", factor=0.1, patience=5, verbose=1, mode=\"min\", min_delta=0.0001, cooldown=0, min_lr=0)\n",
    "\n",
    "# Callbacks list\n",
    "callbacks=[checkpoint_callback, early_stopping_callback, reduce_lr_callback]"
   ]
  },
  {
   "cell_type": "code",
   "execution_count": 25,
   "metadata": {},
   "outputs": [
    {
     "name": "stdout",
     "output_type": "stream",
     "text": [
      "Model: \"sequential_5\"\n",
      "_________________________________________________________________\n",
      " Layer (type)                Output Shape              Param #   \n",
      "=================================================================\n",
      " xception (Functional)       (None, 7, 7, 2048)        20861480  \n",
      "                                                                 \n",
      " global_average_pooling2d_2   (None, 2048)             0         \n",
      " (GlobalAveragePooling2D)                                        \n",
      "                                                                 \n",
      " dropout_5 (Dropout)         (None, 2048)              0         \n",
      "                                                                 \n",
      " dense_10 (Dense)            (None, 256)               524544    \n",
      "                                                                 \n",
      " dense_11 (Dense)            (None, 5)                 1285      \n",
      "                                                                 \n",
      "=================================================================\n",
      "Total params: 21,387,309\n",
      "Trainable params: 525,829\n",
      "Non-trainable params: 20,861,480\n",
      "_________________________________________________________________\n"
     ]
    }
   ],
   "source": [
    "# Define Model\n",
    "Xception_model2 = tf.keras.models.Sequential([\n",
    "    # Xception Layer\n",
    "    Xception(include_top=False,weights='imagenet',input_shape=(224, 224, 3)),\n",
    "    # Global Average Pooling Layer\n",
    "    tf.keras.layers.GlobalAveragePooling2D(),\n",
    "    # Drop Out Layer\n",
    "    tf.keras.layers.Dropout(0.2),\n",
    "    # 256 neuron hidden layer\n",
    "    tf.keras.layers.Dense(256, activation='relu'),\n",
    "    # Output\n",
    "    tf.keras.layers.Dense(5, activation='softmax') \n",
    "  ])\n",
    "Xception_model2.layers[0].trainable = False\n",
    "\n",
    "# Compile Model\n",
    "Xception_model2.compile(loss='categorical_crossentropy',optimizer=tf.keras.optimizers.Adam(), metrics=['accuracy']) \n",
    "\n",
    "# Model Summary\n",
    "Xception_model2.summary()"
   ]
  },
  {
   "cell_type": "code",
   "execution_count": 26,
   "metadata": {},
   "outputs": [
    {
     "name": "stdout",
     "output_type": "stream",
     "text": [
      "Epoch 1/100\n",
      "162/162 [==============================] - ETA: 0s - loss: 0.6336 - accuracy: 0.7436\n",
      "Epoch 1: val_accuracy improved from -inf to 0.81697, saving model to ChilePaper_Xception_model2\n"
     ]
    },
    {
     "name": "stderr",
     "output_type": "stream",
     "text": [
      "WARNING:absl:Found untraced functions such as _jit_compiled_convolution_op, _jit_compiled_convolution_op, _jit_compiled_convolution_op, _jit_compiled_convolution_op, _jit_compiled_convolution_op while saving (showing 5 of 40). These functions will not be directly callable after loading.\n"
     ]
    },
    {
     "name": "stdout",
     "output_type": "stream",
     "text": [
      "INFO:tensorflow:Assets written to: ChilePaper_Xception_model2\\assets\n"
     ]
    },
    {
     "name": "stderr",
     "output_type": "stream",
     "text": [
      "INFO:tensorflow:Assets written to: ChilePaper_Xception_model2\\assets\n"
     ]
    },
    {
     "name": "stdout",
     "output_type": "stream",
     "text": [
      "162/162 [==============================] - 22s 125ms/step - loss: 0.6336 - accuracy: 0.7436 - val_loss: 0.4960 - val_accuracy: 0.8170 - lr: 0.0010\n",
      "Epoch 2/100\n",
      "162/162 [==============================] - ETA: 0s - loss: 0.3273 - accuracy: 0.8746\n",
      "Epoch 2: val_accuracy improved from 0.81697 to 0.88186, saving model to ChilePaper_Xception_model2\n"
     ]
    },
    {
     "name": "stderr",
     "output_type": "stream",
     "text": [
      "WARNING:absl:Found untraced functions such as _jit_compiled_convolution_op, _jit_compiled_convolution_op, _jit_compiled_convolution_op, _jit_compiled_convolution_op, _jit_compiled_convolution_op while saving (showing 5 of 40). These functions will not be directly callable after loading.\n"
     ]
    },
    {
     "name": "stdout",
     "output_type": "stream",
     "text": [
      "INFO:tensorflow:Assets written to: ChilePaper_Xception_model2\\assets\n"
     ]
    },
    {
     "name": "stderr",
     "output_type": "stream",
     "text": [
      "INFO:tensorflow:Assets written to: ChilePaper_Xception_model2\\assets\n"
     ]
    },
    {
     "name": "stdout",
     "output_type": "stream",
     "text": [
      "162/162 [==============================] - 20s 121ms/step - loss: 0.3273 - accuracy: 0.8746 - val_loss: 0.3260 - val_accuracy: 0.8819 - lr: 0.0010\n",
      "Epoch 3/100\n",
      "162/162 [==============================] - ETA: 0s - loss: 0.2529 - accuracy: 0.9081\n",
      "Epoch 3: val_accuracy did not improve from 0.88186\n",
      "162/162 [==============================] - 7s 43ms/step - loss: 0.2529 - accuracy: 0.9081 - val_loss: 0.3713 - val_accuracy: 0.8602 - lr: 0.0010\n",
      "Epoch 4/100\n",
      "162/162 [==============================] - ETA: 0s - loss: 0.1746 - accuracy: 0.9379\n",
      "Epoch 4: val_accuracy improved from 0.88186 to 0.90349, saving model to ChilePaper_Xception_model2\n"
     ]
    },
    {
     "name": "stderr",
     "output_type": "stream",
     "text": [
      "WARNING:absl:Found untraced functions such as _jit_compiled_convolution_op, _jit_compiled_convolution_op, _jit_compiled_convolution_op, _jit_compiled_convolution_op, _jit_compiled_convolution_op while saving (showing 5 of 40). These functions will not be directly callable after loading.\n"
     ]
    },
    {
     "name": "stdout",
     "output_type": "stream",
     "text": [
      "INFO:tensorflow:Assets written to: ChilePaper_Xception_model2\\assets\n"
     ]
    },
    {
     "name": "stderr",
     "output_type": "stream",
     "text": [
      "INFO:tensorflow:Assets written to: ChilePaper_Xception_model2\\assets\n"
     ]
    },
    {
     "name": "stdout",
     "output_type": "stream",
     "text": [
      "162/162 [==============================] - 20s 122ms/step - loss: 0.1746 - accuracy: 0.9379 - val_loss: 0.2653 - val_accuracy: 0.9035 - lr: 0.0010\n",
      "Epoch 5/100\n",
      "162/162 [==============================] - ETA: 0s - loss: 0.1677 - accuracy: 0.9435\n",
      "Epoch 5: val_accuracy did not improve from 0.90349\n",
      "162/162 [==============================] - 7s 43ms/step - loss: 0.1677 - accuracy: 0.9435 - val_loss: 0.2646 - val_accuracy: 0.8968 - lr: 0.0010\n",
      "Epoch 6/100\n",
      "162/162 [==============================] - ETA: 0s - loss: 0.1223 - accuracy: 0.9528\n",
      "Epoch 6: val_accuracy did not improve from 0.90349\n",
      "162/162 [==============================] - 7s 43ms/step - loss: 0.1223 - accuracy: 0.9528 - val_loss: 0.2803 - val_accuracy: 0.8935 - lr: 0.0010\n",
      "Epoch 7/100\n",
      "162/162 [==============================] - ETA: 0s - loss: 0.1196 - accuracy: 0.9578\n",
      "Epoch 7: val_accuracy did not improve from 0.90349\n",
      "162/162 [==============================] - 7s 43ms/step - loss: 0.1196 - accuracy: 0.9578 - val_loss: 0.3222 - val_accuracy: 0.8869 - lr: 0.0010\n",
      "Epoch 8/100\n",
      "162/162 [==============================] - ETA: 0s - loss: 0.0991 - accuracy: 0.9634\n",
      "Epoch 8: val_accuracy improved from 0.90349 to 0.90849, saving model to ChilePaper_Xception_model2\n"
     ]
    },
    {
     "name": "stderr",
     "output_type": "stream",
     "text": [
      "WARNING:absl:Found untraced functions such as _jit_compiled_convolution_op, _jit_compiled_convolution_op, _jit_compiled_convolution_op, _jit_compiled_convolution_op, _jit_compiled_convolution_op while saving (showing 5 of 40). These functions will not be directly callable after loading.\n"
     ]
    },
    {
     "name": "stdout",
     "output_type": "stream",
     "text": [
      "INFO:tensorflow:Assets written to: ChilePaper_Xception_model2\\assets\n"
     ]
    },
    {
     "name": "stderr",
     "output_type": "stream",
     "text": [
      "INFO:tensorflow:Assets written to: ChilePaper_Xception_model2\\assets\n"
     ]
    },
    {
     "name": "stdout",
     "output_type": "stream",
     "text": [
      "162/162 [==============================] - 19s 119ms/step - loss: 0.0991 - accuracy: 0.9634 - val_loss: 0.2771 - val_accuracy: 0.9085 - lr: 0.0010\n",
      "Epoch 9/100\n",
      "162/162 [==============================] - ETA: 0s - loss: 0.0905 - accuracy: 0.9708\n",
      "Epoch 9: val_accuracy did not improve from 0.90849\n",
      "162/162 [==============================] - 7s 43ms/step - loss: 0.0905 - accuracy: 0.9708 - val_loss: 0.3550 - val_accuracy: 0.8852 - lr: 0.0010\n",
      "Epoch 10/100\n",
      "162/162 [==============================] - ETA: 0s - loss: 0.0689 - accuracy: 0.9770\n",
      "Epoch 10: val_accuracy did not improve from 0.90849\n",
      "\n",
      "Epoch 10: ReduceLROnPlateau reducing learning rate to 0.00010000000474974513.\n",
      "162/162 [==============================] - 7s 43ms/step - loss: 0.0689 - accuracy: 0.9770 - val_loss: 0.2954 - val_accuracy: 0.8985 - lr: 0.0010\n",
      "Epoch 11/100\n",
      "162/162 [==============================] - ETA: 0s - loss: 0.0320 - accuracy: 0.9919\n",
      "Epoch 11: val_accuracy did not improve from 0.90849\n",
      "162/162 [==============================] - 7s 43ms/step - loss: 0.0320 - accuracy: 0.9919 - val_loss: 0.2615 - val_accuracy: 0.9085 - lr: 1.0000e-04\n",
      "Epoch 12/100\n",
      "162/162 [==============================] - ETA: 0s - loss: 0.0292 - accuracy: 0.9926\n",
      "Epoch 12: val_accuracy improved from 0.90849 to 0.91681, saving model to ChilePaper_Xception_model2\n"
     ]
    },
    {
     "name": "stderr",
     "output_type": "stream",
     "text": [
      "WARNING:absl:Found untraced functions such as _jit_compiled_convolution_op, _jit_compiled_convolution_op, _jit_compiled_convolution_op, _jit_compiled_convolution_op, _jit_compiled_convolution_op while saving (showing 5 of 40). These functions will not be directly callable after loading.\n"
     ]
    },
    {
     "name": "stdout",
     "output_type": "stream",
     "text": [
      "INFO:tensorflow:Assets written to: ChilePaper_Xception_model2\\assets\n"
     ]
    },
    {
     "name": "stderr",
     "output_type": "stream",
     "text": [
      "INFO:tensorflow:Assets written to: ChilePaper_Xception_model2\\assets\n"
     ]
    },
    {
     "name": "stdout",
     "output_type": "stream",
     "text": [
      "162/162 [==============================] - 20s 124ms/step - loss: 0.0292 - accuracy: 0.9926 - val_loss: 0.2532 - val_accuracy: 0.9168 - lr: 1.0000e-04\n",
      "Epoch 13/100\n",
      "162/162 [==============================] - ETA: 0s - loss: 0.0213 - accuracy: 0.9969\n",
      "Epoch 13: val_accuracy improved from 0.91681 to 0.92013, saving model to ChilePaper_Xception_model2\n"
     ]
    },
    {
     "name": "stderr",
     "output_type": "stream",
     "text": [
      "WARNING:absl:Found untraced functions such as _jit_compiled_convolution_op, _jit_compiled_convolution_op, _jit_compiled_convolution_op, _jit_compiled_convolution_op, _jit_compiled_convolution_op while saving (showing 5 of 40). These functions will not be directly callable after loading.\n"
     ]
    },
    {
     "name": "stdout",
     "output_type": "stream",
     "text": [
      "INFO:tensorflow:Assets written to: ChilePaper_Xception_model2\\assets\n"
     ]
    },
    {
     "name": "stderr",
     "output_type": "stream",
     "text": [
      "INFO:tensorflow:Assets written to: ChilePaper_Xception_model2\\assets\n"
     ]
    },
    {
     "name": "stdout",
     "output_type": "stream",
     "text": [
      "162/162 [==============================] - 20s 120ms/step - loss: 0.0213 - accuracy: 0.9969 - val_loss: 0.2561 - val_accuracy: 0.9201 - lr: 1.0000e-04\n",
      "Epoch 14/100\n",
      "162/162 [==============================] - ETA: 0s - loss: 0.0243 - accuracy: 0.9963\n",
      "Epoch 14: val_accuracy did not improve from 0.92013\n",
      "162/162 [==============================] - 7s 43ms/step - loss: 0.0243 - accuracy: 0.9963 - val_loss: 0.2526 - val_accuracy: 0.9151 - lr: 1.0000e-04\n",
      "Epoch 15/100\n",
      "162/162 [==============================] - ETA: 0s - loss: 0.0206 - accuracy: 0.9963\n",
      "Epoch 15: val_accuracy did not improve from 0.92013\n",
      "162/162 [==============================] - 7s 43ms/step - loss: 0.0206 - accuracy: 0.9963 - val_loss: 0.2559 - val_accuracy: 0.9135 - lr: 1.0000e-04\n",
      "Epoch 16/100\n",
      "162/162 [==============================] - ETA: 0s - loss: 0.0198 - accuracy: 0.9963\n",
      "Epoch 16: val_accuracy did not improve from 0.92013\n",
      "162/162 [==============================] - 7s 43ms/step - loss: 0.0198 - accuracy: 0.9963 - val_loss: 0.2589 - val_accuracy: 0.9185 - lr: 1.0000e-04\n",
      "Epoch 17/100\n",
      "162/162 [==============================] - ETA: 0s - loss: 0.0165 - accuracy: 0.9988\n",
      "Epoch 17: val_accuracy improved from 0.92013 to 0.92180, saving model to ChilePaper_Xception_model2\n"
     ]
    },
    {
     "name": "stderr",
     "output_type": "stream",
     "text": [
      "WARNING:absl:Found untraced functions such as _jit_compiled_convolution_op, _jit_compiled_convolution_op, _jit_compiled_convolution_op, _jit_compiled_convolution_op, _jit_compiled_convolution_op while saving (showing 5 of 40). These functions will not be directly callable after loading.\n"
     ]
    },
    {
     "name": "stdout",
     "output_type": "stream",
     "text": [
      "INFO:tensorflow:Assets written to: ChilePaper_Xception_model2\\assets\n"
     ]
    },
    {
     "name": "stderr",
     "output_type": "stream",
     "text": [
      "INFO:tensorflow:Assets written to: ChilePaper_Xception_model2\\assets\n"
     ]
    },
    {
     "name": "stdout",
     "output_type": "stream",
     "text": [
      "162/162 [==============================] - 19s 119ms/step - loss: 0.0165 - accuracy: 0.9988 - val_loss: 0.2612 - val_accuracy: 0.9218 - lr: 1.0000e-04\n",
      "Epoch 18/100\n",
      "162/162 [==============================] - ETA: 0s - loss: 0.0189 - accuracy: 0.9969\n",
      "Epoch 18: val_accuracy did not improve from 0.92180\n",
      "162/162 [==============================] - 7s 43ms/step - loss: 0.0189 - accuracy: 0.9969 - val_loss: 0.2635 - val_accuracy: 0.9168 - lr: 1.0000e-04\n",
      "Epoch 19/100\n",
      "162/162 [==============================] - ETA: 0s - loss: 0.0216 - accuracy: 0.9963\n",
      "Epoch 19: val_accuracy did not improve from 0.92180\n",
      "\n",
      "Epoch 19: ReduceLROnPlateau reducing learning rate to 1.0000000474974514e-05.\n",
      "162/162 [==============================] - 7s 43ms/step - loss: 0.0216 - accuracy: 0.9963 - val_loss: 0.2548 - val_accuracy: 0.9151 - lr: 1.0000e-04\n",
      "Epoch 20/100\n",
      "162/162 [==============================] - ETA: 0s - loss: 0.0186 - accuracy: 0.9963\n",
      "Epoch 20: val_accuracy did not improve from 0.92180\n",
      "162/162 [==============================] - 7s 43ms/step - loss: 0.0186 - accuracy: 0.9963 - val_loss: 0.2548 - val_accuracy: 0.9135 - lr: 1.0000e-05\n",
      "Epoch 21/100\n",
      "161/162 [============================>.] - ETA: 0s - loss: 0.0163 - accuracy: 0.9981\n",
      "Epoch 21: val_accuracy did not improve from 0.92180\n",
      "162/162 [==============================] - 7s 43ms/step - loss: 0.0165 - accuracy: 0.9981 - val_loss: 0.2565 - val_accuracy: 0.9151 - lr: 1.0000e-05\n",
      "Epoch 22/100\n",
      "162/162 [==============================] - ETA: 0s - loss: 0.0219 - accuracy: 0.9957\n",
      "Epoch 22: val_accuracy did not improve from 0.92180\n",
      "162/162 [==============================] - 7s 43ms/step - loss: 0.0219 - accuracy: 0.9957 - val_loss: 0.2545 - val_accuracy: 0.9135 - lr: 1.0000e-05\n",
      "Epoch 23/100\n",
      "162/162 [==============================] - ETA: 0s - loss: 0.0187 - accuracy: 0.9975\n",
      "Epoch 23: val_accuracy did not improve from 0.92180\n",
      "162/162 [==============================] - 7s 43ms/step - loss: 0.0187 - accuracy: 0.9975 - val_loss: 0.2554 - val_accuracy: 0.9168 - lr: 1.0000e-05\n",
      "Epoch 24/100\n",
      "161/162 [============================>.] - ETA: 0s - loss: 0.0143 - accuracy: 0.9981\n",
      "Epoch 24: val_accuracy did not improve from 0.92180\n",
      "\n",
      "Epoch 24: ReduceLROnPlateau reducing learning rate to 1.0000000656873453e-06.\n",
      "162/162 [==============================] - 7s 44ms/step - loss: 0.0142 - accuracy: 0.9981 - val_loss: 0.2573 - val_accuracy: 0.9135 - lr: 1.0000e-05\n",
      "Epoch 25/100\n",
      "162/162 [==============================] - ETA: 0s - loss: 0.0155 - accuracy: 0.9975\n",
      "Epoch 25: val_accuracy did not improve from 0.92180\n",
      "162/162 [==============================] - 7s 44ms/step - loss: 0.0155 - accuracy: 0.9975 - val_loss: 0.2574 - val_accuracy: 0.9135 - lr: 1.0000e-06\n",
      "Epoch 26/100\n",
      "162/162 [==============================] - ETA: 0s - loss: 0.0158 - accuracy: 0.9969\n",
      "Epoch 26: val_accuracy did not improve from 0.92180\n",
      "162/162 [==============================] - 7s 44ms/step - loss: 0.0158 - accuracy: 0.9969 - val_loss: 0.2571 - val_accuracy: 0.9135 - lr: 1.0000e-06\n",
      "Epoch 27/100\n",
      "162/162 [==============================] - ETA: 0s - loss: 0.0145 - accuracy: 0.9975\n",
      "Epoch 27: val_accuracy did not improve from 0.92180\n",
      "162/162 [==============================] - 7s 44ms/step - loss: 0.0145 - accuracy: 0.9975 - val_loss: 0.2571 - val_accuracy: 0.9135 - lr: 1.0000e-06\n",
      "Epoch 28/100\n",
      "162/162 [==============================] - ETA: 0s - loss: 0.0148 - accuracy: 0.9988\n",
      "Epoch 28: val_accuracy did not improve from 0.92180\n",
      "162/162 [==============================] - 7s 44ms/step - loss: 0.0148 - accuracy: 0.9988 - val_loss: 0.2574 - val_accuracy: 0.9135 - lr: 1.0000e-06\n",
      "Epoch 29/100\n",
      "162/162 [==============================] - ETA: 0s - loss: 0.0179 - accuracy: 0.9981\n",
      "Epoch 29: val_accuracy did not improve from 0.92180\n",
      "\n",
      "Epoch 29: ReduceLROnPlateau reducing learning rate to 1.0000001111620805e-07.\n",
      "162/162 [==============================] - 7s 44ms/step - loss: 0.0179 - accuracy: 0.9981 - val_loss: 0.2575 - val_accuracy: 0.9135 - lr: 1.0000e-06\n",
      "Epoch 30/100\n",
      "162/162 [==============================] - ETA: 0s - loss: 0.0201 - accuracy: 0.9969\n",
      "Epoch 30: val_accuracy did not improve from 0.92180\n",
      "162/162 [==============================] - 7s 44ms/step - loss: 0.0201 - accuracy: 0.9969 - val_loss: 0.2575 - val_accuracy: 0.9135 - lr: 1.0000e-07\n",
      "Epoch 31/100\n",
      "161/162 [============================>.] - ETA: 0s - loss: 0.0159 - accuracy: 0.9981\n",
      "Epoch 31: val_accuracy did not improve from 0.92180\n",
      "162/162 [==============================] - 7s 44ms/step - loss: 0.0158 - accuracy: 0.9981 - val_loss: 0.2574 - val_accuracy: 0.9135 - lr: 1.0000e-07\n",
      "Epoch 32/100\n",
      "162/162 [==============================] - ETA: 0s - loss: 0.0146 - accuracy: 0.9981\n",
      "Epoch 32: val_accuracy did not improve from 0.92180\n",
      "162/162 [==============================] - 7s 44ms/step - loss: 0.0146 - accuracy: 0.9981 - val_loss: 0.2574 - val_accuracy: 0.9135 - lr: 1.0000e-07\n",
      "Epoch 33/100\n",
      "161/162 [============================>.] - ETA: 0s - loss: 0.0139 - accuracy: 0.9988\n",
      "Epoch 33: val_accuracy did not improve from 0.92180\n",
      "162/162 [==============================] - 7s 44ms/step - loss: 0.0141 - accuracy: 0.9988 - val_loss: 0.2574 - val_accuracy: 0.9135 - lr: 1.0000e-07\n",
      "Epoch 34/100\n",
      "162/162 [==============================] - ETA: 0s - loss: 0.0152 - accuracy: 0.9981\n",
      "Epoch 34: val_accuracy did not improve from 0.92180\n",
      "\n",
      "Epoch 34: ReduceLROnPlateau reducing learning rate to 1.000000082740371e-08.\n",
      "162/162 [==============================] - 7s 44ms/step - loss: 0.0152 - accuracy: 0.9981 - val_loss: 0.2575 - val_accuracy: 0.9135 - lr: 1.0000e-07\n",
      "Epoch 35/100\n",
      "162/162 [==============================] - ETA: 0s - loss: 0.0187 - accuracy: 0.9963\n",
      "Epoch 35: val_accuracy did not improve from 0.92180\n",
      "162/162 [==============================] - 7s 44ms/step - loss: 0.0187 - accuracy: 0.9963 - val_loss: 0.2575 - val_accuracy: 0.9135 - lr: 1.0000e-08\n",
      "Epoch 36/100\n",
      "161/162 [============================>.] - ETA: 0s - loss: 0.0164 - accuracy: 0.9969\n",
      "Epoch 36: val_accuracy did not improve from 0.92180\n",
      "162/162 [==============================] - 7s 44ms/step - loss: 0.0169 - accuracy: 0.9969 - val_loss: 0.2575 - val_accuracy: 0.9135 - lr: 1.0000e-08\n",
      "Epoch 37/100\n",
      "162/162 [==============================] - ETA: 0s - loss: 0.0167 - accuracy: 0.9975\n",
      "Epoch 37: val_accuracy did not improve from 0.92180\n",
      "Restoring model weights from the end of the best epoch: 17.\n",
      "162/162 [==============================] - 7s 45ms/step - loss: 0.0167 - accuracy: 0.9975 - val_loss: 0.2575 - val_accuracy: 0.9135 - lr: 1.0000e-08\n",
      "Epoch 37: early stopping\n"
     ]
    }
   ],
   "source": [
    "# Define the number of epochs\n",
    "num_epochs = 100\n",
    "\n",
    "# Train the model\n",
    "history_Xception_model_2 = Xception_model2.fit(train_generator, epochs=num_epochs, validation_data=validation_generator, callbacks=callbacks)"
   ]
  },
  {
   "cell_type": "code",
   "execution_count": 27,
   "metadata": {},
   "outputs": [
    {
     "data": {
      "text/plain": [
       "<matplotlib.legend.Legend at 0x2221a3a76a0>"
      ]
     },
     "execution_count": 27,
     "metadata": {},
     "output_type": "execute_result"
    },
    {
     "data": {
      "image/png": "[encoded data removed]",
      "text/plain": [
       "<Figure size 640x480 with 1 Axes>"
      ]
     },
     "metadata": {},
     "output_type": "display_data"
    },
    {
     "data": {
      "image/png": "[encoded data removed]",
      "text/plain": [
       "<Figure size 640x480 with 1 Axes>"
      ]
     },
     "metadata": {},
     "output_type": "display_data"
    }
   ],
   "source": [
    "#-----------------------------------------------------------\n",
    "# Retrieve a list of list results on training and test data\n",
    "# sets for each training epoch\n",
    "#-----------------------------------------------------------\n",
    "acc      = history_Xception_model_2.history['accuracy' ]\n",
    "val_acc  = history_Xception_model_2.history['val_accuracy' ]\n",
    "loss     = history_Xception_model_2.history['loss' ]\n",
    "val_loss = history_Xception_model_2.history['val_loss' ]\n",
    "\n",
    "epochs   = range(len(acc)) # Get number of epochs\n",
    "\n",
    "#------------------------------------------------\n",
    "# Plot training and validation accuracy per epoch\n",
    "#------------------------------------------------\n",
    "plt.plot  (epochs, acc )\n",
    "plt.plot  (epochs, val_acc )\n",
    "plt.title ('Training and validation accuracy Xception Model 2')\n",
    "plt.legend(['train', 'val'], loc='upper left')\n",
    "plt.figure()\n",
    "\n",
    "#------------------------------------------------\n",
    "# Plot training and validation loss per epoch\n",
    "#------------------------------------------------\n",
    "plt.plot  (epochs, loss)\n",
    "plt.plot  (epochs, val_loss)\n",
    "plt.title ('Training and validation loss Xception Model 2')\n",
    "plt.legend(['train', 'val'], loc='upper left')"
   ]
  }
 ],
 "metadata": {
  "kernelspec": {
   "display_name": "tensorflow_gpu_zein",
   "language": "python",
   "name": "python3"
  },
  "language_info": {
   "codemirror_mode": {
    "name": "ipython",
    "version": 3
   },
   "file_extension": ".py",
   "mimetype": "text/x-python",
   "name": "python",
   "nbconvert_exporter": "python",
   "pygments_lexer": "ipython3",
   "version": "3.10.0"
  },
  "orig_nbformat": 4
 },
 "nbformat": 4,
 "nbformat_minor": 2
}
