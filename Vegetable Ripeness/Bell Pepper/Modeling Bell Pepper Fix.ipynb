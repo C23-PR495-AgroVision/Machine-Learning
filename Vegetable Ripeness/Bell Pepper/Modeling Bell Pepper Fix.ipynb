{
 "cells": [
  {
   "attachments": {},
   "cell_type": "markdown",
   "metadata": {},
   "source": [
    "# Library"
   ]
  },
  {
   "cell_type": "code",
   "execution_count": 1,
   "metadata": {},
   "outputs": [],
   "source": [
    "# Library to dataset\n",
    "import opendatasets as od\n",
    "import os\n",
    "import zipfile\n",
    "import numpy as np\n",
    "\n",
    "# Surpress Warnings\n",
    "import warnings\n",
    "warnings.filterwarnings('ignore')\n",
    "os.environ['TF_CPP_MIN_LOG_LEVEL'] = '3' \n",
    "# library visualization\n",
    "import matplotlib.pyplot as plt\n",
    "\n",
    "# Library Tensorflow\n",
    "import tensorflow as tf\n",
    "from tensorflow import keras\n",
    "from tensorflow.keras.preprocessing.image import ImageDataGenerator\n",
    "from tensorflow.keras.callbacks import ModelCheckpoint, EarlyStopping, ReduceLROnPlateau\n",
    "from tensorflow.keras.applications.densenet import DenseNet121\n",
    "from tensorflow.keras.applications.xception import Xception\n",
    "from tensorflow.keras.applications.mobilenet_v2 import MobileNetV2\n",
    "\n",
    "# Others\n",
    "import shutil\n",
    "import random"
   ]
  },
  {
   "attachments": {},
   "cell_type": "markdown",
   "metadata": {},
   "source": [
    "# Dataset"
   ]
  },
  {
   "cell_type": "code",
   "execution_count": 2,
   "metadata": {},
   "outputs": [
    {
     "name": "stdout",
     "output_type": "stream",
     "text": [
      "==========================Training Data====================\n",
      "Found 754 files belonging to 5 classes.\n",
      "==========================Validation Data====================\n",
      "Found 323 files belonging to 5 classes.\n"
     ]
    }
   ],
   "source": [
    "# Load dataset\n",
    "print(\"==========================Training Data====================\")\n",
    "train_data = tf.keras.preprocessing.image_dataset_from_directory(\n",
    "    \"Vegetable Ripeness/Dataset/Bell Pepper/train\",\n",
    "    label_mode=\"categorical\",\n",
    "    class_names= ['damaged','dried','old','ripe','unripe'],\n",
    "    color_mode=\"rgb\",\n",
    "    batch_size=20,\n",
    "    image_size=(256, 256),\n",
    "    shuffle=True,\n",
    "    seed=123\n",
    ")\n",
    "print(\"==========================Validation Data====================\")\n",
    "val_data = tf.keras.preprocessing.image_dataset_from_directory(\n",
    "    \"Vegetable Ripeness/Dataset/Bell Pepper/valid\",\n",
    "    label_mode=\"categorical\",\n",
    "    class_names= ['damaged','dried','old','ripe','unripe'],\n",
    "    color_mode=\"rgb\",\n",
    "    batch_size=20,\n",
    "    image_size=(256, 256),\n",
    "    shuffle=True,\n",
    "    seed=123\n",
    ")"
   ]
  },
  {
   "cell_type": "code",
   "execution_count": 3,
   "metadata": {},
   "outputs": [
    {
     "name": "stdout",
     "output_type": "stream",
     "text": [
      "Found 754 images belonging to 5 classes.\n",
      "Found 323 images belonging to 5 classes.\n"
     ]
    }
   ],
   "source": [
    "# All images will be rescaled by 1./255.\n",
    "train_datagen = ImageDataGenerator(rescale = 1.0/256.)\n",
    "test_datagen  = ImageDataGenerator(rescale = 1.0/256.)\n",
    "\n",
    "# --------------------\n",
    "# Flow training images in batches of 20 using train_datagen generator\n",
    "# --------------------\n",
    "train_generator = train_datagen.flow_from_directory(\"Vegetable Ripeness/Dataset/Bell Pepper/train\",\n",
    "                                                    batch_size=20,\n",
    "                                                    class_mode='categorical',\n",
    "                                                    target_size=(224, 224))     \n",
    "# --------------------\n",
    "# Flow validation images in batches of 20 using test_datagen generator\n",
    "# --------------------\n",
    "validation_generator =  test_datagen.flow_from_directory(\"Vegetable Ripeness/Dataset/Bell Pepper/valid\",\n",
    "                                                         batch_size=20,\n",
    "                                                         class_mode  = 'categorical',\n",
    "                                                         target_size = (224, 224))"
   ]
  },
  {
   "attachments": {},
   "cell_type": "markdown",
   "metadata": {},
   "source": [
    "# DenseNet 1"
   ]
  },
  {
   "cell_type": "code",
   "execution_count": 4,
   "metadata": {},
   "outputs": [],
   "source": [
    "# Difine the callbacks\n",
    "# Save the best model\n",
    "checkpoint_callback = ModelCheckpoint(filepath=\"BellPaper_DenseNet_model\", save_best_only=True, monitor=\"val_accuracy\", mode=\"max\", verbose=1)\n",
    "\n",
    "# Early stopping\n",
    "early_stopping_callback = EarlyStopping(monitor=\"val_accuracy\", mode=\"max\", patience=20, verbose=1, restore_best_weights=True)\n",
    "\n",
    "# Reduce learning rate\n",
    "reduce_lr_callback = ReduceLROnPlateau(monitor=\"val_loss\", factor=0.1, patience=5, verbose=1, mode=\"min\", min_delta=0.0001, cooldown=0, min_lr=0)\n",
    "\n",
    "# Callbacks list\n",
    "callbacks=[checkpoint_callback, early_stopping_callback, reduce_lr_callback]"
   ]
  },
  {
   "cell_type": "code",
   "execution_count": 5,
   "metadata": {},
   "outputs": [
    {
     "name": "stdout",
     "output_type": "stream",
     "text": [
      "Model: \"sequential\"\n",
      "_________________________________________________________________\n",
      " Layer (type)                Output Shape              Param #   \n",
      "=================================================================\n",
      " densenet121 (Functional)    (None, 7, 7, 1024)        7037504   \n",
      "                                                                 \n",
      " global_max_pooling2d (Globa  (None, 1024)             0         \n",
      " lMaxPooling2D)                                                  \n",
      "                                                                 \n",
      " dropout (Dropout)           (None, 1024)              0         \n",
      "                                                                 \n",
      " dense (Dense)               (None, 256)               262400    \n",
      "                                                                 \n",
      " dense_1 (Dense)             (None, 5)                 1285      \n",
      "                                                                 \n",
      "=================================================================\n",
      "Total params: 7,301,189\n",
      "Trainable params: 263,685\n",
      "Non-trainable params: 7,037,504\n",
      "_________________________________________________________________\n"
     ]
    }
   ],
   "source": [
    "# Define DIY Model\n",
    "DenseNet121_model = tf.keras.models.Sequential([\n",
    "    # DenseNet121 Layer\n",
    "    DenseNet121(include_top=False,weights='imagenet',input_shape=(224, 224, 3)),\n",
    "    # Global Max Pooling Layer\n",
    "    tf.keras.layers.GlobalMaxPooling2D(),\n",
    "    # Drop Out Layer\n",
    "    tf.keras.layers.Dropout(0.2),\n",
    "    # 256 neuron hidden layer\n",
    "    tf.keras.layers.Dense(256, activation='relu'),\n",
    "    # Output\n",
    "    tf.keras.layers.Dense(5, activation='softmax') \n",
    "  ])\n",
    "DenseNet121_model.layers[0].trainable = False\n",
    "\n",
    "# Compile Model\n",
    "DenseNet121_model.compile(loss='categorical_crossentropy',optimizer=tf.keras.optimizers.Adam(), metrics=['accuracy']) \n",
    "\n",
    "# Model Summary\n",
    "DenseNet121_model.summary()"
   ]
  },
  {
   "cell_type": "code",
   "execution_count": 6,
   "metadata": {},
   "outputs": [
    {
     "name": "stdout",
     "output_type": "stream",
     "text": [
      "Epoch 1/100\n",
      "38/38 [==============================] - ETA: 0s - loss: 1.6216 - accuracy: 0.6963\n",
      "Epoch 1: val_accuracy improved from -inf to 0.90402, saving model to BellPaper_DenseNet_model\n"
     ]
    },
    {
     "name": "stderr",
     "output_type": "stream",
     "text": [
      "WARNING:absl:Found untraced functions such as _jit_compiled_convolution_op, _jit_compiled_convolution_op, _jit_compiled_convolution_op, _jit_compiled_convolution_op, _jit_compiled_convolution_op while saving (showing 5 of 120). These functions will not be directly callable after loading.\n"
     ]
    },
    {
     "name": "stdout",
     "output_type": "stream",
     "text": [
      "INFO:tensorflow:Assets written to: BellPaper_DenseNet_model\\assets\n"
     ]
    },
    {
     "name": "stderr",
     "output_type": "stream",
     "text": [
      "INFO:tensorflow:Assets written to: BellPaper_DenseNet_model\\assets\n"
     ]
    },
    {
     "name": "stdout",
     "output_type": "stream",
     "text": [
      "38/38 [==============================] - 45s 1s/step - loss: 1.6216 - accuracy: 0.6963 - val_loss: 0.2418 - val_accuracy: 0.9040 - lr: 0.0010\n",
      "Epoch 2/100\n",
      "37/38 [============================>.] - ETA: 0s - loss: 0.3280 - accuracy: 0.8883\n",
      "Epoch 2: val_accuracy improved from 0.90402 to 0.91950, saving model to BellPaper_DenseNet_model\n"
     ]
    },
    {
     "name": "stderr",
     "output_type": "stream",
     "text": [
      "WARNING:absl:Found untraced functions such as _jit_compiled_convolution_op, _jit_compiled_convolution_op, _jit_compiled_convolution_op, _jit_compiled_convolution_op, _jit_compiled_convolution_op while saving (showing 5 of 120). These functions will not be directly callable after loading.\n"
     ]
    },
    {
     "name": "stdout",
     "output_type": "stream",
     "text": [
      "INFO:tensorflow:Assets written to: BellPaper_DenseNet_model\\assets\n"
     ]
    },
    {
     "name": "stderr",
     "output_type": "stream",
     "text": [
      "INFO:tensorflow:Assets written to: BellPaper_DenseNet_model\\assets\n"
     ]
    },
    {
     "name": "stdout",
     "output_type": "stream",
     "text": [
      "38/38 [==============================] - 36s 961ms/step - loss: 0.3196 - accuracy: 0.8912 - val_loss: 0.2658 - val_accuracy: 0.9195 - lr: 0.0010\n",
      "Epoch 3/100\n",
      "38/38 [==============================] - ETA: 0s - loss: 0.3615 - accuracy: 0.8806\n",
      "Epoch 3: val_accuracy did not improve from 0.91950\n",
      "38/38 [==============================] - 3s 70ms/step - loss: 0.3615 - accuracy: 0.8806 - val_loss: 0.2085 - val_accuracy: 0.9195 - lr: 0.0010\n",
      "Epoch 4/100\n",
      "38/38 [==============================] - ETA: 0s - loss: 0.2450 - accuracy: 0.9271\n",
      "Epoch 4: val_accuracy improved from 0.91950 to 0.95666, saving model to BellPaper_DenseNet_model\n"
     ]
    },
    {
     "name": "stderr",
     "output_type": "stream",
     "text": [
      "WARNING:absl:Found untraced functions such as _jit_compiled_convolution_op, _jit_compiled_convolution_op, _jit_compiled_convolution_op, _jit_compiled_convolution_op, _jit_compiled_convolution_op while saving (showing 5 of 120). These functions will not be directly callable after loading.\n"
     ]
    },
    {
     "name": "stdout",
     "output_type": "stream",
     "text": [
      "INFO:tensorflow:Assets written to: BellPaper_DenseNet_model\\assets\n"
     ]
    },
    {
     "name": "stderr",
     "output_type": "stream",
     "text": [
      "INFO:tensorflow:Assets written to: BellPaper_DenseNet_model\\assets\n"
     ]
    },
    {
     "name": "stdout",
     "output_type": "stream",
     "text": [
      "38/38 [==============================] - 36s 975ms/step - loss: 0.2450 - accuracy: 0.9271 - val_loss: 0.1297 - val_accuracy: 0.9567 - lr: 0.0010\n",
      "Epoch 5/100\n",
      "38/38 [==============================] - ETA: 0s - loss: 0.2201 - accuracy: 0.9178\n",
      "Epoch 5: val_accuracy did not improve from 0.95666\n",
      "38/38 [==============================] - 3s 67ms/step - loss: 0.2201 - accuracy: 0.9178 - val_loss: 0.3143 - val_accuracy: 0.9195 - lr: 0.0010\n",
      "Epoch 6/100\n",
      "37/38 [============================>.] - ETA: 0s - loss: 0.1450 - accuracy: 0.9469\n",
      "Epoch 6: val_accuracy improved from 0.95666 to 0.96904, saving model to BellPaper_DenseNet_model\n"
     ]
    },
    {
     "name": "stderr",
     "output_type": "stream",
     "text": [
      "WARNING:absl:Found untraced functions such as _jit_compiled_convolution_op, _jit_compiled_convolution_op, _jit_compiled_convolution_op, _jit_compiled_convolution_op, _jit_compiled_convolution_op while saving (showing 5 of 120). These functions will not be directly callable after loading.\n"
     ]
    },
    {
     "name": "stdout",
     "output_type": "stream",
     "text": [
      "INFO:tensorflow:Assets written to: BellPaper_DenseNet_model\\assets\n"
     ]
    },
    {
     "name": "stderr",
     "output_type": "stream",
     "text": [
      "INFO:tensorflow:Assets written to: BellPaper_DenseNet_model\\assets\n"
     ]
    },
    {
     "name": "stdout",
     "output_type": "stream",
     "text": [
      "38/38 [==============================] - 37s 988ms/step - loss: 0.1419 - accuracy: 0.9483 - val_loss: 0.0872 - val_accuracy: 0.9690 - lr: 0.0010\n",
      "Epoch 7/100\n",
      "37/38 [============================>.] - ETA: 0s - loss: 0.1426 - accuracy: 0.9414\n",
      "Epoch 7: val_accuracy did not improve from 0.96904\n",
      "38/38 [==============================] - 3s 67ms/step - loss: 0.1431 - accuracy: 0.9416 - val_loss: 0.1138 - val_accuracy: 0.9474 - lr: 0.0010\n",
      "Epoch 8/100\n",
      "37/38 [============================>.] - ETA: 0s - loss: 0.1540 - accuracy: 0.9482\n",
      "Epoch 8: val_accuracy did not improve from 0.96904\n",
      "38/38 [==============================] - 3s 67ms/step - loss: 0.1570 - accuracy: 0.9469 - val_loss: 0.1012 - val_accuracy: 0.9567 - lr: 0.0010\n",
      "Epoch 9/100\n",
      "38/38 [==============================] - ETA: 0s - loss: 0.0983 - accuracy: 0.9668\n",
      "Epoch 9: val_accuracy did not improve from 0.96904\n",
      "38/38 [==============================] - 3s 67ms/step - loss: 0.0983 - accuracy: 0.9668 - val_loss: 0.1920 - val_accuracy: 0.9350 - lr: 0.0010\n",
      "Epoch 10/100\n",
      "37/38 [============================>.] - ETA: 0s - loss: 0.1441 - accuracy: 0.9537\n",
      "Epoch 10: val_accuracy did not improve from 0.96904\n",
      "38/38 [==============================] - 3s 67ms/step - loss: 0.1405 - accuracy: 0.9549 - val_loss: 0.1209 - val_accuracy: 0.9598 - lr: 0.0010\n",
      "Epoch 11/100\n",
      "37/38 [============================>.] - ETA: 0s - loss: 0.1122 - accuracy: 0.9537\n",
      "Epoch 11: val_accuracy did not improve from 0.96904\n",
      "\n",
      "Epoch 11: ReduceLROnPlateau reducing learning rate to 0.00010000000474974513.\n",
      "38/38 [==============================] - 3s 67ms/step - loss: 0.1121 - accuracy: 0.9536 - val_loss: 0.1076 - val_accuracy: 0.9628 - lr: 0.0010\n",
      "Epoch 12/100\n",
      "37/38 [============================>.] - ETA: 0s - loss: 0.0600 - accuracy: 0.9741\n",
      "Epoch 12: val_accuracy did not improve from 0.96904\n",
      "38/38 [==============================] - 3s 67ms/step - loss: 0.0591 - accuracy: 0.9748 - val_loss: 0.1023 - val_accuracy: 0.9659 - lr: 1.0000e-04\n",
      "Epoch 13/100\n",
      "37/38 [============================>.] - ETA: 0s - loss: 0.0633 - accuracy: 0.9782\n",
      "Epoch 13: val_accuracy did not improve from 0.96904\n",
      "38/38 [==============================] - 3s 67ms/step - loss: 0.0618 - accuracy: 0.9788 - val_loss: 0.1142 - val_accuracy: 0.9567 - lr: 1.0000e-04\n",
      "Epoch 14/100\n",
      "37/38 [============================>.] - ETA: 0s - loss: 0.0570 - accuracy: 0.9823\n",
      "Epoch 14: val_accuracy did not improve from 0.96904\n",
      "38/38 [==============================] - 3s 67ms/step - loss: 0.0563 - accuracy: 0.9828 - val_loss: 0.0900 - val_accuracy: 0.9690 - lr: 1.0000e-04\n",
      "Epoch 15/100\n",
      "38/38 [==============================] - ETA: 0s - loss: 0.0591 - accuracy: 0.9748\n",
      "Epoch 15: val_accuracy did not improve from 0.96904\n",
      "38/38 [==============================] - 3s 68ms/step - loss: 0.0591 - accuracy: 0.9748 - val_loss: 0.0826 - val_accuracy: 0.9567 - lr: 1.0000e-04\n",
      "Epoch 16/100\n",
      "37/38 [============================>.] - ETA: 0s - loss: 0.0640 - accuracy: 0.9700\n",
      "Epoch 16: val_accuracy did not improve from 0.96904\n",
      "38/38 [==============================] - 3s 68ms/step - loss: 0.0640 - accuracy: 0.9708 - val_loss: 0.0965 - val_accuracy: 0.9659 - lr: 1.0000e-04\n",
      "Epoch 17/100\n",
      "37/38 [============================>.] - ETA: 0s - loss: 0.0414 - accuracy: 0.9850\n",
      "Epoch 17: val_accuracy did not improve from 0.96904\n",
      "38/38 [==============================] - 3s 68ms/step - loss: 0.0429 - accuracy: 0.9841 - val_loss: 0.1043 - val_accuracy: 0.9659 - lr: 1.0000e-04\n",
      "Epoch 18/100\n",
      "37/38 [============================>.] - ETA: 0s - loss: 0.0474 - accuracy: 0.9823\n",
      "Epoch 18: val_accuracy did not improve from 0.96904\n",
      "38/38 [==============================] - 3s 67ms/step - loss: 0.0474 - accuracy: 0.9814 - val_loss: 0.0870 - val_accuracy: 0.9659 - lr: 1.0000e-04\n",
      "Epoch 19/100\n",
      "38/38 [==============================] - ETA: 0s - loss: 0.0398 - accuracy: 0.9867\n",
      "Epoch 19: val_accuracy did not improve from 0.96904\n",
      "38/38 [==============================] - 3s 67ms/step - loss: 0.0398 - accuracy: 0.9867 - val_loss: 0.0826 - val_accuracy: 0.9659 - lr: 1.0000e-04\n",
      "Epoch 20/100\n",
      "37/38 [============================>.] - ETA: 0s - loss: 0.0374 - accuracy: 0.9864\n",
      "Epoch 20: val_accuracy did not improve from 0.96904\n",
      "\n",
      "Epoch 20: ReduceLROnPlateau reducing learning rate to 1.0000000474974514e-05.\n",
      "38/38 [==============================] - 3s 67ms/step - loss: 0.0366 - accuracy: 0.9867 - val_loss: 0.1059 - val_accuracy: 0.9628 - lr: 1.0000e-04\n",
      "Epoch 21/100\n",
      "38/38 [==============================] - ETA: 0s - loss: 0.0423 - accuracy: 0.9854\n",
      "Epoch 21: val_accuracy did not improve from 0.96904\n",
      "38/38 [==============================] - 3s 68ms/step - loss: 0.0423 - accuracy: 0.9854 - val_loss: 0.0988 - val_accuracy: 0.9628 - lr: 1.0000e-05\n",
      "Epoch 22/100\n",
      "38/38 [==============================] - ETA: 0s - loss: 0.0283 - accuracy: 0.9907\n",
      "Epoch 22: val_accuracy did not improve from 0.96904\n",
      "38/38 [==============================] - 3s 68ms/step - loss: 0.0283 - accuracy: 0.9907 - val_loss: 0.0968 - val_accuracy: 0.9628 - lr: 1.0000e-05\n",
      "Epoch 23/100\n",
      "37/38 [============================>.] - ETA: 0s - loss: 0.0448 - accuracy: 0.9823\n",
      "Epoch 23: val_accuracy did not improve from 0.96904\n",
      "38/38 [==============================] - 3s 68ms/step - loss: 0.0438 - accuracy: 0.9828 - val_loss: 0.0977 - val_accuracy: 0.9628 - lr: 1.0000e-05\n",
      "Epoch 24/100\n",
      "37/38 [============================>.] - ETA: 0s - loss: 0.0472 - accuracy: 0.9755\n",
      "Epoch 24: val_accuracy did not improve from 0.96904\n",
      "38/38 [==============================] - 3s 67ms/step - loss: 0.0463 - accuracy: 0.9761 - val_loss: 0.0915 - val_accuracy: 0.9659 - lr: 1.0000e-05\n",
      "Epoch 25/100\n",
      "37/38 [============================>.] - ETA: 0s - loss: 0.0363 - accuracy: 0.9864\n",
      "Epoch 25: val_accuracy did not improve from 0.96904\n",
      "\n",
      "Epoch 25: ReduceLROnPlateau reducing learning rate to 1.0000000656873453e-06.\n",
      "38/38 [==============================] - 3s 67ms/step - loss: 0.0356 - accuracy: 0.9867 - val_loss: 0.0960 - val_accuracy: 0.9628 - lr: 1.0000e-05\n",
      "Epoch 26/100\n",
      "37/38 [============================>.] - ETA: 0s - loss: 0.0546 - accuracy: 0.9823\n",
      "Epoch 26: val_accuracy did not improve from 0.96904\n",
      "Restoring model weights from the end of the best epoch: 6.\n",
      "38/38 [==============================] - 3s 71ms/step - loss: 0.0540 - accuracy: 0.9828 - val_loss: 0.0961 - val_accuracy: 0.9628 - lr: 1.0000e-06\n",
      "Epoch 26: early stopping\n"
     ]
    }
   ],
   "source": [
    "# Define the number of epochs\n",
    "num_epochs = 100\n",
    "\n",
    "# Train the model\n",
    "history_DenseNet121_model_1 = DenseNet121_model.fit(train_generator, epochs=num_epochs, validation_data=validation_generator, callbacks=callbacks)"
   ]
  },
  {
   "cell_type": "code",
   "execution_count": 7,
   "metadata": {},
   "outputs": [
    {
     "data": {
      "text/plain": [
       "<matplotlib.legend.Legend at 0x19df824fac0>"
      ]
     },
     "execution_count": 7,
     "metadata": {},
     "output_type": "execute_result"
    },
    {
     "data": {
      "image/png": "[encoded data removed]",
      "text/plain": [
       "<Figure size 640x480 with 1 Axes>"
      ]
     },
     "metadata": {},
     "output_type": "display_data"
    },
    {
     "data": {
      "image/png": "[encoded data removed]",
      "text/plain": [
       "<Figure size 640x480 with 1 Axes>"
      ]
     },
     "metadata": {},
     "output_type": "display_data"
    }
   ],
   "source": [
    "#-----------------------------------------------------------\n",
    "# Retrieve a list of list results on training and test data\n",
    "# sets for each training epoch\n",
    "#-----------------------------------------------------------\n",
    "acc      = history_DenseNet121_model_1.history['accuracy' ]\n",
    "val_acc  = history_DenseNet121_model_1.history['val_accuracy' ]\n",
    "loss     = history_DenseNet121_model_1.history['loss' ]\n",
    "val_loss = history_DenseNet121_model_1.history['val_loss' ]\n",
    "\n",
    "epochs   = range(len(acc)) # Get number of epochs\n",
    "\n",
    "#------------------------------------------------\n",
    "# Plot training and validation accuracy per epoch\n",
    "#------------------------------------------------\n",
    "plt.plot  (epochs, acc )\n",
    "plt.plot  (epochs, val_acc )\n",
    "plt.title ('Training and validation accuracy DenseNet Model')\n",
    "plt.legend(['train', 'val'], loc='upper left')\n",
    "plt.figure()\n",
    "\n",
    "#------------------------------------------------\n",
    "# Plot training and validation loss per epoch\n",
    "#------------------------------------------------\n",
    "plt.plot  (epochs, loss)\n",
    "plt.plot  (epochs, val_loss)\n",
    "plt.title ('Training and validation loss DenseNet Model')\n",
    "plt.legend(['train', 'val'], loc='upper left')"
   ]
  },
  {
   "attachments": {},
   "cell_type": "markdown",
   "metadata": {},
   "source": [
    "# DenseNet 2"
   ]
  },
  {
   "cell_type": "code",
   "execution_count": 16,
   "metadata": {},
   "outputs": [],
   "source": [
    "# Difine the callbacks\n",
    "# Save the best model\n",
    "checkpoint_callback = ModelCheckpoint(filepath=\"BellPaper_DenseNet2_model\", save_best_only=True, monitor=\"val_accuracy\", mode=\"max\", verbose=1)\n",
    "\n",
    "# Early stopping\n",
    "early_stopping_callback = EarlyStopping(monitor=\"val_accuracy\", mode=\"max\", patience=20, verbose=1, restore_best_weights=True)\n",
    "\n",
    "# Reduce learning rate\n",
    "reduce_lr_callback = ReduceLROnPlateau(monitor=\"val_loss\", factor=0.1, patience=5, verbose=1, mode=\"min\", min_delta=0.0001, cooldown=0, min_lr=0)\n",
    "\n",
    "# Callbacks list\n",
    "callbacks=[checkpoint_callback, early_stopping_callback, reduce_lr_callback]"
   ]
  },
  {
   "cell_type": "code",
   "execution_count": 17,
   "metadata": {},
   "outputs": [
    {
     "name": "stdout",
     "output_type": "stream",
     "text": [
      "Model: \"sequential_3\"\n",
      "_________________________________________________________________\n",
      " Layer (type)                Output Shape              Param #   \n",
      "=================================================================\n",
      " densenet121 (Functional)    (None, 7, 7, 1024)        7037504   \n",
      "                                                                 \n",
      " global_average_pooling2d (G  (None, 1024)             0         \n",
      " lobalAveragePooling2D)                                          \n",
      "                                                                 \n",
      " dropout_3 (Dropout)         (None, 1024)              0         \n",
      "                                                                 \n",
      " dense_6 (Dense)             (None, 256)               262400    \n",
      "                                                                 \n",
      " dense_7 (Dense)             (None, 5)                 1285      \n",
      "                                                                 \n",
      "=================================================================\n",
      "Total params: 7,301,189\n",
      "Trainable params: 263,685\n",
      "Non-trainable params: 7,037,504\n",
      "_________________________________________________________________\n"
     ]
    }
   ],
   "source": [
    "# Define DIY Model\n",
    "DenseNet121_model2 = tf.keras.models.Sequential([\n",
    "    # DenseNet121 Layer\n",
    "    DenseNet121(include_top=False,weights='imagenet',input_shape=(224, 224, 3)),\n",
    "    # Global Average Pooling Layer\n",
    "    tf.keras.layers.GlobalAveragePooling2D(),\n",
    "    # Drop Out Layer\n",
    "    tf.keras.layers.Dropout(0.2),\n",
    "    # 256 neuron hidden layer\n",
    "    tf.keras.layers.Dense(256, activation='relu'),\n",
    "    # Output\n",
    "    tf.keras.layers.Dense(5, activation='softmax') \n",
    "  ])\n",
    "DenseNet121_model2.layers[0].trainable = False\n",
    "\n",
    "# Compile Model\n",
    "DenseNet121_model2.compile(loss='categorical_crossentropy',optimizer=tf.keras.optimizers.Adam(), metrics=['accuracy']) \n",
    "\n",
    "# Model Summary\n",
    "DenseNet121_model2.summary()"
   ]
  },
  {
   "cell_type": "code",
   "execution_count": 18,
   "metadata": {},
   "outputs": [
    {
     "name": "stdout",
     "output_type": "stream",
     "text": [
      "Epoch 1/100\n",
      "38/38 [==============================] - ETA: 0s - loss: 0.5671 - accuracy: 0.7745\n",
      "Epoch 1: val_accuracy improved from -inf to 0.89474, saving model to BellPaper_DenseNet2_model\n"
     ]
    },
    {
     "name": "stderr",
     "output_type": "stream",
     "text": [
      "WARNING:absl:Found untraced functions such as _jit_compiled_convolution_op, _jit_compiled_convolution_op, _jit_compiled_convolution_op, _jit_compiled_convolution_op, _jit_compiled_convolution_op while saving (showing 5 of 120). These functions will not be directly callable after loading.\n"
     ]
    },
    {
     "name": "stdout",
     "output_type": "stream",
     "text": [
      "INFO:tensorflow:Assets written to: BellPaper_DenseNet2_model\\assets\n"
     ]
    },
    {
     "name": "stderr",
     "output_type": "stream",
     "text": [
      "INFO:tensorflow:Assets written to: BellPaper_DenseNet2_model\\assets\n"
     ]
    },
    {
     "name": "stdout",
     "output_type": "stream",
     "text": [
      "38/38 [==============================] - 42s 1s/step - loss: 0.5671 - accuracy: 0.7745 - val_loss: 0.2889 - val_accuracy: 0.8947 - lr: 0.0010\n",
      "Epoch 2/100\n",
      "38/38 [==============================] - ETA: 0s - loss: 0.2247 - accuracy: 0.9098\n",
      "Epoch 2: val_accuracy improved from 0.89474 to 0.94737, saving model to BellPaper_DenseNet2_model\n"
     ]
    },
    {
     "name": "stderr",
     "output_type": "stream",
     "text": [
      "WARNING:absl:Found untraced functions such as _jit_compiled_convolution_op, _jit_compiled_convolution_op, _jit_compiled_convolution_op, _jit_compiled_convolution_op, _jit_compiled_convolution_op while saving (showing 5 of 120). These functions will not be directly callable after loading.\n"
     ]
    },
    {
     "name": "stdout",
     "output_type": "stream",
     "text": [
      "INFO:tensorflow:Assets written to: BellPaper_DenseNet2_model\\assets\n"
     ]
    },
    {
     "name": "stderr",
     "output_type": "stream",
     "text": [
      "INFO:tensorflow:Assets written to: BellPaper_DenseNet2_model\\assets\n"
     ]
    },
    {
     "name": "stdout",
     "output_type": "stream",
     "text": [
      "38/38 [==============================] - 37s 985ms/step - loss: 0.2247 - accuracy: 0.9098 - val_loss: 0.1436 - val_accuracy: 0.9474 - lr: 0.0010\n",
      "Epoch 3/100\n",
      "38/38 [==============================] - ETA: 0s - loss: 0.2133 - accuracy: 0.9138\n",
      "Epoch 3: val_accuracy improved from 0.94737 to 0.95666, saving model to BellPaper_DenseNet2_model\n"
     ]
    },
    {
     "name": "stderr",
     "output_type": "stream",
     "text": [
      "WARNING:absl:Found untraced functions such as _jit_compiled_convolution_op, _jit_compiled_convolution_op, _jit_compiled_convolution_op, _jit_compiled_convolution_op, _jit_compiled_convolution_op while saving (showing 5 of 120). These functions will not be directly callable after loading.\n"
     ]
    },
    {
     "name": "stdout",
     "output_type": "stream",
     "text": [
      "INFO:tensorflow:Assets written to: BellPaper_DenseNet2_model\\assets\n"
     ]
    },
    {
     "name": "stderr",
     "output_type": "stream",
     "text": [
      "INFO:tensorflow:Assets written to: BellPaper_DenseNet2_model\\assets\n"
     ]
    },
    {
     "name": "stdout",
     "output_type": "stream",
     "text": [
      "38/38 [==============================] - 38s 1s/step - loss: 0.2133 - accuracy: 0.9138 - val_loss: 0.1231 - val_accuracy: 0.9567 - lr: 0.0010\n",
      "Epoch 4/100\n",
      "37/38 [============================>.] - ETA: 0s - loss: 0.1490 - accuracy: 0.9455\n",
      "Epoch 4: val_accuracy improved from 0.95666 to 0.96285, saving model to BellPaper_DenseNet2_model\n"
     ]
    },
    {
     "name": "stderr",
     "output_type": "stream",
     "text": [
      "WARNING:absl:Found untraced functions such as _jit_compiled_convolution_op, _jit_compiled_convolution_op, _jit_compiled_convolution_op, _jit_compiled_convolution_op, _jit_compiled_convolution_op while saving (showing 5 of 120). These functions will not be directly callable after loading.\n"
     ]
    },
    {
     "name": "stdout",
     "output_type": "stream",
     "text": [
      "INFO:tensorflow:Assets written to: BellPaper_DenseNet2_model\\assets\n"
     ]
    },
    {
     "name": "stderr",
     "output_type": "stream",
     "text": [
      "INFO:tensorflow:Assets written to: BellPaper_DenseNet2_model\\assets\n"
     ]
    },
    {
     "name": "stdout",
     "output_type": "stream",
     "text": [
      "38/38 [==============================] - 37s 1s/step - loss: 0.1477 - accuracy: 0.9456 - val_loss: 0.1145 - val_accuracy: 0.9628 - lr: 0.0010\n",
      "Epoch 5/100\n",
      "38/38 [==============================] - ETA: 0s - loss: 0.1186 - accuracy: 0.9589\n",
      "Epoch 5: val_accuracy did not improve from 0.96285\n",
      "38/38 [==============================] - 3s 72ms/step - loss: 0.1186 - accuracy: 0.9589 - val_loss: 0.1047 - val_accuracy: 0.9628 - lr: 0.0010\n",
      "Epoch 6/100\n",
      "37/38 [============================>.] - ETA: 0s - loss: 0.1050 - accuracy: 0.9595\n",
      "Epoch 6: val_accuracy did not improve from 0.96285\n",
      "38/38 [==============================] - 3s 71ms/step - loss: 0.1060 - accuracy: 0.9589 - val_loss: 0.0992 - val_accuracy: 0.9536 - lr: 0.0010\n",
      "Epoch 7/100\n",
      "37/38 [============================>.] - ETA: 0s - loss: 0.1005 - accuracy: 0.9632\n",
      "Epoch 7: val_accuracy did not improve from 0.96285\n",
      "38/38 [==============================] - 3s 72ms/step - loss: 0.0985 - accuracy: 0.9642 - val_loss: 0.1351 - val_accuracy: 0.9474 - lr: 0.0010\n",
      "Epoch 8/100\n",
      "38/38 [==============================] - ETA: 0s - loss: 0.0883 - accuracy: 0.9708\n",
      "Epoch 8: val_accuracy did not improve from 0.96285\n",
      "38/38 [==============================] - 3s 71ms/step - loss: 0.0883 - accuracy: 0.9708 - val_loss: 0.1268 - val_accuracy: 0.9536 - lr: 0.0010\n",
      "Epoch 9/100\n",
      "37/38 [============================>.] - ETA: 0s - loss: 0.1040 - accuracy: 0.9605\n",
      "Epoch 9: val_accuracy improved from 0.96285 to 0.96904, saving model to BellPaper_DenseNet2_model\n"
     ]
    },
    {
     "name": "stderr",
     "output_type": "stream",
     "text": [
      "WARNING:absl:Found untraced functions such as _jit_compiled_convolution_op, _jit_compiled_convolution_op, _jit_compiled_convolution_op, _jit_compiled_convolution_op, _jit_compiled_convolution_op while saving (showing 5 of 120). These functions will not be directly callable after loading.\n"
     ]
    },
    {
     "name": "stdout",
     "output_type": "stream",
     "text": [
      "INFO:tensorflow:Assets written to: BellPaper_DenseNet2_model\\assets\n"
     ]
    },
    {
     "name": "stderr",
     "output_type": "stream",
     "text": [
      "INFO:tensorflow:Assets written to: BellPaper_DenseNet2_model\\assets\n"
     ]
    },
    {
     "name": "stdout",
     "output_type": "stream",
     "text": [
      "38/38 [==============================] - 37s 1s/step - loss: 0.1014 - accuracy: 0.9615 - val_loss: 0.0771 - val_accuracy: 0.9690 - lr: 0.0010\n",
      "Epoch 10/100\n",
      "38/38 [==============================] - ETA: 0s - loss: 0.0826 - accuracy: 0.9761\n",
      "Epoch 10: val_accuracy did not improve from 0.96904\n",
      "38/38 [==============================] - 3s 71ms/step - loss: 0.0826 - accuracy: 0.9761 - val_loss: 0.0771 - val_accuracy: 0.9690 - lr: 0.0010\n",
      "Epoch 11/100\n",
      "37/38 [============================>.] - ETA: 0s - loss: 0.0719 - accuracy: 0.9768\n",
      "Epoch 11: val_accuracy did not improve from 0.96904\n",
      "38/38 [==============================] - 3s 70ms/step - loss: 0.0720 - accuracy: 0.9761 - val_loss: 0.0834 - val_accuracy: 0.9659 - lr: 0.0010\n",
      "Epoch 12/100\n",
      "38/38 [==============================] - ETA: 0s - loss: 0.0650 - accuracy: 0.9761\n",
      "Epoch 12: val_accuracy did not improve from 0.96904\n",
      "38/38 [==============================] - 3s 70ms/step - loss: 0.0650 - accuracy: 0.9761 - val_loss: 0.0773 - val_accuracy: 0.9598 - lr: 0.0010\n",
      "Epoch 13/100\n",
      "38/38 [==============================] - ETA: 0s - loss: 0.0568 - accuracy: 0.9801\n",
      "Epoch 13: val_accuracy improved from 0.96904 to 0.97214, saving model to BellPaper_DenseNet2_model\n"
     ]
    },
    {
     "name": "stderr",
     "output_type": "stream",
     "text": [
      "WARNING:absl:Found untraced functions such as _jit_compiled_convolution_op, _jit_compiled_convolution_op, _jit_compiled_convolution_op, _jit_compiled_convolution_op, _jit_compiled_convolution_op while saving (showing 5 of 120). These functions will not be directly callable after loading.\n"
     ]
    },
    {
     "name": "stdout",
     "output_type": "stream",
     "text": [
      "INFO:tensorflow:Assets written to: BellPaper_DenseNet2_model\\assets\n"
     ]
    },
    {
     "name": "stderr",
     "output_type": "stream",
     "text": [
      "INFO:tensorflow:Assets written to: BellPaper_DenseNet2_model\\assets\n"
     ]
    },
    {
     "name": "stdout",
     "output_type": "stream",
     "text": [
      "38/38 [==============================] - 38s 1s/step - loss: 0.0568 - accuracy: 0.9801 - val_loss: 0.0667 - val_accuracy: 0.9721 - lr: 0.0010\n",
      "Epoch 14/100\n",
      "38/38 [==============================] - ETA: 0s - loss: 0.0688 - accuracy: 0.9682\n",
      "Epoch 14: val_accuracy did not improve from 0.97214\n",
      "38/38 [==============================] - 3s 73ms/step - loss: 0.0688 - accuracy: 0.9682 - val_loss: 0.0638 - val_accuracy: 0.9628 - lr: 0.0010\n",
      "Epoch 15/100\n",
      "38/38 [==============================] - ETA: 0s - loss: 0.0500 - accuracy: 0.9828\n",
      "Epoch 15: val_accuracy did not improve from 0.97214\n",
      "38/38 [==============================] - 3s 72ms/step - loss: 0.0500 - accuracy: 0.9828 - val_loss: 0.0745 - val_accuracy: 0.9690 - lr: 0.0010\n",
      "Epoch 16/100\n",
      "38/38 [==============================] - ETA: 0s - loss: 0.0461 - accuracy: 0.9828\n",
      "Epoch 16: val_accuracy improved from 0.97214 to 0.98142, saving model to BellPaper_DenseNet2_model\n"
     ]
    },
    {
     "name": "stderr",
     "output_type": "stream",
     "text": [
      "WARNING:absl:Found untraced functions such as _jit_compiled_convolution_op, _jit_compiled_convolution_op, _jit_compiled_convolution_op, _jit_compiled_convolution_op, _jit_compiled_convolution_op while saving (showing 5 of 120). These functions will not be directly callable after loading.\n"
     ]
    },
    {
     "name": "stdout",
     "output_type": "stream",
     "text": [
      "INFO:tensorflow:Assets written to: BellPaper_DenseNet2_model\\assets\n"
     ]
    },
    {
     "name": "stderr",
     "output_type": "stream",
     "text": [
      "INFO:tensorflow:Assets written to: BellPaper_DenseNet2_model\\assets\n"
     ]
    },
    {
     "name": "stdout",
     "output_type": "stream",
     "text": [
      "38/38 [==============================] - 37s 991ms/step - loss: 0.0461 - accuracy: 0.9828 - val_loss: 0.0516 - val_accuracy: 0.9814 - lr: 0.0010\n",
      "Epoch 17/100\n",
      "38/38 [==============================] - ETA: 0s - loss: 0.0489 - accuracy: 0.9867\n",
      "Epoch 17: val_accuracy did not improve from 0.98142\n",
      "38/38 [==============================] - 3s 72ms/step - loss: 0.0489 - accuracy: 0.9867 - val_loss: 0.0791 - val_accuracy: 0.9659 - lr: 0.0010\n",
      "Epoch 18/100\n",
      "38/38 [==============================] - ETA: 0s - loss: 0.0698 - accuracy: 0.9708\n",
      "Epoch 18: val_accuracy did not improve from 0.98142\n",
      "38/38 [==============================] - 3s 72ms/step - loss: 0.0698 - accuracy: 0.9708 - val_loss: 0.0574 - val_accuracy: 0.9814 - lr: 0.0010\n",
      "Epoch 19/100\n",
      "38/38 [==============================] - ETA: 0s - loss: 0.0788 - accuracy: 0.9682\n",
      "Epoch 19: val_accuracy did not improve from 0.98142\n",
      "38/38 [==============================] - 3s 72ms/step - loss: 0.0788 - accuracy: 0.9682 - val_loss: 0.0657 - val_accuracy: 0.9659 - lr: 0.0010\n",
      "Epoch 20/100\n",
      "38/38 [==============================] - ETA: 0s - loss: 0.0391 - accuracy: 0.9907\n",
      "Epoch 20: val_accuracy did not improve from 0.98142\n",
      "38/38 [==============================] - 3s 72ms/step - loss: 0.0391 - accuracy: 0.9907 - val_loss: 0.0504 - val_accuracy: 0.9783 - lr: 0.0010\n",
      "Epoch 21/100\n",
      "37/38 [============================>.] - ETA: 0s - loss: 0.0288 - accuracy: 0.9891\n",
      "Epoch 21: val_accuracy did not improve from 0.98142\n",
      "38/38 [==============================] - 3s 72ms/step - loss: 0.0283 - accuracy: 0.9894 - val_loss: 0.0547 - val_accuracy: 0.9690 - lr: 0.0010\n",
      "Epoch 22/100\n",
      "38/38 [==============================] - ETA: 0s - loss: 0.0410 - accuracy: 0.9814\n",
      "Epoch 22: val_accuracy did not improve from 0.98142\n",
      "38/38 [==============================] - 3s 75ms/step - loss: 0.0410 - accuracy: 0.9814 - val_loss: 0.0706 - val_accuracy: 0.9690 - lr: 0.0010\n",
      "Epoch 23/100\n",
      "38/38 [==============================] - ETA: 0s - loss: 0.0386 - accuracy: 0.9881\n",
      "Epoch 23: val_accuracy did not improve from 0.98142\n",
      "38/38 [==============================] - 3s 72ms/step - loss: 0.0386 - accuracy: 0.9881 - val_loss: 0.0507 - val_accuracy: 0.9783 - lr: 0.0010\n",
      "Epoch 24/100\n",
      "38/38 [==============================] - ETA: 0s - loss: 0.0310 - accuracy: 0.9894\n",
      "Epoch 24: val_accuracy improved from 0.98142 to 0.98452, saving model to BellPaper_DenseNet2_model\n"
     ]
    },
    {
     "name": "stderr",
     "output_type": "stream",
     "text": [
      "WARNING:absl:Found untraced functions such as _jit_compiled_convolution_op, _jit_compiled_convolution_op, _jit_compiled_convolution_op, _jit_compiled_convolution_op, _jit_compiled_convolution_op while saving (showing 5 of 120). These functions will not be directly callable after loading.\n"
     ]
    },
    {
     "name": "stdout",
     "output_type": "stream",
     "text": [
      "INFO:tensorflow:Assets written to: BellPaper_DenseNet2_model\\assets\n"
     ]
    },
    {
     "name": "stderr",
     "output_type": "stream",
     "text": [
      "INFO:tensorflow:Assets written to: BellPaper_DenseNet2_model\\assets\n"
     ]
    },
    {
     "name": "stdout",
     "output_type": "stream",
     "text": [
      "38/38 [==============================] - 38s 1s/step - loss: 0.0310 - accuracy: 0.9894 - val_loss: 0.0429 - val_accuracy: 0.9845 - lr: 0.0010\n",
      "Epoch 25/100\n",
      "38/38 [==============================] - ETA: 0s - loss: 0.0211 - accuracy: 0.9947\n",
      "Epoch 25: val_accuracy improved from 0.98452 to 0.99381, saving model to BellPaper_DenseNet2_model\n"
     ]
    },
    {
     "name": "stderr",
     "output_type": "stream",
     "text": [
      "WARNING:absl:Found untraced functions such as _jit_compiled_convolution_op, _jit_compiled_convolution_op, _jit_compiled_convolution_op, _jit_compiled_convolution_op, _jit_compiled_convolution_op while saving (showing 5 of 120). These functions will not be directly callable after loading.\n"
     ]
    },
    {
     "name": "stdout",
     "output_type": "stream",
     "text": [
      "INFO:tensorflow:Assets written to: BellPaper_DenseNet2_model\\assets\n"
     ]
    },
    {
     "name": "stderr",
     "output_type": "stream",
     "text": [
      "INFO:tensorflow:Assets written to: BellPaper_DenseNet2_model\\assets\n"
     ]
    },
    {
     "name": "stdout",
     "output_type": "stream",
     "text": [
      "38/38 [==============================] - 37s 1s/step - loss: 0.0211 - accuracy: 0.9947 - val_loss: 0.0416 - val_accuracy: 0.9938 - lr: 0.0010\n",
      "Epoch 26/100\n",
      "38/38 [==============================] - ETA: 0s - loss: 0.0271 - accuracy: 0.9907\n",
      "Epoch 26: val_accuracy did not improve from 0.99381\n",
      "38/38 [==============================] - 3s 71ms/step - loss: 0.0271 - accuracy: 0.9907 - val_loss: 0.0399 - val_accuracy: 0.9845 - lr: 0.0010\n",
      "Epoch 27/100\n",
      "38/38 [==============================] - ETA: 0s - loss: 0.0321 - accuracy: 0.9867\n",
      "Epoch 27: val_accuracy did not improve from 0.99381\n",
      "38/38 [==============================] - 3s 70ms/step - loss: 0.0321 - accuracy: 0.9867 - val_loss: 0.0680 - val_accuracy: 0.9659 - lr: 0.0010\n",
      "Epoch 28/100\n",
      "37/38 [============================>.] - ETA: 0s - loss: 0.0481 - accuracy: 0.9796\n",
      "Epoch 28: val_accuracy did not improve from 0.99381\n",
      "38/38 [==============================] - 3s 73ms/step - loss: 0.0470 - accuracy: 0.9801 - val_loss: 0.0644 - val_accuracy: 0.9628 - lr: 0.0010\n",
      "Epoch 29/100\n",
      "37/38 [============================>.] - ETA: 0s - loss: 0.0222 - accuracy: 0.9918\n",
      "Epoch 29: val_accuracy did not improve from 0.99381\n",
      "38/38 [==============================] - 3s 70ms/step - loss: 0.0233 - accuracy: 0.9907 - val_loss: 0.0493 - val_accuracy: 0.9721 - lr: 0.0010\n",
      "Epoch 30/100\n",
      "38/38 [==============================] - ETA: 0s - loss: 0.0317 - accuracy: 0.9894\n",
      "Epoch 30: val_accuracy did not improve from 0.99381\n",
      "38/38 [==============================] - 3s 72ms/step - loss: 0.0317 - accuracy: 0.9894 - val_loss: 0.0756 - val_accuracy: 0.9628 - lr: 0.0010\n",
      "Epoch 31/100\n",
      "38/38 [==============================] - ETA: 0s - loss: 0.0264 - accuracy: 0.9920\n",
      "Epoch 31: val_accuracy did not improve from 0.99381\n",
      "\n",
      "Epoch 31: ReduceLROnPlateau reducing learning rate to 0.00010000000474974513.\n",
      "38/38 [==============================] - 3s 73ms/step - loss: 0.0264 - accuracy: 0.9920 - val_loss: 0.0708 - val_accuracy: 0.9690 - lr: 0.0010\n",
      "Epoch 32/100\n",
      "37/38 [============================>.] - ETA: 0s - loss: 0.0105 - accuracy: 0.9986\n",
      "Epoch 32: val_accuracy did not improve from 0.99381\n",
      "38/38 [==============================] - 3s 73ms/step - loss: 0.0107 - accuracy: 0.9987 - val_loss: 0.0394 - val_accuracy: 0.9845 - lr: 1.0000e-04\n",
      "Epoch 33/100\n",
      "38/38 [==============================] - ETA: 0s - loss: 0.0148 - accuracy: 0.9960\n",
      "Epoch 33: val_accuracy did not improve from 0.99381\n",
      "38/38 [==============================] - 3s 73ms/step - loss: 0.0148 - accuracy: 0.9960 - val_loss: 0.0454 - val_accuracy: 0.9814 - lr: 1.0000e-04\n",
      "Epoch 34/100\n",
      "38/38 [==============================] - ETA: 0s - loss: 0.0179 - accuracy: 0.9947\n",
      "Epoch 34: val_accuracy did not improve from 0.99381\n",
      "38/38 [==============================] - 3s 74ms/step - loss: 0.0179 - accuracy: 0.9947 - val_loss: 0.0511 - val_accuracy: 0.9814 - lr: 1.0000e-04\n",
      "Epoch 35/100\n",
      "38/38 [==============================] - ETA: 0s - loss: 0.0078 - accuracy: 1.0000\n",
      "Epoch 35: val_accuracy did not improve from 0.99381\n",
      "38/38 [==============================] - 3s 78ms/step - loss: 0.0078 - accuracy: 1.0000 - val_loss: 0.0466 - val_accuracy: 0.9814 - lr: 1.0000e-04\n",
      "Epoch 36/100\n",
      "38/38 [==============================] - ETA: 0s - loss: 0.0157 - accuracy: 0.9934\n",
      "Epoch 36: val_accuracy did not improve from 0.99381\n",
      "38/38 [==============================] - 3s 71ms/step - loss: 0.0157 - accuracy: 0.9934 - val_loss: 0.0483 - val_accuracy: 0.9814 - lr: 1.0000e-04\n",
      "Epoch 37/100\n",
      "38/38 [==============================] - ETA: 0s - loss: 0.0098 - accuracy: 1.0000\n",
      "Epoch 37: val_accuracy did not improve from 0.99381\n",
      "\n",
      "Epoch 37: ReduceLROnPlateau reducing learning rate to 1.0000000474974514e-05.\n",
      "38/38 [==============================] - 3s 74ms/step - loss: 0.0098 - accuracy: 1.0000 - val_loss: 0.0496 - val_accuracy: 0.9814 - lr: 1.0000e-04\n",
      "Epoch 38/100\n",
      "38/38 [==============================] - ETA: 0s - loss: 0.0130 - accuracy: 0.9960\n",
      "Epoch 38: val_accuracy did not improve from 0.99381\n",
      "38/38 [==============================] - 3s 75ms/step - loss: 0.0130 - accuracy: 0.9960 - val_loss: 0.0483 - val_accuracy: 0.9814 - lr: 1.0000e-05\n",
      "Epoch 39/100\n",
      "38/38 [==============================] - ETA: 0s - loss: 0.0110 - accuracy: 1.0000\n",
      "Epoch 39: val_accuracy did not improve from 0.99381\n",
      "38/38 [==============================] - 3s 88ms/step - loss: 0.0110 - accuracy: 1.0000 - val_loss: 0.0481 - val_accuracy: 0.9814 - lr: 1.0000e-05\n",
      "Epoch 40/100\n",
      "37/38 [============================>.] - ETA: 0s - loss: 0.0133 - accuracy: 0.9946\n",
      "Epoch 40: val_accuracy did not improve from 0.99381\n",
      "38/38 [==============================] - 3s 83ms/step - loss: 0.0144 - accuracy: 0.9934 - val_loss: 0.0472 - val_accuracy: 0.9814 - lr: 1.0000e-05\n",
      "Epoch 41/100\n",
      "38/38 [==============================] - ETA: 0s - loss: 0.0095 - accuracy: 1.0000\n",
      "Epoch 41: val_accuracy did not improve from 0.99381\n",
      "38/38 [==============================] - 3s 74ms/step - loss: 0.0095 - accuracy: 1.0000 - val_loss: 0.0470 - val_accuracy: 0.9814 - lr: 1.0000e-05\n",
      "Epoch 42/100\n",
      "37/38 [============================>.] - ETA: 0s - loss: 0.0118 - accuracy: 0.9973\n",
      "Epoch 42: val_accuracy did not improve from 0.99381\n",
      "\n",
      "Epoch 42: ReduceLROnPlateau reducing learning rate to 1.0000000656873453e-06.\n",
      "38/38 [==============================] - 3s 73ms/step - loss: 0.0136 - accuracy: 0.9960 - val_loss: 0.0469 - val_accuracy: 0.9814 - lr: 1.0000e-05\n",
      "Epoch 43/100\n",
      "38/38 [==============================] - ETA: 0s - loss: 0.0130 - accuracy: 0.9973\n",
      "Epoch 43: val_accuracy did not improve from 0.99381\n",
      "38/38 [==============================] - 3s 75ms/step - loss: 0.0130 - accuracy: 0.9973 - val_loss: 0.0469 - val_accuracy: 0.9814 - lr: 1.0000e-06\n",
      "Epoch 44/100\n",
      "37/38 [============================>.] - ETA: 0s - loss: 0.0113 - accuracy: 0.9986\n",
      "Epoch 44: val_accuracy did not improve from 0.99381\n",
      "38/38 [==============================] - 3s 71ms/step - loss: 0.0113 - accuracy: 0.9987 - val_loss: 0.0469 - val_accuracy: 0.9814 - lr: 1.0000e-06\n",
      "Epoch 45/100\n",
      "38/38 [==============================] - ETA: 0s - loss: 0.0118 - accuracy: 0.9973\n",
      "Epoch 45: val_accuracy did not improve from 0.99381\n",
      "Restoring model weights from the end of the best epoch: 25.\n",
      "38/38 [==============================] - 3s 75ms/step - loss: 0.0118 - accuracy: 0.9973 - val_loss: 0.0468 - val_accuracy: 0.9814 - lr: 1.0000e-06\n",
      "Epoch 45: early stopping\n"
     ]
    }
   ],
   "source": [
    "# Define the number of epochs\n",
    "num_epochs = 100\n",
    "\n",
    "# Train the model\n",
    "history_DenseNet121_model_2 = DenseNet121_model2.fit(train_generator, epochs=num_epochs, validation_data=validation_generator, callbacks=callbacks)"
   ]
  },
  {
   "cell_type": "code",
   "execution_count": 19,
   "metadata": {},
   "outputs": [
    {
     "data": {
      "text/plain": [
       "<matplotlib.legend.Legend at 0x19eed62ed10>"
      ]
     },
     "execution_count": 19,
     "metadata": {},
     "output_type": "execute_result"
    },
    {
     "data": {
      "image/png": "[encoded data removed]",
      "text/plain": [
       "<Figure size 640x480 with 1 Axes>"
      ]
     },
     "metadata": {},
     "output_type": "display_data"
    },
    {
     "data": {
      "image/png": "[encoded data removed]",
      "text/plain": [
       "<Figure size 640x480 with 1 Axes>"
      ]
     },
     "metadata": {},
     "output_type": "display_data"
    }
   ],
   "source": [
    "#-----------------------------------------------------------\n",
    "# Retrieve a list of list results on training and test data\n",
    "# sets for each training epoch\n",
    "#-----------------------------------------------------------\n",
    "acc      = history_DenseNet121_model_2.history['accuracy' ]\n",
    "val_acc  = history_DenseNet121_model_2.history['val_accuracy' ]\n",
    "loss     = history_DenseNet121_model_2.history['loss' ]\n",
    "val_loss = history_DenseNet121_model_2.history['val_loss' ]\n",
    "\n",
    "epochs   = range(len(acc)) # Get number of epochs\n",
    "\n",
    "#------------------------------------------------\n",
    "# Plot training and validation accuracy per epoch\n",
    "#------------------------------------------------\n",
    "plt.plot  (epochs, acc )\n",
    "plt.plot  (epochs, val_acc )\n",
    "plt.title ('Training and validation accuracy DenseNet Model 2')\n",
    "plt.legend(['train', 'val'], loc='upper left')\n",
    "plt.figure()\n",
    "\n",
    "#------------------------------------------------\n",
    "# Plot training and validation loss per epoch\n",
    "#------------------------------------------------\n",
    "plt.plot  (epochs, loss)\n",
    "plt.plot  (epochs, val_loss)\n",
    "plt.title ('Training and validation loss DenseNet Model 2')\n",
    "plt.legend(['train', 'val'], loc='upper left')"
   ]
  },
  {
   "attachments": {},
   "cell_type": "markdown",
   "metadata": {},
   "source": [
    "# MobileNet V2"
   ]
  },
  {
   "cell_type": "code",
   "execution_count": 8,
   "metadata": {},
   "outputs": [],
   "source": [
    "# Difine the callbacks\n",
    "# Save the best model\n",
    "checkpoint_callback = ModelCheckpoint(filepath=\"BellPaper_MobileNetV2_model\", save_best_only=True, monitor=\"val_accuracy\", mode=\"max\", verbose=1)\n",
    "\n",
    "# Early stopping\n",
    "early_stopping_callback = EarlyStopping(monitor=\"val_accuracy\", mode=\"max\", patience=20, verbose=1, restore_best_weights=True)\n",
    "\n",
    "# Reduce learning rate\n",
    "reduce_lr_callback = ReduceLROnPlateau(monitor=\"val_loss\", factor=0.1, patience=5, verbose=1, mode=\"min\", min_delta=0.0001, cooldown=0, min_lr=0)\n",
    "\n",
    "# Callbacks list\n",
    "callbacks=[checkpoint_callback, early_stopping_callback, reduce_lr_callback]"
   ]
  },
  {
   "cell_type": "code",
   "execution_count": 9,
   "metadata": {},
   "outputs": [
    {
     "name": "stdout",
     "output_type": "stream",
     "text": [
      "Model: \"sequential_1\"\n",
      "_________________________________________________________________\n",
      " Layer (type)                Output Shape              Param #   \n",
      "=================================================================\n",
      " mobilenetv2_1.00_224 (Funct  (None, 7, 7, 1280)       2257984   \n",
      " ional)                                                          \n",
      "                                                                 \n",
      " global_max_pooling2d_1 (Glo  (None, 1280)             0         \n",
      " balMaxPooling2D)                                                \n",
      "                                                                 \n",
      " dropout_1 (Dropout)         (None, 1280)              0         \n",
      "                                                                 \n",
      " dense_2 (Dense)             (None, 256)               327936    \n",
      "                                                                 \n",
      " dense_3 (Dense)             (None, 5)                 1285      \n",
      "                                                                 \n",
      "=================================================================\n",
      "Total params: 2,587,205\n",
      "Trainable params: 329,221\n",
      "Non-trainable params: 2,257,984\n",
      "_________________________________________________________________\n"
     ]
    }
   ],
   "source": [
    "# Define DIY Model\n",
    "MobileNetV2_model = tf.keras.models.Sequential([\n",
    "    # MobileNetV2 Layer\n",
    "    MobileNetV2(include_top=False,weights='imagenet',input_shape=(224, 224, 3)),\n",
    "    # Global Max Pooling Layer\n",
    "    tf.keras.layers.GlobalMaxPooling2D(),\n",
    "    # Drop Out Layer\n",
    "    tf.keras.layers.Dropout(0.2),\n",
    "    # 256 neuron hidden layer\n",
    "    tf.keras.layers.Dense(256, activation='relu'),\n",
    "    # Output\n",
    "    tf.keras.layers.Dense(5, activation='softmax') \n",
    "  ])\n",
    "MobileNetV2_model.layers[0].trainable = False\n",
    "\n",
    "# Compile Model\n",
    "MobileNetV2_model.compile(loss='categorical_crossentropy',optimizer=tf.keras.optimizers.Adam(), metrics=['accuracy']) \n",
    "\n",
    "# Model Summary\n",
    "MobileNetV2_model.summary()"
   ]
  },
  {
   "cell_type": "code",
   "execution_count": 10,
   "metadata": {},
   "outputs": [
    {
     "name": "stdout",
     "output_type": "stream",
     "text": [
      "Epoch 1/100\n",
      "38/38 [==============================] - ETA: 0s - loss: 2.0969 - accuracy: 0.7056\n",
      "Epoch 1: val_accuracy improved from -inf to 0.88854, saving model to BellPaper_MobileNetV2_model\n"
     ]
    },
    {
     "name": "stderr",
     "output_type": "stream",
     "text": [
      "WARNING:absl:Function `_wrapped_model` contains input name(s) mobilenetv2_1.00_224_input with unsupported characters which will be renamed to mobilenetv2_1_00_224_input in the SavedModel.\n",
      "WARNING:absl:Found untraced functions such as _jit_compiled_convolution_op, _jit_compiled_convolution_op, _jit_compiled_convolution_op, _jit_compiled_convolution_op, _jit_compiled_convolution_op while saving (showing 5 of 52). These functions will not be directly callable after loading.\n"
     ]
    },
    {
     "name": "stdout",
     "output_type": "stream",
     "text": [
      "INFO:tensorflow:Assets written to: BellPaper_MobileNetV2_model\\assets\n"
     ]
    },
    {
     "name": "stderr",
     "output_type": "stream",
     "text": [
      "INFO:tensorflow:Assets written to: BellPaper_MobileNetV2_model\\assets\n"
     ]
    },
    {
     "name": "stdout",
     "output_type": "stream",
     "text": [
      "38/38 [==============================] - 19s 459ms/step - loss: 2.0969 - accuracy: 0.7056 - val_loss: 0.3699 - val_accuracy: 0.8885 - lr: 0.0010\n",
      "Epoch 2/100\n",
      "37/38 [============================>.] - ETA: 0s - loss: 0.4472 - accuracy: 0.8747\n",
      "Epoch 2: val_accuracy improved from 0.88854 to 0.92879, saving model to BellPaper_MobileNetV2_model\n"
     ]
    },
    {
     "name": "stderr",
     "output_type": "stream",
     "text": [
      "WARNING:absl:Function `_wrapped_model` contains input name(s) mobilenetv2_1.00_224_input with unsupported characters which will be renamed to mobilenetv2_1_00_224_input in the SavedModel.\n",
      "WARNING:absl:Found untraced functions such as _jit_compiled_convolution_op, _jit_compiled_convolution_op, _jit_compiled_convolution_op, _jit_compiled_convolution_op, _jit_compiled_convolution_op while saving (showing 5 of 52). These functions will not be directly callable after loading.\n"
     ]
    },
    {
     "name": "stdout",
     "output_type": "stream",
     "text": [
      "INFO:tensorflow:Assets written to: BellPaper_MobileNetV2_model\\assets\n"
     ]
    },
    {
     "name": "stderr",
     "output_type": "stream",
     "text": [
      "INFO:tensorflow:Assets written to: BellPaper_MobileNetV2_model\\assets\n"
     ]
    },
    {
     "name": "stdout",
     "output_type": "stream",
     "text": [
      "38/38 [==============================] - 15s 407ms/step - loss: 0.4360 - accuracy: 0.8780 - val_loss: 0.2508 - val_accuracy: 0.9288 - lr: 0.0010\n",
      "Epoch 3/100\n",
      "37/38 [============================>.] - ETA: 0s - loss: 0.2554 - accuracy: 0.9305\n",
      "Epoch 3: val_accuracy improved from 0.92879 to 0.95046, saving model to BellPaper_MobileNetV2_model\n"
     ]
    },
    {
     "name": "stderr",
     "output_type": "stream",
     "text": [
      "WARNING:absl:Function `_wrapped_model` contains input name(s) mobilenetv2_1.00_224_input with unsupported characters which will be renamed to mobilenetv2_1_00_224_input in the SavedModel.\n",
      "WARNING:absl:Found untraced functions such as _jit_compiled_convolution_op, _jit_compiled_convolution_op, _jit_compiled_convolution_op, _jit_compiled_convolution_op, _jit_compiled_convolution_op while saving (showing 5 of 52). These functions will not be directly callable after loading.\n"
     ]
    },
    {
     "name": "stdout",
     "output_type": "stream",
     "text": [
      "INFO:tensorflow:Assets written to: BellPaper_MobileNetV2_model\\assets\n"
     ]
    },
    {
     "name": "stderr",
     "output_type": "stream",
     "text": [
      "INFO:tensorflow:Assets written to: BellPaper_MobileNetV2_model\\assets\n"
     ]
    },
    {
     "name": "stdout",
     "output_type": "stream",
     "text": [
      "38/38 [==============================] - 15s 408ms/step - loss: 0.2525 - accuracy: 0.9310 - val_loss: 0.1894 - val_accuracy: 0.9505 - lr: 0.0010\n",
      "Epoch 4/100\n",
      "38/38 [==============================] - ETA: 0s - loss: 0.1345 - accuracy: 0.9589\n",
      "Epoch 4: val_accuracy did not improve from 0.95046\n",
      "38/38 [==============================] - 2s 41ms/step - loss: 0.1345 - accuracy: 0.9589 - val_loss: 0.1692 - val_accuracy: 0.9443 - lr: 0.0010\n",
      "Epoch 5/100\n",
      "37/38 [============================>.] - ETA: 0s - loss: 0.0839 - accuracy: 0.9687\n",
      "Epoch 5: val_accuracy improved from 0.95046 to 0.95975, saving model to BellPaper_MobileNetV2_model\n"
     ]
    },
    {
     "name": "stderr",
     "output_type": "stream",
     "text": [
      "WARNING:absl:Function `_wrapped_model` contains input name(s) mobilenetv2_1.00_224_input with unsupported characters which will be renamed to mobilenetv2_1_00_224_input in the SavedModel.\n",
      "WARNING:absl:Found untraced functions such as _jit_compiled_convolution_op, _jit_compiled_convolution_op, _jit_compiled_convolution_op, _jit_compiled_convolution_op, _jit_compiled_convolution_op while saving (showing 5 of 52). These functions will not be directly callable after loading.\n"
     ]
    },
    {
     "name": "stdout",
     "output_type": "stream",
     "text": [
      "INFO:tensorflow:Assets written to: BellPaper_MobileNetV2_model\\assets\n"
     ]
    },
    {
     "name": "stderr",
     "output_type": "stream",
     "text": [
      "INFO:tensorflow:Assets written to: BellPaper_MobileNetV2_model\\assets\n"
     ]
    },
    {
     "name": "stdout",
     "output_type": "stream",
     "text": [
      "38/38 [==============================] - 15s 396ms/step - loss: 0.0836 - accuracy: 0.9682 - val_loss: 0.1367 - val_accuracy: 0.9598 - lr: 0.0010\n",
      "Epoch 6/100\n",
      "36/38 [===========================>..] - ETA: 0s - loss: 0.0950 - accuracy: 0.9580\n",
      "Epoch 6: val_accuracy did not improve from 0.95975\n",
      "38/38 [==============================] - 2s 40ms/step - loss: 0.0919 - accuracy: 0.9589 - val_loss: 0.2840 - val_accuracy: 0.9195 - lr: 0.0010\n",
      "Epoch 7/100\n",
      "38/38 [==============================] - ETA: 0s - loss: 0.1106 - accuracy: 0.9589\n",
      "Epoch 7: val_accuracy did not improve from 0.95975\n",
      "38/38 [==============================] - 2s 41ms/step - loss: 0.1106 - accuracy: 0.9589 - val_loss: 0.0981 - val_accuracy: 0.9474 - lr: 0.0010\n",
      "Epoch 8/100\n",
      "38/38 [==============================] - ETA: 0s - loss: 0.0756 - accuracy: 0.9708\n",
      "Epoch 8: val_accuracy did not improve from 0.95975\n",
      "38/38 [==============================] - 2s 39ms/step - loss: 0.0756 - accuracy: 0.9708 - val_loss: 0.1149 - val_accuracy: 0.9567 - lr: 0.0010\n",
      "Epoch 9/100\n",
      "37/38 [============================>.] - ETA: 0s - loss: 0.0663 - accuracy: 0.9741\n",
      "Epoch 9: val_accuracy improved from 0.95975 to 0.96285, saving model to BellPaper_MobileNetV2_model\n"
     ]
    },
    {
     "name": "stderr",
     "output_type": "stream",
     "text": [
      "WARNING:absl:Function `_wrapped_model` contains input name(s) mobilenetv2_1.00_224_input with unsupported characters which will be renamed to mobilenetv2_1_00_224_input in the SavedModel.\n",
      "WARNING:absl:Found untraced functions such as _jit_compiled_convolution_op, _jit_compiled_convolution_op, _jit_compiled_convolution_op, _jit_compiled_convolution_op, _jit_compiled_convolution_op while saving (showing 5 of 52). These functions will not be directly callable after loading.\n"
     ]
    },
    {
     "name": "stdout",
     "output_type": "stream",
     "text": [
      "INFO:tensorflow:Assets written to: BellPaper_MobileNetV2_model\\assets\n"
     ]
    },
    {
     "name": "stderr",
     "output_type": "stream",
     "text": [
      "INFO:tensorflow:Assets written to: BellPaper_MobileNetV2_model\\assets\n"
     ]
    },
    {
     "name": "stdout",
     "output_type": "stream",
     "text": [
      "38/38 [==============================] - 15s 403ms/step - loss: 0.0663 - accuracy: 0.9735 - val_loss: 0.0775 - val_accuracy: 0.9628 - lr: 0.0010\n",
      "Epoch 10/100\n",
      "38/38 [==============================] - ETA: 0s - loss: 0.0604 - accuracy: 0.9788\n",
      "Epoch 10: val_accuracy improved from 0.96285 to 0.96904, saving model to BellPaper_MobileNetV2_model\n"
     ]
    },
    {
     "name": "stderr",
     "output_type": "stream",
     "text": [
      "WARNING:absl:Function `_wrapped_model` contains input name(s) mobilenetv2_1.00_224_input with unsupported characters which will be renamed to mobilenetv2_1_00_224_input in the SavedModel.\n",
      "WARNING:absl:Found untraced functions such as _jit_compiled_convolution_op, _jit_compiled_convolution_op, _jit_compiled_convolution_op, _jit_compiled_convolution_op, _jit_compiled_convolution_op while saving (showing 5 of 52). These functions will not be directly callable after loading.\n"
     ]
    },
    {
     "name": "stdout",
     "output_type": "stream",
     "text": [
      "INFO:tensorflow:Assets written to: BellPaper_MobileNetV2_model\\assets\n"
     ]
    },
    {
     "name": "stderr",
     "output_type": "stream",
     "text": [
      "INFO:tensorflow:Assets written to: BellPaper_MobileNetV2_model\\assets\n"
     ]
    },
    {
     "name": "stdout",
     "output_type": "stream",
     "text": [
      "38/38 [==============================] - 15s 388ms/step - loss: 0.0604 - accuracy: 0.9788 - val_loss: 0.0718 - val_accuracy: 0.9690 - lr: 0.0010\n",
      "Epoch 11/100\n",
      "37/38 [============================>.] - ETA: 0s - loss: 0.0588 - accuracy: 0.9823\n",
      "Epoch 11: val_accuracy did not improve from 0.96904\n",
      "38/38 [==============================] - 2s 42ms/step - loss: 0.0574 - accuracy: 0.9828 - val_loss: 0.0983 - val_accuracy: 0.9598 - lr: 0.0010\n",
      "Epoch 12/100\n",
      "37/38 [============================>.] - ETA: 0s - loss: 0.0356 - accuracy: 0.9905\n",
      "Epoch 12: val_accuracy did not improve from 0.96904\n",
      "38/38 [==============================] - 2s 41ms/step - loss: 0.0352 - accuracy: 0.9907 - val_loss: 0.1068 - val_accuracy: 0.9628 - lr: 0.0010\n",
      "Epoch 13/100\n",
      "38/38 [==============================] - ETA: 0s - loss: 0.0238 - accuracy: 0.9920\n",
      "Epoch 13: val_accuracy improved from 0.96904 to 0.97214, saving model to BellPaper_MobileNetV2_model\n"
     ]
    },
    {
     "name": "stderr",
     "output_type": "stream",
     "text": [
      "WARNING:absl:Function `_wrapped_model` contains input name(s) mobilenetv2_1.00_224_input with unsupported characters which will be renamed to mobilenetv2_1_00_224_input in the SavedModel.\n",
      "WARNING:absl:Found untraced functions such as _jit_compiled_convolution_op, _jit_compiled_convolution_op, _jit_compiled_convolution_op, _jit_compiled_convolution_op, _jit_compiled_convolution_op while saving (showing 5 of 52). These functions will not be directly callable after loading.\n"
     ]
    },
    {
     "name": "stdout",
     "output_type": "stream",
     "text": [
      "INFO:tensorflow:Assets written to: BellPaper_MobileNetV2_model\\assets\n"
     ]
    },
    {
     "name": "stderr",
     "output_type": "stream",
     "text": [
      "INFO:tensorflow:Assets written to: BellPaper_MobileNetV2_model\\assets\n"
     ]
    },
    {
     "name": "stdout",
     "output_type": "stream",
     "text": [
      "38/38 [==============================] - 15s 400ms/step - loss: 0.0238 - accuracy: 0.9920 - val_loss: 0.0700 - val_accuracy: 0.9721 - lr: 0.0010\n",
      "Epoch 14/100\n",
      "37/38 [============================>.] - ETA: 0s - loss: 0.0338 - accuracy: 0.9891\n",
      "Epoch 14: val_accuracy did not improve from 0.97214\n",
      "38/38 [==============================] - 2s 40ms/step - loss: 0.0329 - accuracy: 0.9894 - val_loss: 0.0701 - val_accuracy: 0.9628 - lr: 0.0010\n",
      "Epoch 15/100\n",
      "37/38 [============================>.] - ETA: 0s - loss: 0.0233 - accuracy: 0.9905\n",
      "Epoch 15: val_accuracy did not improve from 0.97214\n",
      "38/38 [==============================] - 2s 43ms/step - loss: 0.0230 - accuracy: 0.9907 - val_loss: 0.1877 - val_accuracy: 0.9474 - lr: 0.0010\n",
      "Epoch 16/100\n",
      "37/38 [============================>.] - ETA: 0s - loss: 0.0979 - accuracy: 0.9659\n",
      "Epoch 16: val_accuracy did not improve from 0.97214\n",
      "38/38 [==============================] - 1s 39ms/step - loss: 0.0980 - accuracy: 0.9655 - val_loss: 0.2086 - val_accuracy: 0.9412 - lr: 0.0010\n",
      "Epoch 17/100\n",
      "37/38 [============================>.] - ETA: 0s - loss: 0.0193 - accuracy: 0.9918\n",
      "Epoch 17: val_accuracy improved from 0.97214 to 0.97833, saving model to BellPaper_MobileNetV2_model\n"
     ]
    },
    {
     "name": "stderr",
     "output_type": "stream",
     "text": [
      "WARNING:absl:Function `_wrapped_model` contains input name(s) mobilenetv2_1.00_224_input with unsupported characters which will be renamed to mobilenetv2_1_00_224_input in the SavedModel.\n",
      "WARNING:absl:Found untraced functions such as _jit_compiled_convolution_op, _jit_compiled_convolution_op, _jit_compiled_convolution_op, _jit_compiled_convolution_op, _jit_compiled_convolution_op while saving (showing 5 of 52). These functions will not be directly callable after loading.\n"
     ]
    },
    {
     "name": "stdout",
     "output_type": "stream",
     "text": [
      "INFO:tensorflow:Assets written to: BellPaper_MobileNetV2_model\\assets\n"
     ]
    },
    {
     "name": "stderr",
     "output_type": "stream",
     "text": [
      "INFO:tensorflow:Assets written to: BellPaper_MobileNetV2_model\\assets\n"
     ]
    },
    {
     "name": "stdout",
     "output_type": "stream",
     "text": [
      "38/38 [==============================] - 15s 404ms/step - loss: 0.0204 - accuracy: 0.9907 - val_loss: 0.0581 - val_accuracy: 0.9783 - lr: 0.0010\n",
      "Epoch 18/100\n",
      "37/38 [============================>.] - ETA: 0s - loss: 0.0279 - accuracy: 0.9864\n",
      "Epoch 18: val_accuracy did not improve from 0.97833\n",
      "38/38 [==============================] - 2s 38ms/step - loss: 0.0272 - accuracy: 0.9867 - val_loss: 0.0984 - val_accuracy: 0.9659 - lr: 0.0010\n",
      "Epoch 19/100\n",
      "38/38 [==============================] - ETA: 0s - loss: 0.0411 - accuracy: 0.9867\n",
      "Epoch 19: val_accuracy did not improve from 0.97833\n",
      "38/38 [==============================] - 2s 40ms/step - loss: 0.0411 - accuracy: 0.9867 - val_loss: 0.1324 - val_accuracy: 0.9598 - lr: 0.0010\n",
      "Epoch 20/100\n",
      "37/38 [============================>.] - ETA: 0s - loss: 0.0930 - accuracy: 0.9741\n",
      "Epoch 20: val_accuracy did not improve from 0.97833\n",
      "38/38 [==============================] - 1s 38ms/step - loss: 0.0907 - accuracy: 0.9748 - val_loss: 0.4815 - val_accuracy: 0.9164 - lr: 0.0010\n",
      "Epoch 21/100\n",
      "37/38 [============================>.] - ETA: 0s - loss: 0.1152 - accuracy: 0.9646\n",
      "Epoch 21: val_accuracy did not improve from 0.97833\n",
      "38/38 [==============================] - 2s 40ms/step - loss: 0.1183 - accuracy: 0.9642 - val_loss: 0.1311 - val_accuracy: 0.9659 - lr: 0.0010\n",
      "Epoch 22/100\n",
      "36/38 [===========================>..] - ETA: 0s - loss: 0.0540 - accuracy: 0.9818\n",
      "Epoch 22: val_accuracy did not improve from 0.97833\n",
      "\n",
      "Epoch 22: ReduceLROnPlateau reducing learning rate to 0.00010000000474974513.\n",
      "38/38 [==============================] - 1s 38ms/step - loss: 0.0527 - accuracy: 0.9828 - val_loss: 0.2342 - val_accuracy: 0.9350 - lr: 0.0010\n",
      "Epoch 23/100\n",
      "37/38 [============================>.] - ETA: 0s - loss: 0.0348 - accuracy: 0.9864\n",
      "Epoch 23: val_accuracy did not improve from 0.97833\n",
      "38/38 [==============================] - 2s 43ms/step - loss: 0.0340 - accuracy: 0.9867 - val_loss: 0.1332 - val_accuracy: 0.9567 - lr: 1.0000e-04\n",
      "Epoch 24/100\n",
      "38/38 [==============================] - ETA: 0s - loss: 0.0140 - accuracy: 0.9947\n",
      "Epoch 24: val_accuracy did not improve from 0.97833\n",
      "38/38 [==============================] - 2s 42ms/step - loss: 0.0140 - accuracy: 0.9947 - val_loss: 0.0960 - val_accuracy: 0.9628 - lr: 1.0000e-04\n",
      "Epoch 25/100\n",
      "37/38 [============================>.] - ETA: 0s - loss: 0.0140 - accuracy: 0.9946\n",
      "Epoch 25: val_accuracy did not improve from 0.97833\n",
      "38/38 [==============================] - 2s 44ms/step - loss: 0.0172 - accuracy: 0.9934 - val_loss: 0.0953 - val_accuracy: 0.9628 - lr: 1.0000e-04\n",
      "Epoch 26/100\n",
      "37/38 [============================>.] - ETA: 0s - loss: 0.0104 - accuracy: 0.9946\n",
      "Epoch 26: val_accuracy did not improve from 0.97833\n",
      "38/38 [==============================] - 2s 40ms/step - loss: 0.0103 - accuracy: 0.9947 - val_loss: 0.1030 - val_accuracy: 0.9567 - lr: 1.0000e-04\n",
      "Epoch 27/100\n",
      "38/38 [==============================] - ETA: 0s - loss: 0.0107 - accuracy: 0.9947\n",
      "Epoch 27: val_accuracy did not improve from 0.97833\n",
      "\n",
      "Epoch 27: ReduceLROnPlateau reducing learning rate to 1.0000000474974514e-05.\n",
      "38/38 [==============================] - 2s 40ms/step - loss: 0.0107 - accuracy: 0.9947 - val_loss: 0.0941 - val_accuracy: 0.9628 - lr: 1.0000e-04\n",
      "Epoch 28/100\n",
      "36/38 [===========================>..] - ETA: 0s - loss: 0.0083 - accuracy: 0.9972\n",
      "Epoch 28: val_accuracy did not improve from 0.97833\n",
      "38/38 [==============================] - 1s 39ms/step - loss: 0.0085 - accuracy: 0.9973 - val_loss: 0.0914 - val_accuracy: 0.9628 - lr: 1.0000e-05\n",
      "Epoch 29/100\n",
      "37/38 [============================>.] - ETA: 0s - loss: 0.0177 - accuracy: 0.9973\n",
      "Epoch 29: val_accuracy did not improve from 0.97833\n",
      "38/38 [==============================] - 2s 40ms/step - loss: 0.0182 - accuracy: 0.9960 - val_loss: 0.0978 - val_accuracy: 0.9567 - lr: 1.0000e-05\n",
      "Epoch 30/100\n",
      "37/38 [============================>.] - ETA: 0s - loss: 0.0173 - accuracy: 0.9946\n",
      "Epoch 30: val_accuracy did not improve from 0.97833\n",
      "38/38 [==============================] - 2s 41ms/step - loss: 0.0169 - accuracy: 0.9947 - val_loss: 0.0990 - val_accuracy: 0.9567 - lr: 1.0000e-05\n",
      "Epoch 31/100\n",
      "37/38 [============================>.] - ETA: 0s - loss: 0.0117 - accuracy: 0.9973\n",
      "Epoch 31: val_accuracy did not improve from 0.97833\n",
      "38/38 [==============================] - 2s 42ms/step - loss: 0.0115 - accuracy: 0.9973 - val_loss: 0.0941 - val_accuracy: 0.9628 - lr: 1.0000e-05\n",
      "Epoch 32/100\n",
      "37/38 [============================>.] - ETA: 0s - loss: 0.0136 - accuracy: 0.9932\n",
      "Epoch 32: val_accuracy did not improve from 0.97833\n",
      "\n",
      "Epoch 32: ReduceLROnPlateau reducing learning rate to 1.0000000656873453e-06.\n",
      "38/38 [==============================] - 2s 46ms/step - loss: 0.0133 - accuracy: 0.9934 - val_loss: 0.0923 - val_accuracy: 0.9628 - lr: 1.0000e-05\n",
      "Epoch 33/100\n",
      "37/38 [============================>.] - ETA: 0s - loss: 0.0082 - accuracy: 0.9986\n",
      "Epoch 33: val_accuracy did not improve from 0.97833\n",
      "38/38 [==============================] - 2s 42ms/step - loss: 0.0080 - accuracy: 0.9987 - val_loss: 0.0924 - val_accuracy: 0.9628 - lr: 1.0000e-06\n",
      "Epoch 34/100\n",
      "37/38 [============================>.] - ETA: 0s - loss: 0.0061 - accuracy: 1.0000\n",
      "Epoch 34: val_accuracy did not improve from 0.97833\n",
      "38/38 [==============================] - 2s 41ms/step - loss: 0.0060 - accuracy: 1.0000 - val_loss: 0.0926 - val_accuracy: 0.9628 - lr: 1.0000e-06\n",
      "Epoch 35/100\n",
      "38/38 [==============================] - ETA: 0s - loss: 0.0037 - accuracy: 1.0000\n",
      "Epoch 35: val_accuracy did not improve from 0.97833\n",
      "38/38 [==============================] - 2s 43ms/step - loss: 0.0037 - accuracy: 1.0000 - val_loss: 0.0925 - val_accuracy: 0.9628 - lr: 1.0000e-06\n",
      "Epoch 36/100\n",
      "37/38 [============================>.] - ETA: 0s - loss: 0.0140 - accuracy: 0.9932\n",
      "Epoch 36: val_accuracy did not improve from 0.97833\n",
      "38/38 [==============================] - 2s 42ms/step - loss: 0.0138 - accuracy: 0.9934 - val_loss: 0.0929 - val_accuracy: 0.9628 - lr: 1.0000e-06\n",
      "Epoch 37/100\n",
      "37/38 [============================>.] - ETA: 0s - loss: 0.0077 - accuracy: 0.9986\n",
      "Epoch 37: val_accuracy did not improve from 0.97833\n",
      "Restoring model weights from the end of the best epoch: 17.\n",
      "\n",
      "Epoch 37: ReduceLROnPlateau reducing learning rate to 1.0000001111620805e-07.\n",
      "38/38 [==============================] - 2s 43ms/step - loss: 0.0076 - accuracy: 0.9987 - val_loss: 0.0929 - val_accuracy: 0.9628 - lr: 1.0000e-06\n",
      "Epoch 37: early stopping\n"
     ]
    }
   ],
   "source": [
    "# Define the number of epochs\n",
    "num_epochs = 100\n",
    "\n",
    "# Train the model\n",
    "history_MobileNetV2_model_1 = MobileNetV2_model.fit(train_generator, epochs=num_epochs, validation_data=validation_generator, callbacks=callbacks)"
   ]
  },
  {
   "cell_type": "code",
   "execution_count": 11,
   "metadata": {},
   "outputs": [
    {
     "data": {
      "text/plain": [
       "<matplotlib.legend.Legend at 0x19eb2158580>"
      ]
     },
     "execution_count": 11,
     "metadata": {},
     "output_type": "execute_result"
    },
    {
     "data": {
      "image/png": "[encoded data removed]",
      "text/plain": [
       "<Figure size 640x480 with 1 Axes>"
      ]
     },
     "metadata": {},
     "output_type": "display_data"
    },
    {
     "data": {
      "image/png": "[encoded data removed]",
      "text/plain": [
       "<Figure size 640x480 with 1 Axes>"
      ]
     },
     "metadata": {},
     "output_type": "display_data"
    }
   ],
   "source": [
    "#-----------------------------------------------------------\n",
    "# Retrieve a list of list results on training and test data\n",
    "# sets for each training epoch\n",
    "#-----------------------------------------------------------\n",
    "acc      = history_MobileNetV2_model_1.history['accuracy' ]\n",
    "val_acc  = history_MobileNetV2_model_1.history['val_accuracy' ]\n",
    "loss     = history_MobileNetV2_model_1.history['loss' ]\n",
    "val_loss = history_MobileNetV2_model_1.history['val_loss' ]\n",
    "\n",
    "epochs   = range(len(acc)) # Get number of epochs\n",
    "\n",
    "#------------------------------------------------\n",
    "# Plot training and validation accuracy per epoch\n",
    "#------------------------------------------------\n",
    "plt.plot  (epochs, acc )\n",
    "plt.plot  (epochs, val_acc )\n",
    "plt.title ('Training and validation accuracy MobileNetV2 Model')\n",
    "plt.legend(['train', 'val'], loc='upper left')\n",
    "plt.figure()\n",
    "\n",
    "#------------------------------------------------\n",
    "# Plot training and validation loss per epoch\n",
    "#------------------------------------------------\n",
    "plt.plot  (epochs, loss)\n",
    "plt.plot  (epochs, val_loss)\n",
    "plt.title ('Training and validation loss MobileNetV2 Model')\n",
    "plt.legend(['train', 'val'], loc='upper left')"
   ]
  },
  {
   "attachments": {},
   "cell_type": "markdown",
   "metadata": {},
   "source": [
    "# MobileNetV2 2"
   ]
  },
  {
   "cell_type": "code",
   "execution_count": 20,
   "metadata": {},
   "outputs": [],
   "source": [
    "# Difine the callbacks\n",
    "# Save the best model\n",
    "checkpoint_callback = ModelCheckpoint(filepath=\"BellPaper_MobileNetV2_model2\", save_best_only=True, monitor=\"val_accuracy\", mode=\"max\", verbose=1)\n",
    "\n",
    "# Early stopping\n",
    "early_stopping_callback = EarlyStopping(monitor=\"val_accuracy\", mode=\"max\", patience=20, verbose=1, restore_best_weights=True)\n",
    "\n",
    "# Reduce learning rate\n",
    "reduce_lr_callback = ReduceLROnPlateau(monitor=\"val_loss\", factor=0.1, patience=5, verbose=1, mode=\"min\", min_delta=0.0001, cooldown=0, min_lr=0)\n",
    "\n",
    "# Callbacks list\n",
    "callbacks=[checkpoint_callback, early_stopping_callback, reduce_lr_callback]"
   ]
  },
  {
   "cell_type": "code",
   "execution_count": 21,
   "metadata": {},
   "outputs": [
    {
     "name": "stdout",
     "output_type": "stream",
     "text": [
      "Model: \"sequential_4\"\n",
      "_________________________________________________________________\n",
      " Layer (type)                Output Shape              Param #   \n",
      "=================================================================\n",
      " mobilenetv2_1.00_224 (Funct  (None, 7, 7, 1280)       2257984   \n",
      " ional)                                                          \n",
      "                                                                 \n",
      " global_average_pooling2d_1   (None, 1280)             0         \n",
      " (GlobalAveragePooling2D)                                        \n",
      "                                                                 \n",
      " dropout_4 (Dropout)         (None, 1280)              0         \n",
      "                                                                 \n",
      " dense_8 (Dense)             (None, 256)               327936    \n",
      "                                                                 \n",
      " dense_9 (Dense)             (None, 5)                 1285      \n",
      "                                                                 \n",
      "=================================================================\n",
      "Total params: 2,587,205\n",
      "Trainable params: 329,221\n",
      "Non-trainable params: 2,257,984\n",
      "_________________________________________________________________\n"
     ]
    }
   ],
   "source": [
    "# Define DIY Model\n",
    "MobileNetV2_model2 = tf.keras.models.Sequential([\n",
    "    # MobileNetV2 Layer\n",
    "    MobileNetV2(include_top=False,weights='imagenet',input_shape=(224, 224, 3)),\n",
    "    # Global Average Pooling Layer\n",
    "    tf.keras.layers.GlobalAveragePooling2D(),\n",
    "    # Drop Out Layer\n",
    "    tf.keras.layers.Dropout(0.2),\n",
    "    # 256 neuron hidden layer\n",
    "    tf.keras.layers.Dense(256, activation='relu'),\n",
    "    # Output\n",
    "    tf.keras.layers.Dense(5, activation='softmax') \n",
    "  ])\n",
    "MobileNetV2_model2.layers[0].trainable = False\n",
    "\n",
    "# Compile Model\n",
    "MobileNetV2_model2.compile(loss='categorical_crossentropy',optimizer=tf.keras.optimizers.Adam(), metrics=['accuracy']) \n",
    "\n",
    "# Model Summary\n",
    "MobileNetV2_model2.summary()"
   ]
  },
  {
   "cell_type": "code",
   "execution_count": 22,
   "metadata": {},
   "outputs": [
    {
     "name": "stdout",
     "output_type": "stream",
     "text": [
      "Epoch 1/100\n",
      "37/38 [============================>.] - ETA: 0s - loss: 0.4602 - accuracy: 0.8106\n",
      "Epoch 1: val_accuracy improved from -inf to 0.89164, saving model to BellPaper_MobileNetV2_model2\n"
     ]
    },
    {
     "name": "stderr",
     "output_type": "stream",
     "text": [
      "WARNING:absl:Function `_wrapped_model` contains input name(s) mobilenetv2_1.00_224_input with unsupported characters which will be renamed to mobilenetv2_1_00_224_input in the SavedModel.\n",
      "WARNING:absl:Found untraced functions such as _jit_compiled_convolution_op, _jit_compiled_convolution_op, _jit_compiled_convolution_op, _jit_compiled_convolution_op, _jit_compiled_convolution_op while saving (showing 5 of 52). These functions will not be directly callable after loading.\n"
     ]
    },
    {
     "name": "stdout",
     "output_type": "stream",
     "text": [
      "INFO:tensorflow:Assets written to: BellPaper_MobileNetV2_model2\\assets\n"
     ]
    },
    {
     "name": "stderr",
     "output_type": "stream",
     "text": [
      "INFO:tensorflow:Assets written to: BellPaper_MobileNetV2_model2\\assets\n"
     ]
    },
    {
     "name": "stdout",
     "output_type": "stream",
     "text": [
      "38/38 [==============================] - 19s 470ms/step - loss: 0.4622 - accuracy: 0.8090 - val_loss: 0.2160 - val_accuracy: 0.8916 - lr: 0.0010\n",
      "Epoch 2/100\n",
      "38/38 [==============================] - ETA: 0s - loss: 0.1976 - accuracy: 0.9310\n",
      "Epoch 2: val_accuracy improved from 0.89164 to 0.92570, saving model to BellPaper_MobileNetV2_model2\n"
     ]
    },
    {
     "name": "stderr",
     "output_type": "stream",
     "text": [
      "WARNING:absl:Function `_wrapped_model` contains input name(s) mobilenetv2_1.00_224_input with unsupported characters which will be renamed to mobilenetv2_1_00_224_input in the SavedModel.\n",
      "WARNING:absl:Found untraced functions such as _jit_compiled_convolution_op, _jit_compiled_convolution_op, _jit_compiled_convolution_op, _jit_compiled_convolution_op, _jit_compiled_convolution_op while saving (showing 5 of 52). These functions will not be directly callable after loading.\n"
     ]
    },
    {
     "name": "stdout",
     "output_type": "stream",
     "text": [
      "INFO:tensorflow:Assets written to: BellPaper_MobileNetV2_model2\\assets\n"
     ]
    },
    {
     "name": "stderr",
     "output_type": "stream",
     "text": [
      "INFO:tensorflow:Assets written to: BellPaper_MobileNetV2_model2\\assets\n"
     ]
    },
    {
     "name": "stdout",
     "output_type": "stream",
     "text": [
      "38/38 [==============================] - 17s 454ms/step - loss: 0.1976 - accuracy: 0.9310 - val_loss: 0.1829 - val_accuracy: 0.9257 - lr: 0.0010\n",
      "Epoch 3/100\n",
      "38/38 [==============================] - ETA: 0s - loss: 0.0968 - accuracy: 0.9642\n",
      "Epoch 3: val_accuracy improved from 0.92570 to 0.95356, saving model to BellPaper_MobileNetV2_model2\n"
     ]
    },
    {
     "name": "stderr",
     "output_type": "stream",
     "text": [
      "WARNING:absl:Function `_wrapped_model` contains input name(s) mobilenetv2_1.00_224_input with unsupported characters which will be renamed to mobilenetv2_1_00_224_input in the SavedModel.\n",
      "WARNING:absl:Found untraced functions such as _jit_compiled_convolution_op, _jit_compiled_convolution_op, _jit_compiled_convolution_op, _jit_compiled_convolution_op, _jit_compiled_convolution_op while saving (showing 5 of 52). These functions will not be directly callable after loading.\n"
     ]
    },
    {
     "name": "stdout",
     "output_type": "stream",
     "text": [
      "INFO:tensorflow:Assets written to: BellPaper_MobileNetV2_model2\\assets\n"
     ]
    },
    {
     "name": "stderr",
     "output_type": "stream",
     "text": [
      "INFO:tensorflow:Assets written to: BellPaper_MobileNetV2_model2\\assets\n"
     ]
    },
    {
     "name": "stdout",
     "output_type": "stream",
     "text": [
      "38/38 [==============================] - 16s 420ms/step - loss: 0.0968 - accuracy: 0.9642 - val_loss: 0.1137 - val_accuracy: 0.9536 - lr: 0.0010\n",
      "Epoch 4/100\n",
      "38/38 [==============================] - ETA: 0s - loss: 0.0709 - accuracy: 0.9775\n",
      "Epoch 4: val_accuracy improved from 0.95356 to 0.95975, saving model to BellPaper_MobileNetV2_model2\n"
     ]
    },
    {
     "name": "stderr",
     "output_type": "stream",
     "text": [
      "WARNING:absl:Function `_wrapped_model` contains input name(s) mobilenetv2_1.00_224_input with unsupported characters which will be renamed to mobilenetv2_1_00_224_input in the SavedModel.\n",
      "WARNING:absl:Found untraced functions such as _jit_compiled_convolution_op, _jit_compiled_convolution_op, _jit_compiled_convolution_op, _jit_compiled_convolution_op, _jit_compiled_convolution_op while saving (showing 5 of 52). These functions will not be directly callable after loading.\n"
     ]
    },
    {
     "name": "stdout",
     "output_type": "stream",
     "text": [
      "INFO:tensorflow:Assets written to: BellPaper_MobileNetV2_model2\\assets\n"
     ]
    },
    {
     "name": "stderr",
     "output_type": "stream",
     "text": [
      "INFO:tensorflow:Assets written to: BellPaper_MobileNetV2_model2\\assets\n"
     ]
    },
    {
     "name": "stdout",
     "output_type": "stream",
     "text": [
      "38/38 [==============================] - 16s 426ms/step - loss: 0.0709 - accuracy: 0.9775 - val_loss: 0.1045 - val_accuracy: 0.9598 - lr: 0.0010\n",
      "Epoch 5/100\n",
      "37/38 [============================>.] - ETA: 0s - loss: 0.0660 - accuracy: 0.9673\n",
      "Epoch 5: val_accuracy did not improve from 0.95975\n",
      "38/38 [==============================] - 3s 59ms/step - loss: 0.0649 - accuracy: 0.9682 - val_loss: 0.0991 - val_accuracy: 0.9567 - lr: 0.0010\n",
      "Epoch 6/100\n",
      "37/38 [============================>.] - ETA: 0s - loss: 0.0556 - accuracy: 0.9796\n",
      "Epoch 6: val_accuracy did not improve from 0.95975\n",
      "38/38 [==============================] - 2s 62ms/step - loss: 0.0560 - accuracy: 0.9788 - val_loss: 0.1008 - val_accuracy: 0.9536 - lr: 0.0010\n",
      "Epoch 7/100\n",
      "38/38 [==============================] - ETA: 0s - loss: 0.0429 - accuracy: 0.9881\n",
      "Epoch 7: val_accuracy improved from 0.95975 to 0.96904, saving model to BellPaper_MobileNetV2_model2\n"
     ]
    },
    {
     "name": "stderr",
     "output_type": "stream",
     "text": [
      "WARNING:absl:Function `_wrapped_model` contains input name(s) mobilenetv2_1.00_224_input with unsupported characters which will be renamed to mobilenetv2_1_00_224_input in the SavedModel.\n",
      "WARNING:absl:Found untraced functions such as _jit_compiled_convolution_op, _jit_compiled_convolution_op, _jit_compiled_convolution_op, _jit_compiled_convolution_op, _jit_compiled_convolution_op while saving (showing 5 of 52). These functions will not be directly callable after loading.\n"
     ]
    },
    {
     "name": "stdout",
     "output_type": "stream",
     "text": [
      "INFO:tensorflow:Assets written to: BellPaper_MobileNetV2_model2\\assets\n"
     ]
    },
    {
     "name": "stderr",
     "output_type": "stream",
     "text": [
      "INFO:tensorflow:Assets written to: BellPaper_MobileNetV2_model2\\assets\n"
     ]
    },
    {
     "name": "stdout",
     "output_type": "stream",
     "text": [
      "38/38 [==============================] - 16s 431ms/step - loss: 0.0429 - accuracy: 0.9881 - val_loss: 0.0788 - val_accuracy: 0.9690 - lr: 0.0010\n",
      "Epoch 8/100\n",
      "38/38 [==============================] - ETA: 0s - loss: 0.0336 - accuracy: 0.9881\n",
      "Epoch 8: val_accuracy did not improve from 0.96904\n",
      "38/38 [==============================] - 3s 64ms/step - loss: 0.0336 - accuracy: 0.9881 - val_loss: 0.0945 - val_accuracy: 0.9659 - lr: 0.0010\n",
      "Epoch 9/100\n",
      "38/38 [==============================] - ETA: 0s - loss: 0.0468 - accuracy: 0.9841\n",
      "Epoch 9: val_accuracy did not improve from 0.96904\n",
      "38/38 [==============================] - 2s 62ms/step - loss: 0.0468 - accuracy: 0.9841 - val_loss: 0.1232 - val_accuracy: 0.9536 - lr: 0.0010\n",
      "Epoch 10/100\n",
      "38/38 [==============================] - ETA: 0s - loss: 0.0307 - accuracy: 0.9881\n",
      "Epoch 10: val_accuracy did not improve from 0.96904\n",
      "38/38 [==============================] - 3s 66ms/step - loss: 0.0307 - accuracy: 0.9881 - val_loss: 0.0856 - val_accuracy: 0.9598 - lr: 0.0010\n",
      "Epoch 11/100\n",
      "37/38 [============================>.] - ETA: 0s - loss: 0.0242 - accuracy: 0.9918\n",
      "Epoch 11: val_accuracy did not improve from 0.96904\n",
      "38/38 [==============================] - 2s 64ms/step - loss: 0.0258 - accuracy: 0.9907 - val_loss: 0.0879 - val_accuracy: 0.9690 - lr: 0.0010\n",
      "Epoch 12/100\n",
      "38/38 [==============================] - ETA: 0s - loss: 0.0428 - accuracy: 0.9841\n",
      "Epoch 12: val_accuracy did not improve from 0.96904\n",
      "\n",
      "Epoch 12: ReduceLROnPlateau reducing learning rate to 0.00010000000474974513.\n",
      "38/38 [==============================] - 2s 61ms/step - loss: 0.0428 - accuracy: 0.9841 - val_loss: 0.1143 - val_accuracy: 0.9536 - lr: 0.0010\n",
      "Epoch 13/100\n",
      "38/38 [==============================] - ETA: 0s - loss: 0.0201 - accuracy: 0.9960\n",
      "Epoch 13: val_accuracy did not improve from 0.96904\n",
      "38/38 [==============================] - 2s 63ms/step - loss: 0.0201 - accuracy: 0.9960 - val_loss: 0.0885 - val_accuracy: 0.9628 - lr: 1.0000e-04\n",
      "Epoch 14/100\n",
      "37/38 [============================>.] - ETA: 0s - loss: 0.0115 - accuracy: 1.0000\n",
      "Epoch 14: val_accuracy did not improve from 0.96904\n",
      "38/38 [==============================] - 2s 64ms/step - loss: 0.0141 - accuracy: 0.9987 - val_loss: 0.0879 - val_accuracy: 0.9628 - lr: 1.0000e-04\n",
      "Epoch 15/100\n",
      "38/38 [==============================] - ETA: 0s - loss: 0.0081 - accuracy: 1.0000\n",
      "Epoch 15: val_accuracy did not improve from 0.96904\n",
      "38/38 [==============================] - 3s 66ms/step - loss: 0.0081 - accuracy: 1.0000 - val_loss: 0.0762 - val_accuracy: 0.9659 - lr: 1.0000e-04\n",
      "Epoch 16/100\n",
      "38/38 [==============================] - ETA: 0s - loss: 0.0070 - accuracy: 1.0000\n",
      "Epoch 16: val_accuracy did not improve from 0.96904\n",
      "38/38 [==============================] - 2s 61ms/step - loss: 0.0070 - accuracy: 1.0000 - val_loss: 0.0764 - val_accuracy: 0.9659 - lr: 1.0000e-04\n",
      "Epoch 17/100\n",
      "38/38 [==============================] - ETA: 0s - loss: 0.0114 - accuracy: 1.0000\n",
      "Epoch 17: val_accuracy did not improve from 0.96904\n",
      "38/38 [==============================] - 2s 61ms/step - loss: 0.0114 - accuracy: 1.0000 - val_loss: 0.0746 - val_accuracy: 0.9659 - lr: 1.0000e-04\n",
      "Epoch 18/100\n",
      "38/38 [==============================] - ETA: 0s - loss: 0.0107 - accuracy: 0.9973\n",
      "Epoch 18: val_accuracy did not improve from 0.96904\n",
      "38/38 [==============================] - 2s 60ms/step - loss: 0.0107 - accuracy: 0.9973 - val_loss: 0.0735 - val_accuracy: 0.9659 - lr: 1.0000e-04\n",
      "Epoch 19/100\n",
      "38/38 [==============================] - ETA: 0s - loss: 0.0103 - accuracy: 0.9973\n",
      "Epoch 19: val_accuracy did not improve from 0.96904\n",
      "38/38 [==============================] - 2s 65ms/step - loss: 0.0103 - accuracy: 0.9973 - val_loss: 0.0769 - val_accuracy: 0.9659 - lr: 1.0000e-04\n",
      "Epoch 20/100\n",
      "38/38 [==============================] - ETA: 0s - loss: 0.0087 - accuracy: 0.9987\n",
      "Epoch 20: val_accuracy did not improve from 0.96904\n",
      "38/38 [==============================] - 3s 67ms/step - loss: 0.0087 - accuracy: 0.9987 - val_loss: 0.0745 - val_accuracy: 0.9628 - lr: 1.0000e-04\n",
      "Epoch 21/100\n",
      "37/38 [============================>.] - ETA: 0s - loss: 0.0111 - accuracy: 0.9986\n",
      "Epoch 21: val_accuracy did not improve from 0.96904\n",
      "38/38 [==============================] - 2s 61ms/step - loss: 0.0109 - accuracy: 0.9987 - val_loss: 0.0783 - val_accuracy: 0.9659 - lr: 1.0000e-04\n",
      "Epoch 22/100\n",
      "38/38 [==============================] - ETA: 0s - loss: 0.0082 - accuracy: 1.0000\n",
      "Epoch 22: val_accuracy did not improve from 0.96904\n",
      "38/38 [==============================] - 2s 63ms/step - loss: 0.0082 - accuracy: 1.0000 - val_loss: 0.0779 - val_accuracy: 0.9690 - lr: 1.0000e-04\n",
      "Epoch 23/100\n",
      "38/38 [==============================] - ETA: 0s - loss: 0.0084 - accuracy: 1.0000\n",
      "Epoch 23: val_accuracy improved from 0.96904 to 0.97214, saving model to BellPaper_MobileNetV2_model2\n"
     ]
    },
    {
     "name": "stderr",
     "output_type": "stream",
     "text": [
      "WARNING:absl:Function `_wrapped_model` contains input name(s) mobilenetv2_1.00_224_input with unsupported characters which will be renamed to mobilenetv2_1_00_224_input in the SavedModel.\n",
      "WARNING:absl:Found untraced functions such as _jit_compiled_convolution_op, _jit_compiled_convolution_op, _jit_compiled_convolution_op, _jit_compiled_convolution_op, _jit_compiled_convolution_op while saving (showing 5 of 52). These functions will not be directly callable after loading.\n"
     ]
    },
    {
     "name": "stdout",
     "output_type": "stream",
     "text": [
      "INFO:tensorflow:Assets written to: BellPaper_MobileNetV2_model2\\assets\n"
     ]
    },
    {
     "name": "stderr",
     "output_type": "stream",
     "text": [
      "INFO:tensorflow:Assets written to: BellPaper_MobileNetV2_model2\\assets\n"
     ]
    },
    {
     "name": "stdout",
     "output_type": "stream",
     "text": [
      "38/38 [==============================] - 16s 428ms/step - loss: 0.0084 - accuracy: 1.0000 - val_loss: 0.0726 - val_accuracy: 0.9721 - lr: 1.0000e-04\n",
      "Epoch 24/100\n",
      "38/38 [==============================] - ETA: 0s - loss: 0.0074 - accuracy: 0.9987\n",
      "Epoch 24: val_accuracy did not improve from 0.97214\n",
      "38/38 [==============================] - 3s 63ms/step - loss: 0.0074 - accuracy: 0.9987 - val_loss: 0.0738 - val_accuracy: 0.9721 - lr: 1.0000e-04\n",
      "Epoch 25/100\n",
      "38/38 [==============================] - ETA: 0s - loss: 0.0096 - accuracy: 0.9987\n",
      "Epoch 25: val_accuracy did not improve from 0.97214\n",
      "38/38 [==============================] - 2s 63ms/step - loss: 0.0096 - accuracy: 0.9987 - val_loss: 0.0754 - val_accuracy: 0.9690 - lr: 1.0000e-04\n",
      "Epoch 26/100\n",
      "37/38 [============================>.] - ETA: 0s - loss: 0.0089 - accuracy: 0.9986\n",
      "Epoch 26: val_accuracy did not improve from 0.97214\n",
      "38/38 [==============================] - 2s 62ms/step - loss: 0.0089 - accuracy: 0.9987 - val_loss: 0.0748 - val_accuracy: 0.9721 - lr: 1.0000e-04\n",
      "Epoch 27/100\n",
      "37/38 [============================>.] - ETA: 0s - loss: 0.0100 - accuracy: 0.9986\n",
      "Epoch 27: val_accuracy did not improve from 0.97214\n",
      "38/38 [==============================] - 2s 65ms/step - loss: 0.0099 - accuracy: 0.9987 - val_loss: 0.0742 - val_accuracy: 0.9690 - lr: 1.0000e-04\n",
      "Epoch 28/100\n",
      "38/38 [==============================] - ETA: 0s - loss: 0.0073 - accuracy: 1.0000\n",
      "Epoch 28: val_accuracy did not improve from 0.97214\n",
      "\n",
      "Epoch 28: ReduceLROnPlateau reducing learning rate to 1.0000000474974514e-05.\n",
      "38/38 [==============================] - 2s 61ms/step - loss: 0.0073 - accuracy: 1.0000 - val_loss: 0.0787 - val_accuracy: 0.9721 - lr: 1.0000e-04\n",
      "Epoch 29/100\n",
      "38/38 [==============================] - ETA: 0s - loss: 0.0068 - accuracy: 1.0000\n",
      "Epoch 29: val_accuracy did not improve from 0.97214\n",
      "38/38 [==============================] - 3s 66ms/step - loss: 0.0068 - accuracy: 1.0000 - val_loss: 0.0781 - val_accuracy: 0.9721 - lr: 1.0000e-05\n",
      "Epoch 30/100\n",
      "37/38 [============================>.] - ETA: 0s - loss: 0.0095 - accuracy: 0.9973\n",
      "Epoch 30: val_accuracy did not improve from 0.97214\n",
      "38/38 [==============================] - 2s 64ms/step - loss: 0.0092 - accuracy: 0.9973 - val_loss: 0.0797 - val_accuracy: 0.9721 - lr: 1.0000e-05\n",
      "Epoch 31/100\n",
      "38/38 [==============================] - ETA: 0s - loss: 0.0102 - accuracy: 0.9987\n",
      "Epoch 31: val_accuracy did not improve from 0.97214\n",
      "38/38 [==============================] - 2s 60ms/step - loss: 0.0102 - accuracy: 0.9987 - val_loss: 0.0804 - val_accuracy: 0.9721 - lr: 1.0000e-05\n",
      "Epoch 32/100\n",
      "38/38 [==============================] - ETA: 0s - loss: 0.0073 - accuracy: 1.0000\n",
      "Epoch 32: val_accuracy did not improve from 0.97214\n",
      "38/38 [==============================] - 2s 60ms/step - loss: 0.0073 - accuracy: 1.0000 - val_loss: 0.0795 - val_accuracy: 0.9721 - lr: 1.0000e-05\n",
      "Epoch 33/100\n",
      "37/38 [============================>.] - ETA: 0s - loss: 0.0067 - accuracy: 1.0000\n",
      "Epoch 33: val_accuracy did not improve from 0.97214\n",
      "\n",
      "Epoch 33: ReduceLROnPlateau reducing learning rate to 1.0000000656873453e-06.\n",
      "38/38 [==============================] - 2s 59ms/step - loss: 0.0067 - accuracy: 1.0000 - val_loss: 0.0783 - val_accuracy: 0.9721 - lr: 1.0000e-05\n",
      "Epoch 34/100\n",
      "37/38 [============================>.] - ETA: 0s - loss: 0.0074 - accuracy: 1.0000\n",
      "Epoch 34: val_accuracy did not improve from 0.97214\n",
      "38/38 [==============================] - 2s 61ms/step - loss: 0.0081 - accuracy: 1.0000 - val_loss: 0.0783 - val_accuracy: 0.9721 - lr: 1.0000e-06\n",
      "Epoch 35/100\n",
      "37/38 [============================>.] - ETA: 0s - loss: 0.0087 - accuracy: 0.9986\n",
      "Epoch 35: val_accuracy did not improve from 0.97214\n",
      "38/38 [==============================] - 2s 60ms/step - loss: 0.0085 - accuracy: 0.9987 - val_loss: 0.0783 - val_accuracy: 0.9721 - lr: 1.0000e-06\n",
      "Epoch 36/100\n",
      "37/38 [============================>.] - ETA: 0s - loss: 0.0087 - accuracy: 0.9986\n",
      "Epoch 36: val_accuracy did not improve from 0.97214\n",
      "38/38 [==============================] - 2s 61ms/step - loss: 0.0090 - accuracy: 0.9987 - val_loss: 0.0782 - val_accuracy: 0.9721 - lr: 1.0000e-06\n",
      "Epoch 37/100\n",
      "38/38 [==============================] - ETA: 0s - loss: 0.0077 - accuracy: 0.9987\n",
      "Epoch 37: val_accuracy did not improve from 0.97214\n",
      "38/38 [==============================] - 2s 61ms/step - loss: 0.0077 - accuracy: 0.9987 - val_loss: 0.0781 - val_accuracy: 0.9721 - lr: 1.0000e-06\n",
      "Epoch 38/100\n",
      "38/38 [==============================] - ETA: 0s - loss: 0.0083 - accuracy: 0.9987\n",
      "Epoch 38: val_accuracy did not improve from 0.97214\n",
      "\n",
      "Epoch 38: ReduceLROnPlateau reducing learning rate to 1.0000001111620805e-07.\n",
      "38/38 [==============================] - 2s 61ms/step - loss: 0.0083 - accuracy: 0.9987 - val_loss: 0.0779 - val_accuracy: 0.9721 - lr: 1.0000e-06\n",
      "Epoch 39/100\n",
      "37/38 [============================>.] - ETA: 0s - loss: 0.0061 - accuracy: 1.0000\n",
      "Epoch 39: val_accuracy did not improve from 0.97214\n",
      "38/38 [==============================] - 2s 59ms/step - loss: 0.0067 - accuracy: 1.0000 - val_loss: 0.0779 - val_accuracy: 0.9721 - lr: 1.0000e-07\n",
      "Epoch 40/100\n",
      "37/38 [============================>.] - ETA: 0s - loss: 0.0090 - accuracy: 0.9986\n",
      "Epoch 40: val_accuracy did not improve from 0.97214\n",
      "38/38 [==============================] - 2s 62ms/step - loss: 0.0088 - accuracy: 0.9987 - val_loss: 0.0779 - val_accuracy: 0.9721 - lr: 1.0000e-07\n",
      "Epoch 41/100\n",
      "38/38 [==============================] - ETA: 0s - loss: 0.0068 - accuracy: 0.9987\n",
      "Epoch 41: val_accuracy did not improve from 0.97214\n",
      "38/38 [==============================] - 2s 62ms/step - loss: 0.0068 - accuracy: 0.9987 - val_loss: 0.0779 - val_accuracy: 0.9721 - lr: 1.0000e-07\n",
      "Epoch 42/100\n",
      "38/38 [==============================] - ETA: 0s - loss: 0.0073 - accuracy: 1.0000\n",
      "Epoch 42: val_accuracy did not improve from 0.97214\n",
      "38/38 [==============================] - 2s 63ms/step - loss: 0.0073 - accuracy: 1.0000 - val_loss: 0.0779 - val_accuracy: 0.9721 - lr: 1.0000e-07\n",
      "Epoch 43/100\n",
      "38/38 [==============================] - ETA: 0s - loss: 0.0072 - accuracy: 1.0000\n",
      "Epoch 43: val_accuracy did not improve from 0.97214\n",
      "Restoring model weights from the end of the best epoch: 23.\n",
      "\n",
      "Epoch 43: ReduceLROnPlateau reducing learning rate to 1.000000082740371e-08.\n",
      "38/38 [==============================] - 2s 63ms/step - loss: 0.0072 - accuracy: 1.0000 - val_loss: 0.0779 - val_accuracy: 0.9721 - lr: 1.0000e-07\n",
      "Epoch 43: early stopping\n"
     ]
    }
   ],
   "source": [
    "# Define the number of epochs\n",
    "num_epochs = 100\n",
    "\n",
    "# Train the model\n",
    "history_MobileNetV2_model_2 = MobileNetV2_model2.fit(train_generator, epochs=num_epochs, validation_data=validation_generator, callbacks=callbacks)"
   ]
  },
  {
   "cell_type": "code",
   "execution_count": 23,
   "metadata": {},
   "outputs": [
    {
     "data": {
      "text/plain": [
       "<matplotlib.legend.Legend at 0x19e82fad930>"
      ]
     },
     "execution_count": 23,
     "metadata": {},
     "output_type": "execute_result"
    },
    {
     "data": {
      "image/png": "[encoded data removed]",
      "text/plain": [
       "<Figure size 640x480 with 1 Axes>"
      ]
     },
     "metadata": {},
     "output_type": "display_data"
    },
    {
     "data": {
      "image/png": "[encoded data removed]",
      "text/plain": [
       "<Figure size 640x480 with 1 Axes>"
      ]
     },
     "metadata": {},
     "output_type": "display_data"
    }
   ],
   "source": [
    "#-----------------------------------------------------------\n",
    "# Retrieve a list of list results on training and test data\n",
    "# sets for each training epoch\n",
    "#-----------------------------------------------------------\n",
    "acc      = history_MobileNetV2_model_2.history['accuracy' ]\n",
    "val_acc  = history_MobileNetV2_model_2.history['val_accuracy' ]\n",
    "loss     = history_MobileNetV2_model_2.history['loss' ]\n",
    "val_loss = history_MobileNetV2_model_2.history['val_loss' ]\n",
    "\n",
    "epochs   = range(len(acc)) # Get number of epochs\n",
    "\n",
    "#------------------------------------------------\n",
    "# Plot training and validation accuracy per epoch\n",
    "#------------------------------------------------\n",
    "plt.plot  (epochs, acc )\n",
    "plt.plot  (epochs, val_acc )\n",
    "plt.title ('Training and validation accuracy MobileNetV2 Model 2')\n",
    "plt.legend(['train', 'val'], loc='upper left')\n",
    "plt.figure()\n",
    "\n",
    "#------------------------------------------------\n",
    "# Plot training and validation loss per epoch\n",
    "#------------------------------------------------\n",
    "plt.plot  (epochs, loss)\n",
    "plt.plot  (epochs, val_loss)\n",
    "plt.title ('Training and validation loss MobileNetV2 Model 2')\n",
    "plt.legend(['train', 'val'], loc='upper left')"
   ]
  },
  {
   "attachments": {},
   "cell_type": "markdown",
   "metadata": {},
   "source": [
    "# Xception"
   ]
  },
  {
   "cell_type": "code",
   "execution_count": 12,
   "metadata": {},
   "outputs": [],
   "source": [
    "# Difine the callbacks\n",
    "# Save the best model\n",
    "checkpoint_callback = ModelCheckpoint(filepath=\"BellPaper_Xception_model\", save_best_only=True, monitor=\"val_accuracy\", mode=\"max\", verbose=1)\n",
    "\n",
    "# Early stopping\n",
    "early_stopping_callback = EarlyStopping(monitor=\"val_accuracy\", mode=\"max\", patience=20, verbose=1, restore_best_weights=True)\n",
    "\n",
    "# Reduce learning rate\n",
    "reduce_lr_callback = ReduceLROnPlateau(monitor=\"val_loss\", factor=0.1, patience=5, verbose=1, mode=\"min\", min_delta=0.0001, cooldown=0, min_lr=0)\n",
    "\n",
    "# Callbacks list\n",
    "callbacks=[checkpoint_callback, early_stopping_callback, reduce_lr_callback]"
   ]
  },
  {
   "cell_type": "code",
   "execution_count": 13,
   "metadata": {},
   "outputs": [
    {
     "name": "stdout",
     "output_type": "stream",
     "text": [
      "Model: \"sequential_2\"\n",
      "_________________________________________________________________\n",
      " Layer (type)                Output Shape              Param #   \n",
      "=================================================================\n",
      " xception (Functional)       (None, 7, 7, 2048)        20861480  \n",
      "                                                                 \n",
      " global_max_pooling2d_2 (Glo  (None, 2048)             0         \n",
      " balMaxPooling2D)                                                \n",
      "                                                                 \n",
      " dropout_2 (Dropout)         (None, 2048)              0         \n",
      "                                                                 \n",
      " dense_4 (Dense)             (None, 256)               524544    \n",
      "                                                                 \n",
      " dense_5 (Dense)             (None, 5)                 1285      \n",
      "                                                                 \n",
      "=================================================================\n",
      "Total params: 21,387,309\n",
      "Trainable params: 525,829\n",
      "Non-trainable params: 20,861,480\n",
      "_________________________________________________________________\n"
     ]
    }
   ],
   "source": [
    "# Define Model\n",
    "Xception_model = tf.keras.models.Sequential([\n",
    "    # Xception Layer\n",
    "    Xception(include_top=False,weights='imagenet',input_shape=(224, 224, 3)),\n",
    "    # Global Max Pooling Layer\n",
    "    tf.keras.layers.GlobalMaxPooling2D(),\n",
    "    # Drop Out Layer\n",
    "    tf.keras.layers.Dropout(0.2),\n",
    "    # 256 neuron hidden layer\n",
    "    tf.keras.layers.Dense(256, activation='relu'),\n",
    "    # Output\n",
    "    tf.keras.layers.Dense(5, activation='softmax') \n",
    "  ])\n",
    "Xception_model.layers[0].trainable = False\n",
    "\n",
    "# Compile Model\n",
    "Xception_model.compile(loss='categorical_crossentropy',optimizer=tf.keras.optimizers.Adam(), metrics=['accuracy']) \n",
    "\n",
    "# Model Summary\n",
    "Xception_model.summary()"
   ]
  },
  {
   "cell_type": "code",
   "execution_count": 14,
   "metadata": {},
   "outputs": [
    {
     "name": "stdout",
     "output_type": "stream",
     "text": [
      "Epoch 1/100\n",
      "38/38 [==============================] - ETA: 0s - loss: 1.2460 - accuracy: 0.7493\n",
      "Epoch 1: val_accuracy improved from -inf to 0.82043, saving model to BellPaper_Xception_model\n"
     ]
    },
    {
     "name": "stderr",
     "output_type": "stream",
     "text": [
      "WARNING:absl:Found untraced functions such as _jit_compiled_convolution_op, _jit_compiled_convolution_op, _jit_compiled_convolution_op, _jit_compiled_convolution_op, _jit_compiled_convolution_op while saving (showing 5 of 40). These functions will not be directly callable after loading.\n"
     ]
    },
    {
     "name": "stdout",
     "output_type": "stream",
     "text": [
      "INFO:tensorflow:Assets written to: BellPaper_Xception_model\\assets\n"
     ]
    },
    {
     "name": "stderr",
     "output_type": "stream",
     "text": [
      "INFO:tensorflow:Assets written to: BellPaper_Xception_model\\assets\n"
     ]
    },
    {
     "name": "stdout",
     "output_type": "stream",
     "text": [
      "38/38 [==============================] - 20s 445ms/step - loss: 1.2460 - accuracy: 0.7493 - val_loss: 0.4302 - val_accuracy: 0.8204 - lr: 0.0010\n",
      "Epoch 2/100\n",
      "38/38 [==============================] - ETA: 0s - loss: 0.2138 - accuracy: 0.9151\n",
      "Epoch 2: val_accuracy improved from 0.82043 to 0.91641, saving model to BellPaper_Xception_model\n"
     ]
    },
    {
     "name": "stderr",
     "output_type": "stream",
     "text": [
      "WARNING:absl:Found untraced functions such as _jit_compiled_convolution_op, _jit_compiled_convolution_op, _jit_compiled_convolution_op, _jit_compiled_convolution_op, _jit_compiled_convolution_op while saving (showing 5 of 40). These functions will not be directly callable after loading.\n"
     ]
    },
    {
     "name": "stdout",
     "output_type": "stream",
     "text": [
      "INFO:tensorflow:Assets written to: BellPaper_Xception_model\\assets\n"
     ]
    },
    {
     "name": "stderr",
     "output_type": "stream",
     "text": [
      "INFO:tensorflow:Assets written to: BellPaper_Xception_model\\assets\n"
     ]
    },
    {
     "name": "stdout",
     "output_type": "stream",
     "text": [
      "38/38 [==============================] - 15s 409ms/step - loss: 0.2138 - accuracy: 0.9151 - val_loss: 0.1896 - val_accuracy: 0.9164 - lr: 0.0010\n",
      "Epoch 3/100\n",
      "38/38 [==============================] - ETA: 0s - loss: 0.1423 - accuracy: 0.9443\n",
      "Epoch 3: val_accuracy did not improve from 0.91641\n",
      "38/38 [==============================] - 3s 82ms/step - loss: 0.1423 - accuracy: 0.9443 - val_loss: 0.2572 - val_accuracy: 0.8978 - lr: 0.0010\n",
      "Epoch 4/100\n",
      "38/38 [==============================] - ETA: 0s - loss: 0.1162 - accuracy: 0.9549\n",
      "Epoch 4: val_accuracy did not improve from 0.91641\n",
      "38/38 [==============================] - 3s 84ms/step - loss: 0.1162 - accuracy: 0.9549 - val_loss: 0.2105 - val_accuracy: 0.8978 - lr: 0.0010\n",
      "Epoch 5/100\n",
      "38/38 [==============================] - ETA: 0s - loss: 0.0881 - accuracy: 0.9708\n",
      "Epoch 5: val_accuracy improved from 0.91641 to 0.93189, saving model to BellPaper_Xception_model\n"
     ]
    },
    {
     "name": "stderr",
     "output_type": "stream",
     "text": [
      "WARNING:absl:Found untraced functions such as _jit_compiled_convolution_op, _jit_compiled_convolution_op, _jit_compiled_convolution_op, _jit_compiled_convolution_op, _jit_compiled_convolution_op while saving (showing 5 of 40). These functions will not be directly callable after loading.\n"
     ]
    },
    {
     "name": "stdout",
     "output_type": "stream",
     "text": [
      "INFO:tensorflow:Assets written to: BellPaper_Xception_model\\assets\n"
     ]
    },
    {
     "name": "stderr",
     "output_type": "stream",
     "text": [
      "INFO:tensorflow:Assets written to: BellPaper_Xception_model\\assets\n"
     ]
    },
    {
     "name": "stdout",
     "output_type": "stream",
     "text": [
      "38/38 [==============================] - 15s 415ms/step - loss: 0.0881 - accuracy: 0.9708 - val_loss: 0.1600 - val_accuracy: 0.9319 - lr: 0.0010\n",
      "Epoch 6/100\n",
      "38/38 [==============================] - ETA: 0s - loss: 0.0624 - accuracy: 0.9761\n",
      "Epoch 6: val_accuracy did not improve from 0.93189\n",
      "38/38 [==============================] - 3s 82ms/step - loss: 0.0624 - accuracy: 0.9761 - val_loss: 0.2941 - val_accuracy: 0.9102 - lr: 0.0010\n",
      "Epoch 7/100\n",
      "38/38 [==============================] - ETA: 0s - loss: 0.1178 - accuracy: 0.9496\n",
      "Epoch 7: val_accuracy did not improve from 0.93189\n",
      "38/38 [==============================] - 3s 82ms/step - loss: 0.1178 - accuracy: 0.9496 - val_loss: 0.1816 - val_accuracy: 0.9288 - lr: 0.0010\n",
      "Epoch 8/100\n",
      "38/38 [==============================] - ETA: 0s - loss: 0.1121 - accuracy: 0.9589\n",
      "Epoch 8: val_accuracy did not improve from 0.93189\n",
      "38/38 [==============================] - 3s 83ms/step - loss: 0.1121 - accuracy: 0.9589 - val_loss: 0.6678 - val_accuracy: 0.8452 - lr: 0.0010\n",
      "Epoch 9/100\n",
      "38/38 [==============================] - ETA: 0s - loss: 0.1016 - accuracy: 0.9615\n",
      "Epoch 9: val_accuracy did not improve from 0.93189\n",
      "38/38 [==============================] - 3s 83ms/step - loss: 0.1016 - accuracy: 0.9615 - val_loss: 0.2449 - val_accuracy: 0.9288 - lr: 0.0010\n",
      "Epoch 10/100\n",
      "38/38 [==============================] - ETA: 0s - loss: 0.0357 - accuracy: 0.9854\n",
      "Epoch 10: val_accuracy improved from 0.93189 to 0.94118, saving model to BellPaper_Xception_model\n"
     ]
    },
    {
     "name": "stderr",
     "output_type": "stream",
     "text": [
      "WARNING:absl:Found untraced functions such as _jit_compiled_convolution_op, _jit_compiled_convolution_op, _jit_compiled_convolution_op, _jit_compiled_convolution_op, _jit_compiled_convolution_op while saving (showing 5 of 40). These functions will not be directly callable after loading.\n"
     ]
    },
    {
     "name": "stdout",
     "output_type": "stream",
     "text": [
      "INFO:tensorflow:Assets written to: BellPaper_Xception_model\\assets\n"
     ]
    },
    {
     "name": "stderr",
     "output_type": "stream",
     "text": [
      "INFO:tensorflow:Assets written to: BellPaper_Xception_model\\assets\n"
     ]
    },
    {
     "name": "stdout",
     "output_type": "stream",
     "text": [
      "\n",
      "Epoch 10: ReduceLROnPlateau reducing learning rate to 0.00010000000474974513.\n",
      "38/38 [==============================] - 15s 412ms/step - loss: 0.0357 - accuracy: 0.9854 - val_loss: 0.1605 - val_accuracy: 0.9412 - lr: 0.0010\n",
      "Epoch 11/100\n",
      "38/38 [==============================] - ETA: 0s - loss: 0.0209 - accuracy: 0.9973\n",
      "Epoch 11: val_accuracy improved from 0.94118 to 0.94737, saving model to BellPaper_Xception_model\n"
     ]
    },
    {
     "name": "stderr",
     "output_type": "stream",
     "text": [
      "WARNING:absl:Found untraced functions such as _jit_compiled_convolution_op, _jit_compiled_convolution_op, _jit_compiled_convolution_op, _jit_compiled_convolution_op, _jit_compiled_convolution_op while saving (showing 5 of 40). These functions will not be directly callable after loading.\n"
     ]
    },
    {
     "name": "stdout",
     "output_type": "stream",
     "text": [
      "INFO:tensorflow:Assets written to: BellPaper_Xception_model\\assets\n"
     ]
    },
    {
     "name": "stderr",
     "output_type": "stream",
     "text": [
      "INFO:tensorflow:Assets written to: BellPaper_Xception_model\\assets\n"
     ]
    },
    {
     "name": "stdout",
     "output_type": "stream",
     "text": [
      "38/38 [==============================] - 16s 417ms/step - loss: 0.0209 - accuracy: 0.9973 - val_loss: 0.1537 - val_accuracy: 0.9474 - lr: 1.0000e-04\n",
      "Epoch 12/100\n",
      "38/38 [==============================] - ETA: 0s - loss: 0.0167 - accuracy: 0.9973\n",
      "Epoch 12: val_accuracy did not improve from 0.94737\n",
      "38/38 [==============================] - 3s 82ms/step - loss: 0.0167 - accuracy: 0.9973 - val_loss: 0.1578 - val_accuracy: 0.9443 - lr: 1.0000e-04\n",
      "Epoch 13/100\n",
      "38/38 [==============================] - ETA: 0s - loss: 0.0163 - accuracy: 0.9960\n",
      "Epoch 13: val_accuracy did not improve from 0.94737\n",
      "38/38 [==============================] - 3s 82ms/step - loss: 0.0163 - accuracy: 0.9960 - val_loss: 0.1644 - val_accuracy: 0.9443 - lr: 1.0000e-04\n",
      "Epoch 14/100\n",
      "38/38 [==============================] - ETA: 0s - loss: 0.0192 - accuracy: 0.9960\n",
      "Epoch 14: val_accuracy did not improve from 0.94737\n",
      "38/38 [==============================] - 3s 83ms/step - loss: 0.0192 - accuracy: 0.9960 - val_loss: 0.1595 - val_accuracy: 0.9443 - lr: 1.0000e-04\n",
      "Epoch 15/100\n",
      "38/38 [==============================] - ETA: 0s - loss: 0.0155 - accuracy: 0.9960\n",
      "Epoch 15: val_accuracy did not improve from 0.94737\n",
      "38/38 [==============================] - 3s 83ms/step - loss: 0.0155 - accuracy: 0.9960 - val_loss: 0.1488 - val_accuracy: 0.9412 - lr: 1.0000e-04\n",
      "Epoch 16/100\n",
      "38/38 [==============================] - ETA: 0s - loss: 0.0184 - accuracy: 0.9920\n",
      "Epoch 16: val_accuracy did not improve from 0.94737\n",
      "38/38 [==============================] - 3s 83ms/step - loss: 0.0184 - accuracy: 0.9920 - val_loss: 0.1634 - val_accuracy: 0.9474 - lr: 1.0000e-04\n",
      "Epoch 17/100\n",
      "38/38 [==============================] - ETA: 0s - loss: 0.0118 - accuracy: 0.9987\n",
      "Epoch 17: val_accuracy did not improve from 0.94737\n",
      "38/38 [==============================] - 3s 83ms/step - loss: 0.0118 - accuracy: 0.9987 - val_loss: 0.1493 - val_accuracy: 0.9412 - lr: 1.0000e-04\n",
      "Epoch 18/100\n",
      "38/38 [==============================] - ETA: 0s - loss: 0.0132 - accuracy: 0.9987\n",
      "Epoch 18: val_accuracy did not improve from 0.94737\n",
      "38/38 [==============================] - 3s 84ms/step - loss: 0.0132 - accuracy: 0.9987 - val_loss: 0.1511 - val_accuracy: 0.9443 - lr: 1.0000e-04\n",
      "Epoch 19/100\n",
      "38/38 [==============================] - ETA: 0s - loss: 0.0153 - accuracy: 0.9960\n",
      "Epoch 19: val_accuracy did not improve from 0.94737\n",
      "38/38 [==============================] - 3s 84ms/step - loss: 0.0153 - accuracy: 0.9960 - val_loss: 0.1758 - val_accuracy: 0.9319 - lr: 1.0000e-04\n",
      "Epoch 20/100\n",
      "38/38 [==============================] - ETA: 0s - loss: 0.0138 - accuracy: 0.9973\n",
      "Epoch 20: val_accuracy did not improve from 0.94737\n",
      "38/38 [==============================] - 3s 83ms/step - loss: 0.0138 - accuracy: 0.9973 - val_loss: 0.1458 - val_accuracy: 0.9443 - lr: 1.0000e-04\n",
      "Epoch 21/100\n",
      "38/38 [==============================] - ETA: 0s - loss: 0.0180 - accuracy: 0.9947\n",
      "Epoch 21: val_accuracy did not improve from 0.94737\n",
      "38/38 [==============================] - 3s 84ms/step - loss: 0.0180 - accuracy: 0.9947 - val_loss: 0.1379 - val_accuracy: 0.9474 - lr: 1.0000e-04\n",
      "Epoch 22/100\n",
      "38/38 [==============================] - ETA: 0s - loss: 0.0139 - accuracy: 0.9973\n",
      "Epoch 22: val_accuracy did not improve from 0.94737\n",
      "38/38 [==============================] - 3s 84ms/step - loss: 0.0139 - accuracy: 0.9973 - val_loss: 0.1475 - val_accuracy: 0.9412 - lr: 1.0000e-04\n",
      "Epoch 23/100\n",
      "38/38 [==============================] - ETA: 0s - loss: 0.0120 - accuracy: 0.9987\n",
      "Epoch 23: val_accuracy did not improve from 0.94737\n",
      "38/38 [==============================] - 3s 85ms/step - loss: 0.0120 - accuracy: 0.9987 - val_loss: 0.1466 - val_accuracy: 0.9412 - lr: 1.0000e-04\n",
      "Epoch 24/100\n",
      "38/38 [==============================] - ETA: 0s - loss: 0.0144 - accuracy: 0.9987\n",
      "Epoch 24: val_accuracy did not improve from 0.94737\n",
      "38/38 [==============================] - 3s 84ms/step - loss: 0.0144 - accuracy: 0.9987 - val_loss: 0.1669 - val_accuracy: 0.9381 - lr: 1.0000e-04\n",
      "Epoch 25/100\n",
      "38/38 [==============================] - ETA: 0s - loss: 0.0107 - accuracy: 0.9987\n",
      "Epoch 25: val_accuracy did not improve from 0.94737\n",
      "38/38 [==============================] - 3s 83ms/step - loss: 0.0107 - accuracy: 0.9987 - val_loss: 0.1579 - val_accuracy: 0.9412 - lr: 1.0000e-04\n",
      "Epoch 26/100\n",
      "38/38 [==============================] - ETA: 0s - loss: 0.0126 - accuracy: 0.9987\n",
      "Epoch 26: val_accuracy did not improve from 0.94737\n",
      "\n",
      "Epoch 26: ReduceLROnPlateau reducing learning rate to 1.0000000474974514e-05.\n",
      "38/38 [==============================] - 3s 83ms/step - loss: 0.0126 - accuracy: 0.9987 - val_loss: 0.1509 - val_accuracy: 0.9412 - lr: 1.0000e-04\n",
      "Epoch 27/100\n",
      "38/38 [==============================] - ETA: 0s - loss: 0.0088 - accuracy: 1.0000\n",
      "Epoch 27: val_accuracy did not improve from 0.94737\n",
      "38/38 [==============================] - 3s 83ms/step - loss: 0.0088 - accuracy: 1.0000 - val_loss: 0.1485 - val_accuracy: 0.9412 - lr: 1.0000e-05\n",
      "Epoch 28/100\n",
      "38/38 [==============================] - ETA: 0s - loss: 0.0101 - accuracy: 0.9987\n",
      "Epoch 28: val_accuracy did not improve from 0.94737\n",
      "38/38 [==============================] - 3s 83ms/step - loss: 0.0101 - accuracy: 0.9987 - val_loss: 0.1480 - val_accuracy: 0.9381 - lr: 1.0000e-05\n",
      "Epoch 29/100\n",
      "38/38 [==============================] - ETA: 0s - loss: 0.0132 - accuracy: 0.9973\n",
      "Epoch 29: val_accuracy did not improve from 0.94737\n",
      "38/38 [==============================] - 3s 83ms/step - loss: 0.0132 - accuracy: 0.9973 - val_loss: 0.1455 - val_accuracy: 0.9381 - lr: 1.0000e-05\n",
      "Epoch 30/100\n",
      "38/38 [==============================] - ETA: 0s - loss: 0.0098 - accuracy: 1.0000\n",
      "Epoch 30: val_accuracy did not improve from 0.94737\n",
      "38/38 [==============================] - 3s 83ms/step - loss: 0.0098 - accuracy: 1.0000 - val_loss: 0.1480 - val_accuracy: 0.9381 - lr: 1.0000e-05\n",
      "Epoch 31/100\n",
      "38/38 [==============================] - ETA: 0s - loss: 0.0117 - accuracy: 0.9987\n",
      "Epoch 31: val_accuracy did not improve from 0.94737\n",
      "Restoring model weights from the end of the best epoch: 11.\n",
      "\n",
      "Epoch 31: ReduceLROnPlateau reducing learning rate to 1.0000000656873453e-06.\n",
      "38/38 [==============================] - 3s 85ms/step - loss: 0.0117 - accuracy: 0.9987 - val_loss: 0.1481 - val_accuracy: 0.9381 - lr: 1.0000e-05\n",
      "Epoch 31: early stopping\n"
     ]
    }
   ],
   "source": [
    "# Define the number of epochs\n",
    "num_epochs = 100\n",
    "\n",
    "# Train the model\n",
    "history_Xception_model_1 = Xception_model.fit(train_generator, epochs=num_epochs, validation_data=validation_generator, callbacks=callbacks)"
   ]
  },
  {
   "cell_type": "code",
   "execution_count": 15,
   "metadata": {},
   "outputs": [
    {
     "data": {
      "text/plain": [
       "<matplotlib.legend.Legend at 0x19f0aec5db0>"
      ]
     },
     "execution_count": 15,
     "metadata": {},
     "output_type": "execute_result"
    },
    {
     "data": {
      "image/png": "[encoded data removed]",
      "text/plain": [
       "<Figure size 640x480 with 1 Axes>"
      ]
     },
     "metadata": {},
     "output_type": "display_data"
    },
    {
     "data": {
      "image/png": "[encoded data removed]",
      "text/plain": [
       "<Figure size 640x480 with 1 Axes>"
      ]
     },
     "metadata": {},
     "output_type": "display_data"
    }
   ],
   "source": [
    "#-----------------------------------------------------------\n",
    "# Retrieve a list of list results on training and test data\n",
    "# sets for each training epoch\n",
    "#-----------------------------------------------------------\n",
    "acc      = history_Xception_model_1.history['accuracy' ]\n",
    "val_acc  = history_Xception_model_1.history['val_accuracy' ]\n",
    "loss     = history_Xception_model_1.history['loss' ]\n",
    "val_loss = history_Xception_model_1.history['val_loss' ]\n",
    "\n",
    "epochs   = range(len(acc)) # Get number of epochs\n",
    "\n",
    "#------------------------------------------------\n",
    "# Plot training and validation accuracy per epoch\n",
    "#------------------------------------------------\n",
    "plt.plot  (epochs, acc )\n",
    "plt.plot  (epochs, val_acc )\n",
    "plt.title ('Training and validation accuracy Xception Model')\n",
    "plt.legend(['train', 'val'], loc='upper left')\n",
    "plt.figure()\n",
    "\n",
    "#------------------------------------------------\n",
    "# Plot training and validation loss per epoch\n",
    "#------------------------------------------------\n",
    "plt.plot  (epochs, loss)\n",
    "plt.plot  (epochs, val_loss)\n",
    "plt.title ('Training and validation loss Xception Model')\n",
    "plt.legend(['train', 'val'], loc='upper left')"
   ]
  },
  {
   "attachments": {},
   "cell_type": "markdown",
   "metadata": {},
   "source": [
    "# Xception 2"
   ]
  },
  {
   "cell_type": "code",
   "execution_count": 24,
   "metadata": {},
   "outputs": [],
   "source": [
    "# Difine the callbacks\n",
    "# Save the best model\n",
    "checkpoint_callback = ModelCheckpoint(filepath=\"BellPaper_Xception_model2\", save_best_only=True, monitor=\"val_accuracy\", mode=\"max\", verbose=1)\n",
    "\n",
    "# Early stopping\n",
    "early_stopping_callback = EarlyStopping(monitor=\"val_accuracy\", mode=\"max\", patience=20, verbose=1, restore_best_weights=True)\n",
    "\n",
    "# Reduce learning rate\n",
    "reduce_lr_callback = ReduceLROnPlateau(monitor=\"val_loss\", factor=0.1, patience=5, verbose=1, mode=\"min\", min_delta=0.0001, cooldown=0, min_lr=0)\n",
    "\n",
    "# Callbacks list\n",
    "callbacks=[checkpoint_callback, early_stopping_callback, reduce_lr_callback]"
   ]
  },
  {
   "cell_type": "code",
   "execution_count": 25,
   "metadata": {},
   "outputs": [
    {
     "name": "stdout",
     "output_type": "stream",
     "text": [
      "Model: \"sequential_5\"\n",
      "_________________________________________________________________\n",
      " Layer (type)                Output Shape              Param #   \n",
      "=================================================================\n",
      " xception (Functional)       (None, 7, 7, 2048)        20861480  \n",
      "                                                                 \n",
      " global_average_pooling2d_2   (None, 2048)             0         \n",
      " (GlobalAveragePooling2D)                                        \n",
      "                                                                 \n",
      " dropout_5 (Dropout)         (None, 2048)              0         \n",
      "                                                                 \n",
      " dense_10 (Dense)            (None, 256)               524544    \n",
      "                                                                 \n",
      " dense_11 (Dense)            (None, 5)                 1285      \n",
      "                                                                 \n",
      "=================================================================\n",
      "Total params: 21,387,309\n",
      "Trainable params: 525,829\n",
      "Non-trainable params: 20,861,480\n",
      "_________________________________________________________________\n"
     ]
    }
   ],
   "source": [
    "# Define Model\n",
    "Xception_model2 = tf.keras.models.Sequential([\n",
    "    # Xception Layer\n",
    "    Xception(include_top=False,weights='imagenet',input_shape=(224, 224, 3)),\n",
    "    # Global Average Pooling Layer\n",
    "    tf.keras.layers.GlobalAveragePooling2D(),\n",
    "    # Drop Out Layer\n",
    "    tf.keras.layers.Dropout(0.2),\n",
    "    # 256 neuron hidden layer\n",
    "    tf.keras.layers.Dense(256, activation='relu'),\n",
    "    # Output\n",
    "    tf.keras.layers.Dense(5, activation='softmax') \n",
    "  ])\n",
    "Xception_model2.layers[0].trainable = False\n",
    "\n",
    "# Compile Model\n",
    "Xception_model2.compile(loss='categorical_crossentropy',optimizer=tf.keras.optimizers.Adam(), metrics=['accuracy']) \n",
    "\n",
    "# Model Summary\n",
    "Xception_model2.summary()"
   ]
  },
  {
   "cell_type": "code",
   "execution_count": 26,
   "metadata": {},
   "outputs": [
    {
     "name": "stdout",
     "output_type": "stream",
     "text": [
      "Epoch 1/100\n",
      "38/38 [==============================] - ETA: 0s - loss: 0.4724 - accuracy: 0.8077\n",
      "Epoch 1: val_accuracy improved from -inf to 0.86997, saving model to BellPaper_Xception_model2\n"
     ]
    },
    {
     "name": "stderr",
     "output_type": "stream",
     "text": [
      "WARNING:absl:Found untraced functions such as _jit_compiled_convolution_op, _jit_compiled_convolution_op, _jit_compiled_convolution_op, _jit_compiled_convolution_op, _jit_compiled_convolution_op while saving (showing 5 of 40). These functions will not be directly callable after loading.\n"
     ]
    },
    {
     "name": "stdout",
     "output_type": "stream",
     "text": [
      "INFO:tensorflow:Assets written to: BellPaper_Xception_model2\\assets\n"
     ]
    },
    {
     "name": "stderr",
     "output_type": "stream",
     "text": [
      "INFO:tensorflow:Assets written to: BellPaper_Xception_model2\\assets\n"
     ]
    },
    {
     "name": "stdout",
     "output_type": "stream",
     "text": [
      "38/38 [==============================] - 19s 447ms/step - loss: 0.4724 - accuracy: 0.8077 - val_loss: 0.3340 - val_accuracy: 0.8700 - lr: 0.0010\n",
      "Epoch 2/100\n",
      "38/38 [==============================] - ETA: 0s - loss: 0.1492 - accuracy: 0.9403\n",
      "Epoch 2: val_accuracy improved from 0.86997 to 0.92570, saving model to BellPaper_Xception_model2\n"
     ]
    },
    {
     "name": "stderr",
     "output_type": "stream",
     "text": [
      "WARNING:absl:Found untraced functions such as _jit_compiled_convolution_op, _jit_compiled_convolution_op, _jit_compiled_convolution_op, _jit_compiled_convolution_op, _jit_compiled_convolution_op while saving (showing 5 of 40). These functions will not be directly callable after loading.\n"
     ]
    },
    {
     "name": "stdout",
     "output_type": "stream",
     "text": [
      "INFO:tensorflow:Assets written to: BellPaper_Xception_model2\\assets\n"
     ]
    },
    {
     "name": "stderr",
     "output_type": "stream",
     "text": [
      "INFO:tensorflow:Assets written to: BellPaper_Xception_model2\\assets\n"
     ]
    },
    {
     "name": "stdout",
     "output_type": "stream",
     "text": [
      "38/38 [==============================] - 16s 421ms/step - loss: 0.1492 - accuracy: 0.9403 - val_loss: 0.1867 - val_accuracy: 0.9257 - lr: 0.0010\n",
      "Epoch 3/100\n",
      "38/38 [==============================] - ETA: 0s - loss: 0.0896 - accuracy: 0.9708\n",
      "Epoch 3: val_accuracy improved from 0.92570 to 0.93498, saving model to BellPaper_Xception_model2\n"
     ]
    },
    {
     "name": "stderr",
     "output_type": "stream",
     "text": [
      "WARNING:absl:Found untraced functions such as _jit_compiled_convolution_op, _jit_compiled_convolution_op, _jit_compiled_convolution_op, _jit_compiled_convolution_op, _jit_compiled_convolution_op while saving (showing 5 of 40). These functions will not be directly callable after loading.\n"
     ]
    },
    {
     "name": "stdout",
     "output_type": "stream",
     "text": [
      "INFO:tensorflow:Assets written to: BellPaper_Xception_model2\\assets\n"
     ]
    },
    {
     "name": "stderr",
     "output_type": "stream",
     "text": [
      "INFO:tensorflow:Assets written to: BellPaper_Xception_model2\\assets\n"
     ]
    },
    {
     "name": "stdout",
     "output_type": "stream",
     "text": [
      "38/38 [==============================] - 16s 408ms/step - loss: 0.0896 - accuracy: 0.9708 - val_loss: 0.1528 - val_accuracy: 0.9350 - lr: 0.0010\n",
      "Epoch 4/100\n",
      "38/38 [==============================] - ETA: 0s - loss: 0.0713 - accuracy: 0.9801\n",
      "Epoch 4: val_accuracy did not improve from 0.93498\n",
      "38/38 [==============================] - 3s 83ms/step - loss: 0.0713 - accuracy: 0.9801 - val_loss: 0.1526 - val_accuracy: 0.9350 - lr: 0.0010\n",
      "Epoch 5/100\n",
      "38/38 [==============================] - ETA: 0s - loss: 0.0421 - accuracy: 0.9867\n",
      "Epoch 5: val_accuracy did not improve from 0.93498\n",
      "38/38 [==============================] - 3s 83ms/step - loss: 0.0421 - accuracy: 0.9867 - val_loss: 0.1780 - val_accuracy: 0.9319 - lr: 0.0010\n",
      "Epoch 6/100\n",
      "38/38 [==============================] - ETA: 0s - loss: 0.1281 - accuracy: 0.9509\n",
      "Epoch 6: val_accuracy did not improve from 0.93498\n",
      "38/38 [==============================] - 3s 84ms/step - loss: 0.1281 - accuracy: 0.9509 - val_loss: 0.2293 - val_accuracy: 0.9226 - lr: 0.0010\n",
      "Epoch 7/100\n",
      "38/38 [==============================] - ETA: 0s - loss: 0.0746 - accuracy: 0.9775\n",
      "Epoch 7: val_accuracy did not improve from 0.93498\n",
      "38/38 [==============================] - 3s 83ms/step - loss: 0.0746 - accuracy: 0.9775 - val_loss: 0.2299 - val_accuracy: 0.9257 - lr: 0.0010\n",
      "Epoch 8/100\n",
      "38/38 [==============================] - ETA: 0s - loss: 0.0498 - accuracy: 0.9841\n",
      "Epoch 8: val_accuracy did not improve from 0.93498\n",
      "38/38 [==============================] - 3s 83ms/step - loss: 0.0498 - accuracy: 0.9841 - val_loss: 0.2471 - val_accuracy: 0.9133 - lr: 0.0010\n",
      "Epoch 9/100\n",
      "38/38 [==============================] - ETA: 0s - loss: 0.0352 - accuracy: 0.9854\n",
      "Epoch 9: val_accuracy improved from 0.93498 to 0.94118, saving model to BellPaper_Xception_model2\n"
     ]
    },
    {
     "name": "stderr",
     "output_type": "stream",
     "text": [
      "WARNING:absl:Found untraced functions such as _jit_compiled_convolution_op, _jit_compiled_convolution_op, _jit_compiled_convolution_op, _jit_compiled_convolution_op, _jit_compiled_convolution_op while saving (showing 5 of 40). These functions will not be directly callable after loading.\n"
     ]
    },
    {
     "name": "stdout",
     "output_type": "stream",
     "text": [
      "INFO:tensorflow:Assets written to: BellPaper_Xception_model2\\assets\n"
     ]
    },
    {
     "name": "stderr",
     "output_type": "stream",
     "text": [
      "INFO:tensorflow:Assets written to: BellPaper_Xception_model2\\assets\n"
     ]
    },
    {
     "name": "stdout",
     "output_type": "stream",
     "text": [
      "\n",
      "Epoch 9: ReduceLROnPlateau reducing learning rate to 0.00010000000474974513.\n",
      "38/38 [==============================] - 16s 435ms/step - loss: 0.0352 - accuracy: 0.9854 - val_loss: 0.1935 - val_accuracy: 0.9412 - lr: 0.0010\n",
      "Epoch 10/100\n",
      "38/38 [==============================] - ETA: 0s - loss: 0.0175 - accuracy: 0.9947\n",
      "Epoch 10: val_accuracy improved from 0.94118 to 0.94737, saving model to BellPaper_Xception_model2\n"
     ]
    },
    {
     "name": "stderr",
     "output_type": "stream",
     "text": [
      "WARNING:absl:Found untraced functions such as _jit_compiled_convolution_op, _jit_compiled_convolution_op, _jit_compiled_convolution_op, _jit_compiled_convolution_op, _jit_compiled_convolution_op while saving (showing 5 of 40). These functions will not be directly callable after loading.\n"
     ]
    },
    {
     "name": "stdout",
     "output_type": "stream",
     "text": [
      "INFO:tensorflow:Assets written to: BellPaper_Xception_model2\\assets\n"
     ]
    },
    {
     "name": "stderr",
     "output_type": "stream",
     "text": [
      "INFO:tensorflow:Assets written to: BellPaper_Xception_model2\\assets\n"
     ]
    },
    {
     "name": "stdout",
     "output_type": "stream",
     "text": [
      "38/38 [==============================] - 16s 416ms/step - loss: 0.0175 - accuracy: 0.9947 - val_loss: 0.1597 - val_accuracy: 0.9474 - lr: 1.0000e-04\n",
      "Epoch 11/100\n",
      "38/38 [==============================] - ETA: 0s - loss: 0.0125 - accuracy: 1.0000\n",
      "Epoch 11: val_accuracy improved from 0.94737 to 0.95356, saving model to BellPaper_Xception_model2\n"
     ]
    },
    {
     "name": "stderr",
     "output_type": "stream",
     "text": [
      "WARNING:absl:Found untraced functions such as _jit_compiled_convolution_op, _jit_compiled_convolution_op, _jit_compiled_convolution_op, _jit_compiled_convolution_op, _jit_compiled_convolution_op while saving (showing 5 of 40). These functions will not be directly callable after loading.\n"
     ]
    },
    {
     "name": "stdout",
     "output_type": "stream",
     "text": [
      "INFO:tensorflow:Assets written to: BellPaper_Xception_model2\\assets\n"
     ]
    },
    {
     "name": "stderr",
     "output_type": "stream",
     "text": [
      "INFO:tensorflow:Assets written to: BellPaper_Xception_model2\\assets\n"
     ]
    },
    {
     "name": "stdout",
     "output_type": "stream",
     "text": [
      "38/38 [==============================] - 16s 423ms/step - loss: 0.0125 - accuracy: 1.0000 - val_loss: 0.1585 - val_accuracy: 0.9536 - lr: 1.0000e-04\n",
      "Epoch 12/100\n",
      "38/38 [==============================] - ETA: 0s - loss: 0.0131 - accuracy: 0.9987\n",
      "Epoch 12: val_accuracy did not improve from 0.95356\n",
      "38/38 [==============================] - 3s 83ms/step - loss: 0.0131 - accuracy: 0.9987 - val_loss: 0.1508 - val_accuracy: 0.9536 - lr: 1.0000e-04\n",
      "Epoch 13/100\n",
      "38/38 [==============================] - ETA: 0s - loss: 0.0104 - accuracy: 1.0000\n",
      "Epoch 13: val_accuracy improved from 0.95356 to 0.95666, saving model to BellPaper_Xception_model2\n"
     ]
    },
    {
     "name": "stderr",
     "output_type": "stream",
     "text": [
      "WARNING:absl:Found untraced functions such as _jit_compiled_convolution_op, _jit_compiled_convolution_op, _jit_compiled_convolution_op, _jit_compiled_convolution_op, _jit_compiled_convolution_op while saving (showing 5 of 40). These functions will not be directly callable after loading.\n"
     ]
    },
    {
     "name": "stdout",
     "output_type": "stream",
     "text": [
      "INFO:tensorflow:Assets written to: BellPaper_Xception_model2\\assets\n"
     ]
    },
    {
     "name": "stderr",
     "output_type": "stream",
     "text": [
      "INFO:tensorflow:Assets written to: BellPaper_Xception_model2\\assets\n"
     ]
    },
    {
     "name": "stdout",
     "output_type": "stream",
     "text": [
      "38/38 [==============================] - 16s 429ms/step - loss: 0.0104 - accuracy: 1.0000 - val_loss: 0.1519 - val_accuracy: 0.9567 - lr: 1.0000e-04\n",
      "Epoch 14/100\n",
      "38/38 [==============================] - ETA: 0s - loss: 0.0101 - accuracy: 1.0000\n",
      "Epoch 14: val_accuracy did not improve from 0.95666\n",
      "38/38 [==============================] - 3s 83ms/step - loss: 0.0101 - accuracy: 1.0000 - val_loss: 0.1505 - val_accuracy: 0.9536 - lr: 1.0000e-04\n",
      "Epoch 15/100\n",
      "37/38 [============================>.] - ETA: 0s - loss: 0.0081 - accuracy: 1.0000\n",
      "Epoch 15: val_accuracy did not improve from 0.95666\n",
      "38/38 [==============================] - 3s 83ms/step - loss: 0.0080 - accuracy: 1.0000 - val_loss: 0.1521 - val_accuracy: 0.9567 - lr: 1.0000e-04\n",
      "Epoch 16/100\n",
      "38/38 [==============================] - ETA: 0s - loss: 0.0101 - accuracy: 0.9987\n",
      "Epoch 16: val_accuracy did not improve from 0.95666\n",
      "38/38 [==============================] - 3s 85ms/step - loss: 0.0101 - accuracy: 0.9987 - val_loss: 0.1531 - val_accuracy: 0.9536 - lr: 1.0000e-04\n",
      "Epoch 17/100\n",
      "38/38 [==============================] - ETA: 0s - loss: 0.0118 - accuracy: 0.9987\n",
      "Epoch 17: val_accuracy did not improve from 0.95666\n",
      "38/38 [==============================] - 3s 83ms/step - loss: 0.0118 - accuracy: 0.9987 - val_loss: 0.1513 - val_accuracy: 0.9567 - lr: 1.0000e-04\n",
      "Epoch 18/100\n",
      "38/38 [==============================] - ETA: 0s - loss: 0.0099 - accuracy: 1.0000\n",
      "Epoch 18: val_accuracy did not improve from 0.95666\n",
      "38/38 [==============================] - 3s 83ms/step - loss: 0.0099 - accuracy: 1.0000 - val_loss: 0.1521 - val_accuracy: 0.9567 - lr: 1.0000e-04\n",
      "Epoch 19/100\n",
      "38/38 [==============================] - ETA: 0s - loss: 0.0100 - accuracy: 1.0000\n",
      "Epoch 19: val_accuracy did not improve from 0.95666\n",
      "38/38 [==============================] - 3s 84ms/step - loss: 0.0100 - accuracy: 1.0000 - val_loss: 0.1494 - val_accuracy: 0.9567 - lr: 1.0000e-04\n",
      "Epoch 20/100\n",
      "38/38 [==============================] - ETA: 0s - loss: 0.0102 - accuracy: 1.0000\n",
      "Epoch 20: val_accuracy did not improve from 0.95666\n",
      "38/38 [==============================] - 3s 83ms/step - loss: 0.0102 - accuracy: 1.0000 - val_loss: 0.1531 - val_accuracy: 0.9567 - lr: 1.0000e-04\n",
      "Epoch 21/100\n",
      "38/38 [==============================] - ETA: 0s - loss: 0.0096 - accuracy: 1.0000\n",
      "Epoch 21: val_accuracy did not improve from 0.95666\n",
      "38/38 [==============================] - 3s 83ms/step - loss: 0.0096 - accuracy: 1.0000 - val_loss: 0.1519 - val_accuracy: 0.9567 - lr: 1.0000e-04\n",
      "Epoch 22/100\n",
      "38/38 [==============================] - ETA: 0s - loss: 0.0106 - accuracy: 1.0000\n",
      "Epoch 22: val_accuracy did not improve from 0.95666\n",
      "38/38 [==============================] - 3s 83ms/step - loss: 0.0106 - accuracy: 1.0000 - val_loss: 0.1581 - val_accuracy: 0.9536 - lr: 1.0000e-04\n",
      "Epoch 23/100\n",
      "38/38 [==============================] - ETA: 0s - loss: 0.0093 - accuracy: 1.0000\n",
      "Epoch 23: val_accuracy did not improve from 0.95666\n",
      "38/38 [==============================] - 3s 83ms/step - loss: 0.0093 - accuracy: 1.0000 - val_loss: 0.1460 - val_accuracy: 0.9536 - lr: 1.0000e-04\n",
      "Epoch 24/100\n",
      "38/38 [==============================] - ETA: 0s - loss: 0.0102 - accuracy: 1.0000\n",
      "Epoch 24: val_accuracy did not improve from 0.95666\n",
      "38/38 [==============================] - 3s 84ms/step - loss: 0.0102 - accuracy: 1.0000 - val_loss: 0.1523 - val_accuracy: 0.9567 - lr: 1.0000e-04\n",
      "Epoch 25/100\n",
      "38/38 [==============================] - ETA: 0s - loss: 0.0090 - accuracy: 1.0000\n",
      "Epoch 25: val_accuracy improved from 0.95666 to 0.95975, saving model to BellPaper_Xception_model2\n"
     ]
    },
    {
     "name": "stderr",
     "output_type": "stream",
     "text": [
      "WARNING:absl:Found untraced functions such as _jit_compiled_convolution_op, _jit_compiled_convolution_op, _jit_compiled_convolution_op, _jit_compiled_convolution_op, _jit_compiled_convolution_op while saving (showing 5 of 40). These functions will not be directly callable after loading.\n"
     ]
    },
    {
     "name": "stdout",
     "output_type": "stream",
     "text": [
      "INFO:tensorflow:Assets written to: BellPaper_Xception_model2\\assets\n"
     ]
    },
    {
     "name": "stderr",
     "output_type": "stream",
     "text": [
      "INFO:tensorflow:Assets written to: BellPaper_Xception_model2\\assets\n"
     ]
    },
    {
     "name": "stdout",
     "output_type": "stream",
     "text": [
      "38/38 [==============================] - 15s 415ms/step - loss: 0.0090 - accuracy: 1.0000 - val_loss: 0.1440 - val_accuracy: 0.9598 - lr: 1.0000e-04\n",
      "Epoch 26/100\n",
      "38/38 [==============================] - ETA: 0s - loss: 0.0096 - accuracy: 1.0000\n",
      "Epoch 26: val_accuracy did not improve from 0.95975\n",
      "38/38 [==============================] - 3s 84ms/step - loss: 0.0096 - accuracy: 1.0000 - val_loss: 0.1531 - val_accuracy: 0.9536 - lr: 1.0000e-04\n",
      "Epoch 27/100\n",
      "38/38 [==============================] - ETA: 0s - loss: 0.0072 - accuracy: 1.0000\n",
      "Epoch 27: val_accuracy did not improve from 0.95975\n",
      "38/38 [==============================] - 3s 83ms/step - loss: 0.0072 - accuracy: 1.0000 - val_loss: 0.1460 - val_accuracy: 0.9598 - lr: 1.0000e-04\n",
      "Epoch 28/100\n",
      "38/38 [==============================] - ETA: 0s - loss: 0.0085 - accuracy: 1.0000\n",
      "Epoch 28: val_accuracy did not improve from 0.95975\n",
      "38/38 [==============================] - 3s 82ms/step - loss: 0.0085 - accuracy: 1.0000 - val_loss: 0.1443 - val_accuracy: 0.9598 - lr: 1.0000e-04\n",
      "Epoch 29/100\n",
      "38/38 [==============================] - ETA: 0s - loss: 0.0094 - accuracy: 0.9987\n",
      "Epoch 29: val_accuracy did not improve from 0.95975\n",
      "38/38 [==============================] - 3s 82ms/step - loss: 0.0094 - accuracy: 0.9987 - val_loss: 0.1483 - val_accuracy: 0.9567 - lr: 1.0000e-04\n",
      "Epoch 30/100\n",
      "38/38 [==============================] - ETA: 0s - loss: 0.0090 - accuracy: 0.9987\n",
      "Epoch 30: val_accuracy improved from 0.95975 to 0.96285, saving model to BellPaper_Xception_model2\n"
     ]
    },
    {
     "name": "stderr",
     "output_type": "stream",
     "text": [
      "WARNING:absl:Found untraced functions such as _jit_compiled_convolution_op, _jit_compiled_convolution_op, _jit_compiled_convolution_op, _jit_compiled_convolution_op, _jit_compiled_convolution_op while saving (showing 5 of 40). These functions will not be directly callable after loading.\n"
     ]
    },
    {
     "name": "stdout",
     "output_type": "stream",
     "text": [
      "INFO:tensorflow:Assets written to: BellPaper_Xception_model2\\assets\n"
     ]
    },
    {
     "name": "stderr",
     "output_type": "stream",
     "text": [
      "INFO:tensorflow:Assets written to: BellPaper_Xception_model2\\assets\n"
     ]
    },
    {
     "name": "stdout",
     "output_type": "stream",
     "text": [
      "\n",
      "Epoch 30: ReduceLROnPlateau reducing learning rate to 1.0000000474974514e-05.\n",
      "38/38 [==============================] - 15s 416ms/step - loss: 0.0090 - accuracy: 0.9987 - val_loss: 0.1439 - val_accuracy: 0.9628 - lr: 1.0000e-04\n",
      "Epoch 31/100\n",
      "38/38 [==============================] - ETA: 0s - loss: 0.0075 - accuracy: 1.0000\n",
      "Epoch 31: val_accuracy did not improve from 0.96285\n",
      "38/38 [==============================] - 3s 84ms/step - loss: 0.0075 - accuracy: 1.0000 - val_loss: 0.1440 - val_accuracy: 0.9567 - lr: 1.0000e-05\n",
      "Epoch 32/100\n",
      "38/38 [==============================] - ETA: 0s - loss: 0.0064 - accuracy: 1.0000\n",
      "Epoch 32: val_accuracy did not improve from 0.96285\n",
      "38/38 [==============================] - 3s 84ms/step - loss: 0.0064 - accuracy: 1.0000 - val_loss: 0.1450 - val_accuracy: 0.9598 - lr: 1.0000e-05\n",
      "Epoch 33/100\n",
      "38/38 [==============================] - ETA: 0s - loss: 0.0072 - accuracy: 1.0000\n",
      "Epoch 33: val_accuracy did not improve from 0.96285\n",
      "38/38 [==============================] - 3s 84ms/step - loss: 0.0072 - accuracy: 1.0000 - val_loss: 0.1462 - val_accuracy: 0.9598 - lr: 1.0000e-05\n",
      "Epoch 34/100\n",
      "38/38 [==============================] - ETA: 0s - loss: 0.0065 - accuracy: 1.0000\n",
      "Epoch 34: val_accuracy did not improve from 0.96285\n",
      "38/38 [==============================] - 3s 83ms/step - loss: 0.0065 - accuracy: 1.0000 - val_loss: 0.1468 - val_accuracy: 0.9598 - lr: 1.0000e-05\n",
      "Epoch 35/100\n",
      "38/38 [==============================] - ETA: 0s - loss: 0.0060 - accuracy: 1.0000\n",
      "Epoch 35: val_accuracy did not improve from 0.96285\n",
      "\n",
      "Epoch 35: ReduceLROnPlateau reducing learning rate to 1.0000000656873453e-06.\n",
      "38/38 [==============================] - 3s 83ms/step - loss: 0.0060 - accuracy: 1.0000 - val_loss: 0.1477 - val_accuracy: 0.9567 - lr: 1.0000e-05\n",
      "Epoch 36/100\n",
      "38/38 [==============================] - ETA: 0s - loss: 0.0086 - accuracy: 1.0000\n",
      "Epoch 36: val_accuracy did not improve from 0.96285\n",
      "38/38 [==============================] - 3s 84ms/step - loss: 0.0086 - accuracy: 1.0000 - val_loss: 0.1477 - val_accuracy: 0.9567 - lr: 1.0000e-06\n",
      "Epoch 37/100\n",
      "38/38 [==============================] - ETA: 0s - loss: 0.0092 - accuracy: 1.0000\n",
      "Epoch 37: val_accuracy did not improve from 0.96285\n",
      "38/38 [==============================] - 3s 84ms/step - loss: 0.0092 - accuracy: 1.0000 - val_loss: 0.1478 - val_accuracy: 0.9567 - lr: 1.0000e-06\n",
      "Epoch 38/100\n",
      "38/38 [==============================] - ETA: 0s - loss: 0.0061 - accuracy: 1.0000\n",
      "Epoch 38: val_accuracy did not improve from 0.96285\n",
      "38/38 [==============================] - 3s 84ms/step - loss: 0.0061 - accuracy: 1.0000 - val_loss: 0.1478 - val_accuracy: 0.9567 - lr: 1.0000e-06\n",
      "Epoch 39/100\n",
      "38/38 [==============================] - ETA: 0s - loss: 0.0072 - accuracy: 1.0000\n",
      "Epoch 39: val_accuracy did not improve from 0.96285\n",
      "38/38 [==============================] - 3s 85ms/step - loss: 0.0072 - accuracy: 1.0000 - val_loss: 0.1477 - val_accuracy: 0.9567 - lr: 1.0000e-06\n",
      "Epoch 40/100\n",
      "38/38 [==============================] - ETA: 0s - loss: 0.0065 - accuracy: 1.0000\n",
      "Epoch 40: val_accuracy did not improve from 0.96285\n",
      "\n",
      "Epoch 40: ReduceLROnPlateau reducing learning rate to 1.0000001111620805e-07.\n",
      "38/38 [==============================] - 3s 84ms/step - loss: 0.0065 - accuracy: 1.0000 - val_loss: 0.1477 - val_accuracy: 0.9567 - lr: 1.0000e-06\n",
      "Epoch 41/100\n",
      "38/38 [==============================] - ETA: 0s - loss: 0.0068 - accuracy: 1.0000\n",
      "Epoch 41: val_accuracy did not improve from 0.96285\n",
      "38/38 [==============================] - 3s 85ms/step - loss: 0.0068 - accuracy: 1.0000 - val_loss: 0.1477 - val_accuracy: 0.9567 - lr: 1.0000e-07\n",
      "Epoch 42/100\n",
      "38/38 [==============================] - ETA: 0s - loss: 0.0097 - accuracy: 0.9987\n",
      "Epoch 42: val_accuracy did not improve from 0.96285\n",
      "38/38 [==============================] - 3s 84ms/step - loss: 0.0097 - accuracy: 0.9987 - val_loss: 0.1477 - val_accuracy: 0.9567 - lr: 1.0000e-07\n",
      "Epoch 43/100\n",
      "38/38 [==============================] - ETA: 0s - loss: 0.0080 - accuracy: 0.9973\n",
      "Epoch 43: val_accuracy did not improve from 0.96285\n",
      "38/38 [==============================] - 3s 84ms/step - loss: 0.0080 - accuracy: 0.9973 - val_loss: 0.1477 - val_accuracy: 0.9567 - lr: 1.0000e-07\n",
      "Epoch 44/100\n",
      "38/38 [==============================] - ETA: 0s - loss: 0.0083 - accuracy: 1.0000\n",
      "Epoch 44: val_accuracy did not improve from 0.96285\n",
      "38/38 [==============================] - 3s 83ms/step - loss: 0.0083 - accuracy: 1.0000 - val_loss: 0.1477 - val_accuracy: 0.9567 - lr: 1.0000e-07\n",
      "Epoch 45/100\n",
      "38/38 [==============================] - ETA: 0s - loss: 0.0064 - accuracy: 1.0000\n",
      "Epoch 45: val_accuracy did not improve from 0.96285\n",
      "\n",
      "Epoch 45: ReduceLROnPlateau reducing learning rate to 1.000000082740371e-08.\n",
      "38/38 [==============================] - 3s 83ms/step - loss: 0.0064 - accuracy: 1.0000 - val_loss: 0.1477 - val_accuracy: 0.9567 - lr: 1.0000e-07\n",
      "Epoch 46/100\n",
      "38/38 [==============================] - ETA: 0s - loss: 0.0067 - accuracy: 1.0000\n",
      "Epoch 46: val_accuracy did not improve from 0.96285\n",
      "38/38 [==============================] - 3s 83ms/step - loss: 0.0067 - accuracy: 1.0000 - val_loss: 0.1477 - val_accuracy: 0.9567 - lr: 1.0000e-08\n",
      "Epoch 47/100\n",
      "38/38 [==============================] - ETA: 0s - loss: 0.0072 - accuracy: 1.0000\n",
      "Epoch 47: val_accuracy did not improve from 0.96285\n",
      "38/38 [==============================] - 3s 83ms/step - loss: 0.0072 - accuracy: 1.0000 - val_loss: 0.1477 - val_accuracy: 0.9567 - lr: 1.0000e-08\n",
      "Epoch 48/100\n",
      "38/38 [==============================] - ETA: 0s - loss: 0.0088 - accuracy: 0.9973\n",
      "Epoch 48: val_accuracy did not improve from 0.96285\n",
      "38/38 [==============================] - 3s 83ms/step - loss: 0.0088 - accuracy: 0.9973 - val_loss: 0.1477 - val_accuracy: 0.9567 - lr: 1.0000e-08\n",
      "Epoch 49/100\n",
      "38/38 [==============================] - ETA: 0s - loss: 0.0069 - accuracy: 1.0000\n",
      "Epoch 49: val_accuracy did not improve from 0.96285\n",
      "38/38 [==============================] - 3s 83ms/step - loss: 0.0069 - accuracy: 1.0000 - val_loss: 0.1477 - val_accuracy: 0.9567 - lr: 1.0000e-08\n",
      "Epoch 50/100\n",
      "38/38 [==============================] - ETA: 0s - loss: 0.0064 - accuracy: 1.0000\n",
      "Epoch 50: val_accuracy did not improve from 0.96285\n",
      "Restoring model weights from the end of the best epoch: 30.\n",
      "\n",
      "Epoch 50: ReduceLROnPlateau reducing learning rate to 1.000000082740371e-09.\n",
      "38/38 [==============================] - 3s 85ms/step - loss: 0.0064 - accuracy: 1.0000 - val_loss: 0.1477 - val_accuracy: 0.9567 - lr: 1.0000e-08\n",
      "Epoch 50: early stopping\n"
     ]
    }
   ],
   "source": [
    "# Define the number of epochs\n",
    "num_epochs = 100\n",
    "\n",
    "# Train the model\n",
    "history_Xception_model_2 = Xception_model2.fit(train_generator, epochs=num_epochs, validation_data=validation_generator, callbacks=callbacks)"
   ]
  },
  {
   "cell_type": "code",
   "execution_count": 27,
   "metadata": {},
   "outputs": [
    {
     "data": {
      "text/plain": [
       "<matplotlib.legend.Legend at 0x19ebafd12a0>"
      ]
     },
     "execution_count": 27,
     "metadata": {},
     "output_type": "execute_result"
    },
    {
     "data": {
      "image/png": "[encoded data removed]",
      "text/plain": [
       "<Figure size 640x480 with 1 Axes>"
      ]
     },
     "metadata": {},
     "output_type": "display_data"
    },
    {
     "data": {
      "image/png": "[encoded data removed]",
      "text/plain": [
       "<Figure size 640x480 with 1 Axes>"
      ]
     },
     "metadata": {},
     "output_type": "display_data"
    }
   ],
   "source": [
    "#-----------------------------------------------------------\n",
    "# Retrieve a list of list results on training and test data\n",
    "# sets for each training epoch\n",
    "#-----------------------------------------------------------\n",
    "acc      = history_Xception_model_2.history['accuracy' ]\n",
    "val_acc  = history_Xception_model_2.history['val_accuracy' ]\n",
    "loss     = history_Xception_model_2.history['loss' ]\n",
    "val_loss = history_Xception_model_2.history['val_loss' ]\n",
    "\n",
    "epochs   = range(len(acc)) # Get number of epochs\n",
    "\n",
    "#------------------------------------------------\n",
    "# Plot training and validation accuracy per epoch\n",
    "#------------------------------------------------\n",
    "plt.plot  (epochs, acc )\n",
    "plt.plot  (epochs, val_acc )\n",
    "plt.title ('Training and validation accuracy Xception Model 2')\n",
    "plt.legend(['train', 'val'], loc='upper left')\n",
    "plt.figure()\n",
    "\n",
    "#------------------------------------------------\n",
    "# Plot training and validation loss per epoch\n",
    "#------------------------------------------------\n",
    "plt.plot  (epochs, loss)\n",
    "plt.plot  (epochs, val_loss)\n",
    "plt.title ('Training and validation loss Xception Model 2')\n",
    "plt.legend(['train', 'val'], loc='upper left')"
   ]
  }
 ],
 "metadata": {
  "kernelspec": {
   "display_name": "tensorflow_gpu_zein",
   "language": "python",
   "name": "python3"
  },
  "language_info": {
   "codemirror_mode": {
    "name": "ipython",
    "version": 3
   },
   "file_extension": ".py",
   "mimetype": "text/x-python",
   "name": "python",
   "nbconvert_exporter": "python",
   "pygments_lexer": "ipython3",
   "version": "3.10.0"
  },
  "orig_nbformat": 4
 },
 "nbformat": 4,
 "nbformat_minor": 2
}
