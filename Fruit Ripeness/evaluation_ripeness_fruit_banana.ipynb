{
  "nbformat": 4,
  "nbformat_minor": 0,
  "metadata": {
    "colab": {
      "provenance": []
    },
    "kernelspec": {
      "name": "python3",
      "display_name": "Python 3"
    },
    "language_info": {
      "name": "python"
    }
  },
  "cells": [
    {
      "cell_type": "markdown",
      "source": [
        "# **Preparation**"
      ],
      "metadata": {
        "id": "bPvCx5EwLyqG"
      }
    },
    {
      "cell_type": "code",
      "execution_count": 1,
      "metadata": {
        "id": "kqX78dgwEtmw"
      },
      "outputs": [],
      "source": [
        "# Library to dataset\n",
        "import os\n",
        "import zipfile\n",
        "import numpy as np\n",
        "import pandas as pd\n",
        "\n",
        "# Surpress Warnings\n",
        "import warnings\n",
        "warnings.filterwarnings('ignore')\n",
        "os.environ['TF_CPP_MIN_LOG_LEVEL'] = '3' \n",
        "# library visualization\n",
        "import matplotlib.pyplot as plt\n",
        "\n",
        "# Library Tensorflow\n",
        "import tensorflow as tf\n",
        "from tensorflow import keras\n",
        "from tensorflow.keras.preprocessing.image import ImageDataGenerator\n",
        "from tensorflow.keras.callbacks import ModelCheckpoint, EarlyStopping, ReduceLROnPlateau\n",
        "\n",
        "# Others\n",
        "import shutil\n",
        "import random\n",
        "\n",
        "# Confusion Matrix and Classification Report\n",
        "from sklearn.metrics import confusion_matrix, classification_report\n",
        "from mlxtend.plotting import plot_confusion_matrix\n",
        "from sklearn.metrics import f1_score"
      ]
    },
    {
      "cell_type": "code",
      "source": [
        "val_dir = \"/content/drive/MyDrive/Banana Ripeness Classification/valid\""
      ],
      "metadata": {
        "id": "VLuO72ELHWEo"
      },
      "execution_count": 4,
      "outputs": []
    },
    {
      "cell_type": "code",
      "source": [
        "val_data = tf.keras.preprocessing.image_dataset_from_directory(\n",
        "    val_dir,\n",
        "    label_mode='categorical',\n",
        "    class_names=['overripe', 'ripe', 'rotten', 'unripe'],\n",
        "    batch_size=1,\n",
        "    image_size=(224, 224),\n",
        "    shuffle=False\n",
        ")"
      ],
      "metadata": {
        "colab": {
          "base_uri": "https://localhost:8080/"
        },
        "id": "C1G51KrvE8vN",
        "outputId": "ef2e3eca-5edf-48c7-c7ad-4a0824a6ce70"
      },
      "execution_count": 5,
      "outputs": [
        {
          "output_type": "stream",
          "name": "stdout",
          "text": [
            "Found 1685 files belonging to 4 classes.\n"
          ]
        }
      ]
    },
    {
      "cell_type": "code",
      "source": [
        "val_datagen = ImageDataGenerator(rescale=1./255.)"
      ],
      "metadata": {
        "id": "XRHUbOdxHEqd"
      },
      "execution_count": 6,
      "outputs": []
    },
    {
      "cell_type": "code",
      "source": [
        "validation_generator = val_datagen.flow_from_directory(val_dir,\n",
        "                                                       batch_size=1,\n",
        "                                                       class_mode='categorical',\n",
        "                                                       target_size=(224, 224),\n",
        "                                                       shuffle=False)"
      ],
      "metadata": {
        "colab": {
          "base_uri": "https://localhost:8080/"
        },
        "id": "eKjZL_wvHOta",
        "outputId": "075d2fac-8f88-4675-f13d-696139e89f81"
      },
      "execution_count": 7,
      "outputs": [
        {
          "output_type": "stream",
          "name": "stdout",
          "text": [
            "Found 1685 images belonging to 4 classes.\n"
          ]
        }
      ]
    },
    {
      "cell_type": "code",
      "source": [
        "xception_dir = '/content/drive/MyDrive/Banana Ripeness Classification/banana_xception.zip'\n",
        "densenet_dir = '/content/drive/MyDrive/Banana Ripeness Classification/banana_densenet121.zip'"
      ],
      "metadata": {
        "id": "wWWIAUlUHu-o"
      },
      "execution_count": 8,
      "outputs": []
    },
    {
      "cell_type": "code",
      "source": [
        "!unzip '/content/drive/MyDrive/Banana Ripeness Classification/banana_xception.zip' -d '/content/xception'\n",
        "!unzip '/content/drive/MyDrive/Banana Ripeness Classification/banana_densenet121.zip' -d '/content/densenet121'"
      ],
      "metadata": {
        "colab": {
          "base_uri": "https://localhost:8080/"
        },
        "id": "ikbaWGCFHuX9",
        "outputId": "823243a5-afee-4bbd-e0ec-8a0bb4d40989"
      },
      "execution_count": 10,
      "outputs": [
        {
          "output_type": "stream",
          "name": "stdout",
          "text": [
            "Archive:  /content/drive/MyDrive/Banana Ripeness Classification/banana_xception.zip\n",
            "   creating: /content/xception/content/checkpoint/xception/\n",
            "  inflating: /content/xception/content/checkpoint/xception/saved_model.pb  \n",
            "  inflating: /content/xception/content/checkpoint/xception/keras_metadata.pb  \n",
            "   creating: /content/xception/content/checkpoint/xception/variables/\n",
            "  inflating: /content/xception/content/checkpoint/xception/variables/variables.data-00000-of-00001  \n",
            "  inflating: /content/xception/content/checkpoint/xception/variables/variables.index  \n",
            "   creating: /content/xception/content/checkpoint/xception/assets/\n",
            " extracting: /content/xception/content/checkpoint/xception/fingerprint.pb  \n",
            "Archive:  /content/drive/MyDrive/Banana Ripeness Classification/banana_densenet121.zip\n",
            "   creating: /content/densenet121/content/checkpoint/densenet121/\n",
            "  inflating: /content/densenet121/content/checkpoint/densenet121/keras_metadata.pb  \n",
            "   creating: /content/densenet121/content/checkpoint/densenet121/assets/\n",
            " extracting: /content/densenet121/content/checkpoint/densenet121/fingerprint.pb  \n",
            "   creating: /content/densenet121/content/checkpoint/densenet121/variables/\n",
            "  inflating: /content/densenet121/content/checkpoint/densenet121/variables/variables.index  \n",
            "  inflating: /content/densenet121/content/checkpoint/densenet121/variables/variables.data-00000-of-00001  \n",
            "  inflating: /content/densenet121/content/checkpoint/densenet121/saved_model.pb  \n"
          ]
        }
      ]
    },
    {
      "cell_type": "code",
      "source": [
        "target_names = ['overripe', 'ripe', 'rotten', 'unripe']"
      ],
      "metadata": {
        "id": "L-sZ_ZShLFvJ"
      },
      "execution_count": 16,
      "outputs": []
    },
    {
      "cell_type": "markdown",
      "source": [
        "# **Model Evaluation (Xception)**"
      ],
      "metadata": {
        "id": "UF6EdZK4LqG2"
      }
    },
    {
      "cell_type": "code",
      "source": [
        "model_xception = tf.keras.saving.load_model(\n",
        "    '/content/xception/content/checkpoint/xception', custom_objects=None, compile=True, safe_mode=True\n",
        "    )"
      ],
      "metadata": {
        "id": "KlTj1CZLHfvI"
      },
      "execution_count": 11,
      "outputs": []
    },
    {
      "cell_type": "code",
      "source": [
        "# evaluate model\n",
        "print(\"==========================Evaluate Model====================\")\n",
        "scores_xception = model_xception.evaluate(validation_generator, verbose=1)\n",
        "print(\"Accuracy: %.6f%%\" % (scores_xception[1]*100))\n",
        "print(\"Loss: %.6f%%\" % (scores_xception[0]*100))"
      ],
      "metadata": {
        "colab": {
          "base_uri": "https://localhost:8080/"
        },
        "id": "5QwXWRY4Ib7-",
        "outputId": "610f4a25-4133-4969-904d-e63ed69c6a09"
      },
      "execution_count": 12,
      "outputs": [
        {
          "output_type": "stream",
          "name": "stdout",
          "text": [
            "==========================Evaluate Model====================\n",
            "1685/1685 [==============================] - 395s 234ms/step - loss: 0.0882 - accuracy: 0.9680\n",
            "Accuracy: 96.795255%\n",
            "Loss: 8.816975%\n"
          ]
        }
      ]
    },
    {
      "cell_type": "code",
      "source": [
        "print(\"==========================Confusion Matrix====================\")\n",
        "y_pred = model_xception.predict(validation_generator)\n",
        "y_pred = np.argmax(y_pred, axis=1)\n",
        "cm = confusion_matrix(validation_generator.classes, y_pred)\n",
        "fig, ax = plot_confusion_matrix(conf_mat=cm ,  figsize=(5, 5))\n",
        "ax.set_xticklabels([''] + target_names, rotation=45)\n",
        "ax.set_yticklabels([''] + target_names, rotation=45)\n",
        "plt.show()"
      ],
      "metadata": {
        "colab": {
          "base_uri": "https://localhost:8080/",
          "height": 537
        },
        "id": "s0fUN624J39w",
        "outputId": "8b796895-aa9f-4011-f231-cf4a827ef3f4"
      },
      "execution_count": 13,
      "outputs": [
        {
          "output_type": "stream",
          "name": "stdout",
          "text": [
            "==========================Confusion Matrix====================\n",
            "1685/1685 [==============================] - 271s 160ms/step\n"
          ]
        },
        {
          "output_type": "display_data",
          "data": {
            "text/plain": [
              "<Figure size 500x500 with 1 Axes>"
            ],
            "image/png": "[encoded data removed]"
          },
          "metadata": {}
        }
      ]
    },
    {
      "cell_type": "code",
      "source": [
        "print(\"==========================Classification Report====================\")\n",
        "print('Classification Report')\n",
        "\n",
        "print(classification_report(validation_generator.classes, y_pred, target_names=target_names))"
      ],
      "metadata": {
        "colab": {
          "base_uri": "https://localhost:8080/"
        },
        "id": "TWMhg_7GK3xo",
        "outputId": "3a0d34d2-1af6-4135-9ee5-37b81a5228a3"
      },
      "execution_count": 14,
      "outputs": [
        {
          "output_type": "stream",
          "name": "stdout",
          "text": [
            "==========================Classification Report====================\n",
            "Classification Report\n",
            "              precision    recall  f1-score   support\n",
            "\n",
            "    overripe       0.96      0.94      0.95       342\n",
            "        ripe       0.95      0.98      0.97       493\n",
            "      rotten       0.98      0.97      0.97       573\n",
            "      unripe       0.98      0.99      0.98       277\n",
            "\n",
            "    accuracy                           0.97      1685\n",
            "   macro avg       0.97      0.97      0.97      1685\n",
            "weighted avg       0.97      0.97      0.97      1685\n",
            "\n"
          ]
        }
      ]
    },
    {
      "cell_type": "code",
      "source": [
        "print(\"==========================F1 Score====================\")\n",
        "f1_xception = f1_score(validation_generator.classes, y_pred, average='macro')\n",
        "print('F1 Score : ', f1_xception)"
      ],
      "metadata": {
        "colab": {
          "base_uri": "https://localhost:8080/"
        },
        "id": "dB0OdbkfK5rG",
        "outputId": "e8d51213-fb55-46e8-b4fc-1ff0230ce373"
      },
      "execution_count": 15,
      "outputs": [
        {
          "output_type": "stream",
          "name": "stdout",
          "text": [
            "==========================F1 Score====================\n",
            "F1 Score :  0.9678636933611139\n"
          ]
        }
      ]
    },
    {
      "cell_type": "markdown",
      "source": [
        "# **Model Evaluation (DenseNet121)**"
      ],
      "metadata": {
        "id": "I5BCLZPMMJyK"
      }
    },
    {
      "cell_type": "code",
      "source": [
        "model_densenet121 = tf.keras.saving.load_model(\n",
        "    '/content/densenet121/content/checkpoint/densenet121', custom_objects=None, compile=True, safe_mode=True\n",
        "    )"
      ],
      "metadata": {
        "id": "g4--275XMJyK"
      },
      "execution_count": 17,
      "outputs": []
    },
    {
      "cell_type": "code",
      "source": [
        "# evaluate model\n",
        "print(\"==========================Evaluate Model====================\")\n",
        "scores_densenet121 = model_densenet121.evaluate(validation_generator, verbose=1)\n",
        "print(\"Accuracy: %.6f%%\" % (scores_densenet121[1]*100))\n",
        "print(\"Loss: %.6f%%\" % (scores_densenet121[0]*100))"
      ],
      "metadata": {
        "colab": {
          "base_uri": "https://localhost:8080/"
        },
        "outputId": "af666904-cd62-405a-f41e-8c82555a70aa",
        "id": "vCstULHyMJyL"
      },
      "execution_count": 18,
      "outputs": [
        {
          "output_type": "stream",
          "name": "stdout",
          "text": [
            "==========================Evaluate Model====================\n",
            "1685/1685 [==============================] - 189s 112ms/step - loss: 0.0916 - accuracy: 0.9727\n",
            "Accuracy: 97.270030%\n",
            "Loss: 9.164669%\n"
          ]
        }
      ]
    },
    {
      "cell_type": "code",
      "source": [
        "print(\"==========================Confusion Matrix====================\")\n",
        "y_pred = model_densenet121.predict(validation_generator)\n",
        "y_pred = np.argmax(y_pred, axis=1)\n",
        "cm = confusion_matrix(validation_generator.classes, y_pred)\n",
        "fig, ax = plot_confusion_matrix(conf_mat=cm ,  figsize=(5, 5))\n",
        "ax.set_xticklabels([''] + target_names, rotation=45)\n",
        "ax.set_yticklabels([''] + target_names, rotation=45)\n",
        "plt.show()"
      ],
      "metadata": {
        "colab": {
          "base_uri": "https://localhost:8080/",
          "height": 537
        },
        "outputId": "ab1ef2ba-a1ba-498b-d648-862aa114fc97",
        "id": "hWtpBtRTMJyL"
      },
      "execution_count": 19,
      "outputs": [
        {
          "output_type": "stream",
          "name": "stdout",
          "text": [
            "==========================Confusion Matrix====================\n",
            "1685/1685 [==============================] - 188s 110ms/step\n"
          ]
        },
        {
          "output_type": "display_data",
          "data": {
            "text/plain": [
              "<Figure size 500x500 with 1 Axes>"
            ],
            "image/png": "[encoded data removed]"
          },
          "metadata": {}
        }
      ]
    },
    {
      "cell_type": "code",
      "source": [
        "print(\"==========================Classification Report====================\")\n",
        "print('Classification Report')\n",
        "\n",
        "print(classification_report(validation_generator.classes, y_pred, target_names=target_names))"
      ],
      "metadata": {
        "colab": {
          "base_uri": "https://localhost:8080/"
        },
        "id": "V9G6zQ9QMJyL",
        "outputId": "3ad62dac-ebf4-4aea-9482-f278c804be37"
      },
      "execution_count": 20,
      "outputs": [
        {
          "output_type": "stream",
          "name": "stdout",
          "text": [
            "==========================Classification Report====================\n",
            "Classification Report\n",
            "              precision    recall  f1-score   support\n",
            "\n",
            "    overripe       0.96      0.94      0.95       342\n",
            "        ripe       0.97      0.98      0.98       493\n",
            "      rotten       0.98      0.97      0.98       573\n",
            "      unripe       0.98      0.99      0.98       277\n",
            "\n",
            "    accuracy                           0.97      1685\n",
            "   macro avg       0.97      0.97      0.97      1685\n",
            "weighted avg       0.97      0.97      0.97      1685\n",
            "\n"
          ]
        }
      ]
    },
    {
      "cell_type": "code",
      "source": [
        "print(\"==========================F1 Score====================\")\n",
        "f1_densenet121 = f1_score(validation_generator.classes, y_pred, average='macro')\n",
        "print('F1 Score : ', f1_densenet121)"
      ],
      "metadata": {
        "colab": {
          "base_uri": "https://localhost:8080/"
        },
        "id": "waYUOMWqMJyL",
        "outputId": "06d106d1-54f2-4ae0-cf00-a291cf21b2dd"
      },
      "execution_count": 21,
      "outputs": [
        {
          "output_type": "stream",
          "name": "stdout",
          "text": [
            "==========================F1 Score====================\n",
            "F1 Score :  0.9722409617294482\n"
          ]
        }
      ]
    },
    {
      "cell_type": "code",
      "source": [],
      "metadata": {
        "id": "h5bgQYk4K6OK"
      },
      "execution_count": null,
      "outputs": []
    }
  ]
}