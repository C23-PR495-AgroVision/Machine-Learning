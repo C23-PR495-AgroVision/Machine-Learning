{
  "nbformat": 4,
  "nbformat_minor": 0,
  "metadata": {
    "colab": {
      "provenance": []
    },
    "kernelspec": {
      "name": "python3",
      "display_name": "Python 3"
    },
    "language_info": {
      "name": "python"
    }
  },
  "cells": [
    {
      "cell_type": "markdown",
      "source": [
        "# **Preparation**"
      ],
      "metadata": {
        "id": "bPvCx5EwLyqG"
      }
    },
    {
      "cell_type": "code",
      "execution_count": 1,
      "metadata": {
        "id": "kqX78dgwEtmw"
      },
      "outputs": [],
      "source": [
        "# Library to dataset\n",
        "import os\n",
        "import zipfile\n",
        "import numpy as np\n",
        "import pandas as pd\n",
        "\n",
        "# Surpress Warnings\n",
        "import warnings\n",
        "warnings.filterwarnings('ignore')\n",
        "os.environ['TF_CPP_MIN_LOG_LEVEL'] = '3' \n",
        "# library visualization\n",
        "import matplotlib.pyplot as plt\n",
        "\n",
        "# Library Tensorflow\n",
        "import tensorflow as tf\n",
        "from tensorflow import keras\n",
        "from tensorflow.keras.preprocessing.image import ImageDataGenerator\n",
        "from tensorflow.keras.callbacks import ModelCheckpoint, EarlyStopping, ReduceLROnPlateau\n",
        "\n",
        "# Others\n",
        "import shutil\n",
        "import random\n",
        "\n",
        "# Confusion Matrix and Classification Report\n",
        "from sklearn.metrics import confusion_matrix, classification_report\n",
        "from mlxtend.plotting import plot_confusion_matrix\n",
        "from sklearn.metrics import f1_score"
      ]
    },
    {
      "cell_type": "code",
      "source": [
        "val_dir = \"/content/drive/MyDrive/FruitNet-Dataset/Guava/valid\""
      ],
      "metadata": {
        "id": "VLuO72ELHWEo"
      },
      "execution_count": 2,
      "outputs": []
    },
    {
      "cell_type": "code",
      "source": [
        "val_data = tf.keras.preprocessing.image_dataset_from_directory(\n",
        "    val_dir,\n",
        "    label_mode='categorical',\n",
        "    class_names=['bad', 'good'],\n",
        "    batch_size=1,\n",
        "    image_size=(224, 224),\n",
        "    shuffle=False\n",
        ")"
      ],
      "metadata": {
        "colab": {
          "base_uri": "https://localhost:8080/"
        },
        "id": "C1G51KrvE8vN",
        "outputId": "05290614-f19f-4ac6-f2d5-c04edbf45590"
      },
      "execution_count": 3,
      "outputs": [
        {
          "output_type": "stream",
          "name": "stdout",
          "text": [
            "Found 145 files belonging to 2 classes.\n"
          ]
        }
      ]
    },
    {
      "cell_type": "code",
      "source": [
        "val_datagen = ImageDataGenerator(rescale=1./255.)"
      ],
      "metadata": {
        "id": "XRHUbOdxHEqd"
      },
      "execution_count": 4,
      "outputs": []
    },
    {
      "cell_type": "code",
      "source": [
        "validation_generator = val_datagen.flow_from_directory(val_dir,\n",
        "                                                       batch_size=1,\n",
        "                                                       class_mode='categorical',\n",
        "                                                       target_size=(224, 224),\n",
        "                                                       shuffle=False)"
      ],
      "metadata": {
        "colab": {
          "base_uri": "https://localhost:8080/"
        },
        "id": "eKjZL_wvHOta",
        "outputId": "3d3894da-112b-4738-a092-e328034b0de5"
      },
      "execution_count": 5,
      "outputs": [
        {
          "output_type": "stream",
          "name": "stdout",
          "text": [
            "Found 145 images belonging to 2 classes.\n"
          ]
        }
      ]
    },
    {
      "cell_type": "code",
      "source": [
        "xception_dir = '/content/drive/MyDrive/FruitNet-Dataset/guava_xception.zip'\n",
        "mobilenet_dir = '/content/drive/MyDrive/FruitNet-Dataset/guava_mobilenetv2.zip'\n",
        "densenet_dir = '/content/drive/MyDrive/FruitNet-Dataset/guava_densenet121.zip'"
      ],
      "metadata": {
        "id": "wWWIAUlUHu-o"
      },
      "execution_count": 6,
      "outputs": []
    },
    {
      "cell_type": "code",
      "source": [
        "!unzip '/content/drive/MyDrive/FruitNet-Dataset/guava_xception.zip' -d '/content/xception'\n",
        "!unzip '/content/drive/MyDrive/FruitNet-Dataset/guava_mobilenetv2.zip' -d '/content/mobilenetv2'\n",
        "!unzip '/content/drive/MyDrive/FruitNet-Dataset/guava_densenet121.zip' -d '/content/densenet121'"
      ],
      "metadata": {
        "colab": {
          "base_uri": "https://localhost:8080/"
        },
        "id": "ikbaWGCFHuX9",
        "outputId": "cfd1bb4f-e1d1-4326-a32c-90e52bb3cae0"
      },
      "execution_count": 7,
      "outputs": [
        {
          "output_type": "stream",
          "name": "stdout",
          "text": [
            "Archive:  /content/drive/MyDrive/FruitNet-Dataset/guava_xception.zip\n",
            "   creating: /content/xception/content/checkpoint/xception/\n",
            "   creating: /content/xception/content/checkpoint/xception/variables/\n",
            "  inflating: /content/xception/content/checkpoint/xception/variables/variables.data-00000-of-00001  \n",
            "  inflating: /content/xception/content/checkpoint/xception/variables/variables.index  \n",
            "   creating: /content/xception/content/checkpoint/xception/assets/\n",
            " extracting: /content/xception/content/checkpoint/xception/fingerprint.pb  \n",
            "  inflating: /content/xception/content/checkpoint/xception/saved_model.pb  \n",
            "  inflating: /content/xception/content/checkpoint/xception/keras_metadata.pb  \n",
            "Archive:  /content/drive/MyDrive/FruitNet-Dataset/guava_mobilenetv2.zip\n",
            "   creating: /content/mobilenetv2/content/checkpoint/mobilenetv2/\n",
            "   creating: /content/mobilenetv2/content/checkpoint/mobilenetv2/variables/\n",
            "  inflating: /content/mobilenetv2/content/checkpoint/mobilenetv2/variables/variables.data-00000-of-00001  \n",
            "  inflating: /content/mobilenetv2/content/checkpoint/mobilenetv2/variables/variables.index  \n",
            "   creating: /content/mobilenetv2/content/checkpoint/mobilenetv2/assets/\n",
            " extracting: /content/mobilenetv2/content/checkpoint/mobilenetv2/fingerprint.pb  \n",
            "  inflating: /content/mobilenetv2/content/checkpoint/mobilenetv2/saved_model.pb  \n",
            "  inflating: /content/mobilenetv2/content/checkpoint/mobilenetv2/keras_metadata.pb  \n",
            "Archive:  /content/drive/MyDrive/FruitNet-Dataset/guava_densenet121.zip\n",
            "   creating: /content/densenet121/content/checkpoint/densenet121/\n",
            "   creating: /content/densenet121/content/checkpoint/densenet121/variables/\n",
            "  inflating: /content/densenet121/content/checkpoint/densenet121/variables/variables.data-00000-of-00001  \n",
            "  inflating: /content/densenet121/content/checkpoint/densenet121/variables/variables.index  \n",
            "   creating: /content/densenet121/content/checkpoint/densenet121/assets/\n",
            " extracting: /content/densenet121/content/checkpoint/densenet121/fingerprint.pb  \n",
            "  inflating: /content/densenet121/content/checkpoint/densenet121/saved_model.pb  \n",
            "  inflating: /content/densenet121/content/checkpoint/densenet121/keras_metadata.pb  \n"
          ]
        }
      ]
    },
    {
      "cell_type": "code",
      "source": [
        "target_names = ['bad', 'good']"
      ],
      "metadata": {
        "id": "L-sZ_ZShLFvJ"
      },
      "execution_count": 8,
      "outputs": []
    },
    {
      "cell_type": "markdown",
      "source": [
        "# **Model Evaluation (Xception)**"
      ],
      "metadata": {
        "id": "UF6EdZK4LqG2"
      }
    },
    {
      "cell_type": "code",
      "source": [
        "model_xception = tf.keras.saving.load_model(\n",
        "    '/content/xception/content/checkpoint/xception', custom_objects=None, compile=True, safe_mode=True\n",
        "    )"
      ],
      "metadata": {
        "id": "KlTj1CZLHfvI"
      },
      "execution_count": 9,
      "outputs": []
    },
    {
      "cell_type": "code",
      "source": [
        "# evaluate model\n",
        "print(\"==========================Evaluate Model====================\")\n",
        "scores_xception = model_xception.evaluate(validation_generator, verbose=1)\n",
        "print(\"Accuracy: %.6f%%\" % (scores_xception[1]*100))\n",
        "print(\"Loss: %.6f%%\" % (scores_xception[0]*100))"
      ],
      "metadata": {
        "colab": {
          "base_uri": "https://localhost:8080/"
        },
        "id": "5QwXWRY4Ib7-",
        "outputId": "241b6d4f-4df1-405a-9ecf-fae244a228c0"
      },
      "execution_count": 10,
      "outputs": [
        {
          "output_type": "stream",
          "name": "stdout",
          "text": [
            "==========================Evaluate Model====================\n",
            "145/145 [==============================] - 38s 254ms/step - loss: 0.0098 - accuracy: 1.0000\n",
            "Accuracy: 100.000000%\n",
            "Loss: 0.984316%\n"
          ]
        }
      ]
    },
    {
      "cell_type": "code",
      "source": [
        "print(\"==========================Confusion Matrix====================\")\n",
        "y_pred = model_xception.predict(validation_generator)\n",
        "y_pred = np.argmax(y_pred, axis=1)\n",
        "cm = confusion_matrix(validation_generator.classes, y_pred)\n",
        "fig, ax = plot_confusion_matrix(conf_mat=cm ,  figsize=(5, 5))\n",
        "ax.set_xticklabels([''] + target_names, rotation=45)\n",
        "ax.set_yticklabels([''] + target_names, rotation=45)\n",
        "plt.show()"
      ],
      "metadata": {
        "colab": {
          "base_uri": "https://localhost:8080/",
          "height": 520
        },
        "id": "s0fUN624J39w",
        "outputId": "a6929e5a-84ce-4bd8-e907-57d2829708f1"
      },
      "execution_count": 11,
      "outputs": [
        {
          "output_type": "stream",
          "name": "stdout",
          "text": [
            "==========================Confusion Matrix====================\n",
            "145/145 [==============================] - 25s 167ms/step\n"
          ]
        },
        {
          "output_type": "display_data",
          "data": {
            "text/plain": [
              "<Figure size 500x500 with 1 Axes>"
            ],
            "image/png": "[encoded data removed]"
          },
          "metadata": {}
        }
      ]
    },
    {
      "cell_type": "code",
      "source": [
        "print(\"==========================Classification Report====================\")\n",
        "print('Classification Report')\n",
        "\n",
        "print(classification_report(validation_generator.classes, y_pred, target_names=target_names))"
      ],
      "metadata": {
        "colab": {
          "base_uri": "https://localhost:8080/"
        },
        "id": "TWMhg_7GK3xo",
        "outputId": "b1e7b67e-f729-4b4e-f74f-acf810ff20ea"
      },
      "execution_count": 12,
      "outputs": [
        {
          "output_type": "stream",
          "name": "stdout",
          "text": [
            "==========================Classification Report====================\n",
            "Classification Report\n",
            "              precision    recall  f1-score   support\n",
            "\n",
            "         bad       1.00      1.00      1.00        74\n",
            "        good       1.00      1.00      1.00        71\n",
            "\n",
            "    accuracy                           1.00       145\n",
            "   macro avg       1.00      1.00      1.00       145\n",
            "weighted avg       1.00      1.00      1.00       145\n",
            "\n"
          ]
        }
      ]
    },
    {
      "cell_type": "code",
      "source": [
        "print(\"==========================F1 Score====================\")\n",
        "f1_xception = f1_score(validation_generator.classes, y_pred, average='macro')\n",
        "print('F1 Score : ', f1_xception)"
      ],
      "metadata": {
        "colab": {
          "base_uri": "https://localhost:8080/"
        },
        "id": "dB0OdbkfK5rG",
        "outputId": "b52d9165-56d6-4515-98bd-05584ee0c819"
      },
      "execution_count": 13,
      "outputs": [
        {
          "output_type": "stream",
          "name": "stdout",
          "text": [
            "==========================F1 Score====================\n",
            "F1 Score :  1.0\n"
          ]
        }
      ]
    },
    {
      "cell_type": "markdown",
      "source": [
        "# **Model Evaluation (MobileNetV2)**"
      ],
      "metadata": {
        "id": "3gUTk24kT2QV"
      }
    },
    {
      "cell_type": "code",
      "source": [
        "model_mobilenetv2 = tf.keras.saving.load_model(\n",
        "    '/content/mobilenetv2/content/checkpoint/mobilenetv2', custom_objects=None, compile=True, safe_mode=True\n",
        "    )"
      ],
      "metadata": {
        "id": "dcfHeCPBT2QW"
      },
      "execution_count": 14,
      "outputs": []
    },
    {
      "cell_type": "code",
      "source": [
        "# evaluate model\n",
        "print(\"==========================Evaluate Model====================\")\n",
        "scores_mobilenetv2 = model_mobilenetv2.evaluate(validation_generator, verbose=1)\n",
        "print(\"Accuracy: %.6f%%\" % (scores_mobilenetv2[1]*100))\n",
        "print(\"Loss: %.6f%%\" % (scores_mobilenetv2[0]*100))"
      ],
      "metadata": {
        "colab": {
          "base_uri": "https://localhost:8080/"
        },
        "outputId": "60a4bdc0-1d9b-40ac-8901-5be6c6b2d43b",
        "id": "iHBvDn1RT2QX"
      },
      "execution_count": 15,
      "outputs": [
        {
          "output_type": "stream",
          "name": "stdout",
          "text": [
            "==========================Evaluate Model====================\n",
            "145/145 [==============================] - 6s 37ms/step - loss: 0.0380 - accuracy: 1.0000\n",
            "Accuracy: 100.000000%\n",
            "Loss: 3.802680%\n"
          ]
        }
      ]
    },
    {
      "cell_type": "code",
      "source": [
        "print(\"==========================Confusion Matrix====================\")\n",
        "y_pred = model_mobilenetv2.predict(validation_generator)\n",
        "y_pred = np.argmax(y_pred, axis=1)\n",
        "cm = confusion_matrix(validation_generator.classes, y_pred)\n",
        "fig, ax = plot_confusion_matrix(conf_mat=cm ,  figsize=(5, 5))\n",
        "ax.set_xticklabels([''] + target_names, rotation=45)\n",
        "ax.set_yticklabels([''] + target_names, rotation=45)\n",
        "plt.show()"
      ],
      "metadata": {
        "colab": {
          "base_uri": "https://localhost:8080/",
          "height": 520
        },
        "outputId": "512ad17a-53b4-41be-f39b-aaac9c7588bf",
        "id": "jfOHs3MGT2QX"
      },
      "execution_count": 16,
      "outputs": [
        {
          "output_type": "stream",
          "name": "stdout",
          "text": [
            "==========================Confusion Matrix====================\n",
            "145/145 [==============================] - 6s 33ms/step\n"
          ]
        },
        {
          "output_type": "display_data",
          "data": {
            "text/plain": [
              "<Figure size 500x500 with 1 Axes>"
            ],
            "image/png": "[encoded data removed]"
          },
          "metadata": {}
        }
      ]
    },
    {
      "cell_type": "code",
      "source": [
        "print(\"==========================Classification Report====================\")\n",
        "print('Classification Report')\n",
        "\n",
        "print(classification_report(validation_generator.classes, y_pred, target_names=target_names))"
      ],
      "metadata": {
        "colab": {
          "base_uri": "https://localhost:8080/"
        },
        "outputId": "7222041e-fc00-46d8-bfb0-a6ba3171189b",
        "id": "cON9pTLoT2QX"
      },
      "execution_count": 17,
      "outputs": [
        {
          "output_type": "stream",
          "name": "stdout",
          "text": [
            "==========================Classification Report====================\n",
            "Classification Report\n",
            "              precision    recall  f1-score   support\n",
            "\n",
            "         bad       1.00      1.00      1.00        74\n",
            "        good       1.00      1.00      1.00        71\n",
            "\n",
            "    accuracy                           1.00       145\n",
            "   macro avg       1.00      1.00      1.00       145\n",
            "weighted avg       1.00      1.00      1.00       145\n",
            "\n"
          ]
        }
      ]
    },
    {
      "cell_type": "code",
      "source": [
        "print(\"==========================F1 Score====================\")\n",
        "f1_mobilenetv2 = f1_score(validation_generator.classes, y_pred, average='macro')\n",
        "print('F1 Score : ', f1_mobilenetv2)"
      ],
      "metadata": {
        "colab": {
          "base_uri": "https://localhost:8080/"
        },
        "outputId": "4534e4a6-024f-4294-b895-c66917b94513",
        "id": "_n7AYPgsT2QX"
      },
      "execution_count": 18,
      "outputs": [
        {
          "output_type": "stream",
          "name": "stdout",
          "text": [
            "==========================F1 Score====================\n",
            "F1 Score :  1.0\n"
          ]
        }
      ]
    },
    {
      "cell_type": "markdown",
      "source": [
        "# **Model Evaluation (DenseNet121)**"
      ],
      "metadata": {
        "id": "I5BCLZPMMJyK"
      }
    },
    {
      "cell_type": "code",
      "source": [
        "model_densenet121 = tf.keras.saving.load_model(\n",
        "    '/content/densenet121/content/checkpoint/densenet121', custom_objects=None, compile=True, safe_mode=True\n",
        "    )"
      ],
      "metadata": {
        "id": "g4--275XMJyK"
      },
      "execution_count": 19,
      "outputs": []
    },
    {
      "cell_type": "code",
      "source": [
        "# evaluate model\n",
        "print(\"==========================Evaluate Model====================\")\n",
        "scores_densenet121 = model_densenet121.evaluate(validation_generator, verbose=1)\n",
        "print(\"Accuracy: %.6f%%\" % (scores_densenet121[1]*100))\n",
        "print(\"Loss: %.6f%%\" % (scores_densenet121[0]*100))"
      ],
      "metadata": {
        "colab": {
          "base_uri": "https://localhost:8080/"
        },
        "outputId": "e81cd34e-86dc-4e0e-fb87-a4c3446ed960",
        "id": "vCstULHyMJyL"
      },
      "execution_count": 20,
      "outputs": [
        {
          "output_type": "stream",
          "name": "stdout",
          "text": [
            "==========================Evaluate Model====================\n",
            "145/145 [==============================] - 21s 134ms/step - loss: 0.0099 - accuracy: 1.0000\n",
            "Accuracy: 100.000000%\n",
            "Loss: 0.990098%\n"
          ]
        }
      ]
    },
    {
      "cell_type": "code",
      "source": [
        "print(\"==========================Confusion Matrix====================\")\n",
        "y_pred = model_densenet121.predict(validation_generator)\n",
        "y_pred = np.argmax(y_pred, axis=1)\n",
        "cm = confusion_matrix(validation_generator.classes, y_pred)\n",
        "fig, ax = plot_confusion_matrix(conf_mat=cm ,  figsize=(5, 5))\n",
        "ax.set_xticklabels([''] + target_names, rotation=45)\n",
        "ax.set_yticklabels([''] + target_names, rotation=45)\n",
        "plt.show()"
      ],
      "metadata": {
        "colab": {
          "base_uri": "https://localhost:8080/",
          "height": 520
        },
        "outputId": "9b71de54-e114-4ace-9789-e4a48ebb0110",
        "id": "hWtpBtRTMJyL"
      },
      "execution_count": 21,
      "outputs": [
        {
          "output_type": "stream",
          "name": "stdout",
          "text": [
            "==========================Confusion Matrix====================\n",
            "145/145 [==============================] - 19s 121ms/step\n"
          ]
        },
        {
          "output_type": "display_data",
          "data": {
            "text/plain": [
              "<Figure size 500x500 with 1 Axes>"
            ],
            "image/png": "[encoded data removed]"
          },
          "metadata": {}
        }
      ]
    },
    {
      "cell_type": "code",
      "source": [
        "print(\"==========================Classification Report====================\")\n",
        "print('Classification Report')\n",
        "\n",
        "print(classification_report(validation_generator.classes, y_pred, target_names=target_names))"
      ],
      "metadata": {
        "colab": {
          "base_uri": "https://localhost:8080/"
        },
        "id": "V9G6zQ9QMJyL",
        "outputId": "5747270e-e893-45ec-999b-39409fb530f5"
      },
      "execution_count": 22,
      "outputs": [
        {
          "output_type": "stream",
          "name": "stdout",
          "text": [
            "==========================Classification Report====================\n",
            "Classification Report\n",
            "              precision    recall  f1-score   support\n",
            "\n",
            "         bad       1.00      1.00      1.00        74\n",
            "        good       1.00      1.00      1.00        71\n",
            "\n",
            "    accuracy                           1.00       145\n",
            "   macro avg       1.00      1.00      1.00       145\n",
            "weighted avg       1.00      1.00      1.00       145\n",
            "\n"
          ]
        }
      ]
    },
    {
      "cell_type": "code",
      "source": [
        "print(\"==========================F1 Score====================\")\n",
        "f1_densenet121 = f1_score(validation_generator.classes, y_pred, average='macro')\n",
        "print('F1 Score : ', f1_densenet121)"
      ],
      "metadata": {
        "colab": {
          "base_uri": "https://localhost:8080/"
        },
        "id": "waYUOMWqMJyL",
        "outputId": "673b9c07-bc4c-414e-c479-6d34834bcb2b"
      },
      "execution_count": 23,
      "outputs": [
        {
          "output_type": "stream",
          "name": "stdout",
          "text": [
            "==========================F1 Score====================\n",
            "F1 Score :  1.0\n"
          ]
        }
      ]
    },
    {
      "cell_type": "code",
      "source": [],
      "metadata": {
        "id": "h5bgQYk4K6OK"
      },
      "execution_count": 23,
      "outputs": []
    }
  ]
}