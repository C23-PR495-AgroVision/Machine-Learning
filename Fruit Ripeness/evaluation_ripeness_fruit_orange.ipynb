{
  "nbformat": 4,
  "nbformat_minor": 0,
  "metadata": {
    "colab": {
      "provenance": []
    },
    "kernelspec": {
      "name": "python3",
      "display_name": "Python 3"
    },
    "language_info": {
      "name": "python"
    }
  },
  "cells": [
    {
      "cell_type": "markdown",
      "source": [
        "# **Preparation**"
      ],
      "metadata": {
        "id": "bPvCx5EwLyqG"
      }
    },
    {
      "cell_type": "code",
      "execution_count": 1,
      "metadata": {
        "id": "kqX78dgwEtmw"
      },
      "outputs": [],
      "source": [
        "# Library to dataset\n",
        "import os\n",
        "import zipfile\n",
        "import numpy as np\n",
        "import pandas as pd\n",
        "\n",
        "# Surpress Warnings\n",
        "import warnings\n",
        "warnings.filterwarnings('ignore')\n",
        "os.environ['TF_CPP_MIN_LOG_LEVEL'] = '3' \n",
        "# library visualization\n",
        "import matplotlib.pyplot as plt\n",
        "\n",
        "# Library Tensorflow\n",
        "import tensorflow as tf\n",
        "from tensorflow import keras\n",
        "from tensorflow.keras.preprocessing.image import ImageDataGenerator\n",
        "from tensorflow.keras.callbacks import ModelCheckpoint, EarlyStopping, ReduceLROnPlateau\n",
        "\n",
        "# Others\n",
        "import shutil\n",
        "import random\n",
        "\n",
        "# Confusion Matrix and Classification Report\n",
        "from sklearn.metrics import confusion_matrix, classification_report\n",
        "from mlxtend.plotting import plot_confusion_matrix\n",
        "from sklearn.metrics import f1_score"
      ]
    },
    {
      "cell_type": "code",
      "source": [
        "val_dir = \"/content/drive/MyDrive/FruitNet-Dataset/Orange/valid\""
      ],
      "metadata": {
        "id": "VLuO72ELHWEo"
      },
      "execution_count": 2,
      "outputs": []
    },
    {
      "cell_type": "code",
      "source": [
        "val_data = tf.keras.preprocessing.image_dataset_from_directory(\n",
        "    val_dir,\n",
        "    label_mode='categorical',\n",
        "    class_names=['bad', 'good'],\n",
        "    batch_size=1,\n",
        "    image_size=(224, 224),\n",
        "    shuffle=False\n",
        ")"
      ],
      "metadata": {
        "colab": {
          "base_uri": "https://localhost:8080/"
        },
        "id": "C1G51KrvE8vN",
        "outputId": "4d3b1a70-871a-4ce9-eee9-d0edc436ac3b"
      },
      "execution_count": 3,
      "outputs": [
        {
          "output_type": "stream",
          "name": "stdout",
          "text": [
            "Found 239 files belonging to 2 classes.\n"
          ]
        }
      ]
    },
    {
      "cell_type": "code",
      "source": [
        "val_datagen = ImageDataGenerator(rescale=1./255.)"
      ],
      "metadata": {
        "id": "XRHUbOdxHEqd"
      },
      "execution_count": 4,
      "outputs": []
    },
    {
      "cell_type": "code",
      "source": [
        "validation_generator = val_datagen.flow_from_directory(val_dir,\n",
        "                                                       batch_size=1,\n",
        "                                                       class_mode='categorical',\n",
        "                                                       target_size=(224, 224),\n",
        "                                                       shuffle=False)"
      ],
      "metadata": {
        "colab": {
          "base_uri": "https://localhost:8080/"
        },
        "id": "eKjZL_wvHOta",
        "outputId": "e84a1278-3441-4321-d7d2-1a15709e5060"
      },
      "execution_count": 5,
      "outputs": [
        {
          "output_type": "stream",
          "name": "stdout",
          "text": [
            "Found 239 images belonging to 2 classes.\n"
          ]
        }
      ]
    },
    {
      "cell_type": "code",
      "source": [
        "xception_dir = '/content/drive/MyDrive/FruitNet-Dataset/orange_xception.zip'\n",
        "mobilenet_dir = '/content/drive/MyDrive/FruitNet-Dataset/orange_mobilenetv2.zip'\n",
        "densenet_dir = '/content/drive/MyDrive/FruitNet-Dataset/orange_densenet121.zip'"
      ],
      "metadata": {
        "id": "wWWIAUlUHu-o"
      },
      "execution_count": 6,
      "outputs": []
    },
    {
      "cell_type": "code",
      "source": [
        "!unzip '/content/drive/MyDrive/FruitNet-Dataset/orange_xception.zip' -d '/content/xception'\n",
        "!unzip '/content/drive/MyDrive/FruitNet-Dataset/orange_mobilenetv2.zip' -d '/content/mobilenetv2'\n",
        "!unzip '/content/drive/MyDrive/FruitNet-Dataset/orange_densenet121.zip' -d '/content/densenet121'"
      ],
      "metadata": {
        "colab": {
          "base_uri": "https://localhost:8080/"
        },
        "id": "ikbaWGCFHuX9",
        "outputId": "e5422716-5e9d-41dd-f63c-088d106bd42d"
      },
      "execution_count": 7,
      "outputs": [
        {
          "output_type": "stream",
          "name": "stdout",
          "text": [
            "Archive:  /content/drive/MyDrive/FruitNet-Dataset/orange_xception.zip\n",
            "   creating: /content/xception/content/checkpoint/xception/\n",
            "   creating: /content/xception/content/checkpoint/xception/variables/\n",
            "  inflating: /content/xception/content/checkpoint/xception/variables/variables.data-00000-of-00001  \n",
            "  inflating: /content/xception/content/checkpoint/xception/variables/variables.index  \n",
            "   creating: /content/xception/content/checkpoint/xception/assets/\n",
            " extracting: /content/xception/content/checkpoint/xception/fingerprint.pb  \n",
            "  inflating: /content/xception/content/checkpoint/xception/saved_model.pb  \n",
            "  inflating: /content/xception/content/checkpoint/xception/keras_metadata.pb  \n",
            "Archive:  /content/drive/MyDrive/FruitNet-Dataset/orange_mobilenetv2.zip\n",
            "   creating: /content/mobilenetv2/content/checkpoint/mobilenetv2/\n",
            "   creating: /content/mobilenetv2/content/checkpoint/mobilenetv2/variables/\n",
            "  inflating: /content/mobilenetv2/content/checkpoint/mobilenetv2/variables/variables.data-00000-of-00001  \n",
            "  inflating: /content/mobilenetv2/content/checkpoint/mobilenetv2/variables/variables.index  \n",
            "   creating: /content/mobilenetv2/content/checkpoint/mobilenetv2/assets/\n",
            " extracting: /content/mobilenetv2/content/checkpoint/mobilenetv2/fingerprint.pb  \n",
            "  inflating: /content/mobilenetv2/content/checkpoint/mobilenetv2/saved_model.pb  \n",
            "  inflating: /content/mobilenetv2/content/checkpoint/mobilenetv2/keras_metadata.pb  \n",
            "Archive:  /content/drive/MyDrive/FruitNet-Dataset/orange_densenet121.zip\n",
            "   creating: /content/densenet121/content/checkpoint/densenet121/\n",
            "   creating: /content/densenet121/content/checkpoint/densenet121/variables/\n",
            "  inflating: /content/densenet121/content/checkpoint/densenet121/variables/variables.data-00000-of-00001  \n",
            "  inflating: /content/densenet121/content/checkpoint/densenet121/variables/variables.index  \n",
            "   creating: /content/densenet121/content/checkpoint/densenet121/assets/\n",
            " extracting: /content/densenet121/content/checkpoint/densenet121/fingerprint.pb  \n",
            "  inflating: /content/densenet121/content/checkpoint/densenet121/saved_model.pb  \n",
            "  inflating: /content/densenet121/content/checkpoint/densenet121/keras_metadata.pb  \n"
          ]
        }
      ]
    },
    {
      "cell_type": "code",
      "source": [
        "target_names = ['bad', 'good']"
      ],
      "metadata": {
        "id": "L-sZ_ZShLFvJ"
      },
      "execution_count": 8,
      "outputs": []
    },
    {
      "cell_type": "markdown",
      "source": [
        "# **Model Evaluation (Xception)**"
      ],
      "metadata": {
        "id": "UF6EdZK4LqG2"
      }
    },
    {
      "cell_type": "code",
      "source": [
        "model_xception = tf.keras.saving.load_model(\n",
        "    '/content/xception/content/checkpoint/xception', custom_objects=None, compile=True, safe_mode=True\n",
        "    )"
      ],
      "metadata": {
        "id": "KlTj1CZLHfvI"
      },
      "execution_count": 9,
      "outputs": []
    },
    {
      "cell_type": "code",
      "source": [
        "# evaluate model\n",
        "print(\"==========================Evaluate Model====================\")\n",
        "scores_xception = model_xception.evaluate(validation_generator, verbose=1)\n",
        "print(\"Accuracy: %.6f%%\" % (scores_xception[1]*100))\n",
        "print(\"Loss: %.6f%%\" % (scores_xception[0]*100))"
      ],
      "metadata": {
        "colab": {
          "base_uri": "https://localhost:8080/"
        },
        "id": "5QwXWRY4Ib7-",
        "outputId": "faf444c5-5c75-4fae-d917-f3dc9b9797af"
      },
      "execution_count": 10,
      "outputs": [
        {
          "output_type": "stream",
          "name": "stdout",
          "text": [
            "==========================Evaluate Model====================\n",
            "239/239 [==============================] - 64s 260ms/step - loss: 0.1048 - accuracy: 0.9707\n",
            "Accuracy: 97.071129%\n",
            "Loss: 10.480809%\n"
          ]
        }
      ]
    },
    {
      "cell_type": "code",
      "source": [
        "print(\"==========================Confusion Matrix====================\")\n",
        "y_pred = model_xception.predict(validation_generator)\n",
        "y_pred = np.argmax(y_pred, axis=1)\n",
        "cm = confusion_matrix(validation_generator.classes, y_pred)\n",
        "fig, ax = plot_confusion_matrix(conf_mat=cm ,  figsize=(5, 5))\n",
        "ax.set_xticklabels([''] + target_names, rotation=45)\n",
        "ax.set_yticklabels([''] + target_names, rotation=45)\n",
        "plt.show()"
      ],
      "metadata": {
        "colab": {
          "base_uri": "https://localhost:8080/",
          "height": 520
        },
        "id": "s0fUN624J39w",
        "outputId": "855dcd92-c07a-4f3d-e15a-603a10687cee"
      },
      "execution_count": 11,
      "outputs": [
        {
          "output_type": "stream",
          "name": "stdout",
          "text": [
            "==========================Confusion Matrix====================\n",
            "239/239 [==============================] - 64s 261ms/step\n"
          ]
        },
        {
          "output_type": "display_data",
          "data": {
            "text/plain": [
              "<Figure size 500x500 with 1 Axes>"
            ],
            "image/png": "[encoded data removed]"
          },
          "metadata": {}
        }
      ]
    },
    {
      "cell_type": "code",
      "source": [
        "print(\"==========================Classification Report====================\")\n",
        "print('Classification Report')\n",
        "\n",
        "print(classification_report(validation_generator.classes, y_pred, target_names=target_names))"
      ],
      "metadata": {
        "colab": {
          "base_uri": "https://localhost:8080/"
        },
        "id": "TWMhg_7GK3xo",
        "outputId": "b8efac6f-3673-4a9a-93b5-ba0c2d0df826"
      },
      "execution_count": 12,
      "outputs": [
        {
          "output_type": "stream",
          "name": "stdout",
          "text": [
            "==========================Classification Report====================\n",
            "Classification Report\n",
            "              precision    recall  f1-score   support\n",
            "\n",
            "         bad       0.97      0.98      0.97       125\n",
            "        good       0.97      0.96      0.97       114\n",
            "\n",
            "    accuracy                           0.97       239\n",
            "   macro avg       0.97      0.97      0.97       239\n",
            "weighted avg       0.97      0.97      0.97       239\n",
            "\n"
          ]
        }
      ]
    },
    {
      "cell_type": "code",
      "source": [
        "print(\"==========================F1 Score====================\")\n",
        "f1_xception = f1_score(validation_generator.classes, y_pred, average='macro')\n",
        "print('F1 Score : ', f1_xception)"
      ],
      "metadata": {
        "colab": {
          "base_uri": "https://localhost:8080/"
        },
        "id": "dB0OdbkfK5rG",
        "outputId": "7c33f1f5-77cb-4991-a86b-99c1ebc20679"
      },
      "execution_count": 13,
      "outputs": [
        {
          "output_type": "stream",
          "name": "stdout",
          "text": [
            "==========================F1 Score====================\n",
            "F1 Score :  0.970637274689787\n"
          ]
        }
      ]
    },
    {
      "cell_type": "markdown",
      "source": [
        "# **Model Evaluation (MobileNetV2)**"
      ],
      "metadata": {
        "id": "3gUTk24kT2QV"
      }
    },
    {
      "cell_type": "code",
      "source": [
        "model_mobilenetv2 = tf.keras.saving.load_model(\n",
        "    '/content/mobilenetv2/content/checkpoint/mobilenetv2', custom_objects=None, compile=True, safe_mode=True\n",
        "    )"
      ],
      "metadata": {
        "id": "dcfHeCPBT2QW"
      },
      "execution_count": 14,
      "outputs": []
    },
    {
      "cell_type": "code",
      "source": [
        "# evaluate model\n",
        "print(\"==========================Evaluate Model====================\")\n",
        "scores_mobilenetv2 = model_mobilenetv2.evaluate(validation_generator, verbose=1)\n",
        "print(\"Accuracy: %.6f%%\" % (scores_mobilenetv2[1]*100))\n",
        "print(\"Loss: %.6f%%\" % (scores_mobilenetv2[0]*100))"
      ],
      "metadata": {
        "colab": {
          "base_uri": "https://localhost:8080/"
        },
        "outputId": "8a01e8ac-102f-4cf0-c565-1eda2bf8fc3f",
        "id": "iHBvDn1RT2QX"
      },
      "execution_count": 15,
      "outputs": [
        {
          "output_type": "stream",
          "name": "stdout",
          "text": [
            "==========================Evaluate Model====================\n",
            "239/239 [==============================] - 16s 63ms/step - loss: 0.0379 - accuracy: 0.9958\n",
            "Accuracy: 99.581587%\n",
            "Loss: 3.788616%\n"
          ]
        }
      ]
    },
    {
      "cell_type": "code",
      "source": [
        "print(\"==========================Confusion Matrix====================\")\n",
        "y_pred = model_mobilenetv2.predict(validation_generator)\n",
        "y_pred = np.argmax(y_pred, axis=1)\n",
        "cm = confusion_matrix(validation_generator.classes, y_pred)\n",
        "fig, ax = plot_confusion_matrix(conf_mat=cm ,  figsize=(5, 5))\n",
        "ax.set_xticklabels([''] + target_names, rotation=45)\n",
        "ax.set_yticklabels([''] + target_names, rotation=45)\n",
        "plt.show()"
      ],
      "metadata": {
        "colab": {
          "base_uri": "https://localhost:8080/",
          "height": 520
        },
        "outputId": "08dbb32e-fb9c-4be3-e8fb-8d878dbcbb33",
        "id": "jfOHs3MGT2QX"
      },
      "execution_count": 16,
      "outputs": [
        {
          "output_type": "stream",
          "name": "stdout",
          "text": [
            "==========================Confusion Matrix====================\n",
            "239/239 [==============================] - 13s 50ms/step\n"
          ]
        },
        {
          "output_type": "display_data",
          "data": {
            "text/plain": [
              "<Figure size 500x500 with 1 Axes>"
            ],
            "image/png": "[encoded data removed]"
          },
          "metadata": {}
        }
      ]
    },
    {
      "cell_type": "code",
      "source": [
        "print(\"==========================Classification Report====================\")\n",
        "print('Classification Report')\n",
        "\n",
        "print(classification_report(validation_generator.classes, y_pred, target_names=target_names))"
      ],
      "metadata": {
        "colab": {
          "base_uri": "https://localhost:8080/"
        },
        "outputId": "017af608-af93-4f9d-ccab-501e703af80d",
        "id": "cON9pTLoT2QX"
      },
      "execution_count": 17,
      "outputs": [
        {
          "output_type": "stream",
          "name": "stdout",
          "text": [
            "==========================Classification Report====================\n",
            "Classification Report\n",
            "              precision    recall  f1-score   support\n",
            "\n",
            "         bad       1.00      0.99      1.00       125\n",
            "        good       0.99      1.00      1.00       114\n",
            "\n",
            "    accuracy                           1.00       239\n",
            "   macro avg       1.00      1.00      1.00       239\n",
            "weighted avg       1.00      1.00      1.00       239\n",
            "\n"
          ]
        }
      ]
    },
    {
      "cell_type": "code",
      "source": [
        "print(\"==========================F1 Score====================\")\n",
        "f1_mobilenetv2 = f1_score(validation_generator.classes, y_pred, average='macro')\n",
        "print('F1 Score : ', f1_mobilenetv2)"
      ],
      "metadata": {
        "colab": {
          "base_uri": "https://localhost:8080/"
        },
        "outputId": "7f40600f-f9db-4798-ec8a-a2e088f895e0",
        "id": "_n7AYPgsT2QX"
      },
      "execution_count": 18,
      "outputs": [
        {
          "output_type": "stream",
          "name": "stdout",
          "text": [
            "==========================F1 Score====================\n",
            "F1 Score :  0.9958085617579489\n"
          ]
        }
      ]
    },
    {
      "cell_type": "markdown",
      "source": [
        "# **Model Evaluation (DenseNet121)**"
      ],
      "metadata": {
        "id": "I5BCLZPMMJyK"
      }
    },
    {
      "cell_type": "code",
      "source": [
        "model_densenet121 = tf.keras.saving.load_model(\n",
        "    '/content/densenet121/content/checkpoint/densenet121', custom_objects=None, compile=True, safe_mode=True\n",
        "    )"
      ],
      "metadata": {
        "id": "g4--275XMJyK"
      },
      "execution_count": 19,
      "outputs": []
    },
    {
      "cell_type": "code",
      "source": [
        "# evaluate model\n",
        "print(\"==========================Evaluate Model====================\")\n",
        "scores_densenet121 = model_densenet121.evaluate(validation_generator, verbose=1)\n",
        "print(\"Accuracy: %.6f%%\" % (scores_densenet121[1]*100))\n",
        "print(\"Loss: %.6f%%\" % (scores_densenet121[0]*100))"
      ],
      "metadata": {
        "colab": {
          "base_uri": "https://localhost:8080/"
        },
        "outputId": "07aeb827-d5d6-495a-9a1b-3156a0fd26ba",
        "id": "vCstULHyMJyL"
      },
      "execution_count": 20,
      "outputs": [
        {
          "output_type": "stream",
          "name": "stdout",
          "text": [
            "==========================Evaluate Model====================\n",
            "239/239 [==============================] - 46s 182ms/step - loss: 0.0446 - accuracy: 0.9916\n",
            "Accuracy: 99.163181%\n",
            "Loss: 4.456567%\n"
          ]
        }
      ]
    },
    {
      "cell_type": "code",
      "source": [
        "print(\"==========================Confusion Matrix====================\")\n",
        "y_pred = model_densenet121.predict(validation_generator)\n",
        "y_pred = np.argmax(y_pred, axis=1)\n",
        "cm = confusion_matrix(validation_generator.classes, y_pred)\n",
        "fig, ax = plot_confusion_matrix(conf_mat=cm ,  figsize=(5, 5))\n",
        "ax.set_xticklabels([''] + target_names, rotation=45)\n",
        "ax.set_yticklabels([''] + target_names, rotation=45)\n",
        "plt.show()"
      ],
      "metadata": {
        "colab": {
          "base_uri": "https://localhost:8080/",
          "height": 520
        },
        "outputId": "93445276-38ca-448e-be6e-ef7bb6cbd6ee",
        "id": "hWtpBtRTMJyL"
      },
      "execution_count": 21,
      "outputs": [
        {
          "output_type": "stream",
          "name": "stdout",
          "text": [
            "==========================Confusion Matrix====================\n",
            "239/239 [==============================] - 44s 175ms/step\n"
          ]
        },
        {
          "output_type": "display_data",
          "data": {
            "text/plain": [
              "<Figure size 500x500 with 1 Axes>"
            ],
            "image/png": "[encoded data removed]"
          },
          "metadata": {}
        }
      ]
    },
    {
      "cell_type": "code",
      "source": [
        "print(\"==========================Classification Report====================\")\n",
        "print('Classification Report')\n",
        "\n",
        "print(classification_report(validation_generator.classes, y_pred, target_names=target_names))"
      ],
      "metadata": {
        "colab": {
          "base_uri": "https://localhost:8080/"
        },
        "id": "V9G6zQ9QMJyL",
        "outputId": "3bebd83b-24e2-457d-d172-2e56d17d8239"
      },
      "execution_count": 22,
      "outputs": [
        {
          "output_type": "stream",
          "name": "stdout",
          "text": [
            "==========================Classification Report====================\n",
            "Classification Report\n",
            "              precision    recall  f1-score   support\n",
            "\n",
            "         bad       0.98      1.00      0.99       125\n",
            "        good       1.00      0.98      0.99       114\n",
            "\n",
            "    accuracy                           0.99       239\n",
            "   macro avg       0.99      0.99      0.99       239\n",
            "weighted avg       0.99      0.99      0.99       239\n",
            "\n"
          ]
        }
      ]
    },
    {
      "cell_type": "code",
      "source": [
        "print(\"==========================F1 Score====================\")\n",
        "f1_densenet121 = f1_score(validation_generator.classes, y_pred, average='macro')\n",
        "print('F1 Score : ', f1_densenet121)"
      ],
      "metadata": {
        "colab": {
          "base_uri": "https://localhost:8080/"
        },
        "id": "waYUOMWqMJyL",
        "outputId": "ccdcf854-9534-4cca-b857-61b7f22af6f5"
      },
      "execution_count": 23,
      "outputs": [
        {
          "output_type": "stream",
          "name": "stdout",
          "text": [
            "==========================F1 Score====================\n",
            "F1 Score :  0.9916069672706841\n"
          ]
        }
      ]
    },
    {
      "cell_type": "code",
      "source": [],
      "metadata": {
        "id": "h5bgQYk4K6OK"
      },
      "execution_count": 23,
      "outputs": []
    }
  ]
}