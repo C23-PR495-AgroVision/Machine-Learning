{
  "nbformat": 4,
  "nbformat_minor": 0,
  "metadata": {
    "colab": {
      "provenance": []
    },
    "kernelspec": {
      "name": "python3",
      "display_name": "Python 3"
    },
    "language_info": {
      "name": "python"
    }
  },
  "cells": [
    {
      "cell_type": "markdown",
      "source": [
        "# **Preparation**"
      ],
      "metadata": {
        "id": "bPvCx5EwLyqG"
      }
    },
    {
      "cell_type": "code",
      "execution_count": 1,
      "metadata": {
        "id": "kqX78dgwEtmw"
      },
      "outputs": [],
      "source": [
        "# Library to dataset\n",
        "import os\n",
        "import zipfile\n",
        "import numpy as np\n",
        "import pandas as pd\n",
        "\n",
        "# Surpress Warnings\n",
        "import warnings\n",
        "warnings.filterwarnings('ignore')\n",
        "os.environ['TF_CPP_MIN_LOG_LEVEL'] = '3' \n",
        "# library visualization\n",
        "import matplotlib.pyplot as plt\n",
        "\n",
        "# Library Tensorflow\n",
        "import tensorflow as tf\n",
        "from tensorflow import keras\n",
        "from tensorflow.keras.preprocessing.image import ImageDataGenerator\n",
        "from tensorflow.keras.callbacks import ModelCheckpoint, EarlyStopping, ReduceLROnPlateau\n",
        "\n",
        "# Others\n",
        "import shutil\n",
        "import random\n",
        "\n",
        "# Confusion Matrix and Classification Report\n",
        "from sklearn.metrics import confusion_matrix, classification_report\n",
        "from mlxtend.plotting import plot_confusion_matrix\n",
        "from sklearn.metrics import f1_score"
      ]
    },
    {
      "cell_type": "code",
      "source": [
        "val_dir = \"/content/drive/MyDrive/FruitNet-Dataset/Apple/valid\""
      ],
      "metadata": {
        "id": "VLuO72ELHWEo"
      },
      "execution_count": 2,
      "outputs": []
    },
    {
      "cell_type": "code",
      "source": [
        "val_data = tf.keras.preprocessing.image_dataset_from_directory(\n",
        "    val_dir,\n",
        "    label_mode='categorical',\n",
        "    class_names=['bad', 'good'],\n",
        "    batch_size=1,\n",
        "    image_size=(224, 224),\n",
        "    shuffle=False\n",
        ")"
      ],
      "metadata": {
        "colab": {
          "base_uri": "https://localhost:8080/"
        },
        "id": "C1G51KrvE8vN",
        "outputId": "55c7e01e-fb05-44f7-b8d6-331e0bd1855c"
      },
      "execution_count": 3,
      "outputs": [
        {
          "output_type": "stream",
          "name": "stdout",
          "text": [
            "Found 237 files belonging to 2 classes.\n"
          ]
        }
      ]
    },
    {
      "cell_type": "code",
      "source": [
        "val_datagen = ImageDataGenerator(rescale=1./255.)"
      ],
      "metadata": {
        "id": "XRHUbOdxHEqd"
      },
      "execution_count": 4,
      "outputs": []
    },
    {
      "cell_type": "code",
      "source": [
        "validation_generator = val_datagen.flow_from_directory(val_dir,\n",
        "                                                       batch_size=1,\n",
        "                                                       class_mode='categorical',\n",
        "                                                       target_size=(224, 224),\n",
        "                                                       shuffle=False)"
      ],
      "metadata": {
        "colab": {
          "base_uri": "https://localhost:8080/"
        },
        "id": "eKjZL_wvHOta",
        "outputId": "6d8e8512-45eb-4812-c03b-ccda9b54a48d"
      },
      "execution_count": 5,
      "outputs": [
        {
          "output_type": "stream",
          "name": "stdout",
          "text": [
            "Found 237 images belonging to 2 classes.\n"
          ]
        }
      ]
    },
    {
      "cell_type": "code",
      "source": [
        "xception_dir = '/content/drive/MyDrive/FruitNet-Dataset/apple_xception.zip'\n",
        "mobilenet_dir = '/content/drive/MyDrive/FruitNet-Dataset/apple_mobilenetv2.zip'\n",
        "densenet_dir = '/content/drive/MyDrive/FruitNet-Dataset/apple_densenet121.zip'"
      ],
      "metadata": {
        "id": "wWWIAUlUHu-o"
      },
      "execution_count": 6,
      "outputs": []
    },
    {
      "cell_type": "code",
      "source": [
        "!unzip '/content/drive/MyDrive/FruitNet-Dataset/apple_xception.zip' -d '/content/xception'\n",
        "!unzip '/content/drive/MyDrive/FruitNet-Dataset/apple_mobilenetv2.zip' -d '/content/mobilenetv2'\n",
        "!unzip '/content/drive/MyDrive/FruitNet-Dataset/apple_densenet121.zip' -d '/content/densenet121'"
      ],
      "metadata": {
        "colab": {
          "base_uri": "https://localhost:8080/"
        },
        "id": "ikbaWGCFHuX9",
        "outputId": "5dfe36c4-e461-470d-f889-059bbf802f30"
      },
      "execution_count": 7,
      "outputs": [
        {
          "output_type": "stream",
          "name": "stdout",
          "text": [
            "Archive:  /content/drive/MyDrive/FruitNet-Dataset/apple_xception.zip\n",
            "   creating: /content/xception/content/checkpoint/xception/\n",
            "   creating: /content/xception/content/checkpoint/xception/variables/\n",
            "  inflating: /content/xception/content/checkpoint/xception/variables/variables.data-00000-of-00001  \n",
            "  inflating: /content/xception/content/checkpoint/xception/variables/variables.index  \n",
            "   creating: /content/xception/content/checkpoint/xception/assets/\n",
            " extracting: /content/xception/content/checkpoint/xception/fingerprint.pb  \n",
            "  inflating: /content/xception/content/checkpoint/xception/saved_model.pb  \n",
            "  inflating: /content/xception/content/checkpoint/xception/keras_metadata.pb  \n",
            "Archive:  /content/drive/MyDrive/FruitNet-Dataset/apple_mobilenetv2.zip\n",
            "   creating: /content/mobilenetv2/content/checkpoint/mobilenetv2/\n",
            "   creating: /content/mobilenetv2/content/checkpoint/mobilenetv2/variables/\n",
            "  inflating: /content/mobilenetv2/content/checkpoint/mobilenetv2/variables/variables.data-00000-of-00001  \n",
            "  inflating: /content/mobilenetv2/content/checkpoint/mobilenetv2/variables/variables.index  \n",
            "   creating: /content/mobilenetv2/content/checkpoint/mobilenetv2/assets/\n",
            " extracting: /content/mobilenetv2/content/checkpoint/mobilenetv2/fingerprint.pb  \n",
            "  inflating: /content/mobilenetv2/content/checkpoint/mobilenetv2/saved_model.pb  \n",
            "  inflating: /content/mobilenetv2/content/checkpoint/mobilenetv2/keras_metadata.pb  \n",
            "Archive:  /content/drive/MyDrive/FruitNet-Dataset/apple_densenet121.zip\n",
            "   creating: /content/densenet121/content/checkpoint/densenet121/\n",
            "   creating: /content/densenet121/content/checkpoint/densenet121/variables/\n",
            "  inflating: /content/densenet121/content/checkpoint/densenet121/variables/variables.data-00000-of-00001  \n",
            "  inflating: /content/densenet121/content/checkpoint/densenet121/variables/variables.index  \n",
            "   creating: /content/densenet121/content/checkpoint/densenet121/assets/\n",
            " extracting: /content/densenet121/content/checkpoint/densenet121/fingerprint.pb  \n",
            "  inflating: /content/densenet121/content/checkpoint/densenet121/saved_model.pb  \n",
            "  inflating: /content/densenet121/content/checkpoint/densenet121/keras_metadata.pb  \n"
          ]
        }
      ]
    },
    {
      "cell_type": "code",
      "source": [
        "target_names = ['bad', 'good']"
      ],
      "metadata": {
        "id": "L-sZ_ZShLFvJ"
      },
      "execution_count": 8,
      "outputs": []
    },
    {
      "cell_type": "markdown",
      "source": [
        "# **Model Evaluation (Xception)**"
      ],
      "metadata": {
        "id": "UF6EdZK4LqG2"
      }
    },
    {
      "cell_type": "code",
      "source": [
        "model_xception = tf.keras.saving.load_model(\n",
        "    '/content/xception/content/checkpoint/xception', custom_objects=None, compile=True, safe_mode=True\n",
        "    )"
      ],
      "metadata": {
        "id": "KlTj1CZLHfvI"
      },
      "execution_count": 9,
      "outputs": []
    },
    {
      "cell_type": "code",
      "source": [
        "# evaluate model\n",
        "print(\"==========================Evaluate Model====================\")\n",
        "scores_xception = model_xception.evaluate(validation_generator, verbose=1)\n",
        "print(\"Accuracy: %.6f%%\" % (scores_xception[1]*100))\n",
        "print(\"Loss: %.6f%%\" % (scores_xception[0]*100))"
      ],
      "metadata": {
        "colab": {
          "base_uri": "https://localhost:8080/"
        },
        "id": "5QwXWRY4Ib7-",
        "outputId": "0c62df4e-24bc-4694-c5db-3d2f13ac91af"
      },
      "execution_count": 10,
      "outputs": [
        {
          "output_type": "stream",
          "name": "stdout",
          "text": [
            "==========================Evaluate Model====================\n",
            "237/237 [==============================] - 69s 284ms/step - loss: 0.0292 - accuracy: 0.9916\n",
            "Accuracy: 99.156117%\n",
            "Loss: 2.922729%\n"
          ]
        }
      ]
    },
    {
      "cell_type": "code",
      "source": [
        "print(\"==========================Confusion Matrix====================\")\n",
        "y_pred = model_xception.predict(validation_generator)\n",
        "y_pred = np.argmax(y_pred, axis=1)\n",
        "cm = confusion_matrix(validation_generator.classes, y_pred)\n",
        "fig, ax = plot_confusion_matrix(conf_mat=cm ,  figsize=(5, 5))\n",
        "ax.set_xticklabels([''] + target_names, rotation=45)\n",
        "ax.set_yticklabels([''] + target_names, rotation=45)\n",
        "plt.show()"
      ],
      "metadata": {
        "colab": {
          "base_uri": "https://localhost:8080/",
          "height": 520
        },
        "id": "s0fUN624J39w",
        "outputId": "6b847eb9-44bf-4b78-d22c-29e07f4d36c8"
      },
      "execution_count": 11,
      "outputs": [
        {
          "output_type": "stream",
          "name": "stdout",
          "text": [
            "==========================Confusion Matrix====================\n",
            "237/237 [==============================] - 65s 270ms/step\n"
          ]
        },
        {
          "output_type": "display_data",
          "data": {
            "text/plain": [
              "<Figure size 500x500 with 1 Axes>"
            ],
            "image/png": "[encoded data removed]"
          },
          "metadata": {}
        }
      ]
    },
    {
      "cell_type": "code",
      "source": [
        "print(\"==========================Classification Report====================\")\n",
        "print('Classification Report')\n",
        "\n",
        "print(classification_report(validation_generator.classes, y_pred, target_names=target_names))"
      ],
      "metadata": {
        "colab": {
          "base_uri": "https://localhost:8080/"
        },
        "id": "TWMhg_7GK3xo",
        "outputId": "c708e67e-62c8-47b7-de11-1c16ade33319"
      },
      "execution_count": 12,
      "outputs": [
        {
          "output_type": "stream",
          "name": "stdout",
          "text": [
            "==========================Classification Report====================\n",
            "Classification Report\n",
            "              precision    recall  f1-score   support\n",
            "\n",
            "         bad       0.99      0.99      0.99       117\n",
            "        good       0.99      0.99      0.99       120\n",
            "\n",
            "    accuracy                           0.99       237\n",
            "   macro avg       0.99      0.99      0.99       237\n",
            "weighted avg       0.99      0.99      0.99       237\n",
            "\n"
          ]
        }
      ]
    },
    {
      "cell_type": "code",
      "source": [
        "print(\"==========================F1 Score====================\")\n",
        "f1_xception = f1_score(validation_generator.classes, y_pred, average='macro')\n",
        "print('F1 Score : ', f1_xception)"
      ],
      "metadata": {
        "colab": {
          "base_uri": "https://localhost:8080/"
        },
        "id": "dB0OdbkfK5rG",
        "outputId": "e8675f53-2405-4a0f-9856-8fe6d5cd1bcd"
      },
      "execution_count": 13,
      "outputs": [
        {
          "output_type": "stream",
          "name": "stdout",
          "text": [
            "==========================F1 Score====================\n",
            "F1 Score :  0.9915598290598291\n"
          ]
        }
      ]
    },
    {
      "cell_type": "markdown",
      "source": [
        "# **Model Evaluation (MobileNetV2)**"
      ],
      "metadata": {
        "id": "3gUTk24kT2QV"
      }
    },
    {
      "cell_type": "code",
      "source": [
        "model_mobilenetv2 = tf.keras.saving.load_model(\n",
        "    '/content/mobilenetv2/content/checkpoint/mobilenetv2', custom_objects=None, compile=True, safe_mode=True\n",
        "    )"
      ],
      "metadata": {
        "id": "dcfHeCPBT2QW"
      },
      "execution_count": 14,
      "outputs": []
    },
    {
      "cell_type": "code",
      "source": [
        "# evaluate model\n",
        "print(\"==========================Evaluate Model====================\")\n",
        "scores_mobilenetv2 = model_mobilenetv2.evaluate(validation_generator, verbose=1)\n",
        "print(\"Accuracy: %.6f%%\" % (scores_mobilenetv2[1]*100))\n",
        "print(\"Loss: %.6f%%\" % (scores_mobilenetv2[0]*100))"
      ],
      "metadata": {
        "colab": {
          "base_uri": "https://localhost:8080/"
        },
        "outputId": "edc390ce-a4dd-440b-889e-c09b315ffa5f",
        "id": "iHBvDn1RT2QX"
      },
      "execution_count": 15,
      "outputs": [
        {
          "output_type": "stream",
          "name": "stdout",
          "text": [
            "==========================Evaluate Model====================\n",
            "237/237 [==============================] - 15s 60ms/step - loss: 0.0181 - accuracy: 0.9958\n",
            "Accuracy: 99.578059%\n",
            "Loss: 1.811795%\n"
          ]
        }
      ]
    },
    {
      "cell_type": "code",
      "source": [
        "print(\"==========================Confusion Matrix====================\")\n",
        "y_pred = model_mobilenetv2.predict(validation_generator)\n",
        "y_pred = np.argmax(y_pred, axis=1)\n",
        "cm = confusion_matrix(validation_generator.classes, y_pred)\n",
        "fig, ax = plot_confusion_matrix(conf_mat=cm ,  figsize=(5, 5))\n",
        "ax.set_xticklabels([''] + target_names, rotation=45)\n",
        "ax.set_yticklabels([''] + target_names, rotation=45)\n",
        "plt.show()"
      ],
      "metadata": {
        "colab": {
          "base_uri": "https://localhost:8080/",
          "height": 520
        },
        "outputId": "1ec6a331-6b30-4959-ebca-f0708c88dc4a",
        "id": "jfOHs3MGT2QX"
      },
      "execution_count": 16,
      "outputs": [
        {
          "output_type": "stream",
          "name": "stdout",
          "text": [
            "==========================Confusion Matrix====================\n",
            "237/237 [==============================] - 15s 59ms/step\n"
          ]
        },
        {
          "output_type": "display_data",
          "data": {
            "text/plain": [
              "<Figure size 500x500 with 1 Axes>"
            ],
            "image/png": "[encoded data removed]"
          },
          "metadata": {}
        }
      ]
    },
    {
      "cell_type": "code",
      "source": [
        "print(\"==========================Classification Report====================\")\n",
        "print('Classification Report')\n",
        "\n",
        "print(classification_report(validation_generator.classes, y_pred, target_names=target_names))"
      ],
      "metadata": {
        "colab": {
          "base_uri": "https://localhost:8080/"
        },
        "outputId": "1c690e9b-4807-4f04-ddc4-42d3bf855a83",
        "id": "cON9pTLoT2QX"
      },
      "execution_count": 17,
      "outputs": [
        {
          "output_type": "stream",
          "name": "stdout",
          "text": [
            "==========================Classification Report====================\n",
            "Classification Report\n",
            "              precision    recall  f1-score   support\n",
            "\n",
            "         bad       0.99      1.00      1.00       117\n",
            "        good       1.00      0.99      1.00       120\n",
            "\n",
            "    accuracy                           1.00       237\n",
            "   macro avg       1.00      1.00      1.00       237\n",
            "weighted avg       1.00      1.00      1.00       237\n",
            "\n"
          ]
        }
      ]
    },
    {
      "cell_type": "code",
      "source": [
        "print(\"==========================F1 Score====================\")\n",
        "f1_mobilenetv2 = f1_score(validation_generator.classes, y_pred, average='macro')\n",
        "print('F1 Score : ', f1_mobilenetv2)"
      ],
      "metadata": {
        "colab": {
          "base_uri": "https://localhost:8080/"
        },
        "outputId": "1bb70750-450e-4c91-cffd-c2cf749bfd69",
        "id": "_n7AYPgsT2QX"
      },
      "execution_count": 18,
      "outputs": [
        {
          "output_type": "stream",
          "name": "stdout",
          "text": [
            "==========================F1 Score====================\n",
            "F1 Score :  0.9957802902163269\n"
          ]
        }
      ]
    },
    {
      "cell_type": "markdown",
      "source": [
        "# **Model Evaluation (DenseNet121)**"
      ],
      "metadata": {
        "id": "I5BCLZPMMJyK"
      }
    },
    {
      "cell_type": "code",
      "source": [
        "model_densenet121 = tf.keras.saving.load_model(\n",
        "    '/content/densenet121/content/checkpoint/densenet121', custom_objects=None, compile=True, safe_mode=True\n",
        "    )"
      ],
      "metadata": {
        "id": "g4--275XMJyK"
      },
      "execution_count": 19,
      "outputs": []
    },
    {
      "cell_type": "code",
      "source": [
        "# evaluate model\n",
        "print(\"==========================Evaluate Model====================\")\n",
        "scores_densenet121 = model_densenet121.evaluate(validation_generator, verbose=1)\n",
        "print(\"Accuracy: %.6f%%\" % (scores_densenet121[1]*100))\n",
        "print(\"Loss: %.6f%%\" % (scores_densenet121[0]*100))"
      ],
      "metadata": {
        "colab": {
          "base_uri": "https://localhost:8080/"
        },
        "outputId": "b38104dc-e5f7-499d-9a45-75d38e916625",
        "id": "vCstULHyMJyL"
      },
      "execution_count": 20,
      "outputs": [
        {
          "output_type": "stream",
          "name": "stdout",
          "text": [
            "==========================Evaluate Model====================\n",
            "237/237 [==============================] - 51s 206ms/step - loss: 0.0275 - accuracy: 0.9916\n",
            "Accuracy: 99.156117%\n",
            "Loss: 2.746072%\n"
          ]
        }
      ]
    },
    {
      "cell_type": "code",
      "source": [
        "print(\"==========================Confusion Matrix====================\")\n",
        "y_pred = model_densenet121.predict(validation_generator)\n",
        "y_pred = np.argmax(y_pred, axis=1)\n",
        "cm = confusion_matrix(validation_generator.classes, y_pred)\n",
        "fig, ax = plot_confusion_matrix(conf_mat=cm ,  figsize=(5, 5))\n",
        "ax.set_xticklabels([''] + target_names, rotation=45)\n",
        "ax.set_yticklabels([''] + target_names, rotation=45)\n",
        "plt.show()"
      ],
      "metadata": {
        "colab": {
          "base_uri": "https://localhost:8080/",
          "height": 520
        },
        "outputId": "5b139f0f-7b2f-41ee-9741-8c6200282b4e",
        "id": "hWtpBtRTMJyL"
      },
      "execution_count": 21,
      "outputs": [
        {
          "output_type": "stream",
          "name": "stdout",
          "text": [
            "==========================Confusion Matrix====================\n",
            "237/237 [==============================] - 51s 208ms/step\n"
          ]
        },
        {
          "output_type": "display_data",
          "data": {
            "text/plain": [
              "<Figure size 500x500 with 1 Axes>"
            ],
            "image/png": "[encoded data removed]"
          },
          "metadata": {}
        }
      ]
    },
    {
      "cell_type": "code",
      "source": [
        "print(\"==========================Classification Report====================\")\n",
        "print('Classification Report')\n",
        "\n",
        "print(classification_report(validation_generator.classes, y_pred, target_names=target_names))"
      ],
      "metadata": {
        "colab": {
          "base_uri": "https://localhost:8080/"
        },
        "id": "V9G6zQ9QMJyL",
        "outputId": "453c095a-d919-49c4-cf38-e7cef035e7e4"
      },
      "execution_count": 22,
      "outputs": [
        {
          "output_type": "stream",
          "name": "stdout",
          "text": [
            "==========================Classification Report====================\n",
            "Classification Report\n",
            "              precision    recall  f1-score   support\n",
            "\n",
            "         bad       0.99      0.99      0.99       117\n",
            "        good       0.99      0.99      0.99       120\n",
            "\n",
            "    accuracy                           0.99       237\n",
            "   macro avg       0.99      0.99      0.99       237\n",
            "weighted avg       0.99      0.99      0.99       237\n",
            "\n"
          ]
        }
      ]
    },
    {
      "cell_type": "code",
      "source": [
        "print(\"==========================F1 Score====================\")\n",
        "f1_densenet121 = f1_score(validation_generator.classes, y_pred, average='macro')\n",
        "print('F1 Score : ', f1_densenet121)"
      ],
      "metadata": {
        "colab": {
          "base_uri": "https://localhost:8080/"
        },
        "id": "waYUOMWqMJyL",
        "outputId": "0fedfed8-e975-4bc3-e0cf-02f9d260b7fc"
      },
      "execution_count": 23,
      "outputs": [
        {
          "output_type": "stream",
          "name": "stdout",
          "text": [
            "==========================F1 Score====================\n",
            "F1 Score :  0.9915598290598291\n"
          ]
        }
      ]
    },
    {
      "cell_type": "code",
      "source": [],
      "metadata": {
        "id": "h5bgQYk4K6OK"
      },
      "execution_count": 23,
      "outputs": []
    }
  ]
}