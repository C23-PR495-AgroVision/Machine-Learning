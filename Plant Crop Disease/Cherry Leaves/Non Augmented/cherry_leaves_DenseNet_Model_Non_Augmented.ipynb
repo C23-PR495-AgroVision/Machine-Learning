{
  "cells": [
    {
      "attachments": {},
      "cell_type": "markdown",
      "metadata": {
        "id": "hO3kEcUPU2S3"
      },
      "source": [
        "# Library"
      ]
    },
    {
      "cell_type": "code",
      "execution_count": 1,
      "metadata": {
        "colab": {
          "base_uri": "https://localhost:8080/"
        },
        "id": "kczkUjsAU2S8",
        "outputId": "c7f45118-7fd6-4893-c280-b93ff8d4a307",
        "tags": []
      },
      "outputs": [
        {
          "name": "stdout",
          "output_type": "stream",
          "text": [
            "Requirement already satisfied: matplotlib in c:\\users\\hasan\\anaconda3\\envs\\tensorflow_gpu_zein\\lib\\site-packages (3.6.3)\n",
            "Requirement already satisfied: cycler>=0.10 in c:\\users\\hasan\\anaconda3\\envs\\tensorflow_gpu_zein\\lib\\site-packages (from matplotlib) (0.11.0)\n",
            "Requirement already satisfied: pillow>=6.2.0 in c:\\users\\hasan\\anaconda3\\envs\\tensorflow_gpu_zein\\lib\\site-packages (from matplotlib) (9.4.0)\n",
            "Requirement already satisfied: kiwisolver>=1.0.1 in c:\\users\\hasan\\anaconda3\\envs\\tensorflow_gpu_zein\\lib\\site-packages (from matplotlib) (1.4.4)\n",
            "Requirement already satisfied: python-dateutil>=2.7 in c:\\users\\hasan\\anaconda3\\envs\\tensorflow_gpu_zein\\lib\\site-packages (from matplotlib) (2.8.2)\n",
            "Requirement already satisfied: pyparsing>=2.2.1 in c:\\users\\hasan\\anaconda3\\envs\\tensorflow_gpu_zein\\lib\\site-packages (from matplotlib) (3.0.9)\n",
            "Requirement already satisfied: contourpy>=1.0.1 in c:\\users\\hasan\\anaconda3\\envs\\tensorflow_gpu_zein\\lib\\site-packages (from matplotlib) (1.0.7)\n",
            "Requirement already satisfied: packaging>=20.0 in c:\\users\\hasan\\anaconda3\\envs\\tensorflow_gpu_zein\\lib\\site-packages (from matplotlib) (23.1)\n",
            "Requirement already satisfied: numpy>=1.19 in c:\\users\\hasan\\anaconda3\\envs\\tensorflow_gpu_zein\\lib\\site-packages (from matplotlib) (1.23.5)\n",
            "Requirement already satisfied: fonttools>=4.22.0 in c:\\users\\hasan\\anaconda3\\envs\\tensorflow_gpu_zein\\lib\\site-packages (from matplotlib) (4.39.2)\n",
            "Requirement already satisfied: six>=1.5 in c:\\users\\hasan\\anaconda3\\envs\\tensorflow_gpu_zein\\lib\\site-packages (from python-dateutil>=2.7->matplotlib) (1.16.0)\n",
            "Note: you may need to restart the kernel to use updated packages.\n"
          ]
        },
        {
          "name": "stderr",
          "output_type": "stream",
          "text": [
            "WARNING: Ignoring invalid distribution -rotobuf (c:\\users\\hasan\\anaconda3\\envs\\tensorflow_gpu_zein\\lib\\site-packages)\n",
            "WARNING: Ignoring invalid distribution -rotobuf (c:\\users\\hasan\\anaconda3\\envs\\tensorflow_gpu_zein\\lib\\site-packages)\n",
            "WARNING: Ignoring invalid distribution -rotobuf (c:\\users\\hasan\\anaconda3\\envs\\tensorflow_gpu_zein\\lib\\site-packages)\n",
            "WARNING: Ignoring invalid distribution -rotobuf (c:\\users\\hasan\\anaconda3\\envs\\tensorflow_gpu_zein\\lib\\site-packages)\n",
            "WARNING: Ignoring invalid distribution -rotobuf (c:\\users\\hasan\\anaconda3\\envs\\tensorflow_gpu_zein\\lib\\site-packages)\n",
            "WARNING: Ignoring invalid distribution -rotobuf (c:\\users\\hasan\\anaconda3\\envs\\tensorflow_gpu_zein\\lib\\site-packages)\n"
          ]
        }
      ],
      "source": [
        "pip install matplotlib"
      ]
    },
    {
      "cell_type": "code",
      "execution_count": 2,
      "metadata": {
        "colab": {
          "base_uri": "https://localhost:8080/"
        },
        "id": "oEW3Nbu7U2S_",
        "outputId": "74131771-d58b-4557-cb75-13adf90acfd5",
        "tags": []
      },
      "outputs": [
        {
          "name": "stdout",
          "output_type": "stream",
          "text": [
            "Note: you may need to restart the kernel to use updated packages.Requirement already satisfied: opendatasets in c:\\users\\hasan\\anaconda3\\envs\\tensorflow_gpu_zein\\lib\\site-packages (0.1.22)\n",
            "Requirement already satisfied: kaggle in c:\\users\\hasan\\anaconda3\\envs\\tensorflow_gpu_zein\\lib\\site-packages (from opendatasets) (1.5.13)\n",
            "Requirement already satisfied: click in c:\\users\\hasan\\anaconda3\\envs\\tensorflow_gpu_zein\\lib\\site-packages (from opendatasets) (8.1.3)\n",
            "Requirement already satisfied: tqdm in c:\\users\\hasan\\anaconda3\\envs\\tensorflow_gpu_zein\\lib\\site-packages (from opendatasets) (4.64.1)\n",
            "Requirement already satisfied: colorama in c:\\users\\hasan\\anaconda3\\envs\\tensorflow_gpu_zein\\lib\\site-packages (from click->opendatasets) (0.4.6)\n",
            "Requirement already satisfied: certifi in c:\\users\\hasan\\anaconda3\\envs\\tensorflow_gpu_zein\\lib\\site-packages (from kaggle->opendatasets) (2022.12.7)\n",
            "Requirement already satisfied: requests in c:\\users\\hasan\\anaconda3\\envs\\tensorflow_gpu_zein\\lib\\site-packages (from kaggle->opendatasets) (2.28.2)\n",
            "Requirement already satisfied: python-dateutil in c:\\users\\hasan\\anaconda3\\envs\\tensorflow_gpu_zein\\lib\\site-packages (from kaggle->opendatasets) (2.8.2)\n",
            "Requirement already satisfied: urllib3 in c:\\users\\hasan\\anaconda3\\envs\\tensorflow_gpu_zein\\lib\\site-packages (from kaggle->opendatasets) (1.26.15)\n",
            "Requirement already satisfied: python-slugify in c:\\users\\hasan\\anaconda3\\envs\\tensorflow_gpu_zein\\lib\\site-packages (from kaggle->opendatasets) (8.0.1)\n",
            "Requirement already satisfied: six>=1.10 in c:\\users\\hasan\\anaconda3\\envs\\tensorflow_gpu_zein\\lib\\site-packages (from kaggle->opendatasets) (1.16.0)\n",
            "Requirement already satisfied: text-unidecode>=1.3 in c:\\users\\hasan\\anaconda3\\envs\\tensorflow_gpu_zein\\lib\\site-packages (from python-slugify->kaggle->opendatasets) (1.3)\n",
            "Requirement already satisfied: charset-normalizer<4,>=2 in c:\\users\\hasan\\anaconda3\\envs\\tensorflow_gpu_zein\\lib\\site-packages (from requests->kaggle->opendatasets) (3.1.0)\n",
            "Requirement already satisfied: idna<4,>=2.5 in c:\\users\\hasan\\anaconda3\\envs\\tensorflow_gpu_zein\\lib\\site-packages (from requests->kaggle->opendatasets) (3.4)\n",
            "\n"
          ]
        },
        {
          "name": "stderr",
          "output_type": "stream",
          "text": [
            "WARNING: Ignoring invalid distribution -rotobuf (c:\\users\\hasan\\anaconda3\\envs\\tensorflow_gpu_zein\\lib\\site-packages)\n",
            "WARNING: Ignoring invalid distribution -rotobuf (c:\\users\\hasan\\anaconda3\\envs\\tensorflow_gpu_zein\\lib\\site-packages)\n",
            "WARNING: Ignoring invalid distribution -rotobuf (c:\\users\\hasan\\anaconda3\\envs\\tensorflow_gpu_zein\\lib\\site-packages)\n",
            "WARNING: Ignoring invalid distribution -rotobuf (c:\\users\\hasan\\anaconda3\\envs\\tensorflow_gpu_zein\\lib\\site-packages)\n",
            "WARNING: Ignoring invalid distribution -rotobuf (c:\\users\\hasan\\anaconda3\\envs\\tensorflow_gpu_zein\\lib\\site-packages)\n",
            "WARNING: Ignoring invalid distribution -rotobuf (c:\\users\\hasan\\anaconda3\\envs\\tensorflow_gpu_zein\\lib\\site-packages)\n"
          ]
        }
      ],
      "source": [
        "pip install opendatasets"
      ]
    },
    {
      "cell_type": "code",
      "execution_count": 3,
      "metadata": {
        "id": "SIHHdOB4U2TA",
        "tags": []
      },
      "outputs": [],
      "source": [
        "# Library to dataset\n",
        "import opendatasets as od\n",
        "import os\n",
        "import zipfile\n",
        "import numpy as np\n",
        "\n",
        "# Surpress Warnings\n",
        "import warnings\n",
        "warnings.filterwarnings('ignore')\n",
        "os.environ['TF_CPP_MIN_LOG_LEVEL'] = '3' \n",
        "# library visualization\n",
        "import matplotlib.pyplot as plt\n",
        "\n",
        "# Library Tensorflow\n",
        "import tensorflow as tf\n",
        "from tensorflow import keras\n",
        "from tensorflow.keras.preprocessing.image import ImageDataGenerator\n",
        "from tensorflow.keras.callbacks import ModelCheckpoint, EarlyStopping, ReduceLROnPlateau\n",
        "from tensorflow.keras.applications.densenet import DenseNet121\n",
        "# Others\n",
        "import shutil\n",
        "import random"
      ]
    },
    {
      "attachments": {},
      "cell_type": "markdown",
      "metadata": {
        "id": "Dy8YkYoaU2TB"
      },
      "source": [
        "# Load dataset"
      ]
    },
    {
      "cell_type": "code",
      "execution_count": 4,
      "metadata": {
        "colab": {
          "base_uri": "https://localhost:8080/"
        },
        "id": "8ZAjREJ0U2TC",
        "outputId": "fc4f4e09-79d8-4e96-c60c-13ac785ccc42",
        "tags": []
      },
      "outputs": [
        {
          "name": "stdout",
          "output_type": "stream",
          "text": [
            "==========================Training Data====================\n",
            "Found 4205 files belonging to 2 classes.\n",
            "==========================Validation Data====================\n",
            "Found 1574 files belonging to 2 classes.\n"
          ]
        }
      ],
      "source": [
        "# Load dataset\n",
        "print(\"==========================Training Data====================\")\n",
        "train_data = tf.keras.preprocessing.image_dataset_from_directory(\n",
        "    \"Dataset/cherry-leaves/train\",\n",
        "    label_mode=\"categorical\",\n",
        "    class_names=['healthy','powdery_mildew'],\n",
        "    color_mode=\"rgb\",\n",
        "    batch_size=1,\n",
        "    image_size=(256, 256),\n",
        "    shuffle=True,\n",
        "    seed=123\n",
        ")\n",
        "print(\"==========================Validation Data====================\")\n",
        "val_data = tf.keras.preprocessing.image_dataset_from_directory(\n",
        "    \"Dataset/cherry-leaves/test\",\n",
        "    label_mode=\"categorical\",\n",
        "    class_names=['healthy','powdery_mildew'],\n",
        "    color_mode=\"rgb\",\n",
        "    batch_size=1,\n",
        "    image_size=(256, 256),\n",
        "    shuffle=True,\n",
        "    seed=123\n",
        ")"
      ]
    },
    {
      "cell_type": "code",
      "execution_count": 5,
      "metadata": {
        "colab": {
          "base_uri": "https://localhost:8080/"
        },
        "id": "vEPzd1egU2TD",
        "outputId": "7a34563b-1c11-4c83-f0cf-f7948e4bf6db",
        "tags": []
      },
      "outputs": [
        {
          "name": "stdout",
          "output_type": "stream",
          "text": [
            "Found 4205 images belonging to 2 classes.\n",
            "Found 1574 images belonging to 2 classes.\n"
          ]
        }
      ],
      "source": [
        "# All images will be rescaled by 1./255.\n",
        "train_datagen = ImageDataGenerator(rescale = 1.0/256.)\n",
        "test_datagen  = ImageDataGenerator(rescale = 1.0/256.)\n",
        "\n",
        "# --------------------\n",
        "# Flow training images in batches of 20 using train_datagen generator\n",
        "# --------------------\n",
        "train_generator = train_datagen.flow_from_directory(\"Dataset/cherry-leaves/train\",\n",
        "                                                    batch_size=20,\n",
        "                                                    class_mode='categorical',\n",
        "                                                    target_size=(224, 224))     \n",
        "# --------------------\n",
        "# Flow validation images in batches of 20 using test_datagen generator\n",
        "# --------------------\n",
        "validation_generator =  test_datagen.flow_from_directory(\"Dataset/cherry-leaves/test\",\n",
        "                                                         batch_size=20,\n",
        "                                                         class_mode  = 'categorical',\n",
        "                                                         target_size = (224, 224))"
      ]
    },
    {
      "attachments": {},
      "cell_type": "markdown",
      "metadata": {
        "id": "_3jaO5YgU2TE"
      },
      "source": [
        "# List Resource"
      ]
    },
    {
      "cell_type": "code",
      "execution_count": 6,
      "metadata": {
        "colab": {
          "base_uri": "https://localhost:8080/"
        },
        "id": "SGemCaxnU2TF",
        "outputId": "a6c633e8-8edc-4971-f705-d4c2f6057297",
        "tags": []
      },
      "outputs": [
        {
          "name": "stdout",
          "output_type": "stream",
          "text": [
            "Wed May 24 22:13:47 2023       \n",
            "+---------------------------------------------------------------------------------------+\n",
            "| NVIDIA-SMI 531.79                 Driver Version: 531.79       CUDA Version: 12.1     |\n",
            "|-----------------------------------------+----------------------+----------------------+\n",
            "| GPU  Name                      TCC/WDDM | Bus-Id        Disp.A | Volatile Uncorr. ECC |\n",
            "| Fan  Temp  Perf            Pwr:Usage/Cap|         Memory-Usage | GPU-Util  Compute M. |\n",
            "|                                         |                      |               MIG M. |\n",
            "|=========================================+======================+======================|\n",
            "|   0  NVIDIA GeForce RTX 3060 L...  WDDM | 00000000:01:00.0  On |                  N/A |\n",
            "| N/A   54C    P0               39W /  N/A|   4605MiB /  6144MiB |      8%      Default |\n",
            "|                                         |                      |                  N/A |\n",
            "+-----------------------------------------+----------------------+----------------------+\n",
            "                                                                                         \n",
            "+---------------------------------------------------------------------------------------+\n",
            "| Processes:                                                                            |\n",
            "|  GPU   GI   CI        PID   Type   Process name                            GPU Memory |\n",
            "|        ID   ID                                                             Usage      |\n",
            "|=======================================================================================|\n",
            "|    0   N/A  N/A      4176    C+G   ...les\\AMD\\CNext\\CNext\\AMDRSSrcExt.exe    N/A      |\n",
            "|    0   N/A  N/A      5916      C   ...envs\\tensorflow_gpu_zein\\python.exe    N/A      |\n",
            "|    0   N/A  N/A      6056    C+G   ...Programs\\Microsoft VS Code\\Code.exe    N/A      |\n",
            "|    0   N/A  N/A      6300    C+G   ...16.0_x86__zpdnekdrzrea0\\Spotify.exe    N/A      |\n",
            "|    0   N/A  N/A      9816    C+G   C:\\WINDOWS\\explorer.exe                   N/A      |\n",
            "|    0   N/A  N/A     10328    C+G   ...nt.CBS_cw5n1h2txyewy\\SearchHost.exe    N/A      |\n",
            "|    0   N/A  N/A     10532    C+G   ...2txyewy\\StartMenuExperienceHost.exe    N/A      |\n",
            "|    0   N/A  N/A     13880    C+G   ...x64__qmba6cd70vzyy\\ArmouryCrate.exe    N/A      |\n",
            "|    0   N/A  N/A     14756    C+G   ...t.LockApp_cw5n1h2txyewy\\LockApp.exe    N/A      |\n",
            "|    0   N/A  N/A     15216    C+G   ...oogle\\Chrome\\Application\\chrome.exe    N/A      |\n",
            "|    0   N/A  N/A     16160    C+G   ...ekyb3d8bbwe\\PhoneExperienceHost.exe    N/A      |\n",
            "|    0   N/A  N/A     17876    C+G   ...GeForce Experience\\NVIDIA Share.exe    N/A      |\n",
            "|    0   N/A  N/A     18428    C+G   ...2.0_x64__cv1g1gvanyjgm\\WhatsApp.exe    N/A      |\n",
            "|    0   N/A  N/A     18580    C+G   ...les\\Microsoft OneDrive\\OneDrive.exe    N/A      |\n",
            "|    0   N/A  N/A     19448    C+G   ...les\\Microsoft OneDrive\\OneDrive.exe    N/A      |\n",
            "|    0   N/A  N/A     19780    C+G   ...64__v826wp6bftszj\\TranslucentTB.exe    N/A      |\n",
            "|    0   N/A  N/A     20296    C+G   ...\\AMD\\CNext\\CNext\\RadeonSoftware.exe    N/A      |\n",
            "|    0   N/A  N/A     20672    C+G   ...siveControlPanel\\SystemSettings.exe    N/A      |\n",
            "|    0   N/A  N/A     21868    C+G   ...5n1h2txyewy\\ShellExperienceHost.exe    N/A      |\n",
            "|    0   N/A  N/A     22216    C+G   ...1.0_x64__8wekyb3d8bbwe\\Video.UI.exe    N/A      |\n",
            "|    0   N/A  N/A     22316    C+G   ...on\\113.0.1774.50\\msedgewebview2.exe    N/A      |\n",
            "+---------------------------------------------------------------------------------------+\n"
          ]
        }
      ],
      "source": [
        "# Check GPU\n",
        "!nvidia-smi"
      ]
    },
    {
      "cell_type": "code",
      "execution_count": 7,
      "metadata": {
        "colab": {
          "base_uri": "https://localhost:8080/"
        },
        "id": "FSapZ74PU2TF",
        "outputId": "20b40ae0-53d0-48c4-aa1b-81cb0d8c8c0e",
        "tags": []
      },
      "outputs": [
        {
          "data": {
            "text/plain": [
              "[PhysicalDevice(name='/physical_device:GPU:0', device_type='GPU')]"
            ]
          },
          "execution_count": 7,
          "metadata": {},
          "output_type": "execute_result"
        }
      ],
      "source": [
        "# Lis physical devices\n",
        "devices = tf.config.experimental.list_physical_devices(\"GPU\")\n",
        "devices"
      ]
    },
    {
      "cell_type": "code",
      "execution_count": 8,
      "metadata": {
        "id": "A8WtBtBaU2TG",
        "tags": []
      },
      "outputs": [
        {
          "name": "stdout",
          "output_type": "stream",
          "text": [
            "INFO:tensorflow:Using MirroredStrategy with devices ('/job:localhost/replica:0/task:0/device:GPU:0',)\n"
          ]
        }
      ],
      "source": [
        "# Define the GPU strategy\n",
        "mirrored_strategy = tf.distribute.MirroredStrategy(devices=[\"/gpu:0\"])"
      ]
    },
    {
      "attachments": {},
      "cell_type": "markdown",
      "metadata": {
        "id": "Vqr_uGTNU2TG"
      },
      "source": [
        "# Modelling Without Augmentation"
      ]
    },
    {
      "attachments": {},
      "cell_type": "markdown",
      "metadata": {
        "id": "w4Wzh6ZyU2TH"
      },
      "source": [
        "## DenseNet Model 1"
      ]
    },
    {
      "cell_type": "code",
      "execution_count": 9,
      "metadata": {
        "id": "uUqYGBfRU2TH",
        "tags": []
      },
      "outputs": [],
      "source": [
        "# Difine the callbacks\n",
        "# Save the best model\n",
        "checkpoint_callback = ModelCheckpoint(filepath=\"Cherry_DenseNet_model1_Based_Non_Augmented\", save_best_only=True, monitor=\"val_accuracy\", mode=\"max\", verbose=1)\n",
        "\n",
        "# Early stopping\n",
        "early_stopping_callback = EarlyStopping(monitor=\"val_accuracy\", mode=\"max\", patience=20, verbose=1, restore_best_weights=True)\n",
        "\n",
        "# Reduce learning rate\n",
        "reduce_lr_callback = ReduceLROnPlateau(monitor=\"val_loss\", factor=0.1, patience=5, verbose=1, mode=\"min\", min_delta=0.0001, cooldown=0, min_lr=0)\n",
        "\n",
        "# Callbacks list\n",
        "callbacks=[checkpoint_callback, early_stopping_callback, reduce_lr_callback]"
      ]
    },
    {
      "cell_type": "code",
      "execution_count": 10,
      "metadata": {
        "colab": {
          "base_uri": "https://localhost:8080/"
        },
        "id": "BQHFs3gSU2TI",
        "outputId": "72779902-66b4-43be-b02a-354be1b6f491",
        "tags": []
      },
      "outputs": [
        {
          "name": "stdout",
          "output_type": "stream",
          "text": [
            "Model: \"sequential\"\n",
            "_________________________________________________________________\n",
            " Layer (type)                Output Shape              Param #   \n",
            "=================================================================\n",
            " densenet121 (Functional)    (None, 7, 7, 1024)        7037504   \n",
            "                                                                 \n",
            " global_max_pooling2d (Globa  (None, 1024)             0         \n",
            " lMaxPooling2D)                                                  \n",
            "                                                                 \n",
            " dropout (Dropout)           (None, 1024)              0         \n",
            "                                                                 \n",
            " dense (Dense)               (None, 256)               262400    \n",
            "                                                                 \n",
            " dense_1 (Dense)             (None, 2)                 514       \n",
            "                                                                 \n",
            "=================================================================\n",
            "Total params: 7,300,418\n",
            "Trainable params: 7,216,770\n",
            "Non-trainable params: 83,648\n",
            "_________________________________________________________________\n"
          ]
        }
      ],
      "source": [
        "# Define DIY Model\n",
        "DenseNet_model = tf.keras.models.Sequential([\n",
        "    # DenseNet121 Layer\n",
        "    DenseNet121(include_top=False,weights='imagenet',input_shape=(224, 224, 3)),\n",
        "    # Global Max Pooling Layer\n",
        "    tf.keras.layers.GlobalMaxPooling2D(),\n",
        "    # Drop Out Layer\n",
        "    tf.keras.layers.Dropout(0.2),\n",
        "    # 256 neuron hidden layer\n",
        "    tf.keras.layers.Dense(256, activation='relu'),\n",
        "    # Output\n",
        "    tf.keras.layers.Dense(2, activation='softmax') \n",
        "  ])\n",
        "\n",
        "\n",
        "# Compile Model\n",
        "DenseNet_model.compile(loss='categorical_crossentropy',optimizer=tf.keras.optimizers.Adam(), metrics=['accuracy']) \n",
        "\n",
        "# Model Summary\n",
        "DenseNet_model.summary()"
      ]
    },
    {
      "cell_type": "code",
      "execution_count": 11,
      "metadata": {
        "colab": {
          "base_uri": "https://localhost:8080/"
        },
        "id": "6coN3TKhU2TI",
        "outputId": "bef33201-3538-4d1a-889e-8481c47dba6a",
        "tags": []
      },
      "outputs": [
        {
          "name": "stdout",
          "output_type": "stream",
          "text": [
            "Epoch 1/100\n",
            "211/211 [==============================] - ETA: 0s - loss: 0.1307 - accuracy: 0.9807\n",
            "Epoch 1: val_accuracy improved from -inf to 0.94219, saving model to Cherry_DenseNet_model1_Based_Non_Augmented\n"
          ]
        },
        {
          "name": "stderr",
          "output_type": "stream",
          "text": [
            "WARNING:absl:Found untraced functions such as _jit_compiled_convolution_op, _jit_compiled_convolution_op, _jit_compiled_convolution_op, _jit_compiled_convolution_op, _jit_compiled_convolution_op while saving (showing 5 of 120). These functions will not be directly callable after loading.\n"
          ]
        },
        {
          "name": "stdout",
          "output_type": "stream",
          "text": [
            "INFO:tensorflow:Assets written to: Cherry_DenseNet_model1_Based_Non_Augmented\\assets\n"
          ]
        },
        {
          "name": "stderr",
          "output_type": "stream",
          "text": [
            "INFO:tensorflow:Assets written to: Cherry_DenseNet_model1_Based_Non_Augmented\\assets\n"
          ]
        },
        {
          "name": "stdout",
          "output_type": "stream",
          "text": [
            "211/211 [==============================] - 98s 395ms/step - loss: 0.1307 - accuracy: 0.9807 - val_loss: 0.5724 - val_accuracy: 0.9422 - lr: 0.0010\n",
            "Epoch 2/100\n",
            "211/211 [==============================] - ETA: 0s - loss: 0.0758 - accuracy: 0.9800\n",
            "Epoch 2: val_accuracy improved from 0.94219 to 0.97713, saving model to Cherry_DenseNet_model1_Based_Non_Augmented\n"
          ]
        },
        {
          "name": "stderr",
          "output_type": "stream",
          "text": [
            "WARNING:absl:Found untraced functions such as _jit_compiled_convolution_op, _jit_compiled_convolution_op, _jit_compiled_convolution_op, _jit_compiled_convolution_op, _jit_compiled_convolution_op while saving (showing 5 of 120). These functions will not be directly callable after loading.\n"
          ]
        },
        {
          "name": "stdout",
          "output_type": "stream",
          "text": [
            "INFO:tensorflow:Assets written to: Cherry_DenseNet_model1_Based_Non_Augmented\\assets\n"
          ]
        },
        {
          "name": "stderr",
          "output_type": "stream",
          "text": [
            "INFO:tensorflow:Assets written to: Cherry_DenseNet_model1_Based_Non_Augmented\\assets\n"
          ]
        },
        {
          "name": "stdout",
          "output_type": "stream",
          "text": [
            "211/211 [==============================] - 78s 370ms/step - loss: 0.0758 - accuracy: 0.9800 - val_loss: 0.2315 - val_accuracy: 0.9771 - lr: 0.0010\n",
            "Epoch 3/100\n",
            "211/211 [==============================] - ETA: 0s - loss: 0.0151 - accuracy: 0.9976\n",
            "Epoch 3: val_accuracy improved from 0.97713 to 0.99111, saving model to Cherry_DenseNet_model1_Based_Non_Augmented\n"
          ]
        },
        {
          "name": "stderr",
          "output_type": "stream",
          "text": [
            "WARNING:absl:Found untraced functions such as _jit_compiled_convolution_op, _jit_compiled_convolution_op, _jit_compiled_convolution_op, _jit_compiled_convolution_op, _jit_compiled_convolution_op while saving (showing 5 of 120). These functions will not be directly callable after loading.\n"
          ]
        },
        {
          "name": "stdout",
          "output_type": "stream",
          "text": [
            "INFO:tensorflow:Assets written to: Cherry_DenseNet_model1_Based_Non_Augmented\\assets\n"
          ]
        },
        {
          "name": "stderr",
          "output_type": "stream",
          "text": [
            "INFO:tensorflow:Assets written to: Cherry_DenseNet_model1_Based_Non_Augmented\\assets\n"
          ]
        },
        {
          "name": "stdout",
          "output_type": "stream",
          "text": [
            "211/211 [==============================] - 78s 372ms/step - loss: 0.0151 - accuracy: 0.9976 - val_loss: 0.0295 - val_accuracy: 0.9911 - lr: 0.0010\n",
            "Epoch 4/100\n",
            "211/211 [==============================] - ETA: 0s - loss: 0.0219 - accuracy: 0.9957\n",
            "Epoch 4: val_accuracy did not improve from 0.99111\n",
            "211/211 [==============================] - 41s 192ms/step - loss: 0.0219 - accuracy: 0.9957 - val_loss: 100.0129 - val_accuracy: 0.5140 - lr: 0.0010\n",
            "Epoch 5/100\n",
            "211/211 [==============================] - ETA: 0s - loss: 0.0513 - accuracy: 0.9862\n",
            "Epoch 5: val_accuracy did not improve from 0.99111\n",
            "211/211 [==============================] - 40s 192ms/step - loss: 0.0513 - accuracy: 0.9862 - val_loss: 0.1279 - val_accuracy: 0.9606 - lr: 0.0010\n",
            "Epoch 6/100\n",
            "211/211 [==============================] - ETA: 0s - loss: 0.0117 - accuracy: 0.9960\n",
            "Epoch 6: val_accuracy improved from 0.99111 to 1.00000, saving model to Cherry_DenseNet_model1_Based_Non_Augmented\n"
          ]
        },
        {
          "name": "stderr",
          "output_type": "stream",
          "text": [
            "WARNING:absl:Found untraced functions such as _jit_compiled_convolution_op, _jit_compiled_convolution_op, _jit_compiled_convolution_op, _jit_compiled_convolution_op, _jit_compiled_convolution_op while saving (showing 5 of 120). These functions will not be directly callable after loading.\n"
          ]
        },
        {
          "name": "stdout",
          "output_type": "stream",
          "text": [
            "INFO:tensorflow:Assets written to: Cherry_DenseNet_model1_Based_Non_Augmented\\assets\n"
          ]
        },
        {
          "name": "stderr",
          "output_type": "stream",
          "text": [
            "INFO:tensorflow:Assets written to: Cherry_DenseNet_model1_Based_Non_Augmented\\assets\n"
          ]
        },
        {
          "name": "stdout",
          "output_type": "stream",
          "text": [
            "211/211 [==============================] - 79s 376ms/step - loss: 0.0117 - accuracy: 0.9960 - val_loss: 4.5160e-04 - val_accuracy: 1.0000 - lr: 0.0010\n",
            "Epoch 7/100\n",
            "211/211 [==============================] - ETA: 0s - loss: 0.0021 - accuracy: 0.9993\n",
            "Epoch 7: val_accuracy did not improve from 1.00000\n",
            "211/211 [==============================] - 41s 192ms/step - loss: 0.0021 - accuracy: 0.9993 - val_loss: 1.9513e-04 - val_accuracy: 1.0000 - lr: 0.0010\n",
            "Epoch 8/100\n",
            "211/211 [==============================] - ETA: 0s - loss: 2.9368e-04 - accuracy: 0.9998\n",
            "Epoch 8: val_accuracy did not improve from 1.00000\n",
            "211/211 [==============================] - 41s 192ms/step - loss: 2.9368e-04 - accuracy: 0.9998 - val_loss: 3.1542e-05 - val_accuracy: 1.0000 - lr: 0.0010\n",
            "Epoch 9/100\n",
            "211/211 [==============================] - ETA: 0s - loss: 1.0150e-04 - accuracy: 1.0000\n",
            "Epoch 9: val_accuracy did not improve from 1.00000\n",
            "211/211 [==============================] - 41s 194ms/step - loss: 1.0150e-04 - accuracy: 1.0000 - val_loss: 9.7833e-06 - val_accuracy: 1.0000 - lr: 0.0010\n",
            "Epoch 10/100\n",
            "211/211 [==============================] - ETA: 0s - loss: 6.0496e-05 - accuracy: 1.0000\n",
            "Epoch 10: val_accuracy did not improve from 1.00000\n",
            "211/211 [==============================] - 41s 194ms/step - loss: 6.0496e-05 - accuracy: 1.0000 - val_loss: 8.0802e-06 - val_accuracy: 1.0000 - lr: 0.0010\n",
            "Epoch 11/100\n",
            "211/211 [==============================] - ETA: 0s - loss: 2.3596e-05 - accuracy: 1.0000\n",
            "Epoch 11: val_accuracy did not improve from 1.00000\n",
            "211/211 [==============================] - 41s 195ms/step - loss: 2.3596e-05 - accuracy: 1.0000 - val_loss: 3.2406e-06 - val_accuracy: 1.0000 - lr: 0.0010\n",
            "Epoch 12/100\n",
            "211/211 [==============================] - ETA: 0s - loss: 7.2878e-05 - accuracy: 1.0000\n",
            "Epoch 12: val_accuracy did not improve from 1.00000\n",
            "211/211 [==============================] - 41s 195ms/step - loss: 7.2878e-05 - accuracy: 1.0000 - val_loss: 1.9783e-06 - val_accuracy: 1.0000 - lr: 0.0010\n",
            "Epoch 13/100\n",
            "211/211 [==============================] - ETA: 0s - loss: 0.0152 - accuracy: 0.9948\n",
            "Epoch 13: val_accuracy did not improve from 1.00000\n",
            "\n",
            "Epoch 13: ReduceLROnPlateau reducing learning rate to 0.00010000000474974513.\n",
            "211/211 [==============================] - 41s 196ms/step - loss: 0.0152 - accuracy: 0.9948 - val_loss: 0.0080 - val_accuracy: 0.9968 - lr: 0.0010\n",
            "Epoch 14/100\n",
            "211/211 [==============================] - ETA: 0s - loss: 0.0133 - accuracy: 0.9986\n",
            "Epoch 14: val_accuracy did not improve from 1.00000\n",
            "211/211 [==============================] - 42s 197ms/step - loss: 0.0133 - accuracy: 0.9986 - val_loss: 0.0022 - val_accuracy: 1.0000 - lr: 1.0000e-04\n",
            "Epoch 15/100\n",
            "211/211 [==============================] - ETA: 0s - loss: 0.0018 - accuracy: 0.9995\n",
            "Epoch 15: val_accuracy did not improve from 1.00000\n",
            "211/211 [==============================] - 43s 205ms/step - loss: 0.0018 - accuracy: 0.9995 - val_loss: 8.3286e-04 - val_accuracy: 1.0000 - lr: 1.0000e-04\n",
            "Epoch 16/100\n",
            "211/211 [==============================] - ETA: 0s - loss: 0.0022 - accuracy: 0.9993\n",
            "Epoch 16: val_accuracy did not improve from 1.00000\n",
            "211/211 [==============================] - 42s 201ms/step - loss: 0.0022 - accuracy: 0.9993 - val_loss: 3.5735e-04 - val_accuracy: 1.0000 - lr: 1.0000e-04\n",
            "Epoch 17/100\n",
            "211/211 [==============================] - ETA: 0s - loss: 0.0013 - accuracy: 0.9998\n",
            "Epoch 17: val_accuracy did not improve from 1.00000\n",
            "211/211 [==============================] - 43s 202ms/step - loss: 0.0013 - accuracy: 0.9998 - val_loss: 1.7928e-04 - val_accuracy: 1.0000 - lr: 1.0000e-04\n",
            "Epoch 18/100\n",
            "211/211 [==============================] - ETA: 0s - loss: 4.3099e-04 - accuracy: 1.0000\n",
            "Epoch 18: val_accuracy did not improve from 1.00000\n",
            "\n",
            "Epoch 18: ReduceLROnPlateau reducing learning rate to 1.0000000474974514e-05.\n",
            "211/211 [==============================] - 43s 202ms/step - loss: 4.3099e-04 - accuracy: 1.0000 - val_loss: 1.0291e-04 - val_accuracy: 1.0000 - lr: 1.0000e-04\n",
            "Epoch 19/100\n",
            "211/211 [==============================] - ETA: 0s - loss: 3.0292e-04 - accuracy: 1.0000\n",
            "Epoch 19: val_accuracy did not improve from 1.00000\n",
            "211/211 [==============================] - 43s 202ms/step - loss: 3.0292e-04 - accuracy: 1.0000 - val_loss: 8.8787e-05 - val_accuracy: 1.0000 - lr: 1.0000e-05\n",
            "Epoch 20/100\n",
            "211/211 [==============================] - ETA: 0s - loss: 8.3946e-04 - accuracy: 1.0000\n",
            "Epoch 20: val_accuracy did not improve from 1.00000\n",
            "211/211 [==============================] - 43s 202ms/step - loss: 8.3946e-04 - accuracy: 1.0000 - val_loss: 7.3095e-05 - val_accuracy: 1.0000 - lr: 1.0000e-05\n",
            "Epoch 21/100\n",
            "211/211 [==============================] - ETA: 0s - loss: 5.1356e-04 - accuracy: 1.0000\n",
            "Epoch 21: val_accuracy did not improve from 1.00000\n",
            "211/211 [==============================] - 43s 202ms/step - loss: 5.1356e-04 - accuracy: 1.0000 - val_loss: 7.5269e-05 - val_accuracy: 1.0000 - lr: 1.0000e-05\n",
            "Epoch 22/100\n",
            "211/211 [==============================] - ETA: 0s - loss: 5.8343e-04 - accuracy: 0.9998\n",
            "Epoch 22: val_accuracy did not improve from 1.00000\n",
            "211/211 [==============================] - 43s 202ms/step - loss: 5.8343e-04 - accuracy: 0.9998 - val_loss: 7.0855e-05 - val_accuracy: 1.0000 - lr: 1.0000e-05\n",
            "Epoch 23/100\n",
            "211/211 [==============================] - ETA: 0s - loss: 8.9683e-04 - accuracy: 0.9998\n",
            "Epoch 23: val_accuracy did not improve from 1.00000\n",
            "\n",
            "Epoch 23: ReduceLROnPlateau reducing learning rate to 1.0000000656873453e-06.\n",
            "211/211 [==============================] - 43s 202ms/step - loss: 8.9683e-04 - accuracy: 0.9998 - val_loss: 6.5660e-05 - val_accuracy: 1.0000 - lr: 1.0000e-05\n",
            "Epoch 24/100\n",
            "211/211 [==============================] - ETA: 0s - loss: 2.9529e-04 - accuracy: 1.0000\n",
            "Epoch 24: val_accuracy did not improve from 1.00000\n",
            "211/211 [==============================] - 43s 202ms/step - loss: 2.9529e-04 - accuracy: 1.0000 - val_loss: 6.7181e-05 - val_accuracy: 1.0000 - lr: 1.0000e-06\n",
            "Epoch 25/100\n",
            "211/211 [==============================] - ETA: 0s - loss: 3.8344e-04 - accuracy: 1.0000\n",
            "Epoch 25: val_accuracy did not improve from 1.00000\n",
            "211/211 [==============================] - 44s 206ms/step - loss: 3.8344e-04 - accuracy: 1.0000 - val_loss: 6.4080e-05 - val_accuracy: 1.0000 - lr: 1.0000e-06\n",
            "Epoch 26/100\n",
            "211/211 [==============================] - ETA: 0s - loss: 8.8246e-04 - accuracy: 0.9998\n",
            "Epoch 26: val_accuracy did not improve from 1.00000\n",
            "Restoring model weights from the end of the best epoch: 6.\n",
            "211/211 [==============================] - 42s 199ms/step - loss: 8.8246e-04 - accuracy: 0.9998 - val_loss: 6.2814e-05 - val_accuracy: 1.0000 - lr: 1.0000e-06\n",
            "Epoch 26: early stopping\n"
          ]
        }
      ],
      "source": [
        "# Define the number of epochs\n",
        "num_epochs = 100\n",
        "\n",
        "# Train the model\n",
        "history_DenseNet_model_1 = DenseNet_model.fit(train_generator, epochs=num_epochs, validation_data=validation_generator, callbacks=callbacks)"
      ]
    },
    {
      "cell_type": "code",
      "execution_count": 12,
      "metadata": {
        "colab": {
          "base_uri": "https://localhost:8080/",
          "height": 904
        },
        "id": "lvS9xz3LU2TI",
        "outputId": "a2d91627-d296-41bd-fb73-4c559209bbda",
        "tags": []
      },
      "outputs": [
        {
          "data": {
            "text/plain": [
              "<matplotlib.legend.Legend at 0x1e529be60e0>"
            ]
          },
          "execution_count": 12,
          "metadata": {},
          "output_type": "execute_result"
        },
        {
          "data": {
            "image/png": "[encoded data removed]",
            "text/plain": [
              "<Figure size 640x480 with 1 Axes>"
            ]
          },
          "metadata": {},
          "output_type": "display_data"
        },
        {
          "data": {
            "image/png": "[encoded data removed]",
            "text/plain": [
              "<Figure size 640x480 with 1 Axes>"
            ]
          },
          "metadata": {},
          "output_type": "display_data"
        }
      ],
      "source": [
        "#-----------------------------------------------------------\n",
        "# Retrieve a list of list results on training and test data\n",
        "# sets for each training epoch\n",
        "#-----------------------------------------------------------\n",
        "acc      = history_DenseNet_model_1.history['accuracy' ]\n",
        "val_acc  = history_DenseNet_model_1.history['val_accuracy' ]\n",
        "loss     = history_DenseNet_model_1.history['loss' ]\n",
        "val_loss = history_DenseNet_model_1.history['val_loss' ]\n",
        "\n",
        "epochs   = range(len(acc)) # Get number of epochs\n",
        "\n",
        "#------------------------------------------------\n",
        "# Plot training and validation accuracy per epoch\n",
        "#------------------------------------------------\n",
        "plt.plot  (epochs, acc )\n",
        "plt.plot  (epochs, val_acc )\n",
        "plt.title ('Training and validation accuracy DenseNet 1 Model')\n",
        "plt.legend(['train', 'val'], loc='upper left')\n",
        "plt.figure()\n",
        "\n",
        "#------------------------------------------------\n",
        "# Plot training and validation loss per epoch\n",
        "#------------------------------------------------\n",
        "plt.plot  (epochs, loss)\n",
        "plt.plot  (epochs, val_loss)\n",
        "plt.title ('Training and validation loss DenseNet 1 Model')\n",
        "plt.legend(['train', 'val'], loc='upper left')"
      ]
    },
    {
      "attachments": {},
      "cell_type": "markdown",
      "metadata": {
        "id": "SvQOR9IuU2TJ"
      },
      "source": [
        "## DenseNet Model 2"
      ]
    },
    {
      "cell_type": "code",
      "execution_count": 13,
      "metadata": {
        "id": "Tj7lcdvUU2TJ",
        "tags": []
      },
      "outputs": [],
      "source": [
        "# Difine the callbacks\n",
        "# Save the best model\n",
        "checkpoint_callback = ModelCheckpoint(filepath=\"Cherry_DenseNet_model2_Based_Non_Augmented\", save_best_only=True, monitor=\"val_accuracy\", mode=\"max\", verbose=1)\n",
        "\n",
        "# Early stopping\n",
        "early_stopping_callback = EarlyStopping(monitor=\"val_accuracy\", mode=\"max\", patience=20, verbose=1, restore_best_weights=True)\n",
        "\n",
        "# Reduce learning rate\n",
        "reduce_lr_callback = ReduceLROnPlateau(monitor=\"val_loss\", factor=0.1, patience=5, verbose=1, mode=\"min\", min_delta=0.0001, cooldown=0, min_lr=0)\n",
        "\n",
        "# Callbacks list\n",
        "callbacks=[checkpoint_callback, early_stopping_callback, reduce_lr_callback]"
      ]
    },
    {
      "cell_type": "code",
      "execution_count": 14,
      "metadata": {
        "colab": {
          "base_uri": "https://localhost:8080/"
        },
        "id": "7NKPY1xGU2TJ",
        "outputId": "42d511aa-a697-4b8d-d452-6d603b06a0e3",
        "tags": []
      },
      "outputs": [
        {
          "name": "stdout",
          "output_type": "stream",
          "text": [
            "Model: \"sequential_1\"\n",
            "_________________________________________________________________\n",
            " Layer (type)                Output Shape              Param #   \n",
            "=================================================================\n",
            " densenet121 (Functional)    (None, 7, 7, 1024)        7037504   \n",
            "                                                                 \n",
            " global_average_pooling2d (G  (None, 1024)             0         \n",
            " lobalAveragePooling2D)                                          \n",
            "                                                                 \n",
            " dropout_1 (Dropout)         (None, 1024)              0         \n",
            "                                                                 \n",
            " dense_2 (Dense)             (None, 256)               262400    \n",
            "                                                                 \n",
            " dense_3 (Dense)             (None, 2)                 514       \n",
            "                                                                 \n",
            "=================================================================\n",
            "Total params: 7,300,418\n",
            "Trainable params: 7,216,770\n",
            "Non-trainable params: 83,648\n",
            "_________________________________________________________________\n"
          ]
        }
      ],
      "source": [
        "# Define DIY Model\n",
        "DenseNet_model_2 = tf.keras.models.Sequential([\n",
        "    # DenseNet121 Layer\n",
        "    DenseNet121(include_top=False,weights='imagenet',input_shape=(224, 224, 3)),\n",
        "    # Global Average Pooling Layer\n",
        "    tf.keras.layers.GlobalAveragePooling2D(),\n",
        "    # Drop Out Layer\n",
        "    tf.keras.layers.Dropout(0.2),\n",
        "    # 256 neuron hidden layer\n",
        "    tf.keras.layers.Dense(256, activation='relu'),\n",
        "    # Output\n",
        "    tf.keras.layers.Dense(2, activation='softmax') \n",
        "  ])\n",
        "\n",
        "\n",
        "# Compile Model\n",
        "DenseNet_model_2.compile(loss='categorical_crossentropy',optimizer=tf.keras.optimizers.Adam(), metrics=['accuracy']) \n",
        "\n",
        "# Model Summary\n",
        "DenseNet_model_2.summary()"
      ]
    },
    {
      "cell_type": "code",
      "execution_count": 15,
      "metadata": {
        "colab": {
          "base_uri": "https://localhost:8080/"
        },
        "id": "6beuexC9U2TJ",
        "outputId": "069e245b-32ff-4363-dea1-e04a65992165",
        "tags": []
      },
      "outputs": [
        {
          "name": "stdout",
          "output_type": "stream",
          "text": [
            "Epoch 1/100\n",
            "211/211 [==============================] - ETA: 0s - loss: 0.0453 - accuracy: 0.9881\n",
            "Epoch 1: val_accuracy improved from -inf to 0.72173, saving model to Cherry_DenseNet_model2_Based_Non_Augmented\n"
          ]
        },
        {
          "name": "stderr",
          "output_type": "stream",
          "text": [
            "WARNING:absl:Found untraced functions such as _jit_compiled_convolution_op, _jit_compiled_convolution_op, _jit_compiled_convolution_op, _jit_compiled_convolution_op, _jit_compiled_convolution_op while saving (showing 5 of 120). These functions will not be directly callable after loading.\n"
          ]
        },
        {
          "name": "stdout",
          "output_type": "stream",
          "text": [
            "INFO:tensorflow:Assets written to: Cherry_DenseNet_model2_Based_Non_Augmented\\assets\n"
          ]
        },
        {
          "name": "stderr",
          "output_type": "stream",
          "text": [
            "INFO:tensorflow:Assets written to: Cherry_DenseNet_model2_Based_Non_Augmented\\assets\n"
          ]
        },
        {
          "name": "stdout",
          "output_type": "stream",
          "text": [
            "211/211 [==============================] - 93s 396ms/step - loss: 0.0453 - accuracy: 0.9881 - val_loss: 2.2297 - val_accuracy: 0.7217 - lr: 0.0010\n",
            "Epoch 2/100\n",
            "211/211 [==============================] - ETA: 0s - loss: 0.0325 - accuracy: 0.9886\n",
            "Epoch 2: val_accuracy improved from 0.72173 to 0.98729, saving model to Cherry_DenseNet_model2_Based_Non_Augmented\n"
          ]
        },
        {
          "name": "stderr",
          "output_type": "stream",
          "text": [
            "WARNING:absl:Found untraced functions such as _jit_compiled_convolution_op, _jit_compiled_convolution_op, _jit_compiled_convolution_op, _jit_compiled_convolution_op, _jit_compiled_convolution_op while saving (showing 5 of 120). These functions will not be directly callable after loading.\n"
          ]
        },
        {
          "name": "stdout",
          "output_type": "stream",
          "text": [
            "INFO:tensorflow:Assets written to: Cherry_DenseNet_model2_Based_Non_Augmented\\assets\n"
          ]
        },
        {
          "name": "stderr",
          "output_type": "stream",
          "text": [
            "INFO:tensorflow:Assets written to: Cherry_DenseNet_model2_Based_Non_Augmented\\assets\n"
          ]
        },
        {
          "name": "stdout",
          "output_type": "stream",
          "text": [
            "211/211 [==============================] - 81s 383ms/step - loss: 0.0325 - accuracy: 0.9886 - val_loss: 0.1621 - val_accuracy: 0.9873 - lr: 0.0010\n",
            "Epoch 3/100\n",
            "211/211 [==============================] - ETA: 0s - loss: 0.0113 - accuracy: 0.9967\n",
            "Epoch 3: val_accuracy improved from 0.98729 to 0.99936, saving model to Cherry_DenseNet_model2_Based_Non_Augmented\n"
          ]
        },
        {
          "name": "stderr",
          "output_type": "stream",
          "text": [
            "WARNING:absl:Found untraced functions such as _jit_compiled_convolution_op, _jit_compiled_convolution_op, _jit_compiled_convolution_op, _jit_compiled_convolution_op, _jit_compiled_convolution_op while saving (showing 5 of 120). These functions will not be directly callable after loading.\n"
          ]
        },
        {
          "name": "stdout",
          "output_type": "stream",
          "text": [
            "INFO:tensorflow:Assets written to: Cherry_DenseNet_model2_Based_Non_Augmented\\assets\n"
          ]
        },
        {
          "name": "stderr",
          "output_type": "stream",
          "text": [
            "INFO:tensorflow:Assets written to: Cherry_DenseNet_model2_Based_Non_Augmented\\assets\n"
          ]
        },
        {
          "name": "stdout",
          "output_type": "stream",
          "text": [
            "211/211 [==============================] - 83s 391ms/step - loss: 0.0113 - accuracy: 0.9967 - val_loss: 6.1895e-04 - val_accuracy: 0.9994 - lr: 0.0010\n",
            "Epoch 4/100\n",
            "211/211 [==============================] - ETA: 0s - loss: 0.0010 - accuracy: 0.9998\n",
            "Epoch 4: val_accuracy did not improve from 0.99936\n",
            "211/211 [==============================] - 42s 198ms/step - loss: 0.0010 - accuracy: 0.9998 - val_loss: 0.0032 - val_accuracy: 0.9987 - lr: 0.0010\n",
            "Epoch 5/100\n",
            "211/211 [==============================] - ETA: 0s - loss: 0.0025 - accuracy: 0.9988\n",
            "Epoch 5: val_accuracy improved from 0.99936 to 1.00000, saving model to Cherry_DenseNet_model2_Based_Non_Augmented\n"
          ]
        },
        {
          "name": "stderr",
          "output_type": "stream",
          "text": [
            "WARNING:absl:Found untraced functions such as _jit_compiled_convolution_op, _jit_compiled_convolution_op, _jit_compiled_convolution_op, _jit_compiled_convolution_op, _jit_compiled_convolution_op while saving (showing 5 of 120). These functions will not be directly callable after loading.\n"
          ]
        },
        {
          "name": "stdout",
          "output_type": "stream",
          "text": [
            "INFO:tensorflow:Assets written to: Cherry_DenseNet_model2_Based_Non_Augmented\\assets\n"
          ]
        },
        {
          "name": "stderr",
          "output_type": "stream",
          "text": [
            "INFO:tensorflow:Assets written to: Cherry_DenseNet_model2_Based_Non_Augmented\\assets\n"
          ]
        },
        {
          "name": "stdout",
          "output_type": "stream",
          "text": [
            "211/211 [==============================] - 80s 379ms/step - loss: 0.0025 - accuracy: 0.9988 - val_loss: 2.6244e-05 - val_accuracy: 1.0000 - lr: 0.0010\n",
            "Epoch 6/100\n",
            "211/211 [==============================] - ETA: 0s - loss: 0.0112 - accuracy: 0.9967\n",
            "Epoch 6: val_accuracy did not improve from 1.00000\n",
            "211/211 [==============================] - 39s 184ms/step - loss: 0.0112 - accuracy: 0.9967 - val_loss: 3.1167e-04 - val_accuracy: 1.0000 - lr: 0.0010\n",
            "Epoch 7/100\n",
            "211/211 [==============================] - ETA: 0s - loss: 0.0244 - accuracy: 0.9938\n",
            "Epoch 7: val_accuracy did not improve from 1.00000\n",
            "211/211 [==============================] - 39s 186ms/step - loss: 0.0244 - accuracy: 0.9938 - val_loss: 46.6809 - val_accuracy: 0.5089 - lr: 0.0010\n",
            "Epoch 8/100\n",
            "211/211 [==============================] - ETA: 0s - loss: 0.0309 - accuracy: 0.9893\n",
            "Epoch 8: val_accuracy did not improve from 1.00000\n",
            "211/211 [==============================] - 40s 188ms/step - loss: 0.0309 - accuracy: 0.9893 - val_loss: 0.4924 - val_accuracy: 0.8875 - lr: 0.0010\n",
            "Epoch 9/100\n",
            "211/211 [==============================] - ETA: 0s - loss: 0.0118 - accuracy: 0.9960\n",
            "Epoch 9: val_accuracy did not improve from 1.00000\n",
            "211/211 [==============================] - 40s 189ms/step - loss: 0.0118 - accuracy: 0.9960 - val_loss: 0.0348 - val_accuracy: 0.9873 - lr: 0.0010\n",
            "Epoch 10/100\n",
            "211/211 [==============================] - ETA: 0s - loss: 0.0051 - accuracy: 0.9986\n",
            "Epoch 10: val_accuracy did not improve from 1.00000\n",
            "\n",
            "Epoch 10: ReduceLROnPlateau reducing learning rate to 0.00010000000474974513.\n",
            "211/211 [==============================] - 39s 187ms/step - loss: 0.0051 - accuracy: 0.9986 - val_loss: 0.0241 - val_accuracy: 0.9930 - lr: 0.0010\n",
            "Epoch 11/100\n",
            "211/211 [==============================] - ETA: 0s - loss: 0.0013 - accuracy: 0.9998\n",
            "Epoch 11: val_accuracy did not improve from 1.00000\n",
            "211/211 [==============================] - 40s 188ms/step - loss: 0.0013 - accuracy: 0.9998 - val_loss: 3.9475e-04 - val_accuracy: 1.0000 - lr: 1.0000e-04\n",
            "Epoch 12/100\n",
            "211/211 [==============================] - ETA: 0s - loss: 0.0016 - accuracy: 0.9993\n",
            "Epoch 12: val_accuracy did not improve from 1.00000\n",
            "211/211 [==============================] - 40s 189ms/step - loss: 0.0016 - accuracy: 0.9993 - val_loss: 3.4891e-04 - val_accuracy: 1.0000 - lr: 1.0000e-04\n",
            "Epoch 13/100\n",
            "211/211 [==============================] - ETA: 0s - loss: 8.8451e-04 - accuracy: 0.9998\n",
            "Epoch 13: val_accuracy did not improve from 1.00000\n",
            "211/211 [==============================] - 40s 190ms/step - loss: 8.8451e-04 - accuracy: 0.9998 - val_loss: 1.7627e-04 - val_accuracy: 1.0000 - lr: 1.0000e-04\n",
            "Epoch 14/100\n",
            "211/211 [==============================] - ETA: 0s - loss: 3.0543e-04 - accuracy: 1.0000\n",
            "Epoch 14: val_accuracy did not improve from 1.00000\n",
            "211/211 [==============================] - 41s 192ms/step - loss: 3.0543e-04 - accuracy: 1.0000 - val_loss: 1.0962e-04 - val_accuracy: 1.0000 - lr: 1.0000e-04\n",
            "Epoch 15/100\n",
            "211/211 [==============================] - ETA: 0s - loss: 3.5072e-04 - accuracy: 1.0000\n",
            "Epoch 15: val_accuracy did not improve from 1.00000\n",
            "\n",
            "Epoch 15: ReduceLROnPlateau reducing learning rate to 1.0000000474974514e-05.\n",
            "211/211 [==============================] - 42s 200ms/step - loss: 3.5072e-04 - accuracy: 1.0000 - val_loss: 9.1296e-05 - val_accuracy: 1.0000 - lr: 1.0000e-04\n",
            "Epoch 16/100\n",
            "211/211 [==============================] - ETA: 0s - loss: 8.8955e-04 - accuracy: 0.9998\n",
            "Epoch 16: val_accuracy did not improve from 1.00000\n",
            "211/211 [==============================] - 42s 200ms/step - loss: 8.8955e-04 - accuracy: 0.9998 - val_loss: 8.8929e-05 - val_accuracy: 1.0000 - lr: 1.0000e-05\n",
            "Epoch 17/100\n",
            "211/211 [==============================] - ETA: 0s - loss: 7.7625e-04 - accuracy: 0.9995\n",
            "Epoch 17: val_accuracy did not improve from 1.00000\n",
            "211/211 [==============================] - 42s 198ms/step - loss: 7.7625e-04 - accuracy: 0.9995 - val_loss: 1.0055e-04 - val_accuracy: 1.0000 - lr: 1.0000e-05\n",
            "Epoch 18/100\n",
            "211/211 [==============================] - ETA: 0s - loss: 5.2425e-04 - accuracy: 1.0000\n",
            "Epoch 18: val_accuracy did not improve from 1.00000\n",
            "211/211 [==============================] - 41s 196ms/step - loss: 5.2425e-04 - accuracy: 1.0000 - val_loss: 8.2122e-05 - val_accuracy: 1.0000 - lr: 1.0000e-05\n",
            "Epoch 19/100\n",
            "211/211 [==============================] - ETA: 0s - loss: 0.0012 - accuracy: 0.9998\n",
            "Epoch 19: val_accuracy did not improve from 1.00000\n",
            "211/211 [==============================] - 42s 197ms/step - loss: 0.0012 - accuracy: 0.9998 - val_loss: 8.2154e-05 - val_accuracy: 1.0000 - lr: 1.0000e-05\n",
            "Epoch 20/100\n",
            "211/211 [==============================] - ETA: 0s - loss: 8.1436e-04 - accuracy: 0.9998\n",
            "Epoch 20: val_accuracy did not improve from 1.00000\n",
            "\n",
            "Epoch 20: ReduceLROnPlateau reducing learning rate to 1.0000000656873453e-06.\n",
            "211/211 [==============================] - 41s 193ms/step - loss: 8.1436e-04 - accuracy: 0.9998 - val_loss: 8.1792e-05 - val_accuracy: 1.0000 - lr: 1.0000e-05\n",
            "Epoch 21/100\n",
            "211/211 [==============================] - ETA: 0s - loss: 4.3578e-04 - accuracy: 1.0000\n",
            "Epoch 21: val_accuracy did not improve from 1.00000\n",
            "211/211 [==============================] - 43s 202ms/step - loss: 4.3578e-04 - accuracy: 1.0000 - val_loss: 8.1014e-05 - val_accuracy: 1.0000 - lr: 1.0000e-06\n",
            "Epoch 22/100\n",
            "211/211 [==============================] - ETA: 0s - loss: 7.0393e-04 - accuracy: 0.9998\n",
            "Epoch 22: val_accuracy did not improve from 1.00000\n",
            "211/211 [==============================] - 43s 204ms/step - loss: 7.0393e-04 - accuracy: 0.9998 - val_loss: 8.3555e-05 - val_accuracy: 1.0000 - lr: 1.0000e-06\n",
            "Epoch 23/100\n",
            "211/211 [==============================] - ETA: 0s - loss: 7.4281e-04 - accuracy: 0.9998\n",
            "Epoch 23: val_accuracy did not improve from 1.00000\n",
            "211/211 [==============================] - 43s 206ms/step - loss: 7.4281e-04 - accuracy: 0.9998 - val_loss: 7.9663e-05 - val_accuracy: 1.0000 - lr: 1.0000e-06\n",
            "Epoch 24/100\n",
            "211/211 [==============================] - ETA: 0s - loss: 3.7532e-04 - accuracy: 1.0000\n",
            "Epoch 24: val_accuracy did not improve from 1.00000\n",
            "211/211 [==============================] - 43s 203ms/step - loss: 3.7532e-04 - accuracy: 1.0000 - val_loss: 8.1579e-05 - val_accuracy: 1.0000 - lr: 1.0000e-06\n",
            "Epoch 25/100\n",
            "211/211 [==============================] - ETA: 0s - loss: 4.5153e-04 - accuracy: 1.0000\n",
            "Epoch 25: val_accuracy did not improve from 1.00000\n",
            "Restoring model weights from the end of the best epoch: 5.\n",
            "\n",
            "Epoch 25: ReduceLROnPlateau reducing learning rate to 1.0000001111620805e-07.\n",
            "211/211 [==============================] - 42s 197ms/step - loss: 4.5153e-04 - accuracy: 1.0000 - val_loss: 7.9474e-05 - val_accuracy: 1.0000 - lr: 1.0000e-06\n",
            "Epoch 25: early stopping\n"
          ]
        }
      ],
      "source": [
        "# Define the number of epochs\n",
        "num_epochs = 100\n",
        "\n",
        "# Train the model\n",
        "history_DenseNet_model_2 = DenseNet_model_2.fit(train_generator, epochs=num_epochs, validation_data=validation_generator, callbacks=callbacks)"
      ]
    },
    {
      "cell_type": "code",
      "execution_count": 16,
      "metadata": {
        "colab": {
          "base_uri": "https://localhost:8080/",
          "height": 904
        },
        "id": "3f1nmwUhU2TK",
        "outputId": "c6015a53-9ec2-407b-dbed-ba9a44408a46",
        "tags": []
      },
      "outputs": [
        {
          "data": {
            "text/plain": [
              "<matplotlib.legend.Legend at 0x1e515aa4bb0>"
            ]
          },
          "execution_count": 16,
          "metadata": {},
          "output_type": "execute_result"
        },
        {
          "data": {
            "image/png": "[encoded data removed]",
            "text/plain": [
              "<Figure size 640x480 with 1 Axes>"
            ]
          },
          "metadata": {},
          "output_type": "display_data"
        },
        {
          "data": {
            "image/png": "[encoded data removed]",
            "text/plain": [
              "<Figure size 640x480 with 1 Axes>"
            ]
          },
          "metadata": {},
          "output_type": "display_data"
        }
      ],
      "source": [
        "#-----------------------------------------------------------\n",
        "# Retrieve a list of list results on training and test data\n",
        "# sets for each training epoch\n",
        "#-----------------------------------------------------------\n",
        "acc      = history_DenseNet_model_2.history['accuracy' ]\n",
        "val_acc  = history_DenseNet_model_2.history['val_accuracy' ]\n",
        "loss     = history_DenseNet_model_2.history['loss' ]\n",
        "val_loss = history_DenseNet_model_2.history['val_loss' ]\n",
        "\n",
        "epochs   = range(len(acc)) # Get number of epochs\n",
        "\n",
        "#------------------------------------------------\n",
        "# Plot training and validation accuracy per epoch\n",
        "#------------------------------------------------\n",
        "plt.plot  (epochs, acc )\n",
        "plt.plot  (epochs, val_acc )\n",
        "plt.title ('Training and validation accuracy DenseNet 2 Model')\n",
        "plt.legend(['train', 'val'], loc='upper left')\n",
        "plt.figure()\n",
        "\n",
        "#------------------------------------------------\n",
        "# Plot training and validation loss per epoch\n",
        "#------------------------------------------------\n",
        "plt.plot  (epochs, loss)\n",
        "plt.plot  (epochs, val_loss)\n",
        "plt.title ('Training and validation loss DenseNet 2 Model')\n",
        "plt.legend(['train', 'val'], loc='upper left')"
      ]
    }
  ],
  "metadata": {
    "accelerator": "GPU",
    "colab": {
      "gpuType": "T4",
      "provenance": []
    },
    "gpuClass": "standard",
    "kernelspec": {
      "display_name": "Python 3 (ipykernel)",
      "language": "python",
      "name": "python3"
    },
    "language_info": {
      "codemirror_mode": {
        "name": "ipython",
        "version": 3
      },
      "file_extension": ".py",
      "mimetype": "text/x-python",
      "name": "python",
      "nbconvert_exporter": "python",
      "pygments_lexer": "ipython3",
      "version": "3.10.0"
    }
  },
  "nbformat": 4,
  "nbformat_minor": 0
}
