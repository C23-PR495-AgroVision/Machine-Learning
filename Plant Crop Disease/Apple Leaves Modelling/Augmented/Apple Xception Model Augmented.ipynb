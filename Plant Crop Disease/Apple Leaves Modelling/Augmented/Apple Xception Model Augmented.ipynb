{
 "cells": [
  {
   "cell_type": "markdown",
   "metadata": {
    "id": "BpgbrA9j9ZDT"
   },
   "source": [
    "# Library"
   ]
  },
  {
   "cell_type": "code",
   "execution_count": 1,
   "metadata": {
    "colab": {
     "base_uri": "https://localhost:8080/"
    },
    "executionInfo": {
     "elapsed": 5795,
     "status": "ok",
     "timestamp": 1684978836687,
     "user": {
      "displayName": "Ahmad Habib Hasan Zein",
      "userId": "11481134139016108484"
     },
     "user_tz": -420
    },
    "id": "5d8cHmVK9ZDW",
    "outputId": "feabf038-7216-4bed-dce0-c429221d17fb",
    "tags": []
   },
   "outputs": [
    {
     "name": "stdout",
     "output_type": "stream",
     "text": [
      "Collecting matplotlib\n",
      "  Downloading matplotlib-3.7.1-cp38-cp38-manylinux_2_12_x86_64.manylinux2010_x86_64.whl (9.2 MB)\n",
      "\u001b[2K     \u001b[90m━━━━━━━━━━━━━━━━━━━━━━━━━━━━━━━━━━━━━━━━\u001b[0m \u001b[32m9.2/9.2 MB\u001b[0m \u001b[31m34.0 MB/s\u001b[0m eta \u001b[36m0:00:00\u001b[0m00:01\u001b[0m00:01\u001b[0m\n",
      "\u001b[?25hCollecting cycler>=0.10\n",
      "  Downloading cycler-0.11.0-py3-none-any.whl (6.4 kB)\n",
      "Collecting pillow>=6.2.0\n",
      "  Downloading Pillow-9.5.0-cp38-cp38-manylinux_2_28_x86_64.whl (3.4 MB)\n",
      "\u001b[2K     \u001b[90m━━━━━━━━━━━━━━━━━━━━━━━━━━━━━━━━━━━━━━━━\u001b[0m \u001b[32m3.4/3.4 MB\u001b[0m \u001b[31m51.7 MB/s\u001b[0m eta \u001b[36m0:00:00\u001b[0mta \u001b[36m0:00:01\u001b[0m\n",
      "\u001b[?25hCollecting pyparsing>=2.3.1\n",
      "  Downloading pyparsing-3.0.9-py3-none-any.whl (98 kB)\n",
      "\u001b[2K     \u001b[90m━━━━━━━━━━━━━━━━━━━━━━━━━━━━━━━━━━━━━━━━\u001b[0m \u001b[32m98.3/98.3 kB\u001b[0m \u001b[31m14.0 MB/s\u001b[0m eta \u001b[36m0:00:00\u001b[0m\n",
      "\u001b[?25hCollecting fonttools>=4.22.0\n",
      "  Downloading fonttools-4.39.4-py3-none-any.whl (1.0 MB)\n",
      "\u001b[2K     \u001b[90m━━━━━━━━━━━━━━━━━━━━━━━━━━━━━━━━━━━━━━━━\u001b[0m \u001b[32m1.0/1.0 MB\u001b[0m \u001b[31m48.1 MB/s\u001b[0m eta \u001b[36m0:00:00\u001b[0m\n",
      "\u001b[?25hRequirement already satisfied: importlib-resources>=3.2.0 in /usr/local/lib/python3.8/dist-packages (from matplotlib) (5.12.0)\n",
      "Collecting kiwisolver>=1.0.1\n",
      "  Downloading kiwisolver-1.4.4-cp38-cp38-manylinux_2_5_x86_64.manylinux1_x86_64.whl (1.2 MB)\n",
      "\u001b[2K     \u001b[90m━━━━━━━━━━━━━━━━━━━━━━━━━━━━━━━━━━━━━━━━\u001b[0m \u001b[32m1.2/1.2 MB\u001b[0m \u001b[31m56.2 MB/s\u001b[0m eta \u001b[36m0:00:00\u001b[0m\n",
      "\u001b[?25hRequirement already satisfied: python-dateutil>=2.7 in /usr/local/lib/python3.8/dist-packages (from matplotlib) (2.8.2)\n",
      "Requirement already satisfied: numpy>=1.20 in /usr/local/lib/python3.8/dist-packages (from matplotlib) (1.23.5)\n",
      "Collecting contourpy>=1.0.1\n",
      "  Downloading contourpy-1.0.7-cp38-cp38-manylinux_2_17_x86_64.manylinux2014_x86_64.whl (300 kB)\n",
      "\u001b[2K     \u001b[90m━━━━━━━━━━━━━━━━━━━━━━━━━━━━━━━━━━━━━━\u001b[0m \u001b[32m300.0/300.0 kB\u001b[0m \u001b[31m39.3 MB/s\u001b[0m eta \u001b[36m0:00:00\u001b[0m\n",
      "\u001b[?25hRequirement already satisfied: packaging>=20.0 in /usr/local/lib/python3.8/dist-packages (from matplotlib) (23.0)\n",
      "Requirement already satisfied: zipp>=3.1.0 in /usr/local/lib/python3.8/dist-packages (from importlib-resources>=3.2.0->matplotlib) (3.15.0)\n",
      "Requirement already satisfied: six>=1.5 in /usr/lib/python3/dist-packages (from python-dateutil>=2.7->matplotlib) (1.14.0)\n",
      "Installing collected packages: pyparsing, pillow, kiwisolver, fonttools, cycler, contourpy, matplotlib\n",
      "Successfully installed contourpy-1.0.7 cycler-0.11.0 fonttools-4.39.4 kiwisolver-1.4.4 matplotlib-3.7.1 pillow-9.5.0 pyparsing-3.0.9\n",
      "\u001b[33mWARNING: Running pip as the 'root' user can result in broken permissions and conflicting behaviour with the system package manager. It is recommended to use a virtual environment instead: https://pip.pypa.io/warnings/venv\u001b[0m\u001b[33m\n",
      "\u001b[0m\n",
      "\u001b[1m[\u001b[0m\u001b[34;49mnotice\u001b[0m\u001b[1;39;49m]\u001b[0m\u001b[39;49m A new release of pip is available: \u001b[0m\u001b[31;49m23.0.1\u001b[0m\u001b[39;49m -> \u001b[0m\u001b[32;49m23.1.2\u001b[0m\n",
      "\u001b[1m[\u001b[0m\u001b[34;49mnotice\u001b[0m\u001b[1;39;49m]\u001b[0m\u001b[39;49m To update, run: \u001b[0m\u001b[32;49mpython3 -m pip install --upgrade pip\u001b[0m\n",
      "Note: you may need to restart the kernel to use updated packages.\n"
     ]
    }
   ],
   "source": [
    "pip install matplotlib"
   ]
  },
  {
   "cell_type": "code",
   "execution_count": 2,
   "metadata": {
    "colab": {
     "base_uri": "https://localhost:8080/"
    },
    "executionInfo": {
     "elapsed": 6396,
     "status": "ok",
     "timestamp": 1684978843079,
     "user": {
      "displayName": "Ahmad Habib Hasan Zein",
      "userId": "11481134139016108484"
     },
     "user_tz": -420
    },
    "id": "KsT4qa2J9ZDY",
    "outputId": "82544589-8646-4db1-91b3-f5ffaabb6073",
    "tags": []
   },
   "outputs": [
    {
     "name": "stdout",
     "output_type": "stream",
     "text": [
      "Collecting opendatasets\n",
      "  Downloading opendatasets-0.1.22-py3-none-any.whl (15 kB)\n",
      "Collecting click\n",
      "  Downloading click-8.1.3-py3-none-any.whl (96 kB)\n",
      "\u001b[2K     \u001b[90m━━━━━━━━━━━━━━━━━━━━━━━━━━━━━━━━━━━━━━━━\u001b[0m \u001b[32m96.6/96.6 kB\u001b[0m \u001b[31m2.3 MB/s\u001b[0m eta \u001b[36m0:00:00\u001b[0ma \u001b[36m0:00:01\u001b[0m\n",
      "\u001b[?25hCollecting kaggle\n",
      "  Downloading kaggle-1.5.13.tar.gz (63 kB)\n",
      "\u001b[2K     \u001b[90m━━━━━━━━━━━━━━━━━━━━━━━━━━━━━━━━━━━━━━━━\u001b[0m \u001b[32m63.3/63.3 kB\u001b[0m \u001b[31m10.8 MB/s\u001b[0m eta \u001b[36m0:00:00\u001b[0m\n",
      "\u001b[?25h  Preparing metadata (setup.py) ... \u001b[?25ldone\n",
      "\u001b[?25hCollecting tqdm\n",
      "  Downloading tqdm-4.65.0-py3-none-any.whl (77 kB)\n",
      "\u001b[2K     \u001b[90m━━━━━━━━━━━━━━━━━━━━━━━━━━━━━━━━━━━━━━━━\u001b[0m \u001b[32m77.1/77.1 kB\u001b[0m \u001b[31m12.8 MB/s\u001b[0m eta \u001b[36m0:00:00\u001b[0m\n",
      "\u001b[?25hRequirement already satisfied: six>=1.10 in /usr/lib/python3/dist-packages (from kaggle->opendatasets) (1.14.0)\n",
      "Requirement already satisfied: certifi in /usr/lib/python3/dist-packages (from kaggle->opendatasets) (2019.11.28)\n",
      "Requirement already satisfied: python-dateutil in /usr/local/lib/python3.8/dist-packages (from kaggle->opendatasets) (2.8.2)\n",
      "Requirement already satisfied: requests in /usr/local/lib/python3.8/dist-packages (from kaggle->opendatasets) (2.30.0)\n",
      "Collecting python-slugify\n",
      "  Downloading python_slugify-8.0.1-py2.py3-none-any.whl (9.7 kB)\n",
      "Requirement already satisfied: urllib3 in /usr/lib/python3/dist-packages (from kaggle->opendatasets) (1.25.8)\n",
      "Collecting text-unidecode>=1.3\n",
      "  Downloading text_unidecode-1.3-py2.py3-none-any.whl (78 kB)\n",
      "\u001b[2K     \u001b[90m━━━━━━━━━━━━━━━━━━━━━━━━━━━━━━━━━━━━━━━━\u001b[0m \u001b[32m78.2/78.2 kB\u001b[0m \u001b[31m11.5 MB/s\u001b[0m eta \u001b[36m0:00:00\u001b[0m\n",
      "\u001b[?25hRequirement already satisfied: idna<4,>=2.5 in /usr/lib/python3/dist-packages (from requests->kaggle->opendatasets) (2.8)\n",
      "Requirement already satisfied: charset-normalizer<4,>=2 in /usr/local/lib/python3.8/dist-packages (from requests->kaggle->opendatasets) (3.1.0)\n",
      "Building wheels for collected packages: kaggle\n",
      "  Building wheel for kaggle (setup.py) ... \u001b[?25ldone\n",
      "\u001b[?25h  Created wheel for kaggle: filename=kaggle-1.5.13-py3-none-any.whl size=77717 sha256=9abbdcfa896a01b808676b4b8635610b2411e08ed7253ddc1fa22384d2268c6f\n",
      "  Stored in directory: /root/.cache/pip/wheels/e6/8e/67/e07554a720a493dc6b39b30488590ba92ed45448ad0134d253\n",
      "Successfully built kaggle\n",
      "Installing collected packages: text-unidecode, tqdm, python-slugify, click, kaggle, opendatasets\n",
      "Successfully installed click-8.1.3 kaggle-1.5.13 opendatasets-0.1.22 python-slugify-8.0.1 text-unidecode-1.3 tqdm-4.65.0\n",
      "\u001b[33mWARNING: Running pip as the 'root' user can result in broken permissions and conflicting behaviour with the system package manager. It is recommended to use a virtual environment instead: https://pip.pypa.io/warnings/venv\u001b[0m\u001b[33m\n",
      "\u001b[0m\n",
      "\u001b[1m[\u001b[0m\u001b[34;49mnotice\u001b[0m\u001b[1;39;49m]\u001b[0m\u001b[39;49m A new release of pip is available: \u001b[0m\u001b[31;49m23.0.1\u001b[0m\u001b[39;49m -> \u001b[0m\u001b[32;49m23.1.2\u001b[0m\n",
      "\u001b[1m[\u001b[0m\u001b[34;49mnotice\u001b[0m\u001b[1;39;49m]\u001b[0m\u001b[39;49m To update, run: \u001b[0m\u001b[32;49mpython3 -m pip install --upgrade pip\u001b[0m\n",
      "Note: you may need to restart the kernel to use updated packages.\n"
     ]
    }
   ],
   "source": [
    "pip install opendatasets"
   ]
  },
  {
   "cell_type": "code",
   "execution_count": 3,
   "metadata": {
    "executionInfo": {
     "elapsed": 2969,
     "status": "ok",
     "timestamp": 1684978846044,
     "user": {
      "displayName": "Ahmad Habib Hasan Zein",
      "userId": "11481134139016108484"
     },
     "user_tz": -420
    },
    "id": "RIjvYXAJ7nsG",
    "tags": []
   },
   "outputs": [],
   "source": [
    "# Library to dataset\n",
    "import opendatasets as od\n",
    "import os\n",
    "import zipfile\n",
    "import numpy as np\n",
    "\n",
    "# Surpress Warnings\n",
    "import warnings\n",
    "warnings.filterwarnings('ignore')\n",
    "os.environ['TF_CPP_MIN_LOG_LEVEL'] = '3' \n",
    "# library visualization\n",
    "import matplotlib.pyplot as plt\n",
    "\n",
    "# Library Tensorflow\n",
    "import tensorflow as tf\n",
    "from tensorflow import keras\n",
    "from tensorflow.keras.preprocessing.image import ImageDataGenerator\n",
    "from tensorflow.keras.callbacks import ModelCheckpoint, EarlyStopping, ReduceLROnPlateau\n",
    "from tensorflow.keras.applications.densenet import DenseNet121\n",
    "from tensorflow.keras.applications.xception import Xception\n",
    "# Others\n",
    "import shutil\n",
    "import random"
   ]
  },
  {
   "cell_type": "markdown",
   "metadata": {
    "id": "1QZa_XMd9ZDZ"
   },
   "source": [
    "# Load dataset"
   ]
  },
  {
   "cell_type": "code",
   "execution_count": 4,
   "metadata": {
    "colab": {
     "base_uri": "https://localhost:8080/"
    },
    "executionInfo": {
     "elapsed": 29207,
     "status": "ok",
     "timestamp": 1684978875244,
     "user": {
      "displayName": "Ahmad Habib Hasan Zein",
      "userId": "11481134139016108484"
     },
     "user_tz": -420
    },
    "id": "CH0iNFLH7rmp",
    "outputId": "b56c57e2-b856-4bcd-ed70-e5268f1ec475",
    "tags": []
   },
   "outputs": [
    {
     "name": "stdout",
     "output_type": "stream",
     "text": [
      "Please provide your Kaggle credentials to download this dataset. Learn more: http://bit.ly/kaggle-creds\n",
      "Your Kaggle username:"
     ]
    },
    {
     "name": "stdin",
     "output_type": "stream",
     "text": [
      "  ahmadhabibhasanzein\n"
     ]
    },
    {
     "name": "stdout",
     "output_type": "stream",
     "text": [
      "Your Kaggle Key:"
     ]
    },
    {
     "name": "stdin",
     "output_type": "stream",
     "text": [
      "  ········\n"
     ]
    },
    {
     "name": "stdout",
     "output_type": "stream",
     "text": [
      "Downloading apple-data.zip to ./apple-data\n"
     ]
    },
    {
     "name": "stderr",
     "output_type": "stream",
     "text": [
      "100%|██████████| 216M/216M [00:11<00:00, 20.3MB/s] \n"
     ]
    },
    {
     "name": "stdout",
     "output_type": "stream",
     "text": [
      "\n"
     ]
    }
   ],
   "source": [
    "# Download dataset\n",
    "od.download('https://www.kaggle.com/datasets/ahmadhabibhasanzein/apple-data')"
   ]
  },
  {
   "cell_type": "code",
   "execution_count": 5,
   "metadata": {
    "colab": {
     "base_uri": "https://localhost:8080/"
    },
    "executionInfo": {
     "elapsed": 5155,
     "status": "ok",
     "timestamp": 1684978882760,
     "user": {
      "displayName": "Ahmad Habib Hasan Zein",
      "userId": "11481134139016108484"
     },
     "user_tz": -420
    },
    "id": "fjuuT1_V9ZDa",
    "outputId": "3a777c75-e86e-4613-dcd2-ea3f8432af20",
    "tags": []
   },
   "outputs": [
    {
     "name": "stdout",
     "output_type": "stream",
     "text": [
      "==========================Training Data====================\n",
      "Found 8014 files belonging to 4 classes.\n",
      "==========================Validation Data====================\n",
      "Found 1943 files belonging to 4 classes.\n"
     ]
    }
   ],
   "source": [
    "# Load dataset\n",
    "print(\"==========================Training Data====================\")\n",
    "train_data = tf.keras.preprocessing.image_dataset_from_directory(\n",
    "    \"apple-data/Apple/train\",\n",
    "    label_mode=\"categorical\",\n",
    "    class_names=['Apple Black rot', 'Apple Scab Leaf', 'Apple leaf Healthy', 'Apple rust leaf'],\n",
    "    color_mode=\"rgb\",\n",
    "    batch_size=1,\n",
    "    image_size=(256, 256),\n",
    "    shuffle=True,\n",
    "    seed=123\n",
    ")\n",
    "print(\"==========================Validation Data====================\")\n",
    "val_data = tf.keras.preprocessing.image_dataset_from_directory(\n",
    "    \"apple-data/Apple/valid\",\n",
    "    label_mode=\"categorical\",\n",
    "    class_names=['Apple Black rot', 'Apple Scab Leaf', 'Apple leaf Healthy', 'Apple rust leaf'],\n",
    "    color_mode=\"rgb\",\n",
    "    batch_size=1,\n",
    "    image_size=(256, 256),\n",
    "    shuffle=True,\n",
    "    seed=123\n",
    ")"
   ]
  },
  {
   "cell_type": "code",
   "execution_count": 6,
   "metadata": {
    "colab": {
     "base_uri": "https://localhost:8080/"
    },
    "executionInfo": {
     "elapsed": 5,
     "status": "ok",
     "timestamp": 1684978883969,
     "user": {
      "displayName": "Ahmad Habib Hasan Zein",
      "userId": "11481134139016108484"
     },
     "user_tz": -420
    },
    "id": "YFs93hWJ9ZDa",
    "outputId": "ee2ce94b-bae2-465b-e48e-51881dea54eb",
    "tags": []
   },
   "outputs": [
    {
     "name": "stdout",
     "output_type": "stream",
     "text": [
      "Found 8014 images belonging to 4 classes.\n",
      "Found 1943 images belonging to 4 classes.\n"
     ]
    }
   ],
   "source": [
    "# All images will be rescaled by 1./256. and Augmented\n",
    "train_datagen = ImageDataGenerator(rescale = 1.0/256.,\n",
    "                                   rotation_range=40,\n",
    "                                   width_shift_range=0.2,\n",
    "                                   height_shift_range=0.2,\n",
    "                                   shear_range=0.2,\n",
    "                                   zoom_range=0.2,\n",
    "                                   horizontal_flip=True,\n",
    "                                   fill_mode='nearest')\n",
    "\n",
    "test_datagen  = ImageDataGenerator(rescale = 1.0/256.)\n",
    "\n",
    "# --------------------\n",
    "# Flow training images in batches of 20 using train_datagen generator\n",
    "# --------------------\n",
    "train_generator = train_datagen.flow_from_directory(\"apple-data/Apple/train\",\n",
    "                                                    batch_size=20,\n",
    "                                                    class_mode='categorical',\n",
    "                                                    target_size=(224, 224))     \n",
    "# --------------------\n",
    "# Flow validation images in batches of 20 using test_datagen generator\n",
    "# --------------------\n",
    "validation_generator =  test_datagen.flow_from_directory(\"apple-data/Apple/valid\",\n",
    "                                                         batch_size=20,\n",
    "                                                         class_mode  = 'categorical',\n",
    "                                                         target_size = (224, 224))"
   ]
  },
  {
   "cell_type": "markdown",
   "metadata": {
    "id": "JEk8KUFR9ZDb"
   },
   "source": [
    "# List Resource"
   ]
  },
  {
   "cell_type": "code",
   "execution_count": 7,
   "metadata": {
    "colab": {
     "base_uri": "https://localhost:8080/"
    },
    "executionInfo": {
     "elapsed": 4,
     "status": "ok",
     "timestamp": 1684978884554,
     "user": {
      "displayName": "Ahmad Habib Hasan Zein",
      "userId": "11481134139016108484"
     },
     "user_tz": -420
    },
    "id": "Lqej6-_09ZDb",
    "outputId": "f44ecd8b-dd39-4b5b-95f3-33bcdc1f2eb9",
    "tags": []
   },
   "outputs": [
    {
     "name": "stdout",
     "output_type": "stream",
     "text": [
      "Sat May 27 06:40:18 2023       \n",
      "+-----------------------------------------------------------------------------+\n",
      "| NVIDIA-SMI 525.105.17   Driver Version: 525.105.17   CUDA Version: 12.0     |\n",
      "|-------------------------------+----------------------+----------------------+\n",
      "| GPU  Name        Persistence-M| Bus-Id        Disp.A | Volatile Uncorr. ECC |\n",
      "| Fan  Temp  Perf  Pwr:Usage/Cap|         Memory-Usage | GPU-Util  Compute M. |\n",
      "|                               |                      |               MIG M. |\n",
      "|===============================+======================+======================|\n",
      "|   0  NVIDIA GeForce ...  On   | 00000000:81:00.0 Off |                  N/A |\n",
      "| 80%   28C    P2   115W / 280W |  22724MiB / 24576MiB |      0%      Default |\n",
      "|                               |                      |                  N/A |\n",
      "+-------------------------------+----------------------+----------------------+\n",
      "                                                                               \n",
      "+-----------------------------------------------------------------------------+\n",
      "| Processes:                                                                  |\n",
      "|  GPU   GI   CI        PID   Type   Process name                  GPU Memory |\n",
      "|        ID   ID                                                   Usage      |\n",
      "|=============================================================================|\n",
      "+-----------------------------------------------------------------------------+\n"
     ]
    }
   ],
   "source": [
    "# Check GPU\n",
    "!nvidia-smi"
   ]
  },
  {
   "cell_type": "code",
   "execution_count": 8,
   "metadata": {
    "colab": {
     "base_uri": "https://localhost:8080/"
    },
    "executionInfo": {
     "elapsed": 4,
     "status": "ok",
     "timestamp": 1684978886357,
     "user": {
      "displayName": "Ahmad Habib Hasan Zein",
      "userId": "11481134139016108484"
     },
     "user_tz": -420
    },
    "id": "WPJg4t989ZDc",
    "outputId": "e161b239-c749-4143-8387-92c6ee9910cd",
    "tags": []
   },
   "outputs": [
    {
     "data": {
      "text/plain": [
       "[PhysicalDevice(name='/physical_device:GPU:0', device_type='GPU')]"
      ]
     },
     "execution_count": 8,
     "metadata": {},
     "output_type": "execute_result"
    }
   ],
   "source": [
    "# Lis physical devices\n",
    "devices = tf.config.experimental.list_physical_devices(\"GPU\")\n",
    "devices"
   ]
  },
  {
   "cell_type": "code",
   "execution_count": 9,
   "metadata": {
    "executionInfo": {
     "elapsed": 493,
     "status": "ok",
     "timestamp": 1684978958244,
     "user": {
      "displayName": "Ahmad Habib Hasan Zein",
      "userId": "11481134139016108484"
     },
     "user_tz": -420
    },
    "id": "QAHLbHWM9ZDc",
    "tags": []
   },
   "outputs": [
    {
     "name": "stdout",
     "output_type": "stream",
     "text": [
      "INFO:tensorflow:Using MirroredStrategy with devices ('/job:localhost/replica:0/task:0/device:GPU:0',)\n"
     ]
    }
   ],
   "source": [
    "# Define the GPU strategy\n",
    "mirrored_strategy = tf.distribute.MirroredStrategy(devices=[\"/gpu:0\"])"
   ]
  },
  {
   "cell_type": "markdown",
   "metadata": {
    "id": "G0-JWhKo9ZDc"
   },
   "source": [
    "# Modelling With Augmentation"
   ]
  },
  {
   "cell_type": "markdown",
   "metadata": {
    "id": "zoBS_ATI9ZDd"
   },
   "source": [
    "## Xception Model 1"
   ]
  },
  {
   "cell_type": "code",
   "execution_count": 10,
   "metadata": {
    "executionInfo": {
     "elapsed": 3,
     "status": "ok",
     "timestamp": 1684978958967,
     "user": {
      "displayName": "Ahmad Habib Hasan Zein",
      "userId": "11481134139016108484"
     },
     "user_tz": -420
    },
    "id": "2eyrV-MJ9ZDd",
    "tags": []
   },
   "outputs": [],
   "source": [
    "# Difine the callbacks\n",
    "# Save the best model\n",
    "checkpoint_callback = ModelCheckpoint(filepath=\"Apple_Xception_model1_Based_Augmented\", save_best_only=True, monitor=\"val_accuracy\", mode=\"max\", verbose=1)\n",
    "\n",
    "# Early stopping\n",
    "early_stopping_callback = EarlyStopping(monitor=\"val_accuracy\", mode=\"max\", patience=20, verbose=1, restore_best_weights=True)\n",
    "\n",
    "# Reduce learning rate\n",
    "reduce_lr_callback = ReduceLROnPlateau(monitor=\"val_loss\", factor=0.1, patience=5, verbose=1, mode=\"min\", min_delta=0.0001, cooldown=0, min_lr=0)\n",
    "\n",
    "# Callbacks list\n",
    "callbacks=[checkpoint_callback, early_stopping_callback, reduce_lr_callback]"
   ]
  },
  {
   "cell_type": "code",
   "execution_count": 11,
   "metadata": {
    "colab": {
     "base_uri": "https://localhost:8080/"
    },
    "executionInfo": {
     "elapsed": 5144,
     "status": "ok",
     "timestamp": 1684978964109,
     "user": {
      "displayName": "Ahmad Habib Hasan Zein",
      "userId": "11481134139016108484"
     },
     "user_tz": -420
    },
    "id": "_i_E_m-f9ZDd",
    "outputId": "ea9e432b-7f08-4e39-856f-2f6def5ad0f8",
    "tags": []
   },
   "outputs": [
    {
     "name": "stdout",
     "output_type": "stream",
     "text": [
      "Downloading data from https://storage.googleapis.com/tensorflow/keras-applications/xception/xception_weights_tf_dim_ordering_tf_kernels_notop.h5\n",
      "83683744/83683744 [==============================] - 1s 0us/step\n",
      "Model: \"sequential\"\n",
      "_________________________________________________________________\n",
      " Layer (type)                Output Shape              Param #   \n",
      "=================================================================\n",
      " xception (Functional)       (None, 7, 7, 2048)        20861480  \n",
      "                                                                 \n",
      " global_max_pooling2d (Globa  (None, 2048)             0         \n",
      " lMaxPooling2D)                                                  \n",
      "                                                                 \n",
      " dropout (Dropout)           (None, 2048)              0         \n",
      "                                                                 \n",
      " dense (Dense)               (None, 256)               524544    \n",
      "                                                                 \n",
      " dense_1 (Dense)             (None, 4)                 1028      \n",
      "                                                                 \n",
      "=================================================================\n",
      "Total params: 21,387,052\n",
      "Trainable params: 21,332,524\n",
      "Non-trainable params: 54,528\n",
      "_________________________________________________________________\n"
     ]
    }
   ],
   "source": [
    "# Define Model\n",
    "Xception1_model = tf.keras.models.Sequential([\n",
    "    # Xception Layer\n",
    "    Xception(include_top=False,weights='imagenet',input_shape=(224, 224, 3)),\n",
    "    # Max Pooling Layer\n",
    "    tf.keras.layers.GlobalMaxPooling2D(),\n",
    "    # Drop Out Layer\n",
    "    tf.keras.layers.Dropout(0.2),\n",
    "    # 256 neuron hidden layer\n",
    "    tf.keras.layers.Dense(256, activation='relu'),\n",
    "    # Output\n",
    "    tf.keras.layers.Dense(4, activation='softmax') \n",
    "  ])\n",
    "\n",
    "\n",
    "# Compile Model\n",
    "Xception1_model.compile(loss='categorical_crossentropy',optimizer=tf.keras.optimizers.Adam(), metrics=['accuracy']) \n",
    "\n",
    "# Model Summary\n",
    "Xception1_model.summary()"
   ]
  },
  {
   "cell_type": "code",
   "execution_count": 12,
   "metadata": {
    "colab": {
     "base_uri": "https://localhost:8080/"
    },
    "executionInfo": {
     "elapsed": 6445112,
     "status": "ok",
     "timestamp": 1684985409219,
     "user": {
      "displayName": "Ahmad Habib Hasan Zein",
      "userId": "11481134139016108484"
     },
     "user_tz": -420
    },
    "id": "jxKWPLUP9ZDd",
    "outputId": "3ebc1a77-815f-4d1c-b7cf-0c5b90f2c702",
    "tags": []
   },
   "outputs": [
    {
     "name": "stdout",
     "output_type": "stream",
     "text": [
      "Epoch 1/100\n",
      "401/401 [==============================] - ETA: 0s - loss: 0.5629 - accuracy: 0.7790\n",
      "Epoch 1: val_accuracy improved from -inf to 0.93206, saving model to Apple_Xception_model1_Based_Augmented\n"
     ]
    },
    {
     "name": "stderr",
     "output_type": "stream",
     "text": [
      "WARNING:absl:Found untraced functions such as _jit_compiled_convolution_op, _jit_compiled_convolution_op, _jit_compiled_convolution_op, _jit_compiled_convolution_op, _jit_compiled_convolution_op while saving (showing 5 of 40). These functions will not be directly callable after loading.\n"
     ]
    },
    {
     "name": "stdout",
     "output_type": "stream",
     "text": [
      "INFO:tensorflow:Assets written to: Apple_Xception_model1_Based_Augmented/assets\n"
     ]
    },
    {
     "name": "stderr",
     "output_type": "stream",
     "text": [
      "INFO:tensorflow:Assets written to: Apple_Xception_model1_Based_Augmented/assets\n"
     ]
    },
    {
     "name": "stdout",
     "output_type": "stream",
     "text": [
      "401/401 [==============================] - 122s 233ms/step - loss: 0.5629 - accuracy: 0.7790 - val_loss: 0.2467 - val_accuracy: 0.9321 - lr: 0.0010\n",
      "Epoch 2/100\n",
      "401/401 [==============================] - ETA: 0s - loss: 0.1598 - accuracy: 0.9604\n",
      "Epoch 2: val_accuracy did not improve from 0.93206\n",
      "401/401 [==============================] - 75s 187ms/step - loss: 0.1598 - accuracy: 0.9604 - val_loss: 0.3771 - val_accuracy: 0.8971 - lr: 0.0010\n",
      "Epoch 3/100\n",
      "401/401 [==============================] - ETA: 0s - loss: 0.1081 - accuracy: 0.9720\n",
      "Epoch 3: val_accuracy improved from 0.93206 to 0.99125, saving model to Apple_Xception_model1_Based_Augmented\n"
     ]
    },
    {
     "name": "stderr",
     "output_type": "stream",
     "text": [
      "WARNING:absl:Found untraced functions such as _jit_compiled_convolution_op, _jit_compiled_convolution_op, _jit_compiled_convolution_op, _jit_compiled_convolution_op, _jit_compiled_convolution_op while saving (showing 5 of 40). These functions will not be directly callable after loading.\n"
     ]
    },
    {
     "name": "stdout",
     "output_type": "stream",
     "text": [
      "INFO:tensorflow:Assets written to: Apple_Xception_model1_Based_Augmented/assets\n"
     ]
    },
    {
     "name": "stderr",
     "output_type": "stream",
     "text": [
      "INFO:tensorflow:Assets written to: Apple_Xception_model1_Based_Augmented/assets\n"
     ]
    },
    {
     "name": "stdout",
     "output_type": "stream",
     "text": [
      "401/401 [==============================] - 90s 224ms/step - loss: 0.1081 - accuracy: 0.9720 - val_loss: 0.0254 - val_accuracy: 0.9913 - lr: 0.0010\n",
      "Epoch 4/100\n",
      "401/401 [==============================] - ETA: 0s - loss: 0.0783 - accuracy: 0.9770\n",
      "Epoch 4: val_accuracy did not improve from 0.99125\n",
      "401/401 [==============================] - 75s 188ms/step - loss: 0.0783 - accuracy: 0.9770 - val_loss: 0.1638 - val_accuracy: 0.9501 - lr: 0.0010\n",
      "Epoch 5/100\n",
      "401/401 [==============================] - ETA: 0s - loss: 0.1174 - accuracy: 0.9663\n",
      "Epoch 5: val_accuracy did not improve from 0.99125\n",
      "401/401 [==============================] - 75s 187ms/step - loss: 0.1174 - accuracy: 0.9663 - val_loss: 0.3515 - val_accuracy: 0.9213 - lr: 0.0010\n",
      "Epoch 6/100\n",
      "401/401 [==============================] - ETA: 0s - loss: 0.0702 - accuracy: 0.9792\n",
      "Epoch 6: val_accuracy did not improve from 0.99125\n",
      "401/401 [==============================] - 75s 187ms/step - loss: 0.0702 - accuracy: 0.9792 - val_loss: 1.8427 - val_accuracy: 0.7406 - lr: 0.0010\n",
      "Epoch 7/100\n",
      "401/401 [==============================] - ETA: 0s - loss: 0.0763 - accuracy: 0.9783\n",
      "Epoch 7: val_accuracy improved from 0.99125 to 0.99846, saving model to Apple_Xception_model1_Based_Augmented\n"
     ]
    },
    {
     "name": "stderr",
     "output_type": "stream",
     "text": [
      "WARNING:absl:Found untraced functions such as _jit_compiled_convolution_op, _jit_compiled_convolution_op, _jit_compiled_convolution_op, _jit_compiled_convolution_op, _jit_compiled_convolution_op while saving (showing 5 of 40). These functions will not be directly callable after loading.\n"
     ]
    },
    {
     "name": "stdout",
     "output_type": "stream",
     "text": [
      "INFO:tensorflow:Assets written to: Apple_Xception_model1_Based_Augmented/assets\n"
     ]
    },
    {
     "name": "stderr",
     "output_type": "stream",
     "text": [
      "INFO:tensorflow:Assets written to: Apple_Xception_model1_Based_Augmented/assets\n"
     ]
    },
    {
     "name": "stdout",
     "output_type": "stream",
     "text": [
      "401/401 [==============================] - 90s 225ms/step - loss: 0.0763 - accuracy: 0.9783 - val_loss: 0.0063 - val_accuracy: 0.9985 - lr: 0.0010\n",
      "Epoch 8/100\n",
      "401/401 [==============================] - ETA: 0s - loss: 0.0474 - accuracy: 0.9849\n",
      "Epoch 8: val_accuracy improved from 0.99846 to 0.99897, saving model to Apple_Xception_model1_Based_Augmented\n"
     ]
    },
    {
     "name": "stderr",
     "output_type": "stream",
     "text": [
      "WARNING:absl:Found untraced functions such as _jit_compiled_convolution_op, _jit_compiled_convolution_op, _jit_compiled_convolution_op, _jit_compiled_convolution_op, _jit_compiled_convolution_op while saving (showing 5 of 40). These functions will not be directly callable after loading.\n"
     ]
    },
    {
     "name": "stdout",
     "output_type": "stream",
     "text": [
      "INFO:tensorflow:Assets written to: Apple_Xception_model1_Based_Augmented/assets\n"
     ]
    },
    {
     "name": "stderr",
     "output_type": "stream",
     "text": [
      "INFO:tensorflow:Assets written to: Apple_Xception_model1_Based_Augmented/assets\n"
     ]
    },
    {
     "name": "stdout",
     "output_type": "stream",
     "text": [
      "401/401 [==============================] - 90s 226ms/step - loss: 0.0474 - accuracy: 0.9849 - val_loss: 0.0047 - val_accuracy: 0.9990 - lr: 0.0010\n",
      "Epoch 9/100\n",
      "401/401 [==============================] - ETA: 0s - loss: 0.0605 - accuracy: 0.9845\n",
      "Epoch 9: val_accuracy did not improve from 0.99897\n",
      "401/401 [==============================] - 75s 186ms/step - loss: 0.0605 - accuracy: 0.9845 - val_loss: 0.0070 - val_accuracy: 0.9974 - lr: 0.0010\n",
      "Epoch 10/100\n",
      "401/401 [==============================] - ETA: 0s - loss: 0.0544 - accuracy: 0.9829\n",
      "Epoch 10: val_accuracy did not improve from 0.99897\n",
      "401/401 [==============================] - 75s 187ms/step - loss: 0.0544 - accuracy: 0.9829 - val_loss: 0.0702 - val_accuracy: 0.9846 - lr: 0.0010\n",
      "Epoch 11/100\n",
      "401/401 [==============================] - ETA: 0s - loss: 0.0625 - accuracy: 0.9827\n",
      "Epoch 11: val_accuracy did not improve from 0.99897\n",
      "401/401 [==============================] - 75s 187ms/step - loss: 0.0625 - accuracy: 0.9827 - val_loss: 0.0164 - val_accuracy: 0.9938 - lr: 0.0010\n",
      "Epoch 12/100\n",
      "401/401 [==============================] - ETA: 0s - loss: 0.0590 - accuracy: 0.9829\n",
      "Epoch 12: val_accuracy did not improve from 0.99897\n",
      "401/401 [==============================] - 75s 187ms/step - loss: 0.0590 - accuracy: 0.9829 - val_loss: 0.0333 - val_accuracy: 0.9856 - lr: 0.0010\n",
      "Epoch 13/100\n",
      "401/401 [==============================] - ETA: 0s - loss: 0.0713 - accuracy: 0.9795\n",
      "Epoch 13: val_accuracy did not improve from 0.99897\n",
      "\n",
      "Epoch 13: ReduceLROnPlateau reducing learning rate to 0.00010000000474974513.\n",
      "401/401 [==============================] - 74s 185ms/step - loss: 0.0713 - accuracy: 0.9795 - val_loss: 0.0531 - val_accuracy: 0.9887 - lr: 0.0010\n",
      "Epoch 14/100\n",
      "401/401 [==============================] - ETA: 0s - loss: 0.0362 - accuracy: 0.9890\n",
      "Epoch 14: val_accuracy improved from 0.99897 to 0.99949, saving model to Apple_Xception_model1_Based_Augmented\n"
     ]
    },
    {
     "name": "stderr",
     "output_type": "stream",
     "text": [
      "WARNING:absl:Found untraced functions such as _jit_compiled_convolution_op, _jit_compiled_convolution_op, _jit_compiled_convolution_op, _jit_compiled_convolution_op, _jit_compiled_convolution_op while saving (showing 5 of 40). These functions will not be directly callable after loading.\n"
     ]
    },
    {
     "name": "stdout",
     "output_type": "stream",
     "text": [
      "INFO:tensorflow:Assets written to: Apple_Xception_model1_Based_Augmented/assets\n"
     ]
    },
    {
     "name": "stderr",
     "output_type": "stream",
     "text": [
      "INFO:tensorflow:Assets written to: Apple_Xception_model1_Based_Augmented/assets\n"
     ]
    },
    {
     "name": "stdout",
     "output_type": "stream",
     "text": [
      "401/401 [==============================] - 91s 226ms/step - loss: 0.0362 - accuracy: 0.9890 - val_loss: 0.0015 - val_accuracy: 0.9995 - lr: 1.0000e-04\n",
      "Epoch 15/100\n",
      "401/401 [==============================] - ETA: 0s - loss: 0.0218 - accuracy: 0.9926\n",
      "Epoch 15: val_accuracy did not improve from 0.99949\n",
      "401/401 [==============================] - 75s 187ms/step - loss: 0.0218 - accuracy: 0.9926 - val_loss: 0.0012 - val_accuracy: 0.9995 - lr: 1.0000e-04\n",
      "Epoch 16/100\n",
      "401/401 [==============================] - ETA: 0s - loss: 0.0226 - accuracy: 0.9926\n",
      "Epoch 16: val_accuracy did not improve from 0.99949\n",
      "401/401 [==============================] - 76s 188ms/step - loss: 0.0226 - accuracy: 0.9926 - val_loss: 8.2109e-04 - val_accuracy: 0.9995 - lr: 1.0000e-04\n",
      "Epoch 17/100\n",
      "401/401 [==============================] - ETA: 0s - loss: 0.0129 - accuracy: 0.9951\n",
      "Epoch 17: val_accuracy improved from 0.99949 to 1.00000, saving model to Apple_Xception_model1_Based_Augmented\n"
     ]
    },
    {
     "name": "stderr",
     "output_type": "stream",
     "text": [
      "WARNING:absl:Found untraced functions such as _jit_compiled_convolution_op, _jit_compiled_convolution_op, _jit_compiled_convolution_op, _jit_compiled_convolution_op, _jit_compiled_convolution_op while saving (showing 5 of 40). These functions will not be directly callable after loading.\n"
     ]
    },
    {
     "name": "stdout",
     "output_type": "stream",
     "text": [
      "INFO:tensorflow:Assets written to: Apple_Xception_model1_Based_Augmented/assets\n"
     ]
    },
    {
     "name": "stderr",
     "output_type": "stream",
     "text": [
      "INFO:tensorflow:Assets written to: Apple_Xception_model1_Based_Augmented/assets\n"
     ]
    },
    {
     "name": "stdout",
     "output_type": "stream",
     "text": [
      "401/401 [==============================] - 90s 225ms/step - loss: 0.0129 - accuracy: 0.9951 - val_loss: 4.1209e-04 - val_accuracy: 1.0000 - lr: 1.0000e-04\n",
      "Epoch 18/100\n",
      "401/401 [==============================] - ETA: 0s - loss: 0.0153 - accuracy: 0.9948\n",
      "Epoch 18: val_accuracy did not improve from 1.00000\n",
      "401/401 [==============================] - 75s 186ms/step - loss: 0.0153 - accuracy: 0.9948 - val_loss: 2.4732e-04 - val_accuracy: 1.0000 - lr: 1.0000e-04\n",
      "Epoch 19/100\n",
      "401/401 [==============================] - ETA: 0s - loss: 0.0158 - accuracy: 0.9950\n",
      "Epoch 19: val_accuracy did not improve from 1.00000\n",
      "401/401 [==============================] - 75s 187ms/step - loss: 0.0158 - accuracy: 0.9950 - val_loss: 2.7093e-04 - val_accuracy: 1.0000 - lr: 1.0000e-04\n",
      "Epoch 20/100\n",
      "401/401 [==============================] - ETA: 0s - loss: 0.0111 - accuracy: 0.9961\n",
      "Epoch 20: val_accuracy did not improve from 1.00000\n",
      "401/401 [==============================] - 75s 187ms/step - loss: 0.0111 - accuracy: 0.9961 - val_loss: 2.9293e-04 - val_accuracy: 1.0000 - lr: 1.0000e-04\n",
      "Epoch 21/100\n",
      "401/401 [==============================] - ETA: 0s - loss: 0.0116 - accuracy: 0.9956\n",
      "Epoch 21: val_accuracy did not improve from 1.00000\n",
      "401/401 [==============================] - 75s 187ms/step - loss: 0.0116 - accuracy: 0.9956 - val_loss: 3.5767e-04 - val_accuracy: 1.0000 - lr: 1.0000e-04\n",
      "Epoch 22/100\n",
      "401/401 [==============================] - ETA: 0s - loss: 0.0096 - accuracy: 0.9965\n",
      "Epoch 22: val_accuracy did not improve from 1.00000\n",
      "401/401 [==============================] - 75s 188ms/step - loss: 0.0096 - accuracy: 0.9965 - val_loss: 1.3692e-04 - val_accuracy: 1.0000 - lr: 1.0000e-04\n",
      "Epoch 23/100\n",
      "401/401 [==============================] - ETA: 0s - loss: 0.0113 - accuracy: 0.9959\n",
      "Epoch 23: val_accuracy did not improve from 1.00000\n",
      "401/401 [==============================] - 75s 187ms/step - loss: 0.0113 - accuracy: 0.9959 - val_loss: 9.0486e-04 - val_accuracy: 0.9995 - lr: 1.0000e-04\n",
      "Epoch 24/100\n",
      "401/401 [==============================] - ETA: 0s - loss: 0.0116 - accuracy: 0.9963\n",
      "Epoch 24: val_accuracy did not improve from 1.00000\n",
      "401/401 [==============================] - 75s 186ms/step - loss: 0.0116 - accuracy: 0.9963 - val_loss: 1.0397e-04 - val_accuracy: 1.0000 - lr: 1.0000e-04\n",
      "Epoch 25/100\n",
      "401/401 [==============================] - ETA: 0s - loss: 0.0104 - accuracy: 0.9965\n",
      "Epoch 25: val_accuracy did not improve from 1.00000\n",
      "401/401 [==============================] - 75s 187ms/step - loss: 0.0104 - accuracy: 0.9965 - val_loss: 6.7083e-04 - val_accuracy: 1.0000 - lr: 1.0000e-04\n",
      "Epoch 26/100\n",
      "401/401 [==============================] - ETA: 0s - loss: 0.0077 - accuracy: 0.9969\n",
      "Epoch 26: val_accuracy did not improve from 1.00000\n",
      "401/401 [==============================] - 75s 187ms/step - loss: 0.0077 - accuracy: 0.9969 - val_loss: 1.0432e-04 - val_accuracy: 1.0000 - lr: 1.0000e-04\n",
      "Epoch 27/100\n",
      "401/401 [==============================] - ETA: 0s - loss: 0.0088 - accuracy: 0.9961\n",
      "Epoch 27: val_accuracy did not improve from 1.00000\n",
      "\n",
      "Epoch 27: ReduceLROnPlateau reducing learning rate to 1.0000000474974514e-05.\n",
      "401/401 [==============================] - 75s 186ms/step - loss: 0.0088 - accuracy: 0.9961 - val_loss: 4.7140e-05 - val_accuracy: 1.0000 - lr: 1.0000e-04\n",
      "Epoch 28/100\n",
      "401/401 [==============================] - ETA: 0s - loss: 0.0095 - accuracy: 0.9958\n",
      "Epoch 28: val_accuracy did not improve from 1.00000\n",
      "401/401 [==============================] - 75s 188ms/step - loss: 0.0095 - accuracy: 0.9958 - val_loss: 3.0088e-05 - val_accuracy: 1.0000 - lr: 1.0000e-05\n",
      "Epoch 29/100\n",
      "401/401 [==============================] - ETA: 0s - loss: 0.0084 - accuracy: 0.9965\n",
      "Epoch 29: val_accuracy did not improve from 1.00000\n",
      "401/401 [==============================] - 76s 189ms/step - loss: 0.0084 - accuracy: 0.9965 - val_loss: 3.6634e-05 - val_accuracy: 1.0000 - lr: 1.0000e-05\n",
      "Epoch 30/100\n",
      "401/401 [==============================] - ETA: 0s - loss: 0.0060 - accuracy: 0.9978\n",
      "Epoch 30: val_accuracy did not improve from 1.00000\n",
      "401/401 [==============================] - 75s 186ms/step - loss: 0.0060 - accuracy: 0.9978 - val_loss: 2.7963e-05 - val_accuracy: 1.0000 - lr: 1.0000e-05\n",
      "Epoch 31/100\n",
      "401/401 [==============================] - ETA: 0s - loss: 0.0048 - accuracy: 0.9983\n",
      "Epoch 31: val_accuracy did not improve from 1.00000\n",
      "401/401 [==============================] - 76s 189ms/step - loss: 0.0048 - accuracy: 0.9983 - val_loss: 3.1609e-05 - val_accuracy: 1.0000 - lr: 1.0000e-05\n",
      "Epoch 32/100\n",
      "401/401 [==============================] - ETA: 0s - loss: 0.0085 - accuracy: 0.9973\n",
      "Epoch 32: val_accuracy did not improve from 1.00000\n",
      "401/401 [==============================] - 75s 187ms/step - loss: 0.0085 - accuracy: 0.9973 - val_loss: 3.3120e-05 - val_accuracy: 1.0000 - lr: 1.0000e-05\n",
      "Epoch 33/100\n",
      "401/401 [==============================] - ETA: 0s - loss: 0.0070 - accuracy: 0.9976\n",
      "Epoch 33: val_accuracy did not improve from 1.00000\n",
      "\n",
      "Epoch 33: ReduceLROnPlateau reducing learning rate to 1.0000000656873453e-06.\n",
      "401/401 [==============================] - 75s 187ms/step - loss: 0.0070 - accuracy: 0.9976 - val_loss: 3.9685e-05 - val_accuracy: 1.0000 - lr: 1.0000e-05\n",
      "Epoch 34/100\n",
      "401/401 [==============================] - ETA: 0s - loss: 0.0106 - accuracy: 0.9980\n",
      "Epoch 34: val_accuracy did not improve from 1.00000\n",
      "401/401 [==============================] - 75s 187ms/step - loss: 0.0106 - accuracy: 0.9980 - val_loss: 3.0758e-05 - val_accuracy: 1.0000 - lr: 1.0000e-06\n",
      "Epoch 35/100\n",
      "401/401 [==============================] - ETA: 0s - loss: 0.0095 - accuracy: 0.9965\n",
      "Epoch 35: val_accuracy did not improve from 1.00000\n",
      "401/401 [==============================] - 75s 187ms/step - loss: 0.0095 - accuracy: 0.9965 - val_loss: 2.9320e-05 - val_accuracy: 1.0000 - lr: 1.0000e-06\n",
      "Epoch 36/100\n",
      "401/401 [==============================] - ETA: 0s - loss: 0.0062 - accuracy: 0.9976\n",
      "Epoch 36: val_accuracy did not improve from 1.00000\n",
      "401/401 [==============================] - 75s 188ms/step - loss: 0.0062 - accuracy: 0.9976 - val_loss: 3.4821e-05 - val_accuracy: 1.0000 - lr: 1.0000e-06\n",
      "Epoch 37/100\n",
      "401/401 [==============================] - ETA: 0s - loss: 0.0076 - accuracy: 0.9980\n",
      "Epoch 37: val_accuracy did not improve from 1.00000\n",
      "Restoring model weights from the end of the best epoch: 17.\n",
      "401/401 [==============================] - 75s 188ms/step - loss: 0.0076 - accuracy: 0.9980 - val_loss: 2.5646e-05 - val_accuracy: 1.0000 - lr: 1.0000e-06\n",
      "Epoch 37: early stopping\n"
     ]
    }
   ],
   "source": [
    "# Define the number of epochs\n",
    "num_epochs = 100\n",
    "\n",
    "# Train the model\n",
    "history_Xception_model_1 = Xception1_model.fit(train_generator, epochs=num_epochs, validation_data=validation_generator, callbacks=callbacks)"
   ]
  },
  {
   "cell_type": "code",
   "execution_count": 13,
   "metadata": {
    "colab": {
     "base_uri": "https://localhost:8080/",
     "height": 904
    },
    "executionInfo": {
     "elapsed": 776,
     "status": "ok",
     "timestamp": 1684985409989,
     "user": {
      "displayName": "Ahmad Habib Hasan Zein",
      "userId": "11481134139016108484"
     },
     "user_tz": -420
    },
    "id": "qyNHvaPp9ZDe",
    "outputId": "f70b7849-ab46-43dc-aa8d-091408eed894",
    "tags": []
   },
   "outputs": [
    {
     "data": {
      "text/plain": [
       "<matplotlib.legend.Legend at 0x7f4db21b7850>"
      ]
     },
     "execution_count": 13,
     "metadata": {},
     "output_type": "execute_result"
    },
    {
     "data": {
      "image/png": "[encoded data removed]",
      "text/plain": [
       "<Figure size 640x480 with 1 Axes>"
      ]
     },
     "metadata": {},
     "output_type": "display_data"
    },
    {
     "data": {
      "image/png": "[encoded data removed]",
      "text/plain": [
       "<Figure size 640x480 with 1 Axes>"
      ]
     },
     "metadata": {},
     "output_type": "display_data"
    }
   ],
   "source": [
    "#-----------------------------------------------------------\n",
    "# Retrieve a list of list results on training and test data\n",
    "# sets for each training epoch\n",
    "#-----------------------------------------------------------\n",
    "acc      = history_Xception_model_1.history['accuracy' ]\n",
    "val_acc  = history_Xception_model_1.history['val_accuracy' ]\n",
    "loss     = history_Xception_model_1.history['loss' ]\n",
    "val_loss = history_Xception_model_1.history['val_loss' ]\n",
    "\n",
    "epochs   = range(len(acc)) # Get number of epochs\n",
    "\n",
    "#------------------------------------------------\n",
    "# Plot training and validation accuracy per epoch\n",
    "#------------------------------------------------\n",
    "plt.plot  (epochs, acc )\n",
    "plt.plot  (epochs, val_acc )\n",
    "plt.title ('Training and validation accuracy Xception Model Augmented 1')\n",
    "plt.legend(['train', 'val'], loc='upper left')\n",
    "plt.figure()\n",
    "\n",
    "#------------------------------------------------\n",
    "# Plot training and validation loss per epoch\n",
    "#------------------------------------------------\n",
    "plt.plot  (epochs, loss)\n",
    "plt.plot  (epochs, val_loss)\n",
    "plt.title ('Training and validation loss Xception Model Augmented 1')\n",
    "plt.legend(['train', 'val'], loc='upper left')"
   ]
  },
  {
   "cell_type": "markdown",
   "metadata": {
    "id": "zgFuXnJ69ZDe"
   },
   "source": [
    "## Xception Model 2"
   ]
  },
  {
   "cell_type": "code",
   "execution_count": 14,
   "metadata": {
    "executionInfo": {
     "elapsed": 5,
     "status": "ok",
     "timestamp": 1684985409990,
     "user": {
      "displayName": "Ahmad Habib Hasan Zein",
      "userId": "11481134139016108484"
     },
     "user_tz": -420
    },
    "id": "gYUOFKFA9ZDe",
    "tags": []
   },
   "outputs": [],
   "source": [
    "# Difine the callbacks\n",
    "# Save the best model\n",
    "checkpoint_callback = ModelCheckpoint(filepath=\"Apple_Xception_model2_Based_Non_Augmented\", save_best_only=True, monitor=\"val_accuracy\", mode=\"max\", verbose=1)\n",
    "\n",
    "# Early stopping\n",
    "early_stopping_callback = EarlyStopping(monitor=\"val_accuracy\", mode=\"max\", patience=20, verbose=1, restore_best_weights=True)\n",
    "\n",
    "# Reduce learning rate\n",
    "reduce_lr_callback = ReduceLROnPlateau(monitor=\"val_loss\", factor=0.1, patience=5, verbose=1, mode=\"min\", min_delta=0.0001, cooldown=0, min_lr=0)\n",
    "\n",
    "# Callbacks list\n",
    "callbacks=[checkpoint_callback, early_stopping_callback, reduce_lr_callback]"
   ]
  },
  {
   "cell_type": "code",
   "execution_count": 15,
   "metadata": {
    "colab": {
     "base_uri": "https://localhost:8080/"
    },
    "executionInfo": {
     "elapsed": 3445,
     "status": "ok",
     "timestamp": 1684985413431,
     "user": {
      "displayName": "Ahmad Habib Hasan Zein",
      "userId": "11481134139016108484"
     },
     "user_tz": -420
    },
    "id": "KJ7oNCnY9ZDe",
    "outputId": "f71ea90f-e928-416e-cc06-c56c4abe7314",
    "tags": []
   },
   "outputs": [
    {
     "name": "stdout",
     "output_type": "stream",
     "text": [
      "Model: \"sequential_1\"\n",
      "_________________________________________________________________\n",
      " Layer (type)                Output Shape              Param #   \n",
      "=================================================================\n",
      " xception (Functional)       (None, 7, 7, 2048)        20861480  \n",
      "                                                                 \n",
      " global_average_pooling2d (G  (None, 2048)             0         \n",
      " lobalAveragePooling2D)                                          \n",
      "                                                                 \n",
      " dropout_1 (Dropout)         (None, 2048)              0         \n",
      "                                                                 \n",
      " dense_2 (Dense)             (None, 256)               524544    \n",
      "                                                                 \n",
      " dense_3 (Dense)             (None, 4)                 1028      \n",
      "                                                                 \n",
      "=================================================================\n",
      "Total params: 21,387,052\n",
      "Trainable params: 21,332,524\n",
      "Non-trainable params: 54,528\n",
      "_________________________________________________________________\n"
     ]
    }
   ],
   "source": [
    "# Define Model\n",
    "Xception_model_2 = tf.keras.models.Sequential([\n",
    "    # Xception Layer\n",
    "    Xception(include_top=False,weights='imagenet',input_shape=(224, 224, 3)),\n",
    "    # Global Average Pooling Layer\n",
    "    tf.keras.layers.GlobalAveragePooling2D(),\n",
    "    # Drop Out Layer\n",
    "    tf.keras.layers.Dropout(0.2),\n",
    "    # 256 neuron hidden layer\n",
    "    tf.keras.layers.Dense(256, activation='relu'),\n",
    "    # Output\n",
    "    tf.keras.layers.Dense(4, activation='softmax') \n",
    "  ])\n",
    "\n",
    "\n",
    "# Compile Model\n",
    "Xception_model_2.compile(loss='categorical_crossentropy',optimizer=tf.keras.optimizers.Adam(), metrics=['accuracy']) \n",
    "\n",
    "# Model Summary\n",
    "Xception_model_2.summary()"
   ]
  },
  {
   "cell_type": "code",
   "execution_count": 16,
   "metadata": {
    "colab": {
     "base_uri": "https://localhost:8080/"
    },
    "id": "oXCBSPm89ZDf",
    "outputId": "6a731592-c8ee-4488-a863-2edb35002aa1",
    "tags": []
   },
   "outputs": [
    {
     "name": "stdout",
     "output_type": "stream",
     "text": [
      "Epoch 1/100\n",
      "401/401 [==============================] - ETA: 0s - loss: 0.2503 - accuracy: 0.9263\n",
      "Epoch 1: val_accuracy improved from -inf to 0.98713, saving model to Apple_Xception_model2_Based_Non_Augmented\n"
     ]
    },
    {
     "name": "stderr",
     "output_type": "stream",
     "text": [
      "WARNING:absl:Found untraced functions such as _jit_compiled_convolution_op, _jit_compiled_convolution_op, _jit_compiled_convolution_op, _jit_compiled_convolution_op, _jit_compiled_convolution_op while saving (showing 5 of 40). These functions will not be directly callable after loading.\n"
     ]
    },
    {
     "name": "stdout",
     "output_type": "stream",
     "text": [
      "INFO:tensorflow:Assets written to: Apple_Xception_model2_Based_Non_Augmented/assets\n"
     ]
    },
    {
     "name": "stderr",
     "output_type": "stream",
     "text": [
      "INFO:tensorflow:Assets written to: Apple_Xception_model2_Based_Non_Augmented/assets\n"
     ]
    },
    {
     "name": "stdout",
     "output_type": "stream",
     "text": [
      "401/401 [==============================] - 114s 227ms/step - loss: 0.2503 - accuracy: 0.9263 - val_loss: 0.0404 - val_accuracy: 0.9871 - lr: 0.0010\n",
      "Epoch 2/100\n",
      "401/401 [==============================] - ETA: 0s - loss: 0.1203 - accuracy: 0.9652\n",
      "Epoch 2: val_accuracy did not improve from 0.98713\n",
      "401/401 [==============================] - 75s 188ms/step - loss: 0.1203 - accuracy: 0.9652 - val_loss: 0.2796 - val_accuracy: 0.9249 - lr: 0.0010\n",
      "Epoch 3/100\n",
      "401/401 [==============================] - ETA: 0s - loss: 0.0565 - accuracy: 0.9783\n",
      "Epoch 3: val_accuracy did not improve from 0.98713\n",
      "401/401 [==============================] - 75s 186ms/step - loss: 0.0565 - accuracy: 0.9783 - val_loss: 0.0500 - val_accuracy: 0.9866 - lr: 0.0010\n",
      "Epoch 4/100\n",
      "401/401 [==============================] - ETA: 0s - loss: 0.0783 - accuracy: 0.9750\n",
      "Epoch 4: val_accuracy improved from 0.98713 to 0.98816, saving model to Apple_Xception_model2_Based_Non_Augmented\n"
     ]
    },
    {
     "name": "stderr",
     "output_type": "stream",
     "text": [
      "WARNING:absl:Found untraced functions such as _jit_compiled_convolution_op, _jit_compiled_convolution_op, _jit_compiled_convolution_op, _jit_compiled_convolution_op, _jit_compiled_convolution_op while saving (showing 5 of 40). These functions will not be directly callable after loading.\n"
     ]
    },
    {
     "name": "stdout",
     "output_type": "stream",
     "text": [
      "INFO:tensorflow:Assets written to: Apple_Xception_model2_Based_Non_Augmented/assets\n"
     ]
    },
    {
     "name": "stderr",
     "output_type": "stream",
     "text": [
      "INFO:tensorflow:Assets written to: Apple_Xception_model2_Based_Non_Augmented/assets\n"
     ]
    },
    {
     "name": "stdout",
     "output_type": "stream",
     "text": [
      "401/401 [==============================] - 91s 226ms/step - loss: 0.0783 - accuracy: 0.9750 - val_loss: 0.0397 - val_accuracy: 0.9882 - lr: 0.0010\n",
      "Epoch 5/100\n",
      "401/401 [==============================] - ETA: 0s - loss: 0.0533 - accuracy: 0.9819\n",
      "Epoch 5: val_accuracy improved from 0.98816 to 0.99537, saving model to Apple_Xception_model2_Based_Non_Augmented\n"
     ]
    },
    {
     "name": "stderr",
     "output_type": "stream",
     "text": [
      "WARNING:absl:Found untraced functions such as _jit_compiled_convolution_op, _jit_compiled_convolution_op, _jit_compiled_convolution_op, _jit_compiled_convolution_op, _jit_compiled_convolution_op while saving (showing 5 of 40). These functions will not be directly callable after loading.\n"
     ]
    },
    {
     "name": "stdout",
     "output_type": "stream",
     "text": [
      "INFO:tensorflow:Assets written to: Apple_Xception_model2_Based_Non_Augmented/assets\n"
     ]
    },
    {
     "name": "stderr",
     "output_type": "stream",
     "text": [
      "INFO:tensorflow:Assets written to: Apple_Xception_model2_Based_Non_Augmented/assets\n"
     ]
    },
    {
     "name": "stdout",
     "output_type": "stream",
     "text": [
      "401/401 [==============================] - 90s 225ms/step - loss: 0.0533 - accuracy: 0.9819 - val_loss: 0.0166 - val_accuracy: 0.9954 - lr: 0.0010\n",
      "Epoch 6/100\n",
      "401/401 [==============================] - ETA: 0s - loss: 0.0870 - accuracy: 0.9724\n",
      "Epoch 6: val_accuracy did not improve from 0.99537\n",
      "401/401 [==============================] - 75s 187ms/step - loss: 0.0870 - accuracy: 0.9724 - val_loss: 0.0216 - val_accuracy: 0.9949 - lr: 0.0010\n",
      "Epoch 7/100\n",
      "401/401 [==============================] - ETA: 0s - loss: 0.0631 - accuracy: 0.9785\n",
      "Epoch 7: val_accuracy did not improve from 0.99537\n",
      "401/401 [==============================] - 75s 188ms/step - loss: 0.0631 - accuracy: 0.9785 - val_loss: 0.1553 - val_accuracy: 0.9326 - lr: 0.0010\n",
      "Epoch 8/100\n",
      "401/401 [==============================] - ETA: 0s - loss: 0.0564 - accuracy: 0.9835\n",
      "Epoch 8: val_accuracy improved from 0.99537 to 0.99743, saving model to Apple_Xception_model2_Based_Non_Augmented\n"
     ]
    },
    {
     "name": "stderr",
     "output_type": "stream",
     "text": [
      "WARNING:absl:Found untraced functions such as _jit_compiled_convolution_op, _jit_compiled_convolution_op, _jit_compiled_convolution_op, _jit_compiled_convolution_op, _jit_compiled_convolution_op while saving (showing 5 of 40). These functions will not be directly callable after loading.\n"
     ]
    },
    {
     "name": "stdout",
     "output_type": "stream",
     "text": [
      "INFO:tensorflow:Assets written to: Apple_Xception_model2_Based_Non_Augmented/assets\n"
     ]
    },
    {
     "name": "stderr",
     "output_type": "stream",
     "text": [
      "INFO:tensorflow:Assets written to: Apple_Xception_model2_Based_Non_Augmented/assets\n"
     ]
    },
    {
     "name": "stdout",
     "output_type": "stream",
     "text": [
      "401/401 [==============================] - 90s 224ms/step - loss: 0.0564 - accuracy: 0.9835 - val_loss: 0.0104 - val_accuracy: 0.9974 - lr: 0.0010\n",
      "Epoch 9/100\n",
      "401/401 [==============================] - ETA: 0s - loss: 0.0341 - accuracy: 0.9884\n",
      "Epoch 9: val_accuracy did not improve from 0.99743\n",
      "401/401 [==============================] - 75s 187ms/step - loss: 0.0341 - accuracy: 0.9884 - val_loss: 0.2265 - val_accuracy: 0.9382 - lr: 0.0010\n",
      "Epoch 10/100\n",
      "401/401 [==============================] - ETA: 0s - loss: 0.0520 - accuracy: 0.9859\n",
      "Epoch 10: val_accuracy did not improve from 0.99743\n",
      "401/401 [==============================] - 75s 187ms/step - loss: 0.0520 - accuracy: 0.9859 - val_loss: 0.0151 - val_accuracy: 0.9949 - lr: 0.0010\n",
      "Epoch 11/100\n",
      "401/401 [==============================] - ETA: 0s - loss: 0.0514 - accuracy: 0.9842\n",
      "Epoch 11: val_accuracy improved from 0.99743 to 1.00000, saving model to Apple_Xception_model2_Based_Non_Augmented\n"
     ]
    },
    {
     "name": "stderr",
     "output_type": "stream",
     "text": [
      "WARNING:absl:Found untraced functions such as _jit_compiled_convolution_op, _jit_compiled_convolution_op, _jit_compiled_convolution_op, _jit_compiled_convolution_op, _jit_compiled_convolution_op while saving (showing 5 of 40). These functions will not be directly callable after loading.\n"
     ]
    },
    {
     "name": "stdout",
     "output_type": "stream",
     "text": [
      "INFO:tensorflow:Assets written to: Apple_Xception_model2_Based_Non_Augmented/assets\n"
     ]
    },
    {
     "name": "stderr",
     "output_type": "stream",
     "text": [
      "INFO:tensorflow:Assets written to: Apple_Xception_model2_Based_Non_Augmented/assets\n"
     ]
    },
    {
     "name": "stdout",
     "output_type": "stream",
     "text": [
      "401/401 [==============================] - 90s 226ms/step - loss: 0.0514 - accuracy: 0.9842 - val_loss: 0.0023 - val_accuracy: 1.0000 - lr: 0.0010\n",
      "Epoch 12/100\n",
      "401/401 [==============================] - ETA: 0s - loss: 0.0347 - accuracy: 0.9886\n",
      "Epoch 12: val_accuracy did not improve from 1.00000\n",
      "401/401 [==============================] - 75s 187ms/step - loss: 0.0347 - accuracy: 0.9886 - val_loss: 0.0161 - val_accuracy: 0.9938 - lr: 0.0010\n",
      "Epoch 13/100\n",
      "401/401 [==============================] - ETA: 0s - loss: 0.0274 - accuracy: 0.9906\n",
      "Epoch 13: val_accuracy did not improve from 1.00000\n",
      "401/401 [==============================] - 76s 190ms/step - loss: 0.0274 - accuracy: 0.9906 - val_loss: 0.0013 - val_accuracy: 1.0000 - lr: 0.0010\n",
      "Epoch 14/100\n",
      "401/401 [==============================] - ETA: 0s - loss: 0.0478 - accuracy: 0.9845\n",
      "Epoch 14: val_accuracy did not improve from 1.00000\n",
      "401/401 [==============================] - 75s 186ms/step - loss: 0.0478 - accuracy: 0.9845 - val_loss: 1.1670 - val_accuracy: 0.8019 - lr: 0.0010\n",
      "Epoch 15/100\n",
      "401/401 [==============================] - ETA: 0s - loss: 0.0336 - accuracy: 0.9901\n",
      "Epoch 15: val_accuracy did not improve from 1.00000\n",
      "401/401 [==============================] - 75s 187ms/step - loss: 0.0336 - accuracy: 0.9901 - val_loss: 0.0061 - val_accuracy: 0.9990 - lr: 0.0010\n",
      "Epoch 16/100\n",
      "401/401 [==============================] - ETA: 0s - loss: 0.0432 - accuracy: 0.9879\n",
      "Epoch 16: val_accuracy did not improve from 1.00000\n",
      "401/401 [==============================] - 75s 187ms/step - loss: 0.0432 - accuracy: 0.9879 - val_loss: 0.0229 - val_accuracy: 0.9928 - lr: 0.0010\n",
      "Epoch 17/100\n",
      "401/401 [==============================] - ETA: 0s - loss: 0.0308 - accuracy: 0.9888\n",
      "Epoch 17: val_accuracy did not improve from 1.00000\n",
      "401/401 [==============================] - 75s 187ms/step - loss: 0.0308 - accuracy: 0.9888 - val_loss: 0.0038 - val_accuracy: 0.9990 - lr: 0.0010\n",
      "Epoch 18/100\n",
      "401/401 [==============================] - ETA: 0s - loss: 0.0309 - accuracy: 0.9901\n",
      "Epoch 18: val_accuracy did not improve from 1.00000\n",
      "\n",
      "Epoch 18: ReduceLROnPlateau reducing learning rate to 0.00010000000474974513.\n",
      "401/401 [==============================] - 76s 189ms/step - loss: 0.0309 - accuracy: 0.9901 - val_loss: 0.2254 - val_accuracy: 0.9336 - lr: 0.0010\n",
      "Epoch 19/100\n",
      "401/401 [==============================] - ETA: 0s - loss: 0.0175 - accuracy: 0.9938\n",
      "Epoch 19: val_accuracy did not improve from 1.00000\n",
      "401/401 [==============================] - 75s 188ms/step - loss: 0.0175 - accuracy: 0.9938 - val_loss: 0.0021 - val_accuracy: 0.9990 - lr: 1.0000e-04\n",
      "Epoch 20/100\n",
      "401/401 [==============================] - ETA: 0s - loss: 0.0113 - accuracy: 0.9968\n",
      "Epoch 20: val_accuracy did not improve from 1.00000\n",
      "401/401 [==============================] - 75s 188ms/step - loss: 0.0113 - accuracy: 0.9968 - val_loss: 8.8717e-04 - val_accuracy: 0.9995 - lr: 1.0000e-04\n",
      "Epoch 21/100\n",
      "401/401 [==============================] - ETA: 0s - loss: 0.0094 - accuracy: 0.9958\n",
      "Epoch 21: val_accuracy did not improve from 1.00000\n",
      "401/401 [==============================] - 75s 186ms/step - loss: 0.0094 - accuracy: 0.9958 - val_loss: 5.4365e-04 - val_accuracy: 0.9995 - lr: 1.0000e-04\n",
      "Epoch 22/100\n",
      "401/401 [==============================] - ETA: 0s - loss: 0.0135 - accuracy: 0.9953\n",
      "Epoch 22: val_accuracy did not improve from 1.00000\n",
      "401/401 [==============================] - 75s 187ms/step - loss: 0.0135 - accuracy: 0.9953 - val_loss: 0.0030 - val_accuracy: 0.9990 - lr: 1.0000e-04\n",
      "Epoch 23/100\n",
      "401/401 [==============================] - ETA: 0s - loss: 0.0089 - accuracy: 0.9973\n",
      "Epoch 23: val_accuracy did not improve from 1.00000\n",
      "401/401 [==============================] - 75s 186ms/step - loss: 0.0089 - accuracy: 0.9973 - val_loss: 8.3571e-04 - val_accuracy: 0.9995 - lr: 1.0000e-04\n",
      "Epoch 24/100\n",
      "401/401 [==============================] - ETA: 0s - loss: 0.0070 - accuracy: 0.9976\n",
      "Epoch 24: val_accuracy did not improve from 1.00000\n",
      "401/401 [==============================] - 75s 187ms/step - loss: 0.0070 - accuracy: 0.9976 - val_loss: 0.0011 - val_accuracy: 0.9995 - lr: 1.0000e-04\n",
      "Epoch 25/100\n",
      "401/401 [==============================] - ETA: 0s - loss: 0.0050 - accuracy: 0.9981\n",
      "Epoch 25: val_accuracy did not improve from 1.00000\n",
      "401/401 [==============================] - 75s 187ms/step - loss: 0.0050 - accuracy: 0.9981 - val_loss: 0.0011 - val_accuracy: 0.9995 - lr: 1.0000e-04\n",
      "Epoch 26/100\n",
      "401/401 [==============================] - ETA: 0s - loss: 0.0061 - accuracy: 0.9978\n",
      "Epoch 26: val_accuracy did not improve from 1.00000\n",
      "401/401 [==============================] - 75s 187ms/step - loss: 0.0061 - accuracy: 0.9978 - val_loss: 2.9033e-04 - val_accuracy: 1.0000 - lr: 1.0000e-04\n",
      "Epoch 27/100\n",
      "401/401 [==============================] - ETA: 0s - loss: 0.0050 - accuracy: 0.9986\n",
      "Epoch 27: val_accuracy did not improve from 1.00000\n",
      "401/401 [==============================] - 75s 186ms/step - loss: 0.0050 - accuracy: 0.9986 - val_loss: 1.5591e-04 - val_accuracy: 1.0000 - lr: 1.0000e-04\n",
      "Epoch 28/100\n",
      "401/401 [==============================] - ETA: 0s - loss: 0.0058 - accuracy: 0.9976\n",
      "Epoch 28: val_accuracy did not improve from 1.00000\n",
      "401/401 [==============================] - 75s 188ms/step - loss: 0.0058 - accuracy: 0.9976 - val_loss: 2.0028e-04 - val_accuracy: 1.0000 - lr: 1.0000e-04\n",
      "Epoch 29/100\n",
      "401/401 [==============================] - ETA: 0s - loss: 0.0062 - accuracy: 0.9979\n",
      "Epoch 29: val_accuracy did not improve from 1.00000\n",
      "401/401 [==============================] - 75s 186ms/step - loss: 0.0062 - accuracy: 0.9979 - val_loss: 2.0499e-04 - val_accuracy: 1.0000 - lr: 1.0000e-04\n",
      "Epoch 30/100\n",
      "401/401 [==============================] - ETA: 0s - loss: 0.0043 - accuracy: 0.9984\n",
      "Epoch 30: val_accuracy did not improve from 1.00000\n",
      "401/401 [==============================] - 75s 188ms/step - loss: 0.0043 - accuracy: 0.9984 - val_loss: 3.1052e-05 - val_accuracy: 1.0000 - lr: 1.0000e-04\n",
      "Epoch 31/100\n",
      "401/401 [==============================] - ETA: 0s - loss: 0.0043 - accuracy: 0.9986\n",
      "Epoch 31: val_accuracy did not improve from 1.00000\n",
      "Restoring model weights from the end of the best epoch: 11.\n",
      "401/401 [==============================] - 75s 187ms/step - loss: 0.0043 - accuracy: 0.9986 - val_loss: 6.7042e-05 - val_accuracy: 1.0000 - lr: 1.0000e-04\n",
      "Epoch 31: early stopping\n"
     ]
    }
   ],
   "source": [
    "# Define the number of epochs\n",
    "num_epochs = 100\n",
    "\n",
    "# Train the model\n",
    "history_Xception_model_2 = Xception_model_2.fit(train_generator, epochs=num_epochs, validation_data=validation_generator, callbacks=callbacks)"
   ]
  },
  {
   "cell_type": "code",
   "execution_count": 17,
   "metadata": {
    "id": "S5QjPYtt9ZDf",
    "tags": []
   },
   "outputs": [
    {
     "data": {
      "text/plain": [
       "<matplotlib.legend.Legend at 0x7f4bd440b6d0>"
      ]
     },
     "execution_count": 17,
     "metadata": {},
     "output_type": "execute_result"
    },
    {
     "data": {
      "image/png": "[encoded data removed]",
      "text/plain": [
       "<Figure size 640x480 with 1 Axes>"
      ]
     },
     "metadata": {},
     "output_type": "display_data"
    },
    {
     "data": {
      "image/png": "[encoded data removed]",
      "text/plain": [
       "<Figure size 640x480 with 1 Axes>"
      ]
     },
     "metadata": {},
     "output_type": "display_data"
    }
   ],
   "source": [
    "#-----------------------------------------------------------\n",
    "# Retrieve a list of list results on training and test data\n",
    "# sets for each training epoch\n",
    "#-----------------------------------------------------------\n",
    "acc      = history_Xception_model_2.history['accuracy' ]\n",
    "val_acc  = history_Xception_model_2.history['val_accuracy' ]\n",
    "loss     = history_Xception_model_2.history['loss' ]\n",
    "val_loss = history_Xception_model_2.history['val_loss' ]\n",
    "\n",
    "epochs   = range(len(acc)) # Get number of epochs\n",
    "\n",
    "#------------------------------------------------\n",
    "# Plot training and validation accuracy per epoch\n",
    "#------------------------------------------------\n",
    "plt.plot  (epochs, acc )\n",
    "plt.plot  (epochs, val_acc )\n",
    "plt.title ('Training and validation accuracy Xception Model Augmented 2')\n",
    "plt.legend(['train', 'val'], loc='upper left')\n",
    "plt.figure()\n",
    "\n",
    "#------------------------------------------------\n",
    "# Plot training and validation loss per epoch\n",
    "#------------------------------------------------\n",
    "plt.plot  (epochs, loss)\n",
    "plt.plot  (epochs, val_loss)\n",
    "plt.title ('Training and validation loss Xception Model Augmented 2')\n",
    "plt.legend(['train', 'val'], loc='upper left')"
   ]
  }
 ],
 "metadata": {
  "accelerator": "GPU",
  "colab": {
   "gpuType": "T4",
   "provenance": []
  },
  "gpuClass": "standard",
  "kernelspec": {
   "display_name": "Python 3 (ipykernel)",
   "language": "python",
   "name": "python3"
  },
  "language_info": {
   "codemirror_mode": {
    "name": "ipython",
    "version": 3
   },
   "file_extension": ".py",
   "mimetype": "text/x-python",
   "name": "python",
   "nbconvert_exporter": "python",
   "pygments_lexer": "ipython3",
   "version": "3.8.10"
  }
 },
 "nbformat": 4,
 "nbformat_minor": 4
}
