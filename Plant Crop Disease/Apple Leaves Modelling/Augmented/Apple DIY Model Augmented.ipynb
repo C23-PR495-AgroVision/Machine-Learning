{
 "cells": [
  {
   "attachments": {},
   "cell_type": "markdown",
   "metadata": {},
   "source": [
    "# Library"
   ]
  },
  {
   "cell_type": "code",
   "execution_count": 1,
   "metadata": {
    "tags": []
   },
   "outputs": [
    {
     "name": "stdout",
     "output_type": "stream",
     "text": [
      "Requirement already satisfied: matplotlib in c:\\users\\hasan\\anaconda3\\envs\\tensorflow_gpu_zein\\lib\\site-packages (3.6.3)\n",
      "Requirement already satisfied: kiwisolver>=1.0.1 in c:\\users\\hasan\\anaconda3\\envs\\tensorflow_gpu_zein\\lib\\site-packages (from matplotlib) (1.4.4)\n",
      "Requirement already satisfied: python-dateutil>=2.7 in c:\\users\\hasan\\anaconda3\\envs\\tensorflow_gpu_zein\\lib\\site-packages (from matplotlib) (2.8.2)\n",
      "Requirement already satisfied: packaging>=20.0 in c:\\users\\hasan\\anaconda3\\envs\\tensorflow_gpu_zein\\lib\\site-packages (from matplotlib) (23.1)\n",
      "Requirement already satisfied: pyparsing>=2.2.1 in c:\\users\\hasan\\anaconda3\\envs\\tensorflow_gpu_zein\\lib\\site-packages (from matplotlib) (3.0.9)\n",
      "Requirement already satisfied: cycler>=0.10 in c:\\users\\hasan\\anaconda3\\envs\\tensorflow_gpu_zein\\lib\\site-packages (from matplotlib) (0.11.0)\n",
      "Requirement already satisfied: contourpy>=1.0.1 in c:\\users\\hasan\\anaconda3\\envs\\tensorflow_gpu_zein\\lib\\site-packages (from matplotlib) (1.0.7)\n",
      "Requirement already satisfied: numpy>=1.19 in c:\\users\\hasan\\anaconda3\\envs\\tensorflow_gpu_zein\\lib\\site-packages (from matplotlib) (1.23.5)\n",
      "Requirement already satisfied: pillow>=6.2.0 in c:\\users\\hasan\\anaconda3\\envs\\tensorflow_gpu_zein\\lib\\site-packages (from matplotlib) (9.4.0)\n",
      "Requirement already satisfied: fonttools>=4.22.0 in c:\\users\\hasan\\anaconda3\\envs\\tensorflow_gpu_zein\\lib\\site-packages (from matplotlib) (4.39.2)\n",
      "Requirement already satisfied: six>=1.5 in c:\\users\\hasan\\anaconda3\\envs\\tensorflow_gpu_zein\\lib\\site-packages (from python-dateutil>=2.7->matplotlib) (1.16.0)\n",
      "Note: you may need to restart the kernel to use updated packages.\n"
     ]
    },
    {
     "name": "stderr",
     "output_type": "stream",
     "text": [
      "WARNING: Ignoring invalid distribution -rotobuf (c:\\users\\hasan\\anaconda3\\envs\\tensorflow_gpu_zein\\lib\\site-packages)\n",
      "WARNING: Ignoring invalid distribution -rotobuf (c:\\users\\hasan\\anaconda3\\envs\\tensorflow_gpu_zein\\lib\\site-packages)\n",
      "WARNING: Ignoring invalid distribution -rotobuf (c:\\users\\hasan\\anaconda3\\envs\\tensorflow_gpu_zein\\lib\\site-packages)\n",
      "WARNING: Ignoring invalid distribution -rotobuf (c:\\users\\hasan\\anaconda3\\envs\\tensorflow_gpu_zein\\lib\\site-packages)\n",
      "WARNING: Ignoring invalid distribution -rotobuf (c:\\users\\hasan\\anaconda3\\envs\\tensorflow_gpu_zein\\lib\\site-packages)\n",
      "WARNING: Ignoring invalid distribution -rotobuf (c:\\users\\hasan\\anaconda3\\envs\\tensorflow_gpu_zein\\lib\\site-packages)\n"
     ]
    }
   ],
   "source": [
    "pip install matplotlib"
   ]
  },
  {
   "cell_type": "code",
   "execution_count": 2,
   "metadata": {
    "tags": []
   },
   "outputs": [
    {
     "name": "stdout",
     "output_type": "stream",
     "text": [
      "Requirement already satisfied: opendatasets in c:\\users\\hasan\\anaconda3\\envs\\tensorflow_gpu_zein\\lib\\site-packages (0.1.22)\n",
      "Requirement already satisfied: tqdm in c:\\users\\hasan\\anaconda3\\envs\\tensorflow_gpu_zein\\lib\\site-packages (from opendatasets) (4.64.1)\n",
      "Requirement already satisfied: click in c:\\users\\hasan\\anaconda3\\envs\\tensorflow_gpu_zein\\lib\\site-packages (from opendatasets) (8.1.3)\n",
      "Requirement already satisfied: kaggle in c:\\users\\hasan\\anaconda3\\envs\\tensorflow_gpu_zein\\lib\\site-packages (from opendatasets) (1.5.13)\n",
      "Requirement already satisfied: colorama in c:\\users\\hasan\\anaconda3\\envs\\tensorflow_gpu_zein\\lib\\site-packages (from click->opendatasets) (0.4.6)\n",
      "Requirement already satisfied: certifi in c:\\users\\hasan\\anaconda3\\envs\\tensorflow_gpu_zein\\lib\\site-packages (from kaggle->opendatasets) (2022.12.7)\n",
      "Requirement already satisfied: python-slugify in c:\\users\\hasan\\anaconda3\\envs\\tensorflow_gpu_zein\\lib\\site-packages (from kaggle->opendatasets) (8.0.1)\n",
      "Requirement already satisfied: urllib3 in c:\\users\\hasan\\anaconda3\\envs\\tensorflow_gpu_zein\\lib\\site-packages (from kaggle->opendatasets) (1.26.15)\n",
      "Requirement already satisfied: requests in c:\\users\\hasan\\anaconda3\\envs\\tensorflow_gpu_zein\\lib\\site-packages (from kaggle->opendatasets) (2.28.2)\n",
      "Requirement already satisfied: six>=1.10 in c:\\users\\hasan\\anaconda3\\envs\\tensorflow_gpu_zein\\lib\\site-packages (from kaggle->opendatasets) (1.16.0)\n",
      "Requirement already satisfied: python-dateutil in c:\\users\\hasan\\anaconda3\\envs\\tensorflow_gpu_zein\\lib\\site-packages (from kaggle->opendatasets) (2.8.2)\n",
      "Requirement already satisfied: text-unidecode>=1.3 in c:\\users\\hasan\\anaconda3\\envs\\tensorflow_gpu_zein\\lib\\site-packages (from python-slugify->kaggle->opendatasets) (1.3)\n",
      "Requirement already satisfied: idna<4,>=2.5 in c:\\users\\hasan\\anaconda3\\envs\\tensorflow_gpu_zein\\lib\\site-packages (from requests->kaggle->opendatasets) (3.4)\n",
      "Requirement already satisfied: charset-normalizer<4,>=2 in c:\\users\\hasan\\anaconda3\\envs\\tensorflow_gpu_zein\\lib\\site-packages (from requests->kaggle->opendatasets) (3.1.0)\n",
      "Note: you may need to restart the kernel to use updated packages.\n"
     ]
    },
    {
     "name": "stderr",
     "output_type": "stream",
     "text": [
      "WARNING: Ignoring invalid distribution -rotobuf (c:\\users\\hasan\\anaconda3\\envs\\tensorflow_gpu_zein\\lib\\site-packages)\n",
      "WARNING: Ignoring invalid distribution -rotobuf (c:\\users\\hasan\\anaconda3\\envs\\tensorflow_gpu_zein\\lib\\site-packages)\n",
      "WARNING: Ignoring invalid distribution -rotobuf (c:\\users\\hasan\\anaconda3\\envs\\tensorflow_gpu_zein\\lib\\site-packages)\n",
      "WARNING: Ignoring invalid distribution -rotobuf (c:\\users\\hasan\\anaconda3\\envs\\tensorflow_gpu_zein\\lib\\site-packages)\n",
      "WARNING: Ignoring invalid distribution -rotobuf (c:\\users\\hasan\\anaconda3\\envs\\tensorflow_gpu_zein\\lib\\site-packages)\n",
      "WARNING: Ignoring invalid distribution -rotobuf (c:\\users\\hasan\\anaconda3\\envs\\tensorflow_gpu_zein\\lib\\site-packages)\n"
     ]
    }
   ],
   "source": [
    "pip install opendatasets"
   ]
  },
  {
   "cell_type": "code",
   "execution_count": 3,
   "metadata": {
    "tags": []
   },
   "outputs": [],
   "source": [
    "# Library to dataset\n",
    "import opendatasets as od\n",
    "import os\n",
    "import zipfile\n",
    "import numpy as np\n",
    "\n",
    "# Surpress Warnings\n",
    "import warnings\n",
    "warnings.filterwarnings('ignore')\n",
    "os.environ['TF_CPP_MIN_LOG_LEVEL'] = '3' \n",
    "# library visualization\n",
    "import matplotlib.pyplot as plt\n",
    "\n",
    "# Library Tensorflow\n",
    "import tensorflow as tf\n",
    "from tensorflow import keras\n",
    "from tensorflow.keras.preprocessing.image import ImageDataGenerator\n",
    "from tensorflow.keras.callbacks import ModelCheckpoint, EarlyStopping, ReduceLROnPlateau\n",
    "\n",
    "# Others\n",
    "import shutil\n",
    "import random"
   ]
  },
  {
   "attachments": {},
   "cell_type": "markdown",
   "metadata": {},
   "source": [
    "# Load dataset"
   ]
  },
  {
   "cell_type": "code",
   "execution_count": 4,
   "metadata": {
    "tags": []
   },
   "outputs": [
    {
     "name": "stdout",
     "output_type": "stream",
     "text": [
      "==========================Training Data====================\n",
      "Found 8014 files belonging to 4 classes.\n",
      "==========================Validation Data====================\n",
      "Found 1943 files belonging to 4 classes.\n"
     ]
    }
   ],
   "source": [
    "# Load dataset\n",
    "print(\"==========================Training Data====================\")\n",
    "train_data = tf.keras.preprocessing.image_dataset_from_directory(\n",
    "    \"Dataset/Apple/train\",\n",
    "    label_mode=\"categorical\",\n",
    "    class_names=['Apple Black rot', 'Apple Scab Leaf', 'Apple leaf Healthy', 'Apple rust leaf'],\n",
    "    color_mode=\"rgb\",\n",
    "    batch_size=1,\n",
    "    image_size=(256, 256),\n",
    "    shuffle=True,\n",
    "    seed=123\n",
    ")\n",
    "print(\"==========================Validation Data====================\")\n",
    "val_data = tf.keras.preprocessing.image_dataset_from_directory(\n",
    "    \"Dataset/Apple/valid\",\n",
    "    label_mode=\"categorical\",\n",
    "    class_names=['Apple Black rot', 'Apple Scab Leaf', 'Apple leaf Healthy', 'Apple rust leaf'],\n",
    "    color_mode=\"rgb\",\n",
    "    batch_size=1,\n",
    "    image_size=(256, 256),\n",
    "    shuffle=True,\n",
    "    seed=123\n",
    ")"
   ]
  },
  {
   "cell_type": "code",
   "execution_count": 5,
   "metadata": {
    "tags": []
   },
   "outputs": [
    {
     "name": "stdout",
     "output_type": "stream",
     "text": [
      "Found 8014 images belonging to 4 classes.\n",
      "Found 1943 images belonging to 4 classes.\n"
     ]
    }
   ],
   "source": [
    "# All images will be rescaled by 1./256. and Augmented\n",
    "train_datagen = ImageDataGenerator(rescale = 1.0/256.,\n",
    "                                   rotation_range=40,\n",
    "                                   width_shift_range=0.2,\n",
    "                                   height_shift_range=0.2,\n",
    "                                   shear_range=0.2,\n",
    "                                   zoom_range=0.2,\n",
    "                                   horizontal_flip=True,\n",
    "                                   fill_mode='nearest')\n",
    "\n",
    "test_datagen  = ImageDataGenerator(rescale = 1.0/256.)\n",
    "\n",
    "# --------------------\n",
    "# Flow training images in batches of 20 using train_datagen generator\n",
    "# --------------------\n",
    "train_generator = train_datagen.flow_from_directory(\"Dataset/Apple/train\",\n",
    "                                                    batch_size=20,\n",
    "                                                    class_mode='categorical',\n",
    "                                                    target_size=(224, 224))     \n",
    "# --------------------\n",
    "# Flow validation images in batches of 20 using test_datagen generator\n",
    "# --------------------\n",
    "validation_generator =  test_datagen.flow_from_directory(\"Dataset/Apple/valid\",\n",
    "                                                         batch_size=20,\n",
    "                                                         class_mode  = 'categorical',\n",
    "                                                         target_size = (224, 224))"
   ]
  },
  {
   "attachments": {},
   "cell_type": "markdown",
   "metadata": {},
   "source": [
    "# List Resource"
   ]
  },
  {
   "cell_type": "code",
   "execution_count": 6,
   "metadata": {
    "tags": []
   },
   "outputs": [
    {
     "name": "stdout",
     "output_type": "stream",
     "text": [
      "Fri May 26 21:04:17 2023       \n",
      "+---------------------------------------------------------------------------------------+\n",
      "| NVIDIA-SMI 532.03                 Driver Version: 532.03       CUDA Version: 12.1     |\n",
      "|-----------------------------------------+----------------------+----------------------+\n",
      "| GPU  Name                      TCC/WDDM | Bus-Id        Disp.A | Volatile Uncorr. ECC |\n",
      "| Fan  Temp  Perf            Pwr:Usage/Cap|         Memory-Usage | GPU-Util  Compute M. |\n",
      "|                                         |                      |               MIG M. |\n",
      "|=========================================+======================+======================|\n",
      "|   0  NVIDIA GeForce RTX 3060 L...  WDDM | 00000000:01:00.0  On |                  N/A |\n",
      "| N/A   53C    P0               40W /  N/A|   4736MiB /  6144MiB |      2%      Default |\n",
      "|                                         |                      |                  N/A |\n",
      "+-----------------------------------------+----------------------+----------------------+\n",
      "                                                                                         \n",
      "+---------------------------------------------------------------------------------------+\n",
      "| Processes:                                                                            |\n",
      "|  GPU   GI   CI        PID   Type   Process name                            GPU Memory |\n",
      "|        ID   ID                                                             Usage      |\n",
      "|=======================================================================================|\n",
      "|    0   N/A  N/A      1608    C+G   ...oogle\\Chrome\\Application\\chrome.exe    N/A      |\n",
      "|    0   N/A  N/A      2620    C+G   ...5n1h2txyewy\\ShellExperienceHost.exe    N/A      |\n",
      "|    0   N/A  N/A     11124    C+G   ...1.0_x64__8wekyb3d8bbwe\\Video.UI.exe    N/A      |\n",
      "|    0   N/A  N/A     12048    C+G   C:\\WINDOWS\\explorer.exe                   N/A      |\n",
      "|    0   N/A  N/A     12768    C+G   ...GeForce Experience\\NVIDIA Share.exe    N/A      |\n",
      "|    0   N/A  N/A     13056    C+G   ...GeForce Experience\\NVIDIA Share.exe    N/A      |\n",
      "|    0   N/A  N/A     14932    C+G   ...nt.CBS_cw5n1h2txyewy\\SearchHost.exe    N/A      |\n",
      "|    0   N/A  N/A     15052    C+G   ...2txyewy\\StartMenuExperienceHost.exe    N/A      |\n",
      "|    0   N/A  N/A     16496    C+G   ...x64__qmba6cd70vzyy\\ArmouryCrate.exe    N/A      |\n",
      "|    0   N/A  N/A     16512    C+G   ...2.0_x64__cv1g1gvanyjgm\\WhatsApp.exe    N/A      |\n",
      "|    0   N/A  N/A     17928    C+G   ...ekyb3d8bbwe\\PhoneExperienceHost.exe    N/A      |\n",
      "|    0   N/A  N/A     18208    C+G   ...n\\AppData\\Roaming\\Zoom\\bin\\Zoom.exe    N/A      |\n",
      "|    0   N/A  N/A     18880    C+G   ...les\\AMD\\CNext\\CNext\\AMDRSSrcExt.exe    N/A      |\n",
      "|    0   N/A  N/A     19148    C+G   ...les\\Microsoft OneDrive\\OneDrive.exe    N/A      |\n",
      "|    0   N/A  N/A     19300    C+G   ...les\\Microsoft OneDrive\\OneDrive.exe    N/A      |\n",
      "|    0   N/A  N/A     19312    C+G   ...soft Office\\root\\Office16\\EXCEL.EXE    N/A      |\n",
      "|    0   N/A  N/A     19344      C   ...envs\\tensorflow_gpu_zein\\python.exe    N/A      |\n",
      "|    0   N/A  N/A     20468    C+G   ...on\\113.0.1774.50\\msedgewebview2.exe    N/A      |\n",
      "|    0   N/A  N/A     20648    C+G   ...\\AMD\\CNext\\CNext\\RadeonSoftware.exe    N/A      |\n",
      "|    0   N/A  N/A     20936    C+G   ...64__v826wp6bftszj\\TranslucentTB.exe    N/A      |\n",
      "|    0   N/A  N/A     21372    C+G   ...Programs\\Microsoft VS Code\\Code.exe    N/A      |\n",
      "|    0   N/A  N/A     24200    C+G   ...siveControlPanel\\SystemSettings.exe    N/A      |\n",
      "+---------------------------------------------------------------------------------------+\n"
     ]
    }
   ],
   "source": [
    "# Check GPU\n",
    "!nvidia-smi"
   ]
  },
  {
   "cell_type": "code",
   "execution_count": 7,
   "metadata": {
    "tags": []
   },
   "outputs": [
    {
     "data": {
      "text/plain": [
       "[PhysicalDevice(name='/physical_device:GPU:0', device_type='GPU')]"
      ]
     },
     "execution_count": 7,
     "metadata": {},
     "output_type": "execute_result"
    }
   ],
   "source": [
    "# Lis physical devices\n",
    "devices = tf.config.experimental.list_physical_devices(\"GPU\")\n",
    "devices"
   ]
  },
  {
   "cell_type": "code",
   "execution_count": 8,
   "metadata": {
    "tags": []
   },
   "outputs": [
    {
     "name": "stdout",
     "output_type": "stream",
     "text": [
      "INFO:tensorflow:Using MirroredStrategy with devices ('/job:localhost/replica:0/task:0/device:GPU:0',)\n"
     ]
    }
   ],
   "source": [
    "# Define the GPU strategy\n",
    "mirrored_strategy = tf.distribute.MirroredStrategy(devices=[\"/gpu:0\"])"
   ]
  },
  {
   "attachments": {},
   "cell_type": "markdown",
   "metadata": {},
   "source": [
    "# Modelling With Augmentation"
   ]
  },
  {
   "attachments": {},
   "cell_type": "markdown",
   "metadata": {},
   "source": [
    "## DIY Model"
   ]
  },
  {
   "cell_type": "code",
   "execution_count": 9,
   "metadata": {
    "tags": []
   },
   "outputs": [],
   "source": [
    "# Difine the callbacks\n",
    "# Save the best model\n",
    "checkpoint_callback = ModelCheckpoint(filepath=\"Apple_DIY_model1_Based_Augmented\", save_best_only=True, monitor=\"val_accuracy\", mode=\"max\", verbose=1)\n",
    "\n",
    "# Early stopping\n",
    "early_stopping_callback = EarlyStopping(monitor=\"val_accuracy\", mode=\"max\", patience=20, verbose=1, restore_best_weights=True)\n",
    "\n",
    "# Reduce learning rate\n",
    "reduce_lr_callback = ReduceLROnPlateau(monitor=\"val_loss\", factor=0.1, patience=5, verbose=1, mode=\"min\", min_delta=0.0001, cooldown=0, min_lr=0)\n",
    "\n",
    "# Callbacks list\n",
    "callbacks=[checkpoint_callback, early_stopping_callback, reduce_lr_callback]"
   ]
  },
  {
   "cell_type": "code",
   "execution_count": 10,
   "metadata": {
    "tags": []
   },
   "outputs": [
    {
     "name": "stdout",
     "output_type": "stream",
     "text": [
      "Model: \"sequential\"\n",
      "_________________________________________________________________\n",
      " Layer (type)                Output Shape              Param #   \n",
      "=================================================================\n",
      " conv2d (Conv2D)             (None, 222, 222, 32)      896       \n",
      "                                                                 \n",
      " max_pooling2d (MaxPooling2D  (None, 111, 111, 32)     0         \n",
      " )                                                               \n",
      "                                                                 \n",
      " conv2d_1 (Conv2D)           (None, 109, 109, 64)      18496     \n",
      "                                                                 \n",
      " max_pooling2d_1 (MaxPooling  (None, 54, 54, 64)       0         \n",
      " 2D)                                                             \n",
      "                                                                 \n",
      " conv2d_2 (Conv2D)           (None, 52, 52, 128)       73856     \n",
      "                                                                 \n",
      " max_pooling2d_2 (MaxPooling  (None, 26, 26, 128)      0         \n",
      " 2D)                                                             \n",
      "                                                                 \n",
      " flatten (Flatten)           (None, 86528)             0         \n",
      "                                                                 \n",
      " dense (Dense)               (None, 512)               44302848  \n",
      "                                                                 \n",
      " dropout (Dropout)           (None, 512)               0         \n",
      "                                                                 \n",
      " dense_1 (Dense)             (None, 256)               131328    \n",
      "                                                                 \n",
      " dense_2 (Dense)             (None, 4)                 1028      \n",
      "                                                                 \n",
      "=================================================================\n",
      "Total params: 44,528,452\n",
      "Trainable params: 44,528,452\n",
      "Non-trainable params: 0\n",
      "_________________________________________________________________\n"
     ]
    }
   ],
   "source": [
    "# Define DIY Model\n",
    "DIY_model = tf.keras.models.Sequential([\n",
    "    # Convolutional Layers with 32 filters\n",
    "    tf.keras.layers.Conv2D(32, (3,3), activation='relu', input_shape=(224, 224, 3)),\n",
    "    # MaxPooling Layer\n",
    "    tf.keras.layers.MaxPooling2D(2,2),\n",
    "    # Convolutional Layers with 64 filters\n",
    "    tf.keras.layers.Conv2D(64, (3,3), activation='relu'),\n",
    "    # MaxPooling Layer\n",
    "    tf.keras.layers.MaxPooling2D(2,2),  \n",
    "    # Convolutional Layers with 128 filters\n",
    "    tf.keras.layers.Conv2D(128, (3,3), activation='relu'), \n",
    "    # MaxPooling Layer\n",
    "    tf.keras.layers.MaxPooling2D(2,2),  \n",
    "    # Flatten the results to feed into a DNN\n",
    "    tf.keras.layers.Flatten(),\n",
    "    # 512 neuron hidden layer\n",
    "    tf.keras.layers.Dense(512, activation='relu'),\n",
    "    # Drop Out Layer\n",
    "    tf.keras.layers.Dropout(0.2),\n",
    "    # 256 neuron hidden layer\n",
    "    tf.keras.layers.Dense(256, activation='relu'),\n",
    "    # Output\n",
    "    tf.keras.layers.Dense(4, activation='softmax') \n",
    "  ])\n",
    "\n",
    "\n",
    "# Compile Model\n",
    "DIY_model.compile(loss='categorical_crossentropy',optimizer=tf.keras.optimizers.Adam(), metrics=['accuracy']) \n",
    "\n",
    "# Model Summary\n",
    "DIY_model.summary()"
   ]
  },
  {
   "cell_type": "code",
   "execution_count": 11,
   "metadata": {
    "tags": []
   },
   "outputs": [
    {
     "name": "stdout",
     "output_type": "stream",
     "text": [
      "Epoch 1/100\n",
      "401/401 [==============================] - ETA: 0s - loss: 0.6936 - accuracy: 0.7276\n",
      "Epoch 1: val_accuracy improved from -inf to 0.66392, saving model to Apple_DIY_model1_Based_Augmented\n"
     ]
    },
    {
     "name": "stderr",
     "output_type": "stream",
     "text": [
      "WARNING:absl:Found untraced functions such as _jit_compiled_convolution_op, _jit_compiled_convolution_op, _jit_compiled_convolution_op while saving (showing 3 of 3). These functions will not be directly callable after loading.\n"
     ]
    },
    {
     "name": "stdout",
     "output_type": "stream",
     "text": [
      "INFO:tensorflow:Assets written to: Apple_DIY_model1_Based_Augmented\\assets\n"
     ]
    },
    {
     "name": "stderr",
     "output_type": "stream",
     "text": [
      "INFO:tensorflow:Assets written to: Apple_DIY_model1_Based_Augmented\\assets\n"
     ]
    },
    {
     "name": "stdout",
     "output_type": "stream",
     "text": [
      "401/401 [==============================] - 65s 155ms/step - loss: 0.6936 - accuracy: 0.7276 - val_loss: 1.2429 - val_accuracy: 0.6639 - lr: 0.0010\n",
      "Epoch 2/100\n",
      "401/401 [==============================] - ETA: 0s - loss: 0.3779 - accuracy: 0.8622\n",
      "Epoch 2: val_accuracy improved from 0.66392 to 0.89295, saving model to Apple_DIY_model1_Based_Augmented\n"
     ]
    },
    {
     "name": "stderr",
     "output_type": "stream",
     "text": [
      "WARNING:absl:Found untraced functions such as _jit_compiled_convolution_op, _jit_compiled_convolution_op, _jit_compiled_convolution_op while saving (showing 3 of 3). These functions will not be directly callable after loading.\n"
     ]
    },
    {
     "name": "stdout",
     "output_type": "stream",
     "text": [
      "INFO:tensorflow:Assets written to: Apple_DIY_model1_Based_Augmented\\assets\n"
     ]
    },
    {
     "name": "stderr",
     "output_type": "stream",
     "text": [
      "INFO:tensorflow:Assets written to: Apple_DIY_model1_Based_Augmented\\assets\n"
     ]
    },
    {
     "name": "stdout",
     "output_type": "stream",
     "text": [
      "401/401 [==============================] - 65s 163ms/step - loss: 0.3779 - accuracy: 0.8622 - val_loss: 0.3443 - val_accuracy: 0.8929 - lr: 0.0010\n",
      "Epoch 3/100\n",
      "401/401 [==============================] - ETA: 0s - loss: 0.2917 - accuracy: 0.8988\n",
      "Epoch 3: val_accuracy improved from 0.89295 to 0.92126, saving model to Apple_DIY_model1_Based_Augmented\n"
     ]
    },
    {
     "name": "stderr",
     "output_type": "stream",
     "text": [
      "WARNING:absl:Found untraced functions such as _jit_compiled_convolution_op, _jit_compiled_convolution_op, _jit_compiled_convolution_op while saving (showing 3 of 3). These functions will not be directly callable after loading.\n"
     ]
    },
    {
     "name": "stdout",
     "output_type": "stream",
     "text": [
      "INFO:tensorflow:Assets written to: Apple_DIY_model1_Based_Augmented\\assets\n"
     ]
    },
    {
     "name": "stderr",
     "output_type": "stream",
     "text": [
      "INFO:tensorflow:Assets written to: Apple_DIY_model1_Based_Augmented\\assets\n"
     ]
    },
    {
     "name": "stdout",
     "output_type": "stream",
     "text": [
      "401/401 [==============================] - 65s 162ms/step - loss: 0.2917 - accuracy: 0.8988 - val_loss: 0.2273 - val_accuracy: 0.9213 - lr: 0.0010\n",
      "Epoch 4/100\n",
      "401/401 [==============================] - ETA: 0s - loss: 0.2422 - accuracy: 0.9149\n",
      "Epoch 4: val_accuracy did not improve from 0.92126\n",
      "401/401 [==============================] - 60s 149ms/step - loss: 0.2422 - accuracy: 0.9149 - val_loss: 0.2912 - val_accuracy: 0.9089 - lr: 0.0010\n",
      "Epoch 5/100\n",
      "401/401 [==============================] - ETA: 0s - loss: 0.1937 - accuracy: 0.9355\n",
      "Epoch 5: val_accuracy improved from 0.92126 to 0.94287, saving model to Apple_DIY_model1_Based_Augmented\n"
     ]
    },
    {
     "name": "stderr",
     "output_type": "stream",
     "text": [
      "WARNING:absl:Found untraced functions such as _jit_compiled_convolution_op, _jit_compiled_convolution_op, _jit_compiled_convolution_op while saving (showing 3 of 3). These functions will not be directly callable after loading.\n"
     ]
    },
    {
     "name": "stdout",
     "output_type": "stream",
     "text": [
      "INFO:tensorflow:Assets written to: Apple_DIY_model1_Based_Augmented\\assets\n"
     ]
    },
    {
     "name": "stderr",
     "output_type": "stream",
     "text": [
      "INFO:tensorflow:Assets written to: Apple_DIY_model1_Based_Augmented\\assets\n"
     ]
    },
    {
     "name": "stdout",
     "output_type": "stream",
     "text": [
      "401/401 [==============================] - 67s 166ms/step - loss: 0.1937 - accuracy: 0.9355 - val_loss: 0.1900 - val_accuracy: 0.9429 - lr: 0.0010\n",
      "Epoch 6/100\n",
      "401/401 [==============================] - ETA: 0s - loss: 0.1679 - accuracy: 0.9404\n",
      "Epoch 6: val_accuracy improved from 0.94287 to 0.95214, saving model to Apple_DIY_model1_Based_Augmented\n"
     ]
    },
    {
     "name": "stderr",
     "output_type": "stream",
     "text": [
      "WARNING:absl:Found untraced functions such as _jit_compiled_convolution_op, _jit_compiled_convolution_op, _jit_compiled_convolution_op while saving (showing 3 of 3). These functions will not be directly callable after loading.\n"
     ]
    },
    {
     "name": "stdout",
     "output_type": "stream",
     "text": [
      "INFO:tensorflow:Assets written to: Apple_DIY_model1_Based_Augmented\\assets\n"
     ]
    },
    {
     "name": "stderr",
     "output_type": "stream",
     "text": [
      "INFO:tensorflow:Assets written to: Apple_DIY_model1_Based_Augmented\\assets\n"
     ]
    },
    {
     "name": "stdout",
     "output_type": "stream",
     "text": [
      "401/401 [==============================] - 60s 150ms/step - loss: 0.1679 - accuracy: 0.9404 - val_loss: 0.1365 - val_accuracy: 0.9521 - lr: 0.0010\n",
      "Epoch 7/100\n",
      "401/401 [==============================] - ETA: 0s - loss: 0.1531 - accuracy: 0.9495\n",
      "Epoch 7: val_accuracy did not improve from 0.95214\n",
      "401/401 [==============================] - 58s 144ms/step - loss: 0.1531 - accuracy: 0.9495 - val_loss: 0.1949 - val_accuracy: 0.9336 - lr: 0.0010\n",
      "Epoch 8/100\n",
      "401/401 [==============================] - ETA: 0s - loss: 0.1458 - accuracy: 0.9507\n",
      "Epoch 8: val_accuracy did not improve from 0.95214\n",
      "401/401 [==============================] - 57s 142ms/step - loss: 0.1458 - accuracy: 0.9507 - val_loss: 0.1606 - val_accuracy: 0.9501 - lr: 0.0010\n",
      "Epoch 9/100\n",
      "401/401 [==============================] - ETA: 0s - loss: 0.1425 - accuracy: 0.9523\n",
      "Epoch 9: val_accuracy did not improve from 0.95214\n",
      "401/401 [==============================] - 58s 144ms/step - loss: 0.1425 - accuracy: 0.9523 - val_loss: 0.2030 - val_accuracy: 0.9259 - lr: 0.0010\n",
      "Epoch 10/100\n",
      "401/401 [==============================] - ETA: 0s - loss: 0.1368 - accuracy: 0.9503\n",
      "Epoch 10: val_accuracy improved from 0.95214 to 0.97530, saving model to Apple_DIY_model1_Based_Augmented\n"
     ]
    },
    {
     "name": "stderr",
     "output_type": "stream",
     "text": [
      "WARNING:absl:Found untraced functions such as _jit_compiled_convolution_op, _jit_compiled_convolution_op, _jit_compiled_convolution_op while saving (showing 3 of 3). These functions will not be directly callable after loading.\n"
     ]
    },
    {
     "name": "stdout",
     "output_type": "stream",
     "text": [
      "INFO:tensorflow:Assets written to: Apple_DIY_model1_Based_Augmented\\assets\n"
     ]
    },
    {
     "name": "stderr",
     "output_type": "stream",
     "text": [
      "INFO:tensorflow:Assets written to: Apple_DIY_model1_Based_Augmented\\assets\n"
     ]
    },
    {
     "name": "stdout",
     "output_type": "stream",
     "text": [
      "401/401 [==============================] - 64s 160ms/step - loss: 0.1368 - accuracy: 0.9503 - val_loss: 0.0940 - val_accuracy: 0.9753 - lr: 0.0010\n",
      "Epoch 11/100\n",
      "401/401 [==============================] - ETA: 0s - loss: 0.1362 - accuracy: 0.9552\n",
      "Epoch 11: val_accuracy did not improve from 0.97530\n",
      "401/401 [==============================] - 62s 155ms/step - loss: 0.1362 - accuracy: 0.9552 - val_loss: 0.1087 - val_accuracy: 0.9640 - lr: 0.0010\n",
      "Epoch 12/100\n",
      "401/401 [==============================] - ETA: 0s - loss: 0.1348 - accuracy: 0.9540\n",
      "Epoch 12: val_accuracy did not improve from 0.97530\n",
      "401/401 [==============================] - 60s 150ms/step - loss: 0.1348 - accuracy: 0.9540 - val_loss: 0.0951 - val_accuracy: 0.9645 - lr: 0.0010\n",
      "Epoch 13/100\n",
      "401/401 [==============================] - ETA: 0s - loss: 0.1180 - accuracy: 0.9603\n",
      "Epoch 13: val_accuracy improved from 0.97530 to 0.97787, saving model to Apple_DIY_model1_Based_Augmented\n"
     ]
    },
    {
     "name": "stderr",
     "output_type": "stream",
     "text": [
      "WARNING:absl:Found untraced functions such as _jit_compiled_convolution_op, _jit_compiled_convolution_op, _jit_compiled_convolution_op while saving (showing 3 of 3). These functions will not be directly callable after loading.\n"
     ]
    },
    {
     "name": "stdout",
     "output_type": "stream",
     "text": [
      "INFO:tensorflow:Assets written to: Apple_DIY_model1_Based_Augmented\\assets\n"
     ]
    },
    {
     "name": "stderr",
     "output_type": "stream",
     "text": [
      "INFO:tensorflow:Assets written to: Apple_DIY_model1_Based_Augmented\\assets\n"
     ]
    },
    {
     "name": "stdout",
     "output_type": "stream",
     "text": [
      "401/401 [==============================] - 62s 155ms/step - loss: 0.1180 - accuracy: 0.9603 - val_loss: 0.0875 - val_accuracy: 0.9779 - lr: 0.0010\n",
      "Epoch 14/100\n",
      "401/401 [==============================] - ETA: 0s - loss: 0.0930 - accuracy: 0.9671\n",
      "Epoch 14: val_accuracy did not improve from 0.97787\n",
      "401/401 [==============================] - 58s 144ms/step - loss: 0.0930 - accuracy: 0.9671 - val_loss: 0.0841 - val_accuracy: 0.9691 - lr: 0.0010\n",
      "Epoch 15/100\n",
      "401/401 [==============================] - ETA: 0s - loss: 0.0989 - accuracy: 0.9679\n",
      "Epoch 15: val_accuracy improved from 0.97787 to 0.98250, saving model to Apple_DIY_model1_Based_Augmented\n"
     ]
    },
    {
     "name": "stderr",
     "output_type": "stream",
     "text": [
      "WARNING:absl:Found untraced functions such as _jit_compiled_convolution_op, _jit_compiled_convolution_op, _jit_compiled_convolution_op while saving (showing 3 of 3). These functions will not be directly callable after loading.\n"
     ]
    },
    {
     "name": "stdout",
     "output_type": "stream",
     "text": [
      "INFO:tensorflow:Assets written to: Apple_DIY_model1_Based_Augmented\\assets\n"
     ]
    },
    {
     "name": "stderr",
     "output_type": "stream",
     "text": [
      "INFO:tensorflow:Assets written to: Apple_DIY_model1_Based_Augmented\\assets\n"
     ]
    },
    {
     "name": "stdout",
     "output_type": "stream",
     "text": [
      "401/401 [==============================] - 62s 154ms/step - loss: 0.0989 - accuracy: 0.9679 - val_loss: 0.0546 - val_accuracy: 0.9825 - lr: 0.0010\n",
      "Epoch 16/100\n",
      "401/401 [==============================] - ETA: 0s - loss: 0.0916 - accuracy: 0.9687\n",
      "Epoch 16: val_accuracy did not improve from 0.98250\n",
      "401/401 [==============================] - 57s 143ms/step - loss: 0.0916 - accuracy: 0.9687 - val_loss: 0.0703 - val_accuracy: 0.9748 - lr: 0.0010\n",
      "Epoch 17/100\n",
      "401/401 [==============================] - ETA: 0s - loss: 0.0975 - accuracy: 0.9683\n",
      "Epoch 17: val_accuracy did not improve from 0.98250\n",
      "401/401 [==============================] - 58s 145ms/step - loss: 0.0975 - accuracy: 0.9683 - val_loss: 0.0854 - val_accuracy: 0.9660 - lr: 0.0010\n",
      "Epoch 18/100\n",
      "401/401 [==============================] - ETA: 0s - loss: 0.0938 - accuracy: 0.9703\n",
      "Epoch 18: val_accuracy did not improve from 0.98250\n",
      "401/401 [==============================] - 57s 142ms/step - loss: 0.0938 - accuracy: 0.9703 - val_loss: 0.0666 - val_accuracy: 0.9763 - lr: 0.0010\n",
      "Epoch 19/100\n",
      "401/401 [==============================] - ETA: 0s - loss: 0.0959 - accuracy: 0.9694\n",
      "Epoch 19: val_accuracy improved from 0.98250 to 0.98353, saving model to Apple_DIY_model1_Based_Augmented\n"
     ]
    },
    {
     "name": "stderr",
     "output_type": "stream",
     "text": [
      "WARNING:absl:Found untraced functions such as _jit_compiled_convolution_op, _jit_compiled_convolution_op, _jit_compiled_convolution_op while saving (showing 3 of 3). These functions will not be directly callable after loading.\n"
     ]
    },
    {
     "name": "stdout",
     "output_type": "stream",
     "text": [
      "INFO:tensorflow:Assets written to: Apple_DIY_model1_Based_Augmented\\assets\n"
     ]
    },
    {
     "name": "stderr",
     "output_type": "stream",
     "text": [
      "INFO:tensorflow:Assets written to: Apple_DIY_model1_Based_Augmented\\assets\n"
     ]
    },
    {
     "name": "stdout",
     "output_type": "stream",
     "text": [
      "401/401 [==============================] - 62s 155ms/step - loss: 0.0959 - accuracy: 0.9694 - val_loss: 0.0433 - val_accuracy: 0.9835 - lr: 0.0010\n",
      "Epoch 20/100\n",
      "401/401 [==============================] - ETA: 0s - loss: 0.1042 - accuracy: 0.9658\n",
      "Epoch 20: val_accuracy did not improve from 0.98353\n",
      "401/401 [==============================] - 58s 144ms/step - loss: 0.1042 - accuracy: 0.9658 - val_loss: 0.0865 - val_accuracy: 0.9712 - lr: 0.0010\n",
      "Epoch 21/100\n",
      "401/401 [==============================] - ETA: 0s - loss: 0.0919 - accuracy: 0.9687\n",
      "Epoch 21: val_accuracy did not improve from 0.98353\n",
      "401/401 [==============================] - 60s 148ms/step - loss: 0.0919 - accuracy: 0.9687 - val_loss: 0.0519 - val_accuracy: 0.9789 - lr: 0.0010\n",
      "Epoch 22/100\n",
      "401/401 [==============================] - ETA: 0s - loss: 0.0745 - accuracy: 0.9713\n",
      "Epoch 22: val_accuracy did not improve from 0.98353\n",
      "401/401 [==============================] - 57s 143ms/step - loss: 0.0745 - accuracy: 0.9713 - val_loss: 0.0526 - val_accuracy: 0.9784 - lr: 0.0010\n",
      "Epoch 23/100\n",
      "401/401 [==============================] - ETA: 0s - loss: 0.0811 - accuracy: 0.9720\n",
      "Epoch 23: val_accuracy did not improve from 0.98353\n",
      "401/401 [==============================] - 59s 146ms/step - loss: 0.0811 - accuracy: 0.9720 - val_loss: 0.0501 - val_accuracy: 0.9810 - lr: 0.0010\n",
      "Epoch 24/100\n",
      "401/401 [==============================] - ETA: 0s - loss: 0.0977 - accuracy: 0.9686\n",
      "Epoch 24: val_accuracy improved from 0.98353 to 0.98868, saving model to Apple_DIY_model1_Based_Augmented\n"
     ]
    },
    {
     "name": "stderr",
     "output_type": "stream",
     "text": [
      "WARNING:absl:Found untraced functions such as _jit_compiled_convolution_op, _jit_compiled_convolution_op, _jit_compiled_convolution_op while saving (showing 3 of 3). These functions will not be directly callable after loading.\n"
     ]
    },
    {
     "name": "stdout",
     "output_type": "stream",
     "text": [
      "INFO:tensorflow:Assets written to: Apple_DIY_model1_Based_Augmented\\assets\n"
     ]
    },
    {
     "name": "stderr",
     "output_type": "stream",
     "text": [
      "INFO:tensorflow:Assets written to: Apple_DIY_model1_Based_Augmented\\assets\n"
     ]
    },
    {
     "name": "stdout",
     "output_type": "stream",
     "text": [
      "401/401 [==============================] - 66s 164ms/step - loss: 0.0977 - accuracy: 0.9686 - val_loss: 0.0281 - val_accuracy: 0.9887 - lr: 0.0010\n",
      "Epoch 25/100\n",
      "401/401 [==============================] - ETA: 0s - loss: 0.0846 - accuracy: 0.9720\n",
      "Epoch 25: val_accuracy improved from 0.98868 to 0.99074, saving model to Apple_DIY_model1_Based_Augmented\n"
     ]
    },
    {
     "name": "stderr",
     "output_type": "stream",
     "text": [
      "WARNING:absl:Found untraced functions such as _jit_compiled_convolution_op, _jit_compiled_convolution_op, _jit_compiled_convolution_op while saving (showing 3 of 3). These functions will not be directly callable after loading.\n"
     ]
    },
    {
     "name": "stdout",
     "output_type": "stream",
     "text": [
      "INFO:tensorflow:Assets written to: Apple_DIY_model1_Based_Augmented\\assets\n"
     ]
    },
    {
     "name": "stderr",
     "output_type": "stream",
     "text": [
      "INFO:tensorflow:Assets written to: Apple_DIY_model1_Based_Augmented\\assets\n"
     ]
    },
    {
     "name": "stdout",
     "output_type": "stream",
     "text": [
      "401/401 [==============================] - 68s 170ms/step - loss: 0.0846 - accuracy: 0.9720 - val_loss: 0.0232 - val_accuracy: 0.9907 - lr: 0.0010\n",
      "Epoch 26/100\n",
      "401/401 [==============================] - ETA: 0s - loss: 0.0772 - accuracy: 0.9753\n",
      "Epoch 26: val_accuracy did not improve from 0.99074\n",
      "401/401 [==============================] - 62s 155ms/step - loss: 0.0772 - accuracy: 0.9753 - val_loss: 0.0371 - val_accuracy: 0.9861 - lr: 0.0010\n",
      "Epoch 27/100\n",
      "401/401 [==============================] - ETA: 0s - loss: 0.0775 - accuracy: 0.9757\n",
      "Epoch 27: val_accuracy did not improve from 0.99074\n",
      "401/401 [==============================] - 60s 150ms/step - loss: 0.0775 - accuracy: 0.9757 - val_loss: 0.0227 - val_accuracy: 0.9902 - lr: 0.0010\n",
      "Epoch 28/100\n",
      "401/401 [==============================] - ETA: 0s - loss: 0.0771 - accuracy: 0.9740\n",
      "Epoch 28: val_accuracy did not improve from 0.99074\n",
      "401/401 [==============================] - 60s 148ms/step - loss: 0.0771 - accuracy: 0.9740 - val_loss: 0.0300 - val_accuracy: 0.9887 - lr: 0.0010\n",
      "Epoch 29/100\n",
      "401/401 [==============================] - ETA: 0s - loss: 0.0703 - accuracy: 0.9787\n",
      "Epoch 29: val_accuracy did not improve from 0.99074\n",
      "401/401 [==============================] - 61s 152ms/step - loss: 0.0703 - accuracy: 0.9787 - val_loss: 0.1915 - val_accuracy: 0.9552 - lr: 0.0010\n",
      "Epoch 30/100\n",
      "401/401 [==============================] - ETA: 0s - loss: 0.0750 - accuracy: 0.9755\n",
      "Epoch 30: val_accuracy did not improve from 0.99074\n",
      "401/401 [==============================] - 60s 149ms/step - loss: 0.0750 - accuracy: 0.9755 - val_loss: 0.0522 - val_accuracy: 0.9866 - lr: 0.0010\n",
      "Epoch 31/100\n",
      "401/401 [==============================] - ETA: 0s - loss: 0.0634 - accuracy: 0.9783\n",
      "Epoch 31: val_accuracy improved from 0.99074 to 0.99331, saving model to Apple_DIY_model1_Based_Augmented\n"
     ]
    },
    {
     "name": "stderr",
     "output_type": "stream",
     "text": [
      "WARNING:absl:Found untraced functions such as _jit_compiled_convolution_op, _jit_compiled_convolution_op, _jit_compiled_convolution_op while saving (showing 3 of 3). These functions will not be directly callable after loading.\n"
     ]
    },
    {
     "name": "stdout",
     "output_type": "stream",
     "text": [
      "INFO:tensorflow:Assets written to: Apple_DIY_model1_Based_Augmented\\assets\n"
     ]
    },
    {
     "name": "stderr",
     "output_type": "stream",
     "text": [
      "INFO:tensorflow:Assets written to: Apple_DIY_model1_Based_Augmented\\assets\n"
     ]
    },
    {
     "name": "stdout",
     "output_type": "stream",
     "text": [
      "401/401 [==============================] - 69s 171ms/step - loss: 0.0634 - accuracy: 0.9783 - val_loss: 0.0179 - val_accuracy: 0.9933 - lr: 0.0010\n",
      "Epoch 32/100\n",
      "401/401 [==============================] - ETA: 0s - loss: 0.0720 - accuracy: 0.9779\n",
      "Epoch 32: val_accuracy did not improve from 0.99331\n",
      "401/401 [==============================] - 64s 159ms/step - loss: 0.0720 - accuracy: 0.9779 - val_loss: 0.1960 - val_accuracy: 0.9377 - lr: 0.0010\n",
      "Epoch 33/100\n",
      "401/401 [==============================] - ETA: 0s - loss: 0.0877 - accuracy: 0.9711\n",
      "Epoch 33: val_accuracy did not improve from 0.99331\n",
      "401/401 [==============================] - 63s 158ms/step - loss: 0.0877 - accuracy: 0.9711 - val_loss: 0.0293 - val_accuracy: 0.9907 - lr: 0.0010\n",
      "Epoch 34/100\n",
      "401/401 [==============================] - ETA: 0s - loss: 0.0635 - accuracy: 0.9799\n",
      "Epoch 34: val_accuracy improved from 0.99331 to 0.99382, saving model to Apple_DIY_model1_Based_Augmented\n"
     ]
    },
    {
     "name": "stderr",
     "output_type": "stream",
     "text": [
      "WARNING:absl:Found untraced functions such as _jit_compiled_convolution_op, _jit_compiled_convolution_op, _jit_compiled_convolution_op while saving (showing 3 of 3). These functions will not be directly callable after loading.\n"
     ]
    },
    {
     "name": "stdout",
     "output_type": "stream",
     "text": [
      "INFO:tensorflow:Assets written to: Apple_DIY_model1_Based_Augmented\\assets\n"
     ]
    },
    {
     "name": "stderr",
     "output_type": "stream",
     "text": [
      "INFO:tensorflow:Assets written to: Apple_DIY_model1_Based_Augmented\\assets\n"
     ]
    },
    {
     "name": "stdout",
     "output_type": "stream",
     "text": [
      "401/401 [==============================] - 64s 160ms/step - loss: 0.0635 - accuracy: 0.9799 - val_loss: 0.0193 - val_accuracy: 0.9938 - lr: 0.0010\n",
      "Epoch 35/100\n",
      "401/401 [==============================] - ETA: 0s - loss: 0.0612 - accuracy: 0.9813\n",
      "Epoch 35: val_accuracy did not improve from 0.99382\n",
      "401/401 [==============================] - 60s 148ms/step - loss: 0.0612 - accuracy: 0.9813 - val_loss: 0.0124 - val_accuracy: 0.9938 - lr: 0.0010\n",
      "Epoch 36/100\n",
      "401/401 [==============================] - ETA: 0s - loss: 0.0675 - accuracy: 0.9763\n",
      "Epoch 36: val_accuracy did not improve from 0.99382\n",
      "401/401 [==============================] - 59s 147ms/step - loss: 0.0675 - accuracy: 0.9763 - val_loss: 0.0419 - val_accuracy: 0.9861 - lr: 0.0010\n",
      "Epoch 37/100\n",
      "401/401 [==============================] - ETA: 0s - loss: 0.0645 - accuracy: 0.9800\n",
      "Epoch 37: val_accuracy did not improve from 0.99382\n",
      "401/401 [==============================] - 61s 151ms/step - loss: 0.0645 - accuracy: 0.9800 - val_loss: 0.0663 - val_accuracy: 0.9815 - lr: 0.0010\n",
      "Epoch 38/100\n",
      "401/401 [==============================] - ETA: 0s - loss: 0.0593 - accuracy: 0.9802\n",
      "Epoch 38: val_accuracy did not improve from 0.99382\n",
      "401/401 [==============================] - 59s 147ms/step - loss: 0.0593 - accuracy: 0.9802 - val_loss: 0.1050 - val_accuracy: 0.9743 - lr: 0.0010\n",
      "Epoch 39/100\n",
      "401/401 [==============================] - ETA: 0s - loss: 0.0535 - accuracy: 0.9812\n",
      "Epoch 39: val_accuracy improved from 0.99382 to 0.99588, saving model to Apple_DIY_model1_Based_Augmented\n"
     ]
    },
    {
     "name": "stderr",
     "output_type": "stream",
     "text": [
      "WARNING:absl:Found untraced functions such as _jit_compiled_convolution_op, _jit_compiled_convolution_op, _jit_compiled_convolution_op while saving (showing 3 of 3). These functions will not be directly callable after loading.\n"
     ]
    },
    {
     "name": "stdout",
     "output_type": "stream",
     "text": [
      "INFO:tensorflow:Assets written to: Apple_DIY_model1_Based_Augmented\\assets\n"
     ]
    },
    {
     "name": "stderr",
     "output_type": "stream",
     "text": [
      "INFO:tensorflow:Assets written to: Apple_DIY_model1_Based_Augmented\\assets\n"
     ]
    },
    {
     "name": "stdout",
     "output_type": "stream",
     "text": [
      "401/401 [==============================] - 64s 159ms/step - loss: 0.0535 - accuracy: 0.9812 - val_loss: 0.0098 - val_accuracy: 0.9959 - lr: 0.0010\n",
      "Epoch 40/100\n",
      "401/401 [==============================] - ETA: 0s - loss: 0.0641 - accuracy: 0.9783\n",
      "Epoch 40: val_accuracy did not improve from 0.99588\n",
      "401/401 [==============================] - 59s 147ms/step - loss: 0.0641 - accuracy: 0.9783 - val_loss: 0.0194 - val_accuracy: 0.9954 - lr: 0.0010\n",
      "Epoch 41/100\n",
      "401/401 [==============================] - ETA: 0s - loss: 0.0471 - accuracy: 0.9832\n",
      "Epoch 41: val_accuracy did not improve from 0.99588\n",
      "401/401 [==============================] - 60s 151ms/step - loss: 0.0471 - accuracy: 0.9832 - val_loss: 0.0195 - val_accuracy: 0.9923 - lr: 0.0010\n",
      "Epoch 42/100\n",
      "401/401 [==============================] - ETA: 0s - loss: 0.0575 - accuracy: 0.9812\n",
      "Epoch 42: val_accuracy did not improve from 0.99588\n",
      "401/401 [==============================] - 59s 147ms/step - loss: 0.0575 - accuracy: 0.9812 - val_loss: 0.0169 - val_accuracy: 0.9928 - lr: 0.0010\n",
      "Epoch 43/100\n",
      "401/401 [==============================] - ETA: 0s - loss: 0.0443 - accuracy: 0.9840\n",
      "Epoch 43: val_accuracy did not improve from 0.99588\n",
      "401/401 [==============================] - 60s 150ms/step - loss: 0.0443 - accuracy: 0.9840 - val_loss: 0.0319 - val_accuracy: 0.9928 - lr: 0.0010\n",
      "Epoch 44/100\n",
      "401/401 [==============================] - ETA: 0s - loss: 0.0764 - accuracy: 0.9763\n",
      "Epoch 44: val_accuracy did not improve from 0.99588\n",
      "\n",
      "Epoch 44: ReduceLROnPlateau reducing learning rate to 0.00010000000474974513.\n",
      "401/401 [==============================] - 59s 148ms/step - loss: 0.0764 - accuracy: 0.9763 - val_loss: 0.0349 - val_accuracy: 0.9923 - lr: 0.0010\n",
      "Epoch 45/100\n",
      "401/401 [==============================] - ETA: 0s - loss: 0.0279 - accuracy: 0.9908\n",
      "Epoch 45: val_accuracy did not improve from 0.99588\n",
      "401/401 [==============================] - 61s 151ms/step - loss: 0.0279 - accuracy: 0.9908 - val_loss: 0.0150 - val_accuracy: 0.9943 - lr: 1.0000e-04\n",
      "Epoch 46/100\n",
      "401/401 [==============================] - ETA: 0s - loss: 0.0218 - accuracy: 0.9919\n",
      "Epoch 46: val_accuracy did not improve from 0.99588\n",
      "401/401 [==============================] - 59s 146ms/step - loss: 0.0218 - accuracy: 0.9919 - val_loss: 0.0126 - val_accuracy: 0.9954 - lr: 1.0000e-04\n",
      "Epoch 47/100\n",
      "401/401 [==============================] - ETA: 0s - loss: 0.0184 - accuracy: 0.9933\n",
      "Epoch 47: val_accuracy did not improve from 0.99588\n",
      "401/401 [==============================] - 60s 149ms/step - loss: 0.0184 - accuracy: 0.9933 - val_loss: 0.0128 - val_accuracy: 0.9949 - lr: 1.0000e-04\n",
      "Epoch 48/100\n",
      "401/401 [==============================] - ETA: 0s - loss: 0.0199 - accuracy: 0.9933\n",
      "Epoch 48: val_accuracy did not improve from 0.99588\n",
      "401/401 [==============================] - 59s 147ms/step - loss: 0.0199 - accuracy: 0.9933 - val_loss: 0.0126 - val_accuracy: 0.9954 - lr: 1.0000e-04\n",
      "Epoch 49/100\n",
      "401/401 [==============================] - ETA: 0s - loss: 0.0194 - accuracy: 0.9924\n",
      "Epoch 49: val_accuracy improved from 0.99588 to 0.99846, saving model to Apple_DIY_model1_Based_Augmented\n"
     ]
    },
    {
     "name": "stderr",
     "output_type": "stream",
     "text": [
      "WARNING:absl:Found untraced functions such as _jit_compiled_convolution_op, _jit_compiled_convolution_op, _jit_compiled_convolution_op while saving (showing 3 of 3). These functions will not be directly callable after loading.\n"
     ]
    },
    {
     "name": "stdout",
     "output_type": "stream",
     "text": [
      "INFO:tensorflow:Assets written to: Apple_DIY_model1_Based_Augmented\\assets\n"
     ]
    },
    {
     "name": "stderr",
     "output_type": "stream",
     "text": [
      "INFO:tensorflow:Assets written to: Apple_DIY_model1_Based_Augmented\\assets\n"
     ]
    },
    {
     "name": "stdout",
     "output_type": "stream",
     "text": [
      "401/401 [==============================] - 64s 161ms/step - loss: 0.0194 - accuracy: 0.9924 - val_loss: 0.0063 - val_accuracy: 0.9985 - lr: 1.0000e-04\n",
      "Epoch 50/100\n",
      "401/401 [==============================] - ETA: 0s - loss: 0.0211 - accuracy: 0.9924\n",
      "Epoch 50: val_accuracy did not improve from 0.99846\n",
      "401/401 [==============================] - 61s 151ms/step - loss: 0.0211 - accuracy: 0.9924 - val_loss: 0.0116 - val_accuracy: 0.9959 - lr: 1.0000e-04\n",
      "Epoch 51/100\n",
      "401/401 [==============================] - ETA: 0s - loss: 0.0178 - accuracy: 0.9938\n",
      "Epoch 51: val_accuracy did not improve from 0.99846\n",
      "401/401 [==============================] - 60s 151ms/step - loss: 0.0178 - accuracy: 0.9938 - val_loss: 0.0152 - val_accuracy: 0.9959 - lr: 1.0000e-04\n",
      "Epoch 52/100\n",
      "401/401 [==============================] - ETA: 0s - loss: 0.0147 - accuracy: 0.9946\n",
      "Epoch 52: val_accuracy did not improve from 0.99846\n",
      "401/401 [==============================] - 59s 146ms/step - loss: 0.0147 - accuracy: 0.9946 - val_loss: 0.0117 - val_accuracy: 0.9959 - lr: 1.0000e-04\n",
      "Epoch 53/100\n",
      "401/401 [==============================] - ETA: 0s - loss: 0.0152 - accuracy: 0.9945\n",
      "Epoch 53: val_accuracy did not improve from 0.99846\n",
      "401/401 [==============================] - 59s 147ms/step - loss: 0.0152 - accuracy: 0.9945 - val_loss: 0.0044 - val_accuracy: 0.9974 - lr: 1.0000e-04\n",
      "Epoch 54/100\n",
      "401/401 [==============================] - ETA: 0s - loss: 0.0179 - accuracy: 0.9934\n",
      "Epoch 54: val_accuracy did not improve from 0.99846\n",
      "401/401 [==============================] - 58s 145ms/step - loss: 0.0179 - accuracy: 0.9934 - val_loss: 0.0153 - val_accuracy: 0.9949 - lr: 1.0000e-04\n",
      "Epoch 55/100\n",
      "401/401 [==============================] - ETA: 0s - loss: 0.0158 - accuracy: 0.9943\n",
      "Epoch 55: val_accuracy did not improve from 0.99846\n",
      "401/401 [==============================] - 59s 147ms/step - loss: 0.0158 - accuracy: 0.9943 - val_loss: 0.0256 - val_accuracy: 0.9928 - lr: 1.0000e-04\n",
      "Epoch 56/100\n",
      "401/401 [==============================] - ETA: 0s - loss: 0.0164 - accuracy: 0.9940\n",
      "Epoch 56: val_accuracy did not improve from 0.99846\n",
      "401/401 [==============================] - 60s 150ms/step - loss: 0.0164 - accuracy: 0.9940 - val_loss: 0.0336 - val_accuracy: 0.9918 - lr: 1.0000e-04\n",
      "Epoch 57/100\n",
      "401/401 [==============================] - ETA: 0s - loss: 0.0157 - accuracy: 0.9936\n",
      "Epoch 57: val_accuracy did not improve from 0.99846\n",
      "401/401 [==============================] - 63s 158ms/step - loss: 0.0157 - accuracy: 0.9936 - val_loss: 0.0164 - val_accuracy: 0.9933 - lr: 1.0000e-04\n",
      "Epoch 58/100\n",
      "401/401 [==============================] - ETA: 0s - loss: 0.0174 - accuracy: 0.9929\n",
      "Epoch 58: val_accuracy did not improve from 0.99846\n",
      "\n",
      "Epoch 58: ReduceLROnPlateau reducing learning rate to 1.0000000474974514e-05.\n",
      "401/401 [==============================] - 63s 157ms/step - loss: 0.0174 - accuracy: 0.9929 - val_loss: 0.0072 - val_accuracy: 0.9979 - lr: 1.0000e-04\n",
      "Epoch 59/100\n",
      "401/401 [==============================] - ETA: 0s - loss: 0.0149 - accuracy: 0.9948\n",
      "Epoch 59: val_accuracy did not improve from 0.99846\n",
      "401/401 [==============================] - 62s 154ms/step - loss: 0.0149 - accuracy: 0.9948 - val_loss: 0.0061 - val_accuracy: 0.9985 - lr: 1.0000e-05\n",
      "Epoch 60/100\n",
      "401/401 [==============================] - ETA: 0s - loss: 0.0127 - accuracy: 0.9948\n",
      "Epoch 60: val_accuracy did not improve from 0.99846\n",
      "401/401 [==============================] - 59s 148ms/step - loss: 0.0127 - accuracy: 0.9948 - val_loss: 0.0057 - val_accuracy: 0.9979 - lr: 1.0000e-05\n",
      "Epoch 61/100\n",
      "401/401 [==============================] - ETA: 0s - loss: 0.0142 - accuracy: 0.9948\n",
      "Epoch 61: val_accuracy did not improve from 0.99846\n",
      "401/401 [==============================] - 61s 151ms/step - loss: 0.0142 - accuracy: 0.9948 - val_loss: 0.0071 - val_accuracy: 0.9979 - lr: 1.0000e-05\n",
      "Epoch 62/100\n",
      "401/401 [==============================] - ETA: 0s - loss: 0.0144 - accuracy: 0.9944\n",
      "Epoch 62: val_accuracy did not improve from 0.99846\n",
      "401/401 [==============================] - 60s 148ms/step - loss: 0.0144 - accuracy: 0.9944 - val_loss: 0.0095 - val_accuracy: 0.9974 - lr: 1.0000e-05\n",
      "Epoch 63/100\n",
      "401/401 [==============================] - ETA: 0s - loss: 0.0133 - accuracy: 0.9949\n",
      "Epoch 63: val_accuracy did not improve from 0.99846\n",
      "\n",
      "Epoch 63: ReduceLROnPlateau reducing learning rate to 1.0000000656873453e-06.\n",
      "401/401 [==============================] - 60s 149ms/step - loss: 0.0133 - accuracy: 0.9949 - val_loss: 0.0087 - val_accuracy: 0.9974 - lr: 1.0000e-05\n",
      "Epoch 64/100\n",
      "401/401 [==============================] - ETA: 0s - loss: 0.0129 - accuracy: 0.9951\n",
      "Epoch 64: val_accuracy did not improve from 0.99846\n",
      "401/401 [==============================] - 61s 152ms/step - loss: 0.0129 - accuracy: 0.9951 - val_loss: 0.0086 - val_accuracy: 0.9974 - lr: 1.0000e-06\n",
      "Epoch 65/100\n",
      "401/401 [==============================] - ETA: 0s - loss: 0.0121 - accuracy: 0.9951\n",
      "Epoch 65: val_accuracy did not improve from 0.99846\n",
      "401/401 [==============================] - 59s 148ms/step - loss: 0.0121 - accuracy: 0.9951 - val_loss: 0.0084 - val_accuracy: 0.9974 - lr: 1.0000e-06\n",
      "Epoch 66/100\n",
      "401/401 [==============================] - ETA: 0s - loss: 0.0127 - accuracy: 0.9950\n",
      "Epoch 66: val_accuracy did not improve from 0.99846\n",
      "401/401 [==============================] - 58s 144ms/step - loss: 0.0127 - accuracy: 0.9950 - val_loss: 0.0086 - val_accuracy: 0.9974 - lr: 1.0000e-06\n",
      "Epoch 67/100\n",
      "401/401 [==============================] - ETA: 0s - loss: 0.0124 - accuracy: 0.9945\n",
      "Epoch 67: val_accuracy did not improve from 0.99846\n",
      "401/401 [==============================] - 63s 157ms/step - loss: 0.0124 - accuracy: 0.9945 - val_loss: 0.0085 - val_accuracy: 0.9974 - lr: 1.0000e-06\n",
      "Epoch 68/100\n",
      "401/401 [==============================] - ETA: 0s - loss: 0.0130 - accuracy: 0.9955\n",
      "Epoch 68: val_accuracy did not improve from 0.99846\n",
      "\n",
      "Epoch 68: ReduceLROnPlateau reducing learning rate to 1.0000001111620805e-07.\n",
      "401/401 [==============================] - 63s 157ms/step - loss: 0.0130 - accuracy: 0.9955 - val_loss: 0.0086 - val_accuracy: 0.9974 - lr: 1.0000e-06\n",
      "Epoch 69/100\n",
      "401/401 [==============================] - ETA: 0s - loss: 0.0131 - accuracy: 0.9951\n",
      "Epoch 69: val_accuracy did not improve from 0.99846\n",
      "Restoring model weights from the end of the best epoch: 49.\n",
      "401/401 [==============================] - 62s 155ms/step - loss: 0.0131 - accuracy: 0.9951 - val_loss: 0.0086 - val_accuracy: 0.9974 - lr: 1.0000e-07\n",
      "Epoch 69: early stopping\n"
     ]
    }
   ],
   "source": [
    "# Define the number of epochs\n",
    "num_epochs = 100\n",
    "\n",
    "# Train the model\n",
    "history_DIY_model = DIY_model.fit(train_generator, epochs=num_epochs, validation_data=validation_generator, callbacks=callbacks)"
   ]
  },
  {
   "cell_type": "code",
   "execution_count": 12,
   "metadata": {
    "tags": []
   },
   "outputs": [
    {
     "data": {
      "text/plain": [
       "<matplotlib.legend.Legend at 0x287ee5620b0>"
      ]
     },
     "execution_count": 12,
     "metadata": {},
     "output_type": "execute_result"
    },
    {
     "data": {
      "image/png": "[encoded data removed]",
      "text/plain": [
       "<Figure size 640x480 with 1 Axes>"
      ]
     },
     "metadata": {},
     "output_type": "display_data"
    },
    {
     "data": {
      "image/png": "[encoded data removed]",
      "text/plain": [
       "<Figure size 640x480 with 1 Axes>"
      ]
     },
     "metadata": {},
     "output_type": "display_data"
    }
   ],
   "source": [
    "#-----------------------------------------------------------\n",
    "# Retrieve a list of list results on training and test data\n",
    "# sets for each training epoch\n",
    "#-----------------------------------------------------------\n",
    "acc      = history_DIY_model.history['accuracy' ]\n",
    "val_acc  = history_DIY_model.history['val_accuracy' ]\n",
    "loss     = history_DIY_model.history['loss' ]\n",
    "val_loss = history_DIY_model.history['val_loss' ]\n",
    "\n",
    "epochs   = range(len(acc)) # Get number of epochs\n",
    "\n",
    "#------------------------------------------------\n",
    "# Plot training and validation accuracy per epoch\n",
    "#------------------------------------------------\n",
    "plt.plot  (epochs, acc )\n",
    "plt.plot  (epochs, val_acc )\n",
    "plt.title ('Training and validation accuracy DIY Model 1 Augmented')\n",
    "plt.legend(['train', 'val'], loc='upper left')\n",
    "plt.figure()\n",
    "\n",
    "#------------------------------------------------\n",
    "# Plot training and validation loss per epoch\n",
    "#------------------------------------------------\n",
    "plt.plot  (epochs, loss)\n",
    "plt.plot  (epochs, val_loss)\n",
    "plt.title ('Training and validation loss DIY Model 1 Augmented')\n",
    "plt.legend(['train', 'val'], loc='upper left')"
   ]
  },
  {
   "attachments": {},
   "cell_type": "markdown",
   "metadata": {},
   "source": [
    "## DIY Model 2"
   ]
  },
  {
   "cell_type": "code",
   "execution_count": 13,
   "metadata": {
    "tags": []
   },
   "outputs": [],
   "source": [
    "# Difine the callbacks\n",
    "# Save the best model\n",
    "checkpoint_callback = ModelCheckpoint(filepath=\"Apple_DIY_model2_Based_Augmented\", save_best_only=True, monitor=\"val_accuracy\", mode=\"max\", verbose=1)\n",
    "\n",
    "# Early stopping\n",
    "early_stopping_callback = EarlyStopping(monitor=\"val_accuracy\", mode=\"max\", patience=20, verbose=1, restore_best_weights=True)\n",
    "\n",
    "# Reduce learning rate\n",
    "reduce_lr_callback = ReduceLROnPlateau(monitor=\"val_loss\", factor=0.1, patience=5, verbose=1, mode=\"min\", min_delta=0.0001, cooldown=0, min_lr=0)\n",
    "\n",
    "# Callbacks list\n",
    "callbacks=[checkpoint_callback, early_stopping_callback, reduce_lr_callback]"
   ]
  },
  {
   "cell_type": "code",
   "execution_count": 14,
   "metadata": {
    "tags": []
   },
   "outputs": [
    {
     "name": "stdout",
     "output_type": "stream",
     "text": [
      "Model: \"sequential_1\"\n",
      "_________________________________________________________________\n",
      " Layer (type)                Output Shape              Param #   \n",
      "=================================================================\n",
      " conv2d_3 (Conv2D)           (None, 222, 222, 32)      896       \n",
      "                                                                 \n",
      " max_pooling2d_3 (MaxPooling  (None, 111, 111, 32)     0         \n",
      " 2D)                                                             \n",
      "                                                                 \n",
      " conv2d_4 (Conv2D)           (None, 109, 109, 64)      18496     \n",
      "                                                                 \n",
      " max_pooling2d_4 (MaxPooling  (None, 54, 54, 64)       0         \n",
      " 2D)                                                             \n",
      "                                                                 \n",
      " conv2d_5 (Conv2D)           (None, 52, 52, 128)       73856     \n",
      "                                                                 \n",
      " max_pooling2d_5 (MaxPooling  (None, 26, 26, 128)      0         \n",
      " 2D)                                                             \n",
      "                                                                 \n",
      " flatten_1 (Flatten)         (None, 86528)             0         \n",
      "                                                                 \n",
      " dense_3 (Dense)             (None, 1024)              88605696  \n",
      "                                                                 \n",
      " dense_4 (Dense)             (None, 512)               524800    \n",
      "                                                                 \n",
      " dropout_1 (Dropout)         (None, 512)               0         \n",
      "                                                                 \n",
      " dense_5 (Dense)             (None, 256)               131328    \n",
      "                                                                 \n",
      " dense_6 (Dense)             (None, 4)                 1028      \n",
      "                                                                 \n",
      "=================================================================\n",
      "Total params: 89,356,100\n",
      "Trainable params: 89,356,100\n",
      "Non-trainable params: 0\n",
      "_________________________________________________________________\n"
     ]
    }
   ],
   "source": [
    "# Define DIY Model\n",
    "DIY_model_2 = tf.keras.models.Sequential([\n",
    "    # Convolutional Layers with 32 filters\n",
    "    tf.keras.layers.Conv2D(32, (3,3), activation='relu', input_shape=(224, 224, 3)),\n",
    "    # MaxPooling Layer\n",
    "    tf.keras.layers.MaxPooling2D(2,2),\n",
    "    # Convolutional Layers with 64 filters\n",
    "    tf.keras.layers.Conv2D(64, (3,3), activation='relu'),\n",
    "    # MaxPooling Layer\n",
    "    tf.keras.layers.MaxPooling2D(2,2),  \n",
    "    # Convolutional Layers with 128 filters\n",
    "    tf.keras.layers.Conv2D(128, (3,3), activation='relu'), \n",
    "    # MaxPooling Layer\n",
    "    tf.keras.layers.MaxPooling2D(2,2),  \n",
    "    # Flatten the results to feed into a DNN\n",
    "    tf.keras.layers.Flatten(),\n",
    "    # 1024 neuron hidden layer\n",
    "    tf.keras.layers.Dense(1024, activation='relu'),\n",
    "    # 512 neuron hidden layer\n",
    "    tf.keras.layers.Dense(512, activation='relu'),\n",
    "    # Drop Out Layer\n",
    "    tf.keras.layers.Dropout(0.2),\n",
    "    # 256 neuron hidden layer\n",
    "    tf.keras.layers.Dense(256, activation='relu'),\n",
    "    # Output\n",
    "    tf.keras.layers.Dense(4, activation='softmax') \n",
    "  ])\n",
    "\n",
    "\n",
    "# Compile Model\n",
    "DIY_model_2.compile(loss='categorical_crossentropy',optimizer=tf.keras.optimizers.Adam(), metrics=['accuracy']) \n",
    "\n",
    "# Model Summary\n",
    "DIY_model_2.summary()"
   ]
  },
  {
   "cell_type": "code",
   "execution_count": 15,
   "metadata": {
    "tags": []
   },
   "outputs": [
    {
     "name": "stdout",
     "output_type": "stream",
     "text": [
      "Epoch 1/100\n",
      "401/401 [==============================] - ETA: 0s - loss: 0.7857 - accuracy: 0.6890\n",
      "Epoch 1: val_accuracy improved from -inf to 0.77560, saving model to Apple_DIY_model2_Based_Augmented\n"
     ]
    },
    {
     "name": "stderr",
     "output_type": "stream",
     "text": [
      "WARNING:absl:Found untraced functions such as _jit_compiled_convolution_op, _jit_compiled_convolution_op, _jit_compiled_convolution_op while saving (showing 3 of 3). These functions will not be directly callable after loading.\n"
     ]
    },
    {
     "name": "stdout",
     "output_type": "stream",
     "text": [
      "INFO:tensorflow:Assets written to: Apple_DIY_model2_Based_Augmented\\assets\n"
     ]
    },
    {
     "name": "stderr",
     "output_type": "stream",
     "text": [
      "INFO:tensorflow:Assets written to: Apple_DIY_model2_Based_Augmented\\assets\n"
     ]
    },
    {
     "name": "stdout",
     "output_type": "stream",
     "text": [
      "401/401 [==============================] - 65s 162ms/step - loss: 0.7857 - accuracy: 0.6890 - val_loss: 0.7121 - val_accuracy: 0.7756 - lr: 0.0010\n",
      "Epoch 2/100\n",
      "401/401 [==============================] - ETA: 0s - loss: 0.4399 - accuracy: 0.8414\n",
      "Epoch 2: val_accuracy improved from 0.77560 to 0.90685, saving model to Apple_DIY_model2_Based_Augmented\n"
     ]
    },
    {
     "name": "stderr",
     "output_type": "stream",
     "text": [
      "WARNING:absl:Found untraced functions such as _jit_compiled_convolution_op, _jit_compiled_convolution_op, _jit_compiled_convolution_op while saving (showing 3 of 3). These functions will not be directly callable after loading.\n"
     ]
    },
    {
     "name": "stdout",
     "output_type": "stream",
     "text": [
      "INFO:tensorflow:Assets written to: Apple_DIY_model2_Based_Augmented\\assets\n"
     ]
    },
    {
     "name": "stderr",
     "output_type": "stream",
     "text": [
      "INFO:tensorflow:Assets written to: Apple_DIY_model2_Based_Augmented\\assets\n"
     ]
    },
    {
     "name": "stdout",
     "output_type": "stream",
     "text": [
      "401/401 [==============================] - 68s 170ms/step - loss: 0.4399 - accuracy: 0.8414 - val_loss: 0.2757 - val_accuracy: 0.9068 - lr: 0.0010\n",
      "Epoch 3/100\n",
      "401/401 [==============================] - ETA: 0s - loss: 0.3106 - accuracy: 0.8906\n",
      "Epoch 3: val_accuracy improved from 0.90685 to 0.91148, saving model to Apple_DIY_model2_Based_Augmented\n"
     ]
    },
    {
     "name": "stderr",
     "output_type": "stream",
     "text": [
      "WARNING:absl:Found untraced functions such as _jit_compiled_convolution_op, _jit_compiled_convolution_op, _jit_compiled_convolution_op while saving (showing 3 of 3). These functions will not be directly callable after loading.\n"
     ]
    },
    {
     "name": "stdout",
     "output_type": "stream",
     "text": [
      "INFO:tensorflow:Assets written to: Apple_DIY_model2_Based_Augmented\\assets\n"
     ]
    },
    {
     "name": "stderr",
     "output_type": "stream",
     "text": [
      "INFO:tensorflow:Assets written to: Apple_DIY_model2_Based_Augmented\\assets\n"
     ]
    },
    {
     "name": "stdout",
     "output_type": "stream",
     "text": [
      "401/401 [==============================] - 68s 170ms/step - loss: 0.3106 - accuracy: 0.8906 - val_loss: 0.2328 - val_accuracy: 0.9115 - lr: 0.0010\n",
      "Epoch 4/100\n",
      "401/401 [==============================] - ETA: 0s - loss: 0.2297 - accuracy: 0.9205\n",
      "Epoch 4: val_accuracy improved from 0.91148 to 0.94390, saving model to Apple_DIY_model2_Based_Augmented\n"
     ]
    },
    {
     "name": "stderr",
     "output_type": "stream",
     "text": [
      "WARNING:absl:Found untraced functions such as _jit_compiled_convolution_op, _jit_compiled_convolution_op, _jit_compiled_convolution_op while saving (showing 3 of 3). These functions will not be directly callable after loading.\n"
     ]
    },
    {
     "name": "stdout",
     "output_type": "stream",
     "text": [
      "INFO:tensorflow:Assets written to: Apple_DIY_model2_Based_Augmented\\assets\n"
     ]
    },
    {
     "name": "stderr",
     "output_type": "stream",
     "text": [
      "INFO:tensorflow:Assets written to: Apple_DIY_model2_Based_Augmented\\assets\n"
     ]
    },
    {
     "name": "stdout",
     "output_type": "stream",
     "text": [
      "401/401 [==============================] - 65s 162ms/step - loss: 0.2297 - accuracy: 0.9205 - val_loss: 0.1764 - val_accuracy: 0.9439 - lr: 0.0010\n",
      "Epoch 5/100\n",
      "401/401 [==============================] - ETA: 0s - loss: 0.1686 - accuracy: 0.9397\n",
      "Epoch 5: val_accuracy did not improve from 0.94390\n",
      "401/401 [==============================] - 60s 150ms/step - loss: 0.1686 - accuracy: 0.9397 - val_loss: 0.2684 - val_accuracy: 0.9074 - lr: 0.0010\n",
      "Epoch 6/100\n",
      "401/401 [==============================] - ETA: 0s - loss: 0.1692 - accuracy: 0.9414\n",
      "Epoch 6: val_accuracy did not improve from 0.94390\n",
      "401/401 [==============================] - 62s 154ms/step - loss: 0.1692 - accuracy: 0.9414 - val_loss: 0.3205 - val_accuracy: 0.9094 - lr: 0.0010\n",
      "Epoch 7/100\n",
      "401/401 [==============================] - ETA: 0s - loss: 0.1460 - accuracy: 0.9503\n",
      "Epoch 7: val_accuracy improved from 0.94390 to 0.96861, saving model to Apple_DIY_model2_Based_Augmented\n"
     ]
    },
    {
     "name": "stderr",
     "output_type": "stream",
     "text": [
      "WARNING:absl:Found untraced functions such as _jit_compiled_convolution_op, _jit_compiled_convolution_op, _jit_compiled_convolution_op while saving (showing 3 of 3). These functions will not be directly callable after loading.\n"
     ]
    },
    {
     "name": "stdout",
     "output_type": "stream",
     "text": [
      "INFO:tensorflow:Assets written to: Apple_DIY_model2_Based_Augmented\\assets\n"
     ]
    },
    {
     "name": "stderr",
     "output_type": "stream",
     "text": [
      "INFO:tensorflow:Assets written to: Apple_DIY_model2_Based_Augmented\\assets\n"
     ]
    },
    {
     "name": "stdout",
     "output_type": "stream",
     "text": [
      "401/401 [==============================] - 69s 173ms/step - loss: 0.1460 - accuracy: 0.9503 - val_loss: 0.1099 - val_accuracy: 0.9686 - lr: 0.0010\n",
      "Epoch 8/100\n",
      "401/401 [==============================] - ETA: 0s - loss: 0.1552 - accuracy: 0.9456\n",
      "Epoch 8: val_accuracy did not improve from 0.96861\n",
      "401/401 [==============================] - 63s 156ms/step - loss: 0.1552 - accuracy: 0.9456 - val_loss: 0.1437 - val_accuracy: 0.9341 - lr: 0.0010\n",
      "Epoch 9/100\n",
      "401/401 [==============================] - ETA: 0s - loss: 0.1268 - accuracy: 0.9542\n",
      "Epoch 9: val_accuracy did not improve from 0.96861\n",
      "401/401 [==============================] - 62s 155ms/step - loss: 0.1268 - accuracy: 0.9542 - val_loss: 0.1351 - val_accuracy: 0.9429 - lr: 0.0010\n",
      "Epoch 10/100\n",
      "401/401 [==============================] - ETA: 0s - loss: 0.1238 - accuracy: 0.9578\n",
      "Epoch 10: val_accuracy did not improve from 0.96861\n",
      "401/401 [==============================] - 59s 148ms/step - loss: 0.1238 - accuracy: 0.9578 - val_loss: 0.0913 - val_accuracy: 0.9619 - lr: 0.0010\n",
      "Epoch 11/100\n",
      "401/401 [==============================] - ETA: 0s - loss: 0.1232 - accuracy: 0.9568\n",
      "Epoch 11: val_accuracy did not improve from 0.96861\n",
      "401/401 [==============================] - 61s 153ms/step - loss: 0.1232 - accuracy: 0.9568 - val_loss: 0.3865 - val_accuracy: 0.8760 - lr: 0.0010\n",
      "Epoch 12/100\n",
      "401/401 [==============================] - ETA: 0s - loss: 0.1205 - accuracy: 0.9572\n",
      "Epoch 12: val_accuracy did not improve from 0.96861\n",
      "401/401 [==============================] - 61s 153ms/step - loss: 0.1205 - accuracy: 0.9572 - val_loss: 0.1260 - val_accuracy: 0.9485 - lr: 0.0010\n",
      "Epoch 13/100\n",
      "401/401 [==============================] - ETA: 0s - loss: 0.1153 - accuracy: 0.9619\n",
      "Epoch 13: val_accuracy improved from 0.96861 to 0.98096, saving model to Apple_DIY_model2_Based_Augmented\n"
     ]
    },
    {
     "name": "stderr",
     "output_type": "stream",
     "text": [
      "WARNING:absl:Found untraced functions such as _jit_compiled_convolution_op, _jit_compiled_convolution_op, _jit_compiled_convolution_op while saving (showing 3 of 3). These functions will not be directly callable after loading.\n"
     ]
    },
    {
     "name": "stdout",
     "output_type": "stream",
     "text": [
      "INFO:tensorflow:Assets written to: Apple_DIY_model2_Based_Augmented\\assets\n"
     ]
    },
    {
     "name": "stderr",
     "output_type": "stream",
     "text": [
      "INFO:tensorflow:Assets written to: Apple_DIY_model2_Based_Augmented\\assets\n"
     ]
    },
    {
     "name": "stdout",
     "output_type": "stream",
     "text": [
      "401/401 [==============================] - 66s 163ms/step - loss: 0.1153 - accuracy: 0.9619 - val_loss: 0.0587 - val_accuracy: 0.9810 - lr: 0.0010\n",
      "Epoch 14/100\n",
      "401/401 [==============================] - ETA: 0s - loss: 0.0966 - accuracy: 0.9651\n",
      "Epoch 14: val_accuracy did not improve from 0.98096\n",
      "401/401 [==============================] - 60s 149ms/step - loss: 0.0966 - accuracy: 0.9651 - val_loss: 0.2001 - val_accuracy: 0.9377 - lr: 0.0010\n",
      "Epoch 15/100\n",
      "401/401 [==============================] - ETA: 0s - loss: 0.0874 - accuracy: 0.9704\n",
      "Epoch 15: val_accuracy did not improve from 0.98096\n",
      "401/401 [==============================] - 60s 148ms/step - loss: 0.0874 - accuracy: 0.9704 - val_loss: 0.2113 - val_accuracy: 0.9362 - lr: 0.0010\n",
      "Epoch 16/100\n",
      "401/401 [==============================] - ETA: 0s - loss: 0.1040 - accuracy: 0.9667\n",
      "Epoch 16: val_accuracy did not improve from 0.98096\n",
      "401/401 [==============================] - 60s 150ms/step - loss: 0.1040 - accuracy: 0.9667 - val_loss: 0.0630 - val_accuracy: 0.9753 - lr: 0.0010\n",
      "Epoch 17/100\n",
      "401/401 [==============================] - ETA: 0s - loss: 0.0976 - accuracy: 0.9697\n",
      "Epoch 17: val_accuracy did not improve from 0.98096\n",
      "401/401 [==============================] - 61s 151ms/step - loss: 0.0976 - accuracy: 0.9697 - val_loss: 0.0995 - val_accuracy: 0.9629 - lr: 0.0010\n",
      "Epoch 18/100\n",
      "401/401 [==============================] - ETA: 0s - loss: 0.0795 - accuracy: 0.9711\n",
      "Epoch 18: val_accuracy did not improve from 0.98096\n",
      "\n",
      "Epoch 18: ReduceLROnPlateau reducing learning rate to 0.00010000000474974513.\n",
      "401/401 [==============================] - 61s 151ms/step - loss: 0.0795 - accuracy: 0.9711 - val_loss: 0.1088 - val_accuracy: 0.9686 - lr: 0.0010\n",
      "Epoch 19/100\n",
      "401/401 [==============================] - ETA: 0s - loss: 0.0436 - accuracy: 0.9840\n",
      "Epoch 19: val_accuracy improved from 0.98096 to 0.98559, saving model to Apple_DIY_model2_Based_Augmented\n"
     ]
    },
    {
     "name": "stderr",
     "output_type": "stream",
     "text": [
      "WARNING:absl:Found untraced functions such as _jit_compiled_convolution_op, _jit_compiled_convolution_op, _jit_compiled_convolution_op while saving (showing 3 of 3). These functions will not be directly callable after loading.\n"
     ]
    },
    {
     "name": "stdout",
     "output_type": "stream",
     "text": [
      "INFO:tensorflow:Assets written to: Apple_DIY_model2_Based_Augmented\\assets\n"
     ]
    },
    {
     "name": "stderr",
     "output_type": "stream",
     "text": [
      "INFO:tensorflow:Assets written to: Apple_DIY_model2_Based_Augmented\\assets\n"
     ]
    },
    {
     "name": "stdout",
     "output_type": "stream",
     "text": [
      "401/401 [==============================] - 70s 175ms/step - loss: 0.0436 - accuracy: 0.9840 - val_loss: 0.0433 - val_accuracy: 0.9856 - lr: 1.0000e-04\n",
      "Epoch 20/100\n",
      "401/401 [==============================] - ETA: 0s - loss: 0.0332 - accuracy: 0.9875\n",
      "Epoch 20: val_accuracy did not improve from 0.98559\n",
      "401/401 [==============================] - 61s 151ms/step - loss: 0.0332 - accuracy: 0.9875 - val_loss: 0.0356 - val_accuracy: 0.9856 - lr: 1.0000e-04\n",
      "Epoch 21/100\n",
      "401/401 [==============================] - ETA: 0s - loss: 0.0288 - accuracy: 0.9893\n",
      "Epoch 21: val_accuracy improved from 0.98559 to 0.98765, saving model to Apple_DIY_model2_Based_Augmented\n"
     ]
    },
    {
     "name": "stderr",
     "output_type": "stream",
     "text": [
      "WARNING:absl:Found untraced functions such as _jit_compiled_convolution_op, _jit_compiled_convolution_op, _jit_compiled_convolution_op while saving (showing 3 of 3). These functions will not be directly callable after loading.\n"
     ]
    },
    {
     "name": "stdout",
     "output_type": "stream",
     "text": [
      "INFO:tensorflow:Assets written to: Apple_DIY_model2_Based_Augmented\\assets\n"
     ]
    },
    {
     "name": "stderr",
     "output_type": "stream",
     "text": [
      "INFO:tensorflow:Assets written to: Apple_DIY_model2_Based_Augmented\\assets\n"
     ]
    },
    {
     "name": "stdout",
     "output_type": "stream",
     "text": [
      "401/401 [==============================] - 70s 175ms/step - loss: 0.0288 - accuracy: 0.9893 - val_loss: 0.0347 - val_accuracy: 0.9876 - lr: 1.0000e-04\n",
      "Epoch 22/100\n",
      "401/401 [==============================] - ETA: 0s - loss: 0.0256 - accuracy: 0.9903\n",
      "Epoch 22: val_accuracy did not improve from 0.98765\n",
      "401/401 [==============================] - 60s 149ms/step - loss: 0.0256 - accuracy: 0.9903 - val_loss: 0.0470 - val_accuracy: 0.9856 - lr: 1.0000e-04\n",
      "Epoch 23/100\n",
      "401/401 [==============================] - ETA: 0s - loss: 0.0288 - accuracy: 0.9891\n",
      "Epoch 23: val_accuracy improved from 0.98765 to 0.99022, saving model to Apple_DIY_model2_Based_Augmented\n"
     ]
    },
    {
     "name": "stderr",
     "output_type": "stream",
     "text": [
      "WARNING:absl:Found untraced functions such as _jit_compiled_convolution_op, _jit_compiled_convolution_op, _jit_compiled_convolution_op while saving (showing 3 of 3). These functions will not be directly callable after loading.\n"
     ]
    },
    {
     "name": "stdout",
     "output_type": "stream",
     "text": [
      "INFO:tensorflow:Assets written to: Apple_DIY_model2_Based_Augmented\\assets\n"
     ]
    },
    {
     "name": "stderr",
     "output_type": "stream",
     "text": [
      "INFO:tensorflow:Assets written to: Apple_DIY_model2_Based_Augmented\\assets\n"
     ]
    },
    {
     "name": "stdout",
     "output_type": "stream",
     "text": [
      "401/401 [==============================] - 71s 176ms/step - loss: 0.0288 - accuracy: 0.9891 - val_loss: 0.0283 - val_accuracy: 0.9902 - lr: 1.0000e-04\n",
      "Epoch 24/100\n",
      "401/401 [==============================] - ETA: 0s - loss: 0.0274 - accuracy: 0.9889\n",
      "Epoch 24: val_accuracy did not improve from 0.99022\n",
      "401/401 [==============================] - 60s 149ms/step - loss: 0.0274 - accuracy: 0.9889 - val_loss: 0.0311 - val_accuracy: 0.9882 - lr: 1.0000e-04\n",
      "Epoch 25/100\n",
      "401/401 [==============================] - ETA: 0s - loss: 0.0270 - accuracy: 0.9889\n",
      "Epoch 25: val_accuracy did not improve from 0.99022\n",
      "401/401 [==============================] - 61s 151ms/step - loss: 0.0270 - accuracy: 0.9889 - val_loss: 0.0350 - val_accuracy: 0.9882 - lr: 1.0000e-04\n",
      "Epoch 26/100\n",
      "401/401 [==============================] - ETA: 0s - loss: 0.0236 - accuracy: 0.9911\n",
      "Epoch 26: val_accuracy improved from 0.99022 to 0.99074, saving model to Apple_DIY_model2_Based_Augmented\n"
     ]
    },
    {
     "name": "stderr",
     "output_type": "stream",
     "text": [
      "WARNING:absl:Found untraced functions such as _jit_compiled_convolution_op, _jit_compiled_convolution_op, _jit_compiled_convolution_op while saving (showing 3 of 3). These functions will not be directly callable after loading.\n"
     ]
    },
    {
     "name": "stdout",
     "output_type": "stream",
     "text": [
      "INFO:tensorflow:Assets written to: Apple_DIY_model2_Based_Augmented\\assets\n"
     ]
    },
    {
     "name": "stderr",
     "output_type": "stream",
     "text": [
      "INFO:tensorflow:Assets written to: Apple_DIY_model2_Based_Augmented\\assets\n"
     ]
    },
    {
     "name": "stdout",
     "output_type": "stream",
     "text": [
      "401/401 [==============================] - 67s 167ms/step - loss: 0.0236 - accuracy: 0.9911 - val_loss: 0.0210 - val_accuracy: 0.9907 - lr: 1.0000e-04\n",
      "Epoch 27/100\n",
      "401/401 [==============================] - ETA: 0s - loss: 0.0215 - accuracy: 0.9903\n",
      "Epoch 27: val_accuracy did not improve from 0.99074\n",
      "401/401 [==============================] - 60s 149ms/step - loss: 0.0215 - accuracy: 0.9903 - val_loss: 0.0242 - val_accuracy: 0.9897 - lr: 1.0000e-04\n",
      "Epoch 28/100\n",
      "401/401 [==============================] - ETA: 0s - loss: 0.0223 - accuracy: 0.9919\n",
      "Epoch 28: val_accuracy improved from 0.99074 to 0.99382, saving model to Apple_DIY_model2_Based_Augmented\n"
     ]
    },
    {
     "name": "stderr",
     "output_type": "stream",
     "text": [
      "WARNING:absl:Found untraced functions such as _jit_compiled_convolution_op, _jit_compiled_convolution_op, _jit_compiled_convolution_op while saving (showing 3 of 3). These functions will not be directly callable after loading.\n"
     ]
    },
    {
     "name": "stdout",
     "output_type": "stream",
     "text": [
      "INFO:tensorflow:Assets written to: Apple_DIY_model2_Based_Augmented\\assets\n"
     ]
    },
    {
     "name": "stderr",
     "output_type": "stream",
     "text": [
      "INFO:tensorflow:Assets written to: Apple_DIY_model2_Based_Augmented\\assets\n"
     ]
    },
    {
     "name": "stdout",
     "output_type": "stream",
     "text": [
      "401/401 [==============================] - 69s 172ms/step - loss: 0.0223 - accuracy: 0.9919 - val_loss: 0.0222 - val_accuracy: 0.9938 - lr: 1.0000e-04\n",
      "Epoch 29/100\n",
      "401/401 [==============================] - ETA: 0s - loss: 0.0239 - accuracy: 0.9920\n",
      "Epoch 29: val_accuracy did not improve from 0.99382\n",
      "401/401 [==============================] - 61s 152ms/step - loss: 0.0239 - accuracy: 0.9920 - val_loss: 0.0295 - val_accuracy: 0.9902 - lr: 1.0000e-04\n",
      "Epoch 30/100\n",
      "401/401 [==============================] - ETA: 0s - loss: 0.0191 - accuracy: 0.9921\n",
      "Epoch 30: val_accuracy did not improve from 0.99382\n",
      "401/401 [==============================] - 61s 151ms/step - loss: 0.0191 - accuracy: 0.9921 - val_loss: 0.0324 - val_accuracy: 0.9918 - lr: 1.0000e-04\n",
      "Epoch 31/100\n",
      "401/401 [==============================] - ETA: 0s - loss: 0.0224 - accuracy: 0.9914\n",
      "Epoch 31: val_accuracy did not improve from 0.99382\n",
      "\n",
      "Epoch 31: ReduceLROnPlateau reducing learning rate to 1.0000000474974514e-05.\n",
      "401/401 [==============================] - 61s 153ms/step - loss: 0.0224 - accuracy: 0.9914 - val_loss: 0.0272 - val_accuracy: 0.9918 - lr: 1.0000e-04\n",
      "Epoch 32/100\n",
      "401/401 [==============================] - ETA: 0s - loss: 0.0199 - accuracy: 0.9918\n",
      "Epoch 32: val_accuracy did not improve from 0.99382\n",
      "401/401 [==============================] - 59s 147ms/step - loss: 0.0199 - accuracy: 0.9918 - val_loss: 0.0246 - val_accuracy: 0.9923 - lr: 1.0000e-05\n",
      "Epoch 33/100\n",
      "401/401 [==============================] - ETA: 0s - loss: 0.0187 - accuracy: 0.9929\n",
      "Epoch 33: val_accuracy did not improve from 0.99382\n",
      "401/401 [==============================] - 60s 151ms/step - loss: 0.0187 - accuracy: 0.9929 - val_loss: 0.0274 - val_accuracy: 0.9913 - lr: 1.0000e-05\n",
      "Epoch 34/100\n",
      "401/401 [==============================] - ETA: 0s - loss: 0.0183 - accuracy: 0.9924\n",
      "Epoch 34: val_accuracy did not improve from 0.99382\n",
      "401/401 [==============================] - 59s 148ms/step - loss: 0.0183 - accuracy: 0.9924 - val_loss: 0.0297 - val_accuracy: 0.9913 - lr: 1.0000e-05\n",
      "Epoch 35/100\n",
      "401/401 [==============================] - ETA: 0s - loss: 0.0161 - accuracy: 0.9933\n",
      "Epoch 35: val_accuracy did not improve from 0.99382\n",
      "401/401 [==============================] - 60s 150ms/step - loss: 0.0161 - accuracy: 0.9933 - val_loss: 0.0325 - val_accuracy: 0.9913 - lr: 1.0000e-05\n",
      "Epoch 36/100\n",
      "401/401 [==============================] - ETA: 0s - loss: 0.0160 - accuracy: 0.9926\n",
      "Epoch 36: val_accuracy did not improve from 0.99382\n",
      "\n",
      "Epoch 36: ReduceLROnPlateau reducing learning rate to 1.0000000656873453e-06.\n",
      "401/401 [==============================] - 61s 151ms/step - loss: 0.0160 - accuracy: 0.9926 - val_loss: 0.0247 - val_accuracy: 0.9928 - lr: 1.0000e-05\n",
      "Epoch 37/100\n",
      "401/401 [==============================] - ETA: 0s - loss: 0.0177 - accuracy: 0.9925\n",
      "Epoch 37: val_accuracy did not improve from 0.99382\n",
      "401/401 [==============================] - 61s 152ms/step - loss: 0.0177 - accuracy: 0.9925 - val_loss: 0.0253 - val_accuracy: 0.9918 - lr: 1.0000e-06\n",
      "Epoch 38/100\n",
      "401/401 [==============================] - ETA: 0s - loss: 0.0152 - accuracy: 0.9934\n",
      "Epoch 38: val_accuracy did not improve from 0.99382\n",
      "401/401 [==============================] - 62s 155ms/step - loss: 0.0152 - accuracy: 0.9934 - val_loss: 0.0261 - val_accuracy: 0.9918 - lr: 1.0000e-06\n",
      "Epoch 39/100\n",
      "401/401 [==============================] - ETA: 0s - loss: 0.0146 - accuracy: 0.9936\n",
      "Epoch 39: val_accuracy did not improve from 0.99382\n",
      "401/401 [==============================] - 61s 152ms/step - loss: 0.0146 - accuracy: 0.9936 - val_loss: 0.0262 - val_accuracy: 0.9918 - lr: 1.0000e-06\n",
      "Epoch 40/100\n",
      "401/401 [==============================] - ETA: 0s - loss: 0.0176 - accuracy: 0.9929\n",
      "Epoch 40: val_accuracy did not improve from 0.99382\n",
      "401/401 [==============================] - 61s 152ms/step - loss: 0.0176 - accuracy: 0.9929 - val_loss: 0.0269 - val_accuracy: 0.9923 - lr: 1.0000e-06\n",
      "Epoch 41/100\n",
      "401/401 [==============================] - ETA: 0s - loss: 0.0144 - accuracy: 0.9940\n",
      "Epoch 41: val_accuracy did not improve from 0.99382\n",
      "\n",
      "Epoch 41: ReduceLROnPlateau reducing learning rate to 1.0000001111620805e-07.\n",
      "401/401 [==============================] - 62s 154ms/step - loss: 0.0144 - accuracy: 0.9940 - val_loss: 0.0275 - val_accuracy: 0.9918 - lr: 1.0000e-06\n",
      "Epoch 42/100\n",
      "401/401 [==============================] - ETA: 0s - loss: 0.0169 - accuracy: 0.9926\n",
      "Epoch 42: val_accuracy did not improve from 0.99382\n",
      "401/401 [==============================] - 61s 152ms/step - loss: 0.0169 - accuracy: 0.9926 - val_loss: 0.0276 - val_accuracy: 0.9918 - lr: 1.0000e-07\n",
      "Epoch 43/100\n",
      "401/401 [==============================] - ETA: 0s - loss: 0.0176 - accuracy: 0.9934\n",
      "Epoch 43: val_accuracy did not improve from 0.99382\n",
      "401/401 [==============================] - 61s 153ms/step - loss: 0.0176 - accuracy: 0.9934 - val_loss: 0.0276 - val_accuracy: 0.9918 - lr: 1.0000e-07\n",
      "Epoch 44/100\n",
      "401/401 [==============================] - ETA: 0s - loss: 0.0153 - accuracy: 0.9940\n",
      "Epoch 44: val_accuracy did not improve from 0.99382\n",
      "401/401 [==============================] - 60s 149ms/step - loss: 0.0153 - accuracy: 0.9940 - val_loss: 0.0276 - val_accuracy: 0.9918 - lr: 1.0000e-07\n",
      "Epoch 45/100\n",
      "401/401 [==============================] - ETA: 0s - loss: 0.0171 - accuracy: 0.9928\n",
      "Epoch 45: val_accuracy did not improve from 0.99382\n",
      "401/401 [==============================] - 60s 149ms/step - loss: 0.0171 - accuracy: 0.9928 - val_loss: 0.0275 - val_accuracy: 0.9918 - lr: 1.0000e-07\n",
      "Epoch 46/100\n",
      "401/401 [==============================] - ETA: 0s - loss: 0.0147 - accuracy: 0.9928\n",
      "Epoch 46: val_accuracy did not improve from 0.99382\n",
      "\n",
      "Epoch 46: ReduceLROnPlateau reducing learning rate to 1.000000082740371e-08.\n",
      "401/401 [==============================] - 59s 147ms/step - loss: 0.0147 - accuracy: 0.9928 - val_loss: 0.0275 - val_accuracy: 0.9918 - lr: 1.0000e-07\n",
      "Epoch 47/100\n",
      "401/401 [==============================] - ETA: 0s - loss: 0.0163 - accuracy: 0.9931\n",
      "Epoch 47: val_accuracy did not improve from 0.99382\n",
      "401/401 [==============================] - 60s 149ms/step - loss: 0.0163 - accuracy: 0.9931 - val_loss: 0.0275 - val_accuracy: 0.9918 - lr: 1.0000e-08\n",
      "Epoch 48/100\n",
      "401/401 [==============================] - ETA: 0s - loss: 0.0154 - accuracy: 0.9938\n",
      "Epoch 48: val_accuracy did not improve from 0.99382\n",
      "Restoring model weights from the end of the best epoch: 28.\n",
      "401/401 [==============================] - 61s 152ms/step - loss: 0.0154 - accuracy: 0.9938 - val_loss: 0.0275 - val_accuracy: 0.9918 - lr: 1.0000e-08\n",
      "Epoch 48: early stopping\n"
     ]
    }
   ],
   "source": [
    "# Define the number of epochs\n",
    "num_epochs = 100\n",
    "\n",
    "# Train the model\n",
    "history_DIY_model_2 = DIY_model_2.fit(train_generator, epochs=num_epochs, validation_data=validation_generator, callbacks=callbacks)"
   ]
  },
  {
   "cell_type": "code",
   "execution_count": 16,
   "metadata": {
    "tags": []
   },
   "outputs": [
    {
     "data": {
      "text/plain": [
       "<matplotlib.legend.Legend at 0x287f1673b20>"
      ]
     },
     "execution_count": 16,
     "metadata": {},
     "output_type": "execute_result"
    },
    {
     "data": {
      "image/png": "[encoded data removed]",
      "text/plain": [
       "<Figure size 640x480 with 1 Axes>"
      ]
     },
     "metadata": {},
     "output_type": "display_data"
    },
    {
     "data": {
      "image/png": "[encoded data removed]",
      "text/plain": [
       "<Figure size 640x480 with 1 Axes>"
      ]
     },
     "metadata": {},
     "output_type": "display_data"
    }
   ],
   "source": [
    "#-----------------------------------------------------------\n",
    "# Retrieve a list of list results on training and test data\n",
    "# sets for each training epoch\n",
    "#-----------------------------------------------------------\n",
    "acc      = history_DIY_model_2.history['accuracy' ]\n",
    "val_acc  = history_DIY_model_2.history['val_accuracy' ]\n",
    "loss     = history_DIY_model_2.history['loss' ]\n",
    "val_loss = history_DIY_model_2.history['val_loss' ]\n",
    "\n",
    "epochs   = range(len(acc)) # Get number of epochs\n",
    "\n",
    "#------------------------------------------------\n",
    "# Plot training and validation accuracy per epoch\n",
    "#------------------------------------------------\n",
    "plt.plot  (epochs, acc )\n",
    "plt.plot  (epochs, val_acc )\n",
    "plt.title ('Training and validation accuracy DIY Model 2 Augmented')\n",
    "plt.legend(['train', 'val'], loc='upper left')\n",
    "plt.figure()\n",
    "\n",
    "#------------------------------------------------\n",
    "# Plot training and validation loss per epoch\n",
    "#------------------------------------------------\n",
    "plt.plot  (epochs, loss)\n",
    "plt.plot  (epochs, val_loss)\n",
    "plt.title ('Training and validation loss DIY Model 2 Augmented')\n",
    "plt.legend(['train', 'val'], loc='upper left')"
   ]
  }
 ],
 "metadata": {
  "kernelspec": {
   "display_name": "Python 3 (ipykernel)",
   "language": "python",
   "name": "python3"
  },
  "language_info": {
   "codemirror_mode": {
    "name": "ipython",
    "version": 3
   },
   "file_extension": ".py",
   "mimetype": "text/x-python",
   "name": "python",
   "nbconvert_exporter": "python",
   "pygments_lexer": "ipython3",
   "version": "3.10.0"
  }
 },
 "nbformat": 4,
 "nbformat_minor": 4
}
