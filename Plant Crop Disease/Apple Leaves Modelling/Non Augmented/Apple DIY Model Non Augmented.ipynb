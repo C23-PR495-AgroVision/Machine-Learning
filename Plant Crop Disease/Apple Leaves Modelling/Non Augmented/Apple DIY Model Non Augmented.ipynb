{
 "cells": [
  {
   "attachments": {},
   "cell_type": "markdown",
   "metadata": {},
   "source": [
    "# Library"
   ]
  },
  {
   "cell_type": "code",
   "execution_count": 1,
   "metadata": {
    "tags": []
   },
   "outputs": [
    {
     "name": "stdout",
     "output_type": "stream",
     "text": [
      "Requirement already satisfied: matplotlib in c:\\users\\hasan\\anaconda3\\envs\\tensorflow_gpu_zein\\lib\\site-packages (3.6.3)\n",
      "Requirement already satisfied: kiwisolver>=1.0.1 in c:\\users\\hasan\\anaconda3\\envs\\tensorflow_gpu_zein\\lib\\site-packages (from matplotlib) (1.4.4)\n",
      "Requirement already satisfied: fonttools>=4.22.0 in c:\\users\\hasan\\anaconda3\\envs\\tensorflow_gpu_zein\\lib\\site-packages (from matplotlib) (4.39.2)\n",
      "Requirement already satisfied: packaging>=20.0 in c:\\users\\hasan\\anaconda3\\envs\\tensorflow_gpu_zein\\lib\\site-packages (from matplotlib) (23.1)\n",
      "Requirement already satisfied: contourpy>=1.0.1 in c:\\users\\hasan\\anaconda3\\envs\\tensorflow_gpu_zein\\lib\\site-packages (from matplotlib) (1.0.7)\n",
      "Requirement already satisfied: pillow>=6.2.0 in c:\\users\\hasan\\anaconda3\\envs\\tensorflow_gpu_zein\\lib\\site-packages (from matplotlib) (9.4.0)\n",
      "Requirement already satisfied: cycler>=0.10 in c:\\users\\hasan\\anaconda3\\envs\\tensorflow_gpu_zein\\lib\\site-packages (from matplotlib) (0.11.0)\n",
      "Requirement already satisfied: pyparsing>=2.2.1 in c:\\users\\hasan\\anaconda3\\envs\\tensorflow_gpu_zein\\lib\\site-packages (from matplotlib) (3.0.9)\n",
      "Requirement already satisfied: numpy>=1.19 in c:\\users\\hasan\\anaconda3\\envs\\tensorflow_gpu_zein\\lib\\site-packages (from matplotlib) (1.23.5)\n",
      "Requirement already satisfied: python-dateutil>=2.7 in c:\\users\\hasan\\anaconda3\\envs\\tensorflow_gpu_zein\\lib\\site-packages (from matplotlib) (2.8.2)\n",
      "Requirement already satisfied: six>=1.5 in c:\\users\\hasan\\anaconda3\\envs\\tensorflow_gpu_zein\\lib\\site-packages (from python-dateutil>=2.7->matplotlib) (1.16.0)\n",
      "Note: you may need to restart the kernel to use updated packages.\n"
     ]
    },
    {
     "name": "stderr",
     "output_type": "stream",
     "text": [
      "WARNING: Ignoring invalid distribution -rotobuf (c:\\users\\hasan\\anaconda3\\envs\\tensorflow_gpu_zein\\lib\\site-packages)\n",
      "WARNING: Ignoring invalid distribution -rotobuf (c:\\users\\hasan\\anaconda3\\envs\\tensorflow_gpu_zein\\lib\\site-packages)\n",
      "WARNING: Ignoring invalid distribution -rotobuf (c:\\users\\hasan\\anaconda3\\envs\\tensorflow_gpu_zein\\lib\\site-packages)\n",
      "WARNING: Ignoring invalid distribution -rotobuf (c:\\users\\hasan\\anaconda3\\envs\\tensorflow_gpu_zein\\lib\\site-packages)\n",
      "WARNING: Ignoring invalid distribution -rotobuf (c:\\users\\hasan\\anaconda3\\envs\\tensorflow_gpu_zein\\lib\\site-packages)\n",
      "WARNING: Ignoring invalid distribution -rotobuf (c:\\users\\hasan\\anaconda3\\envs\\tensorflow_gpu_zein\\lib\\site-packages)\n"
     ]
    }
   ],
   "source": [
    "pip install matplotlib"
   ]
  },
  {
   "cell_type": "code",
   "execution_count": 2,
   "metadata": {
    "tags": []
   },
   "outputs": [
    {
     "name": "stdout",
     "output_type": "stream",
     "text": [
      "Requirement already satisfied: opendatasets in c:\\users\\hasan\\anaconda3\\envs\\tensorflow_gpu_zein\\lib\\site-packages (0.1.22)\n",
      "Requirement already satisfied: kaggle in c:\\users\\hasan\\anaconda3\\envs\\tensorflow_gpu_zein\\lib\\site-packages (from opendatasets) (1.5.13)\n",
      "Requirement already satisfied: click in c:\\users\\hasan\\anaconda3\\envs\\tensorflow_gpu_zein\\lib\\site-packages (from opendatasets) (8.1.3)\n",
      "Requirement already satisfied: tqdm in c:\\users\\hasan\\anaconda3\\envs\\tensorflow_gpu_zein\\lib\\site-packages (from opendatasets) (4.64.1)\n",
      "Requirement already satisfied: colorama in c:\\users\\hasan\\anaconda3\\envs\\tensorflow_gpu_zein\\lib\\site-packages (from click->opendatasets) (0.4.6)\n",
      "Requirement already satisfied: python-slugify in c:\\users\\hasan\\anaconda3\\envs\\tensorflow_gpu_zein\\lib\\site-packages (from kaggle->opendatasets) (8.0.1)\n",
      "Requirement already satisfied: requests in c:\\users\\hasan\\anaconda3\\envs\\tensorflow_gpu_zein\\lib\\site-packages (from kaggle->opendatasets) (2.28.2)\n",
      "Requirement already satisfied: six>=1.10 in c:\\users\\hasan\\anaconda3\\envs\\tensorflow_gpu_zein\\lib\\site-packages (from kaggle->opendatasets) (1.16.0)\n",
      "Requirement already satisfied: python-dateutil in c:\\users\\hasan\\anaconda3\\envs\\tensorflow_gpu_zein\\lib\\site-packages (from kaggle->opendatasets) (2.8.2)\n",
      "Requirement already satisfied: urllib3 in c:\\users\\hasan\\anaconda3\\envs\\tensorflow_gpu_zein\\lib\\site-packages (from kaggle->opendatasets) (1.26.15)\n",
      "Requirement already satisfied: certifi in c:\\users\\hasan\\anaconda3\\envs\\tensorflow_gpu_zein\\lib\\site-packages (from kaggle->opendatasets) (2022.12.7)\n",
      "Requirement already satisfied: text-unidecode>=1.3 in c:\\users\\hasan\\anaconda3\\envs\\tensorflow_gpu_zein\\lib\\site-packages (from python-slugify->kaggle->opendatasets) (1.3)\n",
      "Requirement already satisfied: charset-normalizer<4,>=2 in c:\\users\\hasan\\anaconda3\\envs\\tensorflow_gpu_zein\\lib\\site-packages (from requests->kaggle->opendatasets) (3.1.0)\n",
      "Requirement already satisfied: idna<4,>=2.5 in c:\\users\\hasan\\anaconda3\\envs\\tensorflow_gpu_zein\\lib\\site-packages (from requests->kaggle->opendatasets) (3.4)\n",
      "Note: you may need to restart the kernel to use updated packages.\n"
     ]
    },
    {
     "name": "stderr",
     "output_type": "stream",
     "text": [
      "WARNING: Ignoring invalid distribution -rotobuf (c:\\users\\hasan\\anaconda3\\envs\\tensorflow_gpu_zein\\lib\\site-packages)\n",
      "WARNING: Ignoring invalid distribution -rotobuf (c:\\users\\hasan\\anaconda3\\envs\\tensorflow_gpu_zein\\lib\\site-packages)\n",
      "WARNING: Ignoring invalid distribution -rotobuf (c:\\users\\hasan\\anaconda3\\envs\\tensorflow_gpu_zein\\lib\\site-packages)\n",
      "WARNING: Ignoring invalid distribution -rotobuf (c:\\users\\hasan\\anaconda3\\envs\\tensorflow_gpu_zein\\lib\\site-packages)\n",
      "WARNING: Ignoring invalid distribution -rotobuf (c:\\users\\hasan\\anaconda3\\envs\\tensorflow_gpu_zein\\lib\\site-packages)\n",
      "WARNING: Ignoring invalid distribution -rotobuf (c:\\users\\hasan\\anaconda3\\envs\\tensorflow_gpu_zein\\lib\\site-packages)\n"
     ]
    }
   ],
   "source": [
    "pip install opendatasets"
   ]
  },
  {
   "cell_type": "code",
   "execution_count": 3,
   "metadata": {
    "tags": []
   },
   "outputs": [],
   "source": [
    "# Library to dataset\n",
    "import opendatasets as od\n",
    "import os\n",
    "import zipfile\n",
    "import numpy as np\n",
    "\n",
    "# Surpress Warnings\n",
    "import warnings\n",
    "warnings.filterwarnings('ignore')\n",
    "os.environ['TF_CPP_MIN_LOG_LEVEL'] = '3' \n",
    "# library visualization\n",
    "import matplotlib.pyplot as plt\n",
    "\n",
    "# Library Tensorflow\n",
    "import tensorflow as tf\n",
    "from tensorflow import keras\n",
    "from tensorflow.keras.preprocessing.image import ImageDataGenerator\n",
    "from tensorflow.keras.callbacks import ModelCheckpoint, EarlyStopping, ReduceLROnPlateau\n",
    "\n",
    "# Others\n",
    "import shutil\n",
    "import random"
   ]
  },
  {
   "attachments": {},
   "cell_type": "markdown",
   "metadata": {},
   "source": [
    "# Load dataset"
   ]
  },
  {
   "cell_type": "code",
   "execution_count": 4,
   "metadata": {
    "tags": []
   },
   "outputs": [
    {
     "name": "stdout",
     "output_type": "stream",
     "text": [
      "Skipping, found downloaded files in \"./apple-data\" (use force=True to force download)\n"
     ]
    }
   ],
   "source": [
    "# Download dataset\n",
    "od.download('https://www.kaggle.com/datasets/ahmadhabibhasanzein/apple-data')"
   ]
  },
  {
   "cell_type": "code",
   "execution_count": 4,
   "metadata": {
    "tags": []
   },
   "outputs": [
    {
     "name": "stdout",
     "output_type": "stream",
     "text": [
      "==========================Training Data====================\n",
      "Found 8014 files belonging to 4 classes.\n",
      "==========================Validation Data====================\n",
      "Found 1943 files belonging to 4 classes.\n"
     ]
    }
   ],
   "source": [
    "# Load dataset\n",
    "print(\"==========================Training Data====================\")\n",
    "train_data = tf.keras.preprocessing.image_dataset_from_directory(\n",
    "    \"Dataset/Apple/train\",\n",
    "    label_mode=\"categorical\",\n",
    "    class_names=['Apple Black rot', 'Apple Scab Leaf', 'Apple leaf Healthy', 'Apple rust leaf'],\n",
    "    color_mode=\"rgb\",\n",
    "    batch_size=1,\n",
    "    image_size=(256, 256),\n",
    "    shuffle=True,\n",
    "    seed=123\n",
    ")\n",
    "print(\"==========================Validation Data====================\")\n",
    "val_data = tf.keras.preprocessing.image_dataset_from_directory(\n",
    "    \"Dataset/Apple/valid\",\n",
    "    label_mode=\"categorical\",\n",
    "    class_names=['Apple Black rot', 'Apple Scab Leaf', 'Apple leaf Healthy', 'Apple rust leaf'],\n",
    "    color_mode=\"rgb\",\n",
    "    batch_size=1,\n",
    "    image_size=(256, 256),\n",
    "    shuffle=True,\n",
    "    seed=123\n",
    ")"
   ]
  },
  {
   "cell_type": "code",
   "execution_count": 5,
   "metadata": {
    "tags": []
   },
   "outputs": [
    {
     "name": "stdout",
     "output_type": "stream",
     "text": [
      "Found 8014 images belonging to 4 classes.\n",
      "Found 1943 images belonging to 4 classes.\n"
     ]
    }
   ],
   "source": [
    "# All images will be rescaled by 1./255.\n",
    "train_datagen = ImageDataGenerator(rescale = 1.0/256.)\n",
    "test_datagen  = ImageDataGenerator(rescale = 1.0/256.)\n",
    "\n",
    "# --------------------\n",
    "# Flow training images in batches of 20 using train_datagen generator\n",
    "# --------------------\n",
    "train_generator = train_datagen.flow_from_directory(\"Dataset/Apple/train\",\n",
    "                                                    batch_size=20,\n",
    "                                                    class_mode='categorical',\n",
    "                                                    target_size=(224, 224))     \n",
    "# --------------------\n",
    "# Flow validation images in batches of 20 using test_datagen generator\n",
    "# --------------------\n",
    "validation_generator =  test_datagen.flow_from_directory(\"Dataset/Apple/valid\",\n",
    "                                                         batch_size=20,\n",
    "                                                         class_mode  = 'categorical',\n",
    "                                                         target_size = (224, 224))"
   ]
  },
  {
   "attachments": {},
   "cell_type": "markdown",
   "metadata": {},
   "source": [
    "# List Resource"
   ]
  },
  {
   "cell_type": "code",
   "execution_count": 7,
   "metadata": {
    "tags": []
   },
   "outputs": [
    {
     "name": "stdout",
     "output_type": "stream",
     "text": [
      "Mon May 15 05:00:54 2023       \n",
      "+-----------------------------------------------------------------------------+\n",
      "| NVIDIA-SMI 525.105.17   Driver Version: 525.105.17   CUDA Version: 12.0     |\n",
      "|-------------------------------+----------------------+----------------------+\n",
      "| GPU  Name        Persistence-M| Bus-Id        Disp.A | Volatile Uncorr. ECC |\n",
      "| Fan  Temp  Perf  Pwr:Usage/Cap|         Memory-Usage | GPU-Util  Compute M. |\n",
      "|                               |                      |               MIG M. |\n",
      "|===============================+======================+======================|\n",
      "|   0  NVIDIA GeForce ...  On   | 00000000:82:00.0 Off |                  Off |\n",
      "|  0%   43C    P2    62W / 450W |  22681MiB / 24564MiB |      0%      Default |\n",
      "|                               |                      |                  N/A |\n",
      "+-------------------------------+----------------------+----------------------+\n",
      "                                                                               \n",
      "+-----------------------------------------------------------------------------+\n",
      "| Processes:                                                                  |\n",
      "|  GPU   GI   CI        PID   Type   Process name                  GPU Memory |\n",
      "|        ID   ID                                                   Usage      |\n",
      "|=============================================================================|\n",
      "+-----------------------------------------------------------------------------+\n"
     ]
    }
   ],
   "source": [
    "# Check GPU\n",
    "!nvidia-smi"
   ]
  },
  {
   "cell_type": "code",
   "execution_count": 8,
   "metadata": {
    "tags": []
   },
   "outputs": [
    {
     "data": {
      "text/plain": [
       "[PhysicalDevice(name='/physical_device:GPU:0', device_type='GPU')]"
      ]
     },
     "execution_count": 8,
     "metadata": {},
     "output_type": "execute_result"
    }
   ],
   "source": [
    "# Lis physical devices\n",
    "devices = tf.config.experimental.list_physical_devices(\"GPU\")\n",
    "devices"
   ]
  },
  {
   "cell_type": "code",
   "execution_count": 9,
   "metadata": {
    "tags": []
   },
   "outputs": [
    {
     "name": "stdout",
     "output_type": "stream",
     "text": [
      "INFO:tensorflow:Using MirroredStrategy with devices ('/job:localhost/replica:0/task:0/device:GPU:0',)\n"
     ]
    }
   ],
   "source": [
    "# Define the GPU strategy\n",
    "mirrored_strategy = tf.distribute.MirroredStrategy(devices=[\"/gpu:0\"])"
   ]
  },
  {
   "attachments": {},
   "cell_type": "markdown",
   "metadata": {},
   "source": [
    "# Modelling Without Augmentation"
   ]
  },
  {
   "attachments": {},
   "cell_type": "markdown",
   "metadata": {},
   "source": [
    "## DIY Model 1"
   ]
  },
  {
   "cell_type": "code",
   "execution_count": 6,
   "metadata": {
    "tags": []
   },
   "outputs": [],
   "source": [
    "# Difine the callbacks\n",
    "# Save the best model\n",
    "checkpoint_callback = ModelCheckpoint(filepath=\"Apple_DIY_model1_Based_Non_Augmented\", save_best_only=True, monitor=\"val_accuracy\", mode=\"max\", verbose=1)\n",
    "\n",
    "# Early stopping\n",
    "early_stopping_callback = EarlyStopping(monitor=\"val_accuracy\", mode=\"max\", patience=20, verbose=1, restore_best_weights=True)\n",
    "\n",
    "# Reduce learning rate\n",
    "reduce_lr_callback = ReduceLROnPlateau(monitor=\"val_loss\", factor=0.1, patience=5, verbose=1, mode=\"min\", min_delta=0.0001, cooldown=0, min_lr=0)\n",
    "\n",
    "# Callbacks list\n",
    "callbacks=[checkpoint_callback, early_stopping_callback, reduce_lr_callback]"
   ]
  },
  {
   "cell_type": "code",
   "execution_count": 7,
   "metadata": {
    "tags": []
   },
   "outputs": [
    {
     "name": "stdout",
     "output_type": "stream",
     "text": [
      "Model: \"sequential\"\n",
      "_________________________________________________________________\n",
      " Layer (type)                Output Shape              Param #   \n",
      "=================================================================\n",
      " conv2d (Conv2D)             (None, 222, 222, 32)      896       \n",
      "                                                                 \n",
      " max_pooling2d (MaxPooling2D  (None, 111, 111, 32)     0         \n",
      " )                                                               \n",
      "                                                                 \n",
      " conv2d_1 (Conv2D)           (None, 109, 109, 64)      18496     \n",
      "                                                                 \n",
      " max_pooling2d_1 (MaxPooling  (None, 54, 54, 64)       0         \n",
      " 2D)                                                             \n",
      "                                                                 \n",
      " conv2d_2 (Conv2D)           (None, 52, 52, 128)       73856     \n",
      "                                                                 \n",
      " max_pooling2d_2 (MaxPooling  (None, 26, 26, 128)      0         \n",
      " 2D)                                                             \n",
      "                                                                 \n",
      " flatten (Flatten)           (None, 86528)             0         \n",
      "                                                                 \n",
      " dense (Dense)               (None, 512)               44302848  \n",
      "                                                                 \n",
      " dropout (Dropout)           (None, 512)               0         \n",
      "                                                                 \n",
      " dense_1 (Dense)             (None, 256)               131328    \n",
      "                                                                 \n",
      " dense_2 (Dense)             (None, 4)                 1028      \n",
      "                                                                 \n",
      "=================================================================\n",
      "Total params: 44,528,452\n",
      "Trainable params: 44,528,452\n",
      "Non-trainable params: 0\n",
      "_________________________________________________________________\n"
     ]
    }
   ],
   "source": [
    "# Define DIY Model\n",
    "DIY_model = tf.keras.models.Sequential([\n",
    "    # Convolutional Layers with 32 filters\n",
    "    tf.keras.layers.Conv2D(32, (3,3), activation='relu', input_shape=(224, 224, 3)),\n",
    "    # MaxPooling Layer\n",
    "    tf.keras.layers.MaxPooling2D(2,2),\n",
    "    # Convolutional Layers with 64 filters\n",
    "    tf.keras.layers.Conv2D(64, (3,3), activation='relu'),\n",
    "    # MaxPooling Layer\n",
    "    tf.keras.layers.MaxPooling2D(2,2),  \n",
    "    # Convolutional Layers with 128 filters\n",
    "    tf.keras.layers.Conv2D(128, (3,3), activation='relu'), \n",
    "    # MaxPooling Layer\n",
    "    tf.keras.layers.MaxPooling2D(2,2),  \n",
    "    # Flatten the results to feed into a DNN\n",
    "    tf.keras.layers.Flatten(),\n",
    "    # 512 neuron hidden layer\n",
    "    tf.keras.layers.Dense(512, activation='relu'),\n",
    "    # Drop Out Layer\n",
    "    tf.keras.layers.Dropout(0.2),\n",
    "    # 256 neuron hidden layer\n",
    "    tf.keras.layers.Dense(256, activation='relu'),\n",
    "    # Output\n",
    "    tf.keras.layers.Dense(4, activation='softmax') \n",
    "  ])\n",
    "\n",
    "\n",
    "# Compile Model\n",
    "DIY_model.compile(loss='categorical_crossentropy',optimizer=tf.keras.optimizers.Adam(), metrics=['accuracy']) \n",
    "\n",
    "# Model Summary\n",
    "DIY_model.summary()"
   ]
  },
  {
   "cell_type": "code",
   "execution_count": 8,
   "metadata": {
    "tags": []
   },
   "outputs": [
    {
     "name": "stdout",
     "output_type": "stream",
     "text": [
      "Epoch 1/100\n",
      "400/401 [============================>.] - ETA: 0s - loss: 0.6756 - accuracy: 0.7432\n",
      "Epoch 1: val_accuracy improved from -inf to 0.87442, saving model to Apple_DIY_model1_Based_Non_Augmented\n"
     ]
    },
    {
     "name": "stderr",
     "output_type": "stream",
     "text": [
      "WARNING:absl:Found untraced functions such as _jit_compiled_convolution_op, _jit_compiled_convolution_op, _jit_compiled_convolution_op while saving (showing 3 of 3). These functions will not be directly callable after loading.\n"
     ]
    },
    {
     "name": "stdout",
     "output_type": "stream",
     "text": [
      "INFO:tensorflow:Assets written to: Apple_DIY_model1_Based_Non_Augmented\\assets\n"
     ]
    },
    {
     "name": "stderr",
     "output_type": "stream",
     "text": [
      "INFO:tensorflow:Assets written to: Apple_DIY_model1_Based_Non_Augmented\\assets\n"
     ]
    },
    {
     "name": "stdout",
     "output_type": "stream",
     "text": [
      "401/401 [==============================] - 22s 46ms/step - loss: 0.6749 - accuracy: 0.7434 - val_loss: 0.3113 - val_accuracy: 0.8744 - lr: 0.0010\n",
      "Epoch 2/100\n",
      "400/401 [============================>.] - ETA: 0s - loss: 0.2700 - accuracy: 0.9048\n",
      "Epoch 2: val_accuracy improved from 0.87442 to 0.94853, saving model to Apple_DIY_model1_Based_Non_Augmented\n"
     ]
    },
    {
     "name": "stderr",
     "output_type": "stream",
     "text": [
      "WARNING:absl:Found untraced functions such as _jit_compiled_convolution_op, _jit_compiled_convolution_op, _jit_compiled_convolution_op while saving (showing 3 of 3). These functions will not be directly callable after loading.\n"
     ]
    },
    {
     "name": "stdout",
     "output_type": "stream",
     "text": [
      "INFO:tensorflow:Assets written to: Apple_DIY_model1_Based_Non_Augmented\\assets\n"
     ]
    },
    {
     "name": "stderr",
     "output_type": "stream",
     "text": [
      "INFO:tensorflow:Assets written to: Apple_DIY_model1_Based_Non_Augmented\\assets\n"
     ]
    },
    {
     "name": "stdout",
     "output_type": "stream",
     "text": [
      "401/401 [==============================] - 19s 47ms/step - loss: 0.2697 - accuracy: 0.9048 - val_loss: 0.1404 - val_accuracy: 0.9485 - lr: 0.0010\n",
      "Epoch 3/100\n",
      "400/401 [============================>.] - ETA: 0s - loss: 0.1946 - accuracy: 0.9313\n",
      "Epoch 3: val_accuracy did not improve from 0.94853\n",
      "401/401 [==============================] - 16s 39ms/step - loss: 0.1946 - accuracy: 0.9312 - val_loss: 0.1503 - val_accuracy: 0.9480 - lr: 0.0010\n",
      "Epoch 4/100\n",
      "401/401 [==============================] - ETA: 0s - loss: 0.1515 - accuracy: 0.9460\n",
      "Epoch 4: val_accuracy improved from 0.94853 to 0.96037, saving model to Apple_DIY_model1_Based_Non_Augmented\n"
     ]
    },
    {
     "name": "stderr",
     "output_type": "stream",
     "text": [
      "WARNING:absl:Found untraced functions such as _jit_compiled_convolution_op, _jit_compiled_convolution_op, _jit_compiled_convolution_op while saving (showing 3 of 3). These functions will not be directly callable after loading.\n"
     ]
    },
    {
     "name": "stdout",
     "output_type": "stream",
     "text": [
      "INFO:tensorflow:Assets written to: Apple_DIY_model1_Based_Non_Augmented\\assets\n"
     ]
    },
    {
     "name": "stderr",
     "output_type": "stream",
     "text": [
      "INFO:tensorflow:Assets written to: Apple_DIY_model1_Based_Non_Augmented\\assets\n"
     ]
    },
    {
     "name": "stdout",
     "output_type": "stream",
     "text": [
      "401/401 [==============================] - 18s 45ms/step - loss: 0.1515 - accuracy: 0.9460 - val_loss: 0.1135 - val_accuracy: 0.9604 - lr: 0.0010\n",
      "Epoch 5/100\n",
      "401/401 [==============================] - ETA: 0s - loss: 0.1030 - accuracy: 0.9622\n",
      "Epoch 5: val_accuracy did not improve from 0.96037\n",
      "401/401 [==============================] - 16s 39ms/step - loss: 0.1030 - accuracy: 0.9622 - val_loss: 0.1873 - val_accuracy: 0.9377 - lr: 0.0010\n",
      "Epoch 6/100\n",
      "401/401 [==============================] - ETA: 0s - loss: 0.0792 - accuracy: 0.9713\n",
      "Epoch 6: val_accuracy did not improve from 0.96037\n",
      "401/401 [==============================] - 16s 39ms/step - loss: 0.0792 - accuracy: 0.9713 - val_loss: 0.1121 - val_accuracy: 0.9583 - lr: 0.0010\n",
      "Epoch 7/100\n",
      "400/401 [============================>.] - ETA: 0s - loss: 0.0713 - accuracy: 0.9765\n",
      "Epoch 7: val_accuracy improved from 0.96037 to 0.96243, saving model to Apple_DIY_model1_Based_Non_Augmented\n"
     ]
    },
    {
     "name": "stderr",
     "output_type": "stream",
     "text": [
      "WARNING:absl:Found untraced functions such as _jit_compiled_convolution_op, _jit_compiled_convolution_op, _jit_compiled_convolution_op while saving (showing 3 of 3). These functions will not be directly callable after loading.\n"
     ]
    },
    {
     "name": "stdout",
     "output_type": "stream",
     "text": [
      "INFO:tensorflow:Assets written to: Apple_DIY_model1_Based_Non_Augmented\\assets\n"
     ]
    },
    {
     "name": "stderr",
     "output_type": "stream",
     "text": [
      "INFO:tensorflow:Assets written to: Apple_DIY_model1_Based_Non_Augmented\\assets\n"
     ]
    },
    {
     "name": "stdout",
     "output_type": "stream",
     "text": [
      "401/401 [==============================] - 19s 47ms/step - loss: 0.0711 - accuracy: 0.9765 - val_loss: 0.1257 - val_accuracy: 0.9624 - lr: 0.0010\n",
      "Epoch 8/100\n",
      "400/401 [============================>.] - ETA: 0s - loss: 0.0644 - accuracy: 0.9775\n",
      "Epoch 8: val_accuracy did not improve from 0.96243\n",
      "401/401 [==============================] - 16s 40ms/step - loss: 0.0645 - accuracy: 0.9774 - val_loss: 0.1972 - val_accuracy: 0.9429 - lr: 0.0010\n",
      "Epoch 9/100\n",
      "400/401 [============================>.] - ETA: 0s - loss: 0.0436 - accuracy: 0.9852\n",
      "Epoch 9: val_accuracy did not improve from 0.96243\n",
      "401/401 [==============================] - 16s 40ms/step - loss: 0.0442 - accuracy: 0.9852 - val_loss: 0.1456 - val_accuracy: 0.9593 - lr: 0.0010\n",
      "Epoch 10/100\n",
      "401/401 [==============================] - ETA: 0s - loss: 0.0618 - accuracy: 0.9780\n",
      "Epoch 10: val_accuracy did not improve from 0.96243\n",
      "401/401 [==============================] - 16s 40ms/step - loss: 0.0618 - accuracy: 0.9780 - val_loss: 0.1497 - val_accuracy: 0.9583 - lr: 0.0010\n",
      "Epoch 11/100\n",
      "400/401 [============================>.] - ETA: 0s - loss: 0.0396 - accuracy: 0.9877\n",
      "Epoch 11: val_accuracy did not improve from 0.96243\n",
      "\n",
      "Epoch 11: ReduceLROnPlateau reducing learning rate to 0.00010000000474974513.\n",
      "401/401 [==============================] - 16s 40ms/step - loss: 0.0395 - accuracy: 0.9878 - val_loss: 0.2182 - val_accuracy: 0.9341 - lr: 0.0010\n",
      "Epoch 12/100\n",
      "401/401 [==============================] - ETA: 0s - loss: 0.0175 - accuracy: 0.9939\n",
      "Epoch 12: val_accuracy improved from 0.96243 to 0.96449, saving model to Apple_DIY_model1_Based_Non_Augmented\n"
     ]
    },
    {
     "name": "stderr",
     "output_type": "stream",
     "text": [
      "WARNING:absl:Found untraced functions such as _jit_compiled_convolution_op, _jit_compiled_convolution_op, _jit_compiled_convolution_op while saving (showing 3 of 3). These functions will not be directly callable after loading.\n"
     ]
    },
    {
     "name": "stdout",
     "output_type": "stream",
     "text": [
      "INFO:tensorflow:Assets written to: Apple_DIY_model1_Based_Non_Augmented\\assets\n"
     ]
    },
    {
     "name": "stderr",
     "output_type": "stream",
     "text": [
      "INFO:tensorflow:Assets written to: Apple_DIY_model1_Based_Non_Augmented\\assets\n"
     ]
    },
    {
     "name": "stdout",
     "output_type": "stream",
     "text": [
      "401/401 [==============================] - 19s 48ms/step - loss: 0.0175 - accuracy: 0.9939 - val_loss: 0.1343 - val_accuracy: 0.9645 - lr: 1.0000e-04\n",
      "Epoch 13/100\n",
      "401/401 [==============================] - ETA: 0s - loss: 0.0043 - accuracy: 0.9995\n",
      "Epoch 13: val_accuracy improved from 0.96449 to 0.96706, saving model to Apple_DIY_model1_Based_Non_Augmented\n"
     ]
    },
    {
     "name": "stderr",
     "output_type": "stream",
     "text": [
      "WARNING:absl:Found untraced functions such as _jit_compiled_convolution_op, _jit_compiled_convolution_op, _jit_compiled_convolution_op while saving (showing 3 of 3). These functions will not be directly callable after loading.\n"
     ]
    },
    {
     "name": "stdout",
     "output_type": "stream",
     "text": [
      "INFO:tensorflow:Assets written to: Apple_DIY_model1_Based_Non_Augmented\\assets\n"
     ]
    },
    {
     "name": "stderr",
     "output_type": "stream",
     "text": [
      "INFO:tensorflow:Assets written to: Apple_DIY_model1_Based_Non_Augmented\\assets\n"
     ]
    },
    {
     "name": "stdout",
     "output_type": "stream",
     "text": [
      "401/401 [==============================] - 20s 50ms/step - loss: 0.0043 - accuracy: 0.9995 - val_loss: 0.1273 - val_accuracy: 0.9671 - lr: 1.0000e-04\n",
      "Epoch 14/100\n",
      "400/401 [============================>.] - ETA: 0s - loss: 0.0037 - accuracy: 0.9991\n",
      "Epoch 14: val_accuracy did not improve from 0.96706\n",
      "401/401 [==============================] - 16s 40ms/step - loss: 0.0037 - accuracy: 0.9991 - val_loss: 0.1270 - val_accuracy: 0.9660 - lr: 1.0000e-04\n",
      "Epoch 15/100\n",
      "401/401 [==============================] - ETA: 0s - loss: 0.0028 - accuracy: 0.9989\n",
      "Epoch 15: val_accuracy improved from 0.96706 to 0.96861, saving model to Apple_DIY_model1_Based_Non_Augmented\n"
     ]
    },
    {
     "name": "stderr",
     "output_type": "stream",
     "text": [
      "WARNING:absl:Found untraced functions such as _jit_compiled_convolution_op, _jit_compiled_convolution_op, _jit_compiled_convolution_op while saving (showing 3 of 3). These functions will not be directly callable after loading.\n"
     ]
    },
    {
     "name": "stdout",
     "output_type": "stream",
     "text": [
      "INFO:tensorflow:Assets written to: Apple_DIY_model1_Based_Non_Augmented\\assets\n"
     ]
    },
    {
     "name": "stderr",
     "output_type": "stream",
     "text": [
      "INFO:tensorflow:Assets written to: Apple_DIY_model1_Based_Non_Augmented\\assets\n"
     ]
    },
    {
     "name": "stdout",
     "output_type": "stream",
     "text": [
      "401/401 [==============================] - 20s 49ms/step - loss: 0.0028 - accuracy: 0.9989 - val_loss: 0.1266 - val_accuracy: 0.9686 - lr: 1.0000e-04\n",
      "Epoch 16/100\n",
      "401/401 [==============================] - ETA: 0s - loss: 0.0018 - accuracy: 0.9993\n",
      "Epoch 16: val_accuracy improved from 0.96861 to 0.96963, saving model to Apple_DIY_model1_Based_Non_Augmented\n"
     ]
    },
    {
     "name": "stderr",
     "output_type": "stream",
     "text": [
      "WARNING:absl:Found untraced functions such as _jit_compiled_convolution_op, _jit_compiled_convolution_op, _jit_compiled_convolution_op while saving (showing 3 of 3). These functions will not be directly callable after loading.\n"
     ]
    },
    {
     "name": "stdout",
     "output_type": "stream",
     "text": [
      "INFO:tensorflow:Assets written to: Apple_DIY_model1_Based_Non_Augmented\\assets\n"
     ]
    },
    {
     "name": "stderr",
     "output_type": "stream",
     "text": [
      "INFO:tensorflow:Assets written to: Apple_DIY_model1_Based_Non_Augmented\\assets\n"
     ]
    },
    {
     "name": "stdout",
     "output_type": "stream",
     "text": [
      "\n",
      "Epoch 16: ReduceLROnPlateau reducing learning rate to 1.0000000474974514e-05.\n",
      "401/401 [==============================] - 20s 49ms/step - loss: 0.0018 - accuracy: 0.9993 - val_loss: 0.1253 - val_accuracy: 0.9696 - lr: 1.0000e-04\n",
      "Epoch 17/100\n",
      "401/401 [==============================] - ETA: 0s - loss: 0.0011 - accuracy: 0.9999\n",
      "Epoch 17: val_accuracy did not improve from 0.96963\n",
      "401/401 [==============================] - 16s 40ms/step - loss: 0.0011 - accuracy: 0.9999 - val_loss: 0.1241 - val_accuracy: 0.9696 - lr: 1.0000e-05\n",
      "Epoch 18/100\n",
      "401/401 [==============================] - ETA: 0s - loss: 7.9263e-04 - accuracy: 1.0000\n",
      "Epoch 18: val_accuracy did not improve from 0.96963\n",
      "401/401 [==============================] - 16s 41ms/step - loss: 7.9263e-04 - accuracy: 1.0000 - val_loss: 0.1253 - val_accuracy: 0.9691 - lr: 1.0000e-05\n",
      "Epoch 19/100\n",
      "400/401 [============================>.] - ETA: 0s - loss: 8.1615e-04 - accuracy: 0.9999\n",
      "Epoch 19: val_accuracy did not improve from 0.96963\n",
      "401/401 [==============================] - 16s 40ms/step - loss: 8.1412e-04 - accuracy: 0.9999 - val_loss: 0.1287 - val_accuracy: 0.9696 - lr: 1.0000e-05\n",
      "Epoch 20/100\n",
      "401/401 [==============================] - ETA: 0s - loss: 0.0015 - accuracy: 0.9998    \n",
      "Epoch 20: val_accuracy did not improve from 0.96963\n",
      "401/401 [==============================] - 16s 40ms/step - loss: 0.0015 - accuracy: 0.9998 - val_loss: 0.1270 - val_accuracy: 0.9696 - lr: 1.0000e-05\n",
      "Epoch 21/100\n",
      "400/401 [============================>.] - ETA: 0s - loss: 0.0011 - accuracy: 1.0000\n",
      "Epoch 21: val_accuracy did not improve from 0.96963\n",
      "\n",
      "Epoch 21: ReduceLROnPlateau reducing learning rate to 1.0000000656873453e-06.\n",
      "401/401 [==============================] - 16s 40ms/step - loss: 0.0011 - accuracy: 1.0000 - val_loss: 0.1283 - val_accuracy: 0.9691 - lr: 1.0000e-05\n",
      "Epoch 22/100\n",
      "401/401 [==============================] - ETA: 0s - loss: 7.5059e-04 - accuracy: 1.0000\n",
      "Epoch 22: val_accuracy did not improve from 0.96963\n",
      "401/401 [==============================] - 16s 39ms/step - loss: 7.5059e-04 - accuracy: 1.0000 - val_loss: 0.1278 - val_accuracy: 0.9691 - lr: 1.0000e-06\n",
      "Epoch 23/100\n",
      "401/401 [==============================] - ETA: 0s - loss: 9.4129e-04 - accuracy: 0.9999\n",
      "Epoch 23: val_accuracy did not improve from 0.96963\n",
      "401/401 [==============================] - 16s 40ms/step - loss: 9.4129e-04 - accuracy: 0.9999 - val_loss: 0.1278 - val_accuracy: 0.9691 - lr: 1.0000e-06\n",
      "Epoch 24/100\n",
      "401/401 [==============================] - ETA: 0s - loss: 5.6104e-04 - accuracy: 1.0000\n",
      "Epoch 24: val_accuracy did not improve from 0.96963\n",
      "401/401 [==============================] - 16s 40ms/step - loss: 5.6104e-04 - accuracy: 1.0000 - val_loss: 0.1273 - val_accuracy: 0.9691 - lr: 1.0000e-06\n",
      "Epoch 25/100\n",
      "400/401 [============================>.] - ETA: 0s - loss: 7.0769e-04 - accuracy: 1.0000\n",
      "Epoch 25: val_accuracy did not improve from 0.96963\n",
      "401/401 [==============================] - 16s 40ms/step - loss: 7.0608e-04 - accuracy: 1.0000 - val_loss: 0.1270 - val_accuracy: 0.9691 - lr: 1.0000e-06\n",
      "Epoch 26/100\n",
      "400/401 [============================>.] - ETA: 0s - loss: 0.0014 - accuracy: 0.9996\n",
      "Epoch 26: val_accuracy did not improve from 0.96963\n",
      "\n",
      "Epoch 26: ReduceLROnPlateau reducing learning rate to 1.0000001111620805e-07.\n",
      "401/401 [==============================] - 16s 41ms/step - loss: 0.0014 - accuracy: 0.9996 - val_loss: 0.1260 - val_accuracy: 0.9686 - lr: 1.0000e-06\n",
      "Epoch 27/100\n",
      "400/401 [============================>.] - ETA: 0s - loss: 0.0010 - accuracy: 0.9997\n",
      "Epoch 27: val_accuracy did not improve from 0.96963\n",
      "401/401 [==============================] - 16s 40ms/step - loss: 0.0010 - accuracy: 0.9998 - val_loss: 0.1261 - val_accuracy: 0.9686 - lr: 1.0000e-07\n",
      "Epoch 28/100\n",
      "401/401 [==============================] - ETA: 0s - loss: 5.6489e-04 - accuracy: 0.9999\n",
      "Epoch 28: val_accuracy did not improve from 0.96963\n",
      "401/401 [==============================] - 16s 39ms/step - loss: 5.6489e-04 - accuracy: 0.9999 - val_loss: 0.1260 - val_accuracy: 0.9686 - lr: 1.0000e-07\n",
      "Epoch 29/100\n",
      "400/401 [============================>.] - ETA: 0s - loss: 7.6628e-04 - accuracy: 1.0000\n",
      "Epoch 29: val_accuracy did not improve from 0.96963\n",
      "401/401 [==============================] - 16s 39ms/step - loss: 7.6448e-04 - accuracy: 1.0000 - val_loss: 0.1259 - val_accuracy: 0.9686 - lr: 1.0000e-07\n",
      "Epoch 30/100\n",
      "400/401 [============================>.] - ETA: 0s - loss: 7.8682e-04 - accuracy: 0.9999\n",
      "Epoch 30: val_accuracy did not improve from 0.96963\n",
      "401/401 [==============================] - 16s 39ms/step - loss: 7.8506e-04 - accuracy: 0.9999 - val_loss: 0.1259 - val_accuracy: 0.9686 - lr: 1.0000e-07\n",
      "Epoch 31/100\n",
      "400/401 [============================>.] - ETA: 0s - loss: 0.0011 - accuracy: 0.9997\n",
      "Epoch 31: val_accuracy did not improve from 0.96963\n",
      "\n",
      "Epoch 31: ReduceLROnPlateau reducing learning rate to 1.000000082740371e-08.\n",
      "401/401 [==============================] - 16s 39ms/step - loss: 0.0011 - accuracy: 0.9998 - val_loss: 0.1260 - val_accuracy: 0.9686 - lr: 1.0000e-07\n",
      "Epoch 32/100\n",
      "401/401 [==============================] - ETA: 0s - loss: 8.6762e-04 - accuracy: 0.9998\n",
      "Epoch 32: val_accuracy did not improve from 0.96963\n",
      "401/401 [==============================] - 16s 39ms/step - loss: 8.6762e-04 - accuracy: 0.9998 - val_loss: 0.1259 - val_accuracy: 0.9686 - lr: 1.0000e-08\n",
      "Epoch 33/100\n",
      "400/401 [============================>.] - ETA: 0s - loss: 5.2779e-04 - accuracy: 1.0000\n",
      "Epoch 33: val_accuracy did not improve from 0.96963\n",
      "401/401 [==============================] - 16s 39ms/step - loss: 5.2652e-04 - accuracy: 1.0000 - val_loss: 0.1259 - val_accuracy: 0.9686 - lr: 1.0000e-08\n",
      "Epoch 34/100\n",
      "401/401 [==============================] - ETA: 0s - loss: 9.5288e-04 - accuracy: 0.9999\n",
      "Epoch 34: val_accuracy did not improve from 0.96963\n",
      "401/401 [==============================] - 16s 39ms/step - loss: 9.5288e-04 - accuracy: 0.9999 - val_loss: 0.1260 - val_accuracy: 0.9686 - lr: 1.0000e-08\n",
      "Epoch 35/100\n",
      "401/401 [==============================] - ETA: 0s - loss: 5.4458e-04 - accuracy: 1.0000\n",
      "Epoch 35: val_accuracy did not improve from 0.96963\n",
      "401/401 [==============================] - 16s 39ms/step - loss: 5.4458e-04 - accuracy: 1.0000 - val_loss: 0.1260 - val_accuracy: 0.9686 - lr: 1.0000e-08\n",
      "Epoch 36/100\n",
      "401/401 [==============================] - ETA: 0s - loss: 4.6863e-04 - accuracy: 1.0000\n",
      "Epoch 36: val_accuracy did not improve from 0.96963\n",
      "Restoring model weights from the end of the best epoch: 16.\n",
      "\n",
      "Epoch 36: ReduceLROnPlateau reducing learning rate to 1.000000082740371e-09.\n",
      "401/401 [==============================] - 16s 39ms/step - loss: 4.6863e-04 - accuracy: 1.0000 - val_loss: 0.1260 - val_accuracy: 0.9686 - lr: 1.0000e-08\n",
      "Epoch 36: early stopping\n"
     ]
    }
   ],
   "source": [
    "# Define the number of epochs\n",
    "num_epochs = 100\n",
    "\n",
    "# Train the model\n",
    "history_DIY_model = DIY_model.fit(train_generator, epochs=num_epochs, validation_data=validation_generator, callbacks=callbacks)"
   ]
  },
  {
   "cell_type": "code",
   "execution_count": 9,
   "metadata": {
    "tags": []
   },
   "outputs": [
    {
     "data": {
      "text/plain": [
       "Text(0.5, 1.0, 'Training and validation loss DIY Model')"
      ]
     },
     "execution_count": 9,
     "metadata": {},
     "output_type": "execute_result"
    },
    {
     "data": {
      "image/png": "[encoded data removed]",
      "text/plain": [
       "<Figure size 640x480 with 1 Axes>"
      ]
     },
     "metadata": {},
     "output_type": "display_data"
    },
    {
     "data": {
      "image/png": "[encoded data removed]",
      "text/plain": [
       "<Figure size 640x480 with 1 Axes>"
      ]
     },
     "metadata": {},
     "output_type": "display_data"
    }
   ],
   "source": [
    "#-----------------------------------------------------------\n",
    "# Retrieve a list of list results on training and test data\n",
    "# sets for each training epoch\n",
    "#-----------------------------------------------------------\n",
    "acc      = history_DIY_model.history['accuracy' ]\n",
    "val_acc  = history_DIY_model.history['val_accuracy' ]\n",
    "loss     = history_DIY_model.history['loss' ]\n",
    "val_loss = history_DIY_model.history['val_loss' ]\n",
    "\n",
    "epochs   = range(len(acc)) # Get number of epochs\n",
    "\n",
    "#------------------------------------------------\n",
    "# Plot training and validation accuracy per epoch\n",
    "#------------------------------------------------\n",
    "plt.plot  (epochs, acc )\n",
    "plt.plot  (epochs, val_acc )\n",
    "plt.title ('Training and validation accuracy DIY Model')\n",
    "plt.figure()\n",
    "\n",
    "#------------------------------------------------\n",
    "# Plot training and validation loss per epoch\n",
    "#------------------------------------------------\n",
    "plt.plot  (epochs, loss)\n",
    "plt.plot  (epochs, val_loss)\n",
    "plt.title ('Training and validation loss DIY Model')"
   ]
  },
  {
   "attachments": {},
   "cell_type": "markdown",
   "metadata": {},
   "source": [
    "## DIY Model 2"
   ]
  },
  {
   "cell_type": "code",
   "execution_count": 10,
   "metadata": {
    "tags": []
   },
   "outputs": [],
   "source": [
    "# Difine the callbacks\n",
    "# Save the best model\n",
    "checkpoint_callback = ModelCheckpoint(filepath=\"Apple_DIY_model2_Based_Non_Augmented\", save_best_only=True, monitor=\"val_accuracy\", mode=\"max\", verbose=1)\n",
    "\n",
    "# Early stopping\n",
    "early_stopping_callback = EarlyStopping(monitor=\"val_accuracy\", mode=\"max\", patience=20, verbose=1, restore_best_weights=True)\n",
    "\n",
    "# Reduce learning rate\n",
    "reduce_lr_callback = ReduceLROnPlateau(monitor=\"val_loss\", factor=0.1, patience=5, verbose=1, mode=\"min\", min_delta=0.0001, cooldown=0, min_lr=0)\n",
    "\n",
    "# Callbacks list\n",
    "callbacks=[checkpoint_callback, early_stopping_callback, reduce_lr_callback]"
   ]
  },
  {
   "cell_type": "code",
   "execution_count": 11,
   "metadata": {
    "tags": []
   },
   "outputs": [
    {
     "name": "stdout",
     "output_type": "stream",
     "text": [
      "Model: \"sequential_1\"\n",
      "_________________________________________________________________\n",
      " Layer (type)                Output Shape              Param #   \n",
      "=================================================================\n",
      " conv2d_3 (Conv2D)           (None, 222, 222, 32)      896       \n",
      "                                                                 \n",
      " max_pooling2d_3 (MaxPooling  (None, 111, 111, 32)     0         \n",
      " 2D)                                                             \n",
      "                                                                 \n",
      " conv2d_4 (Conv2D)           (None, 109, 109, 64)      18496     \n",
      "                                                                 \n",
      " max_pooling2d_4 (MaxPooling  (None, 54, 54, 64)       0         \n",
      " 2D)                                                             \n",
      "                                                                 \n",
      " conv2d_5 (Conv2D)           (None, 52, 52, 128)       73856     \n",
      "                                                                 \n",
      " max_pooling2d_5 (MaxPooling  (None, 26, 26, 128)      0         \n",
      " 2D)                                                             \n",
      "                                                                 \n",
      " flatten_1 (Flatten)         (None, 86528)             0         \n",
      "                                                                 \n",
      " dense_3 (Dense)             (None, 1024)              88605696  \n",
      "                                                                 \n",
      " dense_4 (Dense)             (None, 512)               524800    \n",
      "                                                                 \n",
      " dropout_1 (Dropout)         (None, 512)               0         \n",
      "                                                                 \n",
      " dense_5 (Dense)             (None, 256)               131328    \n",
      "                                                                 \n",
      " dense_6 (Dense)             (None, 4)                 1028      \n",
      "                                                                 \n",
      "=================================================================\n",
      "Total params: 89,356,100\n",
      "Trainable params: 89,356,100\n",
      "Non-trainable params: 0\n",
      "_________________________________________________________________\n"
     ]
    }
   ],
   "source": [
    "# Define DIY Model\n",
    "DIY_model_2 = tf.keras.models.Sequential([\n",
    "    # Convolutional Layers with 32 filters\n",
    "    tf.keras.layers.Conv2D(32, (3,3), activation='relu', input_shape=(224, 224, 3)),\n",
    "    # MaxPooling Layer\n",
    "    tf.keras.layers.MaxPooling2D(2,2),\n",
    "    # Convolutional Layers with 64 filters\n",
    "    tf.keras.layers.Conv2D(64, (3,3), activation='relu'),\n",
    "    # MaxPooling Layer\n",
    "    tf.keras.layers.MaxPooling2D(2,2),  \n",
    "    # Convolutional Layers with 128 filters\n",
    "    tf.keras.layers.Conv2D(128, (3,3), activation='relu'), \n",
    "    # MaxPooling Layer\n",
    "    tf.keras.layers.MaxPooling2D(2,2),  \n",
    "    # Flatten the results to feed into a DNN\n",
    "    tf.keras.layers.Flatten(),\n",
    "    # 1024 neuron hidden layer\n",
    "    tf.keras.layers.Dense(1024, activation='relu'),\n",
    "    # 512 neuron hidden layer\n",
    "    tf.keras.layers.Dense(512, activation='relu'),\n",
    "    # Drop Out Layer\n",
    "    tf.keras.layers.Dropout(0.2),\n",
    "    # 256 neuron hidden layer\n",
    "    tf.keras.layers.Dense(256, activation='relu'),\n",
    "    # Output\n",
    "    tf.keras.layers.Dense(4, activation='softmax') \n",
    "  ])\n",
    "\n",
    "\n",
    "# Compile Model\n",
    "DIY_model_2.compile(loss='categorical_crossentropy',optimizer=tf.keras.optimizers.Adam(), metrics=['accuracy']) \n",
    "\n",
    "# Model Summary\n",
    "DIY_model_2.summary()"
   ]
  },
  {
   "cell_type": "code",
   "execution_count": 12,
   "metadata": {
    "tags": []
   },
   "outputs": [
    {
     "name": "stdout",
     "output_type": "stream",
     "text": [
      "Epoch 1/100\n",
      "400/401 [============================>.] - ETA: 0s - loss: 0.6063 - accuracy: 0.7802\n",
      "Epoch 1: val_accuracy improved from -inf to 0.88111, saving model to Apple_DIY_model2_Based_Non_Augmented\n"
     ]
    },
    {
     "name": "stderr",
     "output_type": "stream",
     "text": [
      "WARNING:absl:Found untraced functions such as _jit_compiled_convolution_op, _jit_compiled_convolution_op, _jit_compiled_convolution_op while saving (showing 3 of 3). These functions will not be directly callable after loading.\n"
     ]
    },
    {
     "name": "stdout",
     "output_type": "stream",
     "text": [
      "INFO:tensorflow:Assets written to: Apple_DIY_model2_Based_Non_Augmented\\assets\n"
     ]
    },
    {
     "name": "stderr",
     "output_type": "stream",
     "text": [
      "INFO:tensorflow:Assets written to: Apple_DIY_model2_Based_Non_Augmented\\assets\n"
     ]
    },
    {
     "name": "stdout",
     "output_type": "stream",
     "text": [
      "401/401 [==============================] - 22s 53ms/step - loss: 0.6055 - accuracy: 0.7806 - val_loss: 0.3486 - val_accuracy: 0.8811 - lr: 0.0010\n",
      "Epoch 2/100\n",
      "400/401 [============================>.] - ETA: 0s - loss: 0.2864 - accuracy: 0.9008\n",
      "Epoch 2: val_accuracy improved from 0.88111 to 0.89295, saving model to Apple_DIY_model2_Based_Non_Augmented\n"
     ]
    },
    {
     "name": "stderr",
     "output_type": "stream",
     "text": [
      "WARNING:absl:Found untraced functions such as _jit_compiled_convolution_op, _jit_compiled_convolution_op, _jit_compiled_convolution_op while saving (showing 3 of 3). These functions will not be directly callable after loading.\n"
     ]
    },
    {
     "name": "stdout",
     "output_type": "stream",
     "text": [
      "INFO:tensorflow:Assets written to: Apple_DIY_model2_Based_Non_Augmented\\assets\n"
     ]
    },
    {
     "name": "stderr",
     "output_type": "stream",
     "text": [
      "INFO:tensorflow:Assets written to: Apple_DIY_model2_Based_Non_Augmented\\assets\n"
     ]
    },
    {
     "name": "stdout",
     "output_type": "stream",
     "text": [
      "401/401 [==============================] - 24s 61ms/step - loss: 0.2858 - accuracy: 0.9010 - val_loss: 0.3369 - val_accuracy: 0.8929 - lr: 0.0010\n",
      "Epoch 3/100\n",
      "401/401 [==============================] - ETA: 0s - loss: 0.1837 - accuracy: 0.9334\n",
      "Epoch 3: val_accuracy improved from 0.89295 to 0.94390, saving model to Apple_DIY_model2_Based_Non_Augmented\n"
     ]
    },
    {
     "name": "stderr",
     "output_type": "stream",
     "text": [
      "WARNING:absl:Found untraced functions such as _jit_compiled_convolution_op, _jit_compiled_convolution_op, _jit_compiled_convolution_op while saving (showing 3 of 3). These functions will not be directly callable after loading.\n"
     ]
    },
    {
     "name": "stdout",
     "output_type": "stream",
     "text": [
      "INFO:tensorflow:Assets written to: Apple_DIY_model2_Based_Non_Augmented\\assets\n"
     ]
    },
    {
     "name": "stderr",
     "output_type": "stream",
     "text": [
      "INFO:tensorflow:Assets written to: Apple_DIY_model2_Based_Non_Augmented\\assets\n"
     ]
    },
    {
     "name": "stdout",
     "output_type": "stream",
     "text": [
      "401/401 [==============================] - 24s 60ms/step - loss: 0.1837 - accuracy: 0.9334 - val_loss: 0.1497 - val_accuracy: 0.9439 - lr: 0.0010\n",
      "Epoch 4/100\n",
      "401/401 [==============================] - ETA: 0s - loss: 0.1406 - accuracy: 0.9516\n",
      "Epoch 4: val_accuracy improved from 0.94390 to 0.95368, saving model to Apple_DIY_model2_Based_Non_Augmented\n"
     ]
    },
    {
     "name": "stderr",
     "output_type": "stream",
     "text": [
      "WARNING:absl:Found untraced functions such as _jit_compiled_convolution_op, _jit_compiled_convolution_op, _jit_compiled_convolution_op while saving (showing 3 of 3). These functions will not be directly callable after loading.\n"
     ]
    },
    {
     "name": "stdout",
     "output_type": "stream",
     "text": [
      "INFO:tensorflow:Assets written to: Apple_DIY_model2_Based_Non_Augmented\\assets\n"
     ]
    },
    {
     "name": "stderr",
     "output_type": "stream",
     "text": [
      "INFO:tensorflow:Assets written to: Apple_DIY_model2_Based_Non_Augmented\\assets\n"
     ]
    },
    {
     "name": "stdout",
     "output_type": "stream",
     "text": [
      "401/401 [==============================] - 25s 63ms/step - loss: 0.1406 - accuracy: 0.9516 - val_loss: 0.1337 - val_accuracy: 0.9537 - lr: 0.0010\n",
      "Epoch 5/100\n",
      "400/401 [============================>.] - ETA: 0s - loss: 0.1109 - accuracy: 0.9633\n",
      "Epoch 5: val_accuracy improved from 0.95368 to 0.96037, saving model to Apple_DIY_model2_Based_Non_Augmented\n"
     ]
    },
    {
     "name": "stderr",
     "output_type": "stream",
     "text": [
      "WARNING:absl:Found untraced functions such as _jit_compiled_convolution_op, _jit_compiled_convolution_op, _jit_compiled_convolution_op while saving (showing 3 of 3). These functions will not be directly callable after loading.\n"
     ]
    },
    {
     "name": "stdout",
     "output_type": "stream",
     "text": [
      "INFO:tensorflow:Assets written to: Apple_DIY_model2_Based_Non_Augmented\\assets\n"
     ]
    },
    {
     "name": "stderr",
     "output_type": "stream",
     "text": [
      "INFO:tensorflow:Assets written to: Apple_DIY_model2_Based_Non_Augmented\\assets\n"
     ]
    },
    {
     "name": "stdout",
     "output_type": "stream",
     "text": [
      "401/401 [==============================] - 25s 62ms/step - loss: 0.1107 - accuracy: 0.9634 - val_loss: 0.1317 - val_accuracy: 0.9604 - lr: 0.0010\n",
      "Epoch 6/100\n",
      "400/401 [============================>.] - ETA: 0s - loss: 0.0903 - accuracy: 0.9706\n",
      "Epoch 6: val_accuracy did not improve from 0.96037\n",
      "401/401 [==============================] - 19s 46ms/step - loss: 0.0902 - accuracy: 0.9707 - val_loss: 0.2055 - val_accuracy: 0.9233 - lr: 0.0010\n",
      "Epoch 7/100\n",
      "401/401 [==============================] - ETA: 0s - loss: 0.0671 - accuracy: 0.9813\n",
      "Epoch 7: val_accuracy did not improve from 0.96037\n",
      "401/401 [==============================] - 18s 46ms/step - loss: 0.0671 - accuracy: 0.9813 - val_loss: 0.2061 - val_accuracy: 0.9413 - lr: 0.0010\n",
      "Epoch 8/100\n",
      "400/401 [============================>.] - ETA: 0s - loss: 0.0819 - accuracy: 0.9727\n",
      "Epoch 8: val_accuracy did not improve from 0.96037\n",
      "401/401 [==============================] - 18s 45ms/step - loss: 0.0818 - accuracy: 0.9728 - val_loss: 0.1954 - val_accuracy: 0.9372 - lr: 0.0010\n",
      "Epoch 9/100\n",
      "401/401 [==============================] - ETA: 0s - loss: 0.0474 - accuracy: 0.9863\n",
      "Epoch 9: val_accuracy did not improve from 0.96037\n",
      "401/401 [==============================] - 18s 46ms/step - loss: 0.0474 - accuracy: 0.9863 - val_loss: 0.1599 - val_accuracy: 0.9588 - lr: 0.0010\n",
      "Epoch 10/100\n",
      "401/401 [==============================] - ETA: 0s - loss: 0.0516 - accuracy: 0.9840\n",
      "Epoch 10: val_accuracy improved from 0.96037 to 0.96449, saving model to Apple_DIY_model2_Based_Non_Augmented\n"
     ]
    },
    {
     "name": "stderr",
     "output_type": "stream",
     "text": [
      "WARNING:absl:Found untraced functions such as _jit_compiled_convolution_op, _jit_compiled_convolution_op, _jit_compiled_convolution_op while saving (showing 3 of 3). These functions will not be directly callable after loading.\n"
     ]
    },
    {
     "name": "stdout",
     "output_type": "stream",
     "text": [
      "INFO:tensorflow:Assets written to: Apple_DIY_model2_Based_Non_Augmented\\assets\n"
     ]
    },
    {
     "name": "stderr",
     "output_type": "stream",
     "text": [
      "INFO:tensorflow:Assets written to: Apple_DIY_model2_Based_Non_Augmented\\assets\n"
     ]
    },
    {
     "name": "stdout",
     "output_type": "stream",
     "text": [
      "401/401 [==============================] - 26s 64ms/step - loss: 0.0516 - accuracy: 0.9840 - val_loss: 0.1251 - val_accuracy: 0.9645 - lr: 0.0010\n",
      "Epoch 11/100\n",
      "401/401 [==============================] - ETA: 0s - loss: 0.0400 - accuracy: 0.9888\n",
      "Epoch 11: val_accuracy improved from 0.96449 to 0.96758, saving model to Apple_DIY_model2_Based_Non_Augmented\n"
     ]
    },
    {
     "name": "stderr",
     "output_type": "stream",
     "text": [
      "WARNING:absl:Found untraced functions such as _jit_compiled_convolution_op, _jit_compiled_convolution_op, _jit_compiled_convolution_op while saving (showing 3 of 3). These functions will not be directly callable after loading.\n"
     ]
    },
    {
     "name": "stdout",
     "output_type": "stream",
     "text": [
      "INFO:tensorflow:Assets written to: Apple_DIY_model2_Based_Non_Augmented\\assets\n"
     ]
    },
    {
     "name": "stderr",
     "output_type": "stream",
     "text": [
      "INFO:tensorflow:Assets written to: Apple_DIY_model2_Based_Non_Augmented\\assets\n"
     ]
    },
    {
     "name": "stdout",
     "output_type": "stream",
     "text": [
      "401/401 [==============================] - 25s 62ms/step - loss: 0.0400 - accuracy: 0.9888 - val_loss: 0.1201 - val_accuracy: 0.9676 - lr: 0.0010\n",
      "Epoch 12/100\n",
      "401/401 [==============================] - ETA: 0s - loss: 0.0310 - accuracy: 0.9900\n",
      "Epoch 12: val_accuracy improved from 0.96758 to 0.97633, saving model to Apple_DIY_model2_Based_Non_Augmented\n"
     ]
    },
    {
     "name": "stderr",
     "output_type": "stream",
     "text": [
      "WARNING:absl:Found untraced functions such as _jit_compiled_convolution_op, _jit_compiled_convolution_op, _jit_compiled_convolution_op while saving (showing 3 of 3). These functions will not be directly callable after loading.\n"
     ]
    },
    {
     "name": "stdout",
     "output_type": "stream",
     "text": [
      "INFO:tensorflow:Assets written to: Apple_DIY_model2_Based_Non_Augmented\\assets\n"
     ]
    },
    {
     "name": "stderr",
     "output_type": "stream",
     "text": [
      "INFO:tensorflow:Assets written to: Apple_DIY_model2_Based_Non_Augmented\\assets\n"
     ]
    },
    {
     "name": "stdout",
     "output_type": "stream",
     "text": [
      "401/401 [==============================] - 26s 65ms/step - loss: 0.0310 - accuracy: 0.9900 - val_loss: 0.1167 - val_accuracy: 0.9763 - lr: 0.0010\n",
      "Epoch 13/100\n",
      "400/401 [============================>.] - ETA: 0s - loss: 2.6816e-04 - accuracy: 1.0000\n",
      "Epoch 13: val_accuracy improved from 0.97633 to 0.97890, saving model to Apple_DIY_model2_Based_Non_Augmented\n"
     ]
    },
    {
     "name": "stderr",
     "output_type": "stream",
     "text": [
      "WARNING:absl:Found untraced functions such as _jit_compiled_convolution_op, _jit_compiled_convolution_op, _jit_compiled_convolution_op while saving (showing 3 of 3). These functions will not be directly callable after loading.\n"
     ]
    },
    {
     "name": "stdout",
     "output_type": "stream",
     "text": [
      "INFO:tensorflow:Assets written to: Apple_DIY_model2_Based_Non_Augmented\\assets\n"
     ]
    },
    {
     "name": "stderr",
     "output_type": "stream",
     "text": [
      "INFO:tensorflow:Assets written to: Apple_DIY_model2_Based_Non_Augmented\\assets\n"
     ]
    },
    {
     "name": "stdout",
     "output_type": "stream",
     "text": [
      "401/401 [==============================] - 26s 66ms/step - loss: 2.6749e-04 - accuracy: 1.0000 - val_loss: 0.1356 - val_accuracy: 0.9789 - lr: 0.0010\n",
      "Epoch 14/100\n",
      "400/401 [============================>.] - ETA: 0s - loss: 2.5515e-05 - accuracy: 1.0000\n",
      "Epoch 14: val_accuracy did not improve from 0.97890\n",
      "401/401 [==============================] - 18s 45ms/step - loss: 2.5455e-05 - accuracy: 1.0000 - val_loss: 0.1449 - val_accuracy: 0.9774 - lr: 0.0010\n",
      "Epoch 15/100\n",
      "400/401 [============================>.] - ETA: 0s - loss: 1.2967e-05 - accuracy: 1.0000\n",
      "Epoch 15: val_accuracy did not improve from 0.97890\n",
      "401/401 [==============================] - 18s 45ms/step - loss: 1.2954e-05 - accuracy: 1.0000 - val_loss: 0.1537 - val_accuracy: 0.9779 - lr: 0.0010\n",
      "Epoch 16/100\n",
      "400/401 [============================>.] - ETA: 0s - loss: 7.6721e-06 - accuracy: 1.0000\n",
      "Epoch 16: val_accuracy did not improve from 0.97890\n",
      "401/401 [==============================] - 18s 45ms/step - loss: 7.7062e-06 - accuracy: 1.0000 - val_loss: 0.1622 - val_accuracy: 0.9784 - lr: 0.0010\n",
      "Epoch 17/100\n",
      "400/401 [============================>.] - ETA: 0s - loss: 4.6262e-06 - accuracy: 1.0000\n",
      "Epoch 17: val_accuracy did not improve from 0.97890\n",
      "\n",
      "Epoch 17: ReduceLROnPlateau reducing learning rate to 0.00010000000474974513.\n",
      "401/401 [==============================] - 18s 45ms/step - loss: 4.6147e-06 - accuracy: 1.0000 - val_loss: 0.1696 - val_accuracy: 0.9789 - lr: 0.0010\n",
      "Epoch 18/100\n",
      "401/401 [==============================] - ETA: 0s - loss: 5.0962e-06 - accuracy: 1.0000\n",
      "Epoch 18: val_accuracy did not improve from 0.97890\n",
      "401/401 [==============================] - 18s 45ms/step - loss: 5.0962e-06 - accuracy: 1.0000 - val_loss: 0.1705 - val_accuracy: 0.9789 - lr: 1.0000e-04\n",
      "Epoch 19/100\n",
      "400/401 [============================>.] - ETA: 0s - loss: 4.1265e-06 - accuracy: 1.0000\n",
      "Epoch 19: val_accuracy did not improve from 0.97890\n",
      "401/401 [==============================] - 18s 46ms/step - loss: 4.1163e-06 - accuracy: 1.0000 - val_loss: 0.1715 - val_accuracy: 0.9789 - lr: 1.0000e-04\n",
      "Epoch 20/100\n",
      "400/401 [============================>.] - ETA: 0s - loss: 4.7382e-06 - accuracy: 1.0000\n",
      "Epoch 20: val_accuracy did not improve from 0.97890\n",
      "401/401 [==============================] - 18s 46ms/step - loss: 4.7539e-06 - accuracy: 1.0000 - val_loss: 0.1718 - val_accuracy: 0.9789 - lr: 1.0000e-04\n",
      "Epoch 21/100\n",
      "400/401 [============================>.] - ETA: 0s - loss: 3.2406e-06 - accuracy: 1.0000\n",
      "Epoch 21: val_accuracy did not improve from 0.97890\n",
      "401/401 [==============================] - 18s 46ms/step - loss: 3.2339e-06 - accuracy: 1.0000 - val_loss: 0.1727 - val_accuracy: 0.9789 - lr: 1.0000e-04\n",
      "Epoch 22/100\n",
      "401/401 [==============================] - ETA: 0s - loss: 4.5123e-06 - accuracy: 1.0000\n",
      "Epoch 22: val_accuracy did not improve from 0.97890\n",
      "\n",
      "Epoch 22: ReduceLROnPlateau reducing learning rate to 1.0000000474974514e-05.\n",
      "401/401 [==============================] - 18s 46ms/step - loss: 4.5123e-06 - accuracy: 1.0000 - val_loss: 0.1742 - val_accuracy: 0.9789 - lr: 1.0000e-04\n",
      "Epoch 23/100\n",
      "401/401 [==============================] - ETA: 0s - loss: 3.2503e-06 - accuracy: 1.0000\n",
      "Epoch 23: val_accuracy did not improve from 0.97890\n",
      "401/401 [==============================] - 18s 46ms/step - loss: 3.2503e-06 - accuracy: 1.0000 - val_loss: 0.1743 - val_accuracy: 0.9789 - lr: 1.0000e-05\n",
      "Epoch 24/100\n",
      "401/401 [==============================] - ETA: 0s - loss: 4.7183e-06 - accuracy: 1.0000\n",
      "Epoch 24: val_accuracy did not improve from 0.97890\n",
      "401/401 [==============================] - 49s 123ms/step - loss: 4.7183e-06 - accuracy: 1.0000 - val_loss: 0.1745 - val_accuracy: 0.9789 - lr: 1.0000e-05\n",
      "Epoch 25/100\n",
      "400/401 [============================>.] - ETA: 0s - loss: 3.1069e-06 - accuracy: 1.0000\n",
      "Epoch 25: val_accuracy did not improve from 0.97890\n",
      "401/401 [==============================] - 19s 46ms/step - loss: 3.0994e-06 - accuracy: 1.0000 - val_loss: 0.1746 - val_accuracy: 0.9789 - lr: 1.0000e-05\n",
      "Epoch 26/100\n",
      "401/401 [==============================] - ETA: 0s - loss: 2.7358e-06 - accuracy: 1.0000\n",
      "Epoch 26: val_accuracy did not improve from 0.97890\n",
      "401/401 [==============================] - 18s 46ms/step - loss: 2.7358e-06 - accuracy: 1.0000 - val_loss: 0.1748 - val_accuracy: 0.9789 - lr: 1.0000e-05\n",
      "Epoch 27/100\n",
      "401/401 [==============================] - ETA: 0s - loss: 3.5957e-06 - accuracy: 1.0000\n",
      "Epoch 27: val_accuracy did not improve from 0.97890\n",
      "\n",
      "Epoch 27: ReduceLROnPlateau reducing learning rate to 1.0000000656873453e-06.\n",
      "401/401 [==============================] - 18s 46ms/step - loss: 3.5957e-06 - accuracy: 1.0000 - val_loss: 0.1751 - val_accuracy: 0.9789 - lr: 1.0000e-05\n",
      "Epoch 28/100\n",
      "401/401 [==============================] - ETA: 0s - loss: 4.7357e-06 - accuracy: 1.0000\n",
      "Epoch 28: val_accuracy did not improve from 0.97890\n",
      "401/401 [==============================] - 18s 45ms/step - loss: 4.7357e-06 - accuracy: 1.0000 - val_loss: 0.1751 - val_accuracy: 0.9789 - lr: 1.0000e-06\n",
      "Epoch 29/100\n",
      "400/401 [============================>.] - ETA: 0s - loss: 3.6674e-06 - accuracy: 1.0000\n",
      "Epoch 29: val_accuracy did not improve from 0.97890\n",
      "401/401 [==============================] - 18s 45ms/step - loss: 3.6582e-06 - accuracy: 1.0000 - val_loss: 0.1751 - val_accuracy: 0.9789 - lr: 1.0000e-06\n",
      "Epoch 30/100\n",
      "400/401 [============================>.] - ETA: 0s - loss: 2.9915e-06 - accuracy: 1.0000\n",
      "Epoch 30: val_accuracy did not improve from 0.97890\n",
      "401/401 [==============================] - 18s 45ms/step - loss: 2.9840e-06 - accuracy: 1.0000 - val_loss: 0.1752 - val_accuracy: 0.9789 - lr: 1.0000e-06\n",
      "Epoch 31/100\n",
      "400/401 [============================>.] - ETA: 0s - loss: 3.7210e-06 - accuracy: 1.0000\n",
      "Epoch 31: val_accuracy did not improve from 0.97890\n",
      "401/401 [==============================] - 18s 45ms/step - loss: 3.7118e-06 - accuracy: 1.0000 - val_loss: 0.1752 - val_accuracy: 0.9789 - lr: 1.0000e-06\n",
      "Epoch 32/100\n",
      "400/401 [============================>.] - ETA: 0s - loss: 2.1527e-06 - accuracy: 1.0000\n",
      "Epoch 32: val_accuracy did not improve from 0.97890\n",
      "\n",
      "Epoch 32: ReduceLROnPlateau reducing learning rate to 1.0000001111620805e-07.\n",
      "401/401 [==============================] - 18s 45ms/step - loss: 2.1474e-06 - accuracy: 1.0000 - val_loss: 0.1752 - val_accuracy: 0.9789 - lr: 1.0000e-06\n",
      "Epoch 33/100\n",
      "401/401 [==============================] - ETA: 0s - loss: 2.9152e-06 - accuracy: 1.0000\n",
      "Epoch 33: val_accuracy did not improve from 0.97890\n",
      "Restoring model weights from the end of the best epoch: 13.\n",
      "401/401 [==============================] - 18s 45ms/step - loss: 2.9152e-06 - accuracy: 1.0000 - val_loss: 0.1752 - val_accuracy: 0.9789 - lr: 1.0000e-07\n",
      "Epoch 33: early stopping\n"
     ]
    }
   ],
   "source": [
    "# Define the number of epochs\n",
    "num_epochs = 100\n",
    "\n",
    "# Train the model\n",
    "history_DIY_model_2 = DIY_model_2.fit(train_generator, epochs=num_epochs, validation_data=validation_generator, callbacks=callbacks)"
   ]
  },
  {
   "cell_type": "code",
   "execution_count": 13,
   "metadata": {
    "tags": []
   },
   "outputs": [
    {
     "data": {
      "text/plain": [
       "Text(0.5, 1.0, 'Training and validation loss DIY Model')"
      ]
     },
     "execution_count": 13,
     "metadata": {},
     "output_type": "execute_result"
    },
    {
     "data": {
      "image/png": "[encoded data removed]",
      "text/plain": [
       "<Figure size 640x480 with 1 Axes>"
      ]
     },
     "metadata": {},
     "output_type": "display_data"
    },
    {
     "data": {
      "image/png": "[encoded data removed]",
      "text/plain": [
       "<Figure size 640x480 with 1 Axes>"
      ]
     },
     "metadata": {},
     "output_type": "display_data"
    }
   ],
   "source": [
    "#-----------------------------------------------------------\n",
    "# Retrieve a list of list results on training and test data\n",
    "# sets for each training epoch\n",
    "#-----------------------------------------------------------\n",
    "acc      = history_DIY_model_2.history['accuracy' ]\n",
    "val_acc  = history_DIY_model_2.history['val_accuracy' ]\n",
    "loss     = history_DIY_model_2.history['loss' ]\n",
    "val_loss = history_DIY_model_2.history['val_loss' ]\n",
    "\n",
    "epochs   = range(len(acc)) # Get number of epochs\n",
    "\n",
    "#------------------------------------------------\n",
    "# Plot training and validation accuracy per epoch\n",
    "#------------------------------------------------\n",
    "plt.plot  (epochs, acc )\n",
    "plt.plot  (epochs, val_acc )\n",
    "plt.title ('Training and validation accuracy DIY Model')\n",
    "plt.figure()\n",
    "\n",
    "#------------------------------------------------\n",
    "# Plot training and validation loss per epoch\n",
    "#------------------------------------------------\n",
    "plt.plot  (epochs, loss)\n",
    "plt.plot  (epochs, val_loss)\n",
    "plt.title ('Training and validation loss DIY Model')"
   ]
  }
 ],
 "metadata": {
  "kernelspec": {
   "display_name": "Python 3 (ipykernel)",
   "language": "python",
   "name": "python3"
  },
  "language_info": {
   "codemirror_mode": {
    "name": "ipython",
    "version": 3
   },
   "file_extension": ".py",
   "mimetype": "text/x-python",
   "name": "python",
   "nbconvert_exporter": "python",
   "pygments_lexer": "ipython3",
   "version": "3.10.0"
  }
 },
 "nbformat": 4,
 "nbformat_minor": 4
}
