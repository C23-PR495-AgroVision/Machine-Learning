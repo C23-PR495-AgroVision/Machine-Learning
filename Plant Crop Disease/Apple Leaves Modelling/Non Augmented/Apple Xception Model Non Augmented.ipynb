{
 "cells": [
  {
   "cell_type": "markdown",
   "metadata": {
    "id": "BpgbrA9j9ZDT"
   },
   "source": [
    "# Library"
   ]
  },
  {
   "cell_type": "code",
   "execution_count": 1,
   "metadata": {
    "colab": {
     "base_uri": "https://localhost:8080/"
    },
    "executionInfo": {
     "elapsed": 3831,
     "status": "ok",
     "timestamp": 1684905781769,
     "user": {
      "displayName": "Ahmad Habib Hasan Zein",
      "userId": "06743622963259718983"
     },
     "user_tz": -420
    },
    "id": "5d8cHmVK9ZDW",
    "outputId": "8462b964-5fe3-45d4-ed1c-b301f01f172f",
    "tags": []
   },
   "outputs": [
    {
     "name": "stdout",
     "output_type": "stream",
     "text": [
      "Collecting matplotlib\n",
      "  Downloading matplotlib-3.7.1-cp38-cp38-manylinux_2_12_x86_64.manylinux2010_x86_64.whl (9.2 MB)\n",
      "\u001b[2K     \u001b[90m━━━━━━━━━━━━━━━━━━━━━━━━━━━━━━━━━━━━━━━━\u001b[0m \u001b[32m9.2/9.2 MB\u001b[0m \u001b[31m9.6 MB/s\u001b[0m eta \u001b[36m0:00:00\u001b[0m:00:01\u001b[0m00:01\u001b[0m\n",
      "\u001b[?25hCollecting fonttools>=4.22.0\n",
      "  Downloading fonttools-4.39.4-py3-none-any.whl (1.0 MB)\n",
      "\u001b[2K     \u001b[90m━━━━━━━━━━━━━━━━━━━━━━━━━━━━━━━━━━━━━━━━\u001b[0m \u001b[32m1.0/1.0 MB\u001b[0m \u001b[31m18.7 MB/s\u001b[0m eta \u001b[36m0:00:00\u001b[0ma \u001b[36m0:00:01\u001b[0m\n",
      "\u001b[?25hCollecting kiwisolver>=1.0.1\n",
      "  Downloading kiwisolver-1.4.4-cp38-cp38-manylinux_2_5_x86_64.manylinux1_x86_64.whl (1.2 MB)\n",
      "\u001b[2K     \u001b[90m━━━━━━━━━━━━━━━━━━━━━━━━━━━━━━━━━━━━━━━━\u001b[0m \u001b[32m1.2/1.2 MB\u001b[0m \u001b[31m23.1 MB/s\u001b[0m eta \u001b[36m0:00:00\u001b[0ma \u001b[36m0:00:01\u001b[0m\n",
      "\u001b[?25hRequirement already satisfied: python-dateutil>=2.7 in /usr/local/lib/python3.8/dist-packages (from matplotlib) (2.8.2)\n",
      "Requirement already satisfied: importlib-resources>=3.2.0 in /usr/local/lib/python3.8/dist-packages (from matplotlib) (5.12.0)\n",
      "Collecting contourpy>=1.0.1\n",
      "  Downloading contourpy-1.0.7-cp38-cp38-manylinux_2_17_x86_64.manylinux2014_x86_64.whl (300 kB)\n",
      "\u001b[2K     \u001b[90m━━━━━━━━━━━━━━━━━━━━━━━━━━━━━━━━━━━━━━\u001b[0m \u001b[32m300.0/300.0 kB\u001b[0m \u001b[31m45.3 MB/s\u001b[0m eta \u001b[36m0:00:00\u001b[0m\n",
      "\u001b[?25hCollecting pyparsing>=2.3.1\n",
      "  Downloading pyparsing-3.0.9-py3-none-any.whl (98 kB)\n",
      "\u001b[2K     \u001b[90m━━━━━━━━━━━━━━━━━━━━━━━━━━━━━━━━━━━━━━━━\u001b[0m \u001b[32m98.3/98.3 kB\u001b[0m \u001b[31m20.2 MB/s\u001b[0m eta \u001b[36m0:00:00\u001b[0m\n",
      "\u001b[?25hCollecting pillow>=6.2.0\n",
      "  Downloading Pillow-9.5.0-cp38-cp38-manylinux_2_28_x86_64.whl (3.4 MB)\n",
      "\u001b[2K     \u001b[90m━━━━━━━━━━━━━━━━━━━━━━━━━━━━━━━━━━━━━━━━\u001b[0m \u001b[32m3.4/3.4 MB\u001b[0m \u001b[31m21.8 MB/s\u001b[0m eta \u001b[36m0:00:00\u001b[0m00:01\u001b[0m00:01\u001b[0m\n",
      "\u001b[?25hCollecting cycler>=0.10\n",
      "  Downloading cycler-0.11.0-py3-none-any.whl (6.4 kB)\n",
      "Requirement already satisfied: numpy>=1.20 in /usr/local/lib/python3.8/dist-packages (from matplotlib) (1.23.5)\n",
      "Requirement already satisfied: packaging>=20.0 in /usr/local/lib/python3.8/dist-packages (from matplotlib) (23.0)\n",
      "Requirement already satisfied: zipp>=3.1.0 in /usr/local/lib/python3.8/dist-packages (from importlib-resources>=3.2.0->matplotlib) (3.15.0)\n",
      "Requirement already satisfied: six>=1.5 in /usr/lib/python3/dist-packages (from python-dateutil>=2.7->matplotlib) (1.14.0)\n",
      "Installing collected packages: pyparsing, pillow, kiwisolver, fonttools, cycler, contourpy, matplotlib\n",
      "Successfully installed contourpy-1.0.7 cycler-0.11.0 fonttools-4.39.4 kiwisolver-1.4.4 matplotlib-3.7.1 pillow-9.5.0 pyparsing-3.0.9\n",
      "\u001b[33mWARNING: Running pip as the 'root' user can result in broken permissions and conflicting behaviour with the system package manager. It is recommended to use a virtual environment instead: https://pip.pypa.io/warnings/venv\u001b[0m\u001b[33m\n",
      "\u001b[0m\n",
      "\u001b[1m[\u001b[0m\u001b[34;49mnotice\u001b[0m\u001b[1;39;49m]\u001b[0m\u001b[39;49m A new release of pip is available: \u001b[0m\u001b[31;49m23.0.1\u001b[0m\u001b[39;49m -> \u001b[0m\u001b[32;49m23.1.2\u001b[0m\n",
      "\u001b[1m[\u001b[0m\u001b[34;49mnotice\u001b[0m\u001b[1;39;49m]\u001b[0m\u001b[39;49m To update, run: \u001b[0m\u001b[32;49mpython3 -m pip install --upgrade pip\u001b[0m\n",
      "Note: you may need to restart the kernel to use updated packages.\n"
     ]
    }
   ],
   "source": [
    "pip install matplotlib"
   ]
  },
  {
   "cell_type": "code",
   "execution_count": 2,
   "metadata": {
    "colab": {
     "base_uri": "https://localhost:8080/"
    },
    "executionInfo": {
     "elapsed": 3789,
     "status": "ok",
     "timestamp": 1684905785556,
     "user": {
      "displayName": "Ahmad Habib Hasan Zein",
      "userId": "06743622963259718983"
     },
     "user_tz": -420
    },
    "id": "KsT4qa2J9ZDY",
    "outputId": "5265bd6f-0757-4c4e-dfcf-1bc9f9975ee2",
    "tags": []
   },
   "outputs": [
    {
     "name": "stdout",
     "output_type": "stream",
     "text": [
      "Collecting opendatasets\n",
      "  Downloading opendatasets-0.1.22-py3-none-any.whl (15 kB)\n",
      "Collecting click\n",
      "  Downloading click-8.1.3-py3-none-any.whl (96 kB)\n",
      "\u001b[2K     \u001b[90m━━━━━━━━━━━━━━━━━━━━━━━━━━━━━━━━━━━━━━━━\u001b[0m \u001b[32m96.6/96.6 kB\u001b[0m \u001b[31m1.8 MB/s\u001b[0m eta \u001b[36m0:00:00\u001b[0mta \u001b[36m0:00:01\u001b[0m\n",
      "\u001b[?25hCollecting tqdm\n",
      "  Downloading tqdm-4.65.0-py3-none-any.whl (77 kB)\n",
      "\u001b[2K     \u001b[90m━━━━━━━━━━━━━━━━━━━━━━━━━━━━━━━━━━━━━━━━\u001b[0m \u001b[32m77.1/77.1 kB\u001b[0m \u001b[31m9.2 MB/s\u001b[0m eta \u001b[36m0:00:00\u001b[0m\n",
      "\u001b[?25hCollecting kaggle\n",
      "  Downloading kaggle-1.5.13.tar.gz (63 kB)\n",
      "\u001b[2K     \u001b[90m━━━━━━━━━━━━━━━━━━━━━━━━━━━━━━━━━━━━━━━━\u001b[0m \u001b[32m63.3/63.3 kB\u001b[0m \u001b[31m6.5 MB/s\u001b[0m eta \u001b[36m0:00:00\u001b[0m\n",
      "\u001b[?25h  Preparing metadata (setup.py) ... \u001b[?25ldone\n",
      "\u001b[?25hRequirement already satisfied: six>=1.10 in /usr/lib/python3/dist-packages (from kaggle->opendatasets) (1.14.0)\n",
      "Requirement already satisfied: certifi in /usr/lib/python3/dist-packages (from kaggle->opendatasets) (2019.11.28)\n",
      "Requirement already satisfied: python-dateutil in /usr/local/lib/python3.8/dist-packages (from kaggle->opendatasets) (2.8.2)\n",
      "Requirement already satisfied: requests in /usr/local/lib/python3.8/dist-packages (from kaggle->opendatasets) (2.30.0)\n",
      "Collecting python-slugify\n",
      "  Downloading python_slugify-8.0.1-py2.py3-none-any.whl (9.7 kB)\n",
      "Requirement already satisfied: urllib3 in /usr/lib/python3/dist-packages (from kaggle->opendatasets) (1.25.8)\n",
      "Collecting text-unidecode>=1.3\n",
      "  Downloading text_unidecode-1.3-py2.py3-none-any.whl (78 kB)\n",
      "\u001b[2K     \u001b[90m━━━━━━━━━━━━━━━━━━━━━━━━━━━━━━━━━━━━━━━━\u001b[0m \u001b[32m78.2/78.2 kB\u001b[0m \u001b[31m6.3 MB/s\u001b[0m eta \u001b[36m0:00:00\u001b[0m\n",
      "\u001b[?25hRequirement already satisfied: charset-normalizer<4,>=2 in /usr/local/lib/python3.8/dist-packages (from requests->kaggle->opendatasets) (3.1.0)\n",
      "Requirement already satisfied: idna<4,>=2.5 in /usr/lib/python3/dist-packages (from requests->kaggle->opendatasets) (2.8)\n",
      "Building wheels for collected packages: kaggle\n",
      "  Building wheel for kaggle (setup.py) ... \u001b[?25ldone\n",
      "\u001b[?25h  Created wheel for kaggle: filename=kaggle-1.5.13-py3-none-any.whl size=77717 sha256=9e48f9240f6d4b6c9147ae8e72567cb1df5db7c399922db2484f8e3ac6986e86\n",
      "  Stored in directory: /root/.cache/pip/wheels/e6/8e/67/e07554a720a493dc6b39b30488590ba92ed45448ad0134d253\n",
      "Successfully built kaggle\n",
      "Installing collected packages: text-unidecode, tqdm, python-slugify, click, kaggle, opendatasets\n",
      "Successfully installed click-8.1.3 kaggle-1.5.13 opendatasets-0.1.22 python-slugify-8.0.1 text-unidecode-1.3 tqdm-4.65.0\n",
      "\u001b[33mWARNING: Running pip as the 'root' user can result in broken permissions and conflicting behaviour with the system package manager. It is recommended to use a virtual environment instead: https://pip.pypa.io/warnings/venv\u001b[0m\u001b[33m\n",
      "\u001b[0m\n",
      "\u001b[1m[\u001b[0m\u001b[34;49mnotice\u001b[0m\u001b[1;39;49m]\u001b[0m\u001b[39;49m A new release of pip is available: \u001b[0m\u001b[31;49m23.0.1\u001b[0m\u001b[39;49m -> \u001b[0m\u001b[32;49m23.1.2\u001b[0m\n",
      "\u001b[1m[\u001b[0m\u001b[34;49mnotice\u001b[0m\u001b[1;39;49m]\u001b[0m\u001b[39;49m To update, run: \u001b[0m\u001b[32;49mpython3 -m pip install --upgrade pip\u001b[0m\n",
      "Note: you may need to restart the kernel to use updated packages.\n"
     ]
    }
   ],
   "source": [
    "pip install opendatasets"
   ]
  },
  {
   "cell_type": "code",
   "execution_count": 3,
   "metadata": {
    "executionInfo": {
     "elapsed": 4016,
     "status": "ok",
     "timestamp": 1684905789570,
     "user": {
      "displayName": "Ahmad Habib Hasan Zein",
      "userId": "06743622963259718983"
     },
     "user_tz": -420
    },
    "id": "RIjvYXAJ7nsG",
    "tags": []
   },
   "outputs": [],
   "source": [
    "# Library to dataset\n",
    "import opendatasets as od\n",
    "import os\n",
    "import zipfile\n",
    "import numpy as np\n",
    "\n",
    "# Surpress Warnings\n",
    "import warnings\n",
    "warnings.filterwarnings('ignore')\n",
    "os.environ['TF_CPP_MIN_LOG_LEVEL'] = '3' \n",
    "# library visualization\n",
    "import matplotlib.pyplot as plt\n",
    "\n",
    "# Library Tensorflow\n",
    "import tensorflow as tf\n",
    "from tensorflow import keras\n",
    "from tensorflow.keras.preprocessing.image import ImageDataGenerator\n",
    "from tensorflow.keras.callbacks import ModelCheckpoint, EarlyStopping, ReduceLROnPlateau\n",
    "from tensorflow.keras.applications.densenet import DenseNet121\n",
    "from tensorflow.keras.applications.xception import Xception\n",
    "# Others\n",
    "import shutil\n",
    "import random"
   ]
  },
  {
   "cell_type": "markdown",
   "metadata": {
    "id": "1QZa_XMd9ZDZ"
   },
   "source": [
    "# Load dataset"
   ]
  },
  {
   "cell_type": "code",
   "execution_count": 4,
   "metadata": {
    "colab": {
     "base_uri": "https://localhost:8080/"
    },
    "executionInfo": {
     "elapsed": 19982,
     "status": "ok",
     "timestamp": 1684905809546,
     "user": {
      "displayName": "Ahmad Habib Hasan Zein",
      "userId": "06743622963259718983"
     },
     "user_tz": -420
    },
    "id": "CH0iNFLH7rmp",
    "outputId": "c6e42da8-d04b-4a0b-c1cf-4d0d96901f53",
    "tags": []
   },
   "outputs": [
    {
     "name": "stdout",
     "output_type": "stream",
     "text": [
      "Please provide your Kaggle credentials to download this dataset. Learn more: http://bit.ly/kaggle-creds\n",
      "Your Kaggle username:"
     ]
    },
    {
     "name": "stdin",
     "output_type": "stream",
     "text": [
      "  ahmadhabibhasanzein\n"
     ]
    },
    {
     "name": "stdout",
     "output_type": "stream",
     "text": [
      "Your Kaggle Key:"
     ]
    },
    {
     "name": "stdin",
     "output_type": "stream",
     "text": [
      "  ········\n"
     ]
    },
    {
     "name": "stdout",
     "output_type": "stream",
     "text": [
      "Downloading apple-data.zip to ./apple-data\n"
     ]
    },
    {
     "name": "stderr",
     "output_type": "stream",
     "text": [
      "100%|██████████| 216M/216M [00:08<00:00, 27.8MB/s] \n"
     ]
    },
    {
     "name": "stdout",
     "output_type": "stream",
     "text": [
      "\n"
     ]
    }
   ],
   "source": [
    "# Download dataset\n",
    "od.download('https://www.kaggle.com/datasets/ahmadhabibhasanzein/apple-data')"
   ]
  },
  {
   "cell_type": "code",
   "execution_count": 5,
   "metadata": {
    "colab": {
     "base_uri": "https://localhost:8080/"
    },
    "executionInfo": {
     "elapsed": 3983,
     "status": "ok",
     "timestamp": 1684905813528,
     "user": {
      "displayName": "Ahmad Habib Hasan Zein",
      "userId": "06743622963259718983"
     },
     "user_tz": -420
    },
    "id": "fjuuT1_V9ZDa",
    "outputId": "5c2a27b0-224d-40c9-8a58-d7b598fed5a7",
    "tags": []
   },
   "outputs": [
    {
     "name": "stdout",
     "output_type": "stream",
     "text": [
      "==========================Training Data====================\n",
      "Found 8014 files belonging to 4 classes.\n",
      "==========================Validation Data====================\n",
      "Found 1943 files belonging to 4 classes.\n"
     ]
    }
   ],
   "source": [
    "# Load dataset\n",
    "print(\"==========================Training Data====================\")\n",
    "train_data = tf.keras.preprocessing.image_dataset_from_directory(\n",
    "    \"apple-data/Apple/train\",\n",
    "    label_mode=\"categorical\",\n",
    "    class_names=['Apple Black rot', 'Apple Scab Leaf', 'Apple leaf Healthy', 'Apple rust leaf'],\n",
    "    color_mode=\"rgb\",\n",
    "    batch_size=1,\n",
    "    image_size=(256, 256),\n",
    "    shuffle=True,\n",
    "    seed=123\n",
    ")\n",
    "print(\"==========================Validation Data====================\")\n",
    "val_data = tf.keras.preprocessing.image_dataset_from_directory(\n",
    "    \"apple-data/Apple/valid\",\n",
    "    label_mode=\"categorical\",\n",
    "    class_names=['Apple Black rot', 'Apple Scab Leaf', 'Apple leaf Healthy', 'Apple rust leaf'],\n",
    "    color_mode=\"rgb\",\n",
    "    batch_size=1,\n",
    "    image_size=(256, 256),\n",
    "    shuffle=True,\n",
    "    seed=123\n",
    ")"
   ]
  },
  {
   "cell_type": "code",
   "execution_count": 7,
   "metadata": {
    "colab": {
     "base_uri": "https://localhost:8080/"
    },
    "executionInfo": {
     "elapsed": 12,
     "status": "ok",
     "timestamp": 1684905813528,
     "user": {
      "displayName": "Ahmad Habib Hasan Zein",
      "userId": "06743622963259718983"
     },
     "user_tz": -420
    },
    "id": "YFs93hWJ9ZDa",
    "outputId": "5a053169-456e-4592-b97f-2c5442b74b5a",
    "tags": []
   },
   "outputs": [
    {
     "name": "stdout",
     "output_type": "stream",
     "text": [
      "Found 8014 images belonging to 4 classes.\n",
      "Found 1943 images belonging to 4 classes.\n"
     ]
    }
   ],
   "source": [
    "# All images will be rescaled by 1./255.\n",
    "train_datagen = ImageDataGenerator(rescale = 1.0/256.)\n",
    "test_datagen  = ImageDataGenerator(rescale = 1.0/256.)\n",
    "\n",
    "# --------------------\n",
    "# Flow training images in batches of 20 using train_datagen generator\n",
    "# --------------------\n",
    "train_generator = train_datagen.flow_from_directory(\"apple-data/Apple/train\",\n",
    "                                                    batch_size=20,\n",
    "                                                    class_mode='categorical',\n",
    "                                                    target_size=(224, 224))     \n",
    "# --------------------\n",
    "# Flow validation images in batches of 20 using test_datagen generator\n",
    "# --------------------\n",
    "validation_generator =  test_datagen.flow_from_directory(\"apple-data/Apple/valid\",\n",
    "                                                         batch_size=20,\n",
    "                                                         class_mode  = 'categorical',\n",
    "                                                         target_size = (224, 224))"
   ]
  },
  {
   "cell_type": "markdown",
   "metadata": {
    "id": "JEk8KUFR9ZDb"
   },
   "source": [
    "# List Resource"
   ]
  },
  {
   "cell_type": "code",
   "execution_count": 8,
   "metadata": {
    "colab": {
     "base_uri": "https://localhost:8080/"
    },
    "executionInfo": {
     "elapsed": 6,
     "status": "ok",
     "timestamp": 1684566170707,
     "user": {
      "displayName": "Ahmad Habib Hasan Zein",
      "userId": "06743622963259718983"
     },
     "user_tz": -420
    },
    "id": "Lqej6-_09ZDb",
    "outputId": "8851d052-fa31-4e09-96b2-ccf7f71caf87",
    "tags": []
   },
   "outputs": [
    {
     "name": "stdout",
     "output_type": "stream",
     "text": [
      "Sat May 27 06:42:23 2023       \n",
      "+-----------------------------------------------------------------------------+\n",
      "| NVIDIA-SMI 525.85.05    Driver Version: 525.85.05    CUDA Version: 12.0     |\n",
      "|-------------------------------+----------------------+----------------------+\n",
      "| GPU  Name        Persistence-M| Bus-Id        Disp.A | Volatile Uncorr. ECC |\n",
      "| Fan  Temp  Perf  Pwr:Usage/Cap|         Memory-Usage | GPU-Util  Compute M. |\n",
      "|                               |                      |               MIG M. |\n",
      "|===============================+======================+======================|\n",
      "|   0  NVIDIA GeForce ...  On   | 00000000:02:00.0 Off |                  N/A |\n",
      "| 30%   33C    P2   107W / 350W |  22725MiB / 24576MiB |      0%      Default |\n",
      "|                               |                      |                  N/A |\n",
      "+-------------------------------+----------------------+----------------------+\n",
      "                                                                               \n",
      "+-----------------------------------------------------------------------------+\n",
      "| Processes:                                                                  |\n",
      "|  GPU   GI   CI        PID   Type   Process name                  GPU Memory |\n",
      "|        ID   ID                                                   Usage      |\n",
      "|=============================================================================|\n",
      "+-----------------------------------------------------------------------------+\n"
     ]
    }
   ],
   "source": [
    "# Check GPU\n",
    "!nvidia-smi"
   ]
  },
  {
   "cell_type": "code",
   "execution_count": 9,
   "metadata": {
    "colab": {
     "base_uri": "https://localhost:8080/"
    },
    "executionInfo": {
     "elapsed": 5,
     "status": "ok",
     "timestamp": 1684566170707,
     "user": {
      "displayName": "Ahmad Habib Hasan Zein",
      "userId": "06743622963259718983"
     },
     "user_tz": -420
    },
    "id": "WPJg4t989ZDc",
    "outputId": "d167b073-12f5-4d40-9a01-b46405249e78",
    "tags": []
   },
   "outputs": [
    {
     "data": {
      "text/plain": [
       "[PhysicalDevice(name='/physical_device:GPU:0', device_type='GPU')]"
      ]
     },
     "execution_count": 9,
     "metadata": {},
     "output_type": "execute_result"
    }
   ],
   "source": [
    "# Lis physical devices\n",
    "devices = tf.config.experimental.list_physical_devices(\"GPU\")\n",
    "devices"
   ]
  },
  {
   "cell_type": "code",
   "execution_count": 10,
   "metadata": {
    "id": "QAHLbHWM9ZDc",
    "tags": []
   },
   "outputs": [
    {
     "name": "stdout",
     "output_type": "stream",
     "text": [
      "INFO:tensorflow:Using MirroredStrategy with devices ('/job:localhost/replica:0/task:0/device:GPU:0',)\n"
     ]
    }
   ],
   "source": [
    "# Define the GPU strategy\n",
    "mirrored_strategy = tf.distribute.MirroredStrategy(devices=[\"/gpu:0\"])"
   ]
  },
  {
   "cell_type": "markdown",
   "metadata": {
    "id": "G0-JWhKo9ZDc"
   },
   "source": [
    "# Modelling Without ImageDataGenerator"
   ]
  },
  {
   "cell_type": "markdown",
   "metadata": {
    "id": "zoBS_ATI9ZDd"
   },
   "source": [
    "## Xception Model 1"
   ]
  },
  {
   "cell_type": "code",
   "execution_count": 11,
   "metadata": {
    "executionInfo": {
     "elapsed": 2,
     "status": "ok",
     "timestamp": 1684905829650,
     "user": {
      "displayName": "Ahmad Habib Hasan Zein",
      "userId": "06743622963259718983"
     },
     "user_tz": -420
    },
    "id": "2eyrV-MJ9ZDd",
    "tags": []
   },
   "outputs": [],
   "source": [
    "# Difine the callbacks\n",
    "# Save the best model\n",
    "checkpoint_callback = ModelCheckpoint(filepath=\"Apple_Xception_model1_Based_Non_Augmented\", save_best_only=True, monitor=\"val_accuracy\", mode=\"max\", verbose=1)\n",
    "\n",
    "# Early stopping\n",
    "early_stopping_callback = EarlyStopping(monitor=\"val_accuracy\", mode=\"max\", patience=20, verbose=1, restore_best_weights=True)\n",
    "\n",
    "# Reduce learning rate\n",
    "reduce_lr_callback = ReduceLROnPlateau(monitor=\"val_loss\", factor=0.1, patience=5, verbose=1, mode=\"min\", min_delta=0.0001, cooldown=0, min_lr=0)\n",
    "\n",
    "# Callbacks list\n",
    "callbacks=[checkpoint_callback, early_stopping_callback, reduce_lr_callback]"
   ]
  },
  {
   "cell_type": "code",
   "execution_count": 12,
   "metadata": {
    "colab": {
     "base_uri": "https://localhost:8080/"
    },
    "executionInfo": {
     "elapsed": 2369,
     "status": "ok",
     "timestamp": 1684905834275,
     "user": {
      "displayName": "Ahmad Habib Hasan Zein",
      "userId": "06743622963259718983"
     },
     "user_tz": -420
    },
    "id": "_i_E_m-f9ZDd",
    "outputId": "661ee06d-466a-44a1-eecb-59be4e8f3464",
    "tags": []
   },
   "outputs": [
    {
     "name": "stdout",
     "output_type": "stream",
     "text": [
      "Downloading data from https://storage.googleapis.com/tensorflow/keras-applications/xception/xception_weights_tf_dim_ordering_tf_kernels_notop.h5\n",
      "83683744/83683744 [==============================] - 2s 0us/step\n",
      "Model: \"sequential\"\n",
      "_________________________________________________________________\n",
      " Layer (type)                Output Shape              Param #   \n",
      "=================================================================\n",
      " xception (Functional)       (None, 7, 7, 2048)        20861480  \n",
      "                                                                 \n",
      " global_max_pooling2d (Globa  (None, 2048)             0         \n",
      " lMaxPooling2D)                                                  \n",
      "                                                                 \n",
      " dropout (Dropout)           (None, 2048)              0         \n",
      "                                                                 \n",
      " dense (Dense)               (None, 256)               524544    \n",
      "                                                                 \n",
      " dense_1 (Dense)             (None, 4)                 1028      \n",
      "                                                                 \n",
      "=================================================================\n",
      "Total params: 21,387,052\n",
      "Trainable params: 21,332,524\n",
      "Non-trainable params: 54,528\n",
      "_________________________________________________________________\n"
     ]
    }
   ],
   "source": [
    "# Define Model\n",
    "Xception1_model = tf.keras.models.Sequential([\n",
    "    # Xception Layer\n",
    "    Xception(include_top=False,weights='imagenet',input_shape=(224, 224, 3)),\n",
    "    # Max Pooling Layer\n",
    "    tf.keras.layers.GlobalMaxPooling2D(),\n",
    "    # Drop Out Layer\n",
    "    tf.keras.layers.Dropout(0.2),\n",
    "    # 256 neuron hidden layer\n",
    "    tf.keras.layers.Dense(256, activation='relu'),\n",
    "    # Output\n",
    "    tf.keras.layers.Dense(4, activation='softmax') \n",
    "  ])\n",
    "\n",
    "\n",
    "# Compile Model\n",
    "Xception1_model.compile(loss='categorical_crossentropy',optimizer=tf.keras.optimizers.Adam(), metrics=['accuracy']) \n",
    "\n",
    "# Model Summary\n",
    "Xception1_model.summary()"
   ]
  },
  {
   "cell_type": "code",
   "execution_count": 13,
   "metadata": {
    "colab": {
     "base_uri": "https://localhost:8080/"
    },
    "executionInfo": {
     "elapsed": 3296934,
     "status": "ok",
     "timestamp": 1684909131208,
     "user": {
      "displayName": "Ahmad Habib Hasan Zein",
      "userId": "06743622963259718983"
     },
     "user_tz": -420
    },
    "id": "jxKWPLUP9ZDd",
    "outputId": "ad9871a0-bc63-48ed-c3ff-30c7a38cbf8d",
    "tags": []
   },
   "outputs": [
    {
     "name": "stdout",
     "output_type": "stream",
     "text": [
      "Epoch 1/100\n",
      "401/401 [==============================] - ETA: 0s - loss: 0.4639 - accuracy: 0.8239\n",
      "Epoch 1: val_accuracy improved from -inf to 0.96037, saving model to Apple_Xception_model1_Based_Non_Augmented\n"
     ]
    },
    {
     "name": "stderr",
     "output_type": "stream",
     "text": [
      "WARNING:absl:Found untraced functions such as _jit_compiled_convolution_op, _jit_compiled_convolution_op, _jit_compiled_convolution_op, _jit_compiled_convolution_op, _jit_compiled_convolution_op while saving (showing 5 of 40). These functions will not be directly callable after loading.\n"
     ]
    },
    {
     "name": "stdout",
     "output_type": "stream",
     "text": [
      "INFO:tensorflow:Assets written to: Apple_Xception_model1_Based_Non_Augmented/assets\n"
     ]
    },
    {
     "name": "stderr",
     "output_type": "stream",
     "text": [
      "INFO:tensorflow:Assets written to: Apple_Xception_model1_Based_Non_Augmented/assets\n"
     ]
    },
    {
     "name": "stdout",
     "output_type": "stream",
     "text": [
      "401/401 [==============================] - 96s 152ms/step - loss: 0.4639 - accuracy: 0.8239 - val_loss: 0.1201 - val_accuracy: 0.9604 - lr: 0.0010\n",
      "Epoch 2/100\n",
      "401/401 [==============================] - ETA: 0s - loss: 0.1290 - accuracy: 0.9653\n",
      "Epoch 2: val_accuracy did not improve from 0.96037\n",
      "401/401 [==============================] - 33s 81ms/step - loss: 0.1290 - accuracy: 0.9653 - val_loss: 1.6827 - val_accuracy: 0.8230 - lr: 0.0010\n",
      "Epoch 3/100\n",
      "401/401 [==============================] - ETA: 0s - loss: 0.0734 - accuracy: 0.9803\n",
      "Epoch 3: val_accuracy improved from 0.96037 to 0.98919, saving model to Apple_Xception_model1_Based_Non_Augmented\n"
     ]
    },
    {
     "name": "stderr",
     "output_type": "stream",
     "text": [
      "WARNING:absl:Found untraced functions such as _jit_compiled_convolution_op, _jit_compiled_convolution_op, _jit_compiled_convolution_op, _jit_compiled_convolution_op, _jit_compiled_convolution_op while saving (showing 5 of 40). These functions will not be directly callable after loading.\n"
     ]
    },
    {
     "name": "stdout",
     "output_type": "stream",
     "text": [
      "INFO:tensorflow:Assets written to: Apple_Xception_model1_Based_Non_Augmented/assets\n"
     ]
    },
    {
     "name": "stderr",
     "output_type": "stream",
     "text": [
      "INFO:tensorflow:Assets written to: Apple_Xception_model1_Based_Non_Augmented/assets\n"
     ]
    },
    {
     "name": "stdout",
     "output_type": "stream",
     "text": [
      "401/401 [==============================] - 56s 140ms/step - loss: 0.0734 - accuracy: 0.9803 - val_loss: 0.0360 - val_accuracy: 0.9892 - lr: 0.0010\n",
      "Epoch 4/100\n",
      "401/401 [==============================] - ETA: 0s - loss: 0.0801 - accuracy: 0.9797\n",
      "Epoch 4: val_accuracy improved from 0.98919 to 0.99125, saving model to Apple_Xception_model1_Based_Non_Augmented\n"
     ]
    },
    {
     "name": "stderr",
     "output_type": "stream",
     "text": [
      "WARNING:absl:Found untraced functions such as _jit_compiled_convolution_op, _jit_compiled_convolution_op, _jit_compiled_convolution_op, _jit_compiled_convolution_op, _jit_compiled_convolution_op while saving (showing 5 of 40). These functions will not be directly callable after loading.\n"
     ]
    },
    {
     "name": "stdout",
     "output_type": "stream",
     "text": [
      "INFO:tensorflow:Assets written to: Apple_Xception_model1_Based_Non_Augmented/assets\n"
     ]
    },
    {
     "name": "stderr",
     "output_type": "stream",
     "text": [
      "INFO:tensorflow:Assets written to: Apple_Xception_model1_Based_Non_Augmented/assets\n"
     ]
    },
    {
     "name": "stdout",
     "output_type": "stream",
     "text": [
      "401/401 [==============================] - 56s 141ms/step - loss: 0.0801 - accuracy: 0.9797 - val_loss: 0.0333 - val_accuracy: 0.9913 - lr: 0.0010\n",
      "Epoch 5/100\n",
      "401/401 [==============================] - ETA: 0s - loss: 0.0576 - accuracy: 0.9860\n",
      "Epoch 5: val_accuracy did not improve from 0.99125\n",
      "401/401 [==============================] - 33s 83ms/step - loss: 0.0576 - accuracy: 0.9860 - val_loss: 0.1180 - val_accuracy: 0.9712 - lr: 0.0010\n",
      "Epoch 6/100\n",
      "401/401 [==============================] - ETA: 0s - loss: 0.0678 - accuracy: 0.9820\n",
      "Epoch 6: val_accuracy did not improve from 0.99125\n",
      "401/401 [==============================] - 33s 83ms/step - loss: 0.0678 - accuracy: 0.9820 - val_loss: 0.0374 - val_accuracy: 0.9902 - lr: 0.0010\n",
      "Epoch 7/100\n",
      "401/401 [==============================] - ETA: 0s - loss: 0.0502 - accuracy: 0.9845\n",
      "Epoch 7: val_accuracy improved from 0.99125 to 0.99279, saving model to Apple_Xception_model1_Based_Non_Augmented\n"
     ]
    },
    {
     "name": "stderr",
     "output_type": "stream",
     "text": [
      "WARNING:absl:Found untraced functions such as _jit_compiled_convolution_op, _jit_compiled_convolution_op, _jit_compiled_convolution_op, _jit_compiled_convolution_op, _jit_compiled_convolution_op while saving (showing 5 of 40). These functions will not be directly callable after loading.\n"
     ]
    },
    {
     "name": "stdout",
     "output_type": "stream",
     "text": [
      "INFO:tensorflow:Assets written to: Apple_Xception_model1_Based_Non_Augmented/assets\n"
     ]
    },
    {
     "name": "stderr",
     "output_type": "stream",
     "text": [
      "INFO:tensorflow:Assets written to: Apple_Xception_model1_Based_Non_Augmented/assets\n"
     ]
    },
    {
     "name": "stdout",
     "output_type": "stream",
     "text": [
      "401/401 [==============================] - 58s 144ms/step - loss: 0.0502 - accuracy: 0.9845 - val_loss: 0.0312 - val_accuracy: 0.9928 - lr: 0.0010\n",
      "Epoch 8/100\n",
      "401/401 [==============================] - ETA: 0s - loss: 0.0578 - accuracy: 0.9844\n",
      "Epoch 8: val_accuracy improved from 0.99279 to 0.99691, saving model to Apple_Xception_model1_Based_Non_Augmented\n"
     ]
    },
    {
     "name": "stderr",
     "output_type": "stream",
     "text": [
      "WARNING:absl:Found untraced functions such as _jit_compiled_convolution_op, _jit_compiled_convolution_op, _jit_compiled_convolution_op, _jit_compiled_convolution_op, _jit_compiled_convolution_op while saving (showing 5 of 40). These functions will not be directly callable after loading.\n"
     ]
    },
    {
     "name": "stdout",
     "output_type": "stream",
     "text": [
      "INFO:tensorflow:Assets written to: Apple_Xception_model1_Based_Non_Augmented/assets\n"
     ]
    },
    {
     "name": "stderr",
     "output_type": "stream",
     "text": [
      "INFO:tensorflow:Assets written to: Apple_Xception_model1_Based_Non_Augmented/assets\n"
     ]
    },
    {
     "name": "stdout",
     "output_type": "stream",
     "text": [
      "401/401 [==============================] - 57s 142ms/step - loss: 0.0578 - accuracy: 0.9844 - val_loss: 0.0150 - val_accuracy: 0.9969 - lr: 0.0010\n",
      "Epoch 9/100\n",
      "401/401 [==============================] - ETA: 0s - loss: 0.0254 - accuracy: 0.9926\n",
      "Epoch 9: val_accuracy improved from 0.99691 to 0.99743, saving model to Apple_Xception_model1_Based_Non_Augmented\n"
     ]
    },
    {
     "name": "stderr",
     "output_type": "stream",
     "text": [
      "WARNING:absl:Found untraced functions such as _jit_compiled_convolution_op, _jit_compiled_convolution_op, _jit_compiled_convolution_op, _jit_compiled_convolution_op, _jit_compiled_convolution_op while saving (showing 5 of 40). These functions will not be directly callable after loading.\n"
     ]
    },
    {
     "name": "stdout",
     "output_type": "stream",
     "text": [
      "INFO:tensorflow:Assets written to: Apple_Xception_model1_Based_Non_Augmented/assets\n"
     ]
    },
    {
     "name": "stderr",
     "output_type": "stream",
     "text": [
      "INFO:tensorflow:Assets written to: Apple_Xception_model1_Based_Non_Augmented/assets\n"
     ]
    },
    {
     "name": "stdout",
     "output_type": "stream",
     "text": [
      "401/401 [==============================] - 57s 142ms/step - loss: 0.0254 - accuracy: 0.9926 - val_loss: 0.0148 - val_accuracy: 0.9974 - lr: 0.0010\n",
      "Epoch 10/100\n",
      "401/401 [==============================] - ETA: 0s - loss: 0.0387 - accuracy: 0.9883\n",
      "Epoch 10: val_accuracy did not improve from 0.99743\n",
      "401/401 [==============================] - 33s 83ms/step - loss: 0.0387 - accuracy: 0.9883 - val_loss: 0.0234 - val_accuracy: 0.9918 - lr: 0.0010\n",
      "Epoch 11/100\n",
      "401/401 [==============================] - ETA: 0s - loss: 0.0289 - accuracy: 0.9918\n",
      "Epoch 11: val_accuracy did not improve from 0.99743\n",
      "401/401 [==============================] - 33s 83ms/step - loss: 0.0289 - accuracy: 0.9918 - val_loss: 0.6254 - val_accuracy: 0.8755 - lr: 0.0010\n",
      "Epoch 12/100\n",
      "401/401 [==============================] - ETA: 0s - loss: 0.0389 - accuracy: 0.9894\n",
      "Epoch 12: val_accuracy improved from 0.99743 to 0.99846, saving model to Apple_Xception_model1_Based_Non_Augmented\n"
     ]
    },
    {
     "name": "stderr",
     "output_type": "stream",
     "text": [
      "WARNING:absl:Found untraced functions such as _jit_compiled_convolution_op, _jit_compiled_convolution_op, _jit_compiled_convolution_op, _jit_compiled_convolution_op, _jit_compiled_convolution_op while saving (showing 5 of 40). These functions will not be directly callable after loading.\n"
     ]
    },
    {
     "name": "stdout",
     "output_type": "stream",
     "text": [
      "INFO:tensorflow:Assets written to: Apple_Xception_model1_Based_Non_Augmented/assets\n"
     ]
    },
    {
     "name": "stderr",
     "output_type": "stream",
     "text": [
      "INFO:tensorflow:Assets written to: Apple_Xception_model1_Based_Non_Augmented/assets\n"
     ]
    },
    {
     "name": "stdout",
     "output_type": "stream",
     "text": [
      "401/401 [==============================] - 56s 139ms/step - loss: 0.0389 - accuracy: 0.9894 - val_loss: 0.0033 - val_accuracy: 0.9985 - lr: 0.0010\n",
      "Epoch 13/100\n",
      "401/401 [==============================] - ETA: 0s - loss: 0.0345 - accuracy: 0.9904\n",
      "Epoch 13: val_accuracy did not improve from 0.99846\n",
      "401/401 [==============================] - 33s 82ms/step - loss: 0.0345 - accuracy: 0.9904 - val_loss: 0.5693 - val_accuracy: 0.8847 - lr: 0.0010\n",
      "Epoch 14/100\n",
      "401/401 [==============================] - ETA: 0s - loss: 0.0270 - accuracy: 0.9938\n",
      "Epoch 14: val_accuracy did not improve from 0.99846\n",
      "401/401 [==============================] - 34s 84ms/step - loss: 0.0270 - accuracy: 0.9938 - val_loss: 0.0142 - val_accuracy: 0.9964 - lr: 0.0010\n",
      "Epoch 15/100\n",
      "401/401 [==============================] - ETA: 0s - loss: 0.0424 - accuracy: 0.9865\n",
      "Epoch 15: val_accuracy did not improve from 0.99846\n",
      "401/401 [==============================] - 33s 83ms/step - loss: 0.0424 - accuracy: 0.9865 - val_loss: 0.0181 - val_accuracy: 0.9938 - lr: 0.0010\n",
      "Epoch 16/100\n",
      "401/401 [==============================] - ETA: 0s - loss: 0.0180 - accuracy: 0.9940\n",
      "Epoch 16: val_accuracy improved from 0.99846 to 0.99949, saving model to Apple_Xception_model1_Based_Non_Augmented\n"
     ]
    },
    {
     "name": "stderr",
     "output_type": "stream",
     "text": [
      "WARNING:absl:Found untraced functions such as _jit_compiled_convolution_op, _jit_compiled_convolution_op, _jit_compiled_convolution_op, _jit_compiled_convolution_op, _jit_compiled_convolution_op while saving (showing 5 of 40). These functions will not be directly callable after loading.\n"
     ]
    },
    {
     "name": "stdout",
     "output_type": "stream",
     "text": [
      "INFO:tensorflow:Assets written to: Apple_Xception_model1_Based_Non_Augmented/assets\n"
     ]
    },
    {
     "name": "stderr",
     "output_type": "stream",
     "text": [
      "INFO:tensorflow:Assets written to: Apple_Xception_model1_Based_Non_Augmented/assets\n"
     ]
    },
    {
     "name": "stdout",
     "output_type": "stream",
     "text": [
      "401/401 [==============================] - 57s 142ms/step - loss: 0.0180 - accuracy: 0.9940 - val_loss: 0.0029 - val_accuracy: 0.9995 - lr: 0.0010\n",
      "Epoch 17/100\n",
      "401/401 [==============================] - ETA: 0s - loss: 0.0271 - accuracy: 0.9924\n",
      "Epoch 17: val_accuracy did not improve from 0.99949\n",
      "401/401 [==============================] - 34s 84ms/step - loss: 0.0271 - accuracy: 0.9924 - val_loss: 0.0083 - val_accuracy: 0.9990 - lr: 0.0010\n",
      "Epoch 18/100\n",
      "401/401 [==============================] - ETA: 0s - loss: 0.0269 - accuracy: 0.9925\n",
      "Epoch 18: val_accuracy did not improve from 0.99949\n",
      "401/401 [==============================] - 34s 83ms/step - loss: 0.0269 - accuracy: 0.9925 - val_loss: 0.0132 - val_accuracy: 0.9959 - lr: 0.0010\n",
      "Epoch 19/100\n",
      "401/401 [==============================] - ETA: 0s - loss: 0.0252 - accuracy: 0.9940\n",
      "Epoch 19: val_accuracy did not improve from 0.99949\n",
      "401/401 [==============================] - 33s 83ms/step - loss: 0.0252 - accuracy: 0.9940 - val_loss: 0.0494 - val_accuracy: 0.9820 - lr: 0.0010\n",
      "Epoch 20/100\n",
      "401/401 [==============================] - ETA: 0s - loss: 0.0160 - accuracy: 0.9950\n",
      "Epoch 20: val_accuracy did not improve from 0.99949\n",
      "401/401 [==============================] - 33s 83ms/step - loss: 0.0160 - accuracy: 0.9950 - val_loss: 0.0818 - val_accuracy: 0.9851 - lr: 0.0010\n",
      "Epoch 21/100\n",
      "401/401 [==============================] - ETA: 0s - loss: 0.0253 - accuracy: 0.9929\n",
      "Epoch 21: val_accuracy did not improve from 0.99949\n",
      "\n",
      "Epoch 21: ReduceLROnPlateau reducing learning rate to 0.00010000000474974513.\n",
      "401/401 [==============================] - 33s 83ms/step - loss: 0.0253 - accuracy: 0.9929 - val_loss: 0.0045 - val_accuracy: 0.9985 - lr: 0.0010\n",
      "Epoch 22/100\n",
      "401/401 [==============================] - ETA: 0s - loss: 0.0084 - accuracy: 0.9978\n",
      "Epoch 22: val_accuracy did not improve from 0.99949\n",
      "401/401 [==============================] - 33s 83ms/step - loss: 0.0084 - accuracy: 0.9978 - val_loss: 9.3348e-04 - val_accuracy: 0.9995 - lr: 1.0000e-04\n",
      "Epoch 23/100\n",
      "401/401 [==============================] - ETA: 0s - loss: 0.0040 - accuracy: 0.9981\n",
      "Epoch 23: val_accuracy improved from 0.99949 to 1.00000, saving model to Apple_Xception_model1_Based_Non_Augmented\n"
     ]
    },
    {
     "name": "stderr",
     "output_type": "stream",
     "text": [
      "WARNING:absl:Found untraced functions such as _jit_compiled_convolution_op, _jit_compiled_convolution_op, _jit_compiled_convolution_op, _jit_compiled_convolution_op, _jit_compiled_convolution_op while saving (showing 5 of 40). These functions will not be directly callable after loading.\n"
     ]
    },
    {
     "name": "stdout",
     "output_type": "stream",
     "text": [
      "INFO:tensorflow:Assets written to: Apple_Xception_model1_Based_Non_Augmented/assets\n"
     ]
    },
    {
     "name": "stderr",
     "output_type": "stream",
     "text": [
      "INFO:tensorflow:Assets written to: Apple_Xception_model1_Based_Non_Augmented/assets\n"
     ]
    },
    {
     "name": "stdout",
     "output_type": "stream",
     "text": [
      "401/401 [==============================] - 56s 140ms/step - loss: 0.0040 - accuracy: 0.9981 - val_loss: 3.3869e-04 - val_accuracy: 1.0000 - lr: 1.0000e-04\n",
      "Epoch 24/100\n",
      "401/401 [==============================] - ETA: 0s - loss: 0.0019 - accuracy: 0.9994\n",
      "Epoch 24: val_accuracy did not improve from 1.00000\n",
      "401/401 [==============================] - 33s 82ms/step - loss: 0.0019 - accuracy: 0.9994 - val_loss: 2.4978e-04 - val_accuracy: 1.0000 - lr: 1.0000e-04\n",
      "Epoch 25/100\n",
      "401/401 [==============================] - ETA: 0s - loss: 0.0011 - accuracy: 0.9998\n",
      "Epoch 25: val_accuracy did not improve from 1.00000\n",
      "401/401 [==============================] - 33s 83ms/step - loss: 0.0011 - accuracy: 0.9998 - val_loss: 2.5373e-04 - val_accuracy: 1.0000 - lr: 1.0000e-04\n",
      "Epoch 26/100\n",
      "401/401 [==============================] - ETA: 0s - loss: 8.8397e-04 - accuracy: 0.9996\n",
      "Epoch 26: val_accuracy did not improve from 1.00000\n",
      "401/401 [==============================] - 34s 84ms/step - loss: 8.8397e-04 - accuracy: 0.9996 - val_loss: 1.6992e-04 - val_accuracy: 1.0000 - lr: 1.0000e-04\n",
      "Epoch 27/100\n",
      "401/401 [==============================] - ETA: 0s - loss: 0.0016 - accuracy: 0.9995\n",
      "Epoch 27: val_accuracy did not improve from 1.00000\n",
      "401/401 [==============================] - 33s 83ms/step - loss: 0.0016 - accuracy: 0.9995 - val_loss: 3.7089e-04 - val_accuracy: 1.0000 - lr: 1.0000e-04\n",
      "Epoch 28/100\n",
      "401/401 [==============================] - ETA: 0s - loss: 5.2564e-04 - accuracy: 0.9999\n",
      "Epoch 28: val_accuracy did not improve from 1.00000\n",
      "401/401 [==============================] - 33s 83ms/step - loss: 5.2564e-04 - accuracy: 0.9999 - val_loss: 2.7410e-04 - val_accuracy: 1.0000 - lr: 1.0000e-04\n",
      "Epoch 29/100\n",
      "401/401 [==============================] - ETA: 0s - loss: 9.2370e-04 - accuracy: 0.9999\n",
      "Epoch 29: val_accuracy did not improve from 1.00000\n",
      "401/401 [==============================] - 34s 84ms/step - loss: 9.2370e-04 - accuracy: 0.9999 - val_loss: 1.4838e-04 - val_accuracy: 1.0000 - lr: 1.0000e-04\n",
      "Epoch 30/100\n",
      "401/401 [==============================] - ETA: 0s - loss: 0.0010 - accuracy: 0.9995\n",
      "Epoch 30: val_accuracy did not improve from 1.00000\n",
      "401/401 [==============================] - 34s 84ms/step - loss: 0.0010 - accuracy: 0.9995 - val_loss: 5.5901e-04 - val_accuracy: 1.0000 - lr: 1.0000e-04\n",
      "Epoch 31/100\n",
      "401/401 [==============================] - ETA: 0s - loss: 3.7168e-04 - accuracy: 1.0000\n",
      "Epoch 31: val_accuracy did not improve from 1.00000\n",
      "\n",
      "Epoch 31: ReduceLROnPlateau reducing learning rate to 1.0000000474974514e-05.\n",
      "401/401 [==============================] - 33s 82ms/step - loss: 3.7168e-04 - accuracy: 1.0000 - val_loss: 4.0241e-04 - val_accuracy: 1.0000 - lr: 1.0000e-04\n",
      "Epoch 32/100\n",
      "401/401 [==============================] - ETA: 0s - loss: 3.5487e-04 - accuracy: 0.9999\n",
      "Epoch 32: val_accuracy did not improve from 1.00000\n",
      "401/401 [==============================] - 33s 83ms/step - loss: 3.5487e-04 - accuracy: 0.9999 - val_loss: 5.2717e-04 - val_accuracy: 1.0000 - lr: 1.0000e-05\n",
      "Epoch 33/100\n",
      "401/401 [==============================] - ETA: 0s - loss: 9.4053e-04 - accuracy: 0.9996\n",
      "Epoch 33: val_accuracy did not improve from 1.00000\n",
      "401/401 [==============================] - 33s 83ms/step - loss: 9.4053e-04 - accuracy: 0.9996 - val_loss: 5.7583e-04 - val_accuracy: 1.0000 - lr: 1.0000e-05\n",
      "Epoch 34/100\n",
      "401/401 [==============================] - ETA: 0s - loss: 2.6464e-04 - accuracy: 0.9999\n",
      "Epoch 34: val_accuracy did not improve from 1.00000\n",
      "401/401 [==============================] - 33s 83ms/step - loss: 2.6464e-04 - accuracy: 0.9999 - val_loss: 6.0468e-04 - val_accuracy: 0.9995 - lr: 1.0000e-05\n",
      "Epoch 35/100\n",
      "401/401 [==============================] - ETA: 0s - loss: 3.5763e-04 - accuracy: 0.9998\n",
      "Epoch 35: val_accuracy did not improve from 1.00000\n",
      "401/401 [==============================] - 33s 83ms/step - loss: 3.5763e-04 - accuracy: 0.9998 - val_loss: 7.6802e-04 - val_accuracy: 0.9995 - lr: 1.0000e-05\n",
      "Epoch 36/100\n",
      "401/401 [==============================] - ETA: 0s - loss: 9.3116e-05 - accuracy: 1.0000\n",
      "Epoch 36: val_accuracy did not improve from 1.00000\n",
      "\n",
      "Epoch 36: ReduceLROnPlateau reducing learning rate to 1.0000000656873453e-06.\n",
      "401/401 [==============================] - 33s 82ms/step - loss: 9.3116e-05 - accuracy: 1.0000 - val_loss: 5.6590e-04 - val_accuracy: 0.9995 - lr: 1.0000e-05\n",
      "Epoch 37/100\n",
      "401/401 [==============================] - ETA: 0s - loss: 6.3300e-04 - accuracy: 0.9998\n",
      "Epoch 37: val_accuracy did not improve from 1.00000\n",
      "401/401 [==============================] - 33s 83ms/step - loss: 6.3300e-04 - accuracy: 0.9998 - val_loss: 4.5749e-04 - val_accuracy: 1.0000 - lr: 1.0000e-06\n",
      "Epoch 38/100\n",
      "401/401 [==============================] - ETA: 0s - loss: 2.5765e-04 - accuracy: 1.0000\n",
      "Epoch 38: val_accuracy did not improve from 1.00000\n",
      "401/401 [==============================] - 34s 84ms/step - loss: 2.5765e-04 - accuracy: 1.0000 - val_loss: 5.3310e-04 - val_accuracy: 1.0000 - lr: 1.0000e-06\n",
      "Epoch 39/100\n",
      "401/401 [==============================] - ETA: 0s - loss: 4.4068e-04 - accuracy: 0.9999\n",
      "Epoch 39: val_accuracy did not improve from 1.00000\n",
      "401/401 [==============================] - 33s 83ms/step - loss: 4.4068e-04 - accuracy: 0.9999 - val_loss: 3.7432e-04 - val_accuracy: 1.0000 - lr: 1.0000e-06\n",
      "Epoch 40/100\n",
      "401/401 [==============================] - ETA: 0s - loss: 4.0416e-04 - accuracy: 0.9999\n",
      "Epoch 40: val_accuracy did not improve from 1.00000\n",
      "401/401 [==============================] - 34s 84ms/step - loss: 4.0416e-04 - accuracy: 0.9999 - val_loss: 4.1339e-04 - val_accuracy: 1.0000 - lr: 1.0000e-06\n",
      "Epoch 41/100\n",
      "401/401 [==============================] - ETA: 0s - loss: 3.4022e-04 - accuracy: 0.9999\n",
      "Epoch 41: val_accuracy did not improve from 1.00000\n",
      "\n",
      "Epoch 41: ReduceLROnPlateau reducing learning rate to 1.0000001111620805e-07.\n",
      "401/401 [==============================] - 33s 83ms/step - loss: 3.4022e-04 - accuracy: 0.9999 - val_loss: 5.4358e-04 - val_accuracy: 0.9995 - lr: 1.0000e-06\n",
      "Epoch 42/100\n",
      "401/401 [==============================] - ETA: 0s - loss: 1.2588e-04 - accuracy: 1.0000\n",
      "Epoch 42: val_accuracy did not improve from 1.00000\n",
      "401/401 [==============================] - 33s 83ms/step - loss: 1.2588e-04 - accuracy: 1.0000 - val_loss: 4.7339e-04 - val_accuracy: 1.0000 - lr: 1.0000e-07\n",
      "Epoch 43/100\n",
      "401/401 [==============================] - ETA: 0s - loss: 4.1668e-04 - accuracy: 0.9999\n",
      "Epoch 43: val_accuracy did not improve from 1.00000\n",
      "Restoring model weights from the end of the best epoch: 23.\n",
      "401/401 [==============================] - 34s 84ms/step - loss: 4.1668e-04 - accuracy: 0.9999 - val_loss: 6.2988e-04 - val_accuracy: 0.9995 - lr: 1.0000e-07\n",
      "Epoch 43: early stopping\n"
     ]
    }
   ],
   "source": [
    "# Define the number of epochs\n",
    "num_epochs = 100\n",
    "\n",
    "# Train the model\n",
    "history_Xception_model_1 = Xception1_model.fit(train_generator, epochs=num_epochs, validation_data=validation_generator, callbacks=callbacks)"
   ]
  },
  {
   "cell_type": "code",
   "execution_count": 14,
   "metadata": {
    "colab": {
     "base_uri": "https://localhost:8080/",
     "height": 904
    },
    "executionInfo": {
     "elapsed": 6044,
     "status": "ok",
     "timestamp": 1684909137248,
     "user": {
      "displayName": "Ahmad Habib Hasan Zein",
      "userId": "06743622963259718983"
     },
     "user_tz": -420
    },
    "id": "qyNHvaPp9ZDe",
    "outputId": "ac5d6bc8-9ab3-401c-e129-a1bad26af7fe",
    "tags": []
   },
   "outputs": [
    {
     "data": {
      "text/plain": [
       "Text(0.5, 1.0, 'Training and validation loss DIY Model')"
      ]
     },
     "execution_count": 14,
     "metadata": {},
     "output_type": "execute_result"
    },
    {
     "data": {
      "image/png": "[encoded data removed]",
      "text/plain": [
       "<Figure size 640x480 with 1 Axes>"
      ]
     },
     "metadata": {},
     "output_type": "display_data"
    },
    {
     "data": {
      "image/png": "[encoded data removed]",
      "text/plain": [
       "<Figure size 640x480 with 1 Axes>"
      ]
     },
     "metadata": {},
     "output_type": "display_data"
    }
   ],
   "source": [
    "#-----------------------------------------------------------\n",
    "# Retrieve a list of list results on training and test data\n",
    "# sets for each training epoch\n",
    "#-----------------------------------------------------------\n",
    "acc      = history_Xception_model_1.history['accuracy' ]\n",
    "val_acc  = history_Xception_model_1.history['val_accuracy' ]\n",
    "loss     = history_Xception_model_1.history['loss' ]\n",
    "val_loss = history_Xception_model_1.history['val_loss' ]\n",
    "\n",
    "epochs   = range(len(acc)) # Get number of epochs\n",
    "\n",
    "#------------------------------------------------\n",
    "# Plot training and validation accuracy per epoch\n",
    "#------------------------------------------------\n",
    "plt.plot  (epochs, acc )\n",
    "plt.plot  (epochs, val_acc )\n",
    "plt.title ('Training and validation accuracy DIY Model')\n",
    "plt.figure()\n",
    "\n",
    "#------------------------------------------------\n",
    "# Plot training and validation loss per epoch\n",
    "#------------------------------------------------\n",
    "plt.plot  (epochs, loss)\n",
    "plt.plot  (epochs, val_loss)\n",
    "plt.title ('Training and validation loss DIY Model')"
   ]
  },
  {
   "cell_type": "markdown",
   "metadata": {
    "id": "zgFuXnJ69ZDe"
   },
   "source": [
    "## Xception Model 2"
   ]
  },
  {
   "cell_type": "code",
   "execution_count": 15,
   "metadata": {
    "executionInfo": {
     "elapsed": 1,
     "status": "ok",
     "timestamp": 1684909177590,
     "user": {
      "displayName": "Ahmad Habib Hasan Zein",
      "userId": "06743622963259718983"
     },
     "user_tz": -420
    },
    "id": "gYUOFKFA9ZDe",
    "tags": []
   },
   "outputs": [],
   "source": [
    "# Difine the callbacks\n",
    "# Save the best model\n",
    "checkpoint_callback = ModelCheckpoint(filepath=\"Apple_Xception_model2_Based_Non_Augmented\", save_best_only=True, monitor=\"val_accuracy\", mode=\"max\", verbose=1)\n",
    "\n",
    "# Early stopping\n",
    "early_stopping_callback = EarlyStopping(monitor=\"val_accuracy\", mode=\"max\", patience=20, verbose=1, restore_best_weights=True)\n",
    "\n",
    "# Reduce learning rate\n",
    "reduce_lr_callback = ReduceLROnPlateau(monitor=\"val_loss\", factor=0.1, patience=5, verbose=1, mode=\"min\", min_delta=0.0001, cooldown=0, min_lr=0)\n",
    "\n",
    "# Callbacks list\n",
    "callbacks=[checkpoint_callback, early_stopping_callback, reduce_lr_callback]"
   ]
  },
  {
   "cell_type": "code",
   "execution_count": 16,
   "metadata": {
    "colab": {
     "base_uri": "https://localhost:8080/"
    },
    "executionInfo": {
     "elapsed": 1967,
     "status": "ok",
     "timestamp": 1684909180825,
     "user": {
      "displayName": "Ahmad Habib Hasan Zein",
      "userId": "06743622963259718983"
     },
     "user_tz": -420
    },
    "id": "KJ7oNCnY9ZDe",
    "outputId": "8c5c2fde-9f30-4fba-8912-520c10fef04e",
    "tags": []
   },
   "outputs": [
    {
     "name": "stdout",
     "output_type": "stream",
     "text": [
      "Model: \"sequential_1\"\n",
      "_________________________________________________________________\n",
      " Layer (type)                Output Shape              Param #   \n",
      "=================================================================\n",
      " xception (Functional)       (None, 7, 7, 2048)        20861480  \n",
      "                                                                 \n",
      " global_average_pooling2d (G  (None, 2048)             0         \n",
      " lobalAveragePooling2D)                                          \n",
      "                                                                 \n",
      " dropout_1 (Dropout)         (None, 2048)              0         \n",
      "                                                                 \n",
      " dense_2 (Dense)             (None, 256)               524544    \n",
      "                                                                 \n",
      " dense_3 (Dense)             (None, 4)                 1028      \n",
      "                                                                 \n",
      "=================================================================\n",
      "Total params: 21,387,052\n",
      "Trainable params: 21,332,524\n",
      "Non-trainable params: 54,528\n",
      "_________________________________________________________________\n"
     ]
    }
   ],
   "source": [
    "# Define Model\n",
    "Xception_model_2 = tf.keras.models.Sequential([\n",
    "    # Xception Layer\n",
    "    Xception(include_top=False,weights='imagenet',input_shape=(224, 224, 3)),\n",
    "    # Global Average Pooling Layer\n",
    "    tf.keras.layers.GlobalAveragePooling2D(),\n",
    "    # Drop Out Layer\n",
    "    tf.keras.layers.Dropout(0.2),\n",
    "    # 256 neuron hidden layer\n",
    "    tf.keras.layers.Dense(256, activation='relu'),\n",
    "    # Output\n",
    "    tf.keras.layers.Dense(4, activation='softmax') \n",
    "  ])\n",
    "\n",
    "\n",
    "# Compile Model\n",
    "Xception_model_2.compile(loss='categorical_crossentropy',optimizer=tf.keras.optimizers.Adam(), metrics=['accuracy']) \n",
    "\n",
    "# Model Summary\n",
    "Xception_model_2.summary()"
   ]
  },
  {
   "cell_type": "code",
   "execution_count": 17,
   "metadata": {
    "colab": {
     "base_uri": "https://localhost:8080/"
    },
    "executionInfo": {
     "elapsed": 5698206,
     "status": "ok",
     "timestamp": 1684914879028,
     "user": {
      "displayName": "Ahmad Habib Hasan Zein",
      "userId": "06743622963259718983"
     },
     "user_tz": -420
    },
    "id": "oXCBSPm89ZDf",
    "outputId": "7a2003ca-e112-4540-b9ae-f0b84dda78ea",
    "tags": []
   },
   "outputs": [
    {
     "name": "stdout",
     "output_type": "stream",
     "text": [
      "Epoch 1/100\n",
      "401/401 [==============================] - ETA: 0s - loss: 0.2444 - accuracy: 0.9291\n",
      "Epoch 1: val_accuracy improved from -inf to 0.98353, saving model to Apple_Xception_model2_Based_Non_Augmented\n"
     ]
    },
    {
     "name": "stderr",
     "output_type": "stream",
     "text": [
      "WARNING:absl:Found untraced functions such as _jit_compiled_convolution_op, _jit_compiled_convolution_op, _jit_compiled_convolution_op, _jit_compiled_convolution_op, _jit_compiled_convolution_op while saving (showing 5 of 40). These functions will not be directly callable after loading.\n"
     ]
    },
    {
     "name": "stdout",
     "output_type": "stream",
     "text": [
      "INFO:tensorflow:Assets written to: Apple_Xception_model2_Based_Non_Augmented/assets\n"
     ]
    },
    {
     "name": "stderr",
     "output_type": "stream",
     "text": [
      "INFO:tensorflow:Assets written to: Apple_Xception_model2_Based_Non_Augmented/assets\n"
     ]
    },
    {
     "name": "stdout",
     "output_type": "stream",
     "text": [
      "401/401 [==============================] - 87s 149ms/step - loss: 0.2444 - accuracy: 0.9291 - val_loss: 0.0616 - val_accuracy: 0.9835 - lr: 0.0010\n",
      "Epoch 2/100\n",
      "401/401 [==============================] - ETA: 0s - loss: 0.0999 - accuracy: 0.9713\n",
      "Epoch 2: val_accuracy did not improve from 0.98353\n",
      "401/401 [==============================] - 34s 84ms/step - loss: 0.0999 - accuracy: 0.9713 - val_loss: 0.0583 - val_accuracy: 0.9835 - lr: 0.0010\n",
      "Epoch 3/100\n",
      "401/401 [==============================] - ETA: 0s - loss: 0.0546 - accuracy: 0.9814\n",
      "Epoch 3: val_accuracy improved from 0.98353 to 0.99022, saving model to Apple_Xception_model2_Based_Non_Augmented\n"
     ]
    },
    {
     "name": "stderr",
     "output_type": "stream",
     "text": [
      "WARNING:absl:Found untraced functions such as _jit_compiled_convolution_op, _jit_compiled_convolution_op, _jit_compiled_convolution_op, _jit_compiled_convolution_op, _jit_compiled_convolution_op while saving (showing 5 of 40). These functions will not be directly callable after loading.\n"
     ]
    },
    {
     "name": "stdout",
     "output_type": "stream",
     "text": [
      "INFO:tensorflow:Assets written to: Apple_Xception_model2_Based_Non_Augmented/assets\n"
     ]
    },
    {
     "name": "stderr",
     "output_type": "stream",
     "text": [
      "INFO:tensorflow:Assets written to: Apple_Xception_model2_Based_Non_Augmented/assets\n"
     ]
    },
    {
     "name": "stdout",
     "output_type": "stream",
     "text": [
      "401/401 [==============================] - 58s 144ms/step - loss: 0.0546 - accuracy: 0.9814 - val_loss: 0.0317 - val_accuracy: 0.9902 - lr: 0.0010\n",
      "Epoch 4/100\n",
      "401/401 [==============================] - ETA: 0s - loss: 0.0506 - accuracy: 0.9848\n",
      "Epoch 4: val_accuracy improved from 0.99022 to 0.99434, saving model to Apple_Xception_model2_Based_Non_Augmented\n"
     ]
    },
    {
     "name": "stderr",
     "output_type": "stream",
     "text": [
      "WARNING:absl:Found untraced functions such as _jit_compiled_convolution_op, _jit_compiled_convolution_op, _jit_compiled_convolution_op, _jit_compiled_convolution_op, _jit_compiled_convolution_op while saving (showing 5 of 40). These functions will not be directly callable after loading.\n"
     ]
    },
    {
     "name": "stdout",
     "output_type": "stream",
     "text": [
      "INFO:tensorflow:Assets written to: Apple_Xception_model2_Based_Non_Augmented/assets\n"
     ]
    },
    {
     "name": "stderr",
     "output_type": "stream",
     "text": [
      "INFO:tensorflow:Assets written to: Apple_Xception_model2_Based_Non_Augmented/assets\n"
     ]
    },
    {
     "name": "stdout",
     "output_type": "stream",
     "text": [
      "401/401 [==============================] - 58s 144ms/step - loss: 0.0506 - accuracy: 0.9848 - val_loss: 0.0241 - val_accuracy: 0.9943 - lr: 0.0010\n",
      "Epoch 5/100\n",
      "401/401 [==============================] - ETA: 0s - loss: 0.0453 - accuracy: 0.9858\n",
      "Epoch 5: val_accuracy did not improve from 0.99434\n",
      "401/401 [==============================] - 33s 83ms/step - loss: 0.0453 - accuracy: 0.9858 - val_loss: 0.0671 - val_accuracy: 0.9835 - lr: 0.0010\n",
      "Epoch 6/100\n",
      "401/401 [==============================] - ETA: 0s - loss: 0.0754 - accuracy: 0.9773\n",
      "Epoch 6: val_accuracy improved from 0.99434 to 0.99537, saving model to Apple_Xception_model2_Based_Non_Augmented\n"
     ]
    },
    {
     "name": "stderr",
     "output_type": "stream",
     "text": [
      "WARNING:absl:Found untraced functions such as _jit_compiled_convolution_op, _jit_compiled_convolution_op, _jit_compiled_convolution_op, _jit_compiled_convolution_op, _jit_compiled_convolution_op while saving (showing 5 of 40). These functions will not be directly callable after loading.\n"
     ]
    },
    {
     "name": "stdout",
     "output_type": "stream",
     "text": [
      "INFO:tensorflow:Assets written to: Apple_Xception_model2_Based_Non_Augmented/assets\n"
     ]
    },
    {
     "name": "stderr",
     "output_type": "stream",
     "text": [
      "INFO:tensorflow:Assets written to: Apple_Xception_model2_Based_Non_Augmented/assets\n"
     ]
    },
    {
     "name": "stdout",
     "output_type": "stream",
     "text": [
      "401/401 [==============================] - 57s 142ms/step - loss: 0.0754 - accuracy: 0.9773 - val_loss: 0.0225 - val_accuracy: 0.9954 - lr: 0.0010\n",
      "Epoch 7/100\n",
      "401/401 [==============================] - ETA: 0s - loss: 0.0336 - accuracy: 0.9893\n",
      "Epoch 7: val_accuracy improved from 0.99537 to 0.99846, saving model to Apple_Xception_model2_Based_Non_Augmented\n"
     ]
    },
    {
     "name": "stderr",
     "output_type": "stream",
     "text": [
      "WARNING:absl:Found untraced functions such as _jit_compiled_convolution_op, _jit_compiled_convolution_op, _jit_compiled_convolution_op, _jit_compiled_convolution_op, _jit_compiled_convolution_op while saving (showing 5 of 40). These functions will not be directly callable after loading.\n"
     ]
    },
    {
     "name": "stdout",
     "output_type": "stream",
     "text": [
      "INFO:tensorflow:Assets written to: Apple_Xception_model2_Based_Non_Augmented/assets\n"
     ]
    },
    {
     "name": "stderr",
     "output_type": "stream",
     "text": [
      "INFO:tensorflow:Assets written to: Apple_Xception_model2_Based_Non_Augmented/assets\n"
     ]
    },
    {
     "name": "stdout",
     "output_type": "stream",
     "text": [
      "401/401 [==============================] - 58s 144ms/step - loss: 0.0336 - accuracy: 0.9893 - val_loss: 0.0051 - val_accuracy: 0.9985 - lr: 0.0010\n",
      "Epoch 8/100\n",
      "401/401 [==============================] - ETA: 0s - loss: 0.0398 - accuracy: 0.9885\n",
      "Epoch 8: val_accuracy improved from 0.99846 to 0.99949, saving model to Apple_Xception_model2_Based_Non_Augmented\n"
     ]
    },
    {
     "name": "stderr",
     "output_type": "stream",
     "text": [
      "WARNING:absl:Found untraced functions such as _jit_compiled_convolution_op, _jit_compiled_convolution_op, _jit_compiled_convolution_op, _jit_compiled_convolution_op, _jit_compiled_convolution_op while saving (showing 5 of 40). These functions will not be directly callable after loading.\n"
     ]
    },
    {
     "name": "stdout",
     "output_type": "stream",
     "text": [
      "INFO:tensorflow:Assets written to: Apple_Xception_model2_Based_Non_Augmented/assets\n"
     ]
    },
    {
     "name": "stderr",
     "output_type": "stream",
     "text": [
      "INFO:tensorflow:Assets written to: Apple_Xception_model2_Based_Non_Augmented/assets\n"
     ]
    },
    {
     "name": "stdout",
     "output_type": "stream",
     "text": [
      "401/401 [==============================] - 56s 140ms/step - loss: 0.0398 - accuracy: 0.9885 - val_loss: 0.0054 - val_accuracy: 0.9995 - lr: 0.0010\n",
      "Epoch 9/100\n",
      "401/401 [==============================] - ETA: 0s - loss: 0.0211 - accuracy: 0.9930\n",
      "Epoch 9: val_accuracy did not improve from 0.99949\n",
      "401/401 [==============================] - 33s 83ms/step - loss: 0.0211 - accuracy: 0.9930 - val_loss: 0.0512 - val_accuracy: 0.9835 - lr: 0.0010\n",
      "Epoch 10/100\n",
      "401/401 [==============================] - ETA: 0s - loss: 0.0439 - accuracy: 0.9884\n",
      "Epoch 10: val_accuracy did not improve from 0.99949\n",
      "401/401 [==============================] - 34s 83ms/step - loss: 0.0439 - accuracy: 0.9884 - val_loss: 0.0049 - val_accuracy: 0.9990 - lr: 0.0010\n",
      "Epoch 11/100\n",
      "401/401 [==============================] - ETA: 0s - loss: 0.0196 - accuracy: 0.9930\n",
      "Epoch 11: val_accuracy did not improve from 0.99949\n",
      "401/401 [==============================] - 33s 83ms/step - loss: 0.0196 - accuracy: 0.9930 - val_loss: 0.0177 - val_accuracy: 0.9964 - lr: 0.0010\n",
      "Epoch 12/100\n",
      "401/401 [==============================] - ETA: 0s - loss: 0.0264 - accuracy: 0.9910\n",
      "Epoch 12: val_accuracy did not improve from 0.99949\n",
      "401/401 [==============================] - 33s 83ms/step - loss: 0.0264 - accuracy: 0.9910 - val_loss: 0.0018 - val_accuracy: 0.9995 - lr: 0.0010\n",
      "Epoch 13/100\n",
      "401/401 [==============================] - ETA: 0s - loss: 0.0424 - accuracy: 0.9869\n",
      "Epoch 13: val_accuracy did not improve from 0.99949\n",
      "401/401 [==============================] - 34s 84ms/step - loss: 0.0424 - accuracy: 0.9869 - val_loss: 0.5429 - val_accuracy: 0.8322 - lr: 0.0010\n",
      "Epoch 14/100\n",
      "401/401 [==============================] - ETA: 0s - loss: 0.0270 - accuracy: 0.9918\n",
      "Epoch 14: val_accuracy did not improve from 0.99949\n",
      "401/401 [==============================] - 33s 82ms/step - loss: 0.0270 - accuracy: 0.9918 - val_loss: 0.0503 - val_accuracy: 0.9856 - lr: 0.0010\n",
      "Epoch 15/100\n",
      "401/401 [==============================] - ETA: 0s - loss: 0.0122 - accuracy: 0.9963\n",
      "Epoch 15: val_accuracy did not improve from 0.99949\n",
      "401/401 [==============================] - 34s 84ms/step - loss: 0.0122 - accuracy: 0.9963 - val_loss: 0.0022 - val_accuracy: 0.9990 - lr: 0.0010\n",
      "Epoch 16/100\n",
      "401/401 [==============================] - ETA: 0s - loss: 0.0269 - accuracy: 0.9921\n",
      "Epoch 16: val_accuracy did not improve from 0.99949\n",
      "401/401 [==============================] - 33s 83ms/step - loss: 0.0269 - accuracy: 0.9921 - val_loss: 0.0369 - val_accuracy: 0.9876 - lr: 0.0010\n",
      "Epoch 17/100\n",
      "401/401 [==============================] - ETA: 0s - loss: 0.0135 - accuracy: 0.9954\n",
      "Epoch 17: val_accuracy did not improve from 0.99949\n",
      "\n",
      "Epoch 17: ReduceLROnPlateau reducing learning rate to 0.00010000000474974513.\n",
      "401/401 [==============================] - 33s 83ms/step - loss: 0.0135 - accuracy: 0.9954 - val_loss: 0.0050 - val_accuracy: 0.9990 - lr: 0.0010\n",
      "Epoch 18/100\n",
      "401/401 [==============================] - ETA: 0s - loss: 0.0035 - accuracy: 0.9994\n",
      "Epoch 18: val_accuracy improved from 0.99949 to 1.00000, saving model to Apple_Xception_model2_Based_Non_Augmented\n"
     ]
    },
    {
     "name": "stderr",
     "output_type": "stream",
     "text": [
      "WARNING:absl:Found untraced functions such as _jit_compiled_convolution_op, _jit_compiled_convolution_op, _jit_compiled_convolution_op, _jit_compiled_convolution_op, _jit_compiled_convolution_op while saving (showing 5 of 40). These functions will not be directly callable after loading.\n"
     ]
    },
    {
     "name": "stdout",
     "output_type": "stream",
     "text": [
      "INFO:tensorflow:Assets written to: Apple_Xception_model2_Based_Non_Augmented/assets\n"
     ]
    },
    {
     "name": "stderr",
     "output_type": "stream",
     "text": [
      "INFO:tensorflow:Assets written to: Apple_Xception_model2_Based_Non_Augmented/assets\n"
     ]
    },
    {
     "name": "stdout",
     "output_type": "stream",
     "text": [
      "401/401 [==============================] - 56s 140ms/step - loss: 0.0035 - accuracy: 0.9994 - val_loss: 6.2626e-04 - val_accuracy: 1.0000 - lr: 1.0000e-04\n",
      "Epoch 19/100\n",
      "401/401 [==============================] - ETA: 0s - loss: 0.0020 - accuracy: 0.9996\n",
      "Epoch 19: val_accuracy did not improve from 1.00000\n",
      "401/401 [==============================] - 33s 82ms/step - loss: 0.0020 - accuracy: 0.9996 - val_loss: 4.2455e-04 - val_accuracy: 1.0000 - lr: 1.0000e-04\n",
      "Epoch 20/100\n",
      "401/401 [==============================] - ETA: 0s - loss: 0.0021 - accuracy: 0.9995\n",
      "Epoch 20: val_accuracy did not improve from 1.00000\n",
      "401/401 [==============================] - 34s 84ms/step - loss: 0.0021 - accuracy: 0.9995 - val_loss: 5.2225e-04 - val_accuracy: 1.0000 - lr: 1.0000e-04\n",
      "Epoch 21/100\n",
      "401/401 [==============================] - ETA: 0s - loss: 0.0011 - accuracy: 0.9999\n",
      "Epoch 21: val_accuracy did not improve from 1.00000\n",
      "401/401 [==============================] - 33s 83ms/step - loss: 0.0011 - accuracy: 0.9999 - val_loss: 2.4449e-04 - val_accuracy: 1.0000 - lr: 1.0000e-04\n",
      "Epoch 22/100\n",
      "401/401 [==============================] - ETA: 0s - loss: 0.0010 - accuracy: 0.9996\n",
      "Epoch 22: val_accuracy did not improve from 1.00000\n",
      "401/401 [==============================] - 33s 83ms/step - loss: 0.0010 - accuracy: 0.9996 - val_loss: 1.5181e-04 - val_accuracy: 1.0000 - lr: 1.0000e-04\n",
      "Epoch 23/100\n",
      "401/401 [==============================] - ETA: 0s - loss: 8.3013e-04 - accuracy: 0.9998\n",
      "Epoch 23: val_accuracy did not improve from 1.00000\n",
      "401/401 [==============================] - 33s 83ms/step - loss: 8.3013e-04 - accuracy: 0.9998 - val_loss: 9.8318e-05 - val_accuracy: 1.0000 - lr: 1.0000e-04\n",
      "Epoch 24/100\n",
      "401/401 [==============================] - ETA: 0s - loss: 9.5668e-04 - accuracy: 0.9999\n",
      "Epoch 24: val_accuracy did not improve from 1.00000\n",
      "401/401 [==============================] - 33s 82ms/step - loss: 9.5668e-04 - accuracy: 0.9999 - val_loss: 3.0344e-04 - val_accuracy: 1.0000 - lr: 1.0000e-04\n",
      "Epoch 25/100\n",
      "401/401 [==============================] - ETA: 0s - loss: 0.0012 - accuracy: 0.9998\n",
      "Epoch 25: val_accuracy did not improve from 1.00000\n",
      "401/401 [==============================] - 33s 83ms/step - loss: 0.0012 - accuracy: 0.9998 - val_loss: 1.1513e-04 - val_accuracy: 1.0000 - lr: 1.0000e-04\n",
      "Epoch 26/100\n",
      "401/401 [==============================] - ETA: 0s - loss: 3.5123e-04 - accuracy: 0.9999\n",
      "Epoch 26: val_accuracy did not improve from 1.00000\n",
      "401/401 [==============================] - 33s 82ms/step - loss: 3.5123e-04 - accuracy: 0.9999 - val_loss: 5.6363e-05 - val_accuracy: 1.0000 - lr: 1.0000e-04\n",
      "Epoch 27/100\n",
      "401/401 [==============================] - ETA: 0s - loss: 4.3254e-04 - accuracy: 0.9999\n",
      "Epoch 27: val_accuracy did not improve from 1.00000\n",
      "401/401 [==============================] - 33s 83ms/step - loss: 4.3254e-04 - accuracy: 0.9999 - val_loss: 9.7678e-05 - val_accuracy: 1.0000 - lr: 1.0000e-04\n",
      "Epoch 28/100\n",
      "401/401 [==============================] - ETA: 0s - loss: 3.4138e-04 - accuracy: 0.9999\n",
      "Epoch 28: val_accuracy did not improve from 1.00000\n",
      "\n",
      "Epoch 28: ReduceLROnPlateau reducing learning rate to 1.0000000474974514e-05.\n",
      "401/401 [==============================] - 34s 83ms/step - loss: 3.4138e-04 - accuracy: 0.9999 - val_loss: 5.3318e-05 - val_accuracy: 1.0000 - lr: 1.0000e-04\n",
      "Epoch 29/100\n",
      "401/401 [==============================] - ETA: 0s - loss: 3.3612e-04 - accuracy: 0.9999\n",
      "Epoch 29: val_accuracy did not improve from 1.00000\n",
      "401/401 [==============================] - 33s 83ms/step - loss: 3.3612e-04 - accuracy: 0.9999 - val_loss: 4.4358e-05 - val_accuracy: 1.0000 - lr: 1.0000e-05\n",
      "Epoch 30/100\n",
      "401/401 [==============================] - ETA: 0s - loss: 5.3336e-04 - accuracy: 0.9999\n",
      "Epoch 30: val_accuracy did not improve from 1.00000\n",
      "401/401 [==============================] - 33s 83ms/step - loss: 5.3336e-04 - accuracy: 0.9999 - val_loss: 5.0269e-05 - val_accuracy: 1.0000 - lr: 1.0000e-05\n",
      "Epoch 31/100\n",
      "401/401 [==============================] - ETA: 0s - loss: 9.6795e-05 - accuracy: 1.0000\n",
      "Epoch 31: val_accuracy did not improve from 1.00000\n",
      "401/401 [==============================] - 33s 83ms/step - loss: 9.6795e-05 - accuracy: 1.0000 - val_loss: 4.4813e-05 - val_accuracy: 1.0000 - lr: 1.0000e-05\n",
      "Epoch 32/100\n",
      "401/401 [==============================] - ETA: 0s - loss: 3.7606e-04 - accuracy: 0.9999\n",
      "Epoch 32: val_accuracy did not improve from 1.00000\n",
      "401/401 [==============================] - 33s 82ms/step - loss: 3.7606e-04 - accuracy: 0.9999 - val_loss: 6.4086e-05 - val_accuracy: 1.0000 - lr: 1.0000e-05\n",
      "Epoch 33/100\n",
      "401/401 [==============================] - ETA: 0s - loss: 4.6071e-04 - accuracy: 0.9999\n",
      "Epoch 33: val_accuracy did not improve from 1.00000\n",
      "\n",
      "Epoch 33: ReduceLROnPlateau reducing learning rate to 1.0000000656873453e-06.\n",
      "401/401 [==============================] - 34s 83ms/step - loss: 4.6071e-04 - accuracy: 0.9999 - val_loss: 6.1423e-05 - val_accuracy: 1.0000 - lr: 1.0000e-05\n",
      "Epoch 34/100\n",
      "401/401 [==============================] - ETA: 0s - loss: 2.4452e-04 - accuracy: 1.0000\n",
      "Epoch 34: val_accuracy did not improve from 1.00000\n",
      "401/401 [==============================] - 33s 82ms/step - loss: 2.4452e-04 - accuracy: 1.0000 - val_loss: 6.4475e-05 - val_accuracy: 1.0000 - lr: 1.0000e-06\n",
      "Epoch 35/100\n",
      "401/401 [==============================] - ETA: 0s - loss: 2.4903e-04 - accuracy: 0.9999\n",
      "Epoch 35: val_accuracy did not improve from 1.00000\n",
      "401/401 [==============================] - 33s 83ms/step - loss: 2.4903e-04 - accuracy: 0.9999 - val_loss: 5.8687e-05 - val_accuracy: 1.0000 - lr: 1.0000e-06\n",
      "Epoch 36/100\n",
      "401/401 [==============================] - ETA: 0s - loss: 3.2225e-04 - accuracy: 0.9999\n",
      "Epoch 36: val_accuracy did not improve from 1.00000\n",
      "401/401 [==============================] - 33s 83ms/step - loss: 3.2225e-04 - accuracy: 0.9999 - val_loss: 6.2845e-05 - val_accuracy: 1.0000 - lr: 1.0000e-06\n",
      "Epoch 37/100\n",
      "401/401 [==============================] - ETA: 0s - loss: 3.3498e-04 - accuracy: 0.9999\n",
      "Epoch 37: val_accuracy did not improve from 1.00000\n",
      "401/401 [==============================] - 33s 83ms/step - loss: 3.3498e-04 - accuracy: 0.9999 - val_loss: 7.0812e-05 - val_accuracy: 1.0000 - lr: 1.0000e-06\n",
      "Epoch 38/100\n",
      "401/401 [==============================] - ETA: 0s - loss: 3.3223e-04 - accuracy: 0.9999\n",
      "Epoch 38: val_accuracy did not improve from 1.00000\n",
      "Restoring model weights from the end of the best epoch: 18.\n",
      "\n",
      "Epoch 38: ReduceLROnPlateau reducing learning rate to 1.0000001111620805e-07.\n",
      "401/401 [==============================] - 33s 83ms/step - loss: 3.3223e-04 - accuracy: 0.9999 - val_loss: 6.4274e-05 - val_accuracy: 1.0000 - lr: 1.0000e-06\n",
      "Epoch 38: early stopping\n"
     ]
    }
   ],
   "source": [
    "# Define the number of epochs\n",
    "num_epochs = 100\n",
    "\n",
    "# Train the model\n",
    "history_Xception_model_2 = Xception_model_2.fit(train_generator, epochs=num_epochs, validation_data=validation_generator, callbacks=callbacks)"
   ]
  },
  {
   "cell_type": "code",
   "execution_count": 18,
   "metadata": {
    "colab": {
     "base_uri": "https://localhost:8080/",
     "height": 904
    },
    "executionInfo": {
     "elapsed": 4300,
     "status": "ok",
     "timestamp": 1684914883315,
     "user": {
      "displayName": "Ahmad Habib Hasan Zein",
      "userId": "06743622963259718983"
     },
     "user_tz": -420
    },
    "id": "S5QjPYtt9ZDf",
    "outputId": "38cc6d7f-1ae3-479b-d9b3-2e6eeb2bee48",
    "tags": []
   },
   "outputs": [
    {
     "data": {
      "text/plain": [
       "Text(0.5, 1.0, 'Training and validation loss DIY Model')"
      ]
     },
     "execution_count": 18,
     "metadata": {},
     "output_type": "execute_result"
    },
    {
     "data": {
      "image/png": "[encoded data removed]",
      "text/plain": [
       "<Figure size 640x480 with 1 Axes>"
      ]
     },
     "metadata": {},
     "output_type": "display_data"
    },
    {
     "data": {
      "image/png": "[encoded data removed]",
      "text/plain": [
       "<Figure size 640x480 with 1 Axes>"
      ]
     },
     "metadata": {},
     "output_type": "display_data"
    }
   ],
   "source": [
    "#-----------------------------------------------------------\n",
    "# Retrieve a list of list results on training and test data\n",
    "# sets for each training epoch\n",
    "#-----------------------------------------------------------\n",
    "acc      = history_Xception_model_2.history['accuracy' ]\n",
    "val_acc  = history_Xception_model_2.history['val_accuracy' ]\n",
    "loss     = history_Xception_model_2.history['loss' ]\n",
    "val_loss = history_Xception_model_2.history['val_loss' ]\n",
    "\n",
    "epochs   = range(len(acc)) # Get number of epochs\n",
    "\n",
    "#------------------------------------------------\n",
    "# Plot training and validation accuracy per epoch\n",
    "#------------------------------------------------\n",
    "plt.plot  (epochs, acc )\n",
    "plt.plot  (epochs, val_acc )\n",
    "plt.title ('Training and validation accuracy DIY Model')\n",
    "plt.figure()\n",
    "\n",
    "#------------------------------------------------\n",
    "# Plot training and validation loss per epoch\n",
    "#------------------------------------------------\n",
    "plt.plot  (epochs, loss)\n",
    "plt.plot  (epochs, val_loss)\n",
    "plt.title ('Training and validation loss DIY Model')"
   ]
  }
 ],
 "metadata": {
  "accelerator": "GPU",
  "colab": {
   "gpuType": "T4",
   "provenance": []
  },
  "gpuClass": "standard",
  "kernelspec": {
   "display_name": "Python 3 (ipykernel)",
   "language": "python",
   "name": "python3"
  },
  "language_info": {
   "codemirror_mode": {
    "name": "ipython",
    "version": 3
   },
   "file_extension": ".py",
   "mimetype": "text/x-python",
   "name": "python",
   "nbconvert_exporter": "python",
   "pygments_lexer": "ipython3",
   "version": "3.8.10"
  }
 },
 "nbformat": 4,
 "nbformat_minor": 4
}
