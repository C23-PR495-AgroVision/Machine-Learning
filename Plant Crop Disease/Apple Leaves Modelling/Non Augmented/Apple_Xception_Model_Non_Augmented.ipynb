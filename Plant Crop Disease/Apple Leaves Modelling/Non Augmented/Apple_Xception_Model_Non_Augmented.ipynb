{
  "cells": [
    {
      "attachments": {},
      "cell_type": "markdown",
      "metadata": {
        "id": "BpgbrA9j9ZDT"
      },
      "source": [
        "# Library"
      ]
    },
    {
      "cell_type": "code",
      "execution_count": 1,
      "metadata": {
        "colab": {
          "base_uri": "https://localhost:8080/"
        },
        "id": "5d8cHmVK9ZDW",
        "outputId": "8462b964-5fe3-45d4-ed1c-b301f01f172f",
        "tags": []
      },
      "outputs": [
        {
          "name": "stdout",
          "output_type": "stream",
          "text": [
            "Requirement already satisfied: matplotlib in c:\\users\\hasan\\anaconda3\\envs\\tensorflow_gpu_zein\\lib\\site-packages (3.6.3)\n",
            "Requirement already satisfied: fonttools>=4.22.0 in c:\\users\\hasan\\anaconda3\\envs\\tensorflow_gpu_zein\\lib\\site-packages (from matplotlib) (4.39.2)\n",
            "Requirement already satisfied: numpy>=1.19 in c:\\users\\hasan\\anaconda3\\envs\\tensorflow_gpu_zein\\lib\\site-packages (from matplotlib) (1.23.5)\n",
            "Requirement already satisfied: packaging>=20.0 in c:\\users\\hasan\\anaconda3\\envs\\tensorflow_gpu_zein\\lib\\site-packages (from matplotlib) (23.1)\n",
            "Requirement already satisfied: cycler>=0.10 in c:\\users\\hasan\\anaconda3\\envs\\tensorflow_gpu_zein\\lib\\site-packages (from matplotlib) (0.11.0)\n",
            "Requirement already satisfied: pillow>=6.2.0 in c:\\users\\hasan\\anaconda3\\envs\\tensorflow_gpu_zein\\lib\\site-packages (from matplotlib) (9.4.0)\n",
            "Requirement already satisfied: pyparsing>=2.2.1 in c:\\users\\hasan\\anaconda3\\envs\\tensorflow_gpu_zein\\lib\\site-packages (from matplotlib) (3.0.9)\n",
            "Requirement already satisfied: kiwisolver>=1.0.1 in c:\\users\\hasan\\anaconda3\\envs\\tensorflow_gpu_zein\\lib\\site-packages (from matplotlib) (1.4.4)\n",
            "Requirement already satisfied: contourpy>=1.0.1 in c:\\users\\hasan\\anaconda3\\envs\\tensorflow_gpu_zein\\lib\\site-packages (from matplotlib) (1.0.7)\n",
            "Requirement already satisfied: python-dateutil>=2.7 in c:\\users\\hasan\\anaconda3\\envs\\tensorflow_gpu_zein\\lib\\site-packages (from matplotlib) (2.8.2)\n",
            "Requirement already satisfied: six>=1.5 in c:\\users\\hasan\\anaconda3\\envs\\tensorflow_gpu_zein\\lib\\site-packages (from python-dateutil>=2.7->matplotlib) (1.16.0)\n",
            "Note: you may need to restart the kernel to use updated packages.\n"
          ]
        },
        {
          "name": "stderr",
          "output_type": "stream",
          "text": [
            "WARNING: Ignoring invalid distribution -rotobuf (c:\\users\\hasan\\anaconda3\\envs\\tensorflow_gpu_zein\\lib\\site-packages)\n",
            "WARNING: Ignoring invalid distribution -rotobuf (c:\\users\\hasan\\anaconda3\\envs\\tensorflow_gpu_zein\\lib\\site-packages)\n",
            "WARNING: Ignoring invalid distribution -rotobuf (c:\\users\\hasan\\anaconda3\\envs\\tensorflow_gpu_zein\\lib\\site-packages)\n",
            "WARNING: Ignoring invalid distribution -rotobuf (c:\\users\\hasan\\anaconda3\\envs\\tensorflow_gpu_zein\\lib\\site-packages)\n",
            "WARNING: Ignoring invalid distribution -rotobuf (c:\\users\\hasan\\anaconda3\\envs\\tensorflow_gpu_zein\\lib\\site-packages)\n",
            "WARNING: Ignoring invalid distribution -rotobuf (c:\\users\\hasan\\anaconda3\\envs\\tensorflow_gpu_zein\\lib\\site-packages)\n"
          ]
        }
      ],
      "source": [
        "pip install matplotlib"
      ]
    },
    {
      "cell_type": "code",
      "execution_count": 2,
      "metadata": {
        "colab": {
          "base_uri": "https://localhost:8080/"
        },
        "id": "KsT4qa2J9ZDY",
        "outputId": "5265bd6f-0757-4c4e-dfcf-1bc9f9975ee2",
        "tags": []
      },
      "outputs": [
        {
          "name": "stdout",
          "output_type": "stream",
          "text": [
            "Requirement already satisfied: opendatasets in c:\\users\\hasan\\anaconda3\\envs\\tensorflow_gpu_zein\\lib\\site-packages (0.1.22)\n",
            "Requirement already satisfied: tqdm in c:\\users\\hasan\\anaconda3\\envs\\tensorflow_gpu_zein\\lib\\site-packages (from opendatasets) (4.64.1)\n",
            "Requirement already satisfied: kaggle in c:\\users\\hasan\\anaconda3\\envs\\tensorflow_gpu_zein\\lib\\site-packages (from opendatasets) (1.5.13)\n",
            "Requirement already satisfied: click in c:\\users\\hasan\\anaconda3\\envs\\tensorflow_gpu_zein\\lib\\site-packages (from opendatasets) (8.1.3)\n",
            "Requirement already satisfied: colorama in c:\\users\\hasan\\anaconda3\\envs\\tensorflow_gpu_zein\\lib\\site-packages (from click->opendatasets) (0.4.6)\n",
            "Requirement already satisfied: python-slugify in c:\\users\\hasan\\anaconda3\\envs\\tensorflow_gpu_zein\\lib\\site-packages (from kaggle->opendatasets) (8.0.1)\n",
            "Requirement already satisfied: certifi in c:\\users\\hasan\\anaconda3\\envs\\tensorflow_gpu_zein\\lib\\site-packages (from kaggle->opendatasets) (2022.12.7)\n",
            "Requirement already satisfied: requests in c:\\users\\hasan\\anaconda3\\envs\\tensorflow_gpu_zein\\lib\\site-packages (from kaggle->opendatasets) (2.28.2)\n",
            "Requirement already satisfied: python-dateutil in c:\\users\\hasan\\anaconda3\\envs\\tensorflow_gpu_zein\\lib\\site-packages (from kaggle->opendatasets) (2.8.2)\n",
            "Requirement already satisfied: urllib3 in c:\\users\\hasan\\anaconda3\\envs\\tensorflow_gpu_zein\\lib\\site-packages (from kaggle->opendatasets) (1.26.15)\n",
            "Requirement already satisfied: six>=1.10 in c:\\users\\hasan\\anaconda3\\envs\\tensorflow_gpu_zein\\lib\\site-packages (from kaggle->opendatasets) (1.16.0)\n",
            "Requirement already satisfied: text-unidecode>=1.3 in c:\\users\\hasan\\anaconda3\\envs\\tensorflow_gpu_zein\\lib\\site-packages (from python-slugify->kaggle->opendatasets) (1.3)\n",
            "Requirement already satisfied: charset-normalizer<4,>=2 in c:\\users\\hasan\\anaconda3\\envs\\tensorflow_gpu_zein\\lib\\site-packages (from requests->kaggle->opendatasets) (3.1.0)\n",
            "Requirement already satisfied: idna<4,>=2.5 in c:\\users\\hasan\\anaconda3\\envs\\tensorflow_gpu_zein\\lib\\site-packages (from requests->kaggle->opendatasets) (3.4)\n",
            "Note: you may need to restart the kernel to use updated packages.\n"
          ]
        },
        {
          "name": "stderr",
          "output_type": "stream",
          "text": [
            "WARNING: Ignoring invalid distribution -rotobuf (c:\\users\\hasan\\anaconda3\\envs\\tensorflow_gpu_zein\\lib\\site-packages)\n",
            "WARNING: Ignoring invalid distribution -rotobuf (c:\\users\\hasan\\anaconda3\\envs\\tensorflow_gpu_zein\\lib\\site-packages)\n",
            "WARNING: Ignoring invalid distribution -rotobuf (c:\\users\\hasan\\anaconda3\\envs\\tensorflow_gpu_zein\\lib\\site-packages)\n",
            "WARNING: Ignoring invalid distribution -rotobuf (c:\\users\\hasan\\anaconda3\\envs\\tensorflow_gpu_zein\\lib\\site-packages)\n",
            "WARNING: Ignoring invalid distribution -rotobuf (c:\\users\\hasan\\anaconda3\\envs\\tensorflow_gpu_zein\\lib\\site-packages)\n",
            "WARNING: Ignoring invalid distribution -rotobuf (c:\\users\\hasan\\anaconda3\\envs\\tensorflow_gpu_zein\\lib\\site-packages)\n"
          ]
        }
      ],
      "source": [
        "pip install opendatasets"
      ]
    },
    {
      "cell_type": "code",
      "execution_count": 3,
      "metadata": {
        "id": "RIjvYXAJ7nsG"
      },
      "outputs": [],
      "source": [
        "# Library to dataset\n",
        "import opendatasets as od\n",
        "import os\n",
        "import zipfile\n",
        "import numpy as np\n",
        "\n",
        "# Surpress Warnings\n",
        "import warnings\n",
        "warnings.filterwarnings('ignore')\n",
        "os.environ['TF_CPP_MIN_LOG_LEVEL'] = '3' \n",
        "# library visualization\n",
        "import matplotlib.pyplot as plt\n",
        "\n",
        "# Library Tensorflow\n",
        "import tensorflow as tf\n",
        "from tensorflow import keras\n",
        "from tensorflow.keras.preprocessing.image import ImageDataGenerator\n",
        "from tensorflow.keras.callbacks import ModelCheckpoint, EarlyStopping, ReduceLROnPlateau\n",
        "from tensorflow.keras.applications.densenet import DenseNet121\n",
        "from tensorflow.keras.applications.xception import Xception\n",
        "# Others\n",
        "import shutil\n",
        "import random"
      ]
    },
    {
      "attachments": {},
      "cell_type": "markdown",
      "metadata": {
        "id": "1QZa_XMd9ZDZ"
      },
      "source": [
        "# Load dataset"
      ]
    },
    {
      "cell_type": "code",
      "execution_count": 4,
      "metadata": {
        "colab": {
          "base_uri": "https://localhost:8080/"
        },
        "id": "fjuuT1_V9ZDa",
        "outputId": "5c2a27b0-224d-40c9-8a58-d7b598fed5a7",
        "tags": []
      },
      "outputs": [
        {
          "name": "stdout",
          "output_type": "stream",
          "text": [
            "==========================Training Data====================\n",
            "Found 8014 files belonging to 4 classes.\n",
            "==========================Validation Data====================\n",
            "Found 1943 files belonging to 4 classes.\n"
          ]
        }
      ],
      "source": [
        "# Load dataset\n",
        "print(\"==========================Training Data====================\")\n",
        "train_data = tf.keras.preprocessing.image_dataset_from_directory(\n",
        "    \"Dataset/Apple/train\",\n",
        "    label_mode=\"categorical\",\n",
        "    class_names=['Apple Black rot', 'Apple Scab Leaf', 'Apple leaf Healthy', 'Apple rust leaf'],\n",
        "    color_mode=\"rgb\",\n",
        "    batch_size=1,\n",
        "    image_size=(256, 256),\n",
        "    shuffle=True,\n",
        "    seed=123\n",
        ")\n",
        "print(\"==========================Validation Data====================\")\n",
        "val_data = tf.keras.preprocessing.image_dataset_from_directory(\n",
        "    \"Dataset/Apple/valid\",\n",
        "    label_mode=\"categorical\",\n",
        "    class_names=['Apple Black rot', 'Apple Scab Leaf', 'Apple leaf Healthy', 'Apple rust leaf'],\n",
        "    color_mode=\"rgb\",\n",
        "    batch_size=1,\n",
        "    image_size=(256, 256),\n",
        "    shuffle=True,\n",
        "    seed=123\n",
        ")"
      ]
    },
    {
      "cell_type": "code",
      "execution_count": 5,
      "metadata": {
        "colab": {
          "base_uri": "https://localhost:8080/"
        },
        "id": "YFs93hWJ9ZDa",
        "outputId": "5a053169-456e-4592-b97f-2c5442b74b5a",
        "tags": []
      },
      "outputs": [
        {
          "name": "stdout",
          "output_type": "stream",
          "text": [
            "Found 8014 images belonging to 4 classes.\n",
            "Found 1943 images belonging to 4 classes.\n"
          ]
        }
      ],
      "source": [
        "# All images will be rescaled by 1./255.\n",
        "train_datagen = ImageDataGenerator(rescale = 1.0/256.)\n",
        "test_datagen  = ImageDataGenerator(rescale = 1.0/256.)\n",
        "\n",
        "# --------------------\n",
        "# Flow training images in batches of 20 using train_datagen generator\n",
        "# --------------------\n",
        "train_generator = train_datagen.flow_from_directory(\"Dataset/Apple/train\",\n",
        "                                                    batch_size=20,\n",
        "                                                    class_mode='categorical',\n",
        "                                                    target_size=(224, 224))     \n",
        "# --------------------\n",
        "# Flow validation images in batches of 20 using test_datagen generator\n",
        "# --------------------\n",
        "validation_generator =  test_datagen.flow_from_directory(\"Dataset/Apple/valid\",\n",
        "                                                         batch_size=20,\n",
        "                                                         class_mode  = 'categorical',\n",
        "                                                         target_size = (224, 224))"
      ]
    },
    {
      "attachments": {},
      "cell_type": "markdown",
      "metadata": {
        "id": "JEk8KUFR9ZDb"
      },
      "source": [
        "# List Resource"
      ]
    },
    {
      "cell_type": "code",
      "execution_count": 6,
      "metadata": {
        "colab": {
          "base_uri": "https://localhost:8080/"
        },
        "id": "Lqej6-_09ZDb",
        "outputId": "8851d052-fa31-4e09-96b2-ccf7f71caf87",
        "tags": []
      },
      "outputs": [
        {
          "name": "stdout",
          "output_type": "stream",
          "text": [
            "Sat May 27 11:35:45 2023       \n",
            "+---------------------------------------------------------------------------------------+\n",
            "| NVIDIA-SMI 532.03                 Driver Version: 532.03       CUDA Version: 12.1     |\n",
            "|-----------------------------------------+----------------------+----------------------+\n",
            "| GPU  Name                      TCC/WDDM | Bus-Id        Disp.A | Volatile Uncorr. ECC |\n",
            "| Fan  Temp  Perf            Pwr:Usage/Cap|         Memory-Usage | GPU-Util  Compute M. |\n",
            "|                                         |                      |               MIG M. |\n",
            "|=========================================+======================+======================|\n",
            "|   0  NVIDIA GeForce RTX 3060 L...  WDDM | 00000000:01:00.0  On |                  N/A |\n",
            "| N/A   53C    P0               34W /  N/A|   4614MiB /  6144MiB |      3%      Default |\n",
            "|                                         |                      |                  N/A |\n",
            "+-----------------------------------------+----------------------+----------------------+\n",
            "                                                                                         \n",
            "+---------------------------------------------------------------------------------------+\n",
            "| Processes:                                                                            |\n",
            "|  GPU   GI   CI        PID   Type   Process name                            GPU Memory |\n",
            "|        ID   ID                                                             Usage      |\n",
            "|=======================================================================================|\n",
            "|    0   N/A  N/A      2012    C+G   ...2.0_x64__cv1g1gvanyjgm\\WhatsApp.exe    N/A      |\n",
            "|    0   N/A  N/A      2668    C+G   ...siveControlPanel\\SystemSettings.exe    N/A      |\n",
            "|    0   N/A  N/A      7012    C+G   ...64__v826wp6bftszj\\TranslucentTB.exe    N/A      |\n",
            "|    0   N/A  N/A      9000    C+G   ...les\\AMD\\CNext\\CNext\\AMDRSSrcExt.exe    N/A      |\n",
            "|    0   N/A  N/A     10052    C+G   C:\\WINDOWS\\explorer.exe                   N/A      |\n",
            "|    0   N/A  N/A     12016    C+G   ...nt.CBS_cw5n1h2txyewy\\SearchHost.exe    N/A      |\n",
            "|    0   N/A  N/A     12076    C+G   ...2txyewy\\StartMenuExperienceHost.exe    N/A      |\n",
            "|    0   N/A  N/A     13880    C+G   ...les\\Microsoft OneDrive\\OneDrive.exe    N/A      |\n",
            "|    0   N/A  N/A     15052    C+G   ...ekyb3d8bbwe\\PhoneExperienceHost.exe    N/A      |\n",
            "|    0   N/A  N/A     16584    C+G   ...oogle\\Chrome\\Application\\chrome.exe    N/A      |\n",
            "|    0   N/A  N/A     18404    C+G   ...GeForce Experience\\NVIDIA Share.exe    N/A      |\n",
            "|    0   N/A  N/A     18720    C+G   ...on\\113.0.1774.50\\msedgewebview2.exe    N/A      |\n",
            "|    0   N/A  N/A     19676    C+G   ...02.0_x86__zpdnekdrzrea0\\Spotify.exe    N/A      |\n",
            "|    0   N/A  N/A     21076    C+G   ...Programs\\Microsoft VS Code\\Code.exe    N/A      |\n",
            "|    0   N/A  N/A     23224    C+G   ...1.0_x64__8wekyb3d8bbwe\\Video.UI.exe    N/A      |\n",
            "|    0   N/A  N/A     23568    C+G   ...on\\113.0.1774.50\\msedgewebview2.exe    N/A      |\n",
            "|    0   N/A  N/A     24300    C+G   ...les\\Microsoft OneDrive\\OneDrive.exe    N/A      |\n",
            "|    0   N/A  N/A     24364    C+G   ...\\AMD\\CNext\\CNext\\RadeonSoftware.exe    N/A      |\n",
            "|    0   N/A  N/A     26012      C   ...envs\\tensorflow_gpu_zein\\python.exe    N/A      |\n",
            "+---------------------------------------------------------------------------------------+\n"
          ]
        }
      ],
      "source": [
        "# Check GPU\n",
        "!nvidia-smi"
      ]
    },
    {
      "cell_type": "code",
      "execution_count": 7,
      "metadata": {
        "colab": {
          "base_uri": "https://localhost:8080/"
        },
        "id": "WPJg4t989ZDc",
        "outputId": "d167b073-12f5-4d40-9a01-b46405249e78",
        "tags": []
      },
      "outputs": [
        {
          "data": {
            "text/plain": [
              "[PhysicalDevice(name='/physical_device:GPU:0', device_type='GPU')]"
            ]
          },
          "execution_count": 7,
          "metadata": {},
          "output_type": "execute_result"
        }
      ],
      "source": [
        "# Lis physical devices\n",
        "devices = tf.config.experimental.list_physical_devices(\"GPU\")\n",
        "devices"
      ]
    },
    {
      "cell_type": "code",
      "execution_count": 8,
      "metadata": {
        "id": "QAHLbHWM9ZDc",
        "tags": []
      },
      "outputs": [
        {
          "name": "stdout",
          "output_type": "stream",
          "text": [
            "INFO:tensorflow:Using MirroredStrategy with devices ('/job:localhost/replica:0/task:0/device:GPU:0',)\n"
          ]
        }
      ],
      "source": [
        "# Define the GPU strategy\n",
        "mirrored_strategy = tf.distribute.MirroredStrategy(devices=[\"/gpu:0\"])"
      ]
    },
    {
      "attachments": {},
      "cell_type": "markdown",
      "metadata": {
        "id": "G0-JWhKo9ZDc"
      },
      "source": [
        "# Modelling Without Augmentation"
      ]
    },
    {
      "attachments": {},
      "cell_type": "markdown",
      "metadata": {
        "id": "zoBS_ATI9ZDd"
      },
      "source": [
        "## Xception Model"
      ]
    },
    {
      "cell_type": "code",
      "execution_count": 9,
      "metadata": {
        "id": "2eyrV-MJ9ZDd",
        "tags": []
      },
      "outputs": [],
      "source": [
        "# Difine the callbacks\n",
        "# Save the best model\n",
        "checkpoint_callback = ModelCheckpoint(filepath=\"Apple_Xception_model1_Based_Non_Augmented\", save_best_only=True, monitor=\"val_accuracy\", mode=\"max\", verbose=1)\n",
        "\n",
        "# Early stopping\n",
        "early_stopping_callback = EarlyStopping(monitor=\"val_accuracy\", mode=\"max\", patience=20, verbose=1, restore_best_weights=True)\n",
        "\n",
        "# Reduce learning rate\n",
        "reduce_lr_callback = ReduceLROnPlateau(monitor=\"val_loss\", factor=0.1, patience=5, verbose=1, mode=\"min\", min_delta=0.0001, cooldown=0, min_lr=0)\n",
        "\n",
        "# Callbacks list\n",
        "callbacks=[checkpoint_callback, early_stopping_callback, reduce_lr_callback]"
      ]
    },
    {
      "cell_type": "code",
      "execution_count": 10,
      "metadata": {
        "colab": {
          "base_uri": "https://localhost:8080/"
        },
        "id": "_i_E_m-f9ZDd",
        "outputId": "661ee06d-466a-44a1-eecb-59be4e8f3464",
        "tags": []
      },
      "outputs": [
        {
          "name": "stdout",
          "output_type": "stream",
          "text": [
            "Model: \"sequential\"\n",
            "_________________________________________________________________\n",
            " Layer (type)                Output Shape              Param #   \n",
            "=================================================================\n",
            " xception (Functional)       (None, 7, 7, 2048)        20861480  \n",
            "                                                                 \n",
            " global_max_pooling2d (Globa  (None, 2048)             0         \n",
            " lMaxPooling2D)                                                  \n",
            "                                                                 \n",
            " dropout (Dropout)           (None, 2048)              0         \n",
            "                                                                 \n",
            " dense (Dense)               (None, 256)               524544    \n",
            "                                                                 \n",
            " dense_1 (Dense)             (None, 4)                 1028      \n",
            "                                                                 \n",
            "=================================================================\n",
            "Total params: 21,387,052\n",
            "Trainable params: 21,332,524\n",
            "Non-trainable params: 54,528\n",
            "_________________________________________________________________\n"
          ]
        }
      ],
      "source": [
        "# Define Model\n",
        "Xception1_model = tf.keras.models.Sequential([\n",
        "    # Xception Layer\n",
        "    Xception(include_top=False,weights='imagenet',input_shape=(224, 224, 3)),\n",
        "    # Max Pooling Layer\n",
        "    tf.keras.layers.GlobalMaxPooling2D(),\n",
        "    # Drop Out Layer\n",
        "    tf.keras.layers.Dropout(0.2),\n",
        "    # 256 neuron hidden layer\n",
        "    tf.keras.layers.Dense(256, activation='relu'),\n",
        "    # Output\n",
        "    tf.keras.layers.Dense(4, activation='softmax') \n",
        "  ])\n",
        "\n",
        "\n",
        "# Compile Model\n",
        "Xception1_model.compile(loss='categorical_crossentropy',optimizer=tf.keras.optimizers.Adam(), metrics=['accuracy']) \n",
        "\n",
        "# Model Summary\n",
        "Xception1_model.summary()"
      ]
    },
    {
      "cell_type": "code",
      "execution_count": 11,
      "metadata": {
        "colab": {
          "base_uri": "https://localhost:8080/"
        },
        "id": "jxKWPLUP9ZDd",
        "outputId": "ad9871a0-bc63-48ed-c3ff-30c7a38cbf8d",
        "tags": []
      },
      "outputs": [
        {
          "name": "stdout",
          "output_type": "stream",
          "text": [
            "Epoch 1/100\n",
            "401/401 [==============================] - ETA: 0s - loss: 0.2713 - accuracy: 0.9117\n",
            "Epoch 1: val_accuracy improved from -inf to 0.81987, saving model to Apple_Xception_model1_Based_Non_Augmented\n"
          ]
        },
        {
          "name": "stderr",
          "output_type": "stream",
          "text": [
            "WARNING:absl:Found untraced functions such as _jit_compiled_convolution_op, _jit_compiled_convolution_op, _jit_compiled_convolution_op, _jit_compiled_convolution_op, _jit_compiled_convolution_op while saving (showing 5 of 40). These functions will not be directly callable after loading.\n"
          ]
        },
        {
          "name": "stdout",
          "output_type": "stream",
          "text": [
            "INFO:tensorflow:Assets written to: Apple_Xception_model1_Based_Non_Augmented\\assets\n"
          ]
        },
        {
          "name": "stderr",
          "output_type": "stream",
          "text": [
            "INFO:tensorflow:Assets written to: Apple_Xception_model1_Based_Non_Augmented\\assets\n"
          ]
        },
        {
          "name": "stdout",
          "output_type": "stream",
          "text": [
            "401/401 [==============================] - 131s 307ms/step - loss: 0.2713 - accuracy: 0.9117 - val_loss: 2.4940 - val_accuracy: 0.8199 - lr: 0.0010\n",
            "Epoch 2/100\n",
            "401/401 [==============================] - ETA: 0s - loss: 0.1031 - accuracy: 0.9730\n",
            "Epoch 2: val_accuracy improved from 0.81987 to 0.95368, saving model to Apple_Xception_model1_Based_Non_Augmented\n"
          ]
        },
        {
          "name": "stderr",
          "output_type": "stream",
          "text": [
            "WARNING:absl:Found untraced functions such as _jit_compiled_convolution_op, _jit_compiled_convolution_op, _jit_compiled_convolution_op, _jit_compiled_convolution_op, _jit_compiled_convolution_op while saving (showing 5 of 40). These functions will not be directly callable after loading.\n"
          ]
        },
        {
          "name": "stdout",
          "output_type": "stream",
          "text": [
            "INFO:tensorflow:Assets written to: Apple_Xception_model1_Based_Non_Augmented\\assets\n"
          ]
        },
        {
          "name": "stderr",
          "output_type": "stream",
          "text": [
            "INFO:tensorflow:Assets written to: Apple_Xception_model1_Based_Non_Augmented\\assets\n"
          ]
        },
        {
          "name": "stdout",
          "output_type": "stream",
          "text": [
            "401/401 [==============================] - 120s 299ms/step - loss: 0.1031 - accuracy: 0.9730 - val_loss: 0.1832 - val_accuracy: 0.9537 - lr: 0.0010\n",
            "Epoch 3/100\n",
            "401/401 [==============================] - ETA: 0s - loss: 0.0783 - accuracy: 0.9768\n",
            "Epoch 3: val_accuracy did not improve from 0.95368\n",
            "401/401 [==============================] - 107s 266ms/step - loss: 0.0783 - accuracy: 0.9768 - val_loss: 0.1952 - val_accuracy: 0.9496 - lr: 0.0010\n",
            "Epoch 4/100\n",
            "401/401 [==============================] - ETA: 0s - loss: 0.0699 - accuracy: 0.9800\n",
            "Epoch 4: val_accuracy did not improve from 0.95368\n",
            "401/401 [==============================] - 107s 267ms/step - loss: 0.0699 - accuracy: 0.9800 - val_loss: 0.1946 - val_accuracy: 0.9424 - lr: 0.0010\n",
            "Epoch 5/100\n",
            "401/401 [==============================] - ETA: 0s - loss: 0.0361 - accuracy: 0.9891\n",
            "Epoch 5: val_accuracy improved from 0.95368 to 0.98662, saving model to Apple_Xception_model1_Based_Non_Augmented\n"
          ]
        },
        {
          "name": "stderr",
          "output_type": "stream",
          "text": [
            "WARNING:absl:Found untraced functions such as _jit_compiled_convolution_op, _jit_compiled_convolution_op, _jit_compiled_convolution_op, _jit_compiled_convolution_op, _jit_compiled_convolution_op while saving (showing 5 of 40). These functions will not be directly callable after loading.\n"
          ]
        },
        {
          "name": "stdout",
          "output_type": "stream",
          "text": [
            "INFO:tensorflow:Assets written to: Apple_Xception_model1_Based_Non_Augmented\\assets\n"
          ]
        },
        {
          "name": "stderr",
          "output_type": "stream",
          "text": [
            "INFO:tensorflow:Assets written to: Apple_Xception_model1_Based_Non_Augmented\\assets\n"
          ]
        },
        {
          "name": "stdout",
          "output_type": "stream",
          "text": [
            "401/401 [==============================] - 124s 308ms/step - loss: 0.0361 - accuracy: 0.9891 - val_loss: 0.0349 - val_accuracy: 0.9866 - lr: 0.0010\n",
            "Epoch 6/100\n",
            "401/401 [==============================] - ETA: 0s - loss: 0.0405 - accuracy: 0.9885\n",
            "Epoch 6: val_accuracy did not improve from 0.98662\n",
            "401/401 [==============================] - 110s 273ms/step - loss: 0.0405 - accuracy: 0.9885 - val_loss: 0.1051 - val_accuracy: 0.9681 - lr: 0.0010\n",
            "Epoch 7/100\n",
            "401/401 [==============================] - ETA: 0s - loss: 0.0367 - accuracy: 0.9893\n",
            "Epoch 7: val_accuracy did not improve from 0.98662\n",
            "401/401 [==============================] - 112s 278ms/step - loss: 0.0367 - accuracy: 0.9893 - val_loss: 0.6951 - val_accuracy: 0.8893 - lr: 0.0010\n",
            "Epoch 8/100\n",
            "401/401 [==============================] - ETA: 0s - loss: 0.0864 - accuracy: 0.9775\n",
            "Epoch 8: val_accuracy did not improve from 0.98662\n",
            "401/401 [==============================] - 111s 276ms/step - loss: 0.0864 - accuracy: 0.9775 - val_loss: 0.3158 - val_accuracy: 0.9187 - lr: 0.0010\n",
            "Epoch 9/100\n",
            "401/401 [==============================] - ETA: 0s - loss: 0.0537 - accuracy: 0.9847\n",
            "Epoch 9: val_accuracy improved from 0.98662 to 0.99434, saving model to Apple_Xception_model1_Based_Non_Augmented\n"
          ]
        },
        {
          "name": "stderr",
          "output_type": "stream",
          "text": [
            "WARNING:absl:Found untraced functions such as _jit_compiled_convolution_op, _jit_compiled_convolution_op, _jit_compiled_convolution_op, _jit_compiled_convolution_op, _jit_compiled_convolution_op while saving (showing 5 of 40). These functions will not be directly callable after loading.\n"
          ]
        },
        {
          "name": "stdout",
          "output_type": "stream",
          "text": [
            "INFO:tensorflow:Assets written to: Apple_Xception_model1_Based_Non_Augmented\\assets\n"
          ]
        },
        {
          "name": "stderr",
          "output_type": "stream",
          "text": [
            "INFO:tensorflow:Assets written to: Apple_Xception_model1_Based_Non_Augmented\\assets\n"
          ]
        },
        {
          "name": "stdout",
          "output_type": "stream",
          "text": [
            "401/401 [==============================] - 124s 309ms/step - loss: 0.0537 - accuracy: 0.9847 - val_loss: 0.0232 - val_accuracy: 0.9943 - lr: 0.0010\n",
            "Epoch 10/100\n",
            "401/401 [==============================] - ETA: 0s - loss: 0.0333 - accuracy: 0.9898\n",
            "Epoch 10: val_accuracy improved from 0.99434 to 0.99691, saving model to Apple_Xception_model1_Based_Non_Augmented\n"
          ]
        },
        {
          "name": "stderr",
          "output_type": "stream",
          "text": [
            "WARNING:absl:Found untraced functions such as _jit_compiled_convolution_op, _jit_compiled_convolution_op, _jit_compiled_convolution_op, _jit_compiled_convolution_op, _jit_compiled_convolution_op while saving (showing 5 of 40). These functions will not be directly callable after loading.\n"
          ]
        },
        {
          "name": "stdout",
          "output_type": "stream",
          "text": [
            "INFO:tensorflow:Assets written to: Apple_Xception_model1_Based_Non_Augmented\\assets\n"
          ]
        },
        {
          "name": "stderr",
          "output_type": "stream",
          "text": [
            "INFO:tensorflow:Assets written to: Apple_Xception_model1_Based_Non_Augmented\\assets\n"
          ]
        },
        {
          "name": "stdout",
          "output_type": "stream",
          "text": [
            "401/401 [==============================] - 124s 309ms/step - loss: 0.0333 - accuracy: 0.9898 - val_loss: 0.0141 - val_accuracy: 0.9969 - lr: 0.0010\n",
            "Epoch 11/100\n",
            "401/401 [==============================] - ETA: 0s - loss: 0.0137 - accuracy: 0.9953\n",
            "Epoch 11: val_accuracy did not improve from 0.99691\n",
            "401/401 [==============================] - 111s 275ms/step - loss: 0.0137 - accuracy: 0.9953 - val_loss: 0.1815 - val_accuracy: 0.9429 - lr: 0.0010\n",
            "Epoch 12/100\n",
            "401/401 [==============================] - ETA: 0s - loss: 0.0382 - accuracy: 0.9909\n",
            "Epoch 12: val_accuracy did not improve from 0.99691\n",
            "401/401 [==============================] - 112s 280ms/step - loss: 0.0382 - accuracy: 0.9909 - val_loss: 0.1186 - val_accuracy: 0.9696 - lr: 0.0010\n",
            "Epoch 13/100\n",
            "401/401 [==============================] - ETA: 0s - loss: 0.0319 - accuracy: 0.9908\n",
            "Epoch 13: val_accuracy improved from 0.99691 to 0.99949, saving model to Apple_Xception_model1_Based_Non_Augmented\n"
          ]
        },
        {
          "name": "stderr",
          "output_type": "stream",
          "text": [
            "WARNING:absl:Found untraced functions such as _jit_compiled_convolution_op, _jit_compiled_convolution_op, _jit_compiled_convolution_op, _jit_compiled_convolution_op, _jit_compiled_convolution_op while saving (showing 5 of 40). These functions will not be directly callable after loading.\n"
          ]
        },
        {
          "name": "stdout",
          "output_type": "stream",
          "text": [
            "INFO:tensorflow:Assets written to: Apple_Xception_model1_Based_Non_Augmented\\assets\n"
          ]
        },
        {
          "name": "stderr",
          "output_type": "stream",
          "text": [
            "INFO:tensorflow:Assets written to: Apple_Xception_model1_Based_Non_Augmented\\assets\n"
          ]
        },
        {
          "name": "stdout",
          "output_type": "stream",
          "text": [
            "401/401 [==============================] - 124s 309ms/step - loss: 0.0319 - accuracy: 0.9908 - val_loss: 0.0045 - val_accuracy: 0.9995 - lr: 0.0010\n",
            "Epoch 14/100\n",
            "401/401 [==============================] - ETA: 0s - loss: 0.0281 - accuracy: 0.9921\n",
            "Epoch 14: val_accuracy did not improve from 0.99949\n",
            "401/401 [==============================] - 109s 271ms/step - loss: 0.0281 - accuracy: 0.9921 - val_loss: 0.0488 - val_accuracy: 0.9830 - lr: 0.0010\n",
            "Epoch 15/100\n",
            "401/401 [==============================] - ETA: 0s - loss: 0.0200 - accuracy: 0.9946\n",
            "Epoch 15: val_accuracy did not improve from 0.99949\n",
            "401/401 [==============================] - 110s 274ms/step - loss: 0.0200 - accuracy: 0.9946 - val_loss: 0.1337 - val_accuracy: 0.9774 - lr: 0.0010\n",
            "Epoch 16/100\n",
            "401/401 [==============================] - ETA: 0s - loss: 0.0424 - accuracy: 0.9878\n",
            "Epoch 16: val_accuracy did not improve from 0.99949\n",
            "401/401 [==============================] - 110s 275ms/step - loss: 0.0424 - accuracy: 0.9878 - val_loss: 0.1617 - val_accuracy: 0.9593 - lr: 0.0010\n",
            "Epoch 17/100\n",
            "401/401 [==============================] - ETA: 0s - loss: 0.0190 - accuracy: 0.9934\n",
            "Epoch 17: val_accuracy did not improve from 0.99949\n",
            "401/401 [==============================] - 110s 274ms/step - loss: 0.0190 - accuracy: 0.9934 - val_loss: 0.0023 - val_accuracy: 0.9990 - lr: 0.0010\n",
            "Epoch 18/100\n",
            "401/401 [==============================] - ETA: 0s - loss: 0.0106 - accuracy: 0.9963\n",
            "Epoch 18: val_accuracy did not improve from 0.99949\n",
            "401/401 [==============================] - 109s 273ms/step - loss: 0.0106 - accuracy: 0.9963 - val_loss: 0.0041 - val_accuracy: 0.9995 - lr: 0.0010\n",
            "Epoch 19/100\n",
            "401/401 [==============================] - ETA: 0s - loss: 0.0178 - accuracy: 0.9946\n",
            "Epoch 19: val_accuracy did not improve from 0.99949\n",
            "401/401 [==============================] - 108s 270ms/step - loss: 0.0178 - accuracy: 0.9946 - val_loss: 0.0753 - val_accuracy: 0.9712 - lr: 0.0010\n",
            "Epoch 20/100\n",
            "401/401 [==============================] - ETA: 0s - loss: 0.0172 - accuracy: 0.9954\n",
            "Epoch 20: val_accuracy did not improve from 0.99949\n",
            "401/401 [==============================] - 109s 272ms/step - loss: 0.0172 - accuracy: 0.9954 - val_loss: 0.0043 - val_accuracy: 0.9995 - lr: 0.0010\n",
            "Epoch 21/100\n",
            "401/401 [==============================] - ETA: 0s - loss: 0.0238 - accuracy: 0.9946\n",
            "Epoch 21: val_accuracy did not improve from 0.99949\n",
            "401/401 [==============================] - 110s 273ms/step - loss: 0.0238 - accuracy: 0.9946 - val_loss: 0.6228 - val_accuracy: 0.8682 - lr: 0.0010\n",
            "Epoch 22/100\n",
            "401/401 [==============================] - ETA: 0s - loss: 0.0247 - accuracy: 0.9911\n",
            "Epoch 22: val_accuracy did not improve from 0.99949\n",
            "\n",
            "Epoch 22: ReduceLROnPlateau reducing learning rate to 0.00010000000474974513.\n",
            "401/401 [==============================] - 110s 274ms/step - loss: 0.0247 - accuracy: 0.9911 - val_loss: 0.0036 - val_accuracy: 0.9995 - lr: 0.0010\n",
            "Epoch 23/100\n",
            "401/401 [==============================] - ETA: 0s - loss: 0.0072 - accuracy: 0.9980\n",
            "Epoch 23: val_accuracy improved from 0.99949 to 1.00000, saving model to Apple_Xception_model1_Based_Non_Augmented\n"
          ]
        },
        {
          "name": "stderr",
          "output_type": "stream",
          "text": [
            "WARNING:absl:Found untraced functions such as _jit_compiled_convolution_op, _jit_compiled_convolution_op, _jit_compiled_convolution_op, _jit_compiled_convolution_op, _jit_compiled_convolution_op while saving (showing 5 of 40). These functions will not be directly callable after loading.\n"
          ]
        },
        {
          "name": "stdout",
          "output_type": "stream",
          "text": [
            "INFO:tensorflow:Assets written to: Apple_Xception_model1_Based_Non_Augmented\\assets\n"
          ]
        },
        {
          "name": "stderr",
          "output_type": "stream",
          "text": [
            "INFO:tensorflow:Assets written to: Apple_Xception_model1_Based_Non_Augmented\\assets\n"
          ]
        },
        {
          "name": "stdout",
          "output_type": "stream",
          "text": [
            "401/401 [==============================] - 123s 307ms/step - loss: 0.0072 - accuracy: 0.9980 - val_loss: 6.3718e-04 - val_accuracy: 1.0000 - lr: 1.0000e-04\n",
            "Epoch 24/100\n",
            "401/401 [==============================] - ETA: 0s - loss: 0.0044 - accuracy: 0.9988\n",
            "Epoch 24: val_accuracy did not improve from 1.00000\n",
            "401/401 [==============================] - 108s 268ms/step - loss: 0.0044 - accuracy: 0.9988 - val_loss: 5.2990e-04 - val_accuracy: 1.0000 - lr: 1.0000e-04\n",
            "Epoch 25/100\n",
            "401/401 [==============================] - ETA: 0s - loss: 0.0013 - accuracy: 1.0000\n",
            "Epoch 25: val_accuracy did not improve from 1.00000\n",
            "401/401 [==============================] - 110s 273ms/step - loss: 0.0013 - accuracy: 1.0000 - val_loss: 2.3748e-04 - val_accuracy: 1.0000 - lr: 1.0000e-04\n",
            "Epoch 26/100\n",
            "401/401 [==============================] - ETA: 0s - loss: 0.0025 - accuracy: 0.9994\n",
            "Epoch 26: val_accuracy did not improve from 1.00000\n",
            "401/401 [==============================] - 110s 274ms/step - loss: 0.0025 - accuracy: 0.9994 - val_loss: 2.3344e-04 - val_accuracy: 1.0000 - lr: 1.0000e-04\n",
            "Epoch 27/100\n",
            "401/401 [==============================] - ETA: 0s - loss: 0.0010 - accuracy: 0.9998\n",
            "Epoch 27: val_accuracy did not improve from 1.00000\n",
            "401/401 [==============================] - 110s 275ms/step - loss: 0.0010 - accuracy: 0.9998 - val_loss: 6.0192e-04 - val_accuracy: 0.9995 - lr: 1.0000e-04\n",
            "Epoch 28/100\n",
            "401/401 [==============================] - ETA: 0s - loss: 0.0039 - accuracy: 0.9994\n",
            "Epoch 28: val_accuracy did not improve from 1.00000\n",
            "401/401 [==============================] - 111s 277ms/step - loss: 0.0039 - accuracy: 0.9994 - val_loss: 4.2260e-04 - val_accuracy: 1.0000 - lr: 1.0000e-04\n",
            "Epoch 29/100\n",
            "401/401 [==============================] - ETA: 0s - loss: 0.0011 - accuracy: 0.9998\n",
            "Epoch 29: val_accuracy did not improve from 1.00000\n",
            "401/401 [==============================] - 110s 274ms/step - loss: 0.0011 - accuracy: 0.9998 - val_loss: 3.2285e-04 - val_accuracy: 1.0000 - lr: 1.0000e-04\n",
            "Epoch 30/100\n",
            "401/401 [==============================] - ETA: 0s - loss: 0.0011 - accuracy: 0.9998\n",
            "Epoch 30: val_accuracy did not improve from 1.00000\n",
            "\n",
            "Epoch 30: ReduceLROnPlateau reducing learning rate to 1.0000000474974514e-05.\n",
            "401/401 [==============================] - 110s 275ms/step - loss: 0.0011 - accuracy: 0.9998 - val_loss: 6.3818e-04 - val_accuracy: 0.9995 - lr: 1.0000e-04\n",
            "Epoch 31/100\n",
            "401/401 [==============================] - ETA: 0s - loss: 0.0019 - accuracy: 0.9996\n",
            "Epoch 31: val_accuracy did not improve from 1.00000\n",
            "401/401 [==============================] - 112s 279ms/step - loss: 0.0019 - accuracy: 0.9996 - val_loss: 7.7646e-04 - val_accuracy: 0.9995 - lr: 1.0000e-05\n",
            "Epoch 32/100\n",
            "401/401 [==============================] - ETA: 0s - loss: 1.8819e-04 - accuracy: 1.0000\n",
            "Epoch 32: val_accuracy did not improve from 1.00000\n",
            "401/401 [==============================] - 115s 287ms/step - loss: 1.8819e-04 - accuracy: 1.0000 - val_loss: 6.6448e-04 - val_accuracy: 0.9995 - lr: 1.0000e-05\n",
            "Epoch 33/100\n",
            "401/401 [==============================] - ETA: 0s - loss: 4.5510e-04 - accuracy: 0.9999\n",
            "Epoch 33: val_accuracy did not improve from 1.00000\n",
            "401/401 [==============================] - 114s 284ms/step - loss: 4.5510e-04 - accuracy: 0.9999 - val_loss: 5.1361e-04 - val_accuracy: 0.9995 - lr: 1.0000e-05\n",
            "Epoch 34/100\n",
            "401/401 [==============================] - ETA: 0s - loss: 3.3555e-04 - accuracy: 1.0000\n",
            "Epoch 34: val_accuracy did not improve from 1.00000\n",
            "401/401 [==============================] - 115s 287ms/step - loss: 3.3555e-04 - accuracy: 1.0000 - val_loss: 4.6365e-04 - val_accuracy: 1.0000 - lr: 1.0000e-05\n",
            "Epoch 35/100\n",
            "401/401 [==============================] - ETA: 0s - loss: 6.5549e-04 - accuracy: 0.9999\n",
            "Epoch 35: val_accuracy did not improve from 1.00000\n",
            "\n",
            "Epoch 35: ReduceLROnPlateau reducing learning rate to 1.0000000656873453e-06.\n",
            "401/401 [==============================] - 114s 285ms/step - loss: 6.5549e-04 - accuracy: 0.9999 - val_loss: 5.3995e-04 - val_accuracy: 0.9995 - lr: 1.0000e-05\n",
            "Epoch 36/100\n",
            "401/401 [==============================] - ETA: 0s - loss: 1.9347e-04 - accuracy: 1.0000\n",
            "Epoch 36: val_accuracy did not improve from 1.00000\n",
            "401/401 [==============================] - 114s 285ms/step - loss: 1.9347e-04 - accuracy: 1.0000 - val_loss: 3.9552e-04 - val_accuracy: 1.0000 - lr: 1.0000e-06\n",
            "Epoch 37/100\n",
            "401/401 [==============================] - ETA: 0s - loss: 1.6934e-04 - accuracy: 1.0000\n",
            "Epoch 37: val_accuracy did not improve from 1.00000\n",
            "401/401 [==============================] - 121s 301ms/step - loss: 1.6934e-04 - accuracy: 1.0000 - val_loss: 5.3030e-04 - val_accuracy: 0.9995 - lr: 1.0000e-06\n",
            "Epoch 38/100\n",
            "401/401 [==============================] - ETA: 0s - loss: 7.0847e-04 - accuracy: 0.9998\n",
            "Epoch 38: val_accuracy did not improve from 1.00000\n",
            "401/401 [==============================] - 114s 285ms/step - loss: 7.0847e-04 - accuracy: 0.9998 - val_loss: 4.0283e-04 - val_accuracy: 1.0000 - lr: 1.0000e-06\n",
            "Epoch 39/100\n",
            "401/401 [==============================] - ETA: 0s - loss: 3.5460e-04 - accuracy: 1.0000\n",
            "Epoch 39: val_accuracy did not improve from 1.00000\n",
            "401/401 [==============================] - 114s 285ms/step - loss: 3.5460e-04 - accuracy: 1.0000 - val_loss: 3.1566e-04 - val_accuracy: 1.0000 - lr: 1.0000e-06\n",
            "Epoch 40/100\n",
            "401/401 [==============================] - ETA: 0s - loss: 2.8190e-04 - accuracy: 1.0000\n",
            "Epoch 40: val_accuracy did not improve from 1.00000\n",
            "\n",
            "Epoch 40: ReduceLROnPlateau reducing learning rate to 1.0000001111620805e-07.\n",
            "401/401 [==============================] - 114s 285ms/step - loss: 2.8190e-04 - accuracy: 1.0000 - val_loss: 4.2352e-04 - val_accuracy: 1.0000 - lr: 1.0000e-06\n",
            "Epoch 41/100\n",
            "401/401 [==============================] - ETA: 0s - loss: 9.9968e-04 - accuracy: 0.9996\n",
            "Epoch 41: val_accuracy did not improve from 1.00000\n",
            "401/401 [==============================] - 114s 285ms/step - loss: 9.9968e-04 - accuracy: 0.9996 - val_loss: 4.2837e-04 - val_accuracy: 1.0000 - lr: 1.0000e-07\n",
            "Epoch 42/100\n",
            "401/401 [==============================] - ETA: 0s - loss: 0.0022 - accuracy: 0.9994\n",
            "Epoch 42: val_accuracy did not improve from 1.00000\n",
            "401/401 [==============================] - 114s 285ms/step - loss: 0.0022 - accuracy: 0.9994 - val_loss: 3.6982e-04 - val_accuracy: 1.0000 - lr: 1.0000e-07\n",
            "Epoch 43/100\n",
            "401/401 [==============================] - ETA: 0s - loss: 2.4794e-04 - accuracy: 1.0000\n",
            "Epoch 43: val_accuracy did not improve from 1.00000\n",
            "Restoring model weights from the end of the best epoch: 23.\n",
            "401/401 [==============================] - 115s 286ms/step - loss: 2.4794e-04 - accuracy: 1.0000 - val_loss: 4.6287e-04 - val_accuracy: 1.0000 - lr: 1.0000e-07\n",
            "Epoch 43: early stopping\n"
          ]
        }
      ],
      "source": [
        "# Define the number of epochs\n",
        "num_epochs = 100\n",
        "\n",
        "# Train the model\n",
        "history_Xception_model_1 = Xception1_model.fit(train_generator, epochs=num_epochs, validation_data=validation_generator, callbacks=callbacks)"
      ]
    },
    {
      "cell_type": "code",
      "execution_count": 12,
      "metadata": {
        "colab": {
          "base_uri": "https://localhost:8080/",
          "height": 904
        },
        "id": "qyNHvaPp9ZDe",
        "outputId": "ac5d6bc8-9ab3-401c-e129-a1bad26af7fe",
        "tags": []
      },
      "outputs": [
        {
          "data": {
            "text/plain": [
              "Text(0.5, 1.0, 'Training and validation loss DIY Model')"
            ]
          },
          "execution_count": 12,
          "metadata": {},
          "output_type": "execute_result"
        },
        {
          "data": {
            "image/png": "[encoded data removed]",
            "text/plain": [
              "<Figure size 640x480 with 1 Axes>"
            ]
          },
          "metadata": {},
          "output_type": "display_data"
        },
        {
          "data": {
            "image/png": "[encoded data removed]",
            "text/plain": [
              "<Figure size 640x480 with 1 Axes>"
            ]
          },
          "metadata": {},
          "output_type": "display_data"
        }
      ],
      "source": [
        "#-----------------------------------------------------------\n",
        "# Retrieve a list of list results on training and test data\n",
        "# sets for each training epoch\n",
        "#-----------------------------------------------------------\n",
        "acc      = history_Xception_model_1.history['accuracy' ]\n",
        "val_acc  = history_Xception_model_1.history['val_accuracy' ]\n",
        "loss     = history_Xception_model_1.history['loss' ]\n",
        "val_loss = history_Xception_model_1.history['val_loss' ]\n",
        "\n",
        "epochs   = range(len(acc)) # Get number of epochs\n",
        "\n",
        "#------------------------------------------------\n",
        "# Plot training and validation accuracy per epoch\n",
        "#------------------------------------------------\n",
        "plt.plot  (epochs, acc )\n",
        "plt.plot  (epochs, val_acc )\n",
        "plt.title ('Training and validation accuracy DIY Model')\n",
        "plt.figure()\n",
        "\n",
        "#------------------------------------------------\n",
        "# Plot training and validation loss per epoch\n",
        "#------------------------------------------------\n",
        "plt.plot  (epochs, loss)\n",
        "plt.plot  (epochs, val_loss)\n",
        "plt.title ('Training and validation loss DIY Model')"
      ]
    }
  ],
  "metadata": {
    "accelerator": "GPU",
    "colab": {
      "gpuType": "T4",
      "provenance": []
    },
    "gpuClass": "standard",
    "kernelspec": {
      "display_name": "Python 3 (ipykernel)",
      "language": "python",
      "name": "python3"
    },
    "language_info": {
      "codemirror_mode": {
        "name": "ipython",
        "version": 3
      },
      "file_extension": ".py",
      "mimetype": "text/x-python",
      "name": "python",
      "nbconvert_exporter": "python",
      "pygments_lexer": "ipython3",
      "version": "3.10.0"
    }
  },
  "nbformat": 4,
  "nbformat_minor": 0
}
