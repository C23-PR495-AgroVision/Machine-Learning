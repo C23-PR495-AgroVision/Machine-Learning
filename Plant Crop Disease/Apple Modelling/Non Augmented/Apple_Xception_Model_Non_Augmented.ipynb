{
  "cells": [
    {
      "attachments": {},
      "cell_type": "markdown",
      "metadata": {
        "id": "BpgbrA9j9ZDT"
      },
      "source": [
        "# Library"
      ]
    },
    {
      "cell_type": "code",
      "execution_count": 1,
      "metadata": {
        "colab": {
          "base_uri": "https://localhost:8080/"
        },
        "id": "5d8cHmVK9ZDW",
        "outputId": "8462b964-5fe3-45d4-ed1c-b301f01f172f",
        "tags": []
      },
      "outputs": [
        {
          "name": "stdout",
          "output_type": "stream",
          "text": [
            "Looking in indexes: https://pypi.org/simple, https://us-python.pkg.dev/colab-wheels/public/simple/\n",
            "Requirement already satisfied: matplotlib in /usr/local/lib/python3.10/dist-packages (3.7.1)\n",
            "Requirement already satisfied: contourpy>=1.0.1 in /usr/local/lib/python3.10/dist-packages (from matplotlib) (1.0.7)\n",
            "Requirement already satisfied: cycler>=0.10 in /usr/local/lib/python3.10/dist-packages (from matplotlib) (0.11.0)\n",
            "Requirement already satisfied: fonttools>=4.22.0 in /usr/local/lib/python3.10/dist-packages (from matplotlib) (4.39.3)\n",
            "Requirement already satisfied: kiwisolver>=1.0.1 in /usr/local/lib/python3.10/dist-packages (from matplotlib) (1.4.4)\n",
            "Requirement already satisfied: numpy>=1.20 in /usr/local/lib/python3.10/dist-packages (from matplotlib) (1.22.4)\n",
            "Requirement already satisfied: packaging>=20.0 in /usr/local/lib/python3.10/dist-packages (from matplotlib) (23.1)\n",
            "Requirement already satisfied: pillow>=6.2.0 in /usr/local/lib/python3.10/dist-packages (from matplotlib) (8.4.0)\n",
            "Requirement already satisfied: pyparsing>=2.3.1 in /usr/local/lib/python3.10/dist-packages (from matplotlib) (3.0.9)\n",
            "Requirement already satisfied: python-dateutil>=2.7 in /usr/local/lib/python3.10/dist-packages (from matplotlib) (2.8.2)\n",
            "Requirement already satisfied: six>=1.5 in /usr/local/lib/python3.10/dist-packages (from python-dateutil>=2.7->matplotlib) (1.16.0)\n"
          ]
        }
      ],
      "source": [
        "pip install matplotlib"
      ]
    },
    {
      "cell_type": "code",
      "execution_count": 2,
      "metadata": {
        "colab": {
          "base_uri": "https://localhost:8080/"
        },
        "id": "KsT4qa2J9ZDY",
        "outputId": "5265bd6f-0757-4c4e-dfcf-1bc9f9975ee2",
        "tags": []
      },
      "outputs": [
        {
          "name": "stdout",
          "output_type": "stream",
          "text": [
            "Looking in indexes: https://pypi.org/simple, https://us-python.pkg.dev/colab-wheels/public/simple/\n",
            "Collecting opendatasets\n",
            "  Downloading opendatasets-0.1.22-py3-none-any.whl (15 kB)\n",
            "Requirement already satisfied: tqdm in /usr/local/lib/python3.10/dist-packages (from opendatasets) (4.65.0)\n",
            "Requirement already satisfied: kaggle in /usr/local/lib/python3.10/dist-packages (from opendatasets) (1.5.13)\n",
            "Requirement already satisfied: click in /usr/local/lib/python3.10/dist-packages (from opendatasets) (8.1.3)\n",
            "Requirement already satisfied: six>=1.10 in /usr/local/lib/python3.10/dist-packages (from kaggle->opendatasets) (1.16.0)\n",
            "Requirement already satisfied: certifi in /usr/local/lib/python3.10/dist-packages (from kaggle->opendatasets) (2022.12.7)\n",
            "Requirement already satisfied: python-dateutil in /usr/local/lib/python3.10/dist-packages (from kaggle->opendatasets) (2.8.2)\n",
            "Requirement already satisfied: requests in /usr/local/lib/python3.10/dist-packages (from kaggle->opendatasets) (2.27.1)\n",
            "Requirement already satisfied: python-slugify in /usr/local/lib/python3.10/dist-packages (from kaggle->opendatasets) (8.0.1)\n",
            "Requirement already satisfied: urllib3 in /usr/local/lib/python3.10/dist-packages (from kaggle->opendatasets) (1.26.15)\n",
            "Requirement already satisfied: text-unidecode>=1.3 in /usr/local/lib/python3.10/dist-packages (from python-slugify->kaggle->opendatasets) (1.3)\n",
            "Requirement already satisfied: charset-normalizer~=2.0.0 in /usr/local/lib/python3.10/dist-packages (from requests->kaggle->opendatasets) (2.0.12)\n",
            "Requirement already satisfied: idna<4,>=2.5 in /usr/local/lib/python3.10/dist-packages (from requests->kaggle->opendatasets) (3.4)\n",
            "Installing collected packages: opendatasets\n",
            "Successfully installed opendatasets-0.1.22\n"
          ]
        }
      ],
      "source": [
        "pip install opendatasets"
      ]
    },
    {
      "cell_type": "code",
      "execution_count": 3,
      "metadata": {
        "id": "RIjvYXAJ7nsG"
      },
      "outputs": [],
      "source": [
        "# Library to dataset\n",
        "import opendatasets as od\n",
        "import os\n",
        "import zipfile\n",
        "import numpy as np\n",
        "\n",
        "# Surpress Warnings\n",
        "import warnings\n",
        "warnings.filterwarnings('ignore')\n",
        "os.environ['TF_CPP_MIN_LOG_LEVEL'] = '3' \n",
        "# library visualization\n",
        "import matplotlib.pyplot as plt\n",
        "\n",
        "# Library Tensorflow\n",
        "import tensorflow as tf\n",
        "from tensorflow import keras\n",
        "from tensorflow.keras.preprocessing.image import ImageDataGenerator\n",
        "from tensorflow.keras.callbacks import ModelCheckpoint, EarlyStopping, ReduceLROnPlateau\n",
        "from tensorflow.keras.applications.densenet import DenseNet121\n",
        "from tensorflow.keras.applications.xception import Xception\n",
        "# Others\n",
        "import shutil\n",
        "import random"
      ]
    },
    {
      "attachments": {},
      "cell_type": "markdown",
      "metadata": {
        "id": "1QZa_XMd9ZDZ"
      },
      "source": [
        "# Load dataset"
      ]
    },
    {
      "cell_type": "code",
      "execution_count": 4,
      "metadata": {
        "colab": {
          "base_uri": "https://localhost:8080/"
        },
        "id": "CH0iNFLH7rmp",
        "outputId": "c6e42da8-d04b-4a0b-c1cf-4d0d96901f53"
      },
      "outputs": [
        {
          "name": "stdout",
          "output_type": "stream",
          "text": [
            "Please provide your Kaggle credentials to download this dataset. Learn more: http://bit.ly/kaggle-creds\n",
            "Your Kaggle username: ahmadhabibhasanzein\n",
            "Your Kaggle Key: ··········\n",
            "Downloading apple-data.zip to ./apple-data\n"
          ]
        },
        {
          "name": "stderr",
          "output_type": "stream",
          "text": [
            "100%|██████████| 216M/216M [00:06<00:00, 35.2MB/s]\n"
          ]
        },
        {
          "name": "stdout",
          "output_type": "stream",
          "text": [
            "\n"
          ]
        }
      ],
      "source": [
        "# Download dataset\n",
        "od.download('https://www.kaggle.com/datasets/ahmadhabibhasanzein/apple-data')"
      ]
    },
    {
      "cell_type": "code",
      "execution_count": 5,
      "metadata": {
        "colab": {
          "base_uri": "https://localhost:8080/"
        },
        "id": "fjuuT1_V9ZDa",
        "outputId": "5c2a27b0-224d-40c9-8a58-d7b598fed5a7",
        "tags": []
      },
      "outputs": [
        {
          "name": "stdout",
          "output_type": "stream",
          "text": [
            "==========================Training Data====================\n",
            "Found 8014 files belonging to 4 classes.\n",
            "==========================Validation Data====================\n",
            "Found 1943 files belonging to 4 classes.\n"
          ]
        }
      ],
      "source": [
        "# Load dataset\n",
        "print(\"==========================Training Data====================\")\n",
        "train_data = tf.keras.preprocessing.image_dataset_from_directory(\n",
        "    \"/content/apple-data/Apple/train\",\n",
        "    label_mode=\"categorical\",\n",
        "    class_names=['Apple Black rot', 'Apple Scab Leaf', 'Apple leaf Healthy', 'Apple rust leaf'],\n",
        "    color_mode=\"rgb\",\n",
        "    batch_size=1,\n",
        "    image_size=(256, 256),\n",
        "    shuffle=True,\n",
        "    seed=123\n",
        ")\n",
        "print(\"==========================Validation Data====================\")\n",
        "val_data = tf.keras.preprocessing.image_dataset_from_directory(\n",
        "    \"/content/apple-data/Apple/valid\",\n",
        "    label_mode=\"categorical\",\n",
        "    class_names=['Apple Black rot', 'Apple Scab Leaf', 'Apple leaf Healthy', 'Apple rust leaf'],\n",
        "    color_mode=\"rgb\",\n",
        "    batch_size=1,\n",
        "    image_size=(256, 256),\n",
        "    shuffle=True,\n",
        "    seed=123\n",
        ")"
      ]
    },
    {
      "cell_type": "code",
      "execution_count": 6,
      "metadata": {
        "colab": {
          "base_uri": "https://localhost:8080/"
        },
        "id": "YFs93hWJ9ZDa",
        "outputId": "5a053169-456e-4592-b97f-2c5442b74b5a",
        "tags": []
      },
      "outputs": [
        {
          "name": "stdout",
          "output_type": "stream",
          "text": [
            "Found 8014 images belonging to 4 classes.\n",
            "Found 1943 images belonging to 4 classes.\n"
          ]
        }
      ],
      "source": [
        "# All images will be rescaled by 1./255.\n",
        "train_datagen = ImageDataGenerator(rescale = 1.0/256.)\n",
        "test_datagen  = ImageDataGenerator(rescale = 1.0/256.)\n",
        "\n",
        "# --------------------\n",
        "# Flow training images in batches of 20 using train_datagen generator\n",
        "# --------------------\n",
        "train_generator = train_datagen.flow_from_directory(\"/content/apple-data/Apple/train\",\n",
        "                                                    batch_size=20,\n",
        "                                                    class_mode='categorical',\n",
        "                                                    target_size=(224, 224))     \n",
        "# --------------------\n",
        "# Flow validation images in batches of 20 using test_datagen generator\n",
        "# --------------------\n",
        "validation_generator =  test_datagen.flow_from_directory(\"/content/apple-data/Apple/valid\",\n",
        "                                                         batch_size=20,\n",
        "                                                         class_mode  = 'categorical',\n",
        "                                                         target_size = (224, 224))"
      ]
    },
    {
      "attachments": {},
      "cell_type": "markdown",
      "metadata": {
        "id": "JEk8KUFR9ZDb"
      },
      "source": [
        "# List Resource"
      ]
    },
    {
      "cell_type": "code",
      "execution_count": null,
      "metadata": {
        "colab": {
          "base_uri": "https://localhost:8080/"
        },
        "id": "Lqej6-_09ZDb",
        "outputId": "8851d052-fa31-4e09-96b2-ccf7f71caf87",
        "tags": []
      },
      "outputs": [
        {
          "name": "stdout",
          "output_type": "stream",
          "text": [
            "Sat May 20 07:02:52 2023       \n",
            "+-----------------------------------------------------------------------------+\n",
            "| NVIDIA-SMI 525.85.12    Driver Version: 525.85.12    CUDA Version: 12.0     |\n",
            "|-------------------------------+----------------------+----------------------+\n",
            "| GPU  Name        Persistence-M| Bus-Id        Disp.A | Volatile Uncorr. ECC |\n",
            "| Fan  Temp  Perf  Pwr:Usage/Cap|         Memory-Usage | GPU-Util  Compute M. |\n",
            "|                               |                      |               MIG M. |\n",
            "|===============================+======================+======================|\n",
            "|   0  Tesla T4            Off  | 00000000:00:04.0 Off |                    0 |\n",
            "| N/A   69C    P0    32W /  70W |    375MiB / 15360MiB |      0%      Default |\n",
            "|                               |                      |                  N/A |\n",
            "+-------------------------------+----------------------+----------------------+\n",
            "                                                                               \n",
            "+-----------------------------------------------------------------------------+\n",
            "| Processes:                                                                  |\n",
            "|  GPU   GI   CI        PID   Type   Process name                  GPU Memory |\n",
            "|        ID   ID                                                   Usage      |\n",
            "|=============================================================================|\n",
            "+-----------------------------------------------------------------------------+\n"
          ]
        }
      ],
      "source": [
        "# Check GPU\n",
        "!nvidia-smi"
      ]
    },
    {
      "cell_type": "code",
      "execution_count": null,
      "metadata": {
        "colab": {
          "base_uri": "https://localhost:8080/"
        },
        "id": "WPJg4t989ZDc",
        "outputId": "d167b073-12f5-4d40-9a01-b46405249e78",
        "tags": []
      },
      "outputs": [
        {
          "data": {
            "text/plain": [
              "[PhysicalDevice(name='/physical_device:GPU:0', device_type='GPU')]"
            ]
          },
          "execution_count": 8,
          "metadata": {},
          "output_type": "execute_result"
        }
      ],
      "source": [
        "# Lis physical devices\n",
        "devices = tf.config.experimental.list_physical_devices(\"GPU\")\n",
        "devices"
      ]
    },
    {
      "cell_type": "code",
      "execution_count": null,
      "metadata": {
        "id": "QAHLbHWM9ZDc",
        "tags": []
      },
      "outputs": [],
      "source": [
        "# Define the GPU strategy\n",
        "mirrored_strategy = tf.distribute.MirroredStrategy(devices=[\"/gpu:0\"])"
      ]
    },
    {
      "attachments": {},
      "cell_type": "markdown",
      "metadata": {
        "id": "G0-JWhKo9ZDc"
      },
      "source": [
        "# Modelling Without Augmentation"
      ]
    },
    {
      "attachments": {},
      "cell_type": "markdown",
      "metadata": {
        "id": "zoBS_ATI9ZDd"
      },
      "source": [
        "## Xception Model 1"
      ]
    },
    {
      "cell_type": "code",
      "execution_count": 7,
      "metadata": {
        "id": "2eyrV-MJ9ZDd",
        "tags": []
      },
      "outputs": [],
      "source": [
        "# Difine the callbacks\n",
        "# Save the best model\n",
        "checkpoint_callback = ModelCheckpoint(filepath=\"Apple_Xception_model1_Based_Non_Augmented\", save_best_only=True, monitor=\"val_accuracy\", mode=\"max\", verbose=1)\n",
        "\n",
        "# Early stopping\n",
        "early_stopping_callback = EarlyStopping(monitor=\"val_accuracy\", mode=\"max\", patience=20, verbose=1, restore_best_weights=True)\n",
        "\n",
        "# Reduce learning rate\n",
        "reduce_lr_callback = ReduceLROnPlateau(monitor=\"val_loss\", factor=0.1, patience=5, verbose=1, mode=\"min\", min_delta=0.0001, cooldown=0, min_lr=0)\n",
        "\n",
        "# Callbacks list\n",
        "callbacks=[checkpoint_callback, early_stopping_callback, reduce_lr_callback]"
      ]
    },
    {
      "cell_type": "code",
      "execution_count": 8,
      "metadata": {
        "colab": {
          "base_uri": "https://localhost:8080/"
        },
        "id": "_i_E_m-f9ZDd",
        "outputId": "661ee06d-466a-44a1-eecb-59be4e8f3464",
        "tags": []
      },
      "outputs": [
        {
          "name": "stdout",
          "output_type": "stream",
          "text": [
            "Downloading data from https://storage.googleapis.com/tensorflow/keras-applications/xception/xception_weights_tf_dim_ordering_tf_kernels_notop.h5\n",
            "83683744/83683744 [==============================] - 1s 0us/step\n",
            "Model: \"sequential\"\n",
            "_________________________________________________________________\n",
            " Layer (type)                Output Shape              Param #   \n",
            "=================================================================\n",
            " xception (Functional)       (None, 7, 7, 2048)        20861480  \n",
            "                                                                 \n",
            " global_max_pooling2d (Globa  (None, 2048)             0         \n",
            " lMaxPooling2D)                                                  \n",
            "                                                                 \n",
            " dropout (Dropout)           (None, 2048)              0         \n",
            "                                                                 \n",
            " dense (Dense)               (None, 256)               524544    \n",
            "                                                                 \n",
            " dense_1 (Dense)             (None, 4)                 1028      \n",
            "                                                                 \n",
            "=================================================================\n",
            "Total params: 21,387,052\n",
            "Trainable params: 21,332,524\n",
            "Non-trainable params: 54,528\n",
            "_________________________________________________________________\n"
          ]
        }
      ],
      "source": [
        "# Define Model\n",
        "Xception1_model = tf.keras.models.Sequential([\n",
        "    # Xception Layer\n",
        "    Xception(include_top=False,weights='imagenet',input_shape=(224, 224, 3)),\n",
        "    # Max Pooling Layer\n",
        "    tf.keras.layers.GlobalMaxPooling2D(),\n",
        "    # Drop Out Layer\n",
        "    tf.keras.layers.Dropout(0.2),\n",
        "    # 256 neuron hidden layer\n",
        "    tf.keras.layers.Dense(256, activation='relu'),\n",
        "    # Output\n",
        "    tf.keras.layers.Dense(4, activation='softmax') \n",
        "  ])\n",
        "\n",
        "\n",
        "# Compile Model\n",
        "Xception1_model.compile(loss='categorical_crossentropy',optimizer=tf.keras.optimizers.Adam(), metrics=['accuracy']) \n",
        "\n",
        "# Model Summary\n",
        "Xception1_model.summary()"
      ]
    },
    {
      "cell_type": "code",
      "execution_count": 9,
      "metadata": {
        "colab": {
          "base_uri": "https://localhost:8080/"
        },
        "id": "jxKWPLUP9ZDd",
        "outputId": "ad9871a0-bc63-48ed-c3ff-30c7a38cbf8d",
        "tags": []
      },
      "outputs": [
        {
          "name": "stdout",
          "output_type": "stream",
          "text": [
            "Epoch 1/100\n",
            "401/401 [==============================] - ETA: 0s - loss: 0.4063 - accuracy: 0.8511\n",
            "Epoch 1: val_accuracy improved from -inf to 0.95162, saving model to Apple_Xception_model1_Based_Non_Augmented\n"
          ]
        },
        {
          "name": "stderr",
          "output_type": "stream",
          "text": [
            "WARNING:absl:Found untraced functions such as _jit_compiled_convolution_op, _jit_compiled_convolution_op, _jit_compiled_convolution_op, _jit_compiled_convolution_op, _jit_compiled_convolution_op while saving (showing 5 of 40). These functions will not be directly callable after loading.\n"
          ]
        },
        {
          "name": "stdout",
          "output_type": "stream",
          "text": [
            "\b\b\b\b\b\b\b\b\b\b\b\b\b\b\b\b\b\b\b\b\b\b\b\b\b\b\b\b\b\b\b\b\b\b\b\b\b\b\b\b\b\b\b\b\b\b\b\b\b\b\b\b\b\b\b\b\b\b\b\b\b\b\b\b\b\b\b\b\b\b\b\b\b\b\b\b\b\b\b\b\b\b\b\b\r401/401 [==============================] - 210s 403ms/step - loss: 0.4063 - accuracy: 0.8511 - val_loss: 0.1521 - val_accuracy: 0.9516 - lr: 0.0010\n",
            "Epoch 2/100\n",
            "401/401 [==============================] - ETA: 0s - loss: 0.1059 - accuracy: 0.9702\n",
            "Epoch 2: val_accuracy improved from 0.95162 to 0.97581, saving model to Apple_Xception_model1_Based_Non_Augmented\n"
          ]
        },
        {
          "name": "stderr",
          "output_type": "stream",
          "text": [
            "WARNING:absl:Found untraced functions such as _jit_compiled_convolution_op, _jit_compiled_convolution_op, _jit_compiled_convolution_op, _jit_compiled_convolution_op, _jit_compiled_convolution_op while saving (showing 5 of 40). These functions will not be directly callable after loading.\n"
          ]
        },
        {
          "name": "stdout",
          "output_type": "stream",
          "text": [
            "\b\b\b\b\b\b\b\b\b\b\b\b\b\b\b\b\b\b\b\b\b\b\b\b\b\b\b\b\b\b\b\b\b\b\b\b\b\b\b\b\b\b\b\b\b\b\b\b\b\b\b\b\b\b\b\b\b\b\b\b\b\b\b\b\b\b\b\b\b\b\b\b\b\b\b\b\b\b\b\b\b\b\b\b\r401/401 [==============================] - 161s 400ms/step - loss: 0.1059 - accuracy: 0.9702 - val_loss: 0.0851 - val_accuracy: 0.9758 - lr: 0.0010\n",
            "Epoch 3/100\n",
            "401/401 [==============================] - ETA: 0s - loss: 0.0795 - accuracy: 0.9795\n",
            "Epoch 3: val_accuracy improved from 0.97581 to 0.99949, saving model to Apple_Xception_model1_Based_Non_Augmented\n"
          ]
        },
        {
          "name": "stderr",
          "output_type": "stream",
          "text": [
            "WARNING:absl:Found untraced functions such as _jit_compiled_convolution_op, _jit_compiled_convolution_op, _jit_compiled_convolution_op, _jit_compiled_convolution_op, _jit_compiled_convolution_op while saving (showing 5 of 40). These functions will not be directly callable after loading.\n"
          ]
        },
        {
          "name": "stdout",
          "output_type": "stream",
          "text": [
            "\b\b\b\b\b\b\b\b\b\b\b\b\b\b\b\b\b\b\b\b\b\b\b\b\b\b\b\b\b\b\b\b\b\b\b\b\b\b\b\b\b\b\b\b\b\b\b\b\b\b\b\b\b\b\b\b\b\b\b\b\b\b\b\b\b\b\b\b\b\b\b\b\b\b\b\b\b\b\b\b\b\b\b\b\r401/401 [==============================] - 166s 413ms/step - loss: 0.0795 - accuracy: 0.9795 - val_loss: 0.0033 - val_accuracy: 0.9995 - lr: 0.0010\n",
            "Epoch 4/100\n",
            "401/401 [==============================] - ETA: 0s - loss: 0.0521 - accuracy: 0.9854\n",
            "Epoch 4: val_accuracy did not improve from 0.99949\n",
            "401/401 [==============================] - 138s 343ms/step - loss: 0.0521 - accuracy: 0.9854 - val_loss: 0.0698 - val_accuracy: 0.9779 - lr: 0.0010\n",
            "Epoch 5/100\n",
            "401/401 [==============================] - ETA: 0s - loss: 0.0588 - accuracy: 0.9822\n",
            "Epoch 5: val_accuracy did not improve from 0.99949\n",
            "401/401 [==============================] - 139s 346ms/step - loss: 0.0588 - accuracy: 0.9822 - val_loss: 0.0099 - val_accuracy: 0.9974 - lr: 0.0010\n",
            "Epoch 6/100\n",
            "401/401 [==============================] - ETA: 0s - loss: 0.0587 - accuracy: 0.9822\n",
            "Epoch 6: val_accuracy did not improve from 0.99949\n",
            "401/401 [==============================] - 140s 348ms/step - loss: 0.0587 - accuracy: 0.9822 - val_loss: 0.0724 - val_accuracy: 0.9758 - lr: 0.0010\n",
            "Epoch 7/100\n",
            "401/401 [==============================] - ETA: 0s - loss: 0.0477 - accuracy: 0.9853\n",
            "Epoch 7: val_accuracy did not improve from 0.99949\n",
            "401/401 [==============================] - 137s 342ms/step - loss: 0.0477 - accuracy: 0.9853 - val_loss: 0.0030 - val_accuracy: 0.9990 - lr: 0.0010\n",
            "Epoch 8/100\n",
            "401/401 [==============================] - ETA: 0s - loss: 0.0254 - accuracy: 0.9926\n",
            "Epoch 8: val_accuracy did not improve from 0.99949\n",
            "401/401 [==============================] - 137s 341ms/step - loss: 0.0254 - accuracy: 0.9926 - val_loss: 0.0199 - val_accuracy: 0.9959 - lr: 0.0010\n",
            "Epoch 9/100\n",
            "401/401 [==============================] - ETA: 0s - loss: 0.0376 - accuracy: 0.9884\n",
            "Epoch 9: val_accuracy did not improve from 0.99949\n",
            "401/401 [==============================] - 137s 342ms/step - loss: 0.0376 - accuracy: 0.9884 - val_loss: 315.0136 - val_accuracy: 0.5975 - lr: 0.0010\n",
            "Epoch 10/100\n",
            "401/401 [==============================] - ETA: 0s - loss: 0.0406 - accuracy: 0.9870\n",
            "Epoch 10: val_accuracy did not improve from 0.99949\n",
            "401/401 [==============================] - 137s 341ms/step - loss: 0.0406 - accuracy: 0.9870 - val_loss: 0.5284 - val_accuracy: 0.9768 - lr: 0.0010\n",
            "Epoch 11/100\n",
            "401/401 [==============================] - ETA: 0s - loss: 0.0395 - accuracy: 0.9889\n",
            "Epoch 11: val_accuracy did not improve from 0.99949\n",
            "401/401 [==============================] - 139s 347ms/step - loss: 0.0395 - accuracy: 0.9889 - val_loss: 0.1474 - val_accuracy: 0.9619 - lr: 0.0010\n",
            "Epoch 12/100\n",
            "401/401 [==============================] - ETA: 0s - loss: 0.0449 - accuracy: 0.9870\n",
            "Epoch 12: val_accuracy did not improve from 0.99949\n",
            "\n",
            "Epoch 12: ReduceLROnPlateau reducing learning rate to 0.00010000000474974513.\n",
            "401/401 [==============================] - 137s 340ms/step - loss: 0.0449 - accuracy: 0.9870 - val_loss: 0.1705 - val_accuracy: 0.9913 - lr: 0.0010\n",
            "Epoch 13/100\n",
            "401/401 [==============================] - ETA: 0s - loss: 0.0128 - accuracy: 0.9956\n",
            "Epoch 13: val_accuracy did not improve from 0.99949\n",
            "401/401 [==============================] - 137s 342ms/step - loss: 0.0128 - accuracy: 0.9956 - val_loss: 0.0895 - val_accuracy: 0.9974 - lr: 1.0000e-04\n",
            "Epoch 14/100\n",
            "401/401 [==============================] - ETA: 0s - loss: 0.0064 - accuracy: 0.9983\n",
            "Epoch 14: val_accuracy did not improve from 0.99949\n",
            "401/401 [==============================] - 137s 341ms/step - loss: 0.0064 - accuracy: 0.9983 - val_loss: 0.0895 - val_accuracy: 0.9979 - lr: 1.0000e-04\n",
            "Epoch 15/100\n",
            "401/401 [==============================] - ETA: 0s - loss: 0.0052 - accuracy: 0.9984\n",
            "Epoch 15: val_accuracy did not improve from 0.99949\n",
            "401/401 [==============================] - 137s 341ms/step - loss: 0.0052 - accuracy: 0.9984 - val_loss: 0.0509 - val_accuracy: 0.9979 - lr: 1.0000e-04\n",
            "Epoch 16/100\n",
            "401/401 [==============================] - ETA: 0s - loss: 0.0041 - accuracy: 0.9986\n",
            "Epoch 16: val_accuracy did not improve from 0.99949\n",
            "401/401 [==============================] - 137s 342ms/step - loss: 0.0041 - accuracy: 0.9986 - val_loss: 0.0286 - val_accuracy: 0.9990 - lr: 1.0000e-04\n",
            "Epoch 17/100\n",
            "401/401 [==============================] - ETA: 0s - loss: 0.0021 - accuracy: 0.9994\n",
            "Epoch 17: val_accuracy did not improve from 0.99949\n",
            "\n",
            "Epoch 17: ReduceLROnPlateau reducing learning rate to 1.0000000474974514e-05.\n",
            "401/401 [==============================] - 137s 342ms/step - loss: 0.0021 - accuracy: 0.9994 - val_loss: 0.0807 - val_accuracy: 0.9979 - lr: 1.0000e-04\n",
            "Epoch 18/100\n",
            "401/401 [==============================] - ETA: 0s - loss: 0.0020 - accuracy: 0.9994\n",
            "Epoch 18: val_accuracy did not improve from 0.99949\n",
            "401/401 [==============================] - 140s 349ms/step - loss: 0.0020 - accuracy: 0.9994 - val_loss: 0.0730 - val_accuracy: 0.9979 - lr: 1.0000e-05\n",
            "Epoch 19/100\n",
            "401/401 [==============================] - ETA: 0s - loss: 0.0025 - accuracy: 0.9990\n",
            "Epoch 19: val_accuracy did not improve from 0.99949\n",
            "401/401 [==============================] - 137s 342ms/step - loss: 0.0025 - accuracy: 0.9990 - val_loss: 0.0736 - val_accuracy: 0.9979 - lr: 1.0000e-05\n",
            "Epoch 20/100\n",
            "401/401 [==============================] - ETA: 0s - loss: 0.0010 - accuracy: 0.9999\n",
            "Epoch 20: val_accuracy did not improve from 0.99949\n",
            "401/401 [==============================] - 137s 343ms/step - loss: 0.0010 - accuracy: 0.9999 - val_loss: 0.0806 - val_accuracy: 0.9979 - lr: 1.0000e-05\n",
            "Epoch 21/100\n",
            "401/401 [==============================] - ETA: 0s - loss: 0.0017 - accuracy: 0.9994\n",
            "Epoch 21: val_accuracy did not improve from 0.99949\n",
            "401/401 [==============================] - 137s 341ms/step - loss: 0.0017 - accuracy: 0.9994 - val_loss: 0.0701 - val_accuracy: 0.9979 - lr: 1.0000e-05\n",
            "Epoch 22/100\n",
            "401/401 [==============================] - ETA: 0s - loss: 0.0016 - accuracy: 0.9994\n",
            "Epoch 22: val_accuracy did not improve from 0.99949\n",
            "\n",
            "Epoch 22: ReduceLROnPlateau reducing learning rate to 1.0000000656873453e-06.\n",
            "401/401 [==============================] - 137s 342ms/step - loss: 0.0016 - accuracy: 0.9994 - val_loss: 0.0595 - val_accuracy: 0.9979 - lr: 1.0000e-05\n",
            "Epoch 23/100\n",
            "401/401 [==============================] - ETA: 0s - loss: 0.0017 - accuracy: 0.9993\n",
            "Epoch 23: val_accuracy did not improve from 0.99949\n",
            "Restoring model weights from the end of the best epoch: 3.\n",
            "401/401 [==============================] - 137s 342ms/step - loss: 0.0017 - accuracy: 0.9993 - val_loss: 0.0687 - val_accuracy: 0.9979 - lr: 1.0000e-06\n",
            "Epoch 23: early stopping\n"
          ]
        }
      ],
      "source": [
        "# Define the number of epochs\n",
        "num_epochs = 100\n",
        "\n",
        "# Train the model\n",
        "history_Xception_model_1 = Xception1_model.fit(train_generator, epochs=num_epochs, validation_data=validation_generator, callbacks=callbacks)"
      ]
    },
    {
      "cell_type": "code",
      "execution_count": 10,
      "metadata": {
        "colab": {
          "base_uri": "https://localhost:8080/",
          "height": 904
        },
        "id": "qyNHvaPp9ZDe",
        "outputId": "ac5d6bc8-9ab3-401c-e129-a1bad26af7fe",
        "tags": []
      },
      "outputs": [
        {
          "data": {
            "text/plain": [
              "Text(0.5, 1.0, 'Training and validation loss DIY Model')"
            ]
          },
          "execution_count": 10,
          "metadata": {},
          "output_type": "execute_result"
        },
        {
          "data": {
            "image/png": "[encoded data removed]",
            "text/plain": [
              "<Figure size 640x480 with 1 Axes>"
            ]
          },
          "metadata": {},
          "output_type": "display_data"
        },
        {
          "data": {
            "image/png": "[encoded data removed]",
            "text/plain": [
              "<Figure size 640x480 with 1 Axes>"
            ]
          },
          "metadata": {},
          "output_type": "display_data"
        }
      ],
      "source": [
        "#-----------------------------------------------------------\n",
        "# Retrieve a list of list results on training and test data\n",
        "# sets for each training epoch\n",
        "#-----------------------------------------------------------\n",
        "acc      = history_Xception_model_1.history['accuracy' ]\n",
        "val_acc  = history_Xception_model_1.history['val_accuracy' ]\n",
        "loss     = history_Xception_model_1.history['loss' ]\n",
        "val_loss = history_Xception_model_1.history['val_loss' ]\n",
        "\n",
        "epochs   = range(len(acc)) # Get number of epochs\n",
        "\n",
        "#------------------------------------------------\n",
        "# Plot training and validation accuracy per epoch\n",
        "#------------------------------------------------\n",
        "plt.plot  (epochs, acc )\n",
        "plt.plot  (epochs, val_acc )\n",
        "plt.title ('Training and validation accuracy DIY Model')\n",
        "plt.figure()\n",
        "\n",
        "#------------------------------------------------\n",
        "# Plot training and validation loss per epoch\n",
        "#------------------------------------------------\n",
        "plt.plot  (epochs, loss)\n",
        "plt.plot  (epochs, val_loss)\n",
        "plt.title ('Training and validation loss DIY Model')"
      ]
    },
    {
      "attachments": {},
      "cell_type": "markdown",
      "metadata": {
        "id": "zgFuXnJ69ZDe"
      },
      "source": [
        "## Xception Model 2"
      ]
    },
    {
      "cell_type": "code",
      "execution_count": 12,
      "metadata": {
        "id": "gYUOFKFA9ZDe",
        "tags": []
      },
      "outputs": [],
      "source": [
        "# Difine the callbacks\n",
        "# Save the best model\n",
        "checkpoint_callback = ModelCheckpoint(filepath=\"Apple_Xception_model2_Based_Non_Augmented\", save_best_only=True, monitor=\"val_accuracy\", mode=\"max\", verbose=1)\n",
        "\n",
        "# Early stopping\n",
        "early_stopping_callback = EarlyStopping(monitor=\"val_accuracy\", mode=\"max\", patience=20, verbose=1, restore_best_weights=True)\n",
        "\n",
        "# Reduce learning rate\n",
        "reduce_lr_callback = ReduceLROnPlateau(monitor=\"val_loss\", factor=0.1, patience=5, verbose=1, mode=\"min\", min_delta=0.0001, cooldown=0, min_lr=0)\n",
        "\n",
        "# Callbacks list\n",
        "callbacks=[checkpoint_callback, early_stopping_callback, reduce_lr_callback]"
      ]
    },
    {
      "cell_type": "code",
      "execution_count": 13,
      "metadata": {
        "colab": {
          "base_uri": "https://localhost:8080/"
        },
        "id": "KJ7oNCnY9ZDe",
        "outputId": "8c5c2fde-9f30-4fba-8912-520c10fef04e",
        "tags": []
      },
      "outputs": [
        {
          "name": "stdout",
          "output_type": "stream",
          "text": [
            "Model: \"sequential_1\"\n",
            "_________________________________________________________________\n",
            " Layer (type)                Output Shape              Param #   \n",
            "=================================================================\n",
            " xception (Functional)       (None, 7, 7, 2048)        20861480  \n",
            "                                                                 \n",
            " global_average_pooling2d (G  (None, 2048)             0         \n",
            " lobalAveragePooling2D)                                          \n",
            "                                                                 \n",
            " dropout_1 (Dropout)         (None, 2048)              0         \n",
            "                                                                 \n",
            " dense_2 (Dense)             (None, 256)               524544    \n",
            "                                                                 \n",
            " dense_3 (Dense)             (None, 4)                 1028      \n",
            "                                                                 \n",
            "=================================================================\n",
            "Total params: 21,387,052\n",
            "Trainable params: 21,332,524\n",
            "Non-trainable params: 54,528\n",
            "_________________________________________________________________\n"
          ]
        }
      ],
      "source": [
        "# Define Model\n",
        "Xception_model_2 = tf.keras.models.Sequential([\n",
        "    # Xception Layer\n",
        "    Xception(include_top=False,weights='imagenet',input_shape=(224, 224, 3)),\n",
        "    # Global Average Pooling Layer\n",
        "    tf.keras.layers.GlobalAveragePooling2D(),\n",
        "    # Drop Out Layer\n",
        "    tf.keras.layers.Dropout(0.2),\n",
        "    # 256 neuron hidden layer\n",
        "    tf.keras.layers.Dense(256, activation='relu'),\n",
        "    # Output\n",
        "    tf.keras.layers.Dense(4, activation='softmax') \n",
        "  ])\n",
        "\n",
        "\n",
        "# Compile Model\n",
        "Xception_model_2.compile(loss='categorical_crossentropy',optimizer=tf.keras.optimizers.Adam(), metrics=['accuracy']) \n",
        "\n",
        "# Model Summary\n",
        "Xception_model_2.summary()"
      ]
    },
    {
      "cell_type": "code",
      "execution_count": 14,
      "metadata": {
        "colab": {
          "base_uri": "https://localhost:8080/"
        },
        "id": "oXCBSPm89ZDf",
        "outputId": "7a2003ca-e112-4540-b9ae-f0b84dda78ea",
        "tags": []
      },
      "outputs": [
        {
          "name": "stdout",
          "output_type": "stream",
          "text": [
            "Epoch 1/100\n",
            "401/401 [==============================] - ETA: 0s - loss: 0.1954 - accuracy: 0.9432\n",
            "Epoch 1: val_accuracy improved from -inf to 0.82964, saving model to Apple_Xception_model2_Based_Non_Augmented\n"
          ]
        },
        {
          "name": "stderr",
          "output_type": "stream",
          "text": [
            "WARNING:absl:Found untraced functions such as _jit_compiled_convolution_op, _jit_compiled_convolution_op, _jit_compiled_convolution_op, _jit_compiled_convolution_op, _jit_compiled_convolution_op while saving (showing 5 of 40). These functions will not be directly callable after loading.\n"
          ]
        },
        {
          "name": "stdout",
          "output_type": "stream",
          "text": [
            "\b\b\b\b\b\b\b\b\b\b\b\b\b\b\b\b\b\b\b\b\b\b\b\b\b\b\b\b\b\b\b\b\b\b\b\b\b\b\b\b\b\b\b\b\b\b\b\b\b\b\b\b\b\b\b\b\b\b\b\b\b\b\b\b\b\b\b\b\b\b\b\b\b\b\b\b\b\b\b\b\b\b\b\b\r401/401 [==============================] - 194s 415ms/step - loss: 0.1954 - accuracy: 0.9432 - val_loss: 5.3857 - val_accuracy: 0.8296 - lr: 0.0010\n",
            "Epoch 2/100\n",
            "401/401 [==============================] - ETA: 0s - loss: 0.0984 - accuracy: 0.9720\n",
            "Epoch 2: val_accuracy improved from 0.82964 to 0.99074, saving model to Apple_Xception_model2_Based_Non_Augmented\n"
          ]
        },
        {
          "name": "stderr",
          "output_type": "stream",
          "text": [
            "WARNING:absl:Found untraced functions such as _jit_compiled_convolution_op, _jit_compiled_convolution_op, _jit_compiled_convolution_op, _jit_compiled_convolution_op, _jit_compiled_convolution_op while saving (showing 5 of 40). These functions will not be directly callable after loading.\n"
          ]
        },
        {
          "name": "stdout",
          "output_type": "stream",
          "text": [
            "\b\b\b\b\b\b\b\b\b\b\b\b\b\b\b\b\b\b\b\b\b\b\b\b\b\b\b\b\b\b\b\b\b\b\b\b\b\b\b\b\b\b\b\b\b\b\b\b\b\b\b\b\b\b\b\b\b\b\b\b\b\b\b\b\b\b\b\b\b\b\b\b\b\b\b\b\b\b\b\b\b\b\b\b\r401/401 [==============================] - 164s 409ms/step - loss: 0.0984 - accuracy: 0.9720 - val_loss: 0.0389 - val_accuracy: 0.9907 - lr: 0.0010\n",
            "Epoch 3/100\n",
            "401/401 [==============================] - ETA: 0s - loss: 0.0758 - accuracy: 0.9750\n",
            "Epoch 3: val_accuracy did not improve from 0.99074\n",
            "401/401 [==============================] - 138s 344ms/step - loss: 0.0758 - accuracy: 0.9750 - val_loss: 0.4627 - val_accuracy: 0.9305 - lr: 0.0010\n",
            "Epoch 4/100\n",
            "401/401 [==============================] - ETA: 0s - loss: 0.0467 - accuracy: 0.9842\n",
            "Epoch 4: val_accuracy did not improve from 0.99074\n",
            "401/401 [==============================] - 137s 342ms/step - loss: 0.0467 - accuracy: 0.9842 - val_loss: 0.0270 - val_accuracy: 0.9907 - lr: 0.0010\n",
            "Epoch 5/100\n",
            "401/401 [==============================] - ETA: 0s - loss: 0.0555 - accuracy: 0.9833\n",
            "Epoch 5: val_accuracy did not improve from 0.99074\n",
            "401/401 [==============================] - 137s 342ms/step - loss: 0.0555 - accuracy: 0.9833 - val_loss: 0.1172 - val_accuracy: 0.9758 - lr: 0.0010\n",
            "Epoch 6/100\n",
            "401/401 [==============================] - ETA: 0s - loss: 0.0541 - accuracy: 0.9830\n",
            "Epoch 6: val_accuracy improved from 0.99074 to 0.99485, saving model to Apple_Xception_model2_Based_Non_Augmented\n"
          ]
        },
        {
          "name": "stderr",
          "output_type": "stream",
          "text": [
            "WARNING:absl:Found untraced functions such as _jit_compiled_convolution_op, _jit_compiled_convolution_op, _jit_compiled_convolution_op, _jit_compiled_convolution_op, _jit_compiled_convolution_op while saving (showing 5 of 40). These functions will not be directly callable after loading.\n"
          ]
        },
        {
          "name": "stdout",
          "output_type": "stream",
          "text": [
            "\b\b\b\b\b\b\b\b\b\b\b\b\b\b\b\b\b\b\b\b\b\b\b\b\b\b\b\b\b\b\b\b\b\b\b\b\b\b\b\b\b\b\b\b\b\b\b\b\b\b\b\b\b\b\b\b\b\b\b\b\b\b\b\b\b\b\b\b\b\b\b\b\b\b\b\b\b\b\b\b\b\b\b\b\r401/401 [==============================] - 162s 405ms/step - loss: 0.0541 - accuracy: 0.9830 - val_loss: 0.0175 - val_accuracy: 0.9949 - lr: 0.0010\n",
            "Epoch 7/100\n",
            "401/401 [==============================] - ETA: 0s - loss: 0.0288 - accuracy: 0.9910\n",
            "Epoch 7: val_accuracy did not improve from 0.99485\n",
            "401/401 [==============================] - 138s 344ms/step - loss: 0.0288 - accuracy: 0.9910 - val_loss: 0.1204 - val_accuracy: 0.9681 - lr: 0.0010\n",
            "Epoch 8/100\n",
            "401/401 [==============================] - ETA: 0s - loss: 0.0540 - accuracy: 0.9853\n",
            "Epoch 8: val_accuracy did not improve from 0.99485\n",
            "401/401 [==============================] - 140s 348ms/step - loss: 0.0540 - accuracy: 0.9853 - val_loss: 0.5577 - val_accuracy: 0.8811 - lr: 0.0010\n",
            "Epoch 9/100\n",
            "401/401 [==============================] - ETA: 0s - loss: 0.0304 - accuracy: 0.9908\n",
            "Epoch 9: val_accuracy did not improve from 0.99485\n",
            "401/401 [==============================] - 137s 342ms/step - loss: 0.0304 - accuracy: 0.9908 - val_loss: 0.0342 - val_accuracy: 0.9902 - lr: 0.0010\n",
            "Epoch 10/100\n",
            "401/401 [==============================] - ETA: 0s - loss: 0.0253 - accuracy: 0.9920\n",
            "Epoch 10: val_accuracy did not improve from 0.99485\n",
            "401/401 [==============================] - 137s 342ms/step - loss: 0.0253 - accuracy: 0.9920 - val_loss: 0.0389 - val_accuracy: 0.9882 - lr: 0.0010\n",
            "Epoch 11/100\n",
            "401/401 [==============================] - ETA: 0s - loss: 0.0335 - accuracy: 0.9903\n",
            "Epoch 11: val_accuracy did not improve from 0.99485\n",
            "\n",
            "Epoch 11: ReduceLROnPlateau reducing learning rate to 0.00010000000474974513.\n",
            "401/401 [==============================] - 137s 343ms/step - loss: 0.0335 - accuracy: 0.9903 - val_loss: 0.0910 - val_accuracy: 0.9815 - lr: 0.0010\n",
            "Epoch 12/100\n",
            "401/401 [==============================] - ETA: 0s - loss: 0.0161 - accuracy: 0.9954\n",
            "Epoch 12: val_accuracy improved from 0.99485 to 0.99897, saving model to Apple_Xception_model2_Based_Non_Augmented\n"
          ]
        },
        {
          "name": "stderr",
          "output_type": "stream",
          "text": [
            "WARNING:absl:Found untraced functions such as _jit_compiled_convolution_op, _jit_compiled_convolution_op, _jit_compiled_convolution_op, _jit_compiled_convolution_op, _jit_compiled_convolution_op while saving (showing 5 of 40). These functions will not be directly callable after loading.\n"
          ]
        },
        {
          "name": "stdout",
          "output_type": "stream",
          "text": [
            "\b\b\b\b\b\b\b\b\b\b\b\b\b\b\b\b\b\b\b\b\b\b\b\b\b\b\b\b\b\b\b\b\b\b\b\b\b\b\b\b\b\b\b\b\b\b\b\b\b\b\b\b\b\b\b\b\b\b\b\b\b\b\b\b\b\b\b\b\b\b\b\b\b\b\b\b\b\b\b\b\b\b\b\b\r401/401 [==============================] - 166s 414ms/step - loss: 0.0161 - accuracy: 0.9954 - val_loss: 0.0042 - val_accuracy: 0.9990 - lr: 1.0000e-04\n",
            "Epoch 13/100\n",
            "401/401 [==============================] - ETA: 0s - loss: 0.0099 - accuracy: 0.9965\n",
            "Epoch 13: val_accuracy did not improve from 0.99897\n",
            "401/401 [==============================] - 138s 343ms/step - loss: 0.0099 - accuracy: 0.9965 - val_loss: 0.0026 - val_accuracy: 0.9990 - lr: 1.0000e-04\n",
            "Epoch 14/100\n",
            "401/401 [==============================] - ETA: 0s - loss: 0.0046 - accuracy: 0.9986\n",
            "Epoch 14: val_accuracy did not improve from 0.99897\n",
            "401/401 [==============================] - 137s 342ms/step - loss: 0.0046 - accuracy: 0.9986 - val_loss: 0.0021 - val_accuracy: 0.9990 - lr: 1.0000e-04\n",
            "Epoch 15/100\n",
            "401/401 [==============================] - ETA: 0s - loss: 0.0047 - accuracy: 0.9991\n",
            "Epoch 15: val_accuracy improved from 0.99897 to 0.99949, saving model to Apple_Xception_model2_Based_Non_Augmented\n"
          ]
        },
        {
          "name": "stderr",
          "output_type": "stream",
          "text": [
            "WARNING:absl:Found untraced functions such as _jit_compiled_convolution_op, _jit_compiled_convolution_op, _jit_compiled_convolution_op, _jit_compiled_convolution_op, _jit_compiled_convolution_op while saving (showing 5 of 40). These functions will not be directly callable after loading.\n"
          ]
        },
        {
          "name": "stdout",
          "output_type": "stream",
          "text": [
            "\b\b\b\b\b\b\b\b\b\b\b\b\b\b\b\b\b\b\b\b\b\b\b\b\b\b\b\b\b\b\b\b\b\b\b\b\b\b\b\b\b\b\b\b\b\b\b\b\b\b\b\b\b\b\b\b\b\b\b\b\b\b\b\b\b\b\b\b\b\b\b\b\b\b\b\b\b\b\b\b\b\b\b\b\r401/401 [==============================] - 165s 412ms/step - loss: 0.0047 - accuracy: 0.9991 - val_loss: 0.0018 - val_accuracy: 0.9995 - lr: 1.0000e-04\n",
            "Epoch 16/100\n",
            "401/401 [==============================] - ETA: 0s - loss: 0.0037 - accuracy: 0.9990\n",
            "Epoch 16: val_accuracy did not improve from 0.99949\n",
            "401/401 [==============================] - 137s 343ms/step - loss: 0.0037 - accuracy: 0.9990 - val_loss: 0.0020 - val_accuracy: 0.9995 - lr: 1.0000e-04\n",
            "Epoch 17/100\n",
            "401/401 [==============================] - ETA: 0s - loss: 0.0017 - accuracy: 0.9996\n",
            "Epoch 17: val_accuracy did not improve from 0.99949\n",
            "401/401 [==============================] - 137s 341ms/step - loss: 0.0017 - accuracy: 0.9996 - val_loss: 0.0014 - val_accuracy: 0.9995 - lr: 1.0000e-04\n",
            "Epoch 18/100\n",
            "401/401 [==============================] - ETA: 0s - loss: 0.0027 - accuracy: 0.9991\n",
            "Epoch 18: val_accuracy did not improve from 0.99949\n",
            "401/401 [==============================] - 137s 341ms/step - loss: 0.0027 - accuracy: 0.9991 - val_loss: 0.0032 - val_accuracy: 0.9985 - lr: 1.0000e-04\n",
            "Epoch 19/100\n",
            "401/401 [==============================] - ETA: 0s - loss: 0.0012 - accuracy: 0.9996\n",
            "Epoch 19: val_accuracy did not improve from 0.99949\n",
            "401/401 [==============================] - 137s 343ms/step - loss: 0.0012 - accuracy: 0.9996 - val_loss: 7.8397e-04 - val_accuracy: 0.9995 - lr: 1.0000e-04\n",
            "Epoch 20/100\n",
            "401/401 [==============================] - ETA: 0s - loss: 9.3693e-04 - accuracy: 0.9996\n",
            "Epoch 20: val_accuracy improved from 0.99949 to 1.00000, saving model to Apple_Xception_model2_Based_Non_Augmented\n"
          ]
        },
        {
          "name": "stderr",
          "output_type": "stream",
          "text": [
            "WARNING:absl:Found untraced functions such as _jit_compiled_convolution_op, _jit_compiled_convolution_op, _jit_compiled_convolution_op, _jit_compiled_convolution_op, _jit_compiled_convolution_op while saving (showing 5 of 40). These functions will not be directly callable after loading.\n"
          ]
        },
        {
          "name": "stdout",
          "output_type": "stream",
          "text": [
            "\b\b\b\b\b\b\b\b\b\b\b\b\b\b\b\b\b\b\b\b\b\b\b\b\b\b\b\b\b\b\b\b\b\b\b\b\b\b\b\b\b\b\b\b\b\b\b\b\b\b\b\b\b\b\b\b\b\b\b\b\b\b\b\b\b\b\b\b\b\b\b\b\b\b\b\b\b\b\b\b\b\b\b\b\b\b\b\b\r401/401 [==============================] - 165s 411ms/step - loss: 9.3693e-04 - accuracy: 0.9996 - val_loss: 3.4520e-04 - val_accuracy: 1.0000 - lr: 1.0000e-04\n",
            "Epoch 21/100\n",
            "401/401 [==============================] - ETA: 0s - loss: 5.4925e-04 - accuracy: 0.9999\n",
            "Epoch 21: val_accuracy did not improve from 1.00000\n",
            "401/401 [==============================] - 138s 344ms/step - loss: 5.4925e-04 - accuracy: 0.9999 - val_loss: 3.0285e-04 - val_accuracy: 1.0000 - lr: 1.0000e-04\n",
            "Epoch 22/100\n",
            "401/401 [==============================] - ETA: 0s - loss: 4.9185e-04 - accuracy: 0.9999\n",
            "Epoch 22: val_accuracy did not improve from 1.00000\n",
            "401/401 [==============================] - 137s 342ms/step - loss: 4.9185e-04 - accuracy: 0.9999 - val_loss: 1.1925e-04 - val_accuracy: 1.0000 - lr: 1.0000e-04\n",
            "Epoch 23/100\n",
            "401/401 [==============================] - ETA: 0s - loss: 0.0012 - accuracy: 0.9995\n",
            "Epoch 23: val_accuracy did not improve from 1.00000\n",
            "401/401 [==============================] - 140s 348ms/step - loss: 0.0012 - accuracy: 0.9995 - val_loss: 7.8532e-04 - val_accuracy: 0.9995 - lr: 1.0000e-04\n",
            "Epoch 24/100\n",
            "401/401 [==============================] - ETA: 0s - loss: 0.0015 - accuracy: 0.9995\n",
            "Epoch 24: val_accuracy did not improve from 1.00000\n",
            "401/401 [==============================] - 137s 342ms/step - loss: 0.0015 - accuracy: 0.9995 - val_loss: 0.0012 - val_accuracy: 0.9995 - lr: 1.0000e-04\n",
            "Epoch 25/100\n",
            "401/401 [==============================] - ETA: 0s - loss: 3.1434e-04 - accuracy: 1.0000\n",
            "Epoch 25: val_accuracy did not improve from 1.00000\n",
            "401/401 [==============================] - 138s 343ms/step - loss: 3.1434e-04 - accuracy: 1.0000 - val_loss: 0.0052 - val_accuracy: 0.9990 - lr: 1.0000e-04\n",
            "Epoch 26/100\n",
            "401/401 [==============================] - ETA: 0s - loss: 1.8325e-04 - accuracy: 1.0000\n",
            "Epoch 26: val_accuracy did not improve from 1.00000\n",
            "401/401 [==============================] - 138s 345ms/step - loss: 1.8325e-04 - accuracy: 1.0000 - val_loss: 2.0905e-04 - val_accuracy: 1.0000 - lr: 1.0000e-04\n",
            "Epoch 27/100\n",
            "401/401 [==============================] - ETA: 0s - loss: 0.0024 - accuracy: 0.9990\n",
            "Epoch 27: val_accuracy did not improve from 1.00000\n",
            "\n",
            "Epoch 27: ReduceLROnPlateau reducing learning rate to 1.0000000474974514e-05.\n",
            "401/401 [==============================] - 138s 343ms/step - loss: 0.0024 - accuracy: 0.9990 - val_loss: 0.0031 - val_accuracy: 0.9995 - lr: 1.0000e-04\n",
            "Epoch 28/100\n",
            "401/401 [==============================] - ETA: 0s - loss: 9.3246e-04 - accuracy: 0.9998\n",
            "Epoch 28: val_accuracy did not improve from 1.00000\n",
            "401/401 [==============================] - 137s 343ms/step - loss: 9.3246e-04 - accuracy: 0.9998 - val_loss: 0.0018 - val_accuracy: 0.9995 - lr: 1.0000e-05\n",
            "Epoch 29/100\n",
            "401/401 [==============================] - ETA: 0s - loss: 3.9491e-04 - accuracy: 0.9999\n",
            "Epoch 29: val_accuracy did not improve from 1.00000\n",
            "401/401 [==============================] - 138s 343ms/step - loss: 3.9491e-04 - accuracy: 0.9999 - val_loss: 0.0017 - val_accuracy: 0.9995 - lr: 1.0000e-05\n",
            "Epoch 30/100\n",
            "401/401 [==============================] - ETA: 0s - loss: 4.9692e-04 - accuracy: 0.9999\n",
            "Epoch 30: val_accuracy did not improve from 1.00000\n",
            "401/401 [==============================] - 137s 342ms/step - loss: 4.9692e-04 - accuracy: 0.9999 - val_loss: 0.0013 - val_accuracy: 0.9995 - lr: 1.0000e-05\n",
            "Epoch 31/100\n",
            "401/401 [==============================] - ETA: 0s - loss: 2.0088e-04 - accuracy: 1.0000\n",
            "Epoch 31: val_accuracy did not improve from 1.00000\n",
            "401/401 [==============================] - 138s 344ms/step - loss: 2.0088e-04 - accuracy: 1.0000 - val_loss: 0.0013 - val_accuracy: 0.9995 - lr: 1.0000e-05\n",
            "Epoch 32/100\n",
            "401/401 [==============================] - ETA: 0s - loss: 1.0154e-04 - accuracy: 1.0000\n",
            "Epoch 32: val_accuracy did not improve from 1.00000\n",
            "\n",
            "Epoch 32: ReduceLROnPlateau reducing learning rate to 1.0000000656873453e-06.\n",
            "401/401 [==============================] - 137s 342ms/step - loss: 1.0154e-04 - accuracy: 1.0000 - val_loss: 0.0016 - val_accuracy: 0.9995 - lr: 1.0000e-05\n",
            "Epoch 33/100\n",
            "401/401 [==============================] - ETA: 0s - loss: 1.1202e-04 - accuracy: 1.0000\n",
            "Epoch 33: val_accuracy did not improve from 1.00000\n",
            "401/401 [==============================] - 138s 343ms/step - loss: 1.1202e-04 - accuracy: 1.0000 - val_loss: 0.0013 - val_accuracy: 0.9995 - lr: 1.0000e-06\n",
            "Epoch 34/100\n",
            "401/401 [==============================] - ETA: 0s - loss: 9.9225e-04 - accuracy: 0.9996\n",
            "Epoch 34: val_accuracy did not improve from 1.00000\n",
            "401/401 [==============================] - 137s 342ms/step - loss: 9.9225e-04 - accuracy: 0.9996 - val_loss: 0.0016 - val_accuracy: 0.9995 - lr: 1.0000e-06\n",
            "Epoch 35/100\n",
            "401/401 [==============================] - ETA: 0s - loss: 5.9607e-04 - accuracy: 0.9999\n",
            "Epoch 35: val_accuracy did not improve from 1.00000\n",
            "401/401 [==============================] - 137s 341ms/step - loss: 5.9607e-04 - accuracy: 0.9999 - val_loss: 0.0017 - val_accuracy: 0.9995 - lr: 1.0000e-06\n",
            "Epoch 36/100\n",
            "401/401 [==============================] - ETA: 0s - loss: 0.0012 - accuracy: 0.9998\n",
            "Epoch 36: val_accuracy did not improve from 1.00000\n",
            "401/401 [==============================] - 137s 342ms/step - loss: 0.0012 - accuracy: 0.9998 - val_loss: 0.0015 - val_accuracy: 0.9995 - lr: 1.0000e-06\n",
            "Epoch 37/100\n",
            "401/401 [==============================] - ETA: 0s - loss: 5.4851e-04 - accuracy: 0.9999\n",
            "Epoch 37: val_accuracy did not improve from 1.00000\n",
            "\n",
            "Epoch 37: ReduceLROnPlateau reducing learning rate to 1.0000001111620805e-07.\n",
            "401/401 [==============================] - 137s 342ms/step - loss: 5.4851e-04 - accuracy: 0.9999 - val_loss: 0.0015 - val_accuracy: 0.9995 - lr: 1.0000e-06\n",
            "Epoch 38/100\n",
            "401/401 [==============================] - ETA: 0s - loss: 4.4636e-04 - accuracy: 0.9999\n",
            "Epoch 38: val_accuracy did not improve from 1.00000\n",
            "401/401 [==============================] - 137s 342ms/step - loss: 4.4636e-04 - accuracy: 0.9999 - val_loss: 0.0015 - val_accuracy: 0.9995 - lr: 1.0000e-07\n",
            "Epoch 39/100\n",
            "401/401 [==============================] - ETA: 0s - loss: 1.9292e-04 - accuracy: 1.0000\n",
            "Epoch 39: val_accuracy did not improve from 1.00000\n",
            "401/401 [==============================] - 137s 341ms/step - loss: 1.9292e-04 - accuracy: 1.0000 - val_loss: 0.0015 - val_accuracy: 0.9995 - lr: 1.0000e-07\n",
            "Epoch 40/100\n",
            "401/401 [==============================] - ETA: 0s - loss: 1.1211e-04 - accuracy: 1.0000\n",
            "Epoch 40: val_accuracy did not improve from 1.00000\n",
            "Restoring model weights from the end of the best epoch: 20.\n",
            "401/401 [==============================] - 138s 343ms/step - loss: 1.1211e-04 - accuracy: 1.0000 - val_loss: 0.0014 - val_accuracy: 0.9995 - lr: 1.0000e-07\n",
            "Epoch 40: early stopping\n"
          ]
        }
      ],
      "source": [
        "# Define the number of epochs\n",
        "num_epochs = 100\n",
        "\n",
        "# Train the model\n",
        "history_Xception_model_2 = Xception_model_2.fit(train_generator, epochs=num_epochs, validation_data=validation_generator, callbacks=callbacks)"
      ]
    },
    {
      "cell_type": "code",
      "execution_count": 15,
      "metadata": {
        "colab": {
          "base_uri": "https://localhost:8080/",
          "height": 904
        },
        "id": "S5QjPYtt9ZDf",
        "outputId": "38cc6d7f-1ae3-479b-d9b3-2e6eeb2bee48",
        "tags": []
      },
      "outputs": [
        {
          "data": {
            "text/plain": [
              "Text(0.5, 1.0, 'Training and validation loss DIY Model')"
            ]
          },
          "execution_count": 15,
          "metadata": {},
          "output_type": "execute_result"
        },
        {
          "data": {
            "image/png": "[encoded data removed]",
            "text/plain": [
              "<Figure size 640x480 with 1 Axes>"
            ]
          },
          "metadata": {},
          "output_type": "display_data"
        },
        {
          "data": {
            "image/png": "[encoded data removed]",
            "text/plain": [
              "<Figure size 640x480 with 1 Axes>"
            ]
          },
          "metadata": {},
          "output_type": "display_data"
        }
      ],
      "source": [
        "#-----------------------------------------------------------\n",
        "# Retrieve a list of list results on training and test data\n",
        "# sets for each training epoch\n",
        "#-----------------------------------------------------------\n",
        "acc      = history_Xception_model_2.history['accuracy' ]\n",
        "val_acc  = history_Xception_model_2.history['val_accuracy' ]\n",
        "loss     = history_Xception_model_2.history['loss' ]\n",
        "val_loss = history_Xception_model_2.history['val_loss' ]\n",
        "\n",
        "epochs   = range(len(acc)) # Get number of epochs\n",
        "\n",
        "#------------------------------------------------\n",
        "# Plot training and validation accuracy per epoch\n",
        "#------------------------------------------------\n",
        "plt.plot  (epochs, acc )\n",
        "plt.plot  (epochs, val_acc )\n",
        "plt.title ('Training and validation accuracy DIY Model')\n",
        "plt.figure()\n",
        "\n",
        "#------------------------------------------------\n",
        "# Plot training and validation loss per epoch\n",
        "#------------------------------------------------\n",
        "plt.plot  (epochs, loss)\n",
        "plt.plot  (epochs, val_loss)\n",
        "plt.title ('Training and validation loss DIY Model')"
      ]
    },
    {
      "attachments": {},
      "cell_type": "markdown",
      "metadata": {
        "id": "TxKsqnSj8eA3"
      },
      "source": [
        "# Download Model"
      ]
    },
    {
      "cell_type": "code",
      "execution_count": 17,
      "metadata": {
        "colab": {
          "base_uri": "https://localhost:8080/"
        },
        "id": "D9shxGeHd620",
        "outputId": "6632cc82-eb47-4331-ce39-e36c00a9bdc7"
      },
      "outputs": [
        {
          "name": "stdout",
          "output_type": "stream",
          "text": [
            "  adding: content/Apple_Xception_model1_Based_Non_Augmented/ (stored 0%)\n",
            "  adding: content/Apple_Xception_model1_Based_Non_Augmented/saved_model.pb (deflated 92%)\n",
            "  adding: content/Apple_Xception_model1_Based_Non_Augmented/fingerprint.pb (stored 0%)\n",
            "  adding: content/Apple_Xception_model1_Based_Non_Augmented/assets/ (stored 0%)\n",
            "  adding: content/Apple_Xception_model1_Based_Non_Augmented/keras_metadata.pb (deflated 96%)\n",
            "  adding: content/Apple_Xception_model1_Based_Non_Augmented/variables/ (stored 0%)\n",
            "  adding: content/Apple_Xception_model1_Based_Non_Augmented/variables/variables.data-00000-of-00001 (deflated 8%)\n",
            "  adding: content/Apple_Xception_model1_Based_Non_Augmented/variables/variables.index (deflated 77%)\n"
          ]
        }
      ],
      "source": [
        "!zip -r /content/Apple_Xception_model1_Based_Non_Augmented.zip /content/Apple_Xception_model1_Based_Non_Augmented"
      ]
    },
    {
      "cell_type": "code",
      "execution_count": 18,
      "metadata": {
        "colab": {
          "base_uri": "https://localhost:8080/"
        },
        "id": "Td-7y2fYeBCw",
        "outputId": "932bd690-6359-481b-9cc6-3b4163e258f9"
      },
      "outputs": [
        {
          "name": "stdout",
          "output_type": "stream",
          "text": [
            "  adding: content/Apple_Xception_model2_Based_Non_Augmented/ (stored 0%)\n",
            "  adding: content/Apple_Xception_model2_Based_Non_Augmented/saved_model.pb (deflated 92%)\n",
            "  adding: content/Apple_Xception_model2_Based_Non_Augmented/fingerprint.pb (stored 0%)\n",
            "  adding: content/Apple_Xception_model2_Based_Non_Augmented/assets/ (stored 0%)\n",
            "  adding: content/Apple_Xception_model2_Based_Non_Augmented/keras_metadata.pb (deflated 96%)\n",
            "  adding: content/Apple_Xception_model2_Based_Non_Augmented/variables/ (stored 0%)\n",
            "  adding: content/Apple_Xception_model2_Based_Non_Augmented/variables/variables.data-00000-of-00001 (deflated 7%)\n",
            "  adding: content/Apple_Xception_model2_Based_Non_Augmented/variables/variables.index (deflated 77%)\n"
          ]
        }
      ],
      "source": [
        "!zip -r /content/Apple_Xception_model2_Based_Non_Augmented.zip /content/Apple_Xception_model2_Based_Non_Augmented"
      ]
    },
    {
      "cell_type": "code",
      "execution_count": 16,
      "metadata": {
        "colab": {
          "base_uri": "https://localhost:8080/",
          "height": 52
        },
        "id": "hZCjw6738gUS",
        "outputId": "a1602401-5dfd-427b-ceb8-d67c3970104c"
      },
      "outputs": [
        {
          "data": {
            "application/javascript": "\n    async function download(id, filename, size) {\n      if (!google.colab.kernel.accessAllowed) {\n        return;\n      }\n      const div = document.createElement('div');\n      const label = document.createElement('label');\n      label.textContent = `Downloading \"${filename}\": `;\n      div.appendChild(label);\n      const progress = document.createElement('progress');\n      progress.max = size;\n      div.appendChild(progress);\n      document.body.appendChild(div);\n\n      const buffers = [];\n      let downloaded = 0;\n\n      const channel = await google.colab.kernel.comms.open(id);\n      // Send a message to notify the kernel that we're ready.\n      channel.send({})\n\n      for await (const message of channel.messages) {\n        // Send a message to notify the kernel that we're ready.\n        channel.send({})\n        if (message.buffers) {\n          for (const buffer of message.buffers) {\n            buffers.push(buffer);\n            downloaded += buffer.byteLength;\n            progress.value = downloaded;\n          }\n        }\n      }\n      const blob = new Blob(buffers, {type: 'application/binary'});\n      const a = document.createElement('a');\n      a.href = window.URL.createObjectURL(blob);\n      a.download = filename;\n      div.appendChild(a);\n      a.click();\n      div.remove();\n    }\n  ",
            "text/plain": [
              "<IPython.core.display.Javascript object>"
            ]
          },
          "metadata": {},
          "output_type": "display_data"
        },
        {
          "data": {
            "application/javascript": "download(\"download_aca65ed0-fe2f-4783-8710-0f2fec43efad\", \"Apple_Xception_model1_Based_Non_Augmented\", 4096)",
            "text/plain": [
              "<IPython.core.display.Javascript object>"
            ]
          },
          "metadata": {},
          "output_type": "display_data"
        },
        {
          "data": {
            "application/javascript": "\n    async function download(id, filename, size) {\n      if (!google.colab.kernel.accessAllowed) {\n        return;\n      }\n      const div = document.createElement('div');\n      const label = document.createElement('label');\n      label.textContent = `Downloading \"${filename}\": `;\n      div.appendChild(label);\n      const progress = document.createElement('progress');\n      progress.max = size;\n      div.appendChild(progress);\n      document.body.appendChild(div);\n\n      const buffers = [];\n      let downloaded = 0;\n\n      const channel = await google.colab.kernel.comms.open(id);\n      // Send a message to notify the kernel that we're ready.\n      channel.send({})\n\n      for await (const message of channel.messages) {\n        // Send a message to notify the kernel that we're ready.\n        channel.send({})\n        if (message.buffers) {\n          for (const buffer of message.buffers) {\n            buffers.push(buffer);\n            downloaded += buffer.byteLength;\n            progress.value = downloaded;\n          }\n        }\n      }\n      const blob = new Blob(buffers, {type: 'application/binary'});\n      const a = document.createElement('a');\n      a.href = window.URL.createObjectURL(blob);\n      a.download = filename;\n      div.appendChild(a);\n      a.click();\n      div.remove();\n    }\n  ",
            "text/plain": [
              "<IPython.core.display.Javascript object>"
            ]
          },
          "metadata": {},
          "output_type": "display_data"
        },
        {
          "data": {
            "application/javascript": "download(\"download_10550c67-09bf-47d7-bbc5-aec86070e32b\", \"Apple_Xception_model2_Based_Non_Augmented\", 4096)",
            "text/plain": [
              "<IPython.core.display.Javascript object>"
            ]
          },
          "metadata": {},
          "output_type": "display_data"
        }
      ],
      "source": [
        "from google.colab import files\n",
        "\n",
        "# Specify the file path\n",
        "file_path_1 = '/content/Apple_Xception_model1_Based_Non_Augmented'  \n",
        "file_path_2 = '/content/Apple_Xception_model2_Based_Non_Augmented'  \n",
        "\n",
        "# Download the file\n",
        "files.download(file_path_1)\n",
        "files.download(file_path_2)"
      ]
    }
  ],
  "metadata": {
    "accelerator": "GPU",
    "colab": {
      "gpuType": "T4",
      "provenance": []
    },
    "gpuClass": "standard",
    "kernelspec": {
      "display_name": "Python 3 (ipykernel)",
      "language": "python",
      "name": "python3"
    },
    "language_info": {
      "codemirror_mode": {
        "name": "ipython",
        "version": 3
      },
      "file_extension": ".py",
      "mimetype": "text/x-python",
      "name": "python",
      "nbconvert_exporter": "python",
      "pygments_lexer": "ipython3",
      "version": "3.10.0"
    }
  },
  "nbformat": 4,
  "nbformat_minor": 0
}
