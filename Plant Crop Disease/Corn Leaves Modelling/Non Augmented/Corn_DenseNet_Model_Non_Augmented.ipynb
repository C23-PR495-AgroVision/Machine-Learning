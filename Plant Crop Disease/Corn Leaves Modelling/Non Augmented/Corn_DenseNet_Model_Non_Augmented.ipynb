{
  "cells": [
    {
      "attachments": {},
      "cell_type": "markdown",
      "metadata": {
        "id": "hO3kEcUPU2S3"
      },
      "source": [
        "# Library"
      ]
    },
    {
      "cell_type": "code",
      "execution_count": 1,
      "metadata": {
        "colab": {
          "base_uri": "https://localhost:8080/"
        },
        "id": "kczkUjsAU2S8",
        "outputId": "1196cf32-11d0-470e-ab59-e53eb9ba9b37",
        "tags": []
      },
      "outputs": [
        {
          "name": "stdout",
          "output_type": "stream",
          "text": [
            "Requirement already satisfied: matplotlib in c:\\users\\hasan\\anaconda3\\envs\\tensorflow_gpu_zein\\lib\\site-packages (3.6.3)Note: you may need to restart the kernel to use updated packages.\n",
            "\n",
            "Requirement already satisfied: packaging>=20.0 in c:\\users\\hasan\\anaconda3\\envs\\tensorflow_gpu_zein\\lib\\site-packages (from matplotlib) (23.1)\n",
            "Requirement already satisfied: pillow>=6.2.0 in c:\\users\\hasan\\anaconda3\\envs\\tensorflow_gpu_zein\\lib\\site-packages (from matplotlib) (9.4.0)\n",
            "Requirement already satisfied: fonttools>=4.22.0 in c:\\users\\hasan\\anaconda3\\envs\\tensorflow_gpu_zein\\lib\\site-packages (from matplotlib) (4.39.2)\n",
            "Requirement already satisfied: numpy>=1.19 in c:\\users\\hasan\\anaconda3\\envs\\tensorflow_gpu_zein\\lib\\site-packages (from matplotlib) (1.23.5)\n",
            "Requirement already satisfied: contourpy>=1.0.1 in c:\\users\\hasan\\anaconda3\\envs\\tensorflow_gpu_zein\\lib\\site-packages (from matplotlib) (1.0.7)\n",
            "Requirement already satisfied: python-dateutil>=2.7 in c:\\users\\hasan\\anaconda3\\envs\\tensorflow_gpu_zein\\lib\\site-packages (from matplotlib) (2.8.2)\n",
            "Requirement already satisfied: cycler>=0.10 in c:\\users\\hasan\\anaconda3\\envs\\tensorflow_gpu_zein\\lib\\site-packages (from matplotlib) (0.11.0)\n",
            "Requirement already satisfied: pyparsing>=2.2.1 in c:\\users\\hasan\\anaconda3\\envs\\tensorflow_gpu_zein\\lib\\site-packages (from matplotlib) (3.0.9)\n",
            "Requirement already satisfied: kiwisolver>=1.0.1 in c:\\users\\hasan\\anaconda3\\envs\\tensorflow_gpu_zein\\lib\\site-packages (from matplotlib) (1.4.4)\n",
            "Requirement already satisfied: six>=1.5 in c:\\users\\hasan\\anaconda3\\envs\\tensorflow_gpu_zein\\lib\\site-packages (from python-dateutil>=2.7->matplotlib) (1.16.0)\n"
          ]
        },
        {
          "name": "stderr",
          "output_type": "stream",
          "text": [
            "WARNING: Ignoring invalid distribution -rotobuf (c:\\users\\hasan\\anaconda3\\envs\\tensorflow_gpu_zein\\lib\\site-packages)\n",
            "WARNING: Ignoring invalid distribution -rotobuf (c:\\users\\hasan\\anaconda3\\envs\\tensorflow_gpu_zein\\lib\\site-packages)\n",
            "WARNING: Ignoring invalid distribution -rotobuf (c:\\users\\hasan\\anaconda3\\envs\\tensorflow_gpu_zein\\lib\\site-packages)\n",
            "WARNING: Ignoring invalid distribution -rotobuf (c:\\users\\hasan\\anaconda3\\envs\\tensorflow_gpu_zein\\lib\\site-packages)\n",
            "WARNING: Ignoring invalid distribution -rotobuf (c:\\users\\hasan\\anaconda3\\envs\\tensorflow_gpu_zein\\lib\\site-packages)\n",
            "WARNING: Ignoring invalid distribution -rotobuf (c:\\users\\hasan\\anaconda3\\envs\\tensorflow_gpu_zein\\lib\\site-packages)\n"
          ]
        }
      ],
      "source": [
        "pip install matplotlib"
      ]
    },
    {
      "cell_type": "code",
      "execution_count": 2,
      "metadata": {
        "colab": {
          "base_uri": "https://localhost:8080/"
        },
        "id": "oEW3Nbu7U2S_",
        "outputId": "60a4555a-78d2-43c6-d8ff-b5187eacab40",
        "tags": []
      },
      "outputs": [
        {
          "name": "stdout",
          "output_type": "stream",
          "text": [
            "Requirement already satisfied: opendatasets in c:\\users\\hasan\\anaconda3\\envs\\tensorflow_gpu_zein\\lib\\site-packages (0.1.22)\n",
            "Requirement already satisfied: tqdm in c:\\users\\hasan\\anaconda3\\envs\\tensorflow_gpu_zein\\lib\\site-packages (from opendatasets) (4.64.1)\n",
            "Requirement already satisfied: kaggle in c:\\users\\hasan\\anaconda3\\envs\\tensorflow_gpu_zein\\lib\\site-packages (from opendatasets) (1.5.13)\n",
            "Requirement already satisfied: click in c:\\users\\hasan\\anaconda3\\envs\\tensorflow_gpu_zein\\lib\\site-packages (from opendatasets) (8.1.3)\n",
            "Requirement already satisfied: colorama in c:\\users\\hasan\\anaconda3\\envs\\tensorflow_gpu_zein\\lib\\site-packages (from click->opendatasets) (0.4.6)\n",
            "Requirement already satisfied: requests in c:\\users\\hasan\\anaconda3\\envs\\tensorflow_gpu_zein\\lib\\site-packages (from kaggle->opendatasets) (2.28.2)\n",
            "Requirement already satisfied: certifi in c:\\users\\hasan\\anaconda3\\envs\\tensorflow_gpu_zein\\lib\\site-packages (from kaggle->opendatasets) (2022.12.7)\n",
            "Requirement already satisfied: six>=1.10 in c:\\users\\hasan\\anaconda3\\envs\\tensorflow_gpu_zein\\lib\\site-packages (from kaggle->opendatasets) (1.16.0)\n",
            "Requirement already satisfied: urllib3 in c:\\users\\hasan\\anaconda3\\envs\\tensorflow_gpu_zein\\lib\\site-packages (from kaggle->opendatasets) (1.26.15)\n",
            "Requirement already satisfied: python-dateutil in c:\\users\\hasan\\anaconda3\\envs\\tensorflow_gpu_zein\\lib\\site-packages (from kaggle->opendatasets) (2.8.2)\n",
            "Requirement already satisfied: python-slugify in c:\\users\\hasan\\anaconda3\\envs\\tensorflow_gpu_zein\\lib\\site-packages (from kaggle->opendatasets) (8.0.1)\n",
            "Requirement already satisfied: text-unidecode>=1.3 in c:\\users\\hasan\\anaconda3\\envs\\tensorflow_gpu_zein\\lib\\site-packages (from python-slugify->kaggle->opendatasets) (1.3)\n",
            "Requirement already satisfied: charset-normalizer<4,>=2 in c:\\users\\hasan\\anaconda3\\envs\\tensorflow_gpu_zein\\lib\\site-packages (from requests->kaggle->opendatasets) (3.1.0)\n",
            "Requirement already satisfied: idna<4,>=2.5 in c:\\users\\hasan\\anaconda3\\envs\\tensorflow_gpu_zein\\lib\\site-packages (from requests->kaggle->opendatasets) (3.4)\n",
            "Note: you may need to restart the kernel to use updated packages.\n"
          ]
        },
        {
          "name": "stderr",
          "output_type": "stream",
          "text": [
            "WARNING: Ignoring invalid distribution -rotobuf (c:\\users\\hasan\\anaconda3\\envs\\tensorflow_gpu_zein\\lib\\site-packages)\n",
            "WARNING: Ignoring invalid distribution -rotobuf (c:\\users\\hasan\\anaconda3\\envs\\tensorflow_gpu_zein\\lib\\site-packages)\n",
            "WARNING: Ignoring invalid distribution -rotobuf (c:\\users\\hasan\\anaconda3\\envs\\tensorflow_gpu_zein\\lib\\site-packages)\n",
            "WARNING: Ignoring invalid distribution -rotobuf (c:\\users\\hasan\\anaconda3\\envs\\tensorflow_gpu_zein\\lib\\site-packages)\n",
            "WARNING: Ignoring invalid distribution -rotobuf (c:\\users\\hasan\\anaconda3\\envs\\tensorflow_gpu_zein\\lib\\site-packages)\n",
            "WARNING: Ignoring invalid distribution -rotobuf (c:\\users\\hasan\\anaconda3\\envs\\tensorflow_gpu_zein\\lib\\site-packages)\n"
          ]
        }
      ],
      "source": [
        "pip install opendatasets"
      ]
    },
    {
      "cell_type": "code",
      "execution_count": 3,
      "metadata": {
        "id": "SIHHdOB4U2TA",
        "tags": []
      },
      "outputs": [],
      "source": [
        "# Library to dataset\n",
        "import opendatasets as od\n",
        "import os\n",
        "import zipfile\n",
        "import numpy as np\n",
        "\n",
        "# Surpress Warnings\n",
        "import warnings\n",
        "warnings.filterwarnings('ignore')\n",
        "os.environ['TF_CPP_MIN_LOG_LEVEL'] = '3' \n",
        "# library visualization\n",
        "import matplotlib.pyplot as plt\n",
        "\n",
        "# Library Tensorflow\n",
        "import tensorflow as tf\n",
        "from tensorflow import keras\n",
        "from tensorflow.keras.preprocessing.image import ImageDataGenerator\n",
        "from tensorflow.keras.callbacks import ModelCheckpoint, EarlyStopping, ReduceLROnPlateau\n",
        "from tensorflow.keras.applications.densenet import DenseNet121\n",
        "# Others\n",
        "import shutil\n",
        "import random"
      ]
    },
    {
      "attachments": {},
      "cell_type": "markdown",
      "metadata": {
        "id": "Dy8YkYoaU2TB"
      },
      "source": [
        "# Load dataset"
      ]
    },
    {
      "cell_type": "code",
      "execution_count": 4,
      "metadata": {
        "colab": {
          "base_uri": "https://localhost:8080/"
        },
        "id": "8ZAjREJ0U2TC",
        "outputId": "2fe0912f-82df-4708-b6c8-936d20fd5d4f",
        "tags": []
      },
      "outputs": [
        {
          "name": "stdout",
          "output_type": "stream",
          "text": [
            "==========================Training Data====================\n",
            "Found 7665 files belonging to 4 classes.\n",
            "==========================Validation Data====================\n",
            "Found 1855 files belonging to 4 classes.\n"
          ]
        }
      ],
      "source": [
        "# Load dataset\n",
        "print(\"==========================Training Data====================\")\n",
        "train_data = tf.keras.preprocessing.image_dataset_from_directory(\n",
        "    \"Dataset/Corn/train\",\n",
        "    label_mode=\"categorical\",\n",
        "    class_names=['Corn Gray leaf spot','Corn healthy','Corn leaf blight','Corn rust leaf'],\n",
        "    color_mode=\"rgb\",\n",
        "    batch_size=1,\n",
        "    image_size=(256, 256),\n",
        "    shuffle=True,\n",
        "    seed=123\n",
        ")\n",
        "print(\"==========================Validation Data====================\")\n",
        "val_data = tf.keras.preprocessing.image_dataset_from_directory(\n",
        "    \"Dataset/Corn/valid\",\n",
        "    label_mode=\"categorical\",\n",
        "    class_names=['Corn Gray leaf spot','Corn healthy','Corn leaf blight','Corn rust leaf'],\n",
        "    color_mode=\"rgb\",\n",
        "    batch_size=1,\n",
        "    image_size=(256, 256),\n",
        "    shuffle=True,\n",
        "    seed=123\n",
        ")"
      ]
    },
    {
      "cell_type": "code",
      "execution_count": 5,
      "metadata": {
        "colab": {
          "base_uri": "https://localhost:8080/"
        },
        "id": "vEPzd1egU2TD",
        "outputId": "d821e210-f516-4bf3-f164-5d711685de6b",
        "tags": []
      },
      "outputs": [
        {
          "name": "stdout",
          "output_type": "stream",
          "text": [
            "Found 7665 images belonging to 4 classes.\n",
            "Found 1855 images belonging to 4 classes.\n"
          ]
        }
      ],
      "source": [
        "# All images will be rescaled by 1./255.\n",
        "train_datagen = ImageDataGenerator(rescale = 1.0/256.)\n",
        "test_datagen  = ImageDataGenerator(rescale = 1.0/256.)\n",
        "\n",
        "# --------------------\n",
        "# Flow training images in batches of 20 using train_datagen generator\n",
        "# --------------------\n",
        "train_generator = train_datagen.flow_from_directory(\"Dataset/Corn/train\",\n",
        "                                                    batch_size=20,\n",
        "                                                    class_mode='categorical',\n",
        "                                                    target_size=(224, 224))     \n",
        "# --------------------\n",
        "# Flow validation images in batches of 20 using test_datagen generator\n",
        "# --------------------\n",
        "validation_generator =  test_datagen.flow_from_directory(\"Dataset/Corn/valid\",\n",
        "                                                         batch_size=20,\n",
        "                                                         class_mode  = 'categorical',\n",
        "                                                         target_size = (224, 224))"
      ]
    },
    {
      "attachments": {},
      "cell_type": "markdown",
      "metadata": {
        "id": "_3jaO5YgU2TE"
      },
      "source": [
        "# List Resource"
      ]
    },
    {
      "cell_type": "code",
      "execution_count": 6,
      "metadata": {
        "colab": {
          "base_uri": "https://localhost:8080/"
        },
        "id": "SGemCaxnU2TF",
        "outputId": "515a509f-aaf4-49c8-8977-8b2d5bba5887",
        "tags": []
      },
      "outputs": [
        {
          "name": "stdout",
          "output_type": "stream",
          "text": [
            "Thu May 25 08:38:02 2023       \n",
            "+---------------------------------------------------------------------------------------+\n",
            "| NVIDIA-SMI 531.79                 Driver Version: 531.79       CUDA Version: 12.1     |\n",
            "|-----------------------------------------+----------------------+----------------------+\n",
            "| GPU  Name                      TCC/WDDM | Bus-Id        Disp.A | Volatile Uncorr. ECC |\n",
            "| Fan  Temp  Perf            Pwr:Usage/Cap|         Memory-Usage | GPU-Util  Compute M. |\n",
            "|                                         |                      |               MIG M. |\n",
            "|=========================================+======================+======================|\n",
            "|   0  NVIDIA GeForce RTX 3060 L...  WDDM | 00000000:01:00.0  On |                  N/A |\n",
            "| N/A   53C    P0               40W /  N/A|   4573MiB /  6144MiB |     10%      Default |\n",
            "|                                         |                      |                  N/A |\n",
            "+-----------------------------------------+----------------------+----------------------+\n",
            "                                                                                         \n",
            "+---------------------------------------------------------------------------------------+\n",
            "| Processes:                                                                            |\n",
            "|  GPU   GI   CI        PID   Type   Process name                            GPU Memory |\n",
            "|        ID   ID                                                             Usage      |\n",
            "|=======================================================================================|\n",
            "|    0   N/A  N/A      4176    C+G   ...les\\AMD\\CNext\\CNext\\AMDRSSrcExt.exe    N/A      |\n",
            "|    0   N/A  N/A      6056    C+G   ...Programs\\Microsoft VS Code\\Code.exe    N/A      |\n",
            "|    0   N/A  N/A      6300    C+G   ...16.0_x86__zpdnekdrzrea0\\Spotify.exe    N/A      |\n",
            "|    0   N/A  N/A      9356      C   ...envs\\tensorflow_gpu_zein\\python.exe    N/A      |\n",
            "|    0   N/A  N/A      9816    C+G   C:\\WINDOWS\\explorer.exe                   N/A      |\n",
            "|    0   N/A  N/A     10328    C+G   ...nt.CBS_cw5n1h2txyewy\\SearchHost.exe    N/A      |\n",
            "|    0   N/A  N/A     10532    C+G   ...2txyewy\\StartMenuExperienceHost.exe    N/A      |\n",
            "|    0   N/A  N/A     13880    C+G   ...x64__qmba6cd70vzyy\\ArmouryCrate.exe    N/A      |\n",
            "|    0   N/A  N/A     14756    C+G   ...t.LockApp_cw5n1h2txyewy\\LockApp.exe    N/A      |\n",
            "|    0   N/A  N/A     16160    C+G   ...ekyb3d8bbwe\\PhoneExperienceHost.exe    N/A      |\n",
            "|    0   N/A  N/A     17876    C+G   ...GeForce Experience\\NVIDIA Share.exe    N/A      |\n",
            "|    0   N/A  N/A     18428    C+G   ...2.0_x64__cv1g1gvanyjgm\\WhatsApp.exe    N/A      |\n",
            "|    0   N/A  N/A     18580    C+G   ...les\\Microsoft OneDrive\\OneDrive.exe    N/A      |\n",
            "|    0   N/A  N/A     19448    C+G   ...les\\Microsoft OneDrive\\OneDrive.exe    N/A      |\n",
            "|    0   N/A  N/A     19780    C+G   ...64__v826wp6bftszj\\TranslucentTB.exe    N/A      |\n",
            "|    0   N/A  N/A     20296    C+G   ...\\AMD\\CNext\\CNext\\RadeonSoftware.exe    N/A      |\n",
            "|    0   N/A  N/A     20672    C+G   ...siveControlPanel\\SystemSettings.exe    N/A      |\n",
            "|    0   N/A  N/A     21868    C+G   ...5n1h2txyewy\\ShellExperienceHost.exe    N/A      |\n",
            "|    0   N/A  N/A     22216    C+G   ...1.0_x64__8wekyb3d8bbwe\\Video.UI.exe    N/A      |\n",
            "|    0   N/A  N/A     22316    C+G   ...on\\113.0.1774.50\\msedgewebview2.exe    N/A      |\n",
            "|    0   N/A  N/A     24744    C+G   ...oogle\\Chrome\\Application\\chrome.exe    N/A      |\n",
            "|    0   N/A  N/A     26596    C+G   ...1.0_x64__t4vj0pshhgkwm\\Telegram.exe    N/A      |\n",
            "+---------------------------------------------------------------------------------------+\n"
          ]
        }
      ],
      "source": [
        "# Check GPU\n",
        "!nvidia-smi"
      ]
    },
    {
      "cell_type": "code",
      "execution_count": 7,
      "metadata": {
        "colab": {
          "base_uri": "https://localhost:8080/"
        },
        "id": "FSapZ74PU2TF",
        "outputId": "ed4d645b-28b3-4587-f4e4-c615bb48ed1b",
        "tags": []
      },
      "outputs": [
        {
          "data": {
            "text/plain": [
              "[PhysicalDevice(name='/physical_device:GPU:0', device_type='GPU')]"
            ]
          },
          "execution_count": 7,
          "metadata": {},
          "output_type": "execute_result"
        }
      ],
      "source": [
        "# Lis physical devices\n",
        "devices = tf.config.experimental.list_physical_devices(\"GPU\")\n",
        "devices"
      ]
    },
    {
      "cell_type": "code",
      "execution_count": 8,
      "metadata": {
        "id": "A8WtBtBaU2TG",
        "tags": []
      },
      "outputs": [
        {
          "name": "stdout",
          "output_type": "stream",
          "text": [
            "INFO:tensorflow:Using MirroredStrategy with devices ('/job:localhost/replica:0/task:0/device:GPU:0',)\n"
          ]
        }
      ],
      "source": [
        "# Define the GPU strategy\n",
        "mirrored_strategy = tf.distribute.MirroredStrategy(devices=[\"/gpu:0\"])"
      ]
    },
    {
      "attachments": {},
      "cell_type": "markdown",
      "metadata": {
        "id": "Vqr_uGTNU2TG"
      },
      "source": [
        "# Modelling Without Augmentation"
      ]
    },
    {
      "attachments": {},
      "cell_type": "markdown",
      "metadata": {
        "id": "w4Wzh6ZyU2TH"
      },
      "source": [
        "## DenseNet Model 1"
      ]
    },
    {
      "cell_type": "code",
      "execution_count": 9,
      "metadata": {
        "id": "uUqYGBfRU2TH",
        "tags": []
      },
      "outputs": [],
      "source": [
        "# Difine the callbacks\n",
        "# Save the best model\n",
        "checkpoint_callback = ModelCheckpoint(filepath=\"Corn_DenseNet_model1_Based_Non_Augmented\", save_best_only=True, monitor=\"val_accuracy\", mode=\"max\", verbose=1)\n",
        "\n",
        "# Early stopping\n",
        "early_stopping_callback = EarlyStopping(monitor=\"val_accuracy\", mode=\"max\", patience=20, verbose=1, restore_best_weights=True)\n",
        "\n",
        "# Reduce learning rate\n",
        "reduce_lr_callback = ReduceLROnPlateau(monitor=\"val_loss\", factor=0.1, patience=5, verbose=1, mode=\"min\", min_delta=0.0001, cooldown=0, min_lr=0)\n",
        "\n",
        "# Callbacks list\n",
        "callbacks=[checkpoint_callback, early_stopping_callback, reduce_lr_callback]"
      ]
    },
    {
      "cell_type": "code",
      "execution_count": 10,
      "metadata": {
        "colab": {
          "base_uri": "https://localhost:8080/"
        },
        "id": "BQHFs3gSU2TI",
        "outputId": "7f1f9f40-c58e-45bf-ed4f-14bd70a72c52",
        "tags": []
      },
      "outputs": [
        {
          "name": "stdout",
          "output_type": "stream",
          "text": [
            "Model: \"sequential\"\n",
            "_________________________________________________________________\n",
            " Layer (type)                Output Shape              Param #   \n",
            "=================================================================\n",
            " densenet121 (Functional)    (None, 7, 7, 1024)        7037504   \n",
            "                                                                 \n",
            " global_max_pooling2d (Globa  (None, 1024)             0         \n",
            " lMaxPooling2D)                                                  \n",
            "                                                                 \n",
            " dropout (Dropout)           (None, 1024)              0         \n",
            "                                                                 \n",
            " dense (Dense)               (None, 256)               262400    \n",
            "                                                                 \n",
            " dense_1 (Dense)             (None, 4)                 1028      \n",
            "                                                                 \n",
            "=================================================================\n",
            "Total params: 7,300,932\n",
            "Trainable params: 7,217,284\n",
            "Non-trainable params: 83,648\n",
            "_________________________________________________________________\n"
          ]
        }
      ],
      "source": [
        "# Define DIY Model\n",
        "DenseNet_model = tf.keras.models.Sequential([\n",
        "    # DenseNet121 Layer\n",
        "    DenseNet121(include_top=False,weights='imagenet',input_shape=(224, 224, 3)),\n",
        "    # Global Max Pooling Layer\n",
        "    tf.keras.layers.GlobalMaxPooling2D(),\n",
        "    # Drop Out Layer\n",
        "    tf.keras.layers.Dropout(0.2),\n",
        "    # 256 neuron hidden layer\n",
        "    tf.keras.layers.Dense(256, activation='relu'),\n",
        "    # Output\n",
        "    tf.keras.layers.Dense(4, activation='softmax') \n",
        "  ])\n",
        "\n",
        "\n",
        "# Compile Model\n",
        "DenseNet_model.compile(loss='categorical_crossentropy',optimizer=tf.keras.optimizers.Adam(), metrics=['accuracy']) \n",
        "\n",
        "# Model Summary\n",
        "DenseNet_model.summary()"
      ]
    },
    {
      "cell_type": "code",
      "execution_count": 11,
      "metadata": {
        "colab": {
          "base_uri": "https://localhost:8080/"
        },
        "id": "6coN3TKhU2TI",
        "outputId": "855d91bb-6afb-4643-a4bb-fb18d417192d",
        "tags": []
      },
      "outputs": [
        {
          "name": "stdout",
          "output_type": "stream",
          "text": [
            "Epoch 1/100\n",
            "384/384 [==============================] - ETA: 0s - loss: 0.4291 - accuracy: 0.8908\n",
            "Epoch 1: val_accuracy improved from -inf to 0.92507, saving model to Corn_DenseNet_model1_Based_Non_Augmented\n"
          ]
        },
        {
          "name": "stderr",
          "output_type": "stream",
          "text": [
            "WARNING:absl:Found untraced functions such as _jit_compiled_convolution_op, _jit_compiled_convolution_op, _jit_compiled_convolution_op, _jit_compiled_convolution_op, _jit_compiled_convolution_op while saving (showing 5 of 120). These functions will not be directly callable after loading.\n"
          ]
        },
        {
          "name": "stdout",
          "output_type": "stream",
          "text": [
            "INFO:tensorflow:Assets written to: Corn_DenseNet_model1_Based_Non_Augmented\\assets\n"
          ]
        },
        {
          "name": "stderr",
          "output_type": "stream",
          "text": [
            "INFO:tensorflow:Assets written to: Corn_DenseNet_model1_Based_Non_Augmented\\assets\n"
          ]
        },
        {
          "name": "stdout",
          "output_type": "stream",
          "text": [
            "384/384 [==============================] - 151s 348ms/step - loss: 0.4291 - accuracy: 0.8908 - val_loss: 0.2613 - val_accuracy: 0.9251 - lr: 0.0010\n",
            "Epoch 2/100\n",
            "384/384 [==============================] - ETA: 0s - loss: 0.2272 - accuracy: 0.9272\n",
            "Epoch 2: val_accuracy improved from 0.92507 to 0.94717, saving model to Corn_DenseNet_model1_Based_Non_Augmented\n"
          ]
        },
        {
          "name": "stderr",
          "output_type": "stream",
          "text": [
            "WARNING:absl:Found untraced functions such as _jit_compiled_convolution_op, _jit_compiled_convolution_op, _jit_compiled_convolution_op, _jit_compiled_convolution_op, _jit_compiled_convolution_op while saving (showing 5 of 120). These functions will not be directly callable after loading.\n"
          ]
        },
        {
          "name": "stdout",
          "output_type": "stream",
          "text": [
            "INFO:tensorflow:Assets written to: Corn_DenseNet_model1_Based_Non_Augmented\\assets\n"
          ]
        },
        {
          "name": "stderr",
          "output_type": "stream",
          "text": [
            "INFO:tensorflow:Assets written to: Corn_DenseNet_model1_Based_Non_Augmented\\assets\n"
          ]
        },
        {
          "name": "stdout",
          "output_type": "stream",
          "text": [
            "384/384 [==============================] - 109s 283ms/step - loss: 0.2272 - accuracy: 0.9272 - val_loss: 0.1377 - val_accuracy: 0.9472 - lr: 0.0010\n",
            "Epoch 3/100\n",
            "384/384 [==============================] - ETA: 0s - loss: 0.1779 - accuracy: 0.9442\n",
            "Epoch 3: val_accuracy did not improve from 0.94717\n",
            "384/384 [==============================] - 74s 192ms/step - loss: 0.1779 - accuracy: 0.9442 - val_loss: 21.6901 - val_accuracy: 0.7650 - lr: 0.0010\n",
            "Epoch 4/100\n",
            "384/384 [==============================] - ETA: 0s - loss: 0.1815 - accuracy: 0.9367\n",
            "Epoch 4: val_accuracy improved from 0.94717 to 0.95202, saving model to Corn_DenseNet_model1_Based_Non_Augmented\n"
          ]
        },
        {
          "name": "stderr",
          "output_type": "stream",
          "text": [
            "WARNING:absl:Found untraced functions such as _jit_compiled_convolution_op, _jit_compiled_convolution_op, _jit_compiled_convolution_op, _jit_compiled_convolution_op, _jit_compiled_convolution_op while saving (showing 5 of 120). These functions will not be directly callable after loading.\n"
          ]
        },
        {
          "name": "stdout",
          "output_type": "stream",
          "text": [
            "INFO:tensorflow:Assets written to: Corn_DenseNet_model1_Based_Non_Augmented\\assets\n"
          ]
        },
        {
          "name": "stderr",
          "output_type": "stream",
          "text": [
            "INFO:tensorflow:Assets written to: Corn_DenseNet_model1_Based_Non_Augmented\\assets\n"
          ]
        },
        {
          "name": "stdout",
          "output_type": "stream",
          "text": [
            "384/384 [==============================] - 113s 295ms/step - loss: 0.1815 - accuracy: 0.9367 - val_loss: 0.1384 - val_accuracy: 0.9520 - lr: 0.0010\n",
            "Epoch 5/100\n",
            "384/384 [==============================] - ETA: 0s - loss: 0.1283 - accuracy: 0.9538\n",
            "Epoch 5: val_accuracy improved from 0.95202 to 0.96766, saving model to Corn_DenseNet_model1_Based_Non_Augmented\n"
          ]
        },
        {
          "name": "stderr",
          "output_type": "stream",
          "text": [
            "WARNING:absl:Found untraced functions such as _jit_compiled_convolution_op, _jit_compiled_convolution_op, _jit_compiled_convolution_op, _jit_compiled_convolution_op, _jit_compiled_convolution_op while saving (showing 5 of 120). These functions will not be directly callable after loading.\n"
          ]
        },
        {
          "name": "stdout",
          "output_type": "stream",
          "text": [
            "INFO:tensorflow:Assets written to: Corn_DenseNet_model1_Based_Non_Augmented\\assets\n"
          ]
        },
        {
          "name": "stderr",
          "output_type": "stream",
          "text": [
            "INFO:tensorflow:Assets written to: Corn_DenseNet_model1_Based_Non_Augmented\\assets\n"
          ]
        },
        {
          "name": "stdout",
          "output_type": "stream",
          "text": [
            "384/384 [==============================] - 121s 315ms/step - loss: 0.1283 - accuracy: 0.9538 - val_loss: 0.0836 - val_accuracy: 0.9677 - lr: 0.0010\n",
            "Epoch 6/100\n",
            "384/384 [==============================] - ETA: 0s - loss: 0.1127 - accuracy: 0.9585\n",
            "Epoch 6: val_accuracy did not improve from 0.96766\n",
            "384/384 [==============================] - 76s 196ms/step - loss: 0.1127 - accuracy: 0.9585 - val_loss: 0.1058 - val_accuracy: 0.9574 - lr: 0.0010\n",
            "Epoch 7/100\n",
            "384/384 [==============================] - ETA: 0s - loss: 0.1080 - accuracy: 0.9598\n",
            "Epoch 7: val_accuracy did not improve from 0.96766\n",
            "384/384 [==============================] - 77s 200ms/step - loss: 0.1080 - accuracy: 0.9598 - val_loss: 0.1876 - val_accuracy: 0.9202 - lr: 0.0010\n",
            "Epoch 8/100\n",
            "384/384 [==============================] - ETA: 0s - loss: 0.0955 - accuracy: 0.9667\n",
            "Epoch 8: val_accuracy did not improve from 0.96766\n",
            "384/384 [==============================] - 76s 199ms/step - loss: 0.0955 - accuracy: 0.9667 - val_loss: 0.6726 - val_accuracy: 0.9315 - lr: 0.0010\n",
            "Epoch 9/100\n",
            "384/384 [==============================] - ETA: 0s - loss: 0.0914 - accuracy: 0.9661\n",
            "Epoch 9: val_accuracy did not improve from 0.96766\n",
            "384/384 [==============================] - 77s 200ms/step - loss: 0.0914 - accuracy: 0.9661 - val_loss: 0.0886 - val_accuracy: 0.9644 - lr: 0.0010\n",
            "Epoch 10/100\n",
            "384/384 [==============================] - ETA: 0s - loss: 0.0880 - accuracy: 0.9716\n",
            "Epoch 10: val_accuracy improved from 0.96766 to 0.96819, saving model to Corn_DenseNet_model1_Based_Non_Augmented\n"
          ]
        },
        {
          "name": "stderr",
          "output_type": "stream",
          "text": [
            "WARNING:absl:Found untraced functions such as _jit_compiled_convolution_op, _jit_compiled_convolution_op, _jit_compiled_convolution_op, _jit_compiled_convolution_op, _jit_compiled_convolution_op while saving (showing 5 of 120). These functions will not be directly callable after loading.\n"
          ]
        },
        {
          "name": "stdout",
          "output_type": "stream",
          "text": [
            "INFO:tensorflow:Assets written to: Corn_DenseNet_model1_Based_Non_Augmented\\assets\n"
          ]
        },
        {
          "name": "stderr",
          "output_type": "stream",
          "text": [
            "INFO:tensorflow:Assets written to: Corn_DenseNet_model1_Based_Non_Augmented\\assets\n"
          ]
        },
        {
          "name": "stdout",
          "output_type": "stream",
          "text": [
            "384/384 [==============================] - 121s 315ms/step - loss: 0.0880 - accuracy: 0.9716 - val_loss: 0.0820 - val_accuracy: 0.9682 - lr: 0.0010\n",
            "Epoch 11/100\n",
            "384/384 [==============================] - ETA: 0s - loss: 0.1174 - accuracy: 0.9593\n",
            "Epoch 11: val_accuracy improved from 0.96819 to 0.96927, saving model to Corn_DenseNet_model1_Based_Non_Augmented\n"
          ]
        },
        {
          "name": "stderr",
          "output_type": "stream",
          "text": [
            "WARNING:absl:Found untraced functions such as _jit_compiled_convolution_op, _jit_compiled_convolution_op, _jit_compiled_convolution_op, _jit_compiled_convolution_op, _jit_compiled_convolution_op while saving (showing 5 of 120). These functions will not be directly callable after loading.\n"
          ]
        },
        {
          "name": "stdout",
          "output_type": "stream",
          "text": [
            "INFO:tensorflow:Assets written to: Corn_DenseNet_model1_Based_Non_Augmented\\assets\n"
          ]
        },
        {
          "name": "stderr",
          "output_type": "stream",
          "text": [
            "INFO:tensorflow:Assets written to: Corn_DenseNet_model1_Based_Non_Augmented\\assets\n"
          ]
        },
        {
          "name": "stdout",
          "output_type": "stream",
          "text": [
            "384/384 [==============================] - 118s 307ms/step - loss: 0.1174 - accuracy: 0.9593 - val_loss: 0.0871 - val_accuracy: 0.9693 - lr: 0.0010\n",
            "Epoch 12/100\n",
            "384/384 [==============================] - ETA: 0s - loss: 0.1031 - accuracy: 0.9637\n",
            "Epoch 12: val_accuracy improved from 0.96927 to 0.96981, saving model to Corn_DenseNet_model1_Based_Non_Augmented\n"
          ]
        },
        {
          "name": "stderr",
          "output_type": "stream",
          "text": [
            "WARNING:absl:Found untraced functions such as _jit_compiled_convolution_op, _jit_compiled_convolution_op, _jit_compiled_convolution_op, _jit_compiled_convolution_op, _jit_compiled_convolution_op while saving (showing 5 of 120). These functions will not be directly callable after loading.\n"
          ]
        },
        {
          "name": "stdout",
          "output_type": "stream",
          "text": [
            "INFO:tensorflow:Assets written to: Corn_DenseNet_model1_Based_Non_Augmented\\assets\n"
          ]
        },
        {
          "name": "stderr",
          "output_type": "stream",
          "text": [
            "INFO:tensorflow:Assets written to: Corn_DenseNet_model1_Based_Non_Augmented\\assets\n"
          ]
        },
        {
          "name": "stdout",
          "output_type": "stream",
          "text": [
            "384/384 [==============================] - 119s 309ms/step - loss: 0.1031 - accuracy: 0.9637 - val_loss: 0.0874 - val_accuracy: 0.9698 - lr: 0.0010\n",
            "Epoch 13/100\n",
            "384/384 [==============================] - ETA: 0s - loss: 0.0869 - accuracy: 0.9680\n",
            "Epoch 13: val_accuracy did not improve from 0.96981\n",
            "384/384 [==============================] - 74s 193ms/step - loss: 0.0869 - accuracy: 0.9680 - val_loss: 0.1943 - val_accuracy: 0.9202 - lr: 0.0010\n",
            "Epoch 14/100\n",
            "384/384 [==============================] - ETA: 0s - loss: 0.0839 - accuracy: 0.9697\n",
            "Epoch 14: val_accuracy did not improve from 0.96981\n",
            "384/384 [==============================] - 75s 195ms/step - loss: 0.0839 - accuracy: 0.9697 - val_loss: 0.1072 - val_accuracy: 0.9698 - lr: 0.0010\n",
            "Epoch 15/100\n",
            "384/384 [==============================] - ETA: 0s - loss: 0.0885 - accuracy: 0.9665\n",
            "Epoch 15: val_accuracy did not improve from 0.96981\n",
            "\n",
            "Epoch 15: ReduceLROnPlateau reducing learning rate to 0.00010000000474974513.\n",
            "384/384 [==============================] - 75s 196ms/step - loss: 0.0885 - accuracy: 0.9665 - val_loss: 0.2626 - val_accuracy: 0.9229 - lr: 0.0010\n",
            "Epoch 16/100\n",
            "384/384 [==============================] - ETA: 0s - loss: 0.0408 - accuracy: 0.9847\n",
            "Epoch 16: val_accuracy improved from 0.96981 to 0.98437, saving model to Corn_DenseNet_model1_Based_Non_Augmented\n"
          ]
        },
        {
          "name": "stderr",
          "output_type": "stream",
          "text": [
            "WARNING:absl:Found untraced functions such as _jit_compiled_convolution_op, _jit_compiled_convolution_op, _jit_compiled_convolution_op, _jit_compiled_convolution_op, _jit_compiled_convolution_op while saving (showing 5 of 120). These functions will not be directly callable after loading.\n"
          ]
        },
        {
          "name": "stdout",
          "output_type": "stream",
          "text": [
            "INFO:tensorflow:Assets written to: Corn_DenseNet_model1_Based_Non_Augmented\\assets\n"
          ]
        },
        {
          "name": "stderr",
          "output_type": "stream",
          "text": [
            "INFO:tensorflow:Assets written to: Corn_DenseNet_model1_Based_Non_Augmented\\assets\n"
          ]
        },
        {
          "name": "stdout",
          "output_type": "stream",
          "text": [
            "384/384 [==============================] - 123s 319ms/step - loss: 0.0408 - accuracy: 0.9847 - val_loss: 0.0471 - val_accuracy: 0.9844 - lr: 1.0000e-04\n",
            "Epoch 17/100\n",
            "384/384 [==============================] - ETA: 0s - loss: 0.0364 - accuracy: 0.9879\n",
            "Epoch 17: val_accuracy improved from 0.98437 to 0.98491, saving model to Corn_DenseNet_model1_Based_Non_Augmented\n"
          ]
        },
        {
          "name": "stderr",
          "output_type": "stream",
          "text": [
            "WARNING:absl:Found untraced functions such as _jit_compiled_convolution_op, _jit_compiled_convolution_op, _jit_compiled_convolution_op, _jit_compiled_convolution_op, _jit_compiled_convolution_op while saving (showing 5 of 120). These functions will not be directly callable after loading.\n"
          ]
        },
        {
          "name": "stdout",
          "output_type": "stream",
          "text": [
            "INFO:tensorflow:Assets written to: Corn_DenseNet_model1_Based_Non_Augmented\\assets\n"
          ]
        },
        {
          "name": "stderr",
          "output_type": "stream",
          "text": [
            "INFO:tensorflow:Assets written to: Corn_DenseNet_model1_Based_Non_Augmented\\assets\n"
          ]
        },
        {
          "name": "stdout",
          "output_type": "stream",
          "text": [
            "384/384 [==============================] - 119s 310ms/step - loss: 0.0364 - accuracy: 0.9879 - val_loss: 0.0434 - val_accuracy: 0.9849 - lr: 1.0000e-04\n",
            "Epoch 18/100\n",
            "384/384 [==============================] - ETA: 0s - loss: 0.0297 - accuracy: 0.9905\n",
            "Epoch 18: val_accuracy did not improve from 0.98491\n",
            "384/384 [==============================] - 75s 194ms/step - loss: 0.0297 - accuracy: 0.9905 - val_loss: 0.0523 - val_accuracy: 0.9833 - lr: 1.0000e-04\n",
            "Epoch 19/100\n",
            "384/384 [==============================] - ETA: 0s - loss: 0.0280 - accuracy: 0.9888\n",
            "Epoch 19: val_accuracy did not improve from 0.98491\n",
            "384/384 [==============================] - 75s 195ms/step - loss: 0.0280 - accuracy: 0.9888 - val_loss: 0.0431 - val_accuracy: 0.9849 - lr: 1.0000e-04\n",
            "Epoch 20/100\n",
            "384/384 [==============================] - ETA: 0s - loss: 0.0249 - accuracy: 0.9907\n",
            "Epoch 20: val_accuracy did not improve from 0.98491\n",
            "384/384 [==============================] - 76s 197ms/step - loss: 0.0249 - accuracy: 0.9907 - val_loss: 0.0486 - val_accuracy: 0.9844 - lr: 1.0000e-04\n",
            "Epoch 21/100\n",
            "384/384 [==============================] - ETA: 0s - loss: 0.0182 - accuracy: 0.9935\n",
            "Epoch 21: val_accuracy did not improve from 0.98491\n",
            "384/384 [==============================] - 76s 197ms/step - loss: 0.0182 - accuracy: 0.9935 - val_loss: 0.0565 - val_accuracy: 0.9822 - lr: 1.0000e-04\n",
            "Epoch 22/100\n",
            "384/384 [==============================] - ETA: 0s - loss: 0.0221 - accuracy: 0.9928\n",
            "Epoch 22: val_accuracy improved from 0.98491 to 0.98598, saving model to Corn_DenseNet_model1_Based_Non_Augmented\n"
          ]
        },
        {
          "name": "stderr",
          "output_type": "stream",
          "text": [
            "WARNING:absl:Found untraced functions such as _jit_compiled_convolution_op, _jit_compiled_convolution_op, _jit_compiled_convolution_op, _jit_compiled_convolution_op, _jit_compiled_convolution_op while saving (showing 5 of 120). These functions will not be directly callable after loading.\n"
          ]
        },
        {
          "name": "stdout",
          "output_type": "stream",
          "text": [
            "INFO:tensorflow:Assets written to: Corn_DenseNet_model1_Based_Non_Augmented\\assets\n"
          ]
        },
        {
          "name": "stderr",
          "output_type": "stream",
          "text": [
            "INFO:tensorflow:Assets written to: Corn_DenseNet_model1_Based_Non_Augmented\\assets\n"
          ]
        },
        {
          "name": "stdout",
          "output_type": "stream",
          "text": [
            "384/384 [==============================] - 120s 313ms/step - loss: 0.0221 - accuracy: 0.9928 - val_loss: 0.0489 - val_accuracy: 0.9860 - lr: 1.0000e-04\n",
            "Epoch 23/100\n",
            "384/384 [==============================] - ETA: 0s - loss: 0.0147 - accuracy: 0.9954\n",
            "Epoch 23: val_accuracy did not improve from 0.98598\n",
            "384/384 [==============================] - 75s 194ms/step - loss: 0.0147 - accuracy: 0.9954 - val_loss: 0.0563 - val_accuracy: 0.9849 - lr: 1.0000e-04\n",
            "Epoch 24/100\n",
            "384/384 [==============================] - ETA: 0s - loss: 0.0128 - accuracy: 0.9954\n",
            "Epoch 24: val_accuracy did not improve from 0.98598\n",
            "\n",
            "Epoch 24: ReduceLROnPlateau reducing learning rate to 1.0000000474974514e-05.\n",
            "384/384 [==============================] - 76s 197ms/step - loss: 0.0128 - accuracy: 0.9954 - val_loss: 0.0607 - val_accuracy: 0.9822 - lr: 1.0000e-04\n",
            "Epoch 25/100\n",
            "384/384 [==============================] - ETA: 0s - loss: 0.0103 - accuracy: 0.9966\n",
            "Epoch 25: val_accuracy did not improve from 0.98598\n",
            "384/384 [==============================] - 76s 197ms/step - loss: 0.0103 - accuracy: 0.9966 - val_loss: 0.0493 - val_accuracy: 0.9854 - lr: 1.0000e-05\n",
            "Epoch 26/100\n",
            "384/384 [==============================] - ETA: 0s - loss: 0.0100 - accuracy: 0.9958\n",
            "Epoch 26: val_accuracy did not improve from 0.98598\n",
            "384/384 [==============================] - 76s 197ms/step - loss: 0.0100 - accuracy: 0.9958 - val_loss: 0.0485 - val_accuracy: 0.9854 - lr: 1.0000e-05\n",
            "Epoch 27/100\n",
            "384/384 [==============================] - ETA: 0s - loss: 0.0083 - accuracy: 0.9967\n",
            "Epoch 27: val_accuracy did not improve from 0.98598\n",
            "384/384 [==============================] - 76s 198ms/step - loss: 0.0083 - accuracy: 0.9967 - val_loss: 0.0494 - val_accuracy: 0.9860 - lr: 1.0000e-05\n",
            "Epoch 28/100\n",
            "384/384 [==============================] - ETA: 0s - loss: 0.0100 - accuracy: 0.9971\n",
            "Epoch 28: val_accuracy did not improve from 0.98598\n",
            "384/384 [==============================] - 76s 198ms/step - loss: 0.0100 - accuracy: 0.9971 - val_loss: 0.0506 - val_accuracy: 0.9849 - lr: 1.0000e-05\n",
            "Epoch 29/100\n",
            "384/384 [==============================] - ETA: 0s - loss: 0.0071 - accuracy: 0.9979\n",
            "Epoch 29: val_accuracy did not improve from 0.98598\n",
            "\n",
            "Epoch 29: ReduceLROnPlateau reducing learning rate to 1.0000000656873453e-06.\n",
            "384/384 [==============================] - 76s 198ms/step - loss: 0.0071 - accuracy: 0.9979 - val_loss: 0.0510 - val_accuracy: 0.9849 - lr: 1.0000e-05\n",
            "Epoch 30/100\n",
            "384/384 [==============================] - ETA: 0s - loss: 0.0077 - accuracy: 0.9974\n",
            "Epoch 30: val_accuracy did not improve from 0.98598\n",
            "384/384 [==============================] - 76s 197ms/step - loss: 0.0077 - accuracy: 0.9974 - val_loss: 0.0509 - val_accuracy: 0.9849 - lr: 1.0000e-06\n",
            "Epoch 31/100\n",
            "384/384 [==============================] - ETA: 0s - loss: 0.0067 - accuracy: 0.9987\n",
            "Epoch 31: val_accuracy did not improve from 0.98598\n",
            "384/384 [==============================] - 76s 198ms/step - loss: 0.0067 - accuracy: 0.9987 - val_loss: 0.0507 - val_accuracy: 0.9849 - lr: 1.0000e-06\n",
            "Epoch 32/100\n",
            "384/384 [==============================] - ETA: 0s - loss: 0.0060 - accuracy: 0.9980\n",
            "Epoch 32: val_accuracy did not improve from 0.98598\n",
            "384/384 [==============================] - 76s 197ms/step - loss: 0.0060 - accuracy: 0.9980 - val_loss: 0.0508 - val_accuracy: 0.9854 - lr: 1.0000e-06\n",
            "Epoch 33/100\n",
            "384/384 [==============================] - ETA: 0s - loss: 0.0102 - accuracy: 0.9966\n",
            "Epoch 33: val_accuracy did not improve from 0.98598\n",
            "384/384 [==============================] - 77s 200ms/step - loss: 0.0102 - accuracy: 0.9966 - val_loss: 0.0509 - val_accuracy: 0.9854 - lr: 1.0000e-06\n",
            "Epoch 34/100\n",
            "384/384 [==============================] - ETA: 0s - loss: 0.0059 - accuracy: 0.9978\n",
            "Epoch 34: val_accuracy did not improve from 0.98598\n",
            "\n",
            "Epoch 34: ReduceLROnPlateau reducing learning rate to 1.0000001111620805e-07.\n",
            "384/384 [==============================] - 76s 197ms/step - loss: 0.0059 - accuracy: 0.9978 - val_loss: 0.0503 - val_accuracy: 0.9854 - lr: 1.0000e-06\n",
            "Epoch 35/100\n",
            "384/384 [==============================] - ETA: 0s - loss: 0.0068 - accuracy: 0.9978\n",
            "Epoch 35: val_accuracy did not improve from 0.98598\n",
            "384/384 [==============================] - 76s 198ms/step - loss: 0.0068 - accuracy: 0.9978 - val_loss: 0.0508 - val_accuracy: 0.9854 - lr: 1.0000e-07\n",
            "Epoch 36/100\n",
            "384/384 [==============================] - ETA: 0s - loss: 0.0065 - accuracy: 0.9975\n",
            "Epoch 36: val_accuracy did not improve from 0.98598\n",
            "384/384 [==============================] - 76s 198ms/step - loss: 0.0065 - accuracy: 0.9975 - val_loss: 0.0506 - val_accuracy: 0.9854 - lr: 1.0000e-07\n",
            "Epoch 37/100\n",
            "384/384 [==============================] - ETA: 0s - loss: 0.0066 - accuracy: 0.9980\n",
            "Epoch 37: val_accuracy did not improve from 0.98598\n",
            "384/384 [==============================] - 76s 198ms/step - loss: 0.0066 - accuracy: 0.9980 - val_loss: 0.0504 - val_accuracy: 0.9854 - lr: 1.0000e-07\n",
            "Epoch 38/100\n",
            "384/384 [==============================] - ETA: 0s - loss: 0.0082 - accuracy: 0.9978\n",
            "Epoch 38: val_accuracy did not improve from 0.98598\n",
            "384/384 [==============================] - 76s 198ms/step - loss: 0.0082 - accuracy: 0.9978 - val_loss: 0.0507 - val_accuracy: 0.9854 - lr: 1.0000e-07\n",
            "Epoch 39/100\n",
            "384/384 [==============================] - ETA: 0s - loss: 0.0067 - accuracy: 0.9977\n",
            "Epoch 39: val_accuracy did not improve from 0.98598\n",
            "\n",
            "Epoch 39: ReduceLROnPlateau reducing learning rate to 1.000000082740371e-08.\n",
            "384/384 [==============================] - 76s 198ms/step - loss: 0.0067 - accuracy: 0.9977 - val_loss: 0.0507 - val_accuracy: 0.9854 - lr: 1.0000e-07\n",
            "Epoch 40/100\n",
            "384/384 [==============================] - ETA: 0s - loss: 0.0057 - accuracy: 0.9980\n",
            "Epoch 40: val_accuracy did not improve from 0.98598\n",
            "384/384 [==============================] - 76s 198ms/step - loss: 0.0057 - accuracy: 0.9980 - val_loss: 0.0508 - val_accuracy: 0.9854 - lr: 1.0000e-08\n",
            "Epoch 41/100\n",
            "384/384 [==============================] - ETA: 0s - loss: 0.0069 - accuracy: 0.9977\n",
            "Epoch 41: val_accuracy did not improve from 0.98598\n",
            "384/384 [==============================] - 76s 198ms/step - loss: 0.0069 - accuracy: 0.9977 - val_loss: 0.0507 - val_accuracy: 0.9854 - lr: 1.0000e-08\n",
            "Epoch 42/100\n",
            "384/384 [==============================] - ETA: 0s - loss: 0.0069 - accuracy: 0.9978\n",
            "Epoch 42: val_accuracy did not improve from 0.98598\n",
            "Restoring model weights from the end of the best epoch: 22.\n",
            "384/384 [==============================] - 76s 198ms/step - loss: 0.0069 - accuracy: 0.9978 - val_loss: 0.0510 - val_accuracy: 0.9854 - lr: 1.0000e-08\n",
            "Epoch 42: early stopping\n"
          ]
        }
      ],
      "source": [
        "# Define the number of epochs\n",
        "num_epochs = 100\n",
        "\n",
        "# Train the model\n",
        "history_DenseNet_model_1 = DenseNet_model.fit(train_generator, epochs=num_epochs, validation_data=validation_generator, callbacks=callbacks)"
      ]
    },
    {
      "cell_type": "code",
      "execution_count": 12,
      "metadata": {
        "colab": {
          "base_uri": "https://localhost:8080/",
          "height": 904
        },
        "id": "lvS9xz3LU2TI",
        "outputId": "10ceb97f-0442-4a46-99df-01056a86f387",
        "tags": []
      },
      "outputs": [
        {
          "data": {
            "text/plain": [
              "<matplotlib.legend.Legend at 0x294a934a4d0>"
            ]
          },
          "execution_count": 12,
          "metadata": {},
          "output_type": "execute_result"
        },
        {
          "data": {
            "image/png": "[encoded data removed]",
            "text/plain": [
              "<Figure size 640x480 with 1 Axes>"
            ]
          },
          "metadata": {},
          "output_type": "display_data"
        },
        {
          "data": {
            "image/png": "[encoded data removed]",
            "text/plain": [
              "<Figure size 640x480 with 1 Axes>"
            ]
          },
          "metadata": {},
          "output_type": "display_data"
        }
      ],
      "source": [
        "#-----------------------------------------------------------\n",
        "# Retrieve a list of list results on training and test data\n",
        "# sets for each training epoch\n",
        "#-----------------------------------------------------------\n",
        "acc      = history_DenseNet_model_1.history['accuracy' ]\n",
        "val_acc  = history_DenseNet_model_1.history['val_accuracy' ]\n",
        "loss     = history_DenseNet_model_1.history['loss' ]\n",
        "val_loss = history_DenseNet_model_1.history['val_loss' ]\n",
        "\n",
        "epochs   = range(len(acc)) # Get number of epochs\n",
        "\n",
        "#------------------------------------------------\n",
        "# Plot training and validation accuracy per epoch\n",
        "#------------------------------------------------\n",
        "plt.plot  (epochs, acc )\n",
        "plt.plot  (epochs, val_acc )\n",
        "plt.title ('Training and validation accuracy DenseNet Model 1')\n",
        "plt.legend(['train', 'val'], loc='upper left')\n",
        "plt.figure()\n",
        "\n",
        "#------------------------------------------------\n",
        "# Plot training and validation loss per epoch\n",
        "#------------------------------------------------\n",
        "plt.plot  (epochs, loss)\n",
        "plt.plot  (epochs, val_loss)\n",
        "plt.title ('Training and validation loss DenseNet Model 1')\n",
        "plt.legend(['train', 'val'], loc='upper left')"
      ]
    },
    {
      "attachments": {},
      "cell_type": "markdown",
      "metadata": {
        "id": "SvQOR9IuU2TJ"
      },
      "source": [
        "## DenseNet Model 2"
      ]
    },
    {
      "cell_type": "code",
      "execution_count": 13,
      "metadata": {
        "id": "Tj7lcdvUU2TJ",
        "tags": []
      },
      "outputs": [],
      "source": [
        "# Difine the callbacks\n",
        "# Save the best model\n",
        "checkpoint_callback = ModelCheckpoint(filepath=\"Corn_DenseNet_model2_Based_Non_Augmented\", save_best_only=True, monitor=\"val_accuracy\", mode=\"max\", verbose=1)\n",
        "\n",
        "# Early stopping\n",
        "early_stopping_callback = EarlyStopping(monitor=\"val_accuracy\", mode=\"max\", patience=20, verbose=1, restore_best_weights=True)\n",
        "\n",
        "# Reduce learning rate\n",
        "reduce_lr_callback = ReduceLROnPlateau(monitor=\"val_loss\", factor=0.1, patience=5, verbose=1, mode=\"min\", min_delta=0.0001, cooldown=0, min_lr=0)\n",
        "\n",
        "# Callbacks list\n",
        "callbacks=[checkpoint_callback, early_stopping_callback, reduce_lr_callback]"
      ]
    },
    {
      "cell_type": "code",
      "execution_count": 14,
      "metadata": {
        "colab": {
          "base_uri": "https://localhost:8080/"
        },
        "id": "7NKPY1xGU2TJ",
        "outputId": "65b8ccbd-464c-4147-939c-4ccefb535914",
        "tags": []
      },
      "outputs": [
        {
          "name": "stdout",
          "output_type": "stream",
          "text": [
            "Model: \"sequential_1\"\n",
            "_________________________________________________________________\n",
            " Layer (type)                Output Shape              Param #   \n",
            "=================================================================\n",
            " densenet121 (Functional)    (None, 7, 7, 1024)        7037504   \n",
            "                                                                 \n",
            " global_average_pooling2d (G  (None, 1024)             0         \n",
            " lobalAveragePooling2D)                                          \n",
            "                                                                 \n",
            " dropout_1 (Dropout)         (None, 1024)              0         \n",
            "                                                                 \n",
            " dense_2 (Dense)             (None, 256)               262400    \n",
            "                                                                 \n",
            " dense_3 (Dense)             (None, 4)                 1028      \n",
            "                                                                 \n",
            "=================================================================\n",
            "Total params: 7,300,932\n",
            "Trainable params: 7,217,284\n",
            "Non-trainable params: 83,648\n",
            "_________________________________________________________________\n"
          ]
        }
      ],
      "source": [
        "# Define DIY Model\n",
        "DenseNet_model_2 = tf.keras.models.Sequential([\n",
        "    # DenseNet121 Layer\n",
        "    DenseNet121(include_top=False,weights='imagenet',input_shape=(224, 224, 3)),\n",
        "    # Global Average Pooling Layer\n",
        "    tf.keras.layers.GlobalAveragePooling2D(),\n",
        "    # Drop Out Layer\n",
        "    tf.keras.layers.Dropout(0.2),\n",
        "    # 256 neuron hidden layer\n",
        "    tf.keras.layers.Dense(256, activation='relu'),\n",
        "    # Output\n",
        "    tf.keras.layers.Dense(4, activation='softmax') \n",
        "  ])\n",
        "\n",
        "\n",
        "# Compile Model\n",
        "DenseNet_model_2.compile(loss='categorical_crossentropy',optimizer=tf.keras.optimizers.Adam(), metrics=['accuracy']) \n",
        "\n",
        "# Model Summary\n",
        "DenseNet_model_2.summary()"
      ]
    },
    {
      "cell_type": "code",
      "execution_count": 15,
      "metadata": {
        "colab": {
          "base_uri": "https://localhost:8080/"
        },
        "id": "6beuexC9U2TJ",
        "outputId": "374e0e81-2c02-4df6-9cf7-31b31f142410",
        "tags": []
      },
      "outputs": [
        {
          "name": "stdout",
          "output_type": "stream",
          "text": [
            "Epoch 1/100\n",
            "384/384 [==============================] - ETA: 0s - loss: 0.2676 - accuracy: 0.9045\n",
            "Epoch 1: val_accuracy improved from -inf to 0.91698, saving model to Corn_DenseNet_model2_Based_Non_Augmented\n"
          ]
        },
        {
          "name": "stderr",
          "output_type": "stream",
          "text": [
            "WARNING:absl:Found untraced functions such as _jit_compiled_convolution_op, _jit_compiled_convolution_op, _jit_compiled_convolution_op, _jit_compiled_convolution_op, _jit_compiled_convolution_op while saving (showing 5 of 120). These functions will not be directly callable after loading.\n"
          ]
        },
        {
          "name": "stdout",
          "output_type": "stream",
          "text": [
            "INFO:tensorflow:Assets written to: Corn_DenseNet_model2_Based_Non_Augmented\\assets\n"
          ]
        },
        {
          "name": "stderr",
          "output_type": "stream",
          "text": [
            "INFO:tensorflow:Assets written to: Corn_DenseNet_model2_Based_Non_Augmented\\assets\n"
          ]
        },
        {
          "name": "stdout",
          "output_type": "stream",
          "text": [
            "384/384 [==============================] - 128s 306ms/step - loss: 0.2676 - accuracy: 0.9045 - val_loss: 0.2764 - val_accuracy: 0.9170 - lr: 0.0010\n",
            "Epoch 2/100\n",
            "384/384 [==============================] - ETA: 0s - loss: 0.1644 - accuracy: 0.9405\n",
            "Epoch 2: val_accuracy did not improve from 0.91698\n",
            "384/384 [==============================] - 74s 191ms/step - loss: 0.1644 - accuracy: 0.9405 - val_loss: 0.4872 - val_accuracy: 0.7871 - lr: 0.0010\n",
            "Epoch 3/100\n",
            "384/384 [==============================] - ETA: 0s - loss: 0.1420 - accuracy: 0.9461\n",
            "Epoch 3: val_accuracy did not improve from 0.91698\n",
            "384/384 [==============================] - 74s 193ms/step - loss: 0.1420 - accuracy: 0.9461 - val_loss: 1.5759 - val_accuracy: 0.5245 - lr: 0.0010\n",
            "Epoch 4/100\n",
            "384/384 [==============================] - ETA: 0s - loss: 0.1433 - accuracy: 0.9491\n",
            "Epoch 4: val_accuracy improved from 0.91698 to 0.97197, saving model to Corn_DenseNet_model2_Based_Non_Augmented\n"
          ]
        },
        {
          "name": "stderr",
          "output_type": "stream",
          "text": [
            "WARNING:absl:Found untraced functions such as _jit_compiled_convolution_op, _jit_compiled_convolution_op, _jit_compiled_convolution_op, _jit_compiled_convolution_op, _jit_compiled_convolution_op while saving (showing 5 of 120). These functions will not be directly callable after loading.\n"
          ]
        },
        {
          "name": "stdout",
          "output_type": "stream",
          "text": [
            "INFO:tensorflow:Assets written to: Corn_DenseNet_model2_Based_Non_Augmented\\assets\n"
          ]
        },
        {
          "name": "stderr",
          "output_type": "stream",
          "text": [
            "INFO:tensorflow:Assets written to: Corn_DenseNet_model2_Based_Non_Augmented\\assets\n"
          ]
        },
        {
          "name": "stdout",
          "output_type": "stream",
          "text": [
            "384/384 [==============================] - 118s 308ms/step - loss: 0.1433 - accuracy: 0.9491 - val_loss: 0.0779 - val_accuracy: 0.9720 - lr: 0.0010\n",
            "Epoch 5/100\n",
            "384/384 [==============================] - ETA: 0s - loss: 0.1114 - accuracy: 0.9592\n",
            "Epoch 5: val_accuracy improved from 0.97197 to 0.97466, saving model to Corn_DenseNet_model2_Based_Non_Augmented\n"
          ]
        },
        {
          "name": "stderr",
          "output_type": "stream",
          "text": [
            "WARNING:absl:Found untraced functions such as _jit_compiled_convolution_op, _jit_compiled_convolution_op, _jit_compiled_convolution_op, _jit_compiled_convolution_op, _jit_compiled_convolution_op while saving (showing 5 of 120). These functions will not be directly callable after loading.\n"
          ]
        },
        {
          "name": "stdout",
          "output_type": "stream",
          "text": [
            "INFO:tensorflow:Assets written to: Corn_DenseNet_model2_Based_Non_Augmented\\assets\n"
          ]
        },
        {
          "name": "stderr",
          "output_type": "stream",
          "text": [
            "INFO:tensorflow:Assets written to: Corn_DenseNet_model2_Based_Non_Augmented\\assets\n"
          ]
        },
        {
          "name": "stdout",
          "output_type": "stream",
          "text": [
            "384/384 [==============================] - 118s 307ms/step - loss: 0.1114 - accuracy: 0.9592 - val_loss: 0.0752 - val_accuracy: 0.9747 - lr: 0.0010\n",
            "Epoch 6/100\n",
            "384/384 [==============================] - ETA: 0s - loss: 0.0994 - accuracy: 0.9639\n",
            "Epoch 6: val_accuracy did not improve from 0.97466\n",
            "384/384 [==============================] - 74s 193ms/step - loss: 0.0994 - accuracy: 0.9639 - val_loss: 0.1064 - val_accuracy: 0.9569 - lr: 0.0010\n",
            "Epoch 7/100\n",
            "384/384 [==============================] - ETA: 0s - loss: 0.1143 - accuracy: 0.9586\n",
            "Epoch 7: val_accuracy did not improve from 0.97466\n",
            "384/384 [==============================] - 75s 194ms/step - loss: 0.1143 - accuracy: 0.9586 - val_loss: 0.4236 - val_accuracy: 0.8733 - lr: 0.0010\n",
            "Epoch 8/100\n",
            "384/384 [==============================] - ETA: 0s - loss: 0.0982 - accuracy: 0.9637\n",
            "Epoch 8: val_accuracy did not improve from 0.97466\n",
            "384/384 [==============================] - 75s 196ms/step - loss: 0.0982 - accuracy: 0.9637 - val_loss: 0.0876 - val_accuracy: 0.9666 - lr: 0.0010\n",
            "Epoch 9/100\n",
            "384/384 [==============================] - ETA: 0s - loss: 0.0932 - accuracy: 0.9656\n",
            "Epoch 9: val_accuracy did not improve from 0.97466\n",
            "384/384 [==============================] - 75s 196ms/step - loss: 0.0932 - accuracy: 0.9656 - val_loss: 0.1085 - val_accuracy: 0.9596 - lr: 0.0010\n",
            "Epoch 10/100\n",
            "384/384 [==============================] - ETA: 0s - loss: 0.0782 - accuracy: 0.9752\n",
            "Epoch 10: val_accuracy did not improve from 0.97466\n",
            "\n",
            "Epoch 10: ReduceLROnPlateau reducing learning rate to 0.00010000000474974513.\n",
            "384/384 [==============================] - 76s 197ms/step - loss: 0.0782 - accuracy: 0.9752 - val_loss: 0.4391 - val_accuracy: 0.8404 - lr: 0.0010\n",
            "Epoch 11/100\n",
            "384/384 [==============================] - ETA: 0s - loss: 0.0568 - accuracy: 0.9807\n",
            "Epoch 11: val_accuracy improved from 0.97466 to 0.98329, saving model to Corn_DenseNet_model2_Based_Non_Augmented\n"
          ]
        },
        {
          "name": "stderr",
          "output_type": "stream",
          "text": [
            "WARNING:absl:Found untraced functions such as _jit_compiled_convolution_op, _jit_compiled_convolution_op, _jit_compiled_convolution_op, _jit_compiled_convolution_op, _jit_compiled_convolution_op while saving (showing 5 of 120). These functions will not be directly callable after loading.\n"
          ]
        },
        {
          "name": "stdout",
          "output_type": "stream",
          "text": [
            "INFO:tensorflow:Assets written to: Corn_DenseNet_model2_Based_Non_Augmented\\assets\n"
          ]
        },
        {
          "name": "stderr",
          "output_type": "stream",
          "text": [
            "INFO:tensorflow:Assets written to: Corn_DenseNet_model2_Based_Non_Augmented\\assets\n"
          ]
        },
        {
          "name": "stdout",
          "output_type": "stream",
          "text": [
            "384/384 [==============================] - 120s 312ms/step - loss: 0.0568 - accuracy: 0.9807 - val_loss: 0.0456 - val_accuracy: 0.9833 - lr: 1.0000e-04\n",
            "Epoch 12/100\n",
            "384/384 [==============================] - ETA: 0s - loss: 0.0417 - accuracy: 0.9854\n",
            "Epoch 12: val_accuracy did not improve from 0.98329\n",
            "384/384 [==============================] - 74s 193ms/step - loss: 0.0417 - accuracy: 0.9854 - val_loss: 0.0554 - val_accuracy: 0.9811 - lr: 1.0000e-04\n",
            "Epoch 13/100\n",
            "384/384 [==============================] - ETA: 0s - loss: 0.0338 - accuracy: 0.9885\n",
            "Epoch 13: val_accuracy did not improve from 0.98329\n",
            "384/384 [==============================] - 75s 196ms/step - loss: 0.0338 - accuracy: 0.9885 - val_loss: 0.0739 - val_accuracy: 0.9757 - lr: 1.0000e-04\n",
            "Epoch 14/100\n",
            "384/384 [==============================] - ETA: 0s - loss: 0.0316 - accuracy: 0.9897\n",
            "Epoch 14: val_accuracy did not improve from 0.98329\n",
            "384/384 [==============================] - 76s 198ms/step - loss: 0.0316 - accuracy: 0.9897 - val_loss: 0.0630 - val_accuracy: 0.9817 - lr: 1.0000e-04\n",
            "Epoch 15/100\n",
            "384/384 [==============================] - ETA: 0s - loss: 0.0252 - accuracy: 0.9922\n",
            "Epoch 15: val_accuracy did not improve from 0.98329\n",
            "384/384 [==============================] - 76s 197ms/step - loss: 0.0252 - accuracy: 0.9922 - val_loss: 0.0704 - val_accuracy: 0.9779 - lr: 1.0000e-04\n",
            "Epoch 16/100\n",
            "384/384 [==============================] - ETA: 0s - loss: 0.0219 - accuracy: 0.9932\n",
            "Epoch 16: val_accuracy improved from 0.98329 to 0.98491, saving model to Corn_DenseNet_model2_Based_Non_Augmented\n"
          ]
        },
        {
          "name": "stderr",
          "output_type": "stream",
          "text": [
            "WARNING:absl:Found untraced functions such as _jit_compiled_convolution_op, _jit_compiled_convolution_op, _jit_compiled_convolution_op, _jit_compiled_convolution_op, _jit_compiled_convolution_op while saving (showing 5 of 120). These functions will not be directly callable after loading.\n"
          ]
        },
        {
          "name": "stdout",
          "output_type": "stream",
          "text": [
            "INFO:tensorflow:Assets written to: Corn_DenseNet_model2_Based_Non_Augmented\\assets\n"
          ]
        },
        {
          "name": "stderr",
          "output_type": "stream",
          "text": [
            "INFO:tensorflow:Assets written to: Corn_DenseNet_model2_Based_Non_Augmented\\assets\n"
          ]
        },
        {
          "name": "stdout",
          "output_type": "stream",
          "text": [
            "\n",
            "Epoch 16: ReduceLROnPlateau reducing learning rate to 1.0000000474974514e-05.\n",
            "384/384 [==============================] - 126s 329ms/step - loss: 0.0219 - accuracy: 0.9932 - val_loss: 0.0581 - val_accuracy: 0.9849 - lr: 1.0000e-04\n",
            "Epoch 17/100\n",
            "384/384 [==============================] - ETA: 0s - loss: 0.0168 - accuracy: 0.9943\n",
            "Epoch 17: val_accuracy improved from 0.98491 to 0.98598, saving model to Corn_DenseNet_model2_Based_Non_Augmented\n"
          ]
        },
        {
          "name": "stderr",
          "output_type": "stream",
          "text": [
            "WARNING:absl:Found untraced functions such as _jit_compiled_convolution_op, _jit_compiled_convolution_op, _jit_compiled_convolution_op, _jit_compiled_convolution_op, _jit_compiled_convolution_op while saving (showing 5 of 120). These functions will not be directly callable after loading.\n"
          ]
        },
        {
          "name": "stdout",
          "output_type": "stream",
          "text": [
            "INFO:tensorflow:Assets written to: Corn_DenseNet_model2_Based_Non_Augmented\\assets\n"
          ]
        },
        {
          "name": "stderr",
          "output_type": "stream",
          "text": [
            "INFO:tensorflow:Assets written to: Corn_DenseNet_model2_Based_Non_Augmented\\assets\n"
          ]
        },
        {
          "name": "stdout",
          "output_type": "stream",
          "text": [
            "384/384 [==============================] - 118s 307ms/step - loss: 0.0168 - accuracy: 0.9943 - val_loss: 0.0547 - val_accuracy: 0.9860 - lr: 1.0000e-05\n",
            "Epoch 18/100\n",
            "384/384 [==============================] - ETA: 0s - loss: 0.0161 - accuracy: 0.9949\n",
            "Epoch 18: val_accuracy improved from 0.98598 to 0.98760, saving model to Corn_DenseNet_model2_Based_Non_Augmented\n"
          ]
        },
        {
          "name": "stderr",
          "output_type": "stream",
          "text": [
            "WARNING:absl:Found untraced functions such as _jit_compiled_convolution_op, _jit_compiled_convolution_op, _jit_compiled_convolution_op, _jit_compiled_convolution_op, _jit_compiled_convolution_op while saving (showing 5 of 120). These functions will not be directly callable after loading.\n"
          ]
        },
        {
          "name": "stdout",
          "output_type": "stream",
          "text": [
            "INFO:tensorflow:Assets written to: Corn_DenseNet_model2_Based_Non_Augmented\\assets\n"
          ]
        },
        {
          "name": "stderr",
          "output_type": "stream",
          "text": [
            "INFO:tensorflow:Assets written to: Corn_DenseNet_model2_Based_Non_Augmented\\assets\n"
          ]
        },
        {
          "name": "stdout",
          "output_type": "stream",
          "text": [
            "384/384 [==============================] - 116s 301ms/step - loss: 0.0161 - accuracy: 0.9949 - val_loss: 0.0552 - val_accuracy: 0.9876 - lr: 1.0000e-05\n",
            "Epoch 19/100\n",
            "384/384 [==============================] - ETA: 0s - loss: 0.0189 - accuracy: 0.9940\n",
            "Epoch 19: val_accuracy did not improve from 0.98760\n",
            "384/384 [==============================] - 77s 199ms/step - loss: 0.0189 - accuracy: 0.9940 - val_loss: 0.0558 - val_accuracy: 0.9876 - lr: 1.0000e-05\n",
            "Epoch 20/100\n",
            "384/384 [==============================] - ETA: 0s - loss: 0.0143 - accuracy: 0.9944\n",
            "Epoch 20: val_accuracy did not improve from 0.98760\n",
            "384/384 [==============================] - 77s 201ms/step - loss: 0.0143 - accuracy: 0.9944 - val_loss: 0.0568 - val_accuracy: 0.9871 - lr: 1.0000e-05\n",
            "Epoch 21/100\n",
            "384/384 [==============================] - ETA: 0s - loss: 0.0134 - accuracy: 0.9953\n",
            "Epoch 21: val_accuracy did not improve from 0.98760\n",
            "\n",
            "Epoch 21: ReduceLROnPlateau reducing learning rate to 1.0000000656873453e-06.\n",
            "384/384 [==============================] - 78s 201ms/step - loss: 0.0134 - accuracy: 0.9953 - val_loss: 0.0572 - val_accuracy: 0.9876 - lr: 1.0000e-05\n",
            "Epoch 22/100\n",
            "384/384 [==============================] - ETA: 0s - loss: 0.0122 - accuracy: 0.9960\n",
            "Epoch 22: val_accuracy did not improve from 0.98760\n",
            "384/384 [==============================] - 79s 205ms/step - loss: 0.0122 - accuracy: 0.9960 - val_loss: 0.0568 - val_accuracy: 0.9871 - lr: 1.0000e-06\n",
            "Epoch 23/100\n",
            "384/384 [==============================] - ETA: 0s - loss: 0.0111 - accuracy: 0.9969\n",
            "Epoch 23: val_accuracy did not improve from 0.98760\n",
            "384/384 [==============================] - 79s 205ms/step - loss: 0.0111 - accuracy: 0.9969 - val_loss: 0.0572 - val_accuracy: 0.9871 - lr: 1.0000e-06\n",
            "Epoch 24/100\n",
            "384/384 [==============================] - ETA: 0s - loss: 0.0135 - accuracy: 0.9957\n",
            "Epoch 24: val_accuracy did not improve from 0.98760\n",
            "384/384 [==============================] - 78s 203ms/step - loss: 0.0135 - accuracy: 0.9957 - val_loss: 0.0574 - val_accuracy: 0.9871 - lr: 1.0000e-06\n",
            "Epoch 25/100\n",
            "384/384 [==============================] - ETA: 0s - loss: 0.0111 - accuracy: 0.9970\n",
            "Epoch 25: val_accuracy did not improve from 0.98760\n",
            "384/384 [==============================] - 79s 205ms/step - loss: 0.0111 - accuracy: 0.9970 - val_loss: 0.0576 - val_accuracy: 0.9871 - lr: 1.0000e-06\n",
            "Epoch 26/100\n",
            "384/384 [==============================] - ETA: 0s - loss: 0.0116 - accuracy: 0.9957\n",
            "Epoch 26: val_accuracy did not improve from 0.98760\n",
            "\n",
            "Epoch 26: ReduceLROnPlateau reducing learning rate to 1.0000001111620805e-07.\n",
            "384/384 [==============================] - 78s 203ms/step - loss: 0.0116 - accuracy: 0.9957 - val_loss: 0.0576 - val_accuracy: 0.9871 - lr: 1.0000e-06\n",
            "Epoch 27/100\n",
            "384/384 [==============================] - ETA: 0s - loss: 0.0149 - accuracy: 0.9949\n",
            "Epoch 27: val_accuracy did not improve from 0.98760\n",
            "384/384 [==============================] - 78s 203ms/step - loss: 0.0149 - accuracy: 0.9949 - val_loss: 0.0577 - val_accuracy: 0.9871 - lr: 1.0000e-07\n",
            "Epoch 28/100\n",
            "384/384 [==============================] - ETA: 0s - loss: 0.0115 - accuracy: 0.9950\n",
            "Epoch 28: val_accuracy did not improve from 0.98760\n",
            "384/384 [==============================] - 78s 202ms/step - loss: 0.0115 - accuracy: 0.9950 - val_loss: 0.0576 - val_accuracy: 0.9871 - lr: 1.0000e-07\n",
            "Epoch 29/100\n",
            "384/384 [==============================] - ETA: 0s - loss: 0.0123 - accuracy: 0.9956\n",
            "Epoch 29: val_accuracy did not improve from 0.98760\n",
            "384/384 [==============================] - 73s 190ms/step - loss: 0.0123 - accuracy: 0.9956 - val_loss: 0.0574 - val_accuracy: 0.9871 - lr: 1.0000e-07\n",
            "Epoch 30/100\n",
            "384/384 [==============================] - ETA: 0s - loss: 0.0105 - accuracy: 0.9973\n",
            "Epoch 30: val_accuracy did not improve from 0.98760\n",
            "384/384 [==============================] - 75s 195ms/step - loss: 0.0105 - accuracy: 0.9973 - val_loss: 0.0576 - val_accuracy: 0.9871 - lr: 1.0000e-07\n",
            "Epoch 31/100\n",
            "384/384 [==============================] - ETA: 0s - loss: 0.0134 - accuracy: 0.9958\n",
            "Epoch 31: val_accuracy did not improve from 0.98760\n",
            "\n",
            "Epoch 31: ReduceLROnPlateau reducing learning rate to 1.000000082740371e-08.\n",
            "384/384 [==============================] - 73s 191ms/step - loss: 0.0134 - accuracy: 0.9958 - val_loss: 0.0576 - val_accuracy: 0.9871 - lr: 1.0000e-07\n",
            "Epoch 32/100\n",
            "384/384 [==============================] - ETA: 0s - loss: 0.0153 - accuracy: 0.9944\n",
            "Epoch 32: val_accuracy did not improve from 0.98760\n",
            "384/384 [==============================] - 72s 188ms/step - loss: 0.0153 - accuracy: 0.9944 - val_loss: 0.0578 - val_accuracy: 0.9871 - lr: 1.0000e-08\n",
            "Epoch 33/100\n",
            "384/384 [==============================] - ETA: 0s - loss: 0.0137 - accuracy: 0.9958\n",
            "Epoch 33: val_accuracy did not improve from 0.98760\n",
            "384/384 [==============================] - 74s 192ms/step - loss: 0.0137 - accuracy: 0.9958 - val_loss: 0.0574 - val_accuracy: 0.9876 - lr: 1.0000e-08\n",
            "Epoch 34/100\n",
            "384/384 [==============================] - ETA: 0s - loss: 0.0123 - accuracy: 0.9962\n",
            "Epoch 34: val_accuracy did not improve from 0.98760\n",
            "384/384 [==============================] - 74s 192ms/step - loss: 0.0123 - accuracy: 0.9962 - val_loss: 0.0577 - val_accuracy: 0.9871 - lr: 1.0000e-08\n",
            "Epoch 35/100\n",
            "384/384 [==============================] - ETA: 0s - loss: 0.0128 - accuracy: 0.9960\n",
            "Epoch 35: val_accuracy did not improve from 0.98760\n",
            "384/384 [==============================] - 75s 194ms/step - loss: 0.0128 - accuracy: 0.9960 - val_loss: 0.0579 - val_accuracy: 0.9871 - lr: 1.0000e-08\n",
            "Epoch 36/100\n",
            "384/384 [==============================] - ETA: 0s - loss: 0.0120 - accuracy: 0.9960\n",
            "Epoch 36: val_accuracy did not improve from 0.98760\n",
            "\n",
            "Epoch 36: ReduceLROnPlateau reducing learning rate to 1.000000082740371e-09.\n",
            "384/384 [==============================] - 78s 204ms/step - loss: 0.0120 - accuracy: 0.9960 - val_loss: 0.0575 - val_accuracy: 0.9876 - lr: 1.0000e-08\n",
            "Epoch 37/100\n",
            "384/384 [==============================] - ETA: 0s - loss: 0.0148 - accuracy: 0.9958\n",
            "Epoch 37: val_accuracy did not improve from 0.98760\n",
            "384/384 [==============================] - 78s 204ms/step - loss: 0.0148 - accuracy: 0.9958 - val_loss: 0.0574 - val_accuracy: 0.9871 - lr: 1.0000e-09\n",
            "Epoch 38/100\n",
            "384/384 [==============================] - ETA: 0s - loss: 0.0136 - accuracy: 0.9957\n",
            "Epoch 38: val_accuracy did not improve from 0.98760\n",
            "Restoring model weights from the end of the best epoch: 18.\n",
            "384/384 [==============================] - 78s 204ms/step - loss: 0.0136 - accuracy: 0.9957 - val_loss: 0.0576 - val_accuracy: 0.9865 - lr: 1.0000e-09\n",
            "Epoch 38: early stopping\n"
          ]
        }
      ],
      "source": [
        "# Define the number of epochs\n",
        "num_epochs = 100\n",
        "\n",
        "# Train the model\n",
        "history_DenseNet_model_2 = DenseNet_model_2.fit(train_generator, epochs=num_epochs, validation_data=validation_generator, callbacks=callbacks)"
      ]
    },
    {
      "cell_type": "code",
      "execution_count": 16,
      "metadata": {
        "colab": {
          "base_uri": "https://localhost:8080/",
          "height": 904
        },
        "id": "3f1nmwUhU2TK",
        "outputId": "51ef43e8-17d6-4c36-f0de-a1b749831dce",
        "tags": []
      },
      "outputs": [
        {
          "data": {
            "text/plain": [
              "<matplotlib.legend.Legend at 0x294b100ab90>"
            ]
          },
          "execution_count": 16,
          "metadata": {},
          "output_type": "execute_result"
        },
        {
          "data": {
            "image/png": "[encoded data removed]",
            "text/plain": [
              "<Figure size 640x480 with 1 Axes>"
            ]
          },
          "metadata": {},
          "output_type": "display_data"
        },
        {
          "data": {
            "image/png": "[encoded data removed]",
            "text/plain": [
              "<Figure size 640x480 with 1 Axes>"
            ]
          },
          "metadata": {},
          "output_type": "display_data"
        }
      ],
      "source": [
        "#-----------------------------------------------------------\n",
        "# Retrieve a list of list results on training and test data\n",
        "# sets for each training epoch\n",
        "#-----------------------------------------------------------\n",
        "acc      = history_DenseNet_model_2.history['accuracy' ]\n",
        "val_acc  = history_DenseNet_model_2.history['val_accuracy' ]\n",
        "loss     = history_DenseNet_model_2.history['loss' ]\n",
        "val_loss = history_DenseNet_model_2.history['val_loss' ]\n",
        "\n",
        "epochs   = range(len(acc)) # Get number of epochs\n",
        "\n",
        "#------------------------------------------------\n",
        "# Plot training and validation accuracy per epoch\n",
        "#------------------------------------------------\n",
        "plt.plot  (epochs, acc )\n",
        "plt.plot  (epochs, val_acc )\n",
        "plt.title ('Training and validation accuracy DenseNet Model 2')\n",
        "plt.legend(['train', 'val'], loc='upper left')\n",
        "plt.figure()\n",
        "\n",
        "#------------------------------------------------\n",
        "# Plot training and validation loss per epoch\n",
        "#------------------------------------------------\n",
        "plt.plot  (epochs, loss)\n",
        "plt.plot  (epochs, val_loss)\n",
        "plt.title ('Training and validation loss DenseNet Model 2')\n",
        "plt.legend(['train', 'val'], loc='upper left')"
      ]
    }
  ],
  "metadata": {
    "accelerator": "GPU",
    "colab": {
      "gpuType": "T4",
      "provenance": []
    },
    "gpuClass": "standard",
    "kernelspec": {
      "display_name": "Python 3 (ipykernel)",
      "language": "python",
      "name": "python3"
    },
    "language_info": {
      "codemirror_mode": {
        "name": "ipython",
        "version": 3
      },
      "file_extension": ".py",
      "mimetype": "text/x-python",
      "name": "python",
      "nbconvert_exporter": "python",
      "pygments_lexer": "ipython3",
      "version": "3.10.0"
    }
  },
  "nbformat": 4,
  "nbformat_minor": 0
}
