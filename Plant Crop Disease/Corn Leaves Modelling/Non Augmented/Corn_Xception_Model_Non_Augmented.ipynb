{
  "cells": [
    {
      "attachments": {},
      "cell_type": "markdown",
      "metadata": {
        "id": "hO3kEcUPU2S3"
      },
      "source": [
        "# Library"
      ]
    },
    {
      "cell_type": "code",
      "execution_count": 1,
      "metadata": {
        "colab": {
          "base_uri": "https://localhost:8080/"
        },
        "id": "kczkUjsAU2S8",
        "outputId": "1deef3b8-ae81-4e61-c93a-b31697261c52",
        "tags": []
      },
      "outputs": [
        {
          "name": "stdout",
          "output_type": "stream",
          "text": [
            "Looking in indexes: https://pypi.org/simple, https://us-python.pkg.dev/colab-wheels/public/simple/\n",
            "Requirement already satisfied: matplotlib in /usr/local/lib/python3.10/dist-packages (3.7.1)\n",
            "Requirement already satisfied: contourpy>=1.0.1 in /usr/local/lib/python3.10/dist-packages (from matplotlib) (1.0.7)\n",
            "Requirement already satisfied: cycler>=0.10 in /usr/local/lib/python3.10/dist-packages (from matplotlib) (0.11.0)\n",
            "Requirement already satisfied: fonttools>=4.22.0 in /usr/local/lib/python3.10/dist-packages (from matplotlib) (4.39.3)\n",
            "Requirement already satisfied: kiwisolver>=1.0.1 in /usr/local/lib/python3.10/dist-packages (from matplotlib) (1.4.4)\n",
            "Requirement already satisfied: numpy>=1.20 in /usr/local/lib/python3.10/dist-packages (from matplotlib) (1.22.4)\n",
            "Requirement already satisfied: packaging>=20.0 in /usr/local/lib/python3.10/dist-packages (from matplotlib) (23.1)\n",
            "Requirement already satisfied: pillow>=6.2.0 in /usr/local/lib/python3.10/dist-packages (from matplotlib) (8.4.0)\n",
            "Requirement already satisfied: pyparsing>=2.3.1 in /usr/local/lib/python3.10/dist-packages (from matplotlib) (3.0.9)\n",
            "Requirement already satisfied: python-dateutil>=2.7 in /usr/local/lib/python3.10/dist-packages (from matplotlib) (2.8.2)\n",
            "Requirement already satisfied: six>=1.5 in /usr/local/lib/python3.10/dist-packages (from python-dateutil>=2.7->matplotlib) (1.16.0)\n"
          ]
        }
      ],
      "source": [
        "pip install matplotlib"
      ]
    },
    {
      "cell_type": "code",
      "execution_count": 2,
      "metadata": {
        "colab": {
          "base_uri": "https://localhost:8080/"
        },
        "id": "oEW3Nbu7U2S_",
        "outputId": "e124bf7c-fb8f-496a-9956-be7fbec878b3",
        "tags": []
      },
      "outputs": [
        {
          "name": "stdout",
          "output_type": "stream",
          "text": [
            "Looking in indexes: https://pypi.org/simple, https://us-python.pkg.dev/colab-wheels/public/simple/\n",
            "Collecting opendatasets\n",
            "  Downloading opendatasets-0.1.22-py3-none-any.whl (15 kB)\n",
            "Requirement already satisfied: tqdm in /usr/local/lib/python3.10/dist-packages (from opendatasets) (4.65.0)\n",
            "Requirement already satisfied: kaggle in /usr/local/lib/python3.10/dist-packages (from opendatasets) (1.5.13)\n",
            "Requirement already satisfied: click in /usr/local/lib/python3.10/dist-packages (from opendatasets) (8.1.3)\n",
            "Requirement already satisfied: six>=1.10 in /usr/local/lib/python3.10/dist-packages (from kaggle->opendatasets) (1.16.0)\n",
            "Requirement already satisfied: certifi in /usr/local/lib/python3.10/dist-packages (from kaggle->opendatasets) (2022.12.7)\n",
            "Requirement already satisfied: python-dateutil in /usr/local/lib/python3.10/dist-packages (from kaggle->opendatasets) (2.8.2)\n",
            "Requirement already satisfied: requests in /usr/local/lib/python3.10/dist-packages (from kaggle->opendatasets) (2.27.1)\n",
            "Requirement already satisfied: python-slugify in /usr/local/lib/python3.10/dist-packages (from kaggle->opendatasets) (8.0.1)\n",
            "Requirement already satisfied: urllib3 in /usr/local/lib/python3.10/dist-packages (from kaggle->opendatasets) (1.26.15)\n",
            "Requirement already satisfied: text-unidecode>=1.3 in /usr/local/lib/python3.10/dist-packages (from python-slugify->kaggle->opendatasets) (1.3)\n",
            "Requirement already satisfied: charset-normalizer~=2.0.0 in /usr/local/lib/python3.10/dist-packages (from requests->kaggle->opendatasets) (2.0.12)\n",
            "Requirement already satisfied: idna<4,>=2.5 in /usr/local/lib/python3.10/dist-packages (from requests->kaggle->opendatasets) (3.4)\n",
            "Installing collected packages: opendatasets\n",
            "Successfully installed opendatasets-0.1.22\n"
          ]
        }
      ],
      "source": [
        "pip install opendatasets"
      ]
    },
    {
      "cell_type": "code",
      "execution_count": 3,
      "metadata": {
        "id": "SIHHdOB4U2TA",
        "tags": []
      },
      "outputs": [],
      "source": [
        "# Library to dataset\n",
        "import opendatasets as od\n",
        "import os\n",
        "import zipfile\n",
        "import numpy as np\n",
        "\n",
        "# Surpress Warnings\n",
        "import warnings\n",
        "warnings.filterwarnings('ignore')\n",
        "os.environ['TF_CPP_MIN_LOG_LEVEL'] = '3' \n",
        "# library visualization\n",
        "import matplotlib.pyplot as plt\n",
        "\n",
        "# Library Tensorflow\n",
        "import tensorflow as tf\n",
        "from tensorflow import keras\n",
        "from tensorflow.keras.preprocessing.image import ImageDataGenerator\n",
        "from tensorflow.keras.callbacks import ModelCheckpoint, EarlyStopping, ReduceLROnPlateau\n",
        "from tensorflow.keras.applications.densenet import DenseNet121\n",
        "from tensorflow.keras.applications.xception import Xception\n",
        "\n",
        "# Others\n",
        "import shutil\n",
        "import random"
      ]
    },
    {
      "attachments": {},
      "cell_type": "markdown",
      "metadata": {
        "id": "Dy8YkYoaU2TB"
      },
      "source": [
        "# Load dataset"
      ]
    },
    {
      "cell_type": "code",
      "execution_count": 4,
      "metadata": {
        "colab": {
          "base_uri": "https://localhost:8080/"
        },
        "id": "TWOf7hZ1U2TC",
        "outputId": "e34cf784-4166-41fa-de4e-bd76260c0fca",
        "tags": []
      },
      "outputs": [
        {
          "name": "stdout",
          "output_type": "stream",
          "text": [
            "Please provide your Kaggle credentials to download this dataset. Learn more: http://bit.ly/kaggle-creds\n",
            "Your Kaggle username: ahmadhabibhasanzein\n",
            "Your Kaggle Key: ··········\n",
            "Downloading corn-leaves.zip to ./corn-leaves\n"
          ]
        },
        {
          "name": "stderr",
          "output_type": "stream",
          "text": [
            "100%|██████████| 244M/244M [00:06<00:00, 41.6MB/s]\n"
          ]
        },
        {
          "name": "stdout",
          "output_type": "stream",
          "text": [
            "\n"
          ]
        }
      ],
      "source": [
        "# Download dataset\n",
        "od.download('https://www.kaggle.com/datasets/ahmadhabibhasanzein/corn-leaves')"
      ]
    },
    {
      "cell_type": "code",
      "execution_count": 5,
      "metadata": {
        "colab": {
          "base_uri": "https://localhost:8080/"
        },
        "id": "8ZAjREJ0U2TC",
        "outputId": "1c6bf288-c640-49c9-9528-61ce297c6b1f",
        "tags": []
      },
      "outputs": [
        {
          "name": "stdout",
          "output_type": "stream",
          "text": [
            "==========================Training Data====================\n",
            "Found 7665 files belonging to 4 classes.\n",
            "==========================Validation Data====================\n",
            "Found 1855 files belonging to 4 classes.\n"
          ]
        }
      ],
      "source": [
        "# Load dataset\n",
        "print(\"==========================Training Data====================\")\n",
        "train_data = tf.keras.preprocessing.image_dataset_from_directory(\n",
        "    \"/content/corn-leaves/Corn/train\",\n",
        "    label_mode=\"categorical\",\n",
        "    class_names=['Corn Gray leaf spot','Corn healthy','Corn leaf blight','Corn rust leaf'],\n",
        "    color_mode=\"rgb\",\n",
        "    batch_size=1,\n",
        "    image_size=(256, 256),\n",
        "    shuffle=True,\n",
        "    seed=123\n",
        ")\n",
        "print(\"==========================Validation Data====================\")\n",
        "val_data = tf.keras.preprocessing.image_dataset_from_directory(\n",
        "    \"/content/corn-leaves/Corn/valid\",\n",
        "    label_mode=\"categorical\",\n",
        "    class_names=['Corn Gray leaf spot','Corn healthy','Corn leaf blight','Corn rust leaf'],\n",
        "    color_mode=\"rgb\",\n",
        "    batch_size=1,\n",
        "    image_size=(256, 256),\n",
        "    shuffle=True,\n",
        "    seed=123\n",
        ")"
      ]
    },
    {
      "cell_type": "code",
      "execution_count": 6,
      "metadata": {
        "colab": {
          "base_uri": "https://localhost:8080/"
        },
        "id": "vEPzd1egU2TD",
        "outputId": "177b4fd1-2013-49b7-bb51-4fd4466923e4",
        "tags": []
      },
      "outputs": [
        {
          "name": "stdout",
          "output_type": "stream",
          "text": [
            "Found 7665 images belonging to 4 classes.\n",
            "Found 1855 images belonging to 4 classes.\n"
          ]
        }
      ],
      "source": [
        "# All images will be rescaled by 1./255.\n",
        "train_datagen = ImageDataGenerator(rescale = 1.0/256.)\n",
        "test_datagen  = ImageDataGenerator(rescale = 1.0/256.)\n",
        "\n",
        "# --------------------\n",
        "# Flow training images in batches of 20 using train_datagen generator\n",
        "# --------------------\n",
        "train_generator = train_datagen.flow_from_directory(\"/content/corn-leaves/Corn/train\",\n",
        "                                                    batch_size=20,\n",
        "                                                    class_mode='categorical',\n",
        "                                                    target_size=(224, 224))     \n",
        "# --------------------\n",
        "# Flow validation images in batches of 20 using test_datagen generator\n",
        "# --------------------\n",
        "validation_generator =  test_datagen.flow_from_directory(\"/content/corn-leaves/Corn/valid\",\n",
        "                                                         batch_size=20,\n",
        "                                                         class_mode  = 'categorical',\n",
        "                                                         target_size = (224, 224))"
      ]
    },
    {
      "attachments": {},
      "cell_type": "markdown",
      "metadata": {
        "id": "_3jaO5YgU2TE"
      },
      "source": [
        "# List Resource"
      ]
    },
    {
      "cell_type": "code",
      "execution_count": null,
      "metadata": {
        "colab": {
          "base_uri": "https://localhost:8080/"
        },
        "id": "SGemCaxnU2TF",
        "outputId": "020724e8-fb4c-4c24-d34a-87da6b67b3dc",
        "tags": []
      },
      "outputs": [
        {
          "name": "stdout",
          "output_type": "stream",
          "text": [
            "Sat May 20 07:17:46 2023       \n",
            "+-----------------------------------------------------------------------------+\n",
            "| NVIDIA-SMI 525.85.12    Driver Version: 525.85.12    CUDA Version: 12.0     |\n",
            "|-------------------------------+----------------------+----------------------+\n",
            "| GPU  Name        Persistence-M| Bus-Id        Disp.A | Volatile Uncorr. ECC |\n",
            "| Fan  Temp  Perf  Pwr:Usage/Cap|         Memory-Usage | GPU-Util  Compute M. |\n",
            "|                               |                      |               MIG M. |\n",
            "|===============================+======================+======================|\n",
            "|   0  Tesla T4            Off  | 00000000:00:04.0 Off |                    0 |\n",
            "| N/A   42C    P0    26W /  70W |    375MiB / 15360MiB |      0%      Default |\n",
            "|                               |                      |                  N/A |\n",
            "+-------------------------------+----------------------+----------------------+\n",
            "                                                                               \n",
            "+-----------------------------------------------------------------------------+\n",
            "| Processes:                                                                  |\n",
            "|  GPU   GI   CI        PID   Type   Process name                  GPU Memory |\n",
            "|        ID   ID                                                   Usage      |\n",
            "|=============================================================================|\n",
            "+-----------------------------------------------------------------------------+\n"
          ]
        }
      ],
      "source": [
        "# Check GPU\n",
        "!nvidia-smi"
      ]
    },
    {
      "cell_type": "code",
      "execution_count": null,
      "metadata": {
        "colab": {
          "base_uri": "https://localhost:8080/"
        },
        "id": "FSapZ74PU2TF",
        "outputId": "b043a136-797d-4f99-d3c3-111ab7da1c08",
        "tags": []
      },
      "outputs": [
        {
          "data": {
            "text/plain": [
              "[PhysicalDevice(name='/physical_device:GPU:0', device_type='GPU')]"
            ]
          },
          "execution_count": 8,
          "metadata": {},
          "output_type": "execute_result"
        }
      ],
      "source": [
        "# Lis physical devices\n",
        "devices = tf.config.experimental.list_physical_devices(\"GPU\")\n",
        "devices"
      ]
    },
    {
      "cell_type": "code",
      "execution_count": null,
      "metadata": {
        "id": "A8WtBtBaU2TG",
        "tags": []
      },
      "outputs": [],
      "source": [
        "# Define the GPU strategy\n",
        "mirrored_strategy = tf.distribute.MirroredStrategy(devices=[\"/gpu:0\"])"
      ]
    },
    {
      "attachments": {},
      "cell_type": "markdown",
      "metadata": {
        "id": "Vqr_uGTNU2TG"
      },
      "source": [
        "# Modelling Without Augmentation"
      ]
    },
    {
      "attachments": {},
      "cell_type": "markdown",
      "metadata": {
        "id": "w4Wzh6ZyU2TH"
      },
      "source": [
        "## Xception Model 1"
      ]
    },
    {
      "cell_type": "code",
      "execution_count": 7,
      "metadata": {
        "id": "uUqYGBfRU2TH",
        "tags": []
      },
      "outputs": [],
      "source": [
        "# Difine the callbacks\n",
        "# Save the best model\n",
        "checkpoint_callback = ModelCheckpoint(filepath=\"Corn_Xception_model1_Based_Non_Augmented\", save_best_only=True, monitor=\"val_accuracy\", mode=\"max\", verbose=1)\n",
        "\n",
        "# Early stopping\n",
        "early_stopping_callback = EarlyStopping(monitor=\"val_accuracy\", mode=\"max\", patience=20, verbose=1, restore_best_weights=True)\n",
        "\n",
        "# Reduce learning rate\n",
        "reduce_lr_callback = ReduceLROnPlateau(monitor=\"val_loss\", factor=0.1, patience=5, verbose=1, mode=\"min\", min_delta=0.0001, cooldown=0, min_lr=0)\n",
        "\n",
        "# Callbacks list\n",
        "callbacks=[checkpoint_callback, early_stopping_callback, reduce_lr_callback]"
      ]
    },
    {
      "cell_type": "code",
      "execution_count": 8,
      "metadata": {
        "colab": {
          "base_uri": "https://localhost:8080/"
        },
        "id": "BQHFs3gSU2TI",
        "outputId": "827ef6ba-14f5-4672-9e89-44f580c9a1b1",
        "tags": []
      },
      "outputs": [
        {
          "name": "stdout",
          "output_type": "stream",
          "text": [
            "Downloading data from https://storage.googleapis.com/tensorflow/keras-applications/xception/xception_weights_tf_dim_ordering_tf_kernels_notop.h5\n",
            "83683744/83683744 [==============================] - 0s 0us/step\n",
            "Model: \"sequential\"\n",
            "_________________________________________________________________\n",
            " Layer (type)                Output Shape              Param #   \n",
            "=================================================================\n",
            " xception (Functional)       (None, 7, 7, 2048)        20861480  \n",
            "                                                                 \n",
            " global_max_pooling2d (Globa  (None, 2048)             0         \n",
            " lMaxPooling2D)                                                  \n",
            "                                                                 \n",
            " dropout (Dropout)           (None, 2048)              0         \n",
            "                                                                 \n",
            " dense (Dense)               (None, 256)               524544    \n",
            "                                                                 \n",
            " dense_1 (Dense)             (None, 4)                 1028      \n",
            "                                                                 \n",
            "=================================================================\n",
            "Total params: 21,387,052\n",
            "Trainable params: 21,332,524\n",
            "Non-trainable params: 54,528\n",
            "_________________________________________________________________\n"
          ]
        }
      ],
      "source": [
        "# Define DIY Model\n",
        "Xception_model = tf.keras.models.Sequential([\n",
        "    # Xception121 Layer\n",
        "    Xception(include_top=False,weights='imagenet',input_shape=(224, 224, 3)),\n",
        "    # Global Max Pooling Layer\n",
        "    tf.keras.layers.GlobalMaxPooling2D(),\n",
        "    # Drop Out Layer\n",
        "    tf.keras.layers.Dropout(0.2),\n",
        "    # 256 neuron hidden layer\n",
        "    tf.keras.layers.Dense(256, activation='relu'),\n",
        "    # Output\n",
        "    tf.keras.layers.Dense(4, activation='softmax') \n",
        "  ])\n",
        "\n",
        "\n",
        "# Compile Model\n",
        "Xception_model.compile(loss='categorical_crossentropy',optimizer=tf.keras.optimizers.Adam(), metrics=['accuracy']) \n",
        "\n",
        "# Model Summary\n",
        "Xception_model.summary()"
      ]
    },
    {
      "cell_type": "code",
      "execution_count": 9,
      "metadata": {
        "colab": {
          "base_uri": "https://localhost:8080/"
        },
        "id": "6coN3TKhU2TI",
        "outputId": "c8627e65-ab10-46ce-d2db-73e7ea1bb444",
        "tags": []
      },
      "outputs": [
        {
          "name": "stdout",
          "output_type": "stream",
          "text": [
            "Epoch 1/100\n",
            "384/384 [==============================] - ETA: 0s - loss: 0.3244 - accuracy: 0.8971\n",
            "Epoch 1: val_accuracy improved from -inf to 0.95687, saving model to Corn_Xception_model1_Based_Non_Augmented\n"
          ]
        },
        {
          "name": "stderr",
          "output_type": "stream",
          "text": [
            "WARNING:absl:Found untraced functions such as _jit_compiled_convolution_op, _jit_compiled_convolution_op, _jit_compiled_convolution_op, _jit_compiled_convolution_op, _jit_compiled_convolution_op while saving (showing 5 of 40). These functions will not be directly callable after loading.\n"
          ]
        },
        {
          "name": "stdout",
          "output_type": "stream",
          "text": [
            "\b\b\b\b\b\b\b\b\b\b\b\b\b\b\b\b\b\b\b\b\b\b\b\b\b\b\b\b\b\b\b\b\b\b\b\b\b\b\b\b\b\b\b\b\b\b\b\b\b\b\b\b\b\b\b\b\b\b\b\b\b\b\b\b\b\b\b\b\b\b\b\b\b\b\b\b\b\b\b\b\b\b\b\b\r384/384 [==============================] - 212s 417ms/step - loss: 0.3244 - accuracy: 0.8971 - val_loss: 0.1715 - val_accuracy: 0.9569 - lr: 0.0010\n",
            "Epoch 2/100\n",
            "384/384 [==============================] - ETA: 0s - loss: 0.1951 - accuracy: 0.9399\n",
            "Epoch 2: val_accuracy improved from 0.95687 to 0.97844, saving model to Corn_Xception_model1_Based_Non_Augmented\n"
          ]
        },
        {
          "name": "stderr",
          "output_type": "stream",
          "text": [
            "WARNING:absl:Found untraced functions such as _jit_compiled_convolution_op, _jit_compiled_convolution_op, _jit_compiled_convolution_op, _jit_compiled_convolution_op, _jit_compiled_convolution_op while saving (showing 5 of 40). These functions will not be directly callable after loading.\n"
          ]
        },
        {
          "name": "stdout",
          "output_type": "stream",
          "text": [
            "\b\b\b\b\b\b\b\b\b\b\b\b\b\b\b\b\b\b\b\b\b\b\b\b\b\b\b\b\b\b\b\b\b\b\b\b\b\b\b\b\b\b\b\b\b\b\b\b\b\b\b\b\b\b\b\b\b\b\b\b\b\b\b\b\b\b\b\b\b\b\b\b\b\b\b\b\b\b\b\b\b\b\b\b\r384/384 [==============================] - 161s 420ms/step - loss: 0.1951 - accuracy: 0.9399 - val_loss: 0.0707 - val_accuracy: 0.9784 - lr: 0.0010\n",
            "Epoch 3/100\n",
            "384/384 [==============================] - ETA: 0s - loss: 0.1509 - accuracy: 0.9495\n",
            "Epoch 3: val_accuracy did not improve from 0.97844\n",
            "384/384 [==============================] - 134s 349ms/step - loss: 0.1509 - accuracy: 0.9495 - val_loss: 0.1298 - val_accuracy: 0.9391 - lr: 0.0010\n",
            "Epoch 4/100\n",
            "384/384 [==============================] - ETA: 0s - loss: 0.1001 - accuracy: 0.9661\n",
            "Epoch 4: val_accuracy did not improve from 0.97844\n",
            "384/384 [==============================] - 133s 345ms/step - loss: 0.1001 - accuracy: 0.9661 - val_loss: 0.0866 - val_accuracy: 0.9698 - lr: 0.0010\n",
            "Epoch 5/100\n",
            "384/384 [==============================] - ETA: 0s - loss: 0.1312 - accuracy: 0.9601\n",
            "Epoch 5: val_accuracy did not improve from 0.97844\n",
            "384/384 [==============================] - 133s 346ms/step - loss: 0.1312 - accuracy: 0.9601 - val_loss: 0.1571 - val_accuracy: 0.9456 - lr: 0.0010\n",
            "Epoch 6/100\n",
            "384/384 [==============================] - ETA: 0s - loss: 0.1126 - accuracy: 0.9606\n",
            "Epoch 6: val_accuracy did not improve from 0.97844\n",
            "384/384 [==============================] - 132s 345ms/step - loss: 0.1126 - accuracy: 0.9606 - val_loss: 0.1067 - val_accuracy: 0.9660 - lr: 0.0010\n",
            "Epoch 7/100\n",
            "384/384 [==============================] - ETA: 0s - loss: 0.0781 - accuracy: 0.9750\n",
            "Epoch 7: val_accuracy did not improve from 0.97844\n",
            "\n",
            "Epoch 7: ReduceLROnPlateau reducing learning rate to 0.00010000000474974513.\n",
            "384/384 [==============================] - 135s 351ms/step - loss: 0.0781 - accuracy: 0.9750 - val_loss: 0.3231 - val_accuracy: 0.9008 - lr: 0.0010\n",
            "Epoch 8/100\n",
            "384/384 [==============================] - ETA: 0s - loss: 0.0370 - accuracy: 0.9879\n",
            "Epoch 8: val_accuracy improved from 0.97844 to 0.98005, saving model to Corn_Xception_model1_Based_Non_Augmented\n"
          ]
        },
        {
          "name": "stderr",
          "output_type": "stream",
          "text": [
            "WARNING:absl:Found untraced functions such as _jit_compiled_convolution_op, _jit_compiled_convolution_op, _jit_compiled_convolution_op, _jit_compiled_convolution_op, _jit_compiled_convolution_op while saving (showing 5 of 40). These functions will not be directly callable after loading.\n"
          ]
        },
        {
          "name": "stdout",
          "output_type": "stream",
          "text": [
            "\b\b\b\b\b\b\b\b\b\b\b\b\b\b\b\b\b\b\b\b\b\b\b\b\b\b\b\b\b\b\b\b\b\b\b\b\b\b\b\b\b\b\b\b\b\b\b\b\b\b\b\b\b\b\b\b\b\b\b\b\b\b\b\b\b\b\b\b\b\b\b\b\b\b\b\b\b\b\b\b\b\b\b\b\r384/384 [==============================] - 161s 420ms/step - loss: 0.0370 - accuracy: 0.9879 - val_loss: 0.0543 - val_accuracy: 0.9801 - lr: 1.0000e-04\n",
            "Epoch 9/100\n",
            "384/384 [==============================] - ETA: 0s - loss: 0.0185 - accuracy: 0.9947\n",
            "Epoch 9: val_accuracy improved from 0.98005 to 0.98167, saving model to Corn_Xception_model1_Based_Non_Augmented\n"
          ]
        },
        {
          "name": "stderr",
          "output_type": "stream",
          "text": [
            "WARNING:absl:Found untraced functions such as _jit_compiled_convolution_op, _jit_compiled_convolution_op, _jit_compiled_convolution_op, _jit_compiled_convolution_op, _jit_compiled_convolution_op while saving (showing 5 of 40). These functions will not be directly callable after loading.\n"
          ]
        },
        {
          "name": "stdout",
          "output_type": "stream",
          "text": [
            "\b\b\b\b\b\b\b\b\b\b\b\b\b\b\b\b\b\b\b\b\b\b\b\b\b\b\b\b\b\b\b\b\b\b\b\b\b\b\b\b\b\b\b\b\b\b\b\b\b\b\b\b\b\b\b\b\b\b\b\b\b\b\b\b\b\b\b\b\b\b\b\b\b\b\b\b\b\b\b\b\b\b\b\b\r384/384 [==============================] - 161s 419ms/step - loss: 0.0185 - accuracy: 0.9947 - val_loss: 0.0570 - val_accuracy: 0.9817 - lr: 1.0000e-04\n",
            "Epoch 10/100\n",
            "384/384 [==============================] - ETA: 0s - loss: 0.0117 - accuracy: 0.9967\n",
            "Epoch 10: val_accuracy improved from 0.98167 to 0.98275, saving model to Corn_Xception_model1_Based_Non_Augmented\n"
          ]
        },
        {
          "name": "stderr",
          "output_type": "stream",
          "text": [
            "WARNING:absl:Found untraced functions such as _jit_compiled_convolution_op, _jit_compiled_convolution_op, _jit_compiled_convolution_op, _jit_compiled_convolution_op, _jit_compiled_convolution_op while saving (showing 5 of 40). These functions will not be directly callable after loading.\n"
          ]
        },
        {
          "name": "stdout",
          "output_type": "stream",
          "text": [
            "\b\b\b\b\b\b\b\b\b\b\b\b\b\b\b\b\b\b\b\b\b\b\b\b\b\b\b\b\b\b\b\b\b\b\b\b\b\b\b\b\b\b\b\b\b\b\b\b\b\b\b\b\b\b\b\b\b\b\b\b\b\b\b\b\b\b\b\b\b\b\b\b\b\b\b\b\b\b\b\b\b\b\b\b\r384/384 [==============================] - 163s 424ms/step - loss: 0.0117 - accuracy: 0.9967 - val_loss: 0.0652 - val_accuracy: 0.9827 - lr: 1.0000e-04\n",
            "Epoch 11/100\n",
            "384/384 [==============================] - ETA: 0s - loss: 0.0070 - accuracy: 0.9983\n",
            "Epoch 11: val_accuracy did not improve from 0.98275\n",
            "384/384 [==============================] - 133s 347ms/step - loss: 0.0070 - accuracy: 0.9983 - val_loss: 0.0826 - val_accuracy: 0.9811 - lr: 1.0000e-04\n",
            "Epoch 12/100\n",
            "384/384 [==============================] - ETA: 0s - loss: 0.0143 - accuracy: 0.9967\n",
            "Epoch 12: val_accuracy did not improve from 0.98275\n",
            "384/384 [==============================] - 133s 345ms/step - loss: 0.0143 - accuracy: 0.9967 - val_loss: 0.0827 - val_accuracy: 0.9790 - lr: 1.0000e-04\n",
            "Epoch 13/100\n",
            "384/384 [==============================] - ETA: 0s - loss: 0.0058 - accuracy: 0.9983\n",
            "Epoch 13: val_accuracy did not improve from 0.98275\n",
            "\n",
            "Epoch 13: ReduceLROnPlateau reducing learning rate to 1.0000000474974514e-05.\n",
            "384/384 [==============================] - 135s 351ms/step - loss: 0.0058 - accuracy: 0.9983 - val_loss: 0.0871 - val_accuracy: 0.9801 - lr: 1.0000e-04\n",
            "Epoch 14/100\n",
            "384/384 [==============================] - ETA: 0s - loss: 0.0044 - accuracy: 0.9991\n",
            "Epoch 14: val_accuracy did not improve from 0.98275\n",
            "384/384 [==============================] - 133s 346ms/step - loss: 0.0044 - accuracy: 0.9991 - val_loss: 0.0875 - val_accuracy: 0.9811 - lr: 1.0000e-05\n",
            "Epoch 15/100\n",
            "384/384 [==============================] - ETA: 0s - loss: 0.0025 - accuracy: 0.9995\n",
            "Epoch 15: val_accuracy did not improve from 0.98275\n",
            "384/384 [==============================] - 133s 346ms/step - loss: 0.0025 - accuracy: 0.9995 - val_loss: 0.0894 - val_accuracy: 0.9817 - lr: 1.0000e-05\n",
            "Epoch 16/100\n",
            "384/384 [==============================] - ETA: 0s - loss: 0.0027 - accuracy: 0.9992\n",
            "Epoch 16: val_accuracy did not improve from 0.98275\n",
            "384/384 [==============================] - 132s 344ms/step - loss: 0.0027 - accuracy: 0.9992 - val_loss: 0.0893 - val_accuracy: 0.9811 - lr: 1.0000e-05\n",
            "Epoch 17/100\n",
            "384/384 [==============================] - ETA: 0s - loss: 0.0029 - accuracy: 0.9996\n",
            "Epoch 17: val_accuracy did not improve from 0.98275\n",
            "384/384 [==============================] - 135s 352ms/step - loss: 0.0029 - accuracy: 0.9996 - val_loss: 0.0892 - val_accuracy: 0.9811 - lr: 1.0000e-05\n",
            "Epoch 18/100\n",
            "384/384 [==============================] - ETA: 0s - loss: 0.0033 - accuracy: 0.9992\n",
            "Epoch 18: val_accuracy did not improve from 0.98275\n",
            "\n",
            "Epoch 18: ReduceLROnPlateau reducing learning rate to 1.0000000656873453e-06.\n",
            "384/384 [==============================] - 135s 350ms/step - loss: 0.0033 - accuracy: 0.9992 - val_loss: 0.0911 - val_accuracy: 0.9817 - lr: 1.0000e-05\n",
            "Epoch 19/100\n",
            "384/384 [==============================] - ETA: 0s - loss: 0.0015 - accuracy: 0.9996\n",
            "Epoch 19: val_accuracy did not improve from 0.98275\n",
            "384/384 [==============================] - 133s 347ms/step - loss: 0.0015 - accuracy: 0.9996 - val_loss: 0.0911 - val_accuracy: 0.9811 - lr: 1.0000e-06\n",
            "Epoch 20/100\n",
            "384/384 [==============================] - ETA: 0s - loss: 0.0035 - accuracy: 0.9996\n",
            "Epoch 20: val_accuracy did not improve from 0.98275\n",
            "384/384 [==============================] - 132s 345ms/step - loss: 0.0035 - accuracy: 0.9996 - val_loss: 0.0918 - val_accuracy: 0.9811 - lr: 1.0000e-06\n",
            "Epoch 21/100\n",
            "384/384 [==============================] - ETA: 0s - loss: 0.0036 - accuracy: 0.9990\n",
            "Epoch 21: val_accuracy did not improve from 0.98275\n",
            "384/384 [==============================] - 133s 346ms/step - loss: 0.0036 - accuracy: 0.9990 - val_loss: 0.0918 - val_accuracy: 0.9806 - lr: 1.0000e-06\n",
            "Epoch 22/100\n",
            "384/384 [==============================] - ETA: 0s - loss: 0.0040 - accuracy: 0.9993\n",
            "Epoch 22: val_accuracy did not improve from 0.98275\n",
            "384/384 [==============================] - 133s 347ms/step - loss: 0.0040 - accuracy: 0.9993 - val_loss: 0.0923 - val_accuracy: 0.9811 - lr: 1.0000e-06\n",
            "Epoch 23/100\n",
            "384/384 [==============================] - ETA: 0s - loss: 0.0023 - accuracy: 0.9993\n",
            "Epoch 23: val_accuracy did not improve from 0.98275\n",
            "\n",
            "Epoch 23: ReduceLROnPlateau reducing learning rate to 1.0000001111620805e-07.\n",
            "384/384 [==============================] - 133s 346ms/step - loss: 0.0023 - accuracy: 0.9993 - val_loss: 0.0927 - val_accuracy: 0.9806 - lr: 1.0000e-06\n",
            "Epoch 24/100\n",
            "384/384 [==============================] - ETA: 0s - loss: 0.0021 - accuracy: 0.9996\n",
            "Epoch 24: val_accuracy did not improve from 0.98275\n",
            "384/384 [==============================] - 133s 346ms/step - loss: 0.0021 - accuracy: 0.9996 - val_loss: 0.0922 - val_accuracy: 0.9817 - lr: 1.0000e-07\n",
            "Epoch 25/100\n",
            "384/384 [==============================] - ETA: 0s - loss: 0.0025 - accuracy: 0.9993\n",
            "Epoch 25: val_accuracy did not improve from 0.98275\n",
            "384/384 [==============================] - 133s 346ms/step - loss: 0.0025 - accuracy: 0.9993 - val_loss: 0.0924 - val_accuracy: 0.9817 - lr: 1.0000e-07\n",
            "Epoch 26/100\n",
            "384/384 [==============================] - ETA: 0s - loss: 0.0018 - accuracy: 0.9997\n",
            "Epoch 26: val_accuracy did not improve from 0.98275\n",
            "384/384 [==============================] - 135s 351ms/step - loss: 0.0018 - accuracy: 0.9997 - val_loss: 0.0930 - val_accuracy: 0.9806 - lr: 1.0000e-07\n",
            "Epoch 27/100\n",
            "384/384 [==============================] - ETA: 0s - loss: 0.0020 - accuracy: 0.9992\n",
            "Epoch 27: val_accuracy did not improve from 0.98275\n",
            "384/384 [==============================] - 133s 345ms/step - loss: 0.0020 - accuracy: 0.9992 - val_loss: 0.0928 - val_accuracy: 0.9801 - lr: 1.0000e-07\n",
            "Epoch 28/100\n",
            "384/384 [==============================] - ETA: 0s - loss: 0.0048 - accuracy: 0.9991\n",
            "Epoch 28: val_accuracy did not improve from 0.98275\n",
            "\n",
            "Epoch 28: ReduceLROnPlateau reducing learning rate to 1.000000082740371e-08.\n",
            "384/384 [==============================] - 133s 347ms/step - loss: 0.0048 - accuracy: 0.9991 - val_loss: 0.0923 - val_accuracy: 0.9811 - lr: 1.0000e-07\n",
            "Epoch 29/100\n",
            "384/384 [==============================] - ETA: 0s - loss: 0.0019 - accuracy: 0.9995\n",
            "Epoch 29: val_accuracy did not improve from 0.98275\n",
            "384/384 [==============================] - 133s 346ms/step - loss: 0.0019 - accuracy: 0.9995 - val_loss: 0.0924 - val_accuracy: 0.9817 - lr: 1.0000e-08\n",
            "Epoch 30/100\n",
            "384/384 [==============================] - ETA: 0s - loss: 0.0018 - accuracy: 0.9995\n",
            "Epoch 30: val_accuracy did not improve from 0.98275\n",
            "Restoring model weights from the end of the best epoch: 10.\n",
            "384/384 [==============================] - 133s 346ms/step - loss: 0.0018 - accuracy: 0.9995 - val_loss: 0.0926 - val_accuracy: 0.9817 - lr: 1.0000e-08\n",
            "Epoch 30: early stopping\n"
          ]
        }
      ],
      "source": [
        "# Define the number of epochs\n",
        "num_epochs = 100\n",
        "\n",
        "# Train the model\n",
        "history_Xception_model_1 = Xception_model.fit(train_generator, epochs=num_epochs, validation_data=validation_generator, callbacks=callbacks)"
      ]
    },
    {
      "cell_type": "code",
      "execution_count": 10,
      "metadata": {
        "colab": {
          "base_uri": "https://localhost:8080/",
          "height": 904
        },
        "id": "lvS9xz3LU2TI",
        "outputId": "82006e9e-cc48-4ba8-d467-fa68335be1e2",
        "tags": []
      },
      "outputs": [
        {
          "data": {
            "text/plain": [
              "Text(0.5, 1.0, 'Training and validation loss DIY Model')"
            ]
          },
          "execution_count": 10,
          "metadata": {},
          "output_type": "execute_result"
        },
        {
          "data": {
            "image/png": "[encoded data removed]",
            "text/plain": [
              "<Figure size 640x480 with 1 Axes>"
            ]
          },
          "metadata": {},
          "output_type": "display_data"
        },
        {
          "data": {
            "image/png": "[encoded data removed]",
            "text/plain": [
              "<Figure size 640x480 with 1 Axes>"
            ]
          },
          "metadata": {},
          "output_type": "display_data"
        }
      ],
      "source": [
        "#-----------------------------------------------------------\n",
        "# Retrieve a list of list results on training and test data\n",
        "# sets for each training epoch\n",
        "#-----------------------------------------------------------\n",
        "acc      = history_Xception_model_1.history['accuracy' ]\n",
        "val_acc  = history_Xception_model_1.history['val_accuracy' ]\n",
        "loss     = history_Xception_model_1.history['loss' ]\n",
        "val_loss = history_Xception_model_1.history['val_loss' ]\n",
        "\n",
        "epochs   = range(len(acc)) # Get number of epochs\n",
        "\n",
        "#------------------------------------------------\n",
        "# Plot training and validation accuracy per epoch\n",
        "#------------------------------------------------\n",
        "plt.plot  (epochs, acc )\n",
        "plt.plot  (epochs, val_acc )\n",
        "plt.title ('Training and validation accuracy DIY Model')\n",
        "plt.figure()\n",
        "\n",
        "#------------------------------------------------\n",
        "# Plot training and validation loss per epoch\n",
        "#------------------------------------------------\n",
        "plt.plot  (epochs, loss)\n",
        "plt.plot  (epochs, val_loss)\n",
        "plt.title ('Training and validation loss DIY Model')"
      ]
    },
    {
      "attachments": {},
      "cell_type": "markdown",
      "metadata": {
        "id": "SvQOR9IuU2TJ"
      },
      "source": [
        "## Xception Model 2"
      ]
    },
    {
      "cell_type": "code",
      "execution_count": 11,
      "metadata": {
        "id": "Tj7lcdvUU2TJ",
        "tags": []
      },
      "outputs": [],
      "source": [
        "# Difine the callbacks\n",
        "# Save the best model\n",
        "checkpoint_callback = ModelCheckpoint(filepath=\"Corn_Xception_model2_Based_Non_Augmented\", save_best_only=True, monitor=\"val_accuracy\", mode=\"max\", verbose=1)\n",
        "\n",
        "# Early stopping\n",
        "early_stopping_callback = EarlyStopping(monitor=\"val_accuracy\", mode=\"max\", patience=20, verbose=1, restore_best_weights=True)\n",
        "\n",
        "# Reduce learning rate\n",
        "reduce_lr_callback = ReduceLROnPlateau(monitor=\"val_loss\", factor=0.1, patience=5, verbose=1, mode=\"min\", min_delta=0.0001, cooldown=0, min_lr=0)\n",
        "\n",
        "# Callbacks list\n",
        "callbacks=[checkpoint_callback, early_stopping_callback, reduce_lr_callback]"
      ]
    },
    {
      "cell_type": "code",
      "execution_count": 12,
      "metadata": {
        "colab": {
          "base_uri": "https://localhost:8080/"
        },
        "id": "7NKPY1xGU2TJ",
        "outputId": "33e21089-b139-40da-9c65-6897626f2c85",
        "tags": []
      },
      "outputs": [
        {
          "name": "stdout",
          "output_type": "stream",
          "text": [
            "Model: \"sequential_1\"\n",
            "_________________________________________________________________\n",
            " Layer (type)                Output Shape              Param #   \n",
            "=================================================================\n",
            " xception (Functional)       (None, 7, 7, 2048)        20861480  \n",
            "                                                                 \n",
            " global_average_pooling2d (G  (None, 2048)             0         \n",
            " lobalAveragePooling2D)                                          \n",
            "                                                                 \n",
            " dropout_1 (Dropout)         (None, 2048)              0         \n",
            "                                                                 \n",
            " dense_2 (Dense)             (None, 256)               524544    \n",
            "                                                                 \n",
            " dense_3 (Dense)             (None, 4)                 1028      \n",
            "                                                                 \n",
            "=================================================================\n",
            "Total params: 21,387,052\n",
            "Trainable params: 21,332,524\n",
            "Non-trainable params: 54,528\n",
            "_________________________________________________________________\n"
          ]
        }
      ],
      "source": [
        "# Define DIY Model\n",
        "Xception_model_2 = tf.keras.models.Sequential([\n",
        "    # Xception121 Layer\n",
        "    Xception(include_top=False,weights='imagenet',input_shape=(224, 224, 3)),\n",
        "    # Global Average Pooling Layer\n",
        "    tf.keras.layers.GlobalAveragePooling2D(),\n",
        "    # Drop Out Layer\n",
        "    tf.keras.layers.Dropout(0.2),\n",
        "    # 256 neuron hidden layer\n",
        "    tf.keras.layers.Dense(256, activation='relu'),\n",
        "    # Output\n",
        "    tf.keras.layers.Dense(4, activation='softmax') \n",
        "  ])\n",
        "\n",
        "\n",
        "# Compile Model\n",
        "Xception_model_2.compile(loss='categorical_crossentropy',optimizer=tf.keras.optimizers.Adam(), metrics=['accuracy']) \n",
        "\n",
        "# Model Summary\n",
        "Xception_model_2.summary()"
      ]
    },
    {
      "cell_type": "code",
      "execution_count": 13,
      "metadata": {
        "colab": {
          "base_uri": "https://localhost:8080/"
        },
        "id": "6beuexC9U2TJ",
        "outputId": "76471469-de2f-4c27-d296-22576a264622",
        "tags": []
      },
      "outputs": [
        {
          "name": "stdout",
          "output_type": "stream",
          "text": [
            "Epoch 1/100\n",
            "384/384 [==============================] - ETA: 0s - loss: 0.2687 - accuracy: 0.9125\n",
            "Epoch 1: val_accuracy improved from -inf to 0.91482, saving model to Corn_Xception_model2_Based_Non_Augmented\n"
          ]
        },
        {
          "name": "stderr",
          "output_type": "stream",
          "text": [
            "WARNING:absl:Found untraced functions such as _jit_compiled_convolution_op, _jit_compiled_convolution_op, _jit_compiled_convolution_op, _jit_compiled_convolution_op, _jit_compiled_convolution_op while saving (showing 5 of 40). These functions will not be directly callable after loading.\n"
          ]
        },
        {
          "name": "stdout",
          "output_type": "stream",
          "text": [
            "\b\b\b\b\b\b\b\b\b\b\b\b\b\b\b\b\b\b\b\b\b\b\b\b\b\b\b\b\b\b\b\b\b\b\b\b\b\b\b\b\b\b\b\b\b\b\b\b\b\b\b\b\b\b\b\b\b\b\b\b\b\b\b\b\b\b\b\b\b\b\b\b\b\b\b\b\b\b\b\b\b\b\b\b\r384/384 [==============================] - 190s 423ms/step - loss: 0.2687 - accuracy: 0.9125 - val_loss: 0.4977 - val_accuracy: 0.9148 - lr: 0.0010\n",
            "Epoch 2/100\n",
            "384/384 [==============================] - ETA: 0s - loss: 0.1525 - accuracy: 0.9486\n",
            "Epoch 2: val_accuracy improved from 0.91482 to 0.94232, saving model to Corn_Xception_model2_Based_Non_Augmented\n"
          ]
        },
        {
          "name": "stderr",
          "output_type": "stream",
          "text": [
            "WARNING:absl:Found untraced functions such as _jit_compiled_convolution_op, _jit_compiled_convolution_op, _jit_compiled_convolution_op, _jit_compiled_convolution_op, _jit_compiled_convolution_op while saving (showing 5 of 40). These functions will not be directly callable after loading.\n"
          ]
        },
        {
          "name": "stdout",
          "output_type": "stream",
          "text": [
            "\b\b\b\b\b\b\b\b\b\b\b\b\b\b\b\b\b\b\b\b\b\b\b\b\b\b\b\b\b\b\b\b\b\b\b\b\b\b\b\b\b\b\b\b\b\b\b\b\b\b\b\b\b\b\b\b\b\b\b\b\b\b\b\b\b\b\b\b\b\b\b\b\b\b\b\b\b\b\b\b\b\b\b\b\r384/384 [==============================] - 162s 422ms/step - loss: 0.1525 - accuracy: 0.9486 - val_loss: 0.1889 - val_accuracy: 0.9423 - lr: 0.0010\n",
            "Epoch 3/100\n",
            "384/384 [==============================] - ETA: 0s - loss: 0.1485 - accuracy: 0.9538\n",
            "Epoch 3: val_accuracy improved from 0.94232 to 0.95795, saving model to Corn_Xception_model2_Based_Non_Augmented\n"
          ]
        },
        {
          "name": "stderr",
          "output_type": "stream",
          "text": [
            "WARNING:absl:Found untraced functions such as _jit_compiled_convolution_op, _jit_compiled_convolution_op, _jit_compiled_convolution_op, _jit_compiled_convolution_op, _jit_compiled_convolution_op while saving (showing 5 of 40). These functions will not be directly callable after loading.\n"
          ]
        },
        {
          "name": "stdout",
          "output_type": "stream",
          "text": [
            "\b\b\b\b\b\b\b\b\b\b\b\b\b\b\b\b\b\b\b\b\b\b\b\b\b\b\b\b\b\b\b\b\b\b\b\b\b\b\b\b\b\b\b\b\b\b\b\b\b\b\b\b\b\b\b\b\b\b\b\b\b\b\b\b\b\b\b\b\b\b\b\b\b\b\b\b\b\b\b\b\b\b\b\b\r384/384 [==============================] - 161s 418ms/step - loss: 0.1485 - accuracy: 0.9538 - val_loss: 0.0953 - val_accuracy: 0.9580 - lr: 0.0010\n",
            "Epoch 4/100\n",
            "384/384 [==============================] - ETA: 0s - loss: 0.0879 - accuracy: 0.9697\n",
            "Epoch 4: val_accuracy did not improve from 0.95795\n",
            "384/384 [==============================] - 133s 347ms/step - loss: 0.0879 - accuracy: 0.9697 - val_loss: 0.2020 - val_accuracy: 0.9310 - lr: 0.0010\n",
            "Epoch 5/100\n",
            "384/384 [==============================] - ETA: 0s - loss: 0.0994 - accuracy: 0.9689\n",
            "Epoch 5: val_accuracy improved from 0.95795 to 0.96712, saving model to Corn_Xception_model2_Based_Non_Augmented\n"
          ]
        },
        {
          "name": "stderr",
          "output_type": "stream",
          "text": [
            "WARNING:absl:Found untraced functions such as _jit_compiled_convolution_op, _jit_compiled_convolution_op, _jit_compiled_convolution_op, _jit_compiled_convolution_op, _jit_compiled_convolution_op while saving (showing 5 of 40). These functions will not be directly callable after loading.\n"
          ]
        },
        {
          "name": "stdout",
          "output_type": "stream",
          "text": [
            "\b\b\b\b\b\b\b\b\b\b\b\b\b\b\b\b\b\b\b\b\b\b\b\b\b\b\b\b\b\b\b\b\b\b\b\b\b\b\b\b\b\b\b\b\b\b\b\b\b\b\b\b\b\b\b\b\b\b\b\b\b\b\b\b\b\b\b\b\b\b\b\b\b\b\b\b\b\b\b\b\b\b\b\b\r384/384 [==============================] - 155s 404ms/step - loss: 0.0994 - accuracy: 0.9689 - val_loss: 0.0993 - val_accuracy: 0.9671 - lr: 0.0010\n",
            "Epoch 6/100\n",
            "384/384 [==============================] - ETA: 0s - loss: 0.1049 - accuracy: 0.9644\n",
            "Epoch 6: val_accuracy did not improve from 0.96712\n",
            "384/384 [==============================] - 133s 346ms/step - loss: 0.1049 - accuracy: 0.9644 - val_loss: 0.1369 - val_accuracy: 0.9558 - lr: 0.0010\n",
            "Epoch 7/100\n",
            "384/384 [==============================] - ETA: 0s - loss: 0.0730 - accuracy: 0.9751\n",
            "Epoch 7: val_accuracy improved from 0.96712 to 0.97143, saving model to Corn_Xception_model2_Based_Non_Augmented\n"
          ]
        },
        {
          "name": "stderr",
          "output_type": "stream",
          "text": [
            "WARNING:absl:Found untraced functions such as _jit_compiled_convolution_op, _jit_compiled_convolution_op, _jit_compiled_convolution_op, _jit_compiled_convolution_op, _jit_compiled_convolution_op while saving (showing 5 of 40). These functions will not be directly callable after loading.\n"
          ]
        },
        {
          "name": "stdout",
          "output_type": "stream",
          "text": [
            "\b\b\b\b\b\b\b\b\b\b\b\b\b\b\b\b\b\b\b\b\b\b\b\b\b\b\b\b\b\b\b\b\b\b\b\b\b\b\b\b\b\b\b\b\b\b\b\b\b\b\b\b\b\b\b\b\b\b\b\b\b\b\b\b\b\b\b\b\b\b\b\b\b\b\b\b\b\b\b\b\b\b\b\b\r384/384 [==============================] - 160s 416ms/step - loss: 0.0730 - accuracy: 0.9751 - val_loss: 0.0867 - val_accuracy: 0.9714 - lr: 0.0010\n",
            "Epoch 8/100\n",
            "384/384 [==============================] - ETA: 0s - loss: 0.0752 - accuracy: 0.9761\n",
            "Epoch 8: val_accuracy improved from 0.97143 to 0.98113, saving model to Corn_Xception_model2_Based_Non_Augmented\n"
          ]
        },
        {
          "name": "stderr",
          "output_type": "stream",
          "text": [
            "WARNING:absl:Found untraced functions such as _jit_compiled_convolution_op, _jit_compiled_convolution_op, _jit_compiled_convolution_op, _jit_compiled_convolution_op, _jit_compiled_convolution_op while saving (showing 5 of 40). These functions will not be directly callable after loading.\n"
          ]
        },
        {
          "name": "stdout",
          "output_type": "stream",
          "text": [
            "\b\b\b\b\b\b\b\b\b\b\b\b\b\b\b\b\b\b\b\b\b\b\b\b\b\b\b\b\b\b\b\b\b\b\b\b\b\b\b\b\b\b\b\b\b\b\b\b\b\b\b\b\b\b\b\b\b\b\b\b\b\b\b\b\b\b\b\b\b\b\b\b\b\b\b\b\b\b\b\b\b\b\b\b\r384/384 [==============================] - 157s 410ms/step - loss: 0.0752 - accuracy: 0.9761 - val_loss: 0.0575 - val_accuracy: 0.9811 - lr: 0.0010\n",
            "Epoch 9/100\n",
            "384/384 [==============================] - ETA: 0s - loss: 0.0453 - accuracy: 0.9845\n",
            "Epoch 9: val_accuracy did not improve from 0.98113\n",
            "384/384 [==============================] - 133s 346ms/step - loss: 0.0453 - accuracy: 0.9845 - val_loss: 0.0726 - val_accuracy: 0.9774 - lr: 0.0010\n",
            "Epoch 10/100\n",
            "384/384 [==============================] - ETA: 0s - loss: 0.0567 - accuracy: 0.9826\n",
            "Epoch 10: val_accuracy did not improve from 0.98113\n",
            "384/384 [==============================] - 132s 344ms/step - loss: 0.0567 - accuracy: 0.9826 - val_loss: 0.3691 - val_accuracy: 0.9137 - lr: 0.0010\n",
            "Epoch 11/100\n",
            "384/384 [==============================] - ETA: 0s - loss: 0.0543 - accuracy: 0.9821\n",
            "Epoch 11: val_accuracy did not improve from 0.98113\n",
            "384/384 [==============================] - 132s 343ms/step - loss: 0.0543 - accuracy: 0.9821 - val_loss: 0.1272 - val_accuracy: 0.9542 - lr: 0.0010\n",
            "Epoch 12/100\n",
            "384/384 [==============================] - ETA: 0s - loss: 0.0392 - accuracy: 0.9890\n",
            "Epoch 12: val_accuracy improved from 0.98113 to 0.98383, saving model to Corn_Xception_model2_Based_Non_Augmented\n"
          ]
        },
        {
          "name": "stderr",
          "output_type": "stream",
          "text": [
            "WARNING:absl:Found untraced functions such as _jit_compiled_convolution_op, _jit_compiled_convolution_op, _jit_compiled_convolution_op, _jit_compiled_convolution_op, _jit_compiled_convolution_op while saving (showing 5 of 40). These functions will not be directly callable after loading.\n"
          ]
        },
        {
          "name": "stdout",
          "output_type": "stream",
          "text": [
            "\b\b\b\b\b\b\b\b\b\b\b\b\b\b\b\b\b\b\b\b\b\b\b\b\b\b\b\b\b\b\b\b\b\b\b\b\b\b\b\b\b\b\b\b\b\b\b\b\b\b\b\b\b\b\b\b\b\b\b\b\b\b\b\b\b\b\b\b\b\b\b\b\b\b\b\b\b\b\b\b\b\b\b\b\r384/384 [==============================] - 161s 421ms/step - loss: 0.0392 - accuracy: 0.9890 - val_loss: 0.0597 - val_accuracy: 0.9838 - lr: 0.0010\n",
            "Epoch 13/100\n",
            "384/384 [==============================] - ETA: 0s - loss: 0.0574 - accuracy: 0.9826\n",
            "Epoch 13: val_accuracy did not improve from 0.98383\n",
            "\n",
            "Epoch 13: ReduceLROnPlateau reducing learning rate to 0.00010000000474974513.\n",
            "384/384 [==============================] - 132s 345ms/step - loss: 0.0574 - accuracy: 0.9826 - val_loss: 0.1253 - val_accuracy: 0.9660 - lr: 0.0010\n",
            "Epoch 14/100\n",
            "384/384 [==============================] - ETA: 0s - loss: 0.0148 - accuracy: 0.9956\n",
            "Epoch 14: val_accuracy did not improve from 0.98383\n",
            "384/384 [==============================] - 134s 349ms/step - loss: 0.0148 - accuracy: 0.9956 - val_loss: 0.0691 - val_accuracy: 0.9817 - lr: 1.0000e-04\n",
            "Epoch 15/100\n",
            "384/384 [==============================] - ETA: 0s - loss: 0.0069 - accuracy: 0.9980\n",
            "Epoch 15: val_accuracy did not improve from 0.98383\n",
            "384/384 [==============================] - 135s 350ms/step - loss: 0.0069 - accuracy: 0.9980 - val_loss: 0.0729 - val_accuracy: 0.9817 - lr: 1.0000e-04\n",
            "Epoch 16/100\n",
            "384/384 [==============================] - ETA: 0s - loss: 0.0064 - accuracy: 0.9978\n",
            "Epoch 16: val_accuracy did not improve from 0.98383\n",
            "384/384 [==============================] - 134s 348ms/step - loss: 0.0064 - accuracy: 0.9978 - val_loss: 0.0793 - val_accuracy: 0.9811 - lr: 1.0000e-04\n",
            "Epoch 17/100\n",
            "384/384 [==============================] - ETA: 0s - loss: 0.0047 - accuracy: 0.9991\n",
            "Epoch 17: val_accuracy did not improve from 0.98383\n",
            "384/384 [==============================] - 132s 343ms/step - loss: 0.0047 - accuracy: 0.9991 - val_loss: 0.0874 - val_accuracy: 0.9811 - lr: 1.0000e-04\n",
            "Epoch 18/100\n",
            "384/384 [==============================] - ETA: 0s - loss: 0.0037 - accuracy: 0.9996\n",
            "Epoch 18: val_accuracy did not improve from 0.98383\n",
            "\n",
            "Epoch 18: ReduceLROnPlateau reducing learning rate to 1.0000000474974514e-05.\n",
            "384/384 [==============================] - 133s 345ms/step - loss: 0.0037 - accuracy: 0.9996 - val_loss: 0.0927 - val_accuracy: 0.9822 - lr: 1.0000e-04\n",
            "Epoch 19/100\n",
            "384/384 [==============================] - ETA: 0s - loss: 0.0027 - accuracy: 0.9992\n",
            "Epoch 19: val_accuracy did not improve from 0.98383\n",
            "384/384 [==============================] - 132s 344ms/step - loss: 0.0027 - accuracy: 0.9992 - val_loss: 0.0923 - val_accuracy: 0.9827 - lr: 1.0000e-05\n",
            "Epoch 20/100\n",
            "384/384 [==============================] - ETA: 0s - loss: 0.0022 - accuracy: 0.9995\n",
            "Epoch 20: val_accuracy did not improve from 0.98383\n",
            "384/384 [==============================] - 132s 344ms/step - loss: 0.0022 - accuracy: 0.9995 - val_loss: 0.0922 - val_accuracy: 0.9822 - lr: 1.0000e-05\n",
            "Epoch 21/100\n",
            "384/384 [==============================] - ETA: 0s - loss: 0.0020 - accuracy: 0.9995\n",
            "Epoch 21: val_accuracy did not improve from 0.98383\n",
            "384/384 [==============================] - 134s 350ms/step - loss: 0.0020 - accuracy: 0.9995 - val_loss: 0.0936 - val_accuracy: 0.9822 - lr: 1.0000e-05\n",
            "Epoch 22/100\n",
            "384/384 [==============================] - ETA: 0s - loss: 0.0013 - accuracy: 0.9996\n",
            "Epoch 22: val_accuracy did not improve from 0.98383\n",
            "384/384 [==============================] - 132s 344ms/step - loss: 0.0013 - accuracy: 0.9996 - val_loss: 0.0927 - val_accuracy: 0.9833 - lr: 1.0000e-05\n",
            "Epoch 23/100\n",
            "384/384 [==============================] - ETA: 0s - loss: 0.0022 - accuracy: 0.9992\n",
            "Epoch 23: val_accuracy did not improve from 0.98383\n",
            "\n",
            "Epoch 23: ReduceLROnPlateau reducing learning rate to 1.0000000656873453e-06.\n",
            "384/384 [==============================] - 133s 345ms/step - loss: 0.0022 - accuracy: 0.9992 - val_loss: 0.0950 - val_accuracy: 0.9827 - lr: 1.0000e-05\n",
            "Epoch 24/100\n",
            "384/384 [==============================] - ETA: 0s - loss: 0.0022 - accuracy: 0.9996\n",
            "Epoch 24: val_accuracy did not improve from 0.98383\n",
            "384/384 [==============================] - 132s 343ms/step - loss: 0.0022 - accuracy: 0.9996 - val_loss: 0.0941 - val_accuracy: 0.9827 - lr: 1.0000e-06\n",
            "Epoch 25/100\n",
            "384/384 [==============================] - ETA: 0s - loss: 6.5296e-04 - accuracy: 1.0000\n",
            "Epoch 25: val_accuracy did not improve from 0.98383\n",
            "384/384 [==============================] - 133s 346ms/step - loss: 6.5296e-04 - accuracy: 1.0000 - val_loss: 0.0947 - val_accuracy: 0.9827 - lr: 1.0000e-06\n",
            "Epoch 26/100\n",
            "384/384 [==============================] - ETA: 0s - loss: 0.0018 - accuracy: 0.9997\n",
            "Epoch 26: val_accuracy did not improve from 0.98383\n",
            "384/384 [==============================] - 135s 351ms/step - loss: 0.0018 - accuracy: 0.9997 - val_loss: 0.0957 - val_accuracy: 0.9827 - lr: 1.0000e-06\n",
            "Epoch 27/100\n",
            "384/384 [==============================] - ETA: 0s - loss: 0.0011 - accuracy: 0.9999\n",
            "Epoch 27: val_accuracy did not improve from 0.98383\n",
            "384/384 [==============================] - 132s 345ms/step - loss: 0.0011 - accuracy: 0.9999 - val_loss: 0.0948 - val_accuracy: 0.9827 - lr: 1.0000e-06\n",
            "Epoch 28/100\n",
            "384/384 [==============================] - ETA: 0s - loss: 0.0017 - accuracy: 0.9996\n",
            "Epoch 28: val_accuracy did not improve from 0.98383\n",
            "\n",
            "Epoch 28: ReduceLROnPlateau reducing learning rate to 1.0000001111620805e-07.\n",
            "384/384 [==============================] - 132s 344ms/step - loss: 0.0017 - accuracy: 0.9996 - val_loss: 0.0946 - val_accuracy: 0.9827 - lr: 1.0000e-06\n",
            "Epoch 29/100\n",
            "384/384 [==============================] - ETA: 0s - loss: 0.0022 - accuracy: 0.9999\n",
            "Epoch 29: val_accuracy did not improve from 0.98383\n",
            "384/384 [==============================] - 133s 346ms/step - loss: 0.0022 - accuracy: 0.9999 - val_loss: 0.0947 - val_accuracy: 0.9827 - lr: 1.0000e-07\n",
            "Epoch 30/100\n",
            "384/384 [==============================] - ETA: 0s - loss: 8.4191e-04 - accuracy: 0.9999\n",
            "Epoch 30: val_accuracy did not improve from 0.98383\n",
            "384/384 [==============================] - 132s 344ms/step - loss: 8.4191e-04 - accuracy: 0.9999 - val_loss: 0.0954 - val_accuracy: 0.9827 - lr: 1.0000e-07\n",
            "Epoch 31/100\n",
            "384/384 [==============================] - ETA: 0s - loss: 0.0014 - accuracy: 0.9996\n",
            "Epoch 31: val_accuracy did not improve from 0.98383\n",
            "384/384 [==============================] - 132s 345ms/step - loss: 0.0014 - accuracy: 0.9996 - val_loss: 0.0958 - val_accuracy: 0.9827 - lr: 1.0000e-07\n",
            "Epoch 32/100\n",
            "384/384 [==============================] - ETA: 0s - loss: 0.0029 - accuracy: 0.9995\n",
            "Epoch 32: val_accuracy did not improve from 0.98383\n",
            "Restoring model weights from the end of the best epoch: 12.\n",
            "384/384 [==============================] - 135s 351ms/step - loss: 0.0029 - accuracy: 0.9995 - val_loss: 0.0953 - val_accuracy: 0.9827 - lr: 1.0000e-07\n",
            "Epoch 32: early stopping\n"
          ]
        }
      ],
      "source": [
        "# Define the number of epochs\n",
        "num_epochs = 100\n",
        "\n",
        "# Train the model\n",
        "history_Xception_model_2 = Xception_model_2.fit(train_generator, epochs=num_epochs, validation_data=validation_generator, callbacks=callbacks)"
      ]
    },
    {
      "cell_type": "code",
      "execution_count": 14,
      "metadata": {
        "colab": {
          "base_uri": "https://localhost:8080/",
          "height": 904
        },
        "id": "3f1nmwUhU2TK",
        "outputId": "eb1304fd-6c84-4475-8c50-ae3e0136c834",
        "tags": []
      },
      "outputs": [
        {
          "data": {
            "text/plain": [
              "Text(0.5, 1.0, 'Training and validation loss DIY Model')"
            ]
          },
          "execution_count": 14,
          "metadata": {},
          "output_type": "execute_result"
        },
        {
          "data": {
            "image/png": "[encoded data removed]",
            "text/plain": [
              "<Figure size 640x480 with 1 Axes>"
            ]
          },
          "metadata": {},
          "output_type": "display_data"
        },
        {
          "data": {
            "image/png": "[encoded data removed]",
            "text/plain": [
              "<Figure size 640x480 with 1 Axes>"
            ]
          },
          "metadata": {},
          "output_type": "display_data"
        }
      ],
      "source": [
        "#-----------------------------------------------------------\n",
        "# Retrieve a list of list results on training and test data\n",
        "# sets for each training epoch\n",
        "#-----------------------------------------------------------\n",
        "acc      = history_Xception_model_2.history['accuracy' ]\n",
        "val_acc  = history_Xception_model_2.history['val_accuracy' ]\n",
        "loss     = history_Xception_model_2.history['loss' ]\n",
        "val_loss = history_Xception_model_2.history['val_loss' ]\n",
        "\n",
        "epochs   = range(len(acc)) # Get number of epochs\n",
        "\n",
        "#------------------------------------------------\n",
        "# Plot training and validation accuracy per epoch\n",
        "#------------------------------------------------\n",
        "plt.plot  (epochs, acc )\n",
        "plt.plot  (epochs, val_acc )\n",
        "plt.title ('Training and validation accuracy DIY Model')\n",
        "plt.figure()\n",
        "\n",
        "#------------------------------------------------\n",
        "# Plot training and validation loss per epoch\n",
        "#------------------------------------------------\n",
        "plt.plot  (epochs, loss)\n",
        "plt.plot  (epochs, val_loss)\n",
        "plt.title ('Training and validation loss DIY Model')"
      ]
    },
    {
      "attachments": {},
      "cell_type": "markdown",
      "metadata": {
        "id": "7byegLImBHCg"
      },
      "source": [
        "# Download Model"
      ]
    },
    {
      "cell_type": "code",
      "execution_count": 16,
      "metadata": {
        "colab": {
          "base_uri": "https://localhost:8080/"
        },
        "id": "JSvl2GIcdqvm",
        "outputId": "4e5f6843-f06c-426e-eb93-b9e00f3b035d"
      },
      "outputs": [
        {
          "name": "stdout",
          "output_type": "stream",
          "text": [
            "  adding: content/Corn_Xception_model1_Based_Non_Augmented/ (stored 0%)\n",
            "  adding: content/Corn_Xception_model1_Based_Non_Augmented/saved_model.pb (deflated 92%)\n",
            "  adding: content/Corn_Xception_model1_Based_Non_Augmented/fingerprint.pb (stored 0%)\n",
            "  adding: content/Corn_Xception_model1_Based_Non_Augmented/assets/ (stored 0%)\n",
            "  adding: content/Corn_Xception_model1_Based_Non_Augmented/keras_metadata.pb (deflated 96%)\n",
            "  adding: content/Corn_Xception_model1_Based_Non_Augmented/variables/ (stored 0%)\n",
            "  adding: content/Corn_Xception_model1_Based_Non_Augmented/variables/variables.data-00000-of-00001 (deflated 8%)\n",
            "  adding: content/Corn_Xception_model1_Based_Non_Augmented/variables/variables.index (deflated 77%)\n"
          ]
        }
      ],
      "source": [
        "!zip -r /content/Corn_Xception_model1_Based_Non_Augmented.zip /content/Corn_Xception_model1_Based_Non_Augmented"
      ]
    },
    {
      "cell_type": "code",
      "execution_count": 17,
      "metadata": {
        "colab": {
          "base_uri": "https://localhost:8080/"
        },
        "id": "TACWikCugeoE",
        "outputId": "9c837fc9-d34a-41e9-c6db-408143d0c84c"
      },
      "outputs": [
        {
          "name": "stdout",
          "output_type": "stream",
          "text": [
            "  adding: content/Corn_Xception_model2_Based_Non_Augmented/ (stored 0%)\n",
            "  adding: content/Corn_Xception_model2_Based_Non_Augmented/saved_model.pb (deflated 92%)\n",
            "  adding: content/Corn_Xception_model2_Based_Non_Augmented/fingerprint.pb (stored 0%)\n",
            "  adding: content/Corn_Xception_model2_Based_Non_Augmented/assets/ (stored 0%)\n",
            "  adding: content/Corn_Xception_model2_Based_Non_Augmented/keras_metadata.pb (deflated 96%)\n",
            "  adding: content/Corn_Xception_model2_Based_Non_Augmented/variables/ (stored 0%)\n",
            "  adding: content/Corn_Xception_model2_Based_Non_Augmented/variables/variables.data-00000-of-00001 (deflated 7%)\n",
            "  adding: content/Corn_Xception_model2_Based_Non_Augmented/variables/variables.index (deflated 77%)\n"
          ]
        }
      ],
      "source": [
        "!zip -r /content/Corn_Xception_model2_Based_Non_Augmented.zip /content/Corn_Xception_model2_Based_Non_Augmented"
      ]
    },
    {
      "cell_type": "code",
      "execution_count": null,
      "metadata": {
        "id": "jJLyB0bcBHCg"
      },
      "outputs": [],
      "source": [
        "from google.colab import files\n",
        "\n",
        "# Specify the file path\n",
        "file_path_1 = '/content/Corn_Xception_model1_Based_Non_Augmented'  \n",
        "file_path_2 = '/content/Corn_Xception_model2_Based_Non_Augmented'  \n",
        "\n",
        "# Download the file\n",
        "files.download(file_path_1)\n",
        "files.download(file_path_2)"
      ]
    }
  ],
  "metadata": {
    "accelerator": "GPU",
    "colab": {
      "gpuType": "T4",
      "provenance": []
    },
    "gpuClass": "standard",
    "kernelspec": {
      "display_name": "Python 3 (ipykernel)",
      "language": "python",
      "name": "python3"
    },
    "language_info": {
      "codemirror_mode": {
        "name": "ipython",
        "version": 3
      },
      "file_extension": ".py",
      "mimetype": "text/x-python",
      "name": "python",
      "nbconvert_exporter": "python",
      "pygments_lexer": "ipython3",
      "version": "3.8.10"
    }
  },
  "nbformat": 4,
  "nbformat_minor": 0
}
