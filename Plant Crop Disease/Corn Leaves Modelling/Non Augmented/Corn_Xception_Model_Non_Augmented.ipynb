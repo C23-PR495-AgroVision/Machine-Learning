{
 "cells": [
  {
   "cell_type": "markdown",
   "metadata": {
    "id": "hO3kEcUPU2S3"
   },
   "source": [
    "# Library"
   ]
  },
  {
   "cell_type": "code",
   "execution_count": 1,
   "metadata": {
    "colab": {
     "base_uri": "https://localhost:8080/"
    },
    "executionInfo": {
     "elapsed": 9885,
     "status": "ok",
     "timestamp": 1684906338238,
     "user": {
      "displayName": "Ahmad Habib Hasan Zein",
      "userId": "05837826794256545230"
     },
     "user_tz": -420
    },
    "id": "kczkUjsAU2S8",
    "outputId": "1deef3b8-ae81-4e61-c93a-b31697261c52",
    "tags": []
   },
   "outputs": [
    {
     "name": "stdout",
     "output_type": "stream",
     "text": [
      "Requirement already satisfied: matplotlib in /usr/local/lib/python3.8/dist-packages (3.7.1)\n",
      "Requirement already satisfied: kiwisolver>=1.0.1 in /usr/local/lib/python3.8/dist-packages (from matplotlib) (1.4.4)\n",
      "Requirement already satisfied: pillow>=6.2.0 in /usr/local/lib/python3.8/dist-packages (from matplotlib) (9.5.0)\n",
      "Requirement already satisfied: importlib-resources>=3.2.0 in /usr/local/lib/python3.8/dist-packages (from matplotlib) (5.12.0)\n",
      "Requirement already satisfied: pyparsing>=2.3.1 in /usr/local/lib/python3.8/dist-packages (from matplotlib) (3.0.9)\n",
      "Requirement already satisfied: python-dateutil>=2.7 in /usr/local/lib/python3.8/dist-packages (from matplotlib) (2.8.2)\n",
      "Requirement already satisfied: fonttools>=4.22.0 in /usr/local/lib/python3.8/dist-packages (from matplotlib) (4.39.4)\n",
      "Requirement already satisfied: numpy>=1.20 in /usr/local/lib/python3.8/dist-packages (from matplotlib) (1.23.5)\n",
      "Requirement already satisfied: cycler>=0.10 in /usr/local/lib/python3.8/dist-packages (from matplotlib) (0.11.0)\n",
      "Requirement already satisfied: contourpy>=1.0.1 in /usr/local/lib/python3.8/dist-packages (from matplotlib) (1.0.7)\n",
      "Requirement already satisfied: packaging>=20.0 in /usr/local/lib/python3.8/dist-packages (from matplotlib) (23.0)\n",
      "Requirement already satisfied: zipp>=3.1.0 in /usr/local/lib/python3.8/dist-packages (from importlib-resources>=3.2.0->matplotlib) (3.15.0)\n",
      "Requirement already satisfied: six>=1.5 in /usr/lib/python3/dist-packages (from python-dateutil>=2.7->matplotlib) (1.14.0)\n",
      "\u001b[33mWARNING: Running pip as the 'root' user can result in broken permissions and conflicting behaviour with the system package manager. It is recommended to use a virtual environment instead: https://pip.pypa.io/warnings/venv\u001b[0m\u001b[33m\n",
      "\u001b[0m\n",
      "\u001b[1m[\u001b[0m\u001b[34;49mnotice\u001b[0m\u001b[1;39;49m]\u001b[0m\u001b[39;49m A new release of pip is available: \u001b[0m\u001b[31;49m23.0.1\u001b[0m\u001b[39;49m -> \u001b[0m\u001b[32;49m23.1.2\u001b[0m\n",
      "\u001b[1m[\u001b[0m\u001b[34;49mnotice\u001b[0m\u001b[1;39;49m]\u001b[0m\u001b[39;49m To update, run: \u001b[0m\u001b[32;49mpython3 -m pip install --upgrade pip\u001b[0m\n",
      "Note: you may need to restart the kernel to use updated packages.\n"
     ]
    }
   ],
   "source": [
    "pip install matplotlib"
   ]
  },
  {
   "cell_type": "code",
   "execution_count": 2,
   "metadata": {
    "colab": {
     "base_uri": "https://localhost:8080/"
    },
    "executionInfo": {
     "elapsed": 5122,
     "status": "ok",
     "timestamp": 1684906343358,
     "user": {
      "displayName": "Ahmad Habib Hasan Zein",
      "userId": "05837826794256545230"
     },
     "user_tz": -420
    },
    "id": "oEW3Nbu7U2S_",
    "outputId": "e124bf7c-fb8f-496a-9956-be7fbec878b3",
    "tags": []
   },
   "outputs": [
    {
     "name": "stdout",
     "output_type": "stream",
     "text": [
      "Requirement already satisfied: opendatasets in /usr/local/lib/python3.8/dist-packages (0.1.22)\n",
      "Requirement already satisfied: click in /usr/local/lib/python3.8/dist-packages (from opendatasets) (8.1.3)\n",
      "Requirement already satisfied: tqdm in /usr/local/lib/python3.8/dist-packages (from opendatasets) (4.65.0)\n",
      "Requirement already satisfied: kaggle in /usr/local/lib/python3.8/dist-packages (from opendatasets) (1.5.13)\n",
      "Requirement already satisfied: urllib3 in /usr/lib/python3/dist-packages (from kaggle->opendatasets) (1.25.8)\n",
      "Requirement already satisfied: python-dateutil in /usr/local/lib/python3.8/dist-packages (from kaggle->opendatasets) (2.8.2)\n",
      "Requirement already satisfied: certifi in /usr/lib/python3/dist-packages (from kaggle->opendatasets) (2019.11.28)\n",
      "Requirement already satisfied: requests in /usr/local/lib/python3.8/dist-packages (from kaggle->opendatasets) (2.31.0)\n",
      "Requirement already satisfied: python-slugify in /usr/local/lib/python3.8/dist-packages (from kaggle->opendatasets) (8.0.1)\n",
      "Requirement already satisfied: six>=1.10 in /usr/lib/python3/dist-packages (from kaggle->opendatasets) (1.14.0)\n",
      "Requirement already satisfied: text-unidecode>=1.3 in /usr/local/lib/python3.8/dist-packages (from python-slugify->kaggle->opendatasets) (1.3)\n",
      "Requirement already satisfied: idna<4,>=2.5 in /usr/lib/python3/dist-packages (from requests->kaggle->opendatasets) (2.8)\n",
      "Requirement already satisfied: charset-normalizer<4,>=2 in /usr/local/lib/python3.8/dist-packages (from requests->kaggle->opendatasets) (3.1.0)\n",
      "\u001b[33mWARNING: Running pip as the 'root' user can result in broken permissions and conflicting behaviour with the system package manager. It is recommended to use a virtual environment instead: https://pip.pypa.io/warnings/venv\u001b[0m\u001b[33m\n",
      "\u001b[0m\n",
      "\u001b[1m[\u001b[0m\u001b[34;49mnotice\u001b[0m\u001b[1;39;49m]\u001b[0m\u001b[39;49m A new release of pip is available: \u001b[0m\u001b[31;49m23.0.1\u001b[0m\u001b[39;49m -> \u001b[0m\u001b[32;49m23.1.2\u001b[0m\n",
      "\u001b[1m[\u001b[0m\u001b[34;49mnotice\u001b[0m\u001b[1;39;49m]\u001b[0m\u001b[39;49m To update, run: \u001b[0m\u001b[32;49mpython3 -m pip install --upgrade pip\u001b[0m\n",
      "Note: you may need to restart the kernel to use updated packages.\n"
     ]
    }
   ],
   "source": [
    "pip install opendatasets"
   ]
  },
  {
   "cell_type": "code",
   "execution_count": 3,
   "metadata": {
    "executionInfo": {
     "elapsed": 3476,
     "status": "ok",
     "timestamp": 1684906346832,
     "user": {
      "displayName": "Ahmad Habib Hasan Zein",
      "userId": "05837826794256545230"
     },
     "user_tz": -420
    },
    "id": "SIHHdOB4U2TA",
    "tags": []
   },
   "outputs": [],
   "source": [
    "# Library to dataset\n",
    "import opendatasets as od\n",
    "import os\n",
    "import zipfile\n",
    "import numpy as np\n",
    "\n",
    "# Surpress Warnings\n",
    "import warnings\n",
    "warnings.filterwarnings('ignore')\n",
    "os.environ['TF_CPP_MIN_LOG_LEVEL'] = '3' \n",
    "# library visualization\n",
    "import matplotlib.pyplot as plt\n",
    "\n",
    "# Library Tensorflow\n",
    "import tensorflow as tf\n",
    "from tensorflow import keras\n",
    "from tensorflow.keras.preprocessing.image import ImageDataGenerator\n",
    "from tensorflow.keras.callbacks import ModelCheckpoint, EarlyStopping, ReduceLROnPlateau\n",
    "from tensorflow.keras.applications.densenet import DenseNet121\n",
    "from tensorflow.keras.applications.xception import Xception\n",
    "\n",
    "# Others\n",
    "import shutil\n",
    "import random"
   ]
  },
  {
   "cell_type": "markdown",
   "metadata": {
    "id": "Dy8YkYoaU2TB"
   },
   "source": [
    "# Load dataset"
   ]
  },
  {
   "cell_type": "code",
   "execution_count": 4,
   "metadata": {
    "colab": {
     "base_uri": "https://localhost:8080/"
    },
    "executionInfo": {
     "elapsed": 23584,
     "status": "ok",
     "timestamp": 1684906370414,
     "user": {
      "displayName": "Ahmad Habib Hasan Zein",
      "userId": "05837826794256545230"
     },
     "user_tz": -420
    },
    "id": "TWOf7hZ1U2TC",
    "outputId": "e34cf784-4166-41fa-de4e-bd76260c0fca",
    "tags": []
   },
   "outputs": [
    {
     "name": "stdout",
     "output_type": "stream",
     "text": [
      "Please provide your Kaggle credentials to download this dataset. Learn more: http://bit.ly/kaggle-creds\n",
      "Your Kaggle username:"
     ]
    },
    {
     "name": "stdin",
     "output_type": "stream",
     "text": [
      "  ahmadhabibhasanzein\n"
     ]
    },
    {
     "name": "stdout",
     "output_type": "stream",
     "text": [
      "Your Kaggle Key:"
     ]
    },
    {
     "name": "stdin",
     "output_type": "stream",
     "text": [
      "  ········\n"
     ]
    },
    {
     "name": "stdout",
     "output_type": "stream",
     "text": [
      "Downloading corn-leaves.zip to ./corn-leaves\n"
     ]
    },
    {
     "name": "stderr",
     "output_type": "stream",
     "text": [
      "100%|██████████| 244M/244M [00:09<00:00, 25.7MB/s] \n"
     ]
    },
    {
     "name": "stdout",
     "output_type": "stream",
     "text": [
      "\n"
     ]
    }
   ],
   "source": [
    "# Download dataset\n",
    "od.download('https://www.kaggle.com/datasets/ahmadhabibhasanzein/corn-leaves')"
   ]
  },
  {
   "cell_type": "code",
   "execution_count": 5,
   "metadata": {
    "colab": {
     "base_uri": "https://localhost:8080/"
    },
    "executionInfo": {
     "elapsed": 3833,
     "status": "ok",
     "timestamp": 1684906374244,
     "user": {
      "displayName": "Ahmad Habib Hasan Zein",
      "userId": "05837826794256545230"
     },
     "user_tz": -420
    },
    "id": "8ZAjREJ0U2TC",
    "outputId": "1c6bf288-c640-49c9-9528-61ce297c6b1f",
    "tags": []
   },
   "outputs": [
    {
     "name": "stdout",
     "output_type": "stream",
     "text": [
      "==========================Training Data====================\n",
      "Found 7665 files belonging to 4 classes.\n",
      "==========================Validation Data====================\n",
      "Found 1855 files belonging to 4 classes.\n"
     ]
    }
   ],
   "source": [
    "# Load dataset\n",
    "print(\"==========================Training Data====================\")\n",
    "train_data = tf.keras.preprocessing.image_dataset_from_directory(\n",
    "    \"corn-leaves/Corn/train\",\n",
    "    label_mode=\"categorical\",\n",
    "    class_names=['Corn Gray leaf spot','Corn healthy','Corn leaf blight','Corn rust leaf'],\n",
    "    color_mode=\"rgb\",\n",
    "    batch_size=1,\n",
    "    image_size=(256, 256), \n",
    "    shuffle=True,\n",
    "    seed=123\n",
    ")\n",
    "print(\"==========================Validation Data====================\")\n",
    "val_data = tf.keras.preprocessing.image_dataset_from_directory(\n",
    "    \"corn-leaves/Corn/valid\",\n",
    "    label_mode=\"categorical\",\n",
    "    class_names=['Corn Gray leaf spot','Corn healthy','Corn leaf blight','Corn rust leaf'],\n",
    "    color_mode=\"rgb\",\n",
    "    batch_size=1,\n",
    "    image_size=(256, 256),\n",
    "    shuffle=True,\n",
    "    seed=123\n",
    ")"
   ]
  },
  {
   "cell_type": "code",
   "execution_count": 6,
   "metadata": {
    "colab": {
     "base_uri": "https://localhost:8080/"
    },
    "executionInfo": {
     "elapsed": 679,
     "status": "ok",
     "timestamp": 1684906374921,
     "user": {
      "displayName": "Ahmad Habib Hasan Zein",
      "userId": "05837826794256545230"
     },
     "user_tz": -420
    },
    "id": "vEPzd1egU2TD",
    "outputId": "177b4fd1-2013-49b7-bb51-4fd4466923e4",
    "tags": []
   },
   "outputs": [
    {
     "name": "stdout",
     "output_type": "stream",
     "text": [
      "Found 7665 images belonging to 4 classes.\n",
      "Found 1855 images belonging to 4 classes.\n"
     ]
    }
   ],
   "source": [
    "# All images will be rescaled by 1./255.\n",
    "train_datagen = ImageDataGenerator(rescale = 1.0/256.)\n",
    "test_datagen  = ImageDataGenerator(rescale = 1.0/256.)\n",
    "\n",
    "# --------------------\n",
    "# Flow training images in batches of 20 using train_datagen generator\n",
    "# --------------------\n",
    "train_generator = train_datagen.flow_from_directory(\"corn-leaves/Corn/train\",\n",
    "                                                    batch_size=20,\n",
    "                                                    class_mode='categorical',\n",
    "                                                    target_size=(224, 224))     \n",
    "# --------------------\n",
    "# Flow validation images in batches of 20 using test_datagen generator\n",
    "# --------------------\n",
    "validation_generator =  test_datagen.flow_from_directory(\"corn-leaves/Corn/valid\",\n",
    "                                                         batch_size=20,\n",
    "                                                         class_mode  = 'categorical',\n",
    "                                                         target_size = (224, 224))"
   ]
  },
  {
   "cell_type": "markdown",
   "metadata": {
    "id": "_3jaO5YgU2TE"
   },
   "source": [
    "# List Resource"
   ]
  },
  {
   "cell_type": "code",
   "execution_count": 7,
   "metadata": {
    "colab": {
     "base_uri": "https://localhost:8080/"
    },
    "executionInfo": {
     "elapsed": 4,
     "status": "ok",
     "timestamp": 1684567064266,
     "user": {
      "displayName": "Ahmad Habib Hasan Zein",
      "userId": "05837826794256545230"
     },
     "user_tz": -420
    },
    "id": "SGemCaxnU2TF",
    "outputId": "020724e8-fb4c-4c24-d34a-87da6b67b3dc",
    "tags": []
   },
   "outputs": [
    {
     "name": "stdout",
     "output_type": "stream",
     "text": [
      "Tue May 30 04:28:07 2023       \n",
      "+-----------------------------------------------------------------------------+\n",
      "| NVIDIA-SMI 525.116.03   Driver Version: 525.116.03   CUDA Version: 12.0     |\n",
      "|-------------------------------+----------------------+----------------------+\n",
      "| GPU  Name        Persistence-M| Bus-Id        Disp.A | Volatile Uncorr. ECC |\n",
      "| Fan  Temp  Perf  Pwr:Usage/Cap|         Memory-Usage | GPU-Util  Compute M. |\n",
      "|                               |                      |               MIG M. |\n",
      "|===============================+======================+======================|\n",
      "|   0  NVIDIA GeForce ...  On   | 00000000:09:00.0 Off |                  N/A |\n",
      "| 88%   38C    P2   124W / 350W |  22724MiB / 24576MiB |      0%      Default |\n",
      "|                               |                      |                  N/A |\n",
      "+-------------------------------+----------------------+----------------------+\n",
      "                                                                               \n",
      "+-----------------------------------------------------------------------------+\n",
      "| Processes:                                                                  |\n",
      "|  GPU   GI   CI        PID   Type   Process name                  GPU Memory |\n",
      "|        ID   ID                                                   Usage      |\n",
      "|=============================================================================|\n",
      "+-----------------------------------------------------------------------------+\n"
     ]
    }
   ],
   "source": [
    "# Check GPU\n",
    "!nvidia-smi"
   ]
  },
  {
   "cell_type": "code",
   "execution_count": 8,
   "metadata": {
    "colab": {
     "base_uri": "https://localhost:8080/"
    },
    "executionInfo": {
     "elapsed": 2,
     "status": "ok",
     "timestamp": 1684567065568,
     "user": {
      "displayName": "Ahmad Habib Hasan Zein",
      "userId": "05837826794256545230"
     },
     "user_tz": -420
    },
    "id": "FSapZ74PU2TF",
    "outputId": "b043a136-797d-4f99-d3c3-111ab7da1c08",
    "tags": []
   },
   "outputs": [
    {
     "data": {
      "text/plain": [
       "[PhysicalDevice(name='/physical_device:GPU:0', device_type='GPU')]"
      ]
     },
     "execution_count": 8,
     "metadata": {},
     "output_type": "execute_result"
    }
   ],
   "source": [
    "# Lis physical devices\n",
    "devices = tf.config.experimental.list_physical_devices(\"GPU\")\n",
    "devices"
   ]
  },
  {
   "cell_type": "code",
   "execution_count": 9,
   "metadata": {
    "id": "A8WtBtBaU2TG",
    "tags": []
   },
   "outputs": [
    {
     "name": "stdout",
     "output_type": "stream",
     "text": [
      "INFO:tensorflow:Using MirroredStrategy with devices ('/job:localhost/replica:0/task:0/device:GPU:0',)\n"
     ]
    }
   ],
   "source": [
    "# Define the GPU strategy\n",
    "mirrored_strategy = tf.distribute.MirroredStrategy(devices=[\"/gpu:0\"])"
   ]
  },
  {
   "cell_type": "markdown",
   "metadata": {
    "id": "Vqr_uGTNU2TG"
   },
   "source": [
    "# Modelling Without Augmentation"
   ]
  },
  {
   "cell_type": "markdown",
   "metadata": {
    "id": "w4Wzh6ZyU2TH"
   },
   "source": [
    "## Xception Model 1"
   ]
  },
  {
   "cell_type": "code",
   "execution_count": 10,
   "metadata": {
    "executionInfo": {
     "elapsed": 2,
     "status": "ok",
     "timestamp": 1684906393776,
     "user": {
      "displayName": "Ahmad Habib Hasan Zein",
      "userId": "05837826794256545230"
     },
     "user_tz": -420
    },
    "id": "uUqYGBfRU2TH",
    "tags": []
   },
   "outputs": [],
   "source": [
    "# Difine the callbacks\n",
    "# Save the best model\n",
    "checkpoint_callback = ModelCheckpoint(filepath=\"Corn_Xception_model1_Based_Non_Augmented.h5\", save_best_only=True, monitor=\"val_accuracy\", mode=\"max\", verbose=1)\n",
    "\n",
    "# Early stopping\n",
    "early_stopping_callback = EarlyStopping(monitor=\"val_accuracy\", mode=\"max\", patience=20, verbose=1, restore_best_weights=True)\n",
    "\n",
    "# Reduce learning rate\n",
    "reduce_lr_callback = ReduceLROnPlateau(monitor=\"val_loss\", factor=0.1, patience=5, verbose=1, mode=\"min\", min_delta=0.0001, cooldown=0, min_lr=0)\n",
    "\n",
    "# Callbacks list\n",
    "callbacks=[checkpoint_callback, early_stopping_callback, reduce_lr_callback]"
   ]
  },
  {
   "cell_type": "code",
   "execution_count": 11,
   "metadata": {
    "colab": {
     "base_uri": "https://localhost:8080/"
    },
    "executionInfo": {
     "elapsed": 2568,
     "status": "ok",
     "timestamp": 1684906396847,
     "user": {
      "displayName": "Ahmad Habib Hasan Zein",
      "userId": "05837826794256545230"
     },
     "user_tz": -420
    },
    "id": "BQHFs3gSU2TI",
    "outputId": "827ef6ba-14f5-4672-9e89-44f580c9a1b1",
    "tags": []
   },
   "outputs": [
    {
     "name": "stdout",
     "output_type": "stream",
     "text": [
      "Model: \"sequential\"\n",
      "_________________________________________________________________\n",
      " Layer (type)                Output Shape              Param #   \n",
      "=================================================================\n",
      " xception (Functional)       (None, 7, 7, 2048)        20861480  \n",
      "                                                                 \n",
      " global_max_pooling2d (Globa  (None, 2048)             0         \n",
      " lMaxPooling2D)                                                  \n",
      "                                                                 \n",
      " dropout (Dropout)           (None, 2048)              0         \n",
      "                                                                 \n",
      " dense (Dense)               (None, 256)               524544    \n",
      "                                                                 \n",
      " dense_1 (Dense)             (None, 4)                 1028      \n",
      "                                                                 \n",
      "=================================================================\n",
      "Total params: 21,387,052\n",
      "Trainable params: 21,332,524\n",
      "Non-trainable params: 54,528\n",
      "_________________________________________________________________\n"
     ]
    }
   ],
   "source": [
    "# Define DIY Model\n",
    "Xception_model = tf.keras.models.Sequential([\n",
    "    # Xception121 Layer\n",
    "    Xception(include_top=False,weights='imagenet',input_shape=(224, 224, 3)),\n",
    "    # Global Max Pooling Layer\n",
    "    tf.keras.layers.GlobalMaxPooling2D(),\n",
    "    # Drop Out Layer\n",
    "    tf.keras.layers.Dropout(0.2),\n",
    "    # 256 neuron hidden layer\n",
    "    tf.keras.layers.Dense(256, activation='relu'),\n",
    "    # Output\n",
    "    tf.keras.layers.Dense(4, activation='softmax') \n",
    "  ])\n",
    "\n",
    "\n",
    "# Compile Model\n",
    "Xception_model.compile(loss='categorical_crossentropy',optimizer=tf.keras.optimizers.Adam(), metrics=['accuracy']) \n",
    "\n",
    "# Model Summary\n",
    "Xception_model.summary()"
   ]
  },
  {
   "cell_type": "code",
   "execution_count": 12,
   "metadata": {
    "colab": {
     "base_uri": "https://localhost:8080/"
    },
    "executionInfo": {
     "elapsed": 4234163,
     "status": "ok",
     "timestamp": 1684910631007,
     "user": {
      "displayName": "Ahmad Habib Hasan Zein",
      "userId": "05837826794256545230"
     },
     "user_tz": -420
    },
    "id": "6coN3TKhU2TI",
    "outputId": "c8627e65-ab10-46ce-d2db-73e7ea1bb444",
    "tags": []
   },
   "outputs": [
    {
     "name": "stdout",
     "output_type": "stream",
     "text": [
      "Epoch 1/100\n",
      "384/384 [==============================] - ETA: 0s - loss: 0.4714 - accuracy: 0.8217\n",
      "Epoch 1: val_accuracy improved from -inf to 0.95903, saving model to Corn_Xception_model1_Based_Non_Augmented.h5\n",
      "384/384 [==============================] - 61s 83ms/step - loss: 0.4714 - accuracy: 0.8217 - val_loss: 0.1360 - val_accuracy: 0.9590 - lr: 0.0010\n",
      "Epoch 2/100\n",
      "384/384 [==============================] - ETA: 0s - loss: 0.1709 - accuracy: 0.9506\n",
      "Epoch 2: val_accuracy did not improve from 0.95903\n",
      "384/384 [==============================] - 29s 76ms/step - loss: 0.1709 - accuracy: 0.9506 - val_loss: 0.2328 - val_accuracy: 0.9434 - lr: 0.0010\n",
      "Epoch 3/100\n",
      "384/384 [==============================] - ETA: 0s - loss: 0.1408 - accuracy: 0.9547\n",
      "Epoch 3: val_accuracy did not improve from 0.95903\n",
      "384/384 [==============================] - 29s 76ms/step - loss: 0.1408 - accuracy: 0.9547 - val_loss: 12.7021 - val_accuracy: 0.3838 - lr: 0.0010\n",
      "Epoch 4/100\n",
      "384/384 [==============================] - ETA: 0s - loss: 0.1501 - accuracy: 0.9476\n",
      "Epoch 4: val_accuracy improved from 0.95903 to 0.96550, saving model to Corn_Xception_model1_Based_Non_Augmented.h5\n",
      "384/384 [==============================] - 30s 77ms/step - loss: 0.1501 - accuracy: 0.9476 - val_loss: 0.0867 - val_accuracy: 0.9655 - lr: 0.0010\n",
      "Epoch 5/100\n",
      "384/384 [==============================] - ETA: 0s - loss: 0.1508 - accuracy: 0.9517\n",
      "Epoch 5: val_accuracy did not improve from 0.96550\n",
      "384/384 [==============================] - 29s 76ms/step - loss: 0.1508 - accuracy: 0.9517 - val_loss: 0.1389 - val_accuracy: 0.9569 - lr: 0.0010\n",
      "Epoch 6/100\n",
      "384/384 [==============================] - ETA: 0s - loss: 0.1209 - accuracy: 0.9636\n",
      "Epoch 6: val_accuracy improved from 0.96550 to 0.97628, saving model to Corn_Xception_model1_Based_Non_Augmented.h5\n",
      "384/384 [==============================] - 30s 77ms/step - loss: 0.1209 - accuracy: 0.9636 - val_loss: 0.0896 - val_accuracy: 0.9763 - lr: 0.0010\n",
      "Epoch 7/100\n",
      "384/384 [==============================] - ETA: 0s - loss: 0.0958 - accuracy: 0.9692\n",
      "Epoch 7: val_accuracy did not improve from 0.97628\n",
      "384/384 [==============================] - 29s 76ms/step - loss: 0.0958 - accuracy: 0.9692 - val_loss: 0.1202 - val_accuracy: 0.9617 - lr: 0.0010\n",
      "Epoch 8/100\n",
      "384/384 [==============================] - ETA: 0s - loss: 0.0795 - accuracy: 0.9756\n",
      "Epoch 8: val_accuracy did not improve from 0.97628\n",
      "384/384 [==============================] - 29s 76ms/step - loss: 0.0795 - accuracy: 0.9756 - val_loss: 0.9612 - val_accuracy: 0.9186 - lr: 0.0010\n",
      "Epoch 9/100\n",
      "384/384 [==============================] - ETA: 0s - loss: 0.0821 - accuracy: 0.9718\n",
      "Epoch 9: val_accuracy did not improve from 0.97628\n",
      "384/384 [==============================] - 29s 76ms/step - loss: 0.0821 - accuracy: 0.9718 - val_loss: 0.0768 - val_accuracy: 0.9687 - lr: 0.0010\n",
      "Epoch 10/100\n",
      "384/384 [==============================] - ETA: 0s - loss: 0.0785 - accuracy: 0.9766\n",
      "Epoch 10: val_accuracy did not improve from 0.97628\n",
      "384/384 [==============================] - 29s 75ms/step - loss: 0.0785 - accuracy: 0.9766 - val_loss: 0.1827 - val_accuracy: 0.9509 - lr: 0.0010\n",
      "Epoch 11/100\n",
      "384/384 [==============================] - ETA: 0s - loss: 0.0771 - accuracy: 0.9798\n",
      "Epoch 11: val_accuracy did not improve from 0.97628\n",
      "384/384 [==============================] - 29s 76ms/step - loss: 0.0771 - accuracy: 0.9798 - val_loss: 0.1872 - val_accuracy: 0.9488 - lr: 0.0010\n",
      "Epoch 12/100\n",
      "384/384 [==============================] - ETA: 0s - loss: 0.0680 - accuracy: 0.9768\n",
      "Epoch 12: val_accuracy did not improve from 0.97628\n",
      "384/384 [==============================] - 29s 76ms/step - loss: 0.0680 - accuracy: 0.9768 - val_loss: 0.0801 - val_accuracy: 0.9757 - lr: 0.0010\n",
      "Epoch 13/100\n",
      "384/384 [==============================] - ETA: 0s - loss: 0.0714 - accuracy: 0.9795\n",
      "Epoch 13: val_accuracy improved from 0.97628 to 0.97682, saving model to Corn_Xception_model1_Based_Non_Augmented.h5\n",
      "384/384 [==============================] - 30s 77ms/step - loss: 0.0714 - accuracy: 0.9795 - val_loss: 0.0757 - val_accuracy: 0.9768 - lr: 0.0010\n",
      "Epoch 14/100\n",
      "384/384 [==============================] - ETA: 0s - loss: 0.0341 - accuracy: 0.9885\n",
      "Epoch 14: val_accuracy improved from 0.97682 to 0.98167, saving model to Corn_Xception_model1_Based_Non_Augmented.h5\n",
      "384/384 [==============================] - 30s 77ms/step - loss: 0.0341 - accuracy: 0.9885 - val_loss: 0.0676 - val_accuracy: 0.9817 - lr: 0.0010\n",
      "Epoch 15/100\n",
      "384/384 [==============================] - ETA: 0s - loss: 0.0486 - accuracy: 0.9859\n",
      "Epoch 15: val_accuracy did not improve from 0.98167\n",
      "384/384 [==============================] - 29s 76ms/step - loss: 0.0486 - accuracy: 0.9859 - val_loss: 0.0978 - val_accuracy: 0.9779 - lr: 0.0010\n",
      "Epoch 16/100\n",
      "384/384 [==============================] - ETA: 0s - loss: 0.0428 - accuracy: 0.9870\n",
      "Epoch 16: val_accuracy did not improve from 0.98167\n",
      "384/384 [==============================] - 29s 76ms/step - loss: 0.0428 - accuracy: 0.9870 - val_loss: 0.0887 - val_accuracy: 0.9806 - lr: 0.0010\n",
      "Epoch 17/100\n",
      "384/384 [==============================] - ETA: 0s - loss: 0.0700 - accuracy: 0.9810\n",
      "Epoch 17: val_accuracy did not improve from 0.98167\n",
      "384/384 [==============================] - 29s 76ms/step - loss: 0.0700 - accuracy: 0.9810 - val_loss: 0.0639 - val_accuracy: 0.9795 - lr: 0.0010\n",
      "Epoch 18/100\n",
      "384/384 [==============================] - ETA: 0s - loss: 0.0571 - accuracy: 0.9858\n",
      "Epoch 18: val_accuracy did not improve from 0.98167\n",
      "384/384 [==============================] - 29s 76ms/step - loss: 0.0571 - accuracy: 0.9858 - val_loss: 0.0933 - val_accuracy: 0.9747 - lr: 0.0010\n",
      "Epoch 19/100\n",
      "384/384 [==============================] - ETA: 0s - loss: 0.0319 - accuracy: 0.9913\n",
      "Epoch 19: val_accuracy did not improve from 0.98167\n",
      "384/384 [==============================] - 29s 76ms/step - loss: 0.0319 - accuracy: 0.9913 - val_loss: 0.3164 - val_accuracy: 0.9477 - lr: 0.0010\n",
      "Epoch 20/100\n",
      "384/384 [==============================] - ETA: 0s - loss: 0.0195 - accuracy: 0.9932\n",
      "Epoch 20: val_accuracy did not improve from 0.98167\n",
      "384/384 [==============================] - 29s 76ms/step - loss: 0.0195 - accuracy: 0.9932 - val_loss: 0.4182 - val_accuracy: 0.9267 - lr: 0.0010\n",
      "Epoch 21/100\n",
      "384/384 [==============================] - ETA: 0s - loss: 0.0162 - accuracy: 0.9948\n",
      "Epoch 21: val_accuracy did not improve from 0.98167\n",
      "384/384 [==============================] - 29s 76ms/step - loss: 0.0162 - accuracy: 0.9948 - val_loss: 0.1194 - val_accuracy: 0.9741 - lr: 0.0010\n",
      "Epoch 22/100\n",
      "384/384 [==============================] - ETA: 0s - loss: 0.0216 - accuracy: 0.9937\n",
      "Epoch 22: val_accuracy did not improve from 0.98167\n",
      "\n",
      "Epoch 22: ReduceLROnPlateau reducing learning rate to 0.00010000000474974513.\n",
      "384/384 [==============================] - 29s 76ms/step - loss: 0.0216 - accuracy: 0.9937 - val_loss: 1.1869 - val_accuracy: 0.7202 - lr: 0.0010\n",
      "Epoch 23/100\n",
      "384/384 [==============================] - ETA: 0s - loss: 0.0231 - accuracy: 0.9918\n",
      "Epoch 23: val_accuracy did not improve from 0.98167\n",
      "384/384 [==============================] - 29s 76ms/step - loss: 0.0231 - accuracy: 0.9918 - val_loss: 0.0895 - val_accuracy: 0.9795 - lr: 1.0000e-04\n",
      "Epoch 24/100\n",
      "384/384 [==============================] - ETA: 0s - loss: 0.0108 - accuracy: 0.9971\n",
      "Epoch 24: val_accuracy did not improve from 0.98167\n",
      "384/384 [==============================] - 29s 76ms/step - loss: 0.0108 - accuracy: 0.9971 - val_loss: 0.0941 - val_accuracy: 0.9784 - lr: 1.0000e-04\n",
      "Epoch 25/100\n",
      "384/384 [==============================] - ETA: 0s - loss: 0.0072 - accuracy: 0.9980\n",
      "Epoch 25: val_accuracy did not improve from 0.98167\n",
      "384/384 [==============================] - 29s 76ms/step - loss: 0.0072 - accuracy: 0.9980 - val_loss: 0.1082 - val_accuracy: 0.9806 - lr: 1.0000e-04\n",
      "Epoch 26/100\n",
      "384/384 [==============================] - ETA: 0s - loss: 0.0024 - accuracy: 0.9995\n",
      "Epoch 26: val_accuracy improved from 0.98167 to 0.98437, saving model to Corn_Xception_model1_Based_Non_Augmented.h5\n",
      "384/384 [==============================] - 30s 77ms/step - loss: 0.0024 - accuracy: 0.9995 - val_loss: 0.1161 - val_accuracy: 0.9844 - lr: 1.0000e-04\n",
      "Epoch 27/100\n",
      "384/384 [==============================] - ETA: 0s - loss: 0.0067 - accuracy: 0.9984\n",
      "Epoch 27: val_accuracy did not improve from 0.98437\n",
      "\n",
      "Epoch 27: ReduceLROnPlateau reducing learning rate to 1.0000000474974514e-05.\n",
      "384/384 [==============================] - 29s 76ms/step - loss: 0.0067 - accuracy: 0.9984 - val_loss: 0.1202 - val_accuracy: 0.9806 - lr: 1.0000e-04\n",
      "Epoch 28/100\n",
      "384/384 [==============================] - ETA: 0s - loss: 0.0015 - accuracy: 0.9996\n",
      "Epoch 28: val_accuracy did not improve from 0.98437\n",
      "384/384 [==============================] - 29s 76ms/step - loss: 0.0015 - accuracy: 0.9996 - val_loss: 0.1216 - val_accuracy: 0.9811 - lr: 1.0000e-05\n",
      "Epoch 29/100\n",
      "384/384 [==============================] - ETA: 0s - loss: 0.0055 - accuracy: 0.9988\n",
      "Epoch 29: val_accuracy did not improve from 0.98437\n",
      "384/384 [==============================] - 29s 76ms/step - loss: 0.0055 - accuracy: 0.9988 - val_loss: 0.1211 - val_accuracy: 0.9822 - lr: 1.0000e-05\n",
      "Epoch 30/100\n",
      "384/384 [==============================] - ETA: 0s - loss: 0.0011 - accuracy: 0.9999\n",
      "Epoch 30: val_accuracy did not improve from 0.98437\n",
      "384/384 [==============================] - 29s 76ms/step - loss: 0.0011 - accuracy: 0.9999 - val_loss: 0.1217 - val_accuracy: 0.9822 - lr: 1.0000e-05\n",
      "Epoch 31/100\n",
      "384/384 [==============================] - ETA: 0s - loss: 0.0022 - accuracy: 0.9995\n",
      "Epoch 31: val_accuracy did not improve from 0.98437\n",
      "384/384 [==============================] - 29s 75ms/step - loss: 0.0022 - accuracy: 0.9995 - val_loss: 0.1229 - val_accuracy: 0.9822 - lr: 1.0000e-05\n",
      "Epoch 32/100\n",
      "384/384 [==============================] - ETA: 0s - loss: 0.0057 - accuracy: 0.9992\n",
      "Epoch 32: val_accuracy did not improve from 0.98437\n",
      "\n",
      "Epoch 32: ReduceLROnPlateau reducing learning rate to 1.0000000656873453e-06.\n",
      "384/384 [==============================] - 29s 76ms/step - loss: 0.0057 - accuracy: 0.9992 - val_loss: 0.1243 - val_accuracy: 0.9811 - lr: 1.0000e-05\n",
      "Epoch 33/100\n",
      "384/384 [==============================] - ETA: 0s - loss: 0.0022 - accuracy: 0.9992\n",
      "Epoch 33: val_accuracy did not improve from 0.98437\n",
      "384/384 [==============================] - 29s 76ms/step - loss: 0.0022 - accuracy: 0.9992 - val_loss: 0.1253 - val_accuracy: 0.9811 - lr: 1.0000e-06\n",
      "Epoch 34/100\n",
      "384/384 [==============================] - ETA: 0s - loss: 0.0040 - accuracy: 0.9991\n",
      "Epoch 34: val_accuracy did not improve from 0.98437\n",
      "384/384 [==============================] - 29s 75ms/step - loss: 0.0040 - accuracy: 0.9991 - val_loss: 0.1251 - val_accuracy: 0.9811 - lr: 1.0000e-06\n",
      "Epoch 35/100\n",
      "384/384 [==============================] - ETA: 0s - loss: 0.0030 - accuracy: 0.9992\n",
      "Epoch 35: val_accuracy did not improve from 0.98437\n",
      "384/384 [==============================] - 29s 75ms/step - loss: 0.0030 - accuracy: 0.9992 - val_loss: 0.1246 - val_accuracy: 0.9811 - lr: 1.0000e-06\n",
      "Epoch 36/100\n",
      "384/384 [==============================] - ETA: 0s - loss: 0.0024 - accuracy: 0.9993\n",
      "Epoch 36: val_accuracy did not improve from 0.98437\n",
      "384/384 [==============================] - 29s 76ms/step - loss: 0.0024 - accuracy: 0.9993 - val_loss: 0.1252 - val_accuracy: 0.9822 - lr: 1.0000e-06\n",
      "Epoch 37/100\n",
      "384/384 [==============================] - ETA: 0s - loss: 0.0040 - accuracy: 0.9993\n",
      "Epoch 37: val_accuracy did not improve from 0.98437\n",
      "\n",
      "Epoch 37: ReduceLROnPlateau reducing learning rate to 1.0000001111620805e-07.\n",
      "384/384 [==============================] - 29s 75ms/step - loss: 0.0040 - accuracy: 0.9993 - val_loss: 0.1234 - val_accuracy: 0.9811 - lr: 1.0000e-06\n",
      "Epoch 38/100\n",
      "384/384 [==============================] - ETA: 0s - loss: 0.0041 - accuracy: 0.9997\n",
      "Epoch 38: val_accuracy did not improve from 0.98437\n",
      "384/384 [==============================] - 29s 76ms/step - loss: 0.0041 - accuracy: 0.9997 - val_loss: 0.1256 - val_accuracy: 0.9811 - lr: 1.0000e-07\n",
      "Epoch 39/100\n",
      "384/384 [==============================] - ETA: 0s - loss: 0.0018 - accuracy: 0.9997\n",
      "Epoch 39: val_accuracy did not improve from 0.98437\n",
      "384/384 [==============================] - 29s 76ms/step - loss: 0.0018 - accuracy: 0.9997 - val_loss: 0.1246 - val_accuracy: 0.9811 - lr: 1.0000e-07\n",
      "Epoch 40/100\n",
      "384/384 [==============================] - ETA: 0s - loss: 0.0015 - accuracy: 0.9997\n",
      "Epoch 40: val_accuracy did not improve from 0.98437\n",
      "384/384 [==============================] - 29s 76ms/step - loss: 0.0015 - accuracy: 0.9997 - val_loss: 0.1250 - val_accuracy: 0.9811 - lr: 1.0000e-07\n",
      "Epoch 41/100\n",
      "384/384 [==============================] - ETA: 0s - loss: 0.0017 - accuracy: 0.9996\n",
      "Epoch 41: val_accuracy did not improve from 0.98437\n",
      "384/384 [==============================] - 29s 76ms/step - loss: 0.0017 - accuracy: 0.9996 - val_loss: 0.1259 - val_accuracy: 0.9822 - lr: 1.0000e-07\n",
      "Epoch 42/100\n",
      "384/384 [==============================] - ETA: 0s - loss: 0.0011 - accuracy: 0.9999\n",
      "Epoch 42: val_accuracy did not improve from 0.98437\n",
      "\n",
      "Epoch 42: ReduceLROnPlateau reducing learning rate to 1.000000082740371e-08.\n",
      "384/384 [==============================] - 29s 76ms/step - loss: 0.0011 - accuracy: 0.9999 - val_loss: 0.1254 - val_accuracy: 0.9811 - lr: 1.0000e-07\n",
      "Epoch 43/100\n",
      "384/384 [==============================] - ETA: 0s - loss: 0.0032 - accuracy: 0.9995\n",
      "Epoch 43: val_accuracy did not improve from 0.98437\n",
      "384/384 [==============================] - 29s 76ms/step - loss: 0.0032 - accuracy: 0.9995 - val_loss: 0.1255 - val_accuracy: 0.9811 - lr: 1.0000e-08\n",
      "Epoch 44/100\n",
      "384/384 [==============================] - ETA: 0s - loss: 0.0013 - accuracy: 0.9995\n",
      "Epoch 44: val_accuracy did not improve from 0.98437\n",
      "384/384 [==============================] - 29s 76ms/step - loss: 0.0013 - accuracy: 0.9995 - val_loss: 0.1246 - val_accuracy: 0.9811 - lr: 1.0000e-08\n",
      "Epoch 45/100\n",
      "384/384 [==============================] - ETA: 0s - loss: 0.0016 - accuracy: 0.9996\n",
      "Epoch 45: val_accuracy did not improve from 0.98437\n",
      "384/384 [==============================] - 29s 76ms/step - loss: 0.0016 - accuracy: 0.9996 - val_loss: 0.1253 - val_accuracy: 0.9817 - lr: 1.0000e-08\n",
      "Epoch 46/100\n",
      "384/384 [==============================] - ETA: 0s - loss: 0.0030 - accuracy: 0.9991\n",
      "Epoch 46: val_accuracy did not improve from 0.98437\n",
      "Restoring model weights from the end of the best epoch: 26.\n",
      "384/384 [==============================] - 29s 76ms/step - loss: 0.0030 - accuracy: 0.9991 - val_loss: 0.1261 - val_accuracy: 0.9811 - lr: 1.0000e-08\n",
      "Epoch 46: early stopping\n"
     ]
    }
   ],
   "source": [
    "# Define the number of epochs\n",
    "num_epochs = 100\n",
    "\n",
    "# Train the model\n",
    "history_Xception_model_1 = Xception_model.fit(train_generator, epochs=num_epochs, validation_data=validation_generator, callbacks=callbacks)"
   ]
  },
  {
   "cell_type": "code",
   "execution_count": 14,
   "metadata": {
    "colab": {
     "base_uri": "https://localhost:8080/",
     "height": 904
    },
    "executionInfo": {
     "elapsed": 9509,
     "status": "ok",
     "timestamp": 1684910640511,
     "user": {
      "displayName": "Ahmad Habib Hasan Zein",
      "userId": "05837826794256545230"
     },
     "user_tz": -420
    },
    "id": "lvS9xz3LU2TI",
    "outputId": "82006e9e-cc48-4ba8-d467-fa68335be1e2",
    "tags": []
   },
   "outputs": [
    {
     "data": {
      "text/plain": [
       "<matplotlib.legend.Legend at 0x7f8fa7ca3850>"
      ]
     },
     "execution_count": 14,
     "metadata": {},
     "output_type": "execute_result"
    },
    {
     "data": {
      "image/png": "[encoded data removed]",
      "text/plain": [
       "<Figure size 640x480 with 1 Axes>"
      ]
     },
     "metadata": {},
     "output_type": "display_data"
    },
    {
     "data": {
      "image/png": "[encoded data removed]",
      "text/plain": [
       "<Figure size 640x480 with 1 Axes>"
      ]
     },
     "metadata": {},
     "output_type": "display_data"
    }
   ],
   "source": [
    "#-----------------------------------------------------------\n",
    "# Retrieve a list of list results on training and test data\n",
    "# sets for each training epoch\n",
    "#-----------------------------------------------------------\n",
    "acc      = history_Xception_model_1.history['accuracy' ]\n",
    "val_acc  = history_Xception_model_1.history['val_accuracy' ]\n",
    "loss     = history_Xception_model_1.history['loss' ]\n",
    "val_loss = history_Xception_model_1.history['val_loss' ]\n",
    "\n",
    "epochs   = range(len(acc)) # Get number of epochs\n",
    "\n",
    "#------------------------------------------------\n",
    "# Plot training and validation accuracy per epoch\n",
    "#------------------------------------------------\n",
    "plt.plot  (epochs, acc )\n",
    "plt.plot  (epochs, val_acc )\n",
    "plt.title ('Training and validation accuracy Xception Model 1')\n",
    "plt.legend(['train', 'val'], loc='upper left')\n",
    "plt.figure()\n",
    "\n",
    "#------------------------------------------------\n",
    "# Plot training and validation loss per epoch\n",
    "#------------------------------------------------\n",
    "plt.plot  (epochs, loss)\n",
    "plt.plot  (epochs, val_loss)\n",
    "plt.title ('Training and validation loss Xception Model 1')\n",
    "plt.legend(['train', 'val'], loc='upper left')"
   ]
  },
  {
   "cell_type": "markdown",
   "metadata": {
    "id": "SvQOR9IuU2TJ"
   },
   "source": [
    "## Xception Model 2"
   ]
  },
  {
   "cell_type": "code",
   "execution_count": 15,
   "metadata": {
    "executionInfo": {
     "elapsed": 4,
     "status": "ok",
     "timestamp": 1684910640512,
     "user": {
      "displayName": "Ahmad Habib Hasan Zein",
      "userId": "05837826794256545230"
     },
     "user_tz": -420
    },
    "id": "Tj7lcdvUU2TJ",
    "tags": []
   },
   "outputs": [],
   "source": [
    "# Difine the callbacks\n",
    "# Save the best model\n",
    "checkpoint_callback = ModelCheckpoint(filepath=\"Corn_Xception_model2_Based_Non_Augmented.h5\", save_best_only=True, monitor=\"val_accuracy\", mode=\"max\", verbose=1)\n",
    "\n",
    "# Early stopping\n",
    "early_stopping_callback = EarlyStopping(monitor=\"val_accuracy\", mode=\"max\", patience=20, verbose=1, restore_best_weights=True)\n",
    "\n",
    "# Reduce learning rate\n",
    "reduce_lr_callback = ReduceLROnPlateau(monitor=\"val_loss\", factor=0.1, patience=5, verbose=1, mode=\"min\", min_delta=0.0001, cooldown=0, min_lr=0)\n",
    "\n",
    "# Callbacks list\n",
    "callbacks=[checkpoint_callback, early_stopping_callback, reduce_lr_callback]"
   ]
  },
  {
   "cell_type": "code",
   "execution_count": 16,
   "metadata": {
    "colab": {
     "base_uri": "https://localhost:8080/"
    },
    "executionInfo": {
     "elapsed": 1883,
     "status": "ok",
     "timestamp": 1684910642392,
     "user": {
      "displayName": "Ahmad Habib Hasan Zein",
      "userId": "05837826794256545230"
     },
     "user_tz": -420
    },
    "id": "7NKPY1xGU2TJ",
    "outputId": "33e21089-b139-40da-9c65-6897626f2c85",
    "tags": []
   },
   "outputs": [
    {
     "name": "stdout",
     "output_type": "stream",
     "text": [
      "Model: \"sequential_1\"\n",
      "_________________________________________________________________\n",
      " Layer (type)                Output Shape              Param #   \n",
      "=================================================================\n",
      " xception (Functional)       (None, 7, 7, 2048)        20861480  \n",
      "                                                                 \n",
      " global_average_pooling2d (G  (None, 2048)             0         \n",
      " lobalAveragePooling2D)                                          \n",
      "                                                                 \n",
      " dropout_1 (Dropout)         (None, 2048)              0         \n",
      "                                                                 \n",
      " dense_2 (Dense)             (None, 256)               524544    \n",
      "                                                                 \n",
      " dense_3 (Dense)             (None, 4)                 1028      \n",
      "                                                                 \n",
      "=================================================================\n",
      "Total params: 21,387,052\n",
      "Trainable params: 21,332,524\n",
      "Non-trainable params: 54,528\n",
      "_________________________________________________________________\n"
     ]
    }
   ],
   "source": [
    "# Define DIY Model\n",
    "Xception_model_2 = tf.keras.models.Sequential([\n",
    "    # Xception121 Layer\n",
    "    Xception(include_top=False,weights='imagenet',input_shape=(224, 224, 3)),\n",
    "    # Global Average Pooling Layer\n",
    "    tf.keras.layers.GlobalAveragePooling2D(),\n",
    "    # Drop Out Layer\n",
    "    tf.keras.layers.Dropout(0.2),\n",
    "    # 256 neuron hidden layer\n",
    "    tf.keras.layers.Dense(256, activation='relu'),\n",
    "    # Output\n",
    "    tf.keras.layers.Dense(4, activation='softmax') \n",
    "  ])\n",
    "\n",
    "\n",
    "# Compile Model\n",
    "Xception_model_2.compile(loss='categorical_crossentropy',optimizer=tf.keras.optimizers.Adam(), metrics=['accuracy']) \n",
    "\n",
    "# Model Summary\n",
    "Xception_model_2.summary()"
   ]
  },
  {
   "cell_type": "code",
   "execution_count": 17,
   "metadata": {
    "colab": {
     "base_uri": "https://localhost:8080/"
    },
    "executionInfo": {
     "elapsed": 4527334,
     "status": "ok",
     "timestamp": 1684915169720,
     "user": {
      "displayName": "Ahmad Habib Hasan Zein",
      "userId": "05837826794256545230"
     },
     "user_tz": -420
    },
    "id": "6beuexC9U2TJ",
    "outputId": "76471469-de2f-4c27-d296-22576a264622",
    "tags": []
   },
   "outputs": [
    {
     "name": "stdout",
     "output_type": "stream",
     "text": [
      "Epoch 1/100\n",
      "384/384 [==============================] - ETA: 0s - loss: 0.2691 - accuracy: 0.9102\n",
      "Epoch 1: val_accuracy improved from -inf to 0.96981, saving model to Corn_Xception_model2_Based_Non_Augmented.h5\n",
      "384/384 [==============================] - 53s 79ms/step - loss: 0.2691 - accuracy: 0.9102 - val_loss: 0.0916 - val_accuracy: 0.9698 - lr: 0.0010\n",
      "Epoch 2/100\n",
      "384/384 [==============================] - ETA: 0s - loss: 0.1601 - accuracy: 0.9465\n",
      "Epoch 2: val_accuracy improved from 0.96981 to 0.97466, saving model to Corn_Xception_model2_Based_Non_Augmented.h5\n",
      "384/384 [==============================] - 30s 78ms/step - loss: 0.1601 - accuracy: 0.9465 - val_loss: 0.0646 - val_accuracy: 0.9747 - lr: 0.0010\n",
      "Epoch 3/100\n",
      "384/384 [==============================] - ETA: 0s - loss: 0.1403 - accuracy: 0.9576\n",
      "Epoch 3: val_accuracy improved from 0.97466 to 0.97951, saving model to Corn_Xception_model2_Based_Non_Augmented.h5\n",
      "384/384 [==============================] - 30s 77ms/step - loss: 0.1403 - accuracy: 0.9576 - val_loss: 0.0604 - val_accuracy: 0.9795 - lr: 0.0010\n",
      "Epoch 4/100\n",
      "384/384 [==============================] - ETA: 0s - loss: 0.1298 - accuracy: 0.9592\n",
      "Epoch 4: val_accuracy did not improve from 0.97951\n",
      "384/384 [==============================] - 29s 76ms/step - loss: 0.1298 - accuracy: 0.9592 - val_loss: 0.2534 - val_accuracy: 0.9396 - lr: 0.0010\n",
      "Epoch 5/100\n",
      "384/384 [==============================] - ETA: 0s - loss: 0.1108 - accuracy: 0.9645\n",
      "Epoch 5: val_accuracy did not improve from 0.97951\n",
      "384/384 [==============================] - 29s 76ms/step - loss: 0.1108 - accuracy: 0.9645 - val_loss: 0.0673 - val_accuracy: 0.9752 - lr: 0.0010\n",
      "Epoch 6/100\n",
      "384/384 [==============================] - ETA: 0s - loss: 0.0852 - accuracy: 0.9706\n",
      "Epoch 6: val_accuracy did not improve from 0.97951\n",
      "384/384 [==============================] - 29s 76ms/step - loss: 0.0852 - accuracy: 0.9706 - val_loss: 0.1176 - val_accuracy: 0.9612 - lr: 0.0010\n",
      "Epoch 7/100\n",
      "384/384 [==============================] - ETA: 0s - loss: 0.0661 - accuracy: 0.9778\n",
      "Epoch 7: val_accuracy did not improve from 0.97951\n",
      "384/384 [==============================] - 29s 76ms/step - loss: 0.0661 - accuracy: 0.9778 - val_loss: 0.2937 - val_accuracy: 0.9326 - lr: 0.0010\n",
      "Epoch 8/100\n",
      "384/384 [==============================] - ETA: 0s - loss: 0.0628 - accuracy: 0.9778\n",
      "Epoch 8: val_accuracy did not improve from 0.97951\n",
      "\n",
      "Epoch 8: ReduceLROnPlateau reducing learning rate to 0.00010000000474974513.\n",
      "384/384 [==============================] - 29s 76ms/step - loss: 0.0628 - accuracy: 0.9778 - val_loss: 0.0908 - val_accuracy: 0.9709 - lr: 0.0010\n",
      "Epoch 9/100\n",
      "384/384 [==============================] - ETA: 0s - loss: 0.0293 - accuracy: 0.9906\n",
      "Epoch 9: val_accuracy improved from 0.97951 to 0.98329, saving model to Corn_Xception_model2_Based_Non_Augmented.h5\n",
      "384/384 [==============================] - 30s 78ms/step - loss: 0.0293 - accuracy: 0.9906 - val_loss: 0.0647 - val_accuracy: 0.9833 - lr: 1.0000e-04\n",
      "Epoch 10/100\n",
      "384/384 [==============================] - ETA: 0s - loss: 0.0143 - accuracy: 0.9945\n",
      "Epoch 10: val_accuracy improved from 0.98329 to 0.98491, saving model to Corn_Xception_model2_Based_Non_Augmented.h5\n",
      "384/384 [==============================] - 30s 78ms/step - loss: 0.0143 - accuracy: 0.9945 - val_loss: 0.0644 - val_accuracy: 0.9849 - lr: 1.0000e-04\n",
      "Epoch 11/100\n",
      "384/384 [==============================] - ETA: 0s - loss: 0.0117 - accuracy: 0.9966\n",
      "Epoch 11: val_accuracy did not improve from 0.98491\n",
      "384/384 [==============================] - 29s 76ms/step - loss: 0.0117 - accuracy: 0.9966 - val_loss: 0.0773 - val_accuracy: 0.9833 - lr: 1.0000e-04\n",
      "Epoch 12/100\n",
      "384/384 [==============================] - ETA: 0s - loss: 0.0163 - accuracy: 0.9956\n",
      "Epoch 12: val_accuracy did not improve from 0.98491\n",
      "384/384 [==============================] - 29s 76ms/step - loss: 0.0163 - accuracy: 0.9956 - val_loss: 0.0827 - val_accuracy: 0.9838 - lr: 1.0000e-04\n",
      "Epoch 13/100\n",
      "384/384 [==============================] - ETA: 0s - loss: 0.0076 - accuracy: 0.9980\n",
      "Epoch 13: val_accuracy did not improve from 0.98491\n",
      "\n",
      "Epoch 13: ReduceLROnPlateau reducing learning rate to 1.0000000474974514e-05.\n",
      "384/384 [==============================] - 29s 77ms/step - loss: 0.0076 - accuracy: 0.9980 - val_loss: 0.0878 - val_accuracy: 0.9822 - lr: 1.0000e-04\n",
      "Epoch 14/100\n",
      "384/384 [==============================] - ETA: 0s - loss: 0.0039 - accuracy: 0.9990\n",
      "Epoch 14: val_accuracy did not improve from 0.98491\n",
      "384/384 [==============================] - 29s 76ms/step - loss: 0.0039 - accuracy: 0.9990 - val_loss: 0.0824 - val_accuracy: 0.9822 - lr: 1.0000e-05\n",
      "Epoch 15/100\n",
      "384/384 [==============================] - ETA: 0s - loss: 0.0063 - accuracy: 0.9977\n",
      "Epoch 15: val_accuracy did not improve from 0.98491\n",
      "384/384 [==============================] - 29s 76ms/step - loss: 0.0063 - accuracy: 0.9977 - val_loss: 0.0826 - val_accuracy: 0.9811 - lr: 1.0000e-05\n",
      "Epoch 16/100\n",
      "384/384 [==============================] - ETA: 0s - loss: 0.0040 - accuracy: 0.9991\n",
      "Epoch 16: val_accuracy did not improve from 0.98491\n",
      "384/384 [==============================] - 29s 76ms/step - loss: 0.0040 - accuracy: 0.9991 - val_loss: 0.0827 - val_accuracy: 0.9827 - lr: 1.0000e-05\n",
      "Epoch 17/100\n",
      "384/384 [==============================] - ETA: 0s - loss: 0.0032 - accuracy: 0.9993\n",
      "Epoch 17: val_accuracy did not improve from 0.98491\n",
      "384/384 [==============================] - 29s 76ms/step - loss: 0.0032 - accuracy: 0.9993 - val_loss: 0.0836 - val_accuracy: 0.9827 - lr: 1.0000e-05\n",
      "Epoch 18/100\n",
      "384/384 [==============================] - ETA: 0s - loss: 0.0049 - accuracy: 0.9990\n",
      "Epoch 18: val_accuracy did not improve from 0.98491\n",
      "\n",
      "Epoch 18: ReduceLROnPlateau reducing learning rate to 1.0000000656873453e-06.\n",
      "384/384 [==============================] - 29s 76ms/step - loss: 0.0049 - accuracy: 0.9990 - val_loss: 0.0846 - val_accuracy: 0.9827 - lr: 1.0000e-05\n",
      "Epoch 19/100\n",
      "384/384 [==============================] - ETA: 0s - loss: 0.0022 - accuracy: 0.9995\n",
      "Epoch 19: val_accuracy did not improve from 0.98491\n",
      "384/384 [==============================] - 29s 76ms/step - loss: 0.0022 - accuracy: 0.9995 - val_loss: 0.0852 - val_accuracy: 0.9838 - lr: 1.0000e-06\n",
      "Epoch 20/100\n",
      "384/384 [==============================] - ETA: 0s - loss: 0.0034 - accuracy: 0.9987\n",
      "Epoch 20: val_accuracy did not improve from 0.98491\n",
      "384/384 [==============================] - 29s 76ms/step - loss: 0.0034 - accuracy: 0.9987 - val_loss: 0.0854 - val_accuracy: 0.9833 - lr: 1.0000e-06\n",
      "Epoch 21/100\n",
      "384/384 [==============================] - ETA: 0s - loss: 0.0029 - accuracy: 0.9995\n",
      "Epoch 21: val_accuracy did not improve from 0.98491\n",
      "384/384 [==============================] - 29s 77ms/step - loss: 0.0029 - accuracy: 0.9995 - val_loss: 0.0847 - val_accuracy: 0.9827 - lr: 1.0000e-06\n",
      "Epoch 22/100\n",
      "384/384 [==============================] - ETA: 0s - loss: 0.0020 - accuracy: 0.9997\n",
      "Epoch 22: val_accuracy did not improve from 0.98491\n",
      "384/384 [==============================] - 30s 77ms/step - loss: 0.0020 - accuracy: 0.9997 - val_loss: 0.0854 - val_accuracy: 0.9827 - lr: 1.0000e-06\n",
      "Epoch 23/100\n",
      "384/384 [==============================] - ETA: 0s - loss: 0.0035 - accuracy: 0.9995\n",
      "Epoch 23: val_accuracy did not improve from 0.98491\n",
      "\n",
      "Epoch 23: ReduceLROnPlateau reducing learning rate to 1.0000001111620805e-07.\n",
      "384/384 [==============================] - 29s 76ms/step - loss: 0.0035 - accuracy: 0.9995 - val_loss: 0.0868 - val_accuracy: 0.9833 - lr: 1.0000e-06\n",
      "Epoch 24/100\n",
      "384/384 [==============================] - ETA: 0s - loss: 0.0020 - accuracy: 0.9993\n",
      "Epoch 24: val_accuracy did not improve from 0.98491\n",
      "384/384 [==============================] - 29s 76ms/step - loss: 0.0020 - accuracy: 0.9993 - val_loss: 0.0854 - val_accuracy: 0.9833 - lr: 1.0000e-07\n",
      "Epoch 25/100\n",
      "384/384 [==============================] - ETA: 0s - loss: 0.0058 - accuracy: 0.9991\n",
      "Epoch 25: val_accuracy did not improve from 0.98491\n",
      "384/384 [==============================] - 29s 77ms/step - loss: 0.0058 - accuracy: 0.9991 - val_loss: 0.0858 - val_accuracy: 0.9827 - lr: 1.0000e-07\n",
      "Epoch 26/100\n",
      "384/384 [==============================] - ETA: 0s - loss: 0.0027 - accuracy: 0.9995\n",
      "Epoch 26: val_accuracy did not improve from 0.98491\n",
      "384/384 [==============================] - 29s 76ms/step - loss: 0.0027 - accuracy: 0.9995 - val_loss: 0.0861 - val_accuracy: 0.9827 - lr: 1.0000e-07\n",
      "Epoch 27/100\n",
      "384/384 [==============================] - ETA: 0s - loss: 0.0028 - accuracy: 0.9996\n",
      "Epoch 27: val_accuracy did not improve from 0.98491\n",
      "384/384 [==============================] - 29s 76ms/step - loss: 0.0028 - accuracy: 0.9996 - val_loss: 0.0867 - val_accuracy: 0.9827 - lr: 1.0000e-07\n",
      "Epoch 28/100\n",
      "384/384 [==============================] - ETA: 0s - loss: 0.0038 - accuracy: 0.9993\n",
      "Epoch 28: val_accuracy did not improve from 0.98491\n",
      "\n",
      "Epoch 28: ReduceLROnPlateau reducing learning rate to 1.000000082740371e-08.\n",
      "384/384 [==============================] - 29s 76ms/step - loss: 0.0038 - accuracy: 0.9993 - val_loss: 0.0860 - val_accuracy: 0.9827 - lr: 1.0000e-07\n",
      "Epoch 29/100\n",
      "384/384 [==============================] - ETA: 0s - loss: 0.0038 - accuracy: 0.9992\n",
      "Epoch 29: val_accuracy did not improve from 0.98491\n",
      "384/384 [==============================] - 29s 76ms/step - loss: 0.0038 - accuracy: 0.9992 - val_loss: 0.0861 - val_accuracy: 0.9827 - lr: 1.0000e-08\n",
      "Epoch 30/100\n",
      "384/384 [==============================] - ETA: 0s - loss: 0.0034 - accuracy: 0.9992\n",
      "Epoch 30: val_accuracy did not improve from 0.98491\n",
      "Restoring model weights from the end of the best epoch: 10.\n",
      "384/384 [==============================] - 29s 77ms/step - loss: 0.0034 - accuracy: 0.9992 - val_loss: 0.0860 - val_accuracy: 0.9827 - lr: 1.0000e-08\n",
      "Epoch 30: early stopping\n"
     ]
    }
   ],
   "source": [
    "# Define the number of epochs\n",
    "num_epochs = 100\n",
    "\n",
    "# Train the model\n",
    "history_Xception_model_2 = Xception_model_2.fit(train_generator, epochs=num_epochs, validation_data=validation_generator, callbacks=callbacks)"
   ]
  },
  {
   "cell_type": "code",
   "execution_count": 18,
   "metadata": {
    "colab": {
     "base_uri": "https://localhost:8080/",
     "height": 904
    },
    "executionInfo": {
     "elapsed": 879,
     "status": "ok",
     "timestamp": 1684915170586,
     "user": {
      "displayName": "Ahmad Habib Hasan Zein",
      "userId": "05837826794256545230"
     },
     "user_tz": -420
    },
    "id": "3f1nmwUhU2TK",
    "outputId": "eb1304fd-6c84-4475-8c50-ae3e0136c834",
    "tags": []
   },
   "outputs": [
    {
     "data": {
      "text/plain": [
       "<matplotlib.legend.Legend at 0x7f8eba4199a0>"
      ]
     },
     "execution_count": 18,
     "metadata": {},
     "output_type": "execute_result"
    },
    {
     "data": {
      "image/png": "[encoded data removed]",
      "text/plain": [
       "<Figure size 640x480 with 1 Axes>"
      ]
     },
     "metadata": {},
     "output_type": "display_data"
    },
    {
     "data": {
      "image/png": "[encoded data removed]",
      "text/plain": [
       "<Figure size 640x480 with 1 Axes>"
      ]
     },
     "metadata": {},
     "output_type": "display_data"
    }
   ],
   "source": [
    "#-----------------------------------------------------------\n",
    "# Retrieve a list of list results on training and test data\n",
    "# sets for each training epoch\n",
    "#-----------------------------------------------------------\n",
    "acc      = history_Xception_model_2.history['accuracy' ]\n",
    "val_acc  = history_Xception_model_2.history['val_accuracy' ]\n",
    "loss     = history_Xception_model_2.history['loss' ]\n",
    "val_loss = history_Xception_model_2.history['val_loss' ]\n",
    "\n",
    "epochs   = range(len(acc)) # Get number of epochs\n",
    "\n",
    "#------------------------------------------------\n",
    "# Plot training and validation accuracy per epoch\n",
    "#------------------------------------------------\n",
    "plt.plot  (epochs, acc )\n",
    "plt.plot  (epochs, val_acc )\n",
    "plt.title ('Training and validation accuracy Xception Model 2')\n",
    "plt.legend(['train', 'val'], loc='upper left')\n",
    "plt.figure()\n",
    "\n",
    "#------------------------------------------------\n",
    "# Plot training and validation loss per epoch\n",
    "#------------------------------------------------\n",
    "plt.plot  (epochs, loss)\n",
    "plt.plot  (epochs, val_loss)\n",
    "plt.title ('Training and validation loss Xception Model 2')\n",
    "plt.legend(['train', 'val'], loc='upper left')"
   ]
  }
 ],
 "metadata": {
  "accelerator": "GPU",
  "colab": {
   "gpuType": "T4",
   "provenance": []
  },
  "gpuClass": "standard",
  "kernelspec": {
   "display_name": "Python 3 (ipykernel)",
   "language": "python",
   "name": "python3"
  },
  "language_info": {
   "codemirror_mode": {
    "name": "ipython",
    "version": 3
   },
   "file_extension": ".py",
   "mimetype": "text/x-python",
   "name": "python",
   "nbconvert_exporter": "python",
   "pygments_lexer": "ipython3",
   "version": "3.8.10"
  }
 },
 "nbformat": 4,
 "nbformat_minor": 4
}
