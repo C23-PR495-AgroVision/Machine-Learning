{
  "cells": [
    {
      "attachments": {},
      "cell_type": "markdown",
      "metadata": {
        "id": "hO3kEcUPU2S3"
      },
      "source": [
        "# Library"
      ]
    },
    {
      "cell_type": "code",
      "execution_count": 1,
      "metadata": {
        "colab": {
          "base_uri": "https://localhost:8080/"
        },
        "id": "kczkUjsAU2S8",
        "outputId": "1deef3b8-ae81-4e61-c93a-b31697261c52",
        "tags": []
      },
      "outputs": [
        {
          "name": "stdout",
          "output_type": "stream",
          "text": [
            "Requirement already satisfied: matplotlib in c:\\users\\hasan\\anaconda3\\envs\\tensorflow_gpu_zein\\lib\\site-packages (3.6.3)\n",
            "Requirement already satisfied: python-dateutil>=2.7 in c:\\users\\hasan\\anaconda3\\envs\\tensorflow_gpu_zein\\lib\\site-packages (from matplotlib) (2.8.2)\n",
            "Requirement already satisfied: contourpy>=1.0.1 in c:\\users\\hasan\\anaconda3\\envs\\tensorflow_gpu_zein\\lib\\site-packages (from matplotlib) (1.0.7)\n",
            "Requirement already satisfied: packaging>=20.0 in c:\\users\\hasan\\anaconda3\\envs\\tensorflow_gpu_zein\\lib\\site-packages (from matplotlib) (23.1)\n",
            "Requirement already satisfied: pillow>=6.2.0 in c:\\users\\hasan\\anaconda3\\envs\\tensorflow_gpu_zein\\lib\\site-packages (from matplotlib) (9.4.0)\n",
            "Requirement already satisfied: cycler>=0.10 in c:\\users\\hasan\\anaconda3\\envs\\tensorflow_gpu_zein\\lib\\site-packages (from matplotlib) (0.11.0)\n",
            "Requirement already satisfied: kiwisolver>=1.0.1 in c:\\users\\hasan\\anaconda3\\envs\\tensorflow_gpu_zein\\lib\\site-packages (from matplotlib) (1.4.4)\n",
            "Requirement already satisfied: fonttools>=4.22.0 in c:\\users\\hasan\\anaconda3\\envs\\tensorflow_gpu_zein\\lib\\site-packages (from matplotlib) (4.39.2)\n",
            "Requirement already satisfied: pyparsing>=2.2.1 in c:\\users\\hasan\\anaconda3\\envs\\tensorflow_gpu_zein\\lib\\site-packages (from matplotlib) (3.0.9)\n",
            "Requirement already satisfied: numpy>=1.19 in c:\\users\\hasan\\anaconda3\\envs\\tensorflow_gpu_zein\\lib\\site-packages (from matplotlib) (1.23.5)\n",
            "Requirement already satisfied: six>=1.5 in c:\\users\\hasan\\anaconda3\\envs\\tensorflow_gpu_zein\\lib\\site-packages (from python-dateutil>=2.7->matplotlib) (1.16.0)\n",
            "Note: you may need to restart the kernel to use updated packages.\n"
          ]
        },
        {
          "name": "stderr",
          "output_type": "stream",
          "text": [
            "WARNING: Ignoring invalid distribution -rotobuf (c:\\users\\hasan\\anaconda3\\envs\\tensorflow_gpu_zein\\lib\\site-packages)\n",
            "WARNING: Ignoring invalid distribution -rotobuf (c:\\users\\hasan\\anaconda3\\envs\\tensorflow_gpu_zein\\lib\\site-packages)\n",
            "WARNING: Ignoring invalid distribution -rotobuf (c:\\users\\hasan\\anaconda3\\envs\\tensorflow_gpu_zein\\lib\\site-packages)\n",
            "WARNING: Ignoring invalid distribution -rotobuf (c:\\users\\hasan\\anaconda3\\envs\\tensorflow_gpu_zein\\lib\\site-packages)\n",
            "WARNING: Ignoring invalid distribution -rotobuf (c:\\users\\hasan\\anaconda3\\envs\\tensorflow_gpu_zein\\lib\\site-packages)\n",
            "WARNING: Ignoring invalid distribution -rotobuf (c:\\users\\hasan\\anaconda3\\envs\\tensorflow_gpu_zein\\lib\\site-packages)\n"
          ]
        }
      ],
      "source": [
        "pip install matplotlib"
      ]
    },
    {
      "cell_type": "code",
      "execution_count": 2,
      "metadata": {
        "colab": {
          "base_uri": "https://localhost:8080/"
        },
        "id": "oEW3Nbu7U2S_",
        "outputId": "e124bf7c-fb8f-496a-9956-be7fbec878b3",
        "tags": []
      },
      "outputs": [
        {
          "name": "stdout",
          "output_type": "stream",
          "text": [
            "Requirement already satisfied: opendatasets in c:\\users\\hasan\\anaconda3\\envs\\tensorflow_gpu_zein\\lib\\site-packages (0.1.22)\n",
            "Requirement already satisfied: click in c:\\users\\hasan\\anaconda3\\envs\\tensorflow_gpu_zein\\lib\\site-packages (from opendatasets) (8.1.3)\n",
            "Requirement already satisfied: kaggle in c:\\users\\hasan\\anaconda3\\envs\\tensorflow_gpu_zein\\lib\\site-packages (from opendatasets) (1.5.13)\n",
            "Requirement already satisfied: tqdm in c:\\users\\hasan\\anaconda3\\envs\\tensorflow_gpu_zein\\lib\\site-packages (from opendatasets) (4.64.1)\n",
            "Requirement already satisfied: colorama in c:\\users\\hasan\\anaconda3\\envs\\tensorflow_gpu_zein\\lib\\site-packages (from click->opendatasets) (0.4.6)\n",
            "Requirement already satisfied: python-dateutil in c:\\users\\hasan\\anaconda3\\envs\\tensorflow_gpu_zein\\lib\\site-packages (from kaggle->opendatasets) (2.8.2)\n",
            "Requirement already satisfied: six>=1.10 in c:\\users\\hasan\\anaconda3\\envs\\tensorflow_gpu_zein\\lib\\site-packages (from kaggle->opendatasets) (1.16.0)\n",
            "Requirement already satisfied: python-slugify in c:\\users\\hasan\\anaconda3\\envs\\tensorflow_gpu_zein\\lib\\site-packages (from kaggle->opendatasets) (8.0.1)\n",
            "Requirement already satisfied: certifi in c:\\users\\hasan\\anaconda3\\envs\\tensorflow_gpu_zein\\lib\\site-packages (from kaggle->opendatasets) (2022.12.7)\n",
            "Requirement already satisfied: requests in c:\\users\\hasan\\anaconda3\\envs\\tensorflow_gpu_zein\\lib\\site-packages (from kaggle->opendatasets) (2.28.2)\n",
            "Requirement already satisfied: urllib3 in c:\\users\\hasan\\anaconda3\\envs\\tensorflow_gpu_zein\\lib\\site-packages (from kaggle->opendatasets) (1.26.15)\n",
            "Requirement already satisfied: text-unidecode>=1.3 in c:\\users\\hasan\\anaconda3\\envs\\tensorflow_gpu_zein\\lib\\site-packages (from python-slugify->kaggle->opendatasets) (1.3)\n",
            "Requirement already satisfied: idna<4,>=2.5 in c:\\users\\hasan\\anaconda3\\envs\\tensorflow_gpu_zein\\lib\\site-packages (from requests->kaggle->opendatasets) (3.4)\n",
            "Requirement already satisfied: charset-normalizer<4,>=2 in c:\\users\\hasan\\anaconda3\\envs\\tensorflow_gpu_zein\\lib\\site-packages (from requests->kaggle->opendatasets) (3.1.0)\n",
            "Note: you may need to restart the kernel to use updated packages.\n"
          ]
        },
        {
          "name": "stderr",
          "output_type": "stream",
          "text": [
            "WARNING: Ignoring invalid distribution -rotobuf (c:\\users\\hasan\\anaconda3\\envs\\tensorflow_gpu_zein\\lib\\site-packages)\n",
            "WARNING: Ignoring invalid distribution -rotobuf (c:\\users\\hasan\\anaconda3\\envs\\tensorflow_gpu_zein\\lib\\site-packages)\n",
            "WARNING: Ignoring invalid distribution -rotobuf (c:\\users\\hasan\\anaconda3\\envs\\tensorflow_gpu_zein\\lib\\site-packages)\n",
            "WARNING: Ignoring invalid distribution -rotobuf (c:\\users\\hasan\\anaconda3\\envs\\tensorflow_gpu_zein\\lib\\site-packages)\n",
            "WARNING: Ignoring invalid distribution -rotobuf (c:\\users\\hasan\\anaconda3\\envs\\tensorflow_gpu_zein\\lib\\site-packages)\n",
            "WARNING: Ignoring invalid distribution -rotobuf (c:\\users\\hasan\\anaconda3\\envs\\tensorflow_gpu_zein\\lib\\site-packages)\n"
          ]
        }
      ],
      "source": [
        "pip install opendatasets"
      ]
    },
    {
      "cell_type": "code",
      "execution_count": 3,
      "metadata": {
        "id": "SIHHdOB4U2TA",
        "tags": []
      },
      "outputs": [],
      "source": [
        "# Library to dataset\n",
        "import opendatasets as od\n",
        "import os\n",
        "import zipfile\n",
        "import numpy as np\n",
        "\n",
        "# Surpress Warnings\n",
        "import warnings\n",
        "warnings.filterwarnings('ignore')\n",
        "os.environ['TF_CPP_MIN_LOG_LEVEL'] = '3' \n",
        "# library visualization\n",
        "import matplotlib.pyplot as plt\n",
        "\n",
        "# Library Tensorflow\n",
        "import tensorflow as tf\n",
        "from tensorflow import keras\n",
        "from tensorflow.keras.preprocessing.image import ImageDataGenerator\n",
        "from tensorflow.keras.callbacks import ModelCheckpoint, EarlyStopping, ReduceLROnPlateau\n",
        "from tensorflow.keras.applications.densenet import DenseNet121\n",
        "from tensorflow.keras.applications.xception import Xception\n",
        "from tensorflow.keras.applications.mobilenet_v2 import MobileNetV2\n",
        "\n",
        "# Others\n",
        "import shutil\n",
        "import random"
      ]
    },
    {
      "attachments": {},
      "cell_type": "markdown",
      "metadata": {
        "id": "Dy8YkYoaU2TB"
      },
      "source": [
        "# Load dataset"
      ]
    },
    {
      "cell_type": "code",
      "execution_count": 4,
      "metadata": {
        "colab": {
          "base_uri": "https://localhost:8080/"
        },
        "id": "8ZAjREJ0U2TC",
        "outputId": "1c6bf288-c640-49c9-9528-61ce297c6b1f",
        "tags": []
      },
      "outputs": [
        {
          "name": "stdout",
          "output_type": "stream",
          "text": [
            "==========================Training Data====================\n",
            "Found 7665 files belonging to 4 classes.\n",
            "==========================Validation Data====================\n",
            "Found 1855 files belonging to 4 classes.\n"
          ]
        }
      ],
      "source": [
        "# Load dataset\n",
        "print(\"==========================Training Data====================\")\n",
        "train_data = tf.keras.preprocessing.image_dataset_from_directory(\n",
        "    \"Dataset/Corn/train\",\n",
        "    label_mode=\"categorical\",\n",
        "    class_names=['Corn Gray leaf spot','Corn healthy','Corn leaf blight','Corn rust leaf'],\n",
        "    color_mode=\"rgb\",\n",
        "    batch_size=1,\n",
        "    image_size=(256, 256),\n",
        "    shuffle=True,\n",
        "    seed=123\n",
        ")\n",
        "print(\"==========================Validation Data====================\")\n",
        "val_data = tf.keras.preprocessing.image_dataset_from_directory(\n",
        "    \"Dataset/Corn/valid\",\n",
        "    label_mode=\"categorical\",\n",
        "    class_names=['Corn Gray leaf spot','Corn healthy','Corn leaf blight','Corn rust leaf'],\n",
        "    color_mode=\"rgb\",\n",
        "    batch_size=1,\n",
        "    image_size=(256, 256),\n",
        "    shuffle=True,\n",
        "    seed=123\n",
        ")"
      ]
    },
    {
      "cell_type": "code",
      "execution_count": 5,
      "metadata": {
        "colab": {
          "base_uri": "https://localhost:8080/"
        },
        "id": "vEPzd1egU2TD",
        "outputId": "177b4fd1-2013-49b7-bb51-4fd4466923e4",
        "tags": []
      },
      "outputs": [
        {
          "name": "stdout",
          "output_type": "stream",
          "text": [
            "Found 7665 images belonging to 4 classes.\n",
            "Found 1855 images belonging to 4 classes.\n"
          ]
        }
      ],
      "source": [
        "# All images will be rescaled by 1./255.and augmented\n",
        "train_datagen = ImageDataGenerator(rescale = 1.0/256.,\n",
        "                                   rotation_range=40,\n",
        "                                   width_shift_range=0.2,\n",
        "                                   height_shift_range=0.2,\n",
        "                                   shear_range=0.2,\n",
        "                                   zoom_range=0.2,\n",
        "                                   horizontal_flip=True,\n",
        "                                   fill_mode='nearest')\n",
        "\n",
        "test_datagen  = ImageDataGenerator(rescale = 1.0/256.)\n",
        "\n",
        "# --------------------\n",
        "# Flow training images in batches of 20 using train_datagen generator\n",
        "# --------------------\n",
        "train_generator = train_datagen.flow_from_directory(\"Dataset/Corn/train\",\n",
        "                                                    batch_size=20,\n",
        "                                                    class_mode='categorical',\n",
        "                                                    target_size=(224, 224))     \n",
        "# --------------------\n",
        "# Flow validation images in batches of 20 using test_datagen generator\n",
        "# --------------------\n",
        "validation_generator =  test_datagen.flow_from_directory(\"Dataset/Corn/valid\",\n",
        "                                                         batch_size=20,\n",
        "                                                         class_mode  = 'categorical',\n",
        "                                                         target_size = (224, 224))"
      ]
    },
    {
      "attachments": {},
      "cell_type": "markdown",
      "metadata": {
        "id": "_3jaO5YgU2TE"
      },
      "source": [
        "# List Resource"
      ]
    },
    {
      "cell_type": "code",
      "execution_count": 6,
      "metadata": {
        "colab": {
          "base_uri": "https://localhost:8080/"
        },
        "id": "SGemCaxnU2TF",
        "outputId": "020724e8-fb4c-4c24-d34a-87da6b67b3dc",
        "tags": []
      },
      "outputs": [
        {
          "name": "stdout",
          "output_type": "stream",
          "text": [
            "Mon May 29 16:24:23 2023       \n",
            "+---------------------------------------------------------------------------------------+\n",
            "| NVIDIA-SMI 532.03                 Driver Version: 532.03       CUDA Version: 12.1     |\n",
            "|-----------------------------------------+----------------------+----------------------+\n",
            "| GPU  Name                      TCC/WDDM | Bus-Id        Disp.A | Volatile Uncorr. ECC |\n",
            "| Fan  Temp  Perf            Pwr:Usage/Cap|         Memory-Usage | GPU-Util  Compute M. |\n",
            "|                                         |                      |               MIG M. |\n",
            "|=========================================+======================+======================|\n",
            "|   0  NVIDIA GeForce RTX 3060 L...  WDDM | 00000000:01:00.0  On |                  N/A |\n",
            "| N/A   55C    P0               32W /  N/A|   5856MiB /  6144MiB |     10%      Default |\n",
            "|                                         |                      |                  N/A |\n",
            "+-----------------------------------------+----------------------+----------------------+\n",
            "                                                                                         \n",
            "+---------------------------------------------------------------------------------------+\n",
            "| Processes:                                                                            |\n",
            "|  GPU   GI   CI        PID   Type   Process name                            GPU Memory |\n",
            "|        ID   ID                                                             Usage      |\n",
            "|=======================================================================================|\n",
            "|    0   N/A  N/A      7056    C+G   ...5n1h2txyewy\\ShellExperienceHost.exe    N/A      |\n",
            "|    0   N/A  N/A      8048    C+G   ...n\\AppData\\Roaming\\Zoom\\bin\\Zoom.exe    N/A      |\n",
            "|    0   N/A  N/A      8320    C+G   ...oogle\\Chrome\\Application\\chrome.exe    N/A      |\n",
            "|    0   N/A  N/A     10208    C+G   C:\\WINDOWS\\explorer.exe                   N/A      |\n",
            "|    0   N/A  N/A     10264    C+G   ...on\\113.0.1774.57\\msedgewebview2.exe    N/A      |\n",
            "|    0   N/A  N/A     12144    C+G   ...2txyewy\\StartMenuExperienceHost.exe    N/A      |\n",
            "|    0   N/A  N/A     12176    C+G   ...nt.CBS_cw5n1h2txyewy\\SearchHost.exe    N/A      |\n",
            "|    0   N/A  N/A     13936    C+G   ...x64__qmba6cd70vzyy\\ArmouryCrate.exe    N/A      |\n",
            "|    0   N/A  N/A     14852    C+G   ...ekyb3d8bbwe\\PhoneExperienceHost.exe    N/A      |\n",
            "|    0   N/A  N/A     15036    C+G   ...siveControlPanel\\SystemSettings.exe    N/A      |\n",
            "|    0   N/A  N/A     15528    C+G   ...t.LockApp_cw5n1h2txyewy\\LockApp.exe    N/A      |\n",
            "|    0   N/A  N/A     15828    C+G   ...1.0_x64__8wekyb3d8bbwe\\Video.UI.exe    N/A      |\n",
            "|    0   N/A  N/A     16852    C+G   ...les\\Microsoft OneDrive\\OneDrive.exe    N/A      |\n",
            "|    0   N/A  N/A     17504    C+G   ...les\\Microsoft OneDrive\\OneDrive.exe    N/A      |\n",
            "|    0   N/A  N/A     18000      C   ...envs\\tensorflow_gpu_zein\\python.exe    N/A      |\n",
            "|    0   N/A  N/A     19624    C+G   ...les\\AMD\\CNext\\CNext\\AMDRSSrcExt.exe    N/A      |\n",
            "|    0   N/A  N/A     19696    C+G   ...7.0_x64__cv1g1gvanyjgm\\WhatsApp.exe    N/A      |\n",
            "|    0   N/A  N/A     19924    C+G   ...\\AMD\\CNext\\CNext\\RadeonSoftware.exe    N/A      |\n",
            "|    0   N/A  N/A     20244    C+G   ...64__v826wp6bftszj\\TranslucentTB.exe    N/A      |\n",
            "|    0   N/A  N/A     21664      C   ...envs\\tensorflow_gpu_zein\\python.exe    N/A      |\n",
            "|    0   N/A  N/A     25972    C+G   ...on\\113.0.1774.57\\msedgewebview2.exe    N/A      |\n",
            "|    0   N/A  N/A     26548    C+G   ...GeForce Experience\\NVIDIA Share.exe    N/A      |\n",
            "|    0   N/A  N/A     31128    C+G   ...Programs\\Microsoft VS Code\\Code.exe    N/A      |\n",
            "|    0   N/A  N/A     31400    C+G   ...02.0_x86__zpdnekdrzrea0\\Spotify.exe    N/A      |\n",
            "+---------------------------------------------------------------------------------------+\n"
          ]
        }
      ],
      "source": [
        "# Check GPU\n",
        "!nvidia-smi"
      ]
    },
    {
      "cell_type": "code",
      "execution_count": 7,
      "metadata": {
        "colab": {
          "base_uri": "https://localhost:8080/"
        },
        "id": "FSapZ74PU2TF",
        "outputId": "b043a136-797d-4f99-d3c3-111ab7da1c08",
        "tags": []
      },
      "outputs": [
        {
          "data": {
            "text/plain": [
              "[PhysicalDevice(name='/physical_device:GPU:0', device_type='GPU')]"
            ]
          },
          "execution_count": 7,
          "metadata": {},
          "output_type": "execute_result"
        }
      ],
      "source": [
        "# Lis physical devices\n",
        "devices = tf.config.experimental.list_physical_devices(\"GPU\")\n",
        "devices"
      ]
    },
    {
      "cell_type": "code",
      "execution_count": 8,
      "metadata": {
        "id": "A8WtBtBaU2TG",
        "tags": []
      },
      "outputs": [
        {
          "name": "stdout",
          "output_type": "stream",
          "text": [
            "INFO:tensorflow:Using MirroredStrategy with devices ('/job:localhost/replica:0/task:0/device:GPU:0',)\n"
          ]
        }
      ],
      "source": [
        "# Define the GPU strategy\n",
        "mirrored_strategy = tf.distribute.MirroredStrategy(devices=[\"/gpu:0\"])"
      ]
    },
    {
      "attachments": {},
      "cell_type": "markdown",
      "metadata": {
        "id": "Vqr_uGTNU2TG"
      },
      "source": [
        "# Modelling With Augmentation"
      ]
    },
    {
      "attachments": {},
      "cell_type": "markdown",
      "metadata": {
        "id": "w4Wzh6ZyU2TH"
      },
      "source": [
        "## MobileNetV2 Model 1"
      ]
    },
    {
      "cell_type": "code",
      "execution_count": 9,
      "metadata": {
        "id": "uUqYGBfRU2TH",
        "tags": []
      },
      "outputs": [],
      "source": [
        "# Difine the callbacks\n",
        "# Save the best model\n",
        "checkpoint_callback = ModelCheckpoint(filepath=\"Corn_MobileNetV2_model1_Based_Augmented\", save_best_only=True, monitor=\"val_accuracy\", mode=\"max\", verbose=1)\n",
        "\n",
        "# Early stopping\n",
        "early_stopping_callback = EarlyStopping(monitor=\"val_accuracy\", mode=\"max\", patience=20, verbose=1, restore_best_weights=True)\n",
        "\n",
        "# Reduce learning rate\n",
        "reduce_lr_callback = ReduceLROnPlateau(monitor=\"val_loss\", factor=0.1, patience=5, verbose=1, mode=\"min\", min_delta=0.0001, cooldown=0, min_lr=0)\n",
        "\n",
        "# Callbacks list\n",
        "callbacks=[checkpoint_callback, early_stopping_callback, reduce_lr_callback]"
      ]
    },
    {
      "cell_type": "code",
      "execution_count": 10,
      "metadata": {
        "colab": {
          "base_uri": "https://localhost:8080/"
        },
        "id": "BQHFs3gSU2TI",
        "outputId": "827ef6ba-14f5-4672-9e89-44f580c9a1b1",
        "tags": []
      },
      "outputs": [
        {
          "name": "stdout",
          "output_type": "stream",
          "text": [
            "Model: \"sequential\"\n",
            "_________________________________________________________________\n",
            " Layer (type)                Output Shape              Param #   \n",
            "=================================================================\n",
            " mobilenetv2_1.00_224 (Funct  (None, 7, 7, 1280)       2257984   \n",
            " ional)                                                          \n",
            "                                                                 \n",
            " global_max_pooling2d (Globa  (None, 1280)             0         \n",
            " lMaxPooling2D)                                                  \n",
            "                                                                 \n",
            " dropout (Dropout)           (None, 1280)              0         \n",
            "                                                                 \n",
            " dense (Dense)               (None, 256)               327936    \n",
            "                                                                 \n",
            " dense_1 (Dense)             (None, 4)                 1028      \n",
            "                                                                 \n",
            "=================================================================\n",
            "Total params: 2,586,948\n",
            "Trainable params: 2,552,836\n",
            "Non-trainable params: 34,112\n",
            "_________________________________________________________________\n"
          ]
        }
      ],
      "source": [
        "# Define DIY Model\n",
        "MobileNetV2_model = tf.keras.models.Sequential([\n",
        "    # MobileNetV2 Layer\n",
        "    MobileNetV2(include_top=False,weights='imagenet',input_shape=(224, 224, 3)),\n",
        "    # Global Max Pooling Layer\n",
        "    tf.keras.layers.GlobalMaxPooling2D(),\n",
        "    # Drop Out Layer\n",
        "    tf.keras.layers.Dropout(0.2),\n",
        "    # 256 neuron hidden layer\n",
        "    tf.keras.layers.Dense(256, activation='relu'),\n",
        "    # Output\n",
        "    tf.keras.layers.Dense(4, activation='softmax') \n",
        "  ])\n",
        "\n",
        "\n",
        "# Compile Model\n",
        "MobileNetV2_model.compile(loss='categorical_crossentropy',optimizer=tf.keras.optimizers.Adam(), metrics=['accuracy']) \n",
        "\n",
        "# Model Summary\n",
        "MobileNetV2_model.summary()"
      ]
    },
    {
      "cell_type": "code",
      "execution_count": 11,
      "metadata": {
        "colab": {
          "base_uri": "https://localhost:8080/"
        },
        "id": "6coN3TKhU2TI",
        "outputId": "c8627e65-ab10-46ce-d2db-73e7ea1bb444",
        "tags": []
      },
      "outputs": [
        {
          "name": "stdout",
          "output_type": "stream",
          "text": [
            "Epoch 1/100\n",
            "384/384 [==============================] - ETA: 0s - loss: 0.5104 - accuracy: 0.8789\n",
            "Epoch 1: val_accuracy improved from -inf to 0.87817, saving model to Corn_MobileNetV2_model1_Based_Augmented\n"
          ]
        },
        {
          "name": "stderr",
          "output_type": "stream",
          "text": [
            "WARNING:absl:Function `_wrapped_model` contains input name(s) mobilenetv2_1.00_224_input with unsupported characters which will be renamed to mobilenetv2_1_00_224_input in the SavedModel.\n",
            "WARNING:absl:Found untraced functions such as _jit_compiled_convolution_op, _jit_compiled_convolution_op, _jit_compiled_convolution_op, _jit_compiled_convolution_op, _jit_compiled_convolution_op while saving (showing 5 of 52). These functions will not be directly callable after loading.\n"
          ]
        },
        {
          "name": "stdout",
          "output_type": "stream",
          "text": [
            "INFO:tensorflow:Assets written to: Corn_MobileNetV2_model1_Based_Augmented\\assets\n"
          ]
        },
        {
          "name": "stderr",
          "output_type": "stream",
          "text": [
            "INFO:tensorflow:Assets written to: Corn_MobileNetV2_model1_Based_Augmented\\assets\n"
          ]
        },
        {
          "name": "stdout",
          "output_type": "stream",
          "text": [
            "384/384 [==============================] - 105s 246ms/step - loss: 0.5104 - accuracy: 0.8789 - val_loss: 0.4084 - val_accuracy: 0.8782 - lr: 0.0010\n",
            "Epoch 2/100\n",
            "384/384 [==============================] - ETA: 0s - loss: 0.2064 - accuracy: 0.9275\n",
            "Epoch 2: val_accuracy improved from 0.87817 to 0.91429, saving model to Corn_MobileNetV2_model1_Based_Augmented\n"
          ]
        },
        {
          "name": "stderr",
          "output_type": "stream",
          "text": [
            "WARNING:absl:Function `_wrapped_model` contains input name(s) mobilenetv2_1.00_224_input with unsupported characters which will be renamed to mobilenetv2_1_00_224_input in the SavedModel.\n",
            "WARNING:absl:Found untraced functions such as _jit_compiled_convolution_op, _jit_compiled_convolution_op, _jit_compiled_convolution_op, _jit_compiled_convolution_op, _jit_compiled_convolution_op while saving (showing 5 of 52). These functions will not be directly callable after loading.\n"
          ]
        },
        {
          "name": "stdout",
          "output_type": "stream",
          "text": [
            "INFO:tensorflow:Assets written to: Corn_MobileNetV2_model1_Based_Augmented\\assets\n"
          ]
        },
        {
          "name": "stderr",
          "output_type": "stream",
          "text": [
            "INFO:tensorflow:Assets written to: Corn_MobileNetV2_model1_Based_Augmented\\assets\n"
          ]
        },
        {
          "name": "stdout",
          "output_type": "stream",
          "text": [
            "384/384 [==============================] - 87s 225ms/step - loss: 0.2064 - accuracy: 0.9275 - val_loss: 0.2679 - val_accuracy: 0.9143 - lr: 0.0010\n",
            "Epoch 3/100\n",
            "384/384 [==============================] - ETA: 0s - loss: 0.1678 - accuracy: 0.9438\n",
            "Epoch 3: val_accuracy did not improve from 0.91429\n",
            "384/384 [==============================] - 72s 186ms/step - loss: 0.1678 - accuracy: 0.9438 - val_loss: 1.0694 - val_accuracy: 0.7423 - lr: 0.0010\n",
            "Epoch 4/100\n",
            "384/384 [==============================] - ETA: 0s - loss: 0.1497 - accuracy: 0.9504\n",
            "Epoch 4: val_accuracy did not improve from 0.91429\n",
            "384/384 [==============================] - 74s 192ms/step - loss: 0.1497 - accuracy: 0.9504 - val_loss: 0.8947 - val_accuracy: 0.8086 - lr: 0.0010\n",
            "Epoch 5/100\n",
            "384/384 [==============================] - ETA: 0s - loss: 0.1357 - accuracy: 0.9511\n",
            "Epoch 5: val_accuracy improved from 0.91429 to 0.92237, saving model to Corn_MobileNetV2_model1_Based_Augmented\n"
          ]
        },
        {
          "name": "stderr",
          "output_type": "stream",
          "text": [
            "WARNING:absl:Function `_wrapped_model` contains input name(s) mobilenetv2_1.00_224_input with unsupported characters which will be renamed to mobilenetv2_1_00_224_input in the SavedModel.\n",
            "WARNING:absl:Found untraced functions such as _jit_compiled_convolution_op, _jit_compiled_convolution_op, _jit_compiled_convolution_op, _jit_compiled_convolution_op, _jit_compiled_convolution_op while saving (showing 5 of 52). These functions will not be directly callable after loading.\n"
          ]
        },
        {
          "name": "stdout",
          "output_type": "stream",
          "text": [
            "INFO:tensorflow:Assets written to: Corn_MobileNetV2_model1_Based_Augmented\\assets\n"
          ]
        },
        {
          "name": "stderr",
          "output_type": "stream",
          "text": [
            "INFO:tensorflow:Assets written to: Corn_MobileNetV2_model1_Based_Augmented\\assets\n"
          ]
        },
        {
          "name": "stdout",
          "output_type": "stream",
          "text": [
            "384/384 [==============================] - 93s 242ms/step - loss: 0.1357 - accuracy: 0.9511 - val_loss: 0.2242 - val_accuracy: 0.9224 - lr: 0.0010\n",
            "Epoch 6/100\n",
            "384/384 [==============================] - ETA: 0s - loss: 0.1398 - accuracy: 0.9529\n",
            "Epoch 6: val_accuracy did not improve from 0.92237\n",
            "384/384 [==============================] - 77s 199ms/step - loss: 0.1398 - accuracy: 0.9529 - val_loss: 0.2555 - val_accuracy: 0.8550 - lr: 0.0010\n",
            "Epoch 7/100\n",
            "384/384 [==============================] - ETA: 0s - loss: 0.1349 - accuracy: 0.9533\n",
            "Epoch 7: val_accuracy did not improve from 0.92237\n",
            "384/384 [==============================] - 76s 196ms/step - loss: 0.1349 - accuracy: 0.9533 - val_loss: 0.5107 - val_accuracy: 0.8167 - lr: 0.0010\n",
            "Epoch 8/100\n",
            "384/384 [==============================] - ETA: 0s - loss: 0.1455 - accuracy: 0.9500\n",
            "Epoch 8: val_accuracy improved from 0.92237 to 0.92830, saving model to Corn_MobileNetV2_model1_Based_Augmented\n"
          ]
        },
        {
          "name": "stderr",
          "output_type": "stream",
          "text": [
            "WARNING:absl:Function `_wrapped_model` contains input name(s) mobilenetv2_1.00_224_input with unsupported characters which will be renamed to mobilenetv2_1_00_224_input in the SavedModel.\n",
            "WARNING:absl:Found untraced functions such as _jit_compiled_convolution_op, _jit_compiled_convolution_op, _jit_compiled_convolution_op, _jit_compiled_convolution_op, _jit_compiled_convolution_op while saving (showing 5 of 52). These functions will not be directly callable after loading.\n"
          ]
        },
        {
          "name": "stdout",
          "output_type": "stream",
          "text": [
            "INFO:tensorflow:Assets written to: Corn_MobileNetV2_model1_Based_Augmented\\assets\n"
          ]
        },
        {
          "name": "stderr",
          "output_type": "stream",
          "text": [
            "INFO:tensorflow:Assets written to: Corn_MobileNetV2_model1_Based_Augmented\\assets\n"
          ]
        },
        {
          "name": "stdout",
          "output_type": "stream",
          "text": [
            "384/384 [==============================] - 92s 239ms/step - loss: 0.1455 - accuracy: 0.9500 - val_loss: 0.1749 - val_accuracy: 0.9283 - lr: 0.0010\n",
            "Epoch 9/100\n",
            "384/384 [==============================] - ETA: 0s - loss: 0.1325 - accuracy: 0.9564\n",
            "Epoch 9: val_accuracy did not improve from 0.92830\n",
            "384/384 [==============================] - 77s 200ms/step - loss: 0.1325 - accuracy: 0.9564 - val_loss: 0.8578 - val_accuracy: 0.6372 - lr: 0.0010\n",
            "Epoch 10/100\n",
            "384/384 [==============================] - ETA: 0s - loss: 0.1311 - accuracy: 0.9516\n",
            "Epoch 10: val_accuracy did not improve from 0.92830\n",
            "384/384 [==============================] - 74s 192ms/step - loss: 0.1311 - accuracy: 0.9516 - val_loss: 1.1261 - val_accuracy: 0.6987 - lr: 0.0010\n",
            "Epoch 11/100\n",
            "384/384 [==============================] - ETA: 0s - loss: 0.1301 - accuracy: 0.9530\n",
            "Epoch 11: val_accuracy did not improve from 0.92830\n",
            "384/384 [==============================] - 76s 198ms/step - loss: 0.1301 - accuracy: 0.9530 - val_loss: 4.7201 - val_accuracy: 0.3332 - lr: 0.0010\n",
            "Epoch 12/100\n",
            "384/384 [==============================] - ETA: 0s - loss: 0.1424 - accuracy: 0.9515\n",
            "Epoch 12: val_accuracy did not improve from 0.92830\n",
            "384/384 [==============================] - 72s 187ms/step - loss: 0.1424 - accuracy: 0.9515 - val_loss: 3.9314 - val_accuracy: 0.3137 - lr: 0.0010\n",
            "Epoch 13/100\n",
            "384/384 [==============================] - ETA: 0s - loss: 0.1436 - accuracy: 0.9456\n",
            "Epoch 13: val_accuracy did not improve from 0.92830\n",
            "\n",
            "Epoch 13: ReduceLROnPlateau reducing learning rate to 0.00010000000474974513.\n",
            "384/384 [==============================] - 73s 191ms/step - loss: 0.1436 - accuracy: 0.9456 - val_loss: 0.4827 - val_accuracy: 0.8313 - lr: 0.0010\n",
            "Epoch 14/100\n",
            "384/384 [==============================] - ETA: 0s - loss: 0.1064 - accuracy: 0.9614\n",
            "Epoch 14: val_accuracy did not improve from 0.92830\n",
            "384/384 [==============================] - 71s 185ms/step - loss: 0.1064 - accuracy: 0.9614 - val_loss: 0.2471 - val_accuracy: 0.9073 - lr: 1.0000e-04\n",
            "Epoch 15/100\n",
            "384/384 [==============================] - ETA: 0s - loss: 0.0804 - accuracy: 0.9710\n",
            "Epoch 15: val_accuracy improved from 0.92830 to 0.94987, saving model to Corn_MobileNetV2_model1_Based_Augmented\n"
          ]
        },
        {
          "name": "stderr",
          "output_type": "stream",
          "text": [
            "WARNING:absl:Function `_wrapped_model` contains input name(s) mobilenetv2_1.00_224_input with unsupported characters which will be renamed to mobilenetv2_1_00_224_input in the SavedModel.\n",
            "WARNING:absl:Found untraced functions such as _jit_compiled_convolution_op, _jit_compiled_convolution_op, _jit_compiled_convolution_op, _jit_compiled_convolution_op, _jit_compiled_convolution_op while saving (showing 5 of 52). These functions will not be directly callable after loading.\n"
          ]
        },
        {
          "name": "stdout",
          "output_type": "stream",
          "text": [
            "INFO:tensorflow:Assets written to: Corn_MobileNetV2_model1_Based_Augmented\\assets\n"
          ]
        },
        {
          "name": "stderr",
          "output_type": "stream",
          "text": [
            "INFO:tensorflow:Assets written to: Corn_MobileNetV2_model1_Based_Augmented\\assets\n"
          ]
        },
        {
          "name": "stdout",
          "output_type": "stream",
          "text": [
            "384/384 [==============================] - 91s 236ms/step - loss: 0.0804 - accuracy: 0.9710 - val_loss: 0.1375 - val_accuracy: 0.9499 - lr: 1.0000e-04\n",
            "Epoch 16/100\n",
            "384/384 [==============================] - ETA: 0s - loss: 0.0747 - accuracy: 0.9726\n",
            "Epoch 16: val_accuracy improved from 0.94987 to 0.95472, saving model to Corn_MobileNetV2_model1_Based_Augmented\n"
          ]
        },
        {
          "name": "stderr",
          "output_type": "stream",
          "text": [
            "WARNING:absl:Function `_wrapped_model` contains input name(s) mobilenetv2_1.00_224_input with unsupported characters which will be renamed to mobilenetv2_1_00_224_input in the SavedModel.\n",
            "WARNING:absl:Found untraced functions such as _jit_compiled_convolution_op, _jit_compiled_convolution_op, _jit_compiled_convolution_op, _jit_compiled_convolution_op, _jit_compiled_convolution_op while saving (showing 5 of 52). These functions will not be directly callable after loading.\n"
          ]
        },
        {
          "name": "stdout",
          "output_type": "stream",
          "text": [
            "INFO:tensorflow:Assets written to: Corn_MobileNetV2_model1_Based_Augmented\\assets\n"
          ]
        },
        {
          "name": "stderr",
          "output_type": "stream",
          "text": [
            "INFO:tensorflow:Assets written to: Corn_MobileNetV2_model1_Based_Augmented\\assets\n"
          ]
        },
        {
          "name": "stdout",
          "output_type": "stream",
          "text": [
            "384/384 [==============================] - 90s 232ms/step - loss: 0.0747 - accuracy: 0.9726 - val_loss: 0.1223 - val_accuracy: 0.9547 - lr: 1.0000e-04\n",
            "Epoch 17/100\n",
            "384/384 [==============================] - ETA: 0s - loss: 0.0703 - accuracy: 0.9752\n",
            "Epoch 17: val_accuracy improved from 0.95472 to 0.97628, saving model to Corn_MobileNetV2_model1_Based_Augmented\n"
          ]
        },
        {
          "name": "stderr",
          "output_type": "stream",
          "text": [
            "WARNING:absl:Function `_wrapped_model` contains input name(s) mobilenetv2_1.00_224_input with unsupported characters which will be renamed to mobilenetv2_1_00_224_input in the SavedModel.\n",
            "WARNING:absl:Found untraced functions such as _jit_compiled_convolution_op, _jit_compiled_convolution_op, _jit_compiled_convolution_op, _jit_compiled_convolution_op, _jit_compiled_convolution_op while saving (showing 5 of 52). These functions will not be directly callable after loading.\n"
          ]
        },
        {
          "name": "stdout",
          "output_type": "stream",
          "text": [
            "INFO:tensorflow:Assets written to: Corn_MobileNetV2_model1_Based_Augmented\\assets\n"
          ]
        },
        {
          "name": "stderr",
          "output_type": "stream",
          "text": [
            "INFO:tensorflow:Assets written to: Corn_MobileNetV2_model1_Based_Augmented\\assets\n"
          ]
        },
        {
          "name": "stdout",
          "output_type": "stream",
          "text": [
            "384/384 [==============================] - 90s 234ms/step - loss: 0.0703 - accuracy: 0.9752 - val_loss: 0.0698 - val_accuracy: 0.9763 - lr: 1.0000e-04\n",
            "Epoch 18/100\n",
            "384/384 [==============================] - ETA: 0s - loss: 0.0608 - accuracy: 0.9795\n",
            "Epoch 18: val_accuracy did not improve from 0.97628\n",
            "384/384 [==============================] - 76s 196ms/step - loss: 0.0608 - accuracy: 0.9795 - val_loss: 0.0751 - val_accuracy: 0.9752 - lr: 1.0000e-04\n",
            "Epoch 19/100\n",
            "384/384 [==============================] - ETA: 0s - loss: 0.0654 - accuracy: 0.9765\n",
            "Epoch 19: val_accuracy did not improve from 0.97628\n",
            "384/384 [==============================] - 102s 265ms/step - loss: 0.0654 - accuracy: 0.9765 - val_loss: 0.1292 - val_accuracy: 0.9526 - lr: 1.0000e-04\n",
            "Epoch 20/100\n",
            "384/384 [==============================] - ETA: 0s - loss: 0.0571 - accuracy: 0.9803\n",
            "Epoch 20: val_accuracy improved from 0.97628 to 0.98167, saving model to Corn_MobileNetV2_model1_Based_Augmented\n"
          ]
        },
        {
          "name": "stderr",
          "output_type": "stream",
          "text": [
            "WARNING:absl:Function `_wrapped_model` contains input name(s) mobilenetv2_1.00_224_input with unsupported characters which will be renamed to mobilenetv2_1_00_224_input in the SavedModel.\n",
            "WARNING:absl:Found untraced functions such as _jit_compiled_convolution_op, _jit_compiled_convolution_op, _jit_compiled_convolution_op, _jit_compiled_convolution_op, _jit_compiled_convolution_op while saving (showing 5 of 52). These functions will not be directly callable after loading.\n"
          ]
        },
        {
          "name": "stdout",
          "output_type": "stream",
          "text": [
            "INFO:tensorflow:Assets written to: Corn_MobileNetV2_model1_Based_Augmented\\assets\n"
          ]
        },
        {
          "name": "stderr",
          "output_type": "stream",
          "text": [
            "INFO:tensorflow:Assets written to: Corn_MobileNetV2_model1_Based_Augmented\\assets\n"
          ]
        },
        {
          "name": "stdout",
          "output_type": "stream",
          "text": [
            "384/384 [==============================] - 114s 295ms/step - loss: 0.0571 - accuracy: 0.9803 - val_loss: 0.0500 - val_accuracy: 0.9817 - lr: 1.0000e-04\n",
            "Epoch 21/100\n",
            "384/384 [==============================] - ETA: 0s - loss: 0.0551 - accuracy: 0.9808\n",
            "Epoch 21: val_accuracy did not improve from 0.98167\n",
            "384/384 [==============================] - 72s 188ms/step - loss: 0.0551 - accuracy: 0.9808 - val_loss: 0.0667 - val_accuracy: 0.9774 - lr: 1.0000e-04\n",
            "Epoch 22/100\n",
            "384/384 [==============================] - ETA: 0s - loss: 0.0523 - accuracy: 0.9812\n",
            "Epoch 22: val_accuracy did not improve from 0.98167\n",
            "384/384 [==============================] - 72s 187ms/step - loss: 0.0523 - accuracy: 0.9812 - val_loss: 0.0565 - val_accuracy: 0.9795 - lr: 1.0000e-04\n",
            "Epoch 23/100\n",
            "384/384 [==============================] - ETA: 0s - loss: 0.0499 - accuracy: 0.9816\n",
            "Epoch 23: val_accuracy did not improve from 0.98167\n",
            "384/384 [==============================] - 76s 199ms/step - loss: 0.0499 - accuracy: 0.9816 - val_loss: 0.0779 - val_accuracy: 0.9725 - lr: 1.0000e-04\n",
            "Epoch 24/100\n",
            "384/384 [==============================] - ETA: 0s - loss: 0.0472 - accuracy: 0.9830\n",
            "Epoch 24: val_accuracy improved from 0.98167 to 0.98221, saving model to Corn_MobileNetV2_model1_Based_Augmented\n"
          ]
        },
        {
          "name": "stderr",
          "output_type": "stream",
          "text": [
            "WARNING:absl:Function `_wrapped_model` contains input name(s) mobilenetv2_1.00_224_input with unsupported characters which will be renamed to mobilenetv2_1_00_224_input in the SavedModel.\n",
            "WARNING:absl:Found untraced functions such as _jit_compiled_convolution_op, _jit_compiled_convolution_op, _jit_compiled_convolution_op, _jit_compiled_convolution_op, _jit_compiled_convolution_op while saving (showing 5 of 52). These functions will not be directly callable after loading.\n"
          ]
        },
        {
          "name": "stdout",
          "output_type": "stream",
          "text": [
            "INFO:tensorflow:Assets written to: Corn_MobileNetV2_model1_Based_Augmented\\assets\n"
          ]
        },
        {
          "name": "stderr",
          "output_type": "stream",
          "text": [
            "INFO:tensorflow:Assets written to: Corn_MobileNetV2_model1_Based_Augmented\\assets\n"
          ]
        },
        {
          "name": "stdout",
          "output_type": "stream",
          "text": [
            "384/384 [==============================] - 89s 231ms/step - loss: 0.0472 - accuracy: 0.9830 - val_loss: 0.0488 - val_accuracy: 0.9822 - lr: 1.0000e-04\n",
            "Epoch 25/100\n",
            "384/384 [==============================] - ETA: 0s - loss: 0.0489 - accuracy: 0.9825\n",
            "Epoch 25: val_accuracy did not improve from 0.98221\n",
            "384/384 [==============================] - 73s 189ms/step - loss: 0.0489 - accuracy: 0.9825 - val_loss: 0.0485 - val_accuracy: 0.9811 - lr: 1.0000e-04\n",
            "Epoch 26/100\n",
            "384/384 [==============================] - ETA: 0s - loss: 0.0440 - accuracy: 0.9842\n",
            "Epoch 26: val_accuracy did not improve from 0.98221\n",
            "384/384 [==============================] - 70s 182ms/step - loss: 0.0440 - accuracy: 0.9842 - val_loss: 0.0663 - val_accuracy: 0.9779 - lr: 1.0000e-04\n",
            "Epoch 27/100\n",
            "384/384 [==============================] - ETA: 0s - loss: 0.0414 - accuracy: 0.9838\n",
            "Epoch 27: val_accuracy improved from 0.98221 to 0.98544, saving model to Corn_MobileNetV2_model1_Based_Augmented\n"
          ]
        },
        {
          "name": "stderr",
          "output_type": "stream",
          "text": [
            "WARNING:absl:Function `_wrapped_model` contains input name(s) mobilenetv2_1.00_224_input with unsupported characters which will be renamed to mobilenetv2_1_00_224_input in the SavedModel.\n",
            "WARNING:absl:Found untraced functions such as _jit_compiled_convolution_op, _jit_compiled_convolution_op, _jit_compiled_convolution_op, _jit_compiled_convolution_op, _jit_compiled_convolution_op while saving (showing 5 of 52). These functions will not be directly callable after loading.\n"
          ]
        },
        {
          "name": "stdout",
          "output_type": "stream",
          "text": [
            "INFO:tensorflow:Assets written to: Corn_MobileNetV2_model1_Based_Augmented\\assets\n"
          ]
        },
        {
          "name": "stderr",
          "output_type": "stream",
          "text": [
            "INFO:tensorflow:Assets written to: Corn_MobileNetV2_model1_Based_Augmented\\assets\n"
          ]
        },
        {
          "name": "stdout",
          "output_type": "stream",
          "text": [
            "384/384 [==============================] - 89s 231ms/step - loss: 0.0414 - accuracy: 0.9838 - val_loss: 0.0573 - val_accuracy: 0.9854 - lr: 1.0000e-04\n",
            "Epoch 28/100\n",
            "384/384 [==============================] - ETA: 0s - loss: 0.0444 - accuracy: 0.9845\n",
            "Epoch 28: val_accuracy did not improve from 0.98544\n",
            "384/384 [==============================] - 71s 185ms/step - loss: 0.0444 - accuracy: 0.9845 - val_loss: 0.0475 - val_accuracy: 0.9838 - lr: 1.0000e-04\n",
            "Epoch 29/100\n",
            "384/384 [==============================] - ETA: 0s - loss: 0.0388 - accuracy: 0.9847\n",
            "Epoch 29: val_accuracy did not improve from 0.98544\n",
            "384/384 [==============================] - 72s 188ms/step - loss: 0.0388 - accuracy: 0.9847 - val_loss: 0.0690 - val_accuracy: 0.9757 - lr: 1.0000e-04\n",
            "Epoch 30/100\n",
            "384/384 [==============================] - ETA: 0s - loss: 0.0362 - accuracy: 0.9873\n",
            "Epoch 30: val_accuracy did not improve from 0.98544\n",
            "384/384 [==============================] - 70s 183ms/step - loss: 0.0362 - accuracy: 0.9873 - val_loss: 0.0627 - val_accuracy: 0.9752 - lr: 1.0000e-04\n",
            "Epoch 31/100\n",
            "384/384 [==============================] - ETA: 0s - loss: 0.0394 - accuracy: 0.9841\n",
            "Epoch 31: val_accuracy did not improve from 0.98544\n",
            "384/384 [==============================] - 75s 195ms/step - loss: 0.0394 - accuracy: 0.9841 - val_loss: 0.0440 - val_accuracy: 0.9827 - lr: 1.0000e-04\n",
            "Epoch 32/100\n",
            "384/384 [==============================] - ETA: 0s - loss: 0.0396 - accuracy: 0.9864\n",
            "Epoch 32: val_accuracy did not improve from 0.98544\n",
            "384/384 [==============================] - 74s 192ms/step - loss: 0.0396 - accuracy: 0.9864 - val_loss: 0.0563 - val_accuracy: 0.9779 - lr: 1.0000e-04\n",
            "Epoch 33/100\n",
            "384/384 [==============================] - ETA: 0s - loss: 0.0383 - accuracy: 0.9851\n",
            "Epoch 33: val_accuracy did not improve from 0.98544\n",
            "384/384 [==============================] - 71s 185ms/step - loss: 0.0383 - accuracy: 0.9851 - val_loss: 0.0610 - val_accuracy: 0.9795 - lr: 1.0000e-04\n",
            "Epoch 34/100\n",
            "384/384 [==============================] - ETA: 0s - loss: 0.0348 - accuracy: 0.9876\n",
            "Epoch 34: val_accuracy did not improve from 0.98544\n",
            "384/384 [==============================] - 74s 192ms/step - loss: 0.0348 - accuracy: 0.9876 - val_loss: 0.0902 - val_accuracy: 0.9704 - lr: 1.0000e-04\n",
            "Epoch 35/100\n",
            "384/384 [==============================] - ETA: 0s - loss: 0.0342 - accuracy: 0.9897\n",
            "Epoch 35: val_accuracy did not improve from 0.98544\n",
            "384/384 [==============================] - 75s 194ms/step - loss: 0.0342 - accuracy: 0.9897 - val_loss: 0.0411 - val_accuracy: 0.9854 - lr: 1.0000e-04\n",
            "Epoch 36/100\n",
            "384/384 [==============================] - ETA: 0s - loss: 0.0316 - accuracy: 0.9897\n",
            "Epoch 36: val_accuracy did not improve from 0.98544\n",
            "384/384 [==============================] - 72s 188ms/step - loss: 0.0316 - accuracy: 0.9897 - val_loss: 0.0479 - val_accuracy: 0.9844 - lr: 1.0000e-04\n",
            "Epoch 37/100\n",
            "384/384 [==============================] - ETA: 0s - loss: 0.0322 - accuracy: 0.9889\n",
            "Epoch 37: val_accuracy did not improve from 0.98544\n",
            "384/384 [==============================] - 73s 191ms/step - loss: 0.0322 - accuracy: 0.9889 - val_loss: 0.0954 - val_accuracy: 0.9687 - lr: 1.0000e-04\n",
            "Epoch 38/100\n",
            "384/384 [==============================] - ETA: 0s - loss: 0.0293 - accuracy: 0.9892\n",
            "Epoch 38: val_accuracy did not improve from 0.98544\n",
            "384/384 [==============================] - 71s 183ms/step - loss: 0.0293 - accuracy: 0.9892 - val_loss: 0.0673 - val_accuracy: 0.9763 - lr: 1.0000e-04\n",
            "Epoch 39/100\n",
            "384/384 [==============================] - ETA: 0s - loss: 0.0235 - accuracy: 0.9910\n",
            "Epoch 39: val_accuracy did not improve from 0.98544\n",
            "384/384 [==============================] - 72s 188ms/step - loss: 0.0235 - accuracy: 0.9910 - val_loss: 0.0818 - val_accuracy: 0.9779 - lr: 1.0000e-04\n",
            "Epoch 40/100\n",
            "384/384 [==============================] - ETA: 0s - loss: 0.0309 - accuracy: 0.9897\n",
            "Epoch 40: val_accuracy did not improve from 0.98544\n",
            "\n",
            "Epoch 40: ReduceLROnPlateau reducing learning rate to 1.0000000474974514e-05.\n",
            "384/384 [==============================] - 71s 185ms/step - loss: 0.0309 - accuracy: 0.9897 - val_loss: 0.1077 - val_accuracy: 0.9639 - lr: 1.0000e-04\n",
            "Epoch 41/100\n",
            "384/384 [==============================] - ETA: 0s - loss: 0.0224 - accuracy: 0.9930\n",
            "Epoch 41: val_accuracy did not improve from 0.98544\n",
            "384/384 [==============================] - 76s 199ms/step - loss: 0.0224 - accuracy: 0.9930 - val_loss: 0.0574 - val_accuracy: 0.9817 - lr: 1.0000e-05\n",
            "Epoch 42/100\n",
            "384/384 [==============================] - ETA: 0s - loss: 0.0248 - accuracy: 0.9917\n",
            "Epoch 42: val_accuracy did not improve from 0.98544\n",
            "384/384 [==============================] - 72s 187ms/step - loss: 0.0248 - accuracy: 0.9917 - val_loss: 0.0521 - val_accuracy: 0.9827 - lr: 1.0000e-05\n",
            "Epoch 43/100\n",
            "384/384 [==============================] - ETA: 0s - loss: 0.0233 - accuracy: 0.9920\n",
            "Epoch 43: val_accuracy did not improve from 0.98544\n",
            "384/384 [==============================] - 73s 190ms/step - loss: 0.0233 - accuracy: 0.9920 - val_loss: 0.0474 - val_accuracy: 0.9849 - lr: 1.0000e-05\n",
            "Epoch 44/100\n",
            "384/384 [==============================] - ETA: 0s - loss: 0.0188 - accuracy: 0.9931\n",
            "Epoch 44: val_accuracy did not improve from 0.98544\n",
            "384/384 [==============================] - 73s 189ms/step - loss: 0.0188 - accuracy: 0.9931 - val_loss: 0.0471 - val_accuracy: 0.9849 - lr: 1.0000e-05\n",
            "Epoch 45/100\n",
            "384/384 [==============================] - ETA: 0s - loss: 0.0210 - accuracy: 0.9930\n",
            "Epoch 45: val_accuracy did not improve from 0.98544\n",
            "\n",
            "Epoch 45: ReduceLROnPlateau reducing learning rate to 1.0000000656873453e-06.\n",
            "384/384 [==============================] - 84s 219ms/step - loss: 0.0210 - accuracy: 0.9930 - val_loss: 0.0515 - val_accuracy: 0.9827 - lr: 1.0000e-05\n",
            "Epoch 46/100\n",
            "384/384 [==============================] - ETA: 0s - loss: 0.0208 - accuracy: 0.9930\n",
            "Epoch 46: val_accuracy did not improve from 0.98544\n",
            "384/384 [==============================] - 73s 190ms/step - loss: 0.0208 - accuracy: 0.9930 - val_loss: 0.0494 - val_accuracy: 0.9838 - lr: 1.0000e-06\n",
            "Epoch 47/100\n",
            "384/384 [==============================] - ETA: 0s - loss: 0.0165 - accuracy: 0.9945\n",
            "Epoch 47: val_accuracy did not improve from 0.98544\n",
            "Restoring model weights from the end of the best epoch: 27.\n",
            "384/384 [==============================] - 76s 197ms/step - loss: 0.0165 - accuracy: 0.9945 - val_loss: 0.0489 - val_accuracy: 0.9838 - lr: 1.0000e-06\n",
            "Epoch 47: early stopping\n"
          ]
        }
      ],
      "source": [
        "# Define the number of epochs\n",
        "num_epochs = 100\n",
        "\n",
        "# Train the model\n",
        "history_MobileNetV2_model_1 = MobileNetV2_model.fit(train_generator, epochs=num_epochs, validation_data=validation_generator, callbacks=callbacks)"
      ]
    },
    {
      "cell_type": "code",
      "execution_count": 12,
      "metadata": {
        "colab": {
          "base_uri": "https://localhost:8080/",
          "height": 904
        },
        "id": "lvS9xz3LU2TI",
        "outputId": "82006e9e-cc48-4ba8-d467-fa68335be1e2",
        "tags": []
      },
      "outputs": [
        {
          "data": {
            "text/plain": [
              "<matplotlib.legend.Legend at 0x2687818ef80>"
            ]
          },
          "execution_count": 12,
          "metadata": {},
          "output_type": "execute_result"
        },
        {
          "data": {
            "image/png": "[encoded data removed]",
            "text/plain": [
              "<Figure size 640x480 with 1 Axes>"
            ]
          },
          "metadata": {},
          "output_type": "display_data"
        },
        {
          "data": {
            "image/png": "[encoded data removed]",
            "text/plain": [
              "<Figure size 640x480 with 1 Axes>"
            ]
          },
          "metadata": {},
          "output_type": "display_data"
        }
      ],
      "source": [
        "#-----------------------------------------------------------\n",
        "# Retrieve a list of list results on training and test data\n",
        "# sets for each training epoch\n",
        "#-----------------------------------------------------------\n",
        "acc      = history_MobileNetV2_model_1.history['accuracy' ]\n",
        "val_acc  = history_MobileNetV2_model_1.history['val_accuracy' ]\n",
        "loss     = history_MobileNetV2_model_1.history['loss' ]\n",
        "val_loss = history_MobileNetV2_model_1.history['val_loss' ]\n",
        "\n",
        "epochs   = range(len(acc)) # Get number of epochs\n",
        "\n",
        "#------------------------------------------------\n",
        "# Plot training and validation accuracy per epoch\n",
        "#------------------------------------------------\n",
        "plt.plot  (epochs, acc )\n",
        "plt.plot  (epochs, val_acc )\n",
        "plt.title ('Training and validation accuracy MobileNetV2 Model 1')\n",
        "plt.legend(['train', 'val'], loc='upper left')\n",
        "plt.figure()\n",
        "\n",
        "#------------------------------------------------\n",
        "# Plot training and validation loss per epoch\n",
        "#------------------------------------------------\n",
        "plt.plot  (epochs, loss)\n",
        "plt.plot  (epochs, val_loss)\n",
        "plt.title ('Training and validation loss MobileNetV2 Model 1')\n",
        "plt.legend(['train', 'val'], loc='upper left')"
      ]
    },
    {
      "attachments": {},
      "cell_type": "markdown",
      "metadata": {
        "id": "SvQOR9IuU2TJ"
      },
      "source": [
        "## MobileNetV2 Model 2"
      ]
    },
    {
      "cell_type": "code",
      "execution_count": 6,
      "metadata": {
        "id": "Tj7lcdvUU2TJ",
        "tags": []
      },
      "outputs": [],
      "source": [
        "# Difine the callbacks\n",
        "# Save the best model\n",
        "checkpoint_callback = ModelCheckpoint(filepath=\"Corn_MobileNetV2_model2_Based_Augmented\", save_best_only=True, monitor=\"val_accuracy\", mode=\"max\", verbose=1)\n",
        "\n",
        "# Early stopping\n",
        "early_stopping_callback = EarlyStopping(monitor=\"val_accuracy\", mode=\"max\", patience=20, verbose=1, restore_best_weights=True)\n",
        "\n",
        "# Reduce learning rate\n",
        "reduce_lr_callback = ReduceLROnPlateau(monitor=\"val_loss\", factor=0.1, patience=5, verbose=1, mode=\"min\", min_delta=0.0001, cooldown=0, min_lr=0)\n",
        "\n",
        "# Callbacks list\n",
        "callbacks=[checkpoint_callback, early_stopping_callback, reduce_lr_callback]"
      ]
    },
    {
      "cell_type": "code",
      "execution_count": 7,
      "metadata": {
        "colab": {
          "base_uri": "https://localhost:8080/"
        },
        "id": "7NKPY1xGU2TJ",
        "outputId": "33e21089-b139-40da-9c65-6897626f2c85",
        "tags": []
      },
      "outputs": [
        {
          "name": "stdout",
          "output_type": "stream",
          "text": [
            "Model: \"sequential\"\n",
            "_________________________________________________________________\n",
            " Layer (type)                Output Shape              Param #   \n",
            "=================================================================\n",
            " mobilenetv2_1.00_224 (Funct  (None, 7, 7, 1280)       2257984   \n",
            " ional)                                                          \n",
            "                                                                 \n",
            " global_average_pooling2d (G  (None, 1280)             0         \n",
            " lobalAveragePooling2D)                                          \n",
            "                                                                 \n",
            " dropout (Dropout)           (None, 1280)              0         \n",
            "                                                                 \n",
            " dense (Dense)               (None, 256)               327936    \n",
            "                                                                 \n",
            " dense_1 (Dense)             (None, 4)                 1028      \n",
            "                                                                 \n",
            "=================================================================\n",
            "Total params: 2,586,948\n",
            "Trainable params: 2,552,836\n",
            "Non-trainable params: 34,112\n",
            "_________________________________________________________________\n"
          ]
        }
      ],
      "source": [
        "# Define DIY Model\n",
        "MobileNetV2_model_2 = tf.keras.models.Sequential([\n",
        "    # MobileNetV2 Layer\n",
        "    MobileNetV2(include_top=False,weights='imagenet',input_shape=(224, 224, 3)),\n",
        "    # Global Average Pooling Layer\n",
        "    tf.keras.layers.GlobalAveragePooling2D(),\n",
        "    # Drop Out Layer\n",
        "    tf.keras.layers.Dropout(0.2),\n",
        "    # 256 neuron hidden layer\n",
        "    tf.keras.layers.Dense(256, activation='relu'),\n",
        "    # Output\n",
        "    tf.keras.layers.Dense(4, activation='softmax') \n",
        "  ])\n",
        "\n",
        "\n",
        "# Compile Model\n",
        "MobileNetV2_model_2.compile(loss='categorical_crossentropy',optimizer=tf.keras.optimizers.Adam(), metrics=['accuracy']) \n",
        "\n",
        "# Model Summary\n",
        "MobileNetV2_model_2.summary()"
      ]
    },
    {
      "cell_type": "code",
      "execution_count": 8,
      "metadata": {
        "colab": {
          "base_uri": "https://localhost:8080/"
        },
        "id": "6beuexC9U2TJ",
        "outputId": "76471469-de2f-4c27-d296-22576a264622",
        "tags": []
      },
      "outputs": [
        {
          "name": "stdout",
          "output_type": "stream",
          "text": [
            "Epoch 1/100\n",
            "384/384 [==============================] - ETA: 0s - loss: 0.3161 - accuracy: 0.8874\n",
            "Epoch 1: val_accuracy improved from -inf to 0.31590, saving model to Corn_MobileNetV2_model2_Based_Augmented\n"
          ]
        },
        {
          "name": "stderr",
          "output_type": "stream",
          "text": [
            "WARNING:absl:Function `_wrapped_model` contains input name(s) mobilenetv2_1.00_224_input with unsupported characters which will be renamed to mobilenetv2_1_00_224_input in the SavedModel.\n",
            "WARNING:absl:Found untraced functions such as _jit_compiled_convolution_op, _jit_compiled_convolution_op, _jit_compiled_convolution_op, _jit_compiled_convolution_op, _jit_compiled_convolution_op while saving (showing 5 of 52). These functions will not be directly callable after loading.\n"
          ]
        },
        {
          "name": "stdout",
          "output_type": "stream",
          "text": [
            "INFO:tensorflow:Assets written to: Corn_MobileNetV2_model2_Based_Augmented\\assets\n"
          ]
        },
        {
          "name": "stderr",
          "output_type": "stream",
          "text": [
            "INFO:tensorflow:Assets written to: Corn_MobileNetV2_model2_Based_Augmented\\assets\n"
          ]
        },
        {
          "name": "stdout",
          "output_type": "stream",
          "text": [
            "384/384 [==============================] - 121s 289ms/step - loss: 0.3161 - accuracy: 0.8874 - val_loss: 11.7040 - val_accuracy: 0.3159 - lr: 0.0010\n",
            "Epoch 2/100\n",
            "384/384 [==============================] - ETA: 0s - loss: 0.1930 - accuracy: 0.9332\n",
            "Epoch 2: val_accuracy did not improve from 0.31590\n",
            "384/384 [==============================] - 57s 148ms/step - loss: 0.1930 - accuracy: 0.9332 - val_loss: 17.9053 - val_accuracy: 0.3078 - lr: 0.0010\n",
            "Epoch 3/100\n",
            "384/384 [==============================] - ETA: 0s - loss: 0.1657 - accuracy: 0.9399\n",
            "Epoch 3: val_accuracy did not improve from 0.31590\n",
            "384/384 [==============================] - 57s 148ms/step - loss: 0.1657 - accuracy: 0.9399 - val_loss: 7.3314 - val_accuracy: 0.2960 - lr: 0.0010\n",
            "Epoch 4/100\n",
            "384/384 [==============================] - ETA: 0s - loss: 0.1555 - accuracy: 0.9457\n",
            "Epoch 4: val_accuracy did not improve from 0.31590\n",
            "384/384 [==============================] - 54s 142ms/step - loss: 0.1555 - accuracy: 0.9457 - val_loss: 13.9521 - val_accuracy: 0.2911 - lr: 0.0010\n",
            "Epoch 5/100\n",
            "384/384 [==============================] - ETA: 0s - loss: 0.1436 - accuracy: 0.9500\n",
            "Epoch 5: val_accuracy improved from 0.31590 to 0.45391, saving model to Corn_MobileNetV2_model2_Based_Augmented\n"
          ]
        },
        {
          "name": "stderr",
          "output_type": "stream",
          "text": [
            "WARNING:absl:Function `_wrapped_model` contains input name(s) mobilenetv2_1.00_224_input with unsupported characters which will be renamed to mobilenetv2_1_00_224_input in the SavedModel.\n",
            "WARNING:absl:Found untraced functions such as _jit_compiled_convolution_op, _jit_compiled_convolution_op, _jit_compiled_convolution_op, _jit_compiled_convolution_op, _jit_compiled_convolution_op while saving (showing 5 of 52). These functions will not be directly callable after loading.\n"
          ]
        },
        {
          "name": "stdout",
          "output_type": "stream",
          "text": [
            "INFO:tensorflow:Assets written to: Corn_MobileNetV2_model2_Based_Augmented\\assets\n"
          ]
        },
        {
          "name": "stderr",
          "output_type": "stream",
          "text": [
            "INFO:tensorflow:Assets written to: Corn_MobileNetV2_model2_Based_Augmented\\assets\n"
          ]
        },
        {
          "name": "stdout",
          "output_type": "stream",
          "text": [
            "384/384 [==============================] - 69s 179ms/step - loss: 0.1436 - accuracy: 0.9500 - val_loss: 3.5137 - val_accuracy: 0.4539 - lr: 0.0010\n",
            "Epoch 6/100\n",
            "384/384 [==============================] - ETA: 0s - loss: 0.1411 - accuracy: 0.9556\n",
            "Epoch 6: val_accuracy improved from 0.45391 to 0.57035, saving model to Corn_MobileNetV2_model2_Based_Augmented\n"
          ]
        },
        {
          "name": "stderr",
          "output_type": "stream",
          "text": [
            "WARNING:absl:Function `_wrapped_model` contains input name(s) mobilenetv2_1.00_224_input with unsupported characters which will be renamed to mobilenetv2_1_00_224_input in the SavedModel.\n",
            "WARNING:absl:Found untraced functions such as _jit_compiled_convolution_op, _jit_compiled_convolution_op, _jit_compiled_convolution_op, _jit_compiled_convolution_op, _jit_compiled_convolution_op while saving (showing 5 of 52). These functions will not be directly callable after loading.\n"
          ]
        },
        {
          "name": "stdout",
          "output_type": "stream",
          "text": [
            "INFO:tensorflow:Assets written to: Corn_MobileNetV2_model2_Based_Augmented\\assets\n"
          ]
        },
        {
          "name": "stderr",
          "output_type": "stream",
          "text": [
            "INFO:tensorflow:Assets written to: Corn_MobileNetV2_model2_Based_Augmented\\assets\n"
          ]
        },
        {
          "name": "stdout",
          "output_type": "stream",
          "text": [
            "384/384 [==============================] - 71s 183ms/step - loss: 0.1411 - accuracy: 0.9556 - val_loss: 2.4788 - val_accuracy: 0.5704 - lr: 0.0010\n",
            "Epoch 7/100\n",
            "384/384 [==============================] - ETA: 0s - loss: 0.1225 - accuracy: 0.9564\n",
            "Epoch 7: val_accuracy did not improve from 0.57035\n",
            "384/384 [==============================] - 57s 148ms/step - loss: 0.1225 - accuracy: 0.9564 - val_loss: 7.1829 - val_accuracy: 0.3181 - lr: 0.0010\n",
            "Epoch 8/100\n",
            "384/384 [==============================] - ETA: 0s - loss: 0.1196 - accuracy: 0.9585\n",
            "Epoch 8: val_accuracy improved from 0.57035 to 0.67385, saving model to Corn_MobileNetV2_model2_Based_Augmented\n"
          ]
        },
        {
          "name": "stderr",
          "output_type": "stream",
          "text": [
            "WARNING:absl:Function `_wrapped_model` contains input name(s) mobilenetv2_1.00_224_input with unsupported characters which will be renamed to mobilenetv2_1_00_224_input in the SavedModel.\n",
            "WARNING:absl:Found untraced functions such as _jit_compiled_convolution_op, _jit_compiled_convolution_op, _jit_compiled_convolution_op, _jit_compiled_convolution_op, _jit_compiled_convolution_op while saving (showing 5 of 52). These functions will not be directly callable after loading.\n"
          ]
        },
        {
          "name": "stdout",
          "output_type": "stream",
          "text": [
            "INFO:tensorflow:Assets written to: Corn_MobileNetV2_model2_Based_Augmented\\assets\n"
          ]
        },
        {
          "name": "stderr",
          "output_type": "stream",
          "text": [
            "INFO:tensorflow:Assets written to: Corn_MobileNetV2_model2_Based_Augmented\\assets\n"
          ]
        },
        {
          "name": "stdout",
          "output_type": "stream",
          "text": [
            "384/384 [==============================] - 71s 185ms/step - loss: 0.1196 - accuracy: 0.9585 - val_loss: 3.2258 - val_accuracy: 0.6739 - lr: 0.0010\n",
            "Epoch 9/100\n",
            "384/384 [==============================] - ETA: 0s - loss: 0.1260 - accuracy: 0.9554\n",
            "Epoch 9: val_accuracy did not improve from 0.67385\n",
            "384/384 [==============================] - 57s 148ms/step - loss: 0.1260 - accuracy: 0.9554 - val_loss: 1.5362 - val_accuracy: 0.6496 - lr: 0.0010\n",
            "Epoch 10/100\n",
            "384/384 [==============================] - ETA: 0s - loss: 0.1083 - accuracy: 0.9613\n",
            "Epoch 10: val_accuracy improved from 0.67385 to 0.71914, saving model to Corn_MobileNetV2_model2_Based_Augmented\n"
          ]
        },
        {
          "name": "stderr",
          "output_type": "stream",
          "text": [
            "WARNING:absl:Function `_wrapped_model` contains input name(s) mobilenetv2_1.00_224_input with unsupported characters which will be renamed to mobilenetv2_1_00_224_input in the SavedModel.\n",
            "WARNING:absl:Found untraced functions such as _jit_compiled_convolution_op, _jit_compiled_convolution_op, _jit_compiled_convolution_op, _jit_compiled_convolution_op, _jit_compiled_convolution_op while saving (showing 5 of 52). These functions will not be directly callable after loading.\n"
          ]
        },
        {
          "name": "stdout",
          "output_type": "stream",
          "text": [
            "INFO:tensorflow:Assets written to: Corn_MobileNetV2_model2_Based_Augmented\\assets\n"
          ]
        },
        {
          "name": "stderr",
          "output_type": "stream",
          "text": [
            "INFO:tensorflow:Assets written to: Corn_MobileNetV2_model2_Based_Augmented\\assets\n"
          ]
        },
        {
          "name": "stdout",
          "output_type": "stream",
          "text": [
            "384/384 [==============================] - 71s 184ms/step - loss: 0.1083 - accuracy: 0.9613 - val_loss: 0.9429 - val_accuracy: 0.7191 - lr: 0.0010\n",
            "Epoch 11/100\n",
            "384/384 [==============================] - ETA: 0s - loss: 0.1229 - accuracy: 0.9580\n",
            "Epoch 11: val_accuracy did not improve from 0.71914\n",
            "384/384 [==============================] - 59s 153ms/step - loss: 0.1229 - accuracy: 0.9580 - val_loss: 1.8446 - val_accuracy: 0.7148 - lr: 0.0010\n",
            "Epoch 12/100\n",
            "384/384 [==============================] - ETA: 0s - loss: 0.1071 - accuracy: 0.9640\n",
            "Epoch 12: val_accuracy improved from 0.71914 to 0.91806, saving model to Corn_MobileNetV2_model2_Based_Augmented\n"
          ]
        },
        {
          "name": "stderr",
          "output_type": "stream",
          "text": [
            "WARNING:absl:Function `_wrapped_model` contains input name(s) mobilenetv2_1.00_224_input with unsupported characters which will be renamed to mobilenetv2_1_00_224_input in the SavedModel.\n",
            "WARNING:absl:Found untraced functions such as _jit_compiled_convolution_op, _jit_compiled_convolution_op, _jit_compiled_convolution_op, _jit_compiled_convolution_op, _jit_compiled_convolution_op while saving (showing 5 of 52). These functions will not be directly callable after loading.\n"
          ]
        },
        {
          "name": "stdout",
          "output_type": "stream",
          "text": [
            "INFO:tensorflow:Assets written to: Corn_MobileNetV2_model2_Based_Augmented\\assets\n"
          ]
        },
        {
          "name": "stderr",
          "output_type": "stream",
          "text": [
            "INFO:tensorflow:Assets written to: Corn_MobileNetV2_model2_Based_Augmented\\assets\n"
          ]
        },
        {
          "name": "stdout",
          "output_type": "stream",
          "text": [
            "384/384 [==============================] - 72s 186ms/step - loss: 0.1071 - accuracy: 0.9640 - val_loss: 0.3000 - val_accuracy: 0.9181 - lr: 0.0010\n",
            "Epoch 13/100\n",
            "384/384 [==============================] - ETA: 0s - loss: 0.0958 - accuracy: 0.9671\n",
            "Epoch 13: val_accuracy did not improve from 0.91806\n",
            "384/384 [==============================] - 59s 153ms/step - loss: 0.0958 - accuracy: 0.9671 - val_loss: 1.3069 - val_accuracy: 0.7412 - lr: 0.0010\n",
            "Epoch 14/100\n",
            "384/384 [==============================] - ETA: 0s - loss: 0.1063 - accuracy: 0.9623\n",
            "Epoch 14: val_accuracy did not improve from 0.91806\n",
            "384/384 [==============================] - 60s 155ms/step - loss: 0.1063 - accuracy: 0.9623 - val_loss: 0.3338 - val_accuracy: 0.8916 - lr: 0.0010\n",
            "Epoch 15/100\n",
            "384/384 [==============================] - ETA: 0s - loss: 0.1018 - accuracy: 0.9640\n",
            "Epoch 15: val_accuracy did not improve from 0.91806\n",
            "384/384 [==============================] - 59s 153ms/step - loss: 0.1018 - accuracy: 0.9640 - val_loss: 3.0475 - val_accuracy: 0.5876 - lr: 0.0010\n",
            "Epoch 16/100\n",
            "384/384 [==============================] - ETA: 0s - loss: 0.1012 - accuracy: 0.9648\n",
            "Epoch 16: val_accuracy did not improve from 0.91806\n",
            "384/384 [==============================] - 59s 155ms/step - loss: 0.1012 - accuracy: 0.9648 - val_loss: 0.8876 - val_accuracy: 0.8075 - lr: 0.0010\n",
            "Epoch 17/100\n",
            "384/384 [==============================] - ETA: 0s - loss: 0.0975 - accuracy: 0.9644\n",
            "Epoch 17: val_accuracy improved from 0.91806 to 0.93854, saving model to Corn_MobileNetV2_model2_Based_Augmented\n"
          ]
        },
        {
          "name": "stderr",
          "output_type": "stream",
          "text": [
            "WARNING:absl:Function `_wrapped_model` contains input name(s) mobilenetv2_1.00_224_input with unsupported characters which will be renamed to mobilenetv2_1_00_224_input in the SavedModel.\n",
            "WARNING:absl:Found untraced functions such as _jit_compiled_convolution_op, _jit_compiled_convolution_op, _jit_compiled_convolution_op, _jit_compiled_convolution_op, _jit_compiled_convolution_op while saving (showing 5 of 52). These functions will not be directly callable after loading.\n"
          ]
        },
        {
          "name": "stdout",
          "output_type": "stream",
          "text": [
            "INFO:tensorflow:Assets written to: Corn_MobileNetV2_model2_Based_Augmented\\assets\n"
          ]
        },
        {
          "name": "stderr",
          "output_type": "stream",
          "text": [
            "INFO:tensorflow:Assets written to: Corn_MobileNetV2_model2_Based_Augmented\\assets\n"
          ]
        },
        {
          "name": "stdout",
          "output_type": "stream",
          "text": [
            "384/384 [==============================] - 74s 192ms/step - loss: 0.0975 - accuracy: 0.9644 - val_loss: 0.1877 - val_accuracy: 0.9385 - lr: 0.0010\n",
            "Epoch 18/100\n",
            "384/384 [==============================] - ETA: 0s - loss: 0.0858 - accuracy: 0.9653\n",
            "Epoch 18: val_accuracy did not improve from 0.93854\n",
            "384/384 [==============================] - 60s 156ms/step - loss: 0.0858 - accuracy: 0.9653 - val_loss: 1.5274 - val_accuracy: 0.6798 - lr: 0.0010\n",
            "Epoch 19/100\n",
            "384/384 [==============================] - ETA: 0s - loss: 0.0817 - accuracy: 0.9699\n",
            "Epoch 19: val_accuracy did not improve from 0.93854\n",
            "384/384 [==============================] - 59s 152ms/step - loss: 0.0817 - accuracy: 0.9699 - val_loss: 1.4418 - val_accuracy: 0.6582 - lr: 0.0010\n",
            "Epoch 20/100\n",
            "384/384 [==============================] - ETA: 0s - loss: 0.0811 - accuracy: 0.9736\n",
            "Epoch 20: val_accuracy did not improve from 0.93854\n",
            "384/384 [==============================] - 59s 153ms/step - loss: 0.0811 - accuracy: 0.9736 - val_loss: 0.8344 - val_accuracy: 0.8173 - lr: 0.0010\n",
            "Epoch 21/100\n",
            "384/384 [==============================] - ETA: 0s - loss: 0.0903 - accuracy: 0.9692\n",
            "Epoch 21: val_accuracy did not improve from 0.93854\n",
            "384/384 [==============================] - 63s 163ms/step - loss: 0.0903 - accuracy: 0.9692 - val_loss: 0.2653 - val_accuracy: 0.9137 - lr: 0.0010\n",
            "Epoch 22/100\n",
            "384/384 [==============================] - ETA: 0s - loss: 0.0785 - accuracy: 0.9718\n",
            "Epoch 22: val_accuracy did not improve from 0.93854\n",
            "\n",
            "Epoch 22: ReduceLROnPlateau reducing learning rate to 0.00010000000474974513.\n",
            "384/384 [==============================] - 58s 151ms/step - loss: 0.0785 - accuracy: 0.9718 - val_loss: 0.3116 - val_accuracy: 0.9094 - lr: 0.0010\n",
            "Epoch 23/100\n",
            "384/384 [==============================] - ETA: 0s - loss: 0.0527 - accuracy: 0.9810\n",
            "Epoch 23: val_accuracy improved from 0.93854 to 0.95094, saving model to Corn_MobileNetV2_model2_Based_Augmented\n"
          ]
        },
        {
          "name": "stderr",
          "output_type": "stream",
          "text": [
            "WARNING:absl:Function `_wrapped_model` contains input name(s) mobilenetv2_1.00_224_input with unsupported characters which will be renamed to mobilenetv2_1_00_224_input in the SavedModel.\n",
            "WARNING:absl:Found untraced functions such as _jit_compiled_convolution_op, _jit_compiled_convolution_op, _jit_compiled_convolution_op, _jit_compiled_convolution_op, _jit_compiled_convolution_op while saving (showing 5 of 52). These functions will not be directly callable after loading.\n"
          ]
        },
        {
          "name": "stdout",
          "output_type": "stream",
          "text": [
            "INFO:tensorflow:Assets written to: Corn_MobileNetV2_model2_Based_Augmented\\assets\n"
          ]
        },
        {
          "name": "stderr",
          "output_type": "stream",
          "text": [
            "INFO:tensorflow:Assets written to: Corn_MobileNetV2_model2_Based_Augmented\\assets\n"
          ]
        },
        {
          "name": "stdout",
          "output_type": "stream",
          "text": [
            "384/384 [==============================] - 73s 190ms/step - loss: 0.0527 - accuracy: 0.9810 - val_loss: 0.1323 - val_accuracy: 0.9509 - lr: 1.0000e-04\n",
            "Epoch 24/100\n",
            "384/384 [==============================] - ETA: 0s - loss: 0.0488 - accuracy: 0.9821\n",
            "Epoch 24: val_accuracy improved from 0.95094 to 0.95580, saving model to Corn_MobileNetV2_model2_Based_Augmented\n"
          ]
        },
        {
          "name": "stderr",
          "output_type": "stream",
          "text": [
            "WARNING:absl:Function `_wrapped_model` contains input name(s) mobilenetv2_1.00_224_input with unsupported characters which will be renamed to mobilenetv2_1_00_224_input in the SavedModel.\n",
            "WARNING:absl:Found untraced functions such as _jit_compiled_convolution_op, _jit_compiled_convolution_op, _jit_compiled_convolution_op, _jit_compiled_convolution_op, _jit_compiled_convolution_op while saving (showing 5 of 52). These functions will not be directly callable after loading.\n"
          ]
        },
        {
          "name": "stdout",
          "output_type": "stream",
          "text": [
            "INFO:tensorflow:Assets written to: Corn_MobileNetV2_model2_Based_Augmented\\assets\n"
          ]
        },
        {
          "name": "stderr",
          "output_type": "stream",
          "text": [
            "INFO:tensorflow:Assets written to: Corn_MobileNetV2_model2_Based_Augmented\\assets\n"
          ]
        },
        {
          "name": "stdout",
          "output_type": "stream",
          "text": [
            "384/384 [==============================] - 73s 189ms/step - loss: 0.0488 - accuracy: 0.9821 - val_loss: 0.1452 - val_accuracy: 0.9558 - lr: 1.0000e-04\n",
            "Epoch 25/100\n",
            "384/384 [==============================] - ETA: 0s - loss: 0.0453 - accuracy: 0.9843\n",
            "Epoch 25: val_accuracy improved from 0.95580 to 0.96873, saving model to Corn_MobileNetV2_model2_Based_Augmented\n"
          ]
        },
        {
          "name": "stderr",
          "output_type": "stream",
          "text": [
            "WARNING:absl:Function `_wrapped_model` contains input name(s) mobilenetv2_1.00_224_input with unsupported characters which will be renamed to mobilenetv2_1_00_224_input in the SavedModel.\n",
            "WARNING:absl:Found untraced functions such as _jit_compiled_convolution_op, _jit_compiled_convolution_op, _jit_compiled_convolution_op, _jit_compiled_convolution_op, _jit_compiled_convolution_op while saving (showing 5 of 52). These functions will not be directly callable after loading.\n"
          ]
        },
        {
          "name": "stdout",
          "output_type": "stream",
          "text": [
            "INFO:tensorflow:Assets written to: Corn_MobileNetV2_model2_Based_Augmented\\assets\n"
          ]
        },
        {
          "name": "stderr",
          "output_type": "stream",
          "text": [
            "INFO:tensorflow:Assets written to: Corn_MobileNetV2_model2_Based_Augmented\\assets\n"
          ]
        },
        {
          "name": "stdout",
          "output_type": "stream",
          "text": [
            "384/384 [==============================] - 76s 197ms/step - loss: 0.0453 - accuracy: 0.9843 - val_loss: 0.1007 - val_accuracy: 0.9687 - lr: 1.0000e-04\n",
            "Epoch 26/100\n",
            "384/384 [==============================] - ETA: 0s - loss: 0.0427 - accuracy: 0.9854\n",
            "Epoch 26: val_accuracy improved from 0.96873 to 0.96981, saving model to Corn_MobileNetV2_model2_Based_Augmented\n"
          ]
        },
        {
          "name": "stderr",
          "output_type": "stream",
          "text": [
            "WARNING:absl:Function `_wrapped_model` contains input name(s) mobilenetv2_1.00_224_input with unsupported characters which will be renamed to mobilenetv2_1_00_224_input in the SavedModel.\n",
            "WARNING:absl:Found untraced functions such as _jit_compiled_convolution_op, _jit_compiled_convolution_op, _jit_compiled_convolution_op, _jit_compiled_convolution_op, _jit_compiled_convolution_op while saving (showing 5 of 52). These functions will not be directly callable after loading.\n"
          ]
        },
        {
          "name": "stdout",
          "output_type": "stream",
          "text": [
            "INFO:tensorflow:Assets written to: Corn_MobileNetV2_model2_Based_Augmented\\assets\n"
          ]
        },
        {
          "name": "stderr",
          "output_type": "stream",
          "text": [
            "INFO:tensorflow:Assets written to: Corn_MobileNetV2_model2_Based_Augmented\\assets\n"
          ]
        },
        {
          "name": "stdout",
          "output_type": "stream",
          "text": [
            "384/384 [==============================] - 74s 192ms/step - loss: 0.0427 - accuracy: 0.9854 - val_loss: 0.0905 - val_accuracy: 0.9698 - lr: 1.0000e-04\n",
            "Epoch 27/100\n",
            "384/384 [==============================] - ETA: 0s - loss: 0.0425 - accuracy: 0.9842\n",
            "Epoch 27: val_accuracy improved from 0.96981 to 0.98005, saving model to Corn_MobileNetV2_model2_Based_Augmented\n"
          ]
        },
        {
          "name": "stderr",
          "output_type": "stream",
          "text": [
            "WARNING:absl:Function `_wrapped_model` contains input name(s) mobilenetv2_1.00_224_input with unsupported characters which will be renamed to mobilenetv2_1_00_224_input in the SavedModel.\n",
            "WARNING:absl:Found untraced functions such as _jit_compiled_convolution_op, _jit_compiled_convolution_op, _jit_compiled_convolution_op, _jit_compiled_convolution_op, _jit_compiled_convolution_op while saving (showing 5 of 52). These functions will not be directly callable after loading.\n"
          ]
        },
        {
          "name": "stdout",
          "output_type": "stream",
          "text": [
            "INFO:tensorflow:Assets written to: Corn_MobileNetV2_model2_Based_Augmented\\assets\n"
          ]
        },
        {
          "name": "stderr",
          "output_type": "stream",
          "text": [
            "INFO:tensorflow:Assets written to: Corn_MobileNetV2_model2_Based_Augmented\\assets\n"
          ]
        },
        {
          "name": "stdout",
          "output_type": "stream",
          "text": [
            "384/384 [==============================] - 73s 189ms/step - loss: 0.0425 - accuracy: 0.9842 - val_loss: 0.0559 - val_accuracy: 0.9801 - lr: 1.0000e-04\n",
            "Epoch 28/100\n",
            "384/384 [==============================] - ETA: 0s - loss: 0.0425 - accuracy: 0.9840\n",
            "Epoch 28: val_accuracy did not improve from 0.98005\n",
            "384/384 [==============================] - 61s 156ms/step - loss: 0.0425 - accuracy: 0.9840 - val_loss: 0.0798 - val_accuracy: 0.9725 - lr: 1.0000e-04\n",
            "Epoch 29/100\n",
            "384/384 [==============================] - ETA: 0s - loss: 0.0406 - accuracy: 0.9854\n",
            "Epoch 29: val_accuracy did not improve from 0.98005\n",
            "384/384 [==============================] - 61s 159ms/step - loss: 0.0406 - accuracy: 0.9854 - val_loss: 0.0697 - val_accuracy: 0.9768 - lr: 1.0000e-04\n",
            "Epoch 30/100\n",
            "384/384 [==============================] - ETA: 0s - loss: 0.0382 - accuracy: 0.9859\n",
            "Epoch 30: val_accuracy improved from 0.98005 to 0.98598, saving model to Corn_MobileNetV2_model2_Based_Augmented\n"
          ]
        },
        {
          "name": "stderr",
          "output_type": "stream",
          "text": [
            "WARNING:absl:Function `_wrapped_model` contains input name(s) mobilenetv2_1.00_224_input with unsupported characters which will be renamed to mobilenetv2_1_00_224_input in the SavedModel.\n",
            "WARNING:absl:Found untraced functions such as _jit_compiled_convolution_op, _jit_compiled_convolution_op, _jit_compiled_convolution_op, _jit_compiled_convolution_op, _jit_compiled_convolution_op while saving (showing 5 of 52). These functions will not be directly callable after loading.\n"
          ]
        },
        {
          "name": "stdout",
          "output_type": "stream",
          "text": [
            "INFO:tensorflow:Assets written to: Corn_MobileNetV2_model2_Based_Augmented\\assets\n"
          ]
        },
        {
          "name": "stderr",
          "output_type": "stream",
          "text": [
            "INFO:tensorflow:Assets written to: Corn_MobileNetV2_model2_Based_Augmented\\assets\n"
          ]
        },
        {
          "name": "stdout",
          "output_type": "stream",
          "text": [
            "384/384 [==============================] - 76s 198ms/step - loss: 0.0382 - accuracy: 0.9859 - val_loss: 0.0405 - val_accuracy: 0.9860 - lr: 1.0000e-04\n",
            "Epoch 31/100\n",
            "384/384 [==============================] - ETA: 0s - loss: 0.0371 - accuracy: 0.9877\n",
            "Epoch 31: val_accuracy did not improve from 0.98598\n",
            "384/384 [==============================] - 60s 156ms/step - loss: 0.0371 - accuracy: 0.9877 - val_loss: 0.0646 - val_accuracy: 0.9790 - lr: 1.0000e-04\n",
            "Epoch 32/100\n",
            "384/384 [==============================] - ETA: 0s - loss: 0.0377 - accuracy: 0.9856\n",
            "Epoch 32: val_accuracy did not improve from 0.98598\n",
            "384/384 [==============================] - 61s 158ms/step - loss: 0.0377 - accuracy: 0.9856 - val_loss: 0.0450 - val_accuracy: 0.9833 - lr: 1.0000e-04\n",
            "Epoch 33/100\n",
            "384/384 [==============================] - ETA: 0s - loss: 0.0376 - accuracy: 0.9873\n",
            "Epoch 33: val_accuracy did not improve from 0.98598\n",
            "384/384 [==============================] - 60s 157ms/step - loss: 0.0376 - accuracy: 0.9873 - val_loss: 0.0478 - val_accuracy: 0.9833 - lr: 1.0000e-04\n",
            "Epoch 34/100\n",
            "384/384 [==============================] - ETA: 0s - loss: 0.0342 - accuracy: 0.9884\n",
            "Epoch 34: val_accuracy did not improve from 0.98598\n",
            "384/384 [==============================] - 61s 159ms/step - loss: 0.0342 - accuracy: 0.9884 - val_loss: 0.0555 - val_accuracy: 0.9817 - lr: 1.0000e-04\n",
            "Epoch 35/100\n",
            "384/384 [==============================] - ETA: 0s - loss: 0.0302 - accuracy: 0.9889\n",
            "Epoch 35: val_accuracy did not improve from 0.98598\n",
            "\n",
            "Epoch 35: ReduceLROnPlateau reducing learning rate to 1.0000000474974514e-05.\n",
            "384/384 [==============================] - 61s 159ms/step - loss: 0.0302 - accuracy: 0.9889 - val_loss: 0.0525 - val_accuracy: 0.9801 - lr: 1.0000e-04\n",
            "Epoch 36/100\n",
            "384/384 [==============================] - ETA: 0s - loss: 0.0337 - accuracy: 0.9885\n",
            "Epoch 36: val_accuracy did not improve from 0.98598\n",
            "384/384 [==============================] - 60s 155ms/step - loss: 0.0337 - accuracy: 0.9885 - val_loss: 0.0559 - val_accuracy: 0.9801 - lr: 1.0000e-05\n",
            "Epoch 37/100\n",
            "384/384 [==============================] - ETA: 0s - loss: 0.0299 - accuracy: 0.9889\n",
            "Epoch 37: val_accuracy did not improve from 0.98598\n",
            "384/384 [==============================] - 60s 156ms/step - loss: 0.0299 - accuracy: 0.9889 - val_loss: 0.0519 - val_accuracy: 0.9811 - lr: 1.0000e-05\n",
            "Epoch 38/100\n",
            "384/384 [==============================] - ETA: 0s - loss: 0.0311 - accuracy: 0.9886\n",
            "Epoch 38: val_accuracy did not improve from 0.98598\n",
            "384/384 [==============================] - 60s 157ms/step - loss: 0.0311 - accuracy: 0.9886 - val_loss: 0.0502 - val_accuracy: 0.9827 - lr: 1.0000e-05\n",
            "Epoch 39/100\n",
            "384/384 [==============================] - ETA: 0s - loss: 0.0274 - accuracy: 0.9896\n",
            "Epoch 39: val_accuracy did not improve from 0.98598\n",
            "384/384 [==============================] - 62s 161ms/step - loss: 0.0274 - accuracy: 0.9896 - val_loss: 0.0513 - val_accuracy: 0.9822 - lr: 1.0000e-05\n",
            "Epoch 40/100\n",
            "384/384 [==============================] - ETA: 0s - loss: 0.0288 - accuracy: 0.9900\n",
            "Epoch 40: val_accuracy did not improve from 0.98598\n",
            "\n",
            "Epoch 40: ReduceLROnPlateau reducing learning rate to 1.0000000656873453e-06.\n",
            "384/384 [==============================] - 61s 158ms/step - loss: 0.0288 - accuracy: 0.9900 - val_loss: 0.0509 - val_accuracy: 0.9817 - lr: 1.0000e-05\n",
            "Epoch 41/100\n",
            "384/384 [==============================] - ETA: 0s - loss: 0.0342 - accuracy: 0.9884\n",
            "Epoch 41: val_accuracy did not improve from 0.98598\n",
            "384/384 [==============================] - 60s 157ms/step - loss: 0.0342 - accuracy: 0.9884 - val_loss: 0.0515 - val_accuracy: 0.9817 - lr: 1.0000e-06\n",
            "Epoch 42/100\n",
            "384/384 [==============================] - ETA: 0s - loss: 0.0343 - accuracy: 0.9880\n",
            "Epoch 42: val_accuracy did not improve from 0.98598\n",
            "384/384 [==============================] - 60s 155ms/step - loss: 0.0343 - accuracy: 0.9880 - val_loss: 0.0513 - val_accuracy: 0.9817 - lr: 1.0000e-06\n",
            "Epoch 43/100\n",
            "384/384 [==============================] - ETA: 0s - loss: 0.0296 - accuracy: 0.9889\n",
            "Epoch 43: val_accuracy did not improve from 0.98598\n",
            "384/384 [==============================] - 59s 154ms/step - loss: 0.0296 - accuracy: 0.9889 - val_loss: 0.0512 - val_accuracy: 0.9817 - lr: 1.0000e-06\n",
            "Epoch 44/100\n",
            "384/384 [==============================] - ETA: 0s - loss: 0.0282 - accuracy: 0.9900\n",
            "Epoch 44: val_accuracy did not improve from 0.98598\n",
            "384/384 [==============================] - 59s 153ms/step - loss: 0.0282 - accuracy: 0.9900 - val_loss: 0.0515 - val_accuracy: 0.9817 - lr: 1.0000e-06\n",
            "Epoch 45/100\n",
            "384/384 [==============================] - ETA: 0s - loss: 0.0307 - accuracy: 0.9898\n",
            "Epoch 45: val_accuracy did not improve from 0.98598\n",
            "\n",
            "Epoch 45: ReduceLROnPlateau reducing learning rate to 1.0000001111620805e-07.\n",
            "384/384 [==============================] - 59s 154ms/step - loss: 0.0307 - accuracy: 0.9898 - val_loss: 0.0518 - val_accuracy: 0.9817 - lr: 1.0000e-06\n",
            "Epoch 46/100\n",
            "384/384 [==============================] - ETA: 0s - loss: 0.0256 - accuracy: 0.9901\n",
            "Epoch 46: val_accuracy did not improve from 0.98598\n",
            "384/384 [==============================] - 60s 155ms/step - loss: 0.0256 - accuracy: 0.9901 - val_loss: 0.0516 - val_accuracy: 0.9817 - lr: 1.0000e-07\n",
            "Epoch 47/100\n",
            "384/384 [==============================] - ETA: 0s - loss: 0.0267 - accuracy: 0.9896\n",
            "Epoch 47: val_accuracy did not improve from 0.98598\n",
            "384/384 [==============================] - 60s 157ms/step - loss: 0.0267 - accuracy: 0.9896 - val_loss: 0.0515 - val_accuracy: 0.9817 - lr: 1.0000e-07\n",
            "Epoch 48/100\n",
            "384/384 [==============================] - ETA: 0s - loss: 0.0283 - accuracy: 0.9896\n",
            "Epoch 48: val_accuracy did not improve from 0.98598\n",
            "384/384 [==============================] - 60s 156ms/step - loss: 0.0283 - accuracy: 0.9896 - val_loss: 0.0516 - val_accuracy: 0.9817 - lr: 1.0000e-07\n",
            "Epoch 49/100\n",
            "384/384 [==============================] - ETA: 0s - loss: 0.0303 - accuracy: 0.9890\n",
            "Epoch 49: val_accuracy did not improve from 0.98598\n",
            "384/384 [==============================] - 61s 159ms/step - loss: 0.0303 - accuracy: 0.9890 - val_loss: 0.0517 - val_accuracy: 0.9817 - lr: 1.0000e-07\n",
            "Epoch 50/100\n",
            "384/384 [==============================] - ETA: 0s - loss: 0.0263 - accuracy: 0.9903\n",
            "Epoch 50: val_accuracy did not improve from 0.98598\n",
            "Restoring model weights from the end of the best epoch: 30.\n",
            "\n",
            "Epoch 50: ReduceLROnPlateau reducing learning rate to 1.000000082740371e-08.\n",
            "384/384 [==============================] - 60s 156ms/step - loss: 0.0263 - accuracy: 0.9903 - val_loss: 0.0515 - val_accuracy: 0.9817 - lr: 1.0000e-07\n",
            "Epoch 50: early stopping\n"
          ]
        }
      ],
      "source": [
        "# Define the number of epochs\n",
        "num_epochs = 100\n",
        "\n",
        "# Train the model\n",
        "history_MobileNetV2_model_2 = MobileNetV2_model_2.fit(train_generator, epochs=num_epochs, validation_data=validation_generator, callbacks=callbacks)"
      ]
    },
    {
      "cell_type": "code",
      "execution_count": 9,
      "metadata": {
        "colab": {
          "base_uri": "https://localhost:8080/",
          "height": 904
        },
        "id": "3f1nmwUhU2TK",
        "outputId": "eb1304fd-6c84-4475-8c50-ae3e0136c834",
        "tags": []
      },
      "outputs": [
        {
          "data": {
            "text/plain": [
              "<matplotlib.legend.Legend at 0x1e10d109360>"
            ]
          },
          "execution_count": 9,
          "metadata": {},
          "output_type": "execute_result"
        },
        {
          "data": {
            "image/png": "[encoded data removed]",
            "text/plain": [
              "<Figure size 640x480 with 1 Axes>"
            ]
          },
          "metadata": {},
          "output_type": "display_data"
        },
        {
          "data": {
            "image/png": "[encoded data removed]",
            "text/plain": [
              "<Figure size 640x480 with 1 Axes>"
            ]
          },
          "metadata": {},
          "output_type": "display_data"
        }
      ],
      "source": [
        "#-----------------------------------------------------------\n",
        "# Retrieve a list of list results on training and test data\n",
        "# sets for each training epoch\n",
        "#-----------------------------------------------------------\n",
        "acc      = history_MobileNetV2_model_2.history['accuracy' ]\n",
        "val_acc  = history_MobileNetV2_model_2.history['val_accuracy' ]\n",
        "loss     = history_MobileNetV2_model_2.history['loss' ]\n",
        "val_loss = history_MobileNetV2_model_2.history['val_loss' ]\n",
        "\n",
        "epochs   = range(len(acc)) # Get number of epochs\n",
        "\n",
        "#------------------------------------------------\n",
        "# Plot training and validation accuracy per epoch\n",
        "#------------------------------------------------\n",
        "plt.plot  (epochs, acc )\n",
        "plt.plot  (epochs, val_acc )\n",
        "plt.title ('Training and validation accuracy MobileNetV2 Model 2')\n",
        "plt.legend(['train', 'val'], loc='upper left')\n",
        "plt.figure()\n",
        "\n",
        "#------------------------------------------------\n",
        "# Plot training and validation loss per epoch\n",
        "#------------------------------------------------\n",
        "plt.plot  (epochs, loss)\n",
        "plt.plot  (epochs, val_loss)\n",
        "plt.title ('Training and validation loss MobileNetV2 Model 2')\n",
        "plt.legend(['train', 'val'], loc='upper left')"
      ]
    }
  ],
  "metadata": {
    "accelerator": "GPU",
    "colab": {
      "gpuType": "T4",
      "provenance": []
    },
    "gpuClass": "standard",
    "kernelspec": {
      "display_name": "Python 3 (ipykernel)",
      "language": "python",
      "name": "python3"
    },
    "language_info": {
      "codemirror_mode": {
        "name": "ipython",
        "version": 3
      },
      "file_extension": ".py",
      "mimetype": "text/x-python",
      "name": "python",
      "nbconvert_exporter": "python",
      "pygments_lexer": "ipython3",
      "version": "3.10.0"
    }
  },
  "nbformat": 4,
  "nbformat_minor": 0
}
