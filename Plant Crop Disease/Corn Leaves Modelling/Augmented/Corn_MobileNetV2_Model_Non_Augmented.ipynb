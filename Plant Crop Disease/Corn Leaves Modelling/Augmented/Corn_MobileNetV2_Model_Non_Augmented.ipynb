{
  "cells": [
    {
      "attachments": {},
      "cell_type": "markdown",
      "metadata": {
        "id": "hO3kEcUPU2S3"
      },
      "source": [
        "# Library"
      ]
    },
    {
      "cell_type": "code",
      "execution_count": 1,
      "metadata": {
        "colab": {
          "base_uri": "https://localhost:8080/"
        },
        "id": "kczkUjsAU2S8",
        "outputId": "1deef3b8-ae81-4e61-c93a-b31697261c52",
        "tags": []
      },
      "outputs": [
        {
          "name": "stdout",
          "output_type": "stream",
          "text": [
            "Requirement already satisfied: matplotlib in c:\\users\\hasan\\anaconda3\\envs\\tensorflow_gpu_zein\\lib\\site-packages (3.6.3)\n",
            "Requirement already satisfied: packaging>=20.0 in c:\\users\\hasan\\anaconda3\\envs\\tensorflow_gpu_zein\\lib\\site-packages (from matplotlib) (23.1)\n",
            "Requirement already satisfied: fonttools>=4.22.0 in c:\\users\\hasan\\anaconda3\\envs\\tensorflow_gpu_zein\\lib\\site-packages (from matplotlib) (4.39.2)\n",
            "Requirement already satisfied: python-dateutil>=2.7 in c:\\users\\hasan\\anaconda3\\envs\\tensorflow_gpu_zein\\lib\\site-packages (from matplotlib) (2.8.2)\n",
            "Requirement already satisfied: numpy>=1.19 in c:\\users\\hasan\\anaconda3\\envs\\tensorflow_gpu_zein\\lib\\site-packages (from matplotlib) (1.23.5)\n",
            "Requirement already satisfied: kiwisolver>=1.0.1 in c:\\users\\hasan\\anaconda3\\envs\\tensorflow_gpu_zein\\lib\\site-packages (from matplotlib) (1.4.4)\n",
            "Requirement already satisfied: cycler>=0.10 in c:\\users\\hasan\\anaconda3\\envs\\tensorflow_gpu_zein\\lib\\site-packages (from matplotlib) (0.11.0)\n",
            "Requirement already satisfied: pyparsing>=2.2.1 in c:\\users\\hasan\\anaconda3\\envs\\tensorflow_gpu_zein\\lib\\site-packages (from matplotlib) (3.0.9)\n",
            "Requirement already satisfied: pillow>=6.2.0 in c:\\users\\hasan\\anaconda3\\envs\\tensorflow_gpu_zein\\lib\\site-packages (from matplotlib) (9.4.0)\n",
            "Requirement already satisfied: contourpy>=1.0.1 in c:\\users\\hasan\\anaconda3\\envs\\tensorflow_gpu_zein\\lib\\site-packages (from matplotlib) (1.0.7)\n",
            "Requirement already satisfied: six>=1.5 in c:\\users\\hasan\\anaconda3\\envs\\tensorflow_gpu_zein\\lib\\site-packages (from python-dateutil>=2.7->matplotlib) (1.16.0)\n",
            "Note: you may need to restart the kernel to use updated packages.\n"
          ]
        },
        {
          "name": "stderr",
          "output_type": "stream",
          "text": [
            "WARNING: Ignoring invalid distribution -rotobuf (c:\\users\\hasan\\anaconda3\\envs\\tensorflow_gpu_zein\\lib\\site-packages)\n",
            "WARNING: Ignoring invalid distribution -rotobuf (c:\\users\\hasan\\anaconda3\\envs\\tensorflow_gpu_zein\\lib\\site-packages)\n",
            "WARNING: Ignoring invalid distribution -rotobuf (c:\\users\\hasan\\anaconda3\\envs\\tensorflow_gpu_zein\\lib\\site-packages)\n",
            "WARNING: Ignoring invalid distribution -rotobuf (c:\\users\\hasan\\anaconda3\\envs\\tensorflow_gpu_zein\\lib\\site-packages)\n",
            "WARNING: Ignoring invalid distribution -rotobuf (c:\\users\\hasan\\anaconda3\\envs\\tensorflow_gpu_zein\\lib\\site-packages)\n",
            "WARNING: Ignoring invalid distribution -rotobuf (c:\\users\\hasan\\anaconda3\\envs\\tensorflow_gpu_zein\\lib\\site-packages)\n"
          ]
        }
      ],
      "source": [
        "pip install matplotlib"
      ]
    },
    {
      "cell_type": "code",
      "execution_count": 2,
      "metadata": {
        "colab": {
          "base_uri": "https://localhost:8080/"
        },
        "id": "oEW3Nbu7U2S_",
        "outputId": "e124bf7c-fb8f-496a-9956-be7fbec878b3",
        "tags": []
      },
      "outputs": [
        {
          "name": "stdout",
          "output_type": "stream",
          "text": [
            "Requirement already satisfied: opendatasets in c:\\users\\hasan\\anaconda3\\envs\\tensorflow_gpu_zein\\lib\\site-packages (0.1.22)\n",
            "Requirement already satisfied: tqdm in c:\\users\\hasan\\anaconda3\\envs\\tensorflow_gpu_zein\\lib\\site-packages (from opendatasets) (4.64.1)\n",
            "Requirement already satisfied: kaggle in c:\\users\\hasan\\anaconda3\\envs\\tensorflow_gpu_zein\\lib\\site-packages (from opendatasets) (1.5.13)\n",
            "Requirement already satisfied: click in c:\\users\\hasan\\anaconda3\\envs\\tensorflow_gpu_zein\\lib\\site-packages (from opendatasets) (8.1.3)\n",
            "Requirement already satisfied: colorama in c:\\users\\hasan\\anaconda3\\envs\\tensorflow_gpu_zein\\lib\\site-packages (from click->opendatasets) (0.4.6)\n",
            "Requirement already satisfied: six>=1.10 in c:\\users\\hasan\\anaconda3\\envs\\tensorflow_gpu_zein\\lib\\site-packages (from kaggle->opendatasets) (1.16.0)\n",
            "Requirement already satisfied: requests in c:\\users\\hasan\\anaconda3\\envs\\tensorflow_gpu_zein\\lib\\site-packages (from kaggle->opendatasets) (2.28.2)\n",
            "Requirement already satisfied: python-dateutil in c:\\users\\hasan\\anaconda3\\envs\\tensorflow_gpu_zein\\lib\\site-packages (from kaggle->opendatasets) (2.8.2)\n",
            "Requirement already satisfied: python-slugify in c:\\users\\hasan\\anaconda3\\envs\\tensorflow_gpu_zein\\lib\\site-packages (from kaggle->opendatasets) (8.0.1)\n",
            "Requirement already satisfied: urllib3 in c:\\users\\hasan\\anaconda3\\envs\\tensorflow_gpu_zein\\lib\\site-packages (from kaggle->opendatasets) (1.26.15)\n",
            "Requirement already satisfied: certifi in c:\\users\\hasan\\anaconda3\\envs\\tensorflow_gpu_zein\\lib\\site-packages (from kaggle->opendatasets) (2022.12.7)\n",
            "Requirement already satisfied: text-unidecode>=1.3 in c:\\users\\hasan\\anaconda3\\envs\\tensorflow_gpu_zein\\lib\\site-packages (from python-slugify->kaggle->opendatasets) (1.3)\n",
            "Requirement already satisfied: idna<4,>=2.5 in c:\\users\\hasan\\anaconda3\\envs\\tensorflow_gpu_zein\\lib\\site-packages (from requests->kaggle->opendatasets) (3.4)\n",
            "Requirement already satisfied: charset-normalizer<4,>=2 in c:\\users\\hasan\\anaconda3\\envs\\tensorflow_gpu_zein\\lib\\site-packages (from requests->kaggle->opendatasets) (3.1.0)\n",
            "Note: you may need to restart the kernel to use updated packages.\n"
          ]
        },
        {
          "name": "stderr",
          "output_type": "stream",
          "text": [
            "WARNING: Ignoring invalid distribution -rotobuf (c:\\users\\hasan\\anaconda3\\envs\\tensorflow_gpu_zein\\lib\\site-packages)\n",
            "WARNING: Ignoring invalid distribution -rotobuf (c:\\users\\hasan\\anaconda3\\envs\\tensorflow_gpu_zein\\lib\\site-packages)\n",
            "WARNING: Ignoring invalid distribution -rotobuf (c:\\users\\hasan\\anaconda3\\envs\\tensorflow_gpu_zein\\lib\\site-packages)\n",
            "WARNING: Ignoring invalid distribution -rotobuf (c:\\users\\hasan\\anaconda3\\envs\\tensorflow_gpu_zein\\lib\\site-packages)\n",
            "WARNING: Ignoring invalid distribution -rotobuf (c:\\users\\hasan\\anaconda3\\envs\\tensorflow_gpu_zein\\lib\\site-packages)\n",
            "WARNING: Ignoring invalid distribution -rotobuf (c:\\users\\hasan\\anaconda3\\envs\\tensorflow_gpu_zein\\lib\\site-packages)\n"
          ]
        }
      ],
      "source": [
        "pip install opendatasets"
      ]
    },
    {
      "cell_type": "code",
      "execution_count": 3,
      "metadata": {
        "id": "SIHHdOB4U2TA",
        "tags": []
      },
      "outputs": [],
      "source": [
        "# Library to dataset\n",
        "import opendatasets as od\n",
        "import os\n",
        "import zipfile\n",
        "import numpy as np\n",
        "\n",
        "# Surpress Warnings\n",
        "import warnings\n",
        "warnings.filterwarnings('ignore')\n",
        "os.environ['TF_CPP_MIN_LOG_LEVEL'] = '3' \n",
        "# library visualization\n",
        "import matplotlib.pyplot as plt\n",
        "\n",
        "# Library Tensorflow\n",
        "import tensorflow as tf\n",
        "from tensorflow import keras\n",
        "from tensorflow.keras.preprocessing.image import ImageDataGenerator\n",
        "from tensorflow.keras.callbacks import ModelCheckpoint, EarlyStopping, ReduceLROnPlateau\n",
        "from tensorflow.keras.applications.densenet import DenseNet121\n",
        "from tensorflow.keras.applications.xception import Xception\n",
        "from tensorflow.keras.applications.mobilenet_v2 import MobileNetV2\n",
        "\n",
        "# Others\n",
        "import shutil\n",
        "import random"
      ]
    },
    {
      "attachments": {},
      "cell_type": "markdown",
      "metadata": {
        "id": "Dy8YkYoaU2TB"
      },
      "source": [
        "# Load dataset"
      ]
    },
    {
      "cell_type": "code",
      "execution_count": 4,
      "metadata": {
        "colab": {
          "base_uri": "https://localhost:8080/"
        },
        "id": "8ZAjREJ0U2TC",
        "outputId": "1c6bf288-c640-49c9-9528-61ce297c6b1f",
        "tags": []
      },
      "outputs": [
        {
          "name": "stdout",
          "output_type": "stream",
          "text": [
            "==========================Training Data====================\n",
            "Found 7665 files belonging to 4 classes.\n",
            "==========================Validation Data====================\n",
            "Found 1855 files belonging to 4 classes.\n"
          ]
        }
      ],
      "source": [
        "# Load dataset\n",
        "print(\"==========================Training Data====================\")\n",
        "train_data = tf.keras.preprocessing.image_dataset_from_directory(\n",
        "    \"Dataset/Corn/train\",\n",
        "    label_mode=\"categorical\",\n",
        "    class_names=['Corn Gray leaf spot','Corn healthy','Corn leaf blight','Corn rust leaf'],\n",
        "    color_mode=\"rgb\",\n",
        "    batch_size=1,\n",
        "    image_size=(256, 256),\n",
        "    shuffle=True,\n",
        "    seed=123\n",
        ")\n",
        "print(\"==========================Validation Data====================\")\n",
        "val_data = tf.keras.preprocessing.image_dataset_from_directory(\n",
        "    \"Dataset/Corn/valid\",\n",
        "    label_mode=\"categorical\",\n",
        "    class_names=['Corn Gray leaf spot','Corn healthy','Corn leaf blight','Corn rust leaf'],\n",
        "    color_mode=\"rgb\",\n",
        "    batch_size=1,\n",
        "    image_size=(256, 256),\n",
        "    shuffle=True,\n",
        "    seed=123\n",
        ")"
      ]
    },
    {
      "cell_type": "code",
      "execution_count": 6,
      "metadata": {
        "colab": {
          "base_uri": "https://localhost:8080/"
        },
        "id": "vEPzd1egU2TD",
        "outputId": "177b4fd1-2013-49b7-bb51-4fd4466923e4",
        "tags": []
      },
      "outputs": [
        {
          "name": "stdout",
          "output_type": "stream",
          "text": [
            "Found 7665 images belonging to 4 classes.\n",
            "Found 1855 images belonging to 4 classes.\n"
          ]
        }
      ],
      "source": [
        "# All images will be rescaled by 1./255.\n",
        "train_datagen = ImageDataGenerator(rescale = 1.0/256.)\n",
        "test_datagen  = ImageDataGenerator(rescale = 1.0/256.)\n",
        "\n",
        "# --------------------\n",
        "# Flow training images in batches of 20 using train_datagen generator\n",
        "# --------------------\n",
        "train_generator = train_datagen.flow_from_directory(\"Dataset/Corn/train\",\n",
        "                                                    batch_size=20,\n",
        "                                                    class_mode='categorical',\n",
        "                                                    target_size=(224, 224))     \n",
        "# --------------------\n",
        "# Flow validation images in batches of 20 using test_datagen generator\n",
        "# --------------------\n",
        "validation_generator =  test_datagen.flow_from_directory(\"Dataset/Corn/valid\",\n",
        "                                                         batch_size=20,\n",
        "                                                         class_mode  = 'categorical',\n",
        "                                                         target_size = (224, 224))"
      ]
    },
    {
      "attachments": {},
      "cell_type": "markdown",
      "metadata": {
        "id": "_3jaO5YgU2TE"
      },
      "source": [
        "# List Resource"
      ]
    },
    {
      "cell_type": "code",
      "execution_count": 7,
      "metadata": {
        "colab": {
          "base_uri": "https://localhost:8080/"
        },
        "id": "SGemCaxnU2TF",
        "outputId": "020724e8-fb4c-4c24-d34a-87da6b67b3dc",
        "tags": []
      },
      "outputs": [
        {
          "name": "stdout",
          "output_type": "stream",
          "text": [
            "Thu May 25 10:42:57 2023       \n",
            "+---------------------------------------------------------------------------------------+\n",
            "| NVIDIA-SMI 531.79                 Driver Version: 531.79       CUDA Version: 12.1     |\n",
            "|-----------------------------------------+----------------------+----------------------+\n",
            "| GPU  Name                      TCC/WDDM | Bus-Id        Disp.A | Volatile Uncorr. ECC |\n",
            "| Fan  Temp  Perf            Pwr:Usage/Cap|         Memory-Usage | GPU-Util  Compute M. |\n",
            "|                                         |                      |               MIG M. |\n",
            "|=========================================+======================+======================|\n",
            "|   0  NVIDIA GeForce RTX 3060 L...  WDDM | 00000000:01:00.0  On |                  N/A |\n",
            "| N/A   51C    P8               16W /  N/A|   4574MiB /  6144MiB |      8%      Default |\n",
            "|                                         |                      |                  N/A |\n",
            "+-----------------------------------------+----------------------+----------------------+\n",
            "                                                                                         \n",
            "+---------------------------------------------------------------------------------------+\n",
            "| Processes:                                                                            |\n",
            "|  GPU   GI   CI        PID   Type   Process name                            GPU Memory |\n",
            "|        ID   ID                                                             Usage      |\n",
            "|=======================================================================================|\n",
            "|    0   N/A  N/A      4176    C+G   ...les\\AMD\\CNext\\CNext\\AMDRSSrcExt.exe    N/A      |\n",
            "|    0   N/A  N/A      6056    C+G   ...Programs\\Microsoft VS Code\\Code.exe    N/A      |\n",
            "|    0   N/A  N/A      6300    C+G   ...16.0_x86__zpdnekdrzrea0\\Spotify.exe    N/A      |\n",
            "|    0   N/A  N/A      9816    C+G   C:\\WINDOWS\\explorer.exe                   N/A      |\n",
            "|    0   N/A  N/A     10328    C+G   ...nt.CBS_cw5n1h2txyewy\\SearchHost.exe    N/A      |\n",
            "|    0   N/A  N/A     10532    C+G   ...2txyewy\\StartMenuExperienceHost.exe    N/A      |\n",
            "|    0   N/A  N/A     13880    C+G   ...x64__qmba6cd70vzyy\\ArmouryCrate.exe    N/A      |\n",
            "|    0   N/A  N/A     14756    C+G   ...t.LockApp_cw5n1h2txyewy\\LockApp.exe    N/A      |\n",
            "|    0   N/A  N/A     16160    C+G   ...ekyb3d8bbwe\\PhoneExperienceHost.exe    N/A      |\n",
            "|    0   N/A  N/A     17876    C+G   ...GeForce Experience\\NVIDIA Share.exe    N/A      |\n",
            "|    0   N/A  N/A     18428    C+G   ...2.0_x64__cv1g1gvanyjgm\\WhatsApp.exe    N/A      |\n",
            "|    0   N/A  N/A     18580    C+G   ...les\\Microsoft OneDrive\\OneDrive.exe    N/A      |\n",
            "|    0   N/A  N/A     19448    C+G   ...les\\Microsoft OneDrive\\OneDrive.exe    N/A      |\n",
            "|    0   N/A  N/A     19780    C+G   ...64__v826wp6bftszj\\TranslucentTB.exe    N/A      |\n",
            "|    0   N/A  N/A     20296    C+G   ...\\AMD\\CNext\\CNext\\RadeonSoftware.exe    N/A      |\n",
            "|    0   N/A  N/A     20672    C+G   ...siveControlPanel\\SystemSettings.exe    N/A      |\n",
            "|    0   N/A  N/A     21868    C+G   ...5n1h2txyewy\\ShellExperienceHost.exe    N/A      |\n",
            "|    0   N/A  N/A     22216    C+G   ...1.0_x64__8wekyb3d8bbwe\\Video.UI.exe    N/A      |\n",
            "|    0   N/A  N/A     22316    C+G   ...on\\113.0.1774.50\\msedgewebview2.exe    N/A      |\n",
            "|    0   N/A  N/A     24744    C+G   ...oogle\\Chrome\\Application\\chrome.exe    N/A      |\n",
            "|    0   N/A  N/A     25920      C   ...envs\\tensorflow_gpu_zein\\python.exe    N/A      |\n",
            "|    0   N/A  N/A     26596    C+G   ...1.0_x64__t4vj0pshhgkwm\\Telegram.exe    N/A      |\n",
            "+---------------------------------------------------------------------------------------+\n"
          ]
        }
      ],
      "source": [
        "# Check GPU\n",
        "!nvidia-smi"
      ]
    },
    {
      "cell_type": "code",
      "execution_count": 8,
      "metadata": {
        "colab": {
          "base_uri": "https://localhost:8080/"
        },
        "id": "FSapZ74PU2TF",
        "outputId": "b043a136-797d-4f99-d3c3-111ab7da1c08",
        "tags": []
      },
      "outputs": [
        {
          "data": {
            "text/plain": [
              "[PhysicalDevice(name='/physical_device:GPU:0', device_type='GPU')]"
            ]
          },
          "execution_count": 8,
          "metadata": {},
          "output_type": "execute_result"
        }
      ],
      "source": [
        "# Lis physical devices\n",
        "devices = tf.config.experimental.list_physical_devices(\"GPU\")\n",
        "devices"
      ]
    },
    {
      "cell_type": "code",
      "execution_count": 9,
      "metadata": {
        "id": "A8WtBtBaU2TG",
        "tags": []
      },
      "outputs": [
        {
          "name": "stdout",
          "output_type": "stream",
          "text": [
            "INFO:tensorflow:Using MirroredStrategy with devices ('/job:localhost/replica:0/task:0/device:GPU:0',)\n"
          ]
        }
      ],
      "source": [
        "# Define the GPU strategy\n",
        "mirrored_strategy = tf.distribute.MirroredStrategy(devices=[\"/gpu:0\"])"
      ]
    },
    {
      "attachments": {},
      "cell_type": "markdown",
      "metadata": {
        "id": "Vqr_uGTNU2TG"
      },
      "source": [
        "# Modelling Without Augmentation"
      ]
    },
    {
      "attachments": {},
      "cell_type": "markdown",
      "metadata": {
        "id": "w4Wzh6ZyU2TH"
      },
      "source": [
        "## MobileNetV2 Model 1"
      ]
    },
    {
      "cell_type": "code",
      "execution_count": 10,
      "metadata": {
        "id": "uUqYGBfRU2TH",
        "tags": []
      },
      "outputs": [],
      "source": [
        "# Difine the callbacks\n",
        "# Save the best model\n",
        "checkpoint_callback = ModelCheckpoint(filepath=\"Corn_MobileNetV2_model1_Based_Non_Augmented\", save_best_only=True, monitor=\"val_accuracy\", mode=\"max\", verbose=1)\n",
        "\n",
        "# Early stopping\n",
        "early_stopping_callback = EarlyStopping(monitor=\"val_accuracy\", mode=\"max\", patience=20, verbose=1, restore_best_weights=True)\n",
        "\n",
        "# Reduce learning rate\n",
        "reduce_lr_callback = ReduceLROnPlateau(monitor=\"val_loss\", factor=0.1, patience=5, verbose=1, mode=\"min\", min_delta=0.0001, cooldown=0, min_lr=0)\n",
        "\n",
        "# Callbacks list\n",
        "callbacks=[checkpoint_callback, early_stopping_callback, reduce_lr_callback]"
      ]
    },
    {
      "cell_type": "code",
      "execution_count": 11,
      "metadata": {
        "colab": {
          "base_uri": "https://localhost:8080/"
        },
        "id": "BQHFs3gSU2TI",
        "outputId": "827ef6ba-14f5-4672-9e89-44f580c9a1b1",
        "tags": []
      },
      "outputs": [
        {
          "name": "stdout",
          "output_type": "stream",
          "text": [
            "Model: \"sequential\"\n",
            "_________________________________________________________________\n",
            " Layer (type)                Output Shape              Param #   \n",
            "=================================================================\n",
            " mobilenetv2_1.00_224 (Funct  (None, 7, 7, 1280)       2257984   \n",
            " ional)                                                          \n",
            "                                                                 \n",
            " global_max_pooling2d (Globa  (None, 1280)             0         \n",
            " lMaxPooling2D)                                                  \n",
            "                                                                 \n",
            " dropout (Dropout)           (None, 1280)              0         \n",
            "                                                                 \n",
            " dense (Dense)               (None, 256)               327936    \n",
            "                                                                 \n",
            " dense_1 (Dense)             (None, 4)                 1028      \n",
            "                                                                 \n",
            "=================================================================\n",
            "Total params: 2,586,948\n",
            "Trainable params: 2,552,836\n",
            "Non-trainable params: 34,112\n",
            "_________________________________________________________________\n"
          ]
        }
      ],
      "source": [
        "# Define DIY Model\n",
        "MobileNetV2_model = tf.keras.models.Sequential([\n",
        "    # MobileNetV2 Layer\n",
        "    MobileNetV2(include_top=False,weights='imagenet',input_shape=(224, 224, 3)),\n",
        "    # Global Max Pooling Layer\n",
        "    tf.keras.layers.GlobalMaxPooling2D(),\n",
        "    # Drop Out Layer\n",
        "    tf.keras.layers.Dropout(0.2),\n",
        "    # 256 neuron hidden layer\n",
        "    tf.keras.layers.Dense(256, activation='relu'),\n",
        "    # Output\n",
        "    tf.keras.layers.Dense(4, activation='softmax') \n",
        "  ])\n",
        "\n",
        "\n",
        "# Compile Model\n",
        "MobileNetV2_model.compile(loss='categorical_crossentropy',optimizer=tf.keras.optimizers.Adam(), metrics=['accuracy']) \n",
        "\n",
        "# Model Summary\n",
        "MobileNetV2_model.summary()"
      ]
    },
    {
      "cell_type": "code",
      "execution_count": 12,
      "metadata": {
        "colab": {
          "base_uri": "https://localhost:8080/"
        },
        "id": "6coN3TKhU2TI",
        "outputId": "c8627e65-ab10-46ce-d2db-73e7ea1bb444",
        "tags": []
      },
      "outputs": [
        {
          "name": "stdout",
          "output_type": "stream",
          "text": [
            "Epoch 1/100\n",
            "384/384 [==============================] - ETA: 0s - loss: 0.4349 - accuracy: 0.9012\n",
            "Epoch 1: val_accuracy improved from -inf to 0.26307, saving model to Corn_MobileNetV2_model1_Based_Non_Augmented\n"
          ]
        },
        {
          "name": "stderr",
          "output_type": "stream",
          "text": [
            "WARNING:absl:Function `_wrapped_model` contains input name(s) mobilenetv2_1.00_224_input with unsupported characters which will be renamed to mobilenetv2_1_00_224_input in the SavedModel.\n",
            "WARNING:absl:Found untraced functions such as _jit_compiled_convolution_op, _jit_compiled_convolution_op, _jit_compiled_convolution_op, _jit_compiled_convolution_op, _jit_compiled_convolution_op while saving (showing 5 of 52). These functions will not be directly callable after loading.\n"
          ]
        },
        {
          "name": "stdout",
          "output_type": "stream",
          "text": [
            "INFO:tensorflow:Assets written to: Corn_MobileNetV2_model1_Based_Non_Augmented\\assets\n"
          ]
        },
        {
          "name": "stderr",
          "output_type": "stream",
          "text": [
            "INFO:tensorflow:Assets written to: Corn_MobileNetV2_model1_Based_Non_Augmented\\assets\n"
          ]
        },
        {
          "name": "stdout",
          "output_type": "stream",
          "text": [
            "384/384 [==============================] - 68s 159ms/step - loss: 0.4349 - accuracy: 0.9012 - val_loss: 7.8253 - val_accuracy: 0.2631 - lr: 0.0010\n",
            "Epoch 2/100\n",
            "384/384 [==============================] - ETA: 0s - loss: 0.1608 - accuracy: 0.9457\n",
            "Epoch 2: val_accuracy improved from 0.26307 to 0.43235, saving model to Corn_MobileNetV2_model1_Based_Non_Augmented\n"
          ]
        },
        {
          "name": "stderr",
          "output_type": "stream",
          "text": [
            "WARNING:absl:Function `_wrapped_model` contains input name(s) mobilenetv2_1.00_224_input with unsupported characters which will be renamed to mobilenetv2_1_00_224_input in the SavedModel.\n",
            "WARNING:absl:Found untraced functions such as _jit_compiled_convolution_op, _jit_compiled_convolution_op, _jit_compiled_convolution_op, _jit_compiled_convolution_op, _jit_compiled_convolution_op while saving (showing 5 of 52). These functions will not be directly callable after loading.\n"
          ]
        },
        {
          "name": "stdout",
          "output_type": "stream",
          "text": [
            "INFO:tensorflow:Assets written to: Corn_MobileNetV2_model1_Based_Non_Augmented\\assets\n"
          ]
        },
        {
          "name": "stderr",
          "output_type": "stream",
          "text": [
            "INFO:tensorflow:Assets written to: Corn_MobileNetV2_model1_Based_Non_Augmented\\assets\n"
          ]
        },
        {
          "name": "stdout",
          "output_type": "stream",
          "text": [
            "384/384 [==============================] - 60s 155ms/step - loss: 0.1608 - accuracy: 0.9457 - val_loss: 3.6986 - val_accuracy: 0.4323 - lr: 0.0010\n",
            "Epoch 3/100\n",
            "384/384 [==============================] - ETA: 0s - loss: 0.1397 - accuracy: 0.9533\n",
            "Epoch 3: val_accuracy improved from 0.43235 to 0.81402, saving model to Corn_MobileNetV2_model1_Based_Non_Augmented\n"
          ]
        },
        {
          "name": "stderr",
          "output_type": "stream",
          "text": [
            "WARNING:absl:Function `_wrapped_model` contains input name(s) mobilenetv2_1.00_224_input with unsupported characters which will be renamed to mobilenetv2_1_00_224_input in the SavedModel.\n",
            "WARNING:absl:Found untraced functions such as _jit_compiled_convolution_op, _jit_compiled_convolution_op, _jit_compiled_convolution_op, _jit_compiled_convolution_op, _jit_compiled_convolution_op while saving (showing 5 of 52). These functions will not be directly callable after loading.\n"
          ]
        },
        {
          "name": "stdout",
          "output_type": "stream",
          "text": [
            "INFO:tensorflow:Assets written to: Corn_MobileNetV2_model1_Based_Non_Augmented\\assets\n"
          ]
        },
        {
          "name": "stderr",
          "output_type": "stream",
          "text": [
            "INFO:tensorflow:Assets written to: Corn_MobileNetV2_model1_Based_Non_Augmented\\assets\n"
          ]
        },
        {
          "name": "stdout",
          "output_type": "stream",
          "text": [
            "384/384 [==============================] - 59s 154ms/step - loss: 0.1397 - accuracy: 0.9533 - val_loss: 0.7335 - val_accuracy: 0.8140 - lr: 0.0010\n",
            "Epoch 4/100\n",
            "384/384 [==============================] - ETA: 0s - loss: 0.1516 - accuracy: 0.9507\n",
            "Epoch 4: val_accuracy did not improve from 0.81402\n",
            "384/384 [==============================] - 43s 112ms/step - loss: 0.1516 - accuracy: 0.9507 - val_loss: 4.2212 - val_accuracy: 0.4642 - lr: 0.0010\n",
            "Epoch 5/100\n",
            "384/384 [==============================] - ETA: 0s - loss: 0.1278 - accuracy: 0.9562\n",
            "Epoch 5: val_accuracy improved from 0.81402 to 0.88895, saving model to Corn_MobileNetV2_model1_Based_Non_Augmented\n"
          ]
        },
        {
          "name": "stderr",
          "output_type": "stream",
          "text": [
            "WARNING:absl:Function `_wrapped_model` contains input name(s) mobilenetv2_1.00_224_input with unsupported characters which will be renamed to mobilenetv2_1_00_224_input in the SavedModel.\n",
            "WARNING:absl:Found untraced functions such as _jit_compiled_convolution_op, _jit_compiled_convolution_op, _jit_compiled_convolution_op, _jit_compiled_convolution_op, _jit_compiled_convolution_op while saving (showing 5 of 52). These functions will not be directly callable after loading.\n"
          ]
        },
        {
          "name": "stdout",
          "output_type": "stream",
          "text": [
            "INFO:tensorflow:Assets written to: Corn_MobileNetV2_model1_Based_Non_Augmented\\assets\n"
          ]
        },
        {
          "name": "stderr",
          "output_type": "stream",
          "text": [
            "INFO:tensorflow:Assets written to: Corn_MobileNetV2_model1_Based_Non_Augmented\\assets\n"
          ]
        },
        {
          "name": "stdout",
          "output_type": "stream",
          "text": [
            "384/384 [==============================] - 61s 158ms/step - loss: 0.1278 - accuracy: 0.9562 - val_loss: 0.4284 - val_accuracy: 0.8889 - lr: 0.0010\n",
            "Epoch 6/100\n",
            "384/384 [==============================] - ETA: 0s - loss: 0.1136 - accuracy: 0.9618\n",
            "Epoch 6: val_accuracy did not improve from 0.88895\n",
            "384/384 [==============================] - 43s 111ms/step - loss: 0.1136 - accuracy: 0.9618 - val_loss: 3.1642 - val_accuracy: 0.4259 - lr: 0.0010\n",
            "Epoch 7/100\n",
            "384/384 [==============================] - ETA: 0s - loss: 0.1383 - accuracy: 0.9538\n",
            "Epoch 7: val_accuracy did not improve from 0.88895\n",
            "384/384 [==============================] - 42s 110ms/step - loss: 0.1383 - accuracy: 0.9538 - val_loss: 4.4249 - val_accuracy: 0.3057 - lr: 0.0010\n",
            "Epoch 8/100\n",
            "384/384 [==============================] - ETA: 0s - loss: 0.1214 - accuracy: 0.9586\n",
            "Epoch 8: val_accuracy did not improve from 0.88895\n",
            "384/384 [==============================] - 43s 113ms/step - loss: 0.1214 - accuracy: 0.9586 - val_loss: 1.0831 - val_accuracy: 0.6307 - lr: 0.0010\n",
            "Epoch 9/100\n",
            "384/384 [==============================] - ETA: 0s - loss: 0.1025 - accuracy: 0.9641\n",
            "Epoch 9: val_accuracy did not improve from 0.88895\n",
            "384/384 [==============================] - 44s 115ms/step - loss: 0.1025 - accuracy: 0.9641 - val_loss: 1.1635 - val_accuracy: 0.7612 - lr: 0.0010\n",
            "Epoch 10/100\n",
            "384/384 [==============================] - ETA: 0s - loss: 0.0853 - accuracy: 0.9710\n",
            "Epoch 10: val_accuracy did not improve from 0.88895\n",
            "\n",
            "Epoch 10: ReduceLROnPlateau reducing learning rate to 0.00010000000474974513.\n",
            "384/384 [==============================] - 46s 120ms/step - loss: 0.0853 - accuracy: 0.9710 - val_loss: 0.4706 - val_accuracy: 0.8712 - lr: 0.0010\n",
            "Epoch 11/100\n",
            "384/384 [==============================] - ETA: 0s - loss: 0.0439 - accuracy: 0.9858\n",
            "Epoch 11: val_accuracy improved from 0.88895 to 0.97035, saving model to Corn_MobileNetV2_model1_Based_Non_Augmented\n"
          ]
        },
        {
          "name": "stderr",
          "output_type": "stream",
          "text": [
            "WARNING:absl:Function `_wrapped_model` contains input name(s) mobilenetv2_1.00_224_input with unsupported characters which will be renamed to mobilenetv2_1_00_224_input in the SavedModel.\n",
            "WARNING:absl:Found untraced functions such as _jit_compiled_convolution_op, _jit_compiled_convolution_op, _jit_compiled_convolution_op, _jit_compiled_convolution_op, _jit_compiled_convolution_op while saving (showing 5 of 52). These functions will not be directly callable after loading.\n"
          ]
        },
        {
          "name": "stdout",
          "output_type": "stream",
          "text": [
            "INFO:tensorflow:Assets written to: Corn_MobileNetV2_model1_Based_Non_Augmented\\assets\n"
          ]
        },
        {
          "name": "stderr",
          "output_type": "stream",
          "text": [
            "INFO:tensorflow:Assets written to: Corn_MobileNetV2_model1_Based_Non_Augmented\\assets\n"
          ]
        },
        {
          "name": "stdout",
          "output_type": "stream",
          "text": [
            "384/384 [==============================] - 61s 160ms/step - loss: 0.0439 - accuracy: 0.9858 - val_loss: 0.1090 - val_accuracy: 0.9704 - lr: 1.0000e-04\n",
            "Epoch 12/100\n",
            "384/384 [==============================] - ETA: 0s - loss: 0.0262 - accuracy: 0.9909\n",
            "Epoch 12: val_accuracy improved from 0.97035 to 0.97574, saving model to Corn_MobileNetV2_model1_Based_Non_Augmented\n"
          ]
        },
        {
          "name": "stderr",
          "output_type": "stream",
          "text": [
            "WARNING:absl:Function `_wrapped_model` contains input name(s) mobilenetv2_1.00_224_input with unsupported characters which will be renamed to mobilenetv2_1_00_224_input in the SavedModel.\n",
            "WARNING:absl:Found untraced functions such as _jit_compiled_convolution_op, _jit_compiled_convolution_op, _jit_compiled_convolution_op, _jit_compiled_convolution_op, _jit_compiled_convolution_op while saving (showing 5 of 52). These functions will not be directly callable after loading.\n"
          ]
        },
        {
          "name": "stdout",
          "output_type": "stream",
          "text": [
            "INFO:tensorflow:Assets written to: Corn_MobileNetV2_model1_Based_Non_Augmented\\assets\n"
          ]
        },
        {
          "name": "stderr",
          "output_type": "stream",
          "text": [
            "INFO:tensorflow:Assets written to: Corn_MobileNetV2_model1_Based_Non_Augmented\\assets\n"
          ]
        },
        {
          "name": "stdout",
          "output_type": "stream",
          "text": [
            "384/384 [==============================] - 62s 160ms/step - loss: 0.0262 - accuracy: 0.9909 - val_loss: 0.0715 - val_accuracy: 0.9757 - lr: 1.0000e-04\n",
            "Epoch 13/100\n",
            "384/384 [==============================] - ETA: 0s - loss: 0.0250 - accuracy: 0.9914\n",
            "Epoch 13: val_accuracy improved from 0.97574 to 0.98113, saving model to Corn_MobileNetV2_model1_Based_Non_Augmented\n"
          ]
        },
        {
          "name": "stderr",
          "output_type": "stream",
          "text": [
            "WARNING:absl:Function `_wrapped_model` contains input name(s) mobilenetv2_1.00_224_input with unsupported characters which will be renamed to mobilenetv2_1_00_224_input in the SavedModel.\n",
            "WARNING:absl:Found untraced functions such as _jit_compiled_convolution_op, _jit_compiled_convolution_op, _jit_compiled_convolution_op, _jit_compiled_convolution_op, _jit_compiled_convolution_op while saving (showing 5 of 52). These functions will not be directly callable after loading.\n"
          ]
        },
        {
          "name": "stdout",
          "output_type": "stream",
          "text": [
            "INFO:tensorflow:Assets written to: Corn_MobileNetV2_model1_Based_Non_Augmented\\assets\n"
          ]
        },
        {
          "name": "stderr",
          "output_type": "stream",
          "text": [
            "INFO:tensorflow:Assets written to: Corn_MobileNetV2_model1_Based_Non_Augmented\\assets\n"
          ]
        },
        {
          "name": "stdout",
          "output_type": "stream",
          "text": [
            "384/384 [==============================] - 64s 165ms/step - loss: 0.0250 - accuracy: 0.9914 - val_loss: 0.0594 - val_accuracy: 0.9811 - lr: 1.0000e-04\n",
            "Epoch 14/100\n",
            "384/384 [==============================] - ETA: 0s - loss: 0.0241 - accuracy: 0.9935\n",
            "Epoch 14: val_accuracy did not improve from 0.98113\n",
            "384/384 [==============================] - 44s 115ms/step - loss: 0.0241 - accuracy: 0.9935 - val_loss: 0.0630 - val_accuracy: 0.9784 - lr: 1.0000e-04\n",
            "Epoch 15/100\n",
            "384/384 [==============================] - ETA: 0s - loss: 0.0181 - accuracy: 0.9941\n",
            "Epoch 15: val_accuracy improved from 0.98113 to 0.98329, saving model to Corn_MobileNetV2_model1_Based_Non_Augmented\n"
          ]
        },
        {
          "name": "stderr",
          "output_type": "stream",
          "text": [
            "WARNING:absl:Function `_wrapped_model` contains input name(s) mobilenetv2_1.00_224_input with unsupported characters which will be renamed to mobilenetv2_1_00_224_input in the SavedModel.\n",
            "WARNING:absl:Found untraced functions such as _jit_compiled_convolution_op, _jit_compiled_convolution_op, _jit_compiled_convolution_op, _jit_compiled_convolution_op, _jit_compiled_convolution_op while saving (showing 5 of 52). These functions will not be directly callable after loading.\n"
          ]
        },
        {
          "name": "stdout",
          "output_type": "stream",
          "text": [
            "INFO:tensorflow:Assets written to: Corn_MobileNetV2_model1_Based_Non_Augmented\\assets\n"
          ]
        },
        {
          "name": "stderr",
          "output_type": "stream",
          "text": [
            "INFO:tensorflow:Assets written to: Corn_MobileNetV2_model1_Based_Non_Augmented\\assets\n"
          ]
        },
        {
          "name": "stdout",
          "output_type": "stream",
          "text": [
            "384/384 [==============================] - 61s 158ms/step - loss: 0.0181 - accuracy: 0.9941 - val_loss: 0.0560 - val_accuracy: 0.9833 - lr: 1.0000e-04\n",
            "Epoch 16/100\n",
            "384/384 [==============================] - ETA: 0s - loss: 0.0107 - accuracy: 0.9962\n",
            "Epoch 16: val_accuracy did not improve from 0.98329\n",
            "384/384 [==============================] - 47s 121ms/step - loss: 0.0107 - accuracy: 0.9962 - val_loss: 0.0650 - val_accuracy: 0.9833 - lr: 1.0000e-04\n",
            "Epoch 17/100\n",
            "384/384 [==============================] - ETA: 0s - loss: 0.0066 - accuracy: 0.9980\n",
            "Epoch 17: val_accuracy improved from 0.98329 to 0.98437, saving model to Corn_MobileNetV2_model1_Based_Non_Augmented\n"
          ]
        },
        {
          "name": "stderr",
          "output_type": "stream",
          "text": [
            "WARNING:absl:Function `_wrapped_model` contains input name(s) mobilenetv2_1.00_224_input with unsupported characters which will be renamed to mobilenetv2_1_00_224_input in the SavedModel.\n",
            "WARNING:absl:Found untraced functions such as _jit_compiled_convolution_op, _jit_compiled_convolution_op, _jit_compiled_convolution_op, _jit_compiled_convolution_op, _jit_compiled_convolution_op while saving (showing 5 of 52). These functions will not be directly callable after loading.\n"
          ]
        },
        {
          "name": "stdout",
          "output_type": "stream",
          "text": [
            "INFO:tensorflow:Assets written to: Corn_MobileNetV2_model1_Based_Non_Augmented\\assets\n"
          ]
        },
        {
          "name": "stderr",
          "output_type": "stream",
          "text": [
            "INFO:tensorflow:Assets written to: Corn_MobileNetV2_model1_Based_Non_Augmented\\assets\n"
          ]
        },
        {
          "name": "stdout",
          "output_type": "stream",
          "text": [
            "384/384 [==============================] - 62s 162ms/step - loss: 0.0066 - accuracy: 0.9980 - val_loss: 0.0735 - val_accuracy: 0.9844 - lr: 1.0000e-04\n",
            "Epoch 18/100\n",
            "384/384 [==============================] - ETA: 0s - loss: 0.0103 - accuracy: 0.9971\n",
            "Epoch 18: val_accuracy improved from 0.98437 to 0.98491, saving model to Corn_MobileNetV2_model1_Based_Non_Augmented\n"
          ]
        },
        {
          "name": "stderr",
          "output_type": "stream",
          "text": [
            "WARNING:absl:Function `_wrapped_model` contains input name(s) mobilenetv2_1.00_224_input with unsupported characters which will be renamed to mobilenetv2_1_00_224_input in the SavedModel.\n",
            "WARNING:absl:Found untraced functions such as _jit_compiled_convolution_op, _jit_compiled_convolution_op, _jit_compiled_convolution_op, _jit_compiled_convolution_op, _jit_compiled_convolution_op while saving (showing 5 of 52). These functions will not be directly callable after loading.\n"
          ]
        },
        {
          "name": "stdout",
          "output_type": "stream",
          "text": [
            "INFO:tensorflow:Assets written to: Corn_MobileNetV2_model1_Based_Non_Augmented\\assets\n"
          ]
        },
        {
          "name": "stderr",
          "output_type": "stream",
          "text": [
            "INFO:tensorflow:Assets written to: Corn_MobileNetV2_model1_Based_Non_Augmented\\assets\n"
          ]
        },
        {
          "name": "stdout",
          "output_type": "stream",
          "text": [
            "384/384 [==============================] - 61s 159ms/step - loss: 0.0103 - accuracy: 0.9971 - val_loss: 0.0718 - val_accuracy: 0.9849 - lr: 1.0000e-04\n",
            "Epoch 19/100\n",
            "384/384 [==============================] - ETA: 0s - loss: 0.0107 - accuracy: 0.9970\n",
            "Epoch 19: val_accuracy did not improve from 0.98491\n",
            "384/384 [==============================] - 44s 115ms/step - loss: 0.0107 - accuracy: 0.9970 - val_loss: 0.0870 - val_accuracy: 0.9817 - lr: 1.0000e-04\n",
            "Epoch 20/100\n",
            "384/384 [==============================] - ETA: 0s - loss: 0.0113 - accuracy: 0.9974\n",
            "Epoch 20: val_accuracy did not improve from 0.98491\n",
            "\n",
            "Epoch 20: ReduceLROnPlateau reducing learning rate to 1.0000000474974514e-05.\n",
            "384/384 [==============================] - 44s 114ms/step - loss: 0.0113 - accuracy: 0.9974 - val_loss: 0.0803 - val_accuracy: 0.9822 - lr: 1.0000e-04\n",
            "Epoch 21/100\n",
            "384/384 [==============================] - ETA: 0s - loss: 0.0036 - accuracy: 0.9993\n",
            "Epoch 21: val_accuracy did not improve from 0.98491\n",
            "384/384 [==============================] - 44s 115ms/step - loss: 0.0036 - accuracy: 0.9993 - val_loss: 0.0787 - val_accuracy: 0.9833 - lr: 1.0000e-05\n",
            "Epoch 22/100\n",
            "384/384 [==============================] - ETA: 0s - loss: 0.0052 - accuracy: 0.9986\n",
            "Epoch 22: val_accuracy did not improve from 0.98491\n",
            "384/384 [==============================] - 44s 115ms/step - loss: 0.0052 - accuracy: 0.9986 - val_loss: 0.0781 - val_accuracy: 0.9838 - lr: 1.0000e-05\n",
            "Epoch 23/100\n",
            "384/384 [==============================] - ETA: 0s - loss: 0.0022 - accuracy: 0.9995\n",
            "Epoch 23: val_accuracy did not improve from 0.98491\n",
            "384/384 [==============================] - 45s 116ms/step - loss: 0.0022 - accuracy: 0.9995 - val_loss: 0.0778 - val_accuracy: 0.9838 - lr: 1.0000e-05\n",
            "Epoch 24/100\n",
            "384/384 [==============================] - ETA: 0s - loss: 0.0041 - accuracy: 0.9987\n",
            "Epoch 24: val_accuracy did not improve from 0.98491\n",
            "384/384 [==============================] - 45s 116ms/step - loss: 0.0041 - accuracy: 0.9987 - val_loss: 0.0792 - val_accuracy: 0.9833 - lr: 1.0000e-05\n",
            "Epoch 25/100\n",
            "384/384 [==============================] - ETA: 0s - loss: 0.0023 - accuracy: 0.9992\n",
            "Epoch 25: val_accuracy did not improve from 0.98491\n",
            "\n",
            "Epoch 25: ReduceLROnPlateau reducing learning rate to 1.0000000656873453e-06.\n",
            "384/384 [==============================] - 44s 115ms/step - loss: 0.0023 - accuracy: 0.9992 - val_loss: 0.0819 - val_accuracy: 0.9833 - lr: 1.0000e-05\n",
            "Epoch 26/100\n",
            "384/384 [==============================] - ETA: 0s - loss: 0.0025 - accuracy: 0.9996\n",
            "Epoch 26: val_accuracy did not improve from 0.98491\n",
            "384/384 [==============================] - 44s 116ms/step - loss: 0.0025 - accuracy: 0.9996 - val_loss: 0.0823 - val_accuracy: 0.9833 - lr: 1.0000e-06\n",
            "Epoch 27/100\n",
            "384/384 [==============================] - ETA: 0s - loss: 0.0024 - accuracy: 0.9992\n",
            "Epoch 27: val_accuracy did not improve from 0.98491\n",
            "384/384 [==============================] - 45s 116ms/step - loss: 0.0024 - accuracy: 0.9992 - val_loss: 0.0825 - val_accuracy: 0.9844 - lr: 1.0000e-06\n",
            "Epoch 28/100\n",
            "384/384 [==============================] - ETA: 0s - loss: 0.0035 - accuracy: 0.9993\n",
            "Epoch 28: val_accuracy did not improve from 0.98491\n",
            "384/384 [==============================] - 45s 117ms/step - loss: 0.0035 - accuracy: 0.9993 - val_loss: 0.0827 - val_accuracy: 0.9844 - lr: 1.0000e-06\n",
            "Epoch 29/100\n",
            "384/384 [==============================] - ETA: 0s - loss: 0.0017 - accuracy: 0.9997\n",
            "Epoch 29: val_accuracy did not improve from 0.98491\n",
            "384/384 [==============================] - 45s 116ms/step - loss: 0.0017 - accuracy: 0.9997 - val_loss: 0.0830 - val_accuracy: 0.9844 - lr: 1.0000e-06\n",
            "Epoch 30/100\n",
            "384/384 [==============================] - ETA: 0s - loss: 0.0024 - accuracy: 0.9992\n",
            "Epoch 30: val_accuracy did not improve from 0.98491\n",
            "\n",
            "Epoch 30: ReduceLROnPlateau reducing learning rate to 1.0000001111620805e-07.\n",
            "384/384 [==============================] - 44s 114ms/step - loss: 0.0024 - accuracy: 0.9992 - val_loss: 0.0834 - val_accuracy: 0.9844 - lr: 1.0000e-06\n",
            "Epoch 31/100\n",
            "384/384 [==============================] - ETA: 0s - loss: 0.0020 - accuracy: 0.9991\n",
            "Epoch 31: val_accuracy did not improve from 0.98491\n",
            "384/384 [==============================] - 43s 112ms/step - loss: 0.0020 - accuracy: 0.9991 - val_loss: 0.0834 - val_accuracy: 0.9844 - lr: 1.0000e-07\n",
            "Epoch 32/100\n",
            "384/384 [==============================] - ETA: 0s - loss: 0.0018 - accuracy: 0.9993\n",
            "Epoch 32: val_accuracy did not improve from 0.98491\n",
            "384/384 [==============================] - 44s 115ms/step - loss: 0.0018 - accuracy: 0.9993 - val_loss: 0.0835 - val_accuracy: 0.9844 - lr: 1.0000e-07\n",
            "Epoch 33/100\n",
            "384/384 [==============================] - ETA: 0s - loss: 0.0027 - accuracy: 0.9990\n",
            "Epoch 33: val_accuracy did not improve from 0.98491\n",
            "384/384 [==============================] - 44s 115ms/step - loss: 0.0027 - accuracy: 0.9990 - val_loss: 0.0835 - val_accuracy: 0.9838 - lr: 1.0000e-07\n",
            "Epoch 34/100\n",
            "384/384 [==============================] - ETA: 0s - loss: 0.0025 - accuracy: 0.9995\n",
            "Epoch 34: val_accuracy did not improve from 0.98491\n",
            "384/384 [==============================] - 44s 115ms/step - loss: 0.0025 - accuracy: 0.9995 - val_loss: 0.0835 - val_accuracy: 0.9838 - lr: 1.0000e-07\n",
            "Epoch 35/100\n",
            "384/384 [==============================] - ETA: 0s - loss: 0.0013 - accuracy: 0.9997\n",
            "Epoch 35: val_accuracy did not improve from 0.98491\n",
            "\n",
            "Epoch 35: ReduceLROnPlateau reducing learning rate to 1.000000082740371e-08.\n",
            "384/384 [==============================] - 44s 115ms/step - loss: 0.0013 - accuracy: 0.9997 - val_loss: 0.0835 - val_accuracy: 0.9838 - lr: 1.0000e-07\n",
            "Epoch 36/100\n",
            "384/384 [==============================] - ETA: 0s - loss: 0.0021 - accuracy: 0.9995\n",
            "Epoch 36: val_accuracy did not improve from 0.98491\n",
            "384/384 [==============================] - 46s 119ms/step - loss: 0.0021 - accuracy: 0.9995 - val_loss: 0.0835 - val_accuracy: 0.9838 - lr: 1.0000e-08\n",
            "Epoch 37/100\n",
            "384/384 [==============================] - ETA: 0s - loss: 0.0021 - accuracy: 0.9995\n",
            "Epoch 37: val_accuracy did not improve from 0.98491\n",
            "384/384 [==============================] - 46s 119ms/step - loss: 0.0021 - accuracy: 0.9995 - val_loss: 0.0836 - val_accuracy: 0.9838 - lr: 1.0000e-08\n",
            "Epoch 38/100\n",
            "384/384 [==============================] - ETA: 0s - loss: 0.0020 - accuracy: 0.9996\n",
            "Epoch 38: val_accuracy did not improve from 0.98491\n",
            "Restoring model weights from the end of the best epoch: 18.\n",
            "384/384 [==============================] - 45s 116ms/step - loss: 0.0020 - accuracy: 0.9996 - val_loss: 0.0837 - val_accuracy: 0.9838 - lr: 1.0000e-08\n",
            "Epoch 38: early stopping\n"
          ]
        }
      ],
      "source": [
        "# Define the number of epochs\n",
        "num_epochs = 100\n",
        "\n",
        "# Train the model\n",
        "history_MobileNetV2_model_1 = MobileNetV2_model.fit(train_generator, epochs=num_epochs, validation_data=validation_generator, callbacks=callbacks)"
      ]
    },
    {
      "cell_type": "code",
      "execution_count": 13,
      "metadata": {
        "colab": {
          "base_uri": "https://localhost:8080/",
          "height": 904
        },
        "id": "lvS9xz3LU2TI",
        "outputId": "82006e9e-cc48-4ba8-d467-fa68335be1e2",
        "tags": []
      },
      "outputs": [
        {
          "data": {
            "text/plain": [
              "<matplotlib.legend.Legend at 0x1c20ba9d150>"
            ]
          },
          "execution_count": 13,
          "metadata": {},
          "output_type": "execute_result"
        },
        {
          "data": {
            "image/png": "[encoded data removed]",
            "text/plain": [
              "<Figure size 640x480 with 1 Axes>"
            ]
          },
          "metadata": {},
          "output_type": "display_data"
        },
        {
          "data": {
            "image/png": "[encoded data removed]",
            "text/plain": [
              "<Figure size 640x480 with 1 Axes>"
            ]
          },
          "metadata": {},
          "output_type": "display_data"
        }
      ],
      "source": [
        "#-----------------------------------------------------------\n",
        "# Retrieve a list of list results on training and test data\n",
        "# sets for each training epoch\n",
        "#-----------------------------------------------------------\n",
        "acc      = history_MobileNetV2_model_1.history['accuracy' ]\n",
        "val_acc  = history_MobileNetV2_model_1.history['val_accuracy' ]\n",
        "loss     = history_MobileNetV2_model_1.history['loss' ]\n",
        "val_loss = history_MobileNetV2_model_1.history['val_loss' ]\n",
        "\n",
        "epochs   = range(len(acc)) # Get number of epochs\n",
        "\n",
        "#------------------------------------------------\n",
        "# Plot training and validation accuracy per epoch\n",
        "#------------------------------------------------\n",
        "plt.plot  (epochs, acc )\n",
        "plt.plot  (epochs, val_acc )\n",
        "plt.title ('Training and validation accuracy MobileNetV2 Model 1')\n",
        "plt.legend(['train', 'val'], loc='upper left')\n",
        "plt.figure()\n",
        "\n",
        "#------------------------------------------------\n",
        "# Plot training and validation loss per epoch\n",
        "#------------------------------------------------\n",
        "plt.plot  (epochs, loss)\n",
        "plt.plot  (epochs, val_loss)\n",
        "plt.title ('Training and validation loss MobileNetV2 Model 1')\n",
        "plt.legend(['train', 'val'], loc='upper left')"
      ]
    },
    {
      "attachments": {},
      "cell_type": "markdown",
      "metadata": {
        "id": "SvQOR9IuU2TJ"
      },
      "source": [
        "## Xception Model 2"
      ]
    },
    {
      "cell_type": "code",
      "execution_count": 14,
      "metadata": {
        "id": "Tj7lcdvUU2TJ",
        "tags": []
      },
      "outputs": [],
      "source": [
        "# Difine the callbacks\n",
        "# Save the best model\n",
        "checkpoint_callback = ModelCheckpoint(filepath=\"Corn_MobileNetV2_model2_Based_Non_Augmented\", save_best_only=True, monitor=\"val_accuracy\", mode=\"max\", verbose=1)\n",
        "\n",
        "# Early stopping\n",
        "early_stopping_callback = EarlyStopping(monitor=\"val_accuracy\", mode=\"max\", patience=20, verbose=1, restore_best_weights=True)\n",
        "\n",
        "# Reduce learning rate\n",
        "reduce_lr_callback = ReduceLROnPlateau(monitor=\"val_loss\", factor=0.1, patience=5, verbose=1, mode=\"min\", min_delta=0.0001, cooldown=0, min_lr=0)\n",
        "\n",
        "# Callbacks list\n",
        "callbacks=[checkpoint_callback, early_stopping_callback, reduce_lr_callback]"
      ]
    },
    {
      "cell_type": "code",
      "execution_count": 15,
      "metadata": {
        "colab": {
          "base_uri": "https://localhost:8080/"
        },
        "id": "7NKPY1xGU2TJ",
        "outputId": "33e21089-b139-40da-9c65-6897626f2c85",
        "tags": []
      },
      "outputs": [
        {
          "name": "stdout",
          "output_type": "stream",
          "text": [
            "Model: \"sequential_1\"\n",
            "_________________________________________________________________\n",
            " Layer (type)                Output Shape              Param #   \n",
            "=================================================================\n",
            " mobilenetv2_1.00_224 (Funct  (None, 7, 7, 1280)       2257984   \n",
            " ional)                                                          \n",
            "                                                                 \n",
            " global_average_pooling2d (G  (None, 1280)             0         \n",
            " lobalAveragePooling2D)                                          \n",
            "                                                                 \n",
            " dropout_1 (Dropout)         (None, 1280)              0         \n",
            "                                                                 \n",
            " dense_2 (Dense)             (None, 256)               327936    \n",
            "                                                                 \n",
            " dense_3 (Dense)             (None, 4)                 1028      \n",
            "                                                                 \n",
            "=================================================================\n",
            "Total params: 2,586,948\n",
            "Trainable params: 2,552,836\n",
            "Non-trainable params: 34,112\n",
            "_________________________________________________________________\n"
          ]
        }
      ],
      "source": [
        "# Define DIY Model\n",
        "MobileNetV2_model_2 = tf.keras.models.Sequential([\n",
        "    # MobileNetV2 Layer\n",
        "    MobileNetV2(include_top=False,weights='imagenet',input_shape=(224, 224, 3)),\n",
        "    # Global Average Pooling Layer\n",
        "    tf.keras.layers.GlobalAveragePooling2D(),\n",
        "    # Drop Out Layer\n",
        "    tf.keras.layers.Dropout(0.2),\n",
        "    # 256 neuron hidden layer\n",
        "    tf.keras.layers.Dense(256, activation='relu'),\n",
        "    # Output\n",
        "    tf.keras.layers.Dense(4, activation='softmax') \n",
        "  ])\n",
        "\n",
        "\n",
        "# Compile Model\n",
        "MobileNetV2_model_2.compile(loss='categorical_crossentropy',optimizer=tf.keras.optimizers.Adam(), metrics=['accuracy']) \n",
        "\n",
        "# Model Summary\n",
        "MobileNetV2_model_2.summary()"
      ]
    },
    {
      "cell_type": "code",
      "execution_count": 16,
      "metadata": {
        "colab": {
          "base_uri": "https://localhost:8080/"
        },
        "id": "6beuexC9U2TJ",
        "outputId": "76471469-de2f-4c27-d296-22576a264622",
        "tags": []
      },
      "outputs": [
        {
          "name": "stdout",
          "output_type": "stream",
          "text": [
            "Epoch 1/100\n",
            "384/384 [==============================] - ETA: 0s - loss: 0.3107 - accuracy: 0.8968\n",
            "Epoch 1: val_accuracy improved from -inf to 0.38329, saving model to Corn_MobileNetV2_model2_Based_Non_Augmented\n"
          ]
        },
        {
          "name": "stderr",
          "output_type": "stream",
          "text": [
            "WARNING:absl:Function `_wrapped_model` contains input name(s) mobilenetv2_1.00_224_input with unsupported characters which will be renamed to mobilenetv2_1_00_224_input in the SavedModel.\n",
            "WARNING:absl:Found untraced functions such as _jit_compiled_convolution_op, _jit_compiled_convolution_op, _jit_compiled_convolution_op, _jit_compiled_convolution_op, _jit_compiled_convolution_op while saving (showing 5 of 52). These functions will not be directly callable after loading.\n"
          ]
        },
        {
          "name": "stdout",
          "output_type": "stream",
          "text": [
            "INFO:tensorflow:Assets written to: Corn_MobileNetV2_model2_Based_Non_Augmented\\assets\n"
          ]
        },
        {
          "name": "stderr",
          "output_type": "stream",
          "text": [
            "INFO:tensorflow:Assets written to: Corn_MobileNetV2_model2_Based_Non_Augmented\\assets\n"
          ]
        },
        {
          "name": "stdout",
          "output_type": "stream",
          "text": [
            "384/384 [==============================] - 62s 151ms/step - loss: 0.3107 - accuracy: 0.8968 - val_loss: 9.8284 - val_accuracy: 0.3833 - lr: 0.0010\n",
            "Epoch 2/100\n",
            "384/384 [==============================] - ETA: 0s - loss: 0.1859 - accuracy: 0.9365\n",
            "Epoch 2: val_accuracy improved from 0.38329 to 0.53369, saving model to Corn_MobileNetV2_model2_Based_Non_Augmented\n"
          ]
        },
        {
          "name": "stderr",
          "output_type": "stream",
          "text": [
            "WARNING:absl:Function `_wrapped_model` contains input name(s) mobilenetv2_1.00_224_input with unsupported characters which will be renamed to mobilenetv2_1_00_224_input in the SavedModel.\n",
            "WARNING:absl:Found untraced functions such as _jit_compiled_convolution_op, _jit_compiled_convolution_op, _jit_compiled_convolution_op, _jit_compiled_convolution_op, _jit_compiled_convolution_op while saving (showing 5 of 52). These functions will not be directly callable after loading.\n"
          ]
        },
        {
          "name": "stdout",
          "output_type": "stream",
          "text": [
            "INFO:tensorflow:Assets written to: Corn_MobileNetV2_model2_Based_Non_Augmented\\assets\n"
          ]
        },
        {
          "name": "stderr",
          "output_type": "stream",
          "text": [
            "INFO:tensorflow:Assets written to: Corn_MobileNetV2_model2_Based_Non_Augmented\\assets\n"
          ]
        },
        {
          "name": "stdout",
          "output_type": "stream",
          "text": [
            "384/384 [==============================] - 57s 148ms/step - loss: 0.1859 - accuracy: 0.9365 - val_loss: 5.4556 - val_accuracy: 0.5337 - lr: 0.0010\n",
            "Epoch 3/100\n",
            "384/384 [==============================] - ETA: 0s - loss: 0.1207 - accuracy: 0.9547\n",
            "Epoch 3: val_accuracy did not improve from 0.53369\n",
            "384/384 [==============================] - 43s 113ms/step - loss: 0.1207 - accuracy: 0.9547 - val_loss: 5.3248 - val_accuracy: 0.5111 - lr: 0.0010\n",
            "Epoch 4/100\n",
            "384/384 [==============================] - ETA: 0s - loss: 0.1464 - accuracy: 0.9528\n",
            "Epoch 4: val_accuracy did not improve from 0.53369\n",
            "384/384 [==============================] - 44s 113ms/step - loss: 0.1464 - accuracy: 0.9528 - val_loss: 29.4351 - val_accuracy: 0.2668 - lr: 0.0010\n",
            "Epoch 5/100\n",
            "384/384 [==============================] - ETA: 0s - loss: 0.1348 - accuracy: 0.9533\n",
            "Epoch 5: val_accuracy did not improve from 0.53369\n",
            "384/384 [==============================] - 44s 113ms/step - loss: 0.1348 - accuracy: 0.9533 - val_loss: 9.2558 - val_accuracy: 0.2976 - lr: 0.0010\n",
            "Epoch 6/100\n",
            "384/384 [==============================] - ETA: 0s - loss: 0.1168 - accuracy: 0.9601\n",
            "Epoch 6: val_accuracy did not improve from 0.53369\n",
            "384/384 [==============================] - 44s 116ms/step - loss: 0.1168 - accuracy: 0.9601 - val_loss: 17.0575 - val_accuracy: 0.3391 - lr: 0.0010\n",
            "Epoch 7/100\n",
            "384/384 [==============================] - ETA: 0s - loss: 0.0942 - accuracy: 0.9676\n",
            "Epoch 7: val_accuracy improved from 0.53369 to 0.60485, saving model to Corn_MobileNetV2_model2_Based_Non_Augmented\n"
          ]
        },
        {
          "name": "stderr",
          "output_type": "stream",
          "text": [
            "WARNING:absl:Function `_wrapped_model` contains input name(s) mobilenetv2_1.00_224_input with unsupported characters which will be renamed to mobilenetv2_1_00_224_input in the SavedModel.\n",
            "WARNING:absl:Found untraced functions such as _jit_compiled_convolution_op, _jit_compiled_convolution_op, _jit_compiled_convolution_op, _jit_compiled_convolution_op, _jit_compiled_convolution_op while saving (showing 5 of 52). These functions will not be directly callable after loading.\n"
          ]
        },
        {
          "name": "stdout",
          "output_type": "stream",
          "text": [
            "INFO:tensorflow:Assets written to: Corn_MobileNetV2_model2_Based_Non_Augmented\\assets\n"
          ]
        },
        {
          "name": "stderr",
          "output_type": "stream",
          "text": [
            "INFO:tensorflow:Assets written to: Corn_MobileNetV2_model2_Based_Non_Augmented\\assets\n"
          ]
        },
        {
          "name": "stdout",
          "output_type": "stream",
          "text": [
            "384/384 [==============================] - 65s 169ms/step - loss: 0.0942 - accuracy: 0.9676 - val_loss: 3.2242 - val_accuracy: 0.6049 - lr: 0.0010\n",
            "Epoch 8/100\n",
            "384/384 [==============================] - ETA: 0s - loss: 0.0949 - accuracy: 0.9665\n",
            "Epoch 8: val_accuracy improved from 0.60485 to 0.67332, saving model to Corn_MobileNetV2_model2_Based_Non_Augmented\n"
          ]
        },
        {
          "name": "stderr",
          "output_type": "stream",
          "text": [
            "WARNING:absl:Function `_wrapped_model` contains input name(s) mobilenetv2_1.00_224_input with unsupported characters which will be renamed to mobilenetv2_1_00_224_input in the SavedModel.\n",
            "WARNING:absl:Found untraced functions such as _jit_compiled_convolution_op, _jit_compiled_convolution_op, _jit_compiled_convolution_op, _jit_compiled_convolution_op, _jit_compiled_convolution_op while saving (showing 5 of 52). These functions will not be directly callable after loading.\n"
          ]
        },
        {
          "name": "stdout",
          "output_type": "stream",
          "text": [
            "INFO:tensorflow:Assets written to: Corn_MobileNetV2_model2_Based_Non_Augmented\\assets\n"
          ]
        },
        {
          "name": "stderr",
          "output_type": "stream",
          "text": [
            "INFO:tensorflow:Assets written to: Corn_MobileNetV2_model2_Based_Non_Augmented\\assets\n"
          ]
        },
        {
          "name": "stdout",
          "output_type": "stream",
          "text": [
            "384/384 [==============================] - 62s 161ms/step - loss: 0.0949 - accuracy: 0.9665 - val_loss: 1.9162 - val_accuracy: 0.6733 - lr: 0.0010\n",
            "Epoch 9/100\n",
            "384/384 [==============================] - ETA: 0s - loss: 0.0750 - accuracy: 0.9760\n",
            "Epoch 9: val_accuracy improved from 0.67332 to 0.84474, saving model to Corn_MobileNetV2_model2_Based_Non_Augmented\n"
          ]
        },
        {
          "name": "stderr",
          "output_type": "stream",
          "text": [
            "WARNING:absl:Function `_wrapped_model` contains input name(s) mobilenetv2_1.00_224_input with unsupported characters which will be renamed to mobilenetv2_1_00_224_input in the SavedModel.\n",
            "WARNING:absl:Found untraced functions such as _jit_compiled_convolution_op, _jit_compiled_convolution_op, _jit_compiled_convolution_op, _jit_compiled_convolution_op, _jit_compiled_convolution_op while saving (showing 5 of 52). These functions will not be directly callable after loading.\n"
          ]
        },
        {
          "name": "stdout",
          "output_type": "stream",
          "text": [
            "INFO:tensorflow:Assets written to: Corn_MobileNetV2_model2_Based_Non_Augmented\\assets\n"
          ]
        },
        {
          "name": "stderr",
          "output_type": "stream",
          "text": [
            "INFO:tensorflow:Assets written to: Corn_MobileNetV2_model2_Based_Non_Augmented\\assets\n"
          ]
        },
        {
          "name": "stdout",
          "output_type": "stream",
          "text": [
            "384/384 [==============================] - 62s 162ms/step - loss: 0.0750 - accuracy: 0.9760 - val_loss: 0.4919 - val_accuracy: 0.8447 - lr: 0.0010\n",
            "Epoch 10/100\n",
            "384/384 [==============================] - ETA: 0s - loss: 0.0813 - accuracy: 0.9735\n",
            "Epoch 10: val_accuracy did not improve from 0.84474\n",
            "384/384 [==============================] - 45s 116ms/step - loss: 0.0813 - accuracy: 0.9735 - val_loss: 6.8071 - val_accuracy: 0.6383 - lr: 0.0010\n",
            "Epoch 11/100\n",
            "384/384 [==============================] - ETA: 0s - loss: 0.0748 - accuracy: 0.9725\n",
            "Epoch 11: val_accuracy improved from 0.84474 to 0.88410, saving model to Corn_MobileNetV2_model2_Based_Non_Augmented\n"
          ]
        },
        {
          "name": "stderr",
          "output_type": "stream",
          "text": [
            "WARNING:absl:Function `_wrapped_model` contains input name(s) mobilenetv2_1.00_224_input with unsupported characters which will be renamed to mobilenetv2_1_00_224_input in the SavedModel.\n",
            "WARNING:absl:Found untraced functions such as _jit_compiled_convolution_op, _jit_compiled_convolution_op, _jit_compiled_convolution_op, _jit_compiled_convolution_op, _jit_compiled_convolution_op while saving (showing 5 of 52). These functions will not be directly callable after loading.\n"
          ]
        },
        {
          "name": "stdout",
          "output_type": "stream",
          "text": [
            "INFO:tensorflow:Assets written to: Corn_MobileNetV2_model2_Based_Non_Augmented\\assets\n"
          ]
        },
        {
          "name": "stderr",
          "output_type": "stream",
          "text": [
            "INFO:tensorflow:Assets written to: Corn_MobileNetV2_model2_Based_Non_Augmented\\assets\n"
          ]
        },
        {
          "name": "stdout",
          "output_type": "stream",
          "text": [
            "384/384 [==============================] - 62s 162ms/step - loss: 0.0748 - accuracy: 0.9725 - val_loss: 0.5923 - val_accuracy: 0.8841 - lr: 0.0010\n",
            "Epoch 12/100\n",
            "384/384 [==============================] - ETA: 0s - loss: 0.0749 - accuracy: 0.9763\n",
            "Epoch 12: val_accuracy did not improve from 0.88410\n",
            "384/384 [==============================] - 44s 115ms/step - loss: 0.0749 - accuracy: 0.9763 - val_loss: 2.4184 - val_accuracy: 0.6280 - lr: 0.0010\n",
            "Epoch 13/100\n",
            "384/384 [==============================] - ETA: 0s - loss: 0.0770 - accuracy: 0.9760\n",
            "Epoch 13: val_accuracy improved from 0.88410 to 0.92938, saving model to Corn_MobileNetV2_model2_Based_Non_Augmented\n"
          ]
        },
        {
          "name": "stderr",
          "output_type": "stream",
          "text": [
            "WARNING:absl:Function `_wrapped_model` contains input name(s) mobilenetv2_1.00_224_input with unsupported characters which will be renamed to mobilenetv2_1_00_224_input in the SavedModel.\n",
            "WARNING:absl:Found untraced functions such as _jit_compiled_convolution_op, _jit_compiled_convolution_op, _jit_compiled_convolution_op, _jit_compiled_convolution_op, _jit_compiled_convolution_op while saving (showing 5 of 52). These functions will not be directly callable after loading.\n"
          ]
        },
        {
          "name": "stdout",
          "output_type": "stream",
          "text": [
            "INFO:tensorflow:Assets written to: Corn_MobileNetV2_model2_Based_Non_Augmented\\assets\n"
          ]
        },
        {
          "name": "stderr",
          "output_type": "stream",
          "text": [
            "INFO:tensorflow:Assets written to: Corn_MobileNetV2_model2_Based_Non_Augmented\\assets\n"
          ]
        },
        {
          "name": "stdout",
          "output_type": "stream",
          "text": [
            "384/384 [==============================] - 67s 175ms/step - loss: 0.0770 - accuracy: 0.9760 - val_loss: 0.3103 - val_accuracy: 0.9294 - lr: 0.0010\n",
            "Epoch 14/100\n",
            "384/384 [==============================] - ETA: 0s - loss: 0.0562 - accuracy: 0.9825\n",
            "Epoch 14: val_accuracy improved from 0.92938 to 0.94879, saving model to Corn_MobileNetV2_model2_Based_Non_Augmented\n"
          ]
        },
        {
          "name": "stderr",
          "output_type": "stream",
          "text": [
            "WARNING:absl:Function `_wrapped_model` contains input name(s) mobilenetv2_1.00_224_input with unsupported characters which will be renamed to mobilenetv2_1_00_224_input in the SavedModel.\n",
            "WARNING:absl:Found untraced functions such as _jit_compiled_convolution_op, _jit_compiled_convolution_op, _jit_compiled_convolution_op, _jit_compiled_convolution_op, _jit_compiled_convolution_op while saving (showing 5 of 52). These functions will not be directly callable after loading.\n"
          ]
        },
        {
          "name": "stdout",
          "output_type": "stream",
          "text": [
            "INFO:tensorflow:Assets written to: Corn_MobileNetV2_model2_Based_Non_Augmented\\assets\n"
          ]
        },
        {
          "name": "stderr",
          "output_type": "stream",
          "text": [
            "INFO:tensorflow:Assets written to: Corn_MobileNetV2_model2_Based_Non_Augmented\\assets\n"
          ]
        },
        {
          "name": "stdout",
          "output_type": "stream",
          "text": [
            "384/384 [==============================] - 69s 178ms/step - loss: 0.0562 - accuracy: 0.9825 - val_loss: 0.1735 - val_accuracy: 0.9488 - lr: 0.0010\n",
            "Epoch 15/100\n",
            "384/384 [==============================] - ETA: 0s - loss: 0.0629 - accuracy: 0.9768\n",
            "Epoch 15: val_accuracy did not improve from 0.94879\n",
            "384/384 [==============================] - 45s 116ms/step - loss: 0.0629 - accuracy: 0.9768 - val_loss: 0.6504 - val_accuracy: 0.8803 - lr: 0.0010\n",
            "Epoch 16/100\n",
            "384/384 [==============================] - ETA: 0s - loss: 0.0699 - accuracy: 0.9769\n",
            "Epoch 16: val_accuracy did not improve from 0.94879\n",
            "384/384 [==============================] - 44s 115ms/step - loss: 0.0699 - accuracy: 0.9769 - val_loss: 0.9381 - val_accuracy: 0.6248 - lr: 0.0010\n",
            "Epoch 17/100\n",
            "384/384 [==============================] - ETA: 0s - loss: 0.0692 - accuracy: 0.9769\n",
            "Epoch 17: val_accuracy improved from 0.94879 to 0.95094, saving model to Corn_MobileNetV2_model2_Based_Non_Augmented\n"
          ]
        },
        {
          "name": "stderr",
          "output_type": "stream",
          "text": [
            "WARNING:absl:Function `_wrapped_model` contains input name(s) mobilenetv2_1.00_224_input with unsupported characters which will be renamed to mobilenetv2_1_00_224_input in the SavedModel.\n",
            "WARNING:absl:Found untraced functions such as _jit_compiled_convolution_op, _jit_compiled_convolution_op, _jit_compiled_convolution_op, _jit_compiled_convolution_op, _jit_compiled_convolution_op while saving (showing 5 of 52). These functions will not be directly callable after loading.\n"
          ]
        },
        {
          "name": "stdout",
          "output_type": "stream",
          "text": [
            "INFO:tensorflow:Assets written to: Corn_MobileNetV2_model2_Based_Non_Augmented\\assets\n"
          ]
        },
        {
          "name": "stderr",
          "output_type": "stream",
          "text": [
            "INFO:tensorflow:Assets written to: Corn_MobileNetV2_model2_Based_Non_Augmented\\assets\n"
          ]
        },
        {
          "name": "stdout",
          "output_type": "stream",
          "text": [
            "384/384 [==============================] - 63s 162ms/step - loss: 0.0692 - accuracy: 0.9769 - val_loss: 0.2699 - val_accuracy: 0.9509 - lr: 0.0010\n",
            "Epoch 18/100\n",
            "384/384 [==============================] - ETA: 0s - loss: 0.0376 - accuracy: 0.9875\n",
            "Epoch 18: val_accuracy did not improve from 0.95094\n",
            "384/384 [==============================] - 45s 116ms/step - loss: 0.0376 - accuracy: 0.9875 - val_loss: 0.3440 - val_accuracy: 0.9337 - lr: 0.0010\n",
            "Epoch 19/100\n",
            "384/384 [==============================] - ETA: 0s - loss: 0.0491 - accuracy: 0.9830\n",
            "Epoch 19: val_accuracy did not improve from 0.95094\n",
            "\n",
            "Epoch 19: ReduceLROnPlateau reducing learning rate to 0.00010000000474974513.\n",
            "384/384 [==============================] - 45s 116ms/step - loss: 0.0491 - accuracy: 0.9830 - val_loss: 2.1235 - val_accuracy: 0.7057 - lr: 0.0010\n",
            "Epoch 20/100\n",
            "384/384 [==============================] - ETA: 0s - loss: 0.0243 - accuracy: 0.9923\n",
            "Epoch 20: val_accuracy improved from 0.95094 to 0.95903, saving model to Corn_MobileNetV2_model2_Based_Non_Augmented\n"
          ]
        },
        {
          "name": "stderr",
          "output_type": "stream",
          "text": [
            "WARNING:absl:Function `_wrapped_model` contains input name(s) mobilenetv2_1.00_224_input with unsupported characters which will be renamed to mobilenetv2_1_00_224_input in the SavedModel.\n",
            "WARNING:absl:Found untraced functions such as _jit_compiled_convolution_op, _jit_compiled_convolution_op, _jit_compiled_convolution_op, _jit_compiled_convolution_op, _jit_compiled_convolution_op while saving (showing 5 of 52). These functions will not be directly callable after loading.\n"
          ]
        },
        {
          "name": "stdout",
          "output_type": "stream",
          "text": [
            "INFO:tensorflow:Assets written to: Corn_MobileNetV2_model2_Based_Non_Augmented\\assets\n"
          ]
        },
        {
          "name": "stderr",
          "output_type": "stream",
          "text": [
            "INFO:tensorflow:Assets written to: Corn_MobileNetV2_model2_Based_Non_Augmented\\assets\n"
          ]
        },
        {
          "name": "stdout",
          "output_type": "stream",
          "text": [
            "384/384 [==============================] - 63s 165ms/step - loss: 0.0243 - accuracy: 0.9923 - val_loss: 0.1857 - val_accuracy: 0.9590 - lr: 1.0000e-04\n",
            "Epoch 21/100\n",
            "384/384 [==============================] - ETA: 0s - loss: 0.0126 - accuracy: 0.9960\n",
            "Epoch 21: val_accuracy improved from 0.95903 to 0.97520, saving model to Corn_MobileNetV2_model2_Based_Non_Augmented\n"
          ]
        },
        {
          "name": "stderr",
          "output_type": "stream",
          "text": [
            "WARNING:absl:Function `_wrapped_model` contains input name(s) mobilenetv2_1.00_224_input with unsupported characters which will be renamed to mobilenetv2_1_00_224_input in the SavedModel.\n",
            "WARNING:absl:Found untraced functions such as _jit_compiled_convolution_op, _jit_compiled_convolution_op, _jit_compiled_convolution_op, _jit_compiled_convolution_op, _jit_compiled_convolution_op while saving (showing 5 of 52). These functions will not be directly callable after loading.\n"
          ]
        },
        {
          "name": "stdout",
          "output_type": "stream",
          "text": [
            "INFO:tensorflow:Assets written to: Corn_MobileNetV2_model2_Based_Non_Augmented\\assets\n"
          ]
        },
        {
          "name": "stderr",
          "output_type": "stream",
          "text": [
            "INFO:tensorflow:Assets written to: Corn_MobileNetV2_model2_Based_Non_Augmented\\assets\n"
          ]
        },
        {
          "name": "stdout",
          "output_type": "stream",
          "text": [
            "384/384 [==============================] - 62s 161ms/step - loss: 0.0126 - accuracy: 0.9960 - val_loss: 0.1032 - val_accuracy: 0.9752 - lr: 1.0000e-04\n",
            "Epoch 22/100\n",
            "384/384 [==============================] - ETA: 0s - loss: 0.0115 - accuracy: 0.9974\n",
            "Epoch 22: val_accuracy improved from 0.97520 to 0.97736, saving model to Corn_MobileNetV2_model2_Based_Non_Augmented\n"
          ]
        },
        {
          "name": "stderr",
          "output_type": "stream",
          "text": [
            "WARNING:absl:Function `_wrapped_model` contains input name(s) mobilenetv2_1.00_224_input with unsupported characters which will be renamed to mobilenetv2_1_00_224_input in the SavedModel.\n",
            "WARNING:absl:Found untraced functions such as _jit_compiled_convolution_op, _jit_compiled_convolution_op, _jit_compiled_convolution_op, _jit_compiled_convolution_op, _jit_compiled_convolution_op while saving (showing 5 of 52). These functions will not be directly callable after loading.\n"
          ]
        },
        {
          "name": "stdout",
          "output_type": "stream",
          "text": [
            "INFO:tensorflow:Assets written to: Corn_MobileNetV2_model2_Based_Non_Augmented\\assets\n"
          ]
        },
        {
          "name": "stderr",
          "output_type": "stream",
          "text": [
            "INFO:tensorflow:Assets written to: Corn_MobileNetV2_model2_Based_Non_Augmented\\assets\n"
          ]
        },
        {
          "name": "stdout",
          "output_type": "stream",
          "text": [
            "384/384 [==============================] - 63s 164ms/step - loss: 0.0115 - accuracy: 0.9974 - val_loss: 0.0860 - val_accuracy: 0.9774 - lr: 1.0000e-04\n",
            "Epoch 23/100\n",
            "384/384 [==============================] - ETA: 0s - loss: 0.0064 - accuracy: 0.9986\n",
            "Epoch 23: val_accuracy improved from 0.97736 to 0.97790, saving model to Corn_MobileNetV2_model2_Based_Non_Augmented\n"
          ]
        },
        {
          "name": "stderr",
          "output_type": "stream",
          "text": [
            "WARNING:absl:Function `_wrapped_model` contains input name(s) mobilenetv2_1.00_224_input with unsupported characters which will be renamed to mobilenetv2_1_00_224_input in the SavedModel.\n",
            "WARNING:absl:Found untraced functions such as _jit_compiled_convolution_op, _jit_compiled_convolution_op, _jit_compiled_convolution_op, _jit_compiled_convolution_op, _jit_compiled_convolution_op while saving (showing 5 of 52). These functions will not be directly callable after loading.\n"
          ]
        },
        {
          "name": "stdout",
          "output_type": "stream",
          "text": [
            "INFO:tensorflow:Assets written to: Corn_MobileNetV2_model2_Based_Non_Augmented\\assets\n"
          ]
        },
        {
          "name": "stderr",
          "output_type": "stream",
          "text": [
            "INFO:tensorflow:Assets written to: Corn_MobileNetV2_model2_Based_Non_Augmented\\assets\n"
          ]
        },
        {
          "name": "stdout",
          "output_type": "stream",
          "text": [
            "384/384 [==============================] - 65s 168ms/step - loss: 0.0064 - accuracy: 0.9986 - val_loss: 0.0974 - val_accuracy: 0.9779 - lr: 1.0000e-04\n",
            "Epoch 24/100\n",
            "384/384 [==============================] - ETA: 0s - loss: 0.0039 - accuracy: 0.9991\n",
            "Epoch 24: val_accuracy improved from 0.97790 to 0.97898, saving model to Corn_MobileNetV2_model2_Based_Non_Augmented\n"
          ]
        },
        {
          "name": "stderr",
          "output_type": "stream",
          "text": [
            "WARNING:absl:Function `_wrapped_model` contains input name(s) mobilenetv2_1.00_224_input with unsupported characters which will be renamed to mobilenetv2_1_00_224_input in the SavedModel.\n",
            "WARNING:absl:Found untraced functions such as _jit_compiled_convolution_op, _jit_compiled_convolution_op, _jit_compiled_convolution_op, _jit_compiled_convolution_op, _jit_compiled_convolution_op while saving (showing 5 of 52). These functions will not be directly callable after loading.\n"
          ]
        },
        {
          "name": "stdout",
          "output_type": "stream",
          "text": [
            "INFO:tensorflow:Assets written to: Corn_MobileNetV2_model2_Based_Non_Augmented\\assets\n"
          ]
        },
        {
          "name": "stderr",
          "output_type": "stream",
          "text": [
            "INFO:tensorflow:Assets written to: Corn_MobileNetV2_model2_Based_Non_Augmented\\assets\n"
          ]
        },
        {
          "name": "stdout",
          "output_type": "stream",
          "text": [
            "384/384 [==============================] - 63s 163ms/step - loss: 0.0039 - accuracy: 0.9991 - val_loss: 0.1004 - val_accuracy: 0.9790 - lr: 1.0000e-04\n",
            "Epoch 25/100\n",
            "384/384 [==============================] - ETA: 0s - loss: 0.0050 - accuracy: 0.9986\n",
            "Epoch 25: val_accuracy improved from 0.97898 to 0.98005, saving model to Corn_MobileNetV2_model2_Based_Non_Augmented\n"
          ]
        },
        {
          "name": "stderr",
          "output_type": "stream",
          "text": [
            "WARNING:absl:Function `_wrapped_model` contains input name(s) mobilenetv2_1.00_224_input with unsupported characters which will be renamed to mobilenetv2_1_00_224_input in the SavedModel.\n",
            "WARNING:absl:Found untraced functions such as _jit_compiled_convolution_op, _jit_compiled_convolution_op, _jit_compiled_convolution_op, _jit_compiled_convolution_op, _jit_compiled_convolution_op while saving (showing 5 of 52). These functions will not be directly callable after loading.\n"
          ]
        },
        {
          "name": "stdout",
          "output_type": "stream",
          "text": [
            "INFO:tensorflow:Assets written to: Corn_MobileNetV2_model2_Based_Non_Augmented\\assets\n"
          ]
        },
        {
          "name": "stderr",
          "output_type": "stream",
          "text": [
            "INFO:tensorflow:Assets written to: Corn_MobileNetV2_model2_Based_Non_Augmented\\assets\n"
          ]
        },
        {
          "name": "stdout",
          "output_type": "stream",
          "text": [
            "384/384 [==============================] - 64s 165ms/step - loss: 0.0050 - accuracy: 0.9986 - val_loss: 0.0927 - val_accuracy: 0.9801 - lr: 1.0000e-04\n",
            "Epoch 26/100\n",
            "384/384 [==============================] - ETA: 0s - loss: 0.0038 - accuracy: 0.9990\n",
            "Epoch 26: val_accuracy did not improve from 0.98005\n",
            "384/384 [==============================] - 47s 120ms/step - loss: 0.0038 - accuracy: 0.9990 - val_loss: 0.0956 - val_accuracy: 0.9784 - lr: 1.0000e-04\n",
            "Epoch 27/100\n",
            "384/384 [==============================] - ETA: 0s - loss: 0.0069 - accuracy: 0.9984\n",
            "Epoch 27: val_accuracy did not improve from 0.98005\n",
            "\n",
            "Epoch 27: ReduceLROnPlateau reducing learning rate to 1.0000000474974514e-05.\n",
            "384/384 [==============================] - 46s 120ms/step - loss: 0.0069 - accuracy: 0.9984 - val_loss: 0.1042 - val_accuracy: 0.9784 - lr: 1.0000e-04\n",
            "Epoch 28/100\n",
            "384/384 [==============================] - ETA: 0s - loss: 0.0026 - accuracy: 0.9996\n",
            "Epoch 28: val_accuracy did not improve from 0.98005\n",
            "384/384 [==============================] - 46s 120ms/step - loss: 0.0026 - accuracy: 0.9996 - val_loss: 0.1013 - val_accuracy: 0.9768 - lr: 1.0000e-05\n",
            "Epoch 29/100\n",
            "384/384 [==============================] - ETA: 0s - loss: 0.0033 - accuracy: 0.9991\n",
            "Epoch 29: val_accuracy did not improve from 0.98005\n",
            "384/384 [==============================] - 46s 119ms/step - loss: 0.0033 - accuracy: 0.9991 - val_loss: 0.1007 - val_accuracy: 0.9763 - lr: 1.0000e-05\n",
            "Epoch 30/100\n",
            "384/384 [==============================] - ETA: 0s - loss: 0.0020 - accuracy: 0.9996\n",
            "Epoch 30: val_accuracy did not improve from 0.98005\n",
            "384/384 [==============================] - 46s 119ms/step - loss: 0.0020 - accuracy: 0.9996 - val_loss: 0.1010 - val_accuracy: 0.9763 - lr: 1.0000e-05\n",
            "Epoch 31/100\n",
            "384/384 [==============================] - ETA: 0s - loss: 0.0026 - accuracy: 0.9993\n",
            "Epoch 31: val_accuracy did not improve from 0.98005\n",
            "384/384 [==============================] - 45s 118ms/step - loss: 0.0026 - accuracy: 0.9993 - val_loss: 0.0985 - val_accuracy: 0.9768 - lr: 1.0000e-05\n",
            "Epoch 32/100\n",
            "384/384 [==============================] - ETA: 0s - loss: 0.0018 - accuracy: 0.9996\n",
            "Epoch 32: val_accuracy did not improve from 0.98005\n",
            "\n",
            "Epoch 32: ReduceLROnPlateau reducing learning rate to 1.0000000656873453e-06.\n",
            "384/384 [==============================] - 46s 118ms/step - loss: 0.0018 - accuracy: 0.9996 - val_loss: 0.0992 - val_accuracy: 0.9763 - lr: 1.0000e-05\n",
            "Epoch 33/100\n",
            "384/384 [==============================] - ETA: 0s - loss: 0.0012 - accuracy: 0.9997\n",
            "Epoch 33: val_accuracy did not improve from 0.98005\n",
            "384/384 [==============================] - 46s 120ms/step - loss: 0.0012 - accuracy: 0.9997 - val_loss: 0.0997 - val_accuracy: 0.9757 - lr: 1.0000e-06\n",
            "Epoch 34/100\n",
            "384/384 [==============================] - ETA: 0s - loss: 0.0015 - accuracy: 0.9996\n",
            "Epoch 34: val_accuracy did not improve from 0.98005\n",
            "384/384 [==============================] - 46s 120ms/step - loss: 0.0015 - accuracy: 0.9996 - val_loss: 0.1001 - val_accuracy: 0.9763 - lr: 1.0000e-06\n",
            "Epoch 35/100\n",
            "384/384 [==============================] - ETA: 0s - loss: 0.0014 - accuracy: 0.9997\n",
            "Epoch 35: val_accuracy did not improve from 0.98005\n",
            "384/384 [==============================] - 46s 121ms/step - loss: 0.0014 - accuracy: 0.9997 - val_loss: 0.1005 - val_accuracy: 0.9763 - lr: 1.0000e-06\n",
            "Epoch 36/100\n",
            "384/384 [==============================] - ETA: 0s - loss: 0.0013 - accuracy: 0.9997\n",
            "Epoch 36: val_accuracy did not improve from 0.98005\n",
            "384/384 [==============================] - 48s 124ms/step - loss: 0.0013 - accuracy: 0.9997 - val_loss: 0.1008 - val_accuracy: 0.9768 - lr: 1.0000e-06\n",
            "Epoch 37/100\n",
            "384/384 [==============================] - ETA: 0s - loss: 0.0019 - accuracy: 0.9996\n",
            "Epoch 37: val_accuracy did not improve from 0.98005\n",
            "\n",
            "Epoch 37: ReduceLROnPlateau reducing learning rate to 1.0000001111620805e-07.\n",
            "384/384 [==============================] - 47s 122ms/step - loss: 0.0019 - accuracy: 0.9996 - val_loss: 0.1013 - val_accuracy: 0.9768 - lr: 1.0000e-06\n",
            "Epoch 38/100\n",
            "384/384 [==============================] - ETA: 0s - loss: 0.0011 - accuracy: 0.9997\n",
            "Epoch 38: val_accuracy did not improve from 0.98005\n",
            "384/384 [==============================] - 47s 121ms/step - loss: 0.0011 - accuracy: 0.9997 - val_loss: 0.1015 - val_accuracy: 0.9763 - lr: 1.0000e-07\n",
            "Epoch 39/100\n",
            "384/384 [==============================] - ETA: 0s - loss: 8.3830e-04 - accuracy: 0.9999\n",
            "Epoch 39: val_accuracy did not improve from 0.98005\n",
            "384/384 [==============================] - 46s 120ms/step - loss: 8.3830e-04 - accuracy: 0.9999 - val_loss: 0.1015 - val_accuracy: 0.9763 - lr: 1.0000e-07\n",
            "Epoch 40/100\n",
            "384/384 [==============================] - ETA: 0s - loss: 0.0021 - accuracy: 0.9997\n",
            "Epoch 40: val_accuracy did not improve from 0.98005\n",
            "384/384 [==============================] - 45s 116ms/step - loss: 0.0021 - accuracy: 0.9997 - val_loss: 0.1014 - val_accuracy: 0.9763 - lr: 1.0000e-07\n",
            "Epoch 41/100\n",
            "384/384 [==============================] - ETA: 0s - loss: 0.0018 - accuracy: 0.9993\n",
            "Epoch 41: val_accuracy did not improve from 0.98005\n",
            "384/384 [==============================] - 45s 116ms/step - loss: 0.0018 - accuracy: 0.9993 - val_loss: 0.1017 - val_accuracy: 0.9757 - lr: 1.0000e-07\n",
            "Epoch 42/100\n",
            "384/384 [==============================] - ETA: 0s - loss: 0.0014 - accuracy: 0.9996\n",
            "Epoch 42: val_accuracy did not improve from 0.98005\n",
            "\n",
            "Epoch 42: ReduceLROnPlateau reducing learning rate to 1.000000082740371e-08.\n",
            "384/384 [==============================] - 45s 117ms/step - loss: 0.0014 - accuracy: 0.9996 - val_loss: 0.1017 - val_accuracy: 0.9757 - lr: 1.0000e-07\n",
            "Epoch 43/100\n",
            "384/384 [==============================] - ETA: 0s - loss: 0.0037 - accuracy: 0.9995\n",
            "Epoch 43: val_accuracy did not improve from 0.98005\n",
            "384/384 [==============================] - 45s 118ms/step - loss: 0.0037 - accuracy: 0.9995 - val_loss: 0.1018 - val_accuracy: 0.9757 - lr: 1.0000e-08\n",
            "Epoch 44/100\n",
            "384/384 [==============================] - ETA: 0s - loss: 0.0018 - accuracy: 0.9995\n",
            "Epoch 44: val_accuracy did not improve from 0.98005\n",
            "384/384 [==============================] - 45s 117ms/step - loss: 0.0018 - accuracy: 0.9995 - val_loss: 0.1017 - val_accuracy: 0.9757 - lr: 1.0000e-08\n",
            "Epoch 45/100\n",
            "384/384 [==============================] - ETA: 0s - loss: 0.0013 - accuracy: 0.9996\n",
            "Epoch 45: val_accuracy did not improve from 0.98005\n",
            "Restoring model weights from the end of the best epoch: 25.\n",
            "384/384 [==============================] - 45s 117ms/step - loss: 0.0013 - accuracy: 0.9996 - val_loss: 0.1017 - val_accuracy: 0.9757 - lr: 1.0000e-08\n",
            "Epoch 45: early stopping\n"
          ]
        }
      ],
      "source": [
        "# Define the number of epochs\n",
        "num_epochs = 100\n",
        "\n",
        "# Train the model\n",
        "history_MobileNetV2_model_2 = MobileNetV2_model_2.fit(train_generator, epochs=num_epochs, validation_data=validation_generator, callbacks=callbacks)"
      ]
    },
    {
      "cell_type": "code",
      "execution_count": 17,
      "metadata": {
        "colab": {
          "base_uri": "https://localhost:8080/",
          "height": 904
        },
        "id": "3f1nmwUhU2TK",
        "outputId": "eb1304fd-6c84-4475-8c50-ae3e0136c834",
        "tags": []
      },
      "outputs": [
        {
          "data": {
            "text/plain": [
              "<matplotlib.legend.Legend at 0x1c0f7a1c5e0>"
            ]
          },
          "execution_count": 17,
          "metadata": {},
          "output_type": "execute_result"
        },
        {
          "data": {
            "image/png": "[encoded data removed]",
            "text/plain": [
              "<Figure size 640x480 with 1 Axes>"
            ]
          },
          "metadata": {},
          "output_type": "display_data"
        },
        {
          "data": {
            "image/png": "[encoded data removed]",
            "text/plain": [
              "<Figure size 640x480 with 1 Axes>"
            ]
          },
          "metadata": {},
          "output_type": "display_data"
        }
      ],
      "source": [
        "#-----------------------------------------------------------\n",
        "# Retrieve a list of list results on training and test data\n",
        "# sets for each training epoch\n",
        "#-----------------------------------------------------------\n",
        "acc      = history_MobileNetV2_model_2.history['accuracy' ]\n",
        "val_acc  = history_MobileNetV2_model_2.history['val_accuracy' ]\n",
        "loss     = history_MobileNetV2_model_2.history['loss' ]\n",
        "val_loss = history_MobileNetV2_model_2.history['val_loss' ]\n",
        "\n",
        "epochs   = range(len(acc)) # Get number of epochs\n",
        "\n",
        "#------------------------------------------------\n",
        "# Plot training and validation accuracy per epoch\n",
        "#------------------------------------------------\n",
        "plt.plot  (epochs, acc )\n",
        "plt.plot  (epochs, val_acc )\n",
        "plt.title ('Training and validation accuracy MobileNetV2 Model 2')\n",
        "plt.legend(['train', 'val'], loc='upper left')\n",
        "plt.figure()\n",
        "\n",
        "#------------------------------------------------\n",
        "# Plot training and validation loss per epoch\n",
        "#------------------------------------------------\n",
        "plt.plot  (epochs, loss)\n",
        "plt.plot  (epochs, val_loss)\n",
        "plt.title ('Training and validation loss MobileNetV2 Model 2')\n",
        "plt.legend(['train', 'val'], loc='upper left')"
      ]
    }
  ],
  "metadata": {
    "accelerator": "GPU",
    "colab": {
      "gpuType": "T4",
      "provenance": []
    },
    "gpuClass": "standard",
    "kernelspec": {
      "display_name": "Python 3 (ipykernel)",
      "language": "python",
      "name": "python3"
    },
    "language_info": {
      "codemirror_mode": {
        "name": "ipython",
        "version": 3
      },
      "file_extension": ".py",
      "mimetype": "text/x-python",
      "name": "python",
      "nbconvert_exporter": "python",
      "pygments_lexer": "ipython3",
      "version": "3.10.0"
    }
  },
  "nbformat": 4,
  "nbformat_minor": 0
}
