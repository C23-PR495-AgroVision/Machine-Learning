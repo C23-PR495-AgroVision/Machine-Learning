{
 "cells": [
  {
   "cell_type": "markdown",
   "metadata": {
    "id": "hO3kEcUPU2S3"
   },
   "source": [
    "# Library"
   ]
  },
  {
   "cell_type": "code",
   "execution_count": 1,
   "metadata": {
    "colab": {
     "base_uri": "https://localhost:8080/"
    },
    "executionInfo": {
     "elapsed": 6274,
     "status": "ok",
     "timestamp": 1685115647336,
     "user": {
      "displayName": "Ahmad Habib Hasan Zein",
      "userId": "06743622963259718983"
     },
     "user_tz": -420
    },
    "id": "kczkUjsAU2S8",
    "outputId": "d1032947-43a8-4c49-9339-58d0967afe9a"
   },
   "outputs": [
    {
     "name": "stdout",
     "output_type": "stream",
     "text": [
      "Requirement already satisfied: matplotlib in /usr/local/lib/python3.8/dist-packages (3.7.1)\n",
      "Requirement already satisfied: packaging>=20.0 in /usr/local/lib/python3.8/dist-packages (from matplotlib) (23.0)\n",
      "Requirement already satisfied: importlib-resources>=3.2.0 in /usr/local/lib/python3.8/dist-packages (from matplotlib) (5.12.0)\n",
      "Requirement already satisfied: python-dateutil>=2.7 in /usr/local/lib/python3.8/dist-packages (from matplotlib) (2.8.2)\n",
      "Requirement already satisfied: kiwisolver>=1.0.1 in /usr/local/lib/python3.8/dist-packages (from matplotlib) (1.4.4)\n",
      "Requirement already satisfied: contourpy>=1.0.1 in /usr/local/lib/python3.8/dist-packages (from matplotlib) (1.0.7)\n",
      "Requirement already satisfied: pyparsing>=2.3.1 in /usr/local/lib/python3.8/dist-packages (from matplotlib) (3.0.9)\n",
      "Requirement already satisfied: pillow>=6.2.0 in /usr/local/lib/python3.8/dist-packages (from matplotlib) (9.5.0)\n",
      "Requirement already satisfied: cycler>=0.10 in /usr/local/lib/python3.8/dist-packages (from matplotlib) (0.11.0)\n",
      "Requirement already satisfied: fonttools>=4.22.0 in /usr/local/lib/python3.8/dist-packages (from matplotlib) (4.39.4)\n",
      "Requirement already satisfied: numpy>=1.20 in /usr/local/lib/python3.8/dist-packages (from matplotlib) (1.23.5)\n",
      "Requirement already satisfied: zipp>=3.1.0 in /usr/local/lib/python3.8/dist-packages (from importlib-resources>=3.2.0->matplotlib) (3.15.0)\n",
      "Requirement already satisfied: six>=1.5 in /usr/lib/python3/dist-packages (from python-dateutil>=2.7->matplotlib) (1.14.0)\n",
      "\u001b[33mWARNING: Running pip as the 'root' user can result in broken permissions and conflicting behaviour with the system package manager. It is recommended to use a virtual environment instead: https://pip.pypa.io/warnings/venv\u001b[0m\u001b[33m\n",
      "\u001b[0m\n",
      "\u001b[1m[\u001b[0m\u001b[34;49mnotice\u001b[0m\u001b[1;39;49m]\u001b[0m\u001b[39;49m A new release of pip is available: \u001b[0m\u001b[31;49m23.0.1\u001b[0m\u001b[39;49m -> \u001b[0m\u001b[32;49m23.1.2\u001b[0m\n",
      "\u001b[1m[\u001b[0m\u001b[34;49mnotice\u001b[0m\u001b[1;39;49m]\u001b[0m\u001b[39;49m To update, run: \u001b[0m\u001b[32;49mpython3 -m pip install --upgrade pip\u001b[0m\n",
      "Note: you may need to restart the kernel to use updated packages.\n"
     ]
    }
   ],
   "source": [
    "pip install matplotlib"
   ]
  },
  {
   "cell_type": "code",
   "execution_count": 2,
   "metadata": {
    "colab": {
     "base_uri": "https://localhost:8080/"
    },
    "executionInfo": {
     "elapsed": 6339,
     "status": "ok",
     "timestamp": 1685115653673,
     "user": {
      "displayName": "Ahmad Habib Hasan Zein",
      "userId": "06743622963259718983"
     },
     "user_tz": -420
    },
    "id": "oEW3Nbu7U2S_",
    "outputId": "5cf6b3bd-20d4-44ab-ca2e-5b8586ba2791"
   },
   "outputs": [
    {
     "name": "stdout",
     "output_type": "stream",
     "text": [
      "Requirement already satisfied: opendatasets in /usr/local/lib/python3.8/dist-packages (0.1.22)\n",
      "Requirement already satisfied: click in /usr/local/lib/python3.8/dist-packages (from opendatasets) (8.1.3)\n",
      "Requirement already satisfied: kaggle in /usr/local/lib/python3.8/dist-packages (from opendatasets) (1.5.13)\n",
      "Requirement already satisfied: tqdm in /usr/local/lib/python3.8/dist-packages (from opendatasets) (4.65.0)\n",
      "Requirement already satisfied: python-slugify in /usr/local/lib/python3.8/dist-packages (from kaggle->opendatasets) (8.0.1)\n",
      "Requirement already satisfied: python-dateutil in /usr/local/lib/python3.8/dist-packages (from kaggle->opendatasets) (2.8.2)\n",
      "Requirement already satisfied: certifi in /usr/lib/python3/dist-packages (from kaggle->opendatasets) (2019.11.28)\n",
      "Requirement already satisfied: six>=1.10 in /usr/lib/python3/dist-packages (from kaggle->opendatasets) (1.14.0)\n",
      "Requirement already satisfied: requests in /usr/local/lib/python3.8/dist-packages (from kaggle->opendatasets) (2.31.0)\n",
      "Requirement already satisfied: urllib3 in /usr/lib/python3/dist-packages (from kaggle->opendatasets) (1.25.8)\n",
      "Requirement already satisfied: text-unidecode>=1.3 in /usr/local/lib/python3.8/dist-packages (from python-slugify->kaggle->opendatasets) (1.3)\n",
      "Requirement already satisfied: charset-normalizer<4,>=2 in /usr/local/lib/python3.8/dist-packages (from requests->kaggle->opendatasets) (3.1.0)\n",
      "Requirement already satisfied: idna<4,>=2.5 in /usr/lib/python3/dist-packages (from requests->kaggle->opendatasets) (2.8)\n",
      "\u001b[33mWARNING: Running pip as the 'root' user can result in broken permissions and conflicting behaviour with the system package manager. It is recommended to use a virtual environment instead: https://pip.pypa.io/warnings/venv\u001b[0m\u001b[33m\n",
      "\u001b[0m\n",
      "\u001b[1m[\u001b[0m\u001b[34;49mnotice\u001b[0m\u001b[1;39;49m]\u001b[0m\u001b[39;49m A new release of pip is available: \u001b[0m\u001b[31;49m23.0.1\u001b[0m\u001b[39;49m -> \u001b[0m\u001b[32;49m23.1.2\u001b[0m\n",
      "\u001b[1m[\u001b[0m\u001b[34;49mnotice\u001b[0m\u001b[1;39;49m]\u001b[0m\u001b[39;49m To update, run: \u001b[0m\u001b[32;49mpython3 -m pip install --upgrade pip\u001b[0m\n",
      "Note: you may need to restart the kernel to use updated packages.\n"
     ]
    }
   ],
   "source": [
    "pip install opendatasets"
   ]
  },
  {
   "cell_type": "code",
   "execution_count": 3,
   "metadata": {
    "executionInfo": {
     "elapsed": 2264,
     "status": "ok",
     "timestamp": 1685115655936,
     "user": {
      "displayName": "Ahmad Habib Hasan Zein",
      "userId": "06743622963259718983"
     },
     "user_tz": -420
    },
    "id": "SIHHdOB4U2TA"
   },
   "outputs": [],
   "source": [
    "# Library to dataset\n",
    "import opendatasets as od\n",
    "import os\n",
    "import zipfile\n",
    "import numpy as np\n",
    "\n",
    "# Surpress Warnings\n",
    "import warnings\n",
    "warnings.filterwarnings('ignore')\n",
    "os.environ['TF_CPP_MIN_LOG_LEVEL'] = '3' \n",
    "# library visualization\n",
    "import matplotlib.pyplot as plt\n",
    "\n",
    "# Library Tensorflow\n",
    "import tensorflow as tf\n",
    "from tensorflow import keras\n",
    "from tensorflow.keras.preprocessing.image import ImageDataGenerator\n",
    "from tensorflow.keras.callbacks import ModelCheckpoint, EarlyStopping, ReduceLROnPlateau\n",
    "from tensorflow.keras.applications.densenet import DenseNet121\n",
    "from tensorflow.keras.applications.xception import Xception\n",
    "\n",
    "# Others\n",
    "import shutil\n",
    "import random"
   ]
  },
  {
   "cell_type": "markdown",
   "metadata": {
    "id": "Dy8YkYoaU2TB"
   },
   "source": [
    "# Load dataset"
   ]
  },
  {
   "cell_type": "code",
   "execution_count": 4,
   "metadata": {
    "colab": {
     "base_uri": "https://localhost:8080/"
    },
    "executionInfo": {
     "elapsed": 52032,
     "status": "ok",
     "timestamp": 1685115707963,
     "user": {
      "displayName": "Ahmad Habib Hasan Zein",
      "userId": "06743622963259718983"
     },
     "user_tz": -420
    },
    "id": "TWOf7hZ1U2TC",
    "outputId": "63579102-4ccc-46dc-b2fa-87baa330eadd"
   },
   "outputs": [
    {
     "name": "stdout",
     "output_type": "stream",
     "text": [
      "Skipping, found downloaded files in \"./corn-leaves\" (use force=True to force download)\n"
     ]
    }
   ],
   "source": [
    "# Download dataset\n",
    "od.download('https://www.kaggle.com/datasets/ahmadhabibhasanzein/corn-leaves')"
   ]
  },
  {
   "cell_type": "code",
   "execution_count": 5,
   "metadata": {
    "colab": {
     "base_uri": "https://localhost:8080/"
    },
    "executionInfo": {
     "elapsed": 3761,
     "status": "ok",
     "timestamp": 1685115711721,
     "user": {
      "displayName": "Ahmad Habib Hasan Zein",
      "userId": "06743622963259718983"
     },
     "user_tz": -420
    },
    "id": "8ZAjREJ0U2TC",
    "outputId": "42504f9b-7b95-45e1-db3a-4b7869680b66"
   },
   "outputs": [
    {
     "name": "stdout",
     "output_type": "stream",
     "text": [
      "==========================Training Data====================\n",
      "Found 7665 files belonging to 4 classes.\n",
      "==========================Validation Data====================\n",
      "Found 1855 files belonging to 4 classes.\n"
     ]
    }
   ],
   "source": [
    "# Load dataset\n",
    "print(\"==========================Training Data====================\")\n",
    "train_data = tf.keras.preprocessing.image_dataset_from_directory(\n",
    "    \"corn-leaves/Corn/train\",\n",
    "    label_mode=\"categorical\",\n",
    "    class_names=['Corn Gray leaf spot','Corn healthy','Corn leaf blight','Corn rust leaf'],\n",
    "    color_mode=\"rgb\",\n",
    "    batch_size=1,\n",
    "    image_size=(256, 256),\n",
    "    shuffle=True,\n",
    "    seed=123\n",
    ")\n",
    "print(\"==========================Validation Data====================\")\n",
    "val_data = tf.keras.preprocessing.image_dataset_from_directory(\n",
    "    \"corn-leaves/Corn/valid\",\n",
    "    label_mode=\"categorical\",\n",
    "    class_names=['Corn Gray leaf spot','Corn healthy','Corn leaf blight','Corn rust leaf'],\n",
    "    color_mode=\"rgb\",\n",
    "    batch_size=1,\n",
    "    image_size=(256, 256),\n",
    "    shuffle=True,\n",
    "    seed=123\n",
    ")"
   ]
  },
  {
   "cell_type": "code",
   "execution_count": 6,
   "metadata": {
    "colab": {
     "base_uri": "https://localhost:8080/"
    },
    "executionInfo": {
     "elapsed": 15,
     "status": "ok",
     "timestamp": 1685115711722,
     "user": {
      "displayName": "Ahmad Habib Hasan Zein",
      "userId": "06743622963259718983"
     },
     "user_tz": -420
    },
    "id": "vEPzd1egU2TD",
    "outputId": "aa5fab1c-1322-4f4a-a2c3-1606fc411a2d"
   },
   "outputs": [
    {
     "name": "stdout",
     "output_type": "stream",
     "text": [
      "Found 7665 images belonging to 4 classes.\n",
      "Found 1855 images belonging to 4 classes.\n"
     ]
    }
   ],
   "source": [
    "# All images will be rescaled by 1./255.and augmented\n",
    "train_datagen = ImageDataGenerator(rescale = 1.0/256.,\n",
    "                                   rotation_range=40,\n",
    "                                   width_shift_range=0.2,\n",
    "                                   height_shift_range=0.2,\n",
    "                                   shear_range=0.2,\n",
    "                                   zoom_range=0.2,\n",
    "                                   horizontal_flip=True,\n",
    "                                   fill_mode='nearest')\n",
    "\n",
    "test_datagen  = ImageDataGenerator(rescale = 1.0/256.)\n",
    "\n",
    "# --------------------\n",
    "# Flow training images in batches of 20 using train_datagen generator\n",
    "# --------------------\n",
    "train_generator = train_datagen.flow_from_directory(\"corn-leaves/Corn/train\",\n",
    "                                                    batch_size=20,\n",
    "                                                    class_mode='categorical',\n",
    "                                                    target_size=(224, 224))     \n",
    "# --------------------\n",
    "# Flow validation images in batches of 20 using test_datagen generator\n",
    "# --------------------\n",
    "validation_generator =  test_datagen.flow_from_directory(\"corn-leaves/Corn/valid\",\n",
    "                                                         batch_size=20,\n",
    "                                                         class_mode  = 'categorical',\n",
    "                                                         target_size = (224, 224))"
   ]
  },
  {
   "cell_type": "markdown",
   "metadata": {
    "id": "_3jaO5YgU2TE"
   },
   "source": [
    "# List Resource"
   ]
  },
  {
   "cell_type": "code",
   "execution_count": 7,
   "metadata": {
    "colab": {
     "base_uri": "https://localhost:8080/"
    },
    "executionInfo": {
     "elapsed": 12,
     "status": "ok",
     "timestamp": 1685115711722,
     "user": {
      "displayName": "Ahmad Habib Hasan Zein",
      "userId": "06743622963259718983"
     },
     "user_tz": -420
    },
    "id": "SGemCaxnU2TF",
    "outputId": "2ee68ef5-8df9-483d-fd25-75ad73548039"
   },
   "outputs": [
    {
     "name": "stdout",
     "output_type": "stream",
     "text": [
      "Tue May 30 07:29:44 2023       \n",
      "+-----------------------------------------------------------------------------+\n",
      "| NVIDIA-SMI 525.116.03   Driver Version: 525.116.03   CUDA Version: 12.0     |\n",
      "|-------------------------------+----------------------+----------------------+\n",
      "| GPU  Name        Persistence-M| Bus-Id        Disp.A | Volatile Uncorr. ECC |\n",
      "| Fan  Temp  Perf  Pwr:Usage/Cap|         Memory-Usage | GPU-Util  Compute M. |\n",
      "|                               |                      |               MIG M. |\n",
      "|===============================+======================+======================|\n",
      "|   0  NVIDIA GeForce ...  On   | 00000000:09:00.0 Off |                  N/A |\n",
      "| 99%   48C    P2   134W / 350W |  22724MiB / 24576MiB |      0%      Default |\n",
      "|                               |                      |                  N/A |\n",
      "+-------------------------------+----------------------+----------------------+\n",
      "                                                                               \n",
      "+-----------------------------------------------------------------------------+\n",
      "| Processes:                                                                  |\n",
      "|  GPU   GI   CI        PID   Type   Process name                  GPU Memory |\n",
      "|        ID   ID                                                   Usage      |\n",
      "|=============================================================================|\n",
      "+-----------------------------------------------------------------------------+\n"
     ]
    }
   ],
   "source": [
    "# Check GPU\n",
    "!nvidia-smi"
   ]
  },
  {
   "cell_type": "code",
   "execution_count": 8,
   "metadata": {
    "colab": {
     "base_uri": "https://localhost:8080/"
    },
    "executionInfo": {
     "elapsed": 11,
     "status": "ok",
     "timestamp": 1685115711723,
     "user": {
      "displayName": "Ahmad Habib Hasan Zein",
      "userId": "06743622963259718983"
     },
     "user_tz": -420
    },
    "id": "FSapZ74PU2TF",
    "outputId": "c9583b91-28fe-41f9-f7c1-7582bc40ed35"
   },
   "outputs": [
    {
     "data": {
      "text/plain": [
       "[PhysicalDevice(name='/physical_device:GPU:0', device_type='GPU')]"
      ]
     },
     "execution_count": 8,
     "metadata": {},
     "output_type": "execute_result"
    }
   ],
   "source": [
    "# Lis physical devices\n",
    "devices = tf.config.experimental.list_physical_devices(\"GPU\")\n",
    "devices"
   ]
  },
  {
   "cell_type": "code",
   "execution_count": 9,
   "metadata": {
    "executionInfo": {
     "elapsed": 10,
     "status": "ok",
     "timestamp": 1685115711723,
     "user": {
      "displayName": "Ahmad Habib Hasan Zein",
      "userId": "06743622963259718983"
     },
     "user_tz": -420
    },
    "id": "A8WtBtBaU2TG"
   },
   "outputs": [
    {
     "name": "stdout",
     "output_type": "stream",
     "text": [
      "INFO:tensorflow:Using MirroredStrategy with devices ('/job:localhost/replica:0/task:0/device:GPU:0',)\n"
     ]
    }
   ],
   "source": [
    "# Define the GPU strategy\n",
    "mirrored_strategy = tf.distribute.MirroredStrategy(devices=[\"/gpu:0\"])"
   ]
  },
  {
   "cell_type": "markdown",
   "metadata": {
    "id": "Vqr_uGTNU2TG"
   },
   "source": [
    "# Modelling With Augmentation"
   ]
  },
  {
   "cell_type": "markdown",
   "metadata": {
    "id": "w4Wzh6ZyU2TH"
   },
   "source": [
    "## Xception Model 1"
   ]
  },
  {
   "cell_type": "code",
   "execution_count": 10,
   "metadata": {
    "executionInfo": {
     "elapsed": 10,
     "status": "ok",
     "timestamp": 1685115711723,
     "user": {
      "displayName": "Ahmad Habib Hasan Zein",
      "userId": "06743622963259718983"
     },
     "user_tz": -420
    },
    "id": "uUqYGBfRU2TH"
   },
   "outputs": [],
   "source": [
    "# Difine the callbacks\n",
    "# Save the best model\n",
    "checkpoint_callback = ModelCheckpoint(filepath=\"Corn_Xception_model1_Based_Augmented.h5\", save_best_only=True, monitor=\"val_accuracy\", mode=\"max\", verbose=1)\n",
    "\n",
    "# Early stopping\n",
    "early_stopping_callback = EarlyStopping(monitor=\"val_accuracy\", mode=\"max\", patience=20, verbose=1, restore_best_weights=True)\n",
    "\n",
    "# Reduce learning rate\n",
    "reduce_lr_callback = ReduceLROnPlateau(monitor=\"val_loss\", factor=0.1, patience=5, verbose=1, mode=\"min\", min_delta=0.0001, cooldown=0, min_lr=0)\n",
    "\n",
    "# Callbacks list\n",
    "callbacks=[checkpoint_callback, early_stopping_callback, reduce_lr_callback]"
   ]
  },
  {
   "cell_type": "code",
   "execution_count": 11,
   "metadata": {
    "colab": {
     "base_uri": "https://localhost:8080/"
    },
    "executionInfo": {
     "elapsed": 8555,
     "status": "ok",
     "timestamp": 1685115720268,
     "user": {
      "displayName": "Ahmad Habib Hasan Zein",
      "userId": "06743622963259718983"
     },
     "user_tz": -420
    },
    "id": "BQHFs3gSU2TI",
    "outputId": "dbcfe9b5-6434-4d16-b84d-7310b42fe6d8"
   },
   "outputs": [
    {
     "name": "stdout",
     "output_type": "stream",
     "text": [
      "Model: \"sequential\"\n",
      "_________________________________________________________________\n",
      " Layer (type)                Output Shape              Param #   \n",
      "=================================================================\n",
      " xception (Functional)       (None, 7, 7, 2048)        20861480  \n",
      "                                                                 \n",
      " global_max_pooling2d (Globa  (None, 2048)             0         \n",
      " lMaxPooling2D)                                                  \n",
      "                                                                 \n",
      " dropout (Dropout)           (None, 2048)              0         \n",
      "                                                                 \n",
      " dense (Dense)               (None, 256)               524544    \n",
      "                                                                 \n",
      " dense_1 (Dense)             (None, 4)                 1028      \n",
      "                                                                 \n",
      "=================================================================\n",
      "Total params: 21,387,052\n",
      "Trainable params: 21,332,524\n",
      "Non-trainable params: 54,528\n",
      "_________________________________________________________________\n"
     ]
    }
   ],
   "source": [
    "# Define DIY Model\n",
    "Xception_model = tf.keras.models.Sequential([\n",
    "    # Xception121 Layer\n",
    "    Xception(include_top=False,weights='imagenet',input_shape=(224, 224, 3)),\n",
    "    # Global Max Pooling Layer\n",
    "    tf.keras.layers.GlobalMaxPooling2D(),\n",
    "    # Drop Out Layer\n",
    "    tf.keras.layers.Dropout(0.2),\n",
    "    # 256 neuron hidden layer\n",
    "    tf.keras.layers.Dense(256, activation='relu'),\n",
    "    # Output\n",
    "    tf.keras.layers.Dense(4, activation='softmax') \n",
    "  ])\n",
    "\n",
    "\n",
    "# Compile Model\n",
    "Xception_model.compile(loss='categorical_crossentropy',optimizer=tf.keras.optimizers.Adam(), metrics=['accuracy']) \n",
    "\n",
    "# Model Summary\n",
    "Xception_model.summary()"
   ]
  },
  {
   "cell_type": "code",
   "execution_count": 12,
   "metadata": {
    "colab": {
     "background_save": true,
     "base_uri": "https://localhost:8080/"
    },
    "id": "6coN3TKhU2TI"
   },
   "outputs": [
    {
     "name": "stdout",
     "output_type": "stream",
     "text": [
      "Epoch 1/100\n",
      "384/384 [==============================] - ETA: 0s - loss: 0.7024 - accuracy: 0.7153\n",
      "Epoch 1: val_accuracy improved from -inf to 0.65553, saving model to Corn_Xception_model1_Based_Augmented.h5\n",
      "384/384 [==============================] - 90s 169ms/step - loss: 0.7024 - accuracy: 0.7153 - val_loss: 1.2969 - val_accuracy: 0.6555 - lr: 0.0010\n",
      "Epoch 2/100\n",
      "384/384 [==============================] - ETA: 0s - loss: 0.2605 - accuracy: 0.9175\n",
      "Epoch 2: val_accuracy improved from 0.65553 to 0.96226, saving model to Corn_Xception_model1_Based_Augmented.h5\n",
      "384/384 [==============================] - 64s 166ms/step - loss: 0.2605 - accuracy: 0.9175 - val_loss: 0.1343 - val_accuracy: 0.9623 - lr: 0.0010\n",
      "Epoch 3/100\n",
      "384/384 [==============================] - ETA: 0s - loss: 0.2105 - accuracy: 0.9295\n",
      "Epoch 3: val_accuracy did not improve from 0.96226\n",
      "384/384 [==============================] - 62s 162ms/step - loss: 0.2105 - accuracy: 0.9295 - val_loss: 0.3733 - val_accuracy: 0.8960 - lr: 0.0010\n",
      "Epoch 4/100\n",
      "384/384 [==============================] - ETA: 0s - loss: 0.1540 - accuracy: 0.9476\n",
      "Epoch 4: val_accuracy did not improve from 0.96226\n",
      "384/384 [==============================] - 63s 163ms/step - loss: 0.1540 - accuracy: 0.9476 - val_loss: 0.1763 - val_accuracy: 0.9224 - lr: 0.0010\n",
      "Epoch 5/100\n",
      "384/384 [==============================] - ETA: 0s - loss: 0.1638 - accuracy: 0.9498\n",
      "Epoch 5: val_accuracy did not improve from 0.96226\n",
      "384/384 [==============================] - 63s 163ms/step - loss: 0.1638 - accuracy: 0.9498 - val_loss: 0.2776 - val_accuracy: 0.9353 - lr: 0.0010\n",
      "Epoch 6/100\n",
      "384/384 [==============================] - ETA: 0s - loss: 0.1622 - accuracy: 0.9481\n",
      "Epoch 6: val_accuracy did not improve from 0.96226\n",
      "384/384 [==============================] - 63s 164ms/step - loss: 0.1622 - accuracy: 0.9481 - val_loss: 0.2779 - val_accuracy: 0.8728 - lr: 0.0010\n",
      "Epoch 7/100\n",
      "384/384 [==============================] - ETA: 0s - loss: 0.1356 - accuracy: 0.9563\n",
      "Epoch 7: val_accuracy did not improve from 0.96226\n",
      "\n",
      "Epoch 7: ReduceLROnPlateau reducing learning rate to 0.00010000000474974513.\n",
      "384/384 [==============================] - 63s 163ms/step - loss: 0.1356 - accuracy: 0.9563 - val_loss: 0.2864 - val_accuracy: 0.9208 - lr: 0.0010\n",
      "Epoch 8/100\n",
      "384/384 [==============================] - ETA: 0s - loss: 0.0909 - accuracy: 0.9674\n",
      "Epoch 8: val_accuracy improved from 0.96226 to 0.98275, saving model to Corn_Xception_model1_Based_Augmented.h5\n",
      "384/384 [==============================] - 63s 165ms/step - loss: 0.0909 - accuracy: 0.9674 - val_loss: 0.0443 - val_accuracy: 0.9827 - lr: 1.0000e-04\n",
      "Epoch 9/100\n",
      "384/384 [==============================] - ETA: 0s - loss: 0.0743 - accuracy: 0.9731\n",
      "Epoch 9: val_accuracy did not improve from 0.98275\n",
      "384/384 [==============================] - 62s 162ms/step - loss: 0.0743 - accuracy: 0.9731 - val_loss: 0.0461 - val_accuracy: 0.9811 - lr: 1.0000e-04\n",
      "Epoch 10/100\n",
      "384/384 [==============================] - ETA: 0s - loss: 0.0676 - accuracy: 0.9755\n",
      "Epoch 10: val_accuracy did not improve from 0.98275\n",
      "384/384 [==============================] - 63s 163ms/step - loss: 0.0676 - accuracy: 0.9755 - val_loss: 0.0467 - val_accuracy: 0.9817 - lr: 1.0000e-04\n",
      "Epoch 11/100\n",
      "384/384 [==============================] - ETA: 0s - loss: 0.0678 - accuracy: 0.9757\n",
      "Epoch 11: val_accuracy did not improve from 0.98275\n",
      "384/384 [==============================] - 63s 163ms/step - loss: 0.0678 - accuracy: 0.9757 - val_loss: 0.0420 - val_accuracy: 0.9822 - lr: 1.0000e-04\n",
      "Epoch 12/100\n",
      "384/384 [==============================] - ETA: 0s - loss: 0.0612 - accuracy: 0.9777\n",
      "Epoch 12: val_accuracy did not improve from 0.98275\n",
      "384/384 [==============================] - 62s 162ms/step - loss: 0.0612 - accuracy: 0.9777 - val_loss: 0.0442 - val_accuracy: 0.9827 - lr: 1.0000e-04\n",
      "Epoch 13/100\n",
      "384/384 [==============================] - ETA: 0s - loss: 0.0531 - accuracy: 0.9799\n",
      "Epoch 13: val_accuracy improved from 0.98275 to 0.98437, saving model to Corn_Xception_model1_Based_Augmented.h5\n",
      "384/384 [==============================] - 63s 164ms/step - loss: 0.0531 - accuracy: 0.9799 - val_loss: 0.0437 - val_accuracy: 0.9844 - lr: 1.0000e-04\n",
      "Epoch 14/100\n",
      "384/384 [==============================] - ETA: 0s - loss: 0.0524 - accuracy: 0.9796\n",
      "Epoch 14: val_accuracy improved from 0.98437 to 0.98706, saving model to Corn_Xception_model1_Based_Augmented.h5\n",
      "384/384 [==============================] - 64s 167ms/step - loss: 0.0524 - accuracy: 0.9796 - val_loss: 0.0386 - val_accuracy: 0.9871 - lr: 1.0000e-04\n",
      "Epoch 15/100\n",
      "384/384 [==============================] - ETA: 0s - loss: 0.0505 - accuracy: 0.9813\n",
      "Epoch 15: val_accuracy did not improve from 0.98706\n",
      "384/384 [==============================] - 66s 172ms/step - loss: 0.0505 - accuracy: 0.9813 - val_loss: 0.0415 - val_accuracy: 0.9822 - lr: 1.0000e-04\n",
      "Epoch 16/100\n",
      "384/384 [==============================] - ETA: 0s - loss: 0.0452 - accuracy: 0.9840\n",
      "Epoch 16: val_accuracy did not improve from 0.98706\n",
      "384/384 [==============================] - 63s 164ms/step - loss: 0.0452 - accuracy: 0.9840 - val_loss: 0.0447 - val_accuracy: 0.9849 - lr: 1.0000e-04\n",
      "Epoch 17/100\n",
      "384/384 [==============================] - ETA: 0s - loss: 0.0442 - accuracy: 0.9850\n",
      "Epoch 17: val_accuracy did not improve from 0.98706\n",
      "384/384 [==============================] - 63s 164ms/step - loss: 0.0442 - accuracy: 0.9850 - val_loss: 0.0425 - val_accuracy: 0.9838 - lr: 1.0000e-04\n",
      "Epoch 18/100\n",
      "384/384 [==============================] - ETA: 0s - loss: 0.0480 - accuracy: 0.9830\n",
      "Epoch 18: val_accuracy did not improve from 0.98706\n",
      "384/384 [==============================] - 64s 165ms/step - loss: 0.0480 - accuracy: 0.9830 - val_loss: 0.0391 - val_accuracy: 0.9849 - lr: 1.0000e-04\n",
      "Epoch 19/100\n",
      "384/384 [==============================] - ETA: 0s - loss: 0.0442 - accuracy: 0.9841\n",
      "Epoch 19: val_accuracy did not improve from 0.98706\n",
      "384/384 [==============================] - 63s 163ms/step - loss: 0.0442 - accuracy: 0.9841 - val_loss: 0.0342 - val_accuracy: 0.9871 - lr: 1.0000e-04\n",
      "Epoch 20/100\n",
      "384/384 [==============================] - ETA: 0s - loss: 0.0400 - accuracy: 0.9858\n",
      "Epoch 20: val_accuracy did not improve from 0.98706\n",
      "384/384 [==============================] - 63s 164ms/step - loss: 0.0400 - accuracy: 0.9858 - val_loss: 0.0390 - val_accuracy: 0.9860 - lr: 1.0000e-04\n",
      "Epoch 21/100\n",
      "384/384 [==============================] - ETA: 0s - loss: 0.0371 - accuracy: 0.9870\n",
      "Epoch 21: val_accuracy did not improve from 0.98706\n",
      "384/384 [==============================] - 63s 163ms/step - loss: 0.0371 - accuracy: 0.9870 - val_loss: 0.0781 - val_accuracy: 0.9736 - lr: 1.0000e-04\n",
      "Epoch 22/100\n",
      "384/384 [==============================] - ETA: 0s - loss: 0.0358 - accuracy: 0.9862\n",
      "Epoch 22: val_accuracy did not improve from 0.98706\n",
      "384/384 [==============================] - 62s 162ms/step - loss: 0.0358 - accuracy: 0.9862 - val_loss: 0.0524 - val_accuracy: 0.9827 - lr: 1.0000e-04\n",
      "Epoch 23/100\n",
      "384/384 [==============================] - ETA: 0s - loss: 0.0392 - accuracy: 0.9863\n",
      "Epoch 23: val_accuracy did not improve from 0.98706\n",
      "384/384 [==============================] - 63s 165ms/step - loss: 0.0392 - accuracy: 0.9863 - val_loss: 0.0657 - val_accuracy: 0.9806 - lr: 1.0000e-04\n",
      "Epoch 24/100\n",
      "384/384 [==============================] - ETA: 0s - loss: 0.0338 - accuracy: 0.9880\n",
      "Epoch 24: val_accuracy did not improve from 0.98706\n",
      "\n",
      "Epoch 24: ReduceLROnPlateau reducing learning rate to 1.0000000474974514e-05.\n",
      "384/384 [==============================] - 63s 163ms/step - loss: 0.0338 - accuracy: 0.9880 - val_loss: 0.0438 - val_accuracy: 0.9854 - lr: 1.0000e-04\n",
      "Epoch 25/100\n",
      "384/384 [==============================] - ETA: 0s - loss: 0.0279 - accuracy: 0.9897\n",
      "Epoch 25: val_accuracy did not improve from 0.98706\n",
      "384/384 [==============================] - 63s 163ms/step - loss: 0.0279 - accuracy: 0.9897 - val_loss: 0.0446 - val_accuracy: 0.9849 - lr: 1.0000e-05\n",
      "Epoch 26/100\n",
      "384/384 [==============================] - ETA: 0s - loss: 0.0285 - accuracy: 0.9897\n",
      "Epoch 26: val_accuracy did not improve from 0.98706\n",
      "384/384 [==============================] - 63s 163ms/step - loss: 0.0285 - accuracy: 0.9897 - val_loss: 0.0411 - val_accuracy: 0.9860 - lr: 1.0000e-05\n",
      "Epoch 27/100\n",
      "384/384 [==============================] - ETA: 0s - loss: 0.0258 - accuracy: 0.9919\n",
      "Epoch 27: val_accuracy did not improve from 0.98706\n",
      "384/384 [==============================] - 63s 165ms/step - loss: 0.0258 - accuracy: 0.9919 - val_loss: 0.0440 - val_accuracy: 0.9854 - lr: 1.0000e-05\n",
      "Epoch 28/100\n",
      "384/384 [==============================] - ETA: 0s - loss: 0.0230 - accuracy: 0.9928\n",
      "Epoch 28: val_accuracy did not improve from 0.98706\n",
      "384/384 [==============================] - 63s 163ms/step - loss: 0.0230 - accuracy: 0.9928 - val_loss: 0.0410 - val_accuracy: 0.9871 - lr: 1.0000e-05\n",
      "Epoch 29/100\n",
      "384/384 [==============================] - ETA: 0s - loss: 0.0244 - accuracy: 0.9909\n",
      "Epoch 29: val_accuracy did not improve from 0.98706\n",
      "\n",
      "Epoch 29: ReduceLROnPlateau reducing learning rate to 1.0000000656873453e-06.\n",
      "384/384 [==============================] - 63s 163ms/step - loss: 0.0244 - accuracy: 0.9909 - val_loss: 0.0463 - val_accuracy: 0.9844 - lr: 1.0000e-05\n",
      "Epoch 30/100\n",
      "384/384 [==============================] - ETA: 0s - loss: 0.0252 - accuracy: 0.9911\n",
      "Epoch 30: val_accuracy did not improve from 0.98706\n",
      "384/384 [==============================] - 63s 163ms/step - loss: 0.0252 - accuracy: 0.9911 - val_loss: 0.0441 - val_accuracy: 0.9849 - lr: 1.0000e-06\n",
      "Epoch 31/100\n",
      "384/384 [==============================] - ETA: 0s - loss: 0.0220 - accuracy: 0.9922\n",
      "Epoch 31: val_accuracy did not improve from 0.98706\n",
      "384/384 [==============================] - 63s 163ms/step - loss: 0.0220 - accuracy: 0.9922 - val_loss: 0.0437 - val_accuracy: 0.9865 - lr: 1.0000e-06\n",
      "Epoch 32/100\n",
      "384/384 [==============================] - ETA: 0s - loss: 0.0228 - accuracy: 0.9920\n",
      "Epoch 32: val_accuracy did not improve from 0.98706\n",
      "384/384 [==============================] - 62s 162ms/step - loss: 0.0228 - accuracy: 0.9920 - val_loss: 0.0427 - val_accuracy: 0.9871 - lr: 1.0000e-06\n",
      "Epoch 33/100\n",
      "384/384 [==============================] - ETA: 0s - loss: 0.0228 - accuracy: 0.9915\n",
      "Epoch 33: val_accuracy did not improve from 0.98706\n",
      "384/384 [==============================] - 63s 163ms/step - loss: 0.0228 - accuracy: 0.9915 - val_loss: 0.0439 - val_accuracy: 0.9860 - lr: 1.0000e-06\n",
      "Epoch 34/100\n",
      "384/384 [==============================] - ETA: 0s - loss: 0.0237 - accuracy: 0.9913\n",
      "Epoch 34: val_accuracy did not improve from 0.98706\n",
      "Restoring model weights from the end of the best epoch: 14.\n",
      "\n",
      "Epoch 34: ReduceLROnPlateau reducing learning rate to 1.0000001111620805e-07.\n",
      "384/384 [==============================] - 63s 164ms/step - loss: 0.0237 - accuracy: 0.9913 - val_loss: 0.0429 - val_accuracy: 0.9871 - lr: 1.0000e-06\n",
      "Epoch 34: early stopping\n"
     ]
    }
   ],
   "source": [
    "# Define the number of epochs\n",
    "num_epochs = 100\n",
    "\n",
    "# Train the model\n",
    "history_Xception_model_1 = Xception_model.fit(train_generator, epochs=num_epochs, validation_data=validation_generator, callbacks=callbacks)"
   ]
  },
  {
   "cell_type": "code",
   "execution_count": 13,
   "metadata": {
    "colab": {
     "background_save": true
    },
    "id": "lvS9xz3LU2TI"
   },
   "outputs": [
    {
     "data": {
      "text/plain": [
       "<matplotlib.legend.Legend at 0x7ff044e14c10>"
      ]
     },
     "execution_count": 13,
     "metadata": {},
     "output_type": "execute_result"
    },
    {
     "data": {
      "image/png": "[encoded data removed]",
      "text/plain": [
       "<Figure size 640x480 with 1 Axes>"
      ]
     },
     "metadata": {},
     "output_type": "display_data"
    },
    {
     "data": {
      "image/png": "[encoded data removed]",
      "text/plain": [
       "<Figure size 640x480 with 1 Axes>"
      ]
     },
     "metadata": {},
     "output_type": "display_data"
    }
   ],
   "source": [
    "#-----------------------------------------------------------\n",
    "# Retrieve a list of list results on training and test data\n",
    "# sets for each training epoch\n",
    "#-----------------------------------------------------------\n",
    "acc      = history_Xception_model_1.history['accuracy' ]\n",
    "val_acc  = history_Xception_model_1.history['val_accuracy' ]\n",
    "loss     = history_Xception_model_1.history['loss' ]\n",
    "val_loss = history_Xception_model_1.history['val_loss' ]\n",
    "\n",
    "epochs   = range(len(acc)) # Get number of epochs\n",
    "\n",
    "#------------------------------------------------\n",
    "# Plot training and validation accuracy per epoch\n",
    "#------------------------------------------------\n",
    "plt.plot  (epochs, acc )\n",
    "plt.plot  (epochs, val_acc )\n",
    "plt.title ('Training and validation accuracy Xception Model Augmented 1')\n",
    "plt.legend(['train', 'val'], loc='upper left')\n",
    "plt.figure()\n",
    "\n",
    "#------------------------------------------------\n",
    "# Plot training and validation loss per epoch\n",
    "#------------------------------------------------\n",
    "plt.plot  (epochs, loss)\n",
    "plt.plot  (epochs, val_loss)\n",
    "plt.title ('Training and validation loss Xception Model Augmented 1')\n",
    "plt.legend(['train', 'val'], loc='upper left')"
   ]
  },
  {
   "cell_type": "markdown",
   "metadata": {
    "id": "SvQOR9IuU2TJ"
   },
   "source": [
    "## Xception Model 2"
   ]
  },
  {
   "cell_type": "code",
   "execution_count": 14,
   "metadata": {
    "colab": {
     "background_save": true
    },
    "id": "Tj7lcdvUU2TJ"
   },
   "outputs": [],
   "source": [
    "# Difine the callbacks\n",
    "# Save the best model\n",
    "checkpoint_callback = ModelCheckpoint(filepath=\"Corn_Xception_model2_Based_Augmented.h5\", save_best_only=True, monitor=\"val_accuracy\", mode=\"max\", verbose=1)\n",
    "\n",
    "# Early stopping\n",
    "early_stopping_callback = EarlyStopping(monitor=\"val_accuracy\", mode=\"max\", patience=20, verbose=1, restore_best_weights=True)\n",
    "\n",
    "# Reduce learning rate\n",
    "reduce_lr_callback = ReduceLROnPlateau(monitor=\"val_loss\", factor=0.1, patience=5, verbose=1, mode=\"min\", min_delta=0.0001, cooldown=0, min_lr=0)\n",
    "\n",
    "# Callbacks list\n",
    "callbacks=[checkpoint_callback, early_stopping_callback, reduce_lr_callback]"
   ]
  },
  {
   "cell_type": "code",
   "execution_count": 15,
   "metadata": {
    "colab": {
     "background_save": true
    },
    "id": "7NKPY1xGU2TJ"
   },
   "outputs": [
    {
     "name": "stdout",
     "output_type": "stream",
     "text": [
      "Model: \"sequential_1\"\n",
      "_________________________________________________________________\n",
      " Layer (type)                Output Shape              Param #   \n",
      "=================================================================\n",
      " xception (Functional)       (None, 7, 7, 2048)        20861480  \n",
      "                                                                 \n",
      " global_average_pooling2d (G  (None, 2048)             0         \n",
      " lobalAveragePooling2D)                                          \n",
      "                                                                 \n",
      " dropout_1 (Dropout)         (None, 2048)              0         \n",
      "                                                                 \n",
      " dense_2 (Dense)             (None, 256)               524544    \n",
      "                                                                 \n",
      " dense_3 (Dense)             (None, 4)                 1028      \n",
      "                                                                 \n",
      "=================================================================\n",
      "Total params: 21,387,052\n",
      "Trainable params: 21,332,524\n",
      "Non-trainable params: 54,528\n",
      "_________________________________________________________________\n"
     ]
    }
   ],
   "source": [
    "# Define DIY Model\n",
    "Xception_model_2 = tf.keras.models.Sequential([\n",
    "    # Xception121 Layer\n",
    "    Xception(include_top=False,weights='imagenet',input_shape=(224, 224, 3)),\n",
    "    # Global Average Pooling Layer\n",
    "    tf.keras.layers.GlobalAveragePooling2D(),\n",
    "    # Drop Out Layer\n",
    "    tf.keras.layers.Dropout(0.2),\n",
    "    # 256 neuron hidden layer\n",
    "    tf.keras.layers.Dense(256, activation='relu'),\n",
    "    # Output\n",
    "    tf.keras.layers.Dense(4, activation='softmax') \n",
    "  ])\n",
    "\n",
    "\n",
    "# Compile Model\n",
    "Xception_model_2.compile(loss='categorical_crossentropy',optimizer=tf.keras.optimizers.Adam(), metrics=['accuracy']) \n",
    "\n",
    "# Model Summary\n",
    "Xception_model_2.summary()"
   ]
  },
  {
   "cell_type": "code",
   "execution_count": 16,
   "metadata": {
    "colab": {
     "background_save": true
    },
    "id": "6beuexC9U2TJ"
   },
   "outputs": [
    {
     "name": "stdout",
     "output_type": "stream",
     "text": [
      "Epoch 1/100\n",
      "384/384 [==============================] - ETA: 0s - loss: 0.3286 - accuracy: 0.8875\n",
      "Epoch 1: val_accuracy improved from -inf to 0.82803, saving model to Corn_Xception_model2_Based_Augmented.h5\n",
      "384/384 [==============================] - 85s 165ms/step - loss: 0.3286 - accuracy: 0.8875 - val_loss: 0.8872 - val_accuracy: 0.8280 - lr: 0.0010\n",
      "Epoch 2/100\n",
      "384/384 [==============================] - ETA: 0s - loss: 0.1994 - accuracy: 0.9298\n",
      "Epoch 2: val_accuracy improved from 0.82803 to 0.90081, saving model to Corn_Xception_model2_Based_Augmented.h5\n",
      "384/384 [==============================] - 63s 165ms/step - loss: 0.1994 - accuracy: 0.9298 - val_loss: 0.4902 - val_accuracy: 0.9008 - lr: 0.0010\n",
      "Epoch 3/100\n",
      "384/384 [==============================] - ETA: 0s - loss: 0.1687 - accuracy: 0.9413\n",
      "Epoch 3: val_accuracy improved from 0.90081 to 0.96766, saving model to Corn_Xception_model2_Based_Augmented.h5\n",
      "384/384 [==============================] - 64s 166ms/step - loss: 0.1687 - accuracy: 0.9413 - val_loss: 0.1090 - val_accuracy: 0.9677 - lr: 0.0010\n",
      "Epoch 4/100\n",
      "384/384 [==============================] - ETA: 0s - loss: 0.1528 - accuracy: 0.9492\n",
      "Epoch 4: val_accuracy improved from 0.96766 to 0.96927, saving model to Corn_Xception_model2_Based_Augmented.h5\n",
      "384/384 [==============================] - 64s 167ms/step - loss: 0.1528 - accuracy: 0.9492 - val_loss: 0.1011 - val_accuracy: 0.9693 - lr: 0.0010\n",
      "Epoch 5/100\n",
      "384/384 [==============================] - ETA: 0s - loss: 0.1164 - accuracy: 0.9597\n",
      "Epoch 5: val_accuracy did not improve from 0.96927\n",
      "384/384 [==============================] - 63s 164ms/step - loss: 0.1164 - accuracy: 0.9597 - val_loss: 0.1185 - val_accuracy: 0.9693 - lr: 0.0010\n",
      "Epoch 6/100\n",
      "384/384 [==============================] - ETA: 0s - loss: 0.1128 - accuracy: 0.9624\n",
      "Epoch 6: val_accuracy did not improve from 0.96927\n",
      "384/384 [==============================] - 63s 164ms/step - loss: 0.1128 - accuracy: 0.9624 - val_loss: 0.1984 - val_accuracy: 0.9536 - lr: 0.0010\n",
      "Epoch 7/100\n",
      "384/384 [==============================] - ETA: 0s - loss: 0.1169 - accuracy: 0.9619\n",
      "Epoch 7: val_accuracy did not improve from 0.96927\n",
      "384/384 [==============================] - 63s 165ms/step - loss: 0.1169 - accuracy: 0.9619 - val_loss: 0.1644 - val_accuracy: 0.9299 - lr: 0.0010\n",
      "Epoch 8/100\n",
      "384/384 [==============================] - ETA: 0s - loss: 0.1204 - accuracy: 0.9547\n",
      "Epoch 8: val_accuracy improved from 0.96927 to 0.97197, saving model to Corn_Xception_model2_Based_Augmented.h5\n",
      "384/384 [==============================] - 64s 166ms/step - loss: 0.1204 - accuracy: 0.9547 - val_loss: 0.0719 - val_accuracy: 0.9720 - lr: 0.0010\n",
      "Epoch 9/100\n",
      "384/384 [==============================] - ETA: 0s - loss: 0.1036 - accuracy: 0.9643\n",
      "Epoch 9: val_accuracy improved from 0.97197 to 0.97898, saving model to Corn_Xception_model2_Based_Augmented.h5\n",
      "384/384 [==============================] - 63s 165ms/step - loss: 0.1036 - accuracy: 0.9643 - val_loss: 0.0717 - val_accuracy: 0.9790 - lr: 0.0010\n",
      "Epoch 10/100\n",
      "384/384 [==============================] - ETA: 0s - loss: 0.1009 - accuracy: 0.9629\n",
      "Epoch 10: val_accuracy did not improve from 0.97898\n",
      "384/384 [==============================] - 63s 165ms/step - loss: 0.1009 - accuracy: 0.9629 - val_loss: 0.9215 - val_accuracy: 0.8307 - lr: 0.0010\n",
      "Epoch 11/100\n",
      "384/384 [==============================] - ETA: 0s - loss: 0.0927 - accuracy: 0.9654\n",
      "Epoch 11: val_accuracy did not improve from 0.97898\n",
      "384/384 [==============================] - 63s 163ms/step - loss: 0.0927 - accuracy: 0.9654 - val_loss: 0.2698 - val_accuracy: 0.9283 - lr: 0.0010\n",
      "Epoch 12/100\n",
      "384/384 [==============================] - ETA: 0s - loss: 0.0987 - accuracy: 0.9663\n",
      "Epoch 12: val_accuracy did not improve from 0.97898\n",
      "384/384 [==============================] - 63s 164ms/step - loss: 0.0987 - accuracy: 0.9663 - val_loss: 0.1156 - val_accuracy: 0.9677 - lr: 0.0010\n",
      "Epoch 13/100\n",
      "384/384 [==============================] - ETA: 0s - loss: 0.0814 - accuracy: 0.9706\n",
      "Epoch 13: val_accuracy did not improve from 0.97898\n",
      "384/384 [==============================] - 63s 164ms/step - loss: 0.0814 - accuracy: 0.9706 - val_loss: 0.1710 - val_accuracy: 0.9466 - lr: 0.0010\n",
      "Epoch 14/100\n",
      "384/384 [==============================] - ETA: 0s - loss: 0.0848 - accuracy: 0.9712\n",
      "Epoch 14: val_accuracy improved from 0.97898 to 0.98437, saving model to Corn_Xception_model2_Based_Augmented.h5\n",
      "384/384 [==============================] - 64s 166ms/step - loss: 0.0848 - accuracy: 0.9712 - val_loss: 0.0477 - val_accuracy: 0.9844 - lr: 0.0010\n",
      "Epoch 15/100\n",
      "384/384 [==============================] - ETA: 0s - loss: 0.0840 - accuracy: 0.9704\n",
      "Epoch 15: val_accuracy did not improve from 0.98437\n",
      "384/384 [==============================] - 64s 166ms/step - loss: 0.0840 - accuracy: 0.9704 - val_loss: 0.1504 - val_accuracy: 0.9526 - lr: 0.0010\n",
      "Epoch 16/100\n",
      "384/384 [==============================] - ETA: 0s - loss: 0.0745 - accuracy: 0.9744\n",
      "Epoch 16: val_accuracy did not improve from 0.98437\n",
      "384/384 [==============================] - 63s 165ms/step - loss: 0.0745 - accuracy: 0.9744 - val_loss: 0.0767 - val_accuracy: 0.9757 - lr: 0.0010\n",
      "Epoch 17/100\n",
      "384/384 [==============================] - ETA: 0s - loss: 0.0783 - accuracy: 0.9726\n",
      "Epoch 17: val_accuracy did not improve from 0.98437\n",
      "384/384 [==============================] - 63s 165ms/step - loss: 0.0783 - accuracy: 0.9726 - val_loss: 1.2063 - val_accuracy: 0.6620 - lr: 0.0010\n",
      "Epoch 18/100\n",
      "384/384 [==============================] - ETA: 0s - loss: 0.0884 - accuracy: 0.9709\n",
      "Epoch 18: val_accuracy did not improve from 0.98437\n",
      "384/384 [==============================] - 63s 164ms/step - loss: 0.0884 - accuracy: 0.9709 - val_loss: 0.0778 - val_accuracy: 0.9806 - lr: 0.0010\n",
      "Epoch 19/100\n",
      "384/384 [==============================] - ETA: 0s - loss: 0.0696 - accuracy: 0.9766\n",
      "Epoch 19: val_accuracy did not improve from 0.98437\n",
      "\n",
      "Epoch 19: ReduceLROnPlateau reducing learning rate to 0.00010000000474974513.\n",
      "384/384 [==============================] - 63s 165ms/step - loss: 0.0696 - accuracy: 0.9766 - val_loss: 0.0694 - val_accuracy: 0.9784 - lr: 0.0010\n",
      "Epoch 20/100\n",
      "384/384 [==============================] - ETA: 0s - loss: 0.0455 - accuracy: 0.9847\n",
      "Epoch 20: val_accuracy improved from 0.98437 to 0.98652, saving model to Corn_Xception_model2_Based_Augmented.h5\n",
      "384/384 [==============================] - 64s 166ms/step - loss: 0.0455 - accuracy: 0.9847 - val_loss: 0.0451 - val_accuracy: 0.9865 - lr: 1.0000e-04\n",
      "Epoch 21/100\n",
      "384/384 [==============================] - ETA: 0s - loss: 0.0355 - accuracy: 0.9871\n",
      "Epoch 21: val_accuracy improved from 0.98652 to 0.98706, saving model to Corn_Xception_model2_Based_Augmented.h5\n",
      "384/384 [==============================] - 64s 165ms/step - loss: 0.0355 - accuracy: 0.9871 - val_loss: 0.0472 - val_accuracy: 0.9871 - lr: 1.0000e-04\n",
      "Epoch 22/100\n",
      "384/384 [==============================] - ETA: 0s - loss: 0.0328 - accuracy: 0.9884\n",
      "Epoch 22: val_accuracy improved from 0.98706 to 0.98760, saving model to Corn_Xception_model2_Based_Augmented.h5\n",
      "384/384 [==============================] - 64s 165ms/step - loss: 0.0328 - accuracy: 0.9884 - val_loss: 0.0432 - val_accuracy: 0.9876 - lr: 1.0000e-04\n",
      "Epoch 23/100\n",
      "384/384 [==============================] - ETA: 0s - loss: 0.0328 - accuracy: 0.9890\n",
      "Epoch 23: val_accuracy improved from 0.98760 to 0.99191, saving model to Corn_Xception_model2_Based_Augmented.h5\n",
      "384/384 [==============================] - 63s 165ms/step - loss: 0.0328 - accuracy: 0.9890 - val_loss: 0.0413 - val_accuracy: 0.9919 - lr: 1.0000e-04\n",
      "Epoch 24/100\n",
      "384/384 [==============================] - ETA: 0s - loss: 0.0367 - accuracy: 0.9870\n",
      "Epoch 24: val_accuracy did not improve from 0.99191\n",
      "384/384 [==============================] - 64s 165ms/step - loss: 0.0367 - accuracy: 0.9870 - val_loss: 0.0456 - val_accuracy: 0.9881 - lr: 1.0000e-04\n",
      "Epoch 25/100\n",
      "384/384 [==============================] - ETA: 0s - loss: 0.0319 - accuracy: 0.9883\n",
      "Epoch 25: val_accuracy did not improve from 0.99191\n",
      "384/384 [==============================] - 63s 165ms/step - loss: 0.0319 - accuracy: 0.9883 - val_loss: 0.0488 - val_accuracy: 0.9892 - lr: 1.0000e-04\n",
      "Epoch 26/100\n",
      "384/384 [==============================] - ETA: 0s - loss: 0.0290 - accuracy: 0.9893\n",
      "Epoch 26: val_accuracy did not improve from 0.99191\n",
      "384/384 [==============================] - 63s 165ms/step - loss: 0.0290 - accuracy: 0.9893 - val_loss: 0.0550 - val_accuracy: 0.9871 - lr: 1.0000e-04\n",
      "Epoch 27/100\n",
      "384/384 [==============================] - ETA: 0s - loss: 0.0264 - accuracy: 0.9898\n",
      "Epoch 27: val_accuracy did not improve from 0.99191\n",
      "384/384 [==============================] - 63s 164ms/step - loss: 0.0264 - accuracy: 0.9898 - val_loss: 0.0454 - val_accuracy: 0.9865 - lr: 1.0000e-04\n",
      "Epoch 28/100\n",
      "384/384 [==============================] - ETA: 0s - loss: 0.0226 - accuracy: 0.9910\n",
      "Epoch 28: val_accuracy did not improve from 0.99191\n",
      "\n",
      "Epoch 28: ReduceLROnPlateau reducing learning rate to 1.0000000474974514e-05.\n",
      "384/384 [==============================] - 64s 166ms/step - loss: 0.0226 - accuracy: 0.9910 - val_loss: 0.0433 - val_accuracy: 0.9892 - lr: 1.0000e-04\n",
      "Epoch 29/100\n",
      "384/384 [==============================] - ETA: 0s - loss: 0.0252 - accuracy: 0.9902\n",
      "Epoch 29: val_accuracy did not improve from 0.99191\n",
      "384/384 [==============================] - 63s 164ms/step - loss: 0.0252 - accuracy: 0.9902 - val_loss: 0.0431 - val_accuracy: 0.9892 - lr: 1.0000e-05\n",
      "Epoch 30/100\n",
      "384/384 [==============================] - ETA: 0s - loss: 0.0228 - accuracy: 0.9920\n",
      "Epoch 30: val_accuracy did not improve from 0.99191\n",
      "384/384 [==============================] - 63s 164ms/step - loss: 0.0228 - accuracy: 0.9920 - val_loss: 0.0435 - val_accuracy: 0.9892 - lr: 1.0000e-05\n",
      "Epoch 31/100\n",
      "384/384 [==============================] - ETA: 0s - loss: 0.0237 - accuracy: 0.9911\n",
      "Epoch 31: val_accuracy did not improve from 0.99191\n",
      "384/384 [==============================] - 63s 164ms/step - loss: 0.0237 - accuracy: 0.9911 - val_loss: 0.0424 - val_accuracy: 0.9898 - lr: 1.0000e-05\n",
      "Epoch 32/100\n",
      "384/384 [==============================] - ETA: 0s - loss: 0.0223 - accuracy: 0.9920\n",
      "Epoch 32: val_accuracy did not improve from 0.99191\n",
      "384/384 [==============================] - 63s 165ms/step - loss: 0.0223 - accuracy: 0.9920 - val_loss: 0.0425 - val_accuracy: 0.9898 - lr: 1.0000e-05\n",
      "Epoch 33/100\n",
      "384/384 [==============================] - ETA: 0s - loss: 0.0206 - accuracy: 0.9937\n",
      "Epoch 33: val_accuracy did not improve from 0.99191\n",
      "\n",
      "Epoch 33: ReduceLROnPlateau reducing learning rate to 1.0000000656873453e-06.\n",
      "384/384 [==============================] - 63s 164ms/step - loss: 0.0206 - accuracy: 0.9937 - val_loss: 0.0426 - val_accuracy: 0.9903 - lr: 1.0000e-05\n",
      "Epoch 34/100\n",
      "384/384 [==============================] - ETA: 0s - loss: 0.0229 - accuracy: 0.9922\n",
      "Epoch 34: val_accuracy did not improve from 0.99191\n",
      "384/384 [==============================] - 63s 165ms/step - loss: 0.0229 - accuracy: 0.9922 - val_loss: 0.0422 - val_accuracy: 0.9887 - lr: 1.0000e-06\n",
      "Epoch 35/100\n",
      "384/384 [==============================] - ETA: 0s - loss: 0.0208 - accuracy: 0.9924\n",
      "Epoch 35: val_accuracy did not improve from 0.99191\n",
      "384/384 [==============================] - 63s 164ms/step - loss: 0.0208 - accuracy: 0.9924 - val_loss: 0.0421 - val_accuracy: 0.9898 - lr: 1.0000e-06\n",
      "Epoch 36/100\n",
      "384/384 [==============================] - ETA: 0s - loss: 0.0181 - accuracy: 0.9930\n",
      "Epoch 36: val_accuracy did not improve from 0.99191\n",
      "384/384 [==============================] - 63s 165ms/step - loss: 0.0181 - accuracy: 0.9930 - val_loss: 0.0423 - val_accuracy: 0.9881 - lr: 1.0000e-06\n",
      "Epoch 37/100\n",
      "384/384 [==============================] - ETA: 0s - loss: 0.0217 - accuracy: 0.9923\n",
      "Epoch 37: val_accuracy did not improve from 0.99191\n",
      "384/384 [==============================] - 62s 162ms/step - loss: 0.0217 - accuracy: 0.9923 - val_loss: 0.0427 - val_accuracy: 0.9881 - lr: 1.0000e-06\n",
      "Epoch 38/100\n",
      "384/384 [==============================] - ETA: 0s - loss: 0.0204 - accuracy: 0.9919\n",
      "Epoch 38: val_accuracy did not improve from 0.99191\n",
      "\n",
      "Epoch 38: ReduceLROnPlateau reducing learning rate to 1.0000001111620805e-07.\n",
      "384/384 [==============================] - 63s 164ms/step - loss: 0.0204 - accuracy: 0.9919 - val_loss: 0.0425 - val_accuracy: 0.9881 - lr: 1.0000e-06\n",
      "Epoch 39/100\n",
      "384/384 [==============================] - ETA: 0s - loss: 0.0215 - accuracy: 0.9926\n",
      "Epoch 39: val_accuracy did not improve from 0.99191\n",
      "384/384 [==============================] - 63s 163ms/step - loss: 0.0215 - accuracy: 0.9926 - val_loss: 0.0424 - val_accuracy: 0.9887 - lr: 1.0000e-07\n",
      "Epoch 40/100\n",
      "384/384 [==============================] - ETA: 0s - loss: 0.0192 - accuracy: 0.9932\n",
      "Epoch 40: val_accuracy did not improve from 0.99191\n",
      "384/384 [==============================] - 64s 166ms/step - loss: 0.0192 - accuracy: 0.9932 - val_loss: 0.0422 - val_accuracy: 0.9881 - lr: 1.0000e-07\n",
      "Epoch 41/100\n",
      "384/384 [==============================] - ETA: 0s - loss: 0.0235 - accuracy: 0.9907\n",
      "Epoch 41: val_accuracy did not improve from 0.99191\n",
      "384/384 [==============================] - 63s 162ms/step - loss: 0.0235 - accuracy: 0.9907 - val_loss: 0.0427 - val_accuracy: 0.9881 - lr: 1.0000e-07\n",
      "Epoch 42/100\n",
      "384/384 [==============================] - ETA: 0s - loss: 0.0209 - accuracy: 0.9933\n",
      "Epoch 42: val_accuracy did not improve from 0.99191\n",
      "384/384 [==============================] - 63s 165ms/step - loss: 0.0209 - accuracy: 0.9933 - val_loss: 0.0426 - val_accuracy: 0.9887 - lr: 1.0000e-07\n",
      "Epoch 43/100\n",
      "384/384 [==============================] - ETA: 0s - loss: 0.0194 - accuracy: 0.9931\n",
      "Epoch 43: val_accuracy did not improve from 0.99191\n",
      "Restoring model weights from the end of the best epoch: 23.\n",
      "\n",
      "Epoch 43: ReduceLROnPlateau reducing learning rate to 1.000000082740371e-08.\n",
      "384/384 [==============================] - 64s 166ms/step - loss: 0.0194 - accuracy: 0.9931 - val_loss: 0.0427 - val_accuracy: 0.9887 - lr: 1.0000e-07\n",
      "Epoch 43: early stopping\n"
     ]
    }
   ],
   "source": [
    "# Define the number of epochs\n",
    "num_epochs = 100\n",
    "\n",
    "# Train the model\n",
    "history_Xception_model_2 = Xception_model_2.fit(train_generator, epochs=num_epochs, validation_data=validation_generator, callbacks=callbacks)"
   ]
  },
  {
   "cell_type": "code",
   "execution_count": 17,
   "metadata": {
    "colab": {
     "background_save": true
    },
    "id": "3f1nmwUhU2TK"
   },
   "outputs": [
    {
     "data": {
      "text/plain": [
       "<matplotlib.legend.Legend at 0x7fef4e956430>"
      ]
     },
     "execution_count": 17,
     "metadata": {},
     "output_type": "execute_result"
    },
    {
     "data": {
      "image/png": "[encoded data removed]",
      "text/plain": [
       "<Figure size 640x480 with 1 Axes>"
      ]
     },
     "metadata": {},
     "output_type": "display_data"
    },
    {
     "data": {
      "image/png": "[encoded data removed]",
      "text/plain": [
       "<Figure size 640x480 with 1 Axes>"
      ]
     },
     "metadata": {},
     "output_type": "display_data"
    }
   ],
   "source": [
    "#-----------------------------------------------------------\n",
    "# Retrieve a list of list results on training and test data\n",
    "# sets for each training epoch\n",
    "#-----------------------------------------------------------\n",
    "acc      = history_Xception_model_2.history['accuracy' ]\n",
    "val_acc  = history_Xception_model_2.history['val_accuracy' ]\n",
    "loss     = history_Xception_model_2.history['loss' ]\n",
    "val_loss = history_Xception_model_2.history['val_loss' ]\n",
    "\n",
    "epochs   = range(len(acc)) # Get number of epochs\n",
    "\n",
    "#------------------------------------------------\n",
    "# Plot training and validation accuracy per epoch\n",
    "#------------------------------------------------\n",
    "plt.plot  (epochs, acc )\n",
    "plt.plot  (epochs, val_acc )\n",
    "plt.title ('Training and validation accuracy Xception Model 2 Augmented')\n",
    "plt.legend(['train', 'val'], loc='upper left')\n",
    "plt.figure()\n",
    "\n",
    "#------------------------------------------------\n",
    "# Plot training and validation loss per epoch\n",
    "#------------------------------------------------\n",
    "plt.plot  (epochs, loss)\n",
    "plt.plot  (epochs, val_loss)\n",
    "plt.title ('Training and validation loss Xception Model 2 Augmented')\n",
    "plt.legend(['train', 'val'], loc='upper left')"
   ]
  }
 ],
 "metadata": {
  "accelerator": "GPU",
  "colab": {
   "name": "",
   "version": ""
  },
  "gpuClass": "standard",
  "kernelspec": {
   "display_name": "Python 3 (ipykernel)",
   "language": "python",
   "name": "python3"
  },
  "language_info": {
   "codemirror_mode": {
    "name": "ipython",
    "version": 3
   },
   "file_extension": ".py",
   "mimetype": "text/x-python",
   "name": "python",
   "nbconvert_exporter": "python",
   "pygments_lexer": "ipython3",
   "version": "3.8.10"
  }
 },
 "nbformat": 4,
 "nbformat_minor": 4
}
