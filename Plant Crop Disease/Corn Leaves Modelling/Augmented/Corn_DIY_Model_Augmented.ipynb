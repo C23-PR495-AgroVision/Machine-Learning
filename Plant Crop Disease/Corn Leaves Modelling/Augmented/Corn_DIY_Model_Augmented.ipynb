{
  "cells": [
    {
      "attachments": {},
      "cell_type": "markdown",
      "metadata": {
        "id": "hO3kEcUPU2S3"
      },
      "source": [
        "# Library"
      ]
    },
    {
      "cell_type": "code",
      "execution_count": 1,
      "metadata": {
        "colab": {
          "base_uri": "https://localhost:8080/"
        },
        "id": "kczkUjsAU2S8",
        "outputId": "1196cf32-11d0-470e-ab59-e53eb9ba9b37",
        "tags": []
      },
      "outputs": [
        {
          "name": "stdout",
          "output_type": "stream",
          "text": [
            "Requirement already satisfied: matplotlib in c:\\users\\hasan\\anaconda3\\envs\\tensorflow_gpu_zein\\lib\\site-packages (3.6.3)\n",
            "Requirement already satisfied: fonttools>=4.22.0 in c:\\users\\hasan\\anaconda3\\envs\\tensorflow_gpu_zein\\lib\\site-packages (from matplotlib) (4.39.2)\n",
            "Requirement already satisfied: pyparsing>=2.2.1 in c:\\users\\hasan\\anaconda3\\envs\\tensorflow_gpu_zein\\lib\\site-packages (from matplotlib) (3.0.9)\n",
            "Requirement already satisfied: pillow>=6.2.0 in c:\\users\\hasan\\anaconda3\\envs\\tensorflow_gpu_zein\\lib\\site-packages (from matplotlib) (9.4.0)\n",
            "Requirement already satisfied: python-dateutil>=2.7 in c:\\users\\hasan\\anaconda3\\envs\\tensorflow_gpu_zein\\lib\\site-packages (from matplotlib) (2.8.2)\n",
            "Requirement already satisfied: numpy>=1.19 in c:\\users\\hasan\\anaconda3\\envs\\tensorflow_gpu_zein\\lib\\site-packages (from matplotlib) (1.23.5)\n",
            "Requirement already satisfied: kiwisolver>=1.0.1 in c:\\users\\hasan\\anaconda3\\envs\\tensorflow_gpu_zein\\lib\\site-packages (from matplotlib) (1.4.4)\n",
            "Requirement already satisfied: cycler>=0.10 in c:\\users\\hasan\\anaconda3\\envs\\tensorflow_gpu_zein\\lib\\site-packages (from matplotlib) (0.11.0)\n",
            "Requirement already satisfied: packaging>=20.0 in c:\\users\\hasan\\anaconda3\\envs\\tensorflow_gpu_zein\\lib\\site-packages (from matplotlib) (23.1)\n",
            "Requirement already satisfied: contourpy>=1.0.1 in c:\\users\\hasan\\anaconda3\\envs\\tensorflow_gpu_zein\\lib\\site-packages (from matplotlib) (1.0.7)\n",
            "Requirement already satisfied: six>=1.5 in c:\\users\\hasan\\anaconda3\\envs\\tensorflow_gpu_zein\\lib\\site-packages (from python-dateutil>=2.7->matplotlib) (1.16.0)\n",
            "Note: you may need to restart the kernel to use updated packages.\n"
          ]
        },
        {
          "name": "stderr",
          "output_type": "stream",
          "text": [
            "WARNING: Ignoring invalid distribution -rotobuf (c:\\users\\hasan\\anaconda3\\envs\\tensorflow_gpu_zein\\lib\\site-packages)\n",
            "WARNING: Ignoring invalid distribution -rotobuf (c:\\users\\hasan\\anaconda3\\envs\\tensorflow_gpu_zein\\lib\\site-packages)\n",
            "WARNING: Ignoring invalid distribution -rotobuf (c:\\users\\hasan\\anaconda3\\envs\\tensorflow_gpu_zein\\lib\\site-packages)\n",
            "WARNING: Ignoring invalid distribution -rotobuf (c:\\users\\hasan\\anaconda3\\envs\\tensorflow_gpu_zein\\lib\\site-packages)\n",
            "WARNING: Ignoring invalid distribution -rotobuf (c:\\users\\hasan\\anaconda3\\envs\\tensorflow_gpu_zein\\lib\\site-packages)\n",
            "WARNING: Ignoring invalid distribution -rotobuf (c:\\users\\hasan\\anaconda3\\envs\\tensorflow_gpu_zein\\lib\\site-packages)\n"
          ]
        }
      ],
      "source": [
        "pip install matplotlib"
      ]
    },
    {
      "cell_type": "code",
      "execution_count": 2,
      "metadata": {
        "colab": {
          "base_uri": "https://localhost:8080/"
        },
        "id": "oEW3Nbu7U2S_",
        "outputId": "60a4555a-78d2-43c6-d8ff-b5187eacab40",
        "tags": []
      },
      "outputs": [
        {
          "name": "stdout",
          "output_type": "stream",
          "text": [
            "Requirement already satisfied: opendatasets in c:\\users\\hasan\\anaconda3\\envs\\tensorflow_gpu_zein\\lib\\site-packages (0.1.22)\n",
            "Requirement already satisfied: kaggle in c:\\users\\hasan\\anaconda3\\envs\\tensorflow_gpu_zein\\lib\\site-packages (from opendatasets) (1.5.13)\n",
            "Requirement already satisfied: click in c:\\users\\hasan\\anaconda3\\envs\\tensorflow_gpu_zein\\lib\\site-packages (from opendatasets) (8.1.3)\n",
            "Requirement already satisfied: tqdm in c:\\users\\hasan\\anaconda3\\envs\\tensorflow_gpu_zein\\lib\\site-packages (from opendatasets) (4.64.1)\n",
            "Requirement already satisfied: colorama in c:\\users\\hasan\\anaconda3\\envs\\tensorflow_gpu_zein\\lib\\site-packages (from click->opendatasets) (0.4.6)\n",
            "Requirement already satisfied: python-slugify in c:\\users\\hasan\\anaconda3\\envs\\tensorflow_gpu_zein\\lib\\site-packages (from kaggle->opendatasets) (8.0.1)\n",
            "Requirement already satisfied: urllib3 in c:\\users\\hasan\\anaconda3\\envs\\tensorflow_gpu_zein\\lib\\site-packages (from kaggle->opendatasets) (1.26.15)\n",
            "Requirement already satisfied: certifi in c:\\users\\hasan\\anaconda3\\envs\\tensorflow_gpu_zein\\lib\\site-packages (from kaggle->opendatasets) (2022.12.7)\n",
            "Requirement already satisfied: requests in c:\\users\\hasan\\anaconda3\\envs\\tensorflow_gpu_zein\\lib\\site-packages (from kaggle->opendatasets) (2.28.2)\n",
            "Requirement already satisfied: python-dateutil in c:\\users\\hasan\\anaconda3\\envs\\tensorflow_gpu_zein\\lib\\site-packages (from kaggle->opendatasets) (2.8.2)\n",
            "Requirement already satisfied: six>=1.10 in c:\\users\\hasan\\anaconda3\\envs\\tensorflow_gpu_zein\\lib\\site-packages (from kaggle->opendatasets) (1.16.0)\n",
            "Requirement already satisfied: text-unidecode>=1.3 in c:\\users\\hasan\\anaconda3\\envs\\tensorflow_gpu_zein\\lib\\site-packages (from python-slugify->kaggle->opendatasets) (1.3)\n",
            "Requirement already satisfied: charset-normalizer<4,>=2 in c:\\users\\hasan\\anaconda3\\envs\\tensorflow_gpu_zein\\lib\\site-packages (from requests->kaggle->opendatasets) (3.1.0)\n",
            "Requirement already satisfied: idna<4,>=2.5 in c:\\users\\hasan\\anaconda3\\envs\\tensorflow_gpu_zein\\lib\\site-packages (from requests->kaggle->opendatasets) (3.4)\n",
            "Note: you may need to restart the kernel to use updated packages.\n"
          ]
        },
        {
          "name": "stderr",
          "output_type": "stream",
          "text": [
            "WARNING: Ignoring invalid distribution -rotobuf (c:\\users\\hasan\\anaconda3\\envs\\tensorflow_gpu_zein\\lib\\site-packages)\n",
            "WARNING: Ignoring invalid distribution -rotobuf (c:\\users\\hasan\\anaconda3\\envs\\tensorflow_gpu_zein\\lib\\site-packages)\n",
            "WARNING: Ignoring invalid distribution -rotobuf (c:\\users\\hasan\\anaconda3\\envs\\tensorflow_gpu_zein\\lib\\site-packages)\n",
            "WARNING: Ignoring invalid distribution -rotobuf (c:\\users\\hasan\\anaconda3\\envs\\tensorflow_gpu_zein\\lib\\site-packages)\n",
            "WARNING: Ignoring invalid distribution -rotobuf (c:\\users\\hasan\\anaconda3\\envs\\tensorflow_gpu_zein\\lib\\site-packages)\n",
            "WARNING: Ignoring invalid distribution -rotobuf (c:\\users\\hasan\\anaconda3\\envs\\tensorflow_gpu_zein\\lib\\site-packages)\n"
          ]
        }
      ],
      "source": [
        "pip install opendatasets"
      ]
    },
    {
      "cell_type": "code",
      "execution_count": 3,
      "metadata": {
        "id": "SIHHdOB4U2TA",
        "tags": []
      },
      "outputs": [],
      "source": [
        "# Library to dataset\n",
        "import opendatasets as od\n",
        "import os\n",
        "import zipfile\n",
        "import numpy as np\n",
        "\n",
        "# Surpress Warnings\n",
        "import warnings\n",
        "warnings.filterwarnings('ignore')\n",
        "os.environ['TF_CPP_MIN_LOG_LEVEL'] = '3' \n",
        "# library visualization\n",
        "import matplotlib.pyplot as plt\n",
        "\n",
        "# Library Tensorflow\n",
        "import tensorflow as tf\n",
        "from tensorflow import keras\n",
        "from tensorflow.keras.preprocessing.image import ImageDataGenerator\n",
        "from tensorflow.keras.callbacks import ModelCheckpoint, EarlyStopping, ReduceLROnPlateau\n",
        "from tensorflow.keras.applications.densenet import DenseNet121\n",
        "# Others\n",
        "import shutil\n",
        "import random"
      ]
    },
    {
      "attachments": {},
      "cell_type": "markdown",
      "metadata": {
        "id": "Dy8YkYoaU2TB"
      },
      "source": [
        "# Load dataset"
      ]
    },
    {
      "cell_type": "code",
      "execution_count": 4,
      "metadata": {
        "colab": {
          "base_uri": "https://localhost:8080/"
        },
        "id": "8ZAjREJ0U2TC",
        "outputId": "2fe0912f-82df-4708-b6c8-936d20fd5d4f",
        "tags": []
      },
      "outputs": [
        {
          "name": "stdout",
          "output_type": "stream",
          "text": [
            "==========================Training Data====================\n",
            "Found 7665 files belonging to 4 classes.\n",
            "==========================Validation Data====================\n",
            "Found 1855 files belonging to 4 classes.\n"
          ]
        }
      ],
      "source": [
        "# Load dataset\n",
        "print(\"==========================Training Data====================\")\n",
        "train_data = tf.keras.preprocessing.image_dataset_from_directory(\n",
        "    \"Dataset/Corn/train\",\n",
        "    label_mode=\"categorical\",\n",
        "    class_names=['Corn Gray leaf spot','Corn healthy','Corn leaf blight','Corn rust leaf'],\n",
        "    color_mode=\"rgb\",\n",
        "    batch_size=1,\n",
        "    image_size=(256, 256),\n",
        "    shuffle=True,\n",
        "    seed=123\n",
        ")\n",
        "print(\"==========================Validation Data====================\")\n",
        "val_data = tf.keras.preprocessing.image_dataset_from_directory(\n",
        "    \"Dataset/Corn/valid\",\n",
        "    label_mode=\"categorical\",\n",
        "    class_names=['Corn Gray leaf spot','Corn healthy','Corn leaf blight','Corn rust leaf'],\n",
        "    color_mode=\"rgb\",\n",
        "    batch_size=1,\n",
        "    image_size=(256, 256),\n",
        "    shuffle=True,\n",
        "    seed=123\n",
        ")"
      ]
    },
    {
      "cell_type": "code",
      "execution_count": 5,
      "metadata": {
        "colab": {
          "base_uri": "https://localhost:8080/"
        },
        "id": "vEPzd1egU2TD",
        "outputId": "d821e210-f516-4bf3-f164-5d711685de6b",
        "tags": []
      },
      "outputs": [
        {
          "name": "stdout",
          "output_type": "stream",
          "text": [
            "Found 7665 images belonging to 4 classes.\n",
            "Found 1855 images belonging to 4 classes.\n"
          ]
        }
      ],
      "source": [
        "# All images will be rescaled by 1./255.and augmented\n",
        "train_datagen = ImageDataGenerator(rescale = 1.0/256.,\n",
        "                                   rotation_range=40,\n",
        "                                   width_shift_range=0.2,\n",
        "                                   height_shift_range=0.2,\n",
        "                                   shear_range=0.2,\n",
        "                                   zoom_range=0.2,\n",
        "                                   horizontal_flip=True,\n",
        "                                   fill_mode='nearest')\n",
        "\n",
        "test_datagen  = ImageDataGenerator(rescale = 1.0/256.)\n",
        "\n",
        "# --------------------\n",
        "# Flow training images in batches of 20 using train_datagen generator\n",
        "# --------------------\n",
        "train_generator = train_datagen.flow_from_directory(\"Dataset/Corn/train\",\n",
        "                                                    batch_size=20,\n",
        "                                                    class_mode='categorical',\n",
        "                                                    target_size=(224, 224))     \n",
        "# --------------------\n",
        "# Flow validation images in batches of 20 using test_datagen generator\n",
        "# --------------------\n",
        "validation_generator =  test_datagen.flow_from_directory(\"Dataset/Corn/valid\",\n",
        "                                                         batch_size=20,\n",
        "                                                         class_mode  = 'categorical',\n",
        "                                                         target_size = (224, 224))"
      ]
    },
    {
      "attachments": {},
      "cell_type": "markdown",
      "metadata": {
        "id": "_3jaO5YgU2TE"
      },
      "source": [
        "# List Resource"
      ]
    },
    {
      "cell_type": "code",
      "execution_count": 6,
      "metadata": {
        "colab": {
          "base_uri": "https://localhost:8080/"
        },
        "id": "SGemCaxnU2TF",
        "outputId": "515a509f-aaf4-49c8-8977-8b2d5bba5887",
        "tags": []
      },
      "outputs": [
        {
          "name": "stdout",
          "output_type": "stream",
          "text": [
            "Mon May 29 12:45:08 2023       \n",
            "+---------------------------------------------------------------------------------------+\n",
            "| NVIDIA-SMI 532.03                 Driver Version: 532.03       CUDA Version: 12.1     |\n",
            "|-----------------------------------------+----------------------+----------------------+\n",
            "| GPU  Name                      TCC/WDDM | Bus-Id        Disp.A | Volatile Uncorr. ECC |\n",
            "| Fan  Temp  Perf            Pwr:Usage/Cap|         Memory-Usage | GPU-Util  Compute M. |\n",
            "|                                         |                      |               MIG M. |\n",
            "|=========================================+======================+======================|\n",
            "|   0  NVIDIA GeForce RTX 3060 L...  WDDM | 00000000:01:00.0  On |                  N/A |\n",
            "| N/A   60C    P0               36W /  N/A|   4791MiB /  6144MiB |      4%      Default |\n",
            "|                                         |                      |                  N/A |\n",
            "+-----------------------------------------+----------------------+----------------------+\n",
            "                                                                                         \n",
            "+---------------------------------------------------------------------------------------+\n",
            "| Processes:                                                                            |\n",
            "|  GPU   GI   CI        PID   Type   Process name                            GPU Memory |\n",
            "|        ID   ID                                                             Usage      |\n",
            "|=======================================================================================|\n",
            "|    0   N/A  N/A      7056    C+G   ...5n1h2txyewy\\ShellExperienceHost.exe    N/A      |\n",
            "|    0   N/A  N/A      8048    C+G   ...n\\AppData\\Roaming\\Zoom\\bin\\Zoom.exe    N/A      |\n",
            "|    0   N/A  N/A      8320    C+G   ...oogle\\Chrome\\Application\\chrome.exe    N/A      |\n",
            "|    0   N/A  N/A     10208    C+G   C:\\WINDOWS\\explorer.exe                   N/A      |\n",
            "|    0   N/A  N/A     10264    C+G   ...on\\113.0.1774.57\\msedgewebview2.exe    N/A      |\n",
            "|    0   N/A  N/A     12144    C+G   ...2txyewy\\StartMenuExperienceHost.exe    N/A      |\n",
            "|    0   N/A  N/A     12176    C+G   ...nt.CBS_cw5n1h2txyewy\\SearchHost.exe    N/A      |\n",
            "|    0   N/A  N/A     13936    C+G   ...x64__qmba6cd70vzyy\\ArmouryCrate.exe    N/A      |\n",
            "|    0   N/A  N/A     14852    C+G   ...ekyb3d8bbwe\\PhoneExperienceHost.exe    N/A      |\n",
            "|    0   N/A  N/A     15036    C+G   ...siveControlPanel\\SystemSettings.exe    N/A      |\n",
            "|    0   N/A  N/A     15528    C+G   ...t.LockApp_cw5n1h2txyewy\\LockApp.exe    N/A      |\n",
            "|    0   N/A  N/A     15828    C+G   ...1.0_x64__8wekyb3d8bbwe\\Video.UI.exe    N/A      |\n",
            "|    0   N/A  N/A     16852    C+G   ...les\\Microsoft OneDrive\\OneDrive.exe    N/A      |\n",
            "|    0   N/A  N/A     17504    C+G   ...les\\Microsoft OneDrive\\OneDrive.exe    N/A      |\n",
            "|    0   N/A  N/A     18000      C   ...envs\\tensorflow_gpu_zein\\python.exe    N/A      |\n",
            "|    0   N/A  N/A     19624    C+G   ...les\\AMD\\CNext\\CNext\\AMDRSSrcExt.exe    N/A      |\n",
            "|    0   N/A  N/A     19696    C+G   ...7.0_x64__cv1g1gvanyjgm\\WhatsApp.exe    N/A      |\n",
            "|    0   N/A  N/A     19924    C+G   ...\\AMD\\CNext\\CNext\\RadeonSoftware.exe    N/A      |\n",
            "|    0   N/A  N/A     20244    C+G   ...64__v826wp6bftszj\\TranslucentTB.exe    N/A      |\n",
            "|    0   N/A  N/A     25972    C+G   ...on\\113.0.1774.57\\msedgewebview2.exe    N/A      |\n",
            "|    0   N/A  N/A     26548    C+G   ...GeForce Experience\\NVIDIA Share.exe    N/A      |\n",
            "|    0   N/A  N/A     31128    C+G   ...Programs\\Microsoft VS Code\\Code.exe    N/A      |\n",
            "|    0   N/A  N/A     31400    C+G   ...02.0_x86__zpdnekdrzrea0\\Spotify.exe    N/A      |\n",
            "+---------------------------------------------------------------------------------------+\n"
          ]
        }
      ],
      "source": [
        "# Check GPU\n",
        "!nvidia-smi"
      ]
    },
    {
      "cell_type": "code",
      "execution_count": 7,
      "metadata": {
        "colab": {
          "base_uri": "https://localhost:8080/"
        },
        "id": "FSapZ74PU2TF",
        "outputId": "ed4d645b-28b3-4587-f4e4-c615bb48ed1b",
        "tags": []
      },
      "outputs": [
        {
          "data": {
            "text/plain": [
              "[PhysicalDevice(name='/physical_device:GPU:0', device_type='GPU')]"
            ]
          },
          "execution_count": 7,
          "metadata": {},
          "output_type": "execute_result"
        }
      ],
      "source": [
        "# Lis physical devices\n",
        "devices = tf.config.experimental.list_physical_devices(\"GPU\")\n",
        "devices"
      ]
    },
    {
      "cell_type": "code",
      "execution_count": 8,
      "metadata": {
        "id": "A8WtBtBaU2TG",
        "tags": []
      },
      "outputs": [
        {
          "name": "stdout",
          "output_type": "stream",
          "text": [
            "INFO:tensorflow:Using MirroredStrategy with devices ('/job:localhost/replica:0/task:0/device:GPU:0',)\n"
          ]
        }
      ],
      "source": [
        "# Define the GPU strategy\n",
        "mirrored_strategy = tf.distribute.MirroredStrategy(devices=[\"/gpu:0\"])"
      ]
    },
    {
      "attachments": {},
      "cell_type": "markdown",
      "metadata": {
        "id": "Vqr_uGTNU2TG"
      },
      "source": [
        "# Modelling With Augmentation"
      ]
    },
    {
      "attachments": {},
      "cell_type": "markdown",
      "metadata": {
        "id": "w4Wzh6ZyU2TH"
      },
      "source": [
        "## DIY Model 1"
      ]
    },
    {
      "cell_type": "code",
      "execution_count": 9,
      "metadata": {
        "id": "uUqYGBfRU2TH",
        "tags": []
      },
      "outputs": [],
      "source": [
        "# Difine the callbacks\n",
        "# Save the best model\n",
        "checkpoint_callback = ModelCheckpoint(filepath=\"Corn_DIY_model1_Based_Augmented\", save_best_only=True, monitor=\"val_accuracy\", mode=\"max\", verbose=1)\n",
        "\n",
        "# Early stopping\n",
        "early_stopping_callback = EarlyStopping(monitor=\"val_accuracy\", mode=\"max\", patience=20, verbose=1, restore_best_weights=True)\n",
        "\n",
        "# Reduce learning rate\n",
        "reduce_lr_callback = ReduceLROnPlateau(monitor=\"val_loss\", factor=0.1, patience=5, verbose=1, mode=\"min\", min_delta=0.0001, cooldown=0, min_lr=0)\n",
        "\n",
        "# Callbacks list\n",
        "callbacks=[checkpoint_callback, early_stopping_callback, reduce_lr_callback]"
      ]
    },
    {
      "cell_type": "code",
      "execution_count": 10,
      "metadata": {
        "colab": {
          "base_uri": "https://localhost:8080/"
        },
        "id": "BQHFs3gSU2TI",
        "outputId": "7f1f9f40-c58e-45bf-ed4f-14bd70a72c52",
        "tags": []
      },
      "outputs": [
        {
          "name": "stdout",
          "output_type": "stream",
          "text": [
            "Model: \"sequential\"\n",
            "_________________________________________________________________\n",
            " Layer (type)                Output Shape              Param #   \n",
            "=================================================================\n",
            " conv2d (Conv2D)             (None, 222, 222, 32)      896       \n",
            "                                                                 \n",
            " max_pooling2d (MaxPooling2D  (None, 111, 111, 32)     0         \n",
            " )                                                               \n",
            "                                                                 \n",
            " conv2d_1 (Conv2D)           (None, 109, 109, 64)      18496     \n",
            "                                                                 \n",
            " max_pooling2d_1 (MaxPooling  (None, 54, 54, 64)       0         \n",
            " 2D)                                                             \n",
            "                                                                 \n",
            " conv2d_2 (Conv2D)           (None, 52, 52, 128)       73856     \n",
            "                                                                 \n",
            " max_pooling2d_2 (MaxPooling  (None, 26, 26, 128)      0         \n",
            " 2D)                                                             \n",
            "                                                                 \n",
            " flatten (Flatten)           (None, 86528)             0         \n",
            "                                                                 \n",
            " dense (Dense)               (None, 512)               44302848  \n",
            "                                                                 \n",
            " dropout (Dropout)           (None, 512)               0         \n",
            "                                                                 \n",
            " dense_1 (Dense)             (None, 256)               131328    \n",
            "                                                                 \n",
            " dense_2 (Dense)             (None, 4)                 1028      \n",
            "                                                                 \n",
            "=================================================================\n",
            "Total params: 44,528,452\n",
            "Trainable params: 44,528,452\n",
            "Non-trainable params: 0\n",
            "_________________________________________________________________\n"
          ]
        }
      ],
      "source": [
        "# Define DIY Model\n",
        "DIY_model = tf.keras.models.Sequential([\n",
        "    # Convolutional Layers with 32 filters\n",
        "    tf.keras.layers.Conv2D(32, (3,3), activation='relu', input_shape=(224, 224, 3)),\n",
        "    # MaxPooling Layer\n",
        "    tf.keras.layers.MaxPooling2D(2,2),\n",
        "    # Convolutional Layers with 64 filters\n",
        "    tf.keras.layers.Conv2D(64, (3,3), activation='relu'),\n",
        "    # MaxPooling Layer\n",
        "    tf.keras.layers.MaxPooling2D(2,2),  \n",
        "    # Convolutional Layers with 128 filters\n",
        "    tf.keras.layers.Conv2D(128, (3,3), activation='relu'), \n",
        "    # MaxPooling Layer\n",
        "    tf.keras.layers.MaxPooling2D(2,2),  \n",
        "    # Flatten the results to feed into a DNN\n",
        "    tf.keras.layers.Flatten(),\n",
        "    # 512 neuron hidden layer\n",
        "    tf.keras.layers.Dense(512, activation='relu'),\n",
        "    # Drop Out Layer\n",
        "    tf.keras.layers.Dropout(0.2),\n",
        "    # 256 neuron hidden layer\n",
        "    tf.keras.layers.Dense(256, activation='relu'),\n",
        "    # Output\n",
        "    tf.keras.layers.Dense(4, activation='softmax') \n",
        "  ])\n",
        "\n",
        "\n",
        "# Compile Model\n",
        "DIY_model.compile(loss='categorical_crossentropy',optimizer=tf.keras.optimizers.Adam(), metrics=['accuracy']) \n",
        "\n",
        "# Model Summary\n",
        "DIY_model.summary()"
      ]
    },
    {
      "cell_type": "code",
      "execution_count": 11,
      "metadata": {
        "colab": {
          "base_uri": "https://localhost:8080/"
        },
        "id": "6coN3TKhU2TI",
        "outputId": "855d91bb-6afb-4643-a4bb-fb18d417192d",
        "tags": []
      },
      "outputs": [
        {
          "name": "stdout",
          "output_type": "stream",
          "text": [
            "Epoch 1/100\n",
            "384/384 [==============================] - ETA: 0s - loss: 0.6723 - accuracy: 0.7435\n",
            "Epoch 1: val_accuracy improved from -inf to 0.88625, saving model to Corn_DIY_model1_Based_Augmented\n"
          ]
        },
        {
          "name": "stderr",
          "output_type": "stream",
          "text": [
            "WARNING:absl:Found untraced functions such as _jit_compiled_convolution_op, _jit_compiled_convolution_op, _jit_compiled_convolution_op while saving (showing 3 of 3). These functions will not be directly callable after loading.\n"
          ]
        },
        {
          "name": "stdout",
          "output_type": "stream",
          "text": [
            "INFO:tensorflow:Assets written to: Corn_DIY_model1_Based_Augmented\\assets\n"
          ]
        },
        {
          "name": "stderr",
          "output_type": "stream",
          "text": [
            "INFO:tensorflow:Assets written to: Corn_DIY_model1_Based_Augmented\\assets\n"
          ]
        },
        {
          "name": "stdout",
          "output_type": "stream",
          "text": [
            "384/384 [==============================] - 117s 296ms/step - loss: 0.6723 - accuracy: 0.7435 - val_loss: 0.3238 - val_accuracy: 0.8863 - lr: 0.0010\n",
            "Epoch 2/100\n",
            "384/384 [==============================] - ETA: 0s - loss: 0.3926 - accuracy: 0.8489\n",
            "Epoch 2: val_accuracy did not improve from 0.88625\n",
            "384/384 [==============================] - 66s 171ms/step - loss: 0.3926 - accuracy: 0.8489 - val_loss: 0.4378 - val_accuracy: 0.8404 - lr: 0.0010\n",
            "Epoch 3/100\n",
            "384/384 [==============================] - ETA: 0s - loss: 0.3695 - accuracy: 0.8578\n",
            "Epoch 3: val_accuracy improved from 0.88625 to 0.91051, saving model to Corn_DIY_model1_Based_Augmented\n"
          ]
        },
        {
          "name": "stderr",
          "output_type": "stream",
          "text": [
            "WARNING:absl:Found untraced functions such as _jit_compiled_convolution_op, _jit_compiled_convolution_op, _jit_compiled_convolution_op while saving (showing 3 of 3). These functions will not be directly callable after loading.\n"
          ]
        },
        {
          "name": "stdout",
          "output_type": "stream",
          "text": [
            "INFO:tensorflow:Assets written to: Corn_DIY_model1_Based_Augmented\\assets\n"
          ]
        },
        {
          "name": "stderr",
          "output_type": "stream",
          "text": [
            "INFO:tensorflow:Assets written to: Corn_DIY_model1_Based_Augmented\\assets\n"
          ]
        },
        {
          "name": "stdout",
          "output_type": "stream",
          "text": [
            "384/384 [==============================] - 67s 175ms/step - loss: 0.3695 - accuracy: 0.8578 - val_loss: 0.2410 - val_accuracy: 0.9105 - lr: 0.0010\n",
            "Epoch 4/100\n",
            "384/384 [==============================] - ETA: 0s - loss: 0.3232 - accuracy: 0.8772\n",
            "Epoch 4: val_accuracy did not improve from 0.91051\n",
            "384/384 [==============================] - 65s 169ms/step - loss: 0.3232 - accuracy: 0.8772 - val_loss: 0.2532 - val_accuracy: 0.9100 - lr: 0.0010\n",
            "Epoch 5/100\n",
            "384/384 [==============================] - ETA: 0s - loss: 0.3078 - accuracy: 0.8822\n",
            "Epoch 5: val_accuracy improved from 0.91051 to 0.91267, saving model to Corn_DIY_model1_Based_Augmented\n"
          ]
        },
        {
          "name": "stderr",
          "output_type": "stream",
          "text": [
            "WARNING:absl:Found untraced functions such as _jit_compiled_convolution_op, _jit_compiled_convolution_op, _jit_compiled_convolution_op while saving (showing 3 of 3). These functions will not be directly callable after loading.\n"
          ]
        },
        {
          "name": "stdout",
          "output_type": "stream",
          "text": [
            "INFO:tensorflow:Assets written to: Corn_DIY_model1_Based_Augmented\\assets\n"
          ]
        },
        {
          "name": "stderr",
          "output_type": "stream",
          "text": [
            "INFO:tensorflow:Assets written to: Corn_DIY_model1_Based_Augmented\\assets\n"
          ]
        },
        {
          "name": "stdout",
          "output_type": "stream",
          "text": [
            "384/384 [==============================] - 68s 176ms/step - loss: 0.3078 - accuracy: 0.8822 - val_loss: 0.2414 - val_accuracy: 0.9127 - lr: 0.0010\n",
            "Epoch 6/100\n",
            "384/384 [==============================] - ETA: 0s - loss: 0.3042 - accuracy: 0.8822\n",
            "Epoch 6: val_accuracy improved from 0.91267 to 0.92129, saving model to Corn_DIY_model1_Based_Augmented\n"
          ]
        },
        {
          "name": "stderr",
          "output_type": "stream",
          "text": [
            "WARNING:absl:Found untraced functions such as _jit_compiled_convolution_op, _jit_compiled_convolution_op, _jit_compiled_convolution_op while saving (showing 3 of 3). These functions will not be directly callable after loading.\n"
          ]
        },
        {
          "name": "stdout",
          "output_type": "stream",
          "text": [
            "INFO:tensorflow:Assets written to: Corn_DIY_model1_Based_Augmented\\assets\n"
          ]
        },
        {
          "name": "stderr",
          "output_type": "stream",
          "text": [
            "INFO:tensorflow:Assets written to: Corn_DIY_model1_Based_Augmented\\assets\n"
          ]
        },
        {
          "name": "stdout",
          "output_type": "stream",
          "text": [
            "384/384 [==============================] - 67s 175ms/step - loss: 0.3042 - accuracy: 0.8822 - val_loss: 0.2105 - val_accuracy: 0.9213 - lr: 0.0010\n",
            "Epoch 7/100\n",
            "384/384 [==============================] - ETA: 0s - loss: 0.2780 - accuracy: 0.8928\n",
            "Epoch 7: val_accuracy did not improve from 0.92129\n",
            "384/384 [==============================] - 67s 173ms/step - loss: 0.2780 - accuracy: 0.8928 - val_loss: 0.2962 - val_accuracy: 0.8987 - lr: 0.0010\n",
            "Epoch 8/100\n",
            "384/384 [==============================] - ETA: 0s - loss: 0.2589 - accuracy: 0.9002\n",
            "Epoch 8: val_accuracy improved from 0.92129 to 0.92453, saving model to Corn_DIY_model1_Based_Augmented\n"
          ]
        },
        {
          "name": "stderr",
          "output_type": "stream",
          "text": [
            "WARNING:absl:Found untraced functions such as _jit_compiled_convolution_op, _jit_compiled_convolution_op, _jit_compiled_convolution_op while saving (showing 3 of 3). These functions will not be directly callable after loading.\n"
          ]
        },
        {
          "name": "stdout",
          "output_type": "stream",
          "text": [
            "INFO:tensorflow:Assets written to: Corn_DIY_model1_Based_Augmented\\assets\n"
          ]
        },
        {
          "name": "stderr",
          "output_type": "stream",
          "text": [
            "INFO:tensorflow:Assets written to: Corn_DIY_model1_Based_Augmented\\assets\n"
          ]
        },
        {
          "name": "stdout",
          "output_type": "stream",
          "text": [
            "384/384 [==============================] - 70s 182ms/step - loss: 0.2589 - accuracy: 0.9002 - val_loss: 0.1849 - val_accuracy: 0.9245 - lr: 0.0010\n",
            "Epoch 9/100\n",
            "384/384 [==============================] - ETA: 0s - loss: 0.2882 - accuracy: 0.8904\n",
            "Epoch 9: val_accuracy improved from 0.92453 to 0.92507, saving model to Corn_DIY_model1_Based_Augmented\n"
          ]
        },
        {
          "name": "stderr",
          "output_type": "stream",
          "text": [
            "WARNING:absl:Found untraced functions such as _jit_compiled_convolution_op, _jit_compiled_convolution_op, _jit_compiled_convolution_op while saving (showing 3 of 3). These functions will not be directly callable after loading.\n"
          ]
        },
        {
          "name": "stdout",
          "output_type": "stream",
          "text": [
            "INFO:tensorflow:Assets written to: Corn_DIY_model1_Based_Augmented\\assets\n"
          ]
        },
        {
          "name": "stderr",
          "output_type": "stream",
          "text": [
            "INFO:tensorflow:Assets written to: Corn_DIY_model1_Based_Augmented\\assets\n"
          ]
        },
        {
          "name": "stdout",
          "output_type": "stream",
          "text": [
            "384/384 [==============================] - 69s 179ms/step - loss: 0.2882 - accuracy: 0.8904 - val_loss: 0.1917 - val_accuracy: 0.9251 - lr: 0.0010\n",
            "Epoch 10/100\n",
            "384/384 [==============================] - ETA: 0s - loss: 0.2525 - accuracy: 0.9049\n",
            "Epoch 10: val_accuracy improved from 0.92507 to 0.94070, saving model to Corn_DIY_model1_Based_Augmented\n"
          ]
        },
        {
          "name": "stderr",
          "output_type": "stream",
          "text": [
            "WARNING:absl:Found untraced functions such as _jit_compiled_convolution_op, _jit_compiled_convolution_op, _jit_compiled_convolution_op while saving (showing 3 of 3). These functions will not be directly callable after loading.\n"
          ]
        },
        {
          "name": "stdout",
          "output_type": "stream",
          "text": [
            "INFO:tensorflow:Assets written to: Corn_DIY_model1_Based_Augmented\\assets\n"
          ]
        },
        {
          "name": "stderr",
          "output_type": "stream",
          "text": [
            "INFO:tensorflow:Assets written to: Corn_DIY_model1_Based_Augmented\\assets\n"
          ]
        },
        {
          "name": "stdout",
          "output_type": "stream",
          "text": [
            "384/384 [==============================] - 68s 178ms/step - loss: 0.2525 - accuracy: 0.9049 - val_loss: 0.1767 - val_accuracy: 0.9407 - lr: 0.0010\n",
            "Epoch 11/100\n",
            "384/384 [==============================] - ETA: 0s - loss: 0.2878 - accuracy: 0.8903\n",
            "Epoch 11: val_accuracy did not improve from 0.94070\n",
            "384/384 [==============================] - 65s 170ms/step - loss: 0.2878 - accuracy: 0.8903 - val_loss: 0.2973 - val_accuracy: 0.8534 - lr: 0.0010\n",
            "Epoch 12/100\n",
            "384/384 [==============================] - ETA: 0s - loss: 0.2626 - accuracy: 0.9006\n",
            "Epoch 12: val_accuracy did not improve from 0.94070\n",
            "384/384 [==============================] - 63s 165ms/step - loss: 0.2626 - accuracy: 0.9006 - val_loss: 0.1784 - val_accuracy: 0.9391 - lr: 0.0010\n",
            "Epoch 13/100\n",
            "384/384 [==============================] - ETA: 0s - loss: 0.2494 - accuracy: 0.9066\n",
            "Epoch 13: val_accuracy did not improve from 0.94070\n",
            "384/384 [==============================] - 64s 168ms/step - loss: 0.2494 - accuracy: 0.9066 - val_loss: 0.2120 - val_accuracy: 0.9121 - lr: 0.0010\n",
            "Epoch 14/100\n",
            "384/384 [==============================] - ETA: 0s - loss: 0.2275 - accuracy: 0.9104\n",
            "Epoch 14: val_accuracy did not improve from 0.94070\n",
            "384/384 [==============================] - 63s 165ms/step - loss: 0.2275 - accuracy: 0.9104 - val_loss: 0.1637 - val_accuracy: 0.9358 - lr: 0.0010\n",
            "Epoch 15/100\n",
            "384/384 [==============================] - ETA: 0s - loss: 0.2163 - accuracy: 0.9159\n",
            "Epoch 15: val_accuracy improved from 0.94070 to 0.94124, saving model to Corn_DIY_model1_Based_Augmented\n"
          ]
        },
        {
          "name": "stderr",
          "output_type": "stream",
          "text": [
            "WARNING:absl:Found untraced functions such as _jit_compiled_convolution_op, _jit_compiled_convolution_op, _jit_compiled_convolution_op while saving (showing 3 of 3). These functions will not be directly callable after loading.\n"
          ]
        },
        {
          "name": "stdout",
          "output_type": "stream",
          "text": [
            "INFO:tensorflow:Assets written to: Corn_DIY_model1_Based_Augmented\\assets\n"
          ]
        },
        {
          "name": "stderr",
          "output_type": "stream",
          "text": [
            "INFO:tensorflow:Assets written to: Corn_DIY_model1_Based_Augmented\\assets\n"
          ]
        },
        {
          "name": "stdout",
          "output_type": "stream",
          "text": [
            "384/384 [==============================] - 68s 177ms/step - loss: 0.2163 - accuracy: 0.9159 - val_loss: 0.1856 - val_accuracy: 0.9412 - lr: 0.0010\n",
            "Epoch 16/100\n",
            "384/384 [==============================] - ETA: 0s - loss: 0.1958 - accuracy: 0.9251\n",
            "Epoch 16: val_accuracy improved from 0.94124 to 0.94663, saving model to Corn_DIY_model1_Based_Augmented\n"
          ]
        },
        {
          "name": "stderr",
          "output_type": "stream",
          "text": [
            "WARNING:absl:Found untraced functions such as _jit_compiled_convolution_op, _jit_compiled_convolution_op, _jit_compiled_convolution_op while saving (showing 3 of 3). These functions will not be directly callable after loading.\n"
          ]
        },
        {
          "name": "stdout",
          "output_type": "stream",
          "text": [
            "INFO:tensorflow:Assets written to: Corn_DIY_model1_Based_Augmented\\assets\n"
          ]
        },
        {
          "name": "stderr",
          "output_type": "stream",
          "text": [
            "INFO:tensorflow:Assets written to: Corn_DIY_model1_Based_Augmented\\assets\n"
          ]
        },
        {
          "name": "stdout",
          "output_type": "stream",
          "text": [
            "384/384 [==============================] - 68s 178ms/step - loss: 0.1958 - accuracy: 0.9251 - val_loss: 0.1501 - val_accuracy: 0.9466 - lr: 0.0010\n",
            "Epoch 17/100\n",
            "384/384 [==============================] - ETA: 0s - loss: 0.2058 - accuracy: 0.9199\n",
            "Epoch 17: val_accuracy improved from 0.94663 to 0.95040, saving model to Corn_DIY_model1_Based_Augmented\n"
          ]
        },
        {
          "name": "stderr",
          "output_type": "stream",
          "text": [
            "WARNING:absl:Found untraced functions such as _jit_compiled_convolution_op, _jit_compiled_convolution_op, _jit_compiled_convolution_op while saving (showing 3 of 3). These functions will not be directly callable after loading.\n"
          ]
        },
        {
          "name": "stdout",
          "output_type": "stream",
          "text": [
            "INFO:tensorflow:Assets written to: Corn_DIY_model1_Based_Augmented\\assets\n"
          ]
        },
        {
          "name": "stderr",
          "output_type": "stream",
          "text": [
            "INFO:tensorflow:Assets written to: Corn_DIY_model1_Based_Augmented\\assets\n"
          ]
        },
        {
          "name": "stdout",
          "output_type": "stream",
          "text": [
            "384/384 [==============================] - 72s 187ms/step - loss: 0.2058 - accuracy: 0.9199 - val_loss: 0.1364 - val_accuracy: 0.9504 - lr: 0.0010\n",
            "Epoch 18/100\n",
            "384/384 [==============================] - ETA: 0s - loss: 0.1958 - accuracy: 0.9260\n",
            "Epoch 18: val_accuracy did not improve from 0.95040\n",
            "384/384 [==============================] - 67s 173ms/step - loss: 0.1958 - accuracy: 0.9260 - val_loss: 0.1717 - val_accuracy: 0.9456 - lr: 0.0010\n",
            "Epoch 19/100\n",
            "384/384 [==============================] - ETA: 0s - loss: 0.2013 - accuracy: 0.9207\n",
            "Epoch 19: val_accuracy improved from 0.95040 to 0.95148, saving model to Corn_DIY_model1_Based_Augmented\n"
          ]
        },
        {
          "name": "stderr",
          "output_type": "stream",
          "text": [
            "WARNING:absl:Found untraced functions such as _jit_compiled_convolution_op, _jit_compiled_convolution_op, _jit_compiled_convolution_op while saving (showing 3 of 3). These functions will not be directly callable after loading.\n"
          ]
        },
        {
          "name": "stdout",
          "output_type": "stream",
          "text": [
            "INFO:tensorflow:Assets written to: Corn_DIY_model1_Based_Augmented\\assets\n"
          ]
        },
        {
          "name": "stderr",
          "output_type": "stream",
          "text": [
            "INFO:tensorflow:Assets written to: Corn_DIY_model1_Based_Augmented\\assets\n"
          ]
        },
        {
          "name": "stdout",
          "output_type": "stream",
          "text": [
            "384/384 [==============================] - 71s 185ms/step - loss: 0.2013 - accuracy: 0.9207 - val_loss: 0.1312 - val_accuracy: 0.9515 - lr: 0.0010\n",
            "Epoch 20/100\n",
            "384/384 [==============================] - ETA: 0s - loss: 0.1877 - accuracy: 0.9280\n",
            "Epoch 20: val_accuracy improved from 0.95148 to 0.95526, saving model to Corn_DIY_model1_Based_Augmented\n"
          ]
        },
        {
          "name": "stderr",
          "output_type": "stream",
          "text": [
            "WARNING:absl:Found untraced functions such as _jit_compiled_convolution_op, _jit_compiled_convolution_op, _jit_compiled_convolution_op while saving (showing 3 of 3). These functions will not be directly callable after loading.\n"
          ]
        },
        {
          "name": "stdout",
          "output_type": "stream",
          "text": [
            "INFO:tensorflow:Assets written to: Corn_DIY_model1_Based_Augmented\\assets\n"
          ]
        },
        {
          "name": "stderr",
          "output_type": "stream",
          "text": [
            "INFO:tensorflow:Assets written to: Corn_DIY_model1_Based_Augmented\\assets\n"
          ]
        },
        {
          "name": "stdout",
          "output_type": "stream",
          "text": [
            "384/384 [==============================] - 68s 176ms/step - loss: 0.1877 - accuracy: 0.9280 - val_loss: 0.1155 - val_accuracy: 0.9553 - lr: 0.0010\n",
            "Epoch 21/100\n",
            "384/384 [==============================] - ETA: 0s - loss: 0.1904 - accuracy: 0.9272\n",
            "Epoch 21: val_accuracy did not improve from 0.95526\n",
            "384/384 [==============================] - 65s 170ms/step - loss: 0.1904 - accuracy: 0.9272 - val_loss: 0.1720 - val_accuracy: 0.9332 - lr: 0.0010\n",
            "Epoch 22/100\n",
            "384/384 [==============================] - ETA: 0s - loss: 0.1813 - accuracy: 0.9298\n",
            "Epoch 22: val_accuracy improved from 0.95526 to 0.95687, saving model to Corn_DIY_model1_Based_Augmented\n"
          ]
        },
        {
          "name": "stderr",
          "output_type": "stream",
          "text": [
            "WARNING:absl:Found untraced functions such as _jit_compiled_convolution_op, _jit_compiled_convolution_op, _jit_compiled_convolution_op while saving (showing 3 of 3). These functions will not be directly callable after loading.\n"
          ]
        },
        {
          "name": "stdout",
          "output_type": "stream",
          "text": [
            "INFO:tensorflow:Assets written to: Corn_DIY_model1_Based_Augmented\\assets\n"
          ]
        },
        {
          "name": "stderr",
          "output_type": "stream",
          "text": [
            "INFO:tensorflow:Assets written to: Corn_DIY_model1_Based_Augmented\\assets\n"
          ]
        },
        {
          "name": "stdout",
          "output_type": "stream",
          "text": [
            "384/384 [==============================] - 68s 177ms/step - loss: 0.1813 - accuracy: 0.9298 - val_loss: 0.1177 - val_accuracy: 0.9569 - lr: 0.0010\n",
            "Epoch 23/100\n",
            "384/384 [==============================] - ETA: 0s - loss: 0.1773 - accuracy: 0.9365\n",
            "Epoch 23: val_accuracy did not improve from 0.95687\n",
            "384/384 [==============================] - 65s 169ms/step - loss: 0.1773 - accuracy: 0.9365 - val_loss: 0.1222 - val_accuracy: 0.9569 - lr: 0.0010\n",
            "Epoch 24/100\n",
            "384/384 [==============================] - ETA: 0s - loss: 0.1850 - accuracy: 0.9314\n",
            "Epoch 24: val_accuracy did not improve from 0.95687\n",
            "384/384 [==============================] - 62s 161ms/step - loss: 0.1850 - accuracy: 0.9314 - val_loss: 0.1470 - val_accuracy: 0.9456 - lr: 0.0010\n",
            "Epoch 25/100\n",
            "384/384 [==============================] - ETA: 0s - loss: 0.1633 - accuracy: 0.9395\n",
            "Epoch 25: val_accuracy improved from 0.95687 to 0.95957, saving model to Corn_DIY_model1_Based_Augmented\n"
          ]
        },
        {
          "name": "stderr",
          "output_type": "stream",
          "text": [
            "WARNING:absl:Found untraced functions such as _jit_compiled_convolution_op, _jit_compiled_convolution_op, _jit_compiled_convolution_op while saving (showing 3 of 3). These functions will not be directly callable after loading.\n"
          ]
        },
        {
          "name": "stdout",
          "output_type": "stream",
          "text": [
            "INFO:tensorflow:Assets written to: Corn_DIY_model1_Based_Augmented\\assets\n"
          ]
        },
        {
          "name": "stderr",
          "output_type": "stream",
          "text": [
            "INFO:tensorflow:Assets written to: Corn_DIY_model1_Based_Augmented\\assets\n"
          ]
        },
        {
          "name": "stdout",
          "output_type": "stream",
          "text": [
            "384/384 [==============================] - 98s 256ms/step - loss: 0.1633 - accuracy: 0.9395 - val_loss: 0.1087 - val_accuracy: 0.9596 - lr: 0.0010\n",
            "Epoch 26/100\n",
            "384/384 [==============================] - ETA: 0s - loss: 0.1601 - accuracy: 0.9392\n",
            "Epoch 26: val_accuracy improved from 0.95957 to 0.96011, saving model to Corn_DIY_model1_Based_Augmented\n"
          ]
        },
        {
          "name": "stderr",
          "output_type": "stream",
          "text": [
            "WARNING:absl:Found untraced functions such as _jit_compiled_convolution_op, _jit_compiled_convolution_op, _jit_compiled_convolution_op while saving (showing 3 of 3). These functions will not be directly callable after loading.\n"
          ]
        },
        {
          "name": "stdout",
          "output_type": "stream",
          "text": [
            "INFO:tensorflow:Assets written to: Corn_DIY_model1_Based_Augmented\\assets\n"
          ]
        },
        {
          "name": "stderr",
          "output_type": "stream",
          "text": [
            "INFO:tensorflow:Assets written to: Corn_DIY_model1_Based_Augmented\\assets\n"
          ]
        },
        {
          "name": "stdout",
          "output_type": "stream",
          "text": [
            "384/384 [==============================] - 82s 213ms/step - loss: 0.1601 - accuracy: 0.9392 - val_loss: 0.1140 - val_accuracy: 0.9601 - lr: 0.0010\n",
            "Epoch 27/100\n",
            "384/384 [==============================] - ETA: 0s - loss: 0.1672 - accuracy: 0.9362\n",
            "Epoch 27: val_accuracy improved from 0.96011 to 0.96280, saving model to Corn_DIY_model1_Based_Augmented\n"
          ]
        },
        {
          "name": "stderr",
          "output_type": "stream",
          "text": [
            "WARNING:absl:Found untraced functions such as _jit_compiled_convolution_op, _jit_compiled_convolution_op, _jit_compiled_convolution_op while saving (showing 3 of 3). These functions will not be directly callable after loading.\n"
          ]
        },
        {
          "name": "stdout",
          "output_type": "stream",
          "text": [
            "INFO:tensorflow:Assets written to: Corn_DIY_model1_Based_Augmented\\assets\n"
          ]
        },
        {
          "name": "stderr",
          "output_type": "stream",
          "text": [
            "INFO:tensorflow:Assets written to: Corn_DIY_model1_Based_Augmented\\assets\n"
          ]
        },
        {
          "name": "stdout",
          "output_type": "stream",
          "text": [
            "384/384 [==============================] - 65s 170ms/step - loss: 0.1672 - accuracy: 0.9362 - val_loss: 0.1084 - val_accuracy: 0.9628 - lr: 0.0010\n",
            "Epoch 28/100\n",
            "384/384 [==============================] - ETA: 0s - loss: 0.1638 - accuracy: 0.9401\n",
            "Epoch 28: val_accuracy did not improve from 0.96280\n",
            "384/384 [==============================] - 70s 182ms/step - loss: 0.1638 - accuracy: 0.9401 - val_loss: 0.1535 - val_accuracy: 0.9482 - lr: 0.0010\n",
            "Epoch 29/100\n",
            "384/384 [==============================] - ETA: 0s - loss: 0.1682 - accuracy: 0.9346\n",
            "Epoch 29: val_accuracy did not improve from 0.96280\n",
            "384/384 [==============================] - 72s 188ms/step - loss: 0.1682 - accuracy: 0.9346 - val_loss: 0.1296 - val_accuracy: 0.9585 - lr: 0.0010\n",
            "Epoch 30/100\n",
            "384/384 [==============================] - ETA: 0s - loss: 0.1654 - accuracy: 0.9366\n",
            "Epoch 30: val_accuracy did not improve from 0.96280\n",
            "384/384 [==============================] - 72s 187ms/step - loss: 0.1654 - accuracy: 0.9366 - val_loss: 0.1191 - val_accuracy: 0.9574 - lr: 0.0010\n",
            "Epoch 31/100\n",
            "384/384 [==============================] - ETA: 0s - loss: 0.1604 - accuracy: 0.9409\n",
            "Epoch 31: val_accuracy did not improve from 0.96280\n",
            "384/384 [==============================] - 66s 171ms/step - loss: 0.1604 - accuracy: 0.9409 - val_loss: 0.0992 - val_accuracy: 0.9617 - lr: 0.0010\n",
            "Epoch 32/100\n",
            "384/384 [==============================] - ETA: 0s - loss: 0.1526 - accuracy: 0.9439\n",
            "Epoch 32: val_accuracy did not improve from 0.96280\n",
            "384/384 [==============================] - 63s 163ms/step - loss: 0.1526 - accuracy: 0.9439 - val_loss: 0.1143 - val_accuracy: 0.9623 - lr: 0.0010\n",
            "Epoch 33/100\n",
            "384/384 [==============================] - ETA: 0s - loss: 0.1500 - accuracy: 0.9449\n",
            "Epoch 33: val_accuracy did not improve from 0.96280\n",
            "384/384 [==============================] - 61s 160ms/step - loss: 0.1500 - accuracy: 0.9449 - val_loss: 0.1084 - val_accuracy: 0.9612 - lr: 0.0010\n",
            "Epoch 34/100\n",
            "384/384 [==============================] - ETA: 0s - loss: 0.1458 - accuracy: 0.9452\n",
            "Epoch 34: val_accuracy did not improve from 0.96280\n",
            "384/384 [==============================] - 60s 157ms/step - loss: 0.1458 - accuracy: 0.9452 - val_loss: 0.1282 - val_accuracy: 0.9526 - lr: 0.0010\n",
            "Epoch 35/100\n",
            "384/384 [==============================] - ETA: 0s - loss: 0.1586 - accuracy: 0.9412\n",
            "Epoch 35: val_accuracy improved from 0.96280 to 0.96442, saving model to Corn_DIY_model1_Based_Augmented\n"
          ]
        },
        {
          "name": "stderr",
          "output_type": "stream",
          "text": [
            "WARNING:absl:Found untraced functions such as _jit_compiled_convolution_op, _jit_compiled_convolution_op, _jit_compiled_convolution_op while saving (showing 3 of 3). These functions will not be directly callable after loading.\n"
          ]
        },
        {
          "name": "stdout",
          "output_type": "stream",
          "text": [
            "INFO:tensorflow:Assets written to: Corn_DIY_model1_Based_Augmented\\assets\n"
          ]
        },
        {
          "name": "stderr",
          "output_type": "stream",
          "text": [
            "INFO:tensorflow:Assets written to: Corn_DIY_model1_Based_Augmented\\assets\n"
          ]
        },
        {
          "name": "stdout",
          "output_type": "stream",
          "text": [
            "384/384 [==============================] - 68s 178ms/step - loss: 0.1586 - accuracy: 0.9412 - val_loss: 0.1077 - val_accuracy: 0.9644 - lr: 0.0010\n",
            "Epoch 36/100\n",
            "384/384 [==============================] - ETA: 0s - loss: 0.1525 - accuracy: 0.9457\n",
            "Epoch 36: val_accuracy did not improve from 0.96442\n",
            "\n",
            "Epoch 36: ReduceLROnPlateau reducing learning rate to 0.00010000000474974513.\n",
            "384/384 [==============================] - 70s 182ms/step - loss: 0.1525 - accuracy: 0.9457 - val_loss: 0.1113 - val_accuracy: 0.9585 - lr: 0.0010\n",
            "Epoch 37/100\n",
            "384/384 [==============================] - ETA: 0s - loss: 0.1151 - accuracy: 0.9554\n",
            "Epoch 37: val_accuracy improved from 0.96442 to 0.96873, saving model to Corn_DIY_model1_Based_Augmented\n"
          ]
        },
        {
          "name": "stderr",
          "output_type": "stream",
          "text": [
            "WARNING:absl:Found untraced functions such as _jit_compiled_convolution_op, _jit_compiled_convolution_op, _jit_compiled_convolution_op while saving (showing 3 of 3). These functions will not be directly callable after loading.\n"
          ]
        },
        {
          "name": "stdout",
          "output_type": "stream",
          "text": [
            "INFO:tensorflow:Assets written to: Corn_DIY_model1_Based_Augmented\\assets\n"
          ]
        },
        {
          "name": "stderr",
          "output_type": "stream",
          "text": [
            "INFO:tensorflow:Assets written to: Corn_DIY_model1_Based_Augmented\\assets\n"
          ]
        },
        {
          "name": "stdout",
          "output_type": "stream",
          "text": [
            "384/384 [==============================] - 67s 174ms/step - loss: 0.1151 - accuracy: 0.9554 - val_loss: 0.0797 - val_accuracy: 0.9687 - lr: 1.0000e-04\n",
            "Epoch 38/100\n",
            "384/384 [==============================] - ETA: 0s - loss: 0.1009 - accuracy: 0.9606\n",
            "Epoch 38: val_accuracy improved from 0.96873 to 0.96927, saving model to Corn_DIY_model1_Based_Augmented\n"
          ]
        },
        {
          "name": "stderr",
          "output_type": "stream",
          "text": [
            "WARNING:absl:Found untraced functions such as _jit_compiled_convolution_op, _jit_compiled_convolution_op, _jit_compiled_convolution_op while saving (showing 3 of 3). These functions will not be directly callable after loading.\n"
          ]
        },
        {
          "name": "stdout",
          "output_type": "stream",
          "text": [
            "INFO:tensorflow:Assets written to: Corn_DIY_model1_Based_Augmented\\assets\n"
          ]
        },
        {
          "name": "stderr",
          "output_type": "stream",
          "text": [
            "INFO:tensorflow:Assets written to: Corn_DIY_model1_Based_Augmented\\assets\n"
          ]
        },
        {
          "name": "stdout",
          "output_type": "stream",
          "text": [
            "384/384 [==============================] - 74s 191ms/step - loss: 0.1009 - accuracy: 0.9606 - val_loss: 0.0808 - val_accuracy: 0.9693 - lr: 1.0000e-04\n",
            "Epoch 39/100\n",
            "384/384 [==============================] - ETA: 0s - loss: 0.1035 - accuracy: 0.9615\n",
            "Epoch 39: val_accuracy did not improve from 0.96927\n",
            "384/384 [==============================] - 62s 160ms/step - loss: 0.1035 - accuracy: 0.9615 - val_loss: 0.0711 - val_accuracy: 0.9693 - lr: 1.0000e-04\n",
            "Epoch 40/100\n",
            "384/384 [==============================] - ETA: 0s - loss: 0.1023 - accuracy: 0.9572\n",
            "Epoch 40: val_accuracy improved from 0.96927 to 0.97466, saving model to Corn_DIY_model1_Based_Augmented\n"
          ]
        },
        {
          "name": "stderr",
          "output_type": "stream",
          "text": [
            "WARNING:absl:Found untraced functions such as _jit_compiled_convolution_op, _jit_compiled_convolution_op, _jit_compiled_convolution_op while saving (showing 3 of 3). These functions will not be directly callable after loading.\n"
          ]
        },
        {
          "name": "stdout",
          "output_type": "stream",
          "text": [
            "INFO:tensorflow:Assets written to: Corn_DIY_model1_Based_Augmented\\assets\n"
          ]
        },
        {
          "name": "stderr",
          "output_type": "stream",
          "text": [
            "INFO:tensorflow:Assets written to: Corn_DIY_model1_Based_Augmented\\assets\n"
          ]
        },
        {
          "name": "stdout",
          "output_type": "stream",
          "text": [
            "384/384 [==============================] - 73s 189ms/step - loss: 0.1023 - accuracy: 0.9572 - val_loss: 0.0661 - val_accuracy: 0.9747 - lr: 1.0000e-04\n",
            "Epoch 41/100\n",
            "384/384 [==============================] - ETA: 0s - loss: 0.0989 - accuracy: 0.9607\n",
            "Epoch 41: val_accuracy did not improve from 0.97466\n",
            "384/384 [==============================] - 64s 165ms/step - loss: 0.0989 - accuracy: 0.9607 - val_loss: 0.0672 - val_accuracy: 0.9747 - lr: 1.0000e-04\n",
            "Epoch 42/100\n",
            "384/384 [==============================] - ETA: 0s - loss: 0.0961 - accuracy: 0.9602\n",
            "Epoch 42: val_accuracy improved from 0.97466 to 0.97574, saving model to Corn_DIY_model1_Based_Augmented\n"
          ]
        },
        {
          "name": "stderr",
          "output_type": "stream",
          "text": [
            "WARNING:absl:Found untraced functions such as _jit_compiled_convolution_op, _jit_compiled_convolution_op, _jit_compiled_convolution_op while saving (showing 3 of 3). These functions will not be directly callable after loading.\n"
          ]
        },
        {
          "name": "stdout",
          "output_type": "stream",
          "text": [
            "INFO:tensorflow:Assets written to: Corn_DIY_model1_Based_Augmented\\assets\n"
          ]
        },
        {
          "name": "stderr",
          "output_type": "stream",
          "text": [
            "INFO:tensorflow:Assets written to: Corn_DIY_model1_Based_Augmented\\assets\n"
          ]
        },
        {
          "name": "stdout",
          "output_type": "stream",
          "text": [
            "384/384 [==============================] - 74s 193ms/step - loss: 0.0961 - accuracy: 0.9602 - val_loss: 0.0703 - val_accuracy: 0.9757 - lr: 1.0000e-04\n",
            "Epoch 43/100\n",
            "384/384 [==============================] - ETA: 0s - loss: 0.0934 - accuracy: 0.9650\n",
            "Epoch 43: val_accuracy did not improve from 0.97574\n",
            "384/384 [==============================] - 65s 169ms/step - loss: 0.0934 - accuracy: 0.9650 - val_loss: 0.0704 - val_accuracy: 0.9752 - lr: 1.0000e-04\n",
            "Epoch 44/100\n",
            "384/384 [==============================] - ETA: 0s - loss: 0.0949 - accuracy: 0.9636\n",
            "Epoch 44: val_accuracy did not improve from 0.97574\n",
            "384/384 [==============================] - 66s 172ms/step - loss: 0.0949 - accuracy: 0.9636 - val_loss: 0.0676 - val_accuracy: 0.9752 - lr: 1.0000e-04\n",
            "Epoch 45/100\n",
            "384/384 [==============================] - ETA: 0s - loss: 0.0967 - accuracy: 0.9635\n",
            "Epoch 45: val_accuracy did not improve from 0.97574\n",
            "384/384 [==============================] - 65s 169ms/step - loss: 0.0967 - accuracy: 0.9635 - val_loss: 0.0646 - val_accuracy: 0.9747 - lr: 1.0000e-04\n",
            "Epoch 46/100\n",
            "384/384 [==============================] - ETA: 0s - loss: 0.0923 - accuracy: 0.9648\n",
            "Epoch 46: val_accuracy did not improve from 0.97574\n",
            "384/384 [==============================] - 71s 186ms/step - loss: 0.0923 - accuracy: 0.9648 - val_loss: 0.0633 - val_accuracy: 0.9757 - lr: 1.0000e-04\n",
            "Epoch 47/100\n",
            "384/384 [==============================] - ETA: 0s - loss: 0.0941 - accuracy: 0.9640\n",
            "Epoch 47: val_accuracy did not improve from 0.97574\n",
            "384/384 [==============================] - 73s 190ms/step - loss: 0.0941 - accuracy: 0.9640 - val_loss: 0.0722 - val_accuracy: 0.9720 - lr: 1.0000e-04\n",
            "Epoch 48/100\n",
            "384/384 [==============================] - ETA: 0s - loss: 0.0915 - accuracy: 0.9632\n",
            "Epoch 48: val_accuracy did not improve from 0.97574\n",
            "384/384 [==============================] - 66s 173ms/step - loss: 0.0915 - accuracy: 0.9632 - val_loss: 0.0687 - val_accuracy: 0.9752 - lr: 1.0000e-04\n",
            "Epoch 49/100\n",
            "384/384 [==============================] - ETA: 0s - loss: 0.0902 - accuracy: 0.9656\n",
            "Epoch 49: val_accuracy did not improve from 0.97574\n",
            "384/384 [==============================] - 65s 169ms/step - loss: 0.0902 - accuracy: 0.9656 - val_loss: 0.0710 - val_accuracy: 0.9720 - lr: 1.0000e-04\n",
            "Epoch 50/100\n",
            "384/384 [==============================] - ETA: 0s - loss: 0.0898 - accuracy: 0.9659\n",
            "Epoch 50: val_accuracy improved from 0.97574 to 0.97682, saving model to Corn_DIY_model1_Based_Augmented\n"
          ]
        },
        {
          "name": "stderr",
          "output_type": "stream",
          "text": [
            "WARNING:absl:Found untraced functions such as _jit_compiled_convolution_op, _jit_compiled_convolution_op, _jit_compiled_convolution_op while saving (showing 3 of 3). These functions will not be directly callable after loading.\n"
          ]
        },
        {
          "name": "stdout",
          "output_type": "stream",
          "text": [
            "INFO:tensorflow:Assets written to: Corn_DIY_model1_Based_Augmented\\assets\n"
          ]
        },
        {
          "name": "stderr",
          "output_type": "stream",
          "text": [
            "INFO:tensorflow:Assets written to: Corn_DIY_model1_Based_Augmented\\assets\n"
          ]
        },
        {
          "name": "stdout",
          "output_type": "stream",
          "text": [
            "384/384 [==============================] - 70s 183ms/step - loss: 0.0898 - accuracy: 0.9659 - val_loss: 0.0604 - val_accuracy: 0.9768 - lr: 1.0000e-04\n",
            "Epoch 51/100\n",
            "384/384 [==============================] - ETA: 0s - loss: 0.0877 - accuracy: 0.9657\n",
            "Epoch 51: val_accuracy improved from 0.97682 to 0.97951, saving model to Corn_DIY_model1_Based_Augmented\n"
          ]
        },
        {
          "name": "stderr",
          "output_type": "stream",
          "text": [
            "WARNING:absl:Found untraced functions such as _jit_compiled_convolution_op, _jit_compiled_convolution_op, _jit_compiled_convolution_op while saving (showing 3 of 3). These functions will not be directly callable after loading.\n"
          ]
        },
        {
          "name": "stdout",
          "output_type": "stream",
          "text": [
            "INFO:tensorflow:Assets written to: Corn_DIY_model1_Based_Augmented\\assets\n"
          ]
        },
        {
          "name": "stderr",
          "output_type": "stream",
          "text": [
            "INFO:tensorflow:Assets written to: Corn_DIY_model1_Based_Augmented\\assets\n"
          ]
        },
        {
          "name": "stdout",
          "output_type": "stream",
          "text": [
            "384/384 [==============================] - 77s 200ms/step - loss: 0.0877 - accuracy: 0.9657 - val_loss: 0.0569 - val_accuracy: 0.9795 - lr: 1.0000e-04\n",
            "Epoch 52/100\n",
            "384/384 [==============================] - ETA: 0s - loss: 0.0870 - accuracy: 0.9661\n",
            "Epoch 52: val_accuracy did not improve from 0.97951\n",
            "384/384 [==============================] - 71s 185ms/step - loss: 0.0870 - accuracy: 0.9661 - val_loss: 0.0601 - val_accuracy: 0.9763 - lr: 1.0000e-04\n",
            "Epoch 53/100\n",
            "384/384 [==============================] - ETA: 0s - loss: 0.0844 - accuracy: 0.9669\n",
            "Epoch 53: val_accuracy did not improve from 0.97951\n",
            "384/384 [==============================] - 68s 178ms/step - loss: 0.0844 - accuracy: 0.9669 - val_loss: 0.0605 - val_accuracy: 0.9752 - lr: 1.0000e-04\n",
            "Epoch 54/100\n",
            "384/384 [==============================] - ETA: 0s - loss: 0.0800 - accuracy: 0.9689\n",
            "Epoch 54: val_accuracy did not improve from 0.97951\n",
            "384/384 [==============================] - 67s 174ms/step - loss: 0.0800 - accuracy: 0.9689 - val_loss: 0.0625 - val_accuracy: 0.9774 - lr: 1.0000e-04\n",
            "Epoch 55/100\n",
            "384/384 [==============================] - ETA: 0s - loss: 0.0796 - accuracy: 0.9704\n",
            "Epoch 55: val_accuracy did not improve from 0.97951\n",
            "384/384 [==============================] - 68s 177ms/step - loss: 0.0796 - accuracy: 0.9704 - val_loss: 0.0583 - val_accuracy: 0.9779 - lr: 1.0000e-04\n",
            "Epoch 56/100\n",
            "384/384 [==============================] - ETA: 0s - loss: 0.0861 - accuracy: 0.9678\n",
            "Epoch 56: val_accuracy did not improve from 0.97951\n",
            "\n",
            "Epoch 56: ReduceLROnPlateau reducing learning rate to 1.0000000474974514e-05.\n",
            "384/384 [==============================] - 66s 172ms/step - loss: 0.0861 - accuracy: 0.9678 - val_loss: 0.0652 - val_accuracy: 0.9752 - lr: 1.0000e-04\n",
            "Epoch 57/100\n",
            "384/384 [==============================] - ETA: 0s - loss: 0.0807 - accuracy: 0.9705\n",
            "Epoch 57: val_accuracy did not improve from 0.97951\n",
            "384/384 [==============================] - 65s 168ms/step - loss: 0.0807 - accuracy: 0.9705 - val_loss: 0.0594 - val_accuracy: 0.9741 - lr: 1.0000e-05\n",
            "Epoch 58/100\n",
            "384/384 [==============================] - ETA: 0s - loss: 0.0752 - accuracy: 0.9704\n",
            "Epoch 58: val_accuracy did not improve from 0.97951\n",
            "384/384 [==============================] - 64s 167ms/step - loss: 0.0752 - accuracy: 0.9704 - val_loss: 0.0611 - val_accuracy: 0.9763 - lr: 1.0000e-05\n",
            "Epoch 59/100\n",
            "384/384 [==============================] - ETA: 0s - loss: 0.0777 - accuracy: 0.9686\n",
            "Epoch 59: val_accuracy did not improve from 0.97951\n",
            "384/384 [==============================] - 65s 169ms/step - loss: 0.0777 - accuracy: 0.9686 - val_loss: 0.0592 - val_accuracy: 0.9768 - lr: 1.0000e-05\n",
            "Epoch 60/100\n",
            "384/384 [==============================] - ETA: 0s - loss: 0.0747 - accuracy: 0.9706\n",
            "Epoch 60: val_accuracy did not improve from 0.97951\n",
            "384/384 [==============================] - 65s 169ms/step - loss: 0.0747 - accuracy: 0.9706 - val_loss: 0.0570 - val_accuracy: 0.9790 - lr: 1.0000e-05\n",
            "Epoch 61/100\n",
            "384/384 [==============================] - ETA: 0s - loss: 0.0777 - accuracy: 0.9683\n",
            "Epoch 61: val_accuracy improved from 0.97951 to 0.98005, saving model to Corn_DIY_model1_Based_Augmented\n"
          ]
        },
        {
          "name": "stderr",
          "output_type": "stream",
          "text": [
            "WARNING:absl:Found untraced functions such as _jit_compiled_convolution_op, _jit_compiled_convolution_op, _jit_compiled_convolution_op while saving (showing 3 of 3). These functions will not be directly callable after loading.\n"
          ]
        },
        {
          "name": "stdout",
          "output_type": "stream",
          "text": [
            "INFO:tensorflow:Assets written to: Corn_DIY_model1_Based_Augmented\\assets\n"
          ]
        },
        {
          "name": "stderr",
          "output_type": "stream",
          "text": [
            "INFO:tensorflow:Assets written to: Corn_DIY_model1_Based_Augmented\\assets\n"
          ]
        },
        {
          "name": "stdout",
          "output_type": "stream",
          "text": [
            "\n",
            "Epoch 61: ReduceLROnPlateau reducing learning rate to 1.0000000656873453e-06.\n",
            "384/384 [==============================] - 70s 183ms/step - loss: 0.0777 - accuracy: 0.9683 - val_loss: 0.0571 - val_accuracy: 0.9801 - lr: 1.0000e-05\n",
            "Epoch 62/100\n",
            "384/384 [==============================] - ETA: 0s - loss: 0.0768 - accuracy: 0.9686\n",
            "Epoch 62: val_accuracy did not improve from 0.98005\n",
            "384/384 [==============================] - 63s 164ms/step - loss: 0.0768 - accuracy: 0.9686 - val_loss: 0.0569 - val_accuracy: 0.9801 - lr: 1.0000e-06\n",
            "Epoch 63/100\n",
            "384/384 [==============================] - ETA: 0s - loss: 0.0744 - accuracy: 0.9721\n",
            "Epoch 63: val_accuracy did not improve from 0.98005\n",
            "384/384 [==============================] - 63s 165ms/step - loss: 0.0744 - accuracy: 0.9721 - val_loss: 0.0567 - val_accuracy: 0.9795 - lr: 1.0000e-06\n",
            "Epoch 64/100\n",
            "384/384 [==============================] - ETA: 0s - loss: 0.0751 - accuracy: 0.9708\n",
            "Epoch 64: val_accuracy did not improve from 0.98005\n",
            "384/384 [==============================] - 63s 164ms/step - loss: 0.0751 - accuracy: 0.9708 - val_loss: 0.0566 - val_accuracy: 0.9790 - lr: 1.0000e-06\n",
            "Epoch 65/100\n",
            "384/384 [==============================] - ETA: 0s - loss: 0.0751 - accuracy: 0.9727\n",
            "Epoch 65: val_accuracy did not improve from 0.98005\n",
            "384/384 [==============================] - 66s 171ms/step - loss: 0.0751 - accuracy: 0.9727 - val_loss: 0.0566 - val_accuracy: 0.9795 - lr: 1.0000e-06\n",
            "Epoch 66/100\n",
            "384/384 [==============================] - ETA: 0s - loss: 0.0734 - accuracy: 0.9717\n",
            "Epoch 66: val_accuracy did not improve from 0.98005\n",
            "384/384 [==============================] - 63s 163ms/step - loss: 0.0734 - accuracy: 0.9717 - val_loss: 0.0566 - val_accuracy: 0.9795 - lr: 1.0000e-06\n",
            "Epoch 67/100\n",
            "384/384 [==============================] - ETA: 0s - loss: 0.0802 - accuracy: 0.9689\n",
            "Epoch 67: val_accuracy did not improve from 0.98005\n",
            "384/384 [==============================] - 63s 164ms/step - loss: 0.0802 - accuracy: 0.9689 - val_loss: 0.0567 - val_accuracy: 0.9795 - lr: 1.0000e-06\n",
            "Epoch 68/100\n",
            "384/384 [==============================] - ETA: 0s - loss: 0.0752 - accuracy: 0.9721\n",
            "Epoch 68: val_accuracy did not improve from 0.98005\n",
            "384/384 [==============================] - 62s 162ms/step - loss: 0.0752 - accuracy: 0.9721 - val_loss: 0.0567 - val_accuracy: 0.9795 - lr: 1.0000e-06\n",
            "Epoch 69/100\n",
            "384/384 [==============================] - ETA: 0s - loss: 0.0771 - accuracy: 0.9703\n",
            "Epoch 69: val_accuracy did not improve from 0.98005\n",
            "384/384 [==============================] - 63s 165ms/step - loss: 0.0771 - accuracy: 0.9703 - val_loss: 0.0564 - val_accuracy: 0.9795 - lr: 1.0000e-06\n",
            "Epoch 70/100\n",
            "384/384 [==============================] - ETA: 0s - loss: 0.0758 - accuracy: 0.9704\n",
            "Epoch 70: val_accuracy did not improve from 0.98005\n",
            "384/384 [==============================] - 62s 162ms/step - loss: 0.0758 - accuracy: 0.9704 - val_loss: 0.0563 - val_accuracy: 0.9795 - lr: 1.0000e-06\n",
            "Epoch 71/100\n",
            "384/384 [==============================] - ETA: 0s - loss: 0.0815 - accuracy: 0.9691\n",
            "Epoch 71: val_accuracy did not improve from 0.98005\n",
            "384/384 [==============================] - 63s 163ms/step - loss: 0.0815 - accuracy: 0.9691 - val_loss: 0.0565 - val_accuracy: 0.9784 - lr: 1.0000e-06\n",
            "Epoch 72/100\n",
            "384/384 [==============================] - ETA: 0s - loss: 0.0741 - accuracy: 0.9704\n",
            "Epoch 72: val_accuracy did not improve from 0.98005\n",
            "384/384 [==============================] - 62s 162ms/step - loss: 0.0741 - accuracy: 0.9704 - val_loss: 0.0562 - val_accuracy: 0.9795 - lr: 1.0000e-06\n",
            "Epoch 73/100\n",
            "383/384 [============================>.] - ETA: 0s - loss: 0.0783 - accuracy: 0.9698\n",
            "Epoch 73: val_accuracy did not improve from 0.98005\n",
            "384/384 [==============================] - 63s 164ms/step - loss: 0.0783 - accuracy: 0.9699 - val_loss: 0.0562 - val_accuracy: 0.9795 - lr: 1.0000e-06\n",
            "Epoch 74/100\n",
            "384/384 [==============================] - ETA: 0s - loss: 0.0722 - accuracy: 0.9729\n",
            "Epoch 74: val_accuracy did not improve from 0.98005\n",
            "384/384 [==============================] - 62s 162ms/step - loss: 0.0722 - accuracy: 0.9729 - val_loss: 0.0563 - val_accuracy: 0.9790 - lr: 1.0000e-06\n",
            "Epoch 75/100\n",
            "384/384 [==============================] - ETA: 0s - loss: 0.0767 - accuracy: 0.9691\n",
            "Epoch 75: val_accuracy did not improve from 0.98005\n",
            "\n",
            "Epoch 75: ReduceLROnPlateau reducing learning rate to 1.0000001111620805e-07.\n",
            "384/384 [==============================] - 63s 163ms/step - loss: 0.0767 - accuracy: 0.9691 - val_loss: 0.0563 - val_accuracy: 0.9790 - lr: 1.0000e-06\n",
            "Epoch 76/100\n",
            "384/384 [==============================] - ETA: 0s - loss: 0.0748 - accuracy: 0.9705\n",
            "Epoch 76: val_accuracy did not improve from 0.98005\n",
            "384/384 [==============================] - 62s 163ms/step - loss: 0.0748 - accuracy: 0.9705 - val_loss: 0.0563 - val_accuracy: 0.9790 - lr: 1.0000e-07\n",
            "Epoch 77/100\n",
            "384/384 [==============================] - ETA: 0s - loss: 0.0743 - accuracy: 0.9722\n",
            "Epoch 77: val_accuracy did not improve from 0.98005\n",
            "384/384 [==============================] - 63s 165ms/step - loss: 0.0743 - accuracy: 0.9722 - val_loss: 0.0563 - val_accuracy: 0.9790 - lr: 1.0000e-07\n",
            "Epoch 78/100\n",
            "384/384 [==============================] - ETA: 0s - loss: 0.0774 - accuracy: 0.9700\n",
            "Epoch 78: val_accuracy did not improve from 0.98005\n",
            "384/384 [==============================] - 63s 165ms/step - loss: 0.0774 - accuracy: 0.9700 - val_loss: 0.0563 - val_accuracy: 0.9790 - lr: 1.0000e-07\n",
            "Epoch 79/100\n",
            "384/384 [==============================] - ETA: 0s - loss: 0.0743 - accuracy: 0.9696\n",
            "Epoch 79: val_accuracy did not improve from 0.98005\n",
            "384/384 [==============================] - 63s 165ms/step - loss: 0.0743 - accuracy: 0.9696 - val_loss: 0.0563 - val_accuracy: 0.9790 - lr: 1.0000e-07\n",
            "Epoch 80/100\n",
            "384/384 [==============================] - ETA: 0s - loss: 0.0756 - accuracy: 0.9709\n",
            "Epoch 80: val_accuracy did not improve from 0.98005\n",
            "\n",
            "Epoch 80: ReduceLROnPlateau reducing learning rate to 1.000000082740371e-08.\n",
            "384/384 [==============================] - 64s 166ms/step - loss: 0.0756 - accuracy: 0.9709 - val_loss: 0.0563 - val_accuracy: 0.9790 - lr: 1.0000e-07\n",
            "Epoch 81/100\n",
            "384/384 [==============================] - ETA: 0s - loss: 0.0735 - accuracy: 0.9708\n",
            "Epoch 81: val_accuracy did not improve from 0.98005\n",
            "Restoring model weights from the end of the best epoch: 61.\n",
            "384/384 [==============================] - 63s 164ms/step - loss: 0.0735 - accuracy: 0.9708 - val_loss: 0.0563 - val_accuracy: 0.9790 - lr: 1.0000e-08\n",
            "Epoch 81: early stopping\n"
          ]
        }
      ],
      "source": [
        "# Define the number of epochs\n",
        "num_epochs = 100\n",
        "\n",
        "# Train the model\n",
        "history_DIY_model = DIY_model.fit(train_generator, epochs=num_epochs, validation_data=validation_generator, callbacks=callbacks)"
      ]
    },
    {
      "cell_type": "code",
      "execution_count": 12,
      "metadata": {
        "colab": {
          "base_uri": "https://localhost:8080/",
          "height": 904
        },
        "id": "lvS9xz3LU2TI",
        "outputId": "10ceb97f-0442-4a46-99df-01056a86f387",
        "tags": []
      },
      "outputs": [
        {
          "data": {
            "text/plain": [
              "<matplotlib.legend.Legend at 0x1ee6e800250>"
            ]
          },
          "execution_count": 12,
          "metadata": {},
          "output_type": "execute_result"
        },
        {
          "data": {
            "image/png": "[encoded data removed]",
            "text/plain": [
              "<Figure size 640x480 with 1 Axes>"
            ]
          },
          "metadata": {},
          "output_type": "display_data"
        },
        {
          "data": {
            "image/png": "[encoded data removed]",
            "text/plain": [
              "<Figure size 640x480 with 1 Axes>"
            ]
          },
          "metadata": {},
          "output_type": "display_data"
        }
      ],
      "source": [
        "#-----------------------------------------------------------\n",
        "# Retrieve a list of list results on training and test data\n",
        "# sets for each training epoch\n",
        "#-----------------------------------------------------------\n",
        "acc      = history_DIY_model.history['accuracy' ]\n",
        "val_acc  = history_DIY_model.history['val_accuracy' ]\n",
        "loss     = history_DIY_model.history['loss' ]\n",
        "val_loss = history_DIY_model.history['val_loss' ]\n",
        "\n",
        "epochs   = range(len(acc)) # Get number of epochs\n",
        "\n",
        "#------------------------------------------------\n",
        "# Plot training and validation accuracy per epoch\n",
        "#------------------------------------------------\n",
        "plt.plot  (epochs, acc )\n",
        "plt.plot  (epochs, val_acc )\n",
        "plt.title ('Training and validation accuracy DIY Model 1')\n",
        "plt.legend(['train', 'val'], loc='upper left')\n",
        "plt.figure()\n",
        "\n",
        "#------------------------------------------------\n",
        "# Plot training and validation loss per epoch\n",
        "#------------------------------------------------\n",
        "plt.plot  (epochs, loss)\n",
        "plt.plot  (epochs, val_loss)\n",
        "plt.title ('Training and validation loss DIY Model 1')\n",
        "plt.legend(['train', 'val'], loc='upper left')"
      ]
    },
    {
      "attachments": {},
      "cell_type": "markdown",
      "metadata": {
        "id": "SvQOR9IuU2TJ"
      },
      "source": [
        "## DIY Model 2"
      ]
    },
    {
      "cell_type": "code",
      "execution_count": 13,
      "metadata": {
        "id": "Tj7lcdvUU2TJ",
        "tags": []
      },
      "outputs": [],
      "source": [
        "# Difine the callbacks\n",
        "# Save the best model\n",
        "checkpoint_callback = ModelCheckpoint(filepath=\"Corn_DIY_model2_Based_Augmented\", save_best_only=True, monitor=\"val_accuracy\", mode=\"max\", verbose=1)\n",
        "\n",
        "# Early stopping\n",
        "early_stopping_callback = EarlyStopping(monitor=\"val_accuracy\", mode=\"max\", patience=20, verbose=1, restore_best_weights=True)\n",
        "\n",
        "# Reduce learning rate\n",
        "reduce_lr_callback = ReduceLROnPlateau(monitor=\"val_loss\", factor=0.1, patience=5, verbose=1, mode=\"min\", min_delta=0.0001, cooldown=0, min_lr=0)\n",
        "\n",
        "# Callbacks list\n",
        "callbacks=[checkpoint_callback, early_stopping_callback, reduce_lr_callback]"
      ]
    },
    {
      "cell_type": "code",
      "execution_count": 14,
      "metadata": {
        "colab": {
          "base_uri": "https://localhost:8080/"
        },
        "id": "7NKPY1xGU2TJ",
        "outputId": "65b8ccbd-464c-4147-939c-4ccefb535914",
        "tags": []
      },
      "outputs": [
        {
          "name": "stdout",
          "output_type": "stream",
          "text": [
            "Model: \"sequential_1\"\n",
            "_________________________________________________________________\n",
            " Layer (type)                Output Shape              Param #   \n",
            "=================================================================\n",
            " conv2d_3 (Conv2D)           (None, 222, 222, 32)      896       \n",
            "                                                                 \n",
            " max_pooling2d_3 (MaxPooling  (None, 111, 111, 32)     0         \n",
            " 2D)                                                             \n",
            "                                                                 \n",
            " conv2d_4 (Conv2D)           (None, 109, 109, 64)      18496     \n",
            "                                                                 \n",
            " max_pooling2d_4 (MaxPooling  (None, 54, 54, 64)       0         \n",
            " 2D)                                                             \n",
            "                                                                 \n",
            " conv2d_5 (Conv2D)           (None, 52, 52, 128)       73856     \n",
            "                                                                 \n",
            " max_pooling2d_5 (MaxPooling  (None, 26, 26, 128)      0         \n",
            " 2D)                                                             \n",
            "                                                                 \n",
            " flatten_1 (Flatten)         (None, 86528)             0         \n",
            "                                                                 \n",
            " dense_3 (Dense)             (None, 1024)              88605696  \n",
            "                                                                 \n",
            " dense_4 (Dense)             (None, 512)               524800    \n",
            "                                                                 \n",
            " dropout_1 (Dropout)         (None, 512)               0         \n",
            "                                                                 \n",
            " dense_5 (Dense)             (None, 256)               131328    \n",
            "                                                                 \n",
            " dense_6 (Dense)             (None, 4)                 1028      \n",
            "                                                                 \n",
            "=================================================================\n",
            "Total params: 89,356,100\n",
            "Trainable params: 89,356,100\n",
            "Non-trainable params: 0\n",
            "_________________________________________________________________\n"
          ]
        }
      ],
      "source": [
        "# Define DIY Model\n",
        "DIY_model_2 = tf.keras.models.Sequential([\n",
        "    # Convolutional Layers with 32 filters\n",
        "    tf.keras.layers.Conv2D(32, (3,3), activation='relu', input_shape=(224, 224, 3)),\n",
        "    # MaxPooling Layer\n",
        "    tf.keras.layers.MaxPooling2D(2,2),\n",
        "    # Convolutional Layers with 64 filters\n",
        "    tf.keras.layers.Conv2D(64, (3,3), activation='relu'),\n",
        "    # MaxPooling Layer\n",
        "    tf.keras.layers.MaxPooling2D(2,2),  \n",
        "    # Convolutional Layers with 128 filters\n",
        "    tf.keras.layers.Conv2D(128, (3,3), activation='relu'), \n",
        "    # MaxPooling Layer\n",
        "    tf.keras.layers.MaxPooling2D(2,2),  \n",
        "    # Flatten the results to feed into a DNN\n",
        "    tf.keras.layers.Flatten(),\n",
        "    # 1024 neuron hidden layer\n",
        "    tf.keras.layers.Dense(1024, activation='relu'),\n",
        "    # 512 neuron hidden layer\n",
        "    tf.keras.layers.Dense(512, activation='relu'),\n",
        "    # Drop Out Layer\n",
        "    tf.keras.layers.Dropout(0.2),\n",
        "    # 256 neuron hidden layer\n",
        "    tf.keras.layers.Dense(256, activation='relu'),\n",
        "    # Output\n",
        "    tf.keras.layers.Dense(4, activation='softmax') \n",
        "  ])\n",
        "\n",
        "\n",
        "# Compile Model\n",
        "DIY_model_2.compile(loss='categorical_crossentropy',optimizer=tf.keras.optimizers.Adam(), metrics=['accuracy']) \n",
        "\n",
        "# Model Summary\n",
        "DIY_model_2.summary()"
      ]
    },
    {
      "cell_type": "code",
      "execution_count": 15,
      "metadata": {
        "colab": {
          "base_uri": "https://localhost:8080/"
        },
        "id": "6beuexC9U2TJ",
        "outputId": "374e0e81-2c02-4df6-9cf7-31b31f142410",
        "tags": []
      },
      "outputs": [
        {
          "name": "stdout",
          "output_type": "stream",
          "text": [
            "Epoch 1/100\n",
            "384/384 [==============================] - ETA: 0s - loss: 0.5743 - accuracy: 0.7755\n",
            "Epoch 1: val_accuracy improved from -inf to 0.86900, saving model to Corn_DIY_model2_Based_Augmented\n"
          ]
        },
        {
          "name": "stderr",
          "output_type": "stream",
          "text": [
            "WARNING:absl:Found untraced functions such as _jit_compiled_convolution_op, _jit_compiled_convolution_op, _jit_compiled_convolution_op while saving (showing 3 of 3). These functions will not be directly callable after loading.\n"
          ]
        },
        {
          "name": "stdout",
          "output_type": "stream",
          "text": [
            "INFO:tensorflow:Assets written to: Corn_DIY_model2_Based_Augmented\\assets\n"
          ]
        },
        {
          "name": "stderr",
          "output_type": "stream",
          "text": [
            "INFO:tensorflow:Assets written to: Corn_DIY_model2_Based_Augmented\\assets\n"
          ]
        },
        {
          "name": "stdout",
          "output_type": "stream",
          "text": [
            "384/384 [==============================] - 67s 173ms/step - loss: 0.5743 - accuracy: 0.7755 - val_loss: 0.3189 - val_accuracy: 0.8690 - lr: 0.0010\n",
            "Epoch 2/100\n",
            "384/384 [==============================] - ETA: 0s - loss: 0.3582 - accuracy: 0.8680\n",
            "Epoch 2: val_accuracy did not improve from 0.86900\n",
            "384/384 [==============================] - 62s 160ms/step - loss: 0.3582 - accuracy: 0.8680 - val_loss: 0.4062 - val_accuracy: 0.8431 - lr: 0.0010\n",
            "Epoch 3/100\n",
            "384/384 [==============================] - ETA: 0s - loss: 0.3149 - accuracy: 0.8795\n",
            "Epoch 3: val_accuracy did not improve from 0.86900\n",
            "384/384 [==============================] - 62s 160ms/step - loss: 0.3149 - accuracy: 0.8795 - val_loss: 0.4345 - val_accuracy: 0.8458 - lr: 0.0010\n",
            "Epoch 4/100\n",
            "384/384 [==============================] - ETA: 0s - loss: 0.2976 - accuracy: 0.8823\n",
            "Epoch 4: val_accuracy improved from 0.86900 to 0.91968, saving model to Corn_DIY_model2_Based_Augmented\n"
          ]
        },
        {
          "name": "stderr",
          "output_type": "stream",
          "text": [
            "WARNING:absl:Found untraced functions such as _jit_compiled_convolution_op, _jit_compiled_convolution_op, _jit_compiled_convolution_op while saving (showing 3 of 3). These functions will not be directly callable after loading.\n"
          ]
        },
        {
          "name": "stdout",
          "output_type": "stream",
          "text": [
            "INFO:tensorflow:Assets written to: Corn_DIY_model2_Based_Augmented\\assets\n"
          ]
        },
        {
          "name": "stderr",
          "output_type": "stream",
          "text": [
            "INFO:tensorflow:Assets written to: Corn_DIY_model2_Based_Augmented\\assets\n"
          ]
        },
        {
          "name": "stdout",
          "output_type": "stream",
          "text": [
            "384/384 [==============================] - 68s 176ms/step - loss: 0.2976 - accuracy: 0.8823 - val_loss: 0.2352 - val_accuracy: 0.9197 - lr: 0.0010\n",
            "Epoch 5/100\n",
            "384/384 [==============================] - ETA: 0s - loss: 0.2950 - accuracy: 0.8882\n",
            "Epoch 5: val_accuracy improved from 0.91968 to 0.92884, saving model to Corn_DIY_model2_Based_Augmented\n"
          ]
        },
        {
          "name": "stderr",
          "output_type": "stream",
          "text": [
            "WARNING:absl:Found untraced functions such as _jit_compiled_convolution_op, _jit_compiled_convolution_op, _jit_compiled_convolution_op while saving (showing 3 of 3). These functions will not be directly callable after loading.\n"
          ]
        },
        {
          "name": "stdout",
          "output_type": "stream",
          "text": [
            "INFO:tensorflow:Assets written to: Corn_DIY_model2_Based_Augmented\\assets\n"
          ]
        },
        {
          "name": "stderr",
          "output_type": "stream",
          "text": [
            "INFO:tensorflow:Assets written to: Corn_DIY_model2_Based_Augmented\\assets\n"
          ]
        },
        {
          "name": "stdout",
          "output_type": "stream",
          "text": [
            "384/384 [==============================] - 66s 171ms/step - loss: 0.2950 - accuracy: 0.8882 - val_loss: 0.2042 - val_accuracy: 0.9288 - lr: 0.0010\n",
            "Epoch 6/100\n",
            "384/384 [==============================] - ETA: 0s - loss: 0.2539 - accuracy: 0.9028\n",
            "Epoch 6: val_accuracy did not improve from 0.92884\n",
            "384/384 [==============================] - 58s 150ms/step - loss: 0.2539 - accuracy: 0.9028 - val_loss: 0.1828 - val_accuracy: 0.9278 - lr: 0.0010\n",
            "Epoch 7/100\n",
            "384/384 [==============================] - ETA: 0s - loss: 0.2721 - accuracy: 0.8998\n",
            "Epoch 7: val_accuracy did not improve from 0.92884\n",
            "384/384 [==============================] - 58s 152ms/step - loss: 0.2721 - accuracy: 0.8998 - val_loss: 0.3217 - val_accuracy: 0.8668 - lr: 0.0010\n",
            "Epoch 8/100\n",
            "384/384 [==============================] - ETA: 0s - loss: 0.2556 - accuracy: 0.9041\n",
            "Epoch 8: val_accuracy improved from 0.92884 to 0.93585, saving model to Corn_DIY_model2_Based_Augmented\n"
          ]
        },
        {
          "name": "stderr",
          "output_type": "stream",
          "text": [
            "WARNING:absl:Found untraced functions such as _jit_compiled_convolution_op, _jit_compiled_convolution_op, _jit_compiled_convolution_op while saving (showing 3 of 3). These functions will not be directly callable after loading.\n"
          ]
        },
        {
          "name": "stdout",
          "output_type": "stream",
          "text": [
            "INFO:tensorflow:Assets written to: Corn_DIY_model2_Based_Augmented\\assets\n"
          ]
        },
        {
          "name": "stderr",
          "output_type": "stream",
          "text": [
            "INFO:tensorflow:Assets written to: Corn_DIY_model2_Based_Augmented\\assets\n"
          ]
        },
        {
          "name": "stdout",
          "output_type": "stream",
          "text": [
            "384/384 [==============================] - 67s 173ms/step - loss: 0.2556 - accuracy: 0.9041 - val_loss: 0.1971 - val_accuracy: 0.9358 - lr: 0.0010\n",
            "Epoch 9/100\n",
            "384/384 [==============================] - ETA: 0s - loss: 0.2438 - accuracy: 0.9091\n",
            "Epoch 9: val_accuracy improved from 0.93585 to 0.94609, saving model to Corn_DIY_model2_Based_Augmented\n"
          ]
        },
        {
          "name": "stderr",
          "output_type": "stream",
          "text": [
            "WARNING:absl:Found untraced functions such as _jit_compiled_convolution_op, _jit_compiled_convolution_op, _jit_compiled_convolution_op while saving (showing 3 of 3). These functions will not be directly callable after loading.\n"
          ]
        },
        {
          "name": "stdout",
          "output_type": "stream",
          "text": [
            "INFO:tensorflow:Assets written to: Corn_DIY_model2_Based_Augmented\\assets\n"
          ]
        },
        {
          "name": "stderr",
          "output_type": "stream",
          "text": [
            "INFO:tensorflow:Assets written to: Corn_DIY_model2_Based_Augmented\\assets\n"
          ]
        },
        {
          "name": "stdout",
          "output_type": "stream",
          "text": [
            "384/384 [==============================] - 67s 175ms/step - loss: 0.2438 - accuracy: 0.9091 - val_loss: 0.1531 - val_accuracy: 0.9461 - lr: 0.0010\n",
            "Epoch 10/100\n",
            "384/384 [==============================] - ETA: 0s - loss: 0.2359 - accuracy: 0.9101\n",
            "Epoch 10: val_accuracy did not improve from 0.94609\n",
            "384/384 [==============================] - 59s 153ms/step - loss: 0.2359 - accuracy: 0.9101 - val_loss: 0.2653 - val_accuracy: 0.9159 - lr: 0.0010\n",
            "Epoch 11/100\n",
            "384/384 [==============================] - ETA: 0s - loss: 0.2330 - accuracy: 0.9151\n",
            "Epoch 11: val_accuracy did not improve from 0.94609\n",
            "384/384 [==============================] - 59s 152ms/step - loss: 0.2330 - accuracy: 0.9151 - val_loss: 0.1749 - val_accuracy: 0.9272 - lr: 0.0010\n",
            "Epoch 12/100\n",
            "384/384 [==============================] - ETA: 0s - loss: 0.2621 - accuracy: 0.9027\n",
            "Epoch 12: val_accuracy did not improve from 0.94609\n",
            "384/384 [==============================] - 58s 151ms/step - loss: 0.2621 - accuracy: 0.9027 - val_loss: 0.2368 - val_accuracy: 0.8987 - lr: 0.0010\n",
            "Epoch 13/100\n",
            "384/384 [==============================] - ETA: 0s - loss: 0.2080 - accuracy: 0.9186\n",
            "Epoch 13: val_accuracy did not improve from 0.94609\n",
            "384/384 [==============================] - 59s 153ms/step - loss: 0.2080 - accuracy: 0.9186 - val_loss: 0.2194 - val_accuracy: 0.9057 - lr: 0.0010\n",
            "Epoch 14/100\n",
            "384/384 [==============================] - ETA: 0s - loss: 0.1984 - accuracy: 0.9263\n",
            "Epoch 14: val_accuracy improved from 0.94609 to 0.96011, saving model to Corn_DIY_model2_Based_Augmented\n"
          ]
        },
        {
          "name": "stderr",
          "output_type": "stream",
          "text": [
            "WARNING:absl:Found untraced functions such as _jit_compiled_convolution_op, _jit_compiled_convolution_op, _jit_compiled_convolution_op while saving (showing 3 of 3). These functions will not be directly callable after loading.\n"
          ]
        },
        {
          "name": "stdout",
          "output_type": "stream",
          "text": [
            "INFO:tensorflow:Assets written to: Corn_DIY_model2_Based_Augmented\\assets\n"
          ]
        },
        {
          "name": "stderr",
          "output_type": "stream",
          "text": [
            "INFO:tensorflow:Assets written to: Corn_DIY_model2_Based_Augmented\\assets\n"
          ]
        },
        {
          "name": "stdout",
          "output_type": "stream",
          "text": [
            "384/384 [==============================] - 67s 176ms/step - loss: 0.1984 - accuracy: 0.9263 - val_loss: 0.1261 - val_accuracy: 0.9601 - lr: 0.0010\n",
            "Epoch 15/100\n",
            "384/384 [==============================] - ETA: 0s - loss: 0.2071 - accuracy: 0.9241\n",
            "Epoch 15: val_accuracy did not improve from 0.96011\n",
            "384/384 [==============================] - 58s 150ms/step - loss: 0.2071 - accuracy: 0.9241 - val_loss: 0.1433 - val_accuracy: 0.9585 - lr: 0.0010\n",
            "Epoch 16/100\n",
            "384/384 [==============================] - ETA: 0s - loss: 0.1840 - accuracy: 0.9292\n",
            "Epoch 16: val_accuracy did not improve from 0.96011\n",
            "384/384 [==============================] - 58s 150ms/step - loss: 0.1840 - accuracy: 0.9292 - val_loss: 0.1756 - val_accuracy: 0.9375 - lr: 0.0010\n",
            "Epoch 17/100\n",
            "384/384 [==============================] - ETA: 0s - loss: 0.1864 - accuracy: 0.9268\n",
            "Epoch 17: val_accuracy did not improve from 0.96011\n",
            "384/384 [==============================] - 58s 151ms/step - loss: 0.1864 - accuracy: 0.9268 - val_loss: 0.1562 - val_accuracy: 0.9445 - lr: 0.0010\n",
            "Epoch 18/100\n",
            "384/384 [==============================] - ETA: 0s - loss: 0.1866 - accuracy: 0.9282\n",
            "Epoch 18: val_accuracy did not improve from 0.96011\n",
            "384/384 [==============================] - 58s 150ms/step - loss: 0.1866 - accuracy: 0.9282 - val_loss: 0.1631 - val_accuracy: 0.9429 - lr: 0.0010\n",
            "Epoch 19/100\n",
            "384/384 [==============================] - ETA: 0s - loss: 0.1839 - accuracy: 0.9307\n",
            "Epoch 19: val_accuracy did not improve from 0.96011\n",
            "\n",
            "Epoch 19: ReduceLROnPlateau reducing learning rate to 0.00010000000474974513.\n",
            "384/384 [==============================] - 58s 151ms/step - loss: 0.1839 - accuracy: 0.9307 - val_loss: 0.1332 - val_accuracy: 0.9477 - lr: 0.0010\n",
            "Epoch 20/100\n",
            "384/384 [==============================] - ETA: 0s - loss: 0.1428 - accuracy: 0.9438\n",
            "Epoch 20: val_accuracy improved from 0.96011 to 0.96550, saving model to Corn_DIY_model2_Based_Augmented\n"
          ]
        },
        {
          "name": "stderr",
          "output_type": "stream",
          "text": [
            "WARNING:absl:Found untraced functions such as _jit_compiled_convolution_op, _jit_compiled_convolution_op, _jit_compiled_convolution_op while saving (showing 3 of 3). These functions will not be directly callable after loading.\n"
          ]
        },
        {
          "name": "stdout",
          "output_type": "stream",
          "text": [
            "INFO:tensorflow:Assets written to: Corn_DIY_model2_Based_Augmented\\assets\n"
          ]
        },
        {
          "name": "stderr",
          "output_type": "stream",
          "text": [
            "INFO:tensorflow:Assets written to: Corn_DIY_model2_Based_Augmented\\assets\n"
          ]
        },
        {
          "name": "stdout",
          "output_type": "stream",
          "text": [
            "384/384 [==============================] - 66s 173ms/step - loss: 0.1428 - accuracy: 0.9438 - val_loss: 0.0972 - val_accuracy: 0.9655 - lr: 1.0000e-04\n",
            "Epoch 21/100\n",
            "384/384 [==============================] - ETA: 0s - loss: 0.1206 - accuracy: 0.9516\n",
            "Epoch 21: val_accuracy improved from 0.96550 to 0.96873, saving model to Corn_DIY_model2_Based_Augmented\n"
          ]
        },
        {
          "name": "stderr",
          "output_type": "stream",
          "text": [
            "WARNING:absl:Found untraced functions such as _jit_compiled_convolution_op, _jit_compiled_convolution_op, _jit_compiled_convolution_op while saving (showing 3 of 3). These functions will not be directly callable after loading.\n"
          ]
        },
        {
          "name": "stdout",
          "output_type": "stream",
          "text": [
            "INFO:tensorflow:Assets written to: Corn_DIY_model2_Based_Augmented\\assets\n"
          ]
        },
        {
          "name": "stderr",
          "output_type": "stream",
          "text": [
            "INFO:tensorflow:Assets written to: Corn_DIY_model2_Based_Augmented\\assets\n"
          ]
        },
        {
          "name": "stdout",
          "output_type": "stream",
          "text": [
            "384/384 [==============================] - 68s 176ms/step - loss: 0.1206 - accuracy: 0.9516 - val_loss: 0.0956 - val_accuracy: 0.9687 - lr: 1.0000e-04\n",
            "Epoch 22/100\n",
            "384/384 [==============================] - ETA: 0s - loss: 0.1204 - accuracy: 0.9529\n",
            "Epoch 22: val_accuracy did not improve from 0.96873\n",
            "384/384 [==============================] - 58s 152ms/step - loss: 0.1204 - accuracy: 0.9529 - val_loss: 0.0989 - val_accuracy: 0.9666 - lr: 1.0000e-04\n",
            "Epoch 23/100\n",
            "384/384 [==============================] - ETA: 0s - loss: 0.1172 - accuracy: 0.9543\n",
            "Epoch 23: val_accuracy did not improve from 0.96873\n",
            "384/384 [==============================] - 59s 153ms/step - loss: 0.1172 - accuracy: 0.9543 - val_loss: 0.1000 - val_accuracy: 0.9677 - lr: 1.0000e-04\n",
            "Epoch 24/100\n",
            "384/384 [==============================] - ETA: 0s - loss: 0.1111 - accuracy: 0.9575\n",
            "Epoch 24: val_accuracy improved from 0.96873 to 0.96927, saving model to Corn_DIY_model2_Based_Augmented\n"
          ]
        },
        {
          "name": "stderr",
          "output_type": "stream",
          "text": [
            "WARNING:absl:Found untraced functions such as _jit_compiled_convolution_op, _jit_compiled_convolution_op, _jit_compiled_convolution_op while saving (showing 3 of 3). These functions will not be directly callable after loading.\n"
          ]
        },
        {
          "name": "stdout",
          "output_type": "stream",
          "text": [
            "INFO:tensorflow:Assets written to: Corn_DIY_model2_Based_Augmented\\assets\n"
          ]
        },
        {
          "name": "stderr",
          "output_type": "stream",
          "text": [
            "INFO:tensorflow:Assets written to: Corn_DIY_model2_Based_Augmented\\assets\n"
          ]
        },
        {
          "name": "stdout",
          "output_type": "stream",
          "text": [
            "384/384 [==============================] - 67s 175ms/step - loss: 0.1111 - accuracy: 0.9575 - val_loss: 0.0957 - val_accuracy: 0.9693 - lr: 1.0000e-04\n",
            "Epoch 25/100\n",
            "384/384 [==============================] - ETA: 0s - loss: 0.1138 - accuracy: 0.9562\n",
            "Epoch 25: val_accuracy did not improve from 0.96927\n",
            "384/384 [==============================] - 60s 156ms/step - loss: 0.1138 - accuracy: 0.9562 - val_loss: 0.1058 - val_accuracy: 0.9666 - lr: 1.0000e-04\n",
            "Epoch 26/100\n",
            "384/384 [==============================] - ETA: 0s - loss: 0.1101 - accuracy: 0.9589\n",
            "Epoch 26: val_accuracy did not improve from 0.96927\n",
            "\n",
            "Epoch 26: ReduceLROnPlateau reducing learning rate to 1.0000000474974514e-05.\n",
            "384/384 [==============================] - 59s 154ms/step - loss: 0.1101 - accuracy: 0.9589 - val_loss: 0.1008 - val_accuracy: 0.9682 - lr: 1.0000e-04\n",
            "Epoch 27/100\n",
            "384/384 [==============================] - ETA: 0s - loss: 0.1088 - accuracy: 0.9576\n",
            "Epoch 27: val_accuracy improved from 0.96927 to 0.97251, saving model to Corn_DIY_model2_Based_Augmented\n"
          ]
        },
        {
          "name": "stderr",
          "output_type": "stream",
          "text": [
            "WARNING:absl:Found untraced functions such as _jit_compiled_convolution_op, _jit_compiled_convolution_op, _jit_compiled_convolution_op while saving (showing 3 of 3). These functions will not be directly callable after loading.\n"
          ]
        },
        {
          "name": "stdout",
          "output_type": "stream",
          "text": [
            "INFO:tensorflow:Assets written to: Corn_DIY_model2_Based_Augmented\\assets\n"
          ]
        },
        {
          "name": "stderr",
          "output_type": "stream",
          "text": [
            "INFO:tensorflow:Assets written to: Corn_DIY_model2_Based_Augmented\\assets\n"
          ]
        },
        {
          "name": "stdout",
          "output_type": "stream",
          "text": [
            "384/384 [==============================] - 69s 179ms/step - loss: 0.1088 - accuracy: 0.9576 - val_loss: 0.0899 - val_accuracy: 0.9725 - lr: 1.0000e-05\n",
            "Epoch 28/100\n",
            "384/384 [==============================] - ETA: 0s - loss: 0.1049 - accuracy: 0.9596\n",
            "Epoch 28: val_accuracy improved from 0.97251 to 0.97358, saving model to Corn_DIY_model2_Based_Augmented\n"
          ]
        },
        {
          "name": "stderr",
          "output_type": "stream",
          "text": [
            "WARNING:absl:Found untraced functions such as _jit_compiled_convolution_op, _jit_compiled_convolution_op, _jit_compiled_convolution_op while saving (showing 3 of 3). These functions will not be directly callable after loading.\n"
          ]
        },
        {
          "name": "stdout",
          "output_type": "stream",
          "text": [
            "INFO:tensorflow:Assets written to: Corn_DIY_model2_Based_Augmented\\assets\n"
          ]
        },
        {
          "name": "stderr",
          "output_type": "stream",
          "text": [
            "INFO:tensorflow:Assets written to: Corn_DIY_model2_Based_Augmented\\assets\n"
          ]
        },
        {
          "name": "stdout",
          "output_type": "stream",
          "text": [
            "384/384 [==============================] - 69s 179ms/step - loss: 0.1049 - accuracy: 0.9596 - val_loss: 0.0856 - val_accuracy: 0.9736 - lr: 1.0000e-05\n",
            "Epoch 29/100\n",
            "384/384 [==============================] - ETA: 0s - loss: 0.1033 - accuracy: 0.9589\n",
            "Epoch 29: val_accuracy did not improve from 0.97358\n",
            "384/384 [==============================] - 59s 153ms/step - loss: 0.1033 - accuracy: 0.9589 - val_loss: 0.0867 - val_accuracy: 0.9725 - lr: 1.0000e-05\n",
            "Epoch 30/100\n",
            "384/384 [==============================] - ETA: 0s - loss: 0.1039 - accuracy: 0.9606\n",
            "Epoch 30: val_accuracy did not improve from 0.97358\n",
            "384/384 [==============================] - 59s 154ms/step - loss: 0.1039 - accuracy: 0.9606 - val_loss: 0.0856 - val_accuracy: 0.9725 - lr: 1.0000e-05\n",
            "Epoch 31/100\n",
            "384/384 [==============================] - ETA: 0s - loss: 0.0944 - accuracy: 0.9609\n",
            "Epoch 31: val_accuracy improved from 0.97358 to 0.97412, saving model to Corn_DIY_model2_Based_Augmented\n"
          ]
        },
        {
          "name": "stderr",
          "output_type": "stream",
          "text": [
            "WARNING:absl:Found untraced functions such as _jit_compiled_convolution_op, _jit_compiled_convolution_op, _jit_compiled_convolution_op while saving (showing 3 of 3). These functions will not be directly callable after loading.\n"
          ]
        },
        {
          "name": "stdout",
          "output_type": "stream",
          "text": [
            "INFO:tensorflow:Assets written to: Corn_DIY_model2_Based_Augmented\\assets\n"
          ]
        },
        {
          "name": "stderr",
          "output_type": "stream",
          "text": [
            "INFO:tensorflow:Assets written to: Corn_DIY_model2_Based_Augmented\\assets\n"
          ]
        },
        {
          "name": "stdout",
          "output_type": "stream",
          "text": [
            "384/384 [==============================] - 68s 178ms/step - loss: 0.0944 - accuracy: 0.9609 - val_loss: 0.0857 - val_accuracy: 0.9741 - lr: 1.0000e-05\n",
            "Epoch 32/100\n",
            "384/384 [==============================] - ETA: 0s - loss: 0.1037 - accuracy: 0.9597\n",
            "Epoch 32: val_accuracy did not improve from 0.97412\n",
            "384/384 [==============================] - 59s 154ms/step - loss: 0.1037 - accuracy: 0.9597 - val_loss: 0.0859 - val_accuracy: 0.9730 - lr: 1.0000e-05\n",
            "Epoch 33/100\n",
            "384/384 [==============================] - ETA: 0s - loss: 0.1013 - accuracy: 0.9583\n",
            "Epoch 33: val_accuracy did not improve from 0.97412\n",
            "\n",
            "Epoch 33: ReduceLROnPlateau reducing learning rate to 1.0000000656873453e-06.\n",
            "384/384 [==============================] - 58s 152ms/step - loss: 0.1013 - accuracy: 0.9583 - val_loss: 0.0878 - val_accuracy: 0.9714 - lr: 1.0000e-05\n",
            "Epoch 34/100\n",
            "384/384 [==============================] - ETA: 0s - loss: 0.0933 - accuracy: 0.9616\n",
            "Epoch 34: val_accuracy did not improve from 0.97412\n",
            "384/384 [==============================] - 58s 150ms/step - loss: 0.0933 - accuracy: 0.9616 - val_loss: 0.0879 - val_accuracy: 0.9730 - lr: 1.0000e-06\n",
            "Epoch 35/100\n",
            "384/384 [==============================] - ETA: 0s - loss: 0.1040 - accuracy: 0.9606\n",
            "Epoch 35: val_accuracy did not improve from 0.97412\n",
            "384/384 [==============================] - 58s 151ms/step - loss: 0.1040 - accuracy: 0.9606 - val_loss: 0.0883 - val_accuracy: 0.9720 - lr: 1.0000e-06\n",
            "Epoch 36/100\n",
            "384/384 [==============================] - ETA: 0s - loss: 0.1006 - accuracy: 0.9598\n",
            "Epoch 36: val_accuracy did not improve from 0.97412\n",
            "384/384 [==============================] - 58s 150ms/step - loss: 0.1006 - accuracy: 0.9598 - val_loss: 0.0876 - val_accuracy: 0.9720 - lr: 1.0000e-06\n",
            "Epoch 37/100\n",
            "384/384 [==============================] - ETA: 0s - loss: 0.0937 - accuracy: 0.9637\n",
            "Epoch 37: val_accuracy did not improve from 0.97412\n",
            "384/384 [==============================] - 58s 151ms/step - loss: 0.0937 - accuracy: 0.9637 - val_loss: 0.0879 - val_accuracy: 0.9720 - lr: 1.0000e-06\n",
            "Epoch 38/100\n",
            "384/384 [==============================] - ETA: 0s - loss: 0.0978 - accuracy: 0.9616\n",
            "Epoch 38: val_accuracy did not improve from 0.97412\n",
            "\n",
            "Epoch 38: ReduceLROnPlateau reducing learning rate to 1.0000001111620805e-07.\n",
            "384/384 [==============================] - 58s 151ms/step - loss: 0.0978 - accuracy: 0.9616 - val_loss: 0.0879 - val_accuracy: 0.9725 - lr: 1.0000e-06\n",
            "Epoch 39/100\n",
            "384/384 [==============================] - ETA: 0s - loss: 0.1015 - accuracy: 0.9580\n",
            "Epoch 39: val_accuracy did not improve from 0.97412\n",
            "384/384 [==============================] - 58s 152ms/step - loss: 0.1015 - accuracy: 0.9580 - val_loss: 0.0879 - val_accuracy: 0.9725 - lr: 1.0000e-07\n",
            "Epoch 40/100\n",
            "384/384 [==============================] - ETA: 0s - loss: 0.1012 - accuracy: 0.9592\n",
            "Epoch 40: val_accuracy did not improve from 0.97412\n",
            "384/384 [==============================] - 58s 151ms/step - loss: 0.1012 - accuracy: 0.9592 - val_loss: 0.0879 - val_accuracy: 0.9725 - lr: 1.0000e-07\n",
            "Epoch 41/100\n",
            "384/384 [==============================] - ETA: 0s - loss: 0.0963 - accuracy: 0.9597\n",
            "Epoch 41: val_accuracy did not improve from 0.97412\n",
            "384/384 [==============================] - 58s 152ms/step - loss: 0.0963 - accuracy: 0.9597 - val_loss: 0.0878 - val_accuracy: 0.9725 - lr: 1.0000e-07\n",
            "Epoch 42/100\n",
            "384/384 [==============================] - ETA: 0s - loss: 0.0978 - accuracy: 0.9623\n",
            "Epoch 42: val_accuracy did not improve from 0.97412\n",
            "384/384 [==============================] - 58s 150ms/step - loss: 0.0978 - accuracy: 0.9623 - val_loss: 0.0878 - val_accuracy: 0.9725 - lr: 1.0000e-07\n",
            "Epoch 43/100\n",
            "384/384 [==============================] - ETA: 0s - loss: 0.0948 - accuracy: 0.9607\n",
            "Epoch 43: val_accuracy did not improve from 0.97412\n",
            "\n",
            "Epoch 43: ReduceLROnPlateau reducing learning rate to 1.000000082740371e-08.\n",
            "384/384 [==============================] - 59s 153ms/step - loss: 0.0948 - accuracy: 0.9607 - val_loss: 0.0878 - val_accuracy: 0.9725 - lr: 1.0000e-07\n",
            "Epoch 44/100\n",
            "384/384 [==============================] - ETA: 0s - loss: 0.0998 - accuracy: 0.9624\n",
            "Epoch 44: val_accuracy did not improve from 0.97412\n",
            "384/384 [==============================] - 58s 150ms/step - loss: 0.0998 - accuracy: 0.9624 - val_loss: 0.0878 - val_accuracy: 0.9725 - lr: 1.0000e-08\n",
            "Epoch 45/100\n",
            "384/384 [==============================] - ETA: 0s - loss: 0.0955 - accuracy: 0.9633\n",
            "Epoch 45: val_accuracy did not improve from 0.97412\n",
            "384/384 [==============================] - 58s 151ms/step - loss: 0.0955 - accuracy: 0.9633 - val_loss: 0.0878 - val_accuracy: 0.9725 - lr: 1.0000e-08\n",
            "Epoch 46/100\n",
            "384/384 [==============================] - ETA: 0s - loss: 0.1017 - accuracy: 0.9613\n",
            "Epoch 46: val_accuracy did not improve from 0.97412\n",
            "384/384 [==============================] - 59s 154ms/step - loss: 0.1017 - accuracy: 0.9613 - val_loss: 0.0878 - val_accuracy: 0.9725 - lr: 1.0000e-08\n",
            "Epoch 47/100\n",
            "384/384 [==============================] - ETA: 0s - loss: 0.0986 - accuracy: 0.9605\n",
            "Epoch 47: val_accuracy did not improve from 0.97412\n",
            "384/384 [==============================] - 59s 154ms/step - loss: 0.0986 - accuracy: 0.9605 - val_loss: 0.0878 - val_accuracy: 0.9725 - lr: 1.0000e-08\n",
            "Epoch 48/100\n",
            "384/384 [==============================] - ETA: 0s - loss: 0.1008 - accuracy: 0.9615\n",
            "Epoch 48: val_accuracy did not improve from 0.97412\n",
            "\n",
            "Epoch 48: ReduceLROnPlateau reducing learning rate to 1.000000082740371e-09.\n",
            "384/384 [==============================] - 58s 151ms/step - loss: 0.1008 - accuracy: 0.9615 - val_loss: 0.0878 - val_accuracy: 0.9725 - lr: 1.0000e-08\n",
            "Epoch 49/100\n",
            "384/384 [==============================] - ETA: 0s - loss: 0.0994 - accuracy: 0.9610\n",
            "Epoch 49: val_accuracy did not improve from 0.97412\n",
            "384/384 [==============================] - 59s 152ms/step - loss: 0.0994 - accuracy: 0.9610 - val_loss: 0.0878 - val_accuracy: 0.9725 - lr: 1.0000e-09\n",
            "Epoch 50/100\n",
            "384/384 [==============================] - ETA: 0s - loss: 0.0992 - accuracy: 0.9623\n",
            "Epoch 50: val_accuracy did not improve from 0.97412\n",
            "384/384 [==============================] - 58s 151ms/step - loss: 0.0992 - accuracy: 0.9623 - val_loss: 0.0878 - val_accuracy: 0.9725 - lr: 1.0000e-09\n",
            "Epoch 51/100\n",
            "384/384 [==============================] - ETA: 0s - loss: 0.0932 - accuracy: 0.9636\n",
            "Epoch 51: val_accuracy did not improve from 0.97412\n",
            "Restoring model weights from the end of the best epoch: 31.\n",
            "384/384 [==============================] - 58s 152ms/step - loss: 0.0932 - accuracy: 0.9636 - val_loss: 0.0878 - val_accuracy: 0.9725 - lr: 1.0000e-09\n",
            "Epoch 51: early stopping\n"
          ]
        }
      ],
      "source": [
        "# Define the number of epochs\n",
        "num_epochs = 100\n",
        "\n",
        "# Train the model\n",
        "history_DIY_model_2 = DIY_model_2.fit(train_generator, epochs=num_epochs, validation_data=validation_generator, callbacks=callbacks)"
      ]
    },
    {
      "cell_type": "code",
      "execution_count": 16,
      "metadata": {
        "colab": {
          "base_uri": "https://localhost:8080/",
          "height": 904
        },
        "id": "3f1nmwUhU2TK",
        "outputId": "51ef43e8-17d6-4c36-f0de-a1b749831dce",
        "tags": []
      },
      "outputs": [
        {
          "data": {
            "text/plain": [
              "<matplotlib.legend.Legend at 0x1ee72a1b7c0>"
            ]
          },
          "execution_count": 16,
          "metadata": {},
          "output_type": "execute_result"
        },
        {
          "data": {
            "image/png": "[encoded data removed]",
            "text/plain": [
              "<Figure size 640x480 with 1 Axes>"
            ]
          },
          "metadata": {},
          "output_type": "display_data"
        },
        {
          "data": {
            "image/png": "[encoded data removed]",
            "text/plain": [
              "<Figure size 640x480 with 1 Axes>"
            ]
          },
          "metadata": {},
          "output_type": "display_data"
        }
      ],
      "source": [
        "#-----------------------------------------------------------\n",
        "# Retrieve a list of list results on training and test data\n",
        "# sets for each training epoch\n",
        "#-----------------------------------------------------------\n",
        "acc      = history_DIY_model_2.history['accuracy' ]\n",
        "val_acc  = history_DIY_model_2.history['val_accuracy' ]\n",
        "loss     = history_DIY_model_2.history['loss' ]\n",
        "val_loss = history_DIY_model_2.history['val_loss' ]\n",
        "\n",
        "epochs   = range(len(acc)) # Get number of epochs\n",
        "\n",
        "#------------------------------------------------\n",
        "# Plot training and validation accuracy per epoch\n",
        "#------------------------------------------------\n",
        "plt.plot  (epochs, acc )\n",
        "plt.plot  (epochs, val_acc )\n",
        "plt.title ('Training and validation accuracy DIY Model 2')\n",
        "plt.legend(['train', 'val'], loc='upper left')\n",
        "plt.figure()\n",
        "\n",
        "#------------------------------------------------\n",
        "# Plot training and validation loss per epoch\n",
        "#------------------------------------------------\n",
        "plt.plot  (epochs, loss)\n",
        "plt.plot  (epochs, val_loss)\n",
        "plt.title ('Training and validation loss DIY Model 2')\n",
        "plt.legend(['train', 'val'], loc='upper left')"
      ]
    }
  ],
  "metadata": {
    "accelerator": "GPU",
    "colab": {
      "gpuType": "T4",
      "provenance": []
    },
    "gpuClass": "standard",
    "kernelspec": {
      "display_name": "Python 3 (ipykernel)",
      "language": "python",
      "name": "python3"
    },
    "language_info": {
      "codemirror_mode": {
        "name": "ipython",
        "version": 3
      },
      "file_extension": ".py",
      "mimetype": "text/x-python",
      "name": "python",
      "nbconvert_exporter": "python",
      "pygments_lexer": "ipython3",
      "version": "3.10.0"
    }
  },
  "nbformat": 4,
  "nbformat_minor": 0
}
