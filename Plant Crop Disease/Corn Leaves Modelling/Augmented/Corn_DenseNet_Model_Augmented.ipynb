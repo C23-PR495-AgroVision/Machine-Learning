{
  "cells": [
    {
      "attachments": {},
      "cell_type": "markdown",
      "metadata": {
        "id": "hO3kEcUPU2S3"
      },
      "source": [
        "# Library"
      ]
    },
    {
      "cell_type": "code",
      "execution_count": 1,
      "metadata": {
        "colab": {
          "base_uri": "https://localhost:8080/"
        },
        "id": "kczkUjsAU2S8",
        "outputId": "1196cf32-11d0-470e-ab59-e53eb9ba9b37",
        "tags": []
      },
      "outputs": [
        {
          "name": "stdout",
          "output_type": "stream",
          "text": [
            "Requirement already satisfied: matplotlib in c:\\users\\hasan\\anaconda3\\envs\\tensorflow_gpu_zein\\lib\\site-packages (3.6.3)\n",
            "Requirement already satisfied: pyparsing>=2.2.1 in c:\\users\\hasan\\anaconda3\\envs\\tensorflow_gpu_zein\\lib\\site-packages (from matplotlib) (3.0.9)\n",
            "Requirement already satisfied: contourpy>=1.0.1 in c:\\users\\hasan\\anaconda3\\envs\\tensorflow_gpu_zein\\lib\\site-packages (from matplotlib) (1.0.7)\n",
            "Requirement already satisfied: python-dateutil>=2.7 in c:\\users\\hasan\\anaconda3\\envs\\tensorflow_gpu_zein\\lib\\site-packages (from matplotlib) (2.8.2)\n",
            "Requirement already satisfied: numpy>=1.19 in c:\\users\\hasan\\anaconda3\\envs\\tensorflow_gpu_zein\\lib\\site-packages (from matplotlib) (1.23.5)\n",
            "Requirement already satisfied: kiwisolver>=1.0.1 in c:\\users\\hasan\\anaconda3\\envs\\tensorflow_gpu_zein\\lib\\site-packages (from matplotlib) (1.4.4)\n",
            "Requirement already satisfied: cycler>=0.10 in c:\\users\\hasan\\anaconda3\\envs\\tensorflow_gpu_zein\\lib\\site-packages (from matplotlib) (0.11.0)\n",
            "Requirement already satisfied: packaging>=20.0 in c:\\users\\hasan\\anaconda3\\envs\\tensorflow_gpu_zein\\lib\\site-packages (from matplotlib) (23.1)\n",
            "Requirement already satisfied: fonttools>=4.22.0 in c:\\users\\hasan\\anaconda3\\envs\\tensorflow_gpu_zein\\lib\\site-packages (from matplotlib) (4.39.2)\n",
            "Requirement already satisfied: pillow>=6.2.0 in c:\\users\\hasan\\anaconda3\\envs\\tensorflow_gpu_zein\\lib\\site-packages (from matplotlib) (9.4.0)\n",
            "Requirement already satisfied: six>=1.5 in c:\\users\\hasan\\anaconda3\\envs\\tensorflow_gpu_zein\\lib\\site-packages (from python-dateutil>=2.7->matplotlib) (1.16.0)\n",
            "Note: you may need to restart the kernel to use updated packages.\n"
          ]
        },
        {
          "name": "stderr",
          "output_type": "stream",
          "text": [
            "WARNING: Ignoring invalid distribution -rotobuf (c:\\users\\hasan\\anaconda3\\envs\\tensorflow_gpu_zein\\lib\\site-packages)\n",
            "WARNING: Ignoring invalid distribution -rotobuf (c:\\users\\hasan\\anaconda3\\envs\\tensorflow_gpu_zein\\lib\\site-packages)\n",
            "WARNING: Ignoring invalid distribution -rotobuf (c:\\users\\hasan\\anaconda3\\envs\\tensorflow_gpu_zein\\lib\\site-packages)\n",
            "WARNING: Ignoring invalid distribution -rotobuf (c:\\users\\hasan\\anaconda3\\envs\\tensorflow_gpu_zein\\lib\\site-packages)\n",
            "WARNING: Ignoring invalid distribution -rotobuf (c:\\users\\hasan\\anaconda3\\envs\\tensorflow_gpu_zein\\lib\\site-packages)\n",
            "WARNING: Ignoring invalid distribution -rotobuf (c:\\users\\hasan\\anaconda3\\envs\\tensorflow_gpu_zein\\lib\\site-packages)\n"
          ]
        }
      ],
      "source": [
        "pip install matplotlib"
      ]
    },
    {
      "cell_type": "code",
      "execution_count": 2,
      "metadata": {
        "colab": {
          "base_uri": "https://localhost:8080/"
        },
        "id": "oEW3Nbu7U2S_",
        "outputId": "60a4555a-78d2-43c6-d8ff-b5187eacab40",
        "tags": []
      },
      "outputs": [
        {
          "name": "stdout",
          "output_type": "stream",
          "text": [
            "Requirement already satisfied: opendatasets in c:\\users\\hasan\\anaconda3\\envs\\tensorflow_gpu_zein\\lib\\site-packages (0.1.22)\n",
            "Requirement already satisfied: kaggle in c:\\users\\hasan\\anaconda3\\envs\\tensorflow_gpu_zein\\lib\\site-packages (from opendatasets) (1.5.13)\n",
            "Requirement already satisfied: click in c:\\users\\hasan\\anaconda3\\envs\\tensorflow_gpu_zein\\lib\\site-packages (from opendatasets) (8.1.3)\n",
            "Requirement already satisfied: tqdm in c:\\users\\hasan\\anaconda3\\envs\\tensorflow_gpu_zein\\lib\\site-packages (from opendatasets) (4.64.1)\n",
            "Requirement already satisfied: colorama in c:\\users\\hasan\\anaconda3\\envs\\tensorflow_gpu_zein\\lib\\site-packages (from click->opendatasets) (0.4.6)\n",
            "Requirement already satisfied: certifi in c:\\users\\hasan\\anaconda3\\envs\\tensorflow_gpu_zein\\lib\\site-packages (from kaggle->opendatasets) (2022.12.7)\n",
            "Requirement already satisfied: python-slugify in c:\\users\\hasan\\anaconda3\\envs\\tensorflow_gpu_zein\\lib\\site-packages (from kaggle->opendatasets) (8.0.1)\n",
            "Requirement already satisfied: requests in c:\\users\\hasan\\anaconda3\\envs\\tensorflow_gpu_zein\\lib\\site-packages (from kaggle->opendatasets) (2.28.2)\n",
            "Requirement already satisfied: urllib3 in c:\\users\\hasan\\anaconda3\\envs\\tensorflow_gpu_zein\\lib\\site-packages (from kaggle->opendatasets) (1.26.15)\n",
            "Requirement already satisfied: python-dateutil in c:\\users\\hasan\\anaconda3\\envs\\tensorflow_gpu_zein\\lib\\site-packages (from kaggle->opendatasets) (2.8.2)\n",
            "Requirement already satisfied: six>=1.10 in c:\\users\\hasan\\anaconda3\\envs\\tensorflow_gpu_zein\\lib\\site-packages (from kaggle->opendatasets) (1.16.0)\n",
            "Requirement already satisfied: text-unidecode>=1.3 in c:\\users\\hasan\\anaconda3\\envs\\tensorflow_gpu_zein\\lib\\site-packages (from python-slugify->kaggle->opendatasets) (1.3)\n",
            "Requirement already satisfied: charset-normalizer<4,>=2 in c:\\users\\hasan\\anaconda3\\envs\\tensorflow_gpu_zein\\lib\\site-packages (from requests->kaggle->opendatasets) (3.1.0)\n",
            "Requirement already satisfied: idna<4,>=2.5 in c:\\users\\hasan\\anaconda3\\envs\\tensorflow_gpu_zein\\lib\\site-packages (from requests->kaggle->opendatasets) (3.4)\n",
            "Note: you may need to restart the kernel to use updated packages.\n"
          ]
        },
        {
          "name": "stderr",
          "output_type": "stream",
          "text": [
            "WARNING: Ignoring invalid distribution -rotobuf (c:\\users\\hasan\\anaconda3\\envs\\tensorflow_gpu_zein\\lib\\site-packages)\n",
            "WARNING: Ignoring invalid distribution -rotobuf (c:\\users\\hasan\\anaconda3\\envs\\tensorflow_gpu_zein\\lib\\site-packages)\n",
            "WARNING: Ignoring invalid distribution -rotobuf (c:\\users\\hasan\\anaconda3\\envs\\tensorflow_gpu_zein\\lib\\site-packages)\n",
            "WARNING: Ignoring invalid distribution -rotobuf (c:\\users\\hasan\\anaconda3\\envs\\tensorflow_gpu_zein\\lib\\site-packages)\n",
            "WARNING: Ignoring invalid distribution -rotobuf (c:\\users\\hasan\\anaconda3\\envs\\tensorflow_gpu_zein\\lib\\site-packages)\n",
            "WARNING: Ignoring invalid distribution -rotobuf (c:\\users\\hasan\\anaconda3\\envs\\tensorflow_gpu_zein\\lib\\site-packages)\n"
          ]
        }
      ],
      "source": [
        "pip install opendatasets"
      ]
    },
    {
      "cell_type": "code",
      "execution_count": 3,
      "metadata": {
        "id": "SIHHdOB4U2TA",
        "tags": []
      },
      "outputs": [],
      "source": [
        "# Library to dataset\n",
        "import opendatasets as od\n",
        "import os\n",
        "import zipfile\n",
        "import numpy as np\n",
        "\n",
        "# Surpress Warnings\n",
        "import warnings\n",
        "warnings.filterwarnings('ignore')\n",
        "os.environ['TF_CPP_MIN_LOG_LEVEL'] = '3' \n",
        "# library visualization\n",
        "import matplotlib.pyplot as plt\n",
        "\n",
        "# Library Tensorflow\n",
        "import tensorflow as tf\n",
        "from tensorflow import keras\n",
        "from tensorflow.keras.preprocessing.image import ImageDataGenerator\n",
        "from tensorflow.keras.callbacks import ModelCheckpoint, EarlyStopping, ReduceLROnPlateau\n",
        "from tensorflow.keras.applications.densenet import DenseNet121\n",
        "# Others\n",
        "import shutil\n",
        "import random"
      ]
    },
    {
      "attachments": {},
      "cell_type": "markdown",
      "metadata": {
        "id": "Dy8YkYoaU2TB"
      },
      "source": [
        "# Load dataset"
      ]
    },
    {
      "cell_type": "code",
      "execution_count": 4,
      "metadata": {
        "colab": {
          "base_uri": "https://localhost:8080/"
        },
        "id": "8ZAjREJ0U2TC",
        "outputId": "2fe0912f-82df-4708-b6c8-936d20fd5d4f",
        "tags": []
      },
      "outputs": [
        {
          "name": "stdout",
          "output_type": "stream",
          "text": [
            "==========================Training Data====================\n",
            "Found 7665 files belonging to 4 classes.\n",
            "==========================Validation Data====================\n",
            "Found 1855 files belonging to 4 classes.\n"
          ]
        }
      ],
      "source": [
        "# Load dataset\n",
        "print(\"==========================Training Data====================\")\n",
        "train_data = tf.keras.preprocessing.image_dataset_from_directory(\n",
        "    \"Dataset/Corn/train\",\n",
        "    label_mode=\"categorical\",\n",
        "    class_names=['Corn Gray leaf spot','Corn healthy','Corn leaf blight','Corn rust leaf'],\n",
        "    color_mode=\"rgb\",\n",
        "    batch_size=1,\n",
        "    image_size=(256, 256),\n",
        "    shuffle=True,\n",
        "    seed=123\n",
        ")\n",
        "print(\"==========================Validation Data====================\")\n",
        "val_data = tf.keras.preprocessing.image_dataset_from_directory(\n",
        "    \"Dataset/Corn/valid\",\n",
        "    label_mode=\"categorical\",\n",
        "    class_names=['Corn Gray leaf spot','Corn healthy','Corn leaf blight','Corn rust leaf'],\n",
        "    color_mode=\"rgb\",\n",
        "    batch_size=1,\n",
        "    image_size=(256, 256),\n",
        "    shuffle=True,\n",
        "    seed=123\n",
        ")"
      ]
    },
    {
      "cell_type": "code",
      "execution_count": 5,
      "metadata": {
        "colab": {
          "base_uri": "https://localhost:8080/"
        },
        "id": "vEPzd1egU2TD",
        "outputId": "d821e210-f516-4bf3-f164-5d711685de6b",
        "tags": []
      },
      "outputs": [
        {
          "name": "stdout",
          "output_type": "stream",
          "text": [
            "Found 7665 images belonging to 4 classes.\n",
            "Found 1855 images belonging to 4 classes.\n"
          ]
        }
      ],
      "source": [
        "# All images will be rescaled by 1./255.and augmented\n",
        "train_datagen = ImageDataGenerator(rescale = 1.0/256.,\n",
        "                                   rotation_range=40,\n",
        "                                   width_shift_range=0.2,\n",
        "                                   height_shift_range=0.2,\n",
        "                                   shear_range=0.2,\n",
        "                                   zoom_range=0.2,\n",
        "                                   horizontal_flip=True,\n",
        "                                   fill_mode='nearest')\n",
        "\n",
        "test_datagen  = ImageDataGenerator(rescale = 1.0/256.)\n",
        "\n",
        "# --------------------\n",
        "# Flow training images in batches of 20 using train_datagen generator\n",
        "# --------------------\n",
        "train_generator = train_datagen.flow_from_directory(\"Dataset/Corn/train\",\n",
        "                                                    batch_size=20,\n",
        "                                                    class_mode='categorical',\n",
        "                                                    target_size=(224, 224))     \n",
        "# --------------------\n",
        "# Flow validation images in batches of 20 using test_datagen generator\n",
        "# --------------------\n",
        "validation_generator =  test_datagen.flow_from_directory(\"Dataset/Corn/valid\",\n",
        "                                                         batch_size=20,\n",
        "                                                         class_mode  = 'categorical',\n",
        "                                                         target_size = (224, 224))"
      ]
    },
    {
      "attachments": {},
      "cell_type": "markdown",
      "metadata": {
        "id": "_3jaO5YgU2TE"
      },
      "source": [
        "# List Resource"
      ]
    },
    {
      "cell_type": "code",
      "execution_count": 6,
      "metadata": {
        "colab": {
          "base_uri": "https://localhost:8080/"
        },
        "id": "SGemCaxnU2TF",
        "outputId": "515a509f-aaf4-49c8-8977-8b2d5bba5887",
        "tags": []
      },
      "outputs": [
        {
          "name": "stdout",
          "output_type": "stream",
          "text": [
            "Tue May 30 10:18:50 2023       \n",
            "+---------------------------------------------------------------------------------------+\n",
            "| NVIDIA-SMI 532.03                 Driver Version: 532.03       CUDA Version: 12.1     |\n",
            "|-----------------------------------------+----------------------+----------------------+\n",
            "| GPU  Name                      TCC/WDDM | Bus-Id        Disp.A | Volatile Uncorr. ECC |\n",
            "| Fan  Temp  Perf            Pwr:Usage/Cap|         Memory-Usage | GPU-Util  Compute M. |\n",
            "|                                         |                      |               MIG M. |\n",
            "|=========================================+======================+======================|\n",
            "|   0  NVIDIA GeForce RTX 3060 L...  WDDM | 00000000:01:00.0  On |                  N/A |\n",
            "| N/A   55C    P0               39W /  N/A|   4628MiB /  6144MiB |      2%      Default |\n",
            "|                                         |                      |                  N/A |\n",
            "+-----------------------------------------+----------------------+----------------------+\n",
            "                                                                                         \n",
            "+---------------------------------------------------------------------------------------+\n",
            "| Processes:                                                                            |\n",
            "|  GPU   GI   CI        PID   Type   Process name                            GPU Memory |\n",
            "|        ID   ID                                                             Usage      |\n",
            "|=======================================================================================|\n",
            "|    0   N/A  N/A      1360    C+G   ...siveControlPanel\\SystemSettings.exe    N/A      |\n",
            "|    0   N/A  N/A      3380    C+G   ...oogle\\Chrome\\Application\\chrome.exe    N/A      |\n",
            "|    0   N/A  N/A      3612      C   ...envs\\tensorflow_gpu_zein\\python.exe    N/A      |\n",
            "|    0   N/A  N/A      4892    C+G   ...5n1h2txyewy\\ShellExperienceHost.exe    N/A      |\n",
            "|    0   N/A  N/A     10188    C+G   C:\\WINDOWS\\explorer.exe                   N/A      |\n",
            "|    0   N/A  N/A     11160    C+G   ...les\\Microsoft OneDrive\\OneDrive.exe    N/A      |\n",
            "|    0   N/A  N/A     11728    C+G   ...Programs\\Microsoft VS Code\\Code.exe    N/A      |\n",
            "|    0   N/A  N/A     12012    C+G   ...nt.CBS_cw5n1h2txyewy\\SearchHost.exe    N/A      |\n",
            "|    0   N/A  N/A     12072    C+G   ...2txyewy\\StartMenuExperienceHost.exe    N/A      |\n",
            "|    0   N/A  N/A     14976    C+G   ...t.LockApp_cw5n1h2txyewy\\LockApp.exe    N/A      |\n",
            "|    0   N/A  N/A     15552    C+G   ...ekyb3d8bbwe\\PhoneExperienceHost.exe    N/A      |\n",
            "|    0   N/A  N/A     17344    C+G   ...on\\113.0.1774.57\\msedgewebview2.exe    N/A      |\n",
            "|    0   N/A  N/A     18148    C+G   ...GeForce Experience\\NVIDIA Share.exe    N/A      |\n",
            "|    0   N/A  N/A     18540    C+G   ...les\\Microsoft OneDrive\\OneDrive.exe    N/A      |\n",
            "|    0   N/A  N/A     18684    C+G   ...64__v826wp6bftszj\\TranslucentTB.exe    N/A      |\n",
            "|    0   N/A  N/A     20172    C+G   ...\\AMD\\CNext\\CNext\\RadeonSoftware.exe    N/A      |\n",
            "|    0   N/A  N/A     20384    C+G   ...les\\AMD\\CNext\\CNext\\AMDRSSrcExt.exe    N/A      |\n",
            "|    0   N/A  N/A     20860    C+G   ...7.0_x64__cv1g1gvanyjgm\\WhatsApp.exe    N/A      |\n",
            "+---------------------------------------------------------------------------------------+\n"
          ]
        }
      ],
      "source": [
        "# Check GPU\n",
        "!nvidia-smi"
      ]
    },
    {
      "cell_type": "code",
      "execution_count": 7,
      "metadata": {
        "colab": {
          "base_uri": "https://localhost:8080/"
        },
        "id": "FSapZ74PU2TF",
        "outputId": "ed4d645b-28b3-4587-f4e4-c615bb48ed1b",
        "tags": []
      },
      "outputs": [
        {
          "data": {
            "text/plain": [
              "[PhysicalDevice(name='/physical_device:GPU:0', device_type='GPU')]"
            ]
          },
          "execution_count": 7,
          "metadata": {},
          "output_type": "execute_result"
        }
      ],
      "source": [
        "# Lis physical devices\n",
        "devices = tf.config.experimental.list_physical_devices(\"GPU\")\n",
        "devices"
      ]
    },
    {
      "cell_type": "code",
      "execution_count": 8,
      "metadata": {
        "id": "A8WtBtBaU2TG",
        "tags": []
      },
      "outputs": [
        {
          "name": "stdout",
          "output_type": "stream",
          "text": [
            "INFO:tensorflow:Using MirroredStrategy with devices ('/job:localhost/replica:0/task:0/device:GPU:0',)\n"
          ]
        }
      ],
      "source": [
        "# Define the GPU strategy\n",
        "mirrored_strategy = tf.distribute.MirroredStrategy(devices=[\"/gpu:0\"])"
      ]
    },
    {
      "attachments": {},
      "cell_type": "markdown",
      "metadata": {
        "id": "Vqr_uGTNU2TG"
      },
      "source": [
        "# Modelling With Augmentation"
      ]
    },
    {
      "attachments": {},
      "cell_type": "markdown",
      "metadata": {
        "id": "w4Wzh6ZyU2TH"
      },
      "source": [
        "## DenseNet Model 1"
      ]
    },
    {
      "cell_type": "code",
      "execution_count": 9,
      "metadata": {
        "id": "uUqYGBfRU2TH",
        "tags": []
      },
      "outputs": [],
      "source": [
        "# Difine the callbacks\n",
        "# Save the best model\n",
        "checkpoint_callback = ModelCheckpoint(filepath=\"Corn_DenseNet_model1_Based_Augmented\", save_best_only=True, monitor=\"val_accuracy\", mode=\"max\", verbose=1)\n",
        "\n",
        "# Early stopping\n",
        "early_stopping_callback = EarlyStopping(monitor=\"val_accuracy\", mode=\"max\", patience=20, verbose=1, restore_best_weights=True)\n",
        "\n",
        "# Reduce learning rate\n",
        "reduce_lr_callback = ReduceLROnPlateau(monitor=\"val_loss\", factor=0.1, patience=5, verbose=1, mode=\"min\", min_delta=0.0001, cooldown=0, min_lr=0)\n",
        "\n",
        "# Callbacks list\n",
        "callbacks=[checkpoint_callback, early_stopping_callback, reduce_lr_callback]"
      ]
    },
    {
      "cell_type": "code",
      "execution_count": 10,
      "metadata": {
        "colab": {
          "base_uri": "https://localhost:8080/"
        },
        "id": "BQHFs3gSU2TI",
        "outputId": "7f1f9f40-c58e-45bf-ed4f-14bd70a72c52",
        "tags": []
      },
      "outputs": [
        {
          "name": "stdout",
          "output_type": "stream",
          "text": [
            "Model: \"sequential\"\n",
            "_________________________________________________________________\n",
            " Layer (type)                Output Shape              Param #   \n",
            "=================================================================\n",
            " densenet121 (Functional)    (None, 7, 7, 1024)        7037504   \n",
            "                                                                 \n",
            " global_max_pooling2d (Globa  (None, 1024)             0         \n",
            " lMaxPooling2D)                                                  \n",
            "                                                                 \n",
            " dropout (Dropout)           (None, 1024)              0         \n",
            "                                                                 \n",
            " dense (Dense)               (None, 256)               262400    \n",
            "                                                                 \n",
            " dense_1 (Dense)             (None, 4)                 1028      \n",
            "                                                                 \n",
            "=================================================================\n",
            "Total params: 7,300,932\n",
            "Trainable params: 7,217,284\n",
            "Non-trainable params: 83,648\n",
            "_________________________________________________________________\n"
          ]
        }
      ],
      "source": [
        "# Define DIY Model\n",
        "DenseNet_model = tf.keras.models.Sequential([\n",
        "    # DenseNet121 Layer\n",
        "    DenseNet121(include_top=False,weights='imagenet',input_shape=(224, 224, 3)),\n",
        "    # Global Max Pooling Layer\n",
        "    tf.keras.layers.GlobalMaxPooling2D(),\n",
        "    # Drop Out Layer\n",
        "    tf.keras.layers.Dropout(0.2),\n",
        "    # 256 neuron hidden layer\n",
        "    tf.keras.layers.Dense(256, activation='relu'),\n",
        "    # Output\n",
        "    tf.keras.layers.Dense(4, activation='softmax') \n",
        "  ])\n",
        "\n",
        "\n",
        "# Compile Model\n",
        "DenseNet_model.compile(loss='categorical_crossentropy',optimizer=tf.keras.optimizers.Adam(), metrics=['accuracy']) \n",
        "\n",
        "# Model Summary\n",
        "DenseNet_model.summary()"
      ]
    },
    {
      "cell_type": "code",
      "execution_count": 11,
      "metadata": {
        "colab": {
          "base_uri": "https://localhost:8080/"
        },
        "id": "6coN3TKhU2TI",
        "outputId": "855d91bb-6afb-4643-a4bb-fb18d417192d",
        "tags": []
      },
      "outputs": [
        {
          "name": "stdout",
          "output_type": "stream",
          "text": [
            "Epoch 1/100\n",
            "384/384 [==============================] - ETA: 0s - loss: 0.6722 - accuracy: 0.8453\n",
            "Epoch 1: val_accuracy improved from -inf to 0.78437, saving model to Corn_DenseNet_model1_Based_Augmented\n"
          ]
        },
        {
          "name": "stderr",
          "output_type": "stream",
          "text": [
            "WARNING:absl:Found untraced functions such as _jit_compiled_convolution_op, _jit_compiled_convolution_op, _jit_compiled_convolution_op, _jit_compiled_convolution_op, _jit_compiled_convolution_op while saving (showing 5 of 120). These functions will not be directly callable after loading.\n"
          ]
        },
        {
          "name": "stdout",
          "output_type": "stream",
          "text": [
            "INFO:tensorflow:Assets written to: Corn_DenseNet_model1_Based_Augmented\\assets\n"
          ]
        },
        {
          "name": "stderr",
          "output_type": "stream",
          "text": [
            "INFO:tensorflow:Assets written to: Corn_DenseNet_model1_Based_Augmented\\assets\n"
          ]
        },
        {
          "name": "stdout",
          "output_type": "stream",
          "text": [
            "384/384 [==============================] - 163s 373ms/step - loss: 0.6722 - accuracy: 0.8453 - val_loss: 0.6189 - val_accuracy: 0.7844 - lr: 0.0010\n",
            "Epoch 2/100\n",
            "384/384 [==============================] - ETA: 0s - loss: 0.2848 - accuracy: 0.9059\n",
            "Epoch 2: val_accuracy improved from 0.78437 to 0.93962, saving model to Corn_DenseNet_model1_Based_Augmented\n"
          ]
        },
        {
          "name": "stderr",
          "output_type": "stream",
          "text": [
            "WARNING:absl:Found untraced functions such as _jit_compiled_convolution_op, _jit_compiled_convolution_op, _jit_compiled_convolution_op, _jit_compiled_convolution_op, _jit_compiled_convolution_op while saving (showing 5 of 120). These functions will not be directly callable after loading.\n"
          ]
        },
        {
          "name": "stdout",
          "output_type": "stream",
          "text": [
            "INFO:tensorflow:Assets written to: Corn_DenseNet_model1_Based_Augmented\\assets\n"
          ]
        },
        {
          "name": "stderr",
          "output_type": "stream",
          "text": [
            "INFO:tensorflow:Assets written to: Corn_DenseNet_model1_Based_Augmented\\assets\n"
          ]
        },
        {
          "name": "stdout",
          "output_type": "stream",
          "text": [
            "384/384 [==============================] - 107s 277ms/step - loss: 0.2848 - accuracy: 0.9059 - val_loss: 0.1851 - val_accuracy: 0.9396 - lr: 0.0010\n",
            "Epoch 3/100\n",
            "384/384 [==============================] - ETA: 0s - loss: 0.2450 - accuracy: 0.9114\n",
            "Epoch 3: val_accuracy did not improve from 0.93962\n",
            "384/384 [==============================] - 73s 188ms/step - loss: 0.2450 - accuracy: 0.9114 - val_loss: 0.1828 - val_accuracy: 0.9358 - lr: 0.0010\n",
            "Epoch 4/100\n",
            "384/384 [==============================] - ETA: 0s - loss: 0.2182 - accuracy: 0.9280\n",
            "Epoch 4: val_accuracy improved from 0.93962 to 0.94016, saving model to Corn_DenseNet_model1_Based_Augmented\n"
          ]
        },
        {
          "name": "stderr",
          "output_type": "stream",
          "text": [
            "WARNING:absl:Found untraced functions such as _jit_compiled_convolution_op, _jit_compiled_convolution_op, _jit_compiled_convolution_op, _jit_compiled_convolution_op, _jit_compiled_convolution_op while saving (showing 5 of 120). These functions will not be directly callable after loading.\n"
          ]
        },
        {
          "name": "stdout",
          "output_type": "stream",
          "text": [
            "INFO:tensorflow:Assets written to: Corn_DenseNet_model1_Based_Augmented\\assets\n"
          ]
        },
        {
          "name": "stderr",
          "output_type": "stream",
          "text": [
            "INFO:tensorflow:Assets written to: Corn_DenseNet_model1_Based_Augmented\\assets\n"
          ]
        },
        {
          "name": "stdout",
          "output_type": "stream",
          "text": [
            "384/384 [==============================] - 110s 287ms/step - loss: 0.2182 - accuracy: 0.9280 - val_loss: 0.1747 - val_accuracy: 0.9402 - lr: 0.0010\n",
            "Epoch 5/100\n",
            "384/384 [==============================] - ETA: 0s - loss: 0.2157 - accuracy: 0.9284\n",
            "Epoch 5: val_accuracy did not improve from 0.94016\n",
            "384/384 [==============================] - 78s 203ms/step - loss: 0.2157 - accuracy: 0.9284 - val_loss: 0.7484 - val_accuracy: 0.7412 - lr: 0.0010\n",
            "Epoch 6/100\n",
            "384/384 [==============================] - ETA: 0s - loss: 0.1928 - accuracy: 0.9303\n",
            "Epoch 6: val_accuracy did not improve from 0.94016\n",
            "384/384 [==============================] - 83s 216ms/step - loss: 0.1928 - accuracy: 0.9303 - val_loss: 0.2751 - val_accuracy: 0.8922 - lr: 0.0010\n",
            "Epoch 7/100\n",
            "384/384 [==============================] - ETA: 0s - loss: 0.1554 - accuracy: 0.9435\n",
            "Epoch 7: val_accuracy improved from 0.94016 to 0.96065, saving model to Corn_DenseNet_model1_Based_Augmented\n"
          ]
        },
        {
          "name": "stderr",
          "output_type": "stream",
          "text": [
            "WARNING:absl:Found untraced functions such as _jit_compiled_convolution_op, _jit_compiled_convolution_op, _jit_compiled_convolution_op, _jit_compiled_convolution_op, _jit_compiled_convolution_op while saving (showing 5 of 120). These functions will not be directly callable after loading.\n"
          ]
        },
        {
          "name": "stdout",
          "output_type": "stream",
          "text": [
            "INFO:tensorflow:Assets written to: Corn_DenseNet_model1_Based_Augmented\\assets\n"
          ]
        },
        {
          "name": "stderr",
          "output_type": "stream",
          "text": [
            "INFO:tensorflow:Assets written to: Corn_DenseNet_model1_Based_Augmented\\assets\n"
          ]
        },
        {
          "name": "stdout",
          "output_type": "stream",
          "text": [
            "384/384 [==============================] - 123s 319ms/step - loss: 0.1554 - accuracy: 0.9435 - val_loss: 0.1235 - val_accuracy: 0.9606 - lr: 0.0010\n",
            "Epoch 8/100\n",
            "384/384 [==============================] - ETA: 0s - loss: 0.1830 - accuracy: 0.9341\n",
            "Epoch 8: val_accuracy did not improve from 0.96065\n",
            "384/384 [==============================] - 77s 201ms/step - loss: 0.1830 - accuracy: 0.9341 - val_loss: 0.9351 - val_accuracy: 0.7881 - lr: 0.0010\n",
            "Epoch 9/100\n",
            "384/384 [==============================] - ETA: 0s - loss: 0.1821 - accuracy: 0.9346\n",
            "Epoch 9: val_accuracy did not improve from 0.96065\n",
            "384/384 [==============================] - 83s 215ms/step - loss: 0.1821 - accuracy: 0.9346 - val_loss: 0.1546 - val_accuracy: 0.9402 - lr: 0.0010\n",
            "Epoch 10/100\n",
            "384/384 [==============================] - ETA: 0s - loss: 0.1451 - accuracy: 0.9466\n",
            "Epoch 10: val_accuracy did not improve from 0.96065\n",
            "384/384 [==============================] - 81s 212ms/step - loss: 0.1451 - accuracy: 0.9466 - val_loss: 0.1160 - val_accuracy: 0.9569 - lr: 0.0010\n",
            "Epoch 11/100\n",
            "384/384 [==============================] - ETA: 0s - loss: 0.1404 - accuracy: 0.9495\n",
            "Epoch 11: val_accuracy did not improve from 0.96065\n",
            "384/384 [==============================] - 84s 217ms/step - loss: 0.1404 - accuracy: 0.9495 - val_loss: 0.2195 - val_accuracy: 0.9175 - lr: 0.0010\n",
            "Epoch 12/100\n",
            "384/384 [==============================] - ETA: 0s - loss: 0.1787 - accuracy: 0.9396\n",
            "Epoch 12: val_accuracy did not improve from 0.96065\n",
            "384/384 [==============================] - 79s 205ms/step - loss: 0.1787 - accuracy: 0.9396 - val_loss: 0.1942 - val_accuracy: 0.9358 - lr: 0.0010\n",
            "Epoch 13/100\n",
            "384/384 [==============================] - ETA: 0s - loss: 0.1335 - accuracy: 0.9504\n",
            "Epoch 13: val_accuracy did not improve from 0.96065\n",
            "384/384 [==============================] - 73s 191ms/step - loss: 0.1335 - accuracy: 0.9504 - val_loss: 1.0008 - val_accuracy: 0.6954 - lr: 0.0010\n",
            "Epoch 14/100\n",
            "384/384 [==============================] - ETA: 0s - loss: 0.1306 - accuracy: 0.9532\n",
            "Epoch 14: val_accuracy improved from 0.96065 to 0.97305, saving model to Corn_DenseNet_model1_Based_Augmented\n"
          ]
        },
        {
          "name": "stderr",
          "output_type": "stream",
          "text": [
            "WARNING:absl:Found untraced functions such as _jit_compiled_convolution_op, _jit_compiled_convolution_op, _jit_compiled_convolution_op, _jit_compiled_convolution_op, _jit_compiled_convolution_op while saving (showing 5 of 120). These functions will not be directly callable after loading.\n"
          ]
        },
        {
          "name": "stdout",
          "output_type": "stream",
          "text": [
            "INFO:tensorflow:Assets written to: Corn_DenseNet_model1_Based_Augmented\\assets\n"
          ]
        },
        {
          "name": "stderr",
          "output_type": "stream",
          "text": [
            "INFO:tensorflow:Assets written to: Corn_DenseNet_model1_Based_Augmented\\assets\n"
          ]
        },
        {
          "name": "stdout",
          "output_type": "stream",
          "text": [
            "384/384 [==============================] - 117s 306ms/step - loss: 0.1306 - accuracy: 0.9532 - val_loss: 0.0787 - val_accuracy: 0.9730 - lr: 0.0010\n",
            "Epoch 15/100\n",
            "384/384 [==============================] - ETA: 0s - loss: 0.2691 - accuracy: 0.9083\n",
            "Epoch 15: val_accuracy did not improve from 0.97305\n",
            "384/384 [==============================] - 76s 198ms/step - loss: 0.2691 - accuracy: 0.9083 - val_loss: 3.4499 - val_accuracy: 0.5062 - lr: 0.0010\n",
            "Epoch 16/100\n",
            "384/384 [==============================] - ETA: 0s - loss: 0.1712 - accuracy: 0.9417\n",
            "Epoch 16: val_accuracy did not improve from 0.97305\n",
            "384/384 [==============================] - 76s 198ms/step - loss: 0.1712 - accuracy: 0.9417 - val_loss: 0.1200 - val_accuracy: 0.9590 - lr: 0.0010\n",
            "Epoch 17/100\n",
            "384/384 [==============================] - ETA: 0s - loss: 0.1434 - accuracy: 0.9455\n",
            "Epoch 17: val_accuracy did not improve from 0.97305\n",
            "384/384 [==============================] - 80s 208ms/step - loss: 0.1434 - accuracy: 0.9455 - val_loss: 0.1072 - val_accuracy: 0.9553 - lr: 0.0010\n",
            "Epoch 18/100\n",
            "384/384 [==============================] - ETA: 0s - loss: 0.1287 - accuracy: 0.9529\n",
            "Epoch 18: val_accuracy did not improve from 0.97305\n",
            "384/384 [==============================] - 80s 207ms/step - loss: 0.1287 - accuracy: 0.9529 - val_loss: 0.1190 - val_accuracy: 0.9580 - lr: 0.0010\n",
            "Epoch 19/100\n",
            "384/384 [==============================] - ETA: 0s - loss: 0.1398 - accuracy: 0.9498\n",
            "Epoch 19: val_accuracy did not improve from 0.97305\n",
            "\n",
            "Epoch 19: ReduceLROnPlateau reducing learning rate to 0.00010000000474974513.\n",
            "384/384 [==============================] - 81s 209ms/step - loss: 0.1398 - accuracy: 0.9498 - val_loss: 0.3969 - val_accuracy: 0.8852 - lr: 0.0010\n",
            "Epoch 20/100\n",
            "384/384 [==============================] - ETA: 0s - loss: 0.0979 - accuracy: 0.9633\n",
            "Epoch 20: val_accuracy improved from 0.97305 to 0.98113, saving model to Corn_DenseNet_model1_Based_Augmented\n"
          ]
        },
        {
          "name": "stderr",
          "output_type": "stream",
          "text": [
            "WARNING:absl:Found untraced functions such as _jit_compiled_convolution_op, _jit_compiled_convolution_op, _jit_compiled_convolution_op, _jit_compiled_convolution_op, _jit_compiled_convolution_op while saving (showing 5 of 120). These functions will not be directly callable after loading.\n"
          ]
        },
        {
          "name": "stdout",
          "output_type": "stream",
          "text": [
            "INFO:tensorflow:Assets written to: Corn_DenseNet_model1_Based_Augmented\\assets\n"
          ]
        },
        {
          "name": "stderr",
          "output_type": "stream",
          "text": [
            "INFO:tensorflow:Assets written to: Corn_DenseNet_model1_Based_Augmented\\assets\n"
          ]
        },
        {
          "name": "stdout",
          "output_type": "stream",
          "text": [
            "384/384 [==============================] - 117s 305ms/step - loss: 0.0979 - accuracy: 0.9633 - val_loss: 0.0558 - val_accuracy: 0.9811 - lr: 1.0000e-04\n",
            "Epoch 21/100\n",
            "384/384 [==============================] - ETA: 0s - loss: 0.0900 - accuracy: 0.9659\n",
            "Epoch 21: val_accuracy improved from 0.98113 to 0.98221, saving model to Corn_DenseNet_model1_Based_Augmented\n"
          ]
        },
        {
          "name": "stderr",
          "output_type": "stream",
          "text": [
            "WARNING:absl:Found untraced functions such as _jit_compiled_convolution_op, _jit_compiled_convolution_op, _jit_compiled_convolution_op, _jit_compiled_convolution_op, _jit_compiled_convolution_op while saving (showing 5 of 120). These functions will not be directly callable after loading.\n"
          ]
        },
        {
          "name": "stdout",
          "output_type": "stream",
          "text": [
            "INFO:tensorflow:Assets written to: Corn_DenseNet_model1_Based_Augmented\\assets\n"
          ]
        },
        {
          "name": "stderr",
          "output_type": "stream",
          "text": [
            "INFO:tensorflow:Assets written to: Corn_DenseNet_model1_Based_Augmented\\assets\n"
          ]
        },
        {
          "name": "stdout",
          "output_type": "stream",
          "text": [
            "384/384 [==============================] - 117s 303ms/step - loss: 0.0900 - accuracy: 0.9659 - val_loss: 0.0508 - val_accuracy: 0.9822 - lr: 1.0000e-04\n",
            "Epoch 22/100\n",
            "384/384 [==============================] - ETA: 0s - loss: 0.0797 - accuracy: 0.9703\n",
            "Epoch 22: val_accuracy did not improve from 0.98221\n",
            "384/384 [==============================] - 78s 202ms/step - loss: 0.0797 - accuracy: 0.9703 - val_loss: 0.0545 - val_accuracy: 0.9806 - lr: 1.0000e-04\n",
            "Epoch 23/100\n",
            "384/384 [==============================] - ETA: 0s - loss: 0.0777 - accuracy: 0.9723\n",
            "Epoch 23: val_accuracy did not improve from 0.98221\n",
            "384/384 [==============================] - 82s 212ms/step - loss: 0.0777 - accuracy: 0.9723 - val_loss: 0.0638 - val_accuracy: 0.9795 - lr: 1.0000e-04\n",
            "Epoch 24/100\n",
            "384/384 [==============================] - ETA: 0s - loss: 0.0760 - accuracy: 0.9704\n",
            "Epoch 24: val_accuracy improved from 0.98221 to 0.98275, saving model to Corn_DenseNet_model1_Based_Augmented\n"
          ]
        },
        {
          "name": "stderr",
          "output_type": "stream",
          "text": [
            "WARNING:absl:Found untraced functions such as _jit_compiled_convolution_op, _jit_compiled_convolution_op, _jit_compiled_convolution_op, _jit_compiled_convolution_op, _jit_compiled_convolution_op while saving (showing 5 of 120). These functions will not be directly callable after loading.\n"
          ]
        },
        {
          "name": "stdout",
          "output_type": "stream",
          "text": [
            "INFO:tensorflow:Assets written to: Corn_DenseNet_model1_Based_Augmented\\assets\n"
          ]
        },
        {
          "name": "stderr",
          "output_type": "stream",
          "text": [
            "INFO:tensorflow:Assets written to: Corn_DenseNet_model1_Based_Augmented\\assets\n"
          ]
        },
        {
          "name": "stdout",
          "output_type": "stream",
          "text": [
            "384/384 [==============================] - 125s 324ms/step - loss: 0.0760 - accuracy: 0.9704 - val_loss: 0.0442 - val_accuracy: 0.9827 - lr: 1.0000e-04\n",
            "Epoch 25/100\n",
            "384/384 [==============================] - ETA: 0s - loss: 0.0730 - accuracy: 0.9727\n",
            "Epoch 25: val_accuracy did not improve from 0.98275\n",
            "384/384 [==============================] - 83s 215ms/step - loss: 0.0730 - accuracy: 0.9727 - val_loss: 0.0714 - val_accuracy: 0.9714 - lr: 1.0000e-04\n",
            "Epoch 26/100\n",
            "384/384 [==============================] - ETA: 0s - loss: 0.0678 - accuracy: 0.9747\n",
            "Epoch 26: val_accuracy improved from 0.98275 to 0.98868, saving model to Corn_DenseNet_model1_Based_Augmented\n"
          ]
        },
        {
          "name": "stderr",
          "output_type": "stream",
          "text": [
            "WARNING:absl:Found untraced functions such as _jit_compiled_convolution_op, _jit_compiled_convolution_op, _jit_compiled_convolution_op, _jit_compiled_convolution_op, _jit_compiled_convolution_op while saving (showing 5 of 120). These functions will not be directly callable after loading.\n"
          ]
        },
        {
          "name": "stdout",
          "output_type": "stream",
          "text": [
            "INFO:tensorflow:Assets written to: Corn_DenseNet_model1_Based_Augmented\\assets\n"
          ]
        },
        {
          "name": "stderr",
          "output_type": "stream",
          "text": [
            "INFO:tensorflow:Assets written to: Corn_DenseNet_model1_Based_Augmented\\assets\n"
          ]
        },
        {
          "name": "stdout",
          "output_type": "stream",
          "text": [
            "384/384 [==============================] - 120s 312ms/step - loss: 0.0678 - accuracy: 0.9747 - val_loss: 0.0398 - val_accuracy: 0.9887 - lr: 1.0000e-04\n",
            "Epoch 27/100\n",
            "384/384 [==============================] - ETA: 0s - loss: 0.0685 - accuracy: 0.9748\n",
            "Epoch 27: val_accuracy did not improve from 0.98868\n",
            "384/384 [==============================] - 79s 203ms/step - loss: 0.0685 - accuracy: 0.9748 - val_loss: 0.0417 - val_accuracy: 0.9844 - lr: 1.0000e-04\n",
            "Epoch 28/100\n",
            "384/384 [==============================] - ETA: 0s - loss: 0.0668 - accuracy: 0.9750\n",
            "Epoch 28: val_accuracy did not improve from 0.98868\n",
            "384/384 [==============================] - 80s 209ms/step - loss: 0.0668 - accuracy: 0.9750 - val_loss: 0.0453 - val_accuracy: 0.9827 - lr: 1.0000e-04\n",
            "Epoch 29/100\n",
            "384/384 [==============================] - ETA: 0s - loss: 0.0685 - accuracy: 0.9730\n",
            "Epoch 29: val_accuracy did not improve from 0.98868\n",
            "384/384 [==============================] - 83s 216ms/step - loss: 0.0685 - accuracy: 0.9730 - val_loss: 0.0420 - val_accuracy: 0.9838 - lr: 1.0000e-04\n",
            "Epoch 30/100\n",
            "384/384 [==============================] - ETA: 0s - loss: 0.0640 - accuracy: 0.9738\n",
            "Epoch 30: val_accuracy did not improve from 0.98868\n",
            "384/384 [==============================] - 81s 209ms/step - loss: 0.0640 - accuracy: 0.9738 - val_loss: 0.0352 - val_accuracy: 0.9854 - lr: 1.0000e-04\n",
            "Epoch 31/100\n",
            "384/384 [==============================] - ETA: 0s - loss: 0.0632 - accuracy: 0.9747\n",
            "Epoch 31: val_accuracy did not improve from 0.98868\n",
            "384/384 [==============================] - 80s 208ms/step - loss: 0.0632 - accuracy: 0.9747 - val_loss: 0.0482 - val_accuracy: 0.9827 - lr: 1.0000e-04\n",
            "Epoch 32/100\n",
            "384/384 [==============================] - ETA: 0s - loss: 0.0653 - accuracy: 0.9766\n",
            "Epoch 32: val_accuracy did not improve from 0.98868\n",
            "384/384 [==============================] - 80s 208ms/step - loss: 0.0653 - accuracy: 0.9766 - val_loss: 0.0338 - val_accuracy: 0.9887 - lr: 1.0000e-04\n",
            "Epoch 33/100\n",
            "384/384 [==============================] - ETA: 0s - loss: 0.0691 - accuracy: 0.9742\n",
            "Epoch 33: val_accuracy did not improve from 0.98868\n",
            "384/384 [==============================] - 80s 207ms/step - loss: 0.0691 - accuracy: 0.9742 - val_loss: 0.0450 - val_accuracy: 0.9801 - lr: 1.0000e-04\n",
            "Epoch 34/100\n",
            "384/384 [==============================] - ETA: 0s - loss: 0.0613 - accuracy: 0.9759\n",
            "Epoch 34: val_accuracy did not improve from 0.98868\n",
            "384/384 [==============================] - 84s 220ms/step - loss: 0.0613 - accuracy: 0.9759 - val_loss: 0.0432 - val_accuracy: 0.9838 - lr: 1.0000e-04\n",
            "Epoch 35/100\n",
            "384/384 [==============================] - ETA: 0s - loss: 0.0631 - accuracy: 0.9777\n",
            "Epoch 35: val_accuracy did not improve from 0.98868\n",
            "384/384 [==============================] - 79s 205ms/step - loss: 0.0631 - accuracy: 0.9777 - val_loss: 0.0448 - val_accuracy: 0.9817 - lr: 1.0000e-04\n",
            "Epoch 36/100\n",
            "384/384 [==============================] - ETA: 0s - loss: 0.0614 - accuracy: 0.9773\n",
            "Epoch 36: val_accuracy did not improve from 0.98868\n",
            "384/384 [==============================] - 80s 209ms/step - loss: 0.0614 - accuracy: 0.9773 - val_loss: 0.0482 - val_accuracy: 0.9811 - lr: 1.0000e-04\n",
            "Epoch 37/100\n",
            "384/384 [==============================] - ETA: 0s - loss: 0.0615 - accuracy: 0.9768\n",
            "Epoch 37: val_accuracy did not improve from 0.98868\n",
            "\n",
            "Epoch 37: ReduceLROnPlateau reducing learning rate to 1.0000000474974514e-05.\n",
            "384/384 [==============================] - 79s 206ms/step - loss: 0.0615 - accuracy: 0.9768 - val_loss: 0.0412 - val_accuracy: 0.9854 - lr: 1.0000e-04\n",
            "Epoch 38/100\n",
            "384/384 [==============================] - ETA: 0s - loss: 0.0530 - accuracy: 0.9789\n",
            "Epoch 38: val_accuracy did not improve from 0.98868\n",
            "384/384 [==============================] - 78s 202ms/step - loss: 0.0530 - accuracy: 0.9789 - val_loss: 0.0374 - val_accuracy: 0.9860 - lr: 1.0000e-05\n",
            "Epoch 39/100\n",
            "384/384 [==============================] - ETA: 0s - loss: 0.0513 - accuracy: 0.9817\n",
            "Epoch 39: val_accuracy did not improve from 0.98868\n",
            "384/384 [==============================] - 83s 214ms/step - loss: 0.0513 - accuracy: 0.9817 - val_loss: 0.0365 - val_accuracy: 0.9860 - lr: 1.0000e-05\n",
            "Epoch 40/100\n",
            "384/384 [==============================] - ETA: 0s - loss: 0.0559 - accuracy: 0.9798\n",
            "Epoch 40: val_accuracy did not improve from 0.98868\n",
            "384/384 [==============================] - 80s 209ms/step - loss: 0.0559 - accuracy: 0.9798 - val_loss: 0.0354 - val_accuracy: 0.9860 - lr: 1.0000e-05\n",
            "Epoch 41/100\n",
            "384/384 [==============================] - ETA: 0s - loss: 0.0502 - accuracy: 0.9807\n",
            "Epoch 41: val_accuracy did not improve from 0.98868\n",
            "384/384 [==============================] - 82s 213ms/step - loss: 0.0502 - accuracy: 0.9807 - val_loss: 0.0350 - val_accuracy: 0.9865 - lr: 1.0000e-05\n",
            "Epoch 42/100\n",
            "384/384 [==============================] - ETA: 0s - loss: 0.0452 - accuracy: 0.9826\n",
            "Epoch 42: val_accuracy did not improve from 0.98868\n",
            "\n",
            "Epoch 42: ReduceLROnPlateau reducing learning rate to 1.0000000656873453e-06.\n",
            "384/384 [==============================] - 80s 209ms/step - loss: 0.0452 - accuracy: 0.9826 - val_loss: 0.0351 - val_accuracy: 0.9865 - lr: 1.0000e-05\n",
            "Epoch 43/100\n",
            "384/384 [==============================] - ETA: 0s - loss: 0.0481 - accuracy: 0.9832\n",
            "Epoch 43: val_accuracy did not improve from 0.98868\n",
            "384/384 [==============================] - 81s 210ms/step - loss: 0.0481 - accuracy: 0.9832 - val_loss: 0.0352 - val_accuracy: 0.9860 - lr: 1.0000e-06\n",
            "Epoch 44/100\n",
            "384/384 [==============================] - ETA: 0s - loss: 0.0454 - accuracy: 0.9829\n",
            "Epoch 44: val_accuracy did not improve from 0.98868\n",
            "384/384 [==============================] - 81s 211ms/step - loss: 0.0454 - accuracy: 0.9829 - val_loss: 0.0352 - val_accuracy: 0.9865 - lr: 1.0000e-06\n",
            "Epoch 45/100\n",
            "384/384 [==============================] - ETA: 0s - loss: 0.0501 - accuracy: 0.9813\n",
            "Epoch 45: val_accuracy did not improve from 0.98868\n",
            "384/384 [==============================] - 81s 212ms/step - loss: 0.0501 - accuracy: 0.9813 - val_loss: 0.0354 - val_accuracy: 0.9860 - lr: 1.0000e-06\n",
            "Epoch 46/100\n",
            "384/384 [==============================] - ETA: 0s - loss: 0.0482 - accuracy: 0.9820\n",
            "Epoch 46: val_accuracy did not improve from 0.98868\n",
            "Restoring model weights from the end of the best epoch: 26.\n",
            "384/384 [==============================] - 84s 218ms/step - loss: 0.0482 - accuracy: 0.9820 - val_loss: 0.0351 - val_accuracy: 0.9860 - lr: 1.0000e-06\n",
            "Epoch 46: early stopping\n"
          ]
        }
      ],
      "source": [
        "# Define the number of epochs\n",
        "num_epochs = 100\n",
        "\n",
        "# Train the model\n",
        "history_DenseNet_model_1 = DenseNet_model.fit(train_generator, epochs=num_epochs, validation_data=validation_generator, callbacks=callbacks)"
      ]
    },
    {
      "cell_type": "code",
      "execution_count": 12,
      "metadata": {
        "colab": {
          "base_uri": "https://localhost:8080/",
          "height": 904
        },
        "id": "lvS9xz3LU2TI",
        "outputId": "10ceb97f-0442-4a46-99df-01056a86f387",
        "tags": []
      },
      "outputs": [
        {
          "data": {
            "text/plain": [
              "<matplotlib.legend.Legend at 0x1e380dc2ad0>"
            ]
          },
          "execution_count": 12,
          "metadata": {},
          "output_type": "execute_result"
        },
        {
          "data": {
            "image/png": "[encoded data removed]",
            "text/plain": [
              "<Figure size 640x480 with 1 Axes>"
            ]
          },
          "metadata": {},
          "output_type": "display_data"
        },
        {
          "data": {
            "image/png": "[encoded data removed]",
            "text/plain": [
              "<Figure size 640x480 with 1 Axes>"
            ]
          },
          "metadata": {},
          "output_type": "display_data"
        }
      ],
      "source": [
        "#-----------------------------------------------------------\n",
        "# Retrieve a list of list results on training and test data\n",
        "# sets for each training epoch\n",
        "#-----------------------------------------------------------\n",
        "acc      = history_DenseNet_model_1.history['accuracy' ]\n",
        "val_acc  = history_DenseNet_model_1.history['val_accuracy' ]\n",
        "loss     = history_DenseNet_model_1.history['loss' ]\n",
        "val_loss = history_DenseNet_model_1.history['val_loss' ]\n",
        "\n",
        "epochs   = range(len(acc)) # Get number of epochs\n",
        "\n",
        "#------------------------------------------------\n",
        "# Plot training and validation accuracy per epoch\n",
        "#------------------------------------------------\n",
        "plt.plot  (epochs, acc )\n",
        "plt.plot  (epochs, val_acc )\n",
        "plt.title ('Training and validation accuracy DenseNet Model 1')\n",
        "plt.legend(['train', 'val'], loc='upper left')\n",
        "plt.figure()\n",
        "\n",
        "#------------------------------------------------\n",
        "# Plot training and validation loss per epoch\n",
        "#------------------------------------------------\n",
        "plt.plot  (epochs, loss)\n",
        "plt.plot  (epochs, val_loss)\n",
        "plt.title ('Training and validation loss DenseNet Model 1')\n",
        "plt.legend(['train', 'val'], loc='upper left')"
      ]
    },
    {
      "attachments": {},
      "cell_type": "markdown",
      "metadata": {
        "id": "SvQOR9IuU2TJ"
      },
      "source": [
        "## DenseNet Model 2"
      ]
    },
    {
      "cell_type": "code",
      "execution_count": 13,
      "metadata": {
        "id": "Tj7lcdvUU2TJ",
        "tags": []
      },
      "outputs": [],
      "source": [
        "# Difine the callbacks\n",
        "# Save the best model\n",
        "checkpoint_callback = ModelCheckpoint(filepath=\"Corn_DenseNet_model2_Based_Augmented\", save_best_only=True, monitor=\"val_accuracy\", mode=\"max\", verbose=1)\n",
        "\n",
        "# Early stopping\n",
        "early_stopping_callback = EarlyStopping(monitor=\"val_accuracy\", mode=\"max\", patience=20, verbose=1, restore_best_weights=True)\n",
        "\n",
        "# Reduce learning rate\n",
        "reduce_lr_callback = ReduceLROnPlateau(monitor=\"val_loss\", factor=0.1, patience=5, verbose=1, mode=\"min\", min_delta=0.0001, cooldown=0, min_lr=0)\n",
        "\n",
        "# Callbacks list\n",
        "callbacks=[checkpoint_callback, early_stopping_callback, reduce_lr_callback]"
      ]
    },
    {
      "cell_type": "code",
      "execution_count": 14,
      "metadata": {
        "colab": {
          "base_uri": "https://localhost:8080/"
        },
        "id": "7NKPY1xGU2TJ",
        "outputId": "65b8ccbd-464c-4147-939c-4ccefb535914",
        "tags": []
      },
      "outputs": [
        {
          "name": "stdout",
          "output_type": "stream",
          "text": [
            "Model: \"sequential_1\"\n",
            "_________________________________________________________________\n",
            " Layer (type)                Output Shape              Param #   \n",
            "=================================================================\n",
            " densenet121 (Functional)    (None, 7, 7, 1024)        7037504   \n",
            "                                                                 \n",
            " global_average_pooling2d (G  (None, 1024)             0         \n",
            " lobalAveragePooling2D)                                          \n",
            "                                                                 \n",
            " dropout_1 (Dropout)         (None, 1024)              0         \n",
            "                                                                 \n",
            " dense_2 (Dense)             (None, 256)               262400    \n",
            "                                                                 \n",
            " dense_3 (Dense)             (None, 4)                 1028      \n",
            "                                                                 \n",
            "=================================================================\n",
            "Total params: 7,300,932\n",
            "Trainable params: 7,217,284\n",
            "Non-trainable params: 83,648\n",
            "_________________________________________________________________\n"
          ]
        }
      ],
      "source": [
        "# Define DIY Model\n",
        "DenseNet_model_2 = tf.keras.models.Sequential([\n",
        "    # DenseNet121 Layer\n",
        "    DenseNet121(include_top=False,weights='imagenet',input_shape=(224, 224, 3)),\n",
        "    # Global Average Pooling Layer\n",
        "    tf.keras.layers.GlobalAveragePooling2D(),\n",
        "    # Drop Out Layer\n",
        "    tf.keras.layers.Dropout(0.2),\n",
        "    # 256 neuron hidden layer\n",
        "    tf.keras.layers.Dense(256, activation='relu'),\n",
        "    # Output\n",
        "    tf.keras.layers.Dense(4, activation='softmax') \n",
        "  ])\n",
        "\n",
        "\n",
        "# Compile Model\n",
        "DenseNet_model_2.compile(loss='categorical_crossentropy',optimizer=tf.keras.optimizers.Adam(), metrics=['accuracy']) \n",
        "\n",
        "# Model Summary\n",
        "DenseNet_model_2.summary()"
      ]
    },
    {
      "cell_type": "code",
      "execution_count": 15,
      "metadata": {
        "colab": {
          "base_uri": "https://localhost:8080/"
        },
        "id": "6beuexC9U2TJ",
        "outputId": "374e0e81-2c02-4df6-9cf7-31b31f142410",
        "tags": []
      },
      "outputs": [
        {
          "name": "stdout",
          "output_type": "stream",
          "text": [
            "Epoch 1/100\n",
            "384/384 [==============================] - ETA: 0s - loss: 0.3000 - accuracy: 0.8879\n",
            "Epoch 1: val_accuracy improved from -inf to 0.73261, saving model to Corn_DenseNet_model2_Based_Augmented\n"
          ]
        },
        {
          "name": "stderr",
          "output_type": "stream",
          "text": [
            "WARNING:absl:Found untraced functions such as _jit_compiled_convolution_op, _jit_compiled_convolution_op, _jit_compiled_convolution_op, _jit_compiled_convolution_op, _jit_compiled_convolution_op while saving (showing 5 of 120). These functions will not be directly callable after loading.\n"
          ]
        },
        {
          "name": "stdout",
          "output_type": "stream",
          "text": [
            "INFO:tensorflow:Assets written to: Corn_DenseNet_model2_Based_Augmented\\assets\n"
          ]
        },
        {
          "name": "stderr",
          "output_type": "stream",
          "text": [
            "INFO:tensorflow:Assets written to: Corn_DenseNet_model2_Based_Augmented\\assets\n"
          ]
        },
        {
          "name": "stdout",
          "output_type": "stream",
          "text": [
            "384/384 [==============================] - 134s 317ms/step - loss: 0.3000 - accuracy: 0.8879 - val_loss: 1.1845 - val_accuracy: 0.7326 - lr: 0.0010\n",
            "Epoch 2/100\n",
            "384/384 [==============================] - ETA: 0s - loss: 0.1966 - accuracy: 0.9279\n",
            "Epoch 2: val_accuracy did not improve from 0.73261\n",
            "384/384 [==============================] - 82s 214ms/step - loss: 0.1966 - accuracy: 0.9279 - val_loss: 1.1056 - val_accuracy: 0.6323 - lr: 0.0010\n",
            "Epoch 3/100\n",
            "384/384 [==============================] - ETA: 0s - loss: 0.1616 - accuracy: 0.9383\n",
            "Epoch 3: val_accuracy did not improve from 0.73261\n",
            "384/384 [==============================] - 83s 216ms/step - loss: 0.1616 - accuracy: 0.9383 - val_loss: 1.6848 - val_accuracy: 0.6437 - lr: 0.0010\n",
            "Epoch 4/100\n",
            "384/384 [==============================] - ETA: 0s - loss: 0.1522 - accuracy: 0.9440\n",
            "Epoch 4: val_accuracy improved from 0.73261 to 0.93208, saving model to Corn_DenseNet_model2_Based_Augmented\n"
          ]
        },
        {
          "name": "stderr",
          "output_type": "stream",
          "text": [
            "WARNING:absl:Found untraced functions such as _jit_compiled_convolution_op, _jit_compiled_convolution_op, _jit_compiled_convolution_op, _jit_compiled_convolution_op, _jit_compiled_convolution_op while saving (showing 5 of 120). These functions will not be directly callable after loading.\n"
          ]
        },
        {
          "name": "stdout",
          "output_type": "stream",
          "text": [
            "INFO:tensorflow:Assets written to: Corn_DenseNet_model2_Based_Augmented\\assets\n"
          ]
        },
        {
          "name": "stderr",
          "output_type": "stream",
          "text": [
            "INFO:tensorflow:Assets written to: Corn_DenseNet_model2_Based_Augmented\\assets\n"
          ]
        },
        {
          "name": "stdout",
          "output_type": "stream",
          "text": [
            "384/384 [==============================] - 123s 320ms/step - loss: 0.1522 - accuracy: 0.9440 - val_loss: 0.1891 - val_accuracy: 0.9321 - lr: 0.0010\n",
            "Epoch 5/100\n",
            "384/384 [==============================] - ETA: 0s - loss: 0.1287 - accuracy: 0.9502\n",
            "Epoch 5: val_accuracy improved from 0.93208 to 0.95364, saving model to Corn_DenseNet_model2_Based_Augmented\n"
          ]
        },
        {
          "name": "stderr",
          "output_type": "stream",
          "text": [
            "WARNING:absl:Found untraced functions such as _jit_compiled_convolution_op, _jit_compiled_convolution_op, _jit_compiled_convolution_op, _jit_compiled_convolution_op, _jit_compiled_convolution_op while saving (showing 5 of 120). These functions will not be directly callable after loading.\n"
          ]
        },
        {
          "name": "stdout",
          "output_type": "stream",
          "text": [
            "INFO:tensorflow:Assets written to: Corn_DenseNet_model2_Based_Augmented\\assets\n"
          ]
        },
        {
          "name": "stderr",
          "output_type": "stream",
          "text": [
            "INFO:tensorflow:Assets written to: Corn_DenseNet_model2_Based_Augmented\\assets\n"
          ]
        },
        {
          "name": "stdout",
          "output_type": "stream",
          "text": [
            "384/384 [==============================] - 132s 343ms/step - loss: 0.1287 - accuracy: 0.9502 - val_loss: 0.1269 - val_accuracy: 0.9536 - lr: 0.0010\n",
            "Epoch 6/100\n",
            "384/384 [==============================] - ETA: 0s - loss: 0.1527 - accuracy: 0.9462\n",
            "Epoch 6: val_accuracy did not improve from 0.95364\n",
            "384/384 [==============================] - 95s 246ms/step - loss: 0.1527 - accuracy: 0.9462 - val_loss: 0.5757 - val_accuracy: 0.8313 - lr: 0.0010\n",
            "Epoch 7/100\n",
            "384/384 [==============================] - ETA: 0s - loss: 0.1339 - accuracy: 0.9495\n",
            "Epoch 7: val_accuracy did not improve from 0.95364\n",
            "384/384 [==============================] - 96s 251ms/step - loss: 0.1339 - accuracy: 0.9495 - val_loss: 0.6834 - val_accuracy: 0.7854 - lr: 0.0010\n",
            "Epoch 8/100\n",
            "384/384 [==============================] - ETA: 0s - loss: 0.1297 - accuracy: 0.9525\n",
            "Epoch 8: val_accuracy did not improve from 0.95364\n",
            "384/384 [==============================] - 88s 229ms/step - loss: 0.1297 - accuracy: 0.9525 - val_loss: 0.1628 - val_accuracy: 0.9472 - lr: 0.0010\n",
            "Epoch 9/100\n",
            "384/384 [==============================] - ETA: 0s - loss: 0.1269 - accuracy: 0.9529\n",
            "Epoch 9: val_accuracy improved from 0.95364 to 0.95472, saving model to Corn_DenseNet_model2_Based_Augmented\n"
          ]
        },
        {
          "name": "stderr",
          "output_type": "stream",
          "text": [
            "WARNING:absl:Found untraced functions such as _jit_compiled_convolution_op, _jit_compiled_convolution_op, _jit_compiled_convolution_op, _jit_compiled_convolution_op, _jit_compiled_convolution_op while saving (showing 5 of 120). These functions will not be directly callable after loading.\n"
          ]
        },
        {
          "name": "stdout",
          "output_type": "stream",
          "text": [
            "INFO:tensorflow:Assets written to: Corn_DenseNet_model2_Based_Augmented\\assets\n"
          ]
        },
        {
          "name": "stderr",
          "output_type": "stream",
          "text": [
            "INFO:tensorflow:Assets written to: Corn_DenseNet_model2_Based_Augmented\\assets\n"
          ]
        },
        {
          "name": "stdout",
          "output_type": "stream",
          "text": [
            "384/384 [==============================] - 130s 338ms/step - loss: 0.1269 - accuracy: 0.9529 - val_loss: 0.1328 - val_accuracy: 0.9547 - lr: 0.0010\n",
            "Epoch 10/100\n",
            "384/384 [==============================] - ETA: 0s - loss: 0.1151 - accuracy: 0.9562\n",
            "Epoch 10: val_accuracy did not improve from 0.95472\n",
            "\n",
            "Epoch 10: ReduceLROnPlateau reducing learning rate to 0.00010000000474974513.\n",
            "384/384 [==============================] - 97s 251ms/step - loss: 0.1151 - accuracy: 0.9562 - val_loss: 0.7203 - val_accuracy: 0.8054 - lr: 0.0010\n",
            "Epoch 11/100\n",
            "384/384 [==============================] - ETA: 0s - loss: 0.0945 - accuracy: 0.9654\n",
            "Epoch 11: val_accuracy improved from 0.95472 to 0.98167, saving model to Corn_DenseNet_model2_Based_Augmented\n"
          ]
        },
        {
          "name": "stderr",
          "output_type": "stream",
          "text": [
            "WARNING:absl:Found untraced functions such as _jit_compiled_convolution_op, _jit_compiled_convolution_op, _jit_compiled_convolution_op, _jit_compiled_convolution_op, _jit_compiled_convolution_op while saving (showing 5 of 120). These functions will not be directly callable after loading.\n"
          ]
        },
        {
          "name": "stdout",
          "output_type": "stream",
          "text": [
            "INFO:tensorflow:Assets written to: Corn_DenseNet_model2_Based_Augmented\\assets\n"
          ]
        },
        {
          "name": "stderr",
          "output_type": "stream",
          "text": [
            "INFO:tensorflow:Assets written to: Corn_DenseNet_model2_Based_Augmented\\assets\n"
          ]
        },
        {
          "name": "stdout",
          "output_type": "stream",
          "text": [
            "384/384 [==============================] - 146s 380ms/step - loss: 0.0945 - accuracy: 0.9654 - val_loss: 0.0507 - val_accuracy: 0.9817 - lr: 1.0000e-04\n",
            "Epoch 12/100\n",
            "384/384 [==============================] - ETA: 0s - loss: 0.0748 - accuracy: 0.9731\n",
            "Epoch 12: val_accuracy did not improve from 0.98167\n",
            "384/384 [==============================] - 91s 236ms/step - loss: 0.0748 - accuracy: 0.9731 - val_loss: 0.0668 - val_accuracy: 0.9725 - lr: 1.0000e-04\n",
            "Epoch 13/100\n",
            "384/384 [==============================] - ETA: 0s - loss: 0.0715 - accuracy: 0.9736\n",
            "Epoch 13: val_accuracy did not improve from 0.98167\n",
            "384/384 [==============================] - 91s 237ms/step - loss: 0.0715 - accuracy: 0.9736 - val_loss: 0.0604 - val_accuracy: 0.9817 - lr: 1.0000e-04\n",
            "Epoch 14/100\n",
            "384/384 [==============================] - ETA: 0s - loss: 0.0694 - accuracy: 0.9751\n",
            "Epoch 14: val_accuracy improved from 0.98167 to 0.98598, saving model to Corn_DenseNet_model2_Based_Augmented\n"
          ]
        },
        {
          "name": "stderr",
          "output_type": "stream",
          "text": [
            "WARNING:absl:Found untraced functions such as _jit_compiled_convolution_op, _jit_compiled_convolution_op, _jit_compiled_convolution_op, _jit_compiled_convolution_op, _jit_compiled_convolution_op while saving (showing 5 of 120). These functions will not be directly callable after loading.\n"
          ]
        },
        {
          "name": "stdout",
          "output_type": "stream",
          "text": [
            "INFO:tensorflow:Assets written to: Corn_DenseNet_model2_Based_Augmented\\assets\n"
          ]
        },
        {
          "name": "stderr",
          "output_type": "stream",
          "text": [
            "INFO:tensorflow:Assets written to: Corn_DenseNet_model2_Based_Augmented\\assets\n"
          ]
        },
        {
          "name": "stdout",
          "output_type": "stream",
          "text": [
            "384/384 [==============================] - 137s 356ms/step - loss: 0.0694 - accuracy: 0.9751 - val_loss: 0.0425 - val_accuracy: 0.9860 - lr: 1.0000e-04\n",
            "Epoch 15/100\n",
            "384/384 [==============================] - ETA: 0s - loss: 0.0652 - accuracy: 0.9756\n",
            "Epoch 15: val_accuracy did not improve from 0.98598\n",
            "384/384 [==============================] - 92s 239ms/step - loss: 0.0652 - accuracy: 0.9756 - val_loss: 0.0499 - val_accuracy: 0.9844 - lr: 1.0000e-04\n",
            "Epoch 16/100\n",
            "384/384 [==============================] - ETA: 0s - loss: 0.0579 - accuracy: 0.9807\n",
            "Epoch 16: val_accuracy did not improve from 0.98598\n",
            "384/384 [==============================] - 96s 250ms/step - loss: 0.0579 - accuracy: 0.9807 - val_loss: 0.0525 - val_accuracy: 0.9806 - lr: 1.0000e-04\n",
            "Epoch 17/100\n",
            "384/384 [==============================] - ETA: 0s - loss: 0.0511 - accuracy: 0.9803\n",
            "Epoch 17: val_accuracy did not improve from 0.98598\n",
            "384/384 [==============================] - 98s 255ms/step - loss: 0.0511 - accuracy: 0.9803 - val_loss: 0.0425 - val_accuracy: 0.9854 - lr: 1.0000e-04\n",
            "Epoch 18/100\n",
            "384/384 [==============================] - ETA: 0s - loss: 0.0506 - accuracy: 0.9810\n",
            "Epoch 18: val_accuracy did not improve from 0.98598\n",
            "384/384 [==============================] - 100s 259ms/step - loss: 0.0506 - accuracy: 0.9810 - val_loss: 0.0636 - val_accuracy: 0.9795 - lr: 1.0000e-04\n",
            "Epoch 19/100\n",
            "384/384 [==============================] - ETA: 0s - loss: 0.0498 - accuracy: 0.9810\n",
            "Epoch 19: val_accuracy did not improve from 0.98598\n",
            "\n",
            "Epoch 19: ReduceLROnPlateau reducing learning rate to 1.0000000474974514e-05.\n",
            "384/384 [==============================] - 93s 241ms/step - loss: 0.0498 - accuracy: 0.9810 - val_loss: 0.0826 - val_accuracy: 0.9747 - lr: 1.0000e-04\n",
            "Epoch 20/100\n",
            "384/384 [==============================] - ETA: 0s - loss: 0.0448 - accuracy: 0.9841\n",
            "Epoch 20: val_accuracy did not improve from 0.98598\n",
            "384/384 [==============================] - 85s 222ms/step - loss: 0.0448 - accuracy: 0.9841 - val_loss: 0.0533 - val_accuracy: 0.9833 - lr: 1.0000e-05\n",
            "Epoch 21/100\n",
            "384/384 [==============================] - ETA: 0s - loss: 0.0446 - accuracy: 0.9840\n",
            "Epoch 21: val_accuracy did not improve from 0.98598\n",
            "384/384 [==============================] - 86s 225ms/step - loss: 0.0446 - accuracy: 0.9840 - val_loss: 0.0464 - val_accuracy: 0.9854 - lr: 1.0000e-05\n",
            "Epoch 22/100\n",
            "384/384 [==============================] - ETA: 0s - loss: 0.0445 - accuracy: 0.9828\n",
            "Epoch 22: val_accuracy did not improve from 0.98598\n",
            "384/384 [==============================] - 89s 233ms/step - loss: 0.0445 - accuracy: 0.9828 - val_loss: 0.0451 - val_accuracy: 0.9854 - lr: 1.0000e-05\n",
            "Epoch 23/100\n",
            "384/384 [==============================] - ETA: 0s - loss: 0.0438 - accuracy: 0.9847\n",
            "Epoch 23: val_accuracy did not improve from 0.98598\n",
            "384/384 [==============================] - 88s 229ms/step - loss: 0.0438 - accuracy: 0.9847 - val_loss: 0.0466 - val_accuracy: 0.9854 - lr: 1.0000e-05\n",
            "Epoch 24/100\n",
            "384/384 [==============================] - ETA: 0s - loss: 0.0419 - accuracy: 0.9854\n",
            "Epoch 24: val_accuracy did not improve from 0.98598\n",
            "\n",
            "Epoch 24: ReduceLROnPlateau reducing learning rate to 1.0000000656873453e-06.\n",
            "384/384 [==============================] - 92s 239ms/step - loss: 0.0419 - accuracy: 0.9854 - val_loss: 0.0446 - val_accuracy: 0.9854 - lr: 1.0000e-05\n",
            "Epoch 25/100\n",
            "384/384 [==============================] - ETA: 0s - loss: 0.0400 - accuracy: 0.9859\n",
            "Epoch 25: val_accuracy improved from 0.98598 to 0.98652, saving model to Corn_DenseNet_model2_Based_Augmented\n"
          ]
        },
        {
          "name": "stderr",
          "output_type": "stream",
          "text": [
            "WARNING:absl:Found untraced functions such as _jit_compiled_convolution_op, _jit_compiled_convolution_op, _jit_compiled_convolution_op, _jit_compiled_convolution_op, _jit_compiled_convolution_op while saving (showing 5 of 120). These functions will not be directly callable after loading.\n"
          ]
        },
        {
          "name": "stdout",
          "output_type": "stream",
          "text": [
            "INFO:tensorflow:Assets written to: Corn_DenseNet_model2_Based_Augmented\\assets\n"
          ]
        },
        {
          "name": "stderr",
          "output_type": "stream",
          "text": [
            "INFO:tensorflow:Assets written to: Corn_DenseNet_model2_Based_Augmented\\assets\n"
          ]
        },
        {
          "name": "stdout",
          "output_type": "stream",
          "text": [
            "384/384 [==============================] - 140s 364ms/step - loss: 0.0400 - accuracy: 0.9859 - val_loss: 0.0440 - val_accuracy: 0.9865 - lr: 1.0000e-06\n",
            "Epoch 26/100\n",
            "384/384 [==============================] - ETA: 0s - loss: 0.0425 - accuracy: 0.9836\n",
            "Epoch 26: val_accuracy did not improve from 0.98652\n",
            "384/384 [==============================] - 100s 260ms/step - loss: 0.0425 - accuracy: 0.9836 - val_loss: 0.0451 - val_accuracy: 0.9865 - lr: 1.0000e-06\n",
            "Epoch 27/100\n",
            "384/384 [==============================] - ETA: 0s - loss: 0.0447 - accuracy: 0.9850\n",
            "Epoch 27: val_accuracy did not improve from 0.98652\n",
            "384/384 [==============================] - 105s 273ms/step - loss: 0.0447 - accuracy: 0.9850 - val_loss: 0.0453 - val_accuracy: 0.9865 - lr: 1.0000e-06\n",
            "Epoch 28/100\n",
            "384/384 [==============================] - ETA: 0s - loss: 0.0421 - accuracy: 0.9836\n",
            "Epoch 28: val_accuracy did not improve from 0.98652\n",
            "384/384 [==============================] - 115s 298ms/step - loss: 0.0421 - accuracy: 0.9836 - val_loss: 0.0457 - val_accuracy: 0.9860 - lr: 1.0000e-06\n",
            "Epoch 29/100\n",
            "384/384 [==============================] - ETA: 0s - loss: 0.0422 - accuracy: 0.9847\n",
            "Epoch 29: val_accuracy did not improve from 0.98652\n",
            "\n",
            "Epoch 29: ReduceLROnPlateau reducing learning rate to 1.0000001111620805e-07.\n",
            "384/384 [==============================] - 101s 264ms/step - loss: 0.0422 - accuracy: 0.9847 - val_loss: 0.0440 - val_accuracy: 0.9865 - lr: 1.0000e-06\n",
            "Epoch 30/100\n",
            "384/384 [==============================] - ETA: 0s - loss: 0.0404 - accuracy: 0.9854\n",
            "Epoch 30: val_accuracy did not improve from 0.98652\n",
            "384/384 [==============================] - 101s 262ms/step - loss: 0.0404 - accuracy: 0.9854 - val_loss: 0.0449 - val_accuracy: 0.9854 - lr: 1.0000e-07\n",
            "Epoch 31/100\n",
            "384/384 [==============================] - ETA: 0s - loss: 0.0413 - accuracy: 0.9837\n",
            "Epoch 31: val_accuracy improved from 0.98652 to 0.98706, saving model to Corn_DenseNet_model2_Based_Augmented\n"
          ]
        },
        {
          "name": "stderr",
          "output_type": "stream",
          "text": [
            "WARNING:absl:Found untraced functions such as _jit_compiled_convolution_op, _jit_compiled_convolution_op, _jit_compiled_convolution_op, _jit_compiled_convolution_op, _jit_compiled_convolution_op while saving (showing 5 of 120). These functions will not be directly callable after loading.\n"
          ]
        },
        {
          "name": "stdout",
          "output_type": "stream",
          "text": [
            "INFO:tensorflow:Assets written to: Corn_DenseNet_model2_Based_Augmented\\assets\n"
          ]
        },
        {
          "name": "stderr",
          "output_type": "stream",
          "text": [
            "INFO:tensorflow:Assets written to: Corn_DenseNet_model2_Based_Augmented\\assets\n"
          ]
        },
        {
          "name": "stdout",
          "output_type": "stream",
          "text": [
            "384/384 [==============================] - 174s 454ms/step - loss: 0.0413 - accuracy: 0.9837 - val_loss: 0.0434 - val_accuracy: 0.9871 - lr: 1.0000e-07\n",
            "Epoch 32/100\n",
            "384/384 [==============================] - ETA: 0s - loss: 0.0414 - accuracy: 0.9836\n",
            "Epoch 32: val_accuracy did not improve from 0.98706\n",
            "384/384 [==============================] - 98s 255ms/step - loss: 0.0414 - accuracy: 0.9836 - val_loss: 0.0435 - val_accuracy: 0.9865 - lr: 1.0000e-07\n",
            "Epoch 33/100\n",
            "384/384 [==============================] - ETA: 0s - loss: 0.0410 - accuracy: 0.9843\n",
            "Epoch 33: val_accuracy did not improve from 0.98706\n",
            "384/384 [==============================] - 104s 271ms/step - loss: 0.0410 - accuracy: 0.9843 - val_loss: 0.0439 - val_accuracy: 0.9865 - lr: 1.0000e-07\n",
            "Epoch 34/100\n",
            "384/384 [==============================] - ETA: 0s - loss: 0.0376 - accuracy: 0.9856\n",
            "Epoch 34: val_accuracy did not improve from 0.98706\n",
            "\n",
            "Epoch 34: ReduceLROnPlateau reducing learning rate to 1.000000082740371e-08.\n",
            "384/384 [==============================] - 106s 275ms/step - loss: 0.0376 - accuracy: 0.9856 - val_loss: 0.0437 - val_accuracy: 0.9865 - lr: 1.0000e-07\n",
            "Epoch 35/100\n",
            "384/384 [==============================] - ETA: 0s - loss: 0.0363 - accuracy: 0.9871\n",
            "Epoch 35: val_accuracy did not improve from 0.98706\n",
            "384/384 [==============================] - 109s 283ms/step - loss: 0.0363 - accuracy: 0.9871 - val_loss: 0.0435 - val_accuracy: 0.9871 - lr: 1.0000e-08\n",
            "Epoch 36/100\n",
            "384/384 [==============================] - ETA: 0s - loss: 0.0400 - accuracy: 0.9859\n",
            "Epoch 36: val_accuracy did not improve from 0.98706\n",
            "384/384 [==============================] - 100s 259ms/step - loss: 0.0400 - accuracy: 0.9859 - val_loss: 0.0439 - val_accuracy: 0.9865 - lr: 1.0000e-08\n",
            "Epoch 37/100\n",
            "384/384 [==============================] - ETA: 0s - loss: 0.0394 - accuracy: 0.9851\n",
            "Epoch 37: val_accuracy did not improve from 0.98706\n",
            "384/384 [==============================] - 106s 275ms/step - loss: 0.0394 - accuracy: 0.9851 - val_loss: 0.0443 - val_accuracy: 0.9854 - lr: 1.0000e-08\n",
            "Epoch 38/100\n",
            "384/384 [==============================] - ETA: 0s - loss: 0.0378 - accuracy: 0.9864\n",
            "Epoch 38: val_accuracy did not improve from 0.98706\n",
            "384/384 [==============================] - 110s 286ms/step - loss: 0.0378 - accuracy: 0.9864 - val_loss: 0.0448 - val_accuracy: 0.9854 - lr: 1.0000e-08\n",
            "Epoch 39/100\n",
            "384/384 [==============================] - ETA: 0s - loss: 0.0392 - accuracy: 0.9854\n",
            "Epoch 39: val_accuracy did not improve from 0.98706\n",
            "\n",
            "Epoch 39: ReduceLROnPlateau reducing learning rate to 1.000000082740371e-09.\n",
            "384/384 [==============================] - 99s 258ms/step - loss: 0.0392 - accuracy: 0.9854 - val_loss: 0.0438 - val_accuracy: 0.9860 - lr: 1.0000e-08\n",
            "Epoch 40/100\n",
            "384/384 [==============================] - ETA: 0s - loss: 0.0412 - accuracy: 0.9840\n",
            "Epoch 40: val_accuracy did not improve from 0.98706\n",
            "384/384 [==============================] - 98s 254ms/step - loss: 0.0412 - accuracy: 0.9840 - val_loss: 0.0440 - val_accuracy: 0.9865 - lr: 1.0000e-09\n",
            "Epoch 41/100\n",
            "384/384 [==============================] - ETA: 0s - loss: 0.0408 - accuracy: 0.9837\n",
            "Epoch 41: val_accuracy did not improve from 0.98706\n",
            "384/384 [==============================] - 107s 278ms/step - loss: 0.0408 - accuracy: 0.9837 - val_loss: 0.0443 - val_accuracy: 0.9865 - lr: 1.0000e-09\n",
            "Epoch 42/100\n",
            "384/384 [==============================] - ETA: 0s - loss: 0.0379 - accuracy: 0.9849\n",
            "Epoch 42: val_accuracy did not improve from 0.98706\n",
            "384/384 [==============================] - 93s 242ms/step - loss: 0.0379 - accuracy: 0.9849 - val_loss: 0.0435 - val_accuracy: 0.9865 - lr: 1.0000e-09\n",
            "Epoch 43/100\n",
            "384/384 [==============================] - ETA: 0s - loss: 0.0428 - accuracy: 0.9836\n",
            "Epoch 43: val_accuracy did not improve from 0.98706\n",
            "384/384 [==============================] - 95s 247ms/step - loss: 0.0428 - accuracy: 0.9836 - val_loss: 0.0439 - val_accuracy: 0.9871 - lr: 1.0000e-09\n",
            "Epoch 44/100\n",
            "384/384 [==============================] - ETA: 0s - loss: 0.0396 - accuracy: 0.9858\n",
            "Epoch 44: val_accuracy did not improve from 0.98706\n",
            "\n",
            "Epoch 44: ReduceLROnPlateau reducing learning rate to 1.000000082740371e-10.\n",
            "384/384 [==============================] - 98s 254ms/step - loss: 0.0396 - accuracy: 0.9858 - val_loss: 0.0438 - val_accuracy: 0.9865 - lr: 1.0000e-09\n",
            "Epoch 45/100\n",
            "384/384 [==============================] - ETA: 0s - loss: 0.0457 - accuracy: 0.9847\n",
            "Epoch 45: val_accuracy did not improve from 0.98706\n",
            "384/384 [==============================] - 104s 271ms/step - loss: 0.0457 - accuracy: 0.9847 - val_loss: 0.0439 - val_accuracy: 0.9871 - lr: 1.0000e-10\n",
            "Epoch 46/100\n",
            "384/384 [==============================] - ETA: 0s - loss: 0.0443 - accuracy: 0.9829\n",
            "Epoch 46: val_accuracy did not improve from 0.98706\n",
            "384/384 [==============================] - 100s 260ms/step - loss: 0.0443 - accuracy: 0.9829 - val_loss: 0.0434 - val_accuracy: 0.9871 - lr: 1.0000e-10\n",
            "Epoch 47/100\n",
            "384/384 [==============================] - ETA: 0s - loss: 0.0420 - accuracy: 0.9840\n",
            "Epoch 47: val_accuracy did not improve from 0.98706\n",
            "384/384 [==============================] - 97s 252ms/step - loss: 0.0420 - accuracy: 0.9840 - val_loss: 0.0434 - val_accuracy: 0.9871 - lr: 1.0000e-10\n",
            "Epoch 48/100\n",
            "384/384 [==============================] - ETA: 0s - loss: 0.0421 - accuracy: 0.9826\n",
            "Epoch 48: val_accuracy did not improve from 0.98706\n",
            "384/384 [==============================] - 99s 256ms/step - loss: 0.0421 - accuracy: 0.9826 - val_loss: 0.0447 - val_accuracy: 0.9854 - lr: 1.0000e-10\n",
            "Epoch 49/100\n",
            "384/384 [==============================] - ETA: 0s - loss: 0.0388 - accuracy: 0.9856\n",
            "Epoch 49: val_accuracy did not improve from 0.98706\n",
            "\n",
            "Epoch 49: ReduceLROnPlateau reducing learning rate to 1.000000082740371e-11.\n",
            "384/384 [==============================] - 102s 266ms/step - loss: 0.0388 - accuracy: 0.9856 - val_loss: 0.0436 - val_accuracy: 0.9865 - lr: 1.0000e-10\n",
            "Epoch 50/100\n",
            "384/384 [==============================] - ETA: 0s - loss: 0.0406 - accuracy: 0.9871\n",
            "Epoch 50: val_accuracy did not improve from 0.98706\n",
            "384/384 [==============================] - 98s 255ms/step - loss: 0.0406 - accuracy: 0.9871 - val_loss: 0.0439 - val_accuracy: 0.9865 - lr: 1.0000e-11\n",
            "Epoch 51/100\n",
            "384/384 [==============================] - ETA: 0s - loss: 0.0444 - accuracy: 0.9851\n",
            "Epoch 51: val_accuracy did not improve from 0.98706\n",
            "Restoring model weights from the end of the best epoch: 31.\n",
            "384/384 [==============================] - 98s 255ms/step - loss: 0.0444 - accuracy: 0.9851 - val_loss: 0.0434 - val_accuracy: 0.9871 - lr: 1.0000e-11\n",
            "Epoch 51: early stopping\n"
          ]
        }
      ],
      "source": [
        "# Define the number of epochs\n",
        "num_epochs = 100\n",
        "\n",
        "# Train the model\n",
        "history_DenseNet_model_2 = DenseNet_model_2.fit(train_generator, epochs=num_epochs, validation_data=validation_generator, callbacks=callbacks)"
      ]
    },
    {
      "cell_type": "code",
      "execution_count": 16,
      "metadata": {
        "colab": {
          "base_uri": "https://localhost:8080/",
          "height": 904
        },
        "id": "3f1nmwUhU2TK",
        "outputId": "51ef43e8-17d6-4c36-f0de-a1b749831dce",
        "tags": []
      },
      "outputs": [
        {
          "data": {
            "text/plain": [
              "<matplotlib.legend.Legend at 0x1e4d3484670>"
            ]
          },
          "execution_count": 16,
          "metadata": {},
          "output_type": "execute_result"
        },
        {
          "data": {
            "image/png": "[encoded data removed]",
            "text/plain": [
              "<Figure size 640x480 with 1 Axes>"
            ]
          },
          "metadata": {},
          "output_type": "display_data"
        },
        {
          "data": {
            "image/png": "[encoded data removed]",
            "text/plain": [
              "<Figure size 640x480 with 1 Axes>"
            ]
          },
          "metadata": {},
          "output_type": "display_data"
        }
      ],
      "source": [
        "#-----------------------------------------------------------\n",
        "# Retrieve a list of list results on training and test data\n",
        "# sets for each training epoch\n",
        "#-----------------------------------------------------------\n",
        "acc      = history_DenseNet_model_2.history['accuracy' ]\n",
        "val_acc  = history_DenseNet_model_2.history['val_accuracy' ]\n",
        "loss     = history_DenseNet_model_2.history['loss' ]\n",
        "val_loss = history_DenseNet_model_2.history['val_loss' ]\n",
        "\n",
        "epochs   = range(len(acc)) # Get number of epochs\n",
        "\n",
        "#------------------------------------------------\n",
        "# Plot training and validation accuracy per epoch\n",
        "#------------------------------------------------\n",
        "plt.plot  (epochs, acc )\n",
        "plt.plot  (epochs, val_acc )\n",
        "plt.title ('Training and validation accuracy DenseNet Model 2')\n",
        "plt.legend(['train', 'val'], loc='upper left')\n",
        "plt.figure()\n",
        "\n",
        "#------------------------------------------------\n",
        "# Plot training and validation loss per epoch\n",
        "#------------------------------------------------\n",
        "plt.plot  (epochs, loss)\n",
        "plt.plot  (epochs, val_loss)\n",
        "plt.title ('Training and validation loss DenseNet Model 2')\n",
        "plt.legend(['train', 'val'], loc='upper left')"
      ]
    }
  ],
  "metadata": {
    "accelerator": "GPU",
    "colab": {
      "gpuType": "T4",
      "provenance": []
    },
    "gpuClass": "standard",
    "kernelspec": {
      "display_name": "Python 3 (ipykernel)",
      "language": "python",
      "name": "python3"
    },
    "language_info": {
      "codemirror_mode": {
        "name": "ipython",
        "version": 3
      },
      "file_extension": ".py",
      "mimetype": "text/x-python",
      "name": "python",
      "nbconvert_exporter": "python",
      "pygments_lexer": "ipython3",
      "version": "3.10.0"
    }
  },
  "nbformat": 4,
  "nbformat_minor": 0
}
