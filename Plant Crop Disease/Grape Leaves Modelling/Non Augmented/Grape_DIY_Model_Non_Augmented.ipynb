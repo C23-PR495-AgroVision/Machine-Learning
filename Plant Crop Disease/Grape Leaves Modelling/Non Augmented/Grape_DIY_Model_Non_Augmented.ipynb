{
  "cells": [
    {
      "attachments": {},
      "cell_type": "markdown",
      "metadata": {
        "id": "hO3kEcUPU2S3"
      },
      "source": [
        "# Library"
      ]
    },
    {
      "cell_type": "code",
      "execution_count": 1,
      "metadata": {
        "colab": {
          "base_uri": "https://localhost:8080/"
        },
        "id": "kczkUjsAU2S8",
        "outputId": "242bda13-5667-43de-ef16-ca9c1b75ca7e",
        "tags": []
      },
      "outputs": [
        {
          "name": "stdout",
          "output_type": "stream",
          "text": [
            "Requirement already satisfied: matplotlib in c:\\users\\hasan\\anaconda3\\envs\\tensorflow_gpu_zein\\lib\\site-packages (3.6.3)\n",
            "Requirement already satisfied: cycler>=0.10 in c:\\users\\hasan\\anaconda3\\envs\\tensorflow_gpu_zein\\lib\\site-packages (from matplotlib) (0.11.0)\n",
            "Requirement already satisfied: numpy>=1.19 in c:\\users\\hasan\\anaconda3\\envs\\tensorflow_gpu_zein\\lib\\site-packages (from matplotlib) (1.23.5)\n",
            "Requirement already satisfied: kiwisolver>=1.0.1 in c:\\users\\hasan\\anaconda3\\envs\\tensorflow_gpu_zein\\lib\\site-packages (from matplotlib) (1.4.4)\n",
            "Requirement already satisfied: packaging>=20.0 in c:\\users\\hasan\\anaconda3\\envs\\tensorflow_gpu_zein\\lib\\site-packages (from matplotlib) (23.1)\n",
            "Requirement already satisfied: pyparsing>=2.2.1 in c:\\users\\hasan\\anaconda3\\envs\\tensorflow_gpu_zein\\lib\\site-packages (from matplotlib) (3.0.9)\n",
            "Requirement already satisfied: python-dateutil>=2.7 in c:\\users\\hasan\\anaconda3\\envs\\tensorflow_gpu_zein\\lib\\site-packages (from matplotlib) (2.8.2)\n",
            "Requirement already satisfied: contourpy>=1.0.1 in c:\\users\\hasan\\anaconda3\\envs\\tensorflow_gpu_zein\\lib\\site-packages (from matplotlib) (1.0.7)\n",
            "Requirement already satisfied: fonttools>=4.22.0 in c:\\users\\hasan\\anaconda3\\envs\\tensorflow_gpu_zein\\lib\\site-packages (from matplotlib) (4.39.2)\n",
            "Requirement already satisfied: pillow>=6.2.0 in c:\\users\\hasan\\anaconda3\\envs\\tensorflow_gpu_zein\\lib\\site-packages (from matplotlib) (9.4.0)\n",
            "Requirement already satisfied: six>=1.5 in c:\\users\\hasan\\anaconda3\\envs\\tensorflow_gpu_zein\\lib\\site-packages (from python-dateutil>=2.7->matplotlib) (1.16.0)\n",
            "Note: you may need to restart the kernel to use updated packages.\n"
          ]
        },
        {
          "name": "stderr",
          "output_type": "stream",
          "text": [
            "WARNING: Ignoring invalid distribution -rotobuf (c:\\users\\hasan\\anaconda3\\envs\\tensorflow_gpu_zein\\lib\\site-packages)\n",
            "WARNING: Ignoring invalid distribution -rotobuf (c:\\users\\hasan\\anaconda3\\envs\\tensorflow_gpu_zein\\lib\\site-packages)\n",
            "WARNING: Ignoring invalid distribution -rotobuf (c:\\users\\hasan\\anaconda3\\envs\\tensorflow_gpu_zein\\lib\\site-packages)\n",
            "WARNING: Ignoring invalid distribution -rotobuf (c:\\users\\hasan\\anaconda3\\envs\\tensorflow_gpu_zein\\lib\\site-packages)\n",
            "WARNING: Ignoring invalid distribution -rotobuf (c:\\users\\hasan\\anaconda3\\envs\\tensorflow_gpu_zein\\lib\\site-packages)\n",
            "WARNING: Ignoring invalid distribution -rotobuf (c:\\users\\hasan\\anaconda3\\envs\\tensorflow_gpu_zein\\lib\\site-packages)\n"
          ]
        }
      ],
      "source": [
        "pip install matplotlib"
      ]
    },
    {
      "cell_type": "code",
      "execution_count": 2,
      "metadata": {
        "colab": {
          "base_uri": "https://localhost:8080/"
        },
        "id": "oEW3Nbu7U2S_",
        "outputId": "c0fb4b67-9e2e-420a-ea95-f9e45050d7b1",
        "tags": []
      },
      "outputs": [
        {
          "name": "stdout",
          "output_type": "stream",
          "text": [
            "Requirement already satisfied: opendatasets in c:\\users\\hasan\\anaconda3\\envs\\tensorflow_gpu_zein\\lib\\site-packages (0.1.22)\n",
            "Requirement already satisfied: tqdm in c:\\users\\hasan\\anaconda3\\envs\\tensorflow_gpu_zein\\lib\\site-packages (from opendatasets) (4.64.1)\n",
            "Requirement already satisfied: kaggle in c:\\users\\hasan\\anaconda3\\envs\\tensorflow_gpu_zein\\lib\\site-packages (from opendatasets) (1.5.13)\n",
            "Requirement already satisfied: click in c:\\users\\hasan\\anaconda3\\envs\\tensorflow_gpu_zein\\lib\\site-packages (from opendatasets) (8.1.3)\n",
            "Requirement already satisfied: colorama in c:\\users\\hasan\\anaconda3\\envs\\tensorflow_gpu_zein\\lib\\site-packages (from click->opendatasets) (0.4.6)\n",
            "Requirement already satisfied: urllib3 in c:\\users\\hasan\\anaconda3\\envs\\tensorflow_gpu_zein\\lib\\site-packages (from kaggle->opendatasets) (1.26.15)\n",
            "Requirement already satisfied: python-slugify in c:\\users\\hasan\\anaconda3\\envs\\tensorflow_gpu_zein\\lib\\site-packages (from kaggle->opendatasets) (8.0.1)\n",
            "Requirement already satisfied: six>=1.10 in c:\\users\\hasan\\anaconda3\\envs\\tensorflow_gpu_zein\\lib\\site-packages (from kaggle->opendatasets) (1.16.0)\n",
            "Requirement already satisfied: requests in c:\\users\\hasan\\anaconda3\\envs\\tensorflow_gpu_zein\\lib\\site-packages (from kaggle->opendatasets) (2.28.2)\n",
            "Requirement already satisfied: python-dateutil in c:\\users\\hasan\\anaconda3\\envs\\tensorflow_gpu_zein\\lib\\site-packages (from kaggle->opendatasets) (2.8.2)\n",
            "Requirement already satisfied: certifi in c:\\users\\hasan\\anaconda3\\envs\\tensorflow_gpu_zein\\lib\\site-packages (from kaggle->opendatasets) (2022.12.7)\n",
            "Requirement already satisfied: text-unidecode>=1.3 in c:\\users\\hasan\\anaconda3\\envs\\tensorflow_gpu_zein\\lib\\site-packages (from python-slugify->kaggle->opendatasets) (1.3)\n",
            "Requirement already satisfied: idna<4,>=2.5 in c:\\users\\hasan\\anaconda3\\envs\\tensorflow_gpu_zein\\lib\\site-packages (from requests->kaggle->opendatasets) (3.4)\n",
            "Requirement already satisfied: charset-normalizer<4,>=2 in c:\\users\\hasan\\anaconda3\\envs\\tensorflow_gpu_zein\\lib\\site-packages (from requests->kaggle->opendatasets) (3.1.0)\n",
            "Note: you may need to restart the kernel to use updated packages.\n"
          ]
        },
        {
          "name": "stderr",
          "output_type": "stream",
          "text": [
            "WARNING: Ignoring invalid distribution -rotobuf (c:\\users\\hasan\\anaconda3\\envs\\tensorflow_gpu_zein\\lib\\site-packages)\n",
            "WARNING: Ignoring invalid distribution -rotobuf (c:\\users\\hasan\\anaconda3\\envs\\tensorflow_gpu_zein\\lib\\site-packages)\n",
            "WARNING: Ignoring invalid distribution -rotobuf (c:\\users\\hasan\\anaconda3\\envs\\tensorflow_gpu_zein\\lib\\site-packages)\n",
            "WARNING: Ignoring invalid distribution -rotobuf (c:\\users\\hasan\\anaconda3\\envs\\tensorflow_gpu_zein\\lib\\site-packages)\n",
            "WARNING: Ignoring invalid distribution -rotobuf (c:\\users\\hasan\\anaconda3\\envs\\tensorflow_gpu_zein\\lib\\site-packages)\n",
            "WARNING: Ignoring invalid distribution -rotobuf (c:\\users\\hasan\\anaconda3\\envs\\tensorflow_gpu_zein\\lib\\site-packages)\n"
          ]
        }
      ],
      "source": [
        "pip install opendatasets"
      ]
    },
    {
      "cell_type": "code",
      "execution_count": 3,
      "metadata": {
        "id": "SIHHdOB4U2TA",
        "tags": []
      },
      "outputs": [],
      "source": [
        "# Library to dataset\n",
        "import opendatasets as od\n",
        "import os\n",
        "import zipfile\n",
        "import numpy as np\n",
        "\n",
        "# Surpress Warnings\n",
        "import warnings\n",
        "warnings.filterwarnings('ignore')\n",
        "os.environ['TF_CPP_MIN_LOG_LEVEL'] = '3' \n",
        "# library visualization\n",
        "import matplotlib.pyplot as plt\n",
        "\n",
        "# Library Tensorflow\n",
        "import tensorflow as tf\n",
        "from tensorflow import keras\n",
        "from tensorflow.keras.preprocessing.image import ImageDataGenerator\n",
        "from tensorflow.keras.callbacks import ModelCheckpoint, EarlyStopping, ReduceLROnPlateau\n",
        "from tensorflow.keras.applications.densenet import DenseNet121\n",
        "from tensorflow.keras.applications.xception import Xception\n",
        "\n",
        "# Others\n",
        "import shutil\n",
        "import random"
      ]
    },
    {
      "attachments": {},
      "cell_type": "markdown",
      "metadata": {
        "id": "Dy8YkYoaU2TB"
      },
      "source": [
        "# Load dataset"
      ]
    },
    {
      "cell_type": "code",
      "execution_count": 4,
      "metadata": {
        "colab": {
          "base_uri": "https://localhost:8080/"
        },
        "id": "8ZAjREJ0U2TC",
        "outputId": "6e660af7-1726-4d83-b628-5c549769ebc6",
        "tags": []
      },
      "outputs": [
        {
          "name": "stdout",
          "output_type": "stream",
          "text": [
            "==========================Training Data====================\n",
            "Found 7335 files belonging to 4 classes.\n",
            "==========================Validation Data====================\n",
            "Found 1825 files belonging to 4 classes.\n"
          ]
        }
      ],
      "source": [
        "# Load dataset\n",
        "print(\"==========================Training Data====================\")\n",
        "train_data = tf.keras.preprocessing.image_dataset_from_directory(\n",
        "    \"Dataset/grape/train\",\n",
        "    label_mode=\"categorical\",\n",
        "    class_names=['Grape Esca (Black_Measles)','Grape Leaf blight (Isariopsis_Leaf_Spot)','grape leaf Healthy','grape leaf black rot'],\n",
        "    color_mode=\"rgb\",\n",
        "    batch_size=1,\n",
        "    image_size=(256, 256),\n",
        "    shuffle=True,\n",
        "    seed=123\n",
        ")\n",
        "print(\"==========================Validation Data====================\")\n",
        "val_data = tf.keras.preprocessing.image_dataset_from_directory(\n",
        "    \"Dataset/grape/valid\",\n",
        "    label_mode=\"categorical\",\n",
        "    class_names=['Grape Esca (Black_Measles)','Grape Leaf blight (Isariopsis_Leaf_Spot)','grape leaf Healthy','grape leaf black rot'],\n",
        "    color_mode=\"rgb\",\n",
        "    batch_size=1,\n",
        "    image_size=(256, 256),\n",
        "    shuffle=True,\n",
        "    seed=123\n",
        ")"
      ]
    },
    {
      "cell_type": "code",
      "execution_count": 5,
      "metadata": {
        "colab": {
          "base_uri": "https://localhost:8080/"
        },
        "id": "vEPzd1egU2TD",
        "outputId": "2660011f-8faa-4d11-f044-25a0f5bab50b",
        "tags": []
      },
      "outputs": [
        {
          "name": "stdout",
          "output_type": "stream",
          "text": [
            "Found 7335 images belonging to 4 classes.\n",
            "Found 1825 images belonging to 4 classes.\n"
          ]
        }
      ],
      "source": [
        "# All images will be rescaled by 1./255.\n",
        "train_datagen = ImageDataGenerator(rescale = 1.0/256.)\n",
        "test_datagen  = ImageDataGenerator(rescale = 1.0/256.)\n",
        "\n",
        "# --------------------\n",
        "# Flow training images in batches of 20 using train_datagen generator\n",
        "# --------------------\n",
        "train_generator = train_datagen.flow_from_directory(\"Dataset/grape/train\",\n",
        "                                                    batch_size=20,\n",
        "                                                    class_mode='categorical',\n",
        "                                                    target_size=(224, 224))     \n",
        "# --------------------\n",
        "# Flow validation images in batches of 20 using test_datagen generator\n",
        "# --------------------\n",
        "validation_generator =  test_datagen.flow_from_directory(\"Dataset/grape/valid\",\n",
        "                                                         batch_size=20,\n",
        "                                                         class_mode  = 'categorical',\n",
        "                                                         target_size = (224, 224))"
      ]
    },
    {
      "attachments": {},
      "cell_type": "markdown",
      "metadata": {
        "id": "_3jaO5YgU2TE"
      },
      "source": [
        "# List Resource"
      ]
    },
    {
      "cell_type": "code",
      "execution_count": 6,
      "metadata": {
        "colab": {
          "base_uri": "https://localhost:8080/"
        },
        "id": "SGemCaxnU2TF",
        "outputId": "3cb5ae1c-8011-4cd5-b115-911054905733",
        "tags": []
      },
      "outputs": [
        {
          "name": "stdout",
          "output_type": "stream",
          "text": [
            "Thu May 25 12:05:44 2023       \n",
            "+---------------------------------------------------------------------------------------+\n",
            "| NVIDIA-SMI 531.79                 Driver Version: 531.79       CUDA Version: 12.1     |\n",
            "|-----------------------------------------+----------------------+----------------------+\n",
            "| GPU  Name                      TCC/WDDM | Bus-Id        Disp.A | Volatile Uncorr. ECC |\n",
            "| Fan  Temp  Perf            Pwr:Usage/Cap|         Memory-Usage | GPU-Util  Compute M. |\n",
            "|                                         |                      |               MIG M. |\n",
            "|=========================================+======================+======================|\n",
            "|   0  NVIDIA GeForce RTX 3060 L...  WDDM | 00000000:01:00.0  On |                  N/A |\n",
            "| N/A   54C    P0               39W /  N/A|   4683MiB /  6144MiB |      2%      Default |\n",
            "|                                         |                      |                  N/A |\n",
            "+-----------------------------------------+----------------------+----------------------+\n",
            "                                                                                         \n",
            "+---------------------------------------------------------------------------------------+\n",
            "| Processes:                                                                            |\n",
            "|  GPU   GI   CI        PID   Type   Process name                            GPU Memory |\n",
            "|        ID   ID                                                             Usage      |\n",
            "|=======================================================================================|\n",
            "|    0   N/A  N/A      4176    C+G   ...les\\AMD\\CNext\\CNext\\AMDRSSrcExt.exe    N/A      |\n",
            "|    0   N/A  N/A      6056    C+G   ...Programs\\Microsoft VS Code\\Code.exe    N/A      |\n",
            "|    0   N/A  N/A      6300    C+G   ...16.0_x86__zpdnekdrzrea0\\Spotify.exe    N/A      |\n",
            "|    0   N/A  N/A      9816    C+G   C:\\WINDOWS\\explorer.exe                   N/A      |\n",
            "|    0   N/A  N/A     10328    C+G   ...nt.CBS_cw5n1h2txyewy\\SearchHost.exe    N/A      |\n",
            "|    0   N/A  N/A     10532    C+G   ...2txyewy\\StartMenuExperienceHost.exe    N/A      |\n",
            "|    0   N/A  N/A     13880    C+G   ...x64__qmba6cd70vzyy\\ArmouryCrate.exe    N/A      |\n",
            "|    0   N/A  N/A     14756    C+G   ...t.LockApp_cw5n1h2txyewy\\LockApp.exe    N/A      |\n",
            "|    0   N/A  N/A     16160    C+G   ...ekyb3d8bbwe\\PhoneExperienceHost.exe    N/A      |\n",
            "|    0   N/A  N/A     17876    C+G   ...GeForce Experience\\NVIDIA Share.exe    N/A      |\n",
            "|    0   N/A  N/A     18428    C+G   ...2.0_x64__cv1g1gvanyjgm\\WhatsApp.exe    N/A      |\n",
            "|    0   N/A  N/A     18580    C+G   ...les\\Microsoft OneDrive\\OneDrive.exe    N/A      |\n",
            "|    0   N/A  N/A     19448    C+G   ...les\\Microsoft OneDrive\\OneDrive.exe    N/A      |\n",
            "|    0   N/A  N/A     19780    C+G   ...64__v826wp6bftszj\\TranslucentTB.exe    N/A      |\n",
            "|    0   N/A  N/A     20296    C+G   ...\\AMD\\CNext\\CNext\\RadeonSoftware.exe    N/A      |\n",
            "|    0   N/A  N/A     20672    C+G   ...siveControlPanel\\SystemSettings.exe    N/A      |\n",
            "|    0   N/A  N/A     21868    C+G   ...5n1h2txyewy\\ShellExperienceHost.exe    N/A      |\n",
            "|    0   N/A  N/A     22216    C+G   ...1.0_x64__8wekyb3d8bbwe\\Video.UI.exe    N/A      |\n",
            "|    0   N/A  N/A     22316    C+G   ...on\\113.0.1774.50\\msedgewebview2.exe    N/A      |\n",
            "|    0   N/A  N/A     24744    C+G   ...oogle\\Chrome\\Application\\chrome.exe    N/A      |\n",
            "|    0   N/A  N/A     25080      C   ...envs\\tensorflow_gpu_zein\\python.exe    N/A      |\n",
            "|    0   N/A  N/A     26596    C+G   ...1.0_x64__t4vj0pshhgkwm\\Telegram.exe    N/A      |\n",
            "+---------------------------------------------------------------------------------------+\n"
          ]
        }
      ],
      "source": [
        "# Check GPU\n",
        "!nvidia-smi"
      ]
    },
    {
      "cell_type": "code",
      "execution_count": 7,
      "metadata": {
        "colab": {
          "base_uri": "https://localhost:8080/"
        },
        "id": "FSapZ74PU2TF",
        "outputId": "546371ee-fff4-4e07-c541-ba831ff81168",
        "tags": []
      },
      "outputs": [
        {
          "data": {
            "text/plain": [
              "[PhysicalDevice(name='/physical_device:GPU:0', device_type='GPU')]"
            ]
          },
          "execution_count": 7,
          "metadata": {},
          "output_type": "execute_result"
        }
      ],
      "source": [
        "# Lis physical devices\n",
        "devices = tf.config.experimental.list_physical_devices(\"GPU\")\n",
        "devices"
      ]
    },
    {
      "cell_type": "code",
      "execution_count": 8,
      "metadata": {
        "id": "A8WtBtBaU2TG",
        "tags": []
      },
      "outputs": [
        {
          "name": "stdout",
          "output_type": "stream",
          "text": [
            "INFO:tensorflow:Using MirroredStrategy with devices ('/job:localhost/replica:0/task:0/device:GPU:0',)\n"
          ]
        }
      ],
      "source": [
        "# Define the GPU strategy\n",
        "mirrored_strategy = tf.distribute.MirroredStrategy(devices=[\"/gpu:0\"])"
      ]
    },
    {
      "attachments": {},
      "cell_type": "markdown",
      "metadata": {
        "id": "Vqr_uGTNU2TG"
      },
      "source": [
        "# Modelling Without Augmentation"
      ]
    },
    {
      "attachments": {},
      "cell_type": "markdown",
      "metadata": {
        "id": "w4Wzh6ZyU2TH"
      },
      "source": [
        "## DIY Model 1"
      ]
    },
    {
      "cell_type": "code",
      "execution_count": 9,
      "metadata": {
        "id": "uUqYGBfRU2TH",
        "tags": []
      },
      "outputs": [],
      "source": [
        "# Difine the callbacks\n",
        "# Save the best model\n",
        "checkpoint_callback = ModelCheckpoint(filepath=\"Grape_DIY_model1_Based_Non_Augmented\", save_best_only=True, monitor=\"val_accuracy\", mode=\"max\", verbose=1)\n",
        "\n",
        "# Early stopping\n",
        "early_stopping_callback = EarlyStopping(monitor=\"val_accuracy\", mode=\"max\", patience=20, verbose=1, restore_best_weights=True)\n",
        "\n",
        "# Reduce learning rate\n",
        "reduce_lr_callback = ReduceLROnPlateau(monitor=\"val_loss\", factor=0.1, patience=5, verbose=1, mode=\"min\", min_delta=0.0001, cooldown=0, min_lr=0)\n",
        "\n",
        "# Callbacks list\n",
        "callbacks=[checkpoint_callback, early_stopping_callback, reduce_lr_callback]"
      ]
    },
    {
      "cell_type": "code",
      "execution_count": 10,
      "metadata": {
        "colab": {
          "base_uri": "https://localhost:8080/"
        },
        "id": "BQHFs3gSU2TI",
        "outputId": "cb49c111-5906-44e3-9433-eda545873534",
        "tags": []
      },
      "outputs": [
        {
          "name": "stdout",
          "output_type": "stream",
          "text": [
            "Model: \"sequential\"\n",
            "_________________________________________________________________\n",
            " Layer (type)                Output Shape              Param #   \n",
            "=================================================================\n",
            " conv2d (Conv2D)             (None, 222, 222, 32)      896       \n",
            "                                                                 \n",
            " max_pooling2d (MaxPooling2D  (None, 111, 111, 32)     0         \n",
            " )                                                               \n",
            "                                                                 \n",
            " conv2d_1 (Conv2D)           (None, 109, 109, 64)      18496     \n",
            "                                                                 \n",
            " max_pooling2d_1 (MaxPooling  (None, 54, 54, 64)       0         \n",
            " 2D)                                                             \n",
            "                                                                 \n",
            " conv2d_2 (Conv2D)           (None, 52, 52, 128)       73856     \n",
            "                                                                 \n",
            " max_pooling2d_2 (MaxPooling  (None, 26, 26, 128)      0         \n",
            " 2D)                                                             \n",
            "                                                                 \n",
            " flatten (Flatten)           (None, 86528)             0         \n",
            "                                                                 \n",
            " dense (Dense)               (None, 512)               44302848  \n",
            "                                                                 \n",
            " dropout (Dropout)           (None, 512)               0         \n",
            "                                                                 \n",
            " dense_1 (Dense)             (None, 256)               131328    \n",
            "                                                                 \n",
            " dense_2 (Dense)             (None, 4)                 1028      \n",
            "                                                                 \n",
            "=================================================================\n",
            "Total params: 44,528,452\n",
            "Trainable params: 44,528,452\n",
            "Non-trainable params: 0\n",
            "_________________________________________________________________\n"
          ]
        }
      ],
      "source": [
        "# Define DIY Model\n",
        "DIY_model = tf.keras.models.Sequential([\n",
        "    # Convolutional Layers with 32 filters\n",
        "    tf.keras.layers.Conv2D(32, (3,3), activation='relu', input_shape=(224, 224, 3)),\n",
        "    # MaxPooling Layer\n",
        "    tf.keras.layers.MaxPooling2D(2,2),\n",
        "    # Convolutional Layers with 64 filters\n",
        "    tf.keras.layers.Conv2D(64, (3,3), activation='relu'),\n",
        "    # MaxPooling Layer\n",
        "    tf.keras.layers.MaxPooling2D(2,2),  \n",
        "    # Convolutional Layers with 128 filters\n",
        "    tf.keras.layers.Conv2D(128, (3,3), activation='relu'), \n",
        "    # MaxPooling Layer\n",
        "    tf.keras.layers.MaxPooling2D(2,2),  \n",
        "    # Flatten the results to feed into a DNN\n",
        "    tf.keras.layers.Flatten(),\n",
        "    # 512 neuron hidden layer\n",
        "    tf.keras.layers.Dense(512, activation='relu'),\n",
        "    # Drop Out Layer\n",
        "    tf.keras.layers.Dropout(0.2),\n",
        "    # 256 neuron hidden layer\n",
        "    tf.keras.layers.Dense(256, activation='relu'),\n",
        "    # Output\n",
        "    tf.keras.layers.Dense(4, activation='softmax') \n",
        "  ])\n",
        "\n",
        "\n",
        "# Compile Model\n",
        "DIY_model.compile(loss='categorical_crossentropy',optimizer=tf.keras.optimizers.Adam(), metrics=['accuracy']) \n",
        "\n",
        "# Model Summary\n",
        "DIY_model.summary()"
      ]
    },
    {
      "cell_type": "code",
      "execution_count": 11,
      "metadata": {
        "colab": {
          "base_uri": "https://localhost:8080/"
        },
        "id": "6coN3TKhU2TI",
        "outputId": "93bdc2ce-549b-4c9d-dade-40d6db14b980",
        "tags": []
      },
      "outputs": [
        {
          "name": "stdout",
          "output_type": "stream",
          "text": [
            "Epoch 1/100\n",
            "367/367 [==============================] - ETA: 0s - loss: 0.5003 - accuracy: 0.8180\n",
            "Epoch 1: val_accuracy improved from -inf to 0.93425, saving model to Grape_DIY_model1_Based_Non_Augmented\n"
          ]
        },
        {
          "name": "stderr",
          "output_type": "stream",
          "text": [
            "WARNING:absl:Found untraced functions such as _jit_compiled_convolution_op, _jit_compiled_convolution_op, _jit_compiled_convolution_op while saving (showing 3 of 3). These functions will not be directly callable after loading.\n"
          ]
        },
        {
          "name": "stdout",
          "output_type": "stream",
          "text": [
            "INFO:tensorflow:Assets written to: Grape_DIY_model1_Based_Non_Augmented\\assets\n"
          ]
        },
        {
          "name": "stderr",
          "output_type": "stream",
          "text": [
            "INFO:tensorflow:Assets written to: Grape_DIY_model1_Based_Non_Augmented\\assets\n"
          ]
        },
        {
          "name": "stdout",
          "output_type": "stream",
          "text": [
            "367/367 [==============================] - 60s 153ms/step - loss: 0.5003 - accuracy: 0.8180 - val_loss: 0.1764 - val_accuracy: 0.9342 - lr: 0.0010\n",
            "Epoch 2/100\n",
            "367/367 [==============================] - ETA: 0s - loss: 0.1551 - accuracy: 0.9448\n",
            "Epoch 2: val_accuracy improved from 0.93425 to 0.94521, saving model to Grape_DIY_model1_Based_Non_Augmented\n"
          ]
        },
        {
          "name": "stderr",
          "output_type": "stream",
          "text": [
            "WARNING:absl:Found untraced functions such as _jit_compiled_convolution_op, _jit_compiled_convolution_op, _jit_compiled_convolution_op while saving (showing 3 of 3). These functions will not be directly callable after loading.\n"
          ]
        },
        {
          "name": "stdout",
          "output_type": "stream",
          "text": [
            "INFO:tensorflow:Assets written to: Grape_DIY_model1_Based_Non_Augmented\\assets\n"
          ]
        },
        {
          "name": "stderr",
          "output_type": "stream",
          "text": [
            "INFO:tensorflow:Assets written to: Grape_DIY_model1_Based_Non_Augmented\\assets\n"
          ]
        },
        {
          "name": "stdout",
          "output_type": "stream",
          "text": [
            "367/367 [==============================] - 17s 45ms/step - loss: 0.1551 - accuracy: 0.9448 - val_loss: 0.1516 - val_accuracy: 0.9452 - lr: 0.0010\n",
            "Epoch 3/100\n",
            "366/367 [============================>.] - ETA: 0s - loss: 0.1152 - accuracy: 0.9605\n",
            "Epoch 3: val_accuracy did not improve from 0.94521\n",
            "367/367 [==============================] - 14s 39ms/step - loss: 0.1149 - accuracy: 0.9606 - val_loss: 0.2830 - val_accuracy: 0.9112 - lr: 0.0010\n",
            "Epoch 4/100\n",
            "367/367 [==============================] - ETA: 0s - loss: 0.0906 - accuracy: 0.9689\n",
            "Epoch 4: val_accuracy improved from 0.94521 to 0.96384, saving model to Grape_DIY_model1_Based_Non_Augmented\n"
          ]
        },
        {
          "name": "stderr",
          "output_type": "stream",
          "text": [
            "WARNING:absl:Found untraced functions such as _jit_compiled_convolution_op, _jit_compiled_convolution_op, _jit_compiled_convolution_op while saving (showing 3 of 3). These functions will not be directly callable after loading.\n"
          ]
        },
        {
          "name": "stdout",
          "output_type": "stream",
          "text": [
            "INFO:tensorflow:Assets written to: Grape_DIY_model1_Based_Non_Augmented\\assets\n"
          ]
        },
        {
          "name": "stderr",
          "output_type": "stream",
          "text": [
            "INFO:tensorflow:Assets written to: Grape_DIY_model1_Based_Non_Augmented\\assets\n"
          ]
        },
        {
          "name": "stdout",
          "output_type": "stream",
          "text": [
            "367/367 [==============================] - 17s 46ms/step - loss: 0.0906 - accuracy: 0.9689 - val_loss: 0.1300 - val_accuracy: 0.9638 - lr: 0.0010\n",
            "Epoch 5/100\n",
            "366/367 [============================>.] - ETA: 0s - loss: 0.0471 - accuracy: 0.9835\n",
            "Epoch 5: val_accuracy did not improve from 0.96384\n",
            "367/367 [==============================] - 15s 40ms/step - loss: 0.0470 - accuracy: 0.9835 - val_loss: 0.2177 - val_accuracy: 0.9244 - lr: 0.0010\n",
            "Epoch 6/100\n",
            "366/367 [============================>.] - ETA: 0s - loss: 0.0307 - accuracy: 0.9889\n",
            "Epoch 6: val_accuracy improved from 0.96384 to 0.97644, saving model to Grape_DIY_model1_Based_Non_Augmented\n"
          ]
        },
        {
          "name": "stderr",
          "output_type": "stream",
          "text": [
            "WARNING:absl:Found untraced functions such as _jit_compiled_convolution_op, _jit_compiled_convolution_op, _jit_compiled_convolution_op while saving (showing 3 of 3). These functions will not be directly callable after loading.\n"
          ]
        },
        {
          "name": "stdout",
          "output_type": "stream",
          "text": [
            "INFO:tensorflow:Assets written to: Grape_DIY_model1_Based_Non_Augmented\\assets\n"
          ]
        },
        {
          "name": "stderr",
          "output_type": "stream",
          "text": [
            "INFO:tensorflow:Assets written to: Grape_DIY_model1_Based_Non_Augmented\\assets\n"
          ]
        },
        {
          "name": "stdout",
          "output_type": "stream",
          "text": [
            "367/367 [==============================] - 17s 47ms/step - loss: 0.0307 - accuracy: 0.9888 - val_loss: 0.0806 - val_accuracy: 0.9764 - lr: 0.0010\n",
            "Epoch 7/100\n",
            "367/367 [==============================] - ETA: 0s - loss: 0.0263 - accuracy: 0.9918\n",
            "Epoch 7: val_accuracy improved from 0.97644 to 0.97973, saving model to Grape_DIY_model1_Based_Non_Augmented\n"
          ]
        },
        {
          "name": "stderr",
          "output_type": "stream",
          "text": [
            "WARNING:absl:Found untraced functions such as _jit_compiled_convolution_op, _jit_compiled_convolution_op, _jit_compiled_convolution_op while saving (showing 3 of 3). These functions will not be directly callable after loading.\n"
          ]
        },
        {
          "name": "stdout",
          "output_type": "stream",
          "text": [
            "INFO:tensorflow:Assets written to: Grape_DIY_model1_Based_Non_Augmented\\assets\n"
          ]
        },
        {
          "name": "stderr",
          "output_type": "stream",
          "text": [
            "INFO:tensorflow:Assets written to: Grape_DIY_model1_Based_Non_Augmented\\assets\n"
          ]
        },
        {
          "name": "stdout",
          "output_type": "stream",
          "text": [
            "367/367 [==============================] - 18s 50ms/step - loss: 0.0263 - accuracy: 0.9918 - val_loss: 0.1027 - val_accuracy: 0.9797 - lr: 0.0010\n",
            "Epoch 8/100\n",
            "366/367 [============================>.] - ETA: 0s - loss: 0.0101 - accuracy: 0.9969\n",
            "Epoch 8: val_accuracy did not improve from 0.97973\n",
            "367/367 [==============================] - 15s 42ms/step - loss: 0.0101 - accuracy: 0.9969 - val_loss: 0.1342 - val_accuracy: 0.9732 - lr: 0.0010\n",
            "Epoch 9/100\n",
            "367/367 [==============================] - ETA: 0s - loss: 0.0361 - accuracy: 0.9892\n",
            "Epoch 9: val_accuracy did not improve from 0.97973\n",
            "367/367 [==============================] - 15s 41ms/step - loss: 0.0361 - accuracy: 0.9892 - val_loss: 0.1192 - val_accuracy: 0.9704 - lr: 0.0010\n",
            "Epoch 10/100\n",
            "366/367 [============================>.] - ETA: 0s - loss: 0.0360 - accuracy: 0.9889\n",
            "Epoch 10: val_accuracy did not improve from 0.97973\n",
            "367/367 [==============================] - 15s 41ms/step - loss: 0.0360 - accuracy: 0.9888 - val_loss: 0.1608 - val_accuracy: 0.9638 - lr: 0.0010\n",
            "Epoch 11/100\n",
            "367/367 [==============================] - ETA: 0s - loss: 0.0261 - accuracy: 0.9914\n",
            "Epoch 11: val_accuracy did not improve from 0.97973\n",
            "\n",
            "Epoch 11: ReduceLROnPlateau reducing learning rate to 0.00010000000474974513.\n",
            "367/367 [==============================] - 15s 42ms/step - loss: 0.0261 - accuracy: 0.9914 - val_loss: 0.0898 - val_accuracy: 0.9797 - lr: 0.0010\n",
            "Epoch 12/100\n",
            "366/367 [============================>.] - ETA: 0s - loss: 0.0027 - accuracy: 0.9996\n",
            "Epoch 12: val_accuracy improved from 0.97973 to 0.98247, saving model to Grape_DIY_model1_Based_Non_Augmented\n"
          ]
        },
        {
          "name": "stderr",
          "output_type": "stream",
          "text": [
            "WARNING:absl:Found untraced functions such as _jit_compiled_convolution_op, _jit_compiled_convolution_op, _jit_compiled_convolution_op while saving (showing 3 of 3). These functions will not be directly callable after loading.\n"
          ]
        },
        {
          "name": "stdout",
          "output_type": "stream",
          "text": [
            "INFO:tensorflow:Assets written to: Grape_DIY_model1_Based_Non_Augmented\\assets\n"
          ]
        },
        {
          "name": "stderr",
          "output_type": "stream",
          "text": [
            "INFO:tensorflow:Assets written to: Grape_DIY_model1_Based_Non_Augmented\\assets\n"
          ]
        },
        {
          "name": "stdout",
          "output_type": "stream",
          "text": [
            "367/367 [==============================] - 18s 50ms/step - loss: 0.0027 - accuracy: 0.9996 - val_loss: 0.0840 - val_accuracy: 0.9825 - lr: 1.0000e-04\n",
            "Epoch 13/100\n",
            "366/367 [============================>.] - ETA: 0s - loss: 6.3286e-04 - accuracy: 1.0000\n",
            "Epoch 13: val_accuracy improved from 0.98247 to 0.98575, saving model to Grape_DIY_model1_Based_Non_Augmented\n"
          ]
        },
        {
          "name": "stderr",
          "output_type": "stream",
          "text": [
            "WARNING:absl:Found untraced functions such as _jit_compiled_convolution_op, _jit_compiled_convolution_op, _jit_compiled_convolution_op while saving (showing 3 of 3). These functions will not be directly callable after loading.\n"
          ]
        },
        {
          "name": "stdout",
          "output_type": "stream",
          "text": [
            "INFO:tensorflow:Assets written to: Grape_DIY_model1_Based_Non_Augmented\\assets\n"
          ]
        },
        {
          "name": "stderr",
          "output_type": "stream",
          "text": [
            "INFO:tensorflow:Assets written to: Grape_DIY_model1_Based_Non_Augmented\\assets\n"
          ]
        },
        {
          "name": "stdout",
          "output_type": "stream",
          "text": [
            "367/367 [==============================] - 19s 51ms/step - loss: 6.3186e-04 - accuracy: 1.0000 - val_loss: 0.0894 - val_accuracy: 0.9858 - lr: 1.0000e-04\n",
            "Epoch 14/100\n",
            "367/367 [==============================] - ETA: 0s - loss: 5.1792e-04 - accuracy: 0.9999\n",
            "Epoch 14: val_accuracy did not improve from 0.98575\n",
            "367/367 [==============================] - 15s 42ms/step - loss: 5.1792e-04 - accuracy: 0.9999 - val_loss: 0.0870 - val_accuracy: 0.9836 - lr: 1.0000e-04\n",
            "Epoch 15/100\n",
            "367/367 [==============================] - ETA: 0s - loss: 4.1948e-04 - accuracy: 0.9999\n",
            "Epoch 15: val_accuracy did not improve from 0.98575\n",
            "367/367 [==============================] - 15s 41ms/step - loss: 4.1948e-04 - accuracy: 0.9999 - val_loss: 0.0839 - val_accuracy: 0.9852 - lr: 1.0000e-04\n",
            "Epoch 16/100\n",
            "366/367 [============================>.] - ETA: 0s - loss: 3.5115e-04 - accuracy: 1.0000\n",
            "Epoch 16: val_accuracy did not improve from 0.98575\n",
            "\n",
            "Epoch 16: ReduceLROnPlateau reducing learning rate to 1.0000000474974514e-05.\n",
            "367/367 [==============================] - 15s 42ms/step - loss: 3.5029e-04 - accuracy: 1.0000 - val_loss: 0.0827 - val_accuracy: 0.9847 - lr: 1.0000e-04\n",
            "Epoch 17/100\n",
            "367/367 [==============================] - ETA: 0s - loss: 2.1337e-04 - accuracy: 1.0000\n",
            "Epoch 17: val_accuracy did not improve from 0.98575\n",
            "367/367 [==============================] - 15s 40ms/step - loss: 2.1337e-04 - accuracy: 1.0000 - val_loss: 0.0829 - val_accuracy: 0.9852 - lr: 1.0000e-05\n",
            "Epoch 18/100\n",
            "366/367 [============================>.] - ETA: 0s - loss: 1.4674e-04 - accuracy: 1.0000\n",
            "Epoch 18: val_accuracy did not improve from 0.98575\n",
            "367/367 [==============================] - 15s 41ms/step - loss: 1.4642e-04 - accuracy: 1.0000 - val_loss: 0.0836 - val_accuracy: 0.9847 - lr: 1.0000e-05\n",
            "Epoch 19/100\n",
            "367/367 [==============================] - ETA: 0s - loss: 1.4196e-04 - accuracy: 1.0000\n",
            "Epoch 19: val_accuracy did not improve from 0.98575\n",
            "367/367 [==============================] - 15s 42ms/step - loss: 1.4196e-04 - accuracy: 1.0000 - val_loss: 0.0843 - val_accuracy: 0.9847 - lr: 1.0000e-05\n",
            "Epoch 20/100\n",
            "366/367 [============================>.] - ETA: 0s - loss: 3.1998e-04 - accuracy: 0.9999\n",
            "Epoch 20: val_accuracy did not improve from 0.98575\n",
            "367/367 [==============================] - 15s 41ms/step - loss: 3.1934e-04 - accuracy: 0.9999 - val_loss: 0.0851 - val_accuracy: 0.9847 - lr: 1.0000e-05\n",
            "Epoch 21/100\n",
            "366/367 [============================>.] - ETA: 0s - loss: 2.0174e-04 - accuracy: 1.0000\n",
            "Epoch 21: val_accuracy did not improve from 0.98575\n",
            "\n",
            "Epoch 21: ReduceLROnPlateau reducing learning rate to 1.0000000656873453e-06.\n",
            "367/367 [==============================] - 15s 42ms/step - loss: 2.0119e-04 - accuracy: 1.0000 - val_loss: 0.0865 - val_accuracy: 0.9847 - lr: 1.0000e-05\n",
            "Epoch 22/100\n",
            "366/367 [============================>.] - ETA: 0s - loss: 1.9614e-04 - accuracy: 1.0000\n",
            "Epoch 22: val_accuracy did not improve from 0.98575\n",
            "367/367 [==============================] - 15s 41ms/step - loss: 1.9560e-04 - accuracy: 1.0000 - val_loss: 0.0866 - val_accuracy: 0.9847 - lr: 1.0000e-06\n",
            "Epoch 23/100\n",
            "367/367 [==============================] - ETA: 0s - loss: 1.1469e-04 - accuracy: 1.0000\n",
            "Epoch 23: val_accuracy did not improve from 0.98575\n",
            "367/367 [==============================] - 15s 41ms/step - loss: 1.1469e-04 - accuracy: 1.0000 - val_loss: 0.0867 - val_accuracy: 0.9847 - lr: 1.0000e-06\n",
            "Epoch 24/100\n",
            "367/367 [==============================] - ETA: 0s - loss: 5.4656e-04 - accuracy: 0.9999\n",
            "Epoch 24: val_accuracy did not improve from 0.98575\n",
            "367/367 [==============================] - 16s 43ms/step - loss: 5.4656e-04 - accuracy: 0.9999 - val_loss: 0.0869 - val_accuracy: 0.9852 - lr: 1.0000e-06\n",
            "Epoch 25/100\n",
            "366/367 [============================>.] - ETA: 0s - loss: 3.5532e-04 - accuracy: 0.9999\n",
            "Epoch 25: val_accuracy did not improve from 0.98575\n",
            "367/367 [==============================] - 16s 43ms/step - loss: 3.5456e-04 - accuracy: 0.9999 - val_loss: 0.0867 - val_accuracy: 0.9847 - lr: 1.0000e-06\n",
            "Epoch 26/100\n",
            "366/367 [============================>.] - ETA: 0s - loss: 1.0969e-04 - accuracy: 1.0000\n",
            "Epoch 26: val_accuracy did not improve from 0.98575\n",
            "\n",
            "Epoch 26: ReduceLROnPlateau reducing learning rate to 1.0000001111620805e-07.\n",
            "367/367 [==============================] - 16s 44ms/step - loss: 1.0939e-04 - accuracy: 1.0000 - val_loss: 0.0868 - val_accuracy: 0.9847 - lr: 1.0000e-06\n",
            "Epoch 27/100\n",
            "367/367 [==============================] - ETA: 0s - loss: 1.1537e-04 - accuracy: 1.0000\n",
            "Epoch 27: val_accuracy did not improve from 0.98575\n",
            "367/367 [==============================] - 16s 43ms/step - loss: 1.1537e-04 - accuracy: 1.0000 - val_loss: 0.0868 - val_accuracy: 0.9847 - lr: 1.0000e-07\n",
            "Epoch 28/100\n",
            "367/367 [==============================] - ETA: 0s - loss: 1.9149e-04 - accuracy: 1.0000\n",
            "Epoch 28: val_accuracy did not improve from 0.98575\n",
            "367/367 [==============================] - 16s 43ms/step - loss: 1.9149e-04 - accuracy: 1.0000 - val_loss: 0.0868 - val_accuracy: 0.9847 - lr: 1.0000e-07\n",
            "Epoch 29/100\n",
            "366/367 [============================>.] - ETA: 0s - loss: 1.0973e-04 - accuracy: 1.0000\n",
            "Epoch 29: val_accuracy did not improve from 0.98575\n",
            "367/367 [==============================] - 16s 43ms/step - loss: 1.0978e-04 - accuracy: 1.0000 - val_loss: 0.0868 - val_accuracy: 0.9847 - lr: 1.0000e-07\n",
            "Epoch 30/100\n",
            "366/367 [============================>.] - ETA: 0s - loss: 1.2319e-04 - accuracy: 1.0000\n",
            "Epoch 30: val_accuracy did not improve from 0.98575\n",
            "367/367 [==============================] - 15s 42ms/step - loss: 1.2358e-04 - accuracy: 1.0000 - val_loss: 0.0869 - val_accuracy: 0.9852 - lr: 1.0000e-07\n",
            "Epoch 31/100\n",
            "367/367 [==============================] - ETA: 0s - loss: 1.0614e-04 - accuracy: 1.0000\n",
            "Epoch 31: val_accuracy did not improve from 0.98575\n",
            "\n",
            "Epoch 31: ReduceLROnPlateau reducing learning rate to 1.000000082740371e-08.\n",
            "367/367 [==============================] - 15s 41ms/step - loss: 1.0614e-04 - accuracy: 1.0000 - val_loss: 0.0869 - val_accuracy: 0.9852 - lr: 1.0000e-07\n",
            "Epoch 32/100\n",
            "366/367 [============================>.] - ETA: 0s - loss: 4.3225e-04 - accuracy: 0.9999\n",
            "Epoch 32: val_accuracy did not improve from 0.98575\n",
            "367/367 [==============================] - 15s 42ms/step - loss: 4.3110e-04 - accuracy: 0.9999 - val_loss: 0.0869 - val_accuracy: 0.9852 - lr: 1.0000e-08\n",
            "Epoch 33/100\n",
            "367/367 [==============================] - ETA: 0s - loss: 1.2660e-04 - accuracy: 1.0000\n",
            "Epoch 33: val_accuracy did not improve from 0.98575\n",
            "Restoring model weights from the end of the best epoch: 13.\n",
            "367/367 [==============================] - 15s 41ms/step - loss: 1.2660e-04 - accuracy: 1.0000 - val_loss: 0.0869 - val_accuracy: 0.9852 - lr: 1.0000e-08\n",
            "Epoch 33: early stopping\n"
          ]
        }
      ],
      "source": [
        "# Define the number of epochs\n",
        "num_epochs = 100\n",
        "\n",
        "# Train the model\n",
        "history_DIY_model = DIY_model.fit(train_generator, epochs=num_epochs, validation_data=validation_generator, callbacks=callbacks)"
      ]
    },
    {
      "cell_type": "code",
      "execution_count": 12,
      "metadata": {
        "colab": {
          "base_uri": "https://localhost:8080/",
          "height": 904
        },
        "id": "lvS9xz3LU2TI",
        "outputId": "e2667059-fa10-4117-b353-1c2d07786457",
        "tags": []
      },
      "outputs": [
        {
          "data": {
            "text/plain": [
              "<matplotlib.legend.Legend at 0x26eef66d840>"
            ]
          },
          "execution_count": 12,
          "metadata": {},
          "output_type": "execute_result"
        },
        {
          "data": {
            "image/png": "[encoded data removed]",
            "text/plain": [
              "<Figure size 640x480 with 1 Axes>"
            ]
          },
          "metadata": {},
          "output_type": "display_data"
        },
        {
          "data": {
            "image/png": "[encoded data removed]",
            "text/plain": [
              "<Figure size 640x480 with 1 Axes>"
            ]
          },
          "metadata": {},
          "output_type": "display_data"
        }
      ],
      "source": [
        "#-----------------------------------------------------------\n",
        "# Retrieve a list of list results on training and test data\n",
        "# sets for each training epoch\n",
        "#-----------------------------------------------------------\n",
        "acc      = history_DIY_model.history['accuracy' ]\n",
        "val_acc  = history_DIY_model.history['val_accuracy' ]\n",
        "loss     = history_DIY_model.history['loss' ]\n",
        "val_loss = history_DIY_model.history['val_loss' ]\n",
        "\n",
        "epochs   = range(len(acc)) # Get number of epochs\n",
        "\n",
        "#------------------------------------------------\n",
        "# Plot training and validation accuracy per epoch\n",
        "#------------------------------------------------\n",
        "plt.plot  (epochs, acc )\n",
        "plt.plot  (epochs, val_acc )\n",
        "plt.title ('Training and validation accuracy DIY Model 1')\n",
        "plt.legend(['train', 'val'], loc='upper left')\n",
        "plt.figure()\n",
        "\n",
        "#------------------------------------------------\n",
        "# Plot training and validation loss per epoch\n",
        "#------------------------------------------------\n",
        "plt.plot  (epochs, loss)\n",
        "plt.plot  (epochs, val_loss)\n",
        "plt.title ('Training and validation loss DIY Model 1')\n",
        "plt.legend(['train', 'val'], loc='upper left')"
      ]
    },
    {
      "attachments": {},
      "cell_type": "markdown",
      "metadata": {
        "id": "SvQOR9IuU2TJ"
      },
      "source": [
        "## DIY Model 2"
      ]
    },
    {
      "cell_type": "code",
      "execution_count": 13,
      "metadata": {
        "id": "Tj7lcdvUU2TJ",
        "tags": []
      },
      "outputs": [],
      "source": [
        "# Difine the callbacks\n",
        "# Save the best model\n",
        "checkpoint_callback = ModelCheckpoint(filepath=\"Grape_DIY_model2_Based_Non_Augmented\", save_best_only=True, monitor=\"val_accuracy\", mode=\"max\", verbose=1)\n",
        "\n",
        "# Early stopping\n",
        "early_stopping_callback = EarlyStopping(monitor=\"val_accuracy\", mode=\"max\", patience=20, verbose=1, restore_best_weights=True)\n",
        "\n",
        "# Reduce learning rate\n",
        "reduce_lr_callback = ReduceLROnPlateau(monitor=\"val_loss\", factor=0.1, patience=5, verbose=1, mode=\"min\", min_delta=0.0001, cooldown=0, min_lr=0)\n",
        "\n",
        "# Callbacks list\n",
        "callbacks=[checkpoint_callback, early_stopping_callback, reduce_lr_callback]"
      ]
    },
    {
      "cell_type": "code",
      "execution_count": 14,
      "metadata": {
        "colab": {
          "base_uri": "https://localhost:8080/"
        },
        "id": "7NKPY1xGU2TJ",
        "outputId": "5eab2a44-8ba3-4e5a-c6f1-3a74ff0ec73e",
        "tags": []
      },
      "outputs": [
        {
          "name": "stdout",
          "output_type": "stream",
          "text": [
            "Model: \"sequential_1\"\n",
            "_________________________________________________________________\n",
            " Layer (type)                Output Shape              Param #   \n",
            "=================================================================\n",
            " conv2d_3 (Conv2D)           (None, 222, 222, 32)      896       \n",
            "                                                                 \n",
            " max_pooling2d_3 (MaxPooling  (None, 111, 111, 32)     0         \n",
            " 2D)                                                             \n",
            "                                                                 \n",
            " conv2d_4 (Conv2D)           (None, 109, 109, 64)      18496     \n",
            "                                                                 \n",
            " max_pooling2d_4 (MaxPooling  (None, 54, 54, 64)       0         \n",
            " 2D)                                                             \n",
            "                                                                 \n",
            " conv2d_5 (Conv2D)           (None, 52, 52, 128)       73856     \n",
            "                                                                 \n",
            " max_pooling2d_5 (MaxPooling  (None, 26, 26, 128)      0         \n",
            " 2D)                                                             \n",
            "                                                                 \n",
            " flatten_1 (Flatten)         (None, 86528)             0         \n",
            "                                                                 \n",
            " dense_3 (Dense)             (None, 1024)              88605696  \n",
            "                                                                 \n",
            " dense_4 (Dense)             (None, 512)               524800    \n",
            "                                                                 \n",
            " dropout_1 (Dropout)         (None, 512)               0         \n",
            "                                                                 \n",
            " dense_5 (Dense)             (None, 256)               131328    \n",
            "                                                                 \n",
            " dense_6 (Dense)             (None, 4)                 1028      \n",
            "                                                                 \n",
            "=================================================================\n",
            "Total params: 89,356,100\n",
            "Trainable params: 89,356,100\n",
            "Non-trainable params: 0\n",
            "_________________________________________________________________\n"
          ]
        }
      ],
      "source": [
        "# Define DIY Model\n",
        "DIY_model_2 = tf.keras.models.Sequential([\n",
        "    # Convolutional Layers with 32 filters\n",
        "    tf.keras.layers.Conv2D(32, (3,3), activation='relu', input_shape=(224, 224, 3)),\n",
        "    # MaxPooling Layer\n",
        "    tf.keras.layers.MaxPooling2D(2,2),\n",
        "    # Convolutional Layers with 64 filters\n",
        "    tf.keras.layers.Conv2D(64, (3,3), activation='relu'),\n",
        "    # MaxPooling Layer\n",
        "    tf.keras.layers.MaxPooling2D(2,2),  \n",
        "    # Convolutional Layers with 128 filters\n",
        "    tf.keras.layers.Conv2D(128, (3,3), activation='relu'), \n",
        "    # MaxPooling Layer\n",
        "    tf.keras.layers.MaxPooling2D(2,2),  \n",
        "    # Flatten the results to feed into a DNN\n",
        "    tf.keras.layers.Flatten(),\n",
        "    # 1024 neuron hidden layer\n",
        "    tf.keras.layers.Dense(1024, activation='relu'),\n",
        "    # 512 neuron hidden layer\n",
        "    tf.keras.layers.Dense(512, activation='relu'),\n",
        "    # Drop Out Layer\n",
        "    tf.keras.layers.Dropout(0.2),\n",
        "    # 256 neuron hidden layer\n",
        "    tf.keras.layers.Dense(256, activation='relu'),\n",
        "    # Output\n",
        "    tf.keras.layers.Dense(4, activation='softmax') \n",
        "  ])\n",
        "\n",
        "\n",
        "# Compile Model\n",
        "DIY_model_2.compile(loss='categorical_crossentropy',optimizer=tf.keras.optimizers.Adam(), metrics=['accuracy']) \n",
        "\n",
        "# Model Summary\n",
        "DIY_model_2.summary()"
      ]
    },
    {
      "cell_type": "code",
      "execution_count": 15,
      "metadata": {
        "colab": {
          "base_uri": "https://localhost:8080/"
        },
        "id": "6beuexC9U2TJ",
        "outputId": "bb6ce720-8666-4b98-81ea-a4a3f498e64e",
        "tags": []
      },
      "outputs": [
        {
          "name": "stdout",
          "output_type": "stream",
          "text": [
            "Epoch 1/100\n",
            "366/367 [============================>.] - ETA: 0s - loss: 0.4561 - accuracy: 0.8286\n",
            "Epoch 1: val_accuracy improved from -inf to 0.94795, saving model to Grape_DIY_model2_Based_Non_Augmented\n"
          ]
        },
        {
          "name": "stderr",
          "output_type": "stream",
          "text": [
            "WARNING:absl:Found untraced functions such as _jit_compiled_convolution_op, _jit_compiled_convolution_op, _jit_compiled_convolution_op while saving (showing 3 of 3). These functions will not be directly callable after loading.\n"
          ]
        },
        {
          "name": "stdout",
          "output_type": "stream",
          "text": [
            "INFO:tensorflow:Assets written to: Grape_DIY_model2_Based_Non_Augmented\\assets\n"
          ]
        },
        {
          "name": "stderr",
          "output_type": "stream",
          "text": [
            "INFO:tensorflow:Assets written to: Grape_DIY_model2_Based_Non_Augmented\\assets\n"
          ]
        },
        {
          "name": "stdout",
          "output_type": "stream",
          "text": [
            "367/367 [==============================] - 21s 56ms/step - loss: 0.4558 - accuracy: 0.8286 - val_loss: 0.1689 - val_accuracy: 0.9479 - lr: 0.0010\n",
            "Epoch 2/100\n",
            "367/367 [==============================] - ETA: 0s - loss: 0.1464 - accuracy: 0.9520\n",
            "Epoch 2: val_accuracy improved from 0.94795 to 0.97041, saving model to Grape_DIY_model2_Based_Non_Augmented\n"
          ]
        },
        {
          "name": "stderr",
          "output_type": "stream",
          "text": [
            "WARNING:absl:Found untraced functions such as _jit_compiled_convolution_op, _jit_compiled_convolution_op, _jit_compiled_convolution_op while saving (showing 3 of 3). These functions will not be directly callable after loading.\n"
          ]
        },
        {
          "name": "stdout",
          "output_type": "stream",
          "text": [
            "INFO:tensorflow:Assets written to: Grape_DIY_model2_Based_Non_Augmented\\assets\n"
          ]
        },
        {
          "name": "stderr",
          "output_type": "stream",
          "text": [
            "INFO:tensorflow:Assets written to: Grape_DIY_model2_Based_Non_Augmented\\assets\n"
          ]
        },
        {
          "name": "stdout",
          "output_type": "stream",
          "text": [
            "367/367 [==============================] - 20s 55ms/step - loss: 0.1464 - accuracy: 0.9520 - val_loss: 0.0978 - val_accuracy: 0.9704 - lr: 0.0010\n",
            "Epoch 3/100\n",
            "367/367 [==============================] - ETA: 0s - loss: 0.1077 - accuracy: 0.9680\n",
            "Epoch 3: val_accuracy did not improve from 0.97041\n",
            "367/367 [==============================] - 17s 46ms/step - loss: 0.1077 - accuracy: 0.9680 - val_loss: 0.1209 - val_accuracy: 0.9562 - lr: 0.0010\n",
            "Epoch 4/100\n",
            "367/367 [==============================] - ETA: 0s - loss: 0.0581 - accuracy: 0.9800\n",
            "Epoch 4: val_accuracy did not improve from 0.97041\n",
            "367/367 [==============================] - 17s 45ms/step - loss: 0.0581 - accuracy: 0.9800 - val_loss: 0.1154 - val_accuracy: 0.9551 - lr: 0.0010\n",
            "Epoch 5/100\n",
            "366/367 [============================>.] - ETA: 0s - loss: 0.0687 - accuracy: 0.9806\n",
            "Epoch 5: val_accuracy did not improve from 0.97041\n",
            "367/367 [==============================] - 17s 46ms/step - loss: 0.0686 - accuracy: 0.9806 - val_loss: 0.1436 - val_accuracy: 0.9507 - lr: 0.0010\n",
            "Epoch 6/100\n",
            "367/367 [==============================] - ETA: 0s - loss: 0.0363 - accuracy: 0.9879\n",
            "Epoch 6: val_accuracy did not improve from 0.97041\n",
            "367/367 [==============================] - 17s 46ms/step - loss: 0.0363 - accuracy: 0.9879 - val_loss: 0.1861 - val_accuracy: 0.9584 - lr: 0.0010\n",
            "Epoch 7/100\n",
            "367/367 [==============================] - ETA: 0s - loss: 0.0155 - accuracy: 0.9945\n",
            "Epoch 7: val_accuracy improved from 0.97041 to 0.97973, saving model to Grape_DIY_model2_Based_Non_Augmented\n"
          ]
        },
        {
          "name": "stderr",
          "output_type": "stream",
          "text": [
            "WARNING:absl:Found untraced functions such as _jit_compiled_convolution_op, _jit_compiled_convolution_op, _jit_compiled_convolution_op while saving (showing 3 of 3). These functions will not be directly callable after loading.\n"
          ]
        },
        {
          "name": "stdout",
          "output_type": "stream",
          "text": [
            "INFO:tensorflow:Assets written to: Grape_DIY_model2_Based_Non_Augmented\\assets\n"
          ]
        },
        {
          "name": "stderr",
          "output_type": "stream",
          "text": [
            "INFO:tensorflow:Assets written to: Grape_DIY_model2_Based_Non_Augmented\\assets\n"
          ]
        },
        {
          "name": "stdout",
          "output_type": "stream",
          "text": [
            "\n",
            "Epoch 7: ReduceLROnPlateau reducing learning rate to 0.00010000000474974513.\n",
            "367/367 [==============================] - 23s 64ms/step - loss: 0.0155 - accuracy: 0.9945 - val_loss: 0.1232 - val_accuracy: 0.9797 - lr: 0.0010\n",
            "Epoch 8/100\n",
            "366/367 [============================>.] - ETA: 0s - loss: 8.6963e-04 - accuracy: 0.9999\n",
            "Epoch 8: val_accuracy improved from 0.97973 to 0.98027, saving model to Grape_DIY_model2_Based_Non_Augmented\n"
          ]
        },
        {
          "name": "stderr",
          "output_type": "stream",
          "text": [
            "WARNING:absl:Found untraced functions such as _jit_compiled_convolution_op, _jit_compiled_convolution_op, _jit_compiled_convolution_op while saving (showing 3 of 3). These functions will not be directly callable after loading.\n"
          ]
        },
        {
          "name": "stdout",
          "output_type": "stream",
          "text": [
            "INFO:tensorflow:Assets written to: Grape_DIY_model2_Based_Non_Augmented\\assets\n"
          ]
        },
        {
          "name": "stderr",
          "output_type": "stream",
          "text": [
            "INFO:tensorflow:Assets written to: Grape_DIY_model2_Based_Non_Augmented\\assets\n"
          ]
        },
        {
          "name": "stdout",
          "output_type": "stream",
          "text": [
            "367/367 [==============================] - 24s 65ms/step - loss: 8.6751e-04 - accuracy: 0.9999 - val_loss: 0.1219 - val_accuracy: 0.9803 - lr: 1.0000e-04\n",
            "Epoch 9/100\n",
            "367/367 [==============================] - ETA: 0s - loss: 2.5979e-04 - accuracy: 1.0000\n",
            "Epoch 9: val_accuracy improved from 0.98027 to 0.98082, saving model to Grape_DIY_model2_Based_Non_Augmented\n"
          ]
        },
        {
          "name": "stderr",
          "output_type": "stream",
          "text": [
            "WARNING:absl:Found untraced functions such as _jit_compiled_convolution_op, _jit_compiled_convolution_op, _jit_compiled_convolution_op while saving (showing 3 of 3). These functions will not be directly callable after loading.\n"
          ]
        },
        {
          "name": "stdout",
          "output_type": "stream",
          "text": [
            "INFO:tensorflow:Assets written to: Grape_DIY_model2_Based_Non_Augmented\\assets\n"
          ]
        },
        {
          "name": "stderr",
          "output_type": "stream",
          "text": [
            "INFO:tensorflow:Assets written to: Grape_DIY_model2_Based_Non_Augmented\\assets\n"
          ]
        },
        {
          "name": "stdout",
          "output_type": "stream",
          "text": [
            "367/367 [==============================] - 25s 69ms/step - loss: 2.5979e-04 - accuracy: 1.0000 - val_loss: 0.1264 - val_accuracy: 0.9808 - lr: 1.0000e-04\n",
            "Epoch 10/100\n",
            "366/367 [============================>.] - ETA: 0s - loss: 1.8249e-04 - accuracy: 1.0000\n",
            "Epoch 10: val_accuracy did not improve from 0.98082\n",
            "367/367 [==============================] - 17s 46ms/step - loss: 1.8199e-04 - accuracy: 1.0000 - val_loss: 0.1281 - val_accuracy: 0.9803 - lr: 1.0000e-04\n",
            "Epoch 11/100\n",
            "367/367 [==============================] - ETA: 0s - loss: 1.2634e-04 - accuracy: 1.0000\n",
            "Epoch 11: val_accuracy improved from 0.98082 to 0.98192, saving model to Grape_DIY_model2_Based_Non_Augmented\n"
          ]
        },
        {
          "name": "stderr",
          "output_type": "stream",
          "text": [
            "WARNING:absl:Found untraced functions such as _jit_compiled_convolution_op, _jit_compiled_convolution_op, _jit_compiled_convolution_op while saving (showing 3 of 3). These functions will not be directly callable after loading.\n"
          ]
        },
        {
          "name": "stdout",
          "output_type": "stream",
          "text": [
            "INFO:tensorflow:Assets written to: Grape_DIY_model2_Based_Non_Augmented\\assets\n"
          ]
        },
        {
          "name": "stderr",
          "output_type": "stream",
          "text": [
            "INFO:tensorflow:Assets written to: Grape_DIY_model2_Based_Non_Augmented\\assets\n"
          ]
        },
        {
          "name": "stdout",
          "output_type": "stream",
          "text": [
            "367/367 [==============================] - 25s 69ms/step - loss: 1.2634e-04 - accuracy: 1.0000 - val_loss: 0.1324 - val_accuracy: 0.9819 - lr: 1.0000e-04\n",
            "Epoch 12/100\n",
            "367/367 [==============================] - ETA: 0s - loss: 7.7251e-05 - accuracy: 1.0000\n",
            "Epoch 12: val_accuracy did not improve from 0.98192\n",
            "\n",
            "Epoch 12: ReduceLROnPlateau reducing learning rate to 1.0000000474974514e-05.\n",
            "367/367 [==============================] - 17s 46ms/step - loss: 7.7251e-05 - accuracy: 1.0000 - val_loss: 0.1343 - val_accuracy: 0.9814 - lr: 1.0000e-04\n",
            "Epoch 13/100\n",
            "366/367 [============================>.] - ETA: 0s - loss: 7.5702e-05 - accuracy: 1.0000\n",
            "Epoch 13: val_accuracy did not improve from 0.98192\n",
            "367/367 [==============================] - 17s 45ms/step - loss: 7.5500e-05 - accuracy: 1.0000 - val_loss: 0.1347 - val_accuracy: 0.9814 - lr: 1.0000e-05\n",
            "Epoch 14/100\n",
            "367/367 [==============================] - ETA: 0s - loss: 8.5326e-05 - accuracy: 1.0000\n",
            "Epoch 14: val_accuracy did not improve from 0.98192\n",
            "367/367 [==============================] - 17s 46ms/step - loss: 8.5326e-05 - accuracy: 1.0000 - val_loss: 0.1351 - val_accuracy: 0.9814 - lr: 1.0000e-05\n",
            "Epoch 15/100\n",
            "367/367 [==============================] - ETA: 0s - loss: 7.3746e-05 - accuracy: 1.0000\n",
            "Epoch 15: val_accuracy did not improve from 0.98192\n",
            "367/367 [==============================] - 21s 58ms/step - loss: 7.3746e-05 - accuracy: 1.0000 - val_loss: 0.1355 - val_accuracy: 0.9814 - lr: 1.0000e-05\n",
            "Epoch 16/100\n",
            "367/367 [==============================] - ETA: 0s - loss: 6.4122e-05 - accuracy: 1.0000\n",
            "Epoch 16: val_accuracy did not improve from 0.98192\n",
            "367/367 [==============================] - 53s 144ms/step - loss: 6.4122e-05 - accuracy: 1.0000 - val_loss: 0.1360 - val_accuracy: 0.9808 - lr: 1.0000e-05\n",
            "Epoch 17/100\n",
            "367/367 [==============================] - ETA: 0s - loss: 6.6970e-05 - accuracy: 1.0000\n",
            "Epoch 17: val_accuracy did not improve from 0.98192\n",
            "\n",
            "Epoch 17: ReduceLROnPlateau reducing learning rate to 1.0000000656873453e-06.\n",
            "367/367 [==============================] - 17s 47ms/step - loss: 6.6970e-05 - accuracy: 1.0000 - val_loss: 0.1367 - val_accuracy: 0.9808 - lr: 1.0000e-05\n",
            "Epoch 18/100\n",
            "366/367 [============================>.] - ETA: 0s - loss: 6.0472e-05 - accuracy: 1.0000\n",
            "Epoch 18: val_accuracy did not improve from 0.98192\n",
            "367/367 [==============================] - 17s 47ms/step - loss: 6.0331e-05 - accuracy: 1.0000 - val_loss: 0.1368 - val_accuracy: 0.9808 - lr: 1.0000e-06\n",
            "Epoch 19/100\n",
            "366/367 [============================>.] - ETA: 0s - loss: 6.7976e-05 - accuracy: 1.0000\n",
            "Epoch 19: val_accuracy did not improve from 0.98192\n",
            "367/367 [==============================] - 17s 46ms/step - loss: 6.7805e-05 - accuracy: 1.0000 - val_loss: 0.1369 - val_accuracy: 0.9808 - lr: 1.0000e-06\n",
            "Epoch 20/100\n",
            "367/367 [==============================] - ETA: 0s - loss: 5.5835e-05 - accuracy: 1.0000\n",
            "Epoch 20: val_accuracy did not improve from 0.98192\n",
            "367/367 [==============================] - 17s 46ms/step - loss: 5.5835e-05 - accuracy: 1.0000 - val_loss: 0.1370 - val_accuracy: 0.9808 - lr: 1.0000e-06\n",
            "Epoch 21/100\n",
            "366/367 [============================>.] - ETA: 0s - loss: 6.4116e-05 - accuracy: 1.0000\n",
            "Epoch 21: val_accuracy did not improve from 0.98192\n",
            "367/367 [==============================] - 17s 46ms/step - loss: 6.3942e-05 - accuracy: 1.0000 - val_loss: 0.1369 - val_accuracy: 0.9808 - lr: 1.0000e-06\n",
            "Epoch 22/100\n",
            "367/367 [==============================] - ETA: 0s - loss: 6.3100e-05 - accuracy: 1.0000\n",
            "Epoch 22: val_accuracy did not improve from 0.98192\n",
            "\n",
            "Epoch 22: ReduceLROnPlateau reducing learning rate to 1.0000001111620805e-07.\n",
            "367/367 [==============================] - 17s 46ms/step - loss: 6.3100e-05 - accuracy: 1.0000 - val_loss: 0.1371 - val_accuracy: 0.9808 - lr: 1.0000e-06\n",
            "Epoch 23/100\n",
            "366/367 [============================>.] - ETA: 0s - loss: 6.0299e-05 - accuracy: 1.0000\n",
            "Epoch 23: val_accuracy did not improve from 0.98192\n",
            "367/367 [==============================] - 17s 46ms/step - loss: 6.0140e-05 - accuracy: 1.0000 - val_loss: 0.1371 - val_accuracy: 0.9808 - lr: 1.0000e-07\n",
            "Epoch 24/100\n",
            "367/367 [==============================] - ETA: 0s - loss: 7.2154e-05 - accuracy: 1.0000\n",
            "Epoch 24: val_accuracy did not improve from 0.98192\n",
            "367/367 [==============================] - 17s 46ms/step - loss: 7.2154e-05 - accuracy: 1.0000 - val_loss: 0.1371 - val_accuracy: 0.9808 - lr: 1.0000e-07\n",
            "Epoch 25/100\n",
            "366/367 [============================>.] - ETA: 0s - loss: 5.9223e-05 - accuracy: 1.0000\n",
            "Epoch 25: val_accuracy did not improve from 0.98192\n",
            "367/367 [==============================] - 17s 46ms/step - loss: 5.9075e-05 - accuracy: 1.0000 - val_loss: 0.1371 - val_accuracy: 0.9808 - lr: 1.0000e-07\n",
            "Epoch 26/100\n",
            "367/367 [==============================] - ETA: 0s - loss: 6.2984e-05 - accuracy: 1.0000\n",
            "Epoch 26: val_accuracy did not improve from 0.98192\n",
            "367/367 [==============================] - 17s 46ms/step - loss: 6.2984e-05 - accuracy: 1.0000 - val_loss: 0.1371 - val_accuracy: 0.9808 - lr: 1.0000e-07\n",
            "Epoch 27/100\n",
            "366/367 [============================>.] - ETA: 0s - loss: 5.9682e-05 - accuracy: 1.0000\n",
            "Epoch 27: val_accuracy did not improve from 0.98192\n",
            "\n",
            "Epoch 27: ReduceLROnPlateau reducing learning rate to 1.000000082740371e-08.\n",
            "367/367 [==============================] - 17s 46ms/step - loss: 5.9614e-05 - accuracy: 1.0000 - val_loss: 0.1371 - val_accuracy: 0.9808 - lr: 1.0000e-07\n",
            "Epoch 28/100\n",
            "367/367 [==============================] - ETA: 0s - loss: 5.4264e-05 - accuracy: 1.0000\n",
            "Epoch 28: val_accuracy did not improve from 0.98192\n",
            "367/367 [==============================] - 17s 46ms/step - loss: 5.4264e-05 - accuracy: 1.0000 - val_loss: 0.1371 - val_accuracy: 0.9808 - lr: 1.0000e-08\n",
            "Epoch 29/100\n",
            "367/367 [==============================] - ETA: 0s - loss: 6.0016e-05 - accuracy: 1.0000\n",
            "Epoch 29: val_accuracy did not improve from 0.98192\n",
            "367/367 [==============================] - 17s 46ms/step - loss: 6.0016e-05 - accuracy: 1.0000 - val_loss: 0.1371 - val_accuracy: 0.9808 - lr: 1.0000e-08\n",
            "Epoch 30/100\n",
            "367/367 [==============================] - ETA: 0s - loss: 4.8867e-05 - accuracy: 1.0000\n",
            "Epoch 30: val_accuracy did not improve from 0.98192\n",
            "367/367 [==============================] - 17s 46ms/step - loss: 4.8867e-05 - accuracy: 1.0000 - val_loss: 0.1371 - val_accuracy: 0.9808 - lr: 1.0000e-08\n",
            "Epoch 31/100\n",
            "366/367 [============================>.] - ETA: 0s - loss: 6.0757e-05 - accuracy: 1.0000\n",
            "Epoch 31: val_accuracy did not improve from 0.98192\n",
            "Restoring model weights from the end of the best epoch: 11.\n",
            "367/367 [==============================] - 17s 46ms/step - loss: 6.1408e-05 - accuracy: 1.0000 - val_loss: 0.1371 - val_accuracy: 0.9808 - lr: 1.0000e-08\n",
            "Epoch 31: early stopping\n"
          ]
        }
      ],
      "source": [
        "# Define the number of epochs\n",
        "num_epochs = 100\n",
        "\n",
        "# Train the model\n",
        "history_DIY_model_2 = DIY_model_2.fit(train_generator, epochs=num_epochs, validation_data=validation_generator, callbacks=callbacks)"
      ]
    },
    {
      "cell_type": "code",
      "execution_count": 16,
      "metadata": {
        "colab": {
          "base_uri": "https://localhost:8080/",
          "height": 904
        },
        "id": "3f1nmwUhU2TK",
        "outputId": "23817e48-0c33-4b4e-92fc-0b2d6eaf9ae3",
        "tags": []
      },
      "outputs": [
        {
          "data": {
            "text/plain": [
              "<matplotlib.legend.Legend at 0x26eef15b670>"
            ]
          },
          "execution_count": 16,
          "metadata": {},
          "output_type": "execute_result"
        },
        {
          "data": {
            "image/png": "[encoded data removed]",
            "text/plain": [
              "<Figure size 640x480 with 1 Axes>"
            ]
          },
          "metadata": {},
          "output_type": "display_data"
        },
        {
          "data": {
            "image/png": "[encoded data removed]",
            "text/plain": [
              "<Figure size 640x480 with 1 Axes>"
            ]
          },
          "metadata": {},
          "output_type": "display_data"
        }
      ],
      "source": [
        "#-----------------------------------------------------------\n",
        "# Retrieve a list of list results on training and test data\n",
        "# sets for each training epoch\n",
        "#-----------------------------------------------------------\n",
        "acc      = history_DIY_model_2.history['accuracy' ]\n",
        "val_acc  = history_DIY_model_2.history['val_accuracy' ]\n",
        "loss     = history_DIY_model_2.history['loss' ]\n",
        "val_loss = history_DIY_model_2.history['val_loss' ]\n",
        "\n",
        "epochs   = range(len(acc)) # Get number of epochs\n",
        "\n",
        "#------------------------------------------------\n",
        "# Plot training and validation accuracy per epoch\n",
        "#------------------------------------------------\n",
        "plt.plot  (epochs, acc )\n",
        "plt.plot  (epochs, val_acc )\n",
        "plt.title ('Training and validation accuracy DIY Model 2')\n",
        "plt.legend(['train', 'val'], loc='upper left')\n",
        "plt.figure()\n",
        "\n",
        "#------------------------------------------------\n",
        "# Plot training and validation loss per epoch\n",
        "#------------------------------------------------\n",
        "plt.plot  (epochs, loss)\n",
        "plt.plot  (epochs, val_loss)\n",
        "plt.title ('Training and validation loss DIY Model 2')\n",
        "plt.legend(['train', 'val'], loc='upper left')"
      ]
    }
  ],
  "metadata": {
    "accelerator": "GPU",
    "colab": {
      "gpuType": "T4",
      "provenance": []
    },
    "gpuClass": "standard",
    "kernelspec": {
      "display_name": "Python 3 (ipykernel)",
      "language": "python",
      "name": "python3"
    },
    "language_info": {
      "codemirror_mode": {
        "name": "ipython",
        "version": 3
      },
      "file_extension": ".py",
      "mimetype": "text/x-python",
      "name": "python",
      "nbconvert_exporter": "python",
      "pygments_lexer": "ipython3",
      "version": "3.10.0"
    }
  },
  "nbformat": 4,
  "nbformat_minor": 0
}
