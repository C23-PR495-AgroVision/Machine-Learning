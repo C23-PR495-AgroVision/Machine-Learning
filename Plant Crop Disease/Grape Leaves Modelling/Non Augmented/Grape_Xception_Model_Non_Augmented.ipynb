{
 "cells": [
  {
   "cell_type": "markdown",
   "metadata": {
    "id": "hO3kEcUPU2S3"
   },
   "source": [
    "# Library"
   ]
  },
  {
   "cell_type": "code",
   "execution_count": 1,
   "metadata": {
    "colab": {
     "base_uri": "https://localhost:8080/"
    },
    "id": "kczkUjsAU2S8",
    "outputId": "3e9a6139-0533-4df0-8ed2-1e1f0cb8fcc1",
    "tags": []
   },
   "outputs": [
    {
     "name": "stdout",
     "output_type": "stream",
     "text": [
      "Collecting matplotlib\n",
      "  Downloading matplotlib-3.7.1-cp38-cp38-manylinux_2_12_x86_64.manylinux2010_x86_64.whl (9.2 MB)\n",
      "\u001b[2K     \u001b[90m━━━━━━━━━━━━━━━━━━━━━━━━━━━━━━━━━━━━━━━━\u001b[0m \u001b[32m9.2/9.2 MB\u001b[0m \u001b[31m556.4 kB/s\u001b[0m eta \u001b[36m0:00:00\u001b[0m00:01\u001b[0m00:01\u001b[0m\n",
      "\u001b[?25hCollecting pyparsing>=2.3.1\n",
      "  Downloading pyparsing-3.0.9-py3-none-any.whl (98 kB)\n",
      "\u001b[2K     \u001b[90m━━━━━━━━━━━━━━━━━━━━━━━━━━━━━━━━━━━━━━━\u001b[0m \u001b[32m98.3/98.3 kB\u001b[0m \u001b[31m680.3 kB/s\u001b[0m eta \u001b[36m0:00:00\u001b[0ma \u001b[36m0:00:01\u001b[0m\n",
      "\u001b[?25hRequirement already satisfied: importlib-resources>=3.2.0 in /usr/local/lib/python3.8/dist-packages (from matplotlib) (5.12.0)\n",
      "Requirement already satisfied: python-dateutil>=2.7 in /usr/local/lib/python3.8/dist-packages (from matplotlib) (2.8.2)\n",
      "Collecting kiwisolver>=1.0.1\n",
      "  Downloading kiwisolver-1.4.4-cp38-cp38-manylinux_2_5_x86_64.manylinux1_x86_64.whl (1.2 MB)\n",
      "\u001b[2K     \u001b[90m━━━━━━━━━━━━━━━━━━━━━━━━━━━━━━━━━━━━━━━━\u001b[0m \u001b[32m1.2/1.2 MB\u001b[0m \u001b[31m601.9 kB/s\u001b[0m eta \u001b[36m0:00:00\u001b[0m00:01\u001b[0m00:01\u001b[0m\n",
      "\u001b[?25hCollecting cycler>=0.10\n",
      "  Downloading cycler-0.11.0-py3-none-any.whl (6.4 kB)\n",
      "Collecting fonttools>=4.22.0\n",
      "  Downloading fonttools-4.39.4-py3-none-any.whl (1.0 MB)\n",
      "\u001b[2K     \u001b[90m━━━━━━━━━━━━━━━━━━━━━━━━━━━━━━━━━━━━━━━━\u001b[0m \u001b[32m1.0/1.0 MB\u001b[0m \u001b[31m644.6 kB/s\u001b[0m eta \u001b[36m0:00:00\u001b[0ma \u001b[36m0:00:01\u001b[0m\n",
      "\u001b[?25hCollecting pillow>=6.2.0\n",
      "  Downloading Pillow-9.5.0-cp38-cp38-manylinux_2_28_x86_64.whl (3.4 MB)\n",
      "\u001b[2K     \u001b[90m━━━━━━━━━━━━━━━━━━━━━━━━━━━━━━━━━━━━━━━━\u001b[0m \u001b[32m3.4/3.4 MB\u001b[0m \u001b[31m598.4 kB/s\u001b[0m eta \u001b[36m0:00:00\u001b[0m00:01\u001b[0m00:01\u001b[0m\n",
      "\u001b[?25hRequirement already satisfied: packaging>=20.0 in /usr/local/lib/python3.8/dist-packages (from matplotlib) (23.0)\n",
      "Requirement already satisfied: numpy>=1.20 in /usr/local/lib/python3.8/dist-packages (from matplotlib) (1.23.5)\n",
      "Collecting contourpy>=1.0.1\n",
      "  Downloading contourpy-1.0.7-cp38-cp38-manylinux_2_17_x86_64.manylinux2014_x86_64.whl (300 kB)\n",
      "\u001b[2K     \u001b[90m━━━━━━━━━━━━━━━━━━━━━━━━━━━━━━━━━━━━━\u001b[0m \u001b[32m300.0/300.0 kB\u001b[0m \u001b[31m448.6 kB/s\u001b[0m eta \u001b[36m0:00:00\u001b[0ma \u001b[36m0:00:01\u001b[0m\n",
      "\u001b[?25hRequirement already satisfied: zipp>=3.1.0 in /usr/local/lib/python3.8/dist-packages (from importlib-resources>=3.2.0->matplotlib) (3.15.0)\n",
      "Requirement already satisfied: six>=1.5 in /usr/lib/python3/dist-packages (from python-dateutil>=2.7->matplotlib) (1.14.0)\n",
      "Installing collected packages: pyparsing, pillow, kiwisolver, fonttools, cycler, contourpy, matplotlib\n",
      "Successfully installed contourpy-1.0.7 cycler-0.11.0 fonttools-4.39.4 kiwisolver-1.4.4 matplotlib-3.7.1 pillow-9.5.0 pyparsing-3.0.9\n",
      "\u001b[33mWARNING: Running pip as the 'root' user can result in broken permissions and conflicting behaviour with the system package manager. It is recommended to use a virtual environment instead: https://pip.pypa.io/warnings/venv\u001b[0m\u001b[33m\n",
      "\u001b[0m\n",
      "\u001b[1m[\u001b[0m\u001b[34;49mnotice\u001b[0m\u001b[1;39;49m]\u001b[0m\u001b[39;49m A new release of pip is available: \u001b[0m\u001b[31;49m23.0.1\u001b[0m\u001b[39;49m -> \u001b[0m\u001b[32;49m23.1.2\u001b[0m\n",
      "\u001b[1m[\u001b[0m\u001b[34;49mnotice\u001b[0m\u001b[1;39;49m]\u001b[0m\u001b[39;49m To update, run: \u001b[0m\u001b[32;49mpython3 -m pip install --upgrade pip\u001b[0m\n",
      "Note: you may need to restart the kernel to use updated packages.\n"
     ]
    }
   ],
   "source": [
    "pip install matplotlib"
   ]
  },
  {
   "cell_type": "code",
   "execution_count": 2,
   "metadata": {
    "colab": {
     "base_uri": "https://localhost:8080/"
    },
    "id": "oEW3Nbu7U2S_",
    "outputId": "86f7578f-c579-4d0f-d78f-5c4a0376718e",
    "tags": []
   },
   "outputs": [
    {
     "name": "stdout",
     "output_type": "stream",
     "text": [
      "Collecting opendatasets\n",
      "  Downloading opendatasets-0.1.22-py3-none-any.whl (15 kB)\n",
      "Collecting tqdm\n",
      "  Downloading tqdm-4.65.0-py3-none-any.whl (77 kB)\n",
      "\u001b[2K     \u001b[90m━━━━━━━━━━━━━━━━━━━━━━━━━━━━━━━━━━━━━━━━\u001b[0m \u001b[32m77.1/77.1 kB\u001b[0m \u001b[31m1.3 MB/s\u001b[0m eta \u001b[36m0:00:00\u001b[0ma \u001b[36m0:00:01\u001b[0m\n",
      "\u001b[?25hCollecting click\n",
      "  Downloading click-8.1.3-py3-none-any.whl (96 kB)\n",
      "\u001b[2K     \u001b[90m━━━━━━━━━━━━━━━━━━━━━━━━━━━━━━━━━━━━━━━━\u001b[0m \u001b[32m96.6/96.6 kB\u001b[0m \u001b[31m5.5 MB/s\u001b[0m eta \u001b[36m0:00:00\u001b[0m\n",
      "\u001b[?25hCollecting kaggle\n",
      "  Downloading kaggle-1.5.13.tar.gz (63 kB)\n",
      "\u001b[2K     \u001b[90m━━━━━━━━━━━━━━━━━━━━━━━━━━━━━━━━━━━━━━━━\u001b[0m \u001b[32m63.3/63.3 kB\u001b[0m \u001b[31m2.2 MB/s\u001b[0m eta \u001b[36m0:00:00\u001b[0m\n",
      "\u001b[?25h  Preparing metadata (setup.py) ... \u001b[?25ldone\n",
      "\u001b[?25hRequirement already satisfied: six>=1.10 in /usr/lib/python3/dist-packages (from kaggle->opendatasets) (1.14.0)\n",
      "Requirement already satisfied: certifi in /usr/lib/python3/dist-packages (from kaggle->opendatasets) (2019.11.28)\n",
      "Requirement already satisfied: python-dateutil in /usr/local/lib/python3.8/dist-packages (from kaggle->opendatasets) (2.8.2)\n",
      "Requirement already satisfied: requests in /usr/local/lib/python3.8/dist-packages (from kaggle->opendatasets) (2.30.0)\n",
      "Collecting python-slugify\n",
      "  Downloading python_slugify-8.0.1-py2.py3-none-any.whl (9.7 kB)\n",
      "Requirement already satisfied: urllib3 in /usr/lib/python3/dist-packages (from kaggle->opendatasets) (1.25.8)\n",
      "Collecting text-unidecode>=1.3\n",
      "  Downloading text_unidecode-1.3-py2.py3-none-any.whl (78 kB)\n",
      "\u001b[2K     \u001b[90m━━━━━━━━━━━━━━━━━━━━━━━━━━━━━━━━━━━━━━━━\u001b[0m \u001b[32m78.2/78.2 kB\u001b[0m \u001b[31m3.8 MB/s\u001b[0m eta \u001b[36m0:00:00\u001b[0m\n",
      "\u001b[?25hRequirement already satisfied: charset-normalizer<4,>=2 in /usr/local/lib/python3.8/dist-packages (from requests->kaggle->opendatasets) (3.1.0)\n",
      "Requirement already satisfied: idna<4,>=2.5 in /usr/lib/python3/dist-packages (from requests->kaggle->opendatasets) (2.8)\n",
      "Building wheels for collected packages: kaggle\n",
      "  Building wheel for kaggle (setup.py) ... \u001b[?25ldone\n",
      "\u001b[?25h  Created wheel for kaggle: filename=kaggle-1.5.13-py3-none-any.whl size=77717 sha256=0184a60e4029dac7f2970576cd5bded2dd872ae34c1184d3b76bba6bed9f6128\n",
      "  Stored in directory: /root/.cache/pip/wheels/e6/8e/67/e07554a720a493dc6b39b30488590ba92ed45448ad0134d253\n",
      "Successfully built kaggle\n",
      "Installing collected packages: text-unidecode, tqdm, python-slugify, click, kaggle, opendatasets\n",
      "Successfully installed click-8.1.3 kaggle-1.5.13 opendatasets-0.1.22 python-slugify-8.0.1 text-unidecode-1.3 tqdm-4.65.0\n",
      "\u001b[33mWARNING: Running pip as the 'root' user can result in broken permissions and conflicting behaviour with the system package manager. It is recommended to use a virtual environment instead: https://pip.pypa.io/warnings/venv\u001b[0m\u001b[33m\n",
      "\u001b[0m\n",
      "\u001b[1m[\u001b[0m\u001b[34;49mnotice\u001b[0m\u001b[1;39;49m]\u001b[0m\u001b[39;49m A new release of pip is available: \u001b[0m\u001b[31;49m23.0.1\u001b[0m\u001b[39;49m -> \u001b[0m\u001b[32;49m23.1.2\u001b[0m\n",
      "\u001b[1m[\u001b[0m\u001b[34;49mnotice\u001b[0m\u001b[1;39;49m]\u001b[0m\u001b[39;49m To update, run: \u001b[0m\u001b[32;49mpython3 -m pip install --upgrade pip\u001b[0m\n",
      "Note: you may need to restart the kernel to use updated packages.\n"
     ]
    }
   ],
   "source": [
    "pip install opendatasets"
   ]
  },
  {
   "cell_type": "code",
   "execution_count": 3,
   "metadata": {
    "id": "SIHHdOB4U2TA",
    "tags": []
   },
   "outputs": [],
   "source": [
    "# Library to dataset\n",
    "import opendatasets as od\n",
    "import os\n",
    "import zipfile\n",
    "import numpy as np\n",
    "\n",
    "# Surpress Warnings\n",
    "import warnings\n",
    "warnings.filterwarnings('ignore')\n",
    "os.environ['TF_CPP_MIN_LOG_LEVEL'] = '3' \n",
    "# library visualization\n",
    "import matplotlib.pyplot as plt\n",
    "\n",
    "# Library Tensorflow\n",
    "import tensorflow as tf\n",
    "from tensorflow import keras\n",
    "from tensorflow.keras.preprocessing.image import ImageDataGenerator\n",
    "from tensorflow.keras.callbacks import ModelCheckpoint, EarlyStopping, ReduceLROnPlateau\n",
    "from tensorflow.keras.applications.densenet import DenseNet121\n",
    "from tensorflow.keras.applications.xception import Xception\n",
    "\n",
    "# Others\n",
    "import shutil\n",
    "import random"
   ]
  },
  {
   "cell_type": "markdown",
   "metadata": {
    "id": "Dy8YkYoaU2TB"
   },
   "source": [
    "# Load dataset"
   ]
  },
  {
   "cell_type": "code",
   "execution_count": 4,
   "metadata": {
    "colab": {
     "base_uri": "https://localhost:8080/"
    },
    "id": "TWOf7hZ1U2TC",
    "outputId": "2c03fd75-42cb-43e4-adcf-42b36d89e9e9",
    "tags": []
   },
   "outputs": [
    {
     "name": "stdout",
     "output_type": "stream",
     "text": [
      "Please provide your Kaggle credentials to download this dataset. Learn more: http://bit.ly/kaggle-creds\n",
      "Your Kaggle username:"
     ]
    },
    {
     "name": "stdin",
     "output_type": "stream",
     "text": [
      "  ahmadhabibhasanzein\n"
     ]
    },
    {
     "name": "stdout",
     "output_type": "stream",
     "text": [
      "Your Kaggle Key:"
     ]
    },
    {
     "name": "stdin",
     "output_type": "stream",
     "text": [
      "  ········\n"
     ]
    },
    {
     "name": "stdout",
     "output_type": "stream",
     "text": [
      "Downloading grape-leaves.zip to ./grape-leaves\n"
     ]
    },
    {
     "name": "stderr",
     "output_type": "stream",
     "text": [
      "100%|██████████| 223M/223M [00:08<00:00, 26.6MB/s] \n"
     ]
    },
    {
     "name": "stdout",
     "output_type": "stream",
     "text": [
      "\n"
     ]
    }
   ],
   "source": [
    "# Download dataset\n",
    "od.download('https://www.kaggle.com/datasets/ahmadhabibhasanzein/grape-leaves')"
   ]
  },
  {
   "cell_type": "code",
   "execution_count": 5,
   "metadata": {
    "colab": {
     "base_uri": "https://localhost:8080/"
    },
    "id": "8ZAjREJ0U2TC",
    "outputId": "cd03c3ef-5574-436e-8568-9a9949463c62",
    "tags": []
   },
   "outputs": [
    {
     "name": "stdout",
     "output_type": "stream",
     "text": [
      "==========================Training Data====================\n",
      "Found 7335 files belonging to 4 classes.\n",
      "==========================Validation Data====================\n",
      "Found 1825 files belonging to 4 classes.\n"
     ]
    }
   ],
   "source": [
    "# Load dataset\n",
    "print(\"==========================Training Data====================\")\n",
    "train_data = tf.keras.preprocessing.image_dataset_from_directory(\n",
    "    \"grape-leaves/grape/train\",\n",
    "    label_mode=\"categorical\",\n",
    "    class_names=['Grape Esca (Black_Measles)','Grape Leaf blight (Isariopsis_Leaf_Spot)','grape leaf Healthy','grape leaf black rot'],\n",
    "    color_mode=\"rgb\",\n",
    "    batch_size=1,\n",
    "    image_size=(256, 256),\n",
    "    shuffle=True,\n",
    "    seed=123\n",
    ")\n",
    "print(\"==========================Validation Data====================\")\n",
    "val_data = tf.keras.preprocessing.image_dataset_from_directory(\n",
    "    \"grape-leaves/grape/valid\",\n",
    "    label_mode=\"categorical\",\n",
    "    class_names=['Grape Esca (Black_Measles)','Grape Leaf blight (Isariopsis_Leaf_Spot)','grape leaf Healthy','grape leaf black rot'],\n",
    "    color_mode=\"rgb\",\n",
    "    batch_size=1,\n",
    "    image_size=(256, 256),\n",
    "    shuffle=True,\n",
    "    seed=123\n",
    ")"
   ]
  },
  {
   "cell_type": "code",
   "execution_count": 7,
   "metadata": {
    "colab": {
     "base_uri": "https://localhost:8080/"
    },
    "id": "vEPzd1egU2TD",
    "outputId": "3598c81d-cb60-4c8f-d666-5307e4f9622b",
    "tags": []
   },
   "outputs": [
    {
     "name": "stdout",
     "output_type": "stream",
     "text": [
      "Found 7335 images belonging to 4 classes.\n",
      "Found 1825 images belonging to 4 classes.\n"
     ]
    }
   ],
   "source": [
    "# All images will be rescaled by 1./255.and augmented\n",
    "train_datagen = ImageDataGenerator(rescale = 1.0/256.)\n",
    "\n",
    "test_datagen  = ImageDataGenerator(rescale = 1.0/256.)\n",
    "\n",
    "# --------------------\n",
    "# Flow training images in batches of 20 using train_datagen generator\n",
    "# --------------------\n",
    "train_generator = train_datagen.flow_from_directory(\"grape-leaves/grape/train\",\n",
    "                                                    batch_size=20,\n",
    "                                                    class_mode='categorical',\n",
    "                                                    target_size=(224, 224))     \n",
    "# --------------------\n",
    "# Flow validation images in batches of 20 using test_datagen generator\n",
    "# --------------------\n",
    "validation_generator =  test_datagen.flow_from_directory(\"grape-leaves/grape/valid\",\n",
    "                                                         batch_size=20,\n",
    "                                                         class_mode  = 'categorical',\n",
    "                                                         target_size = (224, 224))"
   ]
  },
  {
   "cell_type": "markdown",
   "metadata": {
    "id": "_3jaO5YgU2TE"
   },
   "source": [
    "# List Resource"
   ]
  },
  {
   "cell_type": "code",
   "execution_count": 8,
   "metadata": {
    "colab": {
     "base_uri": "https://localhost:8080/"
    },
    "id": "SGemCaxnU2TF",
    "outputId": "17ebc1f8-a915-4804-e2f6-ee40b3cc4c84",
    "tags": []
   },
   "outputs": [
    {
     "name": "stdout",
     "output_type": "stream",
     "text": [
      "Thu May 25 13:23:21 2023       \n",
      "+-----------------------------------------------------------------------------+\n",
      "| NVIDIA-SMI 525.85.05    Driver Version: 525.85.05    CUDA Version: 12.0     |\n",
      "|-------------------------------+----------------------+----------------------+\n",
      "| GPU  Name        Persistence-M| Bus-Id        Disp.A | Volatile Uncorr. ECC |\n",
      "| Fan  Temp  Perf  Pwr:Usage/Cap|         Memory-Usage | GPU-Util  Compute M. |\n",
      "|                               |                      |               MIG M. |\n",
      "|===============================+======================+======================|\n",
      "|   0  NVIDIA GeForce ...  On   | 00000000:82:00.0 Off |                  N/A |\n",
      "| 30%   30C    P2    98W / 350W |  22725MiB / 24576MiB |      0%      Default |\n",
      "|                               |                      |                  N/A |\n",
      "+-------------------------------+----------------------+----------------------+\n",
      "                                                                               \n",
      "+-----------------------------------------------------------------------------+\n",
      "| Processes:                                                                  |\n",
      "|  GPU   GI   CI        PID   Type   Process name                  GPU Memory |\n",
      "|        ID   ID                                                   Usage      |\n",
      "|=============================================================================|\n",
      "+-----------------------------------------------------------------------------+\n"
     ]
    }
   ],
   "source": [
    "# Check GPU\n",
    "!nvidia-smi"
   ]
  },
  {
   "cell_type": "code",
   "execution_count": 9,
   "metadata": {
    "colab": {
     "base_uri": "https://localhost:8080/"
    },
    "id": "FSapZ74PU2TF",
    "outputId": "0785b0d0-f469-4851-ed14-d1a764a51542",
    "tags": []
   },
   "outputs": [
    {
     "data": {
      "text/plain": [
       "[PhysicalDevice(name='/physical_device:GPU:0', device_type='GPU')]"
      ]
     },
     "execution_count": 9,
     "metadata": {},
     "output_type": "execute_result"
    }
   ],
   "source": [
    "# Lis physical devices\n",
    "devices = tf.config.experimental.list_physical_devices(\"GPU\")\n",
    "devices"
   ]
  },
  {
   "cell_type": "code",
   "execution_count": 10,
   "metadata": {
    "id": "A8WtBtBaU2TG",
    "tags": []
   },
   "outputs": [
    {
     "name": "stdout",
     "output_type": "stream",
     "text": [
      "INFO:tensorflow:Using MirroredStrategy with devices ('/job:localhost/replica:0/task:0/device:GPU:0',)\n"
     ]
    }
   ],
   "source": [
    "# Define the GPU strategy\n",
    "mirrored_strategy = tf.distribute.MirroredStrategy(devices=[\"/gpu:0\"])"
   ]
  },
  {
   "cell_type": "markdown",
   "metadata": {
    "id": "Vqr_uGTNU2TG"
   },
   "source": [
    "# Modelling Without Augmentation"
   ]
  },
  {
   "cell_type": "markdown",
   "metadata": {
    "id": "w4Wzh6ZyU2TH"
   },
   "source": [
    "## Xception Model 1"
   ]
  },
  {
   "cell_type": "code",
   "execution_count": 11,
   "metadata": {
    "id": "uUqYGBfRU2TH",
    "tags": []
   },
   "outputs": [],
   "source": [
    "# Difine the callbacks\n",
    "# Save the best model\n",
    "checkpoint_callback = ModelCheckpoint(filepath=\"Grape_Xception_model1_Based_Non_Augmented\", save_best_only=True, monitor=\"val_accuracy\", mode=\"max\", verbose=1)\n",
    "\n",
    "# Early stopping\n",
    "early_stopping_callback = EarlyStopping(monitor=\"val_accuracy\", mode=\"max\", patience=20, verbose=1, restore_best_weights=True)\n",
    "\n",
    "# Reduce learning rate\n",
    "reduce_lr_callback = ReduceLROnPlateau(monitor=\"val_loss\", factor=0.1, patience=5, verbose=1, mode=\"min\", min_delta=0.0001, cooldown=0, min_lr=0)\n",
    "\n",
    "# Callbacks list\n",
    "callbacks=[checkpoint_callback, early_stopping_callback, reduce_lr_callback]"
   ]
  },
  {
   "cell_type": "code",
   "execution_count": 12,
   "metadata": {
    "colab": {
     "base_uri": "https://localhost:8080/"
    },
    "id": "BQHFs3gSU2TI",
    "outputId": "fa41f01c-f50e-46c1-dfd4-d111acad0588",
    "tags": []
   },
   "outputs": [
    {
     "name": "stdout",
     "output_type": "stream",
     "text": [
      "Downloading data from https://storage.googleapis.com/tensorflow/keras-applications/xception/xception_weights_tf_dim_ordering_tf_kernels_notop.h5\n",
      "83683744/83683744 [==============================] - 2s 0us/step\n",
      "Model: \"sequential\"\n",
      "_________________________________________________________________\n",
      " Layer (type)                Output Shape              Param #   \n",
      "=================================================================\n",
      " xception (Functional)       (None, 7, 7, 2048)        20861480  \n",
      "                                                                 \n",
      " global_max_pooling2d (Globa  (None, 2048)             0         \n",
      " lMaxPooling2D)                                                  \n",
      "                                                                 \n",
      " dropout (Dropout)           (None, 2048)              0         \n",
      "                                                                 \n",
      " dense (Dense)               (None, 256)               524544    \n",
      "                                                                 \n",
      " dense_1 (Dense)             (None, 4)                 1028      \n",
      "                                                                 \n",
      "=================================================================\n",
      "Total params: 21,387,052\n",
      "Trainable params: 21,332,524\n",
      "Non-trainable params: 54,528\n",
      "_________________________________________________________________\n"
     ]
    }
   ],
   "source": [
    "# Define DIY Model\n",
    "Xception_model = tf.keras.models.Sequential([\n",
    "    # Xception121 Layer\n",
    "    Xception(include_top=False,weights='imagenet',input_shape=(224, 224, 3)),\n",
    "    # Global Max Pooling Layer\n",
    "    tf.keras.layers.GlobalMaxPooling2D(),\n",
    "    # Drop Out Layer\n",
    "    tf.keras.layers.Dropout(0.2),\n",
    "    # 256 neuron hidden layer\n",
    "    tf.keras.layers.Dense(256, activation='relu'),\n",
    "    # Output\n",
    "    tf.keras.layers.Dense(4, activation='softmax') \n",
    "  ])\n",
    "\n",
    "\n",
    "# Compile Model\n",
    "Xception_model.compile(loss='categorical_crossentropy',optimizer=tf.keras.optimizers.Adam(), metrics=['accuracy']) \n",
    "\n",
    "# Model Summary\n",
    "Xception_model.summary()"
   ]
  },
  {
   "cell_type": "code",
   "execution_count": 13,
   "metadata": {
    "colab": {
     "base_uri": "https://localhost:8080/"
    },
    "id": "6coN3TKhU2TI",
    "outputId": "be4b9876-7cf4-4989-ecc7-bc2ce8bdce22",
    "tags": []
   },
   "outputs": [
    {
     "name": "stdout",
     "output_type": "stream",
     "text": [
      "Epoch 1/100\n",
      "367/367 [==============================] - ETA: 0s - loss: 0.2071 - accuracy: 0.9363\n",
      "Epoch 1: val_accuracy improved from -inf to 0.94630, saving model to Grape_Xception_model1_Based_Non_Augmented\n"
     ]
    },
    {
     "name": "stderr",
     "output_type": "stream",
     "text": [
      "WARNING:absl:Found untraced functions such as _jit_compiled_convolution_op, _jit_compiled_convolution_op, _jit_compiled_convolution_op, _jit_compiled_convolution_op, _jit_compiled_convolution_op while saving (showing 5 of 40). These functions will not be directly callable after loading.\n"
     ]
    },
    {
     "name": "stdout",
     "output_type": "stream",
     "text": [
      "INFO:tensorflow:Assets written to: Grape_Xception_model1_Based_Non_Augmented/assets\n"
     ]
    },
    {
     "name": "stderr",
     "output_type": "stream",
     "text": [
      "INFO:tensorflow:Assets written to: Grape_Xception_model1_Based_Non_Augmented/assets\n"
     ]
    },
    {
     "name": "stdout",
     "output_type": "stream",
     "text": [
      "367/367 [==============================] - 94s 159ms/step - loss: 0.2071 - accuracy: 0.9363 - val_loss: 0.1624 - val_accuracy: 0.9463 - lr: 0.0010\n",
      "Epoch 2/100\n",
      "367/367 [==============================] - ETA: 0s - loss: 0.0861 - accuracy: 0.9793\n",
      "Epoch 2: val_accuracy improved from 0.94630 to 0.99014, saving model to Grape_Xception_model1_Based_Non_Augmented\n"
     ]
    },
    {
     "name": "stderr",
     "output_type": "stream",
     "text": [
      "WARNING:absl:Found untraced functions such as _jit_compiled_convolution_op, _jit_compiled_convolution_op, _jit_compiled_convolution_op, _jit_compiled_convolution_op, _jit_compiled_convolution_op while saving (showing 5 of 40). These functions will not be directly callable after loading.\n"
     ]
    },
    {
     "name": "stdout",
     "output_type": "stream",
     "text": [
      "INFO:tensorflow:Assets written to: Grape_Xception_model1_Based_Non_Augmented/assets\n"
     ]
    },
    {
     "name": "stderr",
     "output_type": "stream",
     "text": [
      "INFO:tensorflow:Assets written to: Grape_Xception_model1_Based_Non_Augmented/assets\n"
     ]
    },
    {
     "name": "stdout",
     "output_type": "stream",
     "text": [
      "367/367 [==============================] - 54s 148ms/step - loss: 0.0861 - accuracy: 0.9793 - val_loss: 0.0535 - val_accuracy: 0.9901 - lr: 0.0010\n",
      "Epoch 3/100\n",
      "367/367 [==============================] - ETA: 0s - loss: 0.0645 - accuracy: 0.9819\n",
      "Epoch 3: val_accuracy did not improve from 0.99014\n",
      "367/367 [==============================] - 31s 84ms/step - loss: 0.0645 - accuracy: 0.9819 - val_loss: 3.3805 - val_accuracy: 0.4953 - lr: 0.0010\n",
      "Epoch 4/100\n",
      "367/367 [==============================] - ETA: 0s - loss: 0.0495 - accuracy: 0.9875\n",
      "Epoch 4: val_accuracy did not improve from 0.99014\n",
      "367/367 [==============================] - 31s 85ms/step - loss: 0.0495 - accuracy: 0.9875 - val_loss: 0.0401 - val_accuracy: 0.9885 - lr: 0.0010\n",
      "Epoch 5/100\n",
      "367/367 [==============================] - ETA: 0s - loss: 0.0259 - accuracy: 0.9926\n",
      "Epoch 5: val_accuracy did not improve from 0.99014\n",
      "367/367 [==============================] - 31s 85ms/step - loss: 0.0259 - accuracy: 0.9926 - val_loss: 0.0277 - val_accuracy: 0.9901 - lr: 0.0010\n",
      "Epoch 6/100\n",
      "367/367 [==============================] - ETA: 0s - loss: 0.0312 - accuracy: 0.9913\n",
      "Epoch 6: val_accuracy did not improve from 0.99014\n",
      "367/367 [==============================] - 31s 85ms/step - loss: 0.0312 - accuracy: 0.9913 - val_loss: 0.6726 - val_accuracy: 0.8625 - lr: 0.0010\n",
      "Epoch 7/100\n",
      "367/367 [==============================] - ETA: 0s - loss: 0.0389 - accuracy: 0.9898\n",
      "Epoch 7: val_accuracy did not improve from 0.99014\n",
      "367/367 [==============================] - 31s 85ms/step - loss: 0.0389 - accuracy: 0.9898 - val_loss: 2.6431 - val_accuracy: 0.8005 - lr: 0.0010\n",
      "Epoch 8/100\n",
      "367/367 [==============================] - ETA: 0s - loss: 0.0547 - accuracy: 0.9896\n",
      "Epoch 8: val_accuracy did not improve from 0.99014\n",
      "367/367 [==============================] - 31s 84ms/step - loss: 0.0547 - accuracy: 0.9896 - val_loss: 0.0476 - val_accuracy: 0.9836 - lr: 0.0010\n",
      "Epoch 9/100\n",
      "367/367 [==============================] - ETA: 0s - loss: 0.0485 - accuracy: 0.9877\n",
      "Epoch 9: val_accuracy did not improve from 0.99014\n",
      "367/367 [==============================] - 32s 86ms/step - loss: 0.0485 - accuracy: 0.9877 - val_loss: 183.7110 - val_accuracy: 0.3414 - lr: 0.0010\n",
      "Epoch 10/100\n",
      "367/367 [==============================] - ETA: 0s - loss: 0.0358 - accuracy: 0.9915\n",
      "Epoch 10: val_accuracy did not improve from 0.99014\n",
      "\n",
      "Epoch 10: ReduceLROnPlateau reducing learning rate to 0.00010000000474974513.\n",
      "367/367 [==============================] - 31s 85ms/step - loss: 0.0358 - accuracy: 0.9915 - val_loss: 2.0624 - val_accuracy: 0.8784 - lr: 0.0010\n",
      "Epoch 11/100\n",
      "367/367 [==============================] - ETA: 0s - loss: 0.0503 - accuracy: 0.9926\n",
      "Epoch 11: val_accuracy improved from 0.99014 to 0.99726, saving model to Grape_Xception_model1_Based_Non_Augmented\n"
     ]
    },
    {
     "name": "stderr",
     "output_type": "stream",
     "text": [
      "WARNING:absl:Found untraced functions such as _jit_compiled_convolution_op, _jit_compiled_convolution_op, _jit_compiled_convolution_op, _jit_compiled_convolution_op, _jit_compiled_convolution_op while saving (showing 5 of 40). These functions will not be directly callable after loading.\n"
     ]
    },
    {
     "name": "stdout",
     "output_type": "stream",
     "text": [
      "INFO:tensorflow:Assets written to: Grape_Xception_model1_Based_Non_Augmented/assets\n"
     ]
    },
    {
     "name": "stderr",
     "output_type": "stream",
     "text": [
      "INFO:tensorflow:Assets written to: Grape_Xception_model1_Based_Non_Augmented/assets\n"
     ]
    },
    {
     "name": "stdout",
     "output_type": "stream",
     "text": [
      "367/367 [==============================] - 56s 152ms/step - loss: 0.0503 - accuracy: 0.9926 - val_loss: 0.0094 - val_accuracy: 0.9973 - lr: 1.0000e-04\n",
      "Epoch 12/100\n",
      "367/367 [==============================] - ETA: 0s - loss: 0.0162 - accuracy: 0.9973\n",
      "Epoch 12: val_accuracy improved from 0.99726 to 0.99836, saving model to Grape_Xception_model1_Based_Non_Augmented\n"
     ]
    },
    {
     "name": "stderr",
     "output_type": "stream",
     "text": [
      "WARNING:absl:Found untraced functions such as _jit_compiled_convolution_op, _jit_compiled_convolution_op, _jit_compiled_convolution_op, _jit_compiled_convolution_op, _jit_compiled_convolution_op while saving (showing 5 of 40). These functions will not be directly callable after loading.\n"
     ]
    },
    {
     "name": "stdout",
     "output_type": "stream",
     "text": [
      "INFO:tensorflow:Assets written to: Grape_Xception_model1_Based_Non_Augmented/assets\n"
     ]
    },
    {
     "name": "stderr",
     "output_type": "stream",
     "text": [
      "INFO:tensorflow:Assets written to: Grape_Xception_model1_Based_Non_Augmented/assets\n"
     ]
    },
    {
     "name": "stdout",
     "output_type": "stream",
     "text": [
      "367/367 [==============================] - 58s 157ms/step - loss: 0.0162 - accuracy: 0.9973 - val_loss: 0.0111 - val_accuracy: 0.9984 - lr: 1.0000e-04\n",
      "Epoch 13/100\n",
      "367/367 [==============================] - ETA: 0s - loss: 0.0108 - accuracy: 0.9978\n",
      "Epoch 13: val_accuracy did not improve from 0.99836\n",
      "367/367 [==============================] - 32s 86ms/step - loss: 0.0108 - accuracy: 0.9978 - val_loss: 0.0054 - val_accuracy: 0.9973 - lr: 1.0000e-04\n",
      "Epoch 14/100\n",
      "367/367 [==============================] - ETA: 0s - loss: 0.0073 - accuracy: 0.9978\n",
      "Epoch 14: val_accuracy did not improve from 0.99836\n",
      "367/367 [==============================] - 31s 86ms/step - loss: 0.0073 - accuracy: 0.9978 - val_loss: 0.0094 - val_accuracy: 0.9978 - lr: 1.0000e-04\n",
      "Epoch 15/100\n",
      "367/367 [==============================] - ETA: 0s - loss: 0.0081 - accuracy: 0.9986\n",
      "Epoch 15: val_accuracy did not improve from 0.99836\n",
      "367/367 [==============================] - 31s 85ms/step - loss: 0.0081 - accuracy: 0.9986 - val_loss: 0.0076 - val_accuracy: 0.9984 - lr: 1.0000e-04\n",
      "Epoch 16/100\n",
      "367/367 [==============================] - ETA: 0s - loss: 0.0025 - accuracy: 0.9993\n",
      "Epoch 16: val_accuracy did not improve from 0.99836\n",
      "367/367 [==============================] - 31s 86ms/step - loss: 0.0025 - accuracy: 0.9993 - val_loss: 0.0066 - val_accuracy: 0.9984 - lr: 1.0000e-04\n",
      "Epoch 17/100\n",
      "367/367 [==============================] - ETA: 0s - loss: 9.5369e-04 - accuracy: 0.9997\n",
      "Epoch 17: val_accuracy did not improve from 0.99836\n",
      "367/367 [==============================] - 31s 85ms/step - loss: 9.5369e-04 - accuracy: 0.9997 - val_loss: 0.0055 - val_accuracy: 0.9984 - lr: 1.0000e-04\n",
      "Epoch 18/100\n",
      "367/367 [==============================] - ETA: 0s - loss: 0.0027 - accuracy: 0.9992\n",
      "Epoch 18: val_accuracy improved from 0.99836 to 0.99890, saving model to Grape_Xception_model1_Based_Non_Augmented\n"
     ]
    },
    {
     "name": "stderr",
     "output_type": "stream",
     "text": [
      "WARNING:absl:Found untraced functions such as _jit_compiled_convolution_op, _jit_compiled_convolution_op, _jit_compiled_convolution_op, _jit_compiled_convolution_op, _jit_compiled_convolution_op while saving (showing 5 of 40). These functions will not be directly callable after loading.\n"
     ]
    },
    {
     "name": "stdout",
     "output_type": "stream",
     "text": [
      "INFO:tensorflow:Assets written to: Grape_Xception_model1_Based_Non_Augmented/assets\n"
     ]
    },
    {
     "name": "stderr",
     "output_type": "stream",
     "text": [
      "INFO:tensorflow:Assets written to: Grape_Xception_model1_Based_Non_Augmented/assets\n"
     ]
    },
    {
     "name": "stdout",
     "output_type": "stream",
     "text": [
      "367/367 [==============================] - 56s 154ms/step - loss: 0.0027 - accuracy: 0.9992 - val_loss: 0.0023 - val_accuracy: 0.9989 - lr: 1.0000e-04\n",
      "Epoch 19/100\n",
      "367/367 [==============================] - ETA: 0s - loss: 0.0013 - accuracy: 0.9995\n",
      "Epoch 19: val_accuracy did not improve from 0.99890\n",
      "367/367 [==============================] - 32s 86ms/step - loss: 0.0013 - accuracy: 0.9995 - val_loss: 0.0033 - val_accuracy: 0.9984 - lr: 1.0000e-04\n",
      "Epoch 20/100\n",
      "367/367 [==============================] - ETA: 0s - loss: 0.0011 - accuracy: 0.9997\n",
      "Epoch 20: val_accuracy did not improve from 0.99890\n",
      "367/367 [==============================] - 31s 85ms/step - loss: 0.0011 - accuracy: 0.9997 - val_loss: 0.0039 - val_accuracy: 0.9978 - lr: 1.0000e-04\n",
      "Epoch 21/100\n",
      "367/367 [==============================] - ETA: 0s - loss: 2.1093e-04 - accuracy: 1.0000\n",
      "Epoch 21: val_accuracy did not improve from 0.99890\n",
      "367/367 [==============================] - 32s 87ms/step - loss: 2.1093e-04 - accuracy: 1.0000 - val_loss: 0.0035 - val_accuracy: 0.9984 - lr: 1.0000e-04\n",
      "Epoch 22/100\n",
      "367/367 [==============================] - ETA: 0s - loss: 3.3859e-04 - accuracy: 1.0000\n",
      "Epoch 22: val_accuracy did not improve from 0.99890\n",
      "367/367 [==============================] - 31s 84ms/step - loss: 3.3859e-04 - accuracy: 1.0000 - val_loss: 0.0057 - val_accuracy: 0.9984 - lr: 1.0000e-04\n",
      "Epoch 23/100\n",
      "367/367 [==============================] - ETA: 0s - loss: 1.0392e-04 - accuracy: 1.0000\n",
      "Epoch 23: val_accuracy did not improve from 0.99890\n",
      "\n",
      "Epoch 23: ReduceLROnPlateau reducing learning rate to 1.0000000474974514e-05.\n",
      "367/367 [==============================] - 31s 84ms/step - loss: 1.0392e-04 - accuracy: 1.0000 - val_loss: 0.0045 - val_accuracy: 0.9984 - lr: 1.0000e-04\n",
      "Epoch 24/100\n",
      "367/367 [==============================] - ETA: 0s - loss: 1.0561e-04 - accuracy: 1.0000\n",
      "Epoch 24: val_accuracy did not improve from 0.99890\n",
      "367/367 [==============================] - 31s 84ms/step - loss: 1.0561e-04 - accuracy: 1.0000 - val_loss: 0.0049 - val_accuracy: 0.9984 - lr: 1.0000e-05\n",
      "Epoch 25/100\n",
      "367/367 [==============================] - ETA: 0s - loss: 5.7327e-05 - accuracy: 1.0000\n",
      "Epoch 25: val_accuracy did not improve from 0.99890\n",
      "367/367 [==============================] - 31s 84ms/step - loss: 5.7327e-05 - accuracy: 1.0000 - val_loss: 0.0045 - val_accuracy: 0.9984 - lr: 1.0000e-05\n",
      "Epoch 26/100\n",
      "367/367 [==============================] - ETA: 0s - loss: 4.9412e-05 - accuracy: 1.0000\n",
      "Epoch 26: val_accuracy did not improve from 0.99890\n",
      "367/367 [==============================] - 31s 84ms/step - loss: 4.9412e-05 - accuracy: 1.0000 - val_loss: 0.0044 - val_accuracy: 0.9984 - lr: 1.0000e-05\n",
      "Epoch 27/100\n",
      "367/367 [==============================] - ETA: 0s - loss: 4.4854e-05 - accuracy: 1.0000\n",
      "Epoch 27: val_accuracy did not improve from 0.99890\n",
      "367/367 [==============================] - 30s 82ms/step - loss: 4.4854e-05 - accuracy: 1.0000 - val_loss: 0.0039 - val_accuracy: 0.9984 - lr: 1.0000e-05\n",
      "Epoch 28/100\n",
      "367/367 [==============================] - ETA: 0s - loss: 8.3941e-05 - accuracy: 1.0000\n",
      "Epoch 28: val_accuracy did not improve from 0.99890\n",
      "\n",
      "Epoch 28: ReduceLROnPlateau reducing learning rate to 1.0000000656873453e-06.\n",
      "367/367 [==============================] - 31s 83ms/step - loss: 8.3941e-05 - accuracy: 1.0000 - val_loss: 0.0034 - val_accuracy: 0.9989 - lr: 1.0000e-05\n",
      "Epoch 29/100\n",
      "367/367 [==============================] - ETA: 0s - loss: 1.7841e-04 - accuracy: 0.9999\n",
      "Epoch 29: val_accuracy did not improve from 0.99890\n",
      "367/367 [==============================] - 31s 85ms/step - loss: 1.7841e-04 - accuracy: 0.9999 - val_loss: 0.0034 - val_accuracy: 0.9984 - lr: 1.0000e-06\n",
      "Epoch 30/100\n",
      "367/367 [==============================] - ETA: 0s - loss: 7.6118e-05 - accuracy: 1.0000\n",
      "Epoch 30: val_accuracy did not improve from 0.99890\n",
      "367/367 [==============================] - 31s 83ms/step - loss: 7.6118e-05 - accuracy: 1.0000 - val_loss: 0.0036 - val_accuracy: 0.9984 - lr: 1.0000e-06\n",
      "Epoch 31/100\n",
      "367/367 [==============================] - ETA: 0s - loss: 3.0073e-04 - accuracy: 0.9999\n",
      "Epoch 31: val_accuracy did not improve from 0.99890\n",
      "367/367 [==============================] - 30s 82ms/step - loss: 3.0073e-04 - accuracy: 0.9999 - val_loss: 0.0034 - val_accuracy: 0.9984 - lr: 1.0000e-06\n",
      "Epoch 32/100\n",
      "367/367 [==============================] - ETA: 0s - loss: 4.7455e-05 - accuracy: 1.0000\n",
      "Epoch 32: val_accuracy did not improve from 0.99890\n",
      "367/367 [==============================] - 31s 84ms/step - loss: 4.7455e-05 - accuracy: 1.0000 - val_loss: 0.0034 - val_accuracy: 0.9989 - lr: 1.0000e-06\n",
      "Epoch 33/100\n",
      "367/367 [==============================] - ETA: 0s - loss: 1.4427e-04 - accuracy: 1.0000\n",
      "Epoch 33: val_accuracy did not improve from 0.99890\n",
      "\n",
      "Epoch 33: ReduceLROnPlateau reducing learning rate to 1.0000001111620805e-07.\n",
      "367/367 [==============================] - 31s 83ms/step - loss: 1.4427e-04 - accuracy: 1.0000 - val_loss: 0.0034 - val_accuracy: 0.9989 - lr: 1.0000e-06\n",
      "Epoch 34/100\n",
      "367/367 [==============================] - ETA: 0s - loss: 4.9961e-05 - accuracy: 1.0000\n",
      "Epoch 34: val_accuracy did not improve from 0.99890\n",
      "367/367 [==============================] - 31s 84ms/step - loss: 4.9961e-05 - accuracy: 1.0000 - val_loss: 0.0033 - val_accuracy: 0.9989 - lr: 1.0000e-07\n",
      "Epoch 35/100\n",
      "367/367 [==============================] - ETA: 0s - loss: 1.7705e-04 - accuracy: 0.9999\n",
      "Epoch 35: val_accuracy did not improve from 0.99890\n",
      "367/367 [==============================] - 31s 84ms/step - loss: 1.7705e-04 - accuracy: 0.9999 - val_loss: 0.0034 - val_accuracy: 0.9989 - lr: 1.0000e-07\n",
      "Epoch 36/100\n",
      "367/367 [==============================] - ETA: 0s - loss: 7.0426e-05 - accuracy: 1.0000\n",
      "Epoch 36: val_accuracy did not improve from 0.99890\n",
      "367/367 [==============================] - 31s 84ms/step - loss: 7.0426e-05 - accuracy: 1.0000 - val_loss: 0.0034 - val_accuracy: 0.9989 - lr: 1.0000e-07\n",
      "Epoch 37/100\n",
      "367/367 [==============================] - ETA: 0s - loss: 7.4656e-05 - accuracy: 1.0000\n",
      "Epoch 37: val_accuracy did not improve from 0.99890\n",
      "367/367 [==============================] - 31s 84ms/step - loss: 7.4656e-05 - accuracy: 1.0000 - val_loss: 0.0035 - val_accuracy: 0.9984 - lr: 1.0000e-07\n",
      "Epoch 38/100\n",
      "367/367 [==============================] - ETA: 0s - loss: 9.2068e-05 - accuracy: 1.0000\n",
      "Epoch 38: val_accuracy did not improve from 0.99890\n",
      "Restoring model weights from the end of the best epoch: 18.\n",
      "\n",
      "Epoch 38: ReduceLROnPlateau reducing learning rate to 1.000000082740371e-08.\n",
      "367/367 [==============================] - 31s 83ms/step - loss: 9.2068e-05 - accuracy: 1.0000 - val_loss: 0.0033 - val_accuracy: 0.9989 - lr: 1.0000e-07\n",
      "Epoch 38: early stopping\n"
     ]
    }
   ],
   "source": [
    "# Define the number of epochs\n",
    "num_epochs = 100\n",
    "\n",
    "# Train the model\n",
    "history_Xception_model_1 = Xception_model.fit(train_generator, epochs=num_epochs, validation_data=validation_generator, callbacks=callbacks)"
   ]
  },
  {
   "cell_type": "code",
   "execution_count": 14,
   "metadata": {
    "colab": {
     "base_uri": "https://localhost:8080/",
     "height": 904
    },
    "id": "lvS9xz3LU2TI",
    "outputId": "d94ce93e-efe5-49d9-d15c-20e6b7f838de",
    "tags": []
   },
   "outputs": [
    {
     "data": {
      "text/plain": [
       "<matplotlib.legend.Legend at 0x7f65cedcffd0>"
      ]
     },
     "execution_count": 14,
     "metadata": {},
     "output_type": "execute_result"
    },
    {
     "data": {
      "image/png": "[encoded data removed]",
      "text/plain": [
       "<Figure size 640x480 with 1 Axes>"
      ]
     },
     "metadata": {},
     "output_type": "display_data"
    },
    {
     "data": {
      "image/png": "[encoded data removed]",
      "text/plain": [
       "<Figure size 640x480 with 1 Axes>"
      ]
     },
     "metadata": {},
     "output_type": "display_data"
    }
   ],
   "source": [
    "#-----------------------------------------------------------\n",
    "# Retrieve a list of list results on training and test data\n",
    "# sets for each training epoch\n",
    "#-----------------------------------------------------------\n",
    "acc      = history_Xception_model_1.history['accuracy' ]\n",
    "val_acc  = history_Xception_model_1.history['val_accuracy' ]\n",
    "loss     = history_Xception_model_1.history['loss' ]\n",
    "val_loss = history_Xception_model_1.history['val_loss' ]\n",
    "\n",
    "epochs   = range(len(acc)) # Get number of epochs\n",
    "\n",
    "#------------------------------------------------\n",
    "# Plot training and validation accuracy per epoch\n",
    "#------------------------------------------------\n",
    "plt.plot  (epochs, acc )\n",
    "plt.plot  (epochs, val_acc )\n",
    "plt.title ('Training and validation accuracy Xception Model Non Augmented 1')\n",
    "plt.legend(['train', 'val'], loc='upper left')\n",
    "plt.figure()\n",
    "\n",
    "#------------------------------------------------\n",
    "# Plot training and validation loss per epoch\n",
    "#------------------------------------------------\n",
    "plt.plot  (epochs, loss)\n",
    "plt.plot  (epochs, val_loss)\n",
    "plt.title ('Training and validation loss Xception Model Non Augmented 1')\n",
    "plt.legend(['train', 'val'], loc='upper left')"
   ]
  },
  {
   "cell_type": "markdown",
   "metadata": {
    "id": "SvQOR9IuU2TJ"
   },
   "source": [
    "## Xception Model 2"
   ]
  },
  {
   "cell_type": "code",
   "execution_count": 15,
   "metadata": {
    "id": "Tj7lcdvUU2TJ",
    "tags": []
   },
   "outputs": [],
   "source": [
    "# Difine the callbacks\n",
    "# Save the best model\n",
    "checkpoint_callback = ModelCheckpoint(filepath=\"Grape_Xception_model2_Based_Non_Augmented\", save_best_only=True, monitor=\"val_accuracy\", mode=\"max\", verbose=1)\n",
    "\n",
    "# Early stopping\n",
    "early_stopping_callback = EarlyStopping(monitor=\"val_accuracy\", mode=\"max\", patience=20, verbose=1, restore_best_weights=True)\n",
    "\n",
    "# Reduce learning rate\n",
    "reduce_lr_callback = ReduceLROnPlateau(monitor=\"val_loss\", factor=0.1, patience=5, verbose=1, mode=\"min\", min_delta=0.0001, cooldown=0, min_lr=0)\n",
    "\n",
    "# Callbacks list\n",
    "callbacks=[checkpoint_callback, early_stopping_callback, reduce_lr_callback]"
   ]
  },
  {
   "cell_type": "code",
   "execution_count": 16,
   "metadata": {
    "colab": {
     "base_uri": "https://localhost:8080/"
    },
    "id": "7NKPY1xGU2TJ",
    "outputId": "847c81a5-79b5-4352-81cc-1aa82653008a",
    "tags": []
   },
   "outputs": [
    {
     "name": "stdout",
     "output_type": "stream",
     "text": [
      "Model: \"sequential_1\"\n",
      "_________________________________________________________________\n",
      " Layer (type)                Output Shape              Param #   \n",
      "=================================================================\n",
      " xception (Functional)       (None, 7, 7, 2048)        20861480  \n",
      "                                                                 \n",
      " global_average_pooling2d (G  (None, 2048)             0         \n",
      " lobalAveragePooling2D)                                          \n",
      "                                                                 \n",
      " dropout_1 (Dropout)         (None, 2048)              0         \n",
      "                                                                 \n",
      " dense_2 (Dense)             (None, 256)               524544    \n",
      "                                                                 \n",
      " dense_3 (Dense)             (None, 4)                 1028      \n",
      "                                                                 \n",
      "=================================================================\n",
      "Total params: 21,387,052\n",
      "Trainable params: 21,332,524\n",
      "Non-trainable params: 54,528\n",
      "_________________________________________________________________\n"
     ]
    }
   ],
   "source": [
    "# Define DIY Model\n",
    "Xception_model_2 = tf.keras.models.Sequential([\n",
    "    # Xception121 Layer\n",
    "    Xception(include_top=False,weights='imagenet',input_shape=(224, 224, 3)),\n",
    "    # Global Average Pooling Layer\n",
    "    tf.keras.layers.GlobalAveragePooling2D(),\n",
    "    # Drop Out Layer\n",
    "    tf.keras.layers.Dropout(0.2),\n",
    "    # 256 neuron hidden layer\n",
    "    tf.keras.layers.Dense(256, activation='relu'),\n",
    "    # Output\n",
    "    tf.keras.layers.Dense(4, activation='softmax') \n",
    "  ])\n",
    "\n",
    "\n",
    "# Compile Model\n",
    "Xception_model_2.compile(loss='categorical_crossentropy',optimizer=tf.keras.optimizers.Adam(), metrics=['accuracy']) \n",
    "\n",
    "# Model Summary\n",
    "Xception_model_2.summary()"
   ]
  },
  {
   "cell_type": "code",
   "execution_count": 17,
   "metadata": {
    "colab": {
     "base_uri": "https://localhost:8080/"
    },
    "id": "6beuexC9U2TJ",
    "outputId": "323e7b71-98c4-4c71-cc37-f3ea95076962",
    "tags": []
   },
   "outputs": [
    {
     "name": "stdout",
     "output_type": "stream",
     "text": [
      "Epoch 1/100\n",
      "367/367 [==============================] - ETA: 0s - loss: 0.1853 - accuracy: 0.9509\n",
      "Epoch 1: val_accuracy improved from -inf to 0.63123, saving model to Grape_Xception_model2_Based_Non_Augmented\n"
     ]
    },
    {
     "name": "stderr",
     "output_type": "stream",
     "text": [
      "WARNING:absl:Found untraced functions such as _jit_compiled_convolution_op, _jit_compiled_convolution_op, _jit_compiled_convolution_op, _jit_compiled_convolution_op, _jit_compiled_convolution_op while saving (showing 5 of 40). These functions will not be directly callable after loading.\n"
     ]
    },
    {
     "name": "stdout",
     "output_type": "stream",
     "text": [
      "INFO:tensorflow:Assets written to: Grape_Xception_model2_Based_Non_Augmented/assets\n"
     ]
    },
    {
     "name": "stderr",
     "output_type": "stream",
     "text": [
      "INFO:tensorflow:Assets written to: Grape_Xception_model2_Based_Non_Augmented/assets\n"
     ]
    },
    {
     "name": "stdout",
     "output_type": "stream",
     "text": [
      "367/367 [==============================] - 86s 154ms/step - loss: 0.1853 - accuracy: 0.9509 - val_loss: 1.7093 - val_accuracy: 0.6312 - lr: 0.0010\n",
      "Epoch 2/100\n",
      "367/367 [==============================] - ETA: 0s - loss: 0.0854 - accuracy: 0.9768\n",
      "Epoch 2: val_accuracy improved from 0.63123 to 0.99288, saving model to Grape_Xception_model2_Based_Non_Augmented\n"
     ]
    },
    {
     "name": "stderr",
     "output_type": "stream",
     "text": [
      "WARNING:absl:Found untraced functions such as _jit_compiled_convolution_op, _jit_compiled_convolution_op, _jit_compiled_convolution_op, _jit_compiled_convolution_op, _jit_compiled_convolution_op while saving (showing 5 of 40). These functions will not be directly callable after loading.\n"
     ]
    },
    {
     "name": "stdout",
     "output_type": "stream",
     "text": [
      "INFO:tensorflow:Assets written to: Grape_Xception_model2_Based_Non_Augmented/assets\n"
     ]
    },
    {
     "name": "stderr",
     "output_type": "stream",
     "text": [
      "INFO:tensorflow:Assets written to: Grape_Xception_model2_Based_Non_Augmented/assets\n"
     ]
    },
    {
     "name": "stdout",
     "output_type": "stream",
     "text": [
      "367/367 [==============================] - 53s 144ms/step - loss: 0.0854 - accuracy: 0.9768 - val_loss: 0.0205 - val_accuracy: 0.9929 - lr: 0.0010\n",
      "Epoch 3/100\n",
      "367/367 [==============================] - ETA: 0s - loss: 0.0418 - accuracy: 0.9881\n",
      "Epoch 3: val_accuracy improved from 0.99288 to 0.99342, saving model to Grape_Xception_model2_Based_Non_Augmented\n"
     ]
    },
    {
     "name": "stderr",
     "output_type": "stream",
     "text": [
      "WARNING:absl:Found untraced functions such as _jit_compiled_convolution_op, _jit_compiled_convolution_op, _jit_compiled_convolution_op, _jit_compiled_convolution_op, _jit_compiled_convolution_op while saving (showing 5 of 40). These functions will not be directly callable after loading.\n"
     ]
    },
    {
     "name": "stdout",
     "output_type": "stream",
     "text": [
      "INFO:tensorflow:Assets written to: Grape_Xception_model2_Based_Non_Augmented/assets\n"
     ]
    },
    {
     "name": "stderr",
     "output_type": "stream",
     "text": [
      "INFO:tensorflow:Assets written to: Grape_Xception_model2_Based_Non_Augmented/assets\n"
     ]
    },
    {
     "name": "stdout",
     "output_type": "stream",
     "text": [
      "367/367 [==============================] - 54s 148ms/step - loss: 0.0418 - accuracy: 0.9881 - val_loss: 0.0303 - val_accuracy: 0.9934 - lr: 0.0010\n",
      "Epoch 4/100\n",
      "367/367 [==============================] - ETA: 0s - loss: 0.0505 - accuracy: 0.9870\n",
      "Epoch 4: val_accuracy did not improve from 0.99342\n",
      "367/367 [==============================] - 31s 83ms/step - loss: 0.0505 - accuracy: 0.9870 - val_loss: 0.0234 - val_accuracy: 0.9929 - lr: 0.0010\n",
      "Epoch 5/100\n",
      "367/367 [==============================] - ETA: 0s - loss: 0.0346 - accuracy: 0.9903\n",
      "Epoch 5: val_accuracy did not improve from 0.99342\n",
      "367/367 [==============================] - 31s 84ms/step - loss: 0.0346 - accuracy: 0.9903 - val_loss: 0.0920 - val_accuracy: 0.9726 - lr: 0.0010\n",
      "Epoch 6/100\n",
      "367/367 [==============================] - ETA: 0s - loss: 0.0352 - accuracy: 0.9902\n",
      "Epoch 6: val_accuracy did not improve from 0.99342\n",
      "367/367 [==============================] - 31s 84ms/step - loss: 0.0352 - accuracy: 0.9902 - val_loss: 0.3532 - val_accuracy: 0.9260 - lr: 0.0010\n",
      "Epoch 7/100\n",
      "367/367 [==============================] - ETA: 0s - loss: 0.0260 - accuracy: 0.9918\n",
      "Epoch 7: val_accuracy improved from 0.99342 to 0.99836, saving model to Grape_Xception_model2_Based_Non_Augmented\n"
     ]
    },
    {
     "name": "stderr",
     "output_type": "stream",
     "text": [
      "WARNING:absl:Found untraced functions such as _jit_compiled_convolution_op, _jit_compiled_convolution_op, _jit_compiled_convolution_op, _jit_compiled_convolution_op, _jit_compiled_convolution_op while saving (showing 5 of 40). These functions will not be directly callable after loading.\n"
     ]
    },
    {
     "name": "stdout",
     "output_type": "stream",
     "text": [
      "INFO:tensorflow:Assets written to: Grape_Xception_model2_Based_Non_Augmented/assets\n"
     ]
    },
    {
     "name": "stderr",
     "output_type": "stream",
     "text": [
      "INFO:tensorflow:Assets written to: Grape_Xception_model2_Based_Non_Augmented/assets\n"
     ]
    },
    {
     "name": "stdout",
     "output_type": "stream",
     "text": [
      "367/367 [==============================] - 55s 150ms/step - loss: 0.0260 - accuracy: 0.9918 - val_loss: 0.0063 - val_accuracy: 0.9984 - lr: 0.0010\n",
      "Epoch 8/100\n",
      "367/367 [==============================] - ETA: 0s - loss: 0.0274 - accuracy: 0.9918\n",
      "Epoch 8: val_accuracy did not improve from 0.99836\n",
      "367/367 [==============================] - 31s 84ms/step - loss: 0.0274 - accuracy: 0.9918 - val_loss: 0.6054 - val_accuracy: 0.9090 - lr: 0.0010\n",
      "Epoch 9/100\n",
      "367/367 [==============================] - ETA: 0s - loss: 0.0187 - accuracy: 0.9947\n",
      "Epoch 9: val_accuracy did not improve from 0.99836\n",
      "367/367 [==============================] - 31s 84ms/step - loss: 0.0187 - accuracy: 0.9947 - val_loss: 0.0047 - val_accuracy: 0.9984 - lr: 0.0010\n",
      "Epoch 10/100\n",
      "367/367 [==============================] - ETA: 0s - loss: 0.0143 - accuracy: 0.9962\n",
      "Epoch 10: val_accuracy did not improve from 0.99836\n",
      "367/367 [==============================] - 31s 84ms/step - loss: 0.0143 - accuracy: 0.9962 - val_loss: 0.0047 - val_accuracy: 0.9984 - lr: 0.0010\n",
      "Epoch 11/100\n",
      "367/367 [==============================] - ETA: 0s - loss: 0.0134 - accuracy: 0.9959\n",
      "Epoch 11: val_accuracy did not improve from 0.99836\n",
      "367/367 [==============================] - 31s 84ms/step - loss: 0.0134 - accuracy: 0.9959 - val_loss: 0.1344 - val_accuracy: 0.9468 - lr: 0.0010\n",
      "Epoch 12/100\n",
      "367/367 [==============================] - ETA: 0s - loss: 0.0151 - accuracy: 0.9958\n",
      "Epoch 12: val_accuracy did not improve from 0.99836\n",
      "367/367 [==============================] - 31s 84ms/step - loss: 0.0151 - accuracy: 0.9958 - val_loss: 0.0158 - val_accuracy: 0.9951 - lr: 0.0010\n",
      "Epoch 13/100\n",
      "367/367 [==============================] - ETA: 0s - loss: 0.0270 - accuracy: 0.9915\n",
      "Epoch 13: val_accuracy did not improve from 0.99836\n",
      "367/367 [==============================] - 31s 84ms/step - loss: 0.0270 - accuracy: 0.9915 - val_loss: 0.1894 - val_accuracy: 0.9534 - lr: 0.0010\n",
      "Epoch 14/100\n",
      "367/367 [==============================] - ETA: 0s - loss: 0.0219 - accuracy: 0.9941\n",
      "Epoch 14: val_accuracy did not improve from 0.99836\n",
      "\n",
      "Epoch 14: ReduceLROnPlateau reducing learning rate to 0.00010000000474974513.\n",
      "367/367 [==============================] - 31s 83ms/step - loss: 0.0219 - accuracy: 0.9941 - val_loss: 0.0852 - val_accuracy: 0.9775 - lr: 0.0010\n",
      "Epoch 15/100\n",
      "367/367 [==============================] - ETA: 0s - loss: 0.0062 - accuracy: 0.9981\n",
      "Epoch 15: val_accuracy did not improve from 0.99836\n",
      "367/367 [==============================] - 31s 84ms/step - loss: 0.0062 - accuracy: 0.9981 - val_loss: 0.0059 - val_accuracy: 0.9973 - lr: 1.0000e-04\n",
      "Epoch 16/100\n",
      "367/367 [==============================] - ETA: 0s - loss: 0.0019 - accuracy: 0.9995\n",
      "Epoch 16: val_accuracy did not improve from 0.99836\n",
      "367/367 [==============================] - 31s 85ms/step - loss: 0.0019 - accuracy: 0.9995 - val_loss: 0.0049 - val_accuracy: 0.9984 - lr: 1.0000e-04\n",
      "Epoch 17/100\n",
      "367/367 [==============================] - ETA: 0s - loss: 0.0019 - accuracy: 0.9996\n",
      "Epoch 17: val_accuracy did not improve from 0.99836\n",
      "367/367 [==============================] - 31s 84ms/step - loss: 0.0019 - accuracy: 0.9996 - val_loss: 0.0043 - val_accuracy: 0.9978 - lr: 1.0000e-04\n",
      "Epoch 18/100\n",
      "367/367 [==============================] - ETA: 0s - loss: 0.0020 - accuracy: 0.9993\n",
      "Epoch 18: val_accuracy did not improve from 0.99836\n",
      "367/367 [==============================] - 31s 84ms/step - loss: 0.0020 - accuracy: 0.9993 - val_loss: 0.0036 - val_accuracy: 0.9984 - lr: 1.0000e-04\n",
      "Epoch 19/100\n",
      "367/367 [==============================] - ETA: 0s - loss: 4.6815e-04 - accuracy: 1.0000\n",
      "Epoch 19: val_accuracy did not improve from 0.99836\n",
      "367/367 [==============================] - 31s 84ms/step - loss: 4.6815e-04 - accuracy: 1.0000 - val_loss: 0.0030 - val_accuracy: 0.9984 - lr: 1.0000e-04\n",
      "Epoch 20/100\n",
      "367/367 [==============================] - ETA: 0s - loss: 0.0019 - accuracy: 0.9992\n",
      "Epoch 20: val_accuracy improved from 0.99836 to 0.99890, saving model to Grape_Xception_model2_Based_Non_Augmented\n"
     ]
    },
    {
     "name": "stderr",
     "output_type": "stream",
     "text": [
      "WARNING:absl:Found untraced functions such as _jit_compiled_convolution_op, _jit_compiled_convolution_op, _jit_compiled_convolution_op, _jit_compiled_convolution_op, _jit_compiled_convolution_op while saving (showing 5 of 40). These functions will not be directly callable after loading.\n"
     ]
    },
    {
     "name": "stdout",
     "output_type": "stream",
     "text": [
      "INFO:tensorflow:Assets written to: Grape_Xception_model2_Based_Non_Augmented/assets\n"
     ]
    },
    {
     "name": "stderr",
     "output_type": "stream",
     "text": [
      "INFO:tensorflow:Assets written to: Grape_Xception_model2_Based_Non_Augmented/assets\n"
     ]
    },
    {
     "name": "stdout",
     "output_type": "stream",
     "text": [
      "367/367 [==============================] - 54s 148ms/step - loss: 0.0019 - accuracy: 0.9992 - val_loss: 0.0027 - val_accuracy: 0.9989 - lr: 1.0000e-04\n",
      "Epoch 21/100\n",
      "367/367 [==============================] - ETA: 0s - loss: 0.0013 - accuracy: 0.9997\n",
      "Epoch 21: val_accuracy did not improve from 0.99890\n",
      "367/367 [==============================] - 31s 85ms/step - loss: 0.0013 - accuracy: 0.9997 - val_loss: 0.0044 - val_accuracy: 0.9984 - lr: 1.0000e-04\n",
      "Epoch 22/100\n",
      "367/367 [==============================] - ETA: 0s - loss: 9.4551e-04 - accuracy: 0.9997\n",
      "Epoch 22: val_accuracy did not improve from 0.99890\n",
      "367/367 [==============================] - 31s 84ms/step - loss: 9.4551e-04 - accuracy: 0.9997 - val_loss: 0.0017 - val_accuracy: 0.9989 - lr: 1.0000e-04\n",
      "Epoch 23/100\n",
      "367/367 [==============================] - ETA: 0s - loss: 3.8050e-04 - accuracy: 1.0000\n",
      "Epoch 23: val_accuracy did not improve from 0.99890\n",
      "367/367 [==============================] - 31s 85ms/step - loss: 3.8050e-04 - accuracy: 1.0000 - val_loss: 0.0035 - val_accuracy: 0.9984 - lr: 1.0000e-04\n",
      "Epoch 24/100\n",
      "367/367 [==============================] - ETA: 0s - loss: 0.0019 - accuracy: 0.9995\n",
      "Epoch 24: val_accuracy did not improve from 0.99890\n",
      "367/367 [==============================] - 31s 84ms/step - loss: 0.0019 - accuracy: 0.9995 - val_loss: 0.0113 - val_accuracy: 0.9973 - lr: 1.0000e-04\n",
      "Epoch 25/100\n",
      "367/367 [==============================] - ETA: 0s - loss: 2.6413e-04 - accuracy: 1.0000\n",
      "Epoch 25: val_accuracy did not improve from 0.99890\n",
      "367/367 [==============================] - 31s 85ms/step - loss: 2.6413e-04 - accuracy: 1.0000 - val_loss: 0.0028 - val_accuracy: 0.9989 - lr: 1.0000e-04\n",
      "Epoch 26/100\n",
      "367/367 [==============================] - ETA: 0s - loss: 1.6065e-04 - accuracy: 1.0000\n",
      "Epoch 26: val_accuracy did not improve from 0.99890\n",
      "367/367 [==============================] - 31s 84ms/step - loss: 1.6065e-04 - accuracy: 1.0000 - val_loss: 0.0030 - val_accuracy: 0.9989 - lr: 1.0000e-04\n",
      "Epoch 27/100\n",
      "367/367 [==============================] - ETA: 0s - loss: 9.3315e-05 - accuracy: 1.0000\n",
      "Epoch 27: val_accuracy improved from 0.99890 to 0.99945, saving model to Grape_Xception_model2_Based_Non_Augmented\n"
     ]
    },
    {
     "name": "stderr",
     "output_type": "stream",
     "text": [
      "WARNING:absl:Found untraced functions such as _jit_compiled_convolution_op, _jit_compiled_convolution_op, _jit_compiled_convolution_op, _jit_compiled_convolution_op, _jit_compiled_convolution_op while saving (showing 5 of 40). These functions will not be directly callable after loading.\n"
     ]
    },
    {
     "name": "stdout",
     "output_type": "stream",
     "text": [
      "INFO:tensorflow:Assets written to: Grape_Xception_model2_Based_Non_Augmented/assets\n"
     ]
    },
    {
     "name": "stderr",
     "output_type": "stream",
     "text": [
      "INFO:tensorflow:Assets written to: Grape_Xception_model2_Based_Non_Augmented/assets\n"
     ]
    },
    {
     "name": "stdout",
     "output_type": "stream",
     "text": [
      "\n",
      "Epoch 27: ReduceLROnPlateau reducing learning rate to 1.0000000474974514e-05.\n",
      "367/367 [==============================] - 55s 149ms/step - loss: 9.3315e-05 - accuracy: 1.0000 - val_loss: 0.0024 - val_accuracy: 0.9995 - lr: 1.0000e-04\n",
      "Epoch 28/100\n",
      "367/367 [==============================] - ETA: 0s - loss: 2.4772e-04 - accuracy: 1.0000\n",
      "Epoch 28: val_accuracy did not improve from 0.99945\n",
      "367/367 [==============================] - 31s 84ms/step - loss: 2.4772e-04 - accuracy: 1.0000 - val_loss: 0.0026 - val_accuracy: 0.9984 - lr: 1.0000e-05\n",
      "Epoch 29/100\n",
      "367/367 [==============================] - ETA: 0s - loss: 1.4757e-04 - accuracy: 1.0000\n",
      "Epoch 29: val_accuracy did not improve from 0.99945\n",
      "367/367 [==============================] - 31s 84ms/step - loss: 1.4757e-04 - accuracy: 1.0000 - val_loss: 0.0032 - val_accuracy: 0.9984 - lr: 1.0000e-05\n",
      "Epoch 30/100\n",
      "367/367 [==============================] - ETA: 0s - loss: 1.3262e-04 - accuracy: 1.0000\n",
      "Epoch 30: val_accuracy did not improve from 0.99945\n",
      "367/367 [==============================] - 31s 84ms/step - loss: 1.3262e-04 - accuracy: 1.0000 - val_loss: 0.0033 - val_accuracy: 0.9978 - lr: 1.0000e-05\n",
      "Epoch 31/100\n",
      "367/367 [==============================] - ETA: 0s - loss: 4.5286e-05 - accuracy: 1.0000\n",
      "Epoch 31: val_accuracy did not improve from 0.99945\n",
      "367/367 [==============================] - 31s 84ms/step - loss: 4.5286e-05 - accuracy: 1.0000 - val_loss: 0.0033 - val_accuracy: 0.9978 - lr: 1.0000e-05\n",
      "Epoch 32/100\n",
      "367/367 [==============================] - ETA: 0s - loss: 9.7767e-04 - accuracy: 0.9999\n",
      "Epoch 32: val_accuracy did not improve from 0.99945\n",
      "\n",
      "Epoch 32: ReduceLROnPlateau reducing learning rate to 1.0000000656873453e-06.\n",
      "367/367 [==============================] - 31s 84ms/step - loss: 9.7767e-04 - accuracy: 0.9999 - val_loss: 0.0027 - val_accuracy: 0.9989 - lr: 1.0000e-05\n",
      "Epoch 33/100\n",
      "367/367 [==============================] - ETA: 0s - loss: 1.6649e-04 - accuracy: 1.0000\n",
      "Epoch 33: val_accuracy did not improve from 0.99945\n",
      "367/367 [==============================] - 31s 84ms/step - loss: 1.6649e-04 - accuracy: 1.0000 - val_loss: 0.0027 - val_accuracy: 0.9984 - lr: 1.0000e-06\n",
      "Epoch 34/100\n",
      "367/367 [==============================] - ETA: 0s - loss: 8.0615e-05 - accuracy: 1.0000\n",
      "Epoch 34: val_accuracy did not improve from 0.99945\n",
      "367/367 [==============================] - 31s 85ms/step - loss: 8.0615e-05 - accuracy: 1.0000 - val_loss: 0.0028 - val_accuracy: 0.9984 - lr: 1.0000e-06\n",
      "Epoch 35/100\n",
      "367/367 [==============================] - ETA: 0s - loss: 1.2305e-04 - accuracy: 1.0000\n",
      "Epoch 35: val_accuracy did not improve from 0.99945\n",
      "367/367 [==============================] - 31s 85ms/step - loss: 1.2305e-04 - accuracy: 1.0000 - val_loss: 0.0028 - val_accuracy: 0.9984 - lr: 1.0000e-06\n",
      "Epoch 36/100\n",
      "367/367 [==============================] - ETA: 0s - loss: 1.1279e-04 - accuracy: 1.0000\n",
      "Epoch 36: val_accuracy did not improve from 0.99945\n",
      "367/367 [==============================] - 31s 84ms/step - loss: 1.1279e-04 - accuracy: 1.0000 - val_loss: 0.0029 - val_accuracy: 0.9984 - lr: 1.0000e-06\n",
      "Epoch 37/100\n",
      "367/367 [==============================] - ETA: 0s - loss: 1.6966e-04 - accuracy: 0.9999\n",
      "Epoch 37: val_accuracy did not improve from 0.99945\n",
      "\n",
      "Epoch 37: ReduceLROnPlateau reducing learning rate to 1.0000001111620805e-07.\n",
      "367/367 [==============================] - 31s 84ms/step - loss: 1.6966e-04 - accuracy: 0.9999 - val_loss: 0.0029 - val_accuracy: 0.9984 - lr: 1.0000e-06\n",
      "Epoch 38/100\n",
      "367/367 [==============================] - ETA: 0s - loss: 3.6469e-05 - accuracy: 1.0000\n",
      "Epoch 38: val_accuracy did not improve from 0.99945\n",
      "367/367 [==============================] - 31s 84ms/step - loss: 3.6469e-05 - accuracy: 1.0000 - val_loss: 0.0027 - val_accuracy: 0.9989 - lr: 1.0000e-07\n",
      "Epoch 39/100\n",
      "367/367 [==============================] - ETA: 0s - loss: 6.9101e-05 - accuracy: 1.0000\n",
      "Epoch 39: val_accuracy did not improve from 0.99945\n",
      "367/367 [==============================] - 31s 83ms/step - loss: 6.9101e-05 - accuracy: 1.0000 - val_loss: 0.0027 - val_accuracy: 0.9984 - lr: 1.0000e-07\n",
      "Epoch 40/100\n",
      "367/367 [==============================] - ETA: 0s - loss: 1.2043e-04 - accuracy: 1.0000\n",
      "Epoch 40: val_accuracy did not improve from 0.99945\n",
      "367/367 [==============================] - 31s 84ms/step - loss: 1.2043e-04 - accuracy: 1.0000 - val_loss: 0.0026 - val_accuracy: 0.9984 - lr: 1.0000e-07\n",
      "Epoch 41/100\n",
      "367/367 [==============================] - ETA: 0s - loss: 2.1249e-04 - accuracy: 1.0000\n",
      "Epoch 41: val_accuracy did not improve from 0.99945\n",
      "367/367 [==============================] - 31s 84ms/step - loss: 2.1249e-04 - accuracy: 1.0000 - val_loss: 0.0027 - val_accuracy: 0.9984 - lr: 1.0000e-07\n",
      "Epoch 42/100\n",
      "367/367 [==============================] - ETA: 0s - loss: 3.8104e-04 - accuracy: 0.9997\n",
      "Epoch 42: val_accuracy did not improve from 0.99945\n",
      "\n",
      "Epoch 42: ReduceLROnPlateau reducing learning rate to 1.000000082740371e-08.\n",
      "367/367 [==============================] - 31s 84ms/step - loss: 3.8104e-04 - accuracy: 0.9997 - val_loss: 0.0029 - val_accuracy: 0.9984 - lr: 1.0000e-07\n",
      "Epoch 43/100\n",
      "367/367 [==============================] - ETA: 0s - loss: 9.6446e-05 - accuracy: 1.0000\n",
      "Epoch 43: val_accuracy did not improve from 0.99945\n",
      "367/367 [==============================] - 31s 83ms/step - loss: 9.6446e-05 - accuracy: 1.0000 - val_loss: 0.0024 - val_accuracy: 0.9995 - lr: 1.0000e-08\n",
      "Epoch 44/100\n",
      "367/367 [==============================] - ETA: 0s - loss: 8.9445e-05 - accuracy: 1.0000\n",
      "Epoch 44: val_accuracy did not improve from 0.99945\n",
      "367/367 [==============================] - 30s 83ms/step - loss: 8.9445e-05 - accuracy: 1.0000 - val_loss: 0.0028 - val_accuracy: 0.9984 - lr: 1.0000e-08\n",
      "Epoch 45/100\n",
      "367/367 [==============================] - ETA: 0s - loss: 4.3481e-05 - accuracy: 1.0000\n",
      "Epoch 45: val_accuracy did not improve from 0.99945\n",
      "367/367 [==============================] - 31s 83ms/step - loss: 4.3481e-05 - accuracy: 1.0000 - val_loss: 0.0025 - val_accuracy: 0.9989 - lr: 1.0000e-08\n",
      "Epoch 46/100\n",
      "367/367 [==============================] - ETA: 0s - loss: 0.0014 - accuracy: 0.9999\n",
      "Epoch 46: val_accuracy did not improve from 0.99945\n",
      "367/367 [==============================] - 31s 84ms/step - loss: 0.0014 - accuracy: 0.9999 - val_loss: 0.0027 - val_accuracy: 0.9984 - lr: 1.0000e-08\n",
      "Epoch 47/100\n",
      "367/367 [==============================] - ETA: 0s - loss: 9.4834e-05 - accuracy: 1.0000\n",
      "Epoch 47: val_accuracy did not improve from 0.99945\n",
      "Restoring model weights from the end of the best epoch: 27.\n",
      "\n",
      "Epoch 47: ReduceLROnPlateau reducing learning rate to 1.000000082740371e-09.\n",
      "367/367 [==============================] - 31s 84ms/step - loss: 9.4834e-05 - accuracy: 1.0000 - val_loss: 0.0027 - val_accuracy: 0.9984 - lr: 1.0000e-08\n",
      "Epoch 47: early stopping\n"
     ]
    }
   ],
   "source": [
    "# Define the number of epochs\n",
    "num_epochs = 100\n",
    "\n",
    "# Train the model\n",
    "history_Xception_model_2 = Xception_model_2.fit(train_generator, epochs=num_epochs, validation_data=validation_generator, callbacks=callbacks)"
   ]
  },
  {
   "cell_type": "code",
   "execution_count": 18,
   "metadata": {
    "colab": {
     "base_uri": "https://localhost:8080/",
     "height": 904
    },
    "id": "3f1nmwUhU2TK",
    "outputId": "4992ac27-13df-40df-fdfe-dcb6ce77da09",
    "tags": []
   },
   "outputs": [
    {
     "data": {
      "text/plain": [
       "<matplotlib.legend.Legend at 0x7f65d1130a00>"
      ]
     },
     "execution_count": 18,
     "metadata": {},
     "output_type": "execute_result"
    },
    {
     "data": {
      "image/png": "[encoded data removed]",
      "text/plain": [
       "<Figure size 640x480 with 1 Axes>"
      ]
     },
     "metadata": {},
     "output_type": "display_data"
    },
    {
     "data": {
      "image/png": "[encoded data removed]",
      "text/plain": [
       "<Figure size 640x480 with 1 Axes>"
      ]
     },
     "metadata": {},
     "output_type": "display_data"
    }
   ],
   "source": [
    "#-----------------------------------------------------------\n",
    "# Retrieve a list of list results on training and test data\n",
    "# sets for each training epoch\n",
    "#-----------------------------------------------------------\n",
    "acc      = history_Xception_model_2.history['accuracy' ]\n",
    "val_acc  = history_Xception_model_2.history['val_accuracy' ]\n",
    "loss     = history_Xception_model_2.history['loss' ]\n",
    "val_loss = history_Xception_model_2.history['val_loss' ]\n",
    "\n",
    "epochs   = range(len(acc)) # Get number of epochs\n",
    "\n",
    "#------------------------------------------------\n",
    "# Plot training and validation accuracy per epoch\n",
    "#------------------------------------------------\n",
    "plt.plot  (epochs, acc )\n",
    "plt.plot  (epochs, val_acc )\n",
    "plt.title ('Training and validation accuracy Xception Model 2 Non Augmented')\n",
    "plt.legend(['train', 'val'], loc='upper left')\n",
    "plt.figure()\n",
    "\n",
    "#------------------------------------------------\n",
    "# Plot training and validation loss per epoch\n",
    "#------------------------------------------------\n",
    "plt.plot  (epochs, loss)\n",
    "plt.plot  (epochs, val_loss)\n",
    "plt.title ('Training and validation loss Xception Model 2 Non Augmented')\n",
    "plt.legend(['train', 'val'], loc='upper left')"
   ]
  }
 ],
 "metadata": {
  "accelerator": "GPU",
  "colab": {
   "gpuType": "T4",
   "provenance": []
  },
  "gpuClass": "standard",
  "kernelspec": {
   "display_name": "Python 3 (ipykernel)",
   "language": "python",
   "name": "python3"
  },
  "language_info": {
   "codemirror_mode": {
    "name": "ipython",
    "version": 3
   },
   "file_extension": ".py",
   "mimetype": "text/x-python",
   "name": "python",
   "nbconvert_exporter": "python",
   "pygments_lexer": "ipython3",
   "version": "3.8.10"
  },
  "toc-autonumbering": false,
  "toc-showmarkdowntxt": false
 },
 "nbformat": 4,
 "nbformat_minor": 4
}
