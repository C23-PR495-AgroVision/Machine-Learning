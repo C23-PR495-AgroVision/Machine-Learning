{
 "cells": [
  {
   "cell_type": "markdown",
   "metadata": {
    "id": "hO3kEcUPU2S3"
   },
   "source": [
    "# Library"
   ]
  },
  {
   "cell_type": "code",
   "execution_count": 1,
   "metadata": {
    "colab": {
     "base_uri": "https://localhost:8080/"
    },
    "id": "kczkUjsAU2S8",
    "outputId": "2d863468-716c-4d25-b7be-63eb7f630eb2",
    "tags": []
   },
   "outputs": [
    {
     "name": "stdout",
     "output_type": "stream",
     "text": [
      "Collecting matplotlib\n",
      "  Downloading matplotlib-3.7.1-cp38-cp38-manylinux_2_12_x86_64.manylinux2010_x86_64.whl (9.2 MB)\n",
      "\u001b[2K     \u001b[90m━━━━━━━━━━━━━━━━━━━━━━━━━━━━━━━━━━━━━━━━\u001b[0m \u001b[32m9.2/9.2 MB\u001b[0m \u001b[31m42.8 MB/s\u001b[0m eta \u001b[36m0:00:00\u001b[0m00:01\u001b[0m00:01\u001b[0m\n",
      "\u001b[?25hCollecting pillow>=6.2.0\n",
      "  Downloading Pillow-9.5.0-cp38-cp38-manylinux_2_28_x86_64.whl (3.4 MB)\n",
      "\u001b[2K     \u001b[90m━━━━━━━━━━━━━━━━━━━━━━━━━━━━━━━━━━━━━━━━\u001b[0m \u001b[32m3.4/3.4 MB\u001b[0m \u001b[31m45.5 MB/s\u001b[0m eta \u001b[36m0:00:00\u001b[0m00:01\u001b[0m00:01\u001b[0m\n",
      "\u001b[?25hCollecting cycler>=0.10\n",
      "  Downloading cycler-0.11.0-py3-none-any.whl (6.4 kB)\n",
      "Collecting fonttools>=4.22.0\n",
      "  Downloading fonttools-4.39.4-py3-none-any.whl (1.0 MB)\n",
      "\u001b[2K     \u001b[90m━━━━━━━━━━━━━━━━━━━━━━━━━━━━━━━━━━━━━━━━\u001b[0m \u001b[32m1.0/1.0 MB\u001b[0m \u001b[31m50.3 MB/s\u001b[0m eta \u001b[36m0:00:00\u001b[0m\n",
      "\u001b[?25hRequirement already satisfied: packaging>=20.0 in /usr/local/lib/python3.8/dist-packages (from matplotlib) (23.0)\n",
      "Collecting pyparsing>=2.3.1\n",
      "  Downloading pyparsing-3.0.9-py3-none-any.whl (98 kB)\n",
      "\u001b[2K     \u001b[90m━━━━━━━━━━━━━━━━━━━━━━━━━━━━━━━━━━━━━━━━\u001b[0m \u001b[32m98.3/98.3 kB\u001b[0m \u001b[31m12.6 MB/s\u001b[0m eta \u001b[36m0:00:00\u001b[0m\n",
      "\u001b[?25hRequirement already satisfied: python-dateutil>=2.7 in /usr/local/lib/python3.8/dist-packages (from matplotlib) (2.8.2)\n",
      "Collecting kiwisolver>=1.0.1\n",
      "  Downloading kiwisolver-1.4.4-cp38-cp38-manylinux_2_5_x86_64.manylinux1_x86_64.whl (1.2 MB)\n",
      "\u001b[2K     \u001b[90m━━━━━━━━━━━━━━━━━━━━━━━━━━━━━━━━━━━━━━━━\u001b[0m \u001b[32m1.2/1.2 MB\u001b[0m \u001b[31m52.2 MB/s\u001b[0m eta \u001b[36m0:00:00\u001b[0m\n",
      "\u001b[?25hCollecting contourpy>=1.0.1\n",
      "  Downloading contourpy-1.0.7-cp38-cp38-manylinux_2_17_x86_64.manylinux2014_x86_64.whl (300 kB)\n",
      "\u001b[2K     \u001b[90m━━━━━━━━━━━━━━━━━━━━━━━━━━━━━━━━━━━━━━\u001b[0m \u001b[32m300.0/300.0 kB\u001b[0m \u001b[31m30.6 MB/s\u001b[0m eta \u001b[36m0:00:00\u001b[0m\n",
      "\u001b[?25hRequirement already satisfied: importlib-resources>=3.2.0 in /usr/local/lib/python3.8/dist-packages (from matplotlib) (5.12.0)\n",
      "Requirement already satisfied: numpy>=1.20 in /usr/local/lib/python3.8/dist-packages (from matplotlib) (1.23.5)\n",
      "Requirement already satisfied: zipp>=3.1.0 in /usr/local/lib/python3.8/dist-packages (from importlib-resources>=3.2.0->matplotlib) (3.15.0)\n",
      "Requirement already satisfied: six>=1.5 in /usr/lib/python3/dist-packages (from python-dateutil>=2.7->matplotlib) (1.14.0)\n",
      "Installing collected packages: pyparsing, pillow, kiwisolver, fonttools, cycler, contourpy, matplotlib\n",
      "Successfully installed contourpy-1.0.7 cycler-0.11.0 fonttools-4.39.4 kiwisolver-1.4.4 matplotlib-3.7.1 pillow-9.5.0 pyparsing-3.0.9\n",
      "\u001b[33mWARNING: Running pip as the 'root' user can result in broken permissions and conflicting behaviour with the system package manager. It is recommended to use a virtual environment instead: https://pip.pypa.io/warnings/venv\u001b[0m\u001b[33m\n",
      "\u001b[0m\n",
      "\u001b[1m[\u001b[0m\u001b[34;49mnotice\u001b[0m\u001b[1;39;49m]\u001b[0m\u001b[39;49m A new release of pip is available: \u001b[0m\u001b[31;49m23.0.1\u001b[0m\u001b[39;49m -> \u001b[0m\u001b[32;49m23.1.2\u001b[0m\n",
      "\u001b[1m[\u001b[0m\u001b[34;49mnotice\u001b[0m\u001b[1;39;49m]\u001b[0m\u001b[39;49m To update, run: \u001b[0m\u001b[32;49mpython3 -m pip install --upgrade pip\u001b[0m\n",
      "Note: you may need to restart the kernel to use updated packages.\n"
     ]
    }
   ],
   "source": [
    "pip install matplotlib"
   ]
  },
  {
   "cell_type": "code",
   "execution_count": 2,
   "metadata": {
    "colab": {
     "base_uri": "https://localhost:8080/"
    },
    "id": "oEW3Nbu7U2S_",
    "outputId": "737914b9-517e-47fe-f485-b1b241b9f8c1",
    "tags": []
   },
   "outputs": [
    {
     "name": "stdout",
     "output_type": "stream",
     "text": [
      "Collecting opendatasets\n",
      "  Downloading opendatasets-0.1.22-py3-none-any.whl (15 kB)\n",
      "Collecting tqdm\n",
      "  Downloading tqdm-4.65.0-py3-none-any.whl (77 kB)\n",
      "\u001b[2K     \u001b[90m━━━━━━━━━━━━━━━━━━━━━━━━━━━━━━━━━━━━━━━━\u001b[0m \u001b[32m77.1/77.1 kB\u001b[0m \u001b[31m1.7 MB/s\u001b[0m eta \u001b[36m0:00:00\u001b[0ma \u001b[36m0:00:01\u001b[0m\n",
      "\u001b[?25hCollecting click\n",
      "  Downloading click-8.1.3-py3-none-any.whl (96 kB)\n",
      "\u001b[2K     \u001b[90m━━━━━━━━━━━━━━━━━━━━━━━━━━━━━━━━━━━━━━━━\u001b[0m \u001b[32m96.6/96.6 kB\u001b[0m \u001b[31m5.7 MB/s\u001b[0m eta \u001b[36m0:00:00\u001b[0m\n",
      "\u001b[?25hCollecting kaggle\n",
      "  Downloading kaggle-1.5.13.tar.gz (63 kB)\n",
      "\u001b[2K     \u001b[90m━━━━━━━━━━━━━━━━━━━━━━━━━━━━━━━━━━━━━━━━\u001b[0m \u001b[32m63.3/63.3 kB\u001b[0m \u001b[31m6.8 MB/s\u001b[0m eta \u001b[36m0:00:00\u001b[0m\n",
      "\u001b[?25h  Preparing metadata (setup.py) ... \u001b[?25ldone\n",
      "\u001b[?25hRequirement already satisfied: six>=1.10 in /usr/lib/python3/dist-packages (from kaggle->opendatasets) (1.14.0)\n",
      "Requirement already satisfied: certifi in /usr/lib/python3/dist-packages (from kaggle->opendatasets) (2019.11.28)\n",
      "Requirement already satisfied: python-dateutil in /usr/local/lib/python3.8/dist-packages (from kaggle->opendatasets) (2.8.2)\n",
      "Requirement already satisfied: requests in /usr/local/lib/python3.8/dist-packages (from kaggle->opendatasets) (2.31.0)\n",
      "Collecting python-slugify\n",
      "  Downloading python_slugify-8.0.1-py2.py3-none-any.whl (9.7 kB)\n",
      "Requirement already satisfied: urllib3 in /usr/lib/python3/dist-packages (from kaggle->opendatasets) (1.25.8)\n",
      "Collecting text-unidecode>=1.3\n",
      "  Downloading text_unidecode-1.3-py2.py3-none-any.whl (78 kB)\n",
      "\u001b[2K     \u001b[90m━━━━━━━━━━━━━━━━━━━━━━━━━━━━━━━━━━━━━━━━\u001b[0m \u001b[32m78.2/78.2 kB\u001b[0m \u001b[31m11.1 MB/s\u001b[0m eta \u001b[36m0:00:00\u001b[0m\n",
      "\u001b[?25hRequirement already satisfied: charset-normalizer<4,>=2 in /usr/local/lib/python3.8/dist-packages (from requests->kaggle->opendatasets) (3.1.0)\n",
      "Requirement already satisfied: idna<4,>=2.5 in /usr/lib/python3/dist-packages (from requests->kaggle->opendatasets) (2.8)\n",
      "Building wheels for collected packages: kaggle\n",
      "  Building wheel for kaggle (setup.py) ... \u001b[?25ldone\n",
      "\u001b[?25h  Created wheel for kaggle: filename=kaggle-1.5.13-py3-none-any.whl size=77717 sha256=3656a92271a912f206779770dc7b272b23d3cbf6f11062bac46ccbb0f714b2d4\n",
      "  Stored in directory: /root/.cache/pip/wheels/e6/8e/67/e07554a720a493dc6b39b30488590ba92ed45448ad0134d253\n",
      "Successfully built kaggle\n",
      "Installing collected packages: text-unidecode, tqdm, python-slugify, click, kaggle, opendatasets\n",
      "Successfully installed click-8.1.3 kaggle-1.5.13 opendatasets-0.1.22 python-slugify-8.0.1 text-unidecode-1.3 tqdm-4.65.0\n",
      "\u001b[33mWARNING: Running pip as the 'root' user can result in broken permissions and conflicting behaviour with the system package manager. It is recommended to use a virtual environment instead: https://pip.pypa.io/warnings/venv\u001b[0m\u001b[33m\n",
      "\u001b[0m\n",
      "\u001b[1m[\u001b[0m\u001b[34;49mnotice\u001b[0m\u001b[1;39;49m]\u001b[0m\u001b[39;49m A new release of pip is available: \u001b[0m\u001b[31;49m23.0.1\u001b[0m\u001b[39;49m -> \u001b[0m\u001b[32;49m23.1.2\u001b[0m\n",
      "\u001b[1m[\u001b[0m\u001b[34;49mnotice\u001b[0m\u001b[1;39;49m]\u001b[0m\u001b[39;49m To update, run: \u001b[0m\u001b[32;49mpython3 -m pip install --upgrade pip\u001b[0m\n",
      "Note: you may need to restart the kernel to use updated packages.\n"
     ]
    }
   ],
   "source": [
    "pip install opendatasets"
   ]
  },
  {
   "cell_type": "code",
   "execution_count": 3,
   "metadata": {
    "id": "SIHHdOB4U2TA",
    "tags": []
   },
   "outputs": [],
   "source": [
    "# Library to dataset\n",
    "import opendatasets as od\n",
    "import os\n",
    "import zipfile\n",
    "import numpy as np\n",
    "\n",
    "# Surpress Warnings\n",
    "import warnings\n",
    "warnings.filterwarnings('ignore')\n",
    "os.environ['TF_CPP_MIN_LOG_LEVEL'] = '3' \n",
    "# library visualization\n",
    "import matplotlib.pyplot as plt\n",
    "\n",
    "# Library Tensorflow\n",
    "import tensorflow as tf\n",
    "from tensorflow import keras\n",
    "from tensorflow.keras.preprocessing.image import ImageDataGenerator\n",
    "from tensorflow.keras.callbacks import ModelCheckpoint, EarlyStopping, ReduceLROnPlateau\n",
    "from tensorflow.keras.applications.densenet import DenseNet121\n",
    "# Others\n",
    "import shutil\n",
    "import random"
   ]
  },
  {
   "cell_type": "markdown",
   "metadata": {
    "id": "Dy8YkYoaU2TB"
   },
   "source": [
    "# Load dataset"
   ]
  },
  {
   "cell_type": "code",
   "execution_count": 4,
   "metadata": {
    "colab": {
     "base_uri": "https://localhost:8080/"
    },
    "id": "TWOf7hZ1U2TC",
    "outputId": "beeafb7e-9cec-476e-a72b-792e411da5a1",
    "tags": []
   },
   "outputs": [
    {
     "name": "stdout",
     "output_type": "stream",
     "text": [
      "Please provide your Kaggle credentials to download this dataset. Learn more: http://bit.ly/kaggle-creds\n",
      "Your Kaggle username:"
     ]
    },
    {
     "name": "stdin",
     "output_type": "stream",
     "text": [
      "  ahmadhabibhasanzein\n"
     ]
    },
    {
     "name": "stdout",
     "output_type": "stream",
     "text": [
      "Your Kaggle Key:"
     ]
    },
    {
     "name": "stdin",
     "output_type": "stream",
     "text": [
      "  ········\n"
     ]
    },
    {
     "name": "stdout",
     "output_type": "stream",
     "text": [
      "Downloading grape-leaves.zip to ./grape-leaves\n"
     ]
    },
    {
     "name": "stderr",
     "output_type": "stream",
     "text": [
      "100%|██████████| 223M/223M [00:06<00:00, 37.1MB/s] \n"
     ]
    },
    {
     "name": "stdout",
     "output_type": "stream",
     "text": [
      "\n"
     ]
    }
   ],
   "source": [
    "# Download dataset\n",
    "od.download('https://www.kaggle.com/datasets/ahmadhabibhasanzein/grape-leaves')"
   ]
  },
  {
   "cell_type": "code",
   "execution_count": 5,
   "metadata": {
    "colab": {
     "base_uri": "https://localhost:8080/"
    },
    "id": "8ZAjREJ0U2TC",
    "outputId": "69ce0224-72a0-4ba9-8275-ce116d4a0afb",
    "tags": []
   },
   "outputs": [
    {
     "name": "stdout",
     "output_type": "stream",
     "text": [
      "==========================Training Data====================\n",
      "Found 7335 files belonging to 4 classes.\n",
      "==========================Validation Data====================\n",
      "Found 1825 files belonging to 4 classes.\n"
     ]
    }
   ],
   "source": [
    "# Load dataset\n",
    "print(\"==========================Training Data====================\")\n",
    "train_data = tf.keras.preprocessing.image_dataset_from_directory(\n",
    "    \"grape-leaves/grape/train\",\n",
    "    label_mode=\"categorical\",\n",
    "    class_names=['Grape Esca (Black_Measles)','Grape Leaf blight (Isariopsis_Leaf_Spot)','grape leaf Healthy','grape leaf black rot'],\n",
    "    color_mode=\"rgb\",\n",
    "    batch_size=1,\n",
    "    image_size=(256, 256),\n",
    "    shuffle=True,\n",
    "    seed=123\n",
    ")\n",
    "print(\"==========================Validation Data====================\")\n",
    "val_data = tf.keras.preprocessing.image_dataset_from_directory(\n",
    "    \"grape-leaves/grape/valid\",\n",
    "    label_mode=\"categorical\",\n",
    "    class_names=['Grape Esca (Black_Measles)','Grape Leaf blight (Isariopsis_Leaf_Spot)','grape leaf Healthy','grape leaf black rot'],\n",
    "    color_mode=\"rgb\",\n",
    "    batch_size=1,\n",
    "    image_size=(256, 256),\n",
    "    shuffle=True,\n",
    "    seed=123\n",
    ")"
   ]
  },
  {
   "cell_type": "code",
   "execution_count": 6,
   "metadata": {
    "colab": {
     "base_uri": "https://localhost:8080/"
    },
    "id": "vEPzd1egU2TD",
    "outputId": "58d8e1e0-03ce-4a64-b9d8-4f962229abff",
    "tags": []
   },
   "outputs": [
    {
     "name": "stdout",
     "output_type": "stream",
     "text": [
      "Found 7335 images belonging to 4 classes.\n",
      "Found 1825 images belonging to 4 classes.\n"
     ]
    }
   ],
   "source": [
    "# All images will be rescaled by 1./255.\n",
    "train_datagen = ImageDataGenerator(rescale = 1.0/256.)\n",
    "test_datagen  = ImageDataGenerator(rescale = 1.0/256.)\n",
    "\n",
    "# --------------------\n",
    "# Flow training images in batches of 20 using train_datagen generator\n",
    "# --------------------\n",
    "train_generator = train_datagen.flow_from_directory(\"grape-leaves/grape/train\",\n",
    "                                                    batch_size=20,\n",
    "                                                    class_mode='categorical',\n",
    "                                                    target_size=(224, 224))     \n",
    "# --------------------\n",
    "# Flow validation images in batches of 20 using test_datagen generator\n",
    "# --------------------\n",
    "validation_generator =  test_datagen.flow_from_directory(\"grape-leaves/grape/valid\",\n",
    "                                                         batch_size=20,\n",
    "                                                         class_mode  = 'categorical',\n",
    "                                                         target_size = (224, 224))"
   ]
  },
  {
   "cell_type": "markdown",
   "metadata": {
    "id": "_3jaO5YgU2TE"
   },
   "source": [
    "# List Resource"
   ]
  },
  {
   "cell_type": "code",
   "execution_count": 7,
   "metadata": {
    "colab": {
     "base_uri": "https://localhost:8080/"
    },
    "id": "SGemCaxnU2TF",
    "outputId": "56154f0d-06c6-47e3-8606-d24b26bad3f3",
    "tags": []
   },
   "outputs": [
    {
     "name": "stdout",
     "output_type": "stream",
     "text": [
      "Thu May 25 04:09:58 2023       \n",
      "+-----------------------------------------------------------------------------+\n",
      "| NVIDIA-SMI 525.105.17   Driver Version: 525.105.17   CUDA Version: 12.0     |\n",
      "|-------------------------------+----------------------+----------------------+\n",
      "| GPU  Name        Persistence-M| Bus-Id        Disp.A | Volatile Uncorr. ECC |\n",
      "| Fan  Temp  Perf  Pwr:Usage/Cap|         Memory-Usage | GPU-Util  Compute M. |\n",
      "|                               |                      |               MIG M. |\n",
      "|===============================+======================+======================|\n",
      "|   0  NVIDIA GeForce ...  On   | 00000000:01:00.0 Off |                  N/A |\n",
      "|  0%   50C    P2    34W / 170W |  10509MiB / 12288MiB |      0%      Default |\n",
      "|                               |                      |                  N/A |\n",
      "+-------------------------------+----------------------+----------------------+\n",
      "                                                                               \n",
      "+-----------------------------------------------------------------------------+\n",
      "| Processes:                                                                  |\n",
      "|  GPU   GI   CI        PID   Type   Process name                  GPU Memory |\n",
      "|        ID   ID                                                   Usage      |\n",
      "|=============================================================================|\n",
      "+-----------------------------------------------------------------------------+\n"
     ]
    }
   ],
   "source": [
    "# Check GPU\n",
    "!nvidia-smi"
   ]
  },
  {
   "cell_type": "code",
   "execution_count": 8,
   "metadata": {
    "colab": {
     "base_uri": "https://localhost:8080/"
    },
    "id": "FSapZ74PU2TF",
    "outputId": "19eff44b-e9b5-4235-d857-829cfdf9440a",
    "tags": []
   },
   "outputs": [
    {
     "data": {
      "text/plain": [
       "[PhysicalDevice(name='/physical_device:GPU:0', device_type='GPU')]"
      ]
     },
     "execution_count": 8,
     "metadata": {},
     "output_type": "execute_result"
    }
   ],
   "source": [
    "# Lis physical devices\n",
    "devices = tf.config.experimental.list_physical_devices(\"GPU\")\n",
    "devices"
   ]
  },
  {
   "cell_type": "code",
   "execution_count": 9,
   "metadata": {
    "id": "A8WtBtBaU2TG",
    "tags": []
   },
   "outputs": [
    {
     "name": "stdout",
     "output_type": "stream",
     "text": [
      "INFO:tensorflow:Using MirroredStrategy with devices ('/job:localhost/replica:0/task:0/device:GPU:0',)\n"
     ]
    }
   ],
   "source": [
    "# Define the GPU strategy\n",
    "mirrored_strategy = tf.distribute.MirroredStrategy(devices=[\"/gpu:0\"])"
   ]
  },
  {
   "cell_type": "markdown",
   "metadata": {
    "id": "Vqr_uGTNU2TG"
   },
   "source": [
    "# Modelling Without Augmentation"
   ]
  },
  {
   "cell_type": "markdown",
   "metadata": {
    "id": "w4Wzh6ZyU2TH"
   },
   "source": [
    "## DenseNet Model 1"
   ]
  },
  {
   "cell_type": "code",
   "execution_count": 10,
   "metadata": {
    "id": "uUqYGBfRU2TH",
    "tags": []
   },
   "outputs": [],
   "source": [
    "# Difine the callbacks\n",
    "# Save the best model\n",
    "checkpoint_callback = ModelCheckpoint(filepath=\"Grape_DenseNet_model1_Based_Non_Augmented\", save_best_only=True, monitor=\"val_accuracy\", mode=\"max\", verbose=1)\n",
    "\n",
    "# Early stopping\n",
    "early_stopping_callback = EarlyStopping(monitor=\"val_accuracy\", mode=\"max\", patience=20, verbose=1, restore_best_weights=True)\n",
    "\n",
    "# Reduce learning rate\n",
    "reduce_lr_callback = ReduceLROnPlateau(monitor=\"val_loss\", factor=0.1, patience=5, verbose=1, mode=\"min\", min_delta=0.0001, cooldown=0, min_lr=0)\n",
    "\n",
    "# Callbacks list\n",
    "callbacks=[checkpoint_callback, early_stopping_callback, reduce_lr_callback]"
   ]
  },
  {
   "cell_type": "code",
   "execution_count": 11,
   "metadata": {
    "colab": {
     "base_uri": "https://localhost:8080/"
    },
    "id": "BQHFs3gSU2TI",
    "outputId": "373fba40-befb-458a-a24c-ed0a6e53ad37",
    "tags": []
   },
   "outputs": [
    {
     "name": "stdout",
     "output_type": "stream",
     "text": [
      "Downloading data from https://storage.googleapis.com/tensorflow/keras-applications/densenet/densenet121_weights_tf_dim_ordering_tf_kernels_notop.h5\n",
      "29084464/29084464 [==============================] - 0s 0us/step\n",
      "Model: \"sequential\"\n",
      "_________________________________________________________________\n",
      " Layer (type)                Output Shape              Param #   \n",
      "=================================================================\n",
      " densenet121 (Functional)    (None, 7, 7, 1024)        7037504   \n",
      "                                                                 \n",
      " global_max_pooling2d (Globa  (None, 1024)             0         \n",
      " lMaxPooling2D)                                                  \n",
      "                                                                 \n",
      " dropout (Dropout)           (None, 1024)              0         \n",
      "                                                                 \n",
      " dense (Dense)               (None, 256)               262400    \n",
      "                                                                 \n",
      " dense_1 (Dense)             (None, 4)                 1028      \n",
      "                                                                 \n",
      "=================================================================\n",
      "Total params: 7,300,932\n",
      "Trainable params: 7,217,284\n",
      "Non-trainable params: 83,648\n",
      "_________________________________________________________________\n"
     ]
    }
   ],
   "source": [
    "# Define DIY Model\n",
    "DenseNet_model = tf.keras.models.Sequential([\n",
    "    # DenseNet121 Layer\n",
    "    DenseNet121(include_top=False,weights='imagenet',input_shape=(224, 224, 3)),\n",
    "    # Global Max Pooling Layer\n",
    "    tf.keras.layers.GlobalMaxPooling2D(),\n",
    "    # Drop Out Layer\n",
    "    tf.keras.layers.Dropout(0.2),\n",
    "    # 256 neuron hidden layer\n",
    "    tf.keras.layers.Dense(256, activation='relu'),\n",
    "    # Output\n",
    "    tf.keras.layers.Dense(4, activation='softmax') \n",
    "  ])\n",
    "\n",
    "\n",
    "# Compile Model\n",
    "DenseNet_model.compile(loss='categorical_crossentropy',optimizer=tf.keras.optimizers.Adam(), metrics=['accuracy']) \n",
    "\n",
    "# Model Summary\n",
    "DenseNet_model.summary()"
   ]
  },
  {
   "cell_type": "code",
   "execution_count": 12,
   "metadata": {
    "colab": {
     "base_uri": "https://localhost:8080/"
    },
    "id": "6coN3TKhU2TI",
    "outputId": "651676a2-bd0a-4a60-b0e9-1ea59c6dcb27",
    "tags": []
   },
   "outputs": [
    {
     "name": "stdout",
     "output_type": "stream",
     "text": [
      "Epoch 1/100\n",
      "367/367 [==============================] - ETA: 0s - loss: 0.2657 - accuracy: 0.9429\n",
      "Epoch 1: val_accuracy improved from -inf to 0.95288, saving model to Grape_DenseNet_model1_Based_Non_Augmented\n"
     ]
    },
    {
     "name": "stderr",
     "output_type": "stream",
     "text": [
      "WARNING:absl:Found untraced functions such as _jit_compiled_convolution_op, _jit_compiled_convolution_op, _jit_compiled_convolution_op, _jit_compiled_convolution_op, _jit_compiled_convolution_op while saving (showing 5 of 120). These functions will not be directly callable after loading.\n"
     ]
    },
    {
     "name": "stdout",
     "output_type": "stream",
     "text": [
      "INFO:tensorflow:Assets written to: Grape_DenseNet_model1_Based_Non_Augmented/assets\n"
     ]
    },
    {
     "name": "stderr",
     "output_type": "stream",
     "text": [
      "INFO:tensorflow:Assets written to: Grape_DenseNet_model1_Based_Non_Augmented/assets\n"
     ]
    },
    {
     "name": "stdout",
     "output_type": "stream",
     "text": [
      "367/367 [==============================] - 223s 377ms/step - loss: 0.2657 - accuracy: 0.9429 - val_loss: 0.2162 - val_accuracy: 0.9529 - lr: 0.0010\n",
      "Epoch 2/100\n",
      "367/367 [==============================] - ETA: 0s - loss: 0.0882 - accuracy: 0.9741\n",
      "Epoch 2: val_accuracy did not improve from 0.95288\n",
      "367/367 [==============================] - 64s 174ms/step - loss: 0.0882 - accuracy: 0.9741 - val_loss: 0.2430 - val_accuracy: 0.9414 - lr: 0.0010\n",
      "Epoch 3/100\n",
      "367/367 [==============================] - ETA: 0s - loss: 0.0339 - accuracy: 0.9891\n",
      "Epoch 3: val_accuracy improved from 0.95288 to 0.98192, saving model to Grape_DenseNet_model1_Based_Non_Augmented\n"
     ]
    },
    {
     "name": "stderr",
     "output_type": "stream",
     "text": [
      "WARNING:absl:Found untraced functions such as _jit_compiled_convolution_op, _jit_compiled_convolution_op, _jit_compiled_convolution_op, _jit_compiled_convolution_op, _jit_compiled_convolution_op while saving (showing 5 of 120). These functions will not be directly callable after loading.\n"
     ]
    },
    {
     "name": "stdout",
     "output_type": "stream",
     "text": [
      "INFO:tensorflow:Assets written to: Grape_DenseNet_model1_Based_Non_Augmented/assets\n"
     ]
    },
    {
     "name": "stderr",
     "output_type": "stream",
     "text": [
      "INFO:tensorflow:Assets written to: Grape_DenseNet_model1_Based_Non_Augmented/assets\n"
     ]
    },
    {
     "name": "stdout",
     "output_type": "stream",
     "text": [
      "367/367 [==============================] - 125s 341ms/step - loss: 0.0339 - accuracy: 0.9891 - val_loss: 0.0661 - val_accuracy: 0.9819 - lr: 0.0010\n",
      "Epoch 4/100\n",
      "367/367 [==============================] - ETA: 0s - loss: 0.0605 - accuracy: 0.9817\n",
      "Epoch 4: val_accuracy did not improve from 0.98192\n",
      "367/367 [==============================] - 63s 173ms/step - loss: 0.0605 - accuracy: 0.9817 - val_loss: 0.1617 - val_accuracy: 0.9430 - lr: 0.0010\n",
      "Epoch 5/100\n",
      "367/367 [==============================] - ETA: 0s - loss: 0.0378 - accuracy: 0.9881\n",
      "Epoch 5: val_accuracy improved from 0.98192 to 0.99233, saving model to Grape_DenseNet_model1_Based_Non_Augmented\n"
     ]
    },
    {
     "name": "stderr",
     "output_type": "stream",
     "text": [
      "WARNING:absl:Found untraced functions such as _jit_compiled_convolution_op, _jit_compiled_convolution_op, _jit_compiled_convolution_op, _jit_compiled_convolution_op, _jit_compiled_convolution_op while saving (showing 5 of 120). These functions will not be directly callable after loading.\n"
     ]
    },
    {
     "name": "stdout",
     "output_type": "stream",
     "text": [
      "INFO:tensorflow:Assets written to: Grape_DenseNet_model1_Based_Non_Augmented/assets\n"
     ]
    },
    {
     "name": "stderr",
     "output_type": "stream",
     "text": [
      "INFO:tensorflow:Assets written to: Grape_DenseNet_model1_Based_Non_Augmented/assets\n"
     ]
    },
    {
     "name": "stdout",
     "output_type": "stream",
     "text": [
      "367/367 [==============================] - 124s 337ms/step - loss: 0.0378 - accuracy: 0.9881 - val_loss: 0.0307 - val_accuracy: 0.9923 - lr: 0.0010\n",
      "Epoch 6/100\n",
      "367/367 [==============================] - ETA: 0s - loss: 0.0413 - accuracy: 0.9890\n",
      "Epoch 6: val_accuracy did not improve from 0.99233\n",
      "367/367 [==============================] - 64s 174ms/step - loss: 0.0413 - accuracy: 0.9890 - val_loss: 0.0328 - val_accuracy: 0.9901 - lr: 0.0010\n",
      "Epoch 7/100\n",
      "367/367 [==============================] - ETA: 0s - loss: 0.0211 - accuracy: 0.9937\n",
      "Epoch 7: val_accuracy improved from 0.99233 to 0.99562, saving model to Grape_DenseNet_model1_Based_Non_Augmented\n"
     ]
    },
    {
     "name": "stderr",
     "output_type": "stream",
     "text": [
      "WARNING:absl:Found untraced functions such as _jit_compiled_convolution_op, _jit_compiled_convolution_op, _jit_compiled_convolution_op, _jit_compiled_convolution_op, _jit_compiled_convolution_op while saving (showing 5 of 120). These functions will not be directly callable after loading.\n"
     ]
    },
    {
     "name": "stdout",
     "output_type": "stream",
     "text": [
      "INFO:tensorflow:Assets written to: Grape_DenseNet_model1_Based_Non_Augmented/assets\n"
     ]
    },
    {
     "name": "stderr",
     "output_type": "stream",
     "text": [
      "INFO:tensorflow:Assets written to: Grape_DenseNet_model1_Based_Non_Augmented/assets\n"
     ]
    },
    {
     "name": "stdout",
     "output_type": "stream",
     "text": [
      "367/367 [==============================] - 122s 334ms/step - loss: 0.0211 - accuracy: 0.9937 - val_loss: 0.0125 - val_accuracy: 0.9956 - lr: 0.0010\n",
      "Epoch 8/100\n",
      "367/367 [==============================] - ETA: 0s - loss: 0.0307 - accuracy: 0.9910\n",
      "Epoch 8: val_accuracy did not improve from 0.99562\n",
      "367/367 [==============================] - 64s 174ms/step - loss: 0.0307 - accuracy: 0.9910 - val_loss: 0.9749 - val_accuracy: 0.7890 - lr: 0.0010\n",
      "Epoch 9/100\n",
      "367/367 [==============================] - ETA: 0s - loss: 0.0280 - accuracy: 0.9920\n",
      "Epoch 9: val_accuracy did not improve from 0.99562\n",
      "367/367 [==============================] - 64s 174ms/step - loss: 0.0280 - accuracy: 0.9920 - val_loss: 0.0673 - val_accuracy: 0.9852 - lr: 0.0010\n",
      "Epoch 10/100\n",
      "367/367 [==============================] - ETA: 0s - loss: 0.0490 - accuracy: 0.9857\n",
      "Epoch 10: val_accuracy did not improve from 0.99562\n",
      "367/367 [==============================] - 64s 174ms/step - loss: 0.0490 - accuracy: 0.9857 - val_loss: 0.6983 - val_accuracy: 0.8455 - lr: 0.0010\n",
      "Epoch 11/100\n",
      "367/367 [==============================] - ETA: 0s - loss: 0.0288 - accuracy: 0.9913\n",
      "Epoch 11: val_accuracy did not improve from 0.99562\n",
      "367/367 [==============================] - 64s 175ms/step - loss: 0.0288 - accuracy: 0.9913 - val_loss: 0.2073 - val_accuracy: 0.9348 - lr: 0.0010\n",
      "Epoch 12/100\n",
      "367/367 [==============================] - ETA: 0s - loss: 0.0262 - accuracy: 0.9907\n",
      "Epoch 12: val_accuracy did not improve from 0.99562\n",
      "\n",
      "Epoch 12: ReduceLROnPlateau reducing learning rate to 0.00010000000474974513.\n",
      "367/367 [==============================] - 65s 176ms/step - loss: 0.0262 - accuracy: 0.9907 - val_loss: 0.0206 - val_accuracy: 0.9945 - lr: 0.0010\n",
      "Epoch 13/100\n",
      "367/367 [==============================] - ETA: 0s - loss: 0.0041 - accuracy: 0.9986\n",
      "Epoch 13: val_accuracy did not improve from 0.99562\n",
      "367/367 [==============================] - 65s 176ms/step - loss: 0.0041 - accuracy: 0.9986 - val_loss: 0.0160 - val_accuracy: 0.9956 - lr: 1.0000e-04\n",
      "Epoch 14/100\n",
      "367/367 [==============================] - ETA: 0s - loss: 0.0034 - accuracy: 0.9985\n",
      "Epoch 14: val_accuracy improved from 0.99562 to 0.99671, saving model to Grape_DenseNet_model1_Based_Non_Augmented\n"
     ]
    },
    {
     "name": "stderr",
     "output_type": "stream",
     "text": [
      "WARNING:absl:Found untraced functions such as _jit_compiled_convolution_op, _jit_compiled_convolution_op, _jit_compiled_convolution_op, _jit_compiled_convolution_op, _jit_compiled_convolution_op while saving (showing 5 of 120). These functions will not be directly callable after loading.\n"
     ]
    },
    {
     "name": "stdout",
     "output_type": "stream",
     "text": [
      "INFO:tensorflow:Assets written to: Grape_DenseNet_model1_Based_Non_Augmented/assets\n"
     ]
    },
    {
     "name": "stderr",
     "output_type": "stream",
     "text": [
      "INFO:tensorflow:Assets written to: Grape_DenseNet_model1_Based_Non_Augmented/assets\n"
     ]
    },
    {
     "name": "stdout",
     "output_type": "stream",
     "text": [
      "367/367 [==============================] - 124s 339ms/step - loss: 0.0034 - accuracy: 0.9985 - val_loss: 0.0159 - val_accuracy: 0.9967 - lr: 1.0000e-04\n",
      "Epoch 15/100\n",
      "367/367 [==============================] - ETA: 0s - loss: 0.0021 - accuracy: 0.9993\n",
      "Epoch 15: val_accuracy did not improve from 0.99671\n",
      "367/367 [==============================] - 64s 173ms/step - loss: 0.0021 - accuracy: 0.9993 - val_loss: 0.0096 - val_accuracy: 0.9967 - lr: 1.0000e-04\n",
      "Epoch 16/100\n",
      "367/367 [==============================] - ETA: 0s - loss: 0.0012 - accuracy: 0.9995\n",
      "Epoch 16: val_accuracy did not improve from 0.99671\n",
      "367/367 [==============================] - 65s 176ms/step - loss: 0.0012 - accuracy: 0.9995 - val_loss: 0.0114 - val_accuracy: 0.9967 - lr: 1.0000e-04\n",
      "Epoch 17/100\n",
      "367/367 [==============================] - ETA: 0s - loss: 0.0017 - accuracy: 0.9997\n",
      "Epoch 17: val_accuracy improved from 0.99671 to 0.99726, saving model to Grape_DenseNet_model1_Based_Non_Augmented\n"
     ]
    },
    {
     "name": "stderr",
     "output_type": "stream",
     "text": [
      "WARNING:absl:Found untraced functions such as _jit_compiled_convolution_op, _jit_compiled_convolution_op, _jit_compiled_convolution_op, _jit_compiled_convolution_op, _jit_compiled_convolution_op while saving (showing 5 of 120). These functions will not be directly callable after loading.\n"
     ]
    },
    {
     "name": "stdout",
     "output_type": "stream",
     "text": [
      "INFO:tensorflow:Assets written to: Grape_DenseNet_model1_Based_Non_Augmented/assets\n"
     ]
    },
    {
     "name": "stderr",
     "output_type": "stream",
     "text": [
      "INFO:tensorflow:Assets written to: Grape_DenseNet_model1_Based_Non_Augmented/assets\n"
     ]
    },
    {
     "name": "stdout",
     "output_type": "stream",
     "text": [
      "367/367 [==============================] - 127s 348ms/step - loss: 0.0017 - accuracy: 0.9997 - val_loss: 0.0106 - val_accuracy: 0.9973 - lr: 1.0000e-04\n",
      "Epoch 18/100\n",
      "367/367 [==============================] - ETA: 0s - loss: 0.0015 - accuracy: 0.9995\n",
      "Epoch 18: val_accuracy did not improve from 0.99726\n",
      "367/367 [==============================] - 64s 173ms/step - loss: 0.0015 - accuracy: 0.9995 - val_loss: 0.0109 - val_accuracy: 0.9967 - lr: 1.0000e-04\n",
      "Epoch 19/100\n",
      "367/367 [==============================] - ETA: 0s - loss: 4.8546e-04 - accuracy: 0.9999\n",
      "Epoch 19: val_accuracy did not improve from 0.99726\n",
      "367/367 [==============================] - 64s 174ms/step - loss: 4.8546e-04 - accuracy: 0.9999 - val_loss: 0.0101 - val_accuracy: 0.9967 - lr: 1.0000e-04\n",
      "Epoch 20/100\n",
      "367/367 [==============================] - ETA: 0s - loss: 0.0011 - accuracy: 0.9997\n",
      "Epoch 20: val_accuracy did not improve from 0.99726\n",
      "\n",
      "Epoch 20: ReduceLROnPlateau reducing learning rate to 1.0000000474974514e-05.\n",
      "367/367 [==============================] - 64s 173ms/step - loss: 0.0011 - accuracy: 0.9997 - val_loss: 0.0112 - val_accuracy: 0.9967 - lr: 1.0000e-04\n",
      "Epoch 21/100\n",
      "367/367 [==============================] - ETA: 0s - loss: 7.3605e-04 - accuracy: 0.9997\n",
      "Epoch 21: val_accuracy did not improve from 0.99726\n",
      "367/367 [==============================] - 63s 172ms/step - loss: 7.3605e-04 - accuracy: 0.9997 - val_loss: 0.0111 - val_accuracy: 0.9967 - lr: 1.0000e-05\n",
      "Epoch 22/100\n",
      "367/367 [==============================] - ETA: 0s - loss: 2.4947e-04 - accuracy: 1.0000\n",
      "Epoch 22: val_accuracy did not improve from 0.99726\n",
      "367/367 [==============================] - 63s 173ms/step - loss: 2.4947e-04 - accuracy: 1.0000 - val_loss: 0.0109 - val_accuracy: 0.9967 - lr: 1.0000e-05\n",
      "Epoch 23/100\n",
      "367/367 [==============================] - ETA: 0s - loss: 2.1989e-04 - accuracy: 1.0000\n",
      "Epoch 23: val_accuracy did not improve from 0.99726\n",
      "367/367 [==============================] - 64s 173ms/step - loss: 2.1989e-04 - accuracy: 1.0000 - val_loss: 0.0109 - val_accuracy: 0.9967 - lr: 1.0000e-05\n",
      "Epoch 24/100\n",
      "367/367 [==============================] - ETA: 0s - loss: 4.5110e-04 - accuracy: 0.9999\n",
      "Epoch 24: val_accuracy did not improve from 0.99726\n",
      "367/367 [==============================] - 63s 172ms/step - loss: 4.5110e-04 - accuracy: 0.9999 - val_loss: 0.0106 - val_accuracy: 0.9967 - lr: 1.0000e-05\n",
      "Epoch 25/100\n",
      "367/367 [==============================] - ETA: 0s - loss: 5.3733e-04 - accuracy: 0.9997\n",
      "Epoch 25: val_accuracy did not improve from 0.99726\n",
      "\n",
      "Epoch 25: ReduceLROnPlateau reducing learning rate to 1.0000000656873453e-06.\n",
      "367/367 [==============================] - 64s 174ms/step - loss: 5.3733e-04 - accuracy: 0.9997 - val_loss: 0.0103 - val_accuracy: 0.9973 - lr: 1.0000e-05\n",
      "Epoch 26/100\n",
      "367/367 [==============================] - ETA: 0s - loss: 5.8020e-04 - accuracy: 0.9997\n",
      "Epoch 26: val_accuracy did not improve from 0.99726\n",
      "367/367 [==============================] - 64s 173ms/step - loss: 5.8020e-04 - accuracy: 0.9997 - val_loss: 0.0101 - val_accuracy: 0.9973 - lr: 1.0000e-06\n",
      "Epoch 27/100\n",
      "367/367 [==============================] - ETA: 0s - loss: 1.8336e-04 - accuracy: 1.0000\n",
      "Epoch 27: val_accuracy did not improve from 0.99726\n",
      "367/367 [==============================] - 63s 173ms/step - loss: 1.8336e-04 - accuracy: 1.0000 - val_loss: 0.0103 - val_accuracy: 0.9973 - lr: 1.0000e-06\n",
      "Epoch 28/100\n",
      "367/367 [==============================] - ETA: 0s - loss: 2.1480e-04 - accuracy: 1.0000\n",
      "Epoch 28: val_accuracy did not improve from 0.99726\n",
      "367/367 [==============================] - 63s 173ms/step - loss: 2.1480e-04 - accuracy: 1.0000 - val_loss: 0.0102 - val_accuracy: 0.9973 - lr: 1.0000e-06\n",
      "Epoch 29/100\n",
      "367/367 [==============================] - ETA: 0s - loss: 3.1386e-04 - accuracy: 1.0000\n",
      "Epoch 29: val_accuracy did not improve from 0.99726\n",
      "367/367 [==============================] - 64s 173ms/step - loss: 3.1386e-04 - accuracy: 1.0000 - val_loss: 0.0103 - val_accuracy: 0.9973 - lr: 1.0000e-06\n",
      "Epoch 30/100\n",
      "367/367 [==============================] - ETA: 0s - loss: 1.5447e-04 - accuracy: 1.0000\n",
      "Epoch 30: val_accuracy did not improve from 0.99726\n",
      "\n",
      "Epoch 30: ReduceLROnPlateau reducing learning rate to 1.0000001111620805e-07.\n",
      "367/367 [==============================] - 64s 173ms/step - loss: 1.5447e-04 - accuracy: 1.0000 - val_loss: 0.0102 - val_accuracy: 0.9973 - lr: 1.0000e-06\n",
      "Epoch 31/100\n",
      "367/367 [==============================] - ETA: 0s - loss: 5.4253e-04 - accuracy: 0.9997\n",
      "Epoch 31: val_accuracy did not improve from 0.99726\n",
      "367/367 [==============================] - 64s 173ms/step - loss: 5.4253e-04 - accuracy: 0.9997 - val_loss: 0.0102 - val_accuracy: 0.9973 - lr: 1.0000e-07\n",
      "Epoch 32/100\n",
      "367/367 [==============================] - ETA: 0s - loss: 2.5548e-04 - accuracy: 1.0000\n",
      "Epoch 32: val_accuracy did not improve from 0.99726\n",
      "367/367 [==============================] - 64s 173ms/step - loss: 2.5548e-04 - accuracy: 1.0000 - val_loss: 0.0102 - val_accuracy: 0.9973 - lr: 1.0000e-07\n",
      "Epoch 33/100\n",
      "367/367 [==============================] - ETA: 0s - loss: 1.8198e-04 - accuracy: 1.0000\n",
      "Epoch 33: val_accuracy did not improve from 0.99726\n",
      "367/367 [==============================] - 64s 173ms/step - loss: 1.8198e-04 - accuracy: 1.0000 - val_loss: 0.0103 - val_accuracy: 0.9973 - lr: 1.0000e-07\n",
      "Epoch 34/100\n",
      "367/367 [==============================] - ETA: 0s - loss: 6.8765e-04 - accuracy: 0.9997\n",
      "Epoch 34: val_accuracy did not improve from 0.99726\n",
      "367/367 [==============================] - 63s 172ms/step - loss: 6.8765e-04 - accuracy: 0.9997 - val_loss: 0.0102 - val_accuracy: 0.9973 - lr: 1.0000e-07\n",
      "Epoch 35/100\n",
      "367/367 [==============================] - ETA: 0s - loss: 4.5755e-04 - accuracy: 0.9999\n",
      "Epoch 35: val_accuracy did not improve from 0.99726\n",
      "\n",
      "Epoch 35: ReduceLROnPlateau reducing learning rate to 1.000000082740371e-08.\n",
      "367/367 [==============================] - 63s 173ms/step - loss: 4.5755e-04 - accuracy: 0.9999 - val_loss: 0.0103 - val_accuracy: 0.9973 - lr: 1.0000e-07\n",
      "Epoch 36/100\n",
      "367/367 [==============================] - ETA: 0s - loss: 4.6622e-04 - accuracy: 0.9997\n",
      "Epoch 36: val_accuracy did not improve from 0.99726\n",
      "367/367 [==============================] - 64s 173ms/step - loss: 4.6622e-04 - accuracy: 0.9997 - val_loss: 0.0103 - val_accuracy: 0.9973 - lr: 1.0000e-08\n",
      "Epoch 37/100\n",
      "367/367 [==============================] - ETA: 0s - loss: 2.1643e-04 - accuracy: 1.0000\n",
      "Epoch 37: val_accuracy did not improve from 0.99726\n",
      "Restoring model weights from the end of the best epoch: 17.\n",
      "367/367 [==============================] - 64s 174ms/step - loss: 2.1643e-04 - accuracy: 1.0000 - val_loss: 0.0103 - val_accuracy: 0.9973 - lr: 1.0000e-08\n",
      "Epoch 37: early stopping\n"
     ]
    }
   ],
   "source": [
    "# Define the number of epochs\n",
    "num_epochs = 100\n",
    "\n",
    "# Train the model\n",
    "history_DenseNet_model_1 = DenseNet_model.fit(train_generator, epochs=num_epochs, validation_data=validation_generator, callbacks=callbacks)"
   ]
  },
  {
   "cell_type": "code",
   "execution_count": 13,
   "metadata": {
    "colab": {
     "base_uri": "https://localhost:8080/",
     "height": 904
    },
    "id": "lvS9xz3LU2TI",
    "outputId": "81ccdf0f-a571-4788-cf2b-c7996536c6d0",
    "tags": []
   },
   "outputs": [
    {
     "data": {
      "text/plain": [
       "<matplotlib.legend.Legend at 0x7f7eb04067c0>"
      ]
     },
     "execution_count": 13,
     "metadata": {},
     "output_type": "execute_result"
    },
    {
     "data": {
      "image/png": "[encoded data removed]",
      "text/plain": [
       "<Figure size 640x480 with 1 Axes>"
      ]
     },
     "metadata": {},
     "output_type": "display_data"
    },
    {
     "data": {
      "image/png": "[encoded data removed]",
      "text/plain": [
       "<Figure size 640x480 with 1 Axes>"
      ]
     },
     "metadata": {},
     "output_type": "display_data"
    }
   ],
   "source": [
    "#-----------------------------------------------------------\n",
    "# Retrieve a list of list results on training and test data\n",
    "# sets for each training epoch\n",
    "#-----------------------------------------------------------\n",
    "acc      = history_DenseNet_model_1.history['accuracy' ]\n",
    "val_acc  = history_DenseNet_model_1.history['val_accuracy' ]\n",
    "loss     = history_DenseNet_model_1.history['loss' ]\n",
    "val_loss = history_DenseNet_model_1.history['val_loss' ]\n",
    "\n",
    "epochs   = range(len(acc)) # Get number of epochs\n",
    "\n",
    "#------------------------------------------------\n",
    "# Plot training and validation accuracy per epoch\n",
    "#------------------------------------------------\n",
    "plt.plot  (epochs, acc )\n",
    "plt.plot  (epochs, val_acc )\n",
    "plt.title ('Training and validation accuracy DenseNet Model 1')\n",
    "plt.legend(['train', 'val'], loc='upper left')\n",
    "plt.figure()\n",
    "\n",
    "#------------------------------------------------\n",
    "# Plot training and validation loss per epoch\n",
    "#------------------------------------------------\n",
    "plt.plot  (epochs, loss)\n",
    "plt.plot  (epochs, val_loss)\n",
    "plt.title ('Training and validation loss DenseNet Model 1')\n",
    "plt.legend(['train', 'val'], loc='upper left')"
   ]
  },
  {
   "cell_type": "markdown",
   "metadata": {
    "id": "SvQOR9IuU2TJ"
   },
   "source": [
    "## DenseNet Model 2"
   ]
  },
  {
   "cell_type": "code",
   "execution_count": 14,
   "metadata": {
    "id": "Tj7lcdvUU2TJ",
    "tags": []
   },
   "outputs": [],
   "source": [
    "# Difine the callbacks\n",
    "# Save the best model\n",
    "checkpoint_callback = ModelCheckpoint(filepath=\"Grape_DenseNet_model2_Based_Non_Augmented\", save_best_only=True, monitor=\"val_accuracy\", mode=\"max\", verbose=1)\n",
    "\n",
    "# Early stopping\n",
    "early_stopping_callback = EarlyStopping(monitor=\"val_accuracy\", mode=\"max\", patience=20, verbose=1, restore_best_weights=True)\n",
    "\n",
    "# Reduce learning rate\n",
    "reduce_lr_callback = ReduceLROnPlateau(monitor=\"val_loss\", factor=0.1, patience=5, verbose=1, mode=\"min\", min_delta=0.0001, cooldown=0, min_lr=0)\n",
    "\n",
    "# Callbacks list\n",
    "callbacks=[checkpoint_callback, early_stopping_callback, reduce_lr_callback]"
   ]
  },
  {
   "cell_type": "code",
   "execution_count": 15,
   "metadata": {
    "colab": {
     "base_uri": "https://localhost:8080/"
    },
    "id": "7NKPY1xGU2TJ",
    "outputId": "5402f73e-8a82-4dad-ebfc-744ab1bc235b",
    "tags": []
   },
   "outputs": [
    {
     "name": "stdout",
     "output_type": "stream",
     "text": [
      "Model: \"sequential_1\"\n",
      "_________________________________________________________________\n",
      " Layer (type)                Output Shape              Param #   \n",
      "=================================================================\n",
      " densenet121 (Functional)    (None, 7, 7, 1024)        7037504   \n",
      "                                                                 \n",
      " global_average_pooling2d (G  (None, 1024)             0         \n",
      " lobalAveragePooling2D)                                          \n",
      "                                                                 \n",
      " dropout_1 (Dropout)         (None, 1024)              0         \n",
      "                                                                 \n",
      " dense_2 (Dense)             (None, 256)               262400    \n",
      "                                                                 \n",
      " dense_3 (Dense)             (None, 4)                 1028      \n",
      "                                                                 \n",
      "=================================================================\n",
      "Total params: 7,300,932\n",
      "Trainable params: 7,217,284\n",
      "Non-trainable params: 83,648\n",
      "_________________________________________________________________\n"
     ]
    }
   ],
   "source": [
    "# Define DIY Model\n",
    "DenseNet_model_2 = tf.keras.models.Sequential([\n",
    "    # DenseNet121 Layer\n",
    "    DenseNet121(include_top=False,weights='imagenet',input_shape=(224, 224, 3)),\n",
    "    # Global Average Pooling Layer\n",
    "    tf.keras.layers.GlobalAveragePooling2D(),\n",
    "    # Drop Out Layer\n",
    "    tf.keras.layers.Dropout(0.2),\n",
    "    # 256 neuron hidden layer\n",
    "    tf.keras.layers.Dense(256, activation='relu'),\n",
    "    # Output\n",
    "    tf.keras.layers.Dense(4, activation='softmax') \n",
    "  ])\n",
    "\n",
    "\n",
    "# Compile Model\n",
    "DenseNet_model_2.compile(loss='categorical_crossentropy',optimizer=tf.keras.optimizers.Adam(), metrics=['accuracy']) \n",
    "\n",
    "# Model Summary\n",
    "DenseNet_model_2.summary()"
   ]
  },
  {
   "cell_type": "code",
   "execution_count": 16,
   "metadata": {
    "colab": {
     "base_uri": "https://localhost:8080/"
    },
    "id": "6beuexC9U2TJ",
    "outputId": "e6f873d2-529f-4b5b-886a-288854955e03",
    "tags": []
   },
   "outputs": [
    {
     "name": "stdout",
     "output_type": "stream",
     "text": [
      "Epoch 1/100\n",
      "367/367 [==============================] - ETA: 0s - loss: 0.1695 - accuracy: 0.9459\n",
      "Epoch 1: val_accuracy improved from -inf to 0.92877, saving model to Grape_DenseNet_model2_Based_Non_Augmented\n"
     ]
    },
    {
     "name": "stderr",
     "output_type": "stream",
     "text": [
      "WARNING:absl:Found untraced functions such as _jit_compiled_convolution_op, _jit_compiled_convolution_op, _jit_compiled_convolution_op, _jit_compiled_convolution_op, _jit_compiled_convolution_op while saving (showing 5 of 120). These functions will not be directly callable after loading.\n"
     ]
    },
    {
     "name": "stdout",
     "output_type": "stream",
     "text": [
      "INFO:tensorflow:Assets written to: Grape_DenseNet_model2_Based_Non_Augmented/assets\n"
     ]
    },
    {
     "name": "stderr",
     "output_type": "stream",
     "text": [
      "INFO:tensorflow:Assets written to: Grape_DenseNet_model2_Based_Non_Augmented/assets\n"
     ]
    },
    {
     "name": "stdout",
     "output_type": "stream",
     "text": [
      "367/367 [==============================] - 199s 362ms/step - loss: 0.1695 - accuracy: 0.9459 - val_loss: 0.3053 - val_accuracy: 0.9288 - lr: 0.0010\n",
      "Epoch 2/100\n",
      "367/367 [==============================] - ETA: 0s - loss: 0.0785 - accuracy: 0.9767\n",
      "Epoch 2: val_accuracy improved from 0.92877 to 0.94356, saving model to Grape_DenseNet_model2_Based_Non_Augmented\n"
     ]
    },
    {
     "name": "stderr",
     "output_type": "stream",
     "text": [
      "WARNING:absl:Found untraced functions such as _jit_compiled_convolution_op, _jit_compiled_convolution_op, _jit_compiled_convolution_op, _jit_compiled_convolution_op, _jit_compiled_convolution_op while saving (showing 5 of 120). These functions will not be directly callable after loading.\n"
     ]
    },
    {
     "name": "stdout",
     "output_type": "stream",
     "text": [
      "INFO:tensorflow:Assets written to: Grape_DenseNet_model2_Based_Non_Augmented/assets\n"
     ]
    },
    {
     "name": "stderr",
     "output_type": "stream",
     "text": [
      "INFO:tensorflow:Assets written to: Grape_DenseNet_model2_Based_Non_Augmented/assets\n"
     ]
    },
    {
     "name": "stdout",
     "output_type": "stream",
     "text": [
      "367/367 [==============================] - 127s 346ms/step - loss: 0.0785 - accuracy: 0.9767 - val_loss: 0.2092 - val_accuracy: 0.9436 - lr: 0.0010\n",
      "Epoch 3/100\n",
      "367/367 [==============================] - ETA: 0s - loss: 0.0611 - accuracy: 0.9813\n",
      "Epoch 3: val_accuracy improved from 0.94356 to 0.98137, saving model to Grape_DenseNet_model2_Based_Non_Augmented\n"
     ]
    },
    {
     "name": "stderr",
     "output_type": "stream",
     "text": [
      "WARNING:absl:Found untraced functions such as _jit_compiled_convolution_op, _jit_compiled_convolution_op, _jit_compiled_convolution_op, _jit_compiled_convolution_op, _jit_compiled_convolution_op while saving (showing 5 of 120). These functions will not be directly callable after loading.\n"
     ]
    },
    {
     "name": "stdout",
     "output_type": "stream",
     "text": [
      "INFO:tensorflow:Assets written to: Grape_DenseNet_model2_Based_Non_Augmented/assets\n"
     ]
    },
    {
     "name": "stderr",
     "output_type": "stream",
     "text": [
      "INFO:tensorflow:Assets written to: Grape_DenseNet_model2_Based_Non_Augmented/assets\n"
     ]
    },
    {
     "name": "stdout",
     "output_type": "stream",
     "text": [
      "367/367 [==============================] - 126s 343ms/step - loss: 0.0611 - accuracy: 0.9813 - val_loss: 0.0579 - val_accuracy: 0.9814 - lr: 0.0010\n",
      "Epoch 4/100\n",
      "367/367 [==============================] - ETA: 0s - loss: 0.0657 - accuracy: 0.9808\n",
      "Epoch 4: val_accuracy did not improve from 0.98137\n",
      "367/367 [==============================] - 64s 174ms/step - loss: 0.0657 - accuracy: 0.9808 - val_loss: 0.1180 - val_accuracy: 0.9660 - lr: 0.0010\n",
      "Epoch 5/100\n",
      "367/367 [==============================] - ETA: 0s - loss: 0.0290 - accuracy: 0.9894\n",
      "Epoch 5: val_accuracy improved from 0.98137 to 0.98904, saving model to Grape_DenseNet_model2_Based_Non_Augmented\n"
     ]
    },
    {
     "name": "stderr",
     "output_type": "stream",
     "text": [
      "WARNING:absl:Found untraced functions such as _jit_compiled_convolution_op, _jit_compiled_convolution_op, _jit_compiled_convolution_op, _jit_compiled_convolution_op, _jit_compiled_convolution_op while saving (showing 5 of 120). These functions will not be directly callable after loading.\n"
     ]
    },
    {
     "name": "stdout",
     "output_type": "stream",
     "text": [
      "INFO:tensorflow:Assets written to: Grape_DenseNet_model2_Based_Non_Augmented/assets\n"
     ]
    },
    {
     "name": "stderr",
     "output_type": "stream",
     "text": [
      "INFO:tensorflow:Assets written to: Grape_DenseNet_model2_Based_Non_Augmented/assets\n"
     ]
    },
    {
     "name": "stdout",
     "output_type": "stream",
     "text": [
      "367/367 [==============================] - 126s 345ms/step - loss: 0.0290 - accuracy: 0.9894 - val_loss: 0.0316 - val_accuracy: 0.9890 - lr: 0.0010\n",
      "Epoch 6/100\n",
      "367/367 [==============================] - ETA: 0s - loss: 0.0578 - accuracy: 0.9830\n",
      "Epoch 6: val_accuracy did not improve from 0.98904\n",
      "367/367 [==============================] - 64s 175ms/step - loss: 0.0578 - accuracy: 0.9830 - val_loss: 0.2244 - val_accuracy: 0.9468 - lr: 0.0010\n",
      "Epoch 7/100\n",
      "367/367 [==============================] - ETA: 0s - loss: 0.0260 - accuracy: 0.9902\n",
      "Epoch 7: val_accuracy improved from 0.98904 to 0.99507, saving model to Grape_DenseNet_model2_Based_Non_Augmented\n"
     ]
    },
    {
     "name": "stderr",
     "output_type": "stream",
     "text": [
      "WARNING:absl:Found untraced functions such as _jit_compiled_convolution_op, _jit_compiled_convolution_op, _jit_compiled_convolution_op, _jit_compiled_convolution_op, _jit_compiled_convolution_op while saving (showing 5 of 120). These functions will not be directly callable after loading.\n"
     ]
    },
    {
     "name": "stdout",
     "output_type": "stream",
     "text": [
      "INFO:tensorflow:Assets written to: Grape_DenseNet_model2_Based_Non_Augmented/assets\n"
     ]
    },
    {
     "name": "stderr",
     "output_type": "stream",
     "text": [
      "INFO:tensorflow:Assets written to: Grape_DenseNet_model2_Based_Non_Augmented/assets\n"
     ]
    },
    {
     "name": "stdout",
     "output_type": "stream",
     "text": [
      "367/367 [==============================] - 128s 349ms/step - loss: 0.0260 - accuracy: 0.9902 - val_loss: 0.0204 - val_accuracy: 0.9951 - lr: 0.0010\n",
      "Epoch 8/100\n",
      "367/367 [==============================] - ETA: 0s - loss: 0.0212 - accuracy: 0.9928\n",
      "Epoch 8: val_accuracy did not improve from 0.99507\n",
      "367/367 [==============================] - 64s 173ms/step - loss: 0.0212 - accuracy: 0.9928 - val_loss: 0.0387 - val_accuracy: 0.9890 - lr: 0.0010\n",
      "Epoch 9/100\n",
      "367/367 [==============================] - ETA: 0s - loss: 0.0331 - accuracy: 0.9895\n",
      "Epoch 9: val_accuracy improved from 0.99507 to 0.99671, saving model to Grape_DenseNet_model2_Based_Non_Augmented\n"
     ]
    },
    {
     "name": "stderr",
     "output_type": "stream",
     "text": [
      "WARNING:absl:Found untraced functions such as _jit_compiled_convolution_op, _jit_compiled_convolution_op, _jit_compiled_convolution_op, _jit_compiled_convolution_op, _jit_compiled_convolution_op while saving (showing 5 of 120). These functions will not be directly callable after loading.\n"
     ]
    },
    {
     "name": "stdout",
     "output_type": "stream",
     "text": [
      "INFO:tensorflow:Assets written to: Grape_DenseNet_model2_Based_Non_Augmented/assets\n"
     ]
    },
    {
     "name": "stderr",
     "output_type": "stream",
     "text": [
      "INFO:tensorflow:Assets written to: Grape_DenseNet_model2_Based_Non_Augmented/assets\n"
     ]
    },
    {
     "name": "stdout",
     "output_type": "stream",
     "text": [
      "367/367 [==============================] - 128s 348ms/step - loss: 0.0331 - accuracy: 0.9895 - val_loss: 0.0110 - val_accuracy: 0.9967 - lr: 0.0010\n",
      "Epoch 10/100\n",
      "367/367 [==============================] - ETA: 0s - loss: 0.0437 - accuracy: 0.9855\n",
      "Epoch 10: val_accuracy did not improve from 0.99671\n",
      "367/367 [==============================] - 64s 173ms/step - loss: 0.0437 - accuracy: 0.9855 - val_loss: 0.0256 - val_accuracy: 0.9934 - lr: 0.0010\n",
      "Epoch 11/100\n",
      "367/367 [==============================] - ETA: 0s - loss: 0.0277 - accuracy: 0.9917\n",
      "Epoch 11: val_accuracy did not improve from 0.99671\n",
      "367/367 [==============================] - 64s 174ms/step - loss: 0.0277 - accuracy: 0.9917 - val_loss: 0.9094 - val_accuracy: 0.7348 - lr: 0.0010\n",
      "Epoch 12/100\n",
      "367/367 [==============================] - ETA: 0s - loss: 0.0185 - accuracy: 0.9945\n",
      "Epoch 12: val_accuracy did not improve from 0.99671\n",
      "367/367 [==============================] - 64s 174ms/step - loss: 0.0185 - accuracy: 0.9945 - val_loss: 0.0518 - val_accuracy: 0.9890 - lr: 0.0010\n",
      "Epoch 13/100\n",
      "367/367 [==============================] - ETA: 0s - loss: 0.0343 - accuracy: 0.9899\n",
      "Epoch 13: val_accuracy did not improve from 0.99671\n",
      "367/367 [==============================] - 64s 175ms/step - loss: 0.0343 - accuracy: 0.9899 - val_loss: 0.0883 - val_accuracy: 0.9753 - lr: 0.0010\n",
      "Epoch 14/100\n",
      "367/367 [==============================] - ETA: 0s - loss: 0.0218 - accuracy: 0.9924\n",
      "Epoch 14: val_accuracy did not improve from 0.99671\n",
      "367/367 [==============================] - 64s 173ms/step - loss: 0.0218 - accuracy: 0.9924 - val_loss: 0.0109 - val_accuracy: 0.9967 - lr: 0.0010\n",
      "Epoch 15/100\n",
      "367/367 [==============================] - ETA: 0s - loss: 0.0154 - accuracy: 0.9958\n",
      "Epoch 15: val_accuracy did not improve from 0.99671\n",
      "367/367 [==============================] - 64s 174ms/step - loss: 0.0154 - accuracy: 0.9958 - val_loss: 0.0128 - val_accuracy: 0.9956 - lr: 0.0010\n",
      "Epoch 16/100\n",
      "367/367 [==============================] - ETA: 0s - loss: 0.0295 - accuracy: 0.9917\n",
      "Epoch 16: val_accuracy did not improve from 0.99671\n",
      "367/367 [==============================] - 64s 174ms/step - loss: 0.0295 - accuracy: 0.9917 - val_loss: 0.0234 - val_accuracy: 0.9934 - lr: 0.0010\n",
      "Epoch 17/100\n",
      "367/367 [==============================] - ETA: 0s - loss: 0.0134 - accuracy: 0.9958\n",
      "Epoch 17: val_accuracy did not improve from 0.99671\n",
      "367/367 [==============================] - 64s 174ms/step - loss: 0.0134 - accuracy: 0.9958 - val_loss: 0.0627 - val_accuracy: 0.9836 - lr: 0.0010\n",
      "Epoch 18/100\n",
      "367/367 [==============================] - ETA: 0s - loss: 0.0135 - accuracy: 0.9966\n",
      "Epoch 18: val_accuracy did not improve from 0.99671\n",
      "367/367 [==============================] - 64s 174ms/step - loss: 0.0135 - accuracy: 0.9966 - val_loss: 0.0327 - val_accuracy: 0.9940 - lr: 0.0010\n",
      "Epoch 19/100\n",
      "367/367 [==============================] - ETA: 0s - loss: 0.0192 - accuracy: 0.9947\n",
      "Epoch 19: val_accuracy did not improve from 0.99671\n",
      "\n",
      "Epoch 19: ReduceLROnPlateau reducing learning rate to 0.00010000000474974513.\n",
      "367/367 [==============================] - 63s 173ms/step - loss: 0.0192 - accuracy: 0.9947 - val_loss: 0.0253 - val_accuracy: 0.9929 - lr: 0.0010\n",
      "Epoch 20/100\n",
      "367/367 [==============================] - ETA: 0s - loss: 0.0033 - accuracy: 0.9986\n",
      "Epoch 20: val_accuracy improved from 0.99671 to 0.99781, saving model to Grape_DenseNet_model2_Based_Non_Augmented\n"
     ]
    },
    {
     "name": "stderr",
     "output_type": "stream",
     "text": [
      "WARNING:absl:Found untraced functions such as _jit_compiled_convolution_op, _jit_compiled_convolution_op, _jit_compiled_convolution_op, _jit_compiled_convolution_op, _jit_compiled_convolution_op while saving (showing 5 of 120). These functions will not be directly callable after loading.\n"
     ]
    },
    {
     "name": "stdout",
     "output_type": "stream",
     "text": [
      "INFO:tensorflow:Assets written to: Grape_DenseNet_model2_Based_Non_Augmented/assets\n"
     ]
    },
    {
     "name": "stderr",
     "output_type": "stream",
     "text": [
      "INFO:tensorflow:Assets written to: Grape_DenseNet_model2_Based_Non_Augmented/assets\n"
     ]
    },
    {
     "name": "stdout",
     "output_type": "stream",
     "text": [
      "367/367 [==============================] - 126s 344ms/step - loss: 0.0033 - accuracy: 0.9986 - val_loss: 0.0073 - val_accuracy: 0.9978 - lr: 1.0000e-04\n",
      "Epoch 21/100\n",
      "367/367 [==============================] - ETA: 0s - loss: 0.0012 - accuracy: 0.9997\n",
      "Epoch 21: val_accuracy did not improve from 0.99781\n",
      "367/367 [==============================] - 64s 173ms/step - loss: 0.0012 - accuracy: 0.9997 - val_loss: 0.0075 - val_accuracy: 0.9973 - lr: 1.0000e-04\n",
      "Epoch 22/100\n",
      "367/367 [==============================] - ETA: 0s - loss: 0.0022 - accuracy: 0.9993\n",
      "Epoch 22: val_accuracy did not improve from 0.99781\n",
      "367/367 [==============================] - 64s 174ms/step - loss: 0.0022 - accuracy: 0.9993 - val_loss: 0.0070 - val_accuracy: 0.9978 - lr: 1.0000e-04\n",
      "Epoch 23/100\n",
      "367/367 [==============================] - ETA: 0s - loss: 0.0011 - accuracy: 0.9997\n",
      "Epoch 23: val_accuracy improved from 0.99781 to 0.99890, saving model to Grape_DenseNet_model2_Based_Non_Augmented\n"
     ]
    },
    {
     "name": "stderr",
     "output_type": "stream",
     "text": [
      "WARNING:absl:Found untraced functions such as _jit_compiled_convolution_op, _jit_compiled_convolution_op, _jit_compiled_convolution_op, _jit_compiled_convolution_op, _jit_compiled_convolution_op while saving (showing 5 of 120). These functions will not be directly callable after loading.\n"
     ]
    },
    {
     "name": "stdout",
     "output_type": "stream",
     "text": [
      "INFO:tensorflow:Assets written to: Grape_DenseNet_model2_Based_Non_Augmented/assets\n"
     ]
    },
    {
     "name": "stderr",
     "output_type": "stream",
     "text": [
      "INFO:tensorflow:Assets written to: Grape_DenseNet_model2_Based_Non_Augmented/assets\n"
     ]
    },
    {
     "name": "stdout",
     "output_type": "stream",
     "text": [
      "367/367 [==============================] - 127s 347ms/step - loss: 0.0011 - accuracy: 0.9997 - val_loss: 0.0070 - val_accuracy: 0.9989 - lr: 1.0000e-04\n",
      "Epoch 24/100\n",
      "367/367 [==============================] - ETA: 0s - loss: 4.1629e-04 - accuracy: 1.0000\n",
      "Epoch 24: val_accuracy did not improve from 0.99890\n",
      "367/367 [==============================] - 64s 174ms/step - loss: 4.1629e-04 - accuracy: 1.0000 - val_loss: 0.0075 - val_accuracy: 0.9978 - lr: 1.0000e-04\n",
      "Epoch 25/100\n",
      "367/367 [==============================] - ETA: 0s - loss: 4.2013e-04 - accuracy: 1.0000\n",
      "Epoch 25: val_accuracy did not improve from 0.99890\n",
      "367/367 [==============================] - 64s 173ms/step - loss: 4.2013e-04 - accuracy: 1.0000 - val_loss: 0.0074 - val_accuracy: 0.9978 - lr: 1.0000e-04\n",
      "Epoch 26/100\n",
      "367/367 [==============================] - ETA: 0s - loss: 2.7059e-04 - accuracy: 1.0000\n",
      "Epoch 26: val_accuracy did not improve from 0.99890\n",
      "367/367 [==============================] - 64s 174ms/step - loss: 2.7059e-04 - accuracy: 1.0000 - val_loss: 0.0075 - val_accuracy: 0.9978 - lr: 1.0000e-04\n",
      "Epoch 27/100\n",
      "367/367 [==============================] - ETA: 0s - loss: 0.0014 - accuracy: 0.9996\n",
      "Epoch 27: val_accuracy did not improve from 0.99890\n",
      "\n",
      "Epoch 27: ReduceLROnPlateau reducing learning rate to 1.0000000474974514e-05.\n",
      "367/367 [==============================] - 64s 176ms/step - loss: 0.0014 - accuracy: 0.9996 - val_loss: 0.0073 - val_accuracy: 0.9978 - lr: 1.0000e-04\n",
      "Epoch 28/100\n",
      "367/367 [==============================] - ETA: 0s - loss: 9.5950e-04 - accuracy: 0.9997\n",
      "Epoch 28: val_accuracy did not improve from 0.99890\n",
      "367/367 [==============================] - 64s 174ms/step - loss: 9.5950e-04 - accuracy: 0.9997 - val_loss: 0.0075 - val_accuracy: 0.9978 - lr: 1.0000e-05\n",
      "Epoch 29/100\n",
      "367/367 [==============================] - ETA: 0s - loss: 1.9473e-04 - accuracy: 1.0000\n",
      "Epoch 29: val_accuracy did not improve from 0.99890\n",
      "367/367 [==============================] - 64s 174ms/step - loss: 1.9473e-04 - accuracy: 1.0000 - val_loss: 0.0073 - val_accuracy: 0.9978 - lr: 1.0000e-05\n",
      "Epoch 30/100\n",
      "367/367 [==============================] - ETA: 0s - loss: 5.6638e-04 - accuracy: 0.9999\n",
      "Epoch 30: val_accuracy did not improve from 0.99890\n",
      "367/367 [==============================] - 64s 175ms/step - loss: 5.6638e-04 - accuracy: 0.9999 - val_loss: 0.0074 - val_accuracy: 0.9978 - lr: 1.0000e-05\n",
      "Epoch 31/100\n",
      "367/367 [==============================] - ETA: 0s - loss: 1.7787e-04 - accuracy: 1.0000\n",
      "Epoch 31: val_accuracy did not improve from 0.99890\n",
      "367/367 [==============================] - 64s 175ms/step - loss: 1.7787e-04 - accuracy: 1.0000 - val_loss: 0.0072 - val_accuracy: 0.9978 - lr: 1.0000e-05\n",
      "Epoch 32/100\n",
      "367/367 [==============================] - ETA: 0s - loss: 1.9332e-04 - accuracy: 1.0000\n",
      "Epoch 32: val_accuracy did not improve from 0.99890\n",
      "\n",
      "Epoch 32: ReduceLROnPlateau reducing learning rate to 1.0000000656873453e-06.\n",
      "367/367 [==============================] - 64s 175ms/step - loss: 1.9332e-04 - accuracy: 1.0000 - val_loss: 0.0072 - val_accuracy: 0.9978 - lr: 1.0000e-05\n",
      "Epoch 33/100\n",
      "367/367 [==============================] - ETA: 0s - loss: 3.4895e-04 - accuracy: 0.9999\n",
      "Epoch 33: val_accuracy did not improve from 0.99890\n",
      "367/367 [==============================] - 64s 175ms/step - loss: 3.4895e-04 - accuracy: 0.9999 - val_loss: 0.0072 - val_accuracy: 0.9978 - lr: 1.0000e-06\n",
      "Epoch 34/100\n",
      "367/367 [==============================] - ETA: 0s - loss: 3.0943e-04 - accuracy: 0.9999\n",
      "Epoch 34: val_accuracy did not improve from 0.99890\n",
      "367/367 [==============================] - 64s 174ms/step - loss: 3.0943e-04 - accuracy: 0.9999 - val_loss: 0.0074 - val_accuracy: 0.9978 - lr: 1.0000e-06\n",
      "Epoch 35/100\n",
      "367/367 [==============================] - ETA: 0s - loss: 0.0019 - accuracy: 0.9995\n",
      "Epoch 35: val_accuracy did not improve from 0.99890\n",
      "367/367 [==============================] - 64s 175ms/step - loss: 0.0019 - accuracy: 0.9995 - val_loss: 0.0073 - val_accuracy: 0.9978 - lr: 1.0000e-06\n",
      "Epoch 36/100\n",
      "367/367 [==============================] - ETA: 0s - loss: 5.7939e-04 - accuracy: 0.9999\n",
      "Epoch 36: val_accuracy did not improve from 0.99890\n",
      "367/367 [==============================] - 64s 174ms/step - loss: 5.7939e-04 - accuracy: 0.9999 - val_loss: 0.0075 - val_accuracy: 0.9978 - lr: 1.0000e-06\n",
      "Epoch 37/100\n",
      "367/367 [==============================] - ETA: 0s - loss: 2.4121e-04 - accuracy: 1.0000\n",
      "Epoch 37: val_accuracy did not improve from 0.99890\n",
      "\n",
      "Epoch 37: ReduceLROnPlateau reducing learning rate to 1.0000001111620805e-07.\n",
      "367/367 [==============================] - 64s 175ms/step - loss: 2.4121e-04 - accuracy: 1.0000 - val_loss: 0.0073 - val_accuracy: 0.9978 - lr: 1.0000e-06\n",
      "Epoch 38/100\n",
      "367/367 [==============================] - ETA: 0s - loss: 7.4911e-04 - accuracy: 0.9999\n",
      "Epoch 38: val_accuracy did not improve from 0.99890\n",
      "367/367 [==============================] - 64s 175ms/step - loss: 7.4911e-04 - accuracy: 0.9999 - val_loss: 0.0071 - val_accuracy: 0.9978 - lr: 1.0000e-07\n",
      "Epoch 39/100\n",
      "367/367 [==============================] - ETA: 0s - loss: 7.5009e-04 - accuracy: 0.9996\n",
      "Epoch 39: val_accuracy did not improve from 0.99890\n",
      "367/367 [==============================] - 64s 175ms/step - loss: 7.5009e-04 - accuracy: 0.9996 - val_loss: 0.0074 - val_accuracy: 0.9978 - lr: 1.0000e-07\n",
      "Epoch 40/100\n",
      "367/367 [==============================] - ETA: 0s - loss: 8.8987e-04 - accuracy: 0.9999\n",
      "Epoch 40: val_accuracy did not improve from 0.99890\n",
      "367/367 [==============================] - 64s 175ms/step - loss: 8.8987e-04 - accuracy: 0.9999 - val_loss: 0.0072 - val_accuracy: 0.9978 - lr: 1.0000e-07\n",
      "Epoch 41/100\n",
      "367/367 [==============================] - ETA: 0s - loss: 3.7119e-04 - accuracy: 0.9999\n",
      "Epoch 41: val_accuracy did not improve from 0.99890\n",
      "367/367 [==============================] - 64s 173ms/step - loss: 3.7119e-04 - accuracy: 0.9999 - val_loss: 0.0074 - val_accuracy: 0.9978 - lr: 1.0000e-07\n",
      "Epoch 42/100\n",
      "367/367 [==============================] - ETA: 0s - loss: 3.5234e-04 - accuracy: 0.9999\n",
      "Epoch 42: val_accuracy did not improve from 0.99890\n",
      "\n",
      "Epoch 42: ReduceLROnPlateau reducing learning rate to 1.000000082740371e-08.\n",
      "367/367 [==============================] - 64s 175ms/step - loss: 3.5234e-04 - accuracy: 0.9999 - val_loss: 0.0075 - val_accuracy: 0.9978 - lr: 1.0000e-07\n",
      "Epoch 43/100\n",
      "367/367 [==============================] - ETA: 0s - loss: 7.9656e-04 - accuracy: 0.9996\n",
      "Epoch 43: val_accuracy did not improve from 0.99890\n",
      "Restoring model weights from the end of the best epoch: 23.\n",
      "367/367 [==============================] - 64s 175ms/step - loss: 7.9656e-04 - accuracy: 0.9996 - val_loss: 0.0073 - val_accuracy: 0.9978 - lr: 1.0000e-08\n",
      "Epoch 43: early stopping\n"
     ]
    }
   ],
   "source": [
    "# Define the number of epochs\n",
    "num_epochs = 100\n",
    "\n",
    "# Train the model\n",
    "history_DenseNet_model_2 = DenseNet_model_2.fit(train_generator, epochs=num_epochs, validation_data=validation_generator, callbacks=callbacks)"
   ]
  },
  {
   "cell_type": "code",
   "execution_count": 17,
   "metadata": {
    "colab": {
     "base_uri": "https://localhost:8080/",
     "height": 904
    },
    "id": "3f1nmwUhU2TK",
    "outputId": "4eeae789-1ce0-4270-8076-4408f23a6c51",
    "tags": []
   },
   "outputs": [
    {
     "data": {
      "text/plain": [
       "<matplotlib.legend.Legend at 0x7f7940387940>"
      ]
     },
     "execution_count": 17,
     "metadata": {},
     "output_type": "execute_result"
    },
    {
     "data": {
      "image/png": "[encoded data removed]",
      "text/plain": [
       "<Figure size 640x480 with 1 Axes>"
      ]
     },
     "metadata": {},
     "output_type": "display_data"
    },
    {
     "data": {
      "image/png": "[encoded data removed]",
      "text/plain": [
       "<Figure size 640x480 with 1 Axes>"
      ]
     },
     "metadata": {},
     "output_type": "display_data"
    }
   ],
   "source": [
    "#-----------------------------------------------------------\n",
    "# Retrieve a list of list results on training and test data\n",
    "# sets for each training epoch\n",
    "#-----------------------------------------------------------\n",
    "acc      = history_DenseNet_model_2.history['accuracy' ]\n",
    "val_acc  = history_DenseNet_model_2.history['val_accuracy' ]\n",
    "loss     = history_DenseNet_model_2.history['loss' ]\n",
    "val_loss = history_DenseNet_model_2.history['val_loss' ]\n",
    "\n",
    "epochs   = range(len(acc)) # Get number of epochs\n",
    "\n",
    "#------------------------------------------------\n",
    "# Plot training and validation accuracy per epoch\n",
    "#------------------------------------------------\n",
    "plt.plot  (epochs, acc )\n",
    "plt.plot  (epochs, val_acc )\n",
    "plt.title ('Training and validation accuracy DenseNet Model 2')\n",
    "plt.legend(['train', 'val'], loc='upper left')\n",
    "plt.figure()\n",
    "\n",
    "#------------------------------------------------\n",
    "# Plot training and validation loss per epoch\n",
    "#------------------------------------------------\n",
    "plt.plot  (epochs, loss)\n",
    "plt.plot  (epochs, val_loss)\n",
    "plt.title ('Training and validation loss DenseNet Model 2')\n",
    "plt.legend(['train', 'val'], loc='upper left')"
   ]
  }
 ],
 "metadata": {
  "accelerator": "GPU",
  "colab": {
   "gpuType": "T4",
   "provenance": []
  },
  "gpuClass": "standard",
  "kernelspec": {
   "display_name": "Python 3 (ipykernel)",
   "language": "python",
   "name": "python3"
  },
  "language_info": {
   "codemirror_mode": {
    "name": "ipython",
    "version": 3
   },
   "file_extension": ".py",
   "mimetype": "text/x-python",
   "name": "python",
   "nbconvert_exporter": "python",
   "pygments_lexer": "ipython3",
   "version": "3.8.10"
  }
 },
 "nbformat": 4,
 "nbformat_minor": 4
}
