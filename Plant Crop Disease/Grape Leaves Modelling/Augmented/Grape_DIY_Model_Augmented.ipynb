{
  "cells": [
    {
      "attachments": {},
      "cell_type": "markdown",
      "metadata": {
        "id": "hO3kEcUPU2S3"
      },
      "source": [
        "# Library"
      ]
    },
    {
      "cell_type": "code",
      "execution_count": 1,
      "metadata": {
        "colab": {
          "base_uri": "https://localhost:8080/"
        },
        "id": "kczkUjsAU2S8",
        "outputId": "242bda13-5667-43de-ef16-ca9c1b75ca7e",
        "tags": []
      },
      "outputs": [
        {
          "name": "stdout",
          "output_type": "stream",
          "text": [
            "Requirement already satisfied: matplotlib in c:\\users\\hasan\\anaconda3\\envs\\tensorflow_gpu_zein\\lib\\site-packages (3.6.3)\n",
            "Requirement already satisfied: pyparsing>=2.2.1 in c:\\users\\hasan\\anaconda3\\envs\\tensorflow_gpu_zein\\lib\\site-packages (from matplotlib) (3.0.9)\n",
            "Requirement already satisfied: fonttools>=4.22.0 in c:\\users\\hasan\\anaconda3\\envs\\tensorflow_gpu_zein\\lib\\site-packages (from matplotlib) (4.39.2)\n",
            "Requirement already satisfied: packaging>=20.0 in c:\\users\\hasan\\anaconda3\\envs\\tensorflow_gpu_zein\\lib\\site-packages (from matplotlib) (23.1)\n",
            "Requirement already satisfied: numpy>=1.19 in c:\\users\\hasan\\anaconda3\\envs\\tensorflow_gpu_zein\\lib\\site-packages (from matplotlib) (1.23.5)\n",
            "Requirement already satisfied: cycler>=0.10 in c:\\users\\hasan\\anaconda3\\envs\\tensorflow_gpu_zein\\lib\\site-packages (from matplotlib) (0.11.0)\n",
            "Requirement already satisfied: pillow>=6.2.0 in c:\\users\\hasan\\anaconda3\\envs\\tensorflow_gpu_zein\\lib\\site-packages (from matplotlib) (9.4.0)\n",
            "Requirement already satisfied: kiwisolver>=1.0.1 in c:\\users\\hasan\\anaconda3\\envs\\tensorflow_gpu_zein\\lib\\site-packages (from matplotlib) (1.4.4)\n",
            "Requirement already satisfied: python-dateutil>=2.7 in c:\\users\\hasan\\anaconda3\\envs\\tensorflow_gpu_zein\\lib\\site-packages (from matplotlib) (2.8.2)\n",
            "Requirement already satisfied: contourpy>=1.0.1 in c:\\users\\hasan\\anaconda3\\envs\\tensorflow_gpu_zein\\lib\\site-packages (from matplotlib) (1.0.7)\n",
            "Requirement already satisfied: six>=1.5 in c:\\users\\hasan\\anaconda3\\envs\\tensorflow_gpu_zein\\lib\\site-packages (from python-dateutil>=2.7->matplotlib) (1.16.0)\n",
            "Note: you may need to restart the kernel to use updated packages.\n"
          ]
        },
        {
          "name": "stderr",
          "output_type": "stream",
          "text": [
            "WARNING: Ignoring invalid distribution -rotobuf (c:\\users\\hasan\\anaconda3\\envs\\tensorflow_gpu_zein\\lib\\site-packages)\n",
            "WARNING: Ignoring invalid distribution -rotobuf (c:\\users\\hasan\\anaconda3\\envs\\tensorflow_gpu_zein\\lib\\site-packages)\n",
            "WARNING: Ignoring invalid distribution -rotobuf (c:\\users\\hasan\\anaconda3\\envs\\tensorflow_gpu_zein\\lib\\site-packages)\n",
            "WARNING: Ignoring invalid distribution -rotobuf (c:\\users\\hasan\\anaconda3\\envs\\tensorflow_gpu_zein\\lib\\site-packages)\n",
            "WARNING: Ignoring invalid distribution -rotobuf (c:\\users\\hasan\\anaconda3\\envs\\tensorflow_gpu_zein\\lib\\site-packages)\n",
            "WARNING: Ignoring invalid distribution -rotobuf (c:\\users\\hasan\\anaconda3\\envs\\tensorflow_gpu_zein\\lib\\site-packages)\n"
          ]
        }
      ],
      "source": [
        "pip install matplotlib"
      ]
    },
    {
      "cell_type": "code",
      "execution_count": 2,
      "metadata": {
        "colab": {
          "base_uri": "https://localhost:8080/"
        },
        "id": "oEW3Nbu7U2S_",
        "outputId": "c0fb4b67-9e2e-420a-ea95-f9e45050d7b1",
        "tags": []
      },
      "outputs": [
        {
          "name": "stdout",
          "output_type": "stream",
          "text": [
            "Requirement already satisfied: opendatasets in c:\\users\\hasan\\anaconda3\\envs\\tensorflow_gpu_zein\\lib\\site-packages (0.1.22)\n",
            "Requirement already satisfied: tqdm in c:\\users\\hasan\\anaconda3\\envs\\tensorflow_gpu_zein\\lib\\site-packages (from opendatasets) (4.64.1)\n",
            "Requirement already satisfied: kaggle in c:\\users\\hasan\\anaconda3\\envs\\tensorflow_gpu_zein\\lib\\site-packages (from opendatasets) (1.5.13)\n",
            "Requirement already satisfied: click in c:\\users\\hasan\\anaconda3\\envs\\tensorflow_gpu_zein\\lib\\site-packages (from opendatasets) (8.1.3)\n",
            "Requirement already satisfied: colorama in c:\\users\\hasan\\anaconda3\\envs\\tensorflow_gpu_zein\\lib\\site-packages (from click->opendatasets) (0.4.6)\n",
            "Requirement already satisfied: requests in c:\\users\\hasan\\anaconda3\\envs\\tensorflow_gpu_zein\\lib\\site-packages (from kaggle->opendatasets) (2.28.2)\n",
            "Requirement already satisfied: python-slugify in c:\\users\\hasan\\anaconda3\\envs\\tensorflow_gpu_zein\\lib\\site-packages (from kaggle->opendatasets) (8.0.1)\n",
            "Requirement already satisfied: python-dateutil in c:\\users\\hasan\\anaconda3\\envs\\tensorflow_gpu_zein\\lib\\site-packages (from kaggle->opendatasets) (2.8.2)\n",
            "Requirement already satisfied: six>=1.10 in c:\\users\\hasan\\anaconda3\\envs\\tensorflow_gpu_zein\\lib\\site-packages (from kaggle->opendatasets) (1.16.0)\n",
            "Requirement already satisfied: urllib3 in c:\\users\\hasan\\anaconda3\\envs\\tensorflow_gpu_zein\\lib\\site-packages (from kaggle->opendatasets) (1.26.15)\n",
            "Requirement already satisfied: certifi in c:\\users\\hasan\\anaconda3\\envs\\tensorflow_gpu_zein\\lib\\site-packages (from kaggle->opendatasets) (2022.12.7)\n",
            "Requirement already satisfied: text-unidecode>=1.3 in c:\\users\\hasan\\anaconda3\\envs\\tensorflow_gpu_zein\\lib\\site-packages (from python-slugify->kaggle->opendatasets) (1.3)\n",
            "Requirement already satisfied: charset-normalizer<4,>=2 in c:\\users\\hasan\\anaconda3\\envs\\tensorflow_gpu_zein\\lib\\site-packages (from requests->kaggle->opendatasets) (3.1.0)\n",
            "Requirement already satisfied: idna<4,>=2.5 in c:\\users\\hasan\\anaconda3\\envs\\tensorflow_gpu_zein\\lib\\site-packages (from requests->kaggle->opendatasets) (3.4)\n",
            "Note: you may need to restart the kernel to use updated packages.\n"
          ]
        },
        {
          "name": "stderr",
          "output_type": "stream",
          "text": [
            "WARNING: Ignoring invalid distribution -rotobuf (c:\\users\\hasan\\anaconda3\\envs\\tensorflow_gpu_zein\\lib\\site-packages)\n",
            "WARNING: Ignoring invalid distribution -rotobuf (c:\\users\\hasan\\anaconda3\\envs\\tensorflow_gpu_zein\\lib\\site-packages)\n",
            "WARNING: Ignoring invalid distribution -rotobuf (c:\\users\\hasan\\anaconda3\\envs\\tensorflow_gpu_zein\\lib\\site-packages)\n",
            "WARNING: Ignoring invalid distribution -rotobuf (c:\\users\\hasan\\anaconda3\\envs\\tensorflow_gpu_zein\\lib\\site-packages)\n",
            "WARNING: Ignoring invalid distribution -rotobuf (c:\\users\\hasan\\anaconda3\\envs\\tensorflow_gpu_zein\\lib\\site-packages)\n",
            "WARNING: Ignoring invalid distribution -rotobuf (c:\\users\\hasan\\anaconda3\\envs\\tensorflow_gpu_zein\\lib\\site-packages)\n"
          ]
        }
      ],
      "source": [
        "pip install opendatasets"
      ]
    },
    {
      "cell_type": "code",
      "execution_count": 3,
      "metadata": {
        "id": "SIHHdOB4U2TA",
        "tags": []
      },
      "outputs": [],
      "source": [
        "# Library to dataset\n",
        "import opendatasets as od\n",
        "import os\n",
        "import zipfile\n",
        "import numpy as np\n",
        "\n",
        "# Surpress Warnings\n",
        "import warnings\n",
        "warnings.filterwarnings('ignore')\n",
        "os.environ['TF_CPP_MIN_LOG_LEVEL'] = '3' \n",
        "# library visualization\n",
        "import matplotlib.pyplot as plt\n",
        "\n",
        "# Library Tensorflow\n",
        "import tensorflow as tf\n",
        "from tensorflow import keras\n",
        "from tensorflow.keras.preprocessing.image import ImageDataGenerator\n",
        "from tensorflow.keras.callbacks import ModelCheckpoint, EarlyStopping, ReduceLROnPlateau\n",
        "from tensorflow.keras.applications.densenet import DenseNet121\n",
        "from tensorflow.keras.applications.xception import Xception\n",
        "\n",
        "# Others\n",
        "import shutil\n",
        "import random"
      ]
    },
    {
      "attachments": {},
      "cell_type": "markdown",
      "metadata": {
        "id": "Dy8YkYoaU2TB"
      },
      "source": [
        "# Load dataset"
      ]
    },
    {
      "cell_type": "code",
      "execution_count": 4,
      "metadata": {
        "colab": {
          "base_uri": "https://localhost:8080/"
        },
        "id": "8ZAjREJ0U2TC",
        "outputId": "6e660af7-1726-4d83-b628-5c549769ebc6",
        "tags": []
      },
      "outputs": [
        {
          "name": "stdout",
          "output_type": "stream",
          "text": [
            "==========================Training Data====================\n",
            "Found 7335 files belonging to 4 classes.\n",
            "==========================Validation Data====================\n",
            "Found 1825 files belonging to 4 classes.\n"
          ]
        }
      ],
      "source": [
        "# Load dataset\n",
        "print(\"==========================Training Data====================\")\n",
        "train_data = tf.keras.preprocessing.image_dataset_from_directory(\n",
        "    \"Dataset/grape/train\",\n",
        "    label_mode=\"categorical\",\n",
        "    class_names=['Grape Esca (Black_Measles)','Grape Leaf blight (Isariopsis_Leaf_Spot)','grape leaf Healthy','grape leaf black rot'],\n",
        "    color_mode=\"rgb\",\n",
        "    batch_size=1,\n",
        "    image_size=(256, 256),\n",
        "    shuffle=True,\n",
        "    seed=123\n",
        ")\n",
        "print(\"==========================Validation Data====================\")\n",
        "val_data = tf.keras.preprocessing.image_dataset_from_directory(\n",
        "    \"Dataset/grape/valid\",\n",
        "    label_mode=\"categorical\",\n",
        "    class_names=['Grape Esca (Black_Measles)','Grape Leaf blight (Isariopsis_Leaf_Spot)','grape leaf Healthy','grape leaf black rot'],\n",
        "    color_mode=\"rgb\",\n",
        "    batch_size=1,\n",
        "    image_size=(256, 256),\n",
        "    shuffle=True,\n",
        "    seed=123\n",
        ")"
      ]
    },
    {
      "cell_type": "code",
      "execution_count": 5,
      "metadata": {
        "colab": {
          "base_uri": "https://localhost:8080/"
        },
        "id": "vEPzd1egU2TD",
        "outputId": "2660011f-8faa-4d11-f044-25a0f5bab50b",
        "tags": []
      },
      "outputs": [
        {
          "name": "stdout",
          "output_type": "stream",
          "text": [
            "Found 7335 images belonging to 4 classes.\n",
            "Found 1825 images belonging to 4 classes.\n"
          ]
        }
      ],
      "source": [
        "# All images will be rescaled by 1./255.and augmented\n",
        "train_datagen = ImageDataGenerator(rescale = 1.0/256.,\n",
        "                                   rotation_range=40,\n",
        "                                   width_shift_range=0.2,\n",
        "                                   height_shift_range=0.2,\n",
        "                                   shear_range=0.2,\n",
        "                                   zoom_range=0.2,\n",
        "                                   horizontal_flip=True,\n",
        "                                   fill_mode='nearest')\n",
        "\n",
        "test_datagen  = ImageDataGenerator(rescale = 1.0/256.)\n",
        "\n",
        "# --------------------\n",
        "# Flow training images in batches of 20 using train_datagen generator\n",
        "# --------------------\n",
        "train_generator = train_datagen.flow_from_directory(\"Dataset/grape/train\",\n",
        "                                                    batch_size=20,\n",
        "                                                    class_mode='categorical',\n",
        "                                                    target_size=(224, 224))     \n",
        "# --------------------\n",
        "# Flow validation images in batches of 20 using test_datagen generator\n",
        "# --------------------\n",
        "validation_generator =  test_datagen.flow_from_directory(\"Dataset/grape/valid\",\n",
        "                                                         batch_size=20,\n",
        "                                                         class_mode  = 'categorical',\n",
        "                                                         target_size = (224, 224))"
      ]
    },
    {
      "attachments": {},
      "cell_type": "markdown",
      "metadata": {
        "id": "_3jaO5YgU2TE"
      },
      "source": [
        "# List Resource"
      ]
    },
    {
      "cell_type": "code",
      "execution_count": 6,
      "metadata": {
        "colab": {
          "base_uri": "https://localhost:8080/"
        },
        "id": "SGemCaxnU2TF",
        "outputId": "3cb5ae1c-8011-4cd5-b115-911054905733",
        "tags": []
      },
      "outputs": [
        {
          "name": "stdout",
          "output_type": "stream",
          "text": [
            "Tue May 30 13:19:34 2023       \n",
            "+---------------------------------------------------------------------------------------+\n",
            "| NVIDIA-SMI 532.03                 Driver Version: 532.03       CUDA Version: 12.1     |\n",
            "|-----------------------------------------+----------------------+----------------------+\n",
            "| GPU  Name                      TCC/WDDM | Bus-Id        Disp.A | Volatile Uncorr. ECC |\n",
            "| Fan  Temp  Perf            Pwr:Usage/Cap|         Memory-Usage | GPU-Util  Compute M. |\n",
            "|                                         |                      |               MIG M. |\n",
            "|=========================================+======================+======================|\n",
            "|   0  NVIDIA GeForce RTX 3060 L...  WDDM | 00000000:01:00.0  On |                  N/A |\n",
            "| N/A   53C    P0               28W /  N/A|   5853MiB /  6144MiB |      3%      Default |\n",
            "|                                         |                      |                  N/A |\n",
            "+-----------------------------------------+----------------------+----------------------+\n",
            "                                                                                         \n",
            "+---------------------------------------------------------------------------------------+\n",
            "| Processes:                                                                            |\n",
            "|  GPU   GI   CI        PID   Type   Process name                            GPU Memory |\n",
            "|        ID   ID                                                             Usage      |\n",
            "|=======================================================================================|\n",
            "|    0   N/A  N/A      1896    C+G   ...GeForce Experience\\NVIDIA Share.exe    N/A      |\n",
            "|    0   N/A  N/A      3612      C   ...envs\\tensorflow_gpu_zein\\python.exe    N/A      |\n",
            "|    0   N/A  N/A      9296    C+G   ...1.0_x64__8wekyb3d8bbwe\\Video.UI.exe    N/A      |\n",
            "|    0   N/A  N/A     10188    C+G   C:\\WINDOWS\\explorer.exe                   N/A      |\n",
            "|    0   N/A  N/A     11728    C+G   ...Programs\\Microsoft VS Code\\Code.exe    N/A      |\n",
            "|    0   N/A  N/A     12012    C+G   ...nt.CBS_cw5n1h2txyewy\\SearchHost.exe    N/A      |\n",
            "|    0   N/A  N/A     14976    C+G   ...t.LockApp_cw5n1h2txyewy\\LockApp.exe    N/A      |\n",
            "|    0   N/A  N/A     15552    C+G   ...ekyb3d8bbwe\\PhoneExperienceHost.exe    N/A      |\n",
            "|    0   N/A  N/A     15568    C+G   ...oogle\\Chrome\\Application\\chrome.exe    N/A      |\n",
            "|    0   N/A  N/A     17344    C+G   ...on\\113.0.1774.57\\msedgewebview2.exe    N/A      |\n",
            "|    0   N/A  N/A     18500    C+G   ...siveControlPanel\\SystemSettings.exe    N/A      |\n",
            "|    0   N/A  N/A     19944    C+G   ..._x64__8wekyb3d8bbwe\\SecHealthUI.exe    N/A      |\n",
            "|    0   N/A  N/A     20172    C+G   ...\\AMD\\CNext\\CNext\\RadeonSoftware.exe    N/A      |\n",
            "|    0   N/A  N/A     20384    C+G   ...les\\AMD\\CNext\\CNext\\AMDRSSrcExt.exe    N/A      |\n",
            "|    0   N/A  N/A     20860    C+G   ...7.0_x64__cv1g1gvanyjgm\\WhatsApp.exe    N/A      |\n",
            "|    0   N/A  N/A     21552    C+G   ...02.0_x86__zpdnekdrzrea0\\Spotify.exe    N/A      |\n",
            "|    0   N/A  N/A     23236    C+G   ...les\\Microsoft OneDrive\\OneDrive.exe    N/A      |\n",
            "|    0   N/A  N/A     24128    C+G   ...les\\Microsoft OneDrive\\OneDrive.exe    N/A      |\n",
            "|    0   N/A  N/A     25188      C   ...envs\\tensorflow_gpu_zein\\python.exe    N/A      |\n",
            "+---------------------------------------------------------------------------------------+\n"
          ]
        }
      ],
      "source": [
        "# Check GPU\n",
        "!nvidia-smi"
      ]
    },
    {
      "cell_type": "code",
      "execution_count": 7,
      "metadata": {
        "colab": {
          "base_uri": "https://localhost:8080/"
        },
        "id": "FSapZ74PU2TF",
        "outputId": "546371ee-fff4-4e07-c541-ba831ff81168",
        "tags": []
      },
      "outputs": [
        {
          "data": {
            "text/plain": [
              "[PhysicalDevice(name='/physical_device:GPU:0', device_type='GPU')]"
            ]
          },
          "execution_count": 7,
          "metadata": {},
          "output_type": "execute_result"
        }
      ],
      "source": [
        "# Lis physical devices\n",
        "devices = tf.config.experimental.list_physical_devices(\"GPU\")\n",
        "devices"
      ]
    },
    {
      "cell_type": "code",
      "execution_count": 8,
      "metadata": {
        "id": "A8WtBtBaU2TG",
        "tags": []
      },
      "outputs": [
        {
          "name": "stdout",
          "output_type": "stream",
          "text": [
            "INFO:tensorflow:Using MirroredStrategy with devices ('/job:localhost/replica:0/task:0/device:GPU:0',)\n"
          ]
        }
      ],
      "source": [
        "# Define the GPU strategy\n",
        "mirrored_strategy = tf.distribute.MirroredStrategy(devices=[\"/gpu:0\"])"
      ]
    },
    {
      "attachments": {},
      "cell_type": "markdown",
      "metadata": {
        "id": "Vqr_uGTNU2TG"
      },
      "source": [
        "# Modelling With Augmentation"
      ]
    },
    {
      "attachments": {},
      "cell_type": "markdown",
      "metadata": {
        "id": "w4Wzh6ZyU2TH"
      },
      "source": [
        "## DIY Model 1"
      ]
    },
    {
      "cell_type": "code",
      "execution_count": 9,
      "metadata": {
        "id": "uUqYGBfRU2TH",
        "tags": []
      },
      "outputs": [],
      "source": [
        "# Difine the callbacks\n",
        "# Save the best model\n",
        "checkpoint_callback = ModelCheckpoint(filepath=\"Grape_DIY_model1_Based_Augmented\", save_best_only=True, monitor=\"val_accuracy\", mode=\"max\", verbose=1)\n",
        "\n",
        "# Early stopping\n",
        "early_stopping_callback = EarlyStopping(monitor=\"val_accuracy\", mode=\"max\", patience=20, verbose=1, restore_best_weights=True)\n",
        "\n",
        "# Reduce learning rate\n",
        "reduce_lr_callback = ReduceLROnPlateau(monitor=\"val_loss\", factor=0.1, patience=5, verbose=1, mode=\"min\", min_delta=0.0001, cooldown=0, min_lr=0)\n",
        "\n",
        "# Callbacks list\n",
        "callbacks=[checkpoint_callback, early_stopping_callback, reduce_lr_callback]"
      ]
    },
    {
      "cell_type": "code",
      "execution_count": 10,
      "metadata": {
        "colab": {
          "base_uri": "https://localhost:8080/"
        },
        "id": "BQHFs3gSU2TI",
        "outputId": "cb49c111-5906-44e3-9433-eda545873534",
        "tags": []
      },
      "outputs": [
        {
          "name": "stdout",
          "output_type": "stream",
          "text": [
            "Model: \"sequential\"\n",
            "_________________________________________________________________\n",
            " Layer (type)                Output Shape              Param #   \n",
            "=================================================================\n",
            " conv2d (Conv2D)             (None, 222, 222, 32)      896       \n",
            "                                                                 \n",
            " max_pooling2d (MaxPooling2D  (None, 111, 111, 32)     0         \n",
            " )                                                               \n",
            "                                                                 \n",
            " conv2d_1 (Conv2D)           (None, 109, 109, 64)      18496     \n",
            "                                                                 \n",
            " max_pooling2d_1 (MaxPooling  (None, 54, 54, 64)       0         \n",
            " 2D)                                                             \n",
            "                                                                 \n",
            " conv2d_2 (Conv2D)           (None, 52, 52, 128)       73856     \n",
            "                                                                 \n",
            " max_pooling2d_2 (MaxPooling  (None, 26, 26, 128)      0         \n",
            " 2D)                                                             \n",
            "                                                                 \n",
            " flatten (Flatten)           (None, 86528)             0         \n",
            "                                                                 \n",
            " dense (Dense)               (None, 512)               44302848  \n",
            "                                                                 \n",
            " dropout (Dropout)           (None, 512)               0         \n",
            "                                                                 \n",
            " dense_1 (Dense)             (None, 256)               131328    \n",
            "                                                                 \n",
            " dense_2 (Dense)             (None, 4)                 1028      \n",
            "                                                                 \n",
            "=================================================================\n",
            "Total params: 44,528,452\n",
            "Trainable params: 44,528,452\n",
            "Non-trainable params: 0\n",
            "_________________________________________________________________\n"
          ]
        }
      ],
      "source": [
        "# Define DIY Model\n",
        "DIY_model = tf.keras.models.Sequential([\n",
        "    # Convolutional Layers with 32 filters\n",
        "    tf.keras.layers.Conv2D(32, (3,3), activation='relu', input_shape=(224, 224, 3)),\n",
        "    # MaxPooling Layer\n",
        "    tf.keras.layers.MaxPooling2D(2,2),\n",
        "    # Convolutional Layers with 64 filters\n",
        "    tf.keras.layers.Conv2D(64, (3,3), activation='relu'),\n",
        "    # MaxPooling Layer\n",
        "    tf.keras.layers.MaxPooling2D(2,2),  \n",
        "    # Convolutional Layers with 128 filters\n",
        "    tf.keras.layers.Conv2D(128, (3,3), activation='relu'), \n",
        "    # MaxPooling Layer\n",
        "    tf.keras.layers.MaxPooling2D(2,2),  \n",
        "    # Flatten the results to feed into a DNN\n",
        "    tf.keras.layers.Flatten(),\n",
        "    # 512 neuron hidden layer\n",
        "    tf.keras.layers.Dense(512, activation='relu'),\n",
        "    # Drop Out Layer\n",
        "    tf.keras.layers.Dropout(0.2),\n",
        "    # 256 neuron hidden layer\n",
        "    tf.keras.layers.Dense(256, activation='relu'),\n",
        "    # Output\n",
        "    tf.keras.layers.Dense(4, activation='softmax') \n",
        "  ])\n",
        "\n",
        "\n",
        "# Compile Model\n",
        "DIY_model.compile(loss='categorical_crossentropy',optimizer=tf.keras.optimizers.Adam(), metrics=['accuracy']) \n",
        "\n",
        "# Model Summary\n",
        "DIY_model.summary()"
      ]
    },
    {
      "cell_type": "code",
      "execution_count": 11,
      "metadata": {
        "colab": {
          "base_uri": "https://localhost:8080/"
        },
        "id": "6coN3TKhU2TI",
        "outputId": "93bdc2ce-549b-4c9d-dade-40d6db14b980",
        "tags": []
      },
      "outputs": [
        {
          "name": "stdout",
          "output_type": "stream",
          "text": [
            "Epoch 1/100\n",
            "367/367 [==============================] - ETA: 0s - loss: 0.6259 - accuracy: 0.7512\n",
            "Epoch 1: val_accuracy improved from -inf to 0.78849, saving model to Grape_DIY_model1_Based_Augmented\n"
          ]
        },
        {
          "name": "stderr",
          "output_type": "stream",
          "text": [
            "WARNING:absl:Found untraced functions such as _jit_compiled_convolution_op, _jit_compiled_convolution_op, _jit_compiled_convolution_op while saving (showing 3 of 3). These functions will not be directly callable after loading.\n"
          ]
        },
        {
          "name": "stdout",
          "output_type": "stream",
          "text": [
            "INFO:tensorflow:Assets written to: Grape_DIY_model1_Based_Augmented\\assets\n"
          ]
        },
        {
          "name": "stderr",
          "output_type": "stream",
          "text": [
            "INFO:tensorflow:Assets written to: Grape_DIY_model1_Based_Augmented\\assets\n"
          ]
        },
        {
          "name": "stdout",
          "output_type": "stream",
          "text": [
            "367/367 [==============================] - 110s 286ms/step - loss: 0.6259 - accuracy: 0.7512 - val_loss: 0.5565 - val_accuracy: 0.7885 - lr: 0.0010\n",
            "Epoch 2/100\n",
            "367/367 [==============================] - ETA: 0s - loss: 0.3209 - accuracy: 0.8894\n",
            "Epoch 2: val_accuracy improved from 0.78849 to 0.79288, saving model to Grape_DIY_model1_Based_Augmented\n"
          ]
        },
        {
          "name": "stderr",
          "output_type": "stream",
          "text": [
            "WARNING:absl:Found untraced functions such as _jit_compiled_convolution_op, _jit_compiled_convolution_op, _jit_compiled_convolution_op while saving (showing 3 of 3). These functions will not be directly callable after loading.\n"
          ]
        },
        {
          "name": "stdout",
          "output_type": "stream",
          "text": [
            "INFO:tensorflow:Assets written to: Grape_DIY_model1_Based_Augmented\\assets\n"
          ]
        },
        {
          "name": "stderr",
          "output_type": "stream",
          "text": [
            "INFO:tensorflow:Assets written to: Grape_DIY_model1_Based_Augmented\\assets\n"
          ]
        },
        {
          "name": "stdout",
          "output_type": "stream",
          "text": [
            "367/367 [==============================] - 61s 165ms/step - loss: 0.3209 - accuracy: 0.8894 - val_loss: 0.5479 - val_accuracy: 0.7929 - lr: 0.0010\n",
            "Epoch 3/100\n",
            "367/367 [==============================] - ETA: 0s - loss: 0.2471 - accuracy: 0.9115\n",
            "Epoch 3: val_accuracy improved from 0.79288 to 0.79726, saving model to Grape_DIY_model1_Based_Augmented\n"
          ]
        },
        {
          "name": "stderr",
          "output_type": "stream",
          "text": [
            "WARNING:absl:Found untraced functions such as _jit_compiled_convolution_op, _jit_compiled_convolution_op, _jit_compiled_convolution_op while saving (showing 3 of 3). These functions will not be directly callable after loading.\n"
          ]
        },
        {
          "name": "stdout",
          "output_type": "stream",
          "text": [
            "INFO:tensorflow:Assets written to: Grape_DIY_model1_Based_Augmented\\assets\n"
          ]
        },
        {
          "name": "stderr",
          "output_type": "stream",
          "text": [
            "INFO:tensorflow:Assets written to: Grape_DIY_model1_Based_Augmented\\assets\n"
          ]
        },
        {
          "name": "stdout",
          "output_type": "stream",
          "text": [
            "367/367 [==============================] - 58s 157ms/step - loss: 0.2471 - accuracy: 0.9115 - val_loss: 0.5398 - val_accuracy: 0.7973 - lr: 0.0010\n",
            "Epoch 4/100\n",
            "367/367 [==============================] - ETA: 0s - loss: 0.1814 - accuracy: 0.9372\n",
            "Epoch 4: val_accuracy improved from 0.79726 to 0.93425, saving model to Grape_DIY_model1_Based_Augmented\n"
          ]
        },
        {
          "name": "stderr",
          "output_type": "stream",
          "text": [
            "WARNING:absl:Found untraced functions such as _jit_compiled_convolution_op, _jit_compiled_convolution_op, _jit_compiled_convolution_op while saving (showing 3 of 3). These functions will not be directly callable after loading.\n"
          ]
        },
        {
          "name": "stdout",
          "output_type": "stream",
          "text": [
            "INFO:tensorflow:Assets written to: Grape_DIY_model1_Based_Augmented\\assets\n"
          ]
        },
        {
          "name": "stderr",
          "output_type": "stream",
          "text": [
            "INFO:tensorflow:Assets written to: Grape_DIY_model1_Based_Augmented\\assets\n"
          ]
        },
        {
          "name": "stdout",
          "output_type": "stream",
          "text": [
            "367/367 [==============================] - 60s 162ms/step - loss: 0.1814 - accuracy: 0.9372 - val_loss: 0.1694 - val_accuracy: 0.9342 - lr: 0.0010\n",
            "Epoch 5/100\n",
            "367/367 [==============================] - ETA: 0s - loss: 0.1732 - accuracy: 0.9425\n",
            "Epoch 5: val_accuracy did not improve from 0.93425\n",
            "367/367 [==============================] - 55s 150ms/step - loss: 0.1732 - accuracy: 0.9425 - val_loss: 0.2660 - val_accuracy: 0.9107 - lr: 0.0010\n",
            "Epoch 6/100\n",
            "367/367 [==============================] - ETA: 0s - loss: 0.1335 - accuracy: 0.9541\n",
            "Epoch 6: val_accuracy did not improve from 0.93425\n",
            "367/367 [==============================] - 55s 149ms/step - loss: 0.1335 - accuracy: 0.9541 - val_loss: 0.2884 - val_accuracy: 0.8942 - lr: 0.0010\n",
            "Epoch 7/100\n",
            "367/367 [==============================] - ETA: 0s - loss: 0.1552 - accuracy: 0.9505\n",
            "Epoch 7: val_accuracy improved from 0.93425 to 0.95616, saving model to Grape_DIY_model1_Based_Augmented\n"
          ]
        },
        {
          "name": "stderr",
          "output_type": "stream",
          "text": [
            "WARNING:absl:Found untraced functions such as _jit_compiled_convolution_op, _jit_compiled_convolution_op, _jit_compiled_convolution_op while saving (showing 3 of 3). These functions will not be directly callable after loading.\n"
          ]
        },
        {
          "name": "stdout",
          "output_type": "stream",
          "text": [
            "INFO:tensorflow:Assets written to: Grape_DIY_model1_Based_Augmented\\assets\n"
          ]
        },
        {
          "name": "stderr",
          "output_type": "stream",
          "text": [
            "INFO:tensorflow:Assets written to: Grape_DIY_model1_Based_Augmented\\assets\n"
          ]
        },
        {
          "name": "stdout",
          "output_type": "stream",
          "text": [
            "367/367 [==============================] - 57s 156ms/step - loss: 0.1552 - accuracy: 0.9505 - val_loss: 0.1256 - val_accuracy: 0.9562 - lr: 0.0010\n",
            "Epoch 8/100\n",
            "367/367 [==============================] - ETA: 0s - loss: 0.1335 - accuracy: 0.9566\n",
            "Epoch 8: val_accuracy did not improve from 0.95616\n",
            "367/367 [==============================] - 55s 149ms/step - loss: 0.1335 - accuracy: 0.9566 - val_loss: 0.2420 - val_accuracy: 0.9195 - lr: 0.0010\n",
            "Epoch 9/100\n",
            "367/367 [==============================] - ETA: 0s - loss: 0.0990 - accuracy: 0.9655\n",
            "Epoch 9: val_accuracy improved from 0.95616 to 0.96986, saving model to Grape_DIY_model1_Based_Augmented\n"
          ]
        },
        {
          "name": "stderr",
          "output_type": "stream",
          "text": [
            "WARNING:absl:Found untraced functions such as _jit_compiled_convolution_op, _jit_compiled_convolution_op, _jit_compiled_convolution_op while saving (showing 3 of 3). These functions will not be directly callable after loading.\n"
          ]
        },
        {
          "name": "stdout",
          "output_type": "stream",
          "text": [
            "INFO:tensorflow:Assets written to: Grape_DIY_model1_Based_Augmented\\assets\n"
          ]
        },
        {
          "name": "stderr",
          "output_type": "stream",
          "text": [
            "INFO:tensorflow:Assets written to: Grape_DIY_model1_Based_Augmented\\assets\n"
          ]
        },
        {
          "name": "stdout",
          "output_type": "stream",
          "text": [
            "367/367 [==============================] - 63s 171ms/step - loss: 0.0990 - accuracy: 0.9655 - val_loss: 0.0791 - val_accuracy: 0.9699 - lr: 0.0010\n",
            "Epoch 10/100\n",
            "367/367 [==============================] - ETA: 0s - loss: 0.0962 - accuracy: 0.9663\n",
            "Epoch 10: val_accuracy did not improve from 0.96986\n",
            "367/367 [==============================] - 59s 160ms/step - loss: 0.0962 - accuracy: 0.9663 - val_loss: 0.0876 - val_accuracy: 0.9688 - lr: 0.0010\n",
            "Epoch 11/100\n",
            "367/367 [==============================] - ETA: 0s - loss: 0.0934 - accuracy: 0.9704\n",
            "Epoch 11: val_accuracy did not improve from 0.96986\n",
            "367/367 [==============================] - 58s 157ms/step - loss: 0.0934 - accuracy: 0.9704 - val_loss: 0.1385 - val_accuracy: 0.9644 - lr: 0.0010\n",
            "Epoch 12/100\n",
            "367/367 [==============================] - ETA: 0s - loss: 0.0822 - accuracy: 0.9749\n",
            "Epoch 12: val_accuracy improved from 0.96986 to 0.98027, saving model to Grape_DIY_model1_Based_Augmented\n"
          ]
        },
        {
          "name": "stderr",
          "output_type": "stream",
          "text": [
            "WARNING:absl:Found untraced functions such as _jit_compiled_convolution_op, _jit_compiled_convolution_op, _jit_compiled_convolution_op while saving (showing 3 of 3). These functions will not be directly callable after loading.\n"
          ]
        },
        {
          "name": "stdout",
          "output_type": "stream",
          "text": [
            "INFO:tensorflow:Assets written to: Grape_DIY_model1_Based_Augmented\\assets\n"
          ]
        },
        {
          "name": "stderr",
          "output_type": "stream",
          "text": [
            "INFO:tensorflow:Assets written to: Grape_DIY_model1_Based_Augmented\\assets\n"
          ]
        },
        {
          "name": "stdout",
          "output_type": "stream",
          "text": [
            "367/367 [==============================] - 59s 162ms/step - loss: 0.0822 - accuracy: 0.9749 - val_loss: 0.0739 - val_accuracy: 0.9803 - lr: 0.0010\n",
            "Epoch 13/100\n",
            "367/367 [==============================] - ETA: 0s - loss: 0.0788 - accuracy: 0.9748\n",
            "Epoch 13: val_accuracy did not improve from 0.98027\n",
            "367/367 [==============================] - 55s 148ms/step - loss: 0.0788 - accuracy: 0.9748 - val_loss: 0.1415 - val_accuracy: 0.9605 - lr: 0.0010\n",
            "Epoch 14/100\n",
            "367/367 [==============================] - ETA: 0s - loss: 0.0747 - accuracy: 0.9749\n",
            "Epoch 14: val_accuracy did not improve from 0.98027\n",
            "367/367 [==============================] - 54s 146ms/step - loss: 0.0747 - accuracy: 0.9749 - val_loss: 0.3254 - val_accuracy: 0.9118 - lr: 0.0010\n",
            "Epoch 15/100\n",
            "367/367 [==============================] - ETA: 0s - loss: 0.0702 - accuracy: 0.9785\n",
            "Epoch 15: val_accuracy did not improve from 0.98027\n",
            "367/367 [==============================] - 54s 148ms/step - loss: 0.0702 - accuracy: 0.9785 - val_loss: 0.0900 - val_accuracy: 0.9688 - lr: 0.0010\n",
            "Epoch 16/100\n",
            "367/367 [==============================] - ETA: 0s - loss: 0.0787 - accuracy: 0.9746\n",
            "Epoch 16: val_accuracy did not improve from 0.98027\n",
            "367/367 [==============================] - 54s 147ms/step - loss: 0.0787 - accuracy: 0.9746 - val_loss: 0.7955 - val_accuracy: 0.8389 - lr: 0.0010\n",
            "Epoch 17/100\n",
            "367/367 [==============================] - ETA: 0s - loss: 0.1078 - accuracy: 0.9609\n",
            "Epoch 17: val_accuracy did not improve from 0.98027\n",
            "\n",
            "Epoch 17: ReduceLROnPlateau reducing learning rate to 0.00010000000474974513.\n",
            "367/367 [==============================] - 54s 148ms/step - loss: 0.1078 - accuracy: 0.9609 - val_loss: 0.0764 - val_accuracy: 0.9770 - lr: 0.0010\n",
            "Epoch 18/100\n",
            "367/367 [==============================] - ETA: 0s - loss: 0.0365 - accuracy: 0.9875\n",
            "Epoch 18: val_accuracy improved from 0.98027 to 0.98247, saving model to Grape_DIY_model1_Based_Augmented\n"
          ]
        },
        {
          "name": "stderr",
          "output_type": "stream",
          "text": [
            "WARNING:absl:Found untraced functions such as _jit_compiled_convolution_op, _jit_compiled_convolution_op, _jit_compiled_convolution_op while saving (showing 3 of 3). These functions will not be directly callable after loading.\n"
          ]
        },
        {
          "name": "stdout",
          "output_type": "stream",
          "text": [
            "INFO:tensorflow:Assets written to: Grape_DIY_model1_Based_Augmented\\assets\n"
          ]
        },
        {
          "name": "stderr",
          "output_type": "stream",
          "text": [
            "INFO:tensorflow:Assets written to: Grape_DIY_model1_Based_Augmented\\assets\n"
          ]
        },
        {
          "name": "stdout",
          "output_type": "stream",
          "text": [
            "367/367 [==============================] - 59s 160ms/step - loss: 0.0365 - accuracy: 0.9875 - val_loss: 0.0549 - val_accuracy: 0.9825 - lr: 1.0000e-04\n",
            "Epoch 19/100\n",
            "367/367 [==============================] - ETA: 0s - loss: 0.0310 - accuracy: 0.9891\n",
            "Epoch 19: val_accuracy did not improve from 0.98247\n",
            "367/367 [==============================] - 55s 148ms/step - loss: 0.0310 - accuracy: 0.9891 - val_loss: 0.0618 - val_accuracy: 0.9803 - lr: 1.0000e-04\n",
            "Epoch 20/100\n",
            "367/367 [==============================] - ETA: 0s - loss: 0.0252 - accuracy: 0.9924\n",
            "Epoch 20: val_accuracy did not improve from 0.98247\n",
            "367/367 [==============================] - 54s 146ms/step - loss: 0.0252 - accuracy: 0.9924 - val_loss: 0.0682 - val_accuracy: 0.9792 - lr: 1.0000e-04\n",
            "Epoch 21/100\n",
            "367/367 [==============================] - ETA: 0s - loss: 0.0253 - accuracy: 0.9903\n",
            "Epoch 21: val_accuracy did not improve from 0.98247\n",
            "367/367 [==============================] - 54s 148ms/step - loss: 0.0253 - accuracy: 0.9903 - val_loss: 0.0677 - val_accuracy: 0.9781 - lr: 1.0000e-04\n",
            "Epoch 22/100\n",
            "367/367 [==============================] - ETA: 0s - loss: 0.0223 - accuracy: 0.9917\n",
            "Epoch 22: val_accuracy did not improve from 0.98247\n",
            "367/367 [==============================] - 54s 146ms/step - loss: 0.0223 - accuracy: 0.9917 - val_loss: 0.0647 - val_accuracy: 0.9803 - lr: 1.0000e-04\n",
            "Epoch 23/100\n",
            "367/367 [==============================] - ETA: 0s - loss: 0.0288 - accuracy: 0.9898\n",
            "Epoch 23: val_accuracy did not improve from 0.98247\n",
            "\n",
            "Epoch 23: ReduceLROnPlateau reducing learning rate to 1.0000000474974514e-05.\n",
            "367/367 [==============================] - 54s 148ms/step - loss: 0.0288 - accuracy: 0.9898 - val_loss: 0.0549 - val_accuracy: 0.9803 - lr: 1.0000e-04\n",
            "Epoch 24/100\n",
            "367/367 [==============================] - ETA: 0s - loss: 0.0184 - accuracy: 0.9943\n",
            "Epoch 24: val_accuracy did not improve from 0.98247\n",
            "367/367 [==============================] - 54s 146ms/step - loss: 0.0184 - accuracy: 0.9943 - val_loss: 0.0549 - val_accuracy: 0.9781 - lr: 1.0000e-05\n",
            "Epoch 25/100\n",
            "367/367 [==============================] - ETA: 0s - loss: 0.0206 - accuracy: 0.9941\n",
            "Epoch 25: val_accuracy did not improve from 0.98247\n",
            "367/367 [==============================] - 55s 148ms/step - loss: 0.0206 - accuracy: 0.9941 - val_loss: 0.0542 - val_accuracy: 0.9781 - lr: 1.0000e-05\n",
            "Epoch 26/100\n",
            "367/367 [==============================] - ETA: 0s - loss: 0.0212 - accuracy: 0.9929\n",
            "Epoch 26: val_accuracy did not improve from 0.98247\n",
            "367/367 [==============================] - 54s 146ms/step - loss: 0.0212 - accuracy: 0.9929 - val_loss: 0.0528 - val_accuracy: 0.9803 - lr: 1.0000e-05\n",
            "Epoch 27/100\n",
            "367/367 [==============================] - ETA: 0s - loss: 0.0208 - accuracy: 0.9926\n",
            "Epoch 27: val_accuracy did not improve from 0.98247\n",
            "367/367 [==============================] - 54s 148ms/step - loss: 0.0208 - accuracy: 0.9926 - val_loss: 0.0576 - val_accuracy: 0.9792 - lr: 1.0000e-05\n",
            "Epoch 28/100\n",
            "367/367 [==============================] - ETA: 0s - loss: 0.0211 - accuracy: 0.9930\n",
            "Epoch 28: val_accuracy did not improve from 0.98247\n",
            "367/367 [==============================] - 54s 147ms/step - loss: 0.0211 - accuracy: 0.9930 - val_loss: 0.0541 - val_accuracy: 0.9814 - lr: 1.0000e-05\n",
            "Epoch 29/100\n",
            "367/367 [==============================] - ETA: 0s - loss: 0.0194 - accuracy: 0.9930\n",
            "Epoch 29: val_accuracy did not improve from 0.98247\n",
            "367/367 [==============================] - 55s 148ms/step - loss: 0.0194 - accuracy: 0.9930 - val_loss: 0.0519 - val_accuracy: 0.9819 - lr: 1.0000e-05\n",
            "Epoch 30/100\n",
            "367/367 [==============================] - ETA: 0s - loss: 0.0172 - accuracy: 0.9941\n",
            "Epoch 30: val_accuracy did not improve from 0.98247\n",
            "367/367 [==============================] - 54s 147ms/step - loss: 0.0172 - accuracy: 0.9941 - val_loss: 0.0511 - val_accuracy: 0.9819 - lr: 1.0000e-05\n",
            "Epoch 31/100\n",
            "367/367 [==============================] - ETA: 0s - loss: 0.0207 - accuracy: 0.9924\n",
            "Epoch 31: val_accuracy did not improve from 0.98247\n",
            "367/367 [==============================] - 54s 148ms/step - loss: 0.0207 - accuracy: 0.9924 - val_loss: 0.0538 - val_accuracy: 0.9825 - lr: 1.0000e-05\n",
            "Epoch 32/100\n",
            "367/367 [==============================] - ETA: 0s - loss: 0.0193 - accuracy: 0.9928\n",
            "Epoch 32: val_accuracy did not improve from 0.98247\n",
            "367/367 [==============================] - 54s 147ms/step - loss: 0.0193 - accuracy: 0.9928 - val_loss: 0.0488 - val_accuracy: 0.9825 - lr: 1.0000e-05\n",
            "Epoch 33/100\n",
            "367/367 [==============================] - ETA: 0s - loss: 0.0176 - accuracy: 0.9950\n",
            "Epoch 33: val_accuracy improved from 0.98247 to 0.98301, saving model to Grape_DIY_model1_Based_Augmented\n"
          ]
        },
        {
          "name": "stderr",
          "output_type": "stream",
          "text": [
            "WARNING:absl:Found untraced functions such as _jit_compiled_convolution_op, _jit_compiled_convolution_op, _jit_compiled_convolution_op while saving (showing 3 of 3). These functions will not be directly callable after loading.\n"
          ]
        },
        {
          "name": "stdout",
          "output_type": "stream",
          "text": [
            "INFO:tensorflow:Assets written to: Grape_DIY_model1_Based_Augmented\\assets\n"
          ]
        },
        {
          "name": "stderr",
          "output_type": "stream",
          "text": [
            "INFO:tensorflow:Assets written to: Grape_DIY_model1_Based_Augmented\\assets\n"
          ]
        },
        {
          "name": "stdout",
          "output_type": "stream",
          "text": [
            "367/367 [==============================] - 59s 161ms/step - loss: 0.0176 - accuracy: 0.9950 - val_loss: 0.0486 - val_accuracy: 0.9830 - lr: 1.0000e-05\n",
            "Epoch 34/100\n",
            "367/367 [==============================] - ETA: 0s - loss: 0.0171 - accuracy: 0.9940\n",
            "Epoch 34: val_accuracy did not improve from 0.98301\n",
            "367/367 [==============================] - 53s 145ms/step - loss: 0.0171 - accuracy: 0.9940 - val_loss: 0.0554 - val_accuracy: 0.9830 - lr: 1.0000e-05\n",
            "Epoch 35/100\n",
            "367/367 [==============================] - ETA: 0s - loss: 0.0176 - accuracy: 0.9936\n",
            "Epoch 35: val_accuracy did not improve from 0.98301\n",
            "367/367 [==============================] - 54s 147ms/step - loss: 0.0176 - accuracy: 0.9936 - val_loss: 0.0632 - val_accuracy: 0.9797 - lr: 1.0000e-05\n",
            "Epoch 36/100\n",
            "367/367 [==============================] - ETA: 0s - loss: 0.0200 - accuracy: 0.9940\n",
            "Epoch 36: val_accuracy did not improve from 0.98301\n",
            "367/367 [==============================] - 53s 145ms/step - loss: 0.0200 - accuracy: 0.9940 - val_loss: 0.0488 - val_accuracy: 0.9830 - lr: 1.0000e-05\n",
            "Epoch 37/100\n",
            "367/367 [==============================] - ETA: 0s - loss: 0.0167 - accuracy: 0.9951\n",
            "Epoch 37: val_accuracy did not improve from 0.98301\n",
            "367/367 [==============================] - 54s 148ms/step - loss: 0.0167 - accuracy: 0.9951 - val_loss: 0.0496 - val_accuracy: 0.9830 - lr: 1.0000e-05\n",
            "Epoch 38/100\n",
            "367/367 [==============================] - ETA: 0s - loss: 0.0171 - accuracy: 0.9947\n",
            "Epoch 38: val_accuracy did not improve from 0.98301\n",
            "\n",
            "Epoch 38: ReduceLROnPlateau reducing learning rate to 1.0000000656873453e-06.\n",
            "367/367 [==============================] - 53s 145ms/step - loss: 0.0171 - accuracy: 0.9947 - val_loss: 0.0543 - val_accuracy: 0.9814 - lr: 1.0000e-05\n",
            "Epoch 39/100\n",
            "367/367 [==============================] - ETA: 0s - loss: 0.0195 - accuracy: 0.9936\n",
            "Epoch 39: val_accuracy did not improve from 0.98301\n",
            "367/367 [==============================] - 54s 147ms/step - loss: 0.0195 - accuracy: 0.9936 - val_loss: 0.0543 - val_accuracy: 0.9819 - lr: 1.0000e-06\n",
            "Epoch 40/100\n",
            "367/367 [==============================] - ETA: 0s - loss: 0.0180 - accuracy: 0.9933\n",
            "Epoch 40: val_accuracy did not improve from 0.98301\n",
            "367/367 [==============================] - 54s 146ms/step - loss: 0.0180 - accuracy: 0.9933 - val_loss: 0.0543 - val_accuracy: 0.9825 - lr: 1.0000e-06\n",
            "Epoch 41/100\n",
            "367/367 [==============================] - ETA: 0s - loss: 0.0177 - accuracy: 0.9936\n",
            "Epoch 41: val_accuracy did not improve from 0.98301\n",
            "367/367 [==============================] - 54s 147ms/step - loss: 0.0177 - accuracy: 0.9936 - val_loss: 0.0543 - val_accuracy: 0.9825 - lr: 1.0000e-06\n",
            "Epoch 42/100\n",
            "367/367 [==============================] - ETA: 0s - loss: 0.0184 - accuracy: 0.9930\n",
            "Epoch 42: val_accuracy did not improve from 0.98301\n",
            "367/367 [==============================] - 54s 146ms/step - loss: 0.0184 - accuracy: 0.9930 - val_loss: 0.0532 - val_accuracy: 0.9830 - lr: 1.0000e-06\n",
            "Epoch 43/100\n",
            "367/367 [==============================] - ETA: 0s - loss: 0.0182 - accuracy: 0.9935\n",
            "Epoch 43: val_accuracy did not improve from 0.98301\n",
            "\n",
            "Epoch 43: ReduceLROnPlateau reducing learning rate to 1.0000001111620805e-07.\n",
            "367/367 [==============================] - 55s 150ms/step - loss: 0.0182 - accuracy: 0.9935 - val_loss: 0.0529 - val_accuracy: 0.9830 - lr: 1.0000e-06\n",
            "Epoch 44/100\n",
            "367/367 [==============================] - ETA: 0s - loss: 0.0191 - accuracy: 0.9944\n",
            "Epoch 44: val_accuracy did not improve from 0.98301\n",
            "367/367 [==============================] - 53s 145ms/step - loss: 0.0191 - accuracy: 0.9944 - val_loss: 0.0528 - val_accuracy: 0.9830 - lr: 1.0000e-07\n",
            "Epoch 45/100\n",
            "367/367 [==============================] - ETA: 0s - loss: 0.0178 - accuracy: 0.9933\n",
            "Epoch 45: val_accuracy did not improve from 0.98301\n",
            "367/367 [==============================] - 54s 146ms/step - loss: 0.0178 - accuracy: 0.9933 - val_loss: 0.0529 - val_accuracy: 0.9830 - lr: 1.0000e-07\n",
            "Epoch 46/100\n",
            "367/367 [==============================] - ETA: 0s - loss: 0.0166 - accuracy: 0.9937\n",
            "Epoch 46: val_accuracy did not improve from 0.98301\n",
            "367/367 [==============================] - 53s 145ms/step - loss: 0.0166 - accuracy: 0.9937 - val_loss: 0.0529 - val_accuracy: 0.9830 - lr: 1.0000e-07\n",
            "Epoch 47/100\n",
            "367/367 [==============================] - ETA: 0s - loss: 0.0203 - accuracy: 0.9921\n",
            "Epoch 47: val_accuracy did not improve from 0.98301\n",
            "367/367 [==============================] - 54s 146ms/step - loss: 0.0203 - accuracy: 0.9921 - val_loss: 0.0529 - val_accuracy: 0.9830 - lr: 1.0000e-07\n",
            "Epoch 48/100\n",
            "367/367 [==============================] - ETA: 0s - loss: 0.0198 - accuracy: 0.9928\n",
            "Epoch 48: val_accuracy did not improve from 0.98301\n",
            "\n",
            "Epoch 48: ReduceLROnPlateau reducing learning rate to 1.000000082740371e-08.\n",
            "367/367 [==============================] - 53s 146ms/step - loss: 0.0198 - accuracy: 0.9928 - val_loss: 0.0529 - val_accuracy: 0.9830 - lr: 1.0000e-07\n",
            "Epoch 49/100\n",
            "367/367 [==============================] - ETA: 0s - loss: 0.0163 - accuracy: 0.9951\n",
            "Epoch 49: val_accuracy did not improve from 0.98301\n",
            "367/367 [==============================] - 54s 147ms/step - loss: 0.0163 - accuracy: 0.9951 - val_loss: 0.0529 - val_accuracy: 0.9830 - lr: 1.0000e-08\n",
            "Epoch 50/100\n",
            "367/367 [==============================] - ETA: 0s - loss: 0.0175 - accuracy: 0.9937\n",
            "Epoch 50: val_accuracy did not improve from 0.98301\n",
            "367/367 [==============================] - 53s 144ms/step - loss: 0.0175 - accuracy: 0.9937 - val_loss: 0.0529 - val_accuracy: 0.9830 - lr: 1.0000e-08\n",
            "Epoch 51/100\n",
            "367/367 [==============================] - ETA: 0s - loss: 0.0181 - accuracy: 0.9936\n",
            "Epoch 51: val_accuracy did not improve from 0.98301\n",
            "367/367 [==============================] - 54s 146ms/step - loss: 0.0181 - accuracy: 0.9936 - val_loss: 0.0529 - val_accuracy: 0.9830 - lr: 1.0000e-08\n",
            "Epoch 52/100\n",
            "367/367 [==============================] - ETA: 0s - loss: 0.0203 - accuracy: 0.9944\n",
            "Epoch 52: val_accuracy did not improve from 0.98301\n",
            "367/367 [==============================] - 53s 145ms/step - loss: 0.0203 - accuracy: 0.9944 - val_loss: 0.0529 - val_accuracy: 0.9830 - lr: 1.0000e-08\n",
            "Epoch 53/100\n",
            "367/367 [==============================] - ETA: 0s - loss: 0.0196 - accuracy: 0.9922\n",
            "Epoch 53: val_accuracy did not improve from 0.98301\n",
            "Restoring model weights from the end of the best epoch: 33.\n",
            "\n",
            "Epoch 53: ReduceLROnPlateau reducing learning rate to 1.000000082740371e-09.\n",
            "367/367 [==============================] - 53s 145ms/step - loss: 0.0196 - accuracy: 0.9922 - val_loss: 0.0529 - val_accuracy: 0.9830 - lr: 1.0000e-08\n",
            "Epoch 53: early stopping\n"
          ]
        }
      ],
      "source": [
        "# Define the number of epochs\n",
        "num_epochs = 100\n",
        "\n",
        "# Train the model\n",
        "history_DIY_model = DIY_model.fit(train_generator, epochs=num_epochs, validation_data=validation_generator, callbacks=callbacks)"
      ]
    },
    {
      "cell_type": "code",
      "execution_count": 12,
      "metadata": {
        "colab": {
          "base_uri": "https://localhost:8080/",
          "height": 904
        },
        "id": "lvS9xz3LU2TI",
        "outputId": "e2667059-fa10-4117-b353-1c2d07786457",
        "tags": []
      },
      "outputs": [
        {
          "data": {
            "text/plain": [
              "<matplotlib.legend.Legend at 0x1f0e4f52aa0>"
            ]
          },
          "execution_count": 12,
          "metadata": {},
          "output_type": "execute_result"
        },
        {
          "data": {
            "image/png": "[encoded data removed]",
            "text/plain": [
              "<Figure size 640x480 with 1 Axes>"
            ]
          },
          "metadata": {},
          "output_type": "display_data"
        },
        {
          "data": {
            "image/png": "[encoded data removed]",
            "text/plain": [
              "<Figure size 640x480 with 1 Axes>"
            ]
          },
          "metadata": {},
          "output_type": "display_data"
        }
      ],
      "source": [
        "#-----------------------------------------------------------\n",
        "# Retrieve a list of list results on training and test data\n",
        "# sets for each training epoch\n",
        "#-----------------------------------------------------------\n",
        "acc      = history_DIY_model.history['accuracy' ]\n",
        "val_acc  = history_DIY_model.history['val_accuracy' ]\n",
        "loss     = history_DIY_model.history['loss' ]\n",
        "val_loss = history_DIY_model.history['val_loss' ]\n",
        "\n",
        "epochs   = range(len(acc)) # Get number of epochs\n",
        "\n",
        "#------------------------------------------------\n",
        "# Plot training and validation accuracy per epoch\n",
        "#------------------------------------------------\n",
        "plt.plot  (epochs, acc )\n",
        "plt.plot  (epochs, val_acc )\n",
        "plt.title ('Training and validation accuracy DIY Model 1')\n",
        "plt.legend(['train', 'val'], loc='upper left')\n",
        "plt.figure()\n",
        "\n",
        "#------------------------------------------------\n",
        "# Plot training and validation loss per epoch\n",
        "#------------------------------------------------\n",
        "plt.plot  (epochs, loss)\n",
        "plt.plot  (epochs, val_loss)\n",
        "plt.title ('Training and validation loss DIY Model 1')\n",
        "plt.legend(['train', 'val'], loc='upper left')"
      ]
    },
    {
      "attachments": {},
      "cell_type": "markdown",
      "metadata": {
        "id": "SvQOR9IuU2TJ"
      },
      "source": [
        "## DIY Model 2"
      ]
    },
    {
      "cell_type": "code",
      "execution_count": 13,
      "metadata": {
        "id": "Tj7lcdvUU2TJ",
        "tags": []
      },
      "outputs": [],
      "source": [
        "# Difine the callbacks\n",
        "# Save the best model\n",
        "checkpoint_callback = ModelCheckpoint(filepath=\"Grape_DIY_model2_Based_Augmented\", save_best_only=True, monitor=\"val_accuracy\", mode=\"max\", verbose=1)\n",
        "\n",
        "# Early stopping\n",
        "early_stopping_callback = EarlyStopping(monitor=\"val_accuracy\", mode=\"max\", patience=20, verbose=1, restore_best_weights=True)\n",
        "\n",
        "# Reduce learning rate\n",
        "reduce_lr_callback = ReduceLROnPlateau(monitor=\"val_loss\", factor=0.1, patience=5, verbose=1, mode=\"min\", min_delta=0.0001, cooldown=0, min_lr=0)\n",
        "\n",
        "# Callbacks list\n",
        "callbacks=[checkpoint_callback, early_stopping_callback, reduce_lr_callback]"
      ]
    },
    {
      "cell_type": "code",
      "execution_count": 14,
      "metadata": {
        "colab": {
          "base_uri": "https://localhost:8080/"
        },
        "id": "7NKPY1xGU2TJ",
        "outputId": "5eab2a44-8ba3-4e5a-c6f1-3a74ff0ec73e",
        "tags": []
      },
      "outputs": [
        {
          "name": "stdout",
          "output_type": "stream",
          "text": [
            "Model: \"sequential_1\"\n",
            "_________________________________________________________________\n",
            " Layer (type)                Output Shape              Param #   \n",
            "=================================================================\n",
            " conv2d_3 (Conv2D)           (None, 222, 222, 32)      896       \n",
            "                                                                 \n",
            " max_pooling2d_3 (MaxPooling  (None, 111, 111, 32)     0         \n",
            " 2D)                                                             \n",
            "                                                                 \n",
            " conv2d_4 (Conv2D)           (None, 109, 109, 64)      18496     \n",
            "                                                                 \n",
            " max_pooling2d_4 (MaxPooling  (None, 54, 54, 64)       0         \n",
            " 2D)                                                             \n",
            "                                                                 \n",
            " conv2d_5 (Conv2D)           (None, 52, 52, 128)       73856     \n",
            "                                                                 \n",
            " max_pooling2d_5 (MaxPooling  (None, 26, 26, 128)      0         \n",
            " 2D)                                                             \n",
            "                                                                 \n",
            " flatten_1 (Flatten)         (None, 86528)             0         \n",
            "                                                                 \n",
            " dense_3 (Dense)             (None, 1024)              88605696  \n",
            "                                                                 \n",
            " dense_4 (Dense)             (None, 512)               524800    \n",
            "                                                                 \n",
            " dropout_1 (Dropout)         (None, 512)               0         \n",
            "                                                                 \n",
            " dense_5 (Dense)             (None, 256)               131328    \n",
            "                                                                 \n",
            " dense_6 (Dense)             (None, 4)                 1028      \n",
            "                                                                 \n",
            "=================================================================\n",
            "Total params: 89,356,100\n",
            "Trainable params: 89,356,100\n",
            "Non-trainable params: 0\n",
            "_________________________________________________________________\n"
          ]
        }
      ],
      "source": [
        "# Define DIY Model\n",
        "DIY_model_2 = tf.keras.models.Sequential([\n",
        "    # Convolutional Layers with 32 filters\n",
        "    tf.keras.layers.Conv2D(32, (3,3), activation='relu', input_shape=(224, 224, 3)),\n",
        "    # MaxPooling Layer\n",
        "    tf.keras.layers.MaxPooling2D(2,2),\n",
        "    # Convolutional Layers with 64 filters\n",
        "    tf.keras.layers.Conv2D(64, (3,3), activation='relu'),\n",
        "    # MaxPooling Layer\n",
        "    tf.keras.layers.MaxPooling2D(2,2),  \n",
        "    # Convolutional Layers with 128 filters\n",
        "    tf.keras.layers.Conv2D(128, (3,3), activation='relu'), \n",
        "    # MaxPooling Layer\n",
        "    tf.keras.layers.MaxPooling2D(2,2),  \n",
        "    # Flatten the results to feed into a DNN\n",
        "    tf.keras.layers.Flatten(),\n",
        "    # 1024 neuron hidden layer\n",
        "    tf.keras.layers.Dense(1024, activation='relu'),\n",
        "    # 512 neuron hidden layer\n",
        "    tf.keras.layers.Dense(512, activation='relu'),\n",
        "    # Drop Out Layer\n",
        "    tf.keras.layers.Dropout(0.2),\n",
        "    # 256 neuron hidden layer\n",
        "    tf.keras.layers.Dense(256, activation='relu'),\n",
        "    # Output\n",
        "    tf.keras.layers.Dense(4, activation='softmax') \n",
        "  ])\n",
        "\n",
        "\n",
        "# Compile Model\n",
        "DIY_model_2.compile(loss='categorical_crossentropy',optimizer=tf.keras.optimizers.Adam(), metrics=['accuracy']) \n",
        "\n",
        "# Model Summary\n",
        "DIY_model_2.summary()"
      ]
    },
    {
      "cell_type": "code",
      "execution_count": 15,
      "metadata": {
        "colab": {
          "base_uri": "https://localhost:8080/"
        },
        "id": "6beuexC9U2TJ",
        "outputId": "bb6ce720-8666-4b98-81ea-a4a3f498e64e",
        "tags": []
      },
      "outputs": [
        {
          "name": "stdout",
          "output_type": "stream",
          "text": [
            "Epoch 1/100\n",
            "367/367 [==============================] - ETA: 0s - loss: 0.8929 - accuracy: 0.6364\n",
            "Epoch 1: val_accuracy improved from -inf to 0.80110, saving model to Grape_DIY_model2_Based_Augmented\n"
          ]
        },
        {
          "name": "stderr",
          "output_type": "stream",
          "text": [
            "WARNING:absl:Found untraced functions such as _jit_compiled_convolution_op, _jit_compiled_convolution_op, _jit_compiled_convolution_op while saving (showing 3 of 3). These functions will not be directly callable after loading.\n"
          ]
        },
        {
          "name": "stdout",
          "output_type": "stream",
          "text": [
            "INFO:tensorflow:Assets written to: Grape_DIY_model2_Based_Augmented\\assets\n"
          ]
        },
        {
          "name": "stderr",
          "output_type": "stream",
          "text": [
            "INFO:tensorflow:Assets written to: Grape_DIY_model2_Based_Augmented\\assets\n"
          ]
        },
        {
          "name": "stdout",
          "output_type": "stream",
          "text": [
            "367/367 [==============================] - 56s 150ms/step - loss: 0.8929 - accuracy: 0.6364 - val_loss: 0.5334 - val_accuracy: 0.8011 - lr: 0.0010\n",
            "Epoch 2/100\n",
            "367/367 [==============================] - ETA: 0s - loss: 0.4814 - accuracy: 0.8278\n",
            "Epoch 2: val_accuracy did not improve from 0.80110\n",
            "367/367 [==============================] - 52s 141ms/step - loss: 0.4814 - accuracy: 0.8278 - val_loss: 0.7566 - val_accuracy: 0.6964 - lr: 0.0010\n",
            "Epoch 3/100\n",
            "367/367 [==============================] - ETA: 0s - loss: 0.2943 - accuracy: 0.8871\n",
            "Epoch 3: val_accuracy improved from 0.80110 to 0.90740, saving model to Grape_DIY_model2_Based_Augmented\n"
          ]
        },
        {
          "name": "stderr",
          "output_type": "stream",
          "text": [
            "WARNING:absl:Found untraced functions such as _jit_compiled_convolution_op, _jit_compiled_convolution_op, _jit_compiled_convolution_op while saving (showing 3 of 3). These functions will not be directly callable after loading.\n"
          ]
        },
        {
          "name": "stdout",
          "output_type": "stream",
          "text": [
            "INFO:tensorflow:Assets written to: Grape_DIY_model2_Based_Augmented\\assets\n"
          ]
        },
        {
          "name": "stderr",
          "output_type": "stream",
          "text": [
            "INFO:tensorflow:Assets written to: Grape_DIY_model2_Based_Augmented\\assets\n"
          ]
        },
        {
          "name": "stdout",
          "output_type": "stream",
          "text": [
            "367/367 [==============================] - 57s 156ms/step - loss: 0.2943 - accuracy: 0.8871 - val_loss: 0.2746 - val_accuracy: 0.9074 - lr: 0.0010\n",
            "Epoch 4/100\n",
            "367/367 [==============================] - ETA: 0s - loss: 0.2209 - accuracy: 0.9211\n",
            "Epoch 4: val_accuracy improved from 0.90740 to 0.91178, saving model to Grape_DIY_model2_Based_Augmented\n"
          ]
        },
        {
          "name": "stderr",
          "output_type": "stream",
          "text": [
            "WARNING:absl:Found untraced functions such as _jit_compiled_convolution_op, _jit_compiled_convolution_op, _jit_compiled_convolution_op while saving (showing 3 of 3). These functions will not be directly callable after loading.\n"
          ]
        },
        {
          "name": "stdout",
          "output_type": "stream",
          "text": [
            "INFO:tensorflow:Assets written to: Grape_DIY_model2_Based_Augmented\\assets\n"
          ]
        },
        {
          "name": "stderr",
          "output_type": "stream",
          "text": [
            "INFO:tensorflow:Assets written to: Grape_DIY_model2_Based_Augmented\\assets\n"
          ]
        },
        {
          "name": "stdout",
          "output_type": "stream",
          "text": [
            "367/367 [==============================] - 58s 157ms/step - loss: 0.2209 - accuracy: 0.9211 - val_loss: 0.2220 - val_accuracy: 0.9118 - lr: 0.0010\n",
            "Epoch 5/100\n",
            "367/367 [==============================] - ETA: 0s - loss: 0.1854 - accuracy: 0.9331\n",
            "Epoch 5: val_accuracy improved from 0.91178 to 0.95507, saving model to Grape_DIY_model2_Based_Augmented\n"
          ]
        },
        {
          "name": "stderr",
          "output_type": "stream",
          "text": [
            "WARNING:absl:Found untraced functions such as _jit_compiled_convolution_op, _jit_compiled_convolution_op, _jit_compiled_convolution_op while saving (showing 3 of 3). These functions will not be directly callable after loading.\n"
          ]
        },
        {
          "name": "stdout",
          "output_type": "stream",
          "text": [
            "INFO:tensorflow:Assets written to: Grape_DIY_model2_Based_Augmented\\assets\n"
          ]
        },
        {
          "name": "stderr",
          "output_type": "stream",
          "text": [
            "INFO:tensorflow:Assets written to: Grape_DIY_model2_Based_Augmented\\assets\n"
          ]
        },
        {
          "name": "stdout",
          "output_type": "stream",
          "text": [
            "367/367 [==============================] - 65s 176ms/step - loss: 0.1854 - accuracy: 0.9331 - val_loss: 0.1313 - val_accuracy: 0.9551 - lr: 0.0010\n",
            "Epoch 6/100\n",
            "367/367 [==============================] - ETA: 0s - loss: 0.1803 - accuracy: 0.9406\n",
            "Epoch 6: val_accuracy did not improve from 0.95507\n",
            "367/367 [==============================] - 61s 166ms/step - loss: 0.1803 - accuracy: 0.9406 - val_loss: 0.1495 - val_accuracy: 0.9447 - lr: 0.0010\n",
            "Epoch 7/100\n",
            "367/367 [==============================] - ETA: 0s - loss: 0.1387 - accuracy: 0.9526\n",
            "Epoch 7: val_accuracy did not improve from 0.95507\n",
            "367/367 [==============================] - 57s 154ms/step - loss: 0.1387 - accuracy: 0.9526 - val_loss: 0.2187 - val_accuracy: 0.9244 - lr: 0.0010\n",
            "Epoch 8/100\n",
            "367/367 [==============================] - ETA: 0s - loss: 0.1255 - accuracy: 0.9572\n",
            "Epoch 8: val_accuracy improved from 0.95507 to 0.97260, saving model to Grape_DIY_model2_Based_Augmented\n"
          ]
        },
        {
          "name": "stderr",
          "output_type": "stream",
          "text": [
            "WARNING:absl:Found untraced functions such as _jit_compiled_convolution_op, _jit_compiled_convolution_op, _jit_compiled_convolution_op while saving (showing 3 of 3). These functions will not be directly callable after loading.\n"
          ]
        },
        {
          "name": "stdout",
          "output_type": "stream",
          "text": [
            "INFO:tensorflow:Assets written to: Grape_DIY_model2_Based_Augmented\\assets\n"
          ]
        },
        {
          "name": "stderr",
          "output_type": "stream",
          "text": [
            "INFO:tensorflow:Assets written to: Grape_DIY_model2_Based_Augmented\\assets\n"
          ]
        },
        {
          "name": "stdout",
          "output_type": "stream",
          "text": [
            "367/367 [==============================] - 63s 171ms/step - loss: 0.1255 - accuracy: 0.9572 - val_loss: 0.0898 - val_accuracy: 0.9726 - lr: 0.0010\n",
            "Epoch 9/100\n",
            "367/367 [==============================] - ETA: 0s - loss: 0.1127 - accuracy: 0.9633\n",
            "Epoch 9: val_accuracy improved from 0.97260 to 0.97534, saving model to Grape_DIY_model2_Based_Augmented\n"
          ]
        },
        {
          "name": "stderr",
          "output_type": "stream",
          "text": [
            "WARNING:absl:Found untraced functions such as _jit_compiled_convolution_op, _jit_compiled_convolution_op, _jit_compiled_convolution_op while saving (showing 3 of 3). These functions will not be directly callable after loading.\n"
          ]
        },
        {
          "name": "stdout",
          "output_type": "stream",
          "text": [
            "INFO:tensorflow:Assets written to: Grape_DIY_model2_Based_Augmented\\assets\n"
          ]
        },
        {
          "name": "stderr",
          "output_type": "stream",
          "text": [
            "INFO:tensorflow:Assets written to: Grape_DIY_model2_Based_Augmented\\assets\n"
          ]
        },
        {
          "name": "stdout",
          "output_type": "stream",
          "text": [
            "367/367 [==============================] - 69s 188ms/step - loss: 0.1127 - accuracy: 0.9633 - val_loss: 0.0959 - val_accuracy: 0.9753 - lr: 0.0010\n",
            "Epoch 10/100\n",
            "367/367 [==============================] - ETA: 0s - loss: 0.1119 - accuracy: 0.9637\n",
            "Epoch 10: val_accuracy improved from 0.97534 to 0.98740, saving model to Grape_DIY_model2_Based_Augmented\n"
          ]
        },
        {
          "name": "stderr",
          "output_type": "stream",
          "text": [
            "WARNING:absl:Found untraced functions such as _jit_compiled_convolution_op, _jit_compiled_convolution_op, _jit_compiled_convolution_op while saving (showing 3 of 3). These functions will not be directly callable after loading.\n"
          ]
        },
        {
          "name": "stdout",
          "output_type": "stream",
          "text": [
            "INFO:tensorflow:Assets written to: Grape_DIY_model2_Based_Augmented\\assets\n"
          ]
        },
        {
          "name": "stderr",
          "output_type": "stream",
          "text": [
            "INFO:tensorflow:Assets written to: Grape_DIY_model2_Based_Augmented\\assets\n"
          ]
        },
        {
          "name": "stdout",
          "output_type": "stream",
          "text": [
            "367/367 [==============================] - 73s 200ms/step - loss: 0.1119 - accuracy: 0.9637 - val_loss: 0.0502 - val_accuracy: 0.9874 - lr: 0.0010\n",
            "Epoch 11/100\n",
            "367/367 [==============================] - ETA: 0s - loss: 0.1007 - accuracy: 0.9662\n",
            "Epoch 11: val_accuracy did not improve from 0.98740\n",
            "367/367 [==============================] - 57s 156ms/step - loss: 0.1007 - accuracy: 0.9662 - val_loss: 0.1494 - val_accuracy: 0.9545 - lr: 0.0010\n",
            "Epoch 12/100\n",
            "367/367 [==============================] - ETA: 0s - loss: 0.1121 - accuracy: 0.9674\n",
            "Epoch 12: val_accuracy did not improve from 0.98740\n",
            "367/367 [==============================] - 56s 154ms/step - loss: 0.1121 - accuracy: 0.9674 - val_loss: 0.3207 - val_accuracy: 0.8910 - lr: 0.0010\n",
            "Epoch 13/100\n",
            "367/367 [==============================] - ETA: 0s - loss: 0.0924 - accuracy: 0.9711\n",
            "Epoch 13: val_accuracy did not improve from 0.98740\n",
            "367/367 [==============================] - 57s 156ms/step - loss: 0.0924 - accuracy: 0.9711 - val_loss: 0.0816 - val_accuracy: 0.9770 - lr: 0.0010\n",
            "Epoch 14/100\n",
            "367/367 [==============================] - ETA: 0s - loss: 0.0988 - accuracy: 0.9681\n",
            "Epoch 14: val_accuracy did not improve from 0.98740\n",
            "367/367 [==============================] - 56s 154ms/step - loss: 0.0988 - accuracy: 0.9681 - val_loss: 0.0813 - val_accuracy: 0.9770 - lr: 0.0010\n",
            "Epoch 15/100\n",
            "367/367 [==============================] - ETA: 0s - loss: 0.0744 - accuracy: 0.9772\n",
            "Epoch 15: val_accuracy did not improve from 0.98740\n",
            "\n",
            "Epoch 15: ReduceLROnPlateau reducing learning rate to 0.00010000000474974513.\n",
            "367/367 [==============================] - 57s 154ms/step - loss: 0.0744 - accuracy: 0.9772 - val_loss: 0.0659 - val_accuracy: 0.9781 - lr: 0.0010\n",
            "Epoch 16/100\n",
            "367/367 [==============================] - ETA: 0s - loss: 0.0376 - accuracy: 0.9881\n",
            "Epoch 16: val_accuracy did not improve from 0.98740\n",
            "367/367 [==============================] - 57s 154ms/step - loss: 0.0376 - accuracy: 0.9881 - val_loss: 0.0771 - val_accuracy: 0.9814 - lr: 1.0000e-04\n",
            "Epoch 17/100\n",
            "367/367 [==============================] - ETA: 0s - loss: 0.0343 - accuracy: 0.9890\n",
            "Epoch 17: val_accuracy did not improve from 0.98740\n",
            "367/367 [==============================] - 62s 169ms/step - loss: 0.0343 - accuracy: 0.9890 - val_loss: 0.0480 - val_accuracy: 0.9847 - lr: 1.0000e-04\n",
            "Epoch 18/100\n",
            "367/367 [==============================] - ETA: 0s - loss: 0.0251 - accuracy: 0.9915\n",
            "Epoch 18: val_accuracy did not improve from 0.98740\n",
            "367/367 [==============================] - 63s 171ms/step - loss: 0.0251 - accuracy: 0.9915 - val_loss: 0.0576 - val_accuracy: 0.9825 - lr: 1.0000e-04\n",
            "Epoch 19/100\n",
            "367/367 [==============================] - ETA: 0s - loss: 0.0252 - accuracy: 0.9913\n",
            "Epoch 19: val_accuracy did not improve from 0.98740\n",
            "367/367 [==============================] - 55s 150ms/step - loss: 0.0252 - accuracy: 0.9913 - val_loss: 0.1445 - val_accuracy: 0.9627 - lr: 1.0000e-04\n",
            "Epoch 20/100\n",
            "367/367 [==============================] - ETA: 0s - loss: 0.0338 - accuracy: 0.9883\n",
            "Epoch 20: val_accuracy did not improve from 0.98740\n",
            "367/367 [==============================] - 57s 154ms/step - loss: 0.0338 - accuracy: 0.9883 - val_loss: 0.0852 - val_accuracy: 0.9715 - lr: 1.0000e-04\n",
            "Epoch 21/100\n",
            "367/367 [==============================] - ETA: 0s - loss: 0.0257 - accuracy: 0.9914\n",
            "Epoch 21: val_accuracy did not improve from 0.98740\n",
            "367/367 [==============================] - 57s 155ms/step - loss: 0.0257 - accuracy: 0.9914 - val_loss: 0.0496 - val_accuracy: 0.9874 - lr: 1.0000e-04\n",
            "Epoch 22/100\n",
            "367/367 [==============================] - ETA: 0s - loss: 0.0239 - accuracy: 0.9915\n",
            "Epoch 22: val_accuracy did not improve from 0.98740\n",
            "\n",
            "Epoch 22: ReduceLROnPlateau reducing learning rate to 1.0000000474974514e-05.\n",
            "367/367 [==============================] - 55s 150ms/step - loss: 0.0239 - accuracy: 0.9915 - val_loss: 0.0645 - val_accuracy: 0.9819 - lr: 1.0000e-04\n",
            "Epoch 23/100\n",
            "367/367 [==============================] - ETA: 0s - loss: 0.0183 - accuracy: 0.9932\n",
            "Epoch 23: val_accuracy did not improve from 0.98740\n",
            "367/367 [==============================] - 55s 150ms/step - loss: 0.0183 - accuracy: 0.9932 - val_loss: 0.0605 - val_accuracy: 0.9830 - lr: 1.0000e-05\n",
            "Epoch 24/100\n",
            "367/367 [==============================] - ETA: 0s - loss: 0.0188 - accuracy: 0.9947\n",
            "Epoch 24: val_accuracy did not improve from 0.98740\n",
            "367/367 [==============================] - 56s 151ms/step - loss: 0.0188 - accuracy: 0.9947 - val_loss: 0.0601 - val_accuracy: 0.9830 - lr: 1.0000e-05\n",
            "Epoch 25/100\n",
            "367/367 [==============================] - ETA: 0s - loss: 0.0169 - accuracy: 0.9948\n",
            "Epoch 25: val_accuracy did not improve from 0.98740\n",
            "367/367 [==============================] - 56s 153ms/step - loss: 0.0169 - accuracy: 0.9948 - val_loss: 0.0512 - val_accuracy: 0.9847 - lr: 1.0000e-05\n",
            "Epoch 26/100\n",
            "367/367 [==============================] - ETA: 0s - loss: 0.0183 - accuracy: 0.9940\n",
            "Epoch 26: val_accuracy did not improve from 0.98740\n",
            "367/367 [==============================] - 55s 150ms/step - loss: 0.0183 - accuracy: 0.9940 - val_loss: 0.0567 - val_accuracy: 0.9841 - lr: 1.0000e-05\n",
            "Epoch 27/100\n",
            "367/367 [==============================] - ETA: 0s - loss: 0.0174 - accuracy: 0.9943\n",
            "Epoch 27: val_accuracy did not improve from 0.98740\n",
            "\n",
            "Epoch 27: ReduceLROnPlateau reducing learning rate to 1.0000000656873453e-06.\n",
            "367/367 [==============================] - 55s 150ms/step - loss: 0.0174 - accuracy: 0.9943 - val_loss: 0.0497 - val_accuracy: 0.9863 - lr: 1.0000e-05\n",
            "Epoch 28/100\n",
            "367/367 [==============================] - ETA: 0s - loss: 0.0192 - accuracy: 0.9926\n",
            "Epoch 28: val_accuracy did not improve from 0.98740\n",
            "367/367 [==============================] - 55s 151ms/step - loss: 0.0192 - accuracy: 0.9926 - val_loss: 0.0507 - val_accuracy: 0.9858 - lr: 1.0000e-06\n",
            "Epoch 29/100\n",
            "367/367 [==============================] - ETA: 0s - loss: 0.0187 - accuracy: 0.9930\n",
            "Epoch 29: val_accuracy did not improve from 0.98740\n",
            "367/367 [==============================] - 56s 152ms/step - loss: 0.0187 - accuracy: 0.9930 - val_loss: 0.0521 - val_accuracy: 0.9852 - lr: 1.0000e-06\n",
            "Epoch 30/100\n",
            "367/367 [==============================] - ETA: 0s - loss: 0.0205 - accuracy: 0.9936\n",
            "Epoch 30: val_accuracy did not improve from 0.98740\n",
            "Restoring model weights from the end of the best epoch: 10.\n",
            "367/367 [==============================] - 56s 152ms/step - loss: 0.0205 - accuracy: 0.9936 - val_loss: 0.0543 - val_accuracy: 0.9852 - lr: 1.0000e-06\n",
            "Epoch 30: early stopping\n"
          ]
        }
      ],
      "source": [
        "# Define the number of epochs\n",
        "num_epochs = 100\n",
        "\n",
        "# Train the model\n",
        "history_DIY_model_2 = DIY_model_2.fit(train_generator, epochs=num_epochs, validation_data=validation_generator, callbacks=callbacks)"
      ]
    },
    {
      "cell_type": "code",
      "execution_count": 16,
      "metadata": {
        "colab": {
          "base_uri": "https://localhost:8080/",
          "height": 904
        },
        "id": "3f1nmwUhU2TK",
        "outputId": "23817e48-0c33-4b4e-92fc-0b2d6eaf9ae3",
        "tags": []
      },
      "outputs": [
        {
          "data": {
            "text/plain": [
              "<matplotlib.legend.Legend at 0x1f0e5789ff0>"
            ]
          },
          "execution_count": 16,
          "metadata": {},
          "output_type": "execute_result"
        },
        {
          "data": {
            "image/png": "[encoded data removed]",
            "text/plain": [
              "<Figure size 640x480 with 1 Axes>"
            ]
          },
          "metadata": {},
          "output_type": "display_data"
        },
        {
          "data": {
            "image/png": "[encoded data removed]",
            "text/plain": [
              "<Figure size 640x480 with 1 Axes>"
            ]
          },
          "metadata": {},
          "output_type": "display_data"
        }
      ],
      "source": [
        "#-----------------------------------------------------------\n",
        "# Retrieve a list of list results on training and test data\n",
        "# sets for each training epoch\n",
        "#-----------------------------------------------------------\n",
        "acc      = history_DIY_model_2.history['accuracy' ]\n",
        "val_acc  = history_DIY_model_2.history['val_accuracy' ]\n",
        "loss     = history_DIY_model_2.history['loss' ]\n",
        "val_loss = history_DIY_model_2.history['val_loss' ]\n",
        "\n",
        "epochs   = range(len(acc)) # Get number of epochs\n",
        "\n",
        "#------------------------------------------------\n",
        "# Plot training and validation accuracy per epoch\n",
        "#------------------------------------------------\n",
        "plt.plot  (epochs, acc )\n",
        "plt.plot  (epochs, val_acc )\n",
        "plt.title ('Training and validation accuracy DIY Model 2')\n",
        "plt.legend(['train', 'val'], loc='upper left')\n",
        "plt.figure()\n",
        "\n",
        "#------------------------------------------------\n",
        "# Plot training and validation loss per epoch\n",
        "#------------------------------------------------\n",
        "plt.plot  (epochs, loss)\n",
        "plt.plot  (epochs, val_loss)\n",
        "plt.title ('Training and validation loss DIY Model 2')\n",
        "plt.legend(['train', 'val'], loc='upper left')"
      ]
    }
  ],
  "metadata": {
    "accelerator": "GPU",
    "colab": {
      "gpuType": "T4",
      "provenance": []
    },
    "gpuClass": "standard",
    "kernelspec": {
      "display_name": "Python 3 (ipykernel)",
      "language": "python",
      "name": "python3"
    },
    "language_info": {
      "codemirror_mode": {
        "name": "ipython",
        "version": 3
      },
      "file_extension": ".py",
      "mimetype": "text/x-python",
      "name": "python",
      "nbconvert_exporter": "python",
      "pygments_lexer": "ipython3",
      "version": "3.10.0"
    }
  },
  "nbformat": 4,
  "nbformat_minor": 0
}
