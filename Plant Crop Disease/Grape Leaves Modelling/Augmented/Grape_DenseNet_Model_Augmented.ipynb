{
 "cells": [
  {
   "attachments": {},
   "cell_type": "markdown",
   "metadata": {
    "id": "hO3kEcUPU2S3"
   },
   "source": [
    "# Library"
   ]
  },
  {
   "cell_type": "code",
   "execution_count": 1,
   "metadata": {
    "colab": {
     "base_uri": "https://localhost:8080/"
    },
    "id": "kczkUjsAU2S8",
    "outputId": "2d863468-716c-4d25-b7be-63eb7f630eb2",
    "tags": []
   },
   "outputs": [
    {
     "name": "stdout",
     "output_type": "stream",
     "text": [
      "Requirement already satisfied: matplotlib in c:\\users\\hasan\\anaconda3\\envs\\tensorflow_gpu_zein\\lib\\site-packages (3.6.3)\n",
      "Requirement already satisfied: python-dateutil>=2.7 in c:\\users\\hasan\\anaconda3\\envs\\tensorflow_gpu_zein\\lib\\site-packages (from matplotlib) (2.8.2)\n",
      "Requirement already satisfied: numpy>=1.19 in c:\\users\\hasan\\anaconda3\\envs\\tensorflow_gpu_zein\\lib\\site-packages (from matplotlib) (1.23.5)\n",
      "Requirement already satisfied: fonttools>=4.22.0 in c:\\users\\hasan\\anaconda3\\envs\\tensorflow_gpu_zein\\lib\\site-packages (from matplotlib) (4.39.2)\n",
      "Requirement already satisfied: contourpy>=1.0.1 in c:\\users\\hasan\\anaconda3\\envs\\tensorflow_gpu_zein\\lib\\site-packages (from matplotlib) (1.0.7)\n",
      "Requirement already satisfied: cycler>=0.10 in c:\\users\\hasan\\anaconda3\\envs\\tensorflow_gpu_zein\\lib\\site-packages (from matplotlib) (0.11.0)\n",
      "Requirement already satisfied: pillow>=6.2.0 in c:\\users\\hasan\\anaconda3\\envs\\tensorflow_gpu_zein\\lib\\site-packages (from matplotlib) (9.4.0)\n",
      "Requirement already satisfied: pyparsing>=2.2.1 in c:\\users\\hasan\\anaconda3\\envs\\tensorflow_gpu_zein\\lib\\site-packages (from matplotlib) (3.0.9)\n",
      "Requirement already satisfied: kiwisolver>=1.0.1 in c:\\users\\hasan\\anaconda3\\envs\\tensorflow_gpu_zein\\lib\\site-packages (from matplotlib) (1.4.4)\n",
      "Requirement already satisfied: packaging>=20.0 in c:\\users\\hasan\\anaconda3\\envs\\tensorflow_gpu_zein\\lib\\site-packages (from matplotlib) (23.1)\n",
      "Requirement already satisfied: six>=1.5 in c:\\users\\hasan\\anaconda3\\envs\\tensorflow_gpu_zein\\lib\\site-packages (from python-dateutil>=2.7->matplotlib) (1.16.0)\n",
      "Note: you may need to restart the kernel to use updated packages.\n"
     ]
    },
    {
     "name": "stderr",
     "output_type": "stream",
     "text": [
      "WARNING: Ignoring invalid distribution -rotobuf (c:\\users\\hasan\\anaconda3\\envs\\tensorflow_gpu_zein\\lib\\site-packages)\n",
      "WARNING: Ignoring invalid distribution -rotobuf (c:\\users\\hasan\\anaconda3\\envs\\tensorflow_gpu_zein\\lib\\site-packages)\n",
      "WARNING: Ignoring invalid distribution -rotobuf (c:\\users\\hasan\\anaconda3\\envs\\tensorflow_gpu_zein\\lib\\site-packages)\n",
      "WARNING: Ignoring invalid distribution -rotobuf (c:\\users\\hasan\\anaconda3\\envs\\tensorflow_gpu_zein\\lib\\site-packages)\n",
      "WARNING: Ignoring invalid distribution -rotobuf (c:\\users\\hasan\\anaconda3\\envs\\tensorflow_gpu_zein\\lib\\site-packages)\n",
      "WARNING: Ignoring invalid distribution -rotobuf (c:\\users\\hasan\\anaconda3\\envs\\tensorflow_gpu_zein\\lib\\site-packages)\n"
     ]
    }
   ],
   "source": [
    "pip install matplotlib"
   ]
  },
  {
   "cell_type": "code",
   "execution_count": 2,
   "metadata": {
    "colab": {
     "base_uri": "https://localhost:8080/"
    },
    "id": "oEW3Nbu7U2S_",
    "outputId": "737914b9-517e-47fe-f485-b1b241b9f8c1",
    "tags": []
   },
   "outputs": [
    {
     "name": "stdout",
     "output_type": "stream",
     "text": [
      "Requirement already satisfied: opendatasets in c:\\users\\hasan\\anaconda3\\envs\\tensorflow_gpu_zein\\lib\\site-packages (0.1.22)\n",
      "Requirement already satisfied: click in c:\\users\\hasan\\anaconda3\\envs\\tensorflow_gpu_zein\\lib\\site-packages (from opendatasets) (8.1.3)\n",
      "Requirement already satisfied: tqdm in c:\\users\\hasan\\anaconda3\\envs\\tensorflow_gpu_zein\\lib\\site-packages (from opendatasets) (4.64.1)\n",
      "Requirement already satisfied: kaggle in c:\\users\\hasan\\anaconda3\\envs\\tensorflow_gpu_zein\\lib\\site-packages (from opendatasets) (1.5.13)\n",
      "Requirement already satisfied: colorama in c:\\users\\hasan\\anaconda3\\envs\\tensorflow_gpu_zein\\lib\\site-packages (from click->opendatasets) (0.4.6)\n",
      "Requirement already satisfied: python-dateutil in c:\\users\\hasan\\anaconda3\\envs\\tensorflow_gpu_zein\\lib\\site-packages (from kaggle->opendatasets) (2.8.2)\n",
      "Requirement already satisfied: python-slugify in c:\\users\\hasan\\anaconda3\\envs\\tensorflow_gpu_zein\\lib\\site-packages (from kaggle->opendatasets) (8.0.1)\n",
      "Requirement already satisfied: requests in c:\\users\\hasan\\anaconda3\\envs\\tensorflow_gpu_zein\\lib\\site-packages (from kaggle->opendatasets) (2.28.2)\n",
      "Requirement already satisfied: six>=1.10 in c:\\users\\hasan\\anaconda3\\envs\\tensorflow_gpu_zein\\lib\\site-packages (from kaggle->opendatasets) (1.16.0)\n",
      "Requirement already satisfied: urllib3 in c:\\users\\hasan\\anaconda3\\envs\\tensorflow_gpu_zein\\lib\\site-packages (from kaggle->opendatasets) (1.26.15)\n",
      "Requirement already satisfied: certifi in c:\\users\\hasan\\anaconda3\\envs\\tensorflow_gpu_zein\\lib\\site-packages (from kaggle->opendatasets) (2022.12.7)\n",
      "Requirement already satisfied: text-unidecode>=1.3 in c:\\users\\hasan\\anaconda3\\envs\\tensorflow_gpu_zein\\lib\\site-packages (from python-slugify->kaggle->opendatasets) (1.3)\n",
      "Requirement already satisfied: idna<4,>=2.5 in c:\\users\\hasan\\anaconda3\\envs\\tensorflow_gpu_zein\\lib\\site-packages (from requests->kaggle->opendatasets) (3.4)\n",
      "Requirement already satisfied: charset-normalizer<4,>=2 in c:\\users\\hasan\\anaconda3\\envs\\tensorflow_gpu_zein\\lib\\site-packages (from requests->kaggle->opendatasets) (3.1.0)\n",
      "Note: you may need to restart the kernel to use updated packages.\n"
     ]
    },
    {
     "name": "stderr",
     "output_type": "stream",
     "text": [
      "WARNING: Ignoring invalid distribution -rotobuf (c:\\users\\hasan\\anaconda3\\envs\\tensorflow_gpu_zein\\lib\\site-packages)\n",
      "WARNING: Ignoring invalid distribution -rotobuf (c:\\users\\hasan\\anaconda3\\envs\\tensorflow_gpu_zein\\lib\\site-packages)\n",
      "WARNING: Ignoring invalid distribution -rotobuf (c:\\users\\hasan\\anaconda3\\envs\\tensorflow_gpu_zein\\lib\\site-packages)\n",
      "WARNING: Ignoring invalid distribution -rotobuf (c:\\users\\hasan\\anaconda3\\envs\\tensorflow_gpu_zein\\lib\\site-packages)\n",
      "WARNING: Ignoring invalid distribution -rotobuf (c:\\users\\hasan\\anaconda3\\envs\\tensorflow_gpu_zein\\lib\\site-packages)\n",
      "WARNING: Ignoring invalid distribution -rotobuf (c:\\users\\hasan\\anaconda3\\envs\\tensorflow_gpu_zein\\lib\\site-packages)\n"
     ]
    }
   ],
   "source": [
    "pip install opendatasets"
   ]
  },
  {
   "cell_type": "code",
   "execution_count": 3,
   "metadata": {
    "id": "SIHHdOB4U2TA",
    "tags": []
   },
   "outputs": [],
   "source": [
    "# Library to dataset\n",
    "import opendatasets as od\n",
    "import os\n",
    "import zipfile\n",
    "import numpy as np\n",
    "\n",
    "# Surpress Warnings\n",
    "import warnings\n",
    "warnings.filterwarnings('ignore')\n",
    "os.environ['TF_CPP_MIN_LOG_LEVEL'] = '3' \n",
    "# library visualization\n",
    "import matplotlib.pyplot as plt\n",
    "\n",
    "# Library Tensorflow\n",
    "import tensorflow as tf\n",
    "from tensorflow import keras\n",
    "from tensorflow.keras.preprocessing.image import ImageDataGenerator\n",
    "from tensorflow.keras.callbacks import ModelCheckpoint, EarlyStopping, ReduceLROnPlateau\n",
    "from tensorflow.keras.applications.densenet import DenseNet121\n",
    "# Others\n",
    "import shutil\n",
    "import random"
   ]
  },
  {
   "attachments": {},
   "cell_type": "markdown",
   "metadata": {
    "id": "Dy8YkYoaU2TB"
   },
   "source": [
    "# Load dataset"
   ]
  },
  {
   "cell_type": "code",
   "execution_count": 4,
   "metadata": {
    "colab": {
     "base_uri": "https://localhost:8080/"
    },
    "id": "8ZAjREJ0U2TC",
    "outputId": "69ce0224-72a0-4ba9-8275-ce116d4a0afb",
    "tags": []
   },
   "outputs": [
    {
     "name": "stdout",
     "output_type": "stream",
     "text": [
      "==========================Training Data====================\n",
      "Found 7335 files belonging to 4 classes.\n",
      "==========================Validation Data====================\n",
      "Found 1825 files belonging to 4 classes.\n"
     ]
    }
   ],
   "source": [
    "# Load dataset\n",
    "print(\"==========================Training Data====================\")\n",
    "train_data = tf.keras.preprocessing.image_dataset_from_directory(\n",
    "    \"Dataset/grape/train\",\n",
    "    label_mode=\"categorical\",\n",
    "    class_names=['Grape Esca (Black_Measles)','Grape Leaf blight (Isariopsis_Leaf_Spot)','grape leaf Healthy','grape leaf black rot'],\n",
    "    color_mode=\"rgb\",\n",
    "    batch_size=1,\n",
    "    image_size=(256, 256),\n",
    "    shuffle=True,\n",
    "    seed=123\n",
    ")\n",
    "print(\"==========================Validation Data====================\")\n",
    "val_data = tf.keras.preprocessing.image_dataset_from_directory(\n",
    "    \"Dataset/grape/valid\",\n",
    "    label_mode=\"categorical\",\n",
    "    class_names=['Grape Esca (Black_Measles)','Grape Leaf blight (Isariopsis_Leaf_Spot)','grape leaf Healthy','grape leaf black rot'],\n",
    "    color_mode=\"rgb\",\n",
    "    batch_size=1,\n",
    "    image_size=(256, 256),\n",
    "    shuffle=True,\n",
    "    seed=123\n",
    ")"
   ]
  },
  {
   "cell_type": "code",
   "execution_count": 5,
   "metadata": {
    "colab": {
     "base_uri": "https://localhost:8080/"
    },
    "id": "vEPzd1egU2TD",
    "outputId": "58d8e1e0-03ce-4a64-b9d8-4f962229abff",
    "tags": []
   },
   "outputs": [
    {
     "name": "stdout",
     "output_type": "stream",
     "text": [
      "Found 7335 images belonging to 4 classes.\n",
      "Found 1825 images belonging to 4 classes.\n"
     ]
    }
   ],
   "source": [
    "# All images will be rescaled by 1./255.and augmented\n",
    "train_datagen = ImageDataGenerator(rescale = 1.0/256.,\n",
    "                                   rotation_range=40,\n",
    "                                   width_shift_range=0.2,\n",
    "                                   height_shift_range=0.2,\n",
    "                                   shear_range=0.2,\n",
    "                                   zoom_range=0.2,\n",
    "                                   horizontal_flip=True,\n",
    "                                   fill_mode='nearest')\n",
    "\n",
    "test_datagen  = ImageDataGenerator(rescale = 1.0/256.)\n",
    "\n",
    "# --------------------\n",
    "# Flow training images in batches of 20 using train_datagen generator\n",
    "# --------------------\n",
    "train_generator = train_datagen.flow_from_directory(\"Dataset/grape/train\",\n",
    "                                                    batch_size=20,\n",
    "                                                    class_mode='categorical',\n",
    "                                                    target_size=(224, 224))     \n",
    "# --------------------\n",
    "# Flow validation images in batches of 20 using test_datagen generator\n",
    "# --------------------\n",
    "validation_generator =  test_datagen.flow_from_directory(\"Dataset/grape/valid\",\n",
    "                                                         batch_size=20,\n",
    "                                                         class_mode  = 'categorical',\n",
    "                                                         target_size = (224, 224))"
   ]
  },
  {
   "attachments": {},
   "cell_type": "markdown",
   "metadata": {
    "id": "_3jaO5YgU2TE"
   },
   "source": [
    "# List Resource"
   ]
  },
  {
   "cell_type": "code",
   "execution_count": 6,
   "metadata": {
    "colab": {
     "base_uri": "https://localhost:8080/"
    },
    "id": "SGemCaxnU2TF",
    "outputId": "56154f0d-06c6-47e3-8606-d24b26bad3f3",
    "tags": []
   },
   "outputs": [
    {
     "name": "stdout",
     "output_type": "stream",
     "text": [
      "Tue May 30 20:37:30 2023       \n",
      "+---------------------------------------------------------------------------------------+\n",
      "| NVIDIA-SMI 532.03                 Driver Version: 532.03       CUDA Version: 12.1     |\n",
      "|-----------------------------------------+----------------------+----------------------+\n",
      "| GPU  Name                      TCC/WDDM | Bus-Id        Disp.A | Volatile Uncorr. ECC |\n",
      "| Fan  Temp  Perf            Pwr:Usage/Cap|         Memory-Usage | GPU-Util  Compute M. |\n",
      "|                                         |                      |               MIG M. |\n",
      "|=========================================+======================+======================|\n",
      "|   0  NVIDIA GeForce RTX 3060 L...  WDDM | 00000000:01:00.0  On |                  N/A |\n",
      "| N/A   59C    P0               30W /  N/A|   4804MiB /  6144MiB |      3%      Default |\n",
      "|                                         |                      |                  N/A |\n",
      "+-----------------------------------------+----------------------+----------------------+\n",
      "                                                                                         \n",
      "+---------------------------------------------------------------------------------------+\n",
      "| Processes:                                                                            |\n",
      "|  GPU   GI   CI        PID   Type   Process name                            GPU Memory |\n",
      "|        ID   ID                                                             Usage      |\n",
      "|=======================================================================================|\n",
      "|    0   N/A  N/A      1896    C+G   ...GeForce Experience\\NVIDIA Share.exe    N/A      |\n",
      "|    0   N/A  N/A      2920    C+G   ...1.0_x64__t4vj0pshhgkwm\\Telegram.exe    N/A      |\n",
      "|    0   N/A  N/A      6348    C+G   ...ekyb3d8bbwe\\PhoneExperienceHost.exe    N/A      |\n",
      "|    0   N/A  N/A      9296    C+G   ...1.0_x64__8wekyb3d8bbwe\\Video.UI.exe    N/A      |\n",
      "|    0   N/A  N/A     10188    C+G   C:\\WINDOWS\\explorer.exe                   N/A      |\n",
      "|    0   N/A  N/A     11728    C+G   ...Programs\\Microsoft VS Code\\Code.exe    N/A      |\n",
      "|    0   N/A  N/A     12012    C+G   ...nt.CBS_cw5n1h2txyewy\\SearchHost.exe    N/A      |\n",
      "|    0   N/A  N/A     14976    C+G   ...t.LockApp_cw5n1h2txyewy\\LockApp.exe    N/A      |\n",
      "|    0   N/A  N/A     15188    C+G   ...siveControlPanel\\SystemSettings.exe    N/A      |\n",
      "|    0   N/A  N/A     15568    C+G   ...oogle\\Chrome\\Application\\chrome.exe    N/A      |\n",
      "|    0   N/A  N/A     17344    C+G   ...on\\113.0.1774.57\\msedgewebview2.exe    N/A      |\n",
      "|    0   N/A  N/A     20112    C+G   ...7.0_x64__cv1g1gvanyjgm\\WhatsApp.exe    N/A      |\n",
      "|    0   N/A  N/A     20172    C+G   ...\\AMD\\CNext\\CNext\\RadeonSoftware.exe    N/A      |\n",
      "|    0   N/A  N/A     20384    C+G   ...les\\AMD\\CNext\\CNext\\AMDRSSrcExt.exe    N/A      |\n",
      "|    0   N/A  N/A     21668    C+G   ...5n1h2txyewy\\ShellExperienceHost.exe    N/A      |\n",
      "|    0   N/A  N/A     23236    C+G   ...les\\Microsoft OneDrive\\OneDrive.exe    N/A      |\n",
      "|    0   N/A  N/A     24104      C   ...envs\\tensorflow_gpu_zein\\python.exe    N/A      |\n",
      "|    0   N/A  N/A     24128    C+G   ...les\\Microsoft OneDrive\\OneDrive.exe    N/A      |\n",
      "+---------------------------------------------------------------------------------------+\n"
     ]
    }
   ],
   "source": [
    "# Check GPU\n",
    "!nvidia-smi"
   ]
  },
  {
   "cell_type": "code",
   "execution_count": 7,
   "metadata": {
    "colab": {
     "base_uri": "https://localhost:8080/"
    },
    "id": "FSapZ74PU2TF",
    "outputId": "19eff44b-e9b5-4235-d857-829cfdf9440a",
    "tags": []
   },
   "outputs": [
    {
     "data": {
      "text/plain": [
       "[PhysicalDevice(name='/physical_device:GPU:0', device_type='GPU')]"
      ]
     },
     "execution_count": 7,
     "metadata": {},
     "output_type": "execute_result"
    }
   ],
   "source": [
    "# Lis physical devices\n",
    "devices = tf.config.experimental.list_physical_devices(\"GPU\")\n",
    "devices"
   ]
  },
  {
   "cell_type": "code",
   "execution_count": 8,
   "metadata": {
    "id": "A8WtBtBaU2TG",
    "tags": []
   },
   "outputs": [
    {
     "name": "stdout",
     "output_type": "stream",
     "text": [
      "INFO:tensorflow:Using MirroredStrategy with devices ('/job:localhost/replica:0/task:0/device:GPU:0',)\n"
     ]
    }
   ],
   "source": [
    "# Define the GPU strategy\n",
    "mirrored_strategy = tf.distribute.MirroredStrategy(devices=[\"/gpu:0\"])"
   ]
  },
  {
   "attachments": {},
   "cell_type": "markdown",
   "metadata": {
    "id": "Vqr_uGTNU2TG"
   },
   "source": [
    "# Modelling Augmentation"
   ]
  },
  {
   "attachments": {},
   "cell_type": "markdown",
   "metadata": {
    "id": "w4Wzh6ZyU2TH"
   },
   "source": [
    "## DenseNet Model 1"
   ]
  },
  {
   "cell_type": "code",
   "execution_count": 9,
   "metadata": {
    "id": "uUqYGBfRU2TH",
    "tags": []
   },
   "outputs": [],
   "source": [
    "# Difine the callbacks\n",
    "# Save the best model\n",
    "checkpoint_callback = ModelCheckpoint(filepath=\"Grape_DenseNet_model1_Based_Augmented\", save_best_only=True, monitor=\"val_accuracy\", mode=\"max\", verbose=1)\n",
    "\n",
    "# Early stopping\n",
    "early_stopping_callback = EarlyStopping(monitor=\"val_accuracy\", mode=\"max\", patience=20, verbose=1, restore_best_weights=True)\n",
    "\n",
    "# Reduce learning rate\n",
    "reduce_lr_callback = ReduceLROnPlateau(monitor=\"val_loss\", factor=0.1, patience=5, verbose=1, mode=\"min\", min_delta=0.0001, cooldown=0, min_lr=0)\n",
    "\n",
    "# Callbacks list\n",
    "callbacks=[checkpoint_callback, early_stopping_callback, reduce_lr_callback]"
   ]
  },
  {
   "cell_type": "code",
   "execution_count": 10,
   "metadata": {
    "colab": {
     "base_uri": "https://localhost:8080/"
    },
    "id": "BQHFs3gSU2TI",
    "outputId": "373fba40-befb-458a-a24c-ed0a6e53ad37",
    "tags": []
   },
   "outputs": [
    {
     "name": "stdout",
     "output_type": "stream",
     "text": [
      "Model: \"sequential\"\n",
      "_________________________________________________________________\n",
      " Layer (type)                Output Shape              Param #   \n",
      "=================================================================\n",
      " densenet121 (Functional)    (None, 7, 7, 1024)        7037504   \n",
      "                                                                 \n",
      " global_max_pooling2d (Globa  (None, 1024)             0         \n",
      " lMaxPooling2D)                                                  \n",
      "                                                                 \n",
      " dropout (Dropout)           (None, 1024)              0         \n",
      "                                                                 \n",
      " dense (Dense)               (None, 256)               262400    \n",
      "                                                                 \n",
      " dense_1 (Dense)             (None, 4)                 1028      \n",
      "                                                                 \n",
      "=================================================================\n",
      "Total params: 7,300,932\n",
      "Trainable params: 7,217,284\n",
      "Non-trainable params: 83,648\n",
      "_________________________________________________________________\n"
     ]
    }
   ],
   "source": [
    "# Define DIY Model\n",
    "DenseNet_model = tf.keras.models.Sequential([\n",
    "    # DenseNet121 Layer\n",
    "    DenseNet121(include_top=False,weights='imagenet',input_shape=(224, 224, 3)),\n",
    "    # Global Max Pooling Layer\n",
    "    tf.keras.layers.GlobalMaxPooling2D(),\n",
    "    # Drop Out Layer\n",
    "    tf.keras.layers.Dropout(0.2),\n",
    "    # 256 neuron hidden layer\n",
    "    tf.keras.layers.Dense(256, activation='relu'),\n",
    "    # Output\n",
    "    tf.keras.layers.Dense(4, activation='softmax') \n",
    "  ])\n",
    "\n",
    "\n",
    "# Compile Model\n",
    "DenseNet_model.compile(loss='categorical_crossentropy',optimizer=tf.keras.optimizers.Adam(), metrics=['accuracy']) \n",
    "\n",
    "# Model Summary\n",
    "DenseNet_model.summary()"
   ]
  },
  {
   "cell_type": "code",
   "execution_count": 11,
   "metadata": {
    "colab": {
     "base_uri": "https://localhost:8080/"
    },
    "id": "6coN3TKhU2TI",
    "outputId": "651676a2-bd0a-4a60-b0e9-1ea59c6dcb27",
    "tags": []
   },
   "outputs": [
    {
     "name": "stdout",
     "output_type": "stream",
     "text": [
      "Epoch 1/100\n",
      "367/367 [==============================] - ETA: 0s - loss: 0.4621 - accuracy: 0.9110\n",
      "Epoch 1: val_accuracy improved from -inf to 0.91014, saving model to Grape_DenseNet_model1_Based_Augmented\n"
     ]
    },
    {
     "name": "stderr",
     "output_type": "stream",
     "text": [
      "WARNING:absl:Found untraced functions such as _jit_compiled_convolution_op, _jit_compiled_convolution_op, _jit_compiled_convolution_op, _jit_compiled_convolution_op, _jit_compiled_convolution_op while saving (showing 5 of 120). These functions will not be directly callable after loading.\n"
     ]
    },
    {
     "name": "stdout",
     "output_type": "stream",
     "text": [
      "INFO:tensorflow:Assets written to: Grape_DenseNet_model1_Based_Augmented\\assets\n"
     ]
    },
    {
     "name": "stderr",
     "output_type": "stream",
     "text": [
      "INFO:tensorflow:Assets written to: Grape_DenseNet_model1_Based_Augmented\\assets\n"
     ]
    },
    {
     "name": "stdout",
     "output_type": "stream",
     "text": [
      "367/367 [==============================] - 131s 305ms/step - loss: 0.4621 - accuracy: 0.9110 - val_loss: 0.4280 - val_accuracy: 0.9101 - lr: 0.0010\n",
      "Epoch 2/100\n",
      "367/367 [==============================] - ETA: 0s - loss: 0.1195 - accuracy: 0.9629\n",
      "Epoch 2: val_accuracy improved from 0.91014 to 0.96712, saving model to Grape_DenseNet_model1_Based_Augmented\n"
     ]
    },
    {
     "name": "stderr",
     "output_type": "stream",
     "text": [
      "WARNING:absl:Found untraced functions such as _jit_compiled_convolution_op, _jit_compiled_convolution_op, _jit_compiled_convolution_op, _jit_compiled_convolution_op, _jit_compiled_convolution_op while saving (showing 5 of 120). These functions will not be directly callable after loading.\n"
     ]
    },
    {
     "name": "stdout",
     "output_type": "stream",
     "text": [
      "INFO:tensorflow:Assets written to: Grape_DenseNet_model1_Based_Augmented\\assets\n"
     ]
    },
    {
     "name": "stderr",
     "output_type": "stream",
     "text": [
      "INFO:tensorflow:Assets written to: Grape_DenseNet_model1_Based_Augmented\\assets\n"
     ]
    },
    {
     "name": "stdout",
     "output_type": "stream",
     "text": [
      "367/367 [==============================] - 107s 290ms/step - loss: 0.1195 - accuracy: 0.9629 - val_loss: 0.0995 - val_accuracy: 0.9671 - lr: 0.0010\n",
      "Epoch 3/100\n",
      "367/367 [==============================] - ETA: 0s - loss: 0.1062 - accuracy: 0.9692\n",
      "Epoch 3: val_accuracy did not improve from 0.96712\n",
      "367/367 [==============================] - 70s 189ms/step - loss: 0.1062 - accuracy: 0.9692 - val_loss: 0.3642 - val_accuracy: 0.8942 - lr: 0.0010\n",
      "Epoch 4/100\n",
      "367/367 [==============================] - ETA: 0s - loss: 0.0940 - accuracy: 0.9745\n",
      "Epoch 4: val_accuracy did not improve from 0.96712\n",
      "367/367 [==============================] - 70s 190ms/step - loss: 0.0940 - accuracy: 0.9745 - val_loss: 0.7358 - val_accuracy: 0.8148 - lr: 0.0010\n",
      "Epoch 5/100\n",
      "367/367 [==============================] - ETA: 0s - loss: 0.0814 - accuracy: 0.9738\n",
      "Epoch 5: val_accuracy improved from 0.96712 to 0.96877, saving model to Grape_DenseNet_model1_Based_Augmented\n"
     ]
    },
    {
     "name": "stderr",
     "output_type": "stream",
     "text": [
      "WARNING:absl:Found untraced functions such as _jit_compiled_convolution_op, _jit_compiled_convolution_op, _jit_compiled_convolution_op, _jit_compiled_convolution_op, _jit_compiled_convolution_op while saving (showing 5 of 120). These functions will not be directly callable after loading.\n"
     ]
    },
    {
     "name": "stdout",
     "output_type": "stream",
     "text": [
      "INFO:tensorflow:Assets written to: Grape_DenseNet_model1_Based_Augmented\\assets\n"
     ]
    },
    {
     "name": "stderr",
     "output_type": "stream",
     "text": [
      "INFO:tensorflow:Assets written to: Grape_DenseNet_model1_Based_Augmented\\assets\n"
     ]
    },
    {
     "name": "stdout",
     "output_type": "stream",
     "text": [
      "367/367 [==============================] - 109s 297ms/step - loss: 0.0814 - accuracy: 0.9738 - val_loss: 0.0854 - val_accuracy: 0.9688 - lr: 0.0010\n",
      "Epoch 6/100\n",
      "367/367 [==============================] - ETA: 0s - loss: 0.0528 - accuracy: 0.9835\n",
      "Epoch 6: val_accuracy improved from 0.96877 to 0.99452, saving model to Grape_DenseNet_model1_Based_Augmented\n"
     ]
    },
    {
     "name": "stderr",
     "output_type": "stream",
     "text": [
      "WARNING:absl:Found untraced functions such as _jit_compiled_convolution_op, _jit_compiled_convolution_op, _jit_compiled_convolution_op, _jit_compiled_convolution_op, _jit_compiled_convolution_op while saving (showing 5 of 120). These functions will not be directly callable after loading.\n"
     ]
    },
    {
     "name": "stdout",
     "output_type": "stream",
     "text": [
      "INFO:tensorflow:Assets written to: Grape_DenseNet_model1_Based_Augmented\\assets\n"
     ]
    },
    {
     "name": "stderr",
     "output_type": "stream",
     "text": [
      "INFO:tensorflow:Assets written to: Grape_DenseNet_model1_Based_Augmented\\assets\n"
     ]
    },
    {
     "name": "stdout",
     "output_type": "stream",
     "text": [
      "367/367 [==============================] - 109s 295ms/step - loss: 0.0528 - accuracy: 0.9835 - val_loss: 0.0199 - val_accuracy: 0.9945 - lr: 0.0010\n",
      "Epoch 7/100\n",
      "367/367 [==============================] - ETA: 0s - loss: 0.0564 - accuracy: 0.9832\n",
      "Epoch 7: val_accuracy did not improve from 0.99452\n",
      "367/367 [==============================] - 70s 190ms/step - loss: 0.0564 - accuracy: 0.9832 - val_loss: 0.5485 - val_accuracy: 0.9129 - lr: 0.0010\n",
      "Epoch 8/100\n",
      "367/367 [==============================] - ETA: 0s - loss: 0.0662 - accuracy: 0.9791\n",
      "Epoch 8: val_accuracy did not improve from 0.99452\n",
      "367/367 [==============================] - 71s 193ms/step - loss: 0.0662 - accuracy: 0.9791 - val_loss: 0.0470 - val_accuracy: 0.9874 - lr: 0.0010\n",
      "Epoch 9/100\n",
      "367/367 [==============================] - ETA: 0s - loss: 0.0641 - accuracy: 0.9825\n",
      "Epoch 9: val_accuracy did not improve from 0.99452\n",
      "367/367 [==============================] - 71s 193ms/step - loss: 0.0641 - accuracy: 0.9825 - val_loss: 0.2876 - val_accuracy: 0.8997 - lr: 0.0010\n",
      "Epoch 10/100\n",
      "367/367 [==============================] - ETA: 0s - loss: 0.0317 - accuracy: 0.9905\n",
      "Epoch 10: val_accuracy did not improve from 0.99452\n",
      "367/367 [==============================] - 71s 193ms/step - loss: 0.0317 - accuracy: 0.9905 - val_loss: 0.0867 - val_accuracy: 0.9671 - lr: 0.0010\n",
      "Epoch 11/100\n",
      "367/367 [==============================] - ETA: 0s - loss: 0.0519 - accuracy: 0.9845\n",
      "Epoch 11: val_accuracy did not improve from 0.99452\n",
      "\n",
      "Epoch 11: ReduceLROnPlateau reducing learning rate to 0.00010000000474974513.\n",
      "367/367 [==============================] - 71s 193ms/step - loss: 0.0519 - accuracy: 0.9845 - val_loss: 0.1246 - val_accuracy: 0.9688 - lr: 0.0010\n",
      "Epoch 12/100\n",
      "367/367 [==============================] - ETA: 0s - loss: 0.0252 - accuracy: 0.9921\n",
      "Epoch 12: val_accuracy improved from 0.99452 to 0.99726, saving model to Grape_DenseNet_model1_Based_Augmented\n"
     ]
    },
    {
     "name": "stderr",
     "output_type": "stream",
     "text": [
      "WARNING:absl:Found untraced functions such as _jit_compiled_convolution_op, _jit_compiled_convolution_op, _jit_compiled_convolution_op, _jit_compiled_convolution_op, _jit_compiled_convolution_op while saving (showing 5 of 120). These functions will not be directly callable after loading.\n"
     ]
    },
    {
     "name": "stdout",
     "output_type": "stream",
     "text": [
      "INFO:tensorflow:Assets written to: Grape_DenseNet_model1_Based_Augmented\\assets\n"
     ]
    },
    {
     "name": "stderr",
     "output_type": "stream",
     "text": [
      "INFO:tensorflow:Assets written to: Grape_DenseNet_model1_Based_Augmented\\assets\n"
     ]
    },
    {
     "name": "stdout",
     "output_type": "stream",
     "text": [
      "367/367 [==============================] - 109s 298ms/step - loss: 0.0252 - accuracy: 0.9921 - val_loss: 0.0080 - val_accuracy: 0.9973 - lr: 1.0000e-04\n",
      "Epoch 13/100\n",
      "367/367 [==============================] - ETA: 0s - loss: 0.0162 - accuracy: 0.9956\n",
      "Epoch 13: val_accuracy improved from 0.99726 to 0.99836, saving model to Grape_DenseNet_model1_Based_Augmented\n"
     ]
    },
    {
     "name": "stderr",
     "output_type": "stream",
     "text": [
      "WARNING:absl:Found untraced functions such as _jit_compiled_convolution_op, _jit_compiled_convolution_op, _jit_compiled_convolution_op, _jit_compiled_convolution_op, _jit_compiled_convolution_op while saving (showing 5 of 120). These functions will not be directly callable after loading.\n"
     ]
    },
    {
     "name": "stdout",
     "output_type": "stream",
     "text": [
      "INFO:tensorflow:Assets written to: Grape_DenseNet_model1_Based_Augmented\\assets\n"
     ]
    },
    {
     "name": "stderr",
     "output_type": "stream",
     "text": [
      "INFO:tensorflow:Assets written to: Grape_DenseNet_model1_Based_Augmented\\assets\n"
     ]
    },
    {
     "name": "stdout",
     "output_type": "stream",
     "text": [
      "367/367 [==============================] - 109s 297ms/step - loss: 0.0162 - accuracy: 0.9956 - val_loss: 0.0057 - val_accuracy: 0.9984 - lr: 1.0000e-04\n",
      "Epoch 14/100\n",
      "367/367 [==============================] - ETA: 0s - loss: 0.0108 - accuracy: 0.9959\n",
      "Epoch 14: val_accuracy did not improve from 0.99836\n",
      "367/367 [==============================] - 71s 193ms/step - loss: 0.0108 - accuracy: 0.9959 - val_loss: 0.0053 - val_accuracy: 0.9984 - lr: 1.0000e-04\n",
      "Epoch 15/100\n",
      "367/367 [==============================] - ETA: 0s - loss: 0.0106 - accuracy: 0.9971\n",
      "Epoch 15: val_accuracy did not improve from 0.99836\n",
      "367/367 [==============================] - 76s 206ms/step - loss: 0.0106 - accuracy: 0.9971 - val_loss: 0.0084 - val_accuracy: 0.9967 - lr: 1.0000e-04\n",
      "Epoch 16/100\n",
      "367/367 [==============================] - ETA: 0s - loss: 0.0094 - accuracy: 0.9967\n",
      "Epoch 16: val_accuracy improved from 0.99836 to 0.99890, saving model to Grape_DenseNet_model1_Based_Augmented\n"
     ]
    },
    {
     "name": "stderr",
     "output_type": "stream",
     "text": [
      "WARNING:absl:Found untraced functions such as _jit_compiled_convolution_op, _jit_compiled_convolution_op, _jit_compiled_convolution_op, _jit_compiled_convolution_op, _jit_compiled_convolution_op while saving (showing 5 of 120). These functions will not be directly callable after loading.\n"
     ]
    },
    {
     "name": "stdout",
     "output_type": "stream",
     "text": [
      "INFO:tensorflow:Assets written to: Grape_DenseNet_model1_Based_Augmented\\assets\n"
     ]
    },
    {
     "name": "stderr",
     "output_type": "stream",
     "text": [
      "INFO:tensorflow:Assets written to: Grape_DenseNet_model1_Based_Augmented\\assets\n"
     ]
    },
    {
     "name": "stdout",
     "output_type": "stream",
     "text": [
      "367/367 [==============================] - 110s 300ms/step - loss: 0.0094 - accuracy: 0.9967 - val_loss: 0.0039 - val_accuracy: 0.9989 - lr: 1.0000e-04\n",
      "Epoch 17/100\n",
      "367/367 [==============================] - ETA: 0s - loss: 0.0067 - accuracy: 0.9977\n",
      "Epoch 17: val_accuracy did not improve from 0.99890\n",
      "367/367 [==============================] - 74s 199ms/step - loss: 0.0067 - accuracy: 0.9977 - val_loss: 0.0043 - val_accuracy: 0.9978 - lr: 1.0000e-04\n",
      "Epoch 18/100\n",
      "367/367 [==============================] - ETA: 0s - loss: 0.0056 - accuracy: 0.9982\n",
      "Epoch 18: val_accuracy did not improve from 0.99890\n",
      "367/367 [==============================] - 77s 208ms/step - loss: 0.0056 - accuracy: 0.9982 - val_loss: 0.0038 - val_accuracy: 0.9973 - lr: 1.0000e-04\n",
      "Epoch 19/100\n",
      "367/367 [==============================] - ETA: 0s - loss: 0.0068 - accuracy: 0.9982\n",
      "Epoch 19: val_accuracy did not improve from 0.99890\n",
      "367/367 [==============================] - 77s 210ms/step - loss: 0.0068 - accuracy: 0.9982 - val_loss: 0.0043 - val_accuracy: 0.9984 - lr: 1.0000e-04\n",
      "Epoch 20/100\n",
      "367/367 [==============================] - ETA: 0s - loss: 0.0037 - accuracy: 0.9990\n",
      "Epoch 20: val_accuracy did not improve from 0.99890\n",
      "367/367 [==============================] - 74s 202ms/step - loss: 0.0037 - accuracy: 0.9990 - val_loss: 0.0075 - val_accuracy: 0.9967 - lr: 1.0000e-04\n",
      "Epoch 21/100\n",
      "367/367 [==============================] - ETA: 0s - loss: 0.0058 - accuracy: 0.9981\n",
      "Epoch 21: val_accuracy did not improve from 0.99890\n",
      "\n",
      "Epoch 21: ReduceLROnPlateau reducing learning rate to 1.0000000474974514e-05.\n",
      "367/367 [==============================] - 76s 206ms/step - loss: 0.0058 - accuracy: 0.9981 - val_loss: 0.0061 - val_accuracy: 0.9984 - lr: 1.0000e-04\n",
      "Epoch 22/100\n",
      "367/367 [==============================] - ETA: 0s - loss: 0.0041 - accuracy: 0.9986\n",
      "Epoch 22: val_accuracy did not improve from 0.99890\n",
      "367/367 [==============================] - 74s 202ms/step - loss: 0.0041 - accuracy: 0.9986 - val_loss: 0.0065 - val_accuracy: 0.9984 - lr: 1.0000e-05\n",
      "Epoch 23/100\n",
      "367/367 [==============================] - ETA: 0s - loss: 0.0042 - accuracy: 0.9989\n",
      "Epoch 23: val_accuracy did not improve from 0.99890\n",
      "367/367 [==============================] - 78s 213ms/step - loss: 0.0042 - accuracy: 0.9989 - val_loss: 0.0065 - val_accuracy: 0.9984 - lr: 1.0000e-05\n",
      "Epoch 24/100\n",
      "367/367 [==============================] - ETA: 0s - loss: 0.0031 - accuracy: 0.9992\n",
      "Epoch 24: val_accuracy did not improve from 0.99890\n",
      "367/367 [==============================] - 76s 206ms/step - loss: 0.0031 - accuracy: 0.9992 - val_loss: 0.0069 - val_accuracy: 0.9978 - lr: 1.0000e-05\n",
      "Epoch 25/100\n",
      "367/367 [==============================] - ETA: 0s - loss: 0.0037 - accuracy: 0.9993\n",
      "Epoch 25: val_accuracy did not improve from 0.99890\n",
      "367/367 [==============================] - 80s 217ms/step - loss: 0.0037 - accuracy: 0.9993 - val_loss: 0.0054 - val_accuracy: 0.9984 - lr: 1.0000e-05\n",
      "Epoch 26/100\n",
      "367/367 [==============================] - ETA: 0s - loss: 0.0016 - accuracy: 0.9996\n",
      "Epoch 26: val_accuracy did not improve from 0.99890\n",
      "\n",
      "Epoch 26: ReduceLROnPlateau reducing learning rate to 1.0000000656873453e-06.\n",
      "367/367 [==============================] - 80s 217ms/step - loss: 0.0016 - accuracy: 0.9996 - val_loss: 0.0059 - val_accuracy: 0.9978 - lr: 1.0000e-05\n",
      "Epoch 27/100\n",
      "367/367 [==============================] - ETA: 0s - loss: 0.0026 - accuracy: 0.9989\n",
      "Epoch 27: val_accuracy did not improve from 0.99890\n",
      "367/367 [==============================] - 82s 222ms/step - loss: 0.0026 - accuracy: 0.9989 - val_loss: 0.0054 - val_accuracy: 0.9984 - lr: 1.0000e-06\n",
      "Epoch 28/100\n",
      "367/367 [==============================] - ETA: 0s - loss: 0.0033 - accuracy: 0.9992\n",
      "Epoch 28: val_accuracy did not improve from 0.99890\n",
      "367/367 [==============================] - 89s 243ms/step - loss: 0.0033 - accuracy: 0.9992 - val_loss: 0.0056 - val_accuracy: 0.9984 - lr: 1.0000e-06\n",
      "Epoch 29/100\n",
      "367/367 [==============================] - ETA: 0s - loss: 0.0017 - accuracy: 0.9995\n",
      "Epoch 29: val_accuracy did not improve from 0.99890\n",
      "367/367 [==============================] - 81s 221ms/step - loss: 0.0017 - accuracy: 0.9995 - val_loss: 0.0058 - val_accuracy: 0.9984 - lr: 1.0000e-06\n",
      "Epoch 30/100\n",
      "367/367 [==============================] - ETA: 0s - loss: 0.0022 - accuracy: 0.9995\n",
      "Epoch 30: val_accuracy did not improve from 0.99890\n",
      "367/367 [==============================] - 81s 221ms/step - loss: 0.0022 - accuracy: 0.9995 - val_loss: 0.0057 - val_accuracy: 0.9984 - lr: 1.0000e-06\n",
      "Epoch 31/100\n",
      "367/367 [==============================] - ETA: 0s - loss: 0.0016 - accuracy: 0.9995\n",
      "Epoch 31: val_accuracy did not improve from 0.99890\n",
      "\n",
      "Epoch 31: ReduceLROnPlateau reducing learning rate to 1.0000001111620805e-07.\n",
      "367/367 [==============================] - 79s 214ms/step - loss: 0.0016 - accuracy: 0.9995 - val_loss: 0.0057 - val_accuracy: 0.9984 - lr: 1.0000e-06\n",
      "Epoch 32/100\n",
      "367/367 [==============================] - ETA: 0s - loss: 0.0020 - accuracy: 0.9990\n",
      "Epoch 32: val_accuracy did not improve from 0.99890\n",
      "367/367 [==============================] - 80s 218ms/step - loss: 0.0020 - accuracy: 0.9990 - val_loss: 0.0054 - val_accuracy: 0.9984 - lr: 1.0000e-07\n",
      "Epoch 33/100\n",
      "367/367 [==============================] - ETA: 0s - loss: 0.0022 - accuracy: 0.9993\n",
      "Epoch 33: val_accuracy did not improve from 0.99890\n",
      "367/367 [==============================] - 78s 211ms/step - loss: 0.0022 - accuracy: 0.9993 - val_loss: 0.0058 - val_accuracy: 0.9984 - lr: 1.0000e-07\n",
      "Epoch 34/100\n",
      "367/367 [==============================] - ETA: 0s - loss: 0.0030 - accuracy: 0.9990\n",
      "Epoch 34: val_accuracy did not improve from 0.99890\n",
      "367/367 [==============================] - 82s 224ms/step - loss: 0.0030 - accuracy: 0.9990 - val_loss: 0.0052 - val_accuracy: 0.9984 - lr: 1.0000e-07\n",
      "Epoch 35/100\n",
      "367/367 [==============================] - ETA: 0s - loss: 0.0015 - accuracy: 0.9996\n",
      "Epoch 35: val_accuracy did not improve from 0.99890\n",
      "367/367 [==============================] - 80s 218ms/step - loss: 0.0015 - accuracy: 0.9996 - val_loss: 0.0055 - val_accuracy: 0.9984 - lr: 1.0000e-07\n",
      "Epoch 36/100\n",
      "367/367 [==============================] - ETA: 0s - loss: 0.0037 - accuracy: 0.9989\n",
      "Epoch 36: val_accuracy did not improve from 0.99890\n",
      "Restoring model weights from the end of the best epoch: 16.\n",
      "\n",
      "Epoch 36: ReduceLROnPlateau reducing learning rate to 1.000000082740371e-08.\n",
      "367/367 [==============================] - 81s 221ms/step - loss: 0.0037 - accuracy: 0.9989 - val_loss: 0.0054 - val_accuracy: 0.9984 - lr: 1.0000e-07\n",
      "Epoch 36: early stopping\n"
     ]
    }
   ],
   "source": [
    "# Define the number of epochs\n",
    "num_epochs = 100\n",
    "\n",
    "# Train the model\n",
    "history_DenseNet_model_1 = DenseNet_model.fit(train_generator, epochs=num_epochs, validation_data=validation_generator, callbacks=callbacks)"
   ]
  },
  {
   "cell_type": "code",
   "execution_count": 12,
   "metadata": {
    "colab": {
     "base_uri": "https://localhost:8080/",
     "height": 904
    },
    "id": "lvS9xz3LU2TI",
    "outputId": "81ccdf0f-a571-4788-cf2b-c7996536c6d0",
    "tags": []
   },
   "outputs": [
    {
     "data": {
      "text/plain": [
       "<matplotlib.legend.Legend at 0x25f94c4dbd0>"
      ]
     },
     "execution_count": 12,
     "metadata": {},
     "output_type": "execute_result"
    },
    {
     "data": {
      "image/png": "[encoded data removed]",
      "text/plain": [
       "<Figure size 640x480 with 1 Axes>"
      ]
     },
     "metadata": {},
     "output_type": "display_data"
    },
    {
     "data": {
      "image/png": "[encoded data removed]",
      "text/plain": [
       "<Figure size 640x480 with 1 Axes>"
      ]
     },
     "metadata": {},
     "output_type": "display_data"
    }
   ],
   "source": [
    "#-----------------------------------------------------------\n",
    "# Retrieve a list of list results on training and test data\n",
    "# sets for each training epoch\n",
    "#-----------------------------------------------------------\n",
    "acc      = history_DenseNet_model_1.history['accuracy' ]\n",
    "val_acc  = history_DenseNet_model_1.history['val_accuracy' ]\n",
    "loss     = history_DenseNet_model_1.history['loss' ]\n",
    "val_loss = history_DenseNet_model_1.history['val_loss' ]\n",
    "\n",
    "epochs   = range(len(acc)) # Get number of epochs\n",
    "\n",
    "#------------------------------------------------\n",
    "# Plot training and validation accuracy per epoch\n",
    "#------------------------------------------------\n",
    "plt.plot  (epochs, acc )\n",
    "plt.plot  (epochs, val_acc )\n",
    "plt.title ('Training and validation accuracy DenseNet Model 1')\n",
    "plt.legend(['train', 'val'], loc='upper left')\n",
    "plt.figure()\n",
    "\n",
    "#------------------------------------------------\n",
    "# Plot training and validation loss per epoch\n",
    "#------------------------------------------------\n",
    "plt.plot  (epochs, loss)\n",
    "plt.plot  (epochs, val_loss)\n",
    "plt.title ('Training and validation loss DenseNet Model 1')\n",
    "plt.legend(['train', 'val'], loc='upper left')"
   ]
  },
  {
   "attachments": {},
   "cell_type": "markdown",
   "metadata": {
    "id": "SvQOR9IuU2TJ"
   },
   "source": [
    "## DenseNet Model 2"
   ]
  },
  {
   "cell_type": "code",
   "execution_count": 13,
   "metadata": {
    "id": "Tj7lcdvUU2TJ",
    "tags": []
   },
   "outputs": [],
   "source": [
    "# Difine the callbacks\n",
    "# Save the best model\n",
    "checkpoint_callback = ModelCheckpoint(filepath=\"Grape_DenseNet_model2_Based_Augmented\", save_best_only=True, monitor=\"val_accuracy\", mode=\"max\", verbose=1)\n",
    "\n",
    "# Early stopping\n",
    "early_stopping_callback = EarlyStopping(monitor=\"val_accuracy\", mode=\"max\", patience=20, verbose=1, restore_best_weights=True)\n",
    "\n",
    "# Reduce learning rate\n",
    "reduce_lr_callback = ReduceLROnPlateau(monitor=\"val_loss\", factor=0.1, patience=5, verbose=1, mode=\"min\", min_delta=0.0001, cooldown=0, min_lr=0)\n",
    "\n",
    "# Callbacks list\n",
    "callbacks=[checkpoint_callback, early_stopping_callback, reduce_lr_callback]"
   ]
  },
  {
   "cell_type": "code",
   "execution_count": 14,
   "metadata": {
    "colab": {
     "base_uri": "https://localhost:8080/"
    },
    "id": "7NKPY1xGU2TJ",
    "outputId": "5402f73e-8a82-4dad-ebfc-744ab1bc235b",
    "tags": []
   },
   "outputs": [
    {
     "name": "stdout",
     "output_type": "stream",
     "text": [
      "Model: \"sequential_1\"\n",
      "_________________________________________________________________\n",
      " Layer (type)                Output Shape              Param #   \n",
      "=================================================================\n",
      " densenet121 (Functional)    (None, 7, 7, 1024)        7037504   \n",
      "                                                                 \n",
      " global_average_pooling2d (G  (None, 1024)             0         \n",
      " lobalAveragePooling2D)                                          \n",
      "                                                                 \n",
      " dropout_1 (Dropout)         (None, 1024)              0         \n",
      "                                                                 \n",
      " dense_2 (Dense)             (None, 256)               262400    \n",
      "                                                                 \n",
      " dense_3 (Dense)             (None, 4)                 1028      \n",
      "                                                                 \n",
      "=================================================================\n",
      "Total params: 7,300,932\n",
      "Trainable params: 7,217,284\n",
      "Non-trainable params: 83,648\n",
      "_________________________________________________________________\n"
     ]
    }
   ],
   "source": [
    "# Define DIY Model\n",
    "DenseNet_model_2 = tf.keras.models.Sequential([\n",
    "    # DenseNet121 Layer\n",
    "    DenseNet121(include_top=False,weights='imagenet',input_shape=(224, 224, 3)),\n",
    "    # Global Average Pooling Layer\n",
    "    tf.keras.layers.GlobalAveragePooling2D(),\n",
    "    # Drop Out Layer\n",
    "    tf.keras.layers.Dropout(0.2),\n",
    "    # 256 neuron hidden layer\n",
    "    tf.keras.layers.Dense(256, activation='relu'),\n",
    "    # Output\n",
    "    tf.keras.layers.Dense(4, activation='softmax') \n",
    "  ])\n",
    "\n",
    "\n",
    "# Compile Model\n",
    "DenseNet_model_2.compile(loss='categorical_crossentropy',optimizer=tf.keras.optimizers.Adam(), metrics=['accuracy']) \n",
    "\n",
    "# Model Summary\n",
    "DenseNet_model_2.summary()"
   ]
  },
  {
   "cell_type": "code",
   "execution_count": 15,
   "metadata": {
    "colab": {
     "base_uri": "https://localhost:8080/"
    },
    "id": "6beuexC9U2TJ",
    "outputId": "e6f873d2-529f-4b5b-886a-288854955e03",
    "tags": []
   },
   "outputs": [
    {
     "name": "stdout",
     "output_type": "stream",
     "text": [
      "Epoch 1/100\n",
      "367/367 [==============================] - ETA: 0s - loss: 0.1959 - accuracy: 0.9376\n",
      "Epoch 1: val_accuracy improved from -inf to 0.96712, saving model to Grape_DenseNet_model2_Based_Augmented\n"
     ]
    },
    {
     "name": "stderr",
     "output_type": "stream",
     "text": [
      "WARNING:absl:Found untraced functions such as _jit_compiled_convolution_op, _jit_compiled_convolution_op, _jit_compiled_convolution_op, _jit_compiled_convolution_op, _jit_compiled_convolution_op while saving (showing 5 of 120). These functions will not be directly callable after loading.\n"
     ]
    },
    {
     "name": "stdout",
     "output_type": "stream",
     "text": [
      "INFO:tensorflow:Assets written to: Grape_DenseNet_model2_Based_Augmented\\assets\n"
     ]
    },
    {
     "name": "stderr",
     "output_type": "stream",
     "text": [
      "INFO:tensorflow:Assets written to: Grape_DenseNet_model2_Based_Augmented\\assets\n"
     ]
    },
    {
     "name": "stdout",
     "output_type": "stream",
     "text": [
      "367/367 [==============================] - 135s 338ms/step - loss: 0.1959 - accuracy: 0.9376 - val_loss: 0.2100 - val_accuracy: 0.9671 - lr: 0.0010\n",
      "Epoch 2/100\n",
      "367/367 [==============================] - ETA: 0s - loss: 0.1319 - accuracy: 0.9558\n",
      "Epoch 2: val_accuracy improved from 0.96712 to 0.97808, saving model to Grape_DenseNet_model2_Based_Augmented\n"
     ]
    },
    {
     "name": "stderr",
     "output_type": "stream",
     "text": [
      "WARNING:absl:Found untraced functions such as _jit_compiled_convolution_op, _jit_compiled_convolution_op, _jit_compiled_convolution_op, _jit_compiled_convolution_op, _jit_compiled_convolution_op while saving (showing 5 of 120). These functions will not be directly callable after loading.\n"
     ]
    },
    {
     "name": "stdout",
     "output_type": "stream",
     "text": [
      "INFO:tensorflow:Assets written to: Grape_DenseNet_model2_Based_Augmented\\assets\n"
     ]
    },
    {
     "name": "stderr",
     "output_type": "stream",
     "text": [
      "INFO:tensorflow:Assets written to: Grape_DenseNet_model2_Based_Augmented\\assets\n"
     ]
    },
    {
     "name": "stdout",
     "output_type": "stream",
     "text": [
      "367/367 [==============================] - 122s 330ms/step - loss: 0.1319 - accuracy: 0.9558 - val_loss: 0.0801 - val_accuracy: 0.9781 - lr: 0.0010\n",
      "Epoch 3/100\n",
      "367/367 [==============================] - ETA: 0s - loss: 0.0727 - accuracy: 0.9766\n",
      "Epoch 3: val_accuracy improved from 0.97808 to 0.99068, saving model to Grape_DenseNet_model2_Based_Augmented\n"
     ]
    },
    {
     "name": "stderr",
     "output_type": "stream",
     "text": [
      "WARNING:absl:Found untraced functions such as _jit_compiled_convolution_op, _jit_compiled_convolution_op, _jit_compiled_convolution_op, _jit_compiled_convolution_op, _jit_compiled_convolution_op while saving (showing 5 of 120). These functions will not be directly callable after loading.\n"
     ]
    },
    {
     "name": "stdout",
     "output_type": "stream",
     "text": [
      "INFO:tensorflow:Assets written to: Grape_DenseNet_model2_Based_Augmented\\assets\n"
     ]
    },
    {
     "name": "stderr",
     "output_type": "stream",
     "text": [
      "INFO:tensorflow:Assets written to: Grape_DenseNet_model2_Based_Augmented\\assets\n"
     ]
    },
    {
     "name": "stdout",
     "output_type": "stream",
     "text": [
      "367/367 [==============================] - 126s 343ms/step - loss: 0.0727 - accuracy: 0.9766 - val_loss: 0.0264 - val_accuracy: 0.9907 - lr: 0.0010\n",
      "Epoch 4/100\n",
      "367/367 [==============================] - ETA: 0s - loss: 0.0433 - accuracy: 0.9843\n",
      "Epoch 4: val_accuracy improved from 0.99068 to 0.99507, saving model to Grape_DenseNet_model2_Based_Augmented\n"
     ]
    },
    {
     "name": "stderr",
     "output_type": "stream",
     "text": [
      "WARNING:absl:Found untraced functions such as _jit_compiled_convolution_op, _jit_compiled_convolution_op, _jit_compiled_convolution_op, _jit_compiled_convolution_op, _jit_compiled_convolution_op while saving (showing 5 of 120). These functions will not be directly callable after loading.\n"
     ]
    },
    {
     "name": "stdout",
     "output_type": "stream",
     "text": [
      "INFO:tensorflow:Assets written to: Grape_DenseNet_model2_Based_Augmented\\assets\n"
     ]
    },
    {
     "name": "stderr",
     "output_type": "stream",
     "text": [
      "INFO:tensorflow:Assets written to: Grape_DenseNet_model2_Based_Augmented\\assets\n"
     ]
    },
    {
     "name": "stdout",
     "output_type": "stream",
     "text": [
      "367/367 [==============================] - 127s 344ms/step - loss: 0.0433 - accuracy: 0.9843 - val_loss: 0.0218 - val_accuracy: 0.9951 - lr: 0.0010\n",
      "Epoch 5/100\n",
      "367/367 [==============================] - ETA: 0s - loss: 0.0567 - accuracy: 0.9815\n",
      "Epoch 5: val_accuracy did not improve from 0.99507\n",
      "367/367 [==============================] - 89s 240ms/step - loss: 0.0567 - accuracy: 0.9815 - val_loss: 0.2316 - val_accuracy: 0.9556 - lr: 0.0010\n",
      "Epoch 6/100\n",
      "367/367 [==============================] - ETA: 0s - loss: 0.0756 - accuracy: 0.9760\n",
      "Epoch 6: val_accuracy did not improve from 0.99507\n",
      "367/367 [==============================] - 92s 251ms/step - loss: 0.0756 - accuracy: 0.9760 - val_loss: 0.0754 - val_accuracy: 0.9737 - lr: 0.0010\n",
      "Epoch 7/100\n",
      "367/367 [==============================] - ETA: 0s - loss: 0.0472 - accuracy: 0.9869\n",
      "Epoch 7: val_accuracy did not improve from 0.99507\n",
      "367/367 [==============================] - 93s 254ms/step - loss: 0.0472 - accuracy: 0.9869 - val_loss: 0.5283 - val_accuracy: 0.8384 - lr: 0.0010\n",
      "Epoch 8/100\n",
      "367/367 [==============================] - ETA: 0s - loss: 0.0330 - accuracy: 0.9899\n",
      "Epoch 8: val_accuracy did not improve from 0.99507\n",
      "367/367 [==============================] - 90s 244ms/step - loss: 0.0330 - accuracy: 0.9899 - val_loss: 0.0406 - val_accuracy: 0.9858 - lr: 0.0010\n",
      "Epoch 9/100\n",
      "367/367 [==============================] - ETA: 0s - loss: 0.0423 - accuracy: 0.9868\n",
      "Epoch 9: val_accuracy did not improve from 0.99507\n",
      "\n",
      "Epoch 9: ReduceLROnPlateau reducing learning rate to 0.00010000000474974513.\n",
      "367/367 [==============================] - 90s 245ms/step - loss: 0.0423 - accuracy: 0.9868 - val_loss: 3.1269 - val_accuracy: 0.5753 - lr: 0.0010\n",
      "Epoch 10/100\n",
      "367/367 [==============================] - ETA: 0s - loss: 0.0178 - accuracy: 0.9950\n",
      "Epoch 10: val_accuracy improved from 0.99507 to 0.99562, saving model to Grape_DenseNet_model2_Based_Augmented\n"
     ]
    },
    {
     "name": "stderr",
     "output_type": "stream",
     "text": [
      "WARNING:absl:Found untraced functions such as _jit_compiled_convolution_op, _jit_compiled_convolution_op, _jit_compiled_convolution_op, _jit_compiled_convolution_op, _jit_compiled_convolution_op while saving (showing 5 of 120). These functions will not be directly callable after loading.\n"
     ]
    },
    {
     "name": "stdout",
     "output_type": "stream",
     "text": [
      "INFO:tensorflow:Assets written to: Grape_DenseNet_model2_Based_Augmented\\assets\n"
     ]
    },
    {
     "name": "stderr",
     "output_type": "stream",
     "text": [
      "INFO:tensorflow:Assets written to: Grape_DenseNet_model2_Based_Augmented\\assets\n"
     ]
    },
    {
     "name": "stdout",
     "output_type": "stream",
     "text": [
      "367/367 [==============================] - 130s 354ms/step - loss: 0.0178 - accuracy: 0.9950 - val_loss: 0.0074 - val_accuracy: 0.9956 - lr: 1.0000e-04\n",
      "Epoch 11/100\n",
      "367/367 [==============================] - ETA: 0s - loss: 0.0093 - accuracy: 0.9969\n",
      "Epoch 11: val_accuracy improved from 0.99562 to 0.99616, saving model to Grape_DenseNet_model2_Based_Augmented\n"
     ]
    },
    {
     "name": "stderr",
     "output_type": "stream",
     "text": [
      "WARNING:absl:Found untraced functions such as _jit_compiled_convolution_op, _jit_compiled_convolution_op, _jit_compiled_convolution_op, _jit_compiled_convolution_op, _jit_compiled_convolution_op while saving (showing 5 of 120). These functions will not be directly callable after loading.\n"
     ]
    },
    {
     "name": "stdout",
     "output_type": "stream",
     "text": [
      "INFO:tensorflow:Assets written to: Grape_DenseNet_model2_Based_Augmented\\assets\n"
     ]
    },
    {
     "name": "stderr",
     "output_type": "stream",
     "text": [
      "INFO:tensorflow:Assets written to: Grape_DenseNet_model2_Based_Augmented\\assets\n"
     ]
    },
    {
     "name": "stdout",
     "output_type": "stream",
     "text": [
      "367/367 [==============================] - 131s 357ms/step - loss: 0.0093 - accuracy: 0.9969 - val_loss: 0.0056 - val_accuracy: 0.9962 - lr: 1.0000e-04\n",
      "Epoch 12/100\n",
      "367/367 [==============================] - ETA: 0s - loss: 0.0085 - accuracy: 0.9975\n",
      "Epoch 12: val_accuracy improved from 0.99616 to 1.00000, saving model to Grape_DenseNet_model2_Based_Augmented\n"
     ]
    },
    {
     "name": "stderr",
     "output_type": "stream",
     "text": [
      "WARNING:absl:Found untraced functions such as _jit_compiled_convolution_op, _jit_compiled_convolution_op, _jit_compiled_convolution_op, _jit_compiled_convolution_op, _jit_compiled_convolution_op while saving (showing 5 of 120). These functions will not be directly callable after loading.\n"
     ]
    },
    {
     "name": "stdout",
     "output_type": "stream",
     "text": [
      "INFO:tensorflow:Assets written to: Grape_DenseNet_model2_Based_Augmented\\assets\n"
     ]
    },
    {
     "name": "stderr",
     "output_type": "stream",
     "text": [
      "INFO:tensorflow:Assets written to: Grape_DenseNet_model2_Based_Augmented\\assets\n"
     ]
    },
    {
     "name": "stdout",
     "output_type": "stream",
     "text": [
      "367/367 [==============================] - 129s 352ms/step - loss: 0.0085 - accuracy: 0.9975 - val_loss: 0.0028 - val_accuracy: 1.0000 - lr: 1.0000e-04\n",
      "Epoch 13/100\n",
      "367/367 [==============================] - ETA: 0s - loss: 0.0096 - accuracy: 0.9971\n",
      "Epoch 13: val_accuracy did not improve from 1.00000\n",
      "367/367 [==============================] - 89s 242ms/step - loss: 0.0096 - accuracy: 0.9971 - val_loss: 0.0107 - val_accuracy: 0.9951 - lr: 1.0000e-04\n",
      "Epoch 14/100\n",
      "367/367 [==============================] - ETA: 0s - loss: 0.0036 - accuracy: 0.9993\n",
      "Epoch 14: val_accuracy did not improve from 1.00000\n",
      "367/367 [==============================] - 88s 240ms/step - loss: 0.0036 - accuracy: 0.9993 - val_loss: 0.0049 - val_accuracy: 0.9978 - lr: 1.0000e-04\n",
      "Epoch 15/100\n",
      "367/367 [==============================] - ETA: 0s - loss: 0.0051 - accuracy: 0.9981\n",
      "Epoch 15: val_accuracy did not improve from 1.00000\n",
      "367/367 [==============================] - 91s 246ms/step - loss: 0.0051 - accuracy: 0.9981 - val_loss: 0.0103 - val_accuracy: 0.9962 - lr: 1.0000e-04\n",
      "Epoch 16/100\n",
      "367/367 [==============================] - ETA: 0s - loss: 0.0038 - accuracy: 0.9988\n",
      "Epoch 16: val_accuracy did not improve from 1.00000\n",
      "367/367 [==============================] - 94s 257ms/step - loss: 0.0038 - accuracy: 0.9988 - val_loss: 0.0087 - val_accuracy: 0.9962 - lr: 1.0000e-04\n",
      "Epoch 17/100\n",
      "367/367 [==============================] - ETA: 0s - loss: 0.0064 - accuracy: 0.9978\n",
      "Epoch 17: val_accuracy did not improve from 1.00000\n",
      "\n",
      "Epoch 17: ReduceLROnPlateau reducing learning rate to 1.0000000474974514e-05.\n",
      "367/367 [==============================] - 96s 261ms/step - loss: 0.0064 - accuracy: 0.9978 - val_loss: 0.0032 - val_accuracy: 0.9989 - lr: 1.0000e-04\n",
      "Epoch 18/100\n",
      "367/367 [==============================] - ETA: 0s - loss: 0.0035 - accuracy: 0.9989\n",
      "Epoch 18: val_accuracy did not improve from 1.00000\n",
      "367/367 [==============================] - 93s 253ms/step - loss: 0.0035 - accuracy: 0.9989 - val_loss: 0.0027 - val_accuracy: 0.9989 - lr: 1.0000e-05\n",
      "Epoch 19/100\n",
      "367/367 [==============================] - ETA: 0s - loss: 0.0030 - accuracy: 0.9996\n",
      "Epoch 19: val_accuracy did not improve from 1.00000\n",
      "367/367 [==============================] - 96s 260ms/step - loss: 0.0030 - accuracy: 0.9996 - val_loss: 0.0025 - val_accuracy: 0.9989 - lr: 1.0000e-05\n",
      "Epoch 20/100\n",
      "367/367 [==============================] - ETA: 0s - loss: 0.0041 - accuracy: 0.9988\n",
      "Epoch 20: val_accuracy did not improve from 1.00000\n",
      "367/367 [==============================] - 96s 262ms/step - loss: 0.0041 - accuracy: 0.9988 - val_loss: 0.0020 - val_accuracy: 0.9989 - lr: 1.0000e-05\n",
      "Epoch 21/100\n",
      "367/367 [==============================] - ETA: 0s - loss: 0.0035 - accuracy: 0.9990\n",
      "Epoch 21: val_accuracy did not improve from 1.00000\n",
      "367/367 [==============================] - 96s 261ms/step - loss: 0.0035 - accuracy: 0.9990 - val_loss: 0.0025 - val_accuracy: 0.9989 - lr: 1.0000e-05\n",
      "Epoch 22/100\n",
      "367/367 [==============================] - ETA: 0s - loss: 0.0029 - accuracy: 0.9988\n",
      "Epoch 22: val_accuracy did not improve from 1.00000\n",
      "367/367 [==============================] - 96s 261ms/step - loss: 0.0029 - accuracy: 0.9988 - val_loss: 0.0027 - val_accuracy: 0.9989 - lr: 1.0000e-05\n",
      "Epoch 23/100\n",
      "367/367 [==============================] - ETA: 0s - loss: 0.0029 - accuracy: 0.9992\n",
      "Epoch 23: val_accuracy did not improve from 1.00000\n",
      "367/367 [==============================] - 94s 257ms/step - loss: 0.0029 - accuracy: 0.9992 - val_loss: 0.0028 - val_accuracy: 0.9989 - lr: 1.0000e-05\n",
      "Epoch 24/100\n",
      "367/367 [==============================] - ETA: 0s - loss: 0.0031 - accuracy: 0.9992\n",
      "Epoch 24: val_accuracy did not improve from 1.00000\n",
      "367/367 [==============================] - 94s 255ms/step - loss: 0.0031 - accuracy: 0.9992 - val_loss: 0.0025 - val_accuracy: 0.9989 - lr: 1.0000e-05\n",
      "Epoch 25/100\n",
      "367/367 [==============================] - ETA: 0s - loss: 0.0026 - accuracy: 0.9993\n",
      "Epoch 25: val_accuracy did not improve from 1.00000\n",
      "\n",
      "Epoch 25: ReduceLROnPlateau reducing learning rate to 1.0000000656873453e-06.\n",
      "367/367 [==============================] - 92s 251ms/step - loss: 0.0026 - accuracy: 0.9993 - val_loss: 0.0022 - val_accuracy: 0.9989 - lr: 1.0000e-05\n",
      "Epoch 26/100\n",
      "367/367 [==============================] - ETA: 0s - loss: 0.0022 - accuracy: 0.9995\n",
      "Epoch 26: val_accuracy did not improve from 1.00000\n",
      "367/367 [==============================] - 93s 254ms/step - loss: 0.0022 - accuracy: 0.9995 - val_loss: 0.0024 - val_accuracy: 0.9989 - lr: 1.0000e-06\n",
      "Epoch 27/100\n",
      "367/367 [==============================] - ETA: 0s - loss: 0.0014 - accuracy: 0.9997\n",
      "Epoch 27: val_accuracy did not improve from 1.00000\n",
      "367/367 [==============================] - 97s 264ms/step - loss: 0.0014 - accuracy: 0.9997 - val_loss: 0.0024 - val_accuracy: 0.9989 - lr: 1.0000e-06\n",
      "Epoch 28/100\n",
      "367/367 [==============================] - ETA: 0s - loss: 0.0023 - accuracy: 0.9996\n",
      "Epoch 28: val_accuracy did not improve from 1.00000\n",
      "367/367 [==============================] - 94s 255ms/step - loss: 0.0023 - accuracy: 0.9996 - val_loss: 0.0023 - val_accuracy: 0.9989 - lr: 1.0000e-06\n",
      "Epoch 29/100\n",
      "367/367 [==============================] - ETA: 0s - loss: 0.0029 - accuracy: 0.9992\n",
      "Epoch 29: val_accuracy did not improve from 1.00000\n",
      "367/367 [==============================] - 94s 255ms/step - loss: 0.0029 - accuracy: 0.9992 - val_loss: 0.0026 - val_accuracy: 0.9989 - lr: 1.0000e-06\n",
      "Epoch 30/100\n",
      "367/367 [==============================] - ETA: 0s - loss: 0.0021 - accuracy: 0.9993\n",
      "Epoch 30: val_accuracy did not improve from 1.00000\n",
      "\n",
      "Epoch 30: ReduceLROnPlateau reducing learning rate to 1.0000001111620805e-07.\n",
      "367/367 [==============================] - 90s 244ms/step - loss: 0.0021 - accuracy: 0.9993 - val_loss: 0.0024 - val_accuracy: 0.9989 - lr: 1.0000e-06\n",
      "Epoch 31/100\n",
      "367/367 [==============================] - ETA: 0s - loss: 0.0016 - accuracy: 0.9996\n",
      "Epoch 31: val_accuracy did not improve from 1.00000\n",
      "367/367 [==============================] - 89s 243ms/step - loss: 0.0016 - accuracy: 0.9996 - val_loss: 0.0026 - val_accuracy: 0.9989 - lr: 1.0000e-07\n",
      "Epoch 32/100\n",
      "367/367 [==============================] - ETA: 0s - loss: 0.0031 - accuracy: 0.9993\n",
      "Epoch 32: val_accuracy did not improve from 1.00000\n",
      "Restoring model weights from the end of the best epoch: 12.\n",
      "367/367 [==============================] - 107s 291ms/step - loss: 0.0031 - accuracy: 0.9993 - val_loss: 0.0024 - val_accuracy: 0.9989 - lr: 1.0000e-07\n",
      "Epoch 32: early stopping\n"
     ]
    }
   ],
   "source": [
    "# Define the number of epochs\n",
    "num_epochs = 100\n",
    "\n",
    "# Train the model\n",
    "history_DenseNet_model_2 = DenseNet_model_2.fit(train_generator, epochs=num_epochs, validation_data=validation_generator, callbacks=callbacks)"
   ]
  },
  {
   "cell_type": "code",
   "execution_count": 16,
   "metadata": {
    "colab": {
     "base_uri": "https://localhost:8080/",
     "height": 904
    },
    "id": "3f1nmwUhU2TK",
    "outputId": "4eeae789-1ce0-4270-8076-4408f23a6c51",
    "tags": []
   },
   "outputs": [
    {
     "data": {
      "text/plain": [
       "<matplotlib.legend.Legend at 0x25f4adde470>"
      ]
     },
     "execution_count": 16,
     "metadata": {},
     "output_type": "execute_result"
    },
    {
     "data": {
      "image/png": "[encoded data removed]",
      "text/plain": [
       "<Figure size 640x480 with 1 Axes>"
      ]
     },
     "metadata": {},
     "output_type": "display_data"
    },
    {
     "data": {
      "image/png": "[encoded data removed]",
      "text/plain": [
       "<Figure size 640x480 with 1 Axes>"
      ]
     },
     "metadata": {},
     "output_type": "display_data"
    }
   ],
   "source": [
    "#-----------------------------------------------------------\n",
    "# Retrieve a list of list results on training and test data\n",
    "# sets for each training epoch\n",
    "#-----------------------------------------------------------\n",
    "acc      = history_DenseNet_model_2.history['accuracy' ]\n",
    "val_acc  = history_DenseNet_model_2.history['val_accuracy' ]\n",
    "loss     = history_DenseNet_model_2.history['loss' ]\n",
    "val_loss = history_DenseNet_model_2.history['val_loss' ]\n",
    "\n",
    "epochs   = range(len(acc)) # Get number of epochs\n",
    "\n",
    "#------------------------------------------------\n",
    "# Plot training and validation accuracy per epoch\n",
    "#------------------------------------------------\n",
    "plt.plot  (epochs, acc )\n",
    "plt.plot  (epochs, val_acc )\n",
    "plt.title ('Training and validation accuracy DenseNet Model 2')\n",
    "plt.legend(['train', 'val'], loc='upper left')\n",
    "plt.figure()\n",
    "\n",
    "#------------------------------------------------\n",
    "# Plot training and validation loss per epoch\n",
    "#------------------------------------------------\n",
    "plt.plot  (epochs, loss)\n",
    "plt.plot  (epochs, val_loss)\n",
    "plt.title ('Training and validation loss DenseNet Model 2')\n",
    "plt.legend(['train', 'val'], loc='upper left')"
   ]
  }
 ],
 "metadata": {
  "accelerator": "GPU",
  "colab": {
   "gpuType": "T4",
   "provenance": []
  },
  "gpuClass": "standard",
  "kernelspec": {
   "display_name": "Python 3 (ipykernel)",
   "language": "python",
   "name": "python3"
  },
  "language_info": {
   "codemirror_mode": {
    "name": "ipython",
    "version": 3
   },
   "file_extension": ".py",
   "mimetype": "text/x-python",
   "name": "python",
   "nbconvert_exporter": "python",
   "pygments_lexer": "ipython3",
   "version": "3.10.0"
  }
 },
 "nbformat": 4,
 "nbformat_minor": 4
}
