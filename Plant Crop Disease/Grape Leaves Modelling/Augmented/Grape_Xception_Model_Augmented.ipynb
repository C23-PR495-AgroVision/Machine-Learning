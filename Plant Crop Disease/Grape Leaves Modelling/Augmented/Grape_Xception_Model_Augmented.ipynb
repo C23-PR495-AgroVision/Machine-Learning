{
  "cells": [
    {
      "cell_type": "markdown",
      "metadata": {
        "id": "hO3kEcUPU2S3"
      },
      "source": [
        "# Library"
      ]
    },
    {
      "cell_type": "code",
      "execution_count": 1,
      "metadata": {
        "colab": {
          "base_uri": "https://localhost:8080/"
        },
        "id": "kczkUjsAU2S8",
        "outputId": "9a152186-3ecf-4a28-d4f4-48fc5fe39c0e",
        "tags": []
      },
      "outputs": [
        {
          "output_type": "stream",
          "name": "stdout",
          "text": [
            "Looking in indexes: https://pypi.org/simple, https://us-python.pkg.dev/colab-wheels/public/simple/\n",
            "Requirement already satisfied: matplotlib in /usr/local/lib/python3.10/dist-packages (3.7.1)\n",
            "Requirement already satisfied: contourpy>=1.0.1 in /usr/local/lib/python3.10/dist-packages (from matplotlib) (1.0.7)\n",
            "Requirement already satisfied: cycler>=0.10 in /usr/local/lib/python3.10/dist-packages (from matplotlib) (0.11.0)\n",
            "Requirement already satisfied: fonttools>=4.22.0 in /usr/local/lib/python3.10/dist-packages (from matplotlib) (4.39.3)\n",
            "Requirement already satisfied: kiwisolver>=1.0.1 in /usr/local/lib/python3.10/dist-packages (from matplotlib) (1.4.4)\n",
            "Requirement already satisfied: numpy>=1.20 in /usr/local/lib/python3.10/dist-packages (from matplotlib) (1.22.4)\n",
            "Requirement already satisfied: packaging>=20.0 in /usr/local/lib/python3.10/dist-packages (from matplotlib) (23.1)\n",
            "Requirement already satisfied: pillow>=6.2.0 in /usr/local/lib/python3.10/dist-packages (from matplotlib) (8.4.0)\n",
            "Requirement already satisfied: pyparsing>=2.3.1 in /usr/local/lib/python3.10/dist-packages (from matplotlib) (3.0.9)\n",
            "Requirement already satisfied: python-dateutil>=2.7 in /usr/local/lib/python3.10/dist-packages (from matplotlib) (2.8.2)\n",
            "Requirement already satisfied: six>=1.5 in /usr/local/lib/python3.10/dist-packages (from python-dateutil>=2.7->matplotlib) (1.16.0)\n"
          ]
        }
      ],
      "source": [
        "pip install matplotlib"
      ]
    },
    {
      "cell_type": "code",
      "execution_count": 2,
      "metadata": {
        "colab": {
          "base_uri": "https://localhost:8080/"
        },
        "id": "oEW3Nbu7U2S_",
        "outputId": "e7f2cc64-b5a3-4bed-cea1-6710d8a9f95c",
        "tags": []
      },
      "outputs": [
        {
          "output_type": "stream",
          "name": "stdout",
          "text": [
            "Looking in indexes: https://pypi.org/simple, https://us-python.pkg.dev/colab-wheels/public/simple/\n",
            "Collecting opendatasets\n",
            "  Downloading opendatasets-0.1.22-py3-none-any.whl (15 kB)\n",
            "Requirement already satisfied: tqdm in /usr/local/lib/python3.10/dist-packages (from opendatasets) (4.65.0)\n",
            "Requirement already satisfied: kaggle in /usr/local/lib/python3.10/dist-packages (from opendatasets) (1.5.13)\n",
            "Requirement already satisfied: click in /usr/local/lib/python3.10/dist-packages (from opendatasets) (8.1.3)\n",
            "Requirement already satisfied: six>=1.10 in /usr/local/lib/python3.10/dist-packages (from kaggle->opendatasets) (1.16.0)\n",
            "Requirement already satisfied: certifi in /usr/local/lib/python3.10/dist-packages (from kaggle->opendatasets) (2022.12.7)\n",
            "Requirement already satisfied: python-dateutil in /usr/local/lib/python3.10/dist-packages (from kaggle->opendatasets) (2.8.2)\n",
            "Requirement already satisfied: requests in /usr/local/lib/python3.10/dist-packages (from kaggle->opendatasets) (2.27.1)\n",
            "Requirement already satisfied: python-slugify in /usr/local/lib/python3.10/dist-packages (from kaggle->opendatasets) (8.0.1)\n",
            "Requirement already satisfied: urllib3 in /usr/local/lib/python3.10/dist-packages (from kaggle->opendatasets) (1.26.15)\n",
            "Requirement already satisfied: text-unidecode>=1.3 in /usr/local/lib/python3.10/dist-packages (from python-slugify->kaggle->opendatasets) (1.3)\n",
            "Requirement already satisfied: charset-normalizer~=2.0.0 in /usr/local/lib/python3.10/dist-packages (from requests->kaggle->opendatasets) (2.0.12)\n",
            "Requirement already satisfied: idna<4,>=2.5 in /usr/local/lib/python3.10/dist-packages (from requests->kaggle->opendatasets) (3.4)\n",
            "Installing collected packages: opendatasets\n",
            "Successfully installed opendatasets-0.1.22\n"
          ]
        }
      ],
      "source": [
        "pip install opendatasets"
      ]
    },
    {
      "cell_type": "code",
      "execution_count": 3,
      "metadata": {
        "id": "SIHHdOB4U2TA",
        "tags": []
      },
      "outputs": [],
      "source": [
        "# Library to dataset\n",
        "import opendatasets as od\n",
        "import os\n",
        "import zipfile\n",
        "import numpy as np\n",
        "\n",
        "# Surpress Warnings\n",
        "import warnings\n",
        "warnings.filterwarnings('ignore')\n",
        "os.environ['TF_CPP_MIN_LOG_LEVEL'] = '3' \n",
        "# library visualization\n",
        "import matplotlib.pyplot as plt\n",
        "\n",
        "# Library Tensorflow\n",
        "import tensorflow as tf\n",
        "from tensorflow import keras\n",
        "from tensorflow.keras.preprocessing.image import ImageDataGenerator\n",
        "from tensorflow.keras.callbacks import ModelCheckpoint, EarlyStopping, ReduceLROnPlateau\n",
        "from tensorflow.keras.applications.densenet import DenseNet121\n",
        "from tensorflow.keras.applications.xception import Xception\n",
        "\n",
        "# Others\n",
        "import shutil\n",
        "import random"
      ]
    },
    {
      "cell_type": "markdown",
      "metadata": {
        "id": "Dy8YkYoaU2TB"
      },
      "source": [
        "# Load dataset"
      ]
    },
    {
      "cell_type": "code",
      "execution_count": 4,
      "metadata": {
        "colab": {
          "base_uri": "https://localhost:8080/"
        },
        "id": "TWOf7hZ1U2TC",
        "outputId": "d6e8668b-5cd3-4f13-96e5-34e043ca86fa",
        "tags": []
      },
      "outputs": [
        {
          "output_type": "stream",
          "name": "stdout",
          "text": [
            "Please provide your Kaggle credentials to download this dataset. Learn more: http://bit.ly/kaggle-creds\n",
            "Your Kaggle username: ahmadhabibhasanzein\n",
            "Your Kaggle Key: ··········\n",
            "Downloading grape-leaves.zip to ./grape-leaves\n"
          ]
        },
        {
          "output_type": "stream",
          "name": "stderr",
          "text": [
            "100%|██████████| 223M/223M [00:08<00:00, 29.1MB/s]\n"
          ]
        },
        {
          "output_type": "stream",
          "name": "stdout",
          "text": [
            "\n"
          ]
        }
      ],
      "source": [
        "# Download dataset\n",
        "od.download('https://www.kaggle.com/datasets/ahmadhabibhasanzein/grape-leaves')"
      ]
    },
    {
      "cell_type": "code",
      "execution_count": 5,
      "metadata": {
        "colab": {
          "base_uri": "https://localhost:8080/"
        },
        "id": "8ZAjREJ0U2TC",
        "outputId": "8e29f9fc-133a-468e-b973-2421f3dfb836",
        "tags": []
      },
      "outputs": [
        {
          "output_type": "stream",
          "name": "stdout",
          "text": [
            "==========================Training Data====================\n",
            "Found 7335 files belonging to 4 classes.\n",
            "==========================Validation Data====================\n",
            "Found 1825 files belonging to 4 classes.\n"
          ]
        }
      ],
      "source": [
        "# Load dataset\n",
        "print(\"==========================Training Data====================\")\n",
        "train_data = tf.keras.preprocessing.image_dataset_from_directory(\n",
        "    \"/content/grape-leaves/grape/train\",\n",
        "    label_mode=\"categorical\",\n",
        "    class_names=['Grape Esca (Black_Measles)','Grape Leaf blight (Isariopsis_Leaf_Spot)','grape leaf Healthy','grape leaf black rot'],\n",
        "    color_mode=\"rgb\",\n",
        "    batch_size=1,\n",
        "    image_size=(256, 256),\n",
        "    shuffle=True,\n",
        "    seed=123\n",
        ")\n",
        "print(\"==========================Validation Data====================\")\n",
        "val_data = tf.keras.preprocessing.image_dataset_from_directory(\n",
        "    \"/content/grape-leaves/grape/valid\",\n",
        "    label_mode=\"categorical\",\n",
        "    class_names=['Grape Esca (Black_Measles)','Grape Leaf blight (Isariopsis_Leaf_Spot)','grape leaf Healthy','grape leaf black rot'],\n",
        "    color_mode=\"rgb\",\n",
        "    batch_size=1,\n",
        "    image_size=(256, 256),\n",
        "    shuffle=True,\n",
        "    seed=123\n",
        ")"
      ]
    },
    {
      "cell_type": "code",
      "execution_count": 6,
      "metadata": {
        "colab": {
          "base_uri": "https://localhost:8080/"
        },
        "id": "vEPzd1egU2TD",
        "outputId": "ad5e6dda-f323-4d57-db64-cad0c747aac6",
        "tags": []
      },
      "outputs": [
        {
          "output_type": "stream",
          "name": "stdout",
          "text": [
            "Found 7335 images belonging to 4 classes.\n",
            "Found 1825 images belonging to 4 classes.\n"
          ]
        }
      ],
      "source": [
        "# All images will be rescaled by 1./255.and augmented\n",
        "train_datagen = ImageDataGenerator(rescale = 1.0/256.,\n",
        "                                   rotation_range=40,\n",
        "                                   width_shift_range=0.2,\n",
        "                                   height_shift_range=0.2,\n",
        "                                   shear_range=0.2,\n",
        "                                   zoom_range=0.2,\n",
        "                                   horizontal_flip=True,\n",
        "                                   fill_mode='nearest')\n",
        "\n",
        "test_datagen  = ImageDataGenerator(rescale = 1.0/256.)\n",
        "\n",
        "# --------------------\n",
        "# Flow training images in batches of 20 using train_datagen generator\n",
        "# --------------------\n",
        "train_generator = train_datagen.flow_from_directory(\"/content/grape-leaves/grape/train\",\n",
        "                                                    batch_size=20,\n",
        "                                                    class_mode='categorical',\n",
        "                                                    target_size=(224, 224))     \n",
        "# --------------------\n",
        "# Flow validation images in batches of 20 using test_datagen generator\n",
        "# --------------------\n",
        "validation_generator =  test_datagen.flow_from_directory(\"/content/grape-leaves/grape/valid\",\n",
        "                                                         batch_size=20,\n",
        "                                                         class_mode  = 'categorical',\n",
        "                                                         target_size = (224, 224))"
      ]
    },
    {
      "cell_type": "markdown",
      "metadata": {
        "id": "_3jaO5YgU2TE"
      },
      "source": [
        "# List Resource"
      ]
    },
    {
      "cell_type": "code",
      "execution_count": 7,
      "metadata": {
        "colab": {
          "base_uri": "https://localhost:8080/"
        },
        "id": "SGemCaxnU2TF",
        "outputId": "4741e410-8014-4a46-8e54-6acba9c0e74f",
        "tags": []
      },
      "outputs": [
        {
          "output_type": "stream",
          "name": "stdout",
          "text": [
            "Mon May 29 06:36:55 2023       \n",
            "+-----------------------------------------------------------------------------+\n",
            "| NVIDIA-SMI 525.85.12    Driver Version: 525.85.12    CUDA Version: 12.0     |\n",
            "|-------------------------------+----------------------+----------------------+\n",
            "| GPU  Name        Persistence-M| Bus-Id        Disp.A | Volatile Uncorr. ECC |\n",
            "| Fan  Temp  Perf  Pwr:Usage/Cap|         Memory-Usage | GPU-Util  Compute M. |\n",
            "|                               |                      |               MIG M. |\n",
            "|===============================+======================+======================|\n",
            "|   0  Tesla T4            Off  | 00000000:00:04.0 Off |                    0 |\n",
            "| N/A   45C    P0    27W /  70W |    389MiB / 15360MiB |      0%      Default |\n",
            "|                               |                      |                  N/A |\n",
            "+-------------------------------+----------------------+----------------------+\n",
            "                                                                               \n",
            "+-----------------------------------------------------------------------------+\n",
            "| Processes:                                                                  |\n",
            "|  GPU   GI   CI        PID   Type   Process name                  GPU Memory |\n",
            "|        ID   ID                                                   Usage      |\n",
            "|=============================================================================|\n",
            "+-----------------------------------------------------------------------------+\n"
          ]
        }
      ],
      "source": [
        "# Check GPU\n",
        "!nvidia-smi"
      ]
    },
    {
      "cell_type": "code",
      "execution_count": 8,
      "metadata": {
        "colab": {
          "base_uri": "https://localhost:8080/"
        },
        "id": "FSapZ74PU2TF",
        "outputId": "fc58df67-675a-4156-c45c-e4bdf478869e",
        "tags": []
      },
      "outputs": [
        {
          "output_type": "execute_result",
          "data": {
            "text/plain": [
              "[PhysicalDevice(name='/physical_device:GPU:0', device_type='GPU')]"
            ]
          },
          "metadata": {},
          "execution_count": 8
        }
      ],
      "source": [
        "# Lis physical devices\n",
        "devices = tf.config.experimental.list_physical_devices(\"GPU\")\n",
        "devices"
      ]
    },
    {
      "cell_type": "code",
      "execution_count": 9,
      "metadata": {
        "id": "A8WtBtBaU2TG",
        "tags": []
      },
      "outputs": [],
      "source": [
        "# Define the GPU strategy\n",
        "mirrored_strategy = tf.distribute.MirroredStrategy(devices=[\"/gpu:0\"])"
      ]
    },
    {
      "cell_type": "markdown",
      "metadata": {
        "id": "Vqr_uGTNU2TG"
      },
      "source": [
        "# Modelling With Augmentation"
      ]
    },
    {
      "cell_type": "markdown",
      "metadata": {
        "id": "w4Wzh6ZyU2TH"
      },
      "source": [
        "## Xception Model 1"
      ]
    },
    {
      "cell_type": "code",
      "execution_count": 10,
      "metadata": {
        "id": "uUqYGBfRU2TH",
        "tags": []
      },
      "outputs": [],
      "source": [
        "# Difine the callbacks\n",
        "# Save the best model\n",
        "checkpoint_callback = ModelCheckpoint(filepath=\"Grape_Xception_model1_Based_Augmented.h5\", save_best_only=True, monitor=\"val_accuracy\", mode=\"max\", verbose=1)\n",
        "\n",
        "# Early stopping\n",
        "early_stopping_callback = EarlyStopping(monitor=\"val_accuracy\", mode=\"max\", patience=20, verbose=1, restore_best_weights=True)\n",
        "\n",
        "# Reduce learning rate\n",
        "reduce_lr_callback = ReduceLROnPlateau(monitor=\"val_loss\", factor=0.1, patience=5, verbose=1, mode=\"min\", min_delta=0.0001, cooldown=0, min_lr=0)\n",
        "\n",
        "# Callbacks list\n",
        "callbacks=[checkpoint_callback, early_stopping_callback, reduce_lr_callback]"
      ]
    },
    {
      "cell_type": "code",
      "execution_count": 11,
      "metadata": {
        "colab": {
          "base_uri": "https://localhost:8080/"
        },
        "id": "BQHFs3gSU2TI",
        "outputId": "d8a749c3-56bb-4005-e273-c7459b9d990d",
        "tags": []
      },
      "outputs": [
        {
          "output_type": "stream",
          "name": "stdout",
          "text": [
            "Downloading data from https://storage.googleapis.com/tensorflow/keras-applications/xception/xception_weights_tf_dim_ordering_tf_kernels_notop.h5\n",
            "83683744/83683744 [==============================] - 3s 0us/step\n",
            "Model: \"sequential\"\n",
            "_________________________________________________________________\n",
            " Layer (type)                Output Shape              Param #   \n",
            "=================================================================\n",
            " xception (Functional)       (None, 7, 7, 2048)        20861480  \n",
            "                                                                 \n",
            " global_max_pooling2d (Globa  (None, 2048)             0         \n",
            " lMaxPooling2D)                                                  \n",
            "                                                                 \n",
            " dropout (Dropout)           (None, 2048)              0         \n",
            "                                                                 \n",
            " dense (Dense)               (None, 256)               524544    \n",
            "                                                                 \n",
            " dense_1 (Dense)             (None, 4)                 1028      \n",
            "                                                                 \n",
            "=================================================================\n",
            "Total params: 21,387,052\n",
            "Trainable params: 21,332,524\n",
            "Non-trainable params: 54,528\n",
            "_________________________________________________________________\n"
          ]
        }
      ],
      "source": [
        "# Define DIY Model\n",
        "Xception_model = tf.keras.models.Sequential([\n",
        "    # Xception121 Layer\n",
        "    Xception(include_top=False,weights='imagenet',input_shape=(224, 224, 3)),\n",
        "    # Global Max Pooling Layer\n",
        "    tf.keras.layers.GlobalMaxPooling2D(),\n",
        "    # Drop Out Layer\n",
        "    tf.keras.layers.Dropout(0.2),\n",
        "    # 256 neuron hidden layer\n",
        "    tf.keras.layers.Dense(256, activation='relu'),\n",
        "    # Output\n",
        "    tf.keras.layers.Dense(4, activation='softmax') \n",
        "  ])\n",
        "\n",
        "\n",
        "# Compile Model\n",
        "Xception_model.compile(loss='categorical_crossentropy',optimizer=tf.keras.optimizers.Adam(), metrics=['accuracy']) \n",
        "\n",
        "# Model Summary\n",
        "Xception_model.summary()"
      ]
    },
    {
      "cell_type": "code",
      "execution_count": 12,
      "metadata": {
        "colab": {
          "base_uri": "https://localhost:8080/"
        },
        "id": "6coN3TKhU2TI",
        "outputId": "680173a6-8780-46bc-ed6c-c271cc332c9f",
        "tags": []
      },
      "outputs": [
        {
          "output_type": "stream",
          "name": "stdout",
          "text": [
            "Epoch 1/100\n",
            "367/367 [==============================] - ETA: 0s - loss: 0.2871 - accuracy: 0.9178\n",
            "Epoch 1: val_accuracy improved from -inf to 0.89425, saving model to Grape_Xception_model1_Based_Augmented.h5\n",
            "367/367 [==============================] - 198s 421ms/step - loss: 0.2871 - accuracy: 0.9178 - val_loss: 3.7156 - val_accuracy: 0.8942 - lr: 0.0010\n",
            "Epoch 2/100\n",
            "367/367 [==============================] - ETA: 0s - loss: 0.1086 - accuracy: 0.9707\n",
            "Epoch 2: val_accuracy improved from 0.89425 to 0.98575, saving model to Grape_Xception_model1_Based_Augmented.h5\n",
            "367/367 [==============================] - 149s 405ms/step - loss: 0.1086 - accuracy: 0.9707 - val_loss: 0.0513 - val_accuracy: 0.9858 - lr: 0.0010\n",
            "Epoch 3/100\n",
            "367/367 [==============================] - ETA: 0s - loss: 0.1094 - accuracy: 0.9736\n",
            "Epoch 3: val_accuracy improved from 0.98575 to 0.98740, saving model to Grape_Xception_model1_Based_Augmented.h5\n",
            "367/367 [==============================] - 144s 392ms/step - loss: 0.1094 - accuracy: 0.9736 - val_loss: 0.0443 - val_accuracy: 0.9874 - lr: 0.0010\n",
            "Epoch 4/100\n",
            "367/367 [==============================] - ETA: 0s - loss: 0.0492 - accuracy: 0.9866\n",
            "Epoch 4: val_accuracy improved from 0.98740 to 0.99178, saving model to Grape_Xception_model1_Based_Augmented.h5\n",
            "367/367 [==============================] - 145s 396ms/step - loss: 0.0492 - accuracy: 0.9866 - val_loss: 0.0475 - val_accuracy: 0.9918 - lr: 0.0010\n",
            "Epoch 5/100\n",
            "367/367 [==============================] - ETA: 0s - loss: 0.0695 - accuracy: 0.9855\n",
            "Epoch 5: val_accuracy did not improve from 0.99178\n",
            "367/367 [==============================] - 142s 387ms/step - loss: 0.0695 - accuracy: 0.9855 - val_loss: 3.2707 - val_accuracy: 0.7096 - lr: 0.0010\n",
            "Epoch 6/100\n",
            "367/367 [==============================] - ETA: 0s - loss: 0.0615 - accuracy: 0.9832\n",
            "Epoch 6: val_accuracy did not improve from 0.99178\n",
            "367/367 [==============================] - 144s 392ms/step - loss: 0.0615 - accuracy: 0.9832 - val_loss: 0.0901 - val_accuracy: 0.9715 - lr: 0.0010\n",
            "Epoch 7/100\n",
            "367/367 [==============================] - ETA: 0s - loss: 0.0481 - accuracy: 0.9872\n",
            "Epoch 7: val_accuracy improved from 0.99178 to 0.99452, saving model to Grape_Xception_model1_Based_Augmented.h5\n",
            "367/367 [==============================] - 149s 404ms/step - loss: 0.0481 - accuracy: 0.9872 - val_loss: 0.0263 - val_accuracy: 0.9945 - lr: 0.0010\n",
            "Epoch 8/100\n",
            "367/367 [==============================] - ETA: 0s - loss: 0.0502 - accuracy: 0.9876\n",
            "Epoch 8: val_accuracy did not improve from 0.99452\n",
            "367/367 [==============================] - 143s 387ms/step - loss: 0.0502 - accuracy: 0.9876 - val_loss: 0.0888 - val_accuracy: 0.9858 - lr: 0.0010\n",
            "Epoch 9/100\n",
            "367/367 [==============================] - ETA: 0s - loss: 0.0507 - accuracy: 0.9857\n",
            "Epoch 9: val_accuracy did not improve from 0.99452\n",
            "367/367 [==============================] - 142s 387ms/step - loss: 0.0507 - accuracy: 0.9857 - val_loss: 0.2159 - val_accuracy: 0.9266 - lr: 0.0010\n",
            "Epoch 10/100\n",
            "367/367 [==============================] - ETA: 0s - loss: 0.0471 - accuracy: 0.9872\n",
            "Epoch 10: val_accuracy did not improve from 0.99452\n",
            "367/367 [==============================] - 143s 390ms/step - loss: 0.0471 - accuracy: 0.9872 - val_loss: 0.1221 - val_accuracy: 0.9737 - lr: 0.0010\n",
            "Epoch 11/100\n",
            "367/367 [==============================] - ETA: 0s - loss: 0.0560 - accuracy: 0.9870\n",
            "Epoch 11: val_accuracy did not improve from 0.99452\n",
            "367/367 [==============================] - 142s 388ms/step - loss: 0.0560 - accuracy: 0.9870 - val_loss: 1.4020 - val_accuracy: 0.7633 - lr: 0.0010\n",
            "Epoch 12/100\n",
            "367/367 [==============================] - ETA: 0s - loss: 0.0358 - accuracy: 0.9887\n",
            "Epoch 12: val_accuracy improved from 0.99452 to 0.99616, saving model to Grape_Xception_model1_Based_Augmented.h5\n",
            "367/367 [==============================] - 149s 405ms/step - loss: 0.0358 - accuracy: 0.9887 - val_loss: 0.0107 - val_accuracy: 0.9962 - lr: 0.0010\n",
            "Epoch 13/100\n",
            "367/367 [==============================] - ETA: 0s - loss: 0.0292 - accuracy: 0.9914\n",
            "Epoch 13: val_accuracy did not improve from 0.99616\n",
            "367/367 [==============================] - 143s 389ms/step - loss: 0.0292 - accuracy: 0.9914 - val_loss: 0.0142 - val_accuracy: 0.9956 - lr: 0.0010\n",
            "Epoch 14/100\n",
            "367/367 [==============================] - ETA: 0s - loss: 0.0280 - accuracy: 0.9911\n",
            "Epoch 14: val_accuracy did not improve from 0.99616\n",
            "367/367 [==============================] - 143s 388ms/step - loss: 0.0280 - accuracy: 0.9911 - val_loss: 0.0480 - val_accuracy: 0.9896 - lr: 0.0010\n",
            "Epoch 15/100\n",
            "367/367 [==============================] - ETA: 0s - loss: 0.0223 - accuracy: 0.9939\n",
            "Epoch 15: val_accuracy did not improve from 0.99616\n",
            "367/367 [==============================] - 143s 390ms/step - loss: 0.0223 - accuracy: 0.9939 - val_loss: 0.0184 - val_accuracy: 0.9951 - lr: 0.0010\n",
            "Epoch 16/100\n",
            "367/367 [==============================] - ETA: 0s - loss: 0.0305 - accuracy: 0.9907\n",
            "Epoch 16: val_accuracy did not improve from 0.99616\n",
            "367/367 [==============================] - 143s 388ms/step - loss: 0.0305 - accuracy: 0.9907 - val_loss: 0.0430 - val_accuracy: 0.9923 - lr: 0.0010\n",
            "Epoch 17/100\n",
            "367/367 [==============================] - ETA: 0s - loss: 0.0297 - accuracy: 0.9913\n",
            "Epoch 17: val_accuracy did not improve from 0.99616\n",
            "\n",
            "Epoch 17: ReduceLROnPlateau reducing learning rate to 0.00010000000474974513.\n",
            "367/367 [==============================] - 142s 386ms/step - loss: 0.0297 - accuracy: 0.9913 - val_loss: 0.0246 - val_accuracy: 0.9940 - lr: 0.0010\n",
            "Epoch 18/100\n",
            "367/367 [==============================] - ETA: 0s - loss: 0.0152 - accuracy: 0.9954\n",
            "Epoch 18: val_accuracy improved from 0.99616 to 0.99726, saving model to Grape_Xception_model1_Based_Augmented.h5\n",
            "367/367 [==============================] - 145s 396ms/step - loss: 0.0152 - accuracy: 0.9954 - val_loss: 0.0080 - val_accuracy: 0.9973 - lr: 1.0000e-04\n",
            "Epoch 19/100\n",
            "367/367 [==============================] - ETA: 0s - loss: 0.0075 - accuracy: 0.9980\n",
            "Epoch 19: val_accuracy improved from 0.99726 to 0.99781, saving model to Grape_Xception_model1_Based_Augmented.h5\n",
            "367/367 [==============================] - 144s 391ms/step - loss: 0.0075 - accuracy: 0.9980 - val_loss: 0.0078 - val_accuracy: 0.9978 - lr: 1.0000e-04\n",
            "Epoch 20/100\n",
            "367/367 [==============================] - ETA: 0s - loss: 0.0060 - accuracy: 0.9981\n",
            "Epoch 20: val_accuracy did not improve from 0.99781\n",
            "367/367 [==============================] - 144s 391ms/step - loss: 0.0060 - accuracy: 0.9981 - val_loss: 0.0069 - val_accuracy: 0.9978 - lr: 1.0000e-04\n",
            "Epoch 21/100\n",
            "367/367 [==============================] - ETA: 0s - loss: 0.0063 - accuracy: 0.9973\n",
            "Epoch 21: val_accuracy did not improve from 0.99781\n",
            "367/367 [==============================] - 142s 388ms/step - loss: 0.0063 - accuracy: 0.9973 - val_loss: 0.0062 - val_accuracy: 0.9978 - lr: 1.0000e-04\n",
            "Epoch 22/100\n",
            "367/367 [==============================] - ETA: 0s - loss: 0.0054 - accuracy: 0.9985\n",
            "Epoch 22: val_accuracy improved from 0.99781 to 0.99836, saving model to Grape_Xception_model1_Based_Augmented.h5\n",
            "367/367 [==============================] - 145s 394ms/step - loss: 0.0054 - accuracy: 0.9985 - val_loss: 0.0051 - val_accuracy: 0.9984 - lr: 1.0000e-04\n",
            "Epoch 23/100\n",
            "367/367 [==============================] - ETA: 0s - loss: 0.0064 - accuracy: 0.9977\n",
            "Epoch 23: val_accuracy did not improve from 0.99836\n",
            "367/367 [==============================] - 143s 388ms/step - loss: 0.0064 - accuracy: 0.9977 - val_loss: 0.0041 - val_accuracy: 0.9978 - lr: 1.0000e-04\n",
            "Epoch 24/100\n",
            "367/367 [==============================] - ETA: 0s - loss: 0.0028 - accuracy: 0.9990\n",
            "Epoch 24: val_accuracy improved from 0.99836 to 0.99890, saving model to Grape_Xception_model1_Based_Augmented.h5\n",
            "367/367 [==============================] - 148s 401ms/step - loss: 0.0028 - accuracy: 0.9990 - val_loss: 0.0030 - val_accuracy: 0.9989 - lr: 1.0000e-04\n",
            "Epoch 25/100\n",
            "367/367 [==============================] - ETA: 0s - loss: 0.0051 - accuracy: 0.9988\n",
            "Epoch 25: val_accuracy did not improve from 0.99890\n",
            "367/367 [==============================] - 144s 392ms/step - loss: 0.0051 - accuracy: 0.9988 - val_loss: 0.0050 - val_accuracy: 0.9984 - lr: 1.0000e-04\n",
            "Epoch 26/100\n",
            "367/367 [==============================] - ETA: 0s - loss: 0.0053 - accuracy: 0.9977\n",
            "Epoch 26: val_accuracy did not improve from 0.99890\n",
            "367/367 [==============================] - 142s 385ms/step - loss: 0.0053 - accuracy: 0.9977 - val_loss: 0.0041 - val_accuracy: 0.9978 - lr: 1.0000e-04\n",
            "Epoch 27/100\n",
            "367/367 [==============================] - ETA: 0s - loss: 0.0034 - accuracy: 0.9988\n",
            "Epoch 27: val_accuracy did not improve from 0.99890\n",
            "367/367 [==============================] - 142s 387ms/step - loss: 0.0034 - accuracy: 0.9988 - val_loss: 0.0024 - val_accuracy: 0.9989 - lr: 1.0000e-04\n",
            "Epoch 28/100\n",
            "367/367 [==============================] - ETA: 0s - loss: 0.0023 - accuracy: 0.9996\n",
            "Epoch 28: val_accuracy improved from 0.99890 to 0.99945, saving model to Grape_Xception_model1_Based_Augmented.h5\n",
            "367/367 [==============================] - 145s 394ms/step - loss: 0.0023 - accuracy: 0.9996 - val_loss: 0.0023 - val_accuracy: 0.9995 - lr: 1.0000e-04\n",
            "Epoch 29/100\n",
            "367/367 [==============================] - ETA: 0s - loss: 0.0023 - accuracy: 0.9992\n",
            "Epoch 29: val_accuracy did not improve from 0.99945\n",
            "367/367 [==============================] - 142s 386ms/step - loss: 0.0023 - accuracy: 0.9992 - val_loss: 0.0036 - val_accuracy: 0.9989 - lr: 1.0000e-04\n",
            "Epoch 30/100\n",
            "367/367 [==============================] - ETA: 0s - loss: 0.0026 - accuracy: 0.9993\n",
            "Epoch 30: val_accuracy did not improve from 0.99945\n",
            "367/367 [==============================] - 143s 389ms/step - loss: 0.0026 - accuracy: 0.9993 - val_loss: 0.0031 - val_accuracy: 0.9989 - lr: 1.0000e-04\n",
            "Epoch 31/100\n",
            "367/367 [==============================] - ETA: 0s - loss: 0.0016 - accuracy: 0.9996\n",
            "Epoch 31: val_accuracy did not improve from 0.99945\n",
            "367/367 [==============================] - 143s 389ms/step - loss: 0.0016 - accuracy: 0.9996 - val_loss: 0.0080 - val_accuracy: 0.9973 - lr: 1.0000e-04\n",
            "Epoch 32/100\n",
            "367/367 [==============================] - ETA: 0s - loss: 0.0032 - accuracy: 0.9993\n",
            "Epoch 32: val_accuracy did not improve from 0.99945\n",
            "\n",
            "Epoch 32: ReduceLROnPlateau reducing learning rate to 1.0000000474974514e-05.\n",
            "367/367 [==============================] - 143s 390ms/step - loss: 0.0032 - accuracy: 0.9993 - val_loss: 0.0028 - val_accuracy: 0.9989 - lr: 1.0000e-04\n",
            "Epoch 33/100\n",
            "367/367 [==============================] - ETA: 0s - loss: 0.0019 - accuracy: 0.9996\n",
            "Epoch 33: val_accuracy did not improve from 0.99945\n",
            "367/367 [==============================] - 145s 396ms/step - loss: 0.0019 - accuracy: 0.9996 - val_loss: 0.0027 - val_accuracy: 0.9989 - lr: 1.0000e-05\n",
            "Epoch 34/100\n",
            "367/367 [==============================] - ETA: 0s - loss: 0.0016 - accuracy: 0.9995\n",
            "Epoch 34: val_accuracy did not improve from 0.99945\n",
            "367/367 [==============================] - 142s 385ms/step - loss: 0.0016 - accuracy: 0.9995 - val_loss: 0.0019 - val_accuracy: 0.9989 - lr: 1.0000e-05\n",
            "Epoch 35/100\n",
            "367/367 [==============================] - ETA: 0s - loss: 7.2603e-04 - accuracy: 0.9997\n",
            "Epoch 35: val_accuracy did not improve from 0.99945\n",
            "367/367 [==============================] - 143s 388ms/step - loss: 7.2603e-04 - accuracy: 0.9997 - val_loss: 0.0020 - val_accuracy: 0.9989 - lr: 1.0000e-05\n",
            "Epoch 36/100\n",
            "367/367 [==============================] - ETA: 0s - loss: 5.4544e-04 - accuracy: 1.0000\n",
            "Epoch 36: val_accuracy did not improve from 0.99945\n",
            "367/367 [==============================] - 146s 398ms/step - loss: 5.4544e-04 - accuracy: 1.0000 - val_loss: 0.0022 - val_accuracy: 0.9989 - lr: 1.0000e-05\n",
            "Epoch 37/100\n",
            "367/367 [==============================] - ETA: 0s - loss: 0.0025 - accuracy: 0.9993\n",
            "Epoch 37: val_accuracy did not improve from 0.99945\n",
            "367/367 [==============================] - 143s 389ms/step - loss: 0.0025 - accuracy: 0.9993 - val_loss: 0.0019 - val_accuracy: 0.9989 - lr: 1.0000e-05\n",
            "Epoch 38/100\n",
            "367/367 [==============================] - ETA: 0s - loss: 0.0015 - accuracy: 0.9995\n",
            "Epoch 38: val_accuracy did not improve from 0.99945\n",
            "367/367 [==============================] - 146s 398ms/step - loss: 0.0015 - accuracy: 0.9995 - val_loss: 0.0018 - val_accuracy: 0.9989 - lr: 1.0000e-05\n",
            "Epoch 39/100\n",
            "367/367 [==============================] - ETA: 0s - loss: 8.9611e-04 - accuracy: 0.9997\n",
            "Epoch 39: val_accuracy did not improve from 0.99945\n",
            "367/367 [==============================] - 145s 394ms/step - loss: 8.9611e-04 - accuracy: 0.9997 - val_loss: 0.0019 - val_accuracy: 0.9989 - lr: 1.0000e-05\n",
            "Epoch 40/100\n",
            "367/367 [==============================] - ETA: 0s - loss: 0.0020 - accuracy: 0.9995\n",
            "Epoch 40: val_accuracy did not improve from 0.99945\n",
            "367/367 [==============================] - 145s 395ms/step - loss: 0.0020 - accuracy: 0.9995 - val_loss: 0.0028 - val_accuracy: 0.9989 - lr: 1.0000e-05\n",
            "Epoch 41/100\n",
            "367/367 [==============================] - ETA: 0s - loss: 0.0011 - accuracy: 0.9997\n",
            "Epoch 41: val_accuracy did not improve from 0.99945\n",
            "367/367 [==============================] - 143s 388ms/step - loss: 0.0011 - accuracy: 0.9997 - val_loss: 0.0022 - val_accuracy: 0.9989 - lr: 1.0000e-05\n",
            "Epoch 42/100\n",
            "367/367 [==============================] - ETA: 0s - loss: 0.0014 - accuracy: 0.9996\n",
            "Epoch 42: val_accuracy did not improve from 0.99945\n",
            "367/367 [==============================] - 142s 388ms/step - loss: 0.0014 - accuracy: 0.9996 - val_loss: 0.0015 - val_accuracy: 0.9989 - lr: 1.0000e-05\n",
            "Epoch 43/100\n",
            "367/367 [==============================] - ETA: 0s - loss: 0.0014 - accuracy: 0.9996\n",
            "Epoch 43: val_accuracy did not improve from 0.99945\n",
            "367/367 [==============================] - 143s 390ms/step - loss: 0.0014 - accuracy: 0.9996 - val_loss: 0.0013 - val_accuracy: 0.9989 - lr: 1.0000e-05\n",
            "Epoch 44/100\n",
            "367/367 [==============================] - ETA: 0s - loss: 0.0014 - accuracy: 0.9995\n",
            "Epoch 44: val_accuracy did not improve from 0.99945\n",
            "367/367 [==============================] - 142s 385ms/step - loss: 0.0014 - accuracy: 0.9995 - val_loss: 0.0012 - val_accuracy: 0.9989 - lr: 1.0000e-05\n",
            "Epoch 45/100\n",
            "367/367 [==============================] - ETA: 0s - loss: 0.0010 - accuracy: 0.9997\n",
            "Epoch 45: val_accuracy did not improve from 0.99945\n",
            "367/367 [==============================] - 141s 383ms/step - loss: 0.0010 - accuracy: 0.9997 - val_loss: 0.0015 - val_accuracy: 0.9989 - lr: 1.0000e-05\n",
            "Epoch 46/100\n",
            "367/367 [==============================] - ETA: 0s - loss: 0.0016 - accuracy: 0.9995\n",
            "Epoch 46: val_accuracy did not improve from 0.99945\n",
            "367/367 [==============================] - 141s 385ms/step - loss: 0.0016 - accuracy: 0.9995 - val_loss: 0.0011 - val_accuracy: 0.9995 - lr: 1.0000e-05\n",
            "Epoch 47/100\n",
            "367/367 [==============================] - ETA: 0s - loss: 0.0012 - accuracy: 0.9992\n",
            "Epoch 47: val_accuracy did not improve from 0.99945\n",
            "367/367 [==============================] - 142s 385ms/step - loss: 0.0012 - accuracy: 0.9992 - val_loss: 0.0015 - val_accuracy: 0.9989 - lr: 1.0000e-05\n",
            "Epoch 48/100\n",
            "367/367 [==============================] - ETA: 0s - loss: 8.3405e-04 - accuracy: 0.9999\n",
            "Epoch 48: val_accuracy did not improve from 0.99945\n",
            "Restoring model weights from the end of the best epoch: 28.\n",
            "367/367 [==============================] - 145s 394ms/step - loss: 8.3405e-04 - accuracy: 0.9999 - val_loss: 0.0010 - val_accuracy: 0.9995 - lr: 1.0000e-05\n",
            "Epoch 48: early stopping\n"
          ]
        }
      ],
      "source": [
        "# Define the number of epochs\n",
        "num_epochs = 100\n",
        "\n",
        "# Train the model\n",
        "history_Xception_model_1 = Xception_model.fit(train_generator, epochs=num_epochs, validation_data=validation_generator, callbacks=callbacks)"
      ]
    },
    {
      "cell_type": "code",
      "execution_count": 13,
      "metadata": {
        "id": "lvS9xz3LU2TI",
        "tags": [],
        "colab": {
          "base_uri": "https://localhost:8080/",
          "height": 904
        },
        "outputId": "727e73b2-2c94-4bbf-e7d3-8ea1f07fe497"
      },
      "outputs": [
        {
          "output_type": "execute_result",
          "data": {
            "text/plain": [
              "<matplotlib.legend.Legend at 0x7f7ab23ce890>"
            ]
          },
          "metadata": {},
          "execution_count": 13
        },
        {
          "output_type": "display_data",
          "data": {
            "text/plain": [
              "<Figure size 640x480 with 1 Axes>"
            ],
            "image/png": "[encoded data removed]"
          },
          "metadata": {}
        },
        {
          "output_type": "display_data",
          "data": {
            "text/plain": [
              "<Figure size 640x480 with 1 Axes>"
            ],
            "image/png": "[encoded data removed]"
          },
          "metadata": {}
        }
      ],
      "source": [
        "#-----------------------------------------------------------\n",
        "# Retrieve a list of list results on training and test data\n",
        "# sets for each training epoch\n",
        "#-----------------------------------------------------------\n",
        "acc      = history_Xception_model_1.history['accuracy' ]\n",
        "val_acc  = history_Xception_model_1.history['val_accuracy' ]\n",
        "loss     = history_Xception_model_1.history['loss' ]\n",
        "val_loss = history_Xception_model_1.history['val_loss' ]\n",
        "\n",
        "epochs   = range(len(acc)) # Get number of epochs\n",
        "\n",
        "#------------------------------------------------\n",
        "# Plot training and validation accuracy per epoch\n",
        "#------------------------------------------------\n",
        "plt.plot  (epochs, acc )\n",
        "plt.plot  (epochs, val_acc )\n",
        "plt.title ('Training and validation accuracy Xception Model Augmented 1')\n",
        "plt.legend(['train', 'val'], loc='upper left')\n",
        "plt.figure()\n",
        "\n",
        "#------------------------------------------------\n",
        "# Plot training and validation loss per epoch\n",
        "#------------------------------------------------\n",
        "plt.plot  (epochs, loss)\n",
        "plt.plot  (epochs, val_loss)\n",
        "plt.title ('Training and validation loss Xception Model Augmented 1')\n",
        "plt.legend(['train', 'val'], loc='upper left')"
      ]
    },
    {
      "cell_type": "markdown",
      "metadata": {
        "id": "SvQOR9IuU2TJ"
      },
      "source": [
        "## Xception Model 2"
      ]
    },
    {
      "cell_type": "code",
      "execution_count": 14,
      "metadata": {
        "id": "Tj7lcdvUU2TJ",
        "tags": []
      },
      "outputs": [],
      "source": [
        "# Difine the callbacks\n",
        "# Save the best model\n",
        "checkpoint_callback = ModelCheckpoint(filepath=\"Grape_Xception_model2_Based_Augmented.h5\", save_best_only=True, monitor=\"val_accuracy\", mode=\"max\", verbose=1)\n",
        "\n",
        "# Early stopping\n",
        "early_stopping_callback = EarlyStopping(monitor=\"val_accuracy\", mode=\"max\", patience=20, verbose=1, restore_best_weights=True)\n",
        "\n",
        "# Reduce learning rate\n",
        "reduce_lr_callback = ReduceLROnPlateau(monitor=\"val_loss\", factor=0.1, patience=5, verbose=1, mode=\"min\", min_delta=0.0001, cooldown=0, min_lr=0)\n",
        "\n",
        "# Callbacks list\n",
        "callbacks=[checkpoint_callback, early_stopping_callback, reduce_lr_callback]"
      ]
    },
    {
      "cell_type": "code",
      "execution_count": 15,
      "metadata": {
        "id": "7NKPY1xGU2TJ",
        "tags": [],
        "colab": {
          "base_uri": "https://localhost:8080/"
        },
        "outputId": "c1c44cf5-f4f8-4368-a1eb-0b372c56080d"
      },
      "outputs": [
        {
          "output_type": "stream",
          "name": "stdout",
          "text": [
            "Model: \"sequential_1\"\n",
            "_________________________________________________________________\n",
            " Layer (type)                Output Shape              Param #   \n",
            "=================================================================\n",
            " xception (Functional)       (None, 7, 7, 2048)        20861480  \n",
            "                                                                 \n",
            " global_average_pooling2d (G  (None, 2048)             0         \n",
            " lobalAveragePooling2D)                                          \n",
            "                                                                 \n",
            " dropout_1 (Dropout)         (None, 2048)              0         \n",
            "                                                                 \n",
            " dense_2 (Dense)             (None, 256)               524544    \n",
            "                                                                 \n",
            " dense_3 (Dense)             (None, 4)                 1028      \n",
            "                                                                 \n",
            "=================================================================\n",
            "Total params: 21,387,052\n",
            "Trainable params: 21,332,524\n",
            "Non-trainable params: 54,528\n",
            "_________________________________________________________________\n"
          ]
        }
      ],
      "source": [
        "# Define DIY Model\n",
        "Xception_model_2 = tf.keras.models.Sequential([\n",
        "    # Xception121 Layer\n",
        "    Xception(include_top=False,weights='imagenet',input_shape=(224, 224, 3)),\n",
        "    # Global Average Pooling Layer\n",
        "    tf.keras.layers.GlobalAveragePooling2D(),\n",
        "    # Drop Out Layer\n",
        "    tf.keras.layers.Dropout(0.2),\n",
        "    # 256 neuron hidden layer\n",
        "    tf.keras.layers.Dense(256, activation='relu'),\n",
        "    # Output\n",
        "    tf.keras.layers.Dense(4, activation='softmax') \n",
        "  ])\n",
        "\n",
        "\n",
        "# Compile Model\n",
        "Xception_model_2.compile(loss='categorical_crossentropy',optimizer=tf.keras.optimizers.Adam(), metrics=['accuracy']) \n",
        "\n",
        "# Model Summary\n",
        "Xception_model_2.summary()"
      ]
    },
    {
      "cell_type": "code",
      "execution_count": 16,
      "metadata": {
        "id": "6beuexC9U2TJ",
        "tags": [],
        "colab": {
          "base_uri": "https://localhost:8080/"
        },
        "outputId": "935f6cf6-cb8f-48a2-8e8a-6a5319a3ec84"
      },
      "outputs": [
        {
          "output_type": "stream",
          "name": "stdout",
          "text": [
            "Epoch 1/100\n",
            "367/367 [==============================] - ETA: 0s - loss: 0.1804 - accuracy: 0.9501\n",
            "Epoch 1: val_accuracy improved from -inf to 0.99397, saving model to Grape_Xception_model2_Based_Augmented.h5\n",
            "367/367 [==============================] - 178s 409ms/step - loss: 0.1804 - accuracy: 0.9501 - val_loss: 0.0288 - val_accuracy: 0.9940 - lr: 0.0010\n",
            "Epoch 2/100\n",
            "367/367 [==============================] - ETA: 0s - loss: 0.0959 - accuracy: 0.9741\n",
            "Epoch 2: val_accuracy did not improve from 0.99397\n",
            "367/367 [==============================] - 148s 403ms/step - loss: 0.0959 - accuracy: 0.9741 - val_loss: 0.0220 - val_accuracy: 0.9929 - lr: 0.0010\n",
            "Epoch 3/100\n",
            "367/367 [==============================] - ETA: 0s - loss: 0.0932 - accuracy: 0.9741\n",
            "Epoch 3: val_accuracy did not improve from 0.99397\n",
            "367/367 [==============================] - 158s 428ms/step - loss: 0.0932 - accuracy: 0.9741 - val_loss: 0.2403 - val_accuracy: 0.9079 - lr: 0.0010\n",
            "Epoch 4/100\n",
            "367/367 [==============================] - ETA: 0s - loss: 0.0567 - accuracy: 0.9831\n",
            "Epoch 4: val_accuracy did not improve from 0.99397\n",
            "367/367 [==============================] - 153s 417ms/step - loss: 0.0567 - accuracy: 0.9831 - val_loss: 0.0421 - val_accuracy: 0.9863 - lr: 0.0010\n",
            "Epoch 5/100\n",
            "367/367 [==============================] - ETA: 0s - loss: 0.0642 - accuracy: 0.9855\n",
            "Epoch 5: val_accuracy did not improve from 0.99397\n",
            "367/367 [==============================] - 154s 420ms/step - loss: 0.0642 - accuracy: 0.9855 - val_loss: 0.3346 - val_accuracy: 0.9584 - lr: 0.0010\n",
            "Epoch 6/100\n",
            "367/367 [==============================] - ETA: 0s - loss: 0.0732 - accuracy: 0.9806\n",
            "Epoch 6: val_accuracy did not improve from 0.99397\n",
            "367/367 [==============================] - 155s 422ms/step - loss: 0.0732 - accuracy: 0.9806 - val_loss: 0.0472 - val_accuracy: 0.9890 - lr: 0.0010\n",
            "Epoch 7/100\n",
            "367/367 [==============================] - ETA: 0s - loss: 0.0323 - accuracy: 0.9900\n",
            "Epoch 7: val_accuracy did not improve from 0.99397\n",
            "367/367 [==============================] - 154s 419ms/step - loss: 0.0323 - accuracy: 0.9900 - val_loss: 0.0206 - val_accuracy: 0.9934 - lr: 0.0010\n",
            "Epoch 8/100\n",
            "367/367 [==============================] - ETA: 0s - loss: 0.0249 - accuracy: 0.9920\n",
            "Epoch 8: val_accuracy did not improve from 0.99397\n",
            "367/367 [==============================] - 154s 420ms/step - loss: 0.0249 - accuracy: 0.9920 - val_loss: 0.0371 - val_accuracy: 0.9890 - lr: 0.0010\n",
            "Epoch 9/100\n",
            "367/367 [==============================] - ETA: 0s - loss: 0.0259 - accuracy: 0.9924\n",
            "Epoch 9: val_accuracy did not improve from 0.99397\n",
            "367/367 [==============================] - 155s 421ms/step - loss: 0.0259 - accuracy: 0.9924 - val_loss: 0.0334 - val_accuracy: 0.9907 - lr: 0.0010\n",
            "Epoch 10/100\n",
            "367/367 [==============================] - ETA: 0s - loss: 0.0220 - accuracy: 0.9918\n",
            "Epoch 10: val_accuracy did not improve from 0.99397\n",
            "367/367 [==============================] - 151s 411ms/step - loss: 0.0220 - accuracy: 0.9918 - val_loss: 0.1774 - val_accuracy: 0.9622 - lr: 0.0010\n",
            "Epoch 11/100\n",
            "367/367 [==============================] - ETA: 0s - loss: 0.0368 - accuracy: 0.9890\n",
            "Epoch 11: val_accuracy did not improve from 0.99397\n",
            "367/367 [==============================] - 152s 412ms/step - loss: 0.0368 - accuracy: 0.9890 - val_loss: 0.2783 - val_accuracy: 0.9337 - lr: 0.0010\n",
            "Epoch 12/100\n",
            "367/367 [==============================] - ETA: 0s - loss: 0.0441 - accuracy: 0.9876\n",
            "Epoch 12: val_accuracy did not improve from 0.99397\n",
            "\n",
            "Epoch 12: ReduceLROnPlateau reducing learning rate to 0.00010000000474974513.\n",
            "367/367 [==============================] - 152s 412ms/step - loss: 0.0441 - accuracy: 0.9876 - val_loss: 0.3603 - val_accuracy: 0.9600 - lr: 0.0010\n",
            "Epoch 13/100\n",
            "367/367 [==============================] - ETA: 0s - loss: 0.0353 - accuracy: 0.9913\n",
            "Epoch 13: val_accuracy improved from 0.99397 to 0.99890, saving model to Grape_Xception_model2_Based_Augmented.h5\n",
            "367/367 [==============================] - 161s 438ms/step - loss: 0.0353 - accuracy: 0.9913 - val_loss: 0.0047 - val_accuracy: 0.9989 - lr: 1.0000e-04\n",
            "Epoch 14/100\n",
            "367/367 [==============================] - ETA: 0s - loss: 0.0154 - accuracy: 0.9950\n",
            "Epoch 14: val_accuracy did not improve from 0.99890\n",
            "367/367 [==============================] - 155s 422ms/step - loss: 0.0154 - accuracy: 0.9950 - val_loss: 0.0034 - val_accuracy: 0.9984 - lr: 1.0000e-04\n",
            "Epoch 15/100\n",
            "367/367 [==============================] - ETA: 0s - loss: 0.0176 - accuracy: 0.9944\n",
            "Epoch 15: val_accuracy did not improve from 0.99890\n",
            "367/367 [==============================] - 155s 423ms/step - loss: 0.0176 - accuracy: 0.9944 - val_loss: 0.0054 - val_accuracy: 0.9978 - lr: 1.0000e-04\n",
            "Epoch 16/100\n",
            "367/367 [==============================] - ETA: 0s - loss: 0.0117 - accuracy: 0.9962\n",
            "Epoch 16: val_accuracy improved from 0.99890 to 0.99945, saving model to Grape_Xception_model2_Based_Augmented.h5\n",
            "367/367 [==============================] - 162s 440ms/step - loss: 0.0117 - accuracy: 0.9962 - val_loss: 0.0016 - val_accuracy: 0.9995 - lr: 1.0000e-04\n",
            "Epoch 17/100\n",
            "367/367 [==============================] - ETA: 0s - loss: 0.0105 - accuracy: 0.9974\n",
            "Epoch 17: val_accuracy did not improve from 0.99945\n",
            "367/367 [==============================] - 158s 431ms/step - loss: 0.0105 - accuracy: 0.9974 - val_loss: 0.0025 - val_accuracy: 0.9995 - lr: 1.0000e-04\n",
            "Epoch 18/100\n",
            "367/367 [==============================] - ETA: 0s - loss: 0.0103 - accuracy: 0.9974\n",
            "Epoch 18: val_accuracy improved from 0.99945 to 1.00000, saving model to Grape_Xception_model2_Based_Augmented.h5\n",
            "367/367 [==============================] - 156s 424ms/step - loss: 0.0103 - accuracy: 0.9974 - val_loss: 9.8185e-04 - val_accuracy: 1.0000 - lr: 1.0000e-04\n",
            "Epoch 19/100\n",
            "367/367 [==============================] - ETA: 0s - loss: 0.0068 - accuracy: 0.9974\n",
            "Epoch 19: val_accuracy did not improve from 1.00000\n",
            "367/367 [==============================] - 155s 422ms/step - loss: 0.0068 - accuracy: 0.9974 - val_loss: 0.0011 - val_accuracy: 1.0000 - lr: 1.0000e-04\n",
            "Epoch 20/100\n",
            "367/367 [==============================] - ETA: 0s - loss: 0.0078 - accuracy: 0.9977\n",
            "Epoch 20: val_accuracy did not improve from 1.00000\n",
            "367/367 [==============================] - 155s 423ms/step - loss: 0.0078 - accuracy: 0.9977 - val_loss: 0.0022 - val_accuracy: 0.9995 - lr: 1.0000e-04\n",
            "Epoch 21/100\n",
            "367/367 [==============================] - ETA: 0s - loss: 0.0050 - accuracy: 0.9985\n",
            "Epoch 21: val_accuracy did not improve from 1.00000\n",
            "367/367 [==============================] - 157s 427ms/step - loss: 0.0050 - accuracy: 0.9985 - val_loss: 9.5975e-04 - val_accuracy: 1.0000 - lr: 1.0000e-04\n",
            "Epoch 22/100\n",
            "367/367 [==============================] - ETA: 0s - loss: 0.0044 - accuracy: 0.9984\n",
            "Epoch 22: val_accuracy did not improve from 1.00000\n",
            "367/367 [==============================] - 156s 424ms/step - loss: 0.0044 - accuracy: 0.9984 - val_loss: 7.6660e-04 - val_accuracy: 1.0000 - lr: 1.0000e-04\n",
            "Epoch 23/100\n",
            "367/367 [==============================] - ETA: 0s - loss: 0.0076 - accuracy: 0.9980\n",
            "Epoch 23: val_accuracy did not improve from 1.00000\n",
            "367/367 [==============================] - 158s 431ms/step - loss: 0.0076 - accuracy: 0.9980 - val_loss: 0.0075 - val_accuracy: 0.9967 - lr: 1.0000e-04\n",
            "Epoch 24/100\n",
            "367/367 [==============================] - ETA: 0s - loss: 0.0018 - accuracy: 0.9995\n",
            "Epoch 24: val_accuracy did not improve from 1.00000\n",
            "367/367 [==============================] - 154s 419ms/step - loss: 0.0018 - accuracy: 0.9995 - val_loss: 7.5276e-04 - val_accuracy: 1.0000 - lr: 1.0000e-04\n",
            "Epoch 25/100\n",
            "367/367 [==============================] - ETA: 0s - loss: 0.0043 - accuracy: 0.9984\n",
            "Epoch 25: val_accuracy did not improve from 1.00000\n",
            "367/367 [==============================] - 154s 419ms/step - loss: 0.0043 - accuracy: 0.9984 - val_loss: 0.0014 - val_accuracy: 0.9995 - lr: 1.0000e-04\n",
            "Epoch 26/100\n",
            "367/367 [==============================] - ETA: 0s - loss: 0.0035 - accuracy: 0.9985\n",
            "Epoch 26: val_accuracy did not improve from 1.00000\n",
            "367/367 [==============================] - 155s 421ms/step - loss: 0.0035 - accuracy: 0.9985 - val_loss: 0.0039 - val_accuracy: 0.9989 - lr: 1.0000e-04\n",
            "Epoch 27/100\n",
            "367/367 [==============================] - ETA: 0s - loss: 0.0015 - accuracy: 0.9995\n",
            "Epoch 27: val_accuracy did not improve from 1.00000\n",
            "\n",
            "Epoch 27: ReduceLROnPlateau reducing learning rate to 1.0000000474974514e-05.\n",
            "367/367 [==============================] - 156s 426ms/step - loss: 0.0015 - accuracy: 0.9995 - val_loss: 0.0050 - val_accuracy: 0.9989 - lr: 1.0000e-04\n",
            "Epoch 28/100\n",
            "367/367 [==============================] - ETA: 0s - loss: 0.0018 - accuracy: 0.9996\n",
            "Epoch 28: val_accuracy did not improve from 1.00000\n",
            "367/367 [==============================] - 158s 431ms/step - loss: 0.0018 - accuracy: 0.9996 - val_loss: 0.0049 - val_accuracy: 0.9989 - lr: 1.0000e-05\n",
            "Epoch 29/100\n",
            "367/367 [==============================] - ETA: 0s - loss: 0.0015 - accuracy: 0.9995\n",
            "Epoch 29: val_accuracy did not improve from 1.00000\n",
            "367/367 [==============================] - 159s 434ms/step - loss: 0.0015 - accuracy: 0.9995 - val_loss: 0.0040 - val_accuracy: 0.9989 - lr: 1.0000e-05\n",
            "Epoch 30/100\n",
            "367/367 [==============================] - ETA: 0s - loss: 0.0017 - accuracy: 0.9993\n",
            "Epoch 30: val_accuracy did not improve from 1.00000\n",
            "367/367 [==============================] - 162s 442ms/step - loss: 0.0017 - accuracy: 0.9993 - val_loss: 0.0036 - val_accuracy: 0.9995 - lr: 1.0000e-05\n",
            "Epoch 31/100\n",
            "367/367 [==============================] - ETA: 0s - loss: 0.0020 - accuracy: 0.9995\n",
            "Epoch 31: val_accuracy did not improve from 1.00000\n",
            "367/367 [==============================] - 161s 437ms/step - loss: 0.0020 - accuracy: 0.9995 - val_loss: 0.0028 - val_accuracy: 0.9989 - lr: 1.0000e-05\n",
            "Epoch 32/100\n",
            "367/367 [==============================] - ETA: 0s - loss: 0.0042 - accuracy: 0.9989\n",
            "Epoch 32: val_accuracy did not improve from 1.00000\n",
            "\n",
            "Epoch 32: ReduceLROnPlateau reducing learning rate to 1.0000000656873453e-06.\n",
            "367/367 [==============================] - 163s 445ms/step - loss: 0.0042 - accuracy: 0.9989 - val_loss: 0.0025 - val_accuracy: 0.9989 - lr: 1.0000e-05\n",
            "Epoch 33/100\n",
            "367/367 [==============================] - ETA: 0s - loss: 0.0020 - accuracy: 0.9996\n",
            "Epoch 33: val_accuracy did not improve from 1.00000\n",
            "367/367 [==============================] - 162s 440ms/step - loss: 0.0020 - accuracy: 0.9996 - val_loss: 0.0023 - val_accuracy: 0.9989 - lr: 1.0000e-06\n",
            "Epoch 34/100\n",
            "367/367 [==============================] - ETA: 0s - loss: 0.0020 - accuracy: 0.9993\n",
            "Epoch 34: val_accuracy did not improve from 1.00000\n",
            "367/367 [==============================] - 162s 440ms/step - loss: 0.0020 - accuracy: 0.9993 - val_loss: 0.0024 - val_accuracy: 0.9989 - lr: 1.0000e-06\n",
            "Epoch 35/100\n",
            "367/367 [==============================] - ETA: 0s - loss: 9.9279e-04 - accuracy: 0.9995\n",
            "Epoch 35: val_accuracy did not improve from 1.00000\n",
            "367/367 [==============================] - 160s 436ms/step - loss: 9.9279e-04 - accuracy: 0.9995 - val_loss: 0.0023 - val_accuracy: 0.9989 - lr: 1.0000e-06\n",
            "Epoch 36/100\n",
            "367/367 [==============================] - ETA: 0s - loss: 0.0013 - accuracy: 0.9996\n",
            "Epoch 36: val_accuracy did not improve from 1.00000\n",
            "367/367 [==============================] - 161s 438ms/step - loss: 0.0013 - accuracy: 0.9996 - val_loss: 0.0019 - val_accuracy: 0.9989 - lr: 1.0000e-06\n",
            "Epoch 37/100\n",
            "367/367 [==============================] - ETA: 0s - loss: 8.4740e-04 - accuracy: 0.9997\n",
            "Epoch 37: val_accuracy did not improve from 1.00000\n",
            "\n",
            "Epoch 37: ReduceLROnPlateau reducing learning rate to 1.0000001111620805e-07.\n",
            "367/367 [==============================] - 158s 430ms/step - loss: 8.4740e-04 - accuracy: 0.9997 - val_loss: 0.0020 - val_accuracy: 0.9989 - lr: 1.0000e-06\n",
            "Epoch 38/100\n",
            "367/367 [==============================] - ETA: 0s - loss: 0.0013 - accuracy: 0.9996\n",
            "Epoch 38: val_accuracy did not improve from 1.00000\n",
            "Restoring model weights from the end of the best epoch: 18.\n",
            "367/367 [==============================] - 158s 431ms/step - loss: 0.0013 - accuracy: 0.9996 - val_loss: 0.0022 - val_accuracy: 0.9989 - lr: 1.0000e-07\n",
            "Epoch 38: early stopping\n"
          ]
        }
      ],
      "source": [
        "# Define the number of epochs\n",
        "num_epochs = 100\n",
        "\n",
        "# Train the model\n",
        "history_Xception_model_2 = Xception_model_2.fit(train_generator, epochs=num_epochs, validation_data=validation_generator, callbacks=callbacks)"
      ]
    },
    {
      "cell_type": "code",
      "execution_count": 17,
      "metadata": {
        "id": "3f1nmwUhU2TK",
        "tags": [],
        "colab": {
          "base_uri": "https://localhost:8080/",
          "height": 904
        },
        "outputId": "7bccfcd1-ac00-4159-82e9-2c350d8094e7"
      },
      "outputs": [
        {
          "output_type": "execute_result",
          "data": {
            "text/plain": [
              "<matplotlib.legend.Legend at 0x7f7a7c5af580>"
            ]
          },
          "metadata": {},
          "execution_count": 17
        },
        {
          "output_type": "display_data",
          "data": {
            "text/plain": [
              "<Figure size 640x480 with 1 Axes>"
            ],
            "image/png": "[encoded data removed]"
          },
          "metadata": {}
        },
        {
          "output_type": "display_data",
          "data": {
            "text/plain": [
              "<Figure size 640x480 with 1 Axes>"
            ],
            "image/png": "[encoded data removed]"
          },
          "metadata": {}
        }
      ],
      "source": [
        "#-----------------------------------------------------------\n",
        "# Retrieve a list of list results on training and test data\n",
        "# sets for each training epoch\n",
        "#-----------------------------------------------------------\n",
        "acc      = history_Xception_model_2.history['accuracy' ]\n",
        "val_acc  = history_Xception_model_2.history['val_accuracy' ]\n",
        "loss     = history_Xception_model_2.history['loss' ]\n",
        "val_loss = history_Xception_model_2.history['val_loss' ]\n",
        "\n",
        "epochs   = range(len(acc)) # Get number of epochs\n",
        "\n",
        "#------------------------------------------------\n",
        "# Plot training and validation accuracy per epoch\n",
        "#------------------------------------------------\n",
        "plt.plot  (epochs, acc )\n",
        "plt.plot  (epochs, val_acc )\n",
        "plt.title ('Training and validation accuracy Xception Model 2 Augmented')\n",
        "plt.legend(['train', 'val'], loc='upper left')\n",
        "plt.figure()\n",
        "\n",
        "#------------------------------------------------\n",
        "# Plot training and validation loss per epoch\n",
        "#------------------------------------------------\n",
        "plt.plot  (epochs, loss)\n",
        "plt.plot  (epochs, val_loss)\n",
        "plt.title ('Training and validation loss Xception Model 2 Augmented')\n",
        "plt.legend(['train', 'val'], loc='upper left')"
      ]
    }
  ],
  "metadata": {
    "accelerator": "GPU",
    "colab": {
      "gpuType": "T4",
      "provenance": []
    },
    "gpuClass": "standard",
    "kernelspec": {
      "display_name": "Python 3 (ipykernel)",
      "language": "python",
      "name": "python3"
    },
    "language_info": {
      "codemirror_mode": {
        "name": "ipython",
        "version": 3
      },
      "file_extension": ".py",
      "mimetype": "text/x-python",
      "name": "python",
      "nbconvert_exporter": "python",
      "pygments_lexer": "ipython3",
      "version": "3.8.10"
    }
  },
  "nbformat": 4,
  "nbformat_minor": 0
}