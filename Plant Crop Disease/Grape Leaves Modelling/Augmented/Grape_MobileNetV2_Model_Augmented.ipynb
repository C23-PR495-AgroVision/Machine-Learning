{
  "cells": [
    {
      "attachments": {},
      "cell_type": "markdown",
      "metadata": {
        "id": "hO3kEcUPU2S3"
      },
      "source": [
        "# Library"
      ]
    },
    {
      "cell_type": "code",
      "execution_count": 1,
      "metadata": {
        "colab": {
          "base_uri": "https://localhost:8080/"
        },
        "id": "kczkUjsAU2S8",
        "outputId": "dc919c41-a409-40b6-8274-964c16fa44af",
        "tags": []
      },
      "outputs": [
        {
          "name": "stdout",
          "output_type": "stream",
          "text": [
            "Requirement already satisfied: matplotlib in c:\\users\\hasan\\anaconda3\\envs\\tensorflow_gpu_zein\\lib\\site-packages (3.6.3)\n",
            "Requirement already satisfied: python-dateutil>=2.7 in c:\\users\\hasan\\anaconda3\\envs\\tensorflow_gpu_zein\\lib\\site-packages (from matplotlib) (2.8.2)\n",
            "Requirement already satisfied: numpy>=1.19 in c:\\users\\hasan\\anaconda3\\envs\\tensorflow_gpu_zein\\lib\\site-packages (from matplotlib) (1.23.5)\n",
            "Requirement already satisfied: kiwisolver>=1.0.1 in c:\\users\\hasan\\anaconda3\\envs\\tensorflow_gpu_zein\\lib\\site-packages (from matplotlib) (1.4.4)\n",
            "Requirement already satisfied: fonttools>=4.22.0 in c:\\users\\hasan\\anaconda3\\envs\\tensorflow_gpu_zein\\lib\\site-packages (from matplotlib) (4.39.2)\n",
            "Requirement already satisfied: pyparsing>=2.2.1 in c:\\users\\hasan\\anaconda3\\envs\\tensorflow_gpu_zein\\lib\\site-packages (from matplotlib) (3.0.9)\n",
            "Requirement already satisfied: packaging>=20.0 in c:\\users\\hasan\\anaconda3\\envs\\tensorflow_gpu_zein\\lib\\site-packages (from matplotlib) (23.1)\n",
            "Requirement already satisfied: pillow>=6.2.0 in c:\\users\\hasan\\anaconda3\\envs\\tensorflow_gpu_zein\\lib\\site-packages (from matplotlib) (9.4.0)\n",
            "Requirement already satisfied: contourpy>=1.0.1 in c:\\users\\hasan\\anaconda3\\envs\\tensorflow_gpu_zein\\lib\\site-packages (from matplotlib) (1.0.7)\n",
            "Requirement already satisfied: cycler>=0.10 in c:\\users\\hasan\\anaconda3\\envs\\tensorflow_gpu_zein\\lib\\site-packages (from matplotlib) (0.11.0)\n",
            "Requirement already satisfied: six>=1.5 in c:\\users\\hasan\\anaconda3\\envs\\tensorflow_gpu_zein\\lib\\site-packages (from python-dateutil>=2.7->matplotlib) (1.16.0)\n",
            "Note: you may need to restart the kernel to use updated packages.\n"
          ]
        },
        {
          "name": "stderr",
          "output_type": "stream",
          "text": [
            "WARNING: Ignoring invalid distribution -rotobuf (c:\\users\\hasan\\anaconda3\\envs\\tensorflow_gpu_zein\\lib\\site-packages)\n",
            "WARNING: Ignoring invalid distribution -rotobuf (c:\\users\\hasan\\anaconda3\\envs\\tensorflow_gpu_zein\\lib\\site-packages)\n",
            "WARNING: Ignoring invalid distribution -rotobuf (c:\\users\\hasan\\anaconda3\\envs\\tensorflow_gpu_zein\\lib\\site-packages)\n",
            "WARNING: Ignoring invalid distribution -rotobuf (c:\\users\\hasan\\anaconda3\\envs\\tensorflow_gpu_zein\\lib\\site-packages)\n",
            "WARNING: Ignoring invalid distribution -rotobuf (c:\\users\\hasan\\anaconda3\\envs\\tensorflow_gpu_zein\\lib\\site-packages)\n",
            "WARNING: Ignoring invalid distribution -rotobuf (c:\\users\\hasan\\anaconda3\\envs\\tensorflow_gpu_zein\\lib\\site-packages)\n"
          ]
        }
      ],
      "source": [
        "pip install matplotlib"
      ]
    },
    {
      "cell_type": "code",
      "execution_count": 2,
      "metadata": {
        "colab": {
          "base_uri": "https://localhost:8080/"
        },
        "id": "oEW3Nbu7U2S_",
        "outputId": "4f98dc84-a6a3-4226-86f5-76e14226f621",
        "tags": []
      },
      "outputs": [
        {
          "name": "stdout",
          "output_type": "stream",
          "text": [
            "Requirement already satisfied: opendatasets in c:\\users\\hasan\\anaconda3\\envs\\tensorflow_gpu_zein\\lib\\site-packages (0.1.22)\n",
            "Requirement already satisfied: tqdm in c:\\users\\hasan\\anaconda3\\envs\\tensorflow_gpu_zein\\lib\\site-packages (from opendatasets) (4.64.1)\n",
            "Requirement already satisfied: kaggle in c:\\users\\hasan\\anaconda3\\envs\\tensorflow_gpu_zein\\lib\\site-packages (from opendatasets) (1.5.13)\n",
            "Requirement already satisfied: click in c:\\users\\hasan\\anaconda3\\envs\\tensorflow_gpu_zein\\lib\\site-packages (from opendatasets) (8.1.3)\n",
            "Requirement already satisfied: colorama in c:\\users\\hasan\\anaconda3\\envs\\tensorflow_gpu_zein\\lib\\site-packages (from click->opendatasets) (0.4.6)\n",
            "Requirement already satisfied: urllib3 in c:\\users\\hasan\\anaconda3\\envs\\tensorflow_gpu_zein\\lib\\site-packages (from kaggle->opendatasets) (1.26.15)\n",
            "Requirement already satisfied: certifi in c:\\users\\hasan\\anaconda3\\envs\\tensorflow_gpu_zein\\lib\\site-packages (from kaggle->opendatasets) (2022.12.7)\n",
            "Requirement already satisfied: six>=1.10 in c:\\users\\hasan\\anaconda3\\envs\\tensorflow_gpu_zein\\lib\\site-packages (from kaggle->opendatasets) (1.16.0)\n",
            "Requirement already satisfied: python-slugify in c:\\users\\hasan\\anaconda3\\envs\\tensorflow_gpu_zein\\lib\\site-packages (from kaggle->opendatasets) (8.0.1)\n",
            "Requirement already satisfied: requests in c:\\users\\hasan\\anaconda3\\envs\\tensorflow_gpu_zein\\lib\\site-packages (from kaggle->opendatasets) (2.28.2)\n",
            "Requirement already satisfied: python-dateutil in c:\\users\\hasan\\anaconda3\\envs\\tensorflow_gpu_zein\\lib\\site-packages (from kaggle->opendatasets) (2.8.2)\n",
            "Requirement already satisfied: text-unidecode>=1.3 in c:\\users\\hasan\\anaconda3\\envs\\tensorflow_gpu_zein\\lib\\site-packages (from python-slugify->kaggle->opendatasets) (1.3)\n",
            "Requirement already satisfied: idna<4,>=2.5 in c:\\users\\hasan\\anaconda3\\envs\\tensorflow_gpu_zein\\lib\\site-packages (from requests->kaggle->opendatasets) (3.4)\n",
            "Requirement already satisfied: charset-normalizer<4,>=2 in c:\\users\\hasan\\anaconda3\\envs\\tensorflow_gpu_zein\\lib\\site-packages (from requests->kaggle->opendatasets) (3.1.0)\n",
            "Note: you may need to restart the kernel to use updated packages.\n"
          ]
        },
        {
          "name": "stderr",
          "output_type": "stream",
          "text": [
            "WARNING: Ignoring invalid distribution -rotobuf (c:\\users\\hasan\\anaconda3\\envs\\tensorflow_gpu_zein\\lib\\site-packages)\n",
            "WARNING: Ignoring invalid distribution -rotobuf (c:\\users\\hasan\\anaconda3\\envs\\tensorflow_gpu_zein\\lib\\site-packages)\n",
            "WARNING: Ignoring invalid distribution -rotobuf (c:\\users\\hasan\\anaconda3\\envs\\tensorflow_gpu_zein\\lib\\site-packages)\n",
            "WARNING: Ignoring invalid distribution -rotobuf (c:\\users\\hasan\\anaconda3\\envs\\tensorflow_gpu_zein\\lib\\site-packages)\n",
            "WARNING: Ignoring invalid distribution -rotobuf (c:\\users\\hasan\\anaconda3\\envs\\tensorflow_gpu_zein\\lib\\site-packages)\n",
            "WARNING: Ignoring invalid distribution -rotobuf (c:\\users\\hasan\\anaconda3\\envs\\tensorflow_gpu_zein\\lib\\site-packages)\n"
          ]
        }
      ],
      "source": [
        "pip install opendatasets"
      ]
    },
    {
      "cell_type": "code",
      "execution_count": 3,
      "metadata": {
        "id": "SIHHdOB4U2TA",
        "tags": []
      },
      "outputs": [],
      "source": [
        "# Library to dataset\n",
        "import opendatasets as od\n",
        "import os\n",
        "import zipfile\n",
        "import numpy as np\n",
        "\n",
        "# Surpress Warnings\n",
        "import warnings\n",
        "warnings.filterwarnings('ignore')\n",
        "os.environ['TF_CPP_MIN_LOG_LEVEL'] = '3' \n",
        "# library visualization\n",
        "import matplotlib.pyplot as plt\n",
        "\n",
        "# Library Tensorflow\n",
        "import tensorflow as tf\n",
        "from tensorflow import keras\n",
        "from tensorflow.keras.preprocessing.image import ImageDataGenerator\n",
        "from tensorflow.keras.callbacks import ModelCheckpoint, EarlyStopping, ReduceLROnPlateau\n",
        "from tensorflow.keras.applications.densenet import DenseNet121\n",
        "from tensorflow.keras.applications.xception import Xception\n",
        "from tensorflow.keras.applications.mobilenet_v2 import MobileNetV2\n",
        "\n",
        "# Others\n",
        "import shutil\n",
        "import random"
      ]
    },
    {
      "attachments": {},
      "cell_type": "markdown",
      "metadata": {
        "id": "Dy8YkYoaU2TB"
      },
      "source": [
        "# Load dataset"
      ]
    },
    {
      "cell_type": "code",
      "execution_count": 4,
      "metadata": {
        "colab": {
          "base_uri": "https://localhost:8080/"
        },
        "id": "8ZAjREJ0U2TC",
        "outputId": "c433f8c1-57ba-4523-f3fe-f3d17a64fc3c",
        "tags": []
      },
      "outputs": [
        {
          "name": "stdout",
          "output_type": "stream",
          "text": [
            "==========================Training Data====================\n",
            "Found 7335 files belonging to 4 classes.\n",
            "==========================Validation Data====================\n",
            "Found 1825 files belonging to 4 classes.\n"
          ]
        }
      ],
      "source": [
        "# Load dataset\n",
        "print(\"==========================Training Data====================\")\n",
        "train_data = tf.keras.preprocessing.image_dataset_from_directory(\n",
        "    \"Dataset/grape/train\",\n",
        "    label_mode=\"categorical\",\n",
        "    class_names=['Grape Esca (Black_Measles)','Grape Leaf blight (Isariopsis_Leaf_Spot)','grape leaf Healthy','grape leaf black rot'],\n",
        "    color_mode=\"rgb\",\n",
        "    batch_size=1,\n",
        "    image_size=(256, 256),\n",
        "    shuffle=True,\n",
        "    seed=123\n",
        ")\n",
        "print(\"==========================Validation Data====================\")\n",
        "val_data = tf.keras.preprocessing.image_dataset_from_directory(\n",
        "    \"Dataset/grape/valid\",\n",
        "    label_mode=\"categorical\",\n",
        "    class_names=['Grape Esca (Black_Measles)','Grape Leaf blight (Isariopsis_Leaf_Spot)','grape leaf Healthy','grape leaf black rot'],\n",
        "    color_mode=\"rgb\",\n",
        "    batch_size=1,\n",
        "    image_size=(256, 256),\n",
        "    shuffle=True,\n",
        "    seed=123\n",
        ")"
      ]
    },
    {
      "cell_type": "code",
      "execution_count": 5,
      "metadata": {
        "colab": {
          "base_uri": "https://localhost:8080/"
        },
        "id": "vEPzd1egU2TD",
        "outputId": "08172b6e-2d2a-4153-d814-84ce33c3b5c3",
        "tags": []
      },
      "outputs": [
        {
          "name": "stdout",
          "output_type": "stream",
          "text": [
            "Found 7335 images belonging to 4 classes.\n",
            "Found 1825 images belonging to 4 classes.\n"
          ]
        }
      ],
      "source": [
        "# All images will be rescaled by 1./255.and augmented\n",
        "train_datagen = ImageDataGenerator(rescale = 1.0/256.,\n",
        "                                   rotation_range=40,\n",
        "                                   width_shift_range=0.2,\n",
        "                                   height_shift_range=0.2,\n",
        "                                   shear_range=0.2,\n",
        "                                   zoom_range=0.2,\n",
        "                                   horizontal_flip=True,\n",
        "                                   fill_mode='nearest')\n",
        "\n",
        "test_datagen  = ImageDataGenerator(rescale = 1.0/256.)\n",
        "\n",
        "# --------------------\n",
        "# Flow training images in batches of 20 using train_datagen generator\n",
        "# --------------------\n",
        "train_generator = train_datagen.flow_from_directory(\"Dataset/grape/train\",\n",
        "                                                    batch_size=20,\n",
        "                                                    class_mode='categorical',\n",
        "                                                    target_size=(224, 224))     \n",
        "# --------------------\n",
        "# Flow validation images in batches of 20 using test_datagen generator\n",
        "# --------------------\n",
        "validation_generator =  test_datagen.flow_from_directory(\"Dataset/grape/valid\",\n",
        "                                                         batch_size=20,\n",
        "                                                         class_mode  = 'categorical',\n",
        "                                                         target_size = (224, 224))"
      ]
    },
    {
      "attachments": {},
      "cell_type": "markdown",
      "metadata": {
        "id": "_3jaO5YgU2TE"
      },
      "source": [
        "# List Resource"
      ]
    },
    {
      "cell_type": "code",
      "execution_count": 6,
      "metadata": {
        "colab": {
          "base_uri": "https://localhost:8080/"
        },
        "id": "SGemCaxnU2TF",
        "outputId": "17f10831-8f36-4de2-cd98-959195841baa",
        "tags": []
      },
      "outputs": [
        {
          "name": "stdout",
          "output_type": "stream",
          "text": [
            "Tue May 30 14:42:13 2023       \n",
            "+---------------------------------------------------------------------------------------+\n",
            "| NVIDIA-SMI 532.03                 Driver Version: 532.03       CUDA Version: 12.1     |\n",
            "|-----------------------------------------+----------------------+----------------------+\n",
            "| GPU  Name                      TCC/WDDM | Bus-Id        Disp.A | Volatile Uncorr. ECC |\n",
            "| Fan  Temp  Perf            Pwr:Usage/Cap|         Memory-Usage | GPU-Util  Compute M. |\n",
            "|                                         |                      |               MIG M. |\n",
            "|=========================================+======================+======================|\n",
            "|   0  NVIDIA GeForce RTX 3060 L...  WDDM | 00000000:01:00.0  On |                  N/A |\n",
            "| N/A   54C    P0               40W /  N/A|   5120MiB /  6144MiB |      6%      Default |\n",
            "|                                         |                      |                  N/A |\n",
            "+-----------------------------------------+----------------------+----------------------+\n",
            "                                                                                         \n",
            "+---------------------------------------------------------------------------------------+\n",
            "| Processes:                                                                            |\n",
            "|  GPU   GI   CI        PID   Type   Process name                            GPU Memory |\n",
            "|        ID   ID                                                             Usage      |\n",
            "|=======================================================================================|\n",
            "|    0   N/A  N/A      1896    C+G   ...GeForce Experience\\NVIDIA Share.exe    N/A      |\n",
            "|    0   N/A  N/A      2300      C   ...envs\\tensorflow_gpu_zein\\python.exe    N/A      |\n",
            "|    0   N/A  N/A      3612      C   ...envs\\tensorflow_gpu_zein\\python.exe    N/A      |\n",
            "|    0   N/A  N/A      9296    C+G   ...1.0_x64__8wekyb3d8bbwe\\Video.UI.exe    N/A      |\n",
            "|    0   N/A  N/A     10188    C+G   C:\\WINDOWS\\explorer.exe                   N/A      |\n",
            "|    0   N/A  N/A     11728    C+G   ...Programs\\Microsoft VS Code\\Code.exe    N/A      |\n",
            "|    0   N/A  N/A     12012    C+G   ...nt.CBS_cw5n1h2txyewy\\SearchHost.exe    N/A      |\n",
            "|    0   N/A  N/A     14976    C+G   ...t.LockApp_cw5n1h2txyewy\\LockApp.exe    N/A      |\n",
            "|    0   N/A  N/A     15568    C+G   ...oogle\\Chrome\\Application\\chrome.exe    N/A      |\n",
            "|    0   N/A  N/A     17344    C+G   ...on\\113.0.1774.57\\msedgewebview2.exe    N/A      |\n",
            "|    0   N/A  N/A     20172    C+G   ...\\AMD\\CNext\\CNext\\RadeonSoftware.exe    N/A      |\n",
            "|    0   N/A  N/A     20384    C+G   ...les\\AMD\\CNext\\CNext\\AMDRSSrcExt.exe    N/A      |\n",
            "|    0   N/A  N/A     20860    C+G   ...7.0_x64__cv1g1gvanyjgm\\WhatsApp.exe    N/A      |\n",
            "|    0   N/A  N/A     21552    C+G   ...02.0_x86__zpdnekdrzrea0\\Spotify.exe    N/A      |\n",
            "|    0   N/A  N/A     22696    C+G   ...siveControlPanel\\SystemSettings.exe    N/A      |\n",
            "|    0   N/A  N/A     23236    C+G   ...les\\Microsoft OneDrive\\OneDrive.exe    N/A      |\n",
            "|    0   N/A  N/A     24128    C+G   ...les\\Microsoft OneDrive\\OneDrive.exe    N/A      |\n",
            "+---------------------------------------------------------------------------------------+\n"
          ]
        }
      ],
      "source": [
        "# Check GPU\n",
        "!nvidia-smi"
      ]
    },
    {
      "cell_type": "code",
      "execution_count": 7,
      "metadata": {
        "colab": {
          "base_uri": "https://localhost:8080/"
        },
        "id": "FSapZ74PU2TF",
        "outputId": "96872e12-091f-453c-ca89-a5b0f8286755",
        "tags": []
      },
      "outputs": [
        {
          "data": {
            "text/plain": [
              "[PhysicalDevice(name='/physical_device:GPU:0', device_type='GPU')]"
            ]
          },
          "execution_count": 7,
          "metadata": {},
          "output_type": "execute_result"
        }
      ],
      "source": [
        "# Lis physical devices\n",
        "devices = tf.config.experimental.list_physical_devices(\"GPU\")\n",
        "devices"
      ]
    },
    {
      "cell_type": "code",
      "execution_count": 8,
      "metadata": {
        "id": "A8WtBtBaU2TG",
        "tags": []
      },
      "outputs": [
        {
          "name": "stdout",
          "output_type": "stream",
          "text": [
            "INFO:tensorflow:Using MirroredStrategy with devices ('/job:localhost/replica:0/task:0/device:GPU:0',)\n"
          ]
        }
      ],
      "source": [
        "# Define the GPU strategy\n",
        "mirrored_strategy = tf.distribute.MirroredStrategy(devices=[\"/gpu:0\"])"
      ]
    },
    {
      "attachments": {},
      "cell_type": "markdown",
      "metadata": {
        "id": "Vqr_uGTNU2TG"
      },
      "source": [
        "# Modelling With Augmentation"
      ]
    },
    {
      "attachments": {},
      "cell_type": "markdown",
      "metadata": {
        "id": "w4Wzh6ZyU2TH"
      },
      "source": [
        "## MobileNetV2 Model 1"
      ]
    },
    {
      "cell_type": "code",
      "execution_count": 9,
      "metadata": {
        "id": "uUqYGBfRU2TH",
        "tags": []
      },
      "outputs": [],
      "source": [
        "# Difine the callbacks\n",
        "# Save the best model\n",
        "checkpoint_callback = ModelCheckpoint(filepath=\"Grape_MobileNetV2_model1_Based_Augmented\", save_best_only=True, monitor=\"val_accuracy\", mode=\"max\", verbose=1)\n",
        "\n",
        "# Early stopping\n",
        "early_stopping_callback = EarlyStopping(monitor=\"val_accuracy\", mode=\"max\", patience=20, verbose=1, restore_best_weights=True)\n",
        "\n",
        "# Reduce learning rate\n",
        "reduce_lr_callback = ReduceLROnPlateau(monitor=\"val_loss\", factor=0.1, patience=5, verbose=1, mode=\"min\", min_delta=0.0001, cooldown=0, min_lr=0)\n",
        "\n",
        "# Callbacks list\n",
        "callbacks=[checkpoint_callback, early_stopping_callback, reduce_lr_callback]"
      ]
    },
    {
      "cell_type": "code",
      "execution_count": 10,
      "metadata": {
        "colab": {
          "base_uri": "https://localhost:8080/"
        },
        "id": "BQHFs3gSU2TI",
        "outputId": "3aa93f7d-cc5c-4ef4-f237-c0235677a8a9",
        "tags": []
      },
      "outputs": [
        {
          "name": "stdout",
          "output_type": "stream",
          "text": [
            "Model: \"sequential\"\n",
            "_________________________________________________________________\n",
            " Layer (type)                Output Shape              Param #   \n",
            "=================================================================\n",
            " mobilenetv2_1.00_224 (Funct  (None, 7, 7, 1280)       2257984   \n",
            " ional)                                                          \n",
            "                                                                 \n",
            " global_max_pooling2d (Globa  (None, 1280)             0         \n",
            " lMaxPooling2D)                                                  \n",
            "                                                                 \n",
            " dropout (Dropout)           (None, 1280)              0         \n",
            "                                                                 \n",
            " dense (Dense)               (None, 256)               327936    \n",
            "                                                                 \n",
            " dense_1 (Dense)             (None, 4)                 1028      \n",
            "                                                                 \n",
            "=================================================================\n",
            "Total params: 2,586,948\n",
            "Trainable params: 2,552,836\n",
            "Non-trainable params: 34,112\n",
            "_________________________________________________________________\n"
          ]
        }
      ],
      "source": [
        "# Define DIY Model\n",
        "MobileNetV2_model = tf.keras.models.Sequential([\n",
        "    # MobileNetV2 Layer\n",
        "    MobileNetV2(include_top=False,weights='imagenet',input_shape=(224, 224, 3)),\n",
        "    # Global Max Pooling Layer\n",
        "    tf.keras.layers.GlobalMaxPooling2D(),\n",
        "    # Drop Out Layer\n",
        "    tf.keras.layers.Dropout(0.2),\n",
        "    # 256 neuron hidden layer\n",
        "    tf.keras.layers.Dense(256, activation='relu'),\n",
        "    # Output\n",
        "    tf.keras.layers.Dense(4, activation='softmax') \n",
        "  ])\n",
        "\n",
        "\n",
        "# Compile Model\n",
        "MobileNetV2_model.compile(loss='categorical_crossentropy',optimizer=tf.keras.optimizers.Adam(), metrics=['accuracy']) \n",
        "\n",
        "# Model Summary\n",
        "MobileNetV2_model.summary()"
      ]
    },
    {
      "cell_type": "code",
      "execution_count": 11,
      "metadata": {
        "colab": {
          "base_uri": "https://localhost:8080/"
        },
        "id": "6coN3TKhU2TI",
        "outputId": "d45ba9b1-e524-4f9f-9502-cbefb896f7ae",
        "tags": []
      },
      "outputs": [
        {
          "name": "stdout",
          "output_type": "stream",
          "text": [
            "Epoch 1/100\n",
            "367/367 [==============================] - ETA: 0s - loss: 0.3145 - accuracy: 0.9441\n",
            "Epoch 1: val_accuracy improved from -inf to 0.63178, saving model to Grape_MobileNetV2_model1_Based_Augmented\n"
          ]
        },
        {
          "name": "stderr",
          "output_type": "stream",
          "text": [
            "WARNING:absl:Function `_wrapped_model` contains input name(s) mobilenetv2_1.00_224_input with unsupported characters which will be renamed to mobilenetv2_1_00_224_input in the SavedModel.\n",
            "WARNING:absl:Found untraced functions such as _jit_compiled_convolution_op, _jit_compiled_convolution_op, _jit_compiled_convolution_op, _jit_compiled_convolution_op, _jit_compiled_convolution_op while saving (showing 5 of 52). These functions will not be directly callable after loading.\n"
          ]
        },
        {
          "name": "stdout",
          "output_type": "stream",
          "text": [
            "INFO:tensorflow:Assets written to: Grape_MobileNetV2_model1_Based_Augmented\\assets\n"
          ]
        },
        {
          "name": "stderr",
          "output_type": "stream",
          "text": [
            "INFO:tensorflow:Assets written to: Grape_MobileNetV2_model1_Based_Augmented\\assets\n"
          ]
        },
        {
          "name": "stdout",
          "output_type": "stream",
          "text": [
            "367/367 [==============================] - 85s 207ms/step - loss: 0.3145 - accuracy: 0.9441 - val_loss: 3.1437 - val_accuracy: 0.6318 - lr: 0.0010\n",
            "Epoch 2/100\n",
            "367/367 [==============================] - ETA: 0s - loss: 0.1135 - accuracy: 0.9674\n",
            "Epoch 2: val_accuracy improved from 0.63178 to 0.96110, saving model to Grape_MobileNetV2_model1_Based_Augmented\n"
          ]
        },
        {
          "name": "stderr",
          "output_type": "stream",
          "text": [
            "WARNING:absl:Function `_wrapped_model` contains input name(s) mobilenetv2_1.00_224_input with unsupported characters which will be renamed to mobilenetv2_1_00_224_input in the SavedModel.\n",
            "WARNING:absl:Found untraced functions such as _jit_compiled_convolution_op, _jit_compiled_convolution_op, _jit_compiled_convolution_op, _jit_compiled_convolution_op, _jit_compiled_convolution_op while saving (showing 5 of 52). These functions will not be directly callable after loading.\n"
          ]
        },
        {
          "name": "stdout",
          "output_type": "stream",
          "text": [
            "INFO:tensorflow:Assets written to: Grape_MobileNetV2_model1_Based_Augmented\\assets\n"
          ]
        },
        {
          "name": "stderr",
          "output_type": "stream",
          "text": [
            "INFO:tensorflow:Assets written to: Grape_MobileNetV2_model1_Based_Augmented\\assets\n"
          ]
        },
        {
          "name": "stdout",
          "output_type": "stream",
          "text": [
            "367/367 [==============================] - 75s 204ms/step - loss: 0.1135 - accuracy: 0.9674 - val_loss: 0.1247 - val_accuracy: 0.9611 - lr: 0.0010\n",
            "Epoch 3/100\n",
            "367/367 [==============================] - ETA: 0s - loss: 0.0880 - accuracy: 0.9751\n",
            "Epoch 3: val_accuracy did not improve from 0.96110\n",
            "367/367 [==============================] - 62s 169ms/step - loss: 0.0880 - accuracy: 0.9751 - val_loss: 0.3924 - val_accuracy: 0.9260 - lr: 0.0010\n",
            "Epoch 4/100\n",
            "367/367 [==============================] - ETA: 0s - loss: 0.0718 - accuracy: 0.9806\n",
            "Epoch 4: val_accuracy did not improve from 0.96110\n",
            "367/367 [==============================] - 63s 170ms/step - loss: 0.0718 - accuracy: 0.9806 - val_loss: 0.1622 - val_accuracy: 0.9573 - lr: 0.0010\n",
            "Epoch 5/100\n",
            "367/367 [==============================] - ETA: 0s - loss: 0.0951 - accuracy: 0.9764\n",
            "Epoch 5: val_accuracy did not improve from 0.96110\n",
            "367/367 [==============================] - 64s 175ms/step - loss: 0.0951 - accuracy: 0.9764 - val_loss: 2.1733 - val_accuracy: 0.6707 - lr: 0.0010\n",
            "Epoch 6/100\n",
            "367/367 [==============================] - ETA: 0s - loss: 0.0613 - accuracy: 0.9796\n",
            "Epoch 6: val_accuracy did not improve from 0.96110\n",
            "367/367 [==============================] - 62s 168ms/step - loss: 0.0613 - accuracy: 0.9796 - val_loss: 0.2561 - val_accuracy: 0.9304 - lr: 0.0010\n",
            "Epoch 7/100\n",
            "367/367 [==============================] - ETA: 0s - loss: 0.0684 - accuracy: 0.9825\n",
            "Epoch 7: val_accuracy did not improve from 0.96110\n",
            "\n",
            "Epoch 7: ReduceLROnPlateau reducing learning rate to 0.00010000000474974513.\n",
            "367/367 [==============================] - 64s 175ms/step - loss: 0.0684 - accuracy: 0.9825 - val_loss: 0.3080 - val_accuracy: 0.9195 - lr: 0.0010\n",
            "Epoch 8/100\n",
            "367/367 [==============================] - ETA: 0s - loss: 0.0214 - accuracy: 0.9930\n",
            "Epoch 8: val_accuracy improved from 0.96110 to 0.99233, saving model to Grape_MobileNetV2_model1_Based_Augmented\n"
          ]
        },
        {
          "name": "stderr",
          "output_type": "stream",
          "text": [
            "WARNING:absl:Function `_wrapped_model` contains input name(s) mobilenetv2_1.00_224_input with unsupported characters which will be renamed to mobilenetv2_1_00_224_input in the SavedModel.\n",
            "WARNING:absl:Found untraced functions such as _jit_compiled_convolution_op, _jit_compiled_convolution_op, _jit_compiled_convolution_op, _jit_compiled_convolution_op, _jit_compiled_convolution_op while saving (showing 5 of 52). These functions will not be directly callable after loading.\n"
          ]
        },
        {
          "name": "stdout",
          "output_type": "stream",
          "text": [
            "INFO:tensorflow:Assets written to: Grape_MobileNetV2_model1_Based_Augmented\\assets\n"
          ]
        },
        {
          "name": "stderr",
          "output_type": "stream",
          "text": [
            "INFO:tensorflow:Assets written to: Grape_MobileNetV2_model1_Based_Augmented\\assets\n"
          ]
        },
        {
          "name": "stdout",
          "output_type": "stream",
          "text": [
            "367/367 [==============================] - 78s 213ms/step - loss: 0.0214 - accuracy: 0.9930 - val_loss: 0.0221 - val_accuracy: 0.9923 - lr: 1.0000e-04\n",
            "Epoch 9/100\n",
            "367/367 [==============================] - ETA: 0s - loss: 0.0082 - accuracy: 0.9970\n",
            "Epoch 9: val_accuracy improved from 0.99233 to 0.99781, saving model to Grape_MobileNetV2_model1_Based_Augmented\n"
          ]
        },
        {
          "name": "stderr",
          "output_type": "stream",
          "text": [
            "WARNING:absl:Function `_wrapped_model` contains input name(s) mobilenetv2_1.00_224_input with unsupported characters which will be renamed to mobilenetv2_1_00_224_input in the SavedModel.\n",
            "WARNING:absl:Found untraced functions such as _jit_compiled_convolution_op, _jit_compiled_convolution_op, _jit_compiled_convolution_op, _jit_compiled_convolution_op, _jit_compiled_convolution_op while saving (showing 5 of 52). These functions will not be directly callable after loading.\n"
          ]
        },
        {
          "name": "stdout",
          "output_type": "stream",
          "text": [
            "INFO:tensorflow:Assets written to: Grape_MobileNetV2_model1_Based_Augmented\\assets\n"
          ]
        },
        {
          "name": "stderr",
          "output_type": "stream",
          "text": [
            "INFO:tensorflow:Assets written to: Grape_MobileNetV2_model1_Based_Augmented\\assets\n"
          ]
        },
        {
          "name": "stdout",
          "output_type": "stream",
          "text": [
            "367/367 [==============================] - 79s 214ms/step - loss: 0.0082 - accuracy: 0.9970 - val_loss: 0.0116 - val_accuracy: 0.9978 - lr: 1.0000e-04\n",
            "Epoch 10/100\n",
            "367/367 [==============================] - ETA: 0s - loss: 0.0123 - accuracy: 0.9963\n",
            "Epoch 10: val_accuracy did not improve from 0.99781\n",
            "367/367 [==============================] - 62s 168ms/step - loss: 0.0123 - accuracy: 0.9963 - val_loss: 0.0106 - val_accuracy: 0.9962 - lr: 1.0000e-04\n",
            "Epoch 11/100\n",
            "367/367 [==============================] - ETA: 0s - loss: 0.0124 - accuracy: 0.9960\n",
            "Epoch 11: val_accuracy did not improve from 0.99781\n",
            "367/367 [==============================] - 62s 169ms/step - loss: 0.0124 - accuracy: 0.9960 - val_loss: 0.0187 - val_accuracy: 0.9945 - lr: 1.0000e-04\n",
            "Epoch 12/100\n",
            "367/367 [==============================] - ETA: 0s - loss: 0.0146 - accuracy: 0.9971\n",
            "Epoch 12: val_accuracy did not improve from 0.99781\n",
            "367/367 [==============================] - 62s 169ms/step - loss: 0.0146 - accuracy: 0.9971 - val_loss: 0.0091 - val_accuracy: 0.9962 - lr: 1.0000e-04\n",
            "Epoch 13/100\n",
            "367/367 [==============================] - ETA: 0s - loss: 0.0146 - accuracy: 0.9956\n",
            "Epoch 13: val_accuracy did not improve from 0.99781\n",
            "367/367 [==============================] - 62s 167ms/step - loss: 0.0146 - accuracy: 0.9956 - val_loss: 0.0079 - val_accuracy: 0.9967 - lr: 1.0000e-04\n",
            "Epoch 14/100\n",
            "367/367 [==============================] - ETA: 0s - loss: 0.0082 - accuracy: 0.9974\n",
            "Epoch 14: val_accuracy did not improve from 0.99781\n",
            "367/367 [==============================] - 61s 166ms/step - loss: 0.0082 - accuracy: 0.9974 - val_loss: 0.0262 - val_accuracy: 0.9896 - lr: 1.0000e-04\n",
            "Epoch 15/100\n",
            "367/367 [==============================] - ETA: 0s - loss: 0.0080 - accuracy: 0.9977\n",
            "Epoch 15: val_accuracy improved from 0.99781 to 0.99945, saving model to Grape_MobileNetV2_model1_Based_Augmented\n"
          ]
        },
        {
          "name": "stderr",
          "output_type": "stream",
          "text": [
            "WARNING:absl:Function `_wrapped_model` contains input name(s) mobilenetv2_1.00_224_input with unsupported characters which will be renamed to mobilenetv2_1_00_224_input in the SavedModel.\n",
            "WARNING:absl:Found untraced functions such as _jit_compiled_convolution_op, _jit_compiled_convolution_op, _jit_compiled_convolution_op, _jit_compiled_convolution_op, _jit_compiled_convolution_op while saving (showing 5 of 52). These functions will not be directly callable after loading.\n"
          ]
        },
        {
          "name": "stdout",
          "output_type": "stream",
          "text": [
            "INFO:tensorflow:Assets written to: Grape_MobileNetV2_model1_Based_Augmented\\assets\n"
          ]
        },
        {
          "name": "stderr",
          "output_type": "stream",
          "text": [
            "INFO:tensorflow:Assets written to: Grape_MobileNetV2_model1_Based_Augmented\\assets\n"
          ]
        },
        {
          "name": "stdout",
          "output_type": "stream",
          "text": [
            "367/367 [==============================] - 80s 219ms/step - loss: 0.0080 - accuracy: 0.9977 - val_loss: 0.0027 - val_accuracy: 0.9995 - lr: 1.0000e-04\n",
            "Epoch 16/100\n",
            "367/367 [==============================] - ETA: 0s - loss: 0.0068 - accuracy: 0.9980\n",
            "Epoch 16: val_accuracy did not improve from 0.99945\n",
            "367/367 [==============================] - 63s 172ms/step - loss: 0.0068 - accuracy: 0.9980 - val_loss: 0.0040 - val_accuracy: 0.9978 - lr: 1.0000e-04\n",
            "Epoch 17/100\n",
            "367/367 [==============================] - ETA: 0s - loss: 0.0063 - accuracy: 0.9977\n",
            "Epoch 17: val_accuracy did not improve from 0.99945\n",
            "367/367 [==============================] - 64s 173ms/step - loss: 0.0063 - accuracy: 0.9977 - val_loss: 0.0108 - val_accuracy: 0.9962 - lr: 1.0000e-04\n",
            "Epoch 18/100\n",
            "367/367 [==============================] - ETA: 0s - loss: 0.0045 - accuracy: 0.9981\n",
            "Epoch 18: val_accuracy did not improve from 0.99945\n",
            "367/367 [==============================] - 63s 172ms/step - loss: 0.0045 - accuracy: 0.9981 - val_loss: 0.0058 - val_accuracy: 0.9978 - lr: 1.0000e-04\n",
            "Epoch 19/100\n",
            "367/367 [==============================] - ETA: 0s - loss: 0.0078 - accuracy: 0.9967\n",
            "Epoch 19: val_accuracy did not improve from 0.99945\n",
            "367/367 [==============================] - 64s 173ms/step - loss: 0.0078 - accuracy: 0.9967 - val_loss: 0.0195 - val_accuracy: 0.9918 - lr: 1.0000e-04\n",
            "Epoch 20/100\n",
            "367/367 [==============================] - ETA: 0s - loss: 0.0053 - accuracy: 0.9985\n",
            "Epoch 20: val_accuracy improved from 0.99945 to 1.00000, saving model to Grape_MobileNetV2_model1_Based_Augmented\n"
          ]
        },
        {
          "name": "stderr",
          "output_type": "stream",
          "text": [
            "WARNING:absl:Function `_wrapped_model` contains input name(s) mobilenetv2_1.00_224_input with unsupported characters which will be renamed to mobilenetv2_1_00_224_input in the SavedModel.\n",
            "WARNING:absl:Found untraced functions such as _jit_compiled_convolution_op, _jit_compiled_convolution_op, _jit_compiled_convolution_op, _jit_compiled_convolution_op, _jit_compiled_convolution_op while saving (showing 5 of 52). These functions will not be directly callable after loading.\n"
          ]
        },
        {
          "name": "stdout",
          "output_type": "stream",
          "text": [
            "INFO:tensorflow:Assets written to: Grape_MobileNetV2_model1_Based_Augmented\\assets\n"
          ]
        },
        {
          "name": "stderr",
          "output_type": "stream",
          "text": [
            "INFO:tensorflow:Assets written to: Grape_MobileNetV2_model1_Based_Augmented\\assets\n"
          ]
        },
        {
          "name": "stdout",
          "output_type": "stream",
          "text": [
            "367/367 [==============================] - 79s 215ms/step - loss: 0.0053 - accuracy: 0.9985 - val_loss: 5.0145e-04 - val_accuracy: 1.0000 - lr: 1.0000e-04\n",
            "Epoch 21/100\n",
            "367/367 [==============================] - ETA: 0s - loss: 0.0099 - accuracy: 0.9967\n",
            "Epoch 21: val_accuracy did not improve from 1.00000\n",
            "367/367 [==============================] - 65s 175ms/step - loss: 0.0099 - accuracy: 0.9967 - val_loss: 0.0098 - val_accuracy: 0.9951 - lr: 1.0000e-04\n",
            "Epoch 22/100\n",
            "367/367 [==============================] - ETA: 0s - loss: 0.0091 - accuracy: 0.9970\n",
            "Epoch 22: val_accuracy did not improve from 1.00000\n",
            "367/367 [==============================] - 63s 173ms/step - loss: 0.0091 - accuracy: 0.9970 - val_loss: 0.0020 - val_accuracy: 0.9995 - lr: 1.0000e-04\n",
            "Epoch 23/100\n",
            "367/367 [==============================] - ETA: 0s - loss: 0.0058 - accuracy: 0.9981\n",
            "Epoch 23: val_accuracy did not improve from 1.00000\n",
            "367/367 [==============================] - 65s 176ms/step - loss: 0.0058 - accuracy: 0.9981 - val_loss: 0.0021 - val_accuracy: 0.9989 - lr: 1.0000e-04\n",
            "Epoch 24/100\n",
            "367/367 [==============================] - ETA: 0s - loss: 0.0095 - accuracy: 0.9973\n",
            "Epoch 24: val_accuracy did not improve from 1.00000\n",
            "367/367 [==============================] - 63s 170ms/step - loss: 0.0095 - accuracy: 0.9973 - val_loss: 0.0042 - val_accuracy: 0.9989 - lr: 1.0000e-04\n",
            "Epoch 25/100\n",
            "367/367 [==============================] - ETA: 0s - loss: 0.0062 - accuracy: 0.9984\n",
            "Epoch 25: val_accuracy did not improve from 1.00000\n",
            "\n",
            "Epoch 25: ReduceLROnPlateau reducing learning rate to 1.0000000474974514e-05.\n",
            "367/367 [==============================] - 69s 189ms/step - loss: 0.0062 - accuracy: 0.9984 - val_loss: 0.0049 - val_accuracy: 0.9989 - lr: 1.0000e-04\n",
            "Epoch 26/100\n",
            "367/367 [==============================] - ETA: 0s - loss: 0.0036 - accuracy: 0.9986\n",
            "Epoch 26: val_accuracy did not improve from 1.00000\n",
            "367/367 [==============================] - 68s 185ms/step - loss: 0.0036 - accuracy: 0.9986 - val_loss: 0.0023 - val_accuracy: 0.9989 - lr: 1.0000e-05\n",
            "Epoch 27/100\n",
            "367/367 [==============================] - ETA: 0s - loss: 0.0029 - accuracy: 0.9993\n",
            "Epoch 27: val_accuracy did not improve from 1.00000\n",
            "367/367 [==============================] - 65s 177ms/step - loss: 0.0029 - accuracy: 0.9993 - val_loss: 0.0011 - val_accuracy: 0.9995 - lr: 1.0000e-05\n",
            "Epoch 28/100\n",
            "367/367 [==============================] - ETA: 0s - loss: 0.0026 - accuracy: 0.9995\n",
            "Epoch 28: val_accuracy did not improve from 1.00000\n",
            "367/367 [==============================] - 62s 170ms/step - loss: 0.0026 - accuracy: 0.9995 - val_loss: 7.2209e-04 - val_accuracy: 1.0000 - lr: 1.0000e-05\n",
            "Epoch 29/100\n",
            "367/367 [==============================] - ETA: 0s - loss: 0.0055 - accuracy: 0.9985\n",
            "Epoch 29: val_accuracy did not improve from 1.00000\n",
            "367/367 [==============================] - 64s 175ms/step - loss: 0.0055 - accuracy: 0.9985 - val_loss: 9.4729e-04 - val_accuracy: 1.0000 - lr: 1.0000e-05\n",
            "Epoch 30/100\n",
            "367/367 [==============================] - ETA: 0s - loss: 7.5374e-04 - accuracy: 0.9999\n",
            "Epoch 30: val_accuracy did not improve from 1.00000\n",
            "\n",
            "Epoch 30: ReduceLROnPlateau reducing learning rate to 1.0000000656873453e-06.\n",
            "367/367 [==============================] - 63s 172ms/step - loss: 7.5374e-04 - accuracy: 0.9999 - val_loss: 7.9026e-04 - val_accuracy: 1.0000 - lr: 1.0000e-05\n",
            "Epoch 31/100\n",
            "367/367 [==============================] - ETA: 0s - loss: 0.0016 - accuracy: 0.9993\n",
            "Epoch 31: val_accuracy did not improve from 1.00000\n",
            "367/367 [==============================] - 67s 182ms/step - loss: 0.0016 - accuracy: 0.9993 - val_loss: 7.6580e-04 - val_accuracy: 1.0000 - lr: 1.0000e-06\n",
            "Epoch 32/100\n",
            "367/367 [==============================] - ETA: 0s - loss: 0.0014 - accuracy: 0.9996\n",
            "Epoch 32: val_accuracy did not improve from 1.00000\n",
            "367/367 [==============================] - 69s 189ms/step - loss: 0.0014 - accuracy: 0.9996 - val_loss: 7.7172e-04 - val_accuracy: 1.0000 - lr: 1.0000e-06\n",
            "Epoch 33/100\n",
            "367/367 [==============================] - ETA: 0s - loss: 0.0016 - accuracy: 0.9993\n",
            "Epoch 33: val_accuracy did not improve from 1.00000\n",
            "367/367 [==============================] - 71s 195ms/step - loss: 0.0016 - accuracy: 0.9993 - val_loss: 7.6114e-04 - val_accuracy: 1.0000 - lr: 1.0000e-06\n",
            "Epoch 34/100\n",
            "367/367 [==============================] - ETA: 0s - loss: 0.0015 - accuracy: 0.9997\n",
            "Epoch 34: val_accuracy did not improve from 1.00000\n",
            "367/367 [==============================] - 68s 185ms/step - loss: 0.0015 - accuracy: 0.9997 - val_loss: 7.6756e-04 - val_accuracy: 1.0000 - lr: 1.0000e-06\n",
            "Epoch 35/100\n",
            "367/367 [==============================] - ETA: 0s - loss: 0.0013 - accuracy: 0.9996\n",
            "Epoch 35: val_accuracy did not improve from 1.00000\n",
            "\n",
            "Epoch 35: ReduceLROnPlateau reducing learning rate to 1.0000001111620805e-07.\n",
            "367/367 [==============================] - 67s 183ms/step - loss: 0.0013 - accuracy: 0.9996 - val_loss: 7.8731e-04 - val_accuracy: 1.0000 - lr: 1.0000e-06\n",
            "Epoch 36/100\n",
            "367/367 [==============================] - ETA: 0s - loss: 0.0016 - accuracy: 0.9993\n",
            "Epoch 36: val_accuracy did not improve from 1.00000\n",
            "367/367 [==============================] - 71s 193ms/step - loss: 0.0016 - accuracy: 0.9993 - val_loss: 7.5527e-04 - val_accuracy: 1.0000 - lr: 1.0000e-07\n",
            "Epoch 37/100\n",
            "367/367 [==============================] - ETA: 0s - loss: 0.0014 - accuracy: 0.9996\n",
            "Epoch 37: val_accuracy did not improve from 1.00000\n",
            "367/367 [==============================] - 74s 201ms/step - loss: 0.0014 - accuracy: 0.9996 - val_loss: 7.5467e-04 - val_accuracy: 1.0000 - lr: 1.0000e-07\n",
            "Epoch 38/100\n",
            "367/367 [==============================] - ETA: 0s - loss: 0.0015 - accuracy: 0.9997\n",
            "Epoch 38: val_accuracy did not improve from 1.00000\n",
            "367/367 [==============================] - 72s 197ms/step - loss: 0.0015 - accuracy: 0.9997 - val_loss: 7.4762e-04 - val_accuracy: 1.0000 - lr: 1.0000e-07\n",
            "Epoch 39/100\n",
            "367/367 [==============================] - ETA: 0s - loss: 7.4614e-04 - accuracy: 0.9997\n",
            "Epoch 39: val_accuracy did not improve from 1.00000\n",
            "367/367 [==============================] - 76s 206ms/step - loss: 7.4614e-04 - accuracy: 0.9997 - val_loss: 7.2881e-04 - val_accuracy: 1.0000 - lr: 1.0000e-07\n",
            "Epoch 40/100\n",
            "367/367 [==============================] - ETA: 0s - loss: 0.0019 - accuracy: 0.9992\n",
            "Epoch 40: val_accuracy did not improve from 1.00000\n",
            "Restoring model weights from the end of the best epoch: 20.\n",
            "\n",
            "Epoch 40: ReduceLROnPlateau reducing learning rate to 1.000000082740371e-08.\n",
            "367/367 [==============================] - 76s 208ms/step - loss: 0.0019 - accuracy: 0.9992 - val_loss: 7.2617e-04 - val_accuracy: 1.0000 - lr: 1.0000e-07\n",
            "Epoch 40: early stopping\n"
          ]
        }
      ],
      "source": [
        "# Define the number of epochs\n",
        "num_epochs = 100\n",
        "\n",
        "# Train the model\n",
        "history_MobileNetV2_model_1 = MobileNetV2_model.fit(train_generator, epochs=num_epochs, validation_data=validation_generator, callbacks=callbacks)"
      ]
    },
    {
      "cell_type": "code",
      "execution_count": 12,
      "metadata": {
        "colab": {
          "base_uri": "https://localhost:8080/",
          "height": 904
        },
        "id": "lvS9xz3LU2TI",
        "outputId": "c334d8fd-572d-448a-edc5-274e17d6b54a",
        "tags": []
      },
      "outputs": [
        {
          "data": {
            "text/plain": [
              "<matplotlib.legend.Legend at 0x299c54f7160>"
            ]
          },
          "execution_count": 12,
          "metadata": {},
          "output_type": "execute_result"
        },
        {
          "data": {
            "image/png": "[encoded data removed]",
            "text/plain": [
              "<Figure size 640x480 with 1 Axes>"
            ]
          },
          "metadata": {},
          "output_type": "display_data"
        },
        {
          "data": {
            "image/png": "[encoded data removed]",
            "text/plain": [
              "<Figure size 640x480 with 1 Axes>"
            ]
          },
          "metadata": {},
          "output_type": "display_data"
        }
      ],
      "source": [
        "#-----------------------------------------------------------\n",
        "# Retrieve a list of list results on training and test data\n",
        "# sets for each training epoch\n",
        "#-----------------------------------------------------------\n",
        "acc      = history_MobileNetV2_model_1.history['accuracy' ]\n",
        "val_acc  = history_MobileNetV2_model_1.history['val_accuracy' ]\n",
        "loss     = history_MobileNetV2_model_1.history['loss' ]\n",
        "val_loss = history_MobileNetV2_model_1.history['val_loss' ]\n",
        "\n",
        "epochs   = range(len(acc)) # Get number of epochs\n",
        "\n",
        "#------------------------------------------------\n",
        "# Plot training and validation accuracy per epoch\n",
        "#------------------------------------------------\n",
        "plt.plot  (epochs, acc )\n",
        "plt.plot  (epochs, val_acc )\n",
        "plt.title ('Training and validation accuracy MobileNetV2 Model 1')\n",
        "plt.legend(['train', 'val'], loc='upper left')\n",
        "plt.figure()\n",
        "\n",
        "#------------------------------------------------\n",
        "# Plot training and validation loss per epoch\n",
        "#------------------------------------------------\n",
        "plt.plot  (epochs, loss)\n",
        "plt.plot  (epochs, val_loss)\n",
        "plt.title ('Training and validation loss MobileNetV2 Model 1')\n",
        "plt.legend(['train', 'val'], loc='upper left')"
      ]
    },
    {
      "attachments": {},
      "cell_type": "markdown",
      "metadata": {
        "id": "SvQOR9IuU2TJ"
      },
      "source": [
        "## MobileNetV2 Model 2"
      ]
    },
    {
      "cell_type": "code",
      "execution_count": 13,
      "metadata": {
        "id": "Tj7lcdvUU2TJ",
        "tags": []
      },
      "outputs": [],
      "source": [
        "# Difine the callbacks\n",
        "# Save the best model\n",
        "checkpoint_callback = ModelCheckpoint(filepath=\"Grape_MobileNetV2_model2_Based_Augmented\", save_best_only=True, monitor=\"val_accuracy\", mode=\"max\", verbose=1)\n",
        "\n",
        "# Early stopping\n",
        "early_stopping_callback = EarlyStopping(monitor=\"val_accuracy\", mode=\"max\", patience=20, verbose=1, restore_best_weights=True)\n",
        "\n",
        "# Reduce learning rate\n",
        "reduce_lr_callback = ReduceLROnPlateau(monitor=\"val_loss\", factor=0.1, patience=5, verbose=1, mode=\"min\", min_delta=0.0001, cooldown=0, min_lr=0)\n",
        "\n",
        "# Callbacks list\n",
        "callbacks=[checkpoint_callback, early_stopping_callback, reduce_lr_callback]"
      ]
    },
    {
      "cell_type": "code",
      "execution_count": 14,
      "metadata": {
        "colab": {
          "base_uri": "https://localhost:8080/"
        },
        "id": "7NKPY1xGU2TJ",
        "outputId": "80551fea-a5d8-4749-8790-512764a074c6",
        "tags": []
      },
      "outputs": [
        {
          "name": "stdout",
          "output_type": "stream",
          "text": [
            "Model: \"sequential_1\"\n",
            "_________________________________________________________________\n",
            " Layer (type)                Output Shape              Param #   \n",
            "=================================================================\n",
            " mobilenetv2_1.00_224 (Funct  (None, 7, 7, 1280)       2257984   \n",
            " ional)                                                          \n",
            "                                                                 \n",
            " global_average_pooling2d (G  (None, 1280)             0         \n",
            " lobalAveragePooling2D)                                          \n",
            "                                                                 \n",
            " dropout_1 (Dropout)         (None, 1280)              0         \n",
            "                                                                 \n",
            " dense_2 (Dense)             (None, 256)               327936    \n",
            "                                                                 \n",
            " dense_3 (Dense)             (None, 4)                 1028      \n",
            "                                                                 \n",
            "=================================================================\n",
            "Total params: 2,586,948\n",
            "Trainable params: 2,552,836\n",
            "Non-trainable params: 34,112\n",
            "_________________________________________________________________\n"
          ]
        }
      ],
      "source": [
        "# Define DIY Model\n",
        "MobileNetV2_2 = tf.keras.models.Sequential([\n",
        "    # MobileNetV2 Layer\n",
        "    MobileNetV2(include_top=False,weights='imagenet',input_shape=(224, 224, 3)),\n",
        "    # Global Average Pooling Layer\n",
        "    tf.keras.layers.GlobalAveragePooling2D(),\n",
        "    # Drop Out Layer\n",
        "    tf.keras.layers.Dropout(0.2),\n",
        "    # 256 neuron hidden layer\n",
        "    tf.keras.layers.Dense(256, activation='relu'),\n",
        "    # Output\n",
        "    tf.keras.layers.Dense(4, activation='softmax') \n",
        "  ])\n",
        "\n",
        "\n",
        "# Compile Model\n",
        "MobileNetV2_2.compile(loss='categorical_crossentropy',optimizer=tf.keras.optimizers.Adam(), metrics=['accuracy']) \n",
        "\n",
        "# Model Summary\n",
        "MobileNetV2_2.summary()"
      ]
    },
    {
      "cell_type": "code",
      "execution_count": 15,
      "metadata": {
        "colab": {
          "base_uri": "https://localhost:8080/"
        },
        "id": "6beuexC9U2TJ",
        "outputId": "7a9822f8-d207-4b86-b2c6-88ba311ffd78",
        "tags": []
      },
      "outputs": [
        {
          "name": "stdout",
          "output_type": "stream",
          "text": [
            "Epoch 1/100\n",
            "367/367 [==============================] - ETA: 0s - loss: 0.2012 - accuracy: 0.9399\n",
            "Epoch 1: val_accuracy improved from -inf to 0.27123, saving model to Grape_MobileNetV2_model2_Based_Augmented\n"
          ]
        },
        {
          "name": "stderr",
          "output_type": "stream",
          "text": [
            "WARNING:absl:Function `_wrapped_model` contains input name(s) mobilenetv2_1.00_224_input with unsupported characters which will be renamed to mobilenetv2_1_00_224_input in the SavedModel.\n",
            "WARNING:absl:Found untraced functions such as _jit_compiled_convolution_op, _jit_compiled_convolution_op, _jit_compiled_convolution_op, _jit_compiled_convolution_op, _jit_compiled_convolution_op while saving (showing 5 of 52). These functions will not be directly callable after loading.\n"
          ]
        },
        {
          "name": "stdout",
          "output_type": "stream",
          "text": [
            "INFO:tensorflow:Assets written to: Grape_MobileNetV2_model2_Based_Augmented\\assets\n"
          ]
        },
        {
          "name": "stderr",
          "output_type": "stream",
          "text": [
            "INFO:tensorflow:Assets written to: Grape_MobileNetV2_model2_Based_Augmented\\assets\n"
          ]
        },
        {
          "name": "stdout",
          "output_type": "stream",
          "text": [
            "367/367 [==============================] - 98s 256ms/step - loss: 0.2012 - accuracy: 0.9399 - val_loss: 18.7192 - val_accuracy: 0.2712 - lr: 0.0010\n",
            "Epoch 2/100\n",
            "367/367 [==============================] - ETA: 0s - loss: 0.1377 - accuracy: 0.9603\n",
            "Epoch 2: val_accuracy improved from 0.27123 to 0.61699, saving model to Grape_MobileNetV2_model2_Based_Augmented\n"
          ]
        },
        {
          "name": "stderr",
          "output_type": "stream",
          "text": [
            "WARNING:absl:Function `_wrapped_model` contains input name(s) mobilenetv2_1.00_224_input with unsupported characters which will be renamed to mobilenetv2_1_00_224_input in the SavedModel.\n",
            "WARNING:absl:Found untraced functions such as _jit_compiled_convolution_op, _jit_compiled_convolution_op, _jit_compiled_convolution_op, _jit_compiled_convolution_op, _jit_compiled_convolution_op while saving (showing 5 of 52). These functions will not be directly callable after loading.\n"
          ]
        },
        {
          "name": "stdout",
          "output_type": "stream",
          "text": [
            "INFO:tensorflow:Assets written to: Grape_MobileNetV2_model2_Based_Augmented\\assets\n"
          ]
        },
        {
          "name": "stderr",
          "output_type": "stream",
          "text": [
            "INFO:tensorflow:Assets written to: Grape_MobileNetV2_model2_Based_Augmented\\assets\n"
          ]
        },
        {
          "name": "stdout",
          "output_type": "stream",
          "text": [
            "367/367 [==============================] - 91s 247ms/step - loss: 0.1377 - accuracy: 0.9603 - val_loss: 2.6945 - val_accuracy: 0.6170 - lr: 0.0010\n",
            "Epoch 3/100\n",
            "367/367 [==============================] - ETA: 0s - loss: 0.0859 - accuracy: 0.9738\n",
            "Epoch 3: val_accuracy did not improve from 0.61699\n",
            "367/367 [==============================] - 69s 186ms/step - loss: 0.0859 - accuracy: 0.9738 - val_loss: 7.5124 - val_accuracy: 0.4685 - lr: 0.0010\n",
            "Epoch 4/100\n",
            "367/367 [==============================] - ETA: 0s - loss: 0.0463 - accuracy: 0.9862\n",
            "Epoch 4: val_accuracy improved from 0.61699 to 0.74247, saving model to Grape_MobileNetV2_model2_Based_Augmented\n"
          ]
        },
        {
          "name": "stderr",
          "output_type": "stream",
          "text": [
            "WARNING:absl:Function `_wrapped_model` contains input name(s) mobilenetv2_1.00_224_input with unsupported characters which will be renamed to mobilenetv2_1_00_224_input in the SavedModel.\n",
            "WARNING:absl:Found untraced functions such as _jit_compiled_convolution_op, _jit_compiled_convolution_op, _jit_compiled_convolution_op, _jit_compiled_convolution_op, _jit_compiled_convolution_op while saving (showing 5 of 52). These functions will not be directly callable after loading.\n"
          ]
        },
        {
          "name": "stdout",
          "output_type": "stream",
          "text": [
            "INFO:tensorflow:Assets written to: Grape_MobileNetV2_model2_Based_Augmented\\assets\n"
          ]
        },
        {
          "name": "stderr",
          "output_type": "stream",
          "text": [
            "INFO:tensorflow:Assets written to: Grape_MobileNetV2_model2_Based_Augmented\\assets\n"
          ]
        },
        {
          "name": "stdout",
          "output_type": "stream",
          "text": [
            "367/367 [==============================] - 86s 233ms/step - loss: 0.0463 - accuracy: 0.9862 - val_loss: 2.5311 - val_accuracy: 0.7425 - lr: 0.0010\n",
            "Epoch 5/100\n",
            "367/367 [==============================] - ETA: 0s - loss: 0.0743 - accuracy: 0.9805\n",
            "Epoch 5: val_accuracy did not improve from 0.74247\n",
            "367/367 [==============================] - 76s 206ms/step - loss: 0.0743 - accuracy: 0.9805 - val_loss: 5.3529 - val_accuracy: 0.3945 - lr: 0.0010\n",
            "Epoch 6/100\n",
            "367/367 [==============================] - ETA: 0s - loss: 0.0432 - accuracy: 0.9875\n",
            "Epoch 6: val_accuracy improved from 0.74247 to 0.94192, saving model to Grape_MobileNetV2_model2_Based_Augmented\n"
          ]
        },
        {
          "name": "stderr",
          "output_type": "stream",
          "text": [
            "WARNING:absl:Function `_wrapped_model` contains input name(s) mobilenetv2_1.00_224_input with unsupported characters which will be renamed to mobilenetv2_1_00_224_input in the SavedModel.\n",
            "WARNING:absl:Found untraced functions such as _jit_compiled_convolution_op, _jit_compiled_convolution_op, _jit_compiled_convolution_op, _jit_compiled_convolution_op, _jit_compiled_convolution_op while saving (showing 5 of 52). These functions will not be directly callable after loading.\n"
          ]
        },
        {
          "name": "stdout",
          "output_type": "stream",
          "text": [
            "INFO:tensorflow:Assets written to: Grape_MobileNetV2_model2_Based_Augmented\\assets\n"
          ]
        },
        {
          "name": "stderr",
          "output_type": "stream",
          "text": [
            "INFO:tensorflow:Assets written to: Grape_MobileNetV2_model2_Based_Augmented\\assets\n"
          ]
        },
        {
          "name": "stdout",
          "output_type": "stream",
          "text": [
            "367/367 [==============================] - 91s 248ms/step - loss: 0.0432 - accuracy: 0.9875 - val_loss: 0.4265 - val_accuracy: 0.9419 - lr: 0.0010\n",
            "Epoch 7/100\n",
            "367/367 [==============================] - ETA: 0s - loss: 0.0673 - accuracy: 0.9791\n",
            "Epoch 7: val_accuracy did not improve from 0.94192\n",
            "367/367 [==============================] - 78s 212ms/step - loss: 0.0673 - accuracy: 0.9791 - val_loss: 13.2743 - val_accuracy: 0.2636 - lr: 0.0010\n",
            "Epoch 8/100\n",
            "367/367 [==============================] - ETA: 0s - loss: 0.0502 - accuracy: 0.9858\n",
            "Epoch 8: val_accuracy did not improve from 0.94192\n",
            "367/367 [==============================] - 78s 213ms/step - loss: 0.0502 - accuracy: 0.9858 - val_loss: 2.2444 - val_accuracy: 0.6658 - lr: 0.0010\n",
            "Epoch 9/100\n",
            "367/367 [==============================] - ETA: 0s - loss: 0.0451 - accuracy: 0.9850\n",
            "Epoch 9: val_accuracy did not improve from 0.94192\n",
            "367/367 [==============================] - 76s 206ms/step - loss: 0.0451 - accuracy: 0.9850 - val_loss: 3.1288 - val_accuracy: 0.7403 - lr: 0.0010\n",
            "Epoch 10/100\n",
            "367/367 [==============================] - ETA: 0s - loss: 0.0479 - accuracy: 0.9854\n",
            "Epoch 10: val_accuracy did not improve from 0.94192\n",
            "367/367 [==============================] - 79s 215ms/step - loss: 0.0479 - accuracy: 0.9854 - val_loss: 1.1421 - val_accuracy: 0.8827 - lr: 0.0010\n",
            "Epoch 11/100\n",
            "367/367 [==============================] - ETA: 0s - loss: 0.0578 - accuracy: 0.9847\n",
            "Epoch 11: val_accuracy did not improve from 0.94192\n",
            "\n",
            "Epoch 11: ReduceLROnPlateau reducing learning rate to 0.00010000000474974513.\n",
            "367/367 [==============================] - 73s 197ms/step - loss: 0.0578 - accuracy: 0.9847 - val_loss: 0.9254 - val_accuracy: 0.8137 - lr: 0.0010\n",
            "Epoch 12/100\n",
            "367/367 [==============================] - ETA: 0s - loss: 0.0210 - accuracy: 0.9930\n",
            "Epoch 12: val_accuracy improved from 0.94192 to 0.96055, saving model to Grape_MobileNetV2_model2_Based_Augmented\n"
          ]
        },
        {
          "name": "stderr",
          "output_type": "stream",
          "text": [
            "WARNING:absl:Function `_wrapped_model` contains input name(s) mobilenetv2_1.00_224_input with unsupported characters which will be renamed to mobilenetv2_1_00_224_input in the SavedModel.\n",
            "WARNING:absl:Found untraced functions such as _jit_compiled_convolution_op, _jit_compiled_convolution_op, _jit_compiled_convolution_op, _jit_compiled_convolution_op, _jit_compiled_convolution_op while saving (showing 5 of 52). These functions will not be directly callable after loading.\n"
          ]
        },
        {
          "name": "stdout",
          "output_type": "stream",
          "text": [
            "INFO:tensorflow:Assets written to: Grape_MobileNetV2_model2_Based_Augmented\\assets\n"
          ]
        },
        {
          "name": "stderr",
          "output_type": "stream",
          "text": [
            "INFO:tensorflow:Assets written to: Grape_MobileNetV2_model2_Based_Augmented\\assets\n"
          ]
        },
        {
          "name": "stdout",
          "output_type": "stream",
          "text": [
            "367/367 [==============================] - 92s 251ms/step - loss: 0.0210 - accuracy: 0.9930 - val_loss: 0.1468 - val_accuracy: 0.9605 - lr: 1.0000e-04\n",
            "Epoch 13/100\n",
            "367/367 [==============================] - ETA: 0s - loss: 0.0153 - accuracy: 0.9950\n",
            "Epoch 13: val_accuracy improved from 0.96055 to 0.99781, saving model to Grape_MobileNetV2_model2_Based_Augmented\n"
          ]
        },
        {
          "name": "stderr",
          "output_type": "stream",
          "text": [
            "WARNING:absl:Function `_wrapped_model` contains input name(s) mobilenetv2_1.00_224_input with unsupported characters which will be renamed to mobilenetv2_1_00_224_input in the SavedModel.\n",
            "WARNING:absl:Found untraced functions such as _jit_compiled_convolution_op, _jit_compiled_convolution_op, _jit_compiled_convolution_op, _jit_compiled_convolution_op, _jit_compiled_convolution_op while saving (showing 5 of 52). These functions will not be directly callable after loading.\n"
          ]
        },
        {
          "name": "stdout",
          "output_type": "stream",
          "text": [
            "INFO:tensorflow:Assets written to: Grape_MobileNetV2_model2_Based_Augmented\\assets\n"
          ]
        },
        {
          "name": "stderr",
          "output_type": "stream",
          "text": [
            "INFO:tensorflow:Assets written to: Grape_MobileNetV2_model2_Based_Augmented\\assets\n"
          ]
        },
        {
          "name": "stdout",
          "output_type": "stream",
          "text": [
            "367/367 [==============================] - 93s 252ms/step - loss: 0.0153 - accuracy: 0.9950 - val_loss: 0.0097 - val_accuracy: 0.9978 - lr: 1.0000e-04\n",
            "Epoch 14/100\n",
            "367/367 [==============================] - ETA: 0s - loss: 0.0138 - accuracy: 0.9960\n",
            "Epoch 14: val_accuracy improved from 0.99781 to 0.99890, saving model to Grape_MobileNetV2_model2_Based_Augmented\n"
          ]
        },
        {
          "name": "stderr",
          "output_type": "stream",
          "text": [
            "WARNING:absl:Function `_wrapped_model` contains input name(s) mobilenetv2_1.00_224_input with unsupported characters which will be renamed to mobilenetv2_1_00_224_input in the SavedModel.\n",
            "WARNING:absl:Found untraced functions such as _jit_compiled_convolution_op, _jit_compiled_convolution_op, _jit_compiled_convolution_op, _jit_compiled_convolution_op, _jit_compiled_convolution_op while saving (showing 5 of 52). These functions will not be directly callable after loading.\n"
          ]
        },
        {
          "name": "stdout",
          "output_type": "stream",
          "text": [
            "INFO:tensorflow:Assets written to: Grape_MobileNetV2_model2_Based_Augmented\\assets\n"
          ]
        },
        {
          "name": "stderr",
          "output_type": "stream",
          "text": [
            "INFO:tensorflow:Assets written to: Grape_MobileNetV2_model2_Based_Augmented\\assets\n"
          ]
        },
        {
          "name": "stdout",
          "output_type": "stream",
          "text": [
            "367/367 [==============================] - 93s 254ms/step - loss: 0.0138 - accuracy: 0.9960 - val_loss: 0.0053 - val_accuracy: 0.9989 - lr: 1.0000e-04\n",
            "Epoch 15/100\n",
            "367/367 [==============================] - ETA: 0s - loss: 0.0073 - accuracy: 0.9978\n",
            "Epoch 15: val_accuracy improved from 0.99890 to 0.99945, saving model to Grape_MobileNetV2_model2_Based_Augmented\n"
          ]
        },
        {
          "name": "stderr",
          "output_type": "stream",
          "text": [
            "WARNING:absl:Function `_wrapped_model` contains input name(s) mobilenetv2_1.00_224_input with unsupported characters which will be renamed to mobilenetv2_1_00_224_input in the SavedModel.\n",
            "WARNING:absl:Found untraced functions such as _jit_compiled_convolution_op, _jit_compiled_convolution_op, _jit_compiled_convolution_op, _jit_compiled_convolution_op, _jit_compiled_convolution_op while saving (showing 5 of 52). These functions will not be directly callable after loading.\n"
          ]
        },
        {
          "name": "stdout",
          "output_type": "stream",
          "text": [
            "INFO:tensorflow:Assets written to: Grape_MobileNetV2_model2_Based_Augmented\\assets\n"
          ]
        },
        {
          "name": "stderr",
          "output_type": "stream",
          "text": [
            "INFO:tensorflow:Assets written to: Grape_MobileNetV2_model2_Based_Augmented\\assets\n"
          ]
        },
        {
          "name": "stdout",
          "output_type": "stream",
          "text": [
            "367/367 [==============================] - 95s 259ms/step - loss: 0.0073 - accuracy: 0.9978 - val_loss: 0.0045 - val_accuracy: 0.9995 - lr: 1.0000e-04\n",
            "Epoch 16/100\n",
            "367/367 [==============================] - ETA: 0s - loss: 0.0071 - accuracy: 0.9981\n",
            "Epoch 16: val_accuracy did not improve from 0.99945\n",
            "367/367 [==============================] - 75s 203ms/step - loss: 0.0071 - accuracy: 0.9981 - val_loss: 0.0041 - val_accuracy: 0.9989 - lr: 1.0000e-04\n",
            "Epoch 17/100\n",
            "367/367 [==============================] - ETA: 0s - loss: 0.0117 - accuracy: 0.9963\n",
            "Epoch 17: val_accuracy did not improve from 0.99945\n",
            "367/367 [==============================] - 75s 204ms/step - loss: 0.0117 - accuracy: 0.9963 - val_loss: 0.0038 - val_accuracy: 0.9995 - lr: 1.0000e-04\n",
            "Epoch 18/100\n",
            "367/367 [==============================] - ETA: 0s - loss: 0.0053 - accuracy: 0.9982\n",
            "Epoch 18: val_accuracy did not improve from 0.99945\n",
            "367/367 [==============================] - 73s 199ms/step - loss: 0.0053 - accuracy: 0.9982 - val_loss: 0.0117 - val_accuracy: 0.9967 - lr: 1.0000e-04\n",
            "Epoch 19/100\n",
            "367/367 [==============================] - ETA: 0s - loss: 0.0068 - accuracy: 0.9978\n",
            "Epoch 19: val_accuracy did not improve from 0.99945\n",
            "367/367 [==============================] - 74s 201ms/step - loss: 0.0068 - accuracy: 0.9978 - val_loss: 0.0197 - val_accuracy: 0.9945 - lr: 1.0000e-04\n",
            "Epoch 20/100\n",
            "367/367 [==============================] - ETA: 0s - loss: 0.0077 - accuracy: 0.9980\n",
            "Epoch 20: val_accuracy did not improve from 0.99945\n",
            "367/367 [==============================] - 72s 197ms/step - loss: 0.0077 - accuracy: 0.9980 - val_loss: 0.0078 - val_accuracy: 0.9978 - lr: 1.0000e-04\n",
            "Epoch 21/100\n",
            "367/367 [==============================] - ETA: 0s - loss: 0.0090 - accuracy: 0.9974\n",
            "Epoch 21: val_accuracy did not improve from 0.99945\n",
            "367/367 [==============================] - 73s 198ms/step - loss: 0.0090 - accuracy: 0.9974 - val_loss: 0.0076 - val_accuracy: 0.9962 - lr: 1.0000e-04\n",
            "Epoch 22/100\n",
            "367/367 [==============================] - ETA: 0s - loss: 0.0040 - accuracy: 0.9985\n",
            "Epoch 22: val_accuracy did not improve from 0.99945\n",
            "\n",
            "Epoch 22: ReduceLROnPlateau reducing learning rate to 1.0000000474974514e-05.\n",
            "367/367 [==============================] - 72s 196ms/step - loss: 0.0040 - accuracy: 0.9985 - val_loss: 0.0067 - val_accuracy: 0.9984 - lr: 1.0000e-04\n",
            "Epoch 23/100\n",
            "367/367 [==============================] - ETA: 0s - loss: 0.0047 - accuracy: 0.9986\n",
            "Epoch 23: val_accuracy did not improve from 0.99945\n",
            "367/367 [==============================] - 72s 196ms/step - loss: 0.0047 - accuracy: 0.9986 - val_loss: 0.0078 - val_accuracy: 0.9978 - lr: 1.0000e-05\n",
            "Epoch 24/100\n",
            "367/367 [==============================] - ETA: 0s - loss: 0.0017 - accuracy: 0.9995\n",
            "Epoch 24: val_accuracy did not improve from 0.99945\n",
            "367/367 [==============================] - 71s 194ms/step - loss: 0.0017 - accuracy: 0.9995 - val_loss: 0.0079 - val_accuracy: 0.9978 - lr: 1.0000e-05\n",
            "Epoch 25/100\n",
            "367/367 [==============================] - ETA: 0s - loss: 0.0063 - accuracy: 0.9981\n",
            "Epoch 25: val_accuracy did not improve from 0.99945\n",
            "367/367 [==============================] - 73s 198ms/step - loss: 0.0063 - accuracy: 0.9981 - val_loss: 0.0094 - val_accuracy: 0.9967 - lr: 1.0000e-05\n",
            "Epoch 26/100\n",
            "367/367 [==============================] - ETA: 0s - loss: 0.0056 - accuracy: 0.9984\n",
            "Epoch 26: val_accuracy did not improve from 0.99945\n",
            "367/367 [==============================] - 73s 198ms/step - loss: 0.0056 - accuracy: 0.9984 - val_loss: 0.0096 - val_accuracy: 0.9967 - lr: 1.0000e-05\n",
            "Epoch 27/100\n",
            "367/367 [==============================] - ETA: 0s - loss: 0.0035 - accuracy: 0.9989\n",
            "Epoch 27: val_accuracy did not improve from 0.99945\n",
            "\n",
            "Epoch 27: ReduceLROnPlateau reducing learning rate to 1.0000000656873453e-06.\n",
            "367/367 [==============================] - 73s 199ms/step - loss: 0.0035 - accuracy: 0.9989 - val_loss: 0.0078 - val_accuracy: 0.9978 - lr: 1.0000e-05\n",
            "Epoch 28/100\n",
            "367/367 [==============================] - ETA: 0s - loss: 0.0018 - accuracy: 0.9995\n",
            "Epoch 28: val_accuracy did not improve from 0.99945\n",
            "367/367 [==============================] - 72s 196ms/step - loss: 0.0018 - accuracy: 0.9995 - val_loss: 0.0079 - val_accuracy: 0.9978 - lr: 1.0000e-06\n",
            "Epoch 29/100\n",
            "367/367 [==============================] - ETA: 0s - loss: 0.0040 - accuracy: 0.9990\n",
            "Epoch 29: val_accuracy did not improve from 0.99945\n",
            "367/367 [==============================] - 72s 196ms/step - loss: 0.0040 - accuracy: 0.9990 - val_loss: 0.0080 - val_accuracy: 0.9978 - lr: 1.0000e-06\n",
            "Epoch 30/100\n",
            "367/367 [==============================] - ETA: 0s - loss: 0.0017 - accuracy: 0.9996\n",
            "Epoch 30: val_accuracy did not improve from 0.99945\n",
            "367/367 [==============================] - 73s 198ms/step - loss: 0.0017 - accuracy: 0.9996 - val_loss: 0.0080 - val_accuracy: 0.9978 - lr: 1.0000e-06\n",
            "Epoch 31/100\n",
            "367/367 [==============================] - ETA: 0s - loss: 0.0018 - accuracy: 0.9996\n",
            "Epoch 31: val_accuracy did not improve from 0.99945\n",
            "367/367 [==============================] - 73s 198ms/step - loss: 0.0018 - accuracy: 0.9996 - val_loss: 0.0080 - val_accuracy: 0.9978 - lr: 1.0000e-06\n",
            "Epoch 32/100\n",
            "367/367 [==============================] - ETA: 0s - loss: 0.0022 - accuracy: 0.9993\n",
            "Epoch 32: val_accuracy did not improve from 0.99945\n",
            "\n",
            "Epoch 32: ReduceLROnPlateau reducing learning rate to 1.0000001111620805e-07.\n",
            "367/367 [==============================] - 74s 200ms/step - loss: 0.0022 - accuracy: 0.9993 - val_loss: 0.0080 - val_accuracy: 0.9978 - lr: 1.0000e-06\n",
            "Epoch 33/100\n",
            "367/367 [==============================] - ETA: 0s - loss: 0.0030 - accuracy: 0.9990\n",
            "Epoch 33: val_accuracy did not improve from 0.99945\n",
            "367/367 [==============================] - 76s 208ms/step - loss: 0.0030 - accuracy: 0.9990 - val_loss: 0.0081 - val_accuracy: 0.9978 - lr: 1.0000e-07\n",
            "Epoch 34/100\n",
            "367/367 [==============================] - ETA: 0s - loss: 0.0026 - accuracy: 0.9993\n",
            "Epoch 34: val_accuracy did not improve from 0.99945\n",
            "367/367 [==============================] - 74s 201ms/step - loss: 0.0026 - accuracy: 0.9993 - val_loss: 0.0081 - val_accuracy: 0.9978 - lr: 1.0000e-07\n",
            "Epoch 35/100\n",
            "367/367 [==============================] - ETA: 0s - loss: 0.0039 - accuracy: 0.9995\n",
            "Epoch 35: val_accuracy did not improve from 0.99945\n",
            "Restoring model weights from the end of the best epoch: 15.\n",
            "367/367 [==============================] - 69s 188ms/step - loss: 0.0039 - accuracy: 0.9995 - val_loss: 0.0081 - val_accuracy: 0.9978 - lr: 1.0000e-07\n",
            "Epoch 35: early stopping\n"
          ]
        }
      ],
      "source": [
        "# Define the number of epochs\n",
        "num_epochs = 100\n",
        "\n",
        "# Train the model\n",
        "history_MobileNetV2_model_2 = MobileNetV2_2.fit(train_generator, epochs=num_epochs, validation_data=validation_generator, callbacks=callbacks)"
      ]
    },
    {
      "cell_type": "code",
      "execution_count": 16,
      "metadata": {
        "colab": {
          "base_uri": "https://localhost:8080/",
          "height": 904
        },
        "id": "3f1nmwUhU2TK",
        "outputId": "2b9bfde1-30de-4c95-807c-70e6cd6fd933",
        "tags": []
      },
      "outputs": [
        {
          "data": {
            "text/plain": [
              "<matplotlib.legend.Legend at 0x299ee4a26b0>"
            ]
          },
          "execution_count": 16,
          "metadata": {},
          "output_type": "execute_result"
        },
        {
          "data": {
            "image/png": "[encoded data removed]",
            "text/plain": [
              "<Figure size 640x480 with 1 Axes>"
            ]
          },
          "metadata": {},
          "output_type": "display_data"
        },
        {
          "data": {
            "image/png": "[encoded data removed]",
            "text/plain": [
              "<Figure size 640x480 with 1 Axes>"
            ]
          },
          "metadata": {},
          "output_type": "display_data"
        }
      ],
      "source": [
        "#-----------------------------------------------------------\n",
        "# Retrieve a list of list results on training and test data\n",
        "# sets for each training epoch\n",
        "#-----------------------------------------------------------\n",
        "acc      = history_MobileNetV2_model_2.history['accuracy' ]\n",
        "val_acc  = history_MobileNetV2_model_2.history['val_accuracy' ]\n",
        "loss     = history_MobileNetV2_model_2.history['loss' ]\n",
        "val_loss = history_MobileNetV2_model_2.history['val_loss' ]\n",
        "\n",
        "epochs   = range(len(acc)) # Get number of epochs\n",
        "\n",
        "#------------------------------------------------\n",
        "# Plot training and validation accuracy per epoch\n",
        "#------------------------------------------------\n",
        "plt.plot  (epochs, acc )\n",
        "plt.plot  (epochs, val_acc )\n",
        "plt.title ('Training and validation accuracy MobileNetV2 Model 2')\n",
        "plt.legend(['train', 'val'], loc='upper left')\n",
        "plt.figure()\n",
        "\n",
        "#------------------------------------------------\n",
        "# Plot training and validation loss per epoch\n",
        "#------------------------------------------------\n",
        "plt.plot  (epochs, loss)\n",
        "plt.plot  (epochs, val_loss)\n",
        "plt.title ('Training and validation loss MobileNetV2 Model 2')\n",
        "plt.legend(['train', 'val'], loc='upper left')"
      ]
    }
  ],
  "metadata": {
    "accelerator": "GPU",
    "colab": {
      "gpuType": "T4",
      "provenance": []
    },
    "gpuClass": "standard",
    "kernelspec": {
      "display_name": "Python 3 (ipykernel)",
      "language": "python",
      "name": "python3"
    },
    "language_info": {
      "codemirror_mode": {
        "name": "ipython",
        "version": 3
      },
      "file_extension": ".py",
      "mimetype": "text/x-python",
      "name": "python",
      "nbconvert_exporter": "python",
      "pygments_lexer": "ipython3",
      "version": "3.10.0"
    }
  },
  "nbformat": 4,
  "nbformat_minor": 0
}
