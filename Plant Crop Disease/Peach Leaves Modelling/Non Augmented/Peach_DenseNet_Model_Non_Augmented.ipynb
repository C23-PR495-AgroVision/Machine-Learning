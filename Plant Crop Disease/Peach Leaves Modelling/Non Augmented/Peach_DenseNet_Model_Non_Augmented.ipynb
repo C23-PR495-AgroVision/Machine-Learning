{
 "cells": [
  {
   "attachments": {},
   "cell_type": "markdown",
   "metadata": {
    "id": "hO3kEcUPU2S3"
   },
   "source": [
    "# Library"
   ]
  },
  {
   "cell_type": "code",
   "execution_count": 1,
   "metadata": {
    "colab": {
     "base_uri": "https://localhost:8080/"
    },
    "id": "kczkUjsAU2S8",
    "outputId": "560bc1dc-a22e-4fbb-e7d6-564f355f234d",
    "tags": []
   },
   "outputs": [
    {
     "name": "stdout",
     "output_type": "stream",
     "text": [
      "Collecting matplotlib\n",
      "  Downloading matplotlib-3.7.1-cp38-cp38-manylinux_2_12_x86_64.manylinux2010_x86_64.whl (9.2 MB)\n",
      "\u001b[2K     \u001b[90m━━━━━━━━━━━━━━━━━━━━━━━━━━━━━━━━━━━━━━━━\u001b[0m \u001b[32m9.2/9.2 MB\u001b[0m \u001b[31m47.4 MB/s\u001b[0m eta \u001b[36m0:00:00\u001b[0m00:01\u001b[0m00:01\u001b[0m\n",
      "\u001b[?25hRequirement already satisfied: numpy>=1.20 in /usr/local/lib/python3.8/dist-packages (from matplotlib) (1.23.5)\n",
      "Requirement already satisfied: python-dateutil>=2.7 in /usr/local/lib/python3.8/dist-packages (from matplotlib) (2.8.2)\n",
      "Collecting contourpy>=1.0.1\n",
      "  Downloading contourpy-1.0.7-cp38-cp38-manylinux_2_17_x86_64.manylinux2014_x86_64.whl (300 kB)\n",
      "\u001b[2K     \u001b[90m━━━━━━━━━━━━━━━━━━━━━━━━━━━━━━━━━━━━━\u001b[0m \u001b[32m300.0/300.0 kB\u001b[0m \u001b[31m100.8 MB/s\u001b[0m eta \u001b[36m0:00:00\u001b[0m\n",
      "\u001b[?25hCollecting kiwisolver>=1.0.1\n",
      "  Downloading kiwisolver-1.4.4-cp38-cp38-manylinux_2_5_x86_64.manylinux1_x86_64.whl (1.2 MB)\n",
      "\u001b[2K     \u001b[90m━━━━━━━━━━━━━━━━━━━━━━━━━━━━━━━━━━━━━━━━\u001b[0m \u001b[32m1.2/1.2 MB\u001b[0m \u001b[31m76.6 MB/s\u001b[0m eta \u001b[36m0:00:00\u001b[0m\n",
      "\u001b[?25hCollecting fonttools>=4.22.0\n",
      "  Downloading fonttools-4.39.4-py3-none-any.whl (1.0 MB)\n",
      "\u001b[2K     \u001b[90m━━━━━━━━━━━━━━━━━━━━━━━━━━━━━━━━━━━━━━━━\u001b[0m \u001b[32m1.0/1.0 MB\u001b[0m \u001b[31m111.5 MB/s\u001b[0m eta \u001b[36m0:00:00\u001b[0m\n",
      "\u001b[?25hRequirement already satisfied: packaging>=20.0 in /usr/local/lib/python3.8/dist-packages (from matplotlib) (23.0)\n",
      "Requirement already satisfied: importlib-resources>=3.2.0 in /usr/local/lib/python3.8/dist-packages (from matplotlib) (5.12.0)\n",
      "Collecting pyparsing>=2.3.1\n",
      "  Downloading pyparsing-3.0.9-py3-none-any.whl (98 kB)\n",
      "\u001b[2K     \u001b[90m━━━━━━━━━━━━━━━━━━━━━━━━━━━━━━━━━━━━━━━━\u001b[0m \u001b[32m98.3/98.3 kB\u001b[0m \u001b[31m48.3 MB/s\u001b[0m eta \u001b[36m0:00:00\u001b[0m\n",
      "\u001b[?25hCollecting pillow>=6.2.0\n",
      "  Downloading Pillow-9.5.0-cp38-cp38-manylinux_2_28_x86_64.whl (3.4 MB)\n",
      "\u001b[2K     \u001b[90m━━━━━━━━━━━━━━━━━━━━━━━━━━━━━━━━━━━━━━━━\u001b[0m \u001b[32m3.4/3.4 MB\u001b[0m \u001b[31m75.9 MB/s\u001b[0m eta \u001b[36m0:00:00\u001b[0ma \u001b[36m0:00:01\u001b[0m\n",
      "\u001b[?25hCollecting cycler>=0.10\n",
      "  Downloading cycler-0.11.0-py3-none-any.whl (6.4 kB)\n",
      "Requirement already satisfied: zipp>=3.1.0 in /usr/local/lib/python3.8/dist-packages (from importlib-resources>=3.2.0->matplotlib) (3.15.0)\n",
      "Requirement already satisfied: six>=1.5 in /usr/lib/python3/dist-packages (from python-dateutil>=2.7->matplotlib) (1.14.0)\n",
      "Installing collected packages: pyparsing, pillow, kiwisolver, fonttools, cycler, contourpy, matplotlib\n",
      "Successfully installed contourpy-1.0.7 cycler-0.11.0 fonttools-4.39.4 kiwisolver-1.4.4 matplotlib-3.7.1 pillow-9.5.0 pyparsing-3.0.9\n",
      "\u001b[33mWARNING: Running pip as the 'root' user can result in broken permissions and conflicting behaviour with the system package manager. It is recommended to use a virtual environment instead: https://pip.pypa.io/warnings/venv\u001b[0m\u001b[33m\n",
      "\u001b[0m\n",
      "\u001b[1m[\u001b[0m\u001b[34;49mnotice\u001b[0m\u001b[1;39;49m]\u001b[0m\u001b[39;49m A new release of pip is available: \u001b[0m\u001b[31;49m23.0.1\u001b[0m\u001b[39;49m -> \u001b[0m\u001b[32;49m23.1.2\u001b[0m\n",
      "\u001b[1m[\u001b[0m\u001b[34;49mnotice\u001b[0m\u001b[1;39;49m]\u001b[0m\u001b[39;49m To update, run: \u001b[0m\u001b[32;49mpython3 -m pip install --upgrade pip\u001b[0m\n",
      "Note: you may need to restart the kernel to use updated packages.\n"
     ]
    }
   ],
   "source": [
    "pip install matplotlib"
   ]
  },
  {
   "cell_type": "code",
   "execution_count": 2,
   "metadata": {
    "colab": {
     "base_uri": "https://localhost:8080/"
    },
    "id": "oEW3Nbu7U2S_",
    "outputId": "92812bc7-1183-479f-f26e-48af8d791268",
    "tags": []
   },
   "outputs": [
    {
     "name": "stdout",
     "output_type": "stream",
     "text": [
      "Collecting opendatasets\n",
      "  Downloading opendatasets-0.1.22-py3-none-any.whl (15 kB)\n",
      "Collecting kaggle\n",
      "  Downloading kaggle-1.5.13.tar.gz (63 kB)\n",
      "\u001b[2K     \u001b[90m━━━━━━━━━━━━━━━━━━━━━━━━━━━━━━━━━━━━━━━━\u001b[0m \u001b[32m63.3/63.3 kB\u001b[0m \u001b[31m3.3 MB/s\u001b[0m eta \u001b[36m0:00:00\u001b[0m\n",
      "\u001b[?25h  Preparing metadata (setup.py) ... \u001b[?25ldone\n",
      "\u001b[?25hCollecting tqdm\n",
      "  Downloading tqdm-4.65.0-py3-none-any.whl (77 kB)\n",
      "\u001b[2K     \u001b[90m━━━━━━━━━━━━━━━━━━━━━━━━━━━━━━━━━━━━━━━━\u001b[0m \u001b[32m77.1/77.1 kB\u001b[0m \u001b[31m20.4 MB/s\u001b[0m eta \u001b[36m0:00:00\u001b[0m\n",
      "\u001b[?25hCollecting click\n",
      "  Downloading click-8.1.3-py3-none-any.whl (96 kB)\n",
      "\u001b[2K     \u001b[90m━━━━━━━━━━━━━━━━━━━━━━━━━━━━━━━━━━━━━━━━\u001b[0m \u001b[32m96.6/96.6 kB\u001b[0m \u001b[31m29.9 MB/s\u001b[0m eta \u001b[36m0:00:00\u001b[0m\n",
      "\u001b[?25hRequirement already satisfied: six>=1.10 in /usr/lib/python3/dist-packages (from kaggle->opendatasets) (1.14.0)\n",
      "Requirement already satisfied: certifi in /usr/lib/python3/dist-packages (from kaggle->opendatasets) (2019.11.28)\n",
      "Requirement already satisfied: python-dateutil in /usr/local/lib/python3.8/dist-packages (from kaggle->opendatasets) (2.8.2)\n",
      "Requirement already satisfied: requests in /usr/local/lib/python3.8/dist-packages (from kaggle->opendatasets) (2.28.2)\n",
      "Collecting python-slugify\n",
      "  Downloading python_slugify-8.0.1-py2.py3-none-any.whl (9.7 kB)\n",
      "Requirement already satisfied: urllib3 in /usr/lib/python3/dist-packages (from kaggle->opendatasets) (1.25.8)\n",
      "Collecting text-unidecode>=1.3\n",
      "  Downloading text_unidecode-1.3-py2.py3-none-any.whl (78 kB)\n",
      "\u001b[2K     \u001b[90m━━━━━━━━━━━━━━━━━━━━━━━━━━━━━━━━━━━━━━━━\u001b[0m \u001b[32m78.2/78.2 kB\u001b[0m \u001b[31m27.9 MB/s\u001b[0m eta \u001b[36m0:00:00\u001b[0m\n",
      "\u001b[?25hRequirement already satisfied: idna<4,>=2.5 in /usr/lib/python3/dist-packages (from requests->kaggle->opendatasets) (2.8)\n",
      "Requirement already satisfied: charset-normalizer<4,>=2 in /usr/local/lib/python3.8/dist-packages (from requests->kaggle->opendatasets) (3.1.0)\n",
      "Building wheels for collected packages: kaggle\n",
      "  Building wheel for kaggle (setup.py) ... \u001b[?25ldone\n",
      "\u001b[?25h  Created wheel for kaggle: filename=kaggle-1.5.13-py3-none-any.whl size=77717 sha256=9b3dc879f03c125ac06045e001b142713f000adf6f812ba7cf76749497374037\n",
      "  Stored in directory: /root/.cache/pip/wheels/e6/8e/67/e07554a720a493dc6b39b30488590ba92ed45448ad0134d253\n",
      "Successfully built kaggle\n",
      "Installing collected packages: text-unidecode, tqdm, python-slugify, click, kaggle, opendatasets\n",
      "Successfully installed click-8.1.3 kaggle-1.5.13 opendatasets-0.1.22 python-slugify-8.0.1 text-unidecode-1.3 tqdm-4.65.0\n",
      "\u001b[33mWARNING: Running pip as the 'root' user can result in broken permissions and conflicting behaviour with the system package manager. It is recommended to use a virtual environment instead: https://pip.pypa.io/warnings/venv\u001b[0m\u001b[33m\n",
      "\u001b[0m\n",
      "\u001b[1m[\u001b[0m\u001b[34;49mnotice\u001b[0m\u001b[1;39;49m]\u001b[0m\u001b[39;49m A new release of pip is available: \u001b[0m\u001b[31;49m23.0.1\u001b[0m\u001b[39;49m -> \u001b[0m\u001b[32;49m23.1.2\u001b[0m\n",
      "\u001b[1m[\u001b[0m\u001b[34;49mnotice\u001b[0m\u001b[1;39;49m]\u001b[0m\u001b[39;49m To update, run: \u001b[0m\u001b[32;49mpython3 -m pip install --upgrade pip\u001b[0m\n",
      "Note: you may need to restart the kernel to use updated packages.\n"
     ]
    }
   ],
   "source": [
    "pip install opendatasets"
   ]
  },
  {
   "cell_type": "code",
   "execution_count": 3,
   "metadata": {
    "id": "SIHHdOB4U2TA",
    "tags": []
   },
   "outputs": [],
   "source": [
    "# Library to dataset\n",
    "import opendatasets as od\n",
    "import os\n",
    "import zipfile\n",
    "import numpy as np\n",
    "\n",
    "# Surpress Warnings\n",
    "import warnings\n",
    "warnings.filterwarnings('ignore')\n",
    "os.environ['TF_CPP_MIN_LOG_LEVEL'] = '3' \n",
    "# library visualization\n",
    "import matplotlib.pyplot as plt\n",
    "\n",
    "# Library Tensorflow\n",
    "import tensorflow as tf\n",
    "from tensorflow import keras\n",
    "from tensorflow.keras.preprocessing.image import ImageDataGenerator\n",
    "from tensorflow.keras.callbacks import ModelCheckpoint, EarlyStopping, ReduceLROnPlateau\n",
    "from tensorflow.keras.applications.densenet import DenseNet121\n",
    "# Others\n",
    "import shutil\n",
    "import random"
   ]
  },
  {
   "attachments": {},
   "cell_type": "markdown",
   "metadata": {
    "id": "Dy8YkYoaU2TB"
   },
   "source": [
    "# Load dataset"
   ]
  },
  {
   "cell_type": "code",
   "execution_count": 4,
   "metadata": {
    "colab": {
     "base_uri": "https://localhost:8080/"
    },
    "id": "TWOf7hZ1U2TC",
    "outputId": "154ddb01-fdf5-489d-a124-c5a98f28e838",
    "tags": []
   },
   "outputs": [
    {
     "name": "stdout",
     "output_type": "stream",
     "text": [
      "Please provide your Kaggle credentials to download this dataset. Learn more: http://bit.ly/kaggle-creds\n",
      "Your Kaggle username:"
     ]
    },
    {
     "name": "stdout",
     "output_type": "stream",
     "text": [
      "  ahmadhabibhasanzein\n"
     ]
    },
    {
     "name": "stdout",
     "output_type": "stream",
     "text": [
      "Your Kaggle Key:"
     ]
    },
    {
     "name": "stdout",
     "output_type": "stream",
     "text": [
      "  ········\n"
     ]
    },
    {
     "name": "stdout",
     "output_type": "stream",
     "text": [
      "Downloading peach-leaves.zip to ./peach-leaves\n"
     ]
    },
    {
     "name": "stderr",
     "output_type": "stream",
     "text": [
      "100%|██████████| 59.6M/59.6M [00:01<00:00, 34.1MB/s]\n"
     ]
    },
    {
     "name": "stdout",
     "output_type": "stream",
     "text": [
      "\n"
     ]
    }
   ],
   "source": [
    "# Download dataset\n",
    "od.download('https://www.kaggle.com/datasets/ahmadhabibhasanzein/peach-leaves')"
   ]
  },
  {
   "cell_type": "code",
   "execution_count": 5,
   "metadata": {
    "colab": {
     "base_uri": "https://localhost:8080/"
    },
    "id": "8ZAjREJ0U2TC",
    "outputId": "e353279e-b678-447d-fa99-1692fde49140",
    "tags": []
   },
   "outputs": [
    {
     "name": "stdout",
     "output_type": "stream",
     "text": [
      "==========================Training Data====================\n",
      "Found 3566 files belonging to 2 classes.\n",
      "==========================Validation Data====================\n",
      "Found 891 files belonging to 2 classes.\n"
     ]
    }
   ],
   "source": [
    "# Load dataset\n",
    "print(\"==========================Training Data====================\")\n",
    "train_data = tf.keras.preprocessing.image_dataset_from_directory(\n",
    "    \"peach-leaves/Peach/train\",\n",
    "    label_mode=\"categorical\",\n",
    "    class_names=['Peach___Bacterial_spot','Peach___healthy'],\n",
    "    color_mode=\"rgb\",\n",
    "    batch_size=1,\n",
    "    image_size=(256, 256),\n",
    "    shuffle=True,\n",
    "    seed=123\n",
    ")\n",
    "print(\"==========================Validation Data====================\")\n",
    "val_data = tf.keras.preprocessing.image_dataset_from_directory(\n",
    "    \"peach-leaves/Peach/valid\",\n",
    "    label_mode=\"categorical\",\n",
    "    class_names=['Peach___Bacterial_spot','Peach___healthy'],\n",
    "    color_mode=\"rgb\",\n",
    "    batch_size=1,\n",
    "    image_size=(256, 256),\n",
    "    shuffle=True,\n",
    "    seed=123\n",
    ")"
   ]
  },
  {
   "cell_type": "code",
   "execution_count": 6,
   "metadata": {
    "colab": {
     "base_uri": "https://localhost:8080/"
    },
    "id": "vEPzd1egU2TD",
    "outputId": "e5a3c712-830d-464b-f766-7c5898bd3c48",
    "tags": []
   },
   "outputs": [
    {
     "name": "stdout",
     "output_type": "stream",
     "text": [
      "Found 3566 images belonging to 2 classes.\n",
      "Found 891 images belonging to 2 classes.\n"
     ]
    }
   ],
   "source": [
    "# All images will be rescaled by 1./255.\n",
    "train_datagen = ImageDataGenerator(rescale = 1.0/256.)\n",
    "test_datagen  = ImageDataGenerator(rescale = 1.0/256.)\n",
    "\n",
    "# --------------------\n",
    "# Flow training images in batches of 20 using train_datagen generator\n",
    "# --------------------\n",
    "train_generator = train_datagen.flow_from_directory(\"peach-leaves/Peach/train\",\n",
    "                                                    batch_size=20,\n",
    "                                                    class_mode='categorical',\n",
    "                                                    target_size=(224, 224))     \n",
    "# --------------------\n",
    "# Flow validation images in batches of 20 using test_datagen generator\n",
    "# --------------------\n",
    "validation_generator =  test_datagen.flow_from_directory(\"peach-leaves/Peach/valid\",\n",
    "                                                         batch_size=20,\n",
    "                                                         class_mode  = 'categorical',\n",
    "                                                         target_size = (224, 224))"
   ]
  },
  {
   "attachments": {},
   "cell_type": "markdown",
   "metadata": {
    "id": "_3jaO5YgU2TE"
   },
   "source": [
    "# List Resource"
   ]
  },
  {
   "cell_type": "code",
   "execution_count": 7,
   "metadata": {
    "colab": {
     "base_uri": "https://localhost:8080/"
    },
    "id": "SGemCaxnU2TF",
    "outputId": "e907b07c-907d-4f9b-9eac-080e6758ee4f",
    "tags": []
   },
   "outputs": [
    {
     "name": "stdout",
     "output_type": "stream",
     "text": [
      "Thu May 25 06:06:08 2023       \n",
      "+-----------------------------------------------------------------------------+\n",
      "| NVIDIA-SMI 525.85.12    Driver Version: 525.85.12    CUDA Version: 12.0     |\n",
      "|-------------------------------+----------------------+----------------------+\n",
      "| GPU  Name        Persistence-M| Bus-Id        Disp.A | Volatile Uncorr. ECC |\n",
      "| Fan  Temp  Perf  Pwr:Usage/Cap|         Memory-Usage | GPU-Util  Compute M. |\n",
      "|                               |                      |               MIG M. |\n",
      "|===============================+======================+======================|\n",
      "|   0  NVIDIA GeForce ...  On   | 00000000:01:00.0 Off |                  N/A |\n",
      "|  0%   55C    P2   115W / 350W |  10509MiB / 12288MiB |      0%      Default |\n",
      "|                               |                      |                  N/A |\n",
      "+-------------------------------+----------------------+----------------------+\n",
      "                                                                               \n",
      "+-----------------------------------------------------------------------------+\n",
      "| Processes:                                                                  |\n",
      "|  GPU   GI   CI        PID   Type   Process name                  GPU Memory |\n",
      "|        ID   ID                                                   Usage      |\n",
      "|=============================================================================|\n",
      "+-----------------------------------------------------------------------------+\n"
     ]
    }
   ],
   "source": [
    "# Check GPU\n",
    "!nvidia-smi"
   ]
  },
  {
   "cell_type": "code",
   "execution_count": 8,
   "metadata": {
    "colab": {
     "base_uri": "https://localhost:8080/"
    },
    "id": "FSapZ74PU2TF",
    "outputId": "848c5b21-d8e2-4f16-a12a-68ad576f86c1",
    "tags": []
   },
   "outputs": [
    {
     "data": {
      "text/plain": [
       "[PhysicalDevice(name='/physical_device:GPU:0', device_type='GPU')]"
      ]
     },
     "execution_count": 8,
     "metadata": {},
     "output_type": "execute_result"
    }
   ],
   "source": [
    "# Lis physical devices\n",
    "devices = tf.config.experimental.list_physical_devices(\"GPU\")\n",
    "devices"
   ]
  },
  {
   "cell_type": "code",
   "execution_count": 9,
   "metadata": {
    "id": "A8WtBtBaU2TG",
    "tags": []
   },
   "outputs": [
    {
     "name": "stdout",
     "output_type": "stream",
     "text": [
      "INFO:tensorflow:Using MirroredStrategy with devices ('/job:localhost/replica:0/task:0/device:GPU:0',)\n"
     ]
    }
   ],
   "source": [
    "# Define the GPU strategy\n",
    "mirrored_strategy = tf.distribute.MirroredStrategy(devices=[\"/gpu:0\"])"
   ]
  },
  {
   "attachments": {},
   "cell_type": "markdown",
   "metadata": {
    "id": "Vqr_uGTNU2TG"
   },
   "source": [
    "# Modelling Without Augmentation"
   ]
  },
  {
   "attachments": {},
   "cell_type": "markdown",
   "metadata": {
    "id": "w4Wzh6ZyU2TH"
   },
   "source": [
    "## DenseNet Model 1"
   ]
  },
  {
   "cell_type": "code",
   "execution_count": 10,
   "metadata": {
    "id": "uUqYGBfRU2TH",
    "tags": []
   },
   "outputs": [],
   "source": [
    "# Difine the callbacks\n",
    "# Save the best model\n",
    "checkpoint_callback = ModelCheckpoint(filepath=\"Peach_DenseNet_model1_Based_Non_Augmented\", save_best_only=True, monitor=\"val_accuracy\", mode=\"max\", verbose=1)\n",
    "\n",
    "# Early stopping\n",
    "early_stopping_callback = EarlyStopping(monitor=\"val_accuracy\", mode=\"max\", patience=20, verbose=1, restore_best_weights=True)\n",
    "\n",
    "# Reduce learning rate\n",
    "reduce_lr_callback = ReduceLROnPlateau(monitor=\"val_loss\", factor=0.1, patience=5, verbose=1, mode=\"min\", min_delta=0.0001, cooldown=0, min_lr=0)\n",
    "\n",
    "# Callbacks list\n",
    "callbacks=[checkpoint_callback, early_stopping_callback, reduce_lr_callback]"
   ]
  },
  {
   "cell_type": "code",
   "execution_count": 11,
   "metadata": {
    "colab": {
     "base_uri": "https://localhost:8080/"
    },
    "id": "BQHFs3gSU2TI",
    "outputId": "b282b947-037e-4e7f-f029-790bba9238ae",
    "tags": []
   },
   "outputs": [
    {
     "name": "stdout",
     "output_type": "stream",
     "text": [
      "Downloading data from https://storage.googleapis.com/tensorflow/keras-applications/densenet/densenet121_weights_tf_dim_ordering_tf_kernels_notop.h5\n",
      "29084464/29084464 [==============================] - 1s 0us/step\n",
      "Model: \"sequential\"\n",
      "_________________________________________________________________\n",
      " Layer (type)                Output Shape              Param #   \n",
      "=================================================================\n",
      " densenet121 (Functional)    (None, 7, 7, 1024)        7037504   \n",
      "                                                                 \n",
      " global_max_pooling2d (Globa  (None, 1024)             0         \n",
      " lMaxPooling2D)                                                  \n",
      "                                                                 \n",
      " dropout (Dropout)           (None, 1024)              0         \n",
      "                                                                 \n",
      " dense (Dense)               (None, 256)               262400    \n",
      "                                                                 \n",
      " dense_1 (Dense)             (None, 2)                 514       \n",
      "                                                                 \n",
      "=================================================================\n",
      "Total params: 7,300,418\n",
      "Trainable params: 7,216,770\n",
      "Non-trainable params: 83,648\n",
      "_________________________________________________________________\n"
     ]
    }
   ],
   "source": [
    "# Define DIY Model\n",
    "DenseNet_model = tf.keras.models.Sequential([\n",
    "    # DenseNet121 Layer\n",
    "    DenseNet121(include_top=False,weights='imagenet',input_shape=(224, 224, 3)),\n",
    "    # Global Max Pooling Layer\n",
    "    tf.keras.layers.GlobalMaxPooling2D(),\n",
    "    # Drop Out Layer\n",
    "    tf.keras.layers.Dropout(0.2),\n",
    "    # 256 neuron hidden layer\n",
    "    tf.keras.layers.Dense(256, activation='relu'),\n",
    "    # Output\n",
    "    tf.keras.layers.Dense(2, activation='softmax') \n",
    "  ])\n",
    "\n",
    "\n",
    "# Compile Model\n",
    "DenseNet_model.compile(loss='categorical_crossentropy',optimizer=tf.keras.optimizers.Adam(), metrics=['accuracy']) \n",
    "\n",
    "# Model Summary\n",
    "DenseNet_model.summary()"
   ]
  },
  {
   "cell_type": "code",
   "execution_count": 12,
   "metadata": {
    "colab": {
     "base_uri": "https://localhost:8080/"
    },
    "id": "6coN3TKhU2TI",
    "outputId": "4f4e1f60-ed58-45f6-8dcc-43f64f0213f4",
    "tags": []
   },
   "outputs": [
    {
     "name": "stdout",
     "output_type": "stream",
     "text": [
      "Epoch 1/100\n",
      "179/179 [==============================] - ETA: 0s - loss: 0.2511 - accuracy: 0.9579\n",
      "Epoch 1: val_accuracy improved from -inf to 0.96184, saving model to Peach_DenseNet_model1_Based_Non_Augmented\n"
     ]
    },
    {
     "name": "stderr",
     "output_type": "stream",
     "text": [
      "WARNING:absl:Found untraced functions such as _jit_compiled_convolution_op, _jit_compiled_convolution_op, _jit_compiled_convolution_op, _jit_compiled_convolution_op, _jit_compiled_convolution_op while saving (showing 5 of 120). These functions will not be directly callable after loading.\n"
     ]
    },
    {
     "name": "stdout",
     "output_type": "stream",
     "text": [
      "INFO:tensorflow:Assets written to: Peach_DenseNet_model1_Based_Non_Augmented/assets\n"
     ]
    },
    {
     "name": "stderr",
     "output_type": "stream",
     "text": [
      "INFO:tensorflow:Assets written to: Peach_DenseNet_model1_Based_Non_Augmented/assets\n"
     ]
    },
    {
     "name": "stdout",
     "output_type": "stream",
     "text": [
      "179/179 [==============================] - 94s 278ms/step - loss: 0.2511 - accuracy: 0.9579 - val_loss: 0.2290 - val_accuracy: 0.9618 - lr: 0.0010\n",
      "Epoch 2/100\n",
      "179/179 [==============================] - ETA: 0s - loss: 0.0251 - accuracy: 0.9941\n",
      "Epoch 2: val_accuracy improved from 0.96184 to 0.99663, saving model to Peach_DenseNet_model1_Based_Non_Augmented\n"
     ]
    },
    {
     "name": "stderr",
     "output_type": "stream",
     "text": [
      "WARNING:absl:Found untraced functions such as _jit_compiled_convolution_op, _jit_compiled_convolution_op, _jit_compiled_convolution_op, _jit_compiled_convolution_op, _jit_compiled_convolution_op while saving (showing 5 of 120). These functions will not be directly callable after loading.\n"
     ]
    },
    {
     "name": "stdout",
     "output_type": "stream",
     "text": [
      "INFO:tensorflow:Assets written to: Peach_DenseNet_model1_Based_Non_Augmented/assets\n"
     ]
    },
    {
     "name": "stderr",
     "output_type": "stream",
     "text": [
      "INFO:tensorflow:Assets written to: Peach_DenseNet_model1_Based_Non_Augmented/assets\n"
     ]
    },
    {
     "name": "stdout",
     "output_type": "stream",
     "text": [
      "179/179 [==============================] - 43s 241ms/step - loss: 0.0251 - accuracy: 0.9941 - val_loss: 0.0171 - val_accuracy: 0.9966 - lr: 0.0010\n",
      "Epoch 3/100\n",
      "179/179 [==============================] - ETA: 0s - loss: 0.0750 - accuracy: 0.9792\n",
      "Epoch 3: val_accuracy did not improve from 0.99663\n",
      "179/179 [==============================] - 12s 69ms/step - loss: 0.0750 - accuracy: 0.9792 - val_loss: 1.6072 - val_accuracy: 0.8519 - lr: 0.0010\n",
      "Epoch 4/100\n",
      "179/179 [==============================] - ETA: 0s - loss: 0.0231 - accuracy: 0.9938\n",
      "Epoch 4: val_accuracy improved from 0.99663 to 0.99776, saving model to Peach_DenseNet_model1_Based_Non_Augmented\n"
     ]
    },
    {
     "name": "stderr",
     "output_type": "stream",
     "text": [
      "WARNING:absl:Found untraced functions such as _jit_compiled_convolution_op, _jit_compiled_convolution_op, _jit_compiled_convolution_op, _jit_compiled_convolution_op, _jit_compiled_convolution_op while saving (showing 5 of 120). These functions will not be directly callable after loading.\n"
     ]
    },
    {
     "name": "stdout",
     "output_type": "stream",
     "text": [
      "INFO:tensorflow:Assets written to: Peach_DenseNet_model1_Based_Non_Augmented/assets\n"
     ]
    },
    {
     "name": "stderr",
     "output_type": "stream",
     "text": [
      "INFO:tensorflow:Assets written to: Peach_DenseNet_model1_Based_Non_Augmented/assets\n"
     ]
    },
    {
     "name": "stdout",
     "output_type": "stream",
     "text": [
      "179/179 [==============================] - 43s 241ms/step - loss: 0.0231 - accuracy: 0.9938 - val_loss: 0.0082 - val_accuracy: 0.9978 - lr: 0.0010\n",
      "Epoch 5/100\n",
      "179/179 [==============================] - ETA: 0s - loss: 0.0144 - accuracy: 0.9952\n",
      "Epoch 5: val_accuracy did not improve from 0.99776\n",
      "179/179 [==============================] - 12s 69ms/step - loss: 0.0144 - accuracy: 0.9952 - val_loss: 0.5098 - val_accuracy: 0.9562 - lr: 0.0010\n",
      "Epoch 6/100\n",
      "179/179 [==============================] - ETA: 0s - loss: 0.0766 - accuracy: 0.9818\n",
      "Epoch 6: val_accuracy did not improve from 0.99776\n",
      "179/179 [==============================] - 13s 70ms/step - loss: 0.0766 - accuracy: 0.9818 - val_loss: 0.0585 - val_accuracy: 0.9809 - lr: 0.0010\n",
      "Epoch 7/100\n",
      "179/179 [==============================] - ETA: 0s - loss: 0.0599 - accuracy: 0.9815\n",
      "Epoch 7: val_accuracy did not improve from 0.99776\n",
      "179/179 [==============================] - 13s 70ms/step - loss: 0.0599 - accuracy: 0.9815 - val_loss: 0.0145 - val_accuracy: 0.9966 - lr: 0.0010\n",
      "Epoch 8/100\n",
      "179/179 [==============================] - ETA: 0s - loss: 0.0085 - accuracy: 0.9978\n",
      "Epoch 8: val_accuracy did not improve from 0.99776\n",
      "179/179 [==============================] - 13s 70ms/step - loss: 0.0085 - accuracy: 0.9978 - val_loss: 0.0125 - val_accuracy: 0.9955 - lr: 0.0010\n",
      "Epoch 9/100\n",
      "179/179 [==============================] - ETA: 0s - loss: 0.0144 - accuracy: 0.9955\n",
      "Epoch 9: val_accuracy did not improve from 0.99776\n",
      "\n",
      "Epoch 9: ReduceLROnPlateau reducing learning rate to 0.00010000000474974513.\n",
      "179/179 [==============================] - 13s 70ms/step - loss: 0.0144 - accuracy: 0.9955 - val_loss: 0.8108 - val_accuracy: 0.8092 - lr: 0.0010\n",
      "Epoch 10/100\n",
      "179/179 [==============================] - ETA: 0s - loss: 0.0172 - accuracy: 0.9944\n",
      "Epoch 10: val_accuracy did not improve from 0.99776\n",
      "179/179 [==============================] - 13s 70ms/step - loss: 0.0172 - accuracy: 0.9944 - val_loss: 0.0078 - val_accuracy: 0.9978 - lr: 1.0000e-04\n",
      "Epoch 11/100\n",
      "179/179 [==============================] - ETA: 0s - loss: 0.0058 - accuracy: 0.9983\n",
      "Epoch 11: val_accuracy did not improve from 0.99776\n",
      "179/179 [==============================] - 13s 70ms/step - loss: 0.0058 - accuracy: 0.9983 - val_loss: 0.0049 - val_accuracy: 0.9978 - lr: 1.0000e-04\n",
      "Epoch 12/100\n",
      "179/179 [==============================] - ETA: 0s - loss: 0.0066 - accuracy: 0.9969\n",
      "Epoch 12: val_accuracy improved from 0.99776 to 0.99888, saving model to Peach_DenseNet_model1_Based_Non_Augmented\n"
     ]
    },
    {
     "name": "stderr",
     "output_type": "stream",
     "text": [
      "WARNING:absl:Found untraced functions such as _jit_compiled_convolution_op, _jit_compiled_convolution_op, _jit_compiled_convolution_op, _jit_compiled_convolution_op, _jit_compiled_convolution_op while saving (showing 5 of 120). These functions will not be directly callable after loading.\n"
     ]
    },
    {
     "name": "stdout",
     "output_type": "stream",
     "text": [
      "INFO:tensorflow:Assets written to: Peach_DenseNet_model1_Based_Non_Augmented/assets\n"
     ]
    },
    {
     "name": "stderr",
     "output_type": "stream",
     "text": [
      "INFO:tensorflow:Assets written to: Peach_DenseNet_model1_Based_Non_Augmented/assets\n"
     ]
    },
    {
     "name": "stdout",
     "output_type": "stream",
     "text": [
      "179/179 [==============================] - 44s 244ms/step - loss: 0.0066 - accuracy: 0.9969 - val_loss: 0.0034 - val_accuracy: 0.9989 - lr: 1.0000e-04\n",
      "Epoch 13/100\n",
      "179/179 [==============================] - ETA: 0s - loss: 0.0024 - accuracy: 0.9994\n",
      "Epoch 13: val_accuracy did not improve from 0.99888\n",
      "179/179 [==============================] - 12s 69ms/step - loss: 0.0024 - accuracy: 0.9994 - val_loss: 0.0028 - val_accuracy: 0.9989 - lr: 1.0000e-04\n",
      "Epoch 14/100\n",
      "179/179 [==============================] - ETA: 0s - loss: 0.0051 - accuracy: 0.9989\n",
      "Epoch 14: val_accuracy did not improve from 0.99888\n",
      "179/179 [==============================] - 12s 70ms/step - loss: 0.0051 - accuracy: 0.9989 - val_loss: 0.0056 - val_accuracy: 0.9966 - lr: 1.0000e-04\n",
      "Epoch 15/100\n",
      "179/179 [==============================] - ETA: 0s - loss: 0.0043 - accuracy: 0.9986\n",
      "Epoch 15: val_accuracy did not improve from 0.99888\n",
      "179/179 [==============================] - 13s 70ms/step - loss: 0.0043 - accuracy: 0.9986 - val_loss: 0.0033 - val_accuracy: 0.9989 - lr: 1.0000e-04\n",
      "Epoch 16/100\n",
      "179/179 [==============================] - ETA: 0s - loss: 0.0019 - accuracy: 0.9989\n",
      "Epoch 16: val_accuracy did not improve from 0.99888\n",
      "179/179 [==============================] - 13s 70ms/step - loss: 0.0019 - accuracy: 0.9989 - val_loss: 0.0045 - val_accuracy: 0.9978 - lr: 1.0000e-04\n",
      "Epoch 17/100\n",
      "179/179 [==============================] - ETA: 0s - loss: 9.2846e-04 - accuracy: 1.0000\n",
      "Epoch 17: val_accuracy did not improve from 0.99888\n",
      "179/179 [==============================] - 13s 70ms/step - loss: 9.2846e-04 - accuracy: 1.0000 - val_loss: 0.0030 - val_accuracy: 0.9989 - lr: 1.0000e-04\n",
      "Epoch 18/100\n",
      "179/179 [==============================] - ETA: 0s - loss: 0.0010 - accuracy: 0.9997\n",
      "Epoch 18: val_accuracy did not improve from 0.99888\n",
      "\n",
      "Epoch 18: ReduceLROnPlateau reducing learning rate to 1.0000000474974514e-05.\n",
      "179/179 [==============================] - 13s 70ms/step - loss: 0.0010 - accuracy: 0.9997 - val_loss: 0.0030 - val_accuracy: 0.9989 - lr: 1.0000e-04\n",
      "Epoch 19/100\n",
      "179/179 [==============================] - ETA: 0s - loss: 0.0011 - accuracy: 0.9994\n",
      "Epoch 19: val_accuracy did not improve from 0.99888\n",
      "179/179 [==============================] - 13s 70ms/step - loss: 0.0011 - accuracy: 0.9994 - val_loss: 0.0029 - val_accuracy: 0.9989 - lr: 1.0000e-05\n",
      "Epoch 20/100\n",
      "179/179 [==============================] - ETA: 0s - loss: 5.4108e-04 - accuracy: 1.0000\n",
      "Epoch 20: val_accuracy did not improve from 0.99888\n",
      "179/179 [==============================] - 13s 70ms/step - loss: 5.4108e-04 - accuracy: 1.0000 - val_loss: 0.0029 - val_accuracy: 0.9989 - lr: 1.0000e-05\n",
      "Epoch 21/100\n",
      "179/179 [==============================] - ETA: 0s - loss: 0.0016 - accuracy: 0.9994\n",
      "Epoch 21: val_accuracy did not improve from 0.99888\n",
      "179/179 [==============================] - 13s 70ms/step - loss: 0.0016 - accuracy: 0.9994 - val_loss: 0.0028 - val_accuracy: 0.9989 - lr: 1.0000e-05\n",
      "Epoch 22/100\n",
      "179/179 [==============================] - ETA: 0s - loss: 4.2033e-04 - accuracy: 1.0000\n",
      "Epoch 22: val_accuracy did not improve from 0.99888\n",
      "179/179 [==============================] - 13s 70ms/step - loss: 4.2033e-04 - accuracy: 1.0000 - val_loss: 0.0027 - val_accuracy: 0.9989 - lr: 1.0000e-05\n",
      "Epoch 23/100\n",
      "179/179 [==============================] - ETA: 0s - loss: 5.3608e-04 - accuracy: 0.9997\n",
      "Epoch 23: val_accuracy did not improve from 0.99888\n",
      "179/179 [==============================] - 13s 70ms/step - loss: 5.3608e-04 - accuracy: 0.9997 - val_loss: 0.0028 - val_accuracy: 0.9989 - lr: 1.0000e-05\n",
      "Epoch 24/100\n",
      "179/179 [==============================] - ETA: 0s - loss: 7.2166e-04 - accuracy: 0.9997\n",
      "Epoch 24: val_accuracy did not improve from 0.99888\n",
      "179/179 [==============================] - 13s 70ms/step - loss: 7.2166e-04 - accuracy: 0.9997 - val_loss: 0.0029 - val_accuracy: 0.9989 - lr: 1.0000e-05\n",
      "Epoch 25/100\n",
      "179/179 [==============================] - ETA: 0s - loss: 6.3513e-04 - accuracy: 0.9997\n",
      "Epoch 25: val_accuracy did not improve from 0.99888\n",
      "179/179 [==============================] - 13s 70ms/step - loss: 6.3513e-04 - accuracy: 0.9997 - val_loss: 0.0029 - val_accuracy: 0.9989 - lr: 1.0000e-05\n",
      "Epoch 26/100\n",
      "179/179 [==============================] - ETA: 0s - loss: 0.0018 - accuracy: 0.9994\n",
      "Epoch 26: val_accuracy did not improve from 0.99888\n",
      "179/179 [==============================] - 13s 70ms/step - loss: 0.0018 - accuracy: 0.9994 - val_loss: 0.0026 - val_accuracy: 0.9989 - lr: 1.0000e-05\n",
      "Epoch 27/100\n",
      "179/179 [==============================] - ETA: 0s - loss: 0.0017 - accuracy: 0.9989\n",
      "Epoch 27: val_accuracy did not improve from 0.99888\n",
      "179/179 [==============================] - 13s 70ms/step - loss: 0.0017 - accuracy: 0.9989 - val_loss: 0.0028 - val_accuracy: 0.9989 - lr: 1.0000e-05\n",
      "Epoch 28/100\n",
      "179/179 [==============================] - ETA: 0s - loss: 3.4306e-04 - accuracy: 1.0000\n",
      "Epoch 28: val_accuracy did not improve from 0.99888\n",
      "179/179 [==============================] - 13s 70ms/step - loss: 3.4306e-04 - accuracy: 1.0000 - val_loss: 0.0029 - val_accuracy: 0.9989 - lr: 1.0000e-05\n",
      "Epoch 29/100\n",
      "179/179 [==============================] - ETA: 0s - loss: 7.9113e-04 - accuracy: 0.9997\n",
      "Epoch 29: val_accuracy did not improve from 0.99888\n",
      "179/179 [==============================] - 12s 70ms/step - loss: 7.9113e-04 - accuracy: 0.9997 - val_loss: 0.0027 - val_accuracy: 0.9989 - lr: 1.0000e-05\n",
      "Epoch 30/100\n",
      "179/179 [==============================] - ETA: 0s - loss: 7.6381e-04 - accuracy: 0.9997\n",
      "Epoch 30: val_accuracy did not improve from 0.99888\n",
      "179/179 [==============================] - 12s 70ms/step - loss: 7.6381e-04 - accuracy: 0.9997 - val_loss: 0.0027 - val_accuracy: 0.9989 - lr: 1.0000e-05\n",
      "Epoch 31/100\n",
      "179/179 [==============================] - ETA: 0s - loss: 5.5298e-04 - accuracy: 1.0000\n",
      "Epoch 31: val_accuracy did not improve from 0.99888\n",
      "\n",
      "Epoch 31: ReduceLROnPlateau reducing learning rate to 1.0000000656873453e-06.\n",
      "179/179 [==============================] - 13s 70ms/step - loss: 5.5298e-04 - accuracy: 1.0000 - val_loss: 0.0029 - val_accuracy: 0.9989 - lr: 1.0000e-05\n",
      "Epoch 32/100\n",
      "179/179 [==============================] - ETA: 0s - loss: 0.0010 - accuracy: 0.9994\n",
      "Epoch 32: val_accuracy did not improve from 0.99888\n",
      "Restoring model weights from the end of the best epoch: 12.\n",
      "179/179 [==============================] - 13s 70ms/step - loss: 0.0010 - accuracy: 0.9994 - val_loss: 0.0030 - val_accuracy: 0.9989 - lr: 1.0000e-06\n",
      "Epoch 32: early stopping\n"
     ]
    }
   ],
   "source": [
    "# Define the number of epochs\n",
    "num_epochs = 100\n",
    "\n",
    "# Train the model\n",
    "history_DenseNet_model_1 = DenseNet_model.fit(train_generator, epochs=num_epochs, validation_data=validation_generator, callbacks=callbacks)"
   ]
  },
  {
   "cell_type": "code",
   "execution_count": 13,
   "metadata": {
    "colab": {
     "base_uri": "https://localhost:8080/",
     "height": 904
    },
    "id": "lvS9xz3LU2TI",
    "outputId": "f0ad29c7-f5a5-4f8a-ed43-d5268b53f9e5",
    "tags": []
   },
   "outputs": [
    {
     "data": {
      "text/plain": [
       "<matplotlib.legend.Legend at 0x7f90486d81c0>"
      ]
     },
     "execution_count": 13,
     "metadata": {},
     "output_type": "execute_result"
    },
    {
     "data": {
      "image/png": "[encoded data removed]",
      "text/plain": [
       "<Figure size 640x480 with 1 Axes>"
      ]
     },
     "metadata": {},
     "output_type": "display_data"
    },
    {
     "data": {
      "image/png": "[encoded data removed]",
      "text/plain": [
       "<Figure size 640x480 with 1 Axes>"
      ]
     },
     "metadata": {},
     "output_type": "display_data"
    }
   ],
   "source": [
    "#-----------------------------------------------------------\n",
    "# Retrieve a list of list results on training and test data\n",
    "# sets for each training epoch\n",
    "#-----------------------------------------------------------\n",
    "acc      = history_DenseNet_model_1.history['accuracy' ]\n",
    "val_acc  = history_DenseNet_model_1.history['val_accuracy' ]\n",
    "loss     = history_DenseNet_model_1.history['loss' ]\n",
    "val_loss = history_DenseNet_model_1.history['val_loss' ]\n",
    "\n",
    "epochs   = range(len(acc)) # Get number of epochs\n",
    "\n",
    "#------------------------------------------------\n",
    "# Plot training and validation accuracy per epoch\n",
    "#------------------------------------------------\n",
    "plt.plot  (epochs, acc )\n",
    "plt.plot  (epochs, val_acc )\n",
    "plt.title ('Training and validation accuracy DenseNet Model 1')\n",
    "plt.legend(['train', 'val'], loc='upper left')\n",
    "plt.figure()\n",
    "\n",
    "#------------------------------------------------\n",
    "# Plot training and validation loss per epoch\n",
    "#------------------------------------------------\n",
    "plt.plot  (epochs, loss)\n",
    "plt.plot  (epochs, val_loss)\n",
    "plt.title ('Training and validation loss DenseNet Model 1')\n",
    "plt.legend(['train', 'val'], loc='upper left')"
   ]
  },
  {
   "attachments": {},
   "cell_type": "markdown",
   "metadata": {
    "id": "SvQOR9IuU2TJ"
   },
   "source": [
    "## DenseNet Model 2"
   ]
  },
  {
   "cell_type": "code",
   "execution_count": 14,
   "metadata": {
    "id": "Tj7lcdvUU2TJ",
    "tags": []
   },
   "outputs": [],
   "source": [
    "# Difine the callbacks\n",
    "# Save the best model\n",
    "checkpoint_callback = ModelCheckpoint(filepath=\"Peach_DenseNet_model2_Based_Non_Augmented\", save_best_only=True, monitor=\"val_accuracy\", mode=\"max\", verbose=1)\n",
    "\n",
    "# Early stopping\n",
    "early_stopping_callback = EarlyStopping(monitor=\"val_accuracy\", mode=\"max\", patience=20, verbose=1, restore_best_weights=True)\n",
    "\n",
    "# Reduce learning rate\n",
    "reduce_lr_callback = ReduceLROnPlateau(monitor=\"val_loss\", factor=0.1, patience=5, verbose=1, mode=\"min\", min_delta=0.0001, cooldown=0, min_lr=0)\n",
    "\n",
    "# Callbacks list\n",
    "callbacks=[checkpoint_callback, early_stopping_callback, reduce_lr_callback]"
   ]
  },
  {
   "cell_type": "code",
   "execution_count": 15,
   "metadata": {
    "colab": {
     "base_uri": "https://localhost:8080/"
    },
    "id": "7NKPY1xGU2TJ",
    "outputId": "e2b7074f-db05-4283-99ee-809a1555aa90",
    "tags": []
   },
   "outputs": [
    {
     "name": "stdout",
     "output_type": "stream",
     "text": [
      "Model: \"sequential_1\"\n",
      "_________________________________________________________________\n",
      " Layer (type)                Output Shape              Param #   \n",
      "=================================================================\n",
      " densenet121 (Functional)    (None, 7, 7, 1024)        7037504   \n",
      "                                                                 \n",
      " global_average_pooling2d (G  (None, 1024)             0         \n",
      " lobalAveragePooling2D)                                          \n",
      "                                                                 \n",
      " dropout_1 (Dropout)         (None, 1024)              0         \n",
      "                                                                 \n",
      " dense_2 (Dense)             (None, 256)               262400    \n",
      "                                                                 \n",
      " dense_3 (Dense)             (None, 2)                 514       \n",
      "                                                                 \n",
      "=================================================================\n",
      "Total params: 7,300,418\n",
      "Trainable params: 7,216,770\n",
      "Non-trainable params: 83,648\n",
      "_________________________________________________________________\n"
     ]
    }
   ],
   "source": [
    "# Define DIY Model\n",
    "DenseNet_model_2 = tf.keras.models.Sequential([\n",
    "    # DenseNet121 Layer\n",
    "    DenseNet121(include_top=False,weights='imagenet',input_shape=(224, 224, 3)),\n",
    "    # Global Average Pooling Layer\n",
    "    tf.keras.layers.GlobalAveragePooling2D(),\n",
    "    # Drop Out Layer\n",
    "    tf.keras.layers.Dropout(0.2),\n",
    "    # 256 neuron hidden layer\n",
    "    tf.keras.layers.Dense(256, activation='relu'),\n",
    "    # Output\n",
    "    tf.keras.layers.Dense(2, activation='softmax') \n",
    "  ])\n",
    "\n",
    "\n",
    "# Compile Model\n",
    "DenseNet_model_2.compile(loss='categorical_crossentropy',optimizer=tf.keras.optimizers.Adam(), metrics=['accuracy']) \n",
    "\n",
    "# Model Summary\n",
    "DenseNet_model_2.summary()"
   ]
  },
  {
   "cell_type": "code",
   "execution_count": 16,
   "metadata": {
    "colab": {
     "base_uri": "https://localhost:8080/"
    },
    "id": "6beuexC9U2TJ",
    "outputId": "d6313a63-830a-4fbe-e1a6-1e0958865bf8",
    "tags": []
   },
   "outputs": [
    {
     "name": "stdout",
     "output_type": "stream",
     "text": [
      "Epoch 1/100\n",
      "179/179 [==============================] - ETA: 0s - loss: 0.0942 - accuracy: 0.9675\n",
      "Epoch 1: val_accuracy improved from -inf to 0.76094, saving model to Peach_DenseNet_model2_Based_Non_Augmented\n"
     ]
    },
    {
     "name": "stderr",
     "output_type": "stream",
     "text": [
      "WARNING:absl:Found untraced functions such as _jit_compiled_convolution_op, _jit_compiled_convolution_op, _jit_compiled_convolution_op, _jit_compiled_convolution_op, _jit_compiled_convolution_op while saving (showing 5 of 120). These functions will not be directly callable after loading.\n"
     ]
    },
    {
     "name": "stdout",
     "output_type": "stream",
     "text": [
      "INFO:tensorflow:Assets written to: Peach_DenseNet_model2_Based_Non_Augmented/assets\n"
     ]
    },
    {
     "name": "stderr",
     "output_type": "stream",
     "text": [
      "INFO:tensorflow:Assets written to: Peach_DenseNet_model2_Based_Non_Augmented/assets\n"
     ]
    },
    {
     "name": "stdout",
     "output_type": "stream",
     "text": [
      "179/179 [==============================] - 83s 265ms/step - loss: 0.0942 - accuracy: 0.9675 - val_loss: 1.1271 - val_accuracy: 0.7609 - lr: 0.0010\n",
      "Epoch 2/100\n",
      "179/179 [==============================] - ETA: 0s - loss: 0.0489 - accuracy: 0.9877\n",
      "Epoch 2: val_accuracy improved from 0.76094 to 0.93603, saving model to Peach_DenseNet_model2_Based_Non_Augmented\n"
     ]
    },
    {
     "name": "stderr",
     "output_type": "stream",
     "text": [
      "WARNING:absl:Found untraced functions such as _jit_compiled_convolution_op, _jit_compiled_convolution_op, _jit_compiled_convolution_op, _jit_compiled_convolution_op, _jit_compiled_convolution_op while saving (showing 5 of 120). These functions will not be directly callable after loading.\n"
     ]
    },
    {
     "name": "stdout",
     "output_type": "stream",
     "text": [
      "INFO:tensorflow:Assets written to: Peach_DenseNet_model2_Based_Non_Augmented/assets\n"
     ]
    },
    {
     "name": "stderr",
     "output_type": "stream",
     "text": [
      "INFO:tensorflow:Assets written to: Peach_DenseNet_model2_Based_Non_Augmented/assets\n"
     ]
    },
    {
     "name": "stdout",
     "output_type": "stream",
     "text": [
      "179/179 [==============================] - 44s 245ms/step - loss: 0.0489 - accuracy: 0.9877 - val_loss: 0.1492 - val_accuracy: 0.9360 - lr: 0.0010\n",
      "Epoch 3/100\n",
      "179/179 [==============================] - ETA: 0s - loss: 0.0279 - accuracy: 0.9910\n",
      "Epoch 3: val_accuracy improved from 0.93603 to 0.97531, saving model to Peach_DenseNet_model2_Based_Non_Augmented\n"
     ]
    },
    {
     "name": "stderr",
     "output_type": "stream",
     "text": [
      "WARNING:absl:Found untraced functions such as _jit_compiled_convolution_op, _jit_compiled_convolution_op, _jit_compiled_convolution_op, _jit_compiled_convolution_op, _jit_compiled_convolution_op while saving (showing 5 of 120). These functions will not be directly callable after loading.\n"
     ]
    },
    {
     "name": "stdout",
     "output_type": "stream",
     "text": [
      "INFO:tensorflow:Assets written to: Peach_DenseNet_model2_Based_Non_Augmented/assets\n"
     ]
    },
    {
     "name": "stderr",
     "output_type": "stream",
     "text": [
      "INFO:tensorflow:Assets written to: Peach_DenseNet_model2_Based_Non_Augmented/assets\n"
     ]
    },
    {
     "name": "stdout",
     "output_type": "stream",
     "text": [
      "179/179 [==============================] - 44s 245ms/step - loss: 0.0279 - accuracy: 0.9910 - val_loss: 0.0537 - val_accuracy: 0.9753 - lr: 0.0010\n",
      "Epoch 4/100\n",
      "179/179 [==============================] - ETA: 0s - loss: 0.0321 - accuracy: 0.9899\n",
      "Epoch 4: val_accuracy improved from 0.97531 to 0.98990, saving model to Peach_DenseNet_model2_Based_Non_Augmented\n"
     ]
    },
    {
     "name": "stderr",
     "output_type": "stream",
     "text": [
      "WARNING:absl:Found untraced functions such as _jit_compiled_convolution_op, _jit_compiled_convolution_op, _jit_compiled_convolution_op, _jit_compiled_convolution_op, _jit_compiled_convolution_op while saving (showing 5 of 120). These functions will not be directly callable after loading.\n"
     ]
    },
    {
     "name": "stdout",
     "output_type": "stream",
     "text": [
      "INFO:tensorflow:Assets written to: Peach_DenseNet_model2_Based_Non_Augmented/assets\n"
     ]
    },
    {
     "name": "stderr",
     "output_type": "stream",
     "text": [
      "INFO:tensorflow:Assets written to: Peach_DenseNet_model2_Based_Non_Augmented/assets\n"
     ]
    },
    {
     "name": "stdout",
     "output_type": "stream",
     "text": [
      "179/179 [==============================] - 44s 248ms/step - loss: 0.0321 - accuracy: 0.9899 - val_loss: 0.0316 - val_accuracy: 0.9899 - lr: 0.0010\n",
      "Epoch 5/100\n",
      "179/179 [==============================] - ETA: 0s - loss: 0.0344 - accuracy: 0.9896\n",
      "Epoch 5: val_accuracy improved from 0.98990 to 0.99888, saving model to Peach_DenseNet_model2_Based_Non_Augmented\n"
     ]
    },
    {
     "name": "stderr",
     "output_type": "stream",
     "text": [
      "WARNING:absl:Found untraced functions such as _jit_compiled_convolution_op, _jit_compiled_convolution_op, _jit_compiled_convolution_op, _jit_compiled_convolution_op, _jit_compiled_convolution_op while saving (showing 5 of 120). These functions will not be directly callable after loading.\n"
     ]
    },
    {
     "name": "stdout",
     "output_type": "stream",
     "text": [
      "INFO:tensorflow:Assets written to: Peach_DenseNet_model2_Based_Non_Augmented/assets\n"
     ]
    },
    {
     "name": "stderr",
     "output_type": "stream",
     "text": [
      "INFO:tensorflow:Assets written to: Peach_DenseNet_model2_Based_Non_Augmented/assets\n"
     ]
    },
    {
     "name": "stdout",
     "output_type": "stream",
     "text": [
      "179/179 [==============================] - 44s 247ms/step - loss: 0.0344 - accuracy: 0.9896 - val_loss: 0.0100 - val_accuracy: 0.9989 - lr: 0.0010\n",
      "Epoch 6/100\n",
      "178/179 [============================>.] - ETA: 0s - loss: 0.0110 - accuracy: 0.9949\n",
      "Epoch 6: val_accuracy did not improve from 0.99888\n",
      "179/179 [==============================] - 13s 70ms/step - loss: 0.0110 - accuracy: 0.9950 - val_loss: 0.0130 - val_accuracy: 0.9955 - lr: 0.0010\n",
      "Epoch 7/100\n",
      "179/179 [==============================] - ETA: 0s - loss: 0.0270 - accuracy: 0.9924\n",
      "Epoch 7: val_accuracy did not improve from 0.99888\n",
      "179/179 [==============================] - 13s 71ms/step - loss: 0.0270 - accuracy: 0.9924 - val_loss: 0.0056 - val_accuracy: 0.9989 - lr: 0.0010\n",
      "Epoch 8/100\n",
      "179/179 [==============================] - ETA: 0s - loss: 0.0104 - accuracy: 0.9975\n",
      "Epoch 8: val_accuracy did not improve from 0.99888\n",
      "179/179 [==============================] - 13s 71ms/step - loss: 0.0104 - accuracy: 0.9975 - val_loss: 0.0332 - val_accuracy: 0.9921 - lr: 0.0010\n",
      "Epoch 9/100\n",
      "179/179 [==============================] - ETA: 0s - loss: 0.0127 - accuracy: 0.9955\n",
      "Epoch 9: val_accuracy did not improve from 0.99888\n",
      "179/179 [==============================] - 13s 71ms/step - loss: 0.0127 - accuracy: 0.9955 - val_loss: 0.0695 - val_accuracy: 0.9854 - lr: 0.0010\n",
      "Epoch 10/100\n",
      "179/179 [==============================] - ETA: 0s - loss: 0.0110 - accuracy: 0.9955\n",
      "Epoch 10: val_accuracy improved from 0.99888 to 1.00000, saving model to Peach_DenseNet_model2_Based_Non_Augmented\n"
     ]
    },
    {
     "name": "stderr",
     "output_type": "stream",
     "text": [
      "WARNING:absl:Found untraced functions such as _jit_compiled_convolution_op, _jit_compiled_convolution_op, _jit_compiled_convolution_op, _jit_compiled_convolution_op, _jit_compiled_convolution_op while saving (showing 5 of 120). These functions will not be directly callable after loading.\n"
     ]
    },
    {
     "name": "stdout",
     "output_type": "stream",
     "text": [
      "INFO:tensorflow:Assets written to: Peach_DenseNet_model2_Based_Non_Augmented/assets\n"
     ]
    },
    {
     "name": "stderr",
     "output_type": "stream",
     "text": [
      "INFO:tensorflow:Assets written to: Peach_DenseNet_model2_Based_Non_Augmented/assets\n"
     ]
    },
    {
     "name": "stdout",
     "output_type": "stream",
     "text": [
      "179/179 [==============================] - 44s 249ms/step - loss: 0.0110 - accuracy: 0.9955 - val_loss: 0.0025 - val_accuracy: 1.0000 - lr: 0.0010\n",
      "Epoch 11/100\n",
      "179/179 [==============================] - ETA: 0s - loss: 0.0032 - accuracy: 0.9989\n",
      "Epoch 11: val_accuracy did not improve from 1.00000\n",
      "179/179 [==============================] - 13s 70ms/step - loss: 0.0032 - accuracy: 0.9989 - val_loss: 0.0029 - val_accuracy: 0.9989 - lr: 0.0010\n",
      "Epoch 12/100\n",
      "179/179 [==============================] - ETA: 0s - loss: 0.0173 - accuracy: 0.9927\n",
      "Epoch 12: val_accuracy did not improve from 1.00000\n",
      "179/179 [==============================] - 13s 71ms/step - loss: 0.0173 - accuracy: 0.9927 - val_loss: 0.1486 - val_accuracy: 0.9551 - lr: 0.0010\n",
      "Epoch 13/100\n",
      "179/179 [==============================] - ETA: 0s - loss: 0.0254 - accuracy: 0.9916\n",
      "Epoch 13: val_accuracy did not improve from 1.00000\n",
      "179/179 [==============================] - 13s 71ms/step - loss: 0.0254 - accuracy: 0.9916 - val_loss: 0.0695 - val_accuracy: 0.9809 - lr: 0.0010\n",
      "Epoch 14/100\n",
      "179/179 [==============================] - ETA: 0s - loss: 0.0064 - accuracy: 0.9980\n",
      "Epoch 14: val_accuracy did not improve from 1.00000\n",
      "179/179 [==============================] - 13s 71ms/step - loss: 0.0064 - accuracy: 0.9980 - val_loss: 0.0909 - val_accuracy: 0.9742 - lr: 0.0010\n",
      "Epoch 15/100\n",
      "179/179 [==============================] - ETA: 0s - loss: 0.0170 - accuracy: 0.9944\n",
      "Epoch 15: val_accuracy did not improve from 1.00000\n",
      "\n",
      "Epoch 15: ReduceLROnPlateau reducing learning rate to 0.00010000000474974513.\n",
      "179/179 [==============================] - 13s 71ms/step - loss: 0.0170 - accuracy: 0.9944 - val_loss: 0.0189 - val_accuracy: 0.9910 - lr: 0.0010\n",
      "Epoch 16/100\n",
      "179/179 [==============================] - ETA: 0s - loss: 0.0069 - accuracy: 0.9986\n",
      "Epoch 16: val_accuracy did not improve from 1.00000\n",
      "179/179 [==============================] - 13s 71ms/step - loss: 0.0069 - accuracy: 0.9986 - val_loss: 0.0135 - val_accuracy: 0.9955 - lr: 1.0000e-04\n",
      "Epoch 17/100\n",
      "179/179 [==============================] - ETA: 0s - loss: 0.0035 - accuracy: 0.9989\n",
      "Epoch 17: val_accuracy did not improve from 1.00000\n",
      "179/179 [==============================] - 13s 71ms/step - loss: 0.0035 - accuracy: 0.9989 - val_loss: 0.0118 - val_accuracy: 0.9955 - lr: 1.0000e-04\n",
      "Epoch 18/100\n",
      "179/179 [==============================] - ETA: 0s - loss: 0.0033 - accuracy: 0.9992\n",
      "Epoch 18: val_accuracy did not improve from 1.00000\n",
      "179/179 [==============================] - 13s 71ms/step - loss: 0.0033 - accuracy: 0.9992 - val_loss: 0.0086 - val_accuracy: 0.9966 - lr: 1.0000e-04\n",
      "Epoch 19/100\n",
      "179/179 [==============================] - ETA: 0s - loss: 0.0016 - accuracy: 0.9997\n",
      "Epoch 19: val_accuracy did not improve from 1.00000\n",
      "179/179 [==============================] - 13s 71ms/step - loss: 0.0016 - accuracy: 0.9997 - val_loss: 0.0075 - val_accuracy: 0.9978 - lr: 1.0000e-04\n",
      "Epoch 20/100\n",
      "179/179 [==============================] - ETA: 0s - loss: 0.0017 - accuracy: 0.9992\n",
      "Epoch 20: val_accuracy did not improve from 1.00000\n",
      "\n",
      "Epoch 20: ReduceLROnPlateau reducing learning rate to 1.0000000474974514e-05.\n",
      "179/179 [==============================] - 13s 71ms/step - loss: 0.0017 - accuracy: 0.9992 - val_loss: 0.0051 - val_accuracy: 0.9978 - lr: 1.0000e-04\n",
      "Epoch 21/100\n",
      "179/179 [==============================] - ETA: 0s - loss: 0.0018 - accuracy: 0.9994\n",
      "Epoch 21: val_accuracy did not improve from 1.00000\n",
      "179/179 [==============================] - 13s 71ms/step - loss: 0.0018 - accuracy: 0.9994 - val_loss: 0.0053 - val_accuracy: 0.9978 - lr: 1.0000e-05\n",
      "Epoch 22/100\n",
      "179/179 [==============================] - ETA: 0s - loss: 4.7861e-04 - accuracy: 1.0000\n",
      "Epoch 22: val_accuracy did not improve from 1.00000\n",
      "179/179 [==============================] - 13s 71ms/step - loss: 4.7861e-04 - accuracy: 1.0000 - val_loss: 0.0053 - val_accuracy: 0.9978 - lr: 1.0000e-05\n",
      "Epoch 23/100\n",
      "179/179 [==============================] - ETA: 0s - loss: 7.9561e-04 - accuracy: 0.9997\n",
      "Epoch 23: val_accuracy did not improve from 1.00000\n",
      "179/179 [==============================] - 13s 71ms/step - loss: 7.9561e-04 - accuracy: 0.9997 - val_loss: 0.0054 - val_accuracy: 0.9978 - lr: 1.0000e-05\n",
      "Epoch 24/100\n",
      "179/179 [==============================] - ETA: 0s - loss: 0.0013 - accuracy: 0.9997\n",
      "Epoch 24: val_accuracy did not improve from 1.00000\n",
      "179/179 [==============================] - 13s 71ms/step - loss: 0.0013 - accuracy: 0.9997 - val_loss: 0.0054 - val_accuracy: 0.9978 - lr: 1.0000e-05\n",
      "Epoch 25/100\n",
      "179/179 [==============================] - ETA: 0s - loss: 0.0030 - accuracy: 0.9997\n",
      "Epoch 25: val_accuracy did not improve from 1.00000\n",
      "\n",
      "Epoch 25: ReduceLROnPlateau reducing learning rate to 1.0000000656873453e-06.\n",
      "179/179 [==============================] - 13s 71ms/step - loss: 0.0030 - accuracy: 0.9997 - val_loss: 0.0054 - val_accuracy: 0.9978 - lr: 1.0000e-05\n",
      "Epoch 26/100\n",
      "179/179 [==============================] - ETA: 0s - loss: 6.5438e-04 - accuracy: 0.9997\n",
      "Epoch 26: val_accuracy did not improve from 1.00000\n",
      "179/179 [==============================] - 13s 71ms/step - loss: 6.5438e-04 - accuracy: 0.9997 - val_loss: 0.0055 - val_accuracy: 0.9978 - lr: 1.0000e-06\n",
      "Epoch 27/100\n",
      "179/179 [==============================] - ETA: 0s - loss: 0.0014 - accuracy: 0.9994\n",
      "Epoch 27: val_accuracy did not improve from 1.00000\n",
      "179/179 [==============================] - 13s 71ms/step - loss: 0.0014 - accuracy: 0.9994 - val_loss: 0.0054 - val_accuracy: 0.9978 - lr: 1.0000e-06\n",
      "Epoch 28/100\n",
      "179/179 [==============================] - ETA: 0s - loss: 8.2362e-04 - accuracy: 0.9997\n",
      "Epoch 28: val_accuracy did not improve from 1.00000\n",
      "179/179 [==============================] - 13s 71ms/step - loss: 8.2362e-04 - accuracy: 0.9997 - val_loss: 0.0054 - val_accuracy: 0.9978 - lr: 1.0000e-06\n",
      "Epoch 29/100\n",
      "179/179 [==============================] - ETA: 0s - loss: 9.7213e-04 - accuracy: 1.0000\n",
      "Epoch 29: val_accuracy did not improve from 1.00000\n",
      "179/179 [==============================] - 13s 71ms/step - loss: 9.7213e-04 - accuracy: 1.0000 - val_loss: 0.0054 - val_accuracy: 0.9978 - lr: 1.0000e-06\n",
      "Epoch 30/100\n",
      "179/179 [==============================] - ETA: 0s - loss: 0.0014 - accuracy: 0.9997\n",
      "Epoch 30: val_accuracy did not improve from 1.00000\n",
      "Restoring model weights from the end of the best epoch: 10.\n",
      "\n",
      "Epoch 30: ReduceLROnPlateau reducing learning rate to 1.0000001111620805e-07.\n",
      "179/179 [==============================] - 13s 72ms/step - loss: 0.0014 - accuracy: 0.9997 - val_loss: 0.0054 - val_accuracy: 0.9978 - lr: 1.0000e-06\n",
      "Epoch 30: early stopping\n"
     ]
    }
   ],
   "source": [
    "# Define the number of epochs\n",
    "num_epochs = 100\n",
    "\n",
    "# Train the model\n",
    "history_DenseNet_model_2 = DenseNet_model_2.fit(train_generator, epochs=num_epochs, validation_data=validation_generator, callbacks=callbacks)"
   ]
  },
  {
   "cell_type": "code",
   "execution_count": 17,
   "metadata": {
    "colab": {
     "base_uri": "https://localhost:8080/",
     "height": 904
    },
    "id": "3f1nmwUhU2TK",
    "outputId": "0f1c6cd5-3a78-466f-acaf-e4d5bd62d152",
    "tags": []
   },
   "outputs": [
    {
     "data": {
      "text/plain": [
       "<matplotlib.legend.Legend at 0x7f9068aa08e0>"
      ]
     },
     "execution_count": 17,
     "metadata": {},
     "output_type": "execute_result"
    },
    {
     "data": {
      "image/png": "[encoded data removed]",
      "text/plain": [
       "<Figure size 640x480 with 1 Axes>"
      ]
     },
     "metadata": {},
     "output_type": "display_data"
    },
    {
     "data": {
      "image/png": "[encoded data removed]",
      "text/plain": [
       "<Figure size 640x480 with 1 Axes>"
      ]
     },
     "metadata": {},
     "output_type": "display_data"
    }
   ],
   "source": [
    "#-----------------------------------------------------------\n",
    "# Retrieve a list of list results on training and test data\n",
    "# sets for each training epoch\n",
    "#-----------------------------------------------------------\n",
    "acc      = history_DenseNet_model_2.history['accuracy' ]\n",
    "val_acc  = history_DenseNet_model_2.history['val_accuracy' ]\n",
    "loss     = history_DenseNet_model_2.history['loss' ]\n",
    "val_loss = history_DenseNet_model_2.history['val_loss' ]\n",
    "\n",
    "epochs   = range(len(acc)) # Get number of epochs\n",
    "\n",
    "#------------------------------------------------\n",
    "# Plot training and validation accuracy per epoch\n",
    "#------------------------------------------------\n",
    "plt.plot  (epochs, acc )\n",
    "plt.plot  (epochs, val_acc )\n",
    "plt.title ('Training and validation accuracy DenseNet Model 2')\n",
    "plt.legend(['train', 'val'], loc='upper left')\n",
    "plt.figure()\n",
    "\n",
    "#------------------------------------------------\n",
    "# Plot training and validation loss per epoch\n",
    "#------------------------------------------------\n",
    "plt.plot  (epochs, loss)\n",
    "plt.plot  (epochs, val_loss)\n",
    "plt.title ('Training and validation loss DenseNet Model 2')\n",
    "plt.legend(['train', 'val'], loc='upper left')"
   ]
  }
 ],
 "metadata": {
  "accelerator": "GPU",
  "colab": {
   "gpuType": "T4",
   "provenance": []
  },
  "gpuClass": "standard",
  "kernelspec": {
   "display_name": "Python 3 (ipykernel)",
   "language": "python",
   "name": "python3"
  },
  "language_info": {
   "codemirror_mode": {
    "name": "ipython",
    "version": 3
   },
   "file_extension": ".py",
   "mimetype": "text/x-python",
   "name": "python",
   "nbconvert_exporter": "python",
   "pygments_lexer": "ipython3",
   "version": "3.8.10"
  }
 },
 "nbformat": 4,
 "nbformat_minor": 4
}
