{
  "cells": [
    {
      "cell_type": "markdown",
      "metadata": {
        "id": "hO3kEcUPU2S3"
      },
      "source": [
        "# Library"
      ]
    },
    {
      "cell_type": "code",
      "execution_count": 1,
      "metadata": {
        "colab": {
          "base_uri": "https://localhost:8080/"
        },
        "id": "kczkUjsAU2S8",
        "outputId": "661eaf6f-bc87-40da-caa0-bfebfc36c690",
        "tags": []
      },
      "outputs": [
        {
          "output_type": "stream",
          "name": "stdout",
          "text": [
            "Looking in indexes: https://pypi.org/simple, https://us-python.pkg.dev/colab-wheels/public/simple/\n",
            "Requirement already satisfied: matplotlib in /usr/local/lib/python3.10/dist-packages (3.7.1)\n",
            "Requirement already satisfied: contourpy>=1.0.1 in /usr/local/lib/python3.10/dist-packages (from matplotlib) (1.0.7)\n",
            "Requirement already satisfied: cycler>=0.10 in /usr/local/lib/python3.10/dist-packages (from matplotlib) (0.11.0)\n",
            "Requirement already satisfied: fonttools>=4.22.0 in /usr/local/lib/python3.10/dist-packages (from matplotlib) (4.39.3)\n",
            "Requirement already satisfied: kiwisolver>=1.0.1 in /usr/local/lib/python3.10/dist-packages (from matplotlib) (1.4.4)\n",
            "Requirement already satisfied: numpy>=1.20 in /usr/local/lib/python3.10/dist-packages (from matplotlib) (1.22.4)\n",
            "Requirement already satisfied: packaging>=20.0 in /usr/local/lib/python3.10/dist-packages (from matplotlib) (23.1)\n",
            "Requirement already satisfied: pillow>=6.2.0 in /usr/local/lib/python3.10/dist-packages (from matplotlib) (8.4.0)\n",
            "Requirement already satisfied: pyparsing>=2.3.1 in /usr/local/lib/python3.10/dist-packages (from matplotlib) (3.0.9)\n",
            "Requirement already satisfied: python-dateutil>=2.7 in /usr/local/lib/python3.10/dist-packages (from matplotlib) (2.8.2)\n",
            "Requirement already satisfied: six>=1.5 in /usr/local/lib/python3.10/dist-packages (from python-dateutil>=2.7->matplotlib) (1.16.0)\n"
          ]
        }
      ],
      "source": [
        "pip install matplotlib"
      ]
    },
    {
      "cell_type": "code",
      "execution_count": 2,
      "metadata": {
        "colab": {
          "base_uri": "https://localhost:8080/"
        },
        "id": "oEW3Nbu7U2S_",
        "outputId": "15891cb1-96ab-4b53-d707-d73c9589a971",
        "tags": []
      },
      "outputs": [
        {
          "output_type": "stream",
          "name": "stdout",
          "text": [
            "Looking in indexes: https://pypi.org/simple, https://us-python.pkg.dev/colab-wheels/public/simple/\n",
            "Collecting opendatasets\n",
            "  Downloading opendatasets-0.1.22-py3-none-any.whl (15 kB)\n",
            "Requirement already satisfied: tqdm in /usr/local/lib/python3.10/dist-packages (from opendatasets) (4.65.0)\n",
            "Requirement already satisfied: kaggle in /usr/local/lib/python3.10/dist-packages (from opendatasets) (1.5.13)\n",
            "Requirement already satisfied: click in /usr/local/lib/python3.10/dist-packages (from opendatasets) (8.1.3)\n",
            "Requirement already satisfied: six>=1.10 in /usr/local/lib/python3.10/dist-packages (from kaggle->opendatasets) (1.16.0)\n",
            "Requirement already satisfied: certifi in /usr/local/lib/python3.10/dist-packages (from kaggle->opendatasets) (2022.12.7)\n",
            "Requirement already satisfied: python-dateutil in /usr/local/lib/python3.10/dist-packages (from kaggle->opendatasets) (2.8.2)\n",
            "Requirement already satisfied: requests in /usr/local/lib/python3.10/dist-packages (from kaggle->opendatasets) (2.27.1)\n",
            "Requirement already satisfied: python-slugify in /usr/local/lib/python3.10/dist-packages (from kaggle->opendatasets) (8.0.1)\n",
            "Requirement already satisfied: urllib3 in /usr/local/lib/python3.10/dist-packages (from kaggle->opendatasets) (1.26.15)\n",
            "Requirement already satisfied: text-unidecode>=1.3 in /usr/local/lib/python3.10/dist-packages (from python-slugify->kaggle->opendatasets) (1.3)\n",
            "Requirement already satisfied: charset-normalizer~=2.0.0 in /usr/local/lib/python3.10/dist-packages (from requests->kaggle->opendatasets) (2.0.12)\n",
            "Requirement already satisfied: idna<4,>=2.5 in /usr/local/lib/python3.10/dist-packages (from requests->kaggle->opendatasets) (3.4)\n",
            "Installing collected packages: opendatasets\n",
            "Successfully installed opendatasets-0.1.22\n"
          ]
        }
      ],
      "source": [
        "pip install opendatasets"
      ]
    },
    {
      "cell_type": "code",
      "execution_count": 3,
      "metadata": {
        "id": "SIHHdOB4U2TA",
        "tags": []
      },
      "outputs": [],
      "source": [
        "# Library to dataset\n",
        "import opendatasets as od\n",
        "import os\n",
        "import zipfile\n",
        "import numpy as np\n",
        "\n",
        "# Surpress Warnings\n",
        "import warnings\n",
        "warnings.filterwarnings('ignore')\n",
        "os.environ['TF_CPP_MIN_LOG_LEVEL'] = '3' \n",
        "# library visualization\n",
        "import matplotlib.pyplot as plt\n",
        "\n",
        "# Library Tensorflow\n",
        "import tensorflow as tf\n",
        "from tensorflow import keras\n",
        "from tensorflow.keras.preprocessing.image import ImageDataGenerator\n",
        "from tensorflow.keras.callbacks import ModelCheckpoint, EarlyStopping, ReduceLROnPlateau\n",
        "from tensorflow.keras.applications.densenet import DenseNet121\n",
        "from tensorflow.keras.applications.xception import Xception\n",
        "\n",
        "# Others\n",
        "import shutil\n",
        "import random"
      ]
    },
    {
      "cell_type": "markdown",
      "metadata": {
        "id": "Dy8YkYoaU2TB"
      },
      "source": [
        "# Load dataset"
      ]
    },
    {
      "cell_type": "code",
      "execution_count": 4,
      "metadata": {
        "colab": {
          "base_uri": "https://localhost:8080/"
        },
        "id": "TWOf7hZ1U2TC",
        "outputId": "27b8de3c-66f3-4eaa-9959-e5cf54e13637",
        "tags": []
      },
      "outputs": [
        {
          "output_type": "stream",
          "name": "stdout",
          "text": [
            "Please provide your Kaggle credentials to download this dataset. Learn more: http://bit.ly/kaggle-creds\n",
            "Your Kaggle username: ahmadhabibhasanzein\n",
            "Your Kaggle Key: ··········\n",
            "Downloading peach-leaves.zip to ./peach-leaves\n"
          ]
        },
        {
          "output_type": "stream",
          "name": "stderr",
          "text": [
            "100%|██████████| 59.6M/59.6M [00:01<00:00, 58.5MB/s]\n"
          ]
        },
        {
          "output_type": "stream",
          "name": "stdout",
          "text": [
            "\n"
          ]
        }
      ],
      "source": [
        "# Download dataset\n",
        "od.download('https://www.kaggle.com/datasets/ahmadhabibhasanzein/peach-leaves')"
      ]
    },
    {
      "cell_type": "code",
      "execution_count": 5,
      "metadata": {
        "colab": {
          "base_uri": "https://localhost:8080/"
        },
        "id": "8ZAjREJ0U2TC",
        "outputId": "69ad34a0-2b21-4c2a-bed0-66fac85bf092",
        "tags": []
      },
      "outputs": [
        {
          "output_type": "stream",
          "name": "stdout",
          "text": [
            "==========================Training Data====================\n",
            "Found 3566 files belonging to 2 classes.\n",
            "==========================Validation Data====================\n",
            "Found 891 files belonging to 2 classes.\n"
          ]
        }
      ],
      "source": [
        "# Load dataset\n",
        "print(\"==========================Training Data====================\")\n",
        "train_data = tf.keras.preprocessing.image_dataset_from_directory(\n",
        "    \"/content/peach-leaves/Peach/train\",\n",
        "    label_mode=\"categorical\",\n",
        "    class_names=['Peach___Bacterial_spot','Peach___healthy'],\n",
        "    color_mode=\"rgb\",\n",
        "    batch_size=1,\n",
        "    image_size=(256, 256),\n",
        "    shuffle=True,\n",
        "    seed=123\n",
        ")\n",
        "print(\"==========================Validation Data====================\")\n",
        "val_data = tf.keras.preprocessing.image_dataset_from_directory(\n",
        "    \"/content/peach-leaves/Peach/valid\",\n",
        "    label_mode=\"categorical\",\n",
        "    class_names=['Peach___Bacterial_spot','Peach___healthy'],\n",
        "    color_mode=\"rgb\",\n",
        "    batch_size=1,\n",
        "    image_size=(256, 256),\n",
        "    shuffle=True,\n",
        "    seed=123\n",
        ")"
      ]
    },
    {
      "cell_type": "code",
      "execution_count": 6,
      "metadata": {
        "colab": {
          "base_uri": "https://localhost:8080/"
        },
        "id": "vEPzd1egU2TD",
        "outputId": "f1626ff5-cd03-4d56-b2c5-a4039696a457",
        "tags": []
      },
      "outputs": [
        {
          "output_type": "stream",
          "name": "stdout",
          "text": [
            "Found 3566 images belonging to 2 classes.\n",
            "Found 891 images belonging to 2 classes.\n"
          ]
        }
      ],
      "source": [
        "# All images will be rescaled by 1./255.\n",
        "train_datagen = ImageDataGenerator(rescale = 1.0/256.)\n",
        "test_datagen  = ImageDataGenerator(rescale = 1.0/256.)\n",
        "\n",
        "# --------------------\n",
        "# Flow training images in batches of 20 using train_datagen generator\n",
        "# --------------------\n",
        "train_generator = train_datagen.flow_from_directory(\"/content/peach-leaves/Peach/train\",\n",
        "                                                    batch_size=20,\n",
        "                                                    class_mode='categorical',\n",
        "                                                    target_size=(224, 224))     \n",
        "# --------------------\n",
        "# Flow validation images in batches of 20 using test_datagen generator\n",
        "# --------------------\n",
        "validation_generator =  test_datagen.flow_from_directory(\"/content/peach-leaves/Peach/valid\",\n",
        "                                                         batch_size=20,\n",
        "                                                         class_mode  = 'categorical',\n",
        "                                                         target_size = (224, 224))"
      ]
    },
    {
      "cell_type": "markdown",
      "metadata": {
        "id": "_3jaO5YgU2TE"
      },
      "source": [
        "# List Resource"
      ]
    },
    {
      "cell_type": "code",
      "execution_count": 7,
      "metadata": {
        "colab": {
          "base_uri": "https://localhost:8080/"
        },
        "id": "SGemCaxnU2TF",
        "outputId": "9314c744-df4d-4de7-b211-599718a9310c",
        "tags": []
      },
      "outputs": [
        {
          "output_type": "stream",
          "name": "stdout",
          "text": [
            "Wed May 24 05:40:21 2023       \n",
            "+-----------------------------------------------------------------------------+\n",
            "| NVIDIA-SMI 525.85.12    Driver Version: 525.85.12    CUDA Version: 12.0     |\n",
            "|-------------------------------+----------------------+----------------------+\n",
            "| GPU  Name        Persistence-M| Bus-Id        Disp.A | Volatile Uncorr. ECC |\n",
            "| Fan  Temp  Perf  Pwr:Usage/Cap|         Memory-Usage | GPU-Util  Compute M. |\n",
            "|                               |                      |               MIG M. |\n",
            "|===============================+======================+======================|\n",
            "|   0  Tesla T4            Off  | 00000000:00:04.0 Off |                    0 |\n",
            "| N/A   55C    P0    27W /  70W |    375MiB / 15360MiB |      0%      Default |\n",
            "|                               |                      |                  N/A |\n",
            "+-------------------------------+----------------------+----------------------+\n",
            "                                                                               \n",
            "+-----------------------------------------------------------------------------+\n",
            "| Processes:                                                                  |\n",
            "|  GPU   GI   CI        PID   Type   Process name                  GPU Memory |\n",
            "|        ID   ID                                                   Usage      |\n",
            "|=============================================================================|\n",
            "+-----------------------------------------------------------------------------+\n"
          ]
        }
      ],
      "source": [
        "# Check GPU\n",
        "!nvidia-smi"
      ]
    },
    {
      "cell_type": "code",
      "execution_count": 8,
      "metadata": {
        "colab": {
          "base_uri": "https://localhost:8080/"
        },
        "id": "FSapZ74PU2TF",
        "outputId": "9a36c73e-49c3-4d53-ce22-061a009cc368",
        "tags": []
      },
      "outputs": [
        {
          "output_type": "execute_result",
          "data": {
            "text/plain": [
              "[PhysicalDevice(name='/physical_device:GPU:0', device_type='GPU')]"
            ]
          },
          "metadata": {},
          "execution_count": 8
        }
      ],
      "source": [
        "# Lis physical devices\n",
        "devices = tf.config.experimental.list_physical_devices(\"GPU\")\n",
        "devices"
      ]
    },
    {
      "cell_type": "code",
      "execution_count": 9,
      "metadata": {
        "id": "A8WtBtBaU2TG",
        "tags": []
      },
      "outputs": [],
      "source": [
        "# Define the GPU strategy\n",
        "mirrored_strategy = tf.distribute.MirroredStrategy(devices=[\"/gpu:0\"])"
      ]
    },
    {
      "cell_type": "markdown",
      "metadata": {
        "id": "Vqr_uGTNU2TG"
      },
      "source": [
        "# Modelling Without ImageDataGenerator"
      ]
    },
    {
      "cell_type": "markdown",
      "metadata": {
        "id": "w4Wzh6ZyU2TH"
      },
      "source": [
        "## Xception Model 1"
      ]
    },
    {
      "cell_type": "code",
      "execution_count": 10,
      "metadata": {
        "id": "uUqYGBfRU2TH",
        "tags": []
      },
      "outputs": [],
      "source": [
        "# Difine the callbacks\n",
        "# Save the best model\n",
        "checkpoint_callback = ModelCheckpoint(filepath=\"Peach_Xception_model1_Based_Non_Augmented\", save_best_only=True, monitor=\"val_accuracy\", mode=\"max\", verbose=1)\n",
        "\n",
        "# Early stopping\n",
        "early_stopping_callback = EarlyStopping(monitor=\"val_accuracy\", mode=\"max\", patience=20, verbose=1, restore_best_weights=True)\n",
        "\n",
        "# Reduce learning rate\n",
        "reduce_lr_callback = ReduceLROnPlateau(monitor=\"val_loss\", factor=0.1, patience=5, verbose=1, mode=\"min\", min_delta=0.0001, cooldown=0, min_lr=0)\n",
        "\n",
        "# Callbacks list\n",
        "callbacks=[checkpoint_callback, early_stopping_callback, reduce_lr_callback]"
      ]
    },
    {
      "cell_type": "code",
      "execution_count": 11,
      "metadata": {
        "colab": {
          "base_uri": "https://localhost:8080/"
        },
        "id": "BQHFs3gSU2TI",
        "outputId": "a274b431-e0b0-40e1-f1e3-8a5c58b59108",
        "tags": []
      },
      "outputs": [
        {
          "output_type": "stream",
          "name": "stdout",
          "text": [
            "Downloading data from https://storage.googleapis.com/tensorflow/keras-applications/xception/xception_weights_tf_dim_ordering_tf_kernels_notop.h5\n",
            "83683744/83683744 [==============================] - 0s 0us/step\n",
            "Model: \"sequential\"\n",
            "_________________________________________________________________\n",
            " Layer (type)                Output Shape              Param #   \n",
            "=================================================================\n",
            " xception (Functional)       (None, 7, 7, 2048)        20861480  \n",
            "                                                                 \n",
            " global_max_pooling2d (Globa  (None, 2048)             0         \n",
            " lMaxPooling2D)                                                  \n",
            "                                                                 \n",
            " dropout (Dropout)           (None, 2048)              0         \n",
            "                                                                 \n",
            " dense (Dense)               (None, 256)               524544    \n",
            "                                                                 \n",
            " dense_1 (Dense)             (None, 2)                 514       \n",
            "                                                                 \n",
            "=================================================================\n",
            "Total params: 21,386,538\n",
            "Trainable params: 21,332,010\n",
            "Non-trainable params: 54,528\n",
            "_________________________________________________________________\n"
          ]
        }
      ],
      "source": [
        "# Define Model\n",
        "Xception_model = tf.keras.models.Sequential([\n",
        "    # Xception Layer\n",
        "    Xception(include_top=False,weights='imagenet',input_shape=(224, 224, 3)),\n",
        "    # Global Max Pooling Layer\n",
        "    tf.keras.layers.GlobalMaxPooling2D(),\n",
        "    # Drop Out Layer\n",
        "    tf.keras.layers.Dropout(0.2),\n",
        "    # 256 neuron hidden layer\n",
        "    tf.keras.layers.Dense(256, activation='relu'),\n",
        "    # Output\n",
        "    tf.keras.layers.Dense(2, activation='softmax') \n",
        "  ])\n",
        "\n",
        "\n",
        "# Compile Model\n",
        "Xception_model.compile(loss='categorical_crossentropy',optimizer=tf.keras.optimizers.Adam(), metrics=['accuracy']) \n",
        "\n",
        "# Model Summary\n",
        "Xception_model.summary()"
      ]
    },
    {
      "cell_type": "code",
      "execution_count": 12,
      "metadata": {
        "colab": {
          "base_uri": "https://localhost:8080/"
        },
        "id": "6coN3TKhU2TI",
        "outputId": "5f97a392-8527-4d5d-b6c9-7f71dbebcaf8",
        "tags": []
      },
      "outputs": [
        {
          "output_type": "stream",
          "name": "stdout",
          "text": [
            "Epoch 1/100\n",
            "179/179 [==============================] - ETA: 0s - loss: 0.1390 - accuracy: 0.9655\n",
            "Epoch 1: val_accuracy improved from -inf to 0.52413, saving model to Peach_Xception_model1_Based_Non_Augmented\n"
          ]
        },
        {
          "output_type": "stream",
          "name": "stderr",
          "text": [
            "WARNING:absl:Found untraced functions such as _jit_compiled_convolution_op, _jit_compiled_convolution_op, _jit_compiled_convolution_op, _jit_compiled_convolution_op, _jit_compiled_convolution_op while saving (showing 5 of 40). These functions will not be directly callable after loading.\n"
          ]
        },
        {
          "output_type": "stream",
          "name": "stdout",
          "text": [
            "\b\b\b\b\b\b\b\b\b\b\b\b\b\b\b\b\b\b\b\b\b\b\b\b\b\b\b\b\b\b\b\b\b\b\b\b\b\b\b\b\b\b\b\b\b\b\b\b\b\b\b\b\b\b\b\b\b\b\b\b\b\b\b\b\b\b\b\b\b\b\b\b\b\b\b\b\b\b\b\b\b\b\b\b\r179/179 [==============================] - 137s 498ms/step - loss: 0.1390 - accuracy: 0.9655 - val_loss: 8.7736 - val_accuracy: 0.5241 - lr: 0.0010\n",
            "Epoch 2/100\n",
            "179/179 [==============================] - ETA: 0s - loss: 0.0368 - accuracy: 0.9916\n",
            "Epoch 2: val_accuracy improved from 0.52413 to 0.98878, saving model to Peach_Xception_model1_Based_Non_Augmented\n"
          ]
        },
        {
          "output_type": "stream",
          "name": "stderr",
          "text": [
            "WARNING:absl:Found untraced functions such as _jit_compiled_convolution_op, _jit_compiled_convolution_op, _jit_compiled_convolution_op, _jit_compiled_convolution_op, _jit_compiled_convolution_op while saving (showing 5 of 40). These functions will not be directly callable after loading.\n"
          ]
        },
        {
          "output_type": "stream",
          "name": "stdout",
          "text": [
            "\b\b\b\b\b\b\b\b\b\b\b\b\b\b\b\b\b\b\b\b\b\b\b\b\b\b\b\b\b\b\b\b\b\b\b\b\b\b\b\b\b\b\b\b\b\b\b\b\b\b\b\b\b\b\b\b\b\b\b\b\b\b\b\b\b\b\b\b\b\b\b\b\b\b\b\b\b\b\b\b\b\b\b\b\r179/179 [==============================] - 82s 461ms/step - loss: 0.0368 - accuracy: 0.9916 - val_loss: 0.0952 - val_accuracy: 0.9888 - lr: 0.0010\n",
            "Epoch 3/100\n",
            "179/179 [==============================] - ETA: 0s - loss: 0.0317 - accuracy: 0.9921\n",
            "Epoch 3: val_accuracy did not improve from 0.98878\n",
            "179/179 [==============================] - 59s 331ms/step - loss: 0.0317 - accuracy: 0.9921 - val_loss: 0.1767 - val_accuracy: 0.9798 - lr: 0.0010\n",
            "Epoch 4/100\n",
            "179/179 [==============================] - ETA: 0s - loss: 0.0245 - accuracy: 0.9924\n",
            "Epoch 4: val_accuracy improved from 0.98878 to 0.99888, saving model to Peach_Xception_model1_Based_Non_Augmented\n"
          ]
        },
        {
          "output_type": "stream",
          "name": "stderr",
          "text": [
            "WARNING:absl:Found untraced functions such as _jit_compiled_convolution_op, _jit_compiled_convolution_op, _jit_compiled_convolution_op, _jit_compiled_convolution_op, _jit_compiled_convolution_op while saving (showing 5 of 40). These functions will not be directly callable after loading.\n"
          ]
        },
        {
          "output_type": "stream",
          "name": "stdout",
          "text": [
            "\b\b\b\b\b\b\b\b\b\b\b\b\b\b\b\b\b\b\b\b\b\b\b\b\b\b\b\b\b\b\b\b\b\b\b\b\b\b\b\b\b\b\b\b\b\b\b\b\b\b\b\b\b\b\b\b\b\b\b\b\b\b\b\b\b\b\b\b\b\b\b\b\b\b\b\b\b\b\b\b\b\b\b\b\r179/179 [==============================] - 88s 490ms/step - loss: 0.0245 - accuracy: 0.9924 - val_loss: 0.0228 - val_accuracy: 0.9989 - lr: 0.0010\n",
            "Epoch 5/100\n",
            "179/179 [==============================] - ETA: 0s - loss: 0.0271 - accuracy: 0.9950\n",
            "Epoch 5: val_accuracy did not improve from 0.99888\n",
            "179/179 [==============================] - 59s 331ms/step - loss: 0.0271 - accuracy: 0.9950 - val_loss: 0.0111 - val_accuracy: 0.9966 - lr: 0.0010\n",
            "Epoch 6/100\n",
            "179/179 [==============================] - ETA: 0s - loss: 0.0120 - accuracy: 0.9952\n",
            "Epoch 6: val_accuracy did not improve from 0.99888\n",
            "179/179 [==============================] - 58s 327ms/step - loss: 0.0120 - accuracy: 0.9952 - val_loss: 0.0088 - val_accuracy: 0.9978 - lr: 0.0010\n",
            "Epoch 7/100\n",
            "179/179 [==============================] - ETA: 0s - loss: 7.7895e-04 - accuracy: 1.0000\n",
            "Epoch 7: val_accuracy did not improve from 0.99888\n",
            "179/179 [==============================] - 59s 328ms/step - loss: 7.7895e-04 - accuracy: 1.0000 - val_loss: 0.0114 - val_accuracy: 0.9978 - lr: 0.0010\n",
            "Epoch 8/100\n",
            "179/179 [==============================] - ETA: 0s - loss: 0.1146 - accuracy: 0.9812\n",
            "Epoch 8: val_accuracy did not improve from 0.99888\n",
            "179/179 [==============================] - 59s 329ms/step - loss: 0.1146 - accuracy: 0.9812 - val_loss: 0.6455 - val_accuracy: 0.9304 - lr: 0.0010\n",
            "Epoch 9/100\n",
            "179/179 [==============================] - ETA: 0s - loss: 0.0196 - accuracy: 0.9938\n",
            "Epoch 9: val_accuracy did not improve from 0.99888\n",
            "179/179 [==============================] - 58s 325ms/step - loss: 0.0196 - accuracy: 0.9938 - val_loss: 0.0032 - val_accuracy: 0.9989 - lr: 0.0010\n",
            "Epoch 10/100\n",
            "179/179 [==============================] - ETA: 0s - loss: 0.0275 - accuracy: 0.9902\n",
            "Epoch 10: val_accuracy improved from 0.99888 to 1.00000, saving model to Peach_Xception_model1_Based_Non_Augmented\n"
          ]
        },
        {
          "output_type": "stream",
          "name": "stderr",
          "text": [
            "WARNING:absl:Found untraced functions such as _jit_compiled_convolution_op, _jit_compiled_convolution_op, _jit_compiled_convolution_op, _jit_compiled_convolution_op, _jit_compiled_convolution_op while saving (showing 5 of 40). These functions will not be directly callable after loading.\n"
          ]
        },
        {
          "output_type": "stream",
          "name": "stdout",
          "text": [
            "\b\b\b\b\b\b\b\b\b\b\b\b\b\b\b\b\b\b\b\b\b\b\b\b\b\b\b\b\b\b\b\b\b\b\b\b\b\b\b\b\b\b\b\b\b\b\b\b\b\b\b\b\b\b\b\b\b\b\b\b\b\b\b\b\b\b\b\b\b\b\b\b\b\b\b\b\b\b\b\b\b\b\b\b\r179/179 [==============================] - 86s 479ms/step - loss: 0.0275 - accuracy: 0.9902 - val_loss: 0.0017 - val_accuracy: 1.0000 - lr: 0.0010\n",
            "Epoch 11/100\n",
            "179/179 [==============================] - ETA: 0s - loss: 0.0168 - accuracy: 0.9969\n",
            "Epoch 11: val_accuracy did not improve from 1.00000\n",
            "179/179 [==============================] - 59s 328ms/step - loss: 0.0168 - accuracy: 0.9969 - val_loss: 0.0031 - val_accuracy: 1.0000 - lr: 0.0010\n",
            "Epoch 12/100\n",
            "179/179 [==============================] - ETA: 0s - loss: 0.0301 - accuracy: 0.9924\n",
            "Epoch 12: val_accuracy did not improve from 1.00000\n",
            "179/179 [==============================] - 59s 332ms/step - loss: 0.0301 - accuracy: 0.9924 - val_loss: 0.0011 - val_accuracy: 1.0000 - lr: 0.0010\n",
            "Epoch 13/100\n",
            "179/179 [==============================] - ETA: 0s - loss: 0.0099 - accuracy: 0.9966\n",
            "Epoch 13: val_accuracy did not improve from 1.00000\n",
            "179/179 [==============================] - 58s 324ms/step - loss: 0.0099 - accuracy: 0.9966 - val_loss: 0.0083 - val_accuracy: 0.9966 - lr: 0.0010\n",
            "Epoch 14/100\n",
            "179/179 [==============================] - ETA: 0s - loss: 0.0159 - accuracy: 0.9950\n",
            "Epoch 14: val_accuracy did not improve from 1.00000\n",
            "179/179 [==============================] - 58s 325ms/step - loss: 0.0159 - accuracy: 0.9950 - val_loss: 0.0072 - val_accuracy: 0.9989 - lr: 0.0010\n",
            "Epoch 15/100\n",
            "179/179 [==============================] - ETA: 0s - loss: 0.0054 - accuracy: 0.9983\n",
            "Epoch 15: val_accuracy did not improve from 1.00000\n",
            "179/179 [==============================] - 58s 325ms/step - loss: 0.0054 - accuracy: 0.9983 - val_loss: 0.0024 - val_accuracy: 1.0000 - lr: 0.0010\n",
            "Epoch 16/100\n",
            "179/179 [==============================] - ETA: 0s - loss: 0.0051 - accuracy: 0.9992\n",
            "Epoch 16: val_accuracy did not improve from 1.00000\n",
            "179/179 [==============================] - 58s 324ms/step - loss: 0.0051 - accuracy: 0.9992 - val_loss: 0.0011 - val_accuracy: 1.0000 - lr: 0.0010\n",
            "Epoch 17/100\n",
            "179/179 [==============================] - ETA: 0s - loss: 0.0076 - accuracy: 0.9969\n",
            "Epoch 17: val_accuracy did not improve from 1.00000\n",
            "\n",
            "Epoch 17: ReduceLROnPlateau reducing learning rate to 0.00010000000474974513.\n",
            "179/179 [==============================] - 58s 325ms/step - loss: 0.0076 - accuracy: 0.9969 - val_loss: 0.0053 - val_accuracy: 0.9966 - lr: 0.0010\n",
            "Epoch 18/100\n",
            "179/179 [==============================] - ETA: 0s - loss: 0.0022 - accuracy: 0.9992\n",
            "Epoch 18: val_accuracy did not improve from 1.00000\n",
            "179/179 [==============================] - 58s 325ms/step - loss: 0.0022 - accuracy: 0.9992 - val_loss: 0.0013 - val_accuracy: 0.9989 - lr: 1.0000e-04\n",
            "Epoch 19/100\n",
            "179/179 [==============================] - ETA: 0s - loss: 0.0044 - accuracy: 0.9989\n",
            "Epoch 19: val_accuracy did not improve from 1.00000\n",
            "179/179 [==============================] - 58s 325ms/step - loss: 0.0044 - accuracy: 0.9989 - val_loss: 5.3599e-04 - val_accuracy: 1.0000 - lr: 1.0000e-04\n",
            "Epoch 20/100\n",
            "179/179 [==============================] - ETA: 0s - loss: 8.7364e-04 - accuracy: 0.9997\n",
            "Epoch 20: val_accuracy did not improve from 1.00000\n",
            "179/179 [==============================] - 60s 333ms/step - loss: 8.7364e-04 - accuracy: 0.9997 - val_loss: 3.4984e-04 - val_accuracy: 1.0000 - lr: 1.0000e-04\n",
            "Epoch 21/100\n",
            "179/179 [==============================] - ETA: 0s - loss: 5.7000e-04 - accuracy: 1.0000\n",
            "Epoch 21: val_accuracy did not improve from 1.00000\n",
            "179/179 [==============================] - 58s 325ms/step - loss: 5.7000e-04 - accuracy: 1.0000 - val_loss: 3.1948e-04 - val_accuracy: 1.0000 - lr: 1.0000e-04\n",
            "Epoch 22/100\n",
            "179/179 [==============================] - ETA: 0s - loss: 0.0041 - accuracy: 0.9994\n",
            "Epoch 22: val_accuracy did not improve from 1.00000\n",
            "179/179 [==============================] - 58s 325ms/step - loss: 0.0041 - accuracy: 0.9994 - val_loss: 4.3287e-04 - val_accuracy: 1.0000 - lr: 1.0000e-04\n",
            "Epoch 23/100\n",
            "179/179 [==============================] - ETA: 0s - loss: 3.4306e-04 - accuracy: 1.0000\n",
            "Epoch 23: val_accuracy did not improve from 1.00000\n",
            "179/179 [==============================] - 58s 325ms/step - loss: 3.4306e-04 - accuracy: 1.0000 - val_loss: 5.3637e-04 - val_accuracy: 1.0000 - lr: 1.0000e-04\n",
            "Epoch 24/100\n",
            "179/179 [==============================] - ETA: 0s - loss: 0.0016 - accuracy: 0.9997\n",
            "Epoch 24: val_accuracy did not improve from 1.00000\n",
            "179/179 [==============================] - 58s 324ms/step - loss: 0.0016 - accuracy: 0.9997 - val_loss: 7.6714e-04 - val_accuracy: 1.0000 - lr: 1.0000e-04\n",
            "Epoch 25/100\n",
            "179/179 [==============================] - ETA: 0s - loss: 5.6013e-04 - accuracy: 1.0000\n",
            "Epoch 25: val_accuracy did not improve from 1.00000\n",
            "179/179 [==============================] - 58s 324ms/step - loss: 5.6013e-04 - accuracy: 1.0000 - val_loss: 2.4774e-04 - val_accuracy: 1.0000 - lr: 1.0000e-04\n",
            "Epoch 26/100\n",
            "179/179 [==============================] - ETA: 0s - loss: 1.2493e-04 - accuracy: 1.0000\n",
            "Epoch 26: val_accuracy did not improve from 1.00000\n",
            "179/179 [==============================] - 58s 326ms/step - loss: 1.2493e-04 - accuracy: 1.0000 - val_loss: 3.2159e-04 - val_accuracy: 1.0000 - lr: 1.0000e-04\n",
            "Epoch 27/100\n",
            "179/179 [==============================] - ETA: 0s - loss: 6.9546e-04 - accuracy: 0.9997\n",
            "Epoch 27: val_accuracy did not improve from 1.00000\n",
            "179/179 [==============================] - 58s 325ms/step - loss: 6.9546e-04 - accuracy: 0.9997 - val_loss: 1.3592e-04 - val_accuracy: 1.0000 - lr: 1.0000e-04\n",
            "Epoch 28/100\n",
            "179/179 [==============================] - ETA: 0s - loss: 2.6328e-04 - accuracy: 1.0000\n",
            "Epoch 28: val_accuracy did not improve from 1.00000\n",
            "179/179 [==============================] - 60s 333ms/step - loss: 2.6328e-04 - accuracy: 1.0000 - val_loss: 1.0588e-04 - val_accuracy: 1.0000 - lr: 1.0000e-04\n",
            "Epoch 29/100\n",
            "179/179 [==============================] - ETA: 0s - loss: 9.0778e-04 - accuracy: 0.9997\n",
            "Epoch 29: val_accuracy did not improve from 1.00000\n",
            "179/179 [==============================] - 58s 324ms/step - loss: 9.0778e-04 - accuracy: 0.9997 - val_loss: 5.4940e-04 - val_accuracy: 1.0000 - lr: 1.0000e-04\n",
            "Epoch 30/100\n",
            "179/179 [==============================] - ETA: 0s - loss: 3.0479e-04 - accuracy: 1.0000\n",
            "Epoch 30: val_accuracy did not improve from 1.00000\n",
            "Restoring model weights from the end of the best epoch: 10.\n",
            "179/179 [==============================] - 58s 326ms/step - loss: 3.0479e-04 - accuracy: 1.0000 - val_loss: 5.8350e-04 - val_accuracy: 1.0000 - lr: 1.0000e-04\n",
            "Epoch 30: early stopping\n"
          ]
        }
      ],
      "source": [
        "# Define the number of epochs\n",
        "num_epochs = 100\n",
        "\n",
        "# Train the model\n",
        "history_Xception_model_1 = Xception_model.fit(train_generator, epochs=num_epochs, validation_data=validation_generator, callbacks=callbacks)"
      ]
    },
    {
      "cell_type": "code",
      "execution_count": 13,
      "metadata": {
        "colab": {
          "base_uri": "https://localhost:8080/",
          "height": 904
        },
        "id": "lvS9xz3LU2TI",
        "outputId": "b8107e50-c22c-49d4-8483-fd8ff826ed7d",
        "tags": []
      },
      "outputs": [
        {
          "output_type": "execute_result",
          "data": {
            "text/plain": [
              "Text(0.5, 1.0, 'Training and validation loss Xception Model')"
            ]
          },
          "metadata": {},
          "execution_count": 13
        },
        {
          "output_type": "display_data",
          "data": {
            "text/plain": [
              "<Figure size 640x480 with 1 Axes>"
            ],
            "image/png": "[encoded data removed]"
          },
          "metadata": {}
        },
        {
          "output_type": "display_data",
          "data": {
            "text/plain": [
              "<Figure size 640x480 with 1 Axes>"
            ],
            "image/png": "[encoded data removed]"
          },
          "metadata": {}
        }
      ],
      "source": [
        "#-----------------------------------------------------------\n",
        "# Retrieve a list of list results on training and test data\n",
        "# sets for each training epoch\n",
        "#-----------------------------------------------------------\n",
        "acc      = history_Xception_model_1.history['accuracy' ]\n",
        "val_acc  = history_Xception_model_1.history['val_accuracy' ]\n",
        "loss     = history_Xception_model_1.history['loss' ]\n",
        "val_loss = history_Xception_model_1.history['val_loss' ]\n",
        "\n",
        "epochs   = range(len(acc)) # Get number of epochs\n",
        "\n",
        "#------------------------------------------------\n",
        "# Plot training and validation accuracy per epoch\n",
        "#------------------------------------------------\n",
        "plt.plot  (epochs, acc )\n",
        "plt.plot  (epochs, val_acc )\n",
        "plt.title ('Training and validation accuracy Xception Model')\n",
        "plt.figure()\n",
        "\n",
        "#------------------------------------------------\n",
        "# Plot training and validation loss per epoch\n",
        "#------------------------------------------------\n",
        "plt.plot  (epochs, loss)\n",
        "plt.plot  (epochs, val_loss)\n",
        "plt.title ('Training and validation loss Xception Model')"
      ]
    },
    {
      "cell_type": "markdown",
      "metadata": {
        "id": "SvQOR9IuU2TJ"
      },
      "source": [
        "## Xception Model 2"
      ]
    },
    {
      "cell_type": "code",
      "execution_count": 14,
      "metadata": {
        "id": "Tj7lcdvUU2TJ",
        "tags": []
      },
      "outputs": [],
      "source": [
        "# Difine the callbacks\n",
        "# Save the best model\n",
        "checkpoint_callback = ModelCheckpoint(filepath=\"Peach_Xception_model2_Based_Non_Augmented\", save_best_only=True, monitor=\"val_accuracy\", mode=\"max\", verbose=1)\n",
        "\n",
        "# Early stopping\n",
        "early_stopping_callback = EarlyStopping(monitor=\"val_accuracy\", mode=\"max\", patience=20, verbose=1, restore_best_weights=True)\n",
        "\n",
        "# Reduce learning rate\n",
        "reduce_lr_callback = ReduceLROnPlateau(monitor=\"val_loss\", factor=0.1, patience=5, verbose=1, mode=\"min\", min_delta=0.0001, cooldown=0, min_lr=0)\n",
        "\n",
        "# Callbacks list\n",
        "callbacks=[checkpoint_callback, early_stopping_callback, reduce_lr_callback]"
      ]
    },
    {
      "cell_type": "code",
      "execution_count": 15,
      "metadata": {
        "colab": {
          "base_uri": "https://localhost:8080/"
        },
        "id": "7NKPY1xGU2TJ",
        "outputId": "a68a5000-ecc3-4895-ff7c-4bc9b70e355c",
        "tags": []
      },
      "outputs": [
        {
          "output_type": "stream",
          "name": "stdout",
          "text": [
            "Model: \"sequential_1\"\n",
            "_________________________________________________________________\n",
            " Layer (type)                Output Shape              Param #   \n",
            "=================================================================\n",
            " xception (Functional)       (None, 7, 7, 2048)        20861480  \n",
            "                                                                 \n",
            " global_average_pooling2d (G  (None, 2048)             0         \n",
            " lobalAveragePooling2D)                                          \n",
            "                                                                 \n",
            " dropout_1 (Dropout)         (None, 2048)              0         \n",
            "                                                                 \n",
            " dense_2 (Dense)             (None, 256)               524544    \n",
            "                                                                 \n",
            " dense_3 (Dense)             (None, 2)                 514       \n",
            "                                                                 \n",
            "=================================================================\n",
            "Total params: 21,386,538\n",
            "Trainable params: 21,332,010\n",
            "Non-trainable params: 54,528\n",
            "_________________________________________________________________\n"
          ]
        }
      ],
      "source": [
        "# Define Model\n",
        "Xception_model_2 = tf.keras.models.Sequential([\n",
        "    # Xception Layer\n",
        "    Xception(include_top=False,weights='imagenet',input_shape=(224, 224, 3)),\n",
        "    # Global Average Pooling Layer\n",
        "    tf.keras.layers.GlobalAveragePooling2D(),\n",
        "    # Drop Out Layer\n",
        "    tf.keras.layers.Dropout(0.2),\n",
        "    # 256 neuron hidden layer\n",
        "    tf.keras.layers.Dense(256, activation='relu'),\n",
        "    # Output\n",
        "    tf.keras.layers.Dense(2, activation='softmax') \n",
        "  ])\n",
        "\n",
        "\n",
        "# Compile Model\n",
        "Xception_model_2.compile(loss='categorical_crossentropy',optimizer=tf.keras.optimizers.Adam(), metrics=['accuracy']) \n",
        "\n",
        "# Model Summary\n",
        "Xception_model_2.summary()"
      ]
    },
    {
      "cell_type": "code",
      "execution_count": 16,
      "metadata": {
        "colab": {
          "base_uri": "https://localhost:8080/"
        },
        "id": "6beuexC9U2TJ",
        "outputId": "39e0f7be-fdc8-4cfd-ff8d-f7d10aee0a6a",
        "tags": []
      },
      "outputs": [
        {
          "output_type": "stream",
          "name": "stdout",
          "text": [
            "Epoch 1/100\n",
            "179/179 [==============================] - ETA: 0s - loss: 0.1088 - accuracy: 0.9644\n",
            "Epoch 1: val_accuracy improved from -inf to 0.85073, saving model to Peach_Xception_model2_Based_Non_Augmented\n"
          ]
        },
        {
          "output_type": "stream",
          "name": "stderr",
          "text": [
            "WARNING:absl:Found untraced functions such as _jit_compiled_convolution_op, _jit_compiled_convolution_op, _jit_compiled_convolution_op, _jit_compiled_convolution_op, _jit_compiled_convolution_op while saving (showing 5 of 40). These functions will not be directly callable after loading.\n"
          ]
        },
        {
          "output_type": "stream",
          "name": "stdout",
          "text": [
            "\b\b\b\b\b\b\b\b\b\b\b\b\b\b\b\b\b\b\b\b\b\b\b\b\b\b\b\b\b\b\b\b\b\b\b\b\b\b\b\b\b\b\b\b\b\b\b\b\b\b\b\b\b\b\b\b\b\b\b\b\b\b\b\b\b\b\b\b\b\b\b\b\b\b\b\b\b\b\b\b\b\b\b\b\r179/179 [==============================] - 116s 486ms/step - loss: 0.1088 - accuracy: 0.9644 - val_loss: 2.3426 - val_accuracy: 0.8507 - lr: 0.0010\n",
            "Epoch 2/100\n",
            "179/179 [==============================] - ETA: 0s - loss: 0.0295 - accuracy: 0.9933\n",
            "Epoch 2: val_accuracy improved from 0.85073 to 0.88664, saving model to Peach_Xception_model2_Based_Non_Augmented\n"
          ]
        },
        {
          "output_type": "stream",
          "name": "stderr",
          "text": [
            "WARNING:absl:Found untraced functions such as _jit_compiled_convolution_op, _jit_compiled_convolution_op, _jit_compiled_convolution_op, _jit_compiled_convolution_op, _jit_compiled_convolution_op while saving (showing 5 of 40). These functions will not be directly callable after loading.\n"
          ]
        },
        {
          "output_type": "stream",
          "name": "stdout",
          "text": [
            "\b\b\b\b\b\b\b\b\b\b\b\b\b\b\b\b\b\b\b\b\b\b\b\b\b\b\b\b\b\b\b\b\b\b\b\b\b\b\b\b\b\b\b\b\b\b\b\b\b\b\b\b\b\b\b\b\b\b\b\b\b\b\b\b\b\b\b\b\b\b\b\b\b\b\b\b\b\b\b\b\b\b\b\b\r179/179 [==============================] - 87s 485ms/step - loss: 0.0295 - accuracy: 0.9933 - val_loss: 19.8218 - val_accuracy: 0.8866 - lr: 0.0010\n",
            "Epoch 3/100\n",
            "179/179 [==============================] - ETA: 0s - loss: 0.0230 - accuracy: 0.9944\n",
            "Epoch 3: val_accuracy improved from 0.88664 to 0.97194, saving model to Peach_Xception_model2_Based_Non_Augmented\n"
          ]
        },
        {
          "output_type": "stream",
          "name": "stderr",
          "text": [
            "WARNING:absl:Found untraced functions such as _jit_compiled_convolution_op, _jit_compiled_convolution_op, _jit_compiled_convolution_op, _jit_compiled_convolution_op, _jit_compiled_convolution_op while saving (showing 5 of 40). These functions will not be directly callable after loading.\n"
          ]
        },
        {
          "output_type": "stream",
          "name": "stdout",
          "text": [
            "\b\b\b\b\b\b\b\b\b\b\b\b\b\b\b\b\b\b\b\b\b\b\b\b\b\b\b\b\b\b\b\b\b\b\b\b\b\b\b\b\b\b\b\b\b\b\b\b\b\b\b\b\b\b\b\b\b\b\b\b\b\b\b\b\b\b\b\b\b\b\b\b\b\b\b\b\b\b\b\b\b\b\b\b\r179/179 [==============================] - 87s 489ms/step - loss: 0.0230 - accuracy: 0.9944 - val_loss: 0.3718 - val_accuracy: 0.9719 - lr: 0.0010\n",
            "Epoch 4/100\n",
            "179/179 [==============================] - ETA: 0s - loss: 0.0171 - accuracy: 0.9952\n",
            "Epoch 4: val_accuracy improved from 0.97194 to 0.99888, saving model to Peach_Xception_model2_Based_Non_Augmented\n"
          ]
        },
        {
          "output_type": "stream",
          "name": "stderr",
          "text": [
            "WARNING:absl:Found untraced functions such as _jit_compiled_convolution_op, _jit_compiled_convolution_op, _jit_compiled_convolution_op, _jit_compiled_convolution_op, _jit_compiled_convolution_op while saving (showing 5 of 40). These functions will not be directly callable after loading.\n"
          ]
        },
        {
          "output_type": "stream",
          "name": "stdout",
          "text": [
            "\b\b\b\b\b\b\b\b\b\b\b\b\b\b\b\b\b\b\b\b\b\b\b\b\b\b\b\b\b\b\b\b\b\b\b\b\b\b\b\b\b\b\b\b\b\b\b\b\b\b\b\b\b\b\b\b\b\b\b\b\b\b\b\b\b\b\b\b\b\b\b\b\b\b\b\b\b\b\b\b\b\b\b\b\r179/179 [==============================] - 87s 489ms/step - loss: 0.0171 - accuracy: 0.9952 - val_loss: 0.0038 - val_accuracy: 0.9989 - lr: 0.0010\n",
            "Epoch 5/100\n",
            "179/179 [==============================] - ETA: 0s - loss: 0.0140 - accuracy: 0.9961\n",
            "Epoch 5: val_accuracy did not improve from 0.99888\n",
            "179/179 [==============================] - 59s 331ms/step - loss: 0.0140 - accuracy: 0.9961 - val_loss: 0.0203 - val_accuracy: 0.9978 - lr: 0.0010\n",
            "Epoch 6/100\n",
            "179/179 [==============================] - ETA: 0s - loss: 0.0094 - accuracy: 0.9961\n",
            "Epoch 6: val_accuracy did not improve from 0.99888\n",
            "179/179 [==============================] - 58s 326ms/step - loss: 0.0094 - accuracy: 0.9961 - val_loss: 0.0175 - val_accuracy: 0.9944 - lr: 0.0010\n",
            "Epoch 7/100\n",
            "179/179 [==============================] - ETA: 0s - loss: 0.0263 - accuracy: 0.9905\n",
            "Epoch 7: val_accuracy did not improve from 0.99888\n",
            "179/179 [==============================] - 59s 327ms/step - loss: 0.0263 - accuracy: 0.9905 - val_loss: 0.0067 - val_accuracy: 0.9978 - lr: 0.0010\n",
            "Epoch 8/100\n",
            "179/179 [==============================] - ETA: 0s - loss: 0.0198 - accuracy: 0.9952\n",
            "Epoch 8: val_accuracy did not improve from 0.99888\n",
            "179/179 [==============================] - 59s 331ms/step - loss: 0.0198 - accuracy: 0.9952 - val_loss: 0.0322 - val_accuracy: 0.9933 - lr: 0.0010\n",
            "Epoch 9/100\n",
            "179/179 [==============================] - ETA: 0s - loss: 0.0102 - accuracy: 0.9978\n",
            "Epoch 9: val_accuracy did not improve from 0.99888\n",
            "\n",
            "Epoch 9: ReduceLROnPlateau reducing learning rate to 0.00010000000474974513.\n",
            "179/179 [==============================] - 59s 331ms/step - loss: 0.0102 - accuracy: 0.9978 - val_loss: 0.0437 - val_accuracy: 0.9798 - lr: 0.0010\n",
            "Epoch 10/100\n",
            "179/179 [==============================] - ETA: 0s - loss: 0.0033 - accuracy: 0.9994\n",
            "Epoch 10: val_accuracy did not improve from 0.99888\n",
            "179/179 [==============================] - 58s 326ms/step - loss: 0.0033 - accuracy: 0.9994 - val_loss: 0.0038 - val_accuracy: 0.9989 - lr: 1.0000e-04\n",
            "Epoch 11/100\n",
            "179/179 [==============================] - ETA: 0s - loss: 0.0019 - accuracy: 0.9994\n",
            "Epoch 11: val_accuracy did not improve from 0.99888\n",
            "179/179 [==============================] - 59s 328ms/step - loss: 0.0019 - accuracy: 0.9994 - val_loss: 0.0039 - val_accuracy: 0.9989 - lr: 1.0000e-04\n",
            "Epoch 12/100\n",
            "179/179 [==============================] - ETA: 0s - loss: 0.0024 - accuracy: 0.9992\n",
            "Epoch 12: val_accuracy did not improve from 0.99888\n",
            "179/179 [==============================] - 60s 335ms/step - loss: 0.0024 - accuracy: 0.9992 - val_loss: 0.0033 - val_accuracy: 0.9989 - lr: 1.0000e-04\n",
            "Epoch 13/100\n",
            "179/179 [==============================] - ETA: 0s - loss: 0.0015 - accuracy: 0.9997\n",
            "Epoch 13: val_accuracy did not improve from 0.99888\n",
            "179/179 [==============================] - 60s 335ms/step - loss: 0.0015 - accuracy: 0.9997 - val_loss: 0.0037 - val_accuracy: 0.9989 - lr: 1.0000e-04\n",
            "Epoch 14/100\n",
            "179/179 [==============================] - ETA: 0s - loss: 0.0010 - accuracy: 0.9997    \n",
            "Epoch 14: val_accuracy did not improve from 0.99888\n",
            "179/179 [==============================] - 60s 336ms/step - loss: 0.0010 - accuracy: 0.9997 - val_loss: 0.0030 - val_accuracy: 0.9989 - lr: 1.0000e-04\n",
            "Epoch 15/100\n",
            "179/179 [==============================] - ETA: 0s - loss: 0.0012 - accuracy: 0.9997\n",
            "Epoch 15: val_accuracy did not improve from 0.99888\n",
            "179/179 [==============================] - 59s 328ms/step - loss: 0.0012 - accuracy: 0.9997 - val_loss: 0.0029 - val_accuracy: 0.9989 - lr: 1.0000e-04\n",
            "Epoch 16/100\n",
            "179/179 [==============================] - ETA: 0s - loss: 8.0356e-04 - accuracy: 0.9997\n",
            "Epoch 16: val_accuracy did not improve from 0.99888\n",
            "179/179 [==============================] - 59s 328ms/step - loss: 8.0356e-04 - accuracy: 0.9997 - val_loss: 0.0025 - val_accuracy: 0.9989 - lr: 1.0000e-04\n",
            "Epoch 17/100\n",
            "179/179 [==============================] - ETA: 0s - loss: 6.9929e-04 - accuracy: 1.0000\n",
            "Epoch 17: val_accuracy did not improve from 0.99888\n",
            "179/179 [==============================] - 59s 331ms/step - loss: 6.9929e-04 - accuracy: 1.0000 - val_loss: 0.0033 - val_accuracy: 0.9989 - lr: 1.0000e-04\n",
            "Epoch 18/100\n",
            "179/179 [==============================] - ETA: 0s - loss: 2.4030e-04 - accuracy: 1.0000\n",
            "Epoch 18: val_accuracy did not improve from 0.99888\n",
            "179/179 [==============================] - 59s 327ms/step - loss: 2.4030e-04 - accuracy: 1.0000 - val_loss: 0.0033 - val_accuracy: 0.9989 - lr: 1.0000e-04\n",
            "Epoch 19/100\n",
            "179/179 [==============================] - ETA: 0s - loss: 1.2541e-04 - accuracy: 1.0000\n",
            "Epoch 19: val_accuracy did not improve from 0.99888\n",
            "179/179 [==============================] - 59s 328ms/step - loss: 1.2541e-04 - accuracy: 1.0000 - val_loss: 0.0030 - val_accuracy: 0.9989 - lr: 1.0000e-04\n",
            "Epoch 20/100\n",
            "179/179 [==============================] - ETA: 0s - loss: 1.5957e-04 - accuracy: 1.0000\n",
            "Epoch 20: val_accuracy did not improve from 0.99888\n",
            "179/179 [==============================] - 59s 331ms/step - loss: 1.5957e-04 - accuracy: 1.0000 - val_loss: 0.0032 - val_accuracy: 0.9989 - lr: 1.0000e-04\n",
            "Epoch 21/100\n",
            "179/179 [==============================] - ETA: 0s - loss: 1.9943e-04 - accuracy: 1.0000\n",
            "Epoch 21: val_accuracy did not improve from 0.99888\n",
            "\n",
            "Epoch 21: ReduceLROnPlateau reducing learning rate to 1.0000000474974514e-05.\n",
            "179/179 [==============================] - 58s 326ms/step - loss: 1.9943e-04 - accuracy: 1.0000 - val_loss: 0.0032 - val_accuracy: 0.9989 - lr: 1.0000e-04\n",
            "Epoch 22/100\n",
            "179/179 [==============================] - ETA: 0s - loss: 3.2170e-04 - accuracy: 0.9997\n",
            "Epoch 22: val_accuracy did not improve from 0.99888\n",
            "179/179 [==============================] - 59s 327ms/step - loss: 3.2170e-04 - accuracy: 0.9997 - val_loss: 0.0034 - val_accuracy: 0.9989 - lr: 1.0000e-05\n",
            "Epoch 23/100\n",
            "179/179 [==============================] - ETA: 0s - loss: 3.1494e-04 - accuracy: 1.0000\n",
            "Epoch 23: val_accuracy did not improve from 0.99888\n",
            "179/179 [==============================] - 60s 335ms/step - loss: 3.1494e-04 - accuracy: 1.0000 - val_loss: 0.0033 - val_accuracy: 0.9989 - lr: 1.0000e-05\n",
            "Epoch 24/100\n",
            "179/179 [==============================] - ETA: 0s - loss: 1.1747e-04 - accuracy: 1.0000\n",
            "Epoch 24: val_accuracy did not improve from 0.99888\n",
            "Restoring model weights from the end of the best epoch: 4.\n",
            "179/179 [==============================] - 60s 336ms/step - loss: 1.1747e-04 - accuracy: 1.0000 - val_loss: 0.0031 - val_accuracy: 0.9989 - lr: 1.0000e-05\n",
            "Epoch 24: early stopping\n"
          ]
        }
      ],
      "source": [
        "# Define the number of epochs\n",
        "num_epochs = 100\n",
        "\n",
        "# Train the model\n",
        "history_Xception_model_2 = Xception_model_2.fit(train_generator, epochs=num_epochs, validation_data=validation_generator, callbacks=callbacks)"
      ]
    },
    {
      "cell_type": "code",
      "execution_count": 17,
      "metadata": {
        "colab": {
          "base_uri": "https://localhost:8080/",
          "height": 904
        },
        "id": "3f1nmwUhU2TK",
        "outputId": "60d17015-ae02-4fc3-8b2b-0eefcb93c885",
        "tags": []
      },
      "outputs": [
        {
          "output_type": "execute_result",
          "data": {
            "text/plain": [
              "Text(0.5, 1.0, 'Training and validation loss Xception Model')"
            ]
          },
          "metadata": {},
          "execution_count": 17
        },
        {
          "output_type": "display_data",
          "data": {
            "text/plain": [
              "<Figure size 640x480 with 1 Axes>"
            ],
            "image/png": "[encoded data removed]"
          },
          "metadata": {}
        },
        {
          "output_type": "display_data",
          "data": {
            "text/plain": [
              "<Figure size 640x480 with 1 Axes>"
            ],
            "image/png": "[encoded data removed]"
          },
          "metadata": {}
        }
      ],
      "source": [
        "#-----------------------------------------------------------\n",
        "# Retrieve a list of list results on training and test data\n",
        "# sets for each training epoch\n",
        "#-----------------------------------------------------------\n",
        "acc      = history_Xception_model_2.history['accuracy' ]\n",
        "val_acc  = history_Xception_model_2.history['val_accuracy' ]\n",
        "loss     = history_Xception_model_2.history['loss' ]\n",
        "val_loss = history_Xception_model_2.history['val_loss' ]\n",
        "\n",
        "epochs   = range(len(acc)) # Get number of epochs\n",
        "\n",
        "#------------------------------------------------\n",
        "# Plot training and validation accuracy per epoch\n",
        "#------------------------------------------------\n",
        "plt.plot  (epochs, acc )\n",
        "plt.plot  (epochs, val_acc )\n",
        "plt.title ('Training and validation accuracy Xception Model')\n",
        "plt.figure()\n",
        "\n",
        "#------------------------------------------------\n",
        "# Plot training and validation loss per epoch\n",
        "#------------------------------------------------\n",
        "plt.plot  (epochs, loss)\n",
        "plt.plot  (epochs, val_loss)\n",
        "plt.title ('Training and validation loss Xception Model')"
      ]
    },
    {
      "cell_type": "markdown",
      "metadata": {
        "id": "eNpM76pKIGId"
      },
      "source": [
        "# Download Model"
      ]
    },
    {
      "cell_type": "code",
      "source": [
        "!zip -r /content/Peach_Xception_model1_Based_Non_Augmented.zip /content/Peach_Xception_model1_Based_Non_Augmented"
      ],
      "metadata": {
        "colab": {
          "base_uri": "https://localhost:8080/"
        },
        "id": "0erpefcodsZq",
        "outputId": "91bf6499-0814-497d-80ae-71c518f83572"
      },
      "execution_count": 19,
      "outputs": [
        {
          "output_type": "stream",
          "name": "stdout",
          "text": [
            "  adding: content/Peach_Xception_model1_Based_Non_Augmented/ (stored 0%)\n",
            "  adding: content/Peach_Xception_model1_Based_Non_Augmented/saved_model.pb (deflated 92%)\n",
            "  adding: content/Peach_Xception_model1_Based_Non_Augmented/fingerprint.pb (stored 0%)\n",
            "  adding: content/Peach_Xception_model1_Based_Non_Augmented/assets/ (stored 0%)\n",
            "  adding: content/Peach_Xception_model1_Based_Non_Augmented/keras_metadata.pb (deflated 96%)\n",
            "  adding: content/Peach_Xception_model1_Based_Non_Augmented/variables/ (stored 0%)\n",
            "  adding: content/Peach_Xception_model1_Based_Non_Augmented/variables/variables.data-00000-of-00001 (deflated 7%)\n",
            "  adding: content/Peach_Xception_model1_Based_Non_Augmented/variables/variables.index (deflated 77%)\n"
          ]
        }
      ]
    },
    {
      "cell_type": "code",
      "source": [
        "!zip -r /content/Peach_Xception_model2_Based_Non_Augmented.zip /content/Peach_Xception_model2_Based_Non_Augmented"
      ],
      "metadata": {
        "colab": {
          "base_uri": "https://localhost:8080/"
        },
        "id": "XF2BsbVUd0e2",
        "outputId": "88335d4f-727d-4719-ef05-0feb06287537"
      },
      "execution_count": 20,
      "outputs": [
        {
          "output_type": "stream",
          "name": "stdout",
          "text": [
            "  adding: content/Peach_Xception_model2_Based_Non_Augmented/ (stored 0%)\n",
            "  adding: content/Peach_Xception_model2_Based_Non_Augmented/saved_model.pb (deflated 92%)\n",
            "  adding: content/Peach_Xception_model2_Based_Non_Augmented/fingerprint.pb (stored 0%)\n",
            "  adding: content/Peach_Xception_model2_Based_Non_Augmented/assets/ (stored 0%)\n",
            "  adding: content/Peach_Xception_model2_Based_Non_Augmented/keras_metadata.pb (deflated 96%)\n",
            "  adding: content/Peach_Xception_model2_Based_Non_Augmented/variables/ (stored 0%)\n",
            "  adding: content/Peach_Xception_model2_Based_Non_Augmented/variables/variables.data-00000-of-00001 (deflated 7%)\n",
            "  adding: content/Peach_Xception_model2_Based_Non_Augmented/variables/variables.index (deflated 77%)\n"
          ]
        }
      ]
    },
    {
      "cell_type": "code",
      "execution_count": null,
      "metadata": {
        "id": "EreJ9zofIGId"
      },
      "outputs": [],
      "source": [
        "from google.colab import files\n",
        "\n",
        "# Specify the file path\n",
        "file_path_1 = '/content/Peach_Xception_model1_Based_Non_Augmented'  \n",
        "file_path_2 = '/content/Peach_Xception_model2_Based_Non_Augmented'  \n",
        "\n",
        "# Download the file\n",
        "files.download(file_path_1)\n",
        "files.download(file_path_2)"
      ]
    }
  ],
  "metadata": {
    "accelerator": "GPU",
    "colab": {
      "gpuType": "T4",
      "provenance": []
    },
    "gpuClass": "standard",
    "kernelspec": {
      "display_name": "Python 3 (ipykernel)",
      "language": "python",
      "name": "python3"
    },
    "language_info": {
      "codemirror_mode": {
        "name": "ipython",
        "version": 3
      },
      "file_extension": ".py",
      "mimetype": "text/x-python",
      "name": "python",
      "nbconvert_exporter": "python",
      "pygments_lexer": "ipython3",
      "version": "3.8.10"
    }
  },
  "nbformat": 4,
  "nbformat_minor": 0
}