{
  "cells": [
    {
      "cell_type": "markdown",
      "metadata": {
        "id": "hO3kEcUPU2S3"
      },
      "source": [
        "# Library"
      ]
    },
    {
      "cell_type": "code",
      "execution_count": 1,
      "metadata": {
        "colab": {
          "base_uri": "https://localhost:8080/"
        },
        "id": "kczkUjsAU2S8",
        "outputId": "bc41afcc-5c3d-4b7e-d59c-4971a9da65ee",
        "tags": []
      },
      "outputs": [
        {
          "output_type": "stream",
          "name": "stdout",
          "text": [
            "Looking in indexes: https://pypi.org/simple, https://us-python.pkg.dev/colab-wheels/public/simple/\n",
            "Requirement already satisfied: matplotlib in /usr/local/lib/python3.10/dist-packages (3.7.1)\n",
            "Requirement already satisfied: contourpy>=1.0.1 in /usr/local/lib/python3.10/dist-packages (from matplotlib) (1.0.7)\n",
            "Requirement already satisfied: cycler>=0.10 in /usr/local/lib/python3.10/dist-packages (from matplotlib) (0.11.0)\n",
            "Requirement already satisfied: fonttools>=4.22.0 in /usr/local/lib/python3.10/dist-packages (from matplotlib) (4.39.3)\n",
            "Requirement already satisfied: kiwisolver>=1.0.1 in /usr/local/lib/python3.10/dist-packages (from matplotlib) (1.4.4)\n",
            "Requirement already satisfied: numpy>=1.20 in /usr/local/lib/python3.10/dist-packages (from matplotlib) (1.22.4)\n",
            "Requirement already satisfied: packaging>=20.0 in /usr/local/lib/python3.10/dist-packages (from matplotlib) (23.1)\n",
            "Requirement already satisfied: pillow>=6.2.0 in /usr/local/lib/python3.10/dist-packages (from matplotlib) (8.4.0)\n",
            "Requirement already satisfied: pyparsing>=2.3.1 in /usr/local/lib/python3.10/dist-packages (from matplotlib) (3.0.9)\n",
            "Requirement already satisfied: python-dateutil>=2.7 in /usr/local/lib/python3.10/dist-packages (from matplotlib) (2.8.2)\n",
            "Requirement already satisfied: six>=1.5 in /usr/local/lib/python3.10/dist-packages (from python-dateutil>=2.7->matplotlib) (1.16.0)\n"
          ]
        }
      ],
      "source": [
        "pip install matplotlib"
      ]
    },
    {
      "cell_type": "code",
      "execution_count": 2,
      "metadata": {
        "colab": {
          "base_uri": "https://localhost:8080/"
        },
        "id": "oEW3Nbu7U2S_",
        "outputId": "7a770f63-6064-4dd9-da81-e481414c3196",
        "tags": []
      },
      "outputs": [
        {
          "output_type": "stream",
          "name": "stdout",
          "text": [
            "Looking in indexes: https://pypi.org/simple, https://us-python.pkg.dev/colab-wheels/public/simple/\n",
            "Requirement already satisfied: opendatasets in /usr/local/lib/python3.10/dist-packages (0.1.22)\n",
            "Requirement already satisfied: tqdm in /usr/local/lib/python3.10/dist-packages (from opendatasets) (4.65.0)\n",
            "Requirement already satisfied: kaggle in /usr/local/lib/python3.10/dist-packages (from opendatasets) (1.5.13)\n",
            "Requirement already satisfied: click in /usr/local/lib/python3.10/dist-packages (from opendatasets) (8.1.3)\n",
            "Requirement already satisfied: six>=1.10 in /usr/local/lib/python3.10/dist-packages (from kaggle->opendatasets) (1.16.0)\n",
            "Requirement already satisfied: certifi in /usr/local/lib/python3.10/dist-packages (from kaggle->opendatasets) (2022.12.7)\n",
            "Requirement already satisfied: python-dateutil in /usr/local/lib/python3.10/dist-packages (from kaggle->opendatasets) (2.8.2)\n",
            "Requirement already satisfied: requests in /usr/local/lib/python3.10/dist-packages (from kaggle->opendatasets) (2.27.1)\n",
            "Requirement already satisfied: python-slugify in /usr/local/lib/python3.10/dist-packages (from kaggle->opendatasets) (8.0.1)\n",
            "Requirement already satisfied: urllib3 in /usr/local/lib/python3.10/dist-packages (from kaggle->opendatasets) (1.26.15)\n",
            "Requirement already satisfied: text-unidecode>=1.3 in /usr/local/lib/python3.10/dist-packages (from python-slugify->kaggle->opendatasets) (1.3)\n",
            "Requirement already satisfied: charset-normalizer~=2.0.0 in /usr/local/lib/python3.10/dist-packages (from requests->kaggle->opendatasets) (2.0.12)\n",
            "Requirement already satisfied: idna<4,>=2.5 in /usr/local/lib/python3.10/dist-packages (from requests->kaggle->opendatasets) (3.4)\n"
          ]
        }
      ],
      "source": [
        "pip install opendatasets"
      ]
    },
    {
      "cell_type": "code",
      "execution_count": 3,
      "metadata": {
        "id": "SIHHdOB4U2TA",
        "tags": []
      },
      "outputs": [],
      "source": [
        "# Library to dataset\n",
        "import opendatasets as od\n",
        "import os\n",
        "import zipfile\n",
        "import numpy as np\n",
        "\n",
        "# Surpress Warnings\n",
        "import warnings\n",
        "warnings.filterwarnings('ignore')\n",
        "os.environ['TF_CPP_MIN_LOG_LEVEL'] = '3' \n",
        "# library visualization\n",
        "import matplotlib.pyplot as plt\n",
        "\n",
        "# Library Tensorflow\n",
        "import tensorflow as tf\n",
        "from tensorflow import keras\n",
        "from tensorflow.keras.preprocessing.image import ImageDataGenerator\n",
        "from tensorflow.keras.callbacks import ModelCheckpoint, EarlyStopping, ReduceLROnPlateau\n",
        "from tensorflow.keras.applications.densenet import DenseNet121\n",
        "from tensorflow.keras.applications.xception import Xception\n",
        "\n",
        "# Others\n",
        "import shutil\n",
        "import random"
      ]
    },
    {
      "cell_type": "markdown",
      "metadata": {
        "id": "Dy8YkYoaU2TB"
      },
      "source": [
        "# Load dataset"
      ]
    },
    {
      "cell_type": "code",
      "execution_count": 4,
      "metadata": {
        "colab": {
          "base_uri": "https://localhost:8080/"
        },
        "id": "TWOf7hZ1U2TC",
        "outputId": "02e2adae-ad51-4f59-8075-bd0f1df0072b",
        "tags": []
      },
      "outputs": [
        {
          "output_type": "stream",
          "name": "stdout",
          "text": [
            "Skipping, found downloaded files in \"./peach-leaves\" (use force=True to force download)\n"
          ]
        }
      ],
      "source": [
        "# Download dataset\n",
        "od.download('https://www.kaggle.com/datasets/ahmadhabibhasanzein/peach-leaves')"
      ]
    },
    {
      "cell_type": "code",
      "execution_count": 5,
      "metadata": {
        "colab": {
          "base_uri": "https://localhost:8080/"
        },
        "id": "8ZAjREJ0U2TC",
        "outputId": "9a8d577b-e6a8-406b-f714-2eb34070d16c",
        "tags": []
      },
      "outputs": [
        {
          "output_type": "stream",
          "name": "stdout",
          "text": [
            "==========================Training Data====================\n",
            "Found 3566 files belonging to 2 classes.\n",
            "==========================Validation Data====================\n",
            "Found 891 files belonging to 2 classes.\n"
          ]
        }
      ],
      "source": [
        "# Load dataset\n",
        "print(\"==========================Training Data====================\")\n",
        "train_data = tf.keras.preprocessing.image_dataset_from_directory(\n",
        "    \"/content/peach-leaves/Peach/train\",\n",
        "    label_mode=\"categorical\",\n",
        "    class_names=['Peach___Bacterial_spot','Peach___healthy'],\n",
        "    color_mode=\"rgb\",\n",
        "    batch_size=1,\n",
        "    image_size=(256, 256),\n",
        "    shuffle=True,\n",
        "    seed=123\n",
        ")\n",
        "print(\"==========================Validation Data====================\")\n",
        "val_data = tf.keras.preprocessing.image_dataset_from_directory(\n",
        "    \"/content/peach-leaves/Peach/valid\",\n",
        "    label_mode=\"categorical\",\n",
        "    class_names=['Peach___Bacterial_spot','Peach___healthy'],\n",
        "    color_mode=\"rgb\",\n",
        "    batch_size=1,\n",
        "    image_size=(256, 256),\n",
        "    shuffle=True,\n",
        "    seed=123\n",
        ")"
      ]
    },
    {
      "cell_type": "code",
      "execution_count": 6,
      "metadata": {
        "colab": {
          "base_uri": "https://localhost:8080/"
        },
        "id": "vEPzd1egU2TD",
        "outputId": "6e302699-7cbb-4e7e-d3cc-040e7b29e401",
        "tags": []
      },
      "outputs": [
        {
          "output_type": "stream",
          "name": "stdout",
          "text": [
            "Found 3566 images belonging to 2 classes.\n",
            "Found 891 images belonging to 2 classes.\n"
          ]
        }
      ],
      "source": [
        "# All images will be rescaled by 1./255.\n",
        "train_datagen = ImageDataGenerator(rescale = 1.0/256.,\n",
        "                                   rotation_range=40,\n",
        "                                   width_shift_range=0.2,\n",
        "                                   height_shift_range=0.2,\n",
        "                                   shear_range=0.2,\n",
        "                                   zoom_range=0.2,\n",
        "                                   horizontal_flip=True,\n",
        "                                   fill_mode='nearest')\n",
        "test_datagen  = ImageDataGenerator(rescale = 1.0/256.)\n",
        "\n",
        "# --------------------\n",
        "# Flow training images in batches of 20 using train_datagen generator\n",
        "# --------------------\n",
        "train_generator = train_datagen.flow_from_directory(\"/content/peach-leaves/Peach/train\",\n",
        "                                                    batch_size=20,\n",
        "                                                    class_mode='categorical',\n",
        "                                                    target_size=(224, 224))     \n",
        "# --------------------\n",
        "# Flow validation images in batches of 20 using test_datagen generator\n",
        "# --------------------\n",
        "validation_generator =  test_datagen.flow_from_directory(\"/content/peach-leaves/Peach/valid\",\n",
        "                                                         batch_size=20,\n",
        "                                                         class_mode  = 'categorical',\n",
        "                                                         target_size = (224, 224))"
      ]
    },
    {
      "cell_type": "markdown",
      "metadata": {
        "id": "_3jaO5YgU2TE"
      },
      "source": [
        "# List Resource"
      ]
    },
    {
      "cell_type": "code",
      "execution_count": 7,
      "metadata": {
        "colab": {
          "base_uri": "https://localhost:8080/"
        },
        "id": "SGemCaxnU2TF",
        "outputId": "80e1cd74-1a83-4c48-8202-2be8c66bc8d5",
        "tags": []
      },
      "outputs": [
        {
          "output_type": "stream",
          "name": "stdout",
          "text": [
            "Wed May 24 14:46:29 2023       \n",
            "+-----------------------------------------------------------------------------+\n",
            "| NVIDIA-SMI 525.85.12    Driver Version: 525.85.12    CUDA Version: 12.0     |\n",
            "|-------------------------------+----------------------+----------------------+\n",
            "| GPU  Name        Persistence-M| Bus-Id        Disp.A | Volatile Uncorr. ECC |\n",
            "| Fan  Temp  Perf  Pwr:Usage/Cap|         Memory-Usage | GPU-Util  Compute M. |\n",
            "|                               |                      |               MIG M. |\n",
            "|===============================+======================+======================|\n",
            "|   0  Tesla T4            Off  | 00000000:00:04.0 Off |                    0 |\n",
            "| N/A   70C    P0    30W /  70W |    375MiB / 15360MiB |      1%      Default |\n",
            "|                               |                      |                  N/A |\n",
            "+-------------------------------+----------------------+----------------------+\n",
            "                                                                               \n",
            "+-----------------------------------------------------------------------------+\n",
            "| Processes:                                                                  |\n",
            "|  GPU   GI   CI        PID   Type   Process name                  GPU Memory |\n",
            "|        ID   ID                                                   Usage      |\n",
            "|=============================================================================|\n",
            "+-----------------------------------------------------------------------------+\n"
          ]
        }
      ],
      "source": [
        "# Check GPU\n",
        "!nvidia-smi"
      ]
    },
    {
      "cell_type": "code",
      "execution_count": 8,
      "metadata": {
        "colab": {
          "base_uri": "https://localhost:8080/"
        },
        "id": "FSapZ74PU2TF",
        "outputId": "ebeefc74-8bd0-43da-c3d4-28518c502712",
        "tags": []
      },
      "outputs": [
        {
          "output_type": "execute_result",
          "data": {
            "text/plain": [
              "[PhysicalDevice(name='/physical_device:GPU:0', device_type='GPU')]"
            ]
          },
          "metadata": {},
          "execution_count": 8
        }
      ],
      "source": [
        "# Lis physical devices\n",
        "devices = tf.config.experimental.list_physical_devices(\"GPU\")\n",
        "devices"
      ]
    },
    {
      "cell_type": "code",
      "execution_count": 9,
      "metadata": {
        "id": "A8WtBtBaU2TG",
        "tags": []
      },
      "outputs": [],
      "source": [
        "# Define the GPU strategy\n",
        "mirrored_strategy = tf.distribute.MirroredStrategy(devices=[\"/gpu:0\"])"
      ]
    },
    {
      "cell_type": "markdown",
      "metadata": {
        "id": "Vqr_uGTNU2TG"
      },
      "source": [
        "# Modelling With Augmentation"
      ]
    },
    {
      "cell_type": "markdown",
      "metadata": {
        "id": "w4Wzh6ZyU2TH"
      },
      "source": [
        "## Xception Model 1"
      ]
    },
    {
      "cell_type": "code",
      "execution_count": 10,
      "metadata": {
        "id": "uUqYGBfRU2TH",
        "tags": []
      },
      "outputs": [],
      "source": [
        "# Difine the callbacks\n",
        "# Save the best model\n",
        "checkpoint_callback = ModelCheckpoint(filepath=\"Peach_Xception_model1_Based_Augmented\", save_best_only=True, monitor=\"val_accuracy\", mode=\"max\", verbose=1)\n",
        "\n",
        "# Early stopping\n",
        "early_stopping_callback = EarlyStopping(monitor=\"val_accuracy\", mode=\"max\", patience=20, verbose=1, restore_best_weights=True)\n",
        "\n",
        "# Reduce learning rate\n",
        "reduce_lr_callback = ReduceLROnPlateau(monitor=\"val_loss\", factor=0.1, patience=5, verbose=1, mode=\"min\", min_delta=0.0001, cooldown=0, min_lr=0)\n",
        "\n",
        "# Callbacks list\n",
        "callbacks=[checkpoint_callback, early_stopping_callback, reduce_lr_callback]"
      ]
    },
    {
      "cell_type": "code",
      "execution_count": 11,
      "metadata": {
        "colab": {
          "base_uri": "https://localhost:8080/"
        },
        "id": "BQHFs3gSU2TI",
        "outputId": "8c71a291-abb5-4a93-c71f-59dddd7cfceb",
        "tags": []
      },
      "outputs": [
        {
          "output_type": "stream",
          "name": "stdout",
          "text": [
            "Model: \"sequential\"\n",
            "_________________________________________________________________\n",
            " Layer (type)                Output Shape              Param #   \n",
            "=================================================================\n",
            " xception (Functional)       (None, 7, 7, 2048)        20861480  \n",
            "                                                                 \n",
            " global_max_pooling2d (Globa  (None, 2048)             0         \n",
            " lMaxPooling2D)                                                  \n",
            "                                                                 \n",
            " dropout (Dropout)           (None, 2048)              0         \n",
            "                                                                 \n",
            " dense (Dense)               (None, 256)               524544    \n",
            "                                                                 \n",
            " dense_1 (Dense)             (None, 2)                 514       \n",
            "                                                                 \n",
            "=================================================================\n",
            "Total params: 21,386,538\n",
            "Trainable params: 21,332,010\n",
            "Non-trainable params: 54,528\n",
            "_________________________________________________________________\n"
          ]
        }
      ],
      "source": [
        "# Define Model\n",
        "Xception_model = tf.keras.models.Sequential([\n",
        "    # Xception Layer\n",
        "    Xception(include_top=False,weights='imagenet',input_shape=(224, 224, 3)),\n",
        "    # Global Max Pooling Layer\n",
        "    tf.keras.layers.GlobalMaxPooling2D(),\n",
        "    # Drop Out Layer\n",
        "    tf.keras.layers.Dropout(0.2),\n",
        "    # 256 neuron hidden layer\n",
        "    tf.keras.layers.Dense(256, activation='relu'),\n",
        "    # Output\n",
        "    tf.keras.layers.Dense(2, activation='softmax') \n",
        "  ])\n",
        "\n",
        "\n",
        "# Compile Model\n",
        "Xception_model.compile(loss='categorical_crossentropy',optimizer=tf.keras.optimizers.Adam(), metrics=['accuracy']) \n",
        "\n",
        "# Model Summary\n",
        "Xception_model.summary()"
      ]
    },
    {
      "cell_type": "code",
      "execution_count": 12,
      "metadata": {
        "colab": {
          "base_uri": "https://localhost:8080/"
        },
        "id": "6coN3TKhU2TI",
        "outputId": "13f89d2b-f5d0-4bf6-edd8-0bd9948e7b21",
        "tags": []
      },
      "outputs": [
        {
          "output_type": "stream",
          "name": "stdout",
          "text": [
            "Epoch 1/100\n",
            "179/179 [==============================] - ETA: 0s - loss: 0.1733 - accuracy: 0.9543\n",
            "Epoch 1: val_accuracy improved from -inf to 0.48373, saving model to Peach_Xception_model1_Based_Augmented\n"
          ]
        },
        {
          "output_type": "stream",
          "name": "stderr",
          "text": [
            "WARNING:absl:Found untraced functions such as _jit_compiled_convolution_op, _jit_compiled_convolution_op, _jit_compiled_convolution_op, _jit_compiled_convolution_op, _jit_compiled_convolution_op while saving (showing 5 of 40). These functions will not be directly callable after loading.\n"
          ]
        },
        {
          "output_type": "stream",
          "name": "stdout",
          "text": [
            "\b\b\b\b\b\b\b\b\b\b\b\b\b\b\b\b\b\b\b\b\b\b\b\b\b\b\b\b\b\b\b\b\b\b\b\b\b\b\b\b\b\b\b\b\b\b\b\b\b\b\b\b\b\b\b\b\b\b\b\b\b\b\b\b\b\b\b\b\b\b\b\b\b\b\b\b\b\b\b\b\b\b\b\b\r179/179 [==============================] - 141s 524ms/step - loss: 0.1733 - accuracy: 0.9543 - val_loss: 25.6498 - val_accuracy: 0.4837 - lr: 0.0010\n",
            "Epoch 2/100\n",
            "179/179 [==============================] - ETA: 0s - loss: 0.0262 - accuracy: 0.9938\n",
            "Epoch 2: val_accuracy improved from 0.48373 to 0.99888, saving model to Peach_Xception_model1_Based_Augmented\n"
          ]
        },
        {
          "output_type": "stream",
          "name": "stderr",
          "text": [
            "WARNING:absl:Found untraced functions such as _jit_compiled_convolution_op, _jit_compiled_convolution_op, _jit_compiled_convolution_op, _jit_compiled_convolution_op, _jit_compiled_convolution_op while saving (showing 5 of 40). These functions will not be directly callable after loading.\n"
          ]
        },
        {
          "output_type": "stream",
          "name": "stdout",
          "text": [
            "\b\b\b\b\b\b\b\b\b\b\b\b\b\b\b\b\b\b\b\b\b\b\b\b\b\b\b\b\b\b\b\b\b\b\b\b\b\b\b\b\b\b\b\b\b\b\b\b\b\b\b\b\b\b\b\b\b\b\b\b\b\b\b\b\b\b\b\b\b\b\b\b\b\b\b\b\b\b\b\b\b\b\b\b\r179/179 [==============================] - 93s 518ms/step - loss: 0.0262 - accuracy: 0.9938 - val_loss: 0.0063 - val_accuracy: 0.9989 - lr: 0.0010\n",
            "Epoch 3/100\n",
            "179/179 [==============================] - ETA: 0s - loss: 0.0288 - accuracy: 0.9924\n",
            "Epoch 3: val_accuracy did not improve from 0.99888\n",
            "179/179 [==============================] - 67s 371ms/step - loss: 0.0288 - accuracy: 0.9924 - val_loss: 0.0026 - val_accuracy: 0.9978 - lr: 0.0010\n",
            "Epoch 4/100\n",
            "179/179 [==============================] - ETA: 0s - loss: 0.0297 - accuracy: 0.9919\n",
            "Epoch 4: val_accuracy did not improve from 0.99888\n",
            "179/179 [==============================] - 68s 380ms/step - loss: 0.0297 - accuracy: 0.9919 - val_loss: 0.0058 - val_accuracy: 0.9978 - lr: 0.0010\n",
            "Epoch 5/100\n",
            "179/179 [==============================] - ETA: 0s - loss: 0.0074 - accuracy: 0.9975\n",
            "Epoch 5: val_accuracy improved from 0.99888 to 1.00000, saving model to Peach_Xception_model1_Based_Augmented\n"
          ]
        },
        {
          "output_type": "stream",
          "name": "stderr",
          "text": [
            "WARNING:absl:Found untraced functions such as _jit_compiled_convolution_op, _jit_compiled_convolution_op, _jit_compiled_convolution_op, _jit_compiled_convolution_op, _jit_compiled_convolution_op while saving (showing 5 of 40). These functions will not be directly callable after loading.\n"
          ]
        },
        {
          "output_type": "stream",
          "name": "stdout",
          "text": [
            "\b\b\b\b\b\b\b\b\b\b\b\b\b\b\b\b\b\b\b\b\b\b\b\b\b\b\b\b\b\b\b\b\b\b\b\b\b\b\b\b\b\b\b\b\b\b\b\b\b\b\b\b\b\b\b\b\b\b\b\b\b\b\b\b\b\b\b\b\b\b\b\b\b\b\b\b\b\b\b\b\b\b\b\b\r179/179 [==============================] - 92s 516ms/step - loss: 0.0074 - accuracy: 0.9975 - val_loss: 0.0022 - val_accuracy: 1.0000 - lr: 0.0010\n",
            "Epoch 6/100\n",
            "179/179 [==============================] - ETA: 0s - loss: 0.0272 - accuracy: 0.9910\n",
            "Epoch 6: val_accuracy did not improve from 1.00000\n",
            "179/179 [==============================] - 67s 371ms/step - loss: 0.0272 - accuracy: 0.9910 - val_loss: 0.0320 - val_accuracy: 0.9955 - lr: 0.0010\n",
            "Epoch 7/100\n",
            "179/179 [==============================] - ETA: 0s - loss: 0.0214 - accuracy: 0.9936\n",
            "Epoch 7: val_accuracy did not improve from 1.00000\n",
            "179/179 [==============================] - 66s 368ms/step - loss: 0.0214 - accuracy: 0.9936 - val_loss: 0.0122 - val_accuracy: 0.9944 - lr: 0.0010\n",
            "Epoch 8/100\n",
            "179/179 [==============================] - ETA: 0s - loss: 0.0146 - accuracy: 0.9983\n",
            "Epoch 8: val_accuracy did not improve from 1.00000\n",
            "179/179 [==============================] - 70s 392ms/step - loss: 0.0146 - accuracy: 0.9983 - val_loss: 6.4894e-04 - val_accuracy: 1.0000 - lr: 0.0010\n",
            "Epoch 9/100\n",
            "179/179 [==============================] - ETA: 0s - loss: 0.0013 - accuracy: 0.9997\n",
            "Epoch 9: val_accuracy did not improve from 1.00000\n",
            "179/179 [==============================] - 66s 368ms/step - loss: 0.0013 - accuracy: 0.9997 - val_loss: 1.4519e-04 - val_accuracy: 1.0000 - lr: 0.0010\n",
            "Epoch 10/100\n",
            "179/179 [==============================] - ETA: 0s - loss: 0.0055 - accuracy: 0.9980\n",
            "Epoch 10: val_accuracy did not improve from 1.00000\n",
            "179/179 [==============================] - 66s 366ms/step - loss: 0.0055 - accuracy: 0.9980 - val_loss: 0.0015 - val_accuracy: 0.9989 - lr: 0.0010\n",
            "Epoch 11/100\n",
            "179/179 [==============================] - ETA: 0s - loss: 0.0157 - accuracy: 0.9952\n",
            "Epoch 11: val_accuracy did not improve from 1.00000\n",
            "179/179 [==============================] - 67s 374ms/step - loss: 0.0157 - accuracy: 0.9952 - val_loss: 0.0030 - val_accuracy: 0.9989 - lr: 0.0010\n",
            "Epoch 12/100\n",
            "179/179 [==============================] - ETA: 0s - loss: 0.0100 - accuracy: 0.9969\n",
            "Epoch 12: val_accuracy did not improve from 1.00000\n",
            "179/179 [==============================] - 66s 369ms/step - loss: 0.0100 - accuracy: 0.9969 - val_loss: 0.0012 - val_accuracy: 1.0000 - lr: 0.0010\n",
            "Epoch 13/100\n",
            "179/179 [==============================] - ETA: 0s - loss: 0.0106 - accuracy: 0.9966\n",
            "Epoch 13: val_accuracy did not improve from 1.00000\n",
            "179/179 [==============================] - 66s 369ms/step - loss: 0.0106 - accuracy: 0.9966 - val_loss: 0.0031 - val_accuracy: 0.9978 - lr: 0.0010\n",
            "Epoch 14/100\n",
            "179/179 [==============================] - ETA: 0s - loss: 0.0151 - accuracy: 0.9961\n",
            "Epoch 14: val_accuracy did not improve from 1.00000\n",
            "\n",
            "Epoch 14: ReduceLROnPlateau reducing learning rate to 0.00010000000474974513.\n",
            "179/179 [==============================] - 66s 368ms/step - loss: 0.0151 - accuracy: 0.9961 - val_loss: 0.0141 - val_accuracy: 0.9978 - lr: 0.0010\n",
            "Epoch 15/100\n",
            "179/179 [==============================] - ETA: 0s - loss: 0.0076 - accuracy: 0.9980\n",
            "Epoch 15: val_accuracy did not improve from 1.00000\n",
            "179/179 [==============================] - 66s 368ms/step - loss: 0.0076 - accuracy: 0.9980 - val_loss: 0.0037 - val_accuracy: 0.9989 - lr: 1.0000e-04\n",
            "Epoch 16/100\n",
            "179/179 [==============================] - ETA: 0s - loss: 0.0059 - accuracy: 0.9989\n",
            "Epoch 16: val_accuracy did not improve from 1.00000\n",
            "179/179 [==============================] - 66s 369ms/step - loss: 0.0059 - accuracy: 0.9989 - val_loss: 0.0021 - val_accuracy: 0.9989 - lr: 1.0000e-04\n",
            "Epoch 17/100\n",
            "179/179 [==============================] - ETA: 0s - loss: 0.0033 - accuracy: 0.9994\n",
            "Epoch 17: val_accuracy did not improve from 1.00000\n",
            "179/179 [==============================] - 66s 369ms/step - loss: 0.0033 - accuracy: 0.9994 - val_loss: 0.0014 - val_accuracy: 0.9989 - lr: 1.0000e-04\n",
            "Epoch 18/100\n",
            "179/179 [==============================] - ETA: 0s - loss: 0.0016 - accuracy: 0.9997\n",
            "Epoch 18: val_accuracy did not improve from 1.00000\n",
            "179/179 [==============================] - 66s 365ms/step - loss: 0.0016 - accuracy: 0.9997 - val_loss: 9.3740e-04 - val_accuracy: 1.0000 - lr: 1.0000e-04\n",
            "Epoch 19/100\n",
            "179/179 [==============================] - ETA: 0s - loss: 0.0016 - accuracy: 0.9994\n",
            "Epoch 19: val_accuracy did not improve from 1.00000\n",
            "\n",
            "Epoch 19: ReduceLROnPlateau reducing learning rate to 1.0000000474974514e-05.\n",
            "179/179 [==============================] - 67s 375ms/step - loss: 0.0016 - accuracy: 0.9994 - val_loss: 0.0011 - val_accuracy: 1.0000 - lr: 1.0000e-04\n",
            "Epoch 20/100\n",
            "179/179 [==============================] - ETA: 0s - loss: 0.0023 - accuracy: 0.9994\n",
            "Epoch 20: val_accuracy did not improve from 1.00000\n",
            "179/179 [==============================] - 66s 368ms/step - loss: 0.0023 - accuracy: 0.9994 - val_loss: 0.0014 - val_accuracy: 0.9989 - lr: 1.0000e-05\n",
            "Epoch 21/100\n",
            "179/179 [==============================] - ETA: 0s - loss: 8.3920e-04 - accuracy: 0.9997\n",
            "Epoch 21: val_accuracy did not improve from 1.00000\n",
            "179/179 [==============================] - 66s 368ms/step - loss: 8.3920e-04 - accuracy: 0.9997 - val_loss: 0.0011 - val_accuracy: 1.0000 - lr: 1.0000e-05\n",
            "Epoch 22/100\n",
            "179/179 [==============================] - ETA: 0s - loss: 8.1824e-04 - accuracy: 0.9997\n",
            "Epoch 22: val_accuracy did not improve from 1.00000\n",
            "179/179 [==============================] - 67s 375ms/step - loss: 8.1824e-04 - accuracy: 0.9997 - val_loss: 6.6902e-04 - val_accuracy: 1.0000 - lr: 1.0000e-05\n",
            "Epoch 23/100\n",
            "179/179 [==============================] - ETA: 0s - loss: 9.2685e-04 - accuracy: 0.9994\n",
            "Epoch 23: val_accuracy did not improve from 1.00000\n",
            "179/179 [==============================] - 68s 379ms/step - loss: 9.2685e-04 - accuracy: 0.9994 - val_loss: 7.9486e-04 - val_accuracy: 1.0000 - lr: 1.0000e-05\n",
            "Epoch 24/100\n",
            "179/179 [==============================] - ETA: 0s - loss: 0.0011 - accuracy: 0.9997\n",
            "Epoch 24: val_accuracy did not improve from 1.00000\n",
            "\n",
            "Epoch 24: ReduceLROnPlateau reducing learning rate to 1.0000000656873453e-06.\n",
            "179/179 [==============================] - 67s 373ms/step - loss: 0.0011 - accuracy: 0.9997 - val_loss: 7.4457e-04 - val_accuracy: 1.0000 - lr: 1.0000e-05\n",
            "Epoch 25/100\n",
            "179/179 [==============================] - ETA: 0s - loss: 0.0013 - accuracy: 0.9994\n",
            "Epoch 25: val_accuracy did not improve from 1.00000\n",
            "Restoring model weights from the end of the best epoch: 5.\n",
            "179/179 [==============================] - 66s 370ms/step - loss: 0.0013 - accuracy: 0.9994 - val_loss: 7.4138e-04 - val_accuracy: 1.0000 - lr: 1.0000e-06\n",
            "Epoch 25: early stopping\n"
          ]
        }
      ],
      "source": [
        "# Define the number of epochs\n",
        "num_epochs = 100\n",
        "\n",
        "# Train the model\n",
        "history_Xception_model_1 = Xception_model.fit(train_generator, epochs=num_epochs, validation_data=validation_generator, callbacks=callbacks)"
      ]
    },
    {
      "cell_type": "code",
      "execution_count": 13,
      "metadata": {
        "colab": {
          "base_uri": "https://localhost:8080/",
          "height": 904
        },
        "id": "lvS9xz3LU2TI",
        "outputId": "e1731e8a-2871-462d-82a8-857469077e42",
        "tags": []
      },
      "outputs": [
        {
          "output_type": "execute_result",
          "data": {
            "text/plain": [
              "<matplotlib.legend.Legend at 0x7fb6dcefbfa0>"
            ]
          },
          "metadata": {},
          "execution_count": 13
        },
        {
          "output_type": "display_data",
          "data": {
            "text/plain": [
              "<Figure size 640x480 with 1 Axes>"
            ],
            "image/png": "[encoded data removed]"
          },
          "metadata": {}
        },
        {
          "output_type": "display_data",
          "data": {
            "text/plain": [
              "<Figure size 640x480 with 1 Axes>"
            ],
            "image/png": "[encoded data removed]"
          },
          "metadata": {}
        }
      ],
      "source": [
        "#-----------------------------------------------------------\n",
        "# Retrieve a list of list results on training and test data\n",
        "# sets for each training epoch\n",
        "#-----------------------------------------------------------\n",
        "acc      = history_Xception_model_1.history['accuracy' ]\n",
        "val_acc  = history_Xception_model_1.history['val_accuracy' ]\n",
        "loss     = history_Xception_model_1.history['loss' ]\n",
        "val_loss = history_Xception_model_1.history['val_loss' ]\n",
        "\n",
        "epochs   = range(len(acc)) # Get number of epochs\n",
        "\n",
        "#------------------------------------------------\n",
        "# Plot training and validation accuracy per epoch\n",
        "#------------------------------------------------\n",
        "plt.plot  (epochs, acc )\n",
        "plt.plot  (epochs, val_acc )\n",
        "plt.title ('Training and validation accuracy Xception Model Augmented')\n",
        "plt.legend(['train', 'val'], loc='upper left')\n",
        "plt.figure()\n",
        "\n",
        "#------------------------------------------------\n",
        "# Plot training and validation loss per epoch\n",
        "#------------------------------------------------\n",
        "plt.plot  (epochs, loss)\n",
        "plt.plot  (epochs, val_loss)\n",
        "plt.title ('Training and validation loss Xception Model Augmented')\n",
        "plt.legend(['train', 'val'], loc='upper left')"
      ]
    },
    {
      "cell_type": "markdown",
      "metadata": {
        "id": "SvQOR9IuU2TJ"
      },
      "source": [
        "## Xception Model 2"
      ]
    },
    {
      "cell_type": "code",
      "execution_count": 14,
      "metadata": {
        "id": "Tj7lcdvUU2TJ",
        "tags": []
      },
      "outputs": [],
      "source": [
        "# Difine the callbacks\n",
        "# Save the best model\n",
        "checkpoint_callback = ModelCheckpoint(filepath=\"Peach_Xception_model2_Based_Augmented\", save_best_only=True, monitor=\"val_accuracy\", mode=\"max\", verbose=1)\n",
        "\n",
        "# Early stopping\n",
        "early_stopping_callback = EarlyStopping(monitor=\"val_accuracy\", mode=\"max\", patience=20, verbose=1, restore_best_weights=True)\n",
        "\n",
        "# Reduce learning rate\n",
        "reduce_lr_callback = ReduceLROnPlateau(monitor=\"val_loss\", factor=0.1, patience=5, verbose=1, mode=\"min\", min_delta=0.0001, cooldown=0, min_lr=0)\n",
        "\n",
        "# Callbacks list\n",
        "callbacks=[checkpoint_callback, early_stopping_callback, reduce_lr_callback]"
      ]
    },
    {
      "cell_type": "code",
      "execution_count": 15,
      "metadata": {
        "colab": {
          "base_uri": "https://localhost:8080/"
        },
        "id": "7NKPY1xGU2TJ",
        "outputId": "396c5445-5f2e-4440-bdaa-6171fafbc70f",
        "tags": []
      },
      "outputs": [
        {
          "output_type": "stream",
          "name": "stdout",
          "text": [
            "Model: \"sequential_1\"\n",
            "_________________________________________________________________\n",
            " Layer (type)                Output Shape              Param #   \n",
            "=================================================================\n",
            " xception (Functional)       (None, 7, 7, 2048)        20861480  \n",
            "                                                                 \n",
            " global_average_pooling2d (G  (None, 2048)             0         \n",
            " lobalAveragePooling2D)                                          \n",
            "                                                                 \n",
            " dropout_1 (Dropout)         (None, 2048)              0         \n",
            "                                                                 \n",
            " dense_2 (Dense)             (None, 256)               524544    \n",
            "                                                                 \n",
            " dense_3 (Dense)             (None, 2)                 514       \n",
            "                                                                 \n",
            "=================================================================\n",
            "Total params: 21,386,538\n",
            "Trainable params: 21,332,010\n",
            "Non-trainable params: 54,528\n",
            "_________________________________________________________________\n"
          ]
        }
      ],
      "source": [
        "# Define Model\n",
        "Xception_model_2 = tf.keras.models.Sequential([\n",
        "    # Xception Layer\n",
        "    Xception(include_top=False,weights='imagenet',input_shape=(224, 224, 3)),\n",
        "    # Global Average Pooling Layer\n",
        "    tf.keras.layers.GlobalAveragePooling2D(),\n",
        "    # Drop Out Layer\n",
        "    tf.keras.layers.Dropout(0.2),\n",
        "    # 256 neuron hidden layer\n",
        "    tf.keras.layers.Dense(256, activation='relu'),\n",
        "    # Output\n",
        "    tf.keras.layers.Dense(2, activation='softmax') \n",
        "  ])\n",
        "\n",
        "\n",
        "# Compile Model\n",
        "Xception_model_2.compile(loss='categorical_crossentropy',optimizer=tf.keras.optimizers.Adam(), metrics=['accuracy']) \n",
        "\n",
        "# Model Summary\n",
        "Xception_model_2.summary()"
      ]
    },
    {
      "cell_type": "code",
      "execution_count": 16,
      "metadata": {
        "colab": {
          "base_uri": "https://localhost:8080/"
        },
        "id": "6beuexC9U2TJ",
        "outputId": "4f3c7b66-0fad-4736-8a25-8c65d1487768",
        "tags": []
      },
      "outputs": [
        {
          "output_type": "stream",
          "name": "stdout",
          "text": [
            "Epoch 1/100\n",
            "179/179 [==============================] - ETA: 0s - loss: 0.2527 - accuracy: 0.8654\n",
            "Epoch 1: val_accuracy improved from -inf to 0.41526, saving model to Peach_Xception_model2_Based_Augmented\n"
          ]
        },
        {
          "output_type": "stream",
          "name": "stderr",
          "text": [
            "WARNING:absl:Found untraced functions such as _jit_compiled_convolution_op, _jit_compiled_convolution_op, _jit_compiled_convolution_op, _jit_compiled_convolution_op, _jit_compiled_convolution_op while saving (showing 5 of 40). These functions will not be directly callable after loading.\n"
          ]
        },
        {
          "output_type": "stream",
          "name": "stdout",
          "text": [
            "\b\b\b\b\b\b\b\b\b\b\b\b\b\b\b\b\b\b\b\b\b\b\b\b\b\b\b\b\b\b\b\b\b\b\b\b\b\b\b\b\b\b\b\b\b\b\b\b\b\b\b\b\b\b\b\b\b\b\b\b\b\b\b\b\b\b\b\b\b\b\b\b\b\b\b\b\b\b\b\b\b\b\b\b\r179/179 [==============================] - 123s 531ms/step - loss: 0.2527 - accuracy: 0.8654 - val_loss: 187.0280 - val_accuracy: 0.4153 - lr: 0.0010\n",
            "Epoch 2/100\n",
            "179/179 [==============================] - ETA: 0s - loss: 0.0747 - accuracy: 0.9767\n",
            "Epoch 2: val_accuracy improved from 0.41526 to 0.98092, saving model to Peach_Xception_model2_Based_Augmented\n"
          ]
        },
        {
          "output_type": "stream",
          "name": "stderr",
          "text": [
            "WARNING:absl:Found untraced functions such as _jit_compiled_convolution_op, _jit_compiled_convolution_op, _jit_compiled_convolution_op, _jit_compiled_convolution_op, _jit_compiled_convolution_op while saving (showing 5 of 40). These functions will not be directly callable after loading.\n"
          ]
        },
        {
          "output_type": "stream",
          "name": "stdout",
          "text": [
            "\b\b\b\b\b\b\b\b\b\b\b\b\b\b\b\b\b\b\b\b\b\b\b\b\b\b\b\b\b\b\b\b\b\b\b\b\b\b\b\b\b\b\b\b\b\b\b\b\b\b\b\b\b\b\b\b\b\b\b\b\b\b\b\b\b\b\b\b\b\b\b\b\b\b\b\b\b\b\b\b\b\b\b\b\r179/179 [==============================] - 93s 521ms/step - loss: 0.0747 - accuracy: 0.9767 - val_loss: 0.2217 - val_accuracy: 0.9809 - lr: 0.0010\n",
            "Epoch 3/100\n",
            "179/179 [==============================] - ETA: 0s - loss: 0.0159 - accuracy: 0.9944\n",
            "Epoch 3: val_accuracy improved from 0.98092 to 0.99439, saving model to Peach_Xception_model2_Based_Augmented\n"
          ]
        },
        {
          "output_type": "stream",
          "name": "stderr",
          "text": [
            "WARNING:absl:Found untraced functions such as _jit_compiled_convolution_op, _jit_compiled_convolution_op, _jit_compiled_convolution_op, _jit_compiled_convolution_op, _jit_compiled_convolution_op while saving (showing 5 of 40). These functions will not be directly callable after loading.\n"
          ]
        },
        {
          "output_type": "stream",
          "name": "stdout",
          "text": [
            "\b\b\b\b\b\b\b\b\b\b\b\b\b\b\b\b\b\b\b\b\b\b\b\b\b\b\b\b\b\b\b\b\b\b\b\b\b\b\b\b\b\b\b\b\b\b\b\b\b\b\b\b\b\b\b\b\b\b\b\b\b\b\b\b\b\b\b\b\b\b\b\b\b\b\b\b\b\b\b\b\b\b\b\b\r179/179 [==============================] - 94s 525ms/step - loss: 0.0159 - accuracy: 0.9944 - val_loss: 0.0246 - val_accuracy: 0.9944 - lr: 0.0010\n",
            "Epoch 4/100\n",
            "179/179 [==============================] - ETA: 0s - loss: 0.0177 - accuracy: 0.9936\n",
            "Epoch 4: val_accuracy improved from 0.99439 to 0.99663, saving model to Peach_Xception_model2_Based_Augmented\n"
          ]
        },
        {
          "output_type": "stream",
          "name": "stderr",
          "text": [
            "WARNING:absl:Found untraced functions such as _jit_compiled_convolution_op, _jit_compiled_convolution_op, _jit_compiled_convolution_op, _jit_compiled_convolution_op, _jit_compiled_convolution_op while saving (showing 5 of 40). These functions will not be directly callable after loading.\n"
          ]
        },
        {
          "output_type": "stream",
          "name": "stdout",
          "text": [
            "\b\b\b\b\b\b\b\b\b\b\b\b\b\b\b\b\b\b\b\b\b\b\b\b\b\b\b\b\b\b\b\b\b\b\b\b\b\b\b\b\b\b\b\b\b\b\b\b\b\b\b\b\b\b\b\b\b\b\b\b\b\b\b\b\b\b\b\b\b\b\b\b\b\b\b\b\b\b\b\b\b\b\b\b\r179/179 [==============================] - 90s 505ms/step - loss: 0.0177 - accuracy: 0.9936 - val_loss: 0.0092 - val_accuracy: 0.9966 - lr: 0.0010\n",
            "Epoch 5/100\n",
            "179/179 [==============================] - ETA: 0s - loss: 0.0277 - accuracy: 0.9902\n",
            "Epoch 5: val_accuracy improved from 0.99663 to 0.99776, saving model to Peach_Xception_model2_Based_Augmented\n"
          ]
        },
        {
          "output_type": "stream",
          "name": "stderr",
          "text": [
            "WARNING:absl:Found untraced functions such as _jit_compiled_convolution_op, _jit_compiled_convolution_op, _jit_compiled_convolution_op, _jit_compiled_convolution_op, _jit_compiled_convolution_op while saving (showing 5 of 40). These functions will not be directly callable after loading.\n"
          ]
        },
        {
          "output_type": "stream",
          "name": "stdout",
          "text": [
            "\b\b\b\b\b\b\b\b\b\b\b\b\b\b\b\b\b\b\b\b\b\b\b\b\b\b\b\b\b\b\b\b\b\b\b\b\b\b\b\b\b\b\b\b\b\b\b\b\b\b\b\b\b\b\b\b\b\b\b\b\b\b\b\b\b\b\b\b\b\b\b\b\b\b\b\b\b\b\b\b\b\b\b\b\r179/179 [==============================] - 90s 503ms/step - loss: 0.0277 - accuracy: 0.9902 - val_loss: 0.0062 - val_accuracy: 0.9978 - lr: 0.0010\n",
            "Epoch 6/100\n",
            "179/179 [==============================] - ETA: 0s - loss: 0.0131 - accuracy: 0.9947\n",
            "Epoch 6: val_accuracy did not improve from 0.99776\n",
            "179/179 [==============================] - 66s 370ms/step - loss: 0.0131 - accuracy: 0.9947 - val_loss: 0.0065 - val_accuracy: 0.9978 - lr: 0.0010\n",
            "Epoch 7/100\n",
            "179/179 [==============================] - ETA: 0s - loss: 0.0131 - accuracy: 0.9964\n",
            "Epoch 7: val_accuracy improved from 0.99776 to 1.00000, saving model to Peach_Xception_model2_Based_Augmented\n"
          ]
        },
        {
          "output_type": "stream",
          "name": "stderr",
          "text": [
            "WARNING:absl:Found untraced functions such as _jit_compiled_convolution_op, _jit_compiled_convolution_op, _jit_compiled_convolution_op, _jit_compiled_convolution_op, _jit_compiled_convolution_op while saving (showing 5 of 40). These functions will not be directly callable after loading.\n"
          ]
        },
        {
          "output_type": "stream",
          "name": "stdout",
          "text": [
            "\b\b\b\b\b\b\b\b\b\b\b\b\b\b\b\b\b\b\b\b\b\b\b\b\b\b\b\b\b\b\b\b\b\b\b\b\b\b\b\b\b\b\b\b\b\b\b\b\b\b\b\b\b\b\b\b\b\b\b\b\b\b\b\b\b\b\b\b\b\b\b\b\b\b\b\b\b\b\b\b\b\b\b\b\r179/179 [==============================] - 90s 505ms/step - loss: 0.0131 - accuracy: 0.9964 - val_loss: 0.0030 - val_accuracy: 1.0000 - lr: 0.0010\n",
            "Epoch 8/100\n",
            "179/179 [==============================] - ETA: 0s - loss: 0.0196 - accuracy: 0.9944\n",
            "Epoch 8: val_accuracy did not improve from 1.00000\n",
            "179/179 [==============================] - 67s 371ms/step - loss: 0.0196 - accuracy: 0.9944 - val_loss: 0.7191 - val_accuracy: 0.7778 - lr: 0.0010\n",
            "Epoch 9/100\n",
            "179/179 [==============================] - ETA: 0s - loss: 0.0214 - accuracy: 0.9938\n",
            "Epoch 9: val_accuracy did not improve from 1.00000\n",
            "179/179 [==============================] - 68s 379ms/step - loss: 0.0214 - accuracy: 0.9938 - val_loss: 0.0091 - val_accuracy: 0.9955 - lr: 0.0010\n",
            "Epoch 10/100\n",
            "179/179 [==============================] - ETA: 0s - loss: 0.0144 - accuracy: 0.9958\n",
            "Epoch 10: val_accuracy did not improve from 1.00000\n",
            "179/179 [==============================] - 66s 368ms/step - loss: 0.0144 - accuracy: 0.9958 - val_loss: 3.6922 - val_accuracy: 0.7486 - lr: 0.0010\n",
            "Epoch 11/100\n",
            "179/179 [==============================] - ETA: 0s - loss: 0.0227 - accuracy: 0.9936\n",
            "Epoch 11: val_accuracy did not improve from 1.00000\n",
            "179/179 [==============================] - 66s 366ms/step - loss: 0.0227 - accuracy: 0.9936 - val_loss: 0.0243 - val_accuracy: 0.9989 - lr: 0.0010\n",
            "Epoch 12/100\n",
            "179/179 [==============================] - ETA: 0s - loss: 0.0088 - accuracy: 0.9964\n",
            "Epoch 12: val_accuracy did not improve from 1.00000\n",
            "\n",
            "Epoch 12: ReduceLROnPlateau reducing learning rate to 0.00010000000474974513.\n",
            "179/179 [==============================] - 66s 367ms/step - loss: 0.0088 - accuracy: 0.9964 - val_loss: 0.0486 - val_accuracy: 0.9921 - lr: 0.0010\n",
            "Epoch 13/100\n",
            "179/179 [==============================] - ETA: 0s - loss: 0.0071 - accuracy: 0.9978\n",
            "Epoch 13: val_accuracy did not improve from 1.00000\n",
            "179/179 [==============================] - 66s 369ms/step - loss: 0.0071 - accuracy: 0.9978 - val_loss: 0.0014 - val_accuracy: 1.0000 - lr: 1.0000e-04\n",
            "Epoch 14/100\n",
            "179/179 [==============================] - ETA: 0s - loss: 0.0045 - accuracy: 0.9980\n",
            "Epoch 14: val_accuracy did not improve from 1.00000\n",
            "179/179 [==============================] - 67s 375ms/step - loss: 0.0045 - accuracy: 0.9980 - val_loss: 0.0048 - val_accuracy: 0.9978 - lr: 1.0000e-04\n",
            "Epoch 15/100\n",
            "179/179 [==============================] - ETA: 0s - loss: 0.0046 - accuracy: 0.9978\n",
            "Epoch 15: val_accuracy did not improve from 1.00000\n",
            "179/179 [==============================] - 66s 367ms/step - loss: 0.0046 - accuracy: 0.9978 - val_loss: 0.0024 - val_accuracy: 0.9989 - lr: 1.0000e-04\n",
            "Epoch 16/100\n",
            "179/179 [==============================] - ETA: 0s - loss: 0.0030 - accuracy: 0.9992\n",
            "Epoch 16: val_accuracy did not improve from 1.00000\n",
            "179/179 [==============================] - 66s 367ms/step - loss: 0.0030 - accuracy: 0.9992 - val_loss: 0.0024 - val_accuracy: 0.9989 - lr: 1.0000e-04\n",
            "Epoch 17/100\n",
            "179/179 [==============================] - ETA: 0s - loss: 0.0029 - accuracy: 0.9994\n",
            "Epoch 17: val_accuracy did not improve from 1.00000\n",
            "179/179 [==============================] - 67s 375ms/step - loss: 0.0029 - accuracy: 0.9994 - val_loss: 0.0016 - val_accuracy: 1.0000 - lr: 1.0000e-04\n",
            "Epoch 18/100\n",
            "179/179 [==============================] - ETA: 0s - loss: 0.0075 - accuracy: 0.9994\n",
            "Epoch 18: val_accuracy did not improve from 1.00000\n",
            "\n",
            "Epoch 18: ReduceLROnPlateau reducing learning rate to 1.0000000474974514e-05.\n",
            "179/179 [==============================] - 66s 366ms/step - loss: 0.0075 - accuracy: 0.9994 - val_loss: 0.0014 - val_accuracy: 1.0000 - lr: 1.0000e-04\n",
            "Epoch 19/100\n",
            "179/179 [==============================] - ETA: 0s - loss: 0.0070 - accuracy: 0.9992\n",
            "Epoch 19: val_accuracy did not improve from 1.00000\n",
            "179/179 [==============================] - 66s 366ms/step - loss: 0.0070 - accuracy: 0.9992 - val_loss: 0.0014 - val_accuracy: 1.0000 - lr: 1.0000e-05\n",
            "Epoch 20/100\n",
            "179/179 [==============================] - ETA: 0s - loss: 0.0022 - accuracy: 0.9992\n",
            "Epoch 20: val_accuracy did not improve from 1.00000\n",
            "179/179 [==============================] - 65s 364ms/step - loss: 0.0022 - accuracy: 0.9992 - val_loss: 0.0013 - val_accuracy: 1.0000 - lr: 1.0000e-05\n",
            "Epoch 21/100\n",
            "179/179 [==============================] - ETA: 0s - loss: 0.0010 - accuracy: 1.0000\n",
            "Epoch 21: val_accuracy did not improve from 1.00000\n",
            "179/179 [==============================] - 65s 362ms/step - loss: 0.0010 - accuracy: 1.0000 - val_loss: 0.0012 - val_accuracy: 1.0000 - lr: 1.0000e-05\n",
            "Epoch 22/100\n",
            "179/179 [==============================] - ETA: 0s - loss: 0.0027 - accuracy: 0.9989\n",
            "Epoch 22: val_accuracy did not improve from 1.00000\n",
            "179/179 [==============================] - 65s 362ms/step - loss: 0.0027 - accuracy: 0.9989 - val_loss: 0.0011 - val_accuracy: 1.0000 - lr: 1.0000e-05\n",
            "Epoch 23/100\n",
            "179/179 [==============================] - ETA: 0s - loss: 0.0014 - accuracy: 0.9997\n",
            "Epoch 23: val_accuracy did not improve from 1.00000\n",
            "179/179 [==============================] - 65s 364ms/step - loss: 0.0014 - accuracy: 0.9997 - val_loss: 0.0010 - val_accuracy: 1.0000 - lr: 1.0000e-05\n",
            "Epoch 24/100\n",
            "179/179 [==============================] - ETA: 0s - loss: 0.0014 - accuracy: 0.9994\n",
            "Epoch 24: val_accuracy did not improve from 1.00000\n",
            "179/179 [==============================] - 65s 362ms/step - loss: 0.0014 - accuracy: 0.9994 - val_loss: 0.0010 - val_accuracy: 1.0000 - lr: 1.0000e-05\n",
            "Epoch 25/100\n",
            "179/179 [==============================] - ETA: 0s - loss: 0.0015 - accuracy: 0.9994\n",
            "Epoch 25: val_accuracy did not improve from 1.00000\n",
            "179/179 [==============================] - 67s 373ms/step - loss: 0.0015 - accuracy: 0.9994 - val_loss: 0.0010 - val_accuracy: 1.0000 - lr: 1.0000e-05\n",
            "Epoch 26/100\n",
            "179/179 [==============================] - ETA: 0s - loss: 0.0023 - accuracy: 0.9994\n",
            "Epoch 26: val_accuracy did not improve from 1.00000\n",
            "179/179 [==============================] - 65s 364ms/step - loss: 0.0023 - accuracy: 0.9994 - val_loss: 9.5339e-04 - val_accuracy: 1.0000 - lr: 1.0000e-05\n",
            "Epoch 27/100\n",
            "179/179 [==============================] - ETA: 0s - loss: 0.0039 - accuracy: 0.9986\n",
            "Epoch 27: val_accuracy did not improve from 1.00000\n",
            "Restoring model weights from the end of the best epoch: 7.\n",
            "179/179 [==============================] - 66s 366ms/step - loss: 0.0039 - accuracy: 0.9986 - val_loss: 9.4007e-04 - val_accuracy: 1.0000 - lr: 1.0000e-05\n",
            "Epoch 27: early stopping\n"
          ]
        }
      ],
      "source": [
        "# Define the number of epochs\n",
        "num_epochs = 100\n",
        "\n",
        "# Train the model\n",
        "history_Xception_model_2 = Xception_model_2.fit(train_generator, epochs=num_epochs, validation_data=validation_generator, callbacks=callbacks)"
      ]
    },
    {
      "cell_type": "code",
      "execution_count": 17,
      "metadata": {
        "colab": {
          "base_uri": "https://localhost:8080/",
          "height": 904
        },
        "id": "3f1nmwUhU2TK",
        "outputId": "680795ef-4fb7-4503-8e5f-8e797715180e",
        "tags": []
      },
      "outputs": [
        {
          "output_type": "execute_result",
          "data": {
            "text/plain": [
              "<matplotlib.legend.Legend at 0x7fb634a6a9b0>"
            ]
          },
          "metadata": {},
          "execution_count": 17
        },
        {
          "output_type": "display_data",
          "data": {
            "text/plain": [
              "<Figure size 640x480 with 1 Axes>"
            ],
            "image/png": "[encoded data removed]"
          },
          "metadata": {}
        },
        {
          "output_type": "display_data",
          "data": {
            "text/plain": [
              "<Figure size 640x480 with 1 Axes>"
            ],
            "image/png": "[encoded data removed]"
          },
          "metadata": {}
        }
      ],
      "source": [
        "#-----------------------------------------------------------\n",
        "# Retrieve a list of list results on training and test data\n",
        "# sets for each training epoch\n",
        "#-----------------------------------------------------------\n",
        "acc      = history_Xception_model_2.history['accuracy' ]\n",
        "val_acc  = history_Xception_model_2.history['val_accuracy' ]\n",
        "loss     = history_Xception_model_2.history['loss' ]\n",
        "val_loss = history_Xception_model_2.history['val_loss' ]\n",
        "\n",
        "epochs   = range(len(acc)) # Get number of epochs\n",
        "\n",
        "#------------------------------------------------\n",
        "# Plot training and validation accuracy per epoch\n",
        "#------------------------------------------------\n",
        "plt.plot  (epochs, acc )\n",
        "plt.plot  (epochs, val_acc )\n",
        "plt.title ('Training and validation accuracy Xception Model 2 Augmented')\n",
        "plt.legend(['train', 'val'], loc='upper left')\n",
        "plt.figure()\n",
        "\n",
        "#------------------------------------------------\n",
        "# Plot training and validation loss per epoch\n",
        "#------------------------------------------------\n",
        "plt.plot  (epochs, loss)\n",
        "plt.plot  (epochs, val_loss)\n",
        "plt.title ('Training and validation loss Xception Model 2 Augmented')\n",
        "plt.legend(['train', 'val'], loc='upper left')"
      ]
    },
    {
      "cell_type": "markdown",
      "metadata": {
        "id": "eNpM76pKIGId"
      },
      "source": [
        "# Download Model"
      ]
    },
    {
      "cell_type": "code",
      "source": [
        "!zip -r /content/Peach_Xception_model1_Based_Augmented.zip /content/Peach_Xception_model1_Based_Augmented"
      ],
      "metadata": {
        "colab": {
          "base_uri": "https://localhost:8080/"
        },
        "id": "0erpefcodsZq",
        "outputId": "fec4017d-16af-43dd-dfc9-075195f0252f"
      },
      "execution_count": 21,
      "outputs": [
        {
          "output_type": "stream",
          "name": "stdout",
          "text": [
            "  adding: content/Peach_Xception_model1_Based_Augmented/ (stored 0%)\n",
            "  adding: content/Peach_Xception_model1_Based_Augmented/saved_model.pb (deflated 92%)\n",
            "  adding: content/Peach_Xception_model1_Based_Augmented/fingerprint.pb (stored 0%)\n",
            "  adding: content/Peach_Xception_model1_Based_Augmented/assets/ (stored 0%)\n",
            "  adding: content/Peach_Xception_model1_Based_Augmented/keras_metadata.pb (deflated 96%)\n",
            "  adding: content/Peach_Xception_model1_Based_Augmented/variables/ (stored 0%)\n",
            "  adding: content/Peach_Xception_model1_Based_Augmented/variables/variables.data-00000-of-00001 (deflated 7%)\n",
            "  adding: content/Peach_Xception_model1_Based_Augmented/variables/variables.index (deflated 77%)\n"
          ]
        }
      ]
    },
    {
      "cell_type": "code",
      "source": [
        "!zip -r /content/Peach_Xception_model2_Based_Augmented.zip /content/Peach_Xception_model2_Based_Augmented"
      ],
      "metadata": {
        "colab": {
          "base_uri": "https://localhost:8080/"
        },
        "id": "XF2BsbVUd0e2",
        "outputId": "6bee0c6f-e6b9-4261-9d29-325cec8c6102"
      },
      "execution_count": 22,
      "outputs": [
        {
          "output_type": "stream",
          "name": "stdout",
          "text": [
            "  adding: content/Peach_Xception_model2_Based_Augmented/ (stored 0%)\n",
            "  adding: content/Peach_Xception_model2_Based_Augmented/saved_model.pb (deflated 92%)\n",
            "  adding: content/Peach_Xception_model2_Based_Augmented/fingerprint.pb (stored 0%)\n",
            "  adding: content/Peach_Xception_model2_Based_Augmented/assets/ (stored 0%)\n",
            "  adding: content/Peach_Xception_model2_Based_Augmented/keras_metadata.pb (deflated 96%)\n",
            "  adding: content/Peach_Xception_model2_Based_Augmented/variables/ (stored 0%)\n",
            "  adding: content/Peach_Xception_model2_Based_Augmented/variables/variables.data-00000-of-00001 (deflated 7%)\n",
            "  adding: content/Peach_Xception_model2_Based_Augmented/variables/variables.index (deflated 77%)\n"
          ]
        }
      ]
    },
    {
      "cell_type": "code",
      "execution_count": null,
      "metadata": {
        "id": "EreJ9zofIGId"
      },
      "outputs": [],
      "source": [
        "from google.colab import files\n",
        "\n",
        "# Specify the file path\n",
        "file_path_1 = '/content/Peach_Xception_model1_Based_Augmented.zip'  \n",
        "file_path_2 = '/content/Peach_Xception_model2_Based_Augmented.zip'  \n",
        "\n",
        "# Download the file\n",
        "files.download(file_path_1)\n",
        "files.download(file_path_2)"
      ]
    }
  ],
  "metadata": {
    "accelerator": "GPU",
    "colab": {
      "gpuType": "T4",
      "provenance": []
    },
    "gpuClass": "standard",
    "kernelspec": {
      "display_name": "Python 3 (ipykernel)",
      "language": "python",
      "name": "python3"
    },
    "language_info": {
      "codemirror_mode": {
        "name": "ipython",
        "version": 3
      },
      "file_extension": ".py",
      "mimetype": "text/x-python",
      "name": "python",
      "nbconvert_exporter": "python",
      "pygments_lexer": "ipython3",
      "version": "3.8.10"
    }
  },
  "nbformat": 4,
  "nbformat_minor": 0
}