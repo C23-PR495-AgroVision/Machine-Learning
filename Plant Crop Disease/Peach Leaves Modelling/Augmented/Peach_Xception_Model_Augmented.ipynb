{
 "cells": [
  {
   "cell_type": "markdown",
   "metadata": {
    "id": "hO3kEcUPU2S3"
   },
   "source": [
    "# Library"
   ]
  },
  {
   "cell_type": "code",
   "execution_count": 1,
   "metadata": {
    "colab": {
     "base_uri": "https://localhost:8080/"
    },
    "id": "kczkUjsAU2S8",
    "outputId": "bc41afcc-5c3d-4b7e-d59c-4971a9da65ee",
    "tags": []
   },
   "outputs": [
    {
     "name": "stdout",
     "output_type": "stream",
     "text": [
      "Collecting matplotlib\n",
      "  Downloading matplotlib-3.7.1-cp38-cp38-manylinux_2_12_x86_64.manylinux2010_x86_64.whl (9.2 MB)\n",
      "\u001b[2K     \u001b[90m━━━━━━━━━━━━━━━━━━━━━━━━━━━━━━━━━━━━━━━━\u001b[0m \u001b[32m9.2/9.2 MB\u001b[0m \u001b[31m2.4 MB/s\u001b[0m eta \u001b[36m0:00:00\u001b[0m00:01\u001b[0m00:01\u001b[0m\n",
      "\u001b[?25hCollecting pyparsing>=2.3.1\n",
      "  Downloading pyparsing-3.0.9-py3-none-any.whl (98 kB)\n",
      "\u001b[2K     \u001b[90m━━━━━━━━━━━━━━━━━━━━━━━━━━━━━━━━━━━━━━━━\u001b[0m \u001b[32m98.3/98.3 kB\u001b[0m \u001b[31m2.2 MB/s\u001b[0m eta \u001b[36m0:00:00\u001b[0ma \u001b[36m0:00:01\u001b[0m\n",
      "\u001b[?25hCollecting pillow>=6.2.0\n",
      "  Downloading Pillow-9.5.0-cp38-cp38-manylinux_2_28_x86_64.whl (3.4 MB)\n",
      "\u001b[2K     \u001b[90m━━━━━━━━━━━━━━━━━━━━━━━━━━━━━━━━━━━━━━━━\u001b[0m \u001b[32m3.4/3.4 MB\u001b[0m \u001b[31m2.6 MB/s\u001b[0m eta \u001b[36m0:00:00\u001b[0m00:01\u001b[0m00:01\u001b[0mm\n",
      "\u001b[?25hCollecting cycler>=0.10\n",
      "  Downloading cycler-0.11.0-py3-none-any.whl (6.4 kB)\n",
      "Requirement already satisfied: numpy>=1.20 in /usr/local/lib/python3.8/dist-packages (from matplotlib) (1.23.5)\n",
      "Requirement already satisfied: importlib-resources>=3.2.0 in /usr/local/lib/python3.8/dist-packages (from matplotlib) (5.12.0)\n",
      "Collecting fonttools>=4.22.0\n",
      "  Downloading fonttools-4.39.4-py3-none-any.whl (1.0 MB)\n",
      "\u001b[2K     \u001b[90m━━━━━━━━━━━━━━━━━━━━━━━━━━━━━━━━━━━━━━━━\u001b[0m \u001b[32m1.0/1.0 MB\u001b[0m \u001b[31m4.0 MB/s\u001b[0m eta \u001b[36m0:00:00\u001b[0m00:01\u001b[0m00:01\u001b[0m\n",
      "\u001b[?25hCollecting contourpy>=1.0.1\n",
      "  Downloading contourpy-1.0.7-cp38-cp38-manylinux_2_17_x86_64.manylinux2014_x86_64.whl (300 kB)\n",
      "\u001b[2K     \u001b[90m━━━━━━━━━━━━━━━━━━━━━━━━━━━━━━━━━━━━━━━\u001b[0m \u001b[32m300.0/300.0 kB\u001b[0m \u001b[31m3.8 MB/s\u001b[0m eta \u001b[36m0:00:00\u001b[0m00:01\u001b[0m00:01\u001b[0m\n",
      "\u001b[?25hCollecting kiwisolver>=1.0.1\n",
      "  Downloading kiwisolver-1.4.4-cp38-cp38-manylinux_2_5_x86_64.manylinux1_x86_64.whl (1.2 MB)\n",
      "\u001b[2K     \u001b[90m━━━━━━━━━━━━━━━━━━━━━━━━━━━━━━━━━━━━━━━━\u001b[0m \u001b[32m1.2/1.2 MB\u001b[0m \u001b[31m3.6 MB/s\u001b[0m eta \u001b[36m0:00:00\u001b[0m00:01\u001b[0m00:01\u001b[0m\n",
      "\u001b[?25hRequirement already satisfied: packaging>=20.0 in /usr/local/lib/python3.8/dist-packages (from matplotlib) (23.0)\n",
      "Requirement already satisfied: python-dateutil>=2.7 in /usr/local/lib/python3.8/dist-packages (from matplotlib) (2.8.2)\n",
      "Requirement already satisfied: zipp>=3.1.0 in /usr/local/lib/python3.8/dist-packages (from importlib-resources>=3.2.0->matplotlib) (3.15.0)\n",
      "Requirement already satisfied: six>=1.5 in /usr/lib/python3/dist-packages (from python-dateutil>=2.7->matplotlib) (1.14.0)\n",
      "Installing collected packages: pyparsing, pillow, kiwisolver, fonttools, cycler, contourpy, matplotlib\n",
      "Successfully installed contourpy-1.0.7 cycler-0.11.0 fonttools-4.39.4 kiwisolver-1.4.4 matplotlib-3.7.1 pillow-9.5.0 pyparsing-3.0.9\n",
      "\u001b[33mWARNING: Running pip as the 'root' user can result in broken permissions and conflicting behaviour with the system package manager. It is recommended to use a virtual environment instead: https://pip.pypa.io/warnings/venv\u001b[0m\u001b[33m\n",
      "\u001b[0m\n",
      "\u001b[1m[\u001b[0m\u001b[34;49mnotice\u001b[0m\u001b[1;39;49m]\u001b[0m\u001b[39;49m A new release of pip is available: \u001b[0m\u001b[31;49m23.0.1\u001b[0m\u001b[39;49m -> \u001b[0m\u001b[32;49m23.1.2\u001b[0m\n",
      "\u001b[1m[\u001b[0m\u001b[34;49mnotice\u001b[0m\u001b[1;39;49m]\u001b[0m\u001b[39;49m To update, run: \u001b[0m\u001b[32;49mpython3 -m pip install --upgrade pip\u001b[0m\n",
      "Note: you may need to restart the kernel to use updated packages.\n"
     ]
    }
   ],
   "source": [
    "pip install matplotlib"
   ]
  },
  {
   "cell_type": "code",
   "execution_count": 2,
   "metadata": {
    "colab": {
     "base_uri": "https://localhost:8080/"
    },
    "id": "oEW3Nbu7U2S_",
    "outputId": "7a770f63-6064-4dd9-da81-e481414c3196",
    "tags": []
   },
   "outputs": [
    {
     "name": "stdout",
     "output_type": "stream",
     "text": [
      "Collecting opendatasets\n",
      "  Downloading opendatasets-0.1.22-py3-none-any.whl (15 kB)\n",
      "Collecting click\n",
      "  Downloading click-8.1.3-py3-none-any.whl (96 kB)\n",
      "\u001b[2K     \u001b[90m━━━━━━━━━━━━━━━━━━━━━━━━━━━━━━━━━━━━━━━━\u001b[0m \u001b[32m96.6/96.6 kB\u001b[0m \u001b[31m1.2 MB/s\u001b[0m eta \u001b[36m0:00:00\u001b[0ma \u001b[36m0:00:01\u001b[0m\n",
      "\u001b[?25hCollecting tqdm\n",
      "  Downloading tqdm-4.65.0-py3-none-any.whl (77 kB)\n",
      "\u001b[2K     \u001b[90m━━━━━━━━━━━━━━━━━━━━━━━━━━━━━━━━━━━━━━━━\u001b[0m \u001b[32m77.1/77.1 kB\u001b[0m \u001b[31m3.6 MB/s\u001b[0m eta \u001b[36m0:00:00\u001b[0m\n",
      "\u001b[?25hCollecting kaggle\n",
      "  Downloading kaggle-1.5.13.tar.gz (63 kB)\n",
      "\u001b[2K     \u001b[90m━━━━━━━━━━━━━━━━━━━━━━━━━━━━━━━━━━━━━━━━\u001b[0m \u001b[32m63.3/63.3 kB\u001b[0m \u001b[31m3.9 MB/s\u001b[0m eta \u001b[36m0:00:00\u001b[0m\n",
      "\u001b[?25h  Preparing metadata (setup.py) ... \u001b[?25ldone\n",
      "\u001b[?25hRequirement already satisfied: six>=1.10 in /usr/lib/python3/dist-packages (from kaggle->opendatasets) (1.14.0)\n",
      "Requirement already satisfied: certifi in /usr/lib/python3/dist-packages (from kaggle->opendatasets) (2019.11.28)\n",
      "Requirement already satisfied: python-dateutil in /usr/local/lib/python3.8/dist-packages (from kaggle->opendatasets) (2.8.2)\n",
      "Requirement already satisfied: requests in /usr/local/lib/python3.8/dist-packages (from kaggle->opendatasets) (2.31.0)\n",
      "Collecting python-slugify\n",
      "  Downloading python_slugify-8.0.1-py2.py3-none-any.whl (9.7 kB)\n",
      "Requirement already satisfied: urllib3 in /usr/lib/python3/dist-packages (from kaggle->opendatasets) (1.25.8)\n",
      "Collecting text-unidecode>=1.3\n",
      "  Downloading text_unidecode-1.3-py2.py3-none-any.whl (78 kB)\n",
      "\u001b[2K     \u001b[90m━━━━━━━━━━━━━━━━━━━━━━━━━━━━━━━━━━━━━━━━\u001b[0m \u001b[32m78.2/78.2 kB\u001b[0m \u001b[31m4.7 MB/s\u001b[0m eta \u001b[36m0:00:00\u001b[0m\n",
      "\u001b[?25hRequirement already satisfied: idna<4,>=2.5 in /usr/lib/python3/dist-packages (from requests->kaggle->opendatasets) (2.8)\n",
      "Requirement already satisfied: charset-normalizer<4,>=2 in /usr/local/lib/python3.8/dist-packages (from requests->kaggle->opendatasets) (3.1.0)\n",
      "Building wheels for collected packages: kaggle\n",
      "  Building wheel for kaggle (setup.py) ... \u001b[?25ldone\n",
      "\u001b[?25h  Created wheel for kaggle: filename=kaggle-1.5.13-py3-none-any.whl size=77717 sha256=3a51309282097f47384608e1af5693f3136bc329adbcbd69957560e67a7ff541\n",
      "  Stored in directory: /root/.cache/pip/wheels/e6/8e/67/e07554a720a493dc6b39b30488590ba92ed45448ad0134d253\n",
      "Successfully built kaggle\n",
      "Installing collected packages: text-unidecode, tqdm, python-slugify, click, kaggle, opendatasets\n",
      "Successfully installed click-8.1.3 kaggle-1.5.13 opendatasets-0.1.22 python-slugify-8.0.1 text-unidecode-1.3 tqdm-4.65.0\n",
      "\u001b[33mWARNING: Running pip as the 'root' user can result in broken permissions and conflicting behaviour with the system package manager. It is recommended to use a virtual environment instead: https://pip.pypa.io/warnings/venv\u001b[0m\u001b[33m\n",
      "\u001b[0m\n",
      "\u001b[1m[\u001b[0m\u001b[34;49mnotice\u001b[0m\u001b[1;39;49m]\u001b[0m\u001b[39;49m A new release of pip is available: \u001b[0m\u001b[31;49m23.0.1\u001b[0m\u001b[39;49m -> \u001b[0m\u001b[32;49m23.1.2\u001b[0m\n",
      "\u001b[1m[\u001b[0m\u001b[34;49mnotice\u001b[0m\u001b[1;39;49m]\u001b[0m\u001b[39;49m To update, run: \u001b[0m\u001b[32;49mpython3 -m pip install --upgrade pip\u001b[0m\n",
      "Note: you may need to restart the kernel to use updated packages.\n"
     ]
    }
   ],
   "source": [
    "pip install opendatasets"
   ]
  },
  {
   "cell_type": "code",
   "execution_count": 3,
   "metadata": {
    "id": "SIHHdOB4U2TA",
    "tags": []
   },
   "outputs": [],
   "source": [
    "# Library to dataset\n",
    "import opendatasets as od\n",
    "import os\n",
    "import zipfile\n",
    "import numpy as np\n",
    "\n",
    "# Surpress Warnings\n",
    "import warnings\n",
    "warnings.filterwarnings('ignore')\n",
    "os.environ['TF_CPP_MIN_LOG_LEVEL'] = '3' \n",
    "# library visualization\n",
    "import matplotlib.pyplot as plt\n",
    "\n",
    "# Library Tensorflow\n",
    "import tensorflow as tf\n",
    "from tensorflow import keras\n",
    "from tensorflow.keras.preprocessing.image import ImageDataGenerator\n",
    "from tensorflow.keras.callbacks import ModelCheckpoint, EarlyStopping, ReduceLROnPlateau\n",
    "from tensorflow.keras.applications.densenet import DenseNet121\n",
    "from tensorflow.keras.applications.xception import Xception\n",
    "\n",
    "# Others\n",
    "import shutil\n",
    "import random"
   ]
  },
  {
   "cell_type": "markdown",
   "metadata": {
    "id": "Dy8YkYoaU2TB"
   },
   "source": [
    "# Load dataset"
   ]
  },
  {
   "cell_type": "code",
   "execution_count": 4,
   "metadata": {
    "colab": {
     "base_uri": "https://localhost:8080/"
    },
    "id": "TWOf7hZ1U2TC",
    "outputId": "02e2adae-ad51-4f59-8075-bd0f1df0072b",
    "tags": []
   },
   "outputs": [
    {
     "name": "stdout",
     "output_type": "stream",
     "text": [
      "Please provide your Kaggle credentials to download this dataset. Learn more: http://bit.ly/kaggle-creds\n",
      "Your Kaggle username:"
     ]
    },
    {
     "name": "stdin",
     "output_type": "stream",
     "text": [
      "  ahmadhabibhasanzein\n"
     ]
    },
    {
     "name": "stdout",
     "output_type": "stream",
     "text": [
      "Your Kaggle Key:"
     ]
    },
    {
     "name": "stdin",
     "output_type": "stream",
     "text": [
      "  ········\n"
     ]
    },
    {
     "name": "stdout",
     "output_type": "stream",
     "text": [
      "Downloading peach-leaves.zip to ./peach-leaves\n"
     ]
    },
    {
     "name": "stderr",
     "output_type": "stream",
     "text": [
      "100%|██████████| 59.6M/59.6M [00:27<00:00, 2.26MB/s]\n"
     ]
    },
    {
     "name": "stdout",
     "output_type": "stream",
     "text": [
      "\n"
     ]
    }
   ],
   "source": [
    "# Download dataset\n",
    "od.download('https://www.kaggle.com/datasets/ahmadhabibhasanzein/peach-leaves')"
   ]
  },
  {
   "cell_type": "code",
   "execution_count": 5,
   "metadata": {
    "colab": {
     "base_uri": "https://localhost:8080/"
    },
    "id": "8ZAjREJ0U2TC",
    "outputId": "9a8d577b-e6a8-406b-f714-2eb34070d16c",
    "tags": []
   },
   "outputs": [
    {
     "name": "stdout",
     "output_type": "stream",
     "text": [
      "==========================Training Data====================\n",
      "Found 3566 files belonging to 2 classes.\n",
      "==========================Validation Data====================\n",
      "Found 891 files belonging to 2 classes.\n"
     ]
    }
   ],
   "source": [
    "# Load dataset\n",
    "print(\"==========================Training Data====================\")\n",
    "train_data = tf.keras.preprocessing.image_dataset_from_directory(\n",
    "    \"peach-leaves/Peach/train\",\n",
    "    label_mode=\"categorical\",\n",
    "    class_names=['Peach___Bacterial_spot','Peach___healthy'],\n",
    "    color_mode=\"rgb\",\n",
    "    batch_size=1,\n",
    "    image_size=(256, 256),\n",
    "    shuffle=True,\n",
    "    seed=123\n",
    ")\n",
    "print(\"==========================Validation Data====================\")\n",
    "val_data = tf.keras.preprocessing.image_dataset_from_directory(\n",
    "    \"peach-leaves/Peach/valid\",\n",
    "    label_mode=\"categorical\",\n",
    "    class_names=['Peach___Bacterial_spot','Peach___healthy'],\n",
    "    color_mode=\"rgb\",\n",
    "    batch_size=1,\n",
    "    image_size=(256, 256),\n",
    "    shuffle=True,\n",
    "    seed=123\n",
    ")"
   ]
  },
  {
   "cell_type": "code",
   "execution_count": 6,
   "metadata": {
    "colab": {
     "base_uri": "https://localhost:8080/"
    },
    "id": "vEPzd1egU2TD",
    "outputId": "6e302699-7cbb-4e7e-d3cc-040e7b29e401",
    "tags": []
   },
   "outputs": [
    {
     "name": "stdout",
     "output_type": "stream",
     "text": [
      "Found 3566 images belonging to 2 classes.\n",
      "Found 891 images belonging to 2 classes.\n"
     ]
    }
   ],
   "source": [
    "# All images will be rescaled by 1./255.\n",
    "train_datagen = ImageDataGenerator(rescale = 1.0/256.,\n",
    "                                   rotation_range=40,\n",
    "                                   width_shift_range=0.2,\n",
    "                                   height_shift_range=0.2,\n",
    "                                   shear_range=0.2,\n",
    "                                   zoom_range=0.2,\n",
    "                                   horizontal_flip=True,\n",
    "                                   fill_mode='nearest')\n",
    "test_datagen  = ImageDataGenerator(rescale = 1.0/256.)\n",
    "\n",
    "# --------------------\n",
    "# Flow training images in batches of 20 using train_datagen generator\n",
    "# --------------------\n",
    "train_generator = train_datagen.flow_from_directory(\"peach-leaves/Peach/train\",\n",
    "                                                    batch_size=20,\n",
    "                                                    class_mode='categorical',\n",
    "                                                    target_size=(224, 224))     \n",
    "# --------------------\n",
    "# Flow validation images in batches of 20 using test_datagen generator\n",
    "# --------------------\n",
    "validation_generator =  test_datagen.flow_from_directory(\"peach-leaves/Peach/valid\",\n",
    "                                                         batch_size=20,\n",
    "                                                         class_mode  = 'categorical',\n",
    "                                                         target_size = (224, 224))"
   ]
  },
  {
   "cell_type": "markdown",
   "metadata": {
    "id": "_3jaO5YgU2TE"
   },
   "source": [
    "# List Resource"
   ]
  },
  {
   "cell_type": "code",
   "execution_count": 7,
   "metadata": {
    "colab": {
     "base_uri": "https://localhost:8080/"
    },
    "id": "SGemCaxnU2TF",
    "outputId": "80e1cd74-1a83-4c48-8202-2be8c66bc8d5",
    "tags": []
   },
   "outputs": [
    {
     "name": "stdout",
     "output_type": "stream",
     "text": [
      "Sun Jun  4 07:57:45 2023       \n",
      "+-----------------------------------------------------------------------------+\n",
      "| NVIDIA-SMI 525.60.11    Driver Version: 525.60.11    CUDA Version: 12.0     |\n",
      "|-------------------------------+----------------------+----------------------+\n",
      "| GPU  Name        Persistence-M| Bus-Id        Disp.A | Volatile Uncorr. ECC |\n",
      "| Fan  Temp  Perf  Pwr:Usage/Cap|         Memory-Usage | GPU-Util  Compute M. |\n",
      "|                               |                      |               MIG M. |\n",
      "|===============================+======================+======================|\n",
      "|   0  NVIDIA GeForce ...  On   | 00000000:08:00.0 Off |                  Off |\n",
      "|  0%   44C    P2    57W / 450W |  22683MiB / 24564MiB |      0%      Default |\n",
      "|                               |                      |                  N/A |\n",
      "+-------------------------------+----------------------+----------------------+\n",
      "                                                                               \n",
      "+-----------------------------------------------------------------------------+\n",
      "| Processes:                                                                  |\n",
      "|  GPU   GI   CI        PID   Type   Process name                  GPU Memory |\n",
      "|        ID   ID                                                   Usage      |\n",
      "|=============================================================================|\n",
      "+-----------------------------------------------------------------------------+\n"
     ]
    }
   ],
   "source": [
    "# Check GPU\n",
    "!nvidia-smi"
   ]
  },
  {
   "cell_type": "code",
   "execution_count": 8,
   "metadata": {
    "colab": {
     "base_uri": "https://localhost:8080/"
    },
    "id": "FSapZ74PU2TF",
    "outputId": "ebeefc74-8bd0-43da-c3d4-28518c502712",
    "tags": []
   },
   "outputs": [
    {
     "data": {
      "text/plain": [
       "[PhysicalDevice(name='/physical_device:GPU:0', device_type='GPU')]"
      ]
     },
     "execution_count": 8,
     "metadata": {},
     "output_type": "execute_result"
    }
   ],
   "source": [
    "# Lis physical devices\n",
    "devices = tf.config.experimental.list_physical_devices(\"GPU\")\n",
    "devices"
   ]
  },
  {
   "cell_type": "code",
   "execution_count": 9,
   "metadata": {
    "id": "A8WtBtBaU2TG",
    "tags": []
   },
   "outputs": [
    {
     "name": "stdout",
     "output_type": "stream",
     "text": [
      "INFO:tensorflow:Using MirroredStrategy with devices ('/job:localhost/replica:0/task:0/device:GPU:0',)\n"
     ]
    }
   ],
   "source": [
    "# Define the GPU strategy\n",
    "mirrored_strategy = tf.distribute.MirroredStrategy(devices=[\"/gpu:0\"])"
   ]
  },
  {
   "cell_type": "markdown",
   "metadata": {
    "id": "Vqr_uGTNU2TG"
   },
   "source": [
    "# Modelling With Augmentation"
   ]
  },
  {
   "cell_type": "markdown",
   "metadata": {
    "id": "w4Wzh6ZyU2TH"
   },
   "source": [
    "## Xception Model 1"
   ]
  },
  {
   "cell_type": "code",
   "execution_count": 10,
   "metadata": {
    "id": "uUqYGBfRU2TH",
    "tags": []
   },
   "outputs": [],
   "source": [
    "# Difine the callbacks\n",
    "# Save the best model\n",
    "checkpoint_callback = ModelCheckpoint(filepath=\"Peach_Xception_model1_Based_Augmented.h5\", save_best_only=True, monitor=\"val_accuracy\", mode=\"max\", verbose=1)\n",
    "\n",
    "# Early stopping\n",
    "early_stopping_callback = EarlyStopping(monitor=\"val_accuracy\", mode=\"max\", patience=20, verbose=1, restore_best_weights=True)\n",
    "\n",
    "# Reduce learning rate\n",
    "reduce_lr_callback = ReduceLROnPlateau(monitor=\"val_loss\", factor=0.1, patience=5, verbose=1, mode=\"min\", min_delta=0.0001, cooldown=0, min_lr=0)\n",
    "\n",
    "# Callbacks list\n",
    "callbacks=[checkpoint_callback, early_stopping_callback, reduce_lr_callback]"
   ]
  },
  {
   "cell_type": "code",
   "execution_count": 11,
   "metadata": {
    "colab": {
     "base_uri": "https://localhost:8080/"
    },
    "id": "BQHFs3gSU2TI",
    "outputId": "8c71a291-abb5-4a93-c71f-59dddd7cfceb",
    "tags": []
   },
   "outputs": [
    {
     "name": "stdout",
     "output_type": "stream",
     "text": [
      "Downloading data from https://storage.googleapis.com/tensorflow/keras-applications/xception/xception_weights_tf_dim_ordering_tf_kernels_notop.h5\n",
      "83683744/83683744 [==============================] - 38s 0us/step\n",
      "Model: \"sequential\"\n",
      "_________________________________________________________________\n",
      " Layer (type)                Output Shape              Param #   \n",
      "=================================================================\n",
      " xception (Functional)       (None, 7, 7, 2048)        20861480  \n",
      "                                                                 \n",
      " global_max_pooling2d (Globa  (None, 2048)             0         \n",
      " lMaxPooling2D)                                                  \n",
      "                                                                 \n",
      " dropout (Dropout)           (None, 2048)              0         \n",
      "                                                                 \n",
      " dense (Dense)               (None, 256)               524544    \n",
      "                                                                 \n",
      " dense_1 (Dense)             (None, 2)                 514       \n",
      "                                                                 \n",
      "=================================================================\n",
      "Total params: 21,386,538\n",
      "Trainable params: 21,332,010\n",
      "Non-trainable params: 54,528\n",
      "_________________________________________________________________\n"
     ]
    }
   ],
   "source": [
    "# Define Model\n",
    "Xception_model = tf.keras.models.Sequential([\n",
    "    # Xception Layer\n",
    "    Xception(include_top=False,weights='imagenet',input_shape=(224, 224, 3)),\n",
    "    # Global Max Pooling Layer\n",
    "    tf.keras.layers.GlobalMaxPooling2D(),\n",
    "    # Drop Out Layer\n",
    "    tf.keras.layers.Dropout(0.2),\n",
    "    # 256 neuron hidden layer\n",
    "    tf.keras.layers.Dense(256, activation='relu'),\n",
    "    # Output\n",
    "    tf.keras.layers.Dense(2, activation='softmax') \n",
    "  ])\n",
    "\n",
    "\n",
    "# Compile Model\n",
    "Xception_model.compile(loss='categorical_crossentropy',optimizer=tf.keras.optimizers.Adam(), metrics=['accuracy']) \n",
    "\n",
    "# Model Summary\n",
    "Xception_model.summary()"
   ]
  },
  {
   "cell_type": "code",
   "execution_count": 12,
   "metadata": {
    "colab": {
     "base_uri": "https://localhost:8080/"
    },
    "id": "6coN3TKhU2TI",
    "outputId": "13f89d2b-f5d0-4bf6-edd8-0bd9948e7b21",
    "tags": []
   },
   "outputs": [
    {
     "name": "stdout",
     "output_type": "stream",
     "text": [
      "Epoch 1/100\n",
      "179/179 [==============================] - ETA: 0s - loss: 0.1566 - accuracy: 0.9484\n",
      "Epoch 1: val_accuracy improved from -inf to 0.83502, saving model to Peach_Xception_model1_Based_Augmented.h5\n",
      "179/179 [==============================] - 42s 130ms/step - loss: 0.1566 - accuracy: 0.9484 - val_loss: 1.1167 - val_accuracy: 0.8350 - lr: 0.0010\n",
      "Epoch 2/100\n",
      "179/179 [==============================] - ETA: 0s - loss: 0.0358 - accuracy: 0.9882\n",
      "Epoch 2: val_accuracy improved from 0.83502 to 0.99439, saving model to Peach_Xception_model1_Based_Augmented.h5\n",
      "179/179 [==============================] - 23s 126ms/step - loss: 0.0358 - accuracy: 0.9882 - val_loss: 0.0219 - val_accuracy: 0.9944 - lr: 0.0010\n",
      "Epoch 3/100\n",
      "179/179 [==============================] - ETA: 0s - loss: 0.0550 - accuracy: 0.9871\n",
      "Epoch 3: val_accuracy improved from 0.99439 to 0.99663, saving model to Peach_Xception_model1_Based_Augmented.h5\n",
      "179/179 [==============================] - 23s 126ms/step - loss: 0.0550 - accuracy: 0.9871 - val_loss: 0.0113 - val_accuracy: 0.9966 - lr: 0.0010\n",
      "Epoch 4/100\n",
      "179/179 [==============================] - ETA: 0s - loss: 0.0829 - accuracy: 0.9784\n",
      "Epoch 4: val_accuracy improved from 0.99663 to 0.99776, saving model to Peach_Xception_model1_Based_Augmented.h5\n",
      "179/179 [==============================] - 23s 126ms/step - loss: 0.0829 - accuracy: 0.9784 - val_loss: 0.0039 - val_accuracy: 0.9978 - lr: 0.0010\n",
      "Epoch 5/100\n",
      "179/179 [==============================] - ETA: 0s - loss: 0.0356 - accuracy: 0.9871\n",
      "Epoch 5: val_accuracy did not improve from 0.99776\n",
      "179/179 [==============================] - 22s 122ms/step - loss: 0.0356 - accuracy: 0.9871 - val_loss: 0.0064 - val_accuracy: 0.9966 - lr: 0.0010\n",
      "Epoch 6/100\n",
      "179/179 [==============================] - ETA: 0s - loss: 0.0253 - accuracy: 0.9924\n",
      "Epoch 6: val_accuracy improved from 0.99776 to 1.00000, saving model to Peach_Xception_model1_Based_Augmented.h5\n",
      "179/179 [==============================] - 22s 125ms/step - loss: 0.0253 - accuracy: 0.9924 - val_loss: 0.0023 - val_accuracy: 1.0000 - lr: 0.0010\n",
      "Epoch 7/100\n",
      "179/179 [==============================] - ETA: 0s - loss: 0.0151 - accuracy: 0.9950\n",
      "Epoch 7: val_accuracy did not improve from 1.00000\n",
      "179/179 [==============================] - 22s 122ms/step - loss: 0.0151 - accuracy: 0.9950 - val_loss: 0.0089 - val_accuracy: 0.9978 - lr: 0.0010\n",
      "Epoch 8/100\n",
      "179/179 [==============================] - ETA: 0s - loss: 0.0179 - accuracy: 0.9955\n",
      "Epoch 8: val_accuracy did not improve from 1.00000\n",
      "179/179 [==============================] - 22s 121ms/step - loss: 0.0179 - accuracy: 0.9955 - val_loss: 0.0116 - val_accuracy: 0.9978 - lr: 0.0010\n",
      "Epoch 9/100\n",
      "179/179 [==============================] - ETA: 0s - loss: 0.0208 - accuracy: 0.9930\n",
      "Epoch 9: val_accuracy did not improve from 1.00000\n",
      "179/179 [==============================] - 22s 122ms/step - loss: 0.0208 - accuracy: 0.9930 - val_loss: 0.0055 - val_accuracy: 0.9966 - lr: 0.0010\n",
      "Epoch 10/100\n",
      "179/179 [==============================] - ETA: 0s - loss: 0.0096 - accuracy: 0.9980\n",
      "Epoch 10: val_accuracy did not improve from 1.00000\n",
      "179/179 [==============================] - 22s 122ms/step - loss: 0.0096 - accuracy: 0.9980 - val_loss: 0.0043 - val_accuracy: 0.9978 - lr: 0.0010\n",
      "Epoch 11/100\n",
      "179/179 [==============================] - ETA: 0s - loss: 0.0051 - accuracy: 0.9986\n",
      "Epoch 11: val_accuracy did not improve from 1.00000\n",
      "\n",
      "Epoch 11: ReduceLROnPlateau reducing learning rate to 0.00010000000474974513.\n",
      "179/179 [==============================] - 22s 122ms/step - loss: 0.0051 - accuracy: 0.9986 - val_loss: 0.0034 - val_accuracy: 0.9989 - lr: 0.0010\n",
      "Epoch 12/100\n",
      "179/179 [==============================] - ETA: 0s - loss: 0.0053 - accuracy: 0.9978\n",
      "Epoch 12: val_accuracy did not improve from 1.00000\n",
      "179/179 [==============================] - 22s 123ms/step - loss: 0.0053 - accuracy: 0.9978 - val_loss: 7.9625e-04 - val_accuracy: 1.0000 - lr: 1.0000e-04\n",
      "Epoch 13/100\n",
      "179/179 [==============================] - ETA: 0s - loss: 0.0012 - accuracy: 0.9997\n",
      "Epoch 13: val_accuracy did not improve from 1.00000\n",
      "179/179 [==============================] - 22s 122ms/step - loss: 0.0012 - accuracy: 0.9997 - val_loss: 0.0010 - val_accuracy: 1.0000 - lr: 1.0000e-04\n",
      "Epoch 14/100\n",
      "179/179 [==============================] - ETA: 0s - loss: 0.0026 - accuracy: 0.9992\n",
      "Epoch 14: val_accuracy did not improve from 1.00000\n",
      "179/179 [==============================] - 22s 122ms/step - loss: 0.0026 - accuracy: 0.9992 - val_loss: 3.9034e-04 - val_accuracy: 1.0000 - lr: 1.0000e-04\n",
      "Epoch 15/100\n",
      "179/179 [==============================] - ETA: 0s - loss: 0.0028 - accuracy: 0.9997\n",
      "Epoch 15: val_accuracy did not improve from 1.00000\n",
      "179/179 [==============================] - 22s 121ms/step - loss: 0.0028 - accuracy: 0.9997 - val_loss: 3.1328e-04 - val_accuracy: 1.0000 - lr: 1.0000e-04\n",
      "Epoch 16/100\n",
      "179/179 [==============================] - ETA: 0s - loss: 0.0033 - accuracy: 0.9992\n",
      "Epoch 16: val_accuracy did not improve from 1.00000\n",
      "179/179 [==============================] - 22s 122ms/step - loss: 0.0033 - accuracy: 0.9992 - val_loss: 2.7591e-04 - val_accuracy: 1.0000 - lr: 1.0000e-04\n",
      "Epoch 17/100\n",
      "179/179 [==============================] - ETA: 0s - loss: 0.0035 - accuracy: 0.9989\n",
      "Epoch 17: val_accuracy did not improve from 1.00000\n",
      "179/179 [==============================] - 22s 124ms/step - loss: 0.0035 - accuracy: 0.9989 - val_loss: 3.5130e-04 - val_accuracy: 1.0000 - lr: 1.0000e-04\n",
      "Epoch 18/100\n",
      "179/179 [==============================] - ETA: 0s - loss: 0.0088 - accuracy: 0.9986\n",
      "Epoch 18: val_accuracy did not improve from 1.00000\n",
      "179/179 [==============================] - 22s 124ms/step - loss: 0.0088 - accuracy: 0.9986 - val_loss: 2.5597e-04 - val_accuracy: 1.0000 - lr: 1.0000e-04\n",
      "Epoch 19/100\n",
      "179/179 [==============================] - ETA: 0s - loss: 0.0015 - accuracy: 0.9997\n",
      "Epoch 19: val_accuracy did not improve from 1.00000\n",
      "179/179 [==============================] - 22s 123ms/step - loss: 0.0015 - accuracy: 0.9997 - val_loss: 2.7144e-04 - val_accuracy: 1.0000 - lr: 1.0000e-04\n",
      "Epoch 20/100\n",
      "179/179 [==============================] - ETA: 0s - loss: 9.6607e-04 - accuracy: 0.9997\n",
      "Epoch 20: val_accuracy did not improve from 1.00000\n",
      "179/179 [==============================] - 22s 124ms/step - loss: 9.6607e-04 - accuracy: 0.9997 - val_loss: 2.2285e-04 - val_accuracy: 1.0000 - lr: 1.0000e-04\n",
      "Epoch 21/100\n",
      "179/179 [==============================] - ETA: 0s - loss: 0.0017 - accuracy: 0.9992\n",
      "Epoch 21: val_accuracy did not improve from 1.00000\n",
      "179/179 [==============================] - 22s 122ms/step - loss: 0.0017 - accuracy: 0.9992 - val_loss: 5.7131e-05 - val_accuracy: 1.0000 - lr: 1.0000e-04\n",
      "Epoch 22/100\n",
      "179/179 [==============================] - ETA: 0s - loss: 0.0014 - accuracy: 0.9997\n",
      "Epoch 22: val_accuracy did not improve from 1.00000\n",
      "179/179 [==============================] - 22s 122ms/step - loss: 0.0014 - accuracy: 0.9997 - val_loss: 5.2546e-05 - val_accuracy: 1.0000 - lr: 1.0000e-04\n",
      "Epoch 23/100\n",
      "179/179 [==============================] - ETA: 0s - loss: 2.0880e-04 - accuracy: 1.0000\n",
      "Epoch 23: val_accuracy did not improve from 1.00000\n",
      "179/179 [==============================] - 22s 123ms/step - loss: 2.0880e-04 - accuracy: 1.0000 - val_loss: 5.0792e-05 - val_accuracy: 1.0000 - lr: 1.0000e-04\n",
      "Epoch 24/100\n",
      "179/179 [==============================] - ETA: 0s - loss: 0.0018 - accuracy: 0.9994\n",
      "Epoch 24: val_accuracy did not improve from 1.00000\n",
      "179/179 [==============================] - 22s 122ms/step - loss: 0.0018 - accuracy: 0.9994 - val_loss: 1.2411e-04 - val_accuracy: 1.0000 - lr: 1.0000e-04\n",
      "Epoch 25/100\n",
      "179/179 [==============================] - ETA: 0s - loss: 0.0033 - accuracy: 0.9997\n",
      "Epoch 25: val_accuracy did not improve from 1.00000\n",
      "179/179 [==============================] - 22s 121ms/step - loss: 0.0033 - accuracy: 0.9997 - val_loss: 3.6915e-05 - val_accuracy: 1.0000 - lr: 1.0000e-04\n",
      "Epoch 26/100\n",
      "179/179 [==============================] - ETA: 0s - loss: 0.0020 - accuracy: 0.9992\n",
      "Epoch 26: val_accuracy did not improve from 1.00000\n",
      "Restoring model weights from the end of the best epoch: 6.\n",
      "\n",
      "Epoch 26: ReduceLROnPlateau reducing learning rate to 1.0000000474974514e-05.\n",
      "179/179 [==============================] - 22s 122ms/step - loss: 0.0020 - accuracy: 0.9992 - val_loss: 2.2434e-05 - val_accuracy: 1.0000 - lr: 1.0000e-04\n",
      "Epoch 26: early stopping\n"
     ]
    }
   ],
   "source": [
    "# Define the number of epochs\n",
    "num_epochs = 100\n",
    "\n",
    "# Train the model\n",
    "history_Xception_model_1 = Xception_model.fit(train_generator, epochs=num_epochs, validation_data=validation_generator, callbacks=callbacks)"
   ]
  },
  {
   "cell_type": "code",
   "execution_count": 13,
   "metadata": {
    "colab": {
     "base_uri": "https://localhost:8080/",
     "height": 904
    },
    "id": "lvS9xz3LU2TI",
    "outputId": "e1731e8a-2871-462d-82a8-857469077e42",
    "tags": []
   },
   "outputs": [
    {
     "data": {
      "text/plain": [
       "<matplotlib.legend.Legend at 0x7f792fb987f0>"
      ]
     },
     "execution_count": 13,
     "metadata": {},
     "output_type": "execute_result"
    },
    {
     "data": {
      "image/png": "[encoded data removed]",
      "text/plain": [
       "<Figure size 640x480 with 1 Axes>"
      ]
     },
     "metadata": {},
     "output_type": "display_data"
    },
    {
     "data": {
      "image/png": "[encoded data removed]",
      "text/plain": [
       "<Figure size 640x480 with 1 Axes>"
      ]
     },
     "metadata": {},
     "output_type": "display_data"
    }
   ],
   "source": [
    "#-----------------------------------------------------------\n",
    "# Retrieve a list of list results on training and test data\n",
    "# sets for each training epoch\n",
    "#-----------------------------------------------------------\n",
    "acc      = history_Xception_model_1.history['accuracy' ]\n",
    "val_acc  = history_Xception_model_1.history['val_accuracy' ]\n",
    "loss     = history_Xception_model_1.history['loss' ]\n",
    "val_loss = history_Xception_model_1.history['val_loss' ]\n",
    "\n",
    "epochs   = range(len(acc)) # Get number of epochs\n",
    "\n",
    "#------------------------------------------------\n",
    "# Plot training and validation accuracy per epoch\n",
    "#------------------------------------------------\n",
    "plt.plot  (epochs, acc )\n",
    "plt.plot  (epochs, val_acc )\n",
    "plt.title ('Training and validation accuracy Xception Model Augmented')\n",
    "plt.legend(['train', 'val'], loc='upper left')\n",
    "plt.figure()\n",
    "\n",
    "#------------------------------------------------\n",
    "# Plot training and validation loss per epoch\n",
    "#------------------------------------------------\n",
    "plt.plot  (epochs, loss)\n",
    "plt.plot  (epochs, val_loss)\n",
    "plt.title ('Training and validation loss Xception Model Augmented')\n",
    "plt.legend(['train', 'val'], loc='upper left')"
   ]
  },
  {
   "cell_type": "markdown",
   "metadata": {
    "id": "SvQOR9IuU2TJ"
   },
   "source": [
    "## Xception Model 2"
   ]
  },
  {
   "cell_type": "code",
   "execution_count": 14,
   "metadata": {
    "id": "Tj7lcdvUU2TJ",
    "tags": []
   },
   "outputs": [],
   "source": [
    "# Difine the callbacks\n",
    "# Save the best model\n",
    "checkpoint_callback = ModelCheckpoint(filepath=\"Peach_Xception_model2_Based_Augmented.h5\", save_best_only=True, monitor=\"val_accuracy\", mode=\"max\", verbose=1)\n",
    "\n",
    "# Early stopping\n",
    "early_stopping_callback = EarlyStopping(monitor=\"val_accuracy\", mode=\"max\", patience=20, verbose=1, restore_best_weights=True)\n",
    "\n",
    "# Reduce learning rate\n",
    "reduce_lr_callback = ReduceLROnPlateau(monitor=\"val_loss\", factor=0.1, patience=5, verbose=1, mode=\"min\", min_delta=0.0001, cooldown=0, min_lr=0)\n",
    "\n",
    "# Callbacks list\n",
    "callbacks=[checkpoint_callback, early_stopping_callback, reduce_lr_callback]"
   ]
  },
  {
   "cell_type": "code",
   "execution_count": 15,
   "metadata": {
    "colab": {
     "base_uri": "https://localhost:8080/"
    },
    "id": "7NKPY1xGU2TJ",
    "outputId": "396c5445-5f2e-4440-bdaa-6171fafbc70f",
    "tags": []
   },
   "outputs": [
    {
     "name": "stdout",
     "output_type": "stream",
     "text": [
      "Model: \"sequential_1\"\n",
      "_________________________________________________________________\n",
      " Layer (type)                Output Shape              Param #   \n",
      "=================================================================\n",
      " xception (Functional)       (None, 7, 7, 2048)        20861480  \n",
      "                                                                 \n",
      " global_average_pooling2d (G  (None, 2048)             0         \n",
      " lobalAveragePooling2D)                                          \n",
      "                                                                 \n",
      " dropout_1 (Dropout)         (None, 2048)              0         \n",
      "                                                                 \n",
      " dense_2 (Dense)             (None, 256)               524544    \n",
      "                                                                 \n",
      " dense_3 (Dense)             (None, 2)                 514       \n",
      "                                                                 \n",
      "=================================================================\n",
      "Total params: 21,386,538\n",
      "Trainable params: 21,332,010\n",
      "Non-trainable params: 54,528\n",
      "_________________________________________________________________\n"
     ]
    }
   ],
   "source": [
    "# Define Model\n",
    "Xception_model_2 = tf.keras.models.Sequential([\n",
    "    # Xception Layer\n",
    "    Xception(include_top=False,weights='imagenet',input_shape=(224, 224, 3)),\n",
    "    # Global Average Pooling Layer\n",
    "    tf.keras.layers.GlobalAveragePooling2D(),\n",
    "    # Drop Out Layer\n",
    "    tf.keras.layers.Dropout(0.2),\n",
    "    # 256 neuron hidden layer\n",
    "    tf.keras.layers.Dense(256, activation='relu'),\n",
    "    # Output\n",
    "    tf.keras.layers.Dense(2, activation='softmax') \n",
    "  ])\n",
    "\n",
    "\n",
    "# Compile Model\n",
    "Xception_model_2.compile(loss='categorical_crossentropy',optimizer=tf.keras.optimizers.Adam(), metrics=['accuracy']) \n",
    "\n",
    "# Model Summary\n",
    "Xception_model_2.summary()"
   ]
  },
  {
   "cell_type": "code",
   "execution_count": 16,
   "metadata": {
    "colab": {
     "base_uri": "https://localhost:8080/"
    },
    "id": "6beuexC9U2TJ",
    "outputId": "4f3c7b66-0fad-4736-8a25-8c65d1487768",
    "tags": []
   },
   "outputs": [
    {
     "name": "stdout",
     "output_type": "stream",
     "text": [
      "Epoch 1/100\n",
      "179/179 [==============================] - ETA: 0s - loss: 0.1043 - accuracy: 0.9630\n",
      "Epoch 1: val_accuracy improved from -inf to 0.99551, saving model to Peach_Xception_model2_Based_Augmented.h5\n",
      "179/179 [==============================] - 36s 126ms/step - loss: 0.1043 - accuracy: 0.9630 - val_loss: 0.0452 - val_accuracy: 0.9955 - lr: 0.0010\n",
      "Epoch 2/100\n",
      "179/179 [==============================] - ETA: 0s - loss: 0.0396 - accuracy: 0.9871\n",
      "Epoch 2: val_accuracy improved from 0.99551 to 0.99663, saving model to Peach_Xception_model2_Based_Augmented.h5\n",
      "179/179 [==============================] - 23s 126ms/step - loss: 0.0396 - accuracy: 0.9871 - val_loss: 0.0139 - val_accuracy: 0.9966 - lr: 0.0010\n",
      "Epoch 3/100\n",
      "178/179 [============================>.] - ETA: 0s - loss: 0.0203 - accuracy: 0.9944\n",
      "Epoch 3: val_accuracy did not improve from 0.99663\n",
      "179/179 [==============================] - 22s 123ms/step - loss: 0.0203 - accuracy: 0.9944 - val_loss: 0.0445 - val_accuracy: 0.9820 - lr: 0.0010\n",
      "Epoch 4/100\n",
      "179/179 [==============================] - ETA: 0s - loss: 0.0165 - accuracy: 0.9941\n",
      "Epoch 4: val_accuracy improved from 0.99663 to 0.99776, saving model to Peach_Xception_model2_Based_Augmented.h5\n",
      "179/179 [==============================] - 22s 124ms/step - loss: 0.0165 - accuracy: 0.9941 - val_loss: 0.0926 - val_accuracy: 0.9978 - lr: 0.0010\n",
      "Epoch 5/100\n",
      "179/179 [==============================] - ETA: 0s - loss: 0.0295 - accuracy: 0.9924\n",
      "Epoch 5: val_accuracy did not improve from 0.99776\n",
      "179/179 [==============================] - 22s 121ms/step - loss: 0.0295 - accuracy: 0.9924 - val_loss: 0.0302 - val_accuracy: 0.9899 - lr: 0.0010\n",
      "Epoch 6/100\n",
      "179/179 [==============================] - ETA: 0s - loss: 0.0234 - accuracy: 0.9958\n",
      "Epoch 6: val_accuracy improved from 0.99776 to 0.99888, saving model to Peach_Xception_model2_Based_Augmented.h5\n",
      "179/179 [==============================] - 23s 126ms/step - loss: 0.0234 - accuracy: 0.9958 - val_loss: 0.0032 - val_accuracy: 0.9989 - lr: 0.0010\n",
      "Epoch 7/100\n",
      "179/179 [==============================] - ETA: 0s - loss: 0.0128 - accuracy: 0.9964\n",
      "Epoch 7: val_accuracy did not improve from 0.99888\n",
      "179/179 [==============================] - 22s 123ms/step - loss: 0.0128 - accuracy: 0.9964 - val_loss: 0.0078 - val_accuracy: 0.9978 - lr: 0.0010\n",
      "Epoch 8/100\n",
      "179/179 [==============================] - ETA: 0s - loss: 0.0191 - accuracy: 0.9933\n",
      "Epoch 8: val_accuracy did not improve from 0.99888\n",
      "179/179 [==============================] - 22s 124ms/step - loss: 0.0191 - accuracy: 0.9933 - val_loss: 0.0288 - val_accuracy: 0.9899 - lr: 0.0010\n",
      "Epoch 9/100\n",
      "179/179 [==============================] - ETA: 0s - loss: 0.0515 - accuracy: 0.9891\n",
      "Epoch 9: val_accuracy did not improve from 0.99888\n",
      "179/179 [==============================] - 22s 122ms/step - loss: 0.0515 - accuracy: 0.9891 - val_loss: 0.0057 - val_accuracy: 0.9989 - lr: 0.0010\n",
      "Epoch 10/100\n",
      "179/179 [==============================] - ETA: 0s - loss: 0.0296 - accuracy: 0.9924\n",
      "Epoch 10: val_accuracy did not improve from 0.99888\n",
      "179/179 [==============================] - 22s 122ms/step - loss: 0.0296 - accuracy: 0.9924 - val_loss: 0.0080 - val_accuracy: 0.9966 - lr: 0.0010\n",
      "Epoch 11/100\n",
      "179/179 [==============================] - ETA: 0s - loss: 0.0139 - accuracy: 0.9947\n",
      "Epoch 11: val_accuracy improved from 0.99888 to 1.00000, saving model to Peach_Xception_model2_Based_Augmented.h5\n",
      "179/179 [==============================] - 23s 126ms/step - loss: 0.0139 - accuracy: 0.9947 - val_loss: 0.0012 - val_accuracy: 1.0000 - lr: 0.0010\n",
      "Epoch 12/100\n",
      "179/179 [==============================] - ETA: 0s - loss: 0.0131 - accuracy: 0.9969\n",
      "Epoch 12: val_accuracy did not improve from 1.00000\n",
      "179/179 [==============================] - 22s 124ms/step - loss: 0.0131 - accuracy: 0.9969 - val_loss: 0.0037 - val_accuracy: 0.9989 - lr: 0.0010\n",
      "Epoch 13/100\n",
      "179/179 [==============================] - ETA: 0s - loss: 0.0089 - accuracy: 0.9969\n",
      "Epoch 13: val_accuracy did not improve from 1.00000\n",
      "179/179 [==============================] - 22s 123ms/step - loss: 0.0089 - accuracy: 0.9969 - val_loss: 0.0571 - val_accuracy: 0.9787 - lr: 0.0010\n",
      "Epoch 14/100\n",
      "179/179 [==============================] - ETA: 0s - loss: 0.0158 - accuracy: 0.9952\n",
      "Epoch 14: val_accuracy did not improve from 1.00000\n",
      "179/179 [==============================] - 22s 122ms/step - loss: 0.0158 - accuracy: 0.9952 - val_loss: 0.0176 - val_accuracy: 0.9955 - lr: 0.0010\n",
      "Epoch 15/100\n",
      "179/179 [==============================] - ETA: 0s - loss: 0.0143 - accuracy: 0.9966\n",
      "Epoch 15: val_accuracy did not improve from 1.00000\n",
      "179/179 [==============================] - 22s 123ms/step - loss: 0.0143 - accuracy: 0.9966 - val_loss: 0.0019 - val_accuracy: 0.9989 - lr: 0.0010\n",
      "Epoch 16/100\n",
      "179/179 [==============================] - ETA: 0s - loss: 0.0070 - accuracy: 0.9972\n",
      "Epoch 16: val_accuracy did not improve from 1.00000\n",
      "\n",
      "Epoch 16: ReduceLROnPlateau reducing learning rate to 0.00010000000474974513.\n",
      "179/179 [==============================] - 22s 124ms/step - loss: 0.0070 - accuracy: 0.9972 - val_loss: 0.0021 - val_accuracy: 1.0000 - lr: 0.0010\n",
      "Epoch 17/100\n",
      "179/179 [==============================] - ETA: 0s - loss: 0.0029 - accuracy: 0.9994\n",
      "Epoch 17: val_accuracy did not improve from 1.00000\n",
      "179/179 [==============================] - 22s 122ms/step - loss: 0.0029 - accuracy: 0.9994 - val_loss: 0.0013 - val_accuracy: 1.0000 - lr: 1.0000e-04\n",
      "Epoch 18/100\n",
      "179/179 [==============================] - ETA: 0s - loss: 0.0028 - accuracy: 0.9992\n",
      "Epoch 18: val_accuracy did not improve from 1.00000\n",
      "179/179 [==============================] - 22s 123ms/step - loss: 0.0028 - accuracy: 0.9992 - val_loss: 0.0010 - val_accuracy: 1.0000 - lr: 1.0000e-04\n",
      "Epoch 19/100\n",
      "179/179 [==============================] - ETA: 0s - loss: 0.0015 - accuracy: 0.9997\n",
      "Epoch 19: val_accuracy did not improve from 1.00000\n",
      "179/179 [==============================] - 22s 123ms/step - loss: 0.0015 - accuracy: 0.9997 - val_loss: 8.3015e-04 - val_accuracy: 1.0000 - lr: 1.0000e-04\n",
      "Epoch 20/100\n",
      "179/179 [==============================] - ETA: 0s - loss: 0.0014 - accuracy: 1.0000\n",
      "Epoch 20: val_accuracy did not improve from 1.00000\n",
      "179/179 [==============================] - 22s 123ms/step - loss: 0.0014 - accuracy: 1.0000 - val_loss: 6.3691e-04 - val_accuracy: 1.0000 - lr: 1.0000e-04\n",
      "Epoch 21/100\n",
      "179/179 [==============================] - ETA: 0s - loss: 0.0014 - accuracy: 0.9997\n",
      "Epoch 21: val_accuracy did not improve from 1.00000\n",
      "179/179 [==============================] - 22s 123ms/step - loss: 0.0014 - accuracy: 0.9997 - val_loss: 6.2556e-04 - val_accuracy: 1.0000 - lr: 1.0000e-04\n",
      "Epoch 22/100\n",
      "179/179 [==============================] - ETA: 0s - loss: 6.0716e-04 - accuracy: 1.0000\n",
      "Epoch 22: val_accuracy did not improve from 1.00000\n",
      "179/179 [==============================] - 22s 122ms/step - loss: 6.0716e-04 - accuracy: 1.0000 - val_loss: 4.9814e-04 - val_accuracy: 1.0000 - lr: 1.0000e-04\n",
      "Epoch 23/100\n",
      "179/179 [==============================] - ETA: 0s - loss: 0.0018 - accuracy: 0.9994\n",
      "Epoch 23: val_accuracy did not improve from 1.00000\n",
      "179/179 [==============================] - 22s 122ms/step - loss: 0.0018 - accuracy: 0.9994 - val_loss: 4.2627e-04 - val_accuracy: 1.0000 - lr: 1.0000e-04\n",
      "Epoch 24/100\n",
      "179/179 [==============================] - ETA: 0s - loss: 5.8843e-04 - accuracy: 1.0000\n",
      "Epoch 24: val_accuracy did not improve from 1.00000\n",
      "179/179 [==============================] - 22s 123ms/step - loss: 5.8843e-04 - accuracy: 1.0000 - val_loss: 3.8976e-04 - val_accuracy: 1.0000 - lr: 1.0000e-04\n",
      "Epoch 25/100\n",
      "179/179 [==============================] - ETA: 0s - loss: 7.7184e-04 - accuracy: 1.0000\n",
      "Epoch 25: val_accuracy did not improve from 1.00000\n",
      "179/179 [==============================] - 22s 123ms/step - loss: 7.7184e-04 - accuracy: 1.0000 - val_loss: 2.9823e-04 - val_accuracy: 1.0000 - lr: 1.0000e-04\n",
      "Epoch 26/100\n",
      "179/179 [==============================] - ETA: 0s - loss: 7.1215e-04 - accuracy: 0.9997\n",
      "Epoch 26: val_accuracy did not improve from 1.00000\n",
      "179/179 [==============================] - 22s 123ms/step - loss: 7.1215e-04 - accuracy: 0.9997 - val_loss: 2.4247e-04 - val_accuracy: 1.0000 - lr: 1.0000e-04\n",
      "Epoch 27/100\n",
      "179/179 [==============================] - ETA: 0s - loss: 8.8798e-04 - accuracy: 0.9997\n",
      "Epoch 27: val_accuracy did not improve from 1.00000\n",
      "179/179 [==============================] - 22s 122ms/step - loss: 8.8798e-04 - accuracy: 0.9997 - val_loss: 2.5875e-04 - val_accuracy: 1.0000 - lr: 1.0000e-04\n",
      "Epoch 28/100\n",
      "179/179 [==============================] - ETA: 0s - loss: 0.0022 - accuracy: 0.9989\n",
      "Epoch 28: val_accuracy did not improve from 1.00000\n",
      "179/179 [==============================] - 22s 123ms/step - loss: 0.0022 - accuracy: 0.9989 - val_loss: 1.6842e-04 - val_accuracy: 1.0000 - lr: 1.0000e-04\n",
      "Epoch 29/100\n",
      "179/179 [==============================] - ETA: 0s - loss: 0.0011 - accuracy: 0.9994\n",
      "Epoch 29: val_accuracy did not improve from 1.00000\n",
      "179/179 [==============================] - 22s 123ms/step - loss: 0.0011 - accuracy: 0.9994 - val_loss: 2.0614e-04 - val_accuracy: 1.0000 - lr: 1.0000e-04\n",
      "Epoch 30/100\n",
      "179/179 [==============================] - ETA: 0s - loss: 4.1854e-04 - accuracy: 0.9997\n",
      "Epoch 30: val_accuracy did not improve from 1.00000\n",
      "179/179 [==============================] - 22s 123ms/step - loss: 4.1854e-04 - accuracy: 0.9997 - val_loss: 2.4272e-04 - val_accuracy: 1.0000 - lr: 1.0000e-04\n",
      "Epoch 31/100\n",
      "179/179 [==============================] - ETA: 0s - loss: 0.0012 - accuracy: 0.9997\n",
      "Epoch 31: val_accuracy did not improve from 1.00000\n",
      "Restoring model weights from the end of the best epoch: 11.\n",
      "\n",
      "Epoch 31: ReduceLROnPlateau reducing learning rate to 1.0000000474974514e-05.\n",
      "179/179 [==============================] - 22s 122ms/step - loss: 0.0012 - accuracy: 0.9997 - val_loss: 1.6998e-04 - val_accuracy: 1.0000 - lr: 1.0000e-04\n",
      "Epoch 31: early stopping\n"
     ]
    }
   ],
   "source": [
    "# Define the number of epochs\n",
    "num_epochs = 100\n",
    "\n",
    "# Train the model\n",
    "history_Xception_model_2 = Xception_model_2.fit(train_generator, epochs=num_epochs, validation_data=validation_generator, callbacks=callbacks)"
   ]
  },
  {
   "cell_type": "code",
   "execution_count": 17,
   "metadata": {
    "colab": {
     "base_uri": "https://localhost:8080/",
     "height": 904
    },
    "id": "3f1nmwUhU2TK",
    "outputId": "680795ef-4fb7-4503-8e5f-8e797715180e",
    "tags": []
   },
   "outputs": [
    {
     "data": {
      "text/plain": [
       "<matplotlib.legend.Legend at 0x7f77e0fc7fd0>"
      ]
     },
     "execution_count": 17,
     "metadata": {},
     "output_type": "execute_result"
    },
    {
     "data": {
      "image/png": "[encoded data removed]",
      "text/plain": [
       "<Figure size 640x480 with 1 Axes>"
      ]
     },
     "metadata": {},
     "output_type": "display_data"
    },
    {
     "data": {
      "image/png": "[encoded data removed]",
      "text/plain": [
       "<Figure size 640x480 with 1 Axes>"
      ]
     },
     "metadata": {},
     "output_type": "display_data"
    }
   ],
   "source": [
    "#-----------------------------------------------------------\n",
    "# Retrieve a list of list results on training and test data\n",
    "# sets for each training epoch\n",
    "#-----------------------------------------------------------\n",
    "acc      = history_Xception_model_2.history['accuracy' ]\n",
    "val_acc  = history_Xception_model_2.history['val_accuracy' ]\n",
    "loss     = history_Xception_model_2.history['loss' ]\n",
    "val_loss = history_Xception_model_2.history['val_loss' ]\n",
    "\n",
    "epochs   = range(len(acc)) # Get number of epochs\n",
    "\n",
    "#------------------------------------------------\n",
    "# Plot training and validation accuracy per epoch\n",
    "#------------------------------------------------\n",
    "plt.plot  (epochs, acc )\n",
    "plt.plot  (epochs, val_acc )\n",
    "plt.title ('Training and validation accuracy Xception Model 2 Augmented')\n",
    "plt.legend(['train', 'val'], loc='upper left')\n",
    "plt.figure()\n",
    "\n",
    "#------------------------------------------------\n",
    "# Plot training and validation loss per epoch\n",
    "#------------------------------------------------\n",
    "plt.plot  (epochs, loss)\n",
    "plt.plot  (epochs, val_loss)\n",
    "plt.title ('Training and validation loss Xception Model 2 Augmented')\n",
    "plt.legend(['train', 'val'], loc='upper left')"
   ]
  }
 ],
 "metadata": {
  "accelerator": "GPU",
  "colab": {
   "gpuType": "T4",
   "provenance": []
  },
  "gpuClass": "standard",
  "kernelspec": {
   "display_name": "Python 3 (ipykernel)",
   "language": "python",
   "name": "python3"
  },
  "language_info": {
   "codemirror_mode": {
    "name": "ipython",
    "version": 3
   },
   "file_extension": ".py",
   "mimetype": "text/x-python",
   "name": "python",
   "nbconvert_exporter": "python",
   "pygments_lexer": "ipython3",
   "version": "3.8.10"
  }
 },
 "nbformat": 4,
 "nbformat_minor": 4
}
