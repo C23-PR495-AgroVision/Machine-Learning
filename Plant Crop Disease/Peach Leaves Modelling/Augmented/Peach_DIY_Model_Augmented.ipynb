{
  "cells": [
    {
      "attachments": {},
      "cell_type": "markdown",
      "metadata": {
        "id": "hO3kEcUPU2S3"
      },
      "source": [
        "# Library"
      ]
    },
    {
      "cell_type": "code",
      "execution_count": 1,
      "metadata": {
        "colab": {
          "base_uri": "https://localhost:8080/"
        },
        "id": "kczkUjsAU2S8",
        "outputId": "7c748c1d-dfcb-43e7-b8b0-9778053796ee",
        "tags": []
      },
      "outputs": [
        {
          "name": "stdout",
          "output_type": "stream",
          "text": [
            "Requirement already satisfied: matplotlib in c:\\users\\hasan\\anaconda3\\envs\\tensorflow_gpu_zein\\lib\\site-packages (3.6.3)\n",
            "Requirement already satisfied: pillow>=6.2.0 in c:\\users\\hasan\\anaconda3\\envs\\tensorflow_gpu_zein\\lib\\site-packages (from matplotlib) (9.4.0)\n",
            "Requirement already satisfied: cycler>=0.10 in c:\\users\\hasan\\anaconda3\\envs\\tensorflow_gpu_zein\\lib\\site-packages (from matplotlib) (0.11.0)\n",
            "Requirement already satisfied: packaging>=20.0 in c:\\users\\hasan\\anaconda3\\envs\\tensorflow_gpu_zein\\lib\\site-packages (from matplotlib) (23.1)\n",
            "Requirement already satisfied: kiwisolver>=1.0.1 in c:\\users\\hasan\\anaconda3\\envs\\tensorflow_gpu_zein\\lib\\site-packages (from matplotlib) (1.4.4)\n",
            "Requirement already satisfied: numpy>=1.19 in c:\\users\\hasan\\anaconda3\\envs\\tensorflow_gpu_zein\\lib\\site-packages (from matplotlib) (1.23.5)\n",
            "Requirement already satisfied: pyparsing>=2.2.1 in c:\\users\\hasan\\anaconda3\\envs\\tensorflow_gpu_zein\\lib\\site-packages (from matplotlib) (3.0.9)\n",
            "Requirement already satisfied: python-dateutil>=2.7 in c:\\users\\hasan\\anaconda3\\envs\\tensorflow_gpu_zein\\lib\\site-packages (from matplotlib) (2.8.2)\n",
            "Requirement already satisfied: contourpy>=1.0.1 in c:\\users\\hasan\\anaconda3\\envs\\tensorflow_gpu_zein\\lib\\site-packages (from matplotlib) (1.0.7)\n",
            "Requirement already satisfied: fonttools>=4.22.0 in c:\\users\\hasan\\anaconda3\\envs\\tensorflow_gpu_zein\\lib\\site-packages (from matplotlib) (4.39.2)\n",
            "Requirement already satisfied: six>=1.5 in c:\\users\\hasan\\anaconda3\\envs\\tensorflow_gpu_zein\\lib\\site-packages (from python-dateutil>=2.7->matplotlib) (1.16.0)\n",
            "Note: you may need to restart the kernel to use updated packages.\n"
          ]
        },
        {
          "name": "stderr",
          "output_type": "stream",
          "text": [
            "WARNING: Ignoring invalid distribution -rotobuf (c:\\users\\hasan\\anaconda3\\envs\\tensorflow_gpu_zein\\lib\\site-packages)\n",
            "WARNING: Ignoring invalid distribution -rotobuf (c:\\users\\hasan\\anaconda3\\envs\\tensorflow_gpu_zein\\lib\\site-packages)\n",
            "WARNING: Ignoring invalid distribution -rotobuf (c:\\users\\hasan\\anaconda3\\envs\\tensorflow_gpu_zein\\lib\\site-packages)\n",
            "WARNING: Ignoring invalid distribution -rotobuf (c:\\users\\hasan\\anaconda3\\envs\\tensorflow_gpu_zein\\lib\\site-packages)\n",
            "WARNING: Ignoring invalid distribution -rotobuf (c:\\users\\hasan\\anaconda3\\envs\\tensorflow_gpu_zein\\lib\\site-packages)\n",
            "WARNING: Ignoring invalid distribution -rotobuf (c:\\users\\hasan\\anaconda3\\envs\\tensorflow_gpu_zein\\lib\\site-packages)\n"
          ]
        }
      ],
      "source": [
        "pip install matplotlib"
      ]
    },
    {
      "cell_type": "code",
      "execution_count": 2,
      "metadata": {
        "colab": {
          "base_uri": "https://localhost:8080/"
        },
        "id": "oEW3Nbu7U2S_",
        "outputId": "9b339d84-5c59-481e-882e-9736504f9a65",
        "tags": []
      },
      "outputs": [
        {
          "name": "stdout",
          "output_type": "stream",
          "text": [
            "Requirement already satisfied: opendatasets in c:\\users\\hasan\\anaconda3\\envs\\tensorflow_gpu_zein\\lib\\site-packages (0.1.22)\n",
            "Requirement already satisfied: tqdm in c:\\users\\hasan\\anaconda3\\envs\\tensorflow_gpu_zein\\lib\\site-packages (from opendatasets) (4.64.1)\n",
            "Requirement already satisfied: kaggle in c:\\users\\hasan\\anaconda3\\envs\\tensorflow_gpu_zein\\lib\\site-packages (from opendatasets) (1.5.13)\n",
            "Requirement already satisfied: click in c:\\users\\hasan\\anaconda3\\envs\\tensorflow_gpu_zein\\lib\\site-packages (from opendatasets) (8.1.3)\n",
            "Requirement already satisfied: colorama in c:\\users\\hasan\\anaconda3\\envs\\tensorflow_gpu_zein\\lib\\site-packages (from click->opendatasets) (0.4.6)\n",
            "Requirement already satisfied: certifi in c:\\users\\hasan\\anaconda3\\envs\\tensorflow_gpu_zein\\lib\\site-packages (from kaggle->opendatasets) (2022.12.7)\n",
            "Requirement already satisfied: requests in c:\\users\\hasan\\anaconda3\\envs\\tensorflow_gpu_zein\\lib\\site-packages (from kaggle->opendatasets) (2.28.2)\n",
            "Requirement already satisfied: six>=1.10 in c:\\users\\hasan\\anaconda3\\envs\\tensorflow_gpu_zein\\lib\\site-packages (from kaggle->opendatasets) (1.16.0)\n",
            "Requirement already satisfied: python-slugify in c:\\users\\hasan\\anaconda3\\envs\\tensorflow_gpu_zein\\lib\\site-packages (from kaggle->opendatasets) (8.0.1)\n",
            "Requirement already satisfied: urllib3 in c:\\users\\hasan\\anaconda3\\envs\\tensorflow_gpu_zein\\lib\\site-packages (from kaggle->opendatasets) (1.26.15)\n",
            "Requirement already satisfied: python-dateutil in c:\\users\\hasan\\anaconda3\\envs\\tensorflow_gpu_zein\\lib\\site-packages (from kaggle->opendatasets) (2.8.2)\n",
            "Requirement already satisfied: text-unidecode>=1.3 in c:\\users\\hasan\\anaconda3\\envs\\tensorflow_gpu_zein\\lib\\site-packages (from python-slugify->kaggle->opendatasets) (1.3)\n",
            "Requirement already satisfied: idna<4,>=2.5 in c:\\users\\hasan\\anaconda3\\envs\\tensorflow_gpu_zein\\lib\\site-packages (from requests->kaggle->opendatasets) (3.4)\n",
            "Requirement already satisfied: charset-normalizer<4,>=2 in c:\\users\\hasan\\anaconda3\\envs\\tensorflow_gpu_zein\\lib\\site-packages (from requests->kaggle->opendatasets) (3.1.0)\n",
            "Note: you may need to restart the kernel to use updated packages.\n"
          ]
        },
        {
          "name": "stderr",
          "output_type": "stream",
          "text": [
            "WARNING: Ignoring invalid distribution -rotobuf (c:\\users\\hasan\\anaconda3\\envs\\tensorflow_gpu_zein\\lib\\site-packages)\n",
            "WARNING: Ignoring invalid distribution -rotobuf (c:\\users\\hasan\\anaconda3\\envs\\tensorflow_gpu_zein\\lib\\site-packages)\n",
            "WARNING: Ignoring invalid distribution -rotobuf (c:\\users\\hasan\\anaconda3\\envs\\tensorflow_gpu_zein\\lib\\site-packages)\n",
            "WARNING: Ignoring invalid distribution -rotobuf (c:\\users\\hasan\\anaconda3\\envs\\tensorflow_gpu_zein\\lib\\site-packages)\n",
            "WARNING: Ignoring invalid distribution -rotobuf (c:\\users\\hasan\\anaconda3\\envs\\tensorflow_gpu_zein\\lib\\site-packages)\n",
            "WARNING: Ignoring invalid distribution -rotobuf (c:\\users\\hasan\\anaconda3\\envs\\tensorflow_gpu_zein\\lib\\site-packages)\n"
          ]
        }
      ],
      "source": [
        "pip install opendatasets"
      ]
    },
    {
      "cell_type": "code",
      "execution_count": 3,
      "metadata": {
        "id": "SIHHdOB4U2TA",
        "tags": []
      },
      "outputs": [],
      "source": [
        "# Library to dataset\n",
        "import opendatasets as od\n",
        "import os\n",
        "import zipfile\n",
        "import numpy as np\n",
        "\n",
        "# Surpress Warnings\n",
        "import warnings\n",
        "warnings.filterwarnings('ignore')\n",
        "os.environ['TF_CPP_MIN_LOG_LEVEL'] = '3' \n",
        "# library visualization\n",
        "import matplotlib.pyplot as plt\n",
        "\n",
        "# Library Tensorflow\n",
        "import tensorflow as tf\n",
        "from tensorflow import keras\n",
        "from tensorflow.keras.preprocessing.image import ImageDataGenerator\n",
        "from tensorflow.keras.callbacks import ModelCheckpoint, EarlyStopping, ReduceLROnPlateau\n",
        "from tensorflow.keras.applications.densenet import DenseNet121\n",
        "from tensorflow.keras.applications.xception import Xception\n",
        "\n",
        "# Others\n",
        "import shutil\n",
        "import random"
      ]
    },
    {
      "attachments": {},
      "cell_type": "markdown",
      "metadata": {
        "id": "Dy8YkYoaU2TB"
      },
      "source": [
        "# Load dataset"
      ]
    },
    {
      "cell_type": "code",
      "execution_count": 4,
      "metadata": {
        "colab": {
          "base_uri": "https://localhost:8080/"
        },
        "id": "8ZAjREJ0U2TC",
        "outputId": "d3707796-4aa5-4417-f16f-0143f0634214",
        "tags": []
      },
      "outputs": [
        {
          "name": "stdout",
          "output_type": "stream",
          "text": [
            "==========================Training Data====================\n",
            "Found 3566 files belonging to 2 classes.\n",
            "==========================Validation Data====================\n",
            "Found 891 files belonging to 2 classes.\n"
          ]
        }
      ],
      "source": [
        "# Load dataset\n",
        "print(\"==========================Training Data====================\")\n",
        "train_data = tf.keras.preprocessing.image_dataset_from_directory(\n",
        "    \"Dataset/Peach/train\",\n",
        "    label_mode=\"categorical\",\n",
        "    class_names=['Peach___Bacterial_spot','Peach___healthy'],\n",
        "    color_mode=\"rgb\",\n",
        "    batch_size=1,\n",
        "    image_size=(256, 256),\n",
        "    shuffle=True,\n",
        "    seed=123\n",
        ")\n",
        "print(\"==========================Validation Data====================\")\n",
        "val_data = tf.keras.preprocessing.image_dataset_from_directory(\n",
        "    \"Dataset/Peach/valid\",\n",
        "    label_mode=\"categorical\",\n",
        "    class_names=['Peach___Bacterial_spot','Peach___healthy'],\n",
        "    color_mode=\"rgb\",\n",
        "    batch_size=1,\n",
        "    image_size=(256, 256),\n",
        "    shuffle=True,\n",
        "    seed=123\n",
        ")"
      ]
    },
    {
      "cell_type": "code",
      "execution_count": 5,
      "metadata": {
        "colab": {
          "base_uri": "https://localhost:8080/"
        },
        "id": "vEPzd1egU2TD",
        "outputId": "dda3ba1b-941b-4c56-d4b9-3b80ecbb1f90",
        "tags": []
      },
      "outputs": [
        {
          "name": "stdout",
          "output_type": "stream",
          "text": [
            "Found 3566 images belonging to 2 classes.\n",
            "Found 891 images belonging to 2 classes.\n"
          ]
        }
      ],
      "source": [
        "# All images will be rescaled by 1./255. and Augmented\n",
        "train_datagen = ImageDataGenerator(rescale = 1.0/256.,\n",
        "                                   rotation_range=40,\n",
        "                                   width_shift_range=0.2,\n",
        "                                   height_shift_range=0.2,\n",
        "                                   shear_range=0.2,\n",
        "                                   zoom_range=0.2,\n",
        "                                   horizontal_flip=True,\n",
        "                                   fill_mode='nearest')\n",
        "\n",
        "test_datagen  = ImageDataGenerator(rescale = 1.0/256.)\n",
        "\n",
        "# --------------------\n",
        "# Flow training images in batches of 20 using train_datagen generator\n",
        "# --------------------\n",
        "train_generator = train_datagen.flow_from_directory(\"Dataset/Peach/train\",\n",
        "                                                    batch_size=20,\n",
        "                                                    class_mode='categorical',\n",
        "                                                    target_size=(224, 224))     \n",
        "# --------------------\n",
        "# Flow validation images in batches of 20 using test_datagen generator\n",
        "# --------------------\n",
        "validation_generator =  test_datagen.flow_from_directory(\"Dataset/Peach/valid\",\n",
        "                                                         batch_size=20,\n",
        "                                                         class_mode  = 'categorical',\n",
        "                                                         target_size = (224, 224))"
      ]
    },
    {
      "attachments": {},
      "cell_type": "markdown",
      "metadata": {
        "id": "_3jaO5YgU2TE"
      },
      "source": [
        "# List Resource"
      ]
    },
    {
      "cell_type": "code",
      "execution_count": 6,
      "metadata": {
        "colab": {
          "base_uri": "https://localhost:8080/"
        },
        "id": "SGemCaxnU2TF",
        "outputId": "254a06ef-b0c3-4a95-e21d-dcec309b9b46",
        "tags": []
      },
      "outputs": [
        {
          "name": "stdout",
          "output_type": "stream",
          "text": [
            "Wed May 31 12:17:29 2023       \n",
            "+---------------------------------------------------------------------------------------+\n",
            "| NVIDIA-SMI 532.03                 Driver Version: 532.03       CUDA Version: 12.1     |\n",
            "|-----------------------------------------+----------------------+----------------------+\n",
            "| GPU  Name                      TCC/WDDM | Bus-Id        Disp.A | Volatile Uncorr. ECC |\n",
            "| Fan  Temp  Perf            Pwr:Usage/Cap|         Memory-Usage | GPU-Util  Compute M. |\n",
            "|                                         |                      |               MIG M. |\n",
            "|=========================================+======================+======================|\n",
            "|   0  NVIDIA GeForce RTX 3060 L...  WDDM | 00000000:01:00.0  On |                  N/A |\n",
            "| N/A   56C    P0               40W /  N/A|   4458MiB /  6144MiB |      4%      Default |\n",
            "|                                         |                      |                  N/A |\n",
            "+-----------------------------------------+----------------------+----------------------+\n",
            "                                                                                         \n",
            "+---------------------------------------------------------------------------------------+\n",
            "| Processes:                                                                            |\n",
            "|  GPU   GI   CI        PID   Type   Process name                            GPU Memory |\n",
            "|        ID   ID                                                             Usage      |\n",
            "|=======================================================================================|\n",
            "|    0   N/A  N/A      5780    C+G   ...on\\113.0.1774.57\\msedgewebview2.exe    N/A      |\n",
            "|    0   N/A  N/A      9084    C+G   ...les\\Microsoft OneDrive\\OneDrive.exe    N/A      |\n",
            "|    0   N/A  N/A      9824    C+G   C:\\WINDOWS\\explorer.exe                   N/A      |\n",
            "|    0   N/A  N/A     11032    C+G   ...siveControlPanel\\SystemSettings.exe    N/A      |\n",
            "|    0   N/A  N/A     11680    C+G   ...nt.CBS_cw5n1h2txyewy\\SearchHost.exe    N/A      |\n",
            "|    0   N/A  N/A     11704    C+G   ...2txyewy\\StartMenuExperienceHost.exe    N/A      |\n",
            "|    0   N/A  N/A     13628    C+G   ...x64__qmba6cd70vzyy\\ArmouryCrate.exe    N/A      |\n",
            "|    0   N/A  N/A     13880    C+G   ...5n1h2txyewy\\ShellExperienceHost.exe    N/A      |\n",
            "|    0   N/A  N/A     14220    C+G   ...GeForce Experience\\NVIDIA Share.exe    N/A      |\n",
            "|    0   N/A  N/A     14448    C+G   ...t.LockApp_cw5n1h2txyewy\\LockApp.exe    N/A      |\n",
            "|    0   N/A  N/A     16172    C+G   ...ekyb3d8bbwe\\PhoneExperienceHost.exe    N/A      |\n",
            "|    0   N/A  N/A     17068    C+G   ...les\\Microsoft OneDrive\\OneDrive.exe    N/A      |\n",
            "|    0   N/A  N/A     17704    C+G   ...7.0_x64__cv1g1gvanyjgm\\WhatsApp.exe    N/A      |\n",
            "|    0   N/A  N/A     18140      C   ...envs\\tensorflow_gpu_zein\\python.exe    N/A      |\n",
            "|    0   N/A  N/A     19888    C+G   ...\\AMD\\CNext\\CNext\\RadeonSoftware.exe    N/A      |\n",
            "|    0   N/A  N/A     20836    C+G   ...64__v826wp6bftszj\\TranslucentTB.exe    N/A      |\n",
            "|    0   N/A  N/A     21096    C+G   ...Programs\\Microsoft VS Code\\Code.exe    N/A      |\n",
            "|    0   N/A  N/A     22104    C+G   ...oogle\\Chrome\\Application\\chrome.exe    N/A      |\n",
            "|    0   N/A  N/A     23836    C+G   ...les\\AMD\\CNext\\CNext\\AMDRSSrcExt.exe    N/A      |\n",
            "+---------------------------------------------------------------------------------------+\n"
          ]
        }
      ],
      "source": [
        "# Check GPU\n",
        "!nvidia-smi"
      ]
    },
    {
      "cell_type": "code",
      "execution_count": 7,
      "metadata": {
        "colab": {
          "base_uri": "https://localhost:8080/"
        },
        "id": "FSapZ74PU2TF",
        "outputId": "ebda7ff2-b287-4cfe-c55f-66915b486de6",
        "tags": []
      },
      "outputs": [
        {
          "data": {
            "text/plain": [
              "[PhysicalDevice(name='/physical_device:GPU:0', device_type='GPU')]"
            ]
          },
          "execution_count": 7,
          "metadata": {},
          "output_type": "execute_result"
        }
      ],
      "source": [
        "# Lis physical devices\n",
        "devices = tf.config.experimental.list_physical_devices(\"GPU\")\n",
        "devices"
      ]
    },
    {
      "cell_type": "code",
      "execution_count": 8,
      "metadata": {
        "id": "A8WtBtBaU2TG",
        "tags": []
      },
      "outputs": [
        {
          "name": "stdout",
          "output_type": "stream",
          "text": [
            "INFO:tensorflow:Using MirroredStrategy with devices ('/job:localhost/replica:0/task:0/device:GPU:0',)\n"
          ]
        }
      ],
      "source": [
        "# Define the GPU strategy\n",
        "mirrored_strategy = tf.distribute.MirroredStrategy(devices=[\"/gpu:0\"])"
      ]
    },
    {
      "attachments": {},
      "cell_type": "markdown",
      "metadata": {
        "id": "Vqr_uGTNU2TG"
      },
      "source": [
        "# Modelling Without Augmentation"
      ]
    },
    {
      "attachments": {},
      "cell_type": "markdown",
      "metadata": {
        "id": "w4Wzh6ZyU2TH"
      },
      "source": [
        "## DIY Model 1"
      ]
    },
    {
      "cell_type": "code",
      "execution_count": 9,
      "metadata": {
        "id": "uUqYGBfRU2TH",
        "tags": []
      },
      "outputs": [],
      "source": [
        "# Difine the callbacks\n",
        "# Save the best model\n",
        "checkpoint_callback = ModelCheckpoint(filepath=\"Peach_DIY_model1_Based_Augmented\", save_best_only=True, monitor=\"val_accuracy\", mode=\"max\", verbose=1)\n",
        "\n",
        "# Early stopping\n",
        "early_stopping_callback = EarlyStopping(monitor=\"val_accuracy\", mode=\"max\", patience=20, verbose=1, restore_best_weights=True)\n",
        "\n",
        "# Reduce learning rate\n",
        "reduce_lr_callback = ReduceLROnPlateau(monitor=\"val_loss\", factor=0.1, patience=5, verbose=1, mode=\"min\", min_delta=0.0001, cooldown=0, min_lr=0)\n",
        "\n",
        "# Callbacks list\n",
        "callbacks=[checkpoint_callback, early_stopping_callback, reduce_lr_callback]"
      ]
    },
    {
      "cell_type": "code",
      "execution_count": 10,
      "metadata": {
        "colab": {
          "base_uri": "https://localhost:8080/"
        },
        "id": "BQHFs3gSU2TI",
        "outputId": "f3c4e6fb-953a-4af2-86b3-744bcc8db7f3",
        "tags": []
      },
      "outputs": [
        {
          "name": "stdout",
          "output_type": "stream",
          "text": [
            "Model: \"sequential\"\n",
            "_________________________________________________________________\n",
            " Layer (type)                Output Shape              Param #   \n",
            "=================================================================\n",
            " conv2d (Conv2D)             (None, 222, 222, 32)      896       \n",
            "                                                                 \n",
            " max_pooling2d (MaxPooling2D  (None, 111, 111, 32)     0         \n",
            " )                                                               \n",
            "                                                                 \n",
            " conv2d_1 (Conv2D)           (None, 109, 109, 64)      18496     \n",
            "                                                                 \n",
            " max_pooling2d_1 (MaxPooling  (None, 54, 54, 64)       0         \n",
            " 2D)                                                             \n",
            "                                                                 \n",
            " conv2d_2 (Conv2D)           (None, 52, 52, 128)       73856     \n",
            "                                                                 \n",
            " max_pooling2d_2 (MaxPooling  (None, 26, 26, 128)      0         \n",
            " 2D)                                                             \n",
            "                                                                 \n",
            " flatten (Flatten)           (None, 86528)             0         \n",
            "                                                                 \n",
            " dense (Dense)               (None, 512)               44302848  \n",
            "                                                                 \n",
            " dropout (Dropout)           (None, 512)               0         \n",
            "                                                                 \n",
            " dense_1 (Dense)             (None, 256)               131328    \n",
            "                                                                 \n",
            " dense_2 (Dense)             (None, 2)                 514       \n",
            "                                                                 \n",
            "=================================================================\n",
            "Total params: 44,527,938\n",
            "Trainable params: 44,527,938\n",
            "Non-trainable params: 0\n",
            "_________________________________________________________________\n"
          ]
        }
      ],
      "source": [
        "# Define DIY Model\n",
        "DIY_model = tf.keras.models.Sequential([\n",
        "    # Convolutional Layers with 32 filters\n",
        "    tf.keras.layers.Conv2D(32, (3,3), activation='relu', input_shape=(224, 224, 3)),\n",
        "    # MaxPooling Layer\n",
        "    tf.keras.layers.MaxPooling2D(2,2),\n",
        "    # Convolutional Layers with 64 filters\n",
        "    tf.keras.layers.Conv2D(64, (3,3), activation='relu'),\n",
        "    # MaxPooling Layer\n",
        "    tf.keras.layers.MaxPooling2D(2,2),  \n",
        "    # Convolutional Layers with 128 filters\n",
        "    tf.keras.layers.Conv2D(128, (3,3), activation='relu'), \n",
        "    # MaxPooling Layer\n",
        "    tf.keras.layers.MaxPooling2D(2,2),  \n",
        "    # Flatten the results to feed into a DNN\n",
        "    tf.keras.layers.Flatten(),\n",
        "    # 512 neuron hidden layer\n",
        "    tf.keras.layers.Dense(512, activation='relu'),\n",
        "    # Drop Out Layer\n",
        "    tf.keras.layers.Dropout(0.2),\n",
        "    # 256 neuron hidden layer\n",
        "    tf.keras.layers.Dense(256, activation='relu'),\n",
        "    # Output\n",
        "    tf.keras.layers.Dense(2, activation='softmax') \n",
        "  ])\n",
        "\n",
        "\n",
        "# Compile Model\n",
        "DIY_model.compile(loss='categorical_crossentropy',optimizer=tf.keras.optimizers.Adam(), metrics=['accuracy']) \n",
        "\n",
        "# Model Summary\n",
        "DIY_model.summary()"
      ]
    },
    {
      "cell_type": "code",
      "execution_count": 11,
      "metadata": {
        "colab": {
          "base_uri": "https://localhost:8080/"
        },
        "id": "6coN3TKhU2TI",
        "outputId": "0af9bb85-7afd-4ec7-a783-2f3dc0091178",
        "tags": []
      },
      "outputs": [
        {
          "name": "stdout",
          "output_type": "stream",
          "text": [
            "Epoch 1/100\n",
            "179/179 [==============================] - ETA: 0s - loss: 0.2676 - accuracy: 0.9002\n",
            "Epoch 1: val_accuracy improved from -inf to 0.96521, saving model to Peach_DIY_model1_Based_Augmented\n"
          ]
        },
        {
          "name": "stderr",
          "output_type": "stream",
          "text": [
            "WARNING:absl:Found untraced functions such as _jit_compiled_convolution_op, _jit_compiled_convolution_op, _jit_compiled_convolution_op while saving (showing 3 of 3). These functions will not be directly callable after loading.\n"
          ]
        },
        {
          "name": "stdout",
          "output_type": "stream",
          "text": [
            "INFO:tensorflow:Assets written to: Peach_DIY_model1_Based_Augmented\\assets\n"
          ]
        },
        {
          "name": "stderr",
          "output_type": "stream",
          "text": [
            "INFO:tensorflow:Assets written to: Peach_DIY_model1_Based_Augmented\\assets\n"
          ]
        },
        {
          "name": "stdout",
          "output_type": "stream",
          "text": [
            "179/179 [==============================] - 29s 148ms/step - loss: 0.2676 - accuracy: 0.9002 - val_loss: 0.1061 - val_accuracy: 0.9652 - lr: 0.0010\n",
            "Epoch 2/100\n",
            "179/179 [==============================] - ETA: 0s - loss: 0.1213 - accuracy: 0.9613\n",
            "Epoch 2: val_accuracy did not improve from 0.96521\n",
            "179/179 [==============================] - 25s 139ms/step - loss: 0.1213 - accuracy: 0.9613 - val_loss: 0.1337 - val_accuracy: 0.9517 - lr: 0.0010\n",
            "Epoch 3/100\n",
            "179/179 [==============================] - ETA: 0s - loss: 0.1007 - accuracy: 0.9661\n",
            "Epoch 3: val_accuracy improved from 0.96521 to 0.97082, saving model to Peach_DIY_model1_Based_Augmented\n"
          ]
        },
        {
          "name": "stderr",
          "output_type": "stream",
          "text": [
            "WARNING:absl:Found untraced functions such as _jit_compiled_convolution_op, _jit_compiled_convolution_op, _jit_compiled_convolution_op while saving (showing 3 of 3). These functions will not be directly callable after loading.\n"
          ]
        },
        {
          "name": "stdout",
          "output_type": "stream",
          "text": [
            "INFO:tensorflow:Assets written to: Peach_DIY_model1_Based_Augmented\\assets\n"
          ]
        },
        {
          "name": "stderr",
          "output_type": "stream",
          "text": [
            "INFO:tensorflow:Assets written to: Peach_DIY_model1_Based_Augmented\\assets\n"
          ]
        },
        {
          "name": "stdout",
          "output_type": "stream",
          "text": [
            "179/179 [==============================] - 26s 144ms/step - loss: 0.1007 - accuracy: 0.9661 - val_loss: 0.0836 - val_accuracy: 0.9708 - lr: 0.0010\n",
            "Epoch 4/100\n",
            "179/179 [==============================] - ETA: 0s - loss: 0.0879 - accuracy: 0.9672\n",
            "Epoch 4: val_accuracy improved from 0.97082 to 0.97306, saving model to Peach_DIY_model1_Based_Augmented\n"
          ]
        },
        {
          "name": "stderr",
          "output_type": "stream",
          "text": [
            "WARNING:absl:Found untraced functions such as _jit_compiled_convolution_op, _jit_compiled_convolution_op, _jit_compiled_convolution_op while saving (showing 3 of 3). These functions will not be directly callable after loading.\n"
          ]
        },
        {
          "name": "stdout",
          "output_type": "stream",
          "text": [
            "INFO:tensorflow:Assets written to: Peach_DIY_model1_Based_Augmented\\assets\n"
          ]
        },
        {
          "name": "stderr",
          "output_type": "stream",
          "text": [
            "INFO:tensorflow:Assets written to: Peach_DIY_model1_Based_Augmented\\assets\n"
          ]
        },
        {
          "name": "stdout",
          "output_type": "stream",
          "text": [
            "179/179 [==============================] - 25s 140ms/step - loss: 0.0879 - accuracy: 0.9672 - val_loss: 0.1050 - val_accuracy: 0.9731 - lr: 0.0010\n",
            "Epoch 5/100\n",
            "179/179 [==============================] - ETA: 0s - loss: 0.0866 - accuracy: 0.9714\n",
            "Epoch 5: val_accuracy improved from 0.97306 to 0.98653, saving model to Peach_DIY_model1_Based_Augmented\n"
          ]
        },
        {
          "name": "stderr",
          "output_type": "stream",
          "text": [
            "WARNING:absl:Found untraced functions such as _jit_compiled_convolution_op, _jit_compiled_convolution_op, _jit_compiled_convolution_op while saving (showing 3 of 3). These functions will not be directly callable after loading.\n"
          ]
        },
        {
          "name": "stdout",
          "output_type": "stream",
          "text": [
            "INFO:tensorflow:Assets written to: Peach_DIY_model1_Based_Augmented\\assets\n"
          ]
        },
        {
          "name": "stderr",
          "output_type": "stream",
          "text": [
            "INFO:tensorflow:Assets written to: Peach_DIY_model1_Based_Augmented\\assets\n"
          ]
        },
        {
          "name": "stdout",
          "output_type": "stream",
          "text": [
            "179/179 [==============================] - 25s 141ms/step - loss: 0.0866 - accuracy: 0.9714 - val_loss: 0.0674 - val_accuracy: 0.9865 - lr: 0.0010\n",
            "Epoch 6/100\n",
            "179/179 [==============================] - ETA: 0s - loss: 0.0791 - accuracy: 0.9745\n",
            "Epoch 6: val_accuracy did not improve from 0.98653\n",
            "179/179 [==============================] - 25s 139ms/step - loss: 0.0791 - accuracy: 0.9745 - val_loss: 0.0550 - val_accuracy: 0.9865 - lr: 0.0010\n",
            "Epoch 7/100\n",
            "179/179 [==============================] - ETA: 0s - loss: 0.0651 - accuracy: 0.9787\n",
            "Epoch 7: val_accuracy did not improve from 0.98653\n",
            "179/179 [==============================] - 25s 139ms/step - loss: 0.0651 - accuracy: 0.9787 - val_loss: 0.1150 - val_accuracy: 0.9652 - lr: 0.0010\n",
            "Epoch 8/100\n",
            "179/179 [==============================] - ETA: 0s - loss: 0.0580 - accuracy: 0.9818\n",
            "Epoch 8: val_accuracy improved from 0.98653 to 0.98878, saving model to Peach_DIY_model1_Based_Augmented\n"
          ]
        },
        {
          "name": "stderr",
          "output_type": "stream",
          "text": [
            "WARNING:absl:Found untraced functions such as _jit_compiled_convolution_op, _jit_compiled_convolution_op, _jit_compiled_convolution_op while saving (showing 3 of 3). These functions will not be directly callable after loading.\n"
          ]
        },
        {
          "name": "stdout",
          "output_type": "stream",
          "text": [
            "INFO:tensorflow:Assets written to: Peach_DIY_model1_Based_Augmented\\assets\n"
          ]
        },
        {
          "name": "stderr",
          "output_type": "stream",
          "text": [
            "INFO:tensorflow:Assets written to: Peach_DIY_model1_Based_Augmented\\assets\n"
          ]
        },
        {
          "name": "stdout",
          "output_type": "stream",
          "text": [
            "179/179 [==============================] - 26s 147ms/step - loss: 0.0580 - accuracy: 0.9818 - val_loss: 0.0348 - val_accuracy: 0.9888 - lr: 0.0010\n",
            "Epoch 9/100\n",
            "179/179 [==============================] - ETA: 0s - loss: 0.0775 - accuracy: 0.9725\n",
            "Epoch 9: val_accuracy did not improve from 0.98878\n",
            "179/179 [==============================] - 25s 139ms/step - loss: 0.0775 - accuracy: 0.9725 - val_loss: 0.0750 - val_accuracy: 0.9719 - lr: 0.0010\n",
            "Epoch 10/100\n",
            "179/179 [==============================] - ETA: 0s - loss: 0.0817 - accuracy: 0.9736\n",
            "Epoch 10: val_accuracy did not improve from 0.98878\n",
            "179/179 [==============================] - 26s 145ms/step - loss: 0.0817 - accuracy: 0.9736 - val_loss: 0.0930 - val_accuracy: 0.9697 - lr: 0.0010\n",
            "Epoch 11/100\n",
            "179/179 [==============================] - ETA: 0s - loss: 0.1182 - accuracy: 0.9619\n",
            "Epoch 11: val_accuracy did not improve from 0.98878\n",
            "179/179 [==============================] - 40s 224ms/step - loss: 0.1182 - accuracy: 0.9619 - val_loss: 0.2539 - val_accuracy: 0.9484 - lr: 0.0010\n",
            "Epoch 12/100\n",
            "179/179 [==============================] - ETA: 0s - loss: 0.0980 - accuracy: 0.9697\n",
            "Epoch 12: val_accuracy did not improve from 0.98878\n",
            "179/179 [==============================] - 28s 154ms/step - loss: 0.0980 - accuracy: 0.9697 - val_loss: 0.1139 - val_accuracy: 0.9562 - lr: 0.0010\n",
            "Epoch 13/100\n",
            "179/179 [==============================] - ETA: 0s - loss: 0.0730 - accuracy: 0.9739\n",
            "Epoch 13: val_accuracy did not improve from 0.98878\n",
            "\n",
            "Epoch 13: ReduceLROnPlateau reducing learning rate to 0.00010000000474974513.\n",
            "179/179 [==============================] - 25s 141ms/step - loss: 0.0730 - accuracy: 0.9739 - val_loss: 0.1216 - val_accuracy: 0.9618 - lr: 0.0010\n",
            "Epoch 14/100\n",
            "179/179 [==============================] - ETA: 0s - loss: 0.0510 - accuracy: 0.9826\n",
            "Epoch 14: val_accuracy did not improve from 0.98878\n",
            "179/179 [==============================] - 24s 136ms/step - loss: 0.0510 - accuracy: 0.9826 - val_loss: 0.0420 - val_accuracy: 0.9888 - lr: 1.0000e-04\n",
            "Epoch 15/100\n",
            "179/179 [==============================] - ETA: 0s - loss: 0.0433 - accuracy: 0.9851\n",
            "Epoch 15: val_accuracy improved from 0.98878 to 0.99102, saving model to Peach_DIY_model1_Based_Augmented\n"
          ]
        },
        {
          "name": "stderr",
          "output_type": "stream",
          "text": [
            "WARNING:absl:Found untraced functions such as _jit_compiled_convolution_op, _jit_compiled_convolution_op, _jit_compiled_convolution_op while saving (showing 3 of 3). These functions will not be directly callable after loading.\n"
          ]
        },
        {
          "name": "stdout",
          "output_type": "stream",
          "text": [
            "INFO:tensorflow:Assets written to: Peach_DIY_model1_Based_Augmented\\assets\n"
          ]
        },
        {
          "name": "stderr",
          "output_type": "stream",
          "text": [
            "INFO:tensorflow:Assets written to: Peach_DIY_model1_Based_Augmented\\assets\n"
          ]
        },
        {
          "name": "stdout",
          "output_type": "stream",
          "text": [
            "179/179 [==============================] - 27s 150ms/step - loss: 0.0433 - accuracy: 0.9851 - val_loss: 0.0362 - val_accuracy: 0.9910 - lr: 1.0000e-04\n",
            "Epoch 16/100\n",
            "179/179 [==============================] - ETA: 0s - loss: 0.0423 - accuracy: 0.9846\n",
            "Epoch 16: val_accuracy did not improve from 0.99102\n",
            "179/179 [==============================] - 26s 147ms/step - loss: 0.0423 - accuracy: 0.9846 - val_loss: 0.0392 - val_accuracy: 0.9899 - lr: 1.0000e-04\n",
            "Epoch 17/100\n",
            "179/179 [==============================] - ETA: 0s - loss: 0.0352 - accuracy: 0.9857\n",
            "Epoch 17: val_accuracy did not improve from 0.99102\n",
            "179/179 [==============================] - 28s 158ms/step - loss: 0.0352 - accuracy: 0.9857 - val_loss: 0.0293 - val_accuracy: 0.9910 - lr: 1.0000e-04\n",
            "Epoch 18/100\n",
            "179/179 [==============================] - ETA: 0s - loss: 0.0285 - accuracy: 0.9888\n",
            "Epoch 18: val_accuracy improved from 0.99102 to 0.99439, saving model to Peach_DIY_model1_Based_Augmented\n"
          ]
        },
        {
          "name": "stderr",
          "output_type": "stream",
          "text": [
            "WARNING:absl:Found untraced functions such as _jit_compiled_convolution_op, _jit_compiled_convolution_op, _jit_compiled_convolution_op while saving (showing 3 of 3). These functions will not be directly callable after loading.\n"
          ]
        },
        {
          "name": "stdout",
          "output_type": "stream",
          "text": [
            "INFO:tensorflow:Assets written to: Peach_DIY_model1_Based_Augmented\\assets\n"
          ]
        },
        {
          "name": "stderr",
          "output_type": "stream",
          "text": [
            "INFO:tensorflow:Assets written to: Peach_DIY_model1_Based_Augmented\\assets\n"
          ]
        },
        {
          "name": "stdout",
          "output_type": "stream",
          "text": [
            "179/179 [==============================] - 29s 161ms/step - loss: 0.0285 - accuracy: 0.9888 - val_loss: 0.0334 - val_accuracy: 0.9944 - lr: 1.0000e-04\n",
            "Epoch 19/100\n",
            "179/179 [==============================] - ETA: 0s - loss: 0.0241 - accuracy: 0.9899\n",
            "Epoch 19: val_accuracy did not improve from 0.99439\n",
            "179/179 [==============================] - 27s 153ms/step - loss: 0.0241 - accuracy: 0.9899 - val_loss: 0.0373 - val_accuracy: 0.9865 - lr: 1.0000e-04\n",
            "Epoch 20/100\n",
            "179/179 [==============================] - ETA: 0s - loss: 0.0309 - accuracy: 0.9877\n",
            "Epoch 20: val_accuracy did not improve from 0.99439\n",
            "179/179 [==============================] - 38s 212ms/step - loss: 0.0309 - accuracy: 0.9877 - val_loss: 0.0316 - val_accuracy: 0.9888 - lr: 1.0000e-04\n",
            "Epoch 21/100\n",
            "179/179 [==============================] - ETA: 0s - loss: 0.0258 - accuracy: 0.9913\n",
            "Epoch 21: val_accuracy did not improve from 0.99439\n",
            "179/179 [==============================] - 33s 182ms/step - loss: 0.0258 - accuracy: 0.9913 - val_loss: 0.0529 - val_accuracy: 0.9787 - lr: 1.0000e-04\n",
            "Epoch 22/100\n",
            "179/179 [==============================] - ETA: 0s - loss: 0.0270 - accuracy: 0.9905\n",
            "Epoch 22: val_accuracy did not improve from 0.99439\n",
            "\n",
            "Epoch 22: ReduceLROnPlateau reducing learning rate to 1.0000000474974514e-05.\n",
            "179/179 [==============================] - 26s 143ms/step - loss: 0.0270 - accuracy: 0.9905 - val_loss: 0.0447 - val_accuracy: 0.9820 - lr: 1.0000e-04\n",
            "Epoch 23/100\n",
            "179/179 [==============================] - ETA: 0s - loss: 0.0236 - accuracy: 0.9910\n",
            "Epoch 23: val_accuracy did not improve from 0.99439\n",
            "179/179 [==============================] - 26s 145ms/step - loss: 0.0236 - accuracy: 0.9910 - val_loss: 0.0318 - val_accuracy: 0.9877 - lr: 1.0000e-05\n",
            "Epoch 24/100\n",
            "179/179 [==============================] - ETA: 0s - loss: 0.0211 - accuracy: 0.9924\n",
            "Epoch 24: val_accuracy did not improve from 0.99439\n",
            "179/179 [==============================] - 26s 144ms/step - loss: 0.0211 - accuracy: 0.9924 - val_loss: 0.0353 - val_accuracy: 0.9865 - lr: 1.0000e-05\n",
            "Epoch 25/100\n",
            "179/179 [==============================] - ETA: 0s - loss: 0.0228 - accuracy: 0.9910\n",
            "Epoch 25: val_accuracy did not improve from 0.99439\n",
            "179/179 [==============================] - 26s 144ms/step - loss: 0.0228 - accuracy: 0.9910 - val_loss: 0.0279 - val_accuracy: 0.9910 - lr: 1.0000e-05\n",
            "Epoch 26/100\n",
            "179/179 [==============================] - ETA: 0s - loss: 0.0248 - accuracy: 0.9902\n",
            "Epoch 26: val_accuracy did not improve from 0.99439\n",
            "179/179 [==============================] - 26s 146ms/step - loss: 0.0248 - accuracy: 0.9902 - val_loss: 0.0322 - val_accuracy: 0.9877 - lr: 1.0000e-05\n",
            "Epoch 27/100\n",
            "179/179 [==============================] - ETA: 0s - loss: 0.0201 - accuracy: 0.9910\n",
            "Epoch 27: val_accuracy did not improve from 0.99439\n",
            "179/179 [==============================] - 26s 143ms/step - loss: 0.0201 - accuracy: 0.9910 - val_loss: 0.0329 - val_accuracy: 0.9854 - lr: 1.0000e-05\n",
            "Epoch 28/100\n",
            "179/179 [==============================] - ETA: 0s - loss: 0.0232 - accuracy: 0.9916\n",
            "Epoch 28: val_accuracy did not improve from 0.99439\n",
            "179/179 [==============================] - 25s 138ms/step - loss: 0.0232 - accuracy: 0.9916 - val_loss: 0.0339 - val_accuracy: 0.9865 - lr: 1.0000e-05\n",
            "Epoch 29/100\n",
            "179/179 [==============================] - ETA: 0s - loss: 0.0205 - accuracy: 0.9913\n",
            "Epoch 29: val_accuracy did not improve from 0.99439\n",
            "179/179 [==============================] - 25s 142ms/step - loss: 0.0205 - accuracy: 0.9913 - val_loss: 0.0329 - val_accuracy: 0.9865 - lr: 1.0000e-05\n",
            "Epoch 30/100\n",
            "179/179 [==============================] - ETA: 0s - loss: 0.0236 - accuracy: 0.9916\n",
            "Epoch 30: val_accuracy did not improve from 0.99439\n",
            "\n",
            "Epoch 30: ReduceLROnPlateau reducing learning rate to 1.0000000656873453e-06.\n",
            "179/179 [==============================] - 25s 140ms/step - loss: 0.0236 - accuracy: 0.9916 - val_loss: 0.0294 - val_accuracy: 0.9899 - lr: 1.0000e-05\n",
            "Epoch 31/100\n",
            "179/179 [==============================] - ETA: 0s - loss: 0.0217 - accuracy: 0.9933\n",
            "Epoch 31: val_accuracy did not improve from 0.99439\n",
            "179/179 [==============================] - 25s 141ms/step - loss: 0.0217 - accuracy: 0.9933 - val_loss: 0.0301 - val_accuracy: 0.9899 - lr: 1.0000e-06\n",
            "Epoch 32/100\n",
            "179/179 [==============================] - ETA: 0s - loss: 0.0210 - accuracy: 0.9927\n",
            "Epoch 32: val_accuracy did not improve from 0.99439\n",
            "179/179 [==============================] - 25s 142ms/step - loss: 0.0210 - accuracy: 0.9927 - val_loss: 0.0300 - val_accuracy: 0.9899 - lr: 1.0000e-06\n",
            "Epoch 33/100\n",
            "179/179 [==============================] - ETA: 0s - loss: 0.0185 - accuracy: 0.9921\n",
            "Epoch 33: val_accuracy did not improve from 0.99439\n",
            "179/179 [==============================] - 26s 142ms/step - loss: 0.0185 - accuracy: 0.9921 - val_loss: 0.0303 - val_accuracy: 0.9877 - lr: 1.0000e-06\n",
            "Epoch 34/100\n",
            "179/179 [==============================] - ETA: 0s - loss: 0.0184 - accuracy: 0.9930\n",
            "Epoch 34: val_accuracy did not improve from 0.99439\n",
            "179/179 [==============================] - 25s 142ms/step - loss: 0.0184 - accuracy: 0.9930 - val_loss: 0.0307 - val_accuracy: 0.9877 - lr: 1.0000e-06\n",
            "Epoch 35/100\n",
            "179/179 [==============================] - ETA: 0s - loss: 0.0202 - accuracy: 0.9933\n",
            "Epoch 35: val_accuracy did not improve from 0.99439\n",
            "\n",
            "Epoch 35: ReduceLROnPlateau reducing learning rate to 1.0000001111620805e-07.\n",
            "179/179 [==============================] - 26s 148ms/step - loss: 0.0202 - accuracy: 0.9933 - val_loss: 0.0310 - val_accuracy: 0.9877 - lr: 1.0000e-06\n",
            "Epoch 36/100\n",
            "179/179 [==============================] - ETA: 0s - loss: 0.0182 - accuracy: 0.9924\n",
            "Epoch 36: val_accuracy did not improve from 0.99439\n",
            "179/179 [==============================] - 25s 141ms/step - loss: 0.0182 - accuracy: 0.9924 - val_loss: 0.0310 - val_accuracy: 0.9877 - lr: 1.0000e-07\n",
            "Epoch 37/100\n",
            "179/179 [==============================] - ETA: 0s - loss: 0.0200 - accuracy: 0.9919\n",
            "Epoch 37: val_accuracy did not improve from 0.99439\n",
            "179/179 [==============================] - 26s 146ms/step - loss: 0.0200 - accuracy: 0.9919 - val_loss: 0.0311 - val_accuracy: 0.9865 - lr: 1.0000e-07\n",
            "Epoch 38/100\n",
            "179/179 [==============================] - ETA: 0s - loss: 0.0199 - accuracy: 0.9924\n",
            "Epoch 38: val_accuracy did not improve from 0.99439\n",
            "Restoring model weights from the end of the best epoch: 18.\n",
            "179/179 [==============================] - 25s 142ms/step - loss: 0.0199 - accuracy: 0.9924 - val_loss: 0.0311 - val_accuracy: 0.9865 - lr: 1.0000e-07\n",
            "Epoch 38: early stopping\n"
          ]
        }
      ],
      "source": [
        "# Define the number of epochs\n",
        "num_epochs = 100\n",
        "\n",
        "# Train the model\n",
        "history_DIY_model = DIY_model.fit(train_generator, epochs=num_epochs, validation_data=validation_generator, callbacks=callbacks)"
      ]
    },
    {
      "cell_type": "code",
      "execution_count": 12,
      "metadata": {
        "colab": {
          "base_uri": "https://localhost:8080/",
          "height": 904
        },
        "id": "lvS9xz3LU2TI",
        "outputId": "cff784e5-04e7-4c82-ae6f-d35375dce673",
        "tags": []
      },
      "outputs": [
        {
          "data": {
            "text/plain": [
              "<matplotlib.legend.Legend at 0x17e73088dc0>"
            ]
          },
          "execution_count": 12,
          "metadata": {},
          "output_type": "execute_result"
        },
        {
          "data": {
            "image/png": "[encoded data removed]",
            "text/plain": [
              "<Figure size 640x480 with 1 Axes>"
            ]
          },
          "metadata": {},
          "output_type": "display_data"
        },
        {
          "data": {
            "image/png": "[encoded data removed]",
            "text/plain": [
              "<Figure size 640x480 with 1 Axes>"
            ]
          },
          "metadata": {},
          "output_type": "display_data"
        }
      ],
      "source": [
        "#-----------------------------------------------------------\n",
        "# Retrieve a list of list results on training and test data\n",
        "# sets for each training epoch\n",
        "#-----------------------------------------------------------\n",
        "acc      = history_DIY_model.history['accuracy' ]\n",
        "val_acc  = history_DIY_model.history['val_accuracy' ]\n",
        "loss     = history_DIY_model.history['loss' ]\n",
        "val_loss = history_DIY_model.history['val_loss' ]\n",
        "\n",
        "epochs   = range(len(acc)) # Get number of epochs\n",
        "\n",
        "#------------------------------------------------\n",
        "# Plot training and validation accuracy per epoch\n",
        "#------------------------------------------------\n",
        "plt.plot  (epochs, acc )\n",
        "plt.plot  (epochs, val_acc )\n",
        "plt.title ('Training and validation accuracy DIY Model 1')\n",
        "plt.legend(['train', 'val'], loc='upper left')\n",
        "plt.figure()\n",
        "\n",
        "#------------------------------------------------\n",
        "# Plot training and validation loss per epoch\n",
        "#------------------------------------------------\n",
        "plt.plot  (epochs, loss)\n",
        "plt.plot  (epochs, val_loss)\n",
        "plt.title ('Training and validation loss DIY Model 1')\n",
        "plt.legend(['train', 'val'], loc='upper left')"
      ]
    },
    {
      "attachments": {},
      "cell_type": "markdown",
      "metadata": {
        "id": "SvQOR9IuU2TJ"
      },
      "source": [
        "## DIY Model 2"
      ]
    },
    {
      "cell_type": "code",
      "execution_count": 13,
      "metadata": {
        "id": "Tj7lcdvUU2TJ",
        "tags": []
      },
      "outputs": [],
      "source": [
        "# Difine the callbacks\n",
        "# Save the best model\n",
        "checkpoint_callback = ModelCheckpoint(filepath=\"Peach_DIY_model2_Based_Augmented\", save_best_only=True, monitor=\"val_accuracy\", mode=\"max\", verbose=1)\n",
        "\n",
        "# Early stopping\n",
        "early_stopping_callback = EarlyStopping(monitor=\"val_accuracy\", mode=\"max\", patience=20, verbose=1, restore_best_weights=True)\n",
        "\n",
        "# Reduce learning rate\n",
        "reduce_lr_callback = ReduceLROnPlateau(monitor=\"val_loss\", factor=0.1, patience=5, verbose=1, mode=\"min\", min_delta=0.0001, cooldown=0, min_lr=0)\n",
        "\n",
        "# Callbacks list\n",
        "callbacks=[checkpoint_callback, early_stopping_callback, reduce_lr_callback]"
      ]
    },
    {
      "cell_type": "code",
      "execution_count": 14,
      "metadata": {
        "colab": {
          "base_uri": "https://localhost:8080/"
        },
        "id": "7NKPY1xGU2TJ",
        "outputId": "4d30515b-0f6f-405d-bfd2-2a1edda06595",
        "tags": []
      },
      "outputs": [
        {
          "name": "stdout",
          "output_type": "stream",
          "text": [
            "Model: \"sequential_1\"\n",
            "_________________________________________________________________\n",
            " Layer (type)                Output Shape              Param #   \n",
            "=================================================================\n",
            " conv2d_3 (Conv2D)           (None, 222, 222, 32)      896       \n",
            "                                                                 \n",
            " max_pooling2d_3 (MaxPooling  (None, 111, 111, 32)     0         \n",
            " 2D)                                                             \n",
            "                                                                 \n",
            " conv2d_4 (Conv2D)           (None, 109, 109, 64)      18496     \n",
            "                                                                 \n",
            " max_pooling2d_4 (MaxPooling  (None, 54, 54, 64)       0         \n",
            " 2D)                                                             \n",
            "                                                                 \n",
            " conv2d_5 (Conv2D)           (None, 52, 52, 128)       73856     \n",
            "                                                                 \n",
            " max_pooling2d_5 (MaxPooling  (None, 26, 26, 128)      0         \n",
            " 2D)                                                             \n",
            "                                                                 \n",
            " flatten_1 (Flatten)         (None, 86528)             0         \n",
            "                                                                 \n",
            " dense_3 (Dense)             (None, 1024)              88605696  \n",
            "                                                                 \n",
            " dense_4 (Dense)             (None, 512)               524800    \n",
            "                                                                 \n",
            " dropout_1 (Dropout)         (None, 512)               0         \n",
            "                                                                 \n",
            " dense_5 (Dense)             (None, 256)               131328    \n",
            "                                                                 \n",
            " dense_6 (Dense)             (None, 2)                 514       \n",
            "                                                                 \n",
            "=================================================================\n",
            "Total params: 89,355,586\n",
            "Trainable params: 89,355,586\n",
            "Non-trainable params: 0\n",
            "_________________________________________________________________\n"
          ]
        }
      ],
      "source": [
        "# Define DIY Model\n",
        "DIY_model_2 = tf.keras.models.Sequential([\n",
        "    # Convolutional Layers with 32 filters\n",
        "    tf.keras.layers.Conv2D(32, (3,3), activation='relu', input_shape=(224, 224, 3)),\n",
        "    # MaxPooling Layer\n",
        "    tf.keras.layers.MaxPooling2D(2,2),\n",
        "    # Convolutional Layers with 64 filters\n",
        "    tf.keras.layers.Conv2D(64, (3,3), activation='relu'),\n",
        "    # MaxPooling Layer\n",
        "    tf.keras.layers.MaxPooling2D(2,2),  \n",
        "    # Convolutional Layers with 128 filters\n",
        "    tf.keras.layers.Conv2D(128, (3,3), activation='relu'), \n",
        "    # MaxPooling Layer\n",
        "    tf.keras.layers.MaxPooling2D(2,2),  \n",
        "    # Flatten the results to feed into a DNN\n",
        "    tf.keras.layers.Flatten(),\n",
        "    # 1024 neuron hidden layer\n",
        "    tf.keras.layers.Dense(1024, activation='relu'),\n",
        "    # 512 neuron hidden layer\n",
        "    tf.keras.layers.Dense(512, activation='relu'),\n",
        "    # Drop Out Layer\n",
        "    tf.keras.layers.Dropout(0.2),\n",
        "    # 256 neuron hidden layer\n",
        "    tf.keras.layers.Dense(256, activation='relu'),\n",
        "    # Output\n",
        "    tf.keras.layers.Dense(2, activation='softmax') \n",
        "  ])\n",
        "\n",
        "\n",
        "# Compile Model\n",
        "DIY_model_2.compile(loss='categorical_crossentropy',optimizer=tf.keras.optimizers.Adam(), metrics=['accuracy']) \n",
        "\n",
        "# Model Summary\n",
        "DIY_model_2.summary()"
      ]
    },
    {
      "cell_type": "code",
      "execution_count": 15,
      "metadata": {
        "colab": {
          "base_uri": "https://localhost:8080/"
        },
        "id": "6beuexC9U2TJ",
        "outputId": "6567f6d2-a952-4a94-9d37-52702333b342",
        "tags": []
      },
      "outputs": [
        {
          "name": "stdout",
          "output_type": "stream",
          "text": [
            "Epoch 1/100\n",
            "179/179 [==============================] - ETA: 0s - loss: 0.2851 - accuracy: 0.9019\n",
            "Epoch 1: val_accuracy improved from -inf to 0.94613, saving model to Peach_DIY_model2_Based_Augmented\n"
          ]
        },
        {
          "name": "stderr",
          "output_type": "stream",
          "text": [
            "WARNING:absl:Found untraced functions such as _jit_compiled_convolution_op, _jit_compiled_convolution_op, _jit_compiled_convolution_op while saving (showing 3 of 3). These functions will not be directly callable after loading.\n"
          ]
        },
        {
          "name": "stdout",
          "output_type": "stream",
          "text": [
            "INFO:tensorflow:Assets written to: Peach_DIY_model2_Based_Augmented\\assets\n"
          ]
        },
        {
          "name": "stderr",
          "output_type": "stream",
          "text": [
            "INFO:tensorflow:Assets written to: Peach_DIY_model2_Based_Augmented\\assets\n"
          ]
        },
        {
          "name": "stdout",
          "output_type": "stream",
          "text": [
            "179/179 [==============================] - 29s 157ms/step - loss: 0.2851 - accuracy: 0.9019 - val_loss: 0.2616 - val_accuracy: 0.9461 - lr: 0.0010\n",
            "Epoch 2/100\n",
            "179/179 [==============================] - ETA: 0s - loss: 0.1340 - accuracy: 0.9568\n",
            "Epoch 2: val_accuracy did not improve from 0.94613\n",
            "179/179 [==============================] - 24s 136ms/step - loss: 0.1340 - accuracy: 0.9568 - val_loss: 0.2468 - val_accuracy: 0.9068 - lr: 0.0010\n",
            "Epoch 3/100\n",
            "179/179 [==============================] - ETA: 0s - loss: 0.1156 - accuracy: 0.9613\n",
            "Epoch 3: val_accuracy improved from 0.94613 to 0.97194, saving model to Peach_DIY_model2_Based_Augmented\n"
          ]
        },
        {
          "name": "stderr",
          "output_type": "stream",
          "text": [
            "WARNING:absl:Found untraced functions such as _jit_compiled_convolution_op, _jit_compiled_convolution_op, _jit_compiled_convolution_op while saving (showing 3 of 3). These functions will not be directly callable after loading.\n"
          ]
        },
        {
          "name": "stdout",
          "output_type": "stream",
          "text": [
            "INFO:tensorflow:Assets written to: Peach_DIY_model2_Based_Augmented\\assets\n"
          ]
        },
        {
          "name": "stderr",
          "output_type": "stream",
          "text": [
            "INFO:tensorflow:Assets written to: Peach_DIY_model2_Based_Augmented\\assets\n"
          ]
        },
        {
          "name": "stdout",
          "output_type": "stream",
          "text": [
            "179/179 [==============================] - 28s 155ms/step - loss: 0.1156 - accuracy: 0.9613 - val_loss: 0.0926 - val_accuracy: 0.9719 - lr: 0.0010\n",
            "Epoch 4/100\n",
            "179/179 [==============================] - ETA: 0s - loss: 0.0965 - accuracy: 0.9658\n",
            "Epoch 4: val_accuracy improved from 0.97194 to 0.97755, saving model to Peach_DIY_model2_Based_Augmented\n"
          ]
        },
        {
          "name": "stderr",
          "output_type": "stream",
          "text": [
            "WARNING:absl:Found untraced functions such as _jit_compiled_convolution_op, _jit_compiled_convolution_op, _jit_compiled_convolution_op while saving (showing 3 of 3). These functions will not be directly callable after loading.\n"
          ]
        },
        {
          "name": "stdout",
          "output_type": "stream",
          "text": [
            "INFO:tensorflow:Assets written to: Peach_DIY_model2_Based_Augmented\\assets\n"
          ]
        },
        {
          "name": "stderr",
          "output_type": "stream",
          "text": [
            "INFO:tensorflow:Assets written to: Peach_DIY_model2_Based_Augmented\\assets\n"
          ]
        },
        {
          "name": "stdout",
          "output_type": "stream",
          "text": [
            "179/179 [==============================] - 27s 153ms/step - loss: 0.0965 - accuracy: 0.9658 - val_loss: 0.0809 - val_accuracy: 0.9776 - lr: 0.0010\n",
            "Epoch 5/100\n",
            "179/179 [==============================] - ETA: 0s - loss: 0.1025 - accuracy: 0.9692\n",
            "Epoch 5: val_accuracy improved from 0.97755 to 0.98204, saving model to Peach_DIY_model2_Based_Augmented\n"
          ]
        },
        {
          "name": "stderr",
          "output_type": "stream",
          "text": [
            "WARNING:absl:Found untraced functions such as _jit_compiled_convolution_op, _jit_compiled_convolution_op, _jit_compiled_convolution_op while saving (showing 3 of 3). These functions will not be directly callable after loading.\n"
          ]
        },
        {
          "name": "stdout",
          "output_type": "stream",
          "text": [
            "INFO:tensorflow:Assets written to: Peach_DIY_model2_Based_Augmented\\assets\n"
          ]
        },
        {
          "name": "stderr",
          "output_type": "stream",
          "text": [
            "INFO:tensorflow:Assets written to: Peach_DIY_model2_Based_Augmented\\assets\n"
          ]
        },
        {
          "name": "stdout",
          "output_type": "stream",
          "text": [
            "179/179 [==============================] - 29s 163ms/step - loss: 0.1025 - accuracy: 0.9692 - val_loss: 0.0604 - val_accuracy: 0.9820 - lr: 0.0010\n",
            "Epoch 6/100\n",
            "179/179 [==============================] - ETA: 0s - loss: 0.1043 - accuracy: 0.9644\n",
            "Epoch 6: val_accuracy did not improve from 0.98204\n",
            "179/179 [==============================] - 25s 137ms/step - loss: 0.1043 - accuracy: 0.9644 - val_loss: 0.0911 - val_accuracy: 0.9787 - lr: 0.0010\n",
            "Epoch 7/100\n",
            "179/179 [==============================] - ETA: 0s - loss: 0.0779 - accuracy: 0.9717\n",
            "Epoch 7: val_accuracy improved from 0.98204 to 0.98541, saving model to Peach_DIY_model2_Based_Augmented\n"
          ]
        },
        {
          "name": "stderr",
          "output_type": "stream",
          "text": [
            "WARNING:absl:Found untraced functions such as _jit_compiled_convolution_op, _jit_compiled_convolution_op, _jit_compiled_convolution_op while saving (showing 3 of 3). These functions will not be directly callable after loading.\n"
          ]
        },
        {
          "name": "stdout",
          "output_type": "stream",
          "text": [
            "INFO:tensorflow:Assets written to: Peach_DIY_model2_Based_Augmented\\assets\n"
          ]
        },
        {
          "name": "stderr",
          "output_type": "stream",
          "text": [
            "INFO:tensorflow:Assets written to: Peach_DIY_model2_Based_Augmented\\assets\n"
          ]
        },
        {
          "name": "stdout",
          "output_type": "stream",
          "text": [
            "179/179 [==============================] - 29s 164ms/step - loss: 0.0779 - accuracy: 0.9717 - val_loss: 0.0617 - val_accuracy: 0.9854 - lr: 0.0010\n",
            "Epoch 8/100\n",
            "179/179 [==============================] - ETA: 0s - loss: 0.0768 - accuracy: 0.9734\n",
            "Epoch 8: val_accuracy did not improve from 0.98541\n",
            "179/179 [==============================] - 25s 137ms/step - loss: 0.0768 - accuracy: 0.9734 - val_loss: 0.1245 - val_accuracy: 0.9585 - lr: 0.0010\n",
            "Epoch 9/100\n",
            "179/179 [==============================] - ETA: 0s - loss: 0.0536 - accuracy: 0.9809\n",
            "Epoch 9: val_accuracy did not improve from 0.98541\n",
            "179/179 [==============================] - 25s 137ms/step - loss: 0.0536 - accuracy: 0.9809 - val_loss: 0.0571 - val_accuracy: 0.9798 - lr: 0.0010\n",
            "Epoch 10/100\n",
            "179/179 [==============================] - ETA: 0s - loss: 0.0590 - accuracy: 0.9804\n",
            "Epoch 10: val_accuracy did not improve from 0.98541\n",
            "179/179 [==============================] - 24s 136ms/step - loss: 0.0590 - accuracy: 0.9804 - val_loss: 0.0558 - val_accuracy: 0.9820 - lr: 0.0010\n",
            "Epoch 11/100\n",
            "179/179 [==============================] - ETA: 0s - loss: 0.0553 - accuracy: 0.9837\n",
            "Epoch 11: val_accuracy did not improve from 0.98541\n",
            "179/179 [==============================] - 25s 137ms/step - loss: 0.0553 - accuracy: 0.9837 - val_loss: 0.0784 - val_accuracy: 0.9787 - lr: 0.0010\n",
            "Epoch 12/100\n",
            "179/179 [==============================] - ETA: 0s - loss: 0.0519 - accuracy: 0.9815\n",
            "Epoch 12: val_accuracy did not improve from 0.98541\n",
            "179/179 [==============================] - 25s 139ms/step - loss: 0.0519 - accuracy: 0.9815 - val_loss: 0.0529 - val_accuracy: 0.9798 - lr: 0.0010\n",
            "Epoch 13/100\n",
            "179/179 [==============================] - ETA: 0s - loss: 0.0651 - accuracy: 0.9773\n",
            "Epoch 13: val_accuracy improved from 0.98541 to 0.98878, saving model to Peach_DIY_model2_Based_Augmented\n"
          ]
        },
        {
          "name": "stderr",
          "output_type": "stream",
          "text": [
            "WARNING:absl:Found untraced functions such as _jit_compiled_convolution_op, _jit_compiled_convolution_op, _jit_compiled_convolution_op while saving (showing 3 of 3). These functions will not be directly callable after loading.\n"
          ]
        },
        {
          "name": "stdout",
          "output_type": "stream",
          "text": [
            "INFO:tensorflow:Assets written to: Peach_DIY_model2_Based_Augmented\\assets\n"
          ]
        },
        {
          "name": "stderr",
          "output_type": "stream",
          "text": [
            "INFO:tensorflow:Assets written to: Peach_DIY_model2_Based_Augmented\\assets\n"
          ]
        },
        {
          "name": "stdout",
          "output_type": "stream",
          "text": [
            "179/179 [==============================] - 30s 169ms/step - loss: 0.0651 - accuracy: 0.9773 - val_loss: 0.0493 - val_accuracy: 0.9888 - lr: 0.0010\n",
            "Epoch 14/100\n",
            "179/179 [==============================] - ETA: 0s - loss: 0.0527 - accuracy: 0.9787\n",
            "Epoch 14: val_accuracy improved from 0.98878 to 0.99327, saving model to Peach_DIY_model2_Based_Augmented\n"
          ]
        },
        {
          "name": "stderr",
          "output_type": "stream",
          "text": [
            "WARNING:absl:Found untraced functions such as _jit_compiled_convolution_op, _jit_compiled_convolution_op, _jit_compiled_convolution_op while saving (showing 3 of 3). These functions will not be directly callable after loading.\n"
          ]
        },
        {
          "name": "stdout",
          "output_type": "stream",
          "text": [
            "INFO:tensorflow:Assets written to: Peach_DIY_model2_Based_Augmented\\assets\n"
          ]
        },
        {
          "name": "stderr",
          "output_type": "stream",
          "text": [
            "INFO:tensorflow:Assets written to: Peach_DIY_model2_Based_Augmented\\assets\n"
          ]
        },
        {
          "name": "stdout",
          "output_type": "stream",
          "text": [
            "179/179 [==============================] - 31s 172ms/step - loss: 0.0527 - accuracy: 0.9787 - val_loss: 0.0318 - val_accuracy: 0.9933 - lr: 0.0010\n",
            "Epoch 15/100\n",
            "179/179 [==============================] - ETA: 0s - loss: 0.0572 - accuracy: 0.9801\n",
            "Epoch 15: val_accuracy did not improve from 0.99327\n",
            "179/179 [==============================] - 25s 138ms/step - loss: 0.0572 - accuracy: 0.9801 - val_loss: 0.0625 - val_accuracy: 0.9753 - lr: 0.0010\n",
            "Epoch 16/100\n",
            "179/179 [==============================] - ETA: 0s - loss: 0.0461 - accuracy: 0.9821\n",
            "Epoch 16: val_accuracy did not improve from 0.99327\n",
            "179/179 [==============================] - 25s 139ms/step - loss: 0.0461 - accuracy: 0.9821 - val_loss: 0.0363 - val_accuracy: 0.9933 - lr: 0.0010\n",
            "Epoch 17/100\n",
            "179/179 [==============================] - ETA: 0s - loss: 0.0651 - accuracy: 0.9798\n",
            "Epoch 17: val_accuracy did not improve from 0.99327\n",
            "179/179 [==============================] - 25s 140ms/step - loss: 0.0651 - accuracy: 0.9798 - val_loss: 0.0773 - val_accuracy: 0.9719 - lr: 0.0010\n",
            "Epoch 18/100\n",
            "179/179 [==============================] - ETA: 0s - loss: 0.0709 - accuracy: 0.9776\n",
            "Epoch 18: val_accuracy did not improve from 0.99327\n",
            "179/179 [==============================] - 25s 139ms/step - loss: 0.0709 - accuracy: 0.9776 - val_loss: 0.0582 - val_accuracy: 0.9820 - lr: 0.0010\n",
            "Epoch 19/100\n",
            "179/179 [==============================] - ETA: 0s - loss: 0.0805 - accuracy: 0.9773\n",
            "Epoch 19: val_accuracy did not improve from 0.99327\n",
            "\n",
            "Epoch 19: ReduceLROnPlateau reducing learning rate to 0.00010000000474974513.\n",
            "179/179 [==============================] - 25s 139ms/step - loss: 0.0805 - accuracy: 0.9773 - val_loss: 0.0790 - val_accuracy: 0.9753 - lr: 0.0010\n",
            "Epoch 20/100\n",
            "179/179 [==============================] - ETA: 0s - loss: 0.0414 - accuracy: 0.9879\n",
            "Epoch 20: val_accuracy did not improve from 0.99327\n",
            "179/179 [==============================] - 25s 138ms/step - loss: 0.0414 - accuracy: 0.9879 - val_loss: 0.0299 - val_accuracy: 0.9921 - lr: 1.0000e-04\n",
            "Epoch 21/100\n",
            "179/179 [==============================] - ETA: 0s - loss: 0.0272 - accuracy: 0.9885\n",
            "Epoch 21: val_accuracy did not improve from 0.99327\n",
            "179/179 [==============================] - 25s 139ms/step - loss: 0.0272 - accuracy: 0.9885 - val_loss: 0.0273 - val_accuracy: 0.9921 - lr: 1.0000e-04\n",
            "Epoch 22/100\n",
            "179/179 [==============================] - ETA: 0s - loss: 0.0239 - accuracy: 0.9927\n",
            "Epoch 22: val_accuracy did not improve from 0.99327\n",
            "179/179 [==============================] - 25s 138ms/step - loss: 0.0239 - accuracy: 0.9927 - val_loss: 0.0310 - val_accuracy: 0.9921 - lr: 1.0000e-04\n",
            "Epoch 23/100\n",
            "179/179 [==============================] - ETA: 0s - loss: 0.0210 - accuracy: 0.9927\n",
            "Epoch 23: val_accuracy did not improve from 0.99327\n",
            "179/179 [==============================] - 25s 142ms/step - loss: 0.0210 - accuracy: 0.9927 - val_loss: 0.0235 - val_accuracy: 0.9933 - lr: 1.0000e-04\n",
            "Epoch 24/100\n",
            "179/179 [==============================] - ETA: 0s - loss: 0.0187 - accuracy: 0.9933\n",
            "Epoch 24: val_accuracy improved from 0.99327 to 0.99439, saving model to Peach_DIY_model2_Based_Augmented\n"
          ]
        },
        {
          "name": "stderr",
          "output_type": "stream",
          "text": [
            "WARNING:absl:Found untraced functions such as _jit_compiled_convolution_op, _jit_compiled_convolution_op, _jit_compiled_convolution_op while saving (showing 3 of 3). These functions will not be directly callable after loading.\n"
          ]
        },
        {
          "name": "stdout",
          "output_type": "stream",
          "text": [
            "INFO:tensorflow:Assets written to: Peach_DIY_model2_Based_Augmented\\assets\n"
          ]
        },
        {
          "name": "stderr",
          "output_type": "stream",
          "text": [
            "INFO:tensorflow:Assets written to: Peach_DIY_model2_Based_Augmented\\assets\n"
          ]
        },
        {
          "name": "stdout",
          "output_type": "stream",
          "text": [
            "179/179 [==============================] - 33s 186ms/step - loss: 0.0187 - accuracy: 0.9933 - val_loss: 0.0251 - val_accuracy: 0.9944 - lr: 1.0000e-04\n",
            "Epoch 25/100\n",
            "179/179 [==============================] - ETA: 0s - loss: 0.0201 - accuracy: 0.9938\n",
            "Epoch 25: val_accuracy improved from 0.99439 to 0.99551, saving model to Peach_DIY_model2_Based_Augmented\n"
          ]
        },
        {
          "name": "stderr",
          "output_type": "stream",
          "text": [
            "WARNING:absl:Found untraced functions such as _jit_compiled_convolution_op, _jit_compiled_convolution_op, _jit_compiled_convolution_op while saving (showing 3 of 3). These functions will not be directly callable after loading.\n"
          ]
        },
        {
          "name": "stdout",
          "output_type": "stream",
          "text": [
            "INFO:tensorflow:Assets written to: Peach_DIY_model2_Based_Augmented\\assets\n"
          ]
        },
        {
          "name": "stderr",
          "output_type": "stream",
          "text": [
            "INFO:tensorflow:Assets written to: Peach_DIY_model2_Based_Augmented\\assets\n"
          ]
        },
        {
          "name": "stdout",
          "output_type": "stream",
          "text": [
            "179/179 [==============================] - 34s 191ms/step - loss: 0.0201 - accuracy: 0.9938 - val_loss: 0.0204 - val_accuracy: 0.9955 - lr: 1.0000e-04\n",
            "Epoch 26/100\n",
            "179/179 [==============================] - ETA: 0s - loss: 0.0147 - accuracy: 0.9961\n",
            "Epoch 26: val_accuracy did not improve from 0.99551\n",
            "179/179 [==============================] - 26s 143ms/step - loss: 0.0147 - accuracy: 0.9961 - val_loss: 0.0221 - val_accuracy: 0.9944 - lr: 1.0000e-04\n",
            "Epoch 27/100\n",
            "179/179 [==============================] - ETA: 0s - loss: 0.0181 - accuracy: 0.9941\n",
            "Epoch 27: val_accuracy improved from 0.99551 to 0.99663, saving model to Peach_DIY_model2_Based_Augmented\n"
          ]
        },
        {
          "name": "stderr",
          "output_type": "stream",
          "text": [
            "WARNING:absl:Found untraced functions such as _jit_compiled_convolution_op, _jit_compiled_convolution_op, _jit_compiled_convolution_op while saving (showing 3 of 3). These functions will not be directly callable after loading.\n"
          ]
        },
        {
          "name": "stdout",
          "output_type": "stream",
          "text": [
            "INFO:tensorflow:Assets written to: Peach_DIY_model2_Based_Augmented\\assets\n"
          ]
        },
        {
          "name": "stderr",
          "output_type": "stream",
          "text": [
            "INFO:tensorflow:Assets written to: Peach_DIY_model2_Based_Augmented\\assets\n"
          ]
        },
        {
          "name": "stdout",
          "output_type": "stream",
          "text": [
            "179/179 [==============================] - 34s 190ms/step - loss: 0.0181 - accuracy: 0.9941 - val_loss: 0.0206 - val_accuracy: 0.9966 - lr: 1.0000e-04\n",
            "Epoch 28/100\n",
            "179/179 [==============================] - ETA: 0s - loss: 0.0166 - accuracy: 0.9947\n",
            "Epoch 28: val_accuracy did not improve from 0.99663\n",
            "179/179 [==============================] - 25s 142ms/step - loss: 0.0166 - accuracy: 0.9947 - val_loss: 0.0253 - val_accuracy: 0.9955 - lr: 1.0000e-04\n",
            "Epoch 29/100\n",
            "179/179 [==============================] - ETA: 0s - loss: 0.0205 - accuracy: 0.9938\n",
            "Epoch 29: val_accuracy did not improve from 0.99663\n",
            "179/179 [==============================] - 25s 138ms/step - loss: 0.0205 - accuracy: 0.9938 - val_loss: 0.0214 - val_accuracy: 0.9955 - lr: 1.0000e-04\n",
            "Epoch 30/100\n",
            "179/179 [==============================] - ETA: 0s - loss: 0.0156 - accuracy: 0.9947\n",
            "Epoch 30: val_accuracy did not improve from 0.99663\n",
            "\n",
            "Epoch 30: ReduceLROnPlateau reducing learning rate to 1.0000000474974514e-05.\n",
            "179/179 [==============================] - 25s 138ms/step - loss: 0.0156 - accuracy: 0.9947 - val_loss: 0.0223 - val_accuracy: 0.9966 - lr: 1.0000e-04\n",
            "Epoch 31/100\n",
            "179/179 [==============================] - ETA: 0s - loss: 0.0118 - accuracy: 0.9961\n",
            "Epoch 31: val_accuracy improved from 0.99663 to 0.99776, saving model to Peach_DIY_model2_Based_Augmented\n"
          ]
        },
        {
          "name": "stderr",
          "output_type": "stream",
          "text": [
            "WARNING:absl:Found untraced functions such as _jit_compiled_convolution_op, _jit_compiled_convolution_op, _jit_compiled_convolution_op while saving (showing 3 of 3). These functions will not be directly callable after loading.\n"
          ]
        },
        {
          "name": "stdout",
          "output_type": "stream",
          "text": [
            "INFO:tensorflow:Assets written to: Peach_DIY_model2_Based_Augmented\\assets\n"
          ]
        },
        {
          "name": "stderr",
          "output_type": "stream",
          "text": [
            "INFO:tensorflow:Assets written to: Peach_DIY_model2_Based_Augmented\\assets\n"
          ]
        },
        {
          "name": "stdout",
          "output_type": "stream",
          "text": [
            "179/179 [==============================] - 33s 183ms/step - loss: 0.0118 - accuracy: 0.9961 - val_loss: 0.0215 - val_accuracy: 0.9978 - lr: 1.0000e-05\n",
            "Epoch 32/100\n",
            "179/179 [==============================] - ETA: 0s - loss: 0.0157 - accuracy: 0.9952\n",
            "Epoch 32: val_accuracy did not improve from 0.99776\n",
            "179/179 [==============================] - 24s 136ms/step - loss: 0.0157 - accuracy: 0.9952 - val_loss: 0.0214 - val_accuracy: 0.9955 - lr: 1.0000e-05\n",
            "Epoch 33/100\n",
            "179/179 [==============================] - ETA: 0s - loss: 0.0138 - accuracy: 0.9958\n",
            "Epoch 33: val_accuracy did not improve from 0.99776\n",
            "179/179 [==============================] - 24s 136ms/step - loss: 0.0138 - accuracy: 0.9958 - val_loss: 0.0228 - val_accuracy: 0.9944 - lr: 1.0000e-05\n",
            "Epoch 34/100\n",
            "179/179 [==============================] - ETA: 0s - loss: 0.0141 - accuracy: 0.9952\n",
            "Epoch 34: val_accuracy did not improve from 0.99776\n",
            "179/179 [==============================] - 25s 137ms/step - loss: 0.0141 - accuracy: 0.9952 - val_loss: 0.0218 - val_accuracy: 0.9955 - lr: 1.0000e-05\n",
            "Epoch 35/100\n",
            "179/179 [==============================] - ETA: 0s - loss: 0.0161 - accuracy: 0.9950\n",
            "Epoch 35: val_accuracy did not improve from 0.99776\n",
            "\n",
            "Epoch 35: ReduceLROnPlateau reducing learning rate to 1.0000000656873453e-06.\n",
            "179/179 [==============================] - 25s 138ms/step - loss: 0.0161 - accuracy: 0.9950 - val_loss: 0.0212 - val_accuracy: 0.9966 - lr: 1.0000e-05\n",
            "Epoch 36/100\n",
            "179/179 [==============================] - ETA: 0s - loss: 0.0139 - accuracy: 0.9955\n",
            "Epoch 36: val_accuracy did not improve from 0.99776\n",
            "179/179 [==============================] - 25s 137ms/step - loss: 0.0139 - accuracy: 0.9955 - val_loss: 0.0212 - val_accuracy: 0.9966 - lr: 1.0000e-06\n",
            "Epoch 37/100\n",
            "179/179 [==============================] - ETA: 0s - loss: 0.0159 - accuracy: 0.9941\n",
            "Epoch 37: val_accuracy did not improve from 0.99776\n",
            "179/179 [==============================] - 24s 136ms/step - loss: 0.0159 - accuracy: 0.9941 - val_loss: 0.0212 - val_accuracy: 0.9966 - lr: 1.0000e-06\n",
            "Epoch 38/100\n",
            "179/179 [==============================] - ETA: 0s - loss: 0.0118 - accuracy: 0.9972\n",
            "Epoch 38: val_accuracy did not improve from 0.99776\n",
            "179/179 [==============================] - 24s 136ms/step - loss: 0.0118 - accuracy: 0.9972 - val_loss: 0.0211 - val_accuracy: 0.9966 - lr: 1.0000e-06\n",
            "Epoch 39/100\n",
            "179/179 [==============================] - ETA: 0s - loss: 0.0130 - accuracy: 0.9966\n",
            "Epoch 39: val_accuracy did not improve from 0.99776\n",
            "179/179 [==============================] - 24s 136ms/step - loss: 0.0130 - accuracy: 0.9966 - val_loss: 0.0211 - val_accuracy: 0.9966 - lr: 1.0000e-06\n",
            "Epoch 40/100\n",
            "179/179 [==============================] - ETA: 0s - loss: 0.0132 - accuracy: 0.9966\n",
            "Epoch 40: val_accuracy did not improve from 0.99776\n",
            "\n",
            "Epoch 40: ReduceLROnPlateau reducing learning rate to 1.0000001111620805e-07.\n",
            "179/179 [==============================] - 25s 138ms/step - loss: 0.0132 - accuracy: 0.9966 - val_loss: 0.0211 - val_accuracy: 0.9978 - lr: 1.0000e-06\n",
            "Epoch 41/100\n",
            "179/179 [==============================] - ETA: 0s - loss: 0.0118 - accuracy: 0.9966\n",
            "Epoch 41: val_accuracy did not improve from 0.99776\n",
            "179/179 [==============================] - 25s 137ms/step - loss: 0.0118 - accuracy: 0.9966 - val_loss: 0.0211 - val_accuracy: 0.9978 - lr: 1.0000e-07\n",
            "Epoch 42/100\n",
            "179/179 [==============================] - ETA: 0s - loss: 0.0105 - accuracy: 0.9958\n",
            "Epoch 42: val_accuracy did not improve from 0.99776\n",
            "179/179 [==============================] - 24s 137ms/step - loss: 0.0105 - accuracy: 0.9958 - val_loss: 0.0211 - val_accuracy: 0.9978 - lr: 1.0000e-07\n",
            "Epoch 43/100\n",
            "179/179 [==============================] - ETA: 0s - loss: 0.0124 - accuracy: 0.9958\n",
            "Epoch 43: val_accuracy did not improve from 0.99776\n",
            "179/179 [==============================] - 24s 137ms/step - loss: 0.0124 - accuracy: 0.9958 - val_loss: 0.0210 - val_accuracy: 0.9978 - lr: 1.0000e-07\n",
            "Epoch 44/100\n",
            "179/179 [==============================] - ETA: 0s - loss: 0.0133 - accuracy: 0.9966\n",
            "Epoch 44: val_accuracy did not improve from 0.99776\n",
            "179/179 [==============================] - 24s 137ms/step - loss: 0.0133 - accuracy: 0.9966 - val_loss: 0.0211 - val_accuracy: 0.9978 - lr: 1.0000e-07\n",
            "Epoch 45/100\n",
            "179/179 [==============================] - ETA: 0s - loss: 0.0154 - accuracy: 0.9952\n",
            "Epoch 45: val_accuracy did not improve from 0.99776\n",
            "\n",
            "Epoch 45: ReduceLROnPlateau reducing learning rate to 1.000000082740371e-08.\n",
            "179/179 [==============================] - 24s 137ms/step - loss: 0.0154 - accuracy: 0.9952 - val_loss: 0.0211 - val_accuracy: 0.9978 - lr: 1.0000e-07\n",
            "Epoch 46/100\n",
            "179/179 [==============================] - ETA: 0s - loss: 0.0134 - accuracy: 0.9955\n",
            "Epoch 46: val_accuracy did not improve from 0.99776\n",
            "179/179 [==============================] - 25s 137ms/step - loss: 0.0134 - accuracy: 0.9955 - val_loss: 0.0211 - val_accuracy: 0.9978 - lr: 1.0000e-08\n",
            "Epoch 47/100\n",
            "179/179 [==============================] - ETA: 0s - loss: 0.0146 - accuracy: 0.9961\n",
            "Epoch 47: val_accuracy did not improve from 0.99776\n",
            "179/179 [==============================] - 25s 137ms/step - loss: 0.0146 - accuracy: 0.9961 - val_loss: 0.0211 - val_accuracy: 0.9978 - lr: 1.0000e-08\n",
            "Epoch 48/100\n",
            "179/179 [==============================] - ETA: 0s - loss: 0.0191 - accuracy: 0.9958\n",
            "Epoch 48: val_accuracy did not improve from 0.99776\n",
            "179/179 [==============================] - 25s 138ms/step - loss: 0.0191 - accuracy: 0.9958 - val_loss: 0.0211 - val_accuracy: 0.9978 - lr: 1.0000e-08\n",
            "Epoch 49/100\n",
            "179/179 [==============================] - ETA: 0s - loss: 0.0140 - accuracy: 0.9964\n",
            "Epoch 49: val_accuracy did not improve from 0.99776\n",
            "179/179 [==============================] - 24s 136ms/step - loss: 0.0140 - accuracy: 0.9964 - val_loss: 0.0211 - val_accuracy: 0.9978 - lr: 1.0000e-08\n",
            "Epoch 50/100\n",
            "179/179 [==============================] - ETA: 0s - loss: 0.0164 - accuracy: 0.9950\n",
            "Epoch 50: val_accuracy did not improve from 0.99776\n",
            "\n",
            "Epoch 50: ReduceLROnPlateau reducing learning rate to 1.000000082740371e-09.\n",
            "179/179 [==============================] - 24s 136ms/step - loss: 0.0164 - accuracy: 0.9950 - val_loss: 0.0211 - val_accuracy: 0.9978 - lr: 1.0000e-08\n",
            "Epoch 51/100\n",
            "179/179 [==============================] - ETA: 0s - loss: 0.0126 - accuracy: 0.9955\n",
            "Epoch 51: val_accuracy did not improve from 0.99776\n",
            "Restoring model weights from the end of the best epoch: 31.\n",
            "179/179 [==============================] - 25s 137ms/step - loss: 0.0126 - accuracy: 0.9955 - val_loss: 0.0211 - val_accuracy: 0.9978 - lr: 1.0000e-09\n",
            "Epoch 51: early stopping\n"
          ]
        }
      ],
      "source": [
        "# Define the number of epochs\n",
        "num_epochs = 100\n",
        "\n",
        "# Train the model\n",
        "history_DIY_model_2 = DIY_model_2.fit(train_generator, epochs=num_epochs, validation_data=validation_generator, callbacks=callbacks)"
      ]
    },
    {
      "cell_type": "code",
      "execution_count": 16,
      "metadata": {
        "colab": {
          "base_uri": "https://localhost:8080/",
          "height": 904
        },
        "id": "3f1nmwUhU2TK",
        "outputId": "b900db31-068a-4c88-a878-3f17623c9b8a",
        "tags": []
      },
      "outputs": [
        {
          "data": {
            "text/plain": [
              "<matplotlib.legend.Legend at 0x17e86fee0b0>"
            ]
          },
          "execution_count": 16,
          "metadata": {},
          "output_type": "execute_result"
        },
        {
          "data": {
            "image/png": "[encoded data removed]",
            "text/plain": [
              "<Figure size 640x480 with 1 Axes>"
            ]
          },
          "metadata": {},
          "output_type": "display_data"
        },
        {
          "data": {
            "image/png": "[encoded data removed]",
            "text/plain": [
              "<Figure size 640x480 with 1 Axes>"
            ]
          },
          "metadata": {},
          "output_type": "display_data"
        }
      ],
      "source": [
        "#-----------------------------------------------------------\n",
        "# Retrieve a list of list results on training and test data\n",
        "# sets for each training epoch\n",
        "#-----------------------------------------------------------\n",
        "acc      = history_DIY_model_2.history['accuracy' ]\n",
        "val_acc  = history_DIY_model_2.history['val_accuracy' ]\n",
        "loss     = history_DIY_model_2.history['loss' ]\n",
        "val_loss = history_DIY_model_2.history['val_loss' ]\n",
        "\n",
        "epochs   = range(len(acc)) # Get number of epochs\n",
        "\n",
        "#------------------------------------------------\n",
        "# Plot training and validation accuracy per epoch\n",
        "#------------------------------------------------\n",
        "plt.plot  (epochs, acc )\n",
        "plt.plot  (epochs, val_acc )\n",
        "plt.title ('Training and validation accuracy DIY Model 2')\n",
        "plt.legend(['train', 'val'], loc='upper left')\n",
        "plt.figure()\n",
        "\n",
        "#------------------------------------------------\n",
        "# Plot training and validation loss per epoch\n",
        "#------------------------------------------------\n",
        "plt.plot  (epochs, loss)\n",
        "plt.plot  (epochs, val_loss)\n",
        "plt.title ('Training and validation loss DIY Model 2')\n",
        "plt.legend(['train', 'val'], loc='upper left')"
      ]
    }
  ],
  "metadata": {
    "accelerator": "GPU",
    "colab": {
      "gpuType": "T4",
      "provenance": []
    },
    "gpuClass": "standard",
    "kernelspec": {
      "display_name": "Python 3 (ipykernel)",
      "language": "python",
      "name": "python3"
    },
    "language_info": {
      "codemirror_mode": {
        "name": "ipython",
        "version": 3
      },
      "file_extension": ".py",
      "mimetype": "text/x-python",
      "name": "python",
      "nbconvert_exporter": "python",
      "pygments_lexer": "ipython3",
      "version": "3.10.0"
    }
  },
  "nbformat": 4,
  "nbformat_minor": 0
}
