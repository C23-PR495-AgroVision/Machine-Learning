{
 "cells": [
  {
   "attachments": {},
   "cell_type": "markdown",
   "metadata": {
    "id": "hO3kEcUPU2S3"
   },
   "source": [
    "# Library"
   ]
  },
  {
   "cell_type": "code",
   "execution_count": 1,
   "metadata": {
    "colab": {
     "base_uri": "https://localhost:8080/"
    },
    "id": "kczkUjsAU2S8",
    "outputId": "560bc1dc-a22e-4fbb-e7d6-564f355f234d",
    "tags": []
   },
   "outputs": [
    {
     "name": "stdout",
     "output_type": "stream",
     "text": [
      "Requirement already satisfied: matplotlib in c:\\users\\hasan\\anaconda3\\envs\\tensorflow_gpu_zein\\lib\\site-packages (3.6.3)\n",
      "Requirement already satisfied: python-dateutil>=2.7 in c:\\users\\hasan\\anaconda3\\envs\\tensorflow_gpu_zein\\lib\\site-packages (from matplotlib) (2.8.2)\n",
      "Requirement already satisfied: fonttools>=4.22.0 in c:\\users\\hasan\\anaconda3\\envs\\tensorflow_gpu_zein\\lib\\site-packages (from matplotlib) (4.39.2)\n",
      "Requirement already satisfied: pillow>=6.2.0 in c:\\users\\hasan\\anaconda3\\envs\\tensorflow_gpu_zein\\lib\\site-packages (from matplotlib) (9.4.0)\n",
      "Requirement already satisfied: packaging>=20.0 in c:\\users\\hasan\\anaconda3\\envs\\tensorflow_gpu_zein\\lib\\site-packages (from matplotlib) (23.1)\n",
      "Requirement already satisfied: cycler>=0.10 in c:\\users\\hasan\\anaconda3\\envs\\tensorflow_gpu_zein\\lib\\site-packages (from matplotlib) (0.11.0)\n",
      "Requirement already satisfied: pyparsing>=2.2.1 in c:\\users\\hasan\\anaconda3\\envs\\tensorflow_gpu_zein\\lib\\site-packages (from matplotlib) (3.0.9)\n",
      "Requirement already satisfied: kiwisolver>=1.0.1 in c:\\users\\hasan\\anaconda3\\envs\\tensorflow_gpu_zein\\lib\\site-packages (from matplotlib) (1.4.4)\n",
      "Requirement already satisfied: numpy>=1.19 in c:\\users\\hasan\\anaconda3\\envs\\tensorflow_gpu_zein\\lib\\site-packages (from matplotlib) (1.23.5)\n",
      "Requirement already satisfied: contourpy>=1.0.1 in c:\\users\\hasan\\anaconda3\\envs\\tensorflow_gpu_zein\\lib\\site-packages (from matplotlib) (1.0.7)\n",
      "Requirement already satisfied: six>=1.5 in c:\\users\\hasan\\anaconda3\\envs\\tensorflow_gpu_zein\\lib\\site-packages (from python-dateutil>=2.7->matplotlib) (1.16.0)\n",
      "Note: you may need to restart the kernel to use updated packages.\n"
     ]
    },
    {
     "name": "stderr",
     "output_type": "stream",
     "text": [
      "WARNING: Ignoring invalid distribution -rotobuf (c:\\users\\hasan\\anaconda3\\envs\\tensorflow_gpu_zein\\lib\\site-packages)\n",
      "WARNING: Ignoring invalid distribution -rotobuf (c:\\users\\hasan\\anaconda3\\envs\\tensorflow_gpu_zein\\lib\\site-packages)\n",
      "WARNING: Ignoring invalid distribution -rotobuf (c:\\users\\hasan\\anaconda3\\envs\\tensorflow_gpu_zein\\lib\\site-packages)\n",
      "WARNING: Ignoring invalid distribution -rotobuf (c:\\users\\hasan\\anaconda3\\envs\\tensorflow_gpu_zein\\lib\\site-packages)\n",
      "WARNING: Ignoring invalid distribution -rotobuf (c:\\users\\hasan\\anaconda3\\envs\\tensorflow_gpu_zein\\lib\\site-packages)\n",
      "WARNING: Ignoring invalid distribution -rotobuf (c:\\users\\hasan\\anaconda3\\envs\\tensorflow_gpu_zein\\lib\\site-packages)\n"
     ]
    }
   ],
   "source": [
    "pip install matplotlib"
   ]
  },
  {
   "cell_type": "code",
   "execution_count": 2,
   "metadata": {
    "colab": {
     "base_uri": "https://localhost:8080/"
    },
    "id": "oEW3Nbu7U2S_",
    "outputId": "92812bc7-1183-479f-f26e-48af8d791268",
    "tags": []
   },
   "outputs": [
    {
     "name": "stdout",
     "output_type": "stream",
     "text": [
      "Requirement already satisfied: opendatasets in c:\\users\\hasan\\anaconda3\\envs\\tensorflow_gpu_zein\\lib\\site-packages (0.1.22)\n",
      "Requirement already satisfied: click in c:\\users\\hasan\\anaconda3\\envs\\tensorflow_gpu_zein\\lib\\site-packages (from opendatasets) (8.1.3)\n",
      "Requirement already satisfied: tqdm in c:\\users\\hasan\\anaconda3\\envs\\tensorflow_gpu_zein\\lib\\site-packages (from opendatasets) (4.64.1)\n",
      "Requirement already satisfied: kaggle in c:\\users\\hasan\\anaconda3\\envs\\tensorflow_gpu_zein\\lib\\site-packages (from opendatasets) (1.5.13)\n",
      "Requirement already satisfied: colorama in c:\\users\\hasan\\anaconda3\\envs\\tensorflow_gpu_zein\\lib\\site-packages (from click->opendatasets) (0.4.6)\n",
      "Requirement already satisfied: six>=1.10 in c:\\users\\hasan\\anaconda3\\envs\\tensorflow_gpu_zein\\lib\\site-packages (from kaggle->opendatasets) (1.16.0)\n",
      "Requirement already satisfied: python-dateutil in c:\\users\\hasan\\anaconda3\\envs\\tensorflow_gpu_zein\\lib\\site-packages (from kaggle->opendatasets) (2.8.2)\n",
      "Requirement already satisfied: python-slugify in c:\\users\\hasan\\anaconda3\\envs\\tensorflow_gpu_zein\\lib\\site-packages (from kaggle->opendatasets) (8.0.1)\n",
      "Requirement already satisfied: urllib3 in c:\\users\\hasan\\anaconda3\\envs\\tensorflow_gpu_zein\\lib\\site-packages (from kaggle->opendatasets) (1.26.15)\n",
      "Requirement already satisfied: requests in c:\\users\\hasan\\anaconda3\\envs\\tensorflow_gpu_zein\\lib\\site-packages (from kaggle->opendatasets) (2.28.2)\n",
      "Requirement already satisfied: certifi in c:\\users\\hasan\\anaconda3\\envs\\tensorflow_gpu_zein\\lib\\site-packages (from kaggle->opendatasets) (2022.12.7)\n",
      "Requirement already satisfied: text-unidecode>=1.3 in c:\\users\\hasan\\anaconda3\\envs\\tensorflow_gpu_zein\\lib\\site-packages (from python-slugify->kaggle->opendatasets) (1.3)\n",
      "Requirement already satisfied: charset-normalizer<4,>=2 in c:\\users\\hasan\\anaconda3\\envs\\tensorflow_gpu_zein\\lib\\site-packages (from requests->kaggle->opendatasets) (3.1.0)\n",
      "Requirement already satisfied: idna<4,>=2.5 in c:\\users\\hasan\\anaconda3\\envs\\tensorflow_gpu_zein\\lib\\site-packages (from requests->kaggle->opendatasets) (3.4)\n",
      "Note: you may need to restart the kernel to use updated packages.\n"
     ]
    },
    {
     "name": "stderr",
     "output_type": "stream",
     "text": [
      "WARNING: Ignoring invalid distribution -rotobuf (c:\\users\\hasan\\anaconda3\\envs\\tensorflow_gpu_zein\\lib\\site-packages)\n",
      "WARNING: Ignoring invalid distribution -rotobuf (c:\\users\\hasan\\anaconda3\\envs\\tensorflow_gpu_zein\\lib\\site-packages)\n",
      "WARNING: Ignoring invalid distribution -rotobuf (c:\\users\\hasan\\anaconda3\\envs\\tensorflow_gpu_zein\\lib\\site-packages)\n",
      "WARNING: Ignoring invalid distribution -rotobuf (c:\\users\\hasan\\anaconda3\\envs\\tensorflow_gpu_zein\\lib\\site-packages)\n",
      "WARNING: Ignoring invalid distribution -rotobuf (c:\\users\\hasan\\anaconda3\\envs\\tensorflow_gpu_zein\\lib\\site-packages)\n",
      "WARNING: Ignoring invalid distribution -rotobuf (c:\\users\\hasan\\anaconda3\\envs\\tensorflow_gpu_zein\\lib\\site-packages)\n"
     ]
    }
   ],
   "source": [
    "pip install opendatasets"
   ]
  },
  {
   "cell_type": "code",
   "execution_count": 3,
   "metadata": {
    "id": "SIHHdOB4U2TA",
    "tags": []
   },
   "outputs": [],
   "source": [
    "# Library to dataset\n",
    "import opendatasets as od\n",
    "import os\n",
    "import zipfile\n",
    "import numpy as np\n",
    "\n",
    "# Surpress Warnings\n",
    "import warnings\n",
    "warnings.filterwarnings('ignore')\n",
    "os.environ['TF_CPP_MIN_LOG_LEVEL'] = '3' \n",
    "# library visualization\n",
    "import matplotlib.pyplot as plt\n",
    "\n",
    "# Library Tensorflow\n",
    "import tensorflow as tf\n",
    "from tensorflow import keras\n",
    "from tensorflow.keras.preprocessing.image import ImageDataGenerator\n",
    "from tensorflow.keras.callbacks import ModelCheckpoint, EarlyStopping, ReduceLROnPlateau\n",
    "from tensorflow.keras.applications.densenet import DenseNet121\n",
    "from tensorflow.keras.applications.mobilenet_v2 import MobileNetV2\n",
    "\n",
    "# Others\n",
    "import shutil\n",
    "import random"
   ]
  },
  {
   "attachments": {},
   "cell_type": "markdown",
   "metadata": {
    "id": "Dy8YkYoaU2TB"
   },
   "source": [
    "# Load dataset"
   ]
  },
  {
   "cell_type": "code",
   "execution_count": 4,
   "metadata": {
    "colab": {
     "base_uri": "https://localhost:8080/"
    },
    "id": "8ZAjREJ0U2TC",
    "outputId": "e353279e-b678-447d-fa99-1692fde49140",
    "tags": []
   },
   "outputs": [
    {
     "name": "stdout",
     "output_type": "stream",
     "text": [
      "==========================Training Data====================\n",
      "Found 3566 files belonging to 2 classes.\n",
      "==========================Validation Data====================\n",
      "Found 891 files belonging to 2 classes.\n"
     ]
    }
   ],
   "source": [
    "# Load dataset\n",
    "print(\"==========================Training Data====================\")\n",
    "train_data = tf.keras.preprocessing.image_dataset_from_directory(\n",
    "    \"Dataset/Peach/train\",\n",
    "    label_mode=\"categorical\",\n",
    "    class_names=['Peach___Bacterial_spot','Peach___healthy'],\n",
    "    color_mode=\"rgb\",\n",
    "    batch_size=1,\n",
    "    image_size=(256, 256),\n",
    "    shuffle=True,\n",
    "    seed=123\n",
    ")\n",
    "print(\"==========================Validation Data====================\")\n",
    "val_data = tf.keras.preprocessing.image_dataset_from_directory(\n",
    "    \"Dataset/Peach/valid\",\n",
    "    label_mode=\"categorical\",\n",
    "    class_names=['Peach___Bacterial_spot','Peach___healthy'],\n",
    "    color_mode=\"rgb\",\n",
    "    batch_size=1,\n",
    "    image_size=(256, 256),\n",
    "    shuffle=True,\n",
    "    seed=123\n",
    ")"
   ]
  },
  {
   "cell_type": "code",
   "execution_count": 5,
   "metadata": {
    "colab": {
     "base_uri": "https://localhost:8080/"
    },
    "id": "vEPzd1egU2TD",
    "outputId": "e5a3c712-830d-464b-f766-7c5898bd3c48",
    "tags": []
   },
   "outputs": [
    {
     "name": "stdout",
     "output_type": "stream",
     "text": [
      "Found 3566 images belonging to 2 classes.\n",
      "Found 891 images belonging to 2 classes.\n"
     ]
    }
   ],
   "source": [
    "# All images will be rescaled by 1./255. and Augmented\n",
    "train_datagen = ImageDataGenerator(rescale = 1.0/256.,\n",
    "                                   rotation_range=40,\n",
    "                                   width_shift_range=0.2,\n",
    "                                   height_shift_range=0.2,\n",
    "                                   shear_range=0.2,\n",
    "                                   zoom_range=0.2,\n",
    "                                   horizontal_flip=True,\n",
    "                                   fill_mode='nearest')\n",
    "\n",
    "test_datagen  = ImageDataGenerator(rescale = 1.0/256.)\n",
    "\n",
    "# --------------------\n",
    "# Flow training images in batches of 20 using train_datagen generator\n",
    "# --------------------\n",
    "train_generator = train_datagen.flow_from_directory(\"Dataset/Peach/train\",\n",
    "                                                    batch_size=20,\n",
    "                                                    class_mode='categorical',\n",
    "                                                    target_size=(224, 224))     \n",
    "# --------------------\n",
    "# Flow validation images in batches of 20 using test_datagen generator\n",
    "# --------------------\n",
    "validation_generator =  test_datagen.flow_from_directory(\"Dataset/Peach/valid\",\n",
    "                                                         batch_size=20,\n",
    "                                                         class_mode  = 'categorical',\n",
    "                                                         target_size = (224, 224))"
   ]
  },
  {
   "attachments": {},
   "cell_type": "markdown",
   "metadata": {
    "id": "_3jaO5YgU2TE"
   },
   "source": [
    "# List Resource"
   ]
  },
  {
   "cell_type": "code",
   "execution_count": 6,
   "metadata": {
    "colab": {
     "base_uri": "https://localhost:8080/"
    },
    "id": "SGemCaxnU2TF",
    "outputId": "e907b07c-907d-4f9b-9eac-080e6758ee4f",
    "tags": []
   },
   "outputs": [
    {
     "name": "stdout",
     "output_type": "stream",
     "text": [
      "Wed May 31 16:54:59 2023       \n",
      "+---------------------------------------------------------------------------------------+\n",
      "| NVIDIA-SMI 532.03                 Driver Version: 532.03       CUDA Version: 12.1     |\n",
      "|-----------------------------------------+----------------------+----------------------+\n",
      "| GPU  Name                      TCC/WDDM | Bus-Id        Disp.A | Volatile Uncorr. ECC |\n",
      "| Fan  Temp  Perf            Pwr:Usage/Cap|         Memory-Usage | GPU-Util  Compute M. |\n",
      "|                                         |                      |               MIG M. |\n",
      "|=========================================+======================+======================|\n",
      "|   0  NVIDIA GeForce RTX 3060 L...  WDDM | 00000000:01:00.0  On |                  N/A |\n",
      "| N/A   53C    P0               39W /  N/A|   4337MiB /  6144MiB |      0%      Default |\n",
      "|                                         |                      |                  N/A |\n",
      "+-----------------------------------------+----------------------+----------------------+\n",
      "                                                                                         \n",
      "+---------------------------------------------------------------------------------------+\n",
      "| Processes:                                                                            |\n",
      "|  GPU   GI   CI        PID   Type   Process name                            GPU Memory |\n",
      "|        ID   ID                                                             Usage      |\n",
      "|=======================================================================================|\n",
      "|    0   N/A  N/A      5780    C+G   ...on\\113.0.1774.57\\msedgewebview2.exe    N/A      |\n",
      "|    0   N/A  N/A      6672    C+G   ...1.0_x64__8wekyb3d8bbwe\\Video.UI.exe    N/A      |\n",
      "|    0   N/A  N/A      9084    C+G   ...les\\Microsoft OneDrive\\OneDrive.exe    N/A      |\n",
      "|    0   N/A  N/A      9824    C+G   C:\\WINDOWS\\explorer.exe                   N/A      |\n",
      "|    0   N/A  N/A     11032    C+G   ...siveControlPanel\\SystemSettings.exe    N/A      |\n",
      "|    0   N/A  N/A     11680    C+G   ...nt.CBS_cw5n1h2txyewy\\SearchHost.exe    N/A      |\n",
      "|    0   N/A  N/A     11704    C+G   ...2txyewy\\StartMenuExperienceHost.exe    N/A      |\n",
      "|    0   N/A  N/A     13324      C   ...envs\\tensorflow_gpu_zein\\python.exe    N/A      |\n",
      "|    0   N/A  N/A     13628    C+G   ...x64__qmba6cd70vzyy\\ArmouryCrate.exe    N/A      |\n",
      "|    0   N/A  N/A     13880    C+G   ...5n1h2txyewy\\ShellExperienceHost.exe    N/A      |\n",
      "|    0   N/A  N/A     14220    C+G   ...GeForce Experience\\NVIDIA Share.exe    N/A      |\n",
      "|    0   N/A  N/A     14448    C+G   ...t.LockApp_cw5n1h2txyewy\\LockApp.exe    N/A      |\n",
      "|    0   N/A  N/A     16172    C+G   ...ekyb3d8bbwe\\PhoneExperienceHost.exe    N/A      |\n",
      "|    0   N/A  N/A     17068    C+G   ...les\\Microsoft OneDrive\\OneDrive.exe    N/A      |\n",
      "|    0   N/A  N/A     17704    C+G   ...7.0_x64__cv1g1gvanyjgm\\WhatsApp.exe    N/A      |\n",
      "|    0   N/A  N/A     19888    C+G   ...\\AMD\\CNext\\CNext\\RadeonSoftware.exe    N/A      |\n",
      "|    0   N/A  N/A     20836    C+G   ...64__v826wp6bftszj\\TranslucentTB.exe    N/A      |\n",
      "|    0   N/A  N/A     21096    C+G   ...Programs\\Microsoft VS Code\\Code.exe    N/A      |\n",
      "|    0   N/A  N/A     22104    C+G   ...oogle\\Chrome\\Application\\chrome.exe    N/A      |\n",
      "|    0   N/A  N/A     23836    C+G   ...les\\AMD\\CNext\\CNext\\AMDRSSrcExt.exe    N/A      |\n",
      "+---------------------------------------------------------------------------------------+\n"
     ]
    }
   ],
   "source": [
    "# Check GPU\n",
    "!nvidia-smi"
   ]
  },
  {
   "cell_type": "code",
   "execution_count": 7,
   "metadata": {
    "colab": {
     "base_uri": "https://localhost:8080/"
    },
    "id": "FSapZ74PU2TF",
    "outputId": "848c5b21-d8e2-4f16-a12a-68ad576f86c1",
    "tags": []
   },
   "outputs": [
    {
     "data": {
      "text/plain": [
       "[PhysicalDevice(name='/physical_device:GPU:0', device_type='GPU')]"
      ]
     },
     "execution_count": 7,
     "metadata": {},
     "output_type": "execute_result"
    }
   ],
   "source": [
    "# Lis physical devices\n",
    "devices = tf.config.experimental.list_physical_devices(\"GPU\")\n",
    "devices"
   ]
  },
  {
   "cell_type": "code",
   "execution_count": 8,
   "metadata": {
    "id": "A8WtBtBaU2TG",
    "tags": []
   },
   "outputs": [
    {
     "name": "stdout",
     "output_type": "stream",
     "text": [
      "INFO:tensorflow:Using MirroredStrategy with devices ('/job:localhost/replica:0/task:0/device:GPU:0',)\n"
     ]
    }
   ],
   "source": [
    "# Define the GPU strategy\n",
    "mirrored_strategy = tf.distribute.MirroredStrategy(devices=[\"/gpu:0\"])"
   ]
  },
  {
   "attachments": {},
   "cell_type": "markdown",
   "metadata": {
    "id": "Vqr_uGTNU2TG"
   },
   "source": [
    "# Modelling Without Augmentation"
   ]
  },
  {
   "attachments": {},
   "cell_type": "markdown",
   "metadata": {
    "id": "w4Wzh6ZyU2TH"
   },
   "source": [
    "## MobileNetV2 Model 1"
   ]
  },
  {
   "cell_type": "code",
   "execution_count": 9,
   "metadata": {
    "id": "uUqYGBfRU2TH",
    "tags": []
   },
   "outputs": [],
   "source": [
    "# Difine the callbacks\n",
    "# Save the best model\n",
    "checkpoint_callback = ModelCheckpoint(filepath=\"Peach_MobileNetV2_model1_Based_Augmented\", save_best_only=True, monitor=\"val_accuracy\", mode=\"max\", verbose=1)\n",
    "\n",
    "# Early stopping\n",
    "early_stopping_callback = EarlyStopping(monitor=\"val_accuracy\", mode=\"max\", patience=20, verbose=1, restore_best_weights=True)\n",
    "\n",
    "# Reduce learning rate\n",
    "reduce_lr_callback = ReduceLROnPlateau(monitor=\"val_loss\", factor=0.1, patience=5, verbose=1, mode=\"min\", min_delta=0.0001, cooldown=0, min_lr=0)\n",
    "\n",
    "# Callbacks list\n",
    "callbacks=[checkpoint_callback, early_stopping_callback, reduce_lr_callback]"
   ]
  },
  {
   "cell_type": "code",
   "execution_count": 10,
   "metadata": {
    "colab": {
     "base_uri": "https://localhost:8080/"
    },
    "id": "BQHFs3gSU2TI",
    "outputId": "b282b947-037e-4e7f-f029-790bba9238ae",
    "tags": []
   },
   "outputs": [
    {
     "name": "stdout",
     "output_type": "stream",
     "text": [
      "Model: \"sequential\"\n",
      "_________________________________________________________________\n",
      " Layer (type)                Output Shape              Param #   \n",
      "=================================================================\n",
      " mobilenetv2_1.00_224 (Funct  (None, 7, 7, 1280)       2257984   \n",
      " ional)                                                          \n",
      "                                                                 \n",
      " global_max_pooling2d (Globa  (None, 1280)             0         \n",
      " lMaxPooling2D)                                                  \n",
      "                                                                 \n",
      " dropout (Dropout)           (None, 1280)              0         \n",
      "                                                                 \n",
      " dense (Dense)               (None, 256)               327936    \n",
      "                                                                 \n",
      " dense_1 (Dense)             (None, 2)                 514       \n",
      "                                                                 \n",
      "=================================================================\n",
      "Total params: 2,586,434\n",
      "Trainable params: 2,552,322\n",
      "Non-trainable params: 34,112\n",
      "_________________________________________________________________\n"
     ]
    }
   ],
   "source": [
    "# Define DIY Model\n",
    "MobileNetV2_model = tf.keras.models.Sequential([\n",
    "    # MobileNetV2 Layer\n",
    "    MobileNetV2(include_top=False,weights='imagenet',input_shape=(224, 224, 3)),\n",
    "    # Global Max Pooling Layer\n",
    "    tf.keras.layers.GlobalMaxPooling2D(),\n",
    "    # Drop Out Layer\n",
    "    tf.keras.layers.Dropout(0.2),\n",
    "    # 256 neuron hidden layer\n",
    "    tf.keras.layers.Dense(256, activation='relu'),\n",
    "    # Output\n",
    "    tf.keras.layers.Dense(2, activation='softmax') \n",
    "  ])\n",
    "\n",
    "\n",
    "# Compile Model\n",
    "MobileNetV2_model.compile(loss='categorical_crossentropy',optimizer=tf.keras.optimizers.Adam(), metrics=['accuracy']) \n",
    "\n",
    "# Model Summary\n",
    "MobileNetV2_model.summary()"
   ]
  },
  {
   "cell_type": "code",
   "execution_count": 11,
   "metadata": {
    "colab": {
     "base_uri": "https://localhost:8080/"
    },
    "id": "6coN3TKhU2TI",
    "outputId": "4f4e1f60-ed58-45f6-8dcc-43f64f0213f4",
    "tags": []
   },
   "outputs": [
    {
     "name": "stdout",
     "output_type": "stream",
     "text": [
      "Epoch 1/100\n",
      "179/179 [==============================] - ETA: 0s - loss: 0.3246 - accuracy: 0.9588\n",
      "Epoch 1: val_accuracy improved from -inf to 0.48934, saving model to Peach_MobileNetV2_model1_Based_Augmented\n"
     ]
    },
    {
     "name": "stderr",
     "output_type": "stream",
     "text": [
      "WARNING:absl:Function `_wrapped_model` contains input name(s) mobilenetv2_1.00_224_input with unsupported characters which will be renamed to mobilenetv2_1_00_224_input in the SavedModel.\n",
      "WARNING:absl:Found untraced functions such as _jit_compiled_convolution_op, _jit_compiled_convolution_op, _jit_compiled_convolution_op, _jit_compiled_convolution_op, _jit_compiled_convolution_op while saving (showing 5 of 52). These functions will not be directly callable after loading.\n"
     ]
    },
    {
     "name": "stdout",
     "output_type": "stream",
     "text": [
      "INFO:tensorflow:Assets written to: Peach_MobileNetV2_model1_Based_Augmented\\assets\n"
     ]
    },
    {
     "name": "stderr",
     "output_type": "stream",
     "text": [
      "INFO:tensorflow:Assets written to: Peach_MobileNetV2_model1_Based_Augmented\\assets\n"
     ]
    },
    {
     "name": "stdout",
     "output_type": "stream",
     "text": [
      "179/179 [==============================] - 48s 232ms/step - loss: 0.3246 - accuracy: 0.9588 - val_loss: 11.0106 - val_accuracy: 0.4893 - lr: 0.0010\n",
      "Epoch 2/100\n",
      "179/179 [==============================] - ETA: 0s - loss: 0.0504 - accuracy: 0.9877\n",
      "Epoch 2: val_accuracy improved from 0.48934 to 0.67677, saving model to Peach_MobileNetV2_model1_Based_Augmented\n"
     ]
    },
    {
     "name": "stderr",
     "output_type": "stream",
     "text": [
      "WARNING:absl:Function `_wrapped_model` contains input name(s) mobilenetv2_1.00_224_input with unsupported characters which will be renamed to mobilenetv2_1_00_224_input in the SavedModel.\n",
      "WARNING:absl:Found untraced functions such as _jit_compiled_convolution_op, _jit_compiled_convolution_op, _jit_compiled_convolution_op, _jit_compiled_convolution_op, _jit_compiled_convolution_op while saving (showing 5 of 52). These functions will not be directly callable after loading.\n"
     ]
    },
    {
     "name": "stdout",
     "output_type": "stream",
     "text": [
      "INFO:tensorflow:Assets written to: Peach_MobileNetV2_model1_Based_Augmented\\assets\n"
     ]
    },
    {
     "name": "stderr",
     "output_type": "stream",
     "text": [
      "INFO:tensorflow:Assets written to: Peach_MobileNetV2_model1_Based_Augmented\\assets\n"
     ]
    },
    {
     "name": "stdout",
     "output_type": "stream",
     "text": [
      "179/179 [==============================] - 42s 232ms/step - loss: 0.0504 - accuracy: 0.9877 - val_loss: 2.9198 - val_accuracy: 0.6768 - lr: 0.0010\n",
      "Epoch 3/100\n",
      "179/179 [==============================] - ETA: 0s - loss: 0.0392 - accuracy: 0.9888\n",
      "Epoch 3: val_accuracy improved from 0.67677 to 0.78451, saving model to Peach_MobileNetV2_model1_Based_Augmented\n"
     ]
    },
    {
     "name": "stderr",
     "output_type": "stream",
     "text": [
      "WARNING:absl:Function `_wrapped_model` contains input name(s) mobilenetv2_1.00_224_input with unsupported characters which will be renamed to mobilenetv2_1_00_224_input in the SavedModel.\n",
      "WARNING:absl:Found untraced functions such as _jit_compiled_convolution_op, _jit_compiled_convolution_op, _jit_compiled_convolution_op, _jit_compiled_convolution_op, _jit_compiled_convolution_op while saving (showing 5 of 52). These functions will not be directly callable after loading.\n"
     ]
    },
    {
     "name": "stdout",
     "output_type": "stream",
     "text": [
      "INFO:tensorflow:Assets written to: Peach_MobileNetV2_model1_Based_Augmented\\assets\n"
     ]
    },
    {
     "name": "stderr",
     "output_type": "stream",
     "text": [
      "INFO:tensorflow:Assets written to: Peach_MobileNetV2_model1_Based_Augmented\\assets\n"
     ]
    },
    {
     "name": "stdout",
     "output_type": "stream",
     "text": [
      "179/179 [==============================] - 42s 234ms/step - loss: 0.0392 - accuracy: 0.9888 - val_loss: 1.1177 - val_accuracy: 0.7845 - lr: 0.0010\n",
      "Epoch 4/100\n",
      "179/179 [==============================] - ETA: 0s - loss: 0.0516 - accuracy: 0.9846\n",
      "Epoch 4: val_accuracy improved from 0.78451 to 0.80247, saving model to Peach_MobileNetV2_model1_Based_Augmented\n"
     ]
    },
    {
     "name": "stderr",
     "output_type": "stream",
     "text": [
      "WARNING:absl:Function `_wrapped_model` contains input name(s) mobilenetv2_1.00_224_input with unsupported characters which will be renamed to mobilenetv2_1_00_224_input in the SavedModel.\n",
      "WARNING:absl:Found untraced functions such as _jit_compiled_convolution_op, _jit_compiled_convolution_op, _jit_compiled_convolution_op, _jit_compiled_convolution_op, _jit_compiled_convolution_op while saving (showing 5 of 52). These functions will not be directly callable after loading.\n"
     ]
    },
    {
     "name": "stdout",
     "output_type": "stream",
     "text": [
      "INFO:tensorflow:Assets written to: Peach_MobileNetV2_model1_Based_Augmented\\assets\n"
     ]
    },
    {
     "name": "stderr",
     "output_type": "stream",
     "text": [
      "INFO:tensorflow:Assets written to: Peach_MobileNetV2_model1_Based_Augmented\\assets\n"
     ]
    },
    {
     "name": "stdout",
     "output_type": "stream",
     "text": [
      "179/179 [==============================] - 43s 241ms/step - loss: 0.0516 - accuracy: 0.9846 - val_loss: 1.1217 - val_accuracy: 0.8025 - lr: 0.0010\n",
      "Epoch 5/100\n",
      "179/179 [==============================] - ETA: 0s - loss: 0.0342 - accuracy: 0.9899\n",
      "Epoch 5: val_accuracy improved from 0.80247 to 0.91582, saving model to Peach_MobileNetV2_model1_Based_Augmented\n"
     ]
    },
    {
     "name": "stderr",
     "output_type": "stream",
     "text": [
      "WARNING:absl:Function `_wrapped_model` contains input name(s) mobilenetv2_1.00_224_input with unsupported characters which will be renamed to mobilenetv2_1_00_224_input in the SavedModel.\n",
      "WARNING:absl:Found untraced functions such as _jit_compiled_convolution_op, _jit_compiled_convolution_op, _jit_compiled_convolution_op, _jit_compiled_convolution_op, _jit_compiled_convolution_op while saving (showing 5 of 52). These functions will not be directly callable after loading.\n"
     ]
    },
    {
     "name": "stdout",
     "output_type": "stream",
     "text": [
      "INFO:tensorflow:Assets written to: Peach_MobileNetV2_model1_Based_Augmented\\assets\n"
     ]
    },
    {
     "name": "stderr",
     "output_type": "stream",
     "text": [
      "INFO:tensorflow:Assets written to: Peach_MobileNetV2_model1_Based_Augmented\\assets\n"
     ]
    },
    {
     "name": "stdout",
     "output_type": "stream",
     "text": [
      "179/179 [==============================] - 44s 243ms/step - loss: 0.0342 - accuracy: 0.9899 - val_loss: 0.5934 - val_accuracy: 0.9158 - lr: 0.0010\n",
      "Epoch 6/100\n",
      "179/179 [==============================] - ETA: 0s - loss: 0.0258 - accuracy: 0.9930\n",
      "Epoch 6: val_accuracy did not improve from 0.91582\n",
      "179/179 [==============================] - 27s 150ms/step - loss: 0.0258 - accuracy: 0.9930 - val_loss: 1.4614 - val_accuracy: 0.7273 - lr: 0.0010\n",
      "Epoch 7/100\n",
      "179/179 [==============================] - ETA: 0s - loss: 0.0351 - accuracy: 0.9907\n",
      "Epoch 7: val_accuracy improved from 0.91582 to 0.98092, saving model to Peach_MobileNetV2_model1_Based_Augmented\n"
     ]
    },
    {
     "name": "stderr",
     "output_type": "stream",
     "text": [
      "WARNING:absl:Function `_wrapped_model` contains input name(s) mobilenetv2_1.00_224_input with unsupported characters which will be renamed to mobilenetv2_1_00_224_input in the SavedModel.\n",
      "WARNING:absl:Found untraced functions such as _jit_compiled_convolution_op, _jit_compiled_convolution_op, _jit_compiled_convolution_op, _jit_compiled_convolution_op, _jit_compiled_convolution_op while saving (showing 5 of 52). These functions will not be directly callable after loading.\n"
     ]
    },
    {
     "name": "stdout",
     "output_type": "stream",
     "text": [
      "INFO:tensorflow:Assets written to: Peach_MobileNetV2_model1_Based_Augmented\\assets\n"
     ]
    },
    {
     "name": "stderr",
     "output_type": "stream",
     "text": [
      "INFO:tensorflow:Assets written to: Peach_MobileNetV2_model1_Based_Augmented\\assets\n"
     ]
    },
    {
     "name": "stdout",
     "output_type": "stream",
     "text": [
      "179/179 [==============================] - 43s 238ms/step - loss: 0.0351 - accuracy: 0.9907 - val_loss: 0.0881 - val_accuracy: 0.9809 - lr: 0.0010\n",
      "Epoch 8/100\n",
      "179/179 [==============================] - ETA: 0s - loss: 0.0290 - accuracy: 0.9919\n",
      "Epoch 8: val_accuracy improved from 0.98092 to 0.99551, saving model to Peach_MobileNetV2_model1_Based_Augmented\n"
     ]
    },
    {
     "name": "stderr",
     "output_type": "stream",
     "text": [
      "WARNING:absl:Function `_wrapped_model` contains input name(s) mobilenetv2_1.00_224_input with unsupported characters which will be renamed to mobilenetv2_1_00_224_input in the SavedModel.\n",
      "WARNING:absl:Found untraced functions such as _jit_compiled_convolution_op, _jit_compiled_convolution_op, _jit_compiled_convolution_op, _jit_compiled_convolution_op, _jit_compiled_convolution_op while saving (showing 5 of 52). These functions will not be directly callable after loading.\n"
     ]
    },
    {
     "name": "stdout",
     "output_type": "stream",
     "text": [
      "INFO:tensorflow:Assets written to: Peach_MobileNetV2_model1_Based_Augmented\\assets\n"
     ]
    },
    {
     "name": "stderr",
     "output_type": "stream",
     "text": [
      "INFO:tensorflow:Assets written to: Peach_MobileNetV2_model1_Based_Augmented\\assets\n"
     ]
    },
    {
     "name": "stdout",
     "output_type": "stream",
     "text": [
      "179/179 [==============================] - 43s 240ms/step - loss: 0.0290 - accuracy: 0.9919 - val_loss: 0.0155 - val_accuracy: 0.9955 - lr: 0.0010\n",
      "Epoch 9/100\n",
      "179/179 [==============================] - ETA: 0s - loss: 0.0166 - accuracy: 0.9938\n",
      "Epoch 9: val_accuracy did not improve from 0.99551\n",
      "179/179 [==============================] - 28s 154ms/step - loss: 0.0166 - accuracy: 0.9938 - val_loss: 0.0374 - val_accuracy: 0.9910 - lr: 0.0010\n",
      "Epoch 10/100\n",
      "179/179 [==============================] - ETA: 0s - loss: 0.0292 - accuracy: 0.9907\n",
      "Epoch 10: val_accuracy did not improve from 0.99551\n",
      "179/179 [==============================] - 28s 155ms/step - loss: 0.0292 - accuracy: 0.9907 - val_loss: 0.0303 - val_accuracy: 0.9921 - lr: 0.0010\n",
      "Epoch 11/100\n",
      "179/179 [==============================] - ETA: 0s - loss: 0.0161 - accuracy: 0.9944\n",
      "Epoch 11: val_accuracy did not improve from 0.99551\n",
      "179/179 [==============================] - 29s 159ms/step - loss: 0.0161 - accuracy: 0.9944 - val_loss: 0.0317 - val_accuracy: 0.9888 - lr: 0.0010\n",
      "Epoch 12/100\n",
      "179/179 [==============================] - ETA: 0s - loss: 0.0280 - accuracy: 0.9919\n",
      "Epoch 12: val_accuracy did not improve from 0.99551\n",
      "179/179 [==============================] - 28s 155ms/step - loss: 0.0280 - accuracy: 0.9919 - val_loss: 0.4464 - val_accuracy: 0.9203 - lr: 0.0010\n",
      "Epoch 13/100\n",
      "179/179 [==============================] - ETA: 0s - loss: 0.0154 - accuracy: 0.9961\n",
      "Epoch 13: val_accuracy improved from 0.99551 to 1.00000, saving model to Peach_MobileNetV2_model1_Based_Augmented\n"
     ]
    },
    {
     "name": "stderr",
     "output_type": "stream",
     "text": [
      "WARNING:absl:Function `_wrapped_model` contains input name(s) mobilenetv2_1.00_224_input with unsupported characters which will be renamed to mobilenetv2_1_00_224_input in the SavedModel.\n",
      "WARNING:absl:Found untraced functions such as _jit_compiled_convolution_op, _jit_compiled_convolution_op, _jit_compiled_convolution_op, _jit_compiled_convolution_op, _jit_compiled_convolution_op while saving (showing 5 of 52). These functions will not be directly callable after loading.\n"
     ]
    },
    {
     "name": "stdout",
     "output_type": "stream",
     "text": [
      "INFO:tensorflow:Assets written to: Peach_MobileNetV2_model1_Based_Augmented\\assets\n"
     ]
    },
    {
     "name": "stderr",
     "output_type": "stream",
     "text": [
      "INFO:tensorflow:Assets written to: Peach_MobileNetV2_model1_Based_Augmented\\assets\n"
     ]
    },
    {
     "name": "stdout",
     "output_type": "stream",
     "text": [
      "179/179 [==============================] - 45s 249ms/step - loss: 0.0154 - accuracy: 0.9961 - val_loss: 0.0020 - val_accuracy: 1.0000 - lr: 0.0010\n",
      "Epoch 14/100\n",
      "179/179 [==============================] - ETA: 0s - loss: 0.0104 - accuracy: 0.9975\n",
      "Epoch 14: val_accuracy did not improve from 1.00000\n",
      "179/179 [==============================] - 27s 150ms/step - loss: 0.0104 - accuracy: 0.9975 - val_loss: 0.0934 - val_accuracy: 0.9675 - lr: 0.0010\n",
      "Epoch 15/100\n",
      "179/179 [==============================] - ETA: 0s - loss: 0.0324 - accuracy: 0.9921\n",
      "Epoch 15: val_accuracy did not improve from 1.00000\n",
      "179/179 [==============================] - 27s 152ms/step - loss: 0.0324 - accuracy: 0.9921 - val_loss: 0.0020 - val_accuracy: 0.9989 - lr: 0.0010\n",
      "Epoch 16/100\n",
      "179/179 [==============================] - ETA: 0s - loss: 0.0210 - accuracy: 0.9941\n",
      "Epoch 16: val_accuracy did not improve from 1.00000\n",
      "179/179 [==============================] - 27s 149ms/step - loss: 0.0210 - accuracy: 0.9941 - val_loss: 0.0153 - val_accuracy: 0.9955 - lr: 0.0010\n",
      "Epoch 17/100\n",
      "179/179 [==============================] - ETA: 0s - loss: 0.0295 - accuracy: 0.9921\n",
      "Epoch 17: val_accuracy did not improve from 1.00000\n",
      "179/179 [==============================] - 28s 157ms/step - loss: 0.0295 - accuracy: 0.9921 - val_loss: 0.0062 - val_accuracy: 1.0000 - lr: 0.0010\n",
      "Epoch 18/100\n",
      "179/179 [==============================] - ETA: 0s - loss: 0.0163 - accuracy: 0.9938\n",
      "Epoch 18: val_accuracy did not improve from 1.00000\n",
      "\n",
      "Epoch 18: ReduceLROnPlateau reducing learning rate to 0.00010000000474974513.\n",
      "179/179 [==============================] - 27s 150ms/step - loss: 0.0163 - accuracy: 0.9938 - val_loss: 0.0385 - val_accuracy: 0.9933 - lr: 0.0010\n",
      "Epoch 19/100\n",
      "179/179 [==============================] - ETA: 0s - loss: 0.0076 - accuracy: 0.9992\n",
      "Epoch 19: val_accuracy did not improve from 1.00000\n",
      "179/179 [==============================] - 28s 154ms/step - loss: 0.0076 - accuracy: 0.9992 - val_loss: 0.0270 - val_accuracy: 0.9955 - lr: 1.0000e-04\n",
      "Epoch 20/100\n",
      "179/179 [==============================] - ETA: 0s - loss: 0.0079 - accuracy: 0.9986\n",
      "Epoch 20: val_accuracy did not improve from 1.00000\n",
      "179/179 [==============================] - 27s 150ms/step - loss: 0.0079 - accuracy: 0.9986 - val_loss: 0.0164 - val_accuracy: 0.9966 - lr: 1.0000e-04\n",
      "Epoch 21/100\n",
      "179/179 [==============================] - ETA: 0s - loss: 0.0033 - accuracy: 0.9989\n",
      "Epoch 21: val_accuracy did not improve from 1.00000\n",
      "179/179 [==============================] - 27s 152ms/step - loss: 0.0033 - accuracy: 0.9989 - val_loss: 0.0268 - val_accuracy: 0.9966 - lr: 1.0000e-04\n",
      "Epoch 22/100\n",
      "179/179 [==============================] - ETA: 0s - loss: 0.0039 - accuracy: 0.9986\n",
      "Epoch 22: val_accuracy did not improve from 1.00000\n",
      "179/179 [==============================] - 27s 151ms/step - loss: 0.0039 - accuracy: 0.9986 - val_loss: 0.0304 - val_accuracy: 0.9966 - lr: 1.0000e-04\n",
      "Epoch 23/100\n",
      "179/179 [==============================] - ETA: 0s - loss: 0.0045 - accuracy: 0.9986\n",
      "Epoch 23: val_accuracy did not improve from 1.00000\n",
      "\n",
      "Epoch 23: ReduceLROnPlateau reducing learning rate to 1.0000000474974514e-05.\n",
      "179/179 [==============================] - 28s 153ms/step - loss: 0.0045 - accuracy: 0.9986 - val_loss: 0.0181 - val_accuracy: 0.9966 - lr: 1.0000e-04\n",
      "Epoch 24/100\n",
      "179/179 [==============================] - ETA: 0s - loss: 0.0042 - accuracy: 0.9989\n",
      "Epoch 24: val_accuracy did not improve from 1.00000\n",
      "179/179 [==============================] - 27s 152ms/step - loss: 0.0042 - accuracy: 0.9989 - val_loss: 0.0148 - val_accuracy: 0.9966 - lr: 1.0000e-05\n",
      "Epoch 25/100\n",
      "179/179 [==============================] - ETA: 0s - loss: 0.0020 - accuracy: 0.9994\n",
      "Epoch 25: val_accuracy did not improve from 1.00000\n",
      "179/179 [==============================] - 27s 153ms/step - loss: 0.0020 - accuracy: 0.9994 - val_loss: 0.0135 - val_accuracy: 0.9966 - lr: 1.0000e-05\n",
      "Epoch 26/100\n",
      "179/179 [==============================] - ETA: 0s - loss: 0.0015 - accuracy: 0.9994\n",
      "Epoch 26: val_accuracy did not improve from 1.00000\n",
      "179/179 [==============================] - 27s 150ms/step - loss: 0.0015 - accuracy: 0.9994 - val_loss: 0.0122 - val_accuracy: 0.9966 - lr: 1.0000e-05\n",
      "Epoch 27/100\n",
      "179/179 [==============================] - ETA: 0s - loss: 0.0108 - accuracy: 0.9980\n",
      "Epoch 27: val_accuracy did not improve from 1.00000\n",
      "179/179 [==============================] - 27s 153ms/step - loss: 0.0108 - accuracy: 0.9980 - val_loss: 0.0088 - val_accuracy: 0.9989 - lr: 1.0000e-05\n",
      "Epoch 28/100\n",
      "179/179 [==============================] - ETA: 0s - loss: 0.0048 - accuracy: 0.9980\n",
      "Epoch 28: val_accuracy did not improve from 1.00000\n",
      "\n",
      "Epoch 28: ReduceLROnPlateau reducing learning rate to 1.0000000656873453e-06.\n",
      "179/179 [==============================] - 27s 152ms/step - loss: 0.0048 - accuracy: 0.9980 - val_loss: 0.0078 - val_accuracy: 0.9989 - lr: 1.0000e-05\n",
      "Epoch 29/100\n",
      "179/179 [==============================] - ETA: 0s - loss: 0.0062 - accuracy: 0.9992\n",
      "Epoch 29: val_accuracy did not improve from 1.00000\n",
      "179/179 [==============================] - 27s 153ms/step - loss: 0.0062 - accuracy: 0.9992 - val_loss: 0.0075 - val_accuracy: 0.9989 - lr: 1.0000e-06\n",
      "Epoch 30/100\n",
      "179/179 [==============================] - ETA: 0s - loss: 0.0075 - accuracy: 0.9972\n",
      "Epoch 30: val_accuracy did not improve from 1.00000\n",
      "179/179 [==============================] - 27s 151ms/step - loss: 0.0075 - accuracy: 0.9972 - val_loss: 0.0072 - val_accuracy: 0.9989 - lr: 1.0000e-06\n",
      "Epoch 31/100\n",
      "179/179 [==============================] - ETA: 0s - loss: 5.4642e-04 - accuracy: 1.0000\n",
      "Epoch 31: val_accuracy did not improve from 1.00000\n",
      "179/179 [==============================] - 27s 153ms/step - loss: 5.4642e-04 - accuracy: 1.0000 - val_loss: 0.0069 - val_accuracy: 0.9989 - lr: 1.0000e-06\n",
      "Epoch 32/100\n",
      "179/179 [==============================] - ETA: 0s - loss: 0.0046 - accuracy: 0.9989\n",
      "Epoch 32: val_accuracy did not improve from 1.00000\n",
      "179/179 [==============================] - 27s 151ms/step - loss: 0.0046 - accuracy: 0.9989 - val_loss: 0.0069 - val_accuracy: 0.9989 - lr: 1.0000e-06\n",
      "Epoch 33/100\n",
      "179/179 [==============================] - ETA: 0s - loss: 9.7054e-04 - accuracy: 0.9997\n",
      "Epoch 33: val_accuracy did not improve from 1.00000\n",
      "Restoring model weights from the end of the best epoch: 13.\n",
      "\n",
      "Epoch 33: ReduceLROnPlateau reducing learning rate to 1.0000001111620805e-07.\n",
      "179/179 [==============================] - 28s 158ms/step - loss: 9.7054e-04 - accuracy: 0.9997 - val_loss: 0.0066 - val_accuracy: 0.9989 - lr: 1.0000e-06\n",
      "Epoch 33: early stopping\n"
     ]
    }
   ],
   "source": [
    "# Define the number of epochs\n",
    "num_epochs = 100\n",
    "\n",
    "# Train the model\n",
    "history_MobileNetV2_model_1 = MobileNetV2_model.fit(train_generator, epochs=num_epochs, validation_data=validation_generator, callbacks=callbacks)"
   ]
  },
  {
   "cell_type": "code",
   "execution_count": 12,
   "metadata": {
    "colab": {
     "base_uri": "https://localhost:8080/",
     "height": 904
    },
    "id": "lvS9xz3LU2TI",
    "outputId": "f0ad29c7-f5a5-4f8a-ed43-d5268b53f9e5",
    "tags": []
   },
   "outputs": [
    {
     "data": {
      "text/plain": [
       "<matplotlib.legend.Legend at 0x250ee084a30>"
      ]
     },
     "execution_count": 12,
     "metadata": {},
     "output_type": "execute_result"
    },
    {
     "data": {
      "image/png": "[encoded data removed]",
      "text/plain": [
       "<Figure size 640x480 with 1 Axes>"
      ]
     },
     "metadata": {},
     "output_type": "display_data"
    },
    {
     "data": {
      "image/png": "[encoded data removed]",
      "text/plain": [
       "<Figure size 640x480 with 1 Axes>"
      ]
     },
     "metadata": {},
     "output_type": "display_data"
    }
   ],
   "source": [
    "#-----------------------------------------------------------\n",
    "# Retrieve a list of list results on training and test data\n",
    "# sets for each training epoch\n",
    "#-----------------------------------------------------------\n",
    "acc      = history_MobileNetV2_model_1.history['accuracy' ]\n",
    "val_acc  = history_MobileNetV2_model_1.history['val_accuracy' ]\n",
    "loss     = history_MobileNetV2_model_1.history['loss' ]\n",
    "val_loss = history_MobileNetV2_model_1.history['val_loss' ]\n",
    "\n",
    "epochs   = range(len(acc)) # Get number of epochs\n",
    "\n",
    "#------------------------------------------------\n",
    "# Plot training and validation accuracy per epoch\n",
    "#------------------------------------------------\n",
    "plt.plot  (epochs, acc )\n",
    "plt.plot  (epochs, val_acc )\n",
    "plt.title ('Training and validation accuracy MobileNetV2 Model 1')\n",
    "plt.legend(['train', 'val'], loc='upper left')\n",
    "plt.figure()\n",
    "\n",
    "#------------------------------------------------\n",
    "# Plot training and validation loss per epoch\n",
    "#------------------------------------------------\n",
    "plt.plot  (epochs, loss)\n",
    "plt.plot  (epochs, val_loss)\n",
    "plt.title ('Training and validation loss MobileNetV2 Model 1')\n",
    "plt.legend(['train', 'val'], loc='upper left')"
   ]
  },
  {
   "attachments": {},
   "cell_type": "markdown",
   "metadata": {
    "id": "SvQOR9IuU2TJ"
   },
   "source": [
    "## MobileNetV2 Model 2"
   ]
  },
  {
   "cell_type": "code",
   "execution_count": 13,
   "metadata": {
    "id": "Tj7lcdvUU2TJ",
    "tags": []
   },
   "outputs": [],
   "source": [
    "# Difine the callbacks\n",
    "# Save the best model\n",
    "checkpoint_callback = ModelCheckpoint(filepath=\"Peach_MobileNetV2_model2_Based_Augmented\", save_best_only=True, monitor=\"val_accuracy\", mode=\"max\", verbose=1)\n",
    "\n",
    "# Early stopping\n",
    "early_stopping_callback = EarlyStopping(monitor=\"val_accuracy\", mode=\"max\", patience=20, verbose=1, restore_best_weights=True)\n",
    "\n",
    "# Reduce learning rate\n",
    "reduce_lr_callback = ReduceLROnPlateau(monitor=\"val_loss\", factor=0.1, patience=5, verbose=1, mode=\"min\", min_delta=0.0001, cooldown=0, min_lr=0)\n",
    "\n",
    "# Callbacks list\n",
    "callbacks=[checkpoint_callback, early_stopping_callback, reduce_lr_callback]"
   ]
  },
  {
   "cell_type": "code",
   "execution_count": 14,
   "metadata": {
    "colab": {
     "base_uri": "https://localhost:8080/"
    },
    "id": "7NKPY1xGU2TJ",
    "outputId": "e2b7074f-db05-4283-99ee-809a1555aa90",
    "tags": []
   },
   "outputs": [
    {
     "name": "stdout",
     "output_type": "stream",
     "text": [
      "Model: \"sequential_1\"\n",
      "_________________________________________________________________\n",
      " Layer (type)                Output Shape              Param #   \n",
      "=================================================================\n",
      " mobilenetv2_1.00_224 (Funct  (None, 7, 7, 1280)       2257984   \n",
      " ional)                                                          \n",
      "                                                                 \n",
      " global_average_pooling2d (G  (None, 1280)             0         \n",
      " lobalAveragePooling2D)                                          \n",
      "                                                                 \n",
      " dropout_1 (Dropout)         (None, 1280)              0         \n",
      "                                                                 \n",
      " dense_2 (Dense)             (None, 256)               327936    \n",
      "                                                                 \n",
      " dense_3 (Dense)             (None, 2)                 514       \n",
      "                                                                 \n",
      "=================================================================\n",
      "Total params: 2,586,434\n",
      "Trainable params: 2,552,322\n",
      "Non-trainable params: 34,112\n",
      "_________________________________________________________________\n"
     ]
    }
   ],
   "source": [
    "# Define DIY Model\n",
    "MobileNetV2_model_2 = tf.keras.models.Sequential([\n",
    "    # MobileNetV2 Layer\n",
    "    MobileNetV2(include_top=False,weights='imagenet',input_shape=(224, 224, 3)),\n",
    "    # Global Average Pooling Layer\n",
    "    tf.keras.layers.GlobalAveragePooling2D(),\n",
    "    # Drop Out Layer\n",
    "    tf.keras.layers.Dropout(0.2),\n",
    "    # 256 neuron hidden layer\n",
    "    tf.keras.layers.Dense(256, activation='relu'),\n",
    "    # Output\n",
    "    tf.keras.layers.Dense(2, activation='softmax') \n",
    "  ])\n",
    "\n",
    "\n",
    "# Compile Model\n",
    "MobileNetV2_model_2.compile(loss='categorical_crossentropy',optimizer=tf.keras.optimizers.Adam(), metrics=['accuracy']) \n",
    "\n",
    "# Model Summary\n",
    "MobileNetV2_model_2.summary()"
   ]
  },
  {
   "cell_type": "code",
   "execution_count": 15,
   "metadata": {
    "colab": {
     "base_uri": "https://localhost:8080/"
    },
    "id": "6beuexC9U2TJ",
    "outputId": "d6313a63-830a-4fbe-e1a6-1e0958865bf8",
    "tags": []
   },
   "outputs": [
    {
     "name": "stdout",
     "output_type": "stream",
     "text": [
      "Epoch 1/100\n",
      "179/179 [==============================] - ETA: 0s - loss: 0.0898 - accuracy: 0.9706\n",
      "Epoch 1: val_accuracy improved from -inf to 0.52189, saving model to Peach_MobileNetV2_model2_Based_Augmented\n"
     ]
    },
    {
     "name": "stderr",
     "output_type": "stream",
     "text": [
      "WARNING:absl:Function `_wrapped_model` contains input name(s) mobilenetv2_1.00_224_input with unsupported characters which will be renamed to mobilenetv2_1_00_224_input in the SavedModel.\n",
      "WARNING:absl:Found untraced functions such as _jit_compiled_convolution_op, _jit_compiled_convolution_op, _jit_compiled_convolution_op, _jit_compiled_convolution_op, _jit_compiled_convolution_op while saving (showing 5 of 52). These functions will not be directly callable after loading.\n"
     ]
    },
    {
     "name": "stdout",
     "output_type": "stream",
     "text": [
      "INFO:tensorflow:Assets written to: Peach_MobileNetV2_model2_Based_Augmented\\assets\n"
     ]
    },
    {
     "name": "stderr",
     "output_type": "stream",
     "text": [
      "INFO:tensorflow:Assets written to: Peach_MobileNetV2_model2_Based_Augmented\\assets\n"
     ]
    },
    {
     "name": "stdout",
     "output_type": "stream",
     "text": [
      "179/179 [==============================] - 47s 244ms/step - loss: 0.0898 - accuracy: 0.9706 - val_loss: 3.2855 - val_accuracy: 0.5219 - lr: 0.0010\n",
      "Epoch 2/100\n",
      "179/179 [==============================] - ETA: 0s - loss: 0.0584 - accuracy: 0.9837\n",
      "Epoch 2: val_accuracy improved from 0.52189 to 0.93603, saving model to Peach_MobileNetV2_model2_Based_Augmented\n"
     ]
    },
    {
     "name": "stderr",
     "output_type": "stream",
     "text": [
      "WARNING:absl:Function `_wrapped_model` contains input name(s) mobilenetv2_1.00_224_input with unsupported characters which will be renamed to mobilenetv2_1_00_224_input in the SavedModel.\n",
      "WARNING:absl:Found untraced functions such as _jit_compiled_convolution_op, _jit_compiled_convolution_op, _jit_compiled_convolution_op, _jit_compiled_convolution_op, _jit_compiled_convolution_op while saving (showing 5 of 52). These functions will not be directly callable after loading.\n"
     ]
    },
    {
     "name": "stdout",
     "output_type": "stream",
     "text": [
      "INFO:tensorflow:Assets written to: Peach_MobileNetV2_model2_Based_Augmented\\assets\n"
     ]
    },
    {
     "name": "stderr",
     "output_type": "stream",
     "text": [
      "INFO:tensorflow:Assets written to: Peach_MobileNetV2_model2_Based_Augmented\\assets\n"
     ]
    },
    {
     "name": "stdout",
     "output_type": "stream",
     "text": [
      "179/179 [==============================] - 43s 240ms/step - loss: 0.0584 - accuracy: 0.9837 - val_loss: 0.2003 - val_accuracy: 0.9360 - lr: 0.0010\n",
      "Epoch 3/100\n",
      "179/179 [==============================] - ETA: 0s - loss: 0.0724 - accuracy: 0.9832\n",
      "Epoch 3: val_accuracy did not improve from 0.93603\n",
      "179/179 [==============================] - 28s 156ms/step - loss: 0.0724 - accuracy: 0.9832 - val_loss: 18.1979 - val_accuracy: 0.4848 - lr: 0.0010\n",
      "Epoch 4/100\n",
      "179/179 [==============================] - ETA: 0s - loss: 0.0521 - accuracy: 0.9854\n",
      "Epoch 4: val_accuracy did not improve from 0.93603\n",
      "179/179 [==============================] - 28s 156ms/step - loss: 0.0521 - accuracy: 0.9854 - val_loss: 0.6695 - val_accuracy: 0.6723 - lr: 0.0010\n",
      "Epoch 5/100\n",
      "179/179 [==============================] - ETA: 0s - loss: 0.0446 - accuracy: 0.9851\n",
      "Epoch 5: val_accuracy did not improve from 0.93603\n",
      "179/179 [==============================] - 29s 162ms/step - loss: 0.0446 - accuracy: 0.9851 - val_loss: 18.7834 - val_accuracy: 0.4848 - lr: 0.0010\n",
      "Epoch 6/100\n",
      "179/179 [==============================] - ETA: 0s - loss: 0.0135 - accuracy: 0.9961\n",
      "Epoch 6: val_accuracy did not improve from 0.93603\n",
      "179/179 [==============================] - 28s 156ms/step - loss: 0.0135 - accuracy: 0.9961 - val_loss: 4.6947 - val_accuracy: 0.6566 - lr: 0.0010\n",
      "Epoch 7/100\n",
      "179/179 [==============================] - ETA: 0s - loss: 0.0196 - accuracy: 0.9936\n",
      "Epoch 7: val_accuracy did not improve from 0.93603\n",
      "\n",
      "Epoch 7: ReduceLROnPlateau reducing learning rate to 0.00010000000474974513.\n",
      "179/179 [==============================] - 29s 159ms/step - loss: 0.0196 - accuracy: 0.9936 - val_loss: 1.9579 - val_accuracy: 0.8586 - lr: 0.0010\n",
      "Epoch 8/100\n",
      "179/179 [==============================] - ETA: 0s - loss: 0.0143 - accuracy: 0.9966\n",
      "Epoch 8: val_accuracy improved from 0.93603 to 0.97194, saving model to Peach_MobileNetV2_model2_Based_Augmented\n"
     ]
    },
    {
     "name": "stderr",
     "output_type": "stream",
     "text": [
      "WARNING:absl:Function `_wrapped_model` contains input name(s) mobilenetv2_1.00_224_input with unsupported characters which will be renamed to mobilenetv2_1_00_224_input in the SavedModel.\n",
      "WARNING:absl:Found untraced functions such as _jit_compiled_convolution_op, _jit_compiled_convolution_op, _jit_compiled_convolution_op, _jit_compiled_convolution_op, _jit_compiled_convolution_op while saving (showing 5 of 52). These functions will not be directly callable after loading.\n"
     ]
    },
    {
     "name": "stdout",
     "output_type": "stream",
     "text": [
      "INFO:tensorflow:Assets written to: Peach_MobileNetV2_model2_Based_Augmented\\assets\n"
     ]
    },
    {
     "name": "stderr",
     "output_type": "stream",
     "text": [
      "INFO:tensorflow:Assets written to: Peach_MobileNetV2_model2_Based_Augmented\\assets\n"
     ]
    },
    {
     "name": "stdout",
     "output_type": "stream",
     "text": [
      "179/179 [==============================] - 44s 246ms/step - loss: 0.0143 - accuracy: 0.9966 - val_loss: 0.3274 - val_accuracy: 0.9719 - lr: 1.0000e-04\n",
      "Epoch 9/100\n",
      "179/179 [==============================] - ETA: 0s - loss: 0.0116 - accuracy: 0.9955\n",
      "Epoch 9: val_accuracy improved from 0.97194 to 0.98878, saving model to Peach_MobileNetV2_model2_Based_Augmented\n"
     ]
    },
    {
     "name": "stderr",
     "output_type": "stream",
     "text": [
      "WARNING:absl:Function `_wrapped_model` contains input name(s) mobilenetv2_1.00_224_input with unsupported characters which will be renamed to mobilenetv2_1_00_224_input in the SavedModel.\n",
      "WARNING:absl:Found untraced functions such as _jit_compiled_convolution_op, _jit_compiled_convolution_op, _jit_compiled_convolution_op, _jit_compiled_convolution_op, _jit_compiled_convolution_op while saving (showing 5 of 52). These functions will not be directly callable after loading.\n"
     ]
    },
    {
     "name": "stdout",
     "output_type": "stream",
     "text": [
      "INFO:tensorflow:Assets written to: Peach_MobileNetV2_model2_Based_Augmented\\assets\n"
     ]
    },
    {
     "name": "stderr",
     "output_type": "stream",
     "text": [
      "INFO:tensorflow:Assets written to: Peach_MobileNetV2_model2_Based_Augmented\\assets\n"
     ]
    },
    {
     "name": "stdout",
     "output_type": "stream",
     "text": [
      "179/179 [==============================] - 44s 245ms/step - loss: 0.0116 - accuracy: 0.9955 - val_loss: 0.0890 - val_accuracy: 0.9888 - lr: 1.0000e-04\n",
      "Epoch 10/100\n",
      "179/179 [==============================] - ETA: 0s - loss: 0.0083 - accuracy: 0.9978\n",
      "Epoch 10: val_accuracy improved from 0.98878 to 0.99327, saving model to Peach_MobileNetV2_model2_Based_Augmented\n"
     ]
    },
    {
     "name": "stderr",
     "output_type": "stream",
     "text": [
      "WARNING:absl:Function `_wrapped_model` contains input name(s) mobilenetv2_1.00_224_input with unsupported characters which will be renamed to mobilenetv2_1_00_224_input in the SavedModel.\n",
      "WARNING:absl:Found untraced functions such as _jit_compiled_convolution_op, _jit_compiled_convolution_op, _jit_compiled_convolution_op, _jit_compiled_convolution_op, _jit_compiled_convolution_op while saving (showing 5 of 52). These functions will not be directly callable after loading.\n"
     ]
    },
    {
     "name": "stdout",
     "output_type": "stream",
     "text": [
      "INFO:tensorflow:Assets written to: Peach_MobileNetV2_model2_Based_Augmented\\assets\n"
     ]
    },
    {
     "name": "stderr",
     "output_type": "stream",
     "text": [
      "INFO:tensorflow:Assets written to: Peach_MobileNetV2_model2_Based_Augmented\\assets\n"
     ]
    },
    {
     "name": "stdout",
     "output_type": "stream",
     "text": [
      "179/179 [==============================] - 44s 244ms/step - loss: 0.0083 - accuracy: 0.9978 - val_loss: 0.0400 - val_accuracy: 0.9933 - lr: 1.0000e-04\n",
      "Epoch 11/100\n",
      "179/179 [==============================] - ETA: 0s - loss: 0.0023 - accuracy: 0.9992\n",
      "Epoch 11: val_accuracy improved from 0.99327 to 0.99439, saving model to Peach_MobileNetV2_model2_Based_Augmented\n"
     ]
    },
    {
     "name": "stderr",
     "output_type": "stream",
     "text": [
      "WARNING:absl:Function `_wrapped_model` contains input name(s) mobilenetv2_1.00_224_input with unsupported characters which will be renamed to mobilenetv2_1_00_224_input in the SavedModel.\n",
      "WARNING:absl:Found untraced functions such as _jit_compiled_convolution_op, _jit_compiled_convolution_op, _jit_compiled_convolution_op, _jit_compiled_convolution_op, _jit_compiled_convolution_op while saving (showing 5 of 52). These functions will not be directly callable after loading.\n"
     ]
    },
    {
     "name": "stdout",
     "output_type": "stream",
     "text": [
      "INFO:tensorflow:Assets written to: Peach_MobileNetV2_model2_Based_Augmented\\assets\n"
     ]
    },
    {
     "name": "stderr",
     "output_type": "stream",
     "text": [
      "INFO:tensorflow:Assets written to: Peach_MobileNetV2_model2_Based_Augmented\\assets\n"
     ]
    },
    {
     "name": "stdout",
     "output_type": "stream",
     "text": [
      "179/179 [==============================] - 44s 245ms/step - loss: 0.0023 - accuracy: 0.9992 - val_loss: 0.0186 - val_accuracy: 0.9944 - lr: 1.0000e-04\n",
      "Epoch 12/100\n",
      "179/179 [==============================] - ETA: 0s - loss: 0.0157 - accuracy: 0.9972\n",
      "Epoch 12: val_accuracy improved from 0.99439 to 0.99776, saving model to Peach_MobileNetV2_model2_Based_Augmented\n"
     ]
    },
    {
     "name": "stderr",
     "output_type": "stream",
     "text": [
      "WARNING:absl:Function `_wrapped_model` contains input name(s) mobilenetv2_1.00_224_input with unsupported characters which will be renamed to mobilenetv2_1_00_224_input in the SavedModel.\n",
      "WARNING:absl:Found untraced functions such as _jit_compiled_convolution_op, _jit_compiled_convolution_op, _jit_compiled_convolution_op, _jit_compiled_convolution_op, _jit_compiled_convolution_op while saving (showing 5 of 52). These functions will not be directly callable after loading.\n"
     ]
    },
    {
     "name": "stdout",
     "output_type": "stream",
     "text": [
      "INFO:tensorflow:Assets written to: Peach_MobileNetV2_model2_Based_Augmented\\assets\n"
     ]
    },
    {
     "name": "stderr",
     "output_type": "stream",
     "text": [
      "INFO:tensorflow:Assets written to: Peach_MobileNetV2_model2_Based_Augmented\\assets\n"
     ]
    },
    {
     "name": "stdout",
     "output_type": "stream",
     "text": [
      "179/179 [==============================] - 44s 246ms/step - loss: 0.0157 - accuracy: 0.9972 - val_loss: 0.0043 - val_accuracy: 0.9978 - lr: 1.0000e-04\n",
      "Epoch 13/100\n",
      "179/179 [==============================] - ETA: 0s - loss: 0.0047 - accuracy: 0.9986\n",
      "Epoch 13: val_accuracy improved from 0.99776 to 0.99888, saving model to Peach_MobileNetV2_model2_Based_Augmented\n"
     ]
    },
    {
     "name": "stderr",
     "output_type": "stream",
     "text": [
      "WARNING:absl:Function `_wrapped_model` contains input name(s) mobilenetv2_1.00_224_input with unsupported characters which will be renamed to mobilenetv2_1_00_224_input in the SavedModel.\n",
      "WARNING:absl:Found untraced functions such as _jit_compiled_convolution_op, _jit_compiled_convolution_op, _jit_compiled_convolution_op, _jit_compiled_convolution_op, _jit_compiled_convolution_op while saving (showing 5 of 52). These functions will not be directly callable after loading.\n"
     ]
    },
    {
     "name": "stdout",
     "output_type": "stream",
     "text": [
      "INFO:tensorflow:Assets written to: Peach_MobileNetV2_model2_Based_Augmented\\assets\n"
     ]
    },
    {
     "name": "stderr",
     "output_type": "stream",
     "text": [
      "INFO:tensorflow:Assets written to: Peach_MobileNetV2_model2_Based_Augmented\\assets\n"
     ]
    },
    {
     "name": "stdout",
     "output_type": "stream",
     "text": [
      "179/179 [==============================] - 45s 248ms/step - loss: 0.0047 - accuracy: 0.9986 - val_loss: 0.0024 - val_accuracy: 0.9989 - lr: 1.0000e-04\n",
      "Epoch 14/100\n",
      "179/179 [==============================] - ETA: 0s - loss: 0.0025 - accuracy: 0.9994\n",
      "Epoch 14: val_accuracy did not improve from 0.99888\n",
      "179/179 [==============================] - 29s 159ms/step - loss: 0.0025 - accuracy: 0.9994 - val_loss: 0.0046 - val_accuracy: 0.9978 - lr: 1.0000e-04\n",
      "Epoch 15/100\n",
      "179/179 [==============================] - ETA: 0s - loss: 0.0030 - accuracy: 0.9986\n",
      "Epoch 15: val_accuracy did not improve from 0.99888\n",
      "179/179 [==============================] - 29s 159ms/step - loss: 0.0030 - accuracy: 0.9986 - val_loss: 0.0119 - val_accuracy: 0.9955 - lr: 1.0000e-04\n",
      "Epoch 16/100\n",
      "179/179 [==============================] - ETA: 0s - loss: 0.0052 - accuracy: 0.9978\n",
      "Epoch 16: val_accuracy did not improve from 0.99888\n",
      "179/179 [==============================] - 28s 158ms/step - loss: 0.0052 - accuracy: 0.9978 - val_loss: 0.0142 - val_accuracy: 0.9966 - lr: 1.0000e-04\n",
      "Epoch 17/100\n",
      "179/179 [==============================] - ETA: 0s - loss: 0.0031 - accuracy: 0.9986\n",
      "Epoch 17: val_accuracy improved from 0.99888 to 1.00000, saving model to Peach_MobileNetV2_model2_Based_Augmented\n"
     ]
    },
    {
     "name": "stderr",
     "output_type": "stream",
     "text": [
      "WARNING:absl:Function `_wrapped_model` contains input name(s) mobilenetv2_1.00_224_input with unsupported characters which will be renamed to mobilenetv2_1_00_224_input in the SavedModel.\n",
      "WARNING:absl:Found untraced functions such as _jit_compiled_convolution_op, _jit_compiled_convolution_op, _jit_compiled_convolution_op, _jit_compiled_convolution_op, _jit_compiled_convolution_op while saving (showing 5 of 52). These functions will not be directly callable after loading.\n"
     ]
    },
    {
     "name": "stdout",
     "output_type": "stream",
     "text": [
      "INFO:tensorflow:Assets written to: Peach_MobileNetV2_model2_Based_Augmented\\assets\n"
     ]
    },
    {
     "name": "stderr",
     "output_type": "stream",
     "text": [
      "INFO:tensorflow:Assets written to: Peach_MobileNetV2_model2_Based_Augmented\\assets\n"
     ]
    },
    {
     "name": "stdout",
     "output_type": "stream",
     "text": [
      "179/179 [==============================] - 44s 247ms/step - loss: 0.0031 - accuracy: 0.9986 - val_loss: 3.6869e-04 - val_accuracy: 1.0000 - lr: 1.0000e-04\n",
      "Epoch 18/100\n",
      "179/179 [==============================] - ETA: 0s - loss: 0.0023 - accuracy: 0.9997\n",
      "Epoch 18: val_accuracy did not improve from 1.00000\n",
      "179/179 [==============================] - 29s 161ms/step - loss: 0.0023 - accuracy: 0.9997 - val_loss: 3.1638e-04 - val_accuracy: 1.0000 - lr: 1.0000e-04\n",
      "Epoch 19/100\n",
      "179/179 [==============================] - ETA: 0s - loss: 0.0046 - accuracy: 0.9980\n",
      "Epoch 19: val_accuracy did not improve from 1.00000\n",
      "179/179 [==============================] - 29s 160ms/step - loss: 0.0046 - accuracy: 0.9980 - val_loss: 0.0148 - val_accuracy: 0.9955 - lr: 1.0000e-04\n",
      "Epoch 20/100\n",
      "179/179 [==============================] - ETA: 0s - loss: 0.0013 - accuracy: 0.9994\n",
      "Epoch 20: val_accuracy did not improve from 1.00000\n",
      "179/179 [==============================] - 29s 160ms/step - loss: 0.0013 - accuracy: 0.9994 - val_loss: 0.0142 - val_accuracy: 0.9966 - lr: 1.0000e-04\n",
      "Epoch 21/100\n",
      "179/179 [==============================] - ETA: 0s - loss: 0.0030 - accuracy: 0.9992\n",
      "Epoch 21: val_accuracy did not improve from 1.00000\n",
      "179/179 [==============================] - 29s 161ms/step - loss: 0.0030 - accuracy: 0.9992 - val_loss: 0.0084 - val_accuracy: 0.9966 - lr: 1.0000e-04\n",
      "Epoch 22/100\n",
      "179/179 [==============================] - ETA: 0s - loss: 7.5842e-04 - accuracy: 1.0000\n",
      "Epoch 22: val_accuracy did not improve from 1.00000\n",
      "\n",
      "Epoch 22: ReduceLROnPlateau reducing learning rate to 1.0000000474974514e-05.\n",
      "179/179 [==============================] - 29s 161ms/step - loss: 7.5842e-04 - accuracy: 1.0000 - val_loss: 0.0059 - val_accuracy: 0.9978 - lr: 1.0000e-04\n",
      "Epoch 23/100\n",
      "179/179 [==============================] - ETA: 0s - loss: 0.0024 - accuracy: 0.9994\n",
      "Epoch 23: val_accuracy did not improve from 1.00000\n",
      "179/179 [==============================] - 29s 163ms/step - loss: 0.0024 - accuracy: 0.9994 - val_loss: 0.0023 - val_accuracy: 0.9989 - lr: 1.0000e-05\n",
      "Epoch 24/100\n",
      "179/179 [==============================] - ETA: 0s - loss: 4.9366e-04 - accuracy: 1.0000\n",
      "Epoch 24: val_accuracy did not improve from 1.00000\n",
      "179/179 [==============================] - 29s 161ms/step - loss: 4.9366e-04 - accuracy: 1.0000 - val_loss: 0.0018 - val_accuracy: 0.9989 - lr: 1.0000e-05\n",
      "Epoch 25/100\n",
      "179/179 [==============================] - ETA: 0s - loss: 8.4573e-04 - accuracy: 0.9997\n",
      "Epoch 25: val_accuracy did not improve from 1.00000\n",
      "179/179 [==============================] - 29s 161ms/step - loss: 8.4573e-04 - accuracy: 0.9997 - val_loss: 0.0011 - val_accuracy: 1.0000 - lr: 1.0000e-05\n",
      "Epoch 26/100\n",
      "179/179 [==============================] - ETA: 0s - loss: 0.0042 - accuracy: 0.9986\n",
      "Epoch 26: val_accuracy did not improve from 1.00000\n",
      "179/179 [==============================] - 29s 162ms/step - loss: 0.0042 - accuracy: 0.9986 - val_loss: 0.0017 - val_accuracy: 0.9989 - lr: 1.0000e-05\n",
      "Epoch 27/100\n",
      "179/179 [==============================] - ETA: 0s - loss: 3.3299e-04 - accuracy: 1.0000\n",
      "Epoch 27: val_accuracy did not improve from 1.00000\n",
      "\n",
      "Epoch 27: ReduceLROnPlateau reducing learning rate to 1.0000000656873453e-06.\n",
      "179/179 [==============================] - 29s 161ms/step - loss: 3.3299e-04 - accuracy: 1.0000 - val_loss: 0.0013 - val_accuracy: 1.0000 - lr: 1.0000e-05\n",
      "Epoch 28/100\n",
      "179/179 [==============================] - ETA: 0s - loss: 9.3679e-04 - accuracy: 0.9997\n",
      "Epoch 28: val_accuracy did not improve from 1.00000\n",
      "179/179 [==============================] - 29s 160ms/step - loss: 9.3679e-04 - accuracy: 0.9997 - val_loss: 0.0010 - val_accuracy: 1.0000 - lr: 1.0000e-06\n",
      "Epoch 29/100\n",
      "179/179 [==============================] - ETA: 0s - loss: 6.9073e-04 - accuracy: 0.9997\n",
      "Epoch 29: val_accuracy did not improve from 1.00000\n",
      "179/179 [==============================] - 29s 164ms/step - loss: 6.9073e-04 - accuracy: 0.9997 - val_loss: 9.2088e-04 - val_accuracy: 1.0000 - lr: 1.0000e-06\n",
      "Epoch 30/100\n",
      "179/179 [==============================] - ETA: 0s - loss: 8.8424e-04 - accuracy: 0.9997\n",
      "Epoch 30: val_accuracy did not improve from 1.00000\n",
      "179/179 [==============================] - 29s 163ms/step - loss: 8.8424e-04 - accuracy: 0.9997 - val_loss: 7.9802e-04 - val_accuracy: 1.0000 - lr: 1.0000e-06\n",
      "Epoch 31/100\n",
      "179/179 [==============================] - ETA: 0s - loss: 0.0026 - accuracy: 0.9989\n",
      "Epoch 31: val_accuracy did not improve from 1.00000\n",
      "179/179 [==============================] - 29s 163ms/step - loss: 0.0026 - accuracy: 0.9989 - val_loss: 5.8879e-04 - val_accuracy: 1.0000 - lr: 1.0000e-06\n",
      "Epoch 32/100\n",
      "179/179 [==============================] - ETA: 0s - loss: 6.5907e-04 - accuracy: 0.9997\n",
      "Epoch 32: val_accuracy did not improve from 1.00000\n",
      "\n",
      "Epoch 32: ReduceLROnPlateau reducing learning rate to 1.0000001111620805e-07.\n",
      "179/179 [==============================] - 30s 165ms/step - loss: 6.5907e-04 - accuracy: 0.9997 - val_loss: 5.0008e-04 - val_accuracy: 1.0000 - lr: 1.0000e-06\n",
      "Epoch 33/100\n",
      "179/179 [==============================] - ETA: 0s - loss: 0.0036 - accuracy: 0.9992\n",
      "Epoch 33: val_accuracy did not improve from 1.00000\n",
      "179/179 [==============================] - 29s 164ms/step - loss: 0.0036 - accuracy: 0.9992 - val_loss: 4.5751e-04 - val_accuracy: 1.0000 - lr: 1.0000e-07\n",
      "Epoch 34/100\n",
      "179/179 [==============================] - ETA: 0s - loss: 8.1867e-04 - accuracy: 0.9997\n",
      "Epoch 34: val_accuracy did not improve from 1.00000\n",
      "179/179 [==============================] - 29s 161ms/step - loss: 8.1867e-04 - accuracy: 0.9997 - val_loss: 4.2262e-04 - val_accuracy: 1.0000 - lr: 1.0000e-07\n",
      "Epoch 35/100\n",
      "178/179 [============================>.] - ETA: 0s - loss: 0.0023 - accuracy: 0.9989\n",
      "Epoch 35: val_accuracy did not improve from 1.00000\n",
      "179/179 [==============================] - 29s 159ms/step - loss: 0.0023 - accuracy: 0.9989 - val_loss: 4.0484e-04 - val_accuracy: 1.0000 - lr: 1.0000e-07\n",
      "Epoch 36/100\n",
      "179/179 [==============================] - ETA: 0s - loss: 5.6573e-04 - accuracy: 1.0000\n",
      "Epoch 36: val_accuracy did not improve from 1.00000\n",
      "179/179 [==============================] - 28s 157ms/step - loss: 5.6573e-04 - accuracy: 1.0000 - val_loss: 3.8387e-04 - val_accuracy: 1.0000 - lr: 1.0000e-07\n",
      "Epoch 37/100\n",
      "179/179 [==============================] - ETA: 0s - loss: 0.0011 - accuracy: 0.9994\n",
      "Epoch 37: val_accuracy did not improve from 1.00000\n",
      "Restoring model weights from the end of the best epoch: 17.\n",
      "\n",
      "Epoch 37: ReduceLROnPlateau reducing learning rate to 1.000000082740371e-08.\n",
      "179/179 [==============================] - 28s 158ms/step - loss: 0.0011 - accuracy: 0.9994 - val_loss: 3.6225e-04 - val_accuracy: 1.0000 - lr: 1.0000e-07\n",
      "Epoch 37: early stopping\n"
     ]
    }
   ],
   "source": [
    "# Define the number of epochs\n",
    "num_epochs = 100\n",
    "\n",
    "# Train the model\n",
    "history_MobileNetV2_model_2 = MobileNetV2_model_2.fit(train_generator, epochs=num_epochs, validation_data=validation_generator, callbacks=callbacks)"
   ]
  },
  {
   "cell_type": "code",
   "execution_count": 16,
   "metadata": {
    "colab": {
     "base_uri": "https://localhost:8080/",
     "height": 904
    },
    "id": "3f1nmwUhU2TK",
    "outputId": "0f1c6cd5-3a78-466f-acaf-e4d5bd62d152",
    "tags": []
   },
   "outputs": [
    {
     "data": {
      "text/plain": [
       "<matplotlib.legend.Legend at 0x250f69afca0>"
      ]
     },
     "execution_count": 16,
     "metadata": {},
     "output_type": "execute_result"
    },
    {
     "data": {
      "image/png": "[encoded data removed]",
      "text/plain": [
       "<Figure size 640x480 with 1 Axes>"
      ]
     },
     "metadata": {},
     "output_type": "display_data"
    },
    {
     "data": {
      "image/png": "[encoded data removed]",
      "text/plain": [
       "<Figure size 640x480 with 1 Axes>"
      ]
     },
     "metadata": {},
     "output_type": "display_data"
    }
   ],
   "source": [
    "#-----------------------------------------------------------\n",
    "# Retrieve a list of list results on training and test data\n",
    "# sets for each training epoch\n",
    "#-----------------------------------------------------------\n",
    "acc      = history_MobileNetV2_model_2.history['accuracy' ]\n",
    "val_acc  = history_MobileNetV2_model_2.history['val_accuracy' ]\n",
    "loss     = history_MobileNetV2_model_2.history['loss' ]\n",
    "val_loss = history_MobileNetV2_model_2.history['val_loss' ]\n",
    "\n",
    "epochs   = range(len(acc)) # Get number of epochs\n",
    "\n",
    "#------------------------------------------------\n",
    "# Plot training and validation accuracy per epoch\n",
    "#------------------------------------------------\n",
    "plt.plot  (epochs, acc )\n",
    "plt.plot  (epochs, val_acc )\n",
    "plt.title ('Training and validation accuracy MobileNetV2 Model 2')\n",
    "plt.legend(['train', 'val'], loc='upper left')\n",
    "plt.figure()\n",
    "\n",
    "#------------------------------------------------\n",
    "# Plot training and validation loss per epoch\n",
    "#------------------------------------------------\n",
    "plt.plot  (epochs, loss)\n",
    "plt.plot  (epochs, val_loss)\n",
    "plt.title ('Training and validation loss MobileNetV2 Model 2')\n",
    "plt.legend(['train', 'val'], loc='upper left')"
   ]
  }
 ],
 "metadata": {
  "accelerator": "GPU",
  "colab": {
   "gpuType": "T4",
   "provenance": []
  },
  "gpuClass": "standard",
  "kernelspec": {
   "display_name": "Python 3 (ipykernel)",
   "language": "python",
   "name": "python3"
  },
  "language_info": {
   "codemirror_mode": {
    "name": "ipython",
    "version": 3
   },
   "file_extension": ".py",
   "mimetype": "text/x-python",
   "name": "python",
   "nbconvert_exporter": "python",
   "pygments_lexer": "ipython3",
   "version": "3.10.0"
  }
 },
 "nbformat": 4,
 "nbformat_minor": 4
}
