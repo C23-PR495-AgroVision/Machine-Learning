{
 "cells": [
  {
   "attachments": {},
   "cell_type": "markdown",
   "metadata": {
    "id": "hO3kEcUPU2S3"
   },
   "source": [
    "# Library"
   ]
  },
  {
   "cell_type": "code",
   "execution_count": 1,
   "metadata": {
    "colab": {
     "base_uri": "https://localhost:8080/"
    },
    "id": "kczkUjsAU2S8",
    "outputId": "560bc1dc-a22e-4fbb-e7d6-564f355f234d",
    "tags": []
   },
   "outputs": [
    {
     "name": "stdout",
     "output_type": "stream",
     "text": [
      "Requirement already satisfied: matplotlib in c:\\users\\hasan\\anaconda3\\envs\\tensorflow_gpu_zein\\lib\\site-packages (3.6.3)\n",
      "Requirement already satisfied: cycler>=0.10 in c:\\users\\hasan\\anaconda3\\envs\\tensorflow_gpu_zein\\lib\\site-packages (from matplotlib) (0.11.0)\n",
      "Requirement already satisfied: packaging>=20.0 in c:\\users\\hasan\\anaconda3\\envs\\tensorflow_gpu_zein\\lib\\site-packages (from matplotlib) (23.1)\n",
      "Requirement already satisfied: fonttools>=4.22.0 in c:\\users\\hasan\\anaconda3\\envs\\tensorflow_gpu_zein\\lib\\site-packages (from matplotlib) (4.39.2)\n",
      "Requirement already satisfied: kiwisolver>=1.0.1 in c:\\users\\hasan\\anaconda3\\envs\\tensorflow_gpu_zein\\lib\\site-packages (from matplotlib) (1.4.4)\n",
      "Requirement already satisfied: pyparsing>=2.2.1 in c:\\users\\hasan\\anaconda3\\envs\\tensorflow_gpu_zein\\lib\\site-packages (from matplotlib) (3.0.9)\n",
      "Requirement already satisfied: numpy>=1.19 in c:\\users\\hasan\\anaconda3\\envs\\tensorflow_gpu_zein\\lib\\site-packages (from matplotlib) (1.23.5)\n",
      "Requirement already satisfied: python-dateutil>=2.7 in c:\\users\\hasan\\anaconda3\\envs\\tensorflow_gpu_zein\\lib\\site-packages (from matplotlib) (2.8.2)\n",
      "Requirement already satisfied: contourpy>=1.0.1 in c:\\users\\hasan\\anaconda3\\envs\\tensorflow_gpu_zein\\lib\\site-packages (from matplotlib) (1.0.7)\n",
      "Requirement already satisfied: pillow>=6.2.0 in c:\\users\\hasan\\anaconda3\\envs\\tensorflow_gpu_zein\\lib\\site-packages (from matplotlib) (9.4.0)\n",
      "Requirement already satisfied: six>=1.5 in c:\\users\\hasan\\anaconda3\\envs\\tensorflow_gpu_zein\\lib\\site-packages (from python-dateutil>=2.7->matplotlib) (1.16.0)\n",
      "Note: you may need to restart the kernel to use updated packages.\n"
     ]
    },
    {
     "name": "stderr",
     "output_type": "stream",
     "text": [
      "WARNING: Ignoring invalid distribution -rotobuf (c:\\users\\hasan\\anaconda3\\envs\\tensorflow_gpu_zein\\lib\\site-packages)\n",
      "WARNING: Ignoring invalid distribution -rotobuf (c:\\users\\hasan\\anaconda3\\envs\\tensorflow_gpu_zein\\lib\\site-packages)\n",
      "WARNING: Ignoring invalid distribution -rotobuf (c:\\users\\hasan\\anaconda3\\envs\\tensorflow_gpu_zein\\lib\\site-packages)\n",
      "WARNING: Ignoring invalid distribution -rotobuf (c:\\users\\hasan\\anaconda3\\envs\\tensorflow_gpu_zein\\lib\\site-packages)\n",
      "WARNING: Ignoring invalid distribution -rotobuf (c:\\users\\hasan\\anaconda3\\envs\\tensorflow_gpu_zein\\lib\\site-packages)\n",
      "WARNING: Ignoring invalid distribution -rotobuf (c:\\users\\hasan\\anaconda3\\envs\\tensorflow_gpu_zein\\lib\\site-packages)\n"
     ]
    }
   ],
   "source": [
    "pip install matplotlib"
   ]
  },
  {
   "cell_type": "code",
   "execution_count": 2,
   "metadata": {
    "colab": {
     "base_uri": "https://localhost:8080/"
    },
    "id": "oEW3Nbu7U2S_",
    "outputId": "92812bc7-1183-479f-f26e-48af8d791268",
    "tags": []
   },
   "outputs": [
    {
     "name": "stdout",
     "output_type": "stream",
     "text": [
      "Requirement already satisfied: opendatasets in c:\\users\\hasan\\anaconda3\\envs\\tensorflow_gpu_zein\\lib\\site-packages (0.1.22)\n",
      "Requirement already satisfied: click in c:\\users\\hasan\\anaconda3\\envs\\tensorflow_gpu_zein\\lib\\site-packages (from opendatasets) (8.1.3)\n",
      "Requirement already satisfied: tqdm in c:\\users\\hasan\\anaconda3\\envs\\tensorflow_gpu_zein\\lib\\site-packages (from opendatasets) (4.64.1)\n",
      "Requirement already satisfied: kaggle in c:\\users\\hasan\\anaconda3\\envs\\tensorflow_gpu_zein\\lib\\site-packages (from opendatasets) (1.5.13)\n",
      "Requirement already satisfied: colorama in c:\\users\\hasan\\anaconda3\\envs\\tensorflow_gpu_zein\\lib\\site-packages (from click->opendatasets) (0.4.6)\n",
      "Requirement already satisfied: requests in c:\\users\\hasan\\anaconda3\\envs\\tensorflow_gpu_zein\\lib\\site-packages (from kaggle->opendatasets) (2.28.2)\n",
      "Requirement already satisfied: python-slugify in c:\\users\\hasan\\anaconda3\\envs\\tensorflow_gpu_zein\\lib\\site-packages (from kaggle->opendatasets) (8.0.1)\n",
      "Requirement already satisfied: six>=1.10 in c:\\users\\hasan\\anaconda3\\envs\\tensorflow_gpu_zein\\lib\\site-packages (from kaggle->opendatasets) (1.16.0)\n",
      "Requirement already satisfied: certifi in c:\\users\\hasan\\anaconda3\\envs\\tensorflow_gpu_zein\\lib\\site-packages (from kaggle->opendatasets) (2022.12.7)\n",
      "Requirement already satisfied: urllib3 in c:\\users\\hasan\\anaconda3\\envs\\tensorflow_gpu_zein\\lib\\site-packages (from kaggle->opendatasets) (1.26.15)\n",
      "Requirement already satisfied: python-dateutil in c:\\users\\hasan\\anaconda3\\envs\\tensorflow_gpu_zein\\lib\\site-packages (from kaggle->opendatasets) (2.8.2)\n",
      "Requirement already satisfied: text-unidecode>=1.3 in c:\\users\\hasan\\anaconda3\\envs\\tensorflow_gpu_zein\\lib\\site-packages (from python-slugify->kaggle->opendatasets) (1.3)\n",
      "Requirement already satisfied: idna<4,>=2.5 in c:\\users\\hasan\\anaconda3\\envs\\tensorflow_gpu_zein\\lib\\site-packages (from requests->kaggle->opendatasets) (3.4)\n",
      "Requirement already satisfied: charset-normalizer<4,>=2 in c:\\users\\hasan\\anaconda3\\envs\\tensorflow_gpu_zein\\lib\\site-packages (from requests->kaggle->opendatasets) (3.1.0)\n",
      "Note: you may need to restart the kernel to use updated packages.\n"
     ]
    },
    {
     "name": "stderr",
     "output_type": "stream",
     "text": [
      "WARNING: Ignoring invalid distribution -rotobuf (c:\\users\\hasan\\anaconda3\\envs\\tensorflow_gpu_zein\\lib\\site-packages)\n",
      "WARNING: Ignoring invalid distribution -rotobuf (c:\\users\\hasan\\anaconda3\\envs\\tensorflow_gpu_zein\\lib\\site-packages)\n",
      "WARNING: Ignoring invalid distribution -rotobuf (c:\\users\\hasan\\anaconda3\\envs\\tensorflow_gpu_zein\\lib\\site-packages)\n",
      "WARNING: Ignoring invalid distribution -rotobuf (c:\\users\\hasan\\anaconda3\\envs\\tensorflow_gpu_zein\\lib\\site-packages)\n",
      "WARNING: Ignoring invalid distribution -rotobuf (c:\\users\\hasan\\anaconda3\\envs\\tensorflow_gpu_zein\\lib\\site-packages)\n",
      "WARNING: Ignoring invalid distribution -rotobuf (c:\\users\\hasan\\anaconda3\\envs\\tensorflow_gpu_zein\\lib\\site-packages)\n"
     ]
    }
   ],
   "source": [
    "pip install opendatasets"
   ]
  },
  {
   "cell_type": "code",
   "execution_count": 3,
   "metadata": {
    "id": "SIHHdOB4U2TA",
    "tags": []
   },
   "outputs": [],
   "source": [
    "# Library to dataset\n",
    "import opendatasets as od\n",
    "import os\n",
    "import zipfile\n",
    "import numpy as np\n",
    "\n",
    "# Surpress Warnings\n",
    "import warnings\n",
    "warnings.filterwarnings('ignore')\n",
    "os.environ['TF_CPP_MIN_LOG_LEVEL'] = '3' \n",
    "# library visualization\n",
    "import matplotlib.pyplot as plt\n",
    "\n",
    "# Library Tensorflow\n",
    "import tensorflow as tf\n",
    "from tensorflow import keras\n",
    "from tensorflow.keras.preprocessing.image import ImageDataGenerator\n",
    "from tensorflow.keras.callbacks import ModelCheckpoint, EarlyStopping, ReduceLROnPlateau\n",
    "from tensorflow.keras.applications.densenet import DenseNet121\n",
    "# Others\n",
    "import shutil\n",
    "import random"
   ]
  },
  {
   "attachments": {},
   "cell_type": "markdown",
   "metadata": {
    "id": "Dy8YkYoaU2TB"
   },
   "source": [
    "# Load dataset"
   ]
  },
  {
   "cell_type": "code",
   "execution_count": 4,
   "metadata": {
    "colab": {
     "base_uri": "https://localhost:8080/"
    },
    "id": "8ZAjREJ0U2TC",
    "outputId": "e353279e-b678-447d-fa99-1692fde49140",
    "tags": []
   },
   "outputs": [
    {
     "name": "stdout",
     "output_type": "stream",
     "text": [
      "==========================Training Data====================\n",
      "Found 3566 files belonging to 2 classes.\n",
      "==========================Validation Data====================\n",
      "Found 891 files belonging to 2 classes.\n"
     ]
    }
   ],
   "source": [
    "# Load dataset\n",
    "print(\"==========================Training Data====================\")\n",
    "train_data = tf.keras.preprocessing.image_dataset_from_directory(\n",
    "    \"Dataset/Peach/train\",\n",
    "    label_mode=\"categorical\",\n",
    "    class_names=['Peach___Bacterial_spot','Peach___healthy'],\n",
    "    color_mode=\"rgb\",\n",
    "    batch_size=1,\n",
    "    image_size=(256, 256),\n",
    "    shuffle=True,\n",
    "    seed=123\n",
    ")\n",
    "print(\"==========================Validation Data====================\")\n",
    "val_data = tf.keras.preprocessing.image_dataset_from_directory(\n",
    "    \"Dataset/Peach/valid\",\n",
    "    label_mode=\"categorical\",\n",
    "    class_names=['Peach___Bacterial_spot','Peach___healthy'],\n",
    "    color_mode=\"rgb\",\n",
    "    batch_size=1,\n",
    "    image_size=(256, 256),\n",
    "    shuffle=True,\n",
    "    seed=123\n",
    ")"
   ]
  },
  {
   "cell_type": "code",
   "execution_count": 5,
   "metadata": {
    "colab": {
     "base_uri": "https://localhost:8080/"
    },
    "id": "vEPzd1egU2TD",
    "outputId": "e5a3c712-830d-464b-f766-7c5898bd3c48",
    "tags": []
   },
   "outputs": [
    {
     "name": "stdout",
     "output_type": "stream",
     "text": [
      "Found 3566 images belonging to 2 classes.\n",
      "Found 891 images belonging to 2 classes.\n"
     ]
    }
   ],
   "source": [
    "# All images will be rescaled by 1./255. and Augmented\n",
    "train_datagen = ImageDataGenerator(rescale = 1.0/256.,\n",
    "                                   rotation_range=40,\n",
    "                                   width_shift_range=0.2,\n",
    "                                   height_shift_range=0.2,\n",
    "                                   shear_range=0.2,\n",
    "                                   zoom_range=0.2,\n",
    "                                   horizontal_flip=True,\n",
    "                                   fill_mode='nearest')\n",
    "\n",
    "test_datagen  = ImageDataGenerator(rescale = 1.0/256.)\n",
    "\n",
    "# --------------------\n",
    "# Flow training images in batches of 20 using train_datagen generator\n",
    "# --------------------\n",
    "train_generator = train_datagen.flow_from_directory(\"Dataset/Peach/train\",\n",
    "                                                    batch_size=20,\n",
    "                                                    class_mode='categorical',\n",
    "                                                    target_size=(224, 224))     \n",
    "# --------------------\n",
    "# Flow validation images in batches of 20 using test_datagen generator\n",
    "# --------------------\n",
    "validation_generator =  test_datagen.flow_from_directory(\"Dataset/Peach/valid\",\n",
    "                                                         batch_size=20,\n",
    "                                                         class_mode  = 'categorical',\n",
    "                                                         target_size = (224, 224))"
   ]
  },
  {
   "attachments": {},
   "cell_type": "markdown",
   "metadata": {
    "id": "_3jaO5YgU2TE"
   },
   "source": [
    "# List Resource"
   ]
  },
  {
   "cell_type": "code",
   "execution_count": 6,
   "metadata": {
    "colab": {
     "base_uri": "https://localhost:8080/"
    },
    "id": "SGemCaxnU2TF",
    "outputId": "e907b07c-907d-4f9b-9eac-080e6758ee4f",
    "tags": []
   },
   "outputs": [
    {
     "name": "stdout",
     "output_type": "stream",
     "text": [
      "Wed May 31 18:08:20 2023       \n",
      "+---------------------------------------------------------------------------------------+\n",
      "| NVIDIA-SMI 532.03                 Driver Version: 532.03       CUDA Version: 12.1     |\n",
      "|-----------------------------------------+----------------------+----------------------+\n",
      "| GPU  Name                      TCC/WDDM | Bus-Id        Disp.A | Volatile Uncorr. ECC |\n",
      "| Fan  Temp  Perf            Pwr:Usage/Cap|         Memory-Usage | GPU-Util  Compute M. |\n",
      "|                                         |                      |               MIG M. |\n",
      "|=========================================+======================+======================|\n",
      "|   0  NVIDIA GeForce RTX 3060 L...  WDDM | 00000000:01:00.0  On |                  N/A |\n",
      "| N/A   52C    P0               29W /  N/A|   4518MiB /  6144MiB |      5%      Default |\n",
      "|                                         |                      |                  N/A |\n",
      "+-----------------------------------------+----------------------+----------------------+\n",
      "                                                                                         \n",
      "+---------------------------------------------------------------------------------------+\n",
      "| Processes:                                                                            |\n",
      "|  GPU   GI   CI        PID   Type   Process name                            GPU Memory |\n",
      "|        ID   ID                                                             Usage      |\n",
      "|=======================================================================================|\n",
      "|    0   N/A  N/A      5780    C+G   ...on\\113.0.1774.57\\msedgewebview2.exe    N/A      |\n",
      "|    0   N/A  N/A      6672    C+G   ...1.0_x64__8wekyb3d8bbwe\\Video.UI.exe    N/A      |\n",
      "|    0   N/A  N/A      9084    C+G   ...les\\Microsoft OneDrive\\OneDrive.exe    N/A      |\n",
      "|    0   N/A  N/A      9824    C+G   C:\\WINDOWS\\explorer.exe                   N/A      |\n",
      "|    0   N/A  N/A     11032    C+G   ...siveControlPanel\\SystemSettings.exe    N/A      |\n",
      "|    0   N/A  N/A     11680    C+G   ...nt.CBS_cw5n1h2txyewy\\SearchHost.exe    N/A      |\n",
      "|    0   N/A  N/A     11704    C+G   ...2txyewy\\StartMenuExperienceHost.exe    N/A      |\n",
      "|    0   N/A  N/A     13628    C+G   ...x64__qmba6cd70vzyy\\ArmouryCrate.exe    N/A      |\n",
      "|    0   N/A  N/A     13880    C+G   ...5n1h2txyewy\\ShellExperienceHost.exe    N/A      |\n",
      "|    0   N/A  N/A     14220    C+G   ...GeForce Experience\\NVIDIA Share.exe    N/A      |\n",
      "|    0   N/A  N/A     14448    C+G   ...t.LockApp_cw5n1h2txyewy\\LockApp.exe    N/A      |\n",
      "|    0   N/A  N/A     15292      C   ...envs\\tensorflow_gpu_zein\\python.exe    N/A      |\n",
      "|    0   N/A  N/A     16172    C+G   ...ekyb3d8bbwe\\PhoneExperienceHost.exe    N/A      |\n",
      "|    0   N/A  N/A     17068    C+G   ...les\\Microsoft OneDrive\\OneDrive.exe    N/A      |\n",
      "|    0   N/A  N/A     17704    C+G   ...7.0_x64__cv1g1gvanyjgm\\WhatsApp.exe    N/A      |\n",
      "|    0   N/A  N/A     19888    C+G   ...\\AMD\\CNext\\CNext\\RadeonSoftware.exe    N/A      |\n",
      "|    0   N/A  N/A     20836    C+G   ...64__v826wp6bftszj\\TranslucentTB.exe    N/A      |\n",
      "|    0   N/A  N/A     21096    C+G   ...Programs\\Microsoft VS Code\\Code.exe    N/A      |\n",
      "|    0   N/A  N/A     22104    C+G   ...oogle\\Chrome\\Application\\chrome.exe    N/A      |\n",
      "|    0   N/A  N/A     23836    C+G   ...les\\AMD\\CNext\\CNext\\AMDRSSrcExt.exe    N/A      |\n",
      "+---------------------------------------------------------------------------------------+\n"
     ]
    }
   ],
   "source": [
    "# Check GPU\n",
    "!nvidia-smi"
   ]
  },
  {
   "cell_type": "code",
   "execution_count": 7,
   "metadata": {
    "colab": {
     "base_uri": "https://localhost:8080/"
    },
    "id": "FSapZ74PU2TF",
    "outputId": "848c5b21-d8e2-4f16-a12a-68ad576f86c1",
    "tags": []
   },
   "outputs": [
    {
     "data": {
      "text/plain": [
       "[PhysicalDevice(name='/physical_device:GPU:0', device_type='GPU')]"
      ]
     },
     "execution_count": 7,
     "metadata": {},
     "output_type": "execute_result"
    }
   ],
   "source": [
    "# Lis physical devices\n",
    "devices = tf.config.experimental.list_physical_devices(\"GPU\")\n",
    "devices"
   ]
  },
  {
   "cell_type": "code",
   "execution_count": 8,
   "metadata": {
    "id": "A8WtBtBaU2TG",
    "tags": []
   },
   "outputs": [
    {
     "name": "stdout",
     "output_type": "stream",
     "text": [
      "INFO:tensorflow:Using MirroredStrategy with devices ('/job:localhost/replica:0/task:0/device:GPU:0',)\n"
     ]
    }
   ],
   "source": [
    "# Define the GPU strategy\n",
    "mirrored_strategy = tf.distribute.MirroredStrategy(devices=[\"/gpu:0\"])"
   ]
  },
  {
   "attachments": {},
   "cell_type": "markdown",
   "metadata": {
    "id": "Vqr_uGTNU2TG"
   },
   "source": [
    "# Modelling With Augmentation"
   ]
  },
  {
   "attachments": {},
   "cell_type": "markdown",
   "metadata": {
    "id": "w4Wzh6ZyU2TH"
   },
   "source": [
    "## DenseNet Model 1"
   ]
  },
  {
   "cell_type": "code",
   "execution_count": 9,
   "metadata": {
    "id": "uUqYGBfRU2TH",
    "tags": []
   },
   "outputs": [],
   "source": [
    "# Difine the callbacks\n",
    "# Save the best model\n",
    "checkpoint_callback = ModelCheckpoint(filepath=\"Peach_DenseNet_model1_Based_Augmented\", save_best_only=True, monitor=\"val_accuracy\", mode=\"max\", verbose=1)\n",
    "\n",
    "# Early stopping\n",
    "early_stopping_callback = EarlyStopping(monitor=\"val_accuracy\", mode=\"max\", patience=20, verbose=1, restore_best_weights=True)\n",
    "\n",
    "# Reduce learning rate\n",
    "reduce_lr_callback = ReduceLROnPlateau(monitor=\"val_loss\", factor=0.1, patience=5, verbose=1, mode=\"min\", min_delta=0.0001, cooldown=0, min_lr=0)\n",
    "\n",
    "# Callbacks list\n",
    "callbacks=[checkpoint_callback, early_stopping_callback, reduce_lr_callback]"
   ]
  },
  {
   "cell_type": "code",
   "execution_count": 10,
   "metadata": {
    "colab": {
     "base_uri": "https://localhost:8080/"
    },
    "id": "BQHFs3gSU2TI",
    "outputId": "b282b947-037e-4e7f-f029-790bba9238ae",
    "tags": []
   },
   "outputs": [
    {
     "name": "stdout",
     "output_type": "stream",
     "text": [
      "Model: \"sequential\"\n",
      "_________________________________________________________________\n",
      " Layer (type)                Output Shape              Param #   \n",
      "=================================================================\n",
      " densenet121 (Functional)    (None, 7, 7, 1024)        7037504   \n",
      "                                                                 \n",
      " global_max_pooling2d (Globa  (None, 1024)             0         \n",
      " lMaxPooling2D)                                                  \n",
      "                                                                 \n",
      " dropout (Dropout)           (None, 1024)              0         \n",
      "                                                                 \n",
      " dense (Dense)               (None, 256)               262400    \n",
      "                                                                 \n",
      " dense_1 (Dense)             (None, 2)                 514       \n",
      "                                                                 \n",
      "=================================================================\n",
      "Total params: 7,300,418\n",
      "Trainable params: 7,216,770\n",
      "Non-trainable params: 83,648\n",
      "_________________________________________________________________\n"
     ]
    }
   ],
   "source": [
    "# Define DIY Model\n",
    "DenseNet_model = tf.keras.models.Sequential([\n",
    "    # DenseNet121 Layer\n",
    "    DenseNet121(include_top=False,weights='imagenet',input_shape=(224, 224, 3)),\n",
    "    # Global Max Pooling Layer\n",
    "    tf.keras.layers.GlobalMaxPooling2D(),\n",
    "    # Drop Out Layer\n",
    "    tf.keras.layers.Dropout(0.2),\n",
    "    # 256 neuron hidden layer\n",
    "    tf.keras.layers.Dense(256, activation='relu'),\n",
    "    # Output\n",
    "    tf.keras.layers.Dense(2, activation='softmax') \n",
    "  ])\n",
    "\n",
    "\n",
    "# Compile Model\n",
    "DenseNet_model.compile(loss='categorical_crossentropy',optimizer=tf.keras.optimizers.Adam(), metrics=['accuracy']) \n",
    "\n",
    "# Model Summary\n",
    "DenseNet_model.summary()"
   ]
  },
  {
   "cell_type": "code",
   "execution_count": 11,
   "metadata": {
    "colab": {
     "base_uri": "https://localhost:8080/"
    },
    "id": "6coN3TKhU2TI",
    "outputId": "4f4e1f60-ed58-45f6-8dcc-43f64f0213f4",
    "tags": []
   },
   "outputs": [
    {
     "name": "stdout",
     "output_type": "stream",
     "text": [
      "Epoch 1/100\n",
      "179/179 [==============================] - ETA: 0s - loss: 0.2297 - accuracy: 0.9596\n",
      "Epoch 1: val_accuracy improved from -inf to 0.99214, saving model to Peach_DenseNet_model1_Based_Augmented\n"
     ]
    },
    {
     "name": "stderr",
     "output_type": "stream",
     "text": [
      "WARNING:absl:Found untraced functions such as _jit_compiled_convolution_op, _jit_compiled_convolution_op, _jit_compiled_convolution_op, _jit_compiled_convolution_op, _jit_compiled_convolution_op while saving (showing 5 of 120). These functions will not be directly callable after loading.\n"
     ]
    },
    {
     "name": "stdout",
     "output_type": "stream",
     "text": [
      "INFO:tensorflow:Assets written to: Peach_DenseNet_model1_Based_Augmented\\assets\n"
     ]
    },
    {
     "name": "stderr",
     "output_type": "stream",
     "text": [
      "INFO:tensorflow:Assets written to: Peach_DenseNet_model1_Based_Augmented\\assets\n"
     ]
    },
    {
     "name": "stdout",
     "output_type": "stream",
     "text": [
      "179/179 [==============================] - 88s 412ms/step - loss: 0.2297 - accuracy: 0.9596 - val_loss: 0.0236 - val_accuracy: 0.9921 - lr: 0.0010\n",
      "Epoch 2/100\n",
      "179/179 [==============================] - ETA: 0s - loss: 0.0431 - accuracy: 0.9885\n",
      "Epoch 2: val_accuracy did not improve from 0.99214\n",
      "179/179 [==============================] - 33s 183ms/step - loss: 0.0431 - accuracy: 0.9885 - val_loss: 0.0637 - val_accuracy: 0.9877 - lr: 0.0010\n",
      "Epoch 3/100\n",
      "179/179 [==============================] - ETA: 0s - loss: 0.0357 - accuracy: 0.9882\n",
      "Epoch 3: val_accuracy did not improve from 0.99214\n",
      "179/179 [==============================] - 34s 191ms/step - loss: 0.0357 - accuracy: 0.9882 - val_loss: 0.0488 - val_accuracy: 0.9888 - lr: 0.0010\n",
      "Epoch 4/100\n",
      "179/179 [==============================] - ETA: 0s - loss: 0.0980 - accuracy: 0.9764\n",
      "Epoch 4: val_accuracy did not improve from 0.99214\n",
      "179/179 [==============================] - 34s 191ms/step - loss: 0.0980 - accuracy: 0.9764 - val_loss: 0.0531 - val_accuracy: 0.9888 - lr: 0.0010\n",
      "Epoch 5/100\n",
      "179/179 [==============================] - ETA: 0s - loss: 0.0395 - accuracy: 0.9863\n",
      "Epoch 5: val_accuracy did not improve from 0.99214\n",
      "179/179 [==============================] - 35s 193ms/step - loss: 0.0395 - accuracy: 0.9863 - val_loss: 0.3279 - val_accuracy: 0.9371 - lr: 0.0010\n",
      "Epoch 6/100\n",
      "179/179 [==============================] - ETA: 0s - loss: 0.0257 - accuracy: 0.9916\n",
      "Epoch 6: val_accuracy did not improve from 0.99214\n",
      "\n",
      "Epoch 6: ReduceLROnPlateau reducing learning rate to 0.00010000000474974513.\n",
      "179/179 [==============================] - 34s 192ms/step - loss: 0.0257 - accuracy: 0.9916 - val_loss: 0.0270 - val_accuracy: 0.9921 - lr: 0.0010\n",
      "Epoch 7/100\n",
      "179/179 [==============================] - ETA: 0s - loss: 0.0132 - accuracy: 0.9955\n",
      "Epoch 7: val_accuracy improved from 0.99214 to 0.99776, saving model to Peach_DenseNet_model1_Based_Augmented\n"
     ]
    },
    {
     "name": "stderr",
     "output_type": "stream",
     "text": [
      "WARNING:absl:Found untraced functions such as _jit_compiled_convolution_op, _jit_compiled_convolution_op, _jit_compiled_convolution_op, _jit_compiled_convolution_op, _jit_compiled_convolution_op while saving (showing 5 of 120). These functions will not be directly callable after loading.\n"
     ]
    },
    {
     "name": "stdout",
     "output_type": "stream",
     "text": [
      "INFO:tensorflow:Assets written to: Peach_DenseNet_model1_Based_Augmented\\assets\n"
     ]
    },
    {
     "name": "stderr",
     "output_type": "stream",
     "text": [
      "INFO:tensorflow:Assets written to: Peach_DenseNet_model1_Based_Augmented\\assets\n"
     ]
    },
    {
     "name": "stdout",
     "output_type": "stream",
     "text": [
      "179/179 [==============================] - 73s 407ms/step - loss: 0.0132 - accuracy: 0.9955 - val_loss: 0.0089 - val_accuracy: 0.9978 - lr: 1.0000e-04\n",
      "Epoch 8/100\n",
      "179/179 [==============================] - ETA: 0s - loss: 0.0097 - accuracy: 0.9986\n",
      "Epoch 8: val_accuracy did not improve from 0.99776\n",
      "179/179 [==============================] - 35s 195ms/step - loss: 0.0097 - accuracy: 0.9986 - val_loss: 0.0083 - val_accuracy: 0.9978 - lr: 1.0000e-04\n",
      "Epoch 9/100\n",
      "179/179 [==============================] - ETA: 0s - loss: 0.0085 - accuracy: 0.9969\n",
      "Epoch 9: val_accuracy did not improve from 0.99776\n",
      "179/179 [==============================] - 36s 199ms/step - loss: 0.0085 - accuracy: 0.9969 - val_loss: 0.0050 - val_accuracy: 0.9978 - lr: 1.0000e-04\n",
      "Epoch 10/100\n",
      "179/179 [==============================] - ETA: 0s - loss: 0.0086 - accuracy: 0.9966\n",
      "Epoch 10: val_accuracy improved from 0.99776 to 0.99888, saving model to Peach_DenseNet_model1_Based_Augmented\n"
     ]
    },
    {
     "name": "stderr",
     "output_type": "stream",
     "text": [
      "WARNING:absl:Found untraced functions such as _jit_compiled_convolution_op, _jit_compiled_convolution_op, _jit_compiled_convolution_op, _jit_compiled_convolution_op, _jit_compiled_convolution_op while saving (showing 5 of 120). These functions will not be directly callable after loading.\n"
     ]
    },
    {
     "name": "stdout",
     "output_type": "stream",
     "text": [
      "INFO:tensorflow:Assets written to: Peach_DenseNet_model1_Based_Augmented\\assets\n"
     ]
    },
    {
     "name": "stderr",
     "output_type": "stream",
     "text": [
      "INFO:tensorflow:Assets written to: Peach_DenseNet_model1_Based_Augmented\\assets\n"
     ]
    },
    {
     "name": "stdout",
     "output_type": "stream",
     "text": [
      "179/179 [==============================] - 75s 422ms/step - loss: 0.0086 - accuracy: 0.9966 - val_loss: 0.0042 - val_accuracy: 0.9989 - lr: 1.0000e-04\n",
      "Epoch 11/100\n",
      "179/179 [==============================] - ETA: 0s - loss: 0.0120 - accuracy: 0.9961\n",
      "Epoch 11: val_accuracy did not improve from 0.99888\n",
      "179/179 [==============================] - 35s 193ms/step - loss: 0.0120 - accuracy: 0.9961 - val_loss: 0.0062 - val_accuracy: 0.9978 - lr: 1.0000e-04\n",
      "Epoch 12/100\n",
      "179/179 [==============================] - ETA: 0s - loss: 0.0080 - accuracy: 0.9969\n",
      "Epoch 12: val_accuracy did not improve from 0.99888\n",
      "179/179 [==============================] - 33s 185ms/step - loss: 0.0080 - accuracy: 0.9969 - val_loss: 0.0048 - val_accuracy: 0.9978 - lr: 1.0000e-04\n",
      "Epoch 13/100\n",
      "179/179 [==============================] - ETA: 0s - loss: 0.0120 - accuracy: 0.9975\n",
      "Epoch 13: val_accuracy did not improve from 0.99888\n",
      "179/179 [==============================] - 34s 192ms/step - loss: 0.0120 - accuracy: 0.9975 - val_loss: 0.0033 - val_accuracy: 0.9978 - lr: 1.0000e-04\n",
      "Epoch 14/100\n",
      "179/179 [==============================] - ETA: 0s - loss: 0.0073 - accuracy: 0.9978\n",
      "Epoch 14: val_accuracy did not improve from 0.99888\n",
      "179/179 [==============================] - 35s 196ms/step - loss: 0.0073 - accuracy: 0.9978 - val_loss: 0.0064 - val_accuracy: 0.9978 - lr: 1.0000e-04\n",
      "Epoch 15/100\n",
      "179/179 [==============================] - ETA: 0s - loss: 0.0082 - accuracy: 0.9978\n",
      "Epoch 15: val_accuracy did not improve from 0.99888\n",
      "179/179 [==============================] - 35s 196ms/step - loss: 0.0082 - accuracy: 0.9978 - val_loss: 0.0048 - val_accuracy: 0.9989 - lr: 1.0000e-04\n",
      "Epoch 16/100\n",
      "179/179 [==============================] - ETA: 0s - loss: 0.0079 - accuracy: 0.9975\n",
      "Epoch 16: val_accuracy did not improve from 0.99888\n",
      "179/179 [==============================] - 36s 200ms/step - loss: 0.0079 - accuracy: 0.9975 - val_loss: 0.0037 - val_accuracy: 0.9978 - lr: 1.0000e-04\n",
      "Epoch 17/100\n",
      "179/179 [==============================] - ETA: 0s - loss: 0.0046 - accuracy: 0.9989\n",
      "Epoch 17: val_accuracy did not improve from 0.99888\n",
      "179/179 [==============================] - 36s 198ms/step - loss: 0.0046 - accuracy: 0.9989 - val_loss: 0.0040 - val_accuracy: 0.9989 - lr: 1.0000e-04\n",
      "Epoch 18/100\n",
      "179/179 [==============================] - ETA: 0s - loss: 0.0095 - accuracy: 0.9961\n",
      "Epoch 18: val_accuracy did not improve from 0.99888\n",
      "179/179 [==============================] - 35s 195ms/step - loss: 0.0095 - accuracy: 0.9961 - val_loss: 0.0029 - val_accuracy: 0.9989 - lr: 1.0000e-04\n",
      "Epoch 19/100\n",
      "179/179 [==============================] - ETA: 0s - loss: 0.0037 - accuracy: 0.9992\n",
      "Epoch 19: val_accuracy did not improve from 0.99888\n",
      "179/179 [==============================] - 35s 197ms/step - loss: 0.0037 - accuracy: 0.9992 - val_loss: 0.0023 - val_accuracy: 0.9989 - lr: 1.0000e-04\n",
      "Epoch 20/100\n",
      "179/179 [==============================] - ETA: 0s - loss: 0.0098 - accuracy: 0.9969\n",
      "Epoch 20: val_accuracy did not improve from 0.99888\n",
      "179/179 [==============================] - 35s 195ms/step - loss: 0.0098 - accuracy: 0.9969 - val_loss: 0.0044 - val_accuracy: 0.9989 - lr: 1.0000e-04\n",
      "Epoch 21/100\n",
      "179/179 [==============================] - ETA: 0s - loss: 0.0029 - accuracy: 0.9989\n",
      "Epoch 21: val_accuracy did not improve from 0.99888\n",
      "179/179 [==============================] - 36s 198ms/step - loss: 0.0029 - accuracy: 0.9989 - val_loss: 0.0043 - val_accuracy: 0.9989 - lr: 1.0000e-04\n",
      "Epoch 22/100\n",
      "179/179 [==============================] - ETA: 0s - loss: 0.0092 - accuracy: 0.9969\n",
      "Epoch 22: val_accuracy did not improve from 0.99888\n",
      "179/179 [==============================] - 35s 197ms/step - loss: 0.0092 - accuracy: 0.9969 - val_loss: 0.0354 - val_accuracy: 0.9910 - lr: 1.0000e-04\n",
      "Epoch 23/100\n",
      "179/179 [==============================] - ETA: 0s - loss: 0.0075 - accuracy: 0.9975\n",
      "Epoch 23: val_accuracy did not improve from 0.99888\n",
      "179/179 [==============================] - 35s 195ms/step - loss: 0.0075 - accuracy: 0.9975 - val_loss: 0.0065 - val_accuracy: 0.9989 - lr: 1.0000e-04\n",
      "Epoch 24/100\n",
      "179/179 [==============================] - ETA: 0s - loss: 0.0063 - accuracy: 0.9978\n",
      "Epoch 24: val_accuracy did not improve from 0.99888\n",
      "\n",
      "Epoch 24: ReduceLROnPlateau reducing learning rate to 1.0000000474974514e-05.\n",
      "179/179 [==============================] - 35s 197ms/step - loss: 0.0063 - accuracy: 0.9978 - val_loss: 0.0052 - val_accuracy: 0.9989 - lr: 1.0000e-04\n",
      "Epoch 25/100\n",
      "179/179 [==============================] - ETA: 0s - loss: 0.0038 - accuracy: 0.9992\n",
      "Epoch 25: val_accuracy did not improve from 0.99888\n",
      "179/179 [==============================] - 35s 196ms/step - loss: 0.0038 - accuracy: 0.9992 - val_loss: 0.0055 - val_accuracy: 0.9989 - lr: 1.0000e-05\n",
      "Epoch 26/100\n",
      "179/179 [==============================] - ETA: 0s - loss: 0.0029 - accuracy: 0.9989\n",
      "Epoch 26: val_accuracy did not improve from 0.99888\n",
      "179/179 [==============================] - 35s 197ms/step - loss: 0.0029 - accuracy: 0.9989 - val_loss: 0.0054 - val_accuracy: 0.9989 - lr: 1.0000e-05\n",
      "Epoch 27/100\n",
      "179/179 [==============================] - ETA: 0s - loss: 0.0022 - accuracy: 0.9994\n",
      "Epoch 27: val_accuracy did not improve from 0.99888\n",
      "179/179 [==============================] - 35s 197ms/step - loss: 0.0022 - accuracy: 0.9994 - val_loss: 0.0051 - val_accuracy: 0.9989 - lr: 1.0000e-05\n",
      "Epoch 28/100\n",
      "179/179 [==============================] - ETA: 0s - loss: 0.0012 - accuracy: 1.0000\n",
      "Epoch 28: val_accuracy did not improve from 0.99888\n",
      "179/179 [==============================] - 35s 197ms/step - loss: 0.0012 - accuracy: 1.0000 - val_loss: 0.0053 - val_accuracy: 0.9989 - lr: 1.0000e-05\n",
      "Epoch 29/100\n",
      "179/179 [==============================] - ETA: 0s - loss: 0.0019 - accuracy: 0.9997\n",
      "Epoch 29: val_accuracy did not improve from 0.99888\n",
      "\n",
      "Epoch 29: ReduceLROnPlateau reducing learning rate to 1.0000000656873453e-06.\n",
      "179/179 [==============================] - 36s 199ms/step - loss: 0.0019 - accuracy: 0.9997 - val_loss: 0.0053 - val_accuracy: 0.9989 - lr: 1.0000e-05\n",
      "Epoch 30/100\n",
      "179/179 [==============================] - ETA: 0s - loss: 0.0017 - accuracy: 0.9997\n",
      "Epoch 30: val_accuracy did not improve from 0.99888\n",
      "Restoring model weights from the end of the best epoch: 10.\n",
      "179/179 [==============================] - 35s 197ms/step - loss: 0.0017 - accuracy: 0.9997 - val_loss: 0.0052 - val_accuracy: 0.9989 - lr: 1.0000e-06\n",
      "Epoch 30: early stopping\n"
     ]
    }
   ],
   "source": [
    "# Define the number of epochs\n",
    "num_epochs = 100\n",
    "\n",
    "# Train the model\n",
    "history_DenseNet_model_1 = DenseNet_model.fit(train_generator, epochs=num_epochs, validation_data=validation_generator, callbacks=callbacks)"
   ]
  },
  {
   "cell_type": "code",
   "execution_count": 12,
   "metadata": {
    "colab": {
     "base_uri": "https://localhost:8080/",
     "height": 904
    },
    "id": "lvS9xz3LU2TI",
    "outputId": "f0ad29c7-f5a5-4f8a-ed43-d5268b53f9e5",
    "tags": []
   },
   "outputs": [
    {
     "data": {
      "text/plain": [
       "<matplotlib.legend.Legend at 0x293b258de40>"
      ]
     },
     "execution_count": 12,
     "metadata": {},
     "output_type": "execute_result"
    },
    {
     "data": {
      "image/png": "[encoded data removed]",
      "text/plain": [
       "<Figure size 640x480 with 1 Axes>"
      ]
     },
     "metadata": {},
     "output_type": "display_data"
    },
    {
     "data": {
      "image/png": "[encoded data removed]",
      "text/plain": [
       "<Figure size 640x480 with 1 Axes>"
      ]
     },
     "metadata": {},
     "output_type": "display_data"
    }
   ],
   "source": [
    "#-----------------------------------------------------------\n",
    "# Retrieve a list of list results on training and test data\n",
    "# sets for each training epoch\n",
    "#-----------------------------------------------------------\n",
    "acc      = history_DenseNet_model_1.history['accuracy' ]\n",
    "val_acc  = history_DenseNet_model_1.history['val_accuracy' ]\n",
    "loss     = history_DenseNet_model_1.history['loss' ]\n",
    "val_loss = history_DenseNet_model_1.history['val_loss' ]\n",
    "\n",
    "epochs   = range(len(acc)) # Get number of epochs\n",
    "\n",
    "#------------------------------------------------\n",
    "# Plot training and validation accuracy per epoch\n",
    "#------------------------------------------------\n",
    "plt.plot  (epochs, acc )\n",
    "plt.plot  (epochs, val_acc )\n",
    "plt.title ('Training and validation accuracy DenseNet Model 1')\n",
    "plt.legend(['train', 'val'], loc='upper left')\n",
    "plt.figure()\n",
    "\n",
    "#------------------------------------------------\n",
    "# Plot training and validation loss per epoch\n",
    "#------------------------------------------------\n",
    "plt.plot  (epochs, loss)\n",
    "plt.plot  (epochs, val_loss)\n",
    "plt.title ('Training and validation loss DenseNet Model 1')\n",
    "plt.legend(['train', 'val'], loc='upper left')"
   ]
  },
  {
   "attachments": {},
   "cell_type": "markdown",
   "metadata": {
    "id": "SvQOR9IuU2TJ"
   },
   "source": [
    "## DenseNet Model 2"
   ]
  },
  {
   "cell_type": "code",
   "execution_count": 13,
   "metadata": {
    "id": "Tj7lcdvUU2TJ",
    "tags": []
   },
   "outputs": [],
   "source": [
    "# Difine the callbacks\n",
    "# Save the best model\n",
    "checkpoint_callback = ModelCheckpoint(filepath=\"Peach_DenseNet_model2_Based_Augmented\", save_best_only=True, monitor=\"val_accuracy\", mode=\"max\", verbose=1)\n",
    "\n",
    "# Early stopping\n",
    "early_stopping_callback = EarlyStopping(monitor=\"val_accuracy\", mode=\"max\", patience=20, verbose=1, restore_best_weights=True)\n",
    "\n",
    "# Reduce learning rate\n",
    "reduce_lr_callback = ReduceLROnPlateau(monitor=\"val_loss\", factor=0.1, patience=5, verbose=1, mode=\"min\", min_delta=0.0001, cooldown=0, min_lr=0)\n",
    "\n",
    "# Callbacks list\n",
    "callbacks=[checkpoint_callback, early_stopping_callback, reduce_lr_callback]"
   ]
  },
  {
   "cell_type": "code",
   "execution_count": 14,
   "metadata": {
    "colab": {
     "base_uri": "https://localhost:8080/"
    },
    "id": "7NKPY1xGU2TJ",
    "outputId": "e2b7074f-db05-4283-99ee-809a1555aa90",
    "tags": []
   },
   "outputs": [
    {
     "name": "stdout",
     "output_type": "stream",
     "text": [
      "Model: \"sequential_1\"\n",
      "_________________________________________________________________\n",
      " Layer (type)                Output Shape              Param #   \n",
      "=================================================================\n",
      " densenet121 (Functional)    (None, 7, 7, 1024)        7037504   \n",
      "                                                                 \n",
      " global_average_pooling2d (G  (None, 1024)             0         \n",
      " lobalAveragePooling2D)                                          \n",
      "                                                                 \n",
      " dropout_1 (Dropout)         (None, 1024)              0         \n",
      "                                                                 \n",
      " dense_2 (Dense)             (None, 256)               262400    \n",
      "                                                                 \n",
      " dense_3 (Dense)             (None, 2)                 514       \n",
      "                                                                 \n",
      "=================================================================\n",
      "Total params: 7,300,418\n",
      "Trainable params: 7,216,770\n",
      "Non-trainable params: 83,648\n",
      "_________________________________________________________________\n"
     ]
    }
   ],
   "source": [
    "# Define DIY Model\n",
    "DenseNet_model_2 = tf.keras.models.Sequential([\n",
    "    # DenseNet121 Layer\n",
    "    DenseNet121(include_top=False,weights='imagenet',input_shape=(224, 224, 3)),\n",
    "    # Global Average Pooling Layer\n",
    "    tf.keras.layers.GlobalAveragePooling2D(),\n",
    "    # Drop Out Layer\n",
    "    tf.keras.layers.Dropout(0.2),\n",
    "    # 256 neuron hidden layer\n",
    "    tf.keras.layers.Dense(256, activation='relu'),\n",
    "    # Output\n",
    "    tf.keras.layers.Dense(2, activation='softmax') \n",
    "  ])\n",
    "\n",
    "\n",
    "# Compile Model\n",
    "DenseNet_model_2.compile(loss='categorical_crossentropy',optimizer=tf.keras.optimizers.Adam(), metrics=['accuracy']) \n",
    "\n",
    "# Model Summary\n",
    "DenseNet_model_2.summary()"
   ]
  },
  {
   "cell_type": "code",
   "execution_count": 15,
   "metadata": {
    "colab": {
     "base_uri": "https://localhost:8080/"
    },
    "id": "6beuexC9U2TJ",
    "outputId": "d6313a63-830a-4fbe-e1a6-1e0958865bf8",
    "tags": []
   },
   "outputs": [
    {
     "name": "stdout",
     "output_type": "stream",
     "text": [
      "Epoch 1/100\n",
      "179/179 [==============================] - ETA: 0s - loss: 0.1066 - accuracy: 0.9613\n",
      "Epoch 1: val_accuracy improved from -inf to 0.69809, saving model to Peach_DenseNet_model2_Based_Augmented\n"
     ]
    },
    {
     "name": "stderr",
     "output_type": "stream",
     "text": [
      "WARNING:absl:Found untraced functions such as _jit_compiled_convolution_op, _jit_compiled_convolution_op, _jit_compiled_convolution_op, _jit_compiled_convolution_op, _jit_compiled_convolution_op while saving (showing 5 of 120). These functions will not be directly callable after loading.\n"
     ]
    },
    {
     "name": "stdout",
     "output_type": "stream",
     "text": [
      "INFO:tensorflow:Assets written to: Peach_DenseNet_model2_Based_Augmented\\assets\n"
     ]
    },
    {
     "name": "stderr",
     "output_type": "stream",
     "text": [
      "INFO:tensorflow:Assets written to: Peach_DenseNet_model2_Based_Augmented\\assets\n"
     ]
    },
    {
     "name": "stdout",
     "output_type": "stream",
     "text": [
      "179/179 [==============================] - 81s 402ms/step - loss: 0.1066 - accuracy: 0.9613 - val_loss: 1.6956 - val_accuracy: 0.6981 - lr: 0.0010\n",
      "Epoch 2/100\n",
      "179/179 [==============================] - ETA: 0s - loss: 0.0598 - accuracy: 0.9818\n",
      "Epoch 2: val_accuracy improved from 0.69809 to 0.99439, saving model to Peach_DenseNet_model2_Based_Augmented\n"
     ]
    },
    {
     "name": "stderr",
     "output_type": "stream",
     "text": [
      "WARNING:absl:Found untraced functions such as _jit_compiled_convolution_op, _jit_compiled_convolution_op, _jit_compiled_convolution_op, _jit_compiled_convolution_op, _jit_compiled_convolution_op while saving (showing 5 of 120). These functions will not be directly callable after loading.\n"
     ]
    },
    {
     "name": "stdout",
     "output_type": "stream",
     "text": [
      "INFO:tensorflow:Assets written to: Peach_DenseNet_model2_Based_Augmented\\assets\n"
     ]
    },
    {
     "name": "stderr",
     "output_type": "stream",
     "text": [
      "INFO:tensorflow:Assets written to: Peach_DenseNet_model2_Based_Augmented\\assets\n"
     ]
    },
    {
     "name": "stdout",
     "output_type": "stream",
     "text": [
      "179/179 [==============================] - 72s 400ms/step - loss: 0.0598 - accuracy: 0.9818 - val_loss: 0.0250 - val_accuracy: 0.9944 - lr: 0.0010\n",
      "Epoch 3/100\n",
      "179/179 [==============================] - ETA: 0s - loss: 0.0265 - accuracy: 0.9913\n",
      "Epoch 3: val_accuracy did not improve from 0.99439\n",
      "179/179 [==============================] - 35s 191ms/step - loss: 0.0265 - accuracy: 0.9913 - val_loss: 0.0628 - val_accuracy: 0.9888 - lr: 0.0010\n",
      "Epoch 4/100\n",
      "179/179 [==============================] - ETA: 0s - loss: 0.0378 - accuracy: 0.9885\n",
      "Epoch 4: val_accuracy did not improve from 0.99439\n",
      "179/179 [==============================] - 35s 192ms/step - loss: 0.0378 - accuracy: 0.9885 - val_loss: 0.0545 - val_accuracy: 0.9865 - lr: 0.0010\n",
      "Epoch 5/100\n",
      "179/179 [==============================] - ETA: 0s - loss: 0.0149 - accuracy: 0.9961\n",
      "Epoch 5: val_accuracy did not improve from 0.99439\n",
      "179/179 [==============================] - 35s 192ms/step - loss: 0.0149 - accuracy: 0.9961 - val_loss: 0.4531 - val_accuracy: 0.9349 - lr: 0.0010\n",
      "Epoch 6/100\n",
      "179/179 [==============================] - ETA: 0s - loss: 0.0283 - accuracy: 0.9902\n",
      "Epoch 6: val_accuracy did not improve from 0.99439\n",
      "179/179 [==============================] - 35s 194ms/step - loss: 0.0283 - accuracy: 0.9902 - val_loss: 0.0366 - val_accuracy: 0.9910 - lr: 0.0010\n",
      "Epoch 7/100\n",
      "179/179 [==============================] - ETA: 0s - loss: 0.0277 - accuracy: 0.9916\n",
      "Epoch 7: val_accuracy did not improve from 0.99439\n",
      "\n",
      "Epoch 7: ReduceLROnPlateau reducing learning rate to 0.00010000000474974513.\n",
      "179/179 [==============================] - 35s 196ms/step - loss: 0.0277 - accuracy: 0.9916 - val_loss: 0.0335 - val_accuracy: 0.9910 - lr: 0.0010\n",
      "Epoch 8/100\n",
      "179/179 [==============================] - ETA: 0s - loss: 0.0097 - accuracy: 0.9969\n",
      "Epoch 8: val_accuracy improved from 0.99439 to 0.99551, saving model to Peach_DenseNet_model2_Based_Augmented\n"
     ]
    },
    {
     "name": "stderr",
     "output_type": "stream",
     "text": [
      "WARNING:absl:Found untraced functions such as _jit_compiled_convolution_op, _jit_compiled_convolution_op, _jit_compiled_convolution_op, _jit_compiled_convolution_op, _jit_compiled_convolution_op while saving (showing 5 of 120). These functions will not be directly callable after loading.\n"
     ]
    },
    {
     "name": "stdout",
     "output_type": "stream",
     "text": [
      "INFO:tensorflow:Assets written to: Peach_DenseNet_model2_Based_Augmented\\assets\n"
     ]
    },
    {
     "name": "stderr",
     "output_type": "stream",
     "text": [
      "INFO:tensorflow:Assets written to: Peach_DenseNet_model2_Based_Augmented\\assets\n"
     ]
    },
    {
     "name": "stdout",
     "output_type": "stream",
     "text": [
      "179/179 [==============================] - 73s 411ms/step - loss: 0.0097 - accuracy: 0.9969 - val_loss: 0.0093 - val_accuracy: 0.9955 - lr: 1.0000e-04\n",
      "Epoch 9/100\n",
      "179/179 [==============================] - ETA: 0s - loss: 0.0054 - accuracy: 0.9983\n",
      "Epoch 9: val_accuracy improved from 0.99551 to 0.99776, saving model to Peach_DenseNet_model2_Based_Augmented\n"
     ]
    },
    {
     "name": "stderr",
     "output_type": "stream",
     "text": [
      "WARNING:absl:Found untraced functions such as _jit_compiled_convolution_op, _jit_compiled_convolution_op, _jit_compiled_convolution_op, _jit_compiled_convolution_op, _jit_compiled_convolution_op while saving (showing 5 of 120). These functions will not be directly callable after loading.\n"
     ]
    },
    {
     "name": "stdout",
     "output_type": "stream",
     "text": [
      "INFO:tensorflow:Assets written to: Peach_DenseNet_model2_Based_Augmented\\assets\n"
     ]
    },
    {
     "name": "stderr",
     "output_type": "stream",
     "text": [
      "INFO:tensorflow:Assets written to: Peach_DenseNet_model2_Based_Augmented\\assets\n"
     ]
    },
    {
     "name": "stdout",
     "output_type": "stream",
     "text": [
      "179/179 [==============================] - 74s 411ms/step - loss: 0.0054 - accuracy: 0.9983 - val_loss: 0.0068 - val_accuracy: 0.9978 - lr: 1.0000e-04\n",
      "Epoch 10/100\n",
      "179/179 [==============================] - ETA: 0s - loss: 0.0062 - accuracy: 0.9983\n",
      "Epoch 10: val_accuracy did not improve from 0.99776\n",
      "179/179 [==============================] - 35s 196ms/step - loss: 0.0062 - accuracy: 0.9983 - val_loss: 0.0047 - val_accuracy: 0.9978 - lr: 1.0000e-04\n",
      "Epoch 11/100\n",
      "179/179 [==============================] - ETA: 0s - loss: 0.0078 - accuracy: 0.9975\n",
      "Epoch 11: val_accuracy did not improve from 0.99776\n",
      "179/179 [==============================] - 37s 204ms/step - loss: 0.0078 - accuracy: 0.9975 - val_loss: 0.0041 - val_accuracy: 0.9978 - lr: 1.0000e-04\n",
      "Epoch 12/100\n",
      "179/179 [==============================] - ETA: 0s - loss: 0.0050 - accuracy: 0.9978\n",
      "Epoch 12: val_accuracy did not improve from 0.99776\n",
      "179/179 [==============================] - 36s 199ms/step - loss: 0.0050 - accuracy: 0.9978 - val_loss: 0.0043 - val_accuracy: 0.9978 - lr: 1.0000e-04\n",
      "Epoch 13/100\n",
      "179/179 [==============================] - ETA: 0s - loss: 0.0039 - accuracy: 0.9986\n",
      "Epoch 13: val_accuracy improved from 0.99776 to 0.99888, saving model to Peach_DenseNet_model2_Based_Augmented\n"
     ]
    },
    {
     "name": "stderr",
     "output_type": "stream",
     "text": [
      "WARNING:absl:Found untraced functions such as _jit_compiled_convolution_op, _jit_compiled_convolution_op, _jit_compiled_convolution_op, _jit_compiled_convolution_op, _jit_compiled_convolution_op while saving (showing 5 of 120). These functions will not be directly callable after loading.\n"
     ]
    },
    {
     "name": "stdout",
     "output_type": "stream",
     "text": [
      "INFO:tensorflow:Assets written to: Peach_DenseNet_model2_Based_Augmented\\assets\n"
     ]
    },
    {
     "name": "stderr",
     "output_type": "stream",
     "text": [
      "INFO:tensorflow:Assets written to: Peach_DenseNet_model2_Based_Augmented\\assets\n"
     ]
    },
    {
     "name": "stdout",
     "output_type": "stream",
     "text": [
      "179/179 [==============================] - 77s 432ms/step - loss: 0.0039 - accuracy: 0.9986 - val_loss: 0.0016 - val_accuracy: 0.9989 - lr: 1.0000e-04\n",
      "Epoch 14/100\n",
      "179/179 [==============================] - ETA: 0s - loss: 0.0044 - accuracy: 0.9983\n",
      "Epoch 14: val_accuracy improved from 0.99888 to 1.00000, saving model to Peach_DenseNet_model2_Based_Augmented\n"
     ]
    },
    {
     "name": "stderr",
     "output_type": "stream",
     "text": [
      "WARNING:absl:Found untraced functions such as _jit_compiled_convolution_op, _jit_compiled_convolution_op, _jit_compiled_convolution_op, _jit_compiled_convolution_op, _jit_compiled_convolution_op while saving (showing 5 of 120). These functions will not be directly callable after loading.\n"
     ]
    },
    {
     "name": "stdout",
     "output_type": "stream",
     "text": [
      "INFO:tensorflow:Assets written to: Peach_DenseNet_model2_Based_Augmented\\assets\n"
     ]
    },
    {
     "name": "stderr",
     "output_type": "stream",
     "text": [
      "INFO:tensorflow:Assets written to: Peach_DenseNet_model2_Based_Augmented\\assets\n"
     ]
    },
    {
     "name": "stdout",
     "output_type": "stream",
     "text": [
      "179/179 [==============================] - 71s 397ms/step - loss: 0.0044 - accuracy: 0.9983 - val_loss: 9.9030e-04 - val_accuracy: 1.0000 - lr: 1.0000e-04\n",
      "Epoch 15/100\n",
      "179/179 [==============================] - ETA: 0s - loss: 0.0067 - accuracy: 0.9980\n",
      "Epoch 15: val_accuracy did not improve from 1.00000\n",
      "179/179 [==============================] - 35s 193ms/step - loss: 0.0067 - accuracy: 0.9980 - val_loss: 0.0031 - val_accuracy: 0.9978 - lr: 1.0000e-04\n",
      "Epoch 16/100\n",
      "179/179 [==============================] - ETA: 0s - loss: 0.0046 - accuracy: 0.9986\n",
      "Epoch 16: val_accuracy did not improve from 1.00000\n",
      "179/179 [==============================] - 35s 195ms/step - loss: 0.0046 - accuracy: 0.9986 - val_loss: 0.0014 - val_accuracy: 1.0000 - lr: 1.0000e-04\n",
      "Epoch 17/100\n",
      "179/179 [==============================] - ETA: 0s - loss: 0.0033 - accuracy: 0.9989\n",
      "Epoch 17: val_accuracy did not improve from 1.00000\n",
      "179/179 [==============================] - 36s 199ms/step - loss: 0.0033 - accuracy: 0.9989 - val_loss: 3.8805e-04 - val_accuracy: 1.0000 - lr: 1.0000e-04\n",
      "Epoch 18/100\n",
      "179/179 [==============================] - ETA: 0s - loss: 0.0014 - accuracy: 0.9997\n",
      "Epoch 18: val_accuracy did not improve from 1.00000\n",
      "179/179 [==============================] - 35s 195ms/step - loss: 0.0014 - accuracy: 0.9997 - val_loss: 4.8995e-04 - val_accuracy: 1.0000 - lr: 1.0000e-04\n",
      "Epoch 19/100\n",
      "179/179 [==============================] - ETA: 0s - loss: 0.0204 - accuracy: 0.9955\n",
      "Epoch 19: val_accuracy did not improve from 1.00000\n",
      "179/179 [==============================] - 36s 202ms/step - loss: 0.0204 - accuracy: 0.9955 - val_loss: 0.0093 - val_accuracy: 0.9955 - lr: 1.0000e-04\n",
      "Epoch 20/100\n",
      "179/179 [==============================] - ETA: 0s - loss: 0.0036 - accuracy: 0.9986\n",
      "Epoch 20: val_accuracy did not improve from 1.00000\n",
      "179/179 [==============================] - 35s 196ms/step - loss: 0.0036 - accuracy: 0.9986 - val_loss: 0.0017 - val_accuracy: 1.0000 - lr: 1.0000e-04\n",
      "Epoch 21/100\n",
      "179/179 [==============================] - ETA: 0s - loss: 0.0023 - accuracy: 0.9992\n",
      "Epoch 21: val_accuracy did not improve from 1.00000\n",
      "179/179 [==============================] - 38s 211ms/step - loss: 0.0023 - accuracy: 0.9992 - val_loss: 9.1637e-04 - val_accuracy: 1.0000 - lr: 1.0000e-04\n",
      "Epoch 22/100\n",
      "179/179 [==============================] - ETA: 0s - loss: 0.0022 - accuracy: 0.9994\n",
      "Epoch 22: val_accuracy did not improve from 1.00000\n",
      "\n",
      "Epoch 22: ReduceLROnPlateau reducing learning rate to 1.0000000474974514e-05.\n",
      "179/179 [==============================] - 37s 206ms/step - loss: 0.0022 - accuracy: 0.9994 - val_loss: 0.0015 - val_accuracy: 1.0000 - lr: 1.0000e-04\n",
      "Epoch 23/100\n",
      "179/179 [==============================] - ETA: 0s - loss: 0.0045 - accuracy: 0.9983\n",
      "Epoch 23: val_accuracy did not improve from 1.00000\n",
      "179/179 [==============================] - 38s 209ms/step - loss: 0.0045 - accuracy: 0.9983 - val_loss: 0.0011 - val_accuracy: 1.0000 - lr: 1.0000e-05\n",
      "Epoch 24/100\n",
      "179/179 [==============================] - ETA: 0s - loss: 0.0021 - accuracy: 0.9992\n",
      "Epoch 24: val_accuracy did not improve from 1.00000\n",
      "179/179 [==============================] - 38s 210ms/step - loss: 0.0021 - accuracy: 0.9992 - val_loss: 0.0013 - val_accuracy: 1.0000 - lr: 1.0000e-05\n",
      "Epoch 25/100\n",
      "179/179 [==============================] - ETA: 0s - loss: 0.0010 - accuracy: 1.0000\n",
      "Epoch 25: val_accuracy did not improve from 1.00000\n",
      "179/179 [==============================] - 39s 218ms/step - loss: 0.0010 - accuracy: 1.0000 - val_loss: 0.0014 - val_accuracy: 1.0000 - lr: 1.0000e-05\n",
      "Epoch 26/100\n",
      "179/179 [==============================] - ETA: 0s - loss: 0.0018 - accuracy: 0.9989\n",
      "Epoch 26: val_accuracy did not improve from 1.00000\n",
      "179/179 [==============================] - 39s 217ms/step - loss: 0.0018 - accuracy: 0.9989 - val_loss: 0.0019 - val_accuracy: 1.0000 - lr: 1.0000e-05\n",
      "Epoch 27/100\n",
      "179/179 [==============================] - ETA: 0s - loss: 9.2909e-04 - accuracy: 1.0000\n",
      "Epoch 27: val_accuracy did not improve from 1.00000\n",
      "\n",
      "Epoch 27: ReduceLROnPlateau reducing learning rate to 1.0000000656873453e-06.\n",
      "179/179 [==============================] - 40s 224ms/step - loss: 9.2909e-04 - accuracy: 1.0000 - val_loss: 0.0019 - val_accuracy: 1.0000 - lr: 1.0000e-05\n",
      "Epoch 28/100\n",
      "179/179 [==============================] - ETA: 0s - loss: 0.0020 - accuracy: 0.9994\n",
      "Epoch 28: val_accuracy did not improve from 1.00000\n",
      "179/179 [==============================] - 39s 219ms/step - loss: 0.0020 - accuracy: 0.9994 - val_loss: 0.0018 - val_accuracy: 1.0000 - lr: 1.0000e-06\n",
      "Epoch 29/100\n",
      "179/179 [==============================] - ETA: 0s - loss: 0.0019 - accuracy: 0.9994\n",
      "Epoch 29: val_accuracy did not improve from 1.00000\n",
      "179/179 [==============================] - 37s 207ms/step - loss: 0.0019 - accuracy: 0.9994 - val_loss: 0.0018 - val_accuracy: 1.0000 - lr: 1.0000e-06\n",
      "Epoch 30/100\n",
      "179/179 [==============================] - ETA: 0s - loss: 8.4688e-04 - accuracy: 0.9997\n",
      "Epoch 30: val_accuracy did not improve from 1.00000\n",
      "179/179 [==============================] - 37s 204ms/step - loss: 8.4688e-04 - accuracy: 0.9997 - val_loss: 0.0018 - val_accuracy: 1.0000 - lr: 1.0000e-06\n",
      "Epoch 31/100\n",
      "179/179 [==============================] - ETA: 0s - loss: 0.0011 - accuracy: 1.0000\n",
      "Epoch 31: val_accuracy did not improve from 1.00000\n",
      "179/179 [==============================] - 36s 200ms/step - loss: 0.0011 - accuracy: 1.0000 - val_loss: 0.0018 - val_accuracy: 1.0000 - lr: 1.0000e-06\n",
      "Epoch 32/100\n",
      "179/179 [==============================] - ETA: 0s - loss: 0.0023 - accuracy: 0.9997\n",
      "Epoch 32: val_accuracy did not improve from 1.00000\n",
      "\n",
      "Epoch 32: ReduceLROnPlateau reducing learning rate to 1.0000001111620805e-07.\n",
      "179/179 [==============================] - 35s 197ms/step - loss: 0.0023 - accuracy: 0.9997 - val_loss: 0.0017 - val_accuracy: 1.0000 - lr: 1.0000e-06\n",
      "Epoch 33/100\n",
      "179/179 [==============================] - ETA: 0s - loss: 0.0014 - accuracy: 0.9994\n",
      "Epoch 33: val_accuracy did not improve from 1.00000\n",
      "179/179 [==============================] - 35s 197ms/step - loss: 0.0014 - accuracy: 0.9994 - val_loss: 0.0017 - val_accuracy: 1.0000 - lr: 1.0000e-07\n",
      "Epoch 34/100\n",
      "179/179 [==============================] - ETA: 0s - loss: 8.0993e-04 - accuracy: 0.9997\n",
      "Epoch 34: val_accuracy did not improve from 1.00000\n",
      "Restoring model weights from the end of the best epoch: 14.\n",
      "179/179 [==============================] - 36s 198ms/step - loss: 8.0993e-04 - accuracy: 0.9997 - val_loss: 0.0017 - val_accuracy: 1.0000 - lr: 1.0000e-07\n",
      "Epoch 34: early stopping\n"
     ]
    }
   ],
   "source": [
    "# Define the number of epochs\n",
    "num_epochs = 100\n",
    "\n",
    "# Train the model\n",
    "history_DenseNet_model_2 = DenseNet_model_2.fit(train_generator, epochs=num_epochs, validation_data=validation_generator, callbacks=callbacks)"
   ]
  },
  {
   "cell_type": "code",
   "execution_count": 16,
   "metadata": {
    "colab": {
     "base_uri": "https://localhost:8080/",
     "height": 904
    },
    "id": "3f1nmwUhU2TK",
    "outputId": "0f1c6cd5-3a78-466f-acaf-e4d5bd62d152",
    "tags": []
   },
   "outputs": [
    {
     "data": {
      "text/plain": [
       "<matplotlib.legend.Legend at 0x293c7455f30>"
      ]
     },
     "execution_count": 16,
     "metadata": {},
     "output_type": "execute_result"
    },
    {
     "data": {
      "image/png": "[encoded data removed]",
      "text/plain": [
       "<Figure size 640x480 with 1 Axes>"
      ]
     },
     "metadata": {},
     "output_type": "display_data"
    },
    {
     "data": {
      "image/png": "[encoded data removed]",
      "text/plain": [
       "<Figure size 640x480 with 1 Axes>"
      ]
     },
     "metadata": {},
     "output_type": "display_data"
    }
   ],
   "source": [
    "#-----------------------------------------------------------\n",
    "# Retrieve a list of list results on training and test data\n",
    "# sets for each training epoch\n",
    "#-----------------------------------------------------------\n",
    "acc      = history_DenseNet_model_2.history['accuracy' ]\n",
    "val_acc  = history_DenseNet_model_2.history['val_accuracy' ]\n",
    "loss     = history_DenseNet_model_2.history['loss' ]\n",
    "val_loss = history_DenseNet_model_2.history['val_loss' ]\n",
    "\n",
    "epochs   = range(len(acc)) # Get number of epochs\n",
    "\n",
    "#------------------------------------------------\n",
    "# Plot training and validation accuracy per epoch\n",
    "#------------------------------------------------\n",
    "plt.plot  (epochs, acc )\n",
    "plt.plot  (epochs, val_acc )\n",
    "plt.title ('Training and validation accuracy DenseNet Model 2')\n",
    "plt.legend(['train', 'val'], loc='upper left')\n",
    "plt.figure()\n",
    "\n",
    "#------------------------------------------------\n",
    "# Plot training and validation loss per epoch\n",
    "#------------------------------------------------\n",
    "plt.plot  (epochs, loss)\n",
    "plt.plot  (epochs, val_loss)\n",
    "plt.title ('Training and validation loss DenseNet Model 2')\n",
    "plt.legend(['train', 'val'], loc='upper left')"
   ]
  }
 ],
 "metadata": {
  "accelerator": "GPU",
  "colab": {
   "gpuType": "T4",
   "provenance": []
  },
  "gpuClass": "standard",
  "kernelspec": {
   "display_name": "Python 3 (ipykernel)",
   "language": "python",
   "name": "python3"
  },
  "language_info": {
   "codemirror_mode": {
    "name": "ipython",
    "version": 3
   },
   "file_extension": ".py",
   "mimetype": "text/x-python",
   "name": "python",
   "nbconvert_exporter": "python",
   "pygments_lexer": "ipython3",
   "version": "3.10.0"
  }
 },
 "nbformat": 4,
 "nbformat_minor": 4
}
