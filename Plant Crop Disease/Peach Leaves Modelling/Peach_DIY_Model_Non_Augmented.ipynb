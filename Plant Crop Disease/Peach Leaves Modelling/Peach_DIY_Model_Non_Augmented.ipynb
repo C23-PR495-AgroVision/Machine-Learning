{
  "cells": [
    {
      "attachments": {},
      "cell_type": "markdown",
      "metadata": {
        "id": "hO3kEcUPU2S3"
      },
      "source": [
        "# Library"
      ]
    },
    {
      "cell_type": "code",
      "execution_count": 1,
      "metadata": {
        "colab": {
          "base_uri": "https://localhost:8080/"
        },
        "id": "kczkUjsAU2S8",
        "outputId": "7c748c1d-dfcb-43e7-b8b0-9778053796ee",
        "tags": []
      },
      "outputs": [
        {
          "name": "stdout",
          "output_type": "stream",
          "text": [
            "Requirement already satisfied: matplotlib in c:\\users\\hasan\\anaconda3\\envs\\tensorflow_gpu_zein\\lib\\site-packages (3.6.3)\n",
            "Requirement already satisfied: pillow>=6.2.0 in c:\\users\\hasan\\anaconda3\\envs\\tensorflow_gpu_zein\\lib\\site-packages (from matplotlib) (9.4.0)\n",
            "Requirement already satisfied: kiwisolver>=1.0.1 in c:\\users\\hasan\\anaconda3\\envs\\tensorflow_gpu_zein\\lib\\site-packages (from matplotlib) (1.4.4)\n",
            "Requirement already satisfied: packaging>=20.0 in c:\\users\\hasan\\anaconda3\\envs\\tensorflow_gpu_zein\\lib\\site-packages (from matplotlib) (23.1)\n",
            "Requirement already satisfied: fonttools>=4.22.0 in c:\\users\\hasan\\anaconda3\\envs\\tensorflow_gpu_zein\\lib\\site-packages (from matplotlib) (4.39.2)\n",
            "Requirement already satisfied: contourpy>=1.0.1 in c:\\users\\hasan\\anaconda3\\envs\\tensorflow_gpu_zein\\lib\\site-packages (from matplotlib) (1.0.7)\n",
            "Requirement already satisfied: python-dateutil>=2.7 in c:\\users\\hasan\\anaconda3\\envs\\tensorflow_gpu_zein\\lib\\site-packages (from matplotlib) (2.8.2)\n",
            "Requirement already satisfied: cycler>=0.10 in c:\\users\\hasan\\anaconda3\\envs\\tensorflow_gpu_zein\\lib\\site-packages (from matplotlib) (0.11.0)\n",
            "Requirement already satisfied: pyparsing>=2.2.1 in c:\\users\\hasan\\anaconda3\\envs\\tensorflow_gpu_zein\\lib\\site-packages (from matplotlib) (3.0.9)\n",
            "Requirement already satisfied: numpy>=1.19 in c:\\users\\hasan\\anaconda3\\envs\\tensorflow_gpu_zein\\lib\\site-packages (from matplotlib) (1.23.5)\n",
            "Requirement already satisfied: six>=1.5 in c:\\users\\hasan\\anaconda3\\envs\\tensorflow_gpu_zein\\lib\\site-packages (from python-dateutil>=2.7->matplotlib) (1.16.0)\n",
            "Note: you may need to restart the kernel to use updated packages.\n"
          ]
        },
        {
          "name": "stderr",
          "output_type": "stream",
          "text": [
            "WARNING: Ignoring invalid distribution -rotobuf (c:\\users\\hasan\\anaconda3\\envs\\tensorflow_gpu_zein\\lib\\site-packages)\n",
            "WARNING: Ignoring invalid distribution -rotobuf (c:\\users\\hasan\\anaconda3\\envs\\tensorflow_gpu_zein\\lib\\site-packages)\n",
            "WARNING: Ignoring invalid distribution -rotobuf (c:\\users\\hasan\\anaconda3\\envs\\tensorflow_gpu_zein\\lib\\site-packages)\n",
            "WARNING: Ignoring invalid distribution -rotobuf (c:\\users\\hasan\\anaconda3\\envs\\tensorflow_gpu_zein\\lib\\site-packages)\n",
            "WARNING: Ignoring invalid distribution -rotobuf (c:\\users\\hasan\\anaconda3\\envs\\tensorflow_gpu_zein\\lib\\site-packages)\n",
            "WARNING: Ignoring invalid distribution -rotobuf (c:\\users\\hasan\\anaconda3\\envs\\tensorflow_gpu_zein\\lib\\site-packages)\n"
          ]
        }
      ],
      "source": [
        "pip install matplotlib"
      ]
    },
    {
      "cell_type": "code",
      "execution_count": 2,
      "metadata": {
        "colab": {
          "base_uri": "https://localhost:8080/"
        },
        "id": "oEW3Nbu7U2S_",
        "outputId": "9b339d84-5c59-481e-882e-9736504f9a65",
        "tags": []
      },
      "outputs": [
        {
          "name": "stdout",
          "output_type": "stream",
          "text": [
            "Requirement already satisfied: opendatasets in c:\\users\\hasan\\anaconda3\\envs\\tensorflow_gpu_zein\\lib\\site-packages (0.1.22)\n",
            "Requirement already satisfied: click in c:\\users\\hasan\\anaconda3\\envs\\tensorflow_gpu_zein\\lib\\site-packages (from opendatasets) (8.1.3)\n",
            "Requirement already satisfied: kaggle in c:\\users\\hasan\\anaconda3\\envs\\tensorflow_gpu_zein\\lib\\site-packages (from opendatasets) (1.5.13)\n",
            "Requirement already satisfied: tqdm in c:\\users\\hasan\\anaconda3\\envs\\tensorflow_gpu_zein\\lib\\site-packages (from opendatasets) (4.64.1)\n",
            "Requirement already satisfied: colorama in c:\\users\\hasan\\anaconda3\\envs\\tensorflow_gpu_zein\\lib\\site-packages (from click->opendatasets) (0.4.6)\n",
            "Requirement already satisfied: python-dateutil in c:\\users\\hasan\\anaconda3\\envs\\tensorflow_gpu_zein\\lib\\site-packages (from kaggle->opendatasets) (2.8.2)\n",
            "Requirement already satisfied: six>=1.10 in c:\\users\\hasan\\anaconda3\\envs\\tensorflow_gpu_zein\\lib\\site-packages (from kaggle->opendatasets) (1.16.0)\n",
            "Requirement already satisfied: requests in c:\\users\\hasan\\anaconda3\\envs\\tensorflow_gpu_zein\\lib\\site-packages (from kaggle->opendatasets) (2.28.2)\n",
            "Requirement already satisfied: urllib3 in c:\\users\\hasan\\anaconda3\\envs\\tensorflow_gpu_zein\\lib\\site-packages (from kaggle->opendatasets) (1.26.15)\n",
            "Requirement already satisfied: certifi in c:\\users\\hasan\\anaconda3\\envs\\tensorflow_gpu_zein\\lib\\site-packages (from kaggle->opendatasets) (2022.12.7)\n",
            "Requirement already satisfied: python-slugify in c:\\users\\hasan\\anaconda3\\envs\\tensorflow_gpu_zein\\lib\\site-packages (from kaggle->opendatasets) (8.0.1)\n",
            "Requirement already satisfied: text-unidecode>=1.3 in c:\\users\\hasan\\anaconda3\\envs\\tensorflow_gpu_zein\\lib\\site-packages (from python-slugify->kaggle->opendatasets) (1.3)\n",
            "Requirement already satisfied: charset-normalizer<4,>=2 in c:\\users\\hasan\\anaconda3\\envs\\tensorflow_gpu_zein\\lib\\site-packages (from requests->kaggle->opendatasets) (3.1.0)\n",
            "Requirement already satisfied: idna<4,>=2.5 in c:\\users\\hasan\\anaconda3\\envs\\tensorflow_gpu_zein\\lib\\site-packages (from requests->kaggle->opendatasets) (3.4)\n",
            "Note: you may need to restart the kernel to use updated packages.\n"
          ]
        },
        {
          "name": "stderr",
          "output_type": "stream",
          "text": [
            "WARNING: Ignoring invalid distribution -rotobuf (c:\\users\\hasan\\anaconda3\\envs\\tensorflow_gpu_zein\\lib\\site-packages)\n",
            "WARNING: Ignoring invalid distribution -rotobuf (c:\\users\\hasan\\anaconda3\\envs\\tensorflow_gpu_zein\\lib\\site-packages)\n",
            "WARNING: Ignoring invalid distribution -rotobuf (c:\\users\\hasan\\anaconda3\\envs\\tensorflow_gpu_zein\\lib\\site-packages)\n",
            "WARNING: Ignoring invalid distribution -rotobuf (c:\\users\\hasan\\anaconda3\\envs\\tensorflow_gpu_zein\\lib\\site-packages)\n",
            "WARNING: Ignoring invalid distribution -rotobuf (c:\\users\\hasan\\anaconda3\\envs\\tensorflow_gpu_zein\\lib\\site-packages)\n",
            "WARNING: Ignoring invalid distribution -rotobuf (c:\\users\\hasan\\anaconda3\\envs\\tensorflow_gpu_zein\\lib\\site-packages)\n"
          ]
        }
      ],
      "source": [
        "pip install opendatasets"
      ]
    },
    {
      "cell_type": "code",
      "execution_count": 3,
      "metadata": {
        "id": "SIHHdOB4U2TA",
        "tags": []
      },
      "outputs": [],
      "source": [
        "# Library to dataset\n",
        "import opendatasets as od\n",
        "import os\n",
        "import zipfile\n",
        "import numpy as np\n",
        "\n",
        "# Surpress Warnings\n",
        "import warnings\n",
        "warnings.filterwarnings('ignore')\n",
        "os.environ['TF_CPP_MIN_LOG_LEVEL'] = '3' \n",
        "# library visualization\n",
        "import matplotlib.pyplot as plt\n",
        "\n",
        "# Library Tensorflow\n",
        "import tensorflow as tf\n",
        "from tensorflow import keras\n",
        "from tensorflow.keras.preprocessing.image import ImageDataGenerator\n",
        "from tensorflow.keras.callbacks import ModelCheckpoint, EarlyStopping, ReduceLROnPlateau\n",
        "from tensorflow.keras.applications.densenet import DenseNet121\n",
        "from tensorflow.keras.applications.xception import Xception\n",
        "\n",
        "# Others\n",
        "import shutil\n",
        "import random"
      ]
    },
    {
      "attachments": {},
      "cell_type": "markdown",
      "metadata": {
        "id": "Dy8YkYoaU2TB"
      },
      "source": [
        "# Load dataset"
      ]
    },
    {
      "cell_type": "code",
      "execution_count": 4,
      "metadata": {
        "colab": {
          "base_uri": "https://localhost:8080/"
        },
        "id": "8ZAjREJ0U2TC",
        "outputId": "d3707796-4aa5-4417-f16f-0143f0634214",
        "tags": []
      },
      "outputs": [
        {
          "name": "stdout",
          "output_type": "stream",
          "text": [
            "==========================Training Data====================\n",
            "Found 3566 files belonging to 2 classes.\n",
            "==========================Validation Data====================\n",
            "Found 891 files belonging to 2 classes.\n"
          ]
        }
      ],
      "source": [
        "# Load dataset\n",
        "print(\"==========================Training Data====================\")\n",
        "train_data = tf.keras.preprocessing.image_dataset_from_directory(\n",
        "    \"Dataset/Peach/train\",\n",
        "    label_mode=\"categorical\",\n",
        "    class_names=['Peach___Bacterial_spot','Peach___healthy'],\n",
        "    color_mode=\"rgb\",\n",
        "    batch_size=1,\n",
        "    image_size=(256, 256),\n",
        "    shuffle=True,\n",
        "    seed=123\n",
        ")\n",
        "print(\"==========================Validation Data====================\")\n",
        "val_data = tf.keras.preprocessing.image_dataset_from_directory(\n",
        "    \"Dataset/Peach/valid\",\n",
        "    label_mode=\"categorical\",\n",
        "    class_names=['Peach___Bacterial_spot','Peach___healthy'],\n",
        "    color_mode=\"rgb\",\n",
        "    batch_size=1,\n",
        "    image_size=(256, 256),\n",
        "    shuffle=True,\n",
        "    seed=123\n",
        ")"
      ]
    },
    {
      "cell_type": "code",
      "execution_count": 5,
      "metadata": {
        "colab": {
          "base_uri": "https://localhost:8080/"
        },
        "id": "vEPzd1egU2TD",
        "outputId": "dda3ba1b-941b-4c56-d4b9-3b80ecbb1f90",
        "tags": []
      },
      "outputs": [
        {
          "name": "stdout",
          "output_type": "stream",
          "text": [
            "Found 3566 images belonging to 2 classes.\n",
            "Found 891 images belonging to 2 classes.\n"
          ]
        }
      ],
      "source": [
        "# All images will be rescaled by 1./255.\n",
        "train_datagen = ImageDataGenerator(rescale = 1.0/256.)\n",
        "test_datagen  = ImageDataGenerator(rescale = 1.0/256.)\n",
        "\n",
        "# --------------------\n",
        "# Flow training images in batches of 20 using train_datagen generator\n",
        "# --------------------\n",
        "train_generator = train_datagen.flow_from_directory(\"Dataset/Peach/train\",\n",
        "                                                    batch_size=20,\n",
        "                                                    class_mode='categorical',\n",
        "                                                    target_size=(224, 224))     \n",
        "# --------------------\n",
        "# Flow validation images in batches of 20 using test_datagen generator\n",
        "# --------------------\n",
        "validation_generator =  test_datagen.flow_from_directory(\"Dataset/Peach/valid\",\n",
        "                                                         batch_size=20,\n",
        "                                                         class_mode  = 'categorical',\n",
        "                                                         target_size = (224, 224))"
      ]
    },
    {
      "attachments": {},
      "cell_type": "markdown",
      "metadata": {
        "id": "_3jaO5YgU2TE"
      },
      "source": [
        "# List Resource"
      ]
    },
    {
      "cell_type": "code",
      "execution_count": 6,
      "metadata": {
        "colab": {
          "base_uri": "https://localhost:8080/"
        },
        "id": "SGemCaxnU2TF",
        "outputId": "254a06ef-b0c3-4a95-e21d-dcec309b9b46",
        "tags": []
      },
      "outputs": [
        {
          "name": "stdout",
          "output_type": "stream",
          "text": [
            "Thu May 25 14:00:28 2023       \n",
            "+---------------------------------------------------------------------------------------+\n",
            "| NVIDIA-SMI 531.79                 Driver Version: 531.79       CUDA Version: 12.1     |\n",
            "|-----------------------------------------+----------------------+----------------------+\n",
            "| GPU  Name                      TCC/WDDM | Bus-Id        Disp.A | Volatile Uncorr. ECC |\n",
            "| Fan  Temp  Perf            Pwr:Usage/Cap|         Memory-Usage | GPU-Util  Compute M. |\n",
            "|                                         |                      |               MIG M. |\n",
            "|=========================================+======================+======================|\n",
            "|   0  NVIDIA GeForce RTX 3060 L...  WDDM | 00000000:01:00.0  On |                  N/A |\n",
            "| N/A   56C    P0               40W /  N/A|   4733MiB /  6144MiB |      9%      Default |\n",
            "|                                         |                      |                  N/A |\n",
            "+-----------------------------------------+----------------------+----------------------+\n",
            "                                                                                         \n",
            "+---------------------------------------------------------------------------------------+\n",
            "| Processes:                                                                            |\n",
            "|  GPU   GI   CI        PID   Type   Process name                            GPU Memory |\n",
            "|        ID   ID                                                             Usage      |\n",
            "|=======================================================================================|\n",
            "|    0   N/A  N/A      4176    C+G   ...les\\AMD\\CNext\\CNext\\AMDRSSrcExt.exe    N/A      |\n",
            "|    0   N/A  N/A      6056    C+G   ...Programs\\Microsoft VS Code\\Code.exe    N/A      |\n",
            "|    0   N/A  N/A      6300    C+G   ...16.0_x86__zpdnekdrzrea0\\Spotify.exe    N/A      |\n",
            "|    0   N/A  N/A      9816    C+G   C:\\WINDOWS\\explorer.exe                   N/A      |\n",
            "|    0   N/A  N/A     10328    C+G   ...nt.CBS_cw5n1h2txyewy\\SearchHost.exe    N/A      |\n",
            "|    0   N/A  N/A     10532    C+G   ...2txyewy\\StartMenuExperienceHost.exe    N/A      |\n",
            "|    0   N/A  N/A     13880    C+G   ...x64__qmba6cd70vzyy\\ArmouryCrate.exe    N/A      |\n",
            "|    0   N/A  N/A     14756    C+G   ...t.LockApp_cw5n1h2txyewy\\LockApp.exe    N/A      |\n",
            "|    0   N/A  N/A     16160    C+G   ...ekyb3d8bbwe\\PhoneExperienceHost.exe    N/A      |\n",
            "|    0   N/A  N/A     17876    C+G   ...GeForce Experience\\NVIDIA Share.exe    N/A      |\n",
            "|    0   N/A  N/A     18428    C+G   ...2.0_x64__cv1g1gvanyjgm\\WhatsApp.exe    N/A      |\n",
            "|    0   N/A  N/A     18580    C+G   ...les\\Microsoft OneDrive\\OneDrive.exe    N/A      |\n",
            "|    0   N/A  N/A     19448    C+G   ...les\\Microsoft OneDrive\\OneDrive.exe    N/A      |\n",
            "|    0   N/A  N/A     19780    C+G   ...64__v826wp6bftszj\\TranslucentTB.exe    N/A      |\n",
            "|    0   N/A  N/A     20296    C+G   ...\\AMD\\CNext\\CNext\\RadeonSoftware.exe    N/A      |\n",
            "|    0   N/A  N/A     20672    C+G   ...siveControlPanel\\SystemSettings.exe    N/A      |\n",
            "|    0   N/A  N/A     21868    C+G   ...5n1h2txyewy\\ShellExperienceHost.exe    N/A      |\n",
            "|    0   N/A  N/A     22216    C+G   ...1.0_x64__8wekyb3d8bbwe\\Video.UI.exe    N/A      |\n",
            "|    0   N/A  N/A     22316    C+G   ...on\\113.0.1774.50\\msedgewebview2.exe    N/A      |\n",
            "|    0   N/A  N/A     24744    C+G   ...oogle\\Chrome\\Application\\chrome.exe    N/A      |\n",
            "|    0   N/A  N/A     25568      C   ...envs\\tensorflow_gpu_zein\\python.exe    N/A      |\n",
            "|    0   N/A  N/A     26596    C+G   ...1.0_x64__t4vj0pshhgkwm\\Telegram.exe    N/A      |\n",
            "|    0   N/A  N/A     29348    C+G   ...ta\\Local\\Programs\\Notion\\Notion.exe    N/A      |\n",
            "+---------------------------------------------------------------------------------------+\n"
          ]
        }
      ],
      "source": [
        "# Check GPU\n",
        "!nvidia-smi"
      ]
    },
    {
      "cell_type": "code",
      "execution_count": 7,
      "metadata": {
        "colab": {
          "base_uri": "https://localhost:8080/"
        },
        "id": "FSapZ74PU2TF",
        "outputId": "ebda7ff2-b287-4cfe-c55f-66915b486de6",
        "tags": []
      },
      "outputs": [
        {
          "data": {
            "text/plain": [
              "[PhysicalDevice(name='/physical_device:GPU:0', device_type='GPU')]"
            ]
          },
          "execution_count": 7,
          "metadata": {},
          "output_type": "execute_result"
        }
      ],
      "source": [
        "# Lis physical devices\n",
        "devices = tf.config.experimental.list_physical_devices(\"GPU\")\n",
        "devices"
      ]
    },
    {
      "cell_type": "code",
      "execution_count": 8,
      "metadata": {
        "id": "A8WtBtBaU2TG",
        "tags": []
      },
      "outputs": [
        {
          "name": "stdout",
          "output_type": "stream",
          "text": [
            "INFO:tensorflow:Using MirroredStrategy with devices ('/job:localhost/replica:0/task:0/device:GPU:0',)\n"
          ]
        }
      ],
      "source": [
        "# Define the GPU strategy\n",
        "mirrored_strategy = tf.distribute.MirroredStrategy(devices=[\"/gpu:0\"])"
      ]
    },
    {
      "attachments": {},
      "cell_type": "markdown",
      "metadata": {
        "id": "Vqr_uGTNU2TG"
      },
      "source": [
        "# Modelling Without Augmentation"
      ]
    },
    {
      "attachments": {},
      "cell_type": "markdown",
      "metadata": {
        "id": "w4Wzh6ZyU2TH"
      },
      "source": [
        "## DIY Model 1"
      ]
    },
    {
      "cell_type": "code",
      "execution_count": 9,
      "metadata": {
        "id": "uUqYGBfRU2TH",
        "tags": []
      },
      "outputs": [],
      "source": [
        "# Difine the callbacks\n",
        "# Save the best model\n",
        "checkpoint_callback = ModelCheckpoint(filepath=\"Peach_DIY_model1_Based_Non_Augmented\", save_best_only=True, monitor=\"val_accuracy\", mode=\"max\", verbose=1)\n",
        "\n",
        "# Early stopping\n",
        "early_stopping_callback = EarlyStopping(monitor=\"val_accuracy\", mode=\"max\", patience=20, verbose=1, restore_best_weights=True)\n",
        "\n",
        "# Reduce learning rate\n",
        "reduce_lr_callback = ReduceLROnPlateau(monitor=\"val_loss\", factor=0.1, patience=5, verbose=1, mode=\"min\", min_delta=0.0001, cooldown=0, min_lr=0)\n",
        "\n",
        "# Callbacks list\n",
        "callbacks=[checkpoint_callback, early_stopping_callback, reduce_lr_callback]"
      ]
    },
    {
      "cell_type": "code",
      "execution_count": 10,
      "metadata": {
        "colab": {
          "base_uri": "https://localhost:8080/"
        },
        "id": "BQHFs3gSU2TI",
        "outputId": "f3c4e6fb-953a-4af2-86b3-744bcc8db7f3",
        "tags": []
      },
      "outputs": [
        {
          "name": "stdout",
          "output_type": "stream",
          "text": [
            "Model: \"sequential\"\n",
            "_________________________________________________________________\n",
            " Layer (type)                Output Shape              Param #   \n",
            "=================================================================\n",
            " conv2d (Conv2D)             (None, 222, 222, 32)      896       \n",
            "                                                                 \n",
            " max_pooling2d (MaxPooling2D  (None, 111, 111, 32)     0         \n",
            " )                                                               \n",
            "                                                                 \n",
            " conv2d_1 (Conv2D)           (None, 109, 109, 64)      18496     \n",
            "                                                                 \n",
            " max_pooling2d_1 (MaxPooling  (None, 54, 54, 64)       0         \n",
            " 2D)                                                             \n",
            "                                                                 \n",
            " conv2d_2 (Conv2D)           (None, 52, 52, 128)       73856     \n",
            "                                                                 \n",
            " max_pooling2d_2 (MaxPooling  (None, 26, 26, 128)      0         \n",
            " 2D)                                                             \n",
            "                                                                 \n",
            " flatten (Flatten)           (None, 86528)             0         \n",
            "                                                                 \n",
            " dense (Dense)               (None, 512)               44302848  \n",
            "                                                                 \n",
            " dropout (Dropout)           (None, 512)               0         \n",
            "                                                                 \n",
            " dense_1 (Dense)             (None, 256)               131328    \n",
            "                                                                 \n",
            " dense_2 (Dense)             (None, 2)                 514       \n",
            "                                                                 \n",
            "=================================================================\n",
            "Total params: 44,527,938\n",
            "Trainable params: 44,527,938\n",
            "Non-trainable params: 0\n",
            "_________________________________________________________________\n"
          ]
        }
      ],
      "source": [
        "# Define DIY Model\n",
        "DIY_model = tf.keras.models.Sequential([\n",
        "    # Convolutional Layers with 32 filters\n",
        "    tf.keras.layers.Conv2D(32, (3,3), activation='relu', input_shape=(224, 224, 3)),\n",
        "    # MaxPooling Layer\n",
        "    tf.keras.layers.MaxPooling2D(2,2),\n",
        "    # Convolutional Layers with 64 filters\n",
        "    tf.keras.layers.Conv2D(64, (3,3), activation='relu'),\n",
        "    # MaxPooling Layer\n",
        "    tf.keras.layers.MaxPooling2D(2,2),  \n",
        "    # Convolutional Layers with 128 filters\n",
        "    tf.keras.layers.Conv2D(128, (3,3), activation='relu'), \n",
        "    # MaxPooling Layer\n",
        "    tf.keras.layers.MaxPooling2D(2,2),  \n",
        "    # Flatten the results to feed into a DNN\n",
        "    tf.keras.layers.Flatten(),\n",
        "    # 512 neuron hidden layer\n",
        "    tf.keras.layers.Dense(512, activation='relu'),\n",
        "    # Drop Out Layer\n",
        "    tf.keras.layers.Dropout(0.2),\n",
        "    # 256 neuron hidden layer\n",
        "    tf.keras.layers.Dense(256, activation='relu'),\n",
        "    # Output\n",
        "    tf.keras.layers.Dense(2, activation='softmax') \n",
        "  ])\n",
        "\n",
        "\n",
        "# Compile Model\n",
        "DIY_model.compile(loss='categorical_crossentropy',optimizer=tf.keras.optimizers.Adam(), metrics=['accuracy']) \n",
        "\n",
        "# Model Summary\n",
        "DIY_model.summary()"
      ]
    },
    {
      "cell_type": "code",
      "execution_count": 11,
      "metadata": {
        "colab": {
          "base_uri": "https://localhost:8080/"
        },
        "id": "6coN3TKhU2TI",
        "outputId": "0af9bb85-7afd-4ec7-a783-2f3dc0091178",
        "tags": []
      },
      "outputs": [
        {
          "name": "stdout",
          "output_type": "stream",
          "text": [
            "Epoch 1/100\n",
            "179/179 [==============================] - ETA: 0s - loss: 0.2320 - accuracy: 0.9254\n",
            "Epoch 1: val_accuracy improved from -inf to 0.96633, saving model to Peach_DIY_model1_Based_Non_Augmented\n"
          ]
        },
        {
          "name": "stderr",
          "output_type": "stream",
          "text": [
            "WARNING:absl:Found untraced functions such as _jit_compiled_convolution_op, _jit_compiled_convolution_op, _jit_compiled_convolution_op while saving (showing 3 of 3). These functions will not be directly callable after loading.\n"
          ]
        },
        {
          "name": "stdout",
          "output_type": "stream",
          "text": [
            "INFO:tensorflow:Assets written to: Peach_DIY_model1_Based_Non_Augmented\\assets\n"
          ]
        },
        {
          "name": "stderr",
          "output_type": "stream",
          "text": [
            "INFO:tensorflow:Assets written to: Peach_DIY_model1_Based_Non_Augmented\\assets\n"
          ]
        },
        {
          "name": "stdout",
          "output_type": "stream",
          "text": [
            "179/179 [==============================] - 35s 173ms/step - loss: 0.2320 - accuracy: 0.9254 - val_loss: 0.1104 - val_accuracy: 0.9663 - lr: 0.0010\n",
            "Epoch 2/100\n",
            "179/179 [==============================] - ETA: 0s - loss: 0.0701 - accuracy: 0.9770\n",
            "Epoch 2: val_accuracy improved from 0.96633 to 0.96857, saving model to Peach_DIY_model1_Based_Non_Augmented\n"
          ]
        },
        {
          "name": "stderr",
          "output_type": "stream",
          "text": [
            "WARNING:absl:Found untraced functions such as _jit_compiled_convolution_op, _jit_compiled_convolution_op, _jit_compiled_convolution_op while saving (showing 3 of 3). These functions will not be directly callable after loading.\n"
          ]
        },
        {
          "name": "stdout",
          "output_type": "stream",
          "text": [
            "INFO:tensorflow:Assets written to: Peach_DIY_model1_Based_Non_Augmented\\assets\n"
          ]
        },
        {
          "name": "stderr",
          "output_type": "stream",
          "text": [
            "INFO:tensorflow:Assets written to: Peach_DIY_model1_Based_Non_Augmented\\assets\n"
          ]
        },
        {
          "name": "stdout",
          "output_type": "stream",
          "text": [
            "179/179 [==============================] - 9s 49ms/step - loss: 0.0701 - accuracy: 0.9770 - val_loss: 0.0993 - val_accuracy: 0.9686 - lr: 0.0010\n",
            "Epoch 3/100\n",
            "179/179 [==============================] - ETA: 0s - loss: 0.0444 - accuracy: 0.9857\n",
            "Epoch 3: val_accuracy did not improve from 0.96857\n",
            "179/179 [==============================] - 7s 37ms/step - loss: 0.0444 - accuracy: 0.9857 - val_loss: 0.1107 - val_accuracy: 0.9675 - lr: 0.0010\n",
            "Epoch 4/100\n",
            "178/179 [============================>.] - ETA: 0s - loss: 0.0418 - accuracy: 0.9851\n",
            "Epoch 4: val_accuracy improved from 0.96857 to 0.97082, saving model to Peach_DIY_model1_Based_Non_Augmented\n"
          ]
        },
        {
          "name": "stderr",
          "output_type": "stream",
          "text": [
            "WARNING:absl:Found untraced functions such as _jit_compiled_convolution_op, _jit_compiled_convolution_op, _jit_compiled_convolution_op while saving (showing 3 of 3). These functions will not be directly callable after loading.\n"
          ]
        },
        {
          "name": "stdout",
          "output_type": "stream",
          "text": [
            "INFO:tensorflow:Assets written to: Peach_DIY_model1_Based_Non_Augmented\\assets\n"
          ]
        },
        {
          "name": "stderr",
          "output_type": "stream",
          "text": [
            "INFO:tensorflow:Assets written to: Peach_DIY_model1_Based_Non_Augmented\\assets\n"
          ]
        },
        {
          "name": "stdout",
          "output_type": "stream",
          "text": [
            "179/179 [==============================] - 9s 48ms/step - loss: 0.0416 - accuracy: 0.9851 - val_loss: 0.1300 - val_accuracy: 0.9708 - lr: 0.0010\n",
            "Epoch 5/100\n",
            "179/179 [==============================] - ETA: 0s - loss: 0.0283 - accuracy: 0.9941\n",
            "Epoch 5: val_accuracy improved from 0.97082 to 0.97531, saving model to Peach_DIY_model1_Based_Non_Augmented\n"
          ]
        },
        {
          "name": "stderr",
          "output_type": "stream",
          "text": [
            "WARNING:absl:Found untraced functions such as _jit_compiled_convolution_op, _jit_compiled_convolution_op, _jit_compiled_convolution_op while saving (showing 3 of 3). These functions will not be directly callable after loading.\n"
          ]
        },
        {
          "name": "stdout",
          "output_type": "stream",
          "text": [
            "INFO:tensorflow:Assets written to: Peach_DIY_model1_Based_Non_Augmented\\assets\n"
          ]
        },
        {
          "name": "stderr",
          "output_type": "stream",
          "text": [
            "INFO:tensorflow:Assets written to: Peach_DIY_model1_Based_Non_Augmented\\assets\n"
          ]
        },
        {
          "name": "stdout",
          "output_type": "stream",
          "text": [
            "179/179 [==============================] - 9s 48ms/step - loss: 0.0283 - accuracy: 0.9941 - val_loss: 0.1916 - val_accuracy: 0.9753 - lr: 0.0010\n",
            "Epoch 6/100\n",
            "179/179 [==============================] - ETA: 0s - loss: 0.0326 - accuracy: 0.9882\n",
            "Epoch 6: val_accuracy improved from 0.97531 to 0.97980, saving model to Peach_DIY_model1_Based_Non_Augmented\n"
          ]
        },
        {
          "name": "stderr",
          "output_type": "stream",
          "text": [
            "WARNING:absl:Found untraced functions such as _jit_compiled_convolution_op, _jit_compiled_convolution_op, _jit_compiled_convolution_op while saving (showing 3 of 3). These functions will not be directly callable after loading.\n"
          ]
        },
        {
          "name": "stdout",
          "output_type": "stream",
          "text": [
            "INFO:tensorflow:Assets written to: Peach_DIY_model1_Based_Non_Augmented\\assets\n"
          ]
        },
        {
          "name": "stderr",
          "output_type": "stream",
          "text": [
            "INFO:tensorflow:Assets written to: Peach_DIY_model1_Based_Non_Augmented\\assets\n"
          ]
        },
        {
          "name": "stdout",
          "output_type": "stream",
          "text": [
            "179/179 [==============================] - 9s 49ms/step - loss: 0.0326 - accuracy: 0.9882 - val_loss: 0.0933 - val_accuracy: 0.9798 - lr: 0.0010\n",
            "Epoch 7/100\n",
            "179/179 [==============================] - ETA: 0s - loss: 0.0119 - accuracy: 0.9966\n",
            "Epoch 7: val_accuracy improved from 0.97980 to 0.98092, saving model to Peach_DIY_model1_Based_Non_Augmented\n"
          ]
        },
        {
          "name": "stderr",
          "output_type": "stream",
          "text": [
            "WARNING:absl:Found untraced functions such as _jit_compiled_convolution_op, _jit_compiled_convolution_op, _jit_compiled_convolution_op while saving (showing 3 of 3). These functions will not be directly callable after loading.\n"
          ]
        },
        {
          "name": "stdout",
          "output_type": "stream",
          "text": [
            "INFO:tensorflow:Assets written to: Peach_DIY_model1_Based_Non_Augmented\\assets\n"
          ]
        },
        {
          "name": "stderr",
          "output_type": "stream",
          "text": [
            "INFO:tensorflow:Assets written to: Peach_DIY_model1_Based_Non_Augmented\\assets\n"
          ]
        },
        {
          "name": "stdout",
          "output_type": "stream",
          "text": [
            "179/179 [==============================] - 10s 56ms/step - loss: 0.0119 - accuracy: 0.9966 - val_loss: 0.1278 - val_accuracy: 0.9809 - lr: 0.0010\n",
            "Epoch 8/100\n",
            "178/179 [============================>.] - ETA: 0s - loss: 0.0106 - accuracy: 0.9966\n",
            "Epoch 8: val_accuracy did not improve from 0.98092\n",
            "179/179 [==============================] - 7s 39ms/step - loss: 0.0105 - accuracy: 0.9966 - val_loss: 0.2592 - val_accuracy: 0.9675 - lr: 0.0010\n",
            "Epoch 9/100\n",
            "178/179 [============================>.] - ETA: 0s - loss: 0.0190 - accuracy: 0.9944\n",
            "Epoch 9: val_accuracy did not improve from 0.98092\n",
            "179/179 [==============================] - 7s 39ms/step - loss: 0.0190 - accuracy: 0.9944 - val_loss: 0.1455 - val_accuracy: 0.9731 - lr: 0.0010\n",
            "Epoch 10/100\n",
            "178/179 [============================>.] - ETA: 0s - loss: 0.0242 - accuracy: 0.9929\n",
            "Epoch 10: val_accuracy did not improve from 0.98092\n",
            "179/179 [==============================] - 7s 39ms/step - loss: 0.0242 - accuracy: 0.9930 - val_loss: 0.1093 - val_accuracy: 0.9607 - lr: 0.0010\n",
            "Epoch 11/100\n",
            "179/179 [==============================] - ETA: 0s - loss: 0.0196 - accuracy: 0.9936\n",
            "Epoch 11: val_accuracy did not improve from 0.98092\n",
            "\n",
            "Epoch 11: ReduceLROnPlateau reducing learning rate to 0.00010000000474974513.\n",
            "179/179 [==============================] - 7s 38ms/step - loss: 0.0196 - accuracy: 0.9936 - val_loss: 0.1409 - val_accuracy: 0.9776 - lr: 0.0010\n",
            "Epoch 12/100\n",
            "178/179 [============================>.] - ETA: 0s - loss: 0.0022 - accuracy: 0.9997\n",
            "Epoch 12: val_accuracy did not improve from 0.98092\n",
            "179/179 [==============================] - 7s 40ms/step - loss: 0.0021 - accuracy: 0.9997 - val_loss: 0.1348 - val_accuracy: 0.9776 - lr: 1.0000e-04\n",
            "Epoch 13/100\n",
            "178/179 [============================>.] - ETA: 0s - loss: 6.9254e-04 - accuracy: 1.0000\n",
            "Epoch 13: val_accuracy did not improve from 0.98092\n",
            "179/179 [==============================] - 7s 39ms/step - loss: 6.8869e-04 - accuracy: 1.0000 - val_loss: 0.1423 - val_accuracy: 0.9776 - lr: 1.0000e-04\n",
            "Epoch 14/100\n",
            "178/179 [============================>.] - ETA: 0s - loss: 4.3580e-04 - accuracy: 1.0000\n",
            "Epoch 14: val_accuracy did not improve from 0.98092\n",
            "179/179 [==============================] - 7s 38ms/step - loss: 4.3340e-04 - accuracy: 1.0000 - val_loss: 0.1486 - val_accuracy: 0.9787 - lr: 1.0000e-04\n",
            "Epoch 15/100\n",
            "179/179 [==============================] - ETA: 0s - loss: 3.3271e-04 - accuracy: 1.0000\n",
            "Epoch 15: val_accuracy did not improve from 0.98092\n",
            "179/179 [==============================] - 7s 40ms/step - loss: 3.3271e-04 - accuracy: 1.0000 - val_loss: 0.1536 - val_accuracy: 0.9776 - lr: 1.0000e-04\n",
            "Epoch 16/100\n",
            "179/179 [==============================] - ETA: 0s - loss: 2.8237e-04 - accuracy: 1.0000\n",
            "Epoch 16: val_accuracy did not improve from 0.98092\n",
            "\n",
            "Epoch 16: ReduceLROnPlateau reducing learning rate to 1.0000000474974514e-05.\n",
            "179/179 [==============================] - 7s 40ms/step - loss: 2.8237e-04 - accuracy: 1.0000 - val_loss: 0.1588 - val_accuracy: 0.9776 - lr: 1.0000e-04\n",
            "Epoch 17/100\n",
            "178/179 [============================>.] - ETA: 0s - loss: 2.7941e-04 - accuracy: 1.0000\n",
            "Epoch 17: val_accuracy did not improve from 0.98092\n",
            "179/179 [==============================] - 7s 41ms/step - loss: 2.7814e-04 - accuracy: 1.0000 - val_loss: 0.1594 - val_accuracy: 0.9776 - lr: 1.0000e-05\n",
            "Epoch 18/100\n",
            "178/179 [============================>.] - ETA: 0s - loss: 2.3471e-04 - accuracy: 1.0000\n",
            "Epoch 18: val_accuracy did not improve from 0.98092\n",
            "179/179 [==============================] - 7s 39ms/step - loss: 2.3363e-04 - accuracy: 1.0000 - val_loss: 0.1599 - val_accuracy: 0.9776 - lr: 1.0000e-05\n",
            "Epoch 19/100\n",
            "179/179 [==============================] - ETA: 0s - loss: 2.4076e-04 - accuracy: 1.0000\n",
            "Epoch 19: val_accuracy did not improve from 0.98092\n",
            "179/179 [==============================] - 7s 37ms/step - loss: 2.4076e-04 - accuracy: 1.0000 - val_loss: 0.1606 - val_accuracy: 0.9776 - lr: 1.0000e-05\n",
            "Epoch 20/100\n",
            "179/179 [==============================] - ETA: 0s - loss: 2.0750e-04 - accuracy: 1.0000\n",
            "Epoch 20: val_accuracy did not improve from 0.98092\n",
            "179/179 [==============================] - 7s 39ms/step - loss: 2.0750e-04 - accuracy: 1.0000 - val_loss: 0.1611 - val_accuracy: 0.9776 - lr: 1.0000e-05\n",
            "Epoch 21/100\n",
            "179/179 [==============================] - ETA: 0s - loss: 1.8913e-04 - accuracy: 1.0000\n",
            "Epoch 21: val_accuracy did not improve from 0.98092\n",
            "\n",
            "Epoch 21: ReduceLROnPlateau reducing learning rate to 1.0000000656873453e-06.\n",
            "179/179 [==============================] - 7s 40ms/step - loss: 1.8913e-04 - accuracy: 1.0000 - val_loss: 0.1618 - val_accuracy: 0.9776 - lr: 1.0000e-05\n",
            "Epoch 22/100\n",
            "178/179 [============================>.] - ETA: 0s - loss: 2.3283e-04 - accuracy: 1.0000\n",
            "Epoch 22: val_accuracy did not improve from 0.98092\n",
            "179/179 [==============================] - 7s 39ms/step - loss: 2.3152e-04 - accuracy: 1.0000 - val_loss: 0.1619 - val_accuracy: 0.9776 - lr: 1.0000e-06\n",
            "Epoch 23/100\n",
            "178/179 [============================>.] - ETA: 0s - loss: 2.2379e-04 - accuracy: 1.0000\n",
            "Epoch 23: val_accuracy did not improve from 0.98092\n",
            "179/179 [==============================] - 7s 39ms/step - loss: 2.2683e-04 - accuracy: 1.0000 - val_loss: 0.1620 - val_accuracy: 0.9776 - lr: 1.0000e-06\n",
            "Epoch 24/100\n",
            "179/179 [==============================] - ETA: 0s - loss: 2.1197e-04 - accuracy: 1.0000\n",
            "Epoch 24: val_accuracy did not improve from 0.98092\n",
            "179/179 [==============================] - 7s 40ms/step - loss: 2.1197e-04 - accuracy: 1.0000 - val_loss: 0.1620 - val_accuracy: 0.9776 - lr: 1.0000e-06\n",
            "Epoch 25/100\n",
            "179/179 [==============================] - ETA: 0s - loss: 2.1355e-04 - accuracy: 1.0000\n",
            "Epoch 25: val_accuracy did not improve from 0.98092\n",
            "179/179 [==============================] - 7s 39ms/step - loss: 2.1355e-04 - accuracy: 1.0000 - val_loss: 0.1621 - val_accuracy: 0.9776 - lr: 1.0000e-06\n",
            "Epoch 26/100\n",
            "178/179 [============================>.] - ETA: 0s - loss: 2.2065e-04 - accuracy: 1.0000\n",
            "Epoch 26: val_accuracy did not improve from 0.98092\n",
            "\n",
            "Epoch 26: ReduceLROnPlateau reducing learning rate to 1.0000001111620805e-07.\n",
            "179/179 [==============================] - 7s 40ms/step - loss: 2.2025e-04 - accuracy: 1.0000 - val_loss: 0.1622 - val_accuracy: 0.9776 - lr: 1.0000e-06\n",
            "Epoch 27/100\n",
            "178/179 [============================>.] - ETA: 0s - loss: 2.1161e-04 - accuracy: 1.0000\n",
            "Epoch 27: val_accuracy did not improve from 0.98092\n",
            "Restoring model weights from the end of the best epoch: 7.\n",
            "179/179 [==============================] - 7s 39ms/step - loss: 2.1044e-04 - accuracy: 1.0000 - val_loss: 0.1623 - val_accuracy: 0.9776 - lr: 1.0000e-07\n",
            "Epoch 27: early stopping\n"
          ]
        }
      ],
      "source": [
        "# Define the number of epochs\n",
        "num_epochs = 100\n",
        "\n",
        "# Train the model\n",
        "history_DIY_model = DIY_model.fit(train_generator, epochs=num_epochs, validation_data=validation_generator, callbacks=callbacks)"
      ]
    },
    {
      "cell_type": "code",
      "execution_count": 12,
      "metadata": {
        "colab": {
          "base_uri": "https://localhost:8080/",
          "height": 904
        },
        "id": "lvS9xz3LU2TI",
        "outputId": "cff784e5-04e7-4c82-ae6f-d35375dce673",
        "tags": []
      },
      "outputs": [
        {
          "data": {
            "text/plain": [
              "<matplotlib.legend.Legend at 0x1b56fbd20b0>"
            ]
          },
          "execution_count": 12,
          "metadata": {},
          "output_type": "execute_result"
        },
        {
          "data": {
            "image/png": "[encoded data removed]",
            "text/plain": [
              "<Figure size 640x480 with 1 Axes>"
            ]
          },
          "metadata": {},
          "output_type": "display_data"
        },
        {
          "data": {
            "image/png": "[encoded data removed]",
            "text/plain": [
              "<Figure size 640x480 with 1 Axes>"
            ]
          },
          "metadata": {},
          "output_type": "display_data"
        }
      ],
      "source": [
        "#-----------------------------------------------------------\n",
        "# Retrieve a list of list results on training and test data\n",
        "# sets for each training epoch\n",
        "#-----------------------------------------------------------\n",
        "acc      = history_DIY_model.history['accuracy' ]\n",
        "val_acc  = history_DIY_model.history['val_accuracy' ]\n",
        "loss     = history_DIY_model.history['loss' ]\n",
        "val_loss = history_DIY_model.history['val_loss' ]\n",
        "\n",
        "epochs   = range(len(acc)) # Get number of epochs\n",
        "\n",
        "#------------------------------------------------\n",
        "# Plot training and validation accuracy per epoch\n",
        "#------------------------------------------------\n",
        "plt.plot  (epochs, acc )\n",
        "plt.plot  (epochs, val_acc )\n",
        "plt.title ('Training and validation accuracy DIY Model 1')\n",
        "plt.legend(['train', 'val'], loc='upper left')\n",
        "plt.figure()\n",
        "\n",
        "#------------------------------------------------\n",
        "# Plot training and validation loss per epoch\n",
        "#------------------------------------------------\n",
        "plt.plot  (epochs, loss)\n",
        "plt.plot  (epochs, val_loss)\n",
        "plt.title ('Training and validation loss DIY Model 1')\n",
        "plt.legend(['train', 'val'], loc='upper left')"
      ]
    },
    {
      "attachments": {},
      "cell_type": "markdown",
      "metadata": {
        "id": "SvQOR9IuU2TJ"
      },
      "source": [
        "## DIY Model 2"
      ]
    },
    {
      "cell_type": "code",
      "execution_count": 13,
      "metadata": {
        "id": "Tj7lcdvUU2TJ",
        "tags": []
      },
      "outputs": [],
      "source": [
        "# Difine the callbacks\n",
        "# Save the best model\n",
        "checkpoint_callback = ModelCheckpoint(filepath=\"Peach_DIY_model2_Based_Non_Augmented\", save_best_only=True, monitor=\"val_accuracy\", mode=\"max\", verbose=1)\n",
        "\n",
        "# Early stopping\n",
        "early_stopping_callback = EarlyStopping(monitor=\"val_accuracy\", mode=\"max\", patience=20, verbose=1, restore_best_weights=True)\n",
        "\n",
        "# Reduce learning rate\n",
        "reduce_lr_callback = ReduceLROnPlateau(monitor=\"val_loss\", factor=0.1, patience=5, verbose=1, mode=\"min\", min_delta=0.0001, cooldown=0, min_lr=0)\n",
        "\n",
        "# Callbacks list\n",
        "callbacks=[checkpoint_callback, early_stopping_callback, reduce_lr_callback]"
      ]
    },
    {
      "cell_type": "code",
      "execution_count": 14,
      "metadata": {
        "colab": {
          "base_uri": "https://localhost:8080/"
        },
        "id": "7NKPY1xGU2TJ",
        "outputId": "4d30515b-0f6f-405d-bfd2-2a1edda06595",
        "tags": []
      },
      "outputs": [
        {
          "name": "stdout",
          "output_type": "stream",
          "text": [
            "Model: \"sequential_1\"\n",
            "_________________________________________________________________\n",
            " Layer (type)                Output Shape              Param #   \n",
            "=================================================================\n",
            " conv2d_3 (Conv2D)           (None, 222, 222, 32)      896       \n",
            "                                                                 \n",
            " max_pooling2d_3 (MaxPooling  (None, 111, 111, 32)     0         \n",
            " 2D)                                                             \n",
            "                                                                 \n",
            " conv2d_4 (Conv2D)           (None, 109, 109, 64)      18496     \n",
            "                                                                 \n",
            " max_pooling2d_4 (MaxPooling  (None, 54, 54, 64)       0         \n",
            " 2D)                                                             \n",
            "                                                                 \n",
            " conv2d_5 (Conv2D)           (None, 52, 52, 128)       73856     \n",
            "                                                                 \n",
            " max_pooling2d_5 (MaxPooling  (None, 26, 26, 128)      0         \n",
            " 2D)                                                             \n",
            "                                                                 \n",
            " flatten_1 (Flatten)         (None, 86528)             0         \n",
            "                                                                 \n",
            " dense_3 (Dense)             (None, 1024)              88605696  \n",
            "                                                                 \n",
            " dense_4 (Dense)             (None, 512)               524800    \n",
            "                                                                 \n",
            " dropout_1 (Dropout)         (None, 512)               0         \n",
            "                                                                 \n",
            " dense_5 (Dense)             (None, 256)               131328    \n",
            "                                                                 \n",
            " dense_6 (Dense)             (None, 2)                 514       \n",
            "                                                                 \n",
            "=================================================================\n",
            "Total params: 89,355,586\n",
            "Trainable params: 89,355,586\n",
            "Non-trainable params: 0\n",
            "_________________________________________________________________\n"
          ]
        }
      ],
      "source": [
        "# Define DIY Model\n",
        "DIY_model_2 = tf.keras.models.Sequential([\n",
        "    # Convolutional Layers with 32 filters\n",
        "    tf.keras.layers.Conv2D(32, (3,3), activation='relu', input_shape=(224, 224, 3)),\n",
        "    # MaxPooling Layer\n",
        "    tf.keras.layers.MaxPooling2D(2,2),\n",
        "    # Convolutional Layers with 64 filters\n",
        "    tf.keras.layers.Conv2D(64, (3,3), activation='relu'),\n",
        "    # MaxPooling Layer\n",
        "    tf.keras.layers.MaxPooling2D(2,2),  \n",
        "    # Convolutional Layers with 128 filters\n",
        "    tf.keras.layers.Conv2D(128, (3,3), activation='relu'), \n",
        "    # MaxPooling Layer\n",
        "    tf.keras.layers.MaxPooling2D(2,2),  \n",
        "    # Flatten the results to feed into a DNN\n",
        "    tf.keras.layers.Flatten(),\n",
        "    # 1024 neuron hidden layer\n",
        "    tf.keras.layers.Dense(1024, activation='relu'),\n",
        "    # 512 neuron hidden layer\n",
        "    tf.keras.layers.Dense(512, activation='relu'),\n",
        "    # Drop Out Layer\n",
        "    tf.keras.layers.Dropout(0.2),\n",
        "    # 256 neuron hidden layer\n",
        "    tf.keras.layers.Dense(256, activation='relu'),\n",
        "    # Output\n",
        "    tf.keras.layers.Dense(2, activation='softmax') \n",
        "  ])\n",
        "\n",
        "\n",
        "# Compile Model\n",
        "DIY_model_2.compile(loss='categorical_crossentropy',optimizer=tf.keras.optimizers.Adam(), metrics=['accuracy']) \n",
        "\n",
        "# Model Summary\n",
        "DIY_model_2.summary()"
      ]
    },
    {
      "cell_type": "code",
      "execution_count": 15,
      "metadata": {
        "colab": {
          "base_uri": "https://localhost:8080/"
        },
        "id": "6beuexC9U2TJ",
        "outputId": "6567f6d2-a952-4a94-9d37-52702333b342",
        "tags": []
      },
      "outputs": [
        {
          "name": "stdout",
          "output_type": "stream",
          "text": [
            "Epoch 1/100\n",
            "179/179 [==============================] - ETA: 0s - loss: 0.3017 - accuracy: 0.8898\n",
            "Epoch 1: val_accuracy improved from -inf to 0.95735, saving model to Peach_DIY_model2_Based_Non_Augmented\n"
          ]
        },
        {
          "name": "stderr",
          "output_type": "stream",
          "text": [
            "WARNING:absl:Found untraced functions such as _jit_compiled_convolution_op, _jit_compiled_convolution_op, _jit_compiled_convolution_op while saving (showing 3 of 3). These functions will not be directly callable after loading.\n"
          ]
        },
        {
          "name": "stdout",
          "output_type": "stream",
          "text": [
            "INFO:tensorflow:Assets written to: Peach_DIY_model2_Based_Non_Augmented\\assets\n"
          ]
        },
        {
          "name": "stderr",
          "output_type": "stream",
          "text": [
            "INFO:tensorflow:Assets written to: Peach_DIY_model2_Based_Non_Augmented\\assets\n"
          ]
        },
        {
          "name": "stdout",
          "output_type": "stream",
          "text": [
            "179/179 [==============================] - 12s 62ms/step - loss: 0.3017 - accuracy: 0.8898 - val_loss: 0.1426 - val_accuracy: 0.9574 - lr: 0.0010\n",
            "Epoch 2/100\n",
            "179/179 [==============================] - ETA: 0s - loss: 0.0756 - accuracy: 0.9778\n",
            "Epoch 2: val_accuracy improved from 0.95735 to 0.97643, saving model to Peach_DIY_model2_Based_Non_Augmented\n"
          ]
        },
        {
          "name": "stderr",
          "output_type": "stream",
          "text": [
            "WARNING:absl:Found untraced functions such as _jit_compiled_convolution_op, _jit_compiled_convolution_op, _jit_compiled_convolution_op while saving (showing 3 of 3). These functions will not be directly callable after loading.\n"
          ]
        },
        {
          "name": "stdout",
          "output_type": "stream",
          "text": [
            "INFO:tensorflow:Assets written to: Peach_DIY_model2_Based_Non_Augmented\\assets\n"
          ]
        },
        {
          "name": "stderr",
          "output_type": "stream",
          "text": [
            "INFO:tensorflow:Assets written to: Peach_DIY_model2_Based_Non_Augmented\\assets\n"
          ]
        },
        {
          "name": "stdout",
          "output_type": "stream",
          "text": [
            "179/179 [==============================] - 11s 64ms/step - loss: 0.0756 - accuracy: 0.9778 - val_loss: 0.0695 - val_accuracy: 0.9764 - lr: 0.0010\n",
            "Epoch 3/100\n",
            "178/179 [============================>.] - ETA: 0s - loss: 0.0599 - accuracy: 0.9800\n",
            "Epoch 3: val_accuracy did not improve from 0.97643\n",
            "179/179 [==============================] - 8s 44ms/step - loss: 0.0612 - accuracy: 0.9795 - val_loss: 0.1218 - val_accuracy: 0.9607 - lr: 0.0010\n",
            "Epoch 4/100\n",
            "179/179 [==============================] - ETA: 0s - loss: 0.0334 - accuracy: 0.9865\n",
            "Epoch 4: val_accuracy did not improve from 0.97643\n",
            "179/179 [==============================] - 8s 43ms/step - loss: 0.0334 - accuracy: 0.9865 - val_loss: 0.1660 - val_accuracy: 0.9652 - lr: 0.0010\n",
            "Epoch 5/100\n",
            "179/179 [==============================] - ETA: 0s - loss: 0.0341 - accuracy: 0.9907\n",
            "Epoch 5: val_accuracy did not improve from 0.97643\n",
            "179/179 [==============================] - 8s 43ms/step - loss: 0.0341 - accuracy: 0.9907 - val_loss: 0.1011 - val_accuracy: 0.9753 - lr: 0.0010\n",
            "Epoch 6/100\n",
            "179/179 [==============================] - ETA: 0s - loss: 0.0330 - accuracy: 0.9907\n",
            "Epoch 6: val_accuracy did not improve from 0.97643\n",
            "179/179 [==============================] - 8s 44ms/step - loss: 0.0330 - accuracy: 0.9907 - val_loss: 0.1498 - val_accuracy: 0.9686 - lr: 0.0010\n",
            "Epoch 7/100\n",
            "179/179 [==============================] - ETA: 0s - loss: 0.0300 - accuracy: 0.9907\n",
            "Epoch 7: val_accuracy did not improve from 0.97643\n",
            "\n",
            "Epoch 7: ReduceLROnPlateau reducing learning rate to 0.00010000000474974513.\n",
            "179/179 [==============================] - 8s 43ms/step - loss: 0.0300 - accuracy: 0.9907 - val_loss: 0.4221 - val_accuracy: 0.9125 - lr: 0.0010\n",
            "Epoch 8/100\n",
            "179/179 [==============================] - ETA: 0s - loss: 0.0218 - accuracy: 0.9944\n",
            "Epoch 8: val_accuracy improved from 0.97643 to 0.97868, saving model to Peach_DIY_model2_Based_Non_Augmented\n"
          ]
        },
        {
          "name": "stderr",
          "output_type": "stream",
          "text": [
            "WARNING:absl:Found untraced functions such as _jit_compiled_convolution_op, _jit_compiled_convolution_op, _jit_compiled_convolution_op while saving (showing 3 of 3). These functions will not be directly callable after loading.\n"
          ]
        },
        {
          "name": "stdout",
          "output_type": "stream",
          "text": [
            "INFO:tensorflow:Assets written to: Peach_DIY_model2_Based_Non_Augmented\\assets\n"
          ]
        },
        {
          "name": "stderr",
          "output_type": "stream",
          "text": [
            "INFO:tensorflow:Assets written to: Peach_DIY_model2_Based_Non_Augmented\\assets\n"
          ]
        },
        {
          "name": "stdout",
          "output_type": "stream",
          "text": [
            "179/179 [==============================] - 11s 64ms/step - loss: 0.0218 - accuracy: 0.9944 - val_loss: 0.1245 - val_accuracy: 0.9787 - lr: 1.0000e-04\n",
            "Epoch 9/100\n",
            "179/179 [==============================] - ETA: 0s - loss: 0.0034 - accuracy: 0.9994\n",
            "Epoch 9: val_accuracy improved from 0.97868 to 0.98316, saving model to Peach_DIY_model2_Based_Non_Augmented\n"
          ]
        },
        {
          "name": "stderr",
          "output_type": "stream",
          "text": [
            "WARNING:absl:Found untraced functions such as _jit_compiled_convolution_op, _jit_compiled_convolution_op, _jit_compiled_convolution_op while saving (showing 3 of 3). These functions will not be directly callable after loading.\n"
          ]
        },
        {
          "name": "stdout",
          "output_type": "stream",
          "text": [
            "INFO:tensorflow:Assets written to: Peach_DIY_model2_Based_Non_Augmented\\assets\n"
          ]
        },
        {
          "name": "stderr",
          "output_type": "stream",
          "text": [
            "INFO:tensorflow:Assets written to: Peach_DIY_model2_Based_Non_Augmented\\assets\n"
          ]
        },
        {
          "name": "stdout",
          "output_type": "stream",
          "text": [
            "179/179 [==============================] - 11s 63ms/step - loss: 0.0034 - accuracy: 0.9994 - val_loss: 0.1386 - val_accuracy: 0.9832 - lr: 1.0000e-04\n",
            "Epoch 10/100\n",
            "179/179 [==============================] - ETA: 0s - loss: 0.0019 - accuracy: 1.0000\n",
            "Epoch 10: val_accuracy did not improve from 0.98316\n",
            "179/179 [==============================] - 8s 43ms/step - loss: 0.0019 - accuracy: 1.0000 - val_loss: 0.1585 - val_accuracy: 0.9820 - lr: 1.0000e-04\n",
            "Epoch 11/100\n",
            "179/179 [==============================] - ETA: 0s - loss: 0.0011 - accuracy: 1.0000\n",
            "Epoch 11: val_accuracy did not improve from 0.98316\n",
            "179/179 [==============================] - 7s 42ms/step - loss: 0.0011 - accuracy: 1.0000 - val_loss: 0.1712 - val_accuracy: 0.9820 - lr: 1.0000e-04\n",
            "Epoch 12/100\n",
            "179/179 [==============================] - ETA: 0s - loss: 5.8187e-04 - accuracy: 1.0000\n",
            "Epoch 12: val_accuracy did not improve from 0.98316\n",
            "\n",
            "Epoch 12: ReduceLROnPlateau reducing learning rate to 1.0000000474974514e-05.\n",
            "179/179 [==============================] - 8s 44ms/step - loss: 5.8187e-04 - accuracy: 1.0000 - val_loss: 0.1854 - val_accuracy: 0.9820 - lr: 1.0000e-04\n",
            "Epoch 13/100\n",
            "179/179 [==============================] - ETA: 0s - loss: 3.7678e-04 - accuracy: 1.0000\n",
            "Epoch 13: val_accuracy did not improve from 0.98316\n",
            "179/179 [==============================] - 8s 44ms/step - loss: 3.7678e-04 - accuracy: 1.0000 - val_loss: 0.1872 - val_accuracy: 0.9820 - lr: 1.0000e-05\n",
            "Epoch 14/100\n",
            "179/179 [==============================] - ETA: 0s - loss: 3.3993e-04 - accuracy: 1.0000\n",
            "Epoch 14: val_accuracy did not improve from 0.98316\n",
            "179/179 [==============================] - 8s 42ms/step - loss: 3.3993e-04 - accuracy: 1.0000 - val_loss: 0.1888 - val_accuracy: 0.9820 - lr: 1.0000e-05\n",
            "Epoch 15/100\n",
            "179/179 [==============================] - ETA: 0s - loss: 3.2649e-04 - accuracy: 1.0000\n",
            "Epoch 15: val_accuracy did not improve from 0.98316\n",
            "179/179 [==============================] - 7s 42ms/step - loss: 3.2649e-04 - accuracy: 1.0000 - val_loss: 0.1909 - val_accuracy: 0.9820 - lr: 1.0000e-05\n",
            "Epoch 16/100\n",
            "179/179 [==============================] - ETA: 0s - loss: 3.8362e-04 - accuracy: 1.0000\n",
            "Epoch 16: val_accuracy did not improve from 0.98316\n",
            "179/179 [==============================] - 7s 41ms/step - loss: 3.8362e-04 - accuracy: 1.0000 - val_loss: 0.1928 - val_accuracy: 0.9820 - lr: 1.0000e-05\n",
            "Epoch 17/100\n",
            "179/179 [==============================] - ETA: 0s - loss: 3.1520e-04 - accuracy: 1.0000\n",
            "Epoch 17: val_accuracy did not improve from 0.98316\n",
            "\n",
            "Epoch 17: ReduceLROnPlateau reducing learning rate to 1.0000000656873453e-06.\n",
            "179/179 [==============================] - 7s 41ms/step - loss: 3.1520e-04 - accuracy: 1.0000 - val_loss: 0.1950 - val_accuracy: 0.9820 - lr: 1.0000e-05\n",
            "Epoch 18/100\n",
            "179/179 [==============================] - ETA: 0s - loss: 3.3828e-04 - accuracy: 1.0000\n",
            "Epoch 18: val_accuracy did not improve from 0.98316\n",
            "179/179 [==============================] - 8s 42ms/step - loss: 3.3828e-04 - accuracy: 1.0000 - val_loss: 0.1952 - val_accuracy: 0.9820 - lr: 1.0000e-06\n",
            "Epoch 19/100\n",
            "179/179 [==============================] - ETA: 0s - loss: 2.5524e-04 - accuracy: 1.0000\n",
            "Epoch 19: val_accuracy did not improve from 0.98316\n",
            "179/179 [==============================] - 7s 41ms/step - loss: 2.5524e-04 - accuracy: 1.0000 - val_loss: 0.1955 - val_accuracy: 0.9820 - lr: 1.0000e-06\n",
            "Epoch 20/100\n",
            "179/179 [==============================] - ETA: 0s - loss: 3.2424e-04 - accuracy: 1.0000\n",
            "Epoch 20: val_accuracy did not improve from 0.98316\n",
            "179/179 [==============================] - 7s 41ms/step - loss: 3.2424e-04 - accuracy: 1.0000 - val_loss: 0.1957 - val_accuracy: 0.9820 - lr: 1.0000e-06\n",
            "Epoch 21/100\n",
            "179/179 [==============================] - ETA: 0s - loss: 3.0615e-04 - accuracy: 1.0000\n",
            "Epoch 21: val_accuracy did not improve from 0.98316\n",
            "179/179 [==============================] - 7s 41ms/step - loss: 3.0615e-04 - accuracy: 1.0000 - val_loss: 0.1961 - val_accuracy: 0.9820 - lr: 1.0000e-06\n",
            "Epoch 22/100\n",
            "179/179 [==============================] - ETA: 0s - loss: 2.6283e-04 - accuracy: 1.0000\n",
            "Epoch 22: val_accuracy did not improve from 0.98316\n",
            "\n",
            "Epoch 22: ReduceLROnPlateau reducing learning rate to 1.0000001111620805e-07.\n",
            "179/179 [==============================] - 7s 41ms/step - loss: 2.6283e-04 - accuracy: 1.0000 - val_loss: 0.1964 - val_accuracy: 0.9820 - lr: 1.0000e-06\n",
            "Epoch 23/100\n",
            "179/179 [==============================] - ETA: 0s - loss: 2.5897e-04 - accuracy: 1.0000\n",
            "Epoch 23: val_accuracy did not improve from 0.98316\n",
            "179/179 [==============================] - 7s 41ms/step - loss: 2.5897e-04 - accuracy: 1.0000 - val_loss: 0.1964 - val_accuracy: 0.9820 - lr: 1.0000e-07\n",
            "Epoch 24/100\n",
            "179/179 [==============================] - ETA: 0s - loss: 2.5369e-04 - accuracy: 1.0000\n",
            "Epoch 24: val_accuracy did not improve from 0.98316\n",
            "179/179 [==============================] - 7s 41ms/step - loss: 2.5369e-04 - accuracy: 1.0000 - val_loss: 0.1964 - val_accuracy: 0.9820 - lr: 1.0000e-07\n",
            "Epoch 25/100\n",
            "179/179 [==============================] - ETA: 0s - loss: 3.3250e-04 - accuracy: 1.0000\n",
            "Epoch 25: val_accuracy did not improve from 0.98316\n",
            "179/179 [==============================] - 7s 41ms/step - loss: 3.3250e-04 - accuracy: 1.0000 - val_loss: 0.1965 - val_accuracy: 0.9820 - lr: 1.0000e-07\n",
            "Epoch 26/100\n",
            "179/179 [==============================] - ETA: 0s - loss: 3.3561e-04 - accuracy: 1.0000\n",
            "Epoch 26: val_accuracy did not improve from 0.98316\n",
            "179/179 [==============================] - 8s 42ms/step - loss: 3.3561e-04 - accuracy: 1.0000 - val_loss: 0.1965 - val_accuracy: 0.9820 - lr: 1.0000e-07\n",
            "Epoch 27/100\n",
            "179/179 [==============================] - ETA: 0s - loss: 2.2994e-04 - accuracy: 1.0000\n",
            "Epoch 27: val_accuracy did not improve from 0.98316\n",
            "\n",
            "Epoch 27: ReduceLROnPlateau reducing learning rate to 1.000000082740371e-08.\n",
            "179/179 [==============================] - 7s 41ms/step - loss: 2.2994e-04 - accuracy: 1.0000 - val_loss: 0.1965 - val_accuracy: 0.9820 - lr: 1.0000e-07\n",
            "Epoch 28/100\n",
            "179/179 [==============================] - ETA: 0s - loss: 2.8553e-04 - accuracy: 1.0000\n",
            "Epoch 28: val_accuracy did not improve from 0.98316\n",
            "179/179 [==============================] - 7s 41ms/step - loss: 2.8553e-04 - accuracy: 1.0000 - val_loss: 0.1965 - val_accuracy: 0.9820 - lr: 1.0000e-08\n",
            "Epoch 29/100\n",
            "179/179 [==============================] - ETA: 0s - loss: 3.0193e-04 - accuracy: 1.0000\n",
            "Epoch 29: val_accuracy did not improve from 0.98316\n",
            "Restoring model weights from the end of the best epoch: 9.\n",
            "179/179 [==============================] - 7s 41ms/step - loss: 3.0193e-04 - accuracy: 1.0000 - val_loss: 0.1965 - val_accuracy: 0.9820 - lr: 1.0000e-08\n",
            "Epoch 29: early stopping\n"
          ]
        }
      ],
      "source": [
        "# Define the number of epochs\n",
        "num_epochs = 100\n",
        "\n",
        "# Train the model\n",
        "history_DIY_model_2 = DIY_model_2.fit(train_generator, epochs=num_epochs, validation_data=validation_generator, callbacks=callbacks)"
      ]
    },
    {
      "cell_type": "code",
      "execution_count": 16,
      "metadata": {
        "colab": {
          "base_uri": "https://localhost:8080/",
          "height": 904
        },
        "id": "3f1nmwUhU2TK",
        "outputId": "b900db31-068a-4c88-a878-3f17623c9b8a",
        "tags": []
      },
      "outputs": [
        {
          "data": {
            "text/plain": [
              "<matplotlib.legend.Legend at 0x1b47d328040>"
            ]
          },
          "execution_count": 16,
          "metadata": {},
          "output_type": "execute_result"
        },
        {
          "data": {
            "image/png": "[encoded data removed]",
            "text/plain": [
              "<Figure size 640x480 with 1 Axes>"
            ]
          },
          "metadata": {},
          "output_type": "display_data"
        },
        {
          "data": {
            "image/png": "[encoded data removed]",
            "text/plain": [
              "<Figure size 640x480 with 1 Axes>"
            ]
          },
          "metadata": {},
          "output_type": "display_data"
        }
      ],
      "source": [
        "#-----------------------------------------------------------\n",
        "# Retrieve a list of list results on training and test data\n",
        "# sets for each training epoch\n",
        "#-----------------------------------------------------------\n",
        "acc      = history_DIY_model_2.history['accuracy' ]\n",
        "val_acc  = history_DIY_model_2.history['val_accuracy' ]\n",
        "loss     = history_DIY_model_2.history['loss' ]\n",
        "val_loss = history_DIY_model_2.history['val_loss' ]\n",
        "\n",
        "epochs   = range(len(acc)) # Get number of epochs\n",
        "\n",
        "#------------------------------------------------\n",
        "# Plot training and validation accuracy per epoch\n",
        "#------------------------------------------------\n",
        "plt.plot  (epochs, acc )\n",
        "plt.plot  (epochs, val_acc )\n",
        "plt.title ('Training and validation accuracy DIY Model 2')\n",
        "plt.legend(['train', 'val'], loc='upper left')\n",
        "plt.figure()\n",
        "\n",
        "#------------------------------------------------\n",
        "# Plot training and validation loss per epoch\n",
        "#------------------------------------------------\n",
        "plt.plot  (epochs, loss)\n",
        "plt.plot  (epochs, val_loss)\n",
        "plt.title ('Training and validation loss DIY Model 3')\n",
        "plt.legend(['train', 'val'], loc='upper left')"
      ]
    }
  ],
  "metadata": {
    "accelerator": "GPU",
    "colab": {
      "gpuType": "T4",
      "provenance": []
    },
    "gpuClass": "standard",
    "kernelspec": {
      "display_name": "Python 3 (ipykernel)",
      "language": "python",
      "name": "python3"
    },
    "language_info": {
      "codemirror_mode": {
        "name": "ipython",
        "version": 3
      },
      "file_extension": ".py",
      "mimetype": "text/x-python",
      "name": "python",
      "nbconvert_exporter": "python",
      "pygments_lexer": "ipython3",
      "version": "3.10.0"
    }
  },
  "nbformat": 4,
  "nbformat_minor": 0
}
