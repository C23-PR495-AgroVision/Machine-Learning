{
 "cells": [
  {
   "attachments": {},
   "cell_type": "markdown",
   "metadata": {},
   "source": [
    "# Library"
   ]
  },
  {
   "cell_type": "code",
   "execution_count": 1,
   "metadata": {
    "tags": []
   },
   "outputs": [
    {
     "name": "stdout",
     "output_type": "stream",
     "text": [
      "Requirement already satisfied: matplotlib in c:\\users\\hasan\\anaconda3\\envs\\tensorflow_gpu_zein\\lib\\site-packages (3.6.3)\n",
      "Requirement already satisfied: pillow>=6.2.0 in c:\\users\\hasan\\anaconda3\\envs\\tensorflow_gpu_zein\\lib\\site-packages (from matplotlib) (9.4.0)\n",
      "Requirement already satisfied: packaging>=20.0 in c:\\users\\hasan\\anaconda3\\envs\\tensorflow_gpu_zein\\lib\\site-packages (from matplotlib) (23.1)\n",
      "Requirement already satisfied: contourpy>=1.0.1 in c:\\users\\hasan\\anaconda3\\envs\\tensorflow_gpu_zein\\lib\\site-packages (from matplotlib) (1.0.7)\n",
      "Requirement already satisfied: python-dateutil>=2.7 in c:\\users\\hasan\\anaconda3\\envs\\tensorflow_gpu_zein\\lib\\site-packages (from matplotlib) (2.8.2)\n",
      "Requirement already satisfied: numpy>=1.19 in c:\\users\\hasan\\anaconda3\\envs\\tensorflow_gpu_zein\\lib\\site-packages (from matplotlib) (1.23.5)\n",
      "Requirement already satisfied: kiwisolver>=1.0.1 in c:\\users\\hasan\\anaconda3\\envs\\tensorflow_gpu_zein\\lib\\site-packages (from matplotlib) (1.4.4)\n",
      "Requirement already satisfied: fonttools>=4.22.0 in c:\\users\\hasan\\anaconda3\\envs\\tensorflow_gpu_zein\\lib\\site-packages (from matplotlib) (4.39.2)\n",
      "Requirement already satisfied: cycler>=0.10 in c:\\users\\hasan\\anaconda3\\envs\\tensorflow_gpu_zein\\lib\\site-packages (from matplotlib) (0.11.0)\n",
      "Requirement already satisfied: pyparsing>=2.2.1 in c:\\users\\hasan\\anaconda3\\envs\\tensorflow_gpu_zein\\lib\\site-packages (from matplotlib) (3.0.9)\n",
      "Requirement already satisfied: six>=1.5 in c:\\users\\hasan\\anaconda3\\envs\\tensorflow_gpu_zein\\lib\\site-packages (from python-dateutil>=2.7->matplotlib) (1.16.0)\n",
      "Note: you may need to restart the kernel to use updated packages.\n"
     ]
    },
    {
     "name": "stderr",
     "output_type": "stream",
     "text": [
      "WARNING: Ignoring invalid distribution -rotobuf (c:\\users\\hasan\\anaconda3\\envs\\tensorflow_gpu_zein\\lib\\site-packages)\n",
      "WARNING: Ignoring invalid distribution -rotobuf (c:\\users\\hasan\\anaconda3\\envs\\tensorflow_gpu_zein\\lib\\site-packages)\n",
      "WARNING: Ignoring invalid distribution -rotobuf (c:\\users\\hasan\\anaconda3\\envs\\tensorflow_gpu_zein\\lib\\site-packages)\n",
      "WARNING: Ignoring invalid distribution -rotobuf (c:\\users\\hasan\\anaconda3\\envs\\tensorflow_gpu_zein\\lib\\site-packages)\n",
      "WARNING: Ignoring invalid distribution -rotobuf (c:\\users\\hasan\\anaconda3\\envs\\tensorflow_gpu_zein\\lib\\site-packages)\n",
      "WARNING: Ignoring invalid distribution -rotobuf (c:\\users\\hasan\\anaconda3\\envs\\tensorflow_gpu_zein\\lib\\site-packages)\n"
     ]
    }
   ],
   "source": [
    "pip install matplotlib"
   ]
  },
  {
   "cell_type": "code",
   "execution_count": 2,
   "metadata": {
    "tags": []
   },
   "outputs": [
    {
     "name": "stdout",
     "output_type": "stream",
     "text": [
      "Requirement already satisfied: opendatasets in c:\\users\\hasan\\anaconda3\\envs\\tensorflow_gpu_zein\\lib\\site-packages (0.1.22)\n",
      "Requirement already satisfied: tqdm in c:\\users\\hasan\\anaconda3\\envs\\tensorflow_gpu_zein\\lib\\site-packages (from opendatasets) (4.64.1)\n",
      "Requirement already satisfied: click in c:\\users\\hasan\\anaconda3\\envs\\tensorflow_gpu_zein\\lib\\site-packages (from opendatasets) (8.1.3)\n",
      "Requirement already satisfied: kaggle in c:\\users\\hasan\\anaconda3\\envs\\tensorflow_gpu_zein\\lib\\site-packages (from opendatasets) (1.5.13)\n",
      "Requirement already satisfied: colorama in c:\\users\\hasan\\anaconda3\\envs\\tensorflow_gpu_zein\\lib\\site-packages (from click->opendatasets) (0.4.6)\n",
      "Requirement already satisfied: python-slugify in c:\\users\\hasan\\anaconda3\\envs\\tensorflow_gpu_zein\\lib\\site-packages (from kaggle->opendatasets) (8.0.1)\n",
      "Requirement already satisfied: six>=1.10 in c:\\users\\hasan\\anaconda3\\envs\\tensorflow_gpu_zein\\lib\\site-packages (from kaggle->opendatasets) (1.16.0)\n",
      "Requirement already satisfied: urllib3 in c:\\users\\hasan\\anaconda3\\envs\\tensorflow_gpu_zein\\lib\\site-packages (from kaggle->opendatasets) (1.26.15)\n",
      "Requirement already satisfied: certifi in c:\\users\\hasan\\anaconda3\\envs\\tensorflow_gpu_zein\\lib\\site-packages (from kaggle->opendatasets) (2022.12.7)\n",
      "Requirement already satisfied: python-dateutil in c:\\users\\hasan\\anaconda3\\envs\\tensorflow_gpu_zein\\lib\\site-packages (from kaggle->opendatasets) (2.8.2)\n",
      "Requirement already satisfied: requests in c:\\users\\hasan\\anaconda3\\envs\\tensorflow_gpu_zein\\lib\\site-packages (from kaggle->opendatasets) (2.28.2)\n",
      "Requirement already satisfied: text-unidecode>=1.3 in c:\\users\\hasan\\anaconda3\\envs\\tensorflow_gpu_zein\\lib\\site-packages (from python-slugify->kaggle->opendatasets) (1.3)\n",
      "Requirement already satisfied: charset-normalizer<4,>=2 in c:\\users\\hasan\\anaconda3\\envs\\tensorflow_gpu_zein\\lib\\site-packages (from requests->kaggle->opendatasets) (3.1.0)\n",
      "Requirement already satisfied: idna<4,>=2.5 in c:\\users\\hasan\\anaconda3\\envs\\tensorflow_gpu_zein\\lib\\site-packages (from requests->kaggle->opendatasets) (3.4)\n",
      "Note: you may need to restart the kernel to use updated packages.\n"
     ]
    },
    {
     "name": "stderr",
     "output_type": "stream",
     "text": [
      "WARNING: Ignoring invalid distribution -rotobuf (c:\\users\\hasan\\anaconda3\\envs\\tensorflow_gpu_zein\\lib\\site-packages)\n",
      "WARNING: Ignoring invalid distribution -rotobuf (c:\\users\\hasan\\anaconda3\\envs\\tensorflow_gpu_zein\\lib\\site-packages)\n",
      "WARNING: Ignoring invalid distribution -rotobuf (c:\\users\\hasan\\anaconda3\\envs\\tensorflow_gpu_zein\\lib\\site-packages)\n",
      "WARNING: Ignoring invalid distribution -rotobuf (c:\\users\\hasan\\anaconda3\\envs\\tensorflow_gpu_zein\\lib\\site-packages)\n",
      "WARNING: Ignoring invalid distribution -rotobuf (c:\\users\\hasan\\anaconda3\\envs\\tensorflow_gpu_zein\\lib\\site-packages)\n",
      "WARNING: Ignoring invalid distribution -rotobuf (c:\\users\\hasan\\anaconda3\\envs\\tensorflow_gpu_zein\\lib\\site-packages)\n"
     ]
    }
   ],
   "source": [
    "pip install opendatasets"
   ]
  },
  {
   "cell_type": "code",
   "execution_count": 1,
   "metadata": {
    "tags": []
   },
   "outputs": [],
   "source": [
    "# Library to dataset\n",
    "import opendatasets as od\n",
    "import os\n",
    "import zipfile\n",
    "import numpy as np\n",
    "\n",
    "# Surpress Warnings\n",
    "import warnings\n",
    "warnings.filterwarnings('ignore')\n",
    "os.environ['TF_CPP_MIN_LOG_LEVEL'] = '3' \n",
    "# library visualization\n",
    "import matplotlib.pyplot as plt\n",
    "\n",
    "# Library Tensorflow\n",
    "import tensorflow as tf\n",
    "from tensorflow import keras\n",
    "from tensorflow.keras.preprocessing.image import ImageDataGenerator\n",
    "from tensorflow.keras.callbacks import ModelCheckpoint, EarlyStopping, ReduceLROnPlateau\n",
    "from tensorflow.keras.applications.densenet import DenseNet121\n",
    "# Others\n",
    "import shutil\n",
    "import random"
   ]
  },
  {
   "attachments": {},
   "cell_type": "markdown",
   "metadata": {},
   "source": [
    "# Load dataset"
   ]
  },
  {
   "cell_type": "code",
   "execution_count": 2,
   "metadata": {
    "tags": []
   },
   "outputs": [
    {
     "name": "stdout",
     "output_type": "stream",
     "text": [
      "==========================Training Data====================\n",
      "Found 4033 files belonging to 2 classes.\n",
      "==========================Validation Data====================\n",
      "Found 962 files belonging to 2 classes.\n"
     ]
    }
   ],
   "source": [
    "# Load dataset\n",
    "print(\"==========================Training Data====================\")\n",
    "train_data = tf.keras.preprocessing.image_dataset_from_directory(\n",
    "    \"Dataset/Bell_pepper/train\",\n",
    "    label_mode=\"categorical\",\n",
    "    class_names= ['Pepper bell Bacterial spot', 'Pepper bell healthy'],\n",
    "    color_mode=\"rgb\",\n",
    "    batch_size=1,\n",
    "    image_size=(256, 256),\n",
    "    shuffle=True,\n",
    "    seed=123\n",
    ")\n",
    "print(\"==========================Validation Data====================\")\n",
    "val_data = tf.keras.preprocessing.image_dataset_from_directory(\n",
    "    \"Dataset/Bell_pepper/test\",\n",
    "    label_mode=\"categorical\",\n",
    "    class_names= ['Pepper bell Bacterial spot', 'Pepper bell healthy'],\n",
    "    color_mode=\"rgb\",\n",
    "    batch_size=1,\n",
    "    image_size=(256, 256),\n",
    "    shuffle=False,\n",
    "    seed=123\n",
    ")"
   ]
  },
  {
   "cell_type": "code",
   "execution_count": 3,
   "metadata": {
    "tags": []
   },
   "outputs": [
    {
     "name": "stdout",
     "output_type": "stream",
     "text": [
      "Found 4033 images belonging to 2 classes.\n",
      "Found 962 images belonging to 2 classes.\n"
     ]
    }
   ],
   "source": [
    "# All images will be rescaled by 1./256. and Augmented\n",
    "train_datagen = ImageDataGenerator(rescale = 1.0/256.,\n",
    "                                   rotation_range=40,\n",
    "                                   width_shift_range=0.2,\n",
    "                                   height_shift_range=0.2,\n",
    "                                   shear_range=0.2,\n",
    "                                   zoom_range=0.2,\n",
    "                                   horizontal_flip=True,\n",
    "                                   fill_mode='nearest')\n",
    "\n",
    "test_datagen  = ImageDataGenerator(rescale = 1.0/256.)\n",
    "\n",
    "# --------------------\n",
    "# Flow training images in batches of 20 using train_datagen generator\n",
    "# --------------------\n",
    "train_generator = train_datagen.flow_from_directory(\"Dataset/Bell_pepper/train\",\n",
    "                                                    batch_size=20,\n",
    "                                                    class_mode='categorical',\n",
    "                                                    target_size=(224, 224))     \n",
    "# --------------------\n",
    "# Flow validation images in batches of 20 using test_datagen generator\n",
    "# --------------------\n",
    "validation_generator =  test_datagen.flow_from_directory(\"Dataset/Bell_pepper/test\",\n",
    "                                                         batch_size=20,\n",
    "                                                         class_mode  = 'categorical',\n",
    "                                                         target_size = (224, 224))"
   ]
  },
  {
   "attachments": {},
   "cell_type": "markdown",
   "metadata": {},
   "source": [
    "# List Resource"
   ]
  },
  {
   "cell_type": "code",
   "execution_count": 6,
   "metadata": {
    "tags": []
   },
   "outputs": [
    {
     "name": "stdout",
     "output_type": "stream",
     "text": [
      "Sat May 27 15:28:47 2023       \n",
      "+---------------------------------------------------------------------------------------+\n",
      "| NVIDIA-SMI 532.03                 Driver Version: 532.03       CUDA Version: 12.1     |\n",
      "|-----------------------------------------+----------------------+----------------------+\n",
      "| GPU  Name                      TCC/WDDM | Bus-Id        Disp.A | Volatile Uncorr. ECC |\n",
      "| Fan  Temp  Perf            Pwr:Usage/Cap|         Memory-Usage | GPU-Util  Compute M. |\n",
      "|                                         |                      |               MIG M. |\n",
      "|=========================================+======================+======================|\n",
      "|   0  NVIDIA GeForce RTX 3060 L...  WDDM | 00000000:01:00.0  On |                  N/A |\n",
      "| N/A   54C    P0               30W /  N/A|   5872MiB /  6144MiB |      8%      Default |\n",
      "|                                         |                      |                  N/A |\n",
      "+-----------------------------------------+----------------------+----------------------+\n",
      "                                                                                         \n",
      "+---------------------------------------------------------------------------------------+\n",
      "| Processes:                                                                            |\n",
      "|  GPU   GI   CI        PID   Type   Process name                            GPU Memory |\n",
      "|        ID   ID                                                             Usage      |\n",
      "|=======================================================================================|\n",
      "|    0   N/A  N/A      2012    C+G   ...2.0_x64__cv1g1gvanyjgm\\WhatsApp.exe    N/A      |\n",
      "|    0   N/A  N/A      2668    C+G   ...siveControlPanel\\SystemSettings.exe    N/A      |\n",
      "|    0   N/A  N/A      7012    C+G   ...64__v826wp6bftszj\\TranslucentTB.exe    N/A      |\n",
      "|    0   N/A  N/A      9000    C+G   ...les\\AMD\\CNext\\CNext\\AMDRSSrcExt.exe    N/A      |\n",
      "|    0   N/A  N/A     10052    C+G   C:\\WINDOWS\\explorer.exe                   N/A      |\n",
      "|    0   N/A  N/A     12016    C+G   ...nt.CBS_cw5n1h2txyewy\\SearchHost.exe    N/A      |\n",
      "|    0   N/A  N/A     12076    C+G   ...2txyewy\\StartMenuExperienceHost.exe    N/A      |\n",
      "|    0   N/A  N/A     13880    C+G   ...les\\Microsoft OneDrive\\OneDrive.exe    N/A      |\n",
      "|    0   N/A  N/A     15052    C+G   ...ekyb3d8bbwe\\PhoneExperienceHost.exe    N/A      |\n",
      "|    0   N/A  N/A     16584    C+G   ...oogle\\Chrome\\Application\\chrome.exe    N/A      |\n",
      "|    0   N/A  N/A     17064    C+G   ...1.0_x64__t4vj0pshhgkwm\\Telegram.exe    N/A      |\n",
      "|    0   N/A  N/A     18404    C+G   ...GeForce Experience\\NVIDIA Share.exe    N/A      |\n",
      "|    0   N/A  N/A     19320      C   ...envs\\tensorflow_gpu_zein\\python.exe    N/A      |\n",
      "|    0   N/A  N/A     19676    C+G   ...02.0_x86__zpdnekdrzrea0\\Spotify.exe    N/A      |\n",
      "|    0   N/A  N/A     21076    C+G   ...Programs\\Microsoft VS Code\\Code.exe    N/A      |\n",
      "|    0   N/A  N/A     21716      C   ...envs\\tensorflow_gpu_zein\\python.exe    N/A      |\n",
      "|    0   N/A  N/A     23224    C+G   ...1.0_x64__8wekyb3d8bbwe\\Video.UI.exe    N/A      |\n",
      "|    0   N/A  N/A     23568    C+G   ...on\\113.0.1774.50\\msedgewebview2.exe    N/A      |\n",
      "|    0   N/A  N/A     24300    C+G   ...les\\Microsoft OneDrive\\OneDrive.exe    N/A      |\n",
      "|    0   N/A  N/A     24364    C+G   ...\\AMD\\CNext\\CNext\\RadeonSoftware.exe    N/A      |\n",
      "|    0   N/A  N/A     26028    C+G   ...5n1h2txyewy\\ShellExperienceHost.exe    N/A      |\n",
      "+---------------------------------------------------------------------------------------+\n"
     ]
    }
   ],
   "source": [
    "# Check GPU\n",
    "!nvidia-smi"
   ]
  },
  {
   "cell_type": "code",
   "execution_count": 7,
   "metadata": {
    "tags": []
   },
   "outputs": [
    {
     "data": {
      "text/plain": [
       "[PhysicalDevice(name='/physical_device:GPU:0', device_type='GPU')]"
      ]
     },
     "execution_count": 7,
     "metadata": {},
     "output_type": "execute_result"
    }
   ],
   "source": [
    "# Lis physical devices\n",
    "devices = tf.config.experimental.list_physical_devices(\"GPU\")\n",
    "devices"
   ]
  },
  {
   "cell_type": "code",
   "execution_count": 8,
   "metadata": {
    "tags": []
   },
   "outputs": [
    {
     "name": "stdout",
     "output_type": "stream",
     "text": [
      "INFO:tensorflow:Using MirroredStrategy with devices ('/job:localhost/replica:0/task:0/device:GPU:0',)\n"
     ]
    }
   ],
   "source": [
    "# Define the GPU strategy\n",
    "mirrored_strategy = tf.distribute.MirroredStrategy(devices=[\"/gpu:0\"])"
   ]
  },
  {
   "attachments": {},
   "cell_type": "markdown",
   "metadata": {},
   "source": [
    "# Modelling With Augmentation"
   ]
  },
  {
   "attachments": {},
   "cell_type": "markdown",
   "metadata": {},
   "source": [
    "## DIY Model 1"
   ]
  },
  {
   "cell_type": "code",
   "execution_count": 9,
   "metadata": {
    "tags": []
   },
   "outputs": [],
   "source": [
    "# Difine the callbacks\n",
    "# Save the best model\n",
    "checkpoint_callback = ModelCheckpoint(filepath=\"BellPaper_DIY_model1_Based_Augmented\", save_best_only=True, monitor=\"val_accuracy\", mode=\"max\", verbose=1)\n",
    "\n",
    "# Early stopping\n",
    "early_stopping_callback = EarlyStopping(monitor=\"val_accuracy\", mode=\"max\", patience=20, verbose=1, restore_best_weights=True)\n",
    "\n",
    "# Reduce learning rate\n",
    "reduce_lr_callback = ReduceLROnPlateau(monitor=\"val_loss\", factor=0.1, patience=5, verbose=1, mode=\"min\", min_delta=0.0001, cooldown=0, min_lr=0)\n",
    "\n",
    "# Callbacks list\n",
    "callbacks=[checkpoint_callback, early_stopping_callback, reduce_lr_callback]"
   ]
  },
  {
   "cell_type": "code",
   "execution_count": 10,
   "metadata": {
    "tags": []
   },
   "outputs": [
    {
     "name": "stdout",
     "output_type": "stream",
     "text": [
      "Model: \"sequential\"\n",
      "_________________________________________________________________\n",
      " Layer (type)                Output Shape              Param #   \n",
      "=================================================================\n",
      " conv2d (Conv2D)             (None, 222, 222, 32)      896       \n",
      "                                                                 \n",
      " max_pooling2d (MaxPooling2D  (None, 111, 111, 32)     0         \n",
      " )                                                               \n",
      "                                                                 \n",
      " conv2d_1 (Conv2D)           (None, 109, 109, 64)      18496     \n",
      "                                                                 \n",
      " max_pooling2d_1 (MaxPooling  (None, 54, 54, 64)       0         \n",
      " 2D)                                                             \n",
      "                                                                 \n",
      " conv2d_2 (Conv2D)           (None, 52, 52, 128)       73856     \n",
      "                                                                 \n",
      " max_pooling2d_2 (MaxPooling  (None, 26, 26, 128)      0         \n",
      " 2D)                                                             \n",
      "                                                                 \n",
      " flatten (Flatten)           (None, 86528)             0         \n",
      "                                                                 \n",
      " dense (Dense)               (None, 512)               44302848  \n",
      "                                                                 \n",
      " dropout (Dropout)           (None, 512)               0         \n",
      "                                                                 \n",
      " dense_1 (Dense)             (None, 256)               131328    \n",
      "                                                                 \n",
      " dense_2 (Dense)             (None, 2)                 514       \n",
      "                                                                 \n",
      "=================================================================\n",
      "Total params: 44,527,938\n",
      "Trainable params: 44,527,938\n",
      "Non-trainable params: 0\n",
      "_________________________________________________________________\n"
     ]
    }
   ],
   "source": [
    "# Define DIY Model\n",
    "DIY_model = tf.keras.models.Sequential([\n",
    "    # Convolutional Layers with 32 filters\n",
    "    tf.keras.layers.Conv2D(32, (3,3), activation='relu', input_shape=(224, 224, 3)),\n",
    "    # MaxPooling Layer\n",
    "    tf.keras.layers.MaxPooling2D(2,2),\n",
    "    # Convolutional Layers with 64 filters\n",
    "    tf.keras.layers.Conv2D(64, (3,3), activation='relu'),\n",
    "    # MaxPooling Layer\n",
    "    tf.keras.layers.MaxPooling2D(2,2),  \n",
    "    # Convolutional Layers with 128 filters\n",
    "    tf.keras.layers.Conv2D(128, (3,3), activation='relu'), \n",
    "    # MaxPooling Layer\n",
    "    tf.keras.layers.MaxPooling2D(2,2),  \n",
    "    # Flatten the results to feed into a DNN\n",
    "    tf.keras.layers.Flatten(),\n",
    "    # 512 neuron hidden layer\n",
    "    tf.keras.layers.Dense(512, activation='relu'),\n",
    "    # Drop Out Layer\n",
    "    tf.keras.layers.Dropout(0.2),\n",
    "    # 256 neuron hidden layer\n",
    "    tf.keras.layers.Dense(256, activation='relu'),\n",
    "    # Output\n",
    "    tf.keras.layers.Dense(2, activation='softmax') \n",
    "  ])\n",
    "\n",
    "\n",
    "# Compile Model\n",
    "DIY_model.compile(loss='categorical_crossentropy',optimizer=tf.keras.optimizers.Adam(), metrics=['accuracy']) \n",
    "\n",
    "# Model Summary\n",
    "DIY_model.summary()"
   ]
  },
  {
   "cell_type": "code",
   "execution_count": 11,
   "metadata": {
    "tags": []
   },
   "outputs": [
    {
     "name": "stdout",
     "output_type": "stream",
     "text": [
      "Epoch 1/100\n",
      "202/202 [==============================] - ETA: 0s - loss: 0.4727 - accuracy: 0.7984\n",
      "Epoch 1: val_accuracy improved from -inf to 0.94387, saving model to BellPaper_DIY_model1_Based_Augmented\n"
     ]
    },
    {
     "name": "stderr",
     "output_type": "stream",
     "text": [
      "WARNING:absl:Found untraced functions such as _jit_compiled_convolution_op, _jit_compiled_convolution_op, _jit_compiled_convolution_op while saving (showing 3 of 3). These functions will not be directly callable after loading.\n"
     ]
    },
    {
     "name": "stdout",
     "output_type": "stream",
     "text": [
      "INFO:tensorflow:Assets written to: BellPaper_DIY_model1_Based_Augmented\\assets\n"
     ]
    },
    {
     "name": "stderr",
     "output_type": "stream",
     "text": [
      "INFO:tensorflow:Assets written to: BellPaper_DIY_model1_Based_Augmented\\assets\n"
     ]
    },
    {
     "name": "stdout",
     "output_type": "stream",
     "text": [
      "202/202 [==============================] - 45s 196ms/step - loss: 0.4727 - accuracy: 0.7984 - val_loss: 0.1295 - val_accuracy: 0.9439 - lr: 0.0010\n",
      "Epoch 2/100\n",
      "202/202 [==============================] - ETA: 0s - loss: 0.2678 - accuracy: 0.9110\n",
      "Epoch 2: val_accuracy did not improve from 0.94387\n",
      "202/202 [==============================] - 35s 175ms/step - loss: 0.2678 - accuracy: 0.9110 - val_loss: 0.2403 - val_accuracy: 0.9106 - lr: 0.0010\n",
      "Epoch 3/100\n",
      "202/202 [==============================] - ETA: 0s - loss: 0.2128 - accuracy: 0.9286\n",
      "Epoch 3: val_accuracy improved from 0.94387 to 0.96154, saving model to BellPaper_DIY_model1_Based_Augmented\n"
     ]
    },
    {
     "name": "stderr",
     "output_type": "stream",
     "text": [
      "WARNING:absl:Found untraced functions such as _jit_compiled_convolution_op, _jit_compiled_convolution_op, _jit_compiled_convolution_op while saving (showing 3 of 3). These functions will not be directly callable after loading.\n"
     ]
    },
    {
     "name": "stdout",
     "output_type": "stream",
     "text": [
      "INFO:tensorflow:Assets written to: BellPaper_DIY_model1_Based_Augmented\\assets\n"
     ]
    },
    {
     "name": "stderr",
     "output_type": "stream",
     "text": [
      "INFO:tensorflow:Assets written to: BellPaper_DIY_model1_Based_Augmented\\assets\n"
     ]
    },
    {
     "name": "stdout",
     "output_type": "stream",
     "text": [
      "202/202 [==============================] - 35s 174ms/step - loss: 0.2128 - accuracy: 0.9286 - val_loss: 0.1236 - val_accuracy: 0.9615 - lr: 0.0010\n",
      "Epoch 4/100\n",
      "202/202 [==============================] - ETA: 0s - loss: 0.1590 - accuracy: 0.9531\n",
      "Epoch 4: val_accuracy improved from 0.96154 to 0.97193, saving model to BellPaper_DIY_model1_Based_Augmented\n"
     ]
    },
    {
     "name": "stderr",
     "output_type": "stream",
     "text": [
      "WARNING:absl:Found untraced functions such as _jit_compiled_convolution_op, _jit_compiled_convolution_op, _jit_compiled_convolution_op while saving (showing 3 of 3). These functions will not be directly callable after loading.\n"
     ]
    },
    {
     "name": "stdout",
     "output_type": "stream",
     "text": [
      "INFO:tensorflow:Assets written to: BellPaper_DIY_model1_Based_Augmented\\assets\n"
     ]
    },
    {
     "name": "stderr",
     "output_type": "stream",
     "text": [
      "INFO:tensorflow:Assets written to: BellPaper_DIY_model1_Based_Augmented\\assets\n"
     ]
    },
    {
     "name": "stdout",
     "output_type": "stream",
     "text": [
      "202/202 [==============================] - 34s 169ms/step - loss: 0.1590 - accuracy: 0.9531 - val_loss: 0.0809 - val_accuracy: 0.9719 - lr: 0.0010\n",
      "Epoch 5/100\n",
      "202/202 [==============================] - ETA: 0s - loss: 0.0940 - accuracy: 0.9695\n",
      "Epoch 5: val_accuracy improved from 0.97193 to 0.98441, saving model to BellPaper_DIY_model1_Based_Augmented\n"
     ]
    },
    {
     "name": "stderr",
     "output_type": "stream",
     "text": [
      "WARNING:absl:Found untraced functions such as _jit_compiled_convolution_op, _jit_compiled_convolution_op, _jit_compiled_convolution_op while saving (showing 3 of 3). These functions will not be directly callable after loading.\n"
     ]
    },
    {
     "name": "stdout",
     "output_type": "stream",
     "text": [
      "INFO:tensorflow:Assets written to: BellPaper_DIY_model1_Based_Augmented\\assets\n"
     ]
    },
    {
     "name": "stderr",
     "output_type": "stream",
     "text": [
      "INFO:tensorflow:Assets written to: BellPaper_DIY_model1_Based_Augmented\\assets\n"
     ]
    },
    {
     "name": "stdout",
     "output_type": "stream",
     "text": [
      "202/202 [==============================] - 32s 156ms/step - loss: 0.0940 - accuracy: 0.9695 - val_loss: 0.0411 - val_accuracy: 0.9844 - lr: 0.0010\n",
      "Epoch 6/100\n",
      "202/202 [==============================] - ETA: 0s - loss: 0.1110 - accuracy: 0.9663\n",
      "Epoch 6: val_accuracy improved from 0.98441 to 0.98649, saving model to BellPaper_DIY_model1_Based_Augmented\n"
     ]
    },
    {
     "name": "stderr",
     "output_type": "stream",
     "text": [
      "WARNING:absl:Found untraced functions such as _jit_compiled_convolution_op, _jit_compiled_convolution_op, _jit_compiled_convolution_op while saving (showing 3 of 3). These functions will not be directly callable after loading.\n"
     ]
    },
    {
     "name": "stdout",
     "output_type": "stream",
     "text": [
      "INFO:tensorflow:Assets written to: BellPaper_DIY_model1_Based_Augmented\\assets\n"
     ]
    },
    {
     "name": "stderr",
     "output_type": "stream",
     "text": [
      "INFO:tensorflow:Assets written to: BellPaper_DIY_model1_Based_Augmented\\assets\n"
     ]
    },
    {
     "name": "stdout",
     "output_type": "stream",
     "text": [
      "202/202 [==============================] - 34s 167ms/step - loss: 0.1110 - accuracy: 0.9663 - val_loss: 0.0563 - val_accuracy: 0.9865 - lr: 0.0010\n",
      "Epoch 7/100\n",
      "202/202 [==============================] - ETA: 0s - loss: 0.0888 - accuracy: 0.9702\n",
      "Epoch 7: val_accuracy did not improve from 0.98649\n",
      "202/202 [==============================] - 31s 154ms/step - loss: 0.0888 - accuracy: 0.9702 - val_loss: 0.2183 - val_accuracy: 0.9200 - lr: 0.0010\n",
      "Epoch 8/100\n",
      "202/202 [==============================] - ETA: 0s - loss: 0.0634 - accuracy: 0.9750\n",
      "Epoch 8: val_accuracy improved from 0.98649 to 0.99480, saving model to BellPaper_DIY_model1_Based_Augmented\n"
     ]
    },
    {
     "name": "stderr",
     "output_type": "stream",
     "text": [
      "WARNING:absl:Found untraced functions such as _jit_compiled_convolution_op, _jit_compiled_convolution_op, _jit_compiled_convolution_op while saving (showing 3 of 3). These functions will not be directly callable after loading.\n"
     ]
    },
    {
     "name": "stdout",
     "output_type": "stream",
     "text": [
      "INFO:tensorflow:Assets written to: BellPaper_DIY_model1_Based_Augmented\\assets\n"
     ]
    },
    {
     "name": "stderr",
     "output_type": "stream",
     "text": [
      "INFO:tensorflow:Assets written to: BellPaper_DIY_model1_Based_Augmented\\assets\n"
     ]
    },
    {
     "name": "stdout",
     "output_type": "stream",
     "text": [
      "202/202 [==============================] - 33s 164ms/step - loss: 0.0634 - accuracy: 0.9750 - val_loss: 0.0205 - val_accuracy: 0.9948 - lr: 0.0010\n",
      "Epoch 9/100\n",
      "202/202 [==============================] - ETA: 0s - loss: 0.0712 - accuracy: 0.9752\n",
      "Epoch 9: val_accuracy improved from 0.99480 to 0.99792, saving model to BellPaper_DIY_model1_Based_Augmented\n"
     ]
    },
    {
     "name": "stderr",
     "output_type": "stream",
     "text": [
      "WARNING:absl:Found untraced functions such as _jit_compiled_convolution_op, _jit_compiled_convolution_op, _jit_compiled_convolution_op while saving (showing 3 of 3). These functions will not be directly callable after loading.\n"
     ]
    },
    {
     "name": "stdout",
     "output_type": "stream",
     "text": [
      "INFO:tensorflow:Assets written to: BellPaper_DIY_model1_Based_Augmented\\assets\n"
     ]
    },
    {
     "name": "stderr",
     "output_type": "stream",
     "text": [
      "INFO:tensorflow:Assets written to: BellPaper_DIY_model1_Based_Augmented\\assets\n"
     ]
    },
    {
     "name": "stdout",
     "output_type": "stream",
     "text": [
      "202/202 [==============================] - 35s 173ms/step - loss: 0.0712 - accuracy: 0.9752 - val_loss: 0.0165 - val_accuracy: 0.9979 - lr: 0.0010\n",
      "Epoch 10/100\n",
      "202/202 [==============================] - ETA: 0s - loss: 0.0771 - accuracy: 0.9752\n",
      "Epoch 10: val_accuracy did not improve from 0.99792\n",
      "202/202 [==============================] - 32s 159ms/step - loss: 0.0771 - accuracy: 0.9752 - val_loss: 0.0917 - val_accuracy: 0.9813 - lr: 0.0010\n",
      "Epoch 11/100\n",
      "202/202 [==============================] - ETA: 0s - loss: 0.0714 - accuracy: 0.9789\n",
      "Epoch 11: val_accuracy did not improve from 0.99792\n",
      "202/202 [==============================] - 33s 161ms/step - loss: 0.0714 - accuracy: 0.9789 - val_loss: 0.0145 - val_accuracy: 0.9958 - lr: 0.0010\n",
      "Epoch 12/100\n",
      "202/202 [==============================] - ETA: 0s - loss: 0.0804 - accuracy: 0.9755\n",
      "Epoch 12: val_accuracy did not improve from 0.99792\n",
      "202/202 [==============================] - 33s 161ms/step - loss: 0.0804 - accuracy: 0.9755 - val_loss: 0.0336 - val_accuracy: 0.9896 - lr: 0.0010\n",
      "Epoch 13/100\n",
      "202/202 [==============================] - ETA: 0s - loss: 0.0764 - accuracy: 0.9772\n",
      "Epoch 13: val_accuracy did not improve from 0.99792\n",
      "202/202 [==============================] - 32s 158ms/step - loss: 0.0764 - accuracy: 0.9772 - val_loss: 0.0269 - val_accuracy: 0.9906 - lr: 0.0010\n",
      "Epoch 14/100\n",
      "202/202 [==============================] - ETA: 0s - loss: 0.0616 - accuracy: 0.9797\n",
      "Epoch 14: val_accuracy did not improve from 0.99792\n",
      "202/202 [==============================] - 31s 153ms/step - loss: 0.0616 - accuracy: 0.9797 - val_loss: 0.0158 - val_accuracy: 0.9948 - lr: 0.0010\n",
      "Epoch 15/100\n",
      "202/202 [==============================] - ETA: 0s - loss: 0.0513 - accuracy: 0.9817\n",
      "Epoch 15: val_accuracy did not improve from 0.99792\n",
      "202/202 [==============================] - 31s 155ms/step - loss: 0.0513 - accuracy: 0.9817 - val_loss: 0.0425 - val_accuracy: 0.9875 - lr: 0.0010\n",
      "Epoch 16/100\n",
      "202/202 [==============================] - ETA: 0s - loss: 0.0575 - accuracy: 0.9779\n",
      "Epoch 16: val_accuracy did not improve from 0.99792\n",
      "\n",
      "Epoch 16: ReduceLROnPlateau reducing learning rate to 0.00010000000474974513.\n",
      "202/202 [==============================] - 32s 157ms/step - loss: 0.0575 - accuracy: 0.9779 - val_loss: 0.0147 - val_accuracy: 0.9979 - lr: 0.0010\n",
      "Epoch 17/100\n",
      "202/202 [==============================] - ETA: 0s - loss: 0.0350 - accuracy: 0.9864\n",
      "Epoch 17: val_accuracy did not improve from 0.99792\n",
      "202/202 [==============================] - 32s 156ms/step - loss: 0.0350 - accuracy: 0.9864 - val_loss: 0.0183 - val_accuracy: 0.9938 - lr: 1.0000e-04\n",
      "Epoch 18/100\n",
      "202/202 [==============================] - ETA: 0s - loss: 0.0277 - accuracy: 0.9888\n",
      "Epoch 18: val_accuracy did not improve from 0.99792\n",
      "202/202 [==============================] - 31s 153ms/step - loss: 0.0277 - accuracy: 0.9888 - val_loss: 0.0054 - val_accuracy: 0.9979 - lr: 1.0000e-04\n",
      "Epoch 19/100\n",
      "202/202 [==============================] - ETA: 0s - loss: 0.0293 - accuracy: 0.9891\n",
      "Epoch 19: val_accuracy improved from 0.99792 to 0.99896, saving model to BellPaper_DIY_model1_Based_Augmented\n"
     ]
    },
    {
     "name": "stderr",
     "output_type": "stream",
     "text": [
      "WARNING:absl:Found untraced functions such as _jit_compiled_convolution_op, _jit_compiled_convolution_op, _jit_compiled_convolution_op while saving (showing 3 of 3). These functions will not be directly callable after loading.\n"
     ]
    },
    {
     "name": "stdout",
     "output_type": "stream",
     "text": [
      "INFO:tensorflow:Assets written to: BellPaper_DIY_model1_Based_Augmented\\assets\n"
     ]
    },
    {
     "name": "stderr",
     "output_type": "stream",
     "text": [
      "INFO:tensorflow:Assets written to: BellPaper_DIY_model1_Based_Augmented\\assets\n"
     ]
    },
    {
     "name": "stdout",
     "output_type": "stream",
     "text": [
      "202/202 [==============================] - 37s 183ms/step - loss: 0.0293 - accuracy: 0.9891 - val_loss: 0.0044 - val_accuracy: 0.9990 - lr: 1.0000e-04\n",
      "Epoch 20/100\n",
      "202/202 [==============================] - ETA: 0s - loss: 0.0282 - accuracy: 0.9888\n",
      "Epoch 20: val_accuracy did not improve from 0.99896\n",
      "202/202 [==============================] - 31s 151ms/step - loss: 0.0282 - accuracy: 0.9888 - val_loss: 0.0079 - val_accuracy: 0.9969 - lr: 1.0000e-04\n",
      "Epoch 21/100\n",
      "202/202 [==============================] - ETA: 0s - loss: 0.0238 - accuracy: 0.9918\n",
      "Epoch 21: val_accuracy did not improve from 0.99896\n",
      "202/202 [==============================] - 31s 155ms/step - loss: 0.0238 - accuracy: 0.9918 - val_loss: 0.0071 - val_accuracy: 0.9958 - lr: 1.0000e-04\n",
      "Epoch 22/100\n",
      "202/202 [==============================] - ETA: 0s - loss: 0.0266 - accuracy: 0.9891\n",
      "Epoch 22: val_accuracy did not improve from 0.99896\n",
      "202/202 [==============================] - 30s 150ms/step - loss: 0.0266 - accuracy: 0.9891 - val_loss: 0.0217 - val_accuracy: 0.9917 - lr: 1.0000e-04\n",
      "Epoch 23/100\n",
      "202/202 [==============================] - ETA: 0s - loss: 0.0248 - accuracy: 0.9906\n",
      "Epoch 23: val_accuracy did not improve from 0.99896\n",
      "202/202 [==============================] - 32s 156ms/step - loss: 0.0248 - accuracy: 0.9906 - val_loss: 0.0061 - val_accuracy: 0.9969 - lr: 1.0000e-04\n",
      "Epoch 24/100\n",
      "202/202 [==============================] - ETA: 0s - loss: 0.0239 - accuracy: 0.9901\n",
      "Epoch 24: val_accuracy improved from 0.99896 to 1.00000, saving model to BellPaper_DIY_model1_Based_Augmented\n"
     ]
    },
    {
     "name": "stderr",
     "output_type": "stream",
     "text": [
      "WARNING:absl:Found untraced functions such as _jit_compiled_convolution_op, _jit_compiled_convolution_op, _jit_compiled_convolution_op while saving (showing 3 of 3). These functions will not be directly callable after loading.\n"
     ]
    },
    {
     "name": "stdout",
     "output_type": "stream",
     "text": [
      "INFO:tensorflow:Assets written to: BellPaper_DIY_model1_Based_Augmented\\assets\n"
     ]
    },
    {
     "name": "stderr",
     "output_type": "stream",
     "text": [
      "INFO:tensorflow:Assets written to: BellPaper_DIY_model1_Based_Augmented\\assets\n"
     ]
    },
    {
     "name": "stdout",
     "output_type": "stream",
     "text": [
      "202/202 [==============================] - 37s 181ms/step - loss: 0.0239 - accuracy: 0.9901 - val_loss: 0.0022 - val_accuracy: 1.0000 - lr: 1.0000e-04\n",
      "Epoch 25/100\n",
      "202/202 [==============================] - ETA: 0s - loss: 0.0256 - accuracy: 0.9888\n",
      "Epoch 25: val_accuracy did not improve from 1.00000\n",
      "202/202 [==============================] - 32s 155ms/step - loss: 0.0256 - accuracy: 0.9888 - val_loss: 0.0124 - val_accuracy: 0.9969 - lr: 1.0000e-04\n",
      "Epoch 26/100\n",
      "202/202 [==============================] - ETA: 0s - loss: 0.0226 - accuracy: 0.9898\n",
      "Epoch 26: val_accuracy did not improve from 1.00000\n",
      "202/202 [==============================] - 31s 152ms/step - loss: 0.0226 - accuracy: 0.9898 - val_loss: 0.0017 - val_accuracy: 1.0000 - lr: 1.0000e-04\n",
      "Epoch 27/100\n",
      "202/202 [==============================] - ETA: 0s - loss: 0.0232 - accuracy: 0.9908\n",
      "Epoch 27: val_accuracy did not improve from 1.00000\n",
      "202/202 [==============================] - 31s 156ms/step - loss: 0.0232 - accuracy: 0.9908 - val_loss: 0.0071 - val_accuracy: 0.9969 - lr: 1.0000e-04\n",
      "Epoch 28/100\n",
      "202/202 [==============================] - ETA: 0s - loss: 0.0225 - accuracy: 0.9896\n",
      "Epoch 28: val_accuracy did not improve from 1.00000\n",
      "202/202 [==============================] - 31s 151ms/step - loss: 0.0225 - accuracy: 0.9896 - val_loss: 0.0026 - val_accuracy: 0.9990 - lr: 1.0000e-04\n",
      "Epoch 29/100\n",
      "202/202 [==============================] - ETA: 0s - loss: 0.0220 - accuracy: 0.9918\n",
      "Epoch 29: val_accuracy did not improve from 1.00000\n",
      "202/202 [==============================] - 31s 155ms/step - loss: 0.0220 - accuracy: 0.9918 - val_loss: 0.0025 - val_accuracy: 0.9990 - lr: 1.0000e-04\n",
      "Epoch 30/100\n",
      "202/202 [==============================] - ETA: 0s - loss: 0.0236 - accuracy: 0.9896\n",
      "Epoch 30: val_accuracy did not improve from 1.00000\n",
      "202/202 [==============================] - 31s 152ms/step - loss: 0.0236 - accuracy: 0.9896 - val_loss: 0.0158 - val_accuracy: 0.9927 - lr: 1.0000e-04\n",
      "Epoch 31/100\n",
      "202/202 [==============================] - ETA: 0s - loss: 0.0203 - accuracy: 0.9918\n",
      "Epoch 31: val_accuracy did not improve from 1.00000\n",
      "\n",
      "Epoch 31: ReduceLROnPlateau reducing learning rate to 1.0000000474974514e-05.\n",
      "202/202 [==============================] - 31s 155ms/step - loss: 0.0203 - accuracy: 0.9918 - val_loss: 0.0034 - val_accuracy: 0.9979 - lr: 1.0000e-04\n",
      "Epoch 32/100\n",
      "202/202 [==============================] - ETA: 0s - loss: 0.0178 - accuracy: 0.9921\n",
      "Epoch 32: val_accuracy did not improve from 1.00000\n",
      "202/202 [==============================] - 31s 152ms/step - loss: 0.0178 - accuracy: 0.9921 - val_loss: 0.0031 - val_accuracy: 0.9979 - lr: 1.0000e-05\n",
      "Epoch 33/100\n",
      "202/202 [==============================] - ETA: 0s - loss: 0.0176 - accuracy: 0.9926\n",
      "Epoch 33: val_accuracy did not improve from 1.00000\n",
      "202/202 [==============================] - 32s 158ms/step - loss: 0.0176 - accuracy: 0.9926 - val_loss: 0.0033 - val_accuracy: 0.9979 - lr: 1.0000e-05\n",
      "Epoch 34/100\n",
      "202/202 [==============================] - ETA: 0s - loss: 0.0190 - accuracy: 0.9916\n",
      "Epoch 34: val_accuracy did not improve from 1.00000\n",
      "202/202 [==============================] - 32s 157ms/step - loss: 0.0190 - accuracy: 0.9916 - val_loss: 0.0024 - val_accuracy: 0.9990 - lr: 1.0000e-05\n",
      "Epoch 35/100\n",
      "202/202 [==============================] - ETA: 0s - loss: 0.0192 - accuracy: 0.9918\n",
      "Epoch 35: val_accuracy did not improve from 1.00000\n",
      "202/202 [==============================] - 31s 154ms/step - loss: 0.0192 - accuracy: 0.9918 - val_loss: 0.0025 - val_accuracy: 1.0000 - lr: 1.0000e-05\n",
      "Epoch 36/100\n",
      "202/202 [==============================] - ETA: 0s - loss: 0.0164 - accuracy: 0.9921\n",
      "Epoch 36: val_accuracy did not improve from 1.00000\n",
      "\n",
      "Epoch 36: ReduceLROnPlateau reducing learning rate to 1.0000000656873453e-06.\n",
      "202/202 [==============================] - 33s 164ms/step - loss: 0.0164 - accuracy: 0.9921 - val_loss: 0.0039 - val_accuracy: 0.9979 - lr: 1.0000e-05\n",
      "Epoch 37/100\n",
      "202/202 [==============================] - ETA: 0s - loss: 0.0201 - accuracy: 0.9906\n",
      "Epoch 37: val_accuracy did not improve from 1.00000\n",
      "202/202 [==============================] - 31s 155ms/step - loss: 0.0201 - accuracy: 0.9906 - val_loss: 0.0032 - val_accuracy: 0.9990 - lr: 1.0000e-06\n",
      "Epoch 38/100\n",
      "202/202 [==============================] - ETA: 0s - loss: 0.0218 - accuracy: 0.9916\n",
      "Epoch 38: val_accuracy did not improve from 1.00000\n",
      "202/202 [==============================] - 29s 145ms/step - loss: 0.0218 - accuracy: 0.9916 - val_loss: 0.0031 - val_accuracy: 0.9990 - lr: 1.0000e-06\n",
      "Epoch 39/100\n",
      "202/202 [==============================] - ETA: 0s - loss: 0.0223 - accuracy: 0.9901\n",
      "Epoch 39: val_accuracy did not improve from 1.00000\n",
      "202/202 [==============================] - 30s 149ms/step - loss: 0.0223 - accuracy: 0.9901 - val_loss: 0.0030 - val_accuracy: 0.9990 - lr: 1.0000e-06\n",
      "Epoch 40/100\n",
      "202/202 [==============================] - ETA: 0s - loss: 0.0184 - accuracy: 0.9901\n",
      "Epoch 40: val_accuracy did not improve from 1.00000\n",
      "202/202 [==============================] - 29s 143ms/step - loss: 0.0184 - accuracy: 0.9901 - val_loss: 0.0027 - val_accuracy: 1.0000 - lr: 1.0000e-06\n",
      "Epoch 41/100\n",
      "202/202 [==============================] - ETA: 0s - loss: 0.0167 - accuracy: 0.9916\n",
      "Epoch 41: val_accuracy did not improve from 1.00000\n",
      "\n",
      "Epoch 41: ReduceLROnPlateau reducing learning rate to 1.0000001111620805e-07.\n",
      "202/202 [==============================] - 29s 143ms/step - loss: 0.0167 - accuracy: 0.9916 - val_loss: 0.0028 - val_accuracy: 0.9990 - lr: 1.0000e-06\n",
      "Epoch 42/100\n",
      "202/202 [==============================] - ETA: 0s - loss: 0.0202 - accuracy: 0.9906\n",
      "Epoch 42: val_accuracy did not improve from 1.00000\n",
      "202/202 [==============================] - 29s 144ms/step - loss: 0.0202 - accuracy: 0.9906 - val_loss: 0.0029 - val_accuracy: 0.9990 - lr: 1.0000e-07\n",
      "Epoch 43/100\n",
      "202/202 [==============================] - ETA: 0s - loss: 0.0206 - accuracy: 0.9916\n",
      "Epoch 43: val_accuracy did not improve from 1.00000\n",
      "202/202 [==============================] - 30s 149ms/step - loss: 0.0206 - accuracy: 0.9916 - val_loss: 0.0028 - val_accuracy: 0.9990 - lr: 1.0000e-07\n",
      "Epoch 44/100\n",
      "202/202 [==============================] - ETA: 0s - loss: 0.0211 - accuracy: 0.9901\n",
      "Epoch 44: val_accuracy did not improve from 1.00000\n",
      "Restoring model weights from the end of the best epoch: 24.\n",
      "202/202 [==============================] - 29s 143ms/step - loss: 0.0211 - accuracy: 0.9901 - val_loss: 0.0028 - val_accuracy: 0.9990 - lr: 1.0000e-07\n",
      "Epoch 44: early stopping\n"
     ]
    }
   ],
   "source": [
    "# Define the number of epochs\n",
    "num_epochs = 100\n",
    "\n",
    "# Train the model\n",
    "history_DIY_model = DIY_model.fit(train_generator, epochs=num_epochs, validation_data=validation_generator, callbacks=callbacks)"
   ]
  },
  {
   "cell_type": "code",
   "execution_count": 12,
   "metadata": {
    "tags": []
   },
   "outputs": [
    {
     "data": {
      "text/plain": [
       "<matplotlib.legend.Legend at 0x195dd2ac7c0>"
      ]
     },
     "execution_count": 12,
     "metadata": {},
     "output_type": "execute_result"
    },
    {
     "data": {
      "image/png": "[encoded data removed]",
      "text/plain": [
       "<Figure size 640x480 with 1 Axes>"
      ]
     },
     "metadata": {},
     "output_type": "display_data"
    },
    {
     "data": {
      "image/png": "[encoded data removed]",
      "text/plain": [
       "<Figure size 640x480 with 1 Axes>"
      ]
     },
     "metadata": {},
     "output_type": "display_data"
    }
   ],
   "source": [
    "#-----------------------------------------------------------\n",
    "# Retrieve a list of list results on training and test data\n",
    "# sets for each training epoch\n",
    "#-----------------------------------------------------------\n",
    "acc      = history_DIY_model.history['accuracy' ]\n",
    "val_acc  = history_DIY_model.history['val_accuracy' ]\n",
    "loss     = history_DIY_model.history['loss' ]\n",
    "val_loss = history_DIY_model.history['val_loss' ]\n",
    "\n",
    "epochs   = range(len(acc)) # Get number of epochs\n",
    "\n",
    "#------------------------------------------------\n",
    "# Plot training and validation accuracy per epoch\n",
    "#------------------------------------------------\n",
    "plt.plot  (epochs, acc )\n",
    "plt.plot  (epochs, val_acc )\n",
    "plt.title ('Training and validation accuracy DIY Model Augmented 1')\n",
    "plt.legend(['train', 'val'], loc='upper left')\n",
    "plt.figure()\n",
    "\n",
    "#------------------------------------------------\n",
    "# Plot training and validation loss per epoch\n",
    "#------------------------------------------------\n",
    "plt.plot  (epochs, loss)\n",
    "plt.plot  (epochs, val_loss)\n",
    "plt.title ('Training and validation loss DIY Model Augmented 1')\n",
    "plt.legend(['train', 'val'], loc='upper left')"
   ]
  },
  {
   "attachments": {},
   "cell_type": "markdown",
   "metadata": {},
   "source": [
    "## DIY Model 2"
   ]
  },
  {
   "cell_type": "code",
   "execution_count": 13,
   "metadata": {
    "tags": []
   },
   "outputs": [],
   "source": [
    "# Difine the callbacks\n",
    "# Save the best model\n",
    "checkpoint_callback = ModelCheckpoint(filepath=\"BellPaper_DIY_model2_Based_Augmented\", save_best_only=True, monitor=\"val_accuracy\", mode=\"max\", verbose=1)\n",
    "\n",
    "# Early stopping\n",
    "early_stopping_callback = EarlyStopping(monitor=\"val_accuracy\", mode=\"max\", patience=20, verbose=1, restore_best_weights=True)\n",
    "\n",
    "# Reduce learning rate\n",
    "reduce_lr_callback = ReduceLROnPlateau(monitor=\"val_loss\", factor=0.1, patience=5, verbose=1, mode=\"min\", min_delta=0.0001, cooldown=0, min_lr=0)\n",
    "\n",
    "# Callbacks list\n",
    "callbacks=[checkpoint_callback, early_stopping_callback, reduce_lr_callback]"
   ]
  },
  {
   "cell_type": "code",
   "execution_count": 14,
   "metadata": {
    "tags": []
   },
   "outputs": [
    {
     "name": "stdout",
     "output_type": "stream",
     "text": [
      "Model: \"sequential_1\"\n",
      "_________________________________________________________________\n",
      " Layer (type)                Output Shape              Param #   \n",
      "=================================================================\n",
      " conv2d_3 (Conv2D)           (None, 222, 222, 32)      896       \n",
      "                                                                 \n",
      " max_pooling2d_3 (MaxPooling  (None, 111, 111, 32)     0         \n",
      " 2D)                                                             \n",
      "                                                                 \n",
      " conv2d_4 (Conv2D)           (None, 109, 109, 64)      18496     \n",
      "                                                                 \n",
      " max_pooling2d_4 (MaxPooling  (None, 54, 54, 64)       0         \n",
      " 2D)                                                             \n",
      "                                                                 \n",
      " conv2d_5 (Conv2D)           (None, 52, 52, 128)       73856     \n",
      "                                                                 \n",
      " max_pooling2d_5 (MaxPooling  (None, 26, 26, 128)      0         \n",
      " 2D)                                                             \n",
      "                                                                 \n",
      " flatten_1 (Flatten)         (None, 86528)             0         \n",
      "                                                                 \n",
      " dense_3 (Dense)             (None, 1024)              88605696  \n",
      "                                                                 \n",
      " dense_4 (Dense)             (None, 512)               524800    \n",
      "                                                                 \n",
      " dropout_1 (Dropout)         (None, 512)               0         \n",
      "                                                                 \n",
      " dense_5 (Dense)             (None, 256)               131328    \n",
      "                                                                 \n",
      " dense_6 (Dense)             (None, 2)                 514       \n",
      "                                                                 \n",
      "=================================================================\n",
      "Total params: 89,355,586\n",
      "Trainable params: 89,355,586\n",
      "Non-trainable params: 0\n",
      "_________________________________________________________________\n"
     ]
    }
   ],
   "source": [
    "# Define DIY Model\n",
    "DIY_model_2 = tf.keras.models.Sequential([\n",
    "    # Convolutional Layers with 32 filters\n",
    "    tf.keras.layers.Conv2D(32, (3,3), activation='relu', input_shape=(224, 224, 3)),\n",
    "    # MaxPooling Layer\n",
    "    tf.keras.layers.MaxPooling2D(2,2),\n",
    "    # Convolutional Layers with 64 filters\n",
    "    tf.keras.layers.Conv2D(64, (3,3), activation='relu'),\n",
    "    # MaxPooling Layer\n",
    "    tf.keras.layers.MaxPooling2D(2,2),  \n",
    "    # Convolutional Layers with 128 filters\n",
    "    tf.keras.layers.Conv2D(128, (3,3), activation='relu'), \n",
    "    # MaxPooling Layer\n",
    "    tf.keras.layers.MaxPooling2D(2,2),  \n",
    "    # Flatten the results to feed into a DNN\n",
    "    tf.keras.layers.Flatten(),\n",
    "    # 1024 neuron hidden layer\n",
    "    tf.keras.layers.Dense(1024, activation='relu'),\n",
    "    # 512 neuron hidden layer\n",
    "    tf.keras.layers.Dense(512, activation='relu'),\n",
    "    # Drop Out Layer\n",
    "    tf.keras.layers.Dropout(0.2),\n",
    "    # 256 neuron hidden layer\n",
    "    tf.keras.layers.Dense(256, activation='relu'),\n",
    "    # Output\n",
    "    tf.keras.layers.Dense(2, activation='softmax') \n",
    "  ])\n",
    "\n",
    "\n",
    "# Compile Model\n",
    "DIY_model_2.compile(loss='categorical_crossentropy',optimizer=tf.keras.optimizers.Adam(), metrics=['accuracy']) \n",
    "\n",
    "# Model Summary\n",
    "DIY_model_2.summary()"
   ]
  },
  {
   "cell_type": "code",
   "execution_count": 15,
   "metadata": {
    "tags": []
   },
   "outputs": [
    {
     "name": "stdout",
     "output_type": "stream",
     "text": [
      "Epoch 1/100\n",
      "202/202 [==============================] - ETA: 0s - loss: 0.5579 - accuracy: 0.7357\n",
      "Epoch 1: val_accuracy improved from -inf to 0.91892, saving model to BellPaper_DIY_model2_Based_Augmented\n"
     ]
    },
    {
     "name": "stderr",
     "output_type": "stream",
     "text": [
      "WARNING:absl:Found untraced functions such as _jit_compiled_convolution_op, _jit_compiled_convolution_op, _jit_compiled_convolution_op while saving (showing 3 of 3). These functions will not be directly callable after loading.\n"
     ]
    },
    {
     "name": "stdout",
     "output_type": "stream",
     "text": [
      "INFO:tensorflow:Assets written to: BellPaper_DIY_model2_Based_Augmented\\assets\n"
     ]
    },
    {
     "name": "stderr",
     "output_type": "stream",
     "text": [
      "INFO:tensorflow:Assets written to: BellPaper_DIY_model2_Based_Augmented\\assets\n"
     ]
    },
    {
     "name": "stdout",
     "output_type": "stream",
     "text": [
      "202/202 [==============================] - 33s 161ms/step - loss: 0.5579 - accuracy: 0.7357 - val_loss: 0.2187 - val_accuracy: 0.9189 - lr: 0.0010\n",
      "Epoch 2/100\n",
      "202/202 [==============================] - ETA: 0s - loss: 0.3432 - accuracy: 0.8862\n",
      "Epoch 2: val_accuracy did not improve from 0.91892\n",
      "202/202 [==============================] - 33s 163ms/step - loss: 0.3432 - accuracy: 0.8862 - val_loss: 0.4644 - val_accuracy: 0.7963 - lr: 0.0010\n",
      "Epoch 3/100\n",
      "202/202 [==============================] - ETA: 0s - loss: 0.2715 - accuracy: 0.9117\n",
      "Epoch 3: val_accuracy improved from 0.91892 to 0.96778, saving model to BellPaper_DIY_model2_Based_Augmented\n"
     ]
    },
    {
     "name": "stderr",
     "output_type": "stream",
     "text": [
      "WARNING:absl:Found untraced functions such as _jit_compiled_convolution_op, _jit_compiled_convolution_op, _jit_compiled_convolution_op while saving (showing 3 of 3). These functions will not be directly callable after loading.\n"
     ]
    },
    {
     "name": "stdout",
     "output_type": "stream",
     "text": [
      "INFO:tensorflow:Assets written to: BellPaper_DIY_model2_Based_Augmented\\assets\n"
     ]
    },
    {
     "name": "stderr",
     "output_type": "stream",
     "text": [
      "INFO:tensorflow:Assets written to: BellPaper_DIY_model2_Based_Augmented\\assets\n"
     ]
    },
    {
     "name": "stdout",
     "output_type": "stream",
     "text": [
      "202/202 [==============================] - 38s 189ms/step - loss: 0.2715 - accuracy: 0.9117 - val_loss: 0.1002 - val_accuracy: 0.9678 - lr: 0.0010\n",
      "Epoch 4/100\n",
      "202/202 [==============================] - ETA: 0s - loss: 0.1813 - accuracy: 0.9457\n",
      "Epoch 4: val_accuracy did not improve from 0.96778\n",
      "202/202 [==============================] - 30s 146ms/step - loss: 0.1813 - accuracy: 0.9457 - val_loss: 0.1024 - val_accuracy: 0.9480 - lr: 0.0010\n",
      "Epoch 5/100\n",
      "202/202 [==============================] - ETA: 0s - loss: 0.1508 - accuracy: 0.9494\n",
      "Epoch 5: val_accuracy did not improve from 0.96778\n",
      "202/202 [==============================] - 30s 150ms/step - loss: 0.1508 - accuracy: 0.9494 - val_loss: 0.1352 - val_accuracy: 0.9345 - lr: 0.0010\n",
      "Epoch 6/100\n",
      "202/202 [==============================] - ETA: 0s - loss: 0.1054 - accuracy: 0.9673\n",
      "Epoch 6: val_accuracy improved from 0.96778 to 0.97401, saving model to BellPaper_DIY_model2_Based_Augmented\n"
     ]
    },
    {
     "name": "stderr",
     "output_type": "stream",
     "text": [
      "WARNING:absl:Found untraced functions such as _jit_compiled_convolution_op, _jit_compiled_convolution_op, _jit_compiled_convolution_op while saving (showing 3 of 3). These functions will not be directly callable after loading.\n"
     ]
    },
    {
     "name": "stdout",
     "output_type": "stream",
     "text": [
      "INFO:tensorflow:Assets written to: BellPaper_DIY_model2_Based_Augmented\\assets\n"
     ]
    },
    {
     "name": "stderr",
     "output_type": "stream",
     "text": [
      "INFO:tensorflow:Assets written to: BellPaper_DIY_model2_Based_Augmented\\assets\n"
     ]
    },
    {
     "name": "stdout",
     "output_type": "stream",
     "text": [
      "202/202 [==============================] - 36s 179ms/step - loss: 0.1054 - accuracy: 0.9673 - val_loss: 0.0623 - val_accuracy: 0.9740 - lr: 0.0010\n",
      "Epoch 7/100\n",
      "202/202 [==============================] - ETA: 0s - loss: 0.0973 - accuracy: 0.9730\n",
      "Epoch 7: val_accuracy did not improve from 0.97401\n",
      "202/202 [==============================] - 30s 148ms/step - loss: 0.0973 - accuracy: 0.9730 - val_loss: 0.4530 - val_accuracy: 0.8701 - lr: 0.0010\n",
      "Epoch 8/100\n",
      "202/202 [==============================] - ETA: 0s - loss: 0.1136 - accuracy: 0.9631\n",
      "Epoch 8: val_accuracy improved from 0.97401 to 0.98545, saving model to BellPaper_DIY_model2_Based_Augmented\n"
     ]
    },
    {
     "name": "stderr",
     "output_type": "stream",
     "text": [
      "WARNING:absl:Found untraced functions such as _jit_compiled_convolution_op, _jit_compiled_convolution_op, _jit_compiled_convolution_op while saving (showing 3 of 3). These functions will not be directly callable after loading.\n"
     ]
    },
    {
     "name": "stdout",
     "output_type": "stream",
     "text": [
      "INFO:tensorflow:Assets written to: BellPaper_DIY_model2_Based_Augmented\\assets\n"
     ]
    },
    {
     "name": "stderr",
     "output_type": "stream",
     "text": [
      "INFO:tensorflow:Assets written to: BellPaper_DIY_model2_Based_Augmented\\assets\n"
     ]
    },
    {
     "name": "stdout",
     "output_type": "stream",
     "text": [
      "202/202 [==============================] - 38s 187ms/step - loss: 0.1136 - accuracy: 0.9631 - val_loss: 0.0301 - val_accuracy: 0.9854 - lr: 0.0010\n",
      "Epoch 9/100\n",
      "202/202 [==============================] - ETA: 0s - loss: 0.0885 - accuracy: 0.9722\n",
      "Epoch 9: val_accuracy did not improve from 0.98545\n",
      "202/202 [==============================] - 30s 147ms/step - loss: 0.0885 - accuracy: 0.9722 - val_loss: 0.0356 - val_accuracy: 0.9844 - lr: 0.0010\n",
      "Epoch 10/100\n",
      "202/202 [==============================] - ETA: 0s - loss: 0.0826 - accuracy: 0.9712\n",
      "Epoch 10: val_accuracy improved from 0.98545 to 0.99480, saving model to BellPaper_DIY_model2_Based_Augmented\n"
     ]
    },
    {
     "name": "stderr",
     "output_type": "stream",
     "text": [
      "WARNING:absl:Found untraced functions such as _jit_compiled_convolution_op, _jit_compiled_convolution_op, _jit_compiled_convolution_op while saving (showing 3 of 3). These functions will not be directly callable after loading.\n"
     ]
    },
    {
     "name": "stdout",
     "output_type": "stream",
     "text": [
      "INFO:tensorflow:Assets written to: BellPaper_DIY_model2_Based_Augmented\\assets\n"
     ]
    },
    {
     "name": "stderr",
     "output_type": "stream",
     "text": [
      "INFO:tensorflow:Assets written to: BellPaper_DIY_model2_Based_Augmented\\assets\n"
     ]
    },
    {
     "name": "stdout",
     "output_type": "stream",
     "text": [
      "202/202 [==============================] - 36s 177ms/step - loss: 0.0826 - accuracy: 0.9712 - val_loss: 0.0199 - val_accuracy: 0.9948 - lr: 0.0010\n",
      "Epoch 11/100\n",
      "202/202 [==============================] - ETA: 0s - loss: 0.0874 - accuracy: 0.9740\n",
      "Epoch 11: val_accuracy did not improve from 0.99480\n",
      "202/202 [==============================] - 29s 144ms/step - loss: 0.0874 - accuracy: 0.9740 - val_loss: 0.0339 - val_accuracy: 0.9875 - lr: 0.0010\n",
      "Epoch 12/100\n",
      "202/202 [==============================] - ETA: 0s - loss: 0.0853 - accuracy: 0.9742\n",
      "Epoch 12: val_accuracy did not improve from 0.99480\n",
      "202/202 [==============================] - 28s 140ms/step - loss: 0.0853 - accuracy: 0.9742 - val_loss: 0.0667 - val_accuracy: 0.9688 - lr: 0.0010\n",
      "Epoch 13/100\n",
      "202/202 [==============================] - ETA: 0s - loss: 0.1027 - accuracy: 0.9715\n",
      "Epoch 13: val_accuracy did not improve from 0.99480\n",
      "202/202 [==============================] - 29s 145ms/step - loss: 0.1027 - accuracy: 0.9715 - val_loss: 0.0256 - val_accuracy: 0.9927 - lr: 0.0010\n",
      "Epoch 14/100\n",
      "202/202 [==============================] - ETA: 0s - loss: 0.0747 - accuracy: 0.9755\n",
      "Epoch 14: val_accuracy did not improve from 0.99480\n",
      "202/202 [==============================] - 30s 147ms/step - loss: 0.0747 - accuracy: 0.9755 - val_loss: 0.0368 - val_accuracy: 0.9813 - lr: 0.0010\n",
      "Epoch 15/100\n",
      "202/202 [==============================] - ETA: 0s - loss: 0.0880 - accuracy: 0.9747\n",
      "Epoch 15: val_accuracy did not improve from 0.99480\n",
      "\n",
      "Epoch 15: ReduceLROnPlateau reducing learning rate to 0.00010000000474974513.\n",
      "202/202 [==============================] - 29s 144ms/step - loss: 0.0880 - accuracy: 0.9747 - val_loss: 0.0866 - val_accuracy: 0.9553 - lr: 0.0010\n",
      "Epoch 16/100\n",
      "202/202 [==============================] - ETA: 0s - loss: 0.0572 - accuracy: 0.9824\n",
      "Epoch 16: val_accuracy did not improve from 0.99480\n",
      "202/202 [==============================] - 29s 144ms/step - loss: 0.0572 - accuracy: 0.9824 - val_loss: 0.0228 - val_accuracy: 0.9938 - lr: 1.0000e-04\n",
      "Epoch 17/100\n",
      "202/202 [==============================] - ETA: 0s - loss: 0.0475 - accuracy: 0.9844\n",
      "Epoch 17: val_accuracy did not improve from 0.99480\n",
      "202/202 [==============================] - 29s 143ms/step - loss: 0.0475 - accuracy: 0.9844 - val_loss: 0.0413 - val_accuracy: 0.9782 - lr: 1.0000e-04\n",
      "Epoch 18/100\n",
      "202/202 [==============================] - ETA: 0s - loss: 0.0414 - accuracy: 0.9864\n",
      "Epoch 18: val_accuracy did not improve from 0.99480\n",
      "202/202 [==============================] - 28s 140ms/step - loss: 0.0414 - accuracy: 0.9864 - val_loss: 0.0155 - val_accuracy: 0.9938 - lr: 1.0000e-04\n",
      "Epoch 19/100\n",
      "202/202 [==============================] - ETA: 0s - loss: 0.0397 - accuracy: 0.9864\n",
      "Epoch 19: val_accuracy did not improve from 0.99480\n",
      "202/202 [==============================] - 29s 141ms/step - loss: 0.0397 - accuracy: 0.9864 - val_loss: 0.0150 - val_accuracy: 0.9938 - lr: 1.0000e-04\n",
      "Epoch 20/100\n",
      "202/202 [==============================] - ETA: 0s - loss: 0.0343 - accuracy: 0.9876\n",
      "Epoch 20: val_accuracy did not improve from 0.99480\n",
      "202/202 [==============================] - 28s 137ms/step - loss: 0.0343 - accuracy: 0.9876 - val_loss: 0.0178 - val_accuracy: 0.9917 - lr: 1.0000e-04\n",
      "Epoch 21/100\n",
      "202/202 [==============================] - ETA: 0s - loss: 0.0335 - accuracy: 0.9898\n",
      "Epoch 21: val_accuracy did not improve from 0.99480\n",
      "202/202 [==============================] - 29s 141ms/step - loss: 0.0335 - accuracy: 0.9898 - val_loss: 0.0200 - val_accuracy: 0.9886 - lr: 1.0000e-04\n",
      "Epoch 22/100\n",
      "202/202 [==============================] - ETA: 0s - loss: 0.0377 - accuracy: 0.9881\n",
      "Epoch 22: val_accuracy improved from 0.99480 to 0.99688, saving model to BellPaper_DIY_model2_Based_Augmented\n"
     ]
    },
    {
     "name": "stderr",
     "output_type": "stream",
     "text": [
      "WARNING:absl:Found untraced functions such as _jit_compiled_convolution_op, _jit_compiled_convolution_op, _jit_compiled_convolution_op while saving (showing 3 of 3). These functions will not be directly callable after loading.\n"
     ]
    },
    {
     "name": "stdout",
     "output_type": "stream",
     "text": [
      "INFO:tensorflow:Assets written to: BellPaper_DIY_model2_Based_Augmented\\assets\n"
     ]
    },
    {
     "name": "stderr",
     "output_type": "stream",
     "text": [
      "INFO:tensorflow:Assets written to: BellPaper_DIY_model2_Based_Augmented\\assets\n"
     ]
    },
    {
     "name": "stdout",
     "output_type": "stream",
     "text": [
      "202/202 [==============================] - 36s 177ms/step - loss: 0.0377 - accuracy: 0.9881 - val_loss: 0.0086 - val_accuracy: 0.9969 - lr: 1.0000e-04\n",
      "Epoch 23/100\n",
      "202/202 [==============================] - ETA: 0s - loss: 0.0347 - accuracy: 0.9876\n",
      "Epoch 23: val_accuracy improved from 0.99688 to 0.99792, saving model to BellPaper_DIY_model2_Based_Augmented\n"
     ]
    },
    {
     "name": "stderr",
     "output_type": "stream",
     "text": [
      "WARNING:absl:Found untraced functions such as _jit_compiled_convolution_op, _jit_compiled_convolution_op, _jit_compiled_convolution_op while saving (showing 3 of 3). These functions will not be directly callable after loading.\n"
     ]
    },
    {
     "name": "stdout",
     "output_type": "stream",
     "text": [
      "INFO:tensorflow:Assets written to: BellPaper_DIY_model2_Based_Augmented\\assets\n"
     ]
    },
    {
     "name": "stderr",
     "output_type": "stream",
     "text": [
      "INFO:tensorflow:Assets written to: BellPaper_DIY_model2_Based_Augmented\\assets\n"
     ]
    },
    {
     "name": "stdout",
     "output_type": "stream",
     "text": [
      "202/202 [==============================] - 36s 180ms/step - loss: 0.0347 - accuracy: 0.9876 - val_loss: 0.0081 - val_accuracy: 0.9979 - lr: 1.0000e-04\n",
      "Epoch 24/100\n",
      "202/202 [==============================] - ETA: 0s - loss: 0.0335 - accuracy: 0.9871\n",
      "Epoch 24: val_accuracy did not improve from 0.99792\n",
      "202/202 [==============================] - 29s 145ms/step - loss: 0.0335 - accuracy: 0.9871 - val_loss: 0.0293 - val_accuracy: 0.9844 - lr: 1.0000e-04\n",
      "Epoch 25/100\n",
      "202/202 [==============================] - ETA: 0s - loss: 0.0276 - accuracy: 0.9896\n",
      "Epoch 25: val_accuracy did not improve from 0.99792\n",
      "202/202 [==============================] - 30s 149ms/step - loss: 0.0276 - accuracy: 0.9896 - val_loss: 0.0110 - val_accuracy: 0.9948 - lr: 1.0000e-04\n",
      "Epoch 26/100\n",
      "202/202 [==============================] - ETA: 0s - loss: 0.0362 - accuracy: 0.9879\n",
      "Epoch 26: val_accuracy did not improve from 0.99792\n",
      "202/202 [==============================] - 29s 142ms/step - loss: 0.0362 - accuracy: 0.9879 - val_loss: 0.0137 - val_accuracy: 0.9948 - lr: 1.0000e-04\n",
      "Epoch 27/100\n",
      "202/202 [==============================] - ETA: 0s - loss: 0.0295 - accuracy: 0.9901\n",
      "Epoch 27: val_accuracy did not improve from 0.99792\n",
      "202/202 [==============================] - 29s 143ms/step - loss: 0.0295 - accuracy: 0.9901 - val_loss: 0.0134 - val_accuracy: 0.9948 - lr: 1.0000e-04\n",
      "Epoch 28/100\n",
      "202/202 [==============================] - ETA: 0s - loss: 0.0254 - accuracy: 0.9891\n",
      "Epoch 28: val_accuracy did not improve from 0.99792\n",
      "202/202 [==============================] - 29s 142ms/step - loss: 0.0254 - accuracy: 0.9891 - val_loss: 0.0061 - val_accuracy: 0.9969 - lr: 1.0000e-04\n",
      "Epoch 29/100\n",
      "202/202 [==============================] - ETA: 0s - loss: 0.0302 - accuracy: 0.9893\n",
      "Epoch 29: val_accuracy improved from 0.99792 to 1.00000, saving model to BellPaper_DIY_model2_Based_Augmented\n"
     ]
    },
    {
     "name": "stderr",
     "output_type": "stream",
     "text": [
      "WARNING:absl:Found untraced functions such as _jit_compiled_convolution_op, _jit_compiled_convolution_op, _jit_compiled_convolution_op while saving (showing 3 of 3). These functions will not be directly callable after loading.\n"
     ]
    },
    {
     "name": "stdout",
     "output_type": "stream",
     "text": [
      "INFO:tensorflow:Assets written to: BellPaper_DIY_model2_Based_Augmented\\assets\n"
     ]
    },
    {
     "name": "stderr",
     "output_type": "stream",
     "text": [
      "INFO:tensorflow:Assets written to: BellPaper_DIY_model2_Based_Augmented\\assets\n"
     ]
    },
    {
     "name": "stdout",
     "output_type": "stream",
     "text": [
      "202/202 [==============================] - 37s 183ms/step - loss: 0.0302 - accuracy: 0.9893 - val_loss: 0.0036 - val_accuracy: 1.0000 - lr: 1.0000e-04\n",
      "Epoch 30/100\n",
      "202/202 [==============================] - ETA: 0s - loss: 0.0286 - accuracy: 0.9913\n",
      "Epoch 30: val_accuracy did not improve from 1.00000\n",
      "202/202 [==============================] - 31s 153ms/step - loss: 0.0286 - accuracy: 0.9913 - val_loss: 0.0049 - val_accuracy: 1.0000 - lr: 1.0000e-04\n",
      "Epoch 31/100\n",
      "202/202 [==============================] - ETA: 0s - loss: 0.0267 - accuracy: 0.9898\n",
      "Epoch 31: val_accuracy did not improve from 1.00000\n",
      "202/202 [==============================] - 32s 158ms/step - loss: 0.0267 - accuracy: 0.9898 - val_loss: 0.0042 - val_accuracy: 1.0000 - lr: 1.0000e-04\n",
      "Epoch 32/100\n",
      "202/202 [==============================] - ETA: 0s - loss: 0.0267 - accuracy: 0.9913\n",
      "Epoch 32: val_accuracy did not improve from 1.00000\n",
      "202/202 [==============================] - 31s 155ms/step - loss: 0.0267 - accuracy: 0.9913 - val_loss: 0.0059 - val_accuracy: 0.9990 - lr: 1.0000e-04\n",
      "Epoch 33/100\n",
      "202/202 [==============================] - ETA: 0s - loss: 0.0287 - accuracy: 0.9891\n",
      "Epoch 33: val_accuracy did not improve from 1.00000\n",
      "202/202 [==============================] - 31s 153ms/step - loss: 0.0287 - accuracy: 0.9891 - val_loss: 0.0057 - val_accuracy: 0.9969 - lr: 1.0000e-04\n",
      "Epoch 34/100\n",
      "202/202 [==============================] - ETA: 0s - loss: 0.0255 - accuracy: 0.9908\n",
      "Epoch 34: val_accuracy did not improve from 1.00000\n",
      "\n",
      "Epoch 34: ReduceLROnPlateau reducing learning rate to 1.0000000474974514e-05.\n",
      "202/202 [==============================] - 32s 159ms/step - loss: 0.0255 - accuracy: 0.9908 - val_loss: 0.0139 - val_accuracy: 0.9948 - lr: 1.0000e-04\n",
      "Epoch 35/100\n",
      "202/202 [==============================] - ETA: 0s - loss: 0.0220 - accuracy: 0.9926\n",
      "Epoch 35: val_accuracy did not improve from 1.00000\n",
      "202/202 [==============================] - 34s 171ms/step - loss: 0.0220 - accuracy: 0.9926 - val_loss: 0.0085 - val_accuracy: 0.9969 - lr: 1.0000e-05\n",
      "Epoch 36/100\n",
      "202/202 [==============================] - ETA: 0s - loss: 0.0225 - accuracy: 0.9918\n",
      "Epoch 36: val_accuracy did not improve from 1.00000\n",
      "202/202 [==============================] - 32s 156ms/step - loss: 0.0225 - accuracy: 0.9918 - val_loss: 0.0080 - val_accuracy: 0.9969 - lr: 1.0000e-05\n",
      "Epoch 37/100\n",
      "202/202 [==============================] - ETA: 0s - loss: 0.0226 - accuracy: 0.9901\n",
      "Epoch 37: val_accuracy did not improve from 1.00000\n",
      "202/202 [==============================] - 30s 146ms/step - loss: 0.0226 - accuracy: 0.9901 - val_loss: 0.0075 - val_accuracy: 0.9979 - lr: 1.0000e-05\n",
      "Epoch 38/100\n",
      "202/202 [==============================] - ETA: 0s - loss: 0.0233 - accuracy: 0.9921\n",
      "Epoch 38: val_accuracy did not improve from 1.00000\n",
      "202/202 [==============================] - 29s 146ms/step - loss: 0.0233 - accuracy: 0.9921 - val_loss: 0.0070 - val_accuracy: 0.9979 - lr: 1.0000e-05\n",
      "Epoch 39/100\n",
      "202/202 [==============================] - ETA: 0s - loss: 0.0228 - accuracy: 0.9911\n",
      "Epoch 39: val_accuracy did not improve from 1.00000\n",
      "\n",
      "Epoch 39: ReduceLROnPlateau reducing learning rate to 1.0000000656873453e-06.\n",
      "202/202 [==============================] - 29s 144ms/step - loss: 0.0228 - accuracy: 0.9911 - val_loss: 0.0081 - val_accuracy: 0.9958 - lr: 1.0000e-05\n",
      "Epoch 40/100\n",
      "202/202 [==============================] - ETA: 0s - loss: 0.0230 - accuracy: 0.9911\n",
      "Epoch 40: val_accuracy did not improve from 1.00000\n",
      "202/202 [==============================] - 30s 146ms/step - loss: 0.0230 - accuracy: 0.9911 - val_loss: 0.0087 - val_accuracy: 0.9958 - lr: 1.0000e-06\n",
      "Epoch 41/100\n",
      "202/202 [==============================] - ETA: 0s - loss: 0.0223 - accuracy: 0.9908\n",
      "Epoch 41: val_accuracy did not improve from 1.00000\n",
      "202/202 [==============================] - 29s 144ms/step - loss: 0.0223 - accuracy: 0.9908 - val_loss: 0.0086 - val_accuracy: 0.9958 - lr: 1.0000e-06\n",
      "Epoch 42/100\n",
      "202/202 [==============================] - ETA: 0s - loss: 0.0201 - accuracy: 0.9913\n",
      "Epoch 42: val_accuracy did not improve from 1.00000\n",
      "202/202 [==============================] - 29s 145ms/step - loss: 0.0201 - accuracy: 0.9913 - val_loss: 0.0081 - val_accuracy: 0.9958 - lr: 1.0000e-06\n",
      "Epoch 43/100\n",
      "202/202 [==============================] - ETA: 0s - loss: 0.0189 - accuracy: 0.9931\n",
      "Epoch 43: val_accuracy did not improve from 1.00000\n",
      "202/202 [==============================] - 30s 146ms/step - loss: 0.0189 - accuracy: 0.9931 - val_loss: 0.0078 - val_accuracy: 0.9969 - lr: 1.0000e-06\n",
      "Epoch 44/100\n",
      "202/202 [==============================] - ETA: 0s - loss: 0.0232 - accuracy: 0.9913\n",
      "Epoch 44: val_accuracy did not improve from 1.00000\n",
      "\n",
      "Epoch 44: ReduceLROnPlateau reducing learning rate to 1.0000001111620805e-07.\n",
      "202/202 [==============================] - 29s 145ms/step - loss: 0.0232 - accuracy: 0.9913 - val_loss: 0.0075 - val_accuracy: 0.9969 - lr: 1.0000e-06\n",
      "Epoch 45/100\n",
      "202/202 [==============================] - ETA: 0s - loss: 0.0222 - accuracy: 0.9908\n",
      "Epoch 45: val_accuracy did not improve from 1.00000\n",
      "202/202 [==============================] - 30s 148ms/step - loss: 0.0222 - accuracy: 0.9908 - val_loss: 0.0075 - val_accuracy: 0.9969 - lr: 1.0000e-07\n",
      "Epoch 46/100\n",
      "202/202 [==============================] - ETA: 0s - loss: 0.0204 - accuracy: 0.9921\n",
      "Epoch 46: val_accuracy did not improve from 1.00000\n",
      "202/202 [==============================] - 30s 148ms/step - loss: 0.0204 - accuracy: 0.9921 - val_loss: 0.0075 - val_accuracy: 0.9969 - lr: 1.0000e-07\n",
      "Epoch 47/100\n",
      "202/202 [==============================] - ETA: 0s - loss: 0.0216 - accuracy: 0.9923\n",
      "Epoch 47: val_accuracy did not improve from 1.00000\n",
      "202/202 [==============================] - 29s 146ms/step - loss: 0.0216 - accuracy: 0.9923 - val_loss: 0.0075 - val_accuracy: 0.9969 - lr: 1.0000e-07\n",
      "Epoch 48/100\n",
      "202/202 [==============================] - ETA: 0s - loss: 0.0175 - accuracy: 0.9926\n",
      "Epoch 48: val_accuracy did not improve from 1.00000\n",
      "202/202 [==============================] - 30s 146ms/step - loss: 0.0175 - accuracy: 0.9926 - val_loss: 0.0075 - val_accuracy: 0.9969 - lr: 1.0000e-07\n",
      "Epoch 49/100\n",
      "202/202 [==============================] - ETA: 0s - loss: 0.0203 - accuracy: 0.9916\n",
      "Epoch 49: val_accuracy did not improve from 1.00000\n",
      "Restoring model weights from the end of the best epoch: 29.\n",
      "\n",
      "Epoch 49: ReduceLROnPlateau reducing learning rate to 1.000000082740371e-08.\n",
      "202/202 [==============================] - 30s 148ms/step - loss: 0.0203 - accuracy: 0.9916 - val_loss: 0.0075 - val_accuracy: 0.9969 - lr: 1.0000e-07\n",
      "Epoch 49: early stopping\n"
     ]
    }
   ],
   "source": [
    "# Define the number of epochs\n",
    "num_epochs = 100\n",
    "\n",
    "# Train the model\n",
    "history_DIY_model_2 = DIY_model_2.fit(train_generator, epochs=num_epochs, validation_data=validation_generator, callbacks=callbacks)"
   ]
  },
  {
   "cell_type": "code",
   "execution_count": 16,
   "metadata": {
    "tags": []
   },
   "outputs": [
    {
     "data": {
      "text/plain": [
       "<matplotlib.legend.Legend at 0x195dcf13f10>"
      ]
     },
     "execution_count": 16,
     "metadata": {},
     "output_type": "execute_result"
    },
    {
     "data": {
      "image/png": "[encoded data removed]",
      "text/plain": [
       "<Figure size 640x480 with 1 Axes>"
      ]
     },
     "metadata": {},
     "output_type": "display_data"
    },
    {
     "data": {
      "image/png": "[encoded data removed]",
      "text/plain": [
       "<Figure size 640x480 with 1 Axes>"
      ]
     },
     "metadata": {},
     "output_type": "display_data"
    }
   ],
   "source": [
    "#-----------------------------------------------------------\n",
    "# Retrieve a list of list results on training and test data\n",
    "# sets for each training epoch\n",
    "#-----------------------------------------------------------\n",
    "acc      = history_DIY_model_2.history['accuracy' ]\n",
    "val_acc  = history_DIY_model_2.history['val_accuracy' ]\n",
    "loss     = history_DIY_model_2.history['loss' ]\n",
    "val_loss = history_DIY_model_2.history['val_loss' ]\n",
    "\n",
    "epochs   = range(len(acc)) # Get number of epochs\n",
    "\n",
    "#------------------------------------------------\n",
    "# Plot training and validation accuracy per epoch\n",
    "#------------------------------------------------\n",
    "plt.plot  (epochs, acc )\n",
    "plt.plot  (epochs, val_acc )\n",
    "plt.title ('Training and validation accuracy DIY Model Augmented 2')\n",
    "plt.legend(['train', 'val'], loc='upper left')\n",
    "plt.figure()\n",
    "\n",
    "#------------------------------------------------\n",
    "# Plot training and validation loss per epoch\n",
    "#------------------------------------------------\n",
    "plt.plot  (epochs, loss)\n",
    "plt.plot  (epochs, val_loss)\n",
    "plt.title ('Training and validation loss DIY Model Augmented 2')\n",
    "plt.legend(['train', 'val'], loc='upper left')"
   ]
  }
 ],
 "metadata": {
  "kernelspec": {
   "display_name": "Python 3 (ipykernel)",
   "language": "python",
   "name": "python3"
  },
  "language_info": {
   "codemirror_mode": {
    "name": "ipython",
    "version": 3
   },
   "file_extension": ".py",
   "mimetype": "text/x-python",
   "name": "python",
   "nbconvert_exporter": "python",
   "pygments_lexer": "ipython3",
   "version": "3.10.0"
  }
 },
 "nbformat": 4,
 "nbformat_minor": 4
}
