{
 "cells": [
  {
   "attachments": {},
   "cell_type": "markdown",
   "metadata": {},
   "source": [
    "# Library"
   ]
  },
  {
   "cell_type": "code",
   "execution_count": 1,
   "metadata": {
    "tags": []
   },
   "outputs": [
    {
     "name": "stdout",
     "output_type": "stream",
     "text": [
      "Requirement already satisfied: matplotlib in c:\\users\\hasan\\anaconda3\\envs\\tensorflow_gpu_zein\\lib\\site-packages (3.6.3)\n",
      "Requirement already satisfied: cycler>=0.10 in c:\\users\\hasan\\anaconda3\\envs\\tensorflow_gpu_zein\\lib\\site-packages (from matplotlib) (0.11.0)\n",
      "Requirement already satisfied: pyparsing>=2.2.1 in c:\\users\\hasan\\anaconda3\\envs\\tensorflow_gpu_zein\\lib\\site-packages (from matplotlib) (3.0.9)\n",
      "Requirement already satisfied: packaging>=20.0 in c:\\users\\hasan\\anaconda3\\envs\\tensorflow_gpu_zein\\lib\\site-packages (from matplotlib) (23.1)\n",
      "Requirement already satisfied: fonttools>=4.22.0 in c:\\users\\hasan\\anaconda3\\envs\\tensorflow_gpu_zein\\lib\\site-packages (from matplotlib) (4.39.2)\n",
      "Requirement already satisfied: python-dateutil>=2.7 in c:\\users\\hasan\\anaconda3\\envs\\tensorflow_gpu_zein\\lib\\site-packages (from matplotlib) (2.8.2)\n",
      "Requirement already satisfied: contourpy>=1.0.1 in c:\\users\\hasan\\anaconda3\\envs\\tensorflow_gpu_zein\\lib\\site-packages (from matplotlib) (1.0.7)\n",
      "Requirement already satisfied: pillow>=6.2.0 in c:\\users\\hasan\\anaconda3\\envs\\tensorflow_gpu_zein\\lib\\site-packages (from matplotlib) (9.4.0)\n",
      "Requirement already satisfied: kiwisolver>=1.0.1 in c:\\users\\hasan\\anaconda3\\envs\\tensorflow_gpu_zein\\lib\\site-packages (from matplotlib) (1.4.4)\n",
      "Requirement already satisfied: numpy>=1.19 in c:\\users\\hasan\\anaconda3\\envs\\tensorflow_gpu_zein\\lib\\site-packages (from matplotlib) (1.23.5)\n",
      "Requirement already satisfied: six>=1.5 in c:\\users\\hasan\\anaconda3\\envs\\tensorflow_gpu_zein\\lib\\site-packages (from python-dateutil>=2.7->matplotlib) (1.16.0)\n",
      "Note: you may need to restart the kernel to use updated packages.\n"
     ]
    },
    {
     "name": "stderr",
     "output_type": "stream",
     "text": [
      "WARNING: Ignoring invalid distribution -rotobuf (c:\\users\\hasan\\anaconda3\\envs\\tensorflow_gpu_zein\\lib\\site-packages)\n",
      "WARNING: Ignoring invalid distribution -rotobuf (c:\\users\\hasan\\anaconda3\\envs\\tensorflow_gpu_zein\\lib\\site-packages)\n",
      "WARNING: Ignoring invalid distribution -rotobuf (c:\\users\\hasan\\anaconda3\\envs\\tensorflow_gpu_zein\\lib\\site-packages)\n",
      "WARNING: Ignoring invalid distribution -rotobuf (c:\\users\\hasan\\anaconda3\\envs\\tensorflow_gpu_zein\\lib\\site-packages)\n",
      "WARNING: Ignoring invalid distribution -rotobuf (c:\\users\\hasan\\anaconda3\\envs\\tensorflow_gpu_zein\\lib\\site-packages)\n",
      "WARNING: Ignoring invalid distribution -rotobuf (c:\\users\\hasan\\anaconda3\\envs\\tensorflow_gpu_zein\\lib\\site-packages)\n"
     ]
    }
   ],
   "source": [
    "pip install matplotlib"
   ]
  },
  {
   "cell_type": "code",
   "execution_count": 2,
   "metadata": {
    "tags": []
   },
   "outputs": [
    {
     "name": "stdout",
     "output_type": "stream",
     "text": [
      "Requirement already satisfied: opendatasets in c:\\users\\hasan\\anaconda3\\envs\\tensorflow_gpu_zein\\lib\\site-packages (0.1.22)\n",
      "Requirement already satisfied: click in c:\\users\\hasan\\anaconda3\\envs\\tensorflow_gpu_zein\\lib\\site-packages (from opendatasets) (8.1.3)\n",
      "Requirement already satisfied: kaggle in c:\\users\\hasan\\anaconda3\\envs\\tensorflow_gpu_zein\\lib\\site-packages (from opendatasets) (1.5.13)\n",
      "Requirement already satisfied: tqdm in c:\\users\\hasan\\anaconda3\\envs\\tensorflow_gpu_zein\\lib\\site-packages (from opendatasets) (4.64.1)\n",
      "Requirement already satisfied: colorama in c:\\users\\hasan\\anaconda3\\envs\\tensorflow_gpu_zein\\lib\\site-packages (from click->opendatasets) (0.4.6)\n",
      "Requirement already satisfied: python-dateutil in c:\\users\\hasan\\anaconda3\\envs\\tensorflow_gpu_zein\\lib\\site-packages (from kaggle->opendatasets) (2.8.2)\n",
      "Requirement already satisfied: requests in c:\\users\\hasan\\anaconda3\\envs\\tensorflow_gpu_zein\\lib\\site-packages (from kaggle->opendatasets) (2.28.2)\n",
      "Requirement already satisfied: urllib3 in c:\\users\\hasan\\anaconda3\\envs\\tensorflow_gpu_zein\\lib\\site-packages (from kaggle->opendatasets) (1.26.15)\n",
      "Requirement already satisfied: python-slugify in c:\\users\\hasan\\anaconda3\\envs\\tensorflow_gpu_zein\\lib\\site-packages (from kaggle->opendatasets) (8.0.1)\n",
      "Requirement already satisfied: six>=1.10 in c:\\users\\hasan\\anaconda3\\envs\\tensorflow_gpu_zein\\lib\\site-packages (from kaggle->opendatasets) (1.16.0)\n",
      "Requirement already satisfied: certifi in c:\\users\\hasan\\anaconda3\\envs\\tensorflow_gpu_zein\\lib\\site-packages (from kaggle->opendatasets) (2022.12.7)\n",
      "Requirement already satisfied: text-unidecode>=1.3 in c:\\users\\hasan\\anaconda3\\envs\\tensorflow_gpu_zein\\lib\\site-packages (from python-slugify->kaggle->opendatasets) (1.3)\n",
      "Requirement already satisfied: charset-normalizer<4,>=2 in c:\\users\\hasan\\anaconda3\\envs\\tensorflow_gpu_zein\\lib\\site-packages (from requests->kaggle->opendatasets) (3.1.0)\n",
      "Requirement already satisfied: idna<4,>=2.5 in c:\\users\\hasan\\anaconda3\\envs\\tensorflow_gpu_zein\\lib\\site-packages (from requests->kaggle->opendatasets) (3.4)\n",
      "Note: you may need to restart the kernel to use updated packages.\n"
     ]
    },
    {
     "name": "stderr",
     "output_type": "stream",
     "text": [
      "WARNING: Ignoring invalid distribution -rotobuf (c:\\users\\hasan\\anaconda3\\envs\\tensorflow_gpu_zein\\lib\\site-packages)\n",
      "WARNING: Ignoring invalid distribution -rotobuf (c:\\users\\hasan\\anaconda3\\envs\\tensorflow_gpu_zein\\lib\\site-packages)\n",
      "WARNING: Ignoring invalid distribution -rotobuf (c:\\users\\hasan\\anaconda3\\envs\\tensorflow_gpu_zein\\lib\\site-packages)\n",
      "WARNING: Ignoring invalid distribution -rotobuf (c:\\users\\hasan\\anaconda3\\envs\\tensorflow_gpu_zein\\lib\\site-packages)\n",
      "WARNING: Ignoring invalid distribution -rotobuf (c:\\users\\hasan\\anaconda3\\envs\\tensorflow_gpu_zein\\lib\\site-packages)\n",
      "WARNING: Ignoring invalid distribution -rotobuf (c:\\users\\hasan\\anaconda3\\envs\\tensorflow_gpu_zein\\lib\\site-packages)\n"
     ]
    }
   ],
   "source": [
    "pip install opendatasets"
   ]
  },
  {
   "cell_type": "code",
   "execution_count": 3,
   "metadata": {
    "tags": []
   },
   "outputs": [],
   "source": [
    "# Library to dataset\n",
    "import opendatasets as od\n",
    "import os\n",
    "import zipfile\n",
    "import numpy as np\n",
    "\n",
    "# Surpress Warnings\n",
    "import warnings\n",
    "warnings.filterwarnings('ignore')\n",
    "os.environ['TF_CPP_MIN_LOG_LEVEL'] = '3' \n",
    "# library visualization\n",
    "import matplotlib.pyplot as plt\n",
    "\n",
    "# Library Tensorflow\n",
    "import tensorflow as tf\n",
    "from tensorflow import keras\n",
    "from tensorflow.keras.preprocessing.image import ImageDataGenerator\n",
    "from tensorflow.keras.callbacks import ModelCheckpoint, EarlyStopping, ReduceLROnPlateau\n",
    "from tensorflow.keras.applications.densenet import DenseNet121\n",
    "# Others\n",
    "import shutil\n",
    "import random"
   ]
  },
  {
   "attachments": {},
   "cell_type": "markdown",
   "metadata": {},
   "source": [
    "# Load dataset"
   ]
  },
  {
   "cell_type": "code",
   "execution_count": 4,
   "metadata": {
    "tags": []
   },
   "outputs": [
    {
     "name": "stdout",
     "output_type": "stream",
     "text": [
      "==========================Training Data====================\n",
      "Found 4033 files belonging to 2 classes.\n",
      "==========================Validation Data====================\n",
      "Found 962 files belonging to 2 classes.\n"
     ]
    }
   ],
   "source": [
    "# Load dataset\n",
    "print(\"==========================Training Data====================\")\n",
    "train_data = tf.keras.preprocessing.image_dataset_from_directory(\n",
    "    \"Dataset/Bell_pepper/train\",\n",
    "    label_mode=\"categorical\",\n",
    "    class_names= ['Pepper bell Bacterial spot', 'Pepper bell healthy'],\n",
    "    color_mode=\"rgb\",\n",
    "    batch_size=1,\n",
    "    image_size=(256, 256),\n",
    "    shuffle=True,\n",
    "    seed=123\n",
    ")\n",
    "print(\"==========================Validation Data====================\")\n",
    "val_data = tf.keras.preprocessing.image_dataset_from_directory(\n",
    "    \"Dataset/Bell_pepper/test\",\n",
    "    label_mode=\"categorical\",\n",
    "    class_names= ['Pepper bell Bacterial spot', 'Pepper bell healthy'],\n",
    "    color_mode=\"rgb\",\n",
    "    batch_size=1,\n",
    "    image_size=(256, 256),\n",
    "    shuffle=True,\n",
    "    seed=123\n",
    ")"
   ]
  },
  {
   "cell_type": "code",
   "execution_count": 5,
   "metadata": {
    "tags": []
   },
   "outputs": [
    {
     "name": "stdout",
     "output_type": "stream",
     "text": [
      "Found 4033 images belonging to 2 classes.\n",
      "Found 962 images belonging to 2 classes.\n"
     ]
    }
   ],
   "source": [
    "# All images will be rescaled by 1./256. and Augmented\n",
    "train_datagen = ImageDataGenerator(rescale = 1.0/256.,\n",
    "                                   rotation_range=40,\n",
    "                                   width_shift_range=0.2,\n",
    "                                   height_shift_range=0.2,\n",
    "                                   shear_range=0.2,\n",
    "                                   zoom_range=0.2,\n",
    "                                   horizontal_flip=True,\n",
    "                                   fill_mode='nearest')\n",
    "\n",
    "test_datagen  = ImageDataGenerator(rescale = 1.0/256.)\n",
    "\n",
    "# --------------------\n",
    "# Flow training images in batches of 20 using train_datagen generator\n",
    "# --------------------\n",
    "train_generator = train_datagen.flow_from_directory(\"Dataset/Bell_pepper/train\",\n",
    "                                                    batch_size=20,\n",
    "                                                    class_mode='categorical',\n",
    "                                                    target_size=(224, 224))     \n",
    "# --------------------\n",
    "# Flow validation images in batches of 20 using test_datagen generator\n",
    "# --------------------\n",
    "validation_generator =  test_datagen.flow_from_directory(\"Dataset/Bell_pepper/test\",\n",
    "                                                         batch_size=20,\n",
    "                                                         class_mode  = 'categorical',\n",
    "                                                         target_size = (224, 224))"
   ]
  },
  {
   "attachments": {},
   "cell_type": "markdown",
   "metadata": {},
   "source": [
    "# List Resource"
   ]
  },
  {
   "cell_type": "code",
   "execution_count": 6,
   "metadata": {
    "tags": []
   },
   "outputs": [
    {
     "name": "stdout",
     "output_type": "stream",
     "text": [
      "Sat May 27 18:06:08 2023       \n",
      "+---------------------------------------------------------------------------------------+\n",
      "| NVIDIA-SMI 532.03                 Driver Version: 532.03       CUDA Version: 12.1     |\n",
      "|-----------------------------------------+----------------------+----------------------+\n",
      "| GPU  Name                      TCC/WDDM | Bus-Id        Disp.A | Volatile Uncorr. ECC |\n",
      "| Fan  Temp  Perf            Pwr:Usage/Cap|         Memory-Usage | GPU-Util  Compute M. |\n",
      "|                                         |                      |               MIG M. |\n",
      "|=========================================+======================+======================|\n",
      "|   0  NVIDIA GeForce RTX 3060 L...  WDDM | 00000000:01:00.0  On |                  N/A |\n",
      "| N/A   54C    P0               36W /  N/A|   4445MiB /  6144MiB |      5%      Default |\n",
      "|                                         |                      |                  N/A |\n",
      "+-----------------------------------------+----------------------+----------------------+\n",
      "                                                                                         \n",
      "+---------------------------------------------------------------------------------------+\n",
      "| Processes:                                                                            |\n",
      "|  GPU   GI   CI        PID   Type   Process name                            GPU Memory |\n",
      "|        ID   ID                                                             Usage      |\n",
      "|=======================================================================================|\n",
      "|    0   N/A  N/A      2012    C+G   ...2.0_x64__cv1g1gvanyjgm\\WhatsApp.exe    N/A      |\n",
      "|    0   N/A  N/A      2668    C+G   ...siveControlPanel\\SystemSettings.exe    N/A      |\n",
      "|    0   N/A  N/A      6332      C   ...envs\\tensorflow_gpu_zein\\python.exe    N/A      |\n",
      "|    0   N/A  N/A      7012    C+G   ...64__v826wp6bftszj\\TranslucentTB.exe    N/A      |\n",
      "|    0   N/A  N/A      9000    C+G   ...les\\AMD\\CNext\\CNext\\AMDRSSrcExt.exe    N/A      |\n",
      "|    0   N/A  N/A     10052    C+G   C:\\WINDOWS\\explorer.exe                   N/A      |\n",
      "|    0   N/A  N/A     12016    C+G   ...nt.CBS_cw5n1h2txyewy\\SearchHost.exe    N/A      |\n",
      "|    0   N/A  N/A     12076    C+G   ...2txyewy\\StartMenuExperienceHost.exe    N/A      |\n",
      "|    0   N/A  N/A     13880    C+G   ...les\\Microsoft OneDrive\\OneDrive.exe    N/A      |\n",
      "|    0   N/A  N/A     14676    C+G   ...ekyb3d8bbwe\\PhoneExperienceHost.exe    N/A      |\n",
      "|    0   N/A  N/A     16584    C+G   ...oogle\\Chrome\\Application\\chrome.exe    N/A      |\n",
      "|    0   N/A  N/A     17064    C+G   ...1.0_x64__t4vj0pshhgkwm\\Telegram.exe    N/A      |\n",
      "|    0   N/A  N/A     18404    C+G   ...GeForce Experience\\NVIDIA Share.exe    N/A      |\n",
      "|    0   N/A  N/A     23224    C+G   ...1.0_x64__8wekyb3d8bbwe\\Video.UI.exe    N/A      |\n",
      "|    0   N/A  N/A     23568    C+G   ...on\\113.0.1774.50\\msedgewebview2.exe    N/A      |\n",
      "|    0   N/A  N/A     24300    C+G   ...les\\Microsoft OneDrive\\OneDrive.exe    N/A      |\n",
      "|    0   N/A  N/A     24364    C+G   ...\\AMD\\CNext\\CNext\\RadeonSoftware.exe    N/A      |\n",
      "|    0   N/A  N/A     26028    C+G   ...5n1h2txyewy\\ShellExperienceHost.exe    N/A      |\n",
      "|    0   N/A  N/A     26432    C+G   ...Programs\\Microsoft VS Code\\Code.exe    N/A      |\n",
      "+---------------------------------------------------------------------------------------+\n"
     ]
    }
   ],
   "source": [
    "# Check GPU\n",
    "!nvidia-smi"
   ]
  },
  {
   "cell_type": "code",
   "execution_count": 7,
   "metadata": {
    "tags": []
   },
   "outputs": [
    {
     "data": {
      "text/plain": [
       "[PhysicalDevice(name='/physical_device:GPU:0', device_type='GPU')]"
      ]
     },
     "execution_count": 7,
     "metadata": {},
     "output_type": "execute_result"
    }
   ],
   "source": [
    "# Lis physical devices\n",
    "devices = tf.config.experimental.list_physical_devices(\"GPU\")\n",
    "devices"
   ]
  },
  {
   "cell_type": "code",
   "execution_count": 8,
   "metadata": {
    "tags": []
   },
   "outputs": [
    {
     "name": "stdout",
     "output_type": "stream",
     "text": [
      "INFO:tensorflow:Using MirroredStrategy with devices ('/job:localhost/replica:0/task:0/device:GPU:0',)\n"
     ]
    }
   ],
   "source": [
    "# Define the GPU strategy\n",
    "mirrored_strategy = tf.distribute.MirroredStrategy(devices=[\"/gpu:0\"])"
   ]
  },
  {
   "attachments": {},
   "cell_type": "markdown",
   "metadata": {},
   "source": [
    "# Modelling Augmentation"
   ]
  },
  {
   "attachments": {},
   "cell_type": "markdown",
   "metadata": {},
   "source": [
    "## DenseNet Model 1"
   ]
  },
  {
   "cell_type": "code",
   "execution_count": 9,
   "metadata": {
    "tags": []
   },
   "outputs": [],
   "source": [
    "# Difine the callbacks\n",
    "# Save the best model\n",
    "checkpoint_callback = ModelCheckpoint(filepath=\"BellPaper_DenseNet_model1_Based_Augmented\", save_best_only=True, monitor=\"val_accuracy\", mode=\"max\", verbose=1)\n",
    "\n",
    "# Early stopping\n",
    "early_stopping_callback = EarlyStopping(monitor=\"val_accuracy\", mode=\"max\", patience=20, verbose=1, restore_best_weights=True)\n",
    "\n",
    "# Reduce learning rate\n",
    "reduce_lr_callback = ReduceLROnPlateau(monitor=\"val_loss\", factor=0.1, patience=5, verbose=1, mode=\"min\", min_delta=0.0001, cooldown=0, min_lr=0)\n",
    "\n",
    "# Callbacks list\n",
    "callbacks=[checkpoint_callback, early_stopping_callback, reduce_lr_callback]"
   ]
  },
  {
   "cell_type": "code",
   "execution_count": 10,
   "metadata": {
    "tags": []
   },
   "outputs": [
    {
     "name": "stdout",
     "output_type": "stream",
     "text": [
      "Model: \"sequential\"\n",
      "_________________________________________________________________\n",
      " Layer (type)                Output Shape              Param #   \n",
      "=================================================================\n",
      " densenet121 (Functional)    (None, 7, 7, 1024)        7037504   \n",
      "                                                                 \n",
      " global_max_pooling2d (Globa  (None, 1024)             0         \n",
      " lMaxPooling2D)                                                  \n",
      "                                                                 \n",
      " dropout (Dropout)           (None, 1024)              0         \n",
      "                                                                 \n",
      " dense (Dense)               (None, 256)               262400    \n",
      "                                                                 \n",
      " dense_1 (Dense)             (None, 2)                 514       \n",
      "                                                                 \n",
      "=================================================================\n",
      "Total params: 7,300,418\n",
      "Trainable params: 7,216,770\n",
      "Non-trainable params: 83,648\n",
      "_________________________________________________________________\n"
     ]
    }
   ],
   "source": [
    "# Define DIY Model\n",
    "DenseNet_model = tf.keras.models.Sequential([\n",
    "    # DenseNet121 Layer\n",
    "    DenseNet121(include_top=False,weights='imagenet',input_shape=(224, 224, 3)),\n",
    "    # Global Max Pooling Layer\n",
    "    tf.keras.layers.GlobalMaxPooling2D(),\n",
    "    # Drop Out Layer\n",
    "    tf.keras.layers.Dropout(0.2),\n",
    "    # 256 neuron hidden layer\n",
    "    tf.keras.layers.Dense(256, activation='relu'),\n",
    "    # Output\n",
    "    tf.keras.layers.Dense(2, activation='softmax') \n",
    "  ])\n",
    "\n",
    "\n",
    "# Compile Model\n",
    "DenseNet_model.compile(loss='categorical_crossentropy',optimizer=tf.keras.optimizers.Adam(), metrics=['accuracy']) \n",
    "\n",
    "# Model Summary\n",
    "DenseNet_model.summary()"
   ]
  },
  {
   "cell_type": "code",
   "execution_count": 11,
   "metadata": {
    "tags": []
   },
   "outputs": [
    {
     "name": "stdout",
     "output_type": "stream",
     "text": [
      "Epoch 1/100\n",
      "202/202 [==============================] - ETA: 0s - loss: 0.3845 - accuracy: 0.9422\n",
      "Epoch 1: val_accuracy improved from -inf to 0.99272, saving model to BellPaper_DenseNet_model1_Based_Augmented\n"
     ]
    },
    {
     "name": "stderr",
     "output_type": "stream",
     "text": [
      "WARNING:absl:Found untraced functions such as _jit_compiled_convolution_op, _jit_compiled_convolution_op, _jit_compiled_convolution_op, _jit_compiled_convolution_op, _jit_compiled_convolution_op while saving (showing 5 of 120). These functions will not be directly callable after loading.\n"
     ]
    },
    {
     "name": "stdout",
     "output_type": "stream",
     "text": [
      "INFO:tensorflow:Assets written to: BellPaper_DenseNet_model1_Based_Augmented\\assets\n"
     ]
    },
    {
     "name": "stderr",
     "output_type": "stream",
     "text": [
      "INFO:tensorflow:Assets written to: BellPaper_DenseNet_model1_Based_Augmented\\assets\n"
     ]
    },
    {
     "name": "stdout",
     "output_type": "stream",
     "text": [
      "202/202 [==============================] - 92s 386ms/step - loss: 0.3845 - accuracy: 0.9422 - val_loss: 0.0465 - val_accuracy: 0.9927 - lr: 0.0010\n",
      "Epoch 2/100\n",
      "202/202 [==============================] - ETA: 0s - loss: 0.0924 - accuracy: 0.9702\n",
      "Epoch 2: val_accuracy did not improve from 0.99272\n",
      "202/202 [==============================] - 38s 185ms/step - loss: 0.0924 - accuracy: 0.9702 - val_loss: 0.1767 - val_accuracy: 0.8940 - lr: 0.0010\n",
      "Epoch 3/100\n",
      "202/202 [==============================] - ETA: 0s - loss: 0.0528 - accuracy: 0.9826\n",
      "Epoch 3: val_accuracy did not improve from 0.99272\n",
      "202/202 [==============================] - 37s 180ms/step - loss: 0.0528 - accuracy: 0.9826 - val_loss: 0.1126 - val_accuracy: 0.9511 - lr: 0.0010\n",
      "Epoch 4/100\n",
      "202/202 [==============================] - ETA: 0s - loss: 0.0508 - accuracy: 0.9817\n",
      "Epoch 4: val_accuracy improved from 0.99272 to 0.99688, saving model to BellPaper_DenseNet_model1_Based_Augmented\n"
     ]
    },
    {
     "name": "stderr",
     "output_type": "stream",
     "text": [
      "WARNING:absl:Found untraced functions such as _jit_compiled_convolution_op, _jit_compiled_convolution_op, _jit_compiled_convolution_op, _jit_compiled_convolution_op, _jit_compiled_convolution_op while saving (showing 5 of 120). These functions will not be directly callable after loading.\n"
     ]
    },
    {
     "name": "stdout",
     "output_type": "stream",
     "text": [
      "INFO:tensorflow:Assets written to: BellPaper_DenseNet_model1_Based_Augmented\\assets\n"
     ]
    },
    {
     "name": "stderr",
     "output_type": "stream",
     "text": [
      "INFO:tensorflow:Assets written to: BellPaper_DenseNet_model1_Based_Augmented\\assets\n"
     ]
    },
    {
     "name": "stdout",
     "output_type": "stream",
     "text": [
      "202/202 [==============================] - 74s 367ms/step - loss: 0.0508 - accuracy: 0.9817 - val_loss: 0.0106 - val_accuracy: 0.9969 - lr: 0.0010\n",
      "Epoch 5/100\n",
      "202/202 [==============================] - ETA: 0s - loss: 0.0440 - accuracy: 0.9831\n",
      "Epoch 5: val_accuracy did not improve from 0.99688\n",
      "202/202 [==============================] - 38s 186ms/step - loss: 0.0440 - accuracy: 0.9831 - val_loss: 0.0250 - val_accuracy: 0.9927 - lr: 0.0010\n",
      "Epoch 6/100\n",
      "202/202 [==============================] - ETA: 0s - loss: 0.0403 - accuracy: 0.9883\n",
      "Epoch 6: val_accuracy did not improve from 0.99688\n",
      "202/202 [==============================] - 38s 186ms/step - loss: 0.0403 - accuracy: 0.9883 - val_loss: 0.0229 - val_accuracy: 0.9927 - lr: 0.0010\n",
      "Epoch 7/100\n",
      "202/202 [==============================] - ETA: 0s - loss: 0.0625 - accuracy: 0.9787\n",
      "Epoch 7: val_accuracy did not improve from 0.99688\n",
      "202/202 [==============================] - 38s 188ms/step - loss: 0.0625 - accuracy: 0.9787 - val_loss: 0.0170 - val_accuracy: 0.9948 - lr: 0.0010\n",
      "Epoch 8/100\n",
      "202/202 [==============================] - ETA: 0s - loss: 0.0286 - accuracy: 0.9886\n",
      "Epoch 8: val_accuracy did not improve from 0.99688\n",
      "202/202 [==============================] - 38s 187ms/step - loss: 0.0286 - accuracy: 0.9886 - val_loss: 0.0866 - val_accuracy: 0.9751 - lr: 0.0010\n",
      "Epoch 9/100\n",
      "202/202 [==============================] - ETA: 0s - loss: 0.0339 - accuracy: 0.9854\n",
      "Epoch 9: val_accuracy did not improve from 0.99688\n",
      "\n",
      "Epoch 9: ReduceLROnPlateau reducing learning rate to 0.00010000000474974513.\n",
      "202/202 [==============================] - 38s 189ms/step - loss: 0.0339 - accuracy: 0.9854 - val_loss: 0.1546 - val_accuracy: 0.9428 - lr: 0.0010\n",
      "Epoch 10/100\n",
      "202/202 [==============================] - ETA: 0s - loss: 0.0250 - accuracy: 0.9913\n",
      "Epoch 10: val_accuracy improved from 0.99688 to 0.99896, saving model to BellPaper_DenseNet_model1_Based_Augmented\n"
     ]
    },
    {
     "name": "stderr",
     "output_type": "stream",
     "text": [
      "WARNING:absl:Found untraced functions such as _jit_compiled_convolution_op, _jit_compiled_convolution_op, _jit_compiled_convolution_op, _jit_compiled_convolution_op, _jit_compiled_convolution_op while saving (showing 5 of 120). These functions will not be directly callable after loading.\n"
     ]
    },
    {
     "name": "stdout",
     "output_type": "stream",
     "text": [
      "INFO:tensorflow:Assets written to: BellPaper_DenseNet_model1_Based_Augmented\\assets\n"
     ]
    },
    {
     "name": "stderr",
     "output_type": "stream",
     "text": [
      "INFO:tensorflow:Assets written to: BellPaper_DenseNet_model1_Based_Augmented\\assets\n"
     ]
    },
    {
     "name": "stdout",
     "output_type": "stream",
     "text": [
      "202/202 [==============================] - 75s 372ms/step - loss: 0.0250 - accuracy: 0.9913 - val_loss: 0.0050 - val_accuracy: 0.9990 - lr: 1.0000e-04\n",
      "Epoch 11/100\n",
      "202/202 [==============================] - ETA: 0s - loss: 0.0178 - accuracy: 0.9918\n",
      "Epoch 11: val_accuracy did not improve from 0.99896\n",
      "202/202 [==============================] - 38s 186ms/step - loss: 0.0178 - accuracy: 0.9918 - val_loss: 0.0042 - val_accuracy: 0.9990 - lr: 1.0000e-04\n",
      "Epoch 12/100\n",
      "202/202 [==============================] - ETA: 0s - loss: 0.0178 - accuracy: 0.9923\n",
      "Epoch 12: val_accuracy did not improve from 0.99896\n",
      "202/202 [==============================] - 38s 186ms/step - loss: 0.0178 - accuracy: 0.9923 - val_loss: 0.0037 - val_accuracy: 0.9990 - lr: 1.0000e-04\n",
      "Epoch 13/100\n",
      "202/202 [==============================] - ETA: 0s - loss: 0.0171 - accuracy: 0.9923\n",
      "Epoch 13: val_accuracy did not improve from 0.99896\n",
      "202/202 [==============================] - 38s 187ms/step - loss: 0.0171 - accuracy: 0.9923 - val_loss: 0.0042 - val_accuracy: 0.9990 - lr: 1.0000e-04\n",
      "Epoch 14/100\n",
      "202/202 [==============================] - ETA: 0s - loss: 0.0136 - accuracy: 0.9936\n",
      "Epoch 14: val_accuracy did not improve from 0.99896\n",
      "202/202 [==============================] - 39s 190ms/step - loss: 0.0136 - accuracy: 0.9936 - val_loss: 0.0057 - val_accuracy: 0.9990 - lr: 1.0000e-04\n",
      "Epoch 15/100\n",
      "202/202 [==============================] - ETA: 0s - loss: 0.0133 - accuracy: 0.9945\n",
      "Epoch 15: val_accuracy did not improve from 0.99896\n",
      "202/202 [==============================] - 38s 188ms/step - loss: 0.0133 - accuracy: 0.9945 - val_loss: 0.0050 - val_accuracy: 0.9990 - lr: 1.0000e-04\n",
      "Epoch 16/100\n",
      "202/202 [==============================] - ETA: 0s - loss: 0.0143 - accuracy: 0.9945\n",
      "Epoch 16: val_accuracy did not improve from 0.99896\n",
      "202/202 [==============================] - 38s 189ms/step - loss: 0.0143 - accuracy: 0.9945 - val_loss: 0.0052 - val_accuracy: 0.9990 - lr: 1.0000e-04\n",
      "Epoch 17/100\n",
      "202/202 [==============================] - ETA: 0s - loss: 0.0115 - accuracy: 0.9963\n",
      "Epoch 17: val_accuracy did not improve from 0.99896\n",
      "\n",
      "Epoch 17: ReduceLROnPlateau reducing learning rate to 1.0000000474974514e-05.\n",
      "202/202 [==============================] - 39s 193ms/step - loss: 0.0115 - accuracy: 0.9963 - val_loss: 0.0047 - val_accuracy: 0.9990 - lr: 1.0000e-04\n",
      "Epoch 18/100\n",
      "202/202 [==============================] - ETA: 0s - loss: 0.0131 - accuracy: 0.9953\n",
      "Epoch 18: val_accuracy did not improve from 0.99896\n",
      "202/202 [==============================] - 39s 191ms/step - loss: 0.0131 - accuracy: 0.9953 - val_loss: 0.0065 - val_accuracy: 0.9979 - lr: 1.0000e-05\n",
      "Epoch 19/100\n",
      "202/202 [==============================] - ETA: 0s - loss: 0.0100 - accuracy: 0.9958\n",
      "Epoch 19: val_accuracy did not improve from 0.99896\n",
      "202/202 [==============================] - 42s 209ms/step - loss: 0.0100 - accuracy: 0.9958 - val_loss: 0.0060 - val_accuracy: 0.9979 - lr: 1.0000e-05\n",
      "Epoch 20/100\n",
      "202/202 [==============================] - ETA: 0s - loss: 0.0094 - accuracy: 0.9963\n",
      "Epoch 20: val_accuracy did not improve from 0.99896\n",
      "202/202 [==============================] - 41s 203ms/step - loss: 0.0094 - accuracy: 0.9963 - val_loss: 0.0057 - val_accuracy: 0.9990 - lr: 1.0000e-05\n",
      "Epoch 21/100\n",
      "202/202 [==============================] - ETA: 0s - loss: 0.0084 - accuracy: 0.9978\n",
      "Epoch 21: val_accuracy did not improve from 0.99896\n",
      "202/202 [==============================] - 44s 219ms/step - loss: 0.0084 - accuracy: 0.9978 - val_loss: 0.0055 - val_accuracy: 0.9990 - lr: 1.0000e-05\n",
      "Epoch 22/100\n",
      "202/202 [==============================] - ETA: 0s - loss: 0.0113 - accuracy: 0.9958\n",
      "Epoch 22: val_accuracy did not improve from 0.99896\n",
      "\n",
      "Epoch 22: ReduceLROnPlateau reducing learning rate to 1.0000000656873453e-06.\n",
      "202/202 [==============================] - 45s 220ms/step - loss: 0.0113 - accuracy: 0.9958 - val_loss: 0.0049 - val_accuracy: 0.9990 - lr: 1.0000e-05\n",
      "Epoch 23/100\n",
      "202/202 [==============================] - ETA: 0s - loss: 0.0101 - accuracy: 0.9963\n",
      "Epoch 23: val_accuracy did not improve from 0.99896\n",
      "202/202 [==============================] - 45s 223ms/step - loss: 0.0101 - accuracy: 0.9963 - val_loss: 0.0056 - val_accuracy: 0.9990 - lr: 1.0000e-06\n",
      "Epoch 24/100\n",
      "202/202 [==============================] - ETA: 0s - loss: 0.0095 - accuracy: 0.9968\n",
      "Epoch 24: val_accuracy did not improve from 0.99896\n",
      "202/202 [==============================] - 42s 209ms/step - loss: 0.0095 - accuracy: 0.9968 - val_loss: 0.0057 - val_accuracy: 0.9990 - lr: 1.0000e-06\n",
      "Epoch 25/100\n",
      "202/202 [==============================] - ETA: 0s - loss: 0.0103 - accuracy: 0.9958\n",
      "Epoch 25: val_accuracy did not improve from 0.99896\n",
      "202/202 [==============================] - 44s 215ms/step - loss: 0.0103 - accuracy: 0.9958 - val_loss: 0.0056 - val_accuracy: 0.9990 - lr: 1.0000e-06\n",
      "Epoch 26/100\n",
      "202/202 [==============================] - ETA: 0s - loss: 0.0106 - accuracy: 0.9953\n",
      "Epoch 26: val_accuracy did not improve from 0.99896\n",
      "202/202 [==============================] - 45s 222ms/step - loss: 0.0106 - accuracy: 0.9953 - val_loss: 0.0057 - val_accuracy: 0.9990 - lr: 1.0000e-06\n",
      "Epoch 27/100\n",
      "202/202 [==============================] - ETA: 0s - loss: 0.0090 - accuracy: 0.9973\n",
      "Epoch 27: val_accuracy did not improve from 0.99896\n",
      "\n",
      "Epoch 27: ReduceLROnPlateau reducing learning rate to 1.0000001111620805e-07.\n",
      "202/202 [==============================] - 43s 212ms/step - loss: 0.0090 - accuracy: 0.9973 - val_loss: 0.0057 - val_accuracy: 0.9990 - lr: 1.0000e-06\n",
      "Epoch 28/100\n",
      "202/202 [==============================] - ETA: 0s - loss: 0.0116 - accuracy: 0.9965\n",
      "Epoch 28: val_accuracy did not improve from 0.99896\n",
      "202/202 [==============================] - 44s 218ms/step - loss: 0.0116 - accuracy: 0.9965 - val_loss: 0.0058 - val_accuracy: 0.9990 - lr: 1.0000e-07\n",
      "Epoch 29/100\n",
      "202/202 [==============================] - ETA: 0s - loss: 0.0087 - accuracy: 0.9960\n",
      "Epoch 29: val_accuracy did not improve from 0.99896\n",
      "202/202 [==============================] - 44s 219ms/step - loss: 0.0087 - accuracy: 0.9960 - val_loss: 0.0057 - val_accuracy: 0.9990 - lr: 1.0000e-07\n",
      "Epoch 30/100\n",
      "202/202 [==============================] - ETA: 0s - loss: 0.0096 - accuracy: 0.9970\n",
      "Epoch 30: val_accuracy did not improve from 0.99896\n",
      "Restoring model weights from the end of the best epoch: 10.\n",
      "202/202 [==============================] - 45s 221ms/step - loss: 0.0096 - accuracy: 0.9970 - val_loss: 0.0057 - val_accuracy: 0.9990 - lr: 1.0000e-07\n",
      "Epoch 30: early stopping\n"
     ]
    }
   ],
   "source": [
    "# Define the number of epochs\n",
    "num_epochs = 100\n",
    "\n",
    "# Train the model\n",
    "history_DenseNet_model_1 = DenseNet_model.fit(train_generator, epochs=num_epochs, validation_data=validation_generator, callbacks=callbacks)"
   ]
  },
  {
   "cell_type": "code",
   "execution_count": 12,
   "metadata": {
    "tags": []
   },
   "outputs": [
    {
     "data": {
      "text/plain": [
       "<matplotlib.legend.Legend at 0x215553aa770>"
      ]
     },
     "execution_count": 12,
     "metadata": {},
     "output_type": "execute_result"
    },
    {
     "data": {
      "image/png": "[encoded data removed]",
      "text/plain": [
       "<Figure size 640x480 with 1 Axes>"
      ]
     },
     "metadata": {},
     "output_type": "display_data"
    },
    {
     "data": {
      "image/png": "[encoded data removed]",
      "text/plain": [
       "<Figure size 640x480 with 1 Axes>"
      ]
     },
     "metadata": {},
     "output_type": "display_data"
    }
   ],
   "source": [
    "#-----------------------------------------------------------\n",
    "# Retrieve a list of list results on training and test data\n",
    "# sets for each training epoch\n",
    "#-----------------------------------------------------------\n",
    "acc      = history_DenseNet_model_1.history['accuracy' ]\n",
    "val_acc  = history_DenseNet_model_1.history['val_accuracy' ]\n",
    "loss     = history_DenseNet_model_1.history['loss' ]\n",
    "val_loss = history_DenseNet_model_1.history['val_loss' ]\n",
    "\n",
    "epochs   = range(len(acc)) # Get number of epochs\n",
    "\n",
    "#------------------------------------------------\n",
    "# Plot training and validation accuracy per epoch\n",
    "#------------------------------------------------\n",
    "plt.plot  (epochs, acc )\n",
    "plt.plot  (epochs, val_acc )\n",
    "plt.title ('Training and validation accuracy DenseNet Model Augmented 1')\n",
    "plt.legend(['train', 'val'], loc='upper left')\n",
    "plt.figure()\n",
    "\n",
    "#------------------------------------------------\n",
    "# Plot training and validation loss per epoch\n",
    "#------------------------------------------------\n",
    "plt.plot  (epochs, loss)\n",
    "plt.plot  (epochs, val_loss)\n",
    "plt.title ('Training and validation loss DenseNet Model Augmented 1')\n",
    "plt.legend(['train', 'val'], loc='upper left')"
   ]
  },
  {
   "attachments": {},
   "cell_type": "markdown",
   "metadata": {},
   "source": [
    "## DenseNet Model 2"
   ]
  },
  {
   "cell_type": "code",
   "execution_count": 13,
   "metadata": {
    "tags": []
   },
   "outputs": [],
   "source": [
    "# Difine the callbacks\n",
    "# Save the best model\n",
    "checkpoint_callback = ModelCheckpoint(filepath=\"BellPaper_DenseNet_model2_Based_Augmented\", save_best_only=True, monitor=\"val_accuracy\", mode=\"max\", verbose=1)\n",
    "\n",
    "# Early stopping\n",
    "early_stopping_callback = EarlyStopping(monitor=\"val_accuracy\", mode=\"max\", patience=20, verbose=1, restore_best_weights=True)\n",
    "\n",
    "# Reduce learning rate\n",
    "reduce_lr_callback = ReduceLROnPlateau(monitor=\"val_loss\", factor=0.1, patience=5, verbose=1, mode=\"min\", min_delta=0.0001, cooldown=0, min_lr=0)\n",
    "\n",
    "# Callbacks list\n",
    "callbacks=[checkpoint_callback, early_stopping_callback, reduce_lr_callback]"
   ]
  },
  {
   "cell_type": "code",
   "execution_count": 14,
   "metadata": {
    "tags": []
   },
   "outputs": [
    {
     "name": "stdout",
     "output_type": "stream",
     "text": [
      "Model: \"sequential_1\"\n",
      "_________________________________________________________________\n",
      " Layer (type)                Output Shape              Param #   \n",
      "=================================================================\n",
      " densenet121 (Functional)    (None, 7, 7, 1024)        7037504   \n",
      "                                                                 \n",
      " global_average_pooling2d (G  (None, 1024)             0         \n",
      " lobalAveragePooling2D)                                          \n",
      "                                                                 \n",
      " dropout_1 (Dropout)         (None, 1024)              0         \n",
      "                                                                 \n",
      " dense_2 (Dense)             (None, 256)               262400    \n",
      "                                                                 \n",
      " dense_3 (Dense)             (None, 2)                 514       \n",
      "                                                                 \n",
      "=================================================================\n",
      "Total params: 7,300,418\n",
      "Trainable params: 7,216,770\n",
      "Non-trainable params: 83,648\n",
      "_________________________________________________________________\n"
     ]
    }
   ],
   "source": [
    "# Define DIY Model\n",
    "DenseNet_model_2 = tf.keras.models.Sequential([\n",
    "    # DenseNet121 Layer\n",
    "    DenseNet121(include_top=False,weights='imagenet',input_shape=(224, 224, 3)),\n",
    "    # Global Average Pooling Layer\n",
    "    tf.keras.layers.GlobalAveragePooling2D(),\n",
    "    # Drop Out Layer\n",
    "    tf.keras.layers.Dropout(0.2),\n",
    "    # 256 neuron hidden layer\n",
    "    tf.keras.layers.Dense(256, activation='relu'),\n",
    "    # Output\n",
    "    tf.keras.layers.Dense(2, activation='softmax') \n",
    "  ])\n",
    "\n",
    "\n",
    "# Compile Model\n",
    "DenseNet_model_2.compile(loss='categorical_crossentropy',optimizer=tf.keras.optimizers.Adam(), metrics=['accuracy']) \n",
    "\n",
    "# Model Summary\n",
    "DenseNet_model_2.summary()"
   ]
  },
  {
   "cell_type": "code",
   "execution_count": 15,
   "metadata": {
    "tags": []
   },
   "outputs": [
    {
     "name": "stdout",
     "output_type": "stream",
     "text": [
      "Epoch 1/100\n",
      "202/202 [==============================] - ETA: 0s - loss: 0.1393 - accuracy: 0.9524\n",
      "Epoch 1: val_accuracy improved from -inf to 0.99064, saving model to BellPaper_DenseNet_model2_Based_Augmented\n"
     ]
    },
    {
     "name": "stderr",
     "output_type": "stream",
     "text": [
      "WARNING:absl:Found untraced functions such as _jit_compiled_convolution_op, _jit_compiled_convolution_op, _jit_compiled_convolution_op, _jit_compiled_convolution_op, _jit_compiled_convolution_op while saving (showing 5 of 120). These functions will not be directly callable after loading.\n"
     ]
    },
    {
     "name": "stdout",
     "output_type": "stream",
     "text": [
      "INFO:tensorflow:Assets written to: BellPaper_DenseNet_model2_Based_Augmented\\assets\n"
     ]
    },
    {
     "name": "stderr",
     "output_type": "stream",
     "text": [
      "INFO:tensorflow:Assets written to: BellPaper_DenseNet_model2_Based_Augmented\\assets\n"
     ]
    },
    {
     "name": "stdout",
     "output_type": "stream",
     "text": [
      "202/202 [==============================] - 98s 436ms/step - loss: 0.1393 - accuracy: 0.9524 - val_loss: 0.0228 - val_accuracy: 0.9906 - lr: 0.0010\n",
      "Epoch 2/100\n",
      "202/202 [==============================] - ETA: 0s - loss: 0.0615 - accuracy: 0.9779\n",
      "Epoch 2: val_accuracy improved from 0.99064 to 0.99688, saving model to BellPaper_DenseNet_model2_Based_Augmented\n"
     ]
    },
    {
     "name": "stderr",
     "output_type": "stream",
     "text": [
      "WARNING:absl:Found untraced functions such as _jit_compiled_convolution_op, _jit_compiled_convolution_op, _jit_compiled_convolution_op, _jit_compiled_convolution_op, _jit_compiled_convolution_op while saving (showing 5 of 120). These functions will not be directly callable after loading.\n"
     ]
    },
    {
     "name": "stdout",
     "output_type": "stream",
     "text": [
      "INFO:tensorflow:Assets written to: BellPaper_DenseNet_model2_Based_Augmented\\assets\n"
     ]
    },
    {
     "name": "stderr",
     "output_type": "stream",
     "text": [
      "INFO:tensorflow:Assets written to: BellPaper_DenseNet_model2_Based_Augmented\\assets\n"
     ]
    },
    {
     "name": "stdout",
     "output_type": "stream",
     "text": [
      "202/202 [==============================] - 82s 405ms/step - loss: 0.0615 - accuracy: 0.9779 - val_loss: 0.0102 - val_accuracy: 0.9969 - lr: 0.0010\n",
      "Epoch 3/100\n",
      "202/202 [==============================] - ETA: 0s - loss: 0.0698 - accuracy: 0.9752\n",
      "Epoch 3: val_accuracy did not improve from 0.99688\n",
      "202/202 [==============================] - 42s 208ms/step - loss: 0.0698 - accuracy: 0.9752 - val_loss: 0.0577 - val_accuracy: 0.9854 - lr: 0.0010\n",
      "Epoch 4/100\n",
      "202/202 [==============================] - ETA: 0s - loss: 0.0746 - accuracy: 0.9759\n",
      "Epoch 4: val_accuracy did not improve from 0.99688\n",
      "202/202 [==============================] - 42s 209ms/step - loss: 0.0746 - accuracy: 0.9759 - val_loss: 0.5956 - val_accuracy: 0.6788 - lr: 0.0010\n",
      "Epoch 5/100\n",
      "202/202 [==============================] - ETA: 0s - loss: 0.0495 - accuracy: 0.9821\n",
      "Epoch 5: val_accuracy did not improve from 0.99688\n",
      "202/202 [==============================] - 42s 208ms/step - loss: 0.0495 - accuracy: 0.9821 - val_loss: 0.2614 - val_accuracy: 0.8836 - lr: 0.0010\n",
      "Epoch 6/100\n",
      "202/202 [==============================] - ETA: 0s - loss: 0.0590 - accuracy: 0.9802\n",
      "Epoch 6: val_accuracy improved from 0.99688 to 0.99896, saving model to BellPaper_DenseNet_model2_Based_Augmented\n"
     ]
    },
    {
     "name": "stderr",
     "output_type": "stream",
     "text": [
      "WARNING:absl:Found untraced functions such as _jit_compiled_convolution_op, _jit_compiled_convolution_op, _jit_compiled_convolution_op, _jit_compiled_convolution_op, _jit_compiled_convolution_op while saving (showing 5 of 120). These functions will not be directly callable after loading.\n"
     ]
    },
    {
     "name": "stdout",
     "output_type": "stream",
     "text": [
      "INFO:tensorflow:Assets written to: BellPaper_DenseNet_model2_Based_Augmented\\assets\n"
     ]
    },
    {
     "name": "stderr",
     "output_type": "stream",
     "text": [
      "INFO:tensorflow:Assets written to: BellPaper_DenseNet_model2_Based_Augmented\\assets\n"
     ]
    },
    {
     "name": "stdout",
     "output_type": "stream",
     "text": [
      "202/202 [==============================] - 83s 413ms/step - loss: 0.0590 - accuracy: 0.9802 - val_loss: 0.0093 - val_accuracy: 0.9990 - lr: 0.0010\n",
      "Epoch 7/100\n",
      "202/202 [==============================] - ETA: 0s - loss: 0.0306 - accuracy: 0.9896\n",
      "Epoch 7: val_accuracy did not improve from 0.99896\n",
      "202/202 [==============================] - 46s 224ms/step - loss: 0.0306 - accuracy: 0.9896 - val_loss: 0.0069 - val_accuracy: 0.9979 - lr: 0.0010\n",
      "Epoch 8/100\n",
      "202/202 [==============================] - ETA: 0s - loss: 0.0314 - accuracy: 0.9864\n",
      "Epoch 8: val_accuracy did not improve from 0.99896\n",
      "202/202 [==============================] - 46s 226ms/step - loss: 0.0314 - accuracy: 0.9864 - val_loss: 0.0567 - val_accuracy: 0.9823 - lr: 0.0010\n",
      "Epoch 9/100\n",
      "202/202 [==============================] - ETA: 0s - loss: 0.0422 - accuracy: 0.9869\n",
      "Epoch 9: val_accuracy did not improve from 0.99896\n",
      "202/202 [==============================] - 45s 221ms/step - loss: 0.0422 - accuracy: 0.9869 - val_loss: 0.0042 - val_accuracy: 0.9979 - lr: 0.0010\n",
      "Epoch 10/100\n",
      "202/202 [==============================] - ETA: 0s - loss: 0.0427 - accuracy: 0.9829\n",
      "Epoch 10: val_accuracy did not improve from 0.99896\n",
      "202/202 [==============================] - 45s 224ms/step - loss: 0.0427 - accuracy: 0.9829 - val_loss: 0.0552 - val_accuracy: 0.9813 - lr: 0.0010\n",
      "Epoch 11/100\n",
      "202/202 [==============================] - ETA: 0s - loss: 0.0809 - accuracy: 0.9740\n",
      "Epoch 11: val_accuracy did not improve from 0.99896\n",
      "202/202 [==============================] - 45s 223ms/step - loss: 0.0809 - accuracy: 0.9740 - val_loss: 0.0033 - val_accuracy: 0.9979 - lr: 0.0010\n",
      "Epoch 12/100\n",
      "202/202 [==============================] - ETA: 0s - loss: 0.0471 - accuracy: 0.9826\n",
      "Epoch 12: val_accuracy did not improve from 0.99896\n",
      "202/202 [==============================] - 45s 223ms/step - loss: 0.0471 - accuracy: 0.9826 - val_loss: 0.0175 - val_accuracy: 0.9948 - lr: 0.0010\n",
      "Epoch 13/100\n",
      "202/202 [==============================] - ETA: 0s - loss: 0.0350 - accuracy: 0.9874\n",
      "Epoch 13: val_accuracy did not improve from 0.99896\n",
      "202/202 [==============================] - 47s 231ms/step - loss: 0.0350 - accuracy: 0.9874 - val_loss: 0.0062 - val_accuracy: 0.9990 - lr: 0.0010\n",
      "Epoch 14/100\n",
      "202/202 [==============================] - ETA: 0s - loss: 0.0371 - accuracy: 0.9856\n",
      "Epoch 14: val_accuracy did not improve from 0.99896\n",
      "202/202 [==============================] - 45s 222ms/step - loss: 0.0371 - accuracy: 0.9856 - val_loss: 0.1068 - val_accuracy: 0.9751 - lr: 0.0010\n",
      "Epoch 15/100\n",
      "202/202 [==============================] - ETA: 0s - loss: 0.0295 - accuracy: 0.9896\n",
      "Epoch 15: val_accuracy did not improve from 0.99896\n",
      "202/202 [==============================] - 44s 219ms/step - loss: 0.0295 - accuracy: 0.9896 - val_loss: 0.0333 - val_accuracy: 0.9917 - lr: 0.0010\n",
      "Epoch 16/100\n",
      "202/202 [==============================] - ETA: 0s - loss: 0.0336 - accuracy: 0.9871\n",
      "Epoch 16: val_accuracy did not improve from 0.99896\n",
      "\n",
      "Epoch 16: ReduceLROnPlateau reducing learning rate to 0.00010000000474974513.\n",
      "202/202 [==============================] - 44s 217ms/step - loss: 0.0336 - accuracy: 0.9871 - val_loss: 0.4721 - val_accuracy: 0.7370 - lr: 0.0010\n",
      "Epoch 17/100\n",
      "202/202 [==============================] - ETA: 0s - loss: 0.0269 - accuracy: 0.9901\n",
      "Epoch 17: val_accuracy did not improve from 0.99896\n",
      "202/202 [==============================] - 45s 220ms/step - loss: 0.0269 - accuracy: 0.9901 - val_loss: 0.0039 - val_accuracy: 0.9990 - lr: 1.0000e-04\n",
      "Epoch 18/100\n",
      "202/202 [==============================] - ETA: 0s - loss: 0.0207 - accuracy: 0.9936\n",
      "Epoch 18: val_accuracy improved from 0.99896 to 1.00000, saving model to BellPaper_DenseNet_model2_Based_Augmented\n"
     ]
    },
    {
     "name": "stderr",
     "output_type": "stream",
     "text": [
      "WARNING:absl:Found untraced functions such as _jit_compiled_convolution_op, _jit_compiled_convolution_op, _jit_compiled_convolution_op, _jit_compiled_convolution_op, _jit_compiled_convolution_op while saving (showing 5 of 120). These functions will not be directly callable after loading.\n"
     ]
    },
    {
     "name": "stdout",
     "output_type": "stream",
     "text": [
      "INFO:tensorflow:Assets written to: BellPaper_DenseNet_model2_Based_Augmented\\assets\n"
     ]
    },
    {
     "name": "stderr",
     "output_type": "stream",
     "text": [
      "INFO:tensorflow:Assets written to: BellPaper_DenseNet_model2_Based_Augmented\\assets\n"
     ]
    },
    {
     "name": "stdout",
     "output_type": "stream",
     "text": [
      "202/202 [==============================] - 85s 422ms/step - loss: 0.0207 - accuracy: 0.9936 - val_loss: 0.0021 - val_accuracy: 1.0000 - lr: 1.0000e-04\n",
      "Epoch 19/100\n",
      "202/202 [==============================] - ETA: 0s - loss: 0.0159 - accuracy: 0.9943\n",
      "Epoch 19: val_accuracy did not improve from 1.00000\n",
      "202/202 [==============================] - 44s 218ms/step - loss: 0.0159 - accuracy: 0.9943 - val_loss: 0.0015 - val_accuracy: 1.0000 - lr: 1.0000e-04\n",
      "Epoch 20/100\n",
      "202/202 [==============================] - ETA: 0s - loss: 0.0173 - accuracy: 0.9938\n",
      "Epoch 20: val_accuracy did not improve from 1.00000\n",
      "202/202 [==============================] - 46s 226ms/step - loss: 0.0173 - accuracy: 0.9938 - val_loss: 0.0021 - val_accuracy: 1.0000 - lr: 1.0000e-04\n",
      "Epoch 21/100\n",
      "202/202 [==============================] - ETA: 0s - loss: 0.0174 - accuracy: 0.9933\n",
      "Epoch 21: val_accuracy did not improve from 1.00000\n",
      "202/202 [==============================] - 44s 218ms/step - loss: 0.0174 - accuracy: 0.9933 - val_loss: 0.0018 - val_accuracy: 1.0000 - lr: 1.0000e-04\n",
      "Epoch 22/100\n",
      "202/202 [==============================] - ETA: 0s - loss: 0.0133 - accuracy: 0.9933\n",
      "Epoch 22: val_accuracy did not improve from 1.00000\n",
      "202/202 [==============================] - 47s 233ms/step - loss: 0.0133 - accuracy: 0.9933 - val_loss: 0.0012 - val_accuracy: 1.0000 - lr: 1.0000e-04\n",
      "Epoch 23/100\n",
      "202/202 [==============================] - ETA: 0s - loss: 0.0110 - accuracy: 0.9958\n",
      "Epoch 23: val_accuracy did not improve from 1.00000\n",
      "202/202 [==============================] - 44s 219ms/step - loss: 0.0110 - accuracy: 0.9958 - val_loss: 9.3702e-04 - val_accuracy: 1.0000 - lr: 1.0000e-04\n",
      "Epoch 24/100\n",
      "202/202 [==============================] - ETA: 0s - loss: 0.0134 - accuracy: 0.9948\n",
      "Epoch 24: val_accuracy did not improve from 1.00000\n",
      "202/202 [==============================] - 44s 219ms/step - loss: 0.0134 - accuracy: 0.9948 - val_loss: 5.6483e-04 - val_accuracy: 1.0000 - lr: 1.0000e-04\n",
      "Epoch 25/100\n",
      "202/202 [==============================] - ETA: 0s - loss: 0.0117 - accuracy: 0.9950\n",
      "Epoch 25: val_accuracy did not improve from 1.00000\n",
      "202/202 [==============================] - 44s 218ms/step - loss: 0.0117 - accuracy: 0.9950 - val_loss: 6.0344e-04 - val_accuracy: 1.0000 - lr: 1.0000e-04\n",
      "Epoch 26/100\n",
      "202/202 [==============================] - ETA: 0s - loss: 0.0111 - accuracy: 0.9963\n",
      "Epoch 26: val_accuracy did not improve from 1.00000\n",
      "202/202 [==============================] - 46s 226ms/step - loss: 0.0111 - accuracy: 0.9963 - val_loss: 4.8611e-04 - val_accuracy: 1.0000 - lr: 1.0000e-04\n",
      "Epoch 27/100\n",
      "202/202 [==============================] - ETA: 0s - loss: 0.0108 - accuracy: 0.9953\n",
      "Epoch 27: val_accuracy did not improve from 1.00000\n",
      "202/202 [==============================] - 45s 220ms/step - loss: 0.0108 - accuracy: 0.9953 - val_loss: 9.4204e-04 - val_accuracy: 1.0000 - lr: 1.0000e-04\n",
      "Epoch 28/100\n",
      "202/202 [==============================] - ETA: 0s - loss: 0.0108 - accuracy: 0.9955\n",
      "Epoch 28: val_accuracy did not improve from 1.00000\n",
      "202/202 [==============================] - 44s 218ms/step - loss: 0.0108 - accuracy: 0.9955 - val_loss: 0.0010 - val_accuracy: 1.0000 - lr: 1.0000e-04\n",
      "Epoch 29/100\n",
      "202/202 [==============================] - ETA: 0s - loss: 0.0103 - accuracy: 0.9953\n",
      "Epoch 29: val_accuracy did not improve from 1.00000\n",
      "\n",
      "Epoch 29: ReduceLROnPlateau reducing learning rate to 1.0000000474974514e-05.\n",
      "202/202 [==============================] - 45s 221ms/step - loss: 0.0103 - accuracy: 0.9953 - val_loss: 0.0020 - val_accuracy: 0.9990 - lr: 1.0000e-04\n",
      "Epoch 30/100\n",
      "202/202 [==============================] - ETA: 0s - loss: 0.0098 - accuracy: 0.9955\n",
      "Epoch 30: val_accuracy did not improve from 1.00000\n",
      "202/202 [==============================] - 44s 216ms/step - loss: 0.0098 - accuracy: 0.9955 - val_loss: 0.0022 - val_accuracy: 0.9990 - lr: 1.0000e-05\n",
      "Epoch 31/100\n",
      "202/202 [==============================] - ETA: 0s - loss: 0.0091 - accuracy: 0.9973\n",
      "Epoch 31: val_accuracy did not improve from 1.00000\n",
      "202/202 [==============================] - 46s 226ms/step - loss: 0.0091 - accuracy: 0.9973 - val_loss: 0.0014 - val_accuracy: 0.9990 - lr: 1.0000e-05\n",
      "Epoch 32/100\n",
      "202/202 [==============================] - ETA: 0s - loss: 0.0083 - accuracy: 0.9973\n",
      "Epoch 32: val_accuracy did not improve from 1.00000\n",
      "202/202 [==============================] - 44s 218ms/step - loss: 0.0083 - accuracy: 0.9973 - val_loss: 0.0011 - val_accuracy: 0.9990 - lr: 1.0000e-05\n",
      "Epoch 33/100\n",
      "202/202 [==============================] - ETA: 0s - loss: 0.0082 - accuracy: 0.9963\n",
      "Epoch 33: val_accuracy did not improve from 1.00000\n",
      "202/202 [==============================] - 44s 218ms/step - loss: 0.0082 - accuracy: 0.9963 - val_loss: 0.0015 - val_accuracy: 0.9990 - lr: 1.0000e-05\n",
      "Epoch 34/100\n",
      "202/202 [==============================] - ETA: 0s - loss: 0.0094 - accuracy: 0.9970\n",
      "Epoch 34: val_accuracy did not improve from 1.00000\n",
      "\n",
      "Epoch 34: ReduceLROnPlateau reducing learning rate to 1.0000000656873453e-06.\n",
      "202/202 [==============================] - 45s 222ms/step - loss: 0.0094 - accuracy: 0.9970 - val_loss: 0.0015 - val_accuracy: 0.9990 - lr: 1.0000e-05\n",
      "Epoch 35/100\n",
      "202/202 [==============================] - ETA: 0s - loss: 0.0090 - accuracy: 0.9965\n",
      "Epoch 35: val_accuracy did not improve from 1.00000\n",
      "202/202 [==============================] - 43s 214ms/step - loss: 0.0090 - accuracy: 0.9965 - val_loss: 0.0013 - val_accuracy: 0.9990 - lr: 1.0000e-06\n",
      "Epoch 36/100\n",
      "202/202 [==============================] - ETA: 0s - loss: 0.0080 - accuracy: 0.9968\n",
      "Epoch 36: val_accuracy did not improve from 1.00000\n",
      "202/202 [==============================] - 44s 219ms/step - loss: 0.0080 - accuracy: 0.9968 - val_loss: 0.0012 - val_accuracy: 0.9990 - lr: 1.0000e-06\n",
      "Epoch 37/100\n",
      "202/202 [==============================] - ETA: 0s - loss: 0.0088 - accuracy: 0.9968\n",
      "Epoch 37: val_accuracy did not improve from 1.00000\n",
      "202/202 [==============================] - 42s 210ms/step - loss: 0.0088 - accuracy: 0.9968 - val_loss: 0.0012 - val_accuracy: 0.9990 - lr: 1.0000e-06\n",
      "Epoch 38/100\n",
      "202/202 [==============================] - ETA: 0s - loss: 0.0084 - accuracy: 0.9968\n",
      "Epoch 38: val_accuracy did not improve from 1.00000\n",
      "Restoring model weights from the end of the best epoch: 18.\n",
      "202/202 [==============================] - 44s 219ms/step - loss: 0.0084 - accuracy: 0.9968 - val_loss: 0.0012 - val_accuracy: 0.9990 - lr: 1.0000e-06\n",
      "Epoch 38: early stopping\n"
     ]
    }
   ],
   "source": [
    "# Define the number of epochs\n",
    "num_epochs = 100\n",
    "\n",
    "# Train the model\n",
    "history_DenseNet_model_2 = DenseNet_model_2.fit(train_generator, epochs=num_epochs, validation_data=validation_generator, callbacks=callbacks)"
   ]
  },
  {
   "cell_type": "code",
   "execution_count": 16,
   "metadata": {
    "tags": []
   },
   "outputs": [
    {
     "data": {
      "text/plain": [
       "<matplotlib.legend.Legend at 0x21578fb27a0>"
      ]
     },
     "execution_count": 16,
     "metadata": {},
     "output_type": "execute_result"
    },
    {
     "data": {
      "image/png": "[encoded data removed]",
      "text/plain": [
       "<Figure size 640x480 with 1 Axes>"
      ]
     },
     "metadata": {},
     "output_type": "display_data"
    },
    {
     "data": {
      "image/png": "[encoded data removed]",
      "text/plain": [
       "<Figure size 640x480 with 1 Axes>"
      ]
     },
     "metadata": {},
     "output_type": "display_data"
    }
   ],
   "source": [
    "#-----------------------------------------------------------\n",
    "# Retrieve a list of list results on training and test data\n",
    "# sets for each training epoch\n",
    "#-----------------------------------------------------------\n",
    "acc      = history_DenseNet_model_2.history['accuracy' ]\n",
    "val_acc  = history_DenseNet_model_2.history['val_accuracy' ]\n",
    "loss     = history_DenseNet_model_2.history['loss' ]\n",
    "val_loss = history_DenseNet_model_2.history['val_loss' ]\n",
    "\n",
    "epochs   = range(len(acc)) # Get number of epochs\n",
    "\n",
    "#------------------------------------------------\n",
    "# Plot training and validation accuracy per epoch\n",
    "#------------------------------------------------\n",
    "plt.plot  (epochs, acc )\n",
    "plt.plot  (epochs, val_acc )\n",
    "plt.title ('Training and validation accuracy DenseNet Model Augmented 2')\n",
    "plt.legend(['train', 'val'], loc='upper left')\n",
    "plt.figure()\n",
    "\n",
    "#------------------------------------------------\n",
    "# Plot training and validation loss per epoch\n",
    "#------------------------------------------------\n",
    "plt.plot  (epochs, loss)\n",
    "plt.plot  (epochs, val_loss)\n",
    "plt.title ('Training and validation loss DenseNet Model Augmented 2')\n",
    "plt.legend(['train', 'val'], loc='upper left')"
   ]
  }
 ],
 "metadata": {
  "kernelspec": {
   "display_name": "Python 3 (ipykernel)",
   "language": "python",
   "name": "python3"
  },
  "language_info": {
   "codemirror_mode": {
    "name": "ipython",
    "version": 3
   },
   "file_extension": ".py",
   "mimetype": "text/x-python",
   "name": "python",
   "nbconvert_exporter": "python",
   "pygments_lexer": "ipython3",
   "version": "3.10.0"
  }
 },
 "nbformat": 4,
 "nbformat_minor": 4
}
