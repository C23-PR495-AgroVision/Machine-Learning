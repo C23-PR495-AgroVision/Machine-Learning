{
  "cells": [
    {
      "cell_type": "markdown",
      "metadata": {
        "id": "4EbRrnesERex"
      },
      "source": [
        "# Library"
      ]
    },
    {
      "cell_type": "code",
      "execution_count": 1,
      "metadata": {
        "tags": [],
        "colab": {
          "base_uri": "https://localhost:8080/"
        },
        "id": "9gDee1IRERe0",
        "outputId": "6da15816-3678-4465-f719-7a45b0a8842b"
      },
      "outputs": [
        {
          "output_type": "stream",
          "name": "stdout",
          "text": [
            "Looking in indexes: https://pypi.org/simple, https://us-python.pkg.dev/colab-wheels/public/simple/\n",
            "Requirement already satisfied: matplotlib in /usr/local/lib/python3.10/dist-packages (3.7.1)\n",
            "Requirement already satisfied: contourpy>=1.0.1 in /usr/local/lib/python3.10/dist-packages (from matplotlib) (1.0.7)\n",
            "Requirement already satisfied: cycler>=0.10 in /usr/local/lib/python3.10/dist-packages (from matplotlib) (0.11.0)\n",
            "Requirement already satisfied: fonttools>=4.22.0 in /usr/local/lib/python3.10/dist-packages (from matplotlib) (4.39.3)\n",
            "Requirement already satisfied: kiwisolver>=1.0.1 in /usr/local/lib/python3.10/dist-packages (from matplotlib) (1.4.4)\n",
            "Requirement already satisfied: numpy>=1.20 in /usr/local/lib/python3.10/dist-packages (from matplotlib) (1.22.4)\n",
            "Requirement already satisfied: packaging>=20.0 in /usr/local/lib/python3.10/dist-packages (from matplotlib) (23.1)\n",
            "Requirement already satisfied: pillow>=6.2.0 in /usr/local/lib/python3.10/dist-packages (from matplotlib) (8.4.0)\n",
            "Requirement already satisfied: pyparsing>=2.3.1 in /usr/local/lib/python3.10/dist-packages (from matplotlib) (3.0.9)\n",
            "Requirement already satisfied: python-dateutil>=2.7 in /usr/local/lib/python3.10/dist-packages (from matplotlib) (2.8.2)\n",
            "Requirement already satisfied: six>=1.5 in /usr/local/lib/python3.10/dist-packages (from python-dateutil>=2.7->matplotlib) (1.16.0)\n"
          ]
        }
      ],
      "source": [
        "pip install matplotlib"
      ]
    },
    {
      "cell_type": "code",
      "execution_count": 2,
      "metadata": {
        "tags": [],
        "colab": {
          "base_uri": "https://localhost:8080/"
        },
        "id": "abbgY7BNERe1",
        "outputId": "bf86237d-11cb-439a-ed36-a00bf4c918b3"
      },
      "outputs": [
        {
          "output_type": "stream",
          "name": "stdout",
          "text": [
            "Looking in indexes: https://pypi.org/simple, https://us-python.pkg.dev/colab-wheels/public/simple/\n",
            "Collecting opendatasets\n",
            "  Downloading opendatasets-0.1.22-py3-none-any.whl (15 kB)\n",
            "Requirement already satisfied: tqdm in /usr/local/lib/python3.10/dist-packages (from opendatasets) (4.65.0)\n",
            "Requirement already satisfied: kaggle in /usr/local/lib/python3.10/dist-packages (from opendatasets) (1.5.13)\n",
            "Requirement already satisfied: click in /usr/local/lib/python3.10/dist-packages (from opendatasets) (8.1.3)\n",
            "Requirement already satisfied: six>=1.10 in /usr/local/lib/python3.10/dist-packages (from kaggle->opendatasets) (1.16.0)\n",
            "Requirement already satisfied: certifi in /usr/local/lib/python3.10/dist-packages (from kaggle->opendatasets) (2022.12.7)\n",
            "Requirement already satisfied: python-dateutil in /usr/local/lib/python3.10/dist-packages (from kaggle->opendatasets) (2.8.2)\n",
            "Requirement already satisfied: requests in /usr/local/lib/python3.10/dist-packages (from kaggle->opendatasets) (2.27.1)\n",
            "Requirement already satisfied: python-slugify in /usr/local/lib/python3.10/dist-packages (from kaggle->opendatasets) (8.0.1)\n",
            "Requirement already satisfied: urllib3 in /usr/local/lib/python3.10/dist-packages (from kaggle->opendatasets) (1.26.15)\n",
            "Requirement already satisfied: text-unidecode>=1.3 in /usr/local/lib/python3.10/dist-packages (from python-slugify->kaggle->opendatasets) (1.3)\n",
            "Requirement already satisfied: charset-normalizer~=2.0.0 in /usr/local/lib/python3.10/dist-packages (from requests->kaggle->opendatasets) (2.0.12)\n",
            "Requirement already satisfied: idna<4,>=2.5 in /usr/local/lib/python3.10/dist-packages (from requests->kaggle->opendatasets) (3.4)\n",
            "Installing collected packages: opendatasets\n",
            "Successfully installed opendatasets-0.1.22\n"
          ]
        }
      ],
      "source": [
        "pip install opendatasets"
      ]
    },
    {
      "cell_type": "code",
      "execution_count": 3,
      "metadata": {
        "tags": [],
        "id": "LuGvG3BjERe1"
      },
      "outputs": [],
      "source": [
        "# Library to dataset\n",
        "import opendatasets as od\n",
        "import os\n",
        "import zipfile\n",
        "import numpy as np\n",
        "\n",
        "# Surpress Warnings\n",
        "import warnings\n",
        "warnings.filterwarnings('ignore')\n",
        "os.environ['TF_CPP_MIN_LOG_LEVEL'] = '3' \n",
        "# library visualization\n",
        "import matplotlib.pyplot as plt\n",
        "\n",
        "# Library Tensorflow\n",
        "import tensorflow as tf\n",
        "from tensorflow import keras\n",
        "from tensorflow.keras.preprocessing.image import ImageDataGenerator\n",
        "from tensorflow.keras.callbacks import ModelCheckpoint, EarlyStopping, ReduceLROnPlateau\n",
        "from tensorflow.keras.applications.densenet import DenseNet121\n",
        "from tensorflow.keras.applications.xception import Xception\n",
        "\n",
        "# Others\n",
        "import shutil\n",
        "import random"
      ]
    },
    {
      "cell_type": "markdown",
      "metadata": {
        "id": "GViA7Z80ERe1"
      },
      "source": [
        "# Load dataset"
      ]
    },
    {
      "cell_type": "code",
      "execution_count": 4,
      "metadata": {
        "colab": {
          "base_uri": "https://localhost:8080/"
        },
        "id": "GWkW6HucERe2",
        "outputId": "5983ddbb-0c34-415e-af5d-c3a5accdefc1"
      },
      "outputs": [
        {
          "output_type": "stream",
          "name": "stdout",
          "text": [
            "Please provide your Kaggle credentials to download this dataset. Learn more: http://bit.ly/kaggle-creds\n",
            "Your Kaggle username: ahmadhabibhasanzein\n",
            "Your Kaggle Key: ··········\n",
            "Downloading bellpaper.zip to ./bellpaper\n"
          ]
        },
        {
          "output_type": "stream",
          "name": "stderr",
          "text": [
            "100%|██████████| 118M/118M [00:04<00:00, 25.9MB/s]\n"
          ]
        },
        {
          "output_type": "stream",
          "name": "stdout",
          "text": [
            "\n"
          ]
        }
      ],
      "source": [
        "od.download(\"https://www.kaggle.com/datasets/ahmadhabibhasanzein/bellpaper\")"
      ]
    },
    {
      "cell_type": "code",
      "execution_count": 5,
      "metadata": {
        "tags": [],
        "colab": {
          "base_uri": "https://localhost:8080/"
        },
        "id": "tv_nPHvxERe2",
        "outputId": "7546b36a-6378-4379-81db-1c3a319b7b82"
      },
      "outputs": [
        {
          "output_type": "stream",
          "name": "stdout",
          "text": [
            "==========================Training Data====================\n",
            "Found 4033 files belonging to 2 classes.\n",
            "==========================Validation Data====================\n",
            "Found 962 files belonging to 2 classes.\n"
          ]
        }
      ],
      "source": [
        "# Load dataset\n",
        "print(\"==========================Training Data====================\")\n",
        "train_data = tf.keras.preprocessing.image_dataset_from_directory(\n",
        "    \"/content/bellpaper/Bell_pepper/train\",\n",
        "    label_mode=\"categorical\",\n",
        "    class_names= ['Pepper bell Bacterial spot', 'Pepper bell healthy'],\n",
        "    color_mode=\"rgb\",\n",
        "    batch_size=1,\n",
        "    image_size=(256, 256),\n",
        "    shuffle=True,\n",
        "    seed=123\n",
        ")\n",
        "print(\"==========================Validation Data====================\")\n",
        "val_data = tf.keras.preprocessing.image_dataset_from_directory(\n",
        "    \"/content/bellpaper/Bell_pepper/test\",\n",
        "    label_mode=\"categorical\",\n",
        "    class_names= ['Pepper bell Bacterial spot', 'Pepper bell healthy'],\n",
        "    color_mode=\"rgb\",\n",
        "    batch_size=1,\n",
        "    image_size=(256, 256),\n",
        "    shuffle=True,\n",
        "    seed=123\n",
        ")"
      ]
    },
    {
      "cell_type": "code",
      "execution_count": 6,
      "metadata": {
        "tags": [],
        "colab": {
          "base_uri": "https://localhost:8080/"
        },
        "id": "yy2Y8X_cERe2",
        "outputId": "7b0dd438-9076-46ee-af33-c72faf14d9d6"
      },
      "outputs": [
        {
          "output_type": "stream",
          "name": "stdout",
          "text": [
            "Found 4033 images belonging to 2 classes.\n",
            "Found 962 images belonging to 2 classes.\n"
          ]
        }
      ],
      "source": [
        "# All images will be rescaled by 1./256. and Augmented\n",
        "train_datagen = ImageDataGenerator(rescale = 1.0/256.,\n",
        "                                   rotation_range=40,\n",
        "                                   width_shift_range=0.2,\n",
        "                                   height_shift_range=0.2,\n",
        "                                   shear_range=0.2,\n",
        "                                   zoom_range=0.2,\n",
        "                                   horizontal_flip=True,\n",
        "                                   fill_mode='nearest')\n",
        "\n",
        "test_datagen  = ImageDataGenerator(rescale = 1.0/256.)\n",
        "\n",
        "# --------------------\n",
        "# Flow training images in batches of 20 using train_datagen generator\n",
        "# --------------------\n",
        "train_generator = train_datagen.flow_from_directory(\"/content/bellpaper/Bell_pepper/train\",\n",
        "                                                    batch_size=20,\n",
        "                                                    class_mode='categorical',\n",
        "                                                    target_size=(224, 224))     \n",
        "# --------------------\n",
        "# Flow validation images in batches of 20 using test_datagen generator\n",
        "# --------------------\n",
        "validation_generator =  test_datagen.flow_from_directory(\"/content/bellpaper/Bell_pepper/test\",\n",
        "                                                         batch_size=20,\n",
        "                                                         class_mode  = 'categorical',\n",
        "                                                         target_size = (224, 224))"
      ]
    },
    {
      "cell_type": "markdown",
      "metadata": {
        "id": "NYQSJLZcERe3"
      },
      "source": [
        "# List Resource"
      ]
    },
    {
      "cell_type": "code",
      "execution_count": 7,
      "metadata": {
        "tags": [],
        "colab": {
          "base_uri": "https://localhost:8080/"
        },
        "id": "WMggm6j1ERe3",
        "outputId": "bd0e7328-cb53-4b54-e6bc-fb507531eca4"
      },
      "outputs": [
        {
          "output_type": "stream",
          "name": "stdout",
          "text": [
            "Sat May 27 12:52:10 2023       \n",
            "+-----------------------------------------------------------------------------+\n",
            "| NVIDIA-SMI 525.85.12    Driver Version: 525.85.12    CUDA Version: 12.0     |\n",
            "|-------------------------------+----------------------+----------------------+\n",
            "| GPU  Name        Persistence-M| Bus-Id        Disp.A | Volatile Uncorr. ECC |\n",
            "| Fan  Temp  Perf  Pwr:Usage/Cap|         Memory-Usage | GPU-Util  Compute M. |\n",
            "|                               |                      |               MIG M. |\n",
            "|===============================+======================+======================|\n",
            "|   0  Tesla T4            Off  | 00000000:00:04.0 Off |                    0 |\n",
            "| N/A   58C    P0    27W /  70W |    389MiB / 15360MiB |      0%      Default |\n",
            "|                               |                      |                  N/A |\n",
            "+-------------------------------+----------------------+----------------------+\n",
            "                                                                               \n",
            "+-----------------------------------------------------------------------------+\n",
            "| Processes:                                                                  |\n",
            "|  GPU   GI   CI        PID   Type   Process name                  GPU Memory |\n",
            "|        ID   ID                                                   Usage      |\n",
            "|=============================================================================|\n",
            "+-----------------------------------------------------------------------------+\n"
          ]
        }
      ],
      "source": [
        "# Check GPU\n",
        "!nvidia-smi"
      ]
    },
    {
      "cell_type": "code",
      "execution_count": 8,
      "metadata": {
        "tags": [],
        "colab": {
          "base_uri": "https://localhost:8080/"
        },
        "id": "vbgWJ0NDERe3",
        "outputId": "c1a1ec1a-703e-4f3a-cfa8-ce42dc34911e"
      },
      "outputs": [
        {
          "output_type": "execute_result",
          "data": {
            "text/plain": [
              "[PhysicalDevice(name='/physical_device:GPU:0', device_type='GPU')]"
            ]
          },
          "metadata": {},
          "execution_count": 8
        }
      ],
      "source": [
        "# Lis physical devices\n",
        "devices = tf.config.experimental.list_physical_devices(\"GPU\")\n",
        "devices"
      ]
    },
    {
      "cell_type": "code",
      "execution_count": 9,
      "metadata": {
        "tags": [],
        "id": "cs9WQOxWERe3"
      },
      "outputs": [],
      "source": [
        "# Define the GPU strategy\n",
        "mirrored_strategy = tf.distribute.MirroredStrategy(devices=[\"/gpu:0\"])"
      ]
    },
    {
      "cell_type": "markdown",
      "metadata": {
        "id": "9MN_8F4wERe4"
      },
      "source": [
        "# Modelling With Augmentation"
      ]
    },
    {
      "cell_type": "markdown",
      "metadata": {
        "id": "j-3UPwWdERe4"
      },
      "source": [
        "## Xception Model 1"
      ]
    },
    {
      "cell_type": "code",
      "execution_count": 10,
      "metadata": {
        "tags": [],
        "id": "3jE3e0W4ERe4"
      },
      "outputs": [],
      "source": [
        "# Difine the callbacks\n",
        "# Save the best model\n",
        "checkpoint_callback = ModelCheckpoint(filepath=\"BellPaper_Xception_model1_Based_Augmented.h5\", save_best_only=True, monitor=\"val_accuracy\", mode=\"max\", verbose=1)\n",
        "\n",
        "# Early stopping\n",
        "early_stopping_callback = EarlyStopping(monitor=\"val_accuracy\", mode=\"max\", patience=20, verbose=1, restore_best_weights=True)\n",
        "\n",
        "# Reduce learning rate\n",
        "reduce_lr_callback = ReduceLROnPlateau(monitor=\"val_loss\", factor=0.1, patience=5, verbose=1, mode=\"min\", min_delta=0.0001, cooldown=0, min_lr=0)\n",
        "\n",
        "# Callbacks list\n",
        "callbacks=[checkpoint_callback, early_stopping_callback, reduce_lr_callback]"
      ]
    },
    {
      "cell_type": "code",
      "execution_count": 11,
      "metadata": {
        "tags": [],
        "colab": {
          "base_uri": "https://localhost:8080/"
        },
        "id": "Mv1lRQPTERe4",
        "outputId": "cc95d7d8-319a-4bbf-ad4d-287855445fc3"
      },
      "outputs": [
        {
          "output_type": "stream",
          "name": "stdout",
          "text": [
            "Downloading data from https://storage.googleapis.com/tensorflow/keras-applications/xception/xception_weights_tf_dim_ordering_tf_kernels_notop.h5\n",
            "83683744/83683744 [==============================] - 3s 0us/step\n",
            "Model: \"sequential\"\n",
            "_________________________________________________________________\n",
            " Layer (type)                Output Shape              Param #   \n",
            "=================================================================\n",
            " xception (Functional)       (None, 7, 7, 2048)        20861480  \n",
            "                                                                 \n",
            " global_max_pooling2d (Globa  (None, 2048)             0         \n",
            " lMaxPooling2D)                                                  \n",
            "                                                                 \n",
            " dropout (Dropout)           (None, 2048)              0         \n",
            "                                                                 \n",
            " dense (Dense)               (None, 256)               524544    \n",
            "                                                                 \n",
            " dense_1 (Dense)             (None, 2)                 514       \n",
            "                                                                 \n",
            "=================================================================\n",
            "Total params: 21,386,538\n",
            "Trainable params: 21,332,010\n",
            "Non-trainable params: 54,528\n",
            "_________________________________________________________________\n"
          ]
        }
      ],
      "source": [
        "# Define DIY Model\n",
        "Xception_model = tf.keras.models.Sequential([\n",
        "    # Xception Layer\n",
        "    Xception(include_top=False,weights='imagenet',input_shape=(224, 224, 3)),\n",
        "    # Global Max Pooling Layer\n",
        "    tf.keras.layers.GlobalMaxPooling2D(),\n",
        "    # Drop Out Layer\n",
        "    tf.keras.layers.Dropout(0.2),\n",
        "    # 256 neuron hidden layer\n",
        "    tf.keras.layers.Dense(256, activation='relu'),\n",
        "    # Output\n",
        "    tf.keras.layers.Dense(2, activation='softmax') \n",
        "  ])\n",
        "\n",
        "\n",
        "# Compile Model\n",
        "Xception_model.compile(loss='categorical_crossentropy',optimizer=tf.keras.optimizers.Adam(), metrics=['accuracy']) \n",
        "\n",
        "# Model Summary\n",
        "Xception_model.summary()"
      ]
    },
    {
      "cell_type": "code",
      "execution_count": 12,
      "metadata": {
        "tags": [],
        "colab": {
          "base_uri": "https://localhost:8080/"
        },
        "id": "qsmEvbxZERe5",
        "outputId": "33e7f198-104e-479c-9b3c-fc0d93b8686b"
      },
      "outputs": [
        {
          "output_type": "stream",
          "name": "stdout",
          "text": [
            "Epoch 1/100\n",
            "202/202 [==============================] - ETA: 0s - loss: 0.5426 - accuracy: 0.6777\n",
            "Epoch 1: val_accuracy improved from -inf to 0.67983, saving model to BellPaper_Xception_model1_Based_Augmented.h5\n",
            "202/202 [==============================] - 130s 409ms/step - loss: 0.5426 - accuracy: 0.6777 - val_loss: 1.6238 - val_accuracy: 0.6798 - lr: 0.0010\n",
            "Epoch 2/100\n",
            "202/202 [==============================] - ETA: 0s - loss: 0.1127 - accuracy: 0.9678\n",
            "Epoch 2: val_accuracy improved from 0.67983 to 0.99792, saving model to BellPaper_Xception_model1_Based_Augmented.h5\n",
            "202/202 [==============================] - 83s 408ms/step - loss: 0.1127 - accuracy: 0.9678 - val_loss: 0.0043 - val_accuracy: 0.9979 - lr: 0.0010\n",
            "Epoch 3/100\n",
            "202/202 [==============================] - ETA: 0s - loss: 0.0512 - accuracy: 0.9774\n",
            "Epoch 3: val_accuracy did not improve from 0.99792\n",
            "202/202 [==============================] - 77s 380ms/step - loss: 0.0512 - accuracy: 0.9774 - val_loss: 0.0091 - val_accuracy: 0.9958 - lr: 0.0010\n",
            "Epoch 4/100\n",
            "202/202 [==============================] - ETA: 0s - loss: 0.0583 - accuracy: 0.9792\n",
            "Epoch 4: val_accuracy did not improve from 0.99792\n",
            "202/202 [==============================] - 77s 381ms/step - loss: 0.0583 - accuracy: 0.9792 - val_loss: 0.1184 - val_accuracy: 0.9553 - lr: 0.0010\n",
            "Epoch 5/100\n",
            "202/202 [==============================] - ETA: 0s - loss: 0.0681 - accuracy: 0.9774\n",
            "Epoch 5: val_accuracy did not improve from 0.99792\n",
            "202/202 [==============================] - 78s 385ms/step - loss: 0.0681 - accuracy: 0.9774 - val_loss: 0.0830 - val_accuracy: 0.9709 - lr: 0.0010\n",
            "Epoch 6/100\n",
            "202/202 [==============================] - ETA: 0s - loss: 0.0486 - accuracy: 0.9854\n",
            "Epoch 6: val_accuracy did not improve from 0.99792\n",
            "202/202 [==============================] - 78s 386ms/step - loss: 0.0486 - accuracy: 0.9854 - val_loss: 0.0052 - val_accuracy: 0.9969 - lr: 0.0010\n",
            "Epoch 7/100\n",
            "202/202 [==============================] - ETA: 0s - loss: 0.0368 - accuracy: 0.9891\n",
            "Epoch 7: val_accuracy did not improve from 0.99792\n",
            "\n",
            "Epoch 7: ReduceLROnPlateau reducing learning rate to 0.00010000000474974513.\n",
            "202/202 [==============================] - 78s 385ms/step - loss: 0.0368 - accuracy: 0.9891 - val_loss: 0.0962 - val_accuracy: 0.9615 - lr: 0.0010\n",
            "Epoch 8/100\n",
            "202/202 [==============================] - ETA: 0s - loss: 0.0287 - accuracy: 0.9893\n",
            "Epoch 8: val_accuracy did not improve from 0.99792\n",
            "202/202 [==============================] - 79s 390ms/step - loss: 0.0287 - accuracy: 0.9893 - val_loss: 0.0038 - val_accuracy: 0.9979 - lr: 1.0000e-04\n",
            "Epoch 9/100\n",
            "202/202 [==============================] - ETA: 0s - loss: 0.0217 - accuracy: 0.9923\n",
            "Epoch 9: val_accuracy improved from 0.99792 to 1.00000, saving model to BellPaper_Xception_model1_Based_Augmented.h5\n",
            "202/202 [==============================] - 84s 415ms/step - loss: 0.0217 - accuracy: 0.9923 - val_loss: 0.0014 - val_accuracy: 1.0000 - lr: 1.0000e-04\n",
            "Epoch 10/100\n",
            "202/202 [==============================] - ETA: 0s - loss: 0.0195 - accuracy: 0.9916\n",
            "Epoch 10: val_accuracy did not improve from 1.00000\n",
            "202/202 [==============================] - 78s 384ms/step - loss: 0.0195 - accuracy: 0.9916 - val_loss: 0.0010 - val_accuracy: 1.0000 - lr: 1.0000e-04\n",
            "Epoch 11/100\n",
            "202/202 [==============================] - ETA: 0s - loss: 0.0174 - accuracy: 0.9943\n",
            "Epoch 11: val_accuracy did not improve from 1.00000\n",
            "202/202 [==============================] - 78s 383ms/step - loss: 0.0174 - accuracy: 0.9943 - val_loss: 0.0011 - val_accuracy: 1.0000 - lr: 1.0000e-04\n",
            "Epoch 12/100\n",
            "202/202 [==============================] - ETA: 0s - loss: 0.0157 - accuracy: 0.9938\n",
            "Epoch 12: val_accuracy did not improve from 1.00000\n",
            "202/202 [==============================] - 77s 383ms/step - loss: 0.0157 - accuracy: 0.9938 - val_loss: 0.0018 - val_accuracy: 0.9990 - lr: 1.0000e-04\n",
            "Epoch 13/100\n",
            "202/202 [==============================] - ETA: 0s - loss: 0.0165 - accuracy: 0.9945\n",
            "Epoch 13: val_accuracy did not improve from 1.00000\n",
            "202/202 [==============================] - 77s 382ms/step - loss: 0.0165 - accuracy: 0.9945 - val_loss: 7.7172e-04 - val_accuracy: 1.0000 - lr: 1.0000e-04\n",
            "Epoch 14/100\n",
            "202/202 [==============================] - ETA: 0s - loss: 0.0129 - accuracy: 0.9948\n",
            "Epoch 14: val_accuracy did not improve from 1.00000\n",
            "202/202 [==============================] - 78s 385ms/step - loss: 0.0129 - accuracy: 0.9948 - val_loss: 0.0012 - val_accuracy: 0.9990 - lr: 1.0000e-04\n",
            "Epoch 15/100\n",
            "202/202 [==============================] - ETA: 0s - loss: 0.0149 - accuracy: 0.9940\n",
            "Epoch 15: val_accuracy did not improve from 1.00000\n",
            "202/202 [==============================] - 77s 382ms/step - loss: 0.0149 - accuracy: 0.9940 - val_loss: 7.9769e-04 - val_accuracy: 1.0000 - lr: 1.0000e-04\n",
            "Epoch 16/100\n",
            "202/202 [==============================] - ETA: 0s - loss: 0.0138 - accuracy: 0.9950\n",
            "Epoch 16: val_accuracy did not improve from 1.00000\n",
            "202/202 [==============================] - 79s 390ms/step - loss: 0.0138 - accuracy: 0.9950 - val_loss: 0.0015 - val_accuracy: 0.9990 - lr: 1.0000e-04\n",
            "Epoch 17/100\n",
            "202/202 [==============================] - ETA: 0s - loss: 0.0128 - accuracy: 0.9940\n",
            "Epoch 17: val_accuracy did not improve from 1.00000\n",
            "202/202 [==============================] - 76s 378ms/step - loss: 0.0128 - accuracy: 0.9940 - val_loss: 7.4560e-04 - val_accuracy: 1.0000 - lr: 1.0000e-04\n",
            "Epoch 18/100\n",
            "202/202 [==============================] - ETA: 0s - loss: 0.0116 - accuracy: 0.9973\n",
            "Epoch 18: val_accuracy did not improve from 1.00000\n",
            "\n",
            "Epoch 18: ReduceLROnPlateau reducing learning rate to 1.0000000474974514e-05.\n",
            "202/202 [==============================] - 77s 378ms/step - loss: 0.0116 - accuracy: 0.9973 - val_loss: 7.4352e-04 - val_accuracy: 1.0000 - lr: 1.0000e-04\n",
            "Epoch 19/100\n",
            "202/202 [==============================] - ETA: 0s - loss: 0.0115 - accuracy: 0.9953\n",
            "Epoch 19: val_accuracy did not improve from 1.00000\n",
            "202/202 [==============================] - 78s 384ms/step - loss: 0.0115 - accuracy: 0.9953 - val_loss: 7.1696e-04 - val_accuracy: 1.0000 - lr: 1.0000e-05\n",
            "Epoch 20/100\n",
            "202/202 [==============================] - ETA: 0s - loss: 0.0104 - accuracy: 0.9955\n",
            "Epoch 20: val_accuracy did not improve from 1.00000\n",
            "202/202 [==============================] - 77s 382ms/step - loss: 0.0104 - accuracy: 0.9955 - val_loss: 6.8079e-04 - val_accuracy: 1.0000 - lr: 1.0000e-05\n",
            "Epoch 21/100\n",
            "202/202 [==============================] - ETA: 0s - loss: 0.0109 - accuracy: 0.9958\n",
            "Epoch 21: val_accuracy did not improve from 1.00000\n",
            "202/202 [==============================] - 76s 377ms/step - loss: 0.0109 - accuracy: 0.9958 - val_loss: 6.9293e-04 - val_accuracy: 1.0000 - lr: 1.0000e-05\n",
            "Epoch 22/100\n",
            "202/202 [==============================] - ETA: 0s - loss: 0.0090 - accuracy: 0.9970\n",
            "Epoch 22: val_accuracy did not improve from 1.00000\n",
            "202/202 [==============================] - 76s 377ms/step - loss: 0.0090 - accuracy: 0.9970 - val_loss: 7.9197e-04 - val_accuracy: 1.0000 - lr: 1.0000e-05\n",
            "Epoch 23/100\n",
            "202/202 [==============================] - ETA: 0s - loss: 0.0095 - accuracy: 0.9965\n",
            "Epoch 23: val_accuracy did not improve from 1.00000\n",
            "\n",
            "Epoch 23: ReduceLROnPlateau reducing learning rate to 1.0000000656873453e-06.\n",
            "202/202 [==============================] - 76s 376ms/step - loss: 0.0095 - accuracy: 0.9965 - val_loss: 7.5838e-04 - val_accuracy: 1.0000 - lr: 1.0000e-05\n",
            "Epoch 24/100\n",
            "202/202 [==============================] - ETA: 0s - loss: 0.0089 - accuracy: 0.9963\n",
            "Epoch 24: val_accuracy did not improve from 1.00000\n",
            "202/202 [==============================] - 78s 385ms/step - loss: 0.0089 - accuracy: 0.9963 - val_loss: 7.0026e-04 - val_accuracy: 1.0000 - lr: 1.0000e-06\n",
            "Epoch 25/100\n",
            "202/202 [==============================] - ETA: 0s - loss: 0.0097 - accuracy: 0.9970\n",
            "Epoch 25: val_accuracy did not improve from 1.00000\n",
            "202/202 [==============================] - 76s 377ms/step - loss: 0.0097 - accuracy: 0.9970 - val_loss: 6.8123e-04 - val_accuracy: 1.0000 - lr: 1.0000e-06\n",
            "Epoch 26/100\n",
            "202/202 [==============================] - ETA: 0s - loss: 0.0089 - accuracy: 0.9965\n",
            "Epoch 26: val_accuracy did not improve from 1.00000\n",
            "202/202 [==============================] - 77s 380ms/step - loss: 0.0089 - accuracy: 0.9965 - val_loss: 6.7418e-04 - val_accuracy: 1.0000 - lr: 1.0000e-06\n",
            "Epoch 27/100\n",
            "202/202 [==============================] - ETA: 0s - loss: 0.0074 - accuracy: 0.9975\n",
            "Epoch 27: val_accuracy did not improve from 1.00000\n",
            "202/202 [==============================] - 77s 382ms/step - loss: 0.0074 - accuracy: 0.9975 - val_loss: 6.5147e-04 - val_accuracy: 1.0000 - lr: 1.0000e-06\n",
            "Epoch 28/100\n",
            "202/202 [==============================] - ETA: 0s - loss: 0.0068 - accuracy: 0.9973\n",
            "Epoch 28: val_accuracy did not improve from 1.00000\n",
            "202/202 [==============================] - 77s 381ms/step - loss: 0.0068 - accuracy: 0.9973 - val_loss: 6.7766e-04 - val_accuracy: 1.0000 - lr: 1.0000e-06\n",
            "Epoch 29/100\n",
            "202/202 [==============================] - ETA: 0s - loss: 0.0092 - accuracy: 0.9955\n",
            "Epoch 29: val_accuracy did not improve from 1.00000\n",
            "Restoring model weights from the end of the best epoch: 9.\n",
            "202/202 [==============================] - 76s 377ms/step - loss: 0.0092 - accuracy: 0.9955 - val_loss: 7.0665e-04 - val_accuracy: 1.0000 - lr: 1.0000e-06\n",
            "Epoch 29: early stopping\n"
          ]
        }
      ],
      "source": [
        "# Define the number of epochs\n",
        "num_epochs = 100\n",
        "\n",
        "# Train the model\n",
        "history_Xception_model_1 = Xception_model.fit(train_generator, epochs=num_epochs, validation_data=validation_generator, callbacks=callbacks)"
      ]
    },
    {
      "cell_type": "code",
      "execution_count": 13,
      "metadata": {
        "tags": [],
        "colab": {
          "base_uri": "https://localhost:8080/",
          "height": 904
        },
        "id": "gGVvvKIRERe5",
        "outputId": "db5a93dc-d11b-4020-9929-7bd17e694d3e"
      },
      "outputs": [
        {
          "output_type": "execute_result",
          "data": {
            "text/plain": [
              "Text(0.5, 1.0, 'Training and validation loss DIY Model')"
            ]
          },
          "metadata": {},
          "execution_count": 13
        },
        {
          "output_type": "display_data",
          "data": {
            "text/plain": [
              "<Figure size 640x480 with 1 Axes>"
            ],
            "image/png": "[encoded data removed]"
          },
          "metadata": {}
        },
        {
          "output_type": "display_data",
          "data": {
            "text/plain": [
              "<Figure size 640x480 with 1 Axes>"
            ],
            "image/png": "[encoded data removed]"
          },
          "metadata": {}
        }
      ],
      "source": [
        "#-----------------------------------------------------------\n",
        "# Retrieve a list of list results on training and test data\n",
        "# sets for each training epoch\n",
        "#-----------------------------------------------------------\n",
        "acc      = history_Xception_model_1.history['accuracy' ]\n",
        "val_acc  = history_Xception_model_1.history['val_accuracy' ]\n",
        "loss     = history_Xception_model_1.history['loss' ]\n",
        "val_loss = history_Xception_model_1.history['val_loss' ]\n",
        "\n",
        "epochs   = range(len(acc)) # Get number of epochs\n",
        "\n",
        "#------------------------------------------------\n",
        "# Plot training and validation accuracy per epoch\n",
        "#------------------------------------------------\n",
        "plt.plot  (epochs, acc )\n",
        "plt.plot  (epochs, val_acc )\n",
        "plt.title ('Training and validation accuracy DIY Model')\n",
        "plt.figure()\n",
        "\n",
        "#------------------------------------------------\n",
        "# Plot training and validation loss per epoch\n",
        "#------------------------------------------------\n",
        "plt.plot  (epochs, loss)\n",
        "plt.plot  (epochs, val_loss)\n",
        "plt.title ('Training and validation loss DIY Model')"
      ]
    },
    {
      "cell_type": "markdown",
      "metadata": {
        "id": "dw4z5mw2ERe5"
      },
      "source": [
        "## Xception Model 2"
      ]
    },
    {
      "cell_type": "code",
      "execution_count": 14,
      "metadata": {
        "tags": [],
        "id": "OCeCI2oUERe5"
      },
      "outputs": [],
      "source": [
        "# Difine the callbacks\n",
        "# Save the best model\n",
        "checkpoint_callback = ModelCheckpoint(filepath=\"BellPaper_Xception_model2_Based_Augmented.h5\", save_best_only=True, monitor=\"val_accuracy\", mode=\"max\", verbose=1)\n",
        "\n",
        "# Early stopping\n",
        "early_stopping_callback = EarlyStopping(monitor=\"val_accuracy\", mode=\"max\", patience=20, verbose=1, restore_best_weights=True)\n",
        "\n",
        "# Reduce learning rate\n",
        "reduce_lr_callback = ReduceLROnPlateau(monitor=\"val_loss\", factor=0.1, patience=5, verbose=1, mode=\"min\", min_delta=0.0001, cooldown=0, min_lr=0)\n",
        "\n",
        "# Callbacks list\n",
        "callbacks=[checkpoint_callback, early_stopping_callback, reduce_lr_callback]"
      ]
    },
    {
      "cell_type": "code",
      "execution_count": 15,
      "metadata": {
        "tags": [],
        "colab": {
          "base_uri": "https://localhost:8080/"
        },
        "id": "BxfuryxEERe5",
        "outputId": "1704a76d-8729-4037-e9bb-65a0e14c2b97"
      },
      "outputs": [
        {
          "output_type": "stream",
          "name": "stdout",
          "text": [
            "Model: \"sequential_1\"\n",
            "_________________________________________________________________\n",
            " Layer (type)                Output Shape              Param #   \n",
            "=================================================================\n",
            " xception (Functional)       (None, 7, 7, 2048)        20861480  \n",
            "                                                                 \n",
            " global_average_pooling2d (G  (None, 2048)             0         \n",
            " lobalAveragePooling2D)                                          \n",
            "                                                                 \n",
            " dropout_1 (Dropout)         (None, 2048)              0         \n",
            "                                                                 \n",
            " dense_2 (Dense)             (None, 256)               524544    \n",
            "                                                                 \n",
            " dense_3 (Dense)             (None, 2)                 514       \n",
            "                                                                 \n",
            "=================================================================\n",
            "Total params: 21,386,538\n",
            "Trainable params: 21,332,010\n",
            "Non-trainable params: 54,528\n",
            "_________________________________________________________________\n"
          ]
        }
      ],
      "source": [
        "# Define DIY Model\n",
        "Xception_model_2 = tf.keras.models.Sequential([\n",
        "    # Xception Layer\n",
        "    Xception(include_top=False,weights='imagenet',input_shape=(224, 224, 3)),\n",
        "    # Global Average Pooling Layer\n",
        "    tf.keras.layers.GlobalAveragePooling2D(),\n",
        "    # Drop Out Layer\n",
        "    tf.keras.layers.Dropout(0.2),\n",
        "    # 256 neuron hidden layer\n",
        "    tf.keras.layers.Dense(256, activation='relu'),\n",
        "    # Output\n",
        "    tf.keras.layers.Dense(2, activation='softmax') \n",
        "  ])\n",
        "\n",
        "\n",
        "# Compile Model\n",
        "Xception_model_2.compile(loss='categorical_crossentropy',optimizer=tf.keras.optimizers.Adam(), metrics=['accuracy']) \n",
        "\n",
        "# Model Summary\n",
        "Xception_model_2.summary()"
      ]
    },
    {
      "cell_type": "code",
      "execution_count": 16,
      "metadata": {
        "tags": [],
        "colab": {
          "base_uri": "https://localhost:8080/"
        },
        "id": "3hNRyuMnERe6",
        "outputId": "016eaf0d-6da7-4e7c-8939-73a67b07d2db"
      },
      "outputs": [
        {
          "output_type": "stream",
          "name": "stdout",
          "text": [
            "Epoch 1/100\n",
            "202/202 [==============================] - ETA: 0s - loss: 0.1466 - accuracy: 0.9504\n",
            "Epoch 1: val_accuracy improved from -inf to 0.99480, saving model to BellPaper_Xception_model2_Based_Augmented.h5\n",
            "202/202 [==============================] - 106s 392ms/step - loss: 0.1466 - accuracy: 0.9504 - val_loss: 0.0325 - val_accuracy: 0.9948 - lr: 0.0010\n",
            "Epoch 2/100\n",
            "202/202 [==============================] - ETA: 0s - loss: 0.0728 - accuracy: 0.9764\n",
            "Epoch 2: val_accuracy did not improve from 0.99480\n",
            "202/202 [==============================] - 77s 379ms/step - loss: 0.0728 - accuracy: 0.9764 - val_loss: 0.1357 - val_accuracy: 0.9511 - lr: 0.0010\n",
            "Epoch 3/100\n",
            "202/202 [==============================] - ETA: 0s - loss: 0.0376 - accuracy: 0.9824\n",
            "Epoch 3: val_accuracy improved from 0.99480 to 0.99896, saving model to BellPaper_Xception_model2_Based_Augmented.h5\n",
            "202/202 [==============================] - 79s 388ms/step - loss: 0.0376 - accuracy: 0.9824 - val_loss: 0.0033 - val_accuracy: 0.9990 - lr: 0.0010\n",
            "Epoch 4/100\n",
            "202/202 [==============================] - ETA: 0s - loss: 0.0457 - accuracy: 0.9821\n",
            "Epoch 4: val_accuracy did not improve from 0.99896\n",
            "202/202 [==============================] - 77s 380ms/step - loss: 0.0457 - accuracy: 0.9821 - val_loss: 0.0225 - val_accuracy: 0.9958 - lr: 0.0010\n",
            "Epoch 5/100\n",
            "202/202 [==============================] - ETA: 0s - loss: 0.0354 - accuracy: 0.9841\n",
            "Epoch 5: val_accuracy did not improve from 0.99896\n",
            "202/202 [==============================] - 77s 378ms/step - loss: 0.0354 - accuracy: 0.9841 - val_loss: 0.0020 - val_accuracy: 0.9979 - lr: 0.0010\n",
            "Epoch 6/100\n",
            "202/202 [==============================] - ETA: 0s - loss: 0.0284 - accuracy: 0.9913\n",
            "Epoch 6: val_accuracy did not improve from 0.99896\n",
            "202/202 [==============================] - 77s 378ms/step - loss: 0.0284 - accuracy: 0.9913 - val_loss: 0.0036 - val_accuracy: 0.9990 - lr: 0.0010\n",
            "Epoch 7/100\n",
            "202/202 [==============================] - ETA: 0s - loss: 0.0350 - accuracy: 0.9891\n",
            "Epoch 7: val_accuracy did not improve from 0.99896\n",
            "202/202 [==============================] - 76s 375ms/step - loss: 0.0350 - accuracy: 0.9891 - val_loss: 0.0276 - val_accuracy: 0.9927 - lr: 0.0010\n",
            "Epoch 8/100\n",
            "202/202 [==============================] - ETA: 0s - loss: 0.0232 - accuracy: 0.9913\n",
            "Epoch 8: val_accuracy did not improve from 0.99896\n",
            "202/202 [==============================] - 76s 376ms/step - loss: 0.0232 - accuracy: 0.9913 - val_loss: 0.0128 - val_accuracy: 0.9969 - lr: 0.0010\n",
            "Epoch 9/100\n",
            "202/202 [==============================] - ETA: 0s - loss: 0.0234 - accuracy: 0.9918\n",
            "Epoch 9: val_accuracy did not improve from 0.99896\n",
            "202/202 [==============================] - 76s 377ms/step - loss: 0.0234 - accuracy: 0.9918 - val_loss: 0.0219 - val_accuracy: 0.9948 - lr: 0.0010\n",
            "Epoch 10/100\n",
            "196/202 [============================>.] - ETA: 2s - loss: 0.0381 - accuracy: 0.9849\n",
            "Epoch 10: ReduceLROnPlateau reducing learning rate to 0.00010000000474974513.\n",
            "202/202 [==============================] - 83s 408ms/step - loss: 0.0380 - accuracy: 0.9849 - val_loss: 0.0126 - val_accuracy: 1.0000 - lr: 0.0010\n",
            "Epoch 11/100\n",
            "202/202 [==============================] - ETA: 0s - loss: 0.0200 - accuracy: 0.9923\n",
            "Epoch 11: val_accuracy did not improve from 1.00000\n",
            "202/202 [==============================] - 77s 379ms/step - loss: 0.0200 - accuracy: 0.9923 - val_loss: 8.8624e-04 - val_accuracy: 1.0000 - lr: 1.0000e-04\n",
            "Epoch 12/100\n",
            "202/202 [==============================] - ETA: 0s - loss: 0.0151 - accuracy: 0.9953\n",
            "Epoch 12: val_accuracy did not improve from 1.00000\n",
            "202/202 [==============================] - 77s 379ms/step - loss: 0.0151 - accuracy: 0.9953 - val_loss: 6.5094e-04 - val_accuracy: 1.0000 - lr: 1.0000e-04\n",
            "Epoch 13/100\n",
            "202/202 [==============================] - ETA: 0s - loss: 0.0119 - accuracy: 0.9963\n",
            "Epoch 13: val_accuracy did not improve from 1.00000\n",
            "202/202 [==============================] - 76s 376ms/step - loss: 0.0119 - accuracy: 0.9963 - val_loss: 0.0011 - val_accuracy: 0.9990 - lr: 1.0000e-04\n",
            "Epoch 14/100\n",
            "202/202 [==============================] - ETA: 0s - loss: 0.0137 - accuracy: 0.9950\n",
            "Epoch 14: val_accuracy did not improve from 1.00000\n",
            "202/202 [==============================] - 76s 374ms/step - loss: 0.0137 - accuracy: 0.9950 - val_loss: 0.0017 - val_accuracy: 0.9990 - lr: 1.0000e-04\n",
            "Epoch 15/100\n",
            "202/202 [==============================] - ETA: 0s - loss: 0.0116 - accuracy: 0.9953\n",
            "Epoch 15: val_accuracy did not improve from 1.00000\n",
            "202/202 [==============================] - 76s 376ms/step - loss: 0.0116 - accuracy: 0.9953 - val_loss: 9.2713e-04 - val_accuracy: 0.9990 - lr: 1.0000e-04\n",
            "Epoch 16/100\n",
            "202/202 [==============================] - ETA: 0s - loss: 0.0122 - accuracy: 0.9953\n",
            "Epoch 16: val_accuracy did not improve from 1.00000\n",
            "202/202 [==============================] - 76s 376ms/step - loss: 0.0122 - accuracy: 0.9953 - val_loss: 0.0023 - val_accuracy: 0.9990 - lr: 1.0000e-04\n",
            "Epoch 17/100\n",
            "202/202 [==============================] - ETA: 0s - loss: 0.0141 - accuracy: 0.9958\n",
            "Epoch 17: val_accuracy did not improve from 1.00000\n",
            "\n",
            "Epoch 17: ReduceLROnPlateau reducing learning rate to 1.0000000474974514e-05.\n",
            "202/202 [==============================] - 78s 383ms/step - loss: 0.0141 - accuracy: 0.9958 - val_loss: 6.8889e-04 - val_accuracy: 1.0000 - lr: 1.0000e-04\n",
            "Epoch 18/100\n",
            "202/202 [==============================] - ETA: 0s - loss: 0.0089 - accuracy: 0.9970\n",
            "Epoch 18: val_accuracy did not improve from 1.00000\n",
            "202/202 [==============================] - 78s 386ms/step - loss: 0.0089 - accuracy: 0.9970 - val_loss: 6.1568e-04 - val_accuracy: 1.0000 - lr: 1.0000e-05\n",
            "Epoch 19/100\n",
            "202/202 [==============================] - ETA: 0s - loss: 0.0078 - accuracy: 0.9970\n",
            "Epoch 19: val_accuracy did not improve from 1.00000\n",
            "202/202 [==============================] - 76s 378ms/step - loss: 0.0078 - accuracy: 0.9970 - val_loss: 5.7363e-04 - val_accuracy: 1.0000 - lr: 1.0000e-05\n",
            "Epoch 20/100\n",
            "202/202 [==============================] - ETA: 0s - loss: 0.0088 - accuracy: 0.9970\n",
            "Epoch 20: val_accuracy did not improve from 1.00000\n",
            "202/202 [==============================] - 76s 377ms/step - loss: 0.0088 - accuracy: 0.9970 - val_loss: 6.2479e-04 - val_accuracy: 1.0000 - lr: 1.0000e-05\n",
            "Epoch 21/100\n",
            "202/202 [==============================] - ETA: 0s - loss: 0.0077 - accuracy: 0.9975\n",
            "Epoch 21: val_accuracy did not improve from 1.00000\n",
            "202/202 [==============================] - 77s 378ms/step - loss: 0.0077 - accuracy: 0.9975 - val_loss: 7.2147e-04 - val_accuracy: 1.0000 - lr: 1.0000e-05\n",
            "Epoch 22/100\n",
            "202/202 [==============================] - ETA: 0s - loss: 0.0087 - accuracy: 0.9965\n",
            "Epoch 22: val_accuracy did not improve from 1.00000\n",
            "\n",
            "Epoch 22: ReduceLROnPlateau reducing learning rate to 1.0000000656873453e-06.\n",
            "202/202 [==============================] - 77s 381ms/step - loss: 0.0087 - accuracy: 0.9965 - val_loss: 6.7139e-04 - val_accuracy: 1.0000 - lr: 1.0000e-05\n",
            "Epoch 23/100\n",
            "202/202 [==============================] - ETA: 0s - loss: 0.0081 - accuracy: 0.9970\n",
            "Epoch 23: val_accuracy did not improve from 1.00000\n",
            "202/202 [==============================] - 77s 378ms/step - loss: 0.0081 - accuracy: 0.9970 - val_loss: 7.4779e-04 - val_accuracy: 1.0000 - lr: 1.0000e-06\n",
            "Epoch 24/100\n",
            "202/202 [==============================] - ETA: 0s - loss: 0.0089 - accuracy: 0.9968\n",
            "Epoch 24: val_accuracy did not improve from 1.00000\n",
            "202/202 [==============================] - 76s 377ms/step - loss: 0.0089 - accuracy: 0.9968 - val_loss: 7.9887e-04 - val_accuracy: 0.9990 - lr: 1.0000e-06\n",
            "Epoch 25/100\n",
            "202/202 [==============================] - ETA: 0s - loss: 0.0086 - accuracy: 0.9963\n",
            "Epoch 25: val_accuracy did not improve from 1.00000\n",
            "202/202 [==============================] - 77s 378ms/step - loss: 0.0086 - accuracy: 0.9963 - val_loss: 7.4885e-04 - val_accuracy: 1.0000 - lr: 1.0000e-06\n",
            "Epoch 26/100\n",
            "202/202 [==============================] - ETA: 0s - loss: 0.0076 - accuracy: 0.9978\n",
            "Epoch 26: val_accuracy did not improve from 1.00000\n",
            "202/202 [==============================] - 78s 386ms/step - loss: 0.0076 - accuracy: 0.9978 - val_loss: 7.6786e-04 - val_accuracy: 1.0000 - lr: 1.0000e-06\n",
            "Epoch 27/100\n",
            "202/202 [==============================] - ETA: 0s - loss: 0.0080 - accuracy: 0.9965\n",
            "Epoch 27: val_accuracy did not improve from 1.00000\n",
            "\n",
            "Epoch 27: ReduceLROnPlateau reducing learning rate to 1.0000001111620805e-07.\n",
            "202/202 [==============================] - 76s 373ms/step - loss: 0.0080 - accuracy: 0.9965 - val_loss: 7.6914e-04 - val_accuracy: 1.0000 - lr: 1.0000e-06\n",
            "Epoch 28/100\n",
            "202/202 [==============================] - ETA: 0s - loss: 0.0080 - accuracy: 0.9970\n",
            "Epoch 28: val_accuracy did not improve from 1.00000\n",
            "202/202 [==============================] - 76s 376ms/step - loss: 0.0080 - accuracy: 0.9970 - val_loss: 7.5975e-04 - val_accuracy: 1.0000 - lr: 1.0000e-07\n",
            "Epoch 29/100\n",
            "202/202 [==============================] - ETA: 0s - loss: 0.0082 - accuracy: 0.9975\n",
            "Epoch 29: val_accuracy did not improve from 1.00000\n",
            "202/202 [==============================] - 76s 377ms/step - loss: 0.0082 - accuracy: 0.9975 - val_loss: 8.3523e-04 - val_accuracy: 0.9990 - lr: 1.0000e-07\n",
            "Epoch 30/100\n",
            "202/202 [==============================] - ETA: 0s - loss: 0.0079 - accuracy: 0.9970\n",
            "Epoch 30: val_accuracy did not improve from 1.00000\n",
            "Restoring model weights from the end of the best epoch: 10.\n",
            "202/202 [==============================] - 80s 394ms/step - loss: 0.0079 - accuracy: 0.9970 - val_loss: 6.7259e-04 - val_accuracy: 1.0000 - lr: 1.0000e-07\n",
            "Epoch 30: early stopping\n"
          ]
        }
      ],
      "source": [
        "# Define the number of epochs\n",
        "num_epochs = 100\n",
        "\n",
        "# Train the model\n",
        "history_Xception_model_2 = Xception_model_2.fit(train_generator, epochs=num_epochs, validation_data=validation_generator, callbacks=callbacks)"
      ]
    },
    {
      "cell_type": "code",
      "execution_count": 17,
      "metadata": {
        "tags": [],
        "colab": {
          "base_uri": "https://localhost:8080/",
          "height": 904
        },
        "id": "_rNy1cYmERe6",
        "outputId": "9c8c0e73-7c07-4769-fb1e-a1e6b550e802"
      },
      "outputs": [
        {
          "output_type": "execute_result",
          "data": {
            "text/plain": [
              "Text(0.5, 1.0, 'Training and validation loss DIY Model')"
            ]
          },
          "metadata": {},
          "execution_count": 17
        },
        {
          "output_type": "display_data",
          "data": {
            "text/plain": [
              "<Figure size 640x480 with 1 Axes>"
            ],
            "image/png": "[encoded data removed]"
          },
          "metadata": {}
        },
        {
          "output_type": "display_data",
          "data": {
            "text/plain": [
              "<Figure size 640x480 with 1 Axes>"
            ],
            "image/png": "[encoded data removed]"
          },
          "metadata": {}
        }
      ],
      "source": [
        "#-----------------------------------------------------------\n",
        "# Retrieve a list of list results on training and test data\n",
        "# sets for each training epoch\n",
        "#-----------------------------------------------------------\n",
        "acc      = history_Xception_model_2.history['accuracy' ]\n",
        "val_acc  = history_Xception_model_2.history['val_accuracy' ]\n",
        "loss     = history_Xception_model_2.history['loss' ]\n",
        "val_loss = history_Xception_model_2.history['val_loss' ]\n",
        "\n",
        "epochs   = range(len(acc)) # Get number of epochs\n",
        "\n",
        "#------------------------------------------------\n",
        "# Plot training and validation accuracy per epoch\n",
        "#------------------------------------------------\n",
        "plt.plot  (epochs, acc )\n",
        "plt.plot  (epochs, val_acc )\n",
        "plt.title ('Training and validation accuracy DIY Model')\n",
        "plt.figure()\n",
        "\n",
        "#------------------------------------------------\n",
        "# Plot training and validation loss per epoch\n",
        "#------------------------------------------------\n",
        "plt.plot  (epochs, loss)\n",
        "plt.plot  (epochs, val_loss)\n",
        "plt.title ('Training and validation loss DIY Model')"
      ]
    }
  ],
  "metadata": {
    "kernelspec": {
      "display_name": "Python 3",
      "name": "python3"
    },
    "language_info": {
      "codemirror_mode": {
        "name": "ipython",
        "version": 3
      },
      "file_extension": ".py",
      "mimetype": "text/x-python",
      "name": "python",
      "nbconvert_exporter": "python",
      "pygments_lexer": "ipython3",
      "version": "3.10.0"
    },
    "colab": {
      "provenance": [],
      "gpuType": "T4"
    },
    "accelerator": "GPU"
  },
  "nbformat": 4,
  "nbformat_minor": 0
}