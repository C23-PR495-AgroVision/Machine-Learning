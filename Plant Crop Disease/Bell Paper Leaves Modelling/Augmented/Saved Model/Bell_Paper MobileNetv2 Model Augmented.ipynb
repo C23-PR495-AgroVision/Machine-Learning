{
 "cells": [
  {
   "attachments": {},
   "cell_type": "markdown",
   "metadata": {},
   "source": [
    "# Library"
   ]
  },
  {
   "cell_type": "code",
   "execution_count": 1,
   "metadata": {
    "tags": []
   },
   "outputs": [
    {
     "name": "stdout",
     "output_type": "stream",
     "text": [
      "Requirement already satisfied: matplotlib in c:\\users\\hasan\\anaconda3\\envs\\tensorflow_gpu_zein\\lib\\site-packages (3.6.3)Note: you may need to restart the kernel to use updated packages.\n",
      "\n",
      "Requirement already satisfied: fonttools>=4.22.0 in c:\\users\\hasan\\anaconda3\\envs\\tensorflow_gpu_zein\\lib\\site-packages (from matplotlib) (4.39.2)\n",
      "Requirement already satisfied: kiwisolver>=1.0.1 in c:\\users\\hasan\\anaconda3\\envs\\tensorflow_gpu_zein\\lib\\site-packages (from matplotlib) (1.4.4)\n",
      "Requirement already satisfied: python-dateutil>=2.7 in c:\\users\\hasan\\anaconda3\\envs\\tensorflow_gpu_zein\\lib\\site-packages (from matplotlib) (2.8.2)\n",
      "Requirement already satisfied: pillow>=6.2.0 in c:\\users\\hasan\\anaconda3\\envs\\tensorflow_gpu_zein\\lib\\site-packages (from matplotlib) (9.4.0)\n",
      "Requirement already satisfied: numpy>=1.19 in c:\\users\\hasan\\anaconda3\\envs\\tensorflow_gpu_zein\\lib\\site-packages (from matplotlib) (1.23.5)\n",
      "Requirement already satisfied: cycler>=0.10 in c:\\users\\hasan\\anaconda3\\envs\\tensorflow_gpu_zein\\lib\\site-packages (from matplotlib) (0.11.0)\n",
      "Requirement already satisfied: contourpy>=1.0.1 in c:\\users\\hasan\\anaconda3\\envs\\tensorflow_gpu_zein\\lib\\site-packages (from matplotlib) (1.0.7)\n",
      "Requirement already satisfied: pyparsing>=2.2.1 in c:\\users\\hasan\\anaconda3\\envs\\tensorflow_gpu_zein\\lib\\site-packages (from matplotlib) (3.0.9)\n",
      "Requirement already satisfied: packaging>=20.0 in c:\\users\\hasan\\anaconda3\\envs\\tensorflow_gpu_zein\\lib\\site-packages (from matplotlib) (23.1)\n",
      "Requirement already satisfied: six>=1.5 in c:\\users\\hasan\\anaconda3\\envs\\tensorflow_gpu_zein\\lib\\site-packages (from python-dateutil>=2.7->matplotlib) (1.16.0)\n"
     ]
    },
    {
     "name": "stderr",
     "output_type": "stream",
     "text": [
      "WARNING: Ignoring invalid distribution -rotobuf (c:\\users\\hasan\\anaconda3\\envs\\tensorflow_gpu_zein\\lib\\site-packages)\n",
      "WARNING: Ignoring invalid distribution -rotobuf (c:\\users\\hasan\\anaconda3\\envs\\tensorflow_gpu_zein\\lib\\site-packages)\n",
      "WARNING: Ignoring invalid distribution -rotobuf (c:\\users\\hasan\\anaconda3\\envs\\tensorflow_gpu_zein\\lib\\site-packages)\n",
      "WARNING: Ignoring invalid distribution -rotobuf (c:\\users\\hasan\\anaconda3\\envs\\tensorflow_gpu_zein\\lib\\site-packages)\n",
      "WARNING: Ignoring invalid distribution -rotobuf (c:\\users\\hasan\\anaconda3\\envs\\tensorflow_gpu_zein\\lib\\site-packages)\n",
      "WARNING: Ignoring invalid distribution -rotobuf (c:\\users\\hasan\\anaconda3\\envs\\tensorflow_gpu_zein\\lib\\site-packages)\n"
     ]
    }
   ],
   "source": [
    "pip install matplotlib"
   ]
  },
  {
   "cell_type": "code",
   "execution_count": 2,
   "metadata": {
    "tags": []
   },
   "outputs": [
    {
     "name": "stdout",
     "output_type": "stream",
     "text": [
      "Requirement already satisfied: opendatasets in c:\\users\\hasan\\anaconda3\\envs\\tensorflow_gpu_zein\\lib\\site-packages (0.1.22)\n",
      "Requirement already satisfied: kaggle in c:\\users\\hasan\\anaconda3\\envs\\tensorflow_gpu_zein\\lib\\site-packages (from opendatasets) (1.5.13)\n",
      "Requirement already satisfied: click in c:\\users\\hasan\\anaconda3\\envs\\tensorflow_gpu_zein\\lib\\site-packages (from opendatasets) (8.1.3)\n",
      "Requirement already satisfied: tqdm in c:\\users\\hasan\\anaconda3\\envs\\tensorflow_gpu_zein\\lib\\site-packages (from opendatasets) (4.64.1)\n",
      "Requirement already satisfied: colorama in c:\\users\\hasan\\anaconda3\\envs\\tensorflow_gpu_zein\\lib\\site-packages (from click->opendatasets) (0.4.6)\n",
      "Requirement already satisfied: python-slugify in c:\\users\\hasan\\anaconda3\\envs\\tensorflow_gpu_zein\\lib\\site-packages (from kaggle->opendatasets) (8.0.1)\n",
      "Requirement already satisfied: python-dateutil in c:\\users\\hasan\\anaconda3\\envs\\tensorflow_gpu_zein\\lib\\site-packages (from kaggle->opendatasets) (2.8.2)\n",
      "Requirement already satisfied: urllib3 in c:\\users\\hasan\\anaconda3\\envs\\tensorflow_gpu_zein\\lib\\site-packages (from kaggle->opendatasets) (1.26.15)\n",
      "Requirement already satisfied: requests in c:\\users\\hasan\\anaconda3\\envs\\tensorflow_gpu_zein\\lib\\site-packages (from kaggle->opendatasets) (2.28.2)\n",
      "Requirement already satisfied: six>=1.10 in c:\\users\\hasan\\anaconda3\\envs\\tensorflow_gpu_zein\\lib\\site-packages (from kaggle->opendatasets) (1.16.0)\n",
      "Requirement already satisfied: certifi in c:\\users\\hasan\\anaconda3\\envs\\tensorflow_gpu_zein\\lib\\site-packages (from kaggle->opendatasets) (2022.12.7)\n",
      "Requirement already satisfied: text-unidecode>=1.3 in c:\\users\\hasan\\anaconda3\\envs\\tensorflow_gpu_zein\\lib\\site-packages (from python-slugify->kaggle->opendatasets) (1.3)\n",
      "Requirement already satisfied: idna<4,>=2.5 in c:\\users\\hasan\\anaconda3\\envs\\tensorflow_gpu_zein\\lib\\site-packages (from requests->kaggle->opendatasets) (3.4)\n",
      "Requirement already satisfied: charset-normalizer<4,>=2 in c:\\users\\hasan\\anaconda3\\envs\\tensorflow_gpu_zein\\lib\\site-packages (from requests->kaggle->opendatasets) (3.1.0)\n",
      "Note: you may need to restart the kernel to use updated packages.\n"
     ]
    },
    {
     "name": "stderr",
     "output_type": "stream",
     "text": [
      "WARNING: Ignoring invalid distribution -rotobuf (c:\\users\\hasan\\anaconda3\\envs\\tensorflow_gpu_zein\\lib\\site-packages)\n",
      "WARNING: Ignoring invalid distribution -rotobuf (c:\\users\\hasan\\anaconda3\\envs\\tensorflow_gpu_zein\\lib\\site-packages)\n",
      "WARNING: Ignoring invalid distribution -rotobuf (c:\\users\\hasan\\anaconda3\\envs\\tensorflow_gpu_zein\\lib\\site-packages)\n",
      "WARNING: Ignoring invalid distribution -rotobuf (c:\\users\\hasan\\anaconda3\\envs\\tensorflow_gpu_zein\\lib\\site-packages)\n",
      "WARNING: Ignoring invalid distribution -rotobuf (c:\\users\\hasan\\anaconda3\\envs\\tensorflow_gpu_zein\\lib\\site-packages)\n",
      "WARNING: Ignoring invalid distribution -rotobuf (c:\\users\\hasan\\anaconda3\\envs\\tensorflow_gpu_zein\\lib\\site-packages)\n"
     ]
    }
   ],
   "source": [
    "pip install opendatasets"
   ]
  },
  {
   "cell_type": "code",
   "execution_count": 3,
   "metadata": {
    "tags": []
   },
   "outputs": [],
   "source": [
    "# Library to dataset\n",
    "import opendatasets as od\n",
    "import os\n",
    "import zipfile\n",
    "import numpy as np\n",
    "\n",
    "# Surpress Warnings\n",
    "import warnings\n",
    "warnings.filterwarnings('ignore')\n",
    "os.environ['TF_CPP_MIN_LOG_LEVEL'] = '3' \n",
    "# library visualization\n",
    "import matplotlib.pyplot as plt\n",
    "\n",
    "# Library Tensorflow\n",
    "import tensorflow as tf\n",
    "from tensorflow import keras\n",
    "from tensorflow.keras.preprocessing.image import ImageDataGenerator\n",
    "from tensorflow.keras.callbacks import ModelCheckpoint, EarlyStopping, ReduceLROnPlateau\n",
    "from tensorflow.keras.applications.densenet import DenseNet121\n",
    "from tensorflow.keras.applications.mobilenet_v2 import MobileNetV2\n",
    "\n",
    "# Others\n",
    "import shutil\n",
    "import random"
   ]
  },
  {
   "attachments": {},
   "cell_type": "markdown",
   "metadata": {},
   "source": [
    "# Load dataset"
   ]
  },
  {
   "cell_type": "code",
   "execution_count": 4,
   "metadata": {
    "tags": []
   },
   "outputs": [
    {
     "name": "stdout",
     "output_type": "stream",
     "text": [
      "==========================Training Data====================\n",
      "Found 4033 files belonging to 2 classes.\n",
      "==========================Validation Data====================\n",
      "Found 962 files belonging to 2 classes.\n"
     ]
    }
   ],
   "source": [
    "# Load dataset\n",
    "print(\"==========================Training Data====================\")\n",
    "train_data = tf.keras.preprocessing.image_dataset_from_directory(\n",
    "    \"Dataset/Bell_pepper/train\",\n",
    "    label_mode=\"categorical\",\n",
    "    class_names= ['Pepper bell Bacterial spot', 'Pepper bell healthy'],\n",
    "    color_mode=\"rgb\",\n",
    "    batch_size=1,\n",
    "    image_size=(256, 256),\n",
    "    shuffle=True,\n",
    "    seed=123\n",
    ")\n",
    "print(\"==========================Validation Data====================\")\n",
    "val_data = tf.keras.preprocessing.image_dataset_from_directory(\n",
    "    \"Dataset/Bell_pepper/test\",\n",
    "    label_mode=\"categorical\",\n",
    "    class_names= ['Pepper bell Bacterial spot', 'Pepper bell healthy'],\n",
    "    color_mode=\"rgb\",\n",
    "    batch_size=1,\n",
    "    image_size=(256, 256),\n",
    "    shuffle=True,\n",
    "    seed=123\n",
    ")"
   ]
  },
  {
   "cell_type": "code",
   "execution_count": 5,
   "metadata": {
    "tags": []
   },
   "outputs": [
    {
     "name": "stdout",
     "output_type": "stream",
     "text": [
      "Found 4033 images belonging to 2 classes.\n",
      "Found 962 images belonging to 2 classes.\n"
     ]
    }
   ],
   "source": [
    "# All images will be rescaled by 1./256. and Augmented\n",
    "train_datagen = ImageDataGenerator(rescale = 1.0/256.,\n",
    "                                   rotation_range=40,\n",
    "                                   width_shift_range=0.2,\n",
    "                                   height_shift_range=0.2,\n",
    "                                   shear_range=0.2,\n",
    "                                   zoom_range=0.2,\n",
    "                                   horizontal_flip=True,\n",
    "                                   fill_mode='nearest')\n",
    "\n",
    "test_datagen  = ImageDataGenerator(rescale = 1.0/256.)\n",
    "\n",
    "# --------------------\n",
    "# Flow training images in batches of 20 using train_datagen generator\n",
    "# --------------------\n",
    "train_generator = train_datagen.flow_from_directory(\"Dataset/Bell_pepper/train\",\n",
    "                                                    batch_size=20,\n",
    "                                                    class_mode='categorical',\n",
    "                                                    target_size=(224, 224))     \n",
    "# --------------------\n",
    "# Flow validation images in batches of 20 using test_datagen generator\n",
    "# --------------------\n",
    "validation_generator =  test_datagen.flow_from_directory(\"Dataset/Bell_pepper/test\",\n",
    "                                                         batch_size=20,\n",
    "                                                         class_mode  = 'categorical',\n",
    "                                                         target_size = (224, 224))"
   ]
  },
  {
   "attachments": {},
   "cell_type": "markdown",
   "metadata": {},
   "source": [
    "# List Resource"
   ]
  },
  {
   "cell_type": "code",
   "execution_count": 6,
   "metadata": {
    "tags": []
   },
   "outputs": [
    {
     "name": "stdout",
     "output_type": "stream",
     "text": [
      "Sat May 27 13:45:15 2023       \n",
      "+---------------------------------------------------------------------------------------+\n",
      "| NVIDIA-SMI 532.03                 Driver Version: 532.03       CUDA Version: 12.1     |\n",
      "|-----------------------------------------+----------------------+----------------------+\n",
      "| GPU  Name                      TCC/WDDM | Bus-Id        Disp.A | Volatile Uncorr. ECC |\n",
      "| Fan  Temp  Perf            Pwr:Usage/Cap|         Memory-Usage | GPU-Util  Compute M. |\n",
      "|                                         |                      |               MIG M. |\n",
      "|=========================================+======================+======================|\n",
      "|   0  NVIDIA GeForce RTX 3060 L...  WDDM | 00000000:01:00.0  On |                  N/A |\n",
      "| N/A   53C    P0               39W /  N/A|   5339MiB /  6144MiB |      7%      Default |\n",
      "|                                         |                      |                  N/A |\n",
      "+-----------------------------------------+----------------------+----------------------+\n",
      "                                                                                         \n",
      "+---------------------------------------------------------------------------------------+\n",
      "| Processes:                                                                            |\n",
      "|  GPU   GI   CI        PID   Type   Process name                            GPU Memory |\n",
      "|        ID   ID                                                             Usage      |\n",
      "|=======================================================================================|\n",
      "|    0   N/A  N/A      2012    C+G   ...2.0_x64__cv1g1gvanyjgm\\WhatsApp.exe    N/A      |\n",
      "|    0   N/A  N/A      2668    C+G   ...siveControlPanel\\SystemSettings.exe    N/A      |\n",
      "|    0   N/A  N/A      7012    C+G   ...64__v826wp6bftszj\\TranslucentTB.exe    N/A      |\n",
      "|    0   N/A  N/A      9000    C+G   ...les\\AMD\\CNext\\CNext\\AMDRSSrcExt.exe    N/A      |\n",
      "|    0   N/A  N/A      9152      C   ...envs\\tensorflow_gpu_zein\\python.exe    N/A      |\n",
      "|    0   N/A  N/A     10052    C+G   C:\\WINDOWS\\explorer.exe                   N/A      |\n",
      "|    0   N/A  N/A     12016    C+G   ...nt.CBS_cw5n1h2txyewy\\SearchHost.exe    N/A      |\n",
      "|    0   N/A  N/A     12076    C+G   ...2txyewy\\StartMenuExperienceHost.exe    N/A      |\n",
      "|    0   N/A  N/A     13880    C+G   ...les\\Microsoft OneDrive\\OneDrive.exe    N/A      |\n",
      "|    0   N/A  N/A     15052    C+G   ...ekyb3d8bbwe\\PhoneExperienceHost.exe    N/A      |\n",
      "|    0   N/A  N/A     16584    C+G   ...oogle\\Chrome\\Application\\chrome.exe    N/A      |\n",
      "|    0   N/A  N/A     17064    C+G   ...1.0_x64__t4vj0pshhgkwm\\Telegram.exe    N/A      |\n",
      "|    0   N/A  N/A     18404    C+G   ...GeForce Experience\\NVIDIA Share.exe    N/A      |\n",
      "|    0   N/A  N/A     19676    C+G   ...02.0_x86__zpdnekdrzrea0\\Spotify.exe    N/A      |\n",
      "|    0   N/A  N/A     21076    C+G   ...Programs\\Microsoft VS Code\\Code.exe    N/A      |\n",
      "|    0   N/A  N/A     23224    C+G   ...1.0_x64__8wekyb3d8bbwe\\Video.UI.exe    N/A      |\n",
      "|    0   N/A  N/A     23568    C+G   ...on\\113.0.1774.50\\msedgewebview2.exe    N/A      |\n",
      "|    0   N/A  N/A     24300    C+G   ...les\\Microsoft OneDrive\\OneDrive.exe    N/A      |\n",
      "|    0   N/A  N/A     24364    C+G   ...\\AMD\\CNext\\CNext\\RadeonSoftware.exe    N/A      |\n",
      "|    0   N/A  N/A     25604      C   ...envs\\tensorflow_gpu_zein\\python.exe    N/A      |\n",
      "|    0   N/A  N/A     26028    C+G   ...5n1h2txyewy\\ShellExperienceHost.exe    N/A      |\n",
      "+---------------------------------------------------------------------------------------+\n"
     ]
    }
   ],
   "source": [
    "# Check GPU\n",
    "!nvidia-smi"
   ]
  },
  {
   "cell_type": "code",
   "execution_count": 7,
   "metadata": {
    "tags": []
   },
   "outputs": [
    {
     "data": {
      "text/plain": [
       "[PhysicalDevice(name='/physical_device:GPU:0', device_type='GPU')]"
      ]
     },
     "execution_count": 7,
     "metadata": {},
     "output_type": "execute_result"
    }
   ],
   "source": [
    "# Lis physical devices\n",
    "devices = tf.config.experimental.list_physical_devices(\"GPU\")\n",
    "devices"
   ]
  },
  {
   "cell_type": "code",
   "execution_count": 8,
   "metadata": {
    "tags": []
   },
   "outputs": [
    {
     "name": "stdout",
     "output_type": "stream",
     "text": [
      "INFO:tensorflow:Using MirroredStrategy with devices ('/job:localhost/replica:0/task:0/device:GPU:0',)\n"
     ]
    }
   ],
   "source": [
    "# Define the GPU strategy\n",
    "mirrored_strategy = tf.distribute.MirroredStrategy(devices=[\"/gpu:0\"])"
   ]
  },
  {
   "attachments": {},
   "cell_type": "markdown",
   "metadata": {},
   "source": [
    "# Modelling With Augmentation"
   ]
  },
  {
   "attachments": {},
   "cell_type": "markdown",
   "metadata": {},
   "source": [
    "## MobileNetV2 Model 1"
   ]
  },
  {
   "cell_type": "code",
   "execution_count": 9,
   "metadata": {
    "tags": []
   },
   "outputs": [],
   "source": [
    "# Difine the callbacks\n",
    "# Save the best model\n",
    "checkpoint_callback = ModelCheckpoint(filepath=\"BellPaper_MobileNetV2_model1_Based_Augmented\", save_best_only=True, monitor=\"val_accuracy\", mode=\"max\", verbose=1)\n",
    "\n",
    "# Early stopping\n",
    "early_stopping_callback = EarlyStopping(monitor=\"val_accuracy\", mode=\"max\", patience=20, verbose=1, restore_best_weights=True)\n",
    "\n",
    "# Reduce learning rate\n",
    "reduce_lr_callback = ReduceLROnPlateau(monitor=\"val_loss\", factor=0.1, patience=5, verbose=1, mode=\"min\", min_delta=0.0001, cooldown=0, min_lr=0)\n",
    "\n",
    "# Callbacks list\n",
    "callbacks=[checkpoint_callback, early_stopping_callback, reduce_lr_callback]"
   ]
  },
  {
   "cell_type": "code",
   "execution_count": 10,
   "metadata": {
    "tags": []
   },
   "outputs": [
    {
     "name": "stdout",
     "output_type": "stream",
     "text": [
      "Model: \"sequential\"\n",
      "_________________________________________________________________\n",
      " Layer (type)                Output Shape              Param #   \n",
      "=================================================================\n",
      " mobilenetv2_1.00_224 (Funct  (None, 7, 7, 1280)       2257984   \n",
      " ional)                                                          \n",
      "                                                                 \n",
      " global_max_pooling2d (Globa  (None, 1280)             0         \n",
      " lMaxPooling2D)                                                  \n",
      "                                                                 \n",
      " dropout (Dropout)           (None, 1280)              0         \n",
      "                                                                 \n",
      " dense (Dense)               (None, 256)               327936    \n",
      "                                                                 \n",
      " dense_1 (Dense)             (None, 2)                 514       \n",
      "                                                                 \n",
      "=================================================================\n",
      "Total params: 2,586,434\n",
      "Trainable params: 2,552,322\n",
      "Non-trainable params: 34,112\n",
      "_________________________________________________________________\n"
     ]
    }
   ],
   "source": [
    "# Define Model\n",
    "MobileNetV2_model = tf.keras.models.Sequential([\n",
    "    # MobileNetV2 Layer\n",
    "    MobileNetV2(include_top=False,weights='imagenet',input_shape=(224, 224, 3)),\n",
    "    # Max Pooling Layer\n",
    "    tf.keras.layers.GlobalMaxPooling2D(),\n",
    "    # Drop Out Layer\n",
    "    tf.keras.layers.Dropout(0.2),\n",
    "    # 256 neuron hidden layer\n",
    "    tf.keras.layers.Dense(256, activation='relu'),\n",
    "    # Output\n",
    "    tf.keras.layers.Dense(2, activation='softmax') \n",
    "  ])\n",
    "\n",
    "\n",
    "# Compile Model\n",
    "MobileNetV2_model.compile(loss='categorical_crossentropy',optimizer=tf.keras.optimizers.Adam(), metrics=['accuracy']) \n",
    "\n",
    "# Model Summary\n",
    "MobileNetV2_model.summary()"
   ]
  },
  {
   "cell_type": "code",
   "execution_count": 11,
   "metadata": {
    "tags": []
   },
   "outputs": [
    {
     "name": "stdout",
     "output_type": "stream",
     "text": [
      "Epoch 1/100\n",
      "202/202 [==============================] - ETA: 0s - loss: 0.4292 - accuracy: 0.9425\n",
      "Epoch 1: val_accuracy improved from -inf to 0.56237, saving model to BellPaper_MobileNetV2_model1_Based_Augmented\n"
     ]
    },
    {
     "name": "stderr",
     "output_type": "stream",
     "text": [
      "WARNING:absl:Function `_wrapped_model` contains input name(s) mobilenetv2_1.00_224_input with unsupported characters which will be renamed to mobilenetv2_1_00_224_input in the SavedModel.\n",
      "WARNING:absl:Found untraced functions such as _jit_compiled_convolution_op, _jit_compiled_convolution_op, _jit_compiled_convolution_op, _jit_compiled_convolution_op, _jit_compiled_convolution_op while saving (showing 5 of 52). These functions will not be directly callable after loading.\n"
     ]
    },
    {
     "name": "stdout",
     "output_type": "stream",
     "text": [
      "INFO:tensorflow:Assets written to: BellPaper_MobileNetV2_model1_Based_Augmented\\assets\n"
     ]
    },
    {
     "name": "stderr",
     "output_type": "stream",
     "text": [
      "INFO:tensorflow:Assets written to: BellPaper_MobileNetV2_model1_Based_Augmented\\assets\n"
     ]
    },
    {
     "name": "stdout",
     "output_type": "stream",
     "text": [
      "202/202 [==============================] - 80s 359ms/step - loss: 0.4292 - accuracy: 0.9425 - val_loss: 2.5922 - val_accuracy: 0.5624 - lr: 0.0010\n",
      "Epoch 2/100\n",
      "202/202 [==============================] - ETA: 0s - loss: 0.0905 - accuracy: 0.9697\n",
      "Epoch 2: val_accuracy improved from 0.56237 to 0.62474, saving model to BellPaper_MobileNetV2_model1_Based_Augmented\n"
     ]
    },
    {
     "name": "stderr",
     "output_type": "stream",
     "text": [
      "WARNING:absl:Function `_wrapped_model` contains input name(s) mobilenetv2_1.00_224_input with unsupported characters which will be renamed to mobilenetv2_1_00_224_input in the SavedModel.\n",
      "WARNING:absl:Found untraced functions such as _jit_compiled_convolution_op, _jit_compiled_convolution_op, _jit_compiled_convolution_op, _jit_compiled_convolution_op, _jit_compiled_convolution_op while saving (showing 5 of 52). These functions will not be directly callable after loading.\n"
     ]
    },
    {
     "name": "stdout",
     "output_type": "stream",
     "text": [
      "INFO:tensorflow:Assets written to: BellPaper_MobileNetV2_model1_Based_Augmented\\assets\n"
     ]
    },
    {
     "name": "stderr",
     "output_type": "stream",
     "text": [
      "INFO:tensorflow:Assets written to: BellPaper_MobileNetV2_model1_Based_Augmented\\assets\n"
     ]
    },
    {
     "name": "stdout",
     "output_type": "stream",
     "text": [
      "202/202 [==============================] - 49s 239ms/step - loss: 0.0905 - accuracy: 0.9697 - val_loss: 1.5001 - val_accuracy: 0.6247 - lr: 0.0010\n",
      "Epoch 3/100\n",
      "202/202 [==============================] - ETA: 0s - loss: 0.0959 - accuracy: 0.9697\n",
      "Epoch 3: val_accuracy improved from 0.62474 to 0.71206, saving model to BellPaper_MobileNetV2_model1_Based_Augmented\n"
     ]
    },
    {
     "name": "stderr",
     "output_type": "stream",
     "text": [
      "WARNING:absl:Function `_wrapped_model` contains input name(s) mobilenetv2_1.00_224_input with unsupported characters which will be renamed to mobilenetv2_1_00_224_input in the SavedModel.\n",
      "WARNING:absl:Found untraced functions such as _jit_compiled_convolution_op, _jit_compiled_convolution_op, _jit_compiled_convolution_op, _jit_compiled_convolution_op, _jit_compiled_convolution_op while saving (showing 5 of 52). These functions will not be directly callable after loading.\n"
     ]
    },
    {
     "name": "stdout",
     "output_type": "stream",
     "text": [
      "INFO:tensorflow:Assets written to: BellPaper_MobileNetV2_model1_Based_Augmented\\assets\n"
     ]
    },
    {
     "name": "stderr",
     "output_type": "stream",
     "text": [
      "INFO:tensorflow:Assets written to: BellPaper_MobileNetV2_model1_Based_Augmented\\assets\n"
     ]
    },
    {
     "name": "stdout",
     "output_type": "stream",
     "text": [
      "202/202 [==============================] - 50s 246ms/step - loss: 0.0959 - accuracy: 0.9697 - val_loss: 0.6549 - val_accuracy: 0.7121 - lr: 0.0010\n",
      "Epoch 4/100\n",
      "202/202 [==============================] - ETA: 0s - loss: 0.0566 - accuracy: 0.9774\n",
      "Epoch 4: val_accuracy did not improve from 0.71206\n",
      "202/202 [==============================] - 35s 173ms/step - loss: 0.0566 - accuracy: 0.9774 - val_loss: 2.0584 - val_accuracy: 0.6455 - lr: 0.0010\n",
      "Epoch 5/100\n",
      "202/202 [==============================] - ETA: 0s - loss: 0.0619 - accuracy: 0.9782\n",
      "Epoch 5: val_accuracy improved from 0.71206 to 0.79730, saving model to BellPaper_MobileNetV2_model1_Based_Augmented\n"
     ]
    },
    {
     "name": "stderr",
     "output_type": "stream",
     "text": [
      "WARNING:absl:Function `_wrapped_model` contains input name(s) mobilenetv2_1.00_224_input with unsupported characters which will be renamed to mobilenetv2_1_00_224_input in the SavedModel.\n",
      "WARNING:absl:Found untraced functions such as _jit_compiled_convolution_op, _jit_compiled_convolution_op, _jit_compiled_convolution_op, _jit_compiled_convolution_op, _jit_compiled_convolution_op while saving (showing 5 of 52). These functions will not be directly callable after loading.\n"
     ]
    },
    {
     "name": "stdout",
     "output_type": "stream",
     "text": [
      "INFO:tensorflow:Assets written to: BellPaper_MobileNetV2_model1_Based_Augmented\\assets\n"
     ]
    },
    {
     "name": "stderr",
     "output_type": "stream",
     "text": [
      "INFO:tensorflow:Assets written to: BellPaper_MobileNetV2_model1_Based_Augmented\\assets\n"
     ]
    },
    {
     "name": "stdout",
     "output_type": "stream",
     "text": [
      "202/202 [==============================] - 50s 250ms/step - loss: 0.0619 - accuracy: 0.9782 - val_loss: 1.0343 - val_accuracy: 0.7973 - lr: 0.0010\n",
      "Epoch 6/100\n",
      "202/202 [==============================] - ETA: 0s - loss: 0.0399 - accuracy: 0.9864\n",
      "Epoch 6: val_accuracy did not improve from 0.79730\n",
      "202/202 [==============================] - 34s 169ms/step - loss: 0.0399 - accuracy: 0.9864 - val_loss: 1.5535 - val_accuracy: 0.7422 - lr: 0.0010\n",
      "Epoch 7/100\n",
      "202/202 [==============================] - ETA: 0s - loss: 0.0418 - accuracy: 0.9824\n",
      "Epoch 7: val_accuracy improved from 0.79730 to 0.87734, saving model to BellPaper_MobileNetV2_model1_Based_Augmented\n"
     ]
    },
    {
     "name": "stderr",
     "output_type": "stream",
     "text": [
      "WARNING:absl:Function `_wrapped_model` contains input name(s) mobilenetv2_1.00_224_input with unsupported characters which will be renamed to mobilenetv2_1_00_224_input in the SavedModel.\n",
      "WARNING:absl:Found untraced functions such as _jit_compiled_convolution_op, _jit_compiled_convolution_op, _jit_compiled_convolution_op, _jit_compiled_convolution_op, _jit_compiled_convolution_op while saving (showing 5 of 52). These functions will not be directly callable after loading.\n"
     ]
    },
    {
     "name": "stdout",
     "output_type": "stream",
     "text": [
      "INFO:tensorflow:Assets written to: BellPaper_MobileNetV2_model1_Based_Augmented\\assets\n"
     ]
    },
    {
     "name": "stderr",
     "output_type": "stream",
     "text": [
      "INFO:tensorflow:Assets written to: BellPaper_MobileNetV2_model1_Based_Augmented\\assets\n"
     ]
    },
    {
     "name": "stdout",
     "output_type": "stream",
     "text": [
      "202/202 [==============================] - 50s 249ms/step - loss: 0.0418 - accuracy: 0.9824 - val_loss: 0.6089 - val_accuracy: 0.8773 - lr: 0.0010\n",
      "Epoch 8/100\n",
      "202/202 [==============================] - ETA: 0s - loss: 0.0369 - accuracy: 0.9874\n",
      "Epoch 8: val_accuracy did not improve from 0.87734\n",
      "202/202 [==============================] - 35s 172ms/step - loss: 0.0369 - accuracy: 0.9874 - val_loss: 0.8428 - val_accuracy: 0.7412 - lr: 0.0010\n",
      "Epoch 9/100\n",
      "202/202 [==============================] - ETA: 0s - loss: 0.0521 - accuracy: 0.9812\n",
      "Epoch 9: val_accuracy did not improve from 0.87734\n",
      "202/202 [==============================] - 35s 171ms/step - loss: 0.0521 - accuracy: 0.9812 - val_loss: 2.7829 - val_accuracy: 0.5593 - lr: 0.0010\n",
      "Epoch 10/100\n",
      "202/202 [==============================] - ETA: 0s - loss: 0.0536 - accuracy: 0.9839\n",
      "Epoch 10: val_accuracy did not improve from 0.87734\n",
      "202/202 [==============================] - 33s 165ms/step - loss: 0.0536 - accuracy: 0.9839 - val_loss: 1.1876 - val_accuracy: 0.7516 - lr: 0.0010\n",
      "Epoch 11/100\n",
      "202/202 [==============================] - ETA: 0s - loss: 0.0457 - accuracy: 0.9844\n",
      "Epoch 11: val_accuracy did not improve from 0.87734\n",
      "202/202 [==============================] - 34s 166ms/step - loss: 0.0457 - accuracy: 0.9844 - val_loss: 1.0964 - val_accuracy: 0.7672 - lr: 0.0010\n",
      "Epoch 12/100\n",
      "202/202 [==============================] - ETA: 0s - loss: 0.0369 - accuracy: 0.9856\n",
      "Epoch 12: val_accuracy did not improve from 0.87734\n",
      "\n",
      "Epoch 12: ReduceLROnPlateau reducing learning rate to 0.00010000000474974513.\n",
      "202/202 [==============================] - 33s 163ms/step - loss: 0.0369 - accuracy: 0.9856 - val_loss: 1.1281 - val_accuracy: 0.7983 - lr: 0.0010\n",
      "Epoch 13/100\n",
      "202/202 [==============================] - ETA: 0s - loss: 0.0220 - accuracy: 0.9918\n",
      "Epoch 13: val_accuracy improved from 0.87734 to 0.88565, saving model to BellPaper_MobileNetV2_model1_Based_Augmented\n"
     ]
    },
    {
     "name": "stderr",
     "output_type": "stream",
     "text": [
      "WARNING:absl:Function `_wrapped_model` contains input name(s) mobilenetv2_1.00_224_input with unsupported characters which will be renamed to mobilenetv2_1_00_224_input in the SavedModel.\n",
      "WARNING:absl:Found untraced functions such as _jit_compiled_convolution_op, _jit_compiled_convolution_op, _jit_compiled_convolution_op, _jit_compiled_convolution_op, _jit_compiled_convolution_op while saving (showing 5 of 52). These functions will not be directly callable after loading.\n"
     ]
    },
    {
     "name": "stdout",
     "output_type": "stream",
     "text": [
      "INFO:tensorflow:Assets written to: BellPaper_MobileNetV2_model1_Based_Augmented\\assets\n"
     ]
    },
    {
     "name": "stderr",
     "output_type": "stream",
     "text": [
      "INFO:tensorflow:Assets written to: BellPaper_MobileNetV2_model1_Based_Augmented\\assets\n"
     ]
    },
    {
     "name": "stdout",
     "output_type": "stream",
     "text": [
      "202/202 [==============================] - 52s 259ms/step - loss: 0.0220 - accuracy: 0.9918 - val_loss: 0.5349 - val_accuracy: 0.8857 - lr: 1.0000e-04\n",
      "Epoch 14/100\n",
      "202/202 [==============================] - ETA: 0s - loss: 0.0153 - accuracy: 0.9931\n",
      "Epoch 14: val_accuracy improved from 0.88565 to 0.91476, saving model to BellPaper_MobileNetV2_model1_Based_Augmented\n"
     ]
    },
    {
     "name": "stderr",
     "output_type": "stream",
     "text": [
      "WARNING:absl:Function `_wrapped_model` contains input name(s) mobilenetv2_1.00_224_input with unsupported characters which will be renamed to mobilenetv2_1_00_224_input in the SavedModel.\n",
      "WARNING:absl:Found untraced functions such as _jit_compiled_convolution_op, _jit_compiled_convolution_op, _jit_compiled_convolution_op, _jit_compiled_convolution_op, _jit_compiled_convolution_op while saving (showing 5 of 52). These functions will not be directly callable after loading.\n"
     ]
    },
    {
     "name": "stdout",
     "output_type": "stream",
     "text": [
      "INFO:tensorflow:Assets written to: BellPaper_MobileNetV2_model1_Based_Augmented\\assets\n"
     ]
    },
    {
     "name": "stderr",
     "output_type": "stream",
     "text": [
      "INFO:tensorflow:Assets written to: BellPaper_MobileNetV2_model1_Based_Augmented\\assets\n"
     ]
    },
    {
     "name": "stdout",
     "output_type": "stream",
     "text": [
      "202/202 [==============================] - 50s 244ms/step - loss: 0.0153 - accuracy: 0.9931 - val_loss: 0.4511 - val_accuracy: 0.9148 - lr: 1.0000e-04\n",
      "Epoch 15/100\n",
      "202/202 [==============================] - ETA: 0s - loss: 0.0150 - accuracy: 0.9936\n",
      "Epoch 15: val_accuracy improved from 0.91476 to 0.94387, saving model to BellPaper_MobileNetV2_model1_Based_Augmented\n"
     ]
    },
    {
     "name": "stderr",
     "output_type": "stream",
     "text": [
      "WARNING:absl:Function `_wrapped_model` contains input name(s) mobilenetv2_1.00_224_input with unsupported characters which will be renamed to mobilenetv2_1_00_224_input in the SavedModel.\n",
      "WARNING:absl:Found untraced functions such as _jit_compiled_convolution_op, _jit_compiled_convolution_op, _jit_compiled_convolution_op, _jit_compiled_convolution_op, _jit_compiled_convolution_op while saving (showing 5 of 52). These functions will not be directly callable after loading.\n"
     ]
    },
    {
     "name": "stdout",
     "output_type": "stream",
     "text": [
      "INFO:tensorflow:Assets written to: BellPaper_MobileNetV2_model1_Based_Augmented\\assets\n"
     ]
    },
    {
     "name": "stderr",
     "output_type": "stream",
     "text": [
      "INFO:tensorflow:Assets written to: BellPaper_MobileNetV2_model1_Based_Augmented\\assets\n"
     ]
    },
    {
     "name": "stdout",
     "output_type": "stream",
     "text": [
      "202/202 [==============================] - 50s 243ms/step - loss: 0.0150 - accuracy: 0.9936 - val_loss: 0.3336 - val_accuracy: 0.9439 - lr: 1.0000e-04\n",
      "Epoch 16/100\n",
      "202/202 [==============================] - ETA: 0s - loss: 0.0174 - accuracy: 0.9928\n",
      "Epoch 16: val_accuracy improved from 0.94387 to 0.96362, saving model to BellPaper_MobileNetV2_model1_Based_Augmented\n"
     ]
    },
    {
     "name": "stderr",
     "output_type": "stream",
     "text": [
      "WARNING:absl:Function `_wrapped_model` contains input name(s) mobilenetv2_1.00_224_input with unsupported characters which will be renamed to mobilenetv2_1_00_224_input in the SavedModel.\n",
      "WARNING:absl:Found untraced functions such as _jit_compiled_convolution_op, _jit_compiled_convolution_op, _jit_compiled_convolution_op, _jit_compiled_convolution_op, _jit_compiled_convolution_op while saving (showing 5 of 52). These functions will not be directly callable after loading.\n"
     ]
    },
    {
     "name": "stdout",
     "output_type": "stream",
     "text": [
      "INFO:tensorflow:Assets written to: BellPaper_MobileNetV2_model1_Based_Augmented\\assets\n"
     ]
    },
    {
     "name": "stderr",
     "output_type": "stream",
     "text": [
      "INFO:tensorflow:Assets written to: BellPaper_MobileNetV2_model1_Based_Augmented\\assets\n"
     ]
    },
    {
     "name": "stdout",
     "output_type": "stream",
     "text": [
      "202/202 [==============================] - 49s 240ms/step - loss: 0.0174 - accuracy: 0.9928 - val_loss: 0.2082 - val_accuracy: 0.9636 - lr: 1.0000e-04\n",
      "Epoch 17/100\n",
      "202/202 [==============================] - ETA: 0s - loss: 0.0141 - accuracy: 0.9933\n",
      "Epoch 17: val_accuracy improved from 0.96362 to 0.97713, saving model to BellPaper_MobileNetV2_model1_Based_Augmented\n"
     ]
    },
    {
     "name": "stderr",
     "output_type": "stream",
     "text": [
      "WARNING:absl:Function `_wrapped_model` contains input name(s) mobilenetv2_1.00_224_input with unsupported characters which will be renamed to mobilenetv2_1_00_224_input in the SavedModel.\n",
      "WARNING:absl:Found untraced functions such as _jit_compiled_convolution_op, _jit_compiled_convolution_op, _jit_compiled_convolution_op, _jit_compiled_convolution_op, _jit_compiled_convolution_op while saving (showing 5 of 52). These functions will not be directly callable after loading.\n"
     ]
    },
    {
     "name": "stdout",
     "output_type": "stream",
     "text": [
      "INFO:tensorflow:Assets written to: BellPaper_MobileNetV2_model1_Based_Augmented\\assets\n"
     ]
    },
    {
     "name": "stderr",
     "output_type": "stream",
     "text": [
      "INFO:tensorflow:Assets written to: BellPaper_MobileNetV2_model1_Based_Augmented\\assets\n"
     ]
    },
    {
     "name": "stdout",
     "output_type": "stream",
     "text": [
      "202/202 [==============================] - 50s 246ms/step - loss: 0.0141 - accuracy: 0.9933 - val_loss: 0.1139 - val_accuracy: 0.9771 - lr: 1.0000e-04\n",
      "Epoch 18/100\n",
      "202/202 [==============================] - ETA: 0s - loss: 0.0127 - accuracy: 0.9940\n",
      "Epoch 18: val_accuracy improved from 0.97713 to 0.98441, saving model to BellPaper_MobileNetV2_model1_Based_Augmented\n"
     ]
    },
    {
     "name": "stderr",
     "output_type": "stream",
     "text": [
      "WARNING:absl:Function `_wrapped_model` contains input name(s) mobilenetv2_1.00_224_input with unsupported characters which will be renamed to mobilenetv2_1_00_224_input in the SavedModel.\n",
      "WARNING:absl:Found untraced functions such as _jit_compiled_convolution_op, _jit_compiled_convolution_op, _jit_compiled_convolution_op, _jit_compiled_convolution_op, _jit_compiled_convolution_op while saving (showing 5 of 52). These functions will not be directly callable after loading.\n"
     ]
    },
    {
     "name": "stdout",
     "output_type": "stream",
     "text": [
      "INFO:tensorflow:Assets written to: BellPaper_MobileNetV2_model1_Based_Augmented\\assets\n"
     ]
    },
    {
     "name": "stderr",
     "output_type": "stream",
     "text": [
      "INFO:tensorflow:Assets written to: BellPaper_MobileNetV2_model1_Based_Augmented\\assets\n"
     ]
    },
    {
     "name": "stdout",
     "output_type": "stream",
     "text": [
      "202/202 [==============================] - 49s 243ms/step - loss: 0.0127 - accuracy: 0.9940 - val_loss: 0.0654 - val_accuracy: 0.9844 - lr: 1.0000e-04\n",
      "Epoch 19/100\n",
      "202/202 [==============================] - ETA: 0s - loss: 0.0116 - accuracy: 0.9950\n",
      "Epoch 19: val_accuracy did not improve from 0.98441\n",
      "202/202 [==============================] - 34s 166ms/step - loss: 0.0116 - accuracy: 0.9950 - val_loss: 0.0746 - val_accuracy: 0.9782 - lr: 1.0000e-04\n",
      "Epoch 20/100\n",
      "202/202 [==============================] - ETA: 0s - loss: 0.0136 - accuracy: 0.9950\n",
      "Epoch 20: val_accuracy improved from 0.98441 to 0.99480, saving model to BellPaper_MobileNetV2_model1_Based_Augmented\n"
     ]
    },
    {
     "name": "stderr",
     "output_type": "stream",
     "text": [
      "WARNING:absl:Function `_wrapped_model` contains input name(s) mobilenetv2_1.00_224_input with unsupported characters which will be renamed to mobilenetv2_1_00_224_input in the SavedModel.\n",
      "WARNING:absl:Found untraced functions such as _jit_compiled_convolution_op, _jit_compiled_convolution_op, _jit_compiled_convolution_op, _jit_compiled_convolution_op, _jit_compiled_convolution_op while saving (showing 5 of 52). These functions will not be directly callable after loading.\n"
     ]
    },
    {
     "name": "stdout",
     "output_type": "stream",
     "text": [
      "INFO:tensorflow:Assets written to: BellPaper_MobileNetV2_model1_Based_Augmented\\assets\n"
     ]
    },
    {
     "name": "stderr",
     "output_type": "stream",
     "text": [
      "INFO:tensorflow:Assets written to: BellPaper_MobileNetV2_model1_Based_Augmented\\assets\n"
     ]
    },
    {
     "name": "stdout",
     "output_type": "stream",
     "text": [
      "202/202 [==============================] - 53s 261ms/step - loss: 0.0136 - accuracy: 0.9950 - val_loss: 0.0238 - val_accuracy: 0.9948 - lr: 1.0000e-04\n",
      "Epoch 21/100\n",
      "202/202 [==============================] - ETA: 0s - loss: 0.0123 - accuracy: 0.9953\n",
      "Epoch 21: val_accuracy improved from 0.99480 to 0.99792, saving model to BellPaper_MobileNetV2_model1_Based_Augmented\n"
     ]
    },
    {
     "name": "stderr",
     "output_type": "stream",
     "text": [
      "WARNING:absl:Function `_wrapped_model` contains input name(s) mobilenetv2_1.00_224_input with unsupported characters which will be renamed to mobilenetv2_1_00_224_input in the SavedModel.\n",
      "WARNING:absl:Found untraced functions such as _jit_compiled_convolution_op, _jit_compiled_convolution_op, _jit_compiled_convolution_op, _jit_compiled_convolution_op, _jit_compiled_convolution_op while saving (showing 5 of 52). These functions will not be directly callable after loading.\n"
     ]
    },
    {
     "name": "stdout",
     "output_type": "stream",
     "text": [
      "INFO:tensorflow:Assets written to: BellPaper_MobileNetV2_model1_Based_Augmented\\assets\n"
     ]
    },
    {
     "name": "stderr",
     "output_type": "stream",
     "text": [
      "INFO:tensorflow:Assets written to: BellPaper_MobileNetV2_model1_Based_Augmented\\assets\n"
     ]
    },
    {
     "name": "stdout",
     "output_type": "stream",
     "text": [
      "202/202 [==============================] - 51s 252ms/step - loss: 0.0123 - accuracy: 0.9953 - val_loss: 0.0074 - val_accuracy: 0.9979 - lr: 1.0000e-04\n",
      "Epoch 22/100\n",
      "202/202 [==============================] - ETA: 0s - loss: 0.0123 - accuracy: 0.9950\n",
      "Epoch 22: val_accuracy improved from 0.99792 to 1.00000, saving model to BellPaper_MobileNetV2_model1_Based_Augmented\n"
     ]
    },
    {
     "name": "stderr",
     "output_type": "stream",
     "text": [
      "WARNING:absl:Function `_wrapped_model` contains input name(s) mobilenetv2_1.00_224_input with unsupported characters which will be renamed to mobilenetv2_1_00_224_input in the SavedModel.\n",
      "WARNING:absl:Found untraced functions such as _jit_compiled_convolution_op, _jit_compiled_convolution_op, _jit_compiled_convolution_op, _jit_compiled_convolution_op, _jit_compiled_convolution_op while saving (showing 5 of 52). These functions will not be directly callable after loading.\n"
     ]
    },
    {
     "name": "stdout",
     "output_type": "stream",
     "text": [
      "INFO:tensorflow:Assets written to: BellPaper_MobileNetV2_model1_Based_Augmented\\assets\n"
     ]
    },
    {
     "name": "stderr",
     "output_type": "stream",
     "text": [
      "INFO:tensorflow:Assets written to: BellPaper_MobileNetV2_model1_Based_Augmented\\assets\n"
     ]
    },
    {
     "name": "stdout",
     "output_type": "stream",
     "text": [
      "202/202 [==============================] - 51s 252ms/step - loss: 0.0123 - accuracy: 0.9950 - val_loss: 1.7906e-04 - val_accuracy: 1.0000 - lr: 1.0000e-04\n",
      "Epoch 23/100\n",
      "202/202 [==============================] - ETA: 0s - loss: 0.0085 - accuracy: 0.9965\n",
      "Epoch 23: val_accuracy did not improve from 1.00000\n",
      "202/202 [==============================] - 34s 167ms/step - loss: 0.0085 - accuracy: 0.9965 - val_loss: 1.2791e-04 - val_accuracy: 1.0000 - lr: 1.0000e-04\n",
      "Epoch 24/100\n",
      "202/202 [==============================] - ETA: 0s - loss: 0.0092 - accuracy: 0.9960\n",
      "Epoch 24: val_accuracy did not improve from 1.00000\n",
      "202/202 [==============================] - 34s 167ms/step - loss: 0.0092 - accuracy: 0.9960 - val_loss: 1.0828e-04 - val_accuracy: 1.0000 - lr: 1.0000e-04\n",
      "Epoch 25/100\n",
      "202/202 [==============================] - ETA: 0s - loss: 0.0123 - accuracy: 0.9965\n",
      "Epoch 25: val_accuracy did not improve from 1.00000\n",
      "202/202 [==============================] - 34s 166ms/step - loss: 0.0123 - accuracy: 0.9965 - val_loss: 0.0012 - val_accuracy: 1.0000 - lr: 1.0000e-04\n",
      "Epoch 26/100\n",
      "202/202 [==============================] - ETA: 0s - loss: 0.0105 - accuracy: 0.9950\n",
      "Epoch 26: val_accuracy did not improve from 1.00000\n",
      "202/202 [==============================] - 35s 172ms/step - loss: 0.0105 - accuracy: 0.9950 - val_loss: 0.0032 - val_accuracy: 0.9979 - lr: 1.0000e-04\n",
      "Epoch 27/100\n",
      "202/202 [==============================] - ETA: 0s - loss: 0.0093 - accuracy: 0.9973\n",
      "Epoch 27: val_accuracy did not improve from 1.00000\n",
      "202/202 [==============================] - 35s 170ms/step - loss: 0.0093 - accuracy: 0.9973 - val_loss: 5.2563e-05 - val_accuracy: 1.0000 - lr: 1.0000e-04\n",
      "Epoch 28/100\n",
      "202/202 [==============================] - ETA: 0s - loss: 0.0083 - accuracy: 0.9963\n",
      "Epoch 28: val_accuracy did not improve from 1.00000\n",
      "202/202 [==============================] - 34s 166ms/step - loss: 0.0083 - accuracy: 0.9963 - val_loss: 0.0086 - val_accuracy: 0.9958 - lr: 1.0000e-04\n",
      "Epoch 29/100\n",
      "202/202 [==============================] - ETA: 0s - loss: 0.0065 - accuracy: 0.9978\n",
      "Epoch 29: val_accuracy did not improve from 1.00000\n",
      "202/202 [==============================] - 34s 168ms/step - loss: 0.0065 - accuracy: 0.9978 - val_loss: 0.0034 - val_accuracy: 0.9979 - lr: 1.0000e-04\n",
      "Epoch 30/100\n",
      "202/202 [==============================] - ETA: 0s - loss: 0.0118 - accuracy: 0.9965\n",
      "Epoch 30: val_accuracy did not improve from 1.00000\n",
      "202/202 [==============================] - 35s 170ms/step - loss: 0.0118 - accuracy: 0.9965 - val_loss: 0.0019 - val_accuracy: 0.9990 - lr: 1.0000e-04\n",
      "Epoch 31/100\n",
      "202/202 [==============================] - ETA: 0s - loss: 0.0100 - accuracy: 0.9950\n",
      "Epoch 31: val_accuracy did not improve from 1.00000\n",
      "202/202 [==============================] - 34s 169ms/step - loss: 0.0100 - accuracy: 0.9950 - val_loss: 5.7768e-05 - val_accuracy: 1.0000 - lr: 1.0000e-04\n",
      "Epoch 32/100\n",
      "202/202 [==============================] - ETA: 0s - loss: 0.0108 - accuracy: 0.9975\n",
      "Epoch 32: val_accuracy did not improve from 1.00000\n",
      "\n",
      "Epoch 32: ReduceLROnPlateau reducing learning rate to 1.0000000474974514e-05.\n",
      "202/202 [==============================] - 33s 164ms/step - loss: 0.0108 - accuracy: 0.9975 - val_loss: 7.8989e-04 - val_accuracy: 1.0000 - lr: 1.0000e-04\n",
      "Epoch 33/100\n",
      "202/202 [==============================] - ETA: 0s - loss: 0.0040 - accuracy: 0.9988\n",
      "Epoch 33: val_accuracy did not improve from 1.00000\n",
      "202/202 [==============================] - 35s 173ms/step - loss: 0.0040 - accuracy: 0.9988 - val_loss: 7.9151e-04 - val_accuracy: 1.0000 - lr: 1.0000e-05\n",
      "Epoch 34/100\n",
      "202/202 [==============================] - ETA: 0s - loss: 0.0047 - accuracy: 0.9985\n",
      "Epoch 34: val_accuracy did not improve from 1.00000\n",
      "202/202 [==============================] - 35s 172ms/step - loss: 0.0047 - accuracy: 0.9985 - val_loss: 9.2126e-04 - val_accuracy: 1.0000 - lr: 1.0000e-05\n",
      "Epoch 35/100\n",
      "202/202 [==============================] - ETA: 0s - loss: 0.0042 - accuracy: 0.9983\n",
      "Epoch 35: val_accuracy did not improve from 1.00000\n",
      "202/202 [==============================] - 35s 173ms/step - loss: 0.0042 - accuracy: 0.9983 - val_loss: 6.7650e-04 - val_accuracy: 1.0000 - lr: 1.0000e-05\n",
      "Epoch 36/100\n",
      "202/202 [==============================] - ETA: 0s - loss: 0.0064 - accuracy: 0.9978\n",
      "Epoch 36: val_accuracy did not improve from 1.00000\n",
      "202/202 [==============================] - 34s 166ms/step - loss: 0.0064 - accuracy: 0.9978 - val_loss: 5.7045e-04 - val_accuracy: 1.0000 - lr: 1.0000e-05\n",
      "Epoch 37/100\n",
      "202/202 [==============================] - ETA: 0s - loss: 0.0057 - accuracy: 0.9978\n",
      "Epoch 37: val_accuracy did not improve from 1.00000\n",
      "\n",
      "Epoch 37: ReduceLROnPlateau reducing learning rate to 1.0000000656873453e-06.\n",
      "202/202 [==============================] - 34s 167ms/step - loss: 0.0057 - accuracy: 0.9978 - val_loss: 7.3617e-04 - val_accuracy: 1.0000 - lr: 1.0000e-05\n",
      "Epoch 38/100\n",
      "202/202 [==============================] - ETA: 0s - loss: 0.0041 - accuracy: 0.9985\n",
      "Epoch 38: val_accuracy did not improve from 1.00000\n",
      "202/202 [==============================] - 34s 168ms/step - loss: 0.0041 - accuracy: 0.9985 - val_loss: 7.4887e-04 - val_accuracy: 1.0000 - lr: 1.0000e-06\n",
      "Epoch 39/100\n",
      "202/202 [==============================] - ETA: 0s - loss: 0.0052 - accuracy: 0.9988\n",
      "Epoch 39: val_accuracy did not improve from 1.00000\n",
      "202/202 [==============================] - 35s 171ms/step - loss: 0.0052 - accuracy: 0.9988 - val_loss: 7.3231e-04 - val_accuracy: 1.0000 - lr: 1.0000e-06\n",
      "Epoch 40/100\n",
      "202/202 [==============================] - ETA: 0s - loss: 0.0044 - accuracy: 0.9978\n",
      "Epoch 40: val_accuracy did not improve from 1.00000\n",
      "202/202 [==============================] - 36s 177ms/step - loss: 0.0044 - accuracy: 0.9978 - val_loss: 7.0336e-04 - val_accuracy: 1.0000 - lr: 1.0000e-06\n",
      "Epoch 41/100\n",
      "202/202 [==============================] - ETA: 0s - loss: 0.0056 - accuracy: 0.9980\n",
      "Epoch 41: val_accuracy did not improve from 1.00000\n",
      "202/202 [==============================] - 35s 171ms/step - loss: 0.0056 - accuracy: 0.9980 - val_loss: 6.6743e-04 - val_accuracy: 1.0000 - lr: 1.0000e-06\n",
      "Epoch 42/100\n",
      "202/202 [==============================] - ETA: 0s - loss: 0.0044 - accuracy: 0.9983\n",
      "Epoch 42: val_accuracy did not improve from 1.00000\n",
      "Restoring model weights from the end of the best epoch: 22.\n",
      "\n",
      "Epoch 42: ReduceLROnPlateau reducing learning rate to 1.0000001111620805e-07.\n",
      "202/202 [==============================] - 34s 170ms/step - loss: 0.0044 - accuracy: 0.9983 - val_loss: 6.5761e-04 - val_accuracy: 1.0000 - lr: 1.0000e-06\n",
      "Epoch 42: early stopping\n"
     ]
    }
   ],
   "source": [
    "# Define the number of epochs\n",
    "num_epochs = 100\n",
    "\n",
    "# Train the model\n",
    "history_MobileNetV2_model_1 = MobileNetV2_model.fit(train_generator, epochs=num_epochs, validation_data=validation_generator, callbacks=callbacks)"
   ]
  },
  {
   "cell_type": "code",
   "execution_count": 12,
   "metadata": {
    "tags": []
   },
   "outputs": [
    {
     "data": {
      "text/plain": [
       "Text(0.5, 1.0, 'Training and validation accuracy MobileNetV2 Model')"
      ]
     },
     "execution_count": 12,
     "metadata": {},
     "output_type": "execute_result"
    },
    {
     "data": {
      "image/png": "[encoded data removed]",
      "text/plain": [
       "<Figure size 640x480 with 1 Axes>"
      ]
     },
     "metadata": {},
     "output_type": "display_data"
    },
    {
     "data": {
      "image/png": "[encoded data removed]",
      "text/plain": [
       "<Figure size 640x480 with 1 Axes>"
      ]
     },
     "metadata": {},
     "output_type": "display_data"
    }
   ],
   "source": [
    "#-----------------------------------------------------------\n",
    "# Retrieve a list of list results on training and test data\n",
    "# sets for each training epoch\n",
    "#-----------------------------------------------------------\n",
    "acc      = history_MobileNetV2_model_1.history['accuracy' ]\n",
    "val_acc  = history_MobileNetV2_model_1.history['val_accuracy' ]\n",
    "loss     = history_MobileNetV2_model_1.history['loss' ]\n",
    "val_loss = history_MobileNetV2_model_1.history['val_loss' ]\n",
    "\n",
    "epochs   = range(len(acc)) # Get number of epochs\n",
    "\n",
    "#------------------------------------------------\n",
    "# Plot training and validation accuracy per epoch\n",
    "#------------------------------------------------\n",
    "plt.plot  (epochs, acc )\n",
    "plt.plot  (epochs, val_acc )\n",
    "plt.title ('Training and validation accuracy MobileNetV2 Model')\n",
    "plt.legend(['train', 'val'], loc='upper left')\n",
    "plt.figure()\n",
    "\n",
    "#------------------------------------------------\n",
    "# Plot training and validation loss per epoch\n",
    "#------------------------------------------------\n",
    "plt.plot  (epochs, loss)\n",
    "plt.plot  (epochs, val_loss)\n",
    "plt.legend(['train', 'val'], loc='upper left')\n",
    "plt.title ('Training and validation accuracy MobileNetV2 Model')"
   ]
  },
  {
   "attachments": {},
   "cell_type": "markdown",
   "metadata": {},
   "source": [
    "## MobileNetV2 Model 2"
   ]
  },
  {
   "cell_type": "code",
   "execution_count": 13,
   "metadata": {
    "tags": []
   },
   "outputs": [],
   "source": [
    "# Difine the callbacks\n",
    "# Save the best model\n",
    "checkpoint_callback = ModelCheckpoint(filepath=\"BellPaper_MobileNetV2_model2_Based_Augmented\", save_best_only=True, monitor=\"val_accuracy\", mode=\"max\", verbose=1)\n",
    "\n",
    "# Early stopping\n",
    "early_stopping_callback = EarlyStopping(monitor=\"val_accuracy\", mode=\"max\", patience=20, verbose=1, restore_best_weights=True)\n",
    "\n",
    "# Reduce learning rate\n",
    "reduce_lr_callback = ReduceLROnPlateau(monitor=\"val_loss\", factor=0.1, patience=5, verbose=1, mode=\"min\", min_delta=0.0001, cooldown=0, min_lr=0)\n",
    "\n",
    "# Callbacks list\n",
    "callbacks=[checkpoint_callback, early_stopping_callback, reduce_lr_callback]"
   ]
  },
  {
   "cell_type": "code",
   "execution_count": 14,
   "metadata": {
    "tags": []
   },
   "outputs": [
    {
     "name": "stdout",
     "output_type": "stream",
     "text": [
      "Model: \"sequential_1\"\n",
      "_________________________________________________________________\n",
      " Layer (type)                Output Shape              Param #   \n",
      "=================================================================\n",
      " mobilenetv2_1.00_224 (Funct  (None, 7, 7, 1280)       2257984   \n",
      " ional)                                                          \n",
      "                                                                 \n",
      " global_average_pooling2d (G  (None, 1280)             0         \n",
      " lobalAveragePooling2D)                                          \n",
      "                                                                 \n",
      " dropout_1 (Dropout)         (None, 1280)              0         \n",
      "                                                                 \n",
      " dense_2 (Dense)             (None, 256)               327936    \n",
      "                                                                 \n",
      " dense_3 (Dense)             (None, 2)                 514       \n",
      "                                                                 \n",
      "=================================================================\n",
      "Total params: 2,586,434\n",
      "Trainable params: 2,552,322\n",
      "Non-trainable params: 34,112\n",
      "_________________________________________________________________\n"
     ]
    }
   ],
   "source": [
    "# Define Model\n",
    "MobileNetV2_model_2 = tf.keras.models.Sequential([\n",
    "    # MobileNetV2 Layer\n",
    "    MobileNetV2(include_top=False,weights='imagenet',input_shape=(224, 224, 3)),\n",
    "    # Global Average Pooling Layer\n",
    "    tf.keras.layers.GlobalAveragePooling2D(),\n",
    "    # Drop Out Layer\n",
    "    tf.keras.layers.Dropout(0.2),\n",
    "    # 256 neuron hidden layer\n",
    "    tf.keras.layers.Dense(256, activation='relu'),\n",
    "    # Output\n",
    "    tf.keras.layers.Dense(2, activation='softmax') \n",
    "  ])\n",
    "\n",
    "\n",
    "# Compile Model\n",
    "MobileNetV2_model_2.compile(loss='categorical_crossentropy',optimizer=tf.keras.optimizers.Adam(), metrics=['accuracy']) \n",
    "\n",
    "# Model Summary\n",
    "MobileNetV2_model_2.summary()"
   ]
  },
  {
   "cell_type": "code",
   "execution_count": 15,
   "metadata": {
    "tags": []
   },
   "outputs": [
    {
     "name": "stdout",
     "output_type": "stream",
     "text": [
      "Epoch 1/100\n",
      "202/202 [==============================] - ETA: 0s - loss: 0.1578 - accuracy: 0.9440\n",
      "Epoch 1: val_accuracy improved from -inf to 0.49480, saving model to BellPaper_MobileNetV2_model2_Based_Augmented\n"
     ]
    },
    {
     "name": "stderr",
     "output_type": "stream",
     "text": [
      "WARNING:absl:Function `_wrapped_model` contains input name(s) mobilenetv2_1.00_224_input with unsupported characters which will be renamed to mobilenetv2_1_00_224_input in the SavedModel.\n",
      "WARNING:absl:Found untraced functions such as _jit_compiled_convolution_op, _jit_compiled_convolution_op, _jit_compiled_convolution_op, _jit_compiled_convolution_op, _jit_compiled_convolution_op while saving (showing 5 of 52). These functions will not be directly callable after loading.\n"
     ]
    },
    {
     "name": "stdout",
     "output_type": "stream",
     "text": [
      "INFO:tensorflow:Assets written to: BellPaper_MobileNetV2_model2_Based_Augmented\\assets\n"
     ]
    },
    {
     "name": "stderr",
     "output_type": "stream",
     "text": [
      "INFO:tensorflow:Assets written to: BellPaper_MobileNetV2_model2_Based_Augmented\\assets\n"
     ]
    },
    {
     "name": "stdout",
     "output_type": "stream",
     "text": [
      "202/202 [==============================] - 52s 240ms/step - loss: 0.1578 - accuracy: 0.9440 - val_loss: 2.1133 - val_accuracy: 0.4948 - lr: 0.0010\n",
      "Epoch 2/100\n",
      "202/202 [==============================] - ETA: 0s - loss: 0.0788 - accuracy: 0.9712\n",
      "Epoch 2: val_accuracy improved from 0.49480 to 0.51871, saving model to BellPaper_MobileNetV2_model2_Based_Augmented\n"
     ]
    },
    {
     "name": "stderr",
     "output_type": "stream",
     "text": [
      "WARNING:absl:Function `_wrapped_model` contains input name(s) mobilenetv2_1.00_224_input with unsupported characters which will be renamed to mobilenetv2_1_00_224_input in the SavedModel.\n",
      "WARNING:absl:Found untraced functions such as _jit_compiled_convolution_op, _jit_compiled_convolution_op, _jit_compiled_convolution_op, _jit_compiled_convolution_op, _jit_compiled_convolution_op while saving (showing 5 of 52). These functions will not be directly callable after loading.\n"
     ]
    },
    {
     "name": "stdout",
     "output_type": "stream",
     "text": [
      "INFO:tensorflow:Assets written to: BellPaper_MobileNetV2_model2_Based_Augmented\\assets\n"
     ]
    },
    {
     "name": "stderr",
     "output_type": "stream",
     "text": [
      "INFO:tensorflow:Assets written to: BellPaper_MobileNetV2_model2_Based_Augmented\\assets\n"
     ]
    },
    {
     "name": "stdout",
     "output_type": "stream",
     "text": [
      "202/202 [==============================] - 48s 236ms/step - loss: 0.0788 - accuracy: 0.9712 - val_loss: 3.1555 - val_accuracy: 0.5187 - lr: 0.0010\n",
      "Epoch 3/100\n",
      "202/202 [==============================] - ETA: 0s - loss: 0.0752 - accuracy: 0.9707\n",
      "Epoch 3: val_accuracy improved from 0.51871 to 0.73805, saving model to BellPaper_MobileNetV2_model2_Based_Augmented\n"
     ]
    },
    {
     "name": "stderr",
     "output_type": "stream",
     "text": [
      "WARNING:absl:Function `_wrapped_model` contains input name(s) mobilenetv2_1.00_224_input with unsupported characters which will be renamed to mobilenetv2_1_00_224_input in the SavedModel.\n",
      "WARNING:absl:Found untraced functions such as _jit_compiled_convolution_op, _jit_compiled_convolution_op, _jit_compiled_convolution_op, _jit_compiled_convolution_op, _jit_compiled_convolution_op while saving (showing 5 of 52). These functions will not be directly callable after loading.\n"
     ]
    },
    {
     "name": "stdout",
     "output_type": "stream",
     "text": [
      "INFO:tensorflow:Assets written to: BellPaper_MobileNetV2_model2_Based_Augmented\\assets\n"
     ]
    },
    {
     "name": "stderr",
     "output_type": "stream",
     "text": [
      "INFO:tensorflow:Assets written to: BellPaper_MobileNetV2_model2_Based_Augmented\\assets\n"
     ]
    },
    {
     "name": "stdout",
     "output_type": "stream",
     "text": [
      "202/202 [==============================] - 48s 236ms/step - loss: 0.0752 - accuracy: 0.9707 - val_loss: 1.2016 - val_accuracy: 0.7380 - lr: 0.0010\n",
      "Epoch 4/100\n",
      "202/202 [==============================] - ETA: 0s - loss: 0.0626 - accuracy: 0.9757\n",
      "Epoch 4: val_accuracy did not improve from 0.73805\n",
      "202/202 [==============================] - 33s 162ms/step - loss: 0.0626 - accuracy: 0.9757 - val_loss: 14.5972 - val_accuracy: 0.5177 - lr: 0.0010\n",
      "Epoch 5/100\n",
      "202/202 [==============================] - ETA: 0s - loss: 0.0399 - accuracy: 0.9817\n",
      "Epoch 5: val_accuracy did not improve from 0.73805\n",
      "202/202 [==============================] - 32s 159ms/step - loss: 0.0399 - accuracy: 0.9817 - val_loss: 29.7671 - val_accuracy: 0.5166 - lr: 0.0010\n",
      "Epoch 6/100\n",
      "202/202 [==============================] - ETA: 0s - loss: 0.0646 - accuracy: 0.9777\n",
      "Epoch 6: val_accuracy did not improve from 0.73805\n",
      "202/202 [==============================] - 34s 169ms/step - loss: 0.0646 - accuracy: 0.9777 - val_loss: 6.8240 - val_accuracy: 0.6185 - lr: 0.0010\n",
      "Epoch 7/100\n",
      "202/202 [==============================] - ETA: 0s - loss: 0.0376 - accuracy: 0.9831\n",
      "Epoch 7: val_accuracy did not improve from 0.73805\n",
      "202/202 [==============================] - 33s 165ms/step - loss: 0.0376 - accuracy: 0.9831 - val_loss: 8.8518 - val_accuracy: 0.5904 - lr: 0.0010\n",
      "Epoch 8/100\n",
      "202/202 [==============================] - ETA: 0s - loss: 0.0463 - accuracy: 0.9851\n",
      "Epoch 8: val_accuracy did not improve from 0.73805\n",
      "\n",
      "Epoch 8: ReduceLROnPlateau reducing learning rate to 0.00010000000474974513.\n",
      "202/202 [==============================] - 34s 166ms/step - loss: 0.0463 - accuracy: 0.9851 - val_loss: 7.9448 - val_accuracy: 0.5166 - lr: 0.0010\n",
      "Epoch 9/100\n",
      "202/202 [==============================] - ETA: 0s - loss: 0.0416 - accuracy: 0.9839\n",
      "Epoch 9: val_accuracy did not improve from 0.73805\n",
      "202/202 [==============================] - 33s 165ms/step - loss: 0.0416 - accuracy: 0.9839 - val_loss: 3.5494 - val_accuracy: 0.6933 - lr: 1.0000e-04\n",
      "Epoch 10/100\n",
      "202/202 [==============================] - ETA: 0s - loss: 0.0260 - accuracy: 0.9886\n",
      "Epoch 10: val_accuracy improved from 0.73805 to 0.79002, saving model to BellPaper_MobileNetV2_model2_Based_Augmented\n"
     ]
    },
    {
     "name": "stderr",
     "output_type": "stream",
     "text": [
      "WARNING:absl:Function `_wrapped_model` contains input name(s) mobilenetv2_1.00_224_input with unsupported characters which will be renamed to mobilenetv2_1_00_224_input in the SavedModel.\n",
      "WARNING:absl:Found untraced functions such as _jit_compiled_convolution_op, _jit_compiled_convolution_op, _jit_compiled_convolution_op, _jit_compiled_convolution_op, _jit_compiled_convolution_op while saving (showing 5 of 52). These functions will not be directly callable after loading.\n"
     ]
    },
    {
     "name": "stdout",
     "output_type": "stream",
     "text": [
      "INFO:tensorflow:Assets written to: BellPaper_MobileNetV2_model2_Based_Augmented\\assets\n"
     ]
    },
    {
     "name": "stderr",
     "output_type": "stream",
     "text": [
      "INFO:tensorflow:Assets written to: BellPaper_MobileNetV2_model2_Based_Augmented\\assets\n"
     ]
    },
    {
     "name": "stdout",
     "output_type": "stream",
     "text": [
      "202/202 [==============================] - 50s 247ms/step - loss: 0.0260 - accuracy: 0.9886 - val_loss: 2.0788 - val_accuracy: 0.7900 - lr: 1.0000e-04\n",
      "Epoch 11/100\n",
      "202/202 [==============================] - ETA: 0s - loss: 0.0202 - accuracy: 0.9916\n",
      "Epoch 11: val_accuracy improved from 0.79002 to 0.87006, saving model to BellPaper_MobileNetV2_model2_Based_Augmented\n"
     ]
    },
    {
     "name": "stderr",
     "output_type": "stream",
     "text": [
      "WARNING:absl:Function `_wrapped_model` contains input name(s) mobilenetv2_1.00_224_input with unsupported characters which will be renamed to mobilenetv2_1_00_224_input in the SavedModel.\n",
      "WARNING:absl:Found untraced functions such as _jit_compiled_convolution_op, _jit_compiled_convolution_op, _jit_compiled_convolution_op, _jit_compiled_convolution_op, _jit_compiled_convolution_op while saving (showing 5 of 52). These functions will not be directly callable after loading.\n"
     ]
    },
    {
     "name": "stdout",
     "output_type": "stream",
     "text": [
      "INFO:tensorflow:Assets written to: BellPaper_MobileNetV2_model2_Based_Augmented\\assets\n"
     ]
    },
    {
     "name": "stderr",
     "output_type": "stream",
     "text": [
      "INFO:tensorflow:Assets written to: BellPaper_MobileNetV2_model2_Based_Augmented\\assets\n"
     ]
    },
    {
     "name": "stdout",
     "output_type": "stream",
     "text": [
      "202/202 [==============================] - 49s 243ms/step - loss: 0.0202 - accuracy: 0.9916 - val_loss: 1.0684 - val_accuracy: 0.8701 - lr: 1.0000e-04\n",
      "Epoch 12/100\n",
      "202/202 [==============================] - ETA: 0s - loss: 0.0196 - accuracy: 0.9906\n",
      "Epoch 12: val_accuracy improved from 0.87006 to 0.95114, saving model to BellPaper_MobileNetV2_model2_Based_Augmented\n"
     ]
    },
    {
     "name": "stderr",
     "output_type": "stream",
     "text": [
      "WARNING:absl:Function `_wrapped_model` contains input name(s) mobilenetv2_1.00_224_input with unsupported characters which will be renamed to mobilenetv2_1_00_224_input in the SavedModel.\n",
      "WARNING:absl:Found untraced functions such as _jit_compiled_convolution_op, _jit_compiled_convolution_op, _jit_compiled_convolution_op, _jit_compiled_convolution_op, _jit_compiled_convolution_op while saving (showing 5 of 52). These functions will not be directly callable after loading.\n"
     ]
    },
    {
     "name": "stdout",
     "output_type": "stream",
     "text": [
      "INFO:tensorflow:Assets written to: BellPaper_MobileNetV2_model2_Based_Augmented\\assets\n"
     ]
    },
    {
     "name": "stderr",
     "output_type": "stream",
     "text": [
      "INFO:tensorflow:Assets written to: BellPaper_MobileNetV2_model2_Based_Augmented\\assets\n"
     ]
    },
    {
     "name": "stdout",
     "output_type": "stream",
     "text": [
      "202/202 [==============================] - 49s 240ms/step - loss: 0.0196 - accuracy: 0.9906 - val_loss: 0.2806 - val_accuracy: 0.9511 - lr: 1.0000e-04\n",
      "Epoch 13/100\n",
      "202/202 [==============================] - ETA: 0s - loss: 0.0168 - accuracy: 0.9928\n",
      "Epoch 13: val_accuracy improved from 0.95114 to 0.96985, saving model to BellPaper_MobileNetV2_model2_Based_Augmented\n"
     ]
    },
    {
     "name": "stderr",
     "output_type": "stream",
     "text": [
      "WARNING:absl:Function `_wrapped_model` contains input name(s) mobilenetv2_1.00_224_input with unsupported characters which will be renamed to mobilenetv2_1_00_224_input in the SavedModel.\n",
      "WARNING:absl:Found untraced functions such as _jit_compiled_convolution_op, _jit_compiled_convolution_op, _jit_compiled_convolution_op, _jit_compiled_convolution_op, _jit_compiled_convolution_op while saving (showing 5 of 52). These functions will not be directly callable after loading.\n"
     ]
    },
    {
     "name": "stdout",
     "output_type": "stream",
     "text": [
      "INFO:tensorflow:Assets written to: BellPaper_MobileNetV2_model2_Based_Augmented\\assets\n"
     ]
    },
    {
     "name": "stderr",
     "output_type": "stream",
     "text": [
      "INFO:tensorflow:Assets written to: BellPaper_MobileNetV2_model2_Based_Augmented\\assets\n"
     ]
    },
    {
     "name": "stdout",
     "output_type": "stream",
     "text": [
      "202/202 [==============================] - 51s 249ms/step - loss: 0.0168 - accuracy: 0.9928 - val_loss: 0.1544 - val_accuracy: 0.9699 - lr: 1.0000e-04\n",
      "Epoch 14/100\n",
      "202/202 [==============================] - ETA: 0s - loss: 0.0149 - accuracy: 0.9931\n",
      "Epoch 14: val_accuracy improved from 0.96985 to 0.98649, saving model to BellPaper_MobileNetV2_model2_Based_Augmented\n"
     ]
    },
    {
     "name": "stderr",
     "output_type": "stream",
     "text": [
      "WARNING:absl:Function `_wrapped_model` contains input name(s) mobilenetv2_1.00_224_input with unsupported characters which will be renamed to mobilenetv2_1_00_224_input in the SavedModel.\n",
      "WARNING:absl:Found untraced functions such as _jit_compiled_convolution_op, _jit_compiled_convolution_op, _jit_compiled_convolution_op, _jit_compiled_convolution_op, _jit_compiled_convolution_op while saving (showing 5 of 52). These functions will not be directly callable after loading.\n"
     ]
    },
    {
     "name": "stdout",
     "output_type": "stream",
     "text": [
      "INFO:tensorflow:Assets written to: BellPaper_MobileNetV2_model2_Based_Augmented\\assets\n"
     ]
    },
    {
     "name": "stderr",
     "output_type": "stream",
     "text": [
      "INFO:tensorflow:Assets written to: BellPaper_MobileNetV2_model2_Based_Augmented\\assets\n"
     ]
    },
    {
     "name": "stdout",
     "output_type": "stream",
     "text": [
      "202/202 [==============================] - 51s 251ms/step - loss: 0.0149 - accuracy: 0.9931 - val_loss: 0.0614 - val_accuracy: 0.9865 - lr: 1.0000e-04\n",
      "Epoch 15/100\n",
      "202/202 [==============================] - ETA: 0s - loss: 0.0169 - accuracy: 0.9928\n",
      "Epoch 15: val_accuracy improved from 0.98649 to 0.99376, saving model to BellPaper_MobileNetV2_model2_Based_Augmented\n"
     ]
    },
    {
     "name": "stderr",
     "output_type": "stream",
     "text": [
      "WARNING:absl:Function `_wrapped_model` contains input name(s) mobilenetv2_1.00_224_input with unsupported characters which will be renamed to mobilenetv2_1_00_224_input in the SavedModel.\n",
      "WARNING:absl:Found untraced functions such as _jit_compiled_convolution_op, _jit_compiled_convolution_op, _jit_compiled_convolution_op, _jit_compiled_convolution_op, _jit_compiled_convolution_op while saving (showing 5 of 52). These functions will not be directly callable after loading.\n"
     ]
    },
    {
     "name": "stdout",
     "output_type": "stream",
     "text": [
      "INFO:tensorflow:Assets written to: BellPaper_MobileNetV2_model2_Based_Augmented\\assets\n"
     ]
    },
    {
     "name": "stderr",
     "output_type": "stream",
     "text": [
      "INFO:tensorflow:Assets written to: BellPaper_MobileNetV2_model2_Based_Augmented\\assets\n"
     ]
    },
    {
     "name": "stdout",
     "output_type": "stream",
     "text": [
      "202/202 [==============================] - 51s 252ms/step - loss: 0.0169 - accuracy: 0.9928 - val_loss: 0.0206 - val_accuracy: 0.9938 - lr: 1.0000e-04\n",
      "Epoch 16/100\n",
      "202/202 [==============================] - ETA: 0s - loss: 0.0145 - accuracy: 0.9936\n",
      "Epoch 16: val_accuracy improved from 0.99376 to 0.99896, saving model to BellPaper_MobileNetV2_model2_Based_Augmented\n"
     ]
    },
    {
     "name": "stderr",
     "output_type": "stream",
     "text": [
      "WARNING:absl:Function `_wrapped_model` contains input name(s) mobilenetv2_1.00_224_input with unsupported characters which will be renamed to mobilenetv2_1_00_224_input in the SavedModel.\n",
      "WARNING:absl:Found untraced functions such as _jit_compiled_convolution_op, _jit_compiled_convolution_op, _jit_compiled_convolution_op, _jit_compiled_convolution_op, _jit_compiled_convolution_op while saving (showing 5 of 52). These functions will not be directly callable after loading.\n"
     ]
    },
    {
     "name": "stdout",
     "output_type": "stream",
     "text": [
      "INFO:tensorflow:Assets written to: BellPaper_MobileNetV2_model2_Based_Augmented\\assets\n"
     ]
    },
    {
     "name": "stderr",
     "output_type": "stream",
     "text": [
      "INFO:tensorflow:Assets written to: BellPaper_MobileNetV2_model2_Based_Augmented\\assets\n"
     ]
    },
    {
     "name": "stdout",
     "output_type": "stream",
     "text": [
      "202/202 [==============================] - 51s 249ms/step - loss: 0.0145 - accuracy: 0.9936 - val_loss: 0.0083 - val_accuracy: 0.9990 - lr: 1.0000e-04\n",
      "Epoch 17/100\n",
      "202/202 [==============================] - ETA: 0s - loss: 0.0121 - accuracy: 0.9943\n",
      "Epoch 17: val_accuracy did not improve from 0.99896\n",
      "202/202 [==============================] - 36s 177ms/step - loss: 0.0121 - accuracy: 0.9943 - val_loss: 0.0032 - val_accuracy: 0.9990 - lr: 1.0000e-04\n",
      "Epoch 18/100\n",
      "202/202 [==============================] - ETA: 0s - loss: 0.0114 - accuracy: 0.9963\n",
      "Epoch 18: val_accuracy did not improve from 0.99896\n",
      "202/202 [==============================] - 36s 178ms/step - loss: 0.0114 - accuracy: 0.9963 - val_loss: 0.0062 - val_accuracy: 0.9990 - lr: 1.0000e-04\n",
      "Epoch 19/100\n",
      "202/202 [==============================] - ETA: 0s - loss: 0.0117 - accuracy: 0.9948\n",
      "Epoch 19: val_accuracy did not improve from 0.99896\n",
      "202/202 [==============================] - 36s 176ms/step - loss: 0.0117 - accuracy: 0.9948 - val_loss: 0.0112 - val_accuracy: 0.9958 - lr: 1.0000e-04\n",
      "Epoch 20/100\n",
      "202/202 [==============================] - ETA: 0s - loss: 0.0101 - accuracy: 0.9965\n",
      "Epoch 20: val_accuracy did not improve from 0.99896\n",
      "202/202 [==============================] - 36s 176ms/step - loss: 0.0101 - accuracy: 0.9965 - val_loss: 0.0140 - val_accuracy: 0.9969 - lr: 1.0000e-04\n",
      "Epoch 21/100\n",
      "202/202 [==============================] - ETA: 0s - loss: 0.0144 - accuracy: 0.9948\n",
      "Epoch 21: val_accuracy did not improve from 0.99896\n",
      "202/202 [==============================] - 36s 177ms/step - loss: 0.0144 - accuracy: 0.9948 - val_loss: 0.0135 - val_accuracy: 0.9979 - lr: 1.0000e-04\n",
      "Epoch 22/100\n",
      "202/202 [==============================] - ETA: 0s - loss: 0.0112 - accuracy: 0.9955\n",
      "Epoch 22: val_accuracy did not improve from 0.99896\n",
      "\n",
      "Epoch 22: ReduceLROnPlateau reducing learning rate to 1.0000000474974514e-05.\n",
      "202/202 [==============================] - 35s 172ms/step - loss: 0.0112 - accuracy: 0.9955 - val_loss: 0.0198 - val_accuracy: 0.9948 - lr: 1.0000e-04\n",
      "Epoch 23/100\n",
      "202/202 [==============================] - ETA: 0s - loss: 0.0086 - accuracy: 0.9965\n",
      "Epoch 23: val_accuracy did not improve from 0.99896\n",
      "202/202 [==============================] - 35s 170ms/step - loss: 0.0086 - accuracy: 0.9965 - val_loss: 0.0104 - val_accuracy: 0.9969 - lr: 1.0000e-05\n",
      "Epoch 24/100\n",
      "202/202 [==============================] - ETA: 0s - loss: 0.0101 - accuracy: 0.9960\n",
      "Epoch 24: val_accuracy did not improve from 0.99896\n",
      "202/202 [==============================] - 35s 173ms/step - loss: 0.0101 - accuracy: 0.9960 - val_loss: 0.0064 - val_accuracy: 0.9979 - lr: 1.0000e-05\n",
      "Epoch 25/100\n",
      "202/202 [==============================] - ETA: 0s - loss: 0.0093 - accuracy: 0.9973\n",
      "Epoch 25: val_accuracy did not improve from 0.99896\n",
      "202/202 [==============================] - 35s 172ms/step - loss: 0.0093 - accuracy: 0.9973 - val_loss: 0.0029 - val_accuracy: 0.9990 - lr: 1.0000e-05\n",
      "Epoch 26/100\n",
      "202/202 [==============================] - ETA: 0s - loss: 0.0073 - accuracy: 0.9973\n",
      "Epoch 26: val_accuracy did not improve from 0.99896\n",
      "202/202 [==============================] - 36s 178ms/step - loss: 0.0073 - accuracy: 0.9973 - val_loss: 0.0022 - val_accuracy: 0.9990 - lr: 1.0000e-05\n",
      "Epoch 27/100\n",
      "202/202 [==============================] - ETA: 0s - loss: 0.0074 - accuracy: 0.9975\n",
      "Epoch 27: val_accuracy did not improve from 0.99896\n",
      "202/202 [==============================] - 35s 174ms/step - loss: 0.0074 - accuracy: 0.9975 - val_loss: 0.0022 - val_accuracy: 0.9990 - lr: 1.0000e-05\n",
      "Epoch 28/100\n",
      "202/202 [==============================] - ETA: 0s - loss: 0.0093 - accuracy: 0.9963\n",
      "Epoch 28: val_accuracy did not improve from 0.99896\n",
      "202/202 [==============================] - 36s 175ms/step - loss: 0.0093 - accuracy: 0.9963 - val_loss: 0.0014 - val_accuracy: 0.9990 - lr: 1.0000e-05\n",
      "Epoch 29/100\n",
      "202/202 [==============================] - ETA: 0s - loss: 0.0080 - accuracy: 0.9975\n",
      "Epoch 29: val_accuracy did not improve from 0.99896\n",
      "202/202 [==============================] - 36s 180ms/step - loss: 0.0080 - accuracy: 0.9975 - val_loss: 0.0011 - val_accuracy: 0.9990 - lr: 1.0000e-05\n",
      "Epoch 30/100\n",
      "202/202 [==============================] - ETA: 0s - loss: 0.0058 - accuracy: 0.9980\n",
      "Epoch 30: val_accuracy improved from 0.99896 to 1.00000, saving model to BellPaper_MobileNetV2_model2_Based_Augmented\n"
     ]
    },
    {
     "name": "stderr",
     "output_type": "stream",
     "text": [
      "WARNING:absl:Function `_wrapped_model` contains input name(s) mobilenetv2_1.00_224_input with unsupported characters which will be renamed to mobilenetv2_1_00_224_input in the SavedModel.\n",
      "WARNING:absl:Found untraced functions such as _jit_compiled_convolution_op, _jit_compiled_convolution_op, _jit_compiled_convolution_op, _jit_compiled_convolution_op, _jit_compiled_convolution_op while saving (showing 5 of 52). These functions will not be directly callable after loading.\n"
     ]
    },
    {
     "name": "stdout",
     "output_type": "stream",
     "text": [
      "INFO:tensorflow:Assets written to: BellPaper_MobileNetV2_model2_Based_Augmented\\assets\n"
     ]
    },
    {
     "name": "stderr",
     "output_type": "stream",
     "text": [
      "INFO:tensorflow:Assets written to: BellPaper_MobileNetV2_model2_Based_Augmented\\assets\n"
     ]
    },
    {
     "name": "stdout",
     "output_type": "stream",
     "text": [
      "202/202 [==============================] - 57s 284ms/step - loss: 0.0058 - accuracy: 0.9980 - val_loss: 7.0590e-04 - val_accuracy: 1.0000 - lr: 1.0000e-05\n",
      "Epoch 31/100\n",
      "202/202 [==============================] - ETA: 0s - loss: 0.0085 - accuracy: 0.9960\n",
      "Epoch 31: val_accuracy did not improve from 1.00000\n",
      "202/202 [==============================] - 38s 188ms/step - loss: 0.0085 - accuracy: 0.9960 - val_loss: 5.1894e-04 - val_accuracy: 1.0000 - lr: 1.0000e-05\n",
      "Epoch 32/100\n",
      "202/202 [==============================] - ETA: 0s - loss: 0.0052 - accuracy: 0.9985\n",
      "Epoch 32: val_accuracy did not improve from 1.00000\n",
      "202/202 [==============================] - 37s 182ms/step - loss: 0.0052 - accuracy: 0.9985 - val_loss: 7.4217e-04 - val_accuracy: 1.0000 - lr: 1.0000e-05\n",
      "Epoch 33/100\n",
      "202/202 [==============================] - ETA: 0s - loss: 0.0088 - accuracy: 0.9968\n",
      "Epoch 33: val_accuracy did not improve from 1.00000\n",
      "202/202 [==============================] - 36s 177ms/step - loss: 0.0088 - accuracy: 0.9968 - val_loss: 3.1288e-04 - val_accuracy: 1.0000 - lr: 1.0000e-05\n",
      "Epoch 34/100\n",
      "202/202 [==============================] - ETA: 0s - loss: 0.0076 - accuracy: 0.9968\n",
      "Epoch 34: val_accuracy did not improve from 1.00000\n",
      "202/202 [==============================] - 37s 181ms/step - loss: 0.0076 - accuracy: 0.9968 - val_loss: 2.9684e-04 - val_accuracy: 1.0000 - lr: 1.0000e-05\n",
      "Epoch 35/100\n",
      "202/202 [==============================] - ETA: 0s - loss: 0.0056 - accuracy: 0.9983\n",
      "Epoch 35: val_accuracy did not improve from 1.00000\n",
      "202/202 [==============================] - 36s 179ms/step - loss: 0.0056 - accuracy: 0.9983 - val_loss: 2.5369e-04 - val_accuracy: 1.0000 - lr: 1.0000e-05\n",
      "Epoch 36/100\n",
      "202/202 [==============================] - ETA: 0s - loss: 0.0082 - accuracy: 0.9975\n",
      "Epoch 36: val_accuracy did not improve from 1.00000\n",
      "202/202 [==============================] - 37s 180ms/step - loss: 0.0082 - accuracy: 0.9975 - val_loss: 1.9864e-04 - val_accuracy: 1.0000 - lr: 1.0000e-05\n",
      "Epoch 37/100\n",
      "202/202 [==============================] - ETA: 0s - loss: 0.0057 - accuracy: 0.9978\n",
      "Epoch 37: val_accuracy did not improve from 1.00000\n",
      "202/202 [==============================] - 35s 171ms/step - loss: 0.0057 - accuracy: 0.9978 - val_loss: 2.7089e-04 - val_accuracy: 1.0000 - lr: 1.0000e-05\n",
      "Epoch 38/100\n",
      "202/202 [==============================] - ETA: 0s - loss: 0.0069 - accuracy: 0.9968\n",
      "Epoch 38: val_accuracy did not improve from 1.00000\n",
      "202/202 [==============================] - 34s 170ms/step - loss: 0.0069 - accuracy: 0.9968 - val_loss: 2.6433e-04 - val_accuracy: 1.0000 - lr: 1.0000e-05\n",
      "Epoch 39/100\n",
      "202/202 [==============================] - ETA: 0s - loss: 0.0063 - accuracy: 0.9983\n",
      "Epoch 39: val_accuracy did not improve from 1.00000\n",
      "202/202 [==============================] - 35s 171ms/step - loss: 0.0063 - accuracy: 0.9983 - val_loss: 1.4727e-04 - val_accuracy: 1.0000 - lr: 1.0000e-05\n",
      "Epoch 40/100\n",
      "202/202 [==============================] - ETA: 0s - loss: 0.0053 - accuracy: 0.9980\n",
      "Epoch 40: val_accuracy did not improve from 1.00000\n",
      "202/202 [==============================] - 37s 183ms/step - loss: 0.0053 - accuracy: 0.9980 - val_loss: 1.8286e-04 - val_accuracy: 1.0000 - lr: 1.0000e-05\n",
      "Epoch 41/100\n",
      "202/202 [==============================] - ETA: 0s - loss: 0.0105 - accuracy: 0.9963\n",
      "Epoch 41: val_accuracy did not improve from 1.00000\n",
      "\n",
      "Epoch 41: ReduceLROnPlateau reducing learning rate to 1.0000000656873453e-06.\n",
      "202/202 [==============================] - 37s 183ms/step - loss: 0.0105 - accuracy: 0.9963 - val_loss: 1.5226e-04 - val_accuracy: 1.0000 - lr: 1.0000e-05\n",
      "Epoch 42/100\n",
      "202/202 [==============================] - ETA: 0s - loss: 0.0066 - accuracy: 0.9975\n",
      "Epoch 42: val_accuracy did not improve from 1.00000\n",
      "202/202 [==============================] - 36s 176ms/step - loss: 0.0066 - accuracy: 0.9975 - val_loss: 1.7031e-04 - val_accuracy: 1.0000 - lr: 1.0000e-06\n",
      "Epoch 43/100\n",
      "202/202 [==============================] - ETA: 0s - loss: 0.0047 - accuracy: 0.9985\n",
      "Epoch 43: val_accuracy did not improve from 1.00000\n",
      "202/202 [==============================] - 37s 184ms/step - loss: 0.0047 - accuracy: 0.9985 - val_loss: 1.7373e-04 - val_accuracy: 1.0000 - lr: 1.0000e-06\n",
      "Epoch 44/100\n",
      "202/202 [==============================] - ETA: 0s - loss: 0.0057 - accuracy: 0.9978\n",
      "Epoch 44: val_accuracy did not improve from 1.00000\n",
      "202/202 [==============================] - 36s 178ms/step - loss: 0.0057 - accuracy: 0.9978 - val_loss: 1.8091e-04 - val_accuracy: 1.0000 - lr: 1.0000e-06\n",
      "Epoch 45/100\n",
      "202/202 [==============================] - ETA: 0s - loss: 0.0046 - accuracy: 0.9975\n",
      "Epoch 45: val_accuracy did not improve from 1.00000\n",
      "202/202 [==============================] - 35s 175ms/step - loss: 0.0046 - accuracy: 0.9975 - val_loss: 1.8481e-04 - val_accuracy: 1.0000 - lr: 1.0000e-06\n",
      "Epoch 46/100\n",
      "202/202 [==============================] - ETA: 0s - loss: 0.0039 - accuracy: 0.9985\n",
      "Epoch 46: val_accuracy did not improve from 1.00000\n",
      "\n",
      "Epoch 46: ReduceLROnPlateau reducing learning rate to 1.0000001111620805e-07.\n",
      "202/202 [==============================] - 35s 175ms/step - loss: 0.0039 - accuracy: 0.9985 - val_loss: 1.9193e-04 - val_accuracy: 1.0000 - lr: 1.0000e-06\n",
      "Epoch 47/100\n",
      "202/202 [==============================] - ETA: 0s - loss: 0.0057 - accuracy: 0.9978\n",
      "Epoch 47: val_accuracy did not improve from 1.00000\n",
      "202/202 [==============================] - 37s 180ms/step - loss: 0.0057 - accuracy: 0.9978 - val_loss: 1.8815e-04 - val_accuracy: 1.0000 - lr: 1.0000e-07\n",
      "Epoch 48/100\n",
      "202/202 [==============================] - ETA: 0s - loss: 0.0058 - accuracy: 0.9988\n",
      "Epoch 48: val_accuracy did not improve from 1.00000\n",
      "202/202 [==============================] - 38s 190ms/step - loss: 0.0058 - accuracy: 0.9988 - val_loss: 1.9054e-04 - val_accuracy: 1.0000 - lr: 1.0000e-07\n",
      "Epoch 49/100\n",
      "202/202 [==============================] - ETA: 0s - loss: 0.0054 - accuracy: 0.9975\n",
      "Epoch 49: val_accuracy did not improve from 1.00000\n",
      "202/202 [==============================] - 36s 178ms/step - loss: 0.0054 - accuracy: 0.9975 - val_loss: 1.9254e-04 - val_accuracy: 1.0000 - lr: 1.0000e-07\n",
      "Epoch 50/100\n",
      "202/202 [==============================] - ETA: 0s - loss: 0.0050 - accuracy: 0.9988\n",
      "Epoch 50: val_accuracy did not improve from 1.00000\n",
      "Restoring model weights from the end of the best epoch: 30.\n",
      "202/202 [==============================] - 38s 189ms/step - loss: 0.0050 - accuracy: 0.9988 - val_loss: 1.9003e-04 - val_accuracy: 1.0000 - lr: 1.0000e-07\n",
      "Epoch 50: early stopping\n"
     ]
    }
   ],
   "source": [
    "# Define the number of epochs\n",
    "num_epochs = 100\n",
    "\n",
    "# Train the model\n",
    "history_MobileNetV2_model_2 = MobileNetV2_model_2.fit(train_generator, epochs=num_epochs, validation_data=validation_generator, callbacks=callbacks)"
   ]
  },
  {
   "cell_type": "code",
   "execution_count": 16,
   "metadata": {
    "tags": []
   },
   "outputs": [
    {
     "data": {
      "text/plain": [
       "Text(0.5, 1.0, 'Training and validation loss MobileNetV2 Model')"
      ]
     },
     "execution_count": 16,
     "metadata": {},
     "output_type": "execute_result"
    },
    {
     "data": {
      "image/png": "[encoded data removed]",
      "text/plain": [
       "<Figure size 640x480 with 1 Axes>"
      ]
     },
     "metadata": {},
     "output_type": "display_data"
    },
    {
     "data": {
      "image/png": "[encoded data removed]",
      "text/plain": [
       "<Figure size 640x480 with 1 Axes>"
      ]
     },
     "metadata": {},
     "output_type": "display_data"
    }
   ],
   "source": [
    "#-----------------------------------------------------------\n",
    "# Retrieve a list of list results on training and test data\n",
    "# sets for each training epoch\n",
    "#-----------------------------------------------------------\n",
    "acc      = history_MobileNetV2_model_2.history['accuracy' ]\n",
    "val_acc  = history_MobileNetV2_model_2.history['val_accuracy' ]\n",
    "loss     = history_MobileNetV2_model_2.history['loss' ]\n",
    "val_loss = history_MobileNetV2_model_2.history['val_loss' ]\n",
    "\n",
    "epochs   = range(len(acc)) # Get number of epochs\n",
    "\n",
    "#------------------------------------------------\n",
    "# Plot training and validation accuracy per epoch\n",
    "#------------------------------------------------\n",
    "plt.plot  (epochs, acc )\n",
    "plt.plot  (epochs, val_acc )\n",
    "plt.legend(['train', 'val'], loc='upper left')\n",
    "plt.title ('Training and validation accuracy MobileNetV2 Model')\n",
    "plt.figure()\n",
    "\n",
    "#------------------------------------------------\n",
    "# Plot training and validation loss per epoch\n",
    "#------------------------------------------------\n",
    "plt.plot  (epochs, loss)\n",
    "plt.plot  (epochs, val_loss)\n",
    "plt.legend(['train', 'val'], loc='upper left')\n",
    "plt.title ('Training and validation loss MobileNetV2 Model')"
   ]
  }
 ],
 "metadata": {
  "kernelspec": {
   "display_name": "Python 3 (ipykernel)",
   "language": "python",
   "name": "python3"
  },
  "language_info": {
   "codemirror_mode": {
    "name": "ipython",
    "version": 3
   },
   "file_extension": ".py",
   "mimetype": "text/x-python",
   "name": "python",
   "nbconvert_exporter": "python",
   "pygments_lexer": "ipython3",
   "version": "3.10.0"
  }
 },
 "nbformat": 4,
 "nbformat_minor": 4
}
