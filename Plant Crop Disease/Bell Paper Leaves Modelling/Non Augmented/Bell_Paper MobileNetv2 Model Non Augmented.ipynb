{
 "cells": [
  {
   "attachments": {},
   "cell_type": "markdown",
   "metadata": {},
   "source": [
    "# Library"
   ]
  },
  {
   "cell_type": "code",
   "execution_count": 1,
   "metadata": {
    "tags": []
   },
   "outputs": [
    {
     "name": "stdout",
     "output_type": "stream",
     "text": [
      "Requirement already satisfied: matplotlib in c:\\users\\hasan\\anaconda3\\envs\\tensorflow_gpu_zein\\lib\\site-packages (3.6.3)\n",
      "Requirement already satisfied: fonttools>=4.22.0 in c:\\users\\hasan\\anaconda3\\envs\\tensorflow_gpu_zein\\lib\\site-packages (from matplotlib) (4.39.2)\n",
      "Requirement already satisfied: packaging>=20.0 in c:\\users\\hasan\\anaconda3\\envs\\tensorflow_gpu_zein\\lib\\site-packages (from matplotlib) (23.1)\n",
      "Requirement already satisfied: pyparsing>=2.2.1 in c:\\users\\hasan\\anaconda3\\envs\\tensorflow_gpu_zein\\lib\\site-packages (from matplotlib) (3.0.9)\n",
      "Requirement already satisfied: cycler>=0.10 in c:\\users\\hasan\\anaconda3\\envs\\tensorflow_gpu_zein\\lib\\site-packages (from matplotlib) (0.11.0)\n",
      "Requirement already satisfied: python-dateutil>=2.7 in c:\\users\\hasan\\anaconda3\\envs\\tensorflow_gpu_zein\\lib\\site-packages (from matplotlib) (2.8.2)\n",
      "Requirement already satisfied: numpy>=1.19 in c:\\users\\hasan\\anaconda3\\envs\\tensorflow_gpu_zein\\lib\\site-packages (from matplotlib) (1.23.5)\n",
      "Requirement already satisfied: pillow>=6.2.0 in c:\\users\\hasan\\anaconda3\\envs\\tensorflow_gpu_zein\\lib\\site-packages (from matplotlib) (9.4.0)\n",
      "Requirement already satisfied: kiwisolver>=1.0.1 in c:\\users\\hasan\\anaconda3\\envs\\tensorflow_gpu_zein\\lib\\site-packages (from matplotlib) (1.4.4)\n",
      "Requirement already satisfied: contourpy>=1.0.1 in c:\\users\\hasan\\anaconda3\\envs\\tensorflow_gpu_zein\\lib\\site-packages (from matplotlib) (1.0.7)\n",
      "Requirement already satisfied: six>=1.5 in c:\\users\\hasan\\anaconda3\\envs\\tensorflow_gpu_zein\\lib\\site-packages (from python-dateutil>=2.7->matplotlib) (1.16.0)\n",
      "Note: you may need to restart the kernel to use updated packages.\n"
     ]
    },
    {
     "name": "stderr",
     "output_type": "stream",
     "text": [
      "WARNING: Ignoring invalid distribution -rotobuf (c:\\users\\hasan\\anaconda3\\envs\\tensorflow_gpu_zein\\lib\\site-packages)\n",
      "WARNING: Ignoring invalid distribution -rotobuf (c:\\users\\hasan\\anaconda3\\envs\\tensorflow_gpu_zein\\lib\\site-packages)\n",
      "WARNING: Ignoring invalid distribution -rotobuf (c:\\users\\hasan\\anaconda3\\envs\\tensorflow_gpu_zein\\lib\\site-packages)\n",
      "WARNING: Ignoring invalid distribution -rotobuf (c:\\users\\hasan\\anaconda3\\envs\\tensorflow_gpu_zein\\lib\\site-packages)\n",
      "WARNING: Ignoring invalid distribution -rotobuf (c:\\users\\hasan\\anaconda3\\envs\\tensorflow_gpu_zein\\lib\\site-packages)\n",
      "WARNING: Ignoring invalid distribution -rotobuf (c:\\users\\hasan\\anaconda3\\envs\\tensorflow_gpu_zein\\lib\\site-packages)\n"
     ]
    }
   ],
   "source": [
    "pip install matplotlib"
   ]
  },
  {
   "cell_type": "code",
   "execution_count": 2,
   "metadata": {
    "tags": []
   },
   "outputs": [
    {
     "name": "stdout",
     "output_type": "stream",
     "text": [
      "Requirement already satisfied: opendatasets in c:\\users\\hasan\\anaconda3\\envs\\tensorflow_gpu_zein\\lib\\site-packages (0.1.22)\n",
      "Requirement already satisfied: kaggle in c:\\users\\hasan\\anaconda3\\envs\\tensorflow_gpu_zein\\lib\\site-packages (from opendatasets) (1.5.13)\n",
      "Requirement already satisfied: click in c:\\users\\hasan\\anaconda3\\envs\\tensorflow_gpu_zein\\lib\\site-packages (from opendatasets) (8.1.3)\n",
      "Requirement already satisfied: tqdm in c:\\users\\hasan\\anaconda3\\envs\\tensorflow_gpu_zein\\lib\\site-packages (from opendatasets) (4.64.1)\n",
      "Requirement already satisfied: colorama in c:\\users\\hasan\\anaconda3\\envs\\tensorflow_gpu_zein\\lib\\site-packages (from click->opendatasets) (0.4.6)\n",
      "Requirement already satisfied: python-dateutil in c:\\users\\hasan\\anaconda3\\envs\\tensorflow_gpu_zein\\lib\\site-packages (from kaggle->opendatasets) (2.8.2)\n",
      "Requirement already satisfied: urllib3 in c:\\users\\hasan\\anaconda3\\envs\\tensorflow_gpu_zein\\lib\\site-packages (from kaggle->opendatasets) (1.26.15)\n",
      "Requirement already satisfied: six>=1.10 in c:\\users\\hasan\\anaconda3\\envs\\tensorflow_gpu_zein\\lib\\site-packages (from kaggle->opendatasets) (1.16.0)\n",
      "Requirement already satisfied: python-slugify in c:\\users\\hasan\\anaconda3\\envs\\tensorflow_gpu_zein\\lib\\site-packages (from kaggle->opendatasets) (8.0.1)\n",
      "Requirement already satisfied: certifi in c:\\users\\hasan\\anaconda3\\envs\\tensorflow_gpu_zein\\lib\\site-packages (from kaggle->opendatasets) (2022.12.7)\n",
      "Requirement already satisfied: requests in c:\\users\\hasan\\anaconda3\\envs\\tensorflow_gpu_zein\\lib\\site-packages (from kaggle->opendatasets) (2.28.2)\n",
      "Requirement already satisfied: text-unidecode>=1.3 in c:\\users\\hasan\\anaconda3\\envs\\tensorflow_gpu_zein\\lib\\site-packages (from python-slugify->kaggle->opendatasets) (1.3)\n",
      "Requirement already satisfied: idna<4,>=2.5 in c:\\users\\hasan\\anaconda3\\envs\\tensorflow_gpu_zein\\lib\\site-packages (from requests->kaggle->opendatasets) (3.4)\n",
      "Requirement already satisfied: charset-normalizer<4,>=2 in c:\\users\\hasan\\anaconda3\\envs\\tensorflow_gpu_zein\\lib\\site-packages (from requests->kaggle->opendatasets) (3.1.0)\n",
      "Note: you may need to restart the kernel to use updated packages.\n"
     ]
    },
    {
     "name": "stderr",
     "output_type": "stream",
     "text": [
      "WARNING: Ignoring invalid distribution -rotobuf (c:\\users\\hasan\\anaconda3\\envs\\tensorflow_gpu_zein\\lib\\site-packages)\n",
      "WARNING: Ignoring invalid distribution -rotobuf (c:\\users\\hasan\\anaconda3\\envs\\tensorflow_gpu_zein\\lib\\site-packages)\n",
      "WARNING: Ignoring invalid distribution -rotobuf (c:\\users\\hasan\\anaconda3\\envs\\tensorflow_gpu_zein\\lib\\site-packages)\n",
      "WARNING: Ignoring invalid distribution -rotobuf (c:\\users\\hasan\\anaconda3\\envs\\tensorflow_gpu_zein\\lib\\site-packages)\n",
      "WARNING: Ignoring invalid distribution -rotobuf (c:\\users\\hasan\\anaconda3\\envs\\tensorflow_gpu_zein\\lib\\site-packages)\n",
      "WARNING: Ignoring invalid distribution -rotobuf (c:\\users\\hasan\\anaconda3\\envs\\tensorflow_gpu_zein\\lib\\site-packages)\n"
     ]
    }
   ],
   "source": [
    "pip install opendatasets"
   ]
  },
  {
   "cell_type": "code",
   "execution_count": 3,
   "metadata": {
    "tags": []
   },
   "outputs": [],
   "source": [
    "# Library to dataset\n",
    "import opendatasets as od\n",
    "import os\n",
    "import zipfile\n",
    "import numpy as np\n",
    "\n",
    "# Surpress Warnings\n",
    "import warnings\n",
    "warnings.filterwarnings('ignore')\n",
    "os.environ['TF_CPP_MIN_LOG_LEVEL'] = '3' \n",
    "# library visualization\n",
    "import matplotlib.pyplot as plt\n",
    "\n",
    "# Library Tensorflow\n",
    "import tensorflow as tf\n",
    "from tensorflow import keras\n",
    "from tensorflow.keras.preprocessing.image import ImageDataGenerator\n",
    "from tensorflow.keras.callbacks import ModelCheckpoint, EarlyStopping, ReduceLROnPlateau\n",
    "from tensorflow.keras.applications.densenet import DenseNet121\n",
    "from tensorflow.keras.applications.mobilenet_v2 import MobileNetV2\n",
    "\n",
    "# Others\n",
    "import shutil\n",
    "import random"
   ]
  },
  {
   "attachments": {},
   "cell_type": "markdown",
   "metadata": {},
   "source": [
    "# Load dataset"
   ]
  },
  {
   "cell_type": "code",
   "execution_count": 4,
   "metadata": {
    "tags": []
   },
   "outputs": [
    {
     "name": "stdout",
     "output_type": "stream",
     "text": [
      "==========================Training Data====================\n",
      "Found 4033 files belonging to 2 classes.\n",
      "==========================Validation Data====================\n",
      "Found 962 files belonging to 2 classes.\n"
     ]
    }
   ],
   "source": [
    "# Load dataset\n",
    "print(\"==========================Training Data====================\")\n",
    "train_data = tf.keras.preprocessing.image_dataset_from_directory(\n",
    "    \"Dataset/Bell_pepper/train\",\n",
    "    label_mode=\"categorical\",\n",
    "    class_names= ['Pepper bell Bacterial spot', 'Pepper bell healthy'],\n",
    "    color_mode=\"rgb\",\n",
    "    batch_size=1,\n",
    "    image_size=(256, 256),\n",
    "    shuffle=True,\n",
    "    seed=123\n",
    ")\n",
    "print(\"==========================Validation Data====================\")\n",
    "val_data = tf.keras.preprocessing.image_dataset_from_directory(\n",
    "    \"Dataset/Bell_pepper/test\",\n",
    "    label_mode=\"categorical\",\n",
    "    class_names= ['Pepper bell Bacterial spot', 'Pepper bell healthy'],\n",
    "    color_mode=\"rgb\",\n",
    "    batch_size=1,\n",
    "    image_size=(256, 256),\n",
    "    shuffle=True,\n",
    "    seed=123\n",
    ")"
   ]
  },
  {
   "cell_type": "code",
   "execution_count": 5,
   "metadata": {
    "tags": []
   },
   "outputs": [
    {
     "name": "stdout",
     "output_type": "stream",
     "text": [
      "Found 4033 images belonging to 2 classes.\n",
      "Found 962 images belonging to 2 classes.\n"
     ]
    }
   ],
   "source": [
    "# All images will be rescaled by 1./255.\n",
    "train_datagen = ImageDataGenerator(rescale = 1.0/256.)\n",
    "test_datagen  = ImageDataGenerator(rescale = 1.0/256.)\n",
    "\n",
    "# --------------------\n",
    "# Flow training images in batches of 20 using train_datagen generator\n",
    "# --------------------\n",
    "train_generator = train_datagen.flow_from_directory(\"Dataset/Bell_pepper/train\",\n",
    "                                                    batch_size=20,\n",
    "                                                    class_mode='categorical',\n",
    "                                                    target_size=(224, 224))     \n",
    "# --------------------\n",
    "# Flow validation images in batches of 20 using test_datagen generator\n",
    "# --------------------\n",
    "validation_generator =  test_datagen.flow_from_directory(\"Dataset/Bell_pepper/test\",\n",
    "                                                         batch_size=20,\n",
    "                                                         class_mode  = 'categorical',\n",
    "                                                         target_size = (224, 224))"
   ]
  },
  {
   "attachments": {},
   "cell_type": "markdown",
   "metadata": {},
   "source": [
    "# List Resource"
   ]
  },
  {
   "cell_type": "code",
   "execution_count": 6,
   "metadata": {
    "tags": []
   },
   "outputs": [
    {
     "name": "stdout",
     "output_type": "stream",
     "text": [
      "Wed May 24 16:54:18 2023       \n",
      "+---------------------------------------------------------------------------------------+\n",
      "| NVIDIA-SMI 531.79                 Driver Version: 531.79       CUDA Version: 12.1     |\n",
      "|-----------------------------------------+----------------------+----------------------+\n",
      "| GPU  Name                      TCC/WDDM | Bus-Id        Disp.A | Volatile Uncorr. ECC |\n",
      "| Fan  Temp  Perf            Pwr:Usage/Cap|         Memory-Usage | GPU-Util  Compute M. |\n",
      "|                                         |                      |               MIG M. |\n",
      "|=========================================+======================+======================|\n",
      "|   0  NVIDIA GeForce RTX 3060 L...  WDDM | 00000000:01:00.0  On |                  N/A |\n",
      "| N/A   55C    P0               29W /  N/A|   4545MiB /  6144MiB |      2%      Default |\n",
      "|                                         |                      |                  N/A |\n",
      "+-----------------------------------------+----------------------+----------------------+\n",
      "                                                                                         \n",
      "+---------------------------------------------------------------------------------------+\n",
      "| Processes:                                                                            |\n",
      "|  GPU   GI   CI        PID   Type   Process name                            GPU Memory |\n",
      "|        ID   ID                                                             Usage      |\n",
      "|=======================================================================================|\n",
      "|    0   N/A  N/A      1464    C+G   ...nt.CBS_cw5n1h2txyewy\\SearchHost.exe    N/A      |\n",
      "|    0   N/A  N/A      2160    C+G   ...16.0_x86__zpdnekdrzrea0\\Spotify.exe    N/A      |\n",
      "|    0   N/A  N/A      2972    C+G   ...2txyewy\\StartMenuExperienceHost.exe    N/A      |\n",
      "|    0   N/A  N/A      6036    C+G   ...siveControlPanel\\SystemSettings.exe    N/A      |\n",
      "|    0   N/A  N/A      6164    C+G   ...1.0_x64__8wekyb3d8bbwe\\Video.UI.exe    N/A      |\n",
      "|    0   N/A  N/A      8596    C+G   ...on\\113.0.1774.50\\msedgewebview2.exe    N/A      |\n",
      "|    0   N/A  N/A      9816    C+G   C:\\WINDOWS\\explorer.exe                   N/A      |\n",
      "|    0   N/A  N/A     10808    C+G   ...les\\Microsoft OneDrive\\OneDrive.exe    N/A      |\n",
      "|    0   N/A  N/A     13840    C+G   ...x64__qmba6cd70vzyy\\ArmouryCrate.exe    N/A      |\n",
      "|    0   N/A  N/A     14912    C+G   ...t.LockApp_cw5n1h2txyewy\\LockApp.exe    N/A      |\n",
      "|    0   N/A  N/A     15568    C+G   ...ekyb3d8bbwe\\PhoneExperienceHost.exe    N/A      |\n",
      "|    0   N/A  N/A     17220    C+G   ...Programs\\Microsoft VS Code\\Code.exe    N/A      |\n",
      "|    0   N/A  N/A     17780    C+G   ...GeForce Experience\\NVIDIA Share.exe    N/A      |\n",
      "|    0   N/A  N/A     18696    C+G   ...oogle\\Chrome\\Application\\chrome.exe    N/A      |\n",
      "|    0   N/A  N/A     18912    C+G   ...les\\Microsoft OneDrive\\OneDrive.exe    N/A      |\n",
      "|    0   N/A  N/A     19908    C+G   ...les\\AMD\\CNext\\CNext\\AMDRSSrcExt.exe    N/A      |\n",
      "|    0   N/A  N/A     20296    C+G   ...\\AMD\\CNext\\CNext\\RadeonSoftware.exe    N/A      |\n",
      "|    0   N/A  N/A     20416    C+G   ...64__v826wp6bftszj\\TranslucentTB.exe    N/A      |\n",
      "|    0   N/A  N/A     23520    C+G   ...2.0_x64__cv1g1gvanyjgm\\WhatsApp.exe    N/A      |\n",
      "|    0   N/A  N/A     24528    C+G   ...CBS_cw5n1h2txyewy\\TextInputHost.exe    N/A      |\n",
      "|    0   N/A  N/A     25528      C   ...envs\\tensorflow_gpu_zein\\python.exe    N/A      |\n",
      "+---------------------------------------------------------------------------------------+\n"
     ]
    }
   ],
   "source": [
    "# Check GPU\n",
    "!nvidia-smi"
   ]
  },
  {
   "cell_type": "code",
   "execution_count": 7,
   "metadata": {
    "tags": []
   },
   "outputs": [
    {
     "data": {
      "text/plain": [
       "[PhysicalDevice(name='/physical_device:GPU:0', device_type='GPU')]"
      ]
     },
     "execution_count": 7,
     "metadata": {},
     "output_type": "execute_result"
    }
   ],
   "source": [
    "# Lis physical devices\n",
    "devices = tf.config.experimental.list_physical_devices(\"GPU\")\n",
    "devices"
   ]
  },
  {
   "cell_type": "code",
   "execution_count": 8,
   "metadata": {
    "tags": []
   },
   "outputs": [
    {
     "name": "stdout",
     "output_type": "stream",
     "text": [
      "INFO:tensorflow:Using MirroredStrategy with devices ('/job:localhost/replica:0/task:0/device:GPU:0',)\n"
     ]
    }
   ],
   "source": [
    "# Define the GPU strategy\n",
    "mirrored_strategy = tf.distribute.MirroredStrategy(devices=[\"/gpu:0\"])"
   ]
  },
  {
   "attachments": {},
   "cell_type": "markdown",
   "metadata": {},
   "source": [
    "# Modelling Without Augmentation"
   ]
  },
  {
   "attachments": {},
   "cell_type": "markdown",
   "metadata": {},
   "source": [
    "## MobileNetV2 Model 1"
   ]
  },
  {
   "cell_type": "code",
   "execution_count": 9,
   "metadata": {
    "tags": []
   },
   "outputs": [],
   "source": [
    "# Difine the callbacks\n",
    "# Save the best model\n",
    "checkpoint_callback = ModelCheckpoint(filepath=\"BellPaper_MobileNetV2_model1_Based_Non_Augmented\", save_best_only=True, monitor=\"val_accuracy\", mode=\"max\", verbose=1)\n",
    "\n",
    "# Early stopping\n",
    "early_stopping_callback = EarlyStopping(monitor=\"val_accuracy\", mode=\"max\", patience=20, verbose=1, restore_best_weights=True)\n",
    "\n",
    "# Reduce learning rate\n",
    "reduce_lr_callback = ReduceLROnPlateau(monitor=\"val_loss\", factor=0.1, patience=5, verbose=1, mode=\"min\", min_delta=0.0001, cooldown=0, min_lr=0)\n",
    "\n",
    "# Callbacks list\n",
    "callbacks=[checkpoint_callback, early_stopping_callback, reduce_lr_callback]"
   ]
  },
  {
   "cell_type": "code",
   "execution_count": 10,
   "metadata": {
    "tags": []
   },
   "outputs": [
    {
     "name": "stdout",
     "output_type": "stream",
     "text": [
      "Model: \"sequential\"\n",
      "_________________________________________________________________\n",
      " Layer (type)                Output Shape              Param #   \n",
      "=================================================================\n",
      " mobilenetv2_1.00_224 (Funct  (None, 7, 7, 1280)       2257984   \n",
      " ional)                                                          \n",
      "                                                                 \n",
      " global_max_pooling2d (Globa  (None, 1280)             0         \n",
      " lMaxPooling2D)                                                  \n",
      "                                                                 \n",
      " dropout (Dropout)           (None, 1280)              0         \n",
      "                                                                 \n",
      " dense (Dense)               (None, 256)               327936    \n",
      "                                                                 \n",
      " dense_1 (Dense)             (None, 2)                 514       \n",
      "                                                                 \n",
      "=================================================================\n",
      "Total params: 2,586,434\n",
      "Trainable params: 2,552,322\n",
      "Non-trainable params: 34,112\n",
      "_________________________________________________________________\n"
     ]
    }
   ],
   "source": [
    "# Define Model\n",
    "MobileNetV2_model = tf.keras.models.Sequential([\n",
    "    # MobileNetV2 Layer\n",
    "    MobileNetV2(include_top=False,weights='imagenet',input_shape=(224, 224, 3)),\n",
    "    # Max Pooling Layer\n",
    "    tf.keras.layers.GlobalMaxPooling2D(),\n",
    "    # Drop Out Layer\n",
    "    tf.keras.layers.Dropout(0.2),\n",
    "    # 256 neuron hidden layer\n",
    "    tf.keras.layers.Dense(256, activation='relu'),\n",
    "    # Output\n",
    "    tf.keras.layers.Dense(2, activation='softmax') \n",
    "  ])\n",
    "\n",
    "\n",
    "# Compile Model\n",
    "MobileNetV2_model.compile(loss='categorical_crossentropy',optimizer=tf.keras.optimizers.Adam(), metrics=['accuracy']) \n",
    "\n",
    "# Model Summary\n",
    "MobileNetV2_model.summary()"
   ]
  },
  {
   "cell_type": "code",
   "execution_count": 11,
   "metadata": {
    "tags": []
   },
   "outputs": [
    {
     "name": "stdout",
     "output_type": "stream",
     "text": [
      "Epoch 1/100\n",
      "202/202 [==============================] - ETA: 0s - loss: 0.3662 - accuracy: 0.9489\n",
      "Epoch 1: val_accuracy improved from -inf to 0.51663, saving model to BellPaper_MobileNetV2_model1_Based_Non_Augmented\n"
     ]
    },
    {
     "name": "stderr",
     "output_type": "stream",
     "text": [
      "WARNING:absl:Function `_wrapped_model` contains input name(s) mobilenetv2_1.00_224_input with unsupported characters which will be renamed to mobilenetv2_1_00_224_input in the SavedModel.\n",
      "WARNING:absl:Found untraced functions such as _jit_compiled_convolution_op, _jit_compiled_convolution_op, _jit_compiled_convolution_op, _jit_compiled_convolution_op, _jit_compiled_convolution_op while saving (showing 5 of 52). These functions will not be directly callable after loading.\n"
     ]
    },
    {
     "name": "stdout",
     "output_type": "stream",
     "text": [
      "INFO:tensorflow:Assets written to: BellPaper_MobileNetV2_model1_Based_Non_Augmented\\assets\n"
     ]
    },
    {
     "name": "stderr",
     "output_type": "stream",
     "text": [
      "INFO:tensorflow:Assets written to: BellPaper_MobileNetV2_model1_Based_Non_Augmented\\assets\n"
     ]
    },
    {
     "name": "stdout",
     "output_type": "stream",
     "text": [
      "202/202 [==============================] - 44s 185ms/step - loss: 0.3662 - accuracy: 0.9489 - val_loss: 14.6067 - val_accuracy: 0.5166 - lr: 0.0010\n",
      "Epoch 2/100\n",
      "202/202 [==============================] - ETA: 0s - loss: 0.1029 - accuracy: 0.9700\n",
      "Epoch 2: val_accuracy improved from 0.51663 to 0.84407, saving model to BellPaper_MobileNetV2_model1_Based_Non_Augmented\n"
     ]
    },
    {
     "name": "stderr",
     "output_type": "stream",
     "text": [
      "WARNING:absl:Function `_wrapped_model` contains input name(s) mobilenetv2_1.00_224_input with unsupported characters which will be renamed to mobilenetv2_1_00_224_input in the SavedModel.\n",
      "WARNING:absl:Found untraced functions such as _jit_compiled_convolution_op, _jit_compiled_convolution_op, _jit_compiled_convolution_op, _jit_compiled_convolution_op, _jit_compiled_convolution_op while saving (showing 5 of 52). These functions will not be directly callable after loading.\n"
     ]
    },
    {
     "name": "stdout",
     "output_type": "stream",
     "text": [
      "INFO:tensorflow:Assets written to: BellPaper_MobileNetV2_model1_Based_Non_Augmented\\assets\n"
     ]
    },
    {
     "name": "stderr",
     "output_type": "stream",
     "text": [
      "INFO:tensorflow:Assets written to: BellPaper_MobileNetV2_model1_Based_Non_Augmented\\assets\n"
     ]
    },
    {
     "name": "stdout",
     "output_type": "stream",
     "text": [
      "202/202 [==============================] - 36s 176ms/step - loss: 0.1029 - accuracy: 0.9700 - val_loss: 1.7256 - val_accuracy: 0.8441 - lr: 0.0010\n",
      "Epoch 3/100\n",
      "202/202 [==============================] - ETA: 0s - loss: 0.0461 - accuracy: 0.9836\n",
      "Epoch 3: val_accuracy did not improve from 0.84407\n",
      "202/202 [==============================] - 21s 104ms/step - loss: 0.0461 - accuracy: 0.9836 - val_loss: 4.2856 - val_accuracy: 0.5946 - lr: 0.0010\n",
      "Epoch 4/100\n",
      "202/202 [==============================] - ETA: 0s - loss: 0.0347 - accuracy: 0.9876\n",
      "Epoch 4: val_accuracy improved from 0.84407 to 0.84823, saving model to BellPaper_MobileNetV2_model1_Based_Non_Augmented\n"
     ]
    },
    {
     "name": "stderr",
     "output_type": "stream",
     "text": [
      "WARNING:absl:Function `_wrapped_model` contains input name(s) mobilenetv2_1.00_224_input with unsupported characters which will be renamed to mobilenetv2_1_00_224_input in the SavedModel.\n",
      "WARNING:absl:Found untraced functions such as _jit_compiled_convolution_op, _jit_compiled_convolution_op, _jit_compiled_convolution_op, _jit_compiled_convolution_op, _jit_compiled_convolution_op while saving (showing 5 of 52). These functions will not be directly callable after loading.\n"
     ]
    },
    {
     "name": "stdout",
     "output_type": "stream",
     "text": [
      "INFO:tensorflow:Assets written to: BellPaper_MobileNetV2_model1_Based_Non_Augmented\\assets\n"
     ]
    },
    {
     "name": "stderr",
     "output_type": "stream",
     "text": [
      "INFO:tensorflow:Assets written to: BellPaper_MobileNetV2_model1_Based_Non_Augmented\\assets\n"
     ]
    },
    {
     "name": "stdout",
     "output_type": "stream",
     "text": [
      "202/202 [==============================] - 36s 178ms/step - loss: 0.0347 - accuracy: 0.9876 - val_loss: 1.2948 - val_accuracy: 0.8482 - lr: 0.0010\n",
      "Epoch 5/100\n",
      "202/202 [==============================] - ETA: 0s - loss: 0.0458 - accuracy: 0.9851\n",
      "Epoch 5: val_accuracy improved from 0.84823 to 0.94283, saving model to BellPaper_MobileNetV2_model1_Based_Non_Augmented\n"
     ]
    },
    {
     "name": "stderr",
     "output_type": "stream",
     "text": [
      "WARNING:absl:Function `_wrapped_model` contains input name(s) mobilenetv2_1.00_224_input with unsupported characters which will be renamed to mobilenetv2_1_00_224_input in the SavedModel.\n",
      "WARNING:absl:Found untraced functions such as _jit_compiled_convolution_op, _jit_compiled_convolution_op, _jit_compiled_convolution_op, _jit_compiled_convolution_op, _jit_compiled_convolution_op while saving (showing 5 of 52). These functions will not be directly callable after loading.\n"
     ]
    },
    {
     "name": "stdout",
     "output_type": "stream",
     "text": [
      "INFO:tensorflow:Assets written to: BellPaper_MobileNetV2_model1_Based_Non_Augmented\\assets\n"
     ]
    },
    {
     "name": "stderr",
     "output_type": "stream",
     "text": [
      "INFO:tensorflow:Assets written to: BellPaper_MobileNetV2_model1_Based_Non_Augmented\\assets\n"
     ]
    },
    {
     "name": "stdout",
     "output_type": "stream",
     "text": [
      "202/202 [==============================] - 36s 176ms/step - loss: 0.0458 - accuracy: 0.9851 - val_loss: 0.2282 - val_accuracy: 0.9428 - lr: 0.0010\n",
      "Epoch 6/100\n",
      "202/202 [==============================] - ETA: 0s - loss: 0.0498 - accuracy: 0.9864\n",
      "Epoch 6: val_accuracy did not improve from 0.94283\n",
      "202/202 [==============================] - 21s 105ms/step - loss: 0.0498 - accuracy: 0.9864 - val_loss: 1.2554 - val_accuracy: 0.7599 - lr: 0.0010\n",
      "Epoch 7/100\n",
      "202/202 [==============================] - ETA: 0s - loss: 0.0189 - accuracy: 0.9933\n",
      "Epoch 7: val_accuracy improved from 0.94283 to 0.96258, saving model to BellPaper_MobileNetV2_model1_Based_Non_Augmented\n"
     ]
    },
    {
     "name": "stderr",
     "output_type": "stream",
     "text": [
      "WARNING:absl:Function `_wrapped_model` contains input name(s) mobilenetv2_1.00_224_input with unsupported characters which will be renamed to mobilenetv2_1_00_224_input in the SavedModel.\n",
      "WARNING:absl:Found untraced functions such as _jit_compiled_convolution_op, _jit_compiled_convolution_op, _jit_compiled_convolution_op, _jit_compiled_convolution_op, _jit_compiled_convolution_op while saving (showing 5 of 52). These functions will not be directly callable after loading.\n"
     ]
    },
    {
     "name": "stdout",
     "output_type": "stream",
     "text": [
      "INFO:tensorflow:Assets written to: BellPaper_MobileNetV2_model1_Based_Non_Augmented\\assets\n"
     ]
    },
    {
     "name": "stderr",
     "output_type": "stream",
     "text": [
      "INFO:tensorflow:Assets written to: BellPaper_MobileNetV2_model1_Based_Non_Augmented\\assets\n"
     ]
    },
    {
     "name": "stdout",
     "output_type": "stream",
     "text": [
      "202/202 [==============================] - 36s 177ms/step - loss: 0.0189 - accuracy: 0.9933 - val_loss: 0.1783 - val_accuracy: 0.9626 - lr: 0.0010\n",
      "Epoch 8/100\n",
      "202/202 [==============================] - ETA: 0s - loss: 0.0201 - accuracy: 0.9931\n",
      "Epoch 8: val_accuracy did not improve from 0.96258\n",
      "202/202 [==============================] - 21s 104ms/step - loss: 0.0201 - accuracy: 0.9931 - val_loss: 0.5407 - val_accuracy: 0.9179 - lr: 0.0010\n",
      "Epoch 9/100\n",
      "202/202 [==============================] - ETA: 0s - loss: 0.0185 - accuracy: 0.9936\n",
      "Epoch 9: val_accuracy did not improve from 0.96258\n",
      "202/202 [==============================] - 21s 105ms/step - loss: 0.0185 - accuracy: 0.9936 - val_loss: 1.1519 - val_accuracy: 0.8493 - lr: 0.0010\n",
      "Epoch 10/100\n",
      "202/202 [==============================] - ETA: 0s - loss: 0.0245 - accuracy: 0.9936\n",
      "Epoch 10: val_accuracy did not improve from 0.96258\n",
      "202/202 [==============================] - 21s 105ms/step - loss: 0.0245 - accuracy: 0.9936 - val_loss: 1.8356 - val_accuracy: 0.7214 - lr: 0.0010\n",
      "Epoch 11/100\n",
      "202/202 [==============================] - ETA: 0s - loss: 0.0416 - accuracy: 0.9879\n",
      "Epoch 11: val_accuracy improved from 0.96258 to 0.97193, saving model to BellPaper_MobileNetV2_model1_Based_Non_Augmented\n"
     ]
    },
    {
     "name": "stderr",
     "output_type": "stream",
     "text": [
      "WARNING:absl:Function `_wrapped_model` contains input name(s) mobilenetv2_1.00_224_input with unsupported characters which will be renamed to mobilenetv2_1_00_224_input in the SavedModel.\n",
      "WARNING:absl:Found untraced functions such as _jit_compiled_convolution_op, _jit_compiled_convolution_op, _jit_compiled_convolution_op, _jit_compiled_convolution_op, _jit_compiled_convolution_op while saving (showing 5 of 52). These functions will not be directly callable after loading.\n"
     ]
    },
    {
     "name": "stdout",
     "output_type": "stream",
     "text": [
      "INFO:tensorflow:Assets written to: BellPaper_MobileNetV2_model1_Based_Non_Augmented\\assets\n"
     ]
    },
    {
     "name": "stderr",
     "output_type": "stream",
     "text": [
      "INFO:tensorflow:Assets written to: BellPaper_MobileNetV2_model1_Based_Non_Augmented\\assets\n"
     ]
    },
    {
     "name": "stdout",
     "output_type": "stream",
     "text": [
      "202/202 [==============================] - 36s 178ms/step - loss: 0.0416 - accuracy: 0.9879 - val_loss: 0.2656 - val_accuracy: 0.9719 - lr: 0.0010\n",
      "Epoch 12/100\n",
      "202/202 [==============================] - ETA: 0s - loss: 0.0589 - accuracy: 0.9804\n",
      "Epoch 12: val_accuracy improved from 0.97193 to 0.98857, saving model to BellPaper_MobileNetV2_model1_Based_Non_Augmented\n"
     ]
    },
    {
     "name": "stderr",
     "output_type": "stream",
     "text": [
      "WARNING:absl:Function `_wrapped_model` contains input name(s) mobilenetv2_1.00_224_input with unsupported characters which will be renamed to mobilenetv2_1_00_224_input in the SavedModel.\n",
      "WARNING:absl:Found untraced functions such as _jit_compiled_convolution_op, _jit_compiled_convolution_op, _jit_compiled_convolution_op, _jit_compiled_convolution_op, _jit_compiled_convolution_op while saving (showing 5 of 52). These functions will not be directly callable after loading.\n"
     ]
    },
    {
     "name": "stdout",
     "output_type": "stream",
     "text": [
      "INFO:tensorflow:Assets written to: BellPaper_MobileNetV2_model1_Based_Non_Augmented\\assets\n"
     ]
    },
    {
     "name": "stderr",
     "output_type": "stream",
     "text": [
      "INFO:tensorflow:Assets written to: BellPaper_MobileNetV2_model1_Based_Non_Augmented\\assets\n"
     ]
    },
    {
     "name": "stdout",
     "output_type": "stream",
     "text": [
      "202/202 [==============================] - 36s 179ms/step - loss: 0.0589 - accuracy: 0.9804 - val_loss: 0.0461 - val_accuracy: 0.9886 - lr: 0.0010\n",
      "Epoch 13/100\n",
      "202/202 [==============================] - ETA: 0s - loss: 0.0150 - accuracy: 0.9940\n",
      "Epoch 13: val_accuracy did not improve from 0.98857\n",
      "202/202 [==============================] - 21s 105ms/step - loss: 0.0150 - accuracy: 0.9940 - val_loss: 0.0832 - val_accuracy: 0.9875 - lr: 0.0010\n",
      "Epoch 14/100\n",
      "202/202 [==============================] - ETA: 0s - loss: 0.0254 - accuracy: 0.9911\n",
      "Epoch 14: val_accuracy did not improve from 0.98857\n",
      "202/202 [==============================] - 21s 106ms/step - loss: 0.0254 - accuracy: 0.9911 - val_loss: 0.0287 - val_accuracy: 0.9854 - lr: 0.0010\n",
      "Epoch 15/100\n",
      "202/202 [==============================] - ETA: 0s - loss: 0.0127 - accuracy: 0.9958\n",
      "Epoch 15: val_accuracy did not improve from 0.98857\n",
      "202/202 [==============================] - 21s 106ms/step - loss: 0.0127 - accuracy: 0.9958 - val_loss: 0.0481 - val_accuracy: 0.9823 - lr: 0.0010\n",
      "Epoch 16/100\n",
      "202/202 [==============================] - ETA: 0s - loss: 0.0295 - accuracy: 0.9923\n",
      "Epoch 16: val_accuracy improved from 0.98857 to 0.99480, saving model to BellPaper_MobileNetV2_model1_Based_Non_Augmented\n"
     ]
    },
    {
     "name": "stderr",
     "output_type": "stream",
     "text": [
      "WARNING:absl:Function `_wrapped_model` contains input name(s) mobilenetv2_1.00_224_input with unsupported characters which will be renamed to mobilenetv2_1_00_224_input in the SavedModel.\n",
      "WARNING:absl:Found untraced functions such as _jit_compiled_convolution_op, _jit_compiled_convolution_op, _jit_compiled_convolution_op, _jit_compiled_convolution_op, _jit_compiled_convolution_op while saving (showing 5 of 52). These functions will not be directly callable after loading.\n"
     ]
    },
    {
     "name": "stdout",
     "output_type": "stream",
     "text": [
      "INFO:tensorflow:Assets written to: BellPaper_MobileNetV2_model1_Based_Non_Augmented\\assets\n"
     ]
    },
    {
     "name": "stderr",
     "output_type": "stream",
     "text": [
      "INFO:tensorflow:Assets written to: BellPaper_MobileNetV2_model1_Based_Non_Augmented\\assets\n"
     ]
    },
    {
     "name": "stdout",
     "output_type": "stream",
     "text": [
      "202/202 [==============================] - 36s 177ms/step - loss: 0.0295 - accuracy: 0.9923 - val_loss: 0.0147 - val_accuracy: 0.9948 - lr: 0.0010\n",
      "Epoch 17/100\n",
      "202/202 [==============================] - ETA: 0s - loss: 0.0250 - accuracy: 0.9933\n",
      "Epoch 17: val_accuracy did not improve from 0.99480\n",
      "202/202 [==============================] - 21s 105ms/step - loss: 0.0250 - accuracy: 0.9933 - val_loss: 0.0287 - val_accuracy: 0.9927 - lr: 0.0010\n",
      "Epoch 18/100\n",
      "202/202 [==============================] - ETA: 0s - loss: 0.0246 - accuracy: 0.9911\n",
      "Epoch 18: val_accuracy did not improve from 0.99480\n",
      "202/202 [==============================] - 21s 105ms/step - loss: 0.0246 - accuracy: 0.9911 - val_loss: 0.0971 - val_accuracy: 0.9792 - lr: 0.0010\n",
      "Epoch 19/100\n",
      "202/202 [==============================] - ETA: 0s - loss: 0.0206 - accuracy: 0.9923\n",
      "Epoch 19: val_accuracy did not improve from 0.99480\n",
      "202/202 [==============================] - 21s 105ms/step - loss: 0.0206 - accuracy: 0.9923 - val_loss: 0.0480 - val_accuracy: 0.9917 - lr: 0.0010\n",
      "Epoch 20/100\n",
      "202/202 [==============================] - ETA: 0s - loss: 0.0227 - accuracy: 0.9928\n",
      "Epoch 20: val_accuracy did not improve from 0.99480\n",
      "202/202 [==============================] - 21s 105ms/step - loss: 0.0227 - accuracy: 0.9928 - val_loss: 0.2377 - val_accuracy: 0.9823 - lr: 0.0010\n",
      "Epoch 21/100\n",
      "202/202 [==============================] - ETA: 0s - loss: 0.0363 - accuracy: 0.9896\n",
      "Epoch 21: val_accuracy did not improve from 0.99480\n",
      "\n",
      "Epoch 21: ReduceLROnPlateau reducing learning rate to 0.00010000000474974513.\n",
      "202/202 [==============================] - 22s 107ms/step - loss: 0.0363 - accuracy: 0.9896 - val_loss: 0.2636 - val_accuracy: 0.9678 - lr: 0.0010\n",
      "Epoch 22/100\n",
      "202/202 [==============================] - ETA: 0s - loss: 0.0081 - accuracy: 0.9973\n",
      "Epoch 22: val_accuracy did not improve from 0.99480\n",
      "202/202 [==============================] - 21s 106ms/step - loss: 0.0081 - accuracy: 0.9973 - val_loss: 0.0818 - val_accuracy: 0.9917 - lr: 1.0000e-04\n",
      "Epoch 23/100\n",
      "202/202 [==============================] - ETA: 0s - loss: 0.0058 - accuracy: 0.9990\n",
      "Epoch 23: val_accuracy improved from 0.99480 to 0.99584, saving model to BellPaper_MobileNetV2_model1_Based_Non_Augmented\n"
     ]
    },
    {
     "name": "stderr",
     "output_type": "stream",
     "text": [
      "WARNING:absl:Function `_wrapped_model` contains input name(s) mobilenetv2_1.00_224_input with unsupported characters which will be renamed to mobilenetv2_1_00_224_input in the SavedModel.\n",
      "WARNING:absl:Found untraced functions such as _jit_compiled_convolution_op, _jit_compiled_convolution_op, _jit_compiled_convolution_op, _jit_compiled_convolution_op, _jit_compiled_convolution_op while saving (showing 5 of 52). These functions will not be directly callable after loading.\n"
     ]
    },
    {
     "name": "stdout",
     "output_type": "stream",
     "text": [
      "INFO:tensorflow:Assets written to: BellPaper_MobileNetV2_model1_Based_Non_Augmented\\assets\n"
     ]
    },
    {
     "name": "stderr",
     "output_type": "stream",
     "text": [
      "INFO:tensorflow:Assets written to: BellPaper_MobileNetV2_model1_Based_Non_Augmented\\assets\n"
     ]
    },
    {
     "name": "stdout",
     "output_type": "stream",
     "text": [
      "202/202 [==============================] - 36s 180ms/step - loss: 0.0058 - accuracy: 0.9990 - val_loss: 0.0259 - val_accuracy: 0.9958 - lr: 1.0000e-04\n",
      "Epoch 24/100\n",
      "202/202 [==============================] - ETA: 0s - loss: 0.0036 - accuracy: 0.9988\n",
      "Epoch 24: val_accuracy improved from 0.99584 to 0.99688, saving model to BellPaper_MobileNetV2_model1_Based_Non_Augmented\n"
     ]
    },
    {
     "name": "stderr",
     "output_type": "stream",
     "text": [
      "WARNING:absl:Function `_wrapped_model` contains input name(s) mobilenetv2_1.00_224_input with unsupported characters which will be renamed to mobilenetv2_1_00_224_input in the SavedModel.\n",
      "WARNING:absl:Found untraced functions such as _jit_compiled_convolution_op, _jit_compiled_convolution_op, _jit_compiled_convolution_op, _jit_compiled_convolution_op, _jit_compiled_convolution_op while saving (showing 5 of 52). These functions will not be directly callable after loading.\n"
     ]
    },
    {
     "name": "stdout",
     "output_type": "stream",
     "text": [
      "INFO:tensorflow:Assets written to: BellPaper_MobileNetV2_model1_Based_Non_Augmented\\assets\n"
     ]
    },
    {
     "name": "stderr",
     "output_type": "stream",
     "text": [
      "INFO:tensorflow:Assets written to: BellPaper_MobileNetV2_model1_Based_Non_Augmented\\assets\n"
     ]
    },
    {
     "name": "stdout",
     "output_type": "stream",
     "text": [
      "202/202 [==============================] - 36s 177ms/step - loss: 0.0036 - accuracy: 0.9988 - val_loss: 0.0197 - val_accuracy: 0.9969 - lr: 1.0000e-04\n",
      "Epoch 25/100\n",
      "202/202 [==============================] - ETA: 0s - loss: 0.0017 - accuracy: 0.9995\n",
      "Epoch 25: val_accuracy improved from 0.99688 to 0.99792, saving model to BellPaper_MobileNetV2_model1_Based_Non_Augmented\n"
     ]
    },
    {
     "name": "stderr",
     "output_type": "stream",
     "text": [
      "WARNING:absl:Function `_wrapped_model` contains input name(s) mobilenetv2_1.00_224_input with unsupported characters which will be renamed to mobilenetv2_1_00_224_input in the SavedModel.\n",
      "WARNING:absl:Found untraced functions such as _jit_compiled_convolution_op, _jit_compiled_convolution_op, _jit_compiled_convolution_op, _jit_compiled_convolution_op, _jit_compiled_convolution_op while saving (showing 5 of 52). These functions will not be directly callable after loading.\n"
     ]
    },
    {
     "name": "stdout",
     "output_type": "stream",
     "text": [
      "INFO:tensorflow:Assets written to: BellPaper_MobileNetV2_model1_Based_Non_Augmented\\assets\n"
     ]
    },
    {
     "name": "stderr",
     "output_type": "stream",
     "text": [
      "INFO:tensorflow:Assets written to: BellPaper_MobileNetV2_model1_Based_Non_Augmented\\assets\n"
     ]
    },
    {
     "name": "stdout",
     "output_type": "stream",
     "text": [
      "202/202 [==============================] - 36s 177ms/step - loss: 0.0017 - accuracy: 0.9995 - val_loss: 0.0169 - val_accuracy: 0.9979 - lr: 1.0000e-04\n",
      "Epoch 26/100\n",
      "202/202 [==============================] - ETA: 0s - loss: 0.0024 - accuracy: 0.9993\n",
      "Epoch 26: val_accuracy improved from 0.99792 to 0.99896, saving model to BellPaper_MobileNetV2_model1_Based_Non_Augmented\n"
     ]
    },
    {
     "name": "stderr",
     "output_type": "stream",
     "text": [
      "WARNING:absl:Function `_wrapped_model` contains input name(s) mobilenetv2_1.00_224_input with unsupported characters which will be renamed to mobilenetv2_1_00_224_input in the SavedModel.\n",
      "WARNING:absl:Found untraced functions such as _jit_compiled_convolution_op, _jit_compiled_convolution_op, _jit_compiled_convolution_op, _jit_compiled_convolution_op, _jit_compiled_convolution_op while saving (showing 5 of 52). These functions will not be directly callable after loading.\n"
     ]
    },
    {
     "name": "stdout",
     "output_type": "stream",
     "text": [
      "INFO:tensorflow:Assets written to: BellPaper_MobileNetV2_model1_Based_Non_Augmented\\assets\n"
     ]
    },
    {
     "name": "stderr",
     "output_type": "stream",
     "text": [
      "INFO:tensorflow:Assets written to: BellPaper_MobileNetV2_model1_Based_Non_Augmented\\assets\n"
     ]
    },
    {
     "name": "stdout",
     "output_type": "stream",
     "text": [
      "202/202 [==============================] - 36s 178ms/step - loss: 0.0024 - accuracy: 0.9993 - val_loss: 0.0028 - val_accuracy: 0.9990 - lr: 1.0000e-04\n",
      "Epoch 27/100\n",
      "202/202 [==============================] - ETA: 0s - loss: 0.0018 - accuracy: 0.9998\n",
      "Epoch 27: val_accuracy did not improve from 0.99896\n",
      "202/202 [==============================] - 21s 104ms/step - loss: 0.0018 - accuracy: 0.9998 - val_loss: 0.0055 - val_accuracy: 0.9990 - lr: 1.0000e-04\n",
      "Epoch 28/100\n",
      "202/202 [==============================] - ETA: 0s - loss: 7.7610e-04 - accuracy: 0.9998\n",
      "Epoch 28: val_accuracy did not improve from 0.99896\n",
      "202/202 [==============================] - 21s 104ms/step - loss: 7.7610e-04 - accuracy: 0.9998 - val_loss: 0.0048 - val_accuracy: 0.9990 - lr: 1.0000e-04\n",
      "Epoch 29/100\n",
      "202/202 [==============================] - ETA: 0s - loss: 3.7688e-04 - accuracy: 1.0000\n",
      "Epoch 29: val_accuracy did not improve from 0.99896\n",
      "202/202 [==============================] - 21s 105ms/step - loss: 3.7688e-04 - accuracy: 1.0000 - val_loss: 0.0044 - val_accuracy: 0.9990 - lr: 1.0000e-04\n",
      "Epoch 30/100\n",
      "202/202 [==============================] - ETA: 0s - loss: 0.0034 - accuracy: 0.9993\n",
      "Epoch 30: val_accuracy did not improve from 0.99896\n",
      "202/202 [==============================] - 21s 104ms/step - loss: 0.0034 - accuracy: 0.9993 - val_loss: 0.0036 - val_accuracy: 0.9990 - lr: 1.0000e-04\n",
      "Epoch 31/100\n",
      "202/202 [==============================] - ETA: 0s - loss: 8.4802e-04 - accuracy: 0.9995\n",
      "Epoch 31: val_accuracy did not improve from 0.99896\n",
      "202/202 [==============================] - 21s 104ms/step - loss: 8.4802e-04 - accuracy: 0.9995 - val_loss: 0.0025 - val_accuracy: 0.9990 - lr: 1.0000e-04\n",
      "Epoch 32/100\n",
      "202/202 [==============================] - ETA: 0s - loss: 0.0014 - accuracy: 0.9993\n",
      "Epoch 32: val_accuracy improved from 0.99896 to 1.00000, saving model to BellPaper_MobileNetV2_model1_Based_Non_Augmented\n"
     ]
    },
    {
     "name": "stderr",
     "output_type": "stream",
     "text": [
      "WARNING:absl:Function `_wrapped_model` contains input name(s) mobilenetv2_1.00_224_input with unsupported characters which will be renamed to mobilenetv2_1_00_224_input in the SavedModel.\n",
      "WARNING:absl:Found untraced functions such as _jit_compiled_convolution_op, _jit_compiled_convolution_op, _jit_compiled_convolution_op, _jit_compiled_convolution_op, _jit_compiled_convolution_op while saving (showing 5 of 52). These functions will not be directly callable after loading.\n"
     ]
    },
    {
     "name": "stdout",
     "output_type": "stream",
     "text": [
      "INFO:tensorflow:Assets written to: BellPaper_MobileNetV2_model1_Based_Non_Augmented\\assets\n"
     ]
    },
    {
     "name": "stderr",
     "output_type": "stream",
     "text": [
      "INFO:tensorflow:Assets written to: BellPaper_MobileNetV2_model1_Based_Non_Augmented\\assets\n"
     ]
    },
    {
     "name": "stdout",
     "output_type": "stream",
     "text": [
      "202/202 [==============================] - 36s 177ms/step - loss: 0.0014 - accuracy: 0.9993 - val_loss: 5.0122e-05 - val_accuracy: 1.0000 - lr: 1.0000e-04\n",
      "Epoch 33/100\n",
      "202/202 [==============================] - ETA: 0s - loss: 1.3335e-04 - accuracy: 1.0000\n",
      "Epoch 33: val_accuracy did not improve from 1.00000\n",
      "202/202 [==============================] - 21s 104ms/step - loss: 1.3335e-04 - accuracy: 1.0000 - val_loss: 5.4008e-05 - val_accuracy: 1.0000 - lr: 1.0000e-04\n",
      "Epoch 34/100\n",
      "202/202 [==============================] - ETA: 0s - loss: 2.4127e-04 - accuracy: 1.0000\n",
      "Epoch 34: val_accuracy did not improve from 1.00000\n",
      "202/202 [==============================] - 21s 105ms/step - loss: 2.4127e-04 - accuracy: 1.0000 - val_loss: 3.0015e-05 - val_accuracy: 1.0000 - lr: 1.0000e-04\n",
      "Epoch 35/100\n",
      "202/202 [==============================] - ETA: 0s - loss: 5.7533e-05 - accuracy: 1.0000\n",
      "Epoch 35: val_accuracy did not improve from 1.00000\n",
      "202/202 [==============================] - 21s 105ms/step - loss: 5.7533e-05 - accuracy: 1.0000 - val_loss: 3.1213e-05 - val_accuracy: 1.0000 - lr: 1.0000e-04\n",
      "Epoch 36/100\n",
      "202/202 [==============================] - ETA: 0s - loss: 1.5284e-04 - accuracy: 1.0000\n",
      "Epoch 36: val_accuracy did not improve from 1.00000\n",
      "202/202 [==============================] - 22s 107ms/step - loss: 1.5284e-04 - accuracy: 1.0000 - val_loss: 5.3100e-05 - val_accuracy: 1.0000 - lr: 1.0000e-04\n",
      "Epoch 37/100\n",
      "202/202 [==============================] - ETA: 0s - loss: 6.4188e-05 - accuracy: 1.0000\n",
      "Epoch 37: val_accuracy did not improve from 1.00000\n",
      "\n",
      "Epoch 37: ReduceLROnPlateau reducing learning rate to 1.0000000474974514e-05.\n",
      "202/202 [==============================] - 21s 105ms/step - loss: 6.4188e-05 - accuracy: 1.0000 - val_loss: 8.3209e-05 - val_accuracy: 1.0000 - lr: 1.0000e-04\n",
      "Epoch 38/100\n",
      "202/202 [==============================] - ETA: 0s - loss: 2.7080e-05 - accuracy: 1.0000\n",
      "Epoch 38: val_accuracy did not improve from 1.00000\n",
      "202/202 [==============================] - 21s 106ms/step - loss: 2.7080e-05 - accuracy: 1.0000 - val_loss: 7.2446e-05 - val_accuracy: 1.0000 - lr: 1.0000e-05\n",
      "Epoch 39/100\n",
      "202/202 [==============================] - ETA: 0s - loss: 6.3818e-05 - accuracy: 1.0000\n",
      "Epoch 39: val_accuracy did not improve from 1.00000\n",
      "202/202 [==============================] - 21s 105ms/step - loss: 6.3818e-05 - accuracy: 1.0000 - val_loss: 5.9055e-05 - val_accuracy: 1.0000 - lr: 1.0000e-05\n",
      "Epoch 40/100\n",
      "202/202 [==============================] - ETA: 0s - loss: 4.1293e-04 - accuracy: 0.9998\n",
      "Epoch 40: val_accuracy did not improve from 1.00000\n",
      "202/202 [==============================] - 21s 104ms/step - loss: 4.1293e-04 - accuracy: 0.9998 - val_loss: 5.3887e-05 - val_accuracy: 1.0000 - lr: 1.0000e-05\n",
      "Epoch 41/100\n",
      "202/202 [==============================] - ETA: 0s - loss: 4.3125e-05 - accuracy: 1.0000\n",
      "Epoch 41: val_accuracy did not improve from 1.00000\n",
      "202/202 [==============================] - 21s 105ms/step - loss: 4.3125e-05 - accuracy: 1.0000 - val_loss: 4.8593e-05 - val_accuracy: 1.0000 - lr: 1.0000e-05\n",
      "Epoch 42/100\n",
      "202/202 [==============================] - ETA: 0s - loss: 6.3876e-05 - accuracy: 1.0000\n",
      "Epoch 42: val_accuracy did not improve from 1.00000\n",
      "\n",
      "Epoch 42: ReduceLROnPlateau reducing learning rate to 1.0000000656873453e-06.\n",
      "202/202 [==============================] - 21s 104ms/step - loss: 6.3876e-05 - accuracy: 1.0000 - val_loss: 4.2991e-05 - val_accuracy: 1.0000 - lr: 1.0000e-05\n",
      "Epoch 43/100\n",
      "202/202 [==============================] - ETA: 0s - loss: 1.8153e-05 - accuracy: 1.0000\n",
      "Epoch 43: val_accuracy did not improve from 1.00000\n",
      "202/202 [==============================] - 21s 105ms/step - loss: 1.8153e-05 - accuracy: 1.0000 - val_loss: 4.0631e-05 - val_accuracy: 1.0000 - lr: 1.0000e-06\n",
      "Epoch 44/100\n",
      "202/202 [==============================] - ETA: 0s - loss: 1.4673e-04 - accuracy: 1.0000\n",
      "Epoch 44: val_accuracy did not improve from 1.00000\n",
      "202/202 [==============================] - 21s 105ms/step - loss: 1.4673e-04 - accuracy: 1.0000 - val_loss: 3.8562e-05 - val_accuracy: 1.0000 - lr: 1.0000e-06\n",
      "Epoch 45/100\n",
      "202/202 [==============================] - ETA: 0s - loss: 3.7434e-05 - accuracy: 1.0000\n",
      "Epoch 45: val_accuracy did not improve from 1.00000\n",
      "202/202 [==============================] - 21s 106ms/step - loss: 3.7434e-05 - accuracy: 1.0000 - val_loss: 3.7392e-05 - val_accuracy: 1.0000 - lr: 1.0000e-06\n",
      "Epoch 46/100\n",
      "202/202 [==============================] - ETA: 0s - loss: 8.4307e-05 - accuracy: 1.0000\n",
      "Epoch 46: val_accuracy did not improve from 1.00000\n",
      "202/202 [==============================] - 21s 105ms/step - loss: 8.4307e-05 - accuracy: 1.0000 - val_loss: 3.7021e-05 - val_accuracy: 1.0000 - lr: 1.0000e-06\n",
      "Epoch 47/100\n",
      "202/202 [==============================] - ETA: 0s - loss: 2.2625e-04 - accuracy: 1.0000\n",
      "Epoch 47: val_accuracy did not improve from 1.00000\n",
      "\n",
      "Epoch 47: ReduceLROnPlateau reducing learning rate to 1.0000001111620805e-07.\n",
      "202/202 [==============================] - 21s 105ms/step - loss: 2.2625e-04 - accuracy: 1.0000 - val_loss: 3.5334e-05 - val_accuracy: 1.0000 - lr: 1.0000e-06\n",
      "Epoch 48/100\n",
      "202/202 [==============================] - ETA: 0s - loss: 1.5217e-04 - accuracy: 1.0000\n",
      "Epoch 48: val_accuracy did not improve from 1.00000\n",
      "202/202 [==============================] - 21s 106ms/step - loss: 1.5217e-04 - accuracy: 1.0000 - val_loss: 3.4883e-05 - val_accuracy: 1.0000 - lr: 1.0000e-07\n",
      "Epoch 49/100\n",
      "202/202 [==============================] - ETA: 0s - loss: 4.6204e-05 - accuracy: 1.0000\n",
      "Epoch 49: val_accuracy did not improve from 1.00000\n",
      "202/202 [==============================] - 21s 106ms/step - loss: 4.6204e-05 - accuracy: 1.0000 - val_loss: 3.3270e-05 - val_accuracy: 1.0000 - lr: 1.0000e-07\n",
      "Epoch 50/100\n",
      "202/202 [==============================] - ETA: 0s - loss: 2.8086e-05 - accuracy: 1.0000\n",
      "Epoch 50: val_accuracy did not improve from 1.00000\n",
      "202/202 [==============================] - 21s 105ms/step - loss: 2.8086e-05 - accuracy: 1.0000 - val_loss: 3.2367e-05 - val_accuracy: 1.0000 - lr: 1.0000e-07\n",
      "Epoch 51/100\n",
      "202/202 [==============================] - ETA: 0s - loss: 4.5117e-05 - accuracy: 1.0000\n",
      "Epoch 51: val_accuracy did not improve from 1.00000\n",
      "202/202 [==============================] - 21s 106ms/step - loss: 4.5117e-05 - accuracy: 1.0000 - val_loss: 3.2535e-05 - val_accuracy: 1.0000 - lr: 1.0000e-07\n",
      "Epoch 52/100\n",
      "202/202 [==============================] - ETA: 0s - loss: 5.8075e-04 - accuracy: 0.9998\n",
      "Epoch 52: val_accuracy did not improve from 1.00000\n",
      "Restoring model weights from the end of the best epoch: 32.\n",
      "\n",
      "Epoch 52: ReduceLROnPlateau reducing learning rate to 1.000000082740371e-08.\n",
      "202/202 [==============================] - 21s 105ms/step - loss: 5.8075e-04 - accuracy: 0.9998 - val_loss: 3.2063e-05 - val_accuracy: 1.0000 - lr: 1.0000e-07\n",
      "Epoch 52: early stopping\n"
     ]
    }
   ],
   "source": [
    "# Define the number of epochs\n",
    "num_epochs = 100\n",
    "\n",
    "# Train the model\n",
    "history_MobileNetV2_model_1 = MobileNetV2_model.fit(train_generator, epochs=num_epochs, validation_data=validation_generator, callbacks=callbacks)"
   ]
  },
  {
   "cell_type": "code",
   "execution_count": 12,
   "metadata": {
    "tags": []
   },
   "outputs": [
    {
     "data": {
      "text/plain": [
       "Text(0.5, 1.0, 'Training and validation accuracy MobileNetV2 Model')"
      ]
     },
     "execution_count": 12,
     "metadata": {},
     "output_type": "execute_result"
    },
    {
     "data": {
      "image/png": "[encoded data removed]",
      "text/plain": [
       "<Figure size 640x480 with 1 Axes>"
      ]
     },
     "metadata": {},
     "output_type": "display_data"
    },
    {
     "data": {
      "image/png": "[encoded data removed]",
      "text/plain": [
       "<Figure size 640x480 with 1 Axes>"
      ]
     },
     "metadata": {},
     "output_type": "display_data"
    }
   ],
   "source": [
    "#-----------------------------------------------------------\n",
    "# Retrieve a list of list results on training and test data\n",
    "# sets for each training epoch\n",
    "#-----------------------------------------------------------\n",
    "acc      = history_MobileNetV2_model_1.history['accuracy' ]\n",
    "val_acc  = history_MobileNetV2_model_1.history['val_accuracy' ]\n",
    "loss     = history_MobileNetV2_model_1.history['loss' ]\n",
    "val_loss = history_MobileNetV2_model_1.history['val_loss' ]\n",
    "\n",
    "epochs   = range(len(acc)) # Get number of epochs\n",
    "\n",
    "#------------------------------------------------\n",
    "# Plot training and validation accuracy per epoch\n",
    "#------------------------------------------------\n",
    "plt.plot  (epochs, acc )\n",
    "plt.plot  (epochs, val_acc )\n",
    "plt.title ('Training and validation accuracy MobileNetV2 Model')\n",
    "plt.legend(['train', 'val'], loc='upper left')\n",
    "plt.figure()\n",
    "\n",
    "#------------------------------------------------\n",
    "# Plot training and validation loss per epoch\n",
    "#------------------------------------------------\n",
    "plt.plot  (epochs, loss)\n",
    "plt.plot  (epochs, val_loss)\n",
    "plt.legend(['train', 'val'], loc='upper left')\n",
    "plt.title ('Training and validation accuracy MobileNetV2 Model')"
   ]
  },
  {
   "attachments": {},
   "cell_type": "markdown",
   "metadata": {},
   "source": [
    "## MobileNetV2 Model 2"
   ]
  },
  {
   "cell_type": "code",
   "execution_count": 13,
   "metadata": {
    "tags": []
   },
   "outputs": [],
   "source": [
    "# Difine the callbacks\n",
    "# Save the best model\n",
    "checkpoint_callback = ModelCheckpoint(filepath=\"BellPaper_MobileNetV2_model2_Based_Non_Augmented\", save_best_only=True, monitor=\"val_accuracy\", mode=\"max\", verbose=1)\n",
    "\n",
    "# Early stopping\n",
    "early_stopping_callback = EarlyStopping(monitor=\"val_accuracy\", mode=\"max\", patience=20, verbose=1, restore_best_weights=True)\n",
    "\n",
    "# Reduce learning rate\n",
    "reduce_lr_callback = ReduceLROnPlateau(monitor=\"val_loss\", factor=0.1, patience=5, verbose=1, mode=\"min\", min_delta=0.0001, cooldown=0, min_lr=0)\n",
    "\n",
    "# Callbacks list\n",
    "callbacks=[checkpoint_callback, early_stopping_callback, reduce_lr_callback]"
   ]
  },
  {
   "cell_type": "code",
   "execution_count": 14,
   "metadata": {
    "tags": []
   },
   "outputs": [
    {
     "name": "stdout",
     "output_type": "stream",
     "text": [
      "Model: \"sequential_1\"\n",
      "_________________________________________________________________\n",
      " Layer (type)                Output Shape              Param #   \n",
      "=================================================================\n",
      " mobilenetv2_1.00_224 (Funct  (None, 7, 7, 1280)       2257984   \n",
      " ional)                                                          \n",
      "                                                                 \n",
      " global_average_pooling2d (G  (None, 1280)             0         \n",
      " lobalAveragePooling2D)                                          \n",
      "                                                                 \n",
      " dropout_1 (Dropout)         (None, 1280)              0         \n",
      "                                                                 \n",
      " dense_2 (Dense)             (None, 256)               327936    \n",
      "                                                                 \n",
      " dense_3 (Dense)             (None, 2)                 514       \n",
      "                                                                 \n",
      "=================================================================\n",
      "Total params: 2,586,434\n",
      "Trainable params: 2,552,322\n",
      "Non-trainable params: 34,112\n",
      "_________________________________________________________________\n"
     ]
    }
   ],
   "source": [
    "# Define Model\n",
    "MobileNetV2_model_2 = tf.keras.models.Sequential([\n",
    "    # MobileNetV2 Layer\n",
    "    MobileNetV2(include_top=False,weights='imagenet',input_shape=(224, 224, 3)),\n",
    "    # Global Average Pooling Layer\n",
    "    tf.keras.layers.GlobalAveragePooling2D(),\n",
    "    # Drop Out Layer\n",
    "    tf.keras.layers.Dropout(0.2),\n",
    "    # 256 neuron hidden layer\n",
    "    tf.keras.layers.Dense(256, activation='relu'),\n",
    "    # Output\n",
    "    tf.keras.layers.Dense(2, activation='softmax') \n",
    "  ])\n",
    "\n",
    "\n",
    "# Compile Model\n",
    "MobileNetV2_model_2.compile(loss='categorical_crossentropy',optimizer=tf.keras.optimizers.Adam(), metrics=['accuracy']) \n",
    "\n",
    "# Model Summary\n",
    "MobileNetV2_model_2.summary()"
   ]
  },
  {
   "cell_type": "code",
   "execution_count": 15,
   "metadata": {
    "tags": []
   },
   "outputs": [
    {
     "name": "stdout",
     "output_type": "stream",
     "text": [
      "Epoch 1/100\n",
      "202/202 [==============================] - ETA: 0s - loss: 0.1465 - accuracy: 0.9526\n",
      "Epoch 1: val_accuracy improved from -inf to 0.69751, saving model to BellPaper_MobileNetV2_model2_Based_Non_Augmented\n"
     ]
    },
    {
     "name": "stderr",
     "output_type": "stream",
     "text": [
      "WARNING:absl:Function `_wrapped_model` contains input name(s) mobilenetv2_1.00_224_input with unsupported characters which will be renamed to mobilenetv2_1_00_224_input in the SavedModel.\n",
      "WARNING:absl:Found untraced functions such as _jit_compiled_convolution_op, _jit_compiled_convolution_op, _jit_compiled_convolution_op, _jit_compiled_convolution_op, _jit_compiled_convolution_op while saving (showing 5 of 52). These functions will not be directly callable after loading.\n"
     ]
    },
    {
     "name": "stdout",
     "output_type": "stream",
     "text": [
      "INFO:tensorflow:Assets written to: BellPaper_MobileNetV2_model2_Based_Non_Augmented\\assets\n"
     ]
    },
    {
     "name": "stderr",
     "output_type": "stream",
     "text": [
      "INFO:tensorflow:Assets written to: BellPaper_MobileNetV2_model2_Based_Non_Augmented\\assets\n"
     ]
    },
    {
     "name": "stdout",
     "output_type": "stream",
     "text": [
      "202/202 [==============================] - 40s 182ms/step - loss: 0.1465 - accuracy: 0.9526 - val_loss: 4.7685 - val_accuracy: 0.6975 - lr: 0.0010\n",
      "Epoch 2/100\n",
      "202/202 [==============================] - ETA: 0s - loss: 0.0511 - accuracy: 0.9787\n",
      "Epoch 2: val_accuracy did not improve from 0.69751\n",
      "202/202 [==============================] - 21s 104ms/step - loss: 0.0511 - accuracy: 0.9787 - val_loss: 6.6309 - val_accuracy: 0.6164 - lr: 0.0010\n",
      "Epoch 3/100\n",
      "202/202 [==============================] - ETA: 0s - loss: 0.0436 - accuracy: 0.9854\n",
      "Epoch 3: val_accuracy did not improve from 0.69751\n",
      "202/202 [==============================] - 21s 104ms/step - loss: 0.0436 - accuracy: 0.9854 - val_loss: 5.5889 - val_accuracy: 0.6715 - lr: 0.0010\n",
      "Epoch 4/100\n",
      "202/202 [==============================] - ETA: 0s - loss: 0.0519 - accuracy: 0.9809\n",
      "Epoch 4: val_accuracy did not improve from 0.69751\n",
      "202/202 [==============================] - 21s 105ms/step - loss: 0.0519 - accuracy: 0.9809 - val_loss: 20.8867 - val_accuracy: 0.5281 - lr: 0.0010\n",
      "Epoch 5/100\n",
      "202/202 [==============================] - ETA: 0s - loss: 0.0405 - accuracy: 0.9846\n",
      "Epoch 5: val_accuracy did not improve from 0.69751\n",
      "202/202 [==============================] - 21s 104ms/step - loss: 0.0405 - accuracy: 0.9846 - val_loss: 6.4558 - val_accuracy: 0.5312 - lr: 0.0010\n",
      "Epoch 6/100\n",
      "202/202 [==============================] - ETA: 0s - loss: 0.0544 - accuracy: 0.9831\n",
      "Epoch 6: val_accuracy did not improve from 0.69751\n",
      "\n",
      "Epoch 6: ReduceLROnPlateau reducing learning rate to 0.00010000000474974513.\n",
      "202/202 [==============================] - 21s 102ms/step - loss: 0.0544 - accuracy: 0.9831 - val_loss: 17.6558 - val_accuracy: 0.5364 - lr: 0.0010\n",
      "Epoch 7/100\n",
      "202/202 [==============================] - ETA: 0s - loss: 0.0165 - accuracy: 0.9943\n",
      "Epoch 7: val_accuracy did not improve from 0.69751\n",
      "202/202 [==============================] - 20s 101ms/step - loss: 0.0165 - accuracy: 0.9943 - val_loss: 13.1912 - val_accuracy: 0.5956 - lr: 1.0000e-04\n",
      "Epoch 8/100\n",
      "202/202 [==============================] - ETA: 0s - loss: 0.0097 - accuracy: 0.9970\n",
      "Epoch 8: val_accuracy did not improve from 0.69751\n",
      "202/202 [==============================] - 21s 105ms/step - loss: 0.0097 - accuracy: 0.9970 - val_loss: 8.1737 - val_accuracy: 0.6944 - lr: 1.0000e-04\n",
      "Epoch 9/100\n",
      "202/202 [==============================] - ETA: 0s - loss: 0.0061 - accuracy: 0.9983\n",
      "Epoch 9: val_accuracy improved from 0.69751 to 0.80665, saving model to BellPaper_MobileNetV2_model2_Based_Non_Augmented\n"
     ]
    },
    {
     "name": "stderr",
     "output_type": "stream",
     "text": [
      "WARNING:absl:Function `_wrapped_model` contains input name(s) mobilenetv2_1.00_224_input with unsupported characters which will be renamed to mobilenetv2_1_00_224_input in the SavedModel.\n",
      "WARNING:absl:Found untraced functions such as _jit_compiled_convolution_op, _jit_compiled_convolution_op, _jit_compiled_convolution_op, _jit_compiled_convolution_op, _jit_compiled_convolution_op while saving (showing 5 of 52). These functions will not be directly callable after loading.\n"
     ]
    },
    {
     "name": "stdout",
     "output_type": "stream",
     "text": [
      "INFO:tensorflow:Assets written to: BellPaper_MobileNetV2_model2_Based_Non_Augmented\\assets\n"
     ]
    },
    {
     "name": "stderr",
     "output_type": "stream",
     "text": [
      "INFO:tensorflow:Assets written to: BellPaper_MobileNetV2_model2_Based_Non_Augmented\\assets\n"
     ]
    },
    {
     "name": "stdout",
     "output_type": "stream",
     "text": [
      "202/202 [==============================] - 36s 180ms/step - loss: 0.0061 - accuracy: 0.9983 - val_loss: 3.7787 - val_accuracy: 0.8067 - lr: 1.0000e-04\n",
      "Epoch 10/100\n",
      "202/202 [==============================] - ETA: 0s - loss: 0.0058 - accuracy: 0.9978\n",
      "Epoch 10: val_accuracy improved from 0.80665 to 0.88981, saving model to BellPaper_MobileNetV2_model2_Based_Non_Augmented\n"
     ]
    },
    {
     "name": "stderr",
     "output_type": "stream",
     "text": [
      "WARNING:absl:Function `_wrapped_model` contains input name(s) mobilenetv2_1.00_224_input with unsupported characters which will be renamed to mobilenetv2_1_00_224_input in the SavedModel.\n",
      "WARNING:absl:Found untraced functions such as _jit_compiled_convolution_op, _jit_compiled_convolution_op, _jit_compiled_convolution_op, _jit_compiled_convolution_op, _jit_compiled_convolution_op while saving (showing 5 of 52). These functions will not be directly callable after loading.\n"
     ]
    },
    {
     "name": "stdout",
     "output_type": "stream",
     "text": [
      "INFO:tensorflow:Assets written to: BellPaper_MobileNetV2_model2_Based_Non_Augmented\\assets\n"
     ]
    },
    {
     "name": "stderr",
     "output_type": "stream",
     "text": [
      "INFO:tensorflow:Assets written to: BellPaper_MobileNetV2_model2_Based_Non_Augmented\\assets\n"
     ]
    },
    {
     "name": "stdout",
     "output_type": "stream",
     "text": [
      "202/202 [==============================] - 36s 177ms/step - loss: 0.0058 - accuracy: 0.9978 - val_loss: 1.7062 - val_accuracy: 0.8898 - lr: 1.0000e-04\n",
      "Epoch 11/100\n",
      "202/202 [==============================] - ETA: 0s - loss: 0.0055 - accuracy: 0.9980\n",
      "Epoch 11: val_accuracy improved from 0.88981 to 0.93451, saving model to BellPaper_MobileNetV2_model2_Based_Non_Augmented\n"
     ]
    },
    {
     "name": "stderr",
     "output_type": "stream",
     "text": [
      "WARNING:absl:Function `_wrapped_model` contains input name(s) mobilenetv2_1.00_224_input with unsupported characters which will be renamed to mobilenetv2_1_00_224_input in the SavedModel.\n",
      "WARNING:absl:Found untraced functions such as _jit_compiled_convolution_op, _jit_compiled_convolution_op, _jit_compiled_convolution_op, _jit_compiled_convolution_op, _jit_compiled_convolution_op while saving (showing 5 of 52). These functions will not be directly callable after loading.\n"
     ]
    },
    {
     "name": "stdout",
     "output_type": "stream",
     "text": [
      "INFO:tensorflow:Assets written to: BellPaper_MobileNetV2_model2_Based_Non_Augmented\\assets\n"
     ]
    },
    {
     "name": "stderr",
     "output_type": "stream",
     "text": [
      "INFO:tensorflow:Assets written to: BellPaper_MobileNetV2_model2_Based_Non_Augmented\\assets\n"
     ]
    },
    {
     "name": "stdout",
     "output_type": "stream",
     "text": [
      "202/202 [==============================] - 35s 174ms/step - loss: 0.0055 - accuracy: 0.9980 - val_loss: 0.6582 - val_accuracy: 0.9345 - lr: 1.0000e-04\n",
      "Epoch 12/100\n",
      "202/202 [==============================] - ETA: 0s - loss: 0.0030 - accuracy: 0.9993\n",
      "Epoch 12: val_accuracy improved from 0.93451 to 0.98233, saving model to BellPaper_MobileNetV2_model2_Based_Non_Augmented\n"
     ]
    },
    {
     "name": "stderr",
     "output_type": "stream",
     "text": [
      "WARNING:absl:Function `_wrapped_model` contains input name(s) mobilenetv2_1.00_224_input with unsupported characters which will be renamed to mobilenetv2_1_00_224_input in the SavedModel.\n",
      "WARNING:absl:Found untraced functions such as _jit_compiled_convolution_op, _jit_compiled_convolution_op, _jit_compiled_convolution_op, _jit_compiled_convolution_op, _jit_compiled_convolution_op while saving (showing 5 of 52). These functions will not be directly callable after loading.\n"
     ]
    },
    {
     "name": "stdout",
     "output_type": "stream",
     "text": [
      "INFO:tensorflow:Assets written to: BellPaper_MobileNetV2_model2_Based_Non_Augmented\\assets\n"
     ]
    },
    {
     "name": "stderr",
     "output_type": "stream",
     "text": [
      "INFO:tensorflow:Assets written to: BellPaper_MobileNetV2_model2_Based_Non_Augmented\\assets\n"
     ]
    },
    {
     "name": "stdout",
     "output_type": "stream",
     "text": [
      "202/202 [==============================] - 36s 179ms/step - loss: 0.0030 - accuracy: 0.9993 - val_loss: 0.1567 - val_accuracy: 0.9823 - lr: 1.0000e-04\n",
      "Epoch 13/100\n",
      "202/202 [==============================] - ETA: 0s - loss: 0.0021 - accuracy: 0.9993\n",
      "Epoch 13: val_accuracy improved from 0.98233 to 0.99272, saving model to BellPaper_MobileNetV2_model2_Based_Non_Augmented\n"
     ]
    },
    {
     "name": "stderr",
     "output_type": "stream",
     "text": [
      "WARNING:absl:Function `_wrapped_model` contains input name(s) mobilenetv2_1.00_224_input with unsupported characters which will be renamed to mobilenetv2_1_00_224_input in the SavedModel.\n",
      "WARNING:absl:Found untraced functions such as _jit_compiled_convolution_op, _jit_compiled_convolution_op, _jit_compiled_convolution_op, _jit_compiled_convolution_op, _jit_compiled_convolution_op while saving (showing 5 of 52). These functions will not be directly callable after loading.\n"
     ]
    },
    {
     "name": "stdout",
     "output_type": "stream",
     "text": [
      "INFO:tensorflow:Assets written to: BellPaper_MobileNetV2_model2_Based_Non_Augmented\\assets\n"
     ]
    },
    {
     "name": "stderr",
     "output_type": "stream",
     "text": [
      "INFO:tensorflow:Assets written to: BellPaper_MobileNetV2_model2_Based_Non_Augmented\\assets\n"
     ]
    },
    {
     "name": "stdout",
     "output_type": "stream",
     "text": [
      "202/202 [==============================] - 36s 177ms/step - loss: 0.0021 - accuracy: 0.9993 - val_loss: 0.0484 - val_accuracy: 0.9927 - lr: 1.0000e-04\n",
      "Epoch 14/100\n",
      "202/202 [==============================] - ETA: 0s - loss: 0.0045 - accuracy: 0.9983\n",
      "Epoch 14: val_accuracy did not improve from 0.99272\n",
      "202/202 [==============================] - 21s 104ms/step - loss: 0.0045 - accuracy: 0.9983 - val_loss: 0.0434 - val_accuracy: 0.9927 - lr: 1.0000e-04\n",
      "Epoch 15/100\n",
      "202/202 [==============================] - ETA: 0s - loss: 0.0014 - accuracy: 0.9995\n",
      "Epoch 15: val_accuracy improved from 0.99272 to 0.99688, saving model to BellPaper_MobileNetV2_model2_Based_Non_Augmented\n"
     ]
    },
    {
     "name": "stderr",
     "output_type": "stream",
     "text": [
      "WARNING:absl:Function `_wrapped_model` contains input name(s) mobilenetv2_1.00_224_input with unsupported characters which will be renamed to mobilenetv2_1_00_224_input in the SavedModel.\n",
      "WARNING:absl:Found untraced functions such as _jit_compiled_convolution_op, _jit_compiled_convolution_op, _jit_compiled_convolution_op, _jit_compiled_convolution_op, _jit_compiled_convolution_op while saving (showing 5 of 52). These functions will not be directly callable after loading.\n"
     ]
    },
    {
     "name": "stdout",
     "output_type": "stream",
     "text": [
      "INFO:tensorflow:Assets written to: BellPaper_MobileNetV2_model2_Based_Non_Augmented\\assets\n"
     ]
    },
    {
     "name": "stderr",
     "output_type": "stream",
     "text": [
      "INFO:tensorflow:Assets written to: BellPaper_MobileNetV2_model2_Based_Non_Augmented\\assets\n"
     ]
    },
    {
     "name": "stdout",
     "output_type": "stream",
     "text": [
      "202/202 [==============================] - 36s 177ms/step - loss: 0.0014 - accuracy: 0.9995 - val_loss: 0.0074 - val_accuracy: 0.9969 - lr: 1.0000e-04\n",
      "Epoch 16/100\n",
      "202/202 [==============================] - ETA: 0s - loss: 4.7723e-04 - accuracy: 1.0000\n",
      "Epoch 16: val_accuracy improved from 0.99688 to 1.00000, saving model to BellPaper_MobileNetV2_model2_Based_Non_Augmented\n"
     ]
    },
    {
     "name": "stderr",
     "output_type": "stream",
     "text": [
      "WARNING:absl:Function `_wrapped_model` contains input name(s) mobilenetv2_1.00_224_input with unsupported characters which will be renamed to mobilenetv2_1_00_224_input in the SavedModel.\n",
      "WARNING:absl:Found untraced functions such as _jit_compiled_convolution_op, _jit_compiled_convolution_op, _jit_compiled_convolution_op, _jit_compiled_convolution_op, _jit_compiled_convolution_op while saving (showing 5 of 52). These functions will not be directly callable after loading.\n"
     ]
    },
    {
     "name": "stdout",
     "output_type": "stream",
     "text": [
      "INFO:tensorflow:Assets written to: BellPaper_MobileNetV2_model2_Based_Non_Augmented\\assets\n"
     ]
    },
    {
     "name": "stderr",
     "output_type": "stream",
     "text": [
      "INFO:tensorflow:Assets written to: BellPaper_MobileNetV2_model2_Based_Non_Augmented\\assets\n"
     ]
    },
    {
     "name": "stdout",
     "output_type": "stream",
     "text": [
      "202/202 [==============================] - 36s 176ms/step - loss: 4.7723e-04 - accuracy: 1.0000 - val_loss: 0.0010 - val_accuracy: 1.0000 - lr: 1.0000e-04\n",
      "Epoch 17/100\n",
      "202/202 [==============================] - ETA: 0s - loss: 2.7729e-04 - accuracy: 1.0000\n",
      "Epoch 17: val_accuracy did not improve from 1.00000\n",
      "202/202 [==============================] - 21s 103ms/step - loss: 2.7729e-04 - accuracy: 1.0000 - val_loss: 2.0564e-04 - val_accuracy: 1.0000 - lr: 1.0000e-04\n",
      "Epoch 18/100\n",
      "202/202 [==============================] - ETA: 0s - loss: 1.9133e-04 - accuracy: 1.0000\n",
      "Epoch 18: val_accuracy did not improve from 1.00000\n",
      "202/202 [==============================] - 21s 106ms/step - loss: 1.9133e-04 - accuracy: 1.0000 - val_loss: 6.3640e-05 - val_accuracy: 1.0000 - lr: 1.0000e-04\n",
      "Epoch 19/100\n",
      "202/202 [==============================] - ETA: 0s - loss: 2.8618e-04 - accuracy: 1.0000\n",
      "Epoch 19: val_accuracy did not improve from 1.00000\n",
      "202/202 [==============================] - 21s 105ms/step - loss: 2.8618e-04 - accuracy: 1.0000 - val_loss: 1.1326e-04 - val_accuracy: 1.0000 - lr: 1.0000e-04\n",
      "Epoch 20/100\n",
      "202/202 [==============================] - ETA: 0s - loss: 3.1878e-04 - accuracy: 1.0000\n",
      "Epoch 20: val_accuracy did not improve from 1.00000\n",
      "202/202 [==============================] - 21s 104ms/step - loss: 3.1878e-04 - accuracy: 1.0000 - val_loss: 0.0024 - val_accuracy: 0.9990 - lr: 1.0000e-04\n",
      "Epoch 21/100\n",
      "202/202 [==============================] - ETA: 0s - loss: 1.7051e-04 - accuracy: 1.0000\n",
      "Epoch 21: val_accuracy did not improve from 1.00000\n",
      "202/202 [==============================] - 22s 107ms/step - loss: 1.7051e-04 - accuracy: 1.0000 - val_loss: 9.9927e-06 - val_accuracy: 1.0000 - lr: 1.0000e-04\n",
      "Epoch 22/100\n",
      "202/202 [==============================] - ETA: 0s - loss: 0.0024 - accuracy: 0.9995\n",
      "Epoch 22: val_accuracy did not improve from 1.00000\n",
      "202/202 [==============================] - 21s 105ms/step - loss: 0.0024 - accuracy: 0.9995 - val_loss: 3.0334e-04 - val_accuracy: 1.0000 - lr: 1.0000e-04\n",
      "Epoch 23/100\n",
      "202/202 [==============================] - ETA: 0s - loss: 0.0067 - accuracy: 0.9988\n",
      "Epoch 23: val_accuracy did not improve from 1.00000\n",
      "\n",
      "Epoch 23: ReduceLROnPlateau reducing learning rate to 1.0000000474974514e-05.\n",
      "202/202 [==============================] - 21s 104ms/step - loss: 0.0067 - accuracy: 0.9988 - val_loss: 0.0128 - val_accuracy: 0.9917 - lr: 1.0000e-04\n",
      "Epoch 24/100\n",
      "202/202 [==============================] - ETA: 0s - loss: 0.0038 - accuracy: 0.9995\n",
      "Epoch 24: val_accuracy did not improve from 1.00000\n",
      "202/202 [==============================] - 21s 105ms/step - loss: 0.0038 - accuracy: 0.9995 - val_loss: 0.0043 - val_accuracy: 0.9990 - lr: 1.0000e-05\n",
      "Epoch 25/100\n",
      "202/202 [==============================] - ETA: 0s - loss: 0.0021 - accuracy: 0.9995\n",
      "Epoch 25: val_accuracy did not improve from 1.00000\n",
      "202/202 [==============================] - 21s 106ms/step - loss: 0.0021 - accuracy: 0.9995 - val_loss: 0.0025 - val_accuracy: 0.9990 - lr: 1.0000e-05\n",
      "Epoch 26/100\n",
      "202/202 [==============================] - ETA: 0s - loss: 0.0016 - accuracy: 0.9998\n",
      "Epoch 26: val_accuracy did not improve from 1.00000\n",
      "202/202 [==============================] - 22s 108ms/step - loss: 0.0016 - accuracy: 0.9998 - val_loss: 0.0019 - val_accuracy: 0.9990 - lr: 1.0000e-05\n",
      "Epoch 27/100\n",
      "202/202 [==============================] - ETA: 0s - loss: 8.3544e-04 - accuracy: 1.0000\n",
      "Epoch 27: val_accuracy did not improve from 1.00000\n",
      "202/202 [==============================] - 21s 106ms/step - loss: 8.3544e-04 - accuracy: 1.0000 - val_loss: 0.0020 - val_accuracy: 0.9990 - lr: 1.0000e-05\n",
      "Epoch 28/100\n",
      "202/202 [==============================] - ETA: 0s - loss: 7.5064e-04 - accuracy: 1.0000\n",
      "Epoch 28: val_accuracy did not improve from 1.00000\n",
      "\n",
      "Epoch 28: ReduceLROnPlateau reducing learning rate to 1.0000000656873453e-06.\n",
      "202/202 [==============================] - 21s 106ms/step - loss: 7.5064e-04 - accuracy: 1.0000 - val_loss: 0.0020 - val_accuracy: 0.9990 - lr: 1.0000e-05\n",
      "Epoch 29/100\n",
      "202/202 [==============================] - ETA: 0s - loss: 5.7044e-04 - accuracy: 1.0000\n",
      "Epoch 29: val_accuracy did not improve from 1.00000\n",
      "202/202 [==============================] - 22s 108ms/step - loss: 5.7044e-04 - accuracy: 1.0000 - val_loss: 0.0024 - val_accuracy: 0.9990 - lr: 1.0000e-06\n",
      "Epoch 30/100\n",
      "202/202 [==============================] - ETA: 0s - loss: 7.9504e-04 - accuracy: 0.9998\n",
      "Epoch 30: val_accuracy did not improve from 1.00000\n",
      "202/202 [==============================] - 22s 107ms/step - loss: 7.9504e-04 - accuracy: 0.9998 - val_loss: 0.0028 - val_accuracy: 0.9990 - lr: 1.0000e-06\n",
      "Epoch 31/100\n",
      "202/202 [==============================] - ETA: 0s - loss: 0.0012 - accuracy: 0.9998\n",
      "Epoch 31: val_accuracy did not improve from 1.00000\n",
      "202/202 [==============================] - 21s 105ms/step - loss: 0.0012 - accuracy: 0.9998 - val_loss: 0.0029 - val_accuracy: 0.9990 - lr: 1.0000e-06\n",
      "Epoch 32/100\n",
      "202/202 [==============================] - ETA: 0s - loss: 7.0391e-04 - accuracy: 0.9998\n",
      "Epoch 32: val_accuracy did not improve from 1.00000\n",
      "202/202 [==============================] - 21s 106ms/step - loss: 7.0391e-04 - accuracy: 0.9998 - val_loss: 0.0031 - val_accuracy: 0.9990 - lr: 1.0000e-06\n",
      "Epoch 33/100\n",
      "202/202 [==============================] - ETA: 0s - loss: 6.4591e-04 - accuracy: 1.0000\n",
      "Epoch 33: val_accuracy did not improve from 1.00000\n",
      "\n",
      "Epoch 33: ReduceLROnPlateau reducing learning rate to 1.0000001111620805e-07.\n",
      "202/202 [==============================] - 22s 107ms/step - loss: 6.4591e-04 - accuracy: 1.0000 - val_loss: 0.0032 - val_accuracy: 0.9990 - lr: 1.0000e-06\n",
      "Epoch 34/100\n",
      "202/202 [==============================] - ETA: 0s - loss: 5.0086e-04 - accuracy: 1.0000\n",
      "Epoch 34: val_accuracy did not improve from 1.00000\n",
      "202/202 [==============================] - 22s 106ms/step - loss: 5.0086e-04 - accuracy: 1.0000 - val_loss: 0.0033 - val_accuracy: 0.9990 - lr: 1.0000e-07\n",
      "Epoch 35/100\n",
      "202/202 [==============================] - ETA: 0s - loss: 4.5360e-04 - accuracy: 1.0000\n",
      "Epoch 35: val_accuracy did not improve from 1.00000\n",
      "202/202 [==============================] - 22s 107ms/step - loss: 4.5360e-04 - accuracy: 1.0000 - val_loss: 0.0034 - val_accuracy: 0.9990 - lr: 1.0000e-07\n",
      "Epoch 36/100\n",
      "202/202 [==============================] - ETA: 0s - loss: 4.6078e-04 - accuracy: 1.0000\n",
      "Epoch 36: val_accuracy did not improve from 1.00000\n",
      "Restoring model weights from the end of the best epoch: 16.\n",
      "202/202 [==============================] - 22s 108ms/step - loss: 4.6078e-04 - accuracy: 1.0000 - val_loss: 0.0035 - val_accuracy: 0.9990 - lr: 1.0000e-07\n",
      "Epoch 36: early stopping\n"
     ]
    }
   ],
   "source": [
    "# Define the number of epochs\n",
    "num_epochs = 100\n",
    "\n",
    "# Train the model\n",
    "history_MobileNetV2_model_2 = MobileNetV2_model_2.fit(train_generator, epochs=num_epochs, validation_data=validation_generator, callbacks=callbacks)"
   ]
  },
  {
   "cell_type": "code",
   "execution_count": 16,
   "metadata": {
    "tags": []
   },
   "outputs": [
    {
     "data": {
      "text/plain": [
       "Text(0.5, 1.0, 'Training and validation loss MobileNetV2 Model')"
      ]
     },
     "execution_count": 16,
     "metadata": {},
     "output_type": "execute_result"
    },
    {
     "data": {
      "image/png": "[encoded data removed]",
      "text/plain": [
       "<Figure size 640x480 with 1 Axes>"
      ]
     },
     "metadata": {},
     "output_type": "display_data"
    },
    {
     "data": {
      "image/png": "[encoded data removed]",
      "text/plain": [
       "<Figure size 640x480 with 1 Axes>"
      ]
     },
     "metadata": {},
     "output_type": "display_data"
    }
   ],
   "source": [
    "#-----------------------------------------------------------\n",
    "# Retrieve a list of list results on training and test data\n",
    "# sets for each training epoch\n",
    "#-----------------------------------------------------------\n",
    "acc      = history_MobileNetV2_model_2.history['accuracy' ]\n",
    "val_acc  = history_MobileNetV2_model_2.history['val_accuracy' ]\n",
    "loss     = history_MobileNetV2_model_2.history['loss' ]\n",
    "val_loss = history_MobileNetV2_model_2.history['val_loss' ]\n",
    "\n",
    "epochs   = range(len(acc)) # Get number of epochs\n",
    "\n",
    "#------------------------------------------------\n",
    "# Plot training and validation accuracy per epoch\n",
    "#------------------------------------------------\n",
    "plt.plot  (epochs, acc )\n",
    "plt.plot  (epochs, val_acc )\n",
    "plt.legend(['train', 'val'], loc='upper left')\n",
    "plt.title ('Training and validation accuracy MobileNetV2 Model')\n",
    "plt.figure()\n",
    "\n",
    "#------------------------------------------------\n",
    "# Plot training and validation loss per epoch\n",
    "#------------------------------------------------\n",
    "plt.plot  (epochs, loss)\n",
    "plt.plot  (epochs, val_loss)\n",
    "plt.legend(['train', 'val'], loc='upper left')\n",
    "plt.title ('Training and validation loss MobileNetV2 Model')"
   ]
  }
 ],
 "metadata": {
  "kernelspec": {
   "display_name": "Python 3 (ipykernel)",
   "language": "python",
   "name": "python3"
  },
  "language_info": {
   "codemirror_mode": {
    "name": "ipython",
    "version": 3
   },
   "file_extension": ".py",
   "mimetype": "text/x-python",
   "name": "python",
   "nbconvert_exporter": "python",
   "pygments_lexer": "ipython3",
   "version": "3.10.0"
  }
 },
 "nbformat": 4,
 "nbformat_minor": 4
}
