{
  "cells": [
    {
      "attachments": {},
      "cell_type": "markdown",
      "metadata": {
        "id": "4EbRrnesERex"
      },
      "source": [
        "# Library"
      ]
    },
    {
      "cell_type": "code",
      "execution_count": 1,
      "metadata": {
        "colab": {
          "base_uri": "https://localhost:8080/"
        },
        "id": "9gDee1IRERe0",
        "outputId": "fb0beaca-191c-467e-d014-c541fb8ae432",
        "tags": []
      },
      "outputs": [
        {
          "name": "stdout",
          "output_type": "stream",
          "text": [
            "Looking in indexes: https://pypi.org/simple, https://us-python.pkg.dev/colab-wheels/public/simple/\n",
            "Requirement already satisfied: matplotlib in /usr/local/lib/python3.10/dist-packages (3.7.1)\n",
            "Requirement already satisfied: contourpy>=1.0.1 in /usr/local/lib/python3.10/dist-packages (from matplotlib) (1.0.7)\n",
            "Requirement already satisfied: cycler>=0.10 in /usr/local/lib/python3.10/dist-packages (from matplotlib) (0.11.0)\n",
            "Requirement already satisfied: fonttools>=4.22.0 in /usr/local/lib/python3.10/dist-packages (from matplotlib) (4.39.3)\n",
            "Requirement already satisfied: kiwisolver>=1.0.1 in /usr/local/lib/python3.10/dist-packages (from matplotlib) (1.4.4)\n",
            "Requirement already satisfied: numpy>=1.20 in /usr/local/lib/python3.10/dist-packages (from matplotlib) (1.22.4)\n",
            "Requirement already satisfied: packaging>=20.0 in /usr/local/lib/python3.10/dist-packages (from matplotlib) (23.1)\n",
            "Requirement already satisfied: pillow>=6.2.0 in /usr/local/lib/python3.10/dist-packages (from matplotlib) (8.4.0)\n",
            "Requirement already satisfied: pyparsing>=2.3.1 in /usr/local/lib/python3.10/dist-packages (from matplotlib) (3.0.9)\n",
            "Requirement already satisfied: python-dateutil>=2.7 in /usr/local/lib/python3.10/dist-packages (from matplotlib) (2.8.2)\n",
            "Requirement already satisfied: six>=1.5 in /usr/local/lib/python3.10/dist-packages (from python-dateutil>=2.7->matplotlib) (1.16.0)\n"
          ]
        }
      ],
      "source": [
        "pip install matplotlib"
      ]
    },
    {
      "cell_type": "code",
      "execution_count": 2,
      "metadata": {
        "colab": {
          "base_uri": "https://localhost:8080/"
        },
        "id": "abbgY7BNERe1",
        "outputId": "d02b288d-57fe-4a41-947e-0001c42cb772",
        "tags": []
      },
      "outputs": [
        {
          "name": "stdout",
          "output_type": "stream",
          "text": [
            "Looking in indexes: https://pypi.org/simple, https://us-python.pkg.dev/colab-wheels/public/simple/\n",
            "Collecting opendatasets\n",
            "  Downloading opendatasets-0.1.22-py3-none-any.whl (15 kB)\n",
            "Requirement already satisfied: tqdm in /usr/local/lib/python3.10/dist-packages (from opendatasets) (4.65.0)\n",
            "Requirement already satisfied: kaggle in /usr/local/lib/python3.10/dist-packages (from opendatasets) (1.5.13)\n",
            "Requirement already satisfied: click in /usr/local/lib/python3.10/dist-packages (from opendatasets) (8.1.3)\n",
            "Requirement already satisfied: six>=1.10 in /usr/local/lib/python3.10/dist-packages (from kaggle->opendatasets) (1.16.0)\n",
            "Requirement already satisfied: certifi in /usr/local/lib/python3.10/dist-packages (from kaggle->opendatasets) (2022.12.7)\n",
            "Requirement already satisfied: python-dateutil in /usr/local/lib/python3.10/dist-packages (from kaggle->opendatasets) (2.8.2)\n",
            "Requirement already satisfied: requests in /usr/local/lib/python3.10/dist-packages (from kaggle->opendatasets) (2.27.1)\n",
            "Requirement already satisfied: python-slugify in /usr/local/lib/python3.10/dist-packages (from kaggle->opendatasets) (8.0.1)\n",
            "Requirement already satisfied: urllib3 in /usr/local/lib/python3.10/dist-packages (from kaggle->opendatasets) (1.26.15)\n",
            "Requirement already satisfied: text-unidecode>=1.3 in /usr/local/lib/python3.10/dist-packages (from python-slugify->kaggle->opendatasets) (1.3)\n",
            "Requirement already satisfied: charset-normalizer~=2.0.0 in /usr/local/lib/python3.10/dist-packages (from requests->kaggle->opendatasets) (2.0.12)\n",
            "Requirement already satisfied: idna<4,>=2.5 in /usr/local/lib/python3.10/dist-packages (from requests->kaggle->opendatasets) (3.4)\n",
            "Installing collected packages: opendatasets\n",
            "Successfully installed opendatasets-0.1.22\n"
          ]
        }
      ],
      "source": [
        "pip install opendatasets"
      ]
    },
    {
      "cell_type": "code",
      "execution_count": 3,
      "metadata": {
        "id": "LuGvG3BjERe1",
        "tags": []
      },
      "outputs": [],
      "source": [
        "# Library to dataset\n",
        "import opendatasets as od\n",
        "import os\n",
        "import zipfile\n",
        "import numpy as np\n",
        "\n",
        "# Surpress Warnings\n",
        "import warnings\n",
        "warnings.filterwarnings('ignore')\n",
        "os.environ['TF_CPP_MIN_LOG_LEVEL'] = '3' \n",
        "# library visualization\n",
        "import matplotlib.pyplot as plt\n",
        "\n",
        "# Library Tensorflow\n",
        "import tensorflow as tf\n",
        "from tensorflow import keras\n",
        "from tensorflow.keras.preprocessing.image import ImageDataGenerator\n",
        "from tensorflow.keras.callbacks import ModelCheckpoint, EarlyStopping, ReduceLROnPlateau\n",
        "from tensorflow.keras.applications.densenet import DenseNet121\n",
        "from tensorflow.keras.applications.xception import Xception\n",
        "\n",
        "# Others\n",
        "import shutil\n",
        "import random"
      ]
    },
    {
      "attachments": {},
      "cell_type": "markdown",
      "metadata": {
        "id": "GViA7Z80ERe1"
      },
      "source": [
        "# Load dataset"
      ]
    },
    {
      "cell_type": "code",
      "execution_count": 4,
      "metadata": {
        "colab": {
          "base_uri": "https://localhost:8080/"
        },
        "id": "GWkW6HucERe2",
        "outputId": "6f302d37-379b-4793-eb10-479f2802fdc6"
      },
      "outputs": [
        {
          "name": "stdout",
          "output_type": "stream",
          "text": [
            "Please provide your Kaggle credentials to download this dataset. Learn more: http://bit.ly/kaggle-creds\n",
            "Your Kaggle username: ahmadhabibhasanzein\n",
            "Your Kaggle Key: ··········\n",
            "Downloading bellpaper.zip to ./bellpaper\n"
          ]
        },
        {
          "name": "stderr",
          "output_type": "stream",
          "text": [
            "100%|██████████| 118M/118M [00:00<00:00, 200MB/s]\n"
          ]
        },
        {
          "name": "stdout",
          "output_type": "stream",
          "text": [
            "\n"
          ]
        }
      ],
      "source": [
        "od.download(\"https://www.kaggle.com/datasets/ahmadhabibhasanzein/bellpaper\")"
      ]
    },
    {
      "cell_type": "code",
      "execution_count": 5,
      "metadata": {
        "colab": {
          "base_uri": "https://localhost:8080/"
        },
        "id": "tv_nPHvxERe2",
        "outputId": "669734ac-19a0-4213-e797-2c52aabbe8a5",
        "tags": []
      },
      "outputs": [
        {
          "name": "stdout",
          "output_type": "stream",
          "text": [
            "==========================Training Data====================\n",
            "Found 4033 files belonging to 2 classes.\n",
            "==========================Validation Data====================\n",
            "Found 962 files belonging to 2 classes.\n"
          ]
        }
      ],
      "source": [
        "# Load dataset\n",
        "print(\"==========================Training Data====================\")\n",
        "train_data = tf.keras.preprocessing.image_dataset_from_directory(\n",
        "    \"/content/bellpaper/Bell_pepper/train\",\n",
        "    label_mode=\"categorical\",\n",
        "    class_names= ['Pepper bell Bacterial spot', 'Pepper bell healthy'],\n",
        "    color_mode=\"rgb\",\n",
        "    batch_size=1,\n",
        "    image_size=(256, 256),\n",
        "    shuffle=True,\n",
        "    seed=123\n",
        ")\n",
        "print(\"==========================Validation Data====================\")\n",
        "val_data = tf.keras.preprocessing.image_dataset_from_directory(\n",
        "    \"/content/bellpaper/Bell_pepper/test\",\n",
        "    label_mode=\"categorical\",\n",
        "    class_names= ['Pepper bell Bacterial spot', 'Pepper bell healthy'],\n",
        "    color_mode=\"rgb\",\n",
        "    batch_size=1,\n",
        "    image_size=(256, 256),\n",
        "    shuffle=True,\n",
        "    seed=123\n",
        ")"
      ]
    },
    {
      "cell_type": "code",
      "execution_count": 6,
      "metadata": {
        "colab": {
          "base_uri": "https://localhost:8080/"
        },
        "id": "yy2Y8X_cERe2",
        "outputId": "b321be49-5d11-49d3-89e1-c7a575da9318",
        "tags": []
      },
      "outputs": [
        {
          "name": "stdout",
          "output_type": "stream",
          "text": [
            "Found 4033 images belonging to 2 classes.\n",
            "Found 962 images belonging to 2 classes.\n"
          ]
        }
      ],
      "source": [
        "# All images will be rescaled by 1./255.\n",
        "train_datagen = ImageDataGenerator(rescale = 1.0/256.)\n",
        "test_datagen  = ImageDataGenerator(rescale = 1.0/256.)\n",
        "\n",
        "# --------------------\n",
        "# Flow training images in batches of 20 using train_datagen generator\n",
        "# --------------------\n",
        "train_generator = train_datagen.flow_from_directory(\"/content/bellpaper/Bell_pepper/train\",\n",
        "                                                    batch_size=20,\n",
        "                                                    class_mode='categorical',\n",
        "                                                    target_size=(224, 224))     \n",
        "# --------------------\n",
        "# Flow validation images in batches of 20 using test_datagen generator\n",
        "# --------------------\n",
        "validation_generator =  test_datagen.flow_from_directory(\"/content/bellpaper/Bell_pepper/test\",\n",
        "                                                         batch_size=20,\n",
        "                                                         class_mode  = 'categorical',\n",
        "                                                         target_size = (224, 224))"
      ]
    },
    {
      "attachments": {},
      "cell_type": "markdown",
      "metadata": {
        "id": "NYQSJLZcERe3"
      },
      "source": [
        "# List Resource"
      ]
    },
    {
      "cell_type": "code",
      "execution_count": 7,
      "metadata": {
        "colab": {
          "base_uri": "https://localhost:8080/"
        },
        "id": "WMggm6j1ERe3",
        "outputId": "19965fe3-d1d8-4010-a8f1-262ba01a9c3e",
        "tags": []
      },
      "outputs": [
        {
          "name": "stdout",
          "output_type": "stream",
          "text": [
            "Wed May 24 09:42:22 2023       \n",
            "+-----------------------------------------------------------------------------+\n",
            "| NVIDIA-SMI 525.85.12    Driver Version: 525.85.12    CUDA Version: 12.0     |\n",
            "|-------------------------------+----------------------+----------------------+\n",
            "| GPU  Name        Persistence-M| Bus-Id        Disp.A | Volatile Uncorr. ECC |\n",
            "| Fan  Temp  Perf  Pwr:Usage/Cap|         Memory-Usage | GPU-Util  Compute M. |\n",
            "|                               |                      |               MIG M. |\n",
            "|===============================+======================+======================|\n",
            "|   0  Tesla T4            Off  | 00000000:00:04.0 Off |                    0 |\n",
            "| N/A   50C    P0    28W /  70W |    375MiB / 15360MiB |      0%      Default |\n",
            "|                               |                      |                  N/A |\n",
            "+-------------------------------+----------------------+----------------------+\n",
            "                                                                               \n",
            "+-----------------------------------------------------------------------------+\n",
            "| Processes:                                                                  |\n",
            "|  GPU   GI   CI        PID   Type   Process name                  GPU Memory |\n",
            "|        ID   ID                                                   Usage      |\n",
            "|=============================================================================|\n",
            "+-----------------------------------------------------------------------------+\n"
          ]
        }
      ],
      "source": [
        "# Check GPU\n",
        "!nvidia-smi"
      ]
    },
    {
      "cell_type": "code",
      "execution_count": 8,
      "metadata": {
        "colab": {
          "base_uri": "https://localhost:8080/"
        },
        "id": "vbgWJ0NDERe3",
        "outputId": "d9ed8c57-371c-4018-b95b-282edf3777ea",
        "tags": []
      },
      "outputs": [
        {
          "data": {
            "text/plain": [
              "[PhysicalDevice(name='/physical_device:GPU:0', device_type='GPU')]"
            ]
          },
          "execution_count": 8,
          "metadata": {},
          "output_type": "execute_result"
        }
      ],
      "source": [
        "# Lis physical devices\n",
        "devices = tf.config.experimental.list_physical_devices(\"GPU\")\n",
        "devices"
      ]
    },
    {
      "cell_type": "code",
      "execution_count": 9,
      "metadata": {
        "id": "cs9WQOxWERe3",
        "tags": []
      },
      "outputs": [],
      "source": [
        "# Define the GPU strategy\n",
        "mirrored_strategy = tf.distribute.MirroredStrategy(devices=[\"/gpu:0\"])"
      ]
    },
    {
      "attachments": {},
      "cell_type": "markdown",
      "metadata": {
        "id": "9MN_8F4wERe4"
      },
      "source": [
        "# Modelling Without Augmentation"
      ]
    },
    {
      "attachments": {},
      "cell_type": "markdown",
      "metadata": {
        "id": "j-3UPwWdERe4"
      },
      "source": [
        "## Xception Model 1"
      ]
    },
    {
      "cell_type": "code",
      "execution_count": 10,
      "metadata": {
        "id": "3jE3e0W4ERe4",
        "tags": []
      },
      "outputs": [],
      "source": [
        "# Difine the callbacks\n",
        "# Save the best model\n",
        "checkpoint_callback = ModelCheckpoint(filepath=\"BellPaper_Xception_model1_Based_Non_Augmented\", save_best_only=True, monitor=\"val_accuracy\", mode=\"max\", verbose=1)\n",
        "\n",
        "# Early stopping\n",
        "early_stopping_callback = EarlyStopping(monitor=\"val_accuracy\", mode=\"max\", patience=20, verbose=1, restore_best_weights=True)\n",
        "\n",
        "# Reduce learning rate\n",
        "reduce_lr_callback = ReduceLROnPlateau(monitor=\"val_loss\", factor=0.1, patience=5, verbose=1, mode=\"min\", min_delta=0.0001, cooldown=0, min_lr=0)\n",
        "\n",
        "# Callbacks list\n",
        "callbacks=[checkpoint_callback, early_stopping_callback, reduce_lr_callback]"
      ]
    },
    {
      "cell_type": "code",
      "execution_count": 11,
      "metadata": {
        "colab": {
          "base_uri": "https://localhost:8080/"
        },
        "id": "Mv1lRQPTERe4",
        "outputId": "6dd8a575-ab95-4142-9c2a-6e976d9efa87",
        "tags": []
      },
      "outputs": [
        {
          "name": "stdout",
          "output_type": "stream",
          "text": [
            "Downloading data from https://storage.googleapis.com/tensorflow/keras-applications/xception/xception_weights_tf_dim_ordering_tf_kernels_notop.h5\n",
            "83683744/83683744 [==============================] - 0s 0us/step\n",
            "Model: \"sequential\"\n",
            "_________________________________________________________________\n",
            " Layer (type)                Output Shape              Param #   \n",
            "=================================================================\n",
            " xception (Functional)       (None, 7, 7, 2048)        20861480  \n",
            "                                                                 \n",
            " global_max_pooling2d (Globa  (None, 2048)             0         \n",
            " lMaxPooling2D)                                                  \n",
            "                                                                 \n",
            " dropout (Dropout)           (None, 2048)              0         \n",
            "                                                                 \n",
            " dense (Dense)               (None, 256)               524544    \n",
            "                                                                 \n",
            " dense_1 (Dense)             (None, 2)                 514       \n",
            "                                                                 \n",
            "=================================================================\n",
            "Total params: 21,386,538\n",
            "Trainable params: 21,332,010\n",
            "Non-trainable params: 54,528\n",
            "_________________________________________________________________\n"
          ]
        }
      ],
      "source": [
        "# Define DIY Model\n",
        "Xception_model = tf.keras.models.Sequential([\n",
        "    # Xception Layer\n",
        "    Xception(include_top=False,weights='imagenet',input_shape=(224, 224, 3)),\n",
        "    # Global Max Pooling Layer\n",
        "    tf.keras.layers.GlobalMaxPooling2D(),\n",
        "    # Drop Out Layer\n",
        "    tf.keras.layers.Dropout(0.2),\n",
        "    # 256 neuron hidden layer\n",
        "    tf.keras.layers.Dense(256, activation='relu'),\n",
        "    # Output\n",
        "    tf.keras.layers.Dense(2, activation='softmax') \n",
        "  ])\n",
        "\n",
        "\n",
        "# Compile Model\n",
        "Xception_model.compile(loss='categorical_crossentropy',optimizer=tf.keras.optimizers.Adam(), metrics=['accuracy']) \n",
        "\n",
        "# Model Summary\n",
        "Xception_model.summary()"
      ]
    },
    {
      "cell_type": "code",
      "execution_count": 12,
      "metadata": {
        "colab": {
          "base_uri": "https://localhost:8080/"
        },
        "id": "qsmEvbxZERe5",
        "outputId": "3d2cc7f6-9b3f-49fe-d354-29347cee3888",
        "tags": []
      },
      "outputs": [
        {
          "name": "stdout",
          "output_type": "stream",
          "text": [
            "Epoch 1/100\n",
            "202/202 [==============================] - ETA: 0s - loss: 0.1184 - accuracy: 0.9665\n",
            "Epoch 1: val_accuracy improved from -inf to 0.98337, saving model to BellPaper_Xception_model1_Based_Non_Augmented\n"
          ]
        },
        {
          "name": "stderr",
          "output_type": "stream",
          "text": [
            "WARNING:absl:Found untraced functions such as _jit_compiled_convolution_op, _jit_compiled_convolution_op, _jit_compiled_convolution_op, _jit_compiled_convolution_op, _jit_compiled_convolution_op while saving (showing 5 of 40). These functions will not be directly callable after loading.\n"
          ]
        },
        {
          "name": "stdout",
          "output_type": "stream",
          "text": [
            "\b\b\b\b\b\b\b\b\b\b\b\b\b\b\b\b\b\b\b\b\b\b\b\b\b\b\b\b\b\b\b\b\b\b\b\b\b\b\b\b\b\b\b\b\b\b\b\b\b\b\b\b\b\b\b\b\b\b\b\b\b\b\b\b\b\b\b\b\b\b\b\b\b\b\b\b\b\b\b\b\b\b\b\b\r202/202 [==============================] - 136s 462ms/step - loss: 0.1184 - accuracy: 0.9665 - val_loss: 0.0606 - val_accuracy: 0.9834 - lr: 0.0010\n",
            "Epoch 2/100\n",
            "202/202 [==============================] - ETA: 0s - loss: 0.0597 - accuracy: 0.9779\n",
            "Epoch 2: val_accuracy did not improve from 0.98337\n",
            "202/202 [==============================] - 69s 341ms/step - loss: 0.0597 - accuracy: 0.9779 - val_loss: 1.6924 - val_accuracy: 0.8659 - lr: 0.0010\n",
            "Epoch 3/100\n",
            "202/202 [==============================] - ETA: 0s - loss: 0.0401 - accuracy: 0.9844\n",
            "Epoch 3: val_accuracy improved from 0.98337 to 1.00000, saving model to BellPaper_Xception_model1_Based_Non_Augmented\n"
          ]
        },
        {
          "name": "stderr",
          "output_type": "stream",
          "text": [
            "WARNING:absl:Found untraced functions such as _jit_compiled_convolution_op, _jit_compiled_convolution_op, _jit_compiled_convolution_op, _jit_compiled_convolution_op, _jit_compiled_convolution_op while saving (showing 5 of 40). These functions will not be directly callable after loading.\n"
          ]
        },
        {
          "name": "stdout",
          "output_type": "stream",
          "text": [
            "\b\b\b\b\b\b\b\b\b\b\b\b\b\b\b\b\b\b\b\b\b\b\b\b\b\b\b\b\b\b\b\b\b\b\b\b\b\b\b\b\b\b\b\b\b\b\b\b\b\b\b\b\b\b\b\b\b\b\b\b\b\b\b\b\b\b\b\b\b\b\b\b\b\b\b\b\b\b\b\b\b\b\b\b\r202/202 [==============================] - 95s 470ms/step - loss: 0.0401 - accuracy: 0.9844 - val_loss: 0.0024 - val_accuracy: 1.0000 - lr: 0.0010\n",
            "Epoch 4/100\n",
            "202/202 [==============================] - ETA: 0s - loss: 0.0304 - accuracy: 0.9906\n",
            "Epoch 4: val_accuracy did not improve from 1.00000\n",
            "202/202 [==============================] - 69s 340ms/step - loss: 0.0304 - accuracy: 0.9906 - val_loss: 0.0232 - val_accuracy: 0.9938 - lr: 0.0010\n",
            "Epoch 5/100\n",
            "202/202 [==============================] - ETA: 0s - loss: 0.0302 - accuracy: 0.9916\n",
            "Epoch 5: val_accuracy did not improve from 1.00000\n",
            "202/202 [==============================] - 68s 336ms/step - loss: 0.0302 - accuracy: 0.9916 - val_loss: 0.0520 - val_accuracy: 0.9854 - lr: 0.0010\n",
            "Epoch 6/100\n",
            "202/202 [==============================] - ETA: 0s - loss: 0.0373 - accuracy: 0.9861\n",
            "Epoch 6: val_accuracy did not improve from 1.00000\n",
            "202/202 [==============================] - 68s 334ms/step - loss: 0.0373 - accuracy: 0.9861 - val_loss: 0.0071 - val_accuracy: 0.9979 - lr: 0.0010\n",
            "Epoch 7/100\n",
            "202/202 [==============================] - ETA: 0s - loss: 0.0395 - accuracy: 0.9874\n",
            "Epoch 7: val_accuracy did not improve from 1.00000\n",
            "202/202 [==============================] - 68s 336ms/step - loss: 0.0395 - accuracy: 0.9874 - val_loss: 0.5553 - val_accuracy: 0.9657 - lr: 0.0010\n",
            "Epoch 8/100\n",
            "202/202 [==============================] - ETA: 0s - loss: 0.0181 - accuracy: 0.9936\n",
            "Epoch 8: val_accuracy did not improve from 1.00000\n",
            "\n",
            "Epoch 8: ReduceLROnPlateau reducing learning rate to 0.00010000000474974513.\n",
            "202/202 [==============================] - 69s 340ms/step - loss: 0.0181 - accuracy: 0.9936 - val_loss: 0.0091 - val_accuracy: 0.9969 - lr: 0.0010\n",
            "Epoch 9/100\n",
            "202/202 [==============================] - ETA: 0s - loss: 0.0061 - accuracy: 0.9990\n",
            "Epoch 9: val_accuracy did not improve from 1.00000\n",
            "202/202 [==============================] - 68s 335ms/step - loss: 0.0061 - accuracy: 0.9990 - val_loss: 0.0032 - val_accuracy: 0.9990 - lr: 1.0000e-04\n",
            "Epoch 10/100\n",
            "202/202 [==============================] - ETA: 0s - loss: 0.0033 - accuracy: 0.9993\n",
            "Epoch 10: val_accuracy did not improve from 1.00000\n",
            "202/202 [==============================] - 69s 342ms/step - loss: 0.0033 - accuracy: 0.9993 - val_loss: 0.0034 - val_accuracy: 0.9990 - lr: 1.0000e-04\n",
            "Epoch 11/100\n",
            "202/202 [==============================] - ETA: 0s - loss: 0.0044 - accuracy: 0.9990\n",
            "Epoch 11: val_accuracy did not improve from 1.00000\n",
            "202/202 [==============================] - 69s 340ms/step - loss: 0.0044 - accuracy: 0.9990 - val_loss: 0.0046 - val_accuracy: 0.9990 - lr: 1.0000e-04\n",
            "Epoch 12/100\n",
            "202/202 [==============================] - ETA: 0s - loss: 0.0022 - accuracy: 0.9993\n",
            "Epoch 12: val_accuracy did not improve from 1.00000\n",
            "202/202 [==============================] - 68s 337ms/step - loss: 0.0022 - accuracy: 0.9993 - val_loss: 0.0038 - val_accuracy: 0.9990 - lr: 1.0000e-04\n",
            "Epoch 13/100\n",
            "202/202 [==============================] - ETA: 0s - loss: 0.0044 - accuracy: 0.9988\n",
            "Epoch 13: val_accuracy did not improve from 1.00000\n",
            "\n",
            "Epoch 13: ReduceLROnPlateau reducing learning rate to 1.0000000474974514e-05.\n",
            "202/202 [==============================] - 68s 335ms/step - loss: 0.0044 - accuracy: 0.9988 - val_loss: 0.0061 - val_accuracy: 0.9979 - lr: 1.0000e-04\n",
            "Epoch 14/100\n",
            "202/202 [==============================] - ETA: 0s - loss: 0.0016 - accuracy: 0.9998\n",
            "Epoch 14: val_accuracy did not improve from 1.00000\n",
            "202/202 [==============================] - 68s 337ms/step - loss: 0.0016 - accuracy: 0.9998 - val_loss: 0.0078 - val_accuracy: 0.9979 - lr: 1.0000e-05\n",
            "Epoch 15/100\n",
            "202/202 [==============================] - ETA: 0s - loss: 0.0018 - accuracy: 0.9995\n",
            "Epoch 15: val_accuracy did not improve from 1.00000\n",
            "202/202 [==============================] - 69s 340ms/step - loss: 0.0018 - accuracy: 0.9995 - val_loss: 0.0070 - val_accuracy: 0.9979 - lr: 1.0000e-05\n",
            "Epoch 16/100\n",
            "202/202 [==============================] - ETA: 0s - loss: 0.0010 - accuracy: 1.0000\n",
            "Epoch 16: val_accuracy did not improve from 1.00000\n",
            "202/202 [==============================] - 68s 336ms/step - loss: 0.0010 - accuracy: 1.0000 - val_loss: 0.0068 - val_accuracy: 0.9979 - lr: 1.0000e-05\n",
            "Epoch 17/100\n",
            "202/202 [==============================] - ETA: 0s - loss: 8.8053e-04 - accuracy: 0.9998\n",
            "Epoch 17: val_accuracy did not improve from 1.00000\n",
            "202/202 [==============================] - 68s 335ms/step - loss: 8.8053e-04 - accuracy: 0.9998 - val_loss: 0.0064 - val_accuracy: 0.9979 - lr: 1.0000e-05\n",
            "Epoch 18/100\n",
            "202/202 [==============================] - ETA: 0s - loss: 7.3401e-04 - accuracy: 1.0000\n",
            "Epoch 18: val_accuracy did not improve from 1.00000\n",
            "\n",
            "Epoch 18: ReduceLROnPlateau reducing learning rate to 1.0000000656873453e-06.\n",
            "202/202 [==============================] - 68s 336ms/step - loss: 7.3401e-04 - accuracy: 1.0000 - val_loss: 0.0058 - val_accuracy: 0.9979 - lr: 1.0000e-05\n",
            "Epoch 19/100\n",
            "202/202 [==============================] - ETA: 0s - loss: 5.5226e-04 - accuracy: 1.0000\n",
            "Epoch 19: val_accuracy did not improve from 1.00000\n",
            "202/202 [==============================] - 68s 336ms/step - loss: 5.5226e-04 - accuracy: 1.0000 - val_loss: 0.0060 - val_accuracy: 0.9979 - lr: 1.0000e-06\n",
            "Epoch 20/100\n",
            "202/202 [==============================] - ETA: 0s - loss: 7.9874e-04 - accuracy: 1.0000\n",
            "Epoch 20: val_accuracy did not improve from 1.00000\n",
            "202/202 [==============================] - 68s 336ms/step - loss: 7.9874e-04 - accuracy: 1.0000 - val_loss: 0.0059 - val_accuracy: 0.9979 - lr: 1.0000e-06\n",
            "Epoch 21/100\n",
            "202/202 [==============================] - ETA: 0s - loss: 7.7549e-04 - accuracy: 1.0000\n",
            "Epoch 21: val_accuracy did not improve from 1.00000\n",
            "202/202 [==============================] - 68s 337ms/step - loss: 7.7549e-04 - accuracy: 1.0000 - val_loss: 0.0058 - val_accuracy: 0.9990 - lr: 1.0000e-06\n",
            "Epoch 22/100\n",
            "202/202 [==============================] - ETA: 0s - loss: 8.4867e-04 - accuracy: 0.9998\n",
            "Epoch 22: val_accuracy did not improve from 1.00000\n",
            "202/202 [==============================] - 68s 336ms/step - loss: 8.4867e-04 - accuracy: 0.9998 - val_loss: 0.0057 - val_accuracy: 0.9990 - lr: 1.0000e-06\n",
            "Epoch 23/100\n",
            "202/202 [==============================] - ETA: 0s - loss: 0.0011 - accuracy: 0.9998\n",
            "Epoch 23: val_accuracy did not improve from 1.00000\n",
            "Restoring model weights from the end of the best epoch: 3.\n",
            "\n",
            "Epoch 23: ReduceLROnPlateau reducing learning rate to 1.0000001111620805e-07.\n",
            "202/202 [==============================] - 68s 338ms/step - loss: 0.0011 - accuracy: 0.9998 - val_loss: 0.0057 - val_accuracy: 0.9990 - lr: 1.0000e-06\n",
            "Epoch 23: early stopping\n"
          ]
        }
      ],
      "source": [
        "# Define the number of epochs\n",
        "num_epochs = 100\n",
        "\n",
        "# Train the model\n",
        "history_Xception_model_1 = Xception_model.fit(train_generator, epochs=num_epochs, validation_data=validation_generator, callbacks=callbacks)"
      ]
    },
    {
      "cell_type": "code",
      "execution_count": 13,
      "metadata": {
        "colab": {
          "base_uri": "https://localhost:8080/",
          "height": 904
        },
        "id": "gGVvvKIRERe5",
        "outputId": "2e42c5d4-251c-4822-e4dd-24b5c0f2e449",
        "tags": []
      },
      "outputs": [
        {
          "data": {
            "text/plain": [
              "Text(0.5, 1.0, 'Training and validation loss DIY Model')"
            ]
          },
          "execution_count": 13,
          "metadata": {},
          "output_type": "execute_result"
        },
        {
          "data": {
            "image/png": "[encoded data removed]",
            "text/plain": [
              "<Figure size 640x480 with 1 Axes>"
            ]
          },
          "metadata": {},
          "output_type": "display_data"
        },
        {
          "data": {
            "image/png": "[encoded data removed]",
            "text/plain": [
              "<Figure size 640x480 with 1 Axes>"
            ]
          },
          "metadata": {},
          "output_type": "display_data"
        }
      ],
      "source": [
        "#-----------------------------------------------------------\n",
        "# Retrieve a list of list results on training and test data\n",
        "# sets for each training epoch\n",
        "#-----------------------------------------------------------\n",
        "acc      = history_Xception_model_1.history['accuracy' ]\n",
        "val_acc  = history_Xception_model_1.history['val_accuracy' ]\n",
        "loss     = history_Xception_model_1.history['loss' ]\n",
        "val_loss = history_Xception_model_1.history['val_loss' ]\n",
        "\n",
        "epochs   = range(len(acc)) # Get number of epochs\n",
        "\n",
        "#------------------------------------------------\n",
        "# Plot training and validation accuracy per epoch\n",
        "#------------------------------------------------\n",
        "plt.plot  (epochs, acc )\n",
        "plt.plot  (epochs, val_acc )\n",
        "plt.title ('Training and validation accuracy DIY Model')\n",
        "plt.figure()\n",
        "\n",
        "#------------------------------------------------\n",
        "# Plot training and validation loss per epoch\n",
        "#------------------------------------------------\n",
        "plt.plot  (epochs, loss)\n",
        "plt.plot  (epochs, val_loss)\n",
        "plt.title ('Training and validation loss DIY Model')"
      ]
    },
    {
      "attachments": {},
      "cell_type": "markdown",
      "metadata": {
        "id": "dw4z5mw2ERe5"
      },
      "source": [
        "## DenseNet Model 2"
      ]
    },
    {
      "cell_type": "code",
      "execution_count": 14,
      "metadata": {
        "id": "OCeCI2oUERe5",
        "tags": []
      },
      "outputs": [],
      "source": [
        "# Difine the callbacks\n",
        "# Save the best model\n",
        "checkpoint_callback = ModelCheckpoint(filepath=\"BellPaper_Xception_model2_Based_Non_Augmented\", save_best_only=True, monitor=\"val_accuracy\", mode=\"max\", verbose=1)\n",
        "\n",
        "# Early stopping\n",
        "early_stopping_callback = EarlyStopping(monitor=\"val_accuracy\", mode=\"max\", patience=20, verbose=1, restore_best_weights=True)\n",
        "\n",
        "# Reduce learning rate\n",
        "reduce_lr_callback = ReduceLROnPlateau(monitor=\"val_loss\", factor=0.1, patience=5, verbose=1, mode=\"min\", min_delta=0.0001, cooldown=0, min_lr=0)\n",
        "\n",
        "# Callbacks list\n",
        "callbacks=[checkpoint_callback, early_stopping_callback, reduce_lr_callback]"
      ]
    },
    {
      "cell_type": "code",
      "execution_count": 15,
      "metadata": {
        "colab": {
          "base_uri": "https://localhost:8080/"
        },
        "id": "BxfuryxEERe5",
        "outputId": "6abd9608-dd8d-4ec9-9e9e-4ac56683a4ee",
        "tags": []
      },
      "outputs": [
        {
          "name": "stdout",
          "output_type": "stream",
          "text": [
            "Model: \"sequential_1\"\n",
            "_________________________________________________________________\n",
            " Layer (type)                Output Shape              Param #   \n",
            "=================================================================\n",
            " xception (Functional)       (None, 7, 7, 2048)        20861480  \n",
            "                                                                 \n",
            " global_average_pooling2d (G  (None, 2048)             0         \n",
            " lobalAveragePooling2D)                                          \n",
            "                                                                 \n",
            " dropout_1 (Dropout)         (None, 2048)              0         \n",
            "                                                                 \n",
            " dense_2 (Dense)             (None, 256)               524544    \n",
            "                                                                 \n",
            " dense_3 (Dense)             (None, 2)                 514       \n",
            "                                                                 \n",
            "=================================================================\n",
            "Total params: 21,386,538\n",
            "Trainable params: 21,332,010\n",
            "Non-trainable params: 54,528\n",
            "_________________________________________________________________\n"
          ]
        }
      ],
      "source": [
        "# Define DIY Model\n",
        "Xception_model_2 = tf.keras.models.Sequential([\n",
        "    # Xception Layer\n",
        "    Xception(include_top=False,weights='imagenet',input_shape=(224, 224, 3)),\n",
        "    # Global Average Pooling Layer\n",
        "    tf.keras.layers.GlobalAveragePooling2D(),\n",
        "    # Drop Out Layer\n",
        "    tf.keras.layers.Dropout(0.2),\n",
        "    # 256 neuron hidden layer\n",
        "    tf.keras.layers.Dense(256, activation='relu'),\n",
        "    # Output\n",
        "    tf.keras.layers.Dense(2, activation='softmax') \n",
        "  ])\n",
        "\n",
        "\n",
        "# Compile Model\n",
        "Xception_model_2.compile(loss='categorical_crossentropy',optimizer=tf.keras.optimizers.Adam(), metrics=['accuracy']) \n",
        "\n",
        "# Model Summary\n",
        "Xception_model_2.summary()"
      ]
    },
    {
      "cell_type": "code",
      "execution_count": 16,
      "metadata": {
        "colab": {
          "base_uri": "https://localhost:8080/"
        },
        "id": "3hNRyuMnERe6",
        "outputId": "9416eee9-386c-4b63-e9a2-b5ba33bb75e7",
        "tags": []
      },
      "outputs": [
        {
          "name": "stdout",
          "output_type": "stream",
          "text": [
            "Epoch 1/100\n",
            "202/202 [==============================] - ETA: 0s - loss: 0.1245 - accuracy: 0.9581\n",
            "Epoch 1: val_accuracy improved from -inf to 0.99584, saving model to BellPaper_Xception_model2_Based_Non_Augmented\n"
          ]
        },
        {
          "name": "stderr",
          "output_type": "stream",
          "text": [
            "WARNING:absl:Found untraced functions such as _jit_compiled_convolution_op, _jit_compiled_convolution_op, _jit_compiled_convolution_op, _jit_compiled_convolution_op, _jit_compiled_convolution_op while saving (showing 5 of 40). These functions will not be directly callable after loading.\n"
          ]
        },
        {
          "name": "stdout",
          "output_type": "stream",
          "text": [
            "\b\b\b\b\b\b\b\b\b\b\b\b\b\b\b\b\b\b\b\b\b\b\b\b\b\b\b\b\b\b\b\b\b\b\b\b\b\b\b\b\b\b\b\b\b\b\b\b\b\b\b\b\b\b\b\b\b\b\b\b\b\b\b\b\b\b\b\b\b\b\b\b\b\b\b\b\b\b\b\b\b\b\b\b\r202/202 [==============================] - 121s 462ms/step - loss: 0.1245 - accuracy: 0.9581 - val_loss: 0.0189 - val_accuracy: 0.9958 - lr: 0.0010\n",
            "Epoch 2/100\n",
            "202/202 [==============================] - ETA: 0s - loss: 0.0649 - accuracy: 0.9792\n",
            "Epoch 2: val_accuracy did not improve from 0.99584\n",
            "202/202 [==============================] - 70s 346ms/step - loss: 0.0649 - accuracy: 0.9792 - val_loss: 6.1128 - val_accuracy: 0.8150 - lr: 0.0010\n",
            "Epoch 3/100\n",
            "202/202 [==============================] - ETA: 0s - loss: 0.0263 - accuracy: 0.9898\n",
            "Epoch 3: val_accuracy improved from 0.99584 to 0.99792, saving model to BellPaper_Xception_model2_Based_Non_Augmented\n"
          ]
        },
        {
          "name": "stderr",
          "output_type": "stream",
          "text": [
            "WARNING:absl:Found untraced functions such as _jit_compiled_convolution_op, _jit_compiled_convolution_op, _jit_compiled_convolution_op, _jit_compiled_convolution_op, _jit_compiled_convolution_op while saving (showing 5 of 40). These functions will not be directly callable after loading.\n"
          ]
        },
        {
          "name": "stdout",
          "output_type": "stream",
          "text": [
            "\b\b\b\b\b\b\b\b\b\b\b\b\b\b\b\b\b\b\b\b\b\b\b\b\b\b\b\b\b\b\b\b\b\b\b\b\b\b\b\b\b\b\b\b\b\b\b\b\b\b\b\b\b\b\b\b\b\b\b\b\b\b\b\b\b\b\b\b\b\b\b\b\b\b\b\b\b\b\b\b\b\b\b\b\r202/202 [==============================] - 90s 447ms/step - loss: 0.0263 - accuracy: 0.9898 - val_loss: 0.0048 - val_accuracy: 0.9979 - lr: 0.0010\n",
            "Epoch 4/100\n",
            "202/202 [==============================] - ETA: 0s - loss: 0.0220 - accuracy: 0.9916\n",
            "Epoch 4: val_accuracy improved from 0.99792 to 0.99896, saving model to BellPaper_Xception_model2_Based_Non_Augmented\n"
          ]
        },
        {
          "name": "stderr",
          "output_type": "stream",
          "text": [
            "WARNING:absl:Found untraced functions such as _jit_compiled_convolution_op, _jit_compiled_convolution_op, _jit_compiled_convolution_op, _jit_compiled_convolution_op, _jit_compiled_convolution_op while saving (showing 5 of 40). These functions will not be directly callable after loading.\n"
          ]
        },
        {
          "name": "stdout",
          "output_type": "stream",
          "text": [
            "\b\b\b\b\b\b\b\b\b\b\b\b\b\b\b\b\b\b\b\b\b\b\b\b\b\b\b\b\b\b\b\b\b\b\b\b\b\b\b\b\b\b\b\b\b\b\b\b\b\b\b\b\b\b\b\b\b\b\b\b\b\b\b\b\b\b\b\b\b\b\b\b\b\b\b\b\b\b\b\b\b\b\b\b\r202/202 [==============================] - 99s 491ms/step - loss: 0.0220 - accuracy: 0.9916 - val_loss: 0.0035 - val_accuracy: 0.9990 - lr: 0.0010\n",
            "Epoch 5/100\n",
            "202/202 [==============================] - ETA: 0s - loss: 0.0143 - accuracy: 0.9958\n",
            "Epoch 5: val_accuracy did not improve from 0.99896\n",
            "202/202 [==============================] - 70s 344ms/step - loss: 0.0143 - accuracy: 0.9958 - val_loss: 0.0455 - val_accuracy: 0.9844 - lr: 0.0010\n",
            "Epoch 6/100\n",
            "202/202 [==============================] - ETA: 0s - loss: 0.0274 - accuracy: 0.9906\n",
            "Epoch 6: val_accuracy did not improve from 0.99896\n",
            "202/202 [==============================] - 69s 342ms/step - loss: 0.0274 - accuracy: 0.9906 - val_loss: 0.0259 - val_accuracy: 0.9927 - lr: 0.0010\n",
            "Epoch 7/100\n",
            "202/202 [==============================] - ETA: 0s - loss: 0.0408 - accuracy: 0.9864\n",
            "Epoch 7: val_accuracy did not improve from 0.99896\n",
            "202/202 [==============================] - 68s 336ms/step - loss: 0.0408 - accuracy: 0.9864 - val_loss: 0.0027 - val_accuracy: 0.9990 - lr: 0.0010\n",
            "Epoch 8/100\n",
            "202/202 [==============================] - ETA: 0s - loss: 0.0230 - accuracy: 0.9933\n",
            "Epoch 8: val_accuracy did not improve from 0.99896\n",
            "202/202 [==============================] - 68s 334ms/step - loss: 0.0230 - accuracy: 0.9933 - val_loss: 0.0286 - val_accuracy: 0.9886 - lr: 0.0010\n",
            "Epoch 9/100\n",
            "202/202 [==============================] - ETA: 0s - loss: 0.0183 - accuracy: 0.9928\n",
            "Epoch 9: val_accuracy did not improve from 0.99896\n",
            "202/202 [==============================] - 68s 336ms/step - loss: 0.0183 - accuracy: 0.9928 - val_loss: 0.0302 - val_accuracy: 0.9906 - lr: 0.0010\n",
            "Epoch 10/100\n",
            "202/202 [==============================] - ETA: 0s - loss: 0.0095 - accuracy: 0.9953\n",
            "Epoch 10: val_accuracy did not improve from 0.99896\n",
            "202/202 [==============================] - 68s 335ms/step - loss: 0.0095 - accuracy: 0.9953 - val_loss: 0.0056 - val_accuracy: 0.9979 - lr: 0.0010\n",
            "Epoch 11/100\n",
            "202/202 [==============================] - ETA: 0s - loss: 0.0185 - accuracy: 0.9938\n",
            "Epoch 11: val_accuracy did not improve from 0.99896\n",
            "202/202 [==============================] - 69s 340ms/step - loss: 0.0185 - accuracy: 0.9938 - val_loss: 0.0064 - val_accuracy: 0.9990 - lr: 0.0010\n",
            "Epoch 12/100\n",
            "202/202 [==============================] - ETA: 0s - loss: 0.0032 - accuracy: 0.9990\n",
            "Epoch 12: val_accuracy did not improve from 0.99896\n",
            "\n",
            "Epoch 12: ReduceLROnPlateau reducing learning rate to 0.00010000000474974513.\n",
            "202/202 [==============================] - 68s 335ms/step - loss: 0.0032 - accuracy: 0.9990 - val_loss: 0.0192 - val_accuracy: 0.9958 - lr: 0.0010\n",
            "Epoch 13/100\n",
            "202/202 [==============================] - ETA: 0s - loss: 0.0030 - accuracy: 0.9988\n",
            "Epoch 13: val_accuracy did not improve from 0.99896\n",
            "202/202 [==============================] - 68s 335ms/step - loss: 0.0030 - accuracy: 0.9988 - val_loss: 0.0104 - val_accuracy: 0.9979 - lr: 1.0000e-04\n",
            "Epoch 14/100\n",
            "202/202 [==============================] - ETA: 0s - loss: 3.7752e-04 - accuracy: 1.0000\n",
            "Epoch 14: val_accuracy did not improve from 0.99896\n",
            "202/202 [==============================] - 68s 337ms/step - loss: 3.7752e-04 - accuracy: 1.0000 - val_loss: 0.0101 - val_accuracy: 0.9979 - lr: 1.0000e-04\n",
            "Epoch 15/100\n",
            "202/202 [==============================] - ETA: 0s - loss: 6.0495e-04 - accuracy: 0.9998\n",
            "Epoch 15: val_accuracy did not improve from 0.99896\n",
            "202/202 [==============================] - 69s 342ms/step - loss: 6.0495e-04 - accuracy: 0.9998 - val_loss: 0.0073 - val_accuracy: 0.9979 - lr: 1.0000e-04\n",
            "Epoch 16/100\n",
            "202/202 [==============================] - ETA: 0s - loss: 0.0020 - accuracy: 0.9995\n",
            "Epoch 16: val_accuracy did not improve from 0.99896\n",
            "202/202 [==============================] - 69s 341ms/step - loss: 0.0020 - accuracy: 0.9995 - val_loss: 0.0056 - val_accuracy: 0.9990 - lr: 1.0000e-04\n",
            "Epoch 17/100\n",
            "202/202 [==============================] - ETA: 0s - loss: 1.9021e-04 - accuracy: 1.0000\n",
            "Epoch 17: val_accuracy did not improve from 0.99896\n",
            "\n",
            "Epoch 17: ReduceLROnPlateau reducing learning rate to 1.0000000474974514e-05.\n",
            "202/202 [==============================] - 68s 336ms/step - loss: 1.9021e-04 - accuracy: 1.0000 - val_loss: 0.0054 - val_accuracy: 0.9990 - lr: 1.0000e-04\n",
            "Epoch 18/100\n",
            "202/202 [==============================] - ETA: 0s - loss: 3.4489e-04 - accuracy: 1.0000\n",
            "Epoch 18: val_accuracy did not improve from 0.99896\n",
            "202/202 [==============================] - 68s 336ms/step - loss: 3.4489e-04 - accuracy: 1.0000 - val_loss: 0.0052 - val_accuracy: 0.9990 - lr: 1.0000e-05\n",
            "Epoch 19/100\n",
            "202/202 [==============================] - ETA: 0s - loss: 1.8006e-04 - accuracy: 1.0000\n",
            "Epoch 19: val_accuracy did not improve from 0.99896\n",
            "202/202 [==============================] - 68s 337ms/step - loss: 1.8006e-04 - accuracy: 1.0000 - val_loss: 0.0053 - val_accuracy: 0.9990 - lr: 1.0000e-05\n",
            "Epoch 20/100\n",
            "202/202 [==============================] - ETA: 0s - loss: 1.9815e-04 - accuracy: 1.0000\n",
            "Epoch 20: val_accuracy did not improve from 0.99896\n",
            "202/202 [==============================] - 68s 339ms/step - loss: 1.9815e-04 - accuracy: 1.0000 - val_loss: 0.0051 - val_accuracy: 0.9990 - lr: 1.0000e-05\n",
            "Epoch 21/100\n",
            "202/202 [==============================] - ETA: 0s - loss: 0.0014 - accuracy: 0.9998\n",
            "Epoch 21: val_accuracy did not improve from 0.99896\n",
            "202/202 [==============================] - 68s 337ms/step - loss: 0.0014 - accuracy: 0.9998 - val_loss: 0.0054 - val_accuracy: 0.9990 - lr: 1.0000e-05\n",
            "Epoch 22/100\n",
            "202/202 [==============================] - ETA: 0s - loss: 2.0017e-04 - accuracy: 1.0000\n",
            "Epoch 22: val_accuracy did not improve from 0.99896\n",
            "\n",
            "Epoch 22: ReduceLROnPlateau reducing learning rate to 1.0000000656873453e-06.\n",
            "202/202 [==============================] - 68s 335ms/step - loss: 2.0017e-04 - accuracy: 1.0000 - val_loss: 0.0055 - val_accuracy: 0.9990 - lr: 1.0000e-05\n",
            "Epoch 23/100\n",
            "202/202 [==============================] - ETA: 0s - loss: 2.3410e-04 - accuracy: 1.0000\n",
            "Epoch 23: val_accuracy did not improve from 0.99896\n",
            "202/202 [==============================] - 68s 338ms/step - loss: 2.3410e-04 - accuracy: 1.0000 - val_loss: 0.0056 - val_accuracy: 0.9990 - lr: 1.0000e-06\n",
            "Epoch 24/100\n",
            "202/202 [==============================] - ETA: 0s - loss: 2.0828e-04 - accuracy: 1.0000\n",
            "Epoch 24: val_accuracy did not improve from 0.99896\n",
            "Restoring model weights from the end of the best epoch: 4.\n",
            "202/202 [==============================] - 69s 343ms/step - loss: 2.0828e-04 - accuracy: 1.0000 - val_loss: 0.0056 - val_accuracy: 0.9990 - lr: 1.0000e-06\n",
            "Epoch 24: early stopping\n"
          ]
        }
      ],
      "source": [
        "# Define the number of epochs\n",
        "num_epochs = 100\n",
        "\n",
        "# Train the model\n",
        "history_Xception_model_2 = Xception_model_2.fit(train_generator, epochs=num_epochs, validation_data=validation_generator, callbacks=callbacks)"
      ]
    },
    {
      "cell_type": "code",
      "execution_count": 17,
      "metadata": {
        "colab": {
          "base_uri": "https://localhost:8080/",
          "height": 904
        },
        "id": "_rNy1cYmERe6",
        "outputId": "3322d8ba-55fe-448f-f797-9847aa928c5c",
        "tags": []
      },
      "outputs": [
        {
          "data": {
            "text/plain": [
              "Text(0.5, 1.0, 'Training and validation loss DIY Model')"
            ]
          },
          "execution_count": 17,
          "metadata": {},
          "output_type": "execute_result"
        },
        {
          "data": {
            "image/png": "[encoded data removed]",
            "text/plain": [
              "<Figure size 640x480 with 1 Axes>"
            ]
          },
          "metadata": {},
          "output_type": "display_data"
        },
        {
          "data": {
            "image/png": "[encoded data removed]",
            "text/plain": [
              "<Figure size 640x480 with 1 Axes>"
            ]
          },
          "metadata": {},
          "output_type": "display_data"
        }
      ],
      "source": [
        "#-----------------------------------------------------------\n",
        "# Retrieve a list of list results on training and test data\n",
        "# sets for each training epoch\n",
        "#-----------------------------------------------------------\n",
        "acc      = history_Xception_model_2.history['accuracy' ]\n",
        "val_acc  = history_Xception_model_2.history['val_accuracy' ]\n",
        "loss     = history_Xception_model_2.history['loss' ]\n",
        "val_loss = history_Xception_model_2.history['val_loss' ]\n",
        "\n",
        "epochs   = range(len(acc)) # Get number of epochs\n",
        "\n",
        "#------------------------------------------------\n",
        "# Plot training and validation accuracy per epoch\n",
        "#------------------------------------------------\n",
        "plt.plot  (epochs, acc )\n",
        "plt.plot  (epochs, val_acc )\n",
        "plt.title ('Training and validation accuracy DIY Model')\n",
        "plt.figure()\n",
        "\n",
        "#------------------------------------------------\n",
        "# Plot training and validation loss per epoch\n",
        "#------------------------------------------------\n",
        "plt.plot  (epochs, loss)\n",
        "plt.plot  (epochs, val_loss)\n",
        "plt.title ('Training and validation loss DIY Model')"
      ]
    },
    {
      "attachments": {},
      "cell_type": "markdown",
      "metadata": {
        "id": "M7FFaGcrQ9tk"
      },
      "source": [
        "# Download Model"
      ]
    },
    {
      "cell_type": "code",
      "execution_count": 18,
      "metadata": {
        "colab": {
          "base_uri": "https://localhost:8080/"
        },
        "id": "AxKMiyaaRAlo",
        "outputId": "a10a751e-29c4-4ab9-f027-c1798f3035bc"
      },
      "outputs": [
        {
          "name": "stdout",
          "output_type": "stream",
          "text": [
            "  adding: content/BellPaper_Xception_model1_Based_Non_Augmented/ (stored 0%)\n",
            "  adding: content/BellPaper_Xception_model1_Based_Non_Augmented/saved_model.pb (deflated 92%)\n",
            "  adding: content/BellPaper_Xception_model1_Based_Non_Augmented/fingerprint.pb (stored 0%)\n",
            "  adding: content/BellPaper_Xception_model1_Based_Non_Augmented/assets/ (stored 0%)\n",
            "  adding: content/BellPaper_Xception_model1_Based_Non_Augmented/keras_metadata.pb (deflated 96%)\n",
            "  adding: content/BellPaper_Xception_model1_Based_Non_Augmented/variables/ (stored 0%)\n",
            "  adding: content/BellPaper_Xception_model1_Based_Non_Augmented/variables/variables.data-00000-of-00001 (deflated 8%)\n",
            "  adding: content/BellPaper_Xception_model1_Based_Non_Augmented/variables/variables.index (deflated 77%)\n"
          ]
        }
      ],
      "source": [
        "!zip -r /content/BellPaper_Xception_model1_Based_Non_Augmented.zip /content/BellPaper_Xception_model1_Based_Non_Augmented"
      ]
    },
    {
      "cell_type": "code",
      "execution_count": 19,
      "metadata": {
        "colab": {
          "base_uri": "https://localhost:8080/"
        },
        "id": "aH6hQ8G_RJFm",
        "outputId": "aeecd27b-2a6f-4e38-f420-e9d9453bdd14"
      },
      "outputs": [
        {
          "name": "stdout",
          "output_type": "stream",
          "text": [
            "  adding: content/BellPaper_Xception_model2_Based_Non_Augmented/ (stored 0%)\n",
            "  adding: content/BellPaper_Xception_model2_Based_Non_Augmented/saved_model.pb (deflated 92%)\n",
            "  adding: content/BellPaper_Xception_model2_Based_Non_Augmented/fingerprint.pb (stored 0%)\n",
            "  adding: content/BellPaper_Xception_model2_Based_Non_Augmented/assets/ (stored 0%)\n",
            "  adding: content/BellPaper_Xception_model2_Based_Non_Augmented/keras_metadata.pb (deflated 96%)\n",
            "  adding: content/BellPaper_Xception_model2_Based_Non_Augmented/variables/ (stored 0%)\n",
            "  adding: content/BellPaper_Xception_model2_Based_Non_Augmented/variables/variables.data-00000-of-00001 (deflated 8%)\n",
            "  adding: content/BellPaper_Xception_model2_Based_Non_Augmented/variables/variables.index (deflated 77%)\n"
          ]
        }
      ],
      "source": [
        "!zip -r /content/BellPaper_Xception_model2_Based_Non_Augmented.zip /content/BellPaper_Xception_model2_Based_Non_Augmented"
      ]
    }
  ],
  "metadata": {
    "accelerator": "GPU",
    "colab": {
      "gpuType": "T4",
      "provenance": []
    },
    "gpuClass": "standard",
    "kernelspec": {
      "display_name": "Python 3 (ipykernel)",
      "language": "python",
      "name": "python3"
    },
    "language_info": {
      "codemirror_mode": {
        "name": "ipython",
        "version": 3
      },
      "file_extension": ".py",
      "mimetype": "text/x-python",
      "name": "python",
      "nbconvert_exporter": "python",
      "pygments_lexer": "ipython3",
      "version": "3.10.0"
    }
  },
  "nbformat": 4,
  "nbformat_minor": 0
}
