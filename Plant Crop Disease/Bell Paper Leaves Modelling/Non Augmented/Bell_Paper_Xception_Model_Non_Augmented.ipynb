{
  "cells": [
    {
      "attachments": {},
      "cell_type": "markdown",
      "metadata": {
        "id": "4EbRrnesERex"
      },
      "source": [
        "# Library"
      ]
    },
    {
      "cell_type": "code",
      "execution_count": 1,
      "metadata": {
        "colab": {
          "base_uri": "https://localhost:8080/"
        },
        "id": "9gDee1IRERe0",
        "outputId": "8a3fb3ec-4462-471d-beb9-5b4548d1f2c3",
        "tags": []
      },
      "outputs": [
        {
          "name": "stdout",
          "output_type": "stream",
          "text": [
            "Looking in indexes: https://pypi.org/simple, https://us-python.pkg.dev/colab-wheels/public/simple/\n",
            "Requirement already satisfied: matplotlib in /usr/local/lib/python3.10/dist-packages (3.7.1)\n",
            "Requirement already satisfied: contourpy>=1.0.1 in /usr/local/lib/python3.10/dist-packages (from matplotlib) (1.0.7)\n",
            "Requirement already satisfied: cycler>=0.10 in /usr/local/lib/python3.10/dist-packages (from matplotlib) (0.11.0)\n",
            "Requirement already satisfied: fonttools>=4.22.0 in /usr/local/lib/python3.10/dist-packages (from matplotlib) (4.39.3)\n",
            "Requirement already satisfied: kiwisolver>=1.0.1 in /usr/local/lib/python3.10/dist-packages (from matplotlib) (1.4.4)\n",
            "Requirement already satisfied: numpy>=1.20 in /usr/local/lib/python3.10/dist-packages (from matplotlib) (1.22.4)\n",
            "Requirement already satisfied: packaging>=20.0 in /usr/local/lib/python3.10/dist-packages (from matplotlib) (23.1)\n",
            "Requirement already satisfied: pillow>=6.2.0 in /usr/local/lib/python3.10/dist-packages (from matplotlib) (8.4.0)\n",
            "Requirement already satisfied: pyparsing>=2.3.1 in /usr/local/lib/python3.10/dist-packages (from matplotlib) (3.0.9)\n",
            "Requirement already satisfied: python-dateutil>=2.7 in /usr/local/lib/python3.10/dist-packages (from matplotlib) (2.8.2)\n",
            "Requirement already satisfied: six>=1.5 in /usr/local/lib/python3.10/dist-packages (from python-dateutil>=2.7->matplotlib) (1.16.0)\n"
          ]
        }
      ],
      "source": [
        "pip install matplotlib"
      ]
    },
    {
      "cell_type": "code",
      "execution_count": 2,
      "metadata": {
        "colab": {
          "base_uri": "https://localhost:8080/"
        },
        "id": "abbgY7BNERe1",
        "outputId": "d3d87c9b-ff60-4b79-b5dc-cc2cc9b7a0ef",
        "tags": []
      },
      "outputs": [
        {
          "name": "stdout",
          "output_type": "stream",
          "text": [
            "Looking in indexes: https://pypi.org/simple, https://us-python.pkg.dev/colab-wheels/public/simple/\n",
            "Collecting opendatasets\n",
            "  Downloading opendatasets-0.1.22-py3-none-any.whl (15 kB)\n",
            "Requirement already satisfied: tqdm in /usr/local/lib/python3.10/dist-packages (from opendatasets) (4.65.0)\n",
            "Requirement already satisfied: kaggle in /usr/local/lib/python3.10/dist-packages (from opendatasets) (1.5.13)\n",
            "Requirement already satisfied: click in /usr/local/lib/python3.10/dist-packages (from opendatasets) (8.1.3)\n",
            "Requirement already satisfied: six>=1.10 in /usr/local/lib/python3.10/dist-packages (from kaggle->opendatasets) (1.16.0)\n",
            "Requirement already satisfied: certifi in /usr/local/lib/python3.10/dist-packages (from kaggle->opendatasets) (2022.12.7)\n",
            "Requirement already satisfied: python-dateutil in /usr/local/lib/python3.10/dist-packages (from kaggle->opendatasets) (2.8.2)\n",
            "Requirement already satisfied: requests in /usr/local/lib/python3.10/dist-packages (from kaggle->opendatasets) (2.27.1)\n",
            "Requirement already satisfied: python-slugify in /usr/local/lib/python3.10/dist-packages (from kaggle->opendatasets) (8.0.1)\n",
            "Requirement already satisfied: urllib3 in /usr/local/lib/python3.10/dist-packages (from kaggle->opendatasets) (1.26.15)\n",
            "Requirement already satisfied: text-unidecode>=1.3 in /usr/local/lib/python3.10/dist-packages (from python-slugify->kaggle->opendatasets) (1.3)\n",
            "Requirement already satisfied: charset-normalizer~=2.0.0 in /usr/local/lib/python3.10/dist-packages (from requests->kaggle->opendatasets) (2.0.12)\n",
            "Requirement already satisfied: idna<4,>=2.5 in /usr/local/lib/python3.10/dist-packages (from requests->kaggle->opendatasets) (3.4)\n",
            "Installing collected packages: opendatasets\n",
            "Successfully installed opendatasets-0.1.22\n"
          ]
        }
      ],
      "source": [
        "pip install opendatasets"
      ]
    },
    {
      "cell_type": "code",
      "execution_count": 3,
      "metadata": {
        "id": "LuGvG3BjERe1",
        "tags": []
      },
      "outputs": [],
      "source": [
        "# Library to dataset\n",
        "import opendatasets as od\n",
        "import os\n",
        "import zipfile\n",
        "import numpy as np\n",
        "\n",
        "# Surpress Warnings\n",
        "import warnings\n",
        "warnings.filterwarnings('ignore')\n",
        "os.environ['TF_CPP_MIN_LOG_LEVEL'] = '3' \n",
        "# library visualization\n",
        "import matplotlib.pyplot as plt\n",
        "\n",
        "# Library Tensorflow\n",
        "import tensorflow as tf\n",
        "from tensorflow import keras\n",
        "from tensorflow.keras.preprocessing.image import ImageDataGenerator\n",
        "from tensorflow.keras.callbacks import ModelCheckpoint, EarlyStopping, ReduceLROnPlateau\n",
        "from tensorflow.keras.applications.densenet import DenseNet121\n",
        "from tensorflow.keras.applications.xception import Xception\n",
        "\n",
        "# Others\n",
        "import shutil\n",
        "import random"
      ]
    },
    {
      "attachments": {},
      "cell_type": "markdown",
      "metadata": {
        "id": "GViA7Z80ERe1"
      },
      "source": [
        "# Load dataset"
      ]
    },
    {
      "cell_type": "code",
      "execution_count": 4,
      "metadata": {
        "colab": {
          "base_uri": "https://localhost:8080/"
        },
        "id": "GWkW6HucERe2",
        "outputId": "ac8fa6eb-c237-49ab-d5ec-6e45a09bb061"
      },
      "outputs": [
        {
          "name": "stdout",
          "output_type": "stream",
          "text": [
            "Please provide your Kaggle credentials to download this dataset. Learn more: http://bit.ly/kaggle-creds\n",
            "Your Kaggle username: ahmadhabibhasanzein\n",
            "Your Kaggle Key: ··········\n",
            "Downloading bellpaper.zip to ./bellpaper\n"
          ]
        },
        {
          "name": "stderr",
          "output_type": "stream",
          "text": [
            "100%|██████████| 118M/118M [00:05<00:00, 22.8MB/s]\n"
          ]
        },
        {
          "name": "stdout",
          "output_type": "stream",
          "text": [
            "\n"
          ]
        }
      ],
      "source": [
        "od.download(\"https://www.kaggle.com/datasets/ahmadhabibhasanzein/bellpaper\")"
      ]
    },
    {
      "cell_type": "code",
      "execution_count": 5,
      "metadata": {
        "colab": {
          "base_uri": "https://localhost:8080/"
        },
        "id": "tv_nPHvxERe2",
        "outputId": "9d4f0b41-9022-45e4-db36-de6581bb8fec",
        "tags": []
      },
      "outputs": [
        {
          "name": "stdout",
          "output_type": "stream",
          "text": [
            "==========================Training Data====================\n",
            "Found 4033 files belonging to 2 classes.\n",
            "==========================Validation Data====================\n",
            "Found 962 files belonging to 2 classes.\n"
          ]
        }
      ],
      "source": [
        "# Load dataset\n",
        "print(\"==========================Training Data====================\")\n",
        "train_data = tf.keras.preprocessing.image_dataset_from_directory(\n",
        "    \"/content/bellpaper/Bell_pepper/train\",\n",
        "    label_mode=\"categorical\",\n",
        "    class_names= ['Pepper bell Bacterial spot', 'Pepper bell healthy'],\n",
        "    color_mode=\"rgb\",\n",
        "    batch_size=1,\n",
        "    image_size=(256, 256),\n",
        "    shuffle=True,\n",
        "    seed=123\n",
        ")\n",
        "print(\"==========================Validation Data====================\")\n",
        "val_data = tf.keras.preprocessing.image_dataset_from_directory(\n",
        "    \"/content/bellpaper/Bell_pepper/test\",\n",
        "    label_mode=\"categorical\",\n",
        "    class_names= ['Pepper bell Bacterial spot', 'Pepper bell healthy'],\n",
        "    color_mode=\"rgb\",\n",
        "    batch_size=1,\n",
        "    image_size=(256, 256),\n",
        "    shuffle=True,\n",
        "    seed=123\n",
        ")"
      ]
    },
    {
      "cell_type": "code",
      "execution_count": 6,
      "metadata": {
        "colab": {
          "base_uri": "https://localhost:8080/"
        },
        "id": "yy2Y8X_cERe2",
        "outputId": "8f5add62-fc13-4faf-83c9-186dca182c01",
        "tags": []
      },
      "outputs": [
        {
          "name": "stdout",
          "output_type": "stream",
          "text": [
            "Found 4033 images belonging to 2 classes.\n",
            "Found 962 images belonging to 2 classes.\n"
          ]
        }
      ],
      "source": [
        "# All images will be rescaled by 1./255.\n",
        "train_datagen = ImageDataGenerator(rescale = 1.0/256.)\n",
        "test_datagen  = ImageDataGenerator(rescale = 1.0/256.)\n",
        "\n",
        "# --------------------\n",
        "# Flow training images in batches of 20 using train_datagen generator\n",
        "# --------------------\n",
        "train_generator = train_datagen.flow_from_directory(\"/content/bellpaper/Bell_pepper/train\",\n",
        "                                                    batch_size=20,\n",
        "                                                    class_mode='categorical',\n",
        "                                                    target_size=(224, 224))     \n",
        "# --------------------\n",
        "# Flow validation images in batches of 20 using test_datagen generator\n",
        "# --------------------\n",
        "validation_generator =  test_datagen.flow_from_directory(\"/content/bellpaper/Bell_pepper/test\",\n",
        "                                                         batch_size=20,\n",
        "                                                         class_mode  = 'categorical',\n",
        "                                                         target_size = (224, 224))"
      ]
    },
    {
      "attachments": {},
      "cell_type": "markdown",
      "metadata": {
        "id": "NYQSJLZcERe3"
      },
      "source": [
        "# List Resource"
      ]
    },
    {
      "cell_type": "code",
      "execution_count": 7,
      "metadata": {
        "colab": {
          "base_uri": "https://localhost:8080/"
        },
        "id": "WMggm6j1ERe3",
        "outputId": "0a0d78a7-c30e-4b47-fb79-5a26260b192c",
        "tags": []
      },
      "outputs": [
        {
          "name": "stdout",
          "output_type": "stream",
          "text": [
            "Sat May 27 08:33:19 2023       \n",
            "+-----------------------------------------------------------------------------+\n",
            "| NVIDIA-SMI 525.85.12    Driver Version: 525.85.12    CUDA Version: 12.0     |\n",
            "|-------------------------------+----------------------+----------------------+\n",
            "| GPU  Name        Persistence-M| Bus-Id        Disp.A | Volatile Uncorr. ECC |\n",
            "| Fan  Temp  Perf  Pwr:Usage/Cap|         Memory-Usage | GPU-Util  Compute M. |\n",
            "|                               |                      |               MIG M. |\n",
            "|===============================+======================+======================|\n",
            "|   0  Tesla T4            Off  | 00000000:00:04.0 Off |                    0 |\n",
            "| N/A   56C    P0    28W /  70W |    389MiB / 15360MiB |      0%      Default |\n",
            "|                               |                      |                  N/A |\n",
            "+-------------------------------+----------------------+----------------------+\n",
            "                                                                               \n",
            "+-----------------------------------------------------------------------------+\n",
            "| Processes:                                                                  |\n",
            "|  GPU   GI   CI        PID   Type   Process name                  GPU Memory |\n",
            "|        ID   ID                                                   Usage      |\n",
            "|=============================================================================|\n",
            "+-----------------------------------------------------------------------------+\n"
          ]
        }
      ],
      "source": [
        "# Check GPU\n",
        "!nvidia-smi"
      ]
    },
    {
      "cell_type": "code",
      "execution_count": 8,
      "metadata": {
        "colab": {
          "base_uri": "https://localhost:8080/"
        },
        "id": "vbgWJ0NDERe3",
        "outputId": "f0daa577-bed0-4935-f76b-3391ec73b7fa",
        "tags": []
      },
      "outputs": [
        {
          "data": {
            "text/plain": [
              "[PhysicalDevice(name='/physical_device:GPU:0', device_type='GPU')]"
            ]
          },
          "execution_count": 8,
          "metadata": {},
          "output_type": "execute_result"
        }
      ],
      "source": [
        "# Lis physical devices\n",
        "devices = tf.config.experimental.list_physical_devices(\"GPU\")\n",
        "devices"
      ]
    },
    {
      "cell_type": "code",
      "execution_count": 9,
      "metadata": {
        "id": "cs9WQOxWERe3",
        "tags": []
      },
      "outputs": [],
      "source": [
        "# Define the GPU strategy\n",
        "mirrored_strategy = tf.distribute.MirroredStrategy(devices=[\"/gpu:0\"])"
      ]
    },
    {
      "attachments": {},
      "cell_type": "markdown",
      "metadata": {
        "id": "9MN_8F4wERe4"
      },
      "source": [
        "# Modelling Without Augmentation"
      ]
    },
    {
      "attachments": {},
      "cell_type": "markdown",
      "metadata": {
        "id": "j-3UPwWdERe4"
      },
      "source": [
        "## Xception Model 1"
      ]
    },
    {
      "cell_type": "code",
      "execution_count": 10,
      "metadata": {
        "id": "3jE3e0W4ERe4",
        "tags": []
      },
      "outputs": [],
      "source": [
        "# Difine the callbacks\n",
        "# Save the best model\n",
        "checkpoint_callback = ModelCheckpoint(filepath=\"BellPaper_Xception_model1_Based_Non_Augmented.h5\", save_best_only=True, monitor=\"val_accuracy\", mode=\"max\", verbose=1)\n",
        "\n",
        "# Early stopping\n",
        "early_stopping_callback = EarlyStopping(monitor=\"val_accuracy\", mode=\"max\", patience=20, verbose=1, restore_best_weights=True)\n",
        "\n",
        "# Reduce learning rate\n",
        "reduce_lr_callback = ReduceLROnPlateau(monitor=\"val_loss\", factor=0.1, patience=5, verbose=1, mode=\"min\", min_delta=0.0001, cooldown=0, min_lr=0)\n",
        "\n",
        "# Callbacks list\n",
        "callbacks=[checkpoint_callback, early_stopping_callback, reduce_lr_callback]"
      ]
    },
    {
      "cell_type": "code",
      "execution_count": 11,
      "metadata": {
        "colab": {
          "base_uri": "https://localhost:8080/"
        },
        "id": "Mv1lRQPTERe4",
        "outputId": "d44f66f3-7998-4c05-eaac-229ff0a9615e",
        "tags": []
      },
      "outputs": [
        {
          "name": "stdout",
          "output_type": "stream",
          "text": [
            "Downloading data from https://storage.googleapis.com/tensorflow/keras-applications/xception/xception_weights_tf_dim_ordering_tf_kernels_notop.h5\n",
            "83683744/83683744 [==============================] - 3s 0us/step\n",
            "Model: \"sequential\"\n",
            "_________________________________________________________________\n",
            " Layer (type)                Output Shape              Param #   \n",
            "=================================================================\n",
            " xception (Functional)       (None, 7, 7, 2048)        20861480  \n",
            "                                                                 \n",
            " global_max_pooling2d (Globa  (None, 2048)             0         \n",
            " lMaxPooling2D)                                                  \n",
            "                                                                 \n",
            " dropout (Dropout)           (None, 2048)              0         \n",
            "                                                                 \n",
            " dense (Dense)               (None, 256)               524544    \n",
            "                                                                 \n",
            " dense_1 (Dense)             (None, 2)                 514       \n",
            "                                                                 \n",
            "=================================================================\n",
            "Total params: 21,386,538\n",
            "Trainable params: 21,332,010\n",
            "Non-trainable params: 54,528\n",
            "_________________________________________________________________\n"
          ]
        }
      ],
      "source": [
        "# Define DIY Model\n",
        "Xception_model = tf.keras.models.Sequential([\n",
        "    # Xception Layer\n",
        "    Xception(include_top=False,weights='imagenet',input_shape=(224, 224, 3)),\n",
        "    # Global Max Pooling Layer\n",
        "    tf.keras.layers.GlobalMaxPooling2D(),\n",
        "    # Drop Out Layer\n",
        "    tf.keras.layers.Dropout(0.2),\n",
        "    # 256 neuron hidden layer\n",
        "    tf.keras.layers.Dense(256, activation='relu'),\n",
        "    # Output\n",
        "    tf.keras.layers.Dense(2, activation='softmax') \n",
        "  ])\n",
        "\n",
        "\n",
        "# Compile Model\n",
        "Xception_model.compile(loss='categorical_crossentropy',optimizer=tf.keras.optimizers.Adam(), metrics=['accuracy']) \n",
        "\n",
        "# Model Summary\n",
        "Xception_model.summary()"
      ]
    },
    {
      "cell_type": "code",
      "execution_count": 12,
      "metadata": {
        "colab": {
          "base_uri": "https://localhost:8080/"
        },
        "id": "qsmEvbxZERe5",
        "outputId": "36db8ddd-565a-4c74-f1ab-547f4865f828",
        "tags": []
      },
      "outputs": [
        {
          "name": "stdout",
          "output_type": "stream",
          "text": [
            "Epoch 1/100\n",
            "202/202 [==============================] - ETA: 0s - loss: 0.1749 - accuracy: 0.9524\n",
            "Epoch 1: val_accuracy improved from -inf to 0.99584, saving model to BellPaper_Xception_model1_Based_Non_Augmented.h5\n",
            "202/202 [==============================] - 116s 350ms/step - loss: 0.1749 - accuracy: 0.9524 - val_loss: 0.0098 - val_accuracy: 0.9958 - lr: 0.0010\n",
            "Epoch 2/100\n",
            "202/202 [==============================] - ETA: 0s - loss: 0.0456 - accuracy: 0.9809\n",
            "Epoch 2: val_accuracy did not improve from 0.99584\n",
            "202/202 [==============================] - 65s 324ms/step - loss: 0.0456 - accuracy: 0.9809 - val_loss: 0.2245 - val_accuracy: 0.9418 - lr: 0.0010\n",
            "Epoch 3/100\n",
            "202/202 [==============================] - ETA: 0s - loss: 0.0316 - accuracy: 0.9893\n",
            "Epoch 3: val_accuracy improved from 0.99584 to 0.99792, saving model to BellPaper_Xception_model1_Based_Non_Augmented.h5\n",
            "202/202 [==============================] - 71s 351ms/step - loss: 0.0316 - accuracy: 0.9893 - val_loss: 0.0030 - val_accuracy: 0.9979 - lr: 0.0010\n",
            "Epoch 4/100\n",
            "202/202 [==============================] - ETA: 0s - loss: 0.0306 - accuracy: 0.9901\n",
            "Epoch 4: val_accuracy did not improve from 0.99792\n",
            "202/202 [==============================] - 66s 325ms/step - loss: 0.0306 - accuracy: 0.9901 - val_loss: 0.0109 - val_accuracy: 0.9979 - lr: 0.0010\n",
            "Epoch 5/100\n",
            "202/202 [==============================] - ETA: 0s - loss: 0.0363 - accuracy: 0.9906\n",
            "Epoch 5: val_accuracy did not improve from 0.99792\n",
            "202/202 [==============================] - 66s 325ms/step - loss: 0.0363 - accuracy: 0.9906 - val_loss: 0.0146 - val_accuracy: 0.9958 - lr: 0.0010\n",
            "Epoch 6/100\n",
            "202/202 [==============================] - ETA: 0s - loss: 0.0253 - accuracy: 0.9931\n",
            "Epoch 6: val_accuracy did not improve from 0.99792\n",
            "202/202 [==============================] - 66s 324ms/step - loss: 0.0253 - accuracy: 0.9931 - val_loss: 0.0033 - val_accuracy: 0.9979 - lr: 0.0010\n",
            "Epoch 7/100\n",
            "202/202 [==============================] - ETA: 0s - loss: 0.0149 - accuracy: 0.9950\n",
            "Epoch 7: val_accuracy did not improve from 0.99792\n",
            "202/202 [==============================] - 66s 328ms/step - loss: 0.0149 - accuracy: 0.9950 - val_loss: 0.0057 - val_accuracy: 0.9979 - lr: 0.0010\n",
            "Epoch 8/100\n",
            "202/202 [==============================] - ETA: 0s - loss: 0.0257 - accuracy: 0.9926\n",
            "Epoch 8: val_accuracy did not improve from 0.99792\n",
            "\n",
            "Epoch 8: ReduceLROnPlateau reducing learning rate to 0.00010000000474974513.\n",
            "202/202 [==============================] - 66s 326ms/step - loss: 0.0257 - accuracy: 0.9926 - val_loss: 0.0127 - val_accuracy: 0.9948 - lr: 0.0010\n",
            "Epoch 9/100\n",
            "202/202 [==============================] - ETA: 0s - loss: 0.0082 - accuracy: 0.9973\n",
            "Epoch 9: val_accuracy did not improve from 0.99792\n",
            "202/202 [==============================] - 65s 323ms/step - loss: 0.0082 - accuracy: 0.9973 - val_loss: 0.0060 - val_accuracy: 0.9969 - lr: 1.0000e-04\n",
            "Epoch 10/100\n",
            "202/202 [==============================] - ETA: 0s - loss: 0.0066 - accuracy: 0.9980\n",
            "Epoch 10: val_accuracy did not improve from 0.99792\n",
            "202/202 [==============================] - 66s 324ms/step - loss: 0.0066 - accuracy: 0.9980 - val_loss: 0.0049 - val_accuracy: 0.9969 - lr: 1.0000e-04\n",
            "Epoch 11/100\n",
            "202/202 [==============================] - ETA: 0s - loss: 0.0037 - accuracy: 0.9990\n",
            "Epoch 11: val_accuracy did not improve from 0.99792\n",
            "202/202 [==============================] - 66s 328ms/step - loss: 0.0037 - accuracy: 0.9990 - val_loss: 0.0066 - val_accuracy: 0.9969 - lr: 1.0000e-04\n",
            "Epoch 12/100\n",
            "202/202 [==============================] - ETA: 0s - loss: 0.0028 - accuracy: 0.9995\n",
            "Epoch 12: val_accuracy did not improve from 0.99792\n",
            "202/202 [==============================] - 65s 324ms/step - loss: 0.0028 - accuracy: 0.9995 - val_loss: 0.0071 - val_accuracy: 0.9969 - lr: 1.0000e-04\n",
            "Epoch 13/100\n",
            "202/202 [==============================] - ETA: 0s - loss: 0.0017 - accuracy: 0.9998\n",
            "Epoch 13: val_accuracy did not improve from 0.99792\n",
            "\n",
            "Epoch 13: ReduceLROnPlateau reducing learning rate to 1.0000000474974514e-05.\n",
            "202/202 [==============================] - 66s 326ms/step - loss: 0.0017 - accuracy: 0.9998 - val_loss: 0.0064 - val_accuracy: 0.9969 - lr: 1.0000e-04\n",
            "Epoch 14/100\n",
            "202/202 [==============================] - ETA: 0s - loss: 0.0031 - accuracy: 0.9990\n",
            "Epoch 14: val_accuracy did not improve from 0.99792\n",
            "202/202 [==============================] - 66s 327ms/step - loss: 0.0031 - accuracy: 0.9990 - val_loss: 0.0061 - val_accuracy: 0.9969 - lr: 1.0000e-05\n",
            "Epoch 15/100\n",
            "202/202 [==============================] - ETA: 0s - loss: 0.0016 - accuracy: 0.9998\n",
            "Epoch 15: val_accuracy did not improve from 0.99792\n",
            "202/202 [==============================] - 65s 323ms/step - loss: 0.0016 - accuracy: 0.9998 - val_loss: 0.0063 - val_accuracy: 0.9969 - lr: 1.0000e-05\n",
            "Epoch 16/100\n",
            "202/202 [==============================] - ETA: 0s - loss: 0.0017 - accuracy: 0.9995\n",
            "Epoch 16: val_accuracy did not improve from 0.99792\n",
            "202/202 [==============================] - 66s 324ms/step - loss: 0.0017 - accuracy: 0.9995 - val_loss: 0.0063 - val_accuracy: 0.9969 - lr: 1.0000e-05\n",
            "Epoch 17/100\n",
            "202/202 [==============================] - ETA: 0s - loss: 0.0015 - accuracy: 0.9998\n",
            "Epoch 17: val_accuracy did not improve from 0.99792\n",
            "202/202 [==============================] - 66s 326ms/step - loss: 0.0015 - accuracy: 0.9998 - val_loss: 0.0063 - val_accuracy: 0.9969 - lr: 1.0000e-05\n",
            "Epoch 18/100\n",
            "202/202 [==============================] - ETA: 0s - loss: 0.0015 - accuracy: 0.9998\n",
            "Epoch 18: val_accuracy did not improve from 0.99792\n",
            "\n",
            "Epoch 18: ReduceLROnPlateau reducing learning rate to 1.0000000656873453e-06.\n",
            "202/202 [==============================] - 65s 323ms/step - loss: 0.0015 - accuracy: 0.9998 - val_loss: 0.0063 - val_accuracy: 0.9979 - lr: 1.0000e-05\n",
            "Epoch 19/100\n",
            "202/202 [==============================] - ETA: 0s - loss: 0.0014 - accuracy: 0.9998\n",
            "Epoch 19: val_accuracy did not improve from 0.99792\n",
            "202/202 [==============================] - 67s 329ms/step - loss: 0.0014 - accuracy: 0.9998 - val_loss: 0.0062 - val_accuracy: 0.9979 - lr: 1.0000e-06\n",
            "Epoch 20/100\n",
            "202/202 [==============================] - ETA: 0s - loss: 0.0014 - accuracy: 0.9998\n",
            "Epoch 20: val_accuracy did not improve from 0.99792\n",
            "202/202 [==============================] - 66s 327ms/step - loss: 0.0014 - accuracy: 0.9998 - val_loss: 0.0063 - val_accuracy: 0.9979 - lr: 1.0000e-06\n",
            "Epoch 21/100\n",
            "202/202 [==============================] - ETA: 0s - loss: 0.0013 - accuracy: 0.9998\n",
            "Epoch 21: val_accuracy did not improve from 0.99792\n",
            "202/202 [==============================] - 66s 327ms/step - loss: 0.0013 - accuracy: 0.9998 - val_loss: 0.0061 - val_accuracy: 0.9979 - lr: 1.0000e-06\n",
            "Epoch 22/100\n",
            "202/202 [==============================] - ETA: 0s - loss: 0.0014 - accuracy: 0.9998\n",
            "Epoch 22: val_accuracy did not improve from 0.99792\n",
            "202/202 [==============================] - 66s 326ms/step - loss: 0.0014 - accuracy: 0.9998 - val_loss: 0.0062 - val_accuracy: 0.9979 - lr: 1.0000e-06\n",
            "Epoch 23/100\n",
            "202/202 [==============================] - ETA: 0s - loss: 0.0015 - accuracy: 0.9998\n",
            "Epoch 23: val_accuracy did not improve from 0.99792\n",
            "Restoring model weights from the end of the best epoch: 3.\n",
            "\n",
            "Epoch 23: ReduceLROnPlateau reducing learning rate to 1.0000001111620805e-07.\n",
            "202/202 [==============================] - 65s 323ms/step - loss: 0.0015 - accuracy: 0.9998 - val_loss: 0.0060 - val_accuracy: 0.9979 - lr: 1.0000e-06\n",
            "Epoch 23: early stopping\n"
          ]
        }
      ],
      "source": [
        "# Define the number of epochs\n",
        "num_epochs = 100\n",
        "\n",
        "# Train the model\n",
        "history_Xception_model_1 = Xception_model.fit(train_generator, epochs=num_epochs, validation_data=validation_generator, callbacks=callbacks)"
      ]
    },
    {
      "cell_type": "code",
      "execution_count": 13,
      "metadata": {
        "colab": {
          "base_uri": "https://localhost:8080/",
          "height": 904
        },
        "id": "gGVvvKIRERe5",
        "outputId": "dc436cee-c8ea-4d53-9293-b21f22ba80f6",
        "tags": []
      },
      "outputs": [
        {
          "data": {
            "text/plain": [
              "Text(0.5, 1.0, 'Training and validation loss DIY Model')"
            ]
          },
          "execution_count": 13,
          "metadata": {},
          "output_type": "execute_result"
        },
        {
          "data": {
            "image/png": "[encoded data removed]",
            "text/plain": [
              "<Figure size 640x480 with 1 Axes>"
            ]
          },
          "metadata": {},
          "output_type": "display_data"
        },
        {
          "data": {
            "image/png": "[encoded data removed]",
            "text/plain": [
              "<Figure size 640x480 with 1 Axes>"
            ]
          },
          "metadata": {},
          "output_type": "display_data"
        }
      ],
      "source": [
        "#-----------------------------------------------------------\n",
        "# Retrieve a list of list results on training and test data\n",
        "# sets for each training epoch\n",
        "#-----------------------------------------------------------\n",
        "acc      = history_Xception_model_1.history['accuracy' ]\n",
        "val_acc  = history_Xception_model_1.history['val_accuracy' ]\n",
        "loss     = history_Xception_model_1.history['loss' ]\n",
        "val_loss = history_Xception_model_1.history['val_loss' ]\n",
        "\n",
        "epochs   = range(len(acc)) # Get number of epochs\n",
        "\n",
        "#------------------------------------------------\n",
        "# Plot training and validation accuracy per epoch\n",
        "#------------------------------------------------\n",
        "plt.plot  (epochs, acc )\n",
        "plt.plot  (epochs, val_acc )\n",
        "plt.title ('Training and validation accuracy DIY Model')\n",
        "plt.figure()\n",
        "\n",
        "#------------------------------------------------\n",
        "# Plot training and validation loss per epoch\n",
        "#------------------------------------------------\n",
        "plt.plot  (epochs, loss)\n",
        "plt.plot  (epochs, val_loss)\n",
        "plt.title ('Training and validation loss DIY Model')"
      ]
    },
    {
      "attachments": {},
      "cell_type": "markdown",
      "metadata": {
        "id": "dw4z5mw2ERe5"
      },
      "source": [
        "## Xception Model 2"
      ]
    },
    {
      "cell_type": "code",
      "execution_count": 14,
      "metadata": {
        "id": "OCeCI2oUERe5",
        "tags": []
      },
      "outputs": [],
      "source": [
        "# Difine the callbacks\n",
        "# Save the best model\n",
        "checkpoint_callback = ModelCheckpoint(filepath=\"BellPaper_Xception_model2_Based_Non_Augmented.h5\", save_best_only=True, monitor=\"val_accuracy\", mode=\"max\", verbose=1)\n",
        "\n",
        "# Early stopping\n",
        "early_stopping_callback = EarlyStopping(monitor=\"val_accuracy\", mode=\"max\", patience=20, verbose=1, restore_best_weights=True)\n",
        "\n",
        "# Reduce learning rate\n",
        "reduce_lr_callback = ReduceLROnPlateau(monitor=\"val_loss\", factor=0.1, patience=5, verbose=1, mode=\"min\", min_delta=0.0001, cooldown=0, min_lr=0)\n",
        "\n",
        "# Callbacks list\n",
        "callbacks=[checkpoint_callback, early_stopping_callback, reduce_lr_callback]"
      ]
    },
    {
      "cell_type": "code",
      "execution_count": 15,
      "metadata": {
        "colab": {
          "base_uri": "https://localhost:8080/"
        },
        "id": "BxfuryxEERe5",
        "outputId": "723414ad-f6f9-4947-998f-cc752963e933",
        "tags": []
      },
      "outputs": [
        {
          "name": "stdout",
          "output_type": "stream",
          "text": [
            "Model: \"sequential_1\"\n",
            "_________________________________________________________________\n",
            " Layer (type)                Output Shape              Param #   \n",
            "=================================================================\n",
            " xception (Functional)       (None, 7, 7, 2048)        20861480  \n",
            "                                                                 \n",
            " global_average_pooling2d (G  (None, 2048)             0         \n",
            " lobalAveragePooling2D)                                          \n",
            "                                                                 \n",
            " dropout_1 (Dropout)         (None, 2048)              0         \n",
            "                                                                 \n",
            " dense_2 (Dense)             (None, 256)               524544    \n",
            "                                                                 \n",
            " dense_3 (Dense)             (None, 2)                 514       \n",
            "                                                                 \n",
            "=================================================================\n",
            "Total params: 21,386,538\n",
            "Trainable params: 21,332,010\n",
            "Non-trainable params: 54,528\n",
            "_________________________________________________________________\n"
          ]
        }
      ],
      "source": [
        "# Define DIY Model\n",
        "Xception_model_2 = tf.keras.models.Sequential([\n",
        "    # Xception Layer\n",
        "    Xception(include_top=False,weights='imagenet',input_shape=(224, 224, 3)),\n",
        "    # Global Average Pooling Layer\n",
        "    tf.keras.layers.GlobalAveragePooling2D(),\n",
        "    # Drop Out Layer\n",
        "    tf.keras.layers.Dropout(0.2),\n",
        "    # 256 neuron hidden layer\n",
        "    tf.keras.layers.Dense(256, activation='relu'),\n",
        "    # Output\n",
        "    tf.keras.layers.Dense(2, activation='softmax') \n",
        "  ])\n",
        "\n",
        "\n",
        "# Compile Model\n",
        "Xception_model_2.compile(loss='categorical_crossentropy',optimizer=tf.keras.optimizers.Adam(), metrics=['accuracy']) \n",
        "\n",
        "# Model Summary\n",
        "Xception_model_2.summary()"
      ]
    },
    {
      "cell_type": "code",
      "execution_count": 16,
      "metadata": {
        "colab": {
          "base_uri": "https://localhost:8080/"
        },
        "id": "3hNRyuMnERe6",
        "outputId": "ed28a189-464f-45b1-c3d9-a6fbf25cf475",
        "tags": []
      },
      "outputs": [
        {
          "name": "stdout",
          "output_type": "stream",
          "text": [
            "Epoch 1/100\n",
            "202/202 [==============================] - ETA: 0s - loss: 0.1397 - accuracy: 0.9534\n",
            "Epoch 1: val_accuracy improved from -inf to 0.99792, saving model to BellPaper_Xception_model2_Based_Non_Augmented.h5\n",
            "202/202 [==============================] - 97s 341ms/step - loss: 0.1397 - accuracy: 0.9534 - val_loss: 0.0138 - val_accuracy: 0.9979 - lr: 0.0010\n",
            "Epoch 2/100\n",
            "202/202 [==============================] - ETA: 0s - loss: 0.0381 - accuracy: 0.9854\n",
            "Epoch 2: val_accuracy did not improve from 0.99792\n",
            "202/202 [==============================] - 66s 326ms/step - loss: 0.0381 - accuracy: 0.9854 - val_loss: 0.0050 - val_accuracy: 0.9979 - lr: 0.0010\n",
            "Epoch 3/100\n",
            "202/202 [==============================] - ETA: 0s - loss: 0.0364 - accuracy: 0.9879\n",
            "Epoch 3: val_accuracy did not improve from 0.99792\n",
            "202/202 [==============================] - 66s 326ms/step - loss: 0.0364 - accuracy: 0.9879 - val_loss: 0.1562 - val_accuracy: 0.9647 - lr: 0.0010\n",
            "Epoch 4/100\n",
            "202/202 [==============================] - ETA: 0s - loss: 0.0364 - accuracy: 0.9881\n",
            "Epoch 4: val_accuracy did not improve from 0.99792\n",
            "202/202 [==============================] - 66s 327ms/step - loss: 0.0364 - accuracy: 0.9881 - val_loss: 0.0107 - val_accuracy: 0.9969 - lr: 0.0010\n",
            "Epoch 5/100\n",
            "202/202 [==============================] - ETA: 0s - loss: 0.0181 - accuracy: 0.9950\n",
            "Epoch 5: val_accuracy did not improve from 0.99792\n",
            "202/202 [==============================] - 65s 323ms/step - loss: 0.0181 - accuracy: 0.9950 - val_loss: 0.0176 - val_accuracy: 0.9958 - lr: 0.0010\n",
            "Epoch 6/100\n",
            "202/202 [==============================] - ETA: 0s - loss: 0.0121 - accuracy: 0.9960\n",
            "Epoch 6: val_accuracy did not improve from 0.99792\n",
            "202/202 [==============================] - 66s 327ms/step - loss: 0.0121 - accuracy: 0.9960 - val_loss: 0.0099 - val_accuracy: 0.9958 - lr: 0.0010\n",
            "Epoch 7/100\n",
            "202/202 [==============================] - ETA: 0s - loss: 0.0377 - accuracy: 0.9879\n",
            "Epoch 7: val_accuracy did not improve from 0.99792\n",
            "\n",
            "Epoch 7: ReduceLROnPlateau reducing learning rate to 0.00010000000474974513.\n",
            "202/202 [==============================] - 67s 330ms/step - loss: 0.0377 - accuracy: 0.9879 - val_loss: 3.4049 - val_accuracy: 0.9428 - lr: 0.0010\n",
            "Epoch 8/100\n",
            "202/202 [==============================] - ETA: 0s - loss: 0.0108 - accuracy: 0.9965\n",
            "Epoch 8: val_accuracy did not improve from 0.99792\n",
            "202/202 [==============================] - 66s 326ms/step - loss: 0.0108 - accuracy: 0.9965 - val_loss: 0.0059 - val_accuracy: 0.9979 - lr: 1.0000e-04\n",
            "Epoch 9/100\n",
            "202/202 [==============================] - ETA: 0s - loss: 0.0073 - accuracy: 0.9973\n",
            "Epoch 9: val_accuracy did not improve from 0.99792\n",
            "202/202 [==============================] - 66s 326ms/step - loss: 0.0073 - accuracy: 0.9973 - val_loss: 0.0040 - val_accuracy: 0.9979 - lr: 1.0000e-04\n",
            "Epoch 10/100\n",
            "202/202 [==============================] - ETA: 0s - loss: 0.0037 - accuracy: 0.9988\n",
            "Epoch 10: val_accuracy did not improve from 0.99792\n",
            "202/202 [==============================] - 65s 321ms/step - loss: 0.0037 - accuracy: 0.9988 - val_loss: 0.0041 - val_accuracy: 0.9979 - lr: 1.0000e-04\n",
            "Epoch 11/100\n",
            "202/202 [==============================] - ETA: 0s - loss: 0.0020 - accuracy: 0.9998\n",
            "Epoch 11: val_accuracy did not improve from 0.99792\n",
            "202/202 [==============================] - 65s 323ms/step - loss: 0.0020 - accuracy: 0.9998 - val_loss: 0.0036 - val_accuracy: 0.9979 - lr: 1.0000e-04\n",
            "Epoch 12/100\n",
            "202/202 [==============================] - ETA: 0s - loss: 0.0053 - accuracy: 0.9988\n",
            "Epoch 12: val_accuracy improved from 0.99792 to 0.99896, saving model to BellPaper_Xception_model2_Based_Non_Augmented.h5\n",
            "202/202 [==============================] - 72s 355ms/step - loss: 0.0053 - accuracy: 0.9988 - val_loss: 0.0028 - val_accuracy: 0.9990 - lr: 1.0000e-04\n",
            "Epoch 13/100\n",
            "202/202 [==============================] - ETA: 0s - loss: 0.0027 - accuracy: 0.9995\n",
            "Epoch 13: val_accuracy did not improve from 0.99896\n",
            "202/202 [==============================] - 66s 326ms/step - loss: 0.0027 - accuracy: 0.9995 - val_loss: 0.0021 - val_accuracy: 0.9990 - lr: 1.0000e-04\n",
            "Epoch 14/100\n",
            "202/202 [==============================] - ETA: 0s - loss: 7.2232e-04 - accuracy: 1.0000\n",
            "Epoch 14: val_accuracy did not improve from 0.99896\n",
            "202/202 [==============================] - 66s 328ms/step - loss: 7.2232e-04 - accuracy: 1.0000 - val_loss: 0.0020 - val_accuracy: 0.9990 - lr: 1.0000e-04\n",
            "Epoch 15/100\n",
            "202/202 [==============================] - ETA: 0s - loss: 5.7063e-04 - accuracy: 0.9998\n",
            "Epoch 15: val_accuracy did not improve from 0.99896\n",
            "202/202 [==============================] - 67s 330ms/step - loss: 5.7063e-04 - accuracy: 0.9998 - val_loss: 0.0023 - val_accuracy: 0.9979 - lr: 1.0000e-04\n",
            "Epoch 16/100\n",
            "202/202 [==============================] - ETA: 0s - loss: 5.1866e-04 - accuracy: 0.9998\n",
            "Epoch 16: val_accuracy did not improve from 0.99896\n",
            "202/202 [==============================] - 66s 327ms/step - loss: 5.1866e-04 - accuracy: 0.9998 - val_loss: 0.0021 - val_accuracy: 0.9990 - lr: 1.0000e-04\n",
            "Epoch 17/100\n",
            "202/202 [==============================] - ETA: 0s - loss: 6.7481e-04 - accuracy: 0.9998\n",
            "Epoch 17: val_accuracy did not improve from 0.99896\n",
            "202/202 [==============================] - 66s 325ms/step - loss: 6.7481e-04 - accuracy: 0.9998 - val_loss: 0.0017 - val_accuracy: 0.9990 - lr: 1.0000e-04\n",
            "Epoch 18/100\n",
            "202/202 [==============================] - ETA: 0s - loss: 1.9306e-04 - accuracy: 1.0000\n",
            "Epoch 18: val_accuracy did not improve from 0.99896\n",
            "202/202 [==============================] - 67s 332ms/step - loss: 1.9306e-04 - accuracy: 1.0000 - val_loss: 0.0018 - val_accuracy: 0.9990 - lr: 1.0000e-04\n",
            "Epoch 19/100\n",
            "202/202 [==============================] - ETA: 0s - loss: 2.9940e-04 - accuracy: 1.0000\n",
            "Epoch 19: val_accuracy did not improve from 0.99896\n",
            "202/202 [==============================] - 66s 325ms/step - loss: 2.9940e-04 - accuracy: 1.0000 - val_loss: 0.0020 - val_accuracy: 0.9990 - lr: 1.0000e-04\n",
            "Epoch 20/100\n",
            "202/202 [==============================] - ETA: 0s - loss: 1.1939e-04 - accuracy: 1.0000\n",
            "Epoch 20: val_accuracy did not improve from 0.99896\n",
            "202/202 [==============================] - 67s 329ms/step - loss: 1.1939e-04 - accuracy: 1.0000 - val_loss: 0.0020 - val_accuracy: 0.9990 - lr: 1.0000e-04\n",
            "Epoch 21/100\n",
            "202/202 [==============================] - ETA: 0s - loss: 6.2346e-05 - accuracy: 1.0000\n",
            "Epoch 21: val_accuracy did not improve from 0.99896\n",
            "202/202 [==============================] - 65s 324ms/step - loss: 6.2346e-05 - accuracy: 1.0000 - val_loss: 0.0020 - val_accuracy: 0.9990 - lr: 1.0000e-04\n",
            "Epoch 22/100\n",
            "202/202 [==============================] - ETA: 0s - loss: 2.6638e-04 - accuracy: 1.0000\n",
            "Epoch 22: val_accuracy did not improve from 0.99896\n",
            "\n",
            "Epoch 22: ReduceLROnPlateau reducing learning rate to 1.0000000474974514e-05.\n",
            "202/202 [==============================] - 66s 326ms/step - loss: 2.6638e-04 - accuracy: 1.0000 - val_loss: 0.0039 - val_accuracy: 0.9990 - lr: 1.0000e-04\n",
            "Epoch 23/100\n",
            "202/202 [==============================] - ETA: 0s - loss: 1.7635e-04 - accuracy: 1.0000\n",
            "Epoch 23: val_accuracy did not improve from 0.99896\n",
            "202/202 [==============================] - 66s 327ms/step - loss: 1.7635e-04 - accuracy: 1.0000 - val_loss: 0.0037 - val_accuracy: 0.9990 - lr: 1.0000e-05\n",
            "Epoch 24/100\n",
            "202/202 [==============================] - ETA: 0s - loss: 7.3063e-05 - accuracy: 1.0000\n",
            "Epoch 24: val_accuracy did not improve from 0.99896\n",
            "202/202 [==============================] - 65s 322ms/step - loss: 7.3063e-05 - accuracy: 1.0000 - val_loss: 0.0038 - val_accuracy: 0.9990 - lr: 1.0000e-05\n",
            "Epoch 25/100\n",
            "202/202 [==============================] - ETA: 0s - loss: 6.4156e-05 - accuracy: 1.0000\n",
            "Epoch 25: val_accuracy did not improve from 0.99896\n",
            "202/202 [==============================] - 66s 326ms/step - loss: 6.4156e-05 - accuracy: 1.0000 - val_loss: 0.0036 - val_accuracy: 0.9990 - lr: 1.0000e-05\n",
            "Epoch 26/100\n",
            "202/202 [==============================] - ETA: 0s - loss: 1.7918e-04 - accuracy: 1.0000\n",
            "Epoch 26: val_accuracy did not improve from 0.99896\n",
            "202/202 [==============================] - 67s 329ms/step - loss: 1.7918e-04 - accuracy: 1.0000 - val_loss: 0.0034 - val_accuracy: 0.9990 - lr: 1.0000e-05\n",
            "Epoch 27/100\n",
            "202/202 [==============================] - ETA: 0s - loss: 7.1105e-05 - accuracy: 1.0000\n",
            "Epoch 27: val_accuracy did not improve from 0.99896\n",
            "\n",
            "Epoch 27: ReduceLROnPlateau reducing learning rate to 1.0000000656873453e-06.\n",
            "202/202 [==============================] - 65s 323ms/step - loss: 7.1105e-05 - accuracy: 1.0000 - val_loss: 0.0029 - val_accuracy: 0.9990 - lr: 1.0000e-05\n",
            "Epoch 28/100\n",
            "202/202 [==============================] - ETA: 0s - loss: 4.5346e-05 - accuracy: 1.0000\n",
            "Epoch 28: val_accuracy did not improve from 0.99896\n",
            "202/202 [==============================] - 65s 323ms/step - loss: 4.5346e-05 - accuracy: 1.0000 - val_loss: 0.0028 - val_accuracy: 0.9990 - lr: 1.0000e-06\n",
            "Epoch 29/100\n",
            "202/202 [==============================] - ETA: 0s - loss: 5.3836e-05 - accuracy: 1.0000\n",
            "Epoch 29: val_accuracy did not improve from 0.99896\n",
            "202/202 [==============================] - 66s 326ms/step - loss: 5.3836e-05 - accuracy: 1.0000 - val_loss: 0.0027 - val_accuracy: 0.9990 - lr: 1.0000e-06\n",
            "Epoch 30/100\n",
            "202/202 [==============================] - ETA: 0s - loss: 7.0121e-05 - accuracy: 1.0000\n",
            "Epoch 30: val_accuracy did not improve from 0.99896\n",
            "202/202 [==============================] - 65s 323ms/step - loss: 7.0121e-05 - accuracy: 1.0000 - val_loss: 0.0026 - val_accuracy: 0.9990 - lr: 1.0000e-06\n",
            "Epoch 31/100\n",
            "202/202 [==============================] - ETA: 0s - loss: 2.9086e-04 - accuracy: 0.9998\n",
            "Epoch 31: val_accuracy did not improve from 0.99896\n",
            "202/202 [==============================] - 66s 324ms/step - loss: 2.9086e-04 - accuracy: 0.9998 - val_loss: 0.0028 - val_accuracy: 0.9990 - lr: 1.0000e-06\n",
            "Epoch 32/100\n",
            "202/202 [==============================] - ETA: 0s - loss: 8.5187e-05 - accuracy: 1.0000\n",
            "Epoch 32: val_accuracy did not improve from 0.99896\n",
            "Restoring model weights from the end of the best epoch: 12.\n",
            "\n",
            "Epoch 32: ReduceLROnPlateau reducing learning rate to 1.0000001111620805e-07.\n",
            "202/202 [==============================] - 66s 327ms/step - loss: 8.5187e-05 - accuracy: 1.0000 - val_loss: 0.0028 - val_accuracy: 0.9990 - lr: 1.0000e-06\n",
            "Epoch 32: early stopping\n"
          ]
        }
      ],
      "source": [
        "# Define the number of epochs\n",
        "num_epochs = 100\n",
        "\n",
        "# Train the model\n",
        "history_Xception_model_2 = Xception_model_2.fit(train_generator, epochs=num_epochs, validation_data=validation_generator, callbacks=callbacks)"
      ]
    },
    {
      "cell_type": "code",
      "execution_count": 17,
      "metadata": {
        "colab": {
          "base_uri": "https://localhost:8080/",
          "height": 904
        },
        "id": "_rNy1cYmERe6",
        "outputId": "bc4837aa-7fc3-40d0-802b-dfd77ef95ca8",
        "tags": []
      },
      "outputs": [
        {
          "data": {
            "text/plain": [
              "Text(0.5, 1.0, 'Training and validation loss DIY Model')"
            ]
          },
          "execution_count": 17,
          "metadata": {},
          "output_type": "execute_result"
        },
        {
          "data": {
            "image/png": "[encoded data removed]",
            "text/plain": [
              "<Figure size 640x480 with 1 Axes>"
            ]
          },
          "metadata": {},
          "output_type": "display_data"
        },
        {
          "data": {
            "image/png": "[encoded data removed]",
            "text/plain": [
              "<Figure size 640x480 with 1 Axes>"
            ]
          },
          "metadata": {},
          "output_type": "display_data"
        }
      ],
      "source": [
        "#-----------------------------------------------------------\n",
        "# Retrieve a list of list results on training and test data\n",
        "# sets for each training epoch\n",
        "#-----------------------------------------------------------\n",
        "acc      = history_Xception_model_2.history['accuracy' ]\n",
        "val_acc  = history_Xception_model_2.history['val_accuracy' ]\n",
        "loss     = history_Xception_model_2.history['loss' ]\n",
        "val_loss = history_Xception_model_2.history['val_loss' ]\n",
        "\n",
        "epochs   = range(len(acc)) # Get number of epochs\n",
        "\n",
        "#------------------------------------------------\n",
        "# Plot training and validation accuracy per epoch\n",
        "#------------------------------------------------\n",
        "plt.plot  (epochs, acc )\n",
        "plt.plot  (epochs, val_acc )\n",
        "plt.title ('Training and validation accuracy DIY Model')\n",
        "plt.figure()\n",
        "\n",
        "#------------------------------------------------\n",
        "# Plot training and validation loss per epoch\n",
        "#------------------------------------------------\n",
        "plt.plot  (epochs, loss)\n",
        "plt.plot  (epochs, val_loss)\n",
        "plt.title ('Training and validation loss DIY Model')"
      ]
    }
  ],
  "metadata": {
    "accelerator": "GPU",
    "colab": {
      "gpuType": "T4",
      "provenance": []
    },
    "gpuClass": "standard",
    "kernelspec": {
      "display_name": "Python 3 (ipykernel)",
      "language": "python",
      "name": "python3"
    },
    "language_info": {
      "codemirror_mode": {
        "name": "ipython",
        "version": 3
      },
      "file_extension": ".py",
      "mimetype": "text/x-python",
      "name": "python",
      "nbconvert_exporter": "python",
      "pygments_lexer": "ipython3",
      "version": "3.10.0"
    }
  },
  "nbformat": 4,
  "nbformat_minor": 0
}
