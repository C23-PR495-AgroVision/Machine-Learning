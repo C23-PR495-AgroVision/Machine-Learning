{
 "cells": [
  {
   "attachments": {},
   "cell_type": "markdown",
   "metadata": {},
   "source": [
    "# Library"
   ]
  },
  {
   "cell_type": "code",
   "execution_count": 1,
   "metadata": {
    "tags": []
   },
   "outputs": [
    {
     "name": "stdout",
     "output_type": "stream",
     "text": [
      "Requirement already satisfied: matplotlib in c:\\users\\hasan\\anaconda3\\envs\\tensorflow_gpu_zein\\lib\\site-packages (3.6.3)\n",
      "Requirement already satisfied: kiwisolver>=1.0.1 in c:\\users\\hasan\\anaconda3\\envs\\tensorflow_gpu_zein\\lib\\site-packages (from matplotlib) (1.4.4)\n",
      "Requirement already satisfied: contourpy>=1.0.1 in c:\\users\\hasan\\anaconda3\\envs\\tensorflow_gpu_zein\\lib\\site-packages (from matplotlib) (1.0.7)\n",
      "Requirement already satisfied: pillow>=6.2.0 in c:\\users\\hasan\\anaconda3\\envs\\tensorflow_gpu_zein\\lib\\site-packages (from matplotlib) (9.4.0)\n",
      "Requirement already satisfied: pyparsing>=2.2.1 in c:\\users\\hasan\\anaconda3\\envs\\tensorflow_gpu_zein\\lib\\site-packages (from matplotlib) (3.0.9)\n",
      "Requirement already satisfied: python-dateutil>=2.7 in c:\\users\\hasan\\anaconda3\\envs\\tensorflow_gpu_zein\\lib\\site-packages (from matplotlib) (2.8.2)\n",
      "Requirement already satisfied: packaging>=20.0 in c:\\users\\hasan\\anaconda3\\envs\\tensorflow_gpu_zein\\lib\\site-packages (from matplotlib) (23.1)\n",
      "Requirement already satisfied: fonttools>=4.22.0 in c:\\users\\hasan\\anaconda3\\envs\\tensorflow_gpu_zein\\lib\\site-packages (from matplotlib) (4.39.2)\n",
      "Requirement already satisfied: numpy>=1.19 in c:\\users\\hasan\\anaconda3\\envs\\tensorflow_gpu_zein\\lib\\site-packages (from matplotlib) (1.23.5)\n",
      "Requirement already satisfied: cycler>=0.10 in c:\\users\\hasan\\anaconda3\\envs\\tensorflow_gpu_zein\\lib\\site-packages (from matplotlib) (0.11.0)\n",
      "Requirement already satisfied: six>=1.5 in c:\\users\\hasan\\anaconda3\\envs\\tensorflow_gpu_zein\\lib\\site-packages (from python-dateutil>=2.7->matplotlib) (1.16.0)\n",
      "Note: you may need to restart the kernel to use updated packages.\n"
     ]
    },
    {
     "name": "stderr",
     "output_type": "stream",
     "text": [
      "WARNING: Ignoring invalid distribution -rotobuf (c:\\users\\hasan\\anaconda3\\envs\\tensorflow_gpu_zein\\lib\\site-packages)\n",
      "WARNING: Ignoring invalid distribution -rotobuf (c:\\users\\hasan\\anaconda3\\envs\\tensorflow_gpu_zein\\lib\\site-packages)\n",
      "WARNING: Ignoring invalid distribution -rotobuf (c:\\users\\hasan\\anaconda3\\envs\\tensorflow_gpu_zein\\lib\\site-packages)\n",
      "WARNING: Ignoring invalid distribution -rotobuf (c:\\users\\hasan\\anaconda3\\envs\\tensorflow_gpu_zein\\lib\\site-packages)\n",
      "WARNING: Ignoring invalid distribution -rotobuf (c:\\users\\hasan\\anaconda3\\envs\\tensorflow_gpu_zein\\lib\\site-packages)\n",
      "WARNING: Ignoring invalid distribution -rotobuf (c:\\users\\hasan\\anaconda3\\envs\\tensorflow_gpu_zein\\lib\\site-packages)\n"
     ]
    }
   ],
   "source": [
    "pip install matplotlib"
   ]
  },
  {
   "cell_type": "code",
   "execution_count": 2,
   "metadata": {
    "tags": []
   },
   "outputs": [
    {
     "name": "stdout",
     "output_type": "stream",
     "text": [
      "Requirement already satisfied: opendatasets in c:\\users\\hasan\\anaconda3\\envs\\tensorflow_gpu_zein\\lib\\site-packages (0.1.22)\n",
      "Requirement already satisfied: tqdm in c:\\users\\hasan\\anaconda3\\envs\\tensorflow_gpu_zein\\lib\\site-packages (from opendatasets) (4.64.1)\n",
      "Requirement already satisfied: kaggle in c:\\users\\hasan\\anaconda3\\envs\\tensorflow_gpu_zein\\lib\\site-packages (from opendatasets) (1.5.13)\n",
      "Requirement already satisfied: click in c:\\users\\hasan\\anaconda3\\envs\\tensorflow_gpu_zein\\lib\\site-packages (from opendatasets) (8.1.3)\n",
      "Requirement already satisfied: colorama in c:\\users\\hasan\\anaconda3\\envs\\tensorflow_gpu_zein\\lib\\site-packages (from click->opendatasets) (0.4.6)\n",
      "Requirement already satisfied: certifi in c:\\users\\hasan\\anaconda3\\envs\\tensorflow_gpu_zein\\lib\\site-packages (from kaggle->opendatasets) (2022.12.7)\n",
      "Requirement already satisfied: six>=1.10 in c:\\users\\hasan\\anaconda3\\envs\\tensorflow_gpu_zein\\lib\\site-packages (from kaggle->opendatasets) (1.16.0)\n",
      "Requirement already satisfied: python-slugify in c:\\users\\hasan\\anaconda3\\envs\\tensorflow_gpu_zein\\lib\\site-packages (from kaggle->opendatasets) (8.0.1)\n",
      "Requirement already satisfied: urllib3 in c:\\users\\hasan\\anaconda3\\envs\\tensorflow_gpu_zein\\lib\\site-packages (from kaggle->opendatasets) (1.26.15)\n",
      "Requirement already satisfied: requests in c:\\users\\hasan\\anaconda3\\envs\\tensorflow_gpu_zein\\lib\\site-packages (from kaggle->opendatasets) (2.28.2)\n",
      "Requirement already satisfied: python-dateutil in c:\\users\\hasan\\anaconda3\\envs\\tensorflow_gpu_zein\\lib\\site-packages (from kaggle->opendatasets) (2.8.2)\n",
      "Requirement already satisfied: text-unidecode>=1.3 in c:\\users\\hasan\\anaconda3\\envs\\tensorflow_gpu_zein\\lib\\site-packages (from python-slugify->kaggle->opendatasets) (1.3)\n",
      "Requirement already satisfied: idna<4,>=2.5 in c:\\users\\hasan\\anaconda3\\envs\\tensorflow_gpu_zein\\lib\\site-packages (from requests->kaggle->opendatasets) (3.4)\n",
      "Requirement already satisfied: charset-normalizer<4,>=2 in c:\\users\\hasan\\anaconda3\\envs\\tensorflow_gpu_zein\\lib\\site-packages (from requests->kaggle->opendatasets) (3.1.0)\n",
      "Note: you may need to restart the kernel to use updated packages.\n"
     ]
    },
    {
     "name": "stderr",
     "output_type": "stream",
     "text": [
      "WARNING: Ignoring invalid distribution -rotobuf (c:\\users\\hasan\\anaconda3\\envs\\tensorflow_gpu_zein\\lib\\site-packages)\n",
      "WARNING: Ignoring invalid distribution -rotobuf (c:\\users\\hasan\\anaconda3\\envs\\tensorflow_gpu_zein\\lib\\site-packages)\n",
      "WARNING: Ignoring invalid distribution -rotobuf (c:\\users\\hasan\\anaconda3\\envs\\tensorflow_gpu_zein\\lib\\site-packages)\n",
      "WARNING: Ignoring invalid distribution -rotobuf (c:\\users\\hasan\\anaconda3\\envs\\tensorflow_gpu_zein\\lib\\site-packages)\n",
      "WARNING: Ignoring invalid distribution -rotobuf (c:\\users\\hasan\\anaconda3\\envs\\tensorflow_gpu_zein\\lib\\site-packages)\n",
      "WARNING: Ignoring invalid distribution -rotobuf (c:\\users\\hasan\\anaconda3\\envs\\tensorflow_gpu_zein\\lib\\site-packages)\n"
     ]
    }
   ],
   "source": [
    "pip install opendatasets"
   ]
  },
  {
   "cell_type": "code",
   "execution_count": 3,
   "metadata": {
    "tags": []
   },
   "outputs": [],
   "source": [
    "# Library to dataset\n",
    "import opendatasets as od\n",
    "import os\n",
    "import zipfile\n",
    "import numpy as np\n",
    "\n",
    "# Surpress Warnings\n",
    "import warnings\n",
    "warnings.filterwarnings('ignore')\n",
    "os.environ['TF_CPP_MIN_LOG_LEVEL'] = '3' \n",
    "# library visualization\n",
    "import matplotlib.pyplot as plt\n",
    "\n",
    "# Library Tensorflow\n",
    "import tensorflow as tf\n",
    "from tensorflow import keras\n",
    "from tensorflow.keras.preprocessing.image import ImageDataGenerator\n",
    "from tensorflow.keras.callbacks import ModelCheckpoint, EarlyStopping, ReduceLROnPlateau\n",
    "from tensorflow.keras.applications.densenet import DenseNet121\n",
    "# Others\n",
    "import shutil\n",
    "import random"
   ]
  },
  {
   "attachments": {},
   "cell_type": "markdown",
   "metadata": {},
   "source": [
    "# Load dataset"
   ]
  },
  {
   "cell_type": "code",
   "execution_count": 4,
   "metadata": {
    "tags": []
   },
   "outputs": [
    {
     "name": "stdout",
     "output_type": "stream",
     "text": [
      "==========================Training Data====================\n",
      "Found 4033 files belonging to 2 classes.\n",
      "==========================Validation Data====================\n",
      "Found 962 files belonging to 2 classes.\n"
     ]
    }
   ],
   "source": [
    "# Load dataset\n",
    "print(\"==========================Training Data====================\")\n",
    "train_data = tf.keras.preprocessing.image_dataset_from_directory(\n",
    "    \"Dataset/Bell_pepper/train\",\n",
    "    label_mode=\"categorical\",\n",
    "    class_names= ['Pepper bell Bacterial spot', 'Pepper bell healthy'],\n",
    "    color_mode=\"rgb\",\n",
    "    batch_size=1,\n",
    "    image_size=(256, 256),\n",
    "    shuffle=True,\n",
    "    seed=123\n",
    ")\n",
    "print(\"==========================Validation Data====================\")\n",
    "val_data = tf.keras.preprocessing.image_dataset_from_directory(\n",
    "    \"Dataset/Bell_pepper/test\",\n",
    "    label_mode=\"categorical\",\n",
    "    class_names= ['Pepper bell Bacterial spot', 'Pepper bell healthy'],\n",
    "    color_mode=\"rgb\",\n",
    "    batch_size=1,\n",
    "    image_size=(256, 256),\n",
    "    shuffle=True,\n",
    "    seed=123\n",
    ")"
   ]
  },
  {
   "cell_type": "code",
   "execution_count": 5,
   "metadata": {
    "tags": []
   },
   "outputs": [
    {
     "name": "stdout",
     "output_type": "stream",
     "text": [
      "Found 4033 images belonging to 2 classes.\n",
      "Found 962 images belonging to 2 classes.\n"
     ]
    }
   ],
   "source": [
    "# All images will be rescaled by 1./255.\n",
    "train_datagen = ImageDataGenerator(rescale = 1.0/256.)\n",
    "test_datagen  = ImageDataGenerator(rescale = 1.0/256.)\n",
    "\n",
    "# --------------------\n",
    "# Flow training images in batches of 20 using train_datagen generator\n",
    "# --------------------\n",
    "train_generator = train_datagen.flow_from_directory(\"Dataset/Bell_pepper/train\",\n",
    "                                                    batch_size=20,\n",
    "                                                    class_mode='categorical',\n",
    "                                                    target_size=(224, 224))     \n",
    "# --------------------\n",
    "# Flow validation images in batches of 20 using test_datagen generator\n",
    "# --------------------\n",
    "validation_generator =  test_datagen.flow_from_directory(\"Dataset/Bell_pepper/test\",\n",
    "                                                         batch_size=20,\n",
    "                                                         class_mode  = 'categorical',\n",
    "                                                         target_size = (224, 224))"
   ]
  },
  {
   "attachments": {},
   "cell_type": "markdown",
   "metadata": {},
   "source": [
    "# List Resource"
   ]
  },
  {
   "cell_type": "code",
   "execution_count": 6,
   "metadata": {
    "tags": []
   },
   "outputs": [
    {
     "name": "stdout",
     "output_type": "stream",
     "text": [
      "Wed May 24 16:37:55 2023       \n",
      "+---------------------------------------------------------------------------------------+\n",
      "| NVIDIA-SMI 531.79                 Driver Version: 531.79       CUDA Version: 12.1     |\n",
      "|-----------------------------------------+----------------------+----------------------+\n",
      "| GPU  Name                      TCC/WDDM | Bus-Id        Disp.A | Volatile Uncorr. ECC |\n",
      "| Fan  Temp  Perf            Pwr:Usage/Cap|         Memory-Usage | GPU-Util  Compute M. |\n",
      "|                                         |                      |               MIG M. |\n",
      "|=========================================+======================+======================|\n",
      "|   0  NVIDIA GeForce RTX 3060 L...  WDDM | 00000000:01:00.0  On |                  N/A |\n",
      "| N/A   55C    P0               40W /  N/A|   4517MiB /  6144MiB |      3%      Default |\n",
      "|                                         |                      |                  N/A |\n",
      "+-----------------------------------------+----------------------+----------------------+\n",
      "                                                                                         \n",
      "+---------------------------------------------------------------------------------------+\n",
      "| Processes:                                                                            |\n",
      "|  GPU   GI   CI        PID   Type   Process name                            GPU Memory |\n",
      "|        ID   ID                                                             Usage      |\n",
      "|=======================================================================================|\n",
      "|    0   N/A  N/A      1464    C+G   ...nt.CBS_cw5n1h2txyewy\\SearchHost.exe    N/A      |\n",
      "|    0   N/A  N/A      2160    C+G   ...16.0_x86__zpdnekdrzrea0\\Spotify.exe    N/A      |\n",
      "|    0   N/A  N/A      2972    C+G   ...2txyewy\\StartMenuExperienceHost.exe    N/A      |\n",
      "|    0   N/A  N/A      6036    C+G   ...siveControlPanel\\SystemSettings.exe    N/A      |\n",
      "|    0   N/A  N/A      6164    C+G   ...1.0_x64__8wekyb3d8bbwe\\Video.UI.exe    N/A      |\n",
      "|    0   N/A  N/A      8596    C+G   ...on\\113.0.1774.50\\msedgewebview2.exe    N/A      |\n",
      "|    0   N/A  N/A      9816    C+G   C:\\WINDOWS\\explorer.exe                   N/A      |\n",
      "|    0   N/A  N/A     10808    C+G   ...les\\Microsoft OneDrive\\OneDrive.exe    N/A      |\n",
      "|    0   N/A  N/A     13840    C+G   ...x64__qmba6cd70vzyy\\ArmouryCrate.exe    N/A      |\n",
      "|    0   N/A  N/A     14912    C+G   ...t.LockApp_cw5n1h2txyewy\\LockApp.exe    N/A      |\n",
      "|    0   N/A  N/A     15568    C+G   ...ekyb3d8bbwe\\PhoneExperienceHost.exe    N/A      |\n",
      "|    0   N/A  N/A     17220    C+G   ...Programs\\Microsoft VS Code\\Code.exe    N/A      |\n",
      "|    0   N/A  N/A     17780    C+G   ...GeForce Experience\\NVIDIA Share.exe    N/A      |\n",
      "|    0   N/A  N/A     18696    C+G   ...oogle\\Chrome\\Application\\chrome.exe    N/A      |\n",
      "|    0   N/A  N/A     18912    C+G   ...les\\Microsoft OneDrive\\OneDrive.exe    N/A      |\n",
      "|    0   N/A  N/A     19908    C+G   ...les\\AMD\\CNext\\CNext\\AMDRSSrcExt.exe    N/A      |\n",
      "|    0   N/A  N/A     20296    C+G   ...\\AMD\\CNext\\CNext\\RadeonSoftware.exe    N/A      |\n",
      "|    0   N/A  N/A     20416    C+G   ...64__v826wp6bftszj\\TranslucentTB.exe    N/A      |\n",
      "|    0   N/A  N/A     23520    C+G   ...2.0_x64__cv1g1gvanyjgm\\WhatsApp.exe    N/A      |\n",
      "|    0   N/A  N/A     24528    C+G   ...CBS_cw5n1h2txyewy\\TextInputHost.exe    N/A      |\n",
      "|    0   N/A  N/A     25736      C   ...envs\\tensorflow_gpu_zein\\python.exe    N/A      |\n",
      "+---------------------------------------------------------------------------------------+\n"
     ]
    }
   ],
   "source": [
    "# Check GPU\n",
    "!nvidia-smi"
   ]
  },
  {
   "cell_type": "code",
   "execution_count": 7,
   "metadata": {
    "tags": []
   },
   "outputs": [
    {
     "data": {
      "text/plain": [
       "[PhysicalDevice(name='/physical_device:GPU:0', device_type='GPU')]"
      ]
     },
     "execution_count": 7,
     "metadata": {},
     "output_type": "execute_result"
    }
   ],
   "source": [
    "# Lis physical devices\n",
    "devices = tf.config.experimental.list_physical_devices(\"GPU\")\n",
    "devices"
   ]
  },
  {
   "cell_type": "code",
   "execution_count": 8,
   "metadata": {
    "tags": []
   },
   "outputs": [
    {
     "name": "stdout",
     "output_type": "stream",
     "text": [
      "INFO:tensorflow:Using MirroredStrategy with devices ('/job:localhost/replica:0/task:0/device:GPU:0',)\n"
     ]
    }
   ],
   "source": [
    "# Define the GPU strategy\n",
    "mirrored_strategy = tf.distribute.MirroredStrategy(devices=[\"/gpu:0\"])"
   ]
  },
  {
   "attachments": {},
   "cell_type": "markdown",
   "metadata": {},
   "source": [
    "# Modelling Without Augmentation"
   ]
  },
  {
   "attachments": {},
   "cell_type": "markdown",
   "metadata": {},
   "source": [
    "## DIY Model 1"
   ]
  },
  {
   "cell_type": "code",
   "execution_count": 9,
   "metadata": {
    "tags": []
   },
   "outputs": [],
   "source": [
    "# Difine the callbacks\n",
    "# Save the best model\n",
    "checkpoint_callback = ModelCheckpoint(filepath=\"BellPaper_DIY_model1_Based_Non_Augmented\", save_best_only=True, monitor=\"val_accuracy\", mode=\"max\", verbose=1)\n",
    "\n",
    "# Early stopping\n",
    "early_stopping_callback = EarlyStopping(monitor=\"val_accuracy\", mode=\"max\", patience=20, verbose=1, restore_best_weights=True)\n",
    "\n",
    "# Reduce learning rate\n",
    "reduce_lr_callback = ReduceLROnPlateau(monitor=\"val_loss\", factor=0.1, patience=5, verbose=1, mode=\"min\", min_delta=0.0001, cooldown=0, min_lr=0)\n",
    "\n",
    "# Callbacks list\n",
    "callbacks=[checkpoint_callback, early_stopping_callback, reduce_lr_callback]"
   ]
  },
  {
   "cell_type": "code",
   "execution_count": 10,
   "metadata": {
    "tags": []
   },
   "outputs": [
    {
     "name": "stdout",
     "output_type": "stream",
     "text": [
      "Model: \"sequential\"\n",
      "_________________________________________________________________\n",
      " Layer (type)                Output Shape              Param #   \n",
      "=================================================================\n",
      " conv2d (Conv2D)             (None, 222, 222, 32)      896       \n",
      "                                                                 \n",
      " max_pooling2d (MaxPooling2D  (None, 111, 111, 32)     0         \n",
      " )                                                               \n",
      "                                                                 \n",
      " conv2d_1 (Conv2D)           (None, 109, 109, 64)      18496     \n",
      "                                                                 \n",
      " max_pooling2d_1 (MaxPooling  (None, 54, 54, 64)       0         \n",
      " 2D)                                                             \n",
      "                                                                 \n",
      " conv2d_2 (Conv2D)           (None, 52, 52, 128)       73856     \n",
      "                                                                 \n",
      " max_pooling2d_2 (MaxPooling  (None, 26, 26, 128)      0         \n",
      " 2D)                                                             \n",
      "                                                                 \n",
      " flatten (Flatten)           (None, 86528)             0         \n",
      "                                                                 \n",
      " dense (Dense)               (None, 512)               44302848  \n",
      "                                                                 \n",
      " dropout (Dropout)           (None, 512)               0         \n",
      "                                                                 \n",
      " dense_1 (Dense)             (None, 256)               131328    \n",
      "                                                                 \n",
      " dense_2 (Dense)             (None, 2)                 514       \n",
      "                                                                 \n",
      "=================================================================\n",
      "Total params: 44,527,938\n",
      "Trainable params: 44,527,938\n",
      "Non-trainable params: 0\n",
      "_________________________________________________________________\n"
     ]
    }
   ],
   "source": [
    "# Define DIY Model\n",
    "DIY_model = tf.keras.models.Sequential([\n",
    "    # Convolutional Layers with 32 filters\n",
    "    tf.keras.layers.Conv2D(32, (3,3), activation='relu', input_shape=(224, 224, 3)),\n",
    "    # MaxPooling Layer\n",
    "    tf.keras.layers.MaxPooling2D(2,2),\n",
    "    # Convolutional Layers with 64 filters\n",
    "    tf.keras.layers.Conv2D(64, (3,3), activation='relu'),\n",
    "    # MaxPooling Layer\n",
    "    tf.keras.layers.MaxPooling2D(2,2),  \n",
    "    # Convolutional Layers with 128 filters\n",
    "    tf.keras.layers.Conv2D(128, (3,3), activation='relu'), \n",
    "    # MaxPooling Layer\n",
    "    tf.keras.layers.MaxPooling2D(2,2),  \n",
    "    # Flatten the results to feed into a DNN\n",
    "    tf.keras.layers.Flatten(),\n",
    "    # 512 neuron hidden layer\n",
    "    tf.keras.layers.Dense(512, activation='relu'),\n",
    "    # Drop Out Layer\n",
    "    tf.keras.layers.Dropout(0.2),\n",
    "    # 256 neuron hidden layer\n",
    "    tf.keras.layers.Dense(256, activation='relu'),\n",
    "    # Output\n",
    "    tf.keras.layers.Dense(2, activation='softmax') \n",
    "  ])\n",
    "\n",
    "\n",
    "# Compile Model\n",
    "DIY_model.compile(loss='categorical_crossentropy',optimizer=tf.keras.optimizers.Adam(), metrics=['accuracy']) \n",
    "\n",
    "# Model Summary\n",
    "DIY_model.summary()"
   ]
  },
  {
   "cell_type": "code",
   "execution_count": 11,
   "metadata": {
    "tags": []
   },
   "outputs": [
    {
     "name": "stdout",
     "output_type": "stream",
     "text": [
      "Epoch 1/100\n",
      "201/202 [============================>.] - ETA: 0s - loss: 0.4359 - accuracy: 0.8064\n",
      "Epoch 1: val_accuracy improved from -inf to 0.95426, saving model to BellPaper_DIY_model1_Based_Non_Augmented\n"
     ]
    },
    {
     "name": "stderr",
     "output_type": "stream",
     "text": [
      "WARNING:absl:Found untraced functions such as _jit_compiled_convolution_op, _jit_compiled_convolution_op, _jit_compiled_convolution_op while saving (showing 3 of 3). These functions will not be directly callable after loading.\n"
     ]
    },
    {
     "name": "stdout",
     "output_type": "stream",
     "text": [
      "INFO:tensorflow:Assets written to: BellPaper_DIY_model1_Based_Non_Augmented\\assets\n"
     ]
    },
    {
     "name": "stderr",
     "output_type": "stream",
     "text": [
      "INFO:tensorflow:Assets written to: BellPaper_DIY_model1_Based_Non_Augmented\\assets\n"
     ]
    },
    {
     "name": "stdout",
     "output_type": "stream",
     "text": [
      "202/202 [==============================] - 13s 49ms/step - loss: 0.4354 - accuracy: 0.8068 - val_loss: 0.1351 - val_accuracy: 0.9543 - lr: 0.0010\n",
      "Epoch 2/100\n",
      "201/202 [============================>.] - ETA: 0s - loss: 0.1611 - accuracy: 0.9434\n",
      "Epoch 2: val_accuracy improved from 0.95426 to 0.95634, saving model to BellPaper_DIY_model1_Based_Non_Augmented\n"
     ]
    },
    {
     "name": "stderr",
     "output_type": "stream",
     "text": [
      "WARNING:absl:Found untraced functions such as _jit_compiled_convolution_op, _jit_compiled_convolution_op, _jit_compiled_convolution_op while saving (showing 3 of 3). These functions will not be directly callable after loading.\n"
     ]
    },
    {
     "name": "stdout",
     "output_type": "stream",
     "text": [
      "INFO:tensorflow:Assets written to: BellPaper_DIY_model1_Based_Non_Augmented\\assets\n"
     ]
    },
    {
     "name": "stderr",
     "output_type": "stream",
     "text": [
      "INFO:tensorflow:Assets written to: BellPaper_DIY_model1_Based_Non_Augmented\\assets\n"
     ]
    },
    {
     "name": "stdout",
     "output_type": "stream",
     "text": [
      "202/202 [==============================] - 9s 46ms/step - loss: 0.1608 - accuracy: 0.9437 - val_loss: 0.1364 - val_accuracy: 0.9563 - lr: 0.0010\n",
      "Epoch 3/100\n",
      "202/202 [==============================] - ETA: 0s - loss: 0.1138 - accuracy: 0.9623\n",
      "Epoch 3: val_accuracy did not improve from 0.95634\n",
      "202/202 [==============================] - 8s 37ms/step - loss: 0.1138 - accuracy: 0.9623 - val_loss: 0.1556 - val_accuracy: 0.9522 - lr: 0.0010\n",
      "Epoch 4/100\n",
      "202/202 [==============================] - ETA: 0s - loss: 0.0653 - accuracy: 0.9725\n",
      "Epoch 4: val_accuracy improved from 0.95634 to 0.96570, saving model to BellPaper_DIY_model1_Based_Non_Augmented\n"
     ]
    },
    {
     "name": "stderr",
     "output_type": "stream",
     "text": [
      "WARNING:absl:Found untraced functions such as _jit_compiled_convolution_op, _jit_compiled_convolution_op, _jit_compiled_convolution_op while saving (showing 3 of 3). These functions will not be directly callable after loading.\n"
     ]
    },
    {
     "name": "stdout",
     "output_type": "stream",
     "text": [
      "INFO:tensorflow:Assets written to: BellPaper_DIY_model1_Based_Non_Augmented\\assets\n"
     ]
    },
    {
     "name": "stderr",
     "output_type": "stream",
     "text": [
      "INFO:tensorflow:Assets written to: BellPaper_DIY_model1_Based_Non_Augmented\\assets\n"
     ]
    },
    {
     "name": "stdout",
     "output_type": "stream",
     "text": [
      "202/202 [==============================] - 9s 47ms/step - loss: 0.0653 - accuracy: 0.9725 - val_loss: 0.0956 - val_accuracy: 0.9657 - lr: 0.0010\n",
      "Epoch 5/100\n",
      "201/202 [============================>.] - ETA: 0s - loss: 0.0340 - accuracy: 0.9880\n",
      "Epoch 5: val_accuracy improved from 0.96570 to 0.97817, saving model to BellPaper_DIY_model1_Based_Non_Augmented\n"
     ]
    },
    {
     "name": "stderr",
     "output_type": "stream",
     "text": [
      "WARNING:absl:Found untraced functions such as _jit_compiled_convolution_op, _jit_compiled_convolution_op, _jit_compiled_convolution_op while saving (showing 3 of 3). These functions will not be directly callable after loading.\n"
     ]
    },
    {
     "name": "stdout",
     "output_type": "stream",
     "text": [
      "INFO:tensorflow:Assets written to: BellPaper_DIY_model1_Based_Non_Augmented\\assets\n"
     ]
    },
    {
     "name": "stderr",
     "output_type": "stream",
     "text": [
      "INFO:tensorflow:Assets written to: BellPaper_DIY_model1_Based_Non_Augmented\\assets\n"
     ]
    },
    {
     "name": "stdout",
     "output_type": "stream",
     "text": [
      "202/202 [==============================] - 9s 46ms/step - loss: 0.0353 - accuracy: 0.9879 - val_loss: 0.0870 - val_accuracy: 0.9782 - lr: 0.0010\n",
      "Epoch 6/100\n",
      "201/202 [============================>.] - ETA: 0s - loss: 0.0273 - accuracy: 0.9923\n",
      "Epoch 6: val_accuracy did not improve from 0.97817\n",
      "202/202 [==============================] - 8s 37ms/step - loss: 0.0274 - accuracy: 0.9923 - val_loss: 0.1334 - val_accuracy: 0.9605 - lr: 0.0010\n",
      "Epoch 7/100\n",
      "202/202 [==============================] - ETA: 0s - loss: 0.0276 - accuracy: 0.9903\n",
      "Epoch 7: val_accuracy improved from 0.97817 to 0.98753, saving model to BellPaper_DIY_model1_Based_Non_Augmented\n"
     ]
    },
    {
     "name": "stderr",
     "output_type": "stream",
     "text": [
      "WARNING:absl:Found untraced functions such as _jit_compiled_convolution_op, _jit_compiled_convolution_op, _jit_compiled_convolution_op while saving (showing 3 of 3). These functions will not be directly callable after loading.\n"
     ]
    },
    {
     "name": "stdout",
     "output_type": "stream",
     "text": [
      "INFO:tensorflow:Assets written to: BellPaper_DIY_model1_Based_Non_Augmented\\assets\n"
     ]
    },
    {
     "name": "stderr",
     "output_type": "stream",
     "text": [
      "INFO:tensorflow:Assets written to: BellPaper_DIY_model1_Based_Non_Augmented\\assets\n"
     ]
    },
    {
     "name": "stdout",
     "output_type": "stream",
     "text": [
      "202/202 [==============================] - 10s 48ms/step - loss: 0.0276 - accuracy: 0.9903 - val_loss: 0.0435 - val_accuracy: 0.9875 - lr: 0.0010\n",
      "Epoch 8/100\n",
      "201/202 [============================>.] - ETA: 0s - loss: 0.0496 - accuracy: 0.9880\n",
      "Epoch 8: val_accuracy did not improve from 0.98753\n",
      "202/202 [==============================] - 8s 37ms/step - loss: 0.0494 - accuracy: 0.9881 - val_loss: 0.0556 - val_accuracy: 0.9834 - lr: 0.0010\n",
      "Epoch 9/100\n",
      "201/202 [============================>.] - ETA: 0s - loss: 0.0288 - accuracy: 0.9910\n",
      "Epoch 9: val_accuracy did not improve from 0.98753\n",
      "202/202 [==============================] - 8s 38ms/step - loss: 0.0287 - accuracy: 0.9911 - val_loss: 0.0862 - val_accuracy: 0.9678 - lr: 0.0010\n",
      "Epoch 10/100\n",
      "201/202 [============================>.] - ETA: 0s - loss: 0.0371 - accuracy: 0.9898\n",
      "Epoch 10: val_accuracy did not improve from 0.98753\n",
      "202/202 [==============================] - 8s 37ms/step - loss: 0.0371 - accuracy: 0.9898 - val_loss: 0.1389 - val_accuracy: 0.9678 - lr: 0.0010\n",
      "Epoch 11/100\n",
      "201/202 [============================>.] - ETA: 0s - loss: 0.0073 - accuracy: 0.9980\n",
      "Epoch 11: val_accuracy did not improve from 0.98753\n",
      "202/202 [==============================] - 7s 36ms/step - loss: 0.0073 - accuracy: 0.9980 - val_loss: 0.0615 - val_accuracy: 0.9792 - lr: 0.0010\n",
      "Epoch 12/100\n",
      "201/202 [============================>.] - ETA: 0s - loss: 0.0121 - accuracy: 0.9955\n",
      "Epoch 12: val_accuracy did not improve from 0.98753\n",
      "\n",
      "Epoch 12: ReduceLROnPlateau reducing learning rate to 0.00010000000474974513.\n",
      "202/202 [==============================] - 7s 37ms/step - loss: 0.0125 - accuracy: 0.9953 - val_loss: 0.1436 - val_accuracy: 0.9647 - lr: 0.0010\n",
      "Epoch 13/100\n",
      "202/202 [==============================] - ETA: 0s - loss: 0.0035 - accuracy: 0.9988\n",
      "Epoch 13: val_accuracy did not improve from 0.98753\n",
      "202/202 [==============================] - 8s 38ms/step - loss: 0.0035 - accuracy: 0.9988 - val_loss: 0.0521 - val_accuracy: 0.9854 - lr: 1.0000e-04\n",
      "Epoch 14/100\n",
      "202/202 [==============================] - ETA: 0s - loss: 3.1262e-04 - accuracy: 1.0000\n",
      "Epoch 14: val_accuracy did not improve from 0.98753\n",
      "202/202 [==============================] - 8s 37ms/step - loss: 3.1262e-04 - accuracy: 1.0000 - val_loss: 0.0576 - val_accuracy: 0.9854 - lr: 1.0000e-04\n",
      "Epoch 15/100\n",
      "202/202 [==============================] - ETA: 0s - loss: 2.4167e-04 - accuracy: 1.0000\n",
      "Epoch 15: val_accuracy did not improve from 0.98753\n",
      "202/202 [==============================] - 7s 37ms/step - loss: 2.4167e-04 - accuracy: 1.0000 - val_loss: 0.0596 - val_accuracy: 0.9854 - lr: 1.0000e-04\n",
      "Epoch 16/100\n",
      "201/202 [============================>.] - ETA: 0s - loss: 2.2395e-04 - accuracy: 1.0000\n",
      "Epoch 16: val_accuracy did not improve from 0.98753\n",
      "202/202 [==============================] - 8s 38ms/step - loss: 2.2710e-04 - accuracy: 1.0000 - val_loss: 0.0586 - val_accuracy: 0.9854 - lr: 1.0000e-04\n",
      "Epoch 17/100\n",
      "201/202 [============================>.] - ETA: 0s - loss: 1.7847e-04 - accuracy: 1.0000\n",
      "Epoch 17: val_accuracy did not improve from 0.98753\n",
      "\n",
      "Epoch 17: ReduceLROnPlateau reducing learning rate to 1.0000000474974514e-05.\n",
      "202/202 [==============================] - 7s 36ms/step - loss: 1.7766e-04 - accuracy: 1.0000 - val_loss: 0.0577 - val_accuracy: 0.9875 - lr: 1.0000e-04\n",
      "Epoch 18/100\n",
      "202/202 [==============================] - ETA: 0s - loss: 1.4314e-04 - accuracy: 1.0000\n",
      "Epoch 18: val_accuracy did not improve from 0.98753\n",
      "202/202 [==============================] - 7s 36ms/step - loss: 1.4314e-04 - accuracy: 1.0000 - val_loss: 0.0582 - val_accuracy: 0.9865 - lr: 1.0000e-05\n",
      "Epoch 19/100\n",
      "202/202 [==============================] - ETA: 0s - loss: 1.4228e-04 - accuracy: 1.0000\n",
      "Epoch 19: val_accuracy did not improve from 0.98753\n",
      "202/202 [==============================] - 7s 36ms/step - loss: 1.4228e-04 - accuracy: 1.0000 - val_loss: 0.0588 - val_accuracy: 0.9865 - lr: 1.0000e-05\n",
      "Epoch 20/100\n",
      "202/202 [==============================] - ETA: 0s - loss: 4.4534e-04 - accuracy: 0.9998\n",
      "Epoch 20: val_accuracy did not improve from 0.98753\n",
      "202/202 [==============================] - 7s 36ms/step - loss: 4.4534e-04 - accuracy: 0.9998 - val_loss: 0.0603 - val_accuracy: 0.9854 - lr: 1.0000e-05\n",
      "Epoch 21/100\n",
      "201/202 [============================>.] - ETA: 0s - loss: 1.1163e-04 - accuracy: 1.0000\n",
      "Epoch 21: val_accuracy did not improve from 0.98753\n",
      "202/202 [==============================] - 8s 37ms/step - loss: 1.1108e-04 - accuracy: 1.0000 - val_loss: 0.0601 - val_accuracy: 0.9854 - lr: 1.0000e-05\n",
      "Epoch 22/100\n",
      "201/202 [============================>.] - ETA: 0s - loss: 3.0674e-04 - accuracy: 1.0000\n",
      "Epoch 22: val_accuracy did not improve from 0.98753\n",
      "\n",
      "Epoch 22: ReduceLROnPlateau reducing learning rate to 1.0000000656873453e-06.\n",
      "202/202 [==============================] - 8s 37ms/step - loss: 3.0606e-04 - accuracy: 1.0000 - val_loss: 0.0607 - val_accuracy: 0.9854 - lr: 1.0000e-05\n",
      "Epoch 23/100\n",
      "202/202 [==============================] - ETA: 0s - loss: 1.2403e-04 - accuracy: 1.0000\n",
      "Epoch 23: val_accuracy did not improve from 0.98753\n",
      "202/202 [==============================] - 7s 36ms/step - loss: 1.2403e-04 - accuracy: 1.0000 - val_loss: 0.0608 - val_accuracy: 0.9854 - lr: 1.0000e-06\n",
      "Epoch 24/100\n",
      "202/202 [==============================] - ETA: 0s - loss: 3.7858e-04 - accuracy: 0.9998\n",
      "Epoch 24: val_accuracy did not improve from 0.98753\n",
      "202/202 [==============================] - 7s 36ms/step - loss: 3.7858e-04 - accuracy: 0.9998 - val_loss: 0.0608 - val_accuracy: 0.9854 - lr: 1.0000e-06\n",
      "Epoch 25/100\n",
      "201/202 [============================>.] - ETA: 0s - loss: 1.6454e-04 - accuracy: 1.0000\n",
      "Epoch 25: val_accuracy did not improve from 0.98753\n",
      "202/202 [==============================] - 7s 36ms/step - loss: 1.6374e-04 - accuracy: 1.0000 - val_loss: 0.0608 - val_accuracy: 0.9854 - lr: 1.0000e-06\n",
      "Epoch 26/100\n",
      "201/202 [============================>.] - ETA: 0s - loss: 9.2471e-05 - accuracy: 1.0000\n",
      "Epoch 26: val_accuracy did not improve from 0.98753\n",
      "202/202 [==============================] - 7s 36ms/step - loss: 9.2137e-05 - accuracy: 1.0000 - val_loss: 0.0608 - val_accuracy: 0.9854 - lr: 1.0000e-06\n",
      "Epoch 27/100\n",
      "201/202 [============================>.] - ETA: 0s - loss: 9.5835e-05 - accuracy: 1.0000\n",
      "Epoch 27: val_accuracy did not improve from 0.98753\n",
      "Restoring model weights from the end of the best epoch: 7.\n",
      "\n",
      "Epoch 27: ReduceLROnPlateau reducing learning rate to 1.0000001111620805e-07.\n",
      "202/202 [==============================] - 7s 37ms/step - loss: 9.5362e-05 - accuracy: 1.0000 - val_loss: 0.0608 - val_accuracy: 0.9854 - lr: 1.0000e-06\n",
      "Epoch 27: early stopping\n"
     ]
    }
   ],
   "source": [
    "# Define the number of epochs\n",
    "num_epochs = 100\n",
    "\n",
    "# Train the model\n",
    "history_DIY_model = DIY_model.fit(train_generator, epochs=num_epochs, validation_data=validation_generator, callbacks=callbacks)"
   ]
  },
  {
   "cell_type": "code",
   "execution_count": 12,
   "metadata": {
    "tags": []
   },
   "outputs": [
    {
     "data": {
      "text/plain": [
       "Text(0.5, 1.0, 'Training and validation loss DIY Model')"
      ]
     },
     "execution_count": 12,
     "metadata": {},
     "output_type": "execute_result"
    },
    {
     "data": {
      "image/png": "[encoded data removed]",
      "text/plain": [
       "<Figure size 640x480 with 1 Axes>"
      ]
     },
     "metadata": {},
     "output_type": "display_data"
    },
    {
     "data": {
      "image/png": "[encoded data removed]",
      "text/plain": [
       "<Figure size 640x480 with 1 Axes>"
      ]
     },
     "metadata": {},
     "output_type": "display_data"
    }
   ],
   "source": [
    "#-----------------------------------------------------------\n",
    "# Retrieve a list of list results on training and test data\n",
    "# sets for each training epoch\n",
    "#-----------------------------------------------------------\n",
    "acc      = history_DIY_model.history['accuracy' ]\n",
    "val_acc  = history_DIY_model.history['val_accuracy' ]\n",
    "loss     = history_DIY_model.history['loss' ]\n",
    "val_loss = history_DIY_model.history['val_loss' ]\n",
    "\n",
    "epochs   = range(len(acc)) # Get number of epochs\n",
    "\n",
    "#------------------------------------------------\n",
    "# Plot training and validation accuracy per epoch\n",
    "#------------------------------------------------\n",
    "plt.plot  (epochs, acc )\n",
    "plt.plot  (epochs, val_acc )\n",
    "plt.title ('Training and validation accuracy DIY Model')\n",
    "plt.figure()\n",
    "\n",
    "#------------------------------------------------\n",
    "# Plot training and validation loss per epoch\n",
    "#------------------------------------------------\n",
    "plt.plot  (epochs, loss)\n",
    "plt.plot  (epochs, val_loss)\n",
    "plt.title ('Training and validation loss DIY Model')"
   ]
  },
  {
   "attachments": {},
   "cell_type": "markdown",
   "metadata": {},
   "source": [
    "## DIY Model 2"
   ]
  },
  {
   "cell_type": "code",
   "execution_count": 13,
   "metadata": {
    "tags": []
   },
   "outputs": [],
   "source": [
    "# Difine the callbacks\n",
    "# Save the best model\n",
    "checkpoint_callback = ModelCheckpoint(filepath=\"BellPaper_DIY_model2_Based_Non_Augmented\", save_best_only=True, monitor=\"val_accuracy\", mode=\"max\", verbose=1)\n",
    "\n",
    "# Early stopping\n",
    "early_stopping_callback = EarlyStopping(monitor=\"val_accuracy\", mode=\"max\", patience=20, verbose=1, restore_best_weights=True)\n",
    "\n",
    "# Reduce learning rate\n",
    "reduce_lr_callback = ReduceLROnPlateau(monitor=\"val_loss\", factor=0.1, patience=5, verbose=1, mode=\"min\", min_delta=0.0001, cooldown=0, min_lr=0)\n",
    "\n",
    "# Callbacks list\n",
    "callbacks=[checkpoint_callback, early_stopping_callback, reduce_lr_callback]"
   ]
  },
  {
   "cell_type": "code",
   "execution_count": 14,
   "metadata": {
    "tags": []
   },
   "outputs": [
    {
     "name": "stdout",
     "output_type": "stream",
     "text": [
      "Model: \"sequential_1\"\n",
      "_________________________________________________________________\n",
      " Layer (type)                Output Shape              Param #   \n",
      "=================================================================\n",
      " conv2d_3 (Conv2D)           (None, 222, 222, 32)      896       \n",
      "                                                                 \n",
      " max_pooling2d_3 (MaxPooling  (None, 111, 111, 32)     0         \n",
      " 2D)                                                             \n",
      "                                                                 \n",
      " conv2d_4 (Conv2D)           (None, 109, 109, 64)      18496     \n",
      "                                                                 \n",
      " max_pooling2d_4 (MaxPooling  (None, 54, 54, 64)       0         \n",
      " 2D)                                                             \n",
      "                                                                 \n",
      " conv2d_5 (Conv2D)           (None, 52, 52, 128)       73856     \n",
      "                                                                 \n",
      " max_pooling2d_5 (MaxPooling  (None, 26, 26, 128)      0         \n",
      " 2D)                                                             \n",
      "                                                                 \n",
      " flatten_1 (Flatten)         (None, 86528)             0         \n",
      "                                                                 \n",
      " dense_3 (Dense)             (None, 1024)              88605696  \n",
      "                                                                 \n",
      " dense_4 (Dense)             (None, 512)               524800    \n",
      "                                                                 \n",
      " dropout_1 (Dropout)         (None, 512)               0         \n",
      "                                                                 \n",
      " dense_5 (Dense)             (None, 256)               131328    \n",
      "                                                                 \n",
      " dense_6 (Dense)             (None, 2)                 514       \n",
      "                                                                 \n",
      "=================================================================\n",
      "Total params: 89,355,586\n",
      "Trainable params: 89,355,586\n",
      "Non-trainable params: 0\n",
      "_________________________________________________________________\n"
     ]
    }
   ],
   "source": [
    "# Define DIY Model\n",
    "DIY_model_2 = tf.keras.models.Sequential([\n",
    "    # Convolutional Layers with 32 filters\n",
    "    tf.keras.layers.Conv2D(32, (3,3), activation='relu', input_shape=(224, 224, 3)),\n",
    "    # MaxPooling Layer\n",
    "    tf.keras.layers.MaxPooling2D(2,2),\n",
    "    # Convolutional Layers with 64 filters\n",
    "    tf.keras.layers.Conv2D(64, (3,3), activation='relu'),\n",
    "    # MaxPooling Layer\n",
    "    tf.keras.layers.MaxPooling2D(2,2),  \n",
    "    # Convolutional Layers with 128 filters\n",
    "    tf.keras.layers.Conv2D(128, (3,3), activation='relu'), \n",
    "    # MaxPooling Layer\n",
    "    tf.keras.layers.MaxPooling2D(2,2),  \n",
    "    # Flatten the results to feed into a DNN\n",
    "    tf.keras.layers.Flatten(),\n",
    "    # 1024 neuron hidden layer\n",
    "    tf.keras.layers.Dense(1024, activation='relu'),\n",
    "    # 512 neuron hidden layer\n",
    "    tf.keras.layers.Dense(512, activation='relu'),\n",
    "    # Drop Out Layer\n",
    "    tf.keras.layers.Dropout(0.2),\n",
    "    # 256 neuron hidden layer\n",
    "    tf.keras.layers.Dense(256, activation='relu'),\n",
    "    # Output\n",
    "    tf.keras.layers.Dense(2, activation='softmax') \n",
    "  ])\n",
    "\n",
    "\n",
    "# Compile Model\n",
    "DIY_model_2.compile(loss='categorical_crossentropy',optimizer=tf.keras.optimizers.Adam(), metrics=['accuracy']) \n",
    "\n",
    "# Model Summary\n",
    "DIY_model_2.summary()"
   ]
  },
  {
   "cell_type": "code",
   "execution_count": 15,
   "metadata": {
    "tags": []
   },
   "outputs": [
    {
     "name": "stdout",
     "output_type": "stream",
     "text": [
      "Epoch 1/100\n",
      "202/202 [==============================] - ETA: 0s - loss: 0.4659 - accuracy: 0.8041\n",
      "Epoch 1: val_accuracy improved from -inf to 0.92723, saving model to BellPaper_DIY_model2_Based_Non_Augmented\n"
     ]
    },
    {
     "name": "stderr",
     "output_type": "stream",
     "text": [
      "WARNING:absl:Found untraced functions such as _jit_compiled_convolution_op, _jit_compiled_convolution_op, _jit_compiled_convolution_op while saving (showing 3 of 3). These functions will not be directly callable after loading.\n"
     ]
    },
    {
     "name": "stdout",
     "output_type": "stream",
     "text": [
      "INFO:tensorflow:Assets written to: BellPaper_DIY_model2_Based_Non_Augmented\\assets\n"
     ]
    },
    {
     "name": "stderr",
     "output_type": "stream",
     "text": [
      "INFO:tensorflow:Assets written to: BellPaper_DIY_model2_Based_Non_Augmented\\assets\n"
     ]
    },
    {
     "name": "stdout",
     "output_type": "stream",
     "text": [
      "202/202 [==============================] - 12s 60ms/step - loss: 0.4659 - accuracy: 0.8041 - val_loss: 0.2238 - val_accuracy: 0.9272 - lr: 0.0010\n",
      "Epoch 2/100\n",
      "202/202 [==============================] - ETA: 0s - loss: 0.1742 - accuracy: 0.9393\n",
      "Epoch 2: val_accuracy improved from 0.92723 to 0.95010, saving model to BellPaper_DIY_model2_Based_Non_Augmented\n"
     ]
    },
    {
     "name": "stderr",
     "output_type": "stream",
     "text": [
      "WARNING:absl:Found untraced functions such as _jit_compiled_convolution_op, _jit_compiled_convolution_op, _jit_compiled_convolution_op while saving (showing 3 of 3). These functions will not be directly callable after loading.\n"
     ]
    },
    {
     "name": "stdout",
     "output_type": "stream",
     "text": [
      "INFO:tensorflow:Assets written to: BellPaper_DIY_model2_Based_Non_Augmented\\assets\n"
     ]
    },
    {
     "name": "stderr",
     "output_type": "stream",
     "text": [
      "INFO:tensorflow:Assets written to: BellPaper_DIY_model2_Based_Non_Augmented\\assets\n"
     ]
    },
    {
     "name": "stdout",
     "output_type": "stream",
     "text": [
      "202/202 [==============================] - 12s 59ms/step - loss: 0.1742 - accuracy: 0.9393 - val_loss: 0.1395 - val_accuracy: 0.9501 - lr: 0.0010\n",
      "Epoch 3/100\n",
      "201/202 [============================>.] - ETA: 0s - loss: 0.1211 - accuracy: 0.9576\n",
      "Epoch 3: val_accuracy improved from 0.95010 to 0.96050, saving model to BellPaper_DIY_model2_Based_Non_Augmented\n"
     ]
    },
    {
     "name": "stderr",
     "output_type": "stream",
     "text": [
      "WARNING:absl:Found untraced functions such as _jit_compiled_convolution_op, _jit_compiled_convolution_op, _jit_compiled_convolution_op while saving (showing 3 of 3). These functions will not be directly callable after loading.\n"
     ]
    },
    {
     "name": "stdout",
     "output_type": "stream",
     "text": [
      "INFO:tensorflow:Assets written to: BellPaper_DIY_model2_Based_Non_Augmented\\assets\n"
     ]
    },
    {
     "name": "stderr",
     "output_type": "stream",
     "text": [
      "INFO:tensorflow:Assets written to: BellPaper_DIY_model2_Based_Non_Augmented\\assets\n"
     ]
    },
    {
     "name": "stdout",
     "output_type": "stream",
     "text": [
      "202/202 [==============================] - 12s 58ms/step - loss: 0.1216 - accuracy: 0.9571 - val_loss: 0.0792 - val_accuracy: 0.9605 - lr: 0.0010\n",
      "Epoch 4/100\n",
      "202/202 [==============================] - ETA: 0s - loss: 0.0672 - accuracy: 0.9794\n",
      "Epoch 4: val_accuracy improved from 0.96050 to 0.97089, saving model to BellPaper_DIY_model2_Based_Non_Augmented\n"
     ]
    },
    {
     "name": "stderr",
     "output_type": "stream",
     "text": [
      "WARNING:absl:Found untraced functions such as _jit_compiled_convolution_op, _jit_compiled_convolution_op, _jit_compiled_convolution_op while saving (showing 3 of 3). These functions will not be directly callable after loading.\n"
     ]
    },
    {
     "name": "stdout",
     "output_type": "stream",
     "text": [
      "INFO:tensorflow:Assets written to: BellPaper_DIY_model2_Based_Non_Augmented\\assets\n"
     ]
    },
    {
     "name": "stderr",
     "output_type": "stream",
     "text": [
      "INFO:tensorflow:Assets written to: BellPaper_DIY_model2_Based_Non_Augmented\\assets\n"
     ]
    },
    {
     "name": "stdout",
     "output_type": "stream",
     "text": [
      "202/202 [==============================] - 13s 62ms/step - loss: 0.0672 - accuracy: 0.9794 - val_loss: 0.0691 - val_accuracy: 0.9709 - lr: 0.0010\n",
      "Epoch 5/100\n",
      "202/202 [==============================] - ETA: 0s - loss: 0.0410 - accuracy: 0.9854\n",
      "Epoch 5: val_accuracy improved from 0.97089 to 0.97505, saving model to BellPaper_DIY_model2_Based_Non_Augmented\n"
     ]
    },
    {
     "name": "stderr",
     "output_type": "stream",
     "text": [
      "WARNING:absl:Found untraced functions such as _jit_compiled_convolution_op, _jit_compiled_convolution_op, _jit_compiled_convolution_op while saving (showing 3 of 3). These functions will not be directly callable after loading.\n"
     ]
    },
    {
     "name": "stdout",
     "output_type": "stream",
     "text": [
      "INFO:tensorflow:Assets written to: BellPaper_DIY_model2_Based_Non_Augmented\\assets\n"
     ]
    },
    {
     "name": "stderr",
     "output_type": "stream",
     "text": [
      "INFO:tensorflow:Assets written to: BellPaper_DIY_model2_Based_Non_Augmented\\assets\n"
     ]
    },
    {
     "name": "stdout",
     "output_type": "stream",
     "text": [
      "202/202 [==============================] - 13s 65ms/step - loss: 0.0410 - accuracy: 0.9854 - val_loss: 0.0610 - val_accuracy: 0.9751 - lr: 0.0010\n",
      "Epoch 6/100\n",
      "201/202 [============================>.] - ETA: 0s - loss: 0.0307 - accuracy: 0.9903\n",
      "Epoch 6: val_accuracy did not improve from 0.97505\n",
      "202/202 [==============================] - 9s 43ms/step - loss: 0.0306 - accuracy: 0.9903 - val_loss: 0.1147 - val_accuracy: 0.9699 - lr: 0.0010\n",
      "Epoch 7/100\n",
      "201/202 [============================>.] - ETA: 0s - loss: 0.0341 - accuracy: 0.9920\n",
      "Epoch 7: val_accuracy did not improve from 0.97505\n",
      "202/202 [==============================] - 9s 43ms/step - loss: 0.0340 - accuracy: 0.9921 - val_loss: 0.1052 - val_accuracy: 0.9595 - lr: 0.0010\n",
      "Epoch 8/100\n",
      "201/202 [============================>.] - ETA: 0s - loss: 0.0279 - accuracy: 0.9918\n",
      "Epoch 8: val_accuracy improved from 0.97505 to 0.97817, saving model to BellPaper_DIY_model2_Based_Non_Augmented\n"
     ]
    },
    {
     "name": "stderr",
     "output_type": "stream",
     "text": [
      "WARNING:absl:Found untraced functions such as _jit_compiled_convolution_op, _jit_compiled_convolution_op, _jit_compiled_convolution_op while saving (showing 3 of 3). These functions will not be directly callable after loading.\n"
     ]
    },
    {
     "name": "stdout",
     "output_type": "stream",
     "text": [
      "INFO:tensorflow:Assets written to: BellPaper_DIY_model2_Based_Non_Augmented\\assets\n"
     ]
    },
    {
     "name": "stderr",
     "output_type": "stream",
     "text": [
      "INFO:tensorflow:Assets written to: BellPaper_DIY_model2_Based_Non_Augmented\\assets\n"
     ]
    },
    {
     "name": "stdout",
     "output_type": "stream",
     "text": [
      "202/202 [==============================] - 15s 73ms/step - loss: 0.0278 - accuracy: 0.9918 - val_loss: 0.0900 - val_accuracy: 0.9782 - lr: 0.0010\n",
      "Epoch 9/100\n",
      "202/202 [==============================] - ETA: 0s - loss: 0.0355 - accuracy: 0.9881\n",
      "Epoch 9: val_accuracy did not improve from 0.97817\n",
      "202/202 [==============================] - 9s 42ms/step - loss: 0.0355 - accuracy: 0.9881 - val_loss: 0.1026 - val_accuracy: 0.9699 - lr: 0.0010\n",
      "Epoch 10/100\n",
      "202/202 [==============================] - ETA: 0s - loss: 0.0029 - accuracy: 0.9988\n",
      "Epoch 10: val_accuracy improved from 0.97817 to 0.98025, saving model to BellPaper_DIY_model2_Based_Non_Augmented\n"
     ]
    },
    {
     "name": "stderr",
     "output_type": "stream",
     "text": [
      "WARNING:absl:Found untraced functions such as _jit_compiled_convolution_op, _jit_compiled_convolution_op, _jit_compiled_convolution_op while saving (showing 3 of 3). These functions will not be directly callable after loading.\n"
     ]
    },
    {
     "name": "stdout",
     "output_type": "stream",
     "text": [
      "INFO:tensorflow:Assets written to: BellPaper_DIY_model2_Based_Non_Augmented\\assets\n"
     ]
    },
    {
     "name": "stderr",
     "output_type": "stream",
     "text": [
      "INFO:tensorflow:Assets written to: BellPaper_DIY_model2_Based_Non_Augmented\\assets\n"
     ]
    },
    {
     "name": "stdout",
     "output_type": "stream",
     "text": [
      "\n",
      "Epoch 10: ReduceLROnPlateau reducing learning rate to 0.00010000000474974513.\n",
      "202/202 [==============================] - 15s 73ms/step - loss: 0.0029 - accuracy: 0.9988 - val_loss: 0.0821 - val_accuracy: 0.9802 - lr: 0.0010\n",
      "Epoch 11/100\n",
      "202/202 [==============================] - ETA: 0s - loss: 2.4006e-04 - accuracy: 1.0000\n",
      "Epoch 11: val_accuracy improved from 0.98025 to 0.98233, saving model to BellPaper_DIY_model2_Based_Non_Augmented\n"
     ]
    },
    {
     "name": "stderr",
     "output_type": "stream",
     "text": [
      "WARNING:absl:Found untraced functions such as _jit_compiled_convolution_op, _jit_compiled_convolution_op, _jit_compiled_convolution_op while saving (showing 3 of 3). These functions will not be directly callable after loading.\n"
     ]
    },
    {
     "name": "stdout",
     "output_type": "stream",
     "text": [
      "INFO:tensorflow:Assets written to: BellPaper_DIY_model2_Based_Non_Augmented\\assets\n"
     ]
    },
    {
     "name": "stderr",
     "output_type": "stream",
     "text": [
      "INFO:tensorflow:Assets written to: BellPaper_DIY_model2_Based_Non_Augmented\\assets\n"
     ]
    },
    {
     "name": "stdout",
     "output_type": "stream",
     "text": [
      "202/202 [==============================] - 16s 79ms/step - loss: 2.4006e-04 - accuracy: 1.0000 - val_loss: 0.0790 - val_accuracy: 0.9823 - lr: 1.0000e-04\n",
      "Epoch 12/100\n",
      "201/202 [============================>.] - ETA: 0s - loss: 1.2297e-04 - accuracy: 1.0000\n",
      "Epoch 12: val_accuracy did not improve from 0.98233\n",
      "202/202 [==============================] - 9s 42ms/step - loss: 1.2241e-04 - accuracy: 1.0000 - val_loss: 0.0808 - val_accuracy: 0.9823 - lr: 1.0000e-04\n",
      "Epoch 13/100\n",
      "201/202 [============================>.] - ETA: 0s - loss: 9.1814e-05 - accuracy: 1.0000\n",
      "Epoch 13: val_accuracy did not improve from 0.98233\n",
      "202/202 [==============================] - 9s 42ms/step - loss: 9.1418e-05 - accuracy: 1.0000 - val_loss: 0.0819 - val_accuracy: 0.9823 - lr: 1.0000e-04\n",
      "Epoch 14/100\n",
      "201/202 [============================>.] - ETA: 0s - loss: 6.5150e-05 - accuracy: 1.0000\n",
      "Epoch 14: val_accuracy did not improve from 0.98233\n",
      "202/202 [==============================] - 8s 42ms/step - loss: 6.4851e-05 - accuracy: 1.0000 - val_loss: 0.0834 - val_accuracy: 0.9823 - lr: 1.0000e-04\n",
      "Epoch 15/100\n",
      "202/202 [==============================] - ETA: 0s - loss: 5.5714e-05 - accuracy: 1.0000\n",
      "Epoch 15: val_accuracy did not improve from 0.98233\n",
      "\n",
      "Epoch 15: ReduceLROnPlateau reducing learning rate to 1.0000000474974514e-05.\n",
      "202/202 [==============================] - 9s 43ms/step - loss: 5.5714e-05 - accuracy: 1.0000 - val_loss: 0.0847 - val_accuracy: 0.9823 - lr: 1.0000e-04\n",
      "Epoch 16/100\n",
      "201/202 [============================>.] - ETA: 0s - loss: 8.5502e-05 - accuracy: 1.0000\n",
      "Epoch 16: val_accuracy did not improve from 0.98233\n",
      "202/202 [==============================] - 9s 42ms/step - loss: 8.5174e-05 - accuracy: 1.0000 - val_loss: 0.0851 - val_accuracy: 0.9823 - lr: 1.0000e-05\n",
      "Epoch 17/100\n",
      "202/202 [==============================] - ETA: 0s - loss: 5.1461e-05 - accuracy: 1.0000\n",
      "Epoch 17: val_accuracy did not improve from 0.98233\n",
      "202/202 [==============================] - 9s 43ms/step - loss: 5.1461e-05 - accuracy: 1.0000 - val_loss: 0.0852 - val_accuracy: 0.9823 - lr: 1.0000e-05\n",
      "Epoch 18/100\n",
      "202/202 [==============================] - ETA: 0s - loss: 5.1002e-05 - accuracy: 1.0000\n",
      "Epoch 18: val_accuracy did not improve from 0.98233\n",
      "202/202 [==============================] - 9s 42ms/step - loss: 5.1002e-05 - accuracy: 1.0000 - val_loss: 0.0854 - val_accuracy: 0.9823 - lr: 1.0000e-05\n",
      "Epoch 19/100\n",
      "202/202 [==============================] - ETA: 0s - loss: 4.2345e-05 - accuracy: 1.0000\n",
      "Epoch 19: val_accuracy did not improve from 0.98233\n",
      "202/202 [==============================] - 8s 41ms/step - loss: 4.2345e-05 - accuracy: 1.0000 - val_loss: 0.0855 - val_accuracy: 0.9823 - lr: 1.0000e-05\n",
      "Epoch 20/100\n",
      "202/202 [==============================] - ETA: 0s - loss: 5.1605e-05 - accuracy: 1.0000\n",
      "Epoch 20: val_accuracy did not improve from 0.98233\n",
      "\n",
      "Epoch 20: ReduceLROnPlateau reducing learning rate to 1.0000000656873453e-06.\n",
      "202/202 [==============================] - 9s 42ms/step - loss: 5.1605e-05 - accuracy: 1.0000 - val_loss: 0.0857 - val_accuracy: 0.9823 - lr: 1.0000e-05\n",
      "Epoch 21/100\n",
      "202/202 [==============================] - ETA: 0s - loss: 4.7490e-05 - accuracy: 1.0000\n",
      "Epoch 21: val_accuracy did not improve from 0.98233\n",
      "202/202 [==============================] - 9s 43ms/step - loss: 4.7490e-05 - accuracy: 1.0000 - val_loss: 0.0857 - val_accuracy: 0.9823 - lr: 1.0000e-06\n",
      "Epoch 22/100\n",
      "201/202 [============================>.] - ETA: 0s - loss: 4.8099e-05 - accuracy: 1.0000\n",
      "Epoch 22: val_accuracy did not improve from 0.98233\n",
      "202/202 [==============================] - 9s 42ms/step - loss: 4.7902e-05 - accuracy: 1.0000 - val_loss: 0.0858 - val_accuracy: 0.9823 - lr: 1.0000e-06\n",
      "Epoch 23/100\n",
      "201/202 [============================>.] - ETA: 0s - loss: 4.7952e-05 - accuracy: 1.0000\n",
      "Epoch 23: val_accuracy did not improve from 0.98233\n",
      "202/202 [==============================] - 9s 42ms/step - loss: 4.8505e-05 - accuracy: 1.0000 - val_loss: 0.0858 - val_accuracy: 0.9823 - lr: 1.0000e-06\n",
      "Epoch 24/100\n",
      "202/202 [==============================] - ETA: 0s - loss: 5.0769e-05 - accuracy: 1.0000\n",
      "Epoch 24: val_accuracy did not improve from 0.98233\n",
      "202/202 [==============================] - 9s 42ms/step - loss: 5.0769e-05 - accuracy: 1.0000 - val_loss: 0.0858 - val_accuracy: 0.9823 - lr: 1.0000e-06\n",
      "Epoch 25/100\n",
      "201/202 [============================>.] - ETA: 0s - loss: 4.1989e-05 - accuracy: 1.0000\n",
      "Epoch 25: val_accuracy did not improve from 0.98233\n",
      "\n",
      "Epoch 25: ReduceLROnPlateau reducing learning rate to 1.0000001111620805e-07.\n",
      "202/202 [==============================] - 9s 42ms/step - loss: 4.1784e-05 - accuracy: 1.0000 - val_loss: 0.0858 - val_accuracy: 0.9823 - lr: 1.0000e-06\n",
      "Epoch 26/100\n",
      "202/202 [==============================] - ETA: 0s - loss: 5.3198e-05 - accuracy: 1.0000\n",
      "Epoch 26: val_accuracy did not improve from 0.98233\n",
      "202/202 [==============================] - 9s 43ms/step - loss: 5.3198e-05 - accuracy: 1.0000 - val_loss: 0.0858 - val_accuracy: 0.9823 - lr: 1.0000e-07\n",
      "Epoch 27/100\n",
      "201/202 [============================>.] - ETA: 0s - loss: 5.7079e-05 - accuracy: 1.0000\n",
      "Epoch 27: val_accuracy did not improve from 0.98233\n",
      "202/202 [==============================] - 9s 42ms/step - loss: 5.7517e-05 - accuracy: 1.0000 - val_loss: 0.0859 - val_accuracy: 0.9823 - lr: 1.0000e-07\n",
      "Epoch 28/100\n",
      "202/202 [==============================] - ETA: 0s - loss: 4.8524e-05 - accuracy: 1.0000\n",
      "Epoch 28: val_accuracy did not improve from 0.98233\n",
      "202/202 [==============================] - 8s 42ms/step - loss: 4.8524e-05 - accuracy: 1.0000 - val_loss: 0.0858 - val_accuracy: 0.9823 - lr: 1.0000e-07\n",
      "Epoch 29/100\n",
      "202/202 [==============================] - ETA: 0s - loss: 5.1119e-05 - accuracy: 1.0000\n",
      "Epoch 29: val_accuracy did not improve from 0.98233\n",
      "202/202 [==============================] - 9s 43ms/step - loss: 5.1119e-05 - accuracy: 1.0000 - val_loss: 0.0859 - val_accuracy: 0.9823 - lr: 1.0000e-07\n",
      "Epoch 30/100\n",
      "202/202 [==============================] - ETA: 0s - loss: 4.8379e-05 - accuracy: 1.0000\n",
      "Epoch 30: val_accuracy did not improve from 0.98233\n",
      "\n",
      "Epoch 30: ReduceLROnPlateau reducing learning rate to 1.000000082740371e-08.\n",
      "202/202 [==============================] - 9s 42ms/step - loss: 4.8379e-05 - accuracy: 1.0000 - val_loss: 0.0859 - val_accuracy: 0.9823 - lr: 1.0000e-07\n",
      "Epoch 31/100\n",
      "202/202 [==============================] - ETA: 0s - loss: 4.7100e-05 - accuracy: 1.0000\n",
      "Epoch 31: val_accuracy did not improve from 0.98233\n",
      "Restoring model weights from the end of the best epoch: 11.\n",
      "202/202 [==============================] - 9s 42ms/step - loss: 4.7100e-05 - accuracy: 1.0000 - val_loss: 0.0859 - val_accuracy: 0.9823 - lr: 1.0000e-08\n",
      "Epoch 31: early stopping\n"
     ]
    }
   ],
   "source": [
    "# Define the number of epochs\n",
    "num_epochs = 100\n",
    "\n",
    "# Train the model\n",
    "history_DIY_model_2 = DIY_model_2.fit(train_generator, epochs=num_epochs, validation_data=validation_generator, callbacks=callbacks)"
   ]
  },
  {
   "cell_type": "code",
   "execution_count": 17,
   "metadata": {
    "tags": []
   },
   "outputs": [
    {
     "data": {
      "text/plain": [
       "Text(0.5, 1.0, 'Training and validation loss DIY Model')"
      ]
     },
     "execution_count": 17,
     "metadata": {},
     "output_type": "execute_result"
    },
    {
     "data": {
      "image/png": "[encoded data removed]",
      "text/plain": [
       "<Figure size 640x480 with 1 Axes>"
      ]
     },
     "metadata": {},
     "output_type": "display_data"
    },
    {
     "data": {
      "image/png": "[encoded data removed]",
      "text/plain": [
       "<Figure size 640x480 with 1 Axes>"
      ]
     },
     "metadata": {},
     "output_type": "display_data"
    }
   ],
   "source": [
    "#-----------------------------------------------------------\n",
    "# Retrieve a list of list results on training and test data\n",
    "# sets for each training epoch\n",
    "#-----------------------------------------------------------\n",
    "acc      = history_DIY_model_2.history['accuracy' ]\n",
    "val_acc  = history_DIY_model_2.history['val_accuracy' ]\n",
    "loss     = history_DIY_model_2.history['loss' ]\n",
    "val_loss = history_DIY_model_2.history['val_loss' ]\n",
    "\n",
    "epochs   = range(len(acc)) # Get number of epochs\n",
    "\n",
    "#------------------------------------------------\n",
    "# Plot training and validation accuracy per epoch\n",
    "#------------------------------------------------\n",
    "plt.plot  (epochs, acc )\n",
    "plt.plot  (epochs, val_acc )\n",
    "plt.title ('Training and validation accuracy DIY Model')\n",
    "plt.legend(['train', 'val'], loc='upper left')\n",
    "plt.figure()\n",
    "\n",
    "#------------------------------------------------\n",
    "# Plot training and validation loss per epoch\n",
    "#------------------------------------------------\n",
    "plt.plot  (epochs, loss)\n",
    "plt.plot  (epochs, val_loss)\n",
    "plt.legend(['train', 'val'], loc='upper left')\n",
    "plt.title ('Training and validation loss DIY Model')"
   ]
  }
 ],
 "metadata": {
  "kernelspec": {
   "display_name": "Python 3 (ipykernel)",
   "language": "python",
   "name": "python3"
  },
  "language_info": {
   "codemirror_mode": {
    "name": "ipython",
    "version": 3
   },
   "file_extension": ".py",
   "mimetype": "text/x-python",
   "name": "python",
   "nbconvert_exporter": "python",
   "pygments_lexer": "ipython3",
   "version": "3.10.0"
  }
 },
 "nbformat": 4,
 "nbformat_minor": 4
}
