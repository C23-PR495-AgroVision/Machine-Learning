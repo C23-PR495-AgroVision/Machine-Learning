{
 "cells": [
  {
   "attachments": {},
   "cell_type": "markdown",
   "metadata": {},
   "source": [
    "# Library"
   ]
  },
  {
   "cell_type": "code",
   "execution_count": 1,
   "metadata": {
    "tags": []
   },
   "outputs": [
    {
     "name": "stdout",
     "output_type": "stream",
     "text": [
      "Requirement already satisfied: matplotlib in c:\\users\\hasan\\anaconda3\\envs\\tensorflow_gpu_zein\\lib\\site-packages (3.6.3)\n",
      "Requirement already satisfied: contourpy>=1.0.1 in c:\\users\\hasan\\anaconda3\\envs\\tensorflow_gpu_zein\\lib\\site-packages (from matplotlib) (1.0.7)\n",
      "Requirement already satisfied: fonttools>=4.22.0 in c:\\users\\hasan\\anaconda3\\envs\\tensorflow_gpu_zein\\lib\\site-packages (from matplotlib) (4.39.2)\n",
      "Requirement already satisfied: cycler>=0.10 in c:\\users\\hasan\\anaconda3\\envs\\tensorflow_gpu_zein\\lib\\site-packages (from matplotlib) (0.11.0)\n",
      "Requirement already satisfied: pyparsing>=2.2.1 in c:\\users\\hasan\\anaconda3\\envs\\tensorflow_gpu_zein\\lib\\site-packages (from matplotlib) (3.0.9)\n",
      "Requirement already satisfied: python-dateutil>=2.7 in c:\\users\\hasan\\anaconda3\\envs\\tensorflow_gpu_zein\\lib\\site-packages (from matplotlib) (2.8.2)\n",
      "Requirement already satisfied: kiwisolver>=1.0.1 in c:\\users\\hasan\\anaconda3\\envs\\tensorflow_gpu_zein\\lib\\site-packages (from matplotlib) (1.4.4)\n",
      "Requirement already satisfied: packaging>=20.0 in c:\\users\\hasan\\anaconda3\\envs\\tensorflow_gpu_zein\\lib\\site-packages (from matplotlib) (23.1)\n",
      "Requirement already satisfied: pillow>=6.2.0 in c:\\users\\hasan\\anaconda3\\envs\\tensorflow_gpu_zein\\lib\\site-packages (from matplotlib) (9.4.0)\n",
      "Requirement already satisfied: numpy>=1.19 in c:\\users\\hasan\\anaconda3\\envs\\tensorflow_gpu_zein\\lib\\site-packages (from matplotlib) (1.23.5)\n",
      "Requirement already satisfied: six>=1.5 in c:\\users\\hasan\\anaconda3\\envs\\tensorflow_gpu_zein\\lib\\site-packages (from python-dateutil>=2.7->matplotlib) (1.16.0)\n",
      "Note: you may need to restart the kernel to use updated packages.\n"
     ]
    },
    {
     "name": "stderr",
     "output_type": "stream",
     "text": [
      "WARNING: Ignoring invalid distribution -rotobuf (c:\\users\\hasan\\anaconda3\\envs\\tensorflow_gpu_zein\\lib\\site-packages)\n",
      "WARNING: Ignoring invalid distribution -rotobuf (c:\\users\\hasan\\anaconda3\\envs\\tensorflow_gpu_zein\\lib\\site-packages)\n",
      "WARNING: Ignoring invalid distribution -rotobuf (c:\\users\\hasan\\anaconda3\\envs\\tensorflow_gpu_zein\\lib\\site-packages)\n",
      "WARNING: Ignoring invalid distribution -rotobuf (c:\\users\\hasan\\anaconda3\\envs\\tensorflow_gpu_zein\\lib\\site-packages)\n",
      "WARNING: Ignoring invalid distribution -rotobuf (c:\\users\\hasan\\anaconda3\\envs\\tensorflow_gpu_zein\\lib\\site-packages)\n",
      "WARNING: Ignoring invalid distribution -rotobuf (c:\\users\\hasan\\anaconda3\\envs\\tensorflow_gpu_zein\\lib\\site-packages)\n"
     ]
    }
   ],
   "source": [
    "pip install matplotlib"
   ]
  },
  {
   "cell_type": "code",
   "execution_count": 2,
   "metadata": {
    "tags": []
   },
   "outputs": [
    {
     "name": "stdout",
     "output_type": "stream",
     "text": [
      "Requirement already satisfied: opendatasets in c:\\users\\hasan\\anaconda3\\envs\\tensorflow_gpu_zein\\lib\\site-packages (0.1.22)\n",
      "Requirement already satisfied: kaggle in c:\\users\\hasan\\anaconda3\\envs\\tensorflow_gpu_zein\\lib\\site-packages (from opendatasets) (1.5.13)\n",
      "Requirement already satisfied: click in c:\\users\\hasan\\anaconda3\\envs\\tensorflow_gpu_zein\\lib\\site-packages (from opendatasets) (8.1.3)\n",
      "Requirement already satisfied: tqdm in c:\\users\\hasan\\anaconda3\\envs\\tensorflow_gpu_zein\\lib\\site-packages (from opendatasets) (4.64.1)\n",
      "Requirement already satisfied: colorama in c:\\users\\hasan\\anaconda3\\envs\\tensorflow_gpu_zein\\lib\\site-packages (from click->opendatasets) (0.4.6)\n",
      "Requirement already satisfied: six>=1.10 in c:\\users\\hasan\\anaconda3\\envs\\tensorflow_gpu_zein\\lib\\site-packages (from kaggle->opendatasets) (1.16.0)\n",
      "Requirement already satisfied: requests in c:\\users\\hasan\\anaconda3\\envs\\tensorflow_gpu_zein\\lib\\site-packages (from kaggle->opendatasets) (2.28.2)\n",
      "Requirement already satisfied: certifi in c:\\users\\hasan\\anaconda3\\envs\\tensorflow_gpu_zein\\lib\\site-packages (from kaggle->opendatasets) (2022.12.7)\n",
      "Requirement already satisfied: python-slugify in c:\\users\\hasan\\anaconda3\\envs\\tensorflow_gpu_zein\\lib\\site-packages (from kaggle->opendatasets) (8.0.1)\n",
      "Requirement already satisfied: urllib3 in c:\\users\\hasan\\anaconda3\\envs\\tensorflow_gpu_zein\\lib\\site-packages (from kaggle->opendatasets) (1.26.15)\n",
      "Requirement already satisfied: python-dateutil in c:\\users\\hasan\\anaconda3\\envs\\tensorflow_gpu_zein\\lib\\site-packages (from kaggle->opendatasets) (2.8.2)\n",
      "Requirement already satisfied: text-unidecode>=1.3 in c:\\users\\hasan\\anaconda3\\envs\\tensorflow_gpu_zein\\lib\\site-packages (from python-slugify->kaggle->opendatasets) (1.3)\n",
      "Requirement already satisfied: idna<4,>=2.5 in c:\\users\\hasan\\anaconda3\\envs\\tensorflow_gpu_zein\\lib\\site-packages (from requests->kaggle->opendatasets) (3.4)\n",
      "Requirement already satisfied: charset-normalizer<4,>=2 in c:\\users\\hasan\\anaconda3\\envs\\tensorflow_gpu_zein\\lib\\site-packages (from requests->kaggle->opendatasets) (3.1.0)\n",
      "Note: you may need to restart the kernel to use updated packages.\n"
     ]
    },
    {
     "name": "stderr",
     "output_type": "stream",
     "text": [
      "WARNING: Ignoring invalid distribution -rotobuf (c:\\users\\hasan\\anaconda3\\envs\\tensorflow_gpu_zein\\lib\\site-packages)\n",
      "WARNING: Ignoring invalid distribution -rotobuf (c:\\users\\hasan\\anaconda3\\envs\\tensorflow_gpu_zein\\lib\\site-packages)\n",
      "WARNING: Ignoring invalid distribution -rotobuf (c:\\users\\hasan\\anaconda3\\envs\\tensorflow_gpu_zein\\lib\\site-packages)\n",
      "WARNING: Ignoring invalid distribution -rotobuf (c:\\users\\hasan\\anaconda3\\envs\\tensorflow_gpu_zein\\lib\\site-packages)\n",
      "WARNING: Ignoring invalid distribution -rotobuf (c:\\users\\hasan\\anaconda3\\envs\\tensorflow_gpu_zein\\lib\\site-packages)\n",
      "WARNING: Ignoring invalid distribution -rotobuf (c:\\users\\hasan\\anaconda3\\envs\\tensorflow_gpu_zein\\lib\\site-packages)\n"
     ]
    }
   ],
   "source": [
    "pip install opendatasets"
   ]
  },
  {
   "cell_type": "code",
   "execution_count": 3,
   "metadata": {
    "tags": []
   },
   "outputs": [],
   "source": [
    "# Library to dataset\n",
    "import opendatasets as od\n",
    "import os\n",
    "import zipfile\n",
    "import numpy as np\n",
    "\n",
    "# Surpress Warnings\n",
    "import warnings\n",
    "warnings.filterwarnings('ignore')\n",
    "os.environ['TF_CPP_MIN_LOG_LEVEL'] = '3' \n",
    "# library visualization\n",
    "import matplotlib.pyplot as plt\n",
    "\n",
    "# Library Tensorflow\n",
    "import tensorflow as tf\n",
    "from tensorflow import keras\n",
    "from tensorflow.keras.preprocessing.image import ImageDataGenerator\n",
    "from tensorflow.keras.callbacks import ModelCheckpoint, EarlyStopping, ReduceLROnPlateau\n",
    "from tensorflow.keras.applications.densenet import DenseNet121\n",
    "# Others\n",
    "import shutil\n",
    "import random"
   ]
  },
  {
   "attachments": {},
   "cell_type": "markdown",
   "metadata": {},
   "source": [
    "# Load dataset"
   ]
  },
  {
   "cell_type": "code",
   "execution_count": 4,
   "metadata": {
    "tags": []
   },
   "outputs": [
    {
     "name": "stdout",
     "output_type": "stream",
     "text": [
      "==========================Training Data====================\n",
      "Found 4033 files belonging to 2 classes.\n",
      "==========================Validation Data====================\n",
      "Found 962 files belonging to 2 classes.\n"
     ]
    }
   ],
   "source": [
    "# Load dataset\n",
    "print(\"==========================Training Data====================\")\n",
    "train_data = tf.keras.preprocessing.image_dataset_from_directory(\n",
    "    \"Dataset/Bell_pepper/train\",\n",
    "    label_mode=\"categorical\",\n",
    "    class_names= ['Pepper bell Bacterial spot', 'Pepper bell healthy'],\n",
    "    color_mode=\"rgb\",\n",
    "    batch_size=1,\n",
    "    image_size=(256, 256),\n",
    "    shuffle=True,\n",
    "    seed=123\n",
    ")\n",
    "print(\"==========================Validation Data====================\")\n",
    "val_data = tf.keras.preprocessing.image_dataset_from_directory(\n",
    "    \"Dataset/Bell_pepper/test\",\n",
    "    label_mode=\"categorical\",\n",
    "    class_names= ['Pepper bell Bacterial spot', 'Pepper bell healthy'],\n",
    "    color_mode=\"rgb\",\n",
    "    batch_size=1,\n",
    "    image_size=(256, 256),\n",
    "    shuffle=True,\n",
    "    seed=123\n",
    ")"
   ]
  },
  {
   "cell_type": "code",
   "execution_count": 5,
   "metadata": {
    "tags": []
   },
   "outputs": [
    {
     "name": "stdout",
     "output_type": "stream",
     "text": [
      "Found 4033 images belonging to 2 classes.\n",
      "Found 962 images belonging to 2 classes.\n"
     ]
    }
   ],
   "source": [
    "# All images will be rescaled by 1./255.\n",
    "train_datagen = ImageDataGenerator(rescale = 1.0/256.)\n",
    "test_datagen  = ImageDataGenerator(rescale = 1.0/256.)\n",
    "\n",
    "# --------------------\n",
    "# Flow training images in batches of 20 using train_datagen generator\n",
    "# --------------------\n",
    "train_generator = train_datagen.flow_from_directory(\"Dataset/Bell_pepper/train\",\n",
    "                                                    batch_size=20,\n",
    "                                                    class_mode='categorical',\n",
    "                                                    target_size=(224, 224))     \n",
    "# --------------------\n",
    "# Flow validation images in batches of 20 using test_datagen generator\n",
    "# --------------------\n",
    "validation_generator =  test_datagen.flow_from_directory(\"Dataset/Bell_pepper/test\",\n",
    "                                                         batch_size=20,\n",
    "                                                         class_mode  = 'categorical',\n",
    "                                                         target_size = (224, 224))"
   ]
  },
  {
   "attachments": {},
   "cell_type": "markdown",
   "metadata": {},
   "source": [
    "# List Resource"
   ]
  },
  {
   "cell_type": "code",
   "execution_count": 6,
   "metadata": {
    "tags": []
   },
   "outputs": [
    {
     "name": "stdout",
     "output_type": "stream",
     "text": [
      "Wed May 24 15:49:10 2023       \n",
      "+---------------------------------------------------------------------------------------+\n",
      "| NVIDIA-SMI 531.79                 Driver Version: 531.79       CUDA Version: 12.1     |\n",
      "|-----------------------------------------+----------------------+----------------------+\n",
      "| GPU  Name                      TCC/WDDM | Bus-Id        Disp.A | Volatile Uncorr. ECC |\n",
      "| Fan  Temp  Perf            Pwr:Usage/Cap|         Memory-Usage | GPU-Util  Compute M. |\n",
      "|                                         |                      |               MIG M. |\n",
      "|=========================================+======================+======================|\n",
      "|   0  NVIDIA GeForce RTX 3060 L...  WDDM | 00000000:01:00.0  On |                  N/A |\n",
      "| N/A   54C    P0               29W /  N/A|   4456MiB /  6144MiB |      8%      Default |\n",
      "|                                         |                      |                  N/A |\n",
      "+-----------------------------------------+----------------------+----------------------+\n",
      "                                                                                         \n",
      "+---------------------------------------------------------------------------------------+\n",
      "| Processes:                                                                            |\n",
      "|  GPU   GI   CI        PID   Type   Process name                            GPU Memory |\n",
      "|        ID   ID                                                             Usage      |\n",
      "|=======================================================================================|\n",
      "|    0   N/A  N/A      1464    C+G   ...nt.CBS_cw5n1h2txyewy\\SearchHost.exe    N/A      |\n",
      "|    0   N/A  N/A      2972    C+G   ...2txyewy\\StartMenuExperienceHost.exe    N/A      |\n",
      "|    0   N/A  N/A      4804    C+G   ...2.0_x64__cv1g1gvanyjgm\\WhatsApp.exe    N/A      |\n",
      "|    0   N/A  N/A      6036    C+G   ...siveControlPanel\\SystemSettings.exe    N/A      |\n",
      "|    0   N/A  N/A      6164    C+G   ...1.0_x64__8wekyb3d8bbwe\\Video.UI.exe    N/A      |\n",
      "|    0   N/A  N/A      6352    C+G   ...5n1h2txyewy\\ShellExperienceHost.exe    N/A      |\n",
      "|    0   N/A  N/A      8596    C+G   ...on\\113.0.1774.50\\msedgewebview2.exe    N/A      |\n",
      "|    0   N/A  N/A      9816    C+G   C:\\WINDOWS\\explorer.exe                   N/A      |\n",
      "|    0   N/A  N/A     10808    C+G   ...les\\Microsoft OneDrive\\OneDrive.exe    N/A      |\n",
      "|    0   N/A  N/A     13840    C+G   ...x64__qmba6cd70vzyy\\ArmouryCrate.exe    N/A      |\n",
      "|    0   N/A  N/A     14912    C+G   ...t.LockApp_cw5n1h2txyewy\\LockApp.exe    N/A      |\n",
      "|    0   N/A  N/A     15568    C+G   ...ekyb3d8bbwe\\PhoneExperienceHost.exe    N/A      |\n",
      "|    0   N/A  N/A     17220    C+G   ...Programs\\Microsoft VS Code\\Code.exe    N/A      |\n",
      "|    0   N/A  N/A     17780    C+G   ...GeForce Experience\\NVIDIA Share.exe    N/A      |\n",
      "|    0   N/A  N/A     18696    C+G   ...oogle\\Chrome\\Application\\chrome.exe    N/A      |\n",
      "|    0   N/A  N/A     18912    C+G   ...les\\Microsoft OneDrive\\OneDrive.exe    N/A      |\n",
      "|    0   N/A  N/A     19908    C+G   ...les\\AMD\\CNext\\CNext\\AMDRSSrcExt.exe    N/A      |\n",
      "|    0   N/A  N/A     20296    C+G   ...\\AMD\\CNext\\CNext\\RadeonSoftware.exe    N/A      |\n",
      "|    0   N/A  N/A     20416    C+G   ...64__v826wp6bftszj\\TranslucentTB.exe    N/A      |\n",
      "|    0   N/A  N/A     23004      C   ...envs\\tensorflow_gpu_zein\\python.exe    N/A      |\n",
      "|    0   N/A  N/A     24528    C+G   ...CBS_cw5n1h2txyewy\\TextInputHost.exe    N/A      |\n",
      "+---------------------------------------------------------------------------------------+\n"
     ]
    }
   ],
   "source": [
    "# Check GPU\n",
    "!nvidia-smi"
   ]
  },
  {
   "cell_type": "code",
   "execution_count": 7,
   "metadata": {
    "tags": []
   },
   "outputs": [
    {
     "data": {
      "text/plain": [
       "[PhysicalDevice(name='/physical_device:GPU:0', device_type='GPU')]"
      ]
     },
     "execution_count": 7,
     "metadata": {},
     "output_type": "execute_result"
    }
   ],
   "source": [
    "# Lis physical devices\n",
    "devices = tf.config.experimental.list_physical_devices(\"GPU\")\n",
    "devices"
   ]
  },
  {
   "cell_type": "code",
   "execution_count": 8,
   "metadata": {
    "tags": []
   },
   "outputs": [
    {
     "name": "stdout",
     "output_type": "stream",
     "text": [
      "INFO:tensorflow:Using MirroredStrategy with devices ('/job:localhost/replica:0/task:0/device:GPU:0',)\n"
     ]
    }
   ],
   "source": [
    "# Define the GPU strategy\n",
    "mirrored_strategy = tf.distribute.MirroredStrategy(devices=[\"/gpu:0\"])"
   ]
  },
  {
   "attachments": {},
   "cell_type": "markdown",
   "metadata": {},
   "source": [
    "# Modelling Without Augmentation"
   ]
  },
  {
   "attachments": {},
   "cell_type": "markdown",
   "metadata": {},
   "source": [
    "## DenseNet Model 1"
   ]
  },
  {
   "cell_type": "code",
   "execution_count": 9,
   "metadata": {
    "tags": []
   },
   "outputs": [],
   "source": [
    "# Difine the callbacks\n",
    "# Save the best model\n",
    "checkpoint_callback = ModelCheckpoint(filepath=\"BellPaper_DenseNet_model1_Based_Non_Augmented\", save_best_only=True, monitor=\"val_accuracy\", mode=\"max\", verbose=1)\n",
    "\n",
    "# Early stopping\n",
    "early_stopping_callback = EarlyStopping(monitor=\"val_accuracy\", mode=\"max\", patience=20, verbose=1, restore_best_weights=True)\n",
    "\n",
    "# Reduce learning rate\n",
    "reduce_lr_callback = ReduceLROnPlateau(monitor=\"val_loss\", factor=0.1, patience=5, verbose=1, mode=\"min\", min_delta=0.0001, cooldown=0, min_lr=0)\n",
    "\n",
    "# Callbacks list\n",
    "callbacks=[checkpoint_callback, early_stopping_callback, reduce_lr_callback]"
   ]
  },
  {
   "cell_type": "code",
   "execution_count": 10,
   "metadata": {
    "tags": []
   },
   "outputs": [
    {
     "name": "stdout",
     "output_type": "stream",
     "text": [
      "Model: \"sequential\"\n",
      "_________________________________________________________________\n",
      " Layer (type)                Output Shape              Param #   \n",
      "=================================================================\n",
      " densenet121 (Functional)    (None, 7, 7, 1024)        7037504   \n",
      "                                                                 \n",
      " global_max_pooling2d (Globa  (None, 1024)             0         \n",
      " lMaxPooling2D)                                                  \n",
      "                                                                 \n",
      " dropout (Dropout)           (None, 1024)              0         \n",
      "                                                                 \n",
      " dense (Dense)               (None, 256)               262400    \n",
      "                                                                 \n",
      " dense_1 (Dense)             (None, 2)                 514       \n",
      "                                                                 \n",
      "=================================================================\n",
      "Total params: 7,300,418\n",
      "Trainable params: 7,216,770\n",
      "Non-trainable params: 83,648\n",
      "_________________________________________________________________\n"
     ]
    }
   ],
   "source": [
    "# Define DIY Model\n",
    "DenseNet_model = tf.keras.models.Sequential([\n",
    "    # DenseNet121 Layer\n",
    "    DenseNet121(include_top=False,weights='imagenet',input_shape=(224, 224, 3)),\n",
    "    # Global Max Pooling Layer\n",
    "    tf.keras.layers.GlobalMaxPooling2D(),\n",
    "    # Drop Out Layer\n",
    "    tf.keras.layers.Dropout(0.2),\n",
    "    # 256 neuron hidden layer\n",
    "    tf.keras.layers.Dense(256, activation='relu'),\n",
    "    # Output\n",
    "    tf.keras.layers.Dense(2, activation='softmax') \n",
    "  ])\n",
    "\n",
    "\n",
    "# Compile Model\n",
    "DenseNet_model.compile(loss='categorical_crossentropy',optimizer=tf.keras.optimizers.Adam(), metrics=['accuracy']) \n",
    "\n",
    "# Model Summary\n",
    "DenseNet_model.summary()"
   ]
  },
  {
   "cell_type": "code",
   "execution_count": 11,
   "metadata": {
    "tags": []
   },
   "outputs": [
    {
     "name": "stdout",
     "output_type": "stream",
     "text": [
      "Epoch 1/100\n",
      "202/202 [==============================] - ETA: 0s - loss: 0.2263 - accuracy: 0.9531\n",
      "Epoch 1: val_accuracy improved from -inf to 0.67152, saving model to BellPaper_DenseNet_model1_Based_Non_Augmented\n"
     ]
    },
    {
     "name": "stderr",
     "output_type": "stream",
     "text": [
      "WARNING:absl:Found untraced functions such as _jit_compiled_convolution_op, _jit_compiled_convolution_op, _jit_compiled_convolution_op, _jit_compiled_convolution_op, _jit_compiled_convolution_op while saving (showing 5 of 120). These functions will not be directly callable after loading.\n"
     ]
    },
    {
     "name": "stdout",
     "output_type": "stream",
     "text": [
      "INFO:tensorflow:Assets written to: BellPaper_DenseNet_model1_Based_Non_Augmented\\assets\n"
     ]
    },
    {
     "name": "stderr",
     "output_type": "stream",
     "text": [
      "INFO:tensorflow:Assets written to: BellPaper_DenseNet_model1_Based_Non_Augmented\\assets\n"
     ]
    },
    {
     "name": "stdout",
     "output_type": "stream",
     "text": [
      "202/202 [==============================] - 100s 417ms/step - loss: 0.2263 - accuracy: 0.9531 - val_loss: 11.9023 - val_accuracy: 0.6715 - lr: 0.0010\n",
      "Epoch 2/100\n",
      "202/202 [==============================] - ETA: 0s - loss: 0.0563 - accuracy: 0.9784\n",
      "Epoch 2: val_accuracy improved from 0.67152 to 0.99688, saving model to BellPaper_DenseNet_model1_Based_Non_Augmented\n"
     ]
    },
    {
     "name": "stderr",
     "output_type": "stream",
     "text": [
      "WARNING:absl:Found untraced functions such as _jit_compiled_convolution_op, _jit_compiled_convolution_op, _jit_compiled_convolution_op, _jit_compiled_convolution_op, _jit_compiled_convolution_op while saving (showing 5 of 120). These functions will not be directly callable after loading.\n"
     ]
    },
    {
     "name": "stdout",
     "output_type": "stream",
     "text": [
      "INFO:tensorflow:Assets written to: BellPaper_DenseNet_model1_Based_Non_Augmented\\assets\n"
     ]
    },
    {
     "name": "stderr",
     "output_type": "stream",
     "text": [
      "INFO:tensorflow:Assets written to: BellPaper_DenseNet_model1_Based_Non_Augmented\\assets\n"
     ]
    },
    {
     "name": "stdout",
     "output_type": "stream",
     "text": [
      "202/202 [==============================] - 76s 376ms/step - loss: 0.0563 - accuracy: 0.9784 - val_loss: 0.0123 - val_accuracy: 0.9969 - lr: 0.0010\n",
      "Epoch 3/100\n",
      "202/202 [==============================] - ETA: 0s - loss: 0.0290 - accuracy: 0.9888\n",
      "Epoch 3: val_accuracy did not improve from 0.99688\n",
      "202/202 [==============================] - 36s 177ms/step - loss: 0.0290 - accuracy: 0.9888 - val_loss: 0.0068 - val_accuracy: 0.9969 - lr: 0.0010\n",
      "Epoch 4/100\n",
      "202/202 [==============================] - ETA: 0s - loss: 0.0532 - accuracy: 0.9846\n",
      "Epoch 4: val_accuracy did not improve from 0.99688\n",
      "202/202 [==============================] - 35s 175ms/step - loss: 0.0532 - accuracy: 0.9846 - val_loss: 0.0576 - val_accuracy: 0.9823 - lr: 0.0010\n",
      "Epoch 5/100\n",
      "202/202 [==============================] - ETA: 0s - loss: 0.0476 - accuracy: 0.9839\n",
      "Epoch 5: val_accuracy did not improve from 0.99688\n",
      "202/202 [==============================] - 36s 178ms/step - loss: 0.0476 - accuracy: 0.9839 - val_loss: 0.0214 - val_accuracy: 0.9906 - lr: 0.0010\n",
      "Epoch 6/100\n",
      "202/202 [==============================] - ETA: 0s - loss: 0.0189 - accuracy: 0.9918\n",
      "Epoch 6: val_accuracy did not improve from 0.99688\n",
      "202/202 [==============================] - 36s 178ms/step - loss: 0.0189 - accuracy: 0.9918 - val_loss: 0.0169 - val_accuracy: 0.9938 - lr: 0.0010\n",
      "Epoch 7/100\n",
      "202/202 [==============================] - ETA: 0s - loss: 0.0192 - accuracy: 0.9923\n",
      "Epoch 7: val_accuracy did not improve from 0.99688\n",
      "202/202 [==============================] - 37s 181ms/step - loss: 0.0192 - accuracy: 0.9923 - val_loss: 0.0132 - val_accuracy: 0.9948 - lr: 0.0010\n",
      "Epoch 8/100\n",
      "202/202 [==============================] - ETA: 0s - loss: 0.0487 - accuracy: 0.9831\n",
      "Epoch 8: val_accuracy did not improve from 0.99688\n",
      "\n",
      "Epoch 8: ReduceLROnPlateau reducing learning rate to 0.00010000000474974513.\n",
      "202/202 [==============================] - 36s 181ms/step - loss: 0.0487 - accuracy: 0.9831 - val_loss: 0.0199 - val_accuracy: 0.9927 - lr: 0.0010\n",
      "Epoch 9/100\n",
      "202/202 [==============================] - ETA: 0s - loss: 0.0199 - accuracy: 0.9931\n",
      "Epoch 9: val_accuracy improved from 0.99688 to 0.99792, saving model to BellPaper_DenseNet_model1_Based_Non_Augmented\n"
     ]
    },
    {
     "name": "stderr",
     "output_type": "stream",
     "text": [
      "WARNING:absl:Found untraced functions such as _jit_compiled_convolution_op, _jit_compiled_convolution_op, _jit_compiled_convolution_op, _jit_compiled_convolution_op, _jit_compiled_convolution_op while saving (showing 5 of 120). These functions will not be directly callable after loading.\n"
     ]
    },
    {
     "name": "stdout",
     "output_type": "stream",
     "text": [
      "INFO:tensorflow:Assets written to: BellPaper_DenseNet_model1_Based_Non_Augmented\\assets\n"
     ]
    },
    {
     "name": "stderr",
     "output_type": "stream",
     "text": [
      "INFO:tensorflow:Assets written to: BellPaper_DenseNet_model1_Based_Non_Augmented\\assets\n"
     ]
    },
    {
     "name": "stdout",
     "output_type": "stream",
     "text": [
      "202/202 [==============================] - 75s 374ms/step - loss: 0.0199 - accuracy: 0.9931 - val_loss: 0.0085 - val_accuracy: 0.9979 - lr: 1.0000e-04\n",
      "Epoch 10/100\n",
      "202/202 [==============================] - ETA: 0s - loss: 0.0107 - accuracy: 0.9968\n",
      "Epoch 10: val_accuracy did not improve from 0.99792\n",
      "202/202 [==============================] - 37s 179ms/step - loss: 0.0107 - accuracy: 0.9968 - val_loss: 0.0085 - val_accuracy: 0.9969 - lr: 1.0000e-04\n",
      "Epoch 11/100\n",
      "202/202 [==============================] - ETA: 0s - loss: 0.0074 - accuracy: 0.9970\n",
      "Epoch 11: val_accuracy did not improve from 0.99792\n",
      "202/202 [==============================] - 36s 180ms/step - loss: 0.0074 - accuracy: 0.9970 - val_loss: 0.0065 - val_accuracy: 0.9979 - lr: 1.0000e-04\n",
      "Epoch 12/100\n",
      "202/202 [==============================] - ETA: 0s - loss: 0.0064 - accuracy: 0.9973\n",
      "Epoch 12: val_accuracy did not improve from 0.99792\n",
      "202/202 [==============================] - 38s 190ms/step - loss: 0.0064 - accuracy: 0.9973 - val_loss: 0.0086 - val_accuracy: 0.9979 - lr: 1.0000e-04\n",
      "Epoch 13/100\n",
      "202/202 [==============================] - ETA: 0s - loss: 0.0044 - accuracy: 0.9985\n",
      "Epoch 13: val_accuracy did not improve from 0.99792\n",
      "202/202 [==============================] - 39s 195ms/step - loss: 0.0044 - accuracy: 0.9985 - val_loss: 0.0075 - val_accuracy: 0.9958 - lr: 1.0000e-04\n",
      "Epoch 14/100\n",
      "202/202 [==============================] - ETA: 0s - loss: 0.0031 - accuracy: 0.9990\n",
      "Epoch 14: val_accuracy did not improve from 0.99792\n",
      "202/202 [==============================] - 39s 194ms/step - loss: 0.0031 - accuracy: 0.9990 - val_loss: 0.0111 - val_accuracy: 0.9969 - lr: 1.0000e-04\n",
      "Epoch 15/100\n",
      "202/202 [==============================] - ETA: 0s - loss: 0.0020 - accuracy: 0.9993\n",
      "Epoch 15: val_accuracy did not improve from 0.99792\n",
      "202/202 [==============================] - 39s 195ms/step - loss: 0.0020 - accuracy: 0.9993 - val_loss: 0.0071 - val_accuracy: 0.9979 - lr: 1.0000e-04\n",
      "Epoch 16/100\n",
      "202/202 [==============================] - ETA: 0s - loss: 0.0015 - accuracy: 0.9998\n",
      "Epoch 16: val_accuracy did not improve from 0.99792\n",
      "\n",
      "Epoch 16: ReduceLROnPlateau reducing learning rate to 1.0000000474974514e-05.\n",
      "202/202 [==============================] - 39s 194ms/step - loss: 0.0015 - accuracy: 0.9998 - val_loss: 0.0068 - val_accuracy: 0.9979 - lr: 1.0000e-04\n",
      "Epoch 17/100\n",
      "202/202 [==============================] - ETA: 0s - loss: 9.1383e-04 - accuracy: 0.9998\n",
      "Epoch 17: val_accuracy did not improve from 0.99792\n",
      "202/202 [==============================] - 39s 195ms/step - loss: 9.1383e-04 - accuracy: 0.9998 - val_loss: 0.0070 - val_accuracy: 0.9979 - lr: 1.0000e-05\n",
      "Epoch 18/100\n",
      "202/202 [==============================] - ETA: 0s - loss: 6.8371e-04 - accuracy: 1.0000\n",
      "Epoch 18: val_accuracy did not improve from 0.99792\n",
      "202/202 [==============================] - 39s 191ms/step - loss: 6.8371e-04 - accuracy: 1.0000 - val_loss: 0.0073 - val_accuracy: 0.9979 - lr: 1.0000e-05\n",
      "Epoch 19/100\n",
      "202/202 [==============================] - ETA: 0s - loss: 0.0020 - accuracy: 0.9998\n",
      "Epoch 19: val_accuracy did not improve from 0.99792\n",
      "202/202 [==============================] - 39s 191ms/step - loss: 0.0020 - accuracy: 0.9998 - val_loss: 0.0090 - val_accuracy: 0.9979 - lr: 1.0000e-05\n",
      "Epoch 20/100\n",
      "202/202 [==============================] - ETA: 0s - loss: 6.8037e-04 - accuracy: 1.0000\n",
      "Epoch 20: val_accuracy did not improve from 0.99792\n",
      "202/202 [==============================] - 37s 184ms/step - loss: 6.8037e-04 - accuracy: 1.0000 - val_loss: 0.0089 - val_accuracy: 0.9979 - lr: 1.0000e-05\n",
      "Epoch 21/100\n",
      "202/202 [==============================] - ETA: 0s - loss: 5.3739e-04 - accuracy: 1.0000\n",
      "Epoch 21: val_accuracy did not improve from 0.99792\n",
      "\n",
      "Epoch 21: ReduceLROnPlateau reducing learning rate to 1.0000000656873453e-06.\n",
      "202/202 [==============================] - 37s 185ms/step - loss: 5.3739e-04 - accuracy: 1.0000 - val_loss: 0.0087 - val_accuracy: 0.9979 - lr: 1.0000e-05\n",
      "Epoch 22/100\n",
      "202/202 [==============================] - ETA: 0s - loss: 8.3327e-04 - accuracy: 1.0000\n",
      "Epoch 22: val_accuracy did not improve from 0.99792\n",
      "202/202 [==============================] - 37s 181ms/step - loss: 8.3327e-04 - accuracy: 1.0000 - val_loss: 0.0086 - val_accuracy: 0.9979 - lr: 1.0000e-06\n",
      "Epoch 23/100\n",
      "202/202 [==============================] - ETA: 0s - loss: 3.8897e-04 - accuracy: 1.0000\n",
      "Epoch 23: val_accuracy did not improve from 0.99792\n",
      "202/202 [==============================] - 37s 183ms/step - loss: 3.8897e-04 - accuracy: 1.0000 - val_loss: 0.0083 - val_accuracy: 0.9979 - lr: 1.0000e-06\n",
      "Epoch 24/100\n",
      "202/202 [==============================] - ETA: 0s - loss: 6.8665e-04 - accuracy: 1.0000\n",
      "Epoch 24: val_accuracy did not improve from 0.99792\n",
      "202/202 [==============================] - 37s 182ms/step - loss: 6.8665e-04 - accuracy: 1.0000 - val_loss: 0.0084 - val_accuracy: 0.9979 - lr: 1.0000e-06\n",
      "Epoch 25/100\n",
      "202/202 [==============================] - ETA: 0s - loss: 4.3706e-04 - accuracy: 1.0000\n",
      "Epoch 25: val_accuracy did not improve from 0.99792\n",
      "202/202 [==============================] - 37s 182ms/step - loss: 4.3706e-04 - accuracy: 1.0000 - val_loss: 0.0083 - val_accuracy: 0.9979 - lr: 1.0000e-06\n",
      "Epoch 26/100\n",
      "202/202 [==============================] - ETA: 0s - loss: 4.3497e-04 - accuracy: 1.0000\n",
      "Epoch 26: val_accuracy did not improve from 0.99792\n",
      "\n",
      "Epoch 26: ReduceLROnPlateau reducing learning rate to 1.0000001111620805e-07.\n",
      "202/202 [==============================] - 37s 181ms/step - loss: 4.3497e-04 - accuracy: 1.0000 - val_loss: 0.0084 - val_accuracy: 0.9979 - lr: 1.0000e-06\n",
      "Epoch 27/100\n",
      "202/202 [==============================] - ETA: 0s - loss: 5.6730e-04 - accuracy: 1.0000\n",
      "Epoch 27: val_accuracy did not improve from 0.99792\n",
      "202/202 [==============================] - 37s 183ms/step - loss: 5.6730e-04 - accuracy: 1.0000 - val_loss: 0.0082 - val_accuracy: 0.9979 - lr: 1.0000e-07\n",
      "Epoch 28/100\n",
      "202/202 [==============================] - ETA: 0s - loss: 0.0014 - accuracy: 0.9998\n",
      "Epoch 28: val_accuracy did not improve from 0.99792\n",
      "202/202 [==============================] - 37s 185ms/step - loss: 0.0014 - accuracy: 0.9998 - val_loss: 0.0082 - val_accuracy: 0.9979 - lr: 1.0000e-07\n",
      "Epoch 29/100\n",
      "202/202 [==============================] - ETA: 0s - loss: 6.7016e-04 - accuracy: 0.9998\n",
      "Epoch 29: val_accuracy did not improve from 0.99792\n",
      "Restoring model weights from the end of the best epoch: 9.\n",
      "202/202 [==============================] - 38s 186ms/step - loss: 6.7016e-04 - accuracy: 0.9998 - val_loss: 0.0083 - val_accuracy: 0.9979 - lr: 1.0000e-07\n",
      "Epoch 29: early stopping\n"
     ]
    }
   ],
   "source": [
    "# Define the number of epochs\n",
    "num_epochs = 100\n",
    "\n",
    "# Train the model\n",
    "history_DenseNet_model_1 = DenseNet_model.fit(train_generator, epochs=num_epochs, validation_data=validation_generator, callbacks=callbacks)"
   ]
  },
  {
   "cell_type": "code",
   "execution_count": 12,
   "metadata": {
    "tags": []
   },
   "outputs": [
    {
     "data": {
      "text/plain": [
       "Text(0.5, 1.0, 'Training and validation loss DIY Model')"
      ]
     },
     "execution_count": 12,
     "metadata": {},
     "output_type": "execute_result"
    },
    {
     "data": {
      "image/png": "[encoded data removed]",
      "text/plain": [
       "<Figure size 640x480 with 1 Axes>"
      ]
     },
     "metadata": {},
     "output_type": "display_data"
    },
    {
     "data": {
      "image/png": "[encoded data removed]",
      "text/plain": [
       "<Figure size 640x480 with 1 Axes>"
      ]
     },
     "metadata": {},
     "output_type": "display_data"
    }
   ],
   "source": [
    "#-----------------------------------------------------------\n",
    "# Retrieve a list of list results on training and test data\n",
    "# sets for each training epoch\n",
    "#-----------------------------------------------------------\n",
    "acc      = history_DenseNet_model_1.history['accuracy' ]\n",
    "val_acc  = history_DenseNet_model_1.history['val_accuracy' ]\n",
    "loss     = history_DenseNet_model_1.history['loss' ]\n",
    "val_loss = history_DenseNet_model_1.history['val_loss' ]\n",
    "\n",
    "epochs   = range(len(acc)) # Get number of epochs\n",
    "\n",
    "#------------------------------------------------\n",
    "# Plot training and validation accuracy per epoch\n",
    "#------------------------------------------------\n",
    "plt.plot  (epochs, acc )\n",
    "plt.plot  (epochs, val_acc )\n",
    "plt.title ('Training and validation accuracy DIY Model')\n",
    "plt.figure()\n",
    "\n",
    "#------------------------------------------------\n",
    "# Plot training and validation loss per epoch\n",
    "#------------------------------------------------\n",
    "plt.plot  (epochs, loss)\n",
    "plt.plot  (epochs, val_loss)\n",
    "plt.title ('Training and validation loss DIY Model')"
   ]
  },
  {
   "attachments": {},
   "cell_type": "markdown",
   "metadata": {},
   "source": [
    "## DenseNet Model 2"
   ]
  },
  {
   "cell_type": "code",
   "execution_count": 13,
   "metadata": {
    "tags": []
   },
   "outputs": [],
   "source": [
    "# Difine the callbacks\n",
    "# Save the best model\n",
    "checkpoint_callback = ModelCheckpoint(filepath=\"BellPaper_DenseNet_model2_Based_Non_Augmented\", save_best_only=True, monitor=\"val_accuracy\", mode=\"max\", verbose=1)\n",
    "\n",
    "# Early stopping\n",
    "early_stopping_callback = EarlyStopping(monitor=\"val_accuracy\", mode=\"max\", patience=20, verbose=1, restore_best_weights=True)\n",
    "\n",
    "# Reduce learning rate\n",
    "reduce_lr_callback = ReduceLROnPlateau(monitor=\"val_loss\", factor=0.1, patience=5, verbose=1, mode=\"min\", min_delta=0.0001, cooldown=0, min_lr=0)\n",
    "\n",
    "# Callbacks list\n",
    "callbacks=[checkpoint_callback, early_stopping_callback, reduce_lr_callback]"
   ]
  },
  {
   "cell_type": "code",
   "execution_count": 14,
   "metadata": {
    "tags": []
   },
   "outputs": [
    {
     "name": "stdout",
     "output_type": "stream",
     "text": [
      "Model: \"sequential_1\"\n",
      "_________________________________________________________________\n",
      " Layer (type)                Output Shape              Param #   \n",
      "=================================================================\n",
      " densenet121 (Functional)    (None, 7, 7, 1024)        7037504   \n",
      "                                                                 \n",
      " global_average_pooling2d (G  (None, 1024)             0         \n",
      " lobalAveragePooling2D)                                          \n",
      "                                                                 \n",
      " dropout_1 (Dropout)         (None, 1024)              0         \n",
      "                                                                 \n",
      " dense_2 (Dense)             (None, 256)               262400    \n",
      "                                                                 \n",
      " dense_3 (Dense)             (None, 2)                 514       \n",
      "                                                                 \n",
      "=================================================================\n",
      "Total params: 7,300,418\n",
      "Trainable params: 7,216,770\n",
      "Non-trainable params: 83,648\n",
      "_________________________________________________________________\n"
     ]
    }
   ],
   "source": [
    "# Define DIY Model\n",
    "DenseNet_model_2 = tf.keras.models.Sequential([\n",
    "    # DenseNet121 Layer\n",
    "    DenseNet121(include_top=False,weights='imagenet',input_shape=(224, 224, 3)),\n",
    "    # Global Average Pooling Layer\n",
    "    tf.keras.layers.GlobalAveragePooling2D(),\n",
    "    # Drop Out Layer\n",
    "    tf.keras.layers.Dropout(0.2),\n",
    "    # 256 neuron hidden layer\n",
    "    tf.keras.layers.Dense(256, activation='relu'),\n",
    "    # Output\n",
    "    tf.keras.layers.Dense(2, activation='softmax') \n",
    "  ])\n",
    "\n",
    "\n",
    "# Compile Model\n",
    "DenseNet_model_2.compile(loss='categorical_crossentropy',optimizer=tf.keras.optimizers.Adam(), metrics=['accuracy']) \n",
    "\n",
    "# Model Summary\n",
    "DenseNet_model_2.summary()"
   ]
  },
  {
   "cell_type": "code",
   "execution_count": 15,
   "metadata": {
    "tags": []
   },
   "outputs": [
    {
     "name": "stdout",
     "output_type": "stream",
     "text": [
      "Epoch 1/100\n",
      "202/202 [==============================] - ETA: 0s - loss: 0.1331 - accuracy: 0.9561\n",
      "Epoch 1: val_accuracy improved from -inf to 0.91372, saving model to BellPaper_DenseNet_model2_Based_Non_Augmented\n"
     ]
    },
    {
     "name": "stderr",
     "output_type": "stream",
     "text": [
      "WARNING:absl:Found untraced functions such as _jit_compiled_convolution_op, _jit_compiled_convolution_op, _jit_compiled_convolution_op, _jit_compiled_convolution_op, _jit_compiled_convolution_op while saving (showing 5 of 120). These functions will not be directly callable after loading.\n"
     ]
    },
    {
     "name": "stdout",
     "output_type": "stream",
     "text": [
      "INFO:tensorflow:Assets written to: BellPaper_DenseNet_model2_Based_Non_Augmented\\assets\n"
     ]
    },
    {
     "name": "stderr",
     "output_type": "stream",
     "text": [
      "INFO:tensorflow:Assets written to: BellPaper_DenseNet_model2_Based_Non_Augmented\\assets\n"
     ]
    },
    {
     "name": "stdout",
     "output_type": "stream",
     "text": [
      "202/202 [==============================] - 86s 375ms/step - loss: 0.1331 - accuracy: 0.9561 - val_loss: 0.5091 - val_accuracy: 0.9137 - lr: 0.0010\n",
      "Epoch 2/100\n",
      "202/202 [==============================] - ETA: 0s - loss: 0.0655 - accuracy: 0.9774\n",
      "Epoch 2: val_accuracy improved from 0.91372 to 0.97817, saving model to BellPaper_DenseNet_model2_Based_Non_Augmented\n"
     ]
    },
    {
     "name": "stderr",
     "output_type": "stream",
     "text": [
      "WARNING:absl:Found untraced functions such as _jit_compiled_convolution_op, _jit_compiled_convolution_op, _jit_compiled_convolution_op, _jit_compiled_convolution_op, _jit_compiled_convolution_op while saving (showing 5 of 120). These functions will not be directly callable after loading.\n"
     ]
    },
    {
     "name": "stdout",
     "output_type": "stream",
     "text": [
      "INFO:tensorflow:Assets written to: BellPaper_DenseNet_model2_Based_Non_Augmented\\assets\n"
     ]
    },
    {
     "name": "stderr",
     "output_type": "stream",
     "text": [
      "INFO:tensorflow:Assets written to: BellPaper_DenseNet_model2_Based_Non_Augmented\\assets\n"
     ]
    },
    {
     "name": "stdout",
     "output_type": "stream",
     "text": [
      "202/202 [==============================] - 77s 383ms/step - loss: 0.0655 - accuracy: 0.9774 - val_loss: 0.0830 - val_accuracy: 0.9782 - lr: 0.0010\n",
      "Epoch 3/100\n",
      "202/202 [==============================] - ETA: 0s - loss: 0.0454 - accuracy: 0.9856\n",
      "Epoch 3: val_accuracy improved from 0.97817 to 0.98753, saving model to BellPaper_DenseNet_model2_Based_Non_Augmented\n"
     ]
    },
    {
     "name": "stderr",
     "output_type": "stream",
     "text": [
      "WARNING:absl:Found untraced functions such as _jit_compiled_convolution_op, _jit_compiled_convolution_op, _jit_compiled_convolution_op, _jit_compiled_convolution_op, _jit_compiled_convolution_op while saving (showing 5 of 120). These functions will not be directly callable after loading.\n"
     ]
    },
    {
     "name": "stdout",
     "output_type": "stream",
     "text": [
      "INFO:tensorflow:Assets written to: BellPaper_DenseNet_model2_Based_Non_Augmented\\assets\n"
     ]
    },
    {
     "name": "stderr",
     "output_type": "stream",
     "text": [
      "INFO:tensorflow:Assets written to: BellPaper_DenseNet_model2_Based_Non_Augmented\\assets\n"
     ]
    },
    {
     "name": "stdout",
     "output_type": "stream",
     "text": [
      "202/202 [==============================] - 76s 373ms/step - loss: 0.0454 - accuracy: 0.9856 - val_loss: 0.0462 - val_accuracy: 0.9875 - lr: 0.0010\n",
      "Epoch 4/100\n",
      "202/202 [==============================] - ETA: 0s - loss: 0.0339 - accuracy: 0.9866\n",
      "Epoch 4: val_accuracy did not improve from 0.98753\n",
      "202/202 [==============================] - 36s 178ms/step - loss: 0.0339 - accuracy: 0.9866 - val_loss: 0.1337 - val_accuracy: 0.9304 - lr: 0.0010\n",
      "Epoch 5/100\n",
      "202/202 [==============================] - ETA: 0s - loss: 0.0437 - accuracy: 0.9849\n",
      "Epoch 5: val_accuracy improved from 0.98753 to 0.99584, saving model to BellPaper_DenseNet_model2_Based_Non_Augmented\n"
     ]
    },
    {
     "name": "stderr",
     "output_type": "stream",
     "text": [
      "WARNING:absl:Found untraced functions such as _jit_compiled_convolution_op, _jit_compiled_convolution_op, _jit_compiled_convolution_op, _jit_compiled_convolution_op, _jit_compiled_convolution_op while saving (showing 5 of 120). These functions will not be directly callable after loading.\n"
     ]
    },
    {
     "name": "stdout",
     "output_type": "stream",
     "text": [
      "INFO:tensorflow:Assets written to: BellPaper_DenseNet_model2_Based_Non_Augmented\\assets\n"
     ]
    },
    {
     "name": "stderr",
     "output_type": "stream",
     "text": [
      "INFO:tensorflow:Assets written to: BellPaper_DenseNet_model2_Based_Non_Augmented\\assets\n"
     ]
    },
    {
     "name": "stdout",
     "output_type": "stream",
     "text": [
      "202/202 [==============================] - 75s 374ms/step - loss: 0.0437 - accuracy: 0.9849 - val_loss: 0.0098 - val_accuracy: 0.9958 - lr: 0.0010\n",
      "Epoch 6/100\n",
      "202/202 [==============================] - ETA: 0s - loss: 0.0497 - accuracy: 0.9836\n",
      "Epoch 6: val_accuracy did not improve from 0.99584\n",
      "202/202 [==============================] - 36s 177ms/step - loss: 0.0497 - accuracy: 0.9836 - val_loss: 0.0258 - val_accuracy: 0.9917 - lr: 0.0010\n",
      "Epoch 7/100\n",
      "202/202 [==============================] - ETA: 0s - loss: 0.0248 - accuracy: 0.9913\n",
      "Epoch 7: val_accuracy did not improve from 0.99584\n",
      "202/202 [==============================] - 36s 180ms/step - loss: 0.0248 - accuracy: 0.9913 - val_loss: 0.0762 - val_accuracy: 0.9751 - lr: 0.0010\n",
      "Epoch 8/100\n",
      "202/202 [==============================] - ETA: 0s - loss: 0.0197 - accuracy: 0.9931\n",
      "Epoch 8: val_accuracy did not improve from 0.99584\n",
      "202/202 [==============================] - 38s 188ms/step - loss: 0.0197 - accuracy: 0.9931 - val_loss: 0.0656 - val_accuracy: 0.9792 - lr: 0.0010\n",
      "Epoch 9/100\n",
      "202/202 [==============================] - ETA: 0s - loss: 0.0419 - accuracy: 0.9836\n",
      "Epoch 9: val_accuracy did not improve from 0.99584\n",
      "202/202 [==============================] - 38s 186ms/step - loss: 0.0419 - accuracy: 0.9836 - val_loss: 0.0546 - val_accuracy: 0.9802 - lr: 0.0010\n",
      "Epoch 10/100\n",
      "202/202 [==============================] - ETA: 0s - loss: 0.0320 - accuracy: 0.9881\n",
      "Epoch 10: val_accuracy did not improve from 0.99584\n",
      "\n",
      "Epoch 10: ReduceLROnPlateau reducing learning rate to 0.00010000000474974513.\n",
      "202/202 [==============================] - 37s 185ms/step - loss: 0.0320 - accuracy: 0.9881 - val_loss: 0.0136 - val_accuracy: 0.9958 - lr: 0.0010\n",
      "Epoch 11/100\n",
      "202/202 [==============================] - ETA: 0s - loss: 0.0196 - accuracy: 0.9931\n",
      "Epoch 11: val_accuracy improved from 0.99584 to 0.99896, saving model to BellPaper_DenseNet_model2_Based_Non_Augmented\n"
     ]
    },
    {
     "name": "stderr",
     "output_type": "stream",
     "text": [
      "WARNING:absl:Found untraced functions such as _jit_compiled_convolution_op, _jit_compiled_convolution_op, _jit_compiled_convolution_op, _jit_compiled_convolution_op, _jit_compiled_convolution_op while saving (showing 5 of 120). These functions will not be directly callable after loading.\n"
     ]
    },
    {
     "name": "stdout",
     "output_type": "stream",
     "text": [
      "INFO:tensorflow:Assets written to: BellPaper_DenseNet_model2_Based_Non_Augmented\\assets\n"
     ]
    },
    {
     "name": "stderr",
     "output_type": "stream",
     "text": [
      "INFO:tensorflow:Assets written to: BellPaper_DenseNet_model2_Based_Non_Augmented\\assets\n"
     ]
    },
    {
     "name": "stdout",
     "output_type": "stream",
     "text": [
      "202/202 [==============================] - 78s 387ms/step - loss: 0.0196 - accuracy: 0.9931 - val_loss: 0.0031 - val_accuracy: 0.9990 - lr: 1.0000e-04\n",
      "Epoch 12/100\n",
      "202/202 [==============================] - ETA: 0s - loss: 0.0138 - accuracy: 0.9948\n",
      "Epoch 12: val_accuracy did not improve from 0.99896\n",
      "202/202 [==============================] - 37s 180ms/step - loss: 0.0138 - accuracy: 0.9948 - val_loss: 0.0037 - val_accuracy: 0.9990 - lr: 1.0000e-04\n",
      "Epoch 13/100\n",
      "202/202 [==============================] - ETA: 0s - loss: 0.0094 - accuracy: 0.9958\n",
      "Epoch 13: val_accuracy did not improve from 0.99896\n",
      "202/202 [==============================] - 37s 182ms/step - loss: 0.0094 - accuracy: 0.9958 - val_loss: 0.0033 - val_accuracy: 0.9990 - lr: 1.0000e-04\n",
      "Epoch 14/100\n",
      "202/202 [==============================] - ETA: 0s - loss: 0.0093 - accuracy: 0.9973\n",
      "Epoch 14: val_accuracy did not improve from 0.99896\n",
      "202/202 [==============================] - 37s 185ms/step - loss: 0.0093 - accuracy: 0.9973 - val_loss: 0.0041 - val_accuracy: 0.9990 - lr: 1.0000e-04\n",
      "Epoch 15/100\n",
      "202/202 [==============================] - ETA: 0s - loss: 0.0065 - accuracy: 0.9988\n",
      "Epoch 15: val_accuracy did not improve from 0.99896\n",
      "202/202 [==============================] - 38s 187ms/step - loss: 0.0065 - accuracy: 0.9988 - val_loss: 0.0046 - val_accuracy: 0.9990 - lr: 1.0000e-04\n",
      "Epoch 16/100\n",
      "202/202 [==============================] - ETA: 0s - loss: 0.0075 - accuracy: 0.9970\n",
      "Epoch 16: val_accuracy did not improve from 0.99896\n",
      "\n",
      "Epoch 16: ReduceLROnPlateau reducing learning rate to 1.0000000474974514e-05.\n",
      "202/202 [==============================] - 36s 180ms/step - loss: 0.0075 - accuracy: 0.9970 - val_loss: 0.0035 - val_accuracy: 0.9979 - lr: 1.0000e-04\n",
      "Epoch 17/100\n",
      "202/202 [==============================] - ETA: 0s - loss: 0.0069 - accuracy: 0.9980\n",
      "Epoch 17: val_accuracy did not improve from 0.99896\n",
      "202/202 [==============================] - 36s 179ms/step - loss: 0.0069 - accuracy: 0.9980 - val_loss: 0.0033 - val_accuracy: 0.9990 - lr: 1.0000e-05\n",
      "Epoch 18/100\n",
      "202/202 [==============================] - ETA: 0s - loss: 0.0042 - accuracy: 0.9993\n",
      "Epoch 18: val_accuracy did not improve from 0.99896\n",
      "202/202 [==============================] - 39s 193ms/step - loss: 0.0042 - accuracy: 0.9993 - val_loss: 0.0033 - val_accuracy: 0.9990 - lr: 1.0000e-05\n",
      "Epoch 19/100\n",
      "202/202 [==============================] - ETA: 0s - loss: 0.0057 - accuracy: 0.9975\n",
      "Epoch 19: val_accuracy did not improve from 0.99896\n",
      "202/202 [==============================] - 39s 191ms/step - loss: 0.0057 - accuracy: 0.9975 - val_loss: 0.0034 - val_accuracy: 0.9990 - lr: 1.0000e-05\n",
      "Epoch 20/100\n",
      "202/202 [==============================] - ETA: 0s - loss: 0.0030 - accuracy: 0.9993\n",
      "Epoch 20: val_accuracy did not improve from 0.99896\n",
      "202/202 [==============================] - 39s 193ms/step - loss: 0.0030 - accuracy: 0.9993 - val_loss: 0.0035 - val_accuracy: 0.9990 - lr: 1.0000e-05\n",
      "Epoch 21/100\n",
      "202/202 [==============================] - ETA: 0s - loss: 0.0036 - accuracy: 0.9990\n",
      "Epoch 21: val_accuracy did not improve from 0.99896\n",
      "\n",
      "Epoch 21: ReduceLROnPlateau reducing learning rate to 1.0000000656873453e-06.\n",
      "202/202 [==============================] - 39s 193ms/step - loss: 0.0036 - accuracy: 0.9990 - val_loss: 0.0036 - val_accuracy: 0.9990 - lr: 1.0000e-05\n",
      "Epoch 22/100\n",
      "202/202 [==============================] - ETA: 0s - loss: 0.0042 - accuracy: 0.9985\n",
      "Epoch 22: val_accuracy did not improve from 0.99896\n",
      "202/202 [==============================] - 38s 187ms/step - loss: 0.0042 - accuracy: 0.9985 - val_loss: 0.0036 - val_accuracy: 0.9990 - lr: 1.0000e-06\n",
      "Epoch 23/100\n",
      "202/202 [==============================] - ETA: 0s - loss: 0.0036 - accuracy: 0.9993\n",
      "Epoch 23: val_accuracy did not improve from 0.99896\n",
      "202/202 [==============================] - 38s 186ms/step - loss: 0.0036 - accuracy: 0.9993 - val_loss: 0.0036 - val_accuracy: 0.9990 - lr: 1.0000e-06\n",
      "Epoch 24/100\n",
      "202/202 [==============================] - ETA: 0s - loss: 0.0053 - accuracy: 0.9983\n",
      "Epoch 24: val_accuracy did not improve from 0.99896\n",
      "202/202 [==============================] - 37s 185ms/step - loss: 0.0053 - accuracy: 0.9983 - val_loss: 0.0036 - val_accuracy: 0.9990 - lr: 1.0000e-06\n",
      "Epoch 25/100\n",
      "202/202 [==============================] - ETA: 0s - loss: 0.0026 - accuracy: 0.9998\n",
      "Epoch 25: val_accuracy did not improve from 0.99896\n",
      "202/202 [==============================] - 37s 184ms/step - loss: 0.0026 - accuracy: 0.9998 - val_loss: 0.0036 - val_accuracy: 0.9990 - lr: 1.0000e-06\n",
      "Epoch 26/100\n",
      "202/202 [==============================] - ETA: 0s - loss: 0.0035 - accuracy: 0.9990\n",
      "Epoch 26: val_accuracy did not improve from 0.99896\n",
      "\n",
      "Epoch 26: ReduceLROnPlateau reducing learning rate to 1.0000001111620805e-07.\n",
      "202/202 [==============================] - 37s 184ms/step - loss: 0.0035 - accuracy: 0.9990 - val_loss: 0.0036 - val_accuracy: 0.9990 - lr: 1.0000e-06\n",
      "Epoch 27/100\n",
      "202/202 [==============================] - ETA: 0s - loss: 0.0042 - accuracy: 0.9988\n",
      "Epoch 27: val_accuracy did not improve from 0.99896\n",
      "202/202 [==============================] - 37s 185ms/step - loss: 0.0042 - accuracy: 0.9988 - val_loss: 0.0036 - val_accuracy: 0.9990 - lr: 1.0000e-07\n",
      "Epoch 28/100\n",
      "202/202 [==============================] - ETA: 0s - loss: 0.0045 - accuracy: 0.9983\n",
      "Epoch 28: val_accuracy did not improve from 0.99896\n",
      "202/202 [==============================] - 38s 187ms/step - loss: 0.0045 - accuracy: 0.9983 - val_loss: 0.0037 - val_accuracy: 0.9990 - lr: 1.0000e-07\n",
      "Epoch 29/100\n",
      "202/202 [==============================] - ETA: 0s - loss: 0.0040 - accuracy: 0.9990\n",
      "Epoch 29: val_accuracy did not improve from 0.99896\n",
      "202/202 [==============================] - 37s 184ms/step - loss: 0.0040 - accuracy: 0.9990 - val_loss: 0.0036 - val_accuracy: 0.9990 - lr: 1.0000e-07\n",
      "Epoch 30/100\n",
      "202/202 [==============================] - ETA: 0s - loss: 0.0049 - accuracy: 0.9983\n",
      "Epoch 30: val_accuracy did not improve from 0.99896\n",
      "202/202 [==============================] - 37s 185ms/step - loss: 0.0049 - accuracy: 0.9983 - val_loss: 0.0036 - val_accuracy: 0.9990 - lr: 1.0000e-07\n",
      "Epoch 31/100\n",
      "202/202 [==============================] - ETA: 0s - loss: 0.0035 - accuracy: 0.9998\n",
      "Epoch 31: val_accuracy did not improve from 0.99896\n",
      "Restoring model weights from the end of the best epoch: 11.\n",
      "\n",
      "Epoch 31: ReduceLROnPlateau reducing learning rate to 1.000000082740371e-08.\n",
      "202/202 [==============================] - 37s 185ms/step - loss: 0.0035 - accuracy: 0.9998 - val_loss: 0.0036 - val_accuracy: 0.9990 - lr: 1.0000e-07\n",
      "Epoch 31: early stopping\n"
     ]
    }
   ],
   "source": [
    "# Define the number of epochs\n",
    "num_epochs = 100\n",
    "\n",
    "# Train the model\n",
    "history_DenseNet_model_2 = DenseNet_model_2.fit(train_generator, epochs=num_epochs, validation_data=validation_generator, callbacks=callbacks)"
   ]
  },
  {
   "cell_type": "code",
   "execution_count": 16,
   "metadata": {
    "tags": []
   },
   "outputs": [
    {
     "data": {
      "text/plain": [
       "Text(0.5, 1.0, 'Training and validation loss DIY Model')"
      ]
     },
     "execution_count": 16,
     "metadata": {},
     "output_type": "execute_result"
    },
    {
     "data": {
      "image/png": "[encoded data removed]",
      "text/plain": [
       "<Figure size 640x480 with 1 Axes>"
      ]
     },
     "metadata": {},
     "output_type": "display_data"
    },
    {
     "data": {
      "image/png": "[encoded data removed]",
      "text/plain": [
       "<Figure size 640x480 with 1 Axes>"
      ]
     },
     "metadata": {},
     "output_type": "display_data"
    }
   ],
   "source": [
    "#-----------------------------------------------------------\n",
    "# Retrieve a list of list results on training and test data\n",
    "# sets for each training epoch\n",
    "#-----------------------------------------------------------\n",
    "acc      = history_DenseNet_model_2.history['accuracy' ]\n",
    "val_acc  = history_DenseNet_model_2.history['val_accuracy' ]\n",
    "loss     = history_DenseNet_model_2.history['loss' ]\n",
    "val_loss = history_DenseNet_model_2.history['val_loss' ]\n",
    "\n",
    "epochs   = range(len(acc)) # Get number of epochs\n",
    "\n",
    "#------------------------------------------------\n",
    "# Plot training and validation accuracy per epoch\n",
    "#------------------------------------------------\n",
    "plt.plot  (epochs, acc )\n",
    "plt.plot  (epochs, val_acc )\n",
    "plt.title ('Training and validation accuracy DIY Model')\n",
    "plt.figure()\n",
    "\n",
    "#------------------------------------------------\n",
    "# Plot training and validation loss per epoch\n",
    "#------------------------------------------------\n",
    "plt.plot  (epochs, loss)\n",
    "plt.plot  (epochs, val_loss)\n",
    "plt.title ('Training and validation loss DIY Model')"
   ]
  }
 ],
 "metadata": {
  "kernelspec": {
   "display_name": "Python 3 (ipykernel)",
   "language": "python",
   "name": "python3"
  },
  "language_info": {
   "codemirror_mode": {
    "name": "ipython",
    "version": 3
   },
   "file_extension": ".py",
   "mimetype": "text/x-python",
   "name": "python",
   "nbconvert_exporter": "python",
   "pygments_lexer": "ipython3",
   "version": "3.10.0"
  }
 },
 "nbformat": 4,
 "nbformat_minor": 4
}
