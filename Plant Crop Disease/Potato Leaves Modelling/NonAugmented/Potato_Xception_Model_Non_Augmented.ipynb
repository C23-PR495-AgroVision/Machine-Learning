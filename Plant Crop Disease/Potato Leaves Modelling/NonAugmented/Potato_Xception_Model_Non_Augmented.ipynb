{
  "nbformat": 4,
  "nbformat_minor": 0,
  "metadata": {
    "colab": {
      "provenance": [],
      "gpuType": "T4"
    },
    "kernelspec": {
      "name": "python3",
      "display_name": "Python 3"
    },
    "language_info": {
      "name": "python"
    },
    "accelerator": "GPU",
    "gpuClass": "standard"
  },
  "cells": [
    {
      "cell_type": "code",
      "execution_count": null,
      "metadata": {
        "colab": {
          "base_uri": "https://localhost:8080/"
        },
        "id": "Xwft4iN-X2rE",
        "outputId": "23eb2f60-3391-4b90-a026-a65b7465be3a"
      },
      "outputs": [
        {
          "output_type": "stream",
          "name": "stdout",
          "text": [
            "Looking in indexes: https://pypi.org/simple, https://us-python.pkg.dev/colab-wheels/public/simple/\n",
            "Requirement already satisfied: matplotlib in /usr/local/lib/python3.10/dist-packages (3.7.1)\n",
            "Requirement already satisfied: contourpy>=1.0.1 in /usr/local/lib/python3.10/dist-packages (from matplotlib) (1.0.7)\n",
            "Requirement already satisfied: cycler>=0.10 in /usr/local/lib/python3.10/dist-packages (from matplotlib) (0.11.0)\n",
            "Requirement already satisfied: fonttools>=4.22.0 in /usr/local/lib/python3.10/dist-packages (from matplotlib) (4.39.3)\n",
            "Requirement already satisfied: kiwisolver>=1.0.1 in /usr/local/lib/python3.10/dist-packages (from matplotlib) (1.4.4)\n",
            "Requirement already satisfied: numpy>=1.20 in /usr/local/lib/python3.10/dist-packages (from matplotlib) (1.22.4)\n",
            "Requirement already satisfied: packaging>=20.0 in /usr/local/lib/python3.10/dist-packages (from matplotlib) (23.1)\n",
            "Requirement already satisfied: pillow>=6.2.0 in /usr/local/lib/python3.10/dist-packages (from matplotlib) (8.4.0)\n",
            "Requirement already satisfied: pyparsing>=2.3.1 in /usr/local/lib/python3.10/dist-packages (from matplotlib) (3.0.9)\n",
            "Requirement already satisfied: python-dateutil>=2.7 in /usr/local/lib/python3.10/dist-packages (from matplotlib) (2.8.2)\n",
            "Requirement already satisfied: six>=1.5 in /usr/local/lib/python3.10/dist-packages (from python-dateutil>=2.7->matplotlib) (1.16.0)\n"
          ]
        }
      ],
      "source": [
        "pip install matplotlib"
      ]
    },
    {
      "cell_type": "code",
      "source": [
        "pip install opendatasets"
      ],
      "metadata": {
        "colab": {
          "base_uri": "https://localhost:8080/"
        },
        "id": "ojcBQd8YX4Cx",
        "outputId": "4adace87-b053-48a3-e3ec-dd3b49aa6238"
      },
      "execution_count": null,
      "outputs": [
        {
          "output_type": "stream",
          "name": "stdout",
          "text": [
            "Looking in indexes: https://pypi.org/simple, https://us-python.pkg.dev/colab-wheels/public/simple/\n",
            "Collecting opendatasets\n",
            "  Downloading opendatasets-0.1.22-py3-none-any.whl (15 kB)\n",
            "Requirement already satisfied: tqdm in /usr/local/lib/python3.10/dist-packages (from opendatasets) (4.65.0)\n",
            "Requirement already satisfied: kaggle in /usr/local/lib/python3.10/dist-packages (from opendatasets) (1.5.13)\n",
            "Requirement already satisfied: click in /usr/local/lib/python3.10/dist-packages (from opendatasets) (8.1.3)\n",
            "Requirement already satisfied: six>=1.10 in /usr/local/lib/python3.10/dist-packages (from kaggle->opendatasets) (1.16.0)\n",
            "Requirement already satisfied: certifi in /usr/local/lib/python3.10/dist-packages (from kaggle->opendatasets) (2022.12.7)\n",
            "Requirement already satisfied: python-dateutil in /usr/local/lib/python3.10/dist-packages (from kaggle->opendatasets) (2.8.2)\n",
            "Requirement already satisfied: requests in /usr/local/lib/python3.10/dist-packages (from kaggle->opendatasets) (2.27.1)\n",
            "Requirement already satisfied: python-slugify in /usr/local/lib/python3.10/dist-packages (from kaggle->opendatasets) (8.0.1)\n",
            "Requirement already satisfied: urllib3 in /usr/local/lib/python3.10/dist-packages (from kaggle->opendatasets) (1.26.15)\n",
            "Requirement already satisfied: text-unidecode>=1.3 in /usr/local/lib/python3.10/dist-packages (from python-slugify->kaggle->opendatasets) (1.3)\n",
            "Requirement already satisfied: charset-normalizer~=2.0.0 in /usr/local/lib/python3.10/dist-packages (from requests->kaggle->opendatasets) (2.0.12)\n",
            "Requirement already satisfied: idna<4,>=2.5 in /usr/local/lib/python3.10/dist-packages (from requests->kaggle->opendatasets) (3.4)\n",
            "Installing collected packages: opendatasets\n",
            "Successfully installed opendatasets-0.1.22\n"
          ]
        }
      ]
    },
    {
      "cell_type": "code",
      "source": [
        "# Library to dataset\n",
        "import opendatasets as od\n",
        "import os\n",
        "import zipfile\n",
        "import numpy as np\n",
        "\n",
        "# Surpress Warnings\n",
        "import warnings\n",
        "warnings.filterwarnings('ignore')\n",
        "os.environ['TF_CPP_MIN_LOG_LEVEL'] = '3' \n",
        "# library visualization\n",
        "import matplotlib.pyplot as plt\n",
        "\n",
        "# Library Tensorflow\n",
        "import tensorflow as tf\n",
        "from tensorflow import keras\n",
        "from tensorflow.keras.preprocessing.image import ImageDataGenerator\n",
        "from tensorflow.keras.callbacks import ModelCheckpoint, EarlyStopping, ReduceLROnPlateau\n",
        "from tensorflow.keras.applications.densenet import DenseNet121\n",
        "from tensorflow.keras.applications.xception import Xception\n",
        "# Others\n",
        "import shutil\n",
        "import random"
      ],
      "metadata": {
        "id": "BrPlQ3urX5Wy"
      },
      "execution_count": null,
      "outputs": []
    },
    {
      "cell_type": "markdown",
      "source": [
        "Load-Dataset"
      ],
      "metadata": {
        "id": "OtNL1pDSX79D"
      }
    },
    {
      "cell_type": "code",
      "source": [
        "# Download dataset\n",
        "od.download('https://www.kaggle.com/datasets/faudyanurul/potato')"
      ],
      "metadata": {
        "colab": {
          "base_uri": "https://localhost:8080/"
        },
        "id": "jnYU3dFgYATr",
        "outputId": "a66a9922-a58f-4352-84ae-899f1849b098"
      },
      "execution_count": null,
      "outputs": [
        {
          "output_type": "stream",
          "name": "stdout",
          "text": [
            "Please provide your Kaggle credentials to download this dataset. Learn more: http://bit.ly/kaggle-creds\n",
            "Your Kaggle username: faudyanurul\n",
            "Your Kaggle Key: ··········\n",
            "Downloading potato.zip to ./potato\n"
          ]
        },
        {
          "output_type": "stream",
          "name": "stderr",
          "text": [
            "100%|██████████| 185M/185M [00:02<00:00, 85.5MB/s]\n"
          ]
        },
        {
          "output_type": "stream",
          "name": "stdout",
          "text": [
            "\n"
          ]
        }
      ]
    },
    {
      "cell_type": "code",
      "source": [
        "# Load dataset\n",
        "print(\"==========================Training Data====================\")\n",
        "train_data = tf.keras.preprocessing.image_dataset_from_directory(\n",
        "    \"potato/Potato/train\",\n",
        "    label_mode=\"categorical\",\n",
        "    class_names= ['Potato healthy', 'Potato leaf early blight', 'Potato leaf late blight'],\n",
        "    color_mode=\"rgb\",\n",
        "    batch_size=1,\n",
        "    image_size=(256, 256),\n",
        "    shuffle=True,\n",
        "    seed=123\n",
        ")\n",
        "print(\"==========================Validation Data====================\")\n",
        "val_data = tf.keras.preprocessing.image_dataset_from_directory(\n",
        "    \"potato/Potato/valid\",\n",
        "    label_mode=\"categorical\",\n",
        "    class_names= ['Potato healthy', 'Potato leaf early blight', 'Potato leaf late blight'],\n",
        "    color_mode=\"rgb\",\n",
        "    batch_size=1,\n",
        "    image_size=(256, 256),\n",
        "    shuffle=True,\n",
        "    seed=123\n",
        ")"
      ],
      "metadata": {
        "colab": {
          "base_uri": "https://localhost:8080/"
        },
        "id": "ghpjE3e8YA8a",
        "outputId": "e7a40e1c-70b8-4122-f1f3-d3af94e6302c"
      },
      "execution_count": null,
      "outputs": [
        {
          "output_type": "stream",
          "name": "stdout",
          "text": [
            "==========================Training Data====================\n",
            "Found 5907 files belonging to 3 classes.\n",
            "==========================Validation Data====================\n",
            "Found 1442 files belonging to 3 classes.\n"
          ]
        }
      ]
    },
    {
      "cell_type": "code",
      "source": [
        "# All images will be rescaled by 1./255.\n",
        "train_datagen = ImageDataGenerator(rescale = 1.0/256.)\n",
        "test_datagen  = ImageDataGenerator(rescale = 1.0/256.)\n",
        "\n",
        "# --------------------\n",
        "# Flow training images in batches of 20 using train_datagen generator\n",
        "# --------------------\n",
        "train_generator = train_datagen.flow_from_directory(\"potato/Potato/train\",\n",
        "                                                    batch_size=20,\n",
        "                                                    class_mode='categorical',\n",
        "                                                    target_size=(224, 224))     \n",
        "# --------------------\n",
        "# Flow validation images in batches of 20 using test_datagen generator\n",
        "# --------------------\n",
        "validation_generator =  test_datagen.flow_from_directory(\"potato/Potato/valid\",\n",
        "                                                         batch_size=20,\n",
        "                                                         class_mode  = 'categorical',\n",
        "                                                         target_size = (224, 224))"
      ],
      "metadata": {
        "colab": {
          "base_uri": "https://localhost:8080/"
        },
        "id": "-Ejt40YeYD2k",
        "outputId": "4a65ed92-726e-494d-c99d-8df3b7eee8ed"
      },
      "execution_count": null,
      "outputs": [
        {
          "output_type": "stream",
          "name": "stdout",
          "text": [
            "Found 5907 images belonging to 3 classes.\n",
            "Found 1442 images belonging to 3 classes.\n"
          ]
        }
      ]
    },
    {
      "cell_type": "markdown",
      "source": [
        "List-Resource"
      ],
      "metadata": {
        "id": "owgELsrBYGFh"
      }
    },
    {
      "cell_type": "code",
      "source": [
        "# Check GPU\n",
        "!nvidia-smi"
      ],
      "metadata": {
        "colab": {
          "base_uri": "https://localhost:8080/"
        },
        "id": "L000haZ2YGTy",
        "outputId": "a4a0d9c0-93b6-41e6-a513-df1e04e3e98d"
      },
      "execution_count": null,
      "outputs": [
        {
          "output_type": "stream",
          "name": "stdout",
          "text": [
            "Tue May 30 14:36:25 2023       \n",
            "+-----------------------------------------------------------------------------+\n",
            "| NVIDIA-SMI 525.85.12    Driver Version: 525.85.12    CUDA Version: 12.0     |\n",
            "|-------------------------------+----------------------+----------------------+\n",
            "| GPU  Name        Persistence-M| Bus-Id        Disp.A | Volatile Uncorr. ECC |\n",
            "| Fan  Temp  Perf  Pwr:Usage/Cap|         Memory-Usage | GPU-Util  Compute M. |\n",
            "|                               |                      |               MIG M. |\n",
            "|===============================+======================+======================|\n",
            "|   0  Tesla T4            Off  | 00000000:00:04.0 Off |                    0 |\n",
            "| N/A   40C    P0    26W /  70W |    389MiB / 15360MiB |      0%      Default |\n",
            "|                               |                      |                  N/A |\n",
            "+-------------------------------+----------------------+----------------------+\n",
            "                                                                               \n",
            "+-----------------------------------------------------------------------------+\n",
            "| Processes:                                                                  |\n",
            "|  GPU   GI   CI        PID   Type   Process name                  GPU Memory |\n",
            "|        ID   ID                                                   Usage      |\n",
            "|=============================================================================|\n",
            "+-----------------------------------------------------------------------------+\n"
          ]
        }
      ]
    },
    {
      "cell_type": "code",
      "source": [
        "# Lis physical devices\n",
        "devices = tf.config.experimental.list_physical_devices(\"GPU\")\n",
        "devices"
      ],
      "metadata": {
        "colab": {
          "base_uri": "https://localhost:8080/"
        },
        "id": "Hbe0m6GoYGdt",
        "outputId": "062efff2-e691-438c-e209-312e6c6b0e90"
      },
      "execution_count": null,
      "outputs": [
        {
          "output_type": "execute_result",
          "data": {
            "text/plain": [
              "[PhysicalDevice(name='/physical_device:GPU:0', device_type='GPU')]"
            ]
          },
          "metadata": {},
          "execution_count": 8
        }
      ]
    },
    {
      "cell_type": "code",
      "source": [
        "# Define the GPU strategy\n",
        "mirrored_strategy = tf.distribute.MirroredStrategy(devices=[\"/gpu:0\"])"
      ],
      "metadata": {
        "id": "szQqQdaSYGm7"
      },
      "execution_count": null,
      "outputs": []
    },
    {
      "cell_type": "markdown",
      "source": [
        "Xception_1"
      ],
      "metadata": {
        "id": "10GH97zNYMWj"
      }
    },
    {
      "cell_type": "code",
      "source": [
        "# Difine the callbacks\n",
        "# Save the best model\n",
        "checkpoint_callback = ModelCheckpoint(filepath=\"Xception_model1_Potato_Based_Non_Augmented\", save_best_only=True, monitor=\"val_accuracy\", mode=\"max\", verbose=1)\n",
        "\n",
        "# Early stopping\n",
        "early_stopping_callback = EarlyStopping(monitor=\"val_accuracy\", mode=\"max\", patience=20, verbose=1, restore_best_weights=True)\n",
        "\n",
        "# Reduce learning rate\n",
        "reduce_lr_callback = ReduceLROnPlateau(monitor=\"val_loss\", factor=0.1, patience=5, verbose=1, mode=\"min\", min_delta=0.0001, cooldown=0, min_lr=0)\n",
        "\n",
        "# Callbacks list\n",
        "callbacks=[checkpoint_callback, early_stopping_callback, reduce_lr_callback]"
      ],
      "metadata": {
        "id": "N_4PdjBAYMlM"
      },
      "execution_count": null,
      "outputs": []
    },
    {
      "cell_type": "code",
      "source": [
        "# Define DIY Model\n",
        "Xception_model = tf.keras.models.Sequential([\n",
        "    # Xception Layer\n",
        "    Xception(include_top=False,weights='imagenet',input_shape=(224, 224, 3)),\n",
        "    # Global Max Pooling Layer\n",
        "    tf.keras.layers.GlobalMaxPooling2D(),\n",
        "    # Drop Out Layer\n",
        "    tf.keras.layers.Dropout(0.2),\n",
        "    # 256 neuron hidden layer\n",
        "    tf.keras.layers.Dense(256, activation='relu'),\n",
        "    # Output\n",
        "    tf.keras.layers.Dense(3, activation='softmax') \n",
        "  ])\n",
        "\n",
        "\n",
        "# Compile Model\n",
        "Xception_model.compile(loss='categorical_crossentropy',optimizer=tf.keras.optimizers.Adam(), metrics=['accuracy']) \n",
        "\n",
        "# Model Summary\n",
        "Xception_model.summary()"
      ],
      "metadata": {
        "colab": {
          "base_uri": "https://localhost:8080/"
        },
        "id": "gDcWaPKsYMvM",
        "outputId": "d9735416-4108-45fd-aea8-0f0de4e3fb81"
      },
      "execution_count": null,
      "outputs": [
        {
          "output_type": "stream",
          "name": "stdout",
          "text": [
            "Downloading data from https://storage.googleapis.com/tensorflow/keras-applications/xception/xception_weights_tf_dim_ordering_tf_kernels_notop.h5\n",
            "83683744/83683744 [==============================] - 0s 0us/step\n",
            "Model: \"sequential\"\n",
            "_________________________________________________________________\n",
            " Layer (type)                Output Shape              Param #   \n",
            "=================================================================\n",
            " xception (Functional)       (None, 7, 7, 2048)        20861480  \n",
            "                                                                 \n",
            " global_max_pooling2d (Globa  (None, 2048)             0         \n",
            " lMaxPooling2D)                                                  \n",
            "                                                                 \n",
            " dropout (Dropout)           (None, 2048)              0         \n",
            "                                                                 \n",
            " dense (Dense)               (None, 256)               524544    \n",
            "                                                                 \n",
            " dense_1 (Dense)             (None, 3)                 771       \n",
            "                                                                 \n",
            "=================================================================\n",
            "Total params: 21,386,795\n",
            "Trainable params: 21,332,267\n",
            "Non-trainable params: 54,528\n",
            "_________________________________________________________________\n"
          ]
        }
      ]
    },
    {
      "cell_type": "code",
      "source": [
        "# Define the number of epochs\n",
        "num_epochs = 100\n",
        "\n",
        "# Train the model\n",
        "history_Xception_model_1 = Xception_model.fit(train_generator, epochs=num_epochs, validation_data=validation_generator, callbacks=callbacks)"
      ],
      "metadata": {
        "colab": {
          "base_uri": "https://localhost:8080/"
        },
        "id": "8VddwqvBYXcT",
        "outputId": "d4755588-84ba-400f-ca63-bfce4bdb9b69"
      },
      "execution_count": null,
      "outputs": [
        {
          "output_type": "stream",
          "name": "stdout",
          "text": [
            "Epoch 1/100\n",
            "296/296 [==============================] - ETA: 0s - loss: 0.2191 - accuracy: 0.9289\n",
            "Epoch 1: val_accuracy improved from -inf to 0.86963, saving model to Xception_model1_Potato_Based_Non_Augmented\n"
          ]
        },
        {
          "output_type": "stream",
          "name": "stderr",
          "text": [
            "WARNING:absl:Found untraced functions such as _jit_compiled_convolution_op, _jit_compiled_convolution_op, _jit_compiled_convolution_op, _jit_compiled_convolution_op, _jit_compiled_convolution_op while saving (showing 5 of 40). These functions will not be directly callable after loading.\n"
          ]
        },
        {
          "output_type": "stream",
          "name": "stdout",
          "text": [
            "\b\b\b\b\b\b\b\b\b\b\b\b\b\b\b\b\b\b\b\b\b\b\b\b\b\b\b\b\b\b\b\b\b\b\b\b\b\b\b\b\b\b\b\b\b\b\b\b\b\b\b\b\b\b\b\b\b\b\b\b\b\b\b\b\b\b\b\b\b\b\b\b\b\b\b\b\b\b\b\b\b\b\b\b\r296/296 [==============================] - 169s 397ms/step - loss: 0.2191 - accuracy: 0.9289 - val_loss: 1.2703 - val_accuracy: 0.8696 - lr: 0.0010\n",
            "Epoch 2/100\n",
            "296/296 [==============================] - ETA: 0s - loss: 0.0865 - accuracy: 0.9678\n",
            "Epoch 2: val_accuracy improved from 0.86963 to 0.96879, saving model to Xception_model1_Potato_Based_Non_Augmented\n"
          ]
        },
        {
          "output_type": "stream",
          "name": "stderr",
          "text": [
            "WARNING:absl:Found untraced functions such as _jit_compiled_convolution_op, _jit_compiled_convolution_op, _jit_compiled_convolution_op, _jit_compiled_convolution_op, _jit_compiled_convolution_op while saving (showing 5 of 40). These functions will not be directly callable after loading.\n"
          ]
        },
        {
          "output_type": "stream",
          "name": "stdout",
          "text": [
            "\b\b\b\b\b\b\b\b\b\b\b\b\b\b\b\b\b\b\b\b\b\b\b\b\b\b\b\b\b\b\b\b\b\b\b\b\b\b\b\b\b\b\b\b\b\b\b\b\b\b\b\b\b\b\b\b\b\b\b\b\b\b\b\b\b\b\b\b\b\b\b\b\b\b\b\b\b\b\b\b\b\b\b\b\r296/296 [==============================] - 121s 410ms/step - loss: 0.0865 - accuracy: 0.9678 - val_loss: 0.1273 - val_accuracy: 0.9688 - lr: 0.0010\n",
            "Epoch 3/100\n",
            "296/296 [==============================] - ETA: 0s - loss: 0.0506 - accuracy: 0.9770\n",
            "Epoch 3: val_accuracy did not improve from 0.96879\n",
            "296/296 [==============================] - 97s 326ms/step - loss: 0.0506 - accuracy: 0.9770 - val_loss: 0.1942 - val_accuracy: 0.9487 - lr: 0.0010\n",
            "Epoch 4/100\n",
            "296/296 [==============================] - ETA: 0s - loss: 0.0351 - accuracy: 0.9859\n",
            "Epoch 4: val_accuracy improved from 0.96879 to 0.99376, saving model to Xception_model1_Potato_Based_Non_Augmented\n"
          ]
        },
        {
          "output_type": "stream",
          "name": "stderr",
          "text": [
            "WARNING:absl:Found untraced functions such as _jit_compiled_convolution_op, _jit_compiled_convolution_op, _jit_compiled_convolution_op, _jit_compiled_convolution_op, _jit_compiled_convolution_op while saving (showing 5 of 40). These functions will not be directly callable after loading.\n"
          ]
        },
        {
          "output_type": "stream",
          "name": "stdout",
          "text": [
            "\b\b\b\b\b\b\b\b\b\b\b\b\b\b\b\b\b\b\b\b\b\b\b\b\b\b\b\b\b\b\b\b\b\b\b\b\b\b\b\b\b\b\b\b\b\b\b\b\b\b\b\b\b\b\b\b\b\b\b\b\b\b\b\b\b\b\b\b\b\b\b\b\b\b\b\b\b\b\b\b\b\b\b\b\r296/296 [==============================] - 119s 403ms/step - loss: 0.0351 - accuracy: 0.9859 - val_loss: 0.0169 - val_accuracy: 0.9938 - lr: 0.0010\n",
            "Epoch 5/100\n",
            "296/296 [==============================] - ETA: 0s - loss: 0.0999 - accuracy: 0.9677\n",
            "Epoch 5: val_accuracy did not improve from 0.99376\n",
            "296/296 [==============================] - 97s 328ms/step - loss: 0.0999 - accuracy: 0.9677 - val_loss: 0.0393 - val_accuracy: 0.9875 - lr: 0.0010\n",
            "Epoch 6/100\n",
            "296/296 [==============================] - ETA: 0s - loss: 0.0708 - accuracy: 0.9751\n",
            "Epoch 6: val_accuracy did not improve from 0.99376\n",
            "296/296 [==============================] - 97s 326ms/step - loss: 0.0708 - accuracy: 0.9751 - val_loss: 0.0528 - val_accuracy: 0.9896 - lr: 0.0010\n",
            "Epoch 7/100\n",
            "296/296 [==============================] - ETA: 0s - loss: 0.0362 - accuracy: 0.9851\n",
            "Epoch 7: val_accuracy improved from 0.99376 to 0.99515, saving model to Xception_model1_Potato_Based_Non_Augmented\n"
          ]
        },
        {
          "output_type": "stream",
          "name": "stderr",
          "text": [
            "WARNING:absl:Found untraced functions such as _jit_compiled_convolution_op, _jit_compiled_convolution_op, _jit_compiled_convolution_op, _jit_compiled_convolution_op, _jit_compiled_convolution_op while saving (showing 5 of 40). These functions will not be directly callable after loading.\n"
          ]
        },
        {
          "output_type": "stream",
          "name": "stdout",
          "text": [
            "\b\b\b\b\b\b\b\b\b\b\b\b\b\b\b\b\b\b\b\b\b\b\b\b\b\b\b\b\b\b\b\b\b\b\b\b\b\b\b\b\b\b\b\b\b\b\b\b\b\b\b\b\b\b\b\b\b\b\b\b\b\b\b\b\b\b\b\b\b\b\b\b\b\b\b\b\b\b\b\b\b\b\b\b\r296/296 [==============================] - 122s 413ms/step - loss: 0.0362 - accuracy: 0.9851 - val_loss: 0.0125 - val_accuracy: 0.9951 - lr: 0.0010\n",
            "Epoch 8/100\n",
            "296/296 [==============================] - ETA: 0s - loss: 0.0584 - accuracy: 0.9788\n",
            "Epoch 8: val_accuracy did not improve from 0.99515\n",
            "296/296 [==============================] - 97s 328ms/step - loss: 0.0584 - accuracy: 0.9788 - val_loss: 0.0169 - val_accuracy: 0.9917 - lr: 0.0010\n",
            "Epoch 9/100\n",
            "296/296 [==============================] - ETA: 0s - loss: 0.0233 - accuracy: 0.9892\n",
            "Epoch 9: val_accuracy did not improve from 0.99515\n",
            "296/296 [==============================] - 97s 327ms/step - loss: 0.0233 - accuracy: 0.9892 - val_loss: 0.0144 - val_accuracy: 0.9951 - lr: 0.0010\n",
            "Epoch 10/100\n",
            "296/296 [==============================] - ETA: 0s - loss: 0.0627 - accuracy: 0.9795\n",
            "Epoch 10: val_accuracy improved from 0.99515 to 0.99584, saving model to Xception_model1_Potato_Based_Non_Augmented\n"
          ]
        },
        {
          "output_type": "stream",
          "name": "stderr",
          "text": [
            "WARNING:absl:Found untraced functions such as _jit_compiled_convolution_op, _jit_compiled_convolution_op, _jit_compiled_convolution_op, _jit_compiled_convolution_op, _jit_compiled_convolution_op while saving (showing 5 of 40). These functions will not be directly callable after loading.\n"
          ]
        },
        {
          "output_type": "stream",
          "name": "stdout",
          "text": [
            "\b\b\b\b\b\b\b\b\b\b\b\b\b\b\b\b\b\b\b\b\b\b\b\b\b\b\b\b\b\b\b\b\b\b\b\b\b\b\b\b\b\b\b\b\b\b\b\b\b\b\b\b\b\b\b\b\b\b\b\b\b\b\b\b\b\b\b\b\b\b\b\b\b\b\b\b\b\b\b\b\b\b\b\b\r296/296 [==============================] - 118s 398ms/step - loss: 0.0627 - accuracy: 0.9795 - val_loss: 0.0135 - val_accuracy: 0.9958 - lr: 0.0010\n",
            "Epoch 11/100\n",
            "296/296 [==============================] - ETA: 0s - loss: 0.0382 - accuracy: 0.9844\n",
            "Epoch 11: val_accuracy did not improve from 0.99584\n",
            "296/296 [==============================] - 99s 334ms/step - loss: 0.0382 - accuracy: 0.9844 - val_loss: 0.0511 - val_accuracy: 0.9868 - lr: 0.0010\n",
            "Epoch 12/100\n",
            "296/296 [==============================] - ETA: 0s - loss: 0.0330 - accuracy: 0.9870\n",
            "Epoch 12: val_accuracy did not improve from 0.99584\n",
            "\n",
            "Epoch 12: ReduceLROnPlateau reducing learning rate to 0.00010000000474974513.\n",
            "296/296 [==============================] - 97s 327ms/step - loss: 0.0330 - accuracy: 0.9870 - val_loss: 0.0209 - val_accuracy: 0.9931 - lr: 0.0010\n",
            "Epoch 13/100\n",
            "296/296 [==============================] - ETA: 0s - loss: 0.0190 - accuracy: 0.9917\n",
            "Epoch 13: val_accuracy did not improve from 0.99584\n",
            "296/296 [==============================] - 97s 328ms/step - loss: 0.0190 - accuracy: 0.9917 - val_loss: 0.0128 - val_accuracy: 0.9958 - lr: 1.0000e-04\n",
            "Epoch 14/100\n",
            "296/296 [==============================] - ETA: 0s - loss: 0.0161 - accuracy: 0.9924\n",
            "Epoch 14: val_accuracy did not improve from 0.99584\n",
            "296/296 [==============================] - 98s 329ms/step - loss: 0.0161 - accuracy: 0.9924 - val_loss: 0.0202 - val_accuracy: 0.9938 - lr: 1.0000e-04\n",
            "Epoch 15/100\n",
            "296/296 [==============================] - ETA: 0s - loss: 0.0135 - accuracy: 0.9934\n",
            "Epoch 15: val_accuracy improved from 0.99584 to 0.99653, saving model to Xception_model1_Potato_Based_Non_Augmented\n"
          ]
        },
        {
          "output_type": "stream",
          "name": "stderr",
          "text": [
            "WARNING:absl:Found untraced functions such as _jit_compiled_convolution_op, _jit_compiled_convolution_op, _jit_compiled_convolution_op, _jit_compiled_convolution_op, _jit_compiled_convolution_op while saving (showing 5 of 40). These functions will not be directly callable after loading.\n"
          ]
        },
        {
          "output_type": "stream",
          "name": "stdout",
          "text": [
            "\b\b\b\b\b\b\b\b\b\b\b\b\b\b\b\b\b\b\b\b\b\b\b\b\b\b\b\b\b\b\b\b\b\b\b\b\b\b\b\b\b\b\b\b\b\b\b\b\b\b\b\b\b\b\b\b\b\b\b\b\b\b\b\b\b\b\b\b\b\b\b\b\b\b\b\b\b\b\b\b\b\b\b\b\r296/296 [==============================] - 124s 421ms/step - loss: 0.0135 - accuracy: 0.9934 - val_loss: 0.0144 - val_accuracy: 0.9965 - lr: 1.0000e-04\n",
            "Epoch 16/100\n",
            "296/296 [==============================] - ETA: 0s - loss: 0.0117 - accuracy: 0.9937\n",
            "Epoch 16: val_accuracy did not improve from 0.99653\n",
            "296/296 [==============================] - 97s 326ms/step - loss: 0.0117 - accuracy: 0.9937 - val_loss: 0.0171 - val_accuracy: 0.9965 - lr: 1.0000e-04\n",
            "Epoch 17/100\n",
            "296/296 [==============================] - ETA: 0s - loss: 0.0104 - accuracy: 0.9944\n",
            "Epoch 17: val_accuracy did not improve from 0.99653\n",
            "\n",
            "Epoch 17: ReduceLROnPlateau reducing learning rate to 1.0000000474974514e-05.\n",
            "296/296 [==============================] - 97s 326ms/step - loss: 0.0104 - accuracy: 0.9944 - val_loss: 0.0185 - val_accuracy: 0.9958 - lr: 1.0000e-04\n",
            "Epoch 18/100\n",
            "296/296 [==============================] - ETA: 0s - loss: 0.0079 - accuracy: 0.9961\n",
            "Epoch 18: val_accuracy did not improve from 0.99653\n",
            "296/296 [==============================] - 101s 341ms/step - loss: 0.0079 - accuracy: 0.9961 - val_loss: 0.0191 - val_accuracy: 0.9965 - lr: 1.0000e-05\n",
            "Epoch 19/100\n",
            "296/296 [==============================] - ETA: 0s - loss: 0.0121 - accuracy: 0.9958\n",
            "Epoch 19: val_accuracy did not improve from 0.99653\n",
            "296/296 [==============================] - 97s 327ms/step - loss: 0.0121 - accuracy: 0.9958 - val_loss: 0.0194 - val_accuracy: 0.9958 - lr: 1.0000e-05\n",
            "Epoch 20/100\n",
            "296/296 [==============================] - ETA: 0s - loss: 0.0074 - accuracy: 0.9963\n",
            "Epoch 20: val_accuracy did not improve from 0.99653\n",
            "296/296 [==============================] - 97s 327ms/step - loss: 0.0074 - accuracy: 0.9963 - val_loss: 0.0198 - val_accuracy: 0.9958 - lr: 1.0000e-05\n",
            "Epoch 21/100\n",
            "296/296 [==============================] - ETA: 0s - loss: 0.0073 - accuracy: 0.9959\n",
            "Epoch 21: val_accuracy did not improve from 0.99653\n",
            "296/296 [==============================] - 101s 340ms/step - loss: 0.0073 - accuracy: 0.9959 - val_loss: 0.0200 - val_accuracy: 0.9958 - lr: 1.0000e-05\n",
            "Epoch 22/100\n",
            "296/296 [==============================] - ETA: 0s - loss: 0.0081 - accuracy: 0.9966\n",
            "Epoch 22: val_accuracy did not improve from 0.99653\n",
            "\n",
            "Epoch 22: ReduceLROnPlateau reducing learning rate to 1.0000000656873453e-06.\n",
            "296/296 [==============================] - 97s 326ms/step - loss: 0.0081 - accuracy: 0.9966 - val_loss: 0.0201 - val_accuracy: 0.9958 - lr: 1.0000e-05\n",
            "Epoch 23/100\n",
            "296/296 [==============================] - ETA: 0s - loss: 0.0071 - accuracy: 0.9968\n",
            "Epoch 23: val_accuracy did not improve from 0.99653\n",
            "296/296 [==============================] - 101s 341ms/step - loss: 0.0071 - accuracy: 0.9968 - val_loss: 0.0202 - val_accuracy: 0.9958 - lr: 1.0000e-06\n",
            "Epoch 24/100\n",
            "296/296 [==============================] - ETA: 0s - loss: 0.0074 - accuracy: 0.9964\n",
            "Epoch 24: val_accuracy did not improve from 0.99653\n",
            "296/296 [==============================] - 97s 326ms/step - loss: 0.0074 - accuracy: 0.9964 - val_loss: 0.0204 - val_accuracy: 0.9958 - lr: 1.0000e-06\n",
            "Epoch 25/100\n",
            "296/296 [==============================] - ETA: 0s - loss: 0.0069 - accuracy: 0.9964\n",
            "Epoch 25: val_accuracy did not improve from 0.99653\n",
            "296/296 [==============================] - 96s 326ms/step - loss: 0.0069 - accuracy: 0.9964 - val_loss: 0.0204 - val_accuracy: 0.9958 - lr: 1.0000e-06\n",
            "Epoch 26/100\n",
            "296/296 [==============================] - ETA: 0s - loss: 0.0074 - accuracy: 0.9958\n",
            "Epoch 26: val_accuracy did not improve from 0.99653\n",
            "296/296 [==============================] - 97s 326ms/step - loss: 0.0074 - accuracy: 0.9958 - val_loss: 0.0202 - val_accuracy: 0.9958 - lr: 1.0000e-06\n",
            "Epoch 27/100\n",
            "296/296 [==============================] - ETA: 0s - loss: 0.0069 - accuracy: 0.9968\n",
            "Epoch 27: val_accuracy did not improve from 0.99653\n",
            "\n",
            "Epoch 27: ReduceLROnPlateau reducing learning rate to 1.0000001111620805e-07.\n",
            "296/296 [==============================] - 94s 318ms/step - loss: 0.0069 - accuracy: 0.9968 - val_loss: 0.0206 - val_accuracy: 0.9958 - lr: 1.0000e-06\n",
            "Epoch 28/100\n",
            "296/296 [==============================] - ETA: 0s - loss: 0.0073 - accuracy: 0.9966\n",
            "Epoch 28: val_accuracy did not improve from 0.99653\n",
            "296/296 [==============================] - 96s 325ms/step - loss: 0.0073 - accuracy: 0.9966 - val_loss: 0.0205 - val_accuracy: 0.9958 - lr: 1.0000e-07\n",
            "Epoch 29/100\n",
            "296/296 [==============================] - ETA: 0s - loss: 0.0067 - accuracy: 0.9963\n",
            "Epoch 29: val_accuracy did not improve from 0.99653\n",
            "296/296 [==============================] - 97s 329ms/step - loss: 0.0067 - accuracy: 0.9963 - val_loss: 0.0204 - val_accuracy: 0.9958 - lr: 1.0000e-07\n",
            "Epoch 30/100\n",
            "296/296 [==============================] - ETA: 0s - loss: 0.0066 - accuracy: 0.9975\n",
            "Epoch 30: val_accuracy did not improve from 0.99653\n",
            "296/296 [==============================] - 96s 326ms/step - loss: 0.0066 - accuracy: 0.9975 - val_loss: 0.0205 - val_accuracy: 0.9958 - lr: 1.0000e-07\n",
            "Epoch 31/100\n",
            "296/296 [==============================] - ETA: 0s - loss: 0.0077 - accuracy: 0.9958\n",
            "Epoch 31: val_accuracy did not improve from 0.99653\n",
            "296/296 [==============================] - 101s 340ms/step - loss: 0.0077 - accuracy: 0.9958 - val_loss: 0.0202 - val_accuracy: 0.9958 - lr: 1.0000e-07\n",
            "Epoch 32/100\n",
            "296/296 [==============================] - ETA: 0s - loss: 0.0102 - accuracy: 0.9966\n",
            "Epoch 32: val_accuracy did not improve from 0.99653\n",
            "\n",
            "Epoch 32: ReduceLROnPlateau reducing learning rate to 1.000000082740371e-08.\n",
            "296/296 [==============================] - 94s 318ms/step - loss: 0.0102 - accuracy: 0.9966 - val_loss: 0.0206 - val_accuracy: 0.9958 - lr: 1.0000e-07\n",
            "Epoch 33/100\n",
            "296/296 [==============================] - ETA: 0s - loss: 0.0080 - accuracy: 0.9961\n",
            "Epoch 33: val_accuracy did not improve from 0.99653\n",
            "296/296 [==============================] - 97s 326ms/step - loss: 0.0080 - accuracy: 0.9961 - val_loss: 0.0205 - val_accuracy: 0.9958 - lr: 1.0000e-08\n",
            "Epoch 34/100\n",
            "296/296 [==============================] - ETA: 0s - loss: 0.0099 - accuracy: 0.9963\n",
            "Epoch 34: val_accuracy did not improve from 0.99653\n",
            "296/296 [==============================] - 97s 327ms/step - loss: 0.0099 - accuracy: 0.9963 - val_loss: 0.0207 - val_accuracy: 0.9958 - lr: 1.0000e-08\n",
            "Epoch 35/100\n",
            "296/296 [==============================] - ETA: 0s - loss: 0.0135 - accuracy: 0.9961\n",
            "Epoch 35: val_accuracy did not improve from 0.99653\n",
            "Restoring model weights from the end of the best epoch: 15.\n",
            "296/296 [==============================] - 97s 327ms/step - loss: 0.0135 - accuracy: 0.9961 - val_loss: 0.0207 - val_accuracy: 0.9958 - lr: 1.0000e-08\n",
            "Epoch 35: early stopping\n"
          ]
        }
      ]
    },
    {
      "cell_type": "code",
      "source": [
        "#-----------------------------------------------------------\n",
        "# Retrieve a list of list results on training and test data\n",
        "# sets for each training epoch\n",
        "#-----------------------------------------------------------\n",
        "acc      = history_Xception_model_1.history['accuracy' ]\n",
        "val_acc  = history_Xception_model_1.history['val_accuracy' ]\n",
        "loss     = history_Xception_model_1.history['loss' ]\n",
        "val_loss = history_Xception_model_1.history['val_loss' ]\n",
        "\n",
        "epochs   = range(len(acc)) # Get number of epochs\n",
        "\n",
        "#------------------------------------------------\n",
        "# Plot training and validation accuracy per epoch\n",
        "#------------------------------------------------\n",
        "plt.plot  (epochs, acc )\n",
        "plt.plot  (epochs, val_acc )\n",
        "plt.title ('Training and validation accuracy DIY Model')\n",
        "plt.figure()\n",
        "\n",
        "#------------------------------------------------\n",
        "# Plot training and validation loss per epoch\n",
        "#------------------------------------------------\n",
        "plt.plot  (epochs, loss)\n",
        "plt.plot  (epochs, val_loss)\n",
        "plt.title ('Training and validation loss DIY Model')"
      ],
      "metadata": {
        "colab": {
          "base_uri": "https://localhost:8080/",
          "height": 904
        },
        "id": "P6i14rMGYXmE",
        "outputId": "29072f61-bd45-450f-d376-1c9456b94f01"
      },
      "execution_count": null,
      "outputs": [
        {
          "output_type": "execute_result",
          "data": {
            "text/plain": [
              "Text(0.5, 1.0, 'Training and validation loss DIY Model')"
            ]
          },
          "metadata": {},
          "execution_count": 13
        },
        {
          "output_type": "display_data",
          "data": {
            "text/plain": [
              "<Figure size 640x480 with 1 Axes>"
            ],
            "image/png": "[encoded data removed]"
          },
          "metadata": {}
        },
        {
          "output_type": "display_data",
          "data": {
            "text/plain": [
              "<Figure size 640x480 with 1 Axes>"
            ],
            "image/png": "[encoded data removed]"
          },
          "metadata": {}
        }
      ]
    },
    {
      "cell_type": "code",
      "source": [
        "!zip -r /content/Xception_model1_Potato_Based_Non_Augmented.zip /content/Xception_model1_Potato_Based_Non_Augmented"
      ],
      "metadata": {
        "colab": {
          "base_uri": "https://localhost:8080/"
        },
        "id": "ikBA3qlWRJZC",
        "outputId": "2ef9e0ef-f01e-4214-ace7-e07779e36d4d"
      },
      "execution_count": null,
      "outputs": [
        {
          "output_type": "stream",
          "name": "stdout",
          "text": [
            "  adding: content/Xception_model1_Potato_Based_Non_Augmented/ (stored 0%)\n",
            "  adding: content/Xception_model1_Potato_Based_Non_Augmented/variables/ (stored 0%)\n",
            "  adding: content/Xception_model1_Potato_Based_Non_Augmented/variables/variables.data-00000-of-00001 (deflated 8%)\n",
            "  adding: content/Xception_model1_Potato_Based_Non_Augmented/variables/variables.index (deflated 77%)\n",
            "  adding: content/Xception_model1_Potato_Based_Non_Augmented/assets/ (stored 0%)\n",
            "  adding: content/Xception_model1_Potato_Based_Non_Augmented/fingerprint.pb (stored 0%)\n",
            "  adding: content/Xception_model1_Potato_Based_Non_Augmented/saved_model.pb (deflated 92%)\n",
            "  adding: content/Xception_model1_Potato_Based_Non_Augmented/keras_metadata.pb (deflated 96%)\n"
          ]
        }
      ]
    },
    {
      "cell_type": "markdown",
      "source": [
        "xception_2"
      ],
      "metadata": {
        "id": "T3HREuprYcvZ"
      }
    },
    {
      "cell_type": "code",
      "source": [
        "# Difine the callbacks\n",
        "# Save the best model\n",
        "checkpoint_callback = ModelCheckpoint(filepath=\"Xception_model2_Potato_Based_Non_Augmented\", save_best_only=True, monitor=\"val_accuracy\", mode=\"max\", verbose=1)\n",
        "\n",
        "# Early stopping\n",
        "early_stopping_callback = EarlyStopping(monitor=\"val_accuracy\", mode=\"max\", patience=20, verbose=1, restore_best_weights=True)\n",
        "\n",
        "# Reduce learning rate\n",
        "reduce_lr_callback = ReduceLROnPlateau(monitor=\"val_loss\", factor=0.1, patience=5, verbose=1, mode=\"min\", min_delta=0.0001, cooldown=0, min_lr=0)\n",
        "\n",
        "# Callbacks list\n",
        "callbacks=[checkpoint_callback, early_stopping_callback, reduce_lr_callback]"
      ],
      "metadata": {
        "id": "1xJC12KHYc7w"
      },
      "execution_count": null,
      "outputs": []
    },
    {
      "cell_type": "code",
      "source": [
        "# Define DIY Model\n",
        "Xception_model_2 = tf.keras.models.Sequential([\n",
        "    # Xception121 Layer\n",
        "    Xception(include_top=False,weights='imagenet',input_shape=(224, 224, 3)),\n",
        "    # Global Average Pooling Layer\n",
        "    tf.keras.layers.GlobalAveragePooling2D(),\n",
        "    # Drop Out Layer\n",
        "    tf.keras.layers.Dropout(0.2),\n",
        "    # 256 neuron hidden layer\n",
        "    tf.keras.layers.Dense(256, activation='relu'),\n",
        "    # Output\n",
        "    tf.keras.layers.Dense(3, activation='softmax') \n",
        "  ])\n",
        "\n",
        "\n",
        "# Compile Model\n",
        "Xception_model_2.compile(loss='categorical_crossentropy',optimizer=tf.keras.optimizers.Adam(), metrics=['accuracy']) \n",
        "\n",
        "# Model Summary\n",
        "Xception_model_2.summary()"
      ],
      "metadata": {
        "colab": {
          "base_uri": "https://localhost:8080/"
        },
        "id": "bnlBRshIYdEi",
        "outputId": "29326780-f7af-4aa6-f6da-fec60c612d00"
      },
      "execution_count": null,
      "outputs": [
        {
          "output_type": "stream",
          "name": "stdout",
          "text": [
            "Model: \"sequential_1\"\n",
            "_________________________________________________________________\n",
            " Layer (type)                Output Shape              Param #   \n",
            "=================================================================\n",
            " xception (Functional)       (None, 7, 7, 2048)        20861480  \n",
            "                                                                 \n",
            " global_average_pooling2d (G  (None, 2048)             0         \n",
            " lobalAveragePooling2D)                                          \n",
            "                                                                 \n",
            " dropout_1 (Dropout)         (None, 2048)              0         \n",
            "                                                                 \n",
            " dense_2 (Dense)             (None, 256)               524544    \n",
            "                                                                 \n",
            " dense_3 (Dense)             (None, 3)                 771       \n",
            "                                                                 \n",
            "=================================================================\n",
            "Total params: 21,386,795\n",
            "Trainable params: 21,332,267\n",
            "Non-trainable params: 54,528\n",
            "_________________________________________________________________\n"
          ]
        }
      ]
    },
    {
      "cell_type": "code",
      "source": [
        "# Define the number of epochs\n",
        "num_epochs = 100\n",
        "\n",
        "# Train the model\n",
        "history_Xception_model_2 = Xception_model_2.fit(train_generator, epochs=num_epochs, validation_data=validation_generator, callbacks=callbacks)"
      ],
      "metadata": {
        "colab": {
          "base_uri": "https://localhost:8080/"
        },
        "id": "zrTpwj3kYdMZ",
        "outputId": "12281869-9b37-40ee-c9fa-365b4caf9c4a"
      },
      "execution_count": null,
      "outputs": [
        {
          "metadata": {
            "tags": null
          },
          "name": "stdout",
          "output_type": "stream",
          "text": [
            "Epoch 1/100\n",
            "296/296 [==============================] - ETA: 0s - loss: 0.0466 - accuracy: 0.9790\n",
            "Epoch 1: val_accuracy did not improve from 0.99168\n",
            "296/296 [==============================] - 98s 331ms/step - loss: 0.0466 - accuracy: 0.9790 - val_loss: 1.0665 - val_accuracy: 0.9528 - lr: 0.0010\n",
            "Epoch 2/100\n",
            "296/296 [==============================] - ETA: 0s - loss: 0.0605 - accuracy: 0.9780\n",
            "Epoch 2: val_accuracy did not improve from 0.99168\n",
            "296/296 [==============================] - 98s 329ms/step - loss: 0.0605 - accuracy: 0.9780 - val_loss: 0.0495 - val_accuracy: 0.9813 - lr: 0.0010\n",
            "Epoch 3/100\n",
            "296/296 [==============================] - ETA: 0s - loss: 0.0467 - accuracy: 0.9777\n",
            "Epoch 3: val_accuracy did not improve from 0.99168\n",
            "296/296 [==============================] - 101s 341ms/step - loss: 0.0467 - accuracy: 0.9777 - val_loss: 0.2622 - val_accuracy: 0.9348 - lr: 0.0010\n",
            "Epoch 4/100\n",
            "296/296 [==============================] - ETA: 0s - loss: 0.0491 - accuracy: 0.9805\n",
            "Epoch 4: val_accuracy did not improve from 0.99168\n",
            "296/296 [==============================] - 97s 327ms/step - loss: 0.0491 - accuracy: 0.9805 - val_loss: 0.2403 - val_accuracy: 0.9827 - lr: 0.0010\n",
            "Epoch 5/100\n",
            "296/296 [==============================] - ETA: 0s - loss: 0.0443 - accuracy: 0.9834\n",
            "Epoch 5: val_accuracy improved from 0.99168 to 0.99307, saving model to Xception_model2_Potato_Based_Non_Augmented\n"
          ]
        },
        {
          "metadata": {
            "tags": null
          },
          "name": "stderr",
          "output_type": "stream",
          "text": [
            "WARNING:absl:Found untraced functions such as _jit_compiled_convolution_op, _jit_compiled_convolution_op, _jit_compiled_convolution_op, _jit_compiled_convolution_op, _jit_compiled_convolution_op while saving (showing 5 of 40). These functions will not be directly callable after loading.\n"
          ]
        },
        {
          "metadata": {
            "tags": null
          },
          "name": "stdout",
          "output_type": "stream",
          "text": [
            "296/296 [==============================] - 124s 418ms/step - loss: 0.0443 - accuracy: 0.9834 - val_loss: 0.0147 - val_accuracy: 0.9931 - lr: 0.0010\n",
            "Epoch 6/100\n",
            "296/296 [==============================] - ETA: 0s - loss: 0.0389 - accuracy: 0.9846\n",
            "Epoch 6: val_accuracy improved from 0.99307 to 0.99376, saving model to Xception_model2_Potato_Based_Non_Augmented\n"
          ]
        },
        {
          "metadata": {
            "tags": null
          },
          "name": "stderr",
          "output_type": "stream",
          "text": [
            "WARNING:absl:Found untraced functions such as _jit_compiled_convolution_op, _jit_compiled_convolution_op, _jit_compiled_convolution_op, _jit_compiled_convolution_op, _jit_compiled_convolution_op while saving (showing 5 of 40). These functions will not be directly callable after loading.\n"
          ]
        },
        {
          "output_type": "stream",
          "name": "stdout",
          "text": [
            "296/296 [==============================] - 124s 418ms/step - loss: 0.0389 - accuracy: 0.9846 - val_loss: 0.0822 - val_accuracy: 0.9938 - lr: 0.0010\n",
            "Epoch 7/100\n",
            "296/296 [==============================] - ETA: 0s - loss: 0.0502 - accuracy: 0.9824\n",
            "Epoch 7: val_accuracy did not improve from 0.99376\n",
            "296/296 [==============================] - 97s 327ms/step - loss: 0.0502 - accuracy: 0.9824 - val_loss: 0.0200 - val_accuracy: 0.9938 - lr: 0.0010\n",
            "Epoch 8/100\n",
            "296/296 [==============================] - ETA: 0s - loss: 0.0380 - accuracy: 0.9832\n",
            "Epoch 8: val_accuracy did not improve from 0.99376\n",
            "296/296 [==============================] - 96s 326ms/step - loss: 0.0380 - accuracy: 0.9832 - val_loss: 0.0180 - val_accuracy: 0.9938 - lr: 0.0010\n",
            "Epoch 9/100\n",
            "296/296 [==============================] - ETA: 0s - loss: 0.0282 - accuracy: 0.9876\n",
            "Epoch 9: val_accuracy did not improve from 0.99376\n",
            "296/296 [==============================] - 96s 326ms/step - loss: 0.0282 - accuracy: 0.9876 - val_loss: 0.9070 - val_accuracy: 0.9133 - lr: 0.0010\n",
            "Epoch 10/100\n",
            "296/296 [==============================] - ETA: 0s - loss: 0.0389 - accuracy: 0.9856\n",
            "Epoch 10: val_accuracy did not improve from 0.99376\n",
            "\n",
            "Epoch 10: ReduceLROnPlateau reducing learning rate to 0.00010000000474974513.\n",
            "296/296 [==============================] - 96s 325ms/step - loss: 0.0389 - accuracy: 0.9856 - val_loss: 0.4530 - val_accuracy: 0.8710 - lr: 0.0010\n",
            "Epoch 11/100\n",
            "296/296 [==============================] - ETA: 0s - loss: 0.0262 - accuracy: 0.9898\n",
            "Epoch 11: val_accuracy improved from 0.99376 to 0.99584, saving model to Xception_model2_Potato_Based_Non_Augmented\n"
          ]
        },
        {
          "output_type": "stream",
          "name": "stderr",
          "text": [
            "WARNING:absl:Found untraced functions such as _jit_compiled_convolution_op, _jit_compiled_convolution_op, _jit_compiled_convolution_op, _jit_compiled_convolution_op, _jit_compiled_convolution_op while saving (showing 5 of 40). These functions will not be directly callable after loading.\n"
          ]
        },
        {
          "output_type": "stream",
          "name": "stdout",
          "text": [
            "\b\b\b\b\b\b\b\b\b\b\b\b\b\b\b\b\b\b\b\b\b\b\b\b\b\b\b\b\b\b\b\b\b\b\b\b\b\b\b\b\b\b\b\b\b\b\b\b\b\b\b\b\b\b\b\b\b\b\b\b\b\b\b\b\b\b\b\b\b\b\b\b\b\b\b\b\b\b\b\b\b\b\b\b\r296/296 [==============================] - 123s 417ms/step - loss: 0.0262 - accuracy: 0.9898 - val_loss: 0.0177 - val_accuracy: 0.9958 - lr: 1.0000e-04\n",
            "Epoch 12/100\n",
            "296/296 [==============================] - ETA: 0s - loss: 0.0181 - accuracy: 0.9932\n",
            "Epoch 12: val_accuracy did not improve from 0.99584\n",
            "296/296 [==============================] - 95s 320ms/step - loss: 0.0181 - accuracy: 0.9932 - val_loss: 0.0165 - val_accuracy: 0.9958 - lr: 1.0000e-04\n",
            "Epoch 13/100\n",
            "296/296 [==============================] - ETA: 0s - loss: 0.0174 - accuracy: 0.9919\n",
            "Epoch 13: val_accuracy did not improve from 0.99584\n",
            "296/296 [==============================] - 96s 324ms/step - loss: 0.0174 - accuracy: 0.9919 - val_loss: 0.0153 - val_accuracy: 0.9958 - lr: 1.0000e-04\n",
            "Epoch 14/100\n",
            "296/296 [==============================] - ETA: 0s - loss: 0.0341 - accuracy: 0.9910\n",
            "Epoch 14: val_accuracy did not improve from 0.99584\n",
            "296/296 [==============================] - 97s 326ms/step - loss: 0.0341 - accuracy: 0.9910 - val_loss: 0.0165 - val_accuracy: 0.9951 - lr: 1.0000e-04\n",
            "Epoch 15/100\n",
            "296/296 [==============================] - ETA: 0s - loss: 0.0124 - accuracy: 0.9946\n",
            "Epoch 15: val_accuracy did not improve from 0.99584\n",
            "\n",
            "Epoch 15: ReduceLROnPlateau reducing learning rate to 1.0000000474974514e-05.\n",
            "296/296 [==============================] - 96s 326ms/step - loss: 0.0124 - accuracy: 0.9946 - val_loss: 0.0182 - val_accuracy: 0.9951 - lr: 1.0000e-04\n",
            "Epoch 16/100\n",
            "296/296 [==============================] - ETA: 0s - loss: 0.0102 - accuracy: 0.9954\n",
            "Epoch 16: val_accuracy did not improve from 0.99584\n",
            "296/296 [==============================] - 96s 326ms/step - loss: 0.0102 - accuracy: 0.9954 - val_loss: 0.0193 - val_accuracy: 0.9958 - lr: 1.0000e-05\n",
            "Epoch 17/100\n",
            "296/296 [==============================] - ETA: 0s - loss: 0.0106 - accuracy: 0.9951\n",
            "Epoch 17: val_accuracy did not improve from 0.99584\n",
            "296/296 [==============================] - 96s 325ms/step - loss: 0.0106 - accuracy: 0.9951 - val_loss: 0.0196 - val_accuracy: 0.9958 - lr: 1.0000e-05\n",
            "Epoch 18/100\n",
            "296/296 [==============================] - ETA: 0s - loss: 0.0094 - accuracy: 0.9966\n",
            "Epoch 18: val_accuracy did not improve from 0.99584\n",
            "296/296 [==============================] - 96s 325ms/step - loss: 0.0094 - accuracy: 0.9966 - val_loss: 0.0196 - val_accuracy: 0.9958 - lr: 1.0000e-05\n",
            "Epoch 19/100\n",
            "296/296 [==============================] - ETA: 0s - loss: 0.0273 - accuracy: 0.9939\n",
            "Epoch 19: val_accuracy improved from 0.99584 to 0.99653, saving model to Xception_model2_Potato_Based_Non_Augmented\n"
          ]
        },
        {
          "output_type": "stream",
          "name": "stderr",
          "text": [
            "WARNING:absl:Found untraced functions such as _jit_compiled_convolution_op, _jit_compiled_convolution_op, _jit_compiled_convolution_op, _jit_compiled_convolution_op, _jit_compiled_convolution_op while saving (showing 5 of 40). These functions will not be directly callable after loading.\n"
          ]
        },
        {
          "output_type": "stream",
          "name": "stdout",
          "text": [
            "\b\b\b\b\b\b\b\b\b\b\b\b\b\b\b\b\b\b\b\b\b\b\b\b\b\b\b\b\b\b\b\b\b\b\b\b\b\b\b\b\b\b\b\b\b\b\b\b\b\b\b\b\b\b\b\b\b\b\b\b\b\b\b\b\b\b\b\b\b\b\b\b\b\b\b\b\b\b\b\b\b\b\b\b\r296/296 [==============================] - 123s 416ms/step - loss: 0.0273 - accuracy: 0.9939 - val_loss: 0.0202 - val_accuracy: 0.9965 - lr: 1.0000e-05\n",
            "Epoch 20/100\n",
            "296/296 [==============================] - ETA: 0s - loss: 0.0103 - accuracy: 0.9954\n",
            "Epoch 20: val_accuracy did not improve from 0.99653\n",
            "\n",
            "Epoch 20: ReduceLROnPlateau reducing learning rate to 1.0000000656873453e-06.\n",
            "296/296 [==============================] - 95s 319ms/step - loss: 0.0103 - accuracy: 0.9954 - val_loss: 0.0207 - val_accuracy: 0.9958 - lr: 1.0000e-05\n",
            "Epoch 21/100\n",
            "296/296 [==============================] - ETA: 0s - loss: 0.0090 - accuracy: 0.9961\n",
            "Epoch 21: val_accuracy did not improve from 0.99653\n",
            "296/296 [==============================] - 96s 324ms/step - loss: 0.0090 - accuracy: 0.9961 - val_loss: 0.0209 - val_accuracy: 0.9958 - lr: 1.0000e-06\n",
            "Epoch 22/100\n",
            "296/296 [==============================] - ETA: 0s - loss: 0.0111 - accuracy: 0.9961\n",
            "Epoch 22: val_accuracy did not improve from 0.99653\n",
            "296/296 [==============================] - 96s 325ms/step - loss: 0.0111 - accuracy: 0.9961 - val_loss: 0.0208 - val_accuracy: 0.9958 - lr: 1.0000e-06\n",
            "Epoch 23/100\n",
            "296/296 [==============================] - ETA: 0s - loss: 0.0099 - accuracy: 0.9966\n",
            "Epoch 23: val_accuracy did not improve from 0.99653\n",
            "296/296 [==============================] - 97s 326ms/step - loss: 0.0099 - accuracy: 0.9966 - val_loss: 0.0210 - val_accuracy: 0.9958 - lr: 1.0000e-06\n",
            "Epoch 24/100\n",
            "296/296 [==============================] - ETA: 0s - loss: 0.0090 - accuracy: 0.9966\n",
            "Epoch 24: val_accuracy did not improve from 0.99653\n",
            "296/296 [==============================] - 96s 325ms/step - loss: 0.0090 - accuracy: 0.9966 - val_loss: 0.0207 - val_accuracy: 0.9958 - lr: 1.0000e-06\n",
            "Epoch 25/100\n",
            "296/296 [==============================] - ETA: 0s - loss: 0.0084 - accuracy: 0.9973\n",
            "Epoch 25: val_accuracy did not improve from 0.99653\n",
            "\n",
            "Epoch 25: ReduceLROnPlateau reducing learning rate to 1.0000001111620805e-07.\n",
            "296/296 [==============================] - 97s 327ms/step - loss: 0.0084 - accuracy: 0.9973 - val_loss: 0.0208 - val_accuracy: 0.9965 - lr: 1.0000e-06\n",
            "Epoch 26/100\n",
            "296/296 [==============================] - ETA: 0s - loss: 0.0088 - accuracy: 0.9964\n",
            "Epoch 26: val_accuracy did not improve from 0.99653\n",
            "296/296 [==============================] - 101s 340ms/step - loss: 0.0088 - accuracy: 0.9964 - val_loss: 0.0211 - val_accuracy: 0.9965 - lr: 1.0000e-07\n",
            "Epoch 27/100\n",
            "296/296 [==============================] - ETA: 0s - loss: 0.0094 - accuracy: 0.9953\n",
            "Epoch 27: val_accuracy did not improve from 0.99653\n",
            "296/296 [==============================] - 94s 316ms/step - loss: 0.0094 - accuracy: 0.9953 - val_loss: 0.0213 - val_accuracy: 0.9958 - lr: 1.0000e-07\n",
            "Epoch 28/100\n",
            "296/296 [==============================] - ETA: 0s - loss: 0.0088 - accuracy: 0.9961\n",
            "Epoch 28: val_accuracy did not improve from 0.99653\n",
            "296/296 [==============================] - 95s 321ms/step - loss: 0.0088 - accuracy: 0.9961 - val_loss: 0.0209 - val_accuracy: 0.9965 - lr: 1.0000e-07\n",
            "Epoch 29/100\n",
            "296/296 [==============================] - ETA: 0s - loss: 0.0088 - accuracy: 0.9959\n",
            "Epoch 29: val_accuracy did not improve from 0.99653\n",
            "296/296 [==============================] - 96s 325ms/step - loss: 0.0088 - accuracy: 0.9959 - val_loss: 0.0211 - val_accuracy: 0.9958 - lr: 1.0000e-07\n",
            "Epoch 30/100\n",
            "296/296 [==============================] - ETA: 0s - loss: 0.0109 - accuracy: 0.9963\n",
            "Epoch 30: val_accuracy did not improve from 0.99653\n",
            "\n",
            "Epoch 30: ReduceLROnPlateau reducing learning rate to 1.000000082740371e-08.\n",
            "296/296 [==============================] - 97s 326ms/step - loss: 0.0109 - accuracy: 0.9963 - val_loss: 0.0208 - val_accuracy: 0.9965 - lr: 1.0000e-07\n",
            "Epoch 31/100\n",
            "296/296 [==============================] - ETA: 0s - loss: 0.0078 - accuracy: 0.9968\n",
            "Epoch 31: val_accuracy did not improve from 0.99653\n",
            "296/296 [==============================] - 97s 326ms/step - loss: 0.0078 - accuracy: 0.9968 - val_loss: 0.0210 - val_accuracy: 0.9965 - lr: 1.0000e-08\n",
            "Epoch 32/100\n",
            "296/296 [==============================] - ETA: 0s - loss: 0.0184 - accuracy: 0.9937\n",
            "Epoch 32: val_accuracy did not improve from 0.99653\n",
            "296/296 [==============================] - 97s 326ms/step - loss: 0.0184 - accuracy: 0.9937 - val_loss: 0.0212 - val_accuracy: 0.9958 - lr: 1.0000e-08\n",
            "Epoch 33/100\n",
            "296/296 [==============================] - ETA: 0s - loss: 0.0106 - accuracy: 0.9963\n",
            "Epoch 33: val_accuracy did not improve from 0.99653\n",
            "296/296 [==============================] - 96s 325ms/step - loss: 0.0106 - accuracy: 0.9963 - val_loss: 0.0212 - val_accuracy: 0.9965 - lr: 1.0000e-08\n",
            "Epoch 34/100\n",
            "296/296 [==============================] - ETA: 0s - loss: 0.0195 - accuracy: 0.9944\n",
            "Epoch 34: val_accuracy did not improve from 0.99653\n",
            "296/296 [==============================] - 97s 326ms/step - loss: 0.0195 - accuracy: 0.9944 - val_loss: 0.0211 - val_accuracy: 0.9965 - lr: 1.0000e-08\n",
            "Epoch 35/100\n",
            "296/296 [==============================] - ETA: 0s - loss: 0.0098 - accuracy: 0.9956\n",
            "Epoch 35: val_accuracy did not improve from 0.99653\n",
            "\n",
            "Epoch 35: ReduceLROnPlateau reducing learning rate to 1.000000082740371e-09.\n",
            "296/296 [==============================] - 96s 325ms/step - loss: 0.0098 - accuracy: 0.9956 - val_loss: 0.0209 - val_accuracy: 0.9965 - lr: 1.0000e-08\n",
            "Epoch 36/100\n",
            "296/296 [==============================] - ETA: 0s - loss: 0.0103 - accuracy: 0.9951\n",
            "Epoch 36: val_accuracy did not improve from 0.99653\n",
            "296/296 [==============================] - 101s 340ms/step - loss: 0.0103 - accuracy: 0.9951 - val_loss: 0.0210 - val_accuracy: 0.9965 - lr: 1.0000e-09\n",
            "Epoch 37/100\n",
            "296/296 [==============================] - ETA: 0s - loss: 0.0086 - accuracy: 0.9963\n",
            "Epoch 37: val_accuracy did not improve from 0.99653\n",
            "296/296 [==============================] - 96s 325ms/step - loss: 0.0086 - accuracy: 0.9963 - val_loss: 0.0212 - val_accuracy: 0.9965 - lr: 1.0000e-09\n",
            "Epoch 38/100\n",
            "296/296 [==============================] - ETA: 0s - loss: 0.0181 - accuracy: 0.9958\n",
            "Epoch 38: val_accuracy did not improve from 0.99653\n",
            "296/296 [==============================] - 96s 326ms/step - loss: 0.0181 - accuracy: 0.9958 - val_loss: 0.0210 - val_accuracy: 0.9958 - lr: 1.0000e-09\n",
            "Epoch 39/100\n",
            "296/296 [==============================] - ETA: 0s - loss: 0.0098 - accuracy: 0.9956\n",
            "Epoch 39: val_accuracy did not improve from 0.99653\n",
            "Restoring model weights from the end of the best epoch: 19.\n",
            "296/296 [==============================] - 97s 327ms/step - loss: 0.0098 - accuracy: 0.9956 - val_loss: 0.0211 - val_accuracy: 0.9965 - lr: 1.0000e-09\n",
            "Epoch 39: early stopping\n"
          ]
        }
      ]
    },
    {
      "cell_type": "code",
      "source": [
        "#-----------------------------------------------------------\n",
        "# Retrieve a list of list results on training and test data\n",
        "# sets for each training epoch\n",
        "#-----------------------------------------------------------\n",
        "acc      = history_Xception_model_2.history['accuracy' ]\n",
        "val_acc  = history_Xception_model_2.history['val_accuracy' ]\n",
        "loss     = history_Xception_model_2.history['loss' ]\n",
        "val_loss = history_Xception_model_2.history['val_loss' ]\n",
        "\n",
        "epochs   = range(len(acc)) # Get number of epochs\n",
        "\n",
        "#------------------------------------------------\n",
        "# Plot training and validation accuracy per epoch\n",
        "#------------------------------------------------\n",
        "plt.plot  (epochs, acc )\n",
        "plt.plot  (epochs, val_acc )\n",
        "plt.title ('Training and validation accuracy DIY Model')\n",
        "plt.figure()\n",
        "\n",
        "#------------------------------------------------\n",
        "# Plot training and validation loss per epoch\n",
        "#------------------------------------------------\n",
        "plt.plot  (epochs, loss)\n",
        "plt.plot  (epochs, val_loss)\n",
        "plt.title ('Training and validation loss DIY Model')"
      ],
      "metadata": {
        "colab": {
          "base_uri": "https://localhost:8080/",
          "height": 904
        },
        "id": "1MwwevBdYdY4",
        "outputId": "a6de3a17-8efb-42cc-b814-52219544ff9a"
      },
      "execution_count": null,
      "outputs": [
        {
          "output_type": "execute_result",
          "data": {
            "text/plain": [
              "Text(0.5, 1.0, 'Training and validation loss DIY Model')"
            ]
          },
          "metadata": {},
          "execution_count": 19
        },
        {
          "output_type": "display_data",
          "data": {
            "text/plain": [
              "<Figure size 640x480 with 1 Axes>"
            ],
            "image/png": "[encoded data removed]"
          },
          "metadata": {}
        },
        {
          "output_type": "display_data",
          "data": {
            "text/plain": [
              "<Figure size 640x480 with 1 Axes>"
            ],
            "image/png": "[encoded data removed]"
          },
          "metadata": {}
        }
      ]
    },
    {
      "cell_type": "markdown",
      "source": [],
      "metadata": {
        "id": "cKLTs8HKKrdg"
      }
    },
    {
      "cell_type": "code",
      "source": [
        "\n",
        "!zip -r /content/Xception_model2_Potato_Based_Non_Augmented.zip /content/Xception_model2_Potato_Based_Non_Augmented"
      ],
      "metadata": {
        "colab": {
          "base_uri": "https://localhost:8080/"
        },
        "id": "PF_nYKzFKrv-",
        "outputId": "71661481-d53c-43f3-da65-7c082bd827e3"
      },
      "execution_count": null,
      "outputs": [
        {
          "output_type": "stream",
          "name": "stdout",
          "text": [
            "  adding: content/Xception_model2_Potato_Based_Non_Augmented/ (stored 0%)\n",
            "  adding: content/Xception_model2_Potato_Based_Non_Augmented/variables/ (stored 0%)\n",
            "  adding: content/Xception_model2_Potato_Based_Non_Augmented/variables/variables.data-00000-of-00001 (deflated 7%)\n",
            "  adding: content/Xception_model2_Potato_Based_Non_Augmented/variables/variables.index (deflated 77%)\n",
            "  adding: content/Xception_model2_Potato_Based_Non_Augmented/assets/ (stored 0%)\n",
            "  adding: content/Xception_model2_Potato_Based_Non_Augmented/fingerprint.pb (stored 0%)\n",
            "  adding: content/Xception_model2_Potato_Based_Non_Augmented/saved_model.pb (deflated 92%)\n",
            "  adding: content/Xception_model2_Potato_Based_Non_Augmented/keras_metadata.pb (deflated 96%)\n"
          ]
        }
      ]
    },
    {
      "cell_type": "code",
      "source": [],
      "metadata": {
        "id": "V1joosGMK-Nj"
      },
      "execution_count": null,
      "outputs": []
    }
  ]
}