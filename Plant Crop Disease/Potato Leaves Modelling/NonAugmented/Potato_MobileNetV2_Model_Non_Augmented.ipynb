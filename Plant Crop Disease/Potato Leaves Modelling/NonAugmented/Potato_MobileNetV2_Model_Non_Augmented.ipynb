{
  "nbformat": 4,
  "nbformat_minor": 0,
  "metadata": {
    "colab": {
      "provenance": [],
      "gpuType": "T4"
    },
    "kernelspec": {
      "name": "python3",
      "display_name": "Python 3"
    },
    "language_info": {
      "name": "python"
    },
    "accelerator": "GPU"
  },
  "cells": [
    {
      "cell_type": "code",
      "execution_count": 1,
      "metadata": {
        "colab": {
          "base_uri": "https://localhost:8080/"
        },
        "id": "AJsV1GMihD0f",
        "outputId": "66dd190d-c231-4cbb-a009-09a0b708b592"
      },
      "outputs": [
        {
          "output_type": "stream",
          "name": "stdout",
          "text": [
            "Looking in indexes: https://pypi.org/simple, https://us-python.pkg.dev/colab-wheels/public/simple/\n",
            "Requirement already satisfied: matplotlib in /usr/local/lib/python3.10/dist-packages (3.7.1)\n",
            "Requirement already satisfied: contourpy>=1.0.1 in /usr/local/lib/python3.10/dist-packages (from matplotlib) (1.0.7)\n",
            "Requirement already satisfied: cycler>=0.10 in /usr/local/lib/python3.10/dist-packages (from matplotlib) (0.11.0)\n",
            "Requirement already satisfied: fonttools>=4.22.0 in /usr/local/lib/python3.10/dist-packages (from matplotlib) (4.39.3)\n",
            "Requirement already satisfied: kiwisolver>=1.0.1 in /usr/local/lib/python3.10/dist-packages (from matplotlib) (1.4.4)\n",
            "Requirement already satisfied: numpy>=1.20 in /usr/local/lib/python3.10/dist-packages (from matplotlib) (1.22.4)\n",
            "Requirement already satisfied: packaging>=20.0 in /usr/local/lib/python3.10/dist-packages (from matplotlib) (23.1)\n",
            "Requirement already satisfied: pillow>=6.2.0 in /usr/local/lib/python3.10/dist-packages (from matplotlib) (8.4.0)\n",
            "Requirement already satisfied: pyparsing>=2.3.1 in /usr/local/lib/python3.10/dist-packages (from matplotlib) (3.0.9)\n",
            "Requirement already satisfied: python-dateutil>=2.7 in /usr/local/lib/python3.10/dist-packages (from matplotlib) (2.8.2)\n",
            "Requirement already satisfied: six>=1.5 in /usr/local/lib/python3.10/dist-packages (from python-dateutil>=2.7->matplotlib) (1.16.0)\n"
          ]
        }
      ],
      "source": [
        "pip install matplotlib"
      ]
    },
    {
      "cell_type": "code",
      "source": [
        "pip install opendatasets"
      ],
      "metadata": {
        "colab": {
          "base_uri": "https://localhost:8080/"
        },
        "id": "RqI76j_BhV4i",
        "outputId": "1b32998a-4d7e-4586-edad-3db7af17632c"
      },
      "execution_count": 2,
      "outputs": [
        {
          "output_type": "stream",
          "name": "stdout",
          "text": [
            "Looking in indexes: https://pypi.org/simple, https://us-python.pkg.dev/colab-wheels/public/simple/\n",
            "Collecting opendatasets\n",
            "  Downloading opendatasets-0.1.22-py3-none-any.whl (15 kB)\n",
            "Requirement already satisfied: tqdm in /usr/local/lib/python3.10/dist-packages (from opendatasets) (4.65.0)\n",
            "Requirement already satisfied: kaggle in /usr/local/lib/python3.10/dist-packages (from opendatasets) (1.5.13)\n",
            "Requirement already satisfied: click in /usr/local/lib/python3.10/dist-packages (from opendatasets) (8.1.3)\n",
            "Requirement already satisfied: six>=1.10 in /usr/local/lib/python3.10/dist-packages (from kaggle->opendatasets) (1.16.0)\n",
            "Requirement already satisfied: certifi in /usr/local/lib/python3.10/dist-packages (from kaggle->opendatasets) (2022.12.7)\n",
            "Requirement already satisfied: python-dateutil in /usr/local/lib/python3.10/dist-packages (from kaggle->opendatasets) (2.8.2)\n",
            "Requirement already satisfied: requests in /usr/local/lib/python3.10/dist-packages (from kaggle->opendatasets) (2.27.1)\n",
            "Requirement already satisfied: python-slugify in /usr/local/lib/python3.10/dist-packages (from kaggle->opendatasets) (8.0.1)\n",
            "Requirement already satisfied: urllib3 in /usr/local/lib/python3.10/dist-packages (from kaggle->opendatasets) (1.26.15)\n",
            "Requirement already satisfied: text-unidecode>=1.3 in /usr/local/lib/python3.10/dist-packages (from python-slugify->kaggle->opendatasets) (1.3)\n",
            "Requirement already satisfied: charset-normalizer~=2.0.0 in /usr/local/lib/python3.10/dist-packages (from requests->kaggle->opendatasets) (2.0.12)\n",
            "Requirement already satisfied: idna<4,>=2.5 in /usr/local/lib/python3.10/dist-packages (from requests->kaggle->opendatasets) (3.4)\n",
            "Installing collected packages: opendatasets\n",
            "Successfully installed opendatasets-0.1.22\n"
          ]
        }
      ]
    },
    {
      "cell_type": "code",
      "source": [
        "# Library to dataset\n",
        "import opendatasets as od\n",
        "import os\n",
        "import zipfile\n",
        "import numpy as np\n",
        "\n",
        "# Surpress Warnings\n",
        "import warnings\n",
        "warnings.filterwarnings('ignore')\n",
        "os.environ['TF_CPP_MIN_LOG_LEVEL'] = '3' \n",
        "# library visualization\n",
        "import matplotlib.pyplot as plt\n",
        "\n",
        "# Library Tensorflow\n",
        "import tensorflow as tf\n",
        "from tensorflow import keras\n",
        "from tensorflow.keras.preprocessing.image import ImageDataGenerator\n",
        "from tensorflow.keras.callbacks import ModelCheckpoint, EarlyStopping, ReduceLROnPlateau\n",
        "from tensorflow.keras.applications.densenet import DenseNet121\n",
        "from tensorflow.keras.applications.xception import Xception\n",
        "from tensorflow.keras.applications.mobilenet_v2 import MobileNetV2\n",
        "\n",
        "# Others\n",
        "import shutil\n",
        "import random"
      ],
      "metadata": {
        "id": "kzo_7oLrhV_g"
      },
      "execution_count": 3,
      "outputs": []
    },
    {
      "cell_type": "markdown",
      "source": [],
      "metadata": {
        "id": "kqwufPHIhYxy"
      }
    },
    {
      "cell_type": "code",
      "source": [
        "# Download dataset\n",
        "od.download('https://www.kaggle.com/datasets/faudyanurul/potato')"
      ],
      "metadata": {
        "colab": {
          "base_uri": "https://localhost:8080/"
        },
        "id": "JPmzqk8shY74",
        "outputId": "c5d26c28-f2b6-42bb-f07f-07646013c73b"
      },
      "execution_count": 4,
      "outputs": [
        {
          "output_type": "stream",
          "name": "stdout",
          "text": [
            "Please provide your Kaggle credentials to download this dataset. Learn more: http://bit.ly/kaggle-creds\n",
            "Your Kaggle username: faudyanurul\n",
            "Your Kaggle Key: ··········\n",
            "Downloading potato.zip to ./potato\n"
          ]
        },
        {
          "output_type": "stream",
          "name": "stderr",
          "text": [
            "100%|██████████| 185M/185M [00:03<00:00, 55.7MB/s]\n"
          ]
        },
        {
          "output_type": "stream",
          "name": "stdout",
          "text": [
            "\n"
          ]
        }
      ]
    },
    {
      "cell_type": "code",
      "source": [
        "# Load dataset\n",
        "print(\"==========================Training Data====================\")\n",
        "train_data = tf.keras.preprocessing.image_dataset_from_directory(\n",
        "    \"potato/Potato/train\",\n",
        "    label_mode=\"categorical\",\n",
        "    class_names= ['Potato healthy', 'Potato leaf early blight', 'Potato leaf late blight'],\n",
        "    color_mode=\"rgb\",\n",
        "    batch_size=1,\n",
        "    image_size=(256, 256),\n",
        "    shuffle=True,\n",
        "    seed=123\n",
        ")\n",
        "print(\"==========================Validation Data====================\")\n",
        "val_data = tf.keras.preprocessing.image_dataset_from_directory(\n",
        "    \"potato/Potato/valid\",\n",
        "    label_mode=\"categorical\",\n",
        "    class_names= ['Potato healthy', 'Potato leaf early blight', 'Potato leaf late blight'],\n",
        "    color_mode=\"rgb\",\n",
        "    batch_size=1,\n",
        "    image_size=(256, 256),\n",
        "    shuffle=True,\n",
        "    seed=123\n",
        ")"
      ],
      "metadata": {
        "colab": {
          "base_uri": "https://localhost:8080/"
        },
        "id": "3trRjyIChcLU",
        "outputId": "9af9cd00-aee3-4508-d3bf-53c208fa273b"
      },
      "execution_count": 5,
      "outputs": [
        {
          "output_type": "stream",
          "name": "stdout",
          "text": [
            "==========================Training Data====================\n",
            "Found 5907 files belonging to 3 classes.\n",
            "==========================Validation Data====================\n",
            "Found 1442 files belonging to 3 classes.\n"
          ]
        }
      ]
    },
    {
      "cell_type": "code",
      "source": [
        "# All images will be rescaled by 1./255.\n",
        "train_datagen = ImageDataGenerator(rescale = 1.0/256.)\n",
        "test_datagen  = ImageDataGenerator(rescale = 1.0/256.)\n",
        "\n",
        "# --------------------\n",
        "# Flow training images in batches of 20 using train_datagen generator\n",
        "# --------------------\n",
        "train_generator = train_datagen.flow_from_directory(\"potato/Potato/train\",\n",
        "                                                    batch_size=20,\n",
        "                                                    class_mode='categorical',\n",
        "                                                    target_size=(224, 224))     \n",
        "# --------------------\n",
        "# Flow validation images in batches of 20 using test_datagen generator\n",
        "# --------------------\n",
        "validation_generator =  test_datagen.flow_from_directory(\"potato/Potato/valid\",\n",
        "                                                         batch_size=20,\n",
        "                                                         class_mode  = 'categorical',\n",
        "                                                         target_size = (224, 224))\n"
      ],
      "metadata": {
        "colab": {
          "base_uri": "https://localhost:8080/"
        },
        "id": "E4axivxwhcRP",
        "outputId": "688959c9-76ae-47c3-8321-57e5ec040971"
      },
      "execution_count": 6,
      "outputs": [
        {
          "output_type": "stream",
          "name": "stdout",
          "text": [
            "Found 5907 images belonging to 3 classes.\n",
            "Found 1442 images belonging to 3 classes.\n"
          ]
        }
      ]
    },
    {
      "cell_type": "markdown",
      "source": [],
      "metadata": {
        "id": "x4251R-Nhifl"
      }
    },
    {
      "cell_type": "code",
      "source": [
        "# Check GPU\n",
        "!nvidia-smi"
      ],
      "metadata": {
        "colab": {
          "base_uri": "https://localhost:8080/"
        },
        "id": "Utc_lz4GhjWg",
        "outputId": "9cecf45b-834f-491b-b1fd-ab69faa1b148"
      },
      "execution_count": 7,
      "outputs": [
        {
          "output_type": "stream",
          "name": "stdout",
          "text": [
            "Sun Jun  4 13:13:35 2023       \n",
            "+-----------------------------------------------------------------------------+\n",
            "| NVIDIA-SMI 525.85.12    Driver Version: 525.85.12    CUDA Version: 12.0     |\n",
            "|-------------------------------+----------------------+----------------------+\n",
            "| GPU  Name        Persistence-M| Bus-Id        Disp.A | Volatile Uncorr. ECC |\n",
            "| Fan  Temp  Perf  Pwr:Usage/Cap|         Memory-Usage | GPU-Util  Compute M. |\n",
            "|                               |                      |               MIG M. |\n",
            "|===============================+======================+======================|\n",
            "|   0  Tesla T4            Off  | 00000000:00:04.0 Off |                    0 |\n",
            "| N/A   52C    P0    26W /  70W |    389MiB / 15360MiB |      0%      Default |\n",
            "|                               |                      |                  N/A |\n",
            "+-------------------------------+----------------------+----------------------+\n",
            "                                                                               \n",
            "+-----------------------------------------------------------------------------+\n",
            "| Processes:                                                                  |\n",
            "|  GPU   GI   CI        PID   Type   Process name                  GPU Memory |\n",
            "|        ID   ID                                                   Usage      |\n",
            "|=============================================================================|\n",
            "+-----------------------------------------------------------------------------+\n"
          ]
        }
      ]
    },
    {
      "cell_type": "code",
      "source": [
        "# Lis physical devices\n",
        "devices = tf.config.experimental.list_physical_devices(\"GPU\")\n",
        "devices"
      ],
      "metadata": {
        "colab": {
          "base_uri": "https://localhost:8080/"
        },
        "id": "3C12zrBKhjfI",
        "outputId": "2ee1ea45-6506-4fb6-bb28-6bfc1efb5b64"
      },
      "execution_count": 8,
      "outputs": [
        {
          "output_type": "execute_result",
          "data": {
            "text/plain": [
              "[PhysicalDevice(name='/physical_device:GPU:0', device_type='GPU')]"
            ]
          },
          "metadata": {},
          "execution_count": 8
        }
      ]
    },
    {
      "cell_type": "code",
      "source": [
        "# Define the GPU strategy\n",
        "mirrored_strategy = tf.distribute.MirroredStrategy(devices=[\"/gpu:0\"])"
      ],
      "metadata": {
        "id": "YIQEJHFWhju1"
      },
      "execution_count": 9,
      "outputs": []
    },
    {
      "cell_type": "markdown",
      "source": [],
      "metadata": {
        "id": "1zvBGWIBho_v"
      }
    },
    {
      "cell_type": "code",
      "source": [
        "# Difine the callbacks\n",
        "# Save the best model\n",
        "checkpoint_callback = ModelCheckpoint(filepath=\"Potato_MobileNetV2_model1_Based_Non_Augmented\", save_best_only=True, monitor=\"val_accuracy\", mode=\"max\", verbose=1)\n",
        "\n",
        "# Early stopping\n",
        "early_stopping_callback = EarlyStopping(monitor=\"val_accuracy\", mode=\"max\", patience=20, verbose=1, restore_best_weights=True)\n",
        "\n",
        "# Reduce learning rate\n",
        "reduce_lr_callback = ReduceLROnPlateau(monitor=\"val_loss\", factor=0.1, patience=5, verbose=1, mode=\"min\", min_delta=0.0001, cooldown=0, min_lr=0)\n",
        "\n",
        "# Callbacks list\n",
        "callbacks=[checkpoint_callback, early_stopping_callback, reduce_lr_callback]"
      ],
      "metadata": {
        "id": "AlrsFMlQhpIQ"
      },
      "execution_count": 10,
      "outputs": []
    },
    {
      "cell_type": "code",
      "source": [
        "# Define DIY Model\n",
        "MobileNetV2_model = tf.keras.models.Sequential([\n",
        "    # MobileNetV2 Layer\n",
        "    MobileNetV2(include_top=False,weights='imagenet',input_shape=(224, 224, 3)),\n",
        "    # Global Max Pooling Layer\n",
        "    tf.keras.layers.GlobalMaxPooling2D(),\n",
        "    # Drop Out Layer\n",
        "    tf.keras.layers.Dropout(0.2),\n",
        "    # 256 neuron hidden layer\n",
        "    tf.keras.layers.Dense(256, activation='relu'),\n",
        "    # Output\n",
        "    tf.keras.layers.Dense(3, activation='softmax') \n",
        "  ])\n",
        "\n",
        "\n",
        "# Compile Model\n",
        "MobileNetV2_model.compile(loss='categorical_crossentropy',optimizer=tf.keras.optimizers.Adam(), metrics=['accuracy']) \n",
        "\n",
        "# Model Summary\n",
        "MobileNetV2_model.summary()"
      ],
      "metadata": {
        "colab": {
          "base_uri": "https://localhost:8080/"
        },
        "id": "MPWTHhbrhtrs",
        "outputId": "7c2e370e-f311-4ad3-f306-4f0d2a9dd9f7"
      },
      "execution_count": 11,
      "outputs": [
        {
          "output_type": "stream",
          "name": "stdout",
          "text": [
            "Downloading data from https://storage.googleapis.com/tensorflow/keras-applications/mobilenet_v2/mobilenet_v2_weights_tf_dim_ordering_tf_kernels_1.0_224_no_top.h5\n",
            "9406464/9406464 [==============================] - 0s 0us/step\n",
            "Model: \"sequential\"\n",
            "_________________________________________________________________\n",
            " Layer (type)                Output Shape              Param #   \n",
            "=================================================================\n",
            " mobilenetv2_1.00_224 (Funct  (None, 7, 7, 1280)       2257984   \n",
            " ional)                                                          \n",
            "                                                                 \n",
            " global_max_pooling2d (Globa  (None, 1280)             0         \n",
            " lMaxPooling2D)                                                  \n",
            "                                                                 \n",
            " dropout (Dropout)           (None, 1280)              0         \n",
            "                                                                 \n",
            " dense (Dense)               (None, 256)               327936    \n",
            "                                                                 \n",
            " dense_1 (Dense)             (None, 3)                 771       \n",
            "                                                                 \n",
            "=================================================================\n",
            "Total params: 2,586,691\n",
            "Trainable params: 2,552,579\n",
            "Non-trainable params: 34,112\n",
            "_________________________________________________________________\n"
          ]
        }
      ]
    },
    {
      "cell_type": "code",
      "source": [
        "# Define the number of epochs\n",
        "num_epochs = 100\n",
        "\n",
        "# Train the model\n",
        "history_MobileNetV2_model_1 = MobileNetV2_model.fit(train_generator, epochs=num_epochs, validation_data=validation_generator, callbacks=callbacks)"
      ],
      "metadata": {
        "colab": {
          "base_uri": "https://localhost:8080/"
        },
        "id": "OQan1hpnhwuF",
        "outputId": "4f97f4bb-20ef-4dd8-b67a-324d4f4c6056"
      },
      "execution_count": 12,
      "outputs": [
        {
          "output_type": "stream",
          "name": "stdout",
          "text": [
            "Epoch 1/100\n",
            "296/296 [==============================] - ETA: 0s - loss: 0.3805 - accuracy: 0.9255\n",
            "Epoch 1: val_accuracy improved from -inf to 0.32178, saving model to Potato_MobileNetV2_model1_Based_Non_Augmented\n"
          ]
        },
        {
          "output_type": "stream",
          "name": "stderr",
          "text": [
            "WARNING:absl:Function `_wrapped_model` contains input name(s) mobilenetv2_1.00_224_input with unsupported characters which will be renamed to mobilenetv2_1_00_224_input in the SavedModel.\n",
            "WARNING:absl:`mobilenetv2_1.00_224_input` is not a valid tf.function parameter name. Sanitizing to `mobilenetv2_1_00_224_input`.\n",
            "WARNING:absl:`mobilenetv2_1.00_224_input` is not a valid tf.function parameter name. Sanitizing to `mobilenetv2_1_00_224_input`.\n",
            "WARNING:absl:`mobilenetv2_1.00_224_input` is not a valid tf.function parameter name. Sanitizing to `mobilenetv2_1_00_224_input`.\n",
            "WARNING:absl:Found untraced functions such as _jit_compiled_convolution_op, _jit_compiled_convolution_op, _jit_compiled_convolution_op, _jit_compiled_convolution_op, _jit_compiled_convolution_op while saving (showing 5 of 52). These functions will not be directly callable after loading.\n"
          ]
        },
        {
          "output_type": "stream",
          "name": "stdout",
          "text": [
            "\b\b\b\b\b\b\b\b\b\b\b\b\b\b\b\b\b\b\b\b\b\b\b\b\b\b\b\b\b\b\b\b\b\b\b\b\b\b\b\b\b\b\b\b\b\b\b\b\b\b\b\b\b\b\b\b\b\b\b\b\b\b\b\b\b\b\b\b\b\b\b\b\b\b\b\b\b\b\b\b\b\b\b\b\r296/296 [==============================] - 100s 201ms/step - loss: 0.3805 - accuracy: 0.9255 - val_loss: 11.5834 - val_accuracy: 0.3218 - lr: 0.0010\n",
            "Epoch 2/100\n",
            "296/296 [==============================] - ETA: 0s - loss: 0.1076 - accuracy: 0.9626\n",
            "Epoch 2: val_accuracy did not improve from 0.32178\n",
            "296/296 [==============================] - 34s 114ms/step - loss: 0.1076 - accuracy: 0.9626 - val_loss: 9.0264 - val_accuracy: 0.3162 - lr: 0.0010\n",
            "Epoch 3/100\n",
            "296/296 [==============================] - ETA: 0s - loss: 0.1311 - accuracy: 0.9567\n",
            "Epoch 3: val_accuracy improved from 0.32178 to 0.49029, saving model to Potato_MobileNetV2_model1_Based_Non_Augmented\n"
          ]
        },
        {
          "output_type": "stream",
          "name": "stderr",
          "text": [
            "WARNING:absl:Function `_wrapped_model` contains input name(s) mobilenetv2_1.00_224_input with unsupported characters which will be renamed to mobilenetv2_1_00_224_input in the SavedModel.\n",
            "WARNING:absl:`mobilenetv2_1.00_224_input` is not a valid tf.function parameter name. Sanitizing to `mobilenetv2_1_00_224_input`.\n",
            "WARNING:absl:`mobilenetv2_1.00_224_input` is not a valid tf.function parameter name. Sanitizing to `mobilenetv2_1_00_224_input`.\n",
            "WARNING:absl:Found untraced functions such as _jit_compiled_convolution_op, _jit_compiled_convolution_op, _jit_compiled_convolution_op, _jit_compiled_convolution_op, _jit_compiled_convolution_op while saving (showing 5 of 52). These functions will not be directly callable after loading.\n"
          ]
        },
        {
          "output_type": "stream",
          "name": "stdout",
          "text": [
            "\b\b\b\b\b\b\b\b\b\b\b\b\b\b\b\b\b\b\b\b\b\b\b\b\b\b\b\b\b\b\b\b\b\b\b\b\b\b\b\b\b\b\b\b\b\b\b\b\b\b\b\b\b\b\b\b\b\b\b\b\b\b\b\b\b\b\b\b\b\b\b\b\b\b\b\b\b\b\b\b\b\b\b\b\r296/296 [==============================] - 58s 195ms/step - loss: 0.1311 - accuracy: 0.9567 - val_loss: 1.3434 - val_accuracy: 0.4903 - lr: 0.0010\n",
            "Epoch 4/100\n",
            "296/296 [==============================] - ETA: 0s - loss: 0.0723 - accuracy: 0.9702\n",
            "Epoch 4: val_accuracy improved from 0.49029 to 0.77184, saving model to Potato_MobileNetV2_model1_Based_Non_Augmented\n"
          ]
        },
        {
          "output_type": "stream",
          "name": "stderr",
          "text": [
            "WARNING:absl:Function `_wrapped_model` contains input name(s) mobilenetv2_1.00_224_input with unsupported characters which will be renamed to mobilenetv2_1_00_224_input in the SavedModel.\n",
            "WARNING:absl:Found untraced functions such as _jit_compiled_convolution_op, _jit_compiled_convolution_op, _jit_compiled_convolution_op, _jit_compiled_convolution_op, _jit_compiled_convolution_op while saving (showing 5 of 52). These functions will not be directly callable after loading.\n"
          ]
        },
        {
          "output_type": "stream",
          "name": "stdout",
          "text": [
            "\b\b\b\b\b\b\b\b\b\b\b\b\b\b\b\b\b\b\b\b\b\b\b\b\b\b\b\b\b\b\b\b\b\b\b\b\b\b\b\b\b\b\b\b\b\b\b\b\b\b\b\b\b\b\b\b\b\b\b\b\b\b\b\b\b\b\b\b\b\b\b\b\b\b\b\b\b\b\b\b\b\b\b\b\r296/296 [==============================] - 57s 194ms/step - loss: 0.0723 - accuracy: 0.9702 - val_loss: 0.6120 - val_accuracy: 0.7718 - lr: 0.0010\n",
            "Epoch 5/100\n",
            "296/296 [==============================] - ETA: 0s - loss: 0.0555 - accuracy: 0.9761\n",
            "Epoch 5: val_accuracy did not improve from 0.77184\n",
            "296/296 [==============================] - 34s 114ms/step - loss: 0.0555 - accuracy: 0.9761 - val_loss: 3.5435 - val_accuracy: 0.4605 - lr: 0.0010\n",
            "Epoch 6/100\n",
            "296/296 [==============================] - ETA: 0s - loss: 0.0635 - accuracy: 0.9773\n",
            "Epoch 6: val_accuracy improved from 0.77184 to 0.87171, saving model to Potato_MobileNetV2_model1_Based_Non_Augmented\n"
          ]
        },
        {
          "output_type": "stream",
          "name": "stderr",
          "text": [
            "WARNING:absl:Function `_wrapped_model` contains input name(s) mobilenetv2_1.00_224_input with unsupported characters which will be renamed to mobilenetv2_1_00_224_input in the SavedModel.\n",
            "WARNING:absl:Found untraced functions such as _jit_compiled_convolution_op, _jit_compiled_convolution_op, _jit_compiled_convolution_op, _jit_compiled_convolution_op, _jit_compiled_convolution_op while saving (showing 5 of 52). These functions will not be directly callable after loading.\n"
          ]
        },
        {
          "output_type": "stream",
          "name": "stdout",
          "text": [
            "\b\b\b\b\b\b\b\b\b\b\b\b\b\b\b\b\b\b\b\b\b\b\b\b\b\b\b\b\b\b\b\b\b\b\b\b\b\b\b\b\b\b\b\b\b\b\b\b\b\b\b\b\b\b\b\b\b\b\b\b\b\b\b\b\b\b\b\b\b\b\b\b\b\b\b\b\b\b\b\b\b\b\b\b\r296/296 [==============================] - 58s 196ms/step - loss: 0.0635 - accuracy: 0.9773 - val_loss: 0.4993 - val_accuracy: 0.8717 - lr: 0.0010\n",
            "Epoch 7/100\n",
            "296/296 [==============================] - ETA: 0s - loss: 0.0379 - accuracy: 0.9832\n",
            "Epoch 7: val_accuracy improved from 0.87171 to 0.91609, saving model to Potato_MobileNetV2_model1_Based_Non_Augmented\n"
          ]
        },
        {
          "output_type": "stream",
          "name": "stderr",
          "text": [
            "WARNING:absl:Function `_wrapped_model` contains input name(s) mobilenetv2_1.00_224_input with unsupported characters which will be renamed to mobilenetv2_1_00_224_input in the SavedModel.\n",
            "WARNING:absl:Found untraced functions such as _jit_compiled_convolution_op, _jit_compiled_convolution_op, _jit_compiled_convolution_op, _jit_compiled_convolution_op, _jit_compiled_convolution_op while saving (showing 5 of 52). These functions will not be directly callable after loading.\n"
          ]
        },
        {
          "output_type": "stream",
          "name": "stdout",
          "text": [
            "\b\b\b\b\b\b\b\b\b\b\b\b\b\b\b\b\b\b\b\b\b\b\b\b\b\b\b\b\b\b\b\b\b\b\b\b\b\b\b\b\b\b\b\b\b\b\b\b\b\b\b\b\b\b\b\b\b\b\b\b\b\b\b\b\b\b\b\b\b\b\b\b\b\b\b\b\b\b\b\b\b\b\b\b\r296/296 [==============================] - 57s 194ms/step - loss: 0.0379 - accuracy: 0.9832 - val_loss: 0.4972 - val_accuracy: 0.9161 - lr: 0.0010\n",
            "Epoch 8/100\n",
            "296/296 [==============================] - ETA: 0s - loss: 0.0452 - accuracy: 0.9788\n",
            "Epoch 8: val_accuracy did not improve from 0.91609\n",
            "296/296 [==============================] - 34s 115ms/step - loss: 0.0452 - accuracy: 0.9788 - val_loss: 0.6955 - val_accuracy: 0.7691 - lr: 0.0010\n",
            "Epoch 9/100\n",
            "296/296 [==============================] - ETA: 0s - loss: 0.0777 - accuracy: 0.9753\n",
            "Epoch 9: val_accuracy did not improve from 0.91609\n",
            "296/296 [==============================] - 34s 114ms/step - loss: 0.0777 - accuracy: 0.9753 - val_loss: 0.9926 - val_accuracy: 0.7670 - lr: 0.0010\n",
            "Epoch 10/100\n",
            "296/296 [==============================] - ETA: 0s - loss: 0.0521 - accuracy: 0.9805\n",
            "Epoch 10: val_accuracy did not improve from 0.91609\n",
            "296/296 [==============================] - 35s 117ms/step - loss: 0.0521 - accuracy: 0.9805 - val_loss: 1.2379 - val_accuracy: 0.6186 - lr: 0.0010\n",
            "Epoch 11/100\n",
            "296/296 [==============================] - ETA: 0s - loss: 0.0692 - accuracy: 0.9761\n",
            "Epoch 11: val_accuracy improved from 0.91609 to 0.94938, saving model to Potato_MobileNetV2_model1_Based_Non_Augmented\n"
          ]
        },
        {
          "output_type": "stream",
          "name": "stderr",
          "text": [
            "WARNING:absl:Function `_wrapped_model` contains input name(s) mobilenetv2_1.00_224_input with unsupported characters which will be renamed to mobilenetv2_1_00_224_input in the SavedModel.\n",
            "WARNING:absl:Found untraced functions such as _jit_compiled_convolution_op, _jit_compiled_convolution_op, _jit_compiled_convolution_op, _jit_compiled_convolution_op, _jit_compiled_convolution_op while saving (showing 5 of 52). These functions will not be directly callable after loading.\n"
          ]
        },
        {
          "output_type": "stream",
          "name": "stdout",
          "text": [
            "\b\b\b\b\b\b\b\b\b\b\b\b\b\b\b\b\b\b\b\b\b\b\b\b\b\b\b\b\b\b\b\b\b\b\b\b\b\b\b\b\b\b\b\b\b\b\b\b\b\b\b\b\b\b\b\b\b\b\b\b\b\b\b\b\b\b\b\b\b\b\b\b\b\b\b\b\b\b\b\b\b\b\b\b\r296/296 [==============================] - 59s 199ms/step - loss: 0.0692 - accuracy: 0.9761 - val_loss: 0.2604 - val_accuracy: 0.9494 - lr: 0.0010\n",
            "Epoch 12/100\n",
            "296/296 [==============================] - ETA: 0s - loss: 0.0514 - accuracy: 0.9785\n",
            "Epoch 12: val_accuracy did not improve from 0.94938\n",
            "296/296 [==============================] - 34s 116ms/step - loss: 0.0514 - accuracy: 0.9785 - val_loss: 0.3025 - val_accuracy: 0.9036 - lr: 0.0010\n",
            "Epoch 13/100\n",
            "296/296 [==============================] - ETA: 0s - loss: 0.0401 - accuracy: 0.9831\n",
            "Epoch 13: val_accuracy did not improve from 0.94938\n",
            "296/296 [==============================] - 33s 112ms/step - loss: 0.0401 - accuracy: 0.9831 - val_loss: 0.2969 - val_accuracy: 0.9126 - lr: 0.0010\n",
            "Epoch 14/100\n",
            "296/296 [==============================] - ETA: 0s - loss: 0.0447 - accuracy: 0.9814\n",
            "Epoch 14: val_accuracy did not improve from 0.94938\n",
            "296/296 [==============================] - 34s 113ms/step - loss: 0.0447 - accuracy: 0.9814 - val_loss: 4.4506 - val_accuracy: 0.3176 - lr: 0.0010\n",
            "Epoch 15/100\n",
            "296/296 [==============================] - ETA: 0s - loss: 0.0880 - accuracy: 0.9694\n",
            "Epoch 15: val_accuracy did not improve from 0.94938\n",
            "296/296 [==============================] - 34s 114ms/step - loss: 0.0880 - accuracy: 0.9694 - val_loss: 0.3930 - val_accuracy: 0.8530 - lr: 0.0010\n",
            "Epoch 16/100\n",
            "296/296 [==============================] - ETA: 0s - loss: 0.0685 - accuracy: 0.9738\n",
            "Epoch 16: val_accuracy did not improve from 0.94938\n",
            "\n",
            "Epoch 16: ReduceLROnPlateau reducing learning rate to 0.00010000000474974513.\n",
            "296/296 [==============================] - 33s 112ms/step - loss: 0.0685 - accuracy: 0.9738 - val_loss: 0.5050 - val_accuracy: 0.8849 - lr: 0.0010\n",
            "Epoch 17/100\n",
            "296/296 [==============================] - ETA: 0s - loss: 0.0319 - accuracy: 0.9861\n",
            "Epoch 17: val_accuracy did not improve from 0.94938\n",
            "296/296 [==============================] - 34s 115ms/step - loss: 0.0319 - accuracy: 0.9861 - val_loss: 0.2093 - val_accuracy: 0.9466 - lr: 1.0000e-04\n",
            "Epoch 18/100\n",
            "296/296 [==============================] - ETA: 0s - loss: 0.0242 - accuracy: 0.9888\n",
            "Epoch 18: val_accuracy improved from 0.94938 to 0.98058, saving model to Potato_MobileNetV2_model1_Based_Non_Augmented\n"
          ]
        },
        {
          "output_type": "stream",
          "name": "stderr",
          "text": [
            "WARNING:absl:Function `_wrapped_model` contains input name(s) mobilenetv2_1.00_224_input with unsupported characters which will be renamed to mobilenetv2_1_00_224_input in the SavedModel.\n",
            "WARNING:absl:Found untraced functions such as _jit_compiled_convolution_op, _jit_compiled_convolution_op, _jit_compiled_convolution_op, _jit_compiled_convolution_op, _jit_compiled_convolution_op while saving (showing 5 of 52). These functions will not be directly callable after loading.\n"
          ]
        },
        {
          "output_type": "stream",
          "name": "stdout",
          "text": [
            "\b\b\b\b\b\b\b\b\b\b\b\b\b\b\b\b\b\b\b\b\b\b\b\b\b\b\b\b\b\b\b\b\b\b\b\b\b\b\b\b\b\b\b\b\b\b\b\b\b\b\b\b\b\b\b\b\b\b\b\b\b\b\b\b\b\b\b\b\b\b\b\b\b\b\b\b\b\b\b\b\b\b\b\b\r296/296 [==============================] - 58s 198ms/step - loss: 0.0242 - accuracy: 0.9888 - val_loss: 0.0607 - val_accuracy: 0.9806 - lr: 1.0000e-04\n",
            "Epoch 19/100\n",
            "296/296 [==============================] - ETA: 0s - loss: 0.0210 - accuracy: 0.9898\n",
            "Epoch 19: val_accuracy improved from 0.98058 to 0.98960, saving model to Potato_MobileNetV2_model1_Based_Non_Augmented\n"
          ]
        },
        {
          "output_type": "stream",
          "name": "stderr",
          "text": [
            "WARNING:absl:Function `_wrapped_model` contains input name(s) mobilenetv2_1.00_224_input with unsupported characters which will be renamed to mobilenetv2_1_00_224_input in the SavedModel.\n",
            "WARNING:absl:Found untraced functions such as _jit_compiled_convolution_op, _jit_compiled_convolution_op, _jit_compiled_convolution_op, _jit_compiled_convolution_op, _jit_compiled_convolution_op while saving (showing 5 of 52). These functions will not be directly callable after loading.\n"
          ]
        },
        {
          "output_type": "stream",
          "name": "stdout",
          "text": [
            "\b\b\b\b\b\b\b\b\b\b\b\b\b\b\b\b\b\b\b\b\b\b\b\b\b\b\b\b\b\b\b\b\b\b\b\b\b\b\b\b\b\b\b\b\b\b\b\b\b\b\b\b\b\b\b\b\b\b\b\b\b\b\b\b\b\b\b\b\b\b\b\b\b\b\b\b\b\b\b\b\b\b\b\b\r296/296 [==============================] - 58s 195ms/step - loss: 0.0210 - accuracy: 0.9898 - val_loss: 0.0415 - val_accuracy: 0.9896 - lr: 1.0000e-04\n",
            "Epoch 20/100\n",
            "296/296 [==============================] - ETA: 0s - loss: 0.0209 - accuracy: 0.9915\n",
            "Epoch 20: val_accuracy improved from 0.98960 to 0.99376, saving model to Potato_MobileNetV2_model1_Based_Non_Augmented\n"
          ]
        },
        {
          "output_type": "stream",
          "name": "stderr",
          "text": [
            "WARNING:absl:Function `_wrapped_model` contains input name(s) mobilenetv2_1.00_224_input with unsupported characters which will be renamed to mobilenetv2_1_00_224_input in the SavedModel.\n",
            "WARNING:absl:Found untraced functions such as _jit_compiled_convolution_op, _jit_compiled_convolution_op, _jit_compiled_convolution_op, _jit_compiled_convolution_op, _jit_compiled_convolution_op while saving (showing 5 of 52). These functions will not be directly callable after loading.\n"
          ]
        },
        {
          "output_type": "stream",
          "name": "stdout",
          "text": [
            "\b\b\b\b\b\b\b\b\b\b\b\b\b\b\b\b\b\b\b\b\b\b\b\b\b\b\b\b\b\b\b\b\b\b\b\b\b\b\b\b\b\b\b\b\b\b\b\b\b\b\b\b\b\b\b\b\b\b\b\b\b\b\b\b\b\b\b\b\b\b\b\b\b\b\b\b\b\b\b\b\b\b\b\b\r296/296 [==============================] - 58s 196ms/step - loss: 0.0209 - accuracy: 0.9915 - val_loss: 0.0204 - val_accuracy: 0.9938 - lr: 1.0000e-04\n",
            "Epoch 21/100\n",
            "296/296 [==============================] - ETA: 0s - loss: 0.0171 - accuracy: 0.9920\n",
            "Epoch 21: val_accuracy did not improve from 0.99376\n",
            "296/296 [==============================] - 34s 114ms/step - loss: 0.0171 - accuracy: 0.9920 - val_loss: 0.0216 - val_accuracy: 0.9931 - lr: 1.0000e-04\n",
            "Epoch 22/100\n",
            "296/296 [==============================] - ETA: 0s - loss: 0.0140 - accuracy: 0.9929\n",
            "Epoch 22: val_accuracy improved from 0.99376 to 0.99515, saving model to Potato_MobileNetV2_model1_Based_Non_Augmented\n"
          ]
        },
        {
          "output_type": "stream",
          "name": "stderr",
          "text": [
            "WARNING:absl:Function `_wrapped_model` contains input name(s) mobilenetv2_1.00_224_input with unsupported characters which will be renamed to mobilenetv2_1_00_224_input in the SavedModel.\n",
            "WARNING:absl:Found untraced functions such as _jit_compiled_convolution_op, _jit_compiled_convolution_op, _jit_compiled_convolution_op, _jit_compiled_convolution_op, _jit_compiled_convolution_op while saving (showing 5 of 52). These functions will not be directly callable after loading.\n"
          ]
        },
        {
          "output_type": "stream",
          "name": "stdout",
          "text": [
            "\b\b\b\b\b\b\b\b\b\b\b\b\b\b\b\b\b\b\b\b\b\b\b\b\b\b\b\b\b\b\b\b\b\b\b\b\b\b\b\b\b\b\b\b\b\b\b\b\b\b\b\b\b\b\b\b\b\b\b\b\b\b\b\b\b\b\b\b\b\b\b\b\b\b\b\b\b\b\b\b\b\b\b\b\r296/296 [==============================] - 57s 193ms/step - loss: 0.0140 - accuracy: 0.9929 - val_loss: 0.0162 - val_accuracy: 0.9951 - lr: 1.0000e-04\n",
            "Epoch 23/100\n",
            "296/296 [==============================] - ETA: 0s - loss: 0.0120 - accuracy: 0.9944\n",
            "Epoch 23: val_accuracy did not improve from 0.99515\n",
            "296/296 [==============================] - 34s 114ms/step - loss: 0.0120 - accuracy: 0.9944 - val_loss: 0.0147 - val_accuracy: 0.9951 - lr: 1.0000e-04\n",
            "Epoch 24/100\n",
            "296/296 [==============================] - ETA: 0s - loss: 0.0176 - accuracy: 0.9942\n",
            "Epoch 24: val_accuracy did not improve from 0.99515\n",
            "296/296 [==============================] - 34s 114ms/step - loss: 0.0176 - accuracy: 0.9942 - val_loss: 0.0206 - val_accuracy: 0.9951 - lr: 1.0000e-04\n",
            "Epoch 25/100\n",
            "296/296 [==============================] - ETA: 0s - loss: 0.0131 - accuracy: 0.9954\n",
            "Epoch 25: val_accuracy did not improve from 0.99515\n",
            "296/296 [==============================] - 33s 111ms/step - loss: 0.0131 - accuracy: 0.9954 - val_loss: 0.0214 - val_accuracy: 0.9938 - lr: 1.0000e-04\n",
            "Epoch 26/100\n",
            "296/296 [==============================] - ETA: 0s - loss: 0.0100 - accuracy: 0.9956\n",
            "Epoch 26: val_accuracy did not improve from 0.99515\n",
            "296/296 [==============================] - 34s 114ms/step - loss: 0.0100 - accuracy: 0.9956 - val_loss: 0.0167 - val_accuracy: 0.9945 - lr: 1.0000e-04\n",
            "Epoch 27/100\n",
            "296/296 [==============================] - ETA: 0s - loss: 0.0084 - accuracy: 0.9971\n",
            "Epoch 27: val_accuracy did not improve from 0.99515\n",
            "296/296 [==============================] - 35s 117ms/step - loss: 0.0084 - accuracy: 0.9971 - val_loss: 0.0233 - val_accuracy: 0.9938 - lr: 1.0000e-04\n",
            "Epoch 28/100\n",
            "296/296 [==============================] - ETA: 0s - loss: 0.0074 - accuracy: 0.9968\n",
            "Epoch 28: val_accuracy did not improve from 0.99515\n",
            "\n",
            "Epoch 28: ReduceLROnPlateau reducing learning rate to 1.0000000474974514e-05.\n",
            "296/296 [==============================] - 34s 116ms/step - loss: 0.0074 - accuracy: 0.9968 - val_loss: 0.0216 - val_accuracy: 0.9951 - lr: 1.0000e-04\n",
            "Epoch 29/100\n",
            "296/296 [==============================] - ETA: 0s - loss: 0.0054 - accuracy: 0.9980\n",
            "Epoch 29: val_accuracy did not improve from 0.99515\n",
            "296/296 [==============================] - 33s 111ms/step - loss: 0.0054 - accuracy: 0.9980 - val_loss: 0.0204 - val_accuracy: 0.9945 - lr: 1.0000e-05\n",
            "Epoch 30/100\n",
            "295/296 [============================>.] - ETA: 0s - loss: 0.0043 - accuracy: 0.9988\n",
            "Epoch 30: val_accuracy did not improve from 0.99515\n",
            "296/296 [==============================] - 34s 114ms/step - loss: 0.0043 - accuracy: 0.9988 - val_loss: 0.0203 - val_accuracy: 0.9945 - lr: 1.0000e-05\n",
            "Epoch 31/100\n",
            "296/296 [==============================] - ETA: 0s - loss: 0.0042 - accuracy: 0.9990\n",
            "Epoch 31: val_accuracy did not improve from 0.99515\n",
            "296/296 [==============================] - 34s 116ms/step - loss: 0.0042 - accuracy: 0.9990 - val_loss: 0.0200 - val_accuracy: 0.9945 - lr: 1.0000e-05\n",
            "Epoch 32/100\n",
            "296/296 [==============================] - ETA: 0s - loss: 0.0032 - accuracy: 0.9988\n",
            "Epoch 32: val_accuracy did not improve from 0.99515\n",
            "296/296 [==============================] - 33s 111ms/step - loss: 0.0032 - accuracy: 0.9988 - val_loss: 0.0210 - val_accuracy: 0.9945 - lr: 1.0000e-05\n",
            "Epoch 33/100\n",
            "296/296 [==============================] - ETA: 0s - loss: 0.0035 - accuracy: 0.9985\n",
            "Epoch 33: val_accuracy did not improve from 0.99515\n",
            "\n",
            "Epoch 33: ReduceLROnPlateau reducing learning rate to 1.0000000656873453e-06.\n",
            "296/296 [==============================] - 34s 114ms/step - loss: 0.0035 - accuracy: 0.9985 - val_loss: 0.0215 - val_accuracy: 0.9938 - lr: 1.0000e-05\n",
            "Epoch 34/100\n",
            "296/296 [==============================] - ETA: 0s - loss: 0.0032 - accuracy: 0.9988\n",
            "Epoch 34: val_accuracy did not improve from 0.99515\n",
            "296/296 [==============================] - 34s 114ms/step - loss: 0.0032 - accuracy: 0.9988 - val_loss: 0.0217 - val_accuracy: 0.9938 - lr: 1.0000e-06\n",
            "Epoch 35/100\n",
            "296/296 [==============================] - ETA: 0s - loss: 0.0029 - accuracy: 0.9990\n",
            "Epoch 35: val_accuracy did not improve from 0.99515\n",
            "296/296 [==============================] - 33s 110ms/step - loss: 0.0029 - accuracy: 0.9990 - val_loss: 0.0218 - val_accuracy: 0.9938 - lr: 1.0000e-06\n",
            "Epoch 36/100\n",
            "296/296 [==============================] - ETA: 0s - loss: 0.0022 - accuracy: 0.9993\n",
            "Epoch 36: val_accuracy did not improve from 0.99515\n",
            "296/296 [==============================] - 34s 114ms/step - loss: 0.0022 - accuracy: 0.9993 - val_loss: 0.0219 - val_accuracy: 0.9938 - lr: 1.0000e-06\n",
            "Epoch 37/100\n",
            "296/296 [==============================] - ETA: 0s - loss: 0.0031 - accuracy: 0.9986\n",
            "Epoch 37: val_accuracy did not improve from 0.99515\n",
            "296/296 [==============================] - 34s 113ms/step - loss: 0.0031 - accuracy: 0.9986 - val_loss: 0.0220 - val_accuracy: 0.9938 - lr: 1.0000e-06\n",
            "Epoch 38/100\n",
            "296/296 [==============================] - ETA: 0s - loss: 0.0027 - accuracy: 0.9990\n",
            "Epoch 38: val_accuracy did not improve from 0.99515\n",
            "\n",
            "Epoch 38: ReduceLROnPlateau reducing learning rate to 1.0000001111620805e-07.\n",
            "296/296 [==============================] - 33s 111ms/step - loss: 0.0027 - accuracy: 0.9990 - val_loss: 0.0221 - val_accuracy: 0.9938 - lr: 1.0000e-06\n",
            "Epoch 39/100\n",
            "296/296 [==============================] - ETA: 0s - loss: 0.0041 - accuracy: 0.9986\n",
            "Epoch 39: val_accuracy did not improve from 0.99515\n",
            "296/296 [==============================] - 33s 113ms/step - loss: 0.0041 - accuracy: 0.9986 - val_loss: 0.0222 - val_accuracy: 0.9938 - lr: 1.0000e-07\n",
            "Epoch 40/100\n",
            "296/296 [==============================] - ETA: 0s - loss: 0.0051 - accuracy: 0.9988\n",
            "Epoch 40: val_accuracy did not improve from 0.99515\n",
            "296/296 [==============================] - 34s 113ms/step - loss: 0.0051 - accuracy: 0.9988 - val_loss: 0.0222 - val_accuracy: 0.9938 - lr: 1.0000e-07\n",
            "Epoch 41/100\n",
            "296/296 [==============================] - ETA: 0s - loss: 0.0021 - accuracy: 0.9993\n",
            "Epoch 41: val_accuracy did not improve from 0.99515\n",
            "296/296 [==============================] - 33s 112ms/step - loss: 0.0021 - accuracy: 0.9993 - val_loss: 0.0223 - val_accuracy: 0.9938 - lr: 1.0000e-07\n",
            "Epoch 42/100\n",
            "296/296 [==============================] - ETA: 0s - loss: 0.0023 - accuracy: 0.9992\n",
            "Epoch 42: val_accuracy did not improve from 0.99515\n",
            "Restoring model weights from the end of the best epoch: 22.\n",
            "296/296 [==============================] - 34s 113ms/step - loss: 0.0023 - accuracy: 0.9992 - val_loss: 0.0224 - val_accuracy: 0.9938 - lr: 1.0000e-07\n",
            "Epoch 42: early stopping\n"
          ]
        }
      ]
    },
    {
      "cell_type": "code",
      "source": [
        "#-----------------------------------------------------------\n",
        "# Retrieve a list of list results on training and test data\n",
        "# sets for each training epoch\n",
        "#-----------------------------------------------------------\n",
        "acc      = history_MobileNetV2_model_1.history['accuracy' ]\n",
        "val_acc  = history_MobileNetV2_model_1.history['val_accuracy' ]\n",
        "loss     = history_MobileNetV2_model_1.history['loss' ]\n",
        "val_loss = history_MobileNetV2_model_1.history['val_loss' ]\n",
        "\n",
        "epochs   = range(len(acc)) # Get number of epochs\n",
        "\n",
        "#------------------------------------------------\n",
        "# Plot training and validation accuracy per epoch\n",
        "#------------------------------------------------\n",
        "plt.plot  (epochs, acc )\n",
        "plt.plot  (epochs, val_acc )\n",
        "plt.title ('Training and validation accuracy MobileNetV2 Model 1')\n",
        "plt.legend(['train', 'val'], loc='upper left')\n",
        "plt.figure()\n",
        "\n",
        "#------------------------------------------------\n",
        "# Plot training and validation loss per epoch\n",
        "#------------------------------------------------\n",
        "plt.plot  (epochs, loss)\n",
        "plt.plot  (epochs, val_loss)\n",
        "plt.title ('Training and validation loss MobileNetV2 Model 1')\n",
        "plt.legend(['train', 'val'], loc='upper left')"
      ],
      "metadata": {
        "colab": {
          "base_uri": "https://localhost:8080/",
          "height": 904
        },
        "id": "geslI_r9h2BW",
        "outputId": "58ffdd06-b65b-43f5-e1e1-6092458b5983"
      },
      "execution_count": 13,
      "outputs": [
        {
          "output_type": "execute_result",
          "data": {
            "text/plain": [
              "<matplotlib.legend.Legend at 0x7f9de41b3160>"
            ]
          },
          "metadata": {},
          "execution_count": 13
        },
        {
          "output_type": "display_data",
          "data": {
            "text/plain": [
              "<Figure size 640x480 with 1 Axes>"
            ],
            "image/png": "[encoded data removed]"
          },
          "metadata": {}
        },
        {
          "output_type": "display_data",
          "data": {
            "text/plain": [
              "<Figure size 640x480 with 1 Axes>"
            ],
            "image/png": "[encoded data removed]"
          },
          "metadata": {}
        }
      ]
    },
    {
      "cell_type": "code",
      "source": [
        "!zip -r /content/Potato_MobileNetV2_model1_Based_Non_Augmented.zip /content/Potato_MobileNetV2_model1_Based_Non_Augmented"
      ],
      "metadata": {
        "colab": {
          "base_uri": "https://localhost:8080/"
        },
        "id": "UVKk4t1xh5im",
        "outputId": "943de139-a82a-4f4e-80b5-ac5de7fa74a7"
      },
      "execution_count": 14,
      "outputs": [
        {
          "output_type": "stream",
          "name": "stdout",
          "text": [
            "  adding: content/Potato_MobileNetV2_model1_Based_Non_Augmented/ (stored 0%)\n",
            "  adding: content/Potato_MobileNetV2_model1_Based_Non_Augmented/keras_metadata.pb (deflated 96%)\n",
            "  adding: content/Potato_MobileNetV2_model1_Based_Non_Augmented/fingerprint.pb (stored 0%)\n",
            "  adding: content/Potato_MobileNetV2_model1_Based_Non_Augmented/variables/ (stored 0%)\n",
            "  adding: content/Potato_MobileNetV2_model1_Based_Non_Augmented/variables/variables.data-00000-of-00001 (deflated 10%)\n",
            "  adding: content/Potato_MobileNetV2_model1_Based_Non_Augmented/variables/variables.index (deflated 76%)\n",
            "  adding: content/Potato_MobileNetV2_model1_Based_Non_Augmented/assets/ (stored 0%)\n",
            "  adding: content/Potato_MobileNetV2_model1_Based_Non_Augmented/saved_model.pb (deflated 91%)\n"
          ]
        }
      ]
    },
    {
      "cell_type": "markdown",
      "source": [],
      "metadata": {
        "id": "o5w4S_f_h5Ms"
      }
    },
    {
      "cell_type": "code",
      "source": [
        "# Difine the callbacks\n",
        "# Save the best model\n",
        "checkpoint_callback = ModelCheckpoint(filepath=\"Potato_MobileNetV2_model2_Based_Non_Augmented\", save_best_only=True, monitor=\"val_accuracy\", mode=\"max\", verbose=1)\n",
        "\n",
        "# Early stopping\n",
        "early_stopping_callback = EarlyStopping(monitor=\"val_accuracy\", mode=\"max\", patience=20, verbose=1, restore_best_weights=True)\n",
        "\n",
        "# Reduce learning rate\n",
        "reduce_lr_callback = ReduceLROnPlateau(monitor=\"val_loss\", factor=0.1, patience=5, verbose=1, mode=\"min\", min_delta=0.0001, cooldown=0, min_lr=0)\n",
        "\n",
        "# Callbacks list\n",
        "callbacks=[checkpoint_callback, early_stopping_callback, reduce_lr_callback]"
      ],
      "metadata": {
        "id": "akb-jygrh6r0"
      },
      "execution_count": 15,
      "outputs": []
    },
    {
      "cell_type": "code",
      "source": [
        "# Define DIY Model\n",
        "MobileNetV2_model_2 = tf.keras.models.Sequential([\n",
        "    # MobileNetV2 Layer\n",
        "    MobileNetV2(include_top=False,weights='imagenet',input_shape=(224, 224, 3)),\n",
        "    # Global Average Pooling Layer\n",
        "    tf.keras.layers.GlobalAveragePooling2D(),\n",
        "    # Drop Out Layer\n",
        "    tf.keras.layers.Dropout(0.2),\n",
        "    # 256 neuron hidden layer\n",
        "    tf.keras.layers.Dense(256, activation='relu'),\n",
        "    # Output\n",
        "    tf.keras.layers.Dense(3, activation='softmax') \n",
        "  ])\n",
        "\n",
        "\n",
        "# Compile Model\n",
        "MobileNetV2_model_2.compile(loss='categorical_crossentropy',optimizer=tf.keras.optimizers.Adam(), metrics=['accuracy']) \n",
        "\n",
        "# Model Summary\n",
        "MobileNetV2_model_2.summary()"
      ],
      "metadata": {
        "colab": {
          "base_uri": "https://localhost:8080/"
        },
        "id": "MEFoU44kh60z",
        "outputId": "c47b9ea5-c158-441e-b5af-faf1d00a3414"
      },
      "execution_count": 16,
      "outputs": [
        {
          "output_type": "stream",
          "name": "stdout",
          "text": [
            "Model: \"sequential_1\"\n",
            "_________________________________________________________________\n",
            " Layer (type)                Output Shape              Param #   \n",
            "=================================================================\n",
            " mobilenetv2_1.00_224 (Funct  (None, 7, 7, 1280)       2257984   \n",
            " ional)                                                          \n",
            "                                                                 \n",
            " global_average_pooling2d (G  (None, 1280)             0         \n",
            " lobalAveragePooling2D)                                          \n",
            "                                                                 \n",
            " dropout_1 (Dropout)         (None, 1280)              0         \n",
            "                                                                 \n",
            " dense_2 (Dense)             (None, 256)               327936    \n",
            "                                                                 \n",
            " dense_3 (Dense)             (None, 3)                 771       \n",
            "                                                                 \n",
            "=================================================================\n",
            "Total params: 2,586,691\n",
            "Trainable params: 2,552,579\n",
            "Non-trainable params: 34,112\n",
            "_________________________________________________________________\n"
          ]
        }
      ]
    },
    {
      "cell_type": "code",
      "source": [
        "# Define the number of epochs\n",
        "num_epochs = 100\n",
        "\n",
        "# Train the model\n",
        "history_MobileNetV2_model_2 = MobileNetV2_model_2.fit(train_generator, epochs=num_epochs, validation_data=validation_generator, callbacks=callbacks)"
      ],
      "metadata": {
        "colab": {
          "base_uri": "https://localhost:8080/"
        },
        "id": "soAKwGSkh672",
        "outputId": "49132141-86b7-43c0-b40d-116fa2d77b19"
      },
      "execution_count": 17,
      "outputs": [
        {
          "output_type": "stream",
          "name": "stdout",
          "text": [
            "Epoch 1/100\n",
            "296/296 [==============================] - ETA: 0s - loss: 0.1872 - accuracy: 0.9380\n",
            "Epoch 1: val_accuracy improved from -inf to 0.31623, saving model to Potato_MobileNetV2_model2_Based_Non_Augmented\n"
          ]
        },
        {
          "output_type": "stream",
          "name": "stderr",
          "text": [
            "WARNING:absl:Function `_wrapped_model` contains input name(s) mobilenetv2_1.00_224_input with unsupported characters which will be renamed to mobilenetv2_1_00_224_input in the SavedModel.\n",
            "WARNING:absl:Found untraced functions such as _jit_compiled_convolution_op, _jit_compiled_convolution_op, _jit_compiled_convolution_op, _jit_compiled_convolution_op, _jit_compiled_convolution_op while saving (showing 5 of 52). These functions will not be directly callable after loading.\n"
          ]
        },
        {
          "output_type": "stream",
          "name": "stdout",
          "text": [
            "\b\b\b\b\b\b\b\b\b\b\b\b\b\b\b\b\b\b\b\b\b\b\b\b\b\b\b\b\b\b\b\b\b\b\b\b\b\b\b\b\b\b\b\b\b\b\b\b\b\b\b\b\b\b\b\b\b\b\b\b\b\b\b\b\b\b\b\b\b\b\b\b\b\b\b\b\b\b\b\b\b\b\b\b\r296/296 [==============================] - 88s 203ms/step - loss: 0.1872 - accuracy: 0.9380 - val_loss: 25.2440 - val_accuracy: 0.3162 - lr: 0.0010\n",
            "Epoch 2/100\n",
            "296/296 [==============================] - ETA: 0s - loss: 0.0841 - accuracy: 0.9689\n",
            "Epoch 2: val_accuracy improved from 0.31623 to 0.50069, saving model to Potato_MobileNetV2_model2_Based_Non_Augmented\n"
          ]
        },
        {
          "output_type": "stream",
          "name": "stderr",
          "text": [
            "WARNING:absl:Function `_wrapped_model` contains input name(s) mobilenetv2_1.00_224_input with unsupported characters which will be renamed to mobilenetv2_1_00_224_input in the SavedModel.\n",
            "WARNING:absl:Found untraced functions such as _jit_compiled_convolution_op, _jit_compiled_convolution_op, _jit_compiled_convolution_op, _jit_compiled_convolution_op, _jit_compiled_convolution_op while saving (showing 5 of 52). These functions will not be directly callable after loading.\n"
          ]
        },
        {
          "output_type": "stream",
          "name": "stdout",
          "text": [
            "\b\b\b\b\b\b\b\b\b\b\b\b\b\b\b\b\b\b\b\b\b\b\b\b\b\b\b\b\b\b\b\b\b\b\b\b\b\b\b\b\b\b\b\b\b\b\b\b\b\b\b\b\b\b\b\b\b\b\b\b\b\b\b\b\b\b\b\b\b\b\b\b\b\b\b\b\b\b\b\b\b\b\b\b\r296/296 [==============================] - 60s 201ms/step - loss: 0.0841 - accuracy: 0.9689 - val_loss: 4.4233 - val_accuracy: 0.5007 - lr: 0.0010\n",
            "Epoch 3/100\n",
            "296/296 [==============================] - ETA: 0s - loss: 0.0799 - accuracy: 0.9717\n",
            "Epoch 3: val_accuracy improved from 0.50069 to 0.50624, saving model to Potato_MobileNetV2_model2_Based_Non_Augmented\n"
          ]
        },
        {
          "output_type": "stream",
          "name": "stderr",
          "text": [
            "WARNING:absl:Function `_wrapped_model` contains input name(s) mobilenetv2_1.00_224_input with unsupported characters which will be renamed to mobilenetv2_1_00_224_input in the SavedModel.\n",
            "WARNING:absl:Found untraced functions such as _jit_compiled_convolution_op, _jit_compiled_convolution_op, _jit_compiled_convolution_op, _jit_compiled_convolution_op, _jit_compiled_convolution_op while saving (showing 5 of 52). These functions will not be directly callable after loading.\n"
          ]
        },
        {
          "output_type": "stream",
          "name": "stdout",
          "text": [
            "\b\b\b\b\b\b\b\b\b\b\b\b\b\b\b\b\b\b\b\b\b\b\b\b\b\b\b\b\b\b\b\b\b\b\b\b\b\b\b\b\b\b\b\b\b\b\b\b\b\b\b\b\b\b\b\b\b\b\b\b\b\b\b\b\b\b\b\b\b\b\b\b\b\b\b\b\b\b\b\b\b\b\b\b\r296/296 [==============================] - 59s 199ms/step - loss: 0.0799 - accuracy: 0.9717 - val_loss: 7.5091 - val_accuracy: 0.5062 - lr: 0.0010\n",
            "Epoch 4/100\n",
            "296/296 [==============================] - ETA: 0s - loss: 0.0913 - accuracy: 0.9675\n",
            "Epoch 4: val_accuracy improved from 0.50624 to 0.84258, saving model to Potato_MobileNetV2_model2_Based_Non_Augmented\n"
          ]
        },
        {
          "output_type": "stream",
          "name": "stderr",
          "text": [
            "WARNING:absl:Function `_wrapped_model` contains input name(s) mobilenetv2_1.00_224_input with unsupported characters which will be renamed to mobilenetv2_1_00_224_input in the SavedModel.\n",
            "WARNING:absl:Found untraced functions such as _jit_compiled_convolution_op, _jit_compiled_convolution_op, _jit_compiled_convolution_op, _jit_compiled_convolution_op, _jit_compiled_convolution_op while saving (showing 5 of 52). These functions will not be directly callable after loading.\n"
          ]
        },
        {
          "output_type": "stream",
          "name": "stdout",
          "text": [
            "\b\b\b\b\b\b\b\b\b\b\b\b\b\b\b\b\b\b\b\b\b\b\b\b\b\b\b\b\b\b\b\b\b\b\b\b\b\b\b\b\b\b\b\b\b\b\b\b\b\b\b\b\b\b\b\b\b\b\b\b\b\b\b\b\b\b\b\b\b\b\b\b\b\b\b\b\b\b\b\b\b\b\b\b\r296/296 [==============================] - 59s 201ms/step - loss: 0.0913 - accuracy: 0.9675 - val_loss: 1.7251 - val_accuracy: 0.8426 - lr: 0.0010\n",
            "Epoch 5/100\n",
            "296/296 [==============================] - ETA: 0s - loss: 0.0539 - accuracy: 0.9792\n",
            "Epoch 5: val_accuracy improved from 0.84258 to 0.86338, saving model to Potato_MobileNetV2_model2_Based_Non_Augmented\n"
          ]
        },
        {
          "output_type": "stream",
          "name": "stderr",
          "text": [
            "WARNING:absl:Function `_wrapped_model` contains input name(s) mobilenetv2_1.00_224_input with unsupported characters which will be renamed to mobilenetv2_1_00_224_input in the SavedModel.\n",
            "WARNING:absl:Found untraced functions such as _jit_compiled_convolution_op, _jit_compiled_convolution_op, _jit_compiled_convolution_op, _jit_compiled_convolution_op, _jit_compiled_convolution_op while saving (showing 5 of 52). These functions will not be directly callable after loading.\n"
          ]
        },
        {
          "output_type": "stream",
          "name": "stdout",
          "text": [
            "\b\b\b\b\b\b\b\b\b\b\b\b\b\b\b\b\b\b\b\b\b\b\b\b\b\b\b\b\b\b\b\b\b\b\b\b\b\b\b\b\b\b\b\b\b\b\b\b\b\b\b\b\b\b\b\b\b\b\b\b\b\b\b\b\b\b\b\b\b\b\b\b\b\b\b\b\b\b\b\b\b\b\b\b\r296/296 [==============================] - 58s 194ms/step - loss: 0.0539 - accuracy: 0.9792 - val_loss: 1.0548 - val_accuracy: 0.8634 - lr: 0.0010\n",
            "Epoch 6/100\n",
            "296/296 [==============================] - ETA: 0s - loss: 0.0532 - accuracy: 0.9792\n",
            "Epoch 6: val_accuracy did not improve from 0.86338\n",
            "296/296 [==============================] - 34s 114ms/step - loss: 0.0532 - accuracy: 0.9792 - val_loss: 1.8859 - val_accuracy: 0.7053 - lr: 0.0010\n",
            "Epoch 7/100\n",
            "296/296 [==============================] - ETA: 0s - loss: 0.0547 - accuracy: 0.9793\n",
            "Epoch 7: val_accuracy improved from 0.86338 to 0.91123, saving model to Potato_MobileNetV2_model2_Based_Non_Augmented\n"
          ]
        },
        {
          "output_type": "stream",
          "name": "stderr",
          "text": [
            "WARNING:absl:Function `_wrapped_model` contains input name(s) mobilenetv2_1.00_224_input with unsupported characters which will be renamed to mobilenetv2_1_00_224_input in the SavedModel.\n",
            "WARNING:absl:Found untraced functions such as _jit_compiled_convolution_op, _jit_compiled_convolution_op, _jit_compiled_convolution_op, _jit_compiled_convolution_op, _jit_compiled_convolution_op while saving (showing 5 of 52). These functions will not be directly callable after loading.\n"
          ]
        },
        {
          "output_type": "stream",
          "name": "stdout",
          "text": [
            "\b\b\b\b\b\b\b\b\b\b\b\b\b\b\b\b\b\b\b\b\b\b\b\b\b\b\b\b\b\b\b\b\b\b\b\b\b\b\b\b\b\b\b\b\b\b\b\b\b\b\b\b\b\b\b\b\b\b\b\b\b\b\b\b\b\b\b\b\b\b\b\b\b\b\b\b\b\b\b\b\b\b\b\b\r296/296 [==============================] - 58s 197ms/step - loss: 0.0547 - accuracy: 0.9793 - val_loss: 0.5705 - val_accuracy: 0.9112 - lr: 0.0010\n",
            "Epoch 8/100\n",
            "296/296 [==============================] - ETA: 0s - loss: 0.0484 - accuracy: 0.9815\n",
            "Epoch 8: val_accuracy did not improve from 0.91123\n",
            "296/296 [==============================] - 35s 116ms/step - loss: 0.0484 - accuracy: 0.9815 - val_loss: 0.4106 - val_accuracy: 0.8890 - lr: 0.0010\n",
            "Epoch 9/100\n",
            "296/296 [==============================] - ETA: 0s - loss: 0.0466 - accuracy: 0.9802\n",
            "Epoch 9: val_accuracy improved from 0.91123 to 0.97365, saving model to Potato_MobileNetV2_model2_Based_Non_Augmented\n"
          ]
        },
        {
          "output_type": "stream",
          "name": "stderr",
          "text": [
            "WARNING:absl:Function `_wrapped_model` contains input name(s) mobilenetv2_1.00_224_input with unsupported characters which will be renamed to mobilenetv2_1_00_224_input in the SavedModel.\n",
            "WARNING:absl:Found untraced functions such as _jit_compiled_convolution_op, _jit_compiled_convolution_op, _jit_compiled_convolution_op, _jit_compiled_convolution_op, _jit_compiled_convolution_op while saving (showing 5 of 52). These functions will not be directly callable after loading.\n"
          ]
        },
        {
          "output_type": "stream",
          "name": "stdout",
          "text": [
            "\b\b\b\b\b\b\b\b\b\b\b\b\b\b\b\b\b\b\b\b\b\b\b\b\b\b\b\b\b\b\b\b\b\b\b\b\b\b\b\b\b\b\b\b\b\b\b\b\b\b\b\b\b\b\b\b\b\b\b\b\b\b\b\b\b\b\b\b\b\b\b\b\b\b\b\b\b\b\b\b\b\b\b\b\r296/296 [==============================] - 57s 194ms/step - loss: 0.0466 - accuracy: 0.9802 - val_loss: 0.1305 - val_accuracy: 0.9736 - lr: 0.0010\n",
            "Epoch 10/100\n",
            "296/296 [==============================] - ETA: 0s - loss: 0.0401 - accuracy: 0.9839\n",
            "Epoch 10: val_accuracy did not improve from 0.97365\n",
            "296/296 [==============================] - 34s 114ms/step - loss: 0.0401 - accuracy: 0.9839 - val_loss: 4.5255 - val_accuracy: 0.5160 - lr: 0.0010\n",
            "Epoch 11/100\n",
            "296/296 [==============================] - ETA: 0s - loss: 0.0656 - accuracy: 0.9746\n",
            "Epoch 11: val_accuracy did not improve from 0.97365\n",
            "296/296 [==============================] - 34s 114ms/step - loss: 0.0656 - accuracy: 0.9746 - val_loss: 0.8049 - val_accuracy: 0.8974 - lr: 0.0010\n",
            "Epoch 12/100\n",
            "296/296 [==============================] - ETA: 0s - loss: 0.0371 - accuracy: 0.9839\n",
            "Epoch 12: val_accuracy improved from 0.97365 to 0.98336, saving model to Potato_MobileNetV2_model2_Based_Non_Augmented\n"
          ]
        },
        {
          "output_type": "stream",
          "name": "stderr",
          "text": [
            "WARNING:absl:Function `_wrapped_model` contains input name(s) mobilenetv2_1.00_224_input with unsupported characters which will be renamed to mobilenetv2_1_00_224_input in the SavedModel.\n",
            "WARNING:absl:Found untraced functions such as _jit_compiled_convolution_op, _jit_compiled_convolution_op, _jit_compiled_convolution_op, _jit_compiled_convolution_op, _jit_compiled_convolution_op while saving (showing 5 of 52). These functions will not be directly callable after loading.\n"
          ]
        },
        {
          "output_type": "stream",
          "name": "stdout",
          "text": [
            "\b\b\b\b\b\b\b\b\b\b\b\b\b\b\b\b\b\b\b\b\b\b\b\b\b\b\b\b\b\b\b\b\b\b\b\b\b\b\b\b\b\b\b\b\b\b\b\b\b\b\b\b\b\b\b\b\b\b\b\b\b\b\b\b\b\b\b\b\b\b\b\b\b\b\b\b\b\b\b\b\b\b\b\b\r296/296 [==============================] - 58s 197ms/step - loss: 0.0371 - accuracy: 0.9839 - val_loss: 0.1166 - val_accuracy: 0.9834 - lr: 0.0010\n",
            "Epoch 13/100\n",
            "296/296 [==============================] - ETA: 0s - loss: 0.0302 - accuracy: 0.9849\n",
            "Epoch 13: val_accuracy did not improve from 0.98336\n",
            "296/296 [==============================] - 34s 116ms/step - loss: 0.0302 - accuracy: 0.9849 - val_loss: 5.7468 - val_accuracy: 0.5270 - lr: 0.0010\n",
            "Epoch 14/100\n",
            "296/296 [==============================] - ETA: 0s - loss: 0.0471 - accuracy: 0.9861\n",
            "Epoch 14: val_accuracy did not improve from 0.98336\n",
            "296/296 [==============================] - 34s 114ms/step - loss: 0.0471 - accuracy: 0.9861 - val_loss: 1.0632 - val_accuracy: 0.8377 - lr: 0.0010\n",
            "Epoch 15/100\n",
            "296/296 [==============================] - ETA: 0s - loss: 0.0342 - accuracy: 0.9856\n",
            "Epoch 15: val_accuracy did not improve from 0.98336\n",
            "296/296 [==============================] - 33s 112ms/step - loss: 0.0342 - accuracy: 0.9856 - val_loss: 1.4226 - val_accuracy: 0.7247 - lr: 0.0010\n",
            "Epoch 16/100\n",
            "296/296 [==============================] - ETA: 0s - loss: 0.0438 - accuracy: 0.9853\n",
            "Epoch 16: val_accuracy did not improve from 0.98336\n",
            "296/296 [==============================] - 33s 112ms/step - loss: 0.0438 - accuracy: 0.9853 - val_loss: 0.0840 - val_accuracy: 0.9785 - lr: 0.0010\n",
            "Epoch 17/100\n",
            "296/296 [==============================] - ETA: 0s - loss: 0.0375 - accuracy: 0.9876\n",
            "Epoch 17: val_accuracy did not improve from 0.98336\n",
            "296/296 [==============================] - 34s 114ms/step - loss: 0.0375 - accuracy: 0.9876 - val_loss: 3.3726 - val_accuracy: 0.6110 - lr: 0.0010\n",
            "Epoch 18/100\n",
            "296/296 [==============================] - ETA: 0s - loss: 0.0559 - accuracy: 0.9797\n",
            "Epoch 18: val_accuracy did not improve from 0.98336\n",
            "296/296 [==============================] - 34s 115ms/step - loss: 0.0559 - accuracy: 0.9797 - val_loss: 0.7704 - val_accuracy: 0.8821 - lr: 0.0010\n",
            "Epoch 19/100\n",
            "296/296 [==============================] - ETA: 0s - loss: 0.0464 - accuracy: 0.9827\n",
            "Epoch 19: val_accuracy did not improve from 0.98336\n",
            "296/296 [==============================] - 34s 114ms/step - loss: 0.0464 - accuracy: 0.9827 - val_loss: 6.7962 - val_accuracy: 0.6741 - lr: 0.0010\n",
            "Epoch 20/100\n",
            "296/296 [==============================] - ETA: 0s - loss: 0.0493 - accuracy: 0.9836\n",
            "Epoch 20: val_accuracy did not improve from 0.98336\n",
            "296/296 [==============================] - 34s 115ms/step - loss: 0.0493 - accuracy: 0.9836 - val_loss: 0.4063 - val_accuracy: 0.9487 - lr: 0.0010\n",
            "Epoch 21/100\n",
            "296/296 [==============================] - ETA: 0s - loss: 0.0461 - accuracy: 0.9817\n",
            "Epoch 21: val_accuracy did not improve from 0.98336\n",
            "\n",
            "Epoch 21: ReduceLROnPlateau reducing learning rate to 0.00010000000474974513.\n",
            "296/296 [==============================] - 33s 113ms/step - loss: 0.0461 - accuracy: 0.9817 - val_loss: 2.9471 - val_accuracy: 0.7503 - lr: 0.0010\n",
            "Epoch 22/100\n",
            "296/296 [==============================] - ETA: 0s - loss: 0.0224 - accuracy: 0.9902\n",
            "Epoch 22: val_accuracy did not improve from 0.98336\n",
            "296/296 [==============================] - 34s 115ms/step - loss: 0.0224 - accuracy: 0.9902 - val_loss: 0.5326 - val_accuracy: 0.9022 - lr: 1.0000e-04\n",
            "Epoch 23/100\n",
            "296/296 [==============================] - ETA: 0s - loss: 0.0196 - accuracy: 0.9915\n",
            "Epoch 23: val_accuracy did not improve from 0.98336\n",
            "296/296 [==============================] - 34s 114ms/step - loss: 0.0196 - accuracy: 0.9915 - val_loss: 0.1064 - val_accuracy: 0.9730 - lr: 1.0000e-04\n",
            "Epoch 24/100\n",
            "296/296 [==============================] - ETA: 0s - loss: 0.0185 - accuracy: 0.9924\n",
            "Epoch 24: val_accuracy improved from 0.98336 to 0.98752, saving model to Potato_MobileNetV2_model2_Based_Non_Augmented\n"
          ]
        },
        {
          "output_type": "stream",
          "name": "stderr",
          "text": [
            "WARNING:absl:Function `_wrapped_model` contains input name(s) mobilenetv2_1.00_224_input with unsupported characters which will be renamed to mobilenetv2_1_00_224_input in the SavedModel.\n",
            "WARNING:absl:Found untraced functions such as _jit_compiled_convolution_op, _jit_compiled_convolution_op, _jit_compiled_convolution_op, _jit_compiled_convolution_op, _jit_compiled_convolution_op while saving (showing 5 of 52). These functions will not be directly callable after loading.\n"
          ]
        },
        {
          "output_type": "stream",
          "name": "stdout",
          "text": [
            "\b\b\b\b\b\b\b\b\b\b\b\b\b\b\b\b\b\b\b\b\b\b\b\b\b\b\b\b\b\b\b\b\b\b\b\b\b\b\b\b\b\b\b\b\b\b\b\b\b\b\b\b\b\b\b\b\b\b\b\b\b\b\b\b\b\b\b\b\b\b\b\b\b\b\b\b\b\b\b\b\b\b\b\b\r296/296 [==============================] - 58s 196ms/step - loss: 0.0185 - accuracy: 0.9924 - val_loss: 0.0578 - val_accuracy: 0.9875 - lr: 1.0000e-04\n",
            "Epoch 25/100\n",
            "296/296 [==============================] - ETA: 0s - loss: 0.0146 - accuracy: 0.9926\n",
            "Epoch 25: val_accuracy improved from 0.98752 to 0.99168, saving model to Potato_MobileNetV2_model2_Based_Non_Augmented\n"
          ]
        },
        {
          "output_type": "stream",
          "name": "stderr",
          "text": [
            "WARNING:absl:Function `_wrapped_model` contains input name(s) mobilenetv2_1.00_224_input with unsupported characters which will be renamed to mobilenetv2_1_00_224_input in the SavedModel.\n",
            "WARNING:absl:Found untraced functions such as _jit_compiled_convolution_op, _jit_compiled_convolution_op, _jit_compiled_convolution_op, _jit_compiled_convolution_op, _jit_compiled_convolution_op while saving (showing 5 of 52). These functions will not be directly callable after loading.\n"
          ]
        },
        {
          "output_type": "stream",
          "name": "stdout",
          "text": [
            "\b\b\b\b\b\b\b\b\b\b\b\b\b\b\b\b\b\b\b\b\b\b\b\b\b\b\b\b\b\b\b\b\b\b\b\b\b\b\b\b\b\b\b\b\b\b\b\b\b\b\b\b\b\b\b\b\b\b\b\b\b\b\b\b\b\b\b\b\b\b\b\b\b\b\b\b\b\b\b\b\b\b\b\b\r296/296 [==============================] - 59s 201ms/step - loss: 0.0146 - accuracy: 0.9926 - val_loss: 0.0386 - val_accuracy: 0.9917 - lr: 1.0000e-04\n",
            "Epoch 26/100\n",
            "296/296 [==============================] - ETA: 0s - loss: 0.0151 - accuracy: 0.9937\n",
            "Epoch 26: val_accuracy improved from 0.99168 to 0.99445, saving model to Potato_MobileNetV2_model2_Based_Non_Augmented\n"
          ]
        },
        {
          "output_type": "stream",
          "name": "stderr",
          "text": [
            "WARNING:absl:Function `_wrapped_model` contains input name(s) mobilenetv2_1.00_224_input with unsupported characters which will be renamed to mobilenetv2_1_00_224_input in the SavedModel.\n",
            "WARNING:absl:Found untraced functions such as _jit_compiled_convolution_op, _jit_compiled_convolution_op, _jit_compiled_convolution_op, _jit_compiled_convolution_op, _jit_compiled_convolution_op while saving (showing 5 of 52). These functions will not be directly callable after loading.\n"
          ]
        },
        {
          "output_type": "stream",
          "name": "stdout",
          "text": [
            "\b\b\b\b\b\b\b\b\b\b\b\b\b\b\b\b\b\b\b\b\b\b\b\b\b\b\b\b\b\b\b\b\b\b\b\b\b\b\b\b\b\b\b\b\b\b\b\b\b\b\b\b\b\b\b\b\b\b\b\b\b\b\b\b\b\b\b\b\b\b\b\b\b\b\b\b\b\b\b\b\b\b\b\b\r296/296 [==============================] - 59s 198ms/step - loss: 0.0151 - accuracy: 0.9937 - val_loss: 0.0265 - val_accuracy: 0.9945 - lr: 1.0000e-04\n",
            "Epoch 27/100\n",
            "296/296 [==============================] - ETA: 0s - loss: 0.0144 - accuracy: 0.9936\n",
            "Epoch 27: val_accuracy did not improve from 0.99445\n",
            "296/296 [==============================] - 34s 114ms/step - loss: 0.0144 - accuracy: 0.9936 - val_loss: 0.0258 - val_accuracy: 0.9945 - lr: 1.0000e-04\n",
            "Epoch 28/100\n",
            "296/296 [==============================] - ETA: 0s - loss: 0.0108 - accuracy: 0.9953\n",
            "Epoch 28: val_accuracy did not improve from 0.99445\n",
            "296/296 [==============================] - 33s 113ms/step - loss: 0.0108 - accuracy: 0.9953 - val_loss: 0.0258 - val_accuracy: 0.9945 - lr: 1.0000e-04\n",
            "Epoch 29/100\n",
            "296/296 [==============================] - ETA: 0s - loss: 0.0095 - accuracy: 0.9959\n",
            "Epoch 29: val_accuracy did not improve from 0.99445\n",
            "296/296 [==============================] - 34s 115ms/step - loss: 0.0095 - accuracy: 0.9959 - val_loss: 0.0271 - val_accuracy: 0.9945 - lr: 1.0000e-04\n",
            "Epoch 30/100\n",
            "296/296 [==============================] - ETA: 0s - loss: 0.0075 - accuracy: 0.9980\n",
            "Epoch 30: val_accuracy did not improve from 0.99445\n",
            "296/296 [==============================] - 34s 115ms/step - loss: 0.0075 - accuracy: 0.9980 - val_loss: 0.0290 - val_accuracy: 0.9945 - lr: 1.0000e-04\n",
            "Epoch 31/100\n",
            "296/296 [==============================] - ETA: 0s - loss: 0.0063 - accuracy: 0.9975\n",
            "Epoch 31: val_accuracy improved from 0.99445 to 0.99515, saving model to Potato_MobileNetV2_model2_Based_Non_Augmented\n"
          ]
        },
        {
          "output_type": "stream",
          "name": "stderr",
          "text": [
            "WARNING:absl:Function `_wrapped_model` contains input name(s) mobilenetv2_1.00_224_input with unsupported characters which will be renamed to mobilenetv2_1_00_224_input in the SavedModel.\n",
            "WARNING:absl:Found untraced functions such as _jit_compiled_convolution_op, _jit_compiled_convolution_op, _jit_compiled_convolution_op, _jit_compiled_convolution_op, _jit_compiled_convolution_op while saving (showing 5 of 52). These functions will not be directly callable after loading.\n"
          ]
        },
        {
          "output_type": "stream",
          "name": "stdout",
          "text": [
            "\b\b\b\b\b\b\b\b\b\b\b\b\b\b\b\b\b\b\b\b\b\b\b\b\b\b\b\b\b\b\b\b\b\b\b\b\b\b\b\b\b\b\b\b\b\b\b\b\b\b\b\b\b\b\b\b\b\b\b\b\b\b\b\b\b\b\b\b\b\b\b\b\b\b\b\b\b\b\b\b\b\b\b\b\r296/296 [==============================] - 58s 196ms/step - loss: 0.0063 - accuracy: 0.9975 - val_loss: 0.0319 - val_accuracy: 0.9951 - lr: 1.0000e-04\n",
            "Epoch 32/100\n",
            "296/296 [==============================] - ETA: 0s - loss: 0.0062 - accuracy: 0.9973\n",
            "Epoch 32: val_accuracy did not improve from 0.99515\n",
            "\n",
            "Epoch 32: ReduceLROnPlateau reducing learning rate to 1.0000000474974514e-05.\n",
            "296/296 [==============================] - 34s 115ms/step - loss: 0.0062 - accuracy: 0.9973 - val_loss: 0.0304 - val_accuracy: 0.9945 - lr: 1.0000e-04\n",
            "Epoch 33/100\n",
            "296/296 [==============================] - ETA: 0s - loss: 0.0052 - accuracy: 0.9983\n",
            "Epoch 33: val_accuracy did not improve from 0.99515\n",
            "296/296 [==============================] - 34s 114ms/step - loss: 0.0052 - accuracy: 0.9983 - val_loss: 0.0310 - val_accuracy: 0.9945 - lr: 1.0000e-05\n",
            "Epoch 34/100\n",
            "296/296 [==============================] - ETA: 0s - loss: 0.0043 - accuracy: 0.9990\n",
            "Epoch 34: val_accuracy did not improve from 0.99515\n",
            "296/296 [==============================] - 34s 116ms/step - loss: 0.0043 - accuracy: 0.9990 - val_loss: 0.0319 - val_accuracy: 0.9951 - lr: 1.0000e-05\n",
            "Epoch 35/100\n",
            "296/296 [==============================] - ETA: 0s - loss: 0.0097 - accuracy: 0.9978\n",
            "Epoch 35: val_accuracy did not improve from 0.99515\n",
            "296/296 [==============================] - 33s 112ms/step - loss: 0.0097 - accuracy: 0.9978 - val_loss: 0.0316 - val_accuracy: 0.9945 - lr: 1.0000e-05\n",
            "Epoch 36/100\n",
            "296/296 [==============================] - ETA: 0s - loss: 0.0037 - accuracy: 0.9990\n",
            "Epoch 36: val_accuracy did not improve from 0.99515\n",
            "296/296 [==============================] - 34s 114ms/step - loss: 0.0037 - accuracy: 0.9990 - val_loss: 0.0323 - val_accuracy: 0.9951 - lr: 1.0000e-05\n",
            "Epoch 37/100\n",
            "296/296 [==============================] - ETA: 0s - loss: 0.0043 - accuracy: 0.9990\n",
            "Epoch 37: val_accuracy did not improve from 0.99515\n",
            "\n",
            "Epoch 37: ReduceLROnPlateau reducing learning rate to 1.0000000656873453e-06.\n",
            "296/296 [==============================] - 34s 114ms/step - loss: 0.0043 - accuracy: 0.9990 - val_loss: 0.0326 - val_accuracy: 0.9951 - lr: 1.0000e-05\n",
            "Epoch 38/100\n",
            "296/296 [==============================] - ETA: 0s - loss: 0.0062 - accuracy: 0.9981\n",
            "Epoch 38: val_accuracy did not improve from 0.99515\n",
            "296/296 [==============================] - 33s 111ms/step - loss: 0.0062 - accuracy: 0.9981 - val_loss: 0.0330 - val_accuracy: 0.9951 - lr: 1.0000e-06\n",
            "Epoch 39/100\n",
            "296/296 [==============================] - ETA: 0s - loss: 0.0034 - accuracy: 0.9995\n",
            "Epoch 39: val_accuracy did not improve from 0.99515\n",
            "296/296 [==============================] - 34s 114ms/step - loss: 0.0034 - accuracy: 0.9995 - val_loss: 0.0332 - val_accuracy: 0.9951 - lr: 1.0000e-06\n",
            "Epoch 40/100\n",
            "296/296 [==============================] - ETA: 0s - loss: 0.0093 - accuracy: 0.9980\n",
            "Epoch 40: val_accuracy did not improve from 0.99515\n",
            "296/296 [==============================] - 34s 116ms/step - loss: 0.0093 - accuracy: 0.9980 - val_loss: 0.0334 - val_accuracy: 0.9951 - lr: 1.0000e-06\n",
            "Epoch 41/100\n",
            "296/296 [==============================] - ETA: 0s - loss: 0.0036 - accuracy: 0.9992\n",
            "Epoch 41: val_accuracy did not improve from 0.99515\n",
            "296/296 [==============================] - 34s 115ms/step - loss: 0.0036 - accuracy: 0.9992 - val_loss: 0.0336 - val_accuracy: 0.9951 - lr: 1.0000e-06\n",
            "Epoch 42/100\n",
            "296/296 [==============================] - ETA: 0s - loss: 0.0038 - accuracy: 0.9986\n",
            "Epoch 42: val_accuracy did not improve from 0.99515\n",
            "\n",
            "Epoch 42: ReduceLROnPlateau reducing learning rate to 1.0000001111620805e-07.\n",
            "296/296 [==============================] - 34s 115ms/step - loss: 0.0038 - accuracy: 0.9986 - val_loss: 0.0337 - val_accuracy: 0.9951 - lr: 1.0000e-06\n",
            "Epoch 43/100\n",
            "296/296 [==============================] - ETA: 0s - loss: 0.0034 - accuracy: 0.9988\n",
            "Epoch 43: val_accuracy did not improve from 0.99515\n",
            "296/296 [==============================] - 35s 117ms/step - loss: 0.0034 - accuracy: 0.9988 - val_loss: 0.0338 - val_accuracy: 0.9951 - lr: 1.0000e-07\n",
            "Epoch 44/100\n",
            "296/296 [==============================] - ETA: 0s - loss: 0.0038 - accuracy: 0.9992\n",
            "Epoch 44: val_accuracy did not improve from 0.99515\n",
            "296/296 [==============================] - 35s 117ms/step - loss: 0.0038 - accuracy: 0.9992 - val_loss: 0.0338 - val_accuracy: 0.9951 - lr: 1.0000e-07\n",
            "Epoch 45/100\n",
            "296/296 [==============================] - ETA: 0s - loss: 0.0043 - accuracy: 0.9986\n",
            "Epoch 45: val_accuracy did not improve from 0.99515\n",
            "296/296 [==============================] - 34s 115ms/step - loss: 0.0043 - accuracy: 0.9986 - val_loss: 0.0338 - val_accuracy: 0.9951 - lr: 1.0000e-07\n",
            "Epoch 46/100\n",
            "296/296 [==============================] - ETA: 0s - loss: 0.0030 - accuracy: 0.9990\n",
            "Epoch 46: val_accuracy did not improve from 0.99515\n",
            "296/296 [==============================] - 33s 112ms/step - loss: 0.0030 - accuracy: 0.9990 - val_loss: 0.0339 - val_accuracy: 0.9951 - lr: 1.0000e-07\n",
            "Epoch 47/100\n",
            "296/296 [==============================] - ETA: 0s - loss: 0.0039 - accuracy: 0.9990\n",
            "Epoch 47: val_accuracy did not improve from 0.99515\n",
            "\n",
            "Epoch 47: ReduceLROnPlateau reducing learning rate to 1.000000082740371e-08.\n",
            "296/296 [==============================] - 34s 113ms/step - loss: 0.0039 - accuracy: 0.9990 - val_loss: 0.0339 - val_accuracy: 0.9951 - lr: 1.0000e-07\n",
            "Epoch 48/100\n",
            "296/296 [==============================] - ETA: 0s - loss: 0.0031 - accuracy: 0.9993\n",
            "Epoch 48: val_accuracy did not improve from 0.99515\n",
            "296/296 [==============================] - 34s 113ms/step - loss: 0.0031 - accuracy: 0.9993 - val_loss: 0.0339 - val_accuracy: 0.9951 - lr: 1.0000e-08\n",
            "Epoch 49/100\n",
            "296/296 [==============================] - ETA: 0s - loss: 0.0064 - accuracy: 0.9981\n",
            "Epoch 49: val_accuracy did not improve from 0.99515\n",
            "296/296 [==============================] - 35s 117ms/step - loss: 0.0064 - accuracy: 0.9981 - val_loss: 0.0339 - val_accuracy: 0.9951 - lr: 1.0000e-08\n",
            "Epoch 50/100\n",
            "296/296 [==============================] - ETA: 0s - loss: 0.0118 - accuracy: 0.9983\n",
            "Epoch 50: val_accuracy did not improve from 0.99515\n",
            "296/296 [==============================] - 34s 114ms/step - loss: 0.0118 - accuracy: 0.9983 - val_loss: 0.0339 - val_accuracy: 0.9951 - lr: 1.0000e-08\n",
            "Epoch 51/100\n",
            "296/296 [==============================] - ETA: 0s - loss: 0.0064 - accuracy: 0.9976\n",
            "Epoch 51: val_accuracy did not improve from 0.99515\n",
            "Restoring model weights from the end of the best epoch: 31.\n",
            "296/296 [==============================] - 35s 118ms/step - loss: 0.0064 - accuracy: 0.9976 - val_loss: 0.0339 - val_accuracy: 0.9951 - lr: 1.0000e-08\n",
            "Epoch 51: early stopping\n"
          ]
        }
      ]
    },
    {
      "cell_type": "code",
      "source": [
        "#-----------------------------------------------------------\n",
        "# Retrieve a list of list results on training and test data\n",
        "# sets for each training epoch\n",
        "#-----------------------------------------------------------\n",
        "acc      = history_MobileNetV2_model_2.history['accuracy' ]\n",
        "val_acc  = history_MobileNetV2_model_2.history['val_accuracy' ]\n",
        "loss     = history_MobileNetV2_model_2.history['loss' ]\n",
        "val_loss = history_MobileNetV2_model_2.history['val_loss' ]\n",
        "\n",
        "epochs   = range(len(acc)) # Get number of epochs\n",
        "\n",
        "#------------------------------------------------\n",
        "# Plot training and validation accuracy per epoch\n",
        "#------------------------------------------------\n",
        "plt.plot  (epochs, acc )\n",
        "plt.plot  (epochs, val_acc )\n",
        "plt.title ('Training and validation accuracy MobileNetV2 Model 2')\n",
        "plt.legend(['train', 'val'], loc='upper left')\n",
        "plt.figure()\n",
        "\n",
        "#------------------------------------------------\n",
        "# Plot training and validation loss per epoch\n",
        "#------------------------------------------------\n",
        "plt.plot  (epochs, loss)\n",
        "plt.plot  (epochs, val_loss)\n",
        "plt.title ('Training and validation loss MobileNetV2 Model 2')\n",
        "plt.legend(['train', 'val'], loc='upper left')"
      ],
      "metadata": {
        "colab": {
          "base_uri": "https://localhost:8080/",
          "height": 904
        },
        "id": "fWDHmNH9h7BQ",
        "outputId": "f7416ce6-ad95-433e-bcf8-39e58ae6894f"
      },
      "execution_count": 19,
      "outputs": [
        {
          "output_type": "execute_result",
          "data": {
            "text/plain": [
              "<matplotlib.legend.Legend at 0x7f9de4e7d6c0>"
            ]
          },
          "metadata": {},
          "execution_count": 19
        },
        {
          "output_type": "display_data",
          "data": {
            "text/plain": [
              "<Figure size 640x480 with 1 Axes>"
            ],
            "image/png": "[encoded data removed]"
          },
          "metadata": {}
        },
        {
          "output_type": "display_data",
          "data": {
            "text/plain": [
              "<Figure size 640x480 with 1 Axes>"
            ],
            "image/png": "[encoded data removed]"
          },
          "metadata": {}
        }
      ]
    },
    {
      "cell_type": "code",
      "source": [
        "!zip -r /content/Potato_MobileNetV2_model2_Based_Non_Augmented.zip /content/Potato_MobileNetV2_model2_Based_Non_Augmented"
      ],
      "metadata": {
        "colab": {
          "base_uri": "https://localhost:8080/"
        },
        "id": "B8Dm0hYMiMIp",
        "outputId": "dce2fc51-40ce-46f5-c844-2c8825b75248"
      },
      "execution_count": 20,
      "outputs": [
        {
          "output_type": "stream",
          "name": "stdout",
          "text": [
            "  adding: content/Potato_MobileNetV2_model2_Based_Non_Augmented/ (stored 0%)\n",
            "  adding: content/Potato_MobileNetV2_model2_Based_Non_Augmented/keras_metadata.pb (deflated 96%)\n",
            "  adding: content/Potato_MobileNetV2_model2_Based_Non_Augmented/fingerprint.pb (stored 0%)\n",
            "  adding: content/Potato_MobileNetV2_model2_Based_Non_Augmented/variables/ (stored 0%)\n",
            "  adding: content/Potato_MobileNetV2_model2_Based_Non_Augmented/variables/variables.data-00000-of-00001 (deflated 9%)\n",
            "  adding: content/Potato_MobileNetV2_model2_Based_Non_Augmented/variables/variables.index (deflated 76%)\n",
            "  adding: content/Potato_MobileNetV2_model2_Based_Non_Augmented/assets/ (stored 0%)\n",
            "  adding: content/Potato_MobileNetV2_model2_Based_Non_Augmented/saved_model.pb (deflated 91%)\n"
          ]
        }
      ]
    }
  ]
}