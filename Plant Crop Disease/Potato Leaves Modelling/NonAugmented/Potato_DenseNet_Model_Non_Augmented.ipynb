{
  "nbformat": 4,
  "nbformat_minor": 0,
  "metadata": {
    "colab": {
      "provenance": [],
      "gpuType": "T4"
    },
    "kernelspec": {
      "name": "python3",
      "display_name": "Python 3"
    },
    "language_info": {
      "name": "python"
    },
    "accelerator": "GPU",
    "gpuClass": "standard"
  },
  "cells": [
    {
      "cell_type": "code",
      "execution_count": 1,
      "metadata": {
        "colab": {
          "base_uri": "https://localhost:8080/"
        },
        "id": "fwzYNLFCl-_h",
        "outputId": "adbfb1d4-529f-4a86-8830-2e9cddcb1e9c"
      },
      "outputs": [
        {
          "output_type": "stream",
          "name": "stdout",
          "text": [
            "Looking in indexes: https://pypi.org/simple, https://us-python.pkg.dev/colab-wheels/public/simple/\n",
            "Requirement already satisfied: matplotlib in /usr/local/lib/python3.10/dist-packages (3.7.1)\n",
            "Requirement already satisfied: contourpy>=1.0.1 in /usr/local/lib/python3.10/dist-packages (from matplotlib) (1.0.7)\n",
            "Requirement already satisfied: cycler>=0.10 in /usr/local/lib/python3.10/dist-packages (from matplotlib) (0.11.0)\n",
            "Requirement already satisfied: fonttools>=4.22.0 in /usr/local/lib/python3.10/dist-packages (from matplotlib) (4.39.3)\n",
            "Requirement already satisfied: kiwisolver>=1.0.1 in /usr/local/lib/python3.10/dist-packages (from matplotlib) (1.4.4)\n",
            "Requirement already satisfied: numpy>=1.20 in /usr/local/lib/python3.10/dist-packages (from matplotlib) (1.22.4)\n",
            "Requirement already satisfied: packaging>=20.0 in /usr/local/lib/python3.10/dist-packages (from matplotlib) (23.1)\n",
            "Requirement already satisfied: pillow>=6.2.0 in /usr/local/lib/python3.10/dist-packages (from matplotlib) (8.4.0)\n",
            "Requirement already satisfied: pyparsing>=2.3.1 in /usr/local/lib/python3.10/dist-packages (from matplotlib) (3.0.9)\n",
            "Requirement already satisfied: python-dateutil>=2.7 in /usr/local/lib/python3.10/dist-packages (from matplotlib) (2.8.2)\n",
            "Requirement already satisfied: six>=1.5 in /usr/local/lib/python3.10/dist-packages (from python-dateutil>=2.7->matplotlib) (1.16.0)\n"
          ]
        }
      ],
      "source": [
        "pip install matplotlib"
      ]
    },
    {
      "cell_type": "code",
      "source": [
        "pip install opendatasets"
      ],
      "metadata": {
        "colab": {
          "base_uri": "https://localhost:8080/"
        },
        "id": "H-Kpt4zEmIL7",
        "outputId": "1b3579ec-fdc3-46ae-f2e5-5492c86d2c95"
      },
      "execution_count": 2,
      "outputs": [
        {
          "output_type": "stream",
          "name": "stdout",
          "text": [
            "Looking in indexes: https://pypi.org/simple, https://us-python.pkg.dev/colab-wheels/public/simple/\n",
            "Collecting opendatasets\n",
            "  Downloading opendatasets-0.1.22-py3-none-any.whl (15 kB)\n",
            "Requirement already satisfied: tqdm in /usr/local/lib/python3.10/dist-packages (from opendatasets) (4.65.0)\n",
            "Requirement already satisfied: kaggle in /usr/local/lib/python3.10/dist-packages (from opendatasets) (1.5.13)\n",
            "Requirement already satisfied: click in /usr/local/lib/python3.10/dist-packages (from opendatasets) (8.1.3)\n",
            "Requirement already satisfied: six>=1.10 in /usr/local/lib/python3.10/dist-packages (from kaggle->opendatasets) (1.16.0)\n",
            "Requirement already satisfied: certifi in /usr/local/lib/python3.10/dist-packages (from kaggle->opendatasets) (2022.12.7)\n",
            "Requirement already satisfied: python-dateutil in /usr/local/lib/python3.10/dist-packages (from kaggle->opendatasets) (2.8.2)\n",
            "Requirement already satisfied: requests in /usr/local/lib/python3.10/dist-packages (from kaggle->opendatasets) (2.27.1)\n",
            "Requirement already satisfied: python-slugify in /usr/local/lib/python3.10/dist-packages (from kaggle->opendatasets) (8.0.1)\n",
            "Requirement already satisfied: urllib3 in /usr/local/lib/python3.10/dist-packages (from kaggle->opendatasets) (1.26.15)\n",
            "Requirement already satisfied: text-unidecode>=1.3 in /usr/local/lib/python3.10/dist-packages (from python-slugify->kaggle->opendatasets) (1.3)\n",
            "Requirement already satisfied: charset-normalizer~=2.0.0 in /usr/local/lib/python3.10/dist-packages (from requests->kaggle->opendatasets) (2.0.12)\n",
            "Requirement already satisfied: idna<4,>=2.5 in /usr/local/lib/python3.10/dist-packages (from requests->kaggle->opendatasets) (3.4)\n",
            "Installing collected packages: opendatasets\n",
            "Successfully installed opendatasets-0.1.22\n"
          ]
        }
      ]
    },
    {
      "cell_type": "code",
      "source": [
        "# Library to dataset\n",
        "import opendatasets as od\n",
        "import os\n",
        "import zipfile\n",
        "import numpy as np\n",
        "\n",
        "# Surpress Warnings\n",
        "import warnings\n",
        "warnings.filterwarnings('ignore')\n",
        "os.environ['TF_CPP_MIN_LOG_LEVEL'] = '3' \n",
        "# library visualization\n",
        "import matplotlib.pyplot as plt\n",
        "\n",
        "# Library Tensorflow\n",
        "import tensorflow as tf\n",
        "from tensorflow import keras\n",
        "from tensorflow.keras.preprocessing.image import ImageDataGenerator\n",
        "from tensorflow.keras.callbacks import ModelCheckpoint, EarlyStopping, ReduceLROnPlateau\n",
        "from tensorflow.keras.applications.densenet import DenseNet121\n",
        "# Others\n",
        "import shutil\n",
        "import random\n"
      ],
      "metadata": {
        "id": "UICnsT8PmIc_"
      },
      "execution_count": 3,
      "outputs": []
    },
    {
      "cell_type": "code",
      "source": [
        "# Download dataset\n",
        "od.download('https://www.kaggle.com/datasets/faudyanurul/potato')"
      ],
      "metadata": {
        "colab": {
          "base_uri": "https://localhost:8080/"
        },
        "id": "S4Z0zMgwmI80",
        "outputId": "90787434-c9cf-4f63-a838-92b8feb59fec"
      },
      "execution_count": 4,
      "outputs": [
        {
          "output_type": "stream",
          "name": "stdout",
          "text": [
            "Please provide your Kaggle credentials to download this dataset. Learn more: http://bit.ly/kaggle-creds\n",
            "Your Kaggle username: faudyanurul\n",
            "Your Kaggle Key: ··········\n",
            "Downloading potato.zip to ./potato\n"
          ]
        },
        {
          "output_type": "stream",
          "name": "stderr",
          "text": [
            "100%|██████████| 185M/185M [00:11<00:00, 16.1MB/s]\n"
          ]
        },
        {
          "output_type": "stream",
          "name": "stdout",
          "text": [
            "\n"
          ]
        }
      ]
    },
    {
      "cell_type": "markdown",
      "source": [
        "Load dataset"
      ],
      "metadata": {
        "id": "7IxnvNqxnDGj"
      }
    },
    {
      "cell_type": "code",
      "source": [
        "# Load dataset\n",
        "print(\"==========================Training Data====================\")\n",
        "train_data = tf.keras.preprocessing.image_dataset_from_directory(\n",
        "    \"potato/Potato/train\",\n",
        "    label_mode=\"categorical\",\n",
        "    class_names= ['Potato healthy', 'Potato leaf early blight', 'Potato leaf late blight'],\n",
        "    color_mode=\"rgb\",\n",
        "    batch_size=1,\n",
        "    image_size=(256, 256),\n",
        "    shuffle=True,\n",
        "    seed=123\n",
        ")\n",
        "print(\"==========================Validation Data====================\")\n",
        "val_data = tf.keras.preprocessing.image_dataset_from_directory(\n",
        "    \"potato/Potato/valid\",\n",
        "    label_mode=\"categorical\",\n",
        "    class_names= ['Potato healthy', 'Potato leaf early blight', 'Potato leaf late blight'],\n",
        "    color_mode=\"rgb\",\n",
        "    batch_size=1,\n",
        "    image_size=(256, 256),\n",
        "    shuffle=True,\n",
        "    seed=123\n",
        ")"
      ],
      "metadata": {
        "colab": {
          "base_uri": "https://localhost:8080/"
        },
        "id": "3Jk3aGXOnGRZ",
        "outputId": "bdb89b4c-aaa2-4e33-aaf8-75fd170c1d88"
      },
      "execution_count": 5,
      "outputs": [
        {
          "output_type": "stream",
          "name": "stdout",
          "text": [
            "==========================Training Data====================\n",
            "Found 5907 files belonging to 3 classes.\n",
            "==========================Validation Data====================\n",
            "Found 1442 files belonging to 3 classes.\n"
          ]
        }
      ]
    },
    {
      "cell_type": "code",
      "source": [
        "# All images will be rescaled by 1./255.\n",
        "train_datagen = ImageDataGenerator(rescale = 1.0/256.)\n",
        "test_datagen  = ImageDataGenerator(rescale = 1.0/256.)\n",
        "\n",
        "# --------------------\n",
        "# Flow training images in batches of 20 using train_datagen generator\n",
        "# --------------------\n",
        "train_generator = train_datagen.flow_from_directory(\"potato/Potato/train\",\n",
        "                                                    batch_size=20,\n",
        "                                                    class_mode='categorical',\n",
        "                                                    target_size=(224, 224))     \n",
        "# --------------------\n",
        "# Flow validation images in batches of 20 using test_datagen generator\n",
        "# --------------------\n",
        "validation_generator =  test_datagen.flow_from_directory(\"potato/Potato/valid\",\n",
        "                                                         batch_size=20,\n",
        "                                                         class_mode  = 'categorical',\n",
        "                                                         target_size = (224, 224))\n"
      ],
      "metadata": {
        "colab": {
          "base_uri": "https://localhost:8080/"
        },
        "id": "DbQdM9Q4nAaM",
        "outputId": "45a41646-0357-48d8-b52e-be06f8b882a9"
      },
      "execution_count": 6,
      "outputs": [
        {
          "output_type": "stream",
          "name": "stdout",
          "text": [
            "Found 5907 images belonging to 3 classes.\n",
            "Found 1442 images belonging to 3 classes.\n"
          ]
        }
      ]
    },
    {
      "cell_type": "markdown",
      "source": [
        "List_Resource"
      ],
      "metadata": {
        "id": "QUKdBZW0oGFf"
      }
    },
    {
      "cell_type": "code",
      "source": [
        "# Check GPU\n",
        "!nvidia-smi"
      ],
      "metadata": {
        "colab": {
          "base_uri": "https://localhost:8080/"
        },
        "id": "-4XXj0CroIkG",
        "outputId": "581c3b14-c88b-46f3-cc2e-19f02f060ffd"
      },
      "execution_count": 7,
      "outputs": [
        {
          "output_type": "stream",
          "name": "stdout",
          "text": [
            "Tue May 30 17:05:14 2023       \n",
            "+-----------------------------------------------------------------------------+\n",
            "| NVIDIA-SMI 525.85.12    Driver Version: 525.85.12    CUDA Version: 12.0     |\n",
            "|-------------------------------+----------------------+----------------------+\n",
            "| GPU  Name        Persistence-M| Bus-Id        Disp.A | Volatile Uncorr. ECC |\n",
            "| Fan  Temp  Perf  Pwr:Usage/Cap|         Memory-Usage | GPU-Util  Compute M. |\n",
            "|                               |                      |               MIG M. |\n",
            "|===============================+======================+======================|\n",
            "|   0  Tesla T4            Off  | 00000000:00:04.0 Off |                    0 |\n",
            "| N/A   45C    P0    26W /  70W |    389MiB / 15360MiB |      0%      Default |\n",
            "|                               |                      |                  N/A |\n",
            "+-------------------------------+----------------------+----------------------+\n",
            "                                                                               \n",
            "+-----------------------------------------------------------------------------+\n",
            "| Processes:                                                                  |\n",
            "|  GPU   GI   CI        PID   Type   Process name                  GPU Memory |\n",
            "|        ID   ID                                                   Usage      |\n",
            "|=============================================================================|\n",
            "+-----------------------------------------------------------------------------+\n"
          ]
        }
      ]
    },
    {
      "cell_type": "code",
      "source": [
        "# Lis physical devices\n",
        "devices = tf.config.experimental.list_physical_devices(\"GPU\")\n",
        "devices"
      ],
      "metadata": {
        "colab": {
          "base_uri": "https://localhost:8080/"
        },
        "id": "Ft0p_VoLoIt7",
        "outputId": "4ca5f651-f44c-459c-8be5-177b93275cc3"
      },
      "execution_count": 8,
      "outputs": [
        {
          "output_type": "execute_result",
          "data": {
            "text/plain": [
              "[PhysicalDevice(name='/physical_device:GPU:0', device_type='GPU')]"
            ]
          },
          "metadata": {},
          "execution_count": 8
        }
      ]
    },
    {
      "cell_type": "code",
      "source": [
        "# Define the GPU strategy\n",
        "mirrored_strategy = tf.distribute.MirroredStrategy(devices=[\"/gpu:0\"])"
      ],
      "metadata": {
        "id": "Zr7neOHXoI5u"
      },
      "execution_count": 9,
      "outputs": []
    },
    {
      "cell_type": "markdown",
      "source": [
        "Modelling Without ImageDataGenerator"
      ],
      "metadata": {
        "id": "gBunmK7uosNb"
      }
    },
    {
      "cell_type": "markdown",
      "source": [
        "DenseNet Model 1"
      ],
      "metadata": {
        "id": "sOaoO2hMowSt"
      }
    },
    {
      "cell_type": "code",
      "source": [
        "# Difine the callbacks\n",
        "# Save the best model\n",
        "checkpoint_callback = ModelCheckpoint(filepath=\"DenseNet_model1_Potato_Based_Non_Augmented\", save_best_only=True, monitor=\"val_accuracy\", mode=\"max\", verbose=1)\n",
        "\n",
        "\n",
        "# Early stopping\n",
        "early_stopping_callback = EarlyStopping(monitor=\"val_accuracy\", mode=\"max\", patience=20, verbose=1, restore_best_weights=True)\n",
        "\n",
        "# Reduce learning rate\n",
        "reduce_lr_callback = ReduceLROnPlateau(monitor=\"val_loss\", factor=0.1, patience=5, verbose=1, mode=\"min\", min_delta=0.0001, cooldown=0, min_lr=0)\n",
        "\n",
        "# Callbacks list\n",
        "callbacks=[checkpoint_callback, early_stopping_callback, reduce_lr_callback]"
      ],
      "metadata": {
        "id": "iR-nBFk3oyhD"
      },
      "execution_count": 11,
      "outputs": []
    },
    {
      "cell_type": "code",
      "source": [
        "# Define DIY Model\n",
        "DenseNet_model = tf.keras.models.Sequential([\n",
        "    # DenseNet121 Layer\n",
        "    DenseNet121(include_top=False,weights='imagenet',input_shape=(224, 224, 3)),\n",
        "    # Max Pooling Layer\n",
        "    tf.keras.layers.GlobalMaxPooling2D(),\n",
        "    # Drop Out Layer\n",
        "    tf.keras.layers.Dropout(0.2),\n",
        "    # 256 neuron hidden layer\n",
        "    tf.keras.layers.Dense(256, activation='relu'),\n",
        "    # Output\n",
        "    tf.keras.layers.Dense(3, activation='softmax') \n",
        "  ])\n",
        "\n",
        "\n",
        "# Compile Model\n",
        "DenseNet_model.compile(loss='categorical_crossentropy',optimizer=tf.keras.optimizers.Adam(), metrics=['accuracy']) \n",
        "\n",
        "# Model Summary\n",
        "DenseNet_model.summary()"
      ],
      "metadata": {
        "colab": {
          "base_uri": "https://localhost:8080/"
        },
        "id": "Eyt-kj-loys3",
        "outputId": "c4f2611a-ea7d-42d4-aa68-f1e9751b20b6"
      },
      "execution_count": 12,
      "outputs": [
        {
          "output_type": "stream",
          "name": "stdout",
          "text": [
            "Downloading data from https://storage.googleapis.com/tensorflow/keras-applications/densenet/densenet121_weights_tf_dim_ordering_tf_kernels_notop.h5\n",
            "29084464/29084464 [==============================] - 3s 0us/step\n",
            "Model: \"sequential\"\n",
            "_________________________________________________________________\n",
            " Layer (type)                Output Shape              Param #   \n",
            "=================================================================\n",
            " densenet121 (Functional)    (None, 7, 7, 1024)        7037504   \n",
            "                                                                 \n",
            " global_max_pooling2d (Globa  (None, 1024)             0         \n",
            " lMaxPooling2D)                                                  \n",
            "                                                                 \n",
            " dropout (Dropout)           (None, 1024)              0         \n",
            "                                                                 \n",
            " dense (Dense)               (None, 256)               262400    \n",
            "                                                                 \n",
            " dense_1 (Dense)             (None, 3)                 771       \n",
            "                                                                 \n",
            "=================================================================\n",
            "Total params: 7,300,675\n",
            "Trainable params: 7,217,027\n",
            "Non-trainable params: 83,648\n",
            "_________________________________________________________________\n"
          ]
        }
      ]
    },
    {
      "cell_type": "code",
      "source": [
        "# Define the number of epochs\n",
        "num_epochs = 100\n",
        "\n",
        "# Train the model\n",
        "history_DenseNet_model_1 = DenseNet_model.fit(train_generator, epochs=num_epochs, validation_data=validation_generator, callbacks=callbacks)\n"
      ],
      "metadata": {
        "colab": {
          "base_uri": "https://localhost:8080/"
        },
        "id": "WaMKHCmkpEgy",
        "outputId": "da3190b3-c713-45c0-d1ad-b57895d8b2f8"
      },
      "execution_count": 13,
      "outputs": [
        {
          "metadata": {
            "tags": null
          },
          "name": "stdout",
          "output_type": "stream",
          "text": [
            "Epoch 1/100\n",
            "296/296 [==============================] - ETA: 0s - loss: 0.3245 - accuracy: 0.9348\n",
            "Epoch 1: val_accuracy improved from -inf to 0.86477, saving model to DenseNet_model1_Potato_Based_Non_Augmented\n"
          ]
        },
        {
          "metadata": {
            "tags": null
          },
          "name": "stderr",
          "output_type": "stream",
          "text": [
            "WARNING:absl:Found untraced functions such as _jit_compiled_convolution_op, _jit_compiled_convolution_op, _jit_compiled_convolution_op, _jit_compiled_convolution_op, _jit_compiled_convolution_op while saving (showing 5 of 120). These functions will not be directly callable after loading.\n"
          ]
        },
        {
          "metadata": {
            "tags": null
          },
          "name": "stdout",
          "output_type": "stream",
          "text": [
            "296/296 [==============================] - 224s 477ms/step - loss: 0.3245 - accuracy: 0.9348 - val_loss: 0.5594 - val_accuracy: 0.8648 - lr: 0.0010\n",
            "Epoch 2/100\n",
            "296/296 [==============================] - ETA: 0s - loss: 0.0709 - accuracy: 0.9765\n",
            "Epoch 2: val_accuracy improved from 0.86477 to 0.98474, saving model to DenseNet_model1_Potato_Based_Non_Augmented\n"
          ]
        },
        {
          "metadata": {
            "tags": null
          },
          "name": "stderr",
          "output_type": "stream",
          "text": [
            "WARNING:absl:Found untraced functions such as _jit_compiled_convolution_op, _jit_compiled_convolution_op, _jit_compiled_convolution_op, _jit_compiled_convolution_op, _jit_compiled_convolution_op while saving (showing 5 of 120). These functions will not be directly callable after loading.\n"
          ]
        },
        {
          "metadata": {
            "tags": null
          },
          "name": "stdout",
          "output_type": "stream",
          "text": [
            "296/296 [==============================] - 132s 445ms/step - loss: 0.0709 - accuracy: 0.9765 - val_loss: 0.0431 - val_accuracy: 0.9847 - lr: 0.0010\n",
            "Epoch 3/100\n",
            "296/296 [==============================] - ETA: 0s - loss: 0.0782 - accuracy: 0.9722\n",
            "Epoch 3: val_accuracy did not improve from 0.98474\n",
            "296/296 [==============================] - 72s 243ms/step - loss: 0.0782 - accuracy: 0.9722 - val_loss: 0.2165 - val_accuracy: 0.9092 - lr: 0.0010\n",
            "Epoch 4/100\n",
            "296/296 [==============================] - ETA: 0s - loss: 0.0692 - accuracy: 0.9743\n",
            "Epoch 4: val_accuracy did not improve from 0.98474\n",
            "296/296 [==============================] - 72s 244ms/step - loss: 0.0692 - accuracy: 0.9743 - val_loss: 2.0482 - val_accuracy: 0.7420 - lr: 0.0010\n",
            "Epoch 5/100\n",
            "296/296 [==============================] - ETA: 0s - loss: 0.0498 - accuracy: 0.9797\n",
            "Epoch 5: val_accuracy did not improve from 0.98474\n",
            "296/296 [==============================] - 72s 245ms/step - loss: 0.0498 - accuracy: 0.9797 - val_loss: 0.0597 - val_accuracy: 0.9730 - lr: 0.0010\n",
            "Epoch 6/100\n",
            "296/296 [==============================] - ETA: 0s - loss: 0.0634 - accuracy: 0.9777\n",
            "Epoch 6: val_accuracy did not improve from 0.98474\n",
            "296/296 [==============================] - 72s 243ms/step - loss: 0.0634 - accuracy: 0.9777 - val_loss: 12.7872 - val_accuracy: 0.3308 - lr: 0.0010\n",
            "Epoch 7/100\n",
            "296/296 [==============================] - ETA: 0s - loss: 0.0725 - accuracy: 0.9741\n",
            "Epoch 7: val_accuracy did not improve from 0.98474\n",
            "\n",
            "Epoch 7: ReduceLROnPlateau reducing learning rate to 0.00010000000474974513.\n",
            "296/296 [==============================] - 72s 244ms/step - loss: 0.0725 - accuracy: 0.9741 - val_loss: 25.3068 - val_accuracy: 0.5132 - lr: 0.0010\n",
            "Epoch 8/100\n",
            "296/296 [==============================] - ETA: 0s - loss: 0.0378 - accuracy: 0.9836\n",
            "Epoch 8: val_accuracy improved from 0.98474 to 0.99653, saving model to DenseNet_model1_Potato_Based_Non_Augmented\n"
          ]
        },
        {
          "metadata": {
            "tags": null
          },
          "name": "stderr",
          "output_type": "stream",
          "text": [
            "WARNING:absl:Found untraced functions such as _jit_compiled_convolution_op, _jit_compiled_convolution_op, _jit_compiled_convolution_op, _jit_compiled_convolution_op, _jit_compiled_convolution_op while saving (showing 5 of 120). These functions will not be directly callable after loading.\n"
          ]
        },
        {
          "metadata": {
            "tags": null
          },
          "name": "stdout",
          "output_type": "stream",
          "text": [
            "296/296 [==============================] - 131s 444ms/step - loss: 0.0378 - accuracy: 0.9836 - val_loss: 0.0105 - val_accuracy: 0.9965 - lr: 1.0000e-04\n",
            "Epoch 9/100\n",
            "296/296 [==============================] - ETA: 0s - loss: 0.0274 - accuracy: 0.9881\n",
            "Epoch 9: val_accuracy improved from 0.99653 to 0.99723, saving model to DenseNet_model1_Potato_Based_Non_Augmented\n"
          ]
        },
        {
          "metadata": {
            "tags": null
          },
          "name": "stderr",
          "output_type": "stream",
          "text": [
            "WARNING:absl:Found untraced functions such as _jit_compiled_convolution_op, _jit_compiled_convolution_op, _jit_compiled_convolution_op, _jit_compiled_convolution_op, _jit_compiled_convolution_op while saving (showing 5 of 120). These functions will not be directly callable after loading.\n"
          ]
        },
        {
          "output_type": "stream",
          "name": "stdout",
          "text": [
            "296/296 [==============================] - 154s 522ms/step - loss: 0.0274 - accuracy: 0.9881 - val_loss: 0.0096 - val_accuracy: 0.9972 - lr: 1.0000e-04\n",
            "Epoch 10/100\n",
            "296/296 [==============================] - ETA: 0s - loss: 0.0253 - accuracy: 0.9885\n",
            "Epoch 10: val_accuracy did not improve from 0.99723\n",
            "296/296 [==============================] - 73s 247ms/step - loss: 0.0253 - accuracy: 0.9885 - val_loss: 0.0092 - val_accuracy: 0.9972 - lr: 1.0000e-04\n",
            "Epoch 11/100\n",
            "296/296 [==============================] - ETA: 0s - loss: 0.0199 - accuracy: 0.9905\n",
            "Epoch 11: val_accuracy did not improve from 0.99723\n",
            "296/296 [==============================] - 72s 242ms/step - loss: 0.0199 - accuracy: 0.9905 - val_loss: 0.0108 - val_accuracy: 0.9958 - lr: 1.0000e-04\n",
            "Epoch 12/100\n",
            "296/296 [==============================] - ETA: 0s - loss: 0.0216 - accuracy: 0.9910\n",
            "Epoch 12: val_accuracy did not improve from 0.99723\n",
            "296/296 [==============================] - 72s 242ms/step - loss: 0.0216 - accuracy: 0.9910 - val_loss: 0.0123 - val_accuracy: 0.9945 - lr: 1.0000e-04\n",
            "Epoch 13/100\n",
            "296/296 [==============================] - ETA: 0s - loss: 0.0164 - accuracy: 0.9924\n",
            "Epoch 13: val_accuracy did not improve from 0.99723\n",
            "296/296 [==============================] - 72s 243ms/step - loss: 0.0164 - accuracy: 0.9924 - val_loss: 0.0129 - val_accuracy: 0.9958 - lr: 1.0000e-04\n",
            "Epoch 14/100\n",
            "296/296 [==============================] - ETA: 0s - loss: 0.0138 - accuracy: 0.9937\n",
            "Epoch 14: val_accuracy did not improve from 0.99723\n",
            "296/296 [==============================] - 72s 243ms/step - loss: 0.0138 - accuracy: 0.9937 - val_loss: 0.0121 - val_accuracy: 0.9951 - lr: 1.0000e-04\n",
            "Epoch 15/100\n",
            "296/296 [==============================] - ETA: 0s - loss: 0.0128 - accuracy: 0.9939\n",
            "Epoch 15: val_accuracy did not improve from 0.99723\n",
            "\n",
            "Epoch 15: ReduceLROnPlateau reducing learning rate to 1.0000000474974514e-05.\n",
            "296/296 [==============================] - 72s 242ms/step - loss: 0.0128 - accuracy: 0.9939 - val_loss: 0.0137 - val_accuracy: 0.9958 - lr: 1.0000e-04\n",
            "Epoch 16/100\n",
            "296/296 [==============================] - ETA: 0s - loss: 0.0101 - accuracy: 0.9966\n",
            "Epoch 16: val_accuracy did not improve from 0.99723\n",
            "296/296 [==============================] - 72s 242ms/step - loss: 0.0101 - accuracy: 0.9966 - val_loss: 0.0147 - val_accuracy: 0.9951 - lr: 1.0000e-05\n",
            "Epoch 17/100\n",
            "296/296 [==============================] - ETA: 0s - loss: 0.0082 - accuracy: 0.9970\n",
            "Epoch 17: val_accuracy did not improve from 0.99723\n",
            "296/296 [==============================] - 71s 241ms/step - loss: 0.0082 - accuracy: 0.9970 - val_loss: 0.0157 - val_accuracy: 0.9951 - lr: 1.0000e-05\n",
            "Epoch 18/100\n",
            "296/296 [==============================] - ETA: 0s - loss: 0.0097 - accuracy: 0.9973\n",
            "Epoch 18: val_accuracy did not improve from 0.99723\n",
            "296/296 [==============================] - 72s 242ms/step - loss: 0.0097 - accuracy: 0.9973 - val_loss: 0.0155 - val_accuracy: 0.9951 - lr: 1.0000e-05\n",
            "Epoch 19/100\n",
            "296/296 [==============================] - ETA: 0s - loss: 0.0095 - accuracy: 0.9971\n",
            "Epoch 19: val_accuracy did not improve from 0.99723\n",
            "296/296 [==============================] - 71s 241ms/step - loss: 0.0095 - accuracy: 0.9971 - val_loss: 0.0159 - val_accuracy: 0.9951 - lr: 1.0000e-05\n",
            "Epoch 20/100\n",
            "296/296 [==============================] - ETA: 0s - loss: 0.0065 - accuracy: 0.9980\n",
            "Epoch 20: val_accuracy did not improve from 0.99723\n",
            "\n",
            "Epoch 20: ReduceLROnPlateau reducing learning rate to 1.0000000656873453e-06.\n",
            "296/296 [==============================] - 71s 241ms/step - loss: 0.0065 - accuracy: 0.9980 - val_loss: 0.0168 - val_accuracy: 0.9951 - lr: 1.0000e-05\n",
            "Epoch 21/100\n",
            "296/296 [==============================] - ETA: 0s - loss: 0.0060 - accuracy: 0.9983\n",
            "Epoch 21: val_accuracy did not improve from 0.99723\n",
            "296/296 [==============================] - 71s 239ms/step - loss: 0.0060 - accuracy: 0.9983 - val_loss: 0.0171 - val_accuracy: 0.9945 - lr: 1.0000e-06\n",
            "Epoch 22/100\n",
            "296/296 [==============================] - ETA: 0s - loss: 0.0061 - accuracy: 0.9978\n",
            "Epoch 22: val_accuracy did not improve from 0.99723\n",
            "296/296 [==============================] - 71s 239ms/step - loss: 0.0061 - accuracy: 0.9978 - val_loss: 0.0168 - val_accuracy: 0.9945 - lr: 1.0000e-06\n",
            "Epoch 23/100\n",
            "296/296 [==============================] - ETA: 0s - loss: 0.0058 - accuracy: 0.9986\n",
            "Epoch 23: val_accuracy did not improve from 0.99723\n",
            "296/296 [==============================] - 71s 240ms/step - loss: 0.0058 - accuracy: 0.9986 - val_loss: 0.0171 - val_accuracy: 0.9945 - lr: 1.0000e-06\n",
            "Epoch 24/100\n",
            "296/296 [==============================] - ETA: 0s - loss: 0.0079 - accuracy: 0.9978\n",
            "Epoch 24: val_accuracy did not improve from 0.99723\n",
            "296/296 [==============================] - 71s 241ms/step - loss: 0.0079 - accuracy: 0.9978 - val_loss: 0.0170 - val_accuracy: 0.9945 - lr: 1.0000e-06\n",
            "Epoch 25/100\n",
            "296/296 [==============================] - ETA: 0s - loss: 0.0063 - accuracy: 0.9983\n",
            "Epoch 25: val_accuracy did not improve from 0.99723\n",
            "\n",
            "Epoch 25: ReduceLROnPlateau reducing learning rate to 1.0000001111620805e-07.\n",
            "296/296 [==============================] - 71s 240ms/step - loss: 0.0063 - accuracy: 0.9983 - val_loss: 0.0172 - val_accuracy: 0.9951 - lr: 1.0000e-06\n",
            "Epoch 26/100\n",
            "296/296 [==============================] - ETA: 0s - loss: 0.0059 - accuracy: 0.9983\n",
            "Epoch 26: val_accuracy did not improve from 0.99723\n",
            "296/296 [==============================] - 71s 239ms/step - loss: 0.0059 - accuracy: 0.9983 - val_loss: 0.0170 - val_accuracy: 0.9951 - lr: 1.0000e-07\n",
            "Epoch 27/100\n",
            "296/296 [==============================] - ETA: 0s - loss: 0.0065 - accuracy: 0.9986\n",
            "Epoch 27: val_accuracy did not improve from 0.99723\n",
            "296/296 [==============================] - 71s 239ms/step - loss: 0.0065 - accuracy: 0.9986 - val_loss: 0.0172 - val_accuracy: 0.9951 - lr: 1.0000e-07\n",
            "Epoch 28/100\n",
            "296/296 [==============================] - ETA: 0s - loss: 0.0056 - accuracy: 0.9983\n",
            "Epoch 28: val_accuracy did not improve from 0.99723\n",
            "296/296 [==============================] - 71s 241ms/step - loss: 0.0056 - accuracy: 0.9983 - val_loss: 0.0172 - val_accuracy: 0.9951 - lr: 1.0000e-07\n",
            "Epoch 29/100\n",
            "296/296 [==============================] - ETA: 0s - loss: 0.0066 - accuracy: 0.9978\n",
            "Epoch 29: val_accuracy did not improve from 0.99723\n",
            "Restoring model weights from the end of the best epoch: 9.\n",
            "296/296 [==============================] - 72s 243ms/step - loss: 0.0066 - accuracy: 0.9978 - val_loss: 0.0171 - val_accuracy: 0.9951 - lr: 1.0000e-07\n",
            "Epoch 29: early stopping\n"
          ]
        }
      ]
    },
    {
      "cell_type": "code",
      "source": [
        "#-----------------------------------------------------------\n",
        "# Retrieve a list of list results on training and test data\n",
        "# sets for each training epoch\n",
        "#-----------------------------------------------------------\n",
        "acc      = history_DenseNet_model_1.history['accuracy' ]\n",
        "val_acc  = history_DenseNet_model_1.history['val_accuracy' ]\n",
        "loss     = history_DenseNet_model_1.history['loss' ]\n",
        "val_loss = history_DenseNet_model_1.history['val_loss' ]\n",
        "\n",
        "epochs   = range(len(acc)) # Get number of epochs\n",
        "\n",
        "#------------------------------------------------\n",
        "# Plot training and validation accuracy per epoch\n",
        "#------------------------------------------------\n",
        "plt.plot  (epochs, acc )\n",
        "plt.plot  (epochs, val_acc )\n",
        "plt.title ('Training and validation accuracy DIY Model')\n",
        "plt.figure()\n",
        "\n",
        "#------------------------------------------------\n",
        "# Plot training and validation loss per epoch\n",
        "#------------------------------------------------\n",
        "plt.plot  (epochs, loss)\n",
        "plt.plot  (epochs, val_loss)\n",
        "plt.title ('Training and validation loss DIY Model')\n"
      ],
      "metadata": {
        "colab": {
          "base_uri": "https://localhost:8080/",
          "height": 904
        },
        "id": "G5KUj0dbpFeS",
        "outputId": "f015b075-9d24-4550-bcaf-cc4de73d5837"
      },
      "execution_count": 18,
      "outputs": [
        {
          "output_type": "execute_result",
          "data": {
            "text/plain": [
              "Text(0.5, 1.0, 'Training and validation loss DIY Model')"
            ]
          },
          "metadata": {},
          "execution_count": 18
        },
        {
          "output_type": "display_data",
          "data": {
            "text/plain": [
              "<Figure size 640x480 with 1 Axes>"
            ],
            "image/png": "[encoded data removed]"
          },
          "metadata": {}
        },
        {
          "output_type": "display_data",
          "data": {
            "text/plain": [
              "<Figure size 640x480 with 1 Axes>"
            ],
            "image/png": "[encoded data removed]"
          },
          "metadata": {}
        }
      ]
    },
    {
      "cell_type": "code",
      "source": [
        "!zip -r /content/DenseNet_model1_Potato_Based_Non_Augmented.zip /content/DenseNet_model1_Potato_Based_Non_Augmented"
      ],
      "metadata": {
        "id": "NrmYk1uTsTvp",
        "outputId": "aa6caf43-6fae-4dee-a754-d2be5e106a76",
        "colab": {
          "base_uri": "https://localhost:8080/"
        }
      },
      "execution_count": 19,
      "outputs": [
        {
          "output_type": "stream",
          "name": "stdout",
          "text": [
            "  adding: content/DenseNet_model1_Potato_Based_Non_Augmented/ (stored 0%)\n",
            "  adding: content/DenseNet_model1_Potato_Based_Non_Augmented/assets/ (stored 0%)\n",
            "  adding: content/DenseNet_model1_Potato_Based_Non_Augmented/fingerprint.pb (stored 0%)\n",
            "  adding: content/DenseNet_model1_Potato_Based_Non_Augmented/variables/ (stored 0%)\n",
            "  adding: content/DenseNet_model1_Potato_Based_Non_Augmented/variables/variables.data-00000-of-00001 (deflated 11%)\n",
            "  adding: content/DenseNet_model1_Potato_Based_Non_Augmented/variables/variables.index (deflated 79%)\n",
            "  adding: content/DenseNet_model1_Potato_Based_Non_Augmented/keras_metadata.pb (deflated 96%)\n",
            "  adding: content/DenseNet_model1_Potato_Based_Non_Augmented/saved_model.pb (deflated 92%)\n"
          ]
        }
      ]
    },
    {
      "cell_type": "markdown",
      "source": [
        "DenseNet Model 2"
      ],
      "metadata": {
        "id": "bTF03wgMpOV5"
      }
    },
    {
      "cell_type": "code",
      "source": [
        "# Difine the callbacks\n",
        "# Save the best model\n",
        "checkpoint_callback = ModelCheckpoint(filepath=\"DenseNet_model2_Potato_Based_Non_Augmented\", save_best_only=True, monitor=\"val_accuracy\", mode=\"max\", verbose=1)\n",
        "\n",
        "# Early stopping\n",
        "early_stopping_callback = EarlyStopping(monitor=\"val_accuracy\", mode=\"max\", patience=20, verbose=1, restore_best_weights=True)\n",
        "\n",
        "# Reduce learning rate\n",
        "reduce_lr_callback = ReduceLROnPlateau(monitor=\"val_loss\", factor=0.1, patience=5, verbose=1, mode=\"min\", min_delta=0.0001, cooldown=0, min_lr=0)\n",
        "\n",
        "# Callbacks list\n",
        "callbacks=[checkpoint_callback, early_stopping_callback, reduce_lr_callback]\n",
        "\n"
      ],
      "metadata": {
        "id": "QdxgWxwBpNaj"
      },
      "execution_count": 20,
      "outputs": []
    },
    {
      "cell_type": "code",
      "source": [
        "# Define DIY Model\n",
        "DenseNet_model_2 = tf.keras.models.Sequential([\n",
        "    # DenseNet121 Layer\n",
        "    DenseNet121(include_top=False,weights='imagenet',input_shape=(224, 224, 3)),\n",
        "    # Global Average Pooling Layer\n",
        "    tf.keras.layers.GlobalAveragePooling2D(),\n",
        "    # Drop Out Layer\n",
        "    tf.keras.layers.Dropout(0.2),\n",
        "    # 256 neuron hidden layer\n",
        "    tf.keras.layers.Dense(256, activation='relu'),\n",
        "    # Output\n",
        "    tf.keras.layers.Dense(3, activation='softmax') \n",
        "  ])\n",
        "\n",
        "\n",
        "# Compile Model\n",
        "DenseNet_model_2.compile(loss='categorical_crossentropy',optimizer=tf.keras.optimizers.Adam(), metrics=['accuracy']) \n",
        "\n",
        "# Model Summary\n",
        "DenseNet_model_2.summary()"
      ],
      "metadata": {
        "colab": {
          "base_uri": "https://localhost:8080/"
        },
        "id": "NJlbJvUVpN9Z",
        "outputId": "018b3a2c-13b2-4d0e-cac3-82ebce696973"
      },
      "execution_count": 21,
      "outputs": [
        {
          "output_type": "stream",
          "name": "stdout",
          "text": [
            "Model: \"sequential_1\"\n",
            "_________________________________________________________________\n",
            " Layer (type)                Output Shape              Param #   \n",
            "=================================================================\n",
            " densenet121 (Functional)    (None, 7, 7, 1024)        7037504   \n",
            "                                                                 \n",
            " global_average_pooling2d (G  (None, 1024)             0         \n",
            " lobalAveragePooling2D)                                          \n",
            "                                                                 \n",
            " dropout_1 (Dropout)         (None, 1024)              0         \n",
            "                                                                 \n",
            " dense_2 (Dense)             (None, 256)               262400    \n",
            "                                                                 \n",
            " dense_3 (Dense)             (None, 3)                 771       \n",
            "                                                                 \n",
            "=================================================================\n",
            "Total params: 7,300,675\n",
            "Trainable params: 7,217,027\n",
            "Non-trainable params: 83,648\n",
            "_________________________________________________________________\n"
          ]
        }
      ]
    },
    {
      "cell_type": "code",
      "source": [
        "# Define the number of epochs\n",
        "num_epochs = 100\n",
        "\n",
        "# Train the model\n",
        "history_DenseNet_model_2 = DenseNet_model_2.fit(train_generator, epochs=num_epochs, validation_data=validation_generator, callbacks=callbacks)"
      ],
      "metadata": {
        "colab": {
          "base_uri": "https://localhost:8080/"
        },
        "id": "v7jf4hARzw1y",
        "outputId": "0c703ff4-edb2-454f-9db1-3ac463731b5c"
      },
      "execution_count": 22,
      "outputs": [
        {
          "output_type": "stream",
          "name": "stdout",
          "text": [
            "Epoch 1/100\n",
            "296/296 [==============================] - ETA: 0s - loss: 0.1686 - accuracy: 0.9431\n",
            "Epoch 1: val_accuracy improved from -inf to 0.80721, saving model to DenseNet_model2_Potato_Based_Non_Augmented\n"
          ]
        },
        {
          "output_type": "stream",
          "name": "stderr",
          "text": [
            "WARNING:absl:Found untraced functions such as _jit_compiled_convolution_op, _jit_compiled_convolution_op, _jit_compiled_convolution_op, _jit_compiled_convolution_op, _jit_compiled_convolution_op while saving (showing 5 of 120). These functions will not be directly callable after loading.\n"
          ]
        },
        {
          "output_type": "stream",
          "name": "stdout",
          "text": [
            "\b\b\b\b\b\b\b\b\b\b\b\b\b\b\b\b\b\b\b\b\b\b\b\b\b\b\b\b\b\b\b\b\b\b\b\b\b\b\b\b\b\b\b\b\b\b\b\b\b\b\b\b\b\b\b\b\b\b\b\b\b\b\b\b\b\b\b\b\b\b\b\b\b\b\b\b\b\b\b\b\b\b\b\b\r296/296 [==============================] - 204s 459ms/step - loss: 0.1686 - accuracy: 0.9431 - val_loss: 0.9400 - val_accuracy: 0.8072 - lr: 0.0010\n",
            "Epoch 2/100\n",
            "296/296 [==============================] - ETA: 0s - loss: 0.0852 - accuracy: 0.9687\n",
            "Epoch 2: val_accuracy did not improve from 0.80721\n",
            "296/296 [==============================] - 72s 244ms/step - loss: 0.0852 - accuracy: 0.9687 - val_loss: 1.5914 - val_accuracy: 0.6241 - lr: 0.0010\n",
            "Epoch 3/100\n",
            "296/296 [==============================] - ETA: 0s - loss: 0.0880 - accuracy: 0.9722\n",
            "Epoch 3: val_accuracy improved from 0.80721 to 0.99584, saving model to DenseNet_model2_Potato_Based_Non_Augmented\n"
          ]
        },
        {
          "output_type": "stream",
          "name": "stderr",
          "text": [
            "WARNING:absl:Found untraced functions such as _jit_compiled_convolution_op, _jit_compiled_convolution_op, _jit_compiled_convolution_op, _jit_compiled_convolution_op, _jit_compiled_convolution_op while saving (showing 5 of 120). These functions will not be directly callable after loading.\n"
          ]
        },
        {
          "output_type": "stream",
          "name": "stdout",
          "text": [
            "\b\b\b\b\b\b\b\b\b\b\b\b\b\b\b\b\b\b\b\b\b\b\b\b\b\b\b\b\b\b\b\b\b\b\b\b\b\b\b\b\b\b\b\b\b\b\b\b\b\b\b\b\b\b\b\b\b\b\b\b\b\b\b\b\b\b\b\b\b\b\b\b\b\b\b\b\b\b\b\b\b\b\b\b\r296/296 [==============================] - 132s 447ms/step - loss: 0.0880 - accuracy: 0.9722 - val_loss: 0.0221 - val_accuracy: 0.9958 - lr: 0.0010\n",
            "Epoch 4/100\n",
            "296/296 [==============================] - ETA: 0s - loss: 0.0684 - accuracy: 0.9727\n",
            "Epoch 4: val_accuracy did not improve from 0.99584\n",
            "296/296 [==============================] - 72s 242ms/step - loss: 0.0684 - accuracy: 0.9727 - val_loss: 0.0619 - val_accuracy: 0.9716 - lr: 0.0010\n",
            "Epoch 5/100\n",
            "296/296 [==============================] - ETA: 0s - loss: 0.0550 - accuracy: 0.9770\n",
            "Epoch 5: val_accuracy did not improve from 0.99584\n",
            "296/296 [==============================] - 72s 244ms/step - loss: 0.0550 - accuracy: 0.9770 - val_loss: 0.4072 - val_accuracy: 0.8558 - lr: 0.0010\n",
            "Epoch 6/100\n",
            "296/296 [==============================] - ETA: 0s - loss: 0.0436 - accuracy: 0.9795\n",
            "Epoch 6: val_accuracy did not improve from 0.99584\n",
            "296/296 [==============================] - 72s 244ms/step - loss: 0.0436 - accuracy: 0.9795 - val_loss: 0.2011 - val_accuracy: 0.9161 - lr: 0.0010\n",
            "Epoch 7/100\n",
            "296/296 [==============================] - ETA: 0s - loss: 0.0708 - accuracy: 0.9699\n",
            "Epoch 7: val_accuracy did not improve from 0.99584\n",
            "296/296 [==============================] - 72s 244ms/step - loss: 0.0708 - accuracy: 0.9699 - val_loss: 0.1552 - val_accuracy: 0.9438 - lr: 0.0010\n",
            "Epoch 8/100\n",
            "296/296 [==============================] - ETA: 0s - loss: 0.0339 - accuracy: 0.9853\n",
            "Epoch 8: val_accuracy did not improve from 0.99584\n",
            "\n",
            "Epoch 8: ReduceLROnPlateau reducing learning rate to 0.00010000000474974513.\n",
            "296/296 [==============================] - 73s 246ms/step - loss: 0.0339 - accuracy: 0.9853 - val_loss: 1.0963 - val_accuracy: 0.8245 - lr: 0.0010\n",
            "Epoch 9/100\n",
            "296/296 [==============================] - ETA: 0s - loss: 0.0315 - accuracy: 0.9849\n",
            "Epoch 9: val_accuracy did not improve from 0.99584\n",
            "296/296 [==============================] - 72s 243ms/step - loss: 0.0315 - accuracy: 0.9849 - val_loss: 0.0114 - val_accuracy: 0.9945 - lr: 1.0000e-04\n",
            "Epoch 10/100\n",
            "296/296 [==============================] - ETA: 0s - loss: 0.0246 - accuracy: 0.9866\n",
            "Epoch 10: val_accuracy did not improve from 0.99584\n",
            "296/296 [==============================] - 72s 242ms/step - loss: 0.0246 - accuracy: 0.9866 - val_loss: 0.0102 - val_accuracy: 0.9951 - lr: 1.0000e-04\n",
            "Epoch 11/100\n",
            "296/296 [==============================] - ETA: 0s - loss: 0.0242 - accuracy: 0.9875\n",
            "Epoch 11: val_accuracy did not improve from 0.99584\n",
            "296/296 [==============================] - 72s 243ms/step - loss: 0.0242 - accuracy: 0.9875 - val_loss: 0.0085 - val_accuracy: 0.9958 - lr: 1.0000e-04\n",
            "Epoch 12/100\n",
            "296/296 [==============================] - ETA: 0s - loss: 0.0221 - accuracy: 0.9892\n",
            "Epoch 12: val_accuracy improved from 0.99584 to 0.99653, saving model to DenseNet_model2_Potato_Based_Non_Augmented\n"
          ]
        },
        {
          "output_type": "stream",
          "name": "stderr",
          "text": [
            "WARNING:absl:Found untraced functions such as _jit_compiled_convolution_op, _jit_compiled_convolution_op, _jit_compiled_convolution_op, _jit_compiled_convolution_op, _jit_compiled_convolution_op while saving (showing 5 of 120). These functions will not be directly callable after loading.\n"
          ]
        },
        {
          "output_type": "stream",
          "name": "stdout",
          "text": [
            "\b\b\b\b\b\b\b\b\b\b\b\b\b\b\b\b\b\b\b\b\b\b\b\b\b\b\b\b\b\b\b\b\b\b\b\b\b\b\b\b\b\b\b\b\b\b\b\b\b\b\b\b\b\b\b\b\b\b\b\b\b\b\b\b\b\b\b\b\b\b\b\b\b\b\b\b\b\b\b\b\b\b\b\b\r296/296 [==============================] - 132s 445ms/step - loss: 0.0221 - accuracy: 0.9892 - val_loss: 0.0078 - val_accuracy: 0.9965 - lr: 1.0000e-04\n",
            "Epoch 13/100\n",
            "296/296 [==============================] - ETA: 0s - loss: 0.0203 - accuracy: 0.9888\n",
            "Epoch 13: val_accuracy did not improve from 0.99653\n",
            "296/296 [==============================] - 72s 243ms/step - loss: 0.0203 - accuracy: 0.9888 - val_loss: 0.0079 - val_accuracy: 0.9965 - lr: 1.0000e-04\n",
            "Epoch 14/100\n",
            "296/296 [==============================] - ETA: 0s - loss: 0.0192 - accuracy: 0.9909\n",
            "Epoch 14: val_accuracy improved from 0.99653 to 0.99723, saving model to DenseNet_model2_Potato_Based_Non_Augmented\n"
          ]
        },
        {
          "output_type": "stream",
          "name": "stderr",
          "text": [
            "WARNING:absl:Found untraced functions such as _jit_compiled_convolution_op, _jit_compiled_convolution_op, _jit_compiled_convolution_op, _jit_compiled_convolution_op, _jit_compiled_convolution_op while saving (showing 5 of 120). These functions will not be directly callable after loading.\n"
          ]
        },
        {
          "output_type": "stream",
          "name": "stdout",
          "text": [
            "\b\b\b\b\b\b\b\b\b\b\b\b\b\b\b\b\b\b\b\b\b\b\b\b\b\b\b\b\b\b\b\b\b\b\b\b\b\b\b\b\b\b\b\b\b\b\b\b\b\b\b\b\b\b\b\b\b\b\b\b\b\b\b\b\b\b\b\b\b\b\b\b\b\b\b\b\b\b\b\b\b\b\b\b\r296/296 [==============================] - 132s 447ms/step - loss: 0.0192 - accuracy: 0.9909 - val_loss: 0.0063 - val_accuracy: 0.9972 - lr: 1.0000e-04\n",
            "Epoch 15/100\n",
            "296/296 [==============================] - ETA: 0s - loss: 0.0212 - accuracy: 0.9905\n",
            "Epoch 15: val_accuracy did not improve from 0.99723\n",
            "296/296 [==============================] - 73s 245ms/step - loss: 0.0212 - accuracy: 0.9905 - val_loss: 0.0072 - val_accuracy: 0.9972 - lr: 1.0000e-04\n",
            "Epoch 16/100\n",
            "296/296 [==============================] - ETA: 0s - loss: 0.0168 - accuracy: 0.9922\n",
            "Epoch 16: val_accuracy did not improve from 0.99723\n",
            "296/296 [==============================] - 72s 245ms/step - loss: 0.0168 - accuracy: 0.9922 - val_loss: 0.0083 - val_accuracy: 0.9958 - lr: 1.0000e-04\n",
            "Epoch 17/100\n",
            "296/296 [==============================] - ETA: 0s - loss: 0.0196 - accuracy: 0.9912\n",
            "Epoch 17: val_accuracy did not improve from 0.99723\n",
            "296/296 [==============================] - 73s 245ms/step - loss: 0.0196 - accuracy: 0.9912 - val_loss: 0.0120 - val_accuracy: 0.9958 - lr: 1.0000e-04\n",
            "Epoch 18/100\n",
            "296/296 [==============================] - ETA: 0s - loss: 0.0180 - accuracy: 0.9924\n",
            "Epoch 18: val_accuracy did not improve from 0.99723\n",
            "296/296 [==============================] - 72s 244ms/step - loss: 0.0180 - accuracy: 0.9924 - val_loss: 0.0078 - val_accuracy: 0.9965 - lr: 1.0000e-04\n",
            "Epoch 19/100\n",
            "296/296 [==============================] - ETA: 0s - loss: 0.0162 - accuracy: 0.9922\n",
            "Epoch 19: val_accuracy did not improve from 0.99723\n",
            "\n",
            "Epoch 19: ReduceLROnPlateau reducing learning rate to 1.0000000474974514e-05.\n",
            "296/296 [==============================] - 72s 242ms/step - loss: 0.0162 - accuracy: 0.9922 - val_loss: 0.0123 - val_accuracy: 0.9958 - lr: 1.0000e-04\n",
            "Epoch 20/100\n",
            "296/296 [==============================] - ETA: 0s - loss: 0.0115 - accuracy: 0.9949\n",
            "Epoch 20: val_accuracy did not improve from 0.99723\n",
            "296/296 [==============================] - 72s 244ms/step - loss: 0.0115 - accuracy: 0.9949 - val_loss: 0.0114 - val_accuracy: 0.9951 - lr: 1.0000e-05\n",
            "Epoch 21/100\n",
            "296/296 [==============================] - ETA: 0s - loss: 0.0107 - accuracy: 0.9954\n",
            "Epoch 21: val_accuracy did not improve from 0.99723\n",
            "296/296 [==============================] - 72s 242ms/step - loss: 0.0107 - accuracy: 0.9954 - val_loss: 0.0110 - val_accuracy: 0.9958 - lr: 1.0000e-05\n",
            "Epoch 22/100\n",
            "296/296 [==============================] - ETA: 0s - loss: 0.0113 - accuracy: 0.9953\n",
            "Epoch 22: val_accuracy did not improve from 0.99723\n",
            "296/296 [==============================] - 72s 244ms/step - loss: 0.0113 - accuracy: 0.9953 - val_loss: 0.0104 - val_accuracy: 0.9958 - lr: 1.0000e-05\n",
            "Epoch 23/100\n",
            "296/296 [==============================] - ETA: 0s - loss: 0.0150 - accuracy: 0.9953\n",
            "Epoch 23: val_accuracy did not improve from 0.99723\n",
            "296/296 [==============================] - 72s 244ms/step - loss: 0.0150 - accuracy: 0.9953 - val_loss: 0.0107 - val_accuracy: 0.9958 - lr: 1.0000e-05\n",
            "Epoch 24/100\n",
            "296/296 [==============================] - ETA: 0s - loss: 0.0106 - accuracy: 0.9951\n",
            "Epoch 24: val_accuracy did not improve from 0.99723\n",
            "\n",
            "Epoch 24: ReduceLROnPlateau reducing learning rate to 1.0000000656873453e-06.\n",
            "296/296 [==============================] - 74s 249ms/step - loss: 0.0106 - accuracy: 0.9951 - val_loss: 0.0111 - val_accuracy: 0.9958 - lr: 1.0000e-05\n",
            "Epoch 25/100\n",
            "296/296 [==============================] - ETA: 0s - loss: 0.0088 - accuracy: 0.9973\n",
            "Epoch 25: val_accuracy did not improve from 0.99723\n",
            "296/296 [==============================] - 73s 246ms/step - loss: 0.0088 - accuracy: 0.9973 - val_loss: 0.0111 - val_accuracy: 0.9958 - lr: 1.0000e-06\n",
            "Epoch 26/100\n",
            "296/296 [==============================] - ETA: 0s - loss: 0.0086 - accuracy: 0.9973\n",
            "Epoch 26: val_accuracy did not improve from 0.99723\n",
            "296/296 [==============================] - 73s 246ms/step - loss: 0.0086 - accuracy: 0.9973 - val_loss: 0.0111 - val_accuracy: 0.9965 - lr: 1.0000e-06\n",
            "Epoch 27/100\n",
            "296/296 [==============================] - ETA: 0s - loss: 0.0113 - accuracy: 0.9959\n",
            "Epoch 27: val_accuracy did not improve from 0.99723\n",
            "296/296 [==============================] - 73s 246ms/step - loss: 0.0113 - accuracy: 0.9959 - val_loss: 0.0110 - val_accuracy: 0.9958 - lr: 1.0000e-06\n",
            "Epoch 28/100\n",
            "296/296 [==============================] - ETA: 0s - loss: 0.0094 - accuracy: 0.9961\n",
            "Epoch 28: val_accuracy did not improve from 0.99723\n",
            "296/296 [==============================] - 72s 245ms/step - loss: 0.0094 - accuracy: 0.9961 - val_loss: 0.0110 - val_accuracy: 0.9958 - lr: 1.0000e-06\n",
            "Epoch 29/100\n",
            "296/296 [==============================] - ETA: 0s - loss: 0.0089 - accuracy: 0.9973\n",
            "Epoch 29: val_accuracy did not improve from 0.99723\n",
            "\n",
            "Epoch 29: ReduceLROnPlateau reducing learning rate to 1.0000001111620805e-07.\n",
            "296/296 [==============================] - 72s 244ms/step - loss: 0.0089 - accuracy: 0.9973 - val_loss: 0.0111 - val_accuracy: 0.9958 - lr: 1.0000e-06\n",
            "Epoch 30/100\n",
            "296/296 [==============================] - ETA: 0s - loss: 0.0093 - accuracy: 0.9966\n",
            "Epoch 30: val_accuracy did not improve from 0.99723\n",
            "296/296 [==============================] - 72s 245ms/step - loss: 0.0093 - accuracy: 0.9966 - val_loss: 0.0112 - val_accuracy: 0.9965 - lr: 1.0000e-07\n",
            "Epoch 31/100\n",
            "296/296 [==============================] - ETA: 0s - loss: 0.0094 - accuracy: 0.9966\n",
            "Epoch 31: val_accuracy did not improve from 0.99723\n",
            "296/296 [==============================] - 73s 246ms/step - loss: 0.0094 - accuracy: 0.9966 - val_loss: 0.0111 - val_accuracy: 0.9958 - lr: 1.0000e-07\n",
            "Epoch 32/100\n",
            "296/296 [==============================] - ETA: 0s - loss: 0.0095 - accuracy: 0.9958\n",
            "Epoch 32: val_accuracy did not improve from 0.99723\n",
            "296/296 [==============================] - 73s 245ms/step - loss: 0.0095 - accuracy: 0.9958 - val_loss: 0.0112 - val_accuracy: 0.9965 - lr: 1.0000e-07\n",
            "Epoch 33/100\n",
            "296/296 [==============================] - ETA: 0s - loss: 0.0093 - accuracy: 0.9961\n",
            "Epoch 33: val_accuracy did not improve from 0.99723\n",
            "296/296 [==============================] - 72s 245ms/step - loss: 0.0093 - accuracy: 0.9961 - val_loss: 0.0112 - val_accuracy: 0.9965 - lr: 1.0000e-07\n",
            "Epoch 34/100\n",
            "296/296 [==============================] - ETA: 0s - loss: 0.0081 - accuracy: 0.9971\n",
            "Epoch 34: val_accuracy did not improve from 0.99723\n",
            "Restoring model weights from the end of the best epoch: 14.\n",
            "\n",
            "Epoch 34: ReduceLROnPlateau reducing learning rate to 1.000000082740371e-08.\n",
            "296/296 [==============================] - 73s 247ms/step - loss: 0.0081 - accuracy: 0.9971 - val_loss: 0.0113 - val_accuracy: 0.9965 - lr: 1.0000e-07\n",
            "Epoch 34: early stopping\n"
          ]
        }
      ]
    },
    {
      "cell_type": "code",
      "source": [
        "#-----------------------------------------------------------\n",
        "# Retrieve a list of list results on training and test data\n",
        "# sets for each training epoch\n",
        "#-----------------------------------------------------------\n",
        "acc      = history_DenseNet_model_2.history['accuracy' ]\n",
        "val_acc  = history_DenseNet_model_2.history['val_accuracy' ]\n",
        "loss     = history_DenseNet_model_2.history['loss' ]\n",
        "val_loss = history_DenseNet_model_2.history['val_loss' ]\n",
        "\n",
        "epochs   = range(len(acc)) # Get number of epochs\n",
        "\n",
        "#------------------------------------------------\n",
        "# Plot training and validation accuracy per epoch\n",
        "#------------------------------------------------\n",
        "plt.plot  (epochs, acc )\n",
        "plt.plot  (epochs, val_acc )\n",
        "plt.title ('Training and validation accuracy DIY Model')\n",
        "plt.figure()\n",
        "\n",
        "#------------------------------------------------\n",
        "# Plot training and validation loss per epoch\n",
        "#------------------------------------------------\n",
        "plt.plot  (epochs, loss)\n",
        "plt.plot  (epochs, val_loss)\n",
        "plt.title ('Training and validation loss DIY Model')"
      ],
      "metadata": {
        "colab": {
          "base_uri": "https://localhost:8080/",
          "height": 904
        },
        "id": "KB35SpQb-PL7",
        "outputId": "8cab2d12-79e6-4ca5-f309-4430ea77012d"
      },
      "execution_count": 24,
      "outputs": [
        {
          "output_type": "execute_result",
          "data": {
            "text/plain": [
              "Text(0.5, 1.0, 'Training and validation loss DIY Model')"
            ]
          },
          "metadata": {},
          "execution_count": 24
        },
        {
          "output_type": "display_data",
          "data": {
            "text/plain": [
              "<Figure size 640x480 with 1 Axes>"
            ],
            "image/png": "[encoded data removed]"
          },
          "metadata": {}
        },
        {
          "output_type": "display_data",
          "data": {
            "text/plain": [
              "<Figure size 640x480 with 1 Axes>"
            ],
            "image/png": "[encoded data removed]"
          },
          "metadata": {}
        }
      ]
    },
    {
      "cell_type": "code",
      "source": [
        "!zip -r /content/DenseNet_model2_Potato_Based_Non_Augmented.zip /content/DenseNet_model2_Potato_Based_Non_Augmented"
      ],
      "metadata": {
        "id": "dyO-oTxqyTri",
        "outputId": "e90b6c04-3079-480c-dd05-fb5eaaa2ab7e",
        "colab": {
          "base_uri": "https://localhost:8080/"
        }
      },
      "execution_count": 25,
      "outputs": [
        {
          "output_type": "stream",
          "name": "stdout",
          "text": [
            "  adding: content/DenseNet_model2_Potato_Based_Non_Augmented/ (stored 0%)\n",
            "  adding: content/DenseNet_model2_Potato_Based_Non_Augmented/assets/ (stored 0%)\n",
            "  adding: content/DenseNet_model2_Potato_Based_Non_Augmented/fingerprint.pb (stored 0%)\n",
            "  adding: content/DenseNet_model2_Potato_Based_Non_Augmented/variables/ (stored 0%)\n",
            "  adding: content/DenseNet_model2_Potato_Based_Non_Augmented/variables/variables.data-00000-of-00001 (deflated 11%)\n",
            "  adding: content/DenseNet_model2_Potato_Based_Non_Augmented/variables/variables.index (deflated 79%)\n",
            "  adding: content/DenseNet_model2_Potato_Based_Non_Augmented/keras_metadata.pb (deflated 96%)\n",
            "  adding: content/DenseNet_model2_Potato_Based_Non_Augmented/saved_model.pb (deflated 92%)\n"
          ]
        }
      ]
    }
  ]
}