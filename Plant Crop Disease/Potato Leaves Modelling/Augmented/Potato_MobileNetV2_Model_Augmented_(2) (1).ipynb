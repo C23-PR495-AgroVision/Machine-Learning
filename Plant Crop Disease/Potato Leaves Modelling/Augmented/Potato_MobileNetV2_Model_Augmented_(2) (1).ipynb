{
  "nbformat": 4,
  "nbformat_minor": 0,
  "metadata": {
    "colab": {
      "provenance": [],
      "gpuType": "T4"
    },
    "kernelspec": {
      "name": "python3",
      "display_name": "Python 3"
    },
    "language_info": {
      "name": "python"
    },
    "accelerator": "GPU"
  },
  "cells": [
    {
      "cell_type": "code",
      "execution_count": 2,
      "metadata": {
        "colab": {
          "base_uri": "https://localhost:8080/"
        },
        "id": "ImNggIT_pGA_",
        "outputId": "54b8a72a-5c7e-4f7c-bd02-a5be36ab22a4"
      },
      "outputs": [
        {
          "output_type": "stream",
          "name": "stdout",
          "text": [
            "Looking in indexes: https://pypi.org/simple, https://us-python.pkg.dev/colab-wheels/public/simple/\n",
            "Requirement already satisfied: matplotlib in /usr/local/lib/python3.10/dist-packages (3.7.1)\n",
            "Requirement already satisfied: contourpy>=1.0.1 in /usr/local/lib/python3.10/dist-packages (from matplotlib) (1.0.7)\n",
            "Requirement already satisfied: cycler>=0.10 in /usr/local/lib/python3.10/dist-packages (from matplotlib) (0.11.0)\n",
            "Requirement already satisfied: fonttools>=4.22.0 in /usr/local/lib/python3.10/dist-packages (from matplotlib) (4.39.3)\n",
            "Requirement already satisfied: kiwisolver>=1.0.1 in /usr/local/lib/python3.10/dist-packages (from matplotlib) (1.4.4)\n",
            "Requirement already satisfied: numpy>=1.20 in /usr/local/lib/python3.10/dist-packages (from matplotlib) (1.22.4)\n",
            "Requirement already satisfied: packaging>=20.0 in /usr/local/lib/python3.10/dist-packages (from matplotlib) (23.1)\n",
            "Requirement already satisfied: pillow>=6.2.0 in /usr/local/lib/python3.10/dist-packages (from matplotlib) (8.4.0)\n",
            "Requirement already satisfied: pyparsing>=2.3.1 in /usr/local/lib/python3.10/dist-packages (from matplotlib) (3.0.9)\n",
            "Requirement already satisfied: python-dateutil>=2.7 in /usr/local/lib/python3.10/dist-packages (from matplotlib) (2.8.2)\n",
            "Requirement already satisfied: six>=1.5 in /usr/local/lib/python3.10/dist-packages (from python-dateutil>=2.7->matplotlib) (1.16.0)\n"
          ]
        }
      ],
      "source": [
        "\n",
        "pip install matplotlib"
      ]
    },
    {
      "cell_type": "code",
      "source": [
        "pip install opendatasets"
      ],
      "metadata": {
        "colab": {
          "base_uri": "https://localhost:8080/"
        },
        "id": "53t1FZpjpje3",
        "outputId": "5130b0a6-2514-43d1-f4ae-e72158b0235e"
      },
      "execution_count": 1,
      "outputs": [
        {
          "output_type": "stream",
          "name": "stdout",
          "text": [
            "Looking in indexes: https://pypi.org/simple, https://us-python.pkg.dev/colab-wheels/public/simple/\n",
            "Collecting opendatasets\n",
            "  Downloading opendatasets-0.1.22-py3-none-any.whl (15 kB)\n",
            "Requirement already satisfied: tqdm in /usr/local/lib/python3.10/dist-packages (from opendatasets) (4.65.0)\n",
            "Requirement already satisfied: kaggle in /usr/local/lib/python3.10/dist-packages (from opendatasets) (1.5.13)\n",
            "Requirement already satisfied: click in /usr/local/lib/python3.10/dist-packages (from opendatasets) (8.1.3)\n",
            "Requirement already satisfied: six>=1.10 in /usr/local/lib/python3.10/dist-packages (from kaggle->opendatasets) (1.16.0)\n",
            "Requirement already satisfied: certifi in /usr/local/lib/python3.10/dist-packages (from kaggle->opendatasets) (2022.12.7)\n",
            "Requirement already satisfied: python-dateutil in /usr/local/lib/python3.10/dist-packages (from kaggle->opendatasets) (2.8.2)\n",
            "Requirement already satisfied: requests in /usr/local/lib/python3.10/dist-packages (from kaggle->opendatasets) (2.27.1)\n",
            "Requirement already satisfied: python-slugify in /usr/local/lib/python3.10/dist-packages (from kaggle->opendatasets) (8.0.1)\n",
            "Requirement already satisfied: urllib3 in /usr/local/lib/python3.10/dist-packages (from kaggle->opendatasets) (1.26.15)\n",
            "Requirement already satisfied: text-unidecode>=1.3 in /usr/local/lib/python3.10/dist-packages (from python-slugify->kaggle->opendatasets) (1.3)\n",
            "Requirement already satisfied: charset-normalizer~=2.0.0 in /usr/local/lib/python3.10/dist-packages (from requests->kaggle->opendatasets) (2.0.12)\n",
            "Requirement already satisfied: idna<4,>=2.5 in /usr/local/lib/python3.10/dist-packages (from requests->kaggle->opendatasets) (3.4)\n",
            "Installing collected packages: opendatasets\n",
            "Successfully installed opendatasets-0.1.22\n"
          ]
        }
      ]
    },
    {
      "cell_type": "code",
      "source": [
        "# Library to dataset\n",
        "import opendatasets as od\n",
        "import os\n",
        "import zipfile\n",
        "import numpy as np\n",
        "\n",
        "# Surpress Warnings\n",
        "import warnings\n",
        "warnings.filterwarnings('ignore')\n",
        "os.environ['TF_CPP_MIN_LOG_LEVEL'] = '3' \n",
        "# library visualization\n",
        "import matplotlib.pyplot as plt\n",
        "\n",
        "# Library Tensorflow\n",
        "import tensorflow as tf\n",
        "from tensorflow import keras\n",
        "from tensorflow.keras.preprocessing.image import ImageDataGenerator\n",
        "from tensorflow.keras.callbacks import ModelCheckpoint, EarlyStopping, ReduceLROnPlateau\n",
        "from tensorflow.keras.applications.densenet import DenseNet121\n",
        "from tensorflow.keras.applications.xception import Xception\n",
        "from tensorflow.keras.applications.mobilenet_v2 import MobileNetV2\n",
        "\n",
        "# Others\n",
        "import shutil\n",
        "import random"
      ],
      "metadata": {
        "id": "nJikACUcpjrM"
      },
      "execution_count": 3,
      "outputs": []
    },
    {
      "cell_type": "markdown",
      "source": [],
      "metadata": {
        "id": "87TjSU_wppGe"
      }
    },
    {
      "cell_type": "code",
      "source": [
        "# Download dataset\n",
        "od.download('https://www.kaggle.com/datasets/faudyanurul/potato')"
      ],
      "metadata": {
        "colab": {
          "base_uri": "https://localhost:8080/"
        },
        "id": "r7ZNuTqcpqNA",
        "outputId": "49344473-bfcf-46d3-f268-74bc33f02f11"
      },
      "execution_count": 4,
      "outputs": [
        {
          "output_type": "stream",
          "name": "stdout",
          "text": [
            "Please provide your Kaggle credentials to download this dataset. Learn more: http://bit.ly/kaggle-creds\n",
            "Your Kaggle username: faudyanurul\n",
            "Your Kaggle Key: ··········\n",
            "Downloading potato.zip to ./potato\n"
          ]
        },
        {
          "output_type": "stream",
          "name": "stderr",
          "text": [
            "100%|██████████| 185M/185M [00:11<00:00, 16.6MB/s]\n"
          ]
        },
        {
          "output_type": "stream",
          "name": "stdout",
          "text": [
            "\n"
          ]
        }
      ]
    },
    {
      "cell_type": "code",
      "source": [
        "# Load dataset\n",
        "print(\"==========================Training Data====================\")\n",
        "train_data = tf.keras.preprocessing.image_dataset_from_directory(\n",
        "    \"potato/Potato/train\",\n",
        "    label_mode=\"categorical\",\n",
        "    class_names= ['Potato healthy', 'Potato leaf early blight', 'Potato leaf late blight'],\n",
        "    color_mode=\"rgb\",\n",
        "    batch_size=1,\n",
        "    image_size=(256, 256),\n",
        "    shuffle=True,\n",
        "    seed=123\n",
        ")\n",
        "print(\"==========================Validation Data====================\")\n",
        "val_data = tf.keras.preprocessing.image_dataset_from_directory(\n",
        "    \"potato/Potato/valid\",\n",
        "    label_mode=\"categorical\",\n",
        "    class_names= ['Potato healthy', 'Potato leaf early blight', 'Potato leaf late blight'],\n",
        "    color_mode=\"rgb\",\n",
        "    batch_size=1,\n",
        "    image_size=(256, 256),\n",
        "    shuffle=True,\n",
        "    seed=123\n",
        ")"
      ],
      "metadata": {
        "colab": {
          "base_uri": "https://localhost:8080/"
        },
        "id": "XOU-wFMvpuiD",
        "outputId": "e5dbf720-a47b-401c-9526-9fa262d0deff"
      },
      "execution_count": 5,
      "outputs": [
        {
          "output_type": "stream",
          "name": "stdout",
          "text": [
            "==========================Training Data====================\n",
            "Found 5907 files belonging to 3 classes.\n",
            "==========================Validation Data====================\n",
            "Found 1442 files belonging to 3 classes.\n"
          ]
        }
      ]
    },
    {
      "cell_type": "code",
      "source": [
        "# All images will be rescaled by 1./255.and augmented\n",
        "train_datagen = ImageDataGenerator(rescale = 1.0/256.,\n",
        "                                   rotation_range=40,\n",
        "                                   width_shift_range=0.2,\n",
        "                                   height_shift_range=0.2,\n",
        "                                   shear_range=0.2,\n",
        "                                   zoom_range=0.2,\n",
        "                                   horizontal_flip=True,\n",
        "                                   fill_mode='nearest')\n",
        "\n",
        "test_datagen  = ImageDataGenerator(rescale = 1.0/256.)\n",
        "\n",
        "# --------------------\n",
        "# Flow training images in batches of 20 using train_datagen generator\n",
        "# --------------------\n",
        "train_generator = train_datagen.flow_from_directory(\"potato/Potato/train\",\n",
        "                                                    batch_size=20,\n",
        "                                                    class_mode='categorical',\n",
        "                                                    target_size=(224, 224))     \n",
        "# --------------------\n",
        "# Flow validation images in batches of 20 using test_datagen generator\n",
        "# --------------------\n",
        "validation_generator =  test_datagen.flow_from_directory(\"potato/Potato/valid\",\n",
        "                                                         batch_size=20,\n",
        "                                                         class_mode  = 'categorical',\n",
        "                                                         target_size = (224, 224))\n"
      ],
      "metadata": {
        "colab": {
          "base_uri": "https://localhost:8080/"
        },
        "id": "3rHGgCZJpun2",
        "outputId": "783aa6fc-a5fc-4d6a-9f75-5be78851a9c2"
      },
      "execution_count": 6,
      "outputs": [
        {
          "output_type": "stream",
          "name": "stdout",
          "text": [
            "Found 5907 images belonging to 3 classes.\n",
            "Found 1442 images belonging to 3 classes.\n"
          ]
        }
      ]
    },
    {
      "cell_type": "markdown",
      "source": [],
      "metadata": {
        "id": "M1s1McX9p4m7"
      }
    },
    {
      "cell_type": "code",
      "source": [
        "# Check GPU\n",
        "!nvidia-smi"
      ],
      "metadata": {
        "colab": {
          "base_uri": "https://localhost:8080/"
        },
        "id": "wWvnywwsp4vc",
        "outputId": "e3a6efd8-b2e2-4ab4-8111-345cf70e53f8"
      },
      "execution_count": 7,
      "outputs": [
        {
          "output_type": "stream",
          "name": "stdout",
          "text": [
            "Wed Jun  7 02:49:51 2023       \n",
            "+-----------------------------------------------------------------------------+\n",
            "| NVIDIA-SMI 525.85.12    Driver Version: 525.85.12    CUDA Version: 12.0     |\n",
            "|-------------------------------+----------------------+----------------------+\n",
            "| GPU  Name        Persistence-M| Bus-Id        Disp.A | Volatile Uncorr. ECC |\n",
            "| Fan  Temp  Perf  Pwr:Usage/Cap|         Memory-Usage | GPU-Util  Compute M. |\n",
            "|                               |                      |               MIG M. |\n",
            "|===============================+======================+======================|\n",
            "|   0  Tesla T4            Off  | 00000000:00:04.0 Off |                    0 |\n",
            "| N/A   53C    P0    28W /  70W |    389MiB / 15360MiB |      0%      Default |\n",
            "|                               |                      |                  N/A |\n",
            "+-------------------------------+----------------------+----------------------+\n",
            "                                                                               \n",
            "+-----------------------------------------------------------------------------+\n",
            "| Processes:                                                                  |\n",
            "|  GPU   GI   CI        PID   Type   Process name                  GPU Memory |\n",
            "|        ID   ID                                                   Usage      |\n",
            "|=============================================================================|\n",
            "+-----------------------------------------------------------------------------+\n"
          ]
        }
      ]
    },
    {
      "cell_type": "code",
      "source": [
        "# Lis physical devices\n",
        "devices = tf.config.experimental.list_physical_devices(\"GPU\")\n",
        "devices"
      ],
      "metadata": {
        "colab": {
          "base_uri": "https://localhost:8080/"
        },
        "id": "q8TQMCAQp4yt",
        "outputId": "e4924917-746f-4d9c-b1a8-f98007792cd4"
      },
      "execution_count": 8,
      "outputs": [
        {
          "output_type": "execute_result",
          "data": {
            "text/plain": [
              "[PhysicalDevice(name='/physical_device:GPU:0', device_type='GPU')]"
            ]
          },
          "metadata": {},
          "execution_count": 8
        }
      ]
    },
    {
      "cell_type": "code",
      "source": [
        "# Define the GPU strategy\n",
        "mirrored_strategy = tf.distribute.MirroredStrategy(devices=[\"/gpu:0\"])"
      ],
      "metadata": {
        "id": "L0UFCEn5p4-h"
      },
      "execution_count": 9,
      "outputs": []
    },
    {
      "cell_type": "markdown",
      "source": [
        "MobileNetV2 Model 1"
      ],
      "metadata": {
        "id": "y4CwhqPop9qk"
      }
    },
    {
      "cell_type": "code",
      "source": [
        "# Difine the callbacks\n",
        "# Save the best model\n",
        "checkpoint_callback = ModelCheckpoint(filepath=\"Potato_MobileNetV2_model1_Based_Augmented\", save_best_only=True, monitor=\"val_accuracy\", mode=\"max\", verbose=1)\n",
        "\n",
        "# Early stopping\n",
        "early_stopping_callback = EarlyStopping(monitor=\"val_accuracy\", mode=\"max\", patience=20, verbose=1, restore_best_weights=True)\n",
        "\n",
        "# Reduce learning rate\n",
        "reduce_lr_callback = ReduceLROnPlateau(monitor=\"val_loss\", factor=0.1, patience=5, verbose=1, mode=\"min\", min_delta=0.0001, cooldown=0, min_lr=0)\n",
        "\n",
        "# Callbacks list\n",
        "callbacks=[checkpoint_callback, early_stopping_callback, reduce_lr_callback]"
      ],
      "metadata": {
        "id": "ekrKhafJp-9L"
      },
      "execution_count": null,
      "outputs": []
    },
    {
      "cell_type": "code",
      "source": [
        "# Define DIY Model\n",
        "MobileNetV2_model = tf.keras.models.Sequential([\n",
        "    # MobileNetV2 Layer\n",
        "    MobileNetV2(include_top=False,weights='imagenet',input_shape=(224, 224, 3)),\n",
        "    # Global Max Pooling Layer\n",
        "    tf.keras.layers.GlobalMaxPooling2D(),\n",
        "    # Drop Out Layer\n",
        "    tf.keras.layers.Dropout(0.2),\n",
        "    # 256 neuron hidden layer\n",
        "    tf.keras.layers.Dense(256, activation='relu'),\n",
        "    # Output\n",
        "    tf.keras.layers.Dense(3, activation='softmax') \n",
        "  ])\n",
        "\n",
        "\n",
        "# Compile Model\n",
        "MobileNetV2_model.compile(loss='categorical_crossentropy',optimizer=tf.keras.optimizers.Adam(), metrics=['accuracy']) \n",
        "\n",
        "# Model Summary\n",
        "MobileNetV2_model.summary()"
      ],
      "metadata": {
        "colab": {
          "base_uri": "https://localhost:8080/"
        },
        "id": "5QC797WcqFBU",
        "outputId": "c722922f-4482-47fa-f6ec-1b4102e7dad1"
      },
      "execution_count": null,
      "outputs": [
        {
          "output_type": "stream",
          "name": "stdout",
          "text": [
            "Downloading data from https://storage.googleapis.com/tensorflow/keras-applications/mobilenet_v2/mobilenet_v2_weights_tf_dim_ordering_tf_kernels_1.0_224_no_top.h5\n",
            "9406464/9406464 [==============================] - 1s 0us/step\n",
            "Model: \"sequential\"\n",
            "_________________________________________________________________\n",
            " Layer (type)                Output Shape              Param #   \n",
            "=================================================================\n",
            " mobilenetv2_1.00_224 (Funct  (None, 7, 7, 1280)       2257984   \n",
            " ional)                                                          \n",
            "                                                                 \n",
            " global_max_pooling2d (Globa  (None, 1280)             0         \n",
            " lMaxPooling2D)                                                  \n",
            "                                                                 \n",
            " dropout (Dropout)           (None, 1280)              0         \n",
            "                                                                 \n",
            " dense (Dense)               (None, 256)               327936    \n",
            "                                                                 \n",
            " dense_1 (Dense)             (None, 3)                 771       \n",
            "                                                                 \n",
            "=================================================================\n",
            "Total params: 2,586,691\n",
            "Trainable params: 2,552,579\n",
            "Non-trainable params: 34,112\n",
            "_________________________________________________________________\n"
          ]
        }
      ]
    },
    {
      "cell_type": "code",
      "source": [
        "# Define the number of epochs\n",
        "num_epochs = 100\n",
        "\n",
        "# Train the model\n",
        "history_MobileNetV2_model_1 = MobileNetV2_model.fit(train_generator, epochs=num_epochs, validation_data=validation_generator, callbacks=callbacks)"
      ],
      "metadata": {
        "colab": {
          "base_uri": "https://localhost:8080/"
        },
        "id": "N-nTeaNrqL7H",
        "outputId": "e65ffeac-f39e-49e5-fb59-4cb1460305ba"
      },
      "execution_count": null,
      "outputs": [
        {
          "output_type": "stream",
          "name": "stdout",
          "text": [
            "Epoch 1/100\n",
            "296/296 [==============================] - ETA: 0s - loss: 0.3880 - accuracy: 0.9250\n",
            "Epoch 1: val_accuracy improved from -inf to 0.31692, saving model to Potato_MobileNetV2_model1_Based_Augmented\n"
          ]
        },
        {
          "output_type": "stream",
          "name": "stderr",
          "text": [
            "WARNING:absl:Function `_wrapped_model` contains input name(s) mobilenetv2_1.00_224_input with unsupported characters which will be renamed to mobilenetv2_1_00_224_input in the SavedModel.\n",
            "WARNING:absl:`mobilenetv2_1.00_224_input` is not a valid tf.function parameter name. Sanitizing to `mobilenetv2_1_00_224_input`.\n",
            "WARNING:absl:`mobilenetv2_1.00_224_input` is not a valid tf.function parameter name. Sanitizing to `mobilenetv2_1_00_224_input`.\n",
            "WARNING:absl:`mobilenetv2_1.00_224_input` is not a valid tf.function parameter name. Sanitizing to `mobilenetv2_1_00_224_input`.\n",
            "WARNING:absl:Found untraced functions such as _jit_compiled_convolution_op, _jit_compiled_convolution_op, _jit_compiled_convolution_op, _jit_compiled_convolution_op, _jit_compiled_convolution_op while saving (showing 5 of 52). These functions will not be directly callable after loading.\n"
          ]
        },
        {
          "output_type": "stream",
          "name": "stdout",
          "text": [
            "\b\b\b\b\b\b\b\b\b\b\b\b\b\b\b\b\b\b\b\b\b\b\b\b\b\b\b\b\b\b\b\b\b\b\b\b\b\b\b\b\b\b\b\b\b\b\b\b\b\b\b\b\b\b\b\b\b\b\b\b\b\b\b\b\b\b\b\b\b\b\b\b\b\b\b\b\b\b\b\b\b\b\b\b\r296/296 [==============================] - 183s 457ms/step - loss: 0.3880 - accuracy: 0.9250 - val_loss: 11.6328 - val_accuracy: 0.3169 - lr: 0.0010\n",
            "Epoch 2/100\n",
            "296/296 [==============================] - ETA: 0s - loss: 0.1318 - accuracy: 0.9565\n",
            "Epoch 2: val_accuracy improved from 0.31692 to 0.32732, saving model to Potato_MobileNetV2_model1_Based_Augmented\n"
          ]
        },
        {
          "output_type": "stream",
          "name": "stderr",
          "text": [
            "WARNING:absl:Function `_wrapped_model` contains input name(s) mobilenetv2_1.00_224_input with unsupported characters which will be renamed to mobilenetv2_1_00_224_input in the SavedModel.\n",
            "WARNING:absl:`mobilenetv2_1.00_224_input` is not a valid tf.function parameter name. Sanitizing to `mobilenetv2_1_00_224_input`.\n",
            "WARNING:absl:`mobilenetv2_1.00_224_input` is not a valid tf.function parameter name. Sanitizing to `mobilenetv2_1_00_224_input`.\n",
            "WARNING:absl:Found untraced functions such as _jit_compiled_convolution_op, _jit_compiled_convolution_op, _jit_compiled_convolution_op, _jit_compiled_convolution_op, _jit_compiled_convolution_op while saving (showing 5 of 52). These functions will not be directly callable after loading.\n"
          ]
        },
        {
          "output_type": "stream",
          "name": "stdout",
          "text": [
            "\b\b\b\b\b\b\b\b\b\b\b\b\b\b\b\b\b\b\b\b\b\b\b\b\b\b\b\b\b\b\b\b\b\b\b\b\b\b\b\b\b\b\b\b\b\b\b\b\b\b\b\b\b\b\b\b\b\b\b\b\b\b\b\b\b\b\b\b\b\b\b\b\b\b\b\b\b\b\b\b\b\b\b\b\r296/296 [==============================] - 129s 438ms/step - loss: 0.1318 - accuracy: 0.9565 - val_loss: 6.3826 - val_accuracy: 0.3273 - lr: 0.0010\n",
            "Epoch 3/100\n",
            "296/296 [==============================] - ETA: 0s - loss: 0.0694 - accuracy: 0.9716\n",
            "Epoch 3: val_accuracy improved from 0.32732 to 0.33634, saving model to Potato_MobileNetV2_model1_Based_Augmented\n"
          ]
        },
        {
          "output_type": "stream",
          "name": "stderr",
          "text": [
            "WARNING:absl:Function `_wrapped_model` contains input name(s) mobilenetv2_1.00_224_input with unsupported characters which will be renamed to mobilenetv2_1_00_224_input in the SavedModel.\n",
            "WARNING:absl:Found untraced functions such as _jit_compiled_convolution_op, _jit_compiled_convolution_op, _jit_compiled_convolution_op, _jit_compiled_convolution_op, _jit_compiled_convolution_op while saving (showing 5 of 52). These functions will not be directly callable after loading.\n"
          ]
        },
        {
          "output_type": "stream",
          "name": "stdout",
          "text": [
            "\b\b\b\b\b\b\b\b\b\b\b\b\b\b\b\b\b\b\b\b\b\b\b\b\b\b\b\b\b\b\b\b\b\b\b\b\b\b\b\b\b\b\b\b\b\b\b\b\b\b\b\b\b\b\b\b\b\b\b\b\b\b\b\b\b\b\b\b\b\b\b\b\b\b\b\b\b\b\b\b\b\b\b\b\r296/296 [==============================] - 129s 437ms/step - loss: 0.0694 - accuracy: 0.9716 - val_loss: 8.6796 - val_accuracy: 0.3363 - lr: 0.0010\n",
            "Epoch 4/100\n",
            "296/296 [==============================] - ETA: 0s - loss: 0.0958 - accuracy: 0.9641\n",
            "Epoch 4: val_accuracy improved from 0.33634 to 0.77739, saving model to Potato_MobileNetV2_model1_Based_Augmented\n"
          ]
        },
        {
          "output_type": "stream",
          "name": "stderr",
          "text": [
            "WARNING:absl:Function `_wrapped_model` contains input name(s) mobilenetv2_1.00_224_input with unsupported characters which will be renamed to mobilenetv2_1_00_224_input in the SavedModel.\n",
            "WARNING:absl:Found untraced functions such as _jit_compiled_convolution_op, _jit_compiled_convolution_op, _jit_compiled_convolution_op, _jit_compiled_convolution_op, _jit_compiled_convolution_op while saving (showing 5 of 52). These functions will not be directly callable after loading.\n"
          ]
        },
        {
          "output_type": "stream",
          "name": "stdout",
          "text": [
            "\b\b\b\b\b\b\b\b\b\b\b\b\b\b\b\b\b\b\b\b\b\b\b\b\b\b\b\b\b\b\b\b\b\b\b\b\b\b\b\b\b\b\b\b\b\b\b\b\b\b\b\b\b\b\b\b\b\b\b\b\b\b\b\b\b\b\b\b\b\b\b\b\b\b\b\b\b\b\b\b\b\b\b\b\r296/296 [==============================] - 127s 430ms/step - loss: 0.0958 - accuracy: 0.9641 - val_loss: 0.5963 - val_accuracy: 0.7774 - lr: 0.0010\n",
            "Epoch 5/100\n",
            "296/296 [==============================] - ETA: 0s - loss: 0.0642 - accuracy: 0.9751\n",
            "Epoch 5: val_accuracy did not improve from 0.77739\n",
            "296/296 [==============================] - 102s 345ms/step - loss: 0.0642 - accuracy: 0.9751 - val_loss: 1.6515 - val_accuracy: 0.6782 - lr: 0.0010\n",
            "Epoch 6/100\n",
            "296/296 [==============================] - ETA: 0s - loss: 0.0523 - accuracy: 0.9756\n",
            "Epoch 6: val_accuracy did not improve from 0.77739\n",
            "296/296 [==============================] - 100s 338ms/step - loss: 0.0523 - accuracy: 0.9756 - val_loss: 5.5747 - val_accuracy: 0.3925 - lr: 0.0010\n",
            "Epoch 7/100\n",
            "296/296 [==============================] - ETA: 0s - loss: 0.0701 - accuracy: 0.9743\n",
            "Epoch 7: val_accuracy improved from 0.77739 to 0.87656, saving model to Potato_MobileNetV2_model1_Based_Augmented\n"
          ]
        },
        {
          "output_type": "stream",
          "name": "stderr",
          "text": [
            "WARNING:absl:Function `_wrapped_model` contains input name(s) mobilenetv2_1.00_224_input with unsupported characters which will be renamed to mobilenetv2_1_00_224_input in the SavedModel.\n",
            "WARNING:absl:Found untraced functions such as _jit_compiled_convolution_op, _jit_compiled_convolution_op, _jit_compiled_convolution_op, _jit_compiled_convolution_op, _jit_compiled_convolution_op while saving (showing 5 of 52). These functions will not be directly callable after loading.\n"
          ]
        },
        {
          "output_type": "stream",
          "name": "stdout",
          "text": [
            "\b\b\b\b\b\b\b\b\b\b\b\b\b\b\b\b\b\b\b\b\b\b\b\b\b\b\b\b\b\b\b\b\b\b\b\b\b\b\b\b\b\b\b\b\b\b\b\b\b\b\b\b\b\b\b\b\b\b\b\b\b\b\b\b\b\b\b\b\b\b\b\b\b\b\b\b\b\b\b\b\b\b\b\b\r296/296 [==============================] - 129s 437ms/step - loss: 0.0701 - accuracy: 0.9743 - val_loss: 0.3140 - val_accuracy: 0.8766 - lr: 0.0010\n",
            "Epoch 8/100\n",
            "296/296 [==============================] - ETA: 0s - loss: 0.0639 - accuracy: 0.9749\n",
            "Epoch 8: val_accuracy improved from 0.87656 to 0.93828, saving model to Potato_MobileNetV2_model1_Based_Augmented\n"
          ]
        },
        {
          "output_type": "stream",
          "name": "stderr",
          "text": [
            "WARNING:absl:Function `_wrapped_model` contains input name(s) mobilenetv2_1.00_224_input with unsupported characters which will be renamed to mobilenetv2_1_00_224_input in the SavedModel.\n",
            "WARNING:absl:Found untraced functions such as _jit_compiled_convolution_op, _jit_compiled_convolution_op, _jit_compiled_convolution_op, _jit_compiled_convolution_op, _jit_compiled_convolution_op while saving (showing 5 of 52). These functions will not be directly callable after loading.\n"
          ]
        },
        {
          "output_type": "stream",
          "name": "stdout",
          "text": [
            "\b\b\b\b\b\b\b\b\b\b\b\b\b\b\b\b\b\b\b\b\b\b\b\b\b\b\b\b\b\b\b\b\b\b\b\b\b\b\b\b\b\b\b\b\b\b\b\b\b\b\b\b\b\b\b\b\b\b\b\b\b\b\b\b\b\b\b\b\b\b\b\b\b\b\b\b\b\b\b\b\b\b\b\b\r296/296 [==============================] - 127s 430ms/step - loss: 0.0639 - accuracy: 0.9749 - val_loss: 0.2060 - val_accuracy: 0.9383 - lr: 0.0010\n",
            "Epoch 9/100\n",
            "296/296 [==============================] - ETA: 0s - loss: 0.0759 - accuracy: 0.9717\n",
            "Epoch 9: val_accuracy did not improve from 0.93828\n",
            "296/296 [==============================] - 102s 346ms/step - loss: 0.0759 - accuracy: 0.9717 - val_loss: 1.0646 - val_accuracy: 0.5423 - lr: 0.0010\n",
            "Epoch 10/100\n",
            "296/296 [==============================] - ETA: 0s - loss: 0.0750 - accuracy: 0.9699\n",
            "Epoch 10: val_accuracy did not improve from 0.93828\n",
            "296/296 [==============================] - 100s 337ms/step - loss: 0.0750 - accuracy: 0.9699 - val_loss: 5.9246 - val_accuracy: 0.3169 - lr: 0.0010\n",
            "Epoch 11/100\n",
            "296/296 [==============================] - ETA: 0s - loss: 0.0726 - accuracy: 0.9711\n",
            "Epoch 11: val_accuracy did not improve from 0.93828\n",
            "296/296 [==============================] - 102s 343ms/step - loss: 0.0726 - accuracy: 0.9711 - val_loss: 1.9464 - val_accuracy: 0.6345 - lr: 0.0010\n",
            "Epoch 12/100\n",
            "296/296 [==============================] - ETA: 0s - loss: 0.0546 - accuracy: 0.9792\n",
            "Epoch 12: val_accuracy did not improve from 0.93828\n",
            "296/296 [==============================] - 101s 339ms/step - loss: 0.0546 - accuracy: 0.9792 - val_loss: 0.8135 - val_accuracy: 0.7878 - lr: 0.0010\n",
            "Epoch 13/100\n",
            "296/296 [==============================] - ETA: 0s - loss: 0.0620 - accuracy: 0.9749\n",
            "Epoch 13: val_accuracy did not improve from 0.93828\n",
            "\n",
            "Epoch 13: ReduceLROnPlateau reducing learning rate to 0.00010000000474974513.\n",
            "296/296 [==============================] - 101s 340ms/step - loss: 0.0620 - accuracy: 0.9749 - val_loss: 0.7595 - val_accuracy: 0.8141 - lr: 0.0010\n",
            "Epoch 14/100\n",
            "296/296 [==============================] - ETA: 0s - loss: 0.0388 - accuracy: 0.9829\n",
            "Epoch 14: val_accuracy improved from 0.93828 to 0.98336, saving model to Potato_MobileNetV2_model1_Based_Augmented\n"
          ]
        },
        {
          "output_type": "stream",
          "name": "stderr",
          "text": [
            "WARNING:absl:Function `_wrapped_model` contains input name(s) mobilenetv2_1.00_224_input with unsupported characters which will be renamed to mobilenetv2_1_00_224_input in the SavedModel.\n",
            "WARNING:absl:Found untraced functions such as _jit_compiled_convolution_op, _jit_compiled_convolution_op, _jit_compiled_convolution_op, _jit_compiled_convolution_op, _jit_compiled_convolution_op while saving (showing 5 of 52). These functions will not be directly callable after loading.\n"
          ]
        },
        {
          "output_type": "stream",
          "name": "stdout",
          "text": [
            "\b\b\b\b\b\b\b\b\b\b\b\b\b\b\b\b\b\b\b\b\b\b\b\b\b\b\b\b\b\b\b\b\b\b\b\b\b\b\b\b\b\b\b\b\b\b\b\b\b\b\b\b\b\b\b\b\b\b\b\b\b\b\b\b\b\b\b\b\b\b\b\b\b\b\b\b\b\b\b\b\b\b\b\b\r296/296 [==============================] - 128s 432ms/step - loss: 0.0388 - accuracy: 0.9829 - val_loss: 0.0721 - val_accuracy: 0.9834 - lr: 1.0000e-04\n",
            "Epoch 15/100\n",
            "296/296 [==============================] - ETA: 0s - loss: 0.0394 - accuracy: 0.9848\n",
            "Epoch 15: val_accuracy improved from 0.98336 to 0.98960, saving model to Potato_MobileNetV2_model1_Based_Augmented\n"
          ]
        },
        {
          "output_type": "stream",
          "name": "stderr",
          "text": [
            "WARNING:absl:Function `_wrapped_model` contains input name(s) mobilenetv2_1.00_224_input with unsupported characters which will be renamed to mobilenetv2_1_00_224_input in the SavedModel.\n",
            "WARNING:absl:Found untraced functions such as _jit_compiled_convolution_op, _jit_compiled_convolution_op, _jit_compiled_convolution_op, _jit_compiled_convolution_op, _jit_compiled_convolution_op while saving (showing 5 of 52). These functions will not be directly callable after loading.\n"
          ]
        },
        {
          "output_type": "stream",
          "name": "stdout",
          "text": [
            "\b\b\b\b\b\b\b\b\b\b\b\b\b\b\b\b\b\b\b\b\b\b\b\b\b\b\b\b\b\b\b\b\b\b\b\b\b\b\b\b\b\b\b\b\b\b\b\b\b\b\b\b\b\b\b\b\b\b\b\b\b\b\b\b\b\b\b\b\b\b\b\b\b\b\b\b\b\b\b\b\b\b\b\b\r296/296 [==============================] - 124s 421ms/step - loss: 0.0394 - accuracy: 0.9848 - val_loss: 0.0404 - val_accuracy: 0.9896 - lr: 1.0000e-04\n",
            "Epoch 16/100\n",
            "296/296 [==============================] - ETA: 0s - loss: 0.0293 - accuracy: 0.9849\n",
            "Epoch 16: val_accuracy improved from 0.98960 to 0.99376, saving model to Potato_MobileNetV2_model1_Based_Augmented\n"
          ]
        },
        {
          "output_type": "stream",
          "name": "stderr",
          "text": [
            "WARNING:absl:Function `_wrapped_model` contains input name(s) mobilenetv2_1.00_224_input with unsupported characters which will be renamed to mobilenetv2_1_00_224_input in the SavedModel.\n",
            "WARNING:absl:Found untraced functions such as _jit_compiled_convolution_op, _jit_compiled_convolution_op, _jit_compiled_convolution_op, _jit_compiled_convolution_op, _jit_compiled_convolution_op while saving (showing 5 of 52). These functions will not be directly callable after loading.\n"
          ]
        },
        {
          "output_type": "stream",
          "name": "stdout",
          "text": [
            "\b\b\b\b\b\b\b\b\b\b\b\b\b\b\b\b\b\b\b\b\b\b\b\b\b\b\b\b\b\b\b\b\b\b\b\b\b\b\b\b\b\b\b\b\b\b\b\b\b\b\b\b\b\b\b\b\b\b\b\b\b\b\b\b\b\b\b\b\b\b\b\b\b\b\b\b\b\b\b\b\b\b\b\b\r296/296 [==============================] - 120s 407ms/step - loss: 0.0293 - accuracy: 0.9849 - val_loss: 0.0230 - val_accuracy: 0.9938 - lr: 1.0000e-04\n",
            "Epoch 17/100\n",
            "296/296 [==============================] - ETA: 0s - loss: 0.0292 - accuracy: 0.9873\n",
            "Epoch 17: val_accuracy improved from 0.99376 to 0.99653, saving model to Potato_MobileNetV2_model1_Based_Augmented\n"
          ]
        },
        {
          "output_type": "stream",
          "name": "stderr",
          "text": [
            "WARNING:absl:Function `_wrapped_model` contains input name(s) mobilenetv2_1.00_224_input with unsupported characters which will be renamed to mobilenetv2_1_00_224_input in the SavedModel.\n",
            "WARNING:absl:Found untraced functions such as _jit_compiled_convolution_op, _jit_compiled_convolution_op, _jit_compiled_convolution_op, _jit_compiled_convolution_op, _jit_compiled_convolution_op while saving (showing 5 of 52). These functions will not be directly callable after loading.\n"
          ]
        },
        {
          "output_type": "stream",
          "name": "stdout",
          "text": [
            "\b\b\b\b\b\b\b\b\b\b\b\b\b\b\b\b\b\b\b\b\b\b\b\b\b\b\b\b\b\b\b\b\b\b\b\b\b\b\b\b\b\b\b\b\b\b\b\b\b\b\b\b\b\b\b\b\b\b\b\b\b\b\b\b\b\b\b\b\b\b\b\b\b\b\b\b\b\b\b\b\b\b\b\b\r296/296 [==============================] - 116s 392ms/step - loss: 0.0292 - accuracy: 0.9873 - val_loss: 0.0153 - val_accuracy: 0.9965 - lr: 1.0000e-04\n",
            "Epoch 18/100\n",
            "296/296 [==============================] - ETA: 0s - loss: 0.0323 - accuracy: 0.9858\n",
            "Epoch 18: val_accuracy did not improve from 0.99653\n",
            "296/296 [==============================] - 92s 309ms/step - loss: 0.0323 - accuracy: 0.9858 - val_loss: 0.0190 - val_accuracy: 0.9965 - lr: 1.0000e-04\n",
            "Epoch 19/100\n",
            "296/296 [==============================] - ETA: 0s - loss: 0.0272 - accuracy: 0.9865\n",
            "Epoch 19: val_accuracy did not improve from 0.99653\n",
            "296/296 [==============================] - 93s 313ms/step - loss: 0.0272 - accuracy: 0.9865 - val_loss: 0.0197 - val_accuracy: 0.9958 - lr: 1.0000e-04\n",
            "Epoch 20/100\n",
            "296/296 [==============================] - ETA: 0s - loss: 0.0267 - accuracy: 0.9876\n",
            "Epoch 20: val_accuracy did not improve from 0.99653\n",
            "296/296 [==============================] - 92s 310ms/step - loss: 0.0267 - accuracy: 0.9876 - val_loss: 0.0115 - val_accuracy: 0.9958 - lr: 1.0000e-04\n",
            "Epoch 21/100\n",
            "296/296 [==============================] - ETA: 0s - loss: 0.0222 - accuracy: 0.9895\n",
            "Epoch 21: val_accuracy did not improve from 0.99653\n",
            "296/296 [==============================] - 92s 310ms/step - loss: 0.0222 - accuracy: 0.9895 - val_loss: 0.0154 - val_accuracy: 0.9965 - lr: 1.0000e-04\n",
            "Epoch 22/100\n",
            "296/296 [==============================] - ETA: 0s - loss: 0.0250 - accuracy: 0.9871\n",
            "Epoch 22: val_accuracy did not improve from 0.99653\n",
            "296/296 [==============================] - 91s 308ms/step - loss: 0.0250 - accuracy: 0.9871 - val_loss: 0.0138 - val_accuracy: 0.9958 - lr: 1.0000e-04\n",
            "Epoch 23/100\n",
            "296/296 [==============================] - ETA: 0s - loss: 0.0230 - accuracy: 0.9893\n",
            "Epoch 23: val_accuracy did not improve from 0.99653\n",
            "296/296 [==============================] - 93s 314ms/step - loss: 0.0230 - accuracy: 0.9893 - val_loss: 0.0175 - val_accuracy: 0.9931 - lr: 1.0000e-04\n",
            "Epoch 24/100\n",
            "296/296 [==============================] - ETA: 0s - loss: 0.0247 - accuracy: 0.9885\n",
            "Epoch 24: val_accuracy did not improve from 0.99653\n",
            "296/296 [==============================] - 93s 313ms/step - loss: 0.0247 - accuracy: 0.9885 - val_loss: 0.0155 - val_accuracy: 0.9951 - lr: 1.0000e-04\n",
            "Epoch 25/100\n",
            "296/296 [==============================] - ETA: 0s - loss: 0.0234 - accuracy: 0.9898\n",
            "Epoch 25: val_accuracy did not improve from 0.99653\n",
            "\n",
            "Epoch 25: ReduceLROnPlateau reducing learning rate to 1.0000000474974514e-05.\n",
            "296/296 [==============================] - 93s 313ms/step - loss: 0.0234 - accuracy: 0.9898 - val_loss: 0.0165 - val_accuracy: 0.9938 - lr: 1.0000e-04\n",
            "Epoch 26/100\n",
            "296/296 [==============================] - ETA: 0s - loss: 0.0204 - accuracy: 0.9900\n",
            "Epoch 26: val_accuracy did not improve from 0.99653\n",
            "296/296 [==============================] - 93s 315ms/step - loss: 0.0204 - accuracy: 0.9900 - val_loss: 0.0150 - val_accuracy: 0.9951 - lr: 1.0000e-05\n",
            "Epoch 27/100\n",
            "296/296 [==============================] - ETA: 0s - loss: 0.0218 - accuracy: 0.9904\n",
            "Epoch 27: val_accuracy did not improve from 0.99653\n",
            "296/296 [==============================] - 91s 307ms/step - loss: 0.0218 - accuracy: 0.9904 - val_loss: 0.0138 - val_accuracy: 0.9951 - lr: 1.0000e-05\n",
            "Epoch 28/100\n",
            "296/296 [==============================] - ETA: 0s - loss: 0.0203 - accuracy: 0.9902\n",
            "Epoch 28: val_accuracy did not improve from 0.99653\n",
            "296/296 [==============================] - 92s 311ms/step - loss: 0.0203 - accuracy: 0.9902 - val_loss: 0.0143 - val_accuracy: 0.9951 - lr: 1.0000e-05\n",
            "Epoch 29/100\n",
            "296/296 [==============================] - ETA: 0s - loss: 0.0217 - accuracy: 0.9898\n",
            "Epoch 29: val_accuracy did not improve from 0.99653\n",
            "296/296 [==============================] - 92s 310ms/step - loss: 0.0217 - accuracy: 0.9898 - val_loss: 0.0140 - val_accuracy: 0.9951 - lr: 1.0000e-05\n",
            "Epoch 30/100\n",
            "296/296 [==============================] - ETA: 0s - loss: 0.0196 - accuracy: 0.9914\n",
            "Epoch 30: val_accuracy did not improve from 0.99653\n",
            "\n",
            "Epoch 30: ReduceLROnPlateau reducing learning rate to 1.0000000656873453e-06.\n",
            "296/296 [==============================] - 94s 317ms/step - loss: 0.0196 - accuracy: 0.9914 - val_loss: 0.0139 - val_accuracy: 0.9945 - lr: 1.0000e-05\n",
            "Epoch 31/100\n",
            "296/296 [==============================] - ETA: 0s - loss: 0.0199 - accuracy: 0.9907\n",
            "Epoch 31: val_accuracy did not improve from 0.99653\n",
            "296/296 [==============================] - 94s 318ms/step - loss: 0.0199 - accuracy: 0.9907 - val_loss: 0.0138 - val_accuracy: 0.9945 - lr: 1.0000e-06\n",
            "Epoch 32/100\n",
            "296/296 [==============================] - ETA: 0s - loss: 0.0193 - accuracy: 0.9917\n",
            "Epoch 32: val_accuracy did not improve from 0.99653\n",
            "296/296 [==============================] - 94s 319ms/step - loss: 0.0193 - accuracy: 0.9917 - val_loss: 0.0140 - val_accuracy: 0.9945 - lr: 1.0000e-06\n",
            "Epoch 33/100\n",
            "296/296 [==============================] - ETA: 0s - loss: 0.0171 - accuracy: 0.9926\n",
            "Epoch 33: val_accuracy did not improve from 0.99653\n",
            "296/296 [==============================] - 93s 315ms/step - loss: 0.0171 - accuracy: 0.9926 - val_loss: 0.0141 - val_accuracy: 0.9945 - lr: 1.0000e-06\n",
            "Epoch 34/100\n",
            "296/296 [==============================] - ETA: 0s - loss: 0.0197 - accuracy: 0.9917\n",
            "Epoch 34: val_accuracy did not improve from 0.99653\n",
            "296/296 [==============================] - 93s 315ms/step - loss: 0.0197 - accuracy: 0.9917 - val_loss: 0.0141 - val_accuracy: 0.9945 - lr: 1.0000e-06\n",
            "Epoch 35/100\n",
            "296/296 [==============================] - ETA: 0s - loss: 0.0197 - accuracy: 0.9909\n",
            "Epoch 35: val_accuracy did not improve from 0.99653\n",
            "\n",
            "Epoch 35: ReduceLROnPlateau reducing learning rate to 1.0000001111620805e-07.\n",
            "296/296 [==============================] - 92s 312ms/step - loss: 0.0197 - accuracy: 0.9909 - val_loss: 0.0142 - val_accuracy: 0.9938 - lr: 1.0000e-06\n",
            "Epoch 36/100\n",
            "296/296 [==============================] - ETA: 0s - loss: 0.0166 - accuracy: 0.9920\n",
            "Epoch 36: val_accuracy did not improve from 0.99653\n",
            "296/296 [==============================] - 92s 309ms/step - loss: 0.0166 - accuracy: 0.9920 - val_loss: 0.0142 - val_accuracy: 0.9945 - lr: 1.0000e-07\n",
            "Epoch 37/100\n",
            "296/296 [==============================] - ETA: 0s - loss: 0.0201 - accuracy: 0.9907\n",
            "Epoch 37: val_accuracy did not improve from 0.99653\n",
            "Restoring model weights from the end of the best epoch: 17.\n",
            "296/296 [==============================] - 91s 306ms/step - loss: 0.0201 - accuracy: 0.9907 - val_loss: 0.0142 - val_accuracy: 0.9945 - lr: 1.0000e-07\n",
            "Epoch 37: early stopping\n"
          ]
        }
      ]
    },
    {
      "cell_type": "code",
      "source": [
        "#-----------------------------------------------------------\n",
        "# Retrieve a list of list results on training and test data\n",
        "# sets for each training epoch\n",
        "#-----------------------------------------------------------\n",
        "acc      = history_MobileNetV2_model_1.history['accuracy' ]\n",
        "val_acc  = history_MobileNetV2_model_1.history['val_accuracy' ]\n",
        "loss     = history_MobileNetV2_model_1.history['loss' ]\n",
        "val_loss = history_MobileNetV2_model_1.history['val_loss' ]\n",
        "\n",
        "epochs   = range(len(acc)) # Get number of epochs\n",
        "\n",
        "#------------------------------------------------\n",
        "# Plot training and validation accuracy per epoch\n",
        "#------------------------------------------------\n",
        "plt.plot  (epochs, acc )\n",
        "plt.plot  (epochs, val_acc )\n",
        "plt.title ('Training and validation accuracy MobileNetV2 Model 1')\n",
        "plt.legend(['train', 'val'], loc='upper left')\n",
        "plt.figure()\n",
        "\n",
        "#------------------------------------------------\n",
        "# Plot training and validation loss per epoch\n",
        "#------------------------------------------------\n",
        "plt.plot  (epochs, loss)\n",
        "plt.plot  (epochs, val_loss)\n",
        "plt.title ('Training and validation loss MobileNetV2 Model 1')\n",
        "plt.legend(['train', 'val'], loc='upper left')"
      ],
      "metadata": {
        "colab": {
          "base_uri": "https://localhost:8080/",
          "height": 904
        },
        "id": "LGEdnNQtqRvG",
        "outputId": "9fddd0ce-ec90-4937-a264-ccf7c4c09bdf"
      },
      "execution_count": null,
      "outputs": [
        {
          "output_type": "execute_result",
          "data": {
            "text/plain": [
              "<matplotlib.legend.Legend at 0x7f33d3c47640>"
            ]
          },
          "metadata": {},
          "execution_count": 14
        },
        {
          "output_type": "display_data",
          "data": {
            "text/plain": [
              "<Figure size 640x480 with 1 Axes>"
            ],
            "image/png": "[encoded data removed]"
          },
          "metadata": {}
        },
        {
          "output_type": "display_data",
          "data": {
            "text/plain": [
              "<Figure size 640x480 with 1 Axes>"
            ],
            "image/png": "[encoded data removed]"
          },
          "metadata": {}
        }
      ]
    },
    {
      "cell_type": "code",
      "source": [
        "!zip -r /content/Potato_MobileNetV2_model1_Based_Augmented.zip /content/Potato_MobileNetV2_model1_Based_Augmented"
      ],
      "metadata": {
        "colab": {
          "base_uri": "https://localhost:8080/"
        },
        "id": "-mk62QsGqIzD",
        "outputId": "12baff4d-140e-44f1-c8f6-ccb56952a40e"
      },
      "execution_count": null,
      "outputs": [
        {
          "output_type": "stream",
          "name": "stdout",
          "text": [
            "  adding: content/Potato_MobileNetV2_model1_Based_Augmented/ (stored 0%)\n",
            "  adding: content/Potato_MobileNetV2_model1_Based_Augmented/saved_model.pb (deflated 91%)\n",
            "  adding: content/Potato_MobileNetV2_model1_Based_Augmented/fingerprint.pb (stored 0%)\n",
            "  adding: content/Potato_MobileNetV2_model1_Based_Augmented/variables/ (stored 0%)\n",
            "  adding: content/Potato_MobileNetV2_model1_Based_Augmented/variables/variables.data-00000-of-00001 (deflated 10%)\n",
            "  adding: content/Potato_MobileNetV2_model1_Based_Augmented/variables/variables.index (deflated 76%)\n",
            "  adding: content/Potato_MobileNetV2_model1_Based_Augmented/keras_metadata.pb (deflated 96%)\n",
            "  adding: content/Potato_MobileNetV2_model1_Based_Augmented/assets/ (stored 0%)\n"
          ]
        }
      ]
    },
    {
      "cell_type": "markdown",
      "source": [
        "MobileNetV2 Model 2"
      ],
      "metadata": {
        "id": "cxWVQ-teqLA0"
      }
    },
    {
      "cell_type": "code",
      "source": [
        "# Difine the callbacks\n",
        "# Save the best model\n",
        "checkpoint_callback = ModelCheckpoint(filepath=\"Potato_MobileNetV2_model2_Based_Augmented\", save_best_only=True, monitor=\"val_accuracy\", mode=\"max\", verbose=1)\n",
        "\n",
        "# Early stopping\n",
        "early_stopping_callback = EarlyStopping(monitor=\"val_accuracy\", mode=\"max\", patience=20, verbose=1, restore_best_weights=True)\n",
        "\n",
        "# Reduce learning rate\n",
        "reduce_lr_callback = ReduceLROnPlateau(monitor=\"val_loss\", factor=0.1, patience=5, verbose=1, mode=\"min\", min_delta=0.0001, cooldown=0, min_lr=0)\n",
        "\n",
        "# Callbacks list\n",
        "callbacks=[checkpoint_callback, early_stopping_callback, reduce_lr_callback]"
      ],
      "metadata": {
        "id": "2hPk5241qUk4"
      },
      "execution_count": 10,
      "outputs": []
    },
    {
      "cell_type": "code",
      "source": [
        "# Define DIY Model\n",
        "MobileNetV2_2 = tf.keras.models.Sequential([\n",
        "    # MobileNetV2 Layer\n",
        "    MobileNetV2(include_top=False,weights='imagenet',input_shape=(224, 224, 3)),\n",
        "    # Global Average Pooling Layer\n",
        "    tf.keras.layers.GlobalAveragePooling2D(),\n",
        "    # Drop Out Layer\n",
        "    tf.keras.layers.Dropout(0.2),\n",
        "    # 256 neuron hidden layer\n",
        "    tf.keras.layers.Dense(256, activation='relu'),\n",
        "    # Output\n",
        "    tf.keras.layers.Dense(3, activation='softmax') \n",
        "  ])\n",
        "\n",
        "\n",
        "# Compile Model\n",
        "MobileNetV2_2.compile(loss='categorical_crossentropy',optimizer=tf.keras.optimizers.Adam(), metrics=['accuracy']) \n",
        "\n",
        "# Model Summary\n",
        "MobileNetV2_2.summary()"
      ],
      "metadata": {
        "colab": {
          "base_uri": "https://localhost:8080/"
        },
        "id": "x92QDKYZqUxg",
        "outputId": "93daafe3-cf0c-4916-adb4-5105a01f853e"
      },
      "execution_count": 11,
      "outputs": [
        {
          "output_type": "stream",
          "name": "stdout",
          "text": [
            "Downloading data from https://storage.googleapis.com/tensorflow/keras-applications/mobilenet_v2/mobilenet_v2_weights_tf_dim_ordering_tf_kernels_1.0_224_no_top.h5\n",
            "9406464/9406464 [==============================] - 1s 0us/step\n",
            "Model: \"sequential\"\n",
            "_________________________________________________________________\n",
            " Layer (type)                Output Shape              Param #   \n",
            "=================================================================\n",
            " mobilenetv2_1.00_224 (Funct  (None, 7, 7, 1280)       2257984   \n",
            " ional)                                                          \n",
            "                                                                 \n",
            " global_average_pooling2d (G  (None, 1280)             0         \n",
            " lobalAveragePooling2D)                                          \n",
            "                                                                 \n",
            " dropout (Dropout)           (None, 1280)              0         \n",
            "                                                                 \n",
            " dense (Dense)               (None, 256)               327936    \n",
            "                                                                 \n",
            " dense_1 (Dense)             (None, 3)                 771       \n",
            "                                                                 \n",
            "=================================================================\n",
            "Total params: 2,586,691\n",
            "Trainable params: 2,552,579\n",
            "Non-trainable params: 34,112\n",
            "_________________________________________________________________\n"
          ]
        }
      ]
    },
    {
      "cell_type": "code",
      "source": [
        "# Define the number of epochs\n",
        "num_epochs = 100\n",
        "\n",
        "# Train the model\n",
        "history_MobileNetV2_model_2 = MobileNetV2_2.fit(train_generator, epochs=num_epochs, validation_data=validation_generator, callbacks=callbacks)\n"
      ],
      "metadata": {
        "colab": {
          "base_uri": "https://localhost:8080/"
        },
        "id": "C9p9mmTSqU4d",
        "outputId": "806ef014-1ca9-4f3e-da36-88f2ff854b84"
      },
      "execution_count": 12,
      "outputs": [
        {
          "output_type": "stream",
          "name": "stdout",
          "text": [
            "Epoch 1/100\n",
            "296/296 [==============================] - ETA: 0s - loss: 0.2318 - accuracy: 0.9201\n",
            "Epoch 1: val_accuracy improved from -inf to 0.33218, saving model to Potato_MobileNetV2_model2_Based_Augmented\n"
          ]
        },
        {
          "output_type": "stream",
          "name": "stderr",
          "text": [
            "WARNING:absl:Function `_wrapped_model` contains input name(s) mobilenetv2_1.00_224_input with unsupported characters which will be renamed to mobilenetv2_1_00_224_input in the SavedModel.\n",
            "WARNING:absl:`mobilenetv2_1.00_224_input` is not a valid tf.function parameter name. Sanitizing to `mobilenetv2_1_00_224_input`.\n",
            "WARNING:absl:`mobilenetv2_1.00_224_input` is not a valid tf.function parameter name. Sanitizing to `mobilenetv2_1_00_224_input`.\n",
            "WARNING:absl:`mobilenetv2_1.00_224_input` is not a valid tf.function parameter name. Sanitizing to `mobilenetv2_1_00_224_input`.\n",
            "WARNING:absl:Found untraced functions such as _jit_compiled_convolution_op, _jit_compiled_convolution_op, _jit_compiled_convolution_op, _jit_compiled_convolution_op, _jit_compiled_convolution_op while saving (showing 5 of 52). These functions will not be directly callable after loading.\n"
          ]
        },
        {
          "output_type": "stream",
          "name": "stdout",
          "text": [
            "\b\b\b\b\b\b\b\b\b\b\b\b\b\b\b\b\b\b\b\b\b\b\b\b\b\b\b\b\b\b\b\b\b\b\b\b\b\b\b\b\b\b\b\b\b\b\b\b\b\b\b\b\b\b\b\b\b\b\b\b\b\b\b\b\b\b\b\b\b\b\b\b\b\b\b\b\b\b\b\b\b\b\b\b\r296/296 [==============================] - 156s 387ms/step - loss: 0.2318 - accuracy: 0.9201 - val_loss: 9.1545 - val_accuracy: 0.3322 - lr: 0.0010\n",
            "Epoch 2/100\n",
            "296/296 [==============================] - ETA: 0s - loss: 0.0966 - accuracy: 0.9660\n",
            "Epoch 2: val_accuracy did not improve from 0.33218\n",
            "296/296 [==============================] - 90s 303ms/step - loss: 0.0966 - accuracy: 0.9660 - val_loss: 18.7264 - val_accuracy: 0.3162 - lr: 0.0010\n",
            "Epoch 3/100\n",
            "296/296 [==============================] - ETA: 0s - loss: 0.1392 - accuracy: 0.9575\n",
            "Epoch 3: val_accuracy improved from 0.33218 to 0.35784, saving model to Potato_MobileNetV2_model2_Based_Augmented\n"
          ]
        },
        {
          "output_type": "stream",
          "name": "stderr",
          "text": [
            "WARNING:absl:Function `_wrapped_model` contains input name(s) mobilenetv2_1.00_224_input with unsupported characters which will be renamed to mobilenetv2_1_00_224_input in the SavedModel.\n",
            "WARNING:absl:`mobilenetv2_1.00_224_input` is not a valid tf.function parameter name. Sanitizing to `mobilenetv2_1_00_224_input`.\n",
            "WARNING:absl:`mobilenetv2_1.00_224_input` is not a valid tf.function parameter name. Sanitizing to `mobilenetv2_1_00_224_input`.\n",
            "WARNING:absl:Found untraced functions such as _jit_compiled_convolution_op, _jit_compiled_convolution_op, _jit_compiled_convolution_op, _jit_compiled_convolution_op, _jit_compiled_convolution_op while saving (showing 5 of 52). These functions will not be directly callable after loading.\n"
          ]
        },
        {
          "output_type": "stream",
          "name": "stdout",
          "text": [
            "\b\b\b\b\b\b\b\b\b\b\b\b\b\b\b\b\b\b\b\b\b\b\b\b\b\b\b\b\b\b\b\b\b\b\b\b\b\b\b\b\b\b\b\b\b\b\b\b\b\b\b\b\b\b\b\b\b\b\b\b\b\b\b\b\b\b\b\b\b\b\b\b\b\b\b\b\b\b\b\b\b\b\b\b\r296/296 [==============================] - 111s 376ms/step - loss: 0.1392 - accuracy: 0.9575 - val_loss: 6.6755 - val_accuracy: 0.3578 - lr: 0.0010\n",
            "Epoch 4/100\n",
            "296/296 [==============================] - ETA: 0s - loss: 0.0707 - accuracy: 0.9694\n",
            "Epoch 4: val_accuracy improved from 0.35784 to 0.46463, saving model to Potato_MobileNetV2_model2_Based_Augmented\n"
          ]
        },
        {
          "output_type": "stream",
          "name": "stderr",
          "text": [
            "WARNING:absl:Function `_wrapped_model` contains input name(s) mobilenetv2_1.00_224_input with unsupported characters which will be renamed to mobilenetv2_1_00_224_input in the SavedModel.\n",
            "WARNING:absl:Found untraced functions such as _jit_compiled_convolution_op, _jit_compiled_convolution_op, _jit_compiled_convolution_op, _jit_compiled_convolution_op, _jit_compiled_convolution_op while saving (showing 5 of 52). These functions will not be directly callable after loading.\n"
          ]
        },
        {
          "output_type": "stream",
          "name": "stdout",
          "text": [
            "\b\b\b\b\b\b\b\b\b\b\b\b\b\b\b\b\b\b\b\b\b\b\b\b\b\b\b\b\b\b\b\b\b\b\b\b\b\b\b\b\b\b\b\b\b\b\b\b\b\b\b\b\b\b\b\b\b\b\b\b\b\b\b\b\b\b\b\b\b\b\b\b\b\b\b\b\b\b\b\b\b\b\b\b\r296/296 [==============================] - 112s 380ms/step - loss: 0.0707 - accuracy: 0.9694 - val_loss: 10.0195 - val_accuracy: 0.4646 - lr: 0.0010\n",
            "Epoch 5/100\n",
            "296/296 [==============================] - ETA: 0s - loss: 0.0720 - accuracy: 0.9733\n",
            "Epoch 5: val_accuracy did not improve from 0.46463\n",
            "296/296 [==============================] - 88s 298ms/step - loss: 0.0720 - accuracy: 0.9733 - val_loss: 33.3440 - val_accuracy: 0.3162 - lr: 0.0010\n",
            "Epoch 6/100\n",
            "296/296 [==============================] - ETA: 0s - loss: 0.0689 - accuracy: 0.9722\n",
            "Epoch 6: val_accuracy improved from 0.46463 to 0.84189, saving model to Potato_MobileNetV2_model2_Based_Augmented\n"
          ]
        },
        {
          "output_type": "stream",
          "name": "stderr",
          "text": [
            "WARNING:absl:Function `_wrapped_model` contains input name(s) mobilenetv2_1.00_224_input with unsupported characters which will be renamed to mobilenetv2_1_00_224_input in the SavedModel.\n",
            "WARNING:absl:Found untraced functions such as _jit_compiled_convolution_op, _jit_compiled_convolution_op, _jit_compiled_convolution_op, _jit_compiled_convolution_op, _jit_compiled_convolution_op while saving (showing 5 of 52). These functions will not be directly callable after loading.\n"
          ]
        },
        {
          "output_type": "stream",
          "name": "stdout",
          "text": [
            "\b\b\b\b\b\b\b\b\b\b\b\b\b\b\b\b\b\b\b\b\b\b\b\b\b\b\b\b\b\b\b\b\b\b\b\b\b\b\b\b\b\b\b\b\b\b\b\b\b\b\b\b\b\b\b\b\b\b\b\b\b\b\b\b\b\b\b\b\b\b\b\b\b\b\b\b\b\b\b\b\b\b\b\b\r296/296 [==============================] - 112s 378ms/step - loss: 0.0689 - accuracy: 0.9722 - val_loss: 1.6708 - val_accuracy: 0.8419 - lr: 0.0010\n",
            "Epoch 7/100\n",
            "296/296 [==============================] - ETA: 0s - loss: 0.0826 - accuracy: 0.9709\n",
            "Epoch 7: val_accuracy did not improve from 0.84189\n",
            "296/296 [==============================] - 91s 306ms/step - loss: 0.0826 - accuracy: 0.9709 - val_loss: 2.7010 - val_accuracy: 0.7524 - lr: 0.0010\n",
            "Epoch 8/100\n",
            "296/296 [==============================] - ETA: 0s - loss: 0.1253 - accuracy: 0.9533\n",
            "Epoch 8: val_accuracy did not improve from 0.84189\n",
            "296/296 [==============================] - 87s 295ms/step - loss: 0.1253 - accuracy: 0.9533 - val_loss: 29.3941 - val_accuracy: 0.3162 - lr: 0.0010\n",
            "Epoch 9/100\n",
            "296/296 [==============================] - ETA: 0s - loss: 0.0736 - accuracy: 0.9741\n",
            "Epoch 9: val_accuracy did not improve from 0.84189\n",
            "296/296 [==============================] - 88s 299ms/step - loss: 0.0736 - accuracy: 0.9741 - val_loss: 6.5570 - val_accuracy: 0.5638 - lr: 0.0010\n",
            "Epoch 10/100\n",
            "296/296 [==============================] - ETA: 0s - loss: 0.0646 - accuracy: 0.9758\n",
            "Epoch 10: val_accuracy did not improve from 0.84189\n",
            "296/296 [==============================] - 87s 294ms/step - loss: 0.0646 - accuracy: 0.9758 - val_loss: 7.5268 - val_accuracy: 0.5874 - lr: 0.0010\n",
            "Epoch 11/100\n",
            "296/296 [==============================] - ETA: 0s - loss: 0.0561 - accuracy: 0.9782\n",
            "Epoch 11: val_accuracy did not improve from 0.84189\n",
            "\n",
            "Epoch 11: ReduceLROnPlateau reducing learning rate to 0.00010000000474974513.\n",
            "296/296 [==============================] - 87s 295ms/step - loss: 0.0561 - accuracy: 0.9782 - val_loss: 17.6310 - val_accuracy: 0.4029 - lr: 0.0010\n",
            "Epoch 12/100\n",
            "296/296 [==============================] - ETA: 0s - loss: 0.0290 - accuracy: 0.9863\n",
            "Epoch 12: val_accuracy did not improve from 0.84189\n",
            "296/296 [==============================] - 89s 300ms/step - loss: 0.0290 - accuracy: 0.9863 - val_loss: 3.3207 - val_accuracy: 0.7372 - lr: 1.0000e-04\n",
            "Epoch 13/100\n",
            "296/296 [==============================] - ETA: 0s - loss: 0.0323 - accuracy: 0.9849\n",
            "Epoch 13: val_accuracy improved from 0.84189 to 0.93065, saving model to Potato_MobileNetV2_model2_Based_Augmented\n"
          ]
        },
        {
          "output_type": "stream",
          "name": "stderr",
          "text": [
            "WARNING:absl:Function `_wrapped_model` contains input name(s) mobilenetv2_1.00_224_input with unsupported characters which will be renamed to mobilenetv2_1_00_224_input in the SavedModel.\n",
            "WARNING:absl:Found untraced functions such as _jit_compiled_convolution_op, _jit_compiled_convolution_op, _jit_compiled_convolution_op, _jit_compiled_convolution_op, _jit_compiled_convolution_op while saving (showing 5 of 52). These functions will not be directly callable after loading.\n"
          ]
        },
        {
          "output_type": "stream",
          "name": "stdout",
          "text": [
            "\b\b\b\b\b\b\b\b\b\b\b\b\b\b\b\b\b\b\b\b\b\b\b\b\b\b\b\b\b\b\b\b\b\b\b\b\b\b\b\b\b\b\b\b\b\b\b\b\b\b\b\b\b\b\b\b\b\b\b\b\b\b\b\b\b\b\b\b\b\b\b\b\b\b\b\b\b\b\b\b\b\b\b\b\r296/296 [==============================] - 112s 378ms/step - loss: 0.0323 - accuracy: 0.9849 - val_loss: 0.3532 - val_accuracy: 0.9307 - lr: 1.0000e-04\n",
            "Epoch 14/100\n",
            "296/296 [==============================] - ETA: 0s - loss: 0.0305 - accuracy: 0.9846\n",
            "Epoch 14: val_accuracy improved from 0.93065 to 0.96741, saving model to Potato_MobileNetV2_model2_Based_Augmented\n"
          ]
        },
        {
          "output_type": "stream",
          "name": "stderr",
          "text": [
            "WARNING:absl:Function `_wrapped_model` contains input name(s) mobilenetv2_1.00_224_input with unsupported characters which will be renamed to mobilenetv2_1_00_224_input in the SavedModel.\n",
            "WARNING:absl:Found untraced functions such as _jit_compiled_convolution_op, _jit_compiled_convolution_op, _jit_compiled_convolution_op, _jit_compiled_convolution_op, _jit_compiled_convolution_op while saving (showing 5 of 52). These functions will not be directly callable after loading.\n"
          ]
        },
        {
          "output_type": "stream",
          "name": "stdout",
          "text": [
            "\b\b\b\b\b\b\b\b\b\b\b\b\b\b\b\b\b\b\b\b\b\b\b\b\b\b\b\b\b\b\b\b\b\b\b\b\b\b\b\b\b\b\b\b\b\b\b\b\b\b\b\b\b\b\b\b\b\b\b\b\b\b\b\b\b\b\b\b\b\b\b\b\b\b\b\b\b\b\b\b\b\b\b\b\r296/296 [==============================] - 113s 381ms/step - loss: 0.0305 - accuracy: 0.9846 - val_loss: 0.1208 - val_accuracy: 0.9674 - lr: 1.0000e-04\n",
            "Epoch 15/100\n",
            "296/296 [==============================] - ETA: 0s - loss: 0.0317 - accuracy: 0.9859\n",
            "Epoch 15: val_accuracy improved from 0.96741 to 0.98405, saving model to Potato_MobileNetV2_model2_Based_Augmented\n"
          ]
        },
        {
          "output_type": "stream",
          "name": "stderr",
          "text": [
            "WARNING:absl:Function `_wrapped_model` contains input name(s) mobilenetv2_1.00_224_input with unsupported characters which will be renamed to mobilenetv2_1_00_224_input in the SavedModel.\n",
            "WARNING:absl:Found untraced functions such as _jit_compiled_convolution_op, _jit_compiled_convolution_op, _jit_compiled_convolution_op, _jit_compiled_convolution_op, _jit_compiled_convolution_op while saving (showing 5 of 52). These functions will not be directly callable after loading.\n"
          ]
        },
        {
          "output_type": "stream",
          "name": "stdout",
          "text": [
            "\b\b\b\b\b\b\b\b\b\b\b\b\b\b\b\b\b\b\b\b\b\b\b\b\b\b\b\b\b\b\b\b\b\b\b\b\b\b\b\b\b\b\b\b\b\b\b\b\b\b\b\b\b\b\b\b\b\b\b\b\b\b\b\b\b\b\b\b\b\b\b\b\b\b\b\b\b\b\b\b\b\b\b\b\r296/296 [==============================] - 112s 380ms/step - loss: 0.0317 - accuracy: 0.9859 - val_loss: 0.0458 - val_accuracy: 0.9840 - lr: 1.0000e-04\n",
            "Epoch 16/100\n",
            "296/296 [==============================] - ETA: 0s - loss: 0.0279 - accuracy: 0.9858\n",
            "Epoch 16: val_accuracy did not improve from 0.98405\n",
            "296/296 [==============================] - 90s 305ms/step - loss: 0.0279 - accuracy: 0.9858 - val_loss: 0.0519 - val_accuracy: 0.9834 - lr: 1.0000e-04\n",
            "Epoch 17/100\n",
            "296/296 [==============================] - ETA: 0s - loss: 0.0302 - accuracy: 0.9868\n",
            "Epoch 17: val_accuracy improved from 0.98405 to 0.99515, saving model to Potato_MobileNetV2_model2_Based_Augmented\n"
          ]
        },
        {
          "output_type": "stream",
          "name": "stderr",
          "text": [
            "WARNING:absl:Function `_wrapped_model` contains input name(s) mobilenetv2_1.00_224_input with unsupported characters which will be renamed to mobilenetv2_1_00_224_input in the SavedModel.\n",
            "WARNING:absl:Found untraced functions such as _jit_compiled_convolution_op, _jit_compiled_convolution_op, _jit_compiled_convolution_op, _jit_compiled_convolution_op, _jit_compiled_convolution_op while saving (showing 5 of 52). These functions will not be directly callable after loading.\n"
          ]
        },
        {
          "output_type": "stream",
          "name": "stdout",
          "text": [
            "\b\b\b\b\b\b\b\b\b\b\b\b\b\b\b\b\b\b\b\b\b\b\b\b\b\b\b\b\b\b\b\b\b\b\b\b\b\b\b\b\b\b\b\b\b\b\b\b\b\b\b\b\b\b\b\b\b\b\b\b\b\b\b\b\b\b\b\b\b\b\b\b\b\b\b\b\b\b\b\b\b\b\b\b\r296/296 [==============================] - 112s 378ms/step - loss: 0.0302 - accuracy: 0.9868 - val_loss: 0.0130 - val_accuracy: 0.9951 - lr: 1.0000e-04\n",
            "Epoch 18/100\n",
            "296/296 [==============================] - ETA: 0s - loss: 0.0255 - accuracy: 0.9881\n",
            "Epoch 18: val_accuracy improved from 0.99515 to 0.99653, saving model to Potato_MobileNetV2_model2_Based_Augmented\n"
          ]
        },
        {
          "output_type": "stream",
          "name": "stderr",
          "text": [
            "WARNING:absl:Function `_wrapped_model` contains input name(s) mobilenetv2_1.00_224_input with unsupported characters which will be renamed to mobilenetv2_1_00_224_input in the SavedModel.\n",
            "WARNING:absl:Found untraced functions such as _jit_compiled_convolution_op, _jit_compiled_convolution_op, _jit_compiled_convolution_op, _jit_compiled_convolution_op, _jit_compiled_convolution_op while saving (showing 5 of 52). These functions will not be directly callable after loading.\n"
          ]
        },
        {
          "output_type": "stream",
          "name": "stdout",
          "text": [
            "\b\b\b\b\b\b\b\b\b\b\b\b\b\b\b\b\b\b\b\b\b\b\b\b\b\b\b\b\b\b\b\b\b\b\b\b\b\b\b\b\b\b\b\b\b\b\b\b\b\b\b\b\b\b\b\b\b\b\b\b\b\b\b\b\b\b\b\b\b\b\b\b\b\b\b\b\b\b\b\b\b\b\b\b\r296/296 [==============================] - 114s 385ms/step - loss: 0.0255 - accuracy: 0.9881 - val_loss: 0.0103 - val_accuracy: 0.9965 - lr: 1.0000e-04\n",
            "Epoch 19/100\n",
            "296/296 [==============================] - ETA: 0s - loss: 0.0245 - accuracy: 0.9880\n",
            "Epoch 19: val_accuracy did not improve from 0.99653\n",
            "296/296 [==============================] - 88s 297ms/step - loss: 0.0245 - accuracy: 0.9880 - val_loss: 0.0139 - val_accuracy: 0.9965 - lr: 1.0000e-04\n",
            "Epoch 20/100\n",
            "296/296 [==============================] - ETA: 0s - loss: 0.0310 - accuracy: 0.9873\n",
            "Epoch 20: val_accuracy did not improve from 0.99653\n",
            "296/296 [==============================] - 89s 300ms/step - loss: 0.0310 - accuracy: 0.9873 - val_loss: 0.0110 - val_accuracy: 0.9958 - lr: 1.0000e-04\n",
            "Epoch 21/100\n",
            "296/296 [==============================] - ETA: 0s - loss: 0.0247 - accuracy: 0.9880\n",
            "Epoch 21: val_accuracy did not improve from 0.99653\n",
            "296/296 [==============================] - 88s 296ms/step - loss: 0.0247 - accuracy: 0.9880 - val_loss: 0.0110 - val_accuracy: 0.9965 - lr: 1.0000e-04\n",
            "Epoch 22/100\n",
            "296/296 [==============================] - ETA: 0s - loss: 0.0268 - accuracy: 0.9873\n",
            "Epoch 22: val_accuracy did not improve from 0.99653\n",
            "296/296 [==============================] - 87s 295ms/step - loss: 0.0268 - accuracy: 0.9873 - val_loss: 0.0432 - val_accuracy: 0.9840 - lr: 1.0000e-04\n",
            "Epoch 23/100\n",
            "296/296 [==============================] - ETA: 0s - loss: 0.0241 - accuracy: 0.9870\n",
            "Epoch 23: val_accuracy did not improve from 0.99653\n",
            "\n",
            "Epoch 23: ReduceLROnPlateau reducing learning rate to 1.0000000474974514e-05.\n",
            "296/296 [==============================] - 90s 302ms/step - loss: 0.0241 - accuracy: 0.9870 - val_loss: 0.0126 - val_accuracy: 0.9965 - lr: 1.0000e-04\n",
            "Epoch 24/100\n",
            "296/296 [==============================] - ETA: 0s - loss: 0.0235 - accuracy: 0.9893\n",
            "Epoch 24: val_accuracy did not improve from 0.99653\n",
            "296/296 [==============================] - 88s 296ms/step - loss: 0.0235 - accuracy: 0.9893 - val_loss: 0.0119 - val_accuracy: 0.9965 - lr: 1.0000e-05\n",
            "Epoch 25/100\n",
            "296/296 [==============================] - ETA: 0s - loss: 0.0209 - accuracy: 0.9907\n",
            "Epoch 25: val_accuracy did not improve from 0.99653\n",
            "296/296 [==============================] - 89s 299ms/step - loss: 0.0209 - accuracy: 0.9907 - val_loss: 0.0114 - val_accuracy: 0.9965 - lr: 1.0000e-05\n",
            "Epoch 26/100\n",
            "296/296 [==============================] - ETA: 0s - loss: 0.0227 - accuracy: 0.9895\n",
            "Epoch 26: val_accuracy did not improve from 0.99653\n",
            "296/296 [==============================] - 88s 296ms/step - loss: 0.0227 - accuracy: 0.9895 - val_loss: 0.0118 - val_accuracy: 0.9958 - lr: 1.0000e-05\n",
            "Epoch 27/100\n",
            "296/296 [==============================] - ETA: 0s - loss: 0.0206 - accuracy: 0.9897\n",
            "Epoch 27: val_accuracy did not improve from 0.99653\n",
            "296/296 [==============================] - 87s 295ms/step - loss: 0.0206 - accuracy: 0.9897 - val_loss: 0.0122 - val_accuracy: 0.9965 - lr: 1.0000e-05\n",
            "Epoch 28/100\n",
            "296/296 [==============================] - ETA: 0s - loss: 0.0195 - accuracy: 0.9909\n",
            "Epoch 28: val_accuracy did not improve from 0.99653\n",
            "\n",
            "Epoch 28: ReduceLROnPlateau reducing learning rate to 1.0000000656873453e-06.\n",
            "296/296 [==============================] - 89s 300ms/step - loss: 0.0195 - accuracy: 0.9909 - val_loss: 0.0121 - val_accuracy: 0.9958 - lr: 1.0000e-05\n",
            "Epoch 29/100\n",
            "296/296 [==============================] - ETA: 0s - loss: 0.0195 - accuracy: 0.9907\n",
            "Epoch 29: val_accuracy did not improve from 0.99653\n",
            "296/296 [==============================] - 91s 307ms/step - loss: 0.0195 - accuracy: 0.9907 - val_loss: 0.0121 - val_accuracy: 0.9958 - lr: 1.0000e-06\n",
            "Epoch 30/100\n",
            "296/296 [==============================] - ETA: 0s - loss: 0.0227 - accuracy: 0.9897\n",
            "Epoch 30: val_accuracy did not improve from 0.99653\n",
            "296/296 [==============================] - 91s 306ms/step - loss: 0.0227 - accuracy: 0.9897 - val_loss: 0.0122 - val_accuracy: 0.9958 - lr: 1.0000e-06\n",
            "Epoch 31/100\n",
            "296/296 [==============================] - ETA: 0s - loss: 0.0187 - accuracy: 0.9912\n",
            "Epoch 31: val_accuracy did not improve from 0.99653\n",
            "296/296 [==============================] - 89s 301ms/step - loss: 0.0187 - accuracy: 0.9912 - val_loss: 0.0123 - val_accuracy: 0.9958 - lr: 1.0000e-06\n",
            "Epoch 32/100\n",
            "296/296 [==============================] - ETA: 0s - loss: 0.0214 - accuracy: 0.9898\n",
            "Epoch 32: val_accuracy did not improve from 0.99653\n",
            "296/296 [==============================] - 90s 303ms/step - loss: 0.0214 - accuracy: 0.9898 - val_loss: 0.0122 - val_accuracy: 0.9958 - lr: 1.0000e-06\n",
            "Epoch 33/100\n",
            "296/296 [==============================] - ETA: 0s - loss: 0.0233 - accuracy: 0.9888\n",
            "Epoch 33: val_accuracy did not improve from 0.99653\n",
            "\n",
            "Epoch 33: ReduceLROnPlateau reducing learning rate to 1.0000001111620805e-07.\n",
            "296/296 [==============================] - 92s 309ms/step - loss: 0.0233 - accuracy: 0.9888 - val_loss: 0.0123 - val_accuracy: 0.9958 - lr: 1.0000e-06\n",
            "Epoch 34/100\n",
            "296/296 [==============================] - ETA: 0s - loss: 0.0204 - accuracy: 0.9904\n",
            "Epoch 34: val_accuracy did not improve from 0.99653\n",
            "296/296 [==============================] - 91s 306ms/step - loss: 0.0204 - accuracy: 0.9904 - val_loss: 0.0123 - val_accuracy: 0.9958 - lr: 1.0000e-07\n",
            "Epoch 35/100\n",
            "296/296 [==============================] - ETA: 0s - loss: 0.0199 - accuracy: 0.9893\n",
            "Epoch 35: val_accuracy did not improve from 0.99653\n",
            "296/296 [==============================] - 92s 311ms/step - loss: 0.0199 - accuracy: 0.9893 - val_loss: 0.0123 - val_accuracy: 0.9958 - lr: 1.0000e-07\n",
            "Epoch 36/100\n",
            "296/296 [==============================] - ETA: 0s - loss: 0.0231 - accuracy: 0.9898\n",
            "Epoch 36: val_accuracy did not improve from 0.99653\n",
            "296/296 [==============================] - 93s 314ms/step - loss: 0.0231 - accuracy: 0.9898 - val_loss: 0.0125 - val_accuracy: 0.9951 - lr: 1.0000e-07\n",
            "Epoch 37/100\n",
            "296/296 [==============================] - ETA: 0s - loss: 0.0202 - accuracy: 0.9907\n",
            "Epoch 37: val_accuracy did not improve from 0.99653\n",
            "296/296 [==============================] - 92s 311ms/step - loss: 0.0202 - accuracy: 0.9907 - val_loss: 0.0124 - val_accuracy: 0.9958 - lr: 1.0000e-07\n",
            "Epoch 38/100\n",
            "296/296 [==============================] - ETA: 0s - loss: 0.0210 - accuracy: 0.9905\n",
            "Epoch 38: val_accuracy did not improve from 0.99653\n",
            "Restoring model weights from the end of the best epoch: 18.\n",
            "\n",
            "Epoch 38: ReduceLROnPlateau reducing learning rate to 1.000000082740371e-08.\n",
            "296/296 [==============================] - 92s 310ms/step - loss: 0.0210 - accuracy: 0.9905 - val_loss: 0.0124 - val_accuracy: 0.9958 - lr: 1.0000e-07\n",
            "Epoch 38: early stopping\n"
          ]
        }
      ]
    },
    {
      "cell_type": "code",
      "source": [
        "#-----------------------------------------------------------\n",
        "# Retrieve a list of list results on training and test data\n",
        "# sets for each training epoch\n",
        "#-----------------------------------------------------------\n",
        "acc      = history_MobileNetV2_model_2.history['accuracy' ]\n",
        "val_acc  = history_MobileNetV2_model_2.history['val_accuracy' ]\n",
        "loss     = history_MobileNetV2_model_2.history['loss' ]\n",
        "val_loss = history_MobileNetV2_model_2.history['val_loss' ]\n",
        "\n",
        "epochs   = range(len(acc)) # Get number of epochs\n",
        "\n",
        "#------------------------------------------------\n",
        "# Plot training and validation accuracy per epoch\n",
        "#------------------------------------------------\n",
        "plt.plot  (epochs, acc )\n",
        "plt.plot  (epochs, val_acc )\n",
        "plt.title ('Training and validation accuracy MobileNetV2 Model 2')\n",
        "plt.legend(['train', 'val'], loc='upper left')\n",
        "plt.figure()\n",
        "\n",
        "#------------------------------------------------\n",
        "# Plot training and validation loss per epoch\n",
        "#------------------------------------------------\n",
        "plt.plot  (epochs, loss)\n",
        "plt.plot  (epochs, val_loss)\n",
        "plt.title ('Training and validation loss MobileNetV2 Model 2')\n",
        "plt.legend(['train', 'val'], loc='upper left')"
      ],
      "metadata": {
        "colab": {
          "base_uri": "https://localhost:8080/",
          "height": 904
        },
        "id": "nE-ioS3CqU8B",
        "outputId": "2eb728c9-ad66-470d-a948-0717f8317b54"
      },
      "execution_count": 13,
      "outputs": [
        {
          "output_type": "execute_result",
          "data": {
            "text/plain": [
              "<matplotlib.legend.Legend at 0x7f100cc315d0>"
            ]
          },
          "metadata": {},
          "execution_count": 13
        },
        {
          "output_type": "display_data",
          "data": {
            "text/plain": [
              "<Figure size 640x480 with 1 Axes>"
            ],
            "image/png": "[encoded data removed]"
          },
          "metadata": {}
        },
        {
          "output_type": "display_data",
          "data": {
            "text/plain": [
              "<Figure size 640x480 with 1 Axes>"
            ],
            "image/png": "[encoded data removed]"
          },
          "metadata": {}
        }
      ]
    },
    {
      "cell_type": "code",
      "source": [
        "!zip -r /content/Potato_MobileNetV2_model2_Based_Augmented.zip /content/Potato_MobileNetV2_model2_Based_Augmented"
      ],
      "metadata": {
        "colab": {
          "base_uri": "https://localhost:8080/"
        },
        "id": "mE8251AJqU-2",
        "outputId": "f2d09fbf-1c92-4b48-da77-4c5530e2e196"
      },
      "execution_count": 14,
      "outputs": [
        {
          "output_type": "stream",
          "name": "stdout",
          "text": [
            "  adding: content/Potato_MobileNetV2_model2_Based_Augmented/ (stored 0%)\n",
            "  adding: content/Potato_MobileNetV2_model2_Based_Augmented/saved_model.pb (deflated 91%)\n",
            "  adding: content/Potato_MobileNetV2_model2_Based_Augmented/fingerprint.pb (stored 0%)\n",
            "  adding: content/Potato_MobileNetV2_model2_Based_Augmented/variables/ (stored 0%)\n",
            "  adding: content/Potato_MobileNetV2_model2_Based_Augmented/variables/variables.data-00000-of-00001 (deflated 9%)\n",
            "  adding: content/Potato_MobileNetV2_model2_Based_Augmented/variables/variables.index (deflated 76%)\n",
            "  adding: content/Potato_MobileNetV2_model2_Based_Augmented/keras_metadata.pb (deflated 96%)\n",
            "  adding: content/Potato_MobileNetV2_model2_Based_Augmented/assets/ (stored 0%)\n"
          ]
        }
      ]
    }
  ]
}