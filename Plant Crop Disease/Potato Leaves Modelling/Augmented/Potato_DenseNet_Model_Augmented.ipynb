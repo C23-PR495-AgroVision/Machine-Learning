{
  "nbformat": 4,
  "nbformat_minor": 0,
  "metadata": {
    "colab": {
      "provenance": [],
      "gpuType": "T4"
    },
    "kernelspec": {
      "name": "python3",
      "display_name": "Python 3"
    },
    "language_info": {
      "name": "python"
    },
    "accelerator": "GPU"
  },
  "cells": [
    {
      "cell_type": "code",
      "execution_count": 1,
      "metadata": {
        "colab": {
          "base_uri": "https://localhost:8080/"
        },
        "id": "jA5wNd61DPKa",
        "outputId": "c6dd6b3b-610f-4c7b-e19c-30640d6acfc6"
      },
      "outputs": [
        {
          "output_type": "stream",
          "name": "stdout",
          "text": [
            "Looking in indexes: https://pypi.org/simple, https://us-python.pkg.dev/colab-wheels/public/simple/\n",
            "Requirement already satisfied: matplotlib in /usr/local/lib/python3.10/dist-packages (3.7.1)\n",
            "Requirement already satisfied: contourpy>=1.0.1 in /usr/local/lib/python3.10/dist-packages (from matplotlib) (1.0.7)\n",
            "Requirement already satisfied: cycler>=0.10 in /usr/local/lib/python3.10/dist-packages (from matplotlib) (0.11.0)\n",
            "Requirement already satisfied: fonttools>=4.22.0 in /usr/local/lib/python3.10/dist-packages (from matplotlib) (4.39.3)\n",
            "Requirement already satisfied: kiwisolver>=1.0.1 in /usr/local/lib/python3.10/dist-packages (from matplotlib) (1.4.4)\n",
            "Requirement already satisfied: numpy>=1.20 in /usr/local/lib/python3.10/dist-packages (from matplotlib) (1.22.4)\n",
            "Requirement already satisfied: packaging>=20.0 in /usr/local/lib/python3.10/dist-packages (from matplotlib) (23.1)\n",
            "Requirement already satisfied: pillow>=6.2.0 in /usr/local/lib/python3.10/dist-packages (from matplotlib) (8.4.0)\n",
            "Requirement already satisfied: pyparsing>=2.3.1 in /usr/local/lib/python3.10/dist-packages (from matplotlib) (3.0.9)\n",
            "Requirement already satisfied: python-dateutil>=2.7 in /usr/local/lib/python3.10/dist-packages (from matplotlib) (2.8.2)\n",
            "Requirement already satisfied: six>=1.5 in /usr/local/lib/python3.10/dist-packages (from python-dateutil>=2.7->matplotlib) (1.16.0)\n"
          ]
        }
      ],
      "source": [
        "pip install matplotlib"
      ]
    },
    {
      "cell_type": "code",
      "source": [
        "pip install opendatasets"
      ],
      "metadata": {
        "colab": {
          "base_uri": "https://localhost:8080/"
        },
        "id": "scEcSMt3DYzZ",
        "outputId": "7ab47d77-c56f-4561-ba08-02bc52a16e76"
      },
      "execution_count": 2,
      "outputs": [
        {
          "output_type": "stream",
          "name": "stdout",
          "text": [
            "Looking in indexes: https://pypi.org/simple, https://us-python.pkg.dev/colab-wheels/public/simple/\n",
            "Collecting opendatasets\n",
            "  Downloading opendatasets-0.1.22-py3-none-any.whl (15 kB)\n",
            "Requirement already satisfied: tqdm in /usr/local/lib/python3.10/dist-packages (from opendatasets) (4.65.0)\n",
            "Requirement already satisfied: kaggle in /usr/local/lib/python3.10/dist-packages (from opendatasets) (1.5.13)\n",
            "Requirement already satisfied: click in /usr/local/lib/python3.10/dist-packages (from opendatasets) (8.1.3)\n",
            "Requirement already satisfied: six>=1.10 in /usr/local/lib/python3.10/dist-packages (from kaggle->opendatasets) (1.16.0)\n",
            "Requirement already satisfied: certifi in /usr/local/lib/python3.10/dist-packages (from kaggle->opendatasets) (2022.12.7)\n",
            "Requirement already satisfied: python-dateutil in /usr/local/lib/python3.10/dist-packages (from kaggle->opendatasets) (2.8.2)\n",
            "Requirement already satisfied: requests in /usr/local/lib/python3.10/dist-packages (from kaggle->opendatasets) (2.27.1)\n",
            "Requirement already satisfied: python-slugify in /usr/local/lib/python3.10/dist-packages (from kaggle->opendatasets) (8.0.1)\n",
            "Requirement already satisfied: urllib3 in /usr/local/lib/python3.10/dist-packages (from kaggle->opendatasets) (1.26.15)\n",
            "Requirement already satisfied: text-unidecode>=1.3 in /usr/local/lib/python3.10/dist-packages (from python-slugify->kaggle->opendatasets) (1.3)\n",
            "Requirement already satisfied: charset-normalizer~=2.0.0 in /usr/local/lib/python3.10/dist-packages (from requests->kaggle->opendatasets) (2.0.12)\n",
            "Requirement already satisfied: idna<4,>=2.5 in /usr/local/lib/python3.10/dist-packages (from requests->kaggle->opendatasets) (3.4)\n",
            "Installing collected packages: opendatasets\n",
            "Successfully installed opendatasets-0.1.22\n"
          ]
        }
      ]
    },
    {
      "cell_type": "code",
      "source": [
        "# Library to dataset\n",
        "import opendatasets as od\n",
        "import os\n",
        "import zipfile\n",
        "import numpy as np\n",
        "\n",
        "# Surpress Warnings\n",
        "import warnings\n",
        "warnings.filterwarnings('ignore')\n",
        "os.environ['TF_CPP_MIN_LOG_LEVEL'] = '3' \n",
        "# library visualization\n",
        "import matplotlib.pyplot as plt\n",
        "\n",
        "# Library Tensorflow\n",
        "import tensorflow as tf\n",
        "from tensorflow import keras\n",
        "from tensorflow.keras.preprocessing.image import ImageDataGenerator\n",
        "from tensorflow.keras.callbacks import ModelCheckpoint, EarlyStopping, ReduceLROnPlateau\n",
        "from tensorflow.keras.applications.densenet import DenseNet121\n",
        "# Others\n",
        "import shutil\n",
        "import random"
      ],
      "metadata": {
        "id": "WcTOkeGMDcML"
      },
      "execution_count": 3,
      "outputs": []
    },
    {
      "cell_type": "markdown",
      "source": [],
      "metadata": {
        "id": "mJ6v0HbdDc2V"
      }
    },
    {
      "cell_type": "code",
      "source": [
        "# Download dataset\n",
        "od.download('https://www.kaggle.com/datasets/faudyanurul/potato')"
      ],
      "metadata": {
        "colab": {
          "base_uri": "https://localhost:8080/"
        },
        "id": "bKB0wyZ8Dc_H",
        "outputId": "f3292ae9-5133-4b3b-b241-a13ac3598caa"
      },
      "execution_count": 4,
      "outputs": [
        {
          "output_type": "stream",
          "name": "stdout",
          "text": [
            "Please provide your Kaggle credentials to download this dataset. Learn more: http://bit.ly/kaggle-creds\n",
            "Your Kaggle username: faudyanurul\n",
            "Your Kaggle Key: ··········\n",
            "Downloading potato.zip to ./potato\n"
          ]
        },
        {
          "output_type": "stream",
          "name": "stderr",
          "text": [
            "100%|██████████| 185M/185M [00:08<00:00, 21.6MB/s]\n"
          ]
        },
        {
          "output_type": "stream",
          "name": "stdout",
          "text": [
            "\n"
          ]
        }
      ]
    },
    {
      "cell_type": "code",
      "source": [
        "# Load dataset\n",
        "print(\"==========================Training Data====================\")\n",
        "train_data = tf.keras.preprocessing.image_dataset_from_directory(\n",
        "    \"potato/Potato/train\",\n",
        "    label_mode=\"categorical\",\n",
        "    class_names= ['Potato healthy', 'Potato leaf early blight', 'Potato leaf late blight'],\n",
        "    color_mode=\"rgb\",\n",
        "    batch_size=1,\n",
        "    image_size=(256, 256),\n",
        "    shuffle=True,\n",
        "    seed=123\n",
        ")\n",
        "print(\"==========================Validation Data====================\")\n",
        "val_data = tf.keras.preprocessing.image_dataset_from_directory(\n",
        "    \"potato/Potato/valid\",\n",
        "    label_mode=\"categorical\",\n",
        "    class_names= ['Potato healthy', 'Potato leaf early blight', 'Potato leaf late blight'],\n",
        "    color_mode=\"rgb\",\n",
        "    batch_size=1,\n",
        "    image_size=(256, 256),\n",
        "    shuffle=True,\n",
        "    seed=123\n",
        ")"
      ],
      "metadata": {
        "colab": {
          "base_uri": "https://localhost:8080/"
        },
        "id": "_dSzd0rPDkCJ",
        "outputId": "541abffb-28e5-4aaf-b30c-cd27144ae970"
      },
      "execution_count": 5,
      "outputs": [
        {
          "output_type": "stream",
          "name": "stdout",
          "text": [
            "==========================Training Data====================\n",
            "Found 5907 files belonging to 3 classes.\n",
            "==========================Validation Data====================\n",
            "Found 1442 files belonging to 3 classes.\n"
          ]
        }
      ]
    },
    {
      "cell_type": "code",
      "source": [
        "# All images will be rescaled by 1./255.and augmented\n",
        "train_datagen = ImageDataGenerator(rescale = 1.0/256.,\n",
        "                                   rotation_range=40,\n",
        "                                   width_shift_range=0.2,\n",
        "                                   height_shift_range=0.2,\n",
        "                                   shear_range=0.2,\n",
        "                                   zoom_range=0.2,\n",
        "                                   horizontal_flip=True,\n",
        "                                   fill_mode='nearest')\n",
        "\n",
        "test_datagen  = ImageDataGenerator(rescale = 1.0/256.)\n",
        "\n",
        "# --------------------\n",
        "# Flow training images in batches of 20 using train_datagen generator\n",
        "# --------------------\n",
        "train_generator = train_datagen.flow_from_directory(\"potato/Potato/train\",\n",
        "                                                    batch_size=20,\n",
        "                                                    class_mode='categorical',\n",
        "                                                    target_size=(224, 224))     \n",
        "# --------------------\n",
        "# Flow validation images in batches of 20 using test_datagen generator\n",
        "# --------------------\n",
        "validation_generator =  test_datagen.flow_from_directory(\"potato/Potato/valid\",\n",
        "                                                         batch_size=20,\n",
        "                                                         class_mode  = 'categorical',\n",
        "                                                         target_size = (224, 224))\n"
      ],
      "metadata": {
        "colab": {
          "base_uri": "https://localhost:8080/"
        },
        "id": "RQJdXvzwDnjF",
        "outputId": "3e0d72e2-0cd2-4775-a5f1-d9c9e9f0ee28"
      },
      "execution_count": 6,
      "outputs": [
        {
          "output_type": "stream",
          "name": "stdout",
          "text": [
            "Found 5907 images belonging to 3 classes.\n",
            "Found 1442 images belonging to 3 classes.\n"
          ]
        }
      ]
    },
    {
      "cell_type": "markdown",
      "source": [],
      "metadata": {
        "id": "UZJ_A4j_Dn98"
      }
    },
    {
      "cell_type": "code",
      "source": [
        "# Check GPU\n",
        "!nvidia-smi"
      ],
      "metadata": {
        "colab": {
          "base_uri": "https://localhost:8080/"
        },
        "id": "6of2XEJeDoTH",
        "outputId": "c4c735d8-c836-4520-92a6-9cc3635766c7"
      },
      "execution_count": 7,
      "outputs": [
        {
          "output_type": "stream",
          "name": "stdout",
          "text": [
            "Wed Jun  7 04:21:07 2023       \n",
            "+-----------------------------------------------------------------------------+\n",
            "| NVIDIA-SMI 525.85.12    Driver Version: 525.85.12    CUDA Version: 12.0     |\n",
            "|-------------------------------+----------------------+----------------------+\n",
            "| GPU  Name        Persistence-M| Bus-Id        Disp.A | Volatile Uncorr. ECC |\n",
            "| Fan  Temp  Perf  Pwr:Usage/Cap|         Memory-Usage | GPU-Util  Compute M. |\n",
            "|                               |                      |               MIG M. |\n",
            "|===============================+======================+======================|\n",
            "|   0  Tesla T4            Off  | 00000000:00:04.0 Off |                    0 |\n",
            "| N/A   47C    P0    25W /  70W |    389MiB / 15360MiB |      0%      Default |\n",
            "|                               |                      |                  N/A |\n",
            "+-------------------------------+----------------------+----------------------+\n",
            "                                                                               \n",
            "+-----------------------------------------------------------------------------+\n",
            "| Processes:                                                                  |\n",
            "|  GPU   GI   CI        PID   Type   Process name                  GPU Memory |\n",
            "|        ID   ID                                                   Usage      |\n",
            "|=============================================================================|\n",
            "+-----------------------------------------------------------------------------+\n"
          ]
        }
      ]
    },
    {
      "cell_type": "code",
      "source": [
        "# Lis physical devices\n",
        "devices = tf.config.experimental.list_physical_devices(\"GPU\")\n",
        "devices"
      ],
      "metadata": {
        "colab": {
          "base_uri": "https://localhost:8080/"
        },
        "id": "1XwJf9XbDqcB",
        "outputId": "9c0257ed-2f8c-40c3-e90e-32b4a5b6ec47"
      },
      "execution_count": 8,
      "outputs": [
        {
          "output_type": "execute_result",
          "data": {
            "text/plain": [
              "[PhysicalDevice(name='/physical_device:GPU:0', device_type='GPU')]"
            ]
          },
          "metadata": {},
          "execution_count": 8
        }
      ]
    },
    {
      "cell_type": "code",
      "source": [
        "# Define the GPU strategy\n",
        "mirrored_strategy = tf.distribute.MirroredStrategy(devices=[\"/gpu:0\"])"
      ],
      "metadata": {
        "id": "V9fOwiIHDr-t"
      },
      "execution_count": 9,
      "outputs": []
    },
    {
      "cell_type": "markdown",
      "source": [
        "DenseNet Model 1"
      ],
      "metadata": {
        "id": "rpFZKe1UDtyV"
      }
    },
    {
      "cell_type": "code",
      "source": [
        "# Difine the callbacks\n",
        "# Save the best model\n",
        "checkpoint_callback = ModelCheckpoint(filepath=\"Potato_DenseNet_model1_Based_Augmented\", save_best_only=True, monitor=\"val_accuracy\", mode=\"max\", verbose=1)\n",
        "\n",
        "# Early stopping\n",
        "early_stopping_callback = EarlyStopping(monitor=\"val_accuracy\", mode=\"max\", patience=20, verbose=1, restore_best_weights=True)\n",
        "\n",
        "# Reduce learning rate\n",
        "reduce_lr_callback = ReduceLROnPlateau(monitor=\"val_loss\", factor=0.1, patience=5, verbose=1, mode=\"min\", min_delta=0.0001, cooldown=0, min_lr=0)\n",
        "\n",
        "# Callbacks list\n",
        "callbacks=[checkpoint_callback, early_stopping_callback, reduce_lr_callback]"
      ],
      "metadata": {
        "id": "-KnaKzs-Dtkq"
      },
      "execution_count": 10,
      "outputs": []
    },
    {
      "cell_type": "code",
      "source": [
        "# Define DIY Model\n",
        "DenseNet_model = tf.keras.models.Sequential([\n",
        "    # DenseNet121 Layer\n",
        "    DenseNet121(include_top=False,weights='imagenet',input_shape=(224, 224, 3)),\n",
        "    # Global Max Pooling Layer\n",
        "    tf.keras.layers.GlobalMaxPooling2D(),\n",
        "    # Drop Out Layer\n",
        "    tf.keras.layers.Dropout(0.2),\n",
        "    # 256 neuron hidden layer\n",
        "    tf.keras.layers.Dense(256, activation='relu'),\n",
        "    # Output\n",
        "    tf.keras.layers.Dense(3, activation='softmax') \n",
        "  ])\n",
        "\n",
        "\n",
        "# Compile Model\n",
        "DenseNet_model.compile(loss='categorical_crossentropy',optimizer=tf.keras.optimizers.Adam(), metrics=['accuracy']) \n",
        "\n",
        "# Model Summary\n",
        "DenseNet_model.summary()"
      ],
      "metadata": {
        "colab": {
          "base_uri": "https://localhost:8080/"
        },
        "id": "K5o7rqUoEQ-h",
        "outputId": "021fa89a-d8dd-42ec-a3ce-447658dc1ee3"
      },
      "execution_count": 11,
      "outputs": [
        {
          "output_type": "stream",
          "name": "stdout",
          "text": [
            "Downloading data from https://storage.googleapis.com/tensorflow/keras-applications/densenet/densenet121_weights_tf_dim_ordering_tf_kernels_notop.h5\n",
            "29084464/29084464 [==============================] - 1s 0us/step\n",
            "Model: \"sequential\"\n",
            "_________________________________________________________________\n",
            " Layer (type)                Output Shape              Param #   \n",
            "=================================================================\n",
            " densenet121 (Functional)    (None, 7, 7, 1024)        7037504   \n",
            "                                                                 \n",
            " global_max_pooling2d (Globa  (None, 1024)             0         \n",
            " lMaxPooling2D)                                                  \n",
            "                                                                 \n",
            " dropout (Dropout)           (None, 1024)              0         \n",
            "                                                                 \n",
            " dense (Dense)               (None, 256)               262400    \n",
            "                                                                 \n",
            " dense_1 (Dense)             (None, 3)                 771       \n",
            "                                                                 \n",
            "=================================================================\n",
            "Total params: 7,300,675\n",
            "Trainable params: 7,217,027\n",
            "Non-trainable params: 83,648\n",
            "_________________________________________________________________\n"
          ]
        }
      ]
    },
    {
      "cell_type": "code",
      "source": [
        "# Define the number of epochs\n",
        "num_epochs = 100\n",
        "\n",
        "# Train the model\n",
        "history_DenseNet_model_1 = DenseNet_model.fit(train_generator, epochs=num_epochs, validation_data=validation_generator, callbacks=callbacks)"
      ],
      "metadata": {
        "colab": {
          "base_uri": "https://localhost:8080/"
        },
        "id": "ptLGHCsaEWYu",
        "outputId": "653bc74c-146a-4c85-d424-7e0e8221078b"
      },
      "execution_count": 12,
      "outputs": [
        {
          "output_type": "stream",
          "name": "stdout",
          "text": [
            "Epoch 1/100\n",
            "296/296 [==============================] - ETA: 0s - loss: 0.3885 - accuracy: 0.9194\n",
            "Epoch 1: val_accuracy improved from -inf to 0.94799, saving model to Potato_DenseNet_model1_Based_Augmented\n"
          ]
        },
        {
          "output_type": "stream",
          "name": "stderr",
          "text": [
            "WARNING:absl:Found untraced functions such as _jit_compiled_convolution_op, _jit_compiled_convolution_op, _jit_compiled_convolution_op, _jit_compiled_convolution_op, _jit_compiled_convolution_op while saving (showing 5 of 120). These functions will not be directly callable after loading.\n"
          ]
        },
        {
          "output_type": "stream",
          "name": "stdout",
          "text": [
            "\b\b\b\b\b\b\b\b\b\b\b\b\b\b\b\b\b\b\b\b\b\b\b\b\b\b\b\b\b\b\b\b\b\b\b\b\b\b\b\b\b\b\b\b\b\b\b\b\b\b\b\b\b\b\b\b\b\b\b\b\b\b\b\b\b\b\b\b\b\b\b\b\b\b\b\b\b\b\b\b\b\b\b\b\r296/296 [==============================] - 265s 600ms/step - loss: 0.3885 - accuracy: 0.9194 - val_loss: 0.1805 - val_accuracy: 0.9480 - lr: 0.0010\n",
            "Epoch 2/100\n",
            "296/296 [==============================] - ETA: 0s - loss: 0.0867 - accuracy: 0.9677\n",
            "Epoch 2: val_accuracy improved from 0.94799 to 0.98613, saving model to Potato_DenseNet_model1_Based_Augmented\n"
          ]
        },
        {
          "output_type": "stream",
          "name": "stderr",
          "text": [
            "WARNING:absl:Found untraced functions such as _jit_compiled_convolution_op, _jit_compiled_convolution_op, _jit_compiled_convolution_op, _jit_compiled_convolution_op, _jit_compiled_convolution_op while saving (showing 5 of 120). These functions will not be directly callable after loading.\n"
          ]
        },
        {
          "output_type": "stream",
          "name": "stdout",
          "text": [
            "\b\b\b\b\b\b\b\b\b\b\b\b\b\b\b\b\b\b\b\b\b\b\b\b\b\b\b\b\b\b\b\b\b\b\b\b\b\b\b\b\b\b\b\b\b\b\b\b\b\b\b\b\b\b\b\b\b\b\b\b\b\b\b\b\b\b\b\b\b\b\b\b\b\b\b\b\b\b\b\b\b\b\b\b\r296/296 [==============================] - 167s 563ms/step - loss: 0.0867 - accuracy: 0.9677 - val_loss: 0.0384 - val_accuracy: 0.9861 - lr: 0.0010\n",
            "Epoch 3/100\n",
            "296/296 [==============================] - ETA: 0s - loss: 0.1202 - accuracy: 0.9655\n",
            "Epoch 3: val_accuracy did not improve from 0.98613\n",
            "296/296 [==============================] - 108s 363ms/step - loss: 0.1202 - accuracy: 0.9655 - val_loss: 0.1822 - val_accuracy: 0.9431 - lr: 0.0010\n",
            "Epoch 4/100\n",
            "296/296 [==============================] - ETA: 0s - loss: 0.0945 - accuracy: 0.9648\n",
            "Epoch 4: val_accuracy did not improve from 0.98613\n",
            "296/296 [==============================] - 106s 359ms/step - loss: 0.0945 - accuracy: 0.9648 - val_loss: 0.1085 - val_accuracy: 0.9674 - lr: 0.0010\n",
            "Epoch 5/100\n",
            "296/296 [==============================] - ETA: 0s - loss: 0.0622 - accuracy: 0.9756\n",
            "Epoch 5: val_accuracy did not improve from 0.98613\n",
            "296/296 [==============================] - 108s 366ms/step - loss: 0.0622 - accuracy: 0.9756 - val_loss: 2.1887 - val_accuracy: 0.6644 - lr: 0.0010\n",
            "Epoch 6/100\n",
            "296/296 [==============================] - ETA: 0s - loss: 0.0647 - accuracy: 0.9753\n",
            "Epoch 6: val_accuracy improved from 0.98613 to 0.99515, saving model to Potato_DenseNet_model1_Based_Augmented\n"
          ]
        },
        {
          "output_type": "stream",
          "name": "stderr",
          "text": [
            "WARNING:absl:Found untraced functions such as _jit_compiled_convolution_op, _jit_compiled_convolution_op, _jit_compiled_convolution_op, _jit_compiled_convolution_op, _jit_compiled_convolution_op while saving (showing 5 of 120). These functions will not be directly callable after loading.\n"
          ]
        },
        {
          "output_type": "stream",
          "name": "stdout",
          "text": [
            "\b\b\b\b\b\b\b\b\b\b\b\b\b\b\b\b\b\b\b\b\b\b\b\b\b\b\b\b\b\b\b\b\b\b\b\b\b\b\b\b\b\b\b\b\b\b\b\b\b\b\b\b\b\b\b\b\b\b\b\b\b\b\b\b\b\b\b\b\b\b\b\b\b\b\b\b\b\b\b\b\b\b\b\b\r296/296 [==============================] - 166s 562ms/step - loss: 0.0647 - accuracy: 0.9753 - val_loss: 0.0150 - val_accuracy: 0.9951 - lr: 0.0010\n",
            "Epoch 7/100\n",
            "296/296 [==============================] - ETA: 0s - loss: 0.0518 - accuracy: 0.9788\n",
            "Epoch 7: val_accuracy did not improve from 0.99515\n",
            "296/296 [==============================] - 108s 364ms/step - loss: 0.0518 - accuracy: 0.9788 - val_loss: 0.2769 - val_accuracy: 0.9230 - lr: 0.0010\n",
            "Epoch 8/100\n",
            "296/296 [==============================] - ETA: 0s - loss: 0.0694 - accuracy: 0.9743\n",
            "Epoch 8: val_accuracy did not improve from 0.99515\n",
            "296/296 [==============================] - 106s 357ms/step - loss: 0.0694 - accuracy: 0.9743 - val_loss: 0.0738 - val_accuracy: 0.9743 - lr: 0.0010\n",
            "Epoch 9/100\n",
            "296/296 [==============================] - ETA: 0s - loss: 0.0524 - accuracy: 0.9777\n",
            "Epoch 9: val_accuracy did not improve from 0.99515\n",
            "296/296 [==============================] - 108s 363ms/step - loss: 0.0524 - accuracy: 0.9777 - val_loss: 0.0296 - val_accuracy: 0.9938 - lr: 0.0010\n",
            "Epoch 10/100\n",
            "296/296 [==============================] - ETA: 0s - loss: 0.0550 - accuracy: 0.9766\n",
            "Epoch 10: val_accuracy did not improve from 0.99515\n",
            "296/296 [==============================] - 106s 356ms/step - loss: 0.0550 - accuracy: 0.9766 - val_loss: 0.0711 - val_accuracy: 0.9750 - lr: 0.0010\n",
            "Epoch 11/100\n",
            "296/296 [==============================] - ETA: 0s - loss: 0.0603 - accuracy: 0.9751\n",
            "Epoch 11: val_accuracy did not improve from 0.99515\n",
            "\n",
            "Epoch 11: ReduceLROnPlateau reducing learning rate to 0.00010000000474974513.\n",
            "296/296 [==============================] - 115s 388ms/step - loss: 0.0603 - accuracy: 0.9751 - val_loss: 0.0350 - val_accuracy: 0.9882 - lr: 0.0010\n",
            "Epoch 12/100\n",
            "296/296 [==============================] - ETA: 0s - loss: 0.0395 - accuracy: 0.9815\n",
            "Epoch 12: val_accuracy did not improve from 0.99515\n",
            "296/296 [==============================] - 112s 379ms/step - loss: 0.0395 - accuracy: 0.9815 - val_loss: 0.0276 - val_accuracy: 0.9931 - lr: 1.0000e-04\n",
            "Epoch 13/100\n",
            "296/296 [==============================] - ETA: 0s - loss: 0.0313 - accuracy: 0.9856\n",
            "Epoch 13: val_accuracy did not improve from 0.99515\n",
            "296/296 [==============================] - 109s 368ms/step - loss: 0.0313 - accuracy: 0.9856 - val_loss: 0.0171 - val_accuracy: 0.9945 - lr: 1.0000e-04\n",
            "Epoch 14/100\n",
            "296/296 [==============================] - ETA: 0s - loss: 0.0289 - accuracy: 0.9870\n",
            "Epoch 14: val_accuracy did not improve from 0.99515\n",
            "296/296 [==============================] - 109s 367ms/step - loss: 0.0289 - accuracy: 0.9870 - val_loss: 0.0168 - val_accuracy: 0.9945 - lr: 1.0000e-04\n",
            "Epoch 15/100\n",
            "296/296 [==============================] - ETA: 0s - loss: 0.0293 - accuracy: 0.9871\n",
            "Epoch 15: val_accuracy improved from 0.99515 to 0.99653, saving model to Potato_DenseNet_model1_Based_Augmented\n"
          ]
        },
        {
          "output_type": "stream",
          "name": "stderr",
          "text": [
            "WARNING:absl:Found untraced functions such as _jit_compiled_convolution_op, _jit_compiled_convolution_op, _jit_compiled_convolution_op, _jit_compiled_convolution_op, _jit_compiled_convolution_op while saving (showing 5 of 120). These functions will not be directly callable after loading.\n"
          ]
        },
        {
          "output_type": "stream",
          "name": "stdout",
          "text": [
            "\b\b\b\b\b\b\b\b\b\b\b\b\b\b\b\b\b\b\b\b\b\b\b\b\b\b\b\b\b\b\b\b\b\b\b\b\b\b\b\b\b\b\b\b\b\b\b\b\b\b\b\b\b\b\b\b\b\b\b\b\b\b\b\b\b\b\b\b\b\b\b\b\b\b\b\b\b\b\b\b\b\b\b\b\r296/296 [==============================] - 172s 583ms/step - loss: 0.0293 - accuracy: 0.9871 - val_loss: 0.0157 - val_accuracy: 0.9965 - lr: 1.0000e-04\n",
            "Epoch 16/100\n",
            "296/296 [==============================] - ETA: 0s - loss: 0.0285 - accuracy: 0.9863\n",
            "Epoch 16: val_accuracy did not improve from 0.99653\n",
            "\n",
            "Epoch 16: ReduceLROnPlateau reducing learning rate to 1.0000000474974514e-05.\n",
            "296/296 [==============================] - 108s 366ms/step - loss: 0.0285 - accuracy: 0.9863 - val_loss: 0.0315 - val_accuracy: 0.9910 - lr: 1.0000e-04\n",
            "Epoch 17/100\n",
            "296/296 [==============================] - ETA: 0s - loss: 0.0253 - accuracy: 0.9875\n",
            "Epoch 17: val_accuracy did not improve from 0.99653\n",
            "296/296 [==============================] - 107s 362ms/step - loss: 0.0253 - accuracy: 0.9875 - val_loss: 0.0186 - val_accuracy: 0.9938 - lr: 1.0000e-05\n",
            "Epoch 18/100\n",
            "296/296 [==============================] - ETA: 0s - loss: 0.0234 - accuracy: 0.9871\n",
            "Epoch 18: val_accuracy did not improve from 0.99653\n",
            "296/296 [==============================] - 108s 365ms/step - loss: 0.0234 - accuracy: 0.9871 - val_loss: 0.0188 - val_accuracy: 0.9945 - lr: 1.0000e-05\n",
            "Epoch 19/100\n",
            "296/296 [==============================] - ETA: 0s - loss: 0.0222 - accuracy: 0.9905\n",
            "Epoch 19: val_accuracy did not improve from 0.99653\n",
            "296/296 [==============================] - 109s 370ms/step - loss: 0.0222 - accuracy: 0.9905 - val_loss: 0.0204 - val_accuracy: 0.9931 - lr: 1.0000e-05\n",
            "Epoch 20/100\n",
            "296/296 [==============================] - ETA: 0s - loss: 0.0228 - accuracy: 0.9892\n",
            "Epoch 20: val_accuracy did not improve from 0.99653\n",
            "296/296 [==============================] - 107s 361ms/step - loss: 0.0228 - accuracy: 0.9892 - val_loss: 0.0178 - val_accuracy: 0.9945 - lr: 1.0000e-05\n",
            "Epoch 21/100\n",
            "296/296 [==============================] - ETA: 0s - loss: 0.0232 - accuracy: 0.9892\n",
            "Epoch 21: val_accuracy did not improve from 0.99653\n",
            "\n",
            "Epoch 21: ReduceLROnPlateau reducing learning rate to 1.0000000656873453e-06.\n",
            "296/296 [==============================] - 109s 369ms/step - loss: 0.0232 - accuracy: 0.9892 - val_loss: 0.0192 - val_accuracy: 0.9938 - lr: 1.0000e-05\n",
            "Epoch 22/100\n",
            "296/296 [==============================] - ETA: 0s - loss: 0.0216 - accuracy: 0.9888\n",
            "Epoch 22: val_accuracy did not improve from 0.99653\n",
            "296/296 [==============================] - 109s 368ms/step - loss: 0.0216 - accuracy: 0.9888 - val_loss: 0.0188 - val_accuracy: 0.9938 - lr: 1.0000e-06\n",
            "Epoch 23/100\n",
            "296/296 [==============================] - ETA: 0s - loss: 0.0208 - accuracy: 0.9897\n",
            "Epoch 23: val_accuracy did not improve from 0.99653\n",
            "296/296 [==============================] - 108s 366ms/step - loss: 0.0208 - accuracy: 0.9897 - val_loss: 0.0187 - val_accuracy: 0.9945 - lr: 1.0000e-06\n",
            "Epoch 24/100\n",
            "296/296 [==============================] - ETA: 0s - loss: 0.0230 - accuracy: 0.9898\n",
            "Epoch 24: val_accuracy did not improve from 0.99653\n",
            "296/296 [==============================] - 108s 363ms/step - loss: 0.0230 - accuracy: 0.9898 - val_loss: 0.0196 - val_accuracy: 0.9938 - lr: 1.0000e-06\n",
            "Epoch 25/100\n",
            "296/296 [==============================] - ETA: 0s - loss: 0.0237 - accuracy: 0.9892\n",
            "Epoch 25: val_accuracy did not improve from 0.99653\n",
            "296/296 [==============================] - 110s 373ms/step - loss: 0.0237 - accuracy: 0.9892 - val_loss: 0.0189 - val_accuracy: 0.9938 - lr: 1.0000e-06\n",
            "Epoch 26/100\n",
            "296/296 [==============================] - ETA: 0s - loss: 0.0232 - accuracy: 0.9897\n",
            "Epoch 26: val_accuracy did not improve from 0.99653\n",
            "\n",
            "Epoch 26: ReduceLROnPlateau reducing learning rate to 1.0000001111620805e-07.\n",
            "296/296 [==============================] - 109s 367ms/step - loss: 0.0232 - accuracy: 0.9897 - val_loss: 0.0178 - val_accuracy: 0.9945 - lr: 1.0000e-06\n",
            "Epoch 27/100\n",
            "296/296 [==============================] - ETA: 0s - loss: 0.0228 - accuracy: 0.9895\n",
            "Epoch 27: val_accuracy did not improve from 0.99653\n",
            "296/296 [==============================] - 109s 368ms/step - loss: 0.0228 - accuracy: 0.9895 - val_loss: 0.0198 - val_accuracy: 0.9938 - lr: 1.0000e-07\n",
            "Epoch 28/100\n",
            "296/296 [==============================] - ETA: 0s - loss: 0.0231 - accuracy: 0.9900\n",
            "Epoch 28: val_accuracy did not improve from 0.99653\n",
            "296/296 [==============================] - 108s 366ms/step - loss: 0.0231 - accuracy: 0.9900 - val_loss: 0.0182 - val_accuracy: 0.9945 - lr: 1.0000e-07\n",
            "Epoch 29/100\n",
            "296/296 [==============================] - ETA: 0s - loss: 0.0236 - accuracy: 0.9895\n",
            "Epoch 29: val_accuracy did not improve from 0.99653\n",
            "296/296 [==============================] - 109s 368ms/step - loss: 0.0236 - accuracy: 0.9895 - val_loss: 0.0180 - val_accuracy: 0.9945 - lr: 1.0000e-07\n",
            "Epoch 30/100\n",
            "296/296 [==============================] - ETA: 0s - loss: 0.0237 - accuracy: 0.9887\n",
            "Epoch 30: val_accuracy did not improve from 0.99653\n",
            "296/296 [==============================] - 107s 361ms/step - loss: 0.0237 - accuracy: 0.9887 - val_loss: 0.0184 - val_accuracy: 0.9945 - lr: 1.0000e-07\n",
            "Epoch 31/100\n",
            "296/296 [==============================] - ETA: 0s - loss: 0.0225 - accuracy: 0.9897\n",
            "Epoch 31: val_accuracy did not improve from 0.99653\n",
            "\n",
            "Epoch 31: ReduceLROnPlateau reducing learning rate to 1.000000082740371e-08.\n",
            "296/296 [==============================] - 108s 363ms/step - loss: 0.0225 - accuracy: 0.9897 - val_loss: 0.0192 - val_accuracy: 0.9938 - lr: 1.0000e-07\n",
            "Epoch 32/100\n",
            "296/296 [==============================] - ETA: 0s - loss: 0.0232 - accuracy: 0.9892\n",
            "Epoch 32: val_accuracy did not improve from 0.99653\n",
            "296/296 [==============================] - 107s 362ms/step - loss: 0.0232 - accuracy: 0.9892 - val_loss: 0.0179 - val_accuracy: 0.9951 - lr: 1.0000e-08\n",
            "Epoch 33/100\n",
            "296/296 [==============================] - ETA: 0s - loss: 0.0231 - accuracy: 0.9890\n",
            "Epoch 33: val_accuracy did not improve from 0.99653\n",
            "296/296 [==============================] - 107s 361ms/step - loss: 0.0231 - accuracy: 0.9890 - val_loss: 0.0171 - val_accuracy: 0.9958 - lr: 1.0000e-08\n",
            "Epoch 34/100\n",
            "296/296 [==============================] - ETA: 0s - loss: 0.0240 - accuracy: 0.9888\n",
            "Epoch 34: val_accuracy did not improve from 0.99653\n",
            "296/296 [==============================] - 106s 358ms/step - loss: 0.0240 - accuracy: 0.9888 - val_loss: 0.0179 - val_accuracy: 0.9945 - lr: 1.0000e-08\n",
            "Epoch 35/100\n",
            "296/296 [==============================] - ETA: 0s - loss: 0.0204 - accuracy: 0.9898\n",
            "Epoch 35: val_accuracy did not improve from 0.99653\n",
            "Restoring model weights from the end of the best epoch: 15.\n",
            "296/296 [==============================] - 106s 359ms/step - loss: 0.0204 - accuracy: 0.9898 - val_loss: 0.0186 - val_accuracy: 0.9938 - lr: 1.0000e-08\n",
            "Epoch 35: early stopping\n"
          ]
        }
      ]
    },
    {
      "cell_type": "code",
      "source": [
        "#-----------------------------------------------------------\n",
        "# Retrieve a list of list results on training and test data\n",
        "# sets for each training epoch\n",
        "#-----------------------------------------------------------\n",
        "acc      = history_DenseNet_model_1.history['accuracy' ]\n",
        "val_acc  = history_DenseNet_model_1.history['val_accuracy' ]\n",
        "loss     = history_DenseNet_model_1.history['loss' ]\n",
        "val_loss = history_DenseNet_model_1.history['val_loss' ]\n",
        "\n",
        "epochs   = range(len(acc)) # Get number of epochs\n",
        "\n",
        "#------------------------------------------------\n",
        "# Plot training and validation accuracy per epoch\n",
        "#------------------------------------------------\n",
        "plt.plot  (epochs, acc )\n",
        "plt.plot  (epochs, val_acc )\n",
        "plt.title ('Training and validation accuracy DenseNet Model 1')\n",
        "plt.legend(['train', 'val'], loc='upper left')\n",
        "plt.figure()\n",
        "\n",
        "#------------------------------------------------\n",
        "# Plot training and validation loss per epoch\n",
        "#------------------------------------------------\n",
        "plt.plot  (epochs, loss)\n",
        "plt.plot  (epochs, val_loss)\n",
        "plt.title ('Training and validation loss DenseNet Model 1')\n",
        "plt.legend(['train', 'val'], loc='upper left')"
      ],
      "metadata": {
        "colab": {
          "base_uri": "https://localhost:8080/",
          "height": 904
        },
        "id": "mbMG_ukREYoU",
        "outputId": "163886b5-bc97-4b90-e3d3-6aea95dc956f"
      },
      "execution_count": 13,
      "outputs": [
        {
          "output_type": "execute_result",
          "data": {
            "text/plain": [
              "<matplotlib.legend.Legend at 0x7f9970e76740>"
            ]
          },
          "metadata": {},
          "execution_count": 13
        },
        {
          "output_type": "display_data",
          "data": {
            "text/plain": [
              "<Figure size 640x480 with 1 Axes>"
            ],
            "image/png": "[encoded data removed]"
          },
          "metadata": {}
        },
        {
          "output_type": "display_data",
          "data": {
            "text/plain": [
              "<Figure size 640x480 with 1 Axes>"
            ],
            "image/png": "[encoded data removed]"
          },
          "metadata": {}
        }
      ]
    },
    {
      "cell_type": "code",
      "source": [
        "!zip -r /content/Potato_DenseNet_model1_Based_Augmented.zip /content/Potato_DenseNet_model1_Based_Augmented"
      ],
      "metadata": {
        "colab": {
          "base_uri": "https://localhost:8080/"
        },
        "id": "phDbAteHEb7w",
        "outputId": "12ba66bc-6199-4f8e-e57a-0e5eae2c3341"
      },
      "execution_count": 14,
      "outputs": [
        {
          "output_type": "stream",
          "name": "stdout",
          "text": [
            "  adding: content/Potato_DenseNet_model1_Based_Augmented/ (stored 0%)\n",
            "  adding: content/Potato_DenseNet_model1_Based_Augmented/saved_model.pb (deflated 92%)\n",
            "  adding: content/Potato_DenseNet_model1_Based_Augmented/fingerprint.pb (stored 0%)\n",
            "  adding: content/Potato_DenseNet_model1_Based_Augmented/variables/ (stored 0%)\n",
            "  adding: content/Potato_DenseNet_model1_Based_Augmented/variables/variables.data-00000-of-00001 (deflated 12%)\n",
            "  adding: content/Potato_DenseNet_model1_Based_Augmented/variables/variables.index (deflated 79%)\n",
            "  adding: content/Potato_DenseNet_model1_Based_Augmented/keras_metadata.pb (deflated 96%)\n",
            "  adding: content/Potato_DenseNet_model1_Based_Augmented/assets/ (stored 0%)\n"
          ]
        }
      ]
    },
    {
      "cell_type": "markdown",
      "source": [
        "DenseNet Model 2"
      ],
      "metadata": {
        "id": "Bav7fd7xEeM-"
      }
    },
    {
      "cell_type": "code",
      "source": [
        "# Difine the callbacks\n",
        "# Save the best model\n",
        "checkpoint_callback = ModelCheckpoint(filepath=\"Potato_DenseNet_model2_Based_Augmented\", save_best_only=True, monitor=\"val_accuracy\", mode=\"max\", verbose=1)\n",
        "\n",
        "# Early stopping\n",
        "early_stopping_callback = EarlyStopping(monitor=\"val_accuracy\", mode=\"max\", patience=20, verbose=1, restore_best_weights=True)\n",
        "\n",
        "# Reduce learning rate\n",
        "reduce_lr_callback = ReduceLROnPlateau(monitor=\"val_loss\", factor=0.1, patience=5, verbose=1, mode=\"min\", min_delta=0.0001, cooldown=0, min_lr=0)\n",
        "\n",
        "# Callbacks list\n",
        "callbacks=[checkpoint_callback, early_stopping_callback, reduce_lr_callback]"
      ],
      "metadata": {
        "id": "9WYlXjBlEgF0"
      },
      "execution_count": 15,
      "outputs": []
    },
    {
      "cell_type": "code",
      "source": [
        "# Define DIY Model\n",
        "DenseNet_model_2 = tf.keras.models.Sequential([\n",
        "    # DenseNet121 Layer\n",
        "    DenseNet121(include_top=False,weights='imagenet',input_shape=(224, 224, 3)),\n",
        "    # Global Average Pooling Layer\n",
        "    tf.keras.layers.GlobalAveragePooling2D(),\n",
        "    # Drop Out Layer\n",
        "    tf.keras.layers.Dropout(0.2),\n",
        "    # 256 neuron hidden layer\n",
        "    tf.keras.layers.Dense(256, activation='relu'),\n",
        "    # Output\n",
        "    tf.keras.layers.Dense(3, activation='softmax') \n",
        "  ])\n",
        "\n",
        "\n",
        "# Compile Model\n",
        "DenseNet_model_2.compile(loss='categorical_crossentropy',optimizer=tf.keras.optimizers.Adam(), metrics=['accuracy']) \n",
        "\n",
        "# Model Summary\n",
        "DenseNet_model_2.summary()"
      ],
      "metadata": {
        "colab": {
          "base_uri": "https://localhost:8080/"
        },
        "id": "cDsP0-1tFlPw",
        "outputId": "59a10935-3a5a-4cd7-be98-feb308c72b93"
      },
      "execution_count": 19,
      "outputs": [
        {
          "output_type": "stream",
          "name": "stdout",
          "text": [
            "Model: \"sequential_2\"\n",
            "_________________________________________________________________\n",
            " Layer (type)                Output Shape              Param #   \n",
            "=================================================================\n",
            " densenet121 (Functional)    (None, 7, 7, 1024)        7037504   \n",
            "                                                                 \n",
            " global_average_pooling2d_1   (None, 1024)             0         \n",
            " (GlobalAveragePooling2D)                                        \n",
            "                                                                 \n",
            " dropout_2 (Dropout)         (None, 1024)              0         \n",
            "                                                                 \n",
            " dense_4 (Dense)             (None, 256)               262400    \n",
            "                                                                 \n",
            " dense_5 (Dense)             (None, 3)                 771       \n",
            "                                                                 \n",
            "=================================================================\n",
            "Total params: 7,300,675\n",
            "Trainable params: 7,217,027\n",
            "Non-trainable params: 83,648\n",
            "_________________________________________________________________\n"
          ]
        }
      ]
    },
    {
      "cell_type": "code",
      "source": [
        "# Define the number of epochs\n",
        "num_epochs = 100\n",
        "\n",
        "# Train the model\n",
        "history_DenseNet_model_2 = DenseNet_model_2.fit(train_generator, epochs=num_epochs, validation_data=validation_generator, callbacks=callbacks)"
      ],
      "metadata": {
        "colab": {
          "base_uri": "https://localhost:8080/"
        },
        "id": "CkWwcPSRFpfF",
        "outputId": "1d8c388b-5044-4d47-989a-d1bdba6e75a6"
      },
      "execution_count": 20,
      "outputs": [
        {
          "output_type": "stream",
          "name": "stdout",
          "text": [
            "Epoch 1/100\n",
            "296/296 [==============================] - ETA: 0s - loss: 0.2053 - accuracy: 0.9306\n",
            "Epoch 1: val_accuracy improved from -inf to 0.99029, saving model to Potato_DenseNet_model2_Based_Augmented\n"
          ]
        },
        {
          "output_type": "stream",
          "name": "stderr",
          "text": [
            "WARNING:absl:Found untraced functions such as _jit_compiled_convolution_op, _jit_compiled_convolution_op, _jit_compiled_convolution_op, _jit_compiled_convolution_op, _jit_compiled_convolution_op while saving (showing 5 of 120). These functions will not be directly callable after loading.\n"
          ]
        },
        {
          "output_type": "stream",
          "name": "stdout",
          "text": [
            "\b\b\b\b\b\b\b\b\b\b\b\b\b\b\b\b\b\b\b\b\b\b\b\b\b\b\b\b\b\b\b\b\b\b\b\b\b\b\b\b\b\b\b\b\b\b\b\b\b\b\b\b\b\b\b\b\b\b\b\b\b\b\b\b\b\b\b\b\b\b\b\b\b\b\b\b\b\b\b\b\b\b\b\b\r296/296 [==============================] - 240s 596ms/step - loss: 0.2053 - accuracy: 0.9306 - val_loss: 0.0286 - val_accuracy: 0.9903 - lr: 0.0010\n",
            "Epoch 2/100\n",
            "296/296 [==============================] - ETA: 0s - loss: 0.0956 - accuracy: 0.9650\n",
            "Epoch 2: val_accuracy did not improve from 0.99029\n",
            "296/296 [==============================] - 118s 397ms/step - loss: 0.0956 - accuracy: 0.9650 - val_loss: 0.6500 - val_accuracy: 0.7080 - lr: 0.0010\n",
            "Epoch 3/100\n",
            "296/296 [==============================] - ETA: 0s - loss: 0.0785 - accuracy: 0.9716\n",
            "Epoch 3: val_accuracy did not improve from 0.99029\n",
            "296/296 [==============================] - 118s 400ms/step - loss: 0.0785 - accuracy: 0.9716 - val_loss: 0.1584 - val_accuracy: 0.9487 - lr: 0.0010\n",
            "Epoch 4/100\n",
            "296/296 [==============================] - ETA: 0s - loss: 0.0651 - accuracy: 0.9751\n",
            "Epoch 4: val_accuracy did not improve from 0.99029\n",
            "296/296 [==============================] - 113s 381ms/step - loss: 0.0651 - accuracy: 0.9751 - val_loss: 0.6342 - val_accuracy: 0.8981 - lr: 0.0010\n",
            "Epoch 5/100\n",
            "296/296 [==============================] - ETA: 0s - loss: 0.0629 - accuracy: 0.9751\n",
            "Epoch 5: val_accuracy did not improve from 0.99029\n",
            "296/296 [==============================] - 106s 359ms/step - loss: 0.0629 - accuracy: 0.9751 - val_loss: 0.3495 - val_accuracy: 0.8495 - lr: 0.0010\n",
            "Epoch 6/100\n",
            "296/296 [==============================] - ETA: 0s - loss: 0.0688 - accuracy: 0.9729\n",
            "Epoch 6: val_accuracy did not improve from 0.99029\n",
            "\n",
            "Epoch 6: ReduceLROnPlateau reducing learning rate to 0.00010000000474974513.\n",
            "296/296 [==============================] - 106s 357ms/step - loss: 0.0688 - accuracy: 0.9729 - val_loss: 0.1032 - val_accuracy: 0.9598 - lr: 0.0010\n",
            "Epoch 7/100\n",
            "296/296 [==============================] - ETA: 0s - loss: 0.0467 - accuracy: 0.9802\n",
            "Epoch 7: val_accuracy improved from 0.99029 to 0.99445, saving model to Potato_DenseNet_model2_Based_Augmented\n"
          ]
        },
        {
          "output_type": "stream",
          "name": "stderr",
          "text": [
            "WARNING:absl:Found untraced functions such as _jit_compiled_convolution_op, _jit_compiled_convolution_op, _jit_compiled_convolution_op, _jit_compiled_convolution_op, _jit_compiled_convolution_op while saving (showing 5 of 120). These functions will not be directly callable after loading.\n"
          ]
        },
        {
          "output_type": "stream",
          "name": "stdout",
          "text": [
            "\b\b\b\b\b\b\b\b\b\b\b\b\b\b\b\b\b\b\b\b\b\b\b\b\b\b\b\b\b\b\b\b\b\b\b\b\b\b\b\b\b\b\b\b\b\b\b\b\b\b\b\b\b\b\b\b\b\b\b\b\b\b\b\b\b\b\b\b\b\b\b\b\b\b\b\b\b\b\b\b\b\b\b\b\r296/296 [==============================] - 164s 555ms/step - loss: 0.0467 - accuracy: 0.9802 - val_loss: 0.0188 - val_accuracy: 0.9945 - lr: 1.0000e-04\n",
            "Epoch 8/100\n",
            "296/296 [==============================] - ETA: 0s - loss: 0.0353 - accuracy: 0.9848\n",
            "Epoch 8: val_accuracy improved from 0.99445 to 0.99515, saving model to Potato_DenseNet_model2_Based_Augmented\n"
          ]
        },
        {
          "output_type": "stream",
          "name": "stderr",
          "text": [
            "WARNING:absl:Found untraced functions such as _jit_compiled_convolution_op, _jit_compiled_convolution_op, _jit_compiled_convolution_op, _jit_compiled_convolution_op, _jit_compiled_convolution_op while saving (showing 5 of 120). These functions will not be directly callable after loading.\n"
          ]
        },
        {
          "output_type": "stream",
          "name": "stdout",
          "text": [
            "\b\b\b\b\b\b\b\b\b\b\b\b\b\b\b\b\b\b\b\b\b\b\b\b\b\b\b\b\b\b\b\b\b\b\b\b\b\b\b\b\b\b\b\b\b\b\b\b\b\b\b\b\b\b\b\b\b\b\b\b\b\b\b\b\b\b\b\b\b\b\b\b\b\b\b\b\b\b\b\b\b\b\b\b\r296/296 [==============================] - 167s 564ms/step - loss: 0.0353 - accuracy: 0.9848 - val_loss: 0.0118 - val_accuracy: 0.9951 - lr: 1.0000e-04\n",
            "Epoch 9/100\n",
            "296/296 [==============================] - ETA: 0s - loss: 0.0280 - accuracy: 0.9856\n",
            "Epoch 9: val_accuracy did not improve from 0.99515\n",
            "296/296 [==============================] - 106s 357ms/step - loss: 0.0280 - accuracy: 0.9856 - val_loss: 0.0154 - val_accuracy: 0.9938 - lr: 1.0000e-04\n",
            "Epoch 10/100\n",
            "296/296 [==============================] - ETA: 0s - loss: 0.0273 - accuracy: 0.9870\n",
            "Epoch 10: val_accuracy did not improve from 0.99515\n",
            "296/296 [==============================] - 108s 363ms/step - loss: 0.0273 - accuracy: 0.9870 - val_loss: 0.0128 - val_accuracy: 0.9951 - lr: 1.0000e-04\n",
            "Epoch 11/100\n",
            "296/296 [==============================] - ETA: 0s - loss: 0.0250 - accuracy: 0.9880\n",
            "Epoch 11: val_accuracy did not improve from 0.99515\n",
            "296/296 [==============================] - 110s 372ms/step - loss: 0.0250 - accuracy: 0.9880 - val_loss: 0.0124 - val_accuracy: 0.9945 - lr: 1.0000e-04\n",
            "Epoch 12/100\n",
            "296/296 [==============================] - ETA: 0s - loss: 0.0252 - accuracy: 0.9870\n",
            "Epoch 12: val_accuracy did not improve from 0.99515\n",
            "296/296 [==============================] - 109s 367ms/step - loss: 0.0252 - accuracy: 0.9870 - val_loss: 0.0159 - val_accuracy: 0.9931 - lr: 1.0000e-04\n",
            "Epoch 13/100\n",
            "296/296 [==============================] - ETA: 0s - loss: 0.0234 - accuracy: 0.9887\n",
            "Epoch 13: val_accuracy did not improve from 0.99515\n",
            "\n",
            "Epoch 13: ReduceLROnPlateau reducing learning rate to 1.0000000474974514e-05.\n",
            "296/296 [==============================] - 107s 360ms/step - loss: 0.0234 - accuracy: 0.9887 - val_loss: 0.0477 - val_accuracy: 0.9868 - lr: 1.0000e-04\n",
            "Epoch 14/100\n",
            "296/296 [==============================] - ETA: 0s - loss: 0.0292 - accuracy: 0.9873\n",
            "Epoch 14: val_accuracy did not improve from 0.99515\n",
            "296/296 [==============================] - 107s 362ms/step - loss: 0.0292 - accuracy: 0.9873 - val_loss: 0.0266 - val_accuracy: 0.9910 - lr: 1.0000e-05\n",
            "Epoch 15/100\n",
            "296/296 [==============================] - ETA: 0s - loss: 0.0242 - accuracy: 0.9880\n",
            "Epoch 15: val_accuracy did not improve from 0.99515\n",
            "296/296 [==============================] - 109s 367ms/step - loss: 0.0242 - accuracy: 0.9880 - val_loss: 0.0241 - val_accuracy: 0.9917 - lr: 1.0000e-05\n",
            "Epoch 16/100\n",
            "296/296 [==============================] - ETA: 0s - loss: 0.0229 - accuracy: 0.9868\n",
            "Epoch 16: val_accuracy did not improve from 0.99515\n",
            "296/296 [==============================] - 107s 362ms/step - loss: 0.0229 - accuracy: 0.9868 - val_loss: 0.0279 - val_accuracy: 0.9896 - lr: 1.0000e-05\n",
            "Epoch 17/100\n",
            "296/296 [==============================] - ETA: 0s - loss: 0.0250 - accuracy: 0.9890\n",
            "Epoch 17: val_accuracy did not improve from 0.99515\n",
            "296/296 [==============================] - 107s 362ms/step - loss: 0.0250 - accuracy: 0.9890 - val_loss: 0.0225 - val_accuracy: 0.9924 - lr: 1.0000e-05\n",
            "Epoch 18/100\n",
            "296/296 [==============================] - ETA: 0s - loss: 0.0212 - accuracy: 0.9897\n",
            "Epoch 18: val_accuracy did not improve from 0.99515\n",
            "\n",
            "Epoch 18: ReduceLROnPlateau reducing learning rate to 1.0000000656873453e-06.\n",
            "296/296 [==============================] - 107s 362ms/step - loss: 0.0212 - accuracy: 0.9897 - val_loss: 0.0215 - val_accuracy: 0.9917 - lr: 1.0000e-05\n",
            "Epoch 19/100\n",
            "296/296 [==============================] - ETA: 0s - loss: 0.0209 - accuracy: 0.9897\n",
            "Epoch 19: val_accuracy did not improve from 0.99515\n",
            "296/296 [==============================] - 107s 360ms/step - loss: 0.0209 - accuracy: 0.9897 - val_loss: 0.0225 - val_accuracy: 0.9917 - lr: 1.0000e-06\n",
            "Epoch 20/100\n",
            "296/296 [==============================] - ETA: 0s - loss: 0.0207 - accuracy: 0.9907\n",
            "Epoch 20: val_accuracy did not improve from 0.99515\n",
            "296/296 [==============================] - 108s 365ms/step - loss: 0.0207 - accuracy: 0.9907 - val_loss: 0.0247 - val_accuracy: 0.9917 - lr: 1.0000e-06\n",
            "Epoch 21/100\n",
            "296/296 [==============================] - ETA: 0s - loss: 0.0198 - accuracy: 0.9909\n",
            "Epoch 21: val_accuracy did not improve from 0.99515\n",
            "296/296 [==============================] - 107s 360ms/step - loss: 0.0198 - accuracy: 0.9909 - val_loss: 0.0255 - val_accuracy: 0.9910 - lr: 1.0000e-06\n",
            "Epoch 22/100\n",
            "296/296 [==============================] - ETA: 0s - loss: 0.0212 - accuracy: 0.9898\n",
            "Epoch 22: val_accuracy did not improve from 0.99515\n",
            "296/296 [==============================] - 109s 369ms/step - loss: 0.0212 - accuracy: 0.9898 - val_loss: 0.0231 - val_accuracy: 0.9924 - lr: 1.0000e-06\n",
            "Epoch 23/100\n",
            "296/296 [==============================] - ETA: 0s - loss: 0.0221 - accuracy: 0.9885\n",
            "Epoch 23: val_accuracy did not improve from 0.99515\n",
            "\n",
            "Epoch 23: ReduceLROnPlateau reducing learning rate to 1.0000001111620805e-07.\n",
            "296/296 [==============================] - 107s 361ms/step - loss: 0.0221 - accuracy: 0.9885 - val_loss: 0.0235 - val_accuracy: 0.9924 - lr: 1.0000e-06\n",
            "Epoch 24/100\n",
            "296/296 [==============================] - ETA: 0s - loss: 0.0220 - accuracy: 0.9892\n",
            "Epoch 24: val_accuracy did not improve from 0.99515\n",
            "296/296 [==============================] - 108s 363ms/step - loss: 0.0220 - accuracy: 0.9892 - val_loss: 0.0245 - val_accuracy: 0.9917 - lr: 1.0000e-07\n",
            "Epoch 25/100\n",
            "296/296 [==============================] - ETA: 0s - loss: 0.0231 - accuracy: 0.9900\n",
            "Epoch 25: val_accuracy did not improve from 0.99515\n",
            "296/296 [==============================] - 107s 361ms/step - loss: 0.0231 - accuracy: 0.9900 - val_loss: 0.0265 - val_accuracy: 0.9910 - lr: 1.0000e-07\n",
            "Epoch 26/100\n",
            "296/296 [==============================] - ETA: 0s - loss: 0.0243 - accuracy: 0.9892\n",
            "Epoch 26: val_accuracy did not improve from 0.99515\n",
            "296/296 [==============================] - 110s 370ms/step - loss: 0.0243 - accuracy: 0.9892 - val_loss: 0.0234 - val_accuracy: 0.9917 - lr: 1.0000e-07\n",
            "Epoch 27/100\n",
            "296/296 [==============================] - ETA: 0s - loss: 0.0241 - accuracy: 0.9902\n",
            "Epoch 27: val_accuracy did not improve from 0.99515\n",
            "296/296 [==============================] - 109s 368ms/step - loss: 0.0241 - accuracy: 0.9902 - val_loss: 0.0230 - val_accuracy: 0.9924 - lr: 1.0000e-07\n",
            "Epoch 28/100\n",
            "296/296 [==============================] - ETA: 0s - loss: 0.0221 - accuracy: 0.9892\n",
            "Epoch 28: val_accuracy did not improve from 0.99515\n",
            "Restoring model weights from the end of the best epoch: 8.\n",
            "\n",
            "Epoch 28: ReduceLROnPlateau reducing learning rate to 1.000000082740371e-08.\n",
            "296/296 [==============================] - 110s 371ms/step - loss: 0.0221 - accuracy: 0.9892 - val_loss: 0.0226 - val_accuracy: 0.9924 - lr: 1.0000e-07\n",
            "Epoch 28: early stopping\n"
          ]
        }
      ]
    },
    {
      "cell_type": "code",
      "source": [
        "#-----------------------------------------------------------\n",
        "# Retrieve a list of list results on training and test data\n",
        "# sets for each training epoch\n",
        "#-----------------------------------------------------------\n",
        "acc      = history_DenseNet_model_2.history['accuracy' ]\n",
        "val_acc  = history_DenseNet_model_2.history['val_accuracy' ]\n",
        "loss     = history_DenseNet_model_2.history['loss' ]\n",
        "val_loss = history_DenseNet_model_2.history['val_loss' ]\n",
        "\n",
        "epochs   = range(len(acc)) # Get number of epochs\n",
        "\n",
        "#------------------------------------------------\n",
        "# Plot training and validation accuracy per epoch\n",
        "#------------------------------------------------\n",
        "plt.plot  (epochs, acc )\n",
        "plt.plot  (epochs, val_acc )\n",
        "plt.title ('Training and validation accuracy DenseNet Model 2')\n",
        "plt.legend(['train', 'val'], loc='upper left')\n",
        "plt.figure()\n",
        "\n",
        "#------------------------------------------------\n",
        "# Plot training and validation loss per epoch\n",
        "#------------------------------------------------\n",
        "plt.plot  (epochs, loss)\n",
        "plt.plot  (epochs, val_loss)\n",
        "plt.title ('Training and validation loss DenseNet Model 2')\n",
        "plt.legend(['train', 'val'], loc='upper left')"
      ],
      "metadata": {
        "colab": {
          "base_uri": "https://localhost:8080/",
          "height": 904
        },
        "id": "fOOuawvfFrjS",
        "outputId": "d8df82a9-e8ce-4a14-d547-6d1b4874850b"
      },
      "execution_count": 21,
      "outputs": [
        {
          "output_type": "execute_result",
          "data": {
            "text/plain": [
              "<matplotlib.legend.Legend at 0x7f98445d3070>"
            ]
          },
          "metadata": {},
          "execution_count": 21
        },
        {
          "output_type": "display_data",
          "data": {
            "text/plain": [
              "<Figure size 640x480 with 1 Axes>"
            ],
            "image/png": "[encoded data removed]"
          },
          "metadata": {}
        },
        {
          "output_type": "display_data",
          "data": {
            "text/plain": [
              "<Figure size 640x480 with 1 Axes>"
            ],
            "image/png": "[encoded data removed]"
          },
          "metadata": {}
        }
      ]
    },
    {
      "cell_type": "code",
      "source": [
        "!zip -r /content/Potato_DenseNet_model2_Based_Augmented.zip /content/Potato_DenseNet_model2_Based_Augmented"
      ],
      "metadata": {
        "colab": {
          "base_uri": "https://localhost:8080/"
        },
        "id": "RwQGsHpfF7Zw",
        "outputId": "c450c179-2015-4b50-b8d1-811cb55a108d"
      },
      "execution_count": 22,
      "outputs": [
        {
          "output_type": "stream",
          "name": "stdout",
          "text": [
            "  adding: content/Potato_DenseNet_model2_Based_Augmented/ (stored 0%)\n",
            "  adding: content/Potato_DenseNet_model2_Based_Augmented/saved_model.pb (deflated 92%)\n",
            "  adding: content/Potato_DenseNet_model2_Based_Augmented/fingerprint.pb (stored 0%)\n",
            "  adding: content/Potato_DenseNet_model2_Based_Augmented/variables/ (stored 0%)\n",
            "  adding: content/Potato_DenseNet_model2_Based_Augmented/variables/variables.data-00000-of-00001 (deflated 11%)\n",
            "  adding: content/Potato_DenseNet_model2_Based_Augmented/variables/variables.index (deflated 79%)\n",
            "  adding: content/Potato_DenseNet_model2_Based_Augmented/keras_metadata.pb (deflated 96%)\n",
            "  adding: content/Potato_DenseNet_model2_Based_Augmented/assets/ (stored 0%)\n"
          ]
        }
      ]
    }
  ]
}