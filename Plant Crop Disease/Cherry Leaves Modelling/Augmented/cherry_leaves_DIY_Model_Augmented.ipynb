{
  "cells": [
    {
      "attachments": {},
      "cell_type": "markdown",
      "metadata": {
        "id": "hO3kEcUPU2S3"
      },
      "source": [
        "# Library"
      ]
    },
    {
      "cell_type": "code",
      "execution_count": 1,
      "metadata": {
        "colab": {
          "base_uri": "https://localhost:8080/"
        },
        "id": "kczkUjsAU2S8",
        "outputId": "f56bb73f-7817-4ae4-e577-bbd27a69669e",
        "tags": []
      },
      "outputs": [
        {
          "name": "stdout",
          "output_type": "stream",
          "text": [
            "Requirement already satisfied: matplotlib in c:\\users\\hasan\\anaconda3\\envs\\tensorflow_gpu_zein\\lib\\site-packages (3.6.3)\n",
            "Requirement already satisfied: contourpy>=1.0.1 in c:\\users\\hasan\\anaconda3\\envs\\tensorflow_gpu_zein\\lib\\site-packages (from matplotlib) (1.0.7)\n",
            "Requirement already satisfied: kiwisolver>=1.0.1 in c:\\users\\hasan\\anaconda3\\envs\\tensorflow_gpu_zein\\lib\\site-packages (from matplotlib) (1.4.4)\n",
            "Requirement already satisfied: numpy>=1.19 in c:\\users\\hasan\\anaconda3\\envs\\tensorflow_gpu_zein\\lib\\site-packages (from matplotlib) (1.23.5)\n",
            "Requirement already satisfied: fonttools>=4.22.0 in c:\\users\\hasan\\anaconda3\\envs\\tensorflow_gpu_zein\\lib\\site-packages (from matplotlib) (4.39.2)\n",
            "Requirement already satisfied: pyparsing>=2.2.1 in c:\\users\\hasan\\anaconda3\\envs\\tensorflow_gpu_zein\\lib\\site-packages (from matplotlib) (3.0.9)\n",
            "Requirement already satisfied: python-dateutil>=2.7 in c:\\users\\hasan\\anaconda3\\envs\\tensorflow_gpu_zein\\lib\\site-packages (from matplotlib) (2.8.2)\n",
            "Requirement already satisfied: cycler>=0.10 in c:\\users\\hasan\\anaconda3\\envs\\tensorflow_gpu_zein\\lib\\site-packages (from matplotlib) (0.11.0)\n",
            "Requirement already satisfied: pillow>=6.2.0 in c:\\users\\hasan\\anaconda3\\envs\\tensorflow_gpu_zein\\lib\\site-packages (from matplotlib) (9.4.0)\n",
            "Requirement already satisfied: packaging>=20.0 in c:\\users\\hasan\\anaconda3\\envs\\tensorflow_gpu_zein\\lib\\site-packages (from matplotlib) (23.1)\n",
            "Requirement already satisfied: six>=1.5 in c:\\users\\hasan\\anaconda3\\envs\\tensorflow_gpu_zein\\lib\\site-packages (from python-dateutil>=2.7->matplotlib) (1.16.0)\n",
            "Note: you may need to restart the kernel to use updated packages.\n"
          ]
        },
        {
          "name": "stderr",
          "output_type": "stream",
          "text": [
            "WARNING: Ignoring invalid distribution -rotobuf (c:\\users\\hasan\\anaconda3\\envs\\tensorflow_gpu_zein\\lib\\site-packages)\n",
            "WARNING: Ignoring invalid distribution -rotobuf (c:\\users\\hasan\\anaconda3\\envs\\tensorflow_gpu_zein\\lib\\site-packages)\n",
            "WARNING: Ignoring invalid distribution -rotobuf (c:\\users\\hasan\\anaconda3\\envs\\tensorflow_gpu_zein\\lib\\site-packages)\n",
            "WARNING: Ignoring invalid distribution -rotobuf (c:\\users\\hasan\\anaconda3\\envs\\tensorflow_gpu_zein\\lib\\site-packages)\n",
            "WARNING: Ignoring invalid distribution -rotobuf (c:\\users\\hasan\\anaconda3\\envs\\tensorflow_gpu_zein\\lib\\site-packages)\n",
            "WARNING: Ignoring invalid distribution -rotobuf (c:\\users\\hasan\\anaconda3\\envs\\tensorflow_gpu_zein\\lib\\site-packages)\n"
          ]
        }
      ],
      "source": [
        "pip install matplotlib"
      ]
    },
    {
      "cell_type": "code",
      "execution_count": 2,
      "metadata": {
        "colab": {
          "base_uri": "https://localhost:8080/"
        },
        "id": "oEW3Nbu7U2S_",
        "outputId": "0a1319aa-34e9-456c-fabd-532d6f724961",
        "tags": []
      },
      "outputs": [
        {
          "name": "stdout",
          "output_type": "stream",
          "text": [
            "Requirement already satisfied: opendatasets in c:\\users\\hasan\\anaconda3\\envs\\tensorflow_gpu_zein\\lib\\site-packages (0.1.22)\n",
            "Requirement already satisfied: kaggle in c:\\users\\hasan\\anaconda3\\envs\\tensorflow_gpu_zein\\lib\\site-packages (from opendatasets) (1.5.13)\n",
            "Requirement already satisfied: tqdm in c:\\users\\hasan\\anaconda3\\envs\\tensorflow_gpu_zein\\lib\\site-packages (from opendatasets) (4.64.1)\n",
            "Requirement already satisfied: click in c:\\users\\hasan\\anaconda3\\envs\\tensorflow_gpu_zein\\lib\\site-packages (from opendatasets) (8.1.3)\n",
            "Requirement already satisfied: colorama in c:\\users\\hasan\\anaconda3\\envs\\tensorflow_gpu_zein\\lib\\site-packages (from click->opendatasets) (0.4.6)\n",
            "Requirement already satisfied: python-dateutil in c:\\users\\hasan\\anaconda3\\envs\\tensorflow_gpu_zein\\lib\\site-packages (from kaggle->opendatasets) (2.8.2)\n",
            "Requirement already satisfied: certifi in c:\\users\\hasan\\anaconda3\\envs\\tensorflow_gpu_zein\\lib\\site-packages (from kaggle->opendatasets) (2022.12.7)\n",
            "Requirement already satisfied: urllib3 in c:\\users\\hasan\\anaconda3\\envs\\tensorflow_gpu_zein\\lib\\site-packages (from kaggle->opendatasets) (1.26.15)\n",
            "Requirement already satisfied: six>=1.10 in c:\\users\\hasan\\anaconda3\\envs\\tensorflow_gpu_zein\\lib\\site-packages (from kaggle->opendatasets) (1.16.0)\n",
            "Requirement already satisfied: requests in c:\\users\\hasan\\anaconda3\\envs\\tensorflow_gpu_zein\\lib\\site-packages (from kaggle->opendatasets) (2.28.2)\n",
            "Requirement already satisfied: python-slugify in c:\\users\\hasan\\anaconda3\\envs\\tensorflow_gpu_zein\\lib\\site-packages (from kaggle->opendatasets) (8.0.1)\n",
            "Requirement already satisfied: text-unidecode>=1.3 in c:\\users\\hasan\\anaconda3\\envs\\tensorflow_gpu_zein\\lib\\site-packages (from python-slugify->kaggle->opendatasets) (1.3)\n",
            "Requirement already satisfied: charset-normalizer<4,>=2 in c:\\users\\hasan\\anaconda3\\envs\\tensorflow_gpu_zein\\lib\\site-packages (from requests->kaggle->opendatasets) (3.1.0)\n",
            "Requirement already satisfied: idna<4,>=2.5 in c:\\users\\hasan\\anaconda3\\envs\\tensorflow_gpu_zein\\lib\\site-packages (from requests->kaggle->opendatasets) (3.4)\n",
            "Note: you may need to restart the kernel to use updated packages.\n"
          ]
        },
        {
          "name": "stderr",
          "output_type": "stream",
          "text": [
            "WARNING: Ignoring invalid distribution -rotobuf (c:\\users\\hasan\\anaconda3\\envs\\tensorflow_gpu_zein\\lib\\site-packages)\n",
            "WARNING: Ignoring invalid distribution -rotobuf (c:\\users\\hasan\\anaconda3\\envs\\tensorflow_gpu_zein\\lib\\site-packages)\n",
            "WARNING: Ignoring invalid distribution -rotobuf (c:\\users\\hasan\\anaconda3\\envs\\tensorflow_gpu_zein\\lib\\site-packages)\n",
            "WARNING: Ignoring invalid distribution -rotobuf (c:\\users\\hasan\\anaconda3\\envs\\tensorflow_gpu_zein\\lib\\site-packages)\n",
            "WARNING: Ignoring invalid distribution -rotobuf (c:\\users\\hasan\\anaconda3\\envs\\tensorflow_gpu_zein\\lib\\site-packages)\n",
            "WARNING: Ignoring invalid distribution -rotobuf (c:\\users\\hasan\\anaconda3\\envs\\tensorflow_gpu_zein\\lib\\site-packages)\n"
          ]
        }
      ],
      "source": [
        "pip install opendatasets"
      ]
    },
    {
      "cell_type": "code",
      "execution_count": 3,
      "metadata": {
        "id": "SIHHdOB4U2TA",
        "tags": []
      },
      "outputs": [],
      "source": [
        "# Library to dataset\n",
        "import opendatasets as od\n",
        "import os\n",
        "import zipfile\n",
        "import numpy as np\n",
        "\n",
        "# Surpress Warnings\n",
        "import warnings\n",
        "warnings.filterwarnings('ignore')\n",
        "os.environ['TF_CPP_MIN_LOG_LEVEL'] = '3' \n",
        "# library visualization\n",
        "import matplotlib.pyplot as plt\n",
        "\n",
        "# Library Tensorflow\n",
        "import tensorflow as tf\n",
        "from tensorflow import keras\n",
        "from tensorflow.keras.preprocessing.image import ImageDataGenerator\n",
        "from tensorflow.keras.callbacks import ModelCheckpoint, EarlyStopping, ReduceLROnPlateau\n",
        "from tensorflow.keras.applications.densenet import DenseNet121\n",
        "from tensorflow.keras.applications.xception import Xception\n",
        "\n",
        "# Others\n",
        "import shutil\n",
        "import random"
      ]
    },
    {
      "attachments": {},
      "cell_type": "markdown",
      "metadata": {
        "id": "Dy8YkYoaU2TB"
      },
      "source": [
        "# Load dataset"
      ]
    },
    {
      "cell_type": "code",
      "execution_count": 4,
      "metadata": {
        "colab": {
          "base_uri": "https://localhost:8080/"
        },
        "id": "8ZAjREJ0U2TC",
        "outputId": "86e9d35e-61b3-4a2c-ea34-44790010f841",
        "tags": []
      },
      "outputs": [
        {
          "name": "stdout",
          "output_type": "stream",
          "text": [
            "==========================Training Data====================\n",
            "Found 4205 files belonging to 2 classes.\n",
            "==========================Validation Data====================\n",
            "Found 1574 files belonging to 2 classes.\n"
          ]
        }
      ],
      "source": [
        "# Load dataset\n",
        "print(\"==========================Training Data====================\")\n",
        "train_data = tf.keras.preprocessing.image_dataset_from_directory(\n",
        "    \"Dataset/cherry-leaves/train\",\n",
        "    label_mode=\"categorical\",\n",
        "    class_names=['healthy','powdery_mildew'],\n",
        "    color_mode=\"rgb\",\n",
        "    batch_size=1,\n",
        "    image_size=(256, 256),\n",
        "    shuffle=True,\n",
        "    seed=123\n",
        ")\n",
        "print(\"==========================Validation Data====================\")\n",
        "val_data = tf.keras.preprocessing.image_dataset_from_directory(\n",
        "    \"Dataset/cherry-leaves/test\",\n",
        "    label_mode=\"categorical\",\n",
        "    class_names=['healthy','powdery_mildew'],\n",
        "    color_mode=\"rgb\",\n",
        "    batch_size=1,\n",
        "    image_size=(256, 256),\n",
        "    shuffle=True,\n",
        "    seed=123\n",
        ")"
      ]
    },
    {
      "cell_type": "code",
      "execution_count": 5,
      "metadata": {
        "colab": {
          "base_uri": "https://localhost:8080/"
        },
        "id": "vEPzd1egU2TD",
        "outputId": "ffd11748-caad-4636-8366-fcc9478806e4",
        "tags": []
      },
      "outputs": [
        {
          "name": "stdout",
          "output_type": "stream",
          "text": [
            "Found 4205 images belonging to 2 classes.\n",
            "Found 1574 images belonging to 2 classes.\n"
          ]
        }
      ],
      "source": [
        "# All images will be rescaled by 1./255.and augmented\n",
        "train_datagen = ImageDataGenerator(rescale = 1.0/256.,\n",
        "                                   rotation_range=40,\n",
        "                                   width_shift_range=0.2,\n",
        "                                   height_shift_range=0.2,\n",
        "                                   shear_range=0.2,\n",
        "                                   zoom_range=0.2,\n",
        "                                   horizontal_flip=True,\n",
        "                                   fill_mode='nearest')\n",
        "\n",
        "test_datagen  = ImageDataGenerator(rescale = 1.0/256.)\n",
        "\n",
        "# --------------------\n",
        "# Flow training images in batches of 20 using train_datagen generator\n",
        "# --------------------\n",
        "train_generator = train_datagen.flow_from_directory(\"Dataset/cherry-leaves/train\",\n",
        "                                                    batch_size=20,\n",
        "                                                    class_mode='categorical',\n",
        "                                                    target_size=(224, 224))     \n",
        "# --------------------\n",
        "# Flow validation images in batches of 20 using test_datagen generator\n",
        "# --------------------\n",
        "validation_generator =  test_datagen.flow_from_directory(\"Dataset/cherry-leaves/test\",\n",
        "                                                         batch_size=20,\n",
        "                                                         class_mode  = 'categorical',\n",
        "                                                         target_size = (224, 224))"
      ]
    },
    {
      "attachments": {},
      "cell_type": "markdown",
      "metadata": {
        "id": "_3jaO5YgU2TE"
      },
      "source": [
        "# List Resource"
      ]
    },
    {
      "cell_type": "code",
      "execution_count": 6,
      "metadata": {
        "colab": {
          "base_uri": "https://localhost:8080/"
        },
        "id": "SGemCaxnU2TF",
        "outputId": "e1b900e7-5b3d-4464-fe47-d3b785a5f359",
        "tags": []
      },
      "outputs": [
        {
          "name": "stdout",
          "output_type": "stream",
          "text": [
            "Sat May 27 21:02:36 2023       \n",
            "+---------------------------------------------------------------------------------------+\n",
            "| NVIDIA-SMI 532.03                 Driver Version: 532.03       CUDA Version: 12.1     |\n",
            "|-----------------------------------------+----------------------+----------------------+\n",
            "| GPU  Name                      TCC/WDDM | Bus-Id        Disp.A | Volatile Uncorr. ECC |\n",
            "| Fan  Temp  Perf            Pwr:Usage/Cap|         Memory-Usage | GPU-Util  Compute M. |\n",
            "|                                         |                      |               MIG M. |\n",
            "|=========================================+======================+======================|\n",
            "|   0  NVIDIA GeForce RTX 3060 L...  WDDM | 00000000:01:00.0  On |                  N/A |\n",
            "| N/A   55C    P0               39W /  N/A|   4593MiB /  6144MiB |      0%      Default |\n",
            "|                                         |                      |                  N/A |\n",
            "+-----------------------------------------+----------------------+----------------------+\n",
            "                                                                                         \n",
            "+---------------------------------------------------------------------------------------+\n",
            "| Processes:                                                                            |\n",
            "|  GPU   GI   CI        PID   Type   Process name                            GPU Memory |\n",
            "|        ID   ID                                                             Usage      |\n",
            "|=======================================================================================|\n",
            "|    0   N/A  N/A      2012    C+G   ...2.0_x64__cv1g1gvanyjgm\\WhatsApp.exe    N/A      |\n",
            "|    0   N/A  N/A      2552    C+G   ...02.0_x86__zpdnekdrzrea0\\Spotify.exe    N/A      |\n",
            "|    0   N/A  N/A      2668    C+G   ...siveControlPanel\\SystemSettings.exe    N/A      |\n",
            "|    0   N/A  N/A      6540      C   ...envs\\tensorflow_gpu_zein\\python.exe    N/A      |\n",
            "|    0   N/A  N/A      7012    C+G   ...64__v826wp6bftszj\\TranslucentTB.exe    N/A      |\n",
            "|    0   N/A  N/A      9000    C+G   ...les\\AMD\\CNext\\CNext\\AMDRSSrcExt.exe    N/A      |\n",
            "|    0   N/A  N/A     10052    C+G   C:\\WINDOWS\\explorer.exe                   N/A      |\n",
            "|    0   N/A  N/A     12016    C+G   ...nt.CBS_cw5n1h2txyewy\\SearchHost.exe    N/A      |\n",
            "|    0   N/A  N/A     12076    C+G   ...2txyewy\\StartMenuExperienceHost.exe    N/A      |\n",
            "|    0   N/A  N/A     13880    C+G   ...les\\Microsoft OneDrive\\OneDrive.exe    N/A      |\n",
            "|    0   N/A  N/A     14676    C+G   ...ekyb3d8bbwe\\PhoneExperienceHost.exe    N/A      |\n",
            "|    0   N/A  N/A     16584    C+G   ...oogle\\Chrome\\Application\\chrome.exe    N/A      |\n",
            "|    0   N/A  N/A     17064    C+G   ...1.0_x64__t4vj0pshhgkwm\\Telegram.exe    N/A      |\n",
            "|    0   N/A  N/A     18404    C+G   ...GeForce Experience\\NVIDIA Share.exe    N/A      |\n",
            "|    0   N/A  N/A     23224    C+G   ...1.0_x64__8wekyb3d8bbwe\\Video.UI.exe    N/A      |\n",
            "|    0   N/A  N/A     23568    C+G   ...on\\113.0.1774.50\\msedgewebview2.exe    N/A      |\n",
            "|    0   N/A  N/A     24300    C+G   ...les\\Microsoft OneDrive\\OneDrive.exe    N/A      |\n",
            "|    0   N/A  N/A     24364    C+G   ...\\AMD\\CNext\\CNext\\RadeonSoftware.exe    N/A      |\n",
            "|    0   N/A  N/A     26028    C+G   ...5n1h2txyewy\\ShellExperienceHost.exe    N/A      |\n",
            "|    0   N/A  N/A     26432    C+G   ...Programs\\Microsoft VS Code\\Code.exe    N/A      |\n",
            "+---------------------------------------------------------------------------------------+\n"
          ]
        }
      ],
      "source": [
        "# Check GPU\n",
        "!nvidia-smi"
      ]
    },
    {
      "cell_type": "code",
      "execution_count": 7,
      "metadata": {
        "colab": {
          "base_uri": "https://localhost:8080/"
        },
        "id": "FSapZ74PU2TF",
        "outputId": "e590c5ae-4f62-422b-fe98-eaf23c93f68d",
        "tags": []
      },
      "outputs": [
        {
          "data": {
            "text/plain": [
              "[PhysicalDevice(name='/physical_device:GPU:0', device_type='GPU')]"
            ]
          },
          "execution_count": 7,
          "metadata": {},
          "output_type": "execute_result"
        }
      ],
      "source": [
        "# Lis physical devices\n",
        "devices = tf.config.experimental.list_physical_devices(\"GPU\")\n",
        "devices"
      ]
    },
    {
      "cell_type": "code",
      "execution_count": 8,
      "metadata": {
        "id": "A8WtBtBaU2TG",
        "tags": []
      },
      "outputs": [
        {
          "name": "stdout",
          "output_type": "stream",
          "text": [
            "INFO:tensorflow:Using MirroredStrategy with devices ('/job:localhost/replica:0/task:0/device:GPU:0',)\n"
          ]
        }
      ],
      "source": [
        "# Define the GPU strategy\n",
        "mirrored_strategy = tf.distribute.MirroredStrategy(devices=[\"/gpu:0\"])"
      ]
    },
    {
      "attachments": {},
      "cell_type": "markdown",
      "metadata": {
        "id": "Vqr_uGTNU2TG"
      },
      "source": [
        "# Modelling With Augmentation"
      ]
    },
    {
      "attachments": {},
      "cell_type": "markdown",
      "metadata": {
        "id": "w4Wzh6ZyU2TH"
      },
      "source": [
        "## DIY Model 1"
      ]
    },
    {
      "cell_type": "code",
      "execution_count": 9,
      "metadata": {
        "id": "uUqYGBfRU2TH",
        "tags": []
      },
      "outputs": [],
      "source": [
        "# Difine the callbacks\n",
        "# Save the best model\n",
        "checkpoint_callback = ModelCheckpoint(filepath=\"Cherry_DIY_model1_Based_Augmented\", save_best_only=True, monitor=\"val_accuracy\", mode=\"max\", verbose=1)\n",
        "\n",
        "# Early stopping\n",
        "early_stopping_callback = EarlyStopping(monitor=\"val_accuracy\", mode=\"max\", patience=20, verbose=1, restore_best_weights=True)\n",
        "\n",
        "# Reduce learning rate\n",
        "reduce_lr_callback = ReduceLROnPlateau(monitor=\"val_loss\", factor=0.1, patience=5, verbose=1, mode=\"min\", min_delta=0.0001, cooldown=0, min_lr=0)\n",
        "\n",
        "# Callbacks list\n",
        "callbacks=[checkpoint_callback, early_stopping_callback, reduce_lr_callback]"
      ]
    },
    {
      "cell_type": "code",
      "execution_count": 10,
      "metadata": {
        "colab": {
          "base_uri": "https://localhost:8080/"
        },
        "id": "BQHFs3gSU2TI",
        "outputId": "7396ddac-ad63-4549-d22b-7dbe6240f09a",
        "tags": []
      },
      "outputs": [
        {
          "name": "stdout",
          "output_type": "stream",
          "text": [
            "Model: \"sequential\"\n",
            "_________________________________________________________________\n",
            " Layer (type)                Output Shape              Param #   \n",
            "=================================================================\n",
            " conv2d (Conv2D)             (None, 222, 222, 32)      896       \n",
            "                                                                 \n",
            " max_pooling2d (MaxPooling2D  (None, 111, 111, 32)     0         \n",
            " )                                                               \n",
            "                                                                 \n",
            " conv2d_1 (Conv2D)           (None, 109, 109, 64)      18496     \n",
            "                                                                 \n",
            " max_pooling2d_1 (MaxPooling  (None, 54, 54, 64)       0         \n",
            " 2D)                                                             \n",
            "                                                                 \n",
            " conv2d_2 (Conv2D)           (None, 52, 52, 128)       73856     \n",
            "                                                                 \n",
            " max_pooling2d_2 (MaxPooling  (None, 26, 26, 128)      0         \n",
            " 2D)                                                             \n",
            "                                                                 \n",
            " flatten (Flatten)           (None, 86528)             0         \n",
            "                                                                 \n",
            " dense (Dense)               (None, 512)               44302848  \n",
            "                                                                 \n",
            " dropout (Dropout)           (None, 512)               0         \n",
            "                                                                 \n",
            " dense_1 (Dense)             (None, 256)               131328    \n",
            "                                                                 \n",
            " dense_2 (Dense)             (None, 2)                 514       \n",
            "                                                                 \n",
            "=================================================================\n",
            "Total params: 44,527,938\n",
            "Trainable params: 44,527,938\n",
            "Non-trainable params: 0\n",
            "_________________________________________________________________\n"
          ]
        }
      ],
      "source": [
        "# Define DIY Model\n",
        "DIY_model = tf.keras.models.Sequential([\n",
        "    # Convolutional Layers with 32 filters\n",
        "    tf.keras.layers.Conv2D(32, (3,3), activation='relu', input_shape=(224, 224, 3)),\n",
        "    # MaxPooling Layer\n",
        "    tf.keras.layers.MaxPooling2D(2,2),\n",
        "    # Convolutional Layers with 64 filters\n",
        "    tf.keras.layers.Conv2D(64, (3,3), activation='relu'),\n",
        "    # MaxPooling Layer\n",
        "    tf.keras.layers.MaxPooling2D(2,2),  \n",
        "    # Convolutional Layers with 128 filters\n",
        "    tf.keras.layers.Conv2D(128, (3,3), activation='relu'), \n",
        "    # MaxPooling Layer\n",
        "    tf.keras.layers.MaxPooling2D(2,2),  \n",
        "    # Flatten the results to feed into a DNN\n",
        "    tf.keras.layers.Flatten(),\n",
        "    # 512 neuron hidden layer\n",
        "    tf.keras.layers.Dense(512, activation='relu'),\n",
        "    # Drop Out Layer\n",
        "    tf.keras.layers.Dropout(0.2),\n",
        "    # 256 neuron hidden layer\n",
        "    tf.keras.layers.Dense(256, activation='relu'),\n",
        "    # Output\n",
        "    tf.keras.layers.Dense(2, activation='softmax') \n",
        "  ])\n",
        "\n",
        "\n",
        "# Compile Model\n",
        "DIY_model.compile(loss='categorical_crossentropy',optimizer=tf.keras.optimizers.Adam(), metrics=['accuracy']) \n",
        "\n",
        "# Model Summary\n",
        "DIY_model.summary()"
      ]
    },
    {
      "cell_type": "code",
      "execution_count": 11,
      "metadata": {
        "colab": {
          "base_uri": "https://localhost:8080/"
        },
        "id": "6coN3TKhU2TI",
        "outputId": "f8bbdf0c-efc2-4bef-f5f4-d80136c539b0",
        "tags": []
      },
      "outputs": [
        {
          "name": "stdout",
          "output_type": "stream",
          "text": [
            "Epoch 1/100\n",
            "211/211 [==============================] - ETA: 0s - loss: 0.4430 - accuracy: 0.7969\n",
            "Epoch 1: val_accuracy improved from -inf to 0.99365, saving model to Cherry_DIY_model1_Based_Augmented\n"
          ]
        },
        {
          "name": "stderr",
          "output_type": "stream",
          "text": [
            "WARNING:absl:Found untraced functions such as _jit_compiled_convolution_op, _jit_compiled_convolution_op, _jit_compiled_convolution_op while saving (showing 3 of 3). These functions will not be directly callable after loading.\n"
          ]
        },
        {
          "name": "stdout",
          "output_type": "stream",
          "text": [
            "INFO:tensorflow:Assets written to: Cherry_DIY_model1_Based_Augmented\\assets\n"
          ]
        },
        {
          "name": "stderr",
          "output_type": "stream",
          "text": [
            "INFO:tensorflow:Assets written to: Cherry_DIY_model1_Based_Augmented\\assets\n"
          ]
        },
        {
          "name": "stdout",
          "output_type": "stream",
          "text": [
            "211/211 [==============================] - 36s 159ms/step - loss: 0.4430 - accuracy: 0.7969 - val_loss: 0.0396 - val_accuracy: 0.9936 - lr: 0.0010\n",
            "Epoch 2/100\n",
            "211/211 [==============================] - ETA: 0s - loss: 0.1046 - accuracy: 0.9646\n",
            "Epoch 2: val_accuracy did not improve from 0.99365\n",
            "211/211 [==============================] - 31s 147ms/step - loss: 0.1046 - accuracy: 0.9646 - val_loss: 0.0751 - val_accuracy: 0.9879 - lr: 0.0010\n",
            "Epoch 3/100\n",
            "211/211 [==============================] - ETA: 0s - loss: 0.0899 - accuracy: 0.9684\n",
            "Epoch 3: val_accuracy did not improve from 0.99365\n",
            "211/211 [==============================] - 31s 147ms/step - loss: 0.0899 - accuracy: 0.9684 - val_loss: 0.1442 - val_accuracy: 0.9752 - lr: 0.0010\n",
            "Epoch 4/100\n",
            "211/211 [==============================] - ETA: 0s - loss: 0.0415 - accuracy: 0.9888\n",
            "Epoch 4: val_accuracy did not improve from 0.99365\n",
            "211/211 [==============================] - 31s 147ms/step - loss: 0.0415 - accuracy: 0.9888 - val_loss: 0.0618 - val_accuracy: 0.9873 - lr: 0.0010\n",
            "Epoch 5/100\n",
            "211/211 [==============================] - ETA: 0s - loss: 0.0519 - accuracy: 0.9845\n",
            "Epoch 5: val_accuracy improved from 0.99365 to 0.99619, saving model to Cherry_DIY_model1_Based_Augmented\n"
          ]
        },
        {
          "name": "stderr",
          "output_type": "stream",
          "text": [
            "WARNING:absl:Found untraced functions such as _jit_compiled_convolution_op, _jit_compiled_convolution_op, _jit_compiled_convolution_op while saving (showing 3 of 3). These functions will not be directly callable after loading.\n"
          ]
        },
        {
          "name": "stdout",
          "output_type": "stream",
          "text": [
            "INFO:tensorflow:Assets written to: Cherry_DIY_model1_Based_Augmented\\assets\n"
          ]
        },
        {
          "name": "stderr",
          "output_type": "stream",
          "text": [
            "INFO:tensorflow:Assets written to: Cherry_DIY_model1_Based_Augmented\\assets\n"
          ]
        },
        {
          "name": "stdout",
          "output_type": "stream",
          "text": [
            "211/211 [==============================] - 34s 160ms/step - loss: 0.0519 - accuracy: 0.9845 - val_loss: 0.0208 - val_accuracy: 0.9962 - lr: 0.0010\n",
            "Epoch 6/100\n",
            "211/211 [==============================] - ETA: 0s - loss: 0.0677 - accuracy: 0.9748\n",
            "Epoch 6: val_accuracy did not improve from 0.99619\n",
            "211/211 [==============================] - 31s 146ms/step - loss: 0.0677 - accuracy: 0.9748 - val_loss: 0.0996 - val_accuracy: 0.9848 - lr: 0.0010\n",
            "Epoch 7/100\n",
            "211/211 [==============================] - ETA: 0s - loss: 0.0450 - accuracy: 0.9836\n",
            "Epoch 7: val_accuracy improved from 0.99619 to 0.99682, saving model to Cherry_DIY_model1_Based_Augmented\n"
          ]
        },
        {
          "name": "stderr",
          "output_type": "stream",
          "text": [
            "WARNING:absl:Found untraced functions such as _jit_compiled_convolution_op, _jit_compiled_convolution_op, _jit_compiled_convolution_op while saving (showing 3 of 3). These functions will not be directly callable after loading.\n"
          ]
        },
        {
          "name": "stdout",
          "output_type": "stream",
          "text": [
            "INFO:tensorflow:Assets written to: Cherry_DIY_model1_Based_Augmented\\assets\n"
          ]
        },
        {
          "name": "stderr",
          "output_type": "stream",
          "text": [
            "INFO:tensorflow:Assets written to: Cherry_DIY_model1_Based_Augmented\\assets\n"
          ]
        },
        {
          "name": "stdout",
          "output_type": "stream",
          "text": [
            "211/211 [==============================] - 34s 163ms/step - loss: 0.0450 - accuracy: 0.9836 - val_loss: 0.0186 - val_accuracy: 0.9968 - lr: 0.0010\n",
            "Epoch 8/100\n",
            "211/211 [==============================] - ETA: 0s - loss: 0.0435 - accuracy: 0.9886\n",
            "Epoch 8: val_accuracy did not improve from 0.99682\n",
            "211/211 [==============================] - 30s 142ms/step - loss: 0.0435 - accuracy: 0.9886 - val_loss: 0.0841 - val_accuracy: 0.9854 - lr: 0.0010\n",
            "Epoch 9/100\n",
            "211/211 [==============================] - ETA: 0s - loss: 0.0322 - accuracy: 0.9919\n",
            "Epoch 9: val_accuracy did not improve from 0.99682\n",
            "211/211 [==============================] - 30s 144ms/step - loss: 0.0322 - accuracy: 0.9919 - val_loss: 0.0226 - val_accuracy: 0.9943 - lr: 0.0010\n",
            "Epoch 10/100\n",
            "211/211 [==============================] - ETA: 0s - loss: 0.0335 - accuracy: 0.9910\n",
            "Epoch 10: val_accuracy did not improve from 0.99682\n",
            "211/211 [==============================] - 34s 160ms/step - loss: 0.0335 - accuracy: 0.9910 - val_loss: 0.0521 - val_accuracy: 0.9898 - lr: 0.0010\n",
            "Epoch 11/100\n",
            "211/211 [==============================] - ETA: 0s - loss: 0.0189 - accuracy: 0.9952\n",
            "Epoch 11: val_accuracy improved from 0.99682 to 1.00000, saving model to Cherry_DIY_model1_Based_Augmented\n"
          ]
        },
        {
          "name": "stderr",
          "output_type": "stream",
          "text": [
            "WARNING:absl:Found untraced functions such as _jit_compiled_convolution_op, _jit_compiled_convolution_op, _jit_compiled_convolution_op while saving (showing 3 of 3). These functions will not be directly callable after loading.\n"
          ]
        },
        {
          "name": "stdout",
          "output_type": "stream",
          "text": [
            "INFO:tensorflow:Assets written to: Cherry_DIY_model1_Based_Augmented\\assets\n"
          ]
        },
        {
          "name": "stderr",
          "output_type": "stream",
          "text": [
            "INFO:tensorflow:Assets written to: Cherry_DIY_model1_Based_Augmented\\assets\n"
          ]
        },
        {
          "name": "stdout",
          "output_type": "stream",
          "text": [
            "211/211 [==============================] - 36s 170ms/step - loss: 0.0189 - accuracy: 0.9952 - val_loss: 5.7386e-04 - val_accuracy: 1.0000 - lr: 0.0010\n",
            "Epoch 12/100\n",
            "211/211 [==============================] - ETA: 0s - loss: 0.0280 - accuracy: 0.9900\n",
            "Epoch 12: val_accuracy did not improve from 1.00000\n",
            "211/211 [==============================] - 31s 148ms/step - loss: 0.0280 - accuracy: 0.9900 - val_loss: 0.0289 - val_accuracy: 0.9936 - lr: 0.0010\n",
            "Epoch 13/100\n",
            "211/211 [==============================] - ETA: 0s - loss: 0.0195 - accuracy: 0.9943\n",
            "Epoch 13: val_accuracy did not improve from 1.00000\n",
            "211/211 [==============================] - 32s 149ms/step - loss: 0.0195 - accuracy: 0.9943 - val_loss: 0.0355 - val_accuracy: 0.9898 - lr: 0.0010\n",
            "Epoch 14/100\n",
            "211/211 [==============================] - ETA: 0s - loss: 0.0473 - accuracy: 0.9879\n",
            "Epoch 14: val_accuracy did not improve from 1.00000\n",
            "211/211 [==============================] - 31s 147ms/step - loss: 0.0473 - accuracy: 0.9879 - val_loss: 0.1318 - val_accuracy: 0.9670 - lr: 0.0010\n",
            "Epoch 15/100\n",
            "211/211 [==============================] - ETA: 0s - loss: 0.0833 - accuracy: 0.9715\n",
            "Epoch 15: val_accuracy did not improve from 1.00000\n",
            "211/211 [==============================] - 32s 149ms/step - loss: 0.0833 - accuracy: 0.9715 - val_loss: 0.0335 - val_accuracy: 0.9924 - lr: 0.0010\n",
            "Epoch 16/100\n",
            "211/211 [==============================] - ETA: 0s - loss: 0.0196 - accuracy: 0.9943\n",
            "Epoch 16: val_accuracy did not improve from 1.00000\n",
            "\n",
            "Epoch 16: ReduceLROnPlateau reducing learning rate to 0.00010000000474974513.\n",
            "211/211 [==============================] - 31s 148ms/step - loss: 0.0196 - accuracy: 0.9943 - val_loss: 0.1671 - val_accuracy: 0.9835 - lr: 0.0010\n",
            "Epoch 17/100\n",
            "211/211 [==============================] - ETA: 0s - loss: 0.0105 - accuracy: 0.9976\n",
            "Epoch 17: val_accuracy did not improve from 1.00000\n",
            "211/211 [==============================] - 32s 153ms/step - loss: 0.0105 - accuracy: 0.9976 - val_loss: 0.0585 - val_accuracy: 0.9898 - lr: 1.0000e-04\n",
            "Epoch 18/100\n",
            "211/211 [==============================] - ETA: 0s - loss: 0.0059 - accuracy: 0.9979\n",
            "Epoch 18: val_accuracy did not improve from 1.00000\n",
            "211/211 [==============================] - 33s 158ms/step - loss: 0.0059 - accuracy: 0.9979 - val_loss: 0.0541 - val_accuracy: 0.9917 - lr: 1.0000e-04\n",
            "Epoch 19/100\n",
            "211/211 [==============================] - ETA: 0s - loss: 0.0057 - accuracy: 0.9990\n",
            "Epoch 19: val_accuracy did not improve from 1.00000\n",
            "211/211 [==============================] - 32s 152ms/step - loss: 0.0057 - accuracy: 0.9990 - val_loss: 0.0599 - val_accuracy: 0.9917 - lr: 1.0000e-04\n",
            "Epoch 20/100\n",
            "211/211 [==============================] - ETA: 0s - loss: 0.0040 - accuracy: 0.9993\n",
            "Epoch 20: val_accuracy did not improve from 1.00000\n",
            "211/211 [==============================] - 32s 149ms/step - loss: 0.0040 - accuracy: 0.9993 - val_loss: 0.0588 - val_accuracy: 0.9911 - lr: 1.0000e-04\n",
            "Epoch 21/100\n",
            "211/211 [==============================] - ETA: 0s - loss: 0.0081 - accuracy: 0.9971\n",
            "Epoch 21: val_accuracy did not improve from 1.00000\n",
            "\n",
            "Epoch 21: ReduceLROnPlateau reducing learning rate to 1.0000000474974514e-05.\n",
            "211/211 [==============================] - 33s 158ms/step - loss: 0.0081 - accuracy: 0.9971 - val_loss: 0.0613 - val_accuracy: 0.9911 - lr: 1.0000e-04\n",
            "Epoch 22/100\n",
            "211/211 [==============================] - ETA: 0s - loss: 0.0059 - accuracy: 0.9983\n",
            "Epoch 22: val_accuracy did not improve from 1.00000\n",
            "211/211 [==============================] - 32s 150ms/step - loss: 0.0059 - accuracy: 0.9983 - val_loss: 0.0577 - val_accuracy: 0.9911 - lr: 1.0000e-05\n",
            "Epoch 23/100\n",
            "211/211 [==============================] - ETA: 0s - loss: 0.0051 - accuracy: 0.9981\n",
            "Epoch 23: val_accuracy did not improve from 1.00000\n",
            "211/211 [==============================] - 32s 153ms/step - loss: 0.0051 - accuracy: 0.9981 - val_loss: 0.0474 - val_accuracy: 0.9924 - lr: 1.0000e-05\n",
            "Epoch 24/100\n",
            "211/211 [==============================] - ETA: 0s - loss: 0.0062 - accuracy: 0.9981\n",
            "Epoch 24: val_accuracy did not improve from 1.00000\n",
            "211/211 [==============================] - 36s 169ms/step - loss: 0.0062 - accuracy: 0.9981 - val_loss: 0.0446 - val_accuracy: 0.9924 - lr: 1.0000e-05\n",
            "Epoch 25/100\n",
            "211/211 [==============================] - ETA: 0s - loss: 0.0054 - accuracy: 0.9981\n",
            "Epoch 25: val_accuracy did not improve from 1.00000\n",
            "211/211 [==============================] - 33s 156ms/step - loss: 0.0054 - accuracy: 0.9981 - val_loss: 0.0428 - val_accuracy: 0.9924 - lr: 1.0000e-05\n",
            "Epoch 26/100\n",
            "211/211 [==============================] - ETA: 0s - loss: 0.0041 - accuracy: 0.9993\n",
            "Epoch 26: val_accuracy did not improve from 1.00000\n",
            "\n",
            "Epoch 26: ReduceLROnPlateau reducing learning rate to 1.0000000656873453e-06.\n",
            "211/211 [==============================] - 31s 148ms/step - loss: 0.0041 - accuracy: 0.9993 - val_loss: 0.0390 - val_accuracy: 0.9936 - lr: 1.0000e-05\n",
            "Epoch 27/100\n",
            "211/211 [==============================] - ETA: 0s - loss: 0.0038 - accuracy: 0.9986\n",
            "Epoch 27: val_accuracy did not improve from 1.00000\n",
            "211/211 [==============================] - 33s 156ms/step - loss: 0.0038 - accuracy: 0.9986 - val_loss: 0.0401 - val_accuracy: 0.9930 - lr: 1.0000e-06\n",
            "Epoch 28/100\n",
            "211/211 [==============================] - ETA: 0s - loss: 0.0051 - accuracy: 0.9981\n",
            "Epoch 28: val_accuracy did not improve from 1.00000\n",
            "211/211 [==============================] - 31s 149ms/step - loss: 0.0051 - accuracy: 0.9981 - val_loss: 0.0409 - val_accuracy: 0.9930 - lr: 1.0000e-06\n",
            "Epoch 29/100\n",
            "211/211 [==============================] - ETA: 0s - loss: 0.0078 - accuracy: 0.9969\n",
            "Epoch 29: val_accuracy did not improve from 1.00000\n",
            "211/211 [==============================] - 32s 153ms/step - loss: 0.0078 - accuracy: 0.9969 - val_loss: 0.0406 - val_accuracy: 0.9930 - lr: 1.0000e-06\n",
            "Epoch 30/100\n",
            "211/211 [==============================] - ETA: 0s - loss: 0.0036 - accuracy: 0.9988\n",
            "Epoch 30: val_accuracy did not improve from 1.00000\n",
            "211/211 [==============================] - 33s 156ms/step - loss: 0.0036 - accuracy: 0.9988 - val_loss: 0.0412 - val_accuracy: 0.9930 - lr: 1.0000e-06\n",
            "Epoch 31/100\n",
            "211/211 [==============================] - ETA: 0s - loss: 0.0053 - accuracy: 0.9981\n",
            "Epoch 31: val_accuracy did not improve from 1.00000\n",
            "Restoring model weights from the end of the best epoch: 11.\n",
            "\n",
            "Epoch 31: ReduceLROnPlateau reducing learning rate to 1.0000001111620805e-07.\n",
            "211/211 [==============================] - 34s 160ms/step - loss: 0.0053 - accuracy: 0.9981 - val_loss: 0.0406 - val_accuracy: 0.9930 - lr: 1.0000e-06\n",
            "Epoch 31: early stopping\n"
          ]
        }
      ],
      "source": [
        "# Define the number of epochs\n",
        "num_epochs = 100\n",
        "\n",
        "# Train the model\n",
        "history_DIY_model = DIY_model.fit(train_generator, epochs=num_epochs, validation_data=validation_generator, callbacks=callbacks)"
      ]
    },
    {
      "cell_type": "code",
      "execution_count": 12,
      "metadata": {
        "colab": {
          "base_uri": "https://localhost:8080/",
          "height": 904
        },
        "id": "lvS9xz3LU2TI",
        "outputId": "bba2f511-8a42-4953-be72-f7f0db8af80f",
        "tags": []
      },
      "outputs": [
        {
          "data": {
            "text/plain": [
              "<matplotlib.legend.Legend at 0x188714bf130>"
            ]
          },
          "execution_count": 12,
          "metadata": {},
          "output_type": "execute_result"
        },
        {
          "data": {
            "image/png": "[encoded data removed]",
            "text/plain": [
              "<Figure size 640x480 with 1 Axes>"
            ]
          },
          "metadata": {},
          "output_type": "display_data"
        },
        {
          "data": {
            "image/png": "[encoded data removed]",
            "text/plain": [
              "<Figure size 640x480 with 1 Axes>"
            ]
          },
          "metadata": {},
          "output_type": "display_data"
        }
      ],
      "source": [
        "#-----------------------------------------------------------\n",
        "# Retrieve a list of list results on training and test data\n",
        "# sets for each training epoch\n",
        "#-----------------------------------------------------------\n",
        "acc      = history_DIY_model.history['accuracy' ]\n",
        "val_acc  = history_DIY_model.history['val_accuracy' ]\n",
        "loss     = history_DIY_model.history['loss' ]\n",
        "val_loss = history_DIY_model.history['val_loss' ]\n",
        "\n",
        "epochs   = range(len(acc)) # Get number of epochs\n",
        "\n",
        "#------------------------------------------------\n",
        "# Plot training and validation accuracy per epoch\n",
        "#------------------------------------------------\n",
        "plt.plot  (epochs, acc )\n",
        "plt.plot  (epochs, val_acc )\n",
        "plt.title ('Training and validation accuracy DIY Model 1 Augmented')\n",
        "plt.legend(['train', 'val'], loc='upper left')\n",
        "plt.figure()\n",
        "\n",
        "#------------------------------------------------\n",
        "# Plot training and validation loss per epoch\n",
        "#------------------------------------------------\n",
        "plt.plot  (epochs, loss)\n",
        "plt.plot  (epochs, val_loss)\n",
        "plt.title ('Training and validation loss DIY Model 1 Augmented')\n",
        "plt.legend(['train', 'val'], loc='upper left')"
      ]
    },
    {
      "attachments": {},
      "cell_type": "markdown",
      "metadata": {
        "id": "SvQOR9IuU2TJ"
      },
      "source": [
        "## DIY Model 2"
      ]
    },
    {
      "cell_type": "code",
      "execution_count": 13,
      "metadata": {
        "id": "Tj7lcdvUU2TJ",
        "tags": []
      },
      "outputs": [],
      "source": [
        "# Difine the callbacks\n",
        "# Save the best model\n",
        "checkpoint_callback = ModelCheckpoint(filepath=\"Cherry_DIY_model2_Based_Augmented\", save_best_only=True, monitor=\"val_accuracy\", mode=\"max\", verbose=1)\n",
        "\n",
        "# Early stopping\n",
        "early_stopping_callback = EarlyStopping(monitor=\"val_accuracy\", mode=\"max\", patience=20, verbose=1, restore_best_weights=True)\n",
        "\n",
        "# Reduce learning rate\n",
        "reduce_lr_callback = ReduceLROnPlateau(monitor=\"val_loss\", factor=0.1, patience=5, verbose=1, mode=\"min\", min_delta=0.0001, cooldown=0, min_lr=0)\n",
        "\n",
        "# Callbacks list\n",
        "callbacks=[checkpoint_callback, early_stopping_callback, reduce_lr_callback]"
      ]
    },
    {
      "cell_type": "code",
      "execution_count": 14,
      "metadata": {
        "colab": {
          "base_uri": "https://localhost:8080/"
        },
        "id": "7NKPY1xGU2TJ",
        "outputId": "9d2610fa-c990-4382-a476-ccd52f43072e",
        "tags": []
      },
      "outputs": [
        {
          "name": "stdout",
          "output_type": "stream",
          "text": [
            "Model: \"sequential_1\"\n",
            "_________________________________________________________________\n",
            " Layer (type)                Output Shape              Param #   \n",
            "=================================================================\n",
            " conv2d_3 (Conv2D)           (None, 222, 222, 32)      896       \n",
            "                                                                 \n",
            " max_pooling2d_3 (MaxPooling  (None, 111, 111, 32)     0         \n",
            " 2D)                                                             \n",
            "                                                                 \n",
            " conv2d_4 (Conv2D)           (None, 109, 109, 64)      18496     \n",
            "                                                                 \n",
            " max_pooling2d_4 (MaxPooling  (None, 54, 54, 64)       0         \n",
            " 2D)                                                             \n",
            "                                                                 \n",
            " conv2d_5 (Conv2D)           (None, 52, 52, 128)       73856     \n",
            "                                                                 \n",
            " max_pooling2d_5 (MaxPooling  (None, 26, 26, 128)      0         \n",
            " 2D)                                                             \n",
            "                                                                 \n",
            " flatten_1 (Flatten)         (None, 86528)             0         \n",
            "                                                                 \n",
            " dense_3 (Dense)             (None, 1024)              88605696  \n",
            "                                                                 \n",
            " dense_4 (Dense)             (None, 512)               524800    \n",
            "                                                                 \n",
            " dropout_1 (Dropout)         (None, 512)               0         \n",
            "                                                                 \n",
            " dense_5 (Dense)             (None, 256)               131328    \n",
            "                                                                 \n",
            " dense_6 (Dense)             (None, 2)                 514       \n",
            "                                                                 \n",
            "=================================================================\n",
            "Total params: 89,355,586\n",
            "Trainable params: 89,355,586\n",
            "Non-trainable params: 0\n",
            "_________________________________________________________________\n"
          ]
        }
      ],
      "source": [
        "# Define DIY Model\n",
        "DIY_model_2 = tf.keras.models.Sequential([\n",
        "    # Convolutional Layers with 32 filters\n",
        "    tf.keras.layers.Conv2D(32, (3,3), activation='relu', input_shape=(224, 224, 3)),\n",
        "    # MaxPooling Layer\n",
        "    tf.keras.layers.MaxPooling2D(2,2),\n",
        "    # Convolutional Layers with 64 filters\n",
        "    tf.keras.layers.Conv2D(64, (3,3), activation='relu'),\n",
        "    # MaxPooling Layer\n",
        "    tf.keras.layers.MaxPooling2D(2,2),  \n",
        "    # Convolutional Layers with 128 filters\n",
        "    tf.keras.layers.Conv2D(128, (3,3), activation='relu'), \n",
        "    # MaxPooling Layer\n",
        "    tf.keras.layers.MaxPooling2D(2,2),  \n",
        "    # Flatten the results to feed into a DNN\n",
        "    tf.keras.layers.Flatten(),\n",
        "    # 1024 neuron hidden layer\n",
        "    tf.keras.layers.Dense(1024, activation='relu'),\n",
        "    # 512 neuron hidden layer\n",
        "    tf.keras.layers.Dense(512, activation='relu'),\n",
        "    # Drop Out Layer\n",
        "    tf.keras.layers.Dropout(0.2),\n",
        "    # 256 neuron hidden layer\n",
        "    tf.keras.layers.Dense(256, activation='relu'),\n",
        "    # Output\n",
        "    tf.keras.layers.Dense(2, activation='softmax') \n",
        "  ])\n",
        "\n",
        "\n",
        "# Compile Model\n",
        "DIY_model_2.compile(loss='categorical_crossentropy',optimizer=tf.keras.optimizers.Adam(), metrics=['accuracy']) \n",
        "\n",
        "# Model Summary\n",
        "DIY_model_2.summary()"
      ]
    },
    {
      "cell_type": "code",
      "execution_count": 15,
      "metadata": {
        "colab": {
          "base_uri": "https://localhost:8080/"
        },
        "id": "6beuexC9U2TJ",
        "outputId": "c556d70a-9828-41c8-efac-ec093453ce33",
        "tags": []
      },
      "outputs": [
        {
          "name": "stdout",
          "output_type": "stream",
          "text": [
            "Epoch 1/100\n",
            "211/211 [==============================] - ETA: 0s - loss: 0.3426 - accuracy: 0.8666\n",
            "Epoch 1: val_accuracy improved from -inf to 0.59212, saving model to Cherry_DIY_model2_Based_Augmented\n"
          ]
        },
        {
          "name": "stderr",
          "output_type": "stream",
          "text": [
            "WARNING:absl:Found untraced functions such as _jit_compiled_convolution_op, _jit_compiled_convolution_op, _jit_compiled_convolution_op while saving (showing 3 of 3). These functions will not be directly callable after loading.\n"
          ]
        },
        {
          "name": "stdout",
          "output_type": "stream",
          "text": [
            "INFO:tensorflow:Assets written to: Cherry_DIY_model2_Based_Augmented\\assets\n"
          ]
        },
        {
          "name": "stderr",
          "output_type": "stream",
          "text": [
            "INFO:tensorflow:Assets written to: Cherry_DIY_model2_Based_Augmented\\assets\n"
          ]
        },
        {
          "name": "stdout",
          "output_type": "stream",
          "text": [
            "211/211 [==============================] - 36s 168ms/step - loss: 0.3426 - accuracy: 0.8666 - val_loss: 1.5584 - val_accuracy: 0.5921 - lr: 0.0010\n",
            "Epoch 2/100\n",
            "211/211 [==============================] - ETA: 0s - loss: 0.2009 - accuracy: 0.9265\n",
            "Epoch 2: val_accuracy improved from 0.59212 to 0.95362, saving model to Cherry_DIY_model2_Based_Augmented\n"
          ]
        },
        {
          "name": "stderr",
          "output_type": "stream",
          "text": [
            "WARNING:absl:Found untraced functions such as _jit_compiled_convolution_op, _jit_compiled_convolution_op, _jit_compiled_convolution_op while saving (showing 3 of 3). These functions will not be directly callable after loading.\n"
          ]
        },
        {
          "name": "stdout",
          "output_type": "stream",
          "text": [
            "INFO:tensorflow:Assets written to: Cherry_DIY_model2_Based_Augmented\\assets\n"
          ]
        },
        {
          "name": "stderr",
          "output_type": "stream",
          "text": [
            "INFO:tensorflow:Assets written to: Cherry_DIY_model2_Based_Augmented\\assets\n"
          ]
        },
        {
          "name": "stdout",
          "output_type": "stream",
          "text": [
            "211/211 [==============================] - 34s 161ms/step - loss: 0.2009 - accuracy: 0.9265 - val_loss: 0.1888 - val_accuracy: 0.9536 - lr: 0.0010\n",
            "Epoch 3/100\n",
            "211/211 [==============================] - ETA: 0s - loss: 0.0822 - accuracy: 0.9731\n",
            "Epoch 3: val_accuracy improved from 0.95362 to 0.98793, saving model to Cherry_DIY_model2_Based_Augmented\n"
          ]
        },
        {
          "name": "stderr",
          "output_type": "stream",
          "text": [
            "WARNING:absl:Found untraced functions such as _jit_compiled_convolution_op, _jit_compiled_convolution_op, _jit_compiled_convolution_op while saving (showing 3 of 3). These functions will not be directly callable after loading.\n"
          ]
        },
        {
          "name": "stdout",
          "output_type": "stream",
          "text": [
            "INFO:tensorflow:Assets written to: Cherry_DIY_model2_Based_Augmented\\assets\n"
          ]
        },
        {
          "name": "stderr",
          "output_type": "stream",
          "text": [
            "INFO:tensorflow:Assets written to: Cherry_DIY_model2_Based_Augmented\\assets\n"
          ]
        },
        {
          "name": "stdout",
          "output_type": "stream",
          "text": [
            "211/211 [==============================] - 35s 164ms/step - loss: 0.0822 - accuracy: 0.9731 - val_loss: 0.0713 - val_accuracy: 0.9879 - lr: 0.0010\n",
            "Epoch 4/100\n",
            "211/211 [==============================] - ETA: 0s - loss: 0.0810 - accuracy: 0.9753\n",
            "Epoch 4: val_accuracy did not improve from 0.98793\n",
            "211/211 [==============================] - 31s 146ms/step - loss: 0.0810 - accuracy: 0.9753 - val_loss: 0.1369 - val_accuracy: 0.9816 - lr: 0.0010\n",
            "Epoch 5/100\n",
            "211/211 [==============================] - ETA: 0s - loss: 0.0464 - accuracy: 0.9855\n",
            "Epoch 5: val_accuracy did not improve from 0.98793\n",
            "211/211 [==============================] - 31s 146ms/step - loss: 0.0464 - accuracy: 0.9855 - val_loss: 0.0704 - val_accuracy: 0.9867 - lr: 0.0010\n",
            "Epoch 6/100\n",
            "211/211 [==============================] - ETA: 0s - loss: 0.0666 - accuracy: 0.9812\n",
            "Epoch 6: val_accuracy did not improve from 0.98793\n",
            "211/211 [==============================] - 33s 154ms/step - loss: 0.0666 - accuracy: 0.9812 - val_loss: 0.0809 - val_accuracy: 0.9879 - lr: 0.0010\n",
            "Epoch 7/100\n",
            "211/211 [==============================] - ETA: 0s - loss: 0.0432 - accuracy: 0.9867\n",
            "Epoch 7: val_accuracy did not improve from 0.98793\n",
            "211/211 [==============================] - 32s 150ms/step - loss: 0.0432 - accuracy: 0.9867 - val_loss: 0.2154 - val_accuracy: 0.9562 - lr: 0.0010\n",
            "Epoch 8/100\n",
            "211/211 [==============================] - ETA: 0s - loss: 0.0761 - accuracy: 0.9788\n",
            "Epoch 8: val_accuracy improved from 0.98793 to 0.99238, saving model to Cherry_DIY_model2_Based_Augmented\n"
          ]
        },
        {
          "name": "stderr",
          "output_type": "stream",
          "text": [
            "WARNING:absl:Found untraced functions such as _jit_compiled_convolution_op, _jit_compiled_convolution_op, _jit_compiled_convolution_op while saving (showing 3 of 3). These functions will not be directly callable after loading.\n"
          ]
        },
        {
          "name": "stdout",
          "output_type": "stream",
          "text": [
            "INFO:tensorflow:Assets written to: Cherry_DIY_model2_Based_Augmented\\assets\n"
          ]
        },
        {
          "name": "stderr",
          "output_type": "stream",
          "text": [
            "INFO:tensorflow:Assets written to: Cherry_DIY_model2_Based_Augmented\\assets\n"
          ]
        },
        {
          "name": "stdout",
          "output_type": "stream",
          "text": [
            "211/211 [==============================] - 37s 175ms/step - loss: 0.0761 - accuracy: 0.9788 - val_loss: 0.0295 - val_accuracy: 0.9924 - lr: 0.0010\n",
            "Epoch 9/100\n",
            "211/211 [==============================] - ETA: 0s - loss: 0.0420 - accuracy: 0.9879\n",
            "Epoch 9: val_accuracy did not improve from 0.99238\n",
            "211/211 [==============================] - 31s 148ms/step - loss: 0.0420 - accuracy: 0.9879 - val_loss: 0.0427 - val_accuracy: 0.9905 - lr: 0.0010\n",
            "Epoch 10/100\n",
            "211/211 [==============================] - ETA: 0s - loss: 0.0284 - accuracy: 0.9924\n",
            "Epoch 10: val_accuracy improved from 0.99238 to 0.99428, saving model to Cherry_DIY_model2_Based_Augmented\n"
          ]
        },
        {
          "name": "stderr",
          "output_type": "stream",
          "text": [
            "WARNING:absl:Found untraced functions such as _jit_compiled_convolution_op, _jit_compiled_convolution_op, _jit_compiled_convolution_op while saving (showing 3 of 3). These functions will not be directly callable after loading.\n"
          ]
        },
        {
          "name": "stdout",
          "output_type": "stream",
          "text": [
            "INFO:tensorflow:Assets written to: Cherry_DIY_model2_Based_Augmented\\assets\n"
          ]
        },
        {
          "name": "stderr",
          "output_type": "stream",
          "text": [
            "INFO:tensorflow:Assets written to: Cherry_DIY_model2_Based_Augmented\\assets\n"
          ]
        },
        {
          "name": "stdout",
          "output_type": "stream",
          "text": [
            "211/211 [==============================] - 38s 180ms/step - loss: 0.0284 - accuracy: 0.9924 - val_loss: 0.0250 - val_accuracy: 0.9943 - lr: 0.0010\n",
            "Epoch 11/100\n",
            "211/211 [==============================] - ETA: 0s - loss: 0.0268 - accuracy: 0.9924\n",
            "Epoch 11: val_accuracy did not improve from 0.99428\n",
            "211/211 [==============================] - 32s 152ms/step - loss: 0.0268 - accuracy: 0.9924 - val_loss: 0.0501 - val_accuracy: 0.9924 - lr: 0.0010\n",
            "Epoch 12/100\n",
            "211/211 [==============================] - ETA: 0s - loss: 0.0251 - accuracy: 0.9912\n",
            "Epoch 12: val_accuracy did not improve from 0.99428\n",
            "211/211 [==============================] - 32s 151ms/step - loss: 0.0251 - accuracy: 0.9912 - val_loss: 0.0692 - val_accuracy: 0.9682 - lr: 0.0010\n",
            "Epoch 13/100\n",
            "211/211 [==============================] - ETA: 0s - loss: 0.0244 - accuracy: 0.9936\n",
            "Epoch 13: val_accuracy did not improve from 0.99428\n",
            "211/211 [==============================] - 32s 152ms/step - loss: 0.0244 - accuracy: 0.9936 - val_loss: 0.0456 - val_accuracy: 0.9905 - lr: 0.0010\n",
            "Epoch 14/100\n",
            "211/211 [==============================] - ETA: 0s - loss: 0.0500 - accuracy: 0.9817\n",
            "Epoch 14: val_accuracy improved from 0.99428 to 0.99746, saving model to Cherry_DIY_model2_Based_Augmented\n"
          ]
        },
        {
          "name": "stderr",
          "output_type": "stream",
          "text": [
            "WARNING:absl:Found untraced functions such as _jit_compiled_convolution_op, _jit_compiled_convolution_op, _jit_compiled_convolution_op while saving (showing 3 of 3). These functions will not be directly callable after loading.\n"
          ]
        },
        {
          "name": "stdout",
          "output_type": "stream",
          "text": [
            "INFO:tensorflow:Assets written to: Cherry_DIY_model2_Based_Augmented\\assets\n"
          ]
        },
        {
          "name": "stderr",
          "output_type": "stream",
          "text": [
            "INFO:tensorflow:Assets written to: Cherry_DIY_model2_Based_Augmented\\assets\n"
          ]
        },
        {
          "name": "stdout",
          "output_type": "stream",
          "text": [
            "211/211 [==============================] - 38s 182ms/step - loss: 0.0500 - accuracy: 0.9817 - val_loss: 0.0342 - val_accuracy: 0.9975 - lr: 0.0010\n",
            "Epoch 15/100\n",
            "211/211 [==============================] - ETA: 0s - loss: 0.0237 - accuracy: 0.9924\n",
            "Epoch 15: val_accuracy did not improve from 0.99746\n",
            "\n",
            "Epoch 15: ReduceLROnPlateau reducing learning rate to 0.00010000000474974513.\n",
            "211/211 [==============================] - 32s 151ms/step - loss: 0.0237 - accuracy: 0.9924 - val_loss: 0.0285 - val_accuracy: 0.9943 - lr: 0.0010\n",
            "Epoch 16/100\n",
            "211/211 [==============================] - ETA: 0s - loss: 0.0080 - accuracy: 0.9981\n",
            "Epoch 16: val_accuracy did not improve from 0.99746\n",
            "211/211 [==============================] - 31s 146ms/step - loss: 0.0080 - accuracy: 0.9981 - val_loss: 0.0158 - val_accuracy: 0.9975 - lr: 1.0000e-04\n",
            "Epoch 17/100\n",
            "211/211 [==============================] - ETA: 0s - loss: 0.0035 - accuracy: 0.9986\n",
            "Epoch 17: val_accuracy did not improve from 0.99746\n",
            "211/211 [==============================] - 31s 146ms/step - loss: 0.0035 - accuracy: 0.9986 - val_loss: 0.0130 - val_accuracy: 0.9975 - lr: 1.0000e-04\n",
            "Epoch 18/100\n",
            "211/211 [==============================] - ETA: 0s - loss: 0.0047 - accuracy: 0.9981\n",
            "Epoch 18: val_accuracy did not improve from 0.99746\n",
            "211/211 [==============================] - 31s 146ms/step - loss: 0.0047 - accuracy: 0.9981 - val_loss: 0.0122 - val_accuracy: 0.9975 - lr: 1.0000e-04\n",
            "Epoch 19/100\n",
            "211/211 [==============================] - ETA: 0s - loss: 0.0042 - accuracy: 0.9990\n",
            "Epoch 19: val_accuracy did not improve from 0.99746\n",
            "211/211 [==============================] - 31s 146ms/step - loss: 0.0042 - accuracy: 0.9990 - val_loss: 0.0196 - val_accuracy: 0.9975 - lr: 1.0000e-04\n",
            "Epoch 20/100\n",
            "211/211 [==============================] - ETA: 0s - loss: 0.0027 - accuracy: 0.9990\n",
            "Epoch 20: val_accuracy did not improve from 0.99746\n",
            "211/211 [==============================] - 31s 148ms/step - loss: 0.0027 - accuracy: 0.9990 - val_loss: 0.0264 - val_accuracy: 0.9968 - lr: 1.0000e-04\n",
            "Epoch 21/100\n",
            "211/211 [==============================] - ETA: 0s - loss: 0.0033 - accuracy: 0.9993\n",
            "Epoch 21: val_accuracy did not improve from 0.99746\n",
            "211/211 [==============================] - 31s 148ms/step - loss: 0.0033 - accuracy: 0.9993 - val_loss: 0.0285 - val_accuracy: 0.9949 - lr: 1.0000e-04\n",
            "Epoch 22/100\n",
            "211/211 [==============================] - ETA: 0s - loss: 0.0066 - accuracy: 0.9974\n",
            "Epoch 22: val_accuracy did not improve from 0.99746\n",
            "211/211 [==============================] - 32s 150ms/step - loss: 0.0066 - accuracy: 0.9974 - val_loss: 0.0067 - val_accuracy: 0.9975 - lr: 1.0000e-04\n",
            "Epoch 23/100\n",
            "211/211 [==============================] - ETA: 0s - loss: 0.0044 - accuracy: 0.9981\n",
            "Epoch 23: val_accuracy did not improve from 0.99746\n",
            "211/211 [==============================] - 32s 151ms/step - loss: 0.0044 - accuracy: 0.9981 - val_loss: 0.0120 - val_accuracy: 0.9975 - lr: 1.0000e-04\n",
            "Epoch 24/100\n",
            "211/211 [==============================] - ETA: 0s - loss: 0.0051 - accuracy: 0.9986\n",
            "Epoch 24: val_accuracy improved from 0.99746 to 0.99873, saving model to Cherry_DIY_model2_Based_Augmented\n"
          ]
        },
        {
          "name": "stderr",
          "output_type": "stream",
          "text": [
            "WARNING:absl:Found untraced functions such as _jit_compiled_convolution_op, _jit_compiled_convolution_op, _jit_compiled_convolution_op while saving (showing 3 of 3). These functions will not be directly callable after loading.\n"
          ]
        },
        {
          "name": "stdout",
          "output_type": "stream",
          "text": [
            "INFO:tensorflow:Assets written to: Cherry_DIY_model2_Based_Augmented\\assets\n"
          ]
        },
        {
          "name": "stderr",
          "output_type": "stream",
          "text": [
            "INFO:tensorflow:Assets written to: Cherry_DIY_model2_Based_Augmented\\assets\n"
          ]
        },
        {
          "name": "stdout",
          "output_type": "stream",
          "text": [
            "211/211 [==============================] - 40s 188ms/step - loss: 0.0051 - accuracy: 0.9986 - val_loss: 0.0025 - val_accuracy: 0.9987 - lr: 1.0000e-04\n",
            "Epoch 25/100\n",
            "211/211 [==============================] - ETA: 0s - loss: 0.0019 - accuracy: 0.9998\n",
            "Epoch 25: val_accuracy did not improve from 0.99873\n",
            "211/211 [==============================] - 34s 162ms/step - loss: 0.0019 - accuracy: 0.9998 - val_loss: 0.0237 - val_accuracy: 0.9962 - lr: 1.0000e-04\n",
            "Epoch 26/100\n",
            "211/211 [==============================] - ETA: 0s - loss: 0.0038 - accuracy: 0.9986\n",
            "Epoch 26: val_accuracy did not improve from 0.99873\n",
            "211/211 [==============================] - 33s 154ms/step - loss: 0.0038 - accuracy: 0.9986 - val_loss: 0.0102 - val_accuracy: 0.9975 - lr: 1.0000e-04\n",
            "Epoch 27/100\n",
            "211/211 [==============================] - ETA: 0s - loss: 0.0033 - accuracy: 0.9990\n",
            "Epoch 27: val_accuracy did not improve from 0.99873\n",
            "211/211 [==============================] - 32s 153ms/step - loss: 0.0033 - accuracy: 0.9990 - val_loss: 0.0099 - val_accuracy: 0.9975 - lr: 1.0000e-04\n",
            "Epoch 28/100\n",
            "211/211 [==============================] - ETA: 0s - loss: 0.0018 - accuracy: 0.9990\n",
            "Epoch 28: val_accuracy improved from 0.99873 to 0.99936, saving model to Cherry_DIY_model2_Based_Augmented\n"
          ]
        },
        {
          "name": "stderr",
          "output_type": "stream",
          "text": [
            "WARNING:absl:Found untraced functions such as _jit_compiled_convolution_op, _jit_compiled_convolution_op, _jit_compiled_convolution_op while saving (showing 3 of 3). These functions will not be directly callable after loading.\n"
          ]
        },
        {
          "name": "stdout",
          "output_type": "stream",
          "text": [
            "INFO:tensorflow:Assets written to: Cherry_DIY_model2_Based_Augmented\\assets\n"
          ]
        },
        {
          "name": "stderr",
          "output_type": "stream",
          "text": [
            "INFO:tensorflow:Assets written to: Cherry_DIY_model2_Based_Augmented\\assets\n"
          ]
        },
        {
          "name": "stdout",
          "output_type": "stream",
          "text": [
            "211/211 [==============================] - 41s 196ms/step - loss: 0.0018 - accuracy: 0.9990 - val_loss: 0.0028 - val_accuracy: 0.9994 - lr: 1.0000e-04\n",
            "Epoch 29/100\n",
            "211/211 [==============================] - ETA: 0s - loss: 0.0011 - accuracy: 0.9998\n",
            "Epoch 29: val_accuracy did not improve from 0.99936\n",
            "\n",
            "Epoch 29: ReduceLROnPlateau reducing learning rate to 1.0000000474974514e-05.\n",
            "211/211 [==============================] - 33s 155ms/step - loss: 0.0011 - accuracy: 0.9998 - val_loss: 0.0078 - val_accuracy: 0.9981 - lr: 1.0000e-04\n",
            "Epoch 30/100\n",
            "211/211 [==============================] - ETA: 0s - loss: 0.0024 - accuracy: 0.9993\n",
            "Epoch 30: val_accuracy did not improve from 0.99936\n",
            "211/211 [==============================] - 31s 149ms/step - loss: 0.0024 - accuracy: 0.9993 - val_loss: 0.0061 - val_accuracy: 0.9987 - lr: 1.0000e-05\n",
            "Epoch 31/100\n",
            "211/211 [==============================] - ETA: 0s - loss: 6.5880e-04 - accuracy: 1.0000\n",
            "Epoch 31: val_accuracy did not improve from 0.99936\n",
            "211/211 [==============================] - 33s 154ms/step - loss: 6.5880e-04 - accuracy: 1.0000 - val_loss: 0.0075 - val_accuracy: 0.9981 - lr: 1.0000e-05\n",
            "Epoch 32/100\n",
            "211/211 [==============================] - ETA: 0s - loss: 0.0030 - accuracy: 0.9995\n",
            "Epoch 32: val_accuracy did not improve from 0.99936\n",
            "211/211 [==============================] - 33s 154ms/step - loss: 0.0030 - accuracy: 0.9995 - val_loss: 0.0073 - val_accuracy: 0.9981 - lr: 1.0000e-05\n",
            "Epoch 33/100\n",
            "211/211 [==============================] - ETA: 0s - loss: 0.0013 - accuracy: 0.9993\n",
            "Epoch 33: val_accuracy did not improve from 0.99936\n",
            "211/211 [==============================] - 32s 154ms/step - loss: 0.0013 - accuracy: 0.9993 - val_loss: 0.0050 - val_accuracy: 0.9987 - lr: 1.0000e-05\n",
            "Epoch 34/100\n",
            "211/211 [==============================] - ETA: 0s - loss: 6.7080e-04 - accuracy: 0.9998\n",
            "Epoch 34: val_accuracy did not improve from 0.99936\n",
            "\n",
            "Epoch 34: ReduceLROnPlateau reducing learning rate to 1.0000000656873453e-06.\n",
            "211/211 [==============================] - 33s 157ms/step - loss: 6.7080e-04 - accuracy: 0.9998 - val_loss: 0.0056 - val_accuracy: 0.9987 - lr: 1.0000e-05\n",
            "Epoch 35/100\n",
            "211/211 [==============================] - ETA: 0s - loss: 9.3109e-04 - accuracy: 1.0000\n",
            "Epoch 35: val_accuracy did not improve from 0.99936\n",
            "211/211 [==============================] - 33s 156ms/step - loss: 9.3109e-04 - accuracy: 1.0000 - val_loss: 0.0057 - val_accuracy: 0.9987 - lr: 1.0000e-06\n",
            "Epoch 36/100\n",
            "211/211 [==============================] - ETA: 0s - loss: 0.0011 - accuracy: 0.9998\n",
            "Epoch 36: val_accuracy did not improve from 0.99936\n",
            "211/211 [==============================] - 33s 154ms/step - loss: 0.0011 - accuracy: 0.9998 - val_loss: 0.0054 - val_accuracy: 0.9987 - lr: 1.0000e-06\n",
            "Epoch 37/100\n",
            "211/211 [==============================] - ETA: 0s - loss: 3.3568e-04 - accuracy: 1.0000\n",
            "Epoch 37: val_accuracy did not improve from 0.99936\n",
            "211/211 [==============================] - 32s 151ms/step - loss: 3.3568e-04 - accuracy: 1.0000 - val_loss: 0.0055 - val_accuracy: 0.9987 - lr: 1.0000e-06\n",
            "Epoch 38/100\n",
            "211/211 [==============================] - ETA: 0s - loss: 0.0012 - accuracy: 0.9995\n",
            "Epoch 38: val_accuracy did not improve from 0.99936\n",
            "211/211 [==============================] - 32s 152ms/step - loss: 0.0012 - accuracy: 0.9995 - val_loss: 0.0054 - val_accuracy: 0.9987 - lr: 1.0000e-06\n",
            "Epoch 39/100\n",
            "211/211 [==============================] - ETA: 0s - loss: 0.0025 - accuracy: 0.9995\n",
            "Epoch 39: val_accuracy did not improve from 0.99936\n",
            "\n",
            "Epoch 39: ReduceLROnPlateau reducing learning rate to 1.0000001111620805e-07.\n",
            "211/211 [==============================] - 33s 155ms/step - loss: 0.0025 - accuracy: 0.9995 - val_loss: 0.0058 - val_accuracy: 0.9987 - lr: 1.0000e-06\n",
            "Epoch 40/100\n",
            "211/211 [==============================] - ETA: 0s - loss: 4.6970e-04 - accuracy: 0.9998\n",
            "Epoch 40: val_accuracy did not improve from 0.99936\n",
            "211/211 [==============================] - 33s 155ms/step - loss: 4.6970e-04 - accuracy: 0.9998 - val_loss: 0.0058 - val_accuracy: 0.9987 - lr: 1.0000e-07\n",
            "Epoch 41/100\n",
            "211/211 [==============================] - ETA: 0s - loss: 6.5788e-04 - accuracy: 0.9995\n",
            "Epoch 41: val_accuracy did not improve from 0.99936\n",
            "211/211 [==============================] - 32s 151ms/step - loss: 6.5788e-04 - accuracy: 0.9995 - val_loss: 0.0058 - val_accuracy: 0.9987 - lr: 1.0000e-07\n",
            "Epoch 42/100\n",
            "211/211 [==============================] - ETA: 0s - loss: 8.9599e-04 - accuracy: 0.9995\n",
            "Epoch 42: val_accuracy did not improve from 0.99936\n",
            "211/211 [==============================] - 32s 151ms/step - loss: 8.9599e-04 - accuracy: 0.9995 - val_loss: 0.0058 - val_accuracy: 0.9987 - lr: 1.0000e-07\n",
            "Epoch 43/100\n",
            "211/211 [==============================] - ETA: 0s - loss: 3.1602e-04 - accuracy: 1.0000\n",
            "Epoch 43: val_accuracy did not improve from 0.99936\n",
            "211/211 [==============================] - 32s 154ms/step - loss: 3.1602e-04 - accuracy: 1.0000 - val_loss: 0.0058 - val_accuracy: 0.9987 - lr: 1.0000e-07\n",
            "Epoch 44/100\n",
            "211/211 [==============================] - ETA: 0s - loss: 0.0016 - accuracy: 0.9995\n",
            "Epoch 44: val_accuracy did not improve from 0.99936\n",
            "\n",
            "Epoch 44: ReduceLROnPlateau reducing learning rate to 1.000000082740371e-08.\n",
            "211/211 [==============================] - 33s 155ms/step - loss: 0.0016 - accuracy: 0.9995 - val_loss: 0.0057 - val_accuracy: 0.9987 - lr: 1.0000e-07\n",
            "Epoch 45/100\n",
            "211/211 [==============================] - ETA: 0s - loss: 3.3454e-04 - accuracy: 1.0000\n",
            "Epoch 45: val_accuracy did not improve from 0.99936\n",
            "211/211 [==============================] - 32s 153ms/step - loss: 3.3454e-04 - accuracy: 1.0000 - val_loss: 0.0057 - val_accuracy: 0.9987 - lr: 1.0000e-08\n",
            "Epoch 46/100\n",
            "211/211 [==============================] - ETA: 0s - loss: 0.0021 - accuracy: 0.9995\n",
            "Epoch 46: val_accuracy did not improve from 0.99936\n",
            "211/211 [==============================] - 33s 159ms/step - loss: 0.0021 - accuracy: 0.9995 - val_loss: 0.0057 - val_accuracy: 0.9987 - lr: 1.0000e-08\n",
            "Epoch 47/100\n",
            "211/211 [==============================] - ETA: 0s - loss: 0.0014 - accuracy: 0.9995\n",
            "Epoch 47: val_accuracy did not improve from 0.99936\n",
            "211/211 [==============================] - 33s 154ms/step - loss: 0.0014 - accuracy: 0.9995 - val_loss: 0.0057 - val_accuracy: 0.9987 - lr: 1.0000e-08\n",
            "Epoch 48/100\n",
            "211/211 [==============================] - ETA: 0s - loss: 0.0019 - accuracy: 0.9993\n",
            "Epoch 48: val_accuracy did not improve from 0.99936\n",
            "Restoring model weights from the end of the best epoch: 28.\n",
            "211/211 [==============================] - 33s 155ms/step - loss: 0.0019 - accuracy: 0.9993 - val_loss: 0.0057 - val_accuracy: 0.9987 - lr: 1.0000e-08\n",
            "Epoch 48: early stopping\n"
          ]
        }
      ],
      "source": [
        "# Define the number of epochs\n",
        "num_epochs = 100\n",
        "\n",
        "# Train the model\n",
        "history_DIY_model_2 = DIY_model_2.fit(train_generator, epochs=num_epochs, validation_data=validation_generator, callbacks=callbacks)"
      ]
    },
    {
      "cell_type": "code",
      "execution_count": 16,
      "metadata": {
        "colab": {
          "base_uri": "https://localhost:8080/",
          "height": 904
        },
        "id": "3f1nmwUhU2TK",
        "outputId": "0f7a9344-ad19-471e-9741-44308dcea56f",
        "tags": []
      },
      "outputs": [
        {
          "data": {
            "text/plain": [
              "<matplotlib.legend.Legend at 0x18872c30610>"
            ]
          },
          "execution_count": 16,
          "metadata": {},
          "output_type": "execute_result"
        },
        {
          "data": {
            "image/png": "[encoded data removed]",
            "text/plain": [
              "<Figure size 640x480 with 1 Axes>"
            ]
          },
          "metadata": {},
          "output_type": "display_data"
        },
        {
          "data": {
            "image/png": "[encoded data removed]",
            "text/plain": [
              "<Figure size 640x480 with 1 Axes>"
            ]
          },
          "metadata": {},
          "output_type": "display_data"
        }
      ],
      "source": [
        "#-----------------------------------------------------------\n",
        "# Retrieve a list of list results on training and test data\n",
        "# sets for each training epoch\n",
        "#-----------------------------------------------------------\n",
        "acc      = history_DIY_model_2.history['accuracy' ]\n",
        "val_acc  = history_DIY_model_2.history['val_accuracy' ]\n",
        "loss     = history_DIY_model_2.history['loss' ]\n",
        "val_loss = history_DIY_model_2.history['val_loss' ]\n",
        "\n",
        "epochs   = range(len(acc)) # Get number of epochs\n",
        "\n",
        "#------------------------------------------------\n",
        "# Plot training and validation accuracy per epoch\n",
        "#------------------------------------------------\n",
        "plt.plot  (epochs, acc )\n",
        "plt.plot  (epochs, val_acc )\n",
        "plt.title ('Training and validation accuracy DIY Model 2 Augmented')\n",
        "plt.legend(['train', 'val'], loc='upper left')\n",
        "plt.figure()\n",
        "\n",
        "#------------------------------------------------\n",
        "# Plot training and validation loss per epoch\n",
        "#------------------------------------------------\n",
        "plt.plot  (epochs, loss)\n",
        "plt.plot  (epochs, val_loss)\n",
        "plt.title ('Training and validation loss DIY Model 2 Augmented')\n",
        "plt.legend(['train', 'val'], loc='upper left')"
      ]
    }
  ],
  "metadata": {
    "accelerator": "GPU",
    "colab": {
      "gpuType": "T4",
      "provenance": []
    },
    "gpuClass": "standard",
    "kernelspec": {
      "display_name": "Python 3 (ipykernel)",
      "language": "python",
      "name": "python3"
    },
    "language_info": {
      "codemirror_mode": {
        "name": "ipython",
        "version": 3
      },
      "file_extension": ".py",
      "mimetype": "text/x-python",
      "name": "python",
      "nbconvert_exporter": "python",
      "pygments_lexer": "ipython3",
      "version": "3.10.0"
    }
  },
  "nbformat": 4,
  "nbformat_minor": 0
}
