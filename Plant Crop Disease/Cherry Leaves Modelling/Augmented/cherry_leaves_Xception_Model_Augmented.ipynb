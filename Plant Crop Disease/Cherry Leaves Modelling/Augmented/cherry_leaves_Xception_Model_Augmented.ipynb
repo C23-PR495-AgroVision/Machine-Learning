{
  "cells": [
    {
      "attachments": {},
      "cell_type": "markdown",
      "metadata": {
        "id": "hO3kEcUPU2S3"
      },
      "source": [
        "# Library"
      ]
    },
    {
      "cell_type": "code",
      "execution_count": 1,
      "metadata": {
        "colab": {
          "base_uri": "https://localhost:8080/"
        },
        "id": "kczkUjsAU2S8",
        "outputId": "fd6cc928-56c3-4697-e84b-2c1408fb73a9",
        "tags": []
      },
      "outputs": [
        {
          "name": "stdout",
          "output_type": "stream",
          "text": [
            "Looking in indexes: https://pypi.org/simple, https://us-python.pkg.dev/colab-wheels/public/simple/\n",
            "Requirement already satisfied: matplotlib in /usr/local/lib/python3.10/dist-packages (3.7.1)\n",
            "Requirement already satisfied: contourpy>=1.0.1 in /usr/local/lib/python3.10/dist-packages (from matplotlib) (1.0.7)\n",
            "Requirement already satisfied: cycler>=0.10 in /usr/local/lib/python3.10/dist-packages (from matplotlib) (0.11.0)\n",
            "Requirement already satisfied: fonttools>=4.22.0 in /usr/local/lib/python3.10/dist-packages (from matplotlib) (4.39.3)\n",
            "Requirement already satisfied: kiwisolver>=1.0.1 in /usr/local/lib/python3.10/dist-packages (from matplotlib) (1.4.4)\n",
            "Requirement already satisfied: numpy>=1.20 in /usr/local/lib/python3.10/dist-packages (from matplotlib) (1.22.4)\n",
            "Requirement already satisfied: packaging>=20.0 in /usr/local/lib/python3.10/dist-packages (from matplotlib) (23.1)\n",
            "Requirement already satisfied: pillow>=6.2.0 in /usr/local/lib/python3.10/dist-packages (from matplotlib) (8.4.0)\n",
            "Requirement already satisfied: pyparsing>=2.3.1 in /usr/local/lib/python3.10/dist-packages (from matplotlib) (3.0.9)\n",
            "Requirement already satisfied: python-dateutil>=2.7 in /usr/local/lib/python3.10/dist-packages (from matplotlib) (2.8.2)\n",
            "Requirement already satisfied: six>=1.5 in /usr/local/lib/python3.10/dist-packages (from python-dateutil>=2.7->matplotlib) (1.16.0)\n"
          ]
        }
      ],
      "source": [
        "pip install matplotlib"
      ]
    },
    {
      "cell_type": "code",
      "execution_count": 2,
      "metadata": {
        "colab": {
          "base_uri": "https://localhost:8080/"
        },
        "id": "oEW3Nbu7U2S_",
        "outputId": "6264c4f9-8e3e-42a0-b527-e2e558d67e09",
        "tags": []
      },
      "outputs": [
        {
          "name": "stdout",
          "output_type": "stream",
          "text": [
            "Looking in indexes: https://pypi.org/simple, https://us-python.pkg.dev/colab-wheels/public/simple/\n",
            "Collecting opendatasets\n",
            "  Downloading opendatasets-0.1.22-py3-none-any.whl (15 kB)\n",
            "Requirement already satisfied: tqdm in /usr/local/lib/python3.10/dist-packages (from opendatasets) (4.65.0)\n",
            "Requirement already satisfied: kaggle in /usr/local/lib/python3.10/dist-packages (from opendatasets) (1.5.13)\n",
            "Requirement already satisfied: click in /usr/local/lib/python3.10/dist-packages (from opendatasets) (8.1.3)\n",
            "Requirement already satisfied: six>=1.10 in /usr/local/lib/python3.10/dist-packages (from kaggle->opendatasets) (1.16.0)\n",
            "Requirement already satisfied: certifi in /usr/local/lib/python3.10/dist-packages (from kaggle->opendatasets) (2022.12.7)\n",
            "Requirement already satisfied: python-dateutil in /usr/local/lib/python3.10/dist-packages (from kaggle->opendatasets) (2.8.2)\n",
            "Requirement already satisfied: requests in /usr/local/lib/python3.10/dist-packages (from kaggle->opendatasets) (2.27.1)\n",
            "Requirement already satisfied: python-slugify in /usr/local/lib/python3.10/dist-packages (from kaggle->opendatasets) (8.0.1)\n",
            "Requirement already satisfied: urllib3 in /usr/local/lib/python3.10/dist-packages (from kaggle->opendatasets) (1.26.15)\n",
            "Requirement already satisfied: text-unidecode>=1.3 in /usr/local/lib/python3.10/dist-packages (from python-slugify->kaggle->opendatasets) (1.3)\n",
            "Requirement already satisfied: charset-normalizer~=2.0.0 in /usr/local/lib/python3.10/dist-packages (from requests->kaggle->opendatasets) (2.0.12)\n",
            "Requirement already satisfied: idna<4,>=2.5 in /usr/local/lib/python3.10/dist-packages (from requests->kaggle->opendatasets) (3.4)\n",
            "Installing collected packages: opendatasets\n",
            "Successfully installed opendatasets-0.1.22\n"
          ]
        }
      ],
      "source": [
        "pip install opendatasets"
      ]
    },
    {
      "cell_type": "code",
      "execution_count": 3,
      "metadata": {
        "id": "SIHHdOB4U2TA",
        "tags": []
      },
      "outputs": [],
      "source": [
        "# Library to dataset\n",
        "import opendatasets as od\n",
        "import os\n",
        "import zipfile\n",
        "import numpy as np\n",
        "\n",
        "# Surpress Warnings\n",
        "import warnings\n",
        "warnings.filterwarnings('ignore')\n",
        "os.environ['TF_CPP_MIN_LOG_LEVEL'] = '3' \n",
        "# library visualization\n",
        "import matplotlib.pyplot as plt\n",
        "\n",
        "# Library Tensorflow\n",
        "import tensorflow as tf\n",
        "from tensorflow import keras\n",
        "from tensorflow.keras.preprocessing.image import ImageDataGenerator\n",
        "from tensorflow.keras.callbacks import ModelCheckpoint, EarlyStopping, ReduceLROnPlateau\n",
        "from tensorflow.keras.applications.densenet import DenseNet121\n",
        "from tensorflow.keras.applications.xception import Xception\n",
        "# Others\n",
        "import shutil\n",
        "import random"
      ]
    },
    {
      "attachments": {},
      "cell_type": "markdown",
      "metadata": {
        "id": "Dy8YkYoaU2TB"
      },
      "source": [
        "# Load dataset"
      ]
    },
    {
      "cell_type": "code",
      "execution_count": 4,
      "metadata": {
        "colab": {
          "base_uri": "https://localhost:8080/"
        },
        "id": "TWOf7hZ1U2TC",
        "outputId": "5190f540-df92-4b3d-95da-b35a574d3936",
        "tags": []
      },
      "outputs": [
        {
          "name": "stdout",
          "output_type": "stream",
          "text": [
            "Please provide your Kaggle credentials to download this dataset. Learn more: http://bit.ly/kaggle-creds\n",
            "Your Kaggle username: ahmadhabibhasanzein\n",
            "Your Kaggle Key: ··········\n",
            "Downloading cherry-leaves.zip to ./cherry-leaves\n"
          ]
        },
        {
          "name": "stderr",
          "output_type": "stream",
          "text": [
            "100%|██████████| 75.7M/75.7M [00:06<00:00, 11.5MB/s]\n"
          ]
        },
        {
          "name": "stdout",
          "output_type": "stream",
          "text": [
            "\n"
          ]
        }
      ],
      "source": [
        "# Download dataset\n",
        "od.download('https://www.kaggle.com/datasets/ahmadhabibhasanzein/cherry-leaves')"
      ]
    },
    {
      "cell_type": "code",
      "execution_count": 5,
      "metadata": {
        "colab": {
          "base_uri": "https://localhost:8080/"
        },
        "id": "8ZAjREJ0U2TC",
        "outputId": "fd196c88-5402-4c2f-97c7-59a8b8a32319",
        "tags": []
      },
      "outputs": [
        {
          "name": "stdout",
          "output_type": "stream",
          "text": [
            "==========================Training Data====================\n",
            "Found 4205 files belonging to 2 classes.\n",
            "==========================Validation Data====================\n",
            "Found 1574 files belonging to 2 classes.\n"
          ]
        }
      ],
      "source": [
        "# Load dataset\n",
        "print(\"==========================Training Data====================\")\n",
        "train_data = tf.keras.preprocessing.image_dataset_from_directory(\n",
        "    \"/content/cherry-leaves/cherry-leaves/train\",\n",
        "    label_mode=\"categorical\",\n",
        "    class_names=['healthy','powdery_mildew'],\n",
        "    color_mode=\"rgb\",\n",
        "    batch_size=1,\n",
        "    image_size=(256, 256),\n",
        "    shuffle=True,\n",
        "    seed=123\n",
        ")\n",
        "print(\"==========================Validation Data====================\")\n",
        "val_data = tf.keras.preprocessing.image_dataset_from_directory(\n",
        "    \"/content/cherry-leaves/cherry-leaves/test\",\n",
        "    label_mode=\"categorical\",\n",
        "    class_names=['healthy','powdery_mildew'],\n",
        "    color_mode=\"rgb\",\n",
        "    batch_size=1,\n",
        "    image_size=(256, 256),\n",
        "    shuffle=True,\n",
        "    seed=123\n",
        ")"
      ]
    },
    {
      "cell_type": "code",
      "execution_count": 6,
      "metadata": {
        "colab": {
          "base_uri": "https://localhost:8080/"
        },
        "id": "vEPzd1egU2TD",
        "outputId": "9041c61d-e94a-46ae-d396-b9cf54cf741f",
        "tags": []
      },
      "outputs": [
        {
          "name": "stdout",
          "output_type": "stream",
          "text": [
            "Found 4205 images belonging to 2 classes.\n",
            "Found 1574 images belonging to 2 classes.\n"
          ]
        }
      ],
      "source": [
        "# All images will be rescaled by 1./255.and augmented\n",
        "train_datagen = ImageDataGenerator(rescale = 1.0/256.,\n",
        "                                   rotation_range=40,\n",
        "                                   width_shift_range=0.2,\n",
        "                                   height_shift_range=0.2,\n",
        "                                   shear_range=0.2,\n",
        "                                   zoom_range=0.2,\n",
        "                                   horizontal_flip=True,\n",
        "                                   fill_mode='nearest')\n",
        "\n",
        "test_datagen  = ImageDataGenerator(rescale = 1.0/256.)\n",
        "\n",
        "# --------------------\n",
        "# Flow training images in batches of 20 using train_datagen generator\n",
        "# --------------------\n",
        "train_generator = train_datagen.flow_from_directory(\"/content/cherry-leaves/cherry-leaves/train\",\n",
        "                                                    batch_size=20,\n",
        "                                                    class_mode='categorical',\n",
        "                                                    target_size=(224, 224))     \n",
        "# --------------------\n",
        "# Flow validation images in batches of 20 using test_datagen generator\n",
        "# --------------------\n",
        "validation_generator =  test_datagen.flow_from_directory(\"/content/cherry-leaves/cherry-leaves/test\",\n",
        "                                                         batch_size=20,\n",
        "                                                         class_mode  = 'categorical',\n",
        "                                                         target_size = (224, 224))"
      ]
    },
    {
      "attachments": {},
      "cell_type": "markdown",
      "metadata": {
        "id": "_3jaO5YgU2TE"
      },
      "source": [
        "# List Resource"
      ]
    },
    {
      "cell_type": "code",
      "execution_count": 7,
      "metadata": {
        "colab": {
          "base_uri": "https://localhost:8080/"
        },
        "id": "SGemCaxnU2TF",
        "outputId": "08a50223-163b-48cb-fd5e-c356e8f1385b",
        "tags": []
      },
      "outputs": [
        {
          "name": "stdout",
          "output_type": "stream",
          "text": [
            "Thu May 25 01:48:16 2023       \n",
            "+-----------------------------------------------------------------------------+\n",
            "| NVIDIA-SMI 525.85.12    Driver Version: 525.85.12    CUDA Version: 12.0     |\n",
            "|-------------------------------+----------------------+----------------------+\n",
            "| GPU  Name        Persistence-M| Bus-Id        Disp.A | Volatile Uncorr. ECC |\n",
            "| Fan  Temp  Perf  Pwr:Usage/Cap|         Memory-Usage | GPU-Util  Compute M. |\n",
            "|                               |                      |               MIG M. |\n",
            "|===============================+======================+======================|\n",
            "|   0  Tesla T4            Off  | 00000000:00:04.0 Off |                    0 |\n",
            "| N/A   67C    P0    31W /  70W |    389MiB / 15360MiB |      0%      Default |\n",
            "|                               |                      |                  N/A |\n",
            "+-------------------------------+----------------------+----------------------+\n",
            "                                                                               \n",
            "+-----------------------------------------------------------------------------+\n",
            "| Processes:                                                                  |\n",
            "|  GPU   GI   CI        PID   Type   Process name                  GPU Memory |\n",
            "|        ID   ID                                                   Usage      |\n",
            "|=============================================================================|\n",
            "+-----------------------------------------------------------------------------+\n"
          ]
        }
      ],
      "source": [
        "# Check GPU\n",
        "!nvidia-smi"
      ]
    },
    {
      "cell_type": "code",
      "execution_count": 8,
      "metadata": {
        "colab": {
          "base_uri": "https://localhost:8080/"
        },
        "id": "FSapZ74PU2TF",
        "outputId": "73f4de67-bcaa-46cd-ae03-c176d23537c3",
        "tags": []
      },
      "outputs": [
        {
          "data": {
            "text/plain": [
              "[PhysicalDevice(name='/physical_device:GPU:0', device_type='GPU')]"
            ]
          },
          "execution_count": 8,
          "metadata": {},
          "output_type": "execute_result"
        }
      ],
      "source": [
        "# Lis physical devices\n",
        "devices = tf.config.experimental.list_physical_devices(\"GPU\")\n",
        "devices"
      ]
    },
    {
      "cell_type": "code",
      "execution_count": 9,
      "metadata": {
        "id": "A8WtBtBaU2TG",
        "tags": []
      },
      "outputs": [],
      "source": [
        "# Define the GPU strategy\n",
        "mirrored_strategy = tf.distribute.MirroredStrategy(devices=[\"/gpu:0\"])"
      ]
    },
    {
      "attachments": {},
      "cell_type": "markdown",
      "metadata": {
        "id": "Vqr_uGTNU2TG"
      },
      "source": [
        "# Modelling With Augmentation"
      ]
    },
    {
      "attachments": {},
      "cell_type": "markdown",
      "metadata": {
        "id": "w4Wzh6ZyU2TH"
      },
      "source": [
        "## Xception Model 1"
      ]
    },
    {
      "cell_type": "code",
      "execution_count": 10,
      "metadata": {
        "id": "uUqYGBfRU2TH",
        "tags": []
      },
      "outputs": [],
      "source": [
        "# Difine the callbacks\n",
        "# Save the best model\n",
        "checkpoint_callback = ModelCheckpoint(filepath=\"Cherry_Xception_model1_Based_Augmented\", save_best_only=True, monitor=\"val_accuracy\", mode=\"max\", verbose=1)\n",
        "\n",
        "# Early stopping\n",
        "early_stopping_callback = EarlyStopping(monitor=\"val_accuracy\", mode=\"max\", patience=20, verbose=1, restore_best_weights=True)\n",
        "\n",
        "# Reduce learning rate\n",
        "reduce_lr_callback = ReduceLROnPlateau(monitor=\"val_loss\", factor=0.1, patience=5, verbose=1, mode=\"min\", min_delta=0.0001, cooldown=0, min_lr=0)\n",
        "\n",
        "# Callbacks list\n",
        "callbacks=[checkpoint_callback, early_stopping_callback, reduce_lr_callback]"
      ]
    },
    {
      "cell_type": "code",
      "execution_count": 11,
      "metadata": {
        "colab": {
          "base_uri": "https://localhost:8080/"
        },
        "id": "BQHFs3gSU2TI",
        "outputId": "3d0f3f1a-dcb8-4b79-a57b-a321d5c9cfe9",
        "tags": []
      },
      "outputs": [
        {
          "name": "stdout",
          "output_type": "stream",
          "text": [
            "Downloading data from https://storage.googleapis.com/tensorflow/keras-applications/xception/xception_weights_tf_dim_ordering_tf_kernels_notop.h5\n",
            "83683744/83683744 [==============================] - 4s 0us/step\n",
            "Model: \"sequential\"\n",
            "_________________________________________________________________\n",
            " Layer (type)                Output Shape              Param #   \n",
            "=================================================================\n",
            " xception (Functional)       (None, 7, 7, 2048)        20861480  \n",
            "                                                                 \n",
            " global_max_pooling2d (Globa  (None, 2048)             0         \n",
            " lMaxPooling2D)                                                  \n",
            "                                                                 \n",
            " dropout (Dropout)           (None, 2048)              0         \n",
            "                                                                 \n",
            " dense (Dense)               (None, 256)               524544    \n",
            "                                                                 \n",
            " dense_1 (Dense)             (None, 2)                 514       \n",
            "                                                                 \n",
            "=================================================================\n",
            "Total params: 21,386,538\n",
            "Trainable params: 21,332,010\n",
            "Non-trainable params: 54,528\n",
            "_________________________________________________________________\n"
          ]
        }
      ],
      "source": [
        "# Define DIY Model\n",
        "Xception_model = tf.keras.models.Sequential([\n",
        "    # Xception Layer\n",
        "    Xception(include_top=False,weights='imagenet',input_shape=(224, 224, 3)),\n",
        "    # Global Max Pooling Layer\n",
        "    tf.keras.layers.GlobalMaxPooling2D(),\n",
        "    # Drop Out Layer\n",
        "    tf.keras.layers.Dropout(0.2),\n",
        "    # 256 neuron hidden layer\n",
        "    tf.keras.layers.Dense(256, activation='relu'),\n",
        "    # Output\n",
        "    tf.keras.layers.Dense(2, activation='softmax') \n",
        "  ])\n",
        "\n",
        "\n",
        "# Compile Model\n",
        "Xception_model.compile(loss='categorical_crossentropy',optimizer=tf.keras.optimizers.Adam(), metrics=['accuracy']) \n",
        "\n",
        "# Model Summary\n",
        "Xception_model.summary()"
      ]
    },
    {
      "cell_type": "code",
      "execution_count": 12,
      "metadata": {
        "colab": {
          "base_uri": "https://localhost:8080/"
        },
        "id": "6coN3TKhU2TI",
        "outputId": "ecad081b-fe0f-4dbd-ccf6-e99fa67910aa",
        "tags": []
      },
      "outputs": [
        {
          "name": "stdout",
          "output_type": "stream",
          "text": [
            "Epoch 1/100\n",
            "211/211 [==============================] - ETA: 0s - loss: 0.0727 - accuracy: 0.9841\n",
            "Epoch 1: val_accuracy improved from -inf to 0.98856, saving model to Cherry_Xception_model1_Based_Augmented\n"
          ]
        },
        {
          "name": "stderr",
          "output_type": "stream",
          "text": [
            "WARNING:absl:Found untraced functions such as _jit_compiled_convolution_op, _jit_compiled_convolution_op, _jit_compiled_convolution_op, _jit_compiled_convolution_op, _jit_compiled_convolution_op while saving (showing 5 of 40). These functions will not be directly callable after loading.\n"
          ]
        },
        {
          "name": "stdout",
          "output_type": "stream",
          "text": [
            "\b\b\b\b\b\b\b\b\b\b\b\b\b\b\b\b\b\b\b\b\b\b\b\b\b\b\b\b\b\b\b\b\b\b\b\b\b\b\b\b\b\b\b\b\b\b\b\b\b\b\b\b\b\b\b\b\b\b\b\b\b\b\b\b\b\b\b\b\b\b\b\b\b\b\b\b\b\b\b\b\b\b\b\b\r211/211 [==============================] - 150s 515ms/step - loss: 0.0727 - accuracy: 0.9841 - val_loss: 0.0426 - val_accuracy: 0.9886 - lr: 0.0010\n",
            "Epoch 2/100\n",
            "211/211 [==============================] - ETA: 0s - loss: 0.0131 - accuracy: 0.9979\n",
            "Epoch 2: val_accuracy did not improve from 0.98856\n",
            "211/211 [==============================] - 83s 392ms/step - loss: 0.0131 - accuracy: 0.9979 - val_loss: 11.3049 - val_accuracy: 0.7579 - lr: 0.0010\n",
            "Epoch 3/100\n",
            "211/211 [==============================] - ETA: 0s - loss: 0.0367 - accuracy: 0.9912\n",
            "Epoch 3: val_accuracy improved from 0.98856 to 0.98983, saving model to Cherry_Xception_model1_Based_Augmented\n"
          ]
        },
        {
          "name": "stderr",
          "output_type": "stream",
          "text": [
            "WARNING:absl:Found untraced functions such as _jit_compiled_convolution_op, _jit_compiled_convolution_op, _jit_compiled_convolution_op, _jit_compiled_convolution_op, _jit_compiled_convolution_op while saving (showing 5 of 40). These functions will not be directly callable after loading.\n"
          ]
        },
        {
          "name": "stdout",
          "output_type": "stream",
          "text": [
            "\b\b\b\b\b\b\b\b\b\b\b\b\b\b\b\b\b\b\b\b\b\b\b\b\b\b\b\b\b\b\b\b\b\b\b\b\b\b\b\b\b\b\b\b\b\b\b\b\b\b\b\b\b\b\b\b\b\b\b\b\b\b\b\b\b\b\b\b\b\b\b\b\b\b\b\b\b\b\b\b\b\b\b\b\r211/211 [==============================] - 109s 514ms/step - loss: 0.0367 - accuracy: 0.9912 - val_loss: 0.3311 - val_accuracy: 0.9898 - lr: 0.0010\n",
            "Epoch 4/100\n",
            "211/211 [==============================] - ETA: 0s - loss: 0.0057 - accuracy: 0.9988\n",
            "Epoch 4: val_accuracy improved from 0.98983 to 0.99936, saving model to Cherry_Xception_model1_Based_Augmented\n"
          ]
        },
        {
          "name": "stderr",
          "output_type": "stream",
          "text": [
            "WARNING:absl:Found untraced functions such as _jit_compiled_convolution_op, _jit_compiled_convolution_op, _jit_compiled_convolution_op, _jit_compiled_convolution_op, _jit_compiled_convolution_op while saving (showing 5 of 40). These functions will not be directly callable after loading.\n"
          ]
        },
        {
          "name": "stdout",
          "output_type": "stream",
          "text": [
            "\b\b\b\b\b\b\b\b\b\b\b\b\b\b\b\b\b\b\b\b\b\b\b\b\b\b\b\b\b\b\b\b\b\b\b\b\b\b\b\b\b\b\b\b\b\b\b\b\b\b\b\b\b\b\b\b\b\b\b\b\b\b\b\b\b\b\b\b\b\b\b\b\b\b\b\b\b\b\b\b\b\b\b\b\r211/211 [==============================] - 108s 513ms/step - loss: 0.0057 - accuracy: 0.9988 - val_loss: 0.0017 - val_accuracy: 0.9994 - lr: 0.0010\n",
            "Epoch 5/100\n",
            "211/211 [==============================] - ETA: 0s - loss: 0.0158 - accuracy: 0.9969\n",
            "Epoch 5: val_accuracy did not improve from 0.99936\n",
            "211/211 [==============================] - 85s 403ms/step - loss: 0.0158 - accuracy: 0.9969 - val_loss: 0.1559 - val_accuracy: 0.9841 - lr: 0.0010\n",
            "Epoch 6/100\n",
            "211/211 [==============================] - ETA: 0s - loss: 0.0308 - accuracy: 0.9950\n",
            "Epoch 6: val_accuracy did not improve from 0.99936\n",
            "211/211 [==============================] - 82s 386ms/step - loss: 0.0308 - accuracy: 0.9950 - val_loss: 0.0738 - val_accuracy: 0.9905 - lr: 0.0010\n",
            "Epoch 7/100\n",
            "211/211 [==============================] - ETA: 0s - loss: 0.0145 - accuracy: 0.9967\n",
            "Epoch 7: val_accuracy improved from 0.99936 to 1.00000, saving model to Cherry_Xception_model1_Based_Augmented\n"
          ]
        },
        {
          "name": "stderr",
          "output_type": "stream",
          "text": [
            "WARNING:absl:Found untraced functions such as _jit_compiled_convolution_op, _jit_compiled_convolution_op, _jit_compiled_convolution_op, _jit_compiled_convolution_op, _jit_compiled_convolution_op while saving (showing 5 of 40). These functions will not be directly callable after loading.\n"
          ]
        },
        {
          "name": "stdout",
          "output_type": "stream",
          "text": [
            "\b\b\b\b\b\b\b\b\b\b\b\b\b\b\b\b\b\b\b\b\b\b\b\b\b\b\b\b\b\b\b\b\b\b\b\b\b\b\b\b\b\b\b\b\b\b\b\b\b\b\b\b\b\b\b\b\b\b\b\b\b\b\b\b\b\b\b\b\b\b\b\b\b\b\b\b\b\b\b\b\b\b\b\b\r211/211 [==============================] - 110s 522ms/step - loss: 0.0145 - accuracy: 0.9967 - val_loss: 6.8972e-04 - val_accuracy: 1.0000 - lr: 0.0010\n",
            "Epoch 8/100\n",
            "211/211 [==============================] - ETA: 0s - loss: 0.0025 - accuracy: 0.9995\n",
            "Epoch 8: val_accuracy did not improve from 1.00000\n",
            "211/211 [==============================] - 86s 405ms/step - loss: 0.0025 - accuracy: 0.9995 - val_loss: 8.8116e-04 - val_accuracy: 1.0000 - lr: 0.0010\n",
            "Epoch 9/100\n",
            "211/211 [==============================] - ETA: 0s - loss: 0.0211 - accuracy: 0.9950\n",
            "Epoch 9: val_accuracy did not improve from 1.00000\n",
            "211/211 [==============================] - 81s 384ms/step - loss: 0.0211 - accuracy: 0.9950 - val_loss: 3.2074 - val_accuracy: 0.4867 - lr: 0.0010\n",
            "Epoch 10/100\n",
            "211/211 [==============================] - ETA: 0s - loss: 0.0191 - accuracy: 0.9943\n",
            "Epoch 10: val_accuracy did not improve from 1.00000\n",
            "211/211 [==============================] - 81s 384ms/step - loss: 0.0191 - accuracy: 0.9943 - val_loss: 3.7847e-04 - val_accuracy: 1.0000 - lr: 0.0010\n",
            "Epoch 11/100\n",
            "211/211 [==============================] - ETA: 0s - loss: 0.0016 - accuracy: 0.9995\n",
            "Epoch 11: val_accuracy did not improve from 1.00000\n",
            "211/211 [==============================] - 81s 382ms/step - loss: 0.0016 - accuracy: 0.9995 - val_loss: 1.0678e-04 - val_accuracy: 1.0000 - lr: 0.0010\n",
            "Epoch 12/100\n",
            "211/211 [==============================] - ETA: 0s - loss: 3.3766e-04 - accuracy: 1.0000\n",
            "Epoch 12: val_accuracy did not improve from 1.00000\n",
            "211/211 [==============================] - 81s 385ms/step - loss: 3.3766e-04 - accuracy: 1.0000 - val_loss: 1.1607e-04 - val_accuracy: 1.0000 - lr: 0.0010\n",
            "Epoch 13/100\n",
            "211/211 [==============================] - ETA: 0s - loss: 0.0064 - accuracy: 0.9983\n",
            "Epoch 13: val_accuracy did not improve from 1.00000\n",
            "211/211 [==============================] - 80s 377ms/step - loss: 0.0064 - accuracy: 0.9983 - val_loss: 0.0993 - val_accuracy: 0.9892 - lr: 0.0010\n",
            "Epoch 14/100\n",
            "211/211 [==============================] - ETA: 0s - loss: 0.0030 - accuracy: 0.9993\n",
            "Epoch 14: val_accuracy did not improve from 1.00000\n",
            "211/211 [==============================] - 85s 400ms/step - loss: 0.0030 - accuracy: 0.9993 - val_loss: 6.9856e-06 - val_accuracy: 1.0000 - lr: 0.0010\n",
            "Epoch 15/100\n",
            "211/211 [==============================] - ETA: 0s - loss: 0.0264 - accuracy: 0.9967\n",
            "Epoch 15: val_accuracy did not improve from 1.00000\n",
            "211/211 [==============================] - 81s 381ms/step - loss: 0.0264 - accuracy: 0.9967 - val_loss: 7.9609e-04 - val_accuracy: 0.9994 - lr: 0.0010\n",
            "Epoch 16/100\n",
            "211/211 [==============================] - ETA: 0s - loss: 0.0061 - accuracy: 0.9976\n",
            "Epoch 16: val_accuracy did not improve from 1.00000\n",
            "\n",
            "Epoch 16: ReduceLROnPlateau reducing learning rate to 0.00010000000474974513.\n",
            "211/211 [==============================] - 81s 383ms/step - loss: 0.0061 - accuracy: 0.9976 - val_loss: 0.0020 - val_accuracy: 0.9987 - lr: 0.0010\n",
            "Epoch 17/100\n",
            "211/211 [==============================] - ETA: 0s - loss: 0.0042 - accuracy: 0.9986\n",
            "Epoch 17: val_accuracy did not improve from 1.00000\n",
            "211/211 [==============================] - 81s 385ms/step - loss: 0.0042 - accuracy: 0.9986 - val_loss: 0.0011 - val_accuracy: 0.9994 - lr: 1.0000e-04\n",
            "Epoch 18/100\n",
            "211/211 [==============================] - ETA: 0s - loss: 0.0018 - accuracy: 0.9993\n",
            "Epoch 18: val_accuracy did not improve from 1.00000\n",
            "211/211 [==============================] - 81s 382ms/step - loss: 0.0018 - accuracy: 0.9993 - val_loss: 0.0010 - val_accuracy: 0.9994 - lr: 1.0000e-04\n",
            "Epoch 19/100\n",
            "211/211 [==============================] - ETA: 0s - loss: 0.0018 - accuracy: 0.9998\n",
            "Epoch 19: val_accuracy did not improve from 1.00000\n",
            "211/211 [==============================] - 81s 381ms/step - loss: 0.0018 - accuracy: 0.9998 - val_loss: 6.5844e-04 - val_accuracy: 0.9994 - lr: 1.0000e-04\n",
            "Epoch 20/100\n",
            "211/211 [==============================] - ETA: 0s - loss: 5.0547e-04 - accuracy: 1.0000\n",
            "Epoch 20: val_accuracy did not improve from 1.00000\n",
            "211/211 [==============================] - 81s 382ms/step - loss: 5.0547e-04 - accuracy: 1.0000 - val_loss: 4.4305e-04 - val_accuracy: 1.0000 - lr: 1.0000e-04\n",
            "Epoch 21/100\n",
            "211/211 [==============================] - ETA: 0s - loss: 0.0015 - accuracy: 0.9998\n",
            "Epoch 21: val_accuracy did not improve from 1.00000\n",
            "\n",
            "Epoch 21: ReduceLROnPlateau reducing learning rate to 1.0000000474974514e-05.\n",
            "211/211 [==============================] - 80s 380ms/step - loss: 0.0015 - accuracy: 0.9998 - val_loss: 4.1665e-04 - val_accuracy: 1.0000 - lr: 1.0000e-04\n",
            "Epoch 22/100\n",
            "211/211 [==============================] - ETA: 0s - loss: 6.0209e-04 - accuracy: 0.9998\n",
            "Epoch 22: val_accuracy did not improve from 1.00000\n",
            "211/211 [==============================] - 82s 386ms/step - loss: 6.0209e-04 - accuracy: 0.9998 - val_loss: 4.8241e-04 - val_accuracy: 1.0000 - lr: 1.0000e-05\n",
            "Epoch 23/100\n",
            "211/211 [==============================] - ETA: 0s - loss: 0.0031 - accuracy: 0.9995\n",
            "Epoch 23: val_accuracy did not improve from 1.00000\n",
            "211/211 [==============================] - 80s 382ms/step - loss: 0.0031 - accuracy: 0.9995 - val_loss: 5.4217e-04 - val_accuracy: 0.9994 - lr: 1.0000e-05\n",
            "Epoch 24/100\n",
            "211/211 [==============================] - ETA: 0s - loss: 0.0047 - accuracy: 0.9998\n",
            "Epoch 24: val_accuracy did not improve from 1.00000\n",
            "211/211 [==============================] - 80s 381ms/step - loss: 0.0047 - accuracy: 0.9998 - val_loss: 5.6590e-04 - val_accuracy: 0.9994 - lr: 1.0000e-05\n",
            "Epoch 25/100\n",
            "211/211 [==============================] - ETA: 0s - loss: 0.0012 - accuracy: 0.9995\n",
            "Epoch 25: val_accuracy did not improve from 1.00000\n",
            "211/211 [==============================] - 84s 399ms/step - loss: 0.0012 - accuracy: 0.9995 - val_loss: 5.0827e-04 - val_accuracy: 0.9994 - lr: 1.0000e-05\n",
            "Epoch 26/100\n",
            "211/211 [==============================] - ETA: 0s - loss: 0.0015 - accuracy: 0.9998\n",
            "Epoch 26: val_accuracy did not improve from 1.00000\n",
            "\n",
            "Epoch 26: ReduceLROnPlateau reducing learning rate to 1.0000000656873453e-06.\n",
            "211/211 [==============================] - 80s 379ms/step - loss: 0.0015 - accuracy: 0.9998 - val_loss: 5.6171e-04 - val_accuracy: 0.9994 - lr: 1.0000e-05\n",
            "Epoch 27/100\n",
            "211/211 [==============================] - ETA: 0s - loss: 0.0022 - accuracy: 0.9993\n",
            "Epoch 27: val_accuracy did not improve from 1.00000\n",
            "Restoring model weights from the end of the best epoch: 7.\n",
            "211/211 [==============================] - 81s 382ms/step - loss: 0.0022 - accuracy: 0.9993 - val_loss: 5.3714e-04 - val_accuracy: 0.9994 - lr: 1.0000e-06\n",
            "Epoch 27: early stopping\n"
          ]
        }
      ],
      "source": [
        "# Define the number of epochs\n",
        "num_epochs = 100\n",
        "\n",
        "# Train the model\n",
        "history_Xception_model_1 = Xception_model.fit(train_generator, epochs=num_epochs, validation_data=validation_generator, callbacks=callbacks)"
      ]
    },
    {
      "cell_type": "code",
      "execution_count": 13,
      "metadata": {
        "colab": {
          "base_uri": "https://localhost:8080/",
          "height": 904
        },
        "id": "lvS9xz3LU2TI",
        "outputId": "3bc33a13-daad-4737-97ee-ee41440546f5",
        "tags": []
      },
      "outputs": [
        {
          "data": {
            "text/plain": [
              "<matplotlib.legend.Legend at 0x7f69a409f2b0>"
            ]
          },
          "execution_count": 13,
          "metadata": {},
          "output_type": "execute_result"
        },
        {
          "data": {
            "image/png": "[encoded data removed]",
            "text/plain": [
              "<Figure size 640x480 with 1 Axes>"
            ]
          },
          "metadata": {},
          "output_type": "display_data"
        },
        {
          "data": {
            "image/png": "[encoded data removed]",
            "text/plain": [
              "<Figure size 640x480 with 1 Axes>"
            ]
          },
          "metadata": {},
          "output_type": "display_data"
        }
      ],
      "source": [
        "#-----------------------------------------------------------\n",
        "# Retrieve a list of list results on training and test data\n",
        "# sets for each training epoch\n",
        "#-----------------------------------------------------------\n",
        "acc      = history_Xception_model_1.history['accuracy' ]\n",
        "val_acc  = history_Xception_model_1.history['val_accuracy' ]\n",
        "loss     = history_Xception_model_1.history['loss' ]\n",
        "val_loss = history_Xception_model_1.history['val_loss' ]\n",
        "\n",
        "epochs   = range(len(acc)) # Get number of epochs\n",
        "\n",
        "#------------------------------------------------\n",
        "# Plot training and validation accuracy per epoch\n",
        "#------------------------------------------------\n",
        "plt.plot  (epochs, acc )\n",
        "plt.plot  (epochs, val_acc )\n",
        "plt.title ('Training and validation accuracy Xception Model Augmented 1')\n",
        "plt.legend(['train', 'val'], loc='upper left')\n",
        "plt.figure()\n",
        "\n",
        "#------------------------------------------------\n",
        "# Plot training and validation loss per epoch\n",
        "#------------------------------------------------\n",
        "plt.plot  (epochs, loss)\n",
        "plt.plot  (epochs, val_loss)\n",
        "plt.title ('Training and validation loss Xception Model Augmented 1')\n",
        "plt.legend(['train', 'val'], loc='upper left')"
      ]
    },
    {
      "attachments": {},
      "cell_type": "markdown",
      "metadata": {
        "id": "SvQOR9IuU2TJ"
      },
      "source": [
        "## Xception Model 2"
      ]
    },
    {
      "cell_type": "code",
      "execution_count": 14,
      "metadata": {
        "id": "Tj7lcdvUU2TJ",
        "tags": []
      },
      "outputs": [],
      "source": [
        "# Difine the callbacks\n",
        "# Save the best model\n",
        "checkpoint_callback = ModelCheckpoint(filepath=\"Cherry_Xception_model2_Based_Augmented\", save_best_only=True, monitor=\"val_accuracy\", mode=\"max\", verbose=1)\n",
        "\n",
        "# Early stopping\n",
        "early_stopping_callback = EarlyStopping(monitor=\"val_accuracy\", mode=\"max\", patience=20, verbose=1, restore_best_weights=True)\n",
        "\n",
        "# Reduce learning rate\n",
        "reduce_lr_callback = ReduceLROnPlateau(monitor=\"val_loss\", factor=0.1, patience=5, verbose=1, mode=\"min\", min_delta=0.0001, cooldown=0, min_lr=0)\n",
        "\n",
        "# Callbacks list\n",
        "callbacks=[checkpoint_callback, early_stopping_callback, reduce_lr_callback]"
      ]
    },
    {
      "cell_type": "code",
      "execution_count": 15,
      "metadata": {
        "colab": {
          "base_uri": "https://localhost:8080/"
        },
        "id": "7NKPY1xGU2TJ",
        "outputId": "1918bbf6-51b1-427e-c374-8d1cc6ace804",
        "tags": []
      },
      "outputs": [
        {
          "name": "stdout",
          "output_type": "stream",
          "text": [
            "Model: \"sequential_1\"\n",
            "_________________________________________________________________\n",
            " Layer (type)                Output Shape              Param #   \n",
            "=================================================================\n",
            " xception (Functional)       (None, 7, 7, 2048)        20861480  \n",
            "                                                                 \n",
            " global_average_pooling2d (G  (None, 2048)             0         \n",
            " lobalAveragePooling2D)                                          \n",
            "                                                                 \n",
            " dropout_1 (Dropout)         (None, 2048)              0         \n",
            "                                                                 \n",
            " dense_2 (Dense)             (None, 256)               524544    \n",
            "                                                                 \n",
            " dense_3 (Dense)             (None, 2)                 514       \n",
            "                                                                 \n",
            "=================================================================\n",
            "Total params: 21,386,538\n",
            "Trainable params: 21,332,010\n",
            "Non-trainable params: 54,528\n",
            "_________________________________________________________________\n"
          ]
        }
      ],
      "source": [
        "# Define DIY Model\n",
        "Xception_model_2 = tf.keras.models.Sequential([\n",
        "    # Xception Layer\n",
        "    Xception(include_top=False,weights='imagenet',input_shape=(224, 224, 3)),\n",
        "    # Global Average Pooling Layer\n",
        "    tf.keras.layers.GlobalAveragePooling2D(),\n",
        "    # Drop Out Layer\n",
        "    tf.keras.layers.Dropout(0.2),\n",
        "    # 256 neuron hidden layer\n",
        "    tf.keras.layers.Dense(256, activation='relu'),\n",
        "    # Output\n",
        "    tf.keras.layers.Dense(2, activation='softmax') \n",
        "  ])\n",
        "\n",
        "\n",
        "# Compile Model\n",
        "Xception_model_2.compile(loss='categorical_crossentropy',optimizer=tf.keras.optimizers.Adam(), metrics=['accuracy']) \n",
        "\n",
        "# Model Summary\n",
        "Xception_model_2.summary()"
      ]
    },
    {
      "cell_type": "code",
      "execution_count": 16,
      "metadata": {
        "colab": {
          "base_uri": "https://localhost:8080/"
        },
        "id": "6beuexC9U2TJ",
        "outputId": "05cebd97-f1b6-4094-9c67-c24a6bfe5685",
        "tags": []
      },
      "outputs": [
        {
          "name": "stdout",
          "output_type": "stream",
          "text": [
            "Epoch 1/100\n",
            "211/211 [==============================] - ETA: 0s - loss: 0.0521 - accuracy: 0.9864\n",
            "Epoch 1: val_accuracy improved from -inf to 0.97395, saving model to Cherry_Xception_model2_Based_Augmented\n"
          ]
        },
        {
          "name": "stderr",
          "output_type": "stream",
          "text": [
            "WARNING:absl:Found untraced functions such as _jit_compiled_convolution_op, _jit_compiled_convolution_op, _jit_compiled_convolution_op, _jit_compiled_convolution_op, _jit_compiled_convolution_op while saving (showing 5 of 40). These functions will not be directly callable after loading.\n"
          ]
        },
        {
          "name": "stdout",
          "output_type": "stream",
          "text": [
            "\b\b\b\b\b\b\b\b\b\b\b\b\b\b\b\b\b\b\b\b\b\b\b\b\b\b\b\b\b\b\b\b\b\b\b\b\b\b\b\b\b\b\b\b\b\b\b\b\b\b\b\b\b\b\b\b\b\b\b\b\b\b\b\b\b\b\b\b\b\b\b\b\b\b\b\b\b\b\b\b\b\b\b\b\r211/211 [==============================] - 135s 512ms/step - loss: 0.0521 - accuracy: 0.9864 - val_loss: 0.4349 - val_accuracy: 0.9740 - lr: 0.0010\n",
            "Epoch 2/100\n",
            "211/211 [==============================] - ETA: 0s - loss: 0.0168 - accuracy: 0.9957\n",
            "Epoch 2: val_accuracy improved from 0.97395 to 0.99809, saving model to Cherry_Xception_model2_Based_Augmented\n"
          ]
        },
        {
          "name": "stderr",
          "output_type": "stream",
          "text": [
            "WARNING:absl:Found untraced functions such as _jit_compiled_convolution_op, _jit_compiled_convolution_op, _jit_compiled_convolution_op, _jit_compiled_convolution_op, _jit_compiled_convolution_op while saving (showing 5 of 40). These functions will not be directly callable after loading.\n"
          ]
        },
        {
          "name": "stdout",
          "output_type": "stream",
          "text": [
            "\b\b\b\b\b\b\b\b\b\b\b\b\b\b\b\b\b\b\b\b\b\b\b\b\b\b\b\b\b\b\b\b\b\b\b\b\b\b\b\b\b\b\b\b\b\b\b\b\b\b\b\b\b\b\b\b\b\b\b\b\b\b\b\b\b\b\b\b\b\b\b\b\b\b\b\b\b\b\b\b\b\b\b\b\r211/211 [==============================] - 111s 528ms/step - loss: 0.0168 - accuracy: 0.9957 - val_loss: 0.0032 - val_accuracy: 0.9981 - lr: 0.0010\n",
            "Epoch 3/100\n",
            "211/211 [==============================] - ETA: 0s - loss: 0.0210 - accuracy: 0.9948\n",
            "Epoch 3: val_accuracy improved from 0.99809 to 1.00000, saving model to Cherry_Xception_model2_Based_Augmented\n"
          ]
        },
        {
          "name": "stderr",
          "output_type": "stream",
          "text": [
            "WARNING:absl:Found untraced functions such as _jit_compiled_convolution_op, _jit_compiled_convolution_op, _jit_compiled_convolution_op, _jit_compiled_convolution_op, _jit_compiled_convolution_op while saving (showing 5 of 40). These functions will not be directly callable after loading.\n"
          ]
        },
        {
          "name": "stdout",
          "output_type": "stream",
          "text": [
            "\b\b\b\b\b\b\b\b\b\b\b\b\b\b\b\b\b\b\b\b\b\b\b\b\b\b\b\b\b\b\b\b\b\b\b\b\b\b\b\b\b\b\b\b\b\b\b\b\b\b\b\b\b\b\b\b\b\b\b\b\b\b\b\b\b\b\b\b\b\b\b\b\b\b\b\b\b\b\b\b\b\b\b\b\r211/211 [==============================] - 109s 514ms/step - loss: 0.0210 - accuracy: 0.9948 - val_loss: 2.7212e-04 - val_accuracy: 1.0000 - lr: 0.0010\n",
            "Epoch 4/100\n",
            "211/211 [==============================] - ETA: 0s - loss: 0.0042 - accuracy: 0.9988\n",
            "Epoch 4: val_accuracy did not improve from 1.00000\n",
            "211/211 [==============================] - 82s 390ms/step - loss: 0.0042 - accuracy: 0.9988 - val_loss: 0.0026 - val_accuracy: 0.9981 - lr: 0.0010\n",
            "Epoch 5/100\n",
            "211/211 [==============================] - ETA: 0s - loss: 0.0039 - accuracy: 0.9988\n",
            "Epoch 5: val_accuracy did not improve from 1.00000\n",
            "211/211 [==============================] - 81s 381ms/step - loss: 0.0039 - accuracy: 0.9988 - val_loss: 1.2747e-04 - val_accuracy: 1.0000 - lr: 0.0010\n",
            "Epoch 6/100\n",
            "211/211 [==============================] - ETA: 0s - loss: 5.4759e-04 - accuracy: 0.9998\n",
            "Epoch 6: val_accuracy did not improve from 1.00000\n",
            "211/211 [==============================] - 81s 381ms/step - loss: 5.4759e-04 - accuracy: 0.9998 - val_loss: 7.0014e-06 - val_accuracy: 1.0000 - lr: 0.0010\n",
            "Epoch 7/100\n",
            "211/211 [==============================] - ETA: 0s - loss: 4.6715e-05 - accuracy: 1.0000\n",
            "Epoch 7: val_accuracy did not improve from 1.00000\n",
            "211/211 [==============================] - 85s 400ms/step - loss: 4.6715e-05 - accuracy: 1.0000 - val_loss: 2.6212e-06 - val_accuracy: 1.0000 - lr: 0.0010\n",
            "Epoch 8/100\n",
            "211/211 [==============================] - ETA: 0s - loss: 9.3523e-06 - accuracy: 1.0000\n",
            "Epoch 8: val_accuracy did not improve from 1.00000\n",
            "211/211 [==============================] - 81s 381ms/step - loss: 9.3523e-06 - accuracy: 1.0000 - val_loss: 1.1094e-06 - val_accuracy: 1.0000 - lr: 0.0010\n",
            "Epoch 9/100\n",
            "211/211 [==============================] - ETA: 0s - loss: 2.6077e-05 - accuracy: 1.0000\n",
            "Epoch 9: val_accuracy did not improve from 1.00000\n",
            "211/211 [==============================] - 86s 406ms/step - loss: 2.6077e-05 - accuracy: 1.0000 - val_loss: 7.4563e-07 - val_accuracy: 1.0000 - lr: 0.0010\n",
            "Epoch 10/100\n",
            "211/211 [==============================] - ETA: 0s - loss: 8.0469e-06 - accuracy: 1.0000\n",
            "Epoch 10: val_accuracy did not improve from 1.00000\n",
            "211/211 [==============================] - 81s 383ms/step - loss: 8.0469e-06 - accuracy: 1.0000 - val_loss: 4.5065e-07 - val_accuracy: 1.0000 - lr: 0.0010\n",
            "Epoch 11/100\n",
            "211/211 [==============================] - ETA: 0s - loss: 1.6151e-06 - accuracy: 1.0000\n",
            "Epoch 11: val_accuracy did not improve from 1.00000\n",
            "\n",
            "Epoch 11: ReduceLROnPlateau reducing learning rate to 0.00010000000474974513.\n",
            "211/211 [==============================] - 82s 388ms/step - loss: 1.6151e-06 - accuracy: 1.0000 - val_loss: 2.4582e-07 - val_accuracy: 1.0000 - lr: 0.0010\n",
            "Epoch 12/100\n",
            "211/211 [==============================] - ETA: 0s - loss: 1.1363e-04 - accuracy: 1.0000\n",
            "Epoch 12: val_accuracy did not improve from 1.00000\n",
            "211/211 [==============================] - 80s 381ms/step - loss: 1.1363e-04 - accuracy: 1.0000 - val_loss: 2.6468e-07 - val_accuracy: 1.0000 - lr: 1.0000e-04\n",
            "Epoch 13/100\n",
            "211/211 [==============================] - ETA: 0s - loss: 4.4712e-05 - accuracy: 1.0000\n",
            "Epoch 13: val_accuracy did not improve from 1.00000\n",
            "211/211 [==============================] - 84s 399ms/step - loss: 4.4712e-05 - accuracy: 1.0000 - val_loss: 3.0444e-07 - val_accuracy: 1.0000 - lr: 1.0000e-04\n",
            "Epoch 14/100\n",
            "211/211 [==============================] - ETA: 0s - loss: 0.0013 - accuracy: 0.9998\n",
            "Epoch 14: val_accuracy did not improve from 1.00000\n",
            "211/211 [==============================] - 82s 387ms/step - loss: 0.0013 - accuracy: 0.9998 - val_loss: 4.3880e-07 - val_accuracy: 1.0000 - lr: 1.0000e-04\n",
            "Epoch 15/100\n",
            "211/211 [==============================] - ETA: 0s - loss: 3.0322e-05 - accuracy: 1.0000\n",
            "Epoch 15: val_accuracy did not improve from 1.00000\n",
            "211/211 [==============================] - 80s 379ms/step - loss: 3.0322e-05 - accuracy: 1.0000 - val_loss: 6.3372e-07 - val_accuracy: 1.0000 - lr: 1.0000e-04\n",
            "Epoch 16/100\n",
            "211/211 [==============================] - ETA: 0s - loss: 1.0026e-05 - accuracy: 1.0000\n",
            "Epoch 16: val_accuracy did not improve from 1.00000\n",
            "\n",
            "Epoch 16: ReduceLROnPlateau reducing learning rate to 1.0000000474974514e-05.\n",
            "211/211 [==============================] - 80s 380ms/step - loss: 1.0026e-05 - accuracy: 1.0000 - val_loss: 5.9669e-07 - val_accuracy: 1.0000 - lr: 1.0000e-04\n",
            "Epoch 17/100\n",
            "211/211 [==============================] - ETA: 0s - loss: 1.0367e-04 - accuracy: 1.0000\n",
            "Epoch 17: val_accuracy did not improve from 1.00000\n",
            "211/211 [==============================] - 81s 384ms/step - loss: 1.0367e-04 - accuracy: 1.0000 - val_loss: 6.1433e-07 - val_accuracy: 1.0000 - lr: 1.0000e-05\n",
            "Epoch 18/100\n",
            "211/211 [==============================] - ETA: 0s - loss: 1.1922e-05 - accuracy: 1.0000\n",
            "Epoch 18: val_accuracy did not improve from 1.00000\n",
            "211/211 [==============================] - 81s 382ms/step - loss: 1.1922e-05 - accuracy: 1.0000 - val_loss: 7.8191e-07 - val_accuracy: 1.0000 - lr: 1.0000e-05\n",
            "Epoch 19/100\n",
            "211/211 [==============================] - ETA: 0s - loss: 1.4120e-05 - accuracy: 1.0000\n",
            "Epoch 19: val_accuracy did not improve from 1.00000\n",
            "211/211 [==============================] - 82s 386ms/step - loss: 1.4120e-05 - accuracy: 1.0000 - val_loss: 8.0985e-07 - val_accuracy: 1.0000 - lr: 1.0000e-05\n",
            "Epoch 20/100\n",
            "211/211 [==============================] - ETA: 0s - loss: 0.0070 - accuracy: 0.9998\n",
            "Epoch 20: val_accuracy did not improve from 1.00000\n",
            "211/211 [==============================] - 80s 380ms/step - loss: 0.0070 - accuracy: 0.9998 - val_loss: 1.3655e-06 - val_accuracy: 1.0000 - lr: 1.0000e-05\n",
            "Epoch 21/100\n",
            "211/211 [==============================] - ETA: 0s - loss: 1.7607e-05 - accuracy: 1.0000\n",
            "Epoch 21: val_accuracy did not improve from 1.00000\n",
            "\n",
            "Epoch 21: ReduceLROnPlateau reducing learning rate to 1.0000000656873453e-06.\n",
            "211/211 [==============================] - 80s 379ms/step - loss: 1.7607e-05 - accuracy: 1.0000 - val_loss: 1.1058e-06 - val_accuracy: 1.0000 - lr: 1.0000e-05\n",
            "Epoch 22/100\n",
            "211/211 [==============================] - ETA: 0s - loss: 1.6736e-05 - accuracy: 1.0000\n",
            "Epoch 22: val_accuracy did not improve from 1.00000\n",
            "211/211 [==============================] - 82s 387ms/step - loss: 1.6736e-05 - accuracy: 1.0000 - val_loss: 8.3260e-07 - val_accuracy: 1.0000 - lr: 1.0000e-06\n",
            "Epoch 23/100\n",
            "211/211 [==============================] - ETA: 0s - loss: 7.5654e-05 - accuracy: 1.0000\n",
            "Epoch 23: val_accuracy did not improve from 1.00000\n",
            "Restoring model weights from the end of the best epoch: 3.\n",
            "211/211 [==============================] - 80s 378ms/step - loss: 7.5654e-05 - accuracy: 1.0000 - val_loss: 7.8043e-07 - val_accuracy: 1.0000 - lr: 1.0000e-06\n",
            "Epoch 23: early stopping\n"
          ]
        }
      ],
      "source": [
        "# Define the number of epochs\n",
        "num_epochs = 100\n",
        "\n",
        "# Train the model\n",
        "history_Xception_model_2 = Xception_model_2.fit(train_generator, epochs=num_epochs, validation_data=validation_generator, callbacks=callbacks)"
      ]
    },
    {
      "cell_type": "code",
      "execution_count": 17,
      "metadata": {
        "colab": {
          "base_uri": "https://localhost:8080/",
          "height": 904
        },
        "id": "3f1nmwUhU2TK",
        "outputId": "e769e493-4e60-4bc2-93ff-5e4d823b2a11",
        "tags": []
      },
      "outputs": [
        {
          "data": {
            "text/plain": [
              "<matplotlib.legend.Legend at 0x7f69388d4940>"
            ]
          },
          "execution_count": 17,
          "metadata": {},
          "output_type": "execute_result"
        },
        {
          "data": {
            "image/png": "[encoded data removed]",
            "text/plain": [
              "<Figure size 640x480 with 1 Axes>"
            ]
          },
          "metadata": {},
          "output_type": "display_data"
        },
        {
          "data": {
            "image/png": "[encoded data removed]",
            "text/plain": [
              "<Figure size 640x480 with 1 Axes>"
            ]
          },
          "metadata": {},
          "output_type": "display_data"
        }
      ],
      "source": [
        "#-----------------------------------------------------------\n",
        "# Retrieve a list of list results on training and test data\n",
        "# sets for each training epoch\n",
        "#-----------------------------------------------------------\n",
        "acc      = history_Xception_model_2.history['accuracy' ]\n",
        "val_acc  = history_Xception_model_2.history['val_accuracy' ]\n",
        "loss     = history_Xception_model_2.history['loss' ]\n",
        "val_loss = history_Xception_model_2.history['val_loss' ]\n",
        "\n",
        "epochs   = range(len(acc)) # Get number of epochs\n",
        "\n",
        "#------------------------------------------------\n",
        "# Plot training and validation accuracy per epoch\n",
        "#------------------------------------------------\n",
        "plt.plot  (epochs, acc )\n",
        "plt.plot  (epochs, val_acc )\n",
        "plt.title ('Training and validation accuracy Xception Model 2 Augmented')\n",
        "plt.legend(['train', 'val'], loc='upper left')\n",
        "plt.figure()\n",
        "\n",
        "#------------------------------------------------\n",
        "# Plot training and validation loss per epoch\n",
        "#------------------------------------------------\n",
        "plt.plot  (epochs, loss)\n",
        "plt.plot  (epochs, val_loss)\n",
        "plt.title ('Training and validation loss Xception Model 2 Augmented')\n",
        "plt.legend(['train', 'val'], loc='upper left')"
      ]
    },
    {
      "attachments": {},
      "cell_type": "markdown",
      "metadata": {
        "id": "-t3NBKny_S7q"
      },
      "source": [
        "# Download Model"
      ]
    },
    {
      "cell_type": "code",
      "execution_count": 18,
      "metadata": {
        "colab": {
          "base_uri": "https://localhost:8080/"
        },
        "id": "wLCqOMCXdECR",
        "outputId": "a82e2894-d507-4c8b-c589-6a4896ead2ed"
      },
      "outputs": [
        {
          "name": "stdout",
          "output_type": "stream",
          "text": [
            "  adding: content/Cherry_Xception_model1_Based_Augmented/ (stored 0%)\n",
            "  adding: content/Cherry_Xception_model1_Based_Augmented/saved_model.pb (deflated 92%)\n",
            "  adding: content/Cherry_Xception_model1_Based_Augmented/keras_metadata.pb (deflated 96%)\n",
            "  adding: content/Cherry_Xception_model1_Based_Augmented/variables/ (stored 0%)\n",
            "  adding: content/Cherry_Xception_model1_Based_Augmented/variables/variables.data-00000-of-00001 (deflated 7%)\n",
            "  adding: content/Cherry_Xception_model1_Based_Augmented/variables/variables.index (deflated 77%)\n",
            "  adding: content/Cherry_Xception_model1_Based_Augmented/assets/ (stored 0%)\n",
            "  adding: content/Cherry_Xception_model1_Based_Augmented/fingerprint.pb (stored 0%)\n"
          ]
        }
      ],
      "source": [
        "!zip -r /content/Cherry_Xception_model1_Based_Augmented.zip /content/Cherry_Xception_model1_Based_Augmented"
      ]
    },
    {
      "cell_type": "code",
      "execution_count": 19,
      "metadata": {
        "colab": {
          "base_uri": "https://localhost:8080/"
        },
        "id": "dwJQgy8HdLhB",
        "outputId": "825cec66-fb47-4e09-f228-9c73a6caceec"
      },
      "outputs": [
        {
          "name": "stdout",
          "output_type": "stream",
          "text": [
            "  adding: content/Cherry_Xception_model2_Based_Augmented/ (stored 0%)\n",
            "  adding: content/Cherry_Xception_model2_Based_Augmented/saved_model.pb (deflated 92%)\n",
            "  adding: content/Cherry_Xception_model2_Based_Augmented/keras_metadata.pb (deflated 96%)\n",
            "  adding: content/Cherry_Xception_model2_Based_Augmented/variables/ (stored 0%)\n",
            "  adding: content/Cherry_Xception_model2_Based_Augmented/variables/variables.data-00000-of-00001 (deflated 7%)\n",
            "  adding: content/Cherry_Xception_model2_Based_Augmented/variables/variables.index (deflated 77%)\n",
            "  adding: content/Cherry_Xception_model2_Based_Augmented/assets/ (stored 0%)\n",
            "  adding: content/Cherry_Xception_model2_Based_Augmented/fingerprint.pb (stored 0%)\n"
          ]
        }
      ],
      "source": [
        "!zip -r /content/Cherry_Xception_model2_Based_Augmented.zip /content/Cherry_Xception_model2_Based_Augmented"
      ]
    },
    {
      "cell_type": "code",
      "execution_count": null,
      "metadata": {
        "id": "2a9yp2G7_VUf"
      },
      "outputs": [],
      "source": [
        "from google.colab import files\n",
        "\n",
        "# Specify the file path\n",
        "file_path_1 = '/content/Cherry_Xception_model1_Based_Augmented.zip'  \n",
        "file_path_2 = '/content/Cherry_Xception_model2_Based_Augmented.zip'  \n",
        "\n",
        "# Download the file\n",
        "files.download(file_path_1)\n",
        "files.download(file_path_2)"
      ]
    }
  ],
  "metadata": {
    "accelerator": "GPU",
    "colab": {
      "gpuType": "T4",
      "provenance": []
    },
    "gpuClass": "standard",
    "kernelspec": {
      "display_name": "Python 3 (ipykernel)",
      "language": "python",
      "name": "python3"
    },
    "language_info": {
      "codemirror_mode": {
        "name": "ipython",
        "version": 3
      },
      "file_extension": ".py",
      "mimetype": "text/x-python",
      "name": "python",
      "nbconvert_exporter": "python",
      "pygments_lexer": "ipython3",
      "version": "3.8.10"
    }
  },
  "nbformat": 4,
  "nbformat_minor": 0
}
