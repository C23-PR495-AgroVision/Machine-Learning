{
  "cells": [
    {
      "cell_type": "markdown",
      "metadata": {
        "id": "hO3kEcUPU2S3"
      },
      "source": [
        "# Library"
      ]
    },
    {
      "cell_type": "code",
      "execution_count": 1,
      "metadata": {
        "colab": {
          "base_uri": "https://localhost:8080/"
        },
        "id": "kczkUjsAU2S8",
        "outputId": "15a38c29-e507-47aa-ff12-7f53e10d3822",
        "tags": []
      },
      "outputs": [
        {
          "output_type": "stream",
          "name": "stdout",
          "text": [
            "Looking in indexes: https://pypi.org/simple, https://us-python.pkg.dev/colab-wheels/public/simple/\n",
            "Requirement already satisfied: matplotlib in /usr/local/lib/python3.10/dist-packages (3.7.1)\n",
            "Requirement already satisfied: contourpy>=1.0.1 in /usr/local/lib/python3.10/dist-packages (from matplotlib) (1.0.7)\n",
            "Requirement already satisfied: cycler>=0.10 in /usr/local/lib/python3.10/dist-packages (from matplotlib) (0.11.0)\n",
            "Requirement already satisfied: fonttools>=4.22.0 in /usr/local/lib/python3.10/dist-packages (from matplotlib) (4.39.3)\n",
            "Requirement already satisfied: kiwisolver>=1.0.1 in /usr/local/lib/python3.10/dist-packages (from matplotlib) (1.4.4)\n",
            "Requirement already satisfied: numpy>=1.20 in /usr/local/lib/python3.10/dist-packages (from matplotlib) (1.22.4)\n",
            "Requirement already satisfied: packaging>=20.0 in /usr/local/lib/python3.10/dist-packages (from matplotlib) (23.1)\n",
            "Requirement already satisfied: pillow>=6.2.0 in /usr/local/lib/python3.10/dist-packages (from matplotlib) (8.4.0)\n",
            "Requirement already satisfied: pyparsing>=2.3.1 in /usr/local/lib/python3.10/dist-packages (from matplotlib) (3.0.9)\n",
            "Requirement already satisfied: python-dateutil>=2.7 in /usr/local/lib/python3.10/dist-packages (from matplotlib) (2.8.2)\n",
            "Requirement already satisfied: six>=1.5 in /usr/local/lib/python3.10/dist-packages (from python-dateutil>=2.7->matplotlib) (1.16.0)\n"
          ]
        }
      ],
      "source": [
        "pip install matplotlib"
      ]
    },
    {
      "cell_type": "code",
      "execution_count": 2,
      "metadata": {
        "colab": {
          "base_uri": "https://localhost:8080/"
        },
        "id": "oEW3Nbu7U2S_",
        "outputId": "b30e1a89-8b50-45e9-b910-a17211c98a32",
        "tags": []
      },
      "outputs": [
        {
          "output_type": "stream",
          "name": "stdout",
          "text": [
            "Looking in indexes: https://pypi.org/simple, https://us-python.pkg.dev/colab-wheels/public/simple/\n",
            "Requirement already satisfied: opendatasets in /usr/local/lib/python3.10/dist-packages (0.1.22)\n",
            "Requirement already satisfied: tqdm in /usr/local/lib/python3.10/dist-packages (from opendatasets) (4.65.0)\n",
            "Requirement already satisfied: kaggle in /usr/local/lib/python3.10/dist-packages (from opendatasets) (1.5.13)\n",
            "Requirement already satisfied: click in /usr/local/lib/python3.10/dist-packages (from opendatasets) (8.1.3)\n",
            "Requirement already satisfied: six>=1.10 in /usr/local/lib/python3.10/dist-packages (from kaggle->opendatasets) (1.16.0)\n",
            "Requirement already satisfied: certifi in /usr/local/lib/python3.10/dist-packages (from kaggle->opendatasets) (2022.12.7)\n",
            "Requirement already satisfied: python-dateutil in /usr/local/lib/python3.10/dist-packages (from kaggle->opendatasets) (2.8.2)\n",
            "Requirement already satisfied: requests in /usr/local/lib/python3.10/dist-packages (from kaggle->opendatasets) (2.27.1)\n",
            "Requirement already satisfied: python-slugify in /usr/local/lib/python3.10/dist-packages (from kaggle->opendatasets) (8.0.1)\n",
            "Requirement already satisfied: urllib3 in /usr/local/lib/python3.10/dist-packages (from kaggle->opendatasets) (1.26.15)\n",
            "Requirement already satisfied: text-unidecode>=1.3 in /usr/local/lib/python3.10/dist-packages (from python-slugify->kaggle->opendatasets) (1.3)\n",
            "Requirement already satisfied: charset-normalizer~=2.0.0 in /usr/local/lib/python3.10/dist-packages (from requests->kaggle->opendatasets) (2.0.12)\n",
            "Requirement already satisfied: idna<4,>=2.5 in /usr/local/lib/python3.10/dist-packages (from requests->kaggle->opendatasets) (3.4)\n"
          ]
        }
      ],
      "source": [
        "pip install opendatasets"
      ]
    },
    {
      "cell_type": "code",
      "execution_count": 3,
      "metadata": {
        "id": "SIHHdOB4U2TA",
        "tags": []
      },
      "outputs": [],
      "source": [
        "# Library to dataset\n",
        "import opendatasets as od\n",
        "import os\n",
        "import zipfile\n",
        "import numpy as np\n",
        "\n",
        "# Surpress Warnings\n",
        "import warnings\n",
        "warnings.filterwarnings('ignore')\n",
        "os.environ['TF_CPP_MIN_LOG_LEVEL'] = '3' \n",
        "# library visualization\n",
        "import matplotlib.pyplot as plt\n",
        "\n",
        "# Library Tensorflow\n",
        "import tensorflow as tf\n",
        "from tensorflow import keras\n",
        "from tensorflow.keras.preprocessing.image import ImageDataGenerator\n",
        "from tensorflow.keras.callbacks import ModelCheckpoint, EarlyStopping, ReduceLROnPlateau\n",
        "from tensorflow.keras.applications.densenet import DenseNet121\n",
        "from tensorflow.keras.applications.xception import Xception\n",
        "# Others\n",
        "import shutil\n",
        "import random"
      ]
    },
    {
      "cell_type": "markdown",
      "metadata": {
        "id": "Dy8YkYoaU2TB"
      },
      "source": [
        "# Load dataset"
      ]
    },
    {
      "cell_type": "code",
      "execution_count": 4,
      "metadata": {
        "colab": {
          "base_uri": "https://localhost:8080/"
        },
        "id": "TWOf7hZ1U2TC",
        "outputId": "5f215676-5ad9-46bd-f52f-03e06b083ecc",
        "tags": []
      },
      "outputs": [
        {
          "output_type": "stream",
          "name": "stdout",
          "text": [
            "Skipping, found downloaded files in \"./cherry-leaves\" (use force=True to force download)\n"
          ]
        }
      ],
      "source": [
        "# Download dataset\n",
        "od.download('https://www.kaggle.com/datasets/ahmadhabibhasanzein/cherry-leaves')"
      ]
    },
    {
      "cell_type": "code",
      "execution_count": 5,
      "metadata": {
        "colab": {
          "base_uri": "https://localhost:8080/"
        },
        "id": "8ZAjREJ0U2TC",
        "outputId": "68983da4-a6de-47ea-bc7c-a7a74c60a46f",
        "tags": []
      },
      "outputs": [
        {
          "output_type": "stream",
          "name": "stdout",
          "text": [
            "==========================Training Data====================\n",
            "Found 4205 files belonging to 2 classes.\n",
            "==========================Validation Data====================\n",
            "Found 1574 files belonging to 2 classes.\n"
          ]
        }
      ],
      "source": [
        "# Load dataset\n",
        "print(\"==========================Training Data====================\")\n",
        "train_data = tf.keras.preprocessing.image_dataset_from_directory(\n",
        "    \"/content/cherry-leaves/cherry-leaves/train\",\n",
        "    label_mode=\"categorical\",\n",
        "    class_names=['healthy','powdery_mildew'],\n",
        "    color_mode=\"rgb\",\n",
        "    batch_size=1,\n",
        "    image_size=(256, 256),\n",
        "    shuffle=True,\n",
        "    seed=123\n",
        ")\n",
        "print(\"==========================Validation Data====================\")\n",
        "val_data = tf.keras.preprocessing.image_dataset_from_directory(\n",
        "    \"/content/cherry-leaves/cherry-leaves/test\",\n",
        "    label_mode=\"categorical\",\n",
        "    class_names=['healthy','powdery_mildew'],\n",
        "    color_mode=\"rgb\",\n",
        "    batch_size=1,\n",
        "    image_size=(256, 256),\n",
        "    shuffle=True,\n",
        "    seed=123\n",
        ")"
      ]
    },
    {
      "cell_type": "code",
      "execution_count": 6,
      "metadata": {
        "colab": {
          "base_uri": "https://localhost:8080/"
        },
        "id": "vEPzd1egU2TD",
        "outputId": "24152d35-891a-4c95-8cdc-a1ae3b2426aa",
        "tags": []
      },
      "outputs": [
        {
          "output_type": "stream",
          "name": "stdout",
          "text": [
            "Found 4205 images belonging to 2 classes.\n",
            "Found 1574 images belonging to 2 classes.\n"
          ]
        }
      ],
      "source": [
        "# All images will be rescaled by 1./255.and augmented\n",
        "train_datagen = ImageDataGenerator(rescale = 1.0/256.,\n",
        "                                   rotation_range=40,\n",
        "                                   width_shift_range=0.2,\n",
        "                                   height_shift_range=0.2,\n",
        "                                   shear_range=0.2,\n",
        "                                   zoom_range=0.2,\n",
        "                                   horizontal_flip=True,\n",
        "                                   fill_mode='nearest')\n",
        "\n",
        "test_datagen  = ImageDataGenerator(rescale = 1.0/256.)\n",
        "\n",
        "# --------------------\n",
        "# Flow training images in batches of 20 using train_datagen generator\n",
        "# --------------------\n",
        "train_generator = train_datagen.flow_from_directory(\"/content/cherry-leaves/cherry-leaves/train\",\n",
        "                                                    batch_size=20,\n",
        "                                                    class_mode='categorical',\n",
        "                                                    target_size=(224, 224))     \n",
        "# --------------------\n",
        "# Flow validation images in batches of 20 using test_datagen generator\n",
        "# --------------------\n",
        "validation_generator =  test_datagen.flow_from_directory(\"/content/cherry-leaves/cherry-leaves/test\",\n",
        "                                                         batch_size=20,\n",
        "                                                         class_mode  = 'categorical',\n",
        "                                                         target_size = (224, 224))"
      ]
    },
    {
      "cell_type": "markdown",
      "metadata": {
        "id": "_3jaO5YgU2TE"
      },
      "source": [
        "# List Resource"
      ]
    },
    {
      "cell_type": "code",
      "execution_count": 7,
      "metadata": {
        "colab": {
          "base_uri": "https://localhost:8080/"
        },
        "id": "SGemCaxnU2TF",
        "outputId": "85e056f7-a325-4a4d-cf27-6c3b4688e5f8",
        "tags": []
      },
      "outputs": [
        {
          "output_type": "stream",
          "name": "stdout",
          "text": [
            "Mon May 29 05:13:36 2023       \n",
            "+-----------------------------------------------------------------------------+\n",
            "| NVIDIA-SMI 525.85.12    Driver Version: 525.85.12    CUDA Version: 12.0     |\n",
            "|-------------------------------+----------------------+----------------------+\n",
            "| GPU  Name        Persistence-M| Bus-Id        Disp.A | Volatile Uncorr. ECC |\n",
            "| Fan  Temp  Perf  Pwr:Usage/Cap|         Memory-Usage | GPU-Util  Compute M. |\n",
            "|                               |                      |               MIG M. |\n",
            "|===============================+======================+======================|\n",
            "|   0  Tesla T4            Off  | 00000000:00:04.0 Off |                    0 |\n",
            "| N/A   51C    P0    25W /  70W |    389MiB / 15360MiB |      0%      Default |\n",
            "|                               |                      |                  N/A |\n",
            "+-------------------------------+----------------------+----------------------+\n",
            "                                                                               \n",
            "+-----------------------------------------------------------------------------+\n",
            "| Processes:                                                                  |\n",
            "|  GPU   GI   CI        PID   Type   Process name                  GPU Memory |\n",
            "|        ID   ID                                                   Usage      |\n",
            "|=============================================================================|\n",
            "+-----------------------------------------------------------------------------+\n"
          ]
        }
      ],
      "source": [
        "# Check GPU\n",
        "!nvidia-smi"
      ]
    },
    {
      "cell_type": "code",
      "execution_count": 8,
      "metadata": {
        "colab": {
          "base_uri": "https://localhost:8080/"
        },
        "id": "FSapZ74PU2TF",
        "outputId": "b41e96a3-8667-4e14-f6d6-d29e2dcee2b2",
        "tags": []
      },
      "outputs": [
        {
          "output_type": "execute_result",
          "data": {
            "text/plain": [
              "[PhysicalDevice(name='/physical_device:GPU:0', device_type='GPU')]"
            ]
          },
          "metadata": {},
          "execution_count": 8
        }
      ],
      "source": [
        "# Lis physical devices\n",
        "devices = tf.config.experimental.list_physical_devices(\"GPU\")\n",
        "devices"
      ]
    },
    {
      "cell_type": "code",
      "execution_count": 9,
      "metadata": {
        "id": "A8WtBtBaU2TG",
        "tags": []
      },
      "outputs": [],
      "source": [
        "# Define the GPU strategy\n",
        "mirrored_strategy = tf.distribute.MirroredStrategy(devices=[\"/gpu:0\"])"
      ]
    },
    {
      "cell_type": "markdown",
      "metadata": {
        "id": "Vqr_uGTNU2TG"
      },
      "source": [
        "# Modelling With Augmentation"
      ]
    },
    {
      "cell_type": "markdown",
      "metadata": {
        "id": "w4Wzh6ZyU2TH"
      },
      "source": [
        "## Xception Model 1"
      ]
    },
    {
      "cell_type": "code",
      "execution_count": 10,
      "metadata": {
        "id": "uUqYGBfRU2TH",
        "tags": []
      },
      "outputs": [],
      "source": [
        "# Difine the callbacks\n",
        "# Save the best model\n",
        "checkpoint_callback = ModelCheckpoint(filepath=\"Cherry_Xception_model1_Based_Augmented.h5\", save_best_only=True, monitor=\"val_accuracy\", mode=\"max\", verbose=1)\n",
        "\n",
        "# Early stopping\n",
        "early_stopping_callback = EarlyStopping(monitor=\"val_accuracy\", mode=\"max\", patience=20, verbose=1, restore_best_weights=True)\n",
        "\n",
        "# Reduce learning rate\n",
        "reduce_lr_callback = ReduceLROnPlateau(monitor=\"val_loss\", factor=0.1, patience=5, verbose=1, mode=\"min\", min_delta=0.0001, cooldown=0, min_lr=0)\n",
        "\n",
        "# Callbacks list\n",
        "callbacks=[checkpoint_callback, early_stopping_callback, reduce_lr_callback]"
      ]
    },
    {
      "cell_type": "code",
      "execution_count": 11,
      "metadata": {
        "colab": {
          "base_uri": "https://localhost:8080/"
        },
        "id": "BQHFs3gSU2TI",
        "outputId": "6623381e-503e-42f9-af4c-feee87db9603",
        "tags": []
      },
      "outputs": [
        {
          "output_type": "stream",
          "name": "stdout",
          "text": [
            "Model: \"sequential\"\n",
            "_________________________________________________________________\n",
            " Layer (type)                Output Shape              Param #   \n",
            "=================================================================\n",
            " xception (Functional)       (None, 7, 7, 2048)        20861480  \n",
            "                                                                 \n",
            " global_max_pooling2d (Globa  (None, 2048)             0         \n",
            " lMaxPooling2D)                                                  \n",
            "                                                                 \n",
            " dropout (Dropout)           (None, 2048)              0         \n",
            "                                                                 \n",
            " dense (Dense)               (None, 256)               524544    \n",
            "                                                                 \n",
            " dense_1 (Dense)             (None, 2)                 514       \n",
            "                                                                 \n",
            "=================================================================\n",
            "Total params: 21,386,538\n",
            "Trainable params: 21,332,010\n",
            "Non-trainable params: 54,528\n",
            "_________________________________________________________________\n"
          ]
        }
      ],
      "source": [
        "# Define DIY Model\n",
        "Xception_model = tf.keras.models.Sequential([\n",
        "    # Xception Layer\n",
        "    Xception(include_top=False,weights='imagenet',input_shape=(224, 224, 3)),\n",
        "    # Global Max Pooling Layer\n",
        "    tf.keras.layers.GlobalMaxPooling2D(),\n",
        "    # Drop Out Layer\n",
        "    tf.keras.layers.Dropout(0.2),\n",
        "    # 256 neuron hidden layer\n",
        "    tf.keras.layers.Dense(256, activation='relu'),\n",
        "    # Output\n",
        "    tf.keras.layers.Dense(2, activation='softmax') \n",
        "  ])\n",
        "\n",
        "\n",
        "# Compile Model\n",
        "Xception_model.compile(loss='categorical_crossentropy',optimizer=tf.keras.optimizers.Adam(), metrics=['accuracy']) \n",
        "\n",
        "# Model Summary\n",
        "Xception_model.summary()"
      ]
    },
    {
      "cell_type": "code",
      "execution_count": 12,
      "metadata": {
        "colab": {
          "base_uri": "https://localhost:8080/"
        },
        "id": "6coN3TKhU2TI",
        "outputId": "3a9eb044-b26a-49b4-cb33-f3bd5af1a961",
        "tags": []
      },
      "outputs": [
        {
          "output_type": "stream",
          "name": "stdout",
          "text": [
            "Epoch 1/100\n",
            "211/211 [==============================] - ETA: 0s - loss: 0.1109 - accuracy: 0.9769\n",
            "Epoch 1: val_accuracy improved from -inf to 0.99746, saving model to Cherry_Xception_model1_Based_Augmented.h5\n",
            "211/211 [==============================] - 138s 410ms/step - loss: 0.1109 - accuracy: 0.9769 - val_loss: 0.0089 - val_accuracy: 0.9975 - lr: 0.0010\n",
            "Epoch 2/100\n",
            "211/211 [==============================] - ETA: 0s - loss: 0.0298 - accuracy: 0.9931\n",
            "Epoch 2: val_accuracy did not improve from 0.99746\n",
            "211/211 [==============================] - 78s 370ms/step - loss: 0.0298 - accuracy: 0.9931 - val_loss: 1.3484 - val_accuracy: 0.8513 - lr: 0.0010\n",
            "Epoch 3/100\n",
            "211/211 [==============================] - ETA: 0s - loss: 0.0281 - accuracy: 0.9931\n",
            "Epoch 3: val_accuracy did not improve from 0.99746\n",
            "211/211 [==============================] - 78s 368ms/step - loss: 0.0281 - accuracy: 0.9931 - val_loss: 0.4645 - val_accuracy: 0.9892 - lr: 0.0010\n",
            "Epoch 4/100\n",
            "211/211 [==============================] - ETA: 0s - loss: 0.0110 - accuracy: 0.9983\n",
            "Epoch 4: val_accuracy improved from 0.99746 to 0.99809, saving model to Cherry_Xception_model1_Based_Augmented.h5\n",
            "211/211 [==============================] - 82s 389ms/step - loss: 0.0110 - accuracy: 0.9983 - val_loss: 0.0285 - val_accuracy: 0.9981 - lr: 0.0010\n",
            "Epoch 5/100\n",
            "211/211 [==============================] - ETA: 0s - loss: 0.0124 - accuracy: 0.9969\n",
            "Epoch 5: val_accuracy did not improve from 0.99809\n",
            "211/211 [==============================] - 77s 366ms/step - loss: 0.0124 - accuracy: 0.9969 - val_loss: 0.1391 - val_accuracy: 0.9867 - lr: 0.0010\n",
            "Epoch 6/100\n",
            "211/211 [==============================] - ETA: 0s - loss: 0.0121 - accuracy: 0.9943\n",
            "Epoch 6: val_accuracy improved from 0.99809 to 0.99873, saving model to Cherry_Xception_model1_Based_Augmented.h5\n",
            "\n",
            "Epoch 6: ReduceLROnPlateau reducing learning rate to 0.00010000000474974513.\n",
            "211/211 [==============================] - 84s 400ms/step - loss: 0.0121 - accuracy: 0.9943 - val_loss: 0.0093 - val_accuracy: 0.9987 - lr: 0.0010\n",
            "Epoch 7/100\n",
            "211/211 [==============================] - ETA: 0s - loss: 0.0037 - accuracy: 0.9998\n",
            "Epoch 7: val_accuracy improved from 0.99873 to 1.00000, saving model to Cherry_Xception_model1_Based_Augmented.h5\n",
            "211/211 [==============================] - 81s 382ms/step - loss: 0.0037 - accuracy: 0.9998 - val_loss: 4.8296e-05 - val_accuracy: 1.0000 - lr: 1.0000e-04\n",
            "Epoch 8/100\n",
            "211/211 [==============================] - ETA: 0s - loss: 0.0049 - accuracy: 0.9995\n",
            "Epoch 8: val_accuracy did not improve from 1.00000\n",
            "211/211 [==============================] - 83s 391ms/step - loss: 0.0049 - accuracy: 0.9995 - val_loss: 1.7406e-05 - val_accuracy: 1.0000 - lr: 1.0000e-04\n",
            "Epoch 9/100\n",
            "211/211 [==============================] - ETA: 0s - loss: 4.1152e-04 - accuracy: 1.0000\n",
            "Epoch 9: val_accuracy did not improve from 1.00000\n",
            "211/211 [==============================] - 78s 371ms/step - loss: 4.1152e-04 - accuracy: 1.0000 - val_loss: 1.6409e-05 - val_accuracy: 1.0000 - lr: 1.0000e-04\n",
            "Epoch 10/100\n",
            "211/211 [==============================] - ETA: 0s - loss: 2.3977e-04 - accuracy: 1.0000\n",
            "Epoch 10: val_accuracy did not improve from 1.00000\n",
            "211/211 [==============================] - 79s 373ms/step - loss: 2.3977e-04 - accuracy: 1.0000 - val_loss: 9.3115e-06 - val_accuracy: 1.0000 - lr: 1.0000e-04\n",
            "Epoch 11/100\n",
            "211/211 [==============================] - ETA: 0s - loss: 5.1120e-04 - accuracy: 0.9998\n",
            "Epoch 11: val_accuracy did not improve from 1.00000\n",
            "211/211 [==============================] - 79s 372ms/step - loss: 5.1120e-04 - accuracy: 0.9998 - val_loss: 7.9559e-06 - val_accuracy: 1.0000 - lr: 1.0000e-04\n",
            "Epoch 12/100\n",
            "211/211 [==============================] - ETA: 0s - loss: 2.3281e-04 - accuracy: 1.0000\n",
            "Epoch 12: val_accuracy did not improve from 1.00000\n",
            "\n",
            "Epoch 12: ReduceLROnPlateau reducing learning rate to 1.0000000474974514e-05.\n",
            "211/211 [==============================] - 79s 371ms/step - loss: 2.3281e-04 - accuracy: 1.0000 - val_loss: 7.9826e-06 - val_accuracy: 1.0000 - lr: 1.0000e-04\n",
            "Epoch 13/100\n",
            "211/211 [==============================] - ETA: 0s - loss: 2.9617e-04 - accuracy: 1.0000\n",
            "Epoch 13: val_accuracy did not improve from 1.00000\n",
            "211/211 [==============================] - 79s 373ms/step - loss: 2.9617e-04 - accuracy: 1.0000 - val_loss: 7.3155e-06 - val_accuracy: 1.0000 - lr: 1.0000e-05\n",
            "Epoch 14/100\n",
            "211/211 [==============================] - ETA: 0s - loss: 1.5196e-04 - accuracy: 1.0000\n",
            "Epoch 14: val_accuracy did not improve from 1.00000\n",
            "211/211 [==============================] - 79s 374ms/step - loss: 1.5196e-04 - accuracy: 1.0000 - val_loss: 6.0486e-06 - val_accuracy: 1.0000 - lr: 1.0000e-05\n",
            "Epoch 15/100\n",
            "211/211 [==============================] - ETA: 0s - loss: 1.3688e-04 - accuracy: 1.0000\n",
            "Epoch 15: val_accuracy did not improve from 1.00000\n",
            "211/211 [==============================] - 81s 382ms/step - loss: 1.3688e-04 - accuracy: 1.0000 - val_loss: 5.9310e-06 - val_accuracy: 1.0000 - lr: 1.0000e-05\n",
            "Epoch 16/100\n",
            "211/211 [==============================] - ETA: 0s - loss: 0.0043 - accuracy: 0.9995\n",
            "Epoch 16: val_accuracy did not improve from 1.00000\n",
            "211/211 [==============================] - 80s 379ms/step - loss: 0.0043 - accuracy: 0.9995 - val_loss: 7.0741e-06 - val_accuracy: 1.0000 - lr: 1.0000e-05\n",
            "Epoch 17/100\n",
            "211/211 [==============================] - ETA: 0s - loss: 1.5185e-04 - accuracy: 1.0000\n",
            "Epoch 17: val_accuracy did not improve from 1.00000\n",
            "\n",
            "Epoch 17: ReduceLROnPlateau reducing learning rate to 1.0000000656873453e-06.\n",
            "211/211 [==============================] - 80s 379ms/step - loss: 1.5185e-04 - accuracy: 1.0000 - val_loss: 8.5169e-06 - val_accuracy: 1.0000 - lr: 1.0000e-05\n",
            "Epoch 18/100\n",
            "211/211 [==============================] - ETA: 0s - loss: 5.9276e-04 - accuracy: 0.9998\n",
            "Epoch 18: val_accuracy did not improve from 1.00000\n",
            "211/211 [==============================] - 79s 372ms/step - loss: 5.9276e-04 - accuracy: 0.9998 - val_loss: 7.1905e-06 - val_accuracy: 1.0000 - lr: 1.0000e-06\n",
            "Epoch 19/100\n",
            "211/211 [==============================] - ETA: 0s - loss: 3.0617e-04 - accuracy: 0.9998\n",
            "Epoch 19: val_accuracy did not improve from 1.00000\n",
            "211/211 [==============================] - 78s 369ms/step - loss: 3.0617e-04 - accuracy: 0.9998 - val_loss: 7.1026e-06 - val_accuracy: 1.0000 - lr: 1.0000e-06\n",
            "Epoch 20/100\n",
            "211/211 [==============================] - ETA: 0s - loss: 1.8713e-04 - accuracy: 1.0000\n",
            "Epoch 20: val_accuracy did not improve from 1.00000\n",
            "211/211 [==============================] - 78s 368ms/step - loss: 1.8713e-04 - accuracy: 1.0000 - val_loss: 8.2607e-06 - val_accuracy: 1.0000 - lr: 1.0000e-06\n",
            "Epoch 21/100\n",
            "211/211 [==============================] - ETA: 0s - loss: 6.1667e-05 - accuracy: 1.0000\n",
            "Epoch 21: val_accuracy did not improve from 1.00000\n",
            "211/211 [==============================] - 79s 374ms/step - loss: 6.1667e-05 - accuracy: 1.0000 - val_loss: 7.2276e-06 - val_accuracy: 1.0000 - lr: 1.0000e-06\n",
            "Epoch 22/100\n",
            "211/211 [==============================] - ETA: 0s - loss: 4.4161e-04 - accuracy: 0.9998\n",
            "Epoch 22: val_accuracy did not improve from 1.00000\n",
            "\n",
            "Epoch 22: ReduceLROnPlateau reducing learning rate to 1.0000001111620805e-07.\n",
            "211/211 [==============================] - 83s 391ms/step - loss: 4.4161e-04 - accuracy: 0.9998 - val_loss: 7.5455e-06 - val_accuracy: 1.0000 - lr: 1.0000e-06\n",
            "Epoch 23/100\n",
            "211/211 [==============================] - ETA: 0s - loss: 0.0194 - accuracy: 0.9993\n",
            "Epoch 23: val_accuracy did not improve from 1.00000\n",
            "211/211 [==============================] - 78s 371ms/step - loss: 0.0194 - accuracy: 0.9993 - val_loss: 6.9757e-06 - val_accuracy: 1.0000 - lr: 1.0000e-07\n",
            "Epoch 24/100\n",
            "211/211 [==============================] - ETA: 0s - loss: 4.4348e-04 - accuracy: 0.9998\n",
            "Epoch 24: val_accuracy did not improve from 1.00000\n",
            "211/211 [==============================] - 78s 368ms/step - loss: 4.4348e-04 - accuracy: 0.9998 - val_loss: 8.4443e-06 - val_accuracy: 1.0000 - lr: 1.0000e-07\n",
            "Epoch 25/100\n",
            "211/211 [==============================] - ETA: 0s - loss: 7.1200e-04 - accuracy: 0.9995\n",
            "Epoch 25: val_accuracy did not improve from 1.00000\n",
            "211/211 [==============================] - 78s 369ms/step - loss: 7.1200e-04 - accuracy: 0.9995 - val_loss: 7.7107e-06 - val_accuracy: 1.0000 - lr: 1.0000e-07\n",
            "Epoch 26/100\n",
            "211/211 [==============================] - ETA: 0s - loss: 2.6799e-04 - accuracy: 0.9998\n",
            "Epoch 26: val_accuracy did not improve from 1.00000\n",
            "211/211 [==============================] - 77s 362ms/step - loss: 2.6799e-04 - accuracy: 0.9998 - val_loss: 7.3607e-06 - val_accuracy: 1.0000 - lr: 1.0000e-07\n",
            "Epoch 27/100\n",
            "211/211 [==============================] - ETA: 0s - loss: 4.9670e-05 - accuracy: 1.0000\n",
            "Epoch 27: val_accuracy did not improve from 1.00000\n",
            "Restoring model weights from the end of the best epoch: 7.\n",
            "\n",
            "Epoch 27: ReduceLROnPlateau reducing learning rate to 1.000000082740371e-08.\n",
            "211/211 [==============================] - 78s 369ms/step - loss: 4.9670e-05 - accuracy: 1.0000 - val_loss: 7.0443e-06 - val_accuracy: 1.0000 - lr: 1.0000e-07\n",
            "Epoch 27: early stopping\n"
          ]
        }
      ],
      "source": [
        "# Define the number of epochs\n",
        "num_epochs = 100\n",
        "\n",
        "# Train the model\n",
        "history_Xception_model_1 = Xception_model.fit(train_generator, epochs=num_epochs, validation_data=validation_generator, callbacks=callbacks)"
      ]
    },
    {
      "cell_type": "code",
      "execution_count": 13,
      "metadata": {
        "colab": {
          "base_uri": "https://localhost:8080/",
          "height": 904
        },
        "id": "lvS9xz3LU2TI",
        "outputId": "06b75346-88e7-4ec7-e176-f9880e5540d6",
        "tags": []
      },
      "outputs": [
        {
          "output_type": "execute_result",
          "data": {
            "text/plain": [
              "<matplotlib.legend.Legend at 0x7ff57c997520>"
            ]
          },
          "metadata": {},
          "execution_count": 13
        },
        {
          "output_type": "display_data",
          "data": {
            "text/plain": [
              "<Figure size 640x480 with 1 Axes>"
            ],
            "image/png": "[encoded data removed]"
          },
          "metadata": {}
        },
        {
          "output_type": "display_data",
          "data": {
            "text/plain": [
              "<Figure size 640x480 with 1 Axes>"
            ],
            "image/png": "[encoded data removed]"
          },
          "metadata": {}
        }
      ],
      "source": [
        "#-----------------------------------------------------------\n",
        "# Retrieve a list of list results on training and test data\n",
        "# sets for each training epoch\n",
        "#-----------------------------------------------------------\n",
        "acc      = history_Xception_model_1.history['accuracy' ]\n",
        "val_acc  = history_Xception_model_1.history['val_accuracy' ]\n",
        "loss     = history_Xception_model_1.history['loss' ]\n",
        "val_loss = history_Xception_model_1.history['val_loss' ]\n",
        "\n",
        "epochs   = range(len(acc)) # Get number of epochs\n",
        "\n",
        "#------------------------------------------------\n",
        "# Plot training and validation accuracy per epoch\n",
        "#------------------------------------------------\n",
        "plt.plot  (epochs, acc )\n",
        "plt.plot  (epochs, val_acc )\n",
        "plt.title ('Training and validation accuracy Xception Model Augmented 1')\n",
        "plt.legend(['train', 'val'], loc='upper left')\n",
        "plt.figure()\n",
        "\n",
        "#------------------------------------------------\n",
        "# Plot training and validation loss per epoch\n",
        "#------------------------------------------------\n",
        "plt.plot  (epochs, loss)\n",
        "plt.plot  (epochs, val_loss)\n",
        "plt.title ('Training and validation loss Xception Model Augmented 1')\n",
        "plt.legend(['train', 'val'], loc='upper left')"
      ]
    },
    {
      "cell_type": "markdown",
      "metadata": {
        "id": "SvQOR9IuU2TJ"
      },
      "source": [
        "## Xception Model 2"
      ]
    },
    {
      "cell_type": "code",
      "execution_count": 14,
      "metadata": {
        "id": "Tj7lcdvUU2TJ",
        "tags": []
      },
      "outputs": [],
      "source": [
        "# Difine the callbacks\n",
        "# Save the best model\n",
        "checkpoint_callback = ModelCheckpoint(filepath=\"Cherry_Xception_model2_Based_Augmented.h5\", save_best_only=True, monitor=\"val_accuracy\", mode=\"max\", verbose=1)\n",
        "\n",
        "# Early stopping\n",
        "early_stopping_callback = EarlyStopping(monitor=\"val_accuracy\", mode=\"max\", patience=20, verbose=1, restore_best_weights=True)\n",
        "\n",
        "# Reduce learning rate\n",
        "reduce_lr_callback = ReduceLROnPlateau(monitor=\"val_loss\", factor=0.1, patience=5, verbose=1, mode=\"min\", min_delta=0.0001, cooldown=0, min_lr=0)\n",
        "\n",
        "# Callbacks list\n",
        "callbacks=[checkpoint_callback, early_stopping_callback, reduce_lr_callback]"
      ]
    },
    {
      "cell_type": "code",
      "execution_count": 15,
      "metadata": {
        "colab": {
          "base_uri": "https://localhost:8080/"
        },
        "id": "7NKPY1xGU2TJ",
        "outputId": "71dcdcc8-4017-4e34-80a6-4c2b95baf3b8",
        "tags": []
      },
      "outputs": [
        {
          "output_type": "stream",
          "name": "stdout",
          "text": [
            "Model: \"sequential_1\"\n",
            "_________________________________________________________________\n",
            " Layer (type)                Output Shape              Param #   \n",
            "=================================================================\n",
            " xception (Functional)       (None, 7, 7, 2048)        20861480  \n",
            "                                                                 \n",
            " global_average_pooling2d (G  (None, 2048)             0         \n",
            " lobalAveragePooling2D)                                          \n",
            "                                                                 \n",
            " dropout_1 (Dropout)         (None, 2048)              0         \n",
            "                                                                 \n",
            " dense_2 (Dense)             (None, 256)               524544    \n",
            "                                                                 \n",
            " dense_3 (Dense)             (None, 2)                 514       \n",
            "                                                                 \n",
            "=================================================================\n",
            "Total params: 21,386,538\n",
            "Trainable params: 21,332,010\n",
            "Non-trainable params: 54,528\n",
            "_________________________________________________________________\n"
          ]
        }
      ],
      "source": [
        "# Define DIY Model\n",
        "Xception_model_2 = tf.keras.models.Sequential([\n",
        "    # Xception Layer\n",
        "    Xception(include_top=False,weights='imagenet',input_shape=(224, 224, 3)),\n",
        "    # Global Average Pooling Layer\n",
        "    tf.keras.layers.GlobalAveragePooling2D(),\n",
        "    # Drop Out Layer\n",
        "    tf.keras.layers.Dropout(0.2),\n",
        "    # 256 neuron hidden layer\n",
        "    tf.keras.layers.Dense(256, activation='relu'),\n",
        "    # Output\n",
        "    tf.keras.layers.Dense(2, activation='softmax') \n",
        "  ])\n",
        "\n",
        "\n",
        "# Compile Model\n",
        "Xception_model_2.compile(loss='categorical_crossentropy',optimizer=tf.keras.optimizers.Adam(), metrics=['accuracy']) \n",
        "\n",
        "# Model Summary\n",
        "Xception_model_2.summary()"
      ]
    },
    {
      "cell_type": "code",
      "execution_count": 16,
      "metadata": {
        "colab": {
          "base_uri": "https://localhost:8080/"
        },
        "id": "6beuexC9U2TJ",
        "outputId": "ea5a3312-db9a-4569-ea0f-af762def8296",
        "tags": []
      },
      "outputs": [
        {
          "output_type": "stream",
          "name": "stdout",
          "text": [
            "Epoch 1/100\n",
            "211/211 [==============================] - ETA: 0s - loss: 0.0530 - accuracy: 0.9862\n",
            "Epoch 1: val_accuracy improved from -inf to 0.90343, saving model to Cherry_Xception_model2_Based_Augmented.h5\n",
            "211/211 [==============================] - 111s 399ms/step - loss: 0.0530 - accuracy: 0.9862 - val_loss: 5.7752 - val_accuracy: 0.9034 - lr: 0.0010\n",
            "Epoch 2/100\n",
            "211/211 [==============================] - ETA: 0s - loss: 0.0198 - accuracy: 0.9964\n",
            "Epoch 2: val_accuracy improved from 0.90343 to 0.99936, saving model to Cherry_Xception_model2_Based_Augmented.h5\n",
            "211/211 [==============================] - 81s 385ms/step - loss: 0.0198 - accuracy: 0.9964 - val_loss: 0.0045 - val_accuracy: 0.9994 - lr: 0.0010\n",
            "Epoch 3/100\n",
            "211/211 [==============================] - ETA: 0s - loss: 0.0017 - accuracy: 0.9993\n",
            "Epoch 3: val_accuracy improved from 0.99936 to 1.00000, saving model to Cherry_Xception_model2_Based_Augmented.h5\n",
            "211/211 [==============================] - 90s 424ms/step - loss: 0.0017 - accuracy: 0.9993 - val_loss: 5.6038e-05 - val_accuracy: 1.0000 - lr: 0.0010\n",
            "Epoch 4/100\n",
            "211/211 [==============================] - ETA: 0s - loss: 0.0412 - accuracy: 0.9931\n",
            "Epoch 4: val_accuracy did not improve from 1.00000\n",
            "211/211 [==============================] - 79s 373ms/step - loss: 0.0412 - accuracy: 0.9931 - val_loss: 0.0161 - val_accuracy: 0.9968 - lr: 0.0010\n",
            "Epoch 5/100\n",
            "211/211 [==============================] - ETA: 0s - loss: 0.0213 - accuracy: 0.9938\n",
            "Epoch 5: val_accuracy did not improve from 1.00000\n",
            "211/211 [==============================] - 77s 366ms/step - loss: 0.0213 - accuracy: 0.9938 - val_loss: 1.9152e-04 - val_accuracy: 1.0000 - lr: 0.0010\n",
            "Epoch 6/100\n",
            "211/211 [==============================] - ETA: 0s - loss: 0.0038 - accuracy: 0.9986\n",
            "Epoch 6: val_accuracy did not improve from 1.00000\n",
            "211/211 [==============================] - 78s 370ms/step - loss: 0.0038 - accuracy: 0.9986 - val_loss: 0.0203 - val_accuracy: 0.9975 - lr: 0.0010\n",
            "Epoch 7/100\n",
            "211/211 [==============================] - ETA: 0s - loss: 0.0051 - accuracy: 0.9979\n",
            "Epoch 7: val_accuracy did not improve from 1.00000\n",
            "211/211 [==============================] - 82s 390ms/step - loss: 0.0051 - accuracy: 0.9979 - val_loss: 0.0856 - val_accuracy: 0.9936 - lr: 0.0010\n",
            "Epoch 8/100\n",
            "211/211 [==============================] - ETA: 0s - loss: 6.3186e-04 - accuracy: 0.9998\n",
            "Epoch 8: val_accuracy did not improve from 1.00000\n",
            "\n",
            "Epoch 8: ReduceLROnPlateau reducing learning rate to 0.00010000000474974513.\n",
            "211/211 [==============================] - 78s 371ms/step - loss: 6.3186e-04 - accuracy: 0.9998 - val_loss: 3.6650e-05 - val_accuracy: 1.0000 - lr: 0.0010\n",
            "Epoch 9/100\n",
            "211/211 [==============================] - ETA: 0s - loss: 0.0016 - accuracy: 0.9995\n",
            "Epoch 9: val_accuracy did not improve from 1.00000\n",
            "211/211 [==============================] - 78s 368ms/step - loss: 0.0016 - accuracy: 0.9995 - val_loss: 1.3367e-05 - val_accuracy: 1.0000 - lr: 1.0000e-04\n",
            "Epoch 10/100\n",
            "211/211 [==============================] - ETA: 0s - loss: 3.9005e-04 - accuracy: 1.0000\n",
            "Epoch 10: val_accuracy did not improve from 1.00000\n",
            "211/211 [==============================] - 78s 369ms/step - loss: 3.9005e-04 - accuracy: 1.0000 - val_loss: 1.9248e-05 - val_accuracy: 1.0000 - lr: 1.0000e-04\n",
            "Epoch 11/100\n",
            "211/211 [==============================] - ETA: 0s - loss: 3.0168e-04 - accuracy: 1.0000\n",
            "Epoch 11: val_accuracy did not improve from 1.00000\n",
            "211/211 [==============================] - 77s 363ms/step - loss: 3.0168e-04 - accuracy: 1.0000 - val_loss: 1.5023e-05 - val_accuracy: 1.0000 - lr: 1.0000e-04\n",
            "Epoch 12/100\n",
            "211/211 [==============================] - ETA: 0s - loss: 1.0670e-04 - accuracy: 1.0000\n",
            "Epoch 12: val_accuracy did not improve from 1.00000\n",
            "211/211 [==============================] - 77s 365ms/step - loss: 1.0670e-04 - accuracy: 1.0000 - val_loss: 1.4876e-05 - val_accuracy: 1.0000 - lr: 1.0000e-04\n",
            "Epoch 13/100\n",
            "211/211 [==============================] - ETA: 0s - loss: 4.4841e-05 - accuracy: 1.0000\n",
            "Epoch 13: val_accuracy did not improve from 1.00000\n",
            "\n",
            "Epoch 13: ReduceLROnPlateau reducing learning rate to 1.0000000474974514e-05.\n",
            "211/211 [==============================] - 82s 387ms/step - loss: 4.4841e-05 - accuracy: 1.0000 - val_loss: 6.4425e-06 - val_accuracy: 1.0000 - lr: 1.0000e-04\n",
            "Epoch 14/100\n",
            "211/211 [==============================] - ETA: 0s - loss: 1.1192e-04 - accuracy: 1.0000\n",
            "Epoch 14: val_accuracy did not improve from 1.00000\n",
            "211/211 [==============================] - 78s 367ms/step - loss: 1.1192e-04 - accuracy: 1.0000 - val_loss: 9.3753e-06 - val_accuracy: 1.0000 - lr: 1.0000e-05\n",
            "Epoch 15/100\n",
            "211/211 [==============================] - ETA: 0s - loss: 2.6048e-04 - accuracy: 1.0000\n",
            "Epoch 15: val_accuracy did not improve from 1.00000\n",
            "211/211 [==============================] - 83s 394ms/step - loss: 2.6048e-04 - accuracy: 1.0000 - val_loss: 1.1674e-05 - val_accuracy: 1.0000 - lr: 1.0000e-05\n",
            "Epoch 16/100\n",
            "211/211 [==============================] - ETA: 0s - loss: 2.1632e-04 - accuracy: 0.9998\n",
            "Epoch 16: val_accuracy did not improve from 1.00000\n",
            "211/211 [==============================] - 79s 372ms/step - loss: 2.1632e-04 - accuracy: 0.9998 - val_loss: 1.4230e-05 - val_accuracy: 1.0000 - lr: 1.0000e-05\n",
            "Epoch 17/100\n",
            "211/211 [==============================] - ETA: 0s - loss: 1.4100e-04 - accuracy: 1.0000\n",
            "Epoch 17: val_accuracy did not improve from 1.00000\n",
            "211/211 [==============================] - 79s 373ms/step - loss: 1.4100e-04 - accuracy: 1.0000 - val_loss: 1.3622e-05 - val_accuracy: 1.0000 - lr: 1.0000e-05\n",
            "Epoch 18/100\n",
            "211/211 [==============================] - ETA: 0s - loss: 4.0037e-05 - accuracy: 1.0000\n",
            "Epoch 18: val_accuracy did not improve from 1.00000\n",
            "\n",
            "Epoch 18: ReduceLROnPlateau reducing learning rate to 1.0000000656873453e-06.\n",
            "211/211 [==============================] - 77s 364ms/step - loss: 4.0037e-05 - accuracy: 1.0000 - val_loss: 1.0837e-05 - val_accuracy: 1.0000 - lr: 1.0000e-05\n",
            "Epoch 19/100\n",
            "211/211 [==============================] - ETA: 0s - loss: 8.9102e-05 - accuracy: 1.0000\n",
            "Epoch 19: val_accuracy did not improve from 1.00000\n",
            "211/211 [==============================] - 78s 370ms/step - loss: 8.9102e-05 - accuracy: 1.0000 - val_loss: 1.3027e-05 - val_accuracy: 1.0000 - lr: 1.0000e-06\n",
            "Epoch 20/100\n",
            "211/211 [==============================] - ETA: 0s - loss: 4.0705e-05 - accuracy: 1.0000\n",
            "Epoch 20: val_accuracy did not improve from 1.00000\n",
            "211/211 [==============================] - 78s 369ms/step - loss: 4.0705e-05 - accuracy: 1.0000 - val_loss: 9.7517e-06 - val_accuracy: 1.0000 - lr: 1.0000e-06\n",
            "Epoch 21/100\n",
            "211/211 [==============================] - ETA: 0s - loss: 3.0803e-04 - accuracy: 0.9998\n",
            "Epoch 21: val_accuracy did not improve from 1.00000\n",
            "211/211 [==============================] - 78s 369ms/step - loss: 3.0803e-04 - accuracy: 0.9998 - val_loss: 1.2602e-05 - val_accuracy: 1.0000 - lr: 1.0000e-06\n",
            "Epoch 22/100\n",
            "211/211 [==============================] - ETA: 0s - loss: 6.9741e-05 - accuracy: 1.0000\n",
            "Epoch 22: val_accuracy did not improve from 1.00000\n",
            "211/211 [==============================] - 78s 369ms/step - loss: 6.9741e-05 - accuracy: 1.0000 - val_loss: 1.4528e-05 - val_accuracy: 1.0000 - lr: 1.0000e-06\n",
            "Epoch 23/100\n",
            "211/211 [==============================] - ETA: 0s - loss: 0.0024 - accuracy: 0.9998\n",
            "Epoch 23: val_accuracy did not improve from 1.00000\n",
            "Restoring model weights from the end of the best epoch: 3.\n",
            "\n",
            "Epoch 23: ReduceLROnPlateau reducing learning rate to 1.0000001111620805e-07.\n",
            "211/211 [==============================] - 77s 366ms/step - loss: 0.0024 - accuracy: 0.9998 - val_loss: 1.2482e-05 - val_accuracy: 1.0000 - lr: 1.0000e-06\n",
            "Epoch 23: early stopping\n"
          ]
        }
      ],
      "source": [
        "# Define the number of epochs\n",
        "num_epochs = 100\n",
        "\n",
        "# Train the model\n",
        "history_Xception_model_2 = Xception_model_2.fit(train_generator, epochs=num_epochs, validation_data=validation_generator, callbacks=callbacks)"
      ]
    },
    {
      "cell_type": "code",
      "execution_count": 18,
      "metadata": {
        "colab": {
          "base_uri": "https://localhost:8080/",
          "height": 904
        },
        "id": "3f1nmwUhU2TK",
        "outputId": "a181992e-69ce-4a7f-e0d3-1073edecf1cd",
        "tags": []
      },
      "outputs": [
        {
          "output_type": "execute_result",
          "data": {
            "text/plain": [
              "<matplotlib.legend.Legend at 0x7ff5304c9930>"
            ]
          },
          "metadata": {},
          "execution_count": 18
        },
        {
          "output_type": "display_data",
          "data": {
            "text/plain": [
              "<Figure size 640x480 with 1 Axes>"
            ],
            "image/png": "[encoded data removed]"
          },
          "metadata": {}
        },
        {
          "output_type": "display_data",
          "data": {
            "text/plain": [
              "<Figure size 640x480 with 1 Axes>"
            ],
            "image/png": "[encoded data removed]"
          },
          "metadata": {}
        }
      ],
      "source": [
        "#-----------------------------------------------------------\n",
        "# Retrieve a list of list results on training and test data\n",
        "# sets for each training epoch\n",
        "#-----------------------------------------------------------\n",
        "acc      = history_Xception_model_2.history['accuracy' ]\n",
        "val_acc  = history_Xception_model_2.history['val_accuracy' ]\n",
        "loss     = history_Xception_model_2.history['loss' ]\n",
        "val_loss = history_Xception_model_2.history['val_loss' ]\n",
        "\n",
        "epochs   = range(len(acc)) # Get number of epochs\n",
        "\n",
        "#------------------------------------------------\n",
        "# Plot training and validation accuracy per epoch\n",
        "#------------------------------------------------\n",
        "plt.plot  (epochs, acc )\n",
        "plt.plot  (epochs, val_acc )\n",
        "plt.title ('Training and validation accuracy Xception Model 2 Augmented')\n",
        "plt.legend(['train', 'val'], loc='upper left')\n",
        "plt.figure()\n",
        "\n",
        "#------------------------------------------------\n",
        "# Plot training and validation loss per epoch\n",
        "#------------------------------------------------\n",
        "plt.plot  (epochs, loss)\n",
        "plt.plot  (epochs, val_loss)\n",
        "plt.title ('Training and validation loss Xception Model 2 Augmented')\n",
        "plt.legend(['train', 'val'], loc='upper left')"
      ]
    }
  ],
  "metadata": {
    "accelerator": "GPU",
    "colab": {
      "gpuType": "T4",
      "provenance": []
    },
    "gpuClass": "standard",
    "kernelspec": {
      "display_name": "Python 3 (ipykernel)",
      "language": "python",
      "name": "python3"
    },
    "language_info": {
      "codemirror_mode": {
        "name": "ipython",
        "version": 3
      },
      "file_extension": ".py",
      "mimetype": "text/x-python",
      "name": "python",
      "nbconvert_exporter": "python",
      "pygments_lexer": "ipython3",
      "version": "3.8.10"
    }
  },
  "nbformat": 4,
  "nbformat_minor": 0
}