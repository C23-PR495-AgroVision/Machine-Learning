{
  "cells": [
    {
      "attachments": {},
      "cell_type": "markdown",
      "metadata": {
        "id": "hO3kEcUPU2S3"
      },
      "source": [
        "# Library"
      ]
    },
    {
      "cell_type": "code",
      "execution_count": 1,
      "metadata": {
        "colab": {
          "base_uri": "https://localhost:8080/"
        },
        "id": "kczkUjsAU2S8",
        "outputId": "2a66510e-dae5-47dd-9ab3-6b18cb6f0e9b",
        "tags": []
      },
      "outputs": [
        {
          "name": "stdout",
          "output_type": "stream",
          "text": [
            "Requirement already satisfied: matplotlib in c:\\users\\hasan\\anaconda3\\envs\\tensorflow_gpu_zein\\lib\\site-packages (3.6.3)\n",
            "Requirement already satisfied: pillow>=6.2.0 in c:\\users\\hasan\\anaconda3\\envs\\tensorflow_gpu_zein\\lib\\site-packages (from matplotlib) (9.4.0)\n",
            "Requirement already satisfied: pyparsing>=2.2.1 in c:\\users\\hasan\\anaconda3\\envs\\tensorflow_gpu_zein\\lib\\site-packages (from matplotlib) (3.0.9)\n",
            "Requirement already satisfied: fonttools>=4.22.0 in c:\\users\\hasan\\anaconda3\\envs\\tensorflow_gpu_zein\\lib\\site-packages (from matplotlib) (4.39.2)\n",
            "Requirement already satisfied: python-dateutil>=2.7 in c:\\users\\hasan\\anaconda3\\envs\\tensorflow_gpu_zein\\lib\\site-packages (from matplotlib) (2.8.2)\n",
            "Requirement already satisfied: contourpy>=1.0.1 in c:\\users\\hasan\\anaconda3\\envs\\tensorflow_gpu_zein\\lib\\site-packages (from matplotlib) (1.0.7)\n",
            "Requirement already satisfied: numpy>=1.19 in c:\\users\\hasan\\anaconda3\\envs\\tensorflow_gpu_zein\\lib\\site-packages (from matplotlib) (1.23.5)\n",
            "Requirement already satisfied: packaging>=20.0 in c:\\users\\hasan\\anaconda3\\envs\\tensorflow_gpu_zein\\lib\\site-packages (from matplotlib) (23.1)\n",
            "Requirement already satisfied: cycler>=0.10 in c:\\users\\hasan\\anaconda3\\envs\\tensorflow_gpu_zein\\lib\\site-packages (from matplotlib) (0.11.0)\n",
            "Requirement already satisfied: kiwisolver>=1.0.1 in c:\\users\\hasan\\anaconda3\\envs\\tensorflow_gpu_zein\\lib\\site-packages (from matplotlib) (1.4.4)\n",
            "Requirement already satisfied: six>=1.5 in c:\\users\\hasan\\anaconda3\\envs\\tensorflow_gpu_zein\\lib\\site-packages (from python-dateutil>=2.7->matplotlib) (1.16.0)\n",
            "Note: you may need to restart the kernel to use updated packages.\n"
          ]
        },
        {
          "name": "stderr",
          "output_type": "stream",
          "text": [
            "WARNING: Ignoring invalid distribution -rotobuf (c:\\users\\hasan\\anaconda3\\envs\\tensorflow_gpu_zein\\lib\\site-packages)\n",
            "WARNING: Ignoring invalid distribution -rotobuf (c:\\users\\hasan\\anaconda3\\envs\\tensorflow_gpu_zein\\lib\\site-packages)\n",
            "WARNING: Ignoring invalid distribution -rotobuf (c:\\users\\hasan\\anaconda3\\envs\\tensorflow_gpu_zein\\lib\\site-packages)\n",
            "WARNING: Ignoring invalid distribution -rotobuf (c:\\users\\hasan\\anaconda3\\envs\\tensorflow_gpu_zein\\lib\\site-packages)\n",
            "WARNING: Ignoring invalid distribution -rotobuf (c:\\users\\hasan\\anaconda3\\envs\\tensorflow_gpu_zein\\lib\\site-packages)\n",
            "WARNING: Ignoring invalid distribution -rotobuf (c:\\users\\hasan\\anaconda3\\envs\\tensorflow_gpu_zein\\lib\\site-packages)\n"
          ]
        }
      ],
      "source": [
        "pip install matplotlib"
      ]
    },
    {
      "cell_type": "code",
      "execution_count": 2,
      "metadata": {
        "colab": {
          "base_uri": "https://localhost:8080/"
        },
        "id": "oEW3Nbu7U2S_",
        "outputId": "558fb173-6013-4d0c-9323-dd5b4179cc4d",
        "tags": []
      },
      "outputs": [
        {
          "name": "stdout",
          "output_type": "stream",
          "text": [
            "Requirement already satisfied: opendatasets in c:\\users\\hasan\\anaconda3\\envs\\tensorflow_gpu_zein\\lib\\site-packages (0.1.22)\n",
            "Requirement already satisfied: tqdm in c:\\users\\hasan\\anaconda3\\envs\\tensorflow_gpu_zein\\lib\\site-packages (from opendatasets) (4.64.1)\n",
            "Requirement already satisfied: click in c:\\users\\hasan\\anaconda3\\envs\\tensorflow_gpu_zein\\lib\\site-packages (from opendatasets) (8.1.3)\n",
            "Requirement already satisfied: kaggle in c:\\users\\hasan\\anaconda3\\envs\\tensorflow_gpu_zein\\lib\\site-packages (from opendatasets) (1.5.13)\n",
            "Requirement already satisfied: colorama in c:\\users\\hasan\\anaconda3\\envs\\tensorflow_gpu_zein\\lib\\site-packages (from click->opendatasets) (0.4.6)\n",
            "Requirement already satisfied: certifi in c:\\users\\hasan\\anaconda3\\envs\\tensorflow_gpu_zein\\lib\\site-packages (from kaggle->opendatasets) (2022.12.7)\n",
            "Requirement already satisfied: python-dateutil in c:\\users\\hasan\\anaconda3\\envs\\tensorflow_gpu_zein\\lib\\site-packages (from kaggle->opendatasets) (2.8.2)\n",
            "Requirement already satisfied: requests in c:\\users\\hasan\\anaconda3\\envs\\tensorflow_gpu_zein\\lib\\site-packages (from kaggle->opendatasets) (2.28.2)\n",
            "Requirement already satisfied: python-slugify in c:\\users\\hasan\\anaconda3\\envs\\tensorflow_gpu_zein\\lib\\site-packages (from kaggle->opendatasets) (8.0.1)\n",
            "Requirement already satisfied: six>=1.10 in c:\\users\\hasan\\anaconda3\\envs\\tensorflow_gpu_zein\\lib\\site-packages (from kaggle->opendatasets) (1.16.0)\n",
            "Requirement already satisfied: urllib3 in c:\\users\\hasan\\anaconda3\\envs\\tensorflow_gpu_zein\\lib\\site-packages (from kaggle->opendatasets) (1.26.15)\n",
            "Requirement already satisfied: text-unidecode>=1.3 in c:\\users\\hasan\\anaconda3\\envs\\tensorflow_gpu_zein\\lib\\site-packages (from python-slugify->kaggle->opendatasets) (1.3)\n",
            "Requirement already satisfied: idna<4,>=2.5 in c:\\users\\hasan\\anaconda3\\envs\\tensorflow_gpu_zein\\lib\\site-packages (from requests->kaggle->opendatasets) (3.4)\n",
            "Requirement already satisfied: charset-normalizer<4,>=2 in c:\\users\\hasan\\anaconda3\\envs\\tensorflow_gpu_zein\\lib\\site-packages (from requests->kaggle->opendatasets) (3.1.0)\n",
            "Note: you may need to restart the kernel to use updated packages.\n"
          ]
        },
        {
          "name": "stderr",
          "output_type": "stream",
          "text": [
            "WARNING: Ignoring invalid distribution -rotobuf (c:\\users\\hasan\\anaconda3\\envs\\tensorflow_gpu_zein\\lib\\site-packages)\n",
            "WARNING: Ignoring invalid distribution -rotobuf (c:\\users\\hasan\\anaconda3\\envs\\tensorflow_gpu_zein\\lib\\site-packages)\n",
            "WARNING: Ignoring invalid distribution -rotobuf (c:\\users\\hasan\\anaconda3\\envs\\tensorflow_gpu_zein\\lib\\site-packages)\n",
            "WARNING: Ignoring invalid distribution -rotobuf (c:\\users\\hasan\\anaconda3\\envs\\tensorflow_gpu_zein\\lib\\site-packages)\n",
            "WARNING: Ignoring invalid distribution -rotobuf (c:\\users\\hasan\\anaconda3\\envs\\tensorflow_gpu_zein\\lib\\site-packages)\n",
            "WARNING: Ignoring invalid distribution -rotobuf (c:\\users\\hasan\\anaconda3\\envs\\tensorflow_gpu_zein\\lib\\site-packages)\n"
          ]
        }
      ],
      "source": [
        "pip install opendatasets"
      ]
    },
    {
      "cell_type": "code",
      "execution_count": 3,
      "metadata": {
        "id": "SIHHdOB4U2TA",
        "tags": []
      },
      "outputs": [],
      "source": [
        "# Library to dataset\n",
        "import opendatasets as od\n",
        "import os\n",
        "import zipfile\n",
        "import numpy as np\n",
        "\n",
        "# Surpress Warnings\n",
        "import warnings\n",
        "warnings.filterwarnings('ignore')\n",
        "os.environ['TF_CPP_MIN_LOG_LEVEL'] = '3' \n",
        "# library visualization\n",
        "import matplotlib.pyplot as plt\n",
        "\n",
        "# Library Tensorflow\n",
        "import tensorflow as tf\n",
        "from tensorflow import keras\n",
        "from tensorflow.keras.preprocessing.image import ImageDataGenerator\n",
        "from tensorflow.keras.callbacks import ModelCheckpoint, EarlyStopping, ReduceLROnPlateau\n",
        "from tensorflow.keras.applications.densenet import DenseNet121\n",
        "from tensorflow.keras.applications.xception import Xception\n",
        "from tensorflow.keras.applications.mobilenet_v2 import MobileNetV2\n",
        "\n",
        "# Others\n",
        "import shutil\n",
        "import random"
      ]
    },
    {
      "attachments": {},
      "cell_type": "markdown",
      "metadata": {
        "id": "Dy8YkYoaU2TB"
      },
      "source": [
        "# Load dataset"
      ]
    },
    {
      "cell_type": "code",
      "execution_count": 4,
      "metadata": {
        "colab": {
          "base_uri": "https://localhost:8080/"
        },
        "id": "8ZAjREJ0U2TC",
        "outputId": "6a0b5c9a-4ac0-469c-d7dc-18e47eea5db5",
        "tags": []
      },
      "outputs": [
        {
          "name": "stdout",
          "output_type": "stream",
          "text": [
            "==========================Training Data====================\n",
            "Found 4205 files belonging to 2 classes.\n",
            "==========================Validation Data====================\n",
            "Found 1574 files belonging to 2 classes.\n"
          ]
        }
      ],
      "source": [
        "# Load dataset\n",
        "print(\"==========================Training Data====================\")\n",
        "train_data = tf.keras.preprocessing.image_dataset_from_directory(\n",
        "    \"Dataset/cherry-leaves/train\",\n",
        "    label_mode=\"categorical\",\n",
        "    class_names=['healthy','powdery_mildew'],\n",
        "    color_mode=\"rgb\",\n",
        "    batch_size=1,\n",
        "    image_size=(256, 256),\n",
        "    shuffle=True,\n",
        "    seed=123\n",
        ")\n",
        "print(\"==========================Validation Data====================\")\n",
        "val_data = tf.keras.preprocessing.image_dataset_from_directory(\n",
        "    \"Dataset/cherry-leaves/test\",\n",
        "    label_mode=\"categorical\",\n",
        "    class_names=['healthy','powdery_mildew'],\n",
        "    color_mode=\"rgb\",\n",
        "    batch_size=1,\n",
        "    image_size=(256, 256),\n",
        "    shuffle=True,\n",
        "    seed=123\n",
        ")"
      ]
    },
    {
      "cell_type": "code",
      "execution_count": 5,
      "metadata": {
        "colab": {
          "base_uri": "https://localhost:8080/"
        },
        "id": "vEPzd1egU2TD",
        "outputId": "c6cc9c10-baaf-4b6d-c229-e6a608f625a1",
        "tags": []
      },
      "outputs": [
        {
          "name": "stdout",
          "output_type": "stream",
          "text": [
            "Found 4205 images belonging to 2 classes.\n",
            "Found 1574 images belonging to 2 classes.\n"
          ]
        }
      ],
      "source": [
        "# All images will be rescaled by 1./255.and augmented\n",
        "train_datagen = ImageDataGenerator(rescale = 1.0/256.,\n",
        "                                   rotation_range=40,\n",
        "                                   width_shift_range=0.2,\n",
        "                                   height_shift_range=0.2,\n",
        "                                   shear_range=0.2,\n",
        "                                   zoom_range=0.2,\n",
        "                                   horizontal_flip=True,\n",
        "                                   fill_mode='nearest')\n",
        "\n",
        "test_datagen  = ImageDataGenerator(rescale = 1.0/256.)\n",
        "\n",
        "# --------------------\n",
        "# Flow training images in batches of 20 using train_datagen generator\n",
        "# --------------------\n",
        "train_generator = train_datagen.flow_from_directory(\"Dataset/cherry-leaves/train\",\n",
        "                                                    batch_size=20,\n",
        "                                                    class_mode='categorical',\n",
        "                                                    target_size=(224, 224))     \n",
        "# --------------------\n",
        "# Flow validation images in batches of 20 using test_datagen generator\n",
        "# --------------------\n",
        "validation_generator =  test_datagen.flow_from_directory(\"Dataset/cherry-leaves/test\",\n",
        "                                                         batch_size=20,\n",
        "                                                         class_mode  = 'categorical',\n",
        "                                                         target_size = (224, 224))"
      ]
    },
    {
      "attachments": {},
      "cell_type": "markdown",
      "metadata": {
        "id": "_3jaO5YgU2TE"
      },
      "source": [
        "# List Resource"
      ]
    },
    {
      "cell_type": "code",
      "execution_count": 6,
      "metadata": {
        "colab": {
          "base_uri": "https://localhost:8080/"
        },
        "id": "SGemCaxnU2TF",
        "outputId": "3b40dc33-76cf-406e-eee1-c5d552768db7",
        "tags": []
      },
      "outputs": [
        {
          "name": "stdout",
          "output_type": "stream",
          "text": [
            "Sat May 27 20:03:44 2023       \n",
            "+---------------------------------------------------------------------------------------+\n",
            "| NVIDIA-SMI 532.03                 Driver Version: 532.03       CUDA Version: 12.1     |\n",
            "|-----------------------------------------+----------------------+----------------------+\n",
            "| GPU  Name                      TCC/WDDM | Bus-Id        Disp.A | Volatile Uncorr. ECC |\n",
            "| Fan  Temp  Perf            Pwr:Usage/Cap|         Memory-Usage | GPU-Util  Compute M. |\n",
            "|                                         |                      |               MIG M. |\n",
            "|=========================================+======================+======================|\n",
            "|   0  NVIDIA GeForce RTX 3060 L...  WDDM | 00000000:01:00.0  On |                  N/A |\n",
            "| N/A   53C    P0               39W /  N/A|   4396MiB /  6144MiB |      7%      Default |\n",
            "|                                         |                      |                  N/A |\n",
            "+-----------------------------------------+----------------------+----------------------+\n",
            "                                                                                         \n",
            "+---------------------------------------------------------------------------------------+\n",
            "| Processes:                                                                            |\n",
            "|  GPU   GI   CI        PID   Type   Process name                            GPU Memory |\n",
            "|        ID   ID                                                             Usage      |\n",
            "|=======================================================================================|\n",
            "|    0   N/A  N/A       936      C   ...envs\\tensorflow_gpu_zein\\python.exe    N/A      |\n",
            "|    0   N/A  N/A      2012    C+G   ...2.0_x64__cv1g1gvanyjgm\\WhatsApp.exe    N/A      |\n",
            "|    0   N/A  N/A      2668    C+G   ...siveControlPanel\\SystemSettings.exe    N/A      |\n",
            "|    0   N/A  N/A      7012    C+G   ...64__v826wp6bftszj\\TranslucentTB.exe    N/A      |\n",
            "|    0   N/A  N/A      9000    C+G   ...les\\AMD\\CNext\\CNext\\AMDRSSrcExt.exe    N/A      |\n",
            "|    0   N/A  N/A     10052    C+G   C:\\WINDOWS\\explorer.exe                   N/A      |\n",
            "|    0   N/A  N/A     12016    C+G   ...nt.CBS_cw5n1h2txyewy\\SearchHost.exe    N/A      |\n",
            "|    0   N/A  N/A     12076    C+G   ...2txyewy\\StartMenuExperienceHost.exe    N/A      |\n",
            "|    0   N/A  N/A     13880    C+G   ...les\\Microsoft OneDrive\\OneDrive.exe    N/A      |\n",
            "|    0   N/A  N/A     14676    C+G   ...ekyb3d8bbwe\\PhoneExperienceHost.exe    N/A      |\n",
            "|    0   N/A  N/A     16584    C+G   ...oogle\\Chrome\\Application\\chrome.exe    N/A      |\n",
            "|    0   N/A  N/A     17064    C+G   ...1.0_x64__t4vj0pshhgkwm\\Telegram.exe    N/A      |\n",
            "|    0   N/A  N/A     18404    C+G   ...GeForce Experience\\NVIDIA Share.exe    N/A      |\n",
            "|    0   N/A  N/A     23224    C+G   ...1.0_x64__8wekyb3d8bbwe\\Video.UI.exe    N/A      |\n",
            "|    0   N/A  N/A     23568    C+G   ...on\\113.0.1774.50\\msedgewebview2.exe    N/A      |\n",
            "|    0   N/A  N/A     24300    C+G   ...les\\Microsoft OneDrive\\OneDrive.exe    N/A      |\n",
            "|    0   N/A  N/A     24364    C+G   ...\\AMD\\CNext\\CNext\\RadeonSoftware.exe    N/A      |\n",
            "|    0   N/A  N/A     26028    C+G   ...5n1h2txyewy\\ShellExperienceHost.exe    N/A      |\n",
            "|    0   N/A  N/A     26432    C+G   ...Programs\\Microsoft VS Code\\Code.exe    N/A      |\n",
            "+---------------------------------------------------------------------------------------+\n"
          ]
        }
      ],
      "source": [
        "# Check GPU\n",
        "!nvidia-smi"
      ]
    },
    {
      "cell_type": "code",
      "execution_count": 7,
      "metadata": {
        "colab": {
          "base_uri": "https://localhost:8080/"
        },
        "id": "FSapZ74PU2TF",
        "outputId": "21e95d27-e813-493c-eb52-9e446432e2ee",
        "tags": []
      },
      "outputs": [
        {
          "data": {
            "text/plain": [
              "[PhysicalDevice(name='/physical_device:GPU:0', device_type='GPU')]"
            ]
          },
          "execution_count": 7,
          "metadata": {},
          "output_type": "execute_result"
        }
      ],
      "source": [
        "# Lis physical devices\n",
        "devices = tf.config.experimental.list_physical_devices(\"GPU\")\n",
        "devices"
      ]
    },
    {
      "cell_type": "code",
      "execution_count": 8,
      "metadata": {
        "id": "A8WtBtBaU2TG",
        "tags": []
      },
      "outputs": [
        {
          "name": "stdout",
          "output_type": "stream",
          "text": [
            "INFO:tensorflow:Using MirroredStrategy with devices ('/job:localhost/replica:0/task:0/device:GPU:0',)\n"
          ]
        }
      ],
      "source": [
        "# Define the GPU strategy\n",
        "mirrored_strategy = tf.distribute.MirroredStrategy(devices=[\"/gpu:0\"])"
      ]
    },
    {
      "attachments": {},
      "cell_type": "markdown",
      "metadata": {
        "id": "Vqr_uGTNU2TG"
      },
      "source": [
        "# Modelling With Augmentation"
      ]
    },
    {
      "attachments": {},
      "cell_type": "markdown",
      "metadata": {
        "id": "w4Wzh6ZyU2TH"
      },
      "source": [
        "## MobileNetV2 Model 1"
      ]
    },
    {
      "cell_type": "code",
      "execution_count": 9,
      "metadata": {
        "id": "uUqYGBfRU2TH",
        "tags": []
      },
      "outputs": [],
      "source": [
        "# Difine the callbacks\n",
        "# Save the best model\n",
        "checkpoint_callback = ModelCheckpoint(filepath=\"Cherry_MobileNetV2_model1_Based_Augmented\", save_best_only=True, monitor=\"val_accuracy\", mode=\"max\", verbose=1)\n",
        "\n",
        "# Early stopping\n",
        "early_stopping_callback = EarlyStopping(monitor=\"val_accuracy\", mode=\"max\", patience=20, verbose=1, restore_best_weights=True)\n",
        "\n",
        "# Reduce learning rate\n",
        "reduce_lr_callback = ReduceLROnPlateau(monitor=\"val_loss\", factor=0.1, patience=5, verbose=1, mode=\"min\", min_delta=0.0001, cooldown=0, min_lr=0)\n",
        "\n",
        "# Callbacks list\n",
        "callbacks=[checkpoint_callback, early_stopping_callback, reduce_lr_callback]"
      ]
    },
    {
      "cell_type": "code",
      "execution_count": 10,
      "metadata": {
        "colab": {
          "base_uri": "https://localhost:8080/"
        },
        "id": "BQHFs3gSU2TI",
        "outputId": "2c64d483-783a-441a-a56c-3da4d71af013",
        "tags": []
      },
      "outputs": [
        {
          "name": "stdout",
          "output_type": "stream",
          "text": [
            "Model: \"sequential\"\n",
            "_________________________________________________________________\n",
            " Layer (type)                Output Shape              Param #   \n",
            "=================================================================\n",
            " mobilenetv2_1.00_224 (Funct  (None, 7, 7, 1280)       2257984   \n",
            " ional)                                                          \n",
            "                                                                 \n",
            " global_max_pooling2d (Globa  (None, 1280)             0         \n",
            " lMaxPooling2D)                                                  \n",
            "                                                                 \n",
            " dropout (Dropout)           (None, 1280)              0         \n",
            "                                                                 \n",
            " dense (Dense)               (None, 256)               327936    \n",
            "                                                                 \n",
            " dense_1 (Dense)             (None, 2)                 514       \n",
            "                                                                 \n",
            "=================================================================\n",
            "Total params: 2,586,434\n",
            "Trainable params: 2,552,322\n",
            "Non-trainable params: 34,112\n",
            "_________________________________________________________________\n"
          ]
        }
      ],
      "source": [
        "# Define DIY Model\n",
        "MobileNetV2_model = tf.keras.models.Sequential([\n",
        "    # MobileNetV2 Layer\n",
        "    MobileNetV2(include_top=False,weights='imagenet',input_shape=(224, 224, 3)),\n",
        "    # Global Max Pooling Layer\n",
        "    tf.keras.layers.GlobalMaxPooling2D(),\n",
        "    # Drop Out Layer\n",
        "    tf.keras.layers.Dropout(0.2),\n",
        "    # 256 neuron hidden layer\n",
        "    tf.keras.layers.Dense(256, activation='relu'),\n",
        "    # Output\n",
        "    tf.keras.layers.Dense(2, activation='softmax') \n",
        "  ])\n",
        "\n",
        "\n",
        "# Compile Model\n",
        "MobileNetV2_model.compile(loss='categorical_crossentropy',optimizer=tf.keras.optimizers.Adam(), metrics=['accuracy']) \n",
        "\n",
        "# Model Summary\n",
        "MobileNetV2_model.summary()"
      ]
    },
    {
      "cell_type": "code",
      "execution_count": 11,
      "metadata": {
        "colab": {
          "base_uri": "https://localhost:8080/"
        },
        "id": "6coN3TKhU2TI",
        "outputId": "92e57f4c-21e0-4867-d620-bd3e805d91a1",
        "tags": []
      },
      "outputs": [
        {
          "name": "stdout",
          "output_type": "stream",
          "text": [
            "Epoch 1/100\n",
            "211/211 [==============================] - ETA: 0s - loss: 0.1774 - accuracy: 0.9795\n",
            "Epoch 1: val_accuracy improved from -inf to 0.74968, saving model to Cherry_MobileNetV2_model1_Based_Augmented\n"
          ]
        },
        {
          "name": "stderr",
          "output_type": "stream",
          "text": [
            "WARNING:absl:Function `_wrapped_model` contains input name(s) mobilenetv2_1.00_224_input with unsupported characters which will be renamed to mobilenetv2_1_00_224_input in the SavedModel.\n",
            "WARNING:absl:Found untraced functions such as _jit_compiled_convolution_op, _jit_compiled_convolution_op, _jit_compiled_convolution_op, _jit_compiled_convolution_op, _jit_compiled_convolution_op while saving (showing 5 of 52). These functions will not be directly callable after loading.\n"
          ]
        },
        {
          "name": "stdout",
          "output_type": "stream",
          "text": [
            "INFO:tensorflow:Assets written to: Cherry_MobileNetV2_model1_Based_Augmented\\assets\n"
          ]
        },
        {
          "name": "stderr",
          "output_type": "stream",
          "text": [
            "INFO:tensorflow:Assets written to: Cherry_MobileNetV2_model1_Based_Augmented\\assets\n"
          ]
        },
        {
          "name": "stdout",
          "output_type": "stream",
          "text": [
            "211/211 [==============================] - 83s 359ms/step - loss: 0.1774 - accuracy: 0.9795 - val_loss: 3.6726 - val_accuracy: 0.7497 - lr: 0.0010\n",
            "Epoch 2/100\n",
            "211/211 [==============================] - ETA: 0s - loss: 0.0734 - accuracy: 0.9869\n",
            "Epoch 2: val_accuracy improved from 0.74968 to 0.82147, saving model to Cherry_MobileNetV2_model1_Based_Augmented\n"
          ]
        },
        {
          "name": "stderr",
          "output_type": "stream",
          "text": [
            "WARNING:absl:Function `_wrapped_model` contains input name(s) mobilenetv2_1.00_224_input with unsupported characters which will be renamed to mobilenetv2_1_00_224_input in the SavedModel.\n",
            "WARNING:absl:Found untraced functions such as _jit_compiled_convolution_op, _jit_compiled_convolution_op, _jit_compiled_convolution_op, _jit_compiled_convolution_op, _jit_compiled_convolution_op while saving (showing 5 of 52). These functions will not be directly callable after loading.\n"
          ]
        },
        {
          "name": "stdout",
          "output_type": "stream",
          "text": [
            "INFO:tensorflow:Assets written to: Cherry_MobileNetV2_model1_Based_Augmented\\assets\n"
          ]
        },
        {
          "name": "stderr",
          "output_type": "stream",
          "text": [
            "INFO:tensorflow:Assets written to: Cherry_MobileNetV2_model1_Based_Augmented\\assets\n"
          ]
        },
        {
          "name": "stdout",
          "output_type": "stream",
          "text": [
            "211/211 [==============================] - 45s 210ms/step - loss: 0.0734 - accuracy: 0.9869 - val_loss: 2.1874 - val_accuracy: 0.8215 - lr: 0.0010\n",
            "Epoch 3/100\n",
            "211/211 [==============================] - ETA: 0s - loss: 0.0300 - accuracy: 0.9926\n",
            "Epoch 3: val_accuracy improved from 0.82147 to 0.96950, saving model to Cherry_MobileNetV2_model1_Based_Augmented\n"
          ]
        },
        {
          "name": "stderr",
          "output_type": "stream",
          "text": [
            "WARNING:absl:Function `_wrapped_model` contains input name(s) mobilenetv2_1.00_224_input with unsupported characters which will be renamed to mobilenetv2_1_00_224_input in the SavedModel.\n",
            "WARNING:absl:Found untraced functions such as _jit_compiled_convolution_op, _jit_compiled_convolution_op, _jit_compiled_convolution_op, _jit_compiled_convolution_op, _jit_compiled_convolution_op while saving (showing 5 of 52). These functions will not be directly callable after loading.\n"
          ]
        },
        {
          "name": "stdout",
          "output_type": "stream",
          "text": [
            "INFO:tensorflow:Assets written to: Cherry_MobileNetV2_model1_Based_Augmented\\assets\n"
          ]
        },
        {
          "name": "stderr",
          "output_type": "stream",
          "text": [
            "INFO:tensorflow:Assets written to: Cherry_MobileNetV2_model1_Based_Augmented\\assets\n"
          ]
        },
        {
          "name": "stdout",
          "output_type": "stream",
          "text": [
            "211/211 [==============================] - 49s 231ms/step - loss: 0.0300 - accuracy: 0.9926 - val_loss: 0.1622 - val_accuracy: 0.9695 - lr: 0.0010\n",
            "Epoch 4/100\n",
            "211/211 [==============================] - ETA: 0s - loss: 0.0399 - accuracy: 0.9895\n",
            "Epoch 4: val_accuracy did not improve from 0.96950\n",
            "211/211 [==============================] - 35s 163ms/step - loss: 0.0399 - accuracy: 0.9895 - val_loss: 1.3983 - val_accuracy: 0.7135 - lr: 0.0010\n",
            "Epoch 5/100\n",
            "211/211 [==============================] - ETA: 0s - loss: 0.0067 - accuracy: 0.9986\n",
            "Epoch 5: val_accuracy improved from 0.96950 to 0.97014, saving model to Cherry_MobileNetV2_model1_Based_Augmented\n"
          ]
        },
        {
          "name": "stderr",
          "output_type": "stream",
          "text": [
            "WARNING:absl:Function `_wrapped_model` contains input name(s) mobilenetv2_1.00_224_input with unsupported characters which will be renamed to mobilenetv2_1_00_224_input in the SavedModel.\n",
            "WARNING:absl:Found untraced functions such as _jit_compiled_convolution_op, _jit_compiled_convolution_op, _jit_compiled_convolution_op, _jit_compiled_convolution_op, _jit_compiled_convolution_op while saving (showing 5 of 52). These functions will not be directly callable after loading.\n"
          ]
        },
        {
          "name": "stdout",
          "output_type": "stream",
          "text": [
            "INFO:tensorflow:Assets written to: Cherry_MobileNetV2_model1_Based_Augmented\\assets\n"
          ]
        },
        {
          "name": "stderr",
          "output_type": "stream",
          "text": [
            "INFO:tensorflow:Assets written to: Cherry_MobileNetV2_model1_Based_Augmented\\assets\n"
          ]
        },
        {
          "name": "stdout",
          "output_type": "stream",
          "text": [
            "211/211 [==============================] - 52s 245ms/step - loss: 0.0067 - accuracy: 0.9986 - val_loss: 0.0964 - val_accuracy: 0.9701 - lr: 0.0010\n",
            "Epoch 6/100\n",
            "211/211 [==============================] - ETA: 0s - loss: 0.0077 - accuracy: 0.9979\n",
            "Epoch 6: val_accuracy improved from 0.97014 to 0.98094, saving model to Cherry_MobileNetV2_model1_Based_Augmented\n"
          ]
        },
        {
          "name": "stderr",
          "output_type": "stream",
          "text": [
            "WARNING:absl:Function `_wrapped_model` contains input name(s) mobilenetv2_1.00_224_input with unsupported characters which will be renamed to mobilenetv2_1_00_224_input in the SavedModel.\n",
            "WARNING:absl:Found untraced functions such as _jit_compiled_convolution_op, _jit_compiled_convolution_op, _jit_compiled_convolution_op, _jit_compiled_convolution_op, _jit_compiled_convolution_op while saving (showing 5 of 52). These functions will not be directly callable after loading.\n"
          ]
        },
        {
          "name": "stdout",
          "output_type": "stream",
          "text": [
            "INFO:tensorflow:Assets written to: Cherry_MobileNetV2_model1_Based_Augmented\\assets\n"
          ]
        },
        {
          "name": "stderr",
          "output_type": "stream",
          "text": [
            "INFO:tensorflow:Assets written to: Cherry_MobileNetV2_model1_Based_Augmented\\assets\n"
          ]
        },
        {
          "name": "stdout",
          "output_type": "stream",
          "text": [
            "211/211 [==============================] - 49s 230ms/step - loss: 0.0077 - accuracy: 0.9979 - val_loss: 0.1213 - val_accuracy: 0.9809 - lr: 0.0010\n",
            "Epoch 7/100\n",
            "211/211 [==============================] - ETA: 0s - loss: 0.0015 - accuracy: 0.9993\n",
            "Epoch 7: val_accuracy did not improve from 0.98094\n",
            "211/211 [==============================] - 35s 166ms/step - loss: 0.0015 - accuracy: 0.9993 - val_loss: 0.1022 - val_accuracy: 0.9778 - lr: 0.0010\n",
            "Epoch 8/100\n",
            "211/211 [==============================] - ETA: 0s - loss: 0.0107 - accuracy: 0.9960\n",
            "Epoch 8: val_accuracy improved from 0.98094 to 0.98983, saving model to Cherry_MobileNetV2_model1_Based_Augmented\n"
          ]
        },
        {
          "name": "stderr",
          "output_type": "stream",
          "text": [
            "WARNING:absl:Function `_wrapped_model` contains input name(s) mobilenetv2_1.00_224_input with unsupported characters which will be renamed to mobilenetv2_1_00_224_input in the SavedModel.\n",
            "WARNING:absl:Found untraced functions such as _jit_compiled_convolution_op, _jit_compiled_convolution_op, _jit_compiled_convolution_op, _jit_compiled_convolution_op, _jit_compiled_convolution_op while saving (showing 5 of 52). These functions will not be directly callable after loading.\n"
          ]
        },
        {
          "name": "stdout",
          "output_type": "stream",
          "text": [
            "INFO:tensorflow:Assets written to: Cherry_MobileNetV2_model1_Based_Augmented\\assets\n"
          ]
        },
        {
          "name": "stderr",
          "output_type": "stream",
          "text": [
            "INFO:tensorflow:Assets written to: Cherry_MobileNetV2_model1_Based_Augmented\\assets\n"
          ]
        },
        {
          "name": "stdout",
          "output_type": "stream",
          "text": [
            "211/211 [==============================] - 50s 238ms/step - loss: 0.0107 - accuracy: 0.9960 - val_loss: 0.0608 - val_accuracy: 0.9898 - lr: 0.0010\n",
            "Epoch 9/100\n",
            "211/211 [==============================] - ETA: 0s - loss: 0.0019 - accuracy: 0.9990\n",
            "Epoch 9: val_accuracy improved from 0.98983 to 0.99873, saving model to Cherry_MobileNetV2_model1_Based_Augmented\n"
          ]
        },
        {
          "name": "stderr",
          "output_type": "stream",
          "text": [
            "WARNING:absl:Function `_wrapped_model` contains input name(s) mobilenetv2_1.00_224_input with unsupported characters which will be renamed to mobilenetv2_1_00_224_input in the SavedModel.\n",
            "WARNING:absl:Found untraced functions such as _jit_compiled_convolution_op, _jit_compiled_convolution_op, _jit_compiled_convolution_op, _jit_compiled_convolution_op, _jit_compiled_convolution_op while saving (showing 5 of 52). These functions will not be directly callable after loading.\n"
          ]
        },
        {
          "name": "stdout",
          "output_type": "stream",
          "text": [
            "INFO:tensorflow:Assets written to: Cherry_MobileNetV2_model1_Based_Augmented\\assets\n"
          ]
        },
        {
          "name": "stderr",
          "output_type": "stream",
          "text": [
            "INFO:tensorflow:Assets written to: Cherry_MobileNetV2_model1_Based_Augmented\\assets\n"
          ]
        },
        {
          "name": "stdout",
          "output_type": "stream",
          "text": [
            "211/211 [==============================] - 49s 231ms/step - loss: 0.0019 - accuracy: 0.9990 - val_loss: 0.0114 - val_accuracy: 0.9987 - lr: 0.0010\n",
            "Epoch 10/100\n",
            "211/211 [==============================] - ETA: 0s - loss: 5.2735e-04 - accuracy: 0.9998\n",
            "Epoch 10: val_accuracy improved from 0.99873 to 0.99936, saving model to Cherry_MobileNetV2_model1_Based_Augmented\n"
          ]
        },
        {
          "name": "stderr",
          "output_type": "stream",
          "text": [
            "WARNING:absl:Function `_wrapped_model` contains input name(s) mobilenetv2_1.00_224_input with unsupported characters which will be renamed to mobilenetv2_1_00_224_input in the SavedModel.\n",
            "WARNING:absl:Found untraced functions such as _jit_compiled_convolution_op, _jit_compiled_convolution_op, _jit_compiled_convolution_op, _jit_compiled_convolution_op, _jit_compiled_convolution_op while saving (showing 5 of 52). These functions will not be directly callable after loading.\n"
          ]
        },
        {
          "name": "stdout",
          "output_type": "stream",
          "text": [
            "INFO:tensorflow:Assets written to: Cherry_MobileNetV2_model1_Based_Augmented\\assets\n"
          ]
        },
        {
          "name": "stderr",
          "output_type": "stream",
          "text": [
            "INFO:tensorflow:Assets written to: Cherry_MobileNetV2_model1_Based_Augmented\\assets\n"
          ]
        },
        {
          "name": "stdout",
          "output_type": "stream",
          "text": [
            "211/211 [==============================] - 49s 231ms/step - loss: 5.2735e-04 - accuracy: 0.9998 - val_loss: 0.0017 - val_accuracy: 0.9994 - lr: 0.0010\n",
            "Epoch 11/100\n",
            "211/211 [==============================] - ETA: 0s - loss: 7.5019e-04 - accuracy: 0.9995\n",
            "Epoch 11: val_accuracy improved from 0.99936 to 1.00000, saving model to Cherry_MobileNetV2_model1_Based_Augmented\n"
          ]
        },
        {
          "name": "stderr",
          "output_type": "stream",
          "text": [
            "WARNING:absl:Function `_wrapped_model` contains input name(s) mobilenetv2_1.00_224_input with unsupported characters which will be renamed to mobilenetv2_1_00_224_input in the SavedModel.\n",
            "WARNING:absl:Found untraced functions such as _jit_compiled_convolution_op, _jit_compiled_convolution_op, _jit_compiled_convolution_op, _jit_compiled_convolution_op, _jit_compiled_convolution_op while saving (showing 5 of 52). These functions will not be directly callable after loading.\n"
          ]
        },
        {
          "name": "stdout",
          "output_type": "stream",
          "text": [
            "INFO:tensorflow:Assets written to: Cherry_MobileNetV2_model1_Based_Augmented\\assets\n"
          ]
        },
        {
          "name": "stderr",
          "output_type": "stream",
          "text": [
            "INFO:tensorflow:Assets written to: Cherry_MobileNetV2_model1_Based_Augmented\\assets\n"
          ]
        },
        {
          "name": "stdout",
          "output_type": "stream",
          "text": [
            "211/211 [==============================] - 49s 231ms/step - loss: 7.5019e-04 - accuracy: 0.9995 - val_loss: 6.6292e-05 - val_accuracy: 1.0000 - lr: 0.0010\n",
            "Epoch 12/100\n",
            "211/211 [==============================] - ETA: 0s - loss: 0.0369 - accuracy: 0.9905\n",
            "Epoch 12: val_accuracy did not improve from 1.00000\n",
            "211/211 [==============================] - 34s 159ms/step - loss: 0.0369 - accuracy: 0.9905 - val_loss: 5.9829 - val_accuracy: 0.5140 - lr: 0.0010\n",
            "Epoch 13/100\n",
            "211/211 [==============================] - ETA: 0s - loss: 0.0576 - accuracy: 0.9883\n",
            "Epoch 13: val_accuracy did not improve from 1.00000\n",
            "211/211 [==============================] - 34s 162ms/step - loss: 0.0576 - accuracy: 0.9883 - val_loss: 4.5822 - val_accuracy: 0.5140 - lr: 0.0010\n",
            "Epoch 14/100\n",
            "211/211 [==============================] - ETA: 0s - loss: 0.0313 - accuracy: 0.9907\n",
            "Epoch 14: val_accuracy did not improve from 1.00000\n",
            "211/211 [==============================] - 34s 160ms/step - loss: 0.0313 - accuracy: 0.9907 - val_loss: 2.9648 - val_accuracy: 0.5343 - lr: 0.0010\n",
            "Epoch 15/100\n",
            "211/211 [==============================] - ETA: 0s - loss: 0.0150 - accuracy: 0.9971\n",
            "Epoch 15: val_accuracy did not improve from 1.00000\n",
            "211/211 [==============================] - 35s 164ms/step - loss: 0.0150 - accuracy: 0.9971 - val_loss: 9.4806 - val_accuracy: 0.5140 - lr: 0.0010\n",
            "Epoch 16/100\n",
            "211/211 [==============================] - ETA: 0s - loss: 0.0193 - accuracy: 0.9957\n",
            "Epoch 16: val_accuracy did not improve from 1.00000\n",
            "\n",
            "Epoch 16: ReduceLROnPlateau reducing learning rate to 0.00010000000474974513.\n",
            "211/211 [==============================] - 36s 172ms/step - loss: 0.0193 - accuracy: 0.9957 - val_loss: 1.3917 - val_accuracy: 0.7097 - lr: 0.0010\n",
            "Epoch 17/100\n",
            "211/211 [==============================] - ETA: 0s - loss: 0.0076 - accuracy: 0.9983\n",
            "Epoch 17: val_accuracy did not improve from 1.00000\n",
            "211/211 [==============================] - 35s 166ms/step - loss: 0.0076 - accuracy: 0.9983 - val_loss: 0.1851 - val_accuracy: 0.9676 - lr: 1.0000e-04\n",
            "Epoch 18/100\n",
            "211/211 [==============================] - ETA: 0s - loss: 0.0059 - accuracy: 0.9981\n",
            "Epoch 18: val_accuracy did not improve from 1.00000\n",
            "211/211 [==============================] - 35s 164ms/step - loss: 0.0059 - accuracy: 0.9981 - val_loss: 0.0501 - val_accuracy: 0.9936 - lr: 1.0000e-04\n",
            "Epoch 19/100\n",
            "211/211 [==============================] - ETA: 0s - loss: 0.0079 - accuracy: 0.9990\n",
            "Epoch 19: val_accuracy did not improve from 1.00000\n",
            "211/211 [==============================] - 35s 167ms/step - loss: 0.0079 - accuracy: 0.9990 - val_loss: 0.0171 - val_accuracy: 0.9975 - lr: 1.0000e-04\n",
            "Epoch 20/100\n",
            "211/211 [==============================] - ETA: 0s - loss: 0.0022 - accuracy: 0.9995\n",
            "Epoch 20: val_accuracy did not improve from 1.00000\n",
            "211/211 [==============================] - 35s 164ms/step - loss: 0.0022 - accuracy: 0.9995 - val_loss: 0.0130 - val_accuracy: 0.9981 - lr: 1.0000e-04\n",
            "Epoch 21/100\n",
            "211/211 [==============================] - ETA: 0s - loss: 0.0023 - accuracy: 0.9998\n",
            "Epoch 21: val_accuracy did not improve from 1.00000\n",
            "\n",
            "Epoch 21: ReduceLROnPlateau reducing learning rate to 1.0000000474974514e-05.\n",
            "211/211 [==============================] - 38s 177ms/step - loss: 0.0023 - accuracy: 0.9998 - val_loss: 0.0108 - val_accuracy: 0.9981 - lr: 1.0000e-04\n",
            "Epoch 22/100\n",
            "211/211 [==============================] - ETA: 0s - loss: 0.0026 - accuracy: 0.9995\n",
            "Epoch 22: val_accuracy did not improve from 1.00000\n",
            "211/211 [==============================] - 36s 169ms/step - loss: 0.0026 - accuracy: 0.9995 - val_loss: 0.0070 - val_accuracy: 0.9981 - lr: 1.0000e-05\n",
            "Epoch 23/100\n",
            "211/211 [==============================] - ETA: 0s - loss: 0.0072 - accuracy: 0.9986\n",
            "Epoch 23: val_accuracy did not improve from 1.00000\n",
            "211/211 [==============================] - 35s 166ms/step - loss: 0.0072 - accuracy: 0.9986 - val_loss: 0.0031 - val_accuracy: 0.9981 - lr: 1.0000e-05\n",
            "Epoch 24/100\n",
            "211/211 [==============================] - ETA: 0s - loss: 0.0033 - accuracy: 0.9993\n",
            "Epoch 24: val_accuracy did not improve from 1.00000\n",
            "211/211 [==============================] - 34s 162ms/step - loss: 0.0033 - accuracy: 0.9993 - val_loss: 0.0019 - val_accuracy: 0.9981 - lr: 1.0000e-05\n",
            "Epoch 25/100\n",
            "211/211 [==============================] - ETA: 0s - loss: 0.0012 - accuracy: 0.9998\n",
            "Epoch 25: val_accuracy did not improve from 1.00000\n",
            "211/211 [==============================] - 35s 165ms/step - loss: 0.0012 - accuracy: 0.9998 - val_loss: 0.0015 - val_accuracy: 0.9987 - lr: 1.0000e-05\n",
            "Epoch 26/100\n",
            "211/211 [==============================] - ETA: 0s - loss: 0.0068 - accuracy: 0.9988\n",
            "Epoch 26: val_accuracy did not improve from 1.00000\n",
            "\n",
            "Epoch 26: ReduceLROnPlateau reducing learning rate to 1.0000000656873453e-06.\n",
            "211/211 [==============================] - 34s 161ms/step - loss: 0.0068 - accuracy: 0.9988 - val_loss: 0.0013 - val_accuracy: 0.9994 - lr: 1.0000e-05\n",
            "Epoch 27/100\n",
            "211/211 [==============================] - ETA: 0s - loss: 0.0017 - accuracy: 0.9995\n",
            "Epoch 27: val_accuracy did not improve from 1.00000\n",
            "211/211 [==============================] - 34s 158ms/step - loss: 0.0017 - accuracy: 0.9995 - val_loss: 0.0012 - val_accuracy: 0.9994 - lr: 1.0000e-06\n",
            "Epoch 28/100\n",
            "211/211 [==============================] - ETA: 0s - loss: 0.0022 - accuracy: 0.9993\n",
            "Epoch 28: val_accuracy did not improve from 1.00000\n",
            "211/211 [==============================] - 33s 158ms/step - loss: 0.0022 - accuracy: 0.9993 - val_loss: 0.0011 - val_accuracy: 0.9994 - lr: 1.0000e-06\n",
            "Epoch 29/100\n",
            "211/211 [==============================] - ETA: 0s - loss: 0.0016 - accuracy: 0.9995\n",
            "Epoch 29: val_accuracy did not improve from 1.00000\n",
            "211/211 [==============================] - 35s 165ms/step - loss: 0.0016 - accuracy: 0.9995 - val_loss: 0.0011 - val_accuracy: 0.9994 - lr: 1.0000e-06\n",
            "Epoch 30/100\n",
            "211/211 [==============================] - ETA: 0s - loss: 0.0029 - accuracy: 0.9995\n",
            "Epoch 30: val_accuracy did not improve from 1.00000\n",
            "211/211 [==============================] - 34s 162ms/step - loss: 0.0029 - accuracy: 0.9995 - val_loss: 0.0011 - val_accuracy: 0.9994 - lr: 1.0000e-06\n",
            "Epoch 31/100\n",
            "211/211 [==============================] - ETA: 0s - loss: 0.0023 - accuracy: 0.9990\n",
            "Epoch 31: val_accuracy did not improve from 1.00000\n",
            "Restoring model weights from the end of the best epoch: 11.\n",
            "\n",
            "Epoch 31: ReduceLROnPlateau reducing learning rate to 1.0000001111620805e-07.\n",
            "211/211 [==============================] - 35s 163ms/step - loss: 0.0023 - accuracy: 0.9990 - val_loss: 0.0010 - val_accuracy: 0.9994 - lr: 1.0000e-06\n",
            "Epoch 31: early stopping\n"
          ]
        }
      ],
      "source": [
        "# Define the number of epochs\n",
        "num_epochs = 100\n",
        "\n",
        "# Train the model\n",
        "history_MobileNetV2_model_1 = MobileNetV2_model.fit(train_generator, epochs=num_epochs, validation_data=validation_generator, callbacks=callbacks)"
      ]
    },
    {
      "cell_type": "code",
      "execution_count": 12,
      "metadata": {
        "colab": {
          "base_uri": "https://localhost:8080/",
          "height": 904
        },
        "id": "lvS9xz3LU2TI",
        "outputId": "48885a0c-321d-4ec1-e7d8-8811cdae9606",
        "tags": []
      },
      "outputs": [
        {
          "data": {
            "text/plain": [
              "<matplotlib.legend.Legend at 0x2ae769566e0>"
            ]
          },
          "execution_count": 12,
          "metadata": {},
          "output_type": "execute_result"
        },
        {
          "data": {
            "image/png": "[encoded data removed]",
            "text/plain": [
              "<Figure size 640x480 with 1 Axes>"
            ]
          },
          "metadata": {},
          "output_type": "display_data"
        },
        {
          "data": {
            "image/png": "[encoded data removed]",
            "text/plain": [
              "<Figure size 640x480 with 1 Axes>"
            ]
          },
          "metadata": {},
          "output_type": "display_data"
        }
      ],
      "source": [
        "#-----------------------------------------------------------\n",
        "# Retrieve a list of list results on training and test data\n",
        "# sets for each training epoch\n",
        "#-----------------------------------------------------------\n",
        "acc      = history_MobileNetV2_model_1.history['accuracy' ]\n",
        "val_acc  = history_MobileNetV2_model_1.history['val_accuracy' ]\n",
        "loss     = history_MobileNetV2_model_1.history['loss' ]\n",
        "val_loss = history_MobileNetV2_model_1.history['val_loss' ]\n",
        "\n",
        "epochs   = range(len(acc)) # Get number of epochs\n",
        "\n",
        "#------------------------------------------------\n",
        "# Plot training and validation accuracy per epoch\n",
        "#------------------------------------------------\n",
        "plt.plot  (epochs, acc )\n",
        "plt.plot  (epochs, val_acc )\n",
        "plt.title ('Training and validation accuracy MobileNetV2 Model 1')\n",
        "plt.legend(['train', 'val'], loc='upper left')\n",
        "plt.figure()\n",
        "\n",
        "#------------------------------------------------\n",
        "# Plot training and validation loss per epoch\n",
        "#------------------------------------------------\n",
        "plt.plot  (epochs, loss)\n",
        "plt.plot  (epochs, val_loss)\n",
        "plt.title ('Training and validation loss MobileNetV2 Model 1')\n",
        "plt.legend(['train', 'val'], loc='upper left')"
      ]
    },
    {
      "attachments": {},
      "cell_type": "markdown",
      "metadata": {
        "id": "SvQOR9IuU2TJ"
      },
      "source": [
        "## MobileNetV2 Model 2"
      ]
    },
    {
      "cell_type": "code",
      "execution_count": 13,
      "metadata": {
        "id": "Tj7lcdvUU2TJ",
        "tags": []
      },
      "outputs": [],
      "source": [
        "# Difine the callbacks\n",
        "# Save the best model\n",
        "checkpoint_callback = ModelCheckpoint(filepath=\"Cherry_MobileNetV2_model2_Based_Augmented\", save_best_only=True, monitor=\"val_accuracy\", mode=\"max\", verbose=1)\n",
        "\n",
        "# Early stopping\n",
        "early_stopping_callback = EarlyStopping(monitor=\"val_accuracy\", mode=\"max\", patience=20, verbose=1, restore_best_weights=True)\n",
        "\n",
        "# Reduce learning rate\n",
        "reduce_lr_callback = ReduceLROnPlateau(monitor=\"val_loss\", factor=0.1, patience=5, verbose=1, mode=\"min\", min_delta=0.0001, cooldown=0, min_lr=0)\n",
        "\n",
        "# Callbacks list\n",
        "callbacks=[checkpoint_callback, early_stopping_callback, reduce_lr_callback]"
      ]
    },
    {
      "cell_type": "code",
      "execution_count": 14,
      "metadata": {
        "colab": {
          "base_uri": "https://localhost:8080/"
        },
        "id": "7NKPY1xGU2TJ",
        "outputId": "7dd0f6cd-ee04-4def-da5c-16d6b748d041",
        "tags": []
      },
      "outputs": [
        {
          "name": "stdout",
          "output_type": "stream",
          "text": [
            "Model: \"sequential_1\"\n",
            "_________________________________________________________________\n",
            " Layer (type)                Output Shape              Param #   \n",
            "=================================================================\n",
            " mobilenetv2_1.00_224 (Funct  (None, 7, 7, 1280)       2257984   \n",
            " ional)                                                          \n",
            "                                                                 \n",
            " global_average_pooling2d (G  (None, 1280)             0         \n",
            " lobalAveragePooling2D)                                          \n",
            "                                                                 \n",
            " dropout_1 (Dropout)         (None, 1280)              0         \n",
            "                                                                 \n",
            " dense_2 (Dense)             (None, 256)               327936    \n",
            "                                                                 \n",
            " dense_3 (Dense)             (None, 2)                 514       \n",
            "                                                                 \n",
            "=================================================================\n",
            "Total params: 2,586,434\n",
            "Trainable params: 2,552,322\n",
            "Non-trainable params: 34,112\n",
            "_________________________________________________________________\n"
          ]
        }
      ],
      "source": [
        "# Define DIY Model\n",
        "MobileNetV2_model_2 = tf.keras.models.Sequential([\n",
        "    # MobileNetV2 Layer\n",
        "    MobileNetV2(include_top=False,weights='imagenet',input_shape=(224, 224, 3)),\n",
        "    # Global Average Pooling Layer\n",
        "    tf.keras.layers.GlobalAveragePooling2D(),\n",
        "    # Drop Out Layer\n",
        "    tf.keras.layers.Dropout(0.2),\n",
        "    # 256 neuron hidden layer\n",
        "    tf.keras.layers.Dense(256, activation='relu'),\n",
        "    # Output\n",
        "    tf.keras.layers.Dense(2, activation='softmax') \n",
        "  ])\n",
        "\n",
        "\n",
        "# Compile Model\n",
        "MobileNetV2_model_2.compile(loss='categorical_crossentropy',optimizer=tf.keras.optimizers.Adam(), metrics=['accuracy']) \n",
        "\n",
        "# Model Summary\n",
        "MobileNetV2_model_2.summary()"
      ]
    },
    {
      "cell_type": "code",
      "execution_count": 15,
      "metadata": {
        "colab": {
          "base_uri": "https://localhost:8080/"
        },
        "id": "6beuexC9U2TJ",
        "outputId": "7e9805fb-381c-4da3-e96d-d9368e19cb40",
        "tags": []
      },
      "outputs": [
        {
          "name": "stdout",
          "output_type": "stream",
          "text": [
            "Epoch 1/100\n",
            "211/211 [==============================] - ETA: 0s - loss: 0.0767 - accuracy: 0.9765\n",
            "Epoch 1: val_accuracy improved from -inf to 0.51525, saving model to Cherry_MobileNetV2_model2_Based_Augmented\n"
          ]
        },
        {
          "name": "stderr",
          "output_type": "stream",
          "text": [
            "WARNING:absl:Function `_wrapped_model` contains input name(s) mobilenetv2_1.00_224_input with unsupported characters which will be renamed to mobilenetv2_1_00_224_input in the SavedModel.\n",
            "WARNING:absl:Found untraced functions such as _jit_compiled_convolution_op, _jit_compiled_convolution_op, _jit_compiled_convolution_op, _jit_compiled_convolution_op, _jit_compiled_convolution_op while saving (showing 5 of 52). These functions will not be directly callable after loading.\n"
          ]
        },
        {
          "name": "stdout",
          "output_type": "stream",
          "text": [
            "INFO:tensorflow:Assets written to: Cherry_MobileNetV2_model2_Based_Augmented\\assets\n"
          ]
        },
        {
          "name": "stderr",
          "output_type": "stream",
          "text": [
            "INFO:tensorflow:Assets written to: Cherry_MobileNetV2_model2_Based_Augmented\\assets\n"
          ]
        },
        {
          "name": "stdout",
          "output_type": "stream",
          "text": [
            "211/211 [==============================] - 59s 260ms/step - loss: 0.0767 - accuracy: 0.9765 - val_loss: 22.0368 - val_accuracy: 0.5152 - lr: 0.0010\n",
            "Epoch 2/100\n",
            "211/211 [==============================] - ETA: 0s - loss: 0.0153 - accuracy: 0.9974\n",
            "Epoch 2: val_accuracy improved from 0.51525 to 0.57306, saving model to Cherry_MobileNetV2_model2_Based_Augmented\n"
          ]
        },
        {
          "name": "stderr",
          "output_type": "stream",
          "text": [
            "WARNING:absl:Function `_wrapped_model` contains input name(s) mobilenetv2_1.00_224_input with unsupported characters which will be renamed to mobilenetv2_1_00_224_input in the SavedModel.\n",
            "WARNING:absl:Found untraced functions such as _jit_compiled_convolution_op, _jit_compiled_convolution_op, _jit_compiled_convolution_op, _jit_compiled_convolution_op, _jit_compiled_convolution_op while saving (showing 5 of 52). These functions will not be directly callable after loading.\n"
          ]
        },
        {
          "name": "stdout",
          "output_type": "stream",
          "text": [
            "INFO:tensorflow:Assets written to: Cherry_MobileNetV2_model2_Based_Augmented\\assets\n"
          ]
        },
        {
          "name": "stderr",
          "output_type": "stream",
          "text": [
            "INFO:tensorflow:Assets written to: Cherry_MobileNetV2_model2_Based_Augmented\\assets\n"
          ]
        },
        {
          "name": "stdout",
          "output_type": "stream",
          "text": [
            "211/211 [==============================] - 53s 251ms/step - loss: 0.0153 - accuracy: 0.9974 - val_loss: 3.5008 - val_accuracy: 0.5731 - lr: 0.0010\n",
            "Epoch 3/100\n",
            "211/211 [==============================] - ETA: 0s - loss: 0.0339 - accuracy: 0.9938\n",
            "Epoch 3: val_accuracy improved from 0.57306 to 0.67853, saving model to Cherry_MobileNetV2_model2_Based_Augmented\n"
          ]
        },
        {
          "name": "stderr",
          "output_type": "stream",
          "text": [
            "WARNING:absl:Function `_wrapped_model` contains input name(s) mobilenetv2_1.00_224_input with unsupported characters which will be renamed to mobilenetv2_1_00_224_input in the SavedModel.\n",
            "WARNING:absl:Found untraced functions such as _jit_compiled_convolution_op, _jit_compiled_convolution_op, _jit_compiled_convolution_op, _jit_compiled_convolution_op, _jit_compiled_convolution_op while saving (showing 5 of 52). These functions will not be directly callable after loading.\n"
          ]
        },
        {
          "name": "stdout",
          "output_type": "stream",
          "text": [
            "INFO:tensorflow:Assets written to: Cherry_MobileNetV2_model2_Based_Augmented\\assets\n"
          ]
        },
        {
          "name": "stderr",
          "output_type": "stream",
          "text": [
            "INFO:tensorflow:Assets written to: Cherry_MobileNetV2_model2_Based_Augmented\\assets\n"
          ]
        },
        {
          "name": "stdout",
          "output_type": "stream",
          "text": [
            "211/211 [==============================] - 61s 287ms/step - loss: 0.0339 - accuracy: 0.9938 - val_loss: 5.1038 - val_accuracy: 0.6785 - lr: 0.0010\n",
            "Epoch 4/100\n",
            "211/211 [==============================] - ETA: 0s - loss: 0.0092 - accuracy: 0.9967\n",
            "Epoch 4: val_accuracy improved from 0.67853 to 0.84562, saving model to Cherry_MobileNetV2_model2_Based_Augmented\n"
          ]
        },
        {
          "name": "stderr",
          "output_type": "stream",
          "text": [
            "WARNING:absl:Function `_wrapped_model` contains input name(s) mobilenetv2_1.00_224_input with unsupported characters which will be renamed to mobilenetv2_1_00_224_input in the SavedModel.\n",
            "WARNING:absl:Found untraced functions such as _jit_compiled_convolution_op, _jit_compiled_convolution_op, _jit_compiled_convolution_op, _jit_compiled_convolution_op, _jit_compiled_convolution_op while saving (showing 5 of 52). These functions will not be directly callable after loading.\n"
          ]
        },
        {
          "name": "stdout",
          "output_type": "stream",
          "text": [
            "INFO:tensorflow:Assets written to: Cherry_MobileNetV2_model2_Based_Augmented\\assets\n"
          ]
        },
        {
          "name": "stderr",
          "output_type": "stream",
          "text": [
            "INFO:tensorflow:Assets written to: Cherry_MobileNetV2_model2_Based_Augmented\\assets\n"
          ]
        },
        {
          "name": "stdout",
          "output_type": "stream",
          "text": [
            "211/211 [==============================] - 57s 269ms/step - loss: 0.0092 - accuracy: 0.9967 - val_loss: 2.0548 - val_accuracy: 0.8456 - lr: 0.0010\n",
            "Epoch 5/100\n",
            "211/211 [==============================] - ETA: 0s - loss: 0.0052 - accuracy: 0.9986\n",
            "Epoch 5: val_accuracy did not improve from 0.84562\n",
            "211/211 [==============================] - 47s 222ms/step - loss: 0.0052 - accuracy: 0.9986 - val_loss: 7.8215 - val_accuracy: 0.6779 - lr: 0.0010\n",
            "Epoch 6/100\n",
            "211/211 [==============================] - ETA: 0s - loss: 0.0335 - accuracy: 0.9898\n",
            "Epoch 6: val_accuracy did not improve from 0.84562\n",
            "211/211 [==============================] - 46s 218ms/step - loss: 0.0335 - accuracy: 0.9898 - val_loss: 4.6346 - val_accuracy: 0.7757 - lr: 0.0010\n",
            "Epoch 7/100\n",
            "211/211 [==============================] - ETA: 0s - loss: 0.0078 - accuracy: 0.9971\n",
            "Epoch 7: val_accuracy did not improve from 0.84562\n",
            "211/211 [==============================] - 39s 184ms/step - loss: 0.0078 - accuracy: 0.9971 - val_loss: 9.3445 - val_accuracy: 0.6436 - lr: 0.0010\n",
            "Epoch 8/100\n",
            "211/211 [==============================] - ETA: 0s - loss: 0.0131 - accuracy: 0.9967\n",
            "Epoch 8: val_accuracy improved from 0.84562 to 0.91233, saving model to Cherry_MobileNetV2_model2_Based_Augmented\n"
          ]
        },
        {
          "name": "stderr",
          "output_type": "stream",
          "text": [
            "WARNING:absl:Function `_wrapped_model` contains input name(s) mobilenetv2_1.00_224_input with unsupported characters which will be renamed to mobilenetv2_1_00_224_input in the SavedModel.\n",
            "WARNING:absl:Found untraced functions such as _jit_compiled_convolution_op, _jit_compiled_convolution_op, _jit_compiled_convolution_op, _jit_compiled_convolution_op, _jit_compiled_convolution_op while saving (showing 5 of 52). These functions will not be directly callable after loading.\n"
          ]
        },
        {
          "name": "stdout",
          "output_type": "stream",
          "text": [
            "INFO:tensorflow:Assets written to: Cherry_MobileNetV2_model2_Based_Augmented\\assets\n"
          ]
        },
        {
          "name": "stderr",
          "output_type": "stream",
          "text": [
            "INFO:tensorflow:Assets written to: Cherry_MobileNetV2_model2_Based_Augmented\\assets\n"
          ]
        },
        {
          "name": "stdout",
          "output_type": "stream",
          "text": [
            "211/211 [==============================] - 59s 282ms/step - loss: 0.0131 - accuracy: 0.9967 - val_loss: 1.9304 - val_accuracy: 0.9123 - lr: 0.0010\n",
            "Epoch 9/100\n",
            "211/211 [==============================] - ETA: 0s - loss: 0.0533 - accuracy: 0.9891\n",
            "Epoch 9: val_accuracy did not improve from 0.91233\n",
            "211/211 [==============================] - 44s 206ms/step - loss: 0.0533 - accuracy: 0.9891 - val_loss: 1.2830 - val_accuracy: 0.8177 - lr: 0.0010\n",
            "Epoch 10/100\n",
            "211/211 [==============================] - ETA: 0s - loss: 0.0146 - accuracy: 0.9960\n",
            "Epoch 10: val_accuracy did not improve from 0.91233\n",
            "211/211 [==============================] - 49s 233ms/step - loss: 0.0146 - accuracy: 0.9960 - val_loss: 3.6938 - val_accuracy: 0.8056 - lr: 0.0010\n",
            "Epoch 11/100\n",
            "211/211 [==============================] - ETA: 0s - loss: 0.0055 - accuracy: 0.9986\n",
            "Epoch 11: val_accuracy improved from 0.91233 to 0.94790, saving model to Cherry_MobileNetV2_model2_Based_Augmented\n"
          ]
        },
        {
          "name": "stderr",
          "output_type": "stream",
          "text": [
            "WARNING:absl:Function `_wrapped_model` contains input name(s) mobilenetv2_1.00_224_input with unsupported characters which will be renamed to mobilenetv2_1_00_224_input in the SavedModel.\n",
            "WARNING:absl:Found untraced functions such as _jit_compiled_convolution_op, _jit_compiled_convolution_op, _jit_compiled_convolution_op, _jit_compiled_convolution_op, _jit_compiled_convolution_op while saving (showing 5 of 52). These functions will not be directly callable after loading.\n"
          ]
        },
        {
          "name": "stdout",
          "output_type": "stream",
          "text": [
            "INFO:tensorflow:Assets written to: Cherry_MobileNetV2_model2_Based_Augmented\\assets\n"
          ]
        },
        {
          "name": "stderr",
          "output_type": "stream",
          "text": [
            "INFO:tensorflow:Assets written to: Cherry_MobileNetV2_model2_Based_Augmented\\assets\n"
          ]
        },
        {
          "name": "stdout",
          "output_type": "stream",
          "text": [
            "211/211 [==============================] - 63s 300ms/step - loss: 0.0055 - accuracy: 0.9986 - val_loss: 0.9364 - val_accuracy: 0.9479 - lr: 0.0010\n",
            "Epoch 12/100\n",
            "211/211 [==============================] - ETA: 0s - loss: 0.0033 - accuracy: 0.9990\n",
            "Epoch 12: val_accuracy did not improve from 0.94790\n",
            "211/211 [==============================] - 42s 199ms/step - loss: 0.0033 - accuracy: 0.9990 - val_loss: 0.9302 - val_accuracy: 0.9422 - lr: 0.0010\n",
            "Epoch 13/100\n",
            "211/211 [==============================] - ETA: 0s - loss: 9.2538e-04 - accuracy: 0.9998\n",
            "Epoch 13: val_accuracy improved from 0.94790 to 0.96442, saving model to Cherry_MobileNetV2_model2_Based_Augmented\n"
          ]
        },
        {
          "name": "stderr",
          "output_type": "stream",
          "text": [
            "WARNING:absl:Function `_wrapped_model` contains input name(s) mobilenetv2_1.00_224_input with unsupported characters which will be renamed to mobilenetv2_1_00_224_input in the SavedModel.\n",
            "WARNING:absl:Found untraced functions such as _jit_compiled_convolution_op, _jit_compiled_convolution_op, _jit_compiled_convolution_op, _jit_compiled_convolution_op, _jit_compiled_convolution_op while saving (showing 5 of 52). These functions will not be directly callable after loading.\n"
          ]
        },
        {
          "name": "stdout",
          "output_type": "stream",
          "text": [
            "INFO:tensorflow:Assets written to: Cherry_MobileNetV2_model2_Based_Augmented\\assets\n"
          ]
        },
        {
          "name": "stderr",
          "output_type": "stream",
          "text": [
            "INFO:tensorflow:Assets written to: Cherry_MobileNetV2_model2_Based_Augmented\\assets\n"
          ]
        },
        {
          "name": "stdout",
          "output_type": "stream",
          "text": [
            "211/211 [==============================] - 65s 309ms/step - loss: 9.2538e-04 - accuracy: 0.9998 - val_loss: 0.3948 - val_accuracy: 0.9644 - lr: 0.0010\n",
            "Epoch 14/100\n",
            "211/211 [==============================] - ETA: 0s - loss: 0.0018 - accuracy: 0.9993\n",
            "Epoch 14: val_accuracy did not improve from 0.96442\n",
            "211/211 [==============================] - 48s 223ms/step - loss: 0.0018 - accuracy: 0.9993 - val_loss: 2.3916 - val_accuracy: 0.8609 - lr: 0.0010\n",
            "Epoch 15/100\n",
            "211/211 [==============================] - ETA: 0s - loss: 0.0034 - accuracy: 0.9986\n",
            "Epoch 15: val_accuracy did not improve from 0.96442\n",
            "211/211 [==============================] - 49s 230ms/step - loss: 0.0034 - accuracy: 0.9986 - val_loss: 1.2768 - val_accuracy: 0.9314 - lr: 0.0010\n",
            "Epoch 16/100\n",
            "211/211 [==============================] - ETA: 0s - loss: 7.4004e-04 - accuracy: 0.9995\n",
            "Epoch 16: val_accuracy improved from 0.96442 to 0.97586, saving model to Cherry_MobileNetV2_model2_Based_Augmented\n"
          ]
        },
        {
          "name": "stderr",
          "output_type": "stream",
          "text": [
            "WARNING:absl:Function `_wrapped_model` contains input name(s) mobilenetv2_1.00_224_input with unsupported characters which will be renamed to mobilenetv2_1_00_224_input in the SavedModel.\n",
            "WARNING:absl:Found untraced functions such as _jit_compiled_convolution_op, _jit_compiled_convolution_op, _jit_compiled_convolution_op, _jit_compiled_convolution_op, _jit_compiled_convolution_op while saving (showing 5 of 52). These functions will not be directly callable after loading.\n"
          ]
        },
        {
          "name": "stdout",
          "output_type": "stream",
          "text": [
            "INFO:tensorflow:Assets written to: Cherry_MobileNetV2_model2_Based_Augmented\\assets\n"
          ]
        },
        {
          "name": "stderr",
          "output_type": "stream",
          "text": [
            "INFO:tensorflow:Assets written to: Cherry_MobileNetV2_model2_Based_Augmented\\assets\n"
          ]
        },
        {
          "name": "stdout",
          "output_type": "stream",
          "text": [
            "211/211 [==============================] - 65s 306ms/step - loss: 7.4004e-04 - accuracy: 0.9995 - val_loss: 0.2355 - val_accuracy: 0.9759 - lr: 0.0010\n",
            "Epoch 17/100\n",
            "211/211 [==============================] - ETA: 0s - loss: 0.0014 - accuracy: 0.9998\n",
            "Epoch 17: val_accuracy improved from 0.97586 to 0.99365, saving model to Cherry_MobileNetV2_model2_Based_Augmented\n"
          ]
        },
        {
          "name": "stderr",
          "output_type": "stream",
          "text": [
            "WARNING:absl:Function `_wrapped_model` contains input name(s) mobilenetv2_1.00_224_input with unsupported characters which will be renamed to mobilenetv2_1_00_224_input in the SavedModel.\n",
            "WARNING:absl:Found untraced functions such as _jit_compiled_convolution_op, _jit_compiled_convolution_op, _jit_compiled_convolution_op, _jit_compiled_convolution_op, _jit_compiled_convolution_op while saving (showing 5 of 52). These functions will not be directly callable after loading.\n"
          ]
        },
        {
          "name": "stdout",
          "output_type": "stream",
          "text": [
            "INFO:tensorflow:Assets written to: Cherry_MobileNetV2_model2_Based_Augmented\\assets\n"
          ]
        },
        {
          "name": "stderr",
          "output_type": "stream",
          "text": [
            "INFO:tensorflow:Assets written to: Cherry_MobileNetV2_model2_Based_Augmented\\assets\n"
          ]
        },
        {
          "name": "stdout",
          "output_type": "stream",
          "text": [
            "211/211 [==============================] - 60s 286ms/step - loss: 0.0014 - accuracy: 0.9998 - val_loss: 0.0333 - val_accuracy: 0.9936 - lr: 0.0010\n",
            "Epoch 18/100\n",
            "211/211 [==============================] - ETA: 0s - loss: 9.0345e-04 - accuracy: 0.9998\n",
            "Epoch 18: val_accuracy did not improve from 0.99365\n",
            "211/211 [==============================] - 45s 210ms/step - loss: 9.0345e-04 - accuracy: 0.9998 - val_loss: 0.0327 - val_accuracy: 0.9930 - lr: 0.0010\n",
            "Epoch 19/100\n",
            "211/211 [==============================] - ETA: 0s - loss: 5.8923e-04 - accuracy: 0.9998\n",
            "Epoch 19: val_accuracy improved from 0.99365 to 0.99619, saving model to Cherry_MobileNetV2_model2_Based_Augmented\n"
          ]
        },
        {
          "name": "stderr",
          "output_type": "stream",
          "text": [
            "WARNING:absl:Function `_wrapped_model` contains input name(s) mobilenetv2_1.00_224_input with unsupported characters which will be renamed to mobilenetv2_1_00_224_input in the SavedModel.\n",
            "WARNING:absl:Found untraced functions such as _jit_compiled_convolution_op, _jit_compiled_convolution_op, _jit_compiled_convolution_op, _jit_compiled_convolution_op, _jit_compiled_convolution_op while saving (showing 5 of 52). These functions will not be directly callable after loading.\n"
          ]
        },
        {
          "name": "stdout",
          "output_type": "stream",
          "text": [
            "INFO:tensorflow:Assets written to: Cherry_MobileNetV2_model2_Based_Augmented\\assets\n"
          ]
        },
        {
          "name": "stderr",
          "output_type": "stream",
          "text": [
            "INFO:tensorflow:Assets written to: Cherry_MobileNetV2_model2_Based_Augmented\\assets\n"
          ]
        },
        {
          "name": "stdout",
          "output_type": "stream",
          "text": [
            "211/211 [==============================] - 60s 283ms/step - loss: 5.8923e-04 - accuracy: 0.9998 - val_loss: 0.0114 - val_accuracy: 0.9962 - lr: 0.0010\n",
            "Epoch 20/100\n",
            "211/211 [==============================] - ETA: 0s - loss: 4.4828e-04 - accuracy: 0.9998\n",
            "Epoch 20: val_accuracy improved from 0.99619 to 1.00000, saving model to Cherry_MobileNetV2_model2_Based_Augmented\n"
          ]
        },
        {
          "name": "stderr",
          "output_type": "stream",
          "text": [
            "WARNING:absl:Function `_wrapped_model` contains input name(s) mobilenetv2_1.00_224_input with unsupported characters which will be renamed to mobilenetv2_1_00_224_input in the SavedModel.\n",
            "WARNING:absl:Found untraced functions such as _jit_compiled_convolution_op, _jit_compiled_convolution_op, _jit_compiled_convolution_op, _jit_compiled_convolution_op, _jit_compiled_convolution_op while saving (showing 5 of 52). These functions will not be directly callable after loading.\n"
          ]
        },
        {
          "name": "stdout",
          "output_type": "stream",
          "text": [
            "INFO:tensorflow:Assets written to: Cherry_MobileNetV2_model2_Based_Augmented\\assets\n"
          ]
        },
        {
          "name": "stderr",
          "output_type": "stream",
          "text": [
            "INFO:tensorflow:Assets written to: Cherry_MobileNetV2_model2_Based_Augmented\\assets\n"
          ]
        },
        {
          "name": "stdout",
          "output_type": "stream",
          "text": [
            "211/211 [==============================] - 59s 278ms/step - loss: 4.4828e-04 - accuracy: 0.9998 - val_loss: 2.7204e-04 - val_accuracy: 1.0000 - lr: 0.0010\n",
            "Epoch 21/100\n",
            "211/211 [==============================] - ETA: 0s - loss: 3.5561e-04 - accuracy: 0.9998\n",
            "Epoch 21: val_accuracy did not improve from 1.00000\n",
            "211/211 [==============================] - 41s 192ms/step - loss: 3.5561e-04 - accuracy: 0.9998 - val_loss: 3.5454e-04 - val_accuracy: 1.0000 - lr: 0.0010\n",
            "Epoch 22/100\n",
            "211/211 [==============================] - ETA: 0s - loss: 3.3453e-04 - accuracy: 0.9998\n",
            "Epoch 22: val_accuracy did not improve from 1.00000\n",
            "211/211 [==============================] - 42s 198ms/step - loss: 3.3453e-04 - accuracy: 0.9998 - val_loss: 4.6042e-04 - val_accuracy: 0.9994 - lr: 0.0010\n",
            "Epoch 23/100\n",
            "211/211 [==============================] - ETA: 0s - loss: 2.9956e-04 - accuracy: 0.9998\n",
            "Epoch 23: val_accuracy did not improve from 1.00000\n",
            "211/211 [==============================] - 42s 196ms/step - loss: 2.9956e-04 - accuracy: 0.9998 - val_loss: 3.5840e-04 - val_accuracy: 1.0000 - lr: 0.0010\n",
            "Epoch 24/100\n",
            "211/211 [==============================] - ETA: 0s - loss: 3.9174e-04 - accuracy: 0.9998\n",
            "Epoch 24: val_accuracy did not improve from 1.00000\n",
            "211/211 [==============================] - 45s 212ms/step - loss: 3.9174e-04 - accuracy: 0.9998 - val_loss: 0.0011 - val_accuracy: 0.9994 - lr: 0.0010\n",
            "Epoch 25/100\n",
            "211/211 [==============================] - ETA: 0s - loss: 0.0300 - accuracy: 0.9914\n",
            "Epoch 25: val_accuracy did not improve from 1.00000\n",
            "\n",
            "Epoch 25: ReduceLROnPlateau reducing learning rate to 0.00010000000474974513.\n",
            "211/211 [==============================] - 39s 185ms/step - loss: 0.0300 - accuracy: 0.9914 - val_loss: 25.2386 - val_accuracy: 0.5178 - lr: 0.0010\n",
            "Epoch 26/100\n",
            "211/211 [==============================] - ETA: 0s - loss: 0.0089 - accuracy: 0.9983\n",
            "Epoch 26: val_accuracy did not improve from 1.00000\n",
            "211/211 [==============================] - 41s 194ms/step - loss: 0.0089 - accuracy: 0.9983 - val_loss: 2.9519 - val_accuracy: 0.8564 - lr: 1.0000e-04\n",
            "Epoch 27/100\n",
            "211/211 [==============================] - ETA: 0s - loss: 0.0043 - accuracy: 0.9988\n",
            "Epoch 27: val_accuracy did not improve from 1.00000\n",
            "211/211 [==============================] - 43s 203ms/step - loss: 0.0043 - accuracy: 0.9988 - val_loss: 0.8104 - val_accuracy: 0.9409 - lr: 1.0000e-04\n",
            "Epoch 28/100\n",
            "211/211 [==============================] - ETA: 0s - loss: 0.0061 - accuracy: 0.9990\n",
            "Epoch 28: val_accuracy did not improve from 1.00000\n",
            "211/211 [==============================] - 43s 203ms/step - loss: 0.0061 - accuracy: 0.9990 - val_loss: 0.3563 - val_accuracy: 0.9695 - lr: 1.0000e-04\n",
            "Epoch 29/100\n",
            "211/211 [==============================] - ETA: 0s - loss: 0.0018 - accuracy: 0.9995\n",
            "Epoch 29: val_accuracy did not improve from 1.00000\n",
            "211/211 [==============================] - 40s 191ms/step - loss: 0.0018 - accuracy: 0.9995 - val_loss: 0.1411 - val_accuracy: 0.9828 - lr: 1.0000e-04\n",
            "Epoch 30/100\n",
            "211/211 [==============================] - ETA: 0s - loss: 2.8016e-04 - accuracy: 1.0000\n",
            "Epoch 30: val_accuracy did not improve from 1.00000\n",
            "\n",
            "Epoch 30: ReduceLROnPlateau reducing learning rate to 1.0000000474974514e-05.\n",
            "211/211 [==============================] - 38s 179ms/step - loss: 2.8016e-04 - accuracy: 1.0000 - val_loss: 0.0634 - val_accuracy: 0.9911 - lr: 1.0000e-04\n",
            "Epoch 31/100\n",
            "211/211 [==============================] - ETA: 0s - loss: 6.6391e-04 - accuracy: 0.9995\n",
            "Epoch 31: val_accuracy did not improve from 1.00000\n",
            "211/211 [==============================] - 38s 180ms/step - loss: 6.6391e-04 - accuracy: 0.9995 - val_loss: 0.0310 - val_accuracy: 0.9936 - lr: 1.0000e-05\n",
            "Epoch 32/100\n",
            "211/211 [==============================] - ETA: 0s - loss: 4.0359e-04 - accuracy: 1.0000\n",
            "Epoch 32: val_accuracy did not improve from 1.00000\n",
            "211/211 [==============================] - 41s 196ms/step - loss: 4.0359e-04 - accuracy: 1.0000 - val_loss: 0.0179 - val_accuracy: 0.9962 - lr: 1.0000e-05\n",
            "Epoch 33/100\n",
            "211/211 [==============================] - ETA: 0s - loss: 0.0018 - accuracy: 0.9995\n",
            "Epoch 33: val_accuracy did not improve from 1.00000\n",
            "211/211 [==============================] - 39s 184ms/step - loss: 0.0018 - accuracy: 0.9995 - val_loss: 0.0113 - val_accuracy: 0.9975 - lr: 1.0000e-05\n",
            "Epoch 34/100\n",
            "211/211 [==============================] - ETA: 0s - loss: 0.0053 - accuracy: 0.9993\n",
            "Epoch 34: val_accuracy did not improve from 1.00000\n",
            "211/211 [==============================] - 38s 181ms/step - loss: 0.0053 - accuracy: 0.9993 - val_loss: 0.0069 - val_accuracy: 0.9981 - lr: 1.0000e-05\n",
            "Epoch 35/100\n",
            "211/211 [==============================] - ETA: 0s - loss: 0.0011 - accuracy: 0.9995\n",
            "Epoch 35: val_accuracy did not improve from 1.00000\n",
            "\n",
            "Epoch 35: ReduceLROnPlateau reducing learning rate to 1.0000000656873453e-06.\n",
            "211/211 [==============================] - 39s 185ms/step - loss: 0.0011 - accuracy: 0.9995 - val_loss: 0.0048 - val_accuracy: 0.9987 - lr: 1.0000e-05\n",
            "Epoch 36/100\n",
            "211/211 [==============================] - ETA: 0s - loss: 0.0017 - accuracy: 0.9993\n",
            "Epoch 36: val_accuracy did not improve from 1.00000\n",
            "211/211 [==============================] - 38s 181ms/step - loss: 0.0017 - accuracy: 0.9993 - val_loss: 0.0033 - val_accuracy: 0.9994 - lr: 1.0000e-06\n",
            "Epoch 37/100\n",
            "211/211 [==============================] - ETA: 0s - loss: 4.8972e-04 - accuracy: 0.9998\n",
            "Epoch 37: val_accuracy did not improve from 1.00000\n",
            "211/211 [==============================] - 39s 182ms/step - loss: 4.8972e-04 - accuracy: 0.9998 - val_loss: 0.0025 - val_accuracy: 0.9994 - lr: 1.0000e-06\n",
            "Epoch 38/100\n",
            "211/211 [==============================] - ETA: 0s - loss: 0.0160 - accuracy: 0.9983\n",
            "Epoch 38: val_accuracy did not improve from 1.00000\n",
            "211/211 [==============================] - 39s 185ms/step - loss: 0.0160 - accuracy: 0.9983 - val_loss: 0.0020 - val_accuracy: 0.9994 - lr: 1.0000e-06\n",
            "Epoch 39/100\n",
            "211/211 [==============================] - ETA: 0s - loss: 7.3932e-04 - accuracy: 0.9998\n",
            "Epoch 39: val_accuracy did not improve from 1.00000\n",
            "211/211 [==============================] - 40s 190ms/step - loss: 7.3932e-04 - accuracy: 0.9998 - val_loss: 0.0017 - val_accuracy: 0.9994 - lr: 1.0000e-06\n",
            "Epoch 40/100\n",
            "211/211 [==============================] - ETA: 0s - loss: 0.0095 - accuracy: 0.9986\n",
            "Epoch 40: val_accuracy did not improve from 1.00000\n",
            "Restoring model weights from the end of the best epoch: 20.\n",
            "\n",
            "Epoch 40: ReduceLROnPlateau reducing learning rate to 1.0000001111620805e-07.\n",
            "211/211 [==============================] - 40s 190ms/step - loss: 0.0095 - accuracy: 0.9986 - val_loss: 0.0015 - val_accuracy: 0.9994 - lr: 1.0000e-06\n",
            "Epoch 40: early stopping\n"
          ]
        }
      ],
      "source": [
        "# Define the number of epochs\n",
        "num_epochs = 100\n",
        "\n",
        "# Train the model\n",
        "history_MobileNetV2_model_2 = MobileNetV2_model_2.fit(train_generator, epochs=num_epochs, validation_data=validation_generator, callbacks=callbacks)"
      ]
    },
    {
      "cell_type": "code",
      "execution_count": 16,
      "metadata": {
        "colab": {
          "base_uri": "https://localhost:8080/",
          "height": 904
        },
        "id": "3f1nmwUhU2TK",
        "outputId": "015e1454-ec9c-4f6d-8eb5-44eeda3c82f1",
        "tags": []
      },
      "outputs": [
        {
          "data": {
            "text/plain": [
              "<matplotlib.legend.Legend at 0x2af92c0fdc0>"
            ]
          },
          "execution_count": 16,
          "metadata": {},
          "output_type": "execute_result"
        },
        {
          "data": {
            "image/png": "[encoded data removed]",
            "text/plain": [
              "<Figure size 640x480 with 1 Axes>"
            ]
          },
          "metadata": {},
          "output_type": "display_data"
        },
        {
          "data": {
            "image/png": "[encoded data removed]",
            "text/plain": [
              "<Figure size 640x480 with 1 Axes>"
            ]
          },
          "metadata": {},
          "output_type": "display_data"
        }
      ],
      "source": [
        "#-----------------------------------------------------------\n",
        "# Retrieve a list of list results on training and test data\n",
        "# sets for each training epoch\n",
        "#-----------------------------------------------------------\n",
        "acc      = history_MobileNetV2_model_2.history['accuracy' ]\n",
        "val_acc  = history_MobileNetV2_model_2.history['val_accuracy' ]\n",
        "loss     = history_MobileNetV2_model_2.history['loss' ]\n",
        "val_loss = history_MobileNetV2_model_2.history['val_loss' ]\n",
        "\n",
        "epochs   = range(len(acc)) # Get number of epochs\n",
        "\n",
        "#------------------------------------------------\n",
        "# Plot training and validation accuracy per epoch\n",
        "#------------------------------------------------\n",
        "plt.plot  (epochs, acc )\n",
        "plt.plot  (epochs, val_acc )\n",
        "plt.title ('Training and validation accuracy MobileNetV2 Model 2')\n",
        "plt.legend(['train', 'val'], loc='upper left')\n",
        "plt.figure()\n",
        "\n",
        "#------------------------------------------------\n",
        "# Plot training and validation loss per epoch\n",
        "#------------------------------------------------\n",
        "plt.plot  (epochs, loss)\n",
        "plt.plot  (epochs, val_loss)\n",
        "plt.title ('Training and validation loss MobileNetV2 Model 2')\n",
        "plt.legend(['train', 'val'], loc='upper left')"
      ]
    }
  ],
  "metadata": {
    "accelerator": "GPU",
    "colab": {
      "gpuType": "T4",
      "provenance": []
    },
    "gpuClass": "standard",
    "kernelspec": {
      "display_name": "Python 3 (ipykernel)",
      "language": "python",
      "name": "python3"
    },
    "language_info": {
      "codemirror_mode": {
        "name": "ipython",
        "version": 3
      },
      "file_extension": ".py",
      "mimetype": "text/x-python",
      "name": "python",
      "nbconvert_exporter": "python",
      "pygments_lexer": "ipython3",
      "version": "3.10.0"
    }
  },
  "nbformat": 4,
  "nbformat_minor": 0
}
