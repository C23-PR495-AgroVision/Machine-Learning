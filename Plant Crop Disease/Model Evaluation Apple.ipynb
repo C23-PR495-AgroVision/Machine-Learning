{
 "cells": [
  {
   "attachments": {},
   "cell_type": "markdown",
   "metadata": {},
   "source": [
    "# Library"
   ]
  },
  {
   "cell_type": "code",
   "execution_count": 32,
   "metadata": {},
   "outputs": [],
   "source": [
    "# Library to dataset\n",
    "import os\n",
    "import zipfile\n",
    "import numpy as np\n",
    "import pandas as pd\n",
    "\n",
    "# Surpress Warnings\n",
    "import warnings\n",
    "warnings.filterwarnings('ignore')\n",
    "os.environ['TF_CPP_MIN_LOG_LEVEL'] = '3' \n",
    "# library visualization\n",
    "import matplotlib.pyplot as plt\n",
    "\n",
    "# Library Tensorflow\n",
    "import tensorflow as tf\n",
    "from tensorflow import keras\n",
    "from tensorflow.keras.preprocessing.image import ImageDataGenerator\n",
    "from tensorflow.keras.callbacks import ModelCheckpoint, EarlyStopping, ReduceLROnPlateau\n",
    "\n",
    "# Others\n",
    "import shutil\n",
    "import random"
   ]
  },
  {
   "attachments": {},
   "cell_type": "markdown",
   "metadata": {},
   "source": [
    "# Dataset"
   ]
  },
  {
   "cell_type": "code",
   "execution_count": 2,
   "metadata": {},
   "outputs": [
    {
     "name": "stdout",
     "output_type": "stream",
     "text": [
      "==========================Training Data====================\n",
      "Found 8014 files belonging to 4 classes.\n",
      "==========================Validation Data====================\n",
      "Found 1943 files belonging to 4 classes.\n"
     ]
    }
   ],
   "source": [
    "# Load dataset\n",
    "print(\"==========================Training Data====================\")\n",
    "train_data = tf.keras.preprocessing.image_dataset_from_directory(\n",
    "    \"Dataset/Apple/train\",\n",
    "    label_mode=\"categorical\",\n",
    "    class_names=['Apple Black rot', 'Apple Scab Leaf', 'Apple leaf Healthy', 'Apple rust leaf'],\n",
    "    color_mode=\"rgb\",\n",
    "    batch_size=1,\n",
    "    image_size=(256, 256),\n",
    "    shuffle=True,\n",
    "    seed=123\n",
    ")\n",
    "print(\"==========================Validation Data====================\")\n",
    "val_data = tf.keras.preprocessing.image_dataset_from_directory(\n",
    "    \"Dataset/Apple/valid\",\n",
    "    label_mode=\"categorical\",\n",
    "    class_names=['Apple Black rot', 'Apple Scab Leaf', 'Apple leaf Healthy', 'Apple rust leaf'],\n",
    "    color_mode=\"rgb\",\n",
    "    batch_size=1,\n",
    "    image_size=(256, 256),\n",
    "    shuffle=True,\n",
    "    seed=123\n",
    ")"
   ]
  },
  {
   "cell_type": "code",
   "execution_count": 3,
   "metadata": {},
   "outputs": [
    {
     "name": "stdout",
     "output_type": "stream",
     "text": [
      "Found 8014 images belonging to 4 classes.\n",
      "Found 1943 images belonging to 4 classes.\n"
     ]
    }
   ],
   "source": [
    "# All images will be rescaled by 1./255.\n",
    "train_datagen = ImageDataGenerator(rescale = 1.0/256.)\n",
    "test_datagen  = ImageDataGenerator(rescale = 1.0/256.)\n",
    "\n",
    "# --------------------\n",
    "# Flow training images in batches of 20 using train_datagen generator\n",
    "# --------------------\n",
    "train_generator = train_datagen.flow_from_directory(\"Dataset/Apple/train\",\n",
    "                                                    batch_size=20,\n",
    "                                                    class_mode='categorical',\n",
    "                                                    target_size=(224, 224))     \n",
    "# --------------------\n",
    "# Flow validation images in batches of 20 using test_datagen generator\n",
    "# --------------------\n",
    "validation_generator =  test_datagen.flow_from_directory(\"Dataset/Apple/valid\",\n",
    "                                                         batch_size=20,\n",
    "                                                         class_mode  = 'categorical',\n",
    "                                                         target_size = (224, 224))"
   ]
  },
  {
   "attachments": {},
   "cell_type": "markdown",
   "metadata": {},
   "source": [
    "# Model Non Augmented Evaluating"
   ]
  },
  {
   "attachments": {},
   "cell_type": "markdown",
   "metadata": {},
   "source": [
    "## Model Dense121 Version 1 Apple Non Augmented"
   ]
  },
  {
   "cell_type": "code",
   "execution_count": 4,
   "metadata": {},
   "outputs": [],
   "source": [
    "# Load model\n",
    "Dense_Non_Aug1 = tf.keras.models.load_model('Modelling/Apple/Non Augmented/Saved Model/Apple_DenseNet_model1_Based_Non_Augmented')"
   ]
  },
  {
   "cell_type": "code",
   "execution_count": 5,
   "metadata": {},
   "outputs": [
    {
     "name": "stdout",
     "output_type": "stream",
     "text": [
      "==========================Evaluate Model====================\n",
      "98/98 [==============================] - 14s 65ms/step - loss: 0.0020 - accuracy: 0.9995\n",
      "Accuracy: 99.948531%\n",
      "Loss: 0.203073%\n"
     ]
    }
   ],
   "source": [
    "# evaluate model\n",
    "print(\"==========================Evaluate Model====================\")\n",
    "scores_Dense_Non_Aug1 = Dense_Non_Aug1.evaluate(validation_generator, verbose=1)\n",
    "print(\"Accuracy: %.6f%%\" % (scores_Dense_Non_Aug1[1]*100))\n",
    "print(\"Loss: %.6f%%\" % (scores_Dense_Non_Aug1[0]*100))"
   ]
  },
  {
   "attachments": {},
   "cell_type": "markdown",
   "metadata": {},
   "source": [
    "## Model Dense121 Version 2 Apple Non Augmented"
   ]
  },
  {
   "cell_type": "code",
   "execution_count": 6,
   "metadata": {},
   "outputs": [],
   "source": [
    "# Load model\n",
    "Dense_Non_Aug2 = tf.keras.models.load_model('Modelling/Apple/Non Augmented/Saved Model/Apple_DenseNet_model2_Based_Non_Augmented')"
   ]
  },
  {
   "cell_type": "code",
   "execution_count": 7,
   "metadata": {},
   "outputs": [
    {
     "name": "stdout",
     "output_type": "stream",
     "text": [
      "==========================Evaluate Model====================\n",
      "98/98 [==============================] - 7s 52ms/step - loss: 0.0027 - accuracy: 0.9995\n",
      "Accuracy: 99.948531%\n",
      "Loss: 0.269655%\n"
     ]
    }
   ],
   "source": [
    "# evaluate model\n",
    "print(\"==========================Evaluate Model====================\")\n",
    "scores_Dense_Non_Aug2 = Dense_Non_Aug2.evaluate(validation_generator, verbose=1)\n",
    "print(\"Accuracy: %.6f%%\" % (scores_Dense_Non_Aug2[1]*100))\n",
    "print(\"Loss: %.6f%%\" % (scores_Dense_Non_Aug2[0]*100))"
   ]
  },
  {
   "attachments": {},
   "cell_type": "markdown",
   "metadata": {},
   "source": [
    "## MobileNet V2 Version 1 Apple Non Augmented"
   ]
  },
  {
   "cell_type": "code",
   "execution_count": 8,
   "metadata": {},
   "outputs": [],
   "source": [
    "# Load model\n",
    "Mobile_Non_Aug1 = tf.keras.models.load_model('Modelling/Apple/Non Augmented/Saved Model/Apple_MobileNetV2_model1_Based_Non_Augmented')"
   ]
  },
  {
   "cell_type": "code",
   "execution_count": 9,
   "metadata": {},
   "outputs": [
    {
     "name": "stdout",
     "output_type": "stream",
     "text": [
      "==========================Evaluate Model====================\n",
      "98/98 [==============================] - 4s 27ms/step - loss: 0.0050 - accuracy: 0.9995\n",
      "Accuracy: 99.948531%\n",
      "Loss: 0.504936%\n"
     ]
    }
   ],
   "source": [
    "# evaluate model\n",
    "print(\"==========================Evaluate Model====================\")\n",
    "scores_Mobile_Non_Aug1 = Mobile_Non_Aug1.evaluate(validation_generator, verbose=1)\n",
    "print(\"Accuracy: %.6f%%\" % (scores_Mobile_Non_Aug1[1]*100))\n",
    "print(\"Loss: %.6f%%\" % (scores_Mobile_Non_Aug1[0]*100))"
   ]
  },
  {
   "attachments": {},
   "cell_type": "markdown",
   "metadata": {},
   "source": [
    "## MobileNet V2 Version 2 Apple Non Augmented"
   ]
  },
  {
   "cell_type": "code",
   "execution_count": 10,
   "metadata": {},
   "outputs": [],
   "source": [
    "# Load model\n",
    "Mobile_Non_Aug2 = tf.keras.models.load_model('Modelling/Apple/Non Augmented/Saved Model/Apple_MobileNetV2_model2_Based_Non_Augmented')"
   ]
  },
  {
   "cell_type": "code",
   "execution_count": 11,
   "metadata": {},
   "outputs": [
    {
     "name": "stdout",
     "output_type": "stream",
     "text": [
      "==========================Evaluate Model====================\n",
      "98/98 [==============================] - 4s 24ms/step - loss: 8.7958e-04 - accuracy: 1.0000\n",
      "Accuracy: 100.000000%\n",
      "Loss: 0.087958%\n"
     ]
    }
   ],
   "source": [
    "# evaluate model\n",
    "print(\"==========================Evaluate Model====================\")\n",
    "scores_Mobile_Non_Aug2 = Mobile_Non_Aug2.evaluate(validation_generator, verbose=1)\n",
    "print(\"Accuracy: %.6f%%\" % (scores_Mobile_Non_Aug2[1]*100))\n",
    "print(\"Loss: %.6f%%\" % (scores_Mobile_Non_Aug2[0]*100))"
   ]
  },
  {
   "attachments": {},
   "cell_type": "markdown",
   "metadata": {},
   "source": [
    "## DIY Version 1 Apple Non Augmented"
   ]
  },
  {
   "cell_type": "code",
   "execution_count": 12,
   "metadata": {},
   "outputs": [],
   "source": [
    "# Load model\n",
    "DIY_Non_Aug1 = tf.keras.models.load_model('Modelling/Apple/Non Augmented/Saved Model/Apple_DIY_model1_Based_Non_Augmented')"
   ]
  },
  {
   "cell_type": "code",
   "execution_count": 13,
   "metadata": {},
   "outputs": [
    {
     "name": "stdout",
     "output_type": "stream",
     "text": [
      "==========================Evaluate Model====================\n",
      "98/98 [==============================] - 3s 24ms/step - loss: 0.1253 - accuracy: 0.9696\n",
      "Accuracy: 96.963459%\n",
      "Loss: 12.530047%\n"
     ]
    }
   ],
   "source": [
    "# evaluate model\n",
    "print(\"==========================Evaluate Model====================\")\n",
    "scores_DIY_Non_Aug1 = DIY_Non_Aug1.evaluate(validation_generator, verbose=1)\n",
    "print(\"Accuracy: %.6f%%\" % (scores_DIY_Non_Aug1[1]*100))\n",
    "print(\"Loss: %.6f%%\" % (scores_DIY_Non_Aug1[0]*100))"
   ]
  },
  {
   "attachments": {},
   "cell_type": "markdown",
   "metadata": {},
   "source": [
    "## DIY Version 2 Apple Non Augmented"
   ]
  },
  {
   "cell_type": "code",
   "execution_count": 14,
   "metadata": {},
   "outputs": [],
   "source": [
    "# Load model\n",
    "DIY_Non_Aug2 = tf.keras.models.load_model('Modelling/Apple/Non Augmented/Saved Model/Apple_DIY_model2_Based_Non_Augmented')"
   ]
  },
  {
   "cell_type": "code",
   "execution_count": 15,
   "metadata": {},
   "outputs": [
    {
     "name": "stdout",
     "output_type": "stream",
     "text": [
      "==========================Evaluate Model====================\n",
      "98/98 [==============================] - 2s 23ms/step - loss: 0.1356 - accuracy: 0.9789\n",
      "Accuracy: 97.889858%\n",
      "Loss: 13.558988%\n"
     ]
    }
   ],
   "source": [
    "# evaluate model\n",
    "print(\"==========================Evaluate Model====================\")\n",
    "scores_DIY_Non_Aug2 = DIY_Non_Aug2.evaluate(validation_generator, verbose=1)\n",
    "print(\"Accuracy: %.6f%%\" % (scores_DIY_Non_Aug2[1]*100))\n",
    "print(\"Loss: %.6f%%\" % (scores_DIY_Non_Aug2[0]*100))"
   ]
  },
  {
   "attachments": {},
   "cell_type": "markdown",
   "metadata": {},
   "source": [
    "## Xception Version 1 Apple Non Augmented"
   ]
  },
  {
   "cell_type": "code",
   "execution_count": 16,
   "metadata": {},
   "outputs": [],
   "source": [
    "# Load model\n",
    "Xception_Non_Aug1 = tf.keras.models.load_model(\"Modelling/Apple/Non Augmented/Saved Model/Apple_Xception_model1_Based_Non_Augmented.h5\", compile=False)\n",
    "Xception_Non_Aug1.compile(optimizer='adam', loss='categorical_crossentropy', metrics=['accuracy'])"
   ]
  },
  {
   "cell_type": "code",
   "execution_count": 17,
   "metadata": {},
   "outputs": [
    {
     "name": "stdout",
     "output_type": "stream",
     "text": [
      "==========================Evaluate Model====================\n",
      "98/98 [==============================] - 7s 60ms/step - loss: 6.2604e-04 - accuracy: 1.0000\n",
      "Accuracy: 100.000000%\n",
      "Loss: 0.062604%\n"
     ]
    }
   ],
   "source": [
    "# evaluate model\n",
    "print(\"==========================Evaluate Model====================\")\n",
    "scores_Xception_Non_Aug1 = Xception_Non_Aug1.evaluate(validation_generator, verbose=1)\n",
    "print(\"Accuracy: %.6f%%\" % (scores_Xception_Non_Aug1[1]*100))\n",
    "print(\"Loss: %.6f%%\" % (scores_Xception_Non_Aug1[0]*100))"
   ]
  },
  {
   "attachments": {},
   "cell_type": "markdown",
   "metadata": {},
   "source": [
    "## Xception Version 2 Apple Non Augmented"
   ]
  },
  {
   "cell_type": "code",
   "execution_count": 18,
   "metadata": {},
   "outputs": [],
   "source": [
    "# Load model\n",
    "Xception_Non_Aug2 = tf.keras.models.load_model(\"Modelling/Apple/Non Augmented/Saved Model/Apple_Xception_model2_Based_Non_Augmented.h5\", compile=False)\n",
    "Xception_Non_Aug2.compile(optimizer='adam', loss='categorical_crossentropy', metrics=['accuracy'])"
   ]
  },
  {
   "cell_type": "code",
   "execution_count": 19,
   "metadata": {},
   "outputs": [
    {
     "name": "stdout",
     "output_type": "stream",
     "text": [
      "==========================Evaluate Model====================\n",
      "98/98 [==============================] - 7s 57ms/step - loss: 3.3828e-04 - accuracy: 1.0000\n",
      "Accuracy: 100.000000%\n",
      "Loss: 0.033828%\n"
     ]
    }
   ],
   "source": [
    "# evaluate model\n",
    "print(\"==========================Evaluate Model====================\")\n",
    "scores_Xception_Non_Aug2 = Xception_Non_Aug2.evaluate(validation_generator, verbose=1)\n",
    "print(\"Accuracy: %.6f%%\" % (scores_Xception_Non_Aug2[1]*100))\n",
    "print(\"Loss: %.6f%%\" % (scores_Xception_Non_Aug2[0]*100))"
   ]
  },
  {
   "attachments": {},
   "cell_type": "markdown",
   "metadata": {},
   "source": [
    "# Model Augmented Evaluating"
   ]
  },
  {
   "attachments": {},
   "cell_type": "markdown",
   "metadata": {},
   "source": [
    "## Model Dense121 Version 1 Apple Augmented"
   ]
  },
  {
   "cell_type": "code",
   "execution_count": 20,
   "metadata": {},
   "outputs": [],
   "source": [
    "# Load model\n",
    "Dense_Aug1 = tf.keras.models.load_model('Modelling/Apple/Augmented/Saved Model/Apple_DenseNet_model1_Based_Augmented')"
   ]
  },
  {
   "cell_type": "code",
   "execution_count": 21,
   "metadata": {},
   "outputs": [
    {
     "name": "stdout",
     "output_type": "stream",
     "text": [
      "==========================Evaluate Model====================\n",
      "98/98 [==============================] - 7s 49ms/step - loss: 6.5032e-04 - accuracy: 1.0000\n",
      "Accuracy: 100.000000%\n",
      "Loss: 0.065032%\n"
     ]
    }
   ],
   "source": [
    "# evaluate model\n",
    "print(\"==========================Evaluate Model====================\")\n",
    "scores_Dense_Aug1 = Dense_Aug1.evaluate(validation_generator, verbose=1)\n",
    "print(\"Accuracy: %.6f%%\" % (scores_Dense_Aug1[1]*100))\n",
    "print(\"Loss: %.6f%%\" % (scores_Dense_Aug1[0]*100))"
   ]
  },
  {
   "attachments": {},
   "cell_type": "markdown",
   "metadata": {},
   "source": [
    "## Model Dense121 Version 2 Apple Augmented"
   ]
  },
  {
   "cell_type": "code",
   "execution_count": 22,
   "metadata": {},
   "outputs": [],
   "source": [
    "# Load model\n",
    "Dense_Aug2 = tf.keras.models.load_model('Modelling/Apple/Augmented/Saved Model/Apple_DenseNet_model2_Based_Augmented')"
   ]
  },
  {
   "cell_type": "code",
   "execution_count": 23,
   "metadata": {},
   "outputs": [
    {
     "name": "stdout",
     "output_type": "stream",
     "text": [
      "==========================Evaluate Model====================\n",
      "98/98 [==============================] - 6s 50ms/step - loss: 6.7528e-04 - accuracy: 1.0000\n",
      "Accuracy: 100.000000%\n",
      "Loss: 0.067528%\n"
     ]
    }
   ],
   "source": [
    "# evaluate model\n",
    "print(\"==========================Evaluate Model====================\")\n",
    "scores_Dense_Aug2 = Dense_Aug2.evaluate(validation_generator, verbose=1)\n",
    "print(\"Accuracy: %.6f%%\" % (scores_Dense_Aug2[1]*100))\n",
    "print(\"Loss: %.6f%%\" % (scores_Dense_Aug2[0]*100))"
   ]
  },
  {
   "attachments": {},
   "cell_type": "markdown",
   "metadata": {},
   "source": [
    "## MobileNet V2 Version 1 Apple Non Augmented"
   ]
  },
  {
   "cell_type": "code",
   "execution_count": 24,
   "metadata": {},
   "outputs": [],
   "source": [
    "# Load model\n",
    "Mobile_Aug1 = tf.keras.models.load_model('Modelling/Apple/Augmented/Saved Model/Apple_MobileNetV2_model1_Based_Augmented')"
   ]
  },
  {
   "cell_type": "code",
   "execution_count": 25,
   "metadata": {},
   "outputs": [
    {
     "name": "stdout",
     "output_type": "stream",
     "text": [
      "==========================Evaluate Model====================\n",
      "98/98 [==============================] - 5s 32ms/step - loss: 0.0010 - accuracy: 1.0000\n",
      "Accuracy: 100.000000%\n",
      "Loss: 0.102580%\n"
     ]
    }
   ],
   "source": [
    "# evaluate model\n",
    "print(\"==========================Evaluate Model====================\")\n",
    "scores_Mobile_Aug1 = Mobile_Aug1.evaluate(validation_generator, verbose=1)\n",
    "print(\"Accuracy: %.6f%%\" % (scores_Mobile_Aug1[1]*100))\n",
    "print(\"Loss: %.6f%%\" % (scores_Mobile_Aug1[0]*100))"
   ]
  },
  {
   "attachments": {},
   "cell_type": "markdown",
   "metadata": {},
   "source": [
    "## MobileNet V2 Version 2 Apple Non Augmented"
   ]
  },
  {
   "cell_type": "code",
   "execution_count": 26,
   "metadata": {},
   "outputs": [],
   "source": [
    "# Load model\n",
    "Mobile_Aug2 = tf.keras.models.load_model('Modelling/Apple/Augmented/Saved Model/Apple_MobileNetV2_model2_Based_Augmented')"
   ]
  },
  {
   "cell_type": "code",
   "execution_count": 27,
   "metadata": {},
   "outputs": [
    {
     "name": "stdout",
     "output_type": "stream",
     "text": [
      "==========================Evaluate Model====================\n",
      "98/98 [==============================] - 3s 26ms/step - loss: 2.9702e-04 - accuracy: 1.0000\n",
      "Accuracy: 100.000000%\n",
      "Loss: 0.029702%\n"
     ]
    }
   ],
   "source": [
    "# evaluate model\n",
    "print(\"==========================Evaluate Model====================\")\n",
    "scores_Mobile_Aug2 = Mobile_Aug2.evaluate(validation_generator, verbose=1)\n",
    "print(\"Accuracy: %.6f%%\" % (scores_Mobile_Aug2[1]*100))\n",
    "print(\"Loss: %.6f%%\" % (scores_Mobile_Aug2[0]*100))"
   ]
  },
  {
   "attachments": {},
   "cell_type": "markdown",
   "metadata": {},
   "source": [
    "## Xception Version 1 Apple Augmented"
   ]
  },
  {
   "cell_type": "code",
   "execution_count": 28,
   "metadata": {},
   "outputs": [],
   "source": [
    "# Load model\n",
    "Xception_Aug1 = tf.keras.models.load_model(\"Modelling/Apple/Augmented/Saved Model/Apple_Xception_model1_Based_Augmented.h5\", compile=False)\n",
    "Xception_Aug1.compile(optimizer='adam', loss='categorical_crossentropy', metrics=['accuracy'])"
   ]
  },
  {
   "cell_type": "code",
   "execution_count": 29,
   "metadata": {},
   "outputs": [
    {
     "name": "stdout",
     "output_type": "stream",
     "text": [
      "==========================Evaluate Model====================\n",
      "98/98 [==============================] - 7s 58ms/step - loss: 4.1190e-04 - accuracy: 1.0000\n",
      "Accuracy: 100.000000%\n",
      "Loss: 0.041190%\n"
     ]
    }
   ],
   "source": [
    "# evaluate model\n",
    "print(\"==========================Evaluate Model====================\")\n",
    "scores_Xception_Aug1 = Xception_Aug1.evaluate(validation_generator, verbose=1)\n",
    "print(\"Accuracy: %.6f%%\" % (scores_Xception_Aug1[1]*100))\n",
    "print(\"Loss: %.6f%%\" % (scores_Xception_Aug1[0]*100))"
   ]
  },
  {
   "attachments": {},
   "cell_type": "markdown",
   "metadata": {},
   "source": [
    "## Xception Version 2 Apple Augmented"
   ]
  },
  {
   "cell_type": "code",
   "execution_count": 30,
   "metadata": {},
   "outputs": [],
   "source": [
    "# Load model\n",
    "Xception_Aug2 = tf.keras.models.load_model(\"Modelling/Apple/Augmented/Saved Model/Apple_Xception_model2_Based_Augmented.h5\", compile=False)\n",
    "Xception_Aug2.compile(optimizer='adam', loss='categorical_crossentropy', metrics=['accuracy'])"
   ]
  },
  {
   "cell_type": "code",
   "execution_count": 31,
   "metadata": {},
   "outputs": [
    {
     "name": "stdout",
     "output_type": "stream",
     "text": [
      "==========================Evaluate Model====================\n",
      "98/98 [==============================] - 7s 57ms/step - loss: 0.0023 - accuracy: 1.0000\n",
      "Accuracy: 100.000000%\n",
      "Loss: 0.233355%\n"
     ]
    }
   ],
   "source": [
    "# evaluate model\n",
    "print(\"==========================Evaluate Model====================\")\n",
    "scores_Xception_Aug2 = Xception_Aug2.evaluate(validation_generator, verbose=1)\n",
    "print(\"Accuracy: %.6f%%\" % (scores_Xception_Aug2[1]*100))\n",
    "print(\"Loss: %.6f%%\" % (scores_Xception_Aug2[0]*100))"
   ]
  },
  {
   "attachments": {},
   "cell_type": "markdown",
   "metadata": {},
   "source": [
    "# Compare All"
   ]
  },
  {
   "cell_type": "code",
   "execution_count": 34,
   "metadata": {},
   "outputs": [
    {
     "name": "stdout",
     "output_type": "stream",
     "text": [
      "                Model      Loss  Accuracy\n",
      "3     Mobile_Non_Aug2  0.000880  1.000000\n",
      "6   Xception_Non_Aug1  0.000626  1.000000\n",
      "7   Xception_Non_Aug2  0.000338  1.000000\n",
      "8          Dense_Aug1  0.000650  1.000000\n",
      "9          Dense_Aug2  0.000675  1.000000\n",
      "10        Mobile_Aug1  0.001026  1.000000\n",
      "11        Mobile_Aug2  0.000297  1.000000\n",
      "12      Xception_Aug1  0.000412  1.000000\n",
      "13      Xception_Aug2  0.002334  1.000000\n",
      "0      Dense_Non_Aug1  0.002031  0.999485\n",
      "1      Dense_Non_Aug2  0.002697  0.999485\n",
      "2     Mobile_Non_Aug1  0.005049  0.999485\n",
      "5        DIY_Non_Aug2  0.135590  0.978899\n",
      "4        DIY_Non_Aug1  0.125300  0.969635\n"
     ]
    }
   ],
   "source": [
    "# Make dictionary of all models\n",
    "models = {\n",
    "    \"Dense_Non_Aug1\": Dense_Non_Aug1,\n",
    "    \"Dense_Non_Aug2\": Dense_Non_Aug2,\n",
    "    \"Mobile_Non_Aug1\": Mobile_Non_Aug1,\n",
    "    \"Mobile_Non_Aug2\": Mobile_Non_Aug2,\n",
    "    \"DIY_Non_Aug1\": DIY_Non_Aug1,\n",
    "    \"DIY_Non_Aug2\": DIY_Non_Aug2,\n",
    "    \"Xception_Non_Aug1\": Xception_Non_Aug1,\n",
    "    \"Xception_Non_Aug2\": Xception_Non_Aug2,\n",
    "    \"Dense_Aug1\": Dense_Aug1,\n",
    "    \"Dense_Aug2\": Dense_Aug2,\n",
    "    \"Mobile_Aug1\": Mobile_Aug1,\n",
    "    \"Mobile_Aug2\": Mobile_Aug2,\n",
    "    \"Xception_Aug1\": Xception_Aug1,\n",
    "    \"Xception_Aug2\": Xception_Aug2\n",
    "}\n",
    "\n",
    "# Make dictionary of all accuracy scores\n",
    "accuracy = {\n",
    "    \"Dense_Non_Aug1\": scores_Dense_Non_Aug1[0],\n",
    "    \"Dense_Non_Aug2\": scores_Dense_Non_Aug2[0],\n",
    "    \"Mobile_Non_Aug1\": scores_Mobile_Non_Aug1[0],\n",
    "    \"Mobile_Non_Aug2\": scores_Mobile_Non_Aug2[0],\n",
    "    \"DIY_Non_Aug1\": scores_DIY_Non_Aug1[0],\n",
    "    \"DIY_Non_Aug2\": scores_DIY_Non_Aug2[0],\n",
    "    \"Xception_Non_Aug1\": scores_Xception_Non_Aug1[0],\n",
    "    \"Xception_Non_Aug2\": scores_Xception_Non_Aug2[0],\n",
    "    \"Dense_Aug1\": scores_Dense_Aug1[0],\n",
    "    \"Dense_Aug2\": scores_Dense_Aug2[0],\n",
    "    \"Mobile_Aug1\": scores_Mobile_Aug1[0],\n",
    "    \"Mobile_Aug2\": scores_Mobile_Aug2[0],\n",
    "    \"Xception_Aug1\": scores_Xception_Aug1[0],\n",
    "    \"Xception_Aug2\": scores_Xception_Aug2[0]\n",
    "}\n",
    "\n",
    "# Make dictionary of all loss scores\n",
    "loss = {\n",
    "    \"Dense_Non_Aug1\": scores_Dense_Non_Aug1[1],\n",
    "    \"Dense_Non_Aug2\": scores_Dense_Non_Aug2[1],\n",
    "    \"Mobile_Non_Aug1\": scores_Mobile_Non_Aug1[1],\n",
    "    \"Mobile_Non_Aug2\": scores_Mobile_Non_Aug2[1],\n",
    "    \"DIY_Non_Aug1\": scores_DIY_Non_Aug1[1],\n",
    "    \"DIY_Non_Aug2\": scores_DIY_Non_Aug2[1],\n",
    "    \"Xception_Non_Aug1\": scores_Xception_Non_Aug1[1],\n",
    "    \"Xception_Non_Aug2\": scores_Xception_Non_Aug2[1],\n",
    "    \"Dense_Aug1\": scores_Dense_Aug1[1],\n",
    "    \"Dense_Aug2\": scores_Dense_Aug2[1],\n",
    "    \"Mobile_Aug1\": scores_Mobile_Aug1[1],\n",
    "    \"Mobile_Aug2\": scores_Mobile_Aug2[1],\n",
    "    \"Xception_Aug1\": scores_Xception_Aug1[1],\n",
    "    \"Xception_Aug2\": scores_Xception_Aug2[1]\n",
    "}\n",
    "\n",
    "# Make dataframe of all models, accuracy and loss\n",
    "df = pd.DataFrame(list(zip(models.keys(), accuracy.values(), loss.values())), columns =['Model', 'Loss', 'Accuracy'])\n",
    "\n",
    "# Sort dataframe by accuracy\n",
    "df = df.sort_values(by=['Accuracy'], ascending=False)\n",
    "\n",
    "# Print dataframe\n",
    "print(df)"
   ]
  },
  {
   "cell_type": "code",
   "execution_count": 37,
   "metadata": {},
   "outputs": [
    {
     "data": {
      "image/png": "[encoded data removed]",
      "text/plain": [
       "<Figure size 2000x1000 with 1 Axes>"
      ]
     },
     "metadata": {},
     "output_type": "display_data"
    }
   ],
   "source": [
    "# Make bar chart of all models, accuracy and loss\n",
    "df.plot.bar(x='Model', y=['Accuracy', 'Loss'], rot=0, figsize=(20,10), title=\"Accuracy and Loss of all models\")\n",
    "plt.xticks(rotation=45)\n",
    "plt.show()"
   ]
  }
 ],
 "metadata": {
  "kernelspec": {
   "display_name": "Python 3",
   "language": "python",
   "name": "python3"
  },
  "language_info": {
   "codemirror_mode": {
    "name": "ipython",
    "version": 3
   },
   "file_extension": ".py",
   "mimetype": "text/x-python",
   "name": "python",
   "nbconvert_exporter": "python",
   "pygments_lexer": "ipython3",
   "version": "3.10.0"
  },
  "orig_nbformat": 4
 },
 "nbformat": 4,
 "nbformat_minor": 2
}
