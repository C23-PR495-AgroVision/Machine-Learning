{
  "nbformat": 4,
  "nbformat_minor": 0,
  "metadata": {
    "colab": {
      "provenance": [],
      "gpuType": "T4"
    },
    "kernelspec": {
      "name": "python3",
      "display_name": "Python 3"
    },
    "language_info": {
      "name": "python"
    },
    "accelerator": "GPU"
  },
  "cells": [
    {
      "cell_type": "code",
      "execution_count": 1,
      "metadata": {
        "colab": {
          "base_uri": "https://localhost:8080/"
        },
        "id": "i9tlgTrWVroa",
        "outputId": "dbcfc0dc-119a-44d9-9140-1a3c5ab5f76c"
      },
      "outputs": [
        {
          "output_type": "stream",
          "name": "stdout",
          "text": [
            "Looking in indexes: https://pypi.org/simple, https://us-python.pkg.dev/colab-wheels/public/simple/\n",
            "Requirement already satisfied: matplotlib in /usr/local/lib/python3.10/dist-packages (3.7.1)\n",
            "Requirement already satisfied: contourpy>=1.0.1 in /usr/local/lib/python3.10/dist-packages (from matplotlib) (1.0.7)\n",
            "Requirement already satisfied: cycler>=0.10 in /usr/local/lib/python3.10/dist-packages (from matplotlib) (0.11.0)\n",
            "Requirement already satisfied: fonttools>=4.22.0 in /usr/local/lib/python3.10/dist-packages (from matplotlib) (4.39.3)\n",
            "Requirement already satisfied: kiwisolver>=1.0.1 in /usr/local/lib/python3.10/dist-packages (from matplotlib) (1.4.4)\n",
            "Requirement already satisfied: numpy>=1.20 in /usr/local/lib/python3.10/dist-packages (from matplotlib) (1.22.4)\n",
            "Requirement already satisfied: packaging>=20.0 in /usr/local/lib/python3.10/dist-packages (from matplotlib) (23.1)\n",
            "Requirement already satisfied: pillow>=6.2.0 in /usr/local/lib/python3.10/dist-packages (from matplotlib) (8.4.0)\n",
            "Requirement already satisfied: pyparsing>=2.3.1 in /usr/local/lib/python3.10/dist-packages (from matplotlib) (3.0.9)\n",
            "Requirement already satisfied: python-dateutil>=2.7 in /usr/local/lib/python3.10/dist-packages (from matplotlib) (2.8.2)\n",
            "Requirement already satisfied: six>=1.5 in /usr/local/lib/python3.10/dist-packages (from python-dateutil>=2.7->matplotlib) (1.16.0)\n"
          ]
        }
      ],
      "source": [
        "pip install matplotlib"
      ]
    },
    {
      "cell_type": "code",
      "source": [
        "\n",
        "pip install opendatasets"
      ],
      "metadata": {
        "colab": {
          "base_uri": "https://localhost:8080/"
        },
        "id": "cjGcdkHRVtri",
        "outputId": "235329f0-ecb3-4349-dbb3-db483eb418d6"
      },
      "execution_count": 2,
      "outputs": [
        {
          "output_type": "stream",
          "name": "stdout",
          "text": [
            "Looking in indexes: https://pypi.org/simple, https://us-python.pkg.dev/colab-wheels/public/simple/\n",
            "Collecting opendatasets\n",
            "  Downloading opendatasets-0.1.22-py3-none-any.whl (15 kB)\n",
            "Requirement already satisfied: tqdm in /usr/local/lib/python3.10/dist-packages (from opendatasets) (4.65.0)\n",
            "Requirement already satisfied: kaggle in /usr/local/lib/python3.10/dist-packages (from opendatasets) (1.5.13)\n",
            "Requirement already satisfied: click in /usr/local/lib/python3.10/dist-packages (from opendatasets) (8.1.3)\n",
            "Requirement already satisfied: six>=1.10 in /usr/local/lib/python3.10/dist-packages (from kaggle->opendatasets) (1.16.0)\n",
            "Requirement already satisfied: certifi in /usr/local/lib/python3.10/dist-packages (from kaggle->opendatasets) (2022.12.7)\n",
            "Requirement already satisfied: python-dateutil in /usr/local/lib/python3.10/dist-packages (from kaggle->opendatasets) (2.8.2)\n",
            "Requirement already satisfied: requests in /usr/local/lib/python3.10/dist-packages (from kaggle->opendatasets) (2.27.1)\n",
            "Requirement already satisfied: python-slugify in /usr/local/lib/python3.10/dist-packages (from kaggle->opendatasets) (8.0.1)\n",
            "Requirement already satisfied: urllib3 in /usr/local/lib/python3.10/dist-packages (from kaggle->opendatasets) (1.26.15)\n",
            "Requirement already satisfied: text-unidecode>=1.3 in /usr/local/lib/python3.10/dist-packages (from python-slugify->kaggle->opendatasets) (1.3)\n",
            "Requirement already satisfied: charset-normalizer~=2.0.0 in /usr/local/lib/python3.10/dist-packages (from requests->kaggle->opendatasets) (2.0.12)\n",
            "Requirement already satisfied: idna<4,>=2.5 in /usr/local/lib/python3.10/dist-packages (from requests->kaggle->opendatasets) (3.4)\n",
            "Installing collected packages: opendatasets\n",
            "Successfully installed opendatasets-0.1.22\n"
          ]
        }
      ]
    },
    {
      "cell_type": "code",
      "source": [
        "# Library to dataset\n",
        "import opendatasets as od\n",
        "import os\n",
        "import zipfile\n",
        "import numpy as np\n",
        "\n",
        "# Surpress Warnings\n",
        "import warnings\n",
        "warnings.filterwarnings('ignore')\n",
        "os.environ['TF_CPP_MIN_LOG_LEVEL'] = '3' \n",
        "# library visualization\n",
        "import matplotlib.pyplot as plt\n",
        "\n",
        "# Library Tensorflow\n",
        "import tensorflow as tf\n",
        "from tensorflow import keras\n",
        "from tensorflow.keras.preprocessing.image import ImageDataGenerator\n",
        "from tensorflow.keras.callbacks import ModelCheckpoint, EarlyStopping, ReduceLROnPlateau\n",
        "from tensorflow.keras.applications.densenet import DenseNet121\n",
        "from tensorflow.keras.applications.xception import Xception\n",
        "from tensorflow.keras.applications.mobilenet_v2 import MobileNetV2\n",
        "\n",
        "# Others\n",
        "import shutil\n",
        "import random"
      ],
      "metadata": {
        "id": "ItL_Oq5fVxnl"
      },
      "execution_count": 3,
      "outputs": []
    },
    {
      "cell_type": "markdown",
      "source": [],
      "metadata": {
        "id": "4QyXCk98VyJb"
      }
    },
    {
      "cell_type": "code",
      "source": [
        "# Download dataset\n",
        "od.download('https://www.kaggle.com/datasets/faudyanurul/strawberry')"
      ],
      "metadata": {
        "colab": {
          "base_uri": "https://localhost:8080/"
        },
        "id": "ZjmaQs7sVycA",
        "outputId": "b4d47285-e013-4ec1-f26a-c61a95c0e7c0"
      },
      "execution_count": 4,
      "outputs": [
        {
          "output_type": "stream",
          "name": "stdout",
          "text": [
            "Please provide your Kaggle credentials to download this dataset. Learn more: http://bit.ly/kaggle-creds\n",
            "Your Kaggle username: faudyanurul\n",
            "Your Kaggle Key: ··········\n",
            "Downloading strawberry.zip to ./strawberry\n"
          ]
        },
        {
          "output_type": "stream",
          "name": "stderr",
          "text": [
            "100%|██████████| 83.5M/83.5M [00:04<00:00, 18.2MB/s]\n"
          ]
        },
        {
          "output_type": "stream",
          "name": "stdout",
          "text": [
            "\n"
          ]
        }
      ]
    },
    {
      "cell_type": "code",
      "source": [
        "# Load dataset\n",
        "print(\"==========================Training Data====================\")\n",
        "train_data = tf.keras.preprocessing.image_dataset_from_directory(\n",
        "    \"strawberry/Strawberry/train\",\n",
        "    label_mode=\"categorical\",\n",
        "    class_names=['Strawberry___healthy', 'Strawberry___Leaf_scorch'],\n",
        "    color_mode=\"rgb\",\n",
        "    batch_size=1,\n",
        "    image_size=(256, 256),\n",
        "    shuffle=True,\n",
        "    seed=123\n",
        ")\n",
        "print(\"==========================Validation Data====================\")\n",
        "val_data = tf.keras.preprocessing.image_dataset_from_directory(\n",
        "    \"strawberry/Strawberry/valid\",\n",
        "    label_mode=\"categorical\",\n",
        "    class_names=['Strawberry___healthy', 'Strawberry___Leaf_scorch'],\n",
        "    color_mode=\"rgb\",\n",
        "    batch_size=1,\n",
        "    image_size=(256, 256),\n",
        "    shuffle=True,\n",
        "    seed=123\n",
        ")"
      ],
      "metadata": {
        "colab": {
          "base_uri": "https://localhost:8080/"
        },
        "id": "kOgRoLX0V3J_",
        "outputId": "832ad606-dcd8-4729-eedd-ed718dae0a10"
      },
      "execution_count": 5,
      "outputs": [
        {
          "output_type": "stream",
          "name": "stdout",
          "text": [
            "==========================Training Data====================\n",
            "Found 3598 files belonging to 2 classes.\n",
            "==========================Validation Data====================\n",
            "Found 900 files belonging to 2 classes.\n"
          ]
        }
      ]
    },
    {
      "cell_type": "code",
      "source": [
        "# All images will be rescaled by 1./255.\n",
        "train_datagen = ImageDataGenerator(rescale = 1.0/256.)\n",
        "test_datagen  = ImageDataGenerator(rescale = 1.0/256.)\n",
        "\n",
        "# --------------------\n",
        "# Flow training images in batches of 20 using train_datagen generator\n",
        "# --------------------\n",
        "train_generator = train_datagen.flow_from_directory(\"strawberry/Strawberry/train\",\n",
        "                                                    batch_size=20,\n",
        "                                                    class_mode='categorical',\n",
        "                                                    target_size=(224, 224))     \n",
        "# --------------------\n",
        "# Flow validation images in batches of 20 using test_datagen generator\n",
        "# --------------------\n",
        "validation_generator =  test_datagen.flow_from_directory(\"strawberry/Strawberry/valid\",\n",
        "                                                         batch_size=20,\n",
        "                                                         class_mode  = 'categorical',\n",
        "                                                         target_size = (224, 224))"
      ],
      "metadata": {
        "colab": {
          "base_uri": "https://localhost:8080/"
        },
        "id": "bURMKibtV6_j",
        "outputId": "5cd209d2-bd28-4cc1-e564-4c711101f76a"
      },
      "execution_count": 6,
      "outputs": [
        {
          "output_type": "stream",
          "name": "stdout",
          "text": [
            "Found 3598 images belonging to 2 classes.\n",
            "Found 900 images belonging to 2 classes.\n"
          ]
        }
      ]
    },
    {
      "cell_type": "markdown",
      "source": [],
      "metadata": {
        "id": "d_i7SruWV_Pa"
      }
    },
    {
      "cell_type": "code",
      "source": [
        "\n",
        "# Check GPU\n",
        "!nvidia-smi"
      ],
      "metadata": {
        "colab": {
          "base_uri": "https://localhost:8080/"
        },
        "id": "Vu-wMB6IV_bE",
        "outputId": "958601d3-6f3f-4fbb-eed4-60f990a0eb56"
      },
      "execution_count": 7,
      "outputs": [
        {
          "output_type": "stream",
          "name": "stdout",
          "text": [
            "Sun Jun  4 12:22:36 2023       \n",
            "+-----------------------------------------------------------------------------+\n",
            "| NVIDIA-SMI 525.85.12    Driver Version: 525.85.12    CUDA Version: 12.0     |\n",
            "|-------------------------------+----------------------+----------------------+\n",
            "| GPU  Name        Persistence-M| Bus-Id        Disp.A | Volatile Uncorr. ECC |\n",
            "| Fan  Temp  Perf  Pwr:Usage/Cap|         Memory-Usage | GPU-Util  Compute M. |\n",
            "|                               |                      |               MIG M. |\n",
            "|===============================+======================+======================|\n",
            "|   0  Tesla T4            Off  | 00000000:00:04.0 Off |                    0 |\n",
            "| N/A   44C    P0    26W /  70W |    389MiB / 15360MiB |      0%      Default |\n",
            "|                               |                      |                  N/A |\n",
            "+-------------------------------+----------------------+----------------------+\n",
            "                                                                               \n",
            "+-----------------------------------------------------------------------------+\n",
            "| Processes:                                                                  |\n",
            "|  GPU   GI   CI        PID   Type   Process name                  GPU Memory |\n",
            "|        ID   ID                                                   Usage      |\n",
            "|=============================================================================|\n",
            "+-----------------------------------------------------------------------------+\n"
          ]
        }
      ]
    },
    {
      "cell_type": "code",
      "source": [
        "# Lis physical devices\n",
        "devices = tf.config.experimental.list_physical_devices(\"GPU\")\n",
        "devices"
      ],
      "metadata": {
        "colab": {
          "base_uri": "https://localhost:8080/"
        },
        "id": "JjEwHt4NV_mx",
        "outputId": "03f617cf-3fe0-4bcf-81d6-8e5d06449a97"
      },
      "execution_count": 8,
      "outputs": [
        {
          "output_type": "execute_result",
          "data": {
            "text/plain": [
              "[PhysicalDevice(name='/physical_device:GPU:0', device_type='GPU')]"
            ]
          },
          "metadata": {},
          "execution_count": 8
        }
      ]
    },
    {
      "cell_type": "code",
      "source": [
        "# Define the GPU strategy\n",
        "mirrored_strategy = tf.distribute.MirroredStrategy(devices=[\"/gpu:0\"])"
      ],
      "metadata": {
        "id": "qjQYNfh0V_uV"
      },
      "execution_count": 9,
      "outputs": []
    },
    {
      "cell_type": "markdown",
      "source": [],
      "metadata": {
        "id": "T7hadslnWJf6"
      }
    },
    {
      "cell_type": "code",
      "source": [
        "\n",
        "# Difine the callbacks\n",
        "# Save the best model\n",
        "checkpoint_callback = ModelCheckpoint(filepath=\"Strawberry_MobileNetV2_model1_Based_Non_Augmented\", save_best_only=True, monitor=\"val_accuracy\", mode=\"max\", verbose=1)\n",
        "\n",
        "# Early stopping\n",
        "early_stopping_callback = EarlyStopping(monitor=\"val_accuracy\", mode=\"max\", patience=20, verbose=1, restore_best_weights=True)\n",
        "\n",
        "# Reduce learning rate\n",
        "reduce_lr_callback = ReduceLROnPlateau(monitor=\"val_loss\", factor=0.1, patience=5, verbose=1, mode=\"min\", min_delta=0.0001, cooldown=0, min_lr=0)\n",
        "\n",
        "# Callbacks list\n",
        "callbacks=[checkpoint_callback, early_stopping_callback, reduce_lr_callback]"
      ],
      "metadata": {
        "id": "2VxAKGLnWK6Q"
      },
      "execution_count": 11,
      "outputs": []
    },
    {
      "cell_type": "code",
      "source": [
        "# Define DIY Model\n",
        "MobileNetV2_model = tf.keras.models.Sequential([\n",
        "    # MobileNetV2 Layer\n",
        "    MobileNetV2(include_top=False,weights='imagenet',input_shape=(224, 224, 3)),\n",
        "    # Global Max Pooling Layer\n",
        "    tf.keras.layers.GlobalMaxPooling2D(),\n",
        "    # Drop Out Layer\n",
        "    tf.keras.layers.Dropout(0.2),\n",
        "    # 256 neuron hidden layer\n",
        "    tf.keras.layers.Dense(256, activation='relu'),\n",
        "    # Output\n",
        "    tf.keras.layers.Dense(2, activation='softmax') \n",
        "  ])\n",
        "\n",
        "\n",
        "# Compile Model\n",
        "MobileNetV2_model.compile(loss='categorical_crossentropy',optimizer=tf.keras.optimizers.Adam(), metrics=['accuracy']) \n",
        "\n",
        "# Model Summary\n",
        "MobileNetV2_model.summary()"
      ],
      "metadata": {
        "colab": {
          "base_uri": "https://localhost:8080/"
        },
        "id": "pQPBtB3sWQNO",
        "outputId": "e5994730-0e4f-4ca4-ea82-04ce340cf14f"
      },
      "execution_count": 12,
      "outputs": [
        {
          "output_type": "stream",
          "name": "stdout",
          "text": [
            "Downloading data from https://storage.googleapis.com/tensorflow/keras-applications/mobilenet_v2/mobilenet_v2_weights_tf_dim_ordering_tf_kernels_1.0_224_no_top.h5\n",
            "9406464/9406464 [==============================] - 2s 0us/step\n",
            "Model: \"sequential\"\n",
            "_________________________________________________________________\n",
            " Layer (type)                Output Shape              Param #   \n",
            "=================================================================\n",
            " mobilenetv2_1.00_224 (Funct  (None, 7, 7, 1280)       2257984   \n",
            " ional)                                                          \n",
            "                                                                 \n",
            " global_max_pooling2d (Globa  (None, 1280)             0         \n",
            " lMaxPooling2D)                                                  \n",
            "                                                                 \n",
            " dropout (Dropout)           (None, 1280)              0         \n",
            "                                                                 \n",
            " dense (Dense)               (None, 256)               327936    \n",
            "                                                                 \n",
            " dense_1 (Dense)             (None, 2)                 514       \n",
            "                                                                 \n",
            "=================================================================\n",
            "Total params: 2,586,434\n",
            "Trainable params: 2,552,322\n",
            "Non-trainable params: 34,112\n",
            "_________________________________________________________________\n"
          ]
        }
      ]
    },
    {
      "cell_type": "code",
      "source": [
        "# Define the number of epochs\n",
        "num_epochs = 100\n",
        "\n",
        "# Train the model\n",
        "history_MobileNetV2_model_1 = MobileNetV2_model.fit(train_generator, epochs=num_epochs, validation_data=validation_generator, callbacks=callbacks)"
      ],
      "metadata": {
        "colab": {
          "base_uri": "https://localhost:8080/"
        },
        "id": "3fEm73XpWWvX",
        "outputId": "3fae36bb-98db-4585-aa29-2fc3887e12bf"
      },
      "execution_count": 13,
      "outputs": [
        {
          "output_type": "stream",
          "name": "stdout",
          "text": [
            "Epoch 1/100\n",
            "180/180 [==============================] - ETA: 0s - loss: 0.2201 - accuracy: 0.9814\n",
            "Epoch 1: val_accuracy improved from -inf to 0.69889, saving model to Strawberry_MobileNetV2_model1_Based_Non_Augmented\n"
          ]
        },
        {
          "output_type": "stream",
          "name": "stderr",
          "text": [
            "WARNING:absl:Function `_wrapped_model` contains input name(s) mobilenetv2_1.00_224_input with unsupported characters which will be renamed to mobilenetv2_1_00_224_input in the SavedModel.\n",
            "WARNING:absl:`mobilenetv2_1.00_224_input` is not a valid tf.function parameter name. Sanitizing to `mobilenetv2_1_00_224_input`.\n",
            "WARNING:absl:`mobilenetv2_1.00_224_input` is not a valid tf.function parameter name. Sanitizing to `mobilenetv2_1_00_224_input`.\n",
            "WARNING:absl:`mobilenetv2_1.00_224_input` is not a valid tf.function parameter name. Sanitizing to `mobilenetv2_1_00_224_input`.\n",
            "WARNING:absl:Found untraced functions such as _jit_compiled_convolution_op, _jit_compiled_convolution_op, _jit_compiled_convolution_op, _jit_compiled_convolution_op, _jit_compiled_convolution_op while saving (showing 5 of 52). These functions will not be directly callable after loading.\n"
          ]
        },
        {
          "output_type": "stream",
          "name": "stdout",
          "text": [
            "\b\b\b\b\b\b\b\b\b\b\b\b\b\b\b\b\b\b\b\b\b\b\b\b\b\b\b\b\b\b\b\b\b\b\b\b\b\b\b\b\b\b\b\b\b\b\b\b\b\b\b\b\b\b\b\b\b\b\b\b\b\b\b\b\b\b\b\b\b\b\b\b\b\b\b\b\b\b\b\b\b\b\b\b\r180/180 [==============================] - 86s 260ms/step - loss: 0.2201 - accuracy: 0.9814 - val_loss: 6.2418 - val_accuracy: 0.6989 - lr: 0.0010\n",
            "Epoch 2/100\n",
            "180/180 [==============================] - ETA: 0s - loss: 0.0470 - accuracy: 0.9922\n",
            "Epoch 2: val_accuracy improved from 0.69889 to 0.90889, saving model to Strawberry_MobileNetV2_model1_Based_Non_Augmented\n"
          ]
        },
        {
          "output_type": "stream",
          "name": "stderr",
          "text": [
            "WARNING:absl:Function `_wrapped_model` contains input name(s) mobilenetv2_1.00_224_input with unsupported characters which will be renamed to mobilenetv2_1_00_224_input in the SavedModel.\n",
            "WARNING:absl:`mobilenetv2_1.00_224_input` is not a valid tf.function parameter name. Sanitizing to `mobilenetv2_1_00_224_input`.\n",
            "WARNING:absl:`mobilenetv2_1.00_224_input` is not a valid tf.function parameter name. Sanitizing to `mobilenetv2_1_00_224_input`.\n",
            "WARNING:absl:Found untraced functions such as _jit_compiled_convolution_op, _jit_compiled_convolution_op, _jit_compiled_convolution_op, _jit_compiled_convolution_op, _jit_compiled_convolution_op while saving (showing 5 of 52). These functions will not be directly callable after loading.\n"
          ]
        },
        {
          "output_type": "stream",
          "name": "stdout",
          "text": [
            "\b\b\b\b\b\b\b\b\b\b\b\b\b\b\b\b\b\b\b\b\b\b\b\b\b\b\b\b\b\b\b\b\b\b\b\b\b\b\b\b\b\b\b\b\b\b\b\b\b\b\b\b\b\b\b\b\b\b\b\b\b\b\b\b\b\b\b\b\b\b\b\b\b\b\b\b\b\b\b\b\b\b\b\b\r180/180 [==============================] - 43s 237ms/step - loss: 0.0470 - accuracy: 0.9922 - val_loss: 0.2826 - val_accuracy: 0.9089 - lr: 0.0010\n",
            "Epoch 3/100\n",
            "180/180 [==============================] - ETA: 0s - loss: 0.0275 - accuracy: 0.9947\n",
            "Epoch 3: val_accuracy did not improve from 0.90889\n",
            "180/180 [==============================] - 18s 101ms/step - loss: 0.0275 - accuracy: 0.9947 - val_loss: 1.7883 - val_accuracy: 0.5389 - lr: 0.0010\n",
            "Epoch 4/100\n",
            "180/180 [==============================] - ETA: 0s - loss: 0.0110 - accuracy: 0.9981\n",
            "Epoch 4: val_accuracy improved from 0.90889 to 0.94000, saving model to Strawberry_MobileNetV2_model1_Based_Non_Augmented\n"
          ]
        },
        {
          "output_type": "stream",
          "name": "stderr",
          "text": [
            "WARNING:absl:Function `_wrapped_model` contains input name(s) mobilenetv2_1.00_224_input with unsupported characters which will be renamed to mobilenetv2_1_00_224_input in the SavedModel.\n",
            "WARNING:absl:Found untraced functions such as _jit_compiled_convolution_op, _jit_compiled_convolution_op, _jit_compiled_convolution_op, _jit_compiled_convolution_op, _jit_compiled_convolution_op while saving (showing 5 of 52). These functions will not be directly callable after loading.\n"
          ]
        },
        {
          "output_type": "stream",
          "name": "stdout",
          "text": [
            "\b\b\b\b\b\b\b\b\b\b\b\b\b\b\b\b\b\b\b\b\b\b\b\b\b\b\b\b\b\b\b\b\b\b\b\b\b\b\b\b\b\b\b\b\b\b\b\b\b\b\b\b\b\b\b\b\b\b\b\b\b\b\b\b\b\b\b\b\b\b\b\b\b\b\b\b\b\b\b\b\b\b\b\b\r180/180 [==============================] - 43s 240ms/step - loss: 0.0110 - accuracy: 0.9981 - val_loss: 0.4715 - val_accuracy: 0.9400 - lr: 0.0010\n",
            "Epoch 5/100\n",
            "180/180 [==============================] - ETA: 0s - loss: 0.0455 - accuracy: 0.9950\n",
            "Epoch 5: val_accuracy did not improve from 0.94000\n",
            "180/180 [==============================] - 18s 102ms/step - loss: 0.0455 - accuracy: 0.9950 - val_loss: 1.4437 - val_accuracy: 0.6700 - lr: 0.0010\n",
            "Epoch 6/100\n",
            "180/180 [==============================] - ETA: 0s - loss: 0.0037 - accuracy: 0.9994\n",
            "Epoch 6: val_accuracy improved from 0.94000 to 0.98000, saving model to Strawberry_MobileNetV2_model1_Based_Non_Augmented\n"
          ]
        },
        {
          "output_type": "stream",
          "name": "stderr",
          "text": [
            "WARNING:absl:Function `_wrapped_model` contains input name(s) mobilenetv2_1.00_224_input with unsupported characters which will be renamed to mobilenetv2_1_00_224_input in the SavedModel.\n",
            "WARNING:absl:Found untraced functions such as _jit_compiled_convolution_op, _jit_compiled_convolution_op, _jit_compiled_convolution_op, _jit_compiled_convolution_op, _jit_compiled_convolution_op while saving (showing 5 of 52). These functions will not be directly callable after loading.\n"
          ]
        },
        {
          "output_type": "stream",
          "name": "stdout",
          "text": [
            "\b\b\b\b\b\b\b\b\b\b\b\b\b\b\b\b\b\b\b\b\b\b\b\b\b\b\b\b\b\b\b\b\b\b\b\b\b\b\b\b\b\b\b\b\b\b\b\b\b\b\b\b\b\b\b\b\b\b\b\b\b\b\b\b\b\b\b\b\b\b\b\b\b\b\b\b\b\b\b\b\b\b\b\b\r180/180 [==============================] - 44s 243ms/step - loss: 0.0037 - accuracy: 0.9994 - val_loss: 0.2486 - val_accuracy: 0.9800 - lr: 0.0010\n",
            "Epoch 7/100\n",
            "180/180 [==============================] - ETA: 0s - loss: 9.5140e-04 - accuracy: 0.9997\n",
            "Epoch 7: val_accuracy improved from 0.98000 to 0.98333, saving model to Strawberry_MobileNetV2_model1_Based_Non_Augmented\n"
          ]
        },
        {
          "output_type": "stream",
          "name": "stderr",
          "text": [
            "WARNING:absl:Function `_wrapped_model` contains input name(s) mobilenetv2_1.00_224_input with unsupported characters which will be renamed to mobilenetv2_1_00_224_input in the SavedModel.\n",
            "WARNING:absl:Found untraced functions such as _jit_compiled_convolution_op, _jit_compiled_convolution_op, _jit_compiled_convolution_op, _jit_compiled_convolution_op, _jit_compiled_convolution_op while saving (showing 5 of 52). These functions will not be directly callable after loading.\n"
          ]
        },
        {
          "output_type": "stream",
          "name": "stdout",
          "text": [
            "\b\b\b\b\b\b\b\b\b\b\b\b\b\b\b\b\b\b\b\b\b\b\b\b\b\b\b\b\b\b\b\b\b\b\b\b\b\b\b\b\b\b\b\b\b\b\b\b\b\b\b\b\b\b\b\b\b\b\b\b\b\b\b\b\b\b\b\b\b\b\b\b\b\b\b\b\b\b\b\b\b\b\b\b\b\b\b\b\r180/180 [==============================] - 42s 236ms/step - loss: 9.5140e-04 - accuracy: 0.9997 - val_loss: 0.1970 - val_accuracy: 0.9833 - lr: 0.0010\n",
            "Epoch 8/100\n",
            "180/180 [==============================] - ETA: 0s - loss: 2.1700e-05 - accuracy: 1.0000\n",
            "Epoch 8: val_accuracy improved from 0.98333 to 0.98667, saving model to Strawberry_MobileNetV2_model1_Based_Non_Augmented\n"
          ]
        },
        {
          "output_type": "stream",
          "name": "stderr",
          "text": [
            "WARNING:absl:Function `_wrapped_model` contains input name(s) mobilenetv2_1.00_224_input with unsupported characters which will be renamed to mobilenetv2_1_00_224_input in the SavedModel.\n",
            "WARNING:absl:Found untraced functions such as _jit_compiled_convolution_op, _jit_compiled_convolution_op, _jit_compiled_convolution_op, _jit_compiled_convolution_op, _jit_compiled_convolution_op while saving (showing 5 of 52). These functions will not be directly callable after loading.\n"
          ]
        },
        {
          "output_type": "stream",
          "name": "stdout",
          "text": [
            "\b\b\b\b\b\b\b\b\b\b\b\b\b\b\b\b\b\b\b\b\b\b\b\b\b\b\b\b\b\b\b\b\b\b\b\b\b\b\b\b\b\b\b\b\b\b\b\b\b\b\b\b\b\b\b\b\b\b\b\b\b\b\b\b\b\b\b\b\b\b\b\b\b\b\b\b\b\b\b\b\b\b\b\b\b\b\b\b\r180/180 [==============================] - 43s 242ms/step - loss: 2.1700e-05 - accuracy: 1.0000 - val_loss: 0.1323 - val_accuracy: 0.9867 - lr: 0.0010\n",
            "Epoch 9/100\n",
            "180/180 [==============================] - ETA: 0s - loss: 7.4267e-06 - accuracy: 1.0000\n",
            "Epoch 9: val_accuracy improved from 0.98667 to 0.99222, saving model to Strawberry_MobileNetV2_model1_Based_Non_Augmented\n"
          ]
        },
        {
          "output_type": "stream",
          "name": "stderr",
          "text": [
            "WARNING:absl:Function `_wrapped_model` contains input name(s) mobilenetv2_1.00_224_input with unsupported characters which will be renamed to mobilenetv2_1_00_224_input in the SavedModel.\n",
            "WARNING:absl:Found untraced functions such as _jit_compiled_convolution_op, _jit_compiled_convolution_op, _jit_compiled_convolution_op, _jit_compiled_convolution_op, _jit_compiled_convolution_op while saving (showing 5 of 52). These functions will not be directly callable after loading.\n"
          ]
        },
        {
          "output_type": "stream",
          "name": "stdout",
          "text": [
            "\b\b\b\b\b\b\b\b\b\b\b\b\b\b\b\b\b\b\b\b\b\b\b\b\b\b\b\b\b\b\b\b\b\b\b\b\b\b\b\b\b\b\b\b\b\b\b\b\b\b\b\b\b\b\b\b\b\b\b\b\b\b\b\b\b\b\b\b\b\b\b\b\b\b\b\b\b\b\b\b\b\b\b\b\b\b\b\b\r180/180 [==============================] - 43s 237ms/step - loss: 7.4267e-06 - accuracy: 1.0000 - val_loss: 0.0739 - val_accuracy: 0.9922 - lr: 0.0010\n",
            "Epoch 10/100\n",
            "180/180 [==============================] - ETA: 0s - loss: 1.1477e-05 - accuracy: 1.0000\n",
            "Epoch 10: val_accuracy improved from 0.99222 to 0.99667, saving model to Strawberry_MobileNetV2_model1_Based_Non_Augmented\n"
          ]
        },
        {
          "output_type": "stream",
          "name": "stderr",
          "text": [
            "WARNING:absl:Function `_wrapped_model` contains input name(s) mobilenetv2_1.00_224_input with unsupported characters which will be renamed to mobilenetv2_1_00_224_input in the SavedModel.\n",
            "WARNING:absl:Found untraced functions such as _jit_compiled_convolution_op, _jit_compiled_convolution_op, _jit_compiled_convolution_op, _jit_compiled_convolution_op, _jit_compiled_convolution_op while saving (showing 5 of 52). These functions will not be directly callable after loading.\n"
          ]
        },
        {
          "output_type": "stream",
          "name": "stdout",
          "text": [
            "\b\b\b\b\b\b\b\b\b\b\b\b\b\b\b\b\b\b\b\b\b\b\b\b\b\b\b\b\b\b\b\b\b\b\b\b\b\b\b\b\b\b\b\b\b\b\b\b\b\b\b\b\b\b\b\b\b\b\b\b\b\b\b\b\b\b\b\b\b\b\b\b\b\b\b\b\b\b\b\b\b\b\b\b\b\b\b\b\r180/180 [==============================] - 43s 240ms/step - loss: 1.1477e-05 - accuracy: 1.0000 - val_loss: 0.0351 - val_accuracy: 0.9967 - lr: 0.0010\n",
            "Epoch 11/100\n",
            "180/180 [==============================] - ETA: 0s - loss: 0.0032 - accuracy: 0.9997\n",
            "Epoch 11: val_accuracy did not improve from 0.99667\n",
            "180/180 [==============================] - 18s 102ms/step - loss: 0.0032 - accuracy: 0.9997 - val_loss: 0.0573 - val_accuracy: 0.9967 - lr: 0.0010\n",
            "Epoch 12/100\n",
            "180/180 [==============================] - ETA: 0s - loss: 0.0190 - accuracy: 0.9964\n",
            "Epoch 12: val_accuracy did not improve from 0.99667\n",
            "180/180 [==============================] - 19s 106ms/step - loss: 0.0190 - accuracy: 0.9964 - val_loss: 0.9867 - val_accuracy: 0.8544 - lr: 0.0010\n",
            "Epoch 13/100\n",
            "180/180 [==============================] - ETA: 0s - loss: 0.0318 - accuracy: 0.9956\n",
            "Epoch 13: val_accuracy did not improve from 0.99667\n",
            "180/180 [==============================] - 19s 103ms/step - loss: 0.0318 - accuracy: 0.9956 - val_loss: 0.8022 - val_accuracy: 0.9389 - lr: 0.0010\n",
            "Epoch 14/100\n",
            "180/180 [==============================] - ETA: 0s - loss: 0.0089 - accuracy: 0.9983\n",
            "Epoch 14: val_accuracy did not improve from 0.99667\n",
            "180/180 [==============================] - 19s 105ms/step - loss: 0.0089 - accuracy: 0.9983 - val_loss: 8.8621 - val_accuracy: 0.7233 - lr: 0.0010\n",
            "Epoch 15/100\n",
            "180/180 [==============================] - ETA: 0s - loss: 0.0126 - accuracy: 0.9978\n",
            "Epoch 15: val_accuracy did not improve from 0.99667\n",
            "\n",
            "Epoch 15: ReduceLROnPlateau reducing learning rate to 0.00010000000474974513.\n",
            "180/180 [==============================] - 18s 102ms/step - loss: 0.0126 - accuracy: 0.9978 - val_loss: 0.0432 - val_accuracy: 0.9944 - lr: 0.0010\n",
            "Epoch 16/100\n",
            "180/180 [==============================] - ETA: 0s - loss: 0.0083 - accuracy: 0.9989\n",
            "Epoch 16: val_accuracy improved from 0.99667 to 1.00000, saving model to Strawberry_MobileNetV2_model1_Based_Non_Augmented\n"
          ]
        },
        {
          "output_type": "stream",
          "name": "stderr",
          "text": [
            "WARNING:absl:Function `_wrapped_model` contains input name(s) mobilenetv2_1.00_224_input with unsupported characters which will be renamed to mobilenetv2_1_00_224_input in the SavedModel.\n",
            "WARNING:absl:Found untraced functions such as _jit_compiled_convolution_op, _jit_compiled_convolution_op, _jit_compiled_convolution_op, _jit_compiled_convolution_op, _jit_compiled_convolution_op while saving (showing 5 of 52). These functions will not be directly callable after loading.\n"
          ]
        },
        {
          "output_type": "stream",
          "name": "stdout",
          "text": [
            "\b\b\b\b\b\b\b\b\b\b\b\b\b\b\b\b\b\b\b\b\b\b\b\b\b\b\b\b\b\b\b\b\b\b\b\b\b\b\b\b\b\b\b\b\b\b\b\b\b\b\b\b\b\b\b\b\b\b\b\b\b\b\b\b\b\b\b\b\b\b\b\b\b\b\b\b\b\b\b\b\b\b\b\b\r180/180 [==============================] - 44s 242ms/step - loss: 0.0083 - accuracy: 0.9989 - val_loss: 6.9666e-06 - val_accuracy: 1.0000 - lr: 1.0000e-04\n",
            "Epoch 17/100\n",
            "180/180 [==============================] - ETA: 0s - loss: 0.0035 - accuracy: 0.9994\n",
            "Epoch 17: val_accuracy did not improve from 1.00000\n",
            "180/180 [==============================] - 18s 102ms/step - loss: 0.0035 - accuracy: 0.9994 - val_loss: 1.6402e-05 - val_accuracy: 1.0000 - lr: 1.0000e-04\n",
            "Epoch 18/100\n",
            "180/180 [==============================] - ETA: 0s - loss: 0.0098 - accuracy: 0.9983\n",
            "Epoch 18: val_accuracy did not improve from 1.00000\n",
            "180/180 [==============================] - 19s 107ms/step - loss: 0.0098 - accuracy: 0.9983 - val_loss: 1.2779e-05 - val_accuracy: 1.0000 - lr: 1.0000e-04\n",
            "Epoch 19/100\n",
            "180/180 [==============================] - ETA: 0s - loss: 0.0036 - accuracy: 0.9992\n",
            "Epoch 19: val_accuracy did not improve from 1.00000\n",
            "180/180 [==============================] - 18s 102ms/step - loss: 0.0036 - accuracy: 0.9992 - val_loss: 1.2820e-05 - val_accuracy: 1.0000 - lr: 1.0000e-04\n",
            "Epoch 20/100\n",
            "180/180 [==============================] - ETA: 0s - loss: 0.0021 - accuracy: 0.9992\n",
            "Epoch 20: val_accuracy did not improve from 1.00000\n",
            "180/180 [==============================] - 19s 105ms/step - loss: 0.0021 - accuracy: 0.9992 - val_loss: 2.5972e-05 - val_accuracy: 1.0000 - lr: 1.0000e-04\n",
            "Epoch 21/100\n",
            "180/180 [==============================] - ETA: 0s - loss: 9.0637e-04 - accuracy: 0.9997\n",
            "Epoch 21: val_accuracy did not improve from 1.00000\n",
            "\n",
            "Epoch 21: ReduceLROnPlateau reducing learning rate to 1.0000000474974514e-05.\n",
            "180/180 [==============================] - 19s 103ms/step - loss: 9.0637e-04 - accuracy: 0.9997 - val_loss: 1.0901e-05 - val_accuracy: 1.0000 - lr: 1.0000e-04\n",
            "Epoch 22/100\n",
            "180/180 [==============================] - ETA: 0s - loss: 3.6905e-04 - accuracy: 1.0000\n",
            "Epoch 22: val_accuracy did not improve from 1.00000\n",
            "180/180 [==============================] - 19s 107ms/step - loss: 3.6905e-04 - accuracy: 1.0000 - val_loss: 1.2340e-05 - val_accuracy: 1.0000 - lr: 1.0000e-05\n",
            "Epoch 23/100\n",
            "180/180 [==============================] - ETA: 0s - loss: 1.4146e-04 - accuracy: 1.0000\n",
            "Epoch 23: val_accuracy did not improve from 1.00000\n",
            "180/180 [==============================] - 19s 103ms/step - loss: 1.4146e-04 - accuracy: 1.0000 - val_loss: 1.3605e-05 - val_accuracy: 1.0000 - lr: 1.0000e-05\n",
            "Epoch 24/100\n",
            "180/180 [==============================] - ETA: 0s - loss: 1.1932e-04 - accuracy: 1.0000\n",
            "Epoch 24: val_accuracy did not improve from 1.00000\n",
            "180/180 [==============================] - 19s 106ms/step - loss: 1.1932e-04 - accuracy: 1.0000 - val_loss: 1.5020e-05 - val_accuracy: 1.0000 - lr: 1.0000e-05\n",
            "Epoch 25/100\n",
            "180/180 [==============================] - ETA: 0s - loss: 1.3575e-04 - accuracy: 1.0000\n",
            "Epoch 25: val_accuracy did not improve from 1.00000\n",
            "180/180 [==============================] - 18s 102ms/step - loss: 1.3575e-04 - accuracy: 1.0000 - val_loss: 1.6430e-05 - val_accuracy: 1.0000 - lr: 1.0000e-05\n",
            "Epoch 26/100\n",
            "180/180 [==============================] - ETA: 0s - loss: 1.6560e-04 - accuracy: 1.0000\n",
            "Epoch 26: val_accuracy did not improve from 1.00000\n",
            "\n",
            "Epoch 26: ReduceLROnPlateau reducing learning rate to 1.0000000656873453e-06.\n",
            "180/180 [==============================] - 19s 106ms/step - loss: 1.6560e-04 - accuracy: 1.0000 - val_loss: 1.7771e-05 - val_accuracy: 1.0000 - lr: 1.0000e-05\n",
            "Epoch 27/100\n",
            "180/180 [==============================] - ETA: 0s - loss: 1.3390e-04 - accuracy: 1.0000\n",
            "Epoch 27: val_accuracy did not improve from 1.00000\n",
            "180/180 [==============================] - 18s 102ms/step - loss: 1.3390e-04 - accuracy: 1.0000 - val_loss: 2.0032e-05 - val_accuracy: 1.0000 - lr: 1.0000e-06\n",
            "Epoch 28/100\n",
            "180/180 [==============================] - ETA: 0s - loss: 5.6499e-04 - accuracy: 0.9997\n",
            "Epoch 28: val_accuracy did not improve from 1.00000\n",
            "180/180 [==============================] - 19s 106ms/step - loss: 5.6499e-04 - accuracy: 0.9997 - val_loss: 2.2434e-05 - val_accuracy: 1.0000 - lr: 1.0000e-06\n",
            "Epoch 29/100\n",
            "180/180 [==============================] - ETA: 0s - loss: 6.9019e-04 - accuracy: 0.9997\n",
            "Epoch 29: val_accuracy did not improve from 1.00000\n",
            "180/180 [==============================] - 19s 103ms/step - loss: 6.9019e-04 - accuracy: 0.9997 - val_loss: 2.4823e-05 - val_accuracy: 1.0000 - lr: 1.0000e-06\n",
            "Epoch 30/100\n",
            "180/180 [==============================] - ETA: 0s - loss: 2.3907e-04 - accuracy: 1.0000\n",
            "Epoch 30: val_accuracy did not improve from 1.00000\n",
            "180/180 [==============================] - 19s 106ms/step - loss: 2.3907e-04 - accuracy: 1.0000 - val_loss: 2.7080e-05 - val_accuracy: 1.0000 - lr: 1.0000e-06\n",
            "Epoch 31/100\n",
            "180/180 [==============================] - ETA: 0s - loss: 2.3179e-04 - accuracy: 1.0000\n",
            "Epoch 31: val_accuracy did not improve from 1.00000\n",
            "\n",
            "Epoch 31: ReduceLROnPlateau reducing learning rate to 1.0000001111620805e-07.\n",
            "180/180 [==============================] - 19s 104ms/step - loss: 2.3179e-04 - accuracy: 1.0000 - val_loss: 2.8942e-05 - val_accuracy: 1.0000 - lr: 1.0000e-06\n",
            "Epoch 32/100\n",
            "180/180 [==============================] - ETA: 0s - loss: 2.4934e-04 - accuracy: 1.0000\n",
            "Epoch 32: val_accuracy did not improve from 1.00000\n",
            "180/180 [==============================] - 19s 107ms/step - loss: 2.4934e-04 - accuracy: 1.0000 - val_loss: 3.0649e-05 - val_accuracy: 1.0000 - lr: 1.0000e-07\n",
            "Epoch 33/100\n",
            "180/180 [==============================] - ETA: 0s - loss: 1.1246e-04 - accuracy: 1.0000\n",
            "Epoch 33: val_accuracy did not improve from 1.00000\n",
            "180/180 [==============================] - 19s 104ms/step - loss: 1.1246e-04 - accuracy: 1.0000 - val_loss: 3.2159e-05 - val_accuracy: 1.0000 - lr: 1.0000e-07\n",
            "Epoch 34/100\n",
            "180/180 [==============================] - ETA: 0s - loss: 4.0497e-04 - accuracy: 0.9997\n",
            "Epoch 34: val_accuracy did not improve from 1.00000\n",
            "180/180 [==============================] - 19s 103ms/step - loss: 4.0497e-04 - accuracy: 0.9997 - val_loss: 3.3320e-05 - val_accuracy: 1.0000 - lr: 1.0000e-07\n",
            "Epoch 35/100\n",
            "180/180 [==============================] - ETA: 0s - loss: 4.6383e-04 - accuracy: 0.9997\n",
            "Epoch 35: val_accuracy did not improve from 1.00000\n",
            "180/180 [==============================] - 21s 118ms/step - loss: 4.6383e-04 - accuracy: 0.9997 - val_loss: 3.4322e-05 - val_accuracy: 1.0000 - lr: 1.0000e-07\n",
            "Epoch 36/100\n",
            "180/180 [==============================] - ETA: 0s - loss: 1.2995e-04 - accuracy: 1.0000\n",
            "Epoch 36: val_accuracy did not improve from 1.00000\n",
            "Restoring model weights from the end of the best epoch: 16.\n",
            "\n",
            "Epoch 36: ReduceLROnPlateau reducing learning rate to 1.000000082740371e-08.\n",
            "180/180 [==============================] - 19s 103ms/step - loss: 1.2995e-04 - accuracy: 1.0000 - val_loss: 3.5179e-05 - val_accuracy: 1.0000 - lr: 1.0000e-07\n",
            "Epoch 36: early stopping\n"
          ]
        }
      ]
    },
    {
      "cell_type": "code",
      "source": [
        "#-----------------------------------------------------------\n",
        "# Retrieve a list of list results on training and test data\n",
        "# sets for each training epoch\n",
        "#-----------------------------------------------------------\n",
        "acc      = history_MobileNetV2_model_1.history['accuracy' ]\n",
        "val_acc  = history_MobileNetV2_model_1.history['val_accuracy' ]\n",
        "loss     = history_MobileNetV2_model_1.history['loss' ]\n",
        "val_loss = history_MobileNetV2_model_1.history['val_loss' ]\n",
        "\n",
        "epochs   = range(len(acc)) # Get number of epochs\n",
        "\n",
        "#------------------------------------------------\n",
        "# Plot training and validation accuracy per epoch\n",
        "#------------------------------------------------\n",
        "plt.plot  (epochs, acc )\n",
        "plt.plot  (epochs, val_acc )\n",
        "plt.title ('Training and validation accuracy MobileNetV2 Model 1')\n",
        "plt.legend(['train', 'val'], loc='upper left')\n",
        "plt.figure()\n",
        "\n",
        "#------------------------------------------------\n",
        "# Plot training and validation loss per epoch\n",
        "#------------------------------------------------\n",
        "plt.plot  (epochs, loss)\n",
        "plt.plot  (epochs, val_loss)\n",
        "plt.title ('Training and validation loss MobileNetV2 Model 1')\n",
        "plt.legend(['train', 'val'], loc='upper left')"
      ],
      "metadata": {
        "colab": {
          "base_uri": "https://localhost:8080/",
          "height": 904
        },
        "id": "_1DryBaWWcIR",
        "outputId": "532992df-04df-409a-e7f2-bebe5e234b90"
      },
      "execution_count": 14,
      "outputs": [
        {
          "output_type": "execute_result",
          "data": {
            "text/plain": [
              "<matplotlib.legend.Legend at 0x7f72341f07c0>"
            ]
          },
          "metadata": {},
          "execution_count": 14
        },
        {
          "output_type": "display_data",
          "data": {
            "text/plain": [
              "<Figure size 640x480 with 1 Axes>"
            ],
            "image/png": "[encoded data removed]"
          },
          "metadata": {}
        },
        {
          "output_type": "display_data",
          "data": {
            "text/plain": [
              "<Figure size 640x480 with 1 Axes>"
            ],
            "image/png": "[encoded data removed]"
          },
          "metadata": {}
        }
      ]
    },
    {
      "cell_type": "code",
      "source": [
        "!zip -r /content/Strawberry_MobileNetV2_model1_Based_Non_Augmented.zip /content/Strawberry_MobileNetV2_model1_Based_Non_Augmented"
      ],
      "metadata": {
        "colab": {
          "base_uri": "https://localhost:8080/"
        },
        "id": "rNQZ_BQnWtXQ",
        "outputId": "19d6b1d6-f2b8-45f2-c032-38dfaf16595a"
      },
      "execution_count": 18,
      "outputs": [
        {
          "output_type": "stream",
          "name": "stdout",
          "text": [
            "  adding: content/Strawberry_MobileNetV2_model1_Based_Non_Augmented/ (stored 0%)\n",
            "  adding: content/Strawberry_MobileNetV2_model1_Based_Non_Augmented/keras_metadata.pb (deflated 96%)\n",
            "  adding: content/Strawberry_MobileNetV2_model1_Based_Non_Augmented/fingerprint.pb (stored 0%)\n",
            "  adding: content/Strawberry_MobileNetV2_model1_Based_Non_Augmented/variables/ (stored 0%)\n",
            "  adding: content/Strawberry_MobileNetV2_model1_Based_Non_Augmented/variables/variables.data-00000-of-00001 (deflated 8%)\n",
            "  adding: content/Strawberry_MobileNetV2_model1_Based_Non_Augmented/variables/variables.index (deflated 77%)\n",
            "  adding: content/Strawberry_MobileNetV2_model1_Based_Non_Augmented/assets/ (stored 0%)\n",
            "  adding: content/Strawberry_MobileNetV2_model1_Based_Non_Augmented/saved_model.pb (deflated 91%)\n"
          ]
        }
      ]
    },
    {
      "cell_type": "markdown",
      "source": [],
      "metadata": {
        "id": "ysWsQ7VOWcrS"
      }
    },
    {
      "cell_type": "code",
      "source": [
        "# Difine the callbacks\n",
        "# Save the best model\n",
        "checkpoint_callback = ModelCheckpoint(filepath=\"Strawberry_MobileNetV2_model2_Based_Non_Augmented\", save_best_only=True, monitor=\"val_accuracy\", mode=\"max\", verbose=1)\n",
        "\n",
        "# Early stopping\n",
        "early_stopping_callback = EarlyStopping(monitor=\"val_accuracy\", mode=\"max\", patience=20, verbose=1, restore_best_weights=True)\n",
        "\n",
        "# Reduce learning rate\n",
        "reduce_lr_callback = ReduceLROnPlateau(monitor=\"val_loss\", factor=0.1, patience=5, verbose=1, mode=\"min\", min_delta=0.0001, cooldown=0, min_lr=0)\n",
        "\n",
        "# Callbacks list\n",
        "callbacks=[checkpoint_callback, early_stopping_callback, reduce_lr_callback]"
      ],
      "metadata": {
        "id": "Zpnn2NstWfmQ"
      },
      "execution_count": 19,
      "outputs": []
    },
    {
      "cell_type": "code",
      "source": [
        "# Define DIY Model\n",
        "MobileNetV2_model_2 = tf.keras.models.Sequential([\n",
        "    # MobileNetV2 Layer\n",
        "    MobileNetV2(include_top=False,weights='imagenet',input_shape=(224, 224, 3)),\n",
        "    # Global Average Pooling Layer\n",
        "    tf.keras.layers.GlobalAveragePooling2D(),\n",
        "    # Drop Out Layer\n",
        "    tf.keras.layers.Dropout(0.2),\n",
        "    # 256 neuron hidden layer\n",
        "    tf.keras.layers.Dense(256, activation='relu'),\n",
        "    # Output\n",
        "    tf.keras.layers.Dense(2, activation='softmax') \n",
        "  ])\n",
        "\n",
        "\n",
        "# Compile Model\n",
        "MobileNetV2_model_2.compile(loss='categorical_crossentropy',optimizer=tf.keras.optimizers.Adam(), metrics=['accuracy']) \n",
        "\n",
        "# Model Summary\n",
        "MobileNetV2_model_2.summary()"
      ],
      "metadata": {
        "colab": {
          "base_uri": "https://localhost:8080/"
        },
        "id": "TKJzRLwFWiGV",
        "outputId": "94acfdcc-3caf-4c34-d403-c2e11f413e21"
      },
      "execution_count": 20,
      "outputs": [
        {
          "output_type": "stream",
          "name": "stdout",
          "text": [
            "Model: \"sequential_2\"\n",
            "_________________________________________________________________\n",
            " Layer (type)                Output Shape              Param #   \n",
            "=================================================================\n",
            " mobilenetv2_1.00_224 (Funct  (None, 7, 7, 1280)       2257984   \n",
            " ional)                                                          \n",
            "                                                                 \n",
            " global_average_pooling2d_1   (None, 1280)             0         \n",
            " (GlobalAveragePooling2D)                                        \n",
            "                                                                 \n",
            " dropout_2 (Dropout)         (None, 1280)              0         \n",
            "                                                                 \n",
            " dense_4 (Dense)             (None, 256)               327936    \n",
            "                                                                 \n",
            " dense_5 (Dense)             (None, 2)                 514       \n",
            "                                                                 \n",
            "=================================================================\n",
            "Total params: 2,586,434\n",
            "Trainable params: 2,552,322\n",
            "Non-trainable params: 34,112\n",
            "_________________________________________________________________\n"
          ]
        }
      ]
    },
    {
      "cell_type": "code",
      "source": [
        "# Define the number of epochs\n",
        "num_epochs = 100\n",
        "\n",
        "# Train the model\n",
        "history_MobileNetV2_model_2 = MobileNetV2_model_2.fit(train_generator, epochs=num_epochs, validation_data=validation_generator, callbacks=callbacks)"
      ],
      "metadata": {
        "colab": {
          "base_uri": "https://localhost:8080/"
        },
        "id": "gIiVwWuoWlxr",
        "outputId": "1ee17e37-96b8-464b-a799-42b2db06c5e9"
      },
      "execution_count": 21,
      "outputs": [
        {
          "output_type": "stream",
          "name": "stdout",
          "text": [
            "Epoch 1/100\n",
            "180/180 [==============================] - ETA: 0s - loss: 0.0407 - accuracy: 0.9858\n",
            "Epoch 1: val_accuracy improved from -inf to 0.92556, saving model to Strawberry_MobileNetV2_model2_Based_Non_Augmented\n"
          ]
        },
        {
          "output_type": "stream",
          "name": "stderr",
          "text": [
            "WARNING:absl:Function `_wrapped_model` contains input name(s) mobilenetv2_1.00_224_input with unsupported characters which will be renamed to mobilenetv2_1_00_224_input in the SavedModel.\n",
            "WARNING:absl:Found untraced functions such as _jit_compiled_convolution_op, _jit_compiled_convolution_op, _jit_compiled_convolution_op, _jit_compiled_convolution_op, _jit_compiled_convolution_op while saving (showing 5 of 52). These functions will not be directly callable after loading.\n"
          ]
        },
        {
          "output_type": "stream",
          "name": "stdout",
          "text": [
            "\b\b\b\b\b\b\b\b\b\b\b\b\b\b\b\b\b\b\b\b\b\b\b\b\b\b\b\b\b\b\b\b\b\b\b\b\b\b\b\b\b\b\b\b\b\b\b\b\b\b\b\b\b\b\b\b\b\b\b\b\b\b\b\b\b\b\b\b\b\b\b\b\b\b\b\b\b\b\b\b\b\b\b\b\r180/180 [==============================] - 74s 254ms/step - loss: 0.0407 - accuracy: 0.9858 - val_loss: 2.3541 - val_accuracy: 0.9256 - lr: 0.0010\n",
            "Epoch 2/100\n",
            "180/180 [==============================] - ETA: 0s - loss: 0.0204 - accuracy: 0.9931\n",
            "Epoch 2: val_accuracy did not improve from 0.92556\n",
            "180/180 [==============================] - 22s 120ms/step - loss: 0.0204 - accuracy: 0.9931 - val_loss: 1.8858 - val_accuracy: 0.9222 - lr: 0.0010\n",
            "Epoch 3/100\n",
            "180/180 [==============================] - ETA: 0s - loss: 0.0154 - accuracy: 0.9975\n",
            "Epoch 3: val_accuracy did not improve from 0.92556\n",
            "180/180 [==============================] - 19s 104ms/step - loss: 0.0154 - accuracy: 0.9975 - val_loss: 0.9374 - val_accuracy: 0.9256 - lr: 0.0010\n",
            "Epoch 4/100\n",
            "180/180 [==============================] - ETA: 0s - loss: 0.0352 - accuracy: 0.9936\n",
            "Epoch 4: val_accuracy did not improve from 0.92556\n",
            "180/180 [==============================] - 19s 108ms/step - loss: 0.0352 - accuracy: 0.9936 - val_loss: 7.5414 - val_accuracy: 0.5433 - lr: 0.0010\n",
            "Epoch 5/100\n",
            "180/180 [==============================] - ETA: 0s - loss: 0.0049 - accuracy: 0.9983\n",
            "Epoch 5: val_accuracy did not improve from 0.92556\n",
            "180/180 [==============================] - 19s 104ms/step - loss: 0.0049 - accuracy: 0.9983 - val_loss: 5.1849 - val_accuracy: 0.7489 - lr: 0.0010\n",
            "Epoch 6/100\n",
            "180/180 [==============================] - ETA: 0s - loss: 1.3870e-04 - accuracy: 1.0000\n",
            "Epoch 6: val_accuracy did not improve from 0.92556\n",
            "180/180 [==============================] - 19s 107ms/step - loss: 1.3870e-04 - accuracy: 1.0000 - val_loss: 2.2480 - val_accuracy: 0.8833 - lr: 0.0010\n",
            "Epoch 7/100\n",
            "180/180 [==============================] - ETA: 0s - loss: 6.4288e-05 - accuracy: 1.0000\n",
            "Epoch 7: val_accuracy improved from 0.92556 to 0.94556, saving model to Strawberry_MobileNetV2_model2_Based_Non_Augmented\n"
          ]
        },
        {
          "output_type": "stream",
          "name": "stderr",
          "text": [
            "WARNING:absl:Function `_wrapped_model` contains input name(s) mobilenetv2_1.00_224_input with unsupported characters which will be renamed to mobilenetv2_1_00_224_input in the SavedModel.\n",
            "WARNING:absl:Found untraced functions such as _jit_compiled_convolution_op, _jit_compiled_convolution_op, _jit_compiled_convolution_op, _jit_compiled_convolution_op, _jit_compiled_convolution_op while saving (showing 5 of 52). These functions will not be directly callable after loading.\n"
          ]
        },
        {
          "output_type": "stream",
          "name": "stdout",
          "text": [
            "\b\b\b\b\b\b\b\b\b\b\b\b\b\b\b\b\b\b\b\b\b\b\b\b\b\b\b\b\b\b\b\b\b\b\b\b\b\b\b\b\b\b\b\b\b\b\b\b\b\b\b\b\b\b\b\b\b\b\b\b\b\b\b\b\b\b\b\b\b\b\b\b\b\b\b\b\b\b\b\b\b\b\b\b\b\b\b\b\r180/180 [==============================] - 42s 236ms/step - loss: 6.4288e-05 - accuracy: 1.0000 - val_loss: 1.0202 - val_accuracy: 0.9456 - lr: 0.0010\n",
            "Epoch 8/100\n",
            "180/180 [==============================] - ETA: 0s - loss: 4.3806e-05 - accuracy: 1.0000\n",
            "Epoch 8: val_accuracy improved from 0.94556 to 0.96667, saving model to Strawberry_MobileNetV2_model2_Based_Non_Augmented\n"
          ]
        },
        {
          "output_type": "stream",
          "name": "stderr",
          "text": [
            "WARNING:absl:Function `_wrapped_model` contains input name(s) mobilenetv2_1.00_224_input with unsupported characters which will be renamed to mobilenetv2_1_00_224_input in the SavedModel.\n",
            "WARNING:absl:Found untraced functions such as _jit_compiled_convolution_op, _jit_compiled_convolution_op, _jit_compiled_convolution_op, _jit_compiled_convolution_op, _jit_compiled_convolution_op while saving (showing 5 of 52). These functions will not be directly callable after loading.\n"
          ]
        },
        {
          "output_type": "stream",
          "name": "stdout",
          "text": [
            "\b\b\b\b\b\b\b\b\b\b\b\b\b\b\b\b\b\b\b\b\b\b\b\b\b\b\b\b\b\b\b\b\b\b\b\b\b\b\b\b\b\b\b\b\b\b\b\b\b\b\b\b\b\b\b\b\b\b\b\b\b\b\b\b\b\b\b\b\b\b\b\b\b\b\b\b\b\b\b\b\b\b\b\b\b\b\b\b\r180/180 [==============================] - 44s 242ms/step - loss: 4.3806e-05 - accuracy: 1.0000 - val_loss: 0.6188 - val_accuracy: 0.9667 - lr: 0.0010\n",
            "Epoch 9/100\n",
            "180/180 [==============================] - ETA: 0s - loss: 1.6231e-05 - accuracy: 1.0000\n",
            "Epoch 9: val_accuracy improved from 0.96667 to 0.97889, saving model to Strawberry_MobileNetV2_model2_Based_Non_Augmented\n"
          ]
        },
        {
          "output_type": "stream",
          "name": "stderr",
          "text": [
            "WARNING:absl:Function `_wrapped_model` contains input name(s) mobilenetv2_1.00_224_input with unsupported characters which will be renamed to mobilenetv2_1_00_224_input in the SavedModel.\n",
            "WARNING:absl:Found untraced functions such as _jit_compiled_convolution_op, _jit_compiled_convolution_op, _jit_compiled_convolution_op, _jit_compiled_convolution_op, _jit_compiled_convolution_op while saving (showing 5 of 52). These functions will not be directly callable after loading.\n"
          ]
        },
        {
          "output_type": "stream",
          "name": "stdout",
          "text": [
            "\b\b\b\b\b\b\b\b\b\b\b\b\b\b\b\b\b\b\b\b\b\b\b\b\b\b\b\b\b\b\b\b\b\b\b\b\b\b\b\b\b\b\b\b\b\b\b\b\b\b\b\b\b\b\b\b\b\b\b\b\b\b\b\b\b\b\b\b\b\b\b\b\b\b\b\b\b\b\b\b\b\b\b\b\b\b\b\b\r180/180 [==============================] - 44s 246ms/step - loss: 1.6231e-05 - accuracy: 1.0000 - val_loss: 0.3717 - val_accuracy: 0.9789 - lr: 0.0010\n",
            "Epoch 10/100\n",
            "180/180 [==============================] - ETA: 0s - loss: 1.7454e-05 - accuracy: 1.0000\n",
            "Epoch 10: val_accuracy improved from 0.97889 to 0.98667, saving model to Strawberry_MobileNetV2_model2_Based_Non_Augmented\n"
          ]
        },
        {
          "output_type": "stream",
          "name": "stderr",
          "text": [
            "WARNING:absl:Function `_wrapped_model` contains input name(s) mobilenetv2_1.00_224_input with unsupported characters which will be renamed to mobilenetv2_1_00_224_input in the SavedModel.\n",
            "WARNING:absl:Found untraced functions such as _jit_compiled_convolution_op, _jit_compiled_convolution_op, _jit_compiled_convolution_op, _jit_compiled_convolution_op, _jit_compiled_convolution_op while saving (showing 5 of 52). These functions will not be directly callable after loading.\n"
          ]
        },
        {
          "output_type": "stream",
          "name": "stdout",
          "text": [
            "\b\b\b\b\b\b\b\b\b\b\b\b\b\b\b\b\b\b\b\b\b\b\b\b\b\b\b\b\b\b\b\b\b\b\b\b\b\b\b\b\b\b\b\b\b\b\b\b\b\b\b\b\b\b\b\b\b\b\b\b\b\b\b\b\b\b\b\b\b\b\b\b\b\b\b\b\b\b\b\b\b\b\b\b\b\b\b\b\r180/180 [==============================] - 42s 236ms/step - loss: 1.7454e-05 - accuracy: 1.0000 - val_loss: 0.1969 - val_accuracy: 0.9867 - lr: 0.0010\n",
            "Epoch 11/100\n",
            "180/180 [==============================] - ETA: 0s - loss: 7.7967e-04 - accuracy: 0.9997\n",
            "Epoch 11: val_accuracy improved from 0.98667 to 0.99444, saving model to Strawberry_MobileNetV2_model2_Based_Non_Augmented\n"
          ]
        },
        {
          "output_type": "stream",
          "name": "stderr",
          "text": [
            "WARNING:absl:Function `_wrapped_model` contains input name(s) mobilenetv2_1.00_224_input with unsupported characters which will be renamed to mobilenetv2_1_00_224_input in the SavedModel.\n",
            "WARNING:absl:Found untraced functions such as _jit_compiled_convolution_op, _jit_compiled_convolution_op, _jit_compiled_convolution_op, _jit_compiled_convolution_op, _jit_compiled_convolution_op while saving (showing 5 of 52). These functions will not be directly callable after loading.\n"
          ]
        },
        {
          "output_type": "stream",
          "name": "stdout",
          "text": [
            "\b\b\b\b\b\b\b\b\b\b\b\b\b\b\b\b\b\b\b\b\b\b\b\b\b\b\b\b\b\b\b\b\b\b\b\b\b\b\b\b\b\b\b\b\b\b\b\b\b\b\b\b\b\b\b\b\b\b\b\b\b\b\b\b\b\b\b\b\b\b\b\b\b\b\b\b\b\b\b\b\b\b\b\b\b\b\b\b\r180/180 [==============================] - 43s 241ms/step - loss: 7.7967e-04 - accuracy: 0.9997 - val_loss: 0.0529 - val_accuracy: 0.9944 - lr: 0.0010\n",
            "Epoch 12/100\n",
            "180/180 [==============================] - ETA: 0s - loss: 3.7051e-04 - accuracy: 1.0000\n",
            "Epoch 12: val_accuracy did not improve from 0.99444\n",
            "180/180 [==============================] - 19s 106ms/step - loss: 3.7051e-04 - accuracy: 1.0000 - val_loss: 0.0758 - val_accuracy: 0.9944 - lr: 0.0010\n",
            "Epoch 13/100\n",
            "180/180 [==============================] - ETA: 0s - loss: 2.7872e-05 - accuracy: 1.0000\n",
            "Epoch 13: val_accuracy improved from 0.99444 to 0.99778, saving model to Strawberry_MobileNetV2_model2_Based_Non_Augmented\n"
          ]
        },
        {
          "output_type": "stream",
          "name": "stderr",
          "text": [
            "WARNING:absl:Function `_wrapped_model` contains input name(s) mobilenetv2_1.00_224_input with unsupported characters which will be renamed to mobilenetv2_1_00_224_input in the SavedModel.\n",
            "WARNING:absl:Found untraced functions such as _jit_compiled_convolution_op, _jit_compiled_convolution_op, _jit_compiled_convolution_op, _jit_compiled_convolution_op, _jit_compiled_convolution_op while saving (showing 5 of 52). These functions will not be directly callable after loading.\n"
          ]
        },
        {
          "output_type": "stream",
          "name": "stdout",
          "text": [
            "\b\b\b\b\b\b\b\b\b\b\b\b\b\b\b\b\b\b\b\b\b\b\b\b\b\b\b\b\b\b\b\b\b\b\b\b\b\b\b\b\b\b\b\b\b\b\b\b\b\b\b\b\b\b\b\b\b\b\b\b\b\b\b\b\b\b\b\b\b\b\b\b\b\b\b\b\b\b\b\b\b\b\b\b\b\b\b\b\r180/180 [==============================] - 43s 240ms/step - loss: 2.7872e-05 - accuracy: 1.0000 - val_loss: 0.0103 - val_accuracy: 0.9978 - lr: 0.0010\n",
            "Epoch 14/100\n",
            "180/180 [==============================] - ETA: 0s - loss: 1.0129e-05 - accuracy: 1.0000\n",
            "Epoch 14: val_accuracy improved from 0.99778 to 1.00000, saving model to Strawberry_MobileNetV2_model2_Based_Non_Augmented\n"
          ]
        },
        {
          "output_type": "stream",
          "name": "stderr",
          "text": [
            "WARNING:absl:Function `_wrapped_model` contains input name(s) mobilenetv2_1.00_224_input with unsupported characters which will be renamed to mobilenetv2_1_00_224_input in the SavedModel.\n",
            "WARNING:absl:Found untraced functions such as _jit_compiled_convolution_op, _jit_compiled_convolution_op, _jit_compiled_convolution_op, _jit_compiled_convolution_op, _jit_compiled_convolution_op while saving (showing 5 of 52). These functions will not be directly callable after loading.\n"
          ]
        },
        {
          "output_type": "stream",
          "name": "stdout",
          "text": [
            "\b\b\b\b\b\b\b\b\b\b\b\b\b\b\b\b\b\b\b\b\b\b\b\b\b\b\b\b\b\b\b\b\b\b\b\b\b\b\b\b\b\b\b\b\b\b\b\b\b\b\b\b\b\b\b\b\b\b\b\b\b\b\b\b\b\b\b\b\b\b\b\b\b\b\b\b\b\b\b\b\b\b\b\b\b\b\b\b\r180/180 [==============================] - 44s 242ms/step - loss: 1.0129e-05 - accuracy: 1.0000 - val_loss: 2.4489e-07 - val_accuracy: 1.0000 - lr: 0.0010\n",
            "Epoch 15/100\n",
            "180/180 [==============================] - ETA: 0s - loss: 7.9594e-06 - accuracy: 1.0000\n",
            "Epoch 15: val_accuracy did not improve from 1.00000\n",
            "180/180 [==============================] - 19s 106ms/step - loss: 7.9594e-06 - accuracy: 1.0000 - val_loss: 5.7220e-08 - val_accuracy: 1.0000 - lr: 0.0010\n",
            "Epoch 16/100\n",
            "180/180 [==============================] - ETA: 0s - loss: 3.3485e-05 - accuracy: 1.0000\n",
            "Epoch 16: val_accuracy did not improve from 1.00000\n",
            "180/180 [==============================] - 20s 112ms/step - loss: 3.3485e-05 - accuracy: 1.0000 - val_loss: 2.9405e-08 - val_accuracy: 1.0000 - lr: 0.0010\n",
            "Epoch 17/100\n",
            "180/180 [==============================] - ETA: 0s - loss: 0.0599 - accuracy: 0.9858\n",
            "Epoch 17: val_accuracy did not improve from 1.00000\n",
            "180/180 [==============================] - 18s 102ms/step - loss: 0.0599 - accuracy: 0.9858 - val_loss: 3.3211 - val_accuracy: 0.6700 - lr: 0.0010\n",
            "Epoch 18/100\n",
            "180/180 [==============================] - ETA: 0s - loss: 0.0238 - accuracy: 0.9942\n",
            "Epoch 18: val_accuracy did not improve from 1.00000\n",
            "180/180 [==============================] - 19s 106ms/step - loss: 0.0238 - accuracy: 0.9942 - val_loss: 25.8250 - val_accuracy: 0.5067 - lr: 0.0010\n",
            "Epoch 19/100\n",
            "180/180 [==============================] - ETA: 0s - loss: 0.0130 - accuracy: 0.9989\n",
            "Epoch 19: val_accuracy did not improve from 1.00000\n",
            "\n",
            "Epoch 19: ReduceLROnPlateau reducing learning rate to 0.00010000000474974513.\n",
            "180/180 [==============================] - 19s 104ms/step - loss: 0.0130 - accuracy: 0.9989 - val_loss: 1.0690 - val_accuracy: 0.9389 - lr: 0.0010\n",
            "Epoch 20/100\n",
            "180/180 [==============================] - ETA: 0s - loss: 0.0134 - accuracy: 0.9981\n",
            "Epoch 20: val_accuracy did not improve from 1.00000\n",
            "180/180 [==============================] - 19s 106ms/step - loss: 0.0134 - accuracy: 0.9981 - val_loss: 0.3513 - val_accuracy: 0.9800 - lr: 1.0000e-04\n",
            "Epoch 21/100\n",
            "180/180 [==============================] - ETA: 0s - loss: 0.0070 - accuracy: 0.9986\n",
            "Epoch 21: val_accuracy did not improve from 1.00000\n",
            "180/180 [==============================] - 18s 102ms/step - loss: 0.0070 - accuracy: 0.9986 - val_loss: 0.0617 - val_accuracy: 0.9989 - lr: 1.0000e-04\n",
            "Epoch 22/100\n",
            "180/180 [==============================] - ETA: 0s - loss: 0.0032 - accuracy: 0.9994\n",
            "Epoch 22: val_accuracy did not improve from 1.00000\n",
            "180/180 [==============================] - 18s 102ms/step - loss: 0.0032 - accuracy: 0.9994 - val_loss: 0.0625 - val_accuracy: 0.9989 - lr: 1.0000e-04\n",
            "Epoch 23/100\n",
            "180/180 [==============================] - ETA: 0s - loss: 0.0016 - accuracy: 0.9994\n",
            "Epoch 23: val_accuracy did not improve from 1.00000\n",
            "180/180 [==============================] - 19s 106ms/step - loss: 0.0016 - accuracy: 0.9994 - val_loss: 0.0614 - val_accuracy: 0.9978 - lr: 1.0000e-04\n",
            "Epoch 24/100\n",
            "180/180 [==============================] - ETA: 0s - loss: 0.0023 - accuracy: 0.9992\n",
            "Epoch 24: val_accuracy did not improve from 1.00000\n",
            "\n",
            "Epoch 24: ReduceLROnPlateau reducing learning rate to 1.0000000474974514e-05.\n",
            "180/180 [==============================] - 19s 103ms/step - loss: 0.0023 - accuracy: 0.9992 - val_loss: 0.0289 - val_accuracy: 0.9989 - lr: 1.0000e-04\n",
            "Epoch 25/100\n",
            "180/180 [==============================] - ETA: 0s - loss: 0.0011 - accuracy: 0.9997\n",
            "Epoch 25: val_accuracy did not improve from 1.00000\n",
            "180/180 [==============================] - 19s 106ms/step - loss: 0.0011 - accuracy: 0.9997 - val_loss: 0.0017 - val_accuracy: 0.9989 - lr: 1.0000e-05\n",
            "Epoch 26/100\n",
            "180/180 [==============================] - ETA: 0s - loss: 0.0012 - accuracy: 0.9997\n",
            "Epoch 26: val_accuracy did not improve from 1.00000\n",
            "180/180 [==============================] - 18s 102ms/step - loss: 0.0012 - accuracy: 0.9997 - val_loss: 0.0045 - val_accuracy: 0.9989 - lr: 1.0000e-05\n",
            "Epoch 27/100\n",
            "180/180 [==============================] - ETA: 0s - loss: 7.3178e-04 - accuracy: 1.0000\n",
            "Epoch 27: val_accuracy did not improve from 1.00000\n",
            "180/180 [==============================] - 19s 106ms/step - loss: 7.3178e-04 - accuracy: 1.0000 - val_loss: 0.0084 - val_accuracy: 0.9989 - lr: 1.0000e-05\n",
            "Epoch 28/100\n",
            "180/180 [==============================] - ETA: 0s - loss: 7.5734e-04 - accuracy: 1.0000\n",
            "Epoch 28: val_accuracy did not improve from 1.00000\n",
            "180/180 [==============================] - 19s 103ms/step - loss: 7.5734e-04 - accuracy: 1.0000 - val_loss: 0.0064 - val_accuracy: 0.9989 - lr: 1.0000e-05\n",
            "Epoch 29/100\n",
            "180/180 [==============================] - ETA: 0s - loss: 6.1973e-04 - accuracy: 1.0000\n",
            "Epoch 29: val_accuracy did not improve from 1.00000\n",
            "\n",
            "Epoch 29: ReduceLROnPlateau reducing learning rate to 1.0000000656873453e-06.\n",
            "180/180 [==============================] - 19s 105ms/step - loss: 6.1973e-04 - accuracy: 1.0000 - val_loss: 0.0043 - val_accuracy: 0.9989 - lr: 1.0000e-05\n",
            "Epoch 30/100\n",
            "180/180 [==============================] - ETA: 0s - loss: 5.0696e-04 - accuracy: 1.0000\n",
            "Epoch 30: val_accuracy did not improve from 1.00000\n",
            "180/180 [==============================] - 19s 103ms/step - loss: 5.0696e-04 - accuracy: 1.0000 - val_loss: 0.0032 - val_accuracy: 0.9989 - lr: 1.0000e-06\n",
            "Epoch 31/100\n",
            "180/180 [==============================] - ETA: 0s - loss: 7.4578e-04 - accuracy: 1.0000\n",
            "Epoch 31: val_accuracy did not improve from 1.00000\n",
            "180/180 [==============================] - 19s 103ms/step - loss: 7.4578e-04 - accuracy: 1.0000 - val_loss: 0.0025 - val_accuracy: 0.9989 - lr: 1.0000e-06\n",
            "Epoch 32/100\n",
            "180/180 [==============================] - ETA: 0s - loss: 7.9877e-04 - accuracy: 1.0000\n",
            "Epoch 32: val_accuracy did not improve from 1.00000\n",
            "180/180 [==============================] - 19s 107ms/step - loss: 7.9877e-04 - accuracy: 1.0000 - val_loss: 0.0021 - val_accuracy: 0.9989 - lr: 1.0000e-06\n",
            "Epoch 33/100\n",
            "180/180 [==============================] - ETA: 0s - loss: 7.9782e-04 - accuracy: 1.0000\n",
            "Epoch 33: val_accuracy did not improve from 1.00000\n",
            "180/180 [==============================] - 18s 102ms/step - loss: 7.9782e-04 - accuracy: 1.0000 - val_loss: 0.0018 - val_accuracy: 0.9989 - lr: 1.0000e-06\n",
            "Epoch 34/100\n",
            "180/180 [==============================] - ETA: 0s - loss: 9.5047e-04 - accuracy: 0.9997\n",
            "Epoch 34: val_accuracy did not improve from 1.00000\n",
            "Restoring model weights from the end of the best epoch: 14.\n",
            "\n",
            "Epoch 34: ReduceLROnPlateau reducing learning rate to 1.0000001111620805e-07.\n",
            "180/180 [==============================] - 19s 107ms/step - loss: 9.5047e-04 - accuracy: 0.9997 - val_loss: 0.0015 - val_accuracy: 0.9989 - lr: 1.0000e-06\n",
            "Epoch 34: early stopping\n"
          ]
        }
      ]
    },
    {
      "cell_type": "code",
      "source": [
        "#-----------------------------------------------------------\n",
        "# Retrieve a list of list results on training and test data\n",
        "# sets for each training epoch\n",
        "#-----------------------------------------------------------\n",
        "acc      = history_MobileNetV2_model_2.history['accuracy' ]\n",
        "val_acc  = history_MobileNetV2_model_2.history['val_accuracy' ]\n",
        "loss     = history_MobileNetV2_model_2.history['loss' ]\n",
        "val_loss = history_MobileNetV2_model_2.history['val_loss' ]\n",
        "\n",
        "epochs   = range(len(acc)) # Get number of epochs\n",
        "\n",
        "#------------------------------------------------\n",
        "# Plot training and validation accuracy per epoch\n",
        "#------------------------------------------------\n",
        "plt.plot  (epochs, acc )\n",
        "plt.plot  (epochs, val_acc )\n",
        "plt.title ('Training and validation accuracy MobileNetV2 Model 2')\n",
        "plt.legend(['train', 'val'], loc='upper left')\n",
        "plt.figure()\n",
        "\n",
        "#------------------------------------------------\n",
        "# Plot training and validation loss per epoch\n",
        "#------------------------------------------------\n",
        "plt.plot  (epochs, loss)\n",
        "plt.plot  (epochs, val_loss)\n",
        "plt.title ('Training and validation loss MobileNetV2 Model 2')\n",
        "plt.legend(['train', 'val'], loc='upper left')"
      ],
      "metadata": {
        "colab": {
          "base_uri": "https://localhost:8080/",
          "height": 904
        },
        "id": "t30OkU_CWrgr",
        "outputId": "8ee3e2e9-b9f2-45d3-a048-bf5fa9cdbefc"
      },
      "execution_count": 23,
      "outputs": [
        {
          "output_type": "execute_result",
          "data": {
            "text/plain": [
              "<matplotlib.legend.Legend at 0x7f725aca1d80>"
            ]
          },
          "metadata": {},
          "execution_count": 23
        },
        {
          "output_type": "display_data",
          "data": {
            "text/plain": [
              "<Figure size 640x480 with 1 Axes>"
            ],
            "image/png": "[encoded data removed]"
          },
          "metadata": {}
        },
        {
          "output_type": "display_data",
          "data": {
            "text/plain": [
              "<Figure size 640x480 with 1 Axes>"
            ],
            "image/png": "[encoded data removed]"
          },
          "metadata": {}
        }
      ]
    },
    {
      "cell_type": "code",
      "source": [
        "!zip -r /content/Strawberry_MobileNetV2_model2_Based_Non_Augmented.zip /content/Strawberry_MobileNetV2_model2_Based_Non_Augmented"
      ],
      "metadata": {
        "colab": {
          "base_uri": "https://localhost:8080/"
        },
        "id": "mGvmjLmhWuZK",
        "outputId": "5f66f4fb-a29a-4e71-cdb6-0ce23e3fa31f"
      },
      "execution_count": 24,
      "outputs": [
        {
          "output_type": "stream",
          "name": "stdout",
          "text": [
            "  adding: content/Strawberry_MobileNetV2_model2_Based_Non_Augmented/ (stored 0%)\n",
            "  adding: content/Strawberry_MobileNetV2_model2_Based_Non_Augmented/keras_metadata.pb (deflated 96%)\n",
            "  adding: content/Strawberry_MobileNetV2_model2_Based_Non_Augmented/fingerprint.pb (stored 0%)\n",
            "  adding: content/Strawberry_MobileNetV2_model2_Based_Non_Augmented/variables/ (stored 0%)\n",
            "  adding: content/Strawberry_MobileNetV2_model2_Based_Non_Augmented/variables/variables.data-00000-of-00001 (deflated 9%)\n",
            "  adding: content/Strawberry_MobileNetV2_model2_Based_Non_Augmented/variables/variables.index (deflated 77%)\n",
            "  adding: content/Strawberry_MobileNetV2_model2_Based_Non_Augmented/assets/ (stored 0%)\n",
            "  adding: content/Strawberry_MobileNetV2_model2_Based_Non_Augmented/saved_model.pb (deflated 91%)\n"
          ]
        }
      ]
    }
  ]
}