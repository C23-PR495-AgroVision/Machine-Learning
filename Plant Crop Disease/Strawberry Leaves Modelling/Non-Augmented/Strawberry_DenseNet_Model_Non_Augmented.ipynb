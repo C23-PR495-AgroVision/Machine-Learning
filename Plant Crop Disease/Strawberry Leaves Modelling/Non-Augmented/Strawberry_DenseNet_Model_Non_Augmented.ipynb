{
  "nbformat": 4,
  "nbformat_minor": 0,
  "metadata": {
    "colab": {
      "provenance": [],
      "gpuType": "T4"
    },
    "kernelspec": {
      "name": "python3",
      "display_name": "Python 3"
    },
    "language_info": {
      "name": "python"
    },
    "accelerator": "GPU",
    "gpuClass": "standard"
  },
  "cells": [
    {
      "cell_type": "code",
      "execution_count": null,
      "metadata": {
        "colab": {
          "base_uri": "https://localhost:8080/"
        },
        "id": "9iwERcGGK3pX",
        "outputId": "1e723dac-0d88-43f8-84a5-ba92b19387df"
      },
      "outputs": [
        {
          "output_type": "stream",
          "name": "stdout",
          "text": [
            "Looking in indexes: https://pypi.org/simple, https://us-python.pkg.dev/colab-wheels/public/simple/\n",
            "Requirement already satisfied: matplotlib in /usr/local/lib/python3.10/dist-packages (3.7.1)\n",
            "Requirement already satisfied: contourpy>=1.0.1 in /usr/local/lib/python3.10/dist-packages (from matplotlib) (1.0.7)\n",
            "Requirement already satisfied: cycler>=0.10 in /usr/local/lib/python3.10/dist-packages (from matplotlib) (0.11.0)\n",
            "Requirement already satisfied: fonttools>=4.22.0 in /usr/local/lib/python3.10/dist-packages (from matplotlib) (4.39.3)\n",
            "Requirement already satisfied: kiwisolver>=1.0.1 in /usr/local/lib/python3.10/dist-packages (from matplotlib) (1.4.4)\n",
            "Requirement already satisfied: numpy>=1.20 in /usr/local/lib/python3.10/dist-packages (from matplotlib) (1.22.4)\n",
            "Requirement already satisfied: packaging>=20.0 in /usr/local/lib/python3.10/dist-packages (from matplotlib) (23.1)\n",
            "Requirement already satisfied: pillow>=6.2.0 in /usr/local/lib/python3.10/dist-packages (from matplotlib) (8.4.0)\n",
            "Requirement already satisfied: pyparsing>=2.3.1 in /usr/local/lib/python3.10/dist-packages (from matplotlib) (3.0.9)\n",
            "Requirement already satisfied: python-dateutil>=2.7 in /usr/local/lib/python3.10/dist-packages (from matplotlib) (2.8.2)\n",
            "Requirement already satisfied: six>=1.5 in /usr/local/lib/python3.10/dist-packages (from python-dateutil>=2.7->matplotlib) (1.16.0)\n"
          ]
        }
      ],
      "source": [
        "pip install matplotlib"
      ]
    },
    {
      "cell_type": "code",
      "source": [
        "pip install opendatasets"
      ],
      "metadata": {
        "colab": {
          "base_uri": "https://localhost:8080/"
        },
        "id": "bZuSrKevLVfw",
        "outputId": "5215266c-fc57-464e-e1b7-f48a8398cce8"
      },
      "execution_count": null,
      "outputs": [
        {
          "output_type": "stream",
          "name": "stdout",
          "text": [
            "Looking in indexes: https://pypi.org/simple, https://us-python.pkg.dev/colab-wheels/public/simple/\n",
            "Requirement already satisfied: opendatasets in /usr/local/lib/python3.10/dist-packages (0.1.22)\n",
            "Requirement already satisfied: tqdm in /usr/local/lib/python3.10/dist-packages (from opendatasets) (4.65.0)\n",
            "Requirement already satisfied: kaggle in /usr/local/lib/python3.10/dist-packages (from opendatasets) (1.5.13)\n",
            "Requirement already satisfied: click in /usr/local/lib/python3.10/dist-packages (from opendatasets) (8.1.3)\n",
            "Requirement already satisfied: six>=1.10 in /usr/local/lib/python3.10/dist-packages (from kaggle->opendatasets) (1.16.0)\n",
            "Requirement already satisfied: certifi in /usr/local/lib/python3.10/dist-packages (from kaggle->opendatasets) (2022.12.7)\n",
            "Requirement already satisfied: python-dateutil in /usr/local/lib/python3.10/dist-packages (from kaggle->opendatasets) (2.8.2)\n",
            "Requirement already satisfied: requests in /usr/local/lib/python3.10/dist-packages (from kaggle->opendatasets) (2.27.1)\n",
            "Requirement already satisfied: python-slugify in /usr/local/lib/python3.10/dist-packages (from kaggle->opendatasets) (8.0.1)\n",
            "Requirement already satisfied: urllib3 in /usr/local/lib/python3.10/dist-packages (from kaggle->opendatasets) (1.26.15)\n",
            "Requirement already satisfied: text-unidecode>=1.3 in /usr/local/lib/python3.10/dist-packages (from python-slugify->kaggle->opendatasets) (1.3)\n",
            "Requirement already satisfied: charset-normalizer~=2.0.0 in /usr/local/lib/python3.10/dist-packages (from requests->kaggle->opendatasets) (2.0.12)\n",
            "Requirement already satisfied: idna<4,>=2.5 in /usr/local/lib/python3.10/dist-packages (from requests->kaggle->opendatasets) (3.4)\n"
          ]
        }
      ]
    },
    {
      "cell_type": "code",
      "source": [
        "# Library to dataset\n",
        "import opendatasets as od\n",
        "import os\n",
        "import zipfile\n",
        "import numpy as np\n",
        "\n",
        "# Surpress Warnings\n",
        "import warnings\n",
        "warnings.filterwarnings('ignore')\n",
        "os.environ['TF_CPP_MIN_LOG_LEVEL'] = '3' \n",
        "# library visualization\n",
        "import matplotlib.pyplot as plt\n",
        "\n",
        "# Library Tensorflow\n",
        "import tensorflow as tf\n",
        "from tensorflow import keras\n",
        "from tensorflow.keras.preprocessing.image import ImageDataGenerator\n",
        "from tensorflow.keras.callbacks import ModelCheckpoint, EarlyStopping, ReduceLROnPlateau\n",
        "from tensorflow.keras.applications.densenet import DenseNet121\n",
        "from tensorflow.keras.optimizers.legacy import Adam\n",
        "# Others\n",
        "import shutil\n",
        "import random\n"
      ],
      "metadata": {
        "id": "4EGiCfiqLXkS"
      },
      "execution_count": null,
      "outputs": []
    },
    {
      "cell_type": "markdown",
      "source": [
        "Load dataset"
      ],
      "metadata": {
        "id": "_9hqhi6qLaec"
      }
    },
    {
      "cell_type": "code",
      "source": [
        "# Download dataset\n",
        "od.download('https://www.kaggle.com/datasets/faudyanurul/strawberry')"
      ],
      "metadata": {
        "colab": {
          "base_uri": "https://localhost:8080/"
        },
        "id": "CiUStBGRLdz3",
        "outputId": "e45f96d4-f518-488a-aee5-107e026f9bdd"
      },
      "execution_count": null,
      "outputs": [
        {
          "output_type": "stream",
          "name": "stdout",
          "text": [
            "Skipping, found downloaded files in \"./strawberry\" (use force=True to force download)\n"
          ]
        }
      ]
    },
    {
      "cell_type": "code",
      "source": [
        "# Load dataset\n",
        "print(\"==========================Training Data====================\")\n",
        "train_data = tf.keras.preprocessing.image_dataset_from_directory(\n",
        "    \"strawberry/Strawberry/train\",\n",
        "    label_mode=\"categorical\",\n",
        "    class_names=['Strawberry___healthy', 'Strawberry___Leaf_scorch'],\n",
        "    color_mode=\"rgb\",\n",
        "    batch_size=1,\n",
        "    image_size=(256, 256),\n",
        "    shuffle=True,\n",
        "    seed=123\n",
        ")\n",
        "print(\"==========================Validation Data====================\")\n",
        "val_data = tf.keras.preprocessing.image_dataset_from_directory(\n",
        "    \"strawberry/Strawberry/valid\",\n",
        "    label_mode=\"categorical\",\n",
        "    class_names=['Strawberry___healthy', 'Strawberry___Leaf_scorch'],\n",
        "    color_mode=\"rgb\",\n",
        "    batch_size=1,\n",
        "    image_size=(256, 256),\n",
        "    shuffle=True,\n",
        "    seed=123\n",
        ")"
      ],
      "metadata": {
        "colab": {
          "base_uri": "https://localhost:8080/"
        },
        "id": "1B0zf-1-LmGI",
        "outputId": "fec345a0-7a00-4ee5-902e-18258e200307"
      },
      "execution_count": null,
      "outputs": [
        {
          "output_type": "stream",
          "name": "stdout",
          "text": [
            "==========================Training Data====================\n",
            "Found 3598 files belonging to 2 classes.\n",
            "==========================Validation Data====================\n",
            "Found 900 files belonging to 2 classes.\n"
          ]
        }
      ]
    },
    {
      "cell_type": "code",
      "source": [
        "# All images will be rescaled by 1./255.\n",
        "train_datagen = ImageDataGenerator(rescale = 1.0/256.)\n",
        "test_datagen  = ImageDataGenerator(rescale = 1.0/256.)\n",
        "\n",
        "# --------------------\n",
        "# Flow training images in batches of 20 using train_datagen generator\n",
        "# --------------------\n",
        "train_generator = train_datagen.flow_from_directory(\"strawberry/Strawberry/train\",\n",
        "                                                    batch_size=20,\n",
        "                                                    class_mode='categorical',\n",
        "                                                    target_size=(224, 224))     \n",
        "# --------------------\n",
        "# Flow validation images in batches of 20 using test_datagen generator\n",
        "# --------------------\n",
        "validation_generator =  test_datagen.flow_from_directory(\"strawberry/Strawberry/valid\",\n",
        "                                                         batch_size=20,\n",
        "                                                         class_mode  = 'categorical',\n",
        "                                                         target_size = (224, 224))"
      ],
      "metadata": {
        "colab": {
          "base_uri": "https://localhost:8080/"
        },
        "id": "bjm6mgOzL1Qu",
        "outputId": "f59e1735-07f0-4269-d28a-bd84c6548257"
      },
      "execution_count": null,
      "outputs": [
        {
          "output_type": "stream",
          "name": "stdout",
          "text": [
            "Found 3598 images belonging to 2 classes.\n",
            "Found 900 images belonging to 2 classes.\n"
          ]
        }
      ]
    },
    {
      "cell_type": "markdown",
      "source": [
        "listResource"
      ],
      "metadata": {
        "id": "CXX8ytD5L7aj"
      }
    },
    {
      "cell_type": "code",
      "source": [
        "# Check GPU\n",
        "!nvidia-smi"
      ],
      "metadata": {
        "colab": {
          "base_uri": "https://localhost:8080/"
        },
        "id": "WFqYpgkBL9ok",
        "outputId": "04e867e4-fcac-4bf9-c5c8-5949c5131783"
      },
      "execution_count": null,
      "outputs": [
        {
          "output_type": "stream",
          "name": "stdout",
          "text": [
            "Sun Jun  4 09:08:52 2023       \n",
            "+-----------------------------------------------------------------------------+\n",
            "| NVIDIA-SMI 525.85.12    Driver Version: 525.85.12    CUDA Version: 12.0     |\n",
            "|-------------------------------+----------------------+----------------------+\n",
            "| GPU  Name        Persistence-M| Bus-Id        Disp.A | Volatile Uncorr. ECC |\n",
            "| Fan  Temp  Perf  Pwr:Usage/Cap|         Memory-Usage | GPU-Util  Compute M. |\n",
            "|                               |                      |               MIG M. |\n",
            "|===============================+======================+======================|\n",
            "|   0  Tesla T4            Off  | 00000000:00:04.0 Off |                    0 |\n",
            "| N/A   52C    P0    26W /  70W |    389MiB / 15360MiB |      0%      Default |\n",
            "|                               |                      |                  N/A |\n",
            "+-------------------------------+----------------------+----------------------+\n",
            "                                                                               \n",
            "+-----------------------------------------------------------------------------+\n",
            "| Processes:                                                                  |\n",
            "|  GPU   GI   CI        PID   Type   Process name                  GPU Memory |\n",
            "|        ID   ID                                                   Usage      |\n",
            "|=============================================================================|\n",
            "+-----------------------------------------------------------------------------+\n"
          ]
        }
      ]
    },
    {
      "cell_type": "code",
      "source": [
        "# Lis physical devices\n",
        "devices = tf.config.experimental.list_physical_devices(\"GPU\")\n",
        "devices"
      ],
      "metadata": {
        "colab": {
          "base_uri": "https://localhost:8080/"
        },
        "id": "9Gze1q7mMCWx",
        "outputId": "e21c2a79-05db-429e-a89e-2551613ec714"
      },
      "execution_count": null,
      "outputs": [
        {
          "output_type": "execute_result",
          "data": {
            "text/plain": [
              "[PhysicalDevice(name='/physical_device:GPU:0', device_type='GPU')]"
            ]
          },
          "metadata": {},
          "execution_count": 8
        }
      ]
    },
    {
      "cell_type": "code",
      "source": [
        "# Define the GPU strategy\n",
        "mirrored_strategy = tf.distribute.MirroredStrategy(devices=[\"/gpu:0\"])"
      ],
      "metadata": {
        "id": "K85KUF20MG5O"
      },
      "execution_count": null,
      "outputs": []
    },
    {
      "cell_type": "markdown",
      "source": [],
      "metadata": {
        "id": "FECAVi76NpyO"
      }
    },
    {
      "cell_type": "code",
      "source": [
        "# Difine the callbacks\n",
        "# Save the best model\n",
        "checkpoint_callback = ModelCheckpoint(filepath=\"DenseNet_model1_Strawberry_Based_Non_Augmented\", save_best_only=True, monitor=\"val_accuracy\", mode=\"max\", verbose=1)\n",
        "\n",
        "\n",
        "# Early stopping\n",
        "early_stopping_callback = EarlyStopping(monitor=\"val_accuracy\", mode=\"max\", patience=20, verbose=1, restore_best_weights=True)\n",
        "\n",
        "# Reduce learning rate\n",
        "reduce_lr_callback = ReduceLROnPlateau(monitor=\"val_loss\", factor=0.1, patience=5, verbose=1, mode=\"min\", min_delta=0.0001, cooldown=0, min_lr=0)\n",
        "\n",
        "# Callbacks list\n",
        "callbacks=[checkpoint_callback, early_stopping_callback, reduce_lr_callback]"
      ],
      "metadata": {
        "id": "iTPtsgkgNmTU"
      },
      "execution_count": null,
      "outputs": []
    },
    {
      "cell_type": "code",
      "source": [
        "# Define DIY Model\n",
        "DenseNet_model = tf.keras.models.Sequential([\n",
        "    # DenseNet121 Layer\n",
        "    DenseNet121(include_top=False,weights='imagenet',input_shape=(224, 224, 3)),\n",
        "    # Max Pooling Layer\n",
        "    tf.keras.layers.GlobalMaxPooling2D(),\n",
        "    # Drop Out Layer\n",
        "    tf.keras.layers.Dropout(0.2),\n",
        "    # 256 neuron hidden layer\n",
        "    tf.keras.layers.Dense(256, activation='relu'),\n",
        "    # Output\n",
        "    tf.keras.layers.Dense(2, activation='softmax') \n",
        "  ])\n",
        "\n",
        "\n",
        "# Compile Model\n",
        "DenseNet_model.compile(loss='categorical_crossentropy',optimizer=tf.keras.optimizers.Adam(), metrics=['accuracy']) \n",
        "\n",
        "# Model Summary\n",
        "DenseNet_model.summary()"
      ],
      "metadata": {
        "colab": {
          "base_uri": "https://localhost:8080/"
        },
        "id": "zhU1DwJWN6IN",
        "outputId": "ffd2b99b-c8d9-4168-b4fc-cc34e0f863e9"
      },
      "execution_count": null,
      "outputs": [
        {
          "output_type": "stream",
          "name": "stdout",
          "text": [
            "Model: \"sequential\"\n",
            "_________________________________________________________________\n",
            " Layer (type)                Output Shape              Param #   \n",
            "=================================================================\n",
            " densenet121 (Functional)    (None, 7, 7, 1024)        7037504   \n",
            "                                                                 \n",
            " global_max_pooling2d (Globa  (None, 1024)             0         \n",
            " lMaxPooling2D)                                                  \n",
            "                                                                 \n",
            " dropout (Dropout)           (None, 1024)              0         \n",
            "                                                                 \n",
            " dense (Dense)               (None, 256)               262400    \n",
            "                                                                 \n",
            " dense_1 (Dense)             (None, 2)                 514       \n",
            "                                                                 \n",
            "=================================================================\n",
            "Total params: 7,300,418\n",
            "Trainable params: 7,216,770\n",
            "Non-trainable params: 83,648\n",
            "_________________________________________________________________\n"
          ]
        }
      ]
    },
    {
      "cell_type": "code",
      "source": [
        "# Define the number of epochs\n",
        "num_epochs = 100\n",
        "\n",
        "# Train the model\n",
        "history_DenseNet_model_1 = DenseNet_model.fit(train_generator, epochs=num_epochs, validation_data=validation_generator, callbacks=callbacks)"
      ],
      "metadata": {
        "colab": {
          "base_uri": "https://localhost:8080/"
        },
        "id": "JKiHaSsiN8uR",
        "outputId": "54446683-fe0e-4d1c-ea68-00b35c89d2d6"
      },
      "execution_count": 12,
      "outputs": [
        {
          "metadata": {
            "tags": null
          },
          "name": "stdout",
          "output_type": "stream",
          "text": [
            "Epoch 1/100\n",
            "180/180 [==============================] - ETA: 0s - loss: 0.1452 - accuracy: 0.9786\n",
            "Epoch 1: val_accuracy improved from -inf to 0.97111, saving model to DenseNet_model1_Strawberry_Based_Non_Augmented\n"
          ]
        },
        {
          "metadata": {
            "tags": null
          },
          "name": "stderr",
          "output_type": "stream",
          "text": [
            "WARNING:absl:Found untraced functions such as _jit_compiled_convolution_op, _jit_compiled_convolution_op, _jit_compiled_convolution_op, _jit_compiled_convolution_op, _jit_compiled_convolution_op while saving (showing 5 of 120). These functions will not be directly callable after loading.\n"
          ]
        },
        {
          "metadata": {
            "tags": null
          },
          "name": "stdout",
          "output_type": "stream",
          "text": [
            "180/180 [==============================] - 191s 633ms/step - loss: 0.1452 - accuracy: 0.9786 - val_loss: 0.2530 - val_accuracy: 0.9711 - lr: 0.0010\n",
            "Epoch 2/100\n",
            "180/180 [==============================] - ETA: 0s - loss: 0.0030 - accuracy: 0.9989\n",
            "Epoch 2: val_accuracy improved from 0.97111 to 1.00000, saving model to DenseNet_model1_Strawberry_Based_Non_Augmented\n"
          ]
        },
        {
          "metadata": {
            "tags": null
          },
          "name": "stderr",
          "output_type": "stream",
          "text": [
            "WARNING:absl:Found untraced functions such as _jit_compiled_convolution_op, _jit_compiled_convolution_op, _jit_compiled_convolution_op, _jit_compiled_convolution_op, _jit_compiled_convolution_op while saving (showing 5 of 120). These functions will not be directly callable after loading.\n"
          ]
        },
        {
          "output_type": "stream",
          "name": "stdout",
          "text": [
            "180/180 [==============================] - 103s 571ms/step - loss: 0.0030 - accuracy: 0.9989 - val_loss: 5.6057e-05 - val_accuracy: 1.0000 - lr: 0.0010\n",
            "Epoch 3/100\n",
            "180/180 [==============================] - ETA: 0s - loss: 0.0213 - accuracy: 0.9939\n",
            "Epoch 3: val_accuracy did not improve from 1.00000\n",
            "180/180 [==============================] - 42s 234ms/step - loss: 0.0213 - accuracy: 0.9939 - val_loss: 2.7086e-04 - val_accuracy: 1.0000 - lr: 0.0010\n",
            "Epoch 4/100\n",
            "180/180 [==============================] - ETA: 0s - loss: 0.0029 - accuracy: 0.9989\n",
            "Epoch 4: val_accuracy did not improve from 1.00000\n",
            "180/180 [==============================] - 42s 234ms/step - loss: 0.0029 - accuracy: 0.9989 - val_loss: 0.0878 - val_accuracy: 0.9822 - lr: 0.0010\n",
            "Epoch 5/100\n",
            "180/180 [==============================] - ETA: 0s - loss: 0.0137 - accuracy: 0.9969\n",
            "Epoch 5: val_accuracy did not improve from 1.00000\n",
            "180/180 [==============================] - 45s 248ms/step - loss: 0.0137 - accuracy: 0.9969 - val_loss: 1.3414e-05 - val_accuracy: 1.0000 - lr: 0.0010\n",
            "Epoch 6/100\n",
            "180/180 [==============================] - ETA: 0s - loss: 0.0139 - accuracy: 0.9964\n",
            "Epoch 6: val_accuracy did not improve from 1.00000\n",
            "180/180 [==============================] - 43s 236ms/step - loss: 0.0139 - accuracy: 0.9964 - val_loss: 8.5321e-06 - val_accuracy: 1.0000 - lr: 0.0010\n",
            "Epoch 7/100\n",
            "180/180 [==============================] - ETA: 0s - loss: 0.0039 - accuracy: 0.9992\n",
            "Epoch 7: val_accuracy did not improve from 1.00000\n",
            "\n",
            "Epoch 7: ReduceLROnPlateau reducing learning rate to 0.00010000000474974513.\n",
            "180/180 [==============================] - 44s 247ms/step - loss: 0.0039 - accuracy: 0.9992 - val_loss: 0.0248 - val_accuracy: 0.9989 - lr: 0.0010\n",
            "Epoch 8/100\n",
            "180/180 [==============================] - ETA: 0s - loss: 0.0025 - accuracy: 0.9992\n",
            "Epoch 8: val_accuracy did not improve from 1.00000\n",
            "180/180 [==============================] - 42s 235ms/step - loss: 0.0025 - accuracy: 0.9992 - val_loss: 8.1325e-04 - val_accuracy: 1.0000 - lr: 1.0000e-04\n",
            "Epoch 9/100\n",
            "180/180 [==============================] - ETA: 0s - loss: 0.0016 - accuracy: 0.9994\n",
            "Epoch 9: val_accuracy did not improve from 1.00000\n",
            "180/180 [==============================] - 42s 234ms/step - loss: 0.0016 - accuracy: 0.9994 - val_loss: 3.9869e-04 - val_accuracy: 1.0000 - lr: 1.0000e-04\n",
            "Epoch 10/100\n",
            "180/180 [==============================] - ETA: 0s - loss: 0.0017 - accuracy: 0.9997\n",
            "Epoch 10: val_accuracy did not improve from 1.00000\n",
            "180/180 [==============================] - 42s 234ms/step - loss: 0.0017 - accuracy: 0.9997 - val_loss: 2.0782e-04 - val_accuracy: 1.0000 - lr: 1.0000e-04\n",
            "Epoch 11/100\n",
            "180/180 [==============================] - ETA: 0s - loss: 2.5660e-04 - accuracy: 1.0000\n",
            "Epoch 11: val_accuracy did not improve from 1.00000\n",
            "180/180 [==============================] - 42s 233ms/step - loss: 2.5660e-04 - accuracy: 1.0000 - val_loss: 1.2436e-04 - val_accuracy: 1.0000 - lr: 1.0000e-04\n",
            "Epoch 12/100\n",
            "180/180 [==============================] - ETA: 0s - loss: 1.4737e-04 - accuracy: 1.0000\n",
            "Epoch 12: val_accuracy did not improve from 1.00000\n",
            "\n",
            "Epoch 12: ReduceLROnPlateau reducing learning rate to 1.0000000474974514e-05.\n",
            "180/180 [==============================] - 44s 247ms/step - loss: 1.4737e-04 - accuracy: 1.0000 - val_loss: 5.8045e-05 - val_accuracy: 1.0000 - lr: 1.0000e-04\n",
            "Epoch 13/100\n",
            "180/180 [==============================] - ETA: 0s - loss: 1.5401e-04 - accuracy: 1.0000\n",
            "Epoch 13: val_accuracy did not improve from 1.00000\n",
            "180/180 [==============================] - 42s 234ms/step - loss: 1.5401e-04 - accuracy: 1.0000 - val_loss: 5.9261e-05 - val_accuracy: 1.0000 - lr: 1.0000e-05\n",
            "Epoch 14/100\n",
            "180/180 [==============================] - ETA: 0s - loss: 3.9947e-04 - accuracy: 1.0000\n",
            "Epoch 14: val_accuracy did not improve from 1.00000\n",
            "180/180 [==============================] - 42s 232ms/step - loss: 3.9947e-04 - accuracy: 1.0000 - val_loss: 5.0298e-05 - val_accuracy: 1.0000 - lr: 1.0000e-05\n",
            "Epoch 15/100\n",
            "180/180 [==============================] - ETA: 0s - loss: 1.6341e-04 - accuracy: 1.0000\n",
            "Epoch 15: val_accuracy did not improve from 1.00000\n",
            "180/180 [==============================] - 42s 234ms/step - loss: 1.6341e-04 - accuracy: 1.0000 - val_loss: 4.9431e-05 - val_accuracy: 1.0000 - lr: 1.0000e-05\n",
            "Epoch 16/100\n",
            "180/180 [==============================] - ETA: 0s - loss: 8.8498e-04 - accuracy: 0.9997\n",
            "Epoch 16: val_accuracy did not improve from 1.00000\n",
            "180/180 [==============================] - 42s 235ms/step - loss: 8.8498e-04 - accuracy: 0.9997 - val_loss: 5.5592e-05 - val_accuracy: 1.0000 - lr: 1.0000e-05\n",
            "Epoch 17/100\n",
            "180/180 [==============================] - ETA: 0s - loss: 7.5345e-05 - accuracy: 1.0000\n",
            "Epoch 17: val_accuracy did not improve from 1.00000\n",
            "\n",
            "Epoch 17: ReduceLROnPlateau reducing learning rate to 1.0000000656873453e-06.\n",
            "180/180 [==============================] - 42s 234ms/step - loss: 7.5345e-05 - accuracy: 1.0000 - val_loss: 6.0650e-05 - val_accuracy: 1.0000 - lr: 1.0000e-05\n",
            "Epoch 18/100\n",
            "180/180 [==============================] - ETA: 0s - loss: 2.1240e-04 - accuracy: 1.0000\n",
            "Epoch 18: val_accuracy did not improve from 1.00000\n",
            "180/180 [==============================] - 42s 235ms/step - loss: 2.1240e-04 - accuracy: 1.0000 - val_loss: 5.8177e-05 - val_accuracy: 1.0000 - lr: 1.0000e-06\n",
            "Epoch 19/100\n",
            "180/180 [==============================] - ETA: 0s - loss: 0.0014 - accuracy: 0.9994\n",
            "Epoch 19: val_accuracy did not improve from 1.00000\n",
            "180/180 [==============================] - 42s 233ms/step - loss: 0.0014 - accuracy: 0.9994 - val_loss: 5.1571e-05 - val_accuracy: 1.0000 - lr: 1.0000e-06\n",
            "Epoch 20/100\n",
            "180/180 [==============================] - ETA: 0s - loss: 1.2340e-04 - accuracy: 1.0000\n",
            "Epoch 20: val_accuracy did not improve from 1.00000\n",
            "180/180 [==============================] - 42s 235ms/step - loss: 1.2340e-04 - accuracy: 1.0000 - val_loss: 4.6735e-05 - val_accuracy: 1.0000 - lr: 1.0000e-06\n",
            "Epoch 21/100\n",
            "180/180 [==============================] - ETA: 0s - loss: 1.6550e-04 - accuracy: 1.0000\n",
            "Epoch 21: val_accuracy did not improve from 1.00000\n",
            "180/180 [==============================] - 42s 234ms/step - loss: 1.6550e-04 - accuracy: 1.0000 - val_loss: 4.8451e-05 - val_accuracy: 1.0000 - lr: 1.0000e-06\n",
            "Epoch 22/100\n",
            "180/180 [==============================] - ETA: 0s - loss: 0.0011 - accuracy: 0.9997\n",
            "Epoch 22: val_accuracy did not improve from 1.00000\n",
            "Restoring model weights from the end of the best epoch: 2.\n",
            "\n",
            "Epoch 22: ReduceLROnPlateau reducing learning rate to 1.0000001111620805e-07.\n",
            "180/180 [==============================] - 43s 236ms/step - loss: 0.0011 - accuracy: 0.9997 - val_loss: 4.4339e-05 - val_accuracy: 1.0000 - lr: 1.0000e-06\n",
            "Epoch 22: early stopping\n"
          ]
        }
      ]
    },
    {
      "cell_type": "code",
      "source": [
        "#-----------------------------------------------------------\n",
        "# Retrieve a list of list results on training and test data\n",
        "# sets for each training epoch\n",
        "#-----------------------------------------------------------\n",
        "acc      = history_DenseNet_model_1.history['accuracy' ]\n",
        "val_acc  = history_DenseNet_model_1.history['val_accuracy' ]\n",
        "loss     = history_DenseNet_model_1.history['loss' ]\n",
        "val_loss = history_DenseNet_model_1.history['val_loss' ]\n",
        "\n",
        "epochs   = range(len(acc)) # Get number of epochs\n",
        "\n",
        "#------------------------------------------------\n",
        "# Plot training and validation accuracy per epoch\n",
        "#------------------------------------------------\n",
        "plt.plot  (epochs, acc )\n",
        "plt.plot  (epochs, val_acc )\n",
        "plt.title ('Training and validation accuracy DIY Model')\n",
        "plt.figure()\n",
        "\n",
        "#------------------------------------------------\n",
        "# Plot training and validation loss per epoch\n",
        "#------------------------------------------------\n",
        "plt.plot  (epochs, loss)\n",
        "plt.plot  (epochs, val_loss)\n",
        "plt.title ('Training and validation loss DIY Model')"
      ],
      "metadata": {
        "id": "5E7A90eJTOsK",
        "colab": {
          "base_uri": "https://localhost:8080/",
          "height": 904
        },
        "outputId": "626d9e14-bbad-4e8b-a4cc-95bda60cbf5c"
      },
      "execution_count": 13,
      "outputs": [
        {
          "output_type": "execute_result",
          "data": {
            "text/plain": [
              "Text(0.5, 1.0, 'Training and validation loss DIY Model')"
            ]
          },
          "metadata": {},
          "execution_count": 13
        },
        {
          "output_type": "display_data",
          "data": {
            "text/plain": [
              "<Figure size 640x480 with 1 Axes>"
            ],
            "image/png": "[encoded data removed]"
          },
          "metadata": {}
        },
        {
          "output_type": "display_data",
          "data": {
            "text/plain": [
              "<Figure size 640x480 with 1 Axes>"
            ],
            "image/png": "[encoded data removed]"
          },
          "metadata": {}
        }
      ]
    },
    {
      "cell_type": "code",
      "source": [
        "!zip -r /content/DenseNet_model1_Strawberry_Based_Non_Augmented.zip /content/DenseNet_model1_Strawberry_Based_Non_Augmented"
      ],
      "metadata": {
        "id": "TeDzuisnqa3X",
        "colab": {
          "base_uri": "https://localhost:8080/"
        },
        "outputId": "7cc5726e-e906-4af6-a9dd-1ea0e1bf15ad"
      },
      "execution_count": 14,
      "outputs": [
        {
          "output_type": "stream",
          "name": "stdout",
          "text": [
            "  adding: content/DenseNet_model1_Strawberry_Based_Non_Augmented/ (stored 0%)\n",
            "  adding: content/DenseNet_model1_Strawberry_Based_Non_Augmented/keras_metadata.pb (deflated 96%)\n",
            "  adding: content/DenseNet_model1_Strawberry_Based_Non_Augmented/fingerprint.pb (stored 0%)\n",
            "  adding: content/DenseNet_model1_Strawberry_Based_Non_Augmented/variables/ (stored 0%)\n",
            "  adding: content/DenseNet_model1_Strawberry_Based_Non_Augmented/variables/variables.data-00000-of-00001 (deflated 11%)\n",
            "  adding: content/DenseNet_model1_Strawberry_Based_Non_Augmented/variables/variables.index (deflated 79%)\n",
            "  adding: content/DenseNet_model1_Strawberry_Based_Non_Augmented/assets/ (stored 0%)\n",
            "  adding: content/DenseNet_model1_Strawberry_Based_Non_Augmented/saved_model.pb (deflated 92%)\n"
          ]
        }
      ]
    },
    {
      "cell_type": "markdown",
      "source": [],
      "metadata": {
        "id": "0WnRo_eSqbIl"
      }
    },
    {
      "cell_type": "code",
      "source": [
        "# Difine the callbacks\n",
        "# Save the best model\n",
        "checkpoint_callback = ModelCheckpoint(filepath=\"DenseNet_model2_Strawberry_Based_Non_Augmented\", save_best_only=True, monitor=\"val_accuracy\", mode=\"max\", verbose=1)\n",
        "\n",
        "# Early stopping\n",
        "early_stopping_callback = EarlyStopping(monitor=\"val_accuracy\", mode=\"max\", patience=20, verbose=1, restore_best_weights=True)\n",
        "\n",
        "# Reduce learning rate\n",
        "reduce_lr_callback = ReduceLROnPlateau(monitor=\"val_loss\", factor=0.1, patience=5, verbose=1, mode=\"min\", min_delta=0.0001, cooldown=0, min_lr=0)\n",
        "\n",
        "# Callbacks list\n",
        "callbacks=[checkpoint_callback, early_stopping_callback, reduce_lr_callback]\n",
        "\n"
      ],
      "metadata": {
        "id": "m8tbw7XzXNBb"
      },
      "execution_count": 15,
      "outputs": []
    },
    {
      "cell_type": "code",
      "source": [
        "# Define DIY Model\n",
        "DenseNet_model_2 = tf.keras.models.Sequential([\n",
        "    # DenseNet121 Layer\n",
        "    DenseNet121(include_top=False,weights='imagenet',input_shape=(224, 224, 3)),\n",
        "    # Global Average Pooling Layer\n",
        "    tf.keras.layers.GlobalAveragePooling2D(),\n",
        "    # Drop Out Layer\n",
        "    tf.keras.layers.Dropout(0.2),\n",
        "    # 256 neuron hidden layer\n",
        "    tf.keras.layers.Dense(256, activation='relu'),\n",
        "    # Output\n",
        "    tf.keras.layers.Dense(2, activation='softmax') \n",
        "  ])\n",
        "\n",
        "\n",
        "# Compile Model\n",
        "DenseNet_model_2.compile(loss='categorical_crossentropy',optimizer=tf.keras.optimizers.Adam(), metrics=['accuracy']) \n",
        "\n",
        "# Model Summary\n",
        "DenseNet_model_2.summary()"
      ],
      "metadata": {
        "colab": {
          "base_uri": "https://localhost:8080/"
        },
        "id": "F5IMxD_zXbUr",
        "outputId": "e4786951-273f-4cce-aac2-c4ad74dde9eb"
      },
      "execution_count": 16,
      "outputs": [
        {
          "output_type": "stream",
          "name": "stdout",
          "text": [
            "Model: \"sequential_1\"\n",
            "_________________________________________________________________\n",
            " Layer (type)                Output Shape              Param #   \n",
            "=================================================================\n",
            " densenet121 (Functional)    (None, 7, 7, 1024)        7037504   \n",
            "                                                                 \n",
            " global_average_pooling2d (G  (None, 1024)             0         \n",
            " lobalAveragePooling2D)                                          \n",
            "                                                                 \n",
            " dropout_1 (Dropout)         (None, 1024)              0         \n",
            "                                                                 \n",
            " dense_2 (Dense)             (None, 256)               262400    \n",
            "                                                                 \n",
            " dense_3 (Dense)             (None, 2)                 514       \n",
            "                                                                 \n",
            "=================================================================\n",
            "Total params: 7,300,418\n",
            "Trainable params: 7,216,770\n",
            "Non-trainable params: 83,648\n",
            "_________________________________________________________________\n"
          ]
        }
      ]
    },
    {
      "cell_type": "code",
      "source": [
        "# Define the number of epochs\n",
        "num_epochs = 100\n",
        "\n",
        "# Train the model\n",
        "history_DenseNet_model_2 = DenseNet_model_2.fit(train_generator, epochs=num_epochs, validation_data=validation_generator, callbacks=callbacks)"
      ],
      "metadata": {
        "colab": {
          "base_uri": "https://localhost:8080/"
        },
        "id": "8CrANXesXlcE",
        "outputId": "b40394cf-a8fe-4259-c7ff-20e6399cf1d9"
      },
      "execution_count": 17,
      "outputs": [
        {
          "output_type": "stream",
          "name": "stdout",
          "text": [
            "Epoch 1/100\n",
            "180/180 [==============================] - ETA: 0s - loss: 0.0485 - accuracy: 0.9853\n",
            "Epoch 1: val_accuracy improved from -inf to 0.99889, saving model to DenseNet_model2_Strawberry_Based_Non_Augmented\n"
          ]
        },
        {
          "output_type": "stream",
          "name": "stderr",
          "text": [
            "WARNING:absl:Found untraced functions such as _jit_compiled_convolution_op, _jit_compiled_convolution_op, _jit_compiled_convolution_op, _jit_compiled_convolution_op, _jit_compiled_convolution_op while saving (showing 5 of 120). These functions will not be directly callable after loading.\n"
          ]
        },
        {
          "output_type": "stream",
          "name": "stdout",
          "text": [
            "\b\b\b\b\b\b\b\b\b\b\b\b\b\b\b\b\b\b\b\b\b\b\b\b\b\b\b\b\b\b\b\b\b\b\b\b\b\b\b\b\b\b\b\b\b\b\b\b\b\b\b\b\b\b\b\b\b\b\b\b\b\b\b\b\b\b\b\b\b\b\b\b\b\b\b\b\b\b\b\b\b\b\b\b\r180/180 [==============================] - 182s 624ms/step - loss: 0.0485 - accuracy: 0.9853 - val_loss: 0.0109 - val_accuracy: 0.9989 - lr: 0.0010\n",
            "Epoch 2/100\n",
            "180/180 [==============================] - ETA: 0s - loss: 0.0050 - accuracy: 0.9983\n",
            "Epoch 2: val_accuracy did not improve from 0.99889\n",
            "180/180 [==============================] - 43s 237ms/step - loss: 0.0050 - accuracy: 0.9983 - val_loss: 0.0141 - val_accuracy: 0.9956 - lr: 0.0010\n",
            "Epoch 3/100\n",
            "180/180 [==============================] - ETA: 0s - loss: 0.0067 - accuracy: 0.9975\n",
            "Epoch 3: val_accuracy did not improve from 0.99889\n",
            "180/180 [==============================] - 43s 238ms/step - loss: 0.0067 - accuracy: 0.9975 - val_loss: 0.6289 - val_accuracy: 0.8256 - lr: 0.0010\n",
            "Epoch 4/100\n",
            "180/180 [==============================] - ETA: 0s - loss: 1.1939e-04 - accuracy: 1.0000\n",
            "Epoch 4: val_accuracy improved from 0.99889 to 1.00000, saving model to DenseNet_model2_Strawberry_Based_Non_Augmented\n"
          ]
        },
        {
          "output_type": "stream",
          "name": "stderr",
          "text": [
            "WARNING:absl:Found untraced functions such as _jit_compiled_convolution_op, _jit_compiled_convolution_op, _jit_compiled_convolution_op, _jit_compiled_convolution_op, _jit_compiled_convolution_op while saving (showing 5 of 120). These functions will not be directly callable after loading.\n"
          ]
        },
        {
          "output_type": "stream",
          "name": "stdout",
          "text": [
            "\b\b\b\b\b\b\b\b\b\b\b\b\b\b\b\b\b\b\b\b\b\b\b\b\b\b\b\b\b\b\b\b\b\b\b\b\b\b\b\b\b\b\b\b\b\b\b\b\b\b\b\b\b\b\b\b\b\b\b\b\b\b\b\b\b\b\b\b\b\b\b\b\b\b\b\b\b\b\b\b\b\b\b\b\b\b\b\b\r180/180 [==============================] - 106s 589ms/step - loss: 1.1939e-04 - accuracy: 1.0000 - val_loss: 3.1709e-07 - val_accuracy: 1.0000 - lr: 0.0010\n",
            "Epoch 5/100\n",
            "180/180 [==============================] - ETA: 0s - loss: 9.7548e-05 - accuracy: 1.0000\n",
            "Epoch 5: val_accuracy did not improve from 1.00000\n",
            "180/180 [==============================] - 43s 237ms/step - loss: 9.7548e-05 - accuracy: 1.0000 - val_loss: 2.6755e-07 - val_accuracy: 1.0000 - lr: 0.0010\n",
            "Epoch 6/100\n",
            "180/180 [==============================] - ETA: 0s - loss: 5.5753e-05 - accuracy: 1.0000\n",
            "Epoch 6: val_accuracy did not improve from 1.00000\n",
            "180/180 [==============================] - 43s 238ms/step - loss: 5.5753e-05 - accuracy: 1.0000 - val_loss: 1.3630e-06 - val_accuracy: 1.0000 - lr: 0.0010\n",
            "Epoch 7/100\n",
            "180/180 [==============================] - ETA: 0s - loss: 1.2432e-05 - accuracy: 1.0000\n",
            "Epoch 7: val_accuracy did not improve from 1.00000\n",
            "180/180 [==============================] - 43s 236ms/step - loss: 1.2432e-05 - accuracy: 1.0000 - val_loss: 5.4486e-07 - val_accuracy: 1.0000 - lr: 0.0010\n",
            "Epoch 8/100\n",
            "180/180 [==============================] - ETA: 0s - loss: 6.2690e-06 - accuracy: 1.0000\n",
            "Epoch 8: val_accuracy did not improve from 1.00000\n",
            "180/180 [==============================] - 43s 238ms/step - loss: 6.2690e-06 - accuracy: 1.0000 - val_loss: 4.3535e-07 - val_accuracy: 1.0000 - lr: 0.0010\n",
            "Epoch 9/100\n",
            "180/180 [==============================] - ETA: 0s - loss: 1.1664e-05 - accuracy: 1.0000\n",
            "Epoch 9: val_accuracy did not improve from 1.00000\n",
            "\n",
            "Epoch 9: ReduceLROnPlateau reducing learning rate to 0.00010000000474974513.\n",
            "180/180 [==============================] - 43s 236ms/step - loss: 1.1664e-05 - accuracy: 1.0000 - val_loss: 1.3020e-07 - val_accuracy: 1.0000 - lr: 0.0010\n",
            "Epoch 10/100\n",
            "180/180 [==============================] - ETA: 0s - loss: 1.9929e-06 - accuracy: 1.0000\n",
            "Epoch 10: val_accuracy did not improve from 1.00000\n",
            "180/180 [==============================] - 43s 238ms/step - loss: 1.9929e-06 - accuracy: 1.0000 - val_loss: 9.2187e-08 - val_accuracy: 1.0000 - lr: 1.0000e-04\n",
            "Epoch 11/100\n",
            "180/180 [==============================] - ETA: 0s - loss: 6.9207e-06 - accuracy: 1.0000\n",
            "Epoch 11: val_accuracy did not improve from 1.00000\n",
            "180/180 [==============================] - 43s 237ms/step - loss: 6.9207e-06 - accuracy: 1.0000 - val_loss: 8.8744e-08 - val_accuracy: 1.0000 - lr: 1.0000e-04\n",
            "Epoch 12/100\n",
            "180/180 [==============================] - ETA: 0s - loss: 1.0566e-06 - accuracy: 1.0000\n",
            "Epoch 12: val_accuracy did not improve from 1.00000\n",
            "180/180 [==============================] - 43s 236ms/step - loss: 1.0566e-06 - accuracy: 1.0000 - val_loss: 9.2320e-08 - val_accuracy: 1.0000 - lr: 1.0000e-04\n",
            "Epoch 13/100\n",
            "180/180 [==============================] - ETA: 0s - loss: 4.4509e-06 - accuracy: 1.0000\n",
            "Epoch 13: val_accuracy did not improve from 1.00000\n",
            "180/180 [==============================] - 43s 239ms/step - loss: 4.4509e-06 - accuracy: 1.0000 - val_loss: 8.9406e-08 - val_accuracy: 1.0000 - lr: 1.0000e-04\n",
            "Epoch 14/100\n",
            "180/180 [==============================] - ETA: 0s - loss: 0.0023 - accuracy: 0.9992\n",
            "Epoch 14: val_accuracy did not improve from 1.00000\n",
            "\n",
            "Epoch 14: ReduceLROnPlateau reducing learning rate to 1.0000000474974514e-05.\n",
            "180/180 [==============================] - 43s 236ms/step - loss: 0.0023 - accuracy: 0.9992 - val_loss: 1.0072e-06 - val_accuracy: 1.0000 - lr: 1.0000e-04\n",
            "Epoch 15/100\n",
            "180/180 [==============================] - ETA: 0s - loss: 1.1156e-04 - accuracy: 1.0000\n",
            "Epoch 15: val_accuracy did not improve from 1.00000\n",
            "180/180 [==============================] - 43s 240ms/step - loss: 1.1156e-04 - accuracy: 1.0000 - val_loss: 2.6451e-06 - val_accuracy: 1.0000 - lr: 1.0000e-05\n",
            "Epoch 16/100\n",
            "180/180 [==============================] - ETA: 0s - loss: 1.1801e-05 - accuracy: 1.0000\n",
            "Epoch 16: val_accuracy did not improve from 1.00000\n",
            "180/180 [==============================] - 42s 236ms/step - loss: 1.1801e-05 - accuracy: 1.0000 - val_loss: 2.9207e-06 - val_accuracy: 1.0000 - lr: 1.0000e-05\n",
            "Epoch 17/100\n",
            "180/180 [==============================] - ETA: 0s - loss: 1.2733e-05 - accuracy: 1.0000\n",
            "Epoch 17: val_accuracy did not improve from 1.00000\n",
            "180/180 [==============================] - 43s 240ms/step - loss: 1.2733e-05 - accuracy: 1.0000 - val_loss: 2.7050e-06 - val_accuracy: 1.0000 - lr: 1.0000e-05\n",
            "Epoch 18/100\n",
            "180/180 [==============================] - ETA: 0s - loss: 0.0017 - accuracy: 0.9997\n",
            "Epoch 18: val_accuracy did not improve from 1.00000\n",
            "180/180 [==============================] - 43s 236ms/step - loss: 0.0017 - accuracy: 0.9997 - val_loss: 3.5663e-06 - val_accuracy: 1.0000 - lr: 1.0000e-05\n",
            "Epoch 19/100\n",
            "180/180 [==============================] - ETA: 0s - loss: 2.1775e-05 - accuracy: 1.0000\n",
            "Epoch 19: val_accuracy did not improve from 1.00000\n",
            "\n",
            "Epoch 19: ReduceLROnPlateau reducing learning rate to 1.0000000656873453e-06.\n",
            "180/180 [==============================] - 45s 250ms/step - loss: 2.1775e-05 - accuracy: 1.0000 - val_loss: 3.7294e-06 - val_accuracy: 1.0000 - lr: 1.0000e-05\n",
            "Epoch 20/100\n",
            "180/180 [==============================] - ETA: 0s - loss: 1.5943e-05 - accuracy: 1.0000\n",
            "Epoch 20: val_accuracy did not improve from 1.00000\n",
            "180/180 [==============================] - 43s 237ms/step - loss: 1.5943e-05 - accuracy: 1.0000 - val_loss: 3.6486e-06 - val_accuracy: 1.0000 - lr: 1.0000e-06\n",
            "Epoch 21/100\n",
            "180/180 [==============================] - ETA: 0s - loss: 1.1667e-05 - accuracy: 1.0000\n",
            "Epoch 21: val_accuracy did not improve from 1.00000\n",
            "180/180 [==============================] - 43s 240ms/step - loss: 1.1667e-05 - accuracy: 1.0000 - val_loss: 3.6763e-06 - val_accuracy: 1.0000 - lr: 1.0000e-06\n",
            "Epoch 22/100\n",
            "180/180 [==============================] - ETA: 0s - loss: 1.4599e-05 - accuracy: 1.0000\n",
            "Epoch 22: val_accuracy did not improve from 1.00000\n",
            "180/180 [==============================] - 43s 237ms/step - loss: 1.4599e-05 - accuracy: 1.0000 - val_loss: 3.9729e-06 - val_accuracy: 1.0000 - lr: 1.0000e-06\n",
            "Epoch 23/100\n",
            "180/180 [==============================] - ETA: 0s - loss: 1.1953e-05 - accuracy: 1.0000\n",
            "Epoch 23: val_accuracy did not improve from 1.00000\n",
            "180/180 [==============================] - 43s 239ms/step - loss: 1.1953e-05 - accuracy: 1.0000 - val_loss: 3.4941e-06 - val_accuracy: 1.0000 - lr: 1.0000e-06\n",
            "Epoch 24/100\n",
            "180/180 [==============================] - ETA: 0s - loss: 1.5308e-05 - accuracy: 1.0000\n",
            "Epoch 24: val_accuracy did not improve from 1.00000\n",
            "Restoring model weights from the end of the best epoch: 4.\n",
            "\n",
            "Epoch 24: ReduceLROnPlateau reducing learning rate to 1.0000001111620805e-07.\n",
            "180/180 [==============================] - 43s 238ms/step - loss: 1.5308e-05 - accuracy: 1.0000 - val_loss: 3.5649e-06 - val_accuracy: 1.0000 - lr: 1.0000e-06\n",
            "Epoch 24: early stopping\n"
          ]
        }
      ]
    },
    {
      "cell_type": "code",
      "source": [
        "#-----------------------------------------------------------\n",
        "# Retrieve a list of list results on training and test data\n",
        "# sets for each training epoch\n",
        "#-----------------------------------------------------------\n",
        "acc      = history_DenseNet_model_2.history['accuracy' ]\n",
        "val_acc  = history_DenseNet_model_2.history['val_accuracy' ]\n",
        "loss     = history_DenseNet_model_2.history['loss' ]\n",
        "val_loss = history_DenseNet_model_2.history['val_loss' ]\n",
        "\n",
        "epochs   = range(len(acc)) # Get number of epochs\n",
        "\n",
        "#------------------------------------------------\n",
        "# Plot training and validation accuracy per epoch\n",
        "#------------------------------------------------\n",
        "plt.plot  (epochs, acc )\n",
        "plt.plot  (epochs, val_acc )\n",
        "plt.title ('Training and validation accuracy DIY Model')\n",
        "plt.figure()\n",
        "\n",
        "#------------------------------------------------\n",
        "# Plot training and validation loss per epoch\n",
        "#------------------------------------------------\n",
        "plt.plot  (epochs, loss)\n",
        "plt.plot  (epochs, val_loss)\n",
        "plt.title ('Training and validation loss DIY Model')"
      ],
      "metadata": {
        "colab": {
          "base_uri": "https://localhost:8080/",
          "height": 904
        },
        "id": "eIzzVn0Ec2Am",
        "outputId": "dbbc70b8-20b5-4bf5-b8c9-c98dc866a64a"
      },
      "execution_count": 18,
      "outputs": [
        {
          "output_type": "execute_result",
          "data": {
            "text/plain": [
              "Text(0.5, 1.0, 'Training and validation loss DIY Model')"
            ]
          },
          "metadata": {},
          "execution_count": 18
        },
        {
          "output_type": "display_data",
          "data": {
            "text/plain": [
              "<Figure size 640x480 with 1 Axes>"
            ],
            "image/png": "[encoded data removed]"
          },
          "metadata": {}
        },
        {
          "output_type": "display_data",
          "data": {
            "text/plain": [
              "<Figure size 640x480 with 1 Axes>"
            ],
            "image/png": "[encoded data removed]"
          },
          "metadata": {}
        }
      ]
    },
    {
      "cell_type": "code",
      "source": [
        "!zip -r /content/DenseNet_model2_Strawberry_Based_Non_Augmented.zip /content/DenseNet_model2_Strawberry_Based_Non_Augmented"
      ],
      "metadata": {
        "colab": {
          "base_uri": "https://localhost:8080/"
        },
        "id": "H9wi6_qEs_5t",
        "outputId": "2dd02d1e-c2e8-4cbc-dd2a-a498c1aa3ded"
      },
      "execution_count": 19,
      "outputs": [
        {
          "output_type": "stream",
          "name": "stdout",
          "text": [
            "  adding: content/DenseNet_model2_Strawberry_Based_Non_Augmented/ (stored 0%)\n",
            "  adding: content/DenseNet_model2_Strawberry_Based_Non_Augmented/keras_metadata.pb (deflated 96%)\n",
            "  adding: content/DenseNet_model2_Strawberry_Based_Non_Augmented/fingerprint.pb (stored 0%)\n",
            "  adding: content/DenseNet_model2_Strawberry_Based_Non_Augmented/variables/ (stored 0%)\n",
            "  adding: content/DenseNet_model2_Strawberry_Based_Non_Augmented/variables/variables.data-00000-of-00001 (deflated 11%)\n",
            "  adding: content/DenseNet_model2_Strawberry_Based_Non_Augmented/variables/variables.index (deflated 79%)\n",
            "  adding: content/DenseNet_model2_Strawberry_Based_Non_Augmented/assets/ (stored 0%)\n",
            "  adding: content/DenseNet_model2_Strawberry_Based_Non_Augmented/saved_model.pb (deflated 92%)\n"
          ]
        }
      ]
    }
  ]
}