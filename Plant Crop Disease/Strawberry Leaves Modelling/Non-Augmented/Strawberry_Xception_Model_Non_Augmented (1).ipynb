{
  "nbformat": 4,
  "nbformat_minor": 0,
  "metadata": {
    "colab": {
      "provenance": [],
      "gpuType": "T4"
    },
    "kernelspec": {
      "name": "python3",
      "display_name": "Python 3"
    },
    "language_info": {
      "name": "python"
    },
    "accelerator": "GPU",
    "gpuClass": "standard"
  },
  "cells": [
    {
      "cell_type": "code",
      "execution_count": 1,
      "metadata": {
        "colab": {
          "base_uri": "https://localhost:8080/"
        },
        "id": "bUXNz2qwGeiN",
        "outputId": "ce039a6e-6d00-4c5b-cf86-bd0d4daa05e1"
      },
      "outputs": [
        {
          "output_type": "stream",
          "name": "stdout",
          "text": [
            "Looking in indexes: https://pypi.org/simple, https://us-python.pkg.dev/colab-wheels/public/simple/\n",
            "Requirement already satisfied: matplotlib in /usr/local/lib/python3.10/dist-packages (3.7.1)\n",
            "Requirement already satisfied: contourpy>=1.0.1 in /usr/local/lib/python3.10/dist-packages (from matplotlib) (1.0.7)\n",
            "Requirement already satisfied: cycler>=0.10 in /usr/local/lib/python3.10/dist-packages (from matplotlib) (0.11.0)\n",
            "Requirement already satisfied: fonttools>=4.22.0 in /usr/local/lib/python3.10/dist-packages (from matplotlib) (4.39.3)\n",
            "Requirement already satisfied: kiwisolver>=1.0.1 in /usr/local/lib/python3.10/dist-packages (from matplotlib) (1.4.4)\n",
            "Requirement already satisfied: numpy>=1.20 in /usr/local/lib/python3.10/dist-packages (from matplotlib) (1.22.4)\n",
            "Requirement already satisfied: packaging>=20.0 in /usr/local/lib/python3.10/dist-packages (from matplotlib) (23.1)\n",
            "Requirement already satisfied: pillow>=6.2.0 in /usr/local/lib/python3.10/dist-packages (from matplotlib) (8.4.0)\n",
            "Requirement already satisfied: pyparsing>=2.3.1 in /usr/local/lib/python3.10/dist-packages (from matplotlib) (3.0.9)\n",
            "Requirement already satisfied: python-dateutil>=2.7 in /usr/local/lib/python3.10/dist-packages (from matplotlib) (2.8.2)\n",
            "Requirement already satisfied: six>=1.5 in /usr/local/lib/python3.10/dist-packages (from python-dateutil>=2.7->matplotlib) (1.16.0)\n"
          ]
        }
      ],
      "source": [
        "pip install matplotlib"
      ]
    },
    {
      "cell_type": "code",
      "source": [
        "pip install opendatasets"
      ],
      "metadata": {
        "colab": {
          "base_uri": "https://localhost:8080/"
        },
        "id": "WpHhhBKmKgnU",
        "outputId": "88c57c2b-d1d0-4c8b-b7d8-6a36c60a025c"
      },
      "execution_count": 2,
      "outputs": [
        {
          "output_type": "stream",
          "name": "stdout",
          "text": [
            "Looking in indexes: https://pypi.org/simple, https://us-python.pkg.dev/colab-wheels/public/simple/\n",
            "Collecting opendatasets\n",
            "  Downloading opendatasets-0.1.22-py3-none-any.whl (15 kB)\n",
            "Requirement already satisfied: tqdm in /usr/local/lib/python3.10/dist-packages (from opendatasets) (4.65.0)\n",
            "Requirement already satisfied: kaggle in /usr/local/lib/python3.10/dist-packages (from opendatasets) (1.5.13)\n",
            "Requirement already satisfied: click in /usr/local/lib/python3.10/dist-packages (from opendatasets) (8.1.3)\n",
            "Requirement already satisfied: six>=1.10 in /usr/local/lib/python3.10/dist-packages (from kaggle->opendatasets) (1.16.0)\n",
            "Requirement already satisfied: certifi in /usr/local/lib/python3.10/dist-packages (from kaggle->opendatasets) (2022.12.7)\n",
            "Requirement already satisfied: python-dateutil in /usr/local/lib/python3.10/dist-packages (from kaggle->opendatasets) (2.8.2)\n",
            "Requirement already satisfied: requests in /usr/local/lib/python3.10/dist-packages (from kaggle->opendatasets) (2.27.1)\n",
            "Requirement already satisfied: python-slugify in /usr/local/lib/python3.10/dist-packages (from kaggle->opendatasets) (8.0.1)\n",
            "Requirement already satisfied: urllib3 in /usr/local/lib/python3.10/dist-packages (from kaggle->opendatasets) (1.26.15)\n",
            "Requirement already satisfied: text-unidecode>=1.3 in /usr/local/lib/python3.10/dist-packages (from python-slugify->kaggle->opendatasets) (1.3)\n",
            "Requirement already satisfied: charset-normalizer~=2.0.0 in /usr/local/lib/python3.10/dist-packages (from requests->kaggle->opendatasets) (2.0.12)\n",
            "Requirement already satisfied: idna<4,>=2.5 in /usr/local/lib/python3.10/dist-packages (from requests->kaggle->opendatasets) (3.4)\n",
            "Installing collected packages: opendatasets\n",
            "Successfully installed opendatasets-0.1.22\n"
          ]
        }
      ]
    },
    {
      "cell_type": "code",
      "source": [
        "# Library to dataset\n",
        "import opendatasets as od\n",
        "import os\n",
        "import zipfile\n",
        "import numpy as np\n",
        "\n",
        "# Surpress Warnings\n",
        "import warnings\n",
        "warnings.filterwarnings('ignore')\n",
        "os.environ['TF_CPP_MIN_LOG_LEVEL'] = '3' \n",
        "# library visualization\n",
        "import matplotlib.pyplot as plt\n",
        "\n",
        "# Library Tensorflow\n",
        "import tensorflow as tf\n",
        "from tensorflow import keras\n",
        "from tensorflow.keras.preprocessing.image import ImageDataGenerator\n",
        "from tensorflow.keras.callbacks import ModelCheckpoint, EarlyStopping, ReduceLROnPlateau\n",
        "from tensorflow.keras.applications.densenet import DenseNet121\n",
        "from tensorflow.keras.applications.xception import Xception\n",
        "# Others\n",
        "import shutil\n",
        "import random"
      ],
      "metadata": {
        "id": "8uGEZY4MKgxn"
      },
      "execution_count": 3,
      "outputs": []
    },
    {
      "cell_type": "markdown",
      "source": [],
      "metadata": {
        "id": "OHPzXnxDKkFe"
      }
    },
    {
      "cell_type": "code",
      "source": [
        "# Download dataset\n",
        "od.download('https://www.kaggle.com/datasets/faudyanurul/strawberry')"
      ],
      "metadata": {
        "colab": {
          "base_uri": "https://localhost:8080/"
        },
        "id": "s3QP6u_0KkQr",
        "outputId": "2ac8135e-435f-4fe8-a44a-7e264705aaf4"
      },
      "execution_count": 4,
      "outputs": [
        {
          "output_type": "stream",
          "name": "stdout",
          "text": [
            "Please provide your Kaggle credentials to download this dataset. Learn more: http://bit.ly/kaggle-creds\n",
            "Your Kaggle username: faudyanurul\n",
            "Your Kaggle Key: ··········\n",
            "Downloading strawberry.zip to ./strawberry\n"
          ]
        },
        {
          "output_type": "stream",
          "name": "stderr",
          "text": [
            "100%|██████████| 83.5M/83.5M [00:05<00:00, 16.0MB/s]\n"
          ]
        },
        {
          "output_type": "stream",
          "name": "stdout",
          "text": [
            "\n"
          ]
        }
      ]
    },
    {
      "cell_type": "code",
      "source": [
        "# Load dataset\n",
        "print(\"==========================Training Data====================\")\n",
        "train_data = tf.keras.preprocessing.image_dataset_from_directory(\n",
        "    \"strawberry/Strawberry/train\",\n",
        "    label_mode=\"categorical\",\n",
        "    class_names=['Strawberry___healthy', 'Strawberry___Leaf_scorch'],\n",
        "    color_mode=\"rgb\",\n",
        "    batch_size=1,\n",
        "    image_size=(256, 256),\n",
        "    shuffle=True,\n",
        "    seed=123\n",
        ")\n",
        "print(\"==========================Validation Data====================\")\n",
        "val_data = tf.keras.preprocessing.image_dataset_from_directory(\n",
        "    \"strawberry/Strawberry/valid\",\n",
        "    label_mode=\"categorical\",\n",
        "    class_names=['Strawberry___healthy', 'Strawberry___Leaf_scorch'],\n",
        "    color_mode=\"rgb\",\n",
        "    batch_size=1,\n",
        "    image_size=(256, 256),\n",
        "    shuffle=True,\n",
        "    seed=123\n",
        ")"
      ],
      "metadata": {
        "colab": {
          "base_uri": "https://localhost:8080/"
        },
        "id": "gB0GZktwKon_",
        "outputId": "04e240db-bb77-4d6e-bee3-a131a51e02e9"
      },
      "execution_count": 5,
      "outputs": [
        {
          "output_type": "stream",
          "name": "stdout",
          "text": [
            "==========================Training Data====================\n",
            "Found 3598 files belonging to 2 classes.\n",
            "==========================Validation Data====================\n",
            "Found 900 files belonging to 2 classes.\n"
          ]
        }
      ]
    },
    {
      "cell_type": "code",
      "source": [
        "# All images will be rescaled by 1./255.\n",
        "train_datagen = ImageDataGenerator(rescale = 1.0/256.)\n",
        "test_datagen  = ImageDataGenerator(rescale = 1.0/256.)\n",
        "\n",
        "# --------------------\n",
        "# Flow training images in batches of 20 using train_datagen generator\n",
        "# --------------------\n",
        "train_generator = train_datagen.flow_from_directory(\"strawberry/Strawberry/train\",\n",
        "                                                    batch_size=20,\n",
        "                                                    class_mode='categorical',\n",
        "                                                    target_size=(224, 224))     \n",
        "# --------------------\n",
        "# Flow validation images in batches of 20 using test_datagen generator\n",
        "# --------------------\n",
        "validation_generator =  test_datagen.flow_from_directory(\"strawberry/Strawberry/valid\",\n",
        "                                                         batch_size=20,\n",
        "                                                         class_mode  = 'categorical',\n",
        "                                                         target_size = (224, 224))"
      ],
      "metadata": {
        "colab": {
          "base_uri": "https://localhost:8080/"
        },
        "id": "i4JRz1o2KsS-",
        "outputId": "59357cc0-9fb9-442f-e17e-85093b2cd3ae"
      },
      "execution_count": 6,
      "outputs": [
        {
          "output_type": "stream",
          "name": "stdout",
          "text": [
            "Found 3598 images belonging to 2 classes.\n",
            "Found 900 images belonging to 2 classes.\n"
          ]
        }
      ]
    },
    {
      "cell_type": "markdown",
      "source": [],
      "metadata": {
        "id": "VnDBIjpBKuOR"
      }
    },
    {
      "cell_type": "code",
      "source": [
        "# Check GPU\n",
        "!nvidia-smi"
      ],
      "metadata": {
        "colab": {
          "base_uri": "https://localhost:8080/"
        },
        "id": "HttDjrphKuah",
        "outputId": "c9f41930-6d3c-469f-af47-da1d2439d799"
      },
      "execution_count": 7,
      "outputs": [
        {
          "output_type": "stream",
          "name": "stdout",
          "text": [
            "Sun Jun  4 10:59:35 2023       \n",
            "+-----------------------------------------------------------------------------+\n",
            "| NVIDIA-SMI 525.85.12    Driver Version: 525.85.12    CUDA Version: 12.0     |\n",
            "|-------------------------------+----------------------+----------------------+\n",
            "| GPU  Name        Persistence-M| Bus-Id        Disp.A | Volatile Uncorr. ECC |\n",
            "| Fan  Temp  Perf  Pwr:Usage/Cap|         Memory-Usage | GPU-Util  Compute M. |\n",
            "|                               |                      |               MIG M. |\n",
            "|===============================+======================+======================|\n",
            "|   0  Tesla T4            Off  | 00000000:00:04.0 Off |                    0 |\n",
            "| N/A   43C    P0    25W /  70W |    389MiB / 15360MiB |      0%      Default |\n",
            "|                               |                      |                  N/A |\n",
            "+-------------------------------+----------------------+----------------------+\n",
            "                                                                               \n",
            "+-----------------------------------------------------------------------------+\n",
            "| Processes:                                                                  |\n",
            "|  GPU   GI   CI        PID   Type   Process name                  GPU Memory |\n",
            "|        ID   ID                                                   Usage      |\n",
            "|=============================================================================|\n",
            "+-----------------------------------------------------------------------------+\n"
          ]
        }
      ]
    },
    {
      "cell_type": "code",
      "source": [
        "# Lis physical devices\n",
        "devices = tf.config.experimental.list_physical_devices(\"GPU\")\n",
        "devices"
      ],
      "metadata": {
        "colab": {
          "base_uri": "https://localhost:8080/"
        },
        "id": "ylt_WwzYKuky",
        "outputId": "f64ef1ff-fa15-4ba4-bac9-a5383b914f55"
      },
      "execution_count": 8,
      "outputs": [
        {
          "output_type": "execute_result",
          "data": {
            "text/plain": [
              "[PhysicalDevice(name='/physical_device:GPU:0', device_type='GPU')]"
            ]
          },
          "metadata": {},
          "execution_count": 8
        }
      ]
    },
    {
      "cell_type": "code",
      "source": [
        "# Define the GPU strategy\n",
        "mirrored_strategy = tf.distribute.MirroredStrategy(devices=[\"/gpu:0\"])"
      ],
      "metadata": {
        "id": "pH_Xq4GBKuuD"
      },
      "execution_count": 9,
      "outputs": []
    },
    {
      "cell_type": "markdown",
      "source": [],
      "metadata": {
        "id": "-7wJnxD1K2Ya"
      }
    },
    {
      "cell_type": "code",
      "source": [
        "# Difine the callbacks\n",
        "# Save the best model\n",
        "checkpoint_callback = ModelCheckpoint(filepath=\"Xception_model1_Strawberry_Based_Non_Augmented\", save_best_only=True, monitor=\"val_accuracy\", mode=\"max\", verbose=1)\n",
        "\n",
        "# Early stopping\n",
        "early_stopping_callback = EarlyStopping(monitor=\"val_accuracy\", mode=\"max\", patience=20, verbose=1, restore_best_weights=True)\n",
        "\n",
        "# Reduce learning rate\n",
        "reduce_lr_callback = ReduceLROnPlateau(monitor=\"val_loss\", factor=0.1, patience=5, verbose=1, mode=\"min\", min_delta=0.0001, cooldown=0, min_lr=0)\n",
        "\n",
        "# Callbacks list\n",
        "callbacks=[checkpoint_callback, early_stopping_callback, reduce_lr_callback]"
      ],
      "metadata": {
        "id": "w2YRtG_-K2h3"
      },
      "execution_count": 10,
      "outputs": []
    },
    {
      "cell_type": "code",
      "source": [
        "# Define DIY Model\n",
        "Xception_model = tf.keras.models.Sequential([\n",
        "    # Xception Layer\n",
        "    Xception(include_top=False,weights='imagenet',input_shape=(224, 224, 3)),\n",
        "    # Global Max Pooling Layer\n",
        "    tf.keras.layers.GlobalMaxPooling2D(),\n",
        "    # Drop Out Layer\n",
        "    tf.keras.layers.Dropout(0.2),\n",
        "    # 256 neuron hidden layer\n",
        "    tf.keras.layers.Dense(256, activation='relu'),\n",
        "    # Output\n",
        "    tf.keras.layers.Dense(2, activation='softmax') \n",
        "  ])\n",
        "\n",
        "\n",
        "# Compile Model\n",
        "Xception_model.compile(loss='categorical_crossentropy',optimizer=tf.keras.optimizers.Adam(), metrics=['accuracy']) \n",
        "\n",
        "# Model Summary\n",
        "Xception_model.summary()"
      ],
      "metadata": {
        "colab": {
          "base_uri": "https://localhost:8080/"
        },
        "id": "Z25Nb_OmLCNm",
        "outputId": "eefe1cd3-fd5c-4b1f-fb72-eb5e2fd7f538"
      },
      "execution_count": 11,
      "outputs": [
        {
          "output_type": "stream",
          "name": "stdout",
          "text": [
            "Downloading data from https://storage.googleapis.com/tensorflow/keras-applications/xception/xception_weights_tf_dim_ordering_tf_kernels_notop.h5\n",
            "83683744/83683744 [==============================] - 5s 0us/step\n",
            "Model: \"sequential\"\n",
            "_________________________________________________________________\n",
            " Layer (type)                Output Shape              Param #   \n",
            "=================================================================\n",
            " xception (Functional)       (None, 7, 7, 2048)        20861480  \n",
            "                                                                 \n",
            " global_max_pooling2d (Globa  (None, 2048)             0         \n",
            " lMaxPooling2D)                                                  \n",
            "                                                                 \n",
            " dropout (Dropout)           (None, 2048)              0         \n",
            "                                                                 \n",
            " dense (Dense)               (None, 256)               524544    \n",
            "                                                                 \n",
            " dense_1 (Dense)             (None, 2)                 514       \n",
            "                                                                 \n",
            "=================================================================\n",
            "Total params: 21,386,538\n",
            "Trainable params: 21,332,010\n",
            "Non-trainable params: 54,528\n",
            "_________________________________________________________________\n"
          ]
        }
      ]
    },
    {
      "cell_type": "code",
      "source": [
        "# Define the number of epochs\n",
        "num_epochs = 100\n",
        "\n",
        "# Train the model\n",
        "history_Xception_model_1 = Xception_model.fit(train_generator, epochs=num_epochs, validation_data=validation_generator, callbacks=callbacks)"
      ],
      "metadata": {
        "colab": {
          "base_uri": "https://localhost:8080/"
        },
        "id": "-qMPZILiLFZT",
        "outputId": "cc856e39-5399-40d9-b6e6-5693fc8cb1c4"
      },
      "execution_count": 12,
      "outputs": [
        {
          "output_type": "stream",
          "name": "stdout",
          "text": [
            "Epoch 1/100\n",
            "180/180 [==============================] - ETA: 0s - loss: 0.1207 - accuracy: 0.9828\n",
            "Epoch 1: val_accuracy improved from -inf to 1.00000, saving model to Xception_model1_Strawberry_Based_Non_Augmented\n"
          ]
        },
        {
          "output_type": "stream",
          "name": "stderr",
          "text": [
            "WARNING:absl:Found untraced functions such as _jit_compiled_convolution_op, _jit_compiled_convolution_op, _jit_compiled_convolution_op, _jit_compiled_convolution_op, _jit_compiled_convolution_op while saving (showing 5 of 40). These functions will not be directly callable after loading.\n"
          ]
        },
        {
          "output_type": "stream",
          "name": "stdout",
          "text": [
            "\b\b\b\b\b\b\b\b\b\b\b\b\b\b\b\b\b\b\b\b\b\b\b\b\b\b\b\b\b\b\b\b\b\b\b\b\b\b\b\b\b\b\b\b\b\b\b\b\b\b\b\b\b\b\b\b\b\b\b\b\b\b\b\b\b\b\b\b\b\b\b\b\b\b\b\b\b\b\b\b\b\b\b\b\r180/180 [==============================] - 126s 465ms/step - loss: 0.1207 - accuracy: 0.9828 - val_loss: 5.5723e-07 - val_accuracy: 1.0000 - lr: 0.0010\n",
            "Epoch 2/100\n",
            "180/180 [==============================] - ETA: 0s - loss: 3.2295e-05 - accuracy: 1.0000\n",
            "Epoch 2: val_accuracy did not improve from 1.00000\n",
            "180/180 [==============================] - 57s 315ms/step - loss: 3.2295e-05 - accuracy: 1.0000 - val_loss: 4.4528e-06 - val_accuracy: 1.0000 - lr: 0.0010\n",
            "Epoch 3/100\n",
            "180/180 [==============================] - ETA: 0s - loss: 1.0687e-05 - accuracy: 1.0000\n",
            "Epoch 3: val_accuracy did not improve from 1.00000\n",
            "180/180 [==============================] - 58s 319ms/step - loss: 1.0687e-05 - accuracy: 1.0000 - val_loss: 5.6495e-06 - val_accuracy: 1.0000 - lr: 0.0010\n",
            "Epoch 4/100\n",
            "180/180 [==============================] - ETA: 0s - loss: 6.4400e-06 - accuracy: 1.0000\n",
            "Epoch 4: val_accuracy did not improve from 1.00000\n",
            "180/180 [==============================] - 57s 316ms/step - loss: 6.4400e-06 - accuracy: 1.0000 - val_loss: 6.3472e-06 - val_accuracy: 1.0000 - lr: 0.0010\n",
            "Epoch 5/100\n",
            "180/180 [==============================] - ETA: 0s - loss: 0.0436 - accuracy: 0.9908\n",
            "Epoch 5: val_accuracy did not improve from 1.00000\n",
            "180/180 [==============================] - 57s 317ms/step - loss: 0.0436 - accuracy: 0.9908 - val_loss: 5.3477 - val_accuracy: 0.7567 - lr: 0.0010\n",
            "Epoch 6/100\n",
            "180/180 [==============================] - ETA: 0s - loss: 0.0064 - accuracy: 0.9986\n",
            "Epoch 6: val_accuracy did not improve from 1.00000\n",
            "\n",
            "Epoch 6: ReduceLROnPlateau reducing learning rate to 0.00010000000474974513.\n",
            "180/180 [==============================] - 57s 315ms/step - loss: 0.0064 - accuracy: 0.9986 - val_loss: 2.5733e-05 - val_accuracy: 1.0000 - lr: 0.0010\n",
            "Epoch 7/100\n",
            "180/180 [==============================] - ETA: 0s - loss: 6.1256e-04 - accuracy: 0.9997\n",
            "Epoch 7: val_accuracy did not improve from 1.00000\n",
            "180/180 [==============================] - 57s 316ms/step - loss: 6.1256e-04 - accuracy: 0.9997 - val_loss: 5.2165e-06 - val_accuracy: 1.0000 - lr: 1.0000e-04\n",
            "Epoch 8/100\n",
            "180/180 [==============================] - ETA: 0s - loss: 9.8774e-04 - accuracy: 0.9997\n",
            "Epoch 8: val_accuracy did not improve from 1.00000\n",
            "180/180 [==============================] - 59s 325ms/step - loss: 9.8774e-04 - accuracy: 0.9997 - val_loss: 2.3414e-05 - val_accuracy: 1.0000 - lr: 1.0000e-04\n",
            "Epoch 9/100\n",
            "180/180 [==============================] - ETA: 0s - loss: 0.0021 - accuracy: 0.9989\n",
            "Epoch 9: val_accuracy did not improve from 1.00000\n",
            "180/180 [==============================] - 57s 316ms/step - loss: 0.0021 - accuracy: 0.9989 - val_loss: 2.6447e-05 - val_accuracy: 1.0000 - lr: 1.0000e-04\n",
            "Epoch 10/100\n",
            "180/180 [==============================] - ETA: 0s - loss: 1.0794e-04 - accuracy: 1.0000\n",
            "Epoch 10: val_accuracy did not improve from 1.00000\n",
            "180/180 [==============================] - 57s 316ms/step - loss: 1.0794e-04 - accuracy: 1.0000 - val_loss: 7.8559e-06 - val_accuracy: 1.0000 - lr: 1.0000e-04\n",
            "Epoch 11/100\n",
            "180/180 [==============================] - ETA: 0s - loss: 7.3571e-05 - accuracy: 1.0000\n",
            "Epoch 11: val_accuracy did not improve from 1.00000\n",
            "\n",
            "Epoch 11: ReduceLROnPlateau reducing learning rate to 1.0000000474974514e-05.\n",
            "180/180 [==============================] - 57s 316ms/step - loss: 7.3571e-05 - accuracy: 1.0000 - val_loss: 4.8081e-06 - val_accuracy: 1.0000 - lr: 1.0000e-04\n",
            "Epoch 12/100\n",
            "180/180 [==============================] - ETA: 0s - loss: 4.5017e-05 - accuracy: 1.0000\n",
            "Epoch 12: val_accuracy did not improve from 1.00000\n",
            "180/180 [==============================] - 57s 316ms/step - loss: 4.5017e-05 - accuracy: 1.0000 - val_loss: 4.8528e-06 - val_accuracy: 1.0000 - lr: 1.0000e-05\n",
            "Epoch 13/100\n",
            "180/180 [==============================] - ETA: 0s - loss: 1.0539e-04 - accuracy: 1.0000\n",
            "Epoch 13: val_accuracy did not improve from 1.00000\n",
            "180/180 [==============================] - 57s 316ms/step - loss: 1.0539e-04 - accuracy: 1.0000 - val_loss: 4.1282e-06 - val_accuracy: 1.0000 - lr: 1.0000e-05\n",
            "Epoch 14/100\n",
            "180/180 [==============================] - ETA: 0s - loss: 6.1085e-05 - accuracy: 1.0000\n",
            "Epoch 14: val_accuracy did not improve from 1.00000\n",
            "180/180 [==============================] - 58s 325ms/step - loss: 6.1085e-05 - accuracy: 1.0000 - val_loss: 3.4105e-06 - val_accuracy: 1.0000 - lr: 1.0000e-05\n",
            "Epoch 15/100\n",
            "180/180 [==============================] - ETA: 0s - loss: 4.1351e-05 - accuracy: 1.0000\n",
            "Epoch 15: val_accuracy did not improve from 1.00000\n",
            "180/180 [==============================] - 57s 316ms/step - loss: 4.1351e-05 - accuracy: 1.0000 - val_loss: 3.5490e-06 - val_accuracy: 1.0000 - lr: 1.0000e-05\n",
            "Epoch 16/100\n",
            "180/180 [==============================] - ETA: 0s - loss: 8.0513e-05 - accuracy: 1.0000\n",
            "Epoch 16: val_accuracy did not improve from 1.00000\n",
            "\n",
            "Epoch 16: ReduceLROnPlateau reducing learning rate to 1.0000000656873453e-06.\n",
            "180/180 [==============================] - 57s 319ms/step - loss: 8.0513e-05 - accuracy: 1.0000 - val_loss: 3.0813e-06 - val_accuracy: 1.0000 - lr: 1.0000e-05\n",
            "Epoch 17/100\n",
            "180/180 [==============================] - ETA: 0s - loss: 7.1536e-05 - accuracy: 1.0000\n",
            "Epoch 17: val_accuracy did not improve from 1.00000\n",
            "180/180 [==============================] - 57s 315ms/step - loss: 7.1536e-05 - accuracy: 1.0000 - val_loss: 3.1502e-06 - val_accuracy: 1.0000 - lr: 1.0000e-06\n",
            "Epoch 18/100\n",
            "180/180 [==============================] - ETA: 0s - loss: 1.6992e-04 - accuracy: 1.0000\n",
            "Epoch 18: val_accuracy did not improve from 1.00000\n",
            "180/180 [==============================] - 57s 317ms/step - loss: 1.6992e-04 - accuracy: 1.0000 - val_loss: 3.4978e-06 - val_accuracy: 1.0000 - lr: 1.0000e-06\n",
            "Epoch 19/100\n",
            "180/180 [==============================] - ETA: 0s - loss: 0.0026 - accuracy: 0.9997\n",
            "Epoch 19: val_accuracy did not improve from 1.00000\n",
            "180/180 [==============================] - 57s 315ms/step - loss: 0.0026 - accuracy: 0.9997 - val_loss: 2.9695e-06 - val_accuracy: 1.0000 - lr: 1.0000e-06\n",
            "Epoch 20/100\n",
            "180/180 [==============================] - ETA: 0s - loss: 3.4459e-04 - accuracy: 0.9997\n",
            "Epoch 20: val_accuracy did not improve from 1.00000\n",
            "180/180 [==============================] - 57s 316ms/step - loss: 3.4459e-04 - accuracy: 0.9997 - val_loss: 3.1714e-06 - val_accuracy: 1.0000 - lr: 1.0000e-06\n",
            "Epoch 21/100\n",
            "180/180 [==============================] - ETA: 0s - loss: 4.1134e-05 - accuracy: 1.0000\n",
            "Epoch 21: val_accuracy did not improve from 1.00000\n",
            "Restoring model weights from the end of the best epoch: 1.\n",
            "\n",
            "Epoch 21: ReduceLROnPlateau reducing learning rate to 1.0000001111620805e-07.\n",
            "180/180 [==============================] - 57s 317ms/step - loss: 4.1134e-05 - accuracy: 1.0000 - val_loss: 2.7861e-06 - val_accuracy: 1.0000 - lr: 1.0000e-06\n",
            "Epoch 21: early stopping\n"
          ]
        }
      ]
    },
    {
      "cell_type": "code",
      "source": [
        "#-----------------------------------------------------------\n",
        "# Retrieve a list of list results on training and test data\n",
        "# sets for each training epoch\n",
        "#-----------------------------------------------------------\n",
        "acc      = history_Xception_model_1.history['accuracy' ]\n",
        "val_acc  = history_Xception_model_1.history['val_accuracy' ]\n",
        "loss     = history_Xception_model_1.history['loss' ]\n",
        "val_loss = history_Xception_model_1.history['val_loss' ]\n",
        "\n",
        "epochs   = range(len(acc)) # Get number of epochs\n",
        "\n",
        "#------------------------------------------------\n",
        "# Plot training and validation accuracy per epoch\n",
        "#------------------------------------------------\n",
        "plt.plot  (epochs, acc )\n",
        "plt.plot  (epochs, val_acc )\n",
        "plt.title ('Training and validation accuracy DIY Model')\n",
        "plt.figure()\n",
        "\n",
        "#------------------------------------------------\n",
        "# Plot training and validation loss per epoch\n",
        "#------------------------------------------------\n",
        "plt.plot  (epochs, loss)\n",
        "plt.plot  (epochs, val_loss)\n",
        "plt.title ('Training and validation loss DIY Model')"
      ],
      "metadata": {
        "colab": {
          "base_uri": "https://localhost:8080/",
          "height": 904
        },
        "id": "eVVDwcb5LFkE",
        "outputId": "b1eb5ca8-425f-4a5b-bf52-33be341e8438"
      },
      "execution_count": 13,
      "outputs": [
        {
          "output_type": "execute_result",
          "data": {
            "text/plain": [
              "Text(0.5, 1.0, 'Training and validation loss DIY Model')"
            ]
          },
          "metadata": {},
          "execution_count": 13
        },
        {
          "output_type": "display_data",
          "data": {
            "text/plain": [
              "<Figure size 640x480 with 1 Axes>"
            ],
            "image/png": "[encoded data removed]"
          },
          "metadata": {}
        },
        {
          "output_type": "display_data",
          "data": {
            "text/plain": [
              "<Figure size 640x480 with 1 Axes>"
            ],
            "image/png": "[encoded data removed]"
          },
          "metadata": {}
        }
      ]
    },
    {
      "cell_type": "code",
      "source": [
        "!zip -r /content/Xception_model1_Strawberry_Based_Non_Augmented.zip /content/Xception_model1_Strawberry_Based_Non_Augmented"
      ],
      "metadata": {
        "colab": {
          "base_uri": "https://localhost:8080/"
        },
        "id": "KgAD1fmmJmbJ",
        "outputId": "ceb7215e-1085-4e79-db5d-28de2c941a28"
      },
      "execution_count": 15,
      "outputs": [
        {
          "output_type": "stream",
          "name": "stdout",
          "text": [
            "  adding: content/Xception_model1_Strawberry_Based_Non_Augmented/ (stored 0%)\n",
            "  adding: content/Xception_model1_Strawberry_Based_Non_Augmented/keras_metadata.pb (deflated 96%)\n",
            "  adding: content/Xception_model1_Strawberry_Based_Non_Augmented/fingerprint.pb (stored 0%)\n",
            "  adding: content/Xception_model1_Strawberry_Based_Non_Augmented/variables/ (stored 0%)\n",
            "  adding: content/Xception_model1_Strawberry_Based_Non_Augmented/variables/variables.data-00000-of-00001 (deflated 7%)\n",
            "  adding: content/Xception_model1_Strawberry_Based_Non_Augmented/variables/variables.index (deflated 77%)\n",
            "  adding: content/Xception_model1_Strawberry_Based_Non_Augmented/assets/ (stored 0%)\n",
            "  adding: content/Xception_model1_Strawberry_Based_Non_Augmented/saved_model.pb (deflated 92%)\n"
          ]
        }
      ]
    },
    {
      "cell_type": "markdown",
      "source": [],
      "metadata": {
        "id": "iQKGQixoLhNt"
      }
    },
    {
      "cell_type": "code",
      "source": [
        "# Difine the callbacks\n",
        "# Save the best model\n",
        "checkpoint_callback = ModelCheckpoint(filepath=\"Xception_model2_Strawberry_Based_Non_Augmented\", save_best_only=True, monitor=\"val_accuracy\", mode=\"max\", verbose=1)\n",
        "\n",
        "# Early stopping\n",
        "early_stopping_callback = EarlyStopping(monitor=\"val_accuracy\", mode=\"max\", patience=20, verbose=1, restore_best_weights=True)\n",
        "\n",
        "# Reduce learning rate\n",
        "reduce_lr_callback = ReduceLROnPlateau(monitor=\"val_loss\", factor=0.1, patience=5, verbose=1, mode=\"min\", min_delta=0.0001, cooldown=0, min_lr=0)\n",
        "\n",
        "# Callbacks list\n",
        "callbacks=[checkpoint_callback, early_stopping_callback, reduce_lr_callback]"
      ],
      "metadata": {
        "id": "NMEPGdPWLhb1"
      },
      "execution_count": 16,
      "outputs": []
    },
    {
      "cell_type": "code",
      "source": [
        "# Define DIY Model\n",
        "Xception_model_2 = tf.keras.models.Sequential([\n",
        "    # Xception121 Layer\n",
        "    Xception(include_top=False,weights='imagenet',input_shape=(224, 224, 3)),\n",
        "    # Global Average Pooling Layer\n",
        "    tf.keras.layers.GlobalAveragePooling2D(),\n",
        "    # Drop Out Layer\n",
        "    tf.keras.layers.Dropout(0.2),\n",
        "    # 256 neuron hidden layer\n",
        "    tf.keras.layers.Dense(256, activation='relu'),\n",
        "    # Output\n",
        "    tf.keras.layers.Dense(2, activation='softmax') \n",
        "  ])\n",
        "\n",
        "\n",
        "# Compile Model\n",
        "Xception_model_2.compile(loss='categorical_crossentropy',optimizer=tf.keras.optimizers.Adam(), metrics=['accuracy']) \n",
        "\n",
        "# Model Summary\n",
        "Xception_model_2.summary()"
      ],
      "metadata": {
        "colab": {
          "base_uri": "https://localhost:8080/"
        },
        "id": "O2bu-gYoLhor",
        "outputId": "f9864ed8-2dc6-4e5a-e51d-d23975e5c9eb"
      },
      "execution_count": 17,
      "outputs": [
        {
          "output_type": "stream",
          "name": "stdout",
          "text": [
            "Model: \"sequential_1\"\n",
            "_________________________________________________________________\n",
            " Layer (type)                Output Shape              Param #   \n",
            "=================================================================\n",
            " xception (Functional)       (None, 7, 7, 2048)        20861480  \n",
            "                                                                 \n",
            " global_average_pooling2d (G  (None, 2048)             0         \n",
            " lobalAveragePooling2D)                                          \n",
            "                                                                 \n",
            " dropout_1 (Dropout)         (None, 2048)              0         \n",
            "                                                                 \n",
            " dense_2 (Dense)             (None, 256)               524544    \n",
            "                                                                 \n",
            " dense_3 (Dense)             (None, 2)                 514       \n",
            "                                                                 \n",
            "=================================================================\n",
            "Total params: 21,386,538\n",
            "Trainable params: 21,332,010\n",
            "Non-trainable params: 54,528\n",
            "_________________________________________________________________\n"
          ]
        }
      ]
    },
    {
      "cell_type": "code",
      "source": [
        "# Define the number of epochs\n",
        "num_epochs = 100\n",
        "\n",
        "# Train the model\n",
        "history_Xception_model_2 = Xception_model_2.fit(train_generator, epochs=num_epochs, validation_data=validation_generator, callbacks=callbacks)"
      ],
      "metadata": {
        "colab": {
          "base_uri": "https://localhost:8080/"
        },
        "id": "GPNBaNqwLh0u",
        "outputId": "95d5fab6-dcca-47ff-90e7-1af9c48f1459"
      },
      "execution_count": 18,
      "outputs": [
        {
          "output_type": "stream",
          "name": "stdout",
          "text": [
            "Epoch 1/100\n",
            "180/180 [==============================] - ETA: 0s - loss: 0.0567 - accuracy: 0.9833\n",
            "Epoch 1: val_accuracy improved from -inf to 1.00000, saving model to Xception_model2_Strawberry_Based_Non_Augmented\n"
          ]
        },
        {
          "output_type": "stream",
          "name": "stderr",
          "text": [
            "WARNING:absl:Found untraced functions such as _jit_compiled_convolution_op, _jit_compiled_convolution_op, _jit_compiled_convolution_op, _jit_compiled_convolution_op, _jit_compiled_convolution_op while saving (showing 5 of 40). These functions will not be directly callable after loading.\n"
          ]
        },
        {
          "output_type": "stream",
          "name": "stdout",
          "text": [
            "\b\b\b\b\b\b\b\b\b\b\b\b\b\b\b\b\b\b\b\b\b\b\b\b\b\b\b\b\b\b\b\b\b\b\b\b\b\b\b\b\b\b\b\b\b\b\b\b\b\b\b\b\b\b\b\b\b\b\b\b\b\b\b\b\b\b\b\b\b\b\b\b\b\b\b\b\b\b\b\b\b\b\b\b\r180/180 [==============================] - 115s 476ms/step - loss: 0.0567 - accuracy: 0.9833 - val_loss: 4.7644e-04 - val_accuracy: 1.0000 - lr: 0.0010\n",
            "Epoch 2/100\n",
            "180/180 [==============================] - ETA: 0s - loss: 0.0060 - accuracy: 0.9975\n",
            "Epoch 2: val_accuracy did not improve from 1.00000\n",
            "180/180 [==============================] - 57s 318ms/step - loss: 0.0060 - accuracy: 0.9975 - val_loss: 0.0291 - val_accuracy: 0.9967 - lr: 0.0010\n",
            "Epoch 3/100\n",
            "180/180 [==============================] - ETA: 0s - loss: 0.0076 - accuracy: 0.9986\n",
            "Epoch 3: val_accuracy did not improve from 1.00000\n",
            "180/180 [==============================] - 58s 324ms/step - loss: 0.0076 - accuracy: 0.9986 - val_loss: 2.9974e-06 - val_accuracy: 1.0000 - lr: 0.0010\n",
            "Epoch 4/100\n",
            "180/180 [==============================] - ETA: 0s - loss: 1.5604e-04 - accuracy: 1.0000\n",
            "Epoch 4: val_accuracy did not improve from 1.00000\n",
            "180/180 [==============================] - 57s 317ms/step - loss: 1.5604e-04 - accuracy: 1.0000 - val_loss: 2.2437e-07 - val_accuracy: 1.0000 - lr: 0.0010\n",
            "Epoch 5/100\n",
            "180/180 [==============================] - ETA: 0s - loss: 4.9460e-06 - accuracy: 1.0000\n",
            "Epoch 5: val_accuracy did not improve from 1.00000\n",
            "180/180 [==============================] - 57s 316ms/step - loss: 4.9460e-06 - accuracy: 1.0000 - val_loss: 8.2570e-07 - val_accuracy: 1.0000 - lr: 0.0010\n",
            "Epoch 6/100\n",
            "180/180 [==============================] - ETA: 0s - loss: 0.0029 - accuracy: 0.9989\n",
            "Epoch 6: val_accuracy did not improve from 1.00000\n",
            "180/180 [==============================] - 57s 316ms/step - loss: 0.0029 - accuracy: 0.9989 - val_loss: 0.0019 - val_accuracy: 1.0000 - lr: 0.0010\n",
            "Epoch 7/100\n",
            "180/180 [==============================] - ETA: 0s - loss: 3.0819e-05 - accuracy: 1.0000\n",
            "Epoch 7: val_accuracy did not improve from 1.00000\n",
            "180/180 [==============================] - 59s 325ms/step - loss: 3.0819e-05 - accuracy: 1.0000 - val_loss: 2.7828e-05 - val_accuracy: 1.0000 - lr: 0.0010\n",
            "Epoch 8/100\n",
            "180/180 [==============================] - ETA: 0s - loss: 3.7068e-04 - accuracy: 0.9997\n",
            "Epoch 8: val_accuracy did not improve from 1.00000\n",
            "\n",
            "Epoch 8: ReduceLROnPlateau reducing learning rate to 0.00010000000474974513.\n",
            "180/180 [==============================] - 57s 316ms/step - loss: 3.7068e-04 - accuracy: 0.9997 - val_loss: 9.6764e-05 - val_accuracy: 1.0000 - lr: 0.0010\n",
            "Epoch 9/100\n",
            "180/180 [==============================] - ETA: 0s - loss: 0.0047 - accuracy: 0.9986\n",
            "Epoch 9: val_accuracy did not improve from 1.00000\n",
            "180/180 [==============================] - 57s 316ms/step - loss: 0.0047 - accuracy: 0.9986 - val_loss: 1.7439e-05 - val_accuracy: 1.0000 - lr: 1.0000e-04\n",
            "Epoch 10/100\n",
            "180/180 [==============================] - ETA: 0s - loss: 2.4623e-04 - accuracy: 1.0000\n",
            "Epoch 10: val_accuracy did not improve from 1.00000\n",
            "180/180 [==============================] - 57s 317ms/step - loss: 2.4623e-04 - accuracy: 1.0000 - val_loss: 1.8670e-05 - val_accuracy: 1.0000 - lr: 1.0000e-04\n",
            "Epoch 11/100\n",
            "180/180 [==============================] - ETA: 0s - loss: 7.1461e-05 - accuracy: 1.0000\n",
            "Epoch 11: val_accuracy did not improve from 1.00000\n",
            "180/180 [==============================] - 57s 316ms/step - loss: 7.1461e-05 - accuracy: 1.0000 - val_loss: 1.1896e-05 - val_accuracy: 1.0000 - lr: 1.0000e-04\n",
            "Epoch 12/100\n",
            "180/180 [==============================] - ETA: 0s - loss: 1.1164e-04 - accuracy: 1.0000\n",
            "Epoch 12: val_accuracy did not improve from 1.00000\n",
            "180/180 [==============================] - 57s 317ms/step - loss: 1.1164e-04 - accuracy: 1.0000 - val_loss: 8.2181e-06 - val_accuracy: 1.0000 - lr: 1.0000e-04\n",
            "Epoch 13/100\n",
            "180/180 [==============================] - ETA: 0s - loss: 1.0881e-05 - accuracy: 1.0000\n",
            "Epoch 13: val_accuracy did not improve from 1.00000\n",
            "\n",
            "Epoch 13: ReduceLROnPlateau reducing learning rate to 1.0000000474974514e-05.\n",
            "180/180 [==============================] - 57s 316ms/step - loss: 1.0881e-05 - accuracy: 1.0000 - val_loss: 7.0742e-06 - val_accuracy: 1.0000 - lr: 1.0000e-04\n",
            "Epoch 14/100\n",
            "180/180 [==============================] - ETA: 0s - loss: 1.4297e-04 - accuracy: 1.0000\n",
            "Epoch 14: val_accuracy did not improve from 1.00000\n",
            "180/180 [==============================] - 57s 317ms/step - loss: 1.4297e-04 - accuracy: 1.0000 - val_loss: 6.4184e-06 - val_accuracy: 1.0000 - lr: 1.0000e-05\n",
            "Epoch 15/100\n",
            "180/180 [==============================] - ETA: 0s - loss: 1.4367e-05 - accuracy: 1.0000\n",
            "Epoch 15: val_accuracy did not improve from 1.00000\n",
            "180/180 [==============================] - 59s 325ms/step - loss: 1.4367e-05 - accuracy: 1.0000 - val_loss: 6.0929e-06 - val_accuracy: 1.0000 - lr: 1.0000e-05\n",
            "Epoch 16/100\n",
            "180/180 [==============================] - ETA: 0s - loss: 1.4747e-05 - accuracy: 1.0000\n",
            "Epoch 16: val_accuracy did not improve from 1.00000\n",
            "180/180 [==============================] - 57s 316ms/step - loss: 1.4747e-05 - accuracy: 1.0000 - val_loss: 5.3329e-06 - val_accuracy: 1.0000 - lr: 1.0000e-05\n",
            "Epoch 17/100\n",
            "180/180 [==============================] - ETA: 0s - loss: 1.5416e-05 - accuracy: 1.0000\n",
            "Epoch 17: val_accuracy did not improve from 1.00000\n",
            "180/180 [==============================] - 57s 317ms/step - loss: 1.5416e-05 - accuracy: 1.0000 - val_loss: 6.3702e-06 - val_accuracy: 1.0000 - lr: 1.0000e-05\n",
            "Epoch 18/100\n",
            "180/180 [==============================] - ETA: 0s - loss: 3.5974e-05 - accuracy: 1.0000\n",
            "Epoch 18: val_accuracy did not improve from 1.00000\n",
            "\n",
            "Epoch 18: ReduceLROnPlateau reducing learning rate to 1.0000000656873453e-06.\n",
            "180/180 [==============================] - 57s 316ms/step - loss: 3.5974e-05 - accuracy: 1.0000 - val_loss: 6.3560e-06 - val_accuracy: 1.0000 - lr: 1.0000e-05\n",
            "Epoch 19/100\n",
            "180/180 [==============================] - ETA: 0s - loss: 8.4478e-06 - accuracy: 1.0000\n",
            "Epoch 19: val_accuracy did not improve from 1.00000\n",
            "180/180 [==============================] - 57s 315ms/step - loss: 8.4478e-06 - accuracy: 1.0000 - val_loss: 6.4795e-06 - val_accuracy: 1.0000 - lr: 1.0000e-06\n",
            "Epoch 20/100\n",
            "180/180 [==============================] - ETA: 0s - loss: 1.4513e-05 - accuracy: 1.0000\n",
            "Epoch 20: val_accuracy did not improve from 1.00000\n",
            "180/180 [==============================] - 57s 316ms/step - loss: 1.4513e-05 - accuracy: 1.0000 - val_loss: 6.1116e-06 - val_accuracy: 1.0000 - lr: 1.0000e-06\n",
            "Epoch 21/100\n",
            "180/180 [==============================] - ETA: 0s - loss: 5.0471e-06 - accuracy: 1.0000\n",
            "Epoch 21: val_accuracy did not improve from 1.00000\n",
            "Restoring model weights from the end of the best epoch: 1.\n",
            "180/180 [==============================] - 57s 317ms/step - loss: 5.0471e-06 - accuracy: 1.0000 - val_loss: 6.0106e-06 - val_accuracy: 1.0000 - lr: 1.0000e-06\n",
            "Epoch 21: early stopping\n"
          ]
        }
      ]
    },
    {
      "cell_type": "code",
      "source": [
        "#-----------------------------------------------------------\n",
        "# Retrieve a list of list results on training and test data\n",
        "# sets for each training epoch\n",
        "#-----------------------------------------------------------\n",
        "acc      = history_Xception_model_2.history['accuracy' ]\n",
        "val_acc  = history_Xception_model_2.history['val_accuracy' ]\n",
        "loss     = history_Xception_model_2.history['loss' ]\n",
        "val_loss = history_Xception_model_2.history['val_loss' ]\n",
        "\n",
        "epochs   = range(len(acc)) # Get number of epochs\n",
        "\n",
        "#------------------------------------------------\n",
        "# Plot training and validation accuracy per epoch\n",
        "#------------------------------------------------\n",
        "plt.plot  (epochs, acc )\n",
        "plt.plot  (epochs, val_acc )\n",
        "plt.title ('Training and validation accuracy DIY Model')\n",
        "plt.figure()\n",
        "\n",
        "#------------------------------------------------\n",
        "# Plot training and validation loss per epoch\n",
        "#------------------------------------------------\n",
        "plt.plot  (epochs, loss)\n",
        "plt.plot  (epochs, val_loss)\n",
        "plt.title ('Training and validation loss DIY Model')"
      ],
      "metadata": {
        "colab": {
          "base_uri": "https://localhost:8080/",
          "height": 904
        },
        "id": "Fem4AOjPLiAh",
        "outputId": "2b1d8f90-87da-42be-ea66-3230b4261b80"
      },
      "execution_count": 19,
      "outputs": [
        {
          "output_type": "execute_result",
          "data": {
            "text/plain": [
              "Text(0.5, 1.0, 'Training and validation loss DIY Model')"
            ]
          },
          "metadata": {},
          "execution_count": 19
        },
        {
          "output_type": "display_data",
          "data": {
            "text/plain": [
              "<Figure size 640x480 with 1 Axes>"
            ],
            "image/png": "[encoded data removed]"
          },
          "metadata": {}
        },
        {
          "output_type": "display_data",
          "data": {
            "text/plain": [
              "<Figure size 640x480 with 1 Axes>"
            ],
            "image/png": "[encoded data removed]"
          },
          "metadata": {}
        }
      ]
    },
    {
      "cell_type": "code",
      "source": [
        "!zip -r /content/Xception_model2_Strawberry_Based_Non_Augmented.zip /content/Xception_model2_Strawberry_Based_Non_Augmented"
      ],
      "metadata": {
        "colab": {
          "base_uri": "https://localhost:8080/"
        },
        "id": "Cd8zSUfGO23R",
        "outputId": "15c181b7-c9cf-4920-ad6a-375782ed4aa3"
      },
      "execution_count": 20,
      "outputs": [
        {
          "output_type": "stream",
          "name": "stdout",
          "text": [
            "  adding: content/Xception_model2_Strawberry_Based_Non_Augmented/ (stored 0%)\n",
            "  adding: content/Xception_model2_Strawberry_Based_Non_Augmented/keras_metadata.pb (deflated 96%)\n",
            "  adding: content/Xception_model2_Strawberry_Based_Non_Augmented/fingerprint.pb (stored 0%)\n",
            "  adding: content/Xception_model2_Strawberry_Based_Non_Augmented/variables/ (stored 0%)\n",
            "  adding: content/Xception_model2_Strawberry_Based_Non_Augmented/variables/variables.data-00000-of-00001 (deflated 7%)\n",
            "  adding: content/Xception_model2_Strawberry_Based_Non_Augmented/variables/variables.index (deflated 77%)\n",
            "  adding: content/Xception_model2_Strawberry_Based_Non_Augmented/assets/ (stored 0%)\n",
            "  adding: content/Xception_model2_Strawberry_Based_Non_Augmented/saved_model.pb (deflated 92%)\n"
          ]
        }
      ]
    }
  ]
}