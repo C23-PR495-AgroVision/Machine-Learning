{
  "nbformat": 4,
  "nbformat_minor": 0,
  "metadata": {
    "colab": {
      "provenance": [],
      "gpuType": "T4"
    },
    "kernelspec": {
      "name": "python3",
      "display_name": "Python 3"
    },
    "language_info": {
      "name": "python"
    },
    "accelerator": "GPU"
  },
  "cells": [
    {
      "cell_type": "code",
      "execution_count": null,
      "metadata": {
        "colab": {
          "base_uri": "https://localhost:8080/"
        },
        "id": "lufPV1EEoMHs",
        "outputId": "549c3d04-7dbe-42db-8f30-941025fa41c7"
      },
      "outputs": [
        {
          "output_type": "stream",
          "name": "stdout",
          "text": [
            "Looking in indexes: https://pypi.org/simple, https://us-python.pkg.dev/colab-wheels/public/simple/\n",
            "Requirement already satisfied: matplotlib in /usr/local/lib/python3.10/dist-packages (3.7.1)\n",
            "Requirement already satisfied: contourpy>=1.0.1 in /usr/local/lib/python3.10/dist-packages (from matplotlib) (1.0.7)\n",
            "Requirement already satisfied: cycler>=0.10 in /usr/local/lib/python3.10/dist-packages (from matplotlib) (0.11.0)\n",
            "Requirement already satisfied: fonttools>=4.22.0 in /usr/local/lib/python3.10/dist-packages (from matplotlib) (4.39.3)\n",
            "Requirement already satisfied: kiwisolver>=1.0.1 in /usr/local/lib/python3.10/dist-packages (from matplotlib) (1.4.4)\n",
            "Requirement already satisfied: numpy>=1.20 in /usr/local/lib/python3.10/dist-packages (from matplotlib) (1.22.4)\n",
            "Requirement already satisfied: packaging>=20.0 in /usr/local/lib/python3.10/dist-packages (from matplotlib) (23.1)\n",
            "Requirement already satisfied: pillow>=6.2.0 in /usr/local/lib/python3.10/dist-packages (from matplotlib) (8.4.0)\n",
            "Requirement already satisfied: pyparsing>=2.3.1 in /usr/local/lib/python3.10/dist-packages (from matplotlib) (3.0.9)\n",
            "Requirement already satisfied: python-dateutil>=2.7 in /usr/local/lib/python3.10/dist-packages (from matplotlib) (2.8.2)\n",
            "Requirement already satisfied: six>=1.5 in /usr/local/lib/python3.10/dist-packages (from python-dateutil>=2.7->matplotlib) (1.16.0)\n"
          ]
        }
      ],
      "source": [
        "\n",
        "pip install matplotlib"
      ]
    },
    {
      "cell_type": "code",
      "source": [
        "pip install opendatasets"
      ],
      "metadata": {
        "colab": {
          "base_uri": "https://localhost:8080/"
        },
        "id": "A6xN0qsVo2bX",
        "outputId": "dac640fd-95ba-403f-cac7-3ac9dab87400"
      },
      "execution_count": null,
      "outputs": [
        {
          "output_type": "stream",
          "name": "stdout",
          "text": [
            "Looking in indexes: https://pypi.org/simple, https://us-python.pkg.dev/colab-wheels/public/simple/\n",
            "Collecting opendatasets\n",
            "  Downloading opendatasets-0.1.22-py3-none-any.whl (15 kB)\n",
            "Requirement already satisfied: tqdm in /usr/local/lib/python3.10/dist-packages (from opendatasets) (4.65.0)\n",
            "Requirement already satisfied: kaggle in /usr/local/lib/python3.10/dist-packages (from opendatasets) (1.5.13)\n",
            "Requirement already satisfied: click in /usr/local/lib/python3.10/dist-packages (from opendatasets) (8.1.3)\n",
            "Requirement already satisfied: six>=1.10 in /usr/local/lib/python3.10/dist-packages (from kaggle->opendatasets) (1.16.0)\n",
            "Requirement already satisfied: certifi in /usr/local/lib/python3.10/dist-packages (from kaggle->opendatasets) (2022.12.7)\n",
            "Requirement already satisfied: python-dateutil in /usr/local/lib/python3.10/dist-packages (from kaggle->opendatasets) (2.8.2)\n",
            "Requirement already satisfied: requests in /usr/local/lib/python3.10/dist-packages (from kaggle->opendatasets) (2.27.1)\n",
            "Requirement already satisfied: python-slugify in /usr/local/lib/python3.10/dist-packages (from kaggle->opendatasets) (8.0.1)\n",
            "Requirement already satisfied: urllib3 in /usr/local/lib/python3.10/dist-packages (from kaggle->opendatasets) (1.26.15)\n",
            "Requirement already satisfied: text-unidecode>=1.3 in /usr/local/lib/python3.10/dist-packages (from python-slugify->kaggle->opendatasets) (1.3)\n",
            "Requirement already satisfied: charset-normalizer~=2.0.0 in /usr/local/lib/python3.10/dist-packages (from requests->kaggle->opendatasets) (2.0.12)\n",
            "Requirement already satisfied: idna<4,>=2.5 in /usr/local/lib/python3.10/dist-packages (from requests->kaggle->opendatasets) (3.4)\n",
            "Installing collected packages: opendatasets\n",
            "Successfully installed opendatasets-0.1.22\n"
          ]
        }
      ]
    },
    {
      "cell_type": "code",
      "source": [
        "# Library to dataset\n",
        "import opendatasets as od\n",
        "import os\n",
        "import zipfile\n",
        "import numpy as np\n",
        "\n",
        "# Surpress Warnings\n",
        "import warnings\n",
        "warnings.filterwarnings('ignore')\n",
        "os.environ['TF_CPP_MIN_LOG_LEVEL'] = '3' \n",
        "# library visualization\n",
        "import matplotlib.pyplot as plt\n",
        "\n",
        "# Library Tensorflow\n",
        "import tensorflow as tf\n",
        "from tensorflow import keras\n",
        "from tensorflow.keras.preprocessing.image import ImageDataGenerator\n",
        "from tensorflow.keras.callbacks import ModelCheckpoint, EarlyStopping, ReduceLROnPlateau\n",
        "from tensorflow.keras.applications.densenet import DenseNet121\n",
        "from tensorflow.keras.applications.xception import Xception\n",
        "from tensorflow.keras.applications.mobilenet_v2 import MobileNetV2\n",
        "\n",
        "# Others\n",
        "import shutil\n",
        "import random"
      ],
      "metadata": {
        "id": "fRo2xMaQo3M2"
      },
      "execution_count": null,
      "outputs": []
    },
    {
      "cell_type": "markdown",
      "source": [],
      "metadata": {
        "id": "rusjIXGIo779"
      }
    },
    {
      "cell_type": "code",
      "source": [
        "# Download dataset\n",
        "od.download('https://www.kaggle.com/datasets/faudyanurul/strawberry')"
      ],
      "metadata": {
        "colab": {
          "base_uri": "https://localhost:8080/"
        },
        "id": "hyI81Tmdo8MT",
        "outputId": "e27453fb-dffe-4deb-fed7-01a76db5e2e5"
      },
      "execution_count": null,
      "outputs": [
        {
          "output_type": "stream",
          "name": "stdout",
          "text": [
            "Please provide your Kaggle credentials to download this dataset. Learn more: http://bit.ly/kaggle-creds\n",
            "Your Kaggle username: faudyanurul\n",
            "Your Kaggle Key: ··········\n",
            "Downloading strawberry.zip to ./strawberry\n"
          ]
        },
        {
          "output_type": "stream",
          "name": "stderr",
          "text": [
            "100%|██████████| 83.5M/83.5M [00:02<00:00, 41.8MB/s]\n"
          ]
        },
        {
          "output_type": "stream",
          "name": "stdout",
          "text": [
            "\n"
          ]
        }
      ]
    },
    {
      "cell_type": "code",
      "source": [
        "# Load dataset\n",
        "print(\"==========================Training Data====================\")\n",
        "train_data = tf.keras.preprocessing.image_dataset_from_directory(\n",
        "    \"strawberry/Strawberry/train\",\n",
        "    label_mode=\"categorical\",\n",
        "    class_names=['Strawberry___healthy', 'Strawberry___Leaf_scorch'],\n",
        "    color_mode=\"rgb\",\n",
        "    batch_size=1,\n",
        "    image_size=(256, 256),\n",
        "    shuffle=True,\n",
        "    seed=123\n",
        ")\n",
        "print(\"==========================Validation Data====================\")\n",
        "val_data = tf.keras.preprocessing.image_dataset_from_directory(\n",
        "    \"strawberry/Strawberry/valid\",\n",
        "    label_mode=\"categorical\",\n",
        "    class_names=['Strawberry___healthy', 'Strawberry___Leaf_scorch'],\n",
        "    color_mode=\"rgb\",\n",
        "    batch_size=1,\n",
        "    image_size=(256, 256),\n",
        "    shuffle=True,\n",
        "    seed=123\n",
        ")"
      ],
      "metadata": {
        "colab": {
          "base_uri": "https://localhost:8080/"
        },
        "id": "qL-lBQPopDvX",
        "outputId": "a136b4aa-b1fb-4849-90f2-b2687ee899f5"
      },
      "execution_count": null,
      "outputs": [
        {
          "output_type": "stream",
          "name": "stdout",
          "text": [
            "==========================Training Data====================\n",
            "Found 3598 files belonging to 2 classes.\n",
            "==========================Validation Data====================\n",
            "Found 900 files belonging to 2 classes.\n"
          ]
        }
      ]
    },
    {
      "cell_type": "code",
      "source": [
        "# All images will be rescaled by 1./255.and augmented\n",
        "train_datagen = ImageDataGenerator(rescale = 1.0/256.,\n",
        "                                   rotation_range=40,\n",
        "                                   width_shift_range=0.2,\n",
        "                                   height_shift_range=0.2,\n",
        "                                   shear_range=0.2,\n",
        "                                   zoom_range=0.2,\n",
        "                                   horizontal_flip=True,\n",
        "                                   fill_mode='nearest')\n",
        "\n",
        "test_datagen  = ImageDataGenerator(rescale = 1.0/256.)\n",
        "\n",
        "# --------------------\n",
        "# Flow training images in batches of 20 using train_datagen generator\n",
        "# --------------------\n",
        "train_generator = train_datagen.flow_from_directory(\"strawberry/Strawberry/train\",\n",
        "                                                    batch_size=20,\n",
        "                                                    class_mode='categorical',\n",
        "                                                    target_size=(224, 224))     \n",
        "# --------------------\n",
        "# Flow validation images in batches of 20 using test_datagen generator\n",
        "# --------------------\n",
        "validation_generator =  test_datagen.flow_from_directory(\"strawberry/Strawberry/valid\",\n",
        "                                                         batch_size=20,\n",
        "                                                         class_mode  = 'categorical',\n",
        "                                                         target_size = (224, 224))"
      ],
      "metadata": {
        "colab": {
          "base_uri": "https://localhost:8080/"
        },
        "id": "vj8SpcZtpQyq",
        "outputId": "705c7fbd-6aec-4462-e737-41496d0cb880"
      },
      "execution_count": null,
      "outputs": [
        {
          "output_type": "stream",
          "name": "stdout",
          "text": [
            "Found 3598 images belonging to 2 classes.\n",
            "Found 900 images belonging to 2 classes.\n"
          ]
        }
      ]
    },
    {
      "cell_type": "markdown",
      "source": [],
      "metadata": {
        "id": "eI4u_zuvpc9g"
      }
    },
    {
      "cell_type": "code",
      "source": [
        "# Check GPU\n",
        "!nvidia-smi"
      ],
      "metadata": {
        "colab": {
          "base_uri": "https://localhost:8080/"
        },
        "id": "xiWloU4YpfP6",
        "outputId": "21d3f27a-f64f-4206-9c04-c5bd82e717c6"
      },
      "execution_count": null,
      "outputs": [
        {
          "output_type": "stream",
          "name": "stdout",
          "text": [
            "Tue Jun  6 04:03:54 2023       \n",
            "+-----------------------------------------------------------------------------+\n",
            "| NVIDIA-SMI 525.85.12    Driver Version: 525.85.12    CUDA Version: 12.0     |\n",
            "|-------------------------------+----------------------+----------------------+\n",
            "| GPU  Name        Persistence-M| Bus-Id        Disp.A | Volatile Uncorr. ECC |\n",
            "| Fan  Temp  Perf  Pwr:Usage/Cap|         Memory-Usage | GPU-Util  Compute M. |\n",
            "|                               |                      |               MIG M. |\n",
            "|===============================+======================+======================|\n",
            "|   0  Tesla T4            Off  | 00000000:00:04.0 Off |                    0 |\n",
            "| N/A   65C    P0    29W /  70W |    389MiB / 15360MiB |      0%      Default |\n",
            "|                               |                      |                  N/A |\n",
            "+-------------------------------+----------------------+----------------------+\n",
            "                                                                               \n",
            "+-----------------------------------------------------------------------------+\n",
            "| Processes:                                                                  |\n",
            "|  GPU   GI   CI        PID   Type   Process name                  GPU Memory |\n",
            "|        ID   ID                                                   Usage      |\n",
            "|=============================================================================|\n",
            "+-----------------------------------------------------------------------------+\n"
          ]
        }
      ]
    },
    {
      "cell_type": "code",
      "source": [
        "# Lis physical devices\n",
        "devices = tf.config.experimental.list_physical_devices(\"GPU\")\n",
        "devices"
      ],
      "metadata": {
        "colab": {
          "base_uri": "https://localhost:8080/"
        },
        "id": "YgNGYCTfpfZV",
        "outputId": "7a89ba02-9888-4eb5-941f-5677bb852a49"
      },
      "execution_count": null,
      "outputs": [
        {
          "output_type": "execute_result",
          "data": {
            "text/plain": [
              "[PhysicalDevice(name='/physical_device:GPU:0', device_type='GPU')]"
            ]
          },
          "metadata": {},
          "execution_count": 9
        }
      ]
    },
    {
      "cell_type": "code",
      "source": [
        "\n",
        "# Define the GPU strategy\n",
        "mirrored_strategy = tf.distribute.MirroredStrategy(devices=[\"/gpu:0\"])"
      ],
      "metadata": {
        "id": "lfJe33MSpfib"
      },
      "execution_count": null,
      "outputs": []
    },
    {
      "cell_type": "markdown",
      "source": [
        "mobilenetv2_1"
      ],
      "metadata": {
        "id": "Q1vPp-6UpnGe"
      }
    },
    {
      "cell_type": "code",
      "source": [
        "# Difine the callbacks\n",
        "# Save the best model\n",
        "checkpoint_callback = ModelCheckpoint(filepath=\"Strawberry_MobileNetV2_model1_Based_Augmented\", save_best_only=True, monitor=\"val_accuracy\", mode=\"max\", verbose=1)\n",
        "\n",
        "# Early stopping\n",
        "early_stopping_callback = EarlyStopping(monitor=\"val_accuracy\", mode=\"max\", patience=20, verbose=1, restore_best_weights=True)\n",
        "\n",
        "# Reduce learning rate\n",
        "reduce_lr_callback = ReduceLROnPlateau(monitor=\"val_loss\", factor=0.1, patience=5, verbose=1, mode=\"min\", min_delta=0.0001, cooldown=0, min_lr=0)\n",
        "\n",
        "# Callbacks list\n",
        "callbacks=[checkpoint_callback, early_stopping_callback, reduce_lr_callback]"
      ],
      "metadata": {
        "id": "jjB9M3gzpnf-"
      },
      "execution_count": null,
      "outputs": []
    },
    {
      "cell_type": "code",
      "source": [
        "# Define DIY Model\n",
        "MobileNetV2_model = tf.keras.models.Sequential([\n",
        "    # MobileNetV2 Layer\n",
        "    MobileNetV2(include_top=False,weights='imagenet',input_shape=(224, 224, 3)),\n",
        "    # Global Max Pooling Layer\n",
        "    tf.keras.layers.GlobalMaxPooling2D(),\n",
        "    # Drop Out Layer\n",
        "    tf.keras.layers.Dropout(0.2),\n",
        "    # 256 neuron hidden layer\n",
        "    tf.keras.layers.Dense(256, activation='relu'),\n",
        "    # Output\n",
        "    tf.keras.layers.Dense(2, activation='softmax') \n",
        "  ])\n",
        "\n",
        "\n",
        "# Compile Model\n",
        "MobileNetV2_model.compile(loss='categorical_crossentropy',optimizer=tf.keras.optimizers.Adam(), metrics=['accuracy']) \n",
        "\n",
        "# Model Summary\n",
        "MobileNetV2_model.summary()"
      ],
      "metadata": {
        "colab": {
          "base_uri": "https://localhost:8080/"
        },
        "id": "Ue1BYew_pwjJ",
        "outputId": "8facc5d7-ef6d-4df8-f11f-d6e27e842a61"
      },
      "execution_count": null,
      "outputs": [
        {
          "output_type": "stream",
          "name": "stdout",
          "text": [
            "Downloading data from https://storage.googleapis.com/tensorflow/keras-applications/mobilenet_v2/mobilenet_v2_weights_tf_dim_ordering_tf_kernels_1.0_224_no_top.h5\n",
            "9406464/9406464 [==============================] - 0s 0us/step\n",
            "Model: \"sequential\"\n",
            "_________________________________________________________________\n",
            " Layer (type)                Output Shape              Param #   \n",
            "=================================================================\n",
            " mobilenetv2_1.00_224 (Funct  (None, 7, 7, 1280)       2257984   \n",
            " ional)                                                          \n",
            "                                                                 \n",
            " global_max_pooling2d (Globa  (None, 1280)             0         \n",
            " lMaxPooling2D)                                                  \n",
            "                                                                 \n",
            " dropout (Dropout)           (None, 1280)              0         \n",
            "                                                                 \n",
            " dense (Dense)               (None, 256)               327936    \n",
            "                                                                 \n",
            " dense_1 (Dense)             (None, 2)                 514       \n",
            "                                                                 \n",
            "=================================================================\n",
            "Total params: 2,586,434\n",
            "Trainable params: 2,552,322\n",
            "Non-trainable params: 34,112\n",
            "_________________________________________________________________\n"
          ]
        }
      ]
    },
    {
      "cell_type": "code",
      "source": [
        "# Define the number of epochs\n",
        "num_epochs = 100\n",
        "\n",
        "# Train the model\n",
        "history_MobileNetV2_model_1 = MobileNetV2_model.fit(train_generator, epochs=num_epochs, validation_data=validation_generator, callbacks=callbacks)"
      ],
      "metadata": {
        "colab": {
          "base_uri": "https://localhost:8080/"
        },
        "id": "fxUMnUMvp0iz",
        "outputId": "ef9e8a9c-d8cb-49fa-f390-923a37fc0d33"
      },
      "execution_count": null,
      "outputs": [
        {
          "metadata": {
            "tags": null
          },
          "name": "stdout",
          "output_type": "stream",
          "text": [
            "Epoch 1/100\n",
            "180/180 [==============================] - ETA: 0s - loss: 0.2473 - accuracy: 0.9786\n",
            "Epoch 1: val_accuracy improved from -inf to 0.97000, saving model to Strawberry_MobileNetV2_model1_Based_Augmented\n"
          ]
        },
        {
          "metadata": {
            "tags": null
          },
          "name": "stderr",
          "output_type": "stream",
          "text": [
            "WARNING:absl:Function `_wrapped_model` contains input name(s) mobilenetv2_1.00_224_input with unsupported characters which will be renamed to mobilenetv2_1_00_224_input in the SavedModel.\n",
            "WARNING:absl:`mobilenetv2_1.00_224_input` is not a valid tf.function parameter name. Sanitizing to `mobilenetv2_1_00_224_input`.\n",
            "WARNING:absl:`mobilenetv2_1.00_224_input` is not a valid tf.function parameter name. Sanitizing to `mobilenetv2_1_00_224_input`.\n",
            "WARNING:absl:`mobilenetv2_1.00_224_input` is not a valid tf.function parameter name. Sanitizing to `mobilenetv2_1_00_224_input`.\n",
            "WARNING:absl:Found untraced functions such as _jit_compiled_convolution_op, _jit_compiled_convolution_op, _jit_compiled_convolution_op, _jit_compiled_convolution_op, _jit_compiled_convolution_op while saving (showing 5 of 52). These functions will not be directly callable after loading.\n"
          ]
        },
        {
          "metadata": {
            "tags": null
          },
          "name": "stdout",
          "output_type": "stream",
          "text": [
            "180/180 [==============================] - 124s 457ms/step - loss: 0.2473 - accuracy: 0.9786 - val_loss: 0.2617 - val_accuracy: 0.9700 - lr: 0.0010\n",
            "Epoch 2/100\n",
            "180/180 [==============================] - ETA: 0s - loss: 0.0348 - accuracy: 0.9919\n",
            "Epoch 2: val_accuracy did not improve from 0.97000\n",
            "180/180 [==============================] - 53s 292ms/step - loss: 0.0348 - accuracy: 0.9919 - val_loss: 1.6226 - val_accuracy: 0.8600 - lr: 0.0010\n",
            "Epoch 3/100\n",
            "180/180 [==============================] - ETA: 0s - loss: 0.0149 - accuracy: 0.9958\n",
            "Epoch 3: val_accuracy did not improve from 0.97000\n",
            "180/180 [==============================] - 53s 293ms/step - loss: 0.0149 - accuracy: 0.9958 - val_loss: 2.0562 - val_accuracy: 0.7789 - lr: 0.0010\n",
            "Epoch 4/100\n",
            "180/180 [==============================] - ETA: 0s - loss: 0.0100 - accuracy: 0.9975\n",
            "Epoch 4: val_accuracy did not improve from 0.97000\n",
            "180/180 [==============================] - 54s 300ms/step - loss: 0.0100 - accuracy: 0.9975 - val_loss: 1.8467 - val_accuracy: 0.8733 - lr: 0.0010\n",
            "Epoch 5/100\n",
            "180/180 [==============================] - ETA: 0s - loss: 0.0300 - accuracy: 0.9925\n",
            "Epoch 5: val_accuracy did not improve from 0.97000\n",
            "180/180 [==============================] - 54s 297ms/step - loss: 0.0300 - accuracy: 0.9925 - val_loss: 0.3036 - val_accuracy: 0.9422 - lr: 0.0010\n",
            "Epoch 6/100\n",
            "180/180 [==============================] - ETA: 0s - loss: 0.0070 - accuracy: 0.9983\n",
            "Epoch 6: val_accuracy improved from 0.97000 to 0.99889, saving model to Strawberry_MobileNetV2_model1_Based_Augmented\n"
          ]
        },
        {
          "metadata": {
            "tags": null
          },
          "name": "stderr",
          "output_type": "stream",
          "text": [
            "WARNING:absl:Function `_wrapped_model` contains input name(s) mobilenetv2_1.00_224_input with unsupported characters which will be renamed to mobilenetv2_1_00_224_input in the SavedModel.\n",
            "WARNING:absl:`mobilenetv2_1.00_224_input` is not a valid tf.function parameter name. Sanitizing to `mobilenetv2_1_00_224_input`.\n",
            "WARNING:absl:`mobilenetv2_1.00_224_input` is not a valid tf.function parameter name. Sanitizing to `mobilenetv2_1_00_224_input`.\n",
            "WARNING:absl:Found untraced functions such as _jit_compiled_convolution_op, _jit_compiled_convolution_op, _jit_compiled_convolution_op, _jit_compiled_convolution_op, _jit_compiled_convolution_op while saving (showing 5 of 52). These functions will not be directly callable after loading.\n"
          ]
        },
        {
          "metadata": {
            "tags": null
          },
          "name": "stdout",
          "output_type": "stream",
          "text": [
            "180/180 [==============================] - 76s 425ms/step - loss: 0.0070 - accuracy: 0.9983 - val_loss: 0.0012 - val_accuracy: 0.9989 - lr: 0.0010\n",
            "Epoch 7/100\n",
            "180/180 [==============================] - ETA: 0s - loss: 0.0171 - accuracy: 0.9967\n",
            "Epoch 7: val_accuracy did not improve from 0.99889\n",
            "180/180 [==============================] - 52s 291ms/step - loss: 0.0171 - accuracy: 0.9967 - val_loss: 0.9290 - val_accuracy: 0.5278 - lr: 0.0010\n",
            "Epoch 8/100\n",
            "180/180 [==============================] - ETA: 0s - loss: 0.0088 - accuracy: 0.9978\n",
            "Epoch 8: val_accuracy did not improve from 0.99889\n",
            "180/180 [==============================] - 53s 296ms/step - loss: 0.0088 - accuracy: 0.9978 - val_loss: 0.0129 - val_accuracy: 0.9989 - lr: 0.0010\n",
            "Epoch 9/100\n",
            "180/180 [==============================] - ETA: 0s - loss: 0.0023 - accuracy: 0.9994\n",
            "Epoch 9: val_accuracy did not improve from 0.99889\n",
            "180/180 [==============================] - 52s 291ms/step - loss: 0.0023 - accuracy: 0.9994 - val_loss: 0.0080 - val_accuracy: 0.9989 - lr: 0.0010\n",
            "Epoch 10/100\n",
            "180/180 [==============================] - ETA: 0s - loss: 0.0012 - accuracy: 0.9994\n",
            "Epoch 10: val_accuracy did not improve from 0.99889\n",
            "180/180 [==============================] - 53s 292ms/step - loss: 0.0012 - accuracy: 0.9994 - val_loss: 0.0185 - val_accuracy: 0.9978 - lr: 0.0010\n",
            "Epoch 11/100\n",
            "180/180 [==============================] - ETA: 0s - loss: 0.0022 - accuracy: 0.9994\n",
            "Epoch 11: val_accuracy did not improve from 0.99889\n",
            "\n",
            "Epoch 11: ReduceLROnPlateau reducing learning rate to 0.00010000000474974513.\n",
            "180/180 [==============================] - 52s 288ms/step - loss: 0.0022 - accuracy: 0.9994 - val_loss: 0.0239 - val_accuracy: 0.9978 - lr: 0.0010\n",
            "Epoch 12/100\n",
            "180/180 [==============================] - ETA: 0s - loss: 3.0007e-04 - accuracy: 1.0000\n",
            "Epoch 12: val_accuracy did not improve from 0.99889\n",
            "180/180 [==============================] - 53s 296ms/step - loss: 3.0007e-04 - accuracy: 1.0000 - val_loss: 0.0192 - val_accuracy: 0.9978 - lr: 1.0000e-04\n",
            "Epoch 13/100\n",
            "180/180 [==============================] - ETA: 0s - loss: 3.2595e-04 - accuracy: 1.0000\n",
            "Epoch 13: val_accuracy did not improve from 0.99889\n",
            "180/180 [==============================] - 52s 289ms/step - loss: 3.2595e-04 - accuracy: 1.0000 - val_loss: 0.0164 - val_accuracy: 0.9978 - lr: 1.0000e-04\n",
            "Epoch 14/100\n",
            "180/180 [==============================] - ETA: 0s - loss: 6.1943e-05 - accuracy: 1.0000\n",
            "Epoch 14: val_accuracy did not improve from 0.99889\n",
            "180/180 [==============================] - 52s 291ms/step - loss: 6.1943e-05 - accuracy: 1.0000 - val_loss: 0.0072 - val_accuracy: 0.9978 - lr: 1.0000e-04\n",
            "Epoch 15/100\n",
            "180/180 [==============================] - ETA: 0s - loss: 7.8433e-04 - accuracy: 0.9997\n",
            "Epoch 15: val_accuracy improved from 0.99889 to 1.00000, saving model to Strawberry_MobileNetV2_model1_Based_Augmented\n"
          ]
        },
        {
          "metadata": {
            "tags": null
          },
          "name": "stderr",
          "output_type": "stream",
          "text": [
            "WARNING:absl:Function `_wrapped_model` contains input name(s) mobilenetv2_1.00_224_input with unsupported characters which will be renamed to mobilenetv2_1_00_224_input in the SavedModel.\n",
            "WARNING:absl:Found untraced functions such as _jit_compiled_convolution_op, _jit_compiled_convolution_op, _jit_compiled_convolution_op, _jit_compiled_convolution_op, _jit_compiled_convolution_op while saving (showing 5 of 52). These functions will not be directly callable after loading.\n"
          ]
        },
        {
          "output_type": "stream",
          "name": "stdout",
          "text": [
            "180/180 [==============================] - 78s 437ms/step - loss: 7.8433e-04 - accuracy: 0.9997 - val_loss: 0.0011 - val_accuracy: 1.0000 - lr: 1.0000e-04\n",
            "Epoch 16/100\n",
            "180/180 [==============================] - ETA: 0s - loss: 1.4724e-04 - accuracy: 1.0000\n",
            "Epoch 16: val_accuracy did not improve from 1.00000\n",
            "180/180 [==============================] - 52s 287ms/step - loss: 1.4724e-04 - accuracy: 1.0000 - val_loss: 3.3974e-04 - val_accuracy: 1.0000 - lr: 1.0000e-04\n",
            "Epoch 17/100\n",
            "180/180 [==============================] - ETA: 0s - loss: 0.0017 - accuracy: 0.9994\n",
            "Epoch 17: val_accuracy did not improve from 1.00000\n",
            "180/180 [==============================] - 51s 283ms/step - loss: 0.0017 - accuracy: 0.9994 - val_loss: 0.0021 - val_accuracy: 0.9989 - lr: 1.0000e-04\n",
            "Epoch 18/100\n",
            "180/180 [==============================] - ETA: 0s - loss: 1.6781e-04 - accuracy: 1.0000\n",
            "Epoch 18: val_accuracy did not improve from 1.00000\n",
            "180/180 [==============================] - 51s 283ms/step - loss: 1.6781e-04 - accuracy: 1.0000 - val_loss: 4.1616e-04 - val_accuracy: 1.0000 - lr: 1.0000e-04\n",
            "Epoch 19/100\n",
            "180/180 [==============================] - ETA: 0s - loss: 0.0013 - accuracy: 0.9997\n",
            "Epoch 19: val_accuracy did not improve from 1.00000\n",
            "180/180 [==============================] - 52s 287ms/step - loss: 0.0013 - accuracy: 0.9997 - val_loss: 5.6770e-04 - val_accuracy: 1.0000 - lr: 1.0000e-04\n",
            "Epoch 20/100\n",
            "180/180 [==============================] - ETA: 0s - loss: 4.5715e-04 - accuracy: 0.9997\n",
            "Epoch 20: val_accuracy did not improve from 1.00000\n",
            "180/180 [==============================] - 50s 280ms/step - loss: 4.5715e-04 - accuracy: 0.9997 - val_loss: 1.0209e-04 - val_accuracy: 1.0000 - lr: 1.0000e-04\n",
            "Epoch 21/100\n",
            "180/180 [==============================] - ETA: 0s - loss: 3.7895e-05 - accuracy: 1.0000\n",
            "Epoch 21: val_accuracy did not improve from 1.00000\n",
            "180/180 [==============================] - 51s 283ms/step - loss: 3.7895e-05 - accuracy: 1.0000 - val_loss: 5.9131e-05 - val_accuracy: 1.0000 - lr: 1.0000e-04\n",
            "Epoch 22/100\n",
            "180/180 [==============================] - ETA: 0s - loss: 1.4953e-04 - accuracy: 1.0000\n",
            "Epoch 22: val_accuracy did not improve from 1.00000\n",
            "180/180 [==============================] - 51s 281ms/step - loss: 1.4953e-04 - accuracy: 1.0000 - val_loss: 3.5987e-05 - val_accuracy: 1.0000 - lr: 1.0000e-04\n",
            "Epoch 23/100\n",
            "180/180 [==============================] - ETA: 0s - loss: 4.5494e-05 - accuracy: 1.0000\n",
            "Epoch 23: val_accuracy did not improve from 1.00000\n",
            "180/180 [==============================] - 51s 281ms/step - loss: 4.5494e-05 - accuracy: 1.0000 - val_loss: 2.2819e-05 - val_accuracy: 1.0000 - lr: 1.0000e-04\n",
            "Epoch 24/100\n",
            "180/180 [==============================] - ETA: 0s - loss: 2.8519e-05 - accuracy: 1.0000\n",
            "Epoch 24: val_accuracy did not improve from 1.00000\n",
            "180/180 [==============================] - 52s 288ms/step - loss: 2.8519e-05 - accuracy: 1.0000 - val_loss: 1.4093e-05 - val_accuracy: 1.0000 - lr: 1.0000e-04\n",
            "Epoch 25/100\n",
            "180/180 [==============================] - ETA: 0s - loss: 5.4092e-05 - accuracy: 1.0000\n",
            "Epoch 25: val_accuracy did not improve from 1.00000\n",
            "\n",
            "Epoch 25: ReduceLROnPlateau reducing learning rate to 1.0000000474974514e-05.\n",
            "180/180 [==============================] - 51s 281ms/step - loss: 5.4092e-05 - accuracy: 1.0000 - val_loss: 9.5717e-06 - val_accuracy: 1.0000 - lr: 1.0000e-04\n",
            "Epoch 26/100\n",
            "180/180 [==============================] - ETA: 0s - loss: 9.7790e-05 - accuracy: 1.0000\n",
            "Epoch 26: val_accuracy did not improve from 1.00000\n",
            "180/180 [==============================] - 51s 284ms/step - loss: 9.7790e-05 - accuracy: 1.0000 - val_loss: 7.3609e-06 - val_accuracy: 1.0000 - lr: 1.0000e-05\n",
            "Epoch 27/100\n",
            "180/180 [==============================] - ETA: 0s - loss: 1.3414e-05 - accuracy: 1.0000\n",
            "Epoch 27: val_accuracy did not improve from 1.00000\n",
            "180/180 [==============================] - 51s 281ms/step - loss: 1.3414e-05 - accuracy: 1.0000 - val_loss: 5.7145e-06 - val_accuracy: 1.0000 - lr: 1.0000e-05\n",
            "Epoch 28/100\n",
            "180/180 [==============================] - ETA: 0s - loss: 4.3904e-05 - accuracy: 1.0000\n",
            "Epoch 28: val_accuracy did not improve from 1.00000\n",
            "180/180 [==============================] - 51s 285ms/step - loss: 4.3904e-05 - accuracy: 1.0000 - val_loss: 4.7137e-06 - val_accuracy: 1.0000 - lr: 1.0000e-05\n",
            "Epoch 29/100\n",
            "180/180 [==============================] - ETA: 0s - loss: 1.3197e-04 - accuracy: 1.0000\n",
            "Epoch 29: val_accuracy did not improve from 1.00000\n",
            "180/180 [==============================] - 51s 284ms/step - loss: 1.3197e-04 - accuracy: 1.0000 - val_loss: 3.9033e-06 - val_accuracy: 1.0000 - lr: 1.0000e-05\n",
            "Epoch 30/100\n",
            "180/180 [==============================] - ETA: 0s - loss: 5.4360e-05 - accuracy: 1.0000\n",
            "Epoch 30: val_accuracy did not improve from 1.00000\n",
            "\n",
            "Epoch 30: ReduceLROnPlateau reducing learning rate to 1.0000000656873453e-06.\n",
            "180/180 [==============================] - 50s 279ms/step - loss: 5.4360e-05 - accuracy: 1.0000 - val_loss: 3.3121e-06 - val_accuracy: 1.0000 - lr: 1.0000e-05\n",
            "Epoch 31/100\n",
            "180/180 [==============================] - ETA: 0s - loss: 4.0010e-05 - accuracy: 1.0000\n",
            "Epoch 31: val_accuracy did not improve from 1.00000\n",
            "180/180 [==============================] - 51s 286ms/step - loss: 4.0010e-05 - accuracy: 1.0000 - val_loss: 2.8799e-06 - val_accuracy: 1.0000 - lr: 1.0000e-06\n",
            "Epoch 32/100\n",
            "180/180 [==============================] - ETA: 0s - loss: 2.5640e-05 - accuracy: 1.0000\n",
            "Epoch 32: val_accuracy did not improve from 1.00000\n",
            "180/180 [==============================] - 51s 281ms/step - loss: 2.5640e-05 - accuracy: 1.0000 - val_loss: 2.5984e-06 - val_accuracy: 1.0000 - lr: 1.0000e-06\n",
            "Epoch 33/100\n",
            "180/180 [==============================] - ETA: 0s - loss: 6.8683e-05 - accuracy: 1.0000\n",
            "Epoch 33: val_accuracy did not improve from 1.00000\n",
            "180/180 [==============================] - 51s 285ms/step - loss: 6.8683e-05 - accuracy: 1.0000 - val_loss: 2.3901e-06 - val_accuracy: 1.0000 - lr: 1.0000e-06\n",
            "Epoch 34/100\n",
            "180/180 [==============================] - ETA: 0s - loss: 0.0054 - accuracy: 0.9994\n",
            "Epoch 34: val_accuracy did not improve from 1.00000\n",
            "180/180 [==============================] - 51s 282ms/step - loss: 0.0054 - accuracy: 0.9994 - val_loss: 2.2969e-06 - val_accuracy: 1.0000 - lr: 1.0000e-06\n",
            "Epoch 35/100\n",
            "180/180 [==============================] - ETA: 0s - loss: 1.6585e-05 - accuracy: 1.0000\n",
            "Epoch 35: val_accuracy did not improve from 1.00000\n",
            "Restoring model weights from the end of the best epoch: 15.\n",
            "\n",
            "Epoch 35: ReduceLROnPlateau reducing learning rate to 1.0000001111620805e-07.\n",
            "180/180 [==============================] - 51s 282ms/step - loss: 1.6585e-05 - accuracy: 1.0000 - val_loss: 2.1867e-06 - val_accuracy: 1.0000 - lr: 1.0000e-06\n",
            "Epoch 35: early stopping\n"
          ]
        }
      ]
    },
    {
      "cell_type": "code",
      "source": [
        "#-----------------------------------------------------------\n",
        "# Retrieve a list of list results on training and test data\n",
        "# sets for each training epoch\n",
        "#-----------------------------------------------------------\n",
        "acc      = history_MobileNetV2_model_1.history['accuracy' ]\n",
        "val_acc  = history_MobileNetV2_model_1.history['val_accuracy' ]\n",
        "loss     = history_MobileNetV2_model_1.history['loss' ]\n",
        "val_loss = history_MobileNetV2_model_1.history['val_loss' ]\n",
        "\n",
        "epochs   = range(len(acc)) # Get number of epochs\n",
        "\n",
        "#------------------------------------------------\n",
        "# Plot training and validation accuracy per epoch\n",
        "#------------------------------------------------\n",
        "plt.plot  (epochs, acc )\n",
        "plt.plot  (epochs, val_acc )\n",
        "plt.title ('Training and validation accuracy MobileNetV2 Model 1')\n",
        "plt.legend(['train', 'val'], loc='upper left')\n",
        "plt.figure()\n",
        "\n",
        "#------------------------------------------------\n",
        "# Plot training and validation loss per epoch\n",
        "#------------------------------------------------\n",
        "plt.plot  (epochs, loss)\n",
        "plt.plot  (epochs, val_loss)\n",
        "plt.title ('Training and validation loss MobileNetV2 Model 1')\n",
        "plt.legend(['train', 'val'], loc='upper left')"
      ],
      "metadata": {
        "colab": {
          "base_uri": "https://localhost:8080/",
          "height": 904
        },
        "id": "PsC2Kvogp8Iu",
        "outputId": "67e6ecb3-aa68-43e7-cb58-d4a8261567ec"
      },
      "execution_count": null,
      "outputs": [
        {
          "output_type": "execute_result",
          "data": {
            "text/plain": [
              "<matplotlib.legend.Legend at 0x7f36d432ed70>"
            ]
          },
          "metadata": {},
          "execution_count": 14
        },
        {
          "output_type": "display_data",
          "data": {
            "text/plain": [
              "<Figure size 640x480 with 1 Axes>"
            ],
            "image/png": "[encoded data removed]"
          },
          "metadata": {}
        },
        {
          "output_type": "display_data",
          "data": {
            "text/plain": [
              "<Figure size 640x480 with 1 Axes>"
            ],
            "image/png": "[encoded data removed]"
          },
          "metadata": {}
        }
      ]
    },
    {
      "cell_type": "code",
      "source": [
        "!zip -r /content/Strawberry_MobileNetV2_model1_Based_Augmented.zip /content/Strawberry_MobileNetV2_model1_Based_Augmented"
      ],
      "metadata": {
        "colab": {
          "base_uri": "https://localhost:8080/"
        },
        "id": "6DHxR1ksrIgR",
        "outputId": "937f2714-7dc4-4053-e679-c51c044253ba"
      },
      "execution_count": null,
      "outputs": [
        {
          "output_type": "stream",
          "name": "stdout",
          "text": [
            "  adding: content/Strawberry_MobileNetV2_model1_Based_Augmented/ (stored 0%)\n",
            "  adding: content/Strawberry_MobileNetV2_model1_Based_Augmented/variables/ (stored 0%)\n",
            "  adding: content/Strawberry_MobileNetV2_model1_Based_Augmented/variables/variables.index (deflated 77%)\n",
            "  adding: content/Strawberry_MobileNetV2_model1_Based_Augmented/variables/variables.data-00000-of-00001 (deflated 9%)\n",
            "  adding: content/Strawberry_MobileNetV2_model1_Based_Augmented/assets/ (stored 0%)\n",
            "  adding: content/Strawberry_MobileNetV2_model1_Based_Augmented/keras_metadata.pb (deflated 96%)\n",
            "  adding: content/Strawberry_MobileNetV2_model1_Based_Augmented/fingerprint.pb (stored 0%)\n",
            "  adding: content/Strawberry_MobileNetV2_model1_Based_Augmented/saved_model.pb (deflated 91%)\n"
          ]
        }
      ]
    },
    {
      "cell_type": "markdown",
      "source": [
        "mobilenetv2_2"
      ],
      "metadata": {
        "id": "7Ve3Dbclp8x0"
      }
    },
    {
      "cell_type": "code",
      "source": [
        "# Difine the callbacks\n",
        "# Save the best model\n",
        "checkpoint_callback = ModelCheckpoint(filepath=\"Strawberry_MobileNetV2_model2_Based_Augmented\", save_best_only=True, monitor=\"val_accuracy\", mode=\"max\", verbose=1)\n",
        "\n",
        "# Early stopping\n",
        "early_stopping_callback = EarlyStopping(monitor=\"val_accuracy\", mode=\"max\", patience=20, verbose=1, restore_best_weights=True)\n",
        "\n",
        "# Reduce learning rate\n",
        "reduce_lr_callback = ReduceLROnPlateau(monitor=\"val_loss\", factor=0.1, patience=5, verbose=1, mode=\"min\", min_delta=0.0001, cooldown=0, min_lr=0)\n",
        "\n",
        "# Callbacks list\n",
        "callbacks=[checkpoint_callback, early_stopping_callback, reduce_lr_callback]"
      ],
      "metadata": {
        "id": "uf-AaTb7qAsR"
      },
      "execution_count": 19,
      "outputs": []
    },
    {
      "cell_type": "code",
      "source": [
        "# Define DIY Model\n",
        "MobileNetV2_model_2 = tf.keras.models.Sequential([\n",
        "    # MobileNetV2 Layer\n",
        "    MobileNetV2(include_top=False,weights='imagenet',input_shape=(224, 224, 3)),\n",
        "    # Global Average Pooling Layer\n",
        "    tf.keras.layers.GlobalAveragePooling2D(),\n",
        "    # Drop Out Layer\n",
        "    tf.keras.layers.Dropout(0.2),\n",
        "    # 256 neuron hidden layer\n",
        "    tf.keras.layers.Dense(256, activation='relu'),\n",
        "    # Output\n",
        "    tf.keras.layers.Dense(2, activation='softmax') \n",
        "  ])\n",
        "\n",
        "\n",
        "# Compile Model\n",
        "MobileNetV2_model_2.compile(loss='categorical_crossentropy',optimizer=tf.keras.optimizers.Adam(), metrics=['accuracy']) \n",
        "\n",
        "# Model Summary\n",
        "MobileNetV2_model_2.summary()"
      ],
      "metadata": {
        "colab": {
          "base_uri": "https://localhost:8080/"
        },
        "id": "kM2co1e_qA4M",
        "outputId": "a06125f9-6be0-44c3-a995-189c4fb51d2e"
      },
      "execution_count": 20,
      "outputs": [
        {
          "output_type": "stream",
          "name": "stdout",
          "text": [
            "Model: \"sequential_2\"\n",
            "_________________________________________________________________\n",
            " Layer (type)                Output Shape              Param #   \n",
            "=================================================================\n",
            " mobilenetv2_1.00_224 (Funct  (None, 7, 7, 1280)       2257984   \n",
            " ional)                                                          \n",
            "                                                                 \n",
            " global_average_pooling2d_1   (None, 1280)             0         \n",
            " (GlobalAveragePooling2D)                                        \n",
            "                                                                 \n",
            " dropout_2 (Dropout)         (None, 1280)              0         \n",
            "                                                                 \n",
            " dense_4 (Dense)             (None, 256)               327936    \n",
            "                                                                 \n",
            " dense_5 (Dense)             (None, 2)                 514       \n",
            "                                                                 \n",
            "=================================================================\n",
            "Total params: 2,586,434\n",
            "Trainable params: 2,552,322\n",
            "Non-trainable params: 34,112\n",
            "_________________________________________________________________\n"
          ]
        }
      ]
    },
    {
      "cell_type": "code",
      "source": [
        "# Define the number of epochs\n",
        "num_epochs = 100\n",
        "\n",
        "# Train the model\n",
        "history_MobileNetV2_model_2 = MobileNetV2_model_2.fit(train_generator, epochs=num_epochs, validation_data=validation_generator, callbacks=callbacks)"
      ],
      "metadata": {
        "colab": {
          "base_uri": "https://localhost:8080/"
        },
        "id": "hTPjtAyBqBC6",
        "outputId": "d5a518be-9d17-4c09-9a1f-56f8cfe688b3"
      },
      "execution_count": 21,
      "outputs": [
        {
          "output_type": "stream",
          "name": "stdout",
          "text": [
            "Epoch 1/100\n",
            "180/180 [==============================] - ETA: 0s - loss: 0.0556 - accuracy: 0.9814\n",
            "Epoch 1: val_accuracy improved from -inf to 0.79889, saving model to Strawberry_MobileNetV2_model2_Based_Augmented\n"
          ]
        },
        {
          "output_type": "stream",
          "name": "stderr",
          "text": [
            "WARNING:absl:Function `_wrapped_model` contains input name(s) mobilenetv2_1.00_224_input with unsupported characters which will be renamed to mobilenetv2_1_00_224_input in the SavedModel.\n",
            "WARNING:absl:Found untraced functions such as _jit_compiled_convolution_op, _jit_compiled_convolution_op, _jit_compiled_convolution_op, _jit_compiled_convolution_op, _jit_compiled_convolution_op while saving (showing 5 of 52). These functions will not be directly callable after loading.\n"
          ]
        },
        {
          "output_type": "stream",
          "name": "stdout",
          "text": [
            "\b\b\b\b\b\b\b\b\b\b\b\b\b\b\b\b\b\b\b\b\b\b\b\b\b\b\b\b\b\b\b\b\b\b\b\b\b\b\b\b\b\b\b\b\b\b\b\b\b\b\b\b\b\b\b\b\b\b\b\b\b\b\b\b\b\b\b\b\b\b\b\b\b\b\b\b\b\b\b\b\b\b\b\b\r180/180 [==============================] - 122s 443ms/step - loss: 0.0556 - accuracy: 0.9814 - val_loss: 3.5391 - val_accuracy: 0.7989 - lr: 0.0010\n",
            "Epoch 2/100\n",
            "180/180 [==============================] - ETA: 0s - loss: 0.0506 - accuracy: 0.9861\n",
            "Epoch 2: val_accuracy improved from 0.79889 to 0.97000, saving model to Strawberry_MobileNetV2_model2_Based_Augmented\n"
          ]
        },
        {
          "output_type": "stream",
          "name": "stderr",
          "text": [
            "WARNING:absl:Function `_wrapped_model` contains input name(s) mobilenetv2_1.00_224_input with unsupported characters which will be renamed to mobilenetv2_1_00_224_input in the SavedModel.\n",
            "WARNING:absl:Found untraced functions such as _jit_compiled_convolution_op, _jit_compiled_convolution_op, _jit_compiled_convolution_op, _jit_compiled_convolution_op, _jit_compiled_convolution_op while saving (showing 5 of 52). These functions will not be directly callable after loading.\n"
          ]
        },
        {
          "output_type": "stream",
          "name": "stdout",
          "text": [
            "\b\b\b\b\b\b\b\b\b\b\b\b\b\b\b\b\b\b\b\b\b\b\b\b\b\b\b\b\b\b\b\b\b\b\b\b\b\b\b\b\b\b\b\b\b\b\b\b\b\b\b\b\b\b\b\b\b\b\b\b\b\b\b\b\b\b\b\b\b\b\b\b\b\b\b\b\b\b\b\b\b\b\b\b\r180/180 [==============================] - 77s 430ms/step - loss: 0.0506 - accuracy: 0.9861 - val_loss: 0.4195 - val_accuracy: 0.9700 - lr: 0.0010\n",
            "Epoch 3/100\n",
            "180/180 [==============================] - ETA: 0s - loss: 0.0030 - accuracy: 0.9992\n",
            "Epoch 3: val_accuracy improved from 0.97000 to 0.99667, saving model to Strawberry_MobileNetV2_model2_Based_Augmented\n"
          ]
        },
        {
          "output_type": "stream",
          "name": "stderr",
          "text": [
            "WARNING:absl:Function `_wrapped_model` contains input name(s) mobilenetv2_1.00_224_input with unsupported characters which will be renamed to mobilenetv2_1_00_224_input in the SavedModel.\n",
            "WARNING:absl:Found untraced functions such as _jit_compiled_convolution_op, _jit_compiled_convolution_op, _jit_compiled_convolution_op, _jit_compiled_convolution_op, _jit_compiled_convolution_op while saving (showing 5 of 52). These functions will not be directly callable after loading.\n"
          ]
        },
        {
          "output_type": "stream",
          "name": "stdout",
          "text": [
            "\b\b\b\b\b\b\b\b\b\b\b\b\b\b\b\b\b\b\b\b\b\b\b\b\b\b\b\b\b\b\b\b\b\b\b\b\b\b\b\b\b\b\b\b\b\b\b\b\b\b\b\b\b\b\b\b\b\b\b\b\b\b\b\b\b\b\b\b\b\b\b\b\b\b\b\b\b\b\b\b\b\b\b\b\r180/180 [==============================] - 77s 426ms/step - loss: 0.0030 - accuracy: 0.9992 - val_loss: 0.0650 - val_accuracy: 0.9967 - lr: 0.0010\n",
            "Epoch 4/100\n",
            "180/180 [==============================] - ETA: 0s - loss: 4.7101e-04 - accuracy: 1.0000\n",
            "Epoch 4: val_accuracy did not improve from 0.99667\n",
            "180/180 [==============================] - 53s 292ms/step - loss: 4.7101e-04 - accuracy: 1.0000 - val_loss: 0.2412 - val_accuracy: 0.9833 - lr: 0.0010\n",
            "Epoch 5/100\n",
            "180/180 [==============================] - ETA: 0s - loss: 2.2412e-04 - accuracy: 1.0000\n",
            "Epoch 5: val_accuracy did not improve from 0.99667\n",
            "180/180 [==============================] - 52s 288ms/step - loss: 2.2412e-04 - accuracy: 1.0000 - val_loss: 1.6637 - val_accuracy: 0.9111 - lr: 0.0010\n",
            "Epoch 6/100\n",
            "180/180 [==============================] - ETA: 0s - loss: 0.0405 - accuracy: 0.9911\n",
            "Epoch 6: val_accuracy did not improve from 0.99667\n",
            "180/180 [==============================] - 55s 303ms/step - loss: 0.0405 - accuracy: 0.9911 - val_loss: 20.7988 - val_accuracy: 0.5189 - lr: 0.0010\n",
            "Epoch 7/100\n",
            "180/180 [==============================] - ETA: 0s - loss: 0.0100 - accuracy: 0.9975\n",
            "Epoch 7: val_accuracy did not improve from 0.99667\n",
            "180/180 [==============================] - 52s 289ms/step - loss: 0.0100 - accuracy: 0.9975 - val_loss: 35.2210 - val_accuracy: 0.5133 - lr: 0.0010\n",
            "Epoch 8/100\n",
            "180/180 [==============================] - ETA: 0s - loss: 0.0235 - accuracy: 0.9942\n",
            "Epoch 8: val_accuracy did not improve from 0.99667\n",
            "\n",
            "Epoch 8: ReduceLROnPlateau reducing learning rate to 0.00010000000474974513.\n",
            "180/180 [==============================] - 52s 288ms/step - loss: 0.0235 - accuracy: 0.9942 - val_loss: 20.6551 - val_accuracy: 0.5556 - lr: 0.0010\n",
            "Epoch 9/100\n",
            "180/180 [==============================] - ETA: 0s - loss: 0.0025 - accuracy: 0.9997\n",
            "Epoch 9: val_accuracy did not improve from 0.99667\n",
            "180/180 [==============================] - 53s 293ms/step - loss: 0.0025 - accuracy: 0.9997 - val_loss: 9.9726 - val_accuracy: 0.6622 - lr: 1.0000e-04\n",
            "Epoch 10/100\n",
            "180/180 [==============================] - ETA: 0s - loss: 0.0045 - accuracy: 0.9986\n",
            "Epoch 10: val_accuracy did not improve from 0.99667\n",
            "180/180 [==============================] - 53s 293ms/step - loss: 0.0045 - accuracy: 0.9986 - val_loss: 6.2880 - val_accuracy: 0.7522 - lr: 1.0000e-04\n",
            "Epoch 11/100\n",
            "180/180 [==============================] - ETA: 0s - loss: 0.0018 - accuracy: 0.9997\n",
            "Epoch 11: val_accuracy did not improve from 0.99667\n",
            "180/180 [==============================] - 52s 289ms/step - loss: 0.0018 - accuracy: 0.9997 - val_loss: 2.8693 - val_accuracy: 0.8356 - lr: 1.0000e-04\n",
            "Epoch 12/100\n",
            "180/180 [==============================] - ETA: 0s - loss: 0.0014 - accuracy: 0.9992\n",
            "Epoch 12: val_accuracy did not improve from 0.99667\n",
            "180/180 [==============================] - 51s 286ms/step - loss: 0.0014 - accuracy: 0.9992 - val_loss: 1.1566 - val_accuracy: 0.9100 - lr: 1.0000e-04\n",
            "Epoch 13/100\n",
            "180/180 [==============================] - ETA: 0s - loss: 0.0027 - accuracy: 0.9994\n",
            "Epoch 13: val_accuracy did not improve from 0.99667\n",
            "\n",
            "Epoch 13: ReduceLROnPlateau reducing learning rate to 1.0000000474974514e-05.\n",
            "180/180 [==============================] - 53s 294ms/step - loss: 0.0027 - accuracy: 0.9994 - val_loss: 0.4950 - val_accuracy: 0.9489 - lr: 1.0000e-04\n",
            "Epoch 14/100\n",
            "180/180 [==============================] - ETA: 0s - loss: 0.0016 - accuracy: 0.9992\n",
            "Epoch 14: val_accuracy did not improve from 0.99667\n",
            "180/180 [==============================] - 52s 287ms/step - loss: 0.0016 - accuracy: 0.9992 - val_loss: 0.1680 - val_accuracy: 0.9789 - lr: 1.0000e-05\n",
            "Epoch 15/100\n",
            "180/180 [==============================] - ETA: 0s - loss: 7.0388e-04 - accuracy: 1.0000\n",
            "Epoch 15: val_accuracy did not improve from 0.99667\n",
            "180/180 [==============================] - 54s 302ms/step - loss: 7.0388e-04 - accuracy: 1.0000 - val_loss: 0.0465 - val_accuracy: 0.9933 - lr: 1.0000e-05\n",
            "Epoch 16/100\n",
            "180/180 [==============================] - ETA: 0s - loss: 9.6547e-04 - accuracy: 0.9994\n",
            "Epoch 16: val_accuracy did not improve from 0.99667\n",
            "180/180 [==============================] - 52s 290ms/step - loss: 9.6547e-04 - accuracy: 0.9994 - val_loss: 0.0144 - val_accuracy: 0.9967 - lr: 1.0000e-05\n",
            "Epoch 17/100\n",
            "180/180 [==============================] - ETA: 0s - loss: 0.0016 - accuracy: 0.9992\n",
            "Epoch 17: val_accuracy improved from 0.99667 to 0.99889, saving model to Strawberry_MobileNetV2_model2_Based_Augmented\n"
          ]
        },
        {
          "output_type": "stream",
          "name": "stderr",
          "text": [
            "WARNING:absl:Function `_wrapped_model` contains input name(s) mobilenetv2_1.00_224_input with unsupported characters which will be renamed to mobilenetv2_1_00_224_input in the SavedModel.\n",
            "WARNING:absl:Found untraced functions such as _jit_compiled_convolution_op, _jit_compiled_convolution_op, _jit_compiled_convolution_op, _jit_compiled_convolution_op, _jit_compiled_convolution_op while saving (showing 5 of 52). These functions will not be directly callable after loading.\n"
          ]
        },
        {
          "output_type": "stream",
          "name": "stdout",
          "text": [
            "\b\b\b\b\b\b\b\b\b\b\b\b\b\b\b\b\b\b\b\b\b\b\b\b\b\b\b\b\b\b\b\b\b\b\b\b\b\b\b\b\b\b\b\b\b\b\b\b\b\b\b\b\b\b\b\b\b\b\b\b\b\b\b\b\b\b\b\b\b\b\b\b\b\b\b\b\b\b\b\b\b\b\b\b\r180/180 [==============================] - 79s 438ms/step - loss: 0.0016 - accuracy: 0.9992 - val_loss: 0.0054 - val_accuracy: 0.9989 - lr: 1.0000e-05\n",
            "Epoch 18/100\n",
            "180/180 [==============================] - ETA: 0s - loss: 3.0940e-04 - accuracy: 1.0000\n",
            "Epoch 18: val_accuracy did not improve from 0.99889\n",
            "180/180 [==============================] - 52s 290ms/step - loss: 3.0940e-04 - accuracy: 1.0000 - val_loss: 0.0028 - val_accuracy: 0.9989 - lr: 1.0000e-05\n",
            "Epoch 19/100\n",
            "180/180 [==============================] - ETA: 0s - loss: 9.8391e-04 - accuracy: 0.9997\n",
            "Epoch 19: val_accuracy did not improve from 0.99889\n",
            "180/180 [==============================] - 53s 293ms/step - loss: 9.8391e-04 - accuracy: 0.9997 - val_loss: 0.0016 - val_accuracy: 0.9989 - lr: 1.0000e-05\n",
            "Epoch 20/100\n",
            "180/180 [==============================] - ETA: 0s - loss: 4.4024e-04 - accuracy: 1.0000\n",
            "Epoch 20: val_accuracy did not improve from 0.99889\n",
            "180/180 [==============================] - 52s 290ms/step - loss: 4.4024e-04 - accuracy: 1.0000 - val_loss: 0.0011 - val_accuracy: 0.9989 - lr: 1.0000e-05\n",
            "Epoch 21/100\n",
            "180/180 [==============================] - ETA: 0s - loss: 9.7042e-04 - accuracy: 0.9997\n",
            "Epoch 21: val_accuracy improved from 0.99889 to 1.00000, saving model to Strawberry_MobileNetV2_model2_Based_Augmented\n"
          ]
        },
        {
          "output_type": "stream",
          "name": "stderr",
          "text": [
            "WARNING:absl:Function `_wrapped_model` contains input name(s) mobilenetv2_1.00_224_input with unsupported characters which will be renamed to mobilenetv2_1_00_224_input in the SavedModel.\n",
            "WARNING:absl:Found untraced functions such as _jit_compiled_convolution_op, _jit_compiled_convolution_op, _jit_compiled_convolution_op, _jit_compiled_convolution_op, _jit_compiled_convolution_op while saving (showing 5 of 52). These functions will not be directly callable after loading.\n"
          ]
        },
        {
          "output_type": "stream",
          "name": "stdout",
          "text": [
            "\b\b\b\b\b\b\b\b\b\b\b\b\b\b\b\b\b\b\b\b\b\b\b\b\b\b\b\b\b\b\b\b\b\b\b\b\b\b\b\b\b\b\b\b\b\b\b\b\b\b\b\b\b\b\b\b\b\b\b\b\b\b\b\b\b\b\b\b\b\b\b\b\b\b\b\b\b\b\b\b\b\b\b\b\b\b\b\b\r180/180 [==============================] - 78s 435ms/step - loss: 9.7042e-04 - accuracy: 0.9997 - val_loss: 5.9113e-04 - val_accuracy: 1.0000 - lr: 1.0000e-05\n",
            "Epoch 22/100\n",
            "180/180 [==============================] - ETA: 0s - loss: 5.9834e-04 - accuracy: 0.9997\n",
            "Epoch 22: val_accuracy did not improve from 1.00000\n",
            "180/180 [==============================] - 53s 293ms/step - loss: 5.9834e-04 - accuracy: 0.9997 - val_loss: 3.6607e-04 - val_accuracy: 1.0000 - lr: 1.0000e-05\n",
            "Epoch 23/100\n",
            "180/180 [==============================] - ETA: 0s - loss: 0.0028 - accuracy: 0.9989\n",
            "Epoch 23: val_accuracy did not improve from 1.00000\n",
            "180/180 [==============================] - 52s 287ms/step - loss: 0.0028 - accuracy: 0.9989 - val_loss: 3.1497e-04 - val_accuracy: 1.0000 - lr: 1.0000e-05\n",
            "Epoch 24/100\n",
            "180/180 [==============================] - ETA: 0s - loss: 0.0014 - accuracy: 0.9994\n",
            "Epoch 24: val_accuracy did not improve from 1.00000\n",
            "180/180 [==============================] - 52s 288ms/step - loss: 0.0014 - accuracy: 0.9994 - val_loss: 2.6015e-04 - val_accuracy: 1.0000 - lr: 1.0000e-05\n",
            "Epoch 25/100\n",
            "180/180 [==============================] - ETA: 0s - loss: 7.1344e-04 - accuracy: 0.9997\n",
            "Epoch 25: val_accuracy did not improve from 1.00000\n",
            "180/180 [==============================] - 53s 296ms/step - loss: 7.1344e-04 - accuracy: 0.9997 - val_loss: 2.1823e-04 - val_accuracy: 1.0000 - lr: 1.0000e-05\n",
            "Epoch 26/100\n",
            "180/180 [==============================] - ETA: 0s - loss: 4.0412e-04 - accuracy: 1.0000\n",
            "Epoch 26: val_accuracy did not improve from 1.00000\n",
            "180/180 [==============================] - 52s 286ms/step - loss: 4.0412e-04 - accuracy: 1.0000 - val_loss: 2.0376e-04 - val_accuracy: 1.0000 - lr: 1.0000e-05\n",
            "Epoch 27/100\n",
            "180/180 [==============================] - ETA: 0s - loss: 7.3560e-04 - accuracy: 0.9997\n",
            "Epoch 27: val_accuracy did not improve from 1.00000\n",
            "180/180 [==============================] - 51s 286ms/step - loss: 7.3560e-04 - accuracy: 0.9997 - val_loss: 1.7168e-04 - val_accuracy: 1.0000 - lr: 1.0000e-05\n",
            "Epoch 28/100\n",
            "180/180 [==============================] - ETA: 0s - loss: 2.1267e-04 - accuracy: 1.0000\n",
            "Epoch 28: val_accuracy did not improve from 1.00000\n",
            "180/180 [==============================] - 51s 283ms/step - loss: 2.1267e-04 - accuracy: 1.0000 - val_loss: 1.6901e-04 - val_accuracy: 1.0000 - lr: 1.0000e-05\n",
            "Epoch 29/100\n",
            "180/180 [==============================] - ETA: 0s - loss: 2.4824e-04 - accuracy: 1.0000\n",
            "Epoch 29: val_accuracy did not improve from 1.00000\n",
            "\n",
            "Epoch 29: ReduceLROnPlateau reducing learning rate to 1.0000000656873453e-06.\n",
            "180/180 [==============================] - 53s 292ms/step - loss: 2.4824e-04 - accuracy: 1.0000 - val_loss: 1.6575e-04 - val_accuracy: 1.0000 - lr: 1.0000e-05\n",
            "Epoch 30/100\n",
            "180/180 [==============================] - ETA: 0s - loss: 1.3901e-04 - accuracy: 1.0000\n",
            "Epoch 30: val_accuracy did not improve from 1.00000\n",
            "180/180 [==============================] - 51s 285ms/step - loss: 1.3901e-04 - accuracy: 1.0000 - val_loss: 1.6464e-04 - val_accuracy: 1.0000 - lr: 1.0000e-06\n",
            "Epoch 31/100\n",
            "180/180 [==============================] - ETA: 0s - loss: 8.1264e-04 - accuracy: 0.9997\n",
            "Epoch 31: val_accuracy did not improve from 1.00000\n",
            "180/180 [==============================] - 51s 286ms/step - loss: 8.1264e-04 - accuracy: 0.9997 - val_loss: 1.6452e-04 - val_accuracy: 1.0000 - lr: 1.0000e-06\n",
            "Epoch 32/100\n",
            "180/180 [==============================] - ETA: 0s - loss: 3.4874e-04 - accuracy: 0.9997\n",
            "Epoch 32: val_accuracy did not improve from 1.00000\n",
            "180/180 [==============================] - 51s 286ms/step - loss: 3.4874e-04 - accuracy: 0.9997 - val_loss: 1.6397e-04 - val_accuracy: 1.0000 - lr: 1.0000e-06\n",
            "Epoch 33/100\n",
            "180/180 [==============================] - ETA: 0s - loss: 6.1766e-04 - accuracy: 0.9997\n",
            "Epoch 33: val_accuracy did not improve from 1.00000\n",
            "180/180 [==============================] - 53s 295ms/step - loss: 6.1766e-04 - accuracy: 0.9997 - val_loss: 1.5692e-04 - val_accuracy: 1.0000 - lr: 1.0000e-06\n",
            "Epoch 34/100\n",
            "180/180 [==============================] - ETA: 0s - loss: 0.0011 - accuracy: 0.9997\n",
            "Epoch 34: val_accuracy did not improve from 1.00000\n",
            "180/180 [==============================] - 51s 285ms/step - loss: 0.0011 - accuracy: 0.9997 - val_loss: 1.5740e-04 - val_accuracy: 1.0000 - lr: 1.0000e-06\n",
            "Epoch 35/100\n",
            "180/180 [==============================] - ETA: 0s - loss: 4.1206e-04 - accuracy: 1.0000\n",
            "Epoch 35: val_accuracy did not improve from 1.00000\n",
            "180/180 [==============================] - 51s 286ms/step - loss: 4.1206e-04 - accuracy: 1.0000 - val_loss: 1.5531e-04 - val_accuracy: 1.0000 - lr: 1.0000e-06\n",
            "Epoch 36/100\n",
            "180/180 [==============================] - ETA: 0s - loss: 2.6152e-04 - accuracy: 1.0000\n",
            "Epoch 36: val_accuracy did not improve from 1.00000\n",
            "180/180 [==============================] - 51s 286ms/step - loss: 2.6152e-04 - accuracy: 1.0000 - val_loss: 1.5533e-04 - val_accuracy: 1.0000 - lr: 1.0000e-06\n",
            "Epoch 37/100\n",
            "180/180 [==============================] - ETA: 0s - loss: 5.7208e-04 - accuracy: 1.0000\n",
            "Epoch 37: val_accuracy did not improve from 1.00000\n",
            "180/180 [==============================] - 53s 294ms/step - loss: 5.7208e-04 - accuracy: 1.0000 - val_loss: 1.5306e-04 - val_accuracy: 1.0000 - lr: 1.0000e-06\n",
            "Epoch 38/100\n",
            "180/180 [==============================] - ETA: 0s - loss: 4.6274e-04 - accuracy: 0.9997\n",
            "Epoch 38: val_accuracy did not improve from 1.00000\n",
            "\n",
            "Epoch 38: ReduceLROnPlateau reducing learning rate to 1.0000001111620805e-07.\n",
            "180/180 [==============================] - 53s 292ms/step - loss: 4.6274e-04 - accuracy: 0.9997 - val_loss: 1.5167e-04 - val_accuracy: 1.0000 - lr: 1.0000e-06\n",
            "Epoch 39/100\n",
            "180/180 [==============================] - ETA: 0s - loss: 1.6992e-04 - accuracy: 1.0000\n",
            "Epoch 39: val_accuracy did not improve from 1.00000\n",
            "180/180 [==============================] - 51s 285ms/step - loss: 1.6992e-04 - accuracy: 1.0000 - val_loss: 1.5020e-04 - val_accuracy: 1.0000 - lr: 1.0000e-07\n",
            "Epoch 40/100\n",
            "180/180 [==============================] - ETA: 0s - loss: 5.1524e-04 - accuracy: 0.9997\n",
            "Epoch 40: val_accuracy did not improve from 1.00000\n",
            "180/180 [==============================] - 51s 286ms/step - loss: 5.1524e-04 - accuracy: 0.9997 - val_loss: 1.4775e-04 - val_accuracy: 1.0000 - lr: 1.0000e-07\n",
            "Epoch 41/100\n",
            "180/180 [==============================] - ETA: 0s - loss: 1.5671e-04 - accuracy: 1.0000\n",
            "Epoch 41: val_accuracy did not improve from 1.00000\n",
            "Restoring model weights from the end of the best epoch: 21.\n",
            "180/180 [==============================] - 52s 288ms/step - loss: 1.5671e-04 - accuracy: 1.0000 - val_loss: 1.4590e-04 - val_accuracy: 1.0000 - lr: 1.0000e-07\n",
            "Epoch 41: early stopping\n"
          ]
        }
      ]
    },
    {
      "cell_type": "code",
      "source": [
        "#-----------------------------------------------------------\n",
        "# Retrieve a list of list results on training and test data\n",
        "# sets for each training epoch\n",
        "#-----------------------------------------------------------\n",
        "acc      = history_MobileNetV2_model_2.history['accuracy' ]\n",
        "val_acc  = history_MobileNetV2_model_2.history['val_accuracy' ]\n",
        "loss     = history_MobileNetV2_model_2.history['loss' ]\n",
        "val_loss = history_MobileNetV2_model_2.history['val_loss' ]\n",
        "\n",
        "epochs   = range(len(acc)) # Get number of epochs\n",
        "\n",
        "#------------------------------------------------\n",
        "# Plot training and validation accuracy per epoch\n",
        "#------------------------------------------------\n",
        "plt.plot  (epochs, acc )\n",
        "plt.plot  (epochs, val_acc )\n",
        "plt.title ('Training and validation accuracy MobileNetV2 Model 2')\n",
        "plt.legend(['train', 'val'], loc='upper left')\n",
        "plt.figure()\n",
        "\n",
        "#------------------------------------------------\n",
        "# Plot training and validation loss per epoch\n",
        "#------------------------------------------------\n",
        "plt.plot  (epochs, loss)\n",
        "plt.plot  (epochs, val_loss)\n",
        "plt.title ('Training and validation loss MobileNetV2 Model 2')\n",
        "plt.legend(['train', 'val'], loc='upper left')"
      ],
      "metadata": {
        "id": "y4cNqXr0qBM4",
        "colab": {
          "base_uri": "https://localhost:8080/",
          "height": 904
        },
        "outputId": "ca5f81fc-67af-4bab-bbfb-3adaa4151e77"
      },
      "execution_count": 22,
      "outputs": [
        {
          "output_type": "execute_result",
          "data": {
            "text/plain": [
              "<matplotlib.legend.Legend at 0x7f3681c6cdc0>"
            ]
          },
          "metadata": {},
          "execution_count": 22
        },
        {
          "output_type": "display_data",
          "data": {
            "text/plain": [
              "<Figure size 640x480 with 1 Axes>"
            ],
            "image/png": "[encoded data removed]"
          },
          "metadata": {}
        },
        {
          "output_type": "display_data",
          "data": {
            "text/plain": [
              "<Figure size 640x480 with 1 Axes>"
            ],
            "image/png": "[encoded data removed]"
          },
          "metadata": {}
        }
      ]
    },
    {
      "cell_type": "code",
      "source": [
        "!zip -r /content/Strawberry_MobileNetV2_model2_Based_Augmented.zip /content/Strawberry_MobileNetV2_model2_Based_Augmented"
      ],
      "metadata": {
        "id": "qfqQdD0KqBbG",
        "colab": {
          "base_uri": "https://localhost:8080/"
        },
        "outputId": "489336f5-f4cf-4429-b7a1-ce60289115f2"
      },
      "execution_count": 23,
      "outputs": [
        {
          "output_type": "stream",
          "name": "stdout",
          "text": [
            "  adding: content/Strawberry_MobileNetV2_model2_Based_Augmented/ (stored 0%)\n",
            "  adding: content/Strawberry_MobileNetV2_model2_Based_Augmented/variables/ (stored 0%)\n",
            "  adding: content/Strawberry_MobileNetV2_model2_Based_Augmented/variables/variables.index (deflated 76%)\n",
            "  adding: content/Strawberry_MobileNetV2_model2_Based_Augmented/variables/variables.data-00000-of-00001 (deflated 9%)\n",
            "  adding: content/Strawberry_MobileNetV2_model2_Based_Augmented/assets/ (stored 0%)\n",
            "  adding: content/Strawberry_MobileNetV2_model2_Based_Augmented/keras_metadata.pb (deflated 96%)\n",
            "  adding: content/Strawberry_MobileNetV2_model2_Based_Augmented/fingerprint.pb (stored 0%)\n",
            "  adding: content/Strawberry_MobileNetV2_model2_Based_Augmented/saved_model.pb (deflated 91%)\n"
          ]
        }
      ]
    }
  ]
}