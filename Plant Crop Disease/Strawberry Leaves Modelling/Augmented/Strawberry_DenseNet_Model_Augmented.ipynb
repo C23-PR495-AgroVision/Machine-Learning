{
  "nbformat": 4,
  "nbformat_minor": 0,
  "metadata": {
    "colab": {
      "provenance": [],
      "gpuType": "T4"
    },
    "kernelspec": {
      "name": "python3",
      "display_name": "Python 3"
    },
    "language_info": {
      "name": "python"
    },
    "accelerator": "GPU"
  },
  "cells": [
    {
      "cell_type": "code",
      "execution_count": 1,
      "metadata": {
        "colab": {
          "base_uri": "https://localhost:8080/"
        },
        "id": "GR9D9c_trcNh",
        "outputId": "db2273e2-2c02-4848-99db-27e2baec7c07"
      },
      "outputs": [
        {
          "output_type": "stream",
          "name": "stdout",
          "text": [
            "Looking in indexes: https://pypi.org/simple, https://us-python.pkg.dev/colab-wheels/public/simple/\n",
            "Requirement already satisfied: matplotlib in /usr/local/lib/python3.10/dist-packages (3.7.1)\n",
            "Requirement already satisfied: contourpy>=1.0.1 in /usr/local/lib/python3.10/dist-packages (from matplotlib) (1.0.7)\n",
            "Requirement already satisfied: cycler>=0.10 in /usr/local/lib/python3.10/dist-packages (from matplotlib) (0.11.0)\n",
            "Requirement already satisfied: fonttools>=4.22.0 in /usr/local/lib/python3.10/dist-packages (from matplotlib) (4.39.3)\n",
            "Requirement already satisfied: kiwisolver>=1.0.1 in /usr/local/lib/python3.10/dist-packages (from matplotlib) (1.4.4)\n",
            "Requirement already satisfied: numpy>=1.20 in /usr/local/lib/python3.10/dist-packages (from matplotlib) (1.22.4)\n",
            "Requirement already satisfied: packaging>=20.0 in /usr/local/lib/python3.10/dist-packages (from matplotlib) (23.1)\n",
            "Requirement already satisfied: pillow>=6.2.0 in /usr/local/lib/python3.10/dist-packages (from matplotlib) (8.4.0)\n",
            "Requirement already satisfied: pyparsing>=2.3.1 in /usr/local/lib/python3.10/dist-packages (from matplotlib) (3.0.9)\n",
            "Requirement already satisfied: python-dateutil>=2.7 in /usr/local/lib/python3.10/dist-packages (from matplotlib) (2.8.2)\n",
            "Requirement already satisfied: six>=1.5 in /usr/local/lib/python3.10/dist-packages (from python-dateutil>=2.7->matplotlib) (1.16.0)\n"
          ]
        }
      ],
      "source": [
        "pip install matplotlib"
      ]
    },
    {
      "cell_type": "code",
      "source": [
        "pip install opendatasets"
      ],
      "metadata": {
        "colab": {
          "base_uri": "https://localhost:8080/"
        },
        "id": "G7Mf8L_nre66",
        "outputId": "ee65992b-9ea2-4217-a321-3b9f9fe75c37"
      },
      "execution_count": 2,
      "outputs": [
        {
          "output_type": "stream",
          "name": "stdout",
          "text": [
            "Looking in indexes: https://pypi.org/simple, https://us-python.pkg.dev/colab-wheels/public/simple/\n",
            "Collecting opendatasets\n",
            "  Downloading opendatasets-0.1.22-py3-none-any.whl (15 kB)\n",
            "Requirement already satisfied: tqdm in /usr/local/lib/python3.10/dist-packages (from opendatasets) (4.65.0)\n",
            "Requirement already satisfied: kaggle in /usr/local/lib/python3.10/dist-packages (from opendatasets) (1.5.13)\n",
            "Requirement already satisfied: click in /usr/local/lib/python3.10/dist-packages (from opendatasets) (8.1.3)\n",
            "Requirement already satisfied: six>=1.10 in /usr/local/lib/python3.10/dist-packages (from kaggle->opendatasets) (1.16.0)\n",
            "Requirement already satisfied: certifi in /usr/local/lib/python3.10/dist-packages (from kaggle->opendatasets) (2022.12.7)\n",
            "Requirement already satisfied: python-dateutil in /usr/local/lib/python3.10/dist-packages (from kaggle->opendatasets) (2.8.2)\n",
            "Requirement already satisfied: requests in /usr/local/lib/python3.10/dist-packages (from kaggle->opendatasets) (2.27.1)\n",
            "Requirement already satisfied: python-slugify in /usr/local/lib/python3.10/dist-packages (from kaggle->opendatasets) (8.0.1)\n",
            "Requirement already satisfied: urllib3 in /usr/local/lib/python3.10/dist-packages (from kaggle->opendatasets) (1.26.15)\n",
            "Requirement already satisfied: text-unidecode>=1.3 in /usr/local/lib/python3.10/dist-packages (from python-slugify->kaggle->opendatasets) (1.3)\n",
            "Requirement already satisfied: charset-normalizer~=2.0.0 in /usr/local/lib/python3.10/dist-packages (from requests->kaggle->opendatasets) (2.0.12)\n",
            "Requirement already satisfied: idna<4,>=2.5 in /usr/local/lib/python3.10/dist-packages (from requests->kaggle->opendatasets) (3.4)\n",
            "Installing collected packages: opendatasets\n",
            "Successfully installed opendatasets-0.1.22\n"
          ]
        }
      ]
    },
    {
      "cell_type": "code",
      "source": [
        "# Library to dataset\n",
        "import opendatasets as od\n",
        "import os\n",
        "import zipfile\n",
        "import numpy as np\n",
        "\n",
        "# Surpress Warnings\n",
        "import warnings\n",
        "warnings.filterwarnings('ignore')\n",
        "os.environ['TF_CPP_MIN_LOG_LEVEL'] = '3' \n",
        "# library visualization\n",
        "import matplotlib.pyplot as plt\n",
        "\n",
        "# Library Tensorflow\n",
        "import tensorflow as tf\n",
        "from tensorflow import keras\n",
        "from tensorflow.keras.preprocessing.image import ImageDataGenerator\n",
        "from tensorflow.keras.callbacks import ModelCheckpoint, EarlyStopping, ReduceLROnPlateau\n",
        "from tensorflow.keras.applications.densenet import DenseNet121\n",
        "# Others\n",
        "import shutil\n",
        "import random"
      ],
      "metadata": {
        "id": "MX1TcugcripA"
      },
      "execution_count": 3,
      "outputs": []
    },
    {
      "cell_type": "markdown",
      "source": [],
      "metadata": {
        "id": "zwWtDT8brkyi"
      }
    },
    {
      "cell_type": "code",
      "source": [
        "# Download dataset\n",
        "od.download('https://www.kaggle.com/datasets/faudyanurul/strawberry')"
      ],
      "metadata": {
        "colab": {
          "base_uri": "https://localhost:8080/"
        },
        "id": "ql0BZKTPrk-M",
        "outputId": "931bcd0b-4e09-4f51-8340-4dc70a5ac05d"
      },
      "execution_count": 4,
      "outputs": [
        {
          "output_type": "stream",
          "name": "stdout",
          "text": [
            "Please provide your Kaggle credentials to download this dataset. Learn more: http://bit.ly/kaggle-creds\n",
            "Your Kaggle username: \n",
            "Your Kaggle username: faudyanurul\n",
            "Your Kaggle Key: ··········\n",
            "Downloading strawberry.zip to ./strawberry\n"
          ]
        },
        {
          "output_type": "stream",
          "name": "stderr",
          "text": [
            "100%|██████████| 83.5M/83.5M [00:03<00:00, 24.5MB/s]\n"
          ]
        },
        {
          "output_type": "stream",
          "name": "stdout",
          "text": [
            "\n"
          ]
        }
      ]
    },
    {
      "cell_type": "code",
      "source": [
        "# Load dataset\n",
        "print(\"==========================Training Data====================\")\n",
        "train_data = tf.keras.preprocessing.image_dataset_from_directory(\n",
        "    \"strawberry/Strawberry/train\",\n",
        "    label_mode=\"categorical\",\n",
        "    class_names=['Strawberry___healthy', 'Strawberry___Leaf_scorch'],\n",
        "    color_mode=\"rgb\",\n",
        "    batch_size=1,\n",
        "    image_size=(256, 256),\n",
        "    shuffle=True,\n",
        "    seed=123\n",
        ")\n",
        "print(\"==========================Validation Data====================\")\n",
        "val_data = tf.keras.preprocessing.image_dataset_from_directory(\n",
        "    \"strawberry/Strawberry/valid\",\n",
        "    label_mode=\"categorical\",\n",
        "    class_names=['Strawberry___healthy', 'Strawberry___Leaf_scorch'],\n",
        "    color_mode=\"rgb\",\n",
        "    batch_size=1,\n",
        "    image_size=(256, 256),\n",
        "    shuffle=True,\n",
        "    seed=123\n",
        ")"
      ],
      "metadata": {
        "colab": {
          "base_uri": "https://localhost:8080/"
        },
        "id": "87N5vUyMrlJE",
        "outputId": "b88cd5b5-a17e-4625-cb7a-3befad85be90"
      },
      "execution_count": 5,
      "outputs": [
        {
          "output_type": "stream",
          "name": "stdout",
          "text": [
            "==========================Training Data====================\n",
            "Found 3598 files belonging to 2 classes.\n",
            "==========================Validation Data====================\n",
            "Found 900 files belonging to 2 classes.\n"
          ]
        }
      ]
    },
    {
      "cell_type": "code",
      "source": [
        "# All images will be rescaled by 1./255.and augmented\n",
        "train_datagen = ImageDataGenerator(rescale = 1.0/256.,\n",
        "                                   rotation_range=40,\n",
        "                                   width_shift_range=0.2,\n",
        "                                   height_shift_range=0.2,\n",
        "                                   shear_range=0.2,\n",
        "                                   zoom_range=0.2,\n",
        "                                   horizontal_flip=True,\n",
        "                                   fill_mode='nearest')\n",
        "\n",
        "test_datagen  = ImageDataGenerator(rescale = 1.0/256.)\n",
        "\n",
        "# --------------------\n",
        "# Flow training images in batches of 20 using train_datagen generator\n",
        "# --------------------\n",
        "train_generator = train_datagen.flow_from_directory(\"strawberry/Strawberry/train\",\n",
        "                                                    batch_size=20,\n",
        "                                                    class_mode='categorical',\n",
        "                                                    target_size=(224, 224))     \n",
        "# --------------------\n",
        "# Flow validation images in batches of 20 using test_datagen generator\n",
        "# --------------------\n",
        "validation_generator =  test_datagen.flow_from_directory(\"strawberry/Strawberry/valid\",\n",
        "                                                         batch_size=20,\n",
        "                                                         class_mode  = 'categorical',\n",
        "                                                         target_size = (224, 224))"
      ],
      "metadata": {
        "colab": {
          "base_uri": "https://localhost:8080/"
        },
        "id": "ad48hZT9rpih",
        "outputId": "52db6e0c-0064-445e-b873-2ec9b5b86452"
      },
      "execution_count": 6,
      "outputs": [
        {
          "output_type": "stream",
          "name": "stdout",
          "text": [
            "Found 3598 images belonging to 2 classes.\n",
            "Found 900 images belonging to 2 classes.\n"
          ]
        }
      ]
    },
    {
      "cell_type": "markdown",
      "source": [],
      "metadata": {
        "id": "fRoXyBkBrtLq"
      }
    },
    {
      "cell_type": "code",
      "source": [
        "# Check GPU\n",
        "!nvidia-smi"
      ],
      "metadata": {
        "colab": {
          "base_uri": "https://localhost:8080/"
        },
        "id": "eiG49bFyrtdc",
        "outputId": "a91a3ab4-3e1a-4c10-bb80-63b85d8e85ed"
      },
      "execution_count": 7,
      "outputs": [
        {
          "output_type": "stream",
          "name": "stdout",
          "text": [
            "Tue Jun  6 07:58:08 2023       \n",
            "+-----------------------------------------------------------------------------+\n",
            "| NVIDIA-SMI 525.85.12    Driver Version: 525.85.12    CUDA Version: 12.0     |\n",
            "|-------------------------------+----------------------+----------------------+\n",
            "| GPU  Name        Persistence-M| Bus-Id        Disp.A | Volatile Uncorr. ECC |\n",
            "| Fan  Temp  Perf  Pwr:Usage/Cap|         Memory-Usage | GPU-Util  Compute M. |\n",
            "|                               |                      |               MIG M. |\n",
            "|===============================+======================+======================|\n",
            "|   0  Tesla T4            Off  | 00000000:00:04.0 Off |                    0 |\n",
            "| N/A   41C    P0    28W /  70W |    389MiB / 15360MiB |      0%      Default |\n",
            "|                               |                      |                  N/A |\n",
            "+-------------------------------+----------------------+----------------------+\n",
            "                                                                               \n",
            "+-----------------------------------------------------------------------------+\n",
            "| Processes:                                                                  |\n",
            "|  GPU   GI   CI        PID   Type   Process name                  GPU Memory |\n",
            "|        ID   ID                                                   Usage      |\n",
            "|=============================================================================|\n",
            "+-----------------------------------------------------------------------------+\n"
          ]
        }
      ]
    },
    {
      "cell_type": "code",
      "source": [
        "# Lis physical devices\n",
        "devices = tf.config.experimental.list_physical_devices(\"GPU\")\n",
        "devices"
      ],
      "metadata": {
        "colab": {
          "base_uri": "https://localhost:8080/"
        },
        "id": "DOW-xQVzrtmW",
        "outputId": "8241b0bb-e402-4952-addd-d901d50d1e8b"
      },
      "execution_count": 8,
      "outputs": [
        {
          "output_type": "execute_result",
          "data": {
            "text/plain": [
              "[PhysicalDevice(name='/physical_device:GPU:0', device_type='GPU')]"
            ]
          },
          "metadata": {},
          "execution_count": 8
        }
      ]
    },
    {
      "cell_type": "code",
      "source": [
        "\n",
        "# Define the GPU strategy\n",
        "mirrored_strategy = tf.distribute.MirroredStrategy(devices=[\"/gpu:0\"])"
      ],
      "metadata": {
        "id": "gXicdAr2rtxD"
      },
      "execution_count": 9,
      "outputs": []
    },
    {
      "cell_type": "markdown",
      "source": [
        "DenseNet Model 1"
      ],
      "metadata": {
        "id": "OGL7lfdgr1Au"
      }
    },
    {
      "cell_type": "code",
      "source": [
        "# Difine the callbacks\n",
        "# Save the best model\n",
        "checkpoint_callback = ModelCheckpoint(filepath=\"Strawberry_DenseNet_model1_Based_Augmented\", save_best_only=True, monitor=\"val_accuracy\", mode=\"max\", verbose=1)\n",
        "\n",
        "# Early stopping\n",
        "early_stopping_callback = EarlyStopping(monitor=\"val_accuracy\", mode=\"max\", patience=20, verbose=1, restore_best_weights=True)\n",
        "\n",
        "# Reduce learning rate\n",
        "reduce_lr_callback = ReduceLROnPlateau(monitor=\"val_loss\", factor=0.1, patience=5, verbose=1, mode=\"min\", min_delta=0.0001, cooldown=0, min_lr=0)\n",
        "\n",
        "# Callbacks list\n",
        "callbacks=[checkpoint_callback, early_stopping_callback, reduce_lr_callback]"
      ],
      "metadata": {
        "id": "yWHHvekSr1R1"
      },
      "execution_count": 10,
      "outputs": []
    },
    {
      "cell_type": "code",
      "source": [
        "# Define DIY Model\n",
        "DenseNet_model = tf.keras.models.Sequential([\n",
        "    # DenseNet121 Layer\n",
        "    DenseNet121(include_top=False,weights='imagenet',input_shape=(224, 224, 3)),\n",
        "    # Global Max Pooling Layer\n",
        "    tf.keras.layers.GlobalMaxPooling2D(),\n",
        "    # Drop Out Layer\n",
        "    tf.keras.layers.Dropout(0.2),\n",
        "    # 256 neuron hidden layer\n",
        "    tf.keras.layers.Dense(256, activation='relu'),\n",
        "    # Output\n",
        "    tf.keras.layers.Dense(2, activation='softmax') \n",
        "  ])\n",
        "\n",
        "\n",
        "# Compile Model\n",
        "DenseNet_model.compile(loss='categorical_crossentropy',optimizer=tf.keras.optimizers.Adam(), metrics=['accuracy']) \n",
        "\n",
        "# Model Summary\n",
        "DenseNet_model.summary()"
      ],
      "metadata": {
        "colab": {
          "base_uri": "https://localhost:8080/"
        },
        "id": "GsuAaA7Xr64W",
        "outputId": "be189101-e21d-43ea-a21b-3fef554de56e"
      },
      "execution_count": 11,
      "outputs": [
        {
          "output_type": "stream",
          "name": "stdout",
          "text": [
            "Downloading data from https://storage.googleapis.com/tensorflow/keras-applications/densenet/densenet121_weights_tf_dim_ordering_tf_kernels_notop.h5\n",
            "29084464/29084464 [==============================] - 2s 0us/step\n",
            "Model: \"sequential\"\n",
            "_________________________________________________________________\n",
            " Layer (type)                Output Shape              Param #   \n",
            "=================================================================\n",
            " densenet121 (Functional)    (None, 7, 7, 1024)        7037504   \n",
            "                                                                 \n",
            " global_max_pooling2d (Globa  (None, 1024)             0         \n",
            " lMaxPooling2D)                                                  \n",
            "                                                                 \n",
            " dropout (Dropout)           (None, 1024)              0         \n",
            "                                                                 \n",
            " dense (Dense)               (None, 256)               262400    \n",
            "                                                                 \n",
            " dense_1 (Dense)             (None, 2)                 514       \n",
            "                                                                 \n",
            "=================================================================\n",
            "Total params: 7,300,418\n",
            "Trainable params: 7,216,770\n",
            "Non-trainable params: 83,648\n",
            "_________________________________________________________________\n"
          ]
        }
      ]
    },
    {
      "cell_type": "code",
      "source": [
        "# Define the number of epochs\n",
        "num_epochs = 100\n",
        "\n",
        "# Train the model\n",
        "history_DenseNet_model_1 = DenseNet_model.fit(train_generator, epochs=num_epochs, validation_data=validation_generator, callbacks=callbacks)"
      ],
      "metadata": {
        "colab": {
          "base_uri": "https://localhost:8080/"
        },
        "id": "m2aGi-91r8rO",
        "outputId": "848cf33c-e17d-4863-fe66-0ac4a2b77339"
      },
      "execution_count": 12,
      "outputs": [
        {
          "output_type": "stream",
          "name": "stdout",
          "text": [
            "Epoch 1/100\n",
            "180/180 [==============================] - ETA: 0s - loss: 0.2016 - accuracy: 0.9755\n",
            "Epoch 1: val_accuracy improved from -inf to 0.97667, saving model to Strawberry_DenseNet_model1_Based_Augmented\n"
          ]
        },
        {
          "output_type": "stream",
          "name": "stderr",
          "text": [
            "WARNING:absl:Found untraced functions such as _jit_compiled_convolution_op, _jit_compiled_convolution_op, _jit_compiled_convolution_op, _jit_compiled_convolution_op, _jit_compiled_convolution_op while saving (showing 5 of 120). These functions will not be directly callable after loading.\n"
          ]
        },
        {
          "output_type": "stream",
          "name": "stdout",
          "text": [
            "\b\b\b\b\b\b\b\b\b\b\b\b\b\b\b\b\b\b\b\b\b\b\b\b\b\b\b\b\b\b\b\b\b\b\b\b\b\b\b\b\b\b\b\b\b\b\b\b\b\b\b\b\b\b\b\b\b\b\b\b\b\b\b\b\b\b\b\b\b\b\b\b\b\b\b\b\b\b\b\b\b\b\b\b\r180/180 [==============================] - 222s 760ms/step - loss: 0.2016 - accuracy: 0.9755 - val_loss: 0.0779 - val_accuracy: 0.9767 - lr: 0.0010\n",
            "Epoch 2/100\n",
            "180/180 [==============================] - ETA: 0s - loss: 0.0073 - accuracy: 0.9975\n",
            "Epoch 2: val_accuracy improved from 0.97667 to 1.00000, saving model to Strawberry_DenseNet_model1_Based_Augmented\n"
          ]
        },
        {
          "output_type": "stream",
          "name": "stderr",
          "text": [
            "WARNING:absl:Found untraced functions such as _jit_compiled_convolution_op, _jit_compiled_convolution_op, _jit_compiled_convolution_op, _jit_compiled_convolution_op, _jit_compiled_convolution_op while saving (showing 5 of 120). These functions will not be directly callable after loading.\n"
          ]
        },
        {
          "output_type": "stream",
          "name": "stdout",
          "text": [
            "\b\b\b\b\b\b\b\b\b\b\b\b\b\b\b\b\b\b\b\b\b\b\b\b\b\b\b\b\b\b\b\b\b\b\b\b\b\b\b\b\b\b\b\b\b\b\b\b\b\b\b\b\b\b\b\b\b\b\b\b\b\b\b\b\b\b\b\b\b\b\b\b\b\b\b\b\b\b\b\b\b\b\b\b\r180/180 [==============================] - 129s 720ms/step - loss: 0.0073 - accuracy: 0.9975 - val_loss: 2.3325e-05 - val_accuracy: 1.0000 - lr: 0.0010\n",
            "Epoch 3/100\n",
            "180/180 [==============================] - ETA: 0s - loss: 0.0140 - accuracy: 0.9964\n",
            "Epoch 3: val_accuracy did not improve from 1.00000\n",
            "180/180 [==============================] - 65s 362ms/step - loss: 0.0140 - accuracy: 0.9964 - val_loss: 0.0121 - val_accuracy: 0.9956 - lr: 0.0010\n",
            "Epoch 4/100\n",
            "180/180 [==============================] - ETA: 0s - loss: 4.4137e-04 - accuracy: 1.0000\n",
            "Epoch 4: val_accuracy did not improve from 1.00000\n",
            "180/180 [==============================] - 65s 358ms/step - loss: 4.4137e-04 - accuracy: 1.0000 - val_loss: 2.8385e-05 - val_accuracy: 1.0000 - lr: 0.0010\n",
            "Epoch 5/100\n",
            "180/180 [==============================] - ETA: 0s - loss: 0.0309 - accuracy: 0.9914\n",
            "Epoch 5: val_accuracy did not improve from 1.00000\n",
            "180/180 [==============================] - 64s 355ms/step - loss: 0.0309 - accuracy: 0.9914 - val_loss: 2.2653e-04 - val_accuracy: 1.0000 - lr: 0.0010\n",
            "Epoch 6/100\n",
            "180/180 [==============================] - ETA: 0s - loss: 0.0020 - accuracy: 0.9994\n",
            "Epoch 6: val_accuracy did not improve from 1.00000\n",
            "180/180 [==============================] - 65s 359ms/step - loss: 0.0020 - accuracy: 0.9994 - val_loss: 1.9261e-06 - val_accuracy: 1.0000 - lr: 0.0010\n",
            "Epoch 7/100\n",
            "180/180 [==============================] - ETA: 0s - loss: 0.0013 - accuracy: 0.9994\n",
            "Epoch 7: val_accuracy did not improve from 1.00000\n",
            "\n",
            "Epoch 7: ReduceLROnPlateau reducing learning rate to 0.00010000000474974513.\n",
            "180/180 [==============================] - 65s 363ms/step - loss: 0.0013 - accuracy: 0.9994 - val_loss: 0.0020 - val_accuracy: 0.9989 - lr: 0.0010\n",
            "Epoch 8/100\n",
            "180/180 [==============================] - ETA: 0s - loss: 0.0039 - accuracy: 0.9992\n",
            "Epoch 8: val_accuracy did not improve from 1.00000\n",
            "180/180 [==============================] - 65s 361ms/step - loss: 0.0039 - accuracy: 0.9992 - val_loss: 3.4324e-04 - val_accuracy: 1.0000 - lr: 1.0000e-04\n",
            "Epoch 9/100\n",
            "180/180 [==============================] - ETA: 0s - loss: 5.7446e-04 - accuracy: 1.0000\n",
            "Epoch 9: val_accuracy did not improve from 1.00000\n",
            "180/180 [==============================] - 66s 367ms/step - loss: 5.7446e-04 - accuracy: 1.0000 - val_loss: 1.9450e-04 - val_accuracy: 1.0000 - lr: 1.0000e-04\n",
            "Epoch 10/100\n",
            "180/180 [==============================] - ETA: 0s - loss: 7.5547e-04 - accuracy: 0.9997\n",
            "Epoch 10: val_accuracy did not improve from 1.00000\n",
            "180/180 [==============================] - 66s 366ms/step - loss: 7.5547e-04 - accuracy: 0.9997 - val_loss: 1.0179e-04 - val_accuracy: 1.0000 - lr: 1.0000e-04\n",
            "Epoch 11/100\n",
            "180/180 [==============================] - ETA: 0s - loss: 5.3572e-04 - accuracy: 0.9997\n",
            "Epoch 11: val_accuracy did not improve from 1.00000\n",
            "180/180 [==============================] - 66s 367ms/step - loss: 5.3572e-04 - accuracy: 0.9997 - val_loss: 3.1123e-05 - val_accuracy: 1.0000 - lr: 1.0000e-04\n",
            "Epoch 12/100\n",
            "180/180 [==============================] - ETA: 0s - loss: 5.3875e-05 - accuracy: 1.0000\n",
            "Epoch 12: val_accuracy did not improve from 1.00000\n",
            "\n",
            "Epoch 12: ReduceLROnPlateau reducing learning rate to 1.0000000474974514e-05.\n",
            "180/180 [==============================] - 66s 368ms/step - loss: 5.3875e-05 - accuracy: 1.0000 - val_loss: 1.6910e-05 - val_accuracy: 1.0000 - lr: 1.0000e-04\n",
            "Epoch 13/100\n",
            "180/180 [==============================] - ETA: 0s - loss: 9.3025e-05 - accuracy: 1.0000\n",
            "Epoch 13: val_accuracy did not improve from 1.00000\n",
            "180/180 [==============================] - 66s 367ms/step - loss: 9.3025e-05 - accuracy: 1.0000 - val_loss: 1.4905e-05 - val_accuracy: 1.0000 - lr: 1.0000e-05\n",
            "Epoch 14/100\n",
            "180/180 [==============================] - ETA: 0s - loss: 2.9519e-05 - accuracy: 1.0000\n",
            "Epoch 14: val_accuracy did not improve from 1.00000\n",
            "180/180 [==============================] - 66s 365ms/step - loss: 2.9519e-05 - accuracy: 1.0000 - val_loss: 1.4952e-05 - val_accuracy: 1.0000 - lr: 1.0000e-05\n",
            "Epoch 15/100\n",
            "180/180 [==============================] - ETA: 0s - loss: 2.6285e-04 - accuracy: 1.0000\n",
            "Epoch 15: val_accuracy did not improve from 1.00000\n",
            "180/180 [==============================] - 68s 376ms/step - loss: 2.6285e-04 - accuracy: 1.0000 - val_loss: 1.7011e-05 - val_accuracy: 1.0000 - lr: 1.0000e-05\n",
            "Epoch 16/100\n",
            "180/180 [==============================] - ETA: 0s - loss: 1.8371e-04 - accuracy: 1.0000\n",
            "Epoch 16: val_accuracy did not improve from 1.00000\n",
            "180/180 [==============================] - 66s 363ms/step - loss: 1.8371e-04 - accuracy: 1.0000 - val_loss: 1.7635e-05 - val_accuracy: 1.0000 - lr: 1.0000e-05\n",
            "Epoch 17/100\n",
            "180/180 [==============================] - ETA: 0s - loss: 1.1845e-04 - accuracy: 1.0000\n",
            "Epoch 17: val_accuracy did not improve from 1.00000\n",
            "\n",
            "Epoch 17: ReduceLROnPlateau reducing learning rate to 1.0000000656873453e-06.\n",
            "180/180 [==============================] - 66s 365ms/step - loss: 1.1845e-04 - accuracy: 1.0000 - val_loss: 1.6452e-05 - val_accuracy: 1.0000 - lr: 1.0000e-05\n",
            "Epoch 18/100\n",
            "180/180 [==============================] - ETA: 0s - loss: 7.5428e-05 - accuracy: 1.0000\n",
            "Epoch 18: val_accuracy did not improve from 1.00000\n",
            "180/180 [==============================] - 65s 362ms/step - loss: 7.5428e-05 - accuracy: 1.0000 - val_loss: 1.8146e-05 - val_accuracy: 1.0000 - lr: 1.0000e-06\n",
            "Epoch 19/100\n",
            "180/180 [==============================] - ETA: 0s - loss: 9.2701e-05 - accuracy: 1.0000\n",
            "Epoch 19: val_accuracy did not improve from 1.00000\n",
            "180/180 [==============================] - 66s 366ms/step - loss: 9.2701e-05 - accuracy: 1.0000 - val_loss: 1.7492e-05 - val_accuracy: 1.0000 - lr: 1.0000e-06\n",
            "Epoch 20/100\n",
            "180/180 [==============================] - ETA: 0s - loss: 1.0228e-04 - accuracy: 1.0000\n",
            "Epoch 20: val_accuracy did not improve from 1.00000\n",
            "180/180 [==============================] - 67s 371ms/step - loss: 1.0228e-04 - accuracy: 1.0000 - val_loss: 1.6877e-05 - val_accuracy: 1.0000 - lr: 1.0000e-06\n",
            "Epoch 21/100\n",
            "180/180 [==============================] - ETA: 0s - loss: 7.2842e-05 - accuracy: 1.0000\n",
            "Epoch 21: val_accuracy did not improve from 1.00000\n",
            "180/180 [==============================] - 65s 363ms/step - loss: 7.2842e-05 - accuracy: 1.0000 - val_loss: 1.7102e-05 - val_accuracy: 1.0000 - lr: 1.0000e-06\n",
            "Epoch 22/100\n",
            "180/180 [==============================] - ETA: 0s - loss: 4.5233e-05 - accuracy: 1.0000\n",
            "Epoch 22: val_accuracy did not improve from 1.00000\n",
            "Restoring model weights from the end of the best epoch: 2.\n",
            "\n",
            "Epoch 22: ReduceLROnPlateau reducing learning rate to 1.0000001111620805e-07.\n",
            "180/180 [==============================] - 69s 382ms/step - loss: 4.5233e-05 - accuracy: 1.0000 - val_loss: 1.6758e-05 - val_accuracy: 1.0000 - lr: 1.0000e-06\n",
            "Epoch 22: early stopping\n"
          ]
        }
      ]
    },
    {
      "cell_type": "code",
      "source": [
        "#-----------------------------------------------------------\n",
        "# Retrieve a list of list results on training and test data\n",
        "# sets for each training epoch\n",
        "#-----------------------------------------------------------\n",
        "acc      = history_DenseNet_model_1.history['accuracy' ]\n",
        "val_acc  = history_DenseNet_model_1.history['val_accuracy' ]\n",
        "loss     = history_DenseNet_model_1.history['loss' ]\n",
        "val_loss = history_DenseNet_model_1.history['val_loss' ]\n",
        "\n",
        "epochs   = range(len(acc)) # Get number of epochs\n",
        "\n",
        "#------------------------------------------------\n",
        "# Plot training and validation accuracy per epoch\n",
        "#------------------------------------------------\n",
        "plt.plot  (epochs, acc )\n",
        "plt.plot  (epochs, val_acc )\n",
        "plt.title ('Training and validation accuracy DenseNet Model 1')\n",
        "plt.legend(['train', 'val'], loc='upper left')\n",
        "plt.figure()\n",
        "\n",
        "#------------------------------------------------\n",
        "# Plot training and validation loss per epoch\n",
        "#------------------------------------------------\n",
        "plt.plot  (epochs, loss)\n",
        "plt.plot  (epochs, val_loss)\n",
        "plt.title ('Training and validation loss DenseNet Model 1')\n",
        "plt.legend(['train', 'val'], loc='upper left')"
      ],
      "metadata": {
        "colab": {
          "base_uri": "https://localhost:8080/",
          "height": 904
        },
        "id": "fua5wVrNr8zN",
        "outputId": "9f97f929-6551-49ff-97e5-d06aa3923cd1"
      },
      "execution_count": 13,
      "outputs": [
        {
          "output_type": "execute_result",
          "data": {
            "text/plain": [
              "<matplotlib.legend.Legend at 0x7f7a281d62f0>"
            ]
          },
          "metadata": {},
          "execution_count": 13
        },
        {
          "output_type": "display_data",
          "data": {
            "text/plain": [
              "<Figure size 640x480 with 1 Axes>"
            ],
            "image/png": "[encoded data removed]"
          },
          "metadata": {}
        },
        {
          "output_type": "display_data",
          "data": {
            "text/plain": [
              "<Figure size 640x480 with 1 Axes>"
            ],
            "image/png": "[encoded data removed]"
          },
          "metadata": {}
        }
      ]
    },
    {
      "cell_type": "code",
      "source": [
        "!zip -r /content/Strawberry_DenseNet_model1_Based_Augmented.zip /content/Strawberry_DenseNet_model1_Based_Augmented"
      ],
      "metadata": {
        "colab": {
          "base_uri": "https://localhost:8080/"
        },
        "id": "8jI5qJR_r88I",
        "outputId": "64b38754-d7b4-4e08-b3f8-fde3c3269cf8"
      },
      "execution_count": 14,
      "outputs": [
        {
          "output_type": "stream",
          "name": "stdout",
          "text": [
            "  adding: content/Strawberry_DenseNet_model1_Based_Augmented/ (stored 0%)\n",
            "  adding: content/Strawberry_DenseNet_model1_Based_Augmented/variables/ (stored 0%)\n",
            "  adding: content/Strawberry_DenseNet_model1_Based_Augmented/variables/variables.index (deflated 79%)\n",
            "  adding: content/Strawberry_DenseNet_model1_Based_Augmented/variables/variables.data-00000-of-00001 (deflated 11%)\n",
            "  adding: content/Strawberry_DenseNet_model1_Based_Augmented/assets/ (stored 0%)\n",
            "  adding: content/Strawberry_DenseNet_model1_Based_Augmented/keras_metadata.pb (deflated 96%)\n",
            "  adding: content/Strawberry_DenseNet_model1_Based_Augmented/fingerprint.pb (stored 0%)\n",
            "  adding: content/Strawberry_DenseNet_model1_Based_Augmented/saved_model.pb (deflated 92%)\n"
          ]
        }
      ]
    },
    {
      "cell_type": "markdown",
      "source": [
        "DenseNet Model 2"
      ],
      "metadata": {
        "id": "UnyfVYlKsPvY"
      }
    },
    {
      "cell_type": "code",
      "source": [
        "# Difine the callbacks\n",
        "# Save the best model\n",
        "checkpoint_callback = ModelCheckpoint(filepath=\"Strawberry_DenseNet_model2_Based_Augmented\", save_best_only=True, monitor=\"val_accuracy\", mode=\"max\", verbose=1)\n",
        "\n",
        "# Early stopping\n",
        "early_stopping_callback = EarlyStopping(monitor=\"val_accuracy\", mode=\"max\", patience=20, verbose=1, restore_best_weights=True)\n",
        "\n",
        "# Reduce learning rate\n",
        "reduce_lr_callback = ReduceLROnPlateau(monitor=\"val_loss\", factor=0.1, patience=5, verbose=1, mode=\"min\", min_delta=0.0001, cooldown=0, min_lr=0)\n",
        "\n",
        "# Callbacks list\n",
        "callbacks=[checkpoint_callback, early_stopping_callback, reduce_lr_callback]"
      ],
      "metadata": {
        "id": "U07WsUJhsQTB"
      },
      "execution_count": 15,
      "outputs": []
    },
    {
      "cell_type": "code",
      "source": [
        "# Define DIY Model\n",
        "DenseNet_model_2 = tf.keras.models.Sequential([\n",
        "    # DenseNet121 Layer\n",
        "    DenseNet121(include_top=False,weights='imagenet',input_shape=(224, 224, 3)),\n",
        "    # Global Average Pooling Layer\n",
        "    tf.keras.layers.GlobalAveragePooling2D(),\n",
        "    # Drop Out Layer\n",
        "    tf.keras.layers.Dropout(0.2),\n",
        "    # 256 neuron hidden layer\n",
        "    tf.keras.layers.Dense(256, activation='relu'),\n",
        "    # Output\n",
        "    tf.keras.layers.Dense(2, activation='softmax') \n",
        "  ])\n",
        "\n",
        "\n",
        "# Compile Model\n",
        "DenseNet_model_2.compile(loss='categorical_crossentropy',optimizer=tf.keras.optimizers.Adam(), metrics=['accuracy']) \n",
        "\n",
        "# Model Summary\n",
        "DenseNet_model_2.summary()"
      ],
      "metadata": {
        "colab": {
          "base_uri": "https://localhost:8080/"
        },
        "id": "i_F43JTksQV_",
        "outputId": "fc49abc4-b1e0-418a-d22e-6b142a96add5"
      },
      "execution_count": 16,
      "outputs": [
        {
          "output_type": "stream",
          "name": "stdout",
          "text": [
            "Model: \"sequential_1\"\n",
            "_________________________________________________________________\n",
            " Layer (type)                Output Shape              Param #   \n",
            "=================================================================\n",
            " densenet121 (Functional)    (None, 7, 7, 1024)        7037504   \n",
            "                                                                 \n",
            " global_average_pooling2d (G  (None, 1024)             0         \n",
            " lobalAveragePooling2D)                                          \n",
            "                                                                 \n",
            " dropout_1 (Dropout)         (None, 1024)              0         \n",
            "                                                                 \n",
            " dense_2 (Dense)             (None, 256)               262400    \n",
            "                                                                 \n",
            " dense_3 (Dense)             (None, 2)                 514       \n",
            "                                                                 \n",
            "=================================================================\n",
            "Total params: 7,300,418\n",
            "Trainable params: 7,216,770\n",
            "Non-trainable params: 83,648\n",
            "_________________________________________________________________\n"
          ]
        }
      ]
    },
    {
      "cell_type": "code",
      "source": [
        "# Define the number of epochs\n",
        "num_epochs = 100\n",
        "\n",
        "# Train the model\n",
        "history_DenseNet_model_2 = DenseNet_model_2.fit(train_generator, epochs=num_epochs, validation_data=validation_generator, callbacks=callbacks)"
      ],
      "metadata": {
        "colab": {
          "base_uri": "https://localhost:8080/"
        },
        "id": "ynd3FA4lsQbJ",
        "outputId": "ceb03042-1d5a-4a4c-af90-dfe3ed05a7ee"
      },
      "execution_count": 17,
      "outputs": [
        {
          "output_type": "stream",
          "name": "stdout",
          "text": [
            "Epoch 1/100\n",
            "180/180 [==============================] - ETA: 0s - loss: 0.0544 - accuracy: 0.9842\n",
            "Epoch 1: val_accuracy improved from -inf to 1.00000, saving model to Strawberry_DenseNet_model2_Based_Augmented\n"
          ]
        },
        {
          "output_type": "stream",
          "name": "stderr",
          "text": [
            "WARNING:absl:Found untraced functions such as _jit_compiled_convolution_op, _jit_compiled_convolution_op, _jit_compiled_convolution_op, _jit_compiled_convolution_op, _jit_compiled_convolution_op while saving (showing 5 of 120). These functions will not be directly callable after loading.\n"
          ]
        },
        {
          "output_type": "stream",
          "name": "stdout",
          "text": [
            "\b\b\b\b\b\b\b\b\b\b\b\b\b\b\b\b\b\b\b\b\b\b\b\b\b\b\b\b\b\b\b\b\b\b\b\b\b\b\b\b\b\b\b\b\b\b\b\b\b\b\b\b\b\b\b\b\b\b\b\b\b\b\b\b\b\b\b\b\b\b\b\b\b\b\b\b\b\b\b\b\b\b\b\b\r180/180 [==============================] - 212s 762ms/step - loss: 0.0544 - accuracy: 0.9842 - val_loss: 3.9966e-05 - val_accuracy: 1.0000 - lr: 0.0010\n",
            "Epoch 2/100\n",
            "180/180 [==============================] - ETA: 0s - loss: 0.0255 - accuracy: 0.9931\n",
            "Epoch 2: val_accuracy did not improve from 1.00000\n",
            "180/180 [==============================] - 66s 366ms/step - loss: 0.0255 - accuracy: 0.9931 - val_loss: 0.1362 - val_accuracy: 0.9667 - lr: 0.0010\n",
            "Epoch 3/100\n",
            "180/180 [==============================] - ETA: 0s - loss: 0.0094 - accuracy: 0.9975\n",
            "Epoch 3: val_accuracy did not improve from 1.00000\n",
            "180/180 [==============================] - 66s 366ms/step - loss: 0.0094 - accuracy: 0.9975 - val_loss: 2.3662e-04 - val_accuracy: 1.0000 - lr: 0.0010\n",
            "Epoch 4/100\n",
            "180/180 [==============================] - ETA: 0s - loss: 0.0016 - accuracy: 0.9994\n",
            "Epoch 4: val_accuracy did not improve from 1.00000\n",
            "180/180 [==============================] - 67s 371ms/step - loss: 0.0016 - accuracy: 0.9994 - val_loss: 7.1720e-04 - val_accuracy: 1.0000 - lr: 0.0010\n",
            "Epoch 5/100\n",
            "180/180 [==============================] - ETA: 0s - loss: 0.0082 - accuracy: 0.9972\n",
            "Epoch 5: val_accuracy did not improve from 1.00000\n",
            "180/180 [==============================] - 65s 361ms/step - loss: 0.0082 - accuracy: 0.9972 - val_loss: 3.4576e-05 - val_accuracy: 1.0000 - lr: 0.0010\n",
            "Epoch 6/100\n",
            "180/180 [==============================] - ETA: 0s - loss: 0.0101 - accuracy: 0.9978\n",
            "Epoch 6: val_accuracy did not improve from 1.00000\n",
            "\n",
            "Epoch 6: ReduceLROnPlateau reducing learning rate to 0.00010000000474974513.\n",
            "180/180 [==============================] - 65s 361ms/step - loss: 0.0101 - accuracy: 0.9978 - val_loss: 0.0047 - val_accuracy: 0.9978 - lr: 0.0010\n",
            "Epoch 7/100\n",
            "180/180 [==============================] - ETA: 0s - loss: 0.0046 - accuracy: 0.9989\n",
            "Epoch 7: val_accuracy did not improve from 1.00000\n",
            "180/180 [==============================] - 66s 365ms/step - loss: 0.0046 - accuracy: 0.9989 - val_loss: 6.8172e-05 - val_accuracy: 1.0000 - lr: 1.0000e-04\n",
            "Epoch 8/100\n",
            "180/180 [==============================] - ETA: 0s - loss: 0.0011 - accuracy: 1.0000\n",
            "Epoch 8: val_accuracy did not improve from 1.00000\n",
            "180/180 [==============================] - 67s 374ms/step - loss: 0.0011 - accuracy: 1.0000 - val_loss: 5.2571e-05 - val_accuracy: 1.0000 - lr: 1.0000e-04\n",
            "Epoch 9/100\n",
            "180/180 [==============================] - ETA: 0s - loss: 0.0026 - accuracy: 0.9994\n",
            "Epoch 9: val_accuracy did not improve from 1.00000\n",
            "180/180 [==============================] - 66s 364ms/step - loss: 0.0026 - accuracy: 0.9994 - val_loss: 2.7485e-05 - val_accuracy: 1.0000 - lr: 1.0000e-04\n",
            "Epoch 10/100\n",
            "180/180 [==============================] - ETA: 0s - loss: 0.0014 - accuracy: 0.9997\n",
            "Epoch 10: val_accuracy did not improve from 1.00000\n",
            "180/180 [==============================] - 66s 367ms/step - loss: 0.0014 - accuracy: 0.9997 - val_loss: 5.9524e-05 - val_accuracy: 1.0000 - lr: 1.0000e-04\n",
            "Epoch 11/100\n",
            "180/180 [==============================] - ETA: 0s - loss: 2.9898e-04 - accuracy: 1.0000\n",
            "Epoch 11: val_accuracy did not improve from 1.00000\n",
            "\n",
            "Epoch 11: ReduceLROnPlateau reducing learning rate to 1.0000000474974514e-05.\n",
            "180/180 [==============================] - 66s 367ms/step - loss: 2.9898e-04 - accuracy: 1.0000 - val_loss: 3.2932e-05 - val_accuracy: 1.0000 - lr: 1.0000e-04\n",
            "Epoch 12/100\n",
            "180/180 [==============================] - ETA: 0s - loss: 8.9351e-04 - accuracy: 0.9997\n",
            "Epoch 12: val_accuracy did not improve from 1.00000\n",
            "180/180 [==============================] - 69s 385ms/step - loss: 8.9351e-04 - accuracy: 0.9997 - val_loss: 2.6983e-05 - val_accuracy: 1.0000 - lr: 1.0000e-05\n",
            "Epoch 13/100\n",
            "180/180 [==============================] - ETA: 0s - loss: 9.9249e-04 - accuracy: 0.9997\n",
            "Epoch 13: val_accuracy did not improve from 1.00000\n",
            "180/180 [==============================] - 66s 368ms/step - loss: 9.9249e-04 - accuracy: 0.9997 - val_loss: 2.6186e-05 - val_accuracy: 1.0000 - lr: 1.0000e-05\n",
            "Epoch 14/100\n",
            "180/180 [==============================] - ETA: 0s - loss: 3.7590e-04 - accuracy: 1.0000\n",
            "Epoch 14: val_accuracy did not improve from 1.00000\n",
            "180/180 [==============================] - 66s 365ms/step - loss: 3.7590e-04 - accuracy: 1.0000 - val_loss: 2.3599e-05 - val_accuracy: 1.0000 - lr: 1.0000e-05\n",
            "Epoch 15/100\n",
            "180/180 [==============================] - ETA: 0s - loss: 3.3787e-04 - accuracy: 1.0000\n",
            "Epoch 15: val_accuracy did not improve from 1.00000\n",
            "180/180 [==============================] - 66s 366ms/step - loss: 3.3787e-04 - accuracy: 1.0000 - val_loss: 2.1166e-05 - val_accuracy: 1.0000 - lr: 1.0000e-05\n",
            "Epoch 16/100\n",
            "180/180 [==============================] - ETA: 0s - loss: 2.5262e-04 - accuracy: 1.0000\n",
            "Epoch 16: val_accuracy did not improve from 1.00000\n",
            "\n",
            "Epoch 16: ReduceLROnPlateau reducing learning rate to 1.0000000656873453e-06.\n",
            "180/180 [==============================] - 68s 379ms/step - loss: 2.5262e-04 - accuracy: 1.0000 - val_loss: 2.0580e-05 - val_accuracy: 1.0000 - lr: 1.0000e-05\n",
            "Epoch 17/100\n",
            "180/180 [==============================] - ETA: 0s - loss: 4.5250e-04 - accuracy: 1.0000\n",
            "Epoch 17: val_accuracy did not improve from 1.00000\n",
            "180/180 [==============================] - 67s 373ms/step - loss: 4.5250e-04 - accuracy: 1.0000 - val_loss: 1.9067e-05 - val_accuracy: 1.0000 - lr: 1.0000e-06\n",
            "Epoch 18/100\n",
            "180/180 [==============================] - ETA: 0s - loss: 4.3300e-04 - accuracy: 1.0000\n",
            "Epoch 18: val_accuracy did not improve from 1.00000\n",
            "180/180 [==============================] - 66s 365ms/step - loss: 4.3300e-04 - accuracy: 1.0000 - val_loss: 2.0532e-05 - val_accuracy: 1.0000 - lr: 1.0000e-06\n",
            "Epoch 19/100\n",
            "180/180 [==============================] - ETA: 0s - loss: 7.0693e-04 - accuracy: 1.0000\n",
            "Epoch 19: val_accuracy did not improve from 1.00000\n",
            "180/180 [==============================] - 66s 365ms/step - loss: 7.0693e-04 - accuracy: 1.0000 - val_loss: 2.3795e-05 - val_accuracy: 1.0000 - lr: 1.0000e-06\n",
            "Epoch 20/100\n",
            "180/180 [==============================] - ETA: 0s - loss: 3.6411e-04 - accuracy: 1.0000\n",
            "Epoch 20: val_accuracy did not improve from 1.00000\n",
            "180/180 [==============================] - 66s 364ms/step - loss: 3.6411e-04 - accuracy: 1.0000 - val_loss: 1.6883e-05 - val_accuracy: 1.0000 - lr: 1.0000e-06\n",
            "Epoch 21/100\n",
            "180/180 [==============================] - ETA: 0s - loss: 0.0013 - accuracy: 0.9997\n",
            "Epoch 21: val_accuracy did not improve from 1.00000\n",
            "Restoring model weights from the end of the best epoch: 1.\n",
            "\n",
            "Epoch 21: ReduceLROnPlateau reducing learning rate to 1.0000001111620805e-07.\n",
            "180/180 [==============================] - 70s 387ms/step - loss: 0.0013 - accuracy: 0.9997 - val_loss: 1.4873e-05 - val_accuracy: 1.0000 - lr: 1.0000e-06\n",
            "Epoch 21: early stopping\n"
          ]
        }
      ]
    },
    {
      "cell_type": "code",
      "source": [
        "#-----------------------------------------------------------\n",
        "# Retrieve a list of list results on training and test data\n",
        "# sets for each training epoch\n",
        "#-----------------------------------------------------------\n",
        "acc      = history_DenseNet_model_2.history['accuracy' ]\n",
        "val_acc  = history_DenseNet_model_2.history['val_accuracy' ]\n",
        "loss     = history_DenseNet_model_2.history['loss' ]\n",
        "val_loss = history_DenseNet_model_2.history['val_loss' ]\n",
        "\n",
        "epochs   = range(len(acc)) # Get number of epochs\n",
        "\n",
        "#------------------------------------------------\n",
        "# Plot training and validation accuracy per epoch\n",
        "#------------------------------------------------\n",
        "plt.plot  (epochs, acc )\n",
        "plt.plot  (epochs, val_acc )\n",
        "plt.title ('Training and validation accuracy DenseNet Model 2')\n",
        "plt.legend(['train', 'val'], loc='upper left')\n",
        "plt.figure()\n",
        "\n",
        "#------------------------------------------------\n",
        "# Plot training and validation loss per epoch\n",
        "#------------------------------------------------\n",
        "plt.plot  (epochs, loss)\n",
        "plt.plot  (epochs, val_loss)\n",
        "plt.title ('Training and validation loss DenseNet Model 2')\n",
        "plt.legend(['train', 'val'], loc='upper left')"
      ],
      "metadata": {
        "colab": {
          "base_uri": "https://localhost:8080/",
          "height": 904
        },
        "id": "N53FYljLsQfh",
        "outputId": "70a671f0-2016-4955-bcd1-78cdf5c358df"
      },
      "execution_count": 18,
      "outputs": [
        {
          "output_type": "execute_result",
          "data": {
            "text/plain": [
              "<matplotlib.legend.Legend at 0x7f79bc1b64d0>"
            ]
          },
          "metadata": {},
          "execution_count": 18
        },
        {
          "output_type": "display_data",
          "data": {
            "text/plain": [
              "<Figure size 640x480 with 1 Axes>"
            ],
            "image/png": "[encoded data removed]"
          },
          "metadata": {}
        },
        {
          "output_type": "display_data",
          "data": {
            "text/plain": [
              "<Figure size 640x480 with 1 Axes>"
            ],
            "image/png": "[encoded data removed]"
          },
          "metadata": {}
        }
      ]
    },
    {
      "cell_type": "code",
      "source": [
        "!zip -r /content/Strawberry_DenseNet_model2_Based_Augmented.zip /content/Strawberry_DenseNet_model2_Based_Augmented"
      ],
      "metadata": {
        "colab": {
          "base_uri": "https://localhost:8080/"
        },
        "id": "IonPPqFeseuP",
        "outputId": "e611e53d-00a8-44f8-9093-323559fad55a"
      },
      "execution_count": 19,
      "outputs": [
        {
          "output_type": "stream",
          "name": "stdout",
          "text": [
            "  adding: content/Strawberry_DenseNet_model2_Based_Augmented/ (stored 0%)\n",
            "  adding: content/Strawberry_DenseNet_model2_Based_Augmented/variables/ (stored 0%)\n",
            "  adding: content/Strawberry_DenseNet_model2_Based_Augmented/variables/variables.index (deflated 79%)\n",
            "  adding: content/Strawberry_DenseNet_model2_Based_Augmented/variables/variables.data-00000-of-00001 (deflated 11%)\n",
            "  adding: content/Strawberry_DenseNet_model2_Based_Augmented/assets/ (stored 0%)\n",
            "  adding: content/Strawberry_DenseNet_model2_Based_Augmented/keras_metadata.pb (deflated 96%)\n",
            "  adding: content/Strawberry_DenseNet_model2_Based_Augmented/fingerprint.pb (stored 0%)\n",
            "  adding: content/Strawberry_DenseNet_model2_Based_Augmented/saved_model.pb (deflated 92%)\n"
          ]
        }
      ]
    }
  ]
}