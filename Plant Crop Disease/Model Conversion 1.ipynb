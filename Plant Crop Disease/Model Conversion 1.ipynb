{
 "cells": [
  {
   "attachments": {},
   "cell_type": "markdown",
   "metadata": {},
   "source": [
    "# Library"
   ]
  },
  {
   "cell_type": "code",
   "execution_count": 1,
   "metadata": {},
   "outputs": [],
   "source": [
    "# Library to dataset\n",
    "import os\n",
    "import zipfile\n",
    "import numpy as np\n",
    "import pandas as pd\n",
    "\n",
    "# Surpress Warnings\n",
    "import warnings\n",
    "warnings.filterwarnings('ignore')\n",
    "os.environ['TF_CPP_MIN_LOG_LEVEL'] = '3' \n",
    "# library visualization\n",
    "import matplotlib.pyplot as plt\n",
    "\n",
    "# Library Tensorflow\n",
    "import tensorflow as tf\n",
    "from tensorflow import keras\n",
    "from tensorflow.keras.preprocessing.image import ImageDataGenerator\n",
    "from tensorflow.keras.callbacks import ModelCheckpoint, EarlyStopping, ReduceLROnPlateau"
   ]
  },
  {
   "attachments": {},
   "cell_type": "markdown",
   "metadata": {},
   "source": [
    "# Apple Model Conversion"
   ]
  },
  {
   "cell_type": "code",
   "execution_count": 2,
   "metadata": {},
   "outputs": [],
   "source": [
    "# Load models\n",
    "Apple_best_model = tf.keras.models.load_model(\"Modelling/Apple/Non Augmented/Saved Model/Apple_MobileNetV2_model2_Based_Non_Augmented\")"
   ]
  },
  {
   "cell_type": "code",
   "execution_count": 3,
   "metadata": {},
   "outputs": [],
   "source": [
    "# Save to h5 format\n",
    "Apple_best_model.save(\"Best_Model/Apple_MobileNetV2_model2_Based_Non_Augmented.h5\")"
   ]
  },
  {
   "attachments": {},
   "cell_type": "markdown",
   "metadata": {},
   "source": [
    "# Bell Paper Model Conversion"
   ]
  },
  {
   "cell_type": "code",
   "execution_count": 5,
   "metadata": {},
   "outputs": [],
   "source": [
    "# load model\n",
    "Bell_Papper_best_model = tf.keras.models.load_model(\"Modelling/Bell-Paper/Non Augmented/Saved Model/BellPaper_MobileNetV2_model1_Based_Non_Augmented\")"
   ]
  },
  {
   "cell_type": "code",
   "execution_count": 6,
   "metadata": {},
   "outputs": [],
   "source": [
    "# Save to h5 format\n",
    "Bell_Papper_best_model.save(\"Best_Model/BellPaper_MobileNetV2_model1_Based_Non_Augmented.h5\")"
   ]
  },
  {
   "attachments": {},
   "cell_type": "markdown",
   "metadata": {},
   "source": [
    "# Cherry Model Conversion"
   ]
  },
  {
   "cell_type": "code",
   "execution_count": 7,
   "metadata": {},
   "outputs": [],
   "source": [
    "# load model\n",
    "Cherry_Best_model = tf.keras.models.load_model(\"Modelling/Cherry-Leaves/Non Augmented/Saved Model/Cherry_MobileNetV2_model1_Based_Non_Augmented\")"
   ]
  },
  {
   "cell_type": "code",
   "execution_count": 8,
   "metadata": {},
   "outputs": [],
   "source": [
    "# Save to h5 format\n",
    "Cherry_Best_model.save(\"Best_Model/Cherry_MobileNetV2_model1_Based_Non_Augmented.h5\")"
   ]
  },
  {
   "attachments": {},
   "cell_type": "markdown",
   "metadata": {},
   "source": [
    "# Corn Model Conversion"
   ]
  },
  {
   "cell_type": "code",
   "execution_count": null,
   "metadata": {},
   "outputs": [],
   "source": [
    "# Load model\n",
    "Corn_Best_Model = tf.keras.models.load_model(\"Modelling/Corn/Augmented/Saved Model/Corn_Xception_model2_Based_Augmented.h5\", compile=False)\n",
    "Corn_Best_Model.compile(optimizer='adam', loss='categorical_crossentropy', metrics=['accuracy'])"
   ]
  },
  {
   "cell_type": "code",
   "execution_count": null,
   "metadata": {},
   "outputs": [],
   "source": [
    "# Save to h5 format\n",
    "Corn_Best_Model.save(\"Best_Model/Corn_Xception_model2_Based_Augmented.h5\")"
   ]
  },
  {
   "attachments": {},
   "cell_type": "markdown",
   "metadata": {},
   "source": [
    "# Grape Model Conversion"
   ]
  },
  {
   "cell_type": "code",
   "execution_count": 9,
   "metadata": {},
   "outputs": [],
   "source": [
    "# load model\n",
    "Grape_Best_model = tf.keras.models.load_model(\"Modelling/Grape/Augmented/Saved Model/Grape_MobileNetV2_model1_Based_Augmented\")"
   ]
  },
  {
   "cell_type": "code",
   "execution_count": 10,
   "metadata": {},
   "outputs": [],
   "source": [
    "# Save to h5 format\n",
    "Grape_Best_model.save(\"Best_Model/Grape_MobileNetV2_model1_Based_Augmented.h5\")"
   ]
  },
  {
   "attachments": {},
   "cell_type": "markdown",
   "metadata": {},
   "source": [
    "# Peach Model Conversion"
   ]
  },
  {
   "cell_type": "code",
   "execution_count": 11,
   "metadata": {},
   "outputs": [],
   "source": [
    "# load model\n",
    "Peach_Best_model = tf.keras.models.load_model(\"Modelling/Peach/Non Augmented/Saved Model/Peach_MobileNetV2_model1_Based_Non_Augmented\")"
   ]
  },
  {
   "cell_type": "code",
   "execution_count": 12,
   "metadata": {},
   "outputs": [],
   "source": [
    "# Save to h5 format\n",
    "Peach_Best_model.save(\"Best_Model/Peach_MobileNetV2_model1_Based_Non_Augmented.h5\")"
   ]
  }
 ],
 "metadata": {
  "kernelspec": {
   "display_name": "tensorflow_gpu_zein",
   "language": "python",
   "name": "python3"
  },
  "language_info": {
   "codemirror_mode": {
    "name": "ipython",
    "version": 3
   },
   "file_extension": ".py",
   "mimetype": "text/x-python",
   "name": "python",
   "nbconvert_exporter": "python",
   "pygments_lexer": "ipython3",
   "version": "3.10.0"
  },
  "orig_nbformat": 4
 },
 "nbformat": 4,
 "nbformat_minor": 2
}
