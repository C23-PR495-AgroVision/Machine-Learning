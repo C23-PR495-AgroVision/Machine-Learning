{
  "nbformat": 4,
  "nbformat_minor": 0,
  "metadata": {
    "colab": {
      "provenance": [],
      "gpuType": "T4"
    },
    "kernelspec": {
      "name": "python3",
      "display_name": "Python 3"
    },
    "language_info": {
      "name": "python"
    },
    "accelerator": "GPU"
  },
  "cells": [
    {
      "cell_type": "code",
      "execution_count": 1,
      "metadata": {
        "colab": {
          "base_uri": "https://localhost:8080/"
        },
        "id": "B1wYZSErRKmi",
        "outputId": "678439f5-a32b-43bd-c2c8-a2a70b6bf54e"
      },
      "outputs": [
        {
          "output_type": "stream",
          "name": "stdout",
          "text": [
            "Looking in indexes: https://pypi.org/simple, https://us-python.pkg.dev/colab-wheels/public/simple/\n",
            "Requirement already satisfied: matplotlib in /usr/local/lib/python3.10/dist-packages (3.7.1)\n",
            "Requirement already satisfied: contourpy>=1.0.1 in /usr/local/lib/python3.10/dist-packages (from matplotlib) (1.0.7)\n",
            "Requirement already satisfied: cycler>=0.10 in /usr/local/lib/python3.10/dist-packages (from matplotlib) (0.11.0)\n",
            "Requirement already satisfied: fonttools>=4.22.0 in /usr/local/lib/python3.10/dist-packages (from matplotlib) (4.39.3)\n",
            "Requirement already satisfied: kiwisolver>=1.0.1 in /usr/local/lib/python3.10/dist-packages (from matplotlib) (1.4.4)\n",
            "Requirement already satisfied: numpy>=1.20 in /usr/local/lib/python3.10/dist-packages (from matplotlib) (1.22.4)\n",
            "Requirement already satisfied: packaging>=20.0 in /usr/local/lib/python3.10/dist-packages (from matplotlib) (23.1)\n",
            "Requirement already satisfied: pillow>=6.2.0 in /usr/local/lib/python3.10/dist-packages (from matplotlib) (8.4.0)\n",
            "Requirement already satisfied: pyparsing>=2.3.1 in /usr/local/lib/python3.10/dist-packages (from matplotlib) (3.0.9)\n",
            "Requirement already satisfied: python-dateutil>=2.7 in /usr/local/lib/python3.10/dist-packages (from matplotlib) (2.8.2)\n",
            "Requirement already satisfied: six>=1.5 in /usr/local/lib/python3.10/dist-packages (from python-dateutil>=2.7->matplotlib) (1.16.0)\n"
          ]
        }
      ],
      "source": [
        "pip install matplotlib"
      ]
    },
    {
      "cell_type": "code",
      "source": [
        "pip install opendatasets"
      ],
      "metadata": {
        "colab": {
          "base_uri": "https://localhost:8080/"
        },
        "id": "GIhrMUBUR0PS",
        "outputId": "0585c88f-f340-4b67-db5c-e1c36180e87d"
      },
      "execution_count": 2,
      "outputs": [
        {
          "output_type": "stream",
          "name": "stdout",
          "text": [
            "Looking in indexes: https://pypi.org/simple, https://us-python.pkg.dev/colab-wheels/public/simple/\n",
            "Collecting opendatasets\n",
            "  Downloading opendatasets-0.1.22-py3-none-any.whl (15 kB)\n",
            "Requirement already satisfied: tqdm in /usr/local/lib/python3.10/dist-packages (from opendatasets) (4.65.0)\n",
            "Requirement already satisfied: kaggle in /usr/local/lib/python3.10/dist-packages (from opendatasets) (1.5.13)\n",
            "Requirement already satisfied: click in /usr/local/lib/python3.10/dist-packages (from opendatasets) (8.1.3)\n",
            "Requirement already satisfied: six>=1.10 in /usr/local/lib/python3.10/dist-packages (from kaggle->opendatasets) (1.16.0)\n",
            "Requirement already satisfied: certifi in /usr/local/lib/python3.10/dist-packages (from kaggle->opendatasets) (2022.12.7)\n",
            "Requirement already satisfied: python-dateutil in /usr/local/lib/python3.10/dist-packages (from kaggle->opendatasets) (2.8.2)\n",
            "Requirement already satisfied: requests in /usr/local/lib/python3.10/dist-packages (from kaggle->opendatasets) (2.27.1)\n",
            "Requirement already satisfied: python-slugify in /usr/local/lib/python3.10/dist-packages (from kaggle->opendatasets) (8.0.1)\n",
            "Requirement already satisfied: urllib3 in /usr/local/lib/python3.10/dist-packages (from kaggle->opendatasets) (1.26.15)\n",
            "Requirement already satisfied: text-unidecode>=1.3 in /usr/local/lib/python3.10/dist-packages (from python-slugify->kaggle->opendatasets) (1.3)\n",
            "Requirement already satisfied: charset-normalizer~=2.0.0 in /usr/local/lib/python3.10/dist-packages (from requests->kaggle->opendatasets) (2.0.12)\n",
            "Requirement already satisfied: idna<4,>=2.5 in /usr/local/lib/python3.10/dist-packages (from requests->kaggle->opendatasets) (3.4)\n",
            "Installing collected packages: opendatasets\n",
            "Successfully installed opendatasets-0.1.22\n"
          ]
        }
      ]
    },
    {
      "cell_type": "code",
      "source": [
        "# Library to dataset\n",
        "import opendatasets as od\n",
        "import os\n",
        "import zipfile\n",
        "import numpy as np\n",
        "\n",
        "# Surpress Warnings\n",
        "import warnings\n",
        "warnings.filterwarnings('ignore')\n",
        "os.environ['TF_CPP_MIN_LOG_LEVEL'] = '3' \n",
        "# library visualization\n",
        "import matplotlib.pyplot as plt\n",
        "\n",
        "# Library Tensorflow\n",
        "import tensorflow as tf\n",
        "from tensorflow import keras\n",
        "from tensorflow.keras.preprocessing.image import ImageDataGenerator\n",
        "from tensorflow.keras.callbacks import ModelCheckpoint, EarlyStopping, ReduceLROnPlateau\n",
        "from tensorflow.keras.applications.densenet import DenseNet121\n",
        "from tensorflow.keras.applications.xception import Xception\n",
        "from tensorflow.keras.applications.mobilenet_v2 import MobileNetV2\n",
        "\n",
        "# Others\n",
        "import shutil\n",
        "import random"
      ],
      "metadata": {
        "id": "LK40WI73RtoV"
      },
      "execution_count": 3,
      "outputs": []
    },
    {
      "cell_type": "markdown",
      "source": [],
      "metadata": {
        "id": "1Djo-hWSR_du"
      }
    },
    {
      "cell_type": "code",
      "source": [
        "# Download dataset\n",
        "od.download('https://www.kaggle.com/datasets/faudyanurul/tomato')"
      ],
      "metadata": {
        "colab": {
          "base_uri": "https://localhost:8080/"
        },
        "id": "jWu__5SKRwBG",
        "outputId": "435fbb97-aec3-4725-99ab-02306baf4057"
      },
      "execution_count": 4,
      "outputs": [
        {
          "output_type": "stream",
          "name": "stdout",
          "text": [
            "Please provide your Kaggle credentials to download this dataset. Learn more: http://bit.ly/kaggle-creds\n",
            "Your Kaggle username: faudyanurul\n",
            "Your Kaggle Key: ··········\n",
            "Downloading tomato.zip to ./tomato\n"
          ]
        },
        {
          "output_type": "stream",
          "name": "stderr",
          "text": [
            "100%|██████████| 551M/551M [00:26<00:00, 21.7MB/s]\n"
          ]
        },
        {
          "output_type": "stream",
          "name": "stdout",
          "text": [
            "\n"
          ]
        }
      ]
    },
    {
      "cell_type": "code",
      "source": [
        "# Load dataset\n",
        "print(\"==========================Training Data====================\")\n",
        "train_data = tf.keras.preprocessing.image_dataset_from_directory(\n",
        "    \"tomato/Tomato/train\",\n",
        "    label_mode=\"categorical\",\n",
        "    class_names= ['Tomato Early blight leaf', 'Tomato Septoria leaf spot', 'Tomato leaf bacterial spot', 'Tomato leaf healthy', 'Tomato leaf late blight', 'Tomato leaf mosaic virus', 'Tomato leaf yellow virus', 'Tomato mold leaf', 'Tomato two spotted spider mites leaf'],\n",
        "    color_mode=\"rgb\",\n",
        "    batch_size=1,\n",
        "    image_size=(256, 256),\n",
        "    shuffle=True,\n",
        "    seed=123\n",
        ")\n",
        "print(\"==========================Validation Data====================\")\n",
        "val_data = tf.keras.preprocessing.image_dataset_from_directory(\n",
        "    \"tomato/Tomato/valid\",\n",
        "    label_mode=\"categorical\",\n",
        "    class_names= ['Tomato Early blight leaf', 'Tomato Septoria leaf spot', 'Tomato leaf bacterial spot', 'Tomato leaf healthy', 'Tomato leaf late blight', 'Tomato leaf mosaic virus', 'Tomato leaf yellow virus', 'Tomato mold leaf', 'Tomato two spotted spider mites leaf'],\n",
        "    color_mode=\"rgb\",\n",
        "    batch_size=1,\n",
        "    image_size=(256, 256),\n",
        "    shuffle=True,\n",
        "    seed=123\n",
        ")"
      ],
      "metadata": {
        "colab": {
          "base_uri": "https://localhost:8080/"
        },
        "id": "VoY6C0B7SASd",
        "outputId": "47dcb8f4-94b5-4b53-d0f8-dabf15d9b078"
      },
      "execution_count": 5,
      "outputs": [
        {
          "output_type": "stream",
          "name": "stdout",
          "text": [
            "==========================Training Data====================\n",
            "Found 17195 files belonging to 9 classes.\n",
            "==========================Validation Data====================\n",
            "Found 4197 files belonging to 9 classes.\n"
          ]
        }
      ]
    },
    {
      "cell_type": "code",
      "source": [
        "# All images will be rescaled by 1./255.and augmented\n",
        "train_datagen = ImageDataGenerator(rescale = 1.0/256.,\n",
        "                                   rotation_range=40,\n",
        "                                   width_shift_range=0.2,\n",
        "                                   height_shift_range=0.2,\n",
        "                                   shear_range=0.2,\n",
        "                                   zoom_range=0.2,\n",
        "                                   horizontal_flip=True,\n",
        "                                   fill_mode='nearest')\n",
        "\n",
        "test_datagen  = ImageDataGenerator(rescale = 1.0/256.)\n",
        "\n",
        "# --------------------\n",
        "# Flow training images in batches of 20 using train_datagen generator\n",
        "# --------------------\n",
        "train_generator = train_datagen.flow_from_directory(\"tomato/Tomato/train\",\n",
        "                                                    batch_size=20,\n",
        "                                                    class_mode='categorical',\n",
        "                                                    target_size=(224, 224))     \n",
        "# --------------------\n",
        "# Flow validation images in batches of 20 using test_datagen generator\n",
        "# --------------------\n",
        "validation_generator =  test_datagen.flow_from_directory(\"tomato/Tomato/valid\",\n",
        "                                                         batch_size=20,\n",
        "                                                         class_mode  = 'categorical',\n",
        "                                                         target_size = (224, 224))"
      ],
      "metadata": {
        "colab": {
          "base_uri": "https://localhost:8080/"
        },
        "id": "SZ3y9uEESHrg",
        "outputId": "15c69791-64ce-494e-bc9b-86d90c0f4527"
      },
      "execution_count": 6,
      "outputs": [
        {
          "output_type": "stream",
          "name": "stdout",
          "text": [
            "Found 17195 images belonging to 9 classes.\n",
            "Found 4197 images belonging to 9 classes.\n"
          ]
        }
      ]
    },
    {
      "cell_type": "markdown",
      "source": [],
      "metadata": {
        "id": "3ftDSt7aSPKb"
      }
    },
    {
      "cell_type": "code",
      "source": [
        "# Check GPU\n",
        "!nvidia-smi"
      ],
      "metadata": {
        "colab": {
          "base_uri": "https://localhost:8080/"
        },
        "id": "v6I6eSZkSQQJ",
        "outputId": "fb9dcc63-e15b-4f4a-908c-6225117a60d8"
      },
      "execution_count": null,
      "outputs": [
        {
          "output_type": "stream",
          "name": "stdout",
          "text": [
            "Tue Jun  6 10:43:51 2023       \n",
            "+-----------------------------------------------------------------------------+\n",
            "| NVIDIA-SMI 525.85.12    Driver Version: 525.85.12    CUDA Version: 12.0     |\n",
            "|-------------------------------+----------------------+----------------------+\n",
            "| GPU  Name        Persistence-M| Bus-Id        Disp.A | Volatile Uncorr. ECC |\n",
            "| Fan  Temp  Perf  Pwr:Usage/Cap|         Memory-Usage | GPU-Util  Compute M. |\n",
            "|                               |                      |               MIG M. |\n",
            "|===============================+======================+======================|\n",
            "|   0  Tesla T4            Off  | 00000000:00:04.0 Off |                    0 |\n",
            "| N/A   50C    P0    28W /  70W |    389MiB / 15360MiB |      0%      Default |\n",
            "|                               |                      |                  N/A |\n",
            "+-------------------------------+----------------------+----------------------+\n",
            "                                                                               \n",
            "+-----------------------------------------------------------------------------+\n",
            "| Processes:                                                                  |\n",
            "|  GPU   GI   CI        PID   Type   Process name                  GPU Memory |\n",
            "|        ID   ID                                                   Usage      |\n",
            "|=============================================================================|\n",
            "+-----------------------------------------------------------------------------+\n"
          ]
        }
      ]
    },
    {
      "cell_type": "code",
      "source": [
        "# Lis physical devices\n",
        "devices = tf.config.experimental.list_physical_devices(\"GPU\")\n",
        "devices"
      ],
      "metadata": {
        "colab": {
          "base_uri": "https://localhost:8080/"
        },
        "id": "nvk8FS6kSRqn",
        "outputId": "ed947ff3-bf82-4a3b-b9f1-09d391b1961d"
      },
      "execution_count": null,
      "outputs": [
        {
          "output_type": "execute_result",
          "data": {
            "text/plain": [
              "[PhysicalDevice(name='/physical_device:GPU:0', device_type='GPU')]"
            ]
          },
          "metadata": {},
          "execution_count": 10
        }
      ]
    },
    {
      "cell_type": "code",
      "source": [
        "# Define the GPU strategy\n",
        "mirrored_strategy = tf.distribute.MirroredStrategy(devices=[\"/gpu:0\"])"
      ],
      "metadata": {
        "id": "EA5lsoI7STi_"
      },
      "execution_count": null,
      "outputs": []
    },
    {
      "cell_type": "markdown",
      "source": [
        "MobileNetV2 Model 1"
      ],
      "metadata": {
        "id": "aB77Iq6-SVRA"
      }
    },
    {
      "cell_type": "code",
      "source": [
        "# Difine the callbacks\n",
        "# Save the best model\n",
        "checkpoint_callback = ModelCheckpoint(filepath=\"Tomato_MobileNetV2_model1_Based_Augmented\", save_best_only=True, monitor=\"val_accuracy\", mode=\"max\", verbose=1)\n",
        "\n",
        "# Early stopping\n",
        "early_stopping_callback = EarlyStopping(monitor=\"val_accuracy\", mode=\"max\", patience=20, verbose=1, restore_best_weights=True)\n",
        "\n",
        "# Reduce learning rate\n",
        "reduce_lr_callback = ReduceLROnPlateau(monitor=\"val_loss\", factor=0.1, patience=5, verbose=1, mode=\"min\", min_delta=0.0001, cooldown=0, min_lr=0)\n",
        "\n",
        "# Callbacks list\n",
        "callbacks=[checkpoint_callback, early_stopping_callback, reduce_lr_callback]"
      ],
      "metadata": {
        "id": "FFYpvb_0SVbi"
      },
      "execution_count": null,
      "outputs": []
    },
    {
      "cell_type": "code",
      "source": [
        "# Define DIY Model\n",
        "MobileNetV2_model = tf.keras.models.Sequential([\n",
        "    # MobileNetV2 Layer\n",
        "    MobileNetV2(include_top=False,weights='imagenet',input_shape=(224, 224, 3)),\n",
        "    # Global Max Pooling Layer\n",
        "    tf.keras.layers.GlobalMaxPooling2D(),\n",
        "    # Drop Out Layer\n",
        "    tf.keras.layers.Dropout(0.2),\n",
        "    # 256 neuron hidden layer\n",
        "    tf.keras.layers.Dense(256, activation='relu'),\n",
        "    # Output\n",
        "    tf.keras.layers.Dense(9, activation='softmax') \n",
        "  ])\n",
        "\n",
        "\n",
        "# Compile Model\n",
        "MobileNetV2_model.compile(loss='categorical_crossentropy',optimizer=tf.keras.optimizers.Adam(), metrics=['accuracy']) \n",
        "\n",
        "# Model Summary\n",
        "MobileNetV2_model.summary()"
      ],
      "metadata": {
        "colab": {
          "base_uri": "https://localhost:8080/"
        },
        "id": "C87YFMBjSczd",
        "outputId": "2c86d8c8-d525-42fe-dac5-41b947594896"
      },
      "execution_count": null,
      "outputs": [
        {
          "output_type": "stream",
          "name": "stdout",
          "text": [
            "Downloading data from https://storage.googleapis.com/tensorflow/keras-applications/mobilenet_v2/mobilenet_v2_weights_tf_dim_ordering_tf_kernels_1.0_224_no_top.h5\n",
            "9406464/9406464 [==============================] - 0s 0us/step\n",
            "Model: \"sequential\"\n",
            "_________________________________________________________________\n",
            " Layer (type)                Output Shape              Param #   \n",
            "=================================================================\n",
            " mobilenetv2_1.00_224 (Funct  (None, 7, 7, 1280)       2257984   \n",
            " ional)                                                          \n",
            "                                                                 \n",
            " global_max_pooling2d (Globa  (None, 1280)             0         \n",
            " lMaxPooling2D)                                                  \n",
            "                                                                 \n",
            " dropout (Dropout)           (None, 1280)              0         \n",
            "                                                                 \n",
            " dense (Dense)               (None, 256)               327936    \n",
            "                                                                 \n",
            " dense_1 (Dense)             (None, 9)                 2313      \n",
            "                                                                 \n",
            "=================================================================\n",
            "Total params: 2,588,233\n",
            "Trainable params: 2,554,121\n",
            "Non-trainable params: 34,112\n",
            "_________________________________________________________________\n"
          ]
        }
      ]
    },
    {
      "cell_type": "code",
      "source": [
        "# Define the number of epochs\n",
        "num_epochs = 100\n",
        "\n",
        "# Train the model\n",
        "history_MobileNetV2_model_1 = MobileNetV2_model.fit(train_generator, epochs=num_epochs, validation_data=validation_generator, callbacks=callbacks)"
      ],
      "metadata": {
        "colab": {
          "base_uri": "https://localhost:8080/"
        },
        "id": "z7PdAuS8SmjX",
        "outputId": "6eafaa0c-dbc3-40df-a7d9-030a5b285a60"
      },
      "execution_count": null,
      "outputs": [
        {
          "output_type": "stream",
          "name": "stdout",
          "text": [
            "Epoch 1/100\n",
            "860/860 [==============================] - ETA: 0s - loss: 0.6903 - accuracy: 0.8038\n",
            "Epoch 1: val_accuracy improved from -inf to 0.15797, saving model to Tomato_MobileNetV2_model1_Based_Augmented\n"
          ]
        },
        {
          "output_type": "stream",
          "name": "stderr",
          "text": [
            "WARNING:absl:Function `_wrapped_model` contains input name(s) mobilenetv2_1.00_224_input with unsupported characters which will be renamed to mobilenetv2_1_00_224_input in the SavedModel.\n",
            "WARNING:absl:`mobilenetv2_1.00_224_input` is not a valid tf.function parameter name. Sanitizing to `mobilenetv2_1_00_224_input`.\n",
            "WARNING:absl:`mobilenetv2_1.00_224_input` is not a valid tf.function parameter name. Sanitizing to `mobilenetv2_1_00_224_input`.\n",
            "WARNING:absl:`mobilenetv2_1.00_224_input` is not a valid tf.function parameter name. Sanitizing to `mobilenetv2_1_00_224_input`.\n",
            "WARNING:absl:Found untraced functions such as _jit_compiled_convolution_op, _jit_compiled_convolution_op, _jit_compiled_convolution_op, _jit_compiled_convolution_op, _jit_compiled_convolution_op while saving (showing 5 of 52). These functions will not be directly callable after loading.\n"
          ]
        },
        {
          "output_type": "stream",
          "name": "stdout",
          "text": [
            "\b\b\b\b\b\b\b\b\b\b\b\b\b\b\b\b\b\b\b\b\b\b\b\b\b\b\b\b\b\b\b\b\b\b\b\b\b\b\b\b\b\b\b\b\b\b\b\b\b\b\b\b\b\b\b\b\b\b\b\b\b\b\b\b\b\b\b\b\b\b\b\b\b\b\b\b\b\b\b\b\b\b\b\b\r860/860 [==============================] - 317s 323ms/step - loss: 0.6903 - accuracy: 0.8038 - val_loss: 7.1706 - val_accuracy: 0.1580 - lr: 0.0010\n",
            "Epoch 2/100\n",
            "860/860 [==============================] - ETA: 0s - loss: 0.3255 - accuracy: 0.8936\n",
            "Epoch 2: val_accuracy improved from 0.15797 to 0.17751, saving model to Tomato_MobileNetV2_model1_Based_Augmented\n"
          ]
        },
        {
          "output_type": "stream",
          "name": "stderr",
          "text": [
            "WARNING:absl:Function `_wrapped_model` contains input name(s) mobilenetv2_1.00_224_input with unsupported characters which will be renamed to mobilenetv2_1_00_224_input in the SavedModel.\n",
            "WARNING:absl:`mobilenetv2_1.00_224_input` is not a valid tf.function parameter name. Sanitizing to `mobilenetv2_1_00_224_input`.\n",
            "WARNING:absl:`mobilenetv2_1.00_224_input` is not a valid tf.function parameter name. Sanitizing to `mobilenetv2_1_00_224_input`.\n",
            "WARNING:absl:Found untraced functions such as _jit_compiled_convolution_op, _jit_compiled_convolution_op, _jit_compiled_convolution_op, _jit_compiled_convolution_op, _jit_compiled_convolution_op while saving (showing 5 of 52). These functions will not be directly callable after loading.\n"
          ]
        },
        {
          "output_type": "stream",
          "name": "stdout",
          "text": [
            "\b\b\b\b\b\b\b\b\b\b\b\b\b\b\b\b\b\b\b\b\b\b\b\b\b\b\b\b\b\b\b\b\b\b\b\b\b\b\b\b\b\b\b\b\b\b\b\b\b\b\b\b\b\b\b\b\b\b\b\b\b\b\b\b\b\b\b\b\b\b\b\b\b\b\b\b\b\b\b\b\b\b\b\b\r860/860 [==============================] - 274s 318ms/step - loss: 0.3255 - accuracy: 0.8936 - val_loss: 4.6632 - val_accuracy: 0.1775 - lr: 0.0010\n",
            "Epoch 3/100\n",
            "860/860 [==============================] - ETA: 0s - loss: 0.2405 - accuracy: 0.9215\n",
            "Epoch 3: val_accuracy improved from 0.17751 to 0.48821, saving model to Tomato_MobileNetV2_model1_Based_Augmented\n"
          ]
        },
        {
          "output_type": "stream",
          "name": "stderr",
          "text": [
            "WARNING:absl:Function `_wrapped_model` contains input name(s) mobilenetv2_1.00_224_input with unsupported characters which will be renamed to mobilenetv2_1_00_224_input in the SavedModel.\n",
            "WARNING:absl:Found untraced functions such as _jit_compiled_convolution_op, _jit_compiled_convolution_op, _jit_compiled_convolution_op, _jit_compiled_convolution_op, _jit_compiled_convolution_op while saving (showing 5 of 52). These functions will not be directly callable after loading.\n"
          ]
        },
        {
          "output_type": "stream",
          "name": "stdout",
          "text": [
            "\b\b\b\b\b\b\b\b\b\b\b\b\b\b\b\b\b\b\b\b\b\b\b\b\b\b\b\b\b\b\b\b\b\b\b\b\b\b\b\b\b\b\b\b\b\b\b\b\b\b\b\b\b\b\b\b\b\b\b\b\b\b\b\b\b\b\b\b\b\b\b\b\b\b\b\b\b\b\b\b\b\b\b\b\r860/860 [==============================] - 273s 318ms/step - loss: 0.2405 - accuracy: 0.9215 - val_loss: 2.6963 - val_accuracy: 0.4882 - lr: 0.0010\n",
            "Epoch 4/100\n",
            "860/860 [==============================] - ETA: 0s - loss: 0.2335 - accuracy: 0.9246\n",
            "Epoch 4: val_accuracy did not improve from 0.48821\n",
            "860/860 [==============================] - 250s 291ms/step - loss: 0.2335 - accuracy: 0.9246 - val_loss: 3.3462 - val_accuracy: 0.3207 - lr: 0.0010\n",
            "Epoch 5/100\n",
            "860/860 [==============================] - ETA: 0s - loss: 0.2449 - accuracy: 0.9226\n",
            "Epoch 5: val_accuracy improved from 0.48821 to 0.52609, saving model to Tomato_MobileNetV2_model1_Based_Augmented\n"
          ]
        },
        {
          "output_type": "stream",
          "name": "stderr",
          "text": [
            "WARNING:absl:Function `_wrapped_model` contains input name(s) mobilenetv2_1.00_224_input with unsupported characters which will be renamed to mobilenetv2_1_00_224_input in the SavedModel.\n",
            "WARNING:absl:Found untraced functions such as _jit_compiled_convolution_op, _jit_compiled_convolution_op, _jit_compiled_convolution_op, _jit_compiled_convolution_op, _jit_compiled_convolution_op while saving (showing 5 of 52). These functions will not be directly callable after loading.\n"
          ]
        },
        {
          "output_type": "stream",
          "name": "stdout",
          "text": [
            "\b\b\b\b\b\b\b\b\b\b\b\b\b\b\b\b\b\b\b\b\b\b\b\b\b\b\b\b\b\b\b\b\b\b\b\b\b\b\b\b\b\b\b\b\b\b\b\b\b\b\b\b\b\b\b\b\b\b\b\b\b\b\b\b\b\b\b\b\b\b\b\b\b\b\b\b\b\b\b\b\b\b\b\b\r860/860 [==============================] - 275s 319ms/step - loss: 0.2449 - accuracy: 0.9226 - val_loss: 2.0806 - val_accuracy: 0.5261 - lr: 0.0010\n",
            "Epoch 6/100\n",
            "860/860 [==============================] - ETA: 0s - loss: 0.2290 - accuracy: 0.9272\n",
            "Epoch 6: val_accuracy did not improve from 0.52609\n",
            "860/860 [==============================] - 251s 292ms/step - loss: 0.2290 - accuracy: 0.9272 - val_loss: 4.8979 - val_accuracy: 0.2790 - lr: 0.0010\n",
            "Epoch 7/100\n",
            "860/860 [==============================] - ETA: 0s - loss: 0.2154 - accuracy: 0.9318\n",
            "Epoch 7: val_accuracy did not improve from 0.52609\n",
            "860/860 [==============================] - 252s 293ms/step - loss: 0.2154 - accuracy: 0.9318 - val_loss: 4.1344 - val_accuracy: 0.3014 - lr: 0.0010\n",
            "Epoch 8/100\n",
            "860/860 [==============================] - ETA: 0s - loss: 0.2136 - accuracy: 0.9315\n",
            "Epoch 8: val_accuracy improved from 0.52609 to 0.78985, saving model to Tomato_MobileNetV2_model1_Based_Augmented\n"
          ]
        },
        {
          "output_type": "stream",
          "name": "stderr",
          "text": [
            "WARNING:absl:Function `_wrapped_model` contains input name(s) mobilenetv2_1.00_224_input with unsupported characters which will be renamed to mobilenetv2_1_00_224_input in the SavedModel.\n",
            "WARNING:absl:Found untraced functions such as _jit_compiled_convolution_op, _jit_compiled_convolution_op, _jit_compiled_convolution_op, _jit_compiled_convolution_op, _jit_compiled_convolution_op while saving (showing 5 of 52). These functions will not be directly callable after loading.\n"
          ]
        },
        {
          "output_type": "stream",
          "name": "stdout",
          "text": [
            "\b\b\b\b\b\b\b\b\b\b\b\b\b\b\b\b\b\b\b\b\b\b\b\b\b\b\b\b\b\b\b\b\b\b\b\b\b\b\b\b\b\b\b\b\b\b\b\b\b\b\b\b\b\b\b\b\b\b\b\b\b\b\b\b\b\b\b\b\b\b\b\b\b\b\b\b\b\b\b\b\b\b\b\b\r860/860 [==============================] - 274s 319ms/step - loss: 0.2136 - accuracy: 0.9315 - val_loss: 0.8277 - val_accuracy: 0.7898 - lr: 0.0010\n",
            "Epoch 9/100\n",
            "860/860 [==============================] - ETA: 0s - loss: 0.1871 - accuracy: 0.9395\n",
            "Epoch 9: val_accuracy did not improve from 0.78985\n",
            "860/860 [==============================] - 260s 302ms/step - loss: 0.1871 - accuracy: 0.9395 - val_loss: 1.8546 - val_accuracy: 0.4887 - lr: 0.0010\n",
            "Epoch 10/100\n",
            "860/860 [==============================] - ETA: 0s - loss: 0.1836 - accuracy: 0.9397\n",
            "Epoch 10: val_accuracy did not improve from 0.78985\n",
            "860/860 [==============================] - 252s 292ms/step - loss: 0.1836 - accuracy: 0.9397 - val_loss: 1.1000 - val_accuracy: 0.7536 - lr: 0.0010\n",
            "Epoch 11/100\n",
            "860/860 [==============================] - ETA: 0s - loss: 0.1797 - accuracy: 0.9424\n",
            "Epoch 11: val_accuracy did not improve from 0.78985\n",
            "860/860 [==============================] - 250s 290ms/step - loss: 0.1797 - accuracy: 0.9424 - val_loss: 0.7908 - val_accuracy: 0.7815 - lr: 0.0010\n",
            "Epoch 12/100\n",
            "860/860 [==============================] - ETA: 0s - loss: 0.1787 - accuracy: 0.9413\n",
            "Epoch 12: val_accuracy did not improve from 0.78985\n",
            "860/860 [==============================] - 250s 291ms/step - loss: 0.1787 - accuracy: 0.9413 - val_loss: 1.1336 - val_accuracy: 0.6998 - lr: 0.0010\n",
            "Epoch 13/100\n",
            "860/860 [==============================] - ETA: 0s - loss: 0.1620 - accuracy: 0.9494\n",
            "Epoch 13: val_accuracy improved from 0.78985 to 0.88849, saving model to Tomato_MobileNetV2_model1_Based_Augmented\n"
          ]
        },
        {
          "output_type": "stream",
          "name": "stderr",
          "text": [
            "WARNING:absl:Function `_wrapped_model` contains input name(s) mobilenetv2_1.00_224_input with unsupported characters which will be renamed to mobilenetv2_1_00_224_input in the SavedModel.\n",
            "WARNING:absl:Found untraced functions such as _jit_compiled_convolution_op, _jit_compiled_convolution_op, _jit_compiled_convolution_op, _jit_compiled_convolution_op, _jit_compiled_convolution_op while saving (showing 5 of 52). These functions will not be directly callable after loading.\n"
          ]
        },
        {
          "output_type": "stream",
          "name": "stdout",
          "text": [
            "\b\b\b\b\b\b\b\b\b\b\b\b\b\b\b\b\b\b\b\b\b\b\b\b\b\b\b\b\b\b\b\b\b\b\b\b\b\b\b\b\b\b\b\b\b\b\b\b\b\b\b\b\b\b\b\b\b\b\b\b\b\b\b\b\b\b\b\b\b\b\b\b\b\b\b\b\b\b\b\b\b\b\b\b\r860/860 [==============================] - 273s 318ms/step - loss: 0.1620 - accuracy: 0.9494 - val_loss: 0.4164 - val_accuracy: 0.8885 - lr: 0.0010\n",
            "Epoch 14/100\n",
            "860/860 [==============================] - ETA: 0s - loss: 0.1503 - accuracy: 0.9520\n",
            "Epoch 14: val_accuracy improved from 0.88849 to 0.90922, saving model to Tomato_MobileNetV2_model1_Based_Augmented\n"
          ]
        },
        {
          "output_type": "stream",
          "name": "stderr",
          "text": [
            "WARNING:absl:Function `_wrapped_model` contains input name(s) mobilenetv2_1.00_224_input with unsupported characters which will be renamed to mobilenetv2_1_00_224_input in the SavedModel.\n",
            "WARNING:absl:Found untraced functions such as _jit_compiled_convolution_op, _jit_compiled_convolution_op, _jit_compiled_convolution_op, _jit_compiled_convolution_op, _jit_compiled_convolution_op while saving (showing 5 of 52). These functions will not be directly callable after loading.\n"
          ]
        },
        {
          "output_type": "stream",
          "name": "stdout",
          "text": [
            "\b\b\b\b\b\b\b\b\b\b\b\b\b\b\b\b\b\b\b\b\b\b\b\b\b\b\b\b\b\b\b\b\b\b\b\b\b\b\b\b\b\b\b\b\b\b\b\b\b\b\b\b\b\b\b\b\b\b\b\b\b\b\b\b\b\b\b\b\b\b\b\b\b\b\b\b\b\b\b\b\b\b\b\b\r860/860 [==============================] - 273s 317ms/step - loss: 0.1503 - accuracy: 0.9520 - val_loss: 0.3410 - val_accuracy: 0.9092 - lr: 0.0010\n",
            "Epoch 15/100\n",
            "860/860 [==============================] - ETA: 0s - loss: 0.1571 - accuracy: 0.9492\n",
            "Epoch 15: val_accuracy did not improve from 0.90922\n",
            "860/860 [==============================] - 261s 304ms/step - loss: 0.1571 - accuracy: 0.9492 - val_loss: 1.6251 - val_accuracy: 0.6850 - lr: 0.0010\n",
            "Epoch 16/100\n",
            "860/860 [==============================] - ETA: 0s - loss: 0.1459 - accuracy: 0.9539\n",
            "Epoch 16: val_accuracy did not improve from 0.90922\n",
            "860/860 [==============================] - 252s 293ms/step - loss: 0.1459 - accuracy: 0.9539 - val_loss: 0.8513 - val_accuracy: 0.7894 - lr: 0.0010\n",
            "Epoch 17/100\n",
            "860/860 [==============================] - ETA: 0s - loss: 0.1468 - accuracy: 0.9515\n",
            "Epoch 17: val_accuracy improved from 0.90922 to 0.91708, saving model to Tomato_MobileNetV2_model1_Based_Augmented\n"
          ]
        },
        {
          "output_type": "stream",
          "name": "stderr",
          "text": [
            "WARNING:absl:Function `_wrapped_model` contains input name(s) mobilenetv2_1.00_224_input with unsupported characters which will be renamed to mobilenetv2_1_00_224_input in the SavedModel.\n",
            "WARNING:absl:Found untraced functions such as _jit_compiled_convolution_op, _jit_compiled_convolution_op, _jit_compiled_convolution_op, _jit_compiled_convolution_op, _jit_compiled_convolution_op while saving (showing 5 of 52). These functions will not be directly callable after loading.\n"
          ]
        },
        {
          "output_type": "stream",
          "name": "stdout",
          "text": [
            "\b\b\b\b\b\b\b\b\b\b\b\b\b\b\b\b\b\b\b\b\b\b\b\b\b\b\b\b\b\b\b\b\b\b\b\b\b\b\b\b\b\b\b\b\b\b\b\b\b\b\b\b\b\b\b\b\b\b\b\b\b\b\b\b\b\b\b\b\b\b\b\b\b\b\b\b\b\b\b\b\b\b\b\b\r860/860 [==============================] - 274s 318ms/step - loss: 0.1468 - accuracy: 0.9515 - val_loss: 0.2734 - val_accuracy: 0.9171 - lr: 0.0010\n",
            "Epoch 18/100\n",
            "860/860 [==============================] - ETA: 0s - loss: 0.1409 - accuracy: 0.9539\n",
            "Epoch 18: val_accuracy did not improve from 0.91708\n",
            "860/860 [==============================] - 251s 292ms/step - loss: 0.1409 - accuracy: 0.9539 - val_loss: 1.2579 - val_accuracy: 0.6964 - lr: 0.0010\n",
            "Epoch 19/100\n",
            "860/860 [==============================] - ETA: 0s - loss: 0.1281 - accuracy: 0.9573\n",
            "Epoch 19: val_accuracy did not improve from 0.91708\n",
            "860/860 [==============================] - 249s 290ms/step - loss: 0.1281 - accuracy: 0.9573 - val_loss: 0.7905 - val_accuracy: 0.8168 - lr: 0.0010\n",
            "Epoch 20/100\n",
            "860/860 [==============================] - ETA: 0s - loss: 0.1281 - accuracy: 0.9596\n",
            "Epoch 20: val_accuracy did not improve from 0.91708\n",
            "860/860 [==============================] - 252s 292ms/step - loss: 0.1281 - accuracy: 0.9596 - val_loss: 0.3753 - val_accuracy: 0.9030 - lr: 0.0010\n",
            "Epoch 21/100\n",
            "860/860 [==============================] - ETA: 0s - loss: 0.1225 - accuracy: 0.9603\n",
            "Epoch 21: val_accuracy did not improve from 0.91708\n",
            "860/860 [==============================] - 251s 292ms/step - loss: 0.1225 - accuracy: 0.9603 - val_loss: 0.9931 - val_accuracy: 0.7882 - lr: 0.0010\n",
            "Epoch 22/100\n",
            "860/860 [==============================] - ETA: 0s - loss: 0.1238 - accuracy: 0.9594\n",
            "Epoch 22: val_accuracy did not improve from 0.91708\n",
            "\n",
            "Epoch 22: ReduceLROnPlateau reducing learning rate to 0.00010000000474974513.\n",
            "860/860 [==============================] - 251s 292ms/step - loss: 0.1238 - accuracy: 0.9594 - val_loss: 0.8796 - val_accuracy: 0.7810 - lr: 0.0010\n",
            "Epoch 23/100\n",
            "860/860 [==============================] - ETA: 0s - loss: 0.0795 - accuracy: 0.9725\n",
            "Epoch 23: val_accuracy improved from 0.91708 to 0.98165, saving model to Tomato_MobileNetV2_model1_Based_Augmented\n"
          ]
        },
        {
          "output_type": "stream",
          "name": "stderr",
          "text": [
            "WARNING:absl:Function `_wrapped_model` contains input name(s) mobilenetv2_1.00_224_input with unsupported characters which will be renamed to mobilenetv2_1_00_224_input in the SavedModel.\n",
            "WARNING:absl:Found untraced functions such as _jit_compiled_convolution_op, _jit_compiled_convolution_op, _jit_compiled_convolution_op, _jit_compiled_convolution_op, _jit_compiled_convolution_op while saving (showing 5 of 52). These functions will not be directly callable after loading.\n"
          ]
        },
        {
          "output_type": "stream",
          "name": "stdout",
          "text": [
            "\b\b\b\b\b\b\b\b\b\b\b\b\b\b\b\b\b\b\b\b\b\b\b\b\b\b\b\b\b\b\b\b\b\b\b\b\b\b\b\b\b\b\b\b\b\b\b\b\b\b\b\b\b\b\b\b\b\b\b\b\b\b\b\b\b\b\b\b\b\b\b\b\b\b\b\b\b\b\b\b\b\b\b\b\r860/860 [==============================] - 276s 320ms/step - loss: 0.0795 - accuracy: 0.9725 - val_loss: 0.0581 - val_accuracy: 0.9817 - lr: 1.0000e-04\n",
            "Epoch 24/100\n",
            "860/860 [==============================] - ETA: 0s - loss: 0.0629 - accuracy: 0.9773\n",
            "Epoch 24: val_accuracy improved from 0.98165 to 0.98404, saving model to Tomato_MobileNetV2_model1_Based_Augmented\n"
          ]
        },
        {
          "output_type": "stream",
          "name": "stderr",
          "text": [
            "WARNING:absl:Function `_wrapped_model` contains input name(s) mobilenetv2_1.00_224_input with unsupported characters which will be renamed to mobilenetv2_1_00_224_input in the SavedModel.\n",
            "WARNING:absl:Found untraced functions such as _jit_compiled_convolution_op, _jit_compiled_convolution_op, _jit_compiled_convolution_op, _jit_compiled_convolution_op, _jit_compiled_convolution_op while saving (showing 5 of 52). These functions will not be directly callable after loading.\n"
          ]
        },
        {
          "output_type": "stream",
          "name": "stdout",
          "text": [
            "\b\b\b\b\b\b\b\b\b\b\b\b\b\b\b\b\b\b\b\b\b\b\b\b\b\b\b\b\b\b\b\b\b\b\b\b\b\b\b\b\b\b\b\b\b\b\b\b\b\b\b\b\b\b\b\b\b\b\b\b\b\b\b\b\b\b\b\b\b\b\b\b\b\b\b\b\b\b\b\b\b\b\b\b\r860/860 [==============================] - 275s 319ms/step - loss: 0.0629 - accuracy: 0.9773 - val_loss: 0.0469 - val_accuracy: 0.9840 - lr: 1.0000e-04\n",
            "Epoch 25/100\n",
            "860/860 [==============================] - ETA: 0s - loss: 0.0598 - accuracy: 0.9788\n",
            "Epoch 25: val_accuracy did not improve from 0.98404\n",
            "860/860 [==============================] - 251s 292ms/step - loss: 0.0598 - accuracy: 0.9788 - val_loss: 0.0505 - val_accuracy: 0.9831 - lr: 1.0000e-04\n",
            "Epoch 26/100\n",
            "860/860 [==============================] - ETA: 0s - loss: 0.0553 - accuracy: 0.9810\n",
            "Epoch 26: val_accuracy improved from 0.98404 to 0.98666, saving model to Tomato_MobileNetV2_model1_Based_Augmented\n"
          ]
        },
        {
          "output_type": "stream",
          "name": "stderr",
          "text": [
            "WARNING:absl:Function `_wrapped_model` contains input name(s) mobilenetv2_1.00_224_input with unsupported characters which will be renamed to mobilenetv2_1_00_224_input in the SavedModel.\n",
            "WARNING:absl:Found untraced functions such as _jit_compiled_convolution_op, _jit_compiled_convolution_op, _jit_compiled_convolution_op, _jit_compiled_convolution_op, _jit_compiled_convolution_op while saving (showing 5 of 52). These functions will not be directly callable after loading.\n"
          ]
        },
        {
          "output_type": "stream",
          "name": "stdout",
          "text": [
            "\b\b\b\b\b\b\b\b\b\b\b\b\b\b\b\b\b\b\b\b\b\b\b\b\b\b\b\b\b\b\b\b\b\b\b\b\b\b\b\b\b\b\b\b\b\b\b\b\b\b\b\b\b\b\b\b\b\b\b\b\b\b\b\b\b\b\b\b\b\b\b\b\b\b\b\b\b\b\b\b\b\b\b\b\r860/860 [==============================] - 277s 322ms/step - loss: 0.0553 - accuracy: 0.9810 - val_loss: 0.0438 - val_accuracy: 0.9867 - lr: 1.0000e-04\n",
            "Epoch 27/100\n",
            "860/860 [==============================] - ETA: 0s - loss: 0.0503 - accuracy: 0.9819\n",
            "Epoch 27: val_accuracy did not improve from 0.98666\n",
            "860/860 [==============================] - 251s 292ms/step - loss: 0.0503 - accuracy: 0.9819 - val_loss: 0.0412 - val_accuracy: 0.9864 - lr: 1.0000e-04\n",
            "Epoch 28/100\n",
            "860/860 [==============================] - ETA: 0s - loss: 0.0508 - accuracy: 0.9817\n",
            "Epoch 28: val_accuracy did not improve from 0.98666\n",
            "860/860 [==============================] - 251s 292ms/step - loss: 0.0508 - accuracy: 0.9817 - val_loss: 0.0432 - val_accuracy: 0.9862 - lr: 1.0000e-04\n",
            "Epoch 29/100\n",
            "860/860 [==============================] - ETA: 0s - loss: 0.0497 - accuracy: 0.9819\n",
            "Epoch 29: val_accuracy improved from 0.98666 to 0.98904, saving model to Tomato_MobileNetV2_model1_Based_Augmented\n"
          ]
        },
        {
          "output_type": "stream",
          "name": "stderr",
          "text": [
            "WARNING:absl:Function `_wrapped_model` contains input name(s) mobilenetv2_1.00_224_input with unsupported characters which will be renamed to mobilenetv2_1_00_224_input in the SavedModel.\n",
            "WARNING:absl:Found untraced functions such as _jit_compiled_convolution_op, _jit_compiled_convolution_op, _jit_compiled_convolution_op, _jit_compiled_convolution_op, _jit_compiled_convolution_op while saving (showing 5 of 52). These functions will not be directly callable after loading.\n"
          ]
        },
        {
          "output_type": "stream",
          "name": "stdout",
          "text": [
            "\b\b\b\b\b\b\b\b\b\b\b\b\b\b\b\b\b\b\b\b\b\b\b\b\b\b\b\b\b\b\b\b\b\b\b\b\b\b\b\b\b\b\b\b\b\b\b\b\b\b\b\b\b\b\b\b\b\b\b\b\b\b\b\b\b\b\b\b\b\b\b\b\b\b\b\b\b\b\b\b\b\b\b\b\r860/860 [==============================] - 278s 323ms/step - loss: 0.0497 - accuracy: 0.9819 - val_loss: 0.0370 - val_accuracy: 0.9890 - lr: 1.0000e-04\n",
            "Epoch 30/100\n",
            "860/860 [==============================] - ETA: 0s - loss: 0.0483 - accuracy: 0.9823\n",
            "Epoch 30: val_accuracy improved from 0.98904 to 0.98952, saving model to Tomato_MobileNetV2_model1_Based_Augmented\n"
          ]
        },
        {
          "output_type": "stream",
          "name": "stderr",
          "text": [
            "WARNING:absl:Function `_wrapped_model` contains input name(s) mobilenetv2_1.00_224_input with unsupported characters which will be renamed to mobilenetv2_1_00_224_input in the SavedModel.\n",
            "WARNING:absl:Found untraced functions such as _jit_compiled_convolution_op, _jit_compiled_convolution_op, _jit_compiled_convolution_op, _jit_compiled_convolution_op, _jit_compiled_convolution_op while saving (showing 5 of 52). These functions will not be directly callable after loading.\n"
          ]
        },
        {
          "output_type": "stream",
          "name": "stdout",
          "text": [
            "\b\b\b\b\b\b\b\b\b\b\b\b\b\b\b\b\b\b\b\b\b\b\b\b\b\b\b\b\b\b\b\b\b\b\b\b\b\b\b\b\b\b\b\b\b\b\b\b\b\b\b\b\b\b\b\b\b\b\b\b\b\b\b\b\b\b\b\b\b\b\b\b\b\b\b\b\b\b\b\b\b\b\b\b\r860/860 [==============================] - 276s 321ms/step - loss: 0.0483 - accuracy: 0.9823 - val_loss: 0.0325 - val_accuracy: 0.9895 - lr: 1.0000e-04\n",
            "Epoch 31/100\n",
            "860/860 [==============================] - ETA: 0s - loss: 0.0459 - accuracy: 0.9833\n",
            "Epoch 31: val_accuracy did not improve from 0.98952\n",
            "860/860 [==============================] - 264s 307ms/step - loss: 0.0459 - accuracy: 0.9833 - val_loss: 0.0488 - val_accuracy: 0.9852 - lr: 1.0000e-04\n",
            "Epoch 32/100\n",
            "860/860 [==============================] - ETA: 0s - loss: 0.0476 - accuracy: 0.9825\n",
            "Epoch 32: val_accuracy did not improve from 0.98952\n",
            "860/860 [==============================] - 263s 305ms/step - loss: 0.0476 - accuracy: 0.9825 - val_loss: 0.0478 - val_accuracy: 0.9836 - lr: 1.0000e-04\n",
            "Epoch 33/100\n",
            "860/860 [==============================] - ETA: 0s - loss: 0.0445 - accuracy: 0.9835\n",
            "Epoch 33: val_accuracy improved from 0.98952 to 0.98999, saving model to Tomato_MobileNetV2_model1_Based_Augmented\n"
          ]
        },
        {
          "output_type": "stream",
          "name": "stderr",
          "text": [
            "WARNING:absl:Function `_wrapped_model` contains input name(s) mobilenetv2_1.00_224_input with unsupported characters which will be renamed to mobilenetv2_1_00_224_input in the SavedModel.\n",
            "WARNING:absl:Found untraced functions such as _jit_compiled_convolution_op, _jit_compiled_convolution_op, _jit_compiled_convolution_op, _jit_compiled_convolution_op, _jit_compiled_convolution_op while saving (showing 5 of 52). These functions will not be directly callable after loading.\n"
          ]
        },
        {
          "output_type": "stream",
          "name": "stdout",
          "text": [
            "\b\b\b\b\b\b\b\b\b\b\b\b\b\b\b\b\b\b\b\b\b\b\b\b\b\b\b\b\b\b\b\b\b\b\b\b\b\b\b\b\b\b\b\b\b\b\b\b\b\b\b\b\b\b\b\b\b\b\b\b\b\b\b\b\b\b\b\b\b\b\b\b\b\b\b\b\b\b\b\b\b\b\b\b\r860/860 [==============================] - 278s 323ms/step - loss: 0.0445 - accuracy: 0.9835 - val_loss: 0.0312 - val_accuracy: 0.9900 - lr: 1.0000e-04\n",
            "Epoch 34/100\n",
            "860/860 [==============================] - ETA: 0s - loss: 0.0452 - accuracy: 0.9827\n",
            "Epoch 34: val_accuracy did not improve from 0.98999\n",
            "860/860 [==============================] - 255s 297ms/step - loss: 0.0452 - accuracy: 0.9827 - val_loss: 0.0307 - val_accuracy: 0.9895 - lr: 1.0000e-04\n",
            "Epoch 35/100\n",
            "860/860 [==============================] - ETA: 0s - loss: 0.0422 - accuracy: 0.9845\n",
            "Epoch 35: val_accuracy did not improve from 0.98999\n",
            "860/860 [==============================] - 255s 296ms/step - loss: 0.0422 - accuracy: 0.9845 - val_loss: 0.0405 - val_accuracy: 0.9869 - lr: 1.0000e-04\n",
            "Epoch 36/100\n",
            "860/860 [==============================] - ETA: 0s - loss: 0.0418 - accuracy: 0.9849\n",
            "Epoch 36: val_accuracy did not improve from 0.98999\n",
            "860/860 [==============================] - 254s 295ms/step - loss: 0.0418 - accuracy: 0.9849 - val_loss: 0.0556 - val_accuracy: 0.9797 - lr: 1.0000e-04\n",
            "Epoch 37/100\n",
            "860/860 [==============================] - ETA: 0s - loss: 0.0405 - accuracy: 0.9849\n",
            "Epoch 37: val_accuracy did not improve from 0.98999\n",
            "860/860 [==============================] - 255s 296ms/step - loss: 0.0405 - accuracy: 0.9849 - val_loss: 0.0432 - val_accuracy: 0.9867 - lr: 1.0000e-04\n",
            "Epoch 38/100\n",
            "860/860 [==============================] - ETA: 0s - loss: 0.0414 - accuracy: 0.9844\n",
            "Epoch 38: val_accuracy did not improve from 0.98999\n",
            "860/860 [==============================] - 253s 295ms/step - loss: 0.0414 - accuracy: 0.9844 - val_loss: 0.0375 - val_accuracy: 0.9864 - lr: 1.0000e-04\n",
            "Epoch 39/100\n",
            "860/860 [==============================] - ETA: 0s - loss: 0.0404 - accuracy: 0.9851\n",
            "Epoch 39: val_accuracy did not improve from 0.98999\n",
            "\n",
            "Epoch 39: ReduceLROnPlateau reducing learning rate to 1.0000000474974514e-05.\n",
            "860/860 [==============================] - 257s 299ms/step - loss: 0.0404 - accuracy: 0.9851 - val_loss: 0.0333 - val_accuracy: 0.9898 - lr: 1.0000e-04\n",
            "Epoch 40/100\n",
            "860/860 [==============================] - ETA: 0s - loss: 0.0372 - accuracy: 0.9862\n",
            "Epoch 40: val_accuracy improved from 0.98999 to 0.99047, saving model to Tomato_MobileNetV2_model1_Based_Augmented\n"
          ]
        },
        {
          "output_type": "stream",
          "name": "stderr",
          "text": [
            "WARNING:absl:Function `_wrapped_model` contains input name(s) mobilenetv2_1.00_224_input with unsupported characters which will be renamed to mobilenetv2_1_00_224_input in the SavedModel.\n",
            "WARNING:absl:Found untraced functions such as _jit_compiled_convolution_op, _jit_compiled_convolution_op, _jit_compiled_convolution_op, _jit_compiled_convolution_op, _jit_compiled_convolution_op while saving (showing 5 of 52). These functions will not be directly callable after loading.\n"
          ]
        },
        {
          "output_type": "stream",
          "name": "stdout",
          "text": [
            "\b\b\b\b\b\b\b\b\b\b\b\b\b\b\b\b\b\b\b\b\b\b\b\b\b\b\b\b\b\b\b\b\b\b\b\b\b\b\b\b\b\b\b\b\b\b\b\b\b\b\b\b\b\b\b\b\b\b\b\b\b\b\b\b\b\b\b\b\b\b\b\b\b\b\b\b\b\b\b\b\b\b\b\b\r860/860 [==============================] - 277s 323ms/step - loss: 0.0372 - accuracy: 0.9862 - val_loss: 0.0330 - val_accuracy: 0.9905 - lr: 1.0000e-05\n",
            "Epoch 41/100\n",
            "860/860 [==============================] - ETA: 0s - loss: 0.0357 - accuracy: 0.9873\n",
            "Epoch 41: val_accuracy did not improve from 0.99047\n",
            "860/860 [==============================] - 255s 296ms/step - loss: 0.0357 - accuracy: 0.9873 - val_loss: 0.0339 - val_accuracy: 0.9900 - lr: 1.0000e-05\n",
            "Epoch 42/100\n",
            "860/860 [==============================] - ETA: 0s - loss: 0.0328 - accuracy: 0.9881\n",
            "Epoch 42: val_accuracy did not improve from 0.99047\n",
            "860/860 [==============================] - 255s 296ms/step - loss: 0.0328 - accuracy: 0.9881 - val_loss: 0.0329 - val_accuracy: 0.9905 - lr: 1.0000e-05\n",
            "Epoch 43/100\n",
            "860/860 [==============================] - ETA: 0s - loss: 0.0345 - accuracy: 0.9874\n",
            "Epoch 43: val_accuracy improved from 0.99047 to 0.99071, saving model to Tomato_MobileNetV2_model1_Based_Augmented\n"
          ]
        },
        {
          "output_type": "stream",
          "name": "stderr",
          "text": [
            "WARNING:absl:Function `_wrapped_model` contains input name(s) mobilenetv2_1.00_224_input with unsupported characters which will be renamed to mobilenetv2_1_00_224_input in the SavedModel.\n",
            "WARNING:absl:Found untraced functions such as _jit_compiled_convolution_op, _jit_compiled_convolution_op, _jit_compiled_convolution_op, _jit_compiled_convolution_op, _jit_compiled_convolution_op while saving (showing 5 of 52). These functions will not be directly callable after loading.\n"
          ]
        },
        {
          "output_type": "stream",
          "name": "stdout",
          "text": [
            "\b\b\b\b\b\b\b\b\b\b\b\b\b\b\b\b\b\b\b\b\b\b\b\b\b\b\b\b\b\b\b\b\b\b\b\b\b\b\b\b\b\b\b\b\b\b\b\b\b\b\b\b\b\b\b\b\b\b\b\b\b\b\b\b\b\b\b\b\b\b\b\b\b\b\b\b\b\b\b\b\b\b\b\b\r860/860 [==============================] - 279s 325ms/step - loss: 0.0345 - accuracy: 0.9874 - val_loss: 0.0327 - val_accuracy: 0.9907 - lr: 1.0000e-05\n",
            "Epoch 44/100\n",
            "860/860 [==============================] - ETA: 0s - loss: 0.0342 - accuracy: 0.9876\n",
            "Epoch 44: val_accuracy improved from 0.99071 to 0.99118, saving model to Tomato_MobileNetV2_model1_Based_Augmented\n"
          ]
        },
        {
          "output_type": "stream",
          "name": "stderr",
          "text": [
            "WARNING:absl:Function `_wrapped_model` contains input name(s) mobilenetv2_1.00_224_input with unsupported characters which will be renamed to mobilenetv2_1_00_224_input in the SavedModel.\n",
            "WARNING:absl:Found untraced functions such as _jit_compiled_convolution_op, _jit_compiled_convolution_op, _jit_compiled_convolution_op, _jit_compiled_convolution_op, _jit_compiled_convolution_op while saving (showing 5 of 52). These functions will not be directly callable after loading.\n"
          ]
        },
        {
          "output_type": "stream",
          "name": "stdout",
          "text": [
            "\n",
            "Epoch 44: ReduceLROnPlateau reducing learning rate to 1.0000000656873453e-06.\n",
            "860/860 [==============================] - 279s 324ms/step - loss: 0.0342 - accuracy: 0.9876 - val_loss: 0.0327 - val_accuracy: 0.9912 - lr: 1.0000e-05\n",
            "Epoch 45/100\n",
            "860/860 [==============================] - ETA: 0s - loss: 0.0333 - accuracy: 0.9870\n",
            "Epoch 45: val_accuracy did not improve from 0.99118\n",
            "860/860 [==============================] - 256s 298ms/step - loss: 0.0333 - accuracy: 0.9870 - val_loss: 0.0327 - val_accuracy: 0.9912 - lr: 1.0000e-06\n",
            "Epoch 46/100\n",
            "860/860 [==============================] - ETA: 0s - loss: 0.0335 - accuracy: 0.9876\n",
            "Epoch 46: val_accuracy did not improve from 0.99118\n",
            "860/860 [==============================] - 256s 298ms/step - loss: 0.0335 - accuracy: 0.9876 - val_loss: 0.0326 - val_accuracy: 0.9912 - lr: 1.0000e-06\n",
            "Epoch 47/100\n",
            "860/860 [==============================] - ETA: 0s - loss: 0.0360 - accuracy: 0.9867\n",
            "Epoch 47: val_accuracy did not improve from 0.99118\n",
            "860/860 [==============================] - 262s 304ms/step - loss: 0.0360 - accuracy: 0.9867 - val_loss: 0.0326 - val_accuracy: 0.9912 - lr: 1.0000e-06\n",
            "Epoch 48/100\n",
            "860/860 [==============================] - ETA: 0s - loss: 0.0338 - accuracy: 0.9878\n",
            "Epoch 48: val_accuracy did not improve from 0.99118\n",
            "860/860 [==============================] - 262s 304ms/step - loss: 0.0338 - accuracy: 0.9878 - val_loss: 0.0325 - val_accuracy: 0.9912 - lr: 1.0000e-06\n",
            "Epoch 49/100\n",
            "860/860 [==============================] - ETA: 0s - loss: 0.0333 - accuracy: 0.9878\n",
            "Epoch 49: val_accuracy did not improve from 0.99118\n",
            "\n",
            "Epoch 49: ReduceLROnPlateau reducing learning rate to 1.0000001111620805e-07.\n",
            "860/860 [==============================] - 252s 293ms/step - loss: 0.0333 - accuracy: 0.9878 - val_loss: 0.0325 - val_accuracy: 0.9912 - lr: 1.0000e-06\n",
            "Epoch 50/100\n",
            "860/860 [==============================] - ETA: 0s - loss: 0.0333 - accuracy: 0.9887\n",
            "Epoch 50: val_accuracy did not improve from 0.99118\n",
            "860/860 [==============================] - 255s 296ms/step - loss: 0.0333 - accuracy: 0.9887 - val_loss: 0.0325 - val_accuracy: 0.9912 - lr: 1.0000e-07\n",
            "Epoch 51/100\n",
            "860/860 [==============================] - ETA: 0s - loss: 0.0325 - accuracy: 0.9875\n",
            "Epoch 51: val_accuracy did not improve from 0.99118\n",
            "860/860 [==============================] - 253s 294ms/step - loss: 0.0325 - accuracy: 0.9875 - val_loss: 0.0324 - val_accuracy: 0.9912 - lr: 1.0000e-07\n",
            "Epoch 52/100\n",
            "860/860 [==============================] - ETA: 0s - loss: 0.0351 - accuracy: 0.9860\n",
            "Epoch 52: val_accuracy did not improve from 0.99118\n",
            "860/860 [==============================] - 254s 295ms/step - loss: 0.0351 - accuracy: 0.9860 - val_loss: 0.0325 - val_accuracy: 0.9912 - lr: 1.0000e-07\n",
            "Epoch 53/100\n",
            "860/860 [==============================] - ETA: 0s - loss: 0.0329 - accuracy: 0.9880\n",
            "Epoch 53: val_accuracy did not improve from 0.99118\n",
            "860/860 [==============================] - 256s 297ms/step - loss: 0.0329 - accuracy: 0.9880 - val_loss: 0.0325 - val_accuracy: 0.9912 - lr: 1.0000e-07\n",
            "Epoch 54/100\n",
            "860/860 [==============================] - ETA: 0s - loss: 0.0317 - accuracy: 0.9884\n",
            "Epoch 54: val_accuracy did not improve from 0.99118\n",
            "\n",
            "Epoch 54: ReduceLROnPlateau reducing learning rate to 1.000000082740371e-08.\n",
            "860/860 [==============================] - 256s 298ms/step - loss: 0.0317 - accuracy: 0.9884 - val_loss: 0.0325 - val_accuracy: 0.9912 - lr: 1.0000e-07\n",
            "Epoch 55/100\n",
            "860/860 [==============================] - ETA: 0s - loss: 0.0341 - accuracy: 0.9876\n",
            "Epoch 55: val_accuracy did not improve from 0.99118\n",
            "860/860 [==============================] - 260s 302ms/step - loss: 0.0341 - accuracy: 0.9876 - val_loss: 0.0325 - val_accuracy: 0.9912 - lr: 1.0000e-08\n",
            "Epoch 56/100\n",
            "860/860 [==============================] - ETA: 0s - loss: 0.0329 - accuracy: 0.9877\n",
            "Epoch 56: val_accuracy did not improve from 0.99118\n",
            "860/860 [==============================] - 254s 296ms/step - loss: 0.0329 - accuracy: 0.9877 - val_loss: 0.0325 - val_accuracy: 0.9912 - lr: 1.0000e-08\n",
            "Epoch 57/100\n",
            "860/860 [==============================] - ETA: 0s - loss: 0.0358 - accuracy: 0.9872\n",
            "Epoch 57: val_accuracy did not improve from 0.99118\n",
            "860/860 [==============================] - 256s 298ms/step - loss: 0.0358 - accuracy: 0.9872 - val_loss: 0.0325 - val_accuracy: 0.9912 - lr: 1.0000e-08\n",
            "Epoch 58/100\n",
            "860/860 [==============================] - ETA: 0s - loss: 0.0314 - accuracy: 0.9883\n",
            "Epoch 58: val_accuracy did not improve from 0.99118\n",
            "860/860 [==============================] - 261s 303ms/step - loss: 0.0314 - accuracy: 0.9883 - val_loss: 0.0324 - val_accuracy: 0.9912 - lr: 1.0000e-08\n",
            "Epoch 59/100\n",
            "860/860 [==============================] - ETA: 0s - loss: 0.0329 - accuracy: 0.9878\n",
            "Epoch 59: val_accuracy did not improve from 0.99118\n",
            "\n",
            "Epoch 59: ReduceLROnPlateau reducing learning rate to 1.000000082740371e-09.\n",
            "860/860 [==============================] - 258s 300ms/step - loss: 0.0329 - accuracy: 0.9878 - val_loss: 0.0324 - val_accuracy: 0.9912 - lr: 1.0000e-08\n",
            "Epoch 60/100\n",
            "860/860 [==============================] - ETA: 0s - loss: 0.0335 - accuracy: 0.9878\n",
            "Epoch 60: val_accuracy did not improve from 0.99118\n",
            "860/860 [==============================] - 258s 300ms/step - loss: 0.0335 - accuracy: 0.9878 - val_loss: 0.0324 - val_accuracy: 0.9912 - lr: 1.0000e-09\n",
            "Epoch 61/100\n",
            "860/860 [==============================] - ETA: 0s - loss: 0.0337 - accuracy: 0.9873\n",
            "Epoch 61: val_accuracy did not improve from 0.99118\n",
            "860/860 [==============================] - 255s 297ms/step - loss: 0.0337 - accuracy: 0.9873 - val_loss: 0.0325 - val_accuracy: 0.9912 - lr: 1.0000e-09\n",
            "Epoch 62/100\n",
            "860/860 [==============================] - ETA: 0s - loss: 0.0339 - accuracy: 0.9873\n",
            "Epoch 62: val_accuracy did not improve from 0.99118\n",
            "860/860 [==============================] - 254s 295ms/step - loss: 0.0339 - accuracy: 0.9873 - val_loss: 0.0325 - val_accuracy: 0.9912 - lr: 1.0000e-09\n",
            "Epoch 63/100\n",
            "860/860 [==============================] - ETA: 0s - loss: 0.0336 - accuracy: 0.9878\n",
            "Epoch 63: val_accuracy did not improve from 0.99118\n",
            "860/860 [==============================] - 254s 295ms/step - loss: 0.0336 - accuracy: 0.9878 - val_loss: 0.0325 - val_accuracy: 0.9912 - lr: 1.0000e-09\n",
            "Epoch 64/100\n",
            "860/860 [==============================] - ETA: 0s - loss: 0.0321 - accuracy: 0.9880\n",
            "Epoch 64: val_accuracy did not improve from 0.99118\n",
            "Restoring model weights from the end of the best epoch: 44.\n",
            "\n",
            "Epoch 64: ReduceLROnPlateau reducing learning rate to 1.000000082740371e-10.\n",
            "860/860 [==============================] - 256s 298ms/step - loss: 0.0321 - accuracy: 0.9880 - val_loss: 0.0325 - val_accuracy: 0.9912 - lr: 1.0000e-09\n",
            "Epoch 64: early stopping\n"
          ]
        }
      ]
    },
    {
      "cell_type": "code",
      "source": [
        "#-----------------------------------------------------------\n",
        "# Retrieve a list of list results on training and test data\n",
        "# sets for each training epoch\n",
        "#-----------------------------------------------------------\n",
        "acc      = history_MobileNetV2_model_1.history['accuracy' ]\n",
        "val_acc  = history_MobileNetV2_model_1.history['val_accuracy' ]\n",
        "loss     = history_MobileNetV2_model_1.history['loss' ]\n",
        "val_loss = history_MobileNetV2_model_1.history['val_loss' ]\n",
        "\n",
        "epochs   = range(len(acc)) # Get number of epochs\n",
        "\n",
        "#------------------------------------------------\n",
        "# Plot training and validation accuracy per epoch\n",
        "#------------------------------------------------\n",
        "plt.plot  (epochs, acc )\n",
        "plt.plot  (epochs, val_acc )\n",
        "plt.title ('Training and validation accuracy MobileNetV2 Model 1')\n",
        "plt.legend(['train', 'val'], loc='upper left')\n",
        "plt.figure()\n",
        "\n",
        "#------------------------------------------------\n",
        "# Plot training and validation loss per epoch\n",
        "#------------------------------------------------\n",
        "plt.plot  (epochs, loss)\n",
        "plt.plot  (epochs, val_loss)\n",
        "plt.title ('Training and validation loss MobileNetV2 Model 1')\n",
        "plt.legend(['train', 'val'], loc='upper left')"
      ],
      "metadata": {
        "colab": {
          "base_uri": "https://localhost:8080/",
          "height": 904
        },
        "id": "ZGPTkrloSp0q",
        "outputId": "5ecc38fb-4e04-4507-96e6-c95586a0603b"
      },
      "execution_count": null,
      "outputs": [
        {
          "output_type": "execute_result",
          "data": {
            "text/plain": [
              "<matplotlib.legend.Legend at 0x7f5a1419a2f0>"
            ]
          },
          "metadata": {},
          "execution_count": 15
        },
        {
          "output_type": "display_data",
          "data": {
            "text/plain": [
              "<Figure size 640x480 with 1 Axes>"
            ],
            "image/png": "[encoded data removed]"
          },
          "metadata": {}
        },
        {
          "output_type": "display_data",
          "data": {
            "text/plain": [
              "<Figure size 640x480 with 1 Axes>"
            ],
            "image/png": "[encoded data removed]"
          },
          "metadata": {}
        }
      ]
    },
    {
      "cell_type": "code",
      "source": [
        "!zip -r /content/Tomato_MobileNetV2_model1_Based_Augmented.zip /content/Tomato_MobileNetV2_model1_Based_Augmented"
      ],
      "metadata": {
        "colab": {
          "base_uri": "https://localhost:8080/"
        },
        "id": "mTS_kor0SqTc",
        "outputId": "6a3eb40c-ed89-497e-9b2e-dfd3b0419d84"
      },
      "execution_count": null,
      "outputs": [
        {
          "output_type": "stream",
          "name": "stdout",
          "text": [
            "  adding: content/Tomato_MobileNetV2_model1_Based_Augmented/ (stored 0%)\n",
            "  adding: content/Tomato_MobileNetV2_model1_Based_Augmented/variables/ (stored 0%)\n",
            "  adding: content/Tomato_MobileNetV2_model1_Based_Augmented/variables/variables.index (deflated 77%)\n",
            "  adding: content/Tomato_MobileNetV2_model1_Based_Augmented/variables/variables.data-00000-of-00001 (deflated 10%)\n",
            "  adding: content/Tomato_MobileNetV2_model1_Based_Augmented/assets/ (stored 0%)\n",
            "  adding: content/Tomato_MobileNetV2_model1_Based_Augmented/keras_metadata.pb (deflated 96%)\n",
            "  adding: content/Tomato_MobileNetV2_model1_Based_Augmented/fingerprint.pb (stored 0%)\n",
            "  adding: content/Tomato_MobileNetV2_model1_Based_Augmented/saved_model.pb (deflated 91%)\n"
          ]
        }
      ]
    },
    {
      "cell_type": "markdown",
      "source": [
        "MobileNetV2 Model 2"
      ],
      "metadata": {
        "id": "GfyIylsfSqe_"
      }
    },
    {
      "cell_type": "code",
      "source": [
        "# Difine the callbacks\n",
        "# Save the best model\n",
        "checkpoint_callback = ModelCheckpoint(filepath=\"Tomato_MobileNetV2_model2_Based_Augmented\", save_best_only=True, monitor=\"val_accuracy\", mode=\"max\", verbose=1)\n",
        "\n",
        "# Early stopping\n",
        "early_stopping_callback = EarlyStopping(monitor=\"val_accuracy\", mode=\"max\", patience=20, verbose=1, restore_best_weights=True)\n",
        "\n",
        "# Reduce learning rate\n",
        "reduce_lr_callback = ReduceLROnPlateau(monitor=\"val_loss\", factor=0.1, patience=5, verbose=1, mode=\"min\", min_delta=0.0001, cooldown=0, min_lr=0)\n",
        "\n",
        "# Callbacks list\n",
        "callbacks=[checkpoint_callback, early_stopping_callback, reduce_lr_callback]"
      ],
      "metadata": {
        "id": "0MvkNAi1S4Jq"
      },
      "execution_count": 7,
      "outputs": []
    },
    {
      "cell_type": "code",
      "source": [
        "# Define DIY Model\n",
        "MobileNetV2_2 = tf.keras.models.Sequential([\n",
        "    # MobileNetV2 Layer\n",
        "    MobileNetV2(include_top=False,weights='imagenet',input_shape=(224, 224, 3)),\n",
        "    # Global Average Pooling Layer\n",
        "    tf.keras.layers.GlobalAveragePooling2D(),\n",
        "    # Drop Out Layer\n",
        "    tf.keras.layers.Dropout(0.2),\n",
        "    # 256 neuron hidden layer\n",
        "    tf.keras.layers.Dense(256, activation='relu'),\n",
        "    # Output\n",
        "    tf.keras.layers.Dense(9, activation='softmax') \n",
        "  ])\n",
        "\n",
        "\n",
        "# Compile Model\n",
        "MobileNetV2_2.compile(loss='categorical_crossentropy',optimizer=tf.keras.optimizers.Adam(), metrics=['accuracy']) \n",
        "\n",
        "# Model Summary\n",
        "MobileNetV2_2.summary()"
      ],
      "metadata": {
        "id": "94W63Eo9S4no",
        "colab": {
          "base_uri": "https://localhost:8080/"
        },
        "outputId": "4596f93d-2187-4442-ef56-508781e0a1d6"
      },
      "execution_count": 8,
      "outputs": [
        {
          "output_type": "stream",
          "name": "stdout",
          "text": [
            "Downloading data from https://storage.googleapis.com/tensorflow/keras-applications/mobilenet_v2/mobilenet_v2_weights_tf_dim_ordering_tf_kernels_1.0_224_no_top.h5\n",
            "9406464/9406464 [==============================] - 1s 0us/step\n",
            "Model: \"sequential\"\n",
            "_________________________________________________________________\n",
            " Layer (type)                Output Shape              Param #   \n",
            "=================================================================\n",
            " mobilenetv2_1.00_224 (Funct  (None, 7, 7, 1280)       2257984   \n",
            " ional)                                                          \n",
            "                                                                 \n",
            " global_average_pooling2d (G  (None, 1280)             0         \n",
            " lobalAveragePooling2D)                                          \n",
            "                                                                 \n",
            " dropout (Dropout)           (None, 1280)              0         \n",
            "                                                                 \n",
            " dense (Dense)               (None, 256)               327936    \n",
            "                                                                 \n",
            " dense_1 (Dense)             (None, 9)                 2313      \n",
            "                                                                 \n",
            "=================================================================\n",
            "Total params: 2,588,233\n",
            "Trainable params: 2,554,121\n",
            "Non-trainable params: 34,112\n",
            "_________________________________________________________________\n"
          ]
        }
      ]
    },
    {
      "cell_type": "code",
      "source": [
        "# Define the number of epochs\n",
        "num_epochs = 100\n",
        "\n",
        "# Train the model\n",
        "history_MobileNetV2_model_2 = MobileNetV2_2.fit(train_generator, epochs=num_epochs, validation_data=validation_generator, callbacks=callbacks)\n"
      ],
      "metadata": {
        "id": "Y7OczpcJS4t-",
        "colab": {
          "base_uri": "https://localhost:8080/"
        },
        "outputId": "44d2c7df-7fa2-4a79-9579-3cb5f1b08e9d"
      },
      "execution_count": 9,
      "outputs": [
        {
          "output_type": "stream",
          "name": "stdout",
          "text": [
            "Epoch 1/100\n",
            "860/860 [==============================] - ETA: 0s - loss: 0.5140 - accuracy: 0.8356\n",
            "Epoch 1: val_accuracy improved from -inf to 0.23255, saving model to Tomato_MobileNetV2_model2_Based_Augmented\n"
          ]
        },
        {
          "output_type": "stream",
          "name": "stderr",
          "text": [
            "WARNING:absl:Function `_wrapped_model` contains input name(s) mobilenetv2_1.00_224_input with unsupported characters which will be renamed to mobilenetv2_1_00_224_input in the SavedModel.\n",
            "WARNING:absl:`mobilenetv2_1.00_224_input` is not a valid tf.function parameter name. Sanitizing to `mobilenetv2_1_00_224_input`.\n",
            "WARNING:absl:`mobilenetv2_1.00_224_input` is not a valid tf.function parameter name. Sanitizing to `mobilenetv2_1_00_224_input`.\n",
            "WARNING:absl:`mobilenetv2_1.00_224_input` is not a valid tf.function parameter name. Sanitizing to `mobilenetv2_1_00_224_input`.\n",
            "WARNING:absl:Found untraced functions such as _jit_compiled_convolution_op, _jit_compiled_convolution_op, _jit_compiled_convolution_op, _jit_compiled_convolution_op, _jit_compiled_convolution_op while saving (showing 5 of 52). These functions will not be directly callable after loading.\n"
          ]
        },
        {
          "output_type": "stream",
          "name": "stdout",
          "text": [
            "\b\b\b\b\b\b\b\b\b\b\b\b\b\b\b\b\b\b\b\b\b\b\b\b\b\b\b\b\b\b\b\b\b\b\b\b\b\b\b\b\b\b\b\b\b\b\b\b\b\b\b\b\b\b\b\b\b\b\b\b\b\b\b\b\b\b\b\b\b\b\b\b\b\b\b\b\b\b\b\b\b\b\b\b\r860/860 [==============================] - 340s 348ms/step - loss: 0.5140 - accuracy: 0.8356 - val_loss: 13.5603 - val_accuracy: 0.2325 - lr: 0.0010\n",
            "Epoch 2/100\n",
            "860/860 [==============================] - ETA: 0s - loss: 0.2843 - accuracy: 0.9100\n",
            "Epoch 2: val_accuracy did not improve from 0.23255\n",
            "860/860 [==============================] - 267s 310ms/step - loss: 0.2843 - accuracy: 0.9100 - val_loss: 15.1644 - val_accuracy: 0.2109 - lr: 0.0010\n",
            "Epoch 3/100\n",
            "860/860 [==============================] - ETA: 0s - loss: 0.2546 - accuracy: 0.9188\n",
            "Epoch 3: val_accuracy improved from 0.23255 to 0.66166, saving model to Tomato_MobileNetV2_model2_Based_Augmented\n"
          ]
        },
        {
          "output_type": "stream",
          "name": "stderr",
          "text": [
            "WARNING:absl:Function `_wrapped_model` contains input name(s) mobilenetv2_1.00_224_input with unsupported characters which will be renamed to mobilenetv2_1_00_224_input in the SavedModel.\n",
            "WARNING:absl:`mobilenetv2_1.00_224_input` is not a valid tf.function parameter name. Sanitizing to `mobilenetv2_1_00_224_input`.\n",
            "WARNING:absl:`mobilenetv2_1.00_224_input` is not a valid tf.function parameter name. Sanitizing to `mobilenetv2_1_00_224_input`.\n",
            "WARNING:absl:Found untraced functions such as _jit_compiled_convolution_op, _jit_compiled_convolution_op, _jit_compiled_convolution_op, _jit_compiled_convolution_op, _jit_compiled_convolution_op while saving (showing 5 of 52). These functions will not be directly callable after loading.\n"
          ]
        },
        {
          "output_type": "stream",
          "name": "stdout",
          "text": [
            "\b\b\b\b\b\b\b\b\b\b\b\b\b\b\b\b\b\b\b\b\b\b\b\b\b\b\b\b\b\b\b\b\b\b\b\b\b\b\b\b\b\b\b\b\b\b\b\b\b\b\b\b\b\b\b\b\b\b\b\b\b\b\b\b\b\b\b\b\b\b\b\b\b\b\b\b\b\b\b\b\b\b\b\b\r860/860 [==============================] - 287s 334ms/step - loss: 0.2546 - accuracy: 0.9188 - val_loss: 1.5326 - val_accuracy: 0.6617 - lr: 0.0010\n",
            "Epoch 4/100\n",
            "860/860 [==============================] - ETA: 0s - loss: 0.2208 - accuracy: 0.9291\n",
            "Epoch 4: val_accuracy improved from 0.66166 to 0.79652, saving model to Tomato_MobileNetV2_model2_Based_Augmented\n"
          ]
        },
        {
          "output_type": "stream",
          "name": "stderr",
          "text": [
            "WARNING:absl:Function `_wrapped_model` contains input name(s) mobilenetv2_1.00_224_input with unsupported characters which will be renamed to mobilenetv2_1_00_224_input in the SavedModel.\n",
            "WARNING:absl:Found untraced functions such as _jit_compiled_convolution_op, _jit_compiled_convolution_op, _jit_compiled_convolution_op, _jit_compiled_convolution_op, _jit_compiled_convolution_op while saving (showing 5 of 52). These functions will not be directly callable after loading.\n"
          ]
        },
        {
          "output_type": "stream",
          "name": "stdout",
          "text": [
            "\b\b\b\b\b\b\b\b\b\b\b\b\b\b\b\b\b\b\b\b\b\b\b\b\b\b\b\b\b\b\b\b\b\b\b\b\b\b\b\b\b\b\b\b\b\b\b\b\b\b\b\b\b\b\b\b\b\b\b\b\b\b\b\b\b\b\b\b\b\b\b\b\b\b\b\b\b\b\b\b\b\b\b\b\r860/860 [==============================] - 289s 336ms/step - loss: 0.2208 - accuracy: 0.9291 - val_loss: 0.7725 - val_accuracy: 0.7965 - lr: 0.0010\n",
            "Epoch 5/100\n",
            "860/860 [==============================] - ETA: 0s - loss: 0.1973 - accuracy: 0.9363\n",
            "Epoch 5: val_accuracy did not improve from 0.79652\n",
            "860/860 [==============================] - 265s 308ms/step - loss: 0.1973 - accuracy: 0.9363 - val_loss: 4.1137 - val_accuracy: 0.4894 - lr: 0.0010\n",
            "Epoch 6/100\n",
            "860/860 [==============================] - ETA: 0s - loss: 0.1897 - accuracy: 0.9382\n",
            "Epoch 6: val_accuracy did not improve from 0.79652\n",
            "860/860 [==============================] - 264s 307ms/step - loss: 0.1897 - accuracy: 0.9382 - val_loss: 2.2901 - val_accuracy: 0.6474 - lr: 0.0010\n",
            "Epoch 7/100\n",
            "860/860 [==============================] - ETA: 0s - loss: 0.1776 - accuracy: 0.9418\n",
            "Epoch 7: val_accuracy did not improve from 0.79652\n",
            "860/860 [==============================] - 266s 309ms/step - loss: 0.1776 - accuracy: 0.9418 - val_loss: 4.3331 - val_accuracy: 0.4182 - lr: 0.0010\n",
            "Epoch 8/100\n",
            "860/860 [==============================] - ETA: 0s - loss: 0.1615 - accuracy: 0.9468\n",
            "Epoch 8: val_accuracy did not improve from 0.79652\n",
            "860/860 [==============================] - 265s 309ms/step - loss: 0.1615 - accuracy: 0.9468 - val_loss: 3.7120 - val_accuracy: 0.5571 - lr: 0.0010\n",
            "Epoch 9/100\n",
            "860/860 [==============================] - ETA: 0s - loss: 0.1582 - accuracy: 0.9502\n",
            "Epoch 9: val_accuracy did not improve from 0.79652\n",
            "\n",
            "Epoch 9: ReduceLROnPlateau reducing learning rate to 0.00010000000474974513.\n",
            "860/860 [==============================] - 271s 315ms/step - loss: 0.1582 - accuracy: 0.9502 - val_loss: 1.2647 - val_accuracy: 0.7601 - lr: 0.0010\n",
            "Epoch 10/100\n",
            "860/860 [==============================] - ETA: 0s - loss: 0.0961 - accuracy: 0.9666\n",
            "Epoch 10: val_accuracy improved from 0.79652 to 0.98570, saving model to Tomato_MobileNetV2_model2_Based_Augmented\n"
          ]
        },
        {
          "output_type": "stream",
          "name": "stderr",
          "text": [
            "WARNING:absl:Function `_wrapped_model` contains input name(s) mobilenetv2_1.00_224_input with unsupported characters which will be renamed to mobilenetv2_1_00_224_input in the SavedModel.\n",
            "WARNING:absl:Found untraced functions such as _jit_compiled_convolution_op, _jit_compiled_convolution_op, _jit_compiled_convolution_op, _jit_compiled_convolution_op, _jit_compiled_convolution_op while saving (showing 5 of 52). These functions will not be directly callable after loading.\n"
          ]
        },
        {
          "output_type": "stream",
          "name": "stdout",
          "text": [
            "\b\b\b\b\b\b\b\b\b\b\b\b\b\b\b\b\b\b\b\b\b\b\b\b\b\b\b\b\b\b\b\b\b\b\b\b\b\b\b\b\b\b\b\b\b\b\b\b\b\b\b\b\b\b\b\b\b\b\b\b\b\b\b\b\b\b\b\b\b\b\b\b\b\b\b\b\b\b\b\b\b\b\b\b\r860/860 [==============================] - 291s 338ms/step - loss: 0.0961 - accuracy: 0.9666 - val_loss: 0.0461 - val_accuracy: 0.9857 - lr: 1.0000e-04\n",
            "Epoch 11/100\n",
            "860/860 [==============================] - ETA: 0s - loss: 0.0731 - accuracy: 0.9740\n",
            "Epoch 11: val_accuracy did not improve from 0.98570\n",
            "860/860 [==============================] - 268s 312ms/step - loss: 0.0731 - accuracy: 0.9740 - val_loss: 0.0535 - val_accuracy: 0.9824 - lr: 1.0000e-04\n",
            "Epoch 12/100\n",
            "860/860 [==============================] - ETA: 0s - loss: 0.0696 - accuracy: 0.9750\n",
            "Epoch 12: val_accuracy did not improve from 0.98570\n",
            "860/860 [==============================] - 274s 318ms/step - loss: 0.0696 - accuracy: 0.9750 - val_loss: 0.0856 - val_accuracy: 0.9750 - lr: 1.0000e-04\n",
            "Epoch 13/100\n",
            "860/860 [==============================] - ETA: 0s - loss: 0.0658 - accuracy: 0.9763\n",
            "Epoch 13: val_accuracy did not improve from 0.98570\n",
            "860/860 [==============================] - 264s 307ms/step - loss: 0.0658 - accuracy: 0.9763 - val_loss: 0.0517 - val_accuracy: 0.9843 - lr: 1.0000e-04\n",
            "Epoch 14/100\n",
            "860/860 [==============================] - ETA: 0s - loss: 0.0587 - accuracy: 0.9782\n",
            "Epoch 14: val_accuracy improved from 0.98570 to 0.98737, saving model to Tomato_MobileNetV2_model2_Based_Augmented\n"
          ]
        },
        {
          "output_type": "stream",
          "name": "stderr",
          "text": [
            "WARNING:absl:Function `_wrapped_model` contains input name(s) mobilenetv2_1.00_224_input with unsupported characters which will be renamed to mobilenetv2_1_00_224_input in the SavedModel.\n",
            "WARNING:absl:Found untraced functions such as _jit_compiled_convolution_op, _jit_compiled_convolution_op, _jit_compiled_convolution_op, _jit_compiled_convolution_op, _jit_compiled_convolution_op while saving (showing 5 of 52). These functions will not be directly callable after loading.\n"
          ]
        },
        {
          "output_type": "stream",
          "name": "stdout",
          "text": [
            "\b\b\b\b\b\b\b\b\b\b\b\b\b\b\b\b\b\b\b\b\b\b\b\b\b\b\b\b\b\b\b\b\b\b\b\b\b\b\b\b\b\b\b\b\b\b\b\b\b\b\b\b\b\b\b\b\b\b\b\b\b\b\b\b\b\b\b\b\b\b\b\b\b\b\b\b\b\b\b\b\b\b\b\b\r860/860 [==============================] - 287s 334ms/step - loss: 0.0587 - accuracy: 0.9782 - val_loss: 0.0399 - val_accuracy: 0.9874 - lr: 1.0000e-04\n",
            "Epoch 15/100\n",
            "860/860 [==============================] - ETA: 0s - loss: 0.0576 - accuracy: 0.9787\n",
            "Epoch 15: val_accuracy did not improve from 0.98737\n",
            "860/860 [==============================] - 265s 309ms/step - loss: 0.0576 - accuracy: 0.9787 - val_loss: 0.0608 - val_accuracy: 0.9821 - lr: 1.0000e-04\n",
            "Epoch 16/100\n",
            "860/860 [==============================] - ETA: 0s - loss: 0.0548 - accuracy: 0.9802\n",
            "Epoch 16: val_accuracy did not improve from 0.98737\n",
            "860/860 [==============================] - 265s 308ms/step - loss: 0.0548 - accuracy: 0.9802 - val_loss: 0.0501 - val_accuracy: 0.9828 - lr: 1.0000e-04\n",
            "Epoch 17/100\n",
            "860/860 [==============================] - ETA: 0s - loss: 0.0510 - accuracy: 0.9809\n",
            "Epoch 17: val_accuracy improved from 0.98737 to 0.98904, saving model to Tomato_MobileNetV2_model2_Based_Augmented\n"
          ]
        },
        {
          "output_type": "stream",
          "name": "stderr",
          "text": [
            "WARNING:absl:Function `_wrapped_model` contains input name(s) mobilenetv2_1.00_224_input with unsupported characters which will be renamed to mobilenetv2_1_00_224_input in the SavedModel.\n",
            "WARNING:absl:Found untraced functions such as _jit_compiled_convolution_op, _jit_compiled_convolution_op, _jit_compiled_convolution_op, _jit_compiled_convolution_op, _jit_compiled_convolution_op while saving (showing 5 of 52). These functions will not be directly callable after loading.\n"
          ]
        },
        {
          "output_type": "stream",
          "name": "stdout",
          "text": [
            "\b\b\b\b\b\b\b\b\b\b\b\b\b\b\b\b\b\b\b\b\b\b\b\b\b\b\b\b\b\b\b\b\b\b\b\b\b\b\b\b\b\b\b\b\b\b\b\b\b\b\b\b\b\b\b\b\b\b\b\b\b\b\b\b\b\b\b\b\b\b\b\b\b\b\b\b\b\b\b\b\b\b\b\b\r860/860 [==============================] - 287s 334ms/step - loss: 0.0510 - accuracy: 0.9809 - val_loss: 0.0397 - val_accuracy: 0.9890 - lr: 1.0000e-04\n",
            "Epoch 18/100\n",
            "860/860 [==============================] - ETA: 0s - loss: 0.0517 - accuracy: 0.9809\n",
            "Epoch 18: val_accuracy improved from 0.98904 to 0.98975, saving model to Tomato_MobileNetV2_model2_Based_Augmented\n"
          ]
        },
        {
          "output_type": "stream",
          "name": "stderr",
          "text": [
            "WARNING:absl:Function `_wrapped_model` contains input name(s) mobilenetv2_1.00_224_input with unsupported characters which will be renamed to mobilenetv2_1_00_224_input in the SavedModel.\n",
            "WARNING:absl:Found untraced functions such as _jit_compiled_convolution_op, _jit_compiled_convolution_op, _jit_compiled_convolution_op, _jit_compiled_convolution_op, _jit_compiled_convolution_op while saving (showing 5 of 52). These functions will not be directly callable after loading.\n"
          ]
        },
        {
          "output_type": "stream",
          "name": "stdout",
          "text": [
            "\b\b\b\b\b\b\b\b\b\b\b\b\b\b\b\b\b\b\b\b\b\b\b\b\b\b\b\b\b\b\b\b\b\b\b\b\b\b\b\b\b\b\b\b\b\b\b\b\b\b\b\b\b\b\b\b\b\b\b\b\b\b\b\b\b\b\b\b\b\b\b\b\b\b\b\b\b\b\b\b\b\b\b\b\r860/860 [==============================] - 287s 334ms/step - loss: 0.0517 - accuracy: 0.9809 - val_loss: 0.0377 - val_accuracy: 0.9898 - lr: 1.0000e-04\n",
            "Epoch 19/100\n",
            "860/860 [==============================] - ETA: 0s - loss: 0.0490 - accuracy: 0.9826\n",
            "Epoch 19: val_accuracy did not improve from 0.98975\n",
            "860/860 [==============================] - 271s 315ms/step - loss: 0.0490 - accuracy: 0.9826 - val_loss: 0.0447 - val_accuracy: 0.9852 - lr: 1.0000e-04\n",
            "Epoch 20/100\n",
            "860/860 [==============================] - ETA: 0s - loss: 0.0460 - accuracy: 0.9827\n",
            "Epoch 20: val_accuracy improved from 0.98975 to 0.99071, saving model to Tomato_MobileNetV2_model2_Based_Augmented\n"
          ]
        },
        {
          "output_type": "stream",
          "name": "stderr",
          "text": [
            "WARNING:absl:Function `_wrapped_model` contains input name(s) mobilenetv2_1.00_224_input with unsupported characters which will be renamed to mobilenetv2_1_00_224_input in the SavedModel.\n",
            "WARNING:absl:Found untraced functions such as _jit_compiled_convolution_op, _jit_compiled_convolution_op, _jit_compiled_convolution_op, _jit_compiled_convolution_op, _jit_compiled_convolution_op while saving (showing 5 of 52). These functions will not be directly callable after loading.\n"
          ]
        },
        {
          "output_type": "stream",
          "name": "stdout",
          "text": [
            "\b\b\b\b\b\b\b\b\b\b\b\b\b\b\b\b\b\b\b\b\b\b\b\b\b\b\b\b\b\b\b\b\b\b\b\b\b\b\b\b\b\b\b\b\b\b\b\b\b\b\b\b\b\b\b\b\b\b\b\b\b\b\b\b\b\b\b\b\b\b\b\b\b\b\b\b\b\b\b\b\b\b\b\b\r860/860 [==============================] - 290s 338ms/step - loss: 0.0460 - accuracy: 0.9827 - val_loss: 0.0336 - val_accuracy: 0.9907 - lr: 1.0000e-04\n",
            "Epoch 21/100\n",
            "860/860 [==============================] - ETA: 0s - loss: 0.0471 - accuracy: 0.9828\n",
            "Epoch 21: val_accuracy did not improve from 0.99071\n",
            "860/860 [==============================] - 269s 312ms/step - loss: 0.0471 - accuracy: 0.9828 - val_loss: 0.0658 - val_accuracy: 0.9800 - lr: 1.0000e-04\n",
            "Epoch 22/100\n",
            "860/860 [==============================] - ETA: 0s - loss: 0.0429 - accuracy: 0.9845\n",
            "Epoch 22: val_accuracy did not improve from 0.99071\n",
            "860/860 [==============================] - 276s 320ms/step - loss: 0.0429 - accuracy: 0.9845 - val_loss: 0.0461 - val_accuracy: 0.9862 - lr: 1.0000e-04\n",
            "Epoch 23/100\n",
            "860/860 [==============================] - ETA: 0s - loss: 0.0410 - accuracy: 0.9839\n",
            "Epoch 23: val_accuracy did not improve from 0.99071\n",
            "860/860 [==============================] - 265s 308ms/step - loss: 0.0410 - accuracy: 0.9839 - val_loss: 0.0336 - val_accuracy: 0.9907 - lr: 1.0000e-04\n",
            "Epoch 24/100\n",
            "860/860 [==============================] - ETA: 0s - loss: 0.0442 - accuracy: 0.9835\n",
            "Epoch 24: val_accuracy improved from 0.99071 to 0.99095, saving model to Tomato_MobileNetV2_model2_Based_Augmented\n"
          ]
        },
        {
          "output_type": "stream",
          "name": "stderr",
          "text": [
            "WARNING:absl:Function `_wrapped_model` contains input name(s) mobilenetv2_1.00_224_input with unsupported characters which will be renamed to mobilenetv2_1_00_224_input in the SavedModel.\n",
            "WARNING:absl:Found untraced functions such as _jit_compiled_convolution_op, _jit_compiled_convolution_op, _jit_compiled_convolution_op, _jit_compiled_convolution_op, _jit_compiled_convolution_op while saving (showing 5 of 52). These functions will not be directly callable after loading.\n"
          ]
        },
        {
          "output_type": "stream",
          "name": "stdout",
          "text": [
            "\b\b\b\b\b\b\b\b\b\b\b\b\b\b\b\b\b\b\b\b\b\b\b\b\b\b\b\b\b\b\b\b\b\b\b\b\b\b\b\b\b\b\b\b\b\b\b\b\b\b\b\b\b\b\b\b\b\b\b\b\b\b\b\b\b\b\b\b\b\b\b\b\b\b\b\b\b\b\b\b\b\b\b\b\r860/860 [==============================] - 295s 343ms/step - loss: 0.0442 - accuracy: 0.9835 - val_loss: 0.0310 - val_accuracy: 0.9909 - lr: 1.0000e-04\n",
            "Epoch 25/100\n",
            "860/860 [==============================] - ETA: 0s - loss: 0.0400 - accuracy: 0.9855\n",
            "Epoch 25: val_accuracy did not improve from 0.99095\n",
            "860/860 [==============================] - 265s 308ms/step - loss: 0.0400 - accuracy: 0.9855 - val_loss: 0.0407 - val_accuracy: 0.9867 - lr: 1.0000e-04\n",
            "Epoch 26/100\n",
            "860/860 [==============================] - ETA: 0s - loss: 0.0374 - accuracy: 0.9860\n",
            "Epoch 26: val_accuracy did not improve from 0.99095\n",
            "860/860 [==============================] - 273s 317ms/step - loss: 0.0374 - accuracy: 0.9860 - val_loss: 0.0422 - val_accuracy: 0.9890 - lr: 1.0000e-04\n",
            "Epoch 27/100\n",
            "860/860 [==============================] - ETA: 0s - loss: 0.0402 - accuracy: 0.9861\n",
            "Epoch 27: val_accuracy did not improve from 0.99095\n",
            "860/860 [==============================] - 263s 305ms/step - loss: 0.0402 - accuracy: 0.9861 - val_loss: 0.0716 - val_accuracy: 0.9819 - lr: 1.0000e-04\n",
            "Epoch 28/100\n",
            "860/860 [==============================] - ETA: 0s - loss: 0.0350 - accuracy: 0.9864\n",
            "Epoch 28: val_accuracy did not improve from 0.99095\n",
            "860/860 [==============================] - 268s 312ms/step - loss: 0.0350 - accuracy: 0.9864 - val_loss: 0.0534 - val_accuracy: 0.9852 - lr: 1.0000e-04\n",
            "Epoch 29/100\n",
            "860/860 [==============================] - ETA: 0s - loss: 0.0339 - accuracy: 0.9881\n",
            "Epoch 29: val_accuracy did not improve from 0.99095\n",
            "\n",
            "Epoch 29: ReduceLROnPlateau reducing learning rate to 1.0000000474974514e-05.\n",
            "860/860 [==============================] - 278s 323ms/step - loss: 0.0339 - accuracy: 0.9881 - val_loss: 0.0406 - val_accuracy: 0.9888 - lr: 1.0000e-04\n",
            "Epoch 30/100\n",
            "860/860 [==============================] - ETA: 0s - loss: 0.0308 - accuracy: 0.9895\n",
            "Epoch 30: val_accuracy did not improve from 0.99095\n",
            "860/860 [==============================] - 273s 317ms/step - loss: 0.0308 - accuracy: 0.9895 - val_loss: 0.0371 - val_accuracy: 0.9895 - lr: 1.0000e-05\n",
            "Epoch 31/100\n",
            "860/860 [==============================] - ETA: 0s - loss: 0.0317 - accuracy: 0.9882\n",
            "Epoch 31: val_accuracy did not improve from 0.99095\n",
            "860/860 [==============================] - 279s 324ms/step - loss: 0.0317 - accuracy: 0.9882 - val_loss: 0.0383 - val_accuracy: 0.9895 - lr: 1.0000e-05\n",
            "Epoch 32/100\n",
            "860/860 [==============================] - ETA: 0s - loss: 0.0271 - accuracy: 0.9903\n",
            "Epoch 32: val_accuracy did not improve from 0.99095\n",
            "860/860 [==============================] - 279s 324ms/step - loss: 0.0271 - accuracy: 0.9903 - val_loss: 0.0385 - val_accuracy: 0.9890 - lr: 1.0000e-05\n",
            "Epoch 33/100\n",
            "860/860 [==============================] - ETA: 0s - loss: 0.0300 - accuracy: 0.9894\n",
            "Epoch 33: val_accuracy did not improve from 0.99095\n",
            "860/860 [==============================] - 280s 326ms/step - loss: 0.0300 - accuracy: 0.9894 - val_loss: 0.0419 - val_accuracy: 0.9878 - lr: 1.0000e-05\n",
            "Epoch 34/100\n",
            "860/860 [==============================] - ETA: 0s - loss: 0.0294 - accuracy: 0.9890\n",
            "Epoch 34: val_accuracy did not improve from 0.99095\n",
            "\n",
            "Epoch 34: ReduceLROnPlateau reducing learning rate to 1.0000000656873453e-06.\n",
            "860/860 [==============================] - 280s 326ms/step - loss: 0.0294 - accuracy: 0.9890 - val_loss: 0.0406 - val_accuracy: 0.9878 - lr: 1.0000e-05\n",
            "Epoch 35/100\n",
            "860/860 [==============================] - ETA: 0s - loss: 0.0266 - accuracy: 0.9903\n",
            "Epoch 35: val_accuracy did not improve from 0.99095\n",
            "860/860 [==============================] - 278s 323ms/step - loss: 0.0266 - accuracy: 0.9903 - val_loss: 0.0398 - val_accuracy: 0.9883 - lr: 1.0000e-06\n",
            "Epoch 36/100\n",
            "860/860 [==============================] - ETA: 0s - loss: 0.0259 - accuracy: 0.9909\n",
            "Epoch 36: val_accuracy did not improve from 0.99095\n",
            "860/860 [==============================] - 277s 322ms/step - loss: 0.0259 - accuracy: 0.9909 - val_loss: 0.0391 - val_accuracy: 0.9883 - lr: 1.0000e-06\n",
            "Epoch 37/100\n",
            "860/860 [==============================] - ETA: 0s - loss: 0.0275 - accuracy: 0.9895\n",
            "Epoch 37: val_accuracy did not improve from 0.99095\n",
            "860/860 [==============================] - 276s 321ms/step - loss: 0.0275 - accuracy: 0.9895 - val_loss: 0.0388 - val_accuracy: 0.9883 - lr: 1.0000e-06\n",
            "Epoch 38/100\n",
            "860/860 [==============================] - ETA: 0s - loss: 0.0254 - accuracy: 0.9904\n",
            "Epoch 38: val_accuracy did not improve from 0.99095\n",
            "860/860 [==============================] - 278s 323ms/step - loss: 0.0254 - accuracy: 0.9904 - val_loss: 0.0389 - val_accuracy: 0.9886 - lr: 1.0000e-06\n",
            "Epoch 39/100\n",
            "860/860 [==============================] - ETA: 0s - loss: 0.0267 - accuracy: 0.9905\n",
            "Epoch 39: val_accuracy did not improve from 0.99095\n",
            "\n",
            "Epoch 39: ReduceLROnPlateau reducing learning rate to 1.0000001111620805e-07.\n",
            "860/860 [==============================] - 280s 326ms/step - loss: 0.0267 - accuracy: 0.9905 - val_loss: 0.0388 - val_accuracy: 0.9886 - lr: 1.0000e-06\n",
            "Epoch 40/100\n",
            "860/860 [==============================] - ETA: 0s - loss: 0.0259 - accuracy: 0.9902\n",
            "Epoch 40: val_accuracy did not improve from 0.99095\n",
            "860/860 [==============================] - 276s 321ms/step - loss: 0.0259 - accuracy: 0.9902 - val_loss: 0.0387 - val_accuracy: 0.9888 - lr: 1.0000e-07\n",
            "Epoch 41/100\n",
            "860/860 [==============================] - ETA: 0s - loss: 0.0248 - accuracy: 0.9910\n",
            "Epoch 41: val_accuracy did not improve from 0.99095\n",
            "860/860 [==============================] - 275s 320ms/step - loss: 0.0248 - accuracy: 0.9910 - val_loss: 0.0387 - val_accuracy: 0.9888 - lr: 1.0000e-07\n",
            "Epoch 42/100\n",
            "860/860 [==============================] - ETA: 0s - loss: 0.0246 - accuracy: 0.9909\n",
            "Epoch 42: val_accuracy did not improve from 0.99095\n",
            "860/860 [==============================] - 277s 323ms/step - loss: 0.0246 - accuracy: 0.9909 - val_loss: 0.0386 - val_accuracy: 0.9888 - lr: 1.0000e-07\n",
            "Epoch 43/100\n",
            "860/860 [==============================] - ETA: 0s - loss: 0.0256 - accuracy: 0.9903\n",
            "Epoch 43: val_accuracy did not improve from 0.99095\n",
            "860/860 [==============================] - 278s 323ms/step - loss: 0.0256 - accuracy: 0.9903 - val_loss: 0.0386 - val_accuracy: 0.9888 - lr: 1.0000e-07\n",
            "Epoch 44/100\n",
            "860/860 [==============================] - ETA: 0s - loss: 0.0260 - accuracy: 0.9906\n",
            "Epoch 44: val_accuracy did not improve from 0.99095\n",
            "Restoring model weights from the end of the best epoch: 24.\n",
            "\n",
            "Epoch 44: ReduceLROnPlateau reducing learning rate to 1.000000082740371e-08.\n",
            "860/860 [==============================] - 275s 320ms/step - loss: 0.0260 - accuracy: 0.9906 - val_loss: 0.0385 - val_accuracy: 0.9886 - lr: 1.0000e-07\n",
            "Epoch 44: early stopping\n"
          ]
        }
      ]
    },
    {
      "cell_type": "code",
      "source": [],
      "metadata": {
        "id": "8lVdbAhmhDqk"
      },
      "execution_count": null,
      "outputs": []
    },
    {
      "cell_type": "code",
      "source": [
        "#-----------------------------------------------------------\n",
        "# Retrieve a list of list results on training and test data\n",
        "# sets for each training epoch\n",
        "#-----------------------------------------------------------\n",
        "acc      = history_MobileNetV2_model_2.history['accuracy' ]\n",
        "val_acc  = history_MobileNetV2_model_2.history['val_accuracy' ]\n",
        "loss     = history_MobileNetV2_model_2.history['loss' ]\n",
        "val_loss = history_MobileNetV2_model_2.history['val_loss' ]\n",
        "\n",
        "epochs   = range(len(acc)) # Get number of epochs\n",
        "\n",
        "#------------------------------------------------\n",
        "# Plot training and validation accuracy per epoch\n",
        "#------------------------------------------------\n",
        "plt.plot  (epochs, acc )\n",
        "plt.plot  (epochs, val_acc )\n",
        "plt.title ('Training and validation accuracy MobileNetV2 Model 2')\n",
        "plt.legend(['train', 'val'], loc='upper left')\n",
        "plt.figure()\n",
        "\n",
        "#------------------------------------------------\n",
        "# Plot training and validation loss per epoch\n",
        "#------------------------------------------------\n",
        "plt.plot  (epochs, loss)\n",
        "plt.plot  (epochs, val_loss)\n",
        "plt.title ('Training and validation loss MobileNetV2 Model 2')\n",
        "plt.legend(['train', 'val'], loc='upper left')"
      ],
      "metadata": {
        "id": "SOrMFG8US40j",
        "colab": {
          "base_uri": "https://localhost:8080/",
          "height": 904
        },
        "outputId": "7a726bd2-f879-438a-82ae-066b5106d804"
      },
      "execution_count": 10,
      "outputs": [
        {
          "output_type": "execute_result",
          "data": {
            "text/plain": [
              "<matplotlib.legend.Legend at 0x7f33f1864cd0>"
            ]
          },
          "metadata": {},
          "execution_count": 10
        },
        {
          "output_type": "display_data",
          "data": {
            "text/plain": [
              "<Figure size 640x480 with 1 Axes>"
            ],
            "image/png": "[encoded data removed]"
          },
          "metadata": {}
        },
        {
          "output_type": "display_data",
          "data": {
            "text/plain": [
              "<Figure size 640x480 with 1 Axes>"
            ],
            "image/png": "[encoded data removed]"
          },
          "metadata": {}
        }
      ]
    },
    {
      "cell_type": "code",
      "source": [
        "!zip -r /content/Tomato_MobileNetV2_model2_Based_Augmented.zip /content/Tomato_MobileNetV2_model2_Based_Augmented"
      ],
      "metadata": {
        "id": "2u78W49bS497",
        "colab": {
          "base_uri": "https://localhost:8080/"
        },
        "outputId": "6d9ed15e-cd93-4bab-c8cd-3d41e64fa468"
      },
      "execution_count": 11,
      "outputs": [
        {
          "output_type": "stream",
          "name": "stdout",
          "text": [
            "  adding: content/Tomato_MobileNetV2_model2_Based_Augmented/ (stored 0%)\n",
            "  adding: content/Tomato_MobileNetV2_model2_Based_Augmented/variables/ (stored 0%)\n",
            "  adding: content/Tomato_MobileNetV2_model2_Based_Augmented/variables/variables.index (deflated 77%)\n",
            "  adding: content/Tomato_MobileNetV2_model2_Based_Augmented/variables/variables.data-00000-of-00001 (deflated 8%)\n",
            "  adding: content/Tomato_MobileNetV2_model2_Based_Augmented/assets/ (stored 0%)\n",
            "  adding: content/Tomato_MobileNetV2_model2_Based_Augmented/keras_metadata.pb (deflated 96%)\n",
            "  adding: content/Tomato_MobileNetV2_model2_Based_Augmented/fingerprint.pb (stored 0%)\n",
            "  adding: content/Tomato_MobileNetV2_model2_Based_Augmented/saved_model.pb (deflated 91%)\n"
          ]
        }
      ]
    }
  ]
}