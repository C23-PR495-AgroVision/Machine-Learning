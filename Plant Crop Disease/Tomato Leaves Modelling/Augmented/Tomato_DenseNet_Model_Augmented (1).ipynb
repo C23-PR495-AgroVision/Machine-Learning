{
  "nbformat": 4,
  "nbformat_minor": 0,
  "metadata": {
    "colab": {
      "provenance": [],
      "gpuType": "T4"
    },
    "kernelspec": {
      "name": "python3",
      "display_name": "Python 3"
    },
    "language_info": {
      "name": "python"
    },
    "accelerator": "GPU"
  },
  "cells": [
    {
      "cell_type": "code",
      "execution_count": 1,
      "metadata": {
        "colab": {
          "base_uri": "https://localhost:8080/"
        },
        "id": "lZg8KIUw871a",
        "outputId": "6dda533d-d497-4c5d-d780-a552730f5d7d"
      },
      "outputs": [
        {
          "output_type": "stream",
          "name": "stdout",
          "text": [
            "Looking in indexes: https://pypi.org/simple, https://us-python.pkg.dev/colab-wheels/public/simple/\n",
            "Requirement already satisfied: matplotlib in /usr/local/lib/python3.10/dist-packages (3.7.1)\n",
            "Requirement already satisfied: contourpy>=1.0.1 in /usr/local/lib/python3.10/dist-packages (from matplotlib) (1.0.7)\n",
            "Requirement already satisfied: cycler>=0.10 in /usr/local/lib/python3.10/dist-packages (from matplotlib) (0.11.0)\n",
            "Requirement already satisfied: fonttools>=4.22.0 in /usr/local/lib/python3.10/dist-packages (from matplotlib) (4.39.3)\n",
            "Requirement already satisfied: kiwisolver>=1.0.1 in /usr/local/lib/python3.10/dist-packages (from matplotlib) (1.4.4)\n",
            "Requirement already satisfied: numpy>=1.20 in /usr/local/lib/python3.10/dist-packages (from matplotlib) (1.22.4)\n",
            "Requirement already satisfied: packaging>=20.0 in /usr/local/lib/python3.10/dist-packages (from matplotlib) (23.1)\n",
            "Requirement already satisfied: pillow>=6.2.0 in /usr/local/lib/python3.10/dist-packages (from matplotlib) (8.4.0)\n",
            "Requirement already satisfied: pyparsing>=2.3.1 in /usr/local/lib/python3.10/dist-packages (from matplotlib) (3.0.9)\n",
            "Requirement already satisfied: python-dateutil>=2.7 in /usr/local/lib/python3.10/dist-packages (from matplotlib) (2.8.2)\n",
            "Requirement already satisfied: six>=1.5 in /usr/local/lib/python3.10/dist-packages (from python-dateutil>=2.7->matplotlib) (1.16.0)\n"
          ]
        }
      ],
      "source": [
        "pip install matplotlib"
      ]
    },
    {
      "cell_type": "code",
      "source": [
        "pip install opendatasets"
      ],
      "metadata": {
        "colab": {
          "base_uri": "https://localhost:8080/"
        },
        "id": "i8Zs5Mui9d6-",
        "outputId": "170ef515-81ce-4253-cc3b-59720ac2a628"
      },
      "execution_count": 2,
      "outputs": [
        {
          "output_type": "stream",
          "name": "stdout",
          "text": [
            "Looking in indexes: https://pypi.org/simple, https://us-python.pkg.dev/colab-wheels/public/simple/\n",
            "Collecting opendatasets\n",
            "  Downloading opendatasets-0.1.22-py3-none-any.whl (15 kB)\n",
            "Requirement already satisfied: tqdm in /usr/local/lib/python3.10/dist-packages (from opendatasets) (4.65.0)\n",
            "Requirement already satisfied: kaggle in /usr/local/lib/python3.10/dist-packages (from opendatasets) (1.5.13)\n",
            "Requirement already satisfied: click in /usr/local/lib/python3.10/dist-packages (from opendatasets) (8.1.3)\n",
            "Requirement already satisfied: six>=1.10 in /usr/local/lib/python3.10/dist-packages (from kaggle->opendatasets) (1.16.0)\n",
            "Requirement already satisfied: certifi in /usr/local/lib/python3.10/dist-packages (from kaggle->opendatasets) (2022.12.7)\n",
            "Requirement already satisfied: python-dateutil in /usr/local/lib/python3.10/dist-packages (from kaggle->opendatasets) (2.8.2)\n",
            "Requirement already satisfied: requests in /usr/local/lib/python3.10/dist-packages (from kaggle->opendatasets) (2.27.1)\n",
            "Requirement already satisfied: python-slugify in /usr/local/lib/python3.10/dist-packages (from kaggle->opendatasets) (8.0.1)\n",
            "Requirement already satisfied: urllib3 in /usr/local/lib/python3.10/dist-packages (from kaggle->opendatasets) (1.26.15)\n",
            "Requirement already satisfied: text-unidecode>=1.3 in /usr/local/lib/python3.10/dist-packages (from python-slugify->kaggle->opendatasets) (1.3)\n",
            "Requirement already satisfied: charset-normalizer~=2.0.0 in /usr/local/lib/python3.10/dist-packages (from requests->kaggle->opendatasets) (2.0.12)\n",
            "Requirement already satisfied: idna<4,>=2.5 in /usr/local/lib/python3.10/dist-packages (from requests->kaggle->opendatasets) (3.4)\n",
            "Installing collected packages: opendatasets\n",
            "Successfully installed opendatasets-0.1.22\n"
          ]
        }
      ]
    },
    {
      "cell_type": "code",
      "source": [
        "# Library to dataset\n",
        "import opendatasets as od\n",
        "import os\n",
        "import zipfile\n",
        "import numpy as np\n",
        "\n",
        "# Surpress Warnings\n",
        "import warnings\n",
        "warnings.filterwarnings('ignore')\n",
        "os.environ['TF_CPP_MIN_LOG_LEVEL'] = '3' \n",
        "# library visualization\n",
        "import matplotlib.pyplot as plt\n",
        "\n",
        "# Library Tensorflow\n",
        "import tensorflow as tf\n",
        "from tensorflow import keras\n",
        "from tensorflow.keras.preprocessing.image import ImageDataGenerator\n",
        "from tensorflow.keras.callbacks import ModelCheckpoint, EarlyStopping, ReduceLROnPlateau\n",
        "from tensorflow.keras.applications.densenet import DenseNet121\n",
        "# Others\n",
        "import shutil\n",
        "import random"
      ],
      "metadata": {
        "id": "VlWwG0iy9f_9"
      },
      "execution_count": 3,
      "outputs": []
    },
    {
      "cell_type": "markdown",
      "source": [],
      "metadata": {
        "id": "2UXVY2vi9isT"
      }
    },
    {
      "cell_type": "code",
      "source": [
        "# Download dataset\n",
        "od.download('https://www.kaggle.com/datasets/faudyanurul/tomato')"
      ],
      "metadata": {
        "colab": {
          "base_uri": "https://localhost:8080/"
        },
        "id": "uDDW5XRX9i8c",
        "outputId": "0abe3654-4d7f-4459-fab7-d433d8a28d51"
      },
      "execution_count": 4,
      "outputs": [
        {
          "output_type": "stream",
          "name": "stdout",
          "text": [
            "Please provide your Kaggle credentials to download this dataset. Learn more: http://bit.ly/kaggle-creds\n",
            "Your Kaggle username: faudyanurul\n",
            "Your Kaggle Key: ··········\n",
            "Downloading tomato.zip to ./tomato\n"
          ]
        },
        {
          "output_type": "stream",
          "name": "stderr",
          "text": [
            "100%|██████████| 551M/551M [00:31<00:00, 18.6MB/s]\n"
          ]
        },
        {
          "output_type": "stream",
          "name": "stdout",
          "text": [
            "\n"
          ]
        }
      ]
    },
    {
      "cell_type": "code",
      "source": [
        "# Load dataset\n",
        "print(\"==========================Training Data====================\")\n",
        "train_data = tf.keras.preprocessing.image_dataset_from_directory(\n",
        "    \"tomato/Tomato/train\",\n",
        "    label_mode=\"categorical\",\n",
        "    class_names=['Tomato Early blight leaf', 'Tomato Septoria leaf spot', 'Tomato leaf bacterial spot', 'Tomato leaf healthy', 'Tomato leaf late blight', 'Tomato leaf mosaic virus', 'Tomato leaf yellow virus', 'Tomato mold leaf', 'Tomato two spotted spider mites leaf'],\n",
        "    color_mode=\"rgb\",\n",
        "    batch_size=1,\n",
        "    image_size=(256, 256),\n",
        "    shuffle=True,\n",
        "    seed=123\n",
        ")\n",
        "print(\"==========================Validation Data====================\")\n",
        "val_data = tf.keras.preprocessing.image_dataset_from_directory(\n",
        "    \"tomato/Tomato/valid\",\n",
        "    label_mode=\"categorical\",\n",
        "    class_names=['Tomato Early blight leaf', 'Tomato Septoria leaf spot', 'Tomato leaf bacterial spot', 'Tomato leaf healthy', 'Tomato leaf late blight', 'Tomato leaf mosaic virus', 'Tomato leaf yellow virus', 'Tomato mold leaf', 'Tomato two spotted spider mites leaf'],\n",
        "    color_mode=\"rgb\",\n",
        "    batch_size=1,\n",
        "    image_size=(256, 256),\n",
        "    shuffle=True,\n",
        "    seed=123\n",
        ")"
      ],
      "metadata": {
        "colab": {
          "base_uri": "https://localhost:8080/"
        },
        "id": "cEuRRF6g9pAN",
        "outputId": "60722960-2bcc-424a-fc4e-63006c5edd4b"
      },
      "execution_count": 5,
      "outputs": [
        {
          "output_type": "stream",
          "name": "stdout",
          "text": [
            "==========================Training Data====================\n",
            "Found 17195 files belonging to 9 classes.\n",
            "==========================Validation Data====================\n",
            "Found 4197 files belonging to 9 classes.\n"
          ]
        }
      ]
    },
    {
      "cell_type": "code",
      "source": [
        "# All images will be rescaled by 1./255.and augmented\n",
        "train_datagen = ImageDataGenerator(rescale = 1.0/256.,\n",
        "                                   rotation_range=40,\n",
        "                                   width_shift_range=0.2,\n",
        "                                   height_shift_range=0.2,\n",
        "                                   shear_range=0.2,\n",
        "                                   zoom_range=0.2,\n",
        "                                   horizontal_flip=True,\n",
        "                                   fill_mode='nearest')\n",
        "\n",
        "test_datagen  = ImageDataGenerator(rescale = 1.0/256.)\n",
        "\n",
        "# --------------------\n",
        "# Flow training images in batches of 20 using train_datagen generator\n",
        "# --------------------\n",
        "train_generator = train_datagen.flow_from_directory(\"tomato/Tomato/train\",\n",
        "                                                    batch_size=20,\n",
        "                                                    class_mode='categorical',\n",
        "                                                    target_size=(224, 224))     \n",
        "# --------------------\n",
        "# Flow validation images in batches of 20 using test_datagen generator\n",
        "# --------------------\n",
        "validation_generator =  test_datagen.flow_from_directory(\"tomato/Tomato/valid\",\n",
        "                                                         batch_size=20,\n",
        "                                                         class_mode  = 'categorical',\n",
        "                                                         target_size = (224, 224))"
      ],
      "metadata": {
        "colab": {
          "base_uri": "https://localhost:8080/"
        },
        "id": "Xa2CIuE-9tMS",
        "outputId": "d14490a6-e43c-421f-9060-5bb5cee52907"
      },
      "execution_count": 6,
      "outputs": [
        {
          "output_type": "stream",
          "name": "stdout",
          "text": [
            "Found 17195 images belonging to 9 classes.\n",
            "Found 4197 images belonging to 9 classes.\n"
          ]
        }
      ]
    },
    {
      "cell_type": "markdown",
      "source": [],
      "metadata": {
        "id": "j5MrMPyt91NV"
      }
    },
    {
      "cell_type": "code",
      "source": [
        "# Check GPU\n",
        "!nvidia-smi"
      ],
      "metadata": {
        "colab": {
          "base_uri": "https://localhost:8080/"
        },
        "id": "Li0okk5x9zZL",
        "outputId": "b56de7be-b502-4fcd-a5e4-4561fca43040"
      },
      "execution_count": null,
      "outputs": [
        {
          "output_type": "stream",
          "name": "stdout",
          "text": [
            "Tue Jun  6 09:13:41 2023       \n",
            "+-----------------------------------------------------------------------------+\n",
            "| NVIDIA-SMI 525.85.12    Driver Version: 525.85.12    CUDA Version: 12.0     |\n",
            "|-------------------------------+----------------------+----------------------+\n",
            "| GPU  Name        Persistence-M| Bus-Id        Disp.A | Volatile Uncorr. ECC |\n",
            "| Fan  Temp  Perf  Pwr:Usage/Cap|         Memory-Usage | GPU-Util  Compute M. |\n",
            "|                               |                      |               MIG M. |\n",
            "|===============================+======================+======================|\n",
            "|   0  Tesla T4            Off  | 00000000:00:04.0 Off |                    0 |\n",
            "| N/A   52C    P0    27W /  70W |    389MiB / 15360MiB |      0%      Default |\n",
            "|                               |                      |                  N/A |\n",
            "+-------------------------------+----------------------+----------------------+\n",
            "                                                                               \n",
            "+-----------------------------------------------------------------------------+\n",
            "| Processes:                                                                  |\n",
            "|  GPU   GI   CI        PID   Type   Process name                  GPU Memory |\n",
            "|        ID   ID                                                   Usage      |\n",
            "|=============================================================================|\n",
            "+-----------------------------------------------------------------------------+\n"
          ]
        }
      ]
    },
    {
      "cell_type": "code",
      "source": [
        "# Lis physical devices\n",
        "devices = tf.config.experimental.list_physical_devices(\"GPU\")\n",
        "devices"
      ],
      "metadata": {
        "colab": {
          "base_uri": "https://localhost:8080/"
        },
        "id": "8V-4ea7e93FV",
        "outputId": "690dc8ef-2c37-47f5-f66f-796e0ab55887"
      },
      "execution_count": null,
      "outputs": [
        {
          "output_type": "execute_result",
          "data": {
            "text/plain": [
              "[PhysicalDevice(name='/physical_device:GPU:0', device_type='GPU')]"
            ]
          },
          "metadata": {},
          "execution_count": 8
        }
      ]
    },
    {
      "cell_type": "code",
      "source": [
        "# Define the GPU strategy\n",
        "mirrored_strategy = tf.distribute.MirroredStrategy(devices=[\"/gpu:0\"])"
      ],
      "metadata": {
        "id": "6x4RBL0s93Pv"
      },
      "execution_count": null,
      "outputs": []
    },
    {
      "cell_type": "markdown",
      "source": [
        "DenseNet Model 1"
      ],
      "metadata": {
        "id": "-9bFxae698QN"
      }
    },
    {
      "cell_type": "code",
      "source": [
        "# Difine the callbacks\n",
        "# Save the best model\n",
        "checkpoint_callback = ModelCheckpoint(filepath=\"Tomato_DenseNet_model1_Based_Augmented\", save_best_only=True, monitor=\"val_accuracy\", mode=\"max\", verbose=1)\n",
        "\n",
        "# Early stopping\n",
        "early_stopping_callback = EarlyStopping(monitor=\"val_accuracy\", mode=\"max\", patience=20, verbose=1, restore_best_weights=True)\n",
        "\n",
        "# Reduce learning rate\n",
        "reduce_lr_callback = ReduceLROnPlateau(monitor=\"val_loss\", factor=0.1, patience=5, verbose=1, mode=\"min\", min_delta=0.0001, cooldown=0, min_lr=0)\n",
        "\n",
        "# Callbacks list\n",
        "callbacks=[checkpoint_callback, early_stopping_callback, reduce_lr_callback]"
      ],
      "metadata": {
        "id": "2xJivWk9997G"
      },
      "execution_count": null,
      "outputs": []
    },
    {
      "cell_type": "code",
      "source": [
        "# Define DIY Model\n",
        "DenseNet_model = tf.keras.models.Sequential([\n",
        "    # DenseNet121 Layer\n",
        "    DenseNet121(include_top=False,weights='imagenet',input_shape=(224, 224, 3)),\n",
        "    # Global Max Pooling Layer\n",
        "    tf.keras.layers.GlobalMaxPooling2D(),\n",
        "    # Drop Out Layer\n",
        "    tf.keras.layers.Dropout(0.2),\n",
        "    # 256 neuron hidden layer\n",
        "    tf.keras.layers.Dense(256, activation='relu'),\n",
        "    # Output\n",
        "    tf.keras.layers.Dense(9, activation='softmax') \n",
        "  ])\n",
        "\n",
        "\n",
        "# Compile Model\n",
        "DenseNet_model.compile(loss='categorical_crossentropy',optimizer=tf.keras.optimizers.Adam(), metrics=['accuracy']) \n",
        "\n",
        "# Model Summary\n",
        "DenseNet_model.summary()"
      ],
      "metadata": {
        "colab": {
          "base_uri": "https://localhost:8080/"
        },
        "id": "3el6BwEE-FjJ",
        "outputId": "07be53dd-875b-4520-9c68-a396b23d15ec"
      },
      "execution_count": null,
      "outputs": [
        {
          "output_type": "stream",
          "name": "stdout",
          "text": [
            "Downloading data from https://storage.googleapis.com/tensorflow/keras-applications/densenet/densenet121_weights_tf_dim_ordering_tf_kernels_notop.h5\n",
            "29084464/29084464 [==============================] - 2s 0us/step\n",
            "Model: \"sequential\"\n",
            "_________________________________________________________________\n",
            " Layer (type)                Output Shape              Param #   \n",
            "=================================================================\n",
            " densenet121 (Functional)    (None, 7, 7, 1024)        7037504   \n",
            "                                                                 \n",
            " global_max_pooling2d (Globa  (None, 1024)             0         \n",
            " lMaxPooling2D)                                                  \n",
            "                                                                 \n",
            " dropout (Dropout)           (None, 1024)              0         \n",
            "                                                                 \n",
            " dense (Dense)               (None, 256)               262400    \n",
            "                                                                 \n",
            " dense_1 (Dense)             (None, 9)                 2313      \n",
            "                                                                 \n",
            "=================================================================\n",
            "Total params: 7,302,217\n",
            "Trainable params: 7,218,569\n",
            "Non-trainable params: 83,648\n",
            "_________________________________________________________________\n"
          ]
        }
      ]
    },
    {
      "cell_type": "code",
      "source": [
        "# Define the number of epochs\n",
        "num_epochs = 100\n",
        "\n",
        "# Train the model\n",
        "history_DenseNet_model_1 = DenseNet_model.fit(train_generator, epochs=num_epochs, validation_data=validation_generator, callbacks=callbacks)"
      ],
      "metadata": {
        "colab": {
          "base_uri": "https://localhost:8080/"
        },
        "id": "6-FXCw18-IRH",
        "outputId": "f4711712-66ec-4807-a37a-eb71e4bd3dad"
      },
      "execution_count": null,
      "outputs": [
        {
          "output_type": "stream",
          "name": "stdout",
          "text": [
            "Epoch 1/100\n",
            "860/860 [==============================] - ETA: 0s - loss: 0.6376 - accuracy: 0.8187\n",
            "Epoch 1: val_accuracy improved from -inf to 0.89397, saving model to Tomato_DenseNet_model1_Based_Augmented\n"
          ]
        },
        {
          "output_type": "stream",
          "name": "stderr",
          "text": [
            "WARNING:absl:Found untraced functions such as _jit_compiled_convolution_op, _jit_compiled_convolution_op, _jit_compiled_convolution_op, _jit_compiled_convolution_op, _jit_compiled_convolution_op while saving (showing 5 of 120). These functions will not be directly callable after loading.\n"
          ]
        },
        {
          "output_type": "stream",
          "name": "stdout",
          "text": [
            "\b\b\b\b\b\b\b\b\b\b\b\b\b\b\b\b\b\b\b\b\b\b\b\b\b\b\b\b\b\b\b\b\b\b\b\b\b\b\b\b\b\b\b\b\b\b\b\b\b\b\b\b\b\b\b\b\b\b\b\b\b\b\b\b\b\b\b\b\b\b\b\b\b\b\b\b\b\b\b\b\b\b\b\b\r860/860 [==============================] - 476s 455ms/step - loss: 0.6376 - accuracy: 0.8187 - val_loss: 0.3582 - val_accuracy: 0.8940 - lr: 0.0010\n",
            "Epoch 2/100\n",
            "860/860 [==============================] - ETA: 0s - loss: 0.2759 - accuracy: 0.9088\n",
            "Epoch 2: val_accuracy did not improve from 0.89397\n",
            "860/860 [==============================] - 325s 377ms/step - loss: 0.2759 - accuracy: 0.9088 - val_loss: 0.6972 - val_accuracy: 0.7720 - lr: 0.0010\n",
            "Epoch 3/100\n",
            "860/860 [==============================] - ETA: 0s - loss: 0.2404 - accuracy: 0.9215\n",
            "Epoch 3: val_accuracy did not improve from 0.89397\n",
            "860/860 [==============================] - 328s 381ms/step - loss: 0.2404 - accuracy: 0.9215 - val_loss: 0.5954 - val_accuracy: 0.8323 - lr: 0.0010\n",
            "Epoch 4/100\n",
            "860/860 [==============================] - ETA: 0s - loss: 0.2261 - accuracy: 0.9271\n",
            "Epoch 4: val_accuracy did not improve from 0.89397\n",
            "860/860 [==============================] - 325s 378ms/step - loss: 0.2261 - accuracy: 0.9271 - val_loss: 0.7179 - val_accuracy: 0.7949 - lr: 0.0010\n",
            "Epoch 5/100\n",
            "860/860 [==============================] - ETA: 0s - loss: 0.2001 - accuracy: 0.9338\n",
            "Epoch 5: val_accuracy improved from 0.89397 to 0.89850, saving model to Tomato_DenseNet_model1_Based_Augmented\n"
          ]
        },
        {
          "output_type": "stream",
          "name": "stderr",
          "text": [
            "WARNING:absl:Found untraced functions such as _jit_compiled_convolution_op, _jit_compiled_convolution_op, _jit_compiled_convolution_op, _jit_compiled_convolution_op, _jit_compiled_convolution_op while saving (showing 5 of 120). These functions will not be directly callable after loading.\n"
          ]
        },
        {
          "output_type": "stream",
          "name": "stdout",
          "text": [
            "\b\b\b\b\b\b\b\b\b\b\b\b\b\b\b\b\b\b\b\b\b\b\b\b\b\b\b\b\b\b\b\b\b\b\b\b\b\b\b\b\b\b\b\b\b\b\b\b\b\b\b\b\b\b\b\b\b\b\b\b\b\b\b\b\b\b\b\b\b\b\b\b\b\b\b\b\b\b\b\b\b\b\b\b\r860/860 [==============================] - 383s 446ms/step - loss: 0.2001 - accuracy: 0.9338 - val_loss: 0.3368 - val_accuracy: 0.8985 - lr: 0.0010\n",
            "Epoch 6/100\n",
            "860/860 [==============================] - ETA: 0s - loss: 0.1878 - accuracy: 0.9374\n",
            "Epoch 6: val_accuracy improved from 0.89850 to 0.93662, saving model to Tomato_DenseNet_model1_Based_Augmented\n"
          ]
        },
        {
          "output_type": "stream",
          "name": "stderr",
          "text": [
            "WARNING:absl:Found untraced functions such as _jit_compiled_convolution_op, _jit_compiled_convolution_op, _jit_compiled_convolution_op, _jit_compiled_convolution_op, _jit_compiled_convolution_op while saving (showing 5 of 120). These functions will not be directly callable after loading.\n"
          ]
        },
        {
          "output_type": "stream",
          "name": "stdout",
          "text": [
            "\b\b\b\b\b\b\b\b\b\b\b\b\b\b\b\b\b\b\b\b\b\b\b\b\b\b\b\b\b\b\b\b\b\b\b\b\b\b\b\b\b\b\b\b\b\b\b\b\b\b\b\b\b\b\b\b\b\b\b\b\b\b\b\b\b\b\b\b\b\b\b\b\b\b\b\b\b\b\b\b\b\b\b\b\r860/860 [==============================] - 376s 437ms/step - loss: 0.1878 - accuracy: 0.9374 - val_loss: 0.1816 - val_accuracy: 0.9366 - lr: 0.0010\n",
            "Epoch 7/100\n",
            "860/860 [==============================] - ETA: 0s - loss: 0.1747 - accuracy: 0.9418\n",
            "Epoch 7: val_accuracy did not improve from 0.93662\n",
            "860/860 [==============================] - 315s 366ms/step - loss: 0.1747 - accuracy: 0.9418 - val_loss: 0.2596 - val_accuracy: 0.9159 - lr: 0.0010\n",
            "Epoch 8/100\n",
            "860/860 [==============================] - ETA: 0s - loss: 0.1768 - accuracy: 0.9423\n",
            "Epoch 8: val_accuracy improved from 0.93662 to 0.94853, saving model to Tomato_DenseNet_model1_Based_Augmented\n"
          ]
        },
        {
          "output_type": "stream",
          "name": "stderr",
          "text": [
            "WARNING:absl:Found untraced functions such as _jit_compiled_convolution_op, _jit_compiled_convolution_op, _jit_compiled_convolution_op, _jit_compiled_convolution_op, _jit_compiled_convolution_op while saving (showing 5 of 120). These functions will not be directly callable after loading.\n"
          ]
        },
        {
          "output_type": "stream",
          "name": "stdout",
          "text": [
            "\b\b\b\b\b\b\b\b\b\b\b\b\b\b\b\b\b\b\b\b\b\b\b\b\b\b\b\b\b\b\b\b\b\b\b\b\b\b\b\b\b\b\b\b\b\b\b\b\b\b\b\b\b\b\b\b\b\b\b\b\b\b\b\b\b\b\b\b\b\b\b\b\b\b\b\b\b\b\b\b\b\b\b\b\r860/860 [==============================] - 375s 435ms/step - loss: 0.1768 - accuracy: 0.9423 - val_loss: 0.1494 - val_accuracy: 0.9485 - lr: 0.0010\n",
            "Epoch 9/100\n",
            "860/860 [==============================] - ETA: 0s - loss: 0.1707 - accuracy: 0.9436\n",
            "Epoch 9: val_accuracy did not improve from 0.94853\n",
            "860/860 [==============================] - 318s 370ms/step - loss: 0.1707 - accuracy: 0.9436 - val_loss: 0.3225 - val_accuracy: 0.8992 - lr: 0.0010\n",
            "Epoch 10/100\n",
            "860/860 [==============================] - ETA: 0s - loss: 0.1539 - accuracy: 0.9488\n",
            "Epoch 10: val_accuracy did not improve from 0.94853\n",
            "860/860 [==============================] - 321s 373ms/step - loss: 0.1539 - accuracy: 0.9488 - val_loss: 0.4349 - val_accuracy: 0.8856 - lr: 0.0010\n",
            "Epoch 11/100\n",
            "860/860 [==============================] - ETA: 0s - loss: 0.1497 - accuracy: 0.9517\n",
            "Epoch 11: val_accuracy did not improve from 0.94853\n",
            "860/860 [==============================] - 321s 374ms/step - loss: 0.1497 - accuracy: 0.9517 - val_loss: 0.4800 - val_accuracy: 0.8975 - lr: 0.0010\n",
            "Epoch 12/100\n",
            "860/860 [==============================] - ETA: 0s - loss: 0.1442 - accuracy: 0.9517\n",
            "Epoch 12: val_accuracy did not improve from 0.94853\n",
            "860/860 [==============================] - 323s 375ms/step - loss: 0.1442 - accuracy: 0.9517 - val_loss: 0.2837 - val_accuracy: 0.9128 - lr: 0.0010\n",
            "Epoch 13/100\n",
            "860/860 [==============================] - ETA: 0s - loss: 0.1285 - accuracy: 0.9559\n",
            "Epoch 13: val_accuracy did not improve from 0.94853\n",
            "\n",
            "Epoch 13: ReduceLROnPlateau reducing learning rate to 0.00010000000474974513.\n",
            "860/860 [==============================] - 318s 369ms/step - loss: 0.1285 - accuracy: 0.9559 - val_loss: 0.3054 - val_accuracy: 0.9168 - lr: 0.0010\n",
            "Epoch 14/100\n",
            "860/860 [==============================] - ETA: 0s - loss: 0.0831 - accuracy: 0.9713\n",
            "Epoch 14: val_accuracy improved from 0.94853 to 0.98880, saving model to Tomato_DenseNet_model1_Based_Augmented\n"
          ]
        },
        {
          "output_type": "stream",
          "name": "stderr",
          "text": [
            "WARNING:absl:Found untraced functions such as _jit_compiled_convolution_op, _jit_compiled_convolution_op, _jit_compiled_convolution_op, _jit_compiled_convolution_op, _jit_compiled_convolution_op while saving (showing 5 of 120). These functions will not be directly callable after loading.\n"
          ]
        },
        {
          "output_type": "stream",
          "name": "stdout",
          "text": [
            "\b\b\b\b\b\b\b\b\b\b\b\b\b\b\b\b\b\b\b\b\b\b\b\b\b\b\b\b\b\b\b\b\b\b\b\b\b\b\b\b\b\b\b\b\b\b\b\b\b\b\b\b\b\b\b\b\b\b\b\b\b\b\b\b\b\b\b\b\b\b\b\b\b\b\b\b\b\b\b\b\b\b\b\b\r860/860 [==============================] - 373s 433ms/step - loss: 0.0831 - accuracy: 0.9713 - val_loss: 0.0364 - val_accuracy: 0.9888 - lr: 1.0000e-04\n",
            "Epoch 15/100\n",
            "860/860 [==============================] - ETA: 0s - loss: 0.0676 - accuracy: 0.9769\n",
            "Epoch 15: val_accuracy improved from 0.98880 to 0.98952, saving model to Tomato_DenseNet_model1_Based_Augmented\n"
          ]
        },
        {
          "output_type": "stream",
          "name": "stderr",
          "text": [
            "WARNING:absl:Found untraced functions such as _jit_compiled_convolution_op, _jit_compiled_convolution_op, _jit_compiled_convolution_op, _jit_compiled_convolution_op, _jit_compiled_convolution_op while saving (showing 5 of 120). These functions will not be directly callable after loading.\n"
          ]
        },
        {
          "output_type": "stream",
          "name": "stdout",
          "text": [
            "\b\b\b\b\b\b\b\b\b\b\b\b\b\b\b\b\b\b\b\b\b\b\b\b\b\b\b\b\b\b\b\b\b\b\b\b\b\b\b\b\b\b\b\b\b\b\b\b\b\b\b\b\b\b\b\b\b\b\b\b\b\b\b\b\b\b\b\b\b\b\b\b\b\b\b\b\b\b\b\b\b\b\b\b\r860/860 [==============================] - 378s 439ms/step - loss: 0.0676 - accuracy: 0.9769 - val_loss: 0.0325 - val_accuracy: 0.9895 - lr: 1.0000e-04\n",
            "Epoch 16/100\n",
            "860/860 [==============================] - ETA: 0s - loss: 0.0616 - accuracy: 0.9779\n",
            "Epoch 16: val_accuracy did not improve from 0.98952\n",
            "860/860 [==============================] - 315s 366ms/step - loss: 0.0616 - accuracy: 0.9779 - val_loss: 0.0361 - val_accuracy: 0.9883 - lr: 1.0000e-04\n",
            "Epoch 17/100\n",
            "860/860 [==============================] - ETA: 0s - loss: 0.0607 - accuracy: 0.9778\n",
            "Epoch 17: val_accuracy improved from 0.98952 to 0.98999, saving model to Tomato_DenseNet_model1_Based_Augmented\n"
          ]
        },
        {
          "output_type": "stream",
          "name": "stderr",
          "text": [
            "WARNING:absl:Found untraced functions such as _jit_compiled_convolution_op, _jit_compiled_convolution_op, _jit_compiled_convolution_op, _jit_compiled_convolution_op, _jit_compiled_convolution_op while saving (showing 5 of 120). These functions will not be directly callable after loading.\n"
          ]
        },
        {
          "output_type": "stream",
          "name": "stdout",
          "text": [
            "\b\b\b\b\b\b\b\b\b\b\b\b\b\b\b\b\b\b\b\b\b\b\b\b\b\b\b\b\b\b\b\b\b\b\b\b\b\b\b\b\b\b\b\b\b\b\b\b\b\b\b\b\b\b\b\b\b\b\b\b\b\b\b\b\b\b\b\b\b\b\b\b\b\b\b\b\b\b\b\b\b\b\b\b\r860/860 [==============================] - 384s 446ms/step - loss: 0.0607 - accuracy: 0.9778 - val_loss: 0.0333 - val_accuracy: 0.9900 - lr: 1.0000e-04\n",
            "Epoch 18/100\n",
            "860/860 [==============================] - ETA: 0s - loss: 0.0565 - accuracy: 0.9799\n",
            "Epoch 18: val_accuracy did not improve from 0.98999\n",
            "860/860 [==============================] - 317s 368ms/step - loss: 0.0565 - accuracy: 0.9799 - val_loss: 0.0323 - val_accuracy: 0.9898 - lr: 1.0000e-04\n",
            "Epoch 19/100\n",
            "860/860 [==============================] - ETA: 0s - loss: 0.0533 - accuracy: 0.9802\n",
            "Epoch 19: val_accuracy improved from 0.98999 to 0.99047, saving model to Tomato_DenseNet_model1_Based_Augmented\n"
          ]
        },
        {
          "output_type": "stream",
          "name": "stderr",
          "text": [
            "WARNING:absl:Found untraced functions such as _jit_compiled_convolution_op, _jit_compiled_convolution_op, _jit_compiled_convolution_op, _jit_compiled_convolution_op, _jit_compiled_convolution_op while saving (showing 5 of 120). These functions will not be directly callable after loading.\n"
          ]
        },
        {
          "output_type": "stream",
          "name": "stdout",
          "text": [
            "\b\b\b\b\b\b\b\b\b\b\b\b\b\b\b\b\b\b\b\b\b\b\b\b\b\b\b\b\b\b\b\b\b\b\b\b\b\b\b\b\b\b\b\b\b\b\b\b\b\b\b\b\b\b\b\b\b\b\b\b\b\b\b\b\b\b\b\b\b\b\b\b\b\b\b\b\b\b\b\b\b\b\b\b\r860/860 [==============================] - 379s 441ms/step - loss: 0.0533 - accuracy: 0.9802 - val_loss: 0.0288 - val_accuracy: 0.9905 - lr: 1.0000e-04\n",
            "Epoch 20/100\n",
            "860/860 [==============================] - ETA: 0s - loss: 0.0525 - accuracy: 0.9815\n",
            "Epoch 20: val_accuracy did not improve from 0.99047\n",
            "860/860 [==============================] - 327s 380ms/step - loss: 0.0525 - accuracy: 0.9815 - val_loss: 0.0308 - val_accuracy: 0.9905 - lr: 1.0000e-04\n",
            "Epoch 21/100\n",
            "860/860 [==============================] - ETA: 0s - loss: 0.0495 - accuracy: 0.9820\n",
            "Epoch 21: val_accuracy did not improve from 0.99047\n",
            "860/860 [==============================] - 319s 371ms/step - loss: 0.0495 - accuracy: 0.9820 - val_loss: 0.0296 - val_accuracy: 0.9902 - lr: 1.0000e-04\n",
            "Epoch 22/100\n",
            "860/860 [==============================] - ETA: 0s - loss: 0.0476 - accuracy: 0.9824\n",
            "Epoch 22: val_accuracy did not improve from 0.99047\n",
            "860/860 [==============================] - 317s 368ms/step - loss: 0.0476 - accuracy: 0.9824 - val_loss: 0.0553 - val_accuracy: 0.9850 - lr: 1.0000e-04\n",
            "Epoch 23/100\n",
            "860/860 [==============================] - ETA: 0s - loss: 0.0451 - accuracy: 0.9835\n",
            "Epoch 23: val_accuracy did not improve from 0.99047\n",
            "860/860 [==============================] - 322s 374ms/step - loss: 0.0451 - accuracy: 0.9835 - val_loss: 0.0342 - val_accuracy: 0.9881 - lr: 1.0000e-04\n",
            "Epoch 24/100\n",
            "860/860 [==============================] - ETA: 0s - loss: 0.0462 - accuracy: 0.9825\n",
            "Epoch 24: val_accuracy did not improve from 0.99047\n",
            "\n",
            "Epoch 24: ReduceLROnPlateau reducing learning rate to 1.0000000474974514e-05.\n",
            "860/860 [==============================] - 341s 396ms/step - loss: 0.0462 - accuracy: 0.9825 - val_loss: 0.0304 - val_accuracy: 0.9902 - lr: 1.0000e-04\n",
            "Epoch 25/100\n",
            "860/860 [==============================] - ETA: 0s - loss: 0.0423 - accuracy: 0.9849\n",
            "Epoch 25: val_accuracy did not improve from 0.99047\n",
            "860/860 [==============================] - 330s 383ms/step - loss: 0.0423 - accuracy: 0.9849 - val_loss: 0.0305 - val_accuracy: 0.9900 - lr: 1.0000e-05\n",
            "Epoch 26/100\n",
            "860/860 [==============================] - ETA: 0s - loss: 0.0385 - accuracy: 0.9859\n",
            "Epoch 26: val_accuracy did not improve from 0.99047\n",
            "860/860 [==============================] - 334s 389ms/step - loss: 0.0385 - accuracy: 0.9859 - val_loss: 0.0306 - val_accuracy: 0.9893 - lr: 1.0000e-05\n",
            "Epoch 27/100\n",
            "860/860 [==============================] - ETA: 0s - loss: 0.0372 - accuracy: 0.9864\n",
            "Epoch 27: val_accuracy did not improve from 0.99047\n",
            "860/860 [==============================] - 334s 388ms/step - loss: 0.0372 - accuracy: 0.9864 - val_loss: 0.0297 - val_accuracy: 0.9898 - lr: 1.0000e-05\n",
            "Epoch 28/100\n",
            "860/860 [==============================] - ETA: 0s - loss: 0.0379 - accuracy: 0.9860\n",
            "Epoch 28: val_accuracy did not improve from 0.99047\n",
            "860/860 [==============================] - 335s 389ms/step - loss: 0.0379 - accuracy: 0.9860 - val_loss: 0.0298 - val_accuracy: 0.9898 - lr: 1.0000e-05\n",
            "Epoch 29/100\n",
            "860/860 [==============================] - ETA: 0s - loss: 0.0378 - accuracy: 0.9858\n",
            "Epoch 29: val_accuracy did not improve from 0.99047\n",
            "\n",
            "Epoch 29: ReduceLROnPlateau reducing learning rate to 1.0000000656873453e-06.\n",
            "860/860 [==============================] - 327s 380ms/step - loss: 0.0378 - accuracy: 0.9858 - val_loss: 0.0306 - val_accuracy: 0.9895 - lr: 1.0000e-05\n",
            "Epoch 30/100\n",
            "860/860 [==============================] - ETA: 0s - loss: 0.0371 - accuracy: 0.9859\n",
            "Epoch 30: val_accuracy did not improve from 0.99047\n",
            "860/860 [==============================] - 320s 372ms/step - loss: 0.0371 - accuracy: 0.9859 - val_loss: 0.0297 - val_accuracy: 0.9898 - lr: 1.0000e-06\n",
            "Epoch 31/100\n",
            "860/860 [==============================] - ETA: 0s - loss: 0.0380 - accuracy: 0.9861\n",
            "Epoch 31: val_accuracy did not improve from 0.99047\n",
            "860/860 [==============================] - 326s 379ms/step - loss: 0.0380 - accuracy: 0.9861 - val_loss: 0.0301 - val_accuracy: 0.9898 - lr: 1.0000e-06\n",
            "Epoch 32/100\n",
            "860/860 [==============================] - ETA: 0s - loss: 0.0383 - accuracy: 0.9869\n",
            "Epoch 32: val_accuracy did not improve from 0.99047\n",
            "860/860 [==============================] - 334s 388ms/step - loss: 0.0383 - accuracy: 0.9869 - val_loss: 0.0297 - val_accuracy: 0.9898 - lr: 1.0000e-06\n",
            "Epoch 33/100\n",
            "860/860 [==============================] - ETA: 0s - loss: 0.0373 - accuracy: 0.9858\n",
            "Epoch 33: val_accuracy did not improve from 0.99047\n",
            "860/860 [==============================] - 329s 382ms/step - loss: 0.0373 - accuracy: 0.9858 - val_loss: 0.0301 - val_accuracy: 0.9898 - lr: 1.0000e-06\n",
            "Epoch 34/100\n",
            "860/860 [==============================] - ETA: 0s - loss: 0.0376 - accuracy: 0.9860\n",
            "Epoch 34: val_accuracy did not improve from 0.99047\n",
            "\n",
            "Epoch 34: ReduceLROnPlateau reducing learning rate to 1.0000001111620805e-07.\n",
            "860/860 [==============================] - 326s 379ms/step - loss: 0.0376 - accuracy: 0.9860 - val_loss: 0.0300 - val_accuracy: 0.9898 - lr: 1.0000e-06\n",
            "Epoch 35/100\n",
            "860/860 [==============================] - ETA: 0s - loss: 0.0350 - accuracy: 0.9866\n",
            "Epoch 35: val_accuracy did not improve from 0.99047\n",
            "860/860 [==============================] - 326s 379ms/step - loss: 0.0350 - accuracy: 0.9866 - val_loss: 0.0297 - val_accuracy: 0.9898 - lr: 1.0000e-07\n",
            "Epoch 36/100\n",
            "860/860 [==============================] - ETA: 0s - loss: 0.0373 - accuracy: 0.9862\n",
            "Epoch 36: val_accuracy did not improve from 0.99047\n",
            "860/860 [==============================] - 324s 376ms/step - loss: 0.0373 - accuracy: 0.9862 - val_loss: 0.0298 - val_accuracy: 0.9898 - lr: 1.0000e-07\n",
            "Epoch 37/100\n",
            "860/860 [==============================] - ETA: 0s - loss: 0.0367 - accuracy: 0.9869\n",
            "Epoch 37: val_accuracy did not improve from 0.99047\n",
            "860/860 [==============================] - 322s 375ms/step - loss: 0.0367 - accuracy: 0.9869 - val_loss: 0.0299 - val_accuracy: 0.9898 - lr: 1.0000e-07\n",
            "Epoch 38/100\n",
            "860/860 [==============================] - ETA: 0s - loss: 0.0359 - accuracy: 0.9866\n",
            "Epoch 38: val_accuracy did not improve from 0.99047\n",
            "860/860 [==============================] - 321s 373ms/step - loss: 0.0359 - accuracy: 0.9866 - val_loss: 0.0303 - val_accuracy: 0.9895 - lr: 1.0000e-07\n",
            "Epoch 39/100\n",
            "860/860 [==============================] - ETA: 0s - loss: 0.0362 - accuracy: 0.9867\n",
            "Epoch 39: val_accuracy did not improve from 0.99047\n",
            "Restoring model weights from the end of the best epoch: 19.\n",
            "\n",
            "Epoch 39: ReduceLROnPlateau reducing learning rate to 1.000000082740371e-08.\n",
            "860/860 [==============================] - 322s 375ms/step - loss: 0.0362 - accuracy: 0.9867 - val_loss: 0.0295 - val_accuracy: 0.9898 - lr: 1.0000e-07\n",
            "Epoch 39: early stopping\n"
          ]
        }
      ]
    },
    {
      "cell_type": "code",
      "source": [
        "#-----------------------------------------------------------\n",
        "# Retrieve a list of list results on training and test data\n",
        "# sets for each training epoch\n",
        "#-----------------------------------------------------------\n",
        "acc      = history_DenseNet_model_1.history['accuracy' ]\n",
        "val_acc  = history_DenseNet_model_1.history['val_accuracy' ]\n",
        "loss     = history_DenseNet_model_1.history['loss' ]\n",
        "val_loss = history_DenseNet_model_1.history['val_loss' ]\n",
        "\n",
        "epochs   = range(len(acc)) # Get number of epochs\n",
        "\n",
        "#------------------------------------------------\n",
        "# Plot training and validation accuracy per epoch\n",
        "#------------------------------------------------\n",
        "plt.plot  (epochs, acc )\n",
        "plt.plot  (epochs, val_acc )\n",
        "plt.title ('Training and validation accuracy DenseNet Model 1')\n",
        "plt.legend(['train', 'val'], loc='upper left')\n",
        "plt.figure()\n",
        "\n",
        "#------------------------------------------------\n",
        "# Plot training and validation loss per epoch\n",
        "#------------------------------------------------\n",
        "plt.plot  (epochs, loss)\n",
        "plt.plot  (epochs, val_loss)\n",
        "plt.title ('Training and validation loss DenseNet Model 1')\n",
        "plt.legend(['train', 'val'], loc='upper left')"
      ],
      "metadata": {
        "colab": {
          "base_uri": "https://localhost:8080/",
          "height": 904
        },
        "id": "1zPp0m07-KrI",
        "outputId": "fb505353-e54a-45f9-95a2-2edad8af7e69"
      },
      "execution_count": null,
      "outputs": [
        {
          "output_type": "execute_result",
          "data": {
            "text/plain": [
              "<matplotlib.legend.Legend at 0x7fb3714b4be0>"
            ]
          },
          "metadata": {},
          "execution_count": 13
        },
        {
          "output_type": "display_data",
          "data": {
            "text/plain": [
              "<Figure size 640x480 with 1 Axes>"
            ],
            "image/png": "[encoded data removed]"
          },
          "metadata": {}
        },
        {
          "output_type": "display_data",
          "data": {
            "text/plain": [
              "<Figure size 640x480 with 1 Axes>"
            ],
            "image/png": "[encoded data removed]"
          },
          "metadata": {}
        }
      ]
    },
    {
      "cell_type": "code",
      "source": [
        "!zip -r /content/Tomato_DenseNet_model1_Based_Augmented.zip /content/Tomato_DenseNet_model1_Based_Augmented"
      ],
      "metadata": {
        "colab": {
          "base_uri": "https://localhost:8080/"
        },
        "id": "JM0LTIGs-NQK",
        "outputId": "4f2acb93-172f-4cbb-ffa0-50e919246d12"
      },
      "execution_count": null,
      "outputs": [
        {
          "output_type": "stream",
          "name": "stdout",
          "text": [
            "  adding: content/Tomato_DenseNet_model1_Based_Augmented/ (stored 0%)\n",
            "  adding: content/Tomato_DenseNet_model1_Based_Augmented/variables/ (stored 0%)\n",
            "  adding: content/Tomato_DenseNet_model1_Based_Augmented/variables/variables.index (deflated 79%)\n",
            "  adding: content/Tomato_DenseNet_model1_Based_Augmented/variables/variables.data-00000-of-00001 (deflated 12%)\n",
            "  adding: content/Tomato_DenseNet_model1_Based_Augmented/assets/ (stored 0%)\n",
            "  adding: content/Tomato_DenseNet_model1_Based_Augmented/keras_metadata.pb (deflated 96%)\n",
            "  adding: content/Tomato_DenseNet_model1_Based_Augmented/fingerprint.pb (stored 0%)\n",
            "  adding: content/Tomato_DenseNet_model1_Based_Augmented/saved_model.pb (deflated 92%)\n"
          ]
        }
      ]
    },
    {
      "cell_type": "markdown",
      "source": [
        "DenseNet Model 2"
      ],
      "metadata": {
        "id": "6CC91XpF-Qc7"
      }
    },
    {
      "cell_type": "code",
      "source": [
        "# Difine the callbacks\n",
        "# Save the best model\n",
        "checkpoint_callback = ModelCheckpoint(filepath=\"Tomato_DenseNet_model2_Based_Augmented\", save_best_only=True, monitor=\"val_accuracy\", mode=\"max\", verbose=1)\n",
        "\n",
        "# Early stopping\n",
        "early_stopping_callback = EarlyStopping(monitor=\"val_accuracy\", mode=\"max\", patience=20, verbose=1, restore_best_weights=True)\n",
        "\n",
        "# Reduce learning rate\n",
        "reduce_lr_callback = ReduceLROnPlateau(monitor=\"val_loss\", factor=0.1, patience=5, verbose=1, mode=\"min\", min_delta=0.0001, cooldown=0, min_lr=0)\n",
        "\n",
        "# Callbacks list\n",
        "callbacks=[checkpoint_callback, early_stopping_callback, reduce_lr_callback]"
      ],
      "metadata": {
        "id": "18PZoP3V-Tfd"
      },
      "execution_count": 7,
      "outputs": []
    },
    {
      "cell_type": "code",
      "source": [
        "# Define DIY Model\n",
        "DenseNet_model_2 = tf.keras.models.Sequential([\n",
        "    # DenseNet121 Layer\n",
        "    DenseNet121(include_top=False,weights='imagenet',input_shape=(224, 224, 3)),\n",
        "    # Global Average Pooling Layer\n",
        "    tf.keras.layers.GlobalAveragePooling2D(),\n",
        "    # Drop Out Layer\n",
        "    tf.keras.layers.Dropout(0.2),\n",
        "    # 256 neuron hidden layer\n",
        "    tf.keras.layers.Dense(256, activation='relu'),\n",
        "    # Output\n",
        "    tf.keras.layers.Dense(9, activation='softmax') \n",
        "  ])\n",
        "\n",
        "\n",
        "# Compile Model\n",
        "DenseNet_model_2.compile(loss='categorical_crossentropy',optimizer=tf.keras.optimizers.Adam(), metrics=['accuracy']) \n",
        "\n",
        "# Model Summary\n",
        "DenseNet_model_2.summary()"
      ],
      "metadata": {
        "colab": {
          "base_uri": "https://localhost:8080/"
        },
        "id": "SCfKeP85-Tpm",
        "outputId": "6d303d93-8050-4c0d-c027-168a79d89e9f"
      },
      "execution_count": 8,
      "outputs": [
        {
          "output_type": "stream",
          "name": "stdout",
          "text": [
            "Downloading data from https://storage.googleapis.com/tensorflow/keras-applications/densenet/densenet121_weights_tf_dim_ordering_tf_kernels_notop.h5\n",
            "29084464/29084464 [==============================] - 2s 0us/step\n",
            "Model: \"sequential\"\n",
            "_________________________________________________________________\n",
            " Layer (type)                Output Shape              Param #   \n",
            "=================================================================\n",
            " densenet121 (Functional)    (None, 7, 7, 1024)        7037504   \n",
            "                                                                 \n",
            " global_average_pooling2d (G  (None, 1024)             0         \n",
            " lobalAveragePooling2D)                                          \n",
            "                                                                 \n",
            " dropout (Dropout)           (None, 1024)              0         \n",
            "                                                                 \n",
            " dense (Dense)               (None, 256)               262400    \n",
            "                                                                 \n",
            " dense_1 (Dense)             (None, 9)                 2313      \n",
            "                                                                 \n",
            "=================================================================\n",
            "Total params: 7,302,217\n",
            "Trainable params: 7,218,569\n",
            "Non-trainable params: 83,648\n",
            "_________________________________________________________________\n"
          ]
        }
      ]
    },
    {
      "cell_type": "code",
      "source": [
        "# Define the number of epochs\n",
        "num_epochs = 100\n",
        "\n",
        "# Train the model\n",
        "history_DenseNet_model_2 = DenseNet_model_2.fit(train_generator, epochs=num_epochs, validation_data=validation_generator, callbacks=callbacks)"
      ],
      "metadata": {
        "colab": {
          "base_uri": "https://localhost:8080/"
        },
        "id": "71hSUSEK-Tyz",
        "outputId": "6cab2b27-dc0a-4226-a7a9-1a8f371b4ec7"
      },
      "execution_count": 9,
      "outputs": [
        {
          "output_type": "stream",
          "name": "stdout",
          "text": [
            "Epoch 1/100\n",
            "860/860 [==============================] - ETA: 0s - loss: 0.5061 - accuracy: 0.8319\n",
            "Epoch 1: val_accuracy improved from -inf to 0.54730, saving model to Tomato_DenseNet_model2_Based_Augmented\n"
          ]
        },
        {
          "output_type": "stream",
          "name": "stderr",
          "text": [
            "WARNING:absl:Found untraced functions such as _jit_compiled_convolution_op, _jit_compiled_convolution_op, _jit_compiled_convolution_op, _jit_compiled_convolution_op, _jit_compiled_convolution_op while saving (showing 5 of 120). These functions will not be directly callable after loading.\n"
          ]
        },
        {
          "output_type": "stream",
          "name": "stdout",
          "text": [
            "\b\b\b\b\b\b\b\b\b\b\b\b\b\b\b\b\b\b\b\b\b\b\b\b\b\b\b\b\b\b\b\b\b\b\b\b\b\b\b\b\b\b\b\b\b\b\b\b\b\b\b\b\b\b\b\b\b\b\b\b\b\b\b\b\b\b\b\b\b\b\b\b\b\b\b\b\b\b\b\b\b\b\b\b\r860/860 [==============================] - 485s 460ms/step - loss: 0.5061 - accuracy: 0.8319 - val_loss: 3.2091 - val_accuracy: 0.5473 - lr: 0.0010\n",
            "Epoch 2/100\n",
            "860/860 [==============================] - ETA: 0s - loss: 0.2736 - accuracy: 0.9106\n",
            "Epoch 2: val_accuracy improved from 0.54730 to 0.92876, saving model to Tomato_DenseNet_model2_Based_Augmented\n"
          ]
        },
        {
          "output_type": "stream",
          "name": "stderr",
          "text": [
            "WARNING:absl:Found untraced functions such as _jit_compiled_convolution_op, _jit_compiled_convolution_op, _jit_compiled_convolution_op, _jit_compiled_convolution_op, _jit_compiled_convolution_op while saving (showing 5 of 120). These functions will not be directly callable after loading.\n"
          ]
        },
        {
          "output_type": "stream",
          "name": "stdout",
          "text": [
            "\b\b\b\b\b\b\b\b\b\b\b\b\b\b\b\b\b\b\b\b\b\b\b\b\b\b\b\b\b\b\b\b\b\b\b\b\b\b\b\b\b\b\b\b\b\b\b\b\b\b\b\b\b\b\b\b\b\b\b\b\b\b\b\b\b\b\b\b\b\b\b\b\b\b\b\b\b\b\b\b\b\b\b\b\r860/860 [==============================] - 382s 444ms/step - loss: 0.2736 - accuracy: 0.9106 - val_loss: 0.2471 - val_accuracy: 0.9288 - lr: 0.0010\n",
            "Epoch 3/100\n",
            "860/860 [==============================] - ETA: 0s - loss: 0.2226 - accuracy: 0.9281\n",
            "Epoch 3: val_accuracy did not improve from 0.92876\n",
            "860/860 [==============================] - 320s 371ms/step - loss: 0.2226 - accuracy: 0.9281 - val_loss: 1.2454 - val_accuracy: 0.6931 - lr: 0.0010\n",
            "Epoch 4/100\n",
            "860/860 [==============================] - ETA: 0s - loss: 0.1944 - accuracy: 0.9361\n",
            "Epoch 4: val_accuracy did not improve from 0.92876\n",
            "860/860 [==============================] - 320s 371ms/step - loss: 0.1944 - accuracy: 0.9361 - val_loss: 1.3503 - val_accuracy: 0.6912 - lr: 0.0010\n",
            "Epoch 5/100\n",
            "860/860 [==============================] - ETA: 0s - loss: 0.1839 - accuracy: 0.9384\n",
            "Epoch 5: val_accuracy did not improve from 0.92876\n",
            "860/860 [==============================] - 321s 373ms/step - loss: 0.1839 - accuracy: 0.9384 - val_loss: 0.6099 - val_accuracy: 0.8477 - lr: 0.0010\n",
            "Epoch 6/100\n",
            "860/860 [==============================] - ETA: 0s - loss: 0.1661 - accuracy: 0.9456\n",
            "Epoch 6: val_accuracy did not improve from 0.92876\n",
            "860/860 [==============================] - 322s 374ms/step - loss: 0.1661 - accuracy: 0.9456 - val_loss: 2.1908 - val_accuracy: 0.5568 - lr: 0.0010\n",
            "Epoch 7/100\n",
            "860/860 [==============================] - ETA: 0s - loss: 0.1546 - accuracy: 0.9481\n",
            "Epoch 7: val_accuracy did not improve from 0.92876\n",
            "\n",
            "Epoch 7: ReduceLROnPlateau reducing learning rate to 0.00010000000474974513.\n",
            "860/860 [==============================] - 320s 372ms/step - loss: 0.1546 - accuracy: 0.9481 - val_loss: 0.2786 - val_accuracy: 0.9166 - lr: 0.0010\n",
            "Epoch 8/100\n",
            "860/860 [==============================] - ETA: 0s - loss: 0.0945 - accuracy: 0.9675\n",
            "Epoch 8: val_accuracy improved from 0.92876 to 0.98284, saving model to Tomato_DenseNet_model2_Based_Augmented\n"
          ]
        },
        {
          "output_type": "stream",
          "name": "stderr",
          "text": [
            "WARNING:absl:Found untraced functions such as _jit_compiled_convolution_op, _jit_compiled_convolution_op, _jit_compiled_convolution_op, _jit_compiled_convolution_op, _jit_compiled_convolution_op while saving (showing 5 of 120). These functions will not be directly callable after loading.\n"
          ]
        },
        {
          "output_type": "stream",
          "name": "stdout",
          "text": [
            "\b\b\b\b\b\b\b\b\b\b\b\b\b\b\b\b\b\b\b\b\b\b\b\b\b\b\b\b\b\b\b\b\b\b\b\b\b\b\b\b\b\b\b\b\b\b\b\b\b\b\b\b\b\b\b\b\b\b\b\b\b\b\b\b\b\b\b\b\b\b\b\b\b\b\b\b\b\b\b\b\b\b\b\b\r860/860 [==============================] - 383s 446ms/step - loss: 0.0945 - accuracy: 0.9675 - val_loss: 0.0509 - val_accuracy: 0.9828 - lr: 1.0000e-04\n",
            "Epoch 9/100\n",
            "860/860 [==============================] - ETA: 0s - loss: 0.0765 - accuracy: 0.9730\n",
            "Epoch 9: val_accuracy improved from 0.98284 to 0.98690, saving model to Tomato_DenseNet_model2_Based_Augmented\n"
          ]
        },
        {
          "output_type": "stream",
          "name": "stderr",
          "text": [
            "WARNING:absl:Found untraced functions such as _jit_compiled_convolution_op, _jit_compiled_convolution_op, _jit_compiled_convolution_op, _jit_compiled_convolution_op, _jit_compiled_convolution_op while saving (showing 5 of 120). These functions will not be directly callable after loading.\n"
          ]
        },
        {
          "output_type": "stream",
          "name": "stdout",
          "text": [
            "\b\b\b\b\b\b\b\b\b\b\b\b\b\b\b\b\b\b\b\b\b\b\b\b\b\b\b\b\b\b\b\b\b\b\b\b\b\b\b\b\b\b\b\b\b\b\b\b\b\b\b\b\b\b\b\b\b\b\b\b\b\b\b\b\b\b\b\b\b\b\b\b\b\b\b\b\b\b\b\b\b\b\b\b\r860/860 [==============================] - 379s 440ms/step - loss: 0.0765 - accuracy: 0.9730 - val_loss: 0.0426 - val_accuracy: 0.9869 - lr: 1.0000e-04\n",
            "Epoch 10/100\n",
            "860/860 [==============================] - ETA: 0s - loss: 0.0672 - accuracy: 0.9757\n",
            "Epoch 10: val_accuracy did not improve from 0.98690\n",
            "860/860 [==============================] - 312s 363ms/step - loss: 0.0672 - accuracy: 0.9757 - val_loss: 0.0485 - val_accuracy: 0.9831 - lr: 1.0000e-04\n",
            "Epoch 11/100\n",
            "860/860 [==============================] - ETA: 0s - loss: 0.0633 - accuracy: 0.9780\n",
            "Epoch 11: val_accuracy did not improve from 0.98690\n",
            "860/860 [==============================] - 302s 351ms/step - loss: 0.0633 - accuracy: 0.9780 - val_loss: 0.0432 - val_accuracy: 0.9869 - lr: 1.0000e-04\n",
            "Epoch 12/100\n",
            "860/860 [==============================] - ETA: 0s - loss: 0.0613 - accuracy: 0.9784\n",
            "Epoch 12: val_accuracy improved from 0.98690 to 0.98785, saving model to Tomato_DenseNet_model2_Based_Augmented\n"
          ]
        },
        {
          "output_type": "stream",
          "name": "stderr",
          "text": [
            "WARNING:absl:Found untraced functions such as _jit_compiled_convolution_op, _jit_compiled_convolution_op, _jit_compiled_convolution_op, _jit_compiled_convolution_op, _jit_compiled_convolution_op while saving (showing 5 of 120). These functions will not be directly callable after loading.\n"
          ]
        },
        {
          "output_type": "stream",
          "name": "stdout",
          "text": [
            "\b\b\b\b\b\b\b\b\b\b\b\b\b\b\b\b\b\b\b\b\b\b\b\b\b\b\b\b\b\b\b\b\b\b\b\b\b\b\b\b\b\b\b\b\b\b\b\b\b\b\b\b\b\b\b\b\b\b\b\b\b\b\b\b\b\b\b\b\b\b\b\b\b\b\b\b\b\b\b\b\b\b\b\b\r860/860 [==============================] - 369s 429ms/step - loss: 0.0613 - accuracy: 0.9784 - val_loss: 0.0336 - val_accuracy: 0.9878 - lr: 1.0000e-04\n",
            "Epoch 13/100\n",
            "860/860 [==============================] - ETA: 0s - loss: 0.0583 - accuracy: 0.9788\n",
            "Epoch 13: val_accuracy improved from 0.98785 to 0.98904, saving model to Tomato_DenseNet_model2_Based_Augmented\n"
          ]
        },
        {
          "output_type": "stream",
          "name": "stderr",
          "text": [
            "WARNING:absl:Found untraced functions such as _jit_compiled_convolution_op, _jit_compiled_convolution_op, _jit_compiled_convolution_op, _jit_compiled_convolution_op, _jit_compiled_convolution_op while saving (showing 5 of 120). These functions will not be directly callable after loading.\n"
          ]
        },
        {
          "output_type": "stream",
          "name": "stdout",
          "text": [
            "\b\b\b\b\b\b\b\b\b\b\b\b\b\b\b\b\b\b\b\b\b\b\b\b\b\b\b\b\b\b\b\b\b\b\b\b\b\b\b\b\b\b\b\b\b\b\b\b\b\b\b\b\b\b\b\b\b\b\b\b\b\b\b\b\b\b\b\b\b\b\b\b\b\b\b\b\b\b\b\b\b\b\b\b\r860/860 [==============================] - 363s 422ms/step - loss: 0.0583 - accuracy: 0.9788 - val_loss: 0.0341 - val_accuracy: 0.9890 - lr: 1.0000e-04\n",
            "Epoch 14/100\n",
            "860/860 [==============================] - ETA: 0s - loss: 0.0558 - accuracy: 0.9805\n",
            "Epoch 14: val_accuracy did not improve from 0.98904\n",
            "860/860 [==============================] - 303s 352ms/step - loss: 0.0558 - accuracy: 0.9805 - val_loss: 0.0412 - val_accuracy: 0.9874 - lr: 1.0000e-04\n",
            "Epoch 15/100\n",
            "860/860 [==============================] - ETA: 0s - loss: 0.0519 - accuracy: 0.9811\n",
            "Epoch 15: val_accuracy did not improve from 0.98904\n",
            "860/860 [==============================] - 305s 354ms/step - loss: 0.0519 - accuracy: 0.9811 - val_loss: 0.0407 - val_accuracy: 0.9867 - lr: 1.0000e-04\n",
            "Epoch 16/100\n",
            "860/860 [==============================] - ETA: 0s - loss: 0.0539 - accuracy: 0.9801\n",
            "Epoch 16: val_accuracy did not improve from 0.98904\n",
            "860/860 [==============================] - 306s 356ms/step - loss: 0.0539 - accuracy: 0.9801 - val_loss: 0.0470 - val_accuracy: 0.9857 - lr: 1.0000e-04\n",
            "Epoch 17/100\n",
            "860/860 [==============================] - ETA: 0s - loss: 0.0520 - accuracy: 0.9809\n",
            "Epoch 17: val_accuracy did not improve from 0.98904\n",
            "\n",
            "Epoch 17: ReduceLROnPlateau reducing learning rate to 1.0000000474974514e-05.\n",
            "860/860 [==============================] - 310s 360ms/step - loss: 0.0520 - accuracy: 0.9809 - val_loss: 0.0720 - val_accuracy: 0.9786 - lr: 1.0000e-04\n",
            "Epoch 18/100\n",
            "860/860 [==============================] - ETA: 0s - loss: 0.0453 - accuracy: 0.9831\n",
            "Epoch 18: val_accuracy did not improve from 0.98904\n",
            "860/860 [==============================] - 303s 352ms/step - loss: 0.0453 - accuracy: 0.9831 - val_loss: 0.0574 - val_accuracy: 0.9828 - lr: 1.0000e-05\n",
            "Epoch 19/100\n",
            "860/860 [==============================] - ETA: 0s - loss: 0.0440 - accuracy: 0.9839\n",
            "Epoch 19: val_accuracy did not improve from 0.98904\n",
            "860/860 [==============================] - 303s 352ms/step - loss: 0.0440 - accuracy: 0.9839 - val_loss: 0.0502 - val_accuracy: 0.9848 - lr: 1.0000e-05\n",
            "Epoch 20/100\n",
            "860/860 [==============================] - ETA: 0s - loss: 0.0426 - accuracy: 0.9844\n",
            "Epoch 20: val_accuracy did not improve from 0.98904\n",
            "860/860 [==============================] - 303s 352ms/step - loss: 0.0426 - accuracy: 0.9844 - val_loss: 0.0438 - val_accuracy: 0.9859 - lr: 1.0000e-05\n",
            "Epoch 21/100\n",
            "860/860 [==============================] - ETA: 0s - loss: 0.0417 - accuracy: 0.9848\n",
            "Epoch 21: val_accuracy did not improve from 0.98904\n",
            "860/860 [==============================] - 302s 352ms/step - loss: 0.0417 - accuracy: 0.9848 - val_loss: 0.0418 - val_accuracy: 0.9888 - lr: 1.0000e-05\n",
            "Epoch 22/100\n",
            "860/860 [==============================] - ETA: 0s - loss: 0.0397 - accuracy: 0.9860\n",
            "Epoch 22: val_accuracy did not improve from 0.98904\n",
            "\n",
            "Epoch 22: ReduceLROnPlateau reducing learning rate to 1.0000000656873453e-06.\n",
            "860/860 [==============================] - 305s 354ms/step - loss: 0.0397 - accuracy: 0.9860 - val_loss: 0.0400 - val_accuracy: 0.9890 - lr: 1.0000e-05\n",
            "Epoch 23/100\n",
            "860/860 [==============================] - ETA: 0s - loss: 0.0400 - accuracy: 0.9849\n",
            "Epoch 23: val_accuracy did not improve from 0.98904\n",
            "860/860 [==============================] - 304s 353ms/step - loss: 0.0400 - accuracy: 0.9849 - val_loss: 0.0403 - val_accuracy: 0.9886 - lr: 1.0000e-06\n",
            "Epoch 24/100\n",
            "860/860 [==============================] - ETA: 0s - loss: 0.0391 - accuracy: 0.9859\n",
            "Epoch 24: val_accuracy did not improve from 0.98904\n",
            "860/860 [==============================] - 305s 355ms/step - loss: 0.0391 - accuracy: 0.9859 - val_loss: 0.0408 - val_accuracy: 0.9888 - lr: 1.0000e-06\n",
            "Epoch 25/100\n",
            "860/860 [==============================] - ETA: 0s - loss: 0.0395 - accuracy: 0.9857\n",
            "Epoch 25: val_accuracy did not improve from 0.98904\n",
            "860/860 [==============================] - 310s 360ms/step - loss: 0.0395 - accuracy: 0.9857 - val_loss: 0.0423 - val_accuracy: 0.9874 - lr: 1.0000e-06\n",
            "Epoch 26/100\n",
            "860/860 [==============================] - ETA: 0s - loss: 0.0382 - accuracy: 0.9864\n",
            "Epoch 26: val_accuracy improved from 0.98904 to 0.98928, saving model to Tomato_DenseNet_model2_Based_Augmented\n"
          ]
        },
        {
          "output_type": "stream",
          "name": "stderr",
          "text": [
            "WARNING:absl:Found untraced functions such as _jit_compiled_convolution_op, _jit_compiled_convolution_op, _jit_compiled_convolution_op, _jit_compiled_convolution_op, _jit_compiled_convolution_op while saving (showing 5 of 120). These functions will not be directly callable after loading.\n"
          ]
        },
        {
          "output_type": "stream",
          "name": "stdout",
          "text": [
            "\b\b\b\b\b\b\b\b\b\b\b\b\b\b\b\b\b\b\b\b\b\b\b\b\b\b\b\b\b\b\b\b\b\b\b\b\b\b\b\b\b\b\b\b\b\b\b\b\b\b\b\b\b\b\b\b\b\b\b\b\b\b\b\b\b\b\b\b\b\b\b\b\b\b\b\b\b\b\b\b\b\b\b\b\r860/860 [==============================] - 362s 421ms/step - loss: 0.0382 - accuracy: 0.9864 - val_loss: 0.0395 - val_accuracy: 0.9893 - lr: 1.0000e-06\n",
            "Epoch 27/100\n",
            "860/860 [==============================] - ETA: 0s - loss: 0.0405 - accuracy: 0.9850\n",
            "Epoch 27: val_accuracy improved from 0.98928 to 0.98975, saving model to Tomato_DenseNet_model2_Based_Augmented\n"
          ]
        },
        {
          "output_type": "stream",
          "name": "stderr",
          "text": [
            "WARNING:absl:Found untraced functions such as _jit_compiled_convolution_op, _jit_compiled_convolution_op, _jit_compiled_convolution_op, _jit_compiled_convolution_op, _jit_compiled_convolution_op while saving (showing 5 of 120). These functions will not be directly callable after loading.\n"
          ]
        },
        {
          "output_type": "stream",
          "name": "stdout",
          "text": [
            "\n",
            "Epoch 27: ReduceLROnPlateau reducing learning rate to 1.0000001111620805e-07.\n",
            "860/860 [==============================] - 368s 428ms/step - loss: 0.0405 - accuracy: 0.9850 - val_loss: 0.0382 - val_accuracy: 0.9898 - lr: 1.0000e-06\n",
            "Epoch 28/100\n",
            "860/860 [==============================] - ETA: 0s - loss: 0.0392 - accuracy: 0.9864\n",
            "Epoch 28: val_accuracy did not improve from 0.98975\n",
            "860/860 [==============================] - 305s 354ms/step - loss: 0.0392 - accuracy: 0.9864 - val_loss: 0.0388 - val_accuracy: 0.9893 - lr: 1.0000e-07\n",
            "Epoch 29/100\n",
            "860/860 [==============================] - ETA: 0s - loss: 0.0400 - accuracy: 0.9856\n",
            "Epoch 29: val_accuracy did not improve from 0.98975\n",
            "860/860 [==============================] - 303s 353ms/step - loss: 0.0400 - accuracy: 0.9856 - val_loss: 0.0391 - val_accuracy: 0.9895 - lr: 1.0000e-07\n",
            "Epoch 30/100\n",
            "860/860 [==============================] - ETA: 0s - loss: 0.0385 - accuracy: 0.9863\n",
            "Epoch 30: val_accuracy improved from 0.98975 to 0.98999, saving model to Tomato_DenseNet_model2_Based_Augmented\n"
          ]
        },
        {
          "output_type": "stream",
          "name": "stderr",
          "text": [
            "WARNING:absl:Found untraced functions such as _jit_compiled_convolution_op, _jit_compiled_convolution_op, _jit_compiled_convolution_op, _jit_compiled_convolution_op, _jit_compiled_convolution_op while saving (showing 5 of 120). These functions will not be directly callable after loading.\n"
          ]
        },
        {
          "output_type": "stream",
          "name": "stdout",
          "text": [
            "\b\b\b\b\b\b\b\b\b\b\b\b\b\b\b\b\b\b\b\b\b\b\b\b\b\b\b\b\b\b\b\b\b\b\b\b\b\b\b\b\b\b\b\b\b\b\b\b\b\b\b\b\b\b\b\b\b\b\b\b\b\b\b\b\b\b\b\b\b\b\b\b\b\b\b\b\b\b\b\b\b\b\b\b\r860/860 [==============================] - 372s 433ms/step - loss: 0.0385 - accuracy: 0.9863 - val_loss: 0.0384 - val_accuracy: 0.9900 - lr: 1.0000e-07\n",
            "Epoch 31/100\n",
            "860/860 [==============================] - ETA: 0s - loss: 0.0380 - accuracy: 0.9863\n",
            "Epoch 31: val_accuracy did not improve from 0.98999\n",
            "860/860 [==============================] - 305s 355ms/step - loss: 0.0380 - accuracy: 0.9863 - val_loss: 0.0409 - val_accuracy: 0.9881 - lr: 1.0000e-07\n",
            "Epoch 32/100\n",
            "860/860 [==============================] - ETA: 0s - loss: 0.0416 - accuracy: 0.9852\n",
            "Epoch 32: val_accuracy did not improve from 0.98999\n",
            "\n",
            "Epoch 32: ReduceLROnPlateau reducing learning rate to 1.000000082740371e-08.\n",
            "860/860 [==============================] - 310s 361ms/step - loss: 0.0416 - accuracy: 0.9852 - val_loss: 0.0391 - val_accuracy: 0.9895 - lr: 1.0000e-07\n",
            "Epoch 33/100\n",
            "860/860 [==============================] - ETA: 0s - loss: 0.0398 - accuracy: 0.9860\n",
            "Epoch 33: val_accuracy did not improve from 0.98999\n",
            "860/860 [==============================] - 305s 354ms/step - loss: 0.0398 - accuracy: 0.9860 - val_loss: 0.0385 - val_accuracy: 0.9890 - lr: 1.0000e-08\n",
            "Epoch 34/100\n",
            "860/860 [==============================] - ETA: 0s - loss: 0.0414 - accuracy: 0.9851\n",
            "Epoch 34: val_accuracy did not improve from 0.98999\n",
            "860/860 [==============================] - 306s 355ms/step - loss: 0.0414 - accuracy: 0.9851 - val_loss: 0.0383 - val_accuracy: 0.9900 - lr: 1.0000e-08\n",
            "Epoch 35/100\n",
            "860/860 [==============================] - ETA: 0s - loss: 0.0390 - accuracy: 0.9859\n",
            "Epoch 35: val_accuracy did not improve from 0.98999\n",
            "860/860 [==============================] - 306s 356ms/step - loss: 0.0390 - accuracy: 0.9859 - val_loss: 0.0375 - val_accuracy: 0.9900 - lr: 1.0000e-08\n",
            "Epoch 36/100\n",
            "860/860 [==============================] - ETA: 0s - loss: 0.0380 - accuracy: 0.9863\n",
            "Epoch 36: val_accuracy did not improve from 0.98999\n",
            "860/860 [==============================] - 306s 355ms/step - loss: 0.0380 - accuracy: 0.9863 - val_loss: 0.0387 - val_accuracy: 0.9893 - lr: 1.0000e-08\n",
            "Epoch 37/100\n",
            "860/860 [==============================] - ETA: 0s - loss: 0.0392 - accuracy: 0.9860\n",
            "Epoch 37: val_accuracy did not improve from 0.98999\n",
            "\n",
            "Epoch 37: ReduceLROnPlateau reducing learning rate to 1.000000082740371e-09.\n",
            "860/860 [==============================] - 305s 355ms/step - loss: 0.0392 - accuracy: 0.9860 - val_loss: 0.0379 - val_accuracy: 0.9900 - lr: 1.0000e-08\n",
            "Epoch 38/100\n",
            "860/860 [==============================] - ETA: 0s - loss: 0.0387 - accuracy: 0.9855\n",
            "Epoch 38: val_accuracy did not improve from 0.98999\n",
            "860/860 [==============================] - 306s 355ms/step - loss: 0.0387 - accuracy: 0.9855 - val_loss: 0.0389 - val_accuracy: 0.9890 - lr: 1.0000e-09\n",
            "Epoch 39/100\n",
            "860/860 [==============================] - ETA: 0s - loss: 0.0387 - accuracy: 0.9855\n",
            "Epoch 39: val_accuracy did not improve from 0.98999\n",
            "860/860 [==============================] - 307s 357ms/step - loss: 0.0387 - accuracy: 0.9855 - val_loss: 0.0387 - val_accuracy: 0.9895 - lr: 1.0000e-09\n",
            "Epoch 40/100\n",
            "860/860 [==============================] - ETA: 0s - loss: 0.0385 - accuracy: 0.9860\n",
            "Epoch 40: val_accuracy did not improve from 0.98999\n",
            "860/860 [==============================] - 308s 358ms/step - loss: 0.0385 - accuracy: 0.9860 - val_loss: 0.0395 - val_accuracy: 0.9890 - lr: 1.0000e-09\n",
            "Epoch 41/100\n",
            "860/860 [==============================] - ETA: 0s - loss: 0.0383 - accuracy: 0.9867\n",
            "Epoch 41: val_accuracy did not improve from 0.98999\n",
            "860/860 [==============================] - 304s 353ms/step - loss: 0.0383 - accuracy: 0.9867 - val_loss: 0.0379 - val_accuracy: 0.9895 - lr: 1.0000e-09\n",
            "Epoch 42/100\n",
            "860/860 [==============================] - ETA: 0s - loss: 0.0407 - accuracy: 0.9859\n",
            "Epoch 42: val_accuracy did not improve from 0.98999\n",
            "\n",
            "Epoch 42: ReduceLROnPlateau reducing learning rate to 1.000000082740371e-10.\n",
            "860/860 [==============================] - 303s 352ms/step - loss: 0.0407 - accuracy: 0.9859 - val_loss: 0.0388 - val_accuracy: 0.9893 - lr: 1.0000e-09\n",
            "Epoch 43/100\n",
            "860/860 [==============================] - ETA: 0s - loss: 0.0400 - accuracy: 0.9851\n",
            "Epoch 43: val_accuracy did not improve from 0.98999\n",
            "860/860 [==============================] - 305s 354ms/step - loss: 0.0400 - accuracy: 0.9851 - val_loss: 0.0389 - val_accuracy: 0.9893 - lr: 1.0000e-10\n",
            "Epoch 44/100\n",
            "860/860 [==============================] - ETA: 0s - loss: 0.0377 - accuracy: 0.9854\n",
            "Epoch 44: val_accuracy did not improve from 0.98999\n",
            "860/860 [==============================] - 309s 359ms/step - loss: 0.0377 - accuracy: 0.9854 - val_loss: 0.0382 - val_accuracy: 0.9898 - lr: 1.0000e-10\n",
            "Epoch 45/100\n",
            "860/860 [==============================] - ETA: 0s - loss: 0.0397 - accuracy: 0.9864\n",
            "Epoch 45: val_accuracy did not improve from 0.98999\n",
            "860/860 [==============================] - 304s 353ms/step - loss: 0.0397 - accuracy: 0.9864 - val_loss: 0.0402 - val_accuracy: 0.9888 - lr: 1.0000e-10\n",
            "Epoch 46/100\n",
            "860/860 [==============================] - ETA: 0s - loss: 0.0392 - accuracy: 0.9856\n",
            "Epoch 46: val_accuracy did not improve from 0.98999\n",
            "860/860 [==============================] - 303s 352ms/step - loss: 0.0392 - accuracy: 0.9856 - val_loss: 0.0385 - val_accuracy: 0.9900 - lr: 1.0000e-10\n",
            "Epoch 47/100\n",
            "860/860 [==============================] - ETA: 0s - loss: 0.0385 - accuracy: 0.9862\n",
            "Epoch 47: val_accuracy did not improve from 0.98999\n",
            "\n",
            "Epoch 47: ReduceLROnPlateau reducing learning rate to 1.000000082740371e-11.\n",
            "860/860 [==============================] - 304s 353ms/step - loss: 0.0385 - accuracy: 0.9862 - val_loss: 0.0388 - val_accuracy: 0.9893 - lr: 1.0000e-10\n",
            "Epoch 48/100\n",
            "860/860 [==============================] - ETA: 0s - loss: 0.0399 - accuracy: 0.9853\n",
            "Epoch 48: val_accuracy did not improve from 0.98999\n",
            "860/860 [==============================] - 303s 352ms/step - loss: 0.0399 - accuracy: 0.9853 - val_loss: 0.0391 - val_accuracy: 0.9893 - lr: 1.0000e-11\n",
            "Epoch 49/100\n",
            "860/860 [==============================] - ETA: 0s - loss: 0.0392 - accuracy: 0.9860\n",
            "Epoch 49: val_accuracy did not improve from 0.98999\n",
            "860/860 [==============================] - 304s 353ms/step - loss: 0.0392 - accuracy: 0.9860 - val_loss: 0.0393 - val_accuracy: 0.9890 - lr: 1.0000e-11\n",
            "Epoch 50/100\n",
            "860/860 [==============================] - ETA: 0s - loss: 0.0391 - accuracy: 0.9862\n",
            "Epoch 50: val_accuracy did not improve from 0.98999\n",
            "Restoring model weights from the end of the best epoch: 30.\n",
            "860/860 [==============================] - 303s 352ms/step - loss: 0.0391 - accuracy: 0.9862 - val_loss: 0.0382 - val_accuracy: 0.9893 - lr: 1.0000e-11\n",
            "Epoch 50: early stopping\n"
          ]
        }
      ]
    },
    {
      "cell_type": "code",
      "source": [],
      "metadata": {
        "id": "b_-Hog9Yg-AA"
      },
      "execution_count": null,
      "outputs": []
    },
    {
      "cell_type": "code",
      "source": [
        "#-----------------------------------------------------------\n",
        "# Retrieve a list of list results on training and test data\n",
        "# sets for each training epoch\n",
        "#-----------------------------------------------------------\n",
        "acc      = history_DenseNet_model_2.history['accuracy' ]\n",
        "val_acc  = history_DenseNet_model_2.history['val_accuracy' ]\n",
        "loss     = history_DenseNet_model_2.history['loss' ]\n",
        "val_loss = history_DenseNet_model_2.history['val_loss' ]\n",
        "\n",
        "epochs   = range(len(acc)) # Get number of epochs\n",
        "\n",
        "#------------------------------------------------\n",
        "# Plot training and validation accuracy per epoch\n",
        "#------------------------------------------------\n",
        "plt.plot  (epochs, acc )\n",
        "plt.plot  (epochs, val_acc )\n",
        "plt.title ('Training and validation accuracy DenseNet Model 2')\n",
        "plt.legend(['train', 'val'], loc='upper left')\n",
        "plt.figure()\n",
        "\n",
        "#------------------------------------------------\n",
        "# Plot training and validation loss per epoch\n",
        "#------------------------------------------------\n",
        "plt.plot  (epochs, loss)\n",
        "plt.plot  (epochs, val_loss)\n",
        "plt.title ('Training and validation loss DenseNet Model 2')\n",
        "plt.legend(['train', 'val'], loc='upper left')"
      ],
      "metadata": {
        "id": "p5AC_vKc-T-x",
        "colab": {
          "base_uri": "https://localhost:8080/",
          "height": 904
        },
        "outputId": "dfd72061-2a57-4207-e9aa-fa177e1cdd63"
      },
      "execution_count": 10,
      "outputs": [
        {
          "output_type": "execute_result",
          "data": {
            "text/plain": [
              "<matplotlib.legend.Legend at 0x7fe368e7dd50>"
            ]
          },
          "metadata": {},
          "execution_count": 10
        },
        {
          "output_type": "display_data",
          "data": {
            "text/plain": [
              "<Figure size 640x480 with 1 Axes>"
            ],
            "image/png": "[encoded data removed]"
          },
          "metadata": {}
        },
        {
          "output_type": "display_data",
          "data": {
            "text/plain": [
              "<Figure size 640x480 with 1 Axes>"
            ],
            "image/png": "[encoded data removed]"
          },
          "metadata": {}
        }
      ]
    },
    {
      "cell_type": "code",
      "source": [
        "!zip -r /content/Tomato_DenseNet_model2_Based_Augmented.zip /content/Tomato_DenseNet_model2_Based_Augmented"
      ],
      "metadata": {
        "id": "M0g-Ilof-UIK",
        "colab": {
          "base_uri": "https://localhost:8080/"
        },
        "outputId": "6ec1d4e6-564d-4acd-ec49-a1f6e116f19b"
      },
      "execution_count": null,
      "outputs": [
        {
          "output_type": "stream",
          "name": "stdout",
          "text": [
            "  adding: content/Tomato_DenseNet_model2_Based_Augmented/ (stored 0%)\n",
            "  adding: content/Tomato_DenseNet_model2_Based_Augmented/variables/ (stored 0%)\n",
            "  adding: content/Tomato_DenseNet_model2_Based_Augmented/variables/variables.index (deflated 79%)\n",
            "  adding: content/Tomato_DenseNet_model2_Based_Augmented/variables/variables.data-00000-of-00001 (deflated 11%)\n",
            "  adding: content/Tomato_DenseNet_model2_Based_Augmented/assets/ (stored 0%)\n",
            "  adding: content/Tomato_DenseNet_model2_Based_Augmented/keras_metadata.pb (deflated 96%)\n",
            "  adding: content/Tomato_DenseNet_model2_Based_Augmented/fingerprint.pb (stored 0%)\n",
            "  adding: content/Tomato_DenseNet_model2_Based_Augmented/saved_model.pb"
          ]
        }
      ]
    }
  ]
}