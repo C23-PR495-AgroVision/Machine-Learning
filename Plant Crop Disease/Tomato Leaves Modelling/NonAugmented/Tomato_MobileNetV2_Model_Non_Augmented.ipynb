{
  "nbformat": 4,
  "nbformat_minor": 0,
  "metadata": {
    "colab": {
      "provenance": [],
      "gpuType": "T4"
    },
    "kernelspec": {
      "name": "python3",
      "display_name": "Python 3"
    },
    "language_info": {
      "name": "python"
    },
    "accelerator": "GPU"
  },
  "cells": [
    {
      "cell_type": "code",
      "execution_count": 1,
      "metadata": {
        "colab": {
          "base_uri": "https://localhost:8080/"
        },
        "id": "Dul5vkOJ0Hn-",
        "outputId": "8b6424bb-9154-4145-d82c-a98500110956"
      },
      "outputs": [
        {
          "output_type": "stream",
          "name": "stdout",
          "text": [
            "Looking in indexes: https://pypi.org/simple, https://us-python.pkg.dev/colab-wheels/public/simple/\n",
            "Requirement already satisfied: matplotlib in /usr/local/lib/python3.10/dist-packages (3.7.1)\n",
            "Requirement already satisfied: contourpy>=1.0.1 in /usr/local/lib/python3.10/dist-packages (from matplotlib) (1.0.7)\n",
            "Requirement already satisfied: cycler>=0.10 in /usr/local/lib/python3.10/dist-packages (from matplotlib) (0.11.0)\n",
            "Requirement already satisfied: fonttools>=4.22.0 in /usr/local/lib/python3.10/dist-packages (from matplotlib) (4.39.3)\n",
            "Requirement already satisfied: kiwisolver>=1.0.1 in /usr/local/lib/python3.10/dist-packages (from matplotlib) (1.4.4)\n",
            "Requirement already satisfied: numpy>=1.20 in /usr/local/lib/python3.10/dist-packages (from matplotlib) (1.22.4)\n",
            "Requirement already satisfied: packaging>=20.0 in /usr/local/lib/python3.10/dist-packages (from matplotlib) (23.1)\n",
            "Requirement already satisfied: pillow>=6.2.0 in /usr/local/lib/python3.10/dist-packages (from matplotlib) (8.4.0)\n",
            "Requirement already satisfied: pyparsing>=2.3.1 in /usr/local/lib/python3.10/dist-packages (from matplotlib) (3.0.9)\n",
            "Requirement already satisfied: python-dateutil>=2.7 in /usr/local/lib/python3.10/dist-packages (from matplotlib) (2.8.2)\n",
            "Requirement already satisfied: six>=1.5 in /usr/local/lib/python3.10/dist-packages (from python-dateutil>=2.7->matplotlib) (1.16.0)\n"
          ]
        }
      ],
      "source": [
        "pip install matplotlib"
      ]
    },
    {
      "cell_type": "code",
      "source": [
        "pip install opendatasets"
      ],
      "metadata": {
        "colab": {
          "base_uri": "https://localhost:8080/"
        },
        "id": "u-tWw-mK0TGZ",
        "outputId": "f7760fe2-799a-4798-cd74-0485d4d756f5"
      },
      "execution_count": 2,
      "outputs": [
        {
          "output_type": "stream",
          "name": "stdout",
          "text": [
            "Looking in indexes: https://pypi.org/simple, https://us-python.pkg.dev/colab-wheels/public/simple/\n",
            "Collecting opendatasets\n",
            "  Downloading opendatasets-0.1.22-py3-none-any.whl (15 kB)\n",
            "Requirement already satisfied: tqdm in /usr/local/lib/python3.10/dist-packages (from opendatasets) (4.65.0)\n",
            "Requirement already satisfied: kaggle in /usr/local/lib/python3.10/dist-packages (from opendatasets) (1.5.13)\n",
            "Requirement already satisfied: click in /usr/local/lib/python3.10/dist-packages (from opendatasets) (8.1.3)\n",
            "Requirement already satisfied: six>=1.10 in /usr/local/lib/python3.10/dist-packages (from kaggle->opendatasets) (1.16.0)\n",
            "Requirement already satisfied: certifi in /usr/local/lib/python3.10/dist-packages (from kaggle->opendatasets) (2022.12.7)\n",
            "Requirement already satisfied: python-dateutil in /usr/local/lib/python3.10/dist-packages (from kaggle->opendatasets) (2.8.2)\n",
            "Requirement already satisfied: requests in /usr/local/lib/python3.10/dist-packages (from kaggle->opendatasets) (2.27.1)\n",
            "Requirement already satisfied: python-slugify in /usr/local/lib/python3.10/dist-packages (from kaggle->opendatasets) (8.0.1)\n",
            "Requirement already satisfied: urllib3 in /usr/local/lib/python3.10/dist-packages (from kaggle->opendatasets) (1.26.15)\n",
            "Requirement already satisfied: text-unidecode>=1.3 in /usr/local/lib/python3.10/dist-packages (from python-slugify->kaggle->opendatasets) (1.3)\n",
            "Requirement already satisfied: charset-normalizer~=2.0.0 in /usr/local/lib/python3.10/dist-packages (from requests->kaggle->opendatasets) (2.0.12)\n",
            "Requirement already satisfied: idna<4,>=2.5 in /usr/local/lib/python3.10/dist-packages (from requests->kaggle->opendatasets) (3.4)\n",
            "Installing collected packages: opendatasets\n",
            "Successfully installed opendatasets-0.1.22\n"
          ]
        }
      ]
    },
    {
      "cell_type": "code",
      "source": [
        "# Library to dataset\n",
        "import opendatasets as od\n",
        "import os\n",
        "import zipfile\n",
        "import numpy as np\n",
        "\n",
        "# Surpress Warnings\n",
        "import warnings\n",
        "warnings.filterwarnings('ignore')\n",
        "os.environ['TF_CPP_MIN_LOG_LEVEL'] = '3' \n",
        "# library visualization\n",
        "import matplotlib.pyplot as plt\n",
        "\n",
        "# Library Tensorflow\n",
        "import tensorflow as tf\n",
        "from tensorflow import keras\n",
        "from tensorflow.keras.preprocessing.image import ImageDataGenerator\n",
        "from tensorflow.keras.callbacks import ModelCheckpoint, EarlyStopping, ReduceLROnPlateau\n",
        "from tensorflow.keras.applications.densenet import DenseNet121\n",
        "from tensorflow.keras.applications.xception import Xception\n",
        "from tensorflow.keras.applications.mobilenet_v2 import MobileNetV2\n",
        "\n",
        "# Others\n",
        "import shutil\n",
        "import random"
      ],
      "metadata": {
        "id": "QYX1rxxN0UrC"
      },
      "execution_count": 3,
      "outputs": []
    },
    {
      "cell_type": "markdown",
      "source": [],
      "metadata": {
        "id": "OSbH_-A-0W4k"
      }
    },
    {
      "cell_type": "code",
      "source": [
        "# Download dataset\n",
        "od.download('https://www.kaggle.com/datasets/faudyanurul/tomato')"
      ],
      "metadata": {
        "colab": {
          "base_uri": "https://localhost:8080/"
        },
        "id": "RArFRUYm0XCo",
        "outputId": "acc151ef-a443-4c09-b13b-dd15329f7354"
      },
      "execution_count": 5,
      "outputs": [
        {
          "output_type": "stream",
          "name": "stdout",
          "text": [
            "Please provide your Kaggle credentials to download this dataset. Learn more: http://bit.ly/kaggle-creds\n",
            "Your Kaggle username: faudyanurul\n",
            "Your Kaggle Key: ··········\n",
            "Downloading tomato.zip to ./tomato\n"
          ]
        },
        {
          "output_type": "stream",
          "name": "stderr",
          "text": [
            "100%|██████████| 551M/551M [00:06<00:00, 94.9MB/s]\n"
          ]
        },
        {
          "output_type": "stream",
          "name": "stdout",
          "text": [
            "\n"
          ]
        }
      ]
    },
    {
      "cell_type": "code",
      "source": [
        "# Load dataset\n",
        "print(\"==========================Training Data====================\")\n",
        "train_data = tf.keras.preprocessing.image_dataset_from_directory(\n",
        "    \"tomato/Tomato/train\",\n",
        "    label_mode=\"categorical\",\n",
        "    class_names= ['Tomato Early blight leaf', 'Tomato Septoria leaf spot', 'Tomato leaf bacterial spot', 'Tomato leaf healthy', 'Tomato leaf late blight', 'Tomato leaf mosaic virus', 'Tomato leaf yellow virus', 'Tomato mold leaf', 'Tomato two spotted spider mites leaf'],\n",
        "    color_mode=\"rgb\",\n",
        "    batch_size=1,\n",
        "    image_size=(256, 256),\n",
        "    shuffle=True,\n",
        "    seed=123\n",
        ")\n",
        "print(\"==========================Validation Data====================\")\n",
        "val_data = tf.keras.preprocessing.image_dataset_from_directory(\n",
        "    \"tomato/Tomato/valid\",\n",
        "    label_mode=\"categorical\",\n",
        "    class_names= ['Tomato Early blight leaf', 'Tomato Septoria leaf spot', 'Tomato leaf bacterial spot', 'Tomato leaf healthy', 'Tomato leaf late blight', 'Tomato leaf mosaic virus', 'Tomato leaf yellow virus', 'Tomato mold leaf', 'Tomato two spotted spider mites leaf'],\n",
        "    color_mode=\"rgb\",\n",
        "    batch_size=1,\n",
        "    image_size=(256, 256),\n",
        "    shuffle=True,\n",
        "    seed=123\n",
        ")"
      ],
      "metadata": {
        "colab": {
          "base_uri": "https://localhost:8080/"
        },
        "id": "pQPOiRI30lkn",
        "outputId": "31edcfd8-9b4e-4a89-b970-c9c4163860a7"
      },
      "execution_count": 6,
      "outputs": [
        {
          "output_type": "stream",
          "name": "stdout",
          "text": [
            "==========================Training Data====================\n",
            "Found 17195 files belonging to 9 classes.\n",
            "==========================Validation Data====================\n",
            "Found 4197 files belonging to 9 classes.\n"
          ]
        }
      ]
    },
    {
      "cell_type": "code",
      "source": [
        "# All images will be rescaled by 1./255.\n",
        "train_datagen = ImageDataGenerator(rescale = 1.0/256.)\n",
        "test_datagen  = ImageDataGenerator(rescale = 1.0/256.)\n",
        "\n",
        "# --------------------\n",
        "# Flow training images in batches of 20 using train_datagen generator\n",
        "# --------------------\n",
        "train_generator = train_datagen.flow_from_directory(\"tomato/Tomato/train\",\n",
        "                                                    batch_size=20,\n",
        "                                                    class_mode='categorical',\n",
        "                                                    target_size=(224, 224))     \n",
        "# --------------------\n",
        "# Flow validation images in batches of 20 using test_datagen generator\n",
        "# --------------------\n",
        "validation_generator =  test_datagen.flow_from_directory(\"tomato/Tomato/valid\",\n",
        "                                                         batch_size=20,\n",
        "                                                         class_mode  = 'categorical',\n",
        "                                                         target_size = (224, 224))"
      ],
      "metadata": {
        "colab": {
          "base_uri": "https://localhost:8080/"
        },
        "id": "PhifOSJ-1aVm",
        "outputId": "0a44df5c-3c89-45d7-e487-313a756910eb"
      },
      "execution_count": 11,
      "outputs": [
        {
          "output_type": "stream",
          "name": "stdout",
          "text": [
            "Found 17195 images belonging to 9 classes.\n",
            "Found 4197 images belonging to 9 classes.\n"
          ]
        }
      ]
    },
    {
      "cell_type": "markdown",
      "source": [],
      "metadata": {
        "id": "y06do4h81iDy"
      }
    },
    {
      "cell_type": "code",
      "source": [
        "# Check GPU\n",
        "!nvidia-smi"
      ],
      "metadata": {
        "colab": {
          "base_uri": "https://localhost:8080/"
        },
        "id": "K1jXnMbj1iMq",
        "outputId": "76628689-36ec-4998-8801-089b82341b17"
      },
      "execution_count": 12,
      "outputs": [
        {
          "output_type": "stream",
          "name": "stdout",
          "text": [
            "Sun Jun  4 14:40:34 2023       \n",
            "+-----------------------------------------------------------------------------+\n",
            "| NVIDIA-SMI 525.85.12    Driver Version: 525.85.12    CUDA Version: 12.0     |\n",
            "|-------------------------------+----------------------+----------------------+\n",
            "| GPU  Name        Persistence-M| Bus-Id        Disp.A | Volatile Uncorr. ECC |\n",
            "| Fan  Temp  Perf  Pwr:Usage/Cap|         Memory-Usage | GPU-Util  Compute M. |\n",
            "|                               |                      |               MIG M. |\n",
            "|===============================+======================+======================|\n",
            "|   0  Tesla T4            Off  | 00000000:00:04.0 Off |                    0 |\n",
            "| N/A   58C    P0    28W /  70W |    389MiB / 15360MiB |      0%      Default |\n",
            "|                               |                      |                  N/A |\n",
            "+-------------------------------+----------------------+----------------------+\n",
            "                                                                               \n",
            "+-----------------------------------------------------------------------------+\n",
            "| Processes:                                                                  |\n",
            "|  GPU   GI   CI        PID   Type   Process name                  GPU Memory |\n",
            "|        ID   ID                                                   Usage      |\n",
            "|=============================================================================|\n",
            "+-----------------------------------------------------------------------------+\n"
          ]
        }
      ]
    },
    {
      "cell_type": "code",
      "source": [
        "# Lis physical devices\n",
        "devices = tf.config.experimental.list_physical_devices(\"GPU\")\n",
        "devices"
      ],
      "metadata": {
        "colab": {
          "base_uri": "https://localhost:8080/"
        },
        "id": "OdtXkN-a1iVC",
        "outputId": "d4751b91-563e-4aeb-cce9-33d2dd43b66b"
      },
      "execution_count": 13,
      "outputs": [
        {
          "output_type": "execute_result",
          "data": {
            "text/plain": [
              "[PhysicalDevice(name='/physical_device:GPU:0', device_type='GPU')]"
            ]
          },
          "metadata": {},
          "execution_count": 13
        }
      ]
    },
    {
      "cell_type": "code",
      "source": [
        "# Define the GPU strategy\n",
        "mirrored_strategy = tf.distribute.MirroredStrategy(devices=[\"/gpu:0\"])"
      ],
      "metadata": {
        "id": "8yCr3RCe1ieC"
      },
      "execution_count": 14,
      "outputs": []
    },
    {
      "cell_type": "markdown",
      "source": [],
      "metadata": {
        "id": "6QIqmqB71n7G"
      }
    },
    {
      "cell_type": "code",
      "source": [
        "# Difine the callbacks\n",
        "# Save the best model\n",
        "checkpoint_callback = ModelCheckpoint(filepath=\"Tomato_MobileNetV2_model1_Based_Non_Augmented\", save_best_only=True, monitor=\"val_accuracy\", mode=\"max\", verbose=1)\n",
        "\n",
        "# Early stopping\n",
        "early_stopping_callback = EarlyStopping(monitor=\"val_accuracy\", mode=\"max\", patience=20, verbose=1, restore_best_weights=True)\n",
        "\n",
        "# Reduce learning rate\n",
        "reduce_lr_callback = ReduceLROnPlateau(monitor=\"val_loss\", factor=0.1, patience=5, verbose=1, mode=\"min\", min_delta=0.0001, cooldown=0, min_lr=0)\n",
        "\n",
        "# Callbacks list\n",
        "callbacks=[checkpoint_callback, early_stopping_callback, reduce_lr_callback]"
      ],
      "metadata": {
        "id": "WaEhsBgb1oEx"
      },
      "execution_count": 15,
      "outputs": []
    },
    {
      "cell_type": "code",
      "source": [
        "# Define DIY Model\n",
        "MobileNetV2_model = tf.keras.models.Sequential([\n",
        "    # MobileNetV2 Layer\n",
        "    MobileNetV2(include_top=False,weights='imagenet',input_shape=(224, 224, 3)),\n",
        "    # Global Max Pooling Layer\n",
        "    tf.keras.layers.GlobalMaxPooling2D(),\n",
        "    # Drop Out Layer\n",
        "    tf.keras.layers.Dropout(0.2),\n",
        "    # 256 neuron hidden layer\n",
        "    tf.keras.layers.Dense(256, activation='relu'),\n",
        "    # Output\n",
        "    tf.keras.layers.Dense(9, activation='softmax') \n",
        "  ])\n",
        "\n",
        "\n",
        "# Compile Model\n",
        "MobileNetV2_model.compile(loss='categorical_crossentropy',optimizer=tf.keras.optimizers.Adam(), metrics=['accuracy']) \n",
        "\n",
        "# Model Summary\n",
        "MobileNetV2_model.summary()"
      ],
      "metadata": {
        "colab": {
          "base_uri": "https://localhost:8080/"
        },
        "id": "ElVWMzNR1oNy",
        "outputId": "943e343c-dfca-4419-d5ef-332bd8de1441"
      },
      "execution_count": 16,
      "outputs": [
        {
          "output_type": "stream",
          "name": "stdout",
          "text": [
            "Downloading data from https://storage.googleapis.com/tensorflow/keras-applications/mobilenet_v2/mobilenet_v2_weights_tf_dim_ordering_tf_kernels_1.0_224_no_top.h5\n",
            "9406464/9406464 [==============================] - 0s 0us/step\n",
            "Model: \"sequential\"\n",
            "_________________________________________________________________\n",
            " Layer (type)                Output Shape              Param #   \n",
            "=================================================================\n",
            " mobilenetv2_1.00_224 (Funct  (None, 7, 7, 1280)       2257984   \n",
            " ional)                                                          \n",
            "                                                                 \n",
            " global_max_pooling2d (Globa  (None, 1280)             0         \n",
            " lMaxPooling2D)                                                  \n",
            "                                                                 \n",
            " dropout (Dropout)           (None, 1280)              0         \n",
            "                                                                 \n",
            " dense (Dense)               (None, 256)               327936    \n",
            "                                                                 \n",
            " dense_1 (Dense)             (None, 9)                 2313      \n",
            "                                                                 \n",
            "=================================================================\n",
            "Total params: 2,588,233\n",
            "Trainable params: 2,554,121\n",
            "Non-trainable params: 34,112\n",
            "_________________________________________________________________\n"
          ]
        }
      ]
    },
    {
      "cell_type": "code",
      "source": [
        "# Define the number of epochs\n",
        "num_epochs = 100\n",
        "\n",
        "# Train the model\n",
        "history_MobileNetV2_model_1 = MobileNetV2_model.fit(train_generator, epochs=num_epochs, validation_data=validation_generator, callbacks=callbacks)"
      ],
      "metadata": {
        "colab": {
          "base_uri": "https://localhost:8080/"
        },
        "id": "1bkPCDhd1oXy",
        "outputId": "3f1f2132-27ab-4c1d-a84c-2223ba69e6bf"
      },
      "execution_count": 17,
      "outputs": [
        {
          "output_type": "stream",
          "name": "stdout",
          "text": [
            "Epoch 1/100\n",
            "860/860 [==============================] - ETA: 0s - loss: 0.5515 - accuracy: 0.8441\n",
            "Epoch 1: val_accuracy improved from -inf to 0.24970, saving model to Tomato_MobileNetV2_model1_Based_Non_Augmented\n"
          ]
        },
        {
          "output_type": "stream",
          "name": "stderr",
          "text": [
            "WARNING:absl:Function `_wrapped_model` contains input name(s) mobilenetv2_1.00_224_input with unsupported characters which will be renamed to mobilenetv2_1_00_224_input in the SavedModel.\n",
            "WARNING:absl:`mobilenetv2_1.00_224_input` is not a valid tf.function parameter name. Sanitizing to `mobilenetv2_1_00_224_input`.\n",
            "WARNING:absl:`mobilenetv2_1.00_224_input` is not a valid tf.function parameter name. Sanitizing to `mobilenetv2_1_00_224_input`.\n",
            "WARNING:absl:`mobilenetv2_1.00_224_input` is not a valid tf.function parameter name. Sanitizing to `mobilenetv2_1_00_224_input`.\n",
            "WARNING:absl:Found untraced functions such as _jit_compiled_convolution_op, _jit_compiled_convolution_op, _jit_compiled_convolution_op, _jit_compiled_convolution_op, _jit_compiled_convolution_op while saving (showing 5 of 52). These functions will not be directly callable after loading.\n"
          ]
        },
        {
          "output_type": "stream",
          "name": "stdout",
          "text": [
            "\b\b\b\b\b\b\b\b\b\b\b\b\b\b\b\b\b\b\b\b\b\b\b\b\b\b\b\b\b\b\b\b\b\b\b\b\b\b\b\b\b\b\b\b\b\b\b\b\b\b\b\b\b\b\b\b\b\b\b\b\b\b\b\b\b\b\b\b\b\b\b\b\b\b\b\b\b\b\b\b\b\b\b\b\r860/860 [==============================] - 178s 152ms/step - loss: 0.5515 - accuracy: 0.8441 - val_loss: 5.0882 - val_accuracy: 0.2497 - lr: 0.0010\n",
            "Epoch 2/100\n",
            "860/860 [==============================] - ETA: 0s - loss: 0.2512 - accuracy: 0.9222\n",
            "Epoch 2: val_accuracy improved from 0.24970 to 0.57708, saving model to Tomato_MobileNetV2_model1_Based_Non_Augmented\n"
          ]
        },
        {
          "output_type": "stream",
          "name": "stderr",
          "text": [
            "WARNING:absl:Function `_wrapped_model` contains input name(s) mobilenetv2_1.00_224_input with unsupported characters which will be renamed to mobilenetv2_1_00_224_input in the SavedModel.\n",
            "WARNING:absl:`mobilenetv2_1.00_224_input` is not a valid tf.function parameter name. Sanitizing to `mobilenetv2_1_00_224_input`.\n",
            "WARNING:absl:`mobilenetv2_1.00_224_input` is not a valid tf.function parameter name. Sanitizing to `mobilenetv2_1_00_224_input`.\n",
            "WARNING:absl:Found untraced functions such as _jit_compiled_convolution_op, _jit_compiled_convolution_op, _jit_compiled_convolution_op, _jit_compiled_convolution_op, _jit_compiled_convolution_op while saving (showing 5 of 52). These functions will not be directly callable after loading.\n"
          ]
        },
        {
          "output_type": "stream",
          "name": "stdout",
          "text": [
            "\b\b\b\b\b\b\b\b\b\b\b\b\b\b\b\b\b\b\b\b\b\b\b\b\b\b\b\b\b\b\b\b\b\b\b\b\b\b\b\b\b\b\b\b\b\b\b\b\b\b\b\b\b\b\b\b\b\b\b\b\b\b\b\b\b\b\b\b\b\b\b\b\b\b\b\b\b\b\b\b\b\b\b\b\r860/860 [==============================] - 125s 145ms/step - loss: 0.2512 - accuracy: 0.9222 - val_loss: 1.8728 - val_accuracy: 0.5771 - lr: 0.0010\n",
            "Epoch 3/100\n",
            "860/860 [==============================] - ETA: 0s - loss: 0.2033 - accuracy: 0.9357\n",
            "Epoch 3: val_accuracy did not improve from 0.57708\n",
            "860/860 [==============================] - 101s 117ms/step - loss: 0.2033 - accuracy: 0.9357 - val_loss: 2.0114 - val_accuracy: 0.5640 - lr: 0.0010\n",
            "Epoch 4/100\n",
            "860/860 [==============================] - ETA: 0s - loss: 0.1885 - accuracy: 0.9412\n",
            "Epoch 4: val_accuracy did not improve from 0.57708\n",
            "860/860 [==============================] - 101s 117ms/step - loss: 0.1885 - accuracy: 0.9412 - val_loss: 2.2208 - val_accuracy: 0.5096 - lr: 0.0010\n",
            "Epoch 5/100\n",
            "860/860 [==============================] - ETA: 0s - loss: 0.2043 - accuracy: 0.9357\n",
            "Epoch 5: val_accuracy improved from 0.57708 to 0.62878, saving model to Tomato_MobileNetV2_model1_Based_Non_Augmented\n"
          ]
        },
        {
          "output_type": "stream",
          "name": "stderr",
          "text": [
            "WARNING:absl:Function `_wrapped_model` contains input name(s) mobilenetv2_1.00_224_input with unsupported characters which will be renamed to mobilenetv2_1_00_224_input in the SavedModel.\n",
            "WARNING:absl:Found untraced functions such as _jit_compiled_convolution_op, _jit_compiled_convolution_op, _jit_compiled_convolution_op, _jit_compiled_convolution_op, _jit_compiled_convolution_op while saving (showing 5 of 52). These functions will not be directly callable after loading.\n"
          ]
        },
        {
          "output_type": "stream",
          "name": "stdout",
          "text": [
            "\b\b\b\b\b\b\b\b\b\b\b\b\b\b\b\b\b\b\b\b\b\b\b\b\b\b\b\b\b\b\b\b\b\b\b\b\b\b\b\b\b\b\b\b\b\b\b\b\b\b\b\b\b\b\b\b\b\b\b\b\b\b\b\b\b\b\b\b\b\b\b\b\b\b\b\b\b\b\b\b\b\b\b\b\r860/860 [==============================] - 124s 145ms/step - loss: 0.2043 - accuracy: 0.9357 - val_loss: 1.2332 - val_accuracy: 0.6288 - lr: 0.0010\n",
            "Epoch 6/100\n",
            "860/860 [==============================] - ETA: 0s - loss: 0.1816 - accuracy: 0.9412\n",
            "Epoch 6: val_accuracy did not improve from 0.62878\n",
            "860/860 [==============================] - 100s 117ms/step - loss: 0.1816 - accuracy: 0.9412 - val_loss: 1.3274 - val_accuracy: 0.5957 - lr: 0.0010\n",
            "Epoch 7/100\n",
            "860/860 [==============================] - ETA: 0s - loss: 0.1723 - accuracy: 0.9457\n",
            "Epoch 7: val_accuracy did not improve from 0.62878\n",
            "860/860 [==============================] - 100s 116ms/step - loss: 0.1723 - accuracy: 0.9457 - val_loss: 3.0244 - val_accuracy: 0.4051 - lr: 0.0010\n",
            "Epoch 8/100\n",
            "860/860 [==============================] - ETA: 0s - loss: 0.1639 - accuracy: 0.9485\n",
            "Epoch 8: val_accuracy improved from 0.62878 to 0.89207, saving model to Tomato_MobileNetV2_model1_Based_Non_Augmented\n"
          ]
        },
        {
          "output_type": "stream",
          "name": "stderr",
          "text": [
            "WARNING:absl:Function `_wrapped_model` contains input name(s) mobilenetv2_1.00_224_input with unsupported characters which will be renamed to mobilenetv2_1_00_224_input in the SavedModel.\n",
            "WARNING:absl:Found untraced functions such as _jit_compiled_convolution_op, _jit_compiled_convolution_op, _jit_compiled_convolution_op, _jit_compiled_convolution_op, _jit_compiled_convolution_op while saving (showing 5 of 52). These functions will not be directly callable after loading.\n"
          ]
        },
        {
          "output_type": "stream",
          "name": "stdout",
          "text": [
            "\b\b\b\b\b\b\b\b\b\b\b\b\b\b\b\b\b\b\b\b\b\b\b\b\b\b\b\b\b\b\b\b\b\b\b\b\b\b\b\b\b\b\b\b\b\b\b\b\b\b\b\b\b\b\b\b\b\b\b\b\b\b\b\b\b\b\b\b\b\b\b\b\b\b\b\b\b\b\b\b\b\b\b\b\r860/860 [==============================] - 124s 144ms/step - loss: 0.1639 - accuracy: 0.9485 - val_loss: 0.3649 - val_accuracy: 0.8921 - lr: 0.0010\n",
            "Epoch 9/100\n",
            "860/860 [==============================] - ETA: 0s - loss: 0.1450 - accuracy: 0.9539\n",
            "Epoch 9: val_accuracy did not improve from 0.89207\n",
            "860/860 [==============================] - 100s 116ms/step - loss: 0.1450 - accuracy: 0.9539 - val_loss: 2.2238 - val_accuracy: 0.4680 - lr: 0.0010\n",
            "Epoch 10/100\n",
            "860/860 [==============================] - ETA: 0s - loss: 0.1452 - accuracy: 0.9542\n",
            "Epoch 10: val_accuracy did not improve from 0.89207\n",
            "860/860 [==============================] - 100s 116ms/step - loss: 0.1452 - accuracy: 0.9542 - val_loss: 0.5137 - val_accuracy: 0.8701 - lr: 0.0010\n",
            "Epoch 11/100\n",
            "860/860 [==============================] - ETA: 0s - loss: 0.1430 - accuracy: 0.9540\n",
            "Epoch 11: val_accuracy did not improve from 0.89207\n",
            "860/860 [==============================] - 100s 116ms/step - loss: 0.1430 - accuracy: 0.9540 - val_loss: 0.6760 - val_accuracy: 0.7725 - lr: 0.0010\n",
            "Epoch 12/100\n",
            "860/860 [==============================] - ETA: 0s - loss: 0.1258 - accuracy: 0.9602\n",
            "Epoch 12: val_accuracy did not improve from 0.89207\n",
            "860/860 [==============================] - 100s 116ms/step - loss: 0.1258 - accuracy: 0.9602 - val_loss: 0.8147 - val_accuracy: 0.7553 - lr: 0.0010\n",
            "Epoch 13/100\n",
            "860/860 [==============================] - ETA: 0s - loss: 0.1194 - accuracy: 0.9589\n",
            "Epoch 13: val_accuracy did not improve from 0.89207\n",
            "\n",
            "Epoch 13: ReduceLROnPlateau reducing learning rate to 0.00010000000474974513.\n",
            "860/860 [==============================] - 99s 116ms/step - loss: 0.1194 - accuracy: 0.9589 - val_loss: 0.5030 - val_accuracy: 0.8659 - lr: 0.0010\n",
            "Epoch 14/100\n",
            "860/860 [==============================] - ETA: 0s - loss: 0.0657 - accuracy: 0.9782\n",
            "Epoch 14: val_accuracy improved from 0.89207 to 0.98332, saving model to Tomato_MobileNetV2_model1_Based_Non_Augmented\n"
          ]
        },
        {
          "output_type": "stream",
          "name": "stderr",
          "text": [
            "WARNING:absl:Function `_wrapped_model` contains input name(s) mobilenetv2_1.00_224_input with unsupported characters which will be renamed to mobilenetv2_1_00_224_input in the SavedModel.\n",
            "WARNING:absl:Found untraced functions such as _jit_compiled_convolution_op, _jit_compiled_convolution_op, _jit_compiled_convolution_op, _jit_compiled_convolution_op, _jit_compiled_convolution_op while saving (showing 5 of 52). These functions will not be directly callable after loading.\n"
          ]
        },
        {
          "output_type": "stream",
          "name": "stdout",
          "text": [
            "\b\b\b\b\b\b\b\b\b\b\b\b\b\b\b\b\b\b\b\b\b\b\b\b\b\b\b\b\b\b\b\b\b\b\b\b\b\b\b\b\b\b\b\b\b\b\b\b\b\b\b\b\b\b\b\b\b\b\b\b\b\b\b\b\b\b\b\b\b\b\b\b\b\b\b\b\b\b\b\b\b\b\b\b\r860/860 [==============================] - 123s 143ms/step - loss: 0.0657 - accuracy: 0.9782 - val_loss: 0.0510 - val_accuracy: 0.9833 - lr: 1.0000e-04\n",
            "Epoch 15/100\n",
            "860/860 [==============================] - ETA: 0s - loss: 0.0461 - accuracy: 0.9830\n",
            "Epoch 15: val_accuracy improved from 0.98332 to 0.98737, saving model to Tomato_MobileNetV2_model1_Based_Non_Augmented\n"
          ]
        },
        {
          "output_type": "stream",
          "name": "stderr",
          "text": [
            "WARNING:absl:Function `_wrapped_model` contains input name(s) mobilenetv2_1.00_224_input with unsupported characters which will be renamed to mobilenetv2_1_00_224_input in the SavedModel.\n",
            "WARNING:absl:Found untraced functions such as _jit_compiled_convolution_op, _jit_compiled_convolution_op, _jit_compiled_convolution_op, _jit_compiled_convolution_op, _jit_compiled_convolution_op while saving (showing 5 of 52). These functions will not be directly callable after loading.\n"
          ]
        },
        {
          "output_type": "stream",
          "name": "stdout",
          "text": [
            "\b\b\b\b\b\b\b\b\b\b\b\b\b\b\b\b\b\b\b\b\b\b\b\b\b\b\b\b\b\b\b\b\b\b\b\b\b\b\b\b\b\b\b\b\b\b\b\b\b\b\b\b\b\b\b\b\b\b\b\b\b\b\b\b\b\b\b\b\b\b\b\b\b\b\b\b\b\b\b\b\b\b\b\b\r860/860 [==============================] - 124s 145ms/step - loss: 0.0461 - accuracy: 0.9830 - val_loss: 0.0427 - val_accuracy: 0.9874 - lr: 1.0000e-04\n",
            "Epoch 16/100\n",
            "860/860 [==============================] - ETA: 0s - loss: 0.0371 - accuracy: 0.9862\n",
            "Epoch 16: val_accuracy improved from 0.98737 to 0.98832, saving model to Tomato_MobileNetV2_model1_Based_Non_Augmented\n"
          ]
        },
        {
          "output_type": "stream",
          "name": "stderr",
          "text": [
            "WARNING:absl:Function `_wrapped_model` contains input name(s) mobilenetv2_1.00_224_input with unsupported characters which will be renamed to mobilenetv2_1_00_224_input in the SavedModel.\n",
            "WARNING:absl:Found untraced functions such as _jit_compiled_convolution_op, _jit_compiled_convolution_op, _jit_compiled_convolution_op, _jit_compiled_convolution_op, _jit_compiled_convolution_op while saving (showing 5 of 52). These functions will not be directly callable after loading.\n"
          ]
        },
        {
          "output_type": "stream",
          "name": "stdout",
          "text": [
            "\b\b\b\b\b\b\b\b\b\b\b\b\b\b\b\b\b\b\b\b\b\b\b\b\b\b\b\b\b\b\b\b\b\b\b\b\b\b\b\b\b\b\b\b\b\b\b\b\b\b\b\b\b\b\b\b\b\b\b\b\b\b\b\b\b\b\b\b\b\b\b\b\b\b\b\b\b\b\b\b\b\b\b\b\r860/860 [==============================] - 134s 156ms/step - loss: 0.0371 - accuracy: 0.9862 - val_loss: 0.0409 - val_accuracy: 0.9883 - lr: 1.0000e-04\n",
            "Epoch 17/100\n",
            "860/860 [==============================] - ETA: 0s - loss: 0.0322 - accuracy: 0.9884\n",
            "Epoch 17: val_accuracy did not improve from 0.98832\n",
            "860/860 [==============================] - 103s 120ms/step - loss: 0.0322 - accuracy: 0.9884 - val_loss: 0.0414 - val_accuracy: 0.9876 - lr: 1.0000e-04\n",
            "Epoch 18/100\n",
            "860/860 [==============================] - ETA: 0s - loss: 0.0299 - accuracy: 0.9896\n",
            "Epoch 18: val_accuracy improved from 0.98832 to 0.98880, saving model to Tomato_MobileNetV2_model1_Based_Non_Augmented\n"
          ]
        },
        {
          "output_type": "stream",
          "name": "stderr",
          "text": [
            "WARNING:absl:Function `_wrapped_model` contains input name(s) mobilenetv2_1.00_224_input with unsupported characters which will be renamed to mobilenetv2_1_00_224_input in the SavedModel.\n",
            "WARNING:absl:Found untraced functions such as _jit_compiled_convolution_op, _jit_compiled_convolution_op, _jit_compiled_convolution_op, _jit_compiled_convolution_op, _jit_compiled_convolution_op while saving (showing 5 of 52). These functions will not be directly callable after loading.\n"
          ]
        },
        {
          "output_type": "stream",
          "name": "stdout",
          "text": [
            "\b\b\b\b\b\b\b\b\b\b\b\b\b\b\b\b\b\b\b\b\b\b\b\b\b\b\b\b\b\b\b\b\b\b\b\b\b\b\b\b\b\b\b\b\b\b\b\b\b\b\b\b\b\b\b\b\b\b\b\b\b\b\b\b\b\b\b\b\b\b\b\b\b\b\b\b\b\b\b\b\b\b\b\b\r860/860 [==============================] - 136s 159ms/step - loss: 0.0299 - accuracy: 0.9896 - val_loss: 0.0344 - val_accuracy: 0.9888 - lr: 1.0000e-04\n",
            "Epoch 19/100\n",
            "860/860 [==============================] - ETA: 0s - loss: 0.0263 - accuracy: 0.9905\n",
            "Epoch 19: val_accuracy did not improve from 0.98880\n",
            "860/860 [==============================] - 103s 119ms/step - loss: 0.0263 - accuracy: 0.9905 - val_loss: 0.0474 - val_accuracy: 0.9850 - lr: 1.0000e-04\n",
            "Epoch 20/100\n",
            "860/860 [==============================] - ETA: 0s - loss: 0.0204 - accuracy: 0.9925\n",
            "Epoch 20: val_accuracy did not improve from 0.98880\n",
            "860/860 [==============================] - 103s 119ms/step - loss: 0.0204 - accuracy: 0.9925 - val_loss: 0.0497 - val_accuracy: 0.9859 - lr: 1.0000e-04\n",
            "Epoch 21/100\n",
            "860/860 [==============================] - ETA: 0s - loss: 0.0190 - accuracy: 0.9928\n",
            "Epoch 21: val_accuracy did not improve from 0.98880\n",
            "860/860 [==============================] - 110s 128ms/step - loss: 0.0190 - accuracy: 0.9928 - val_loss: 0.0624 - val_accuracy: 0.9862 - lr: 1.0000e-04\n",
            "Epoch 22/100\n",
            "860/860 [==============================] - ETA: 0s - loss: 0.0160 - accuracy: 0.9942\n",
            "Epoch 22: val_accuracy did not improve from 0.98880\n",
            "860/860 [==============================] - 111s 129ms/step - loss: 0.0160 - accuracy: 0.9942 - val_loss: 0.0491 - val_accuracy: 0.9886 - lr: 1.0000e-04\n",
            "Epoch 23/100\n",
            "860/860 [==============================] - ETA: 0s - loss: 0.0134 - accuracy: 0.9956\n",
            "Epoch 23: val_accuracy did not improve from 0.98880\n",
            "\n",
            "Epoch 23: ReduceLROnPlateau reducing learning rate to 1.0000000474974514e-05.\n",
            "860/860 [==============================] - 103s 120ms/step - loss: 0.0134 - accuracy: 0.9956 - val_loss: 0.0526 - val_accuracy: 0.9881 - lr: 1.0000e-04\n",
            "Epoch 24/100\n",
            "860/860 [==============================] - ETA: 0s - loss: 0.0094 - accuracy: 0.9970\n",
            "Epoch 24: val_accuracy did not improve from 0.98880\n",
            "860/860 [==============================] - 101s 118ms/step - loss: 0.0094 - accuracy: 0.9970 - val_loss: 0.0471 - val_accuracy: 0.9886 - lr: 1.0000e-05\n",
            "Epoch 25/100\n",
            "860/860 [==============================] - ETA: 0s - loss: 0.0094 - accuracy: 0.9973\n",
            "Epoch 25: val_accuracy did not improve from 0.98880\n",
            "860/860 [==============================] - 100s 116ms/step - loss: 0.0094 - accuracy: 0.9973 - val_loss: 0.0475 - val_accuracy: 0.9883 - lr: 1.0000e-05\n",
            "Epoch 26/100\n",
            "860/860 [==============================] - ETA: 0s - loss: 0.0073 - accuracy: 0.9977\n",
            "Epoch 26: val_accuracy did not improve from 0.98880\n",
            "860/860 [==============================] - 101s 117ms/step - loss: 0.0073 - accuracy: 0.9977 - val_loss: 0.0489 - val_accuracy: 0.9881 - lr: 1.0000e-05\n",
            "Epoch 27/100\n",
            "860/860 [==============================] - ETA: 0s - loss: 0.0083 - accuracy: 0.9977\n",
            "Epoch 27: val_accuracy did not improve from 0.98880\n",
            "860/860 [==============================] - 100s 116ms/step - loss: 0.0083 - accuracy: 0.9977 - val_loss: 0.0487 - val_accuracy: 0.9886 - lr: 1.0000e-05\n",
            "Epoch 28/100\n",
            "860/860 [==============================] - ETA: 0s - loss: 0.0072 - accuracy: 0.9978\n",
            "Epoch 28: val_accuracy did not improve from 0.98880\n",
            "\n",
            "Epoch 28: ReduceLROnPlateau reducing learning rate to 1.0000000656873453e-06.\n",
            "860/860 [==============================] - 100s 116ms/step - loss: 0.0072 - accuracy: 0.9978 - val_loss: 0.0488 - val_accuracy: 0.9886 - lr: 1.0000e-05\n",
            "Epoch 29/100\n",
            "860/860 [==============================] - ETA: 0s - loss: 0.0070 - accuracy: 0.9978\n",
            "Epoch 29: val_accuracy did not improve from 0.98880\n",
            "860/860 [==============================] - 100s 117ms/step - loss: 0.0070 - accuracy: 0.9978 - val_loss: 0.0488 - val_accuracy: 0.9886 - lr: 1.0000e-06\n",
            "Epoch 30/100\n",
            "860/860 [==============================] - ETA: 0s - loss: 0.0063 - accuracy: 0.9980\n",
            "Epoch 30: val_accuracy did not improve from 0.98880\n",
            "860/860 [==============================] - 108s 126ms/step - loss: 0.0063 - accuracy: 0.9980 - val_loss: 0.0488 - val_accuracy: 0.9888 - lr: 1.0000e-06\n",
            "Epoch 31/100\n",
            "860/860 [==============================] - ETA: 0s - loss: 0.0066 - accuracy: 0.9980\n",
            "Epoch 31: val_accuracy did not improve from 0.98880\n",
            "860/860 [==============================] - 100s 116ms/step - loss: 0.0066 - accuracy: 0.9980 - val_loss: 0.0488 - val_accuracy: 0.9888 - lr: 1.0000e-06\n",
            "Epoch 32/100\n",
            "860/860 [==============================] - ETA: 0s - loss: 0.0065 - accuracy: 0.9979\n",
            "Epoch 32: val_accuracy did not improve from 0.98880\n",
            "860/860 [==============================] - 99s 115ms/step - loss: 0.0065 - accuracy: 0.9979 - val_loss: 0.0487 - val_accuracy: 0.9888 - lr: 1.0000e-06\n",
            "Epoch 33/100\n",
            "860/860 [==============================] - ETA: 0s - loss: 0.0055 - accuracy: 0.9983\n",
            "Epoch 33: val_accuracy did not improve from 0.98880\n",
            "\n",
            "Epoch 33: ReduceLROnPlateau reducing learning rate to 1.0000001111620805e-07.\n",
            "860/860 [==============================] - 100s 116ms/step - loss: 0.0055 - accuracy: 0.9983 - val_loss: 0.0489 - val_accuracy: 0.9886 - lr: 1.0000e-06\n",
            "Epoch 34/100\n",
            "860/860 [==============================] - ETA: 0s - loss: 0.0064 - accuracy: 0.9983\n",
            "Epoch 34: val_accuracy did not improve from 0.98880\n",
            "860/860 [==============================] - 100s 117ms/step - loss: 0.0064 - accuracy: 0.9983 - val_loss: 0.0489 - val_accuracy: 0.9886 - lr: 1.0000e-07\n",
            "Epoch 35/100\n",
            "860/860 [==============================] - ETA: 0s - loss: 0.0064 - accuracy: 0.9980\n",
            "Epoch 35: val_accuracy did not improve from 0.98880\n",
            "860/860 [==============================] - 100s 116ms/step - loss: 0.0064 - accuracy: 0.9980 - val_loss: 0.0489 - val_accuracy: 0.9886 - lr: 1.0000e-07\n",
            "Epoch 36/100\n",
            "860/860 [==============================] - ETA: 0s - loss: 0.0060 - accuracy: 0.9974\n",
            "Epoch 36: val_accuracy did not improve from 0.98880\n",
            "860/860 [==============================] - 100s 117ms/step - loss: 0.0060 - accuracy: 0.9974 - val_loss: 0.0490 - val_accuracy: 0.9886 - lr: 1.0000e-07\n",
            "Epoch 37/100\n",
            "860/860 [==============================] - ETA: 0s - loss: 0.0059 - accuracy: 0.9982\n",
            "Epoch 37: val_accuracy did not improve from 0.98880\n",
            "860/860 [==============================] - 101s 117ms/step - loss: 0.0059 - accuracy: 0.9982 - val_loss: 0.0490 - val_accuracy: 0.9886 - lr: 1.0000e-07\n",
            "Epoch 38/100\n",
            "860/860 [==============================] - ETA: 0s - loss: 0.0066 - accuracy: 0.9978\n",
            "Epoch 38: val_accuracy did not improve from 0.98880\n",
            "Restoring model weights from the end of the best epoch: 18.\n",
            "\n",
            "Epoch 38: ReduceLROnPlateau reducing learning rate to 1.000000082740371e-08.\n",
            "860/860 [==============================] - 101s 117ms/step - loss: 0.0066 - accuracy: 0.9978 - val_loss: 0.0490 - val_accuracy: 0.9886 - lr: 1.0000e-07\n",
            "Epoch 38: early stopping\n"
          ]
        }
      ]
    },
    {
      "cell_type": "code",
      "source": [
        "#-----------------------------------------------------------\n",
        "# Retrieve a list of list results on training and test data\n",
        "# sets for each training epoch\n",
        "#-----------------------------------------------------------\n",
        "acc      = history_MobileNetV2_model_1.history['accuracy' ]\n",
        "val_acc  = history_MobileNetV2_model_1.history['val_accuracy' ]\n",
        "loss     = history_MobileNetV2_model_1.history['loss' ]\n",
        "val_loss = history_MobileNetV2_model_1.history['val_loss' ]\n",
        "\n",
        "epochs   = range(len(acc)) # Get number of epochs\n",
        "\n",
        "#------------------------------------------------\n",
        "# Plot training and validation accuracy per epoch\n",
        "#------------------------------------------------\n",
        "plt.plot  (epochs, acc )\n",
        "plt.plot  (epochs, val_acc )\n",
        "plt.title ('Training and validation accuracy MobileNetV2 Model 1')\n",
        "plt.legend(['train', 'val'], loc='upper left')\n",
        "plt.figure()\n",
        "\n",
        "#------------------------------------------------\n",
        "# Plot training and validation loss per epoch\n",
        "#------------------------------------------------\n",
        "plt.plot  (epochs, loss)\n",
        "plt.plot  (epochs, val_loss)\n",
        "plt.title ('Training and validation loss MobileNetV2 Model 1')\n",
        "plt.legend(['train', 'val'], loc='upper left')"
      ],
      "metadata": {
        "colab": {
          "base_uri": "https://localhost:8080/",
          "height": 904
        },
        "id": "8xXceA0n1okA",
        "outputId": "57382cae-ce37-49bd-cbba-2d4ade3156f3"
      },
      "execution_count": 18,
      "outputs": [
        {
          "output_type": "execute_result",
          "data": {
            "text/plain": [
              "<matplotlib.legend.Legend at 0x7f9c2ef3b3d0>"
            ]
          },
          "metadata": {},
          "execution_count": 18
        },
        {
          "output_type": "display_data",
          "data": {
            "text/plain": [
              "<Figure size 640x480 with 1 Axes>"
            ],
            "image/png": "[encoded data removed]"
          },
          "metadata": {}
        },
        {
          "output_type": "display_data",
          "data": {
            "text/plain": [
              "<Figure size 640x480 with 1 Axes>"
            ],
            "image/png": "[encoded data removed]"
          },
          "metadata": {}
        }
      ]
    },
    {
      "cell_type": "code",
      "source": [
        "!zip -r /content/Tomato_MobileNetV2_model1_Based_Non_Augmented.zip /content/Tomato_MobileNetV2_model1_Based_Non_Augmented"
      ],
      "metadata": {
        "colab": {
          "base_uri": "https://localhost:8080/"
        },
        "id": "ViSIPIIA14hn",
        "outputId": "fca7e6e5-a6a9-4ce8-937f-29e44df394a3"
      },
      "execution_count": 19,
      "outputs": [
        {
          "output_type": "stream",
          "name": "stdout",
          "text": [
            "  adding: content/Tomato_MobileNetV2_model1_Based_Non_Augmented/ (stored 0%)\n",
            "  adding: content/Tomato_MobileNetV2_model1_Based_Non_Augmented/keras_metadata.pb (deflated 96%)\n",
            "  adding: content/Tomato_MobileNetV2_model1_Based_Non_Augmented/fingerprint.pb (stored 0%)\n",
            "  adding: content/Tomato_MobileNetV2_model1_Based_Non_Augmented/variables/ (stored 0%)\n",
            "  adding: content/Tomato_MobileNetV2_model1_Based_Non_Augmented/variables/variables.data-00000-of-00001 (deflated 10%)\n",
            "  adding: content/Tomato_MobileNetV2_model1_Based_Non_Augmented/variables/variables.index (deflated 77%)\n",
            "  adding: content/Tomato_MobileNetV2_model1_Based_Non_Augmented/assets/ (stored 0%)\n",
            "  adding: content/Tomato_MobileNetV2_model1_Based_Non_Augmented/saved_model.pb (deflated 91%)\n"
          ]
        }
      ]
    },
    {
      "cell_type": "markdown",
      "source": [],
      "metadata": {
        "id": "dGWISxbj14Hh"
      }
    },
    {
      "cell_type": "code",
      "source": [
        "# Difine the callbacks\n",
        "# Save the best model\n",
        "checkpoint_callback = ModelCheckpoint(filepath=\"Tomato_MobileNetV2_model2_Based_Non_Augmented\", save_best_only=True, monitor=\"val_accuracy\", mode=\"max\", verbose=1)\n",
        "\n",
        "# Early stopping\n",
        "early_stopping_callback = EarlyStopping(monitor=\"val_accuracy\", mode=\"max\", patience=20, verbose=1, restore_best_weights=True)\n",
        "\n",
        "# Reduce learning rate\n",
        "reduce_lr_callback = ReduceLROnPlateau(monitor=\"val_loss\", factor=0.1, patience=5, verbose=1, mode=\"min\", min_delta=0.0001, cooldown=0, min_lr=0)\n",
        "\n",
        "# Callbacks list\n",
        "callbacks=[checkpoint_callback, early_stopping_callback, reduce_lr_callback]"
      ],
      "metadata": {
        "id": "YnWZRBrG16dz"
      },
      "execution_count": 20,
      "outputs": []
    },
    {
      "cell_type": "code",
      "source": [
        "# Define DIY Model\n",
        "MobileNetV2_model_2 = tf.keras.models.Sequential([\n",
        "    # MobileNetV2 Layer\n",
        "    MobileNetV2(include_top=False,weights='imagenet',input_shape=(224, 224, 3)),\n",
        "    # Global Average Pooling Layer\n",
        "    tf.keras.layers.GlobalAveragePooling2D(),\n",
        "    # Drop Out Layer\n",
        "    tf.keras.layers.Dropout(0.2),\n",
        "    # 256 neuron hidden layer\n",
        "    tf.keras.layers.Dense(256, activation='relu'),\n",
        "    # Output\n",
        "    tf.keras.layers.Dense(9, activation='softmax') \n",
        "  ])\n",
        "\n",
        "\n",
        "# Compile Model\n",
        "MobileNetV2_model_2.compile(loss='categorical_crossentropy',optimizer=tf.keras.optimizers.Adam(), metrics=['accuracy']) \n",
        "\n",
        "# Model Summary\n",
        "MobileNetV2_model_2.summary()"
      ],
      "metadata": {
        "colab": {
          "base_uri": "https://localhost:8080/"
        },
        "id": "qdkS2eut16R2",
        "outputId": "c0c687e1-5fc1-44ff-9e8e-85bfc636fd2c"
      },
      "execution_count": 22,
      "outputs": [
        {
          "output_type": "stream",
          "name": "stdout",
          "text": [
            "Model: \"sequential_2\"\n",
            "_________________________________________________________________\n",
            " Layer (type)                Output Shape              Param #   \n",
            "=================================================================\n",
            " mobilenetv2_1.00_224 (Funct  (None, 7, 7, 1280)       2257984   \n",
            " ional)                                                          \n",
            "                                                                 \n",
            " global_average_pooling2d_1   (None, 1280)             0         \n",
            " (GlobalAveragePooling2D)                                        \n",
            "                                                                 \n",
            " dropout_2 (Dropout)         (None, 1280)              0         \n",
            "                                                                 \n",
            " dense_4 (Dense)             (None, 256)               327936    \n",
            "                                                                 \n",
            " dense_5 (Dense)             (None, 9)                 2313      \n",
            "                                                                 \n",
            "=================================================================\n",
            "Total params: 2,588,233\n",
            "Trainable params: 2,554,121\n",
            "Non-trainable params: 34,112\n",
            "_________________________________________________________________\n"
          ]
        }
      ]
    },
    {
      "cell_type": "code",
      "source": [
        "# Define the number of epochs\n",
        "num_epochs = 100\n",
        "\n",
        "# Train the model\n",
        "history_MobileNetV2_model_2 = MobileNetV2_model_2.fit(train_generator, epochs=num_epochs, validation_data=validation_generator, callbacks=callbacks)"
      ],
      "metadata": {
        "colab": {
          "base_uri": "https://localhost:8080/"
        },
        "id": "gndi56Lp16K9",
        "outputId": "42ffc836-3a63-4ebe-a402-919f9284845f"
      },
      "execution_count": 23,
      "outputs": [
        {
          "output_type": "stream",
          "name": "stdout",
          "text": [
            "Epoch 1/100\n",
            "860/860 [==============================] - ETA: 0s - loss: 0.4599 - accuracy: 0.8543\n",
            "Epoch 1: val_accuracy improved from -inf to 0.43126, saving model to Tomato_MobileNetV2_model2_Based_Non_Augmented\n"
          ]
        },
        {
          "output_type": "stream",
          "name": "stderr",
          "text": [
            "WARNING:absl:Function `_wrapped_model` contains input name(s) mobilenetv2_1.00_224_input with unsupported characters which will be renamed to mobilenetv2_1_00_224_input in the SavedModel.\n",
            "WARNING:absl:Found untraced functions such as _jit_compiled_convolution_op, _jit_compiled_convolution_op, _jit_compiled_convolution_op, _jit_compiled_convolution_op, _jit_compiled_convolution_op while saving (showing 5 of 52). These functions will not be directly callable after loading.\n"
          ]
        },
        {
          "output_type": "stream",
          "name": "stdout",
          "text": [
            "\b\b\b\b\b\b\b\b\b\b\b\b\b\b\b\b\b\b\b\b\b\b\b\b\b\b\b\b\b\b\b\b\b\b\b\b\b\b\b\b\b\b\b\b\b\b\b\b\b\b\b\b\b\b\b\b\b\b\b\b\b\b\b\b\b\b\b\b\b\b\b\b\b\b\b\b\b\b\b\b\b\b\b\b\r860/860 [==============================] - 164s 158ms/step - loss: 0.4599 - accuracy: 0.8543 - val_loss: 4.2358 - val_accuracy: 0.4313 - lr: 0.0010\n",
            "Epoch 2/100\n",
            "860/860 [==============================] - ETA: 0s - loss: 0.2394 - accuracy: 0.9245\n",
            "Epoch 2: val_accuracy improved from 0.43126 to 0.46414, saving model to Tomato_MobileNetV2_model2_Based_Non_Augmented\n"
          ]
        },
        {
          "output_type": "stream",
          "name": "stderr",
          "text": [
            "WARNING:absl:Function `_wrapped_model` contains input name(s) mobilenetv2_1.00_224_input with unsupported characters which will be renamed to mobilenetv2_1_00_224_input in the SavedModel.\n",
            "WARNING:absl:Found untraced functions such as _jit_compiled_convolution_op, _jit_compiled_convolution_op, _jit_compiled_convolution_op, _jit_compiled_convolution_op, _jit_compiled_convolution_op while saving (showing 5 of 52). These functions will not be directly callable after loading.\n"
          ]
        },
        {
          "output_type": "stream",
          "name": "stdout",
          "text": [
            "\b\b\b\b\b\b\b\b\b\b\b\b\b\b\b\b\b\b\b\b\b\b\b\b\b\b\b\b\b\b\b\b\b\b\b\b\b\b\b\b\b\b\b\b\b\b\b\b\b\b\b\b\b\b\b\b\b\b\b\b\b\b\b\b\b\b\b\b\b\b\b\b\b\b\b\b\b\b\b\b\b\b\b\b\r860/860 [==============================] - 123s 143ms/step - loss: 0.2394 - accuracy: 0.9245 - val_loss: 3.4166 - val_accuracy: 0.4641 - lr: 0.0010\n",
            "Epoch 3/100\n",
            "860/860 [==============================] - ETA: 0s - loss: 0.1953 - accuracy: 0.9381\n",
            "Epoch 3: val_accuracy did not improve from 0.46414\n",
            "860/860 [==============================] - 100s 116ms/step - loss: 0.1953 - accuracy: 0.9381 - val_loss: 4.9929 - val_accuracy: 0.4627 - lr: 0.0010\n",
            "Epoch 4/100\n",
            "860/860 [==============================] - ETA: 0s - loss: 0.1749 - accuracy: 0.9435\n",
            "Epoch 4: val_accuracy improved from 0.46414 to 0.73338, saving model to Tomato_MobileNetV2_model2_Based_Non_Augmented\n"
          ]
        },
        {
          "output_type": "stream",
          "name": "stderr",
          "text": [
            "WARNING:absl:Function `_wrapped_model` contains input name(s) mobilenetv2_1.00_224_input with unsupported characters which will be renamed to mobilenetv2_1_00_224_input in the SavedModel.\n",
            "WARNING:absl:Found untraced functions such as _jit_compiled_convolution_op, _jit_compiled_convolution_op, _jit_compiled_convolution_op, _jit_compiled_convolution_op, _jit_compiled_convolution_op while saving (showing 5 of 52). These functions will not be directly callable after loading.\n"
          ]
        },
        {
          "output_type": "stream",
          "name": "stdout",
          "text": [
            "\b\b\b\b\b\b\b\b\b\b\b\b\b\b\b\b\b\b\b\b\b\b\b\b\b\b\b\b\b\b\b\b\b\b\b\b\b\b\b\b\b\b\b\b\b\b\b\b\b\b\b\b\b\b\b\b\b\b\b\b\b\b\b\b\b\b\b\b\b\b\b\b\b\b\b\b\b\b\b\b\b\b\b\b\r860/860 [==============================] - 123s 144ms/step - loss: 0.1749 - accuracy: 0.9435 - val_loss: 1.3918 - val_accuracy: 0.7334 - lr: 0.0010\n",
            "Epoch 5/100\n",
            "860/860 [==============================] - ETA: 0s - loss: 0.1606 - accuracy: 0.9481\n",
            "Epoch 5: val_accuracy improved from 0.73338 to 0.87229, saving model to Tomato_MobileNetV2_model2_Based_Non_Augmented\n"
          ]
        },
        {
          "output_type": "stream",
          "name": "stderr",
          "text": [
            "WARNING:absl:Function `_wrapped_model` contains input name(s) mobilenetv2_1.00_224_input with unsupported characters which will be renamed to mobilenetv2_1_00_224_input in the SavedModel.\n",
            "WARNING:absl:Found untraced functions such as _jit_compiled_convolution_op, _jit_compiled_convolution_op, _jit_compiled_convolution_op, _jit_compiled_convolution_op, _jit_compiled_convolution_op while saving (showing 5 of 52). These functions will not be directly callable after loading.\n"
          ]
        },
        {
          "output_type": "stream",
          "name": "stdout",
          "text": [
            "\b\b\b\b\b\b\b\b\b\b\b\b\b\b\b\b\b\b\b\b\b\b\b\b\b\b\b\b\b\b\b\b\b\b\b\b\b\b\b\b\b\b\b\b\b\b\b\b\b\b\b\b\b\b\b\b\b\b\b\b\b\b\b\b\b\b\b\b\b\b\b\b\b\b\b\b\b\b\b\b\b\b\b\b\r860/860 [==============================] - 124s 144ms/step - loss: 0.1606 - accuracy: 0.9481 - val_loss: 0.6218 - val_accuracy: 0.8723 - lr: 0.0010\n",
            "Epoch 6/100\n",
            "860/860 [==============================] - ETA: 0s - loss: 0.1504 - accuracy: 0.9513\n",
            "Epoch 6: val_accuracy did not improve from 0.87229\n",
            "860/860 [==============================] - 100s 116ms/step - loss: 0.1504 - accuracy: 0.9513 - val_loss: 1.6310 - val_accuracy: 0.7041 - lr: 0.0010\n",
            "Epoch 7/100\n",
            "860/860 [==============================] - ETA: 0s - loss: 0.1282 - accuracy: 0.9580\n",
            "Epoch 7: val_accuracy did not improve from 0.87229\n",
            "860/860 [==============================] - 100s 116ms/step - loss: 0.1282 - accuracy: 0.9580 - val_loss: 1.9200 - val_accuracy: 0.7682 - lr: 0.0010\n",
            "Epoch 8/100\n",
            "860/860 [==============================] - ETA: 0s - loss: 0.1349 - accuracy: 0.9566\n",
            "Epoch 8: val_accuracy did not improve from 0.87229\n",
            "860/860 [==============================] - 100s 116ms/step - loss: 0.1349 - accuracy: 0.9566 - val_loss: 2.7066 - val_accuracy: 0.6281 - lr: 0.0010\n",
            "Epoch 9/100\n",
            "860/860 [==============================] - ETA: 0s - loss: 0.1100 - accuracy: 0.9624\n",
            "Epoch 9: val_accuracy did not improve from 0.87229\n",
            "860/860 [==============================] - 108s 125ms/step - loss: 0.1100 - accuracy: 0.9624 - val_loss: 2.0498 - val_accuracy: 0.6145 - lr: 0.0010\n",
            "Epoch 10/100\n",
            "860/860 [==============================] - ETA: 0s - loss: 0.1228 - accuracy: 0.9612\n",
            "Epoch 10: val_accuracy did not improve from 0.87229\n",
            "\n",
            "Epoch 10: ReduceLROnPlateau reducing learning rate to 0.00010000000474974513.\n",
            "860/860 [==============================] - 109s 127ms/step - loss: 0.1228 - accuracy: 0.9612 - val_loss: 1.5987 - val_accuracy: 0.6898 - lr: 0.0010\n",
            "Epoch 11/100\n",
            "860/860 [==============================] - ETA: 0s - loss: 0.0618 - accuracy: 0.9780\n",
            "Epoch 11: val_accuracy improved from 0.87229 to 0.97736, saving model to Tomato_MobileNetV2_model2_Based_Non_Augmented\n"
          ]
        },
        {
          "output_type": "stream",
          "name": "stderr",
          "text": [
            "WARNING:absl:Function `_wrapped_model` contains input name(s) mobilenetv2_1.00_224_input with unsupported characters which will be renamed to mobilenetv2_1_00_224_input in the SavedModel.\n",
            "WARNING:absl:Found untraced functions such as _jit_compiled_convolution_op, _jit_compiled_convolution_op, _jit_compiled_convolution_op, _jit_compiled_convolution_op, _jit_compiled_convolution_op while saving (showing 5 of 52). These functions will not be directly callable after loading.\n"
          ]
        },
        {
          "output_type": "stream",
          "name": "stdout",
          "text": [
            "\b\b\b\b\b\b\b\b\b\b\b\b\b\b\b\b\b\b\b\b\b\b\b\b\b\b\b\b\b\b\b\b\b\b\b\b\b\b\b\b\b\b\b\b\b\b\b\b\b\b\b\b\b\b\b\b\b\b\b\b\b\b\b\b\b\b\b\b\b\b\b\b\b\b\b\b\b\b\b\b\b\b\b\b\r860/860 [==============================] - 124s 145ms/step - loss: 0.0618 - accuracy: 0.9780 - val_loss: 0.0826 - val_accuracy: 0.9774 - lr: 1.0000e-04\n",
            "Epoch 12/100\n",
            "860/860 [==============================] - ETA: 0s - loss: 0.0452 - accuracy: 0.9828\n",
            "Epoch 12: val_accuracy improved from 0.97736 to 0.98737, saving model to Tomato_MobileNetV2_model2_Based_Non_Augmented\n"
          ]
        },
        {
          "output_type": "stream",
          "name": "stderr",
          "text": [
            "WARNING:absl:Function `_wrapped_model` contains input name(s) mobilenetv2_1.00_224_input with unsupported characters which will be renamed to mobilenetv2_1_00_224_input in the SavedModel.\n",
            "WARNING:absl:Found untraced functions such as _jit_compiled_convolution_op, _jit_compiled_convolution_op, _jit_compiled_convolution_op, _jit_compiled_convolution_op, _jit_compiled_convolution_op while saving (showing 5 of 52). These functions will not be directly callable after loading.\n"
          ]
        },
        {
          "output_type": "stream",
          "name": "stdout",
          "text": [
            "\b\b\b\b\b\b\b\b\b\b\b\b\b\b\b\b\b\b\b\b\b\b\b\b\b\b\b\b\b\b\b\b\b\b\b\b\b\b\b\b\b\b\b\b\b\b\b\b\b\b\b\b\b\b\b\b\b\b\b\b\b\b\b\b\b\b\b\b\b\b\b\b\b\b\b\b\b\b\b\b\b\b\b\b\r860/860 [==============================] - 124s 144ms/step - loss: 0.0452 - accuracy: 0.9828 - val_loss: 0.0399 - val_accuracy: 0.9874 - lr: 1.0000e-04\n",
            "Epoch 13/100\n",
            "860/860 [==============================] - ETA: 0s - loss: 0.0407 - accuracy: 0.9846\n",
            "Epoch 13: val_accuracy improved from 0.98737 to 0.98904, saving model to Tomato_MobileNetV2_model2_Based_Non_Augmented\n"
          ]
        },
        {
          "output_type": "stream",
          "name": "stderr",
          "text": [
            "WARNING:absl:Function `_wrapped_model` contains input name(s) mobilenetv2_1.00_224_input with unsupported characters which will be renamed to mobilenetv2_1_00_224_input in the SavedModel.\n",
            "WARNING:absl:Found untraced functions such as _jit_compiled_convolution_op, _jit_compiled_convolution_op, _jit_compiled_convolution_op, _jit_compiled_convolution_op, _jit_compiled_convolution_op while saving (showing 5 of 52). These functions will not be directly callable after loading.\n"
          ]
        },
        {
          "output_type": "stream",
          "name": "stdout",
          "text": [
            "\b\b\b\b\b\b\b\b\b\b\b\b\b\b\b\b\b\b\b\b\b\b\b\b\b\b\b\b\b\b\b\b\b\b\b\b\b\b\b\b\b\b\b\b\b\b\b\b\b\b\b\b\b\b\b\b\b\b\b\b\b\b\b\b\b\b\b\b\b\b\b\b\b\b\b\b\b\b\b\b\b\b\b\b\r860/860 [==============================] - 124s 144ms/step - loss: 0.0407 - accuracy: 0.9846 - val_loss: 0.0334 - val_accuracy: 0.9890 - lr: 1.0000e-04\n",
            "Epoch 14/100\n",
            "860/860 [==============================] - ETA: 0s - loss: 0.0337 - accuracy: 0.9869\n",
            "Epoch 14: val_accuracy improved from 0.98904 to 0.98928, saving model to Tomato_MobileNetV2_model2_Based_Non_Augmented\n"
          ]
        },
        {
          "output_type": "stream",
          "name": "stderr",
          "text": [
            "WARNING:absl:Function `_wrapped_model` contains input name(s) mobilenetv2_1.00_224_input with unsupported characters which will be renamed to mobilenetv2_1_00_224_input in the SavedModel.\n",
            "WARNING:absl:Found untraced functions such as _jit_compiled_convolution_op, _jit_compiled_convolution_op, _jit_compiled_convolution_op, _jit_compiled_convolution_op, _jit_compiled_convolution_op while saving (showing 5 of 52). These functions will not be directly callable after loading.\n"
          ]
        },
        {
          "output_type": "stream",
          "name": "stdout",
          "text": [
            "\b\b\b\b\b\b\b\b\b\b\b\b\b\b\b\b\b\b\b\b\b\b\b\b\b\b\b\b\b\b\b\b\b\b\b\b\b\b\b\b\b\b\b\b\b\b\b\b\b\b\b\b\b\b\b\b\b\b\b\b\b\b\b\b\b\b\b\b\b\b\b\b\b\b\b\b\b\b\b\b\b\b\b\b\r860/860 [==============================] - 123s 144ms/step - loss: 0.0337 - accuracy: 0.9869 - val_loss: 0.0372 - val_accuracy: 0.9893 - lr: 1.0000e-04\n",
            "Epoch 15/100\n",
            "860/860 [==============================] - ETA: 0s - loss: 0.0318 - accuracy: 0.9878\n",
            "Epoch 15: val_accuracy did not improve from 0.98928\n",
            "860/860 [==============================] - 100s 116ms/step - loss: 0.0318 - accuracy: 0.9878 - val_loss: 0.0379 - val_accuracy: 0.9883 - lr: 1.0000e-04\n",
            "Epoch 16/100\n",
            "860/860 [==============================] - ETA: 0s - loss: 0.0262 - accuracy: 0.9905\n",
            "Epoch 16: val_accuracy did not improve from 0.98928\n",
            "860/860 [==============================] - 99s 115ms/step - loss: 0.0262 - accuracy: 0.9905 - val_loss: 0.0505 - val_accuracy: 0.9845 - lr: 1.0000e-04\n",
            "Epoch 17/100\n",
            "860/860 [==============================] - ETA: 0s - loss: 0.0218 - accuracy: 0.9921\n",
            "Epoch 17: val_accuracy improved from 0.98928 to 0.98975, saving model to Tomato_MobileNetV2_model2_Based_Non_Augmented\n"
          ]
        },
        {
          "output_type": "stream",
          "name": "stderr",
          "text": [
            "WARNING:absl:Function `_wrapped_model` contains input name(s) mobilenetv2_1.00_224_input with unsupported characters which will be renamed to mobilenetv2_1_00_224_input in the SavedModel.\n",
            "WARNING:absl:Found untraced functions such as _jit_compiled_convolution_op, _jit_compiled_convolution_op, _jit_compiled_convolution_op, _jit_compiled_convolution_op, _jit_compiled_convolution_op while saving (showing 5 of 52). These functions will not be directly callable after loading.\n"
          ]
        },
        {
          "output_type": "stream",
          "name": "stdout",
          "text": [
            "\b\b\b\b\b\b\b\b\b\b\b\b\b\b\b\b\b\b\b\b\b\b\b\b\b\b\b\b\b\b\b\b\b\b\b\b\b\b\b\b\b\b\b\b\b\b\b\b\b\b\b\b\b\b\b\b\b\b\b\b\b\b\b\b\b\b\b\b\b\b\b\b\b\b\b\b\b\b\b\b\b\b\b\b\r860/860 [==============================] - 124s 144ms/step - loss: 0.0218 - accuracy: 0.9921 - val_loss: 0.0409 - val_accuracy: 0.9898 - lr: 1.0000e-04\n",
            "Epoch 18/100\n",
            "860/860 [==============================] - ETA: 0s - loss: 0.0204 - accuracy: 0.9933\n",
            "Epoch 18: val_accuracy did not improve from 0.98975\n",
            "\n",
            "Epoch 18: ReduceLROnPlateau reducing learning rate to 1.0000000474974514e-05.\n",
            "860/860 [==============================] - 100s 116ms/step - loss: 0.0204 - accuracy: 0.9933 - val_loss: 0.0469 - val_accuracy: 0.9888 - lr: 1.0000e-04\n",
            "Epoch 19/100\n",
            "860/860 [==============================] - ETA: 0s - loss: 0.0160 - accuracy: 0.9946\n",
            "Epoch 19: val_accuracy did not improve from 0.98975\n",
            "860/860 [==============================] - 100s 117ms/step - loss: 0.0160 - accuracy: 0.9946 - val_loss: 0.0414 - val_accuracy: 0.9898 - lr: 1.0000e-05\n",
            "Epoch 20/100\n",
            "860/860 [==============================] - ETA: 0s - loss: 0.0146 - accuracy: 0.9956\n",
            "Epoch 20: val_accuracy did not improve from 0.98975\n",
            "860/860 [==============================] - 100s 117ms/step - loss: 0.0146 - accuracy: 0.9956 - val_loss: 0.0412 - val_accuracy: 0.9898 - lr: 1.0000e-05\n",
            "Epoch 21/100\n",
            "860/860 [==============================] - ETA: 0s - loss: 0.0138 - accuracy: 0.9956\n",
            "Epoch 21: val_accuracy improved from 0.98975 to 0.99047, saving model to Tomato_MobileNetV2_model2_Based_Non_Augmented\n"
          ]
        },
        {
          "output_type": "stream",
          "name": "stderr",
          "text": [
            "WARNING:absl:Function `_wrapped_model` contains input name(s) mobilenetv2_1.00_224_input with unsupported characters which will be renamed to mobilenetv2_1_00_224_input in the SavedModel.\n",
            "WARNING:absl:Found untraced functions such as _jit_compiled_convolution_op, _jit_compiled_convolution_op, _jit_compiled_convolution_op, _jit_compiled_convolution_op, _jit_compiled_convolution_op while saving (showing 5 of 52). These functions will not be directly callable after loading.\n"
          ]
        },
        {
          "output_type": "stream",
          "name": "stdout",
          "text": [
            "\b\b\b\b\b\b\b\b\b\b\b\b\b\b\b\b\b\b\b\b\b\b\b\b\b\b\b\b\b\b\b\b\b\b\b\b\b\b\b\b\b\b\b\b\b\b\b\b\b\b\b\b\b\b\b\b\b\b\b\b\b\b\b\b\b\b\b\b\b\b\b\b\b\b\b\b\b\b\b\b\b\b\b\b\r860/860 [==============================] - 124s 144ms/step - loss: 0.0138 - accuracy: 0.9956 - val_loss: 0.0418 - val_accuracy: 0.9905 - lr: 1.0000e-05\n",
            "Epoch 22/100\n",
            "860/860 [==============================] - ETA: 0s - loss: 0.0124 - accuracy: 0.9960\n",
            "Epoch 22: val_accuracy did not improve from 0.99047\n",
            "860/860 [==============================] - 100s 117ms/step - loss: 0.0124 - accuracy: 0.9960 - val_loss: 0.0421 - val_accuracy: 0.9893 - lr: 1.0000e-05\n",
            "Epoch 23/100\n",
            "860/860 [==============================] - ETA: 0s - loss: 0.0114 - accuracy: 0.9963\n",
            "Epoch 23: val_accuracy did not improve from 0.99047\n",
            "\n",
            "Epoch 23: ReduceLROnPlateau reducing learning rate to 1.0000000656873453e-06.\n",
            "860/860 [==============================] - 101s 117ms/step - loss: 0.0114 - accuracy: 0.9963 - val_loss: 0.0428 - val_accuracy: 0.9895 - lr: 1.0000e-05\n",
            "Epoch 24/100\n",
            "860/860 [==============================] - ETA: 0s - loss: 0.0122 - accuracy: 0.9966\n",
            "Epoch 24: val_accuracy did not improve from 0.99047\n",
            "860/860 [==============================] - 100s 116ms/step - loss: 0.0122 - accuracy: 0.9966 - val_loss: 0.0431 - val_accuracy: 0.9895 - lr: 1.0000e-06\n",
            "Epoch 25/100\n",
            "860/860 [==============================] - ETA: 0s - loss: 0.0102 - accuracy: 0.9971\n",
            "Epoch 25: val_accuracy did not improve from 0.99047\n",
            "860/860 [==============================] - 101s 117ms/step - loss: 0.0102 - accuracy: 0.9971 - val_loss: 0.0433 - val_accuracy: 0.9895 - lr: 1.0000e-06\n",
            "Epoch 26/100\n",
            "860/860 [==============================] - ETA: 0s - loss: 0.0113 - accuracy: 0.9964\n",
            "Epoch 26: val_accuracy did not improve from 0.99047\n",
            "860/860 [==============================] - 100s 117ms/step - loss: 0.0113 - accuracy: 0.9964 - val_loss: 0.0434 - val_accuracy: 0.9895 - lr: 1.0000e-06\n",
            "Epoch 27/100\n",
            "860/860 [==============================] - ETA: 0s - loss: 0.0109 - accuracy: 0.9968\n",
            "Epoch 27: val_accuracy did not improve from 0.99047\n",
            "860/860 [==============================] - 101s 117ms/step - loss: 0.0109 - accuracy: 0.9968 - val_loss: 0.0434 - val_accuracy: 0.9895 - lr: 1.0000e-06\n",
            "Epoch 28/100\n",
            "860/860 [==============================] - ETA: 0s - loss: 0.0108 - accuracy: 0.9964\n",
            "Epoch 28: val_accuracy did not improve from 0.99047\n",
            "\n",
            "Epoch 28: ReduceLROnPlateau reducing learning rate to 1.0000001111620805e-07.\n",
            "860/860 [==============================] - 100s 116ms/step - loss: 0.0108 - accuracy: 0.9964 - val_loss: 0.0434 - val_accuracy: 0.9895 - lr: 1.0000e-06\n",
            "Epoch 29/100\n",
            "860/860 [==============================] - ETA: 0s - loss: 0.0109 - accuracy: 0.9969\n",
            "Epoch 29: val_accuracy did not improve from 0.99047\n",
            "860/860 [==============================] - 101s 118ms/step - loss: 0.0109 - accuracy: 0.9969 - val_loss: 0.0434 - val_accuracy: 0.9895 - lr: 1.0000e-07\n",
            "Epoch 30/100\n",
            "860/860 [==============================] - ETA: 0s - loss: 0.0105 - accuracy: 0.9965\n",
            "Epoch 30: val_accuracy did not improve from 0.99047\n",
            "860/860 [==============================] - 101s 117ms/step - loss: 0.0105 - accuracy: 0.9965 - val_loss: 0.0434 - val_accuracy: 0.9895 - lr: 1.0000e-07\n",
            "Epoch 31/100\n",
            "860/860 [==============================] - ETA: 0s - loss: 0.0111 - accuracy: 0.9965\n",
            "Epoch 31: val_accuracy did not improve from 0.99047\n",
            "860/860 [==============================] - 101s 117ms/step - loss: 0.0111 - accuracy: 0.9965 - val_loss: 0.0435 - val_accuracy: 0.9895 - lr: 1.0000e-07\n",
            "Epoch 32/100\n",
            "860/860 [==============================] - ETA: 0s - loss: 0.0112 - accuracy: 0.9966\n",
            "Epoch 32: val_accuracy did not improve from 0.99047\n",
            "860/860 [==============================] - 101s 118ms/step - loss: 0.0112 - accuracy: 0.9966 - val_loss: 0.0434 - val_accuracy: 0.9895 - lr: 1.0000e-07\n",
            "Epoch 33/100\n",
            "860/860 [==============================] - ETA: 0s - loss: 0.0107 - accuracy: 0.9967\n",
            "Epoch 33: val_accuracy did not improve from 0.99047\n",
            "\n",
            "Epoch 33: ReduceLROnPlateau reducing learning rate to 1.000000082740371e-08.\n",
            "860/860 [==============================] - 101s 117ms/step - loss: 0.0107 - accuracy: 0.9967 - val_loss: 0.0434 - val_accuracy: 0.9895 - lr: 1.0000e-07\n",
            "Epoch 34/100\n",
            "860/860 [==============================] - ETA: 0s - loss: 0.0106 - accuracy: 0.9967\n",
            "Epoch 34: val_accuracy did not improve from 0.99047\n",
            "860/860 [==============================] - 102s 118ms/step - loss: 0.0106 - accuracy: 0.9967 - val_loss: 0.0434 - val_accuracy: 0.9895 - lr: 1.0000e-08\n",
            "Epoch 35/100\n",
            "860/860 [==============================] - ETA: 0s - loss: 0.0109 - accuracy: 0.9967\n",
            "Epoch 35: val_accuracy did not improve from 0.99047\n",
            "860/860 [==============================] - 102s 118ms/step - loss: 0.0109 - accuracy: 0.9967 - val_loss: 0.0435 - val_accuracy: 0.9895 - lr: 1.0000e-08\n",
            "Epoch 36/100\n",
            "860/860 [==============================] - ETA: 0s - loss: 0.0118 - accuracy: 0.9965\n",
            "Epoch 36: val_accuracy did not improve from 0.99047\n",
            "860/860 [==============================] - 101s 117ms/step - loss: 0.0118 - accuracy: 0.9965 - val_loss: 0.0435 - val_accuracy: 0.9895 - lr: 1.0000e-08\n",
            "Epoch 37/100\n",
            "860/860 [==============================] - ETA: 0s - loss: 0.0103 - accuracy: 0.9973\n",
            "Epoch 37: val_accuracy did not improve from 0.99047\n",
            "860/860 [==============================] - 110s 128ms/step - loss: 0.0103 - accuracy: 0.9973 - val_loss: 0.0435 - val_accuracy: 0.9895 - lr: 1.0000e-08\n",
            "Epoch 38/100\n",
            "860/860 [==============================] - ETA: 0s - loss: 0.0109 - accuracy: 0.9962\n",
            "Epoch 38: val_accuracy did not improve from 0.99047\n",
            "\n",
            "Epoch 38: ReduceLROnPlateau reducing learning rate to 1.000000082740371e-09.\n",
            "860/860 [==============================] - 101s 117ms/step - loss: 0.0109 - accuracy: 0.9962 - val_loss: 0.0435 - val_accuracy: 0.9895 - lr: 1.0000e-08\n",
            "Epoch 39/100\n",
            "860/860 [==============================] - ETA: 0s - loss: 0.0112 - accuracy: 0.9963\n",
            "Epoch 39: val_accuracy did not improve from 0.99047\n",
            "860/860 [==============================] - 100s 116ms/step - loss: 0.0112 - accuracy: 0.9963 - val_loss: 0.0435 - val_accuracy: 0.9898 - lr: 1.0000e-09\n",
            "Epoch 40/100\n",
            "860/860 [==============================] - ETA: 0s - loss: 0.0114 - accuracy: 0.9965\n",
            "Epoch 40: val_accuracy did not improve from 0.99047\n",
            "860/860 [==============================] - 109s 127ms/step - loss: 0.0114 - accuracy: 0.9965 - val_loss: 0.0435 - val_accuracy: 0.9895 - lr: 1.0000e-09\n",
            "Epoch 41/100\n",
            "860/860 [==============================] - ETA: 0s - loss: 0.0107 - accuracy: 0.9971\n",
            "Epoch 41: val_accuracy did not improve from 0.99047\n",
            "Restoring model weights from the end of the best epoch: 21.\n",
            "860/860 [==============================] - 101s 118ms/step - loss: 0.0107 - accuracy: 0.9971 - val_loss: 0.0435 - val_accuracy: 0.9895 - lr: 1.0000e-09\n",
            "Epoch 41: early stopping\n"
          ]
        }
      ]
    },
    {
      "cell_type": "code",
      "source": [
        "#-----------------------------------------------------------\n",
        "# Retrieve a list of list results on training and test data\n",
        "# sets for each training epoch\n",
        "#-----------------------------------------------------------\n",
        "acc      = history_MobileNetV2_model_2.history['accuracy' ]\n",
        "val_acc  = history_MobileNetV2_model_2.history['val_accuracy' ]\n",
        "loss     = history_MobileNetV2_model_2.history['loss' ]\n",
        "val_loss = history_MobileNetV2_model_2.history['val_loss' ]\n",
        "\n",
        "epochs   = range(len(acc)) # Get number of epochs\n",
        "\n",
        "#------------------------------------------------\n",
        "# Plot training and validation accuracy per epoch\n",
        "#------------------------------------------------\n",
        "plt.plot  (epochs, acc )\n",
        "plt.plot  (epochs, val_acc )\n",
        "plt.title ('Training and validation accuracy MobileNetV2 Model 2')\n",
        "plt.legend(['train', 'val'], loc='upper left')\n",
        "plt.figure()\n",
        "\n",
        "#------------------------------------------------\n",
        "# Plot training and validation loss per epoch\n",
        "#------------------------------------------------\n",
        "plt.plot  (epochs, loss)\n",
        "plt.plot  (epochs, val_loss)\n",
        "plt.title ('Training and validation loss MobileNetV2 Model 2')\n",
        "plt.legend(['train', 'val'], loc='upper left')"
      ],
      "metadata": {
        "colab": {
          "base_uri": "https://localhost:8080/",
          "height": 904
        },
        "id": "rEUd7UR316Dv",
        "outputId": "31d91360-da87-4a9c-c864-a0300a6559fd"
      },
      "execution_count": 24,
      "outputs": [
        {
          "output_type": "execute_result",
          "data": {
            "text/plain": [
              "<matplotlib.legend.Legend at 0x7f9c1eb76920>"
            ]
          },
          "metadata": {},
          "execution_count": 24
        },
        {
          "output_type": "display_data",
          "data": {
            "text/plain": [
              "<Figure size 640x480 with 1 Axes>"
            ],
            "image/png": "[encoded data removed]"
          },
          "metadata": {}
        },
        {
          "output_type": "display_data",
          "data": {
            "text/plain": [
              "<Figure size 640x480 with 1 Axes>"
            ],
            "image/png": "[encoded data removed]"
          },
          "metadata": {}
        }
      ]
    },
    {
      "cell_type": "code",
      "source": [
        "!zip -r /content/Tomato_MobileNetV2_model2_Based_Non_Augmented.zip /content/Tomato_MobileNetV2_model2_Based_Non_Augmented"
      ],
      "metadata": {
        "colab": {
          "base_uri": "https://localhost:8080/"
        },
        "id": "VdZpFmRd156m",
        "outputId": "6644d5be-ca2a-49a1-d649-5ea31397d394"
      },
      "execution_count": 25,
      "outputs": [
        {
          "output_type": "stream",
          "name": "stdout",
          "text": [
            "  adding: content/Tomato_MobileNetV2_model2_Based_Non_Augmented/ (stored 0%)\n",
            "  adding: content/Tomato_MobileNetV2_model2_Based_Non_Augmented/keras_metadata.pb (deflated 96%)\n",
            "  adding: content/Tomato_MobileNetV2_model2_Based_Non_Augmented/fingerprint.pb (stored 0%)\n",
            "  adding: content/Tomato_MobileNetV2_model2_Based_Non_Augmented/variables/ (stored 0%)\n",
            "  adding: content/Tomato_MobileNetV2_model2_Based_Non_Augmented/variables/variables.data-00000-of-00001 (deflated 8%)\n",
            "  adding: content/Tomato_MobileNetV2_model2_Based_Non_Augmented/variables/variables.index (deflated 77%)\n",
            "  adding: content/Tomato_MobileNetV2_model2_Based_Non_Augmented/assets/ (stored 0%)\n",
            "  adding: content/Tomato_MobileNetV2_model2_Based_Non_Augmented/saved_model.pb (deflated 91%)\n"
          ]
        }
      ]
    }
  ]
}